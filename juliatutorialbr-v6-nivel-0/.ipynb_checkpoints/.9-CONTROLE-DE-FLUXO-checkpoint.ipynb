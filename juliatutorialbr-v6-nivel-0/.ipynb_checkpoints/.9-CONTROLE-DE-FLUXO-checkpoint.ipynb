{
 "cells": [
  {
   "cell_type": "markdown",
   "metadata": {},
   "source": [
    "# CONTROLE DE FLUXO\n",
    "\n",
    "Um algoritmo,independente da linguagem de programação, visa processar infromações de acordo com regras em um número de passos até sua conclusão. Neste sentido, Böhm & Jacopini (1966, p. 164, apud TUCKER & NOONAN, 2009, p. 164) informa que uma linguagem é completa em relação a Turing se, além do comando de adição, possuir as seguintes estruturas de controle de fluxo: sequência, um comando condicional e um comando de laço. *Julia* fornece algumas estruturas de controle de fluxo:\n",
    "* Expressões compostas\n",
    "* Avaliação de curto-circuito (avaliação mínima ou avaliação de McCarthy)\n",
    "* Estruturas condicionais\n",
    "* Estruturas de repetição\n",
    "* Manipulação de Exceção\n",
    "* Tasks (corotinas)\n",
    "\n",
    "A estrutura de controle sequêncial realiza um conjunto de comandos de ordem sequencial, conforme foram declarados ao longo do código fonte - este tipo de estrutura já está sendo realizada desde o início do livro. "
   ]
  },
  {
   "cell_type": "markdown",
   "metadata": {},
   "source": [
    "## OPERADORES LÓGIGOS "
   ]
  },
  {
   "cell_type": "markdown",
   "metadata": {},
   "source": [
    "Principais operadores lógicos: \n",
    "\n",
    "| Operador   | Nome                      |\n",
    "|------------|---------------------------|\n",
    "| $|$        | disjunção \"OU\"            |\n",
    "| `&`        | conjunção \"E\"             |\n",
    "| `$`        | disjunção exclusiva \"XOR\" |\n",
    "| `~` ou `!` | Negação                   |\n",
    "\n",
    "\n",
    "Uma expressão booleana é verdadeira se o resultado do cálculo das combinações lógicas das expressões booleanas for verdadeiro."
   ]
  },
  {
   "cell_type": "markdown",
   "metadata": {},
   "source": [
    "## EXPRESSÕES COMPOSTAS\n",
    "\n",
    "Uma expressão composta avalia várias subexpressões em ordem e retorna o valor da última subexpressão. Sintaxe:\n",
    "```julia\n",
    "var = begin\n",
    "    expressão_1\n",
    "    expressão_2\n",
    "    ...\n",
    "    expressão_n\n",
    "end\n",
    "```\n",
    "ou\n",
    "```julia\n",
    "var = (expressão_1; expressão_2;...;expressão_n)\n",
    "```"
   ]
  },
  {
   "cell_type": "code",
   "execution_count": 30,
   "metadata": {
    "collapsed": false
   },
   "outputs": [
    {
     "data": {
      "text/plain": [
       "2-element Array{Float64,1}:\n",
       "  0.44949\n",
       " -4.44949"
      ]
     },
     "execution_count": 30,
     "metadata": {},
     "output_type": "execute_result"
    }
   ],
   "source": [
    "# outra forma. Por padrão, será impresso somente a ultima linha, mas as variáveis internas são acessíveis\n",
    "x = begin\n",
    "    a = 1\n",
    "    b = 4\n",
    "    c = -2\n",
    "    \n",
    "    d = b^2 - 4*a*c\n",
    "    \n",
    "    [(-b + sqrt(d))/2*a, (-b - sqrt(d))/2*a]\n",
    "end"
   ]
  },
  {
   "cell_type": "code",
   "execution_count": 31,
   "metadata": {
    "collapsed": false
   },
   "outputs": [
    {
     "data": {
      "text/plain": [
       "2-element Array{Float64,1}:\n",
       "  0.44949\n",
       " -4.44949"
      ]
     },
     "execution_count": 31,
     "metadata": {},
     "output_type": "execute_result"
    }
   ],
   "source": [
    "# outra forma. Por padrão, será impresso somente a ultima linha, mas as variáveis internas são acessíveis\n",
    "x = (a = 1; b = 4; c = -2; d = b^2 - 4*a*c; [(-b + sqrt(d))/2*a, (-b - sqrt(d))/2*a])"
   ]
  },
  {
   "cell_type": "markdown",
   "metadata": {},
   "source": [
    "## AVALIAÇÃO DE CURTO CIRCUITO\n",
    "\n",
    "A avaliação de curto-circuito é bastante semelhante à avaliação condicional. O comportamento é encontrado na maioria das linguagens de programação imperativas com o && e || Operadores booleanos: em uma série de expressões booleanas conectadas por esses operadores, apenas o número mínimo de expressões é avaliado como necessário para determinar o valor booleano final de toda a cadeia. Explicitamente, isso significa que:\n",
    "\n",
    "     Na expressão a && b, a subexpressão b só é avaliada se a avaliação for verdadeira.\n",
    "\n",
    "     Na expressão a || b, a subexpressão b só é avaliada se a avaliação for falsa.\n",
    "\n",
    "O raciocínio é que um && b deve ser falso se a for falso, independentemente do valor de b, e da mesma forma, o valor de um || b deve ser verdade se a é verdade, independentemente do valor de b. Ambos && e || associar à direita, mas && tem maior precedência do que || faz. É fácil experimentar esse comportamento:"
   ]
  },
  {
   "cell_type": "code",
   "execution_count": null,
   "metadata": {
    "collapsed": true
   },
   "outputs": [],
   "source": []
  },
  {
   "cell_type": "markdown",
   "metadata": {},
   "source": [
    "## ESTRUTURAS DE CONTROLE CONDICIONAIS\n",
    "\n",
    " As estruturas condional ou de seleção, são utilizadas para selecionar quais fluxos de dados serão executados durante a execução de um código. Na linguagem *Julia* temos as estruturas `if` e opcionalmente `switch`."
   ]
  },
  {
   "cell_type": "markdown",
   "metadata": {},
   "source": [
    "### CONDICIONAL \"IF\" (SE)\n",
    "\n",
    "A funlção  `sleep(tempo_segundos)` permite controlar o laço em um determinado tempo em segundos. Sintaxe Básica:\n",
    "\n",
    "Apenas `SE`: ${~~~~~~~~~~~~~~~~~~~~~~~~~~~~~~~~~~~~~}$ `SE .. ENTÃO`:${~~~~~~~~~~~~~~~~~~~~~~~}$ `SE ..SENÃO ... ENTÃO`:\n",
    "```julia\n",
    "if condição                   if condição                if condição\n",
    "   instruções                    instruções                 instruções\n",
    "end                           else                       elseif\n",
    "                                     instruções                 instruções\n",
    "                              end                        elseif\n",
    "                                                               :\n",
    "                                                         else\n",
    "                                                                instruções\n",
    "                                                         end\n",
    "                              \n",
    "```"
   ]
  },
  {
   "cell_type": "markdown",
   "metadata": {},
   "source": [
    "**Implementando Laços IF**"
   ]
  },
  {
   "cell_type": "code",
   "execution_count": 4,
   "metadata": {
    "collapsed": false
   },
   "outputs": [
    {
     "data": {
      "text/plain": [
       "(5, 0)"
      ]
     },
     "execution_count": 4,
     "metadata": {},
     "output_type": "execute_result"
    }
   ],
   "source": [
    "# Definindo os valores aleatórios de X e Y entre 0 e 10\n",
    "x = rand(0:10)\n",
    "y = rand(0:10)\n",
    "\n",
    "x , y"
   ]
  },
  {
   "cell_type": "code",
   "execution_count": 5,
   "metadata": {
    "collapsed": true
   },
   "outputs": [],
   "source": [
    "# se x < y será impresso a mensagem, se ocorrer x > y não será feito nada\n",
    "if x < y\n",
    "    println(\"x é menor que y\")\n",
    "end"
   ]
  },
  {
   "cell_type": "markdown",
   "metadata": {},
   "source": [
    "Melhorando...."
   ]
  },
  {
   "cell_type": "code",
   "execution_count": 6,
   "metadata": {
    "collapsed": false
   },
   "outputs": [
    {
     "name": "stdout",
     "output_type": "stream",
     "text": [
      "x é maior que y .Valor de x: 5 Valor de y: 0\n"
     ]
    }
   ],
   "source": [
    "if x < y\n",
    "    println(\"x é menor que y .\",\"Valor de x: \", x ,\" Valor de y: \",y)\n",
    "else\n",
    "    println(\"x é maior que y .\",\"Valor de x: \", x ,\" Valor de y: \",y)\n",
    "end"
   ]
  },
  {
   "cell_type": "markdown",
   "metadata": {},
   "source": [
    "Melhorando mais...."
   ]
  },
  {
   "cell_type": "code",
   "execution_count": 5,
   "metadata": {
    "collapsed": false,
    "scrolled": true
   },
   "outputs": [
    {
     "name": "stdout",
     "output_type": "stream",
     "text": [
      "x é menor que y . Valor de x: 0 , Valor de y: 2\n"
     ]
    }
   ],
   "source": [
    "if x < y\n",
    "    println(\"x é menor que y . Valor de x: $x , Valor de y: $y\")\n",
    "    \n",
    "elseif x > y\n",
    "    println(\"x é maior que y . Valor de x: $x , Valor de y: $y\")\n",
    "    \n",
    "else\n",
    "    println(\"x é igual que y . Valor de x: $x , Valor de y: $y\")\n",
    "end"
   ]
  },
  {
   "cell_type": "markdown",
   "metadata": {},
   "source": [
    "**Função definida por partes**\n",
    "\n",
    "Em certas circurstâncias, uma função é determinada utilizando-se funções diferentes para diferenes partes de seu domínio. Dada uma função $f(x)$ abaixo, podemos escrever o código que a represente. \n",
    " \n",
    "$~\n",
    "f(x) = \\begin{cases}\n",
    "-x^2 + 2~~,  & \\text{x < 0}\\\\\n",
    "2~~~~~~~~~~~~,  & 0 \\leq  x \\leq 1 \\\\\n",
    "-x + 3~~~,  & x > 1\n",
    "\\end{cases}\n",
    "~$\n",
    "\n",
    "<img src=\"Figuras/funcao-definida-por-partes.png\" alt = \"Função\" align=\"left\" width=\"500\">"
   ]
  },
  {
   "cell_type": "markdown",
   "metadata": {},
   "source": [
    "$~\n",
    "\\begin{pmatrix}\n",
    "\td & d \\\\ \n",
    "\td & d\n",
    "\\end{pmatrix} \n",
    "~$"
   ]
  },
  {
   "cell_type": "code",
   "execution_count": 117,
   "metadata": {
    "collapsed": false
   },
   "outputs": [
    {
     "name": "stdout",
     "output_type": "stream",
     "text": [
      "f(x) = 2"
     ]
    }
   ],
   "source": [
    "x  = rand(-5:5) # número x aleatório\n",
    "\n",
    "if x < 0\n",
    "    print(\"f(x) = -x^2 + 2 = \", -x^2 - 2)\n",
    "    \n",
    "elseif (x >= 0)&(x <= 1)\n",
    "    print(\"f(x) = \", 2)\n",
    "    \n",
    "elseif x > 1\n",
    "    print(\"f(x) = -x + 3 = \", -x + 3)\n",
    "end"
   ]
  },
  {
   "cell_type": "markdown",
   "metadata": {},
   "source": [
    "### CONDICIONAL \"TROCAR\" (SWITCH) \n",
    "\n",
    "Não existe um comando nativo para \"case\" ou \"swith\" na linguagem *Julia*. Pode ser utilizado uma sequencia de `if...elseif...else...end` . A função `sleep(tempo_segundos)` permite controlar o laço em um determinado tempo em segundos. Sintaxe Básica:\n",
    "\n",
    "```julia\n",
    "SE...SENÃO...ELSE                     \n",
    "if variável condição                  \n",
    "    instruções                      \n",
    "    elseif variável condição         \n",
    "        instruções                     \n",
    "    elseif variável condição          \n",
    "        instruções                  \n",
    "    else \t                           \n",
    "        println(\"Não encontrado\")    \n",
    "                                     \n",
    "                                         \n",
    "                                   \n",
    "```\n",
    "\n"
   ]
  },
  {
   "cell_type": "code",
   "execution_count": 171,
   "metadata": {
    "collapsed": false,
    "scrolled": false
   },
   "outputs": [
    {
     "name": "stdout",
     "output_type": "stream",
     "text": [
      "y vale 2\n"
     ]
    }
   ],
   "source": [
    "y = rand(0:4)\n",
    "\n",
    "if  y == 0\n",
    "    print( \"y vale $y\")\n",
    "    \n",
    "elseif y == 1 \n",
    "    println(\"y vale $y\")\n",
    "    \n",
    "elseif y == 2 \n",
    "    println(\"y vale $y\")\n",
    "else\n",
    "    println(\"Não encontrado. Número acima de 2\")\n",
    "end\n"
   ]
  },
  {
   "cell_type": "markdown",
   "metadata": {},
   "source": [
    "### OPERADOR TERNÁRIO\n",
    "\n",
    "O operador ternário **(:?)** está relacionado com a sintaxe `if-elseif-else` e recebe este nome em função de ser o único operador na maioria das linguagens que tomam três operandos: \n",
    "```julia\n",
    "condição ? expressão_1 : expressão_2\n",
    "```\n",
    "\n",
    "A operação ternária efeturá a **\"expressão1\"** antes do **\":\"** se a **\"condição\"** é verdadeira ou a **\"expressão2\"** depois do **\":\"** se \"condição\" for falsa. "
   ]
  },
  {
   "cell_type": "markdown",
   "metadata": {},
   "source": [
    "**Função definida por um intervalo**\n",
    "\n",
    "Dada a função abaixo \n",
    "\n",
    "$~\n",
    "f(x) = \\begin{cases}\n",
    "\\cos(x) & x \\geq 0\\\\\n",
    "1 - e^{-1/x^2} & \\text{x < 0}.\n",
    "\\end{cases}\n",
    "~$"
   ]
  },
  {
   "cell_type": "code",
   "execution_count": 146,
   "metadata": {
    "collapsed": false,
    "scrolled": true
   },
   "outputs": [
    {
     "name": "stdout",
     "output_type": "stream",
     "text": [
      "cos(x) = 0.5403023058681398\n"
     ]
    },
    {
     "data": {
      "text/plain": [
       "0.5403023058681398"
      ]
     },
     "execution_count": 146,
     "metadata": {},
     "output_type": "execute_result"
    }
   ],
   "source": [
    "x = rand(-1:1)\n",
    "\n",
    "x >= 0  ?  @show(cos(x)) : @show(exp(-1/x^2))"
   ]
  },
  {
   "cell_type": "markdown",
   "metadata": {},
   "source": [
    "É possível utilizar o operador ternário de forma composta na forma:\n",
    "\n",
    "```julia\n",
    "condição_1 ? expressão_1 : (condição_2 ? expressão_3 : expressão_4)\n",
    "\n",
    "condição_1 ? (condição_1 ? expressão_2 : expressão_3): expressão_4\n",
    "```"
   ]
  },
  {
   "cell_type": "markdown",
   "metadata": {},
   "source": [
    "## ESTRUTURAS DE CONTROLE DE REPETIÇÃO\n",
    "\n",
    "As estruturas de repetição permitem repetir uma ou conjunto de instruções várias vezes. Todas as linguagens de programação a partir da Plankalkül incluíram algum método de repetir a execução de segmentos de código (SEBESTA, 2011). *Julia* possui as estruturas de repetição `for, while` e `do`. "
   ]
  },
  {
   "cell_type": "markdown",
   "metadata": {},
   "source": [
    "### REPETIÇÃO \"FOR\" \n",
    "\n",
    "Em um laço de repetição `for`, a execução de uma ou grupo de instruções é repetida várias vezes de forma consecutiva até o limite definido por elemento sequencial. A função  `sleep(tempo_segundos)` permite controlar o laço em um determinado tempo em segundos.\n",
    "\n",
    "Sintaxe Básica:\n",
    "```julia\n",
    "for var = lista/vetor/matriz/dicionário/conjunto # pode ser também \"var in\" semelhante ao  python \n",
    "    instruções var\n",
    "end\n",
    "```"
   ]
  },
  {
   "cell_type": "markdown",
   "metadata": {},
   "source": [
    "**Implementando Laços FOR**"
   ]
  },
  {
   "cell_type": "code",
   "execution_count": 16,
   "metadata": {
    "collapsed": false
   },
   "outputs": [
    {
     "name": "stdout",
     "output_type": "stream",
     "text": [
      "Valor da função f(x) = sin(x)*cos(x/2)+x: \n",
      "\n",
      "f(1.0) = 1.7384602626041288\n",
      "f(4.0) = 4.314940964313378\n",
      "f(6.0) = 6.276619246650812\n",
      "f(7.0) = 6.384760506169355\n",
      "f(9.0) = 8.913127154443261\n"
     ]
    }
   ],
   "source": [
    "# Laço FOR aplicado a um VETOR\n",
    "print(\"Valor da função f(x) = sin(x)*cos(x/2)+x: \\n\\n\")\n",
    "x = [1.0, 4.0, 6.0, 7.0, 9.0] \n",
    "\n",
    "for i = 1:length(x)     \n",
    "    println(\"f($(x[i])) = \",sin(x[i])*cos(x[i]/2) + x[i])\n",
    "end"
   ]
  },
  {
   "cell_type": "code",
   "execution_count": 13,
   "metadata": {
    "collapsed": false
   },
   "outputs": [
    {
     "name": "stdout",
     "output_type": "stream",
     "text": [
      "Valor da função f(x) = sin(x)*cos(x/2) + x: \n",
      "\n",
      "f(1.0) = 1.7384602626041288\n",
      "f(2.0) = 2.491295496433882\n",
      "f(3.0) = 3.0099824344694786\n",
      "f(4.0) = 4.314940964313378\n",
      "f(5.0) = 5.768236060439348\n"
     ]
    }
   ],
   "source": [
    "# Laço FOR aplicado a um VETOR\n",
    "print(\"Valor da função f(x) = sin(x)*cos(x/2) + x: \\n\\n\")\n",
    "x = [1.0, 2.0, 3.0, 4.0, 5.0] \n",
    "\n",
    "for i = x  # pode ser também x in     \n",
    "    println(\"f($i) = \",sin(i)*cos(i/2) + i) \n",
    "end"
   ]
  },
  {
   "cell_type": "code",
   "execution_count": 17,
   "metadata": {
    "collapsed": false,
    "scrolled": true
   },
   "outputs": [
    {
     "name": "stdout",
     "output_type": "stream",
     "text": [
      "Valor da função sin(x)*cos(x/2) + x: \n",
      "\n",
      "f(1.0) = 1.7384602626041288\n",
      "f(2.0) = 2.491295496433882\n",
      "f(3.0) = 3.0099824344694786\n",
      "f(4.0) = 4.314940964313378\n",
      "f(5.0) = 5.768236060439348\n"
     ]
    }
   ],
   "source": [
    "# Laço FOR aplicado a um VETOR\n",
    "print(\"Valor da função f(x) = sin(x)*cos(x/2) + x: \\n\\n\")\n",
    "\n",
    "for x = [1.0, 2.0, 3.0, 4.0, 5.0] # pode ser também x in vetor    \n",
    "    println(\"f($x) = \",sin(x)*cos(x/2) + x)   \n",
    "end"
   ]
  },
  {
   "cell_type": "code",
   "execution_count": 18,
   "metadata": {
    "collapsed": false
   },
   "outputs": [
    {
     "name": "stdout",
     "output_type": "stream",
     "text": [
      "Valor da função sin(x)*cos(x/2) + x: \n",
      "\n",
      "f(1.0) = 1.7384602626041288\n",
      "f(2.0) = 2.491295496433882\n",
      "f(3.0) = 3.0099824344694786\n",
      "f(4.0) = 4.314940964313378\n",
      "f(5.0) = 5.768236060439348\n"
     ]
    }
   ],
   "source": [
    "# Laço FOR aplicado a um VETOR e controle de tempo\n",
    "print(\"Valor da função f(x) = sin(x)*cos(x/2) + x: \\n\\n\")\n",
    "\n",
    "for x = [1.0 2.0 3.0 4.0 5.0] # pode ser também x in vetor    \n",
    "    println(\"f($x) = \",sin(x)*cos(x/2) + x)  \n",
    "    sleep(1)                  # atraso de 1s\n",
    "end"
   ]
  },
  {
   "cell_type": "code",
   "execution_count": 19,
   "metadata": {
    "collapsed": false
   },
   "outputs": [
    {
     "name": "stdout",
     "output_type": "stream",
     "text": [
      "Valor da função sin(x)*cos(x/2) + x: \n",
      "\n",
      "f(5) = 5.768236060439348\n",
      "f(4) = 4.314940964313378\n",
      "f(3) = 3.0099824344694786\n",
      "f(2) = 2.491295496433882\n",
      "f(1) = 1.7384602626041288\n"
     ]
    }
   ],
   "source": [
    "# Laço FOR aplicado a um VETOR reverso\n",
    "print(\"Valor da função f(x) = sin(x)*cos(x/2) + x: \\n\\n\")\n",
    "\n",
    "for x = 5:-1:1 # pode ser também x in vetor    \n",
    "    println(\"f($x) = \",sin(x)*cos(x/2) + x)   \n",
    "end"
   ]
  },
  {
   "cell_type": "code",
   "execution_count": 20,
   "metadata": {
    "collapsed": false
   },
   "outputs": [
    {
     "name": "stdout",
     "output_type": "stream",
     "text": [
      "\"Sage\"=>10\n",
      "\"Julia\"=>10\n",
      "\"Scilab\"=>8\n"
     ]
    }
   ],
   "source": [
    "# Laço FOR aplicado a um DICIONÁRIO\n",
    "linguagens = Dict(\"Sage\" => 10, \"Julia\" => 10, \"Scilab\" => 8)\n",
    "\n",
    "for i =  linguagens # ou i in linguagens\n",
    "    println(i)\n",
    "end"
   ]
  },
  {
   "cell_type": "code",
   "execution_count": 21,
   "metadata": {
    "collapsed": false
   },
   "outputs": [
    {
     "name": "stdout",
     "output_type": "stream",
     "text": [
      "Sage é 10\n",
      "Julia é 10\n",
      "Scilab é 8\n"
     ]
    }
   ],
   "source": [
    "for (nome, nota) in linguagens # ou i in linguagens\n",
    "    println(\"$nome é $nota\")\n",
    "end"
   ]
  },
  {
   "cell_type": "code",
   "execution_count": 22,
   "metadata": {
    "collapsed": false,
    "scrolled": true
   },
   "outputs": [
    {
     "name": "stdout",
     "output_type": "stream",
     "text": [
      "elemento da linha 1 coluna 1 é :2\n",
      "elemento da linha 1 coluna 2 é :4\n",
      "elemento da linha 2 coluna 1 é :8\n",
      "elemento da linha 2 coluna 2 é :9\n"
     ]
    }
   ],
   "source": [
    "# Laço FOR aplicado a uma MATRIZ\n",
    "mnum = [2 4;8 9]\n",
    "\n",
    "linhas , colunas = size(mnum)\n",
    "\n",
    "for i = 1:linhas    \n",
    "    for j = 1:colunas        \n",
    "        println(\"elemento da linha $i coluna $j é :\", mnum[i, j])\n",
    "    end\n",
    "end"
   ]
  },
  {
   "cell_type": "markdown",
   "metadata": {},
   "source": [
    "Melhorando...."
   ]
  },
  {
   "cell_type": "code",
   "execution_count": 23,
   "metadata": {
    "collapsed": false
   },
   "outputs": [
    {
     "name": "stdout",
     "output_type": "stream",
     "text": [
      "elemento da linha 1 coluna 1 é :2\n",
      "elemento da linha 1 coluna 2 é :4\n",
      "elemento da linha 2 coluna 1 é :8\n",
      "elemento da linha 2 coluna 2 é :9\n"
     ]
    }
   ],
   "source": [
    "linhas , colunas =  size(mnum)\n",
    "\n",
    "for i = 1:linhas , j = 1:colunas\n",
    "    println(\"elemento da linha $i coluna $j é :\", mnum[i, j])\n",
    "end "
   ]
  },
  {
   "cell_type": "markdown",
   "metadata": {},
   "source": [
    "Agora \"like a Python\""
   ]
  },
  {
   "cell_type": "code",
   "execution_count": 24,
   "metadata": {
    "collapsed": false
   },
   "outputs": [
    {
     "name": "stdout",
     "output_type": "stream",
     "text": [
      "elemento 2\n",
      "elemento 8\n",
      "elemento 4\n",
      "elemento 9\n"
     ]
    }
   ],
   "source": [
    "# lendo os elementos colunas por colunas \n",
    "\n",
    "for i = mnum\n",
    "    println(\"elemento $i\")\n",
    "end"
   ]
  },
  {
   "cell_type": "code",
   "execution_count": 25,
   "metadata": {
    "collapsed": false
   },
   "outputs": [
    {
     "name": "stdout",
     "output_type": "stream",
     "text": [
      "elemento 2\n",
      "elemento 4\n",
      "elemento 8\n",
      "elemento 9\n"
     ]
    }
   ],
   "source": [
    "# lendo os elementos linhas por linhas  (coloque aspas simples para inverter a matriz)\n",
    "\n",
    "for i = mnum'\n",
    "    println(\"elemento $i\")\n",
    "end"
   ]
  },
  {
   "cell_type": "markdown",
   "metadata": {},
   "source": [
    "**Break e Continue **\n",
    "\n",
    "Sintaxe:\n",
    "```julia\n",
    "for var = vetor # pode ser var in \n",
    "    CONDIÇÃO var\n",
    "        continue/break\n",
    "    end\n",
    "end\n",
    "```"
   ]
  },
  {
   "cell_type": "code",
   "execution_count": 26,
   "metadata": {
    "collapsed": false
   },
   "outputs": [
    {
     "name": "stdout",
     "output_type": "stream",
     "text": [
      "3\n",
      "6\n",
      "9\n"
     ]
    }
   ],
   "source": [
    "# para i de 1 até 10,\n",
    "# se o resto da divisão i por 3 for diferente de zero, \n",
    "# então o loop é parado e retorna para o inicio do FOR\n",
    "# e o loop será continuado até o final se o resto for 0\n",
    "\n",
    "for i = 1:10\n",
    "    if i % 3 != 0\n",
    "        continue\n",
    "    end\n",
    "    println(i)\n",
    "end"
   ]
  },
  {
   "cell_type": "code",
   "execution_count": 27,
   "metadata": {
    "collapsed": false,
    "scrolled": true
   },
   "outputs": [
    {
     "name": "stdout",
     "output_type": "stream",
     "text": [
      "1\n",
      "2\n"
     ]
    }
   ],
   "source": [
    "# para i de 1 até 10,\n",
    "# se o resto da divisão i por 3 for igual a zero,então o loop é encerrado\n",
    "\n",
    "for i = 1:10\n",
    "    if i % 3 == 0\n",
    "        break\n",
    "    end\n",
    "    println(i)\n",
    "end"
   ]
  },
  {
   "cell_type": "markdown",
   "metadata": {},
   "source": [
    "**Formas diversas do laço FOR**"
   ]
  },
  {
   "cell_type": "code",
   "execution_count": 28,
   "metadata": {
    "collapsed": false,
    "scrolled": true
   },
   "outputs": [
    {
     "name": "stdout",
     "output_type": "stream",
     "text": [
      "1 * 1 = 1\n",
      "1 * 2 = 2\n",
      "2 * 1 = 2\n",
      "2 * 2 = 4\n"
     ]
    }
   ],
   "source": [
    "for n = 1:2\n",
    "    for m = 1:2\n",
    "        println(\"$n * $m = $(n * m)\")\n",
    "    end\n",
    "end "
   ]
  },
  {
   "cell_type": "code",
   "execution_count": 21,
   "metadata": {
    "collapsed": false,
    "scrolled": true
   },
   "outputs": [
    {
     "name": "stdout",
     "output_type": "stream",
     "text": [
      "1 * 1 = 1\n",
      "1 * 2 = 2\n",
      "2 * 1 = 2\n",
      "2 * 2 = 4\n"
     ]
    }
   ],
   "source": [
    "for n = 1:2, m = 1:2\n",
    "    println(\"$n * $m = $(n * m)\")\n",
    "end "
   ]
  },
  {
   "cell_type": "code",
   "execution_count": 30,
   "metadata": {
    "collapsed": false
   },
   "outputs": [
    {
     "name": "stdout",
     "output_type": "stream",
     "text": [
      "sin(x) * y = 0.8414709848078965\n",
      "sin(x) * y = 1.682941969615793\n",
      "sin(x) * y = 0.9092974268256817\n",
      "sin(x) * y = 1.8185948536513634\n"
     ]
    }
   ],
   "source": [
    "for x = 1:2, y = 1:2\n",
    "    @show (sin(x)*y)\n",
    "end"
   ]
  },
  {
   "cell_type": "code",
   "execution_count": 23,
   "metadata": {
    "collapsed": false,
    "scrolled": false
   },
   "outputs": [
    {
     "name": "stdout",
     "output_type": "stream",
     "text": [
      "1 : julia\n",
      "2 : python\n",
      "3 : sagemath\n",
      "4 : maxima\n",
      "5 : octave\n"
     ]
    }
   ],
   "source": [
    "# (index, value) são nomes obrigatórios para funcionar o laço\n",
    "lista = [\"julia\",\"python\",\"sagemath\",\"maxima\",\"octave\"]\n",
    "\n",
    "for (index, value) =  enumerate(lista) # pode ser (index, value) in\n",
    "           println(\"$index : $value\")\n",
    "end"
   ]
  },
  {
   "cell_type": "code",
   "execution_count": 24,
   "metadata": {
    "collapsed": false,
    "scrolled": true
   },
   "outputs": [
    {
     "name": "stdout",
     "output_type": "stream",
     "text": [
      "A capital do Rio é Rio de Janeiro\n",
      "A capital do Piauí é Teresina\n",
      "A capital do Goiás é Goiânia\n"
     ]
    }
   ],
   "source": [
    "# OA função zip agrupa os vetores Estado e Capital formando um conjunto zip\n",
    "Estado   = [\"Rio\", \"Piauí\", \"Goiás\"]\n",
    "Capital  = [\"Rio de Janeiro\", \"Teresina\", \"Goiânia\"]\n",
    "\n",
    "for (i, j) = zip(Estado, Capital)\n",
    "    println(\"A capital do $i é $j\")\n",
    "end"
   ]
  },
  {
   "cell_type": "markdown",
   "metadata": {},
   "source": [
    "**Calculo e polinômios**\n",
    "\n",
    "```julia\n",
    "@evalpoly var_valor a b c...n\n",
    "```\n",
    "Sendo: \n",
    "* var_valor : valor da variável;\n",
    "* a b c ... n : coeficientes"
   ]
  },
  {
   "cell_type": "code",
   "execution_count": 31,
   "metadata": {
    "collapsed": false,
    "scrolled": true
   },
   "outputs": [
    {
     "data": {
      "text/plain": [
       "1"
      ]
     },
     "execution_count": 31,
     "metadata": {},
     "output_type": "execute_result"
    }
   ],
   "source": [
    "@evalpoly 0 1 2 3"
   ]
  },
  {
   "cell_type": "code",
   "execution_count": 32,
   "metadata": {
    "collapsed": false
   },
   "outputs": [
    {
     "name": "stdout",
     "output_type": "stream",
     "text": [
      "1\n",
      "86\n",
      "4881\n",
      "66\n",
      "121\n",
      "34\n"
     ]
    }
   ],
   "source": [
    "for x = [0, 5, 40, -5, 6, 3]\n",
    "    println(@evalpoly x 1 2 3)\n",
    "end"
   ]
  },
  {
   "cell_type": "markdown",
   "metadata": {},
   "source": [
    "### REPETIÇÃO \"ENQUANTO\" (WHILE)\n",
    "\n",
    "A função  `sleep(tempo_segundos)` permite controlar o laço em um determinado tempo em segundos.\n",
    "Sintaxe Básica:\n",
    "```julia\n",
    "while condição \n",
    "    instruções\n",
    "end\n",
    "```"
   ]
  },
  {
   "cell_type": "markdown",
   "metadata": {},
   "source": [
    "**Implementando Laços WHILE**"
   ]
  },
  {
   "cell_type": "code",
   "execution_count": 3,
   "metadata": {
    "collapsed": false,
    "scrolled": false
   },
   "outputs": [
    {
     "name": "stdout",
     "output_type": "stream",
     "text": [
      "0\n",
      "1\n",
      "2\n",
      "3\n",
      "4\n",
      "5\n"
     ]
    }
   ],
   "source": [
    "# conta enquanto \"a\" menor ou igual a 5.\n",
    "a = 0\n",
    "\n",
    "while a <= 5    \n",
    "    println(a)\n",
    "    a = a + 1  \n",
    "end"
   ]
  },
  {
   "cell_type": "code",
   "execution_count": 19,
   "metadata": {
    "collapsed": false
   },
   "outputs": [
    {
     "name": "stdout",
     "output_type": "stream",
     "text": [
      "0\n",
      "1\n",
      "2\n",
      "3\n",
      "4\n"
     ]
    }
   ],
   "source": [
    "# conta enquanto \"a\" menor ou igual a 5.\n",
    "a = 0\n",
    "b = 1:5\n",
    "\n",
    "while  a < length(b) \n",
    "    println(a)\n",
    "    a = a + 1    \n",
    "end"
   ]
  },
  {
   "cell_type": "code",
   "execution_count": 20,
   "metadata": {
    "collapsed": false
   },
   "outputs": [
    {
     "name": "stdout",
     "output_type": "stream",
     "text": [
      "0\n",
      "1\n",
      "2\n",
      "3\n",
      "4\n",
      "5\n"
     ]
    }
   ],
   "source": [
    "# controlando o laço com sleep\n",
    "a = 0\n",
    "\n",
    "while a <= 5   \n",
    "    sleep(1)\n",
    "    println(a)\n",
    "    a = a + 1     \n",
    "end"
   ]
  },
  {
   "cell_type": "markdown",
   "metadata": {},
   "source": [
    "**Continue e Break** \n",
    "\n",
    "```julia\n",
    "while condição \n",
    "    CONDIÇÃO \n",
    "        break/continue\n",
    "    end\n",
    "end\n",
    "```"
   ]
  },
  {
   "cell_type": "code",
   "execution_count": 30,
   "metadata": {
    "collapsed": false,
    "scrolled": false
   },
   "outputs": [
    {
     "name": "stdout",
     "output_type": "stream",
     "text": [
      "0\n",
      "1\n",
      "2\n"
     ]
    }
   ],
   "source": [
    "# conta enquanto \"a\" menor ou igual a 5. \n",
    "# se \"a\" dividido por 3 for diferente de 0 para!\n",
    "\n",
    "a = 0\n",
    "\n",
    "while a <= 10    \n",
    "    println(a)\n",
    "    a = a + 1    \n",
    "    if a % 3 == 0\n",
    "        break\n",
    "    end    \n",
    "end"
   ]
  },
  {
   "cell_type": "markdown",
   "metadata": {},
   "source": [
    "### REPETIÇÃO DO\n",
    "\n",
    "Sintaxe Básica:\n",
    "```julia\n",
    "função do var\n",
    "  instruções\n",
    "  até que (condição_var)\n",
    "end\n",
    "```"
   ]
  },
  {
   "cell_type": "markdown",
   "metadata": {},
   "source": [
    "**Implementando Laços DO**"
   ]
  },
  {
   "cell_type": "code",
   "execution_count": 28,
   "metadata": {
    "collapsed": false,
    "scrolled": false
   },
   "outputs": [
    {
     "data": {
      "text/plain": [
       "1-element Array{Int64,1}:\n",
       " 41"
      ]
     },
     "execution_count": 28,
     "metadata": {},
     "output_type": "execute_result"
    }
   ],
   "source": [
    "# find retorna o indice do vetor quando encontrar o valor igual a 5\n",
    "x = 1:0.1:20\n",
    "\n",
    "find(x) do x\n",
    "    x == 5     \n",
    "end"
   ]
  },
  {
   "cell_type": "code",
   "execution_count": 29,
   "metadata": {
    "collapsed": false
   },
   "outputs": [
    {
     "data": {
      "text/plain": [
       "5.0"
      ]
     },
     "execution_count": 29,
     "metadata": {},
     "output_type": "execute_result"
    }
   ],
   "source": [
    "x[41]"
   ]
  },
  {
   "cell_type": "markdown",
   "metadata": {},
   "source": [
    "## MANIPULAÇÃO DE EXCEÇÃO"
   ]
  },
  {
   "cell_type": "markdown",
   "metadata": {
    "collapsed": true
   },
   "source": [
    "Quando ocorre uma condição não esperada, uma função pode ser incapaz de contornar o problema e evitar uma pane no sistema. Uma das soluções é programar a função para terminar o programa, imprimir uma mensagem de erro de diagnóstico ou trabalhar adequadamente o código para permitir que o programa tome uma ação apropriada em relação ao problema. Um exemplo clássico é a função raiz quadrada:\n",
    "```julia\n",
    "function raizQ(x)\n",
    "    return sqrt(x)\n",
    "end\n",
    "```\n",
    "Caso seja passado um número negativo, ocorrerá:\n",
    "```julia\n",
    "raizQ(-2)\n",
    "\n",
    "LoadError: DomainError:\n",
    "while loading In[], in expression starting on line 1\n",
    "```\n",
    "Neste caso Julia lançou uma exceção informando que houve um erro para tratar a ação fora do esperado, ou seja, um número negativo é passado como argumento mas o resultado está dentro do domínio dos complexos. As exceções listadas abaixo interrompem o fluxo normal de execução e emitem uma mensagem de erro.\n",
    "\n",
    "- **ArgumentError**: Os parâmetros de uma chamada de função não correspondem a uma vínculo válido. Argumento \"msg\" é uma string de erro descritiva.\n",
    "\n",
    "- **BoundsError**: Uma operação de indexação em uma matriz, \"A\", tentou acessar um elemento fora dos limites, \"i\". \n",
    "\n",
    "- **DivideError**: A divisão inteira por \"0\".\n",
    "\n",
    "- **DomainError**: Os argumentos para uma função ou construtor estão fora do domínio válido.\n",
    "\n",
    "- **ErrorException**: Tipo de erro genérico. A mensagem de erro, no campo \".msg\", pode fornecer detalhes mais específicos.\n",
    "\n",
    "- **EOFError**: Não há mais dados disponíveis para ler de um arquivo ou fluxo.\n",
    "\n",
    "- **ErrorException**: Tipo de erro genérico. A mensagem de erro, no campo .msg, pode fornecer detalhes mais específicos.\n",
    "\n",
    "- **InexactError**: A conversão entre tipos não pode ser feita exatamente.\n",
    "\n",
    "- **InitError**: Ocorreu um erro ao executar a função `__init__` de um módulo.\n",
    "\n",
    "- **InterruptException**: O processo foi interrompido por uma interrupção (CTRL + C).\n",
    "\n",
    "- **LoadError**: Ocorreu um erro ao tentar incluir, exigir ou usar um arquivo.\n",
    "\n",
    "- **MethodError**: Não existe na função genérica dada um método adequado.\n",
    "\n",
    "- **OutOfMemoryError**: Uma operação alocou muita memória para o sistema trabalhar adequadamente.\n",
    "\n",
    "- **OverflowError**: O resultado de uma expressão é muito grande para o tipo especificado.\n",
    "\n",
    "- **ParseError**: A expressão passada para a função `parse` (análise) não pôde ser interpretada como uma expressão válida da linguagem Julia.\n",
    "\n",
    "- **ReadOnlyMemoryError**: Uma operação tentou escrever na memória mas esta é somente para leitura. \n",
    "\n",
    "- **SystemError**: Uma chamada de sistema falhou com um código de erro \n",
    "\n",
    "- **TypeError**: Uma falha de asserção de tipo ou chamada de uma função intrínseca com um tipo de argumento incorreto.\n",
    "\n",
    "- **UndefRefError**: O item ou campo não está definido para o determinado objeto.\n",
    "\n",
    "- **UndefVarError**: Um símbolo no escopo atual não está definido.\n",
    "\n",
    "- **KeyError**: Uma operação de indexação em um objeto do tipo dicionário (Dict) ou conjunto (Set) tentou acessar ou excluir um elemento inexistente.\n",
    "\n",
    "\n",
    "A lista completa pode ser consultada aqui: [http://docs.julialang.org/en/release-0.5/stdlib/base/#errors](http://docs.julialang.org/en/release-0.5/stdlib/base/#errors)"
   ]
  },
  {
   "cell_type": "markdown",
   "metadata": {
    "collapsed": true
   },
   "source": [
    "### FUNÇÃO `THROW()`\n",
    "\n",
    "A função `Throw()` lança um objeto como uma exceção, ou seja, no exemplo abaixo a função lança a exceção `DomainError` que informa que o erro é de domínio."
   ]
  },
  {
   "cell_type": "code",
   "execution_count": 1,
   "metadata": {
    "collapsed": false
   },
   "outputs": [
    {
     "data": {
      "text/plain": [
       "raizQ (generic function with 1 method)"
      ]
     },
     "execution_count": 1,
     "metadata": {},
     "output_type": "execute_result"
    }
   ],
   "source": [
    "function raizQ(x)\n",
    "    if x >= 0\n",
    "        sqrt(x)\n",
    "    else\n",
    "        throw(DomainError())\n",
    "    end\n",
    "end"
   ]
  },
  {
   "cell_type": "code",
   "execution_count": 2,
   "metadata": {
    "collapsed": false
   },
   "outputs": [
    {
     "ename": "LoadError",
     "evalue": "DomainError:",
     "output_type": "error",
     "traceback": [
      "DomainError:",
      "",
      "Stacktrace:",
      " [1] \u001b[1mraizQ\u001b[22m\u001b[22m\u001b[1m(\u001b[22m\u001b[22m::Int64\u001b[1m)\u001b[22m\u001b[22m at \u001b[1m./In[1]:5\u001b[22m\u001b[22m",
      " [2] \u001b[1minclude_string\u001b[22m\u001b[22m\u001b[1m(\u001b[22m\u001b[22m::String, ::String\u001b[1m)\u001b[22m\u001b[22m at \u001b[1m./loading.jl:522\u001b[22m\u001b[22m"
     ]
    }
   ],
   "source": [
    "raizQ(-2)"
   ]
  },
  {
   "cell_type": "code",
   "execution_count": 3,
   "metadata": {
    "collapsed": false
   },
   "outputs": [
    {
     "data": {
      "text/plain": [
       "raizQ_OT (generic function with 1 method)"
      ]
     },
     "execution_count": 3,
     "metadata": {},
     "output_type": "execute_result"
    }
   ],
   "source": [
    "# outra forma de escrever usando o Operador Ternário\n",
    "raizQ_OT(x) = x>=0 ? sqrt(x) : throw(DomainError())"
   ]
  },
  {
   "cell_type": "code",
   "execution_count": 4,
   "metadata": {
    "collapsed": false
   },
   "outputs": [
    {
     "ename": "LoadError",
     "evalue": "DomainError:",
     "output_type": "error",
     "traceback": [
      "DomainError:",
      "",
      "Stacktrace:",
      " [1] \u001b[1mraizQ_OT\u001b[22m\u001b[22m\u001b[1m(\u001b[22m\u001b[22m::Int64\u001b[1m)\u001b[22m\u001b[22m at \u001b[1m./In[3]:2\u001b[22m\u001b[22m",
      " [2] \u001b[1minclude_string\u001b[22m\u001b[22m\u001b[1m(\u001b[22m\u001b[22m::String, ::String\u001b[1m)\u001b[22m\u001b[22m at \u001b[1m./loading.jl:522\u001b[22m\u001b[22m"
     ]
    }
   ],
   "source": [
    "raizQ_OT(-2)"
   ]
  },
  {
   "cell_type": "markdown",
   "metadata": {},
   "source": [
    "### FUNÇÃO `ERROR()`\n",
    "\n",
    "A função `error()` é usada para produzir uma `ErrorException` que interrompe imediatamente o fluxo normal de processamento e exibe uma mensagem na tela."
   ]
  },
  {
   "cell_type": "code",
   "execution_count": 5,
   "metadata": {
    "collapsed": false
   },
   "outputs": [
    {
     "data": {
      "text/plain": [
       "raizQ_Er (generic function with 1 method)"
      ]
     },
     "execution_count": 5,
     "metadata": {},
     "output_type": "execute_result"
    }
   ],
   "source": [
    "function raizQ_Er(x)\n",
    "    \n",
    "    if x >=0        \n",
    "        sqrt(x)\n",
    "    else\n",
    "        error(\"Número negativo: $x. Não é possivel calcular raiz Real\")\n",
    "    end\n",
    "end"
   ]
  },
  {
   "cell_type": "code",
   "execution_count": 6,
   "metadata": {
    "collapsed": false
   },
   "outputs": [
    {
     "ename": "LoadError",
     "evalue": "\u001b[91mNúmero negativo: -2. Não é possivel calcular raiz Real\u001b[39m",
     "output_type": "error",
     "traceback": [
      "\u001b[91mNúmero negativo: -2. Não é possivel calcular raiz Real\u001b[39m",
      "",
      "Stacktrace:",
      " [1] \u001b[1mraizQ_Er\u001b[22m\u001b[22m\u001b[1m(\u001b[22m\u001b[22m::Int64\u001b[1m)\u001b[22m\u001b[22m at \u001b[1m./In[5]:6\u001b[22m\u001b[22m",
      " [2] \u001b[1minclude_string\u001b[22m\u001b[22m\u001b[1m(\u001b[22m\u001b[22m::String, ::String\u001b[1m)\u001b[22m\u001b[22m at \u001b[1m./loading.jl:522\u001b[22m\u001b[22m"
     ]
    }
   ],
   "source": [
    "# a função será interrompida e exibirá uma mensagem\n",
    "raizQ_Er(-2)"
   ]
  },
  {
   "cell_type": "markdown",
   "metadata": {},
   "source": [
    "### TRY / CATCH\n",
    "\n",
    "A instrução `try/catch` permite que exceções sejam testadas, ou seja, tenta-se realizar a instrução (`try`) e se não for possível pega-se outra instrução para realizar (`cacht`) o processamento. A função `raizQ_TC` ao receber o valor de `x` tenta calcular no domínio `Real` e se não for possível calcula no domínio `Complexo`."
   ]
  },
  {
   "cell_type": "code",
   "execution_count": 7,
   "metadata": {
    "collapsed": false
   },
   "outputs": [
    {
     "data": {
      "text/plain": [
       "raizQ_TC (generic function with 1 method)"
      ]
     },
     "execution_count": 7,
     "metadata": {},
     "output_type": "execute_result"
    }
   ],
   "source": [
    "function raizQ_TC(x)\n",
    "    try\n",
    "         sqrt(x)\n",
    "    catch\n",
    "         sqrt(complex(x))\n",
    "    end\n",
    "end"
   ]
  },
  {
   "cell_type": "code",
   "execution_count": 8,
   "metadata": {
    "collapsed": false
   },
   "outputs": [
    {
     "data": {
      "text/plain": [
       "13.0"
      ]
     },
     "execution_count": 8,
     "metadata": {},
     "output_type": "execute_result"
    }
   ],
   "source": [
    "raizQ_TC(169)"
   ]
  },
  {
   "cell_type": "code",
   "execution_count": 9,
   "metadata": {
    "collapsed": false
   },
   "outputs": [
    {
     "data": {
      "text/plain": [
       "0.0 + 1.4142135623730951im"
      ]
     },
     "execution_count": 9,
     "metadata": {},
     "output_type": "execute_result"
    }
   ],
   "source": [
    "raizQ_TC(-2)"
   ]
  },
  {
   "cell_type": "markdown",
   "metadata": {},
   "source": [
    "Uma boa prática de programação é tratar o tipo de erro que ocorreu. "
   ]
  },
  {
   "cell_type": "code",
   "execution_count": 10,
   "metadata": {
    "collapsed": false
   },
   "outputs": [
    {
     "data": {
      "text/plain": [
       "raizQ_TC_Er (generic function with 1 method)"
      ]
     },
     "execution_count": 10,
     "metadata": {},
     "output_type": "execute_result"
    }
   ],
   "source": [
    "function raizQ_TC_Er(x)\n",
    "    try\n",
    "        sqrt(x)\n",
    "        \n",
    "    catch erro\n",
    "        if isa(erro, DomainError)\n",
    "            sqrt(complex(x))\n",
    "            \n",
    "        elseif isa(erro, UndefVarError)\n",
    "            print(\"Valor não definido\")\n",
    "            \n",
    "        else\n",
    "            print(\"Erro não definido. Valor não numérico\")\n",
    "        end\n",
    "    end\n",
    "end"
   ]
  },
  {
   "cell_type": "code",
   "execution_count": 11,
   "metadata": {
    "collapsed": false
   },
   "outputs": [
    {
     "data": {
      "text/plain": [
       "0.0 + 2.0im"
      ]
     },
     "execution_count": 11,
     "metadata": {},
     "output_type": "execute_result"
    }
   ],
   "source": [
    "# Passando um valor negativo\n",
    "raizQ_TC_Er(-4)"
   ]
  },
  {
   "cell_type": "code",
   "execution_count": 12,
   "metadata": {
    "collapsed": false
   },
   "outputs": [
    {
     "name": "stdout",
     "output_type": "stream",
     "text": [
      "Erro não definido. Valor não numérico"
     ]
    }
   ],
   "source": [
    "# Passando uma string\n",
    "raizQ_TC_Er($)"
   ]
  },
  {
   "cell_type": "markdown",
   "metadata": {},
   "source": [
    "## TASKS (COROTINAS)\n",
    "\n",
    "As *tasks* permitem controlar a execução de uma estrutura de fluxo de controle, permitindo pausar temporáriamente sua execução. Esta é uma construção poderosa: manipulação de exceções e multitarefa cooperativa são implementadas em Julia usando tarefas (BEZANSON et al., 2015). *tasks* são frequentemente utilizadas em ... ou quando...\n",
    "\n",
    "As tarefas são um recurso de fluxo de controle que permite que os cálculos sejam suspensos e retomados de forma flexível. Esse recurso às vezes é chamado por outros nomes, como corutinas simétricas, threads leves, multitarefa cooperativa ou continuações de um toque.\n",
    "\n",
    "Quando uma peça de trabalho de computação (na prática, executando uma função específica) é designada como Tarefa, torna-se possível interrompê-la ao mudar para outra Tarefa. A Tarefa original pode ser retomada em seguida, em que ponto ele irá retirar o lugar certo. No início, isso pode parecer semelhante a uma chamada de função. No entanto, existem duas diferenças importantes. Primeiro, as tarefas de comutação não usam nenhum espaço, portanto, qualquer número de switches de tarefa pode ocorrer sem consumir a pilha de chamadas. Em segundo lugar, a mudança entre tarefas pode ocorrer em qualquer ordem, ao contrário das chamadas de função, onde a função chamada deve terminar de ser executada antes do controle retornar à função de chamada.\n",
    "\n",
    "Esse tipo de fluxo de controle pode tornar muito mais fácil resolver determinados problemas. Em alguns problemas, as várias peças do trabalho obrigatório não são naturalmente relacionadas por chamadas de função; não há \"chamador\" ou \"calle\" óbvio entre os trabalhos que precisam ser feitos. Um exemplo é o problema produtor-consumidor, onde um procedimento complexo está gerando valores e outro procedimento complexo está consumindo-os. O consumidor não pode simplesmente chamar uma função de produtor para obter um valor, porque o produtor pode ter mais valores para gerar e, portanto, talvez ainda não esteja pronto para retornar. Com as tarefas, o produtor e o consumidor podem executar o tempo que for necessário, passando valores de um lado para o outro, conforme necessário.\n",
    "\n",
    "Julia fornece um mecanismo de canal para resolver esse problema. Um canal é uma fila de primeira fila que pode ser autenticada, que pode ter várias tarefas lendo e escrevendo para ele.\n",
    "\n",
    "Vamos definir uma tarefa de produtor, que produz valores através da colocação! ligar. Para consumir valores, precisamos agendar o produtor para executar em uma nova tarefa. Um construtor de canal especial que aceita uma função de 1 arg como argumento pode ser usado para executar uma tarefa vinculada a um canal. Podemos então tirar os valores! () Repetidamente do objeto do canal:"
   ]
  },
  {
   "cell_type": "code",
   "execution_count": 13,
   "metadata": {
    "collapsed": false,
    "scrolled": true
   },
   "outputs": [
    {
     "data": {
      "text/plain": [
       "producer1 (generic function with 1 method)"
      ]
     },
     "execution_count": 13,
     "metadata": {},
     "output_type": "execute_result"
    }
   ],
   "source": [
    "function producer1(c::Channel)\n",
    "    put!(c, \"start\")\n",
    "    for n = 0:2\n",
    "        put!(c, 2*n)\n",
    "    end\n",
    "    put!(c, \"stop\")\n",
    "end"
   ]
  },
  {
   "cell_type": "code",
   "execution_count": 14,
   "metadata": {
    "collapsed": false
   },
   "outputs": [],
   "source": [
    "chnl = Channel(producer1);"
   ]
  },
  {
   "cell_type": "code",
   "execution_count": 15,
   "metadata": {
    "collapsed": false
   },
   "outputs": [
    {
     "data": {
      "text/plain": [
       "\"start\""
      ]
     },
     "execution_count": 15,
     "metadata": {},
     "output_type": "execute_result"
    }
   ],
   "source": [
    "take!(chnl)"
   ]
  },
  {
   "cell_type": "code",
   "execution_count": 16,
   "metadata": {
    "collapsed": false
   },
   "outputs": [
    {
     "data": {
      "text/plain": [
       "0"
      ]
     },
     "execution_count": 16,
     "metadata": {},
     "output_type": "execute_result"
    }
   ],
   "source": [
    "take!(chnl)"
   ]
  },
  {
   "cell_type": "code",
   "execution_count": 17,
   "metadata": {
    "collapsed": false
   },
   "outputs": [
    {
     "data": {
      "text/plain": [
       "2"
      ]
     },
     "execution_count": 17,
     "metadata": {},
     "output_type": "execute_result"
    }
   ],
   "source": [
    "take!(chnl)"
   ]
  },
  {
   "cell_type": "code",
   "execution_count": 18,
   "metadata": {
    "collapsed": false
   },
   "outputs": [
    {
     "data": {
      "text/plain": [
       "4"
      ]
     },
     "execution_count": 18,
     "metadata": {},
     "output_type": "execute_result"
    }
   ],
   "source": [
    "take!(chnl)"
   ]
  },
  {
   "cell_type": "code",
   "execution_count": 19,
   "metadata": {
    "collapsed": false
   },
   "outputs": [
    {
     "data": {
      "text/plain": [
       "\"stop\""
      ]
     },
     "execution_count": 19,
     "metadata": {},
     "output_type": "execute_result"
    }
   ],
   "source": [
    "take!(chnl)"
   ]
  },
  {
   "cell_type": "code",
   "execution_count": 96,
   "metadata": {
    "collapsed": false
   },
   "outputs": [
    {
     "ename": "LoadError",
     "evalue": "\u001b[91merror in method definition: function Base.prod must be explicitly imported to be extended\u001b[39m",
     "output_type": "error",
     "traceback": [
      "\u001b[91merror in method definition: function Base.prod must be explicitly imported to be extended\u001b[39m",
      "",
      "Stacktrace:",
      " [1] \u001b[1minclude_string\u001b[22m\u001b[22m\u001b[1m(\u001b[22m\u001b[22m::String, ::String\u001b[1m)\u001b[22m\u001b[22m at \u001b[1m./loading.jl:522\u001b[22m\u001b[22m"
     ]
    }
   ],
   "source": [
    "function prod(i::Channel)\n",
    "    for n = 1:5\n",
    "        put([i^2 for i = 1:n])\n",
    "    end\n",
    "    print(\"Fim Tarefa\")\n",
    "end"
   ]
  },
  {
   "cell_type": "code",
   "execution_count": 97,
   "metadata": {
    "collapsed": true
   },
   "outputs": [],
   "source": [
    "chnl1 = Channel(producer);"
   ]
  },
  {
   "cell_type": "code",
   "execution_count": 100,
   "metadata": {
    "collapsed": false
   },
   "outputs": [
    {
     "data": {
      "text/plain": [
       "2"
      ]
     },
     "execution_count": 100,
     "metadata": {},
     "output_type": "execute_result"
    }
   ],
   "source": [
    "take!(chnl1)"
   ]
  },
  {
   "cell_type": "markdown",
   "metadata": {
    "collapsed": true
   },
   "source": [
    "## REFERÊNCIA BIBLIOGRÁFICA\n",
    "\n",
    "SAWAYA, Márcia Regina . Dicionário de Informática e Internet. 1. ed. São Paulo, SP: Nobel, 1999. 543 p. \n",
    "\n",
    "TUCKER, Allen B. ; NOONAN, Robert E. . Linguagens de Programação : Princípios e Paradigmas. 2. ed. São Paulo, SP: McGraw-Hill, 2009. 600 p. \n",
    "\n",
    "SEBESTA, Robert W. Conceitos de linguagens de programação. 9. ed. Porto Alegre: Bookman, 2011. 775 p. \n",
    "\n",
    "BEZANSON, Jeff et al. Julia Language Documentation. 1. ed. [S.l.: s.n.], 2015. 593 p. Disponível em: <https://docs.julialang.org/en/stable>. Acesso em: 25 jul. 2016. \n"
   ]
  },
  {
   "cell_type": "code",
   "execution_count": null,
   "metadata": {
    "collapsed": true
   },
   "outputs": [],
   "source": []
  }
 ],
 "metadata": {
  "anaconda-cloud": {},
  "kernelspec": {
   "display_name": "Julia 0.6.2",
   "language": "julia",
   "name": "julia-0.6"
  },
  "language_info": {
   "file_extension": ".jl",
   "mimetype": "application/julia",
   "name": "julia",
   "version": "0.6.2"
  },
  "latex_envs": {
   "LaTeX_envs_menu_present": true,
   "autocomplete": true,
   "bibliofile": "biblio.bib",
   "cite_by": "apalike",
   "current_citInitial": 1,
   "eqLabelWithNumbers": true,
   "eqNumInitial": 1,
   "hotkeys": {
    "equation": "Ctrl-E",
    "itemize": "Ctrl-I"
   },
   "labels_anchors": false,
   "latex_user_defs": false,
   "report_style_numbering": false,
   "user_envs_cfg": false
  },
  "name": "_merged"
 },
 "nbformat": 4,
 "nbformat_minor": 2
}
