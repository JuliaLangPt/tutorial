{
 "cells": [
  {
   "cell_type": "markdown",
   "metadata": {
    "deletable": true,
    "editable": true
   },
   "source": [
    "# PROGRAMAÇÃO PARTE I"
   ]
  },
  {
   "cell_type": "markdown",
   "metadata": {
    "collapsed": true,
    "deletable": true,
    "editable": true
   },
   "source": []
  },
  {
   "cell_type": "markdown",
   "metadata": {
    "collapsed": true,
    "deletable": true,
    "editable": true
   },
   "source": [
    "## OPERADORES LÓGIGOS E BOLEANOS"
   ]
  },
  {
   "cell_type": "markdown",
   "metadata": {
    "collapsed": true,
    "deletable": true,
    "editable": true
   },
   "source": [
    "Todos os operadores de comparação da JULIA retornam TRUE como verdade e FALSE como falso. Resumo:\n",
    "\n",
    "* x <  y   verdade se x é menor que y.\n",
    "* x <= y   verdade se x é menor ou igual a y.\n",
    "* x >= y   verdade se x é maior ou igual a y.\n",
    "* x >  y   verdade se x é maior que y.\n",
    "* x == y   verdade se x é igual a y.\n",
    "* x != y   verdade se x diferente de y\n",
    "* x ~= y   verdade se x é diferente de y."
   ]
  },
  {
   "cell_type": "markdown",
   "metadata": {
    "collapsed": true,
    "deletable": true,
    "editable": true
   },
   "source": [
    "Principais operadores lógicos:\n",
    "\n",
    "+ x | y, operador \"ou\", x OU y\n",
    "+ x & y, operador \"e\", x E y\n",
    "+ x $ y, operador \"xor\", x OU exclusivo y\n",
    "+ ~x ou !x, operador “não”, não x\n",
    "\n",
    "Uma expressão booleana é verdadeira se o resultado do cálculo das combinações lógicas das expressões booleanas for verdadeiro."
   ]
  },
  {
   "cell_type": "markdown",
   "metadata": {},
   "source": [
    "Comparação numérica\n",
    "\n",
    "Name\n",
    "* `==\t   igualdade`\n",
    "* `!= ou ≠  desigualdade`\n",
    "* `<        menor que`\n",
    "* `<=       menor ou igual`\n",
    "* `>        maior que`\n",
    "* `>=       maior ou igual`\n",
    "\n",
    "* `isequal(x,y)    , verdadeiro se x e y são idênticos`\n",
    "* `isfinite(x)\t , verdadeiro se x é um número infinito` \n",
    "* `isinf(x)        , verdadeiro se x é infinito (inf)`\n",
    "* `isnan(x)        , x não é um número`"
   ]
  },
  {
   "cell_type": "markdown",
   "metadata": {},
   "source": []
  },
  {
   "cell_type": "code",
   "execution_count": null,
   "metadata": {
    "collapsed": true
   },
   "outputs": [],
   "source": []
  },
  {
   "cell_type": "markdown",
   "metadata": {
    "deletable": true,
    "editable": true
   },
   "source": [
    "## ESTRUTURAS DE CONTROLE \n",
    "\n",
    "As principais estruturas de controle de fluxo em Julia são: `while, for, do, if, switch(opcional)`"
   ]
  },
  {
   "cell_type": "markdown",
   "metadata": {
    "deletable": true,
    "editable": true
   },
   "source": [
    "### CONDICIONAL \"SE\" (IF) \n",
    "\n",
    "O comando  `sleep(tempo_segundos)` permite controlar o laço em um determinado tempo em segundos.Sintaxe Básica:\n",
    "\n",
    "Apenas `SE`: ${~~~~~~~~~~~~~~~~~~~~~~~~~~~~~~~~~~~~~}$ `SE .. ENTÃO`:${~~~~~~~~~~~~~~~~~~~~~~~}$ `SE ..SENÃO ... ENTÃO`:\n",
    "```julia\n",
    "if condição                   if condição                if condição\n",
    "   instruções                    instruções                 instruções\n",
    "end                           else                       elseif\n",
    "                                     instruções                 instruções\n",
    "                              end                           elseif\n",
    "                                                               :\n",
    "                                                            else\n",
    "                                                                instruções\n",
    "                                                          end\n",
    "                              \n",
    "```"
   ]
  },
  {
   "cell_type": "markdown",
   "metadata": {
    "deletable": true,
    "editable": true
   },
   "source": [
    "**Implementando Laços IF**"
   ]
  },
  {
   "cell_type": "code",
   "execution_count": 2,
   "metadata": {
    "collapsed": false,
    "deletable": true,
    "editable": true
   },
   "outputs": [
    {
     "data": {
      "text/plain": [
       "(4,10)"
      ]
     },
     "execution_count": 2,
     "metadata": {},
     "output_type": "execute_result"
    }
   ],
   "source": [
    "# Definindo os vetores X e Y de 0 a 10\n",
    "x = rand(0:10)\n",
    "y = rand(0:10)\n",
    "\n",
    "x , y"
   ]
  },
  {
   "cell_type": "code",
   "execution_count": 3,
   "metadata": {
    "collapsed": false,
    "deletable": true,
    "editable": true
   },
   "outputs": [
    {
     "name": "stdout",
     "output_type": "stream",
     "text": [
      "x é menor que y\n"
     ]
    }
   ],
   "source": [
    "# se x < y será impresso a mensagem, se ocorrer x > y não será feito nada\n",
    "if x < y\n",
    "    println(\"x é menor que y\")\n",
    "end"
   ]
  },
  {
   "cell_type": "markdown",
   "metadata": {
    "deletable": true,
    "editable": true
   },
   "source": [
    "Melhorando...."
   ]
  },
  {
   "cell_type": "code",
   "execution_count": 4,
   "metadata": {
    "collapsed": false,
    "deletable": true,
    "editable": true
   },
   "outputs": [
    {
     "name": "stdout",
     "output_type": "stream",
     "text": [
      "x é menor que y .Valor de x: 4 Valor de y: 10\n"
     ]
    }
   ],
   "source": [
    "if x < y\n",
    "    println(\"x é menor que y .\",\"Valor de x: \", x ,\" Valor de y: \",y)\n",
    "else\n",
    "    println(\"x é maior que y .\",\"Valor de x: \", x ,\" Valor de y: \",y)\n",
    "end"
   ]
  },
  {
   "cell_type": "markdown",
   "metadata": {
    "deletable": true,
    "editable": true
   },
   "source": [
    "Melhorando mais...."
   ]
  },
  {
   "cell_type": "code",
   "execution_count": 6,
   "metadata": {
    "collapsed": false,
    "deletable": true,
    "editable": true,
    "scrolled": true
   },
   "outputs": [
    {
     "name": "stdout",
     "output_type": "stream",
     "text": [
      "x é menor que y . Valor de x: 4 , Valor de y: 10\n"
     ]
    }
   ],
   "source": [
    "if x < y\n",
    "    println(\"x é menor que y . Valor de x: $x , Valor de y: $y\")\n",
    "    \n",
    "elseif x > y\n",
    "    println(\"x é maior que y . Valor de x: $x , Valor de y: $y\")\n",
    "    \n",
    "else\n",
    "    println(\"x é igual que y . Valor de x: $x , Valor de y: $y\")\n",
    "end"
   ]
  },
  {
   "cell_type": "markdown",
   "metadata": {
    "collapsed": true,
    "deletable": true,
    "editable": true
   },
   "source": [
    "**Definindo funções descontínuas**\n",
    " \n",
    "$~\n",
    "f(x) = \\begin{cases}\n",
    "\\cos(x) & x \\geq 0\\\\\n",
    "1 - e^{-1/x^2} & \\text{x < 0}.\n",
    "\\end{cases}\n",
    "~$"
   ]
  },
  {
   "cell_type": "markdown",
   "metadata": {},
   "source": [
    "$~\n",
    "\\begin{pmatrix}\n",
    "\td & d \\\\ \n",
    "\td & d\n",
    "\\end{pmatrix} \n",
    "~$"
   ]
  },
  {
   "cell_type": "code",
   "execution_count": 13,
   "metadata": {
    "collapsed": false,
    "deletable": true,
    "editable": true
   },
   "outputs": [
    {
     "name": "stdout",
     "output_type": "stream",
     "text": [
      "cos(60) = 0.5"
     ]
    }
   ],
   "source": [
    "x  = rand(-60:60) \n",
    "\n",
    "if x >= 0\n",
    "    print(\"cos($x) = \",cosd(x))\n",
    "    \n",
    "elseif x < 0\n",
    "    print(\"exp(-1/($x)^2) = \",exp(-1/x^2))\n",
    "    \n",
    "end"
   ]
  },
  {
   "cell_type": "markdown",
   "metadata": {
    "deletable": true,
    "editable": true
   },
   "source": [
    "### CONDICIONAL \"TROCAR\" (SWITCH) \n",
    "\n",
    "Não existe um comando nativo para \"case\" ou \"swith\". Pode ser utilizado uma sequencia de \"if..elseif..else\" ou instalar o \"case\" do pacote \"Switch\". O comando  `sleep(tempo_segundos)` permite controlar o laço em um determinado tempo em segundos. Sintaxe Básica:\n",
    "\n",
    "```julia\n",
    "SE...SENÃO...ELSE                     SWITCH\n",
    "if variável condição                  variável condição\n",
    "    instruções                        @switch variável begin\n",
    "    elseif variável condição          @case valor variável\n",
    "        instruções                         instruções\n",
    "    elseif variável condição               break\n",
    "        instruções                    @case valor variável\n",
    "    else \t                               instruções\n",
    "        println(\"Não encontrado\")          break\n",
    "                                      @default\n",
    "                                           println(\"Não encontrado\")\n",
    "                                      end\n",
    "```\n",
    "\n"
   ]
  },
  {
   "cell_type": "markdown",
   "metadata": {
    "deletable": true,
    "editable": true
   },
   "source": [
    "**Implementando SWITCH**"
   ]
  },
  {
   "cell_type": "code",
   "execution_count": 6,
   "metadata": {
    "collapsed": false,
    "deletable": true,
    "editable": true,
    "scrolled": false
   },
   "outputs": [
    {
     "name": "stdout",
     "output_type": "stream",
     "text": [
      "Não encontrado.numero acima de 2\n"
     ]
    }
   ],
   "source": [
    "y = rand(0:4)\n",
    "\n",
    "if  y == 0\n",
    "    print( \"y vale $y\")\n",
    "    \n",
    "elseif y == 1 \n",
    "    println(\"y vale $y\")\n",
    "    \n",
    "elseif y == 2 \n",
    "    println(\"y vale $y\")\n",
    "else\n",
    "    println(\"Não encontrado.numero acima de 2\")\n",
    "end\n"
   ]
  },
  {
   "cell_type": "code",
   "execution_count": 7,
   "metadata": {
    "collapsed": false,
    "deletable": true,
    "editable": true,
    "scrolled": true
   },
   "outputs": [
    {
     "ename": "LoadError",
     "evalue": "LoadError: LoadError: syntax: { } vector syntax is discontinued\nwhile loading /home/jmarcellopereira/.julia/v0.5/Switch/src/Switch.jl, in expression starting on line 7\nwhile loading In[7], in expression starting on line 1",
     "output_type": "error",
     "traceback": [
      "LoadError: LoadError: syntax: { } vector syntax is discontinued\nwhile loading /home/jmarcellopereira/.julia/v0.5/Switch/src/Switch.jl, in expression starting on line 7\nwhile loading In[7], in expression starting on line 1",
      "",
      " in include_from_node1(::String) at ./loading.jl:488",
      " in eval(::Module, ::Any) at ./boot.jl:234",
      " in require(::Symbol) at ./loading.jl:415"
     ]
    }
   ],
   "source": [
    "using Switch\n",
    "\n",
    "y = rand(0:4)\n",
    "\n",
    "@switch y begin\n",
    "    @case 0\n",
    "    print( \"y vale $y\")\n",
    "    break\n",
    "\n",
    "    @case 1\n",
    "    println(\"y vale $y\")\n",
    "    break\n",
    "\n",
    "    @case 2\n",
    "    println(\"y vale $y\")\n",
    "    break\n",
    "\n",
    "    @default\n",
    "    println(\"Não encontrado numero acima de 2\")\n",
    "end"
   ]
  },
  {
   "cell_type": "markdown",
   "metadata": {
    "deletable": true,
    "editable": true
   },
   "source": [
    "### REPETIÇÃO \"PARA\" (FOR) \n",
    "\n",
    "O comando  `sleep(tempo_segundos)` permite controlar o laço em um determinado tempo em segundos.\n",
    "\n",
    "Sintaxe Básica:\n",
    "```julia\n",
    "for var = vetor/matriz/dicionário/conjunto # pode ser também var in semelhante ao  python \n",
    "    instruções var\n",
    "end\n",
    "```"
   ]
  },
  {
   "cell_type": "markdown",
   "metadata": {
    "deletable": true,
    "editable": true
   },
   "source": [
    "**Implementando Laços FOR**"
   ]
  },
  {
   "cell_type": "code",
   "execution_count": 8,
   "metadata": {
    "collapsed": false,
    "deletable": true,
    "editable": true
   },
   "outputs": [
    {
     "name": "stdout",
     "output_type": "stream",
     "text": [
      "Valor da função sin(x)*cos(x/2)+x: \n",
      "\n",
      "1.7384602626041288 Para x = 1.0\n",
      "4.314940964313378 Para x = 4.0\n",
      "6.276619246650812 Para x = 6.0\n",
      "6.384760506169355 Para x = 7.0\n",
      "8.913127154443261 Para x = 9.0\n"
     ]
    }
   ],
   "source": [
    "# Laço FOR aplicado a um VETOR\n",
    "print(\"Valor da função sin(x)*cos(x/2)+x: \\n\\n\")\n",
    "x = [1.0, 4.0, 6.0, 7.0, 9.0] \n",
    "\n",
    "for i = 1:length(x)     \n",
    "    println(sin(x[i])*cos(x[i]/2) + x[i],\" Para x = $(x[i])\")\n",
    "end"
   ]
  },
  {
   "cell_type": "code",
   "execution_count": 9,
   "metadata": {
    "collapsed": false,
    "deletable": true,
    "editable": true
   },
   "outputs": [
    {
     "name": "stdout",
     "output_type": "stream",
     "text": [
      "Valor da função sin(x)*cos(x/2)+x: \n",
      "\n",
      "1.7384602626041288 Para x = 1.0\n",
      "2.491295496433882 Para x = 2.0\n",
      "3.0099824344694786 Para x = 3.0\n",
      "4.314940964313378 Para x = 4.0\n",
      "5.768236060439348 Para x = 5.0\n"
     ]
    }
   ],
   "source": [
    "# Laço FOR aplicado a um VETOR\n",
    "print(\"Valor da função sin(x)*cos(x/2) + x: \\n\\n\")\n",
    "x = [1.0, 2.0, 3.0, 4.0, 5.0] \n",
    "\n",
    "for i = x  # pode ser também x in     \n",
    "    println(sin(i)*cos(i/2) + i,\" Para x = $i\")    \n",
    "end"
   ]
  },
  {
   "cell_type": "code",
   "execution_count": 10,
   "metadata": {
    "collapsed": false,
    "deletable": true,
    "editable": true,
    "scrolled": true
   },
   "outputs": [
    {
     "name": "stdout",
     "output_type": "stream",
     "text": [
      "Valor da função sin(x)*cos(x/2)+x: \n",
      "\n",
      "1.7384602626041288 Para x = 1.0\n",
      "2.491295496433882 Para x = 2.0\n",
      "3.0099824344694786 Para x = 3.0\n",
      "4.314940964313378 Para x = 4.0\n",
      "5.768236060439348 Para x = 5.0\n"
     ]
    }
   ],
   "source": [
    "# Laço FOR aplicado a um VETOR\n",
    "print(\"Valor da função sin(x)*cos(x/2) + x: \\n\\n\")\n",
    "\n",
    "for x = [1.0, 2.0, 3.0, 4.0, 5.0] # pode ser também x in vetor    \n",
    "    println(sin(x)*cos(x/2) + x,\" Para x = $x\")    \n",
    "end"
   ]
  },
  {
   "cell_type": "code",
   "execution_count": 11,
   "metadata": {
    "collapsed": false,
    "deletable": true,
    "editable": true
   },
   "outputs": [
    {
     "name": "stdout",
     "output_type": "stream",
     "text": [
      "Valor da função sin(x)*cos(x/2)+x: \n",
      "\n",
      "1.7384602626041288 Para x = 1.0\n",
      "2.491295496433882 Para x = 2.0\n",
      "3.0099824344694786 Para x = 3.0\n",
      "4.314940964313378 Para x = 4.0\n",
      "5.768236060439348 Para x = 5.0\n"
     ]
    }
   ],
   "source": [
    "# Laço FOR aplicado a um VETOR e controle de tempo\n",
    "print(\"Valor da função sin(x)*cos(x/2) + x: \\n\\n\")\n",
    "\n",
    "for x = [1.0 2.0 3.0 4.0 5.0] # pode ser também x in vetor    \n",
    "    println(sin(x)*cos(x/2) + x,\" Para x = $x\")\n",
    "    sleep(1)                  # atraso de 1s\n",
    "end"
   ]
  },
  {
   "cell_type": "code",
   "execution_count": 12,
   "metadata": {
    "collapsed": false,
    "deletable": true,
    "editable": true
   },
   "outputs": [
    {
     "name": "stdout",
     "output_type": "stream",
     "text": [
      "Valor da função sin(x)*cos(x/2)+x: \n",
      "\n",
      "5.768236060439348 Para x = 5\n",
      "4.314940964313378 Para x = 4\n",
      "3.0099824344694786 Para x = 3\n",
      "2.491295496433882 Para x = 2\n",
      "1.7384602626041288 Para x = 1\n"
     ]
    }
   ],
   "source": [
    "# Laço FOR aplicado a um VETOR reverso\n",
    "print(\"Valor da função sin(x)*cos(x/2) + x: \\n\\n\")\n",
    "\n",
    "for x = 5:-1:1 # pode ser também x in vetor    \n",
    "    println(sin(x)*cos(x/2) + x,\" Para x = $x\")    \n",
    "end"
   ]
  },
  {
   "cell_type": "code",
   "execution_count": 1,
   "metadata": {
    "collapsed": false,
    "deletable": true,
    "editable": true
   },
   "outputs": [
    {
     "name": "stdout",
     "output_type": "stream",
     "text": [
      "\"Sage\"=>10\n",
      "\"Julia\"=>10\n",
      "\"Scilab\"=>8\n"
     ]
    }
   ],
   "source": [
    "# Laço FOR aplicado a um DICIONÁRIO\n",
    "linguagens = Dict(\"Sage\" => 10, \"Julia\" => 10, \"Scilab\" => 8)\n",
    "\n",
    "for i =  linguagens # ou i in linguagens\n",
    "    println(i)\n",
    "end"
   ]
  },
  {
   "cell_type": "code",
   "execution_count": 2,
   "metadata": {
    "collapsed": false,
    "deletable": true,
    "editable": true
   },
   "outputs": [
    {
     "name": "stdout",
     "output_type": "stream",
     "text": [
      "Sage é 10\n",
      "Julia é 10\n",
      "Scilab é 8\n"
     ]
    }
   ],
   "source": [
    "for (nome, nota) in linguagens # ou i in linguagens\n",
    "    println(\"$nome é $nota\")\n",
    "end"
   ]
  },
  {
   "cell_type": "code",
   "execution_count": 12,
   "metadata": {
    "collapsed": false,
    "deletable": true,
    "editable": true,
    "scrolled": true
   },
   "outputs": [
    {
     "name": "stdout",
     "output_type": "stream",
     "text": [
      "elemento da linha 1 coluna 1 é :2\n",
      "elemento da linha 1 coluna 2 é :4\n",
      "elemento da linha 2 coluna 1 é :8\n",
      "elemento da linha 2 coluna 2 é :9\n"
     ]
    }
   ],
   "source": [
    "# Laço FOR aplicado a uma MATRIZ\n",
    "mnum = [2 4;8 9]\n",
    "\n",
    "linhas , colunas = size(mnum)\n",
    "\n",
    "for i = 1:linhas    \n",
    "    for j = 1:colunas        \n",
    "        println(\"elemento da linha $i coluna $j é :\", mnum[i, j])\n",
    "    end\n",
    "end"
   ]
  },
  {
   "cell_type": "markdown",
   "metadata": {
    "deletable": true,
    "editable": true
   },
   "source": [
    "Melhorando...."
   ]
  },
  {
   "cell_type": "code",
   "execution_count": 13,
   "metadata": {
    "collapsed": false,
    "deletable": true,
    "editable": true
   },
   "outputs": [
    {
     "name": "stdout",
     "output_type": "stream",
     "text": [
      "elemento da linha 1 coluna 1 é :2\n",
      "elemento da linha 1 coluna 2 é :4\n",
      "elemento da linha 2 coluna 1 é :8\n",
      "elemento da linha 2 coluna 2 é :9\n"
     ]
    }
   ],
   "source": [
    "linhas , colunas =  size(mnum)\n",
    "\n",
    "for i = 1:linhas , j = 1:colunas\n",
    "    println(\"elemento da linha $i coluna $j é :\", mnum[i, j])\n",
    "end "
   ]
  },
  {
   "cell_type": "markdown",
   "metadata": {
    "deletable": true,
    "editable": true
   },
   "source": [
    "Agora ficou like Python...."
   ]
  },
  {
   "cell_type": "code",
   "execution_count": 16,
   "metadata": {
    "collapsed": false,
    "deletable": true,
    "editable": true
   },
   "outputs": [
    {
     "name": "stdout",
     "output_type": "stream",
     "text": [
      "elemento  2\n",
      "elemento  8\n",
      "elemento  4\n",
      "elemento  9\n"
     ]
    }
   ],
   "source": [
    "# lendo os elementos colunas por colunas \n",
    "\n",
    "for i = mnum\n",
    "    println(\"elemento $i\")\n",
    "end"
   ]
  },
  {
   "cell_type": "code",
   "execution_count": 14,
   "metadata": {
    "collapsed": false,
    "deletable": true,
    "editable": true
   },
   "outputs": [
    {
     "name": "stdout",
     "output_type": "stream",
     "text": [
      "elemento 2\n",
      "elemento 4\n",
      "elemento 8\n",
      "elemento 9\n"
     ]
    }
   ],
   "source": [
    "# lendo os elementos linhas por linhas  (coloque aspas simples para inverter a matriz)\n",
    "\n",
    "for i = mnum'\n",
    "    println(\"elemento $i\")\n",
    "end"
   ]
  },
  {
   "cell_type": "markdown",
   "metadata": {
    "deletable": true,
    "editable": true
   },
   "source": [
    "**Break e Continue **\n",
    "\n",
    "Sintaxe:\n",
    "```julia\n",
    "for var = vetor # pode ser var in \n",
    "    CONDIÇÃO var\n",
    "        continue/break\n",
    "    end\n",
    "end\n",
    "```"
   ]
  },
  {
   "cell_type": "code",
   "execution_count": 18,
   "metadata": {
    "collapsed": false,
    "deletable": true,
    "editable": true
   },
   "outputs": [
    {
     "name": "stdout",
     "output_type": "stream",
     "text": [
      "3\n",
      "6\n",
      "9\n"
     ]
    }
   ],
   "source": [
    "# para i de 1 até 10,\n",
    "# se o resto da divisão i por 3 for diferente de zero, \n",
    "# então o loop é parado e retorna para o inicio do FOR\n",
    "# e o loop será continuado até o final se o resto for 0\n",
    "\n",
    "for i = 1:10\n",
    "    if i % 3 != 0\n",
    "        continue\n",
    "    end\n",
    "    println(i)\n",
    "end\n"
   ]
  },
  {
   "cell_type": "code",
   "execution_count": 19,
   "metadata": {
    "collapsed": false,
    "deletable": true,
    "editable": true,
    "scrolled": true
   },
   "outputs": [
    {
     "name": "stdout",
     "output_type": "stream",
     "text": [
      "1\n",
      "2\n"
     ]
    }
   ],
   "source": [
    "# para i de 1 até 10,\n",
    "# se o resto da divisão i por 3 for igual a zero,então o loop é encerrado\n",
    "\n",
    "for i = 1:10\n",
    "    if i % 3 == 0\n",
    "        break\n",
    "    end\n",
    "    println(i)\n",
    "end"
   ]
  },
  {
   "cell_type": "markdown",
   "metadata": {
    "deletable": true,
    "editable": true
   },
   "source": [
    "**Formas diversas do laço FOR**"
   ]
  },
  {
   "cell_type": "code",
   "execution_count": 20,
   "metadata": {
    "collapsed": false,
    "deletable": true,
    "editable": true,
    "scrolled": true
   },
   "outputs": [
    {
     "name": "stdout",
     "output_type": "stream",
     "text": [
      "1 * 1 = 1\n",
      "1 * 2 = 2\n",
      "2 * 1 = 2\n",
      "2 * 2 = 4\n"
     ]
    }
   ],
   "source": [
    "for n = 1:2\n",
    "    for m = 1:2\n",
    "        println(\"$n * $m = $(n * m)\")\n",
    "    end\n",
    "end "
   ]
  },
  {
   "cell_type": "code",
   "execution_count": 21,
   "metadata": {
    "collapsed": false,
    "deletable": true,
    "editable": true,
    "scrolled": true
   },
   "outputs": [
    {
     "name": "stdout",
     "output_type": "stream",
     "text": [
      "1 * 1 = 1\n",
      "1 * 2 = 2\n",
      "2 * 1 = 2\n",
      "2 * 2 = 4\n"
     ]
    }
   ],
   "source": [
    "for n = 1:2, m = 1:2\n",
    "    println(\"$n * $m = $(n * m)\")\n",
    "end "
   ]
  },
  {
   "cell_type": "code",
   "execution_count": 18,
   "metadata": {
    "collapsed": false,
    "deletable": true,
    "editable": true
   },
   "outputs": [
    {
     "name": "stdout",
     "output_type": "stream",
     "text": [
      "sin(x) * y = 0.8414709848078965\n",
      "sin(x) * y = 1.682941969615793\n",
      "sin(x) * y = 2.5244129544236893\n",
      "sin(x) * y = 0.9092974268256817\n",
      "sin(x) * y = 1.8185948536513634\n",
      "sin(x) * y = 2.727892280477045\n",
      "sin(x) * y = 0.1411200080598672\n",
      "sin(x) * y = 0.2822400161197344\n",
      "sin(x) * y = 0.4233600241796016\n"
     ]
    }
   ],
   "source": [
    "for x = 1:3, y = 1:3\n",
    "    @show (sin(x)*y)\n",
    "end"
   ]
  },
  {
   "cell_type": "code",
   "execution_count": 23,
   "metadata": {
    "collapsed": false,
    "deletable": true,
    "editable": true,
    "scrolled": false
   },
   "outputs": [
    {
     "name": "stdout",
     "output_type": "stream",
     "text": [
      "1 : julia\n",
      "2 : python\n",
      "3 : sagemath\n",
      "4 : maxima\n",
      "5 : octave\n"
     ]
    }
   ],
   "source": [
    "# (index, value) são nomes obrigatórios para funcionar o laço\n",
    "lista = [\"julia\",\"python\",\"sagemath\",\"maxima\",\"octave\"]\n",
    "\n",
    "for (index, value) =  enumerate(lista) # pode ser (index, value) in\n",
    "           println(\"$index : $value\")\n",
    "end"
   ]
  },
  {
   "cell_type": "code",
   "execution_count": 24,
   "metadata": {
    "collapsed": false,
    "deletable": true,
    "editable": true,
    "scrolled": true
   },
   "outputs": [
    {
     "name": "stdout",
     "output_type": "stream",
     "text": [
      "A capital do Rio é Rio de Janeiro\n",
      "A capital do Piauí é Teresina\n",
      "A capital do Goiás é Goiânia\n"
     ]
    }
   ],
   "source": [
    "# O comando zip agrupa os vetores Estado e Capital formando um conjunto zip\n",
    "Estado   = [\"Rio\", \"Piauí\", \"Goiás\"]\n",
    "Capital  = [\"Rio de Janeiro\", \"Teresina\", \"Goiânia\"]\n",
    "\n",
    "for (i, j) = zip(Estado, Capital)\n",
    "    println(\"A capital do $i é $j\")\n",
    "end"
   ]
  },
  {
   "cell_type": "markdown",
   "metadata": {},
   "source": [
    "**Calculo e polinômios**\n",
    "\n",
    "```julia\n",
    "@evalpoly var_valor a b c...n\n",
    "```\n",
    "Sendo: \n",
    "* var_valor : valor da variável;\n",
    "* a b c ... n : coeficientes"
   ]
  },
  {
   "cell_type": "code",
   "execution_count": 2,
   "metadata": {
    "collapsed": false,
    "scrolled": true
   },
   "outputs": [
    {
     "data": {
      "text/plain": [
       "1"
      ]
     },
     "execution_count": 2,
     "metadata": {},
     "output_type": "execute_result"
    }
   ],
   "source": [
    "@evalpoly 0 1 2 3"
   ]
  },
  {
   "cell_type": "code",
   "execution_count": 3,
   "metadata": {
    "collapsed": false
   },
   "outputs": [
    {
     "name": "stdout",
     "output_type": "stream",
     "text": [
      "1\n",
      "86\n",
      "4881\n",
      "66\n",
      "121\n",
      "34\n"
     ]
    }
   ],
   "source": [
    "for x = [0, 5, 40, -5, 6, 3]\n",
    "    println(@evalpoly x 1 2 3)\n",
    "end"
   ]
  },
  {
   "cell_type": "markdown",
   "metadata": {
    "deletable": true,
    "editable": true
   },
   "source": [
    "### REPETIÇÃO \"ENQUANTO\" (WHILE)\n",
    "\n",
    "O comando  `sleep(tempo_segundos)` permite controlar o laço em um determinado tempo em segundos.\n",
    "Sintaxe Básica:\n",
    "```julia\n",
    "while condição \n",
    "    instruções\n",
    "end\n",
    "```"
   ]
  },
  {
   "cell_type": "markdown",
   "metadata": {
    "deletable": true,
    "editable": true
   },
   "source": [
    "**Implementando Laços WHILE**"
   ]
  },
  {
   "cell_type": "code",
   "execution_count": 27,
   "metadata": {
    "collapsed": false,
    "deletable": true,
    "editable": true,
    "scrolled": false
   },
   "outputs": [
    {
     "name": "stdout",
     "output_type": "stream",
     "text": [
      "0\n",
      "1\n",
      "2\n",
      "3\n",
      "4\n",
      "5\n"
     ]
    }
   ],
   "source": [
    "# conta enquanto \"a\" menor ou igual a 5.\n",
    "a = 0\n",
    "\n",
    "while a <= 5    \n",
    "    println(a)\n",
    "    a = a + 1    \n",
    "end"
   ]
  },
  {
   "cell_type": "code",
   "execution_count": 19,
   "metadata": {
    "collapsed": false,
    "deletable": true,
    "editable": true
   },
   "outputs": [
    {
     "name": "stdout",
     "output_type": "stream",
     "text": [
      "0\n",
      "1\n",
      "2\n",
      "3\n",
      "4\n"
     ]
    }
   ],
   "source": [
    "# conta enquanto \"a\" menor ou igual a 5.\n",
    "a = 0\n",
    "b = 1:5\n",
    "\n",
    "while  a < length(b) \n",
    "    println(a)\n",
    "    a = a + 1    \n",
    "end"
   ]
  },
  {
   "cell_type": "code",
   "execution_count": 20,
   "metadata": {
    "collapsed": false,
    "deletable": true,
    "editable": true
   },
   "outputs": [
    {
     "name": "stdout",
     "output_type": "stream",
     "text": [
      "0\n",
      "1\n",
      "2\n",
      "3\n",
      "4\n",
      "5\n"
     ]
    }
   ],
   "source": [
    "# controlando o laço com sleep\n",
    "a = 0\n",
    "\n",
    "while a <= 5   \n",
    "    sleep(1)\n",
    "    println(a)\n",
    "    a = a + 1     \n",
    "end"
   ]
  },
  {
   "cell_type": "markdown",
   "metadata": {
    "deletable": true,
    "editable": true
   },
   "source": [
    "**Continue e Break** \n",
    "\n",
    "```julia\n",
    "while condição \n",
    "    CONDIÇÃO \n",
    "        break/continue\n",
    "    end\n",
    "end\n",
    "```"
   ]
  },
  {
   "cell_type": "code",
   "execution_count": 30,
   "metadata": {
    "collapsed": false,
    "deletable": true,
    "editable": true,
    "scrolled": false
   },
   "outputs": [
    {
     "name": "stdout",
     "output_type": "stream",
     "text": [
      "0\n",
      "1\n",
      "2\n"
     ]
    }
   ],
   "source": [
    "# conta enquanto \"a\" menor ou igual a 5. \n",
    "# se \"a\" dividido por 3 for diferente de 0 para!\n",
    "\n",
    "a = 0\n",
    "\n",
    "while a <= 10    \n",
    "    println(a)\n",
    "    a = a + 1    \n",
    "    if a % 3 == 0\n",
    "        break\n",
    "    end    \n",
    "end"
   ]
  },
  {
   "cell_type": "markdown",
   "metadata": {
    "deletable": true,
    "editable": true
   },
   "source": [
    "### REPETIÇÃO \"FAÇA ATÉ QUE\"\n",
    "\n",
    "Sintaxe Básica:\n",
    "```julia\n",
    "comando_execução/função do var\n",
    "  instruções\n",
    "  até que (condição_var)\n",
    "end\n",
    "```"
   ]
  },
  {
   "cell_type": "markdown",
   "metadata": {
    "deletable": true,
    "editable": true
   },
   "source": [
    "**Implementando Laços DO..UNTIL**"
   ]
  },
  {
   "cell_type": "code",
   "execution_count": 36,
   "metadata": {
    "collapsed": false,
    "deletable": true,
    "editable": true,
    "scrolled": true
   },
   "outputs": [
    {
     "data": {
      "text/plain": [
       "1-element Array{Int64,1}:\n",
       " 41"
      ]
     },
     "execution_count": 36,
     "metadata": {},
     "output_type": "execute_result"
    }
   ],
   "source": [
    "# find retorna o indice do vetor quando encontrar o valor igual a 5\n",
    "x = 1:0.1:20\n",
    "\n",
    "find(x) do x\n",
    "    x == 5    \n",
    "end"
   ]
  },
  {
   "cell_type": "code",
   "execution_count": 33,
   "metadata": {
    "collapsed": false,
    "deletable": true,
    "editable": true,
    "scrolled": false
   },
   "outputs": [
    {
     "data": {
      "text/plain": [
       "5.0"
      ]
     },
     "execution_count": 33,
     "metadata": {},
     "output_type": "execute_result"
    }
   ],
   "source": [
    "numeros[41]"
   ]
  },
  {
   "cell_type": "code",
   "execution_count": 17,
   "metadata": {
    "collapsed": false
   },
   "outputs": [
    {
     "data": {
      "text/plain": [
       "f (generic function with 1 method)"
      ]
     },
     "execution_count": 17,
     "metadata": {},
     "output_type": "execute_result"
    }
   ],
   "source": [
    "f(x) = 2*x"
   ]
  },
  {
   "cell_type": "code",
   "execution_count": 41,
   "metadata": {
    "collapsed": false
   },
   "outputs": [
    {
     "ename": "LoadError",
     "evalue": "syntax: extra token \"do\" after end of expression",
     "output_type": "error",
     "traceback": [
      "syntax: extra token \"do\" after end of expression",
      "",
      " in execute_request(::ZMQ.Socket, ::IJulia.Msg) at /home/jmarcellopereira/.julia/v0.5/IJulia/src/execute_request.jl:157",
      " in eventloop(::ZMQ.Socket) at /home/jmarcellopereira/.julia/v0.5/IJulia/src/eventloop.jl:8",
      " in (::IJulia.##13#19)() at ./task.jl:360"
     ]
    }
   ],
   "source": [
    "f.(x) do x\n",
    "    x == 5.0\n",
    "end"
   ]
  },
  {
   "cell_type": "markdown",
   "metadata": {
    "deletable": true,
    "editable": true
   },
   "source": [
    "**% FIM PROGRAMAÇÃO BÁSICA %**"
   ]
  },
  {
   "cell_type": "code",
   "execution_count": null,
   "metadata": {
    "collapsed": true
   },
   "outputs": [],
   "source": []
  }
 ],
 "metadata": {
  "anaconda-cloud": {},
  "kernelspec": {
   "display_name": "Julia 0.6.0",
   "language": "julia",
   "name": "julia-0.6"
  },
  "language_info": {
   "file_extension": ".jl",
   "mimetype": "application/julia",
   "name": "julia",
   "version": "0.6.0"
  }
 },
 "nbformat": 4,
 "nbformat_minor": 0
}
