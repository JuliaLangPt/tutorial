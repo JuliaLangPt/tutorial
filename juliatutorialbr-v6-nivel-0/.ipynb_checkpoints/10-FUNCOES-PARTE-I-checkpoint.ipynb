{
 "cells": [
  {
   "cell_type": "markdown",
   "metadata": {
    "nbpresent": {
     "id": "c28ef5b9-f892-488f-86f2-fbc89cc29974"
    }
   },
   "source": [
    "## FUNÇÕES PARTE I\n",
    "\n",
    "\n",
    "Na Matemática, função é uma correspondência unívoca entre dois conjuntos em que a cada elemento do domínio corresponde a um e somente um elemento da imagem (Figura). Dessa forma, temos que uma função é uma relação entre as variáveis envolvidas sendo uma dependente e outra independente. Ex: $y(x) = x + 2 ~,~  f(x,y) = x^2 + y^2$\n",
    "\n",
    "<img src=\"Figuras/funcao.png\" alt=\"Função. A é o domínio e B a imagem\" width=\"200\">\n",
    "\n",
    "No campo da computação, Tucker & Noonan(2009) informam que \"em linguagens diferentes, as funções são conhecidas variavelmente como procedimentos, sub-rotinas, subprogramas ou métodos, e possuem diversas características em comum, assim como algumas diferenças importantes nas mais variadas linguagens\". De modo geral, uma função é segmento do código que contém um conjunto de instruções que pode ou não receber argumentos e retornar um ou vários valores processados.\n",
    "\n",
    "Na linguagem Julia funções são objetos de primeira classe (First-Class Object). De acordo com Sherrington (2015) \"isso permite que eles sejam atribuídos a outros identificadores, passados como argumentos para outras funções, retornados como o valor de outras funções, armazenadas como coleções e aplicadas (mapeadas) para um conjunto de valores em tempo de execução\". Julia permite definir funções de duas formas: genérica e anônima (módulo-1). Cada forma possui vantagens e desvantagens quanto ao desempenho e sintaxe. Em geral a mais utilizada é a função genérica. "
   ]
  },
  {
   "cell_type": "markdown",
   "metadata": {
    "nbpresent": {
     "id": "ab66202c-2b25-49b9-b08e-073d9f47b5cd"
    }
   },
   "source": [
    "### FUNÇÕES GENÉRICAS \n",
    "\n",
    "As funções genéricas são chamadas assim porque estão prontas para trabalhar com diferentes tipos de dados para suas variáveis. Dessa forma, será retornado o valor processador da ultima linha da função. Assim, quando temos uma função contendo várias expressões, devemos utilizar o comando `return` para explicitar qual linha retornará o valor que desejamos trabalhar fora da função. É possível ainda definir o tipo de dado do retorno calculado pela função. Sintaxe:\n",
    "\n",
    "Sintaxe:\n",
    "\n",
    "```julia\n",
    "function nome(argumento_1, argumento_2..., argumento_n)\n",
    "    expressão_1\n",
    "    expressão_2\n",
    "    ...\n",
    "    expressão_n\n",
    "    return valor_1, valor_2, ...., valor_n\n",
    "end\n",
    "```\n",
    "Há ainda uma forma reduzida da função genérica bem semelhante a uma função matemática, definida como:\n",
    "\n",
    "```julia\n",
    "nome_função(argumento_1, argumento_2..., argumento_n)  = expressão_1, expressão_2, ..., expressão_n\n",
    "```\n",
    "Ainda podemos utilizar a forma reduzida com várias linhas na forma:\n",
    "```julia\n",
    "nome_função(argumento_1, argumento_2..., argumento_n) = begin\n",
    "    expressão_1\n",
    "    expressão_2\n",
    "    ...\n",
    "    expressão_n\n",
    "    return valor_1, valor_2, ...., valor_n\n",
    "end\n",
    "```\n",
    "O resultado de uma constante aplicado a uma função é uma constante e o resultado de um vetor ou matriz aplicado a uma função corresponde a um resultado na forma de vetor ou matriz."
   ]
  },
  {
   "cell_type": "code",
   "execution_count": 1,
   "metadata": {},
   "outputs": [
    {
     "data": {
      "text/plain": [
       "f1 (generic function with 1 method)"
      ]
     },
     "execution_count": 1,
     "metadata": {},
     "output_type": "execute_result"
    }
   ],
   "source": [
    "# forma tradicional.\n",
    "function f1(x)\n",
    "    x^2 + 2*x + 1\n",
    "end"
   ]
  },
  {
   "cell_type": "code",
   "execution_count": 2,
   "metadata": {
    "scrolled": true
   },
   "outputs": [
    {
     "data": {
      "text/plain": [
       "36"
      ]
     },
     "execution_count": 2,
     "metadata": {},
     "output_type": "execute_result"
    }
   ],
   "source": [
    "f1(5)"
   ]
  },
  {
   "cell_type": "code",
   "execution_count": 3,
   "metadata": {},
   "outputs": [
    {
     "data": {
      "text/latex": [
       "\\begin{tabular}\n",
       "{l | r | l}\n",
       "name & size & summary \\\\\n",
       "\\hline\n",
       "Base &  & Module \\\\\n",
       "Core &  & Module \\\\\n",
       "Main &  & Module \\\\\n",
       "f1 & 0 bytes & typeof(f1) \\\\\n",
       "\\end{tabular}\n"
      ],
      "text/markdown": [
       "| name |    size | summary    |\n",
       "|:---- | -------:|:---------- |\n",
       "| Base |         | Module     |\n",
       "| Core |         | Module     |\n",
       "| Main |         | Module     |\n",
       "| f1   | 0 bytes | typeof(f1) |\n"
      ],
      "text/plain": [
       "name    size summary   \n",
       "–––– ––––––– ––––––––––\n",
       "Base         Module    \n",
       "Core         Module    \n",
       "Main         Module    \n",
       "f1   0 bytes typeof(f1)"
      ]
     },
     "execution_count": 3,
     "metadata": {},
     "output_type": "execute_result"
    }
   ],
   "source": [
    "varinfo()"
   ]
  },
  {
   "cell_type": "code",
   "execution_count": 4,
   "metadata": {
    "scrolled": true
   },
   "outputs": [
    {
     "data": {
      "text/plain": [
       "f2 (generic function with 1 method)"
      ]
     },
     "execution_count": 4,
     "metadata": {},
     "output_type": "execute_result"
    }
   ],
   "source": [
    "# forma reduzida\n",
    "f2(x) = x^2 + 2*x + 1"
   ]
  },
  {
   "cell_type": "code",
   "execution_count": 5,
   "metadata": {
    "scrolled": true
   },
   "outputs": [
    {
     "data": {
      "text/plain": [
       "36"
      ]
     },
     "execution_count": 5,
     "metadata": {},
     "output_type": "execute_result"
    }
   ],
   "source": [
    "f2(5)"
   ]
  },
  {
   "cell_type": "markdown",
   "metadata": {},
   "source": [
    "As funções `f1()` e `f2()` são de retorno único. As funções a seguir `f3()` e `f3_1()` são de retorno múltiplo."
   ]
  },
  {
   "cell_type": "code",
   "execution_count": 6,
   "metadata": {
    "scrolled": true
   },
   "outputs": [
    {
     "data": {
      "text/plain": [
       "f3 (generic function with 1 method)"
      ]
     },
     "execution_count": 6,
     "metadata": {},
     "output_type": "execute_result"
    }
   ],
   "source": [
    "# Retorno Tupla\n",
    "function f3(x)\n",
    "    x^2 , x/2\n",
    "end"
   ]
  },
  {
   "cell_type": "code",
   "execution_count": 7,
   "metadata": {
    "scrolled": false
   },
   "outputs": [
    {
     "data": {
      "text/plain": [
       "(25, 2.5)"
      ]
     },
     "execution_count": 7,
     "metadata": {},
     "output_type": "execute_result"
    }
   ],
   "source": [
    "f3(5)"
   ]
  },
  {
   "cell_type": "markdown",
   "metadata": {},
   "source": [
    "A função retorna uma tupla de valores, para listar somente o segundo resultado use:"
   ]
  },
  {
   "cell_type": "code",
   "execution_count": 8,
   "metadata": {
    "scrolled": false
   },
   "outputs": [
    {
     "data": {
      "text/plain": [
       "2.5"
      ]
     },
     "execution_count": 8,
     "metadata": {},
     "output_type": "execute_result"
    }
   ],
   "source": [
    "f3(5)[2]"
   ]
  },
  {
   "cell_type": "markdown",
   "metadata": {},
   "source": [
    "É interessante observar que o tipo de dado do retorno pode ser definido. Vejamos a mesma função anterior com os valores de retorno definidos como um dicionário."
   ]
  },
  {
   "cell_type": "code",
   "execution_count": 9,
   "metadata": {},
   "outputs": [
    {
     "data": {
      "text/plain": [
       "f3_1 (generic function with 1 method)"
      ]
     },
     "execution_count": 9,
     "metadata": {},
     "output_type": "execute_result"
    }
   ],
   "source": [
    "# função de uma variável com retorno múltiplo dicionário\n",
    "function f3_1(x)\n",
    "    Dict([(\"Sol_a\", x^2), (\"Sol_b\", x/2)])\n",
    "end"
   ]
  },
  {
   "cell_type": "code",
   "execution_count": 10,
   "metadata": {},
   "outputs": [
    {
     "data": {
      "text/plain": [
       "Dict{String,Real} with 2 entries:\n",
       "  \"Sol_b\" => 2.5\n",
       "  \"Sol_a\" => 25"
      ]
     },
     "execution_count": 10,
     "metadata": {},
     "output_type": "execute_result"
    }
   ],
   "source": [
    "f3_1(5)"
   ]
  },
  {
   "cell_type": "code",
   "execution_count": 11,
   "metadata": {},
   "outputs": [
    {
     "data": {
      "text/plain": [
       "25"
      ]
     },
     "execution_count": 11,
     "metadata": {},
     "output_type": "execute_result"
    }
   ],
   "source": [
    "f3_1(5)[\"Sol_a\"]"
   ]
  },
  {
   "cell_type": "code",
   "execution_count": 12,
   "metadata": {},
   "outputs": [
    {
     "data": {
      "text/plain": [
       "f4 (generic function with 1 method)"
      ]
     },
     "execution_count": 12,
     "metadata": {},
     "output_type": "execute_result"
    }
   ],
   "source": [
    "# forma reduzida com retorno múltiplo tupla\n",
    "f4(x) = x^2 , x/2"
   ]
  },
  {
   "cell_type": "code",
   "execution_count": 13,
   "metadata": {
    "scrolled": false
   },
   "outputs": [
    {
     "data": {
      "text/plain": [
       "(25, 2.5)"
      ]
     },
     "execution_count": 13,
     "metadata": {},
     "output_type": "execute_result"
    }
   ],
   "source": [
    "f4(5)"
   ]
  },
  {
   "cell_type": "markdown",
   "metadata": {},
   "source": [
    "**Funções com múltiplos argumentos de entrada**\n",
    "\n",
    "Uma função pode ter um ou vários argumentos de entrada e da mesma forma retornar um ou vários resultados processados."
   ]
  },
  {
   "cell_type": "code",
   "execution_count": 14,
   "metadata": {},
   "outputs": [
    {
     "data": {
      "text/plain": [
       "f5 (generic function with 1 method)"
      ]
     },
     "execution_count": 14,
     "metadata": {},
     "output_type": "execute_result"
    }
   ],
   "source": [
    "# forma tradicional\n",
    "function f5(x , y)\n",
    "    x^2 + y^2\n",
    "end"
   ]
  },
  {
   "cell_type": "code",
   "execution_count": 15,
   "metadata": {},
   "outputs": [
    {
     "data": {
      "text/plain": [
       "4"
      ]
     },
     "execution_count": 15,
     "metadata": {},
     "output_type": "execute_result"
    }
   ],
   "source": [
    "f5(0, 2)"
   ]
  },
  {
   "cell_type": "code",
   "execution_count": 16,
   "metadata": {},
   "outputs": [
    {
     "data": {
      "text/plain": [
       "f5 (generic function with 1 method)"
      ]
     },
     "execution_count": 16,
     "metadata": {},
     "output_type": "execute_result"
    }
   ],
   "source": [
    "# forma reduzida\n",
    "f5(x, y) = x^2 + y^2"
   ]
  },
  {
   "cell_type": "code",
   "execution_count": 17,
   "metadata": {},
   "outputs": [
    {
     "data": {
      "text/plain": [
       "4"
      ]
     },
     "execution_count": 17,
     "metadata": {},
     "output_type": "execute_result"
    }
   ],
   "source": [
    "f5(0, 2)"
   ]
  },
  {
   "cell_type": "markdown",
   "metadata": {},
   "source": [
    "#### TRANSFORMANDO UMA FORMULA STRING EM UMA FUNÇÃO GENÉRICA \n",
    "\n",
    "É possível transformar um texto de uma função em uma função genérica manipulável. Sintaxe:\n",
    "```julia\n",
    "@eval nome(argumento_1, argumento_2..., argumento_n) = $(parse(\"função_string\"))\n",
    "\n",
    "```"
   ]
  },
  {
   "cell_type": "code",
   "execution_count": 18,
   "metadata": {
    "scrolled": false
   },
   "outputs": [
    {
     "data": {
      "text/plain": [
       "f6 (generic function with 1 method)"
      ]
     },
     "execution_count": 18,
     "metadata": {},
     "output_type": "execute_result"
    }
   ],
   "source": [
    "# \"x^2-2*x-1\" é uma string\n",
    "@eval f6(x) = $(Meta.parse(\"x^2 - 2*x - 1\"))"
   ]
  },
  {
   "cell_type": "code",
   "execution_count": 19,
   "metadata": {
    "scrolled": false
   },
   "outputs": [
    {
     "data": {
      "text/plain": [
       "-1"
      ]
     },
     "execution_count": 19,
     "metadata": {},
     "output_type": "execute_result"
    }
   ],
   "source": [
    "f6(0)"
   ]
  },
  {
   "cell_type": "markdown",
   "metadata": {},
   "source": [
    "#### BROADCASTING\n",
    "\n",
    "A função `broadcast(f, coleção)` aplica uma função `f` sobre uma coleção retornando outra coleção de resultados processados. Dessa forma é posível utilizar vetores, matrizes, conjuntos e tuplas como argumento de uma função no qual a será processado cada elemento da coleção. A sintaxe `f.(coleção)` é equivalente à `broadcast(f, coleção)`. Dicionários e tuplas nomeadas não podem ser utilizadas como argumento."
   ]
  },
  {
   "cell_type": "code",
   "execution_count": 20,
   "metadata": {
    "scrolled": false
   },
   "outputs": [
    {
     "data": {
      "text/plain": [
       "f7 (generic function with 1 method)"
      ]
     },
     "execution_count": 20,
     "metadata": {},
     "output_type": "execute_result"
    }
   ],
   "source": [
    "f7(x) = x^2 - 2*x"
   ]
  },
  {
   "cell_type": "code",
   "execution_count": 21,
   "metadata": {},
   "outputs": [
    {
     "data": {
      "text/plain": [
       "3-element Array{Int64,1}:\n",
       " 0\n",
       " 3\n",
       " 8"
      ]
     },
     "execution_count": 21,
     "metadata": {},
     "output_type": "execute_result"
    }
   ],
   "source": [
    "#Vetor\n",
    "broadcast(f7, [2, 3, 4])"
   ]
  },
  {
   "cell_type": "code",
   "execution_count": 22,
   "metadata": {
    "scrolled": true
   },
   "outputs": [
    {
     "data": {
      "text/plain": [
       "3-element Array{Int64,1}:\n",
       " 0\n",
       " 3\n",
       " 8"
      ]
     },
     "execution_count": 22,
     "metadata": {},
     "output_type": "execute_result"
    }
   ],
   "source": [
    "# Vetor\n",
    "f7.([2, 3, 4])"
   ]
  },
  {
   "cell_type": "markdown",
   "metadata": {},
   "source": [
    "O resultado do vetor passado como argumento da função `f7()` é um vetor."
   ]
  },
  {
   "cell_type": "code",
   "execution_count": 23,
   "metadata": {
    "scrolled": false
   },
   "outputs": [
    {
     "data": {
      "text/plain": [
       "2×2 Array{Int64,2}:\n",
       "  8  15\n",
       " 35  24"
      ]
     },
     "execution_count": 23,
     "metadata": {},
     "output_type": "execute_result"
    }
   ],
   "source": [
    "#Matriz\n",
    "f7.([4 5; 7 6])"
   ]
  },
  {
   "cell_type": "markdown",
   "metadata": {},
   "source": [
    "O resultado da matriz passado como argumento da função `f7()` é uma matriz."
   ]
  },
  {
   "cell_type": "code",
   "execution_count": 24,
   "metadata": {},
   "outputs": [
    {
     "data": {
      "text/plain": [
       "2-element Array{Any,1}:\n",
       " 8              \n",
       "  [43 40; 56 59]"
      ]
     },
     "execution_count": 24,
     "metadata": {},
     "output_type": "execute_result"
    }
   ],
   "source": [
    "# Conjunto\n",
    "f7.(Set([4, [4 5; 7 6]]))"
   ]
  },
  {
   "cell_type": "markdown",
   "metadata": {},
   "source": [
    "O resultado do conjunto passado como argumento da função `f7()` é um vetor."
   ]
  },
  {
   "cell_type": "code",
   "execution_count": 25,
   "metadata": {
    "scrolled": false
   },
   "outputs": [
    {
     "data": {
      "text/plain": [
       "(8, [43 40; 56 59])"
      ]
     },
     "execution_count": 25,
     "metadata": {},
     "output_type": "execute_result"
    }
   ],
   "source": [
    "# Tupla\n",
    "f7.((4, [4 5; 7 6]))"
   ]
  },
  {
   "cell_type": "markdown",
   "metadata": {},
   "source": [
    "O resultado da tupla passado como argumento da função `f7()` é uma tupla."
   ]
  },
  {
   "cell_type": "markdown",
   "metadata": {},
   "source": [
    "Quando temos uma função de múltiplos argumentos, devemos observar que todos os argumentos devem ter a mesma dimensão."
   ]
  },
  {
   "cell_type": "code",
   "execution_count": 26,
   "metadata": {
    "scrolled": true
   },
   "outputs": [
    {
     "data": {
      "text/plain": [
       "f8 (generic function with 1 method)"
      ]
     },
     "execution_count": 26,
     "metadata": {},
     "output_type": "execute_result"
    }
   ],
   "source": [
    "# Função genérica de dois argumentos\n",
    "f8(x, y) = x^2 - 2*y"
   ]
  },
  {
   "cell_type": "markdown",
   "metadata": {},
   "source": [
    "Os vetores argumentos da função devem ter a mesma dimensão."
   ]
  },
  {
   "cell_type": "code",
   "execution_count": 27,
   "metadata": {
    "scrolled": false
   },
   "outputs": [
    {
     "data": {
      "text/plain": [
       "3-element Array{Int64,1}:\n",
       " -1\n",
       " -6\n",
       " -3"
      ]
     },
     "execution_count": 27,
     "metadata": {},
     "output_type": "execute_result"
    }
   ],
   "source": [
    "f8.([1, 2, 3] , [1, 5, 6])"
   ]
  },
  {
   "cell_type": "markdown",
   "metadata": {},
   "source": [
    "O resultado é um vetor de mesma dimensão dos argumentos."
   ]
  },
  {
   "cell_type": "code",
   "execution_count": 28,
   "metadata": {
    "scrolled": false
   },
   "outputs": [
    {
     "data": {
      "text/plain": [
       "2×3 Array{Int64,2}:\n",
       " -1   0   3\n",
       "  8  15  24"
      ]
     },
     "execution_count": 28,
     "metadata": {},
     "output_type": "execute_result"
    }
   ],
   "source": [
    "f8.([1 2 3; 4 5 6],[1 2 3; 4 5 6] )"
   ]
  },
  {
   "cell_type": "markdown",
   "metadata": {},
   "source": [
    "O resultado é uma matriz de mesma dimensão dos argumentos."
   ]
  },
  {
   "cell_type": "markdown",
   "metadata": {},
   "source": [
    "**Avaliação de funções**\n",
    "\n",
    "é possível avaliar funções quanto a falso ou verdadeiro"
   ]
  },
  {
   "cell_type": "code",
   "execution_count": 29,
   "metadata": {},
   "outputs": [
    {
     "data": {
      "text/plain": [
       "fB (generic function with 1 method)"
      ]
     },
     "execution_count": 29,
     "metadata": {},
     "output_type": "execute_result"
    }
   ],
   "source": [
    "function fA(x)\n",
    "    if x >= 0\n",
    "        println(x^2)\n",
    "        return true\n",
    "    else\n",
    "        return false\n",
    "    end\n",
    "end\n",
    "\n",
    "function fB(x)\n",
    "    if x < 0\n",
    "        println(2*x)\n",
    "        return true\n",
    "    else\n",
    "        return false\n",
    "    end\n",
    "end"
   ]
  },
  {
   "cell_type": "code",
   "execution_count": 30,
   "metadata": {},
   "outputs": [
    {
     "name": "stdout",
     "output_type": "stream",
     "text": [
      "-4\n"
     ]
    },
    {
     "data": {
      "text/plain": [
       "true"
      ]
     },
     "execution_count": 30,
     "metadata": {},
     "output_type": "execute_result"
    }
   ],
   "source": [
    "fB(-2) || fA(2)"
   ]
  },
  {
   "cell_type": "code",
   "execution_count": 31,
   "metadata": {},
   "outputs": [
    {
     "name": "stdout",
     "output_type": "stream",
     "text": [
      "-4\n"
     ]
    },
    {
     "data": {
      "text/plain": [
       "false"
      ]
     },
     "execution_count": 31,
     "metadata": {},
     "output_type": "execute_result"
    }
   ],
   "source": [
    "fB(-2) & fA(-2)"
   ]
  },
  {
   "cell_type": "markdown",
   "metadata": {},
   "source": [
    "#### APLICAÇÕES"
   ]
  },
  {
   "cell_type": "markdown",
   "metadata": {},
   "source": [
    "**Função Raízes Equação de Báskara**"
   ]
  },
  {
   "cell_type": "code",
   "execution_count": 32,
   "metadata": {
    "scrolled": true
   },
   "outputs": [
    {
     "data": {
      "text/plain": [
       "fraiz (generic function with 1 method)"
      ]
     },
     "execution_count": 32,
     "metadata": {},
     "output_type": "execute_result"
    }
   ],
   "source": [
    "function fraiz(a, b, c)    \n",
    "    delta = b^2 - 4*a*c    \n",
    "    if delta < 0\n",
    "        print(\"Delta negativo, raiz real impossivel de ser extraida.\")        \n",
    "    else                \n",
    "        x1 = (-b + sqrt(delta)) / (2*a)\n",
    "        x2 = (-b - sqrt(delta)) / (2*a)        \n",
    "        return x1 , x2 # retorno multiplo na forma de uma tupla\n",
    "    end\n",
    "end"
   ]
  },
  {
   "cell_type": "code",
   "execution_count": 33,
   "metadata": {},
   "outputs": [
    {
     "data": {
      "text/plain": [
       "(-3.0, 5.0)"
      ]
     },
     "execution_count": 33,
     "metadata": {},
     "output_type": "execute_result"
    }
   ],
   "source": [
    " fraiz(-5, 10, 75)"
   ]
  },
  {
   "cell_type": "code",
   "execution_count": 34,
   "metadata": {},
   "outputs": [
    {
     "data": {
      "text/plain": [
       "(1.5, -1.0)"
      ]
     },
     "execution_count": 34,
     "metadata": {},
     "output_type": "execute_result"
    }
   ],
   "source": [
    "# entre com os coeficientes da função do segundo grau\n",
    "raizf = fraiz(2, -1, -3) # resultado é uma tupla de dados"
   ]
  },
  {
   "cell_type": "code",
   "execution_count": 35,
   "metadata": {},
   "outputs": [
    {
     "data": {
      "text/plain": [
       "-1.0"
      ]
     },
     "execution_count": 35,
     "metadata": {},
     "output_type": "execute_result"
    }
   ],
   "source": [
    "# acesso segunda raiz\n",
    "raizf[2]"
   ]
  },
  {
   "cell_type": "code",
   "execution_count": 36,
   "metadata": {
    "scrolled": false
   },
   "outputs": [
    {
     "name": "stdout",
     "output_type": "stream",
     "text": [
      "Delta negativo, raiz real impossivel de ser extraida."
     ]
    }
   ],
   "source": [
    "fraiz(-4, 2, -6)"
   ]
  },
  {
   "cell_type": "markdown",
   "metadata": {},
   "source": [
    "A mesma função pode ser escrita utilizando o bloco `begin ...end`."
   ]
  },
  {
   "cell_type": "code",
   "execution_count": 37,
   "metadata": {},
   "outputs": [
    {
     "data": {
      "text/plain": [
       "fraiz_2 (generic function with 1 method)"
      ]
     },
     "execution_count": 37,
     "metadata": {},
     "output_type": "execute_result"
    }
   ],
   "source": [
    "fraiz_2(a, b, c) = begin   \n",
    "    delta = b^2 - 4*a*c    \n",
    "    if delta < 0\n",
    "        print(\"Delta negativo, raiz real impossivel de ser extraida.\")        \n",
    "    else                \n",
    "        x1 = (-b + sqrt(delta)) / (2*a)\n",
    "        x2 = (-b - sqrt(delta)) / (2*a)        \n",
    "        return x1 , x2 # retorno multiplo na forma de uma tupla\n",
    "    end\n",
    "end"
   ]
  },
  {
   "cell_type": "code",
   "execution_count": 38,
   "metadata": {},
   "outputs": [
    {
     "name": "stdout",
     "output_type": "stream",
     "text": [
      "Delta negativo, raiz real impossivel de ser extraida."
     ]
    }
   ],
   "source": [
    "fraiz_2(1, 2, 3)"
   ]
  },
  {
   "cell_type": "markdown",
   "metadata": {},
   "source": [
    "**Valores extremos de uma Função**\n",
    "\n",
    "A ideia aqui é utilizar a poder de processamento numérico da linguagem Julia para encontrar os valores extremos de máximo e mínimo de uma função em um intervalo $[a, b]$ que são de grande interesse em várias aplicações.\n",
    "\n",
    "* `findmax()` retorna o valor máximo e índice da coleção resultado da função. Sintaxe:\n",
    "```julia\n",
    "valor_maximo, índice = findmax(função.(coleção))\n",
    "```\n",
    "\n",
    "* `findmin()` retorna o valor minimo e índice da coleção resultado da função. Sintaxe:\n",
    "```julia\n",
    "valor_minimo, índice = findmin(função.(coleção))\n",
    "```\n",
    "\n",
    "Exemplo : Encontrar os extremos definidos pela função $f(x) = x^4 -x^2 + 10~$ no intervalo $[-0.8, 0.8]$"
   ]
  },
  {
   "cell_type": "code",
   "execution_count": 39,
   "metadata": {},
   "outputs": [
    {
     "data": {
      "text/plain": [
       "f9 (generic function with 1 method)"
      ]
     },
     "execution_count": 39,
     "metadata": {},
     "output_type": "execute_result"
    }
   ],
   "source": [
    "# função \n",
    "f9(x) = x^4 - x^2 + 10"
   ]
  },
  {
   "cell_type": "markdown",
   "metadata": {},
   "source": [
    "<img src=\"Figuras/funcao-extremo.png\" alt = \"Função\" align=\"center\" width=\"400\">"
   ]
  },
  {
   "cell_type": "markdown",
   "metadata": {},
   "source": [
    "De acordo com o gráfico, temos os pontos de máximo e mínimo quando x $ \\approx 0 ~$ e  $~x \\approx  -0.6$. Dessa forma será criado um vetor unidimensional $x$, que pegue todo o intervalo com uma variação de valor da ordem de $10^{-3}$."
   ]
  },
  {
   "cell_type": "code",
   "execution_count": 40,
   "metadata": {},
   "outputs": [],
   "source": [
    "x = collect(-0.8:0.001:0.8);"
   ]
  },
  {
   "cell_type": "markdown",
   "metadata": {},
   "source": [
    "Valor máximo:"
   ]
  },
  {
   "cell_type": "code",
   "execution_count": 41,
   "metadata": {
    "scrolled": true
   },
   "outputs": [
    {
     "data": {
      "text/plain": [
       "(10.0, 801)"
      ]
     },
     "execution_count": 41,
     "metadata": {},
     "output_type": "execute_result"
    }
   ],
   "source": [
    "vmax, indice = findmax(f9.(x)) "
   ]
  },
  {
   "cell_type": "code",
   "execution_count": 42,
   "metadata": {
    "scrolled": true
   },
   "outputs": [
    {
     "data": {
      "text/plain": [
       "10.0"
      ]
     },
     "execution_count": 42,
     "metadata": {},
     "output_type": "execute_result"
    }
   ],
   "source": [
    "# testando o valor de x\n",
    "f9(x[indice])"
   ]
  },
  {
   "cell_type": "markdown",
   "metadata": {},
   "source": [
    "Valor mínimo:"
   ]
  },
  {
   "cell_type": "code",
   "execution_count": 43,
   "metadata": {},
   "outputs": [
    {
     "data": {
      "text/plain": [
       "(9.750000022801, 94)"
      ]
     },
     "execution_count": 43,
     "metadata": {},
     "output_type": "execute_result"
    }
   ],
   "source": [
    "vmin , indice = findmin(f9.(x)) "
   ]
  },
  {
   "cell_type": "code",
   "execution_count": 44,
   "metadata": {},
   "outputs": [
    {
     "data": {
      "text/plain": [
       "9.750000022801"
      ]
     },
     "execution_count": 44,
     "metadata": {},
     "output_type": "execute_result"
    }
   ],
   "source": [
    "# testando o valor de x\n",
    "f9(x[indice])"
   ]
  },
  {
   "cell_type": "markdown",
   "metadata": {},
   "source": [
    "Função Genérica para cálculo de extremos"
   ]
  },
  {
   "cell_type": "code",
   "execution_count": 45,
   "metadata": {
    "scrolled": true
   },
   "outputs": [
    {
     "data": {
      "text/plain": [
       "valor_extremo (generic function with 1 method)"
      ]
     },
     "execution_count": 45,
     "metadata": {},
     "output_type": "execute_result"
    }
   ],
   "source": [
    "function valor_extremo(funcao, vetor)\n",
    "    \n",
    "    f_min, indice_min = findmin(funcao.(vetor))\n",
    "    f_max, indice_max = findmax(funcao.(vetor))\n",
    "    \n",
    "    println(\"Valor mínimo: f($(vetor[indice_min])) = $f_min\")\n",
    "    println(\"Valor máximo: f($(vetor[indice_max])) = $f_max\")\n",
    "end"
   ]
  },
  {
   "cell_type": "code",
   "execution_count": 46,
   "metadata": {
    "scrolled": true
   },
   "outputs": [
    {
     "name": "stdout",
     "output_type": "stream",
     "text": [
      "Valor mínimo: f(-0.707) = 9.750000022801\n",
      "Valor máximo: f(0.0) = 10.0\n"
     ]
    }
   ],
   "source": [
    "valor_extremo(f9, x)"
   ]
  },
  {
   "cell_type": "markdown",
   "metadata": {},
   "source": [
    "Se o interesse é apenas os valores extremos de uma função, podemos usar a função `extrema()`. Sintaxe:\n",
    "```julia\n",
    "valor_mínimo , valor_máximo = extrema(função.(coleção))\n",
    "```"
   ]
  },
  {
   "cell_type": "code",
   "execution_count": 47,
   "metadata": {},
   "outputs": [
    {
     "data": {
      "text/plain": [
       "(9.750000022801, 10.0)"
      ]
     },
     "execution_count": 47,
     "metadata": {},
     "output_type": "execute_result"
    }
   ],
   "source": [
    "valor_minimo , valor_máximo = extrema(f9.(x))"
   ]
  },
  {
   "cell_type": "markdown",
   "metadata": {},
   "source": [
    "**Exemplo função de duas variáveis**"
   ]
  },
  {
   "cell_type": "code",
   "execution_count": 48,
   "metadata": {},
   "outputs": [
    {
     "data": {
      "text/plain": [
       "f10 (generic function with 1 method)"
      ]
     },
     "execution_count": 48,
     "metadata": {},
     "output_type": "execute_result"
    }
   ],
   "source": [
    "f10(x, y) = cos((y^2 + x^2)/100)"
   ]
  },
  {
   "cell_type": "code",
   "execution_count": 49,
   "metadata": {},
   "outputs": [],
   "source": [
    "x = collect(-20:0.001:20)\n",
    "y = collect(-20:0.001:20);"
   ]
  },
  {
   "cell_type": "markdown",
   "metadata": {},
   "source": [
    "<img src=\"Figuras/funcao-3d-extremo.png\" alt = \"Função\" align=\"center\" width=\"400\">"
   ]
  },
  {
   "cell_type": "code",
   "execution_count": 50,
   "metadata": {},
   "outputs": [
    {
     "data": {
      "text/plain": [
       "(1.0, 20001)"
      ]
     },
     "execution_count": 50,
     "metadata": {},
     "output_type": "execute_result"
    }
   ],
   "source": [
    "# valor máximo da função e índice correspondente aos vetores x e y\n",
    "vmax, indice = findmax(f10.(x, y))"
   ]
  },
  {
   "cell_type": "code",
   "execution_count": 51,
   "metadata": {},
   "outputs": [
    {
     "data": {
      "text/plain": [
       "(0.0, 0.0)"
      ]
     },
     "execution_count": 51,
     "metadata": {},
     "output_type": "execute_result"
    }
   ],
   "source": [
    "# valores de x e y correspondente ao índice 20001\n",
    "x[indice], y[indice]"
   ]
  },
  {
   "cell_type": "code",
   "execution_count": 52,
   "metadata": {
    "scrolled": true
   },
   "outputs": [
    {
     "data": {
      "text/plain": [
       "1.0"
      ]
     },
     "execution_count": 52,
     "metadata": {},
     "output_type": "execute_result"
    }
   ],
   "source": [
    "# obtendo o valor máximo a partir dos valores de x[21] e y[21]\n",
    "f10(x[indice], y[indice])"
   ]
  },
  {
   "cell_type": "code",
   "execution_count": 53,
   "metadata": {},
   "outputs": [
    {
     "data": {
      "text/plain": [
       "(-0.9999999974884671, 1.0)"
      ]
     },
     "execution_count": 53,
     "metadata": {},
     "output_type": "execute_result"
    }
   ],
   "source": [
    "# extremos da função: mínimo e máximo\n",
    "vmin, vmax = extrema(f10.(x, y))"
   ]
  },
  {
   "cell_type": "markdown",
   "metadata": {},
   "source": [
    "Veja que corresponde ao ponto mostrado no gráfico."
   ]
  },
  {
   "cell_type": "markdown",
   "metadata": {},
   "source": [
    "**Função Método da Bisseção**\n",
    " \n",
    "\n",
    "O método da bisseção é um método de busca de raízes em um intervalo $[a, b]$ de uma função contínua $f:[a, b] \\rightarrow \\mathbb{R}$ sendo $f(a) \\cdot f(b) < 0$. A partir desta informação, será utilizado um valor médio $x = \\frac{a + b}{2}$ de um intervalo cada vez menor em torno de uma raiz até que a condição de tolerância de erro seja satisfeita. É um método simples e de fácil implementação, porém sua convergência é relativamente lenta quando comparado com os métodos de Newton e das secantes."
   ]
  },
  {
   "cell_type": "code",
   "execution_count": 54,
   "metadata": {
    "scrolled": false
   },
   "outputs": [
    {
     "data": {
      "text/plain": [
       "fmetbissec"
      ]
     },
     "execution_count": 54,
     "metadata": {},
     "output_type": "execute_result"
    }
   ],
   "source": [
    "\"\"\"\n",
    "**Metodo da Bisseção**\n",
    "\n",
    "Calcula uma aproximação para uma raiz da função f(x)\n",
    "\n",
    "no intervalo [a_0,b_0] e tolerância de erro dado por tol.\n",
    "\n",
    "ex: fmetbissec(\"x^2 - 2*x - 8\", -5, 5, 0.000001)\n",
    "\n",
    "adaptado de https://bit.ly/2S5BjlX\n",
    "\n",
    "\"\"\"\n",
    "function fmetbissec(funcao, a, b, tol = 0.00001)    \n",
    "    println(\"f(x) = \", funcao)\n",
    "    println()    \n",
    "    @eval g(x) = $(Meta.parse(funcao)) # transforma a string em uma formula manipulável\n",
    "    \n",
    "    println(\"Iteração | X médio | f(X médio)\")\n",
    "    \n",
    "    if g(a)*g(b) > 0.0 \n",
    "        println(\"Não há raiz no intervalo\")\n",
    "        \n",
    "    elseif g(a) == 0.0\n",
    "        println(\"O valor de 'a' ($a) é uma raiz.\")\n",
    "        \n",
    "    elseif g(b) == 0.0\n",
    "        println(\"O valor de 'b'($b) é uma raiz.\")\n",
    "        \n",
    "    else          \n",
    "        iteracao = 0\n",
    "        \n",
    "        while b - a >= tol\n",
    "            \n",
    "            x_medio = (a + b)/2.0\n",
    "            println(iteracao,\":         \", x_medio,  \":          \", g(x_medio))\n",
    "            \n",
    "            if g(x_medio)*g(a) > 0.0\n",
    "                a = x_medio\n",
    "            else\n",
    "                b = x_medio\n",
    "            end\n",
    "                iteracao += 1\n",
    "        end\n",
    "        x_medio = (a + b)/2.0\n",
    "        println(iteracao, \": \", x_medio,  \": \", g(x_medio))\n",
    "        println()\n",
    "        println(\"Iterações: $iteracao\")\n",
    "        println(\"Raiz: $x_medio\")\n",
    "        println(\"f(raiz): $(g(x_medio))\")\n",
    "        return x_medio        \n",
    "    end     \n",
    "end"
   ]
  },
  {
   "cell_type": "code",
   "execution_count": 55,
   "metadata": {
    "scrolled": false
   },
   "outputs": [
    {
     "name": "stdout",
     "output_type": "stream",
     "text": [
      "f(x) = x^2 - 4.0\n",
      "\n",
      "Iteração | X médio | f(X médio)\n"
     ]
    },
    {
     "ename": "MethodError",
     "evalue": "MethodError: no method matching g(::Float64)\nThe applicable method may be too new: running in world age 26080, while current world is 26081.\nClosest candidates are:\n  g(::Any) at In[54]:16 (method too new to be called from this world context.)",
     "output_type": "error",
     "traceback": [
      "MethodError: no method matching g(::Float64)\nThe applicable method may be too new: running in world age 26080, while current world is 26081.\nClosest candidates are:\n  g(::Any) at In[54]:16 (method too new to be called from this world context.)",
      "",
      "Stacktrace:",
      " [1] fmetbissec(::String, ::Float64, ::Float64, ::Float64) at ./In[54]:20",
      " [2] top-level scope at In[55]:1"
     ]
    }
   ],
   "source": [
    "raizf = fmetbissec(\"x^2 - 4.0\", 1.0, 4.5, 0.0001)"
   ]
  },
  {
   "cell_type": "markdown",
   "metadata": {},
   "source": [
    "Para ler o cabeçalho da função use \"?`fmetbissec`\"."
   ]
  },
  {
   "cell_type": "code",
   "execution_count": 56,
   "metadata": {
    "scrolled": true
   },
   "outputs": [
    {
     "name": "stdout",
     "output_type": "stream",
     "text": [
      "search: \u001b[0m\u001b[1mf\u001b[22m\u001b[0m\u001b[1mm\u001b[22m\u001b[0m\u001b[1me\u001b[22m\u001b[0m\u001b[1mt\u001b[22m\u001b[0m\u001b[1mb\u001b[22m\u001b[0m\u001b[1mi\u001b[22m\u001b[0m\u001b[1ms\u001b[22m\u001b[0m\u001b[1ms\u001b[22m\u001b[0m\u001b[1me\u001b[22m\u001b[0m\u001b[1mc\u001b[22m\n",
      "\n"
     ]
    },
    {
     "data": {
      "text/latex": [
       "\\textbf{Metodo da Bisseção}\n",
       "\n",
       "Calcula uma aproximação para uma raiz da função f(x)\n",
       "\n",
       "no intervalo [a\\emph{0,b}0] e tolerância de erro dado por tol.\n",
       "\n",
       "ex: fmetbissec(\"x\\^{}2 - 2*x - 8\", -5, 5, 0.000001)\n",
       "\n",
       "adaptado de https://bit.ly/2S5BjlX\n",
       "\n"
      ],
      "text/markdown": [
       "**Metodo da Bisseção**\n",
       "\n",
       "Calcula uma aproximação para uma raiz da função f(x)\n",
       "\n",
       "no intervalo [a*0,b*0] e tolerância de erro dado por tol.\n",
       "\n",
       "ex: fmetbissec(\"x^2 - 2*x - 8\", -5, 5, 0.000001)\n",
       "\n",
       "adaptado de https://bit.ly/2S5BjlX\n"
      ],
      "text/plain": [
       "  \u001b[1mMetodo da Bisseção\u001b[22m\n",
       "\n",
       "  Calcula uma aproximação para uma raiz da função f(x)\n",
       "\n",
       "  no intervalo [a\u001b[4m0,b\u001b[24m0] e tolerância de erro dado por tol.\n",
       "\n",
       "  ex: fmetbissec(\"x^2 - 2*x - 8\", -5, 5, 0.000001)\n",
       "\n",
       "  adaptado de https://bit.ly/2S5BjlX"
      ]
     },
     "execution_count": 56,
     "metadata": {},
     "output_type": "execute_result"
    }
   ],
   "source": [
    "?fmetbissec"
   ]
  },
  {
   "cell_type": "markdown",
   "metadata": {},
   "source": [
    "#### CONSTRUÇÃO DE FUNÇÃO"
   ]
  },
  {
   "cell_type": "code",
   "execution_count": 57,
   "metadata": {},
   "outputs": [
    {
     "data": {
      "text/plain": [
       "f11 (generic function with 1 method)"
      ]
     },
     "execution_count": 57,
     "metadata": {},
     "output_type": "execute_result"
    }
   ],
   "source": [
    "f11(x, opção) = begin\n",
    "    if opção == 1\n",
    "        return x^2\n",
    "        \n",
    "    elseif opção == 2\n",
    "        return x\n",
    "        \n",
    "    elseif opção == \"exp\"\n",
    "        return exp(x + 1)\n",
    "        \n",
    "    else\n",
    "        return \"Opção não encontrada\"\n",
    "    end\n",
    "    \n",
    "end"
   ]
  },
  {
   "cell_type": "code",
   "execution_count": 58,
   "metadata": {
    "scrolled": true
   },
   "outputs": [
    {
     "data": {
      "text/plain": [
       "(16, 4, 148.4131591025766, \"Opção não encontrada\")"
      ]
     },
     "execution_count": 58,
     "metadata": {},
     "output_type": "execute_result"
    }
   ],
   "source": [
    "f11(4, 1), f11(4, 2), f11(4, \"exp\"), f11(4, \"a\")"
   ]
  },
  {
   "cell_type": "code",
   "execution_count": 59,
   "metadata": {},
   "outputs": [
    {
     "data": {
      "text/plain": [
       "f12 (generic function with 1 method)"
      ]
     },
     "execution_count": 59,
     "metadata": {},
     "output_type": "execute_result"
    }
   ],
   "source": [
    "# dicionário de duas expressões\n",
    "f12(x) = Dict(1 => x^2, 2 => sind(x + 1) , \"cos\" => cosd(x))"
   ]
  },
  {
   "cell_type": "code",
   "execution_count": 60,
   "metadata": {},
   "outputs": [
    {
     "data": {
      "text/plain": [
       "0.8660254037844386"
      ]
     },
     "execution_count": 60,
     "metadata": {},
     "output_type": "execute_result"
    }
   ],
   "source": [
    "f12(30)[\"cos\"]"
   ]
  },
  {
   "cell_type": "code",
   "execution_count": 61,
   "metadata": {},
   "outputs": [
    {
     "data": {
      "text/plain": [
       "0.5"
      ]
     },
     "execution_count": 61,
     "metadata": {},
     "output_type": "execute_result"
    }
   ],
   "source": [
    "f12(29)[2]"
   ]
  },
  {
   "cell_type": "markdown",
   "metadata": {},
   "source": [
    "#### IMPORTANDO FUNÇÕES GRAVADAS EM ARQUIVOS\n",
    "\n",
    "As funções devem ser escritas em um arquivo salvo com a extensão \".jl\" e importado usando a função `include(\"arquivo.jl\")`. É possível colocar várias funções (com nomes diferentes) em um único arquivo e fazer a importação com o mesmo comando. As funções importadas serão executadas pelo seu nome."
   ]
  },
  {
   "cell_type": "code",
   "execution_count": 62,
   "metadata": {},
   "outputs": [
    {
     "data": {
      "text/plain": [
       "ffmetbissec"
      ]
     },
     "execution_count": 62,
     "metadata": {},
     "output_type": "execute_result"
    }
   ],
   "source": [
    "include(\"ffmetbissec.jl\")"
   ]
  },
  {
   "cell_type": "code",
   "execution_count": 63,
   "metadata": {},
   "outputs": [
    {
     "name": "stdout",
     "output_type": "stream",
     "text": [
      "f(x) = x^2 - 4\n",
      "\n",
      "Iteração | Valor Médio | Valor função\n",
      "0          3.5           8.25\n",
      "1          2.25           1.0625\n",
      "2          1.625           -1.359375\n",
      "3          1.9375           -0.24609375\n",
      "4          2.09375           0.3837890625\n",
      "5          2.015625           0.062744140625\n",
      "6          1.9765625           -0.09320068359375\n",
      "7          1.99609375           -0.0156097412109375\n",
      "8          2.005859375           0.023471832275390625\n",
      "9          2.0009765625           0.003907203674316406\n",
      "10          1.99853515625           -0.005857229232788086\n",
      "11          1.999755859375           -0.0009765028953552246\n",
      "12          2.0003662109375           0.0014649778604507446\n",
      "13          2.00006103515625           0.00024414435029029846\n",
      "14          1.999908447265625           -0.00036620255559682846\n",
      "15          1.9999847412109375           -6.1034923419356346e-5\n",
      "\n",
      "Iterações: 15\n",
      "Raiz: 1.9999847412109375\n",
      "f(raiz): -6.1034923419356346e-5\n"
     ]
    },
    {
     "data": {
      "text/plain": [
       "1.9999847412109375"
      ]
     },
     "execution_count": 63,
     "metadata": {},
     "output_type": "execute_result"
    }
   ],
   "source": [
    "ffmetbissec(\"x^2 - 4\", 1, 6, 0.0001)"
   ]
  },
  {
   "cell_type": "code",
   "execution_count": 64,
   "metadata": {
    "scrolled": true
   },
   "outputs": [
    {
     "name": "stdout",
     "output_type": "stream",
     "text": [
      "search: \u001b[0m\u001b[1mf\u001b[22m\u001b[0m\u001b[1mf\u001b[22m\u001b[0m\u001b[1mm\u001b[22m\u001b[0m\u001b[1me\u001b[22m\u001b[0m\u001b[1mt\u001b[22m\u001b[0m\u001b[1mb\u001b[22m\u001b[0m\u001b[1mi\u001b[22m\u001b[0m\u001b[1ms\u001b[22m\u001b[0m\u001b[1ms\u001b[22m\u001b[0m\u001b[1me\u001b[22m\u001b[0m\u001b[1mc\u001b[22m\n",
      "\n"
     ]
    },
    {
     "data": {
      "text/latex": [
       "\\textbf{Metodo da Bissecção}\n",
       "\n",
       "Calcula uma aproximação para uma raiz da função f(x)\n",
       "\n",
       "no intervalo [a\\emph{0,b}0] e tolerância de erro dado por tol.\n",
       "\n",
       "ex: ffmetbissec(\"x\\^{}2 - 2*x - 8\", -5, 5, 0.000001)\n",
       "\n",
       "adaptado de https://bit.ly/2S5BjlX\n",
       "\n"
      ],
      "text/markdown": [
       "**Metodo da Bissecção**\n",
       "\n",
       "Calcula uma aproximação para uma raiz da função f(x)\n",
       "\n",
       "no intervalo [a*0,b*0] e tolerância de erro dado por tol.\n",
       "\n",
       "ex: ffmetbissec(\"x^2 - 2*x - 8\", -5, 5, 0.000001)\n",
       "\n",
       "adaptado de https://bit.ly/2S5BjlX\n"
      ],
      "text/plain": [
       "  \u001b[1mMetodo da Bissecção\u001b[22m\n",
       "\n",
       "  Calcula uma aproximação para uma raiz da função f(x)\n",
       "\n",
       "  no intervalo [a\u001b[4m0,b\u001b[24m0] e tolerância de erro dado por tol.\n",
       "\n",
       "  ex: ffmetbissec(\"x^2 - 2*x - 8\", -5, 5, 0.000001)\n",
       "\n",
       "  adaptado de https://bit.ly/2S5BjlX"
      ]
     },
     "execution_count": 64,
     "metadata": {},
     "output_type": "execute_result"
    }
   ],
   "source": [
    "? ffmetbissec # verificar o texto de ajuda"
   ]
  },
  {
   "cell_type": "markdown",
   "metadata": {
    "collapsed": true
   },
   "source": [
    "## REFÊNCIAS BIBLIOGRÁFICAS\n",
    "\n",
    "TUCKER, Allen B. ; NOONAN, Robert E.  **Linguagens de Programação : Princípios e Paradigmas**. 2. ed. São Paulo, SP: McGraw-Hill, 2009. 600 p. "
   ]
  },
  {
   "cell_type": "code",
   "execution_count": null,
   "metadata": {},
   "outputs": [],
   "source": []
  }
 ],
 "metadata": {
  "anaconda-cloud": {},
  "kernelspec": {
   "display_name": "Julia 1.2.0",
   "language": "julia",
   "name": "julia-1.2"
  },
  "language_info": {
   "file_extension": ".jl",
   "mimetype": "application/julia",
   "name": "julia",
   "version": "1.2.0"
  },
  "latex_envs": {
   "LaTeX_envs_menu_present": true,
   "autocomplete": true,
   "bibliofile": "biblio.bib",
   "cite_by": "apalike",
   "current_citInitial": 1,
   "eqLabelWithNumbers": true,
   "eqNumInitial": 1,
   "hotkeys": {
    "equation": "Ctrl-E",
    "itemize": "Ctrl-I"
   },
   "labels_anchors": false,
   "latex_user_defs": false,
   "report_style_numbering": false,
   "user_envs_cfg": false
  },
  "name": "_merged"
 },
 "nbformat": 4,
 "nbformat_minor": 2
}
