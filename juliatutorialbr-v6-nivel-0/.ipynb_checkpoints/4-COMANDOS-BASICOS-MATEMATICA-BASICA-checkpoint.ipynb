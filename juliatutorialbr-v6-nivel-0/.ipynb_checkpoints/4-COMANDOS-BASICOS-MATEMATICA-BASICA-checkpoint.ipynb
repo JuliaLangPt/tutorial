{
 "cells": [
  {
   "cell_type": "markdown",
   "metadata": {
    "raw_mimetype": "text/latex"
   },
   "source": [
    "# COMANDOS BÁSICOS E MATEMÁTICA BÁSICA\n"
   ]
  },
  {
   "cell_type": "markdown",
   "metadata": {},
   "source": [
    "## COMO USAR O OS COMANDOS DA LINGUAGEM JULIA\n",
    "\n"
   ]
  },
  {
   "cell_type": "markdown",
   "metadata": {},
   "source": [
    "## COMANDOS INICIAIS"
   ]
  },
  {
   "cell_type": "markdown",
   "metadata": {},
   "source": [
    "Informações sobre o computador\n"
   ]
  },
  {
   "cell_type": "code",
   "execution_count": 1,
   "metadata": {
    "scrolled": false
   },
   "outputs": [
    {
     "name": "stdout",
     "output_type": "stream",
     "text": [
      "Julia Version 1.2.0\n",
      "Commit c6da87ff4b (2019-08-20 00:03 UTC)\n",
      "Platform Info:\n",
      "  OS: Linux (x86_64-pc-linux-gnu)\n",
      "  CPU: Intel(R) Core(TM) i7-3770 CPU @ 3.40GHz\n",
      "  WORD_SIZE: 64\n",
      "  LIBM: libopenlibm\n",
      "  LLVM: libLLVM-6.0.1 (ORCJIT, ivybridge)\n"
     ]
    }
   ],
   "source": [
    "versioninfo()"
   ]
  },
  {
   "cell_type": "markdown",
   "metadata": {},
   "source": [
    "Comando de ajuda"
   ]
  },
  {
   "cell_type": "code",
   "execution_count": 2,
   "metadata": {
    "scrolled": true
   },
   "outputs": [
    {
     "name": "stdout",
     "output_type": "stream",
     "text": [
      "search: \u001b[0m\u001b[1mv\u001b[22m\u001b[0m\u001b[1me\u001b[22m\u001b[0m\u001b[1mr\u001b[22m\u001b[0m\u001b[1ms\u001b[22m\u001b[0m\u001b[1mi\u001b[22m\u001b[0m\u001b[1mo\u001b[22m\u001b[0m\u001b[1mn\u001b[22m\u001b[0m\u001b[1mi\u001b[22m\u001b[0m\u001b[1mn\u001b[22m\u001b[0m\u001b[1mf\u001b[22m\u001b[0m\u001b[1mo\u001b[22m\n",
      "\n"
     ]
    },
    {
     "data": {
      "text/latex": [
       "\\begin{verbatim}\n",
       "versioninfo(io::IO=stdout; verbose::Bool=false)\n",
       "\\end{verbatim}\n",
       "Print information about the version of Julia in use. The output is controlled with boolean keyword arguments:\n",
       "\n",
       "\\begin{itemize}\n",
       "\\item \\texttt{verbose}: print all additional information\n",
       "\n",
       "\\end{itemize}\n"
      ],
      "text/markdown": [
       "```\n",
       "versioninfo(io::IO=stdout; verbose::Bool=false)\n",
       "```\n",
       "\n",
       "Print information about the version of Julia in use. The output is controlled with boolean keyword arguments:\n",
       "\n",
       "  * `verbose`: print all additional information\n"
      ],
      "text/plain": [
       "\u001b[36m  versioninfo(io::IO=stdout; verbose::Bool=false)\u001b[39m\n",
       "\n",
       "  Print information about the version of Julia in use. The output is\n",
       "  controlled with boolean keyword arguments:\n",
       "\n",
       "    •    \u001b[36mverbose\u001b[39m: print all additional information"
      ]
     },
     "execution_count": 2,
     "metadata": {},
     "output_type": "execute_result"
    }
   ],
   "source": [
    "? versioninfo "
   ]
  },
  {
   "cell_type": "markdown",
   "metadata": {},
   "source": [
    "Número de cores do processador: "
   ]
  },
  {
   "cell_type": "code",
   "execution_count": 3,
   "metadata": {
    "scrolled": false
   },
   "outputs": [
    {
     "data": {
      "text/plain": [
       "4-element Array{Base.Sys.CPUinfo,1}:\n",
       " Intel(R) Core(TM) i7-3770 CPU @ 3.40GHz: \n",
       "        speed         user         nice          sys         idle          irq\n",
       "     2255 MHz     148866 s        669 s      47482 s    2044212 s          0 s\n",
       " Intel(R) Core(TM) i7-3770 CPU @ 3.40GHz: \n",
       "        speed         user         nice          sys         idle          irq\n",
       "     2385 MHz     137274 s        586 s      43746 s    2062413 s          0 s\n",
       " Intel(R) Core(TM) i7-3770 CPU @ 3.40GHz: \n",
       "        speed         user         nice          sys         idle          irq\n",
       "     2559 MHz     144258 s        674 s      43037 s    1990699 s          0 s\n",
       " Intel(R) Core(TM) i7-3770 CPU @ 3.40GHz: \n",
       "        speed         user         nice          sys         idle          irq\n",
       "     2388 MHz     137297 s        532 s      41537 s    2023581 s          0 s"
      ]
     },
     "execution_count": 3,
     "metadata": {},
     "output_type": "execute_result"
    }
   ],
   "source": [
    "Sys.cpu_info()"
   ]
  },
  {
   "cell_type": "markdown",
   "metadata": {},
   "source": [
    "Sistema operacional:"
   ]
  },
  {
   "cell_type": "code",
   "execution_count": 4,
   "metadata": {
    "scrolled": true
   },
   "outputs": [
    {
     "data": {
      "text/plain": [
       ":Linux"
      ]
     },
     "execution_count": 4,
     "metadata": {},
     "output_type": "execute_result"
    }
   ],
   "source": [
    "Sys.KERNEL  "
   ]
  },
  {
   "cell_type": "markdown",
   "metadata": {},
   "source": [
    "Resumo dos cores:"
   ]
  },
  {
   "cell_type": "code",
   "execution_count": 5,
   "metadata": {
    "scrolled": false
   },
   "outputs": [
    {
     "name": "stdout",
     "output_type": "stream",
     "text": [
      "Intel(R) Core(TM) i7-3770 CPU @ 3.40GHz: \n",
      "       speed         user         nice          sys         idle          irq\n",
      "#1  2772 MHz     148987 s        669 s      47483 s    2044214 s          0 s\n",
      "#2  2651 MHz     137286 s        586 s      43748 s    2062523 s          0 s\n",
      "#3  2902 MHz     144276 s        674 s      43040 s    1990792 s          0 s\n",
      "#4  2848 MHz     137306 s        532 s      41539 s    2023691 s          0 s\n"
     ]
    }
   ],
   "source": [
    "Sys.cpu_summary()"
   ]
  },
  {
   "cell_type": "markdown",
   "metadata": {},
   "source": [
    "## OPERADORES ARITMÉTICOS\n",
    "\n",
    "Os operadores aritméticos executam operações matemáticas básicas, como adição e subtração com operandos. Existem dois tipos de operadores matemáticos: unário e binário. Um operador unário executa uma ação com um único operando, já os  um operador binário executa ação com dois operandos. Julia fornece uma coleção completa de operadores aritméticos para as mais diversas expressões de cálculo.\n",
    "\n",
    "| **Expressão** | **Nome**                              | \n",
    "| ------------- | --------------------------------------| \n",
    "| +x            | Operador unário de adição             |\n",
    "| -x            | Operador unário de subtração          | \n",
    "| x + y         | Operador binário de adição            | \n",
    "| x - y         | Operador binário de subtração         | \n",
    "| x * y         | Operador binário de multiplicação     | \n",
    "| x / y         | Operador binário de divisão           |\n",
    "| x ÷ y         | Operador binário de divisão inteira   |\n",
    "| x \\\\ y        | Operador binário de divisão esquerda  | \n",
    "| x ^ y         | Operador binário de potência          |\n",
    "| x % y         | Operador binário de resto             | "
   ]
  },
  {
   "cell_type": "code",
   "execution_count": 6,
   "metadata": {},
   "outputs": [
    {
     "data": {
      "text/plain": [
       "2"
      ]
     },
     "execution_count": 6,
     "metadata": {},
     "output_type": "execute_result"
    }
   ],
   "source": [
    "8 ÷ 3"
   ]
  },
  {
   "cell_type": "markdown",
   "metadata": {},
   "source": [
    "## MATEMÁTICA BÁSICA"
   ]
  },
  {
   "cell_type": "markdown",
   "metadata": {},
   "source": [
    "Soma de inteiros:"
   ]
  },
  {
   "cell_type": "code",
   "execution_count": 7,
   "metadata": {
    "scrolled": true
   },
   "outputs": [
    {
     "data": {
      "text/plain": [
       "7"
      ]
     },
     "execution_count": 7,
     "metadata": {},
     "output_type": "execute_result"
    }
   ],
   "source": [
    "2 + 5"
   ]
  },
  {
   "cell_type": "markdown",
   "metadata": {},
   "source": [
    "Potência de dez expoente negativo ($10^n$):"
   ]
  },
  {
   "cell_type": "code",
   "execution_count": 8,
   "metadata": {
    "scrolled": true
   },
   "outputs": [
    {
     "data": {
      "text/plain": [
       "0.01"
      ]
     },
     "execution_count": 8,
     "metadata": {},
     "output_type": "execute_result"
    }
   ],
   "source": [
    "1e-2"
   ]
  },
  {
   "cell_type": "markdown",
   "metadata": {},
   "source": [
    "Exponencial ($e^n$):"
   ]
  },
  {
   "cell_type": "code",
   "execution_count": 9,
   "metadata": {},
   "outputs": [
    {
     "data": {
      "text/plain": [
       "20.085536923187668"
      ]
     },
     "execution_count": 9,
     "metadata": {},
     "output_type": "execute_result"
    }
   ],
   "source": [
    "exp(3)"
   ]
  },
  {
   "cell_type": "markdown",
   "metadata": {},
   "source": [
    "Potência ($a^n$):"
   ]
  },
  {
   "cell_type": "code",
   "execution_count": 10,
   "metadata": {
    "scrolled": true
   },
   "outputs": [
    {
     "data": {
      "text/plain": [
       "64"
      ]
     },
     "execution_count": 10,
     "metadata": {},
     "output_type": "execute_result"
    }
   ],
   "source": [
    "2^6"
   ]
  },
  {
   "cell_type": "markdown",
   "metadata": {},
   "source": [
    "Expressão aritmética:"
   ]
  },
  {
   "cell_type": "code",
   "execution_count": 11,
   "metadata": {
    "scrolled": true
   },
   "outputs": [
    {
     "data": {
      "text/plain": [
       "0.765625"
      ]
     },
     "execution_count": 11,
     "metadata": {},
     "output_type": "execute_result"
    }
   ],
   "source": [
    "(2 + 5)^2/(3 + 1)^3"
   ]
  },
  {
   "cell_type": "markdown",
   "metadata": {},
   "source": [
    "Seno:"
   ]
  },
  {
   "cell_type": "code",
   "execution_count": 12,
   "metadata": {
    "scrolled": false
   },
   "outputs": [
    {
     "data": {
      "text/plain": [
       "1.0"
      ]
     },
     "execution_count": 12,
     "metadata": {},
     "output_type": "execute_result"
    }
   ],
   "source": [
    "sin(pi/2)"
   ]
  },
  {
   "cell_type": "markdown",
   "metadata": {},
   "source": [
    "Número aleatório entre 0 e 1:"
   ]
  },
  {
   "cell_type": "code",
   "execution_count": 13,
   "metadata": {
    "scrolled": false
   },
   "outputs": [
    {
     "data": {
      "text/plain": [
       "0.4148847208906219"
      ]
     },
     "execution_count": 13,
     "metadata": {},
     "output_type": "execute_result"
    }
   ],
   "source": [
    "rand()"
   ]
  },
  {
   "cell_type": "markdown",
   "metadata": {},
   "source": [
    "Número aleatório entre 0 e 10:"
   ]
  },
  {
   "cell_type": "code",
   "execution_count": 14,
   "metadata": {
    "scrolled": false
   },
   "outputs": [
    {
     "data": {
      "text/plain": [
       "2"
      ]
     },
     "execution_count": 14,
     "metadata": {},
     "output_type": "execute_result"
    }
   ],
   "source": [
    "rand(0:10)"
   ]
  },
  {
   "cell_type": "markdown",
   "metadata": {},
   "source": [
    "Máximo Divisor Comum:"
   ]
  },
  {
   "cell_type": "code",
   "execution_count": 15,
   "metadata": {
    "scrolled": true
   },
   "outputs": [
    {
     "data": {
      "text/plain": [
       "7"
      ]
     },
     "execution_count": 15,
     "metadata": {},
     "output_type": "execute_result"
    }
   ],
   "source": [
    "gcd(7, 14)"
   ]
  },
  {
   "cell_type": "markdown",
   "metadata": {},
   "source": [
    "Mínino Múltiplo Comum:"
   ]
  },
  {
   "cell_type": "code",
   "execution_count": 16,
   "metadata": {
    "scrolled": false
   },
   "outputs": [
    {
     "data": {
      "text/plain": [
       "300"
      ]
     },
     "execution_count": 16,
     "metadata": {},
     "output_type": "execute_result"
    }
   ],
   "source": [
    "lcm(60, 50)"
   ]
  },
  {
   "cell_type": "markdown",
   "metadata": {},
   "source": [
    "Fatorial:"
   ]
  },
  {
   "cell_type": "code",
   "execution_count": 17,
   "metadata": {},
   "outputs": [
    {
     "data": {
      "text/plain": [
       "120"
      ]
     },
     "execution_count": 17,
     "metadata": {},
     "output_type": "execute_result"
    }
   ],
   "source": [
    "factorial(5)"
   ]
  },
  {
   "cell_type": "markdown",
   "metadata": {},
   "source": [
    "** Múltiplos cálculos**\n",
    "\n",
    "O uso a vírgula \" , \" permite efetuar mais de uma expressão"
   ]
  },
  {
   "cell_type": "code",
   "execution_count": 18,
   "metadata": {},
   "outputs": [
    {
     "data": {
      "text/plain": [
       "(1.4142135623730951, 0.2222222222222222)"
      ]
     },
     "execution_count": 18,
     "metadata": {},
     "output_type": "execute_result"
    }
   ],
   "source": [
    "sqrt(2) , 2.0*3.0^-2"
   ]
  },
  {
   "cell_type": "code",
   "execution_count": 19,
   "metadata": {},
   "outputs": [
    {
     "data": {
      "text/plain": [
       "0.2222222222222222"
      ]
     },
     "execution_count": 19,
     "metadata": {},
     "output_type": "execute_result"
    }
   ],
   "source": [
    "# se usado o ponto e virgula, só será impresso a ultimo cálculo\n",
    "sqrt(2) ; 2.0*3.0^-2"
   ]
  },
  {
   "cell_type": "markdown",
   "metadata": {},
   "source": [
    "**Cálculo trigonometrico/Hiperbólico**\n",
    "\n",
    "sin(x)    cos(x)    tan(x)    cot(x)    sec(x)    csc(x)  sinh(x)   cosh(x)   tanh(x)   coth(x)   sech(x)   csch(x)\n",
    "\n",
    "\n",
    "asin(x)   acos(x)   atan(x)   acot(x)   asec(x)   acsc(x)  acoth(x)  asech(x)  acsch(x)  sinc(x)   cosc(x)   atan2(x)"
   ]
  },
  {
   "cell_type": "markdown",
   "metadata": {},
   "source": [
    "Cálculo trigonométrico radianos:"
   ]
  },
  {
   "cell_type": "code",
   "execution_count": 20,
   "metadata": {
    "scrolled": true
   },
   "outputs": [
    {
     "data": {
      "text/plain": [
       "(0.7071067811865475, -1.0, 0.9999999999999999)"
      ]
     },
     "execution_count": 20,
     "metadata": {},
     "output_type": "execute_result"
    }
   ],
   "source": [
    "sin(pi/4) , cos(pi) , tan(pi/4)"
   ]
  },
  {
   "cell_type": "code",
   "execution_count": 21,
   "metadata": {
    "scrolled": true
   },
   "outputs": [
    {
     "data": {
      "text/plain": [
       "(1.5248686188220641, 1.4142135623730951, 1.414213562373095)"
      ]
     },
     "execution_count": 21,
     "metadata": {},
     "output_type": "execute_result"
    }
   ],
   "source": [
    "coth(pi/4), csc(pi/4) , sec(pi/4)"
   ]
  },
  {
   "cell_type": "markdown",
   "metadata": {},
   "source": [
    "Para realizar cálculo trigonométricos em graus, basta acrescentar a letra \"d\":"
   ]
  },
  {
   "cell_type": "code",
   "execution_count": 22,
   "metadata": {
    "scrolled": true
   },
   "outputs": [
    {
     "data": {
      "text/plain": [
       "(1.0, 0.0)"
      ]
     },
     "execution_count": 22,
     "metadata": {},
     "output_type": "execute_result"
    }
   ],
   "source": [
    "sind(90), cosd(90)"
   ]
  },
  {
   "cell_type": "markdown",
   "metadata": {},
   "source": [
    "** Cálculo Angular **"
   ]
  },
  {
   "cell_type": "markdown",
   "metadata": {},
   "source": [
    "Converte um valor $x$ de grau para radiano:"
   ]
  },
  {
   "cell_type": "code",
   "execution_count": 23,
   "metadata": {},
   "outputs": [
    {
     "data": {
      "text/plain": [
       "1.0471975511965976"
      ]
     },
     "execution_count": 23,
     "metadata": {},
     "output_type": "execute_result"
    }
   ],
   "source": [
    "deg2rad(60)"
   ]
  },
  {
   "cell_type": "markdown",
   "metadata": {},
   "source": [
    "Converte um valor $x$ de radiano para grau:"
   ]
  },
  {
   "cell_type": "code",
   "execution_count": 24,
   "metadata": {},
   "outputs": [
    {
     "data": {
      "text/plain": [
       "59.99999999999999"
      ]
     },
     "execution_count": 24,
     "metadata": {},
     "output_type": "execute_result"
    }
   ],
   "source": [
    "# Converte x de radianos para graus\n",
    "rad2deg(1.0471975511965976)"
   ]
  },
  {
   "cell_type": "markdown",
   "metadata": {},
   "source": [
    "** Cálculo Exponencial/Logaritmo**"
   ]
  },
  {
   "cell_type": "markdown",
   "metadata": {},
   "source": [
    "Função exponencial natural em $x$:"
   ]
  },
  {
   "cell_type": "code",
   "execution_count": 25,
   "metadata": {
    "scrolled": true
   },
   "outputs": [
    {
     "data": {
      "text/plain": [
       "7.38905609893065"
      ]
     },
     "execution_count": 25,
     "metadata": {},
     "output_type": "execute_result"
    }
   ],
   "source": [
    "exp(2)"
   ]
  },
  {
   "cell_type": "markdown",
   "metadata": {},
   "source": [
    "accurate exp (x) -1 para x próximo de zero:"
   ]
  },
  {
   "cell_type": "code",
   "execution_count": 26,
   "metadata": {
    "scrolled": true
   },
   "outputs": [
    {
     "data": {
      "text/plain": [
       "147.4131591025766"
      ]
     },
     "execution_count": 26,
     "metadata": {},
     "output_type": "execute_result"
    }
   ],
   "source": [
    "expm1(5)"
   ]
  },
  {
   "cell_type": "markdown",
   "metadata": {},
   "source": [
    "Logaritmo natural de $x$:"
   ]
  },
  {
   "cell_type": "code",
   "execution_count": 27,
   "metadata": {
    "scrolled": true
   },
   "outputs": [
    {
     "data": {
      "text/plain": [
       "4.605170185988092"
      ]
     },
     "execution_count": 27,
     "metadata": {},
     "output_type": "execute_result"
    }
   ],
   "source": [
    "log(100)"
   ]
  },
  {
   "cell_type": "markdown",
   "metadata": {},
   "source": [
    "Logaritmo de base $b$ de $x$:"
   ]
  },
  {
   "cell_type": "code",
   "execution_count": 28,
   "metadata": {
    "scrolled": true
   },
   "outputs": [
    {
     "data": {
      "text/plain": [
       "2.0"
      ]
     },
     "execution_count": 28,
     "metadata": {},
     "output_type": "execute_result"
    }
   ],
   "source": [
    "log(10, 100)"
   ]
  },
  {
   "cell_type": "markdown",
   "metadata": {},
   "source": [
    "Logaritmo de base 2:"
   ]
  },
  {
   "cell_type": "code",
   "execution_count": 29,
   "metadata": {
    "scrolled": true
   },
   "outputs": [
    {
     "data": {
      "text/plain": [
       "6.643856189774724"
      ]
     },
     "execution_count": 29,
     "metadata": {},
     "output_type": "execute_result"
    }
   ],
   "source": [
    "log2(100)"
   ]
  },
  {
   "cell_type": "markdown",
   "metadata": {},
   "source": [
    "Logaritmo de base 10:"
   ]
  },
  {
   "cell_type": "code",
   "execution_count": 30,
   "metadata": {
    "scrolled": true
   },
   "outputs": [
    {
     "data": {
      "text/plain": [
       "3.0"
      ]
     },
     "execution_count": 30,
     "metadata": {},
     "output_type": "execute_result"
    }
   ],
   "source": [
    "log10(1000)"
   ]
  },
  {
   "cell_type": "markdown",
   "metadata": {},
   "source": [
    "Logaritmo preciso (1 + x) para x próximo de zero"
   ]
  },
  {
   "cell_type": "code",
   "execution_count": 31,
   "metadata": {},
   "outputs": [
    {
     "data": {
      "text/plain": [
       "4.61512051684126"
      ]
     },
     "execution_count": 31,
     "metadata": {},
     "output_type": "execute_result"
    }
   ],
   "source": [
    "log1p(100)"
   ]
  },
  {
   "cell_type": "markdown",
   "metadata": {},
   "source": [
    "** Resumo Principais funções de matemática**"
   ]
  },
  {
   "cell_type": "markdown",
   "metadata": {},
   "source": [
    "<table border=\"1\" width=\"491\" cellspacing=\"0\">\n",
    "<tbody>\n",
    "<tr>\n",
    "<td style=\"text-align: left;\" height=\"17\">`round(x)` - Arredonda para o número inteiro mais próximo.</td>\n",
    "</tr>\n",
    "<tr>\n",
    "<td style=\"text-align: left;\" height=\"17\">`floor(x)` - Arredonda o valor de `x` para o inteiro em direção de -∞.</td>\n",
    "</tr>\n",
    "<tr>\n",
    "<td style=\"text-align: left;\" height=\"17\">`ceil(x)` - Arredonda o número `x` para inteiro na direção de ∞.</td>\n",
    "</tr>\n",
    "<tr>\n",
    "<td style=\"text-align: left;\" height=\"17\">`trunc(x)` - Retorna somente a parte inteira de um número `x`</td>\n",
    "</tr>\n",
    "<tr>\n",
    "<td style=\"text-align: left;\" height=\"17\">`div(x, y)` - Calcula o quociente da divisão euclidiana entre `x` e `y`, arredondando para um inteiro</td>\n",
    "</tr>\n",
    "<tr>\n",
    "<td style=\"text-align: left;\" height=\"17\">`fld(x, y)` - Calcula o maior número inteiro menor ou igual a `x / y`.</td>\n",
    "</tr>\n",
    "<tr>\n",
    "<td style=\"text-align: left;\" height=\"17\">`rem(x, y)` - Calcula o resto da divisão inteira entre `x` e `y`</td>\n",
    "</tr>\n",
    "<tr>\n",
    "<td style=\"text-align: left;\" height=\"17\">`mod(x, y)` - Calcula o resto da divisão inteira entre `x` e `y`</td>\n",
    "</tr>\n",
    "<tr>\n",
    "<td style=\"text-align: left;\" height=\"17\">`gcd(x, y ...)` - Calcula o máximo divisor comum de `x` e `y`.\n",
    "</td>\n",
    "</tr>\n",
    "<tr>\n",
    "<td style=\"text-align: left;\" height=\"17\">`lcm(x, y ...)` - Calcula o mínimo múltiplo comum de `x` e `y`</td>\n",
    "</tr>\n",
    "<tr>\n",
    "<td style=\"text-align: left;\" height=\"17\">`abs(x)` - Valor absoluto ou módulo de um número</td>\n",
    "</tr>\n",
    "<tr>\n",
    "<td style=\"text-align: left;\" height=\"17\">`sinal(x)` - Retorna 0 se `x==0`, caso contrário retorna x/|x|</td>\n",
    "</tr>\n",
    "</tbody>\n",
    "\n",
    "<p></p>\n",
    "\n",
    "</table>\n",
    "<table border=\"1\" width=\"490\" cellspacing=\"0\">\n",
    "<tbody>\n",
    "<tr>\n",
    "<td style=\"text-align: left;\" height=\"17\">`sqrt(x)` - Raiz quadrada de x</td>\n",
    "</tr>\n",
    "<tr>\n",
    "<td style=\"text-align: left;\" height=\"17\">`cbrt(x)` - Raiz cúbica de x</td>\n",
    "</tr>\n",
    "<tr>\n",
    "<td style=\"text-align: left;\" height=\"17\">`hypot(x, y, ..., n)` - Calcula a raiz quadrada do somátorio do quadrado de seus argumentos</td>\n",
    "</tr>\n",
    "<tr>\n",
    "<td style=\"text-align: left;\" height=\"17\">`exp(x)` - Calcula $e^x$.</td>\n",
    "</tr>\n",
    "<tr>\n",
    "<td style=\"text-align: left;\" height=\"17\">`expm1(x)` - Calcula $e^x - 1$</td>\n",
    "</tr>\n",
    "<tr>\n",
    "<td style=\"text-align: left;\" height=\"17\">`ldexp(x, n)` - Calcula $x \\cdot 2^n$</td>\n",
    "</tr>\n",
    "<tr>\n",
    "<td style=\"text-align: left;\" height=\"17\">`log(x)` - Calcula o logaritmo natural de `x`</td>\n",
    "</tr>\n",
    "<tr>\n",
    "<td style=\"text-align: left;\" height=\"17\">`log(b, x)` - Calcula o logaritmo $\\log_b x$</td>\n",
    "</tr>\n",
    "<tr>\n",
    "<td style=\"text-align: left;\" height=\"17\">`log2(x)` - Calcula o logaritmo $\\log_2 x$</td>\n",
    "</tr>\n",
    "<tr>\n",
    "<td style=\"text-align: left;\" height=\"17\">`log10(x)` - Calcula o logaritmo $\\log_10 x$</td>\n",
    "</tr>\n",
    "<tr>\n",
    "<td style=\"text-align: left;\" height=\"17\">`log1p(x)` - Calcula  $\\ln(x+1)$</td>\n",
    "</tr>\n",
    "<tr>\n",
    "<td style=\"text-align: left;\" height=\"17\">`binomial(x, y)` - Calcula $ \\frac{x!}{y!(x-y)!}$</td>\n",
    "</tr>\n",
    "<tr>\n",
    "<td style=\"text-align: left;\" height=\"17\">`factorial(n)` - Calcula o fatorial de `n`.</td>\n",
    "</tr>\n",
    "<tr>\n",
    "<td style=\"text-align: left;\" height=\"17\">`divrem(x, y)` - Calcula a divisão e o resto da divisão Euclidiana de `x` e `y`.</td>\n",
    "</tr>\n",
    "<tr>\n",
    "<td style=\"text-align: left;\" height=\"17\">`rationalize(x)` - Número racional aproximado com componentes do tipo inteiro para um número `x` do tipo decimal</td>\n",
    "</tr>\n",
    "</tbody>\n",
    "</table>"
   ]
  },
  {
   "cell_type": "markdown",
   "metadata": {},
   "source": [
    "## MEMÓRIAS DE CÉLULAS\n",
    "\n",
    "No Jupyter todas os dados de entrada e os resultados processsados são guardados. Cada célula é definida conforme a figura abaixo. \n",
    "\n",
    "<img src=\"Figuras/entrada-saida-jupyter.png\" alt = \"Função\" align=\"center\" width=\"250\">\n",
    "A variável `In` recebe os dados de entrada; `ans` recebe o imediato resultado anterior; `Out` recebe os resultados processados. Dessa forma, temos um histórico dos comandos digitados e resultados."
   ]
  },
  {
   "cell_type": "markdown",
   "metadata": {},
   "source": [
    "Para acessar os dados de entrada use:\n",
    "```julia\n",
    "In[número_célula]\n",
    "```"
   ]
  },
  {
   "cell_type": "code",
   "execution_count": 32,
   "metadata": {
    "scrolled": true
   },
   "outputs": [
    {
     "data": {
      "text/plain": [
       "6.159287546660801"
      ]
     },
     "execution_count": 32,
     "metadata": {},
     "output_type": "execute_result"
    }
   ],
   "source": [
    "4 + log(125)/sqrt(5)"
   ]
  },
  {
   "cell_type": "code",
   "execution_count": 33,
   "metadata": {
    "scrolled": true
   },
   "outputs": [
    {
     "data": {
      "text/plain": [
       "7962624"
      ]
     },
     "execution_count": 33,
     "metadata": {},
     "output_type": "execute_result"
    }
   ],
   "source": [
    "(5 + 19)^5"
   ]
  },
  {
   "cell_type": "code",
   "execution_count": 34,
   "metadata": {},
   "outputs": [
    {
     "data": {
      "text/plain": [
       "\"Sys.cpu_summary()\""
      ]
     },
     "execution_count": 34,
     "metadata": {},
     "output_type": "execute_result"
    }
   ],
   "source": [
    "In[5]"
   ]
  },
  {
   "cell_type": "markdown",
   "metadata": {},
   "source": [
    "Cálculo anterior:"
   ]
  },
  {
   "cell_type": "code",
   "execution_count": 35,
   "metadata": {
    "scrolled": true
   },
   "outputs": [
    {
     "data": {
      "text/plain": [
       "\"Sys.cpu_summary()\""
      ]
     },
     "execution_count": 35,
     "metadata": {},
     "output_type": "execute_result"
    }
   ],
   "source": [
    "ans"
   ]
  },
  {
   "cell_type": "markdown",
   "metadata": {},
   "source": [
    "Para acessar os dados de saída use:\n",
    "```julia\n",
    "Out[número_célula]\n",
    "```"
   ]
  },
  {
   "cell_type": "code",
   "execution_count": 36,
   "metadata": {
    "scrolled": true
   },
   "outputs": [
    {
     "data": {
      "text/plain": [
       "7"
      ]
     },
     "execution_count": 36,
     "metadata": {},
     "output_type": "execute_result"
    }
   ],
   "source": [
    "Out[15]"
   ]
  },
  {
   "cell_type": "markdown",
   "metadata": {},
   "source": [
    "** Historico Geral **\n",
    "\n",
    "Caso seja necessário vizualizar todos os dados de entrada e todos os dados de saída das células, use `In` e `Out`."
   ]
  },
  {
   "cell_type": "code",
   "execution_count": 37,
   "metadata": {
    "scrolled": true
   },
   "outputs": [
    {
     "data": {
      "text/plain": [
       "Dict{Int64,String} with 37 entries:\n",
       "  18 => \"sqrt(2) , 2.0*3.0^-2\"\n",
       "  30 => \"log10(1000)\"\n",
       "  33 => \"(5 + 19)^5\"\n",
       "  32 => \"4 + log(125)/sqrt(5)\"\n",
       "  2  => \"? versioninfo \"\n",
       "  16 => \"lcm(60, 50)\"\n",
       "  11 => \"(2 + 5)^2/(3 + 1)^3\"\n",
       "  21 => \"coth(pi/4), csc(pi/4) , sec(pi/4)\"\n",
       "  7  => \"2 + 5\"\n",
       "  9  => \"exp(3)\"\n",
       "  25 => \"exp(2)\"\n",
       "  10 => \"2^6\"\n",
       "  26 => \"expm1(5)\"\n",
       "  29 => \"log2(100)\"\n",
       "  34 => \"In[5]\"\n",
       "  35 => \"ans\"\n",
       "  19 => \"# se usado o ponto e virgula, só será impresso a ultimo cálculo\\nsqrt(…\n",
       "  17 => \"factorial(5)\"\n",
       "  8  => \"1e-2\"\n",
       "  22 => \"sind(90), cosd(90)\"\n",
       "  6  => \"8 ÷ 3\"\n",
       "  24 => \"# Converte x de radianos para graus\\nrad2deg(1.0471975511965976)\"\n",
       "  4  => \"Sys.KERNEL  \"\n",
       "  37 => \"In\"\n",
       "  3  => \"Sys.cpu_info()\"\n",
       "  ⋮  => ⋮"
      ]
     },
     "execution_count": 37,
     "metadata": {},
     "output_type": "execute_result"
    }
   ],
   "source": [
    "In"
   ]
  },
  {
   "cell_type": "code",
   "execution_count": 38,
   "metadata": {
    "scrolled": true
   },
   "outputs": [
    {
     "data": {
      "text/plain": [
       "Dict{Int64,Any} with 36 entries:\n",
       "  30 => 3.0\n",
       "  33 => 7962624\n",
       "  32 => 6.15929\n",
       "  2  => ```…\n",
       "  16 => 300\n",
       "  11 => 0.765625\n",
       "  21 => (1.52487, 1.41421, 1.41421)\n",
       "  7  => 7\n",
       "  9  => 20.0855\n",
       "  25 => 7.38906\n",
       "  10 => 64\n",
       "  26 => 147.413\n",
       "  29 => 6.64386\n",
       "  34 => \"Sys.cpu_summary()\"\n",
       "  35 => \"Sys.cpu_summary()\"\n",
       "  19 => 0.222222\n",
       "  17 => 120\n",
       "  8  => 0.01\n",
       "  22 => (1.0, 0.0)\n",
       "  6  => 2\n",
       "  24 => 60.0\n",
       "  4  => :Linux\n",
       "  37 => Dict(18=>\"sqrt(2) , 2.0*3.0^-2\",30=>\"log10(1000)\",33=>\"(5 + 19)^5\",32=>…\n",
       "  3  => Base.Sys.CPUinfo[Intel(R) Core(TM) i7-3770 CPU @ 3.40GHz: …\n",
       "  28 => 2.0\n",
       "  ⋮  => ⋮"
      ]
     },
     "execution_count": 38,
     "metadata": {},
     "output_type": "execute_result"
    }
   ],
   "source": [
    "Out"
   ]
  },
  {
   "cell_type": "markdown",
   "metadata": {},
   "source": [
    "Para limpar todo o histórico de comandos use: \n",
    "```julia\n",
    "clear_history()\n",
    "```"
   ]
  },
  {
   "cell_type": "markdown",
   "metadata": {},
   "source": [
    "## CALCULAR O TEMPO DE PROCESSAMENTO"
   ]
  },
  {
   "cell_type": "markdown",
   "metadata": {},
   "source": [
    "** @time **\n",
    "\n",
    "A macro `@time` mede o tempo de processamento para executar uma expressão, o número de alocações e o número total de bytes de sua execução."
   ]
  },
  {
   "cell_type": "code",
   "execution_count": 39,
   "metadata": {
    "scrolled": true
   },
   "outputs": [
    {
     "name": "stdout",
     "output_type": "stream",
     "text": [
      "  0.013479 seconds (6.60 k allocations: 393.480 KiB)\n"
     ]
    },
    {
     "data": {
      "text/plain": [
       "4.543647706547242"
      ]
     },
     "execution_count": 39,
     "metadata": {},
     "output_type": "execute_result"
    }
   ],
   "source": [
    "@time sqrt((2*pi + sqrt(log(2569854.5415263))/(sin(52)*cos(log(25948.1452))))^100)*exp(sin(0.8985424))"
   ]
  },
  {
   "cell_type": "markdown",
   "metadata": {},
   "source": [
    "** @timev **\n",
    "\n",
    "Esta é uma versão detalhada da macro `@time`, acrescenta:\n",
    "- elapsed time : tempo de processamento;\n",
    "- bytes allocated: \n",
    "- pool allocs:"
   ]
  },
  {
   "cell_type": "code",
   "execution_count": 40,
   "metadata": {},
   "outputs": [
    {
     "name": "stdout",
     "output_type": "stream",
     "text": [
      "  0.000063 seconds (18 allocations: 384 bytes)\n",
      "elapsed time (ns): 62564\n",
      "bytes allocated:   384\n",
      "pool allocs:       18\n"
     ]
    },
    {
     "data": {
      "text/plain": [
       "4.543647706547242"
      ]
     },
     "execution_count": 40,
     "metadata": {},
     "output_type": "execute_result"
    }
   ],
   "source": [
    "@timev sqrt((2*pi + sqrt(log(2569854.5415263))/(sin(52)*cos(log(25948.1452))))^100)*exp(sin(0.8985424))"
   ]
  },
  {
   "cell_type": "markdown",
   "metadata": {},
   "source": [
    "** @elapsed **\n",
    "\n",
    "A macro para avaliar o tempo de processamento para executar uma expressão descartando o valor resultante."
   ]
  },
  {
   "cell_type": "code",
   "execution_count": 41,
   "metadata": {},
   "outputs": [
    {
     "data": {
      "text/plain": [
       "5.1568e-5"
      ]
     },
     "execution_count": 41,
     "metadata": {},
     "output_type": "execute_result"
    }
   ],
   "source": [
    "@elapsed sqrt((2*pi + sqrt(log(2569854.5415263))/(sin(52)*cos(log(25948.1452))))^100)*exp(sin(0.8985424))"
   ]
  },
  {
   "cell_type": "markdown",
   "metadata": {},
   "source": [
    "## PRECISÃO DE NUMEROS SIGNIFICATIVOS"
   ]
  },
  {
   "cell_type": "markdown",
   "metadata": {},
   "source": [
    "Numero PI especificado número de dígitos:"
   ]
  },
  {
   "cell_type": "code",
   "execution_count": 42,
   "metadata": {
    "scrolled": false
   },
   "outputs": [
    {
     "data": {
      "text/plain": [
       "3.1415927"
      ]
     },
     "execution_count": 42,
     "metadata": {},
     "output_type": "execute_result"
    }
   ],
   "source": [
    "round(pi, sigdigits=8)"
   ]
  },
  {
   "cell_type": "markdown",
   "metadata": {},
   "source": [
    "Arredonda para o inteiro próximo mais baixo:"
   ]
  },
  {
   "cell_type": "code",
   "execution_count": 43,
   "metadata": {},
   "outputs": [
    {
     "data": {
      "text/plain": [
       "3.0"
      ]
     },
     "execution_count": 43,
     "metadata": {},
     "output_type": "execute_result"
    }
   ],
   "source": [
    "floor(3.14159265)"
   ]
  },
  {
   "cell_type": "markdown",
   "metadata": {},
   "source": [
    "Arredonda para o inteiro próximo mais alto"
   ]
  },
  {
   "cell_type": "code",
   "execution_count": 44,
   "metadata": {
    "scrolled": true
   },
   "outputs": [
    {
     "data": {
      "text/plain": [
       "4.0"
      ]
     },
     "execution_count": 44,
     "metadata": {},
     "output_type": "execute_result"
    }
   ],
   "source": [
    "ceil(3.14159265)"
   ]
  },
  {
   "cell_type": "markdown",
   "metadata": {},
   "source": [
    "Arredonda descartando os número após a vírgula:"
   ]
  },
  {
   "cell_type": "code",
   "execution_count": 45,
   "metadata": {},
   "outputs": [
    {
     "data": {
      "text/plain": [
       "3.0"
      ]
     },
     "execution_count": 45,
     "metadata": {},
     "output_type": "execute_result"
    }
   ],
   "source": [
    "trunc(3.999)"
   ]
  },
  {
   "cell_type": "markdown",
   "metadata": {},
   "source": [
    "## FUNÇÕES DE IMPRESSÃO"
   ]
  },
  {
   "cell_type": "markdown",
   "metadata": {},
   "source": [
    "**Função print()**\n",
    "\n",
    "Escreve (para o fluxo de saída padrão) uma representação textual ou um valor se houver. A representação usada pelo comando inclui formatação mínima."
   ]
  },
  {
   "cell_type": "code",
   "execution_count": 46,
   "metadata": {
    "scrolled": true
   },
   "outputs": [
    {
     "name": "stdout",
     "output_type": "stream",
     "text": [
      "0.7071067811865476"
     ]
    }
   ],
   "source": [
    "print(sind(45))"
   ]
  },
  {
   "cell_type": "markdown",
   "metadata": {},
   "source": [
    "**println()**\n",
    "Similar a `print()`, escreve a representação textual do valor, no entanto, adiciona o caracter fim de linha `\\n`. Desta forma, o próximo comando de `print()` será na linha abaixo."
   ]
  },
  {
   "cell_type": "code",
   "execution_count": 47,
   "metadata": {},
   "outputs": [
    {
     "name": "stdout",
     "output_type": "stream",
     "text": [
      "0.70710678118654760.7071067811865476\n",
      "0.7071067811865476\n"
     ]
    }
   ],
   "source": [
    "print(sind(45))\n",
    "println(sind(45))\n",
    "println(sind(45))"
   ]
  },
  {
   "cell_type": "markdown",
   "metadata": {},
   "source": [
    "**Comando display**\n",
    "\n",
    "Semelhante à função `print()`, utiliza recursos mais elaborados de visualização. É excelente para imprimir na tela o resultado de várias expressões em linhas."
   ]
  },
  {
   "cell_type": "code",
   "execution_count": 48,
   "metadata": {},
   "outputs": [
    {
     "data": {
      "text/plain": [
       "0.7071067811865476"
      ]
     },
     "metadata": {},
     "output_type": "display_data"
    }
   ],
   "source": [
    "display(sind(45))"
   ]
  },
  {
   "cell_type": "code",
   "execution_count": 49,
   "metadata": {
    "scrolled": true
   },
   "outputs": [
    {
     "data": {
      "text/plain": [
       "0.7071067811865476"
      ]
     },
     "metadata": {},
     "output_type": "display_data"
    },
    {
     "data": {
      "text/plain": [
       "0.9975640502598242"
      ]
     },
     "metadata": {},
     "output_type": "display_data"
    },
    {
     "data": {
      "text/plain": [
       "(nothing, nothing)"
      ]
     },
     "execution_count": 49,
     "metadata": {},
     "output_type": "execute_result"
    }
   ],
   "source": [
    "display(sind(45)), display(sind(86))"
   ]
  },
  {
   "cell_type": "markdown",
   "metadata": {},
   "source": [
    "**Macro @show()**\n",
    "\n",
    "É uma macro que exibe a expressão e o resultado do cálculo."
   ]
  },
  {
   "cell_type": "code",
   "execution_count": 50,
   "metadata": {
    "scrolled": true
   },
   "outputs": [
    {
     "name": "stdout",
     "output_type": "stream",
     "text": [
      "sind(45) = 0.7071067811865476\n"
     ]
    },
    {
     "data": {
      "text/plain": [
       "0.7071067811865476"
      ]
     },
     "execution_count": 50,
     "metadata": {},
     "output_type": "execute_result"
    }
   ],
   "source": [
    "@show sind(45)"
   ]
  }
 ],
 "metadata": {
  "@webio": {
   "lastCommId": null,
   "lastKernelId": null
  },
  "anaconda-cloud": {},
  "kernelspec": {
   "display_name": "Julia 1.2.0",
   "language": "julia",
   "name": "julia-1.2"
  },
  "language_info": {
   "file_extension": ".jl",
   "mimetype": "application/julia",
   "name": "julia",
   "version": "1.2.0"
  },
  "latex_envs": {
   "LaTeX_envs_menu_present": true,
   "autocomplete": true,
   "bibliofile": "biblio.bib",
   "cite_by": "apalike",
   "current_citInitial": 1,
   "eqLabelWithNumbers": true,
   "eqNumInitial": 1,
   "hotkeys": {
    "equation": "Ctrl-E",
    "itemize": "Ctrl-I"
   },
   "labels_anchors": false,
   "latex_user_defs": false,
   "report_style_numbering": false,
   "user_envs_cfg": false
  }
 },
 "nbformat": 4,
 "nbformat_minor": 2
}
