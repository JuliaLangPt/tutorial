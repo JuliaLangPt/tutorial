{
 "cells": [
  {
   "cell_type": "markdown",
   "metadata": {},
   "source": [
    "# TIPOS DE DADOS PARTE I\n",
    "\n",
    "A linguagem `Julia` apresenta tipagem dinâmica, isto é, \"uma variável adquire um tipo quando lhe atribuem um valor\" (SEBESTA, 2011). Esta característica apresenta algumas vantagens em relação às linguagens de tipagem estática como `Java`, pois o tipo pode ser alterado em tempo de execução agilizando a prototipação rápida de código.\n",
    "\n",
    "O valor de um dado é qualquer informação atribuída a este e pode ser um número, um texto, uma música, e etc. O tipo de dado acordo com Tucker e Noonan(2011)  \"é um conjunto de valores e um conjunto de operações sobre esses valores\".\n",
    "\n",
    "\n",
    "Em `Julia` existem basicamente dois tipos: tipos abstratos e tipos concretos. Um tipo abstrato é caracterizado por não ser instanciado, servindo apenas para a construção de outros tipos. Já os tipos concretos podem ser instanciados, mas não podem ter subtipos. A árvore de tipo da linguagem `Julia` é bem extensa porém útil, pois permite a construção de código optimizados de acordo com a aplicação.\n",
    "\n",
    "\n",
    "\n",
    "**Dados mutáveis x dados imutáveis**\n"
   ]
  },
  {
   "cell_type": "markdown",
   "metadata": {},
   "source": [
    "<img src=\"Figuras/tipos-arvore-julia.png\" align=\"center\" width=\"500\">\n",
    "<center>Fonte: (TOAL et al, 2017)</center>"
   ]
  },
  {
   "cell_type": "markdown",
   "metadata": {},
   "source": [
    "## NUMÉRICOS\n",
    "\n",
    "BEZANSON(2015) \"Além disso, Julia fornece suporte de software para aritmética de precisão arbitrária, que pode manipular operações em valores numéricos que não podem ser representados efetivamente em representações nativas de hardware, mas ao custo de desempenho relativamente mais lento.\""
   ]
  },
  {
   "cell_type": "markdown",
   "metadata": {},
   "source": [
    "### NÚMEROS INTEIROS:\n",
    "\n",
    "São definidos como tipos inteiros os dados numéricos, não racionais, positivos ou negativos. Podem ser representados sem sinal(`unsigned`) ou com sinal (`signed`) capaz de representar números negativos.\n",
    "\n",
    "<table cellspacing=\"2\" cellpadding=\"2\">\n",
    "<tbody>\n",
    "<tr>\n",
    "<th>\n",
    "<p>Tipo</p>\n",
    "</th>\n",
    "<th>\n",
    "<p>Número de Bits</p>\n",
    "</th>\n",
    "<th>\n",
    "<p>Menor Valor</p>\n",
    "</th>\n",
    "<th>Maior Valor</th>\n",
    "</tr>\n",
    "<tr>\n",
    "<td>\n",
    "<p>Int8</p>\n",
    "</td>\n",
    "<td>\n",
    "<p>8</p>\n",
    "</td>\n",
    "<td>\n",
    "<p>$-2^7$</p>\n",
    "</td>\n",
    "<td>\n",
    "<p>$2^7 - 1$</p>\n",
    "</td>\n",
    "</tr>\n",
    "<tr>\n",
    "<td>\n",
    "<p>UInt8</p>\n",
    "</td>\n",
    "<td>\n",
    "<p>8</p>\n",
    "</td>\n",
    "<td>\n",
    "<p>0</p>\n",
    "</td>\n",
    "<td>\n",
    "<p>$2^8 - 1$</p>\n",
    "</td>\n",
    "</tr>\n",
    "<tr>\n",
    "<td>\n",
    "<p>Int16</p>\n",
    "</td>\n",
    "<td>\n",
    "<p>16</p>\n",
    "</td>\n",
    "<td>\n",
    "<p>$-2^{15}$</p>\n",
    "</td>\n",
    "<td>\n",
    "<p>$2^{15} - 1$</p>\n",
    "</td>\n",
    "</tr>\n",
    "<tr>\n",
    "<td>\n",
    "<p>UInt16</p>\n",
    "</td>\n",
    "<td>\n",
    "<p>16</p>\n",
    "</td>\n",
    "<td>\n",
    "<p>0</p>\n",
    "</td>\n",
    "<td>\n",
    "<p>$2^{16} - 1$</p>\n",
    "</td>\n",
    "</tr>\n",
    "<tr>\n",
    "<td>\n",
    "<p>Int32</p>\n",
    "</td>\n",
    "<td>\n",
    "<p>32</p>\n",
    "</td>\n",
    "<td>\n",
    "<p>$-2^{31}$</p>\n",
    "</td>\n",
    "<td>\n",
    "<p>$2^{31} - 1$</p>\n",
    "</td>\n",
    "</tr>\n",
    "<tr>\n",
    "<td>\n",
    "<p>UInt32</p>\n",
    "</td>\n",
    "<td>\n",
    "<p>32</p>\n",
    "</td>\n",
    "<td>\n",
    "<p>0</p>\n",
    "</td>\n",
    "<td>\n",
    "<p>$2^{32} - 1$</p>\n",
    "</td>\n",
    "</tr>\n",
    "<tr>\n",
    "<td>\n",
    "<p>Int64</p>\n",
    "</td>\n",
    "<td>\n",
    "<p>64</p>\n",
    "</td>\n",
    "<td>\n",
    "<p>$-2^{63}$</p>\n",
    "</td>\n",
    "<td>\n",
    "<p>$2^{63} - 1$</p>\n",
    "</td>\n",
    "</tr>\n",
    "<tr>\n",
    "<td>\n",
    "<p>UInt64</p>\n",
    "</td>\n",
    "<td>\n",
    "<p>64</p>\n",
    "</td>\n",
    "<td>\n",
    "<p>0</p>\n",
    "</td>\n",
    "<td>\n",
    "<p>$2^{64} - 1$</p>\n",
    "</td>\n",
    "</tr>\n",
    "<tr>\n",
    "<td>\n",
    "<p>Int128</p>\n",
    "</td>\n",
    "<td>\n",
    "<p>128</p>\n",
    "</td>\n",
    "<td>\n",
    "<p>$-2^{127}$</p>\n",
    "</td>\n",
    "<td>\n",
    "<p>$2^{127} - 1$</p>\n",
    "</td>\n",
    "</tr>\n",
    "<tr>\n",
    "<td>\n",
    "<p>UInt128</p>\n",
    "</td>\n",
    "<td>\n",
    "<p>128</p>\n",
    "</td>\n",
    "<td>\n",
    "<p>0</p>\n",
    "</td>\n",
    "<td>\n",
    "<p>$2^{128} - 1$</p>\n",
    "</td>\n",
    "</tr>\n",
    "<tr>\n",
    "<td>\n",
    "<p>Bool</p>\n",
    "</td>\n",
    "<td>\n",
    "<p>8</p>\n",
    "</td>\n",
    "<td>\n",
    "<p>false(0)</p>\n",
    "</td>\n",
    "<td>\n",
    "<p>true(1)</p>\n",
    "</td>\n",
    "</tr>\n",
    "</tbody>\n",
    "</table>\n",
    "\n"
   ]
  },
  {
   "cell_type": "markdown",
   "metadata": {},
   "source": [
    "###  PONTO FLUTUANTE:\n",
    "\n",
    "Os números de ponto flutuante na linguagem Julia seguem o padrão IEEE 754, definido como:\n",
    "\n",
    "$$SM * 2^E$$\n",
    "$S$ é o sinal, $M$ é a mantissa ou parte fracionária, 2 é a base (binário) e $E$ é o expoente. A tabela abaixo contém \n",
    "\n",
    "<table width=\"250\" cellspacing=\"0\" cellpadding=\"2\">\n",
    "<tbody>\n",
    "<tr>\n",
    "<th width=\"63\">\n",
    "<p>Tipo</p>\n",
    "</th>\n",
    "<th width=\"66\">\n",
    "<p>Precisão</p>\n",
    "</th>\n",
    "<th width=\"108\">Número de Bits</th>\n",
    "</tr>\n",
    "<tr>\n",
    "<td width=\"63\">\n",
    "<p><code>Float16</code></p>\n",
    "</td>\n",
    "<td width=\"66\">\n",
    "<p>half</p>\n",
    "</td>\n",
    "<td width=\"108\">\n",
    "<p>16</p>\n",
    "</td>\n",
    "</tr>\n",
    "<tr>\n",
    "<td width=\"63\">\n",
    "<p><code>Float32</code></p>\n",
    "</td>\n",
    "<td width=\"66\">\n",
    "<p>single</p>\n",
    "</td>\n",
    "<td width=\"108\">\n",
    "<p>32</p>\n",
    "</td>\n",
    "</tr>\n",
    "<tr>\n",
    "<td width=\"63\">\n",
    "<p><code>Float64</code></p>\n",
    "</td>\n",
    "<td width=\"66\">\n",
    "<p>double</p>\n",
    "</td>\n",
    "<td width=\"108\">\n",
    "<p>64</p>\n",
    "</td>\n",
    "</tr>\n",
    "</tbody>\n",
    "</table>"
   ]
  },
  {
   "cell_type": "markdown",
   "metadata": {},
   "source": [
    "### TIPOS RACIONAIS:\n",
    "\n",
    "Julia tem um tipo específico para representar números racionais construídos usando o operador `//`. Os números racionais são úteis quando é necessário representar proporções exatas de inteiros composto por numerador e denominador, eliminando dessa forma problemas de arredondamento.\n",
    "\n",
    "Exemplo: representar $ \\displaystyle {1 \\over 3} + {7 \\over 7} $"
   ]
  },
  {
   "cell_type": "code",
   "execution_count": 18,
   "metadata": {
    "collapsed": false,
    "scrolled": false
   },
   "outputs": [
    {
     "data": {
      "text/plain": [
       "8//3"
      ]
     },
     "execution_count": 18,
     "metadata": {},
     "output_type": "execute_result"
    }
   ],
   "source": [
    "1//3 + 7//3"
   ]
  },
  {
   "cell_type": "code",
   "execution_count": 25,
   "metadata": {
    "collapsed": false,
    "scrolled": true
   },
   "outputs": [
    {
     "data": {
      "text/plain": [
       "1"
      ]
     },
     "execution_count": 25,
     "metadata": {},
     "output_type": "execute_result"
    }
   ],
   "source": [
    "# numerador\n",
    "numerator(1//3)"
   ]
  },
  {
   "cell_type": "code",
   "execution_count": 26,
   "metadata": {
    "collapsed": false
   },
   "outputs": [
    {
     "data": {
      "text/plain": [
       "3"
      ]
     },
     "execution_count": 26,
     "metadata": {},
     "output_type": "execute_result"
    }
   ],
   "source": [
    "# denominador\n",
    "denominator(1//3)"
   ]
  },
  {
   "cell_type": "markdown",
   "metadata": {},
   "source": [
    "Quando ocorre uma operação de um racional com um inteiro, Julia normaliza para um denominador comum. No caso de um tipo flutuante o racional é convertido para flutuante."
   ]
  },
  {
   "cell_type": "code",
   "execution_count": 23,
   "metadata": {
    "collapsed": false
   },
   "outputs": [
    {
     "data": {
      "text/plain": [
       "7//3"
      ]
     },
     "execution_count": 23,
     "metadata": {},
     "output_type": "execute_result"
    }
   ],
   "source": [
    "1//3 + 2"
   ]
  },
  {
   "cell_type": "code",
   "execution_count": 24,
   "metadata": {
    "collapsed": false
   },
   "outputs": [
    {
     "data": {
      "text/plain": [
       "2.3333333333333335"
      ]
     },
     "execution_count": 24,
     "metadata": {},
     "output_type": "execute_result"
    }
   ],
   "source": [
    "1//3 + 2.0"
   ]
  },
  {
   "cell_type": "markdown",
   "metadata": {},
   "source": [
    "## VARIÁVEIS E CONSTANTES\n",
    "\n",
    "\n",
    "Em função da tipagem dinâmica de , uma variável pode alterar o tipo em tempo de execução conforme o valor atribuído. Os nomes das variáveis são `case-sensitive` (há diferença entre nomes com letras maiúsculas e minúsculas) e devem começar com uma letra (A-Z ou a-z). Variáveis locais e globais. Variáveis globais ..... . Variáveis locais.... . De acordo com Benzason et all (2015) é difícil para o compilador otimizar o código envolvendo variáveis globais, já que seus valores (ou até mesmo seus tipos) podem mudar a qualquer momento. Declarar uma variável global como `const` resolve esse problema de desempenho."
   ]
  },
  {
   "cell_type": "markdown",
   "metadata": {},
   "source": [
    "**Trabalhando com variáveis**"
   ]
  },
  {
   "cell_type": "code",
   "execution_count": 1,
   "metadata": {
    "collapsed": false,
    "scrolled": true
   },
   "outputs": [
    {
     "data": {
      "text/plain": [
       "2"
      ]
     },
     "execution_count": 1,
     "metadata": {},
     "output_type": "execute_result"
    }
   ],
   "source": [
    "# Atribindo o valor 2 a variavel x\n",
    "x = 2"
   ]
  },
  {
   "cell_type": "code",
   "execution_count": 2,
   "metadata": {
    "collapsed": false
   },
   "outputs": [
    {
     "data": {
      "text/plain": [
       "4"
      ]
     },
     "execution_count": 2,
     "metadata": {},
     "output_type": "execute_result"
    }
   ],
   "source": [
    "# Executando o cálculo\n",
    "x^2"
   ]
  },
  {
   "cell_type": "code",
   "execution_count": 3,
   "metadata": {
    "collapsed": true,
    "scrolled": true
   },
   "outputs": [],
   "source": [
    "# Variável string\n",
    "y = \"so testando\";"
   ]
  },
  {
   "cell_type": "code",
   "execution_count": 4,
   "metadata": {
    "collapsed": false
   },
   "outputs": [
    {
     "data": {
      "text/plain": [
       "\"so testando\""
      ]
     },
     "execution_count": 4,
     "metadata": {},
     "output_type": "execute_result"
    }
   ],
   "source": [
    "y"
   ]
  },
  {
   "cell_type": "code",
   "execution_count": 5,
   "metadata": {
    "collapsed": false
   },
   "outputs": [
    {
     "data": {
      "text/plain": [
       "(Int64, String)"
      ]
     },
     "execution_count": 5,
     "metadata": {},
     "output_type": "execute_result"
    }
   ],
   "source": [
    "# verificar o tipo da variável\n",
    "typeof(x),typeof(y)"
   ]
  },
  {
   "cell_type": "code",
   "execution_count": 6,
   "metadata": {
    "collapsed": false,
    "scrolled": false
   },
   "outputs": [
    {
     "data": {
      "text/plain": [
       "true"
      ]
     },
     "execution_count": 6,
     "metadata": {},
     "output_type": "execute_result"
    }
   ],
   "source": [
    "# testar tipo\n",
    "isa(x, Int64)"
   ]
  },
  {
   "cell_type": "markdown",
   "metadata": {},
   "source": [
    "** `'INPUT'` de dados**\n",
    "\n",
    "A função `readlines()` permite ler caracteres digitados."
   ]
  },
  {
   "cell_type": "code",
   "execution_count": 1,
   "metadata": {
    "collapsed": false,
    "scrolled": true
   },
   "outputs": [
    {
     "name": "stdout",
     "output_type": "stream",
     "text": [
      "Digite numero A :\n",
      "stdin> 8\n",
      "Digite numero B :\n",
      "stdin> 6\n",
      "Resultado da operação mod entre 8 e 6: 2\n"
     ]
    }
   ],
   "source": [
    "println(\"Digite numero A :\")\n",
    "a = readline()\n",
    "\n",
    "println(\"Digite numero B :\")\n",
    "b = readline()\n",
    "\n",
    "println(\"Resultado da operação mod entre $a e $b: \", mod(Meta.parse(a), Meta.parse(b)))"
   ]
  },
  {
   "cell_type": "markdown",
   "metadata": {},
   "source": [
    "**Declarando  várias variáveis ao mesmo tempo **"
   ]
  },
  {
   "cell_type": "code",
   "execution_count": 8,
   "metadata": {
    "collapsed": true
   },
   "outputs": [],
   "source": [
    "# Declarando várias variáveis\n",
    "x = 5 ; y = 10 ; z = \"julia\";"
   ]
  },
  {
   "cell_type": "code",
   "execution_count": 9,
   "metadata": {
    "collapsed": false
   },
   "outputs": [
    {
     "data": {
      "text/plain": [
       "(5, 10, \"julia\")"
      ]
     },
     "execution_count": 9,
     "metadata": {},
     "output_type": "execute_result"
    }
   ],
   "source": [
    "x, y, z"
   ]
  },
  {
   "cell_type": "markdown",
   "metadata": {},
   "source": [
    "** Variáveis criadas ** \n",
    "\n",
    "Para ver todas as variáveis globais criadas."
   ]
  },
  {
   "cell_type": "code",
   "execution_count": 5,
   "metadata": {
    "collapsed": false,
    "scrolled": false
   },
   "outputs": [
    {
     "data": {
      "text/latex": [
       "\\begin{tabular}\n",
       "{l | r | l}\n",
       "name & size & summary \\\\\n",
       "\\hline\n",
       "Base &  & Module \\\\\n",
       "Core &  & Module \\\\\n",
       "Main &  & Module \\\\\n",
       "a & 0 bytes & Nothing \\\\\n",
       "b & 9 bytes & String \\\\\n",
       "startupfile & 62 bytes & String \\\\\n",
       "\\end{tabular}\n"
      ],
      "text/markdown": [
       "| name        |     size | summary |\n",
       "|:----------- | --------:|:------- |\n",
       "| Base        |          | Module  |\n",
       "| Core        |          | Module  |\n",
       "| Main        |          | Module  |\n",
       "| a           |  0 bytes | Nothing |\n",
       "| b           |  9 bytes | String  |\n",
       "| startupfile | 62 bytes | String  |\n"
      ],
      "text/plain": [
       "name            size summary\n",
       "––––––––––– –––––––– –––––––\n",
       "Base                 Module \n",
       "Core                 Module \n",
       "Main                 Module \n",
       "a            0 bytes Nothing\n",
       "b            9 bytes String \n",
       "startupfile 62 bytes String "
      ]
     },
     "execution_count": 5,
     "metadata": {},
     "output_type": "execute_result"
    }
   ],
   "source": [
    "varinfo()"
   ]
  },
  {
   "cell_type": "markdown",
   "metadata": {},
   "source": [
    "Observe ao final do resultado as variáveis `x`, `y` e `z` e os seus respectivos tipos e tamanho em bytes."
   ]
  },
  {
   "cell_type": "markdown",
   "metadata": {},
   "source": [
    "** Resetar todas as variáveis**\n",
    "\n",
    "A linguagem de programação `Julia`  não possui um comando análogo ao `clear` do `MatLab®`. Uma vez que um nome é definido em uma sessão (tecnicamente, no módulo principal), ele está sempre presente."
   ]
  },
  {
   "cell_type": "markdown",
   "metadata": {},
   "source": [
    "## CONSTANTES\n",
    "\n",
    "A declaração `const` é útil para variáveis globais, especialmente porque é difícil para o compilador otimizar o código envolvendo variáveis globais, já que seus valores (ou até mesmo seus tipos) podem mudar a qualquer momento. Utilizar constantes declaradas como `const` resolve o problema e melhora o desempenho. "
   ]
  },
  {
   "cell_type": "markdown",
   "metadata": {},
   "source": [
    "Exemplo de constantes:"
   ]
  },
  {
   "cell_type": "code",
   "execution_count": null,
   "metadata": {
    "collapsed": true
   },
   "outputs": [],
   "source": [
    "pi, e, golden"
   ]
  },
  {
   "cell_type": "markdown",
   "metadata": {},
   "source": [
    "** Declarando uma constante**\n",
    "\n",
    "Constantes, declarado como `const`, são variáveis imutáveis quanto ao tipo. Ou seja, podem mudar de valor (será dado um aviso \"WARNING\") mas não podem mudar de tipo.\n"
   ]
  },
  {
   "cell_type": "code",
   "execution_count": 16,
   "metadata": {
    "collapsed": false
   },
   "outputs": [
    {
     "data": {
      "text/plain": [
       "299792458"
      ]
     },
     "execution_count": 16,
     "metadata": {},
     "output_type": "execute_result"
    }
   ],
   "source": [
    "# variável \"vel_luz\" do tipo inteiro\n",
    "const vel_luz = 299792458"
   ]
  },
  {
   "cell_type": "code",
   "execution_count": 17,
   "metadata": {
    "collapsed": false
   },
   "outputs": [
    {
     "data": {
      "text/plain": [
       "Int64"
      ]
     },
     "execution_count": 17,
     "metadata": {},
     "output_type": "execute_result"
    }
   ],
   "source": [
    "# tipo da constante\n",
    "typeof(vel_luz)"
   ]
  },
  {
   "cell_type": "markdown",
   "metadata": {},
   "source": [
    "Quando uma constante é alterada para outro valor do mesmo tipo, um aviso `WARNING: redefining constant` será dado."
   ]
  },
  {
   "cell_type": "code",
   "execution_count": 18,
   "metadata": {
    "collapsed": false,
    "scrolled": true
   },
   "outputs": [
    {
     "name": "stderr",
     "output_type": "stream",
     "text": [
      "WARNING: redefining constant vel_luz\n"
     ]
    },
    {
     "data": {
      "text/plain": [
       "30000000"
      ]
     },
     "execution_count": 18,
     "metadata": {},
     "output_type": "execute_result"
    }
   ],
   "source": [
    "vel_luz = 30000000"
   ]
  },
  {
   "cell_type": "markdown",
   "metadata": {},
   "source": [
    "Não é possível alterar o tipo da variável \"vel_luz\". No exemplo abaixo, temos uma tentativa de alterar o tipo da variável `vel_luz` para `string`. Será dado o aviso `\"invalid redefinition of constant\"`."
   ]
  },
  {
   "cell_type": "code",
   "execution_count": 19,
   "metadata": {
    "collapsed": false,
    "scrolled": false
   },
   "outputs": [
    {
     "ename": "ErrorException",
     "evalue": "invalid redefinition of constant vel_luz",
     "output_type": "error",
     "traceback": [
      "invalid redefinition of constant vel_luz",
      "",
      "Stacktrace:",
      " [1] top-level scope at In[19]:1"
     ]
    }
   ],
   "source": [
    "vel_luz = \"30000000\""
   ]
  },
  {
   "cell_type": "markdown",
   "metadata": {},
   "source": [
    "## STRING"
   ]
  },
  {
   "cell_type": "markdown",
   "metadata": {},
   "source": [
    "Uma string é uma sequencia de um ou vários caracteres escritos entre aspas duplas. Quando trabalhamos com céluas do IPython/Jupyter do tipo `Markdown` e temos uma palavara que necessita dos caractes `#, % e *` ,  é necessário acrescentar a barra invertida antes dos caractere  (ex: `\\#`) para não ocorrer variação de formatação do texto. A linguagem `Julia` suporta caracteres Unicode e UTF-8. O site https://unicode-table.com/pt/ oferece várias tabelas de caractes em Unicode. Sintaxe:\n",
    "```julia\n",
    "nome_string = \"s t r i n g\"\n",
    "               1 2 3 4 5 6 -> índice\n",
    "nome_string[i]\n",
    "```\n",
    "Sendo: \n",
    "* **i**: índice da posição da sequencia string."
   ]
  },
  {
   "cell_type": "code",
   "execution_count": null,
   "metadata": {
    "collapsed": true
   },
   "outputs": [],
   "source": [
    "Julia = \"Julia é uma excelente linguagem de programação\""
   ]
  },
  {
   "cell_type": "code",
   "execution_count": null,
   "metadata": {
    "collapsed": true
   },
   "outputs": [],
   "source": [
    "Julia[15]"
   ]
  },
  {
   "cell_type": "code",
   "execution_count": null,
   "metadata": {
    "collapsed": true
   },
   "outputs": [],
   "source": [
    "Julia[1:5]"
   ]
  },
  {
   "cell_type": "code",
   "execution_count": null,
   "metadata": {
    "collapsed": true,
    "scrolled": false
   },
   "outputs": [],
   "source": [
    "Julia[7:end]"
   ]
  },
  {
   "cell_type": "markdown",
   "metadata": {},
   "source": [
    "Para \"fatiar\" uma string em  substrings, use a função `split()`."
   ]
  },
  {
   "cell_type": "code",
   "execution_count": null,
   "metadata": {
    "collapsed": true
   },
   "outputs": [],
   "source": [
    "split(Julia)"
   ]
  },
  {
   "cell_type": "code",
   "execution_count": 1,
   "metadata": {
    "collapsed": false
   },
   "outputs": [
    {
     "data": {
      "text/plain": [
       "\"∀ x ∃ y\""
      ]
     },
     "execution_count": 1,
     "metadata": {},
     "output_type": "execute_result"
    }
   ],
   "source": [
    "\"\\u2200 x \\u2203 y\""
   ]
  },
  {
   "cell_type": "code",
   "execution_count": 3,
   "metadata": {
    "collapsed": false
   },
   "outputs": [
    {
     "data": {
      "text/plain": [
       "\"☂\""
      ]
     },
     "execution_count": 3,
     "metadata": {},
     "output_type": "execute_result"
    }
   ],
   "source": [
    "\"\\u2602\""
   ]
  },
  {
   "cell_type": "code",
   "execution_count": 2,
   "metadata": {
    "collapsed": false
   },
   "outputs": [
    {
     "data": {
      "text/plain": [
       "1-element Base.CodeUnits{UInt8,String}:\n",
       " 0xff"
      ]
     },
     "execution_count": 2,
     "metadata": {},
     "output_type": "execute_result"
    }
   ],
   "source": [
    "b\"\\xff\""
   ]
  },
  {
   "cell_type": "markdown",
   "metadata": {},
   "source": [
    "** Convertendo uma string em uma expressão matemática **"
   ]
  },
  {
   "cell_type": "code",
   "execution_count": null,
   "metadata": {
    "collapsed": true
   },
   "outputs": [],
   "source": [
    "string_formula = \"x^2 + 1\"\n",
    "y = Meta.parse(string_formula)"
   ]
  },
  {
   "cell_type": "code",
   "execution_count": null,
   "metadata": {
    "collapsed": true,
    "scrolled": false
   },
   "outputs": [],
   "source": [
    "typeof(y)"
   ]
  },
  {
   "cell_type": "code",
   "execution_count": null,
   "metadata": {
    "collapsed": true,
    "scrolled": false
   },
   "outputs": [],
   "source": [
    "x = 0\n",
    "eval(y)"
   ]
  },
  {
   "cell_type": "markdown",
   "metadata": {},
   "source": [
    "** Pesquisar em Strings**\n",
    "\n",
    "A função `findfirst()` pesquisa pela primeira ocorrencia de um termo em uma sequencia de caracteres e se encontrar o termo pesquisado retorma o intervalo de posições. Sintaxe:\n",
    "```julia\n",
    "findfirst(string, termo_pesquisado)\n",
    "```"
   ]
  },
  {
   "cell_type": "code",
   "execution_count": 20,
   "metadata": {
    "collapsed": false,
    "scrolled": false
   },
   "outputs": [
    {
     "data": {
      "text/plain": [
       "\" O resultado retornou os erros: LimOFF, MEMOFF, 01F, 51F\""
      ]
     },
     "execution_count": 20,
     "metadata": {},
     "output_type": "execute_result"
    }
   ],
   "source": [
    "Texto = \" O resultado retornou os erros: LimOFF, MEMOFF, 01F, 51F\""
   ]
  },
  {
   "cell_type": "code",
   "execution_count": 22,
   "metadata": {
    "collapsed": false
   },
   "outputs": [
    {
     "data": {
      "text/plain": [
       "26:30"
      ]
     },
     "execution_count": 22,
     "metadata": {},
     "output_type": "execute_result"
    }
   ],
   "source": [
    "er = findfirst(\"erros\", Texto)"
   ]
  },
  {
   "cell_type": "code",
   "execution_count": 23,
   "metadata": {
    "collapsed": false,
    "scrolled": false
   },
   "outputs": [
    {
     "data": {
      "text/plain": [
       "\"erros\""
      ]
     },
     "execution_count": 23,
     "metadata": {},
     "output_type": "execute_result"
    }
   ],
   "source": [
    "Texto[er]"
   ]
  },
  {
   "cell_type": "markdown",
   "metadata": {},
   "source": [
    "Se o objetivo é apenas encontrar determinado string, use a função `occursin()`."
   ]
  },
  {
   "cell_type": "code",
   "execution_count": 25,
   "metadata": {
    "collapsed": false,
    "scrolled": true
   },
   "outputs": [
    {
     "data": {
      "text/plain": [
       "true"
      ]
     },
     "execution_count": 25,
     "metadata": {},
     "output_type": "execute_result"
    }
   ],
   "source": [
    "occursin(\"erros\", Texto)"
   ]
  },
  {
   "cell_type": "markdown",
   "metadata": {},
   "source": [
    "**Substituição de String**"
   ]
  },
  {
   "cell_type": "code",
   "execution_count": 24,
   "metadata": {
    "collapsed": false,
    "scrolled": true
   },
   "outputs": [
    {
     "data": {
      "text/plain": [
       "\" O resultado retornou os erros: 01F, MEMOFF, 01F, 51F\""
      ]
     },
     "execution_count": 24,
     "metadata": {},
     "output_type": "execute_result"
    }
   ],
   "source": [
    "# Substituição de string\n",
    "Texto = replace(Texto, \"LimOFF\" => \"01F\")"
   ]
  },
  {
   "cell_type": "markdown",
   "metadata": {},
   "source": [
    "**Caixa alta e caixa baixa**"
   ]
  },
  {
   "cell_type": "code",
   "execution_count": 28,
   "metadata": {
    "collapsed": false
   },
   "outputs": [
    {
     "data": {
      "text/plain": [
       "\" O RESULTADO RETORNOU OS ERROS: 01F, MEMOFF, 01F, 51F\""
      ]
     },
     "execution_count": 28,
     "metadata": {},
     "output_type": "execute_result"
    }
   ],
   "source": [
    "uppercase(Texto)"
   ]
  },
  {
   "cell_type": "code",
   "execution_count": 29,
   "metadata": {
    "collapsed": false,
    "scrolled": true
   },
   "outputs": [
    {
     "data": {
      "text/plain": [
       "\" o resultado retornou os erros: 01f, memoff, 01f, 51f\""
      ]
     },
     "execution_count": 29,
     "metadata": {},
     "output_type": "execute_result"
    }
   ],
   "source": [
    "lowercase(Texto)"
   ]
  },
  {
   "cell_type": "markdown",
   "metadata": {},
   "source": [
    "**String aleatória**"
   ]
  },
  {
   "cell_type": "markdown",
   "metadata": {},
   "source": [
    "Creating a random string is as important while testing the code as creating a single or set\n",
    "of random numbers. This can be accomplished by the built-in function randstring() as\n",
    "follows:\n",
    ". Sintaxe:\n",
    "```julia\n",
    "randstring(n)\n",
    "```\n",
    "Sendo:\n",
    "* **n**: número de caracteres."
   ]
  },
  {
   "cell_type": "code",
   "execution_count": 30,
   "metadata": {
    "collapsed": true
   },
   "outputs": [],
   "source": [
    "using Random"
   ]
  },
  {
   "cell_type": "code",
   "execution_count": 31,
   "metadata": {
    "collapsed": false,
    "scrolled": true
   },
   "outputs": [
    {
     "data": {
      "text/plain": [
       "\"zLfdd5THGfAkldw0ISOb\""
      ]
     },
     "execution_count": 31,
     "metadata": {},
     "output_type": "execute_result"
    }
   ],
   "source": [
    "randstring(20)"
   ]
  },
  {
   "cell_type": "code",
   "execution_count": 32,
   "metadata": {
    "collapsed": false,
    "scrolled": true
   },
   "outputs": [
    {
     "ename": "UndefVarError",
     "evalue": "UndefVarError: readdlm not defined",
     "output_type": "error",
     "traceback": [
      "UndefVarError: readdlm not defined",
      "",
      "Stacktrace:",
      " [1] top-level scope at In[32]:1"
     ]
    }
   ],
   "source": [
    "readdlm(Texto)"
   ]
  },
  {
   "cell_type": "markdown",
   "metadata": {},
   "source": [
    "**Interpolação de String**"
   ]
  },
  {
   "cell_type": "code",
   "execution_count": 33,
   "metadata": {
    "collapsed": false
   },
   "outputs": [
    {
     "data": {
      "text/plain": [
       "42"
      ]
     },
     "execution_count": 33,
     "metadata": {},
     "output_type": "execute_result"
    }
   ],
   "source": [
    "x = 42"
   ]
  },
  {
   "cell_type": "code",
   "execution_count": 34,
   "metadata": {
    "collapsed": false,
    "scrolled": true
   },
   "outputs": [
    {
     "data": {
      "text/plain": [
       "\"O valor de x é 42.\""
      ]
     },
     "execution_count": 34,
     "metadata": {},
     "output_type": "execute_result"
    }
   ],
   "source": [
    "\"O valor de x é $x.\""
   ]
  },
  {
   "cell_type": "code",
   "execution_count": 35,
   "metadata": {
    "collapsed": false
   },
   "outputs": [
    {
     "data": {
      "text/plain": [
       "\"O valor da expressão sind(42)^2 + cosd(42)^2  é 1.0.\""
      ]
     },
     "execution_count": 35,
     "metadata": {},
     "output_type": "execute_result"
    }
   ],
   "source": [
    "\"O valor da expressão sind($x)^2 + cosd($x)^2  é $(sind(x)^2 + cosd(x)^2).\""
   ]
  },
  {
   "cell_type": "markdown",
   "metadata": {},
   "source": [
    "## CONVERSÃO DE TIPOS"
   ]
  },
  {
   "cell_type": "markdown",
   "metadata": {},
   "source": [
    "<div style=\"text-align: justify;\">Tabela de Tipos<br>\n",
    "</div>\n",
    "<table style=\"text-align: left; width: 271px; height: 304px;\" border=\"1\"\n",
    "cellpadding=\"2\" cellspacing=\"2\">\n",
    "<tbody>\n",
    "<tr>\n",
    "<td style=\"vertical-align: top;\">a<br>\n",
    "</td>\n",
    "<td style=\"vertical-align: top;\">a<br>\n",
    "</td>\n",
    "</tr>\n",
    "<tr>\n",
    "<td style=\"vertical-align: top;\">a<br>\n",
    "</td>\n",
    "<td style=\"vertical-align: top;\">a<br>\n",
    "</td>\n",
    "</tr>\n",
    "<tr>\n",
    "<td style=\"vertical-align: top;\">a<br>\n",
    "</td>\n",
    "<td style=\"vertical-align: top;\">a<br>\n",
    "</td>\n",
    "</tr>\n",
    "<tr>\n",
    "<td style=\"vertical-align: top;\">a<br>\n",
    "</td>\n",
    "<td style=\"vertical-align: top;\">a<br>\n",
    "</td>\n",
    "</tr>\n",
    "<tr>\n",
    "<td style=\"vertical-align: top;\">a<br>\n",
    "</td>\n",
    "<td style=\"vertical-align: top;\">a<br>\n",
    "</td>\n",
    "</tr>\n",
    "<tr>\n",
    "<td style=\"vertical-align: top;\">a<br>\n",
    "</td>\n",
    "<td style=\"vertical-align: top;\">a<br>\n",
    "</td>\n",
    "</tr>\n",
    "<tr>\n",
    "<td style=\"vertical-align: top;\">a<br>\n",
    "</td>\n",
    "<td style=\"vertical-align: top;\">a<br>\n",
    "</td>\n",
    "</tr>\n",
    "<tr>\n",
    "<td style=\"vertical-align: top;\">a<br>\n",
    "</td>\n",
    "<td style=\"vertical-align: top;\">a<br>\n",
    "</td>\n",
    "</tr>\n",
    "<tr>\n",
    "<td style=\"vertical-align: top;\">a<br>\n",
    "</td>\n",
    "<td style=\"vertical-align: top;\">a<br>\n",
    "</td>\n",
    "</tr>\n",
    "</tbody>\n",
    "</table>"
   ]
  },
  {
   "cell_type": "code",
   "execution_count": 36,
   "metadata": {
    "collapsed": false,
    "scrolled": true
   },
   "outputs": [
    {
     "data": {
      "text/plain": [
       "(8, 8.0, 1//8)"
      ]
     },
     "execution_count": 36,
     "metadata": {},
     "output_type": "execute_result"
    }
   ],
   "source": [
    "a = 8\n",
    "b = 8.0\n",
    "c = 1//8\n",
    "\n",
    "a, b, c"
   ]
  },
  {
   "cell_type": "code",
   "execution_count": 37,
   "metadata": {
    "collapsed": false
   },
   "outputs": [
    {
     "data": {
      "text/plain": [
       "(Int64, Float64, Rational{Int64})"
      ]
     },
     "execution_count": 37,
     "metadata": {},
     "output_type": "execute_result"
    }
   ],
   "source": [
    "typeof(a), typeof(b), typeof(c)"
   ]
  },
  {
   "cell_type": "code",
   "execution_count": 38,
   "metadata": {
    "collapsed": false,
    "scrolled": false
   },
   "outputs": [
    {
     "data": {
      "text/plain": [
       "(8.0, 8, \"1//8\")"
      ]
     },
     "execution_count": 38,
     "metadata": {},
     "output_type": "execute_result"
    }
   ],
   "source": [
    "d = Float64(a); e = convert(Int,b); f = string(c)\n",
    "d , e, f"
   ]
  },
  {
   "cell_type": "code",
   "execution_count": 39,
   "metadata": {
    "collapsed": false,
    "scrolled": true
   },
   "outputs": [
    {
     "data": {
      "text/plain": [
       "(Float64, Int64, String)"
      ]
     },
     "execution_count": 39,
     "metadata": {},
     "output_type": "execute_result"
    }
   ],
   "source": [
    "typeof(d), typeof(e), typeof(f)"
   ]
  },
  {
   "cell_type": "markdown",
   "metadata": {},
   "source": [
    "## TUPLA\n",
    "\n",
    "Tupla é uma sequência ordenada de elementos entre pararênteses semelhante a um vetor. A principal diferença entre arrays e tuplas é que tuplas são **imutáveis** ou seja, uma vez definido os elementos não é possível modificar o valor ou tipo do conteúdo. Tuplas são utilizadas quando é necessário representar dados que não devem ser modificados, pois dessa forma é garantido a integridade dos dados e assegurando que até o programador ou um bug não consigam modificar sua estrutura. Na linguagem `Julia` as tuplas são utilizadas com muita frequencia para expressar listas de argumentos e para retornar múltiplos valores de funções. Sintaxe:\n",
    "```julia\n",
    "(elemento_1, elemento_2, ..., elemento_n)\n",
    "```\n",
    "E o tipo pode ser inteiro, float, complex e outros."
   ]
  },
  {
   "cell_type": "markdown",
   "metadata": {},
   "source": [
    "**Criando tuplas**"
   ]
  },
  {
   "cell_type": "code",
   "execution_count": 44,
   "metadata": {
    "collapsed": true,
    "scrolled": false
   },
   "outputs": [],
   "source": [
    "t1 = (1, 2, \"3\") ; t2 = (5, 8, 9.0);"
   ]
  },
  {
   "cell_type": "code",
   "execution_count": 45,
   "metadata": {
    "collapsed": false
   },
   "outputs": [
    {
     "data": {
      "text/plain": [
       "(Tuple{Int64,Int64,String}, Tuple{Int64,Int64,Float64})"
      ]
     },
     "execution_count": 45,
     "metadata": {},
     "output_type": "execute_result"
    }
   ],
   "source": [
    "# verificando o tipo\n",
    "typeof(t1), typeof(t2)"
   ]
  },
  {
   "cell_type": "code",
   "execution_count": 46,
   "metadata": {
    "collapsed": false,
    "scrolled": false
   },
   "outputs": [
    {
     "data": {
      "text/plain": [
       "2"
      ]
     },
     "execution_count": 46,
     "metadata": {},
     "output_type": "execute_result"
    }
   ],
   "source": [
    "# acessando o segundo elemeto da tupla \"t1\"\n",
    "t1[2]"
   ]
  },
  {
   "cell_type": "markdown",
   "metadata": {},
   "source": [
    "**Modificando uma Tupla**\n",
    "\n",
    "Tuplas são imutáveis, não permitem alteração dos valores ou tipo. Para modificar uma tupla é necessário utilizar uma variável auxilar para receber os novos dados e depois reatribuir à variável da tupla."
   ]
  },
  {
   "cell_type": "code",
   "execution_count": 48,
   "metadata": {
    "collapsed": false,
    "scrolled": true
   },
   "outputs": [
    {
     "ename": "MethodError",
     "evalue": "MethodError: no method matching setindex!(::Tuple{Int64,Int64,String}, ::Float64, ::Int64)",
     "output_type": "error",
     "traceback": [
      "MethodError: no method matching setindex!(::Tuple{Int64,Int64,String}, ::Float64, ::Int64)",
      "",
      "Stacktrace:",
      " [1] top-level scope at In[48]:1"
     ]
    }
   ],
   "source": [
    "# tentativa de alterar valor do segundo elemento da tupla t1\n",
    "t1[2] = 0.0"
   ]
  },
  {
   "cell_type": "markdown",
   "metadata": {},
   "source": [
    "Exemplo: redefinir todos os elementos da tupla T1 como string através do comando `string.(t1)`."
   ]
  },
  {
   "cell_type": "code",
   "execution_count": 49,
   "metadata": {
    "collapsed": false,
    "scrolled": true
   },
   "outputs": [
    {
     "data": {
      "text/plain": [
       "(\"1\", \"2\", \"3\")"
      ]
     },
     "execution_count": 49,
     "metadata": {},
     "output_type": "execute_result"
    }
   ],
   "source": [
    "t3 = string.(t1)\n",
    "\n",
    "# reatribuir à variável T1 o conteúdo da variável T3\n",
    "t1 = t3"
   ]
  },
  {
   "cell_type": "markdown",
   "metadata": {},
   "source": [
    "**Adicionando novos elementos a uma tupla**\n",
    "\n",
    "Para adicionar elementos a uma tupla $t$ já criada, devemos criar uma tupla auxilar contendo os novos elementos e os elementos da tupla $t$."
   ]
  },
  {
   "cell_type": "code",
   "execution_count": 50,
   "metadata": {
    "collapsed": false,
    "scrolled": true
   },
   "outputs": [
    {
     "data": {
      "text/plain": [
       "(\"bola\", 20, \"1\", \"2\", \"3\")"
      ]
     },
     "execution_count": 50,
     "metadata": {},
     "output_type": "execute_result"
    }
   ],
   "source": [
    "t3 = tuple((\"bola\", 20)...,t1...)\n",
    "\n",
    "t1 = t3"
   ]
  },
  {
   "cell_type": "markdown",
   "metadata": {},
   "source": [
    "**Tuplas Nomeadas**"
   ]
  },
  {
   "cell_type": "code",
   "execution_count": 59,
   "metadata": {
    "collapsed": false,
    "scrolled": true
   },
   "outputs": [
    {
     "data": {
      "text/plain": [
       "(1 => \"bola\", 2 => \"raquete\")"
      ]
     },
     "execution_count": 59,
     "metadata": {},
     "output_type": "execute_result"
    }
   ],
   "source": [
    "t4 = (1=>\"bola\", 2=>\"raquete\")"
   ]
  },
  {
   "cell_type": "code",
   "execution_count": 63,
   "metadata": {
    "collapsed": false
   },
   "outputs": [
    {
     "data": {
      "text/plain": [
       "\"raquete\""
      ]
     },
     "execution_count": 63,
     "metadata": {},
     "output_type": "execute_result"
    }
   ],
   "source": [
    "t4[2].second"
   ]
  },
  {
   "cell_type": "markdown",
   "metadata": {},
   "source": [
    "** Coisas para fazer com tuplas**"
   ]
  },
  {
   "cell_type": "code",
   "execution_count": 58,
   "metadata": {
    "collapsed": false
   },
   "outputs": [
    {
     "data": {
      "text/plain": [
       "(12, 40)"
      ]
     },
     "execution_count": 58,
     "metadata": {},
     "output_type": "execute_result"
    }
   ],
   "source": [
    "+(1, 2, 4, 5), *(1, 2, 4, 5)"
   ]
  },
  {
   "cell_type": "markdown",
   "metadata": {},
   "source": [
    "## ARRAY, LISTAS, VETORES E MATRIZES PARTE I"
   ]
  },
  {
   "cell_type": "markdown",
   "metadata": {},
   "source": [
    "Um `array` é uma coleção ordenada de elementos da seguinte forma:\n",
    "```julia\n",
    "quantidade_elementos Array{Tipo,dimensão}\n",
    "```\n",
    "Na linguagem `Julia`, os arrays são usados para listas, vetores, tabelas e matrizes. Um `array` unidimensional atua como um vector ou uma lista. Uma `array` bidimensional pode ser utilizada como uma tabela ou matriz."
   ]
  },
  {
   "cell_type": "markdown",
   "metadata": {},
   "source": [
    "### ARRAY UNIDIMENSIONAL : VETORES"
   ]
  },
  {
   "cell_type": "markdown",
   "metadata": {},
   "source": [
    "#### CRIAÇÃO DE VETORES E ACESSO A DADOS EM UM VETOR"
   ]
  },
  {
   "cell_type": "markdown",
   "metadata": {},
   "source": [
    "Vetor vazio:"
   ]
  },
  {
   "cell_type": "code",
   "execution_count": null,
   "metadata": {
    "collapsed": true
   },
   "outputs": [],
   "source": [
    "v_vaz = []"
   ]
  },
  {
   "cell_type": "markdown",
   "metadata": {},
   "source": [
    "Vetor coluna:"
   ]
  },
  {
   "cell_type": "code",
   "execution_count": null,
   "metadata": {
    "collapsed": true,
    "scrolled": true
   },
   "outputs": [],
   "source": [
    "v_col1 = [1, 2, 3, 4, 5, 6, 7]\n",
    "\n",
    "# ou \n",
    "v_col2 = [\"a\";\"b\";\"c\";\"d\";\"e\"]\n",
    "\n",
    "display(v_col1)\n",
    "display(v_col2)"
   ]
  },
  {
   "cell_type": "markdown",
   "metadata": {},
   "source": [
    "Vetor Linha. Vetores linha são bidimensionais `Array{Tipo_dado,2}`.\n"
   ]
  },
  {
   "cell_type": "code",
   "execution_count": null,
   "metadata": {
    "collapsed": true
   },
   "outputs": [],
   "source": [
    "v_lin1 = [1 2 3 4 5]"
   ]
  },
  {
   "cell_type": "code",
   "execution_count": null,
   "metadata": {
    "collapsed": true,
    "scrolled": true
   },
   "outputs": [],
   "source": [
    "# dimensoes do vetor\n",
    "@show ndims(v_vaz)\n",
    "@show ndims(v_col1)\n",
    "@show ndims(v_col2) \n",
    "@show ndims(v_lin1)"
   ]
  },
  {
   "cell_type": "markdown",
   "metadata": {},
   "source": [
    "Comprimento de um vetor:"
   ]
  },
  {
   "cell_type": "code",
   "execution_count": null,
   "metadata": {
    "collapsed": true
   },
   "outputs": [],
   "source": [
    "length(v_vaz), length(v_col1) , length(v_col2), length(v_lin1)"
   ]
  },
  {
   "cell_type": "markdown",
   "metadata": {},
   "source": [
    "Transforma um vetor linha em um vetor unidimensional:"
   ]
  },
  {
   "cell_type": "code",
   "execution_count": null,
   "metadata": {
    "collapsed": true
   },
   "outputs": [],
   "source": [
    "v_tr = vec(v_lin1)"
   ]
  },
  {
   "cell_type": "code",
   "execution_count": null,
   "metadata": {
    "collapsed": true,
    "scrolled": true
   },
   "outputs": [],
   "source": [
    "# tipo do vetor e tipo dos elementos do vetor\n",
    "# array (vetor b) de 2 dimensões e agora vetor de 1 dimensão (vetor bb)\n",
    "\n",
    "println(\"vetor col 1: $(typeof(v_col1)), $( eltype(v_col1))\")\n",
    "println(\"vetor transf: $(typeof(v_tr)) , $(eltype(v_tr))\")"
   ]
  },
  {
   "cell_type": "markdown",
   "metadata": {},
   "source": [
    "Para acessar vetores, utilize a sintaxe:\n",
    "```julia\n",
    "vetor[índice_elemento]\n",
    "```"
   ]
  },
  {
   "cell_type": "code",
   "execution_count": null,
   "metadata": {
    "collapsed": true,
    "scrolled": true
   },
   "outputs": [],
   "source": [
    "v_col1[1] , v_col2[2] , v_lin1[3]"
   ]
  },
  {
   "cell_type": "markdown",
   "metadata": {},
   "source": [
    "Uma variável do tipo Strings também permite acessar elementos do semelhante a um vetor. Devemos lembrar que um espaço em branco também é um elemento."
   ]
  },
  {
   "cell_type": "markdown",
   "metadata": {},
   "source": [
    "#### VETOR ANINHADO\n",
    "\n",
    "Vetores aninhados são na verdade listas que possuem estuturas de dados como elementos. Estas estruturas podem ser: outros vetores, matrizes, tuplas, dicionários e outros que a linguagem permitir. A principal vantagem é a organização das informações e acesso rápido. Sintaxe:\n",
    "```julia\n",
    "vetor_aninhado[posição_estrutura_interna][posição_elemento_estrutura]\n",
    "```"
   ]
  },
  {
   "cell_type": "code",
   "execution_count": null,
   "metadata": {
    "collapsed": true,
    "scrolled": true
   },
   "outputs": [],
   "source": [
    "van = [(\"Elementos\", \"Tabela1\"), [\"Calcio\", 20] , [\"Sodio\", 11] , [\"Potassio\", 19]]"
   ]
  },
  {
   "cell_type": "markdown",
   "metadata": {},
   "source": [
    "Acessar o elemento (vetor) de posição 4 do vetor \"van\" :"
   ]
  },
  {
   "cell_type": "code",
   "execution_count": null,
   "metadata": {
    "collapsed": true
   },
   "outputs": [],
   "source": [
    "van[4]"
   ]
  },
  {
   "cell_type": "markdown",
   "metadata": {},
   "source": [
    "Acessar o elemento (vetor) de posição 4 do vetor \"van\" e acessar o elemento de posição 2 de [\"Potassio\", 19]:"
   ]
  },
  {
   "cell_type": "code",
   "execution_count": null,
   "metadata": {
    "collapsed": true,
    "scrolled": true
   },
   "outputs": [],
   "source": [
    "van[4][2] "
   ]
  },
  {
   "cell_type": "markdown",
   "metadata": {},
   "source": [
    "Acessar a tupla de posição 1 e elemento 1:"
   ]
  },
  {
   "cell_type": "code",
   "execution_count": null,
   "metadata": {
    "collapsed": true
   },
   "outputs": [],
   "source": [
    "van[1][1]"
   ]
  },
  {
   "cell_type": "markdown",
   "metadata": {},
   "source": [
    "#### MANIPULAÇÃO DE VETORES/ARRAYS\n",
    "\n",
    "Muitos dos comandos abaixo não funcionam para vetores linha."
   ]
  },
  {
   "cell_type": "code",
   "execution_count": null,
   "metadata": {
    "collapsed": true,
    "scrolled": true
   },
   "outputs": [],
   "source": [
    "a = [1, 2, 3]"
   ]
  },
  {
   "cell_type": "markdown",
   "metadata": {},
   "source": [
    "Quantidade de elementos de um vetor ou tamanho do vetor:"
   ]
  },
  {
   "cell_type": "code",
   "execution_count": null,
   "metadata": {
    "collapsed": true,
    "scrolled": true
   },
   "outputs": [],
   "source": [
    "length(a)"
   ]
  },
  {
   "cell_type": "markdown",
   "metadata": {},
   "source": [
    "Adicionando o elemento $10$ ao final do vetor:"
   ]
  },
  {
   "cell_type": "code",
   "execution_count": null,
   "metadata": {
    "collapsed": true,
    "scrolled": true
   },
   "outputs": [],
   "source": [
    "append!(a,[10])"
   ]
  },
  {
   "cell_type": "markdown",
   "metadata": {},
   "source": [
    "Adicionando os elementos $-2, -4, 500, 100~$ ao final do vetor:"
   ]
  },
  {
   "cell_type": "code",
   "execution_count": null,
   "metadata": {
    "collapsed": true,
    "scrolled": true
   },
   "outputs": [],
   "source": [
    "append!(a,[-2,-4,500,100])"
   ]
  },
  {
   "cell_type": "markdown",
   "metadata": {},
   "source": [
    "Para adicionar um elemento em uma posição específica, use a função `insert()`. Sintaxe:\n",
    "```julia\n",
    "insert!(vetor, posição, elemento)\n",
    "```\n",
    "Exemplo: adicionar o elemento inteiro 55 na posição 2."
   ]
  },
  {
   "cell_type": "code",
   "execution_count": null,
   "metadata": {
    "collapsed": true,
    "scrolled": false
   },
   "outputs": [],
   "source": [
    "insert!(a, 2, 55)"
   ]
  },
  {
   "cell_type": "markdown",
   "metadata": {},
   "source": [
    "Para adicionar elementos no início do vetor use a função `prepend()`. Sintaxe:\n",
    "```julia\n",
    "prepend(vetor, elementos)\n",
    "```\n",
    "Exemplo: adicionar os elementos inteiros 77 e 88  no início do vetor \"a\"."
   ]
  },
  {
   "cell_type": "code",
   "execution_count": null,
   "metadata": {
    "collapsed": true,
    "scrolled": true
   },
   "outputs": [],
   "source": [
    "prepend!(a, [77, 88])"
   ]
  },
  {
   "cell_type": "markdown",
   "metadata": {},
   "source": [
    "Para retirar elemento do final do vetor use a função `pop()`. Sintaxe:\n",
    "```julia\n",
    "pop!(vetor)\n",
    "```"
   ]
  },
  {
   "cell_type": "code",
   "execution_count": null,
   "metadata": {
    "collapsed": true,
    "scrolled": false
   },
   "outputs": [],
   "source": [
    "pop!(a), a"
   ]
  },
  {
   "cell_type": "markdown",
   "metadata": {},
   "source": [
    "Para retirar elemento do início do vetor use a função `popfirst!()`. Sintaxe:\n",
    "```julia\n",
    "popfirst!(vetor)\n",
    "```"
   ]
  },
  {
   "cell_type": "code",
   "execution_count": null,
   "metadata": {
    "collapsed": true,
    "scrolled": true
   },
   "outputs": [],
   "source": [
    "popfirst!(a), a"
   ]
  },
  {
   "cell_type": "markdown",
   "metadata": {},
   "source": [
    "Para retirar elemento de uma posição específica use a função `deleteat!()`. Sintaxe:\n",
    "```julia\n",
    "deleteat!(vetor, posição)\n",
    "```"
   ]
  },
  {
   "cell_type": "code",
   "execution_count": null,
   "metadata": {
    "collapsed": true,
    "scrolled": true
   },
   "outputs": [],
   "source": [
    "deleteat!(a, 3)"
   ]
  },
  {
   "cell_type": "markdown",
   "metadata": {},
   "source": [
    "Para retirar um vetor de elementos de um vetor é necessário conhecer as posições dos elementos a serem retirados, para isto utilizamos a função `findin()` e depois aplicamos o resultado à função `deleteat!()`. Outra opção é utilizar a função `filter!()`. \n",
    "\n",
    "Exemplo: retirar os elementos $1,3,-4$."
   ]
  },
  {
   "cell_type": "code",
   "execution_count": null,
   "metadata": {
    "collapsed": true,
    "scrolled": true
   },
   "outputs": [],
   "source": [
    "findall((in)([1, 3, -4]), a)"
   ]
  },
  {
   "cell_type": "code",
   "execution_count": null,
   "metadata": {
    "collapsed": true,
    "scrolled": true
   },
   "outputs": [],
   "source": [
    "deleteat!(a, findall((in)([1, 3, -4]), a))  "
   ]
  },
  {
   "cell_type": "markdown",
   "metadata": {},
   "source": [
    "Para limpar um vetor use:"
   ]
  },
  {
   "cell_type": "code",
   "execution_count": null,
   "metadata": {
    "collapsed": true
   },
   "outputs": [],
   "source": [
    "empty!(a)"
   ]
  },
  {
   "cell_type": "markdown",
   "metadata": {},
   "source": [
    "#### VETOR DE DADOS ALEATÓRIOS\n",
    "\n",
    "As funções `rand(), randexp() e randn()` permitem criar vetores de dados aleatórios. O módulo Base atualmente fornece uma implementação para os tipos Float16, Float32 e Float64 (o padrão). Vejamos alguns:\n",
    "\n",
    "* Para criar um vetor de dados aleatórios entre 0 e 1:\n",
    "\n",
    "```julia \n",
    "    rand(número_de elementos)\n",
    "\n",
    "``` \n",
    "* Para criar um vetor de dados aleatórios com os dados do vetor ` a:b `:\n",
    "\n",
    "```julia \n",
    "    rand(a : b, número_de_elementos) \n",
    "\n",
    "```\n",
    "* Para criar um vetor de dados aleatórios de acordo com a distribuição exponencial com escala 1:\n",
    "\n",
    "```julia \n",
    "    randexp(número_de_elementos) \n",
    "```\n",
    "* Para criar um vetor de dados aleatórios normalmente distribuído com média 0 e desvio padrão 1: \n",
    "\n",
    "```julia \n",
    "    randn(número_de_elementos)\n",
    "```\n",
    "* Para criar um vetor de dados na forma de uma permutação cíclica aleatória de comprimento n:\n",
    "\n",
    "```julia \n",
    "    randcycle(número_de_elementos)\n",
    "```\n",
    "* Para criar um vetor de string ASCII aleatório de comprimento `l`, consistindo de letras maiúsculas e minúsculas e os dígitos de 0 a 9:\n",
    "\n",
    "```julia \n",
    "    randstring(número_elementos_linha, número_elementos_coluna)\n",
    "\n",
    "```"
   ]
  },
  {
   "cell_type": "code",
   "execution_count": null,
   "metadata": {
    "collapsed": true
   },
   "outputs": [],
   "source": [
    "using Random"
   ]
  },
  {
   "cell_type": "code",
   "execution_count": null,
   "metadata": {
    "collapsed": true,
    "scrolled": false
   },
   "outputs": [],
   "source": [
    "# vetor aleatório float64\n",
    "va = rand(3)"
   ]
  },
  {
   "cell_type": "code",
   "execution_count": null,
   "metadata": {
    "collapsed": true
   },
   "outputs": [],
   "source": [
    "vb = randcycle(5)"
   ]
  },
  {
   "cell_type": "markdown",
   "metadata": {},
   "source": [
    "**CUIDADO COM OS TIPOS!** Há uma diferença considerável em relação ao tipo de dado do vetor que pode ser definido através do valor declarado. Observe o exemplo abaixo:"
   ]
  },
  {
   "cell_type": "code",
   "execution_count": null,
   "metadata": {
    "collapsed": true
   },
   "outputs": [],
   "source": [
    "v0 = [3, 4]     # vetor unidimensional do tipo float\n",
    "v1 = [3.0, 4]   # vetor bidimensional do tipo float\n",
    "\n",
    "println(\"Vetor:$(v0) e Tipo:$(typeof(v0))\")\n",
    "println(\"Vetor:$(v1) e Tipo:$(typeof(v1))\")"
   ]
  },
  {
   "cell_type": "code",
   "execution_count": null,
   "metadata": {
    "collapsed": true,
    "scrolled": true
   },
   "outputs": [],
   "source": [
    "# vetor de tipo inteiro 8 bit com dados gerados aleatoriamente\n",
    "b = rand(Int8, 3)"
   ]
  },
  {
   "cell_type": "code",
   "execution_count": null,
   "metadata": {
    "collapsed": true
   },
   "outputs": [],
   "source": [
    "# acessar o elemento de posição 2\n",
    "b[2]"
   ]
  },
  {
   "cell_type": "code",
   "execution_count": null,
   "metadata": {
    "collapsed": true
   },
   "outputs": [],
   "source": [
    "# dimensoes do vetor\n",
    "ndims(b)"
   ]
  },
  {
   "cell_type": "code",
   "execution_count": null,
   "metadata": {
    "collapsed": true
   },
   "outputs": [],
   "source": [
    "# quantidade de elementos de um vetor ou tamanho do vetor\n",
    "length(b)"
   ]
  },
  {
   "cell_type": "markdown",
   "metadata": {},
   "source": [
    "Informação sobre o tipo do vetor e tipo dos elementos"
   ]
  },
  {
   "cell_type": "markdown",
   "metadata": {},
   "source": [
    "#### CRIANDO VETORES DE ZEROS E UNS"
   ]
  },
  {
   "cell_type": "code",
   "execution_count": null,
   "metadata": {
    "collapsed": true,
    "scrolled": true
   },
   "outputs": [],
   "source": [
    "# vetor de zeros\n",
    "d = zeros(3)"
   ]
  },
  {
   "cell_type": "code",
   "execution_count": null,
   "metadata": {
    "collapsed": true,
    "scrolled": false
   },
   "outputs": [],
   "source": [
    "# vetor de uns\n",
    "e = ones(3)"
   ]
  },
  {
   "cell_type": "markdown",
   "metadata": {},
   "source": [
    "**CUIDADO COM OS TIPOS!** Há uma diferença considerável em relação ao tipo de dado do vetor, pode ser definido através do valor declarado. Observe o exemplo abaixo:"
   ]
  },
  {
   "cell_type": "code",
   "execution_count": null,
   "metadata": {
    "collapsed": true,
    "scrolled": true
   },
   "outputs": [],
   "source": [
    "e0 = ones(3)       # vetor unidimensional de 3 elementos do tipo float\n",
    "e1 = ones(3,1)     # vetor bidimensional  de 3 elementos do tipo float\n",
    "e2 = fill(1:3)     # vetor unidimensional de 3 elementos do tipo inteiro\n",
    "e3 = fill(1.0:3.0) # vetor unidimensional de 3 elementos do tipo float\n",
    "\n",
    "println(\"Vetor:$(e0) e Tipo:$(typeof(e0))\")\n",
    "println(\"Vetor:$(e1) e Tipo:$(typeof(e1))\")\n",
    "println(\"Vetor:$(e2) e Tipo:$(typeof(e2))\")\n",
    "println(\"Vetor:$(e3) e Tipo:$(typeof(e3))\")"
   ]
  },
  {
   "cell_type": "markdown",
   "metadata": {},
   "source": [
    "#### ACESSOS ESPECIAIS"
   ]
  },
  {
   "cell_type": "code",
   "execution_count": null,
   "metadata": {
    "collapsed": true
   },
   "outputs": [],
   "source": [
    "v = [0, 3, 6, 9, 12, 100, 105, 108, 109, 110, 111, 112, 113, 114, 115]\n",
    "u = [\"a\" \"b\" \"c\" \"d\" \"e\" \"f\" \"g\" \"h\" \"i\" \"j\" \"l\" \"m\" \"n\" \"o\" \"p\"];"
   ]
  },
  {
   "cell_type": "code",
   "execution_count": null,
   "metadata": {
    "collapsed": true
   },
   "outputs": [],
   "source": [
    "# imprime os elementos a partir do elemento 1 até o ultimo (end) de 2 em 2 \n",
    "v[1:2:end] , u[1:2:end] "
   ]
  },
  {
   "cell_type": "code",
   "execution_count": null,
   "metadata": {
    "collapsed": true,
    "scrolled": true
   },
   "outputs": [],
   "source": [
    "# imprime os elementos a partir do elemento 5 até o ultimo (end) de 2 em 2 \n",
    "v[5:2:end] ,u[5:2:end] "
   ]
  },
  {
   "cell_type": "code",
   "execution_count": null,
   "metadata": {
    "collapsed": true,
    "scrolled": true
   },
   "outputs": [],
   "source": [
    "# imprime na forma de um vetor coluna, os elementos de índice primeiro, terceiro e sexto\n",
    "v[[1, 3, 6]], u[[1, 3, 6]]"
   ]
  },
  {
   "cell_type": "code",
   "execution_count": null,
   "metadata": {
    "collapsed": true
   },
   "outputs": [],
   "source": [
    "# imprime na forma de um vetor linha, os elementos de índice primeiro, terceiro e sexto\n",
    "v[[1 3 6]], u[[1 3 6]]"
   ]
  },
  {
   "cell_type": "code",
   "execution_count": null,
   "metadata": {
    "collapsed": true,
    "scrolled": false
   },
   "outputs": [],
   "source": [
    "# posição final do vetor\n",
    "endof(v), endof(u)"
   ]
  },
  {
   "cell_type": "markdown",
   "metadata": {},
   "source": [
    "Uma variável do tipo `string` também pode ter seus elementos acessados da mesma forma de um vetor."
   ]
  },
  {
   "cell_type": "code",
   "execution_count": null,
   "metadata": {
    "collapsed": true
   },
   "outputs": [],
   "source": [
    "var_string = \"resultado x=20\""
   ]
  },
  {
   "cell_type": "code",
   "execution_count": null,
   "metadata": {
    "collapsed": true
   },
   "outputs": [],
   "source": [
    "var_string[13], var_string[14]"
   ]
  },
  {
   "cell_type": "code",
   "execution_count": null,
   "metadata": {
    "collapsed": true
   },
   "outputs": [],
   "source": [
    "x = float(var_string[13:14])"
   ]
  },
  {
   "cell_type": "markdown",
   "metadata": {},
   "source": [
    "#### CONCATENAÇÃO DE VETORES"
   ]
  },
  {
   "cell_type": "code",
   "execution_count": null,
   "metadata": {
    "collapsed": true,
    "scrolled": true
   },
   "outputs": [],
   "source": [
    "# concatenação de vetores\n",
    "tta = [1 2 3]\n",
    "ttb = [4 5 6]\n",
    "\n",
    "yya = [1, 2, 3]\n",
    "yyb = [4, 5, 6]\n",
    "\n",
    "@show [tta ttb]  # cria um vetor linha\n",
    "@show [yya; yyb] # cria uma vetor coluna;"
   ]
  },
  {
   "cell_type": "markdown",
   "metadata": {},
   "source": [
    "#### ORDENAÇÃO DE VETORES\n",
    "\n",
    "A função `sort()` somente ordena o vetor e `sort()!` ordena e sobrescreve os dados do vetor pelos dados ordenados."
   ]
  },
  {
   "cell_type": "code",
   "execution_count": null,
   "metadata": {
    "collapsed": true,
    "scrolled": false
   },
   "outputs": [],
   "source": [
    "# ordenando vetor\n",
    "va = rand(3)\n",
    "\n",
    "println(\"vetor normal :$va\")\n",
    "println(\"vetor ordenado :$(sort(va))\")"
   ]
  },
  {
   "cell_type": "markdown",
   "metadata": {},
   "source": [
    "**PARA**"
   ]
  },
  {
   "cell_type": "code",
   "execution_count": null,
   "metadata": {
    "collapsed": true
   },
   "outputs": [],
   "source": [
    "x = rand(3)\n",
    "sqrt.(x)"
   ]
  },
  {
   "cell_type": "markdown",
   "metadata": {},
   "source": [
    "### ARRAY MULTIDIMENSIONAL : MATRIZES"
   ]
  },
  {
   "cell_type": "markdown",
   "metadata": {},
   "source": [
    "#### CRIAÇÃO E ACESSO A ELEMENTOS DE MATRIZES\n",
    "\n",
    "Matrizes são formadas por vetores linhas (matriz 1xn) e a índice dos elementos segue a lógica de 1 a n (quantidade de elementos) lidos de cima para baixo, coluna por coluna. Sintaxe:\n",
    "```julia\n",
    "[elemento_1_1  elemento_1_2 ... ; elemento_2_1  elemento_2_2...; elemento_n_1  ...  elemento_n_m]\n",
    "```\n",
    "Para acessar elementos de uma matriz temos a sintaxe:\n",
    "```julia\n",
    "matriz[linha, coluna]\n",
    "```"
   ]
  },
  {
   "cell_type": "code",
   "execution_count": null,
   "metadata": {
    "collapsed": true
   },
   "outputs": [],
   "source": [
    "#Criando uma matriz 3x3 \n",
    "Ma = [2 4 6 ; 8 9 10 ; 12 14 15]"
   ]
  },
  {
   "cell_type": "code",
   "execution_count": null,
   "metadata": {
    "collapsed": true
   },
   "outputs": [],
   "source": [
    "# acesso elemento da segunda linha e terceira coluna da matriz\n",
    "Ma[2, 3]"
   ]
  },
  {
   "cell_type": "code",
   "execution_count": null,
   "metadata": {
    "collapsed": true
   },
   "outputs": [],
   "source": [
    "# acessar somente os elementos da primeira linha\n",
    "Ma[1, :]"
   ]
  },
  {
   "cell_type": "code",
   "execution_count": null,
   "metadata": {
    "collapsed": true
   },
   "outputs": [],
   "source": [
    "# acessar somente os elementos da primeira coluna\n",
    "Ma[:, 1]"
   ]
  },
  {
   "cell_type": "markdown",
   "metadata": {},
   "source": [
    "#### BUSCA DE ELEMENTOS EM UMA MATRIZ\n"
   ]
  },
  {
   "cell_type": "markdown",
   "metadata": {},
   "source": [
    "A função `in() ` procura o elemento e retorna `true` se encontrar ou `false` se não existir.\n",
    "```julia\n",
    "elemento in Matriz\n",
    "in(elemento, Matriz)\n",
    "```"
   ]
  },
  {
   "cell_type": "code",
   "execution_count": null,
   "metadata": {
    "collapsed": true,
    "scrolled": true
   },
   "outputs": [],
   "source": [
    "# testar se os elementos 2 e 15 fazem parte da matriz. Se retor TRUE, então OK.\n",
    "(2 in Ma),(in(15, Ma))"
   ]
  },
  {
   "cell_type": "markdown",
   "metadata": {},
   "source": [
    "A função `findall` retorna a índice do elemento se determinada função for verdadeira.\n",
    "```julia\n",
    "findall(função , Matriz)\n",
    "```"
   ]
  },
  {
   "cell_type": "code",
   "execution_count": null,
   "metadata": {
    "collapsed": true
   },
   "outputs": [],
   "source": [
    "#Matriz\n",
    "Ma"
   ]
  },
  {
   "cell_type": "code",
   "execution_count": null,
   "metadata": {
    "collapsed": true,
    "scrolled": true
   },
   "outputs": [],
   "source": [
    "# listar os índices dos elementos impares da matriz Ma\n",
    "imp = findall(isodd, Ma)"
   ]
  },
  {
   "cell_type": "code",
   "execution_count": null,
   "metadata": {
    "collapsed": true
   },
   "outputs": [],
   "source": [
    "imp[1]"
   ]
  },
  {
   "cell_type": "code",
   "execution_count": null,
   "metadata": {
    "collapsed": true,
    "scrolled": true
   },
   "outputs": [],
   "source": [
    "# testando\n",
    "Ma[imp[1]], Ma[imp[2]]"
   ]
  },
  {
   "cell_type": "markdown",
   "metadata": {},
   "source": [
    "`findall()` e `in()` permitem procurar e retornar os índices dos elementos da matriz. Sintaxe:\n",
    "```julia\n",
    "findall(in(vetor), Matriz)\n",
    "```"
   ]
  },
  {
   "cell_type": "code",
   "execution_count": null,
   "metadata": {
    "collapsed": true
   },
   "outputs": [],
   "source": [
    "#Matriz Ma\n",
    "Ma"
   ]
  },
  {
   "cell_type": "code",
   "execution_count": null,
   "metadata": {
    "collapsed": true
   },
   "outputs": [],
   "source": [
    "findall(in([2, 8, 9]), Ma)"
   ]
  },
  {
   "cell_type": "code",
   "execution_count": null,
   "metadata": {
    "collapsed": true,
    "scrolled": true
   },
   "outputs": [],
   "source": [
    "# testando\n",
    "Ma[1], Ma[2], Ma[5]"
   ]
  },
  {
   "cell_type": "markdown",
   "metadata": {},
   "source": [
    "Para retornar o valor máximo ou mínimo e índice do elemento, use a função `findmax()` e `findmin()`. Sintaxe:\n",
    "```julia\n",
    "findmax(matriz)\n",
    "```\n",
    "```julia\n",
    "findmin(matriz)\n",
    "```"
   ]
  },
  {
   "cell_type": "code",
   "execution_count": null,
   "metadata": {
    "collapsed": true,
    "scrolled": false
   },
   "outputs": [],
   "source": [
    "findmax(Ma)"
   ]
  },
  {
   "cell_type": "code",
   "execution_count": null,
   "metadata": {
    "collapsed": true
   },
   "outputs": [],
   "source": [
    "Ma[findmax(Ma)[2]]"
   ]
  },
  {
   "cell_type": "code",
   "execution_count": null,
   "metadata": {
    "collapsed": true,
    "scrolled": true
   },
   "outputs": [],
   "source": [
    "# retorna o valor mínimo e índice do elemento\n",
    "findmin(Ma)"
   ]
  },
  {
   "cell_type": "markdown",
   "metadata": {},
   "source": [
    "#### MATRIZ ALEATÓRIA\n",
    "\n",
    "As funções `rand(), randexp() e randn()` permitem criar matrizes de dados aleatórios. O módulo Base atualmente fornece uma implementação para os tipos Float16, Float32 e Float64 (o padrão). Vejamos alguns:\n",
    "\n",
    "* Para criar uma matriz de dados aleatórios entre 0 e 1:\n",
    "\n",
    "```julia \n",
    "    rand(número_elementos_linha, número_elementos_coluna)\n",
    "    \n",
    "``` \n",
    "* Para criar uma matriz de dados aleatórios com os dados do vetor ` a:b `:\n",
    "\n",
    "```julia \n",
    "    rand(vetor/matriz, número_elementos_linha, número_elementos_coluna) \n",
    "\n",
    "```\n",
    "* Para criar uma matriz de dados aleatórios de acordo com a distribuição exponencial com escala 1:\n",
    "\n",
    "```julia \n",
    "    randexp(número_elementos_linha, número_elementos_coluna) \n",
    "    \n",
    "```\n",
    "* Para criar uma matriz de dados aleatórios normalmente distribuído com média 0 e desvio padrão 1:\n",
    "\n",
    "```julia \n",
    "    randn(número_elementos_linha, número_elementos_coluna)\n",
    "    \n",
    "```"
   ]
  },
  {
   "cell_type": "code",
   "execution_count": null,
   "metadata": {
    "collapsed": true
   },
   "outputs": [],
   "source": [
    "# matriz de números aleatórios entre 0 e 1\n",
    "rand(3,3)"
   ]
  },
  {
   "cell_type": "code",
   "execution_count": null,
   "metadata": {
    "collapsed": true
   },
   "outputs": [],
   "source": [
    "# matriz de números aleatórios entre 1 e 60 de tamanho 6x6 (JOGO DA MEGA-SENA)\n",
    "rand(1:60, 6 , 6)"
   ]
  },
  {
   "cell_type": "code",
   "execution_count": null,
   "metadata": {
    "collapsed": true
   },
   "outputs": [],
   "source": [
    "# matriz de números aleatórios exponenciais\n",
    "randexp(3,3)"
   ]
  },
  {
   "cell_type": "code",
   "execution_count": null,
   "metadata": {
    "collapsed": true
   },
   "outputs": [],
   "source": [
    "# matriz de números aleatórios de distribuição normal\n",
    "randn(2, 3)"
   ]
  },
  {
   "cell_type": "markdown",
   "metadata": {},
   "source": [
    "#### ORDENAÇÃO DE ELEMENTOS EM UMA MATRIZ"
   ]
  },
  {
   "cell_type": "code",
   "execution_count": null,
   "metadata": {
    "collapsed": true
   },
   "outputs": [],
   "source": [
    "Mad = randexp(3,3)"
   ]
  },
  {
   "cell_type": "code",
   "execution_count": null,
   "metadata": {
    "collapsed": true,
    "scrolled": true
   },
   "outputs": [],
   "source": [
    "# ordena as linhas \n",
    "sortrows(Mad)"
   ]
  },
  {
   "cell_type": "code",
   "execution_count": null,
   "metadata": {
    "collapsed": true,
    "scrolled": false
   },
   "outputs": [],
   "source": [
    "# ordena as colunas\n",
    "sortcols(Mad)"
   ]
  },
  {
   "cell_type": "markdown",
   "metadata": {},
   "source": [
    "#### MATRIZES DE ZEROS, UNS E IDENTIDADE"
   ]
  },
  {
   "cell_type": "code",
   "execution_count": null,
   "metadata": {
    "collapsed": true
   },
   "outputs": [],
   "source": [
    "# cria uma matriz 3x3 de zeros\n",
    "Mz = zeros(3,3)"
   ]
  },
  {
   "cell_type": "code",
   "execution_count": null,
   "metadata": {
    "collapsed": true
   },
   "outputs": [],
   "source": [
    "# cria uma matriz 3x3 de uns\n",
    "Mo = ones(3, 3)"
   ]
  },
  {
   "cell_type": "code",
   "execution_count": null,
   "metadata": {
    "collapsed": true
   },
   "outputs": [],
   "source": [
    "# cria uma matriz 3x3 identidade\n",
    "Mi = Matrix(1.0I, 3, 3)"
   ]
  },
  {
   "cell_type": "markdown",
   "metadata": {},
   "source": [
    "#### CRIAÇÃO DE MATRIZES A PARTIR DA CONCATENAÇÃO DE VETORES "
   ]
  },
  {
   "cell_type": "code",
   "execution_count": null,
   "metadata": {
    "collapsed": true
   },
   "outputs": [],
   "source": [
    "v1 = [1  2  3]\n",
    "v2 = [1, 2, 3]\n",
    "\n",
    "display(v1)\n",
    "display(v2)"
   ]
  },
  {
   "cell_type": "code",
   "execution_count": null,
   "metadata": {
    "collapsed": true
   },
   "outputs": [],
   "source": [
    "# matriz 1x6 \n",
    "Mv1 = [v1 v1]"
   ]
  },
  {
   "cell_type": "code",
   "execution_count": null,
   "metadata": {
    "collapsed": true,
    "scrolled": true
   },
   "outputs": [],
   "source": [
    "# matriz 3x2 \n",
    "Mv2 = [v2 v2]"
   ]
  },
  {
   "cell_type": "code",
   "execution_count": null,
   "metadata": {
    "collapsed": true
   },
   "outputs": [],
   "source": [
    "# matriz 2x3\n",
    "Mv3 = [v1 ; v1]"
   ]
  },
  {
   "cell_type": "code",
   "execution_count": null,
   "metadata": {
    "collapsed": true
   },
   "outputs": [],
   "source": [
    "# ATENÇÃO: neste caso será criado um vetor\n",
    "# devido a dimensão  Array{Int64,1}\n",
    "Mv4 = [v2 ; v2]"
   ]
  },
  {
   "cell_type": "markdown",
   "metadata": {},
   "source": [
    "#### CONCATENAÇÃO DE MATRIZES"
   ]
  },
  {
   "cell_type": "code",
   "execution_count": null,
   "metadata": {
    "collapsed": true,
    "scrolled": true
   },
   "outputs": [],
   "source": [
    "# criar as matrizes\n",
    "Mra = [1 2 3 ; 4 5 6 ]\n",
    "Mrb = [0 0 0 ; 1 1 1]\n",
    "\n",
    "display(Mra)\n",
    "display(Mrb)"
   ]
  },
  {
   "cell_type": "code",
   "execution_count": null,
   "metadata": {
    "collapsed": true,
    "scrolled": true
   },
   "outputs": [],
   "source": [
    "# concatenar na horizontal\n",
    "[Mra Mrb]"
   ]
  },
  {
   "cell_type": "code",
   "execution_count": null,
   "metadata": {
    "collapsed": true
   },
   "outputs": [],
   "source": [
    "# concatenar na vertical\n",
    "[Mra ; Mrb]"
   ]
  },
  {
   "cell_type": "code",
   "execution_count": null,
   "metadata": {
    "collapsed": true,
    "scrolled": false
   },
   "outputs": [],
   "source": [
    "# criar uma matriz utilizando os elementos da segunda linha da matriz Mra\n",
    "# e todos os elementos da matriz Mrb.\n",
    "[Mra[: , 2] Mrb]"
   ]
  },
  {
   "cell_type": "markdown",
   "metadata": {},
   "source": [
    "Para"
   ]
  },
  {
   "cell_type": "markdown",
   "metadata": {},
   "source": [
    "## REFERÊNCIA BIBLIOGRÁFICA\n",
    "\n",
    "SAWAYA, Márcia Regina . Dicionário de Informática e Internet. 1. ed. São Paulo, SP: Nobel, 1999. 543 p. \n",
    "\n",
    "TUCKER, Allen B. ; NOONAN, Robert E. . Linguagens de Programação : Princípios e Paradigmas. 2. ed. São Paulo, SP: McGraw-Hill, 2009. 600 p. \n",
    "\n",
    "SEBESTA, Robert W. Conceitos de linguagens de programação. 9. ed. Boca Raton, FL: Bookman, 2011. 775 p. \n",
    "\n",
    "TOAL, R; et al. Programming Language Explorations. 1. ed. Porto Alegre: Taylor & Francis Group, LLC, 2017. 312 p.\n",
    "\n",
    "BEZANSON, Jeff et al. Julia Language Documentation. ed. [S.l.: s.n.], 2018. Disponível em: <https://docs.julialang.org/en/stable>. Acesso em: 25 Junho. 2018. \n"
   ]
  }
 ],
 "metadata": {
  "anaconda-cloud": {},
  "kernelspec": {
   "display_name": "Julia 1.0.2",
   "language": "julia",
   "name": "julia-1.0"
  },
  "language_info": {
   "file_extension": ".jl",
   "mimetype": "application/julia",
   "name": "julia",
   "version": "1.0.2"
  },
  "latex_envs": {
   "LaTeX_envs_menu_present": true,
   "autocomplete": true,
   "bibliofile": "biblio.bib",
   "cite_by": "apalike",
   "current_citInitial": 1,
   "eqLabelWithNumbers": true,
   "eqNumInitial": 1,
   "hotkeys": {
    "equation": "Ctrl-E",
    "itemize": "Ctrl-I"
   },
   "labels_anchors": false,
   "latex_user_defs": false,
   "report_style_numbering": false,
   "user_envs_cfg": false
  }
 },
 "nbformat": 4,
 "nbformat_minor": 2
}
