{
 "cells": [
  {
   "cell_type": "markdown",
   "metadata": {
    "raw_mimetype": "text/latex"
   },
   "source": [
    "# COMANDOS BÁSICOS E MATEMÁTICA BÁSICA\n"
   ]
  },
  {
   "cell_type": "markdown",
   "metadata": {},
   "source": [
    "## COMO USAR O OS COMANDOS DA LINGUAGEM JULIA\n",
    "\n"
   ]
  },
  {
   "cell_type": "markdown",
   "metadata": {},
   "source": [
    "## COMANDOS INICIAIS"
   ]
  },
  {
   "cell_type": "markdown",
   "metadata": {},
   "source": [
    "Informações sobre o computador\n"
   ]
  },
  {
   "cell_type": "code",
   "execution_count": 1,
   "metadata": {
    "scrolled": false
   },
   "outputs": [
    {
     "name": "stdout",
     "output_type": "stream",
     "text": [
      "Julia Version 1.0.2\n",
      "Commit d789231e99 (2018-11-08 20:11 UTC)\n",
      "Platform Info:\n",
      "  OS: Linux (x86_64-pc-linux-gnu)\n",
      "  CPU: Intel(R) Core(TM) i7-7700HQ CPU @ 2.80GHz\n",
      "  WORD_SIZE: 64\n",
      "  LIBM: libopenlibm\n",
      "  LLVM: libLLVM-6.0.0 (ORCJIT, skylake)\n"
     ]
    }
   ],
   "source": [
    "versioninfo()"
   ]
  },
  {
   "cell_type": "markdown",
   "metadata": {},
   "source": [
    "Comando de ajuda"
   ]
  },
  {
   "cell_type": "code",
   "execution_count": 2,
   "metadata": {
    "scrolled": true
   },
   "outputs": [
    {
     "name": "stdout",
     "output_type": "stream",
     "text": [
      "search: \u001b[0m\u001b[1mv\u001b[22m\u001b[0m\u001b[1me\u001b[22m\u001b[0m\u001b[1mr\u001b[22m\u001b[0m\u001b[1ms\u001b[22m\u001b[0m\u001b[1mi\u001b[22m\u001b[0m\u001b[1mo\u001b[22m\u001b[0m\u001b[1mn\u001b[22m\u001b[0m\u001b[1mi\u001b[22m\u001b[0m\u001b[1mn\u001b[22m\u001b[0m\u001b[1mf\u001b[22m\u001b[0m\u001b[1mo\u001b[22m\n",
      "\n"
     ]
    },
    {
     "data": {
      "text/latex": [
       "\\begin{verbatim}\n",
       "versioninfo(io::IO=stdout; verbose::Bool=false)\n",
       "\\end{verbatim}\n",
       "Print information about the version of Julia in use. The output is controlled with boolean keyword arguments:\n",
       "\n",
       "\\begin{itemize}\n",
       "\\item \\texttt{verbose}: print all additional information\n",
       "\n",
       "\\end{itemize}\n"
      ],
      "text/markdown": [
       "```\n",
       "versioninfo(io::IO=stdout; verbose::Bool=false)\n",
       "```\n",
       "\n",
       "Print information about the version of Julia in use. The output is controlled with boolean keyword arguments:\n",
       "\n",
       "  * `verbose`: print all additional information\n"
      ],
      "text/plain": [
       "\u001b[36m  versioninfo(io::IO=stdout; verbose::Bool=false)\u001b[39m\n",
       "\n",
       "  Print information about the version of Julia in use. The output is\n",
       "  controlled with boolean keyword arguments:\n",
       "\n",
       "    •    \u001b[36mverbose\u001b[39m: print all additional information"
      ]
     },
     "execution_count": 2,
     "metadata": {},
     "output_type": "execute_result"
    }
   ],
   "source": [
    "? versioninfo "
   ]
  },
  {
   "cell_type": "markdown",
   "metadata": {},
   "source": [
    "Número de cores do processador: "
   ]
  },
  {
   "cell_type": "code",
   "execution_count": 6,
   "metadata": {
    "scrolled": false
   },
   "outputs": [
    {
     "data": {
      "text/plain": [
       "8-element Array{Base.Sys.CPUinfo,1}:\n",
       " Intel(R) Core(TM) i7-7700HQ CPU @ 2.80GHz: \n",
       "        speed         user         nice          sys         idle          irq\n",
       "     3393 MHz      60172 s         15 s      27469 s    1072464 s          0 s\n",
       " Intel(R) Core(TM) i7-7700HQ CPU @ 2.80GHz: \n",
       "        speed         user         nice          sys         idle          irq\n",
       "     3224 MHz      53756 s         16 s      24964 s     554775 s          0 s\n",
       " Intel(R) Core(TM) i7-7700HQ CPU @ 2.80GHz: \n",
       "        speed         user         nice          sys         idle          irq\n",
       "     3378 MHz      66577 s         86 s      24015 s     561258 s          0 s\n",
       " Intel(R) Core(TM) i7-7700HQ CPU @ 2.80GHz: \n",
       "        speed         user         nice          sys         idle          irq\n",
       "     3386 MHz      52199 s         26 s      28417 s     561412 s          0 s\n",
       " Intel(R) Core(TM) i7-7700HQ CPU @ 2.80GHz: \n",
       "        speed         user         nice          sys         idle          irq\n",
       "     3358 MHz      50913 s         19 s      21388 s     563018 s          0 s\n",
       " Intel(R) Core(TM) i7-7700HQ CPU @ 2.80GHz: \n",
       "        speed         user         nice          sys         idle          irq\n",
       "     3366 MHz      50390 s         17 s      21203 s     563237 s          0 s\n",
       " Intel(R) Core(TM) i7-7700HQ CPU @ 2.80GHz: \n",
       "        speed         user         nice          sys         idle          irq\n",
       "     3391 MHz      51286 s         23 s      20347 s     562880 s          0 s\n",
       " Intel(R) Core(TM) i7-7700HQ CPU @ 2.80GHz: \n",
       "        speed         user         nice          sys         idle          irq\n",
       "     3387 MHz      47240 s         14 s      22154 s     562083 s          0 s"
      ]
     },
     "execution_count": 6,
     "metadata": {},
     "output_type": "execute_result"
    }
   ],
   "source": [
    "Sys.cpu_info()"
   ]
  },
  {
   "cell_type": "markdown",
   "metadata": {},
   "source": [
    "Sistema operacional:"
   ]
  },
  {
   "cell_type": "code",
   "execution_count": 4,
   "metadata": {
    "scrolled": true
   },
   "outputs": [
    {
     "data": {
      "text/plain": [
       ":Linux"
      ]
     },
     "execution_count": 4,
     "metadata": {},
     "output_type": "execute_result"
    }
   ],
   "source": [
    "Sys.KERNEL  "
   ]
  },
  {
   "cell_type": "markdown",
   "metadata": {},
   "source": [
    "Resumo dos cores:"
   ]
  },
  {
   "cell_type": "code",
   "execution_count": 7,
   "metadata": {
    "scrolled": false
   },
   "outputs": [
    {
     "name": "stdout",
     "output_type": "stream",
     "text": [
      "Intel(R) Core(TM) i7-7700HQ CPU @ 2.80GHz: \n",
      "       speed         user         nice          sys         idle          irq\n",
      "#1  3428 MHz      60232 s         15 s      27498 s    1073468 s          0 s\n",
      "#2  3413 MHz      53827 s         16 s      24988 s     555780 s          0 s\n",
      "#3  3426 MHz      66658 s         86 s      24040 s     562255 s          0 s\n",
      "#4  3409 MHz      52264 s         26 s      28445 s     562427 s          0 s\n",
      "#5  3413 MHz      50985 s         19 s      21412 s     564026 s          0 s\n",
      "#6  3413 MHz      50456 s         17 s      21236 s     564239 s          0 s\n",
      "#7  3408 MHz      51424 s         23 s      20372 s     563821 s          0 s\n",
      "#8  3406 MHz      47312 s         14 s      22176 s     563094 s          0 s\n"
     ]
    }
   ],
   "source": [
    "Sys.cpu_summary()"
   ]
  },
  {
   "cell_type": "markdown",
   "metadata": {},
   "source": [
    "## OPERADORES ARITMÉTICOS\n",
    "\n",
    "Os operadores aritméticos executam operações matemáticas básicas, como adição e subtração com operandos. Existem dois tipos de operadores matemáticos: unário e binário. Um operador unário executa uma ação com um único operando, já os  um operador binário executa ação com dois operandos. Julia fornece uma coleção completa de operadores aritméticos para as mais diversas expressões de cálculo.\n",
    "\n",
    "| **Expressão** | **Nome**                              | \n",
    "| ------------- | --------------------------------------| \n",
    "| +x            | Operador unário de adição             |\n",
    "| -x            | Operador unário de subtração          | \n",
    "| x + y         | Operador binário de adição            | \n",
    "| x - y         | Operador binário de subtração         | \n",
    "| x * y         | Operador binário de multiplicação     | \n",
    "| x / y         | Operador binário de divisão           |\n",
    "| x ÷ y         | Operador binário de divisão inteira   |\n",
    "| x \\\\ y        | Operador binário de divisão esquerda  | \n",
    "| x ^ y         | Operador binário de potência          |\n",
    "| x % y         | Operador binário de resto             | "
   ]
  },
  {
   "cell_type": "code",
   "execution_count": 5,
   "metadata": {},
   "outputs": [
    {
     "data": {
      "text/plain": [
       "2"
      ]
     },
     "execution_count": 5,
     "metadata": {},
     "output_type": "execute_result"
    }
   ],
   "source": [
    "8 ÷ 3"
   ]
  },
  {
   "cell_type": "markdown",
   "metadata": {},
   "source": [
    "## MATEMÁTICA BÁSICA"
   ]
  },
  {
   "cell_type": "markdown",
   "metadata": {},
   "source": [
    "Soma de inteiros:"
   ]
  },
  {
   "cell_type": "code",
   "execution_count": 13,
   "metadata": {
    "scrolled": true
   },
   "outputs": [
    {
     "data": {
      "text/plain": [
       "7"
      ]
     },
     "execution_count": 13,
     "metadata": {},
     "output_type": "execute_result"
    }
   ],
   "source": [
    "2 + 5"
   ]
  },
  {
   "cell_type": "markdown",
   "metadata": {},
   "source": [
    "Potência de dez expoente negativo ($10^n$):"
   ]
  },
  {
   "cell_type": "code",
   "execution_count": 14,
   "metadata": {
    "scrolled": true
   },
   "outputs": [
    {
     "data": {
      "text/plain": [
       "0.01"
      ]
     },
     "execution_count": 14,
     "metadata": {},
     "output_type": "execute_result"
    }
   ],
   "source": [
    "1e-2"
   ]
  },
  {
   "cell_type": "markdown",
   "metadata": {},
   "source": [
    "Exponencial ($e^n$):"
   ]
  },
  {
   "cell_type": "code",
   "execution_count": 15,
   "metadata": {},
   "outputs": [
    {
     "data": {
      "text/plain": [
       "20.085536923187668"
      ]
     },
     "execution_count": 15,
     "metadata": {},
     "output_type": "execute_result"
    }
   ],
   "source": [
    "exp(3)"
   ]
  },
  {
   "cell_type": "markdown",
   "metadata": {},
   "source": [
    "Potência ($a^n$):"
   ]
  },
  {
   "cell_type": "code",
   "execution_count": 16,
   "metadata": {
    "scrolled": true
   },
   "outputs": [
    {
     "data": {
      "text/plain": [
       "64"
      ]
     },
     "execution_count": 16,
     "metadata": {},
     "output_type": "execute_result"
    }
   ],
   "source": [
    "2^6"
   ]
  },
  {
   "cell_type": "markdown",
   "metadata": {},
   "source": [
    "Expressão aritmética:"
   ]
  },
  {
   "cell_type": "code",
   "execution_count": 18,
   "metadata": {
    "scrolled": true
   },
   "outputs": [
    {
     "data": {
      "text/plain": [
       "0.765625"
      ]
     },
     "execution_count": 18,
     "metadata": {},
     "output_type": "execute_result"
    }
   ],
   "source": [
    "(2 + 5)^2/(3 + 1)^3"
   ]
  },
  {
   "cell_type": "markdown",
   "metadata": {},
   "source": [
    "Seno:"
   ]
  },
  {
   "cell_type": "code",
   "execution_count": 19,
   "metadata": {
    "scrolled": false
   },
   "outputs": [
    {
     "data": {
      "text/plain": [
       "1.0"
      ]
     },
     "execution_count": 19,
     "metadata": {},
     "output_type": "execute_result"
    }
   ],
   "source": [
    "sin(pi/2)"
   ]
  },
  {
   "cell_type": "markdown",
   "metadata": {},
   "source": [
    "Número aleatório entre 0 e 1:"
   ]
  },
  {
   "cell_type": "code",
   "execution_count": 17,
   "metadata": {
    "scrolled": false
   },
   "outputs": [
    {
     "data": {
      "text/plain": [
       "0.5072080985457588"
      ]
     },
     "execution_count": 17,
     "metadata": {},
     "output_type": "execute_result"
    }
   ],
   "source": [
    "rand()"
   ]
  },
  {
   "cell_type": "markdown",
   "metadata": {},
   "source": [
    "Número aleatório entre 0 e 10:"
   ]
  },
  {
   "cell_type": "code",
   "execution_count": 18,
   "metadata": {
    "scrolled": false
   },
   "outputs": [
    {
     "data": {
      "text/plain": [
       "5"
      ]
     },
     "execution_count": 18,
     "metadata": {},
     "output_type": "execute_result"
    }
   ],
   "source": [
    "rand(0:10)"
   ]
  },
  {
   "cell_type": "markdown",
   "metadata": {},
   "source": [
    "Máximo Divisor Comum:"
   ]
  },
  {
   "cell_type": "code",
   "execution_count": 23,
   "metadata": {
    "scrolled": true
   },
   "outputs": [
    {
     "data": {
      "text/plain": [
       "7"
      ]
     },
     "execution_count": 23,
     "metadata": {},
     "output_type": "execute_result"
    }
   ],
   "source": [
    "gcd(7, 14)"
   ]
  },
  {
   "cell_type": "markdown",
   "metadata": {},
   "source": [
    "Mínino Múltiplo Comum:"
   ]
  },
  {
   "cell_type": "code",
   "execution_count": 19,
   "metadata": {
    "scrolled": false
   },
   "outputs": [
    {
     "data": {
      "text/plain": [
       "300"
      ]
     },
     "execution_count": 19,
     "metadata": {},
     "output_type": "execute_result"
    }
   ],
   "source": [
    "lcm(60, 50)"
   ]
  },
  {
   "cell_type": "markdown",
   "metadata": {},
   "source": [
    "Fatorial:"
   ]
  },
  {
   "cell_type": "code",
   "execution_count": 20,
   "metadata": {},
   "outputs": [
    {
     "data": {
      "text/plain": [
       "120"
      ]
     },
     "execution_count": 20,
     "metadata": {},
     "output_type": "execute_result"
    }
   ],
   "source": [
    "factorial(5)"
   ]
  },
  {
   "cell_type": "markdown",
   "metadata": {},
   "source": [
    "**Múltiplos cálculos**\n",
    "\n",
    "O uso a vírgula \" , \" permite efetuar mais de uma expressão"
   ]
  },
  {
   "cell_type": "code",
   "execution_count": 43,
   "metadata": {},
   "outputs": [
    {
     "data": {
      "text/plain": [
       "(1.4142135623730951, 0.2222222222222222)"
      ]
     },
     "execution_count": 43,
     "metadata": {},
     "output_type": "execute_result"
    }
   ],
   "source": [
    "sqrt(2) , 2.0*3.0^-2"
   ]
  },
  {
   "cell_type": "code",
   "execution_count": 44,
   "metadata": {},
   "outputs": [
    {
     "data": {
      "text/plain": [
       "0.2222222222222222"
      ]
     },
     "execution_count": 44,
     "metadata": {},
     "output_type": "execute_result"
    }
   ],
   "source": [
    "# se usado o ponto e virgula, só será impresso a ultimo cálculo\n",
    "sqrt(2) ; 2.0*3.0^-2"
   ]
  },
  {
   "cell_type": "markdown",
   "metadata": {},
   "source": [
    "**Cálculo trigonometrico/Hiperbólico**\n",
    "\n",
    "sin(x)    cos(x)    tan(x)    cot(x)    sec(x)    csc(x)  sinh(x)   cosh(x)   tanh(x)   coth(x)   sech(x)   csch(x)\n",
    "\n",
    "\n",
    "asin(x)   acos(x)   atan(x)   acot(x)   asec(x)   acsc(x)  acoth(x)  asech(x)  acsch(x)  sinc(x)   cosc(x)   atan2(x)"
   ]
  },
  {
   "cell_type": "markdown",
   "metadata": {},
   "source": [
    "Cálculo trigonométrico radianos:"
   ]
  },
  {
   "cell_type": "code",
   "execution_count": 21,
   "metadata": {
    "scrolled": true
   },
   "outputs": [
    {
     "data": {
      "text/plain": [
       "(0.7071067811865475, -1.0, 0.9999999999999999)"
      ]
     },
     "execution_count": 21,
     "metadata": {},
     "output_type": "execute_result"
    }
   ],
   "source": [
    "sin(pi/4) , cos(pi) , tan(pi/4)"
   ]
  },
  {
   "cell_type": "code",
   "execution_count": 22,
   "metadata": {
    "scrolled": true
   },
   "outputs": [
    {
     "data": {
      "text/plain": [
       "(1.5248686188220641, 1.4142135623730951, 1.414213562373095)"
      ]
     },
     "execution_count": 22,
     "metadata": {},
     "output_type": "execute_result"
    }
   ],
   "source": [
    "coth(pi/4), csc(pi/4) , sec(pi/4)"
   ]
  },
  {
   "cell_type": "markdown",
   "metadata": {},
   "source": [
    "Para realizar cálculo trigonométricos em graus, basta acrescentar a letra \"d\":"
   ]
  },
  {
   "cell_type": "code",
   "execution_count": 24,
   "metadata": {
    "scrolled": true
   },
   "outputs": [
    {
     "data": {
      "text/plain": [
       "(1.0, 0.0)"
      ]
     },
     "execution_count": 24,
     "metadata": {},
     "output_type": "execute_result"
    }
   ],
   "source": [
    "sind(90), cosd(90)"
   ]
  },
  {
   "cell_type": "markdown",
   "metadata": {},
   "source": [
    "**Cálculo Angular**"
   ]
  },
  {
   "cell_type": "markdown",
   "metadata": {},
   "source": [
    "Converte um valor $x$ de grau para radiano:"
   ]
  },
  {
   "cell_type": "code",
   "execution_count": 27,
   "metadata": {},
   "outputs": [
    {
     "data": {
      "text/plain": [
       "1.0471975511965976"
      ]
     },
     "execution_count": 27,
     "metadata": {},
     "output_type": "execute_result"
    }
   ],
   "source": [
    "deg2rad(60)"
   ]
  },
  {
   "cell_type": "markdown",
   "metadata": {},
   "source": [
    "Converte um valor $x$ de radiano para grau:"
   ]
  },
  {
   "cell_type": "code",
   "execution_count": 28,
   "metadata": {},
   "outputs": [
    {
     "data": {
      "text/plain": [
       "59.99999999999999"
      ]
     },
     "execution_count": 28,
     "metadata": {},
     "output_type": "execute_result"
    }
   ],
   "source": [
    "# Converte x de radianos para graus\n",
    "rad2deg(1.0471975511965976)"
   ]
  },
  {
   "cell_type": "markdown",
   "metadata": {},
   "source": [
    "**Cálculo Exponencial/Logaritmo**"
   ]
  },
  {
   "cell_type": "markdown",
   "metadata": {},
   "source": [
    "Função exponencial natural em $x$:"
   ]
  },
  {
   "cell_type": "code",
   "execution_count": 29,
   "metadata": {
    "scrolled": true
   },
   "outputs": [
    {
     "data": {
      "text/plain": [
       "7.38905609893065"
      ]
     },
     "execution_count": 29,
     "metadata": {},
     "output_type": "execute_result"
    }
   ],
   "source": [
    "exp(2)"
   ]
  },
  {
   "cell_type": "markdown",
   "metadata": {},
   "source": [
    "accurate exp (x) -1 para x próximo de zero:"
   ]
  },
  {
   "cell_type": "code",
   "execution_count": 51,
   "metadata": {
    "scrolled": true
   },
   "outputs": [
    {
     "data": {
      "text/plain": [
       "147.4131591025766"
      ]
     },
     "execution_count": 51,
     "metadata": {},
     "output_type": "execute_result"
    }
   ],
   "source": [
    "expm1(5)"
   ]
  },
  {
   "cell_type": "markdown",
   "metadata": {},
   "source": [
    "Logaritmo natural de $x$:"
   ]
  },
  {
   "cell_type": "code",
   "execution_count": 30,
   "metadata": {
    "scrolled": true
   },
   "outputs": [
    {
     "data": {
      "text/plain": [
       "4.605170185988092"
      ]
     },
     "execution_count": 30,
     "metadata": {},
     "output_type": "execute_result"
    }
   ],
   "source": [
    "log(100)"
   ]
  },
  {
   "cell_type": "markdown",
   "metadata": {},
   "source": [
    "Logaritmo de base $b$ de $x$:"
   ]
  },
  {
   "cell_type": "code",
   "execution_count": 53,
   "metadata": {
    "scrolled": true
   },
   "outputs": [
    {
     "data": {
      "text/plain": [
       "2.0"
      ]
     },
     "execution_count": 53,
     "metadata": {},
     "output_type": "execute_result"
    }
   ],
   "source": [
    "log(10, 100)"
   ]
  },
  {
   "cell_type": "markdown",
   "metadata": {},
   "source": [
    "Logaritmo de base 2:"
   ]
  },
  {
   "cell_type": "code",
   "execution_count": 54,
   "metadata": {
    "scrolled": true
   },
   "outputs": [
    {
     "data": {
      "text/plain": [
       "6.643856189774724"
      ]
     },
     "execution_count": 54,
     "metadata": {},
     "output_type": "execute_result"
    }
   ],
   "source": [
    "log2(100)"
   ]
  },
  {
   "cell_type": "markdown",
   "metadata": {},
   "source": [
    "Logaritmo de base 10:"
   ]
  },
  {
   "cell_type": "code",
   "execution_count": 55,
   "metadata": {
    "scrolled": true
   },
   "outputs": [
    {
     "data": {
      "text/plain": [
       "3.0"
      ]
     },
     "execution_count": 55,
     "metadata": {},
     "output_type": "execute_result"
    }
   ],
   "source": [
    "log10(1000)"
   ]
  },
  {
   "cell_type": "markdown",
   "metadata": {},
   "source": [
    "Logaritmo preciso (1 + x) para x próximo de zero"
   ]
  },
  {
   "cell_type": "code",
   "execution_count": 56,
   "metadata": {},
   "outputs": [
    {
     "data": {
      "text/plain": [
       "4.61512051684126"
      ]
     },
     "execution_count": 56,
     "metadata": {},
     "output_type": "execute_result"
    }
   ],
   "source": [
    "log1p(100)"
   ]
  },
  {
   "cell_type": "markdown",
   "metadata": {},
   "source": [
    "**Resumo Principais funções de matemática**"
   ]
  },
  {
   "cell_type": "markdown",
   "metadata": {},
   "source": [
    "<table border=\"1\" width=\"491\" cellspacing=\"0\">\n",
    "<tbody>\n",
    "<tr>\n",
    "<td style=\"text-align: left;\" height=\"17\">`round(x)` - Arredonda para o número inteiro mais próximo.</td>\n",
    "</tr>\n",
    "<tr>\n",
    "<td style=\"text-align: left;\" height=\"17\">`floor(x)` - Arredonda o valor de `x` para o inteiro em direção de -∞.</td>\n",
    "</tr>\n",
    "<tr>\n",
    "<td style=\"text-align: left;\" height=\"17\">`ceil(x)` - Arredonda o número `x` para inteiro na direção de ∞.</td>\n",
    "</tr>\n",
    "<tr>\n",
    "<td style=\"text-align: left;\" height=\"17\">`trunc(x)` - Retorna somente a parte inteira de um número `x`</td>\n",
    "</tr>\n",
    "<tr>\n",
    "<td style=\"text-align: left;\" height=\"17\">`div(x, y)` - Calcula o quociente da divisão euclidiana entre `x` e `y`, arredondando para um inteiro</td>\n",
    "</tr>\n",
    "<tr>\n",
    "<td style=\"text-align: left;\" height=\"17\">`fld(x, y)` - Calcula o maior número inteiro menor ou igual a `x / y`.</td>\n",
    "</tr>\n",
    "<tr>\n",
    "<td style=\"text-align: left;\" height=\"17\">`rem(x, y)` - Calcula o resto da divisão inteira entre `x` e `y`</td>\n",
    "</tr>\n",
    "<tr>\n",
    "<td style=\"text-align: left;\" height=\"17\">`mod(x, y)` - Calcula o resto da divisão inteira entre `x` e `y`</td>\n",
    "</tr>\n",
    "<tr>\n",
    "<td style=\"text-align: left;\" height=\"17\">`gcd(x, y ...)` - Calcula o máximo divisor comum de `x` e `y`.\n",
    "</td>\n",
    "</tr>\n",
    "<tr>\n",
    "<td style=\"text-align: left;\" height=\"17\">`lcm(x, y ...)` - Calcula o mínimo múltiplo comum de `x` e `y`</td>\n",
    "</tr>\n",
    "<tr>\n",
    "<td style=\"text-align: left;\" height=\"17\">`abs(x)` - Valor absoluto ou módulo de um número</td>\n",
    "</tr>\n",
    "<tr>\n",
    "<td style=\"text-align: left;\" height=\"17\">`sinal(x)` - Retorna 0 se `x==0`, caso contrário retorna x/|x|</td>\n",
    "</tr>\n",
    "</tbody>\n",
    "\n",
    "<p></p>\n",
    "\n",
    "</table>\n",
    "<table border=\"1\" width=\"490\" cellspacing=\"0\">\n",
    "<tbody>\n",
    "<tr>\n",
    "<td style=\"text-align: left;\" height=\"17\">`sqrt(x)` - Raiz quadrada de x</td>\n",
    "</tr>\n",
    "<tr>\n",
    "<td style=\"text-align: left;\" height=\"17\">`cbrt(x)` - Raiz cúbica de x</td>\n",
    "</tr>\n",
    "<tr>\n",
    "<td style=\"text-align: left;\" height=\"17\">`hypot(x, y, ..., n)` - Calcula a raiz quadrada do somátorio do quadrado de seus argumentos</td>\n",
    "</tr>\n",
    "<tr>\n",
    "<td style=\"text-align: left;\" height=\"17\">`exp(x)` - Calcula $e^x$.</td>\n",
    "</tr>\n",
    "<tr>\n",
    "<td style=\"text-align: left;\" height=\"17\">`expm1(x)` - Calcula $e^x - 1$</td>\n",
    "</tr>\n",
    "<tr>\n",
    "<td style=\"text-align: left;\" height=\"17\">`ldexp(x, n)` - Calcula $x \\cdot 2^n$</td>\n",
    "</tr>\n",
    "<tr>\n",
    "<td style=\"text-align: left;\" height=\"17\">`log(x)` - Calcula o logaritmo natural de `x`</td>\n",
    "</tr>\n",
    "<tr>\n",
    "<td style=\"text-align: left;\" height=\"17\">`log(b, x)` - Calcula o logaritmo $\\log_b x$</td>\n",
    "</tr>\n",
    "<tr>\n",
    "<td style=\"text-align: left;\" height=\"17\">`log2(x)` - Calcula o logaritmo $\\log_2 x$</td>\n",
    "</tr>\n",
    "<tr>\n",
    "<td style=\"text-align: left;\" height=\"17\">`log10(x)` - Calcula o logaritmo $\\log_10 x$</td>\n",
    "</tr>\n",
    "<tr>\n",
    "<td style=\"text-align: left;\" height=\"17\">`log1p(x)` - Calcula  $\\ln(x+1)$</td>\n",
    "</tr>\n",
    "<tr>\n",
    "<td style=\"text-align: left;\" height=\"17\">`binomial(x, y)` - Calcula $ \\frac{x!}{y!(x-y)!}$</td>\n",
    "</tr>\n",
    "<tr>\n",
    "<td style=\"text-align: left;\" height=\"17\">`factorial(n)` - Calcula o fatorial de `n`.</td>\n",
    "</tr>\n",
    "<tr>\n",
    "<td style=\"text-align: left;\" height=\"17\">`divrem(x, y)` - Calcula a divisão e o resto da divisão Euclidiana de `x` e `y`.</td>\n",
    "</tr>\n",
    "<tr>\n",
    "<td style=\"text-align: left;\" height=\"17\">`rationalize(x)` - Número racional aproximado com componentes do tipo inteiro para um número `x` do tipo decimal</td>\n",
    "</tr>\n",
    "</tbody>\n",
    "</table>"
   ]
  },
  {
   "cell_type": "markdown",
   "metadata": {},
   "source": [
    "## MEMÓRIAS DE CÉLULAS\n",
    "\n",
    "No Jupyter todas os dados de entrada e os resultados processsados são guardados. Cada célula é definida conforme a figura abaixo. \n",
    "\n",
    "<img src=\"Figuras/entrada-saida-jupyter.png\" alt = \"Função\" align=\"center\" width=\"250\">\n",
    "A variável `In` recebe os dados de entrada; `ans` recebe o imediato resultado anterior; `Out` recebe os resultados processados. Dessa forma, temos um histórico dos comandos digitados e resultados."
   ]
  },
  {
   "cell_type": "markdown",
   "metadata": {},
   "source": [
    "Para acessar os dados de entrada use:\n",
    "```julia\n",
    "In[número_célula]\n",
    "```"
   ]
  },
  {
   "cell_type": "code",
   "execution_count": 5,
   "metadata": {
    "scrolled": true
   },
   "outputs": [
    {
     "data": {
      "text/plain": [
       "6.159287546660801"
      ]
     },
     "execution_count": 5,
     "metadata": {},
     "output_type": "execute_result"
    }
   ],
   "source": [
    "4 + log(125)/sqrt(5)"
   ]
  },
  {
   "cell_type": "code",
   "execution_count": 6,
   "metadata": {
    "scrolled": true
   },
   "outputs": [
    {
     "data": {
      "text/plain": [
       "7962624"
      ]
     },
     "execution_count": 6,
     "metadata": {},
     "output_type": "execute_result"
    }
   ],
   "source": [
    "(5 + 19)^5"
   ]
  },
  {
   "cell_type": "code",
   "execution_count": 8,
   "metadata": {},
   "outputs": [
    {
     "data": {
      "text/plain": [
       "\"4 + log(125)/sqrt(5)\""
      ]
     },
     "execution_count": 8,
     "metadata": {},
     "output_type": "execute_result"
    }
   ],
   "source": [
    "In[5]"
   ]
  },
  {
   "cell_type": "markdown",
   "metadata": {},
   "source": [
    "Cálculo anterior:"
   ]
  },
  {
   "cell_type": "code",
   "execution_count": 9,
   "metadata": {
    "scrolled": true
   },
   "outputs": [
    {
     "data": {
      "text/plain": [
       "\"4 + log(125)/sqrt(5)\""
      ]
     },
     "execution_count": 9,
     "metadata": {},
     "output_type": "execute_result"
    }
   ],
   "source": [
    "ans"
   ]
  },
  {
   "cell_type": "markdown",
   "metadata": {},
   "source": [
    "Para acessar os dados de saída use:\n",
    "```julia\n",
    "Out[número_célula]\n",
    "```"
   ]
  },
  {
   "cell_type": "code",
   "execution_count": 11,
   "metadata": {
    "scrolled": true
   },
   "outputs": [
    {
     "data": {
      "text/plain": [
       "6.159287546660801"
      ]
     },
     "execution_count": 11,
     "metadata": {},
     "output_type": "execute_result"
    }
   ],
   "source": [
    "Out[5] "
   ]
  },
  {
   "cell_type": "markdown",
   "metadata": {},
   "source": [
    "**Historico Geral**\n",
    "\n",
    "Caso seja necessário vizualizar todos os dados de entrada e todos os dados de saída das células, use `In` e `Out`."
   ]
  },
  {
   "cell_type": "code",
   "execution_count": 10,
   "metadata": {
    "scrolled": true
   },
   "outputs": [
    {
     "data": {
      "text/plain": [
       "Dict{Int64,String} with 1 entry:\n",
       "  10 => \"In\""
      ]
     },
     "execution_count": 10,
     "metadata": {},
     "output_type": "execute_result"
    }
   ],
   "source": [
    "In"
   ]
  },
  {
   "cell_type": "code",
   "execution_count": 14,
   "metadata": {
    "scrolled": true
   },
   "outputs": [
    {
     "data": {
      "text/plain": [
       "Dict{Int64,Any} with 8 entries:\n",
       "  9  => \"4 + log(125)/sqrt(5)\"\n",
       "  13 => Dict{Int64,Any}(#= circular reference @-1 =#)\n",
       "  14 => Dict{Int64,Any}(#= circular reference @-1 =#)\n",
       "  11 => 6.15929\n",
       "  5  => 6.15929\n",
       "  8  => \"4 + log(125)/sqrt(5)\"\n",
       "  6  => 7962624\n",
       "  12 => Dict(2=>\"oct(128) , hex(128)\",11=>\"Out[5] \",7=>\"In[21]\",9=>\"ans\",10=>\"O…"
      ]
     },
     "execution_count": 14,
     "metadata": {},
     "output_type": "execute_result"
    }
   ],
   "source": [
    "Out"
   ]
  },
  {
   "cell_type": "markdown",
   "metadata": {},
   "source": [
    "Para limpar todo o histórico de comandos use: \n",
    "```julia\n",
    "clear_history()\n",
    "```"
   ]
  },
  {
   "cell_type": "markdown",
   "metadata": {},
   "source": [
    "## CALCULAR O TEMPO DE PROCESSAMENTO"
   ]
  },
  {
   "cell_type": "markdown",
   "metadata": {},
   "source": [
    "**@time**\n",
    "\n",
    "A macro `@time` mede o tempo de processamento para executar uma expressão, o número de alocações e o número total de bytes de sua execução."
   ]
  },
  {
   "cell_type": "code",
   "execution_count": 67,
   "metadata": {
    "scrolled": true
   },
   "outputs": [
    {
     "name": "stdout",
     "output_type": "stream",
     "text": [
      "  0.000119 seconds (18 allocations: 384 bytes)\n"
     ]
    },
    {
     "data": {
      "text/plain": [
       "4.543647706547242"
      ]
     },
     "execution_count": 67,
     "metadata": {},
     "output_type": "execute_result"
    }
   ],
   "source": [
    "@time sqrt((2*pi + sqrt(log(2569854.5415263))/(sin(52)*cos(log(25948.1452))))^100)*exp(sin(0.8985424))"
   ]
  },
  {
   "cell_type": "markdown",
   "metadata": {},
   "source": [
    "**@timev**\n",
    "\n",
    "Esta é uma versão detalhada da macro `@time`, acrescenta:\n",
    "- elapsed time : tempo de processamento;\n",
    "- bytes allocated: \n",
    "- pool allocs:"
   ]
  },
  {
   "cell_type": "code",
   "execution_count": 69,
   "metadata": {},
   "outputs": [
    {
     "name": "stdout",
     "output_type": "stream",
     "text": [
      "  0.000113 seconds (18 allocations: 384 bytes)\n",
      "elapsed time (ns): 113480\n",
      "bytes allocated:   384\n",
      "pool allocs:       18\n"
     ]
    },
    {
     "data": {
      "text/plain": [
       "4.543647706547242"
      ]
     },
     "execution_count": 69,
     "metadata": {},
     "output_type": "execute_result"
    }
   ],
   "source": [
    "@timev sqrt((2*pi + sqrt(log(2569854.5415263))/(sin(52)*cos(log(25948.1452))))^100)*exp(sin(0.8985424))"
   ]
  },
  {
   "cell_type": "markdown",
   "metadata": {},
   "source": [
    "**@elapsed**\n",
    "\n",
    "A macro para avaliar o tempo de processamento para executar uma expressão descartando o valor resultante."
   ]
  },
  {
   "cell_type": "code",
   "execution_count": 71,
   "metadata": {},
   "outputs": [
    {
     "data": {
      "text/plain": [
       "5.1633e-5"
      ]
     },
     "execution_count": 71,
     "metadata": {},
     "output_type": "execute_result"
    }
   ],
   "source": [
    "@elapsed sqrt((2*pi + sqrt(log(2569854.5415263))/(sin(52)*cos(log(25948.1452))))^100)*exp(sin(0.8985424))"
   ]
  },
  {
   "cell_type": "markdown",
   "metadata": {},
   "source": [
    "## PRECISÃO DE NUMEROS SIGNIFICATIVOS"
   ]
  },
  {
   "cell_type": "markdown",
   "metadata": {},
   "source": [
    "Numero PI especificado número de dígitos após a casa decimal :"
   ]
  },
  {
   "cell_type": "code",
   "execution_count": 6,
   "metadata": {
    "scrolled": false
   },
   "outputs": [
    {
     "data": {
      "text/plain": [
       "3.14159265"
      ]
     },
     "execution_count": 6,
     "metadata": {},
     "output_type": "execute_result"
    }
   ],
   "source": [
    "round(pi, 8)"
   ]
  },
  {
   "cell_type": "markdown",
   "metadata": {},
   "source": [
    "Arredonda para o inteiro próximo mais baixo:"
   ]
  },
  {
   "cell_type": "code",
   "execution_count": 45,
   "metadata": {},
   "outputs": [
    {
     "data": {
      "text/plain": [
       "3.0"
      ]
     },
     "execution_count": 45,
     "metadata": {},
     "output_type": "execute_result"
    }
   ],
   "source": [
    "floor(3.14159265)"
   ]
  },
  {
   "cell_type": "markdown",
   "metadata": {},
   "source": [
    "Arredonda para o inteiro próximo mais alto"
   ]
  },
  {
   "cell_type": "code",
   "execution_count": 46,
   "metadata": {
    "scrolled": true
   },
   "outputs": [
    {
     "data": {
      "text/plain": [
       "4.0"
      ]
     },
     "execution_count": 46,
     "metadata": {},
     "output_type": "execute_result"
    }
   ],
   "source": [
    "ceil(3.14159265)"
   ]
  },
  {
   "cell_type": "markdown",
   "metadata": {},
   "source": [
    "Arredonda descartando os número após a vírgula:"
   ]
  },
  {
   "cell_type": "code",
   "execution_count": 31,
   "metadata": {},
   "outputs": [
    {
     "data": {
      "text/plain": [
       "3.0"
      ]
     },
     "execution_count": 31,
     "metadata": {},
     "output_type": "execute_result"
    }
   ],
   "source": [
    "trunc(3.999)"
   ]
  },
  {
   "cell_type": "markdown",
   "metadata": {},
   "source": [
    "## FUNÇÕES DE IMPRESSÃO"
   ]
  },
  {
   "cell_type": "markdown",
   "metadata": {},
   "source": [
    "**Função print()**\n",
    "\n",
    "Escreve (para o fluxo de saída padrão) uma representação textual ou um valor se houver. A representação usada pelo comando inclui formatação mínima."
   ]
  },
  {
   "cell_type": "code",
   "execution_count": 41,
   "metadata": {
    "scrolled": true
   },
   "outputs": [
    {
     "name": "stdout",
     "output_type": "stream",
     "text": [
      "0.7071067811865476"
     ]
    }
   ],
   "source": [
    "print(sind(45))"
   ]
  },
  {
   "cell_type": "markdown",
   "metadata": {},
   "source": [
    "**Comando display**\n",
    "\n",
    "Semelhante à função `print()`, utiliza recursos mais elaborados de visualização. É excelente para imprimir na tela o resultado de várias expressões em linhas."
   ]
  },
  {
   "cell_type": "code",
   "execution_count": 48,
   "metadata": {},
   "outputs": [
    {
     "data": {
      "text/plain": [
       "0.7071067811865476"
      ]
     },
     "metadata": {},
     "output_type": "display_data"
    }
   ],
   "source": [
    "display(sind(45))"
   ]
  },
  {
   "cell_type": "code",
   "execution_count": 50,
   "metadata": {
    "scrolled": true
   },
   "outputs": [
    {
     "data": {
      "text/plain": [
       "0.7071067811865476"
      ]
     },
     "metadata": {},
     "output_type": "display_data"
    },
    {
     "data": {
      "text/plain": [
       "0.9975640502598242"
      ]
     },
     "metadata": {},
     "output_type": "display_data"
    },
    {
     "data": {
      "text/plain": [
       "(nothing, nothing)"
      ]
     },
     "execution_count": 50,
     "metadata": {},
     "output_type": "execute_result"
    }
   ],
   "source": [
    "display(sind(45)), display(sind(86))"
   ]
  },
  {
   "cell_type": "markdown",
   "metadata": {},
   "source": [
    "**Macro @show()**\n",
    "\n",
    "É uma macro que exibe a expressão e o resultado do cálculo."
   ]
  },
  {
   "cell_type": "code",
   "execution_count": 53,
   "metadata": {
    "scrolled": true
   },
   "outputs": [
    {
     "name": "stdout",
     "output_type": "stream",
     "text": [
      "sind(45) = 0.7071067811865476\n"
     ]
    },
    {
     "data": {
      "text/plain": [
       "0.7071067811865476"
      ]
     },
     "execution_count": 53,
     "metadata": {},
     "output_type": "execute_result"
    }
   ],
   "source": [
    "@show sind(45)"
   ]
  }
 ],
 "metadata": {
  "anaconda-cloud": {},
  "kernelspec": {
   "display_name": "Julia 1.2.0",
   "language": "julia",
   "name": "julia-1.2"
  },
  "language_info": {
   "file_extension": ".jl",
   "mimetype": "application/julia",
   "name": "julia",
   "version": "1.2.0"
  },
  "latex_envs": {
   "LaTeX_envs_menu_present": true,
   "autocomplete": true,
   "bibliofile": "biblio.bib",
   "cite_by": "apalike",
   "current_citInitial": 1,
   "eqLabelWithNumbers": true,
   "eqNumInitial": 1,
   "hotkeys": {
    "equation": "Ctrl-E",
    "itemize": "Ctrl-I"
   },
   "labels_anchors": false,
   "latex_user_defs": false,
   "report_style_numbering": false,
   "user_envs_cfg": false
  }
 },
 "nbformat": 4,
 "nbformat_minor": 2
}
