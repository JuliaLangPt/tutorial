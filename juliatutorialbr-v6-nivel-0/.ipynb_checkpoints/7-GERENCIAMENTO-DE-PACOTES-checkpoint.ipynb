{
 "cells": [
  {
   "cell_type": "markdown",
   "metadata": {},
   "source": [
    "# GERENCIAMENTO DE PACOTES"
   ]
  },
  {
   "cell_type": "markdown",
   "metadata": {},
   "source": [
    "Julia possui um módulo gerenciador de pacotes integrado escrito totalmente em Julia chamado de **\"Pkg\"** que foi totalmente reformulado para a versão 1.0.x. O módulo `Pkg()` é muito versátil e permite instalar e remover pacotes, listar pacotes instalados e disponiveis no respositório oficial, resolver dependências, realizar atualizações e outras funcionalidades. \n",
    "\n",
    "Todos os pacotes, incluíndo a própria linguagem Julia, estão contidos em repositórios no [GitHub](https://www.github.com). Os pacotes são classificados em registrados (registered packages) e não registrados (unregistered package). A lista de pacotes de Julia registrados inclui mais de 1900 e pode ser encontrada em http://pkg.julialang.org."
   ]
  },
  {
   "cell_type": "markdown",
   "metadata": {},
   "source": [
    "## DIRETÓRIO DE PACOTES\n",
    "\n",
    "Os pacotes baixados dos repositórios do GitHub são armazenados em um diretório na máquina local dado por: ```C:\\users\\username\\.julia\\dev``` para sistemas operacionais Windows ou ```/home/usuário/.julia/dev/ para Linux```."
   ]
  },
  {
   "cell_type": "code",
   "execution_count": 1,
   "metadata": {},
   "outputs": [],
   "source": [
    "using Pkg"
   ]
  },
  {
   "cell_type": "code",
   "execution_count": 2,
   "metadata": {},
   "outputs": [
    {
     "data": {
      "text/plain": [
       "\"/home/pedrohnv/.julia/dev\""
      ]
     },
     "execution_count": 2,
     "metadata": {},
     "output_type": "execute_result"
    }
   ],
   "source": [
    "Pkg.devdir()"
   ]
  },
  {
   "cell_type": "markdown",
   "metadata": {},
   "source": [
    "## LISTANTO PACOTES INSTALADOS\n",
    "\n",
    "A função `Pkg.installed()` retorna um dicionário contendo os nomes e versão dos pacotes instalados."
   ]
  },
  {
   "cell_type": "code",
   "execution_count": 3,
   "metadata": {
    "scrolled": false
   },
   "outputs": [
    {
     "data": {
      "text/plain": [
       "Dict{String,Union{Nothing, VersionNumber}} with 11 entries:\n",
       "  \"CSV\"                  => v\"0.5.12\"\n",
       "  \"NumericalIntegration\" => v\"0.2.1\"\n",
       "  \"Measurements\"         => v\"2.1.1\"\n",
       "  \"LinearAlgebra\"        => nothing\n",
       "  \"IJulia\"               => v\"1.20.0\"\n",
       "  \"Plots\"                => v\"0.26.3\"\n",
       "  \"HCubature\"            => v\"1.4.0\"\n",
       "  \"Unitful\"              => v\"0.17.0\"\n",
       "  \"DataFrames\"           => v\"0.19.4\"\n",
       "  \"SpecialFunctions\"     => v\"0.8.0\"\n",
       "  \"FFTW\"                 => v\"1.0.0\""
      ]
     },
     "execution_count": 3,
     "metadata": {},
     "output_type": "execute_result"
    }
   ],
   "source": [
    "Pkg.installed()"
   ]
  },
  {
   "cell_type": "markdown",
   "metadata": {},
   "source": [
    "`Pkg.status()` Imprime um resumo dos pacotes que estão instalados e a versão, dividindo-os entre os essenciais(required) e os adicionais(additional). Caso ocorra o erro `ErrorException`(\"Não é possível ler o diretório METADATA\") ao executar `Pkg.status()`, execute `Pkg.init()` para criar as pastas do repositório de pacotes e clonar o arquivo METADATA do GitHub."
   ]
  },
  {
   "cell_type": "code",
   "execution_count": 4,
   "metadata": {},
   "outputs": [
    {
     "name": "stdout",
     "output_type": "stream",
     "text": [
      "\u001b[32m\u001b[1m    Status\u001b[22m\u001b[39m `~/.julia/environments/v1.2/Project.toml`\n",
      " \u001b[90m [336ed68f]\u001b[39m\u001b[37m CSV v0.5.12\u001b[39m\n",
      " \u001b[90m [a93c6f00]\u001b[39m\u001b[37m DataFrames v0.19.4\u001b[39m\n",
      " \u001b[90m [7a1cc6ca]\u001b[39m\u001b[37m FFTW v1.0.0\u001b[39m\n",
      " \u001b[90m [19dc6840]\u001b[39m\u001b[37m HCubature v1.4.0\u001b[39m\n",
      " \u001b[90m [7073ff75]\u001b[39m\u001b[37m IJulia v1.20.0\u001b[39m\n",
      " \u001b[90m [eff96d63]\u001b[39m\u001b[37m Measurements v2.1.1\u001b[39m\n",
      " \u001b[90m [5f557876]\u001b[39m\u001b[37m NumericalIntegration v0.2.1 [`~/.julia/dev/NumericalIntegration`]\u001b[39m\n",
      " \u001b[90m [91a5bcdd]\u001b[39m\u001b[37m Plots v0.26.3\u001b[39m\n",
      " \u001b[90m [276daf66]\u001b[39m\u001b[37m SpecialFunctions v0.8.0\u001b[39m\n",
      " \u001b[90m [1986cc42]\u001b[39m\u001b[37m Unitful v0.17.0\u001b[39m\n",
      " \u001b[90m [37e2e46d]\u001b[39m\u001b[37m LinearAlgebra \u001b[39m\n"
     ]
    }
   ],
   "source": [
    "Pkg.status()"
   ]
  },
  {
   "cell_type": "markdown",
   "metadata": {},
   "source": [
    "## TESTES DOS PACOTES INSTALADOS\n",
    "\n",
    "`Pkg.test()` executa os testes para todos os pacotes instalados. Um pacote é testado executando seu arquivo de testes (runtest.jl) e de suas dependencias de testes (REQUIRE) localizados no diretório /home/USUÁRIO/.julia/dev/NOME_PACOTE/test. O arquivo runtest.jl contém comandos que testam as funcionalidades do pacote e caso todos os teses sejam realizados com sucesso, será exibida a mensagem \"tests passed\" caso contrário \"Test Failed\". A realização de testes é importante para verificar se há conflitos ou erros de alguma dependência entre os pacotes instalados e dessa forma manter a estabilidade dos pacotes escritos em Julia. Para executar testes de um pacote específico use:\n",
    "```julia\n",
    "Pkg.test(\"Nome_pacote\")\n",
    "```"
   ]
  },
  {
   "cell_type": "markdown",
   "metadata": {},
   "source": [
    "## ATUALIZAÇÃO DE PACOTES\n",
    "\n",
    "A atualização de todos os pacotes (é recomendado atualizar todos os pacotes a fim de evitar dependências não resolvidas) é realizada através da função `Pkg.update()`. Ao executar esta função, é realizado novas alterações no aquivo METADATA (/home/USUARIO/.julia/v1.2/) e será consultado se novas versões do pacote registrado foram publicadas. Depois disso, `Pkg.update()` tenta atualizar pacotes que são verificados em um ramo e não sujos (ou seja, não foram feitas alterações nos arquivos rastreados pelo git), puxando as alterações do repositório upstream do pacote. As mudanças a montante só serão aplicadas se nenhuma fusão ou rebase for necessária - ou seja, se o ramo pode ser [\"encaminhado rapidamente\"](https://git-scm.com/book/pt-br/v2/Git-Branching-Basic-Branching-and-Merging). Se o ramo não puder ser encaminhado rapidamente, assume-se que você está trabalhando nisso e atualizará o repositório você mesmo. \n",
    "\n",
    "É uma boa prática executar este comando periodicamente para manter pacotes na condição mais atualizada (NAGAR, 2017)"
   ]
  },
  {
   "cell_type": "code",
   "execution_count": 5,
   "metadata": {
    "scrolled": true
   },
   "outputs": [
    {
     "name": "stdout",
     "output_type": "stream",
     "text": [
      "\u001b[32m\u001b[1m  Updating\u001b[22m\u001b[39m registry at `~/.julia/registries/General`\n",
      "\u001b[32m\u001b[1m  Updating\u001b[22m\u001b[39m git-repo `https://github.com/JuliaRegistries/General.git`\n",
      "\u001b[?25l\u001b[2K\u001b[?25h\u001b[32m\u001b[1m Resolving\u001b[22m\u001b[39m package versions...\n",
      "\u001b[32m\u001b[1m  Updating\u001b[22m\u001b[39m `~/.julia/environments/v1.2/Project.toml`\n",
      "\u001b[90m [no changes]\u001b[39m\n",
      "\u001b[32m\u001b[1m  Updating\u001b[22m\u001b[39m `~/.julia/environments/v1.2/Manifest.toml`\n",
      "\u001b[90m [no changes]\u001b[39m\n"
     ]
    }
   ],
   "source": [
    "Pkg.update()"
   ]
  },
  {
   "cell_type": "markdown",
   "metadata": {},
   "source": [
    "## INSTALAÇÃO DE PACOTES\n",
    "\n",
    "O gerente de pacotes de Julia é declarativo e não imperativo. Isso significa que ao ser executado a função de instalação de pacotes, o gerenciador fará a verificação de versão do pacote, download dos arquivos e solução de dependências de forma optmizada. De forma resumida, o processo de instalação de um pacote segue os seguintes passos:\n",
    "\n",
    "1. O nome do pacote é adicionado ao arquivo REQUIRE localizado em ```C:\\users\\username\\.julia\\dev``` ou ```/home/USUARIO/.julia/dev```; \n",
    "\n",
    "2. a função `Pkg.resolve()` é executado automaticamente e então é realizada uma verificação no arquivo REQUIRE dos pacotes que deverão ser instalados.\n",
    "\n",
    "3. É verificado no arquivo METADATA qual é a versão mais atual e compatível do pacote com a versão da linguagem Julia instalada;\n",
    "\n",
    "4. Os arquivos do pacote são clonados do repositório do Github para o diretório ```home/USUARIO/.julia/dev/Nome_pacote``` na máquina do usuário;\n",
    "\n",
    "5. A função `Pkg.resolve()` procura e resolve dependências clonando outros pacotes do GitHub se necessários.\n",
    "\n",
    "A linguagem Julia possui pacotes registrados e não registraos (não adicionados ao diretório METADATA) listados na página `www.pkg.julialang.org`. Pacotes não registrados são projetos feitos por programadores individuais ou empresas, disponibilizados em repositórios do GitHub. É importante ter bastante cuidado ao instalar pacotes não registrados pois pode comprometer a instabilidade e segurança do sistema. Os pacotes utilizados neste livro foram:\n",
    "\n",
    "|Registrados                                                                           |\n",
    "|:------------------------------------------------------------------------------------:|\n",
    "| IJulia, PyCall, Plots, GR, PlotlyJS, PyPlot, XLSX, Maxima, SymPy, LsqFit             |\n",
    "| Interact, Compose, Compat, BenchmarkTools, LaTeXStrings, PGFPlots, PkgDev            |\n",
    "\n",
    "\n",
    "| Não Registrados                                                                      |\n",
    "|:------------------------------------------------------------------------------------:|\n",
    "| NumericalMath, CalcCL(projeto teste didático)                                        |\n",
    "    \n",
    "    \n",
    "Para instalar um pacote registrado use:\n",
    "```julia\n",
    "using Pkg\n",
    "Pkg.add(\"Nome_Pacote\")\n",
    "```"
   ]
  },
  {
   "cell_type": "code",
   "execution_count": 6,
   "metadata": {
    "scrolled": true
   },
   "outputs": [
    {
     "name": "stdout",
     "output_type": "stream",
     "text": [
      "\u001b[32m\u001b[1m Resolving\u001b[22m\u001b[39m package versions...\n",
      "\u001b[32m\u001b[1m  Updating\u001b[22m\u001b[39m `~/.julia/environments/v1.2/Project.toml`\n",
      " \u001b[90m [24249f21]\u001b[39m\u001b[92m + SymPy v1.0.6\u001b[39m\n",
      "\u001b[32m\u001b[1m  Updating\u001b[22m\u001b[39m `~/.julia/environments/v1.2/Manifest.toml`\n",
      " \u001b[90m [00ebfdb7]\u001b[39m\u001b[92m + CSTParser v0.6.2\u001b[39m\n",
      " \u001b[90m [1914dd2f]\u001b[39m\u001b[92m + MacroTools v0.5.1\u001b[39m\n",
      " \u001b[90m [438e738f]\u001b[39m\u001b[92m + PyCall v1.91.2\u001b[39m\n",
      " \u001b[90m [24249f21]\u001b[39m\u001b[92m + SymPy v1.0.6\u001b[39m\n",
      " \u001b[90m [0796e94c]\u001b[39m\u001b[92m + Tokenize v0.5.6\u001b[39m\n"
     ]
    }
   ],
   "source": [
    "Pkg.add(\"SymPy\")"
   ]
  },
  {
   "cell_type": "markdown",
   "metadata": {},
   "source": [
    "Para instalar um pacote não registrado, basta executar a função `Pkg.clone()` da seguinte forma: \n",
    "```julia\n",
    "Pkg.clone(\"https://github.com/usuario/pacote.jl.git\")\n",
    "```\n",
    "Para instalar o `NumericalMath` execute:"
   ]
  },
  {
   "cell_type": "code",
   "execution_count": 7,
   "metadata": {
    "scrolled": false
   },
   "outputs": [
    {
     "name": "stdout",
     "output_type": "stream",
     "text": [
      "\u001b[32m\u001b[1m  Updating\u001b[22m\u001b[39m git-repo `https://github.com/dextorious/NumericalIntegration.jl`\n",
      "\u001b[?25l\u001b[2K"
     ]
    },
    {
     "name": "stderr",
     "output_type": "stream",
     "text": [
      "┌ Warning: Pkg.clone is only kept for legacy CI script reasons, please use `add`\n",
      "└ @ Pkg.API /buildworker/worker/package_linux64/build/usr/share/julia/stdlib/v1.2/Pkg/src/API.jl:406\n"
     ]
    },
    {
     "name": "stdout",
     "output_type": "stream",
     "text": [
      "\u001b[?25h\u001b[32m\u001b[1m Resolving\u001b[22m\u001b[39m package versions...\n"
     ]
    },
    {
     "name": "stderr",
     "output_type": "stream",
     "text": [
      "┌ Info: Path `/home/pedrohnv/.julia/dev/NumericalIntegration` exists and looks like the correct package, using existing path\n",
      "└ @ Pkg.Types /buildworker/worker/package_linux64/build/usr/share/julia/stdlib/v1.2/Pkg/src/Types.jl:535\n"
     ]
    },
    {
     "name": "stdout",
     "output_type": "stream",
     "text": [
      "\u001b[32m\u001b[1m  Updating\u001b[22m\u001b[39m `~/.julia/environments/v1.2/Project.toml`\n",
      "\u001b[90m [no changes]\u001b[39m\n",
      "\u001b[32m\u001b[1m  Updating\u001b[22m\u001b[39m `~/.julia/environments/v1.2/Manifest.toml`\n",
      "\u001b[90m [no changes]\u001b[39m\n"
     ]
    }
   ],
   "source": [
    "Pkg.clone(\"https://github.com/dextorious/NumericalIntegration.jl\")"
   ]
  },
  {
   "cell_type": "markdown",
   "metadata": {},
   "source": [
    "Sempre após instalar uma nova versão da linguagem Julia, execute `Pkg.build (\"IJulia\")`, a fim de reconstruir o pacote `iJulia` com esta nova versão."
   ]
  },
  {
   "cell_type": "markdown",
   "metadata": {},
   "source": [
    "## REMOÇÃO DE PACOTES\n",
    "\n",
    "Para desinstalar um pacote use: \n",
    "```julia\n",
    "Pkg.rm(\"nome_pacote\")\n",
    "```\n"
   ]
  },
  {
   "cell_type": "markdown",
   "metadata": {},
   "source": [
    "Desistalar o pacote gráfico `Winston.jl`."
   ]
  },
  {
   "cell_type": "code",
   "execution_count": 8,
   "metadata": {
    "scrolled": false
   },
   "outputs": [
    {
     "name": "stdout",
     "output_type": "stream",
     "text": [
      "\u001b[32m\u001b[1m  Updating\u001b[22m\u001b[39m `~/.julia/environments/v1.2/Project.toml`\n",
      " \u001b[90m [24249f21]\u001b[39m\u001b[91m - SymPy v1.0.6\u001b[39m\n",
      "\u001b[32m\u001b[1m  Updating\u001b[22m\u001b[39m `~/.julia/environments/v1.2/Manifest.toml`\n",
      " \u001b[90m [00ebfdb7]\u001b[39m\u001b[91m - CSTParser v0.6.2\u001b[39m\n",
      " \u001b[90m [1914dd2f]\u001b[39m\u001b[91m - MacroTools v0.5.1\u001b[39m\n",
      " \u001b[90m [438e738f]\u001b[39m\u001b[91m - PyCall v1.91.2\u001b[39m\n",
      " \u001b[90m [24249f21]\u001b[39m\u001b[91m - SymPy v1.0.6\u001b[39m\n",
      " \u001b[90m [0796e94c]\u001b[39m\u001b[91m - Tokenize v0.5.6\u001b[39m\n"
     ]
    }
   ],
   "source": [
    "Pkg.rm(\"SymPy\")"
   ]
  },
  {
   "cell_type": "markdown",
   "metadata": {},
   "source": [
    "## UTILIZANDO UM PACOTE INSTALADO\n",
    "\n",
    "Para usar um pacote devemos executar sem aspas e com letra inicial maiúscula o seguinte comando:\n",
    "```julia\n",
    "using \"Nome_do_pacote\"\n",
    "```"
   ]
  },
  {
   "cell_type": "code",
   "execution_count": 9,
   "metadata": {
    "scrolled": false
   },
   "outputs": [],
   "source": [
    "using NumericalIntegration"
   ]
  },
  {
   "cell_type": "code",
   "execution_count": 12,
   "metadata": {},
   "outputs": [
    {
     "data": {
      "text/plain": [
       "13//1"
      ]
     },
     "execution_count": 12,
     "metadata": {},
     "output_type": "execute_result"
    }
   ],
   "source": [
    "integrate([0, 1, 2, 3, 4], [-1, 0, 4, 5, 9])"
   ]
  },
  {
   "cell_type": "code",
   "execution_count": 13,
   "metadata": {},
   "outputs": [
    {
     "data": {
      "text/plain": [
       "Plots.GRBackend()"
      ]
     },
     "execution_count": 13,
     "metadata": {},
     "output_type": "execute_result"
    }
   ],
   "source": [
    "using Plots\n",
    "gr()"
   ]
  },
  {
   "cell_type": "code",
   "execution_count": 14,
   "metadata": {},
   "outputs": [
    {
     "data": {
      "image/svg+xml": [
       "<?xml version=\"1.0\" encoding=\"utf-8\"?>\n",
       "<svg xmlns=\"http://www.w3.org/2000/svg\" xmlns:xlink=\"http://www.w3.org/1999/xlink\" width=\"600\" height=\"400\" viewBox=\"0 0 2400 1600\">\n",
       "<defs>\n",
       "  <clipPath id=\"clip2300\">\n",
       "    <rect x=\"0\" y=\"0\" width=\"2400\" height=\"1600\"/>\n",
       "  </clipPath>\n",
       "</defs>\n",
       "<path clip-path=\"url(#clip2300)\" d=\"\n",
       "M0 1600 L2400 1600 L2400 0 L0 0  Z\n",
       "  \" fill=\"#ffffff\" fill-rule=\"evenodd\" fill-opacity=\"1\"/>\n",
       "<defs>\n",
       "  <clipPath id=\"clip2301\">\n",
       "    <rect x=\"480\" y=\"0\" width=\"1681\" height=\"1600\"/>\n",
       "  </clipPath>\n",
       "</defs>\n",
       "<path clip-path=\"url(#clip2300)\" d=\"\n",
       "M141.865 1487.47 L2352.76 1487.47 L2352.76 47.2441 L141.865 47.2441  Z\n",
       "  \" fill=\"#ffffff\" fill-rule=\"evenodd\" fill-opacity=\"1\"/>\n",
       "<defs>\n",
       "  <clipPath id=\"clip2302\">\n",
       "    <rect x=\"141\" y=\"47\" width=\"2212\" height=\"1441\"/>\n",
       "  </clipPath>\n",
       "</defs>\n",
       "<polyline clip-path=\"url(#clip2302)\" style=\"stroke:#000000; stroke-width:2; stroke-opacity:0.1; fill:none\" points=\"\n",
       "  204.437,1487.47 204.437,47.2441 \n",
       "  \"/>\n",
       "<polyline clip-path=\"url(#clip2302)\" style=\"stroke:#000000; stroke-width:2; stroke-opacity:0.1; fill:none\" points=\"\n",
       "  899.686,1487.47 899.686,47.2441 \n",
       "  \"/>\n",
       "<polyline clip-path=\"url(#clip2302)\" style=\"stroke:#000000; stroke-width:2; stroke-opacity:0.1; fill:none\" points=\"\n",
       "  1594.93,1487.47 1594.93,47.2441 \n",
       "  \"/>\n",
       "<polyline clip-path=\"url(#clip2302)\" style=\"stroke:#000000; stroke-width:2; stroke-opacity:0.1; fill:none\" points=\"\n",
       "  2290.18,1487.47 2290.18,47.2441 \n",
       "  \"/>\n",
       "<polyline clip-path=\"url(#clip2302)\" style=\"stroke:#000000; stroke-width:2; stroke-opacity:0.1; fill:none\" points=\"\n",
       "  141.865,1446.71 2352.76,1446.71 \n",
       "  \"/>\n",
       "<polyline clip-path=\"url(#clip2302)\" style=\"stroke:#000000; stroke-width:2; stroke-opacity:0.1; fill:none\" points=\"\n",
       "  141.865,1220.26 2352.76,1220.26 \n",
       "  \"/>\n",
       "<polyline clip-path=\"url(#clip2302)\" style=\"stroke:#000000; stroke-width:2; stroke-opacity:0.1; fill:none\" points=\"\n",
       "  141.865,993.811 2352.76,993.811 \n",
       "  \"/>\n",
       "<polyline clip-path=\"url(#clip2302)\" style=\"stroke:#000000; stroke-width:2; stroke-opacity:0.1; fill:none\" points=\"\n",
       "  141.865,767.359 2352.76,767.359 \n",
       "  \"/>\n",
       "<polyline clip-path=\"url(#clip2302)\" style=\"stroke:#000000; stroke-width:2; stroke-opacity:0.1; fill:none\" points=\"\n",
       "  141.865,540.908 2352.76,540.908 \n",
       "  \"/>\n",
       "<polyline clip-path=\"url(#clip2302)\" style=\"stroke:#000000; stroke-width:2; stroke-opacity:0.1; fill:none\" points=\"\n",
       "  141.865,314.457 2352.76,314.457 \n",
       "  \"/>\n",
       "<polyline clip-path=\"url(#clip2302)\" style=\"stroke:#000000; stroke-width:2; stroke-opacity:0.1; fill:none\" points=\"\n",
       "  141.865,88.0053 2352.76,88.0053 \n",
       "  \"/>\n",
       "<polyline clip-path=\"url(#clip2300)\" style=\"stroke:#000000; stroke-width:4; stroke-opacity:1; fill:none\" points=\"\n",
       "  141.865,1487.47 2352.76,1487.47 \n",
       "  \"/>\n",
       "<polyline clip-path=\"url(#clip2300)\" style=\"stroke:#000000; stroke-width:4; stroke-opacity:1; fill:none\" points=\"\n",
       "  141.865,1487.47 141.865,47.2441 \n",
       "  \"/>\n",
       "<polyline clip-path=\"url(#clip2300)\" style=\"stroke:#000000; stroke-width:4; stroke-opacity:1; fill:none\" points=\"\n",
       "  204.437,1487.47 204.437,1465.87 \n",
       "  \"/>\n",
       "<polyline clip-path=\"url(#clip2300)\" style=\"stroke:#000000; stroke-width:4; stroke-opacity:1; fill:none\" points=\"\n",
       "  899.686,1487.47 899.686,1465.87 \n",
       "  \"/>\n",
       "<polyline clip-path=\"url(#clip2300)\" style=\"stroke:#000000; stroke-width:4; stroke-opacity:1; fill:none\" points=\"\n",
       "  1594.93,1487.47 1594.93,1465.87 \n",
       "  \"/>\n",
       "<polyline clip-path=\"url(#clip2300)\" style=\"stroke:#000000; stroke-width:4; stroke-opacity:1; fill:none\" points=\"\n",
       "  2290.18,1487.47 2290.18,1465.87 \n",
       "  \"/>\n",
       "<polyline clip-path=\"url(#clip2300)\" style=\"stroke:#000000; stroke-width:4; stroke-opacity:1; fill:none\" points=\"\n",
       "  141.865,1446.71 175.028,1446.71 \n",
       "  \"/>\n",
       "<polyline clip-path=\"url(#clip2300)\" style=\"stroke:#000000; stroke-width:4; stroke-opacity:1; fill:none\" points=\"\n",
       "  141.865,1220.26 175.028,1220.26 \n",
       "  \"/>\n",
       "<polyline clip-path=\"url(#clip2300)\" style=\"stroke:#000000; stroke-width:4; stroke-opacity:1; fill:none\" points=\"\n",
       "  141.865,993.811 175.028,993.811 \n",
       "  \"/>\n",
       "<polyline clip-path=\"url(#clip2300)\" style=\"stroke:#000000; stroke-width:4; stroke-opacity:1; fill:none\" points=\"\n",
       "  141.865,767.359 175.028,767.359 \n",
       "  \"/>\n",
       "<polyline clip-path=\"url(#clip2300)\" style=\"stroke:#000000; stroke-width:4; stroke-opacity:1; fill:none\" points=\"\n",
       "  141.865,540.908 175.028,540.908 \n",
       "  \"/>\n",
       "<polyline clip-path=\"url(#clip2300)\" style=\"stroke:#000000; stroke-width:4; stroke-opacity:1; fill:none\" points=\"\n",
       "  141.865,314.457 175.028,314.457 \n",
       "  \"/>\n",
       "<polyline clip-path=\"url(#clip2300)\" style=\"stroke:#000000; stroke-width:4; stroke-opacity:1; fill:none\" points=\"\n",
       "  141.865,88.0053 175.028,88.0053 \n",
       "  \"/>\n",
       "<g clip-path=\"url(#clip2300)\">\n",
       "<text style=\"fill:#000000; fill-opacity:1; font-family:Arial,Helvetica Neue,Helvetica,sans-serif; font-size:48px; text-anchor:middle;\" transform=\"rotate(0, 204.437, 1541.47)\" x=\"204.437\" y=\"1541.47\">0</text>\n",
       "</g>\n",
       "<g clip-path=\"url(#clip2300)\">\n",
       "<text style=\"fill:#000000; fill-opacity:1; font-family:Arial,Helvetica Neue,Helvetica,sans-serif; font-size:48px; text-anchor:middle;\" transform=\"rotate(0, 899.686, 1541.47)\" x=\"899.686\" y=\"1541.47\">1</text>\n",
       "</g>\n",
       "<g clip-path=\"url(#clip2300)\">\n",
       "<text style=\"fill:#000000; fill-opacity:1; font-family:Arial,Helvetica Neue,Helvetica,sans-serif; font-size:48px; text-anchor:middle;\" transform=\"rotate(0, 1594.93, 1541.47)\" x=\"1594.93\" y=\"1541.47\">2</text>\n",
       "</g>\n",
       "<g clip-path=\"url(#clip2300)\">\n",
       "<text style=\"fill:#000000; fill-opacity:1; font-family:Arial,Helvetica Neue,Helvetica,sans-serif; font-size:48px; text-anchor:middle;\" transform=\"rotate(0, 2290.18, 1541.47)\" x=\"2290.18\" y=\"1541.47\">3</text>\n",
       "</g>\n",
       "<g clip-path=\"url(#clip2300)\">\n",
       "<text style=\"fill:#000000; fill-opacity:1; font-family:Arial,Helvetica Neue,Helvetica,sans-serif; font-size:48px; text-anchor:end;\" transform=\"rotate(0, 117.865, 1464.21)\" x=\"117.865\" y=\"1464.21\">-1</text>\n",
       "</g>\n",
       "<g clip-path=\"url(#clip2300)\">\n",
       "<text style=\"fill:#000000; fill-opacity:1; font-family:Arial,Helvetica Neue,Helvetica,sans-serif; font-size:48px; text-anchor:end;\" transform=\"rotate(0, 117.865, 1237.76)\" x=\"117.865\" y=\"1237.76\">0</text>\n",
       "</g>\n",
       "<g clip-path=\"url(#clip2300)\">\n",
       "<text style=\"fill:#000000; fill-opacity:1; font-family:Arial,Helvetica Neue,Helvetica,sans-serif; font-size:48px; text-anchor:end;\" transform=\"rotate(0, 117.865, 1011.31)\" x=\"117.865\" y=\"1011.31\">1</text>\n",
       "</g>\n",
       "<g clip-path=\"url(#clip2300)\">\n",
       "<text style=\"fill:#000000; fill-opacity:1; font-family:Arial,Helvetica Neue,Helvetica,sans-serif; font-size:48px; text-anchor:end;\" transform=\"rotate(0, 117.865, 784.859)\" x=\"117.865\" y=\"784.859\">2</text>\n",
       "</g>\n",
       "<g clip-path=\"url(#clip2300)\">\n",
       "<text style=\"fill:#000000; fill-opacity:1; font-family:Arial,Helvetica Neue,Helvetica,sans-serif; font-size:48px; text-anchor:end;\" transform=\"rotate(0, 117.865, 558.408)\" x=\"117.865\" y=\"558.408\">3</text>\n",
       "</g>\n",
       "<g clip-path=\"url(#clip2300)\">\n",
       "<text style=\"fill:#000000; fill-opacity:1; font-family:Arial,Helvetica Neue,Helvetica,sans-serif; font-size:48px; text-anchor:end;\" transform=\"rotate(0, 117.865, 331.957)\" x=\"117.865\" y=\"331.957\">4</text>\n",
       "</g>\n",
       "<g clip-path=\"url(#clip2300)\">\n",
       "<text style=\"fill:#000000; fill-opacity:1; font-family:Arial,Helvetica Neue,Helvetica,sans-serif; font-size:48px; text-anchor:end;\" transform=\"rotate(0, 117.865, 105.505)\" x=\"117.865\" y=\"105.505\">5</text>\n",
       "</g>\n",
       "<polyline clip-path=\"url(#clip2302)\" style=\"stroke:#009af9; stroke-width:4; stroke-opacity:1; fill:none\" points=\"\n",
       "  204.437,1446.71 899.686,1220.26 1594.93,314.457 2290.18,88.0053 \n",
       "  \"/>\n",
       "<circle clip-path=\"url(#clip2302)\" style=\"fill:#000000; stroke:none; fill-opacity:1\" cx=\"204.437\" cy=\"1446.71\" r=\"18\"/>\n",
       "<circle clip-path=\"url(#clip2302)\" style=\"fill:#e26f46; stroke:none; fill-opacity:1\" cx=\"204.437\" cy=\"1446.71\" r=\"14\"/>\n",
       "<circle clip-path=\"url(#clip2302)\" style=\"fill:#000000; stroke:none; fill-opacity:1\" cx=\"899.686\" cy=\"1220.26\" r=\"18\"/>\n",
       "<circle clip-path=\"url(#clip2302)\" style=\"fill:#e26f46; stroke:none; fill-opacity:1\" cx=\"899.686\" cy=\"1220.26\" r=\"14\"/>\n",
       "<circle clip-path=\"url(#clip2302)\" style=\"fill:#000000; stroke:none; fill-opacity:1\" cx=\"1594.93\" cy=\"314.457\" r=\"18\"/>\n",
       "<circle clip-path=\"url(#clip2302)\" style=\"fill:#e26f46; stroke:none; fill-opacity:1\" cx=\"1594.93\" cy=\"314.457\" r=\"14\"/>\n",
       "<circle clip-path=\"url(#clip2302)\" style=\"fill:#000000; stroke:none; fill-opacity:1\" cx=\"2290.18\" cy=\"88.0053\" r=\"18\"/>\n",
       "<circle clip-path=\"url(#clip2302)\" style=\"fill:#e26f46; stroke:none; fill-opacity:1\" cx=\"2290.18\" cy=\"88.0053\" r=\"14\"/>\n",
       "</svg>\n"
      ]
     },
     "execution_count": 14,
     "metadata": {},
     "output_type": "execute_result"
    }
   ],
   "source": [
    "plot([0, 1, 2, 3], [-1, 0, 4, 5], label=\"\")\n",
    "scatter!([0, 1, 2, 3], [-1, 0, 4, 5], label=\"\")"
   ]
  },
  {
   "cell_type": "markdown",
   "metadata": {},
   "source": [
    "## REFERENCIA BIBIOGRÁFICA"
   ]
  },
  {
   "cell_type": "markdown",
   "metadata": {
    "collapsed": true
   },
   "source": [
    "NAGAR, Sandeep. **Beginning Julia Programming: For Engineers and Scientists**. 1. ed. New York: SPRINGER, 2017"
   ]
  }
 ],
 "metadata": {
  "@webio": {
   "lastCommId": null,
   "lastKernelId": null
  },
  "anaconda-cloud": {},
  "kernelspec": {
   "display_name": "Julia 1.2.0",
   "language": "julia",
   "name": "julia-1.2"
  },
  "language_info": {
   "file_extension": ".jl",
   "mimetype": "application/julia",
   "name": "julia",
   "version": "1.2.0"
  },
  "latex_envs": {
   "LaTeX_envs_menu_present": true,
   "autocomplete": true,
   "bibliofile": "biblio.bib",
   "cite_by": "apalike",
   "current_citInitial": 1,
   "eqLabelWithNumbers": true,
   "eqNumInitial": 1,
   "hotkeys": {
    "equation": "Ctrl-E",
    "itemize": "Ctrl-I"
   },
   "labels_anchors": false,
   "latex_user_defs": false,
   "report_style_numbering": false,
   "user_envs_cfg": false
  }
 },
 "nbformat": 4,
 "nbformat_minor": 1
}
