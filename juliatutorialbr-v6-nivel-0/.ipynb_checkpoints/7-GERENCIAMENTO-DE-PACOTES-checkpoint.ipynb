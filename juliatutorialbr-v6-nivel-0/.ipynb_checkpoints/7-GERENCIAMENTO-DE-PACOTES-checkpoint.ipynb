{
 "cells": [
  {
   "cell_type": "markdown",
   "metadata": {},
   "source": [
    "# GERENCIAMENTO DE PACOTES"
   ]
  },
  {
   "cell_type": "markdown",
   "metadata": {},
   "source": [
    "Julia possui um módulo gerenciador de pacotes integrado escrito totalmente em Julia chamado de **\"Pkg\"** que foi totalmente reformulado para a versão 1.0.x. O módulo `Pkg()` é muito versátil e permite instalar e remover pacotes, listar pacotes instalados e disponiveis no respositório oficial, resolver dependências, realizar atualizações e outras funcionalidades. \n",
    "\n",
    "Todos os pacotes, incluíndo a própria linguagem Julia, estão contidos em repositórios no GitHub(www.github.com). Os pacotes são classificados em registrados (registered packages) e não registrados (unregistered package). A lista de pacotes de Julia registrados inclui mais de 1900 e pode ser encontrada em http://pkg.julialang.org. \n",
    "\n",
    "Atualmente (até Agosto de 2018) existem 1906 pacotes. Deste total, XXX são pacotes testados na versões v0.6.3 (versão anterior), v1.0.0 (versão atual) e v0.7.0-DEV (instável)."
   ]
  },
  {
   "cell_type": "markdown",
   "metadata": {},
   "source": [
    "## DIRETÓRIO DE PACOTES\n",
    "\n",
    "Os pacotes baixados dos repositórios do GitHub são armazenados em um diretório na máquina local dado por: ```C:\\users\\username\\.julia\\dev``` para sistemas operacionais Windows ou ```/home/usuário/.julia/dev/ para Linux```."
   ]
  },
  {
   "cell_type": "code",
   "execution_count": 1,
   "metadata": {
    "collapsed": true
   },
   "outputs": [],
   "source": [
    "using Pkg"
   ]
  },
  {
   "cell_type": "code",
   "execution_count": 2,
   "metadata": {
    "collapsed": false
   },
   "outputs": [
    {
     "data": {
      "text/plain": [
       "\"/home/jmarcellopereira/.julia/dev\""
      ]
     },
     "execution_count": 2,
     "metadata": {},
     "output_type": "execute_result"
    }
   ],
   "source": [
    "Pkg.devdir()"
   ]
  },
  {
   "cell_type": "markdown",
   "metadata": {},
   "source": [
    "## LISTANTO PACOTES INSTALADOS\n",
    "\n",
    "A função `Pkg.installed()` retorna um dicionário contendo os nomes e versão dos pacotes instalados."
   ]
  },
  {
   "cell_type": "code",
   "execution_count": 3,
   "metadata": {
    "collapsed": false,
    "scrolled": false
   },
   "outputs": [
    {
     "data": {
      "text/plain": [
       "Dict{String,Union{Nothing, VersionNumber}} with 11 entries:\n",
       "  \"CSV\"                  => v\"0.4.2\"\n",
       "  \"NumericalIntegration\" => v\"0.2.0+\"\n",
       "  \"PyCall\"               => v\"1.18.5\"\n",
       "  \"LaTeXStrings\"         => v\"1.0.3\"\n",
       "  \"SymPy\"                => v\"0.8.2\"\n",
       "  \"IJulia\"               => v\"1.14.1\"\n",
       "  \"Plots\"                => v\"0.21.0\"\n",
       "  \"PyPlot\"               => v\"2.6.3\"\n",
       "  \"HCubature\"            => v\"1.1.2\"\n",
       "  \"XLSX\"                 => v\"0.4.3\"\n",
       "  \"DataFrames\"           => v\"0.14.1\""
      ]
     },
     "execution_count": 3,
     "metadata": {},
     "output_type": "execute_result"
    }
   ],
   "source": [
    "Pkg.installed()"
   ]
  },
  {
   "cell_type": "markdown",
   "metadata": {},
   "source": [
    "`Pkg.status()` Imprime um resumo dos pacotes que estão instalados e a versão, dividindo-os entre os essenciais(required) e os adicionais(additional). Caso ocorra o erro `ErrorException`(\"Não é possível ler o diretório METADATA\") ao executar `Pkg.status()`, execute `Pkg.init()` para criar as pastas do repositório de pacotes e clonar o arquivo METADATA do GitHub."
   ]
  },
  {
   "cell_type": "code",
   "execution_count": 7,
   "metadata": {
    "collapsed": false
   },
   "outputs": [
    {
     "name": "stdout",
     "output_type": "stream",
     "text": [
      "\u001b[32m\u001b[1m    Status\u001b[22m\u001b[39m `~/.julia/environments/v1.0/Project.toml`\n",
      " \u001b[90m [336ed68f]\u001b[39m\u001b[37m CSV v0.4.2\u001b[39m\n",
      " \u001b[90m [a93c6f00]\u001b[39m\u001b[37m DataFrames v0.14.1\u001b[39m\n",
      " \u001b[90m [19dc6840]\u001b[39m\u001b[37m HCubature v1.1.2\u001b[39m\n",
      " \u001b[90m [7073ff75]\u001b[39m\u001b[37m IJulia v1.14.1\u001b[39m\n",
      " \u001b[90m [b964fa9f]\u001b[39m\u001b[37m LaTeXStrings v1.0.3\u001b[39m\n",
      " \u001b[90m [e7bfaba1]\u001b[39m\u001b[37m NumericalIntegration v0.2.0+ [`~/.julia/dev/NumericalIntegration`]\u001b[39m\n",
      " \u001b[90m [91a5bcdd]\u001b[39m\u001b[37m Plots v0.21.0\u001b[39m\n",
      " \u001b[90m [438e738f]\u001b[39m\u001b[37m PyCall v1.18.5\u001b[39m\n",
      " \u001b[90m [d330b81b]\u001b[39m\u001b[37m PyPlot v2.6.3\u001b[39m\n",
      " \u001b[90m [24249f21]\u001b[39m\u001b[37m SymPy v0.8.2\u001b[39m\n",
      " \u001b[90m [fdbf4ff8]\u001b[39m\u001b[37m XLSX v0.4.3\u001b[39m\n"
     ]
    }
   ],
   "source": [
    "Pkg.status()"
   ]
  },
  {
   "cell_type": "markdown",
   "metadata": {},
   "source": [
    "## TESTES DOS PACOTES INSTALADOS\n",
    "\n",
    "`Pkg.test()` executa os testes para todos os pacotes instalados. Um pacote é testado executando seu arquivo de testes (runtest.jl) e de suas dependencias de testes (REQUIRE) localizados no diretório /home/USUÁRIO/.julia/dev/NOME_PACOTE/test. O arquivo runtest.jl contém comandos que testam as funcionalidades do pacote e caso todos os teses sejam realizados com sucesso, será exibida a mensagem \"tests passed\" caso contrário \"Test Failed\". A realização de testes é importante para verificar se há conflitos ou erros de alguma dependência entre os pacotes instalados e dessa forma manter a estabilidade dos pacotes escritos em Julia. Para executar testes de um pacote específico use:\n",
    "```julia\n",
    "Pkg.test(\"Nome_pacote\")\n",
    "```"
   ]
  },
  {
   "cell_type": "markdown",
   "metadata": {},
   "source": [
    "Para testar esta fução, testare"
   ]
  },
  {
   "cell_type": "code",
   "execution_count": null,
   "metadata": {
    "collapsed": false,
    "scrolled": true
   },
   "outputs": [
    {
     "name": "stdout",
     "output_type": "stream",
     "text": [
      "\u001b[32m\u001b[1m   Testing\u001b[22m\u001b[39m CSV\n",
      "\u001b[32m\u001b[1m Resolving\u001b[22m\u001b[39m package versions...\n",
      "\u001b[32m\u001b[1m Installed\u001b[22m\u001b[39m DecFP ─ v0.4.6\n",
      "\u001b[32m\u001b[1m  Building\u001b[22m\u001b[39m DecFP → `~/.julia/packages/DecFP/Mxubh/deps/build.log`\n"
     ]
    }
   ],
   "source": [
    "Pkg.test(\"CSV\")"
   ]
  },
  {
   "cell_type": "markdown",
   "metadata": {},
   "source": [
    "## ATUALIZAÇÃO DE PACOTES\n",
    "\n",
    "A atualização de todos os pacotes (é recomendado atualizar todos os pacotes a fim de evitar dependências não resolvidas) é realizada através da função `Pkg.update()`. Ao executar esta função, é realizado novas alterações no aquivo METADATA (/home/USUARIO/.julia /v0.6/) e será consultado se novas versões do pacote registrado foram publicadas. Depois disso, `Pkg.update()` tenta atualizar pacotes que são verificados em um ramo e não sujos (ou seja, não foram feitas alterações nos arquivos rastreados pelo git), puxando as alterações do repositório upstream do pacote. As mudanças a montante só serão aplicadas se nenhuma fusão ou rebase for necessária - ou seja, se o ramo pode ser \"encaminhado rapidamente\" [https://git-scm.com/book/pt/v2/Git-Branching-Basic-Branching- e-Fusão]. Se o ramo não puder ser encaminhado rapidamente, assume-se que você está trabalhando nisso e atualizará o repositório você mesmo. \n",
    "\n",
    "É uma boa prática executar este comando periodicamente para manter pacotes na condição mais atualizada (NAGAR, 2017)"
   ]
  },
  {
   "cell_type": "code",
   "execution_count": 7,
   "metadata": {
    "collapsed": false,
    "scrolled": true
   },
   "outputs": [
    {
     "name": "stdout",
     "output_type": "stream",
     "text": [
      "\u001b[32m\u001b[1m  Updating\u001b[22m\u001b[39m registry at `~/.julia/registries/General`\n",
      "\u001b[32m\u001b[1m  Updating\u001b[22m\u001b[39m git-repo `https://github.com/JuliaRegistries/General.git`\n",
      "\u001b[?25l\u001b[2K\u001b[?25h\u001b[32m\u001b[1m Resolving\u001b[22m\u001b[39m package versions...\n",
      "\u001b[32m\u001b[1m  Updating\u001b[22m\u001b[39m `~/.julia/environments/v1.0/Project.toml`\n",
      "\u001b[90m [no changes]\u001b[39m\n",
      "\u001b[32m\u001b[1m  Updating\u001b[22m\u001b[39m `~/.julia/environments/v1.0/Manifest.toml`\n",
      "\u001b[90m [no changes]\u001b[39m\n"
     ]
    }
   ],
   "source": [
    "Pkg.update()"
   ]
  },
  {
   "cell_type": "code",
   "execution_count": 8,
   "metadata": {
    "collapsed": false
   },
   "outputs": [
    {
     "name": "stdout",
     "output_type": "stream",
     "text": [
      "\u001b[32m\u001b[1m  Updating\u001b[22m\u001b[39m registry at `~/.julia/registries/General`\n",
      "\u001b[32m\u001b[1m  Updating\u001b[22m\u001b[39m git-repo `https://github.com/JuliaRegistries/General.git`\n",
      "\u001b[?25l\u001b[2K\u001b[?25h\u001b[32m\u001b[1m Resolving\u001b[22m\u001b[39m package versions...\n",
      "\u001b[32m\u001b[1m  Updating\u001b[22m\u001b[39m `~/.julia/environments/v1.0/Project.toml`\n",
      "\u001b[90m [no changes]\u001b[39m\n",
      "\u001b[32m\u001b[1m  Updating\u001b[22m\u001b[39m `~/.julia/environments/v1.0/Manifest.toml`\n",
      "\u001b[90m [no changes]\u001b[39m\n"
     ]
    }
   ],
   "source": [
    "Pkg.update(\"SymPy\")"
   ]
  },
  {
   "cell_type": "markdown",
   "metadata": {},
   "source": [
    "## INSTALAÇÃO DE PACOTES\n",
    "\n",
    "O gerente de pacotes de Julia é declarativo e não imperativo. Isso significa que ao ser executado a função de instalação de pacotes, o gerenciador fará a verificação de versão do pacote, download dos arquivos e solução de dependências de forma optmizada. De forma resumida, o processo de instalação de um pacote segue os seguintes passos:\n",
    "\n",
    "1. O nome do pacote é adicionado ao arquivo REQUIRE localizado em ```C:\\users\\username\\.julia\\dev``` ou ```/home/USUARIO/.julia/dev```; \n",
    "\n",
    "2. a função `Pkg.resolve()` é executado automaticamente e então é realizada uma verificação no arquivo REQUIRE dos pacotes que deverão ser instalados.\n",
    "\n",
    "3. É verificado no arquivo METADATA qual é a versão mais atual e compatível do pacote com a versão da linguagem Julia instalada;\n",
    "\n",
    "4. Os arquivos do pacote são clonados do repositório do Github para o diretório ```home/USUARIO/.julia/dev/Nome_pacote``` na máquina do usuário;\n",
    "\n",
    "5. A função `Pkg.resolve()` procura e resolve dependências clonando outros pacotes do GitHub se necessários.\n",
    "\n",
    "A linguagem Julia possui pacotes registrados e não registraos (não adicionados ao diretório METADATA) listados na página `www.pkg.julialang.org`. Pacotes não registrados são projetos feitos por programadores individuais ou empresas, disponibilizados em repositórios do GitHub. É importante ter bastante cuidado ao instalar pacotes não registrados pois pode comprometer a instabilidade e segurança do sistema. Os pacotes utilizados neste livro foram:\n",
    "\n",
    "|Registrados                                                                           |\n",
    "|:------------------------------------------------------------------------------------:|\n",
    "| IJulia, PyCall, Plots, GR, PlotlyJS, PyPlot, XLSX, Maxima, SymPy, LsqFit             |\n",
    "| Interact, Compose, Compat, BenchmarkTools, LaTeXStrings, PGFPlots, PkgDev            |\n",
    "\n",
    "\n",
    "| Não Registrados                                                                      |\n",
    "|:------------------------------------------------------------------------------------:|\n",
    "| NumericalMath, CalcCL(projeto teste didático)                                        |\n",
    "    \n",
    "    \n",
    "Para instalar um pacote registrado use:\n",
    "```julia\n",
    "using Pkg\n",
    "Pkg.add(\"Nome_Pacote\")\n",
    "```"
   ]
  },
  {
   "cell_type": "code",
   "execution_count": 19,
   "metadata": {
    "collapsed": false,
    "scrolled": true
   },
   "outputs": [
    {
     "name": "stdout",
     "output_type": "stream",
     "text": [
      "\u001b[32m\u001b[1m Resolving\u001b[22m\u001b[39m package versions...\n",
      "\u001b[32m\u001b[1m  Updating\u001b[22m\u001b[39m `~/.julia/environments/v1.0/Project.toml`\n",
      "\u001b[90m [no changes]\u001b[39m\n",
      "\u001b[32m\u001b[1m  Updating\u001b[22m\u001b[39m `~/.julia/environments/v1.0/Manifest.toml`\n",
      "\u001b[90m [no changes]\u001b[39m\n"
     ]
    }
   ],
   "source": [
    "Pkg.add(\"SymPy\")"
   ]
  },
  {
   "cell_type": "markdown",
   "metadata": {},
   "source": [
    "Para instalar um pacote não registrado, basta executar a função `Pkg.clone()` da seguinte forma: \n",
    "```julia\n",
    "Pkg.clone(\"https://github.com/usuario/pacote.jl.git\")\n",
    "```\n",
    "Para instalar o `NumericalMath` execute:"
   ]
  },
  {
   "cell_type": "code",
   "execution_count": 3,
   "metadata": {
    "collapsed": false,
    "scrolled": false
   },
   "outputs": [
    {
     "name": "stderr",
     "output_type": "stream",
     "text": [
      "┌ Warning: Pkg.clone is only kept for legacy CI script reasons, please use `add`\n",
      "└ @ Pkg.API /buildworker/worker/package_linux64/build/usr/share/julia/stdlib/v1.0/Pkg/src/API.jl:468\n"
     ]
    },
    {
     "name": "stdout",
     "output_type": "stream",
     "text": [
      "\u001b[32m\u001b[1m  Updating\u001b[22m\u001b[39m registry at `~/.julia/registries/General`\n",
      "\u001b[32m\u001b[1m  Updating\u001b[22m\u001b[39m git-repo `https://github.com/JuliaRegistries/General.git`\n",
      "\u001b[2K\u001b[?25h[1mFetching:\u001b[22m\u001b[39m [========================================>]  100.0 %.0 %\u001b[32m\u001b[1m   Cloning\u001b[22m\u001b[39m git-repo `https://github.com/dextorious/NumericalIntegration.jl`\n",
      "\u001b[2K\u001b[?25h\u001b[32m\u001b[1m  Updating\u001b[22m\u001b[39m git-repo `https://github.com/dextorious/NumericalIntegration.jl`\n",
      "\u001b[2K\u001b[?25h[1mFetching:\u001b[22m\u001b[39m [========================================>]  100.0 %.0 %\u001b[32m\u001b[1m Resolving\u001b[22m\u001b[39m package versions...\n",
      "\u001b[32m\u001b[1m  Updating\u001b[22m\u001b[39m `~/.julia/environments/v1.0/Project.toml`\n",
      " \u001b[90m [e7bfaba1]\u001b[39m\u001b[92m + NumericalIntegration v0.2.0+ [`~/.julia/dev/NumericalIntegration`]\u001b[39m\n",
      "\u001b[32m\u001b[1m  Updating\u001b[22m\u001b[39m `~/.julia/environments/v1.0/Manifest.toml`\n",
      " \u001b[90m [e7bfaba1]\u001b[39m\u001b[92m + NumericalIntegration v0.2.0+ [`~/.julia/dev/NumericalIntegration`]\u001b[39m\n"
     ]
    }
   ],
   "source": [
    "Pkg.clone(\"https://github.com/dextorious/NumericalIntegration.jl\")"
   ]
  },
  {
   "cell_type": "markdown",
   "metadata": {},
   "source": [
    "## REMOÇÃO DE PACOTES\n",
    "\n",
    "Para desinstalar um pacote use: \n",
    "```julia\n",
    "Pkg.rm(\"nome_pacote\")\n",
    "```\n"
   ]
  },
  {
   "cell_type": "code",
   "execution_count": 15,
   "metadata": {
    "collapsed": false,
    "scrolled": false
   },
   "outputs": [
    {
     "name": "stdout",
     "output_type": "stream",
     "text": [
      "\u001b[32m\u001b[1m  Updating\u001b[22m\u001b[39m `~/.julia/environments/v1.0/Project.toml`\n",
      " \u001b[90m [24249f21]\u001b[39m\u001b[91m - SymPy v0.7.0\u001b[39m\n",
      "\u001b[32m\u001b[1m  Updating\u001b[22m\u001b[39m `~/.julia/environments/v1.0/Manifest.toml`\n",
      " \u001b[90m [438e738f]\u001b[39m\u001b[91m - PyCall v1.18.0\u001b[39m\n",
      " \u001b[90m [24249f21]\u001b[39m\u001b[91m - SymPy v0.7.0\u001b[39m\n"
     ]
    }
   ],
   "source": [
    "# Para desinstalar o `Winston`\n",
    "Pkg.rm(\"SymPy\")"
   ]
  },
  {
   "cell_type": "markdown",
   "metadata": {},
   "source": [
    "Sempre após instalar uma nova versão da linguagem Julia, execute `Pkg.build (\"IJulia\")`, a fim de reconstruir o pacote `iJulia` com esta nova versão."
   ]
  },
  {
   "cell_type": "markdown",
   "metadata": {},
   "source": [
    "## UTILIZANDO UM PACOTE INSTALADO\n",
    "\n",
    "Para usar um pacote devemos executar sem aspas e com letra inicial maiúscula o seguinte comando:\n",
    "```julia\n",
    "using \"Nome_do_pacote\"\n",
    "```"
   ]
  },
  {
   "cell_type": "code",
   "execution_count": 3,
   "metadata": {
    "collapsed": false,
    "scrolled": false
   },
   "outputs": [],
   "source": [
    "using NumericalIntegration"
   ]
  },
  {
   "cell_type": "code",
   "execution_count": 30,
   "metadata": {
    "collapsed": false
   },
   "outputs": [
    {
     "data": {
      "text/plain": [
       "Plots.PyPlotBackend()"
      ]
     },
     "execution_count": 30,
     "metadata": {},
     "output_type": "execute_result"
    }
   ],
   "source": [
    "using Plots\n",
    "pyplot()"
   ]
  },
  {
   "cell_type": "code",
   "execution_count": 37,
   "metadata": {
    "collapsed": false
   },
   "outputs": [
    {
     "data": {
      "image/png": "[encoded data removed]"
     },
     "execution_count": 37,
     "metadata": {},
     "output_type": "execute_result"
    }
   ],
   "source": [
    "plot([0, 1, 2, 3], [-1, 0, 4, 5], label=\"\")\n",
    "scatter!([0, 1, 2, 3], [-1, 0, 4, 5], label=\"\")"
   ]
  },
  {
   "cell_type": "code",
   "execution_count": 38,
   "metadata": {
    "collapsed": false
   },
   "outputs": [
    {
     "data": {
      "text/plain": [
       "13//1"
      ]
     },
     "execution_count": 38,
     "metadata": {},
     "output_type": "execute_result"
    }
   ],
   "source": [
    "integrate([0, 1, 2, 3, 4], [-1, 0, 4, 5, 9])"
   ]
  },
  {
   "cell_type": "markdown",
   "metadata": {},
   "source": [
    "## REFERENCIA BIBIOGRÁFICA"
   ]
  },
  {
   "cell_type": "markdown",
   "metadata": {
    "collapsed": true
   },
   "source": [
    "NAGAR, Sandeep. **Beginning Julia Programming: For Engineers and Scientists**. 1. ed. New York: SPRINGER, 2017"
   ]
  }
 ],
 "metadata": {
  "anaconda-cloud": {},
  "kernelspec": {
   "display_name": "Julia 1.0.2",
   "language": "julia",
   "name": "julia-1.0"
  },
  "language_info": {
   "file_extension": ".jl",
   "mimetype": "application/julia",
   "name": "julia",
   "version": "1.0.2"
  },
  "latex_envs": {
   "LaTeX_envs_menu_present": true,
   "autocomplete": true,
   "bibliofile": "biblio.bib",
   "cite_by": "apalike",
   "current_citInitial": 1,
   "eqLabelWithNumbers": true,
   "eqNumInitial": 1,
   "hotkeys": {
    "equation": "Ctrl-E",
    "itemize": "Ctrl-I"
   },
   "labels_anchors": false,
   "latex_user_defs": false,
   "report_style_numbering": false,
   "user_envs_cfg": false
  }
 },
 "nbformat": 4,
 "nbformat_minor": 1
}
