{
 "cells": [
  {
   "cell_type": "markdown",
   "metadata": {},
   "source": [
    "# CÁLCULOS COM MATEMÁTICA SIMBÓLICA PARTE I"
   ]
  },
  {
   "cell_type": "markdown",
   "metadata": {},
   "source": [
    "DEPRECIADO, muitas funções não funcionam. Os nomes devem ter sido alterados. Adaptar a partir do [tutorial em inglês](https://nbviewer.jupyter.org/github/JuliaPy/SymPy.jl/blob/master/examples/tutorial.ipynb)"
   ]
  },
  {
   "cell_type": "markdown",
   "metadata": {},
   "source": [
    "A computação simbólica trabalha com o cálculo de objetos matemáticos simbolicamente, no qual é possível manipular expressões matemáticas e realizar cálculos numéricos. Dessa forma podemos realizar operações matemáticas, como por exemplo encontrar as raízes de uma expressão $ax^2 + bx -c = 0$ de forma exata. \n",
    "\n",
    "A abordagem simbólica é de domínio dos Sistemas de Álgebra Computacional (CAS em ingles) e é trabalhado através de programas como o `Mathematica`, o `Maple` e o `SageMath`. Julia possui o pacote `SymPy.jl` que permite utilizar o `SymPy` do `Python` via pacote `Pycall.jl` para realizar calculos de matemática simbólica. Dessa forma, é possível fatorar números inteiros e polinômios, resolver sistemas lineares e não lineares, operar com opeerar com números complexos, simplificar expressões, calcular limites, integrais e diferenciar funções, resolver EDOs de primeira ordem, resolver grande parte das EDOs lineares de segunda ordem, além outras operações e funções. Julia também suporta uma série de funções especiais e é capaz de criar gráficos via `gnu-plot`, possui métodos para resolver equações polinômiais e manipular matrizes (por exemplo, escalonar e calcular autovalores e autovetores). "
   ]
  },
  {
   "cell_type": "markdown",
   "metadata": {},
   "source": [
    "## CARREGANDO PACOTE SYMPY E DEFININDO VARIÁVEIS SIMBÓLICAS\n",
    "\n",
    "Uma ou várias variáveis simbólicas são objetos do tipo `SymPy.Sym` definidos de 3 formas diferentes:\n",
    "```julia\n",
    "@vars x y\n",
    "@syms x y \n",
    "x, y = Sym(\"x , y\")\n",
    "```"
   ]
  },
  {
   "cell_type": "code",
   "execution_count": 1,
   "metadata": {},
   "outputs": [],
   "source": [
    "using SymPy"
   ]
  },
  {
   "cell_type": "code",
   "execution_count": 2,
   "metadata": {},
   "outputs": [
    {
     "data": {
      "text/plain": [
       "(x, y)"
      ]
     },
     "execution_count": 2,
     "metadata": {},
     "output_type": "execute_result"
    }
   ],
   "source": [
    "x , y = Sym(\"x , y\")"
   ]
  },
  {
   "cell_type": "markdown",
   "metadata": {},
   "source": [
    "Ou "
   ]
  },
  {
   "cell_type": "code",
   "execution_count": 3,
   "metadata": {
    "scrolled": true
   },
   "outputs": [
    {
     "data": {
      "text/plain": [
       "(x, y)"
      ]
     },
     "execution_count": 3,
     "metadata": {},
     "output_type": "execute_result"
    }
   ],
   "source": [
    "@vars x y"
   ]
  },
  {
   "cell_type": "markdown",
   "metadata": {},
   "source": [
    "Ou"
   ]
  },
  {
   "cell_type": "code",
   "execution_count": 4,
   "metadata": {
    "scrolled": true
   },
   "outputs": [
    {
     "data": {
      "text/plain": [
       "(x, y)"
      ]
     },
     "execution_count": 4,
     "metadata": {},
     "output_type": "execute_result"
    }
   ],
   "source": [
    "@syms x y"
   ]
  },
  {
   "cell_type": "markdown",
   "metadata": {},
   "source": [
    "Verificar o tipo:"
   ]
  },
  {
   "cell_type": "code",
   "execution_count": 5,
   "metadata": {
    "scrolled": true
   },
   "outputs": [
    {
     "data": {
      "text/plain": [
       "(Sym, Sym)"
      ]
     },
     "execution_count": 5,
     "metadata": {},
     "output_type": "execute_result"
    }
   ],
   "source": [
    "typeof(x), typeof(y)"
   ]
  },
  {
   "cell_type": "markdown",
   "metadata": {},
   "source": [
    "## EXPRESSÕES SIMBÓLICAS"
   ]
  },
  {
   "cell_type": "code",
   "execution_count": 6,
   "metadata": {},
   "outputs": [
    {
     "data": {
      "text/plain": [
       "(x, y)"
      ]
     },
     "execution_count": 6,
     "metadata": {},
     "output_type": "execute_result"
    }
   ],
   "source": [
    "@syms x y"
   ]
  },
  {
   "cell_type": "code",
   "execution_count": 7,
   "metadata": {
    "scrolled": false
   },
   "outputs": [
    {
     "data": {
      "text/latex": [
       "\\begin{equation*}4 x + y^{2}\\end{equation*}"
      ],
      "text/plain": [
       "       2\n",
       "4⋅x + y "
      ]
     },
     "execution_count": 7,
     "metadata": {},
     "output_type": "execute_result"
    }
   ],
   "source": [
    "3*x + x + y*y"
   ]
  },
  {
   "cell_type": "code",
   "execution_count": 8,
   "metadata": {},
   "outputs": [
    {
     "data": {
      "text/latex": [
       "\\begin{equation*}x^{2}\\end{equation*}"
      ],
      "text/plain": [
       " 2\n",
       "x "
      ]
     },
     "execution_count": 8,
     "metadata": {},
     "output_type": "execute_result"
    }
   ],
   "source": [
    "x*x"
   ]
  },
  {
   "cell_type": "code",
   "execution_count": 9,
   "metadata": {},
   "outputs": [
    {
     "data": {
      "text/latex": [
       "\\begin{equation*}x^{2} + 5\\end{equation*}"
      ],
      "text/plain": [
       " 2    \n",
       "x  + 5"
      ]
     },
     "metadata": {},
     "output_type": "display_data"
    },
    {
     "data": {
      "text/latex": [
       "\\begin{equation*}- 2 x^{2} + 5 x - 1\\end{equation*}"
      ],
      "text/plain": [
       "     2          \n",
       "- 2⋅x  + 5⋅x - 1"
      ]
     },
     "metadata": {},
     "output_type": "display_data"
    }
   ],
   "source": [
    "w = x^2 + 5\n",
    "wr = -2*x^2 + 5*x - 1\n",
    "\n",
    "display(w)\n",
    "display(wr)"
   ]
  },
  {
   "cell_type": "code",
   "execution_count": 10,
   "metadata": {},
   "outputs": [
    {
     "data": {
      "text/latex": [
       "\\begin{equation*}- x^{2} + 5 x + 4\\end{equation*}"
      ],
      "text/plain": [
       "   2          \n",
       "- x  + 5⋅x + 4"
      ]
     },
     "execution_count": 10,
     "metadata": {},
     "output_type": "execute_result"
    }
   ],
   "source": [
    "w + wr"
   ]
  },
  {
   "cell_type": "code",
   "execution_count": 11,
   "metadata": {
    "scrolled": true
   },
   "outputs": [
    {
     "data": {
      "text/latex": [
       "\\[ \\left[ \\begin{array}{r}x\\\\x^{2}\\\\x^{3}\\end{array} \\right] \\]"
      ],
      "text/plain": [
       "3-element Array{Sym,1}:\n",
       "   x\n",
       " x^2\n",
       " x^3"
      ]
     },
     "metadata": {},
     "output_type": "display_data"
    },
    {
     "data": {
      "text/latex": [
       "\\[ \\left[ \\begin{array}{r}2\\\\2 x\\\\2 x^{3}\\end{array} \\right] \\]"
      ],
      "text/plain": [
       "3-element Array{Sym,1}:\n",
       "     2\n",
       "   2*x\n",
       " 2*x^3"
      ]
     },
     "metadata": {},
     "output_type": "display_data"
    },
    {
     "data": {
      "text/plain": [
       "(nothing, nothing)"
      ]
     },
     "execution_count": 11,
     "metadata": {},
     "output_type": "execute_result"
    }
   ],
   "source": [
    "# Vetores com variáveis simbólicas\n",
    "a = [x, x^2, x^3]\n",
    "b = [2, 2*x, 2*x^3]\n",
    "\n",
    "display(a), display(b)"
   ]
  },
  {
   "cell_type": "code",
   "execution_count": 12,
   "metadata": {},
   "outputs": [
    {
     "data": {
      "text/latex": [
       "\\[ \\left[ \\begin{array}{r}x + 2\\\\x^{2} + 2 x\\\\3 x^{3}\\end{array} \\right] \\]"
      ],
      "text/plain": [
       "3-element Array{Sym,1}:\n",
       "     x + 2\n",
       " x^2 + 2*x\n",
       "     3*x^3"
      ]
     },
     "execution_count": 12,
     "metadata": {},
     "output_type": "execute_result"
    }
   ],
   "source": [
    "a + b"
   ]
  },
  {
   "cell_type": "code",
   "execution_count": 13,
   "metadata": {
    "scrolled": false
   },
   "outputs": [
    {
     "data": {
      "text/latex": [
       "\\[ \\left[ \\begin{array}{r}x\\\\x^{2}\\\\x^{3}\\end{array} \\right] \\]"
      ],
      "text/plain": [
       "3-element Array{Sym,1}:\n",
       "   x\n",
       " x^2\n",
       " x^3"
      ]
     },
     "metadata": {},
     "output_type": "display_data"
    },
    {
     "data": {
      "text/latex": [
       "\\[ \\left[ \\begin{array}{r}2\\\\2 x\\\\2 x^{3}\\end{array} \\right] \\]"
      ],
      "text/plain": [
       "3-element Array{Sym,1}:\n",
       "     2\n",
       "   2*x\n",
       " 2*x^3"
      ]
     },
     "metadata": {},
     "output_type": "display_data"
    },
    {
     "data": {
      "text/latex": [
       "\\[ \\left[ \\begin{array}{r}x + 2\\\\x^{2} + 2 x\\\\3 x^{3}\\end{array} \\right] \\]"
      ],
      "text/plain": [
       "3-element Array{Sym,1}:\n",
       "     x + 2\n",
       " x^2 + 2*x\n",
       "     3*x^3"
      ]
     },
     "metadata": {},
     "output_type": "display_data"
    },
    {
     "data": {
      "text/plain": [
       "(nothing, nothing, nothing)"
      ]
     },
     "execution_count": 13,
     "metadata": {},
     "output_type": "execute_result"
    }
   ],
   "source": [
    "x = 2\n",
    "c = a + b\n",
    "\n",
    "display(a), display(b), display(c)"
   ]
  },
  {
   "cell_type": "markdown",
   "metadata": {
    "collapsed": true
   },
   "source": [
    "No exemplo acima, foi atribuído $x = 2$ para a variável e ainda assim não o cálculo não foi realizado. Porém, qualquer outra expressão a partir de agora contendo a variável $x$ será avaliada."
   ]
  },
  {
   "cell_type": "code",
   "execution_count": 14,
   "metadata": {},
   "outputs": [
    {
     "data": {
      "text/plain": [
       "0"
      ]
     },
     "execution_count": 14,
     "metadata": {},
     "output_type": "execute_result"
    }
   ],
   "source": [
    "x^2 - 2*x"
   ]
  },
  {
   "cell_type": "markdown",
   "metadata": {},
   "source": [
    "#### MANIPULAÇÃO ALGÉBRICA DE EXPRESSÕES"
   ]
  },
  {
   "cell_type": "code",
   "execution_count": 15,
   "metadata": {},
   "outputs": [
    {
     "data": {
      "text/plain": [
       "(x, y)"
      ]
     },
     "execution_count": 15,
     "metadata": {},
     "output_type": "execute_result"
    }
   ],
   "source": [
    "@syms x y"
   ]
  },
  {
   "cell_type": "markdown",
   "metadata": {},
   "source": [
    "**Expand()**\n",
    "\n",
    "Permite a expansão de expressões polinomiais."
   ]
  },
  {
   "cell_type": "code",
   "execution_count": 16,
   "metadata": {},
   "outputs": [
    {
     "data": {
      "text/latex": [
       "\\begin{equation*}\\left(x - 3\\right)^{3} \\left(x - 2\\right)^{4}\\end{equation*}"
      ],
      "text/plain": [
       "       3        4\n",
       "(x - 3) ⋅(x - 2) "
      ]
     },
     "execution_count": 16,
     "metadata": {},
     "output_type": "execute_result"
    }
   ],
   "source": [
    "exp1 = (x-2)^4 * (x-3)^3"
   ]
  },
  {
   "cell_type": "code",
   "execution_count": 17,
   "metadata": {},
   "outputs": [
    {
     "data": {
      "text/latex": [
       "\\begin{equation*}x^{7} - 17 x^{6} + 123 x^{5} - 491 x^{4} + 1168 x^{3} - 1656 x^{2} + 1296 x - 432\\end{equation*}"
      ],
      "text/plain": [
       " 7       6        5        4         3         2               \n",
       "x  - 17⋅x  + 123⋅x  - 491⋅x  + 1168⋅x  - 1656⋅x  + 1296⋅x - 432"
      ]
     },
     "execution_count": 17,
     "metadata": {},
     "output_type": "execute_result"
    }
   ],
   "source": [
    "expand(exp1)"
   ]
  },
  {
   "cell_type": "markdown",
   "metadata": {},
   "source": [
    "**Factor()**\n",
    "\n",
    "A apartir de um polinômio, a função `factor()` fatora-o em termos irredutíveis simplificando a expressão - oposto da função `expand()`"
   ]
  },
  {
   "cell_type": "code",
   "execution_count": 18,
   "metadata": {},
   "outputs": [
    {
     "data": {
      "text/latex": [
       "\\begin{equation*}x^{7} - 17 x^{6} + 123 x^{5} - 491 x^{4} + 1168 x^{3} - 1656 x^{2} + 1296 x - 432\\end{equation*}"
      ],
      "text/plain": [
       " 7       6        5        4         3         2               \n",
       "x  - 17⋅x  + 123⋅x  - 491⋅x  + 1168⋅x  - 1656⋅x  + 1296⋅x - 432"
      ]
     },
     "execution_count": 18,
     "metadata": {},
     "output_type": "execute_result"
    }
   ],
   "source": [
    "exp2 = x^7 - 17*x^6 + 123*x^5 - 491*x^4 + 1168*x^3 - 1656*x^2 + 1296*x - 432"
   ]
  },
  {
   "cell_type": "code",
   "execution_count": 19,
   "metadata": {},
   "outputs": [
    {
     "data": {
      "text/latex": [
       "\\begin{equation*}\\left(x - 3\\right)^{3} \\left(x - 2\\right)^{4}\\end{equation*}"
      ],
      "text/plain": [
       "       3        4\n",
       "(x - 3) ⋅(x - 2) "
      ]
     },
     "execution_count": 19,
     "metadata": {},
     "output_type": "execute_result"
    }
   ],
   "source": [
    "factor(exp2)"
   ]
  },
  {
   "cell_type": "markdown",
   "metadata": {},
   "source": [
    "**Apart()**\n",
    "\n",
    "executa uma decomposição parcial da fração em uma função racional."
   ]
  },
  {
   "cell_type": "code",
   "execution_count": 20,
   "metadata": {
    "scrolled": true
   },
   "outputs": [
    {
     "data": {
      "text/latex": [
       "\\begin{equation*}\\frac{2 x^{2} + 3 x - 1}{x^{2} - 3 x + 2}\\end{equation*}"
      ],
      "text/plain": [
       "   2          \n",
       "2⋅x  + 3⋅x - 1\n",
       "──────────────\n",
       "  2           \n",
       " x  - 3⋅x + 2 "
      ]
     },
     "execution_count": 20,
     "metadata": {},
     "output_type": "execute_result"
    }
   ],
   "source": [
    "exp3 = (2*x^2 +3*x -1) / (x^2 - 3*x + 2)"
   ]
  },
  {
   "cell_type": "code",
   "execution_count": 21,
   "metadata": {},
   "outputs": [
    {
     "data": {
      "text/latex": [
       "\\begin{equation*}2 - \\frac{4}{x - 1} + \\frac{13}{x - 2}\\end{equation*}"
      ],
      "text/plain": [
       "      4       13 \n",
       "2 - ───── + ─────\n",
       "    x - 1   x - 2"
      ]
     },
     "execution_count": 21,
     "metadata": {},
     "output_type": "execute_result"
    }
   ],
   "source": [
    "apart(exp3)"
   ]
  },
  {
   "cell_type": "markdown",
   "metadata": {},
   "source": [
    "**Collect()**\n",
    "\n",
    "Coloca em evidência os termos de uma expressão de acordo com um fator comum."
   ]
  },
  {
   "cell_type": "code",
   "execution_count": 22,
   "metadata": {},
   "outputs": [
    {
     "data": {
      "text/latex": [
       "\\begin{equation*}x y + 2 x + y + \\left(2 x + y\\right)^{2}\\end{equation*}"
      ],
      "text/plain": [
       "                         2\n",
       "x⋅y + 2⋅x + y + (2⋅x + y) "
      ]
     },
     "execution_count": 22,
     "metadata": {},
     "output_type": "execute_result"
    }
   ],
   "source": [
    "exp4 = x*y + 2*x + y + (2*x + y)^2"
   ]
  },
  {
   "cell_type": "code",
   "execution_count": 23,
   "metadata": {},
   "outputs": [
    {
     "data": {
      "text/latex": [
       "\\begin{equation*}x \\left(y + 2\\right) + y + \\left(2 x + y\\right)^{2}\\end{equation*}"
      ],
      "text/plain": [
       "                         2\n",
       "x⋅(y + 2) + y + (2⋅x + y) "
      ]
     },
     "execution_count": 23,
     "metadata": {},
     "output_type": "execute_result"
    }
   ],
   "source": [
    "collect(exp4, x)"
   ]
  },
  {
   "cell_type": "code",
   "execution_count": 24,
   "metadata": {
    "scrolled": true
   },
   "outputs": [
    {
     "data": {
      "text/latex": [
       "\\begin{equation*}2 x + y \\left(x + 1\\right) + \\left(2 x + y\\right)^{2}\\end{equation*}"
      ],
      "text/plain": [
       "                           2\n",
       "2⋅x + y⋅(x + 1) + (2⋅x + y) "
      ]
     },
     "execution_count": 24,
     "metadata": {},
     "output_type": "execute_result"
    }
   ],
   "source": [
    "collect(exp4, y)"
   ]
  },
  {
   "cell_type": "markdown",
   "metadata": {},
   "source": [
    "**Together()**\n",
    "\n",
    "Coloca os termos de uma expressão sobre um denominador comum."
   ]
  },
  {
   "cell_type": "code",
   "execution_count": 25,
   "metadata": {},
   "outputs": [
    {
     "data": {
      "text/latex": [
       "\\begin{equation*}\\frac{1}{x} + \\frac{1}{x^{2}} + \\frac{1}{x^{3}}\\end{equation*}"
      ],
      "text/plain": [
       "1   1    1 \n",
       "─ + ── + ──\n",
       "x    2    3\n",
       "    x    x "
      ]
     },
     "execution_count": 25,
     "metadata": {},
     "output_type": "execute_result"
    }
   ],
   "source": [
    "exp5 = 1/x + 1/x^2 + 1/x^3"
   ]
  },
  {
   "cell_type": "code",
   "execution_count": 26,
   "metadata": {
    "scrolled": true
   },
   "outputs": [
    {
     "data": {
      "text/latex": [
       "\\begin{equation*}\\frac{x^{2} + x + 1}{x^{3}}\\end{equation*}"
      ],
      "text/plain": [
       " 2        \n",
       "x  + x + 1\n",
       "──────────\n",
       "     3    \n",
       "    x     "
      ]
     },
     "execution_count": 26,
     "metadata": {},
     "output_type": "execute_result"
    }
   ],
   "source": [
    "together(exp5)"
   ]
  },
  {
   "cell_type": "markdown",
   "metadata": {},
   "source": [
    "**Cancel()**\n",
    "\n",
    "A função `cancel()` tomará qualquer função racional e a colocará na forma canônica padrão, $\\frac{p}{q}$, no qual $p$ e $q$ são polinômios expandidos sem fatores comuns, e os coeficientes líderes de $p$ e $q$ não têm denominadores (isto é, inteiros)."
   ]
  },
  {
   "cell_type": "code",
   "execution_count": 27,
   "metadata": {},
   "outputs": [
    {
     "data": {
      "text/latex": [
       "\\begin{equation*}\\frac{2 x - 1}{x^{2} + x + 1} - \\frac{1}{x + 4} + \\frac{3}{x}\\end{equation*}"
      ],
      "text/plain": [
       " 2⋅x - 1       1     3\n",
       "────────── - ───── + ─\n",
       " 2           x + 4   x\n",
       "x  + x + 1            "
      ]
     },
     "execution_count": 27,
     "metadata": {},
     "output_type": "execute_result"
    }
   ],
   "source": [
    "exp6 = (2*x - 1)/(x^2 + x + 1) - 1/(x + 4) + 3/x"
   ]
  },
  {
   "cell_type": "code",
   "execution_count": 28,
   "metadata": {},
   "outputs": [
    {
     "data": {
      "text/latex": [
       "\\begin{equation*}\\frac{4 x^{3} + 21 x^{2} + 10 x + 12}{x^{4} + 5 x^{3} + 5 x^{2} + 4 x}\\end{equation*}"
      ],
      "text/plain": [
       "   3       2            \n",
       "4⋅x  + 21⋅x  + 10⋅x + 12\n",
       "────────────────────────\n",
       "  4      3      2       \n",
       " x  + 5⋅x  + 5⋅x  + 4⋅x "
      ]
     },
     "execution_count": 28,
     "metadata": {},
     "output_type": "execute_result"
    }
   ],
   "source": [
    "cancel(exp6)"
   ]
  },
  {
   "cell_type": "markdown",
   "metadata": {},
   "source": [
    "**Simplificação de expressões**\n",
    "\n",
    "Existem várias funções no pacote `SymPy.jl` que permitem simplificar expressões de uma forma geral ou específica de acordo com o padrão da expressão. A função básica utilizada na maioria dos casos é `simplify(expressão)`, porém pode ocorrer resultados mais complexos que a expressão inicial, daí a necessidade de executar uma simplificação específica.\n",
    "- Geral:\n",
    "```julia\n",
    "simplify(expressão)\n",
    "```\n",
    "- Simplificação Trigonométrica:\n",
    "```julia\n",
    "trigsimp(expressão, force* = true)\n",
    "```\n",
    "- Simplificação Potencial:\n",
    "```julia\n",
    "powsimp(expressão, force* = true)\n",
    "```\n",
    "- Simplificação Logrítima:\n",
    "```julia\n",
    "logcombine(expressão, force* = true)\n",
    "```\n",
    "- Simplificação raiz no denominador:\n",
    "```julia\n",
    "radsimp(expressão)\n",
    "```\n",
    "- Simplificação racional:\n",
    "```julia\n",
    "ratsimp(expressão)\n",
    "```\n",
    "A opção `force = true`, é utilizado para melhorar a simplificação, porém o custo computacional é maior."
   ]
  },
  {
   "cell_type": "markdown",
   "metadata": {},
   "source": [
    "**Exemplo 1**: Expressão racional:"
   ]
  },
  {
   "cell_type": "code",
   "execution_count": 29,
   "metadata": {
    "scrolled": true
   },
   "outputs": [
    {
     "data": {
      "text/latex": [
       "\\begin{equation*}2 - \\frac{4}{x - 1} + \\frac{13}{x - 2}\\end{equation*}"
      ],
      "text/plain": [
       "      4       13 \n",
       "2 - ───── + ─────\n",
       "    x - 1   x - 2"
      ]
     },
     "execution_count": 29,
     "metadata": {},
     "output_type": "execute_result"
    }
   ],
   "source": [
    "exp7 = 13/(x-2)  - 4/(x-1) + 2"
   ]
  },
  {
   "cell_type": "markdown",
   "metadata": {},
   "source": [
    "Simplificação genérica:"
   ]
  },
  {
   "cell_type": "code",
   "execution_count": 30,
   "metadata": {
    "scrolled": false
   },
   "outputs": [
    {
     "data": {
      "text/latex": [
       "\\begin{equation*}\\frac{2 x^{2} + 3 x - 1}{x^{2} - 3 x + 2}\\end{equation*}"
      ],
      "text/plain": [
       "   2          \n",
       "2⋅x  + 3⋅x - 1\n",
       "──────────────\n",
       "  2           \n",
       " x  - 3⋅x + 2 "
      ]
     },
     "execution_count": 30,
     "metadata": {},
     "output_type": "execute_result"
    }
   ],
   "source": [
    "simplify(exp7)"
   ]
  },
  {
   "cell_type": "markdown",
   "metadata": {},
   "source": [
    "**Exemplo 2**: Expressão trigonométrica:"
   ]
  },
  {
   "cell_type": "code",
   "execution_count": 31,
   "metadata": {
    "scrolled": true
   },
   "outputs": [
    {
     "data": {
      "text/latex": [
       "\\begin{equation*}- \\sin{\\left(x \\right)} + \\frac{\\tan{\\left(x \\right)}}{\\cos{\\left(x \\right)}}\\end{equation*}"
      ],
      "text/plain": [
       "          tan(x)\n",
       "-sin(x) + ──────\n",
       "          cos(x)"
      ]
     },
     "execution_count": 31,
     "metadata": {},
     "output_type": "execute_result"
    }
   ],
   "source": [
    "exp8 = (1/cos(x))*tan(x) - sin(x)"
   ]
  },
  {
   "cell_type": "markdown",
   "metadata": {},
   "source": [
    "**Exemplo 3**: Expressão potencial:"
   ]
  },
  {
   "cell_type": "code",
   "execution_count": 32,
   "metadata": {
    "scrolled": false
   },
   "outputs": [
    {
     "data": {
      "text/latex": [
       "\\begin{equation*}\\frac{10^{x}}{300} + e^{x} e^{y}\\end{equation*}"
      ],
      "text/plain": [
       "  x        \n",
       "10     x  y\n",
       "─── + ℯ ⋅ℯ \n",
       "300        "
      ]
     },
     "execution_count": 32,
     "metadata": {},
     "output_type": "execute_result"
    }
   ],
   "source": [
    "exp9 = exp(x)*exp(y)  + 10^x/300"
   ]
  },
  {
   "cell_type": "markdown",
   "metadata": {},
   "source": [
    "**Exemplo 4**: Expressão logarítmicas:"
   ]
  },
  {
   "cell_type": "code",
   "execution_count": 33,
   "metadata": {
    "scrolled": true
   },
   "outputs": [
    {
     "data": {
      "text/latex": [
       "\\begin{equation*}5 \\log{\\left(x \\right)} + \\log{\\left(y \\right)} - \\log{\\left(x y \\right)}\\end{equation*}"
      ],
      "text/plain": [
       "5⋅log(x) + log(y) - log(x⋅y)"
      ]
     },
     "execution_count": 33,
     "metadata": {},
     "output_type": "execute_result"
    }
   ],
   "source": [
    "exp10 = 5*log(x) + log(y) - log(x*y)"
   ]
  },
  {
   "cell_type": "markdown",
   "metadata": {},
   "source": [
    "Simplificação logarítmicas:"
   ]
  },
  {
   "cell_type": "code",
   "execution_count": 34,
   "metadata": {
    "scrolled": true
   },
   "outputs": [
    {
     "ename": "UndefVarError",
     "evalue": "UndefVarError: logcombine not defined",
     "output_type": "error",
     "traceback": [
      "UndefVarError: logcombine not defined",
      "",
      "Stacktrace:",
      " [1] top-level scope at In[34]:1"
     ]
    }
   ],
   "source": [
    "logcombine(exp10)"
   ]
  },
  {
   "cell_type": "code",
   "execution_count": 35,
   "metadata": {
    "scrolled": false
   },
   "outputs": [
    {
     "ename": "UndefVarError",
     "evalue": "UndefVarError: logcombine not defined",
     "output_type": "error",
     "traceback": [
      "UndefVarError: logcombine not defined",
      "",
      "Stacktrace:",
      " [1] top-level scope at In[35]:1"
     ]
    }
   ],
   "source": [
    "# Simplificação log forçada\n",
    "logcombine(exp10, force=true)"
   ]
  },
  {
   "cell_type": "markdown",
   "metadata": {},
   "source": [
    "**Exemplo 5**: Expressão com raiz no denominador:"
   ]
  },
  {
   "cell_type": "code",
   "execution_count": 36,
   "metadata": {},
   "outputs": [
    {
     "data": {
      "text/latex": [
       "\\begin{equation*}\\frac{1.0}{\\sqrt{x + 2.0}}\\end{equation*}"
      ],
      "text/plain": [
       "    1.0    \n",
       "───────────\n",
       "  _________\n",
       "╲╱ x + 2.0 "
      ]
     },
     "execution_count": 36,
     "metadata": {},
     "output_type": "execute_result"
    }
   ],
   "source": [
    "exp11 = 1.0/sqrt(2.0 + x)"
   ]
  },
  {
   "cell_type": "markdown",
   "metadata": {},
   "source": [
    "**Divisão entre expressões algébricas**\n",
    "\n",
    "A função `divrem()` calcula o quociente e o resto da divisão euclidiana."
   ]
  },
  {
   "cell_type": "code",
   "execution_count": 37,
   "metadata": {},
   "outputs": [
    {
     "data": {
      "text/plain": [
       "(floor((x^2 - 2*x - 4)/(x - 1)), x^2 - 2*x - (x - 1)*floor((x^2 - 2*x - 4)/(x - 1)) - 4)"
      ]
     },
     "execution_count": 37,
     "metadata": {},
     "output_type": "execute_result"
    }
   ],
   "source": [
    "quoc, rest = divrem((x^2 - 2*x^1 - 4),(x - 1))"
   ]
  },
  {
   "cell_type": "markdown",
   "metadata": {},
   "source": [
    "#### SUBSTITUIR VARIÁVEL SIMBÓLICA POR UM VALOR NUMÉRICO OU VARIÁVEL SIMBÓLICA\n",
    "\n",
    "Para substituir o valor de uma variável em uma expressão utilizamos a função `subs()`. Sintaxe:\n",
    "```julia\n",
    "subs(expressão, var_simbólica, valor)\n",
    "```\n",
    "Sendo:\n",
    "* **expressão**: expressão algébrica;\n",
    "* **var_simbólica**: variável simbólica da expressão algébrica;\n",
    "* **valor**: valor numérico ou simbólico da variável simbólica."
   ]
  },
  {
   "cell_type": "code",
   "execution_count": 38,
   "metadata": {},
   "outputs": [
    {
     "data": {
      "text/plain": [
       "(x, y)"
      ]
     },
     "execution_count": 38,
     "metadata": {},
     "output_type": "execute_result"
    }
   ],
   "source": [
    "using SymPy\n",
    "@syms x y"
   ]
  },
  {
   "cell_type": "markdown",
   "metadata": {},
   "source": [
    "* **Exemplo 1**: substituição por um valor numérico "
   ]
  },
  {
   "cell_type": "code",
   "execution_count": 39,
   "metadata": {},
   "outputs": [
    {
     "data": {
      "text/latex": [
       "\\begin{equation*}2\\end{equation*}"
      ],
      "text/plain": [
       "2"
      ]
     },
     "execution_count": 39,
     "metadata": {},
     "output_type": "execute_result"
    }
   ],
   "source": [
    "# x = 0\n",
    "subs(x^2 - 3*x + 2 , x , 0)"
   ]
  },
  {
   "cell_type": "markdown",
   "metadata": {},
   "source": [
    "Para substituir a variável por coleção de dados, use \"`subs.(expressão, var_simbólica, coleção)`\". Não funciona com dicionários e tuplas nomeadas."
   ]
  },
  {
   "cell_type": "code",
   "execution_count": 40,
   "metadata": {
    "scrolled": false
   },
   "outputs": [
    {
     "data": {
      "text/latex": [
       "\\[ \\left[ \\begin{array}{r}2\\\\0\\\\0\\\\2\\end{array} \\right] \\]"
      ],
      "text/plain": [
       "4-element Array{Sym,1}:\n",
       " 2\n",
       " 0\n",
       " 0\n",
       " 2"
      ]
     },
     "execution_count": 40,
     "metadata": {},
     "output_type": "execute_result"
    }
   ],
   "source": [
    "#vetor\n",
    "subs.(x^2 - 3*x + 2 , x , 0:3)"
   ]
  },
  {
   "cell_type": "code",
   "execution_count": 41,
   "metadata": {},
   "outputs": [
    {
     "data": {
      "text/plain": [
       "(2, 0, 0)"
      ]
     },
     "execution_count": 41,
     "metadata": {},
     "output_type": "execute_result"
    }
   ],
   "source": [
    "# tupla\n",
    "subs.(x^2 - 3*x + 2 , x , (0, 1, 2))"
   ]
  },
  {
   "cell_type": "markdown",
   "metadata": {},
   "source": [
    "* **Exemplo 2**: substituição por variável simbólica"
   ]
  },
  {
   "cell_type": "markdown",
   "metadata": {},
   "source": [
    "Substituir a variável $x$ da expressão pela variável $w$:"
   ]
  },
  {
   "cell_type": "code",
   "execution_count": 42,
   "metadata": {
    "scrolled": true
   },
   "outputs": [
    {
     "data": {
      "text/latex": [
       "\\begin{equation*}w^{2} - 3 w + 2\\end{equation*}"
      ],
      "text/plain": [
       " 2          \n",
       "w  - 3⋅w + 2"
      ]
     },
     "execution_count": 42,
     "metadata": {},
     "output_type": "execute_result"
    }
   ],
   "source": [
    "@syms w\n",
    "\n",
    "y_w = subs(x^2 - 3*x + 2 , x , w)"
   ]
  },
  {
   "cell_type": "markdown",
   "metadata": {},
   "source": [
    "Substitui $x$ e $w$ pelos números 2 e 1 respectivamente e efetua o cálculo:"
   ]
  },
  {
   "cell_type": "code",
   "execution_count": 43,
   "metadata": {
    "scrolled": true
   },
   "outputs": [
    {
     "data": {
      "text/latex": [
       "\\begin{equation*}4\\end{equation*}"
      ],
      "text/plain": [
       "4"
      ]
     },
     "execution_count": 43,
     "metadata": {},
     "output_type": "execute_result"
    }
   ],
   "source": [
    "r = x*w + 2\n",
    "\n",
    "subs(r,(x , 2),(w , 1))"
   ]
  },
  {
   "cell_type": "markdown",
   "metadata": {},
   "source": [
    "Outra forma:"
   ]
  },
  {
   "cell_type": "code",
   "execution_count": 44,
   "metadata": {
    "scrolled": true
   },
   "outputs": [
    {
     "data": {
      "text/latex": [
       "\\begin{equation*}4\\end{equation*}"
      ],
      "text/plain": [
       "4"
      ]
     },
     "execution_count": 44,
     "metadata": {},
     "output_type": "execute_result"
    }
   ],
   "source": [
    "subs(r, x => 2, w => 1)"
   ]
  },
  {
   "cell_type": "markdown",
   "metadata": {},
   "source": [
    "%%%Fim Matemática Simbólica%%%"
   ]
  }
 ],
 "metadata": {
  "@webio": {
   "lastCommId": null,
   "lastKernelId": null
  },
  "anaconda-cloud": {},
  "kernelspec": {
   "display_name": "Julia 1.2.0",
   "language": "julia",
   "name": "julia-1.2"
  },
  "language_info": {
   "file_extension": ".jl",
   "mimetype": "application/julia",
   "name": "julia",
   "version": "1.2.0"
  },
  "latex_envs": {
   "LaTeX_envs_menu_present": true,
   "autocomplete": true,
   "bibliofile": "biblio.bib",
   "cite_by": "apalike",
   "current_citInitial": 1,
   "eqLabelWithNumbers": true,
   "eqNumInitial": 1,
   "hotkeys": {
    "equation": "Ctrl-E",
    "itemize": "Ctrl-I"
   },
   "labels_anchors": false,
   "latex_user_defs": false,
   "report_style_numbering": false,
   "user_envs_cfg": false
  }
 },
 "nbformat": 4,
 "nbformat_minor": 1
}
