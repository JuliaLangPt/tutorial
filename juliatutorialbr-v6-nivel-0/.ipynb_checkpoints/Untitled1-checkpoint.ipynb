{
 "cells": [
  {
   "cell_type": "code",
   "execution_count": 181,
   "metadata": {},
   "outputs": [],
   "source": [
    "# Load benchmark data from file\n",
    "benchmarks = CSV.read(\"benchmarks.csv\"; header=[\"language\", \"benchmark\", \"time\"])\n",
    "\n",
    "# Capitalize and decorate language names from datafile\n",
    "dict = Dict(\"c\"=>\"C\", \"julia\"=>\"Julia\", \"lua\"=>\"LuaJIT\", \"fortran\"=>\"Fortran\", \"java\"=>\"Java\",\n",
    "    \"javascript\"=>\"JavaScript\", \"matlab\"=>\"Matlab\", \"mathematica\"=>\"Mathematica\", \n",
    "    \"python\"=>\"Python\", \"octave\"=>\"Octave\", \"r\"=>\"R\", \"rust\"=>\"Rust\", \"go\"=>\"Go\");\n",
    "benchmarks[:language] = [dict[lang] for lang in benchmarks[:language]]\n",
    "\n",
    "# Normalize benchmark times by C times\n",
    "ctime = benchmarks[benchmarks[:language].== \"C\", :]\n",
    "benchmarks = join(benchmarks, ctime, on=:benchmark, makeunique=true)\n",
    "delete!(benchmarks, :language_1)\n",
    "rename!(benchmarks, :time_1 =>:ctime)\n",
    "benchmarks[:normtime] = benchmarks[:time] ./ benchmarks[:ctime];"
   ]
  },
  {
   "cell_type": "code",
   "execution_count": 255,
   "metadata": {},
   "outputs": [
    {
     "name": "stdout",
     "output_type": "stream",
     "text": [
      "benchmarks.language = [\"C\", \"C\", \"C\", \"C\", \"C\", \"C\", \"C\", \"C\", \"Fortran\", \"Fortran\", \"Fortran\", \"Fortran\", \"Fortran\", \"Fortran\", \"Fortran\", \"Fortran\", \"Go\", \"Go\", \"Go\", \"Go\", \"Go\", \"Go\", \"Go\", \"Go\", \"Java\", \"Java\", \"Java\", \"Java\", \"Java\", \"Java\", \"Java\", \"Java\", \"JavaScript\", \"JavaScript\", \"JavaScript\", \"JavaScript\", \"JavaScript\", \"JavaScript\", \"JavaScript\", \"JavaScript\", \"Julia\", \"Julia\", \"Julia\", \"Julia\", \"Julia\", \"Julia\", \"Julia\", \"Julia\", \"LuaJIT\", \"LuaJIT\", \"LuaJIT\", \"LuaJIT\", \"LuaJIT\", \"LuaJIT\", \"LuaJIT\", \"LuaJIT\", \"Mathematica\", \"Mathematica\", \"Mathematica\", \"Mathematica\", \"Mathematica\", \"Mathematica\", \"Mathematica\", \"Mathematica\", \"Matlab\", \"Matlab\", \"Matlab\", \"Matlab\", \"Matlab\", \"Matlab\", \"Matlab\", \"Matlab\", \"Octave\", \"Octave\", \"Octave\", \"Octave\", \"Octave\", \"Octave\", \"Octave\", \"Octave\", \"Python\", \"Python\", \"Python\", \"Python\", \"Python\", \"Python\", \"Python\", \"Python\", \"R\", \"R\", \"R\", \"R\", \"R\", \"R\", \"R\", \"R\", \"Rust\", \"Rust\", \"Rust\", \"Rust\", \"Rust\", \"Rust\", \"Rust\", \"Rust\"]\n"
     ]
    },
    {
     "data": {
      "text/plain": [
       "104-element Array{String,1}:\n",
       " \"C\"      \n",
       " \"C\"      \n",
       " \"C\"      \n",
       " \"C\"      \n",
       " \"C\"      \n",
       " \"C\"      \n",
       " \"C\"      \n",
       " \"C\"      \n",
       " \"Fortran\"\n",
       " \"Fortran\"\n",
       " \"Fortran\"\n",
       " \"Fortran\"\n",
       " \"Fortran\"\n",
       " ⋮        \n",
       " \"R\"      \n",
       " \"R\"      \n",
       " \"R\"      \n",
       " \"R\"      \n",
       " \"Rust\"   \n",
       " \"Rust\"   \n",
       " \"Rust\"   \n",
       " \"Rust\"   \n",
       " \"Rust\"   \n",
       " \"Rust\"   \n",
       " \"Rust\"   \n",
       " \"Rust\"   "
      ]
     },
     "execution_count": 255,
     "metadata": {},
     "output_type": "execute_result"
    }
   ],
   "source": [
    "@show benchmarks.language"
   ]
  },
  {
   "cell_type": "code",
   "execution_count": 251,
   "metadata": {
    "scrolled": false
   },
   "outputs": [
    {
     "data": {
      "text/html": [
       "<table class=\"data-frame\"><thead><tr><th></th><th>language</th><th>benchmark</th><th>time</th><th>ctime</th><th>normtime</th><th>language_1</th><th>benchmark_1</th><th>time_1</th><th>ctime_1</th><th>normtime_1</th></tr></thead><tbody><tr><th>1</th><td>Rust</td><td>iteration_pi_sum</td><td>27.3738</td><td>27.3681</td><td>1.00021</td><td>C</td><td>iteration_pi_sum</td><td>27.3681</td><td>27.3681</td><td>1.0</td></tr><tr><th>2</th><td>Rust</td><td>matrix_multiply</td><td>77.6157</td><td>72.0148</td><td>1.07777</td><td>C</td><td>matrix_multiply</td><td>72.0148</td><td>72.0148</td><td>1.0</td></tr><tr><th>3</th><td>Rust</td><td>matrix_statistics</td><td>6.49792</td><td>4.529</td><td>1.43474</td><td>C</td><td>matrix_statistics</td><td>4.529</td><td>4.529</td><td>1.0</td></tr><tr><th>4</th><td>Rust</td><td>parse_integers</td><td>0.121999</td><td>0.099249</td><td>1.22922</td><td>C</td><td>parse_integers</td><td>0.099249</td><td>0.099249</td><td>1.0</td></tr><tr><th>5</th><td>Rust</td><td>print_to_file</td><td>8.81542</td><td>9.9299</td><td>0.887766</td><td>C</td><td>print_to_file</td><td>9.9299</td><td>9.9299</td><td>1.0</td></tr><tr><th>6</th><td>Rust</td><td>recursion_fibonacci</td><td>0.039227</td><td>0.022732</td><td>1.72563</td><td>C</td><td>recursion_fibonacci</td><td>0.022732</td><td>0.022732</td><td>1.0</td></tr><tr><th>7</th><td>Rust</td><td>recursion_quicksort</td><td>0.253416</td><td>0.258923</td><td>0.978731</td><td>C</td><td>recursion_quicksort</td><td>0.258923</td><td>0.258923</td><td>1.0</td></tr><tr><th>8</th><td>Rust</td><td>userfunc_mandelbrot</td><td>0.057636</td><td>0.076702</td><td>0.751428</td><td>C</td><td>userfunc_mandelbrot</td><td>0.076702</td><td>0.076702</td><td>1.0</td></tr></tbody></table>"
      ],
      "text/plain": [
       "8×10 DataFrame. Omitted printing of 5 columns\n",
       "│ Row │ language │ benchmark           │ time     │ ctime    │ normtime │\n",
       "├─────┼──────────┼─────────────────────┼──────────┼──────────┼──────────┤\n",
       "│ 1   │ Rust     │ iteration_pi_sum    │ 27.3738  │ 27.3681  │ 1.00021  │\n",
       "│ 2   │ Rust     │ matrix_multiply     │ 77.6157  │ 72.0148  │ 1.07777  │\n",
       "│ 3   │ Rust     │ matrix_statistics   │ 6.49792  │ 4.529    │ 1.43474  │\n",
       "│ 4   │ Rust     │ parse_integers      │ 0.121999 │ 0.099249 │ 1.22922  │\n",
       "│ 5   │ Rust     │ print_to_file       │ 8.81542  │ 9.9299   │ 0.887766 │\n",
       "│ 6   │ Rust     │ recursion_fibonacci │ 0.039227 │ 0.022732 │ 1.72563  │\n",
       "│ 7   │ Rust     │ recursion_quicksort │ 0.253416 │ 0.258923 │ 0.978731 │\n",
       "│ 8   │ Rust     │ userfunc_mandelbrot │ 0.057636 │ 0.076702 │ 0.751428 │"
      ]
     },
     "execution_count": 251,
     "metadata": {},
     "output_type": "execute_result"
    }
   ],
   "source": [
    "RtC = [benchmarks[benchmarks.language.==\"Rust\",:] benchmarks[benchmarks.language.==\"C\",:]]"
   ]
  },
  {
   "cell_type": "code",
   "execution_count": 252,
   "metadata": {},
   "outputs": [
    {
     "data": {
      "text/plain": [
       "8×3 Array{Any,2}:\n",
       " CategoricalString{UInt32} \"iteration_pi_sum\"     27.3738    27.3681  \n",
       " CategoricalString{UInt32} \"matrix_multiply\"      77.6157    72.0148  \n",
       " CategoricalString{UInt32} \"matrix_statistics\"     6.49792    4.529   \n",
       " CategoricalString{UInt32} \"parse_integers\"        0.121999   0.099249\n",
       " CategoricalString{UInt32} \"print_to_file\"         8.81542    9.9299  \n",
       " CategoricalString{UInt32} \"recursion_fibonacci\"   0.039227   0.022732\n",
       " CategoricalString{UInt32} \"recursion_quicksort\"   0.253416   0.258923\n",
       " CategoricalString{UInt32} \"userfunc_mandelbrot\"   0.057636   0.076702"
      ]
     },
     "execution_count": 252,
     "metadata": {},
     "output_type": "execute_result"
    }
   ],
   "source": [
    "[RtC.benchmark RtC.time  RtC.time_1]"
   ]
  },
  {
   "cell_type": "code",
   "execution_count": 168,
   "metadata": {},
   "outputs": [
    {
     "data": {
      "text/plain": [
       "8×3 Array{Any,2}:\n",
       " CategoricalString{UInt32} \"iteration_pi_sum\"     27.6708     27.3706   \n",
       " CategoricalString{UInt32} \"matrix_multiply\"      70.2494    102.998    \n",
       " CategoricalString{UInt32} \"matrix_statistics\"     7.3967     27.5798   \n",
       " CategoricalString{UInt32} \"parse_integers\"        0.217658    0.0953155\n",
       " CategoricalString{UInt32} \"print_to_file\"        10.8684     17.3706   \n",
       " CategoricalString{UInt32} \"recursion_fibonacci\"   0.030162    0.0410112\n",
       " CategoricalString{UInt32} \"recursion_quicksort\"   0.258018    0.321594 \n",
       " CategoricalString{UInt32} \"userfunc_mandelbrot\"   0.052706    0.0596854"
      ]
     },
     "execution_count": 168,
     "metadata": {},
     "output_type": "execute_result"
    }
   ],
   "source": [
    "[jG.benchmark jG.time  jG.time_1]"
   ]
  },
  {
   "cell_type": "code",
   "execution_count": 243,
   "metadata": {
    "scrolled": false
   },
   "outputs": [
    {
     "data": {
      "text/plain": [
       "8×3 Array{Any,2}:\n",
       " CategoricalString{UInt32} \"iteration_pi_sum\"     27.6708    27.368\n",
       " CategoricalString{UInt32} \"matrix_multiply\"      70.2494    77.87 \n",
       " CategoricalString{UInt32} \"matrix_statistics\"     7.3967     7.731\n",
       " CategoricalString{UInt32} \"parse_integers\"        0.217658   0.097\n",
       " CategoricalString{UInt32} \"print_to_file\"        10.8684     5.996\n",
       " CategoricalString{UInt32} \"recursion_fibonacci\"   0.030162   0.027\n",
       " CategoricalString{UInt32} \"recursion_quicksort\"   0.258018   0.404\n",
       " CategoricalString{UInt32} \"userfunc_mandelbrot\"   0.052706   0.077"
      ]
     },
     "execution_count": 243,
     "metadata": {},
     "output_type": "execute_result"
    }
   ],
   "source": [
    "[jL.benchmark jL.time  jL.time_1]"
   ]
  },
  {
   "cell_type": "code",
   "execution_count": 246,
   "metadata": {
    "scrolled": true
   },
   "outputs": [
    {
     "data": {
      "text/plain": [
       "8×3 Array{Any,2}:\n",
       " CategoricalString{UInt32} \"iteration_pi_sum\"     27.6708    27.3738  \n",
       " CategoricalString{UInt32} \"matrix_multiply\"      70.2494    77.6157  \n",
       " CategoricalString{UInt32} \"matrix_statistics\"     7.3967     6.49792 \n",
       " CategoricalString{UInt32} \"parse_integers\"        0.217658   0.121999\n",
       " CategoricalString{UInt32} \"print_to_file\"        10.8684     8.81542 \n",
       " CategoricalString{UInt32} \"recursion_fibonacci\"   0.030162   0.039227\n",
       " CategoricalString{UInt32} \"recursion_quicksort\"   0.258018   0.253416\n",
       " CategoricalString{UInt32} \"userfunc_mandelbrot\"   0.052706   0.057636"
      ]
     },
     "execution_count": 246,
     "metadata": {},
     "output_type": "execute_result"
    }
   ],
   "source": [
    "[jRt.benchmark jRt.time  jRt.time_1]"
   ]
  },
  {
   "cell_type": "code",
   "execution_count": 250,
   "metadata": {},
   "outputs": [
    {
     "data": {
      "text/plain": [
       "8×3 Array{Any,2}:\n",
       " CategoricalString{UInt32} \"iteration_pi_sum\"     27.6708    27.3681  \n",
       " CategoricalString{UInt32} \"matrix_multiply\"      70.2494    72.0148  \n",
       " CategoricalString{UInt32} \"matrix_statistics\"     7.3967     4.529   \n",
       " CategoricalString{UInt32} \"parse_integers\"        0.217658   0.099249\n",
       " CategoricalString{UInt32} \"print_to_file\"        10.8684     9.9299  \n",
       " CategoricalString{UInt32} \"recursion_fibonacci\"   0.030162   0.022732\n",
       " CategoricalString{UInt32} \"recursion_quicksort\"   0.258018   0.258923\n",
       " CategoricalString{UInt32} \"userfunc_mandelbrot\"   0.052706   0.076702"
      ]
     },
     "execution_count": 250,
     "metadata": {},
     "output_type": "execute_result"
    }
   ],
   "source": [
    "[jC.benchmark jC.time  jC.time_1]"
   ]
  },
  {
   "cell_type": "code",
   "execution_count": 233,
   "metadata": {},
   "outputs": [
    {
     "data": {
      "text/plain": [
       "5-element Array{Float64,1}:\n",
       " 2.1481171747691246\n",
       " 3.108415700164773 \n",
       " 4.938479661076116 \n",
       " 5.15364735212304  \n",
       " 6.886519984584149 "
      ]
     },
     "execution_count": 233,
     "metadata": {},
     "output_type": "execute_result"
    }
   ],
   "source": [
    "data = [(rand() + 1) + i for i in collect(1:5)]"
   ]
  },
  {
   "cell_type": "code",
   "execution_count": 242,
   "metadata": {
    "scrolled": true
   },
   "outputs": [
    {
     "data": {
      "image/svg+xml": [
       "<?xml version=\"1.0\" encoding=\"utf-8\"?>\n",
       "<svg xmlns=\"http://www.w3.org/2000/svg\" xmlns:xlink=\"http://www.w3.org/1999/xlink\" width=\"600\" height=\"400\" viewBox=\"0 0 600 400\">\n",
       "<defs>\n",
       "  <clipPath id=\"clip6600\">\n",
       "    <rect x=\"0\" y=\"0\" width=\"600\" height=\"400\"/>\n",
       "  </clipPath>\n",
       "</defs>\n",
       "<polygon clip-path=\"url(#clip6600)\" points=\"\n",
       "0,400 600,400 600,0 0,0 \n",
       "  \" fill=\"#ffffff\" fill-opacity=\"1\"/>\n",
       "<defs>\n",
       "  <clipPath id=\"clip6601\">\n",
       "    <rect x=\"120\" y=\"0\" width=\"421\" height=\"400\"/>\n",
       "  </clipPath>\n",
       "</defs>\n",
       "<polygon clip-path=\"url(#clip6600)\" points=\"\n",
       "30.3126,375.869 580.315,375.869 580.315,11.811 30.3126,11.811 \n",
       "  \" fill=\"#ffffff\" fill-opacity=\"1\"/>\n",
       "<defs>\n",
       "  <clipPath id=\"clip6602\">\n",
       "    <rect x=\"30\" y=\"11\" width=\"551\" height=\"365\"/>\n",
       "  </clipPath>\n",
       "</defs>\n",
       "<polyline clip-path=\"url(#clip6602)\" style=\"stroke:#000000; stroke-width:0.5; stroke-opacity:0.1; fill:none\" points=\"\n",
       "  60.5637,375.869 60.5637,11.811 \n",
       "  \"/>\n",
       "<polyline clip-path=\"url(#clip6602)\" style=\"stroke:#000000; stroke-width:0.5; stroke-opacity:0.1; fill:none\" points=\"\n",
       "  182.939,375.869 182.939,11.811 \n",
       "  \"/>\n",
       "<polyline clip-path=\"url(#clip6602)\" style=\"stroke:#000000; stroke-width:0.5; stroke-opacity:0.1; fill:none\" points=\"\n",
       "  305.314,375.869 305.314,11.811 \n",
       "  \"/>\n",
       "<polyline clip-path=\"url(#clip6602)\" style=\"stroke:#000000; stroke-width:0.5; stroke-opacity:0.1; fill:none\" points=\"\n",
       "  427.689,375.869 427.689,11.811 \n",
       "  \"/>\n",
       "<polyline clip-path=\"url(#clip6602)\" style=\"stroke:#000000; stroke-width:0.5; stroke-opacity:0.1; fill:none\" points=\"\n",
       "  550.064,375.869 550.064,11.811 \n",
       "  \"/>\n",
       "<polyline clip-path=\"url(#clip6602)\" style=\"stroke:#000000; stroke-width:0.5; stroke-opacity:0.1; fill:none\" points=\"\n",
       "  30.3126,365.565 580.315,365.565 \n",
       "  \"/>\n",
       "<polyline clip-path=\"url(#clip6602)\" style=\"stroke:#000000; stroke-width:0.5; stroke-opacity:0.1; fill:none\" points=\"\n",
       "  30.3126,271.576 580.315,271.576 \n",
       "  \"/>\n",
       "<polyline clip-path=\"url(#clip6602)\" style=\"stroke:#000000; stroke-width:0.5; stroke-opacity:0.1; fill:none\" points=\"\n",
       "  30.3126,177.586 580.315,177.586 \n",
       "  \"/>\n",
       "<polyline clip-path=\"url(#clip6602)\" style=\"stroke:#000000; stroke-width:0.5; stroke-opacity:0.1; fill:none\" points=\"\n",
       "  30.3126,83.5969 580.315,83.5969 \n",
       "  \"/>\n",
       "<polyline clip-path=\"url(#clip6600)\" style=\"stroke:#000000; stroke-width:1; stroke-opacity:1; fill:none\" points=\"\n",
       "  30.3126,375.869 580.315,375.869 \n",
       "  \"/>\n",
       "<polyline clip-path=\"url(#clip6600)\" style=\"stroke:#000000; stroke-width:1; stroke-opacity:1; fill:none\" points=\"\n",
       "  30.3126,375.869 30.3126,11.811 \n",
       "  \"/>\n",
       "<polyline clip-path=\"url(#clip6600)\" style=\"stroke:#000000; stroke-width:1; stroke-opacity:1; fill:none\" points=\"\n",
       "  60.5637,375.869 60.5637,370.408 \n",
       "  \"/>\n",
       "<polyline clip-path=\"url(#clip6600)\" style=\"stroke:#000000; stroke-width:1; stroke-opacity:1; fill:none\" points=\"\n",
       "  182.939,375.869 182.939,370.408 \n",
       "  \"/>\n",
       "<polyline clip-path=\"url(#clip6600)\" style=\"stroke:#000000; stroke-width:1; stroke-opacity:1; fill:none\" points=\"\n",
       "  305.314,375.869 305.314,370.408 \n",
       "  \"/>\n",
       "<polyline clip-path=\"url(#clip6600)\" style=\"stroke:#000000; stroke-width:1; stroke-opacity:1; fill:none\" points=\"\n",
       "  427.689,375.869 427.689,370.408 \n",
       "  \"/>\n",
       "<polyline clip-path=\"url(#clip6600)\" style=\"stroke:#000000; stroke-width:1; stroke-opacity:1; fill:none\" points=\"\n",
       "  550.064,375.869 550.064,370.408 \n",
       "  \"/>\n",
       "<polyline clip-path=\"url(#clip6600)\" style=\"stroke:#000000; stroke-width:1; stroke-opacity:1; fill:none\" points=\"\n",
       "  30.3126,365.565 38.5627,365.565 \n",
       "  \"/>\n",
       "<polyline clip-path=\"url(#clip6600)\" style=\"stroke:#000000; stroke-width:1; stroke-opacity:1; fill:none\" points=\"\n",
       "  30.3126,271.576 38.5627,271.576 \n",
       "  \"/>\n",
       "<polyline clip-path=\"url(#clip6600)\" style=\"stroke:#000000; stroke-width:1; stroke-opacity:1; fill:none\" points=\"\n",
       "  30.3126,177.586 38.5627,177.586 \n",
       "  \"/>\n",
       "<polyline clip-path=\"url(#clip6600)\" style=\"stroke:#000000; stroke-width:1; stroke-opacity:1; fill:none\" points=\"\n",
       "  30.3126,83.5969 38.5627,83.5969 \n",
       "  \"/>\n",
       "<g clip-path=\"url(#clip6600)\">\n",
       "<text style=\"fill:#000000; fill-opacity:1; font-family:Arial,Helvetica Neue,Helvetica,sans-serif; font-size:12; text-anchor:middle;\" transform=\"rotate(0, 60.5637, 389.669)\" x=\"60.5637\" y=\"389.669\">0.6</text>\n",
       "</g>\n",
       "<g clip-path=\"url(#clip6600)\">\n",
       "<text style=\"fill:#000000; fill-opacity:1; font-family:Arial,Helvetica Neue,Helvetica,sans-serif; font-size:12; text-anchor:middle;\" transform=\"rotate(0, 182.939, 389.669)\" x=\"182.939\" y=\"389.669\">0.8</text>\n",
       "</g>\n",
       "<g clip-path=\"url(#clip6600)\">\n",
       "<text style=\"fill:#000000; fill-opacity:1; font-family:Arial,Helvetica Neue,Helvetica,sans-serif; font-size:12; text-anchor:middle;\" transform=\"rotate(0, 305.314, 389.669)\" x=\"305.314\" y=\"389.669\">1.0</text>\n",
       "</g>\n",
       "<g clip-path=\"url(#clip6600)\">\n",
       "<text style=\"fill:#000000; fill-opacity:1; font-family:Arial,Helvetica Neue,Helvetica,sans-serif; font-size:12; text-anchor:middle;\" transform=\"rotate(0, 427.689, 389.669)\" x=\"427.689\" y=\"389.669\">1.2</text>\n",
       "</g>\n",
       "<g clip-path=\"url(#clip6600)\">\n",
       "<text style=\"fill:#000000; fill-opacity:1; font-family:Arial,Helvetica Neue,Helvetica,sans-serif; font-size:12; text-anchor:middle;\" transform=\"rotate(0, 550.064, 389.669)\" x=\"550.064\" y=\"389.669\">1.4</text>\n",
       "</g>\n",
       "<g clip-path=\"url(#clip6600)\">\n",
       "<text style=\"fill:#000000; fill-opacity:1; font-family:Arial,Helvetica Neue,Helvetica,sans-serif; font-size:12; text-anchor:end;\" transform=\"rotate(0, 24.3126, 370.065)\" x=\"24.3126\" y=\"370.065\">0</text>\n",
       "</g>\n",
       "<g clip-path=\"url(#clip6600)\">\n",
       "<text style=\"fill:#000000; fill-opacity:1; font-family:Arial,Helvetica Neue,Helvetica,sans-serif; font-size:12; text-anchor:end;\" transform=\"rotate(0, 24.3126, 276.076)\" x=\"24.3126\" y=\"276.076\">2</text>\n",
       "</g>\n",
       "<g clip-path=\"url(#clip6600)\">\n",
       "<text style=\"fill:#000000; fill-opacity:1; font-family:Arial,Helvetica Neue,Helvetica,sans-serif; font-size:12; text-anchor:end;\" transform=\"rotate(0, 24.3126, 182.086)\" x=\"24.3126\" y=\"182.086\">4</text>\n",
       "</g>\n",
       "<g clip-path=\"url(#clip6600)\">\n",
       "<text style=\"fill:#000000; fill-opacity:1; font-family:Arial,Helvetica Neue,Helvetica,sans-serif; font-size:12; text-anchor:end;\" transform=\"rotate(0, 24.3126, 88.0969)\" x=\"24.3126\" y=\"88.0969\">6</text>\n",
       "</g>\n",
       "<polygon clip-path=\"url(#clip6602)\" points=\"\n",
       "60.5637,167.114 60.5637,365.565 550.064,365.565 550.064,167.114 60.5637,167.114 60.5637,167.114 \n",
       "  \" fill=\"#009af9\" fill-opacity=\"1\"/>\n",
       "<polyline clip-path=\"url(#clip6602)\" style=\"stroke:#000000; stroke-width:1; stroke-opacity:1; fill:none\" points=\"\n",
       "  60.5637,167.114 60.5637,365.565 550.064,365.565 550.064,167.114 60.5637,167.114 \n",
       "  \"/>\n",
       "<polygon clip-path=\"url(#clip6602)\" points=\"\n",
       "60.5637,191.632 60.5637,365.565 550.064,365.565 550.064,191.632 60.5637,191.632 60.5637,191.632 \n",
       "  \" fill=\"#e26f46\" fill-opacity=\"1\"/>\n",
       "<polyline clip-path=\"url(#clip6602)\" style=\"stroke:#000000; stroke-width:1; stroke-opacity:1; fill:none\" points=\"\n",
       "  60.5637,191.632 60.5637,365.565 550.064,365.565 550.064,191.632 60.5637,191.632 \n",
       "  \"/>\n",
       "<polygon clip-path=\"url(#clip6602)\" points=\"\n",
       "60.5637,169.765 60.5637,365.565 550.064,365.565 550.064,169.765 60.5637,169.765 60.5637,169.765 \n",
       "  \" fill=\"#3da44d\" fill-opacity=\"1\"/>\n",
       "<polyline clip-path=\"url(#clip6602)\" style=\"stroke:#000000; stroke-width:1; stroke-opacity:1; fill:none\" points=\"\n",
       "  60.5637,169.765 60.5637,365.565 550.064,365.565 550.064,169.765 60.5637,169.765 \n",
       "  \"/>\n",
       "<polygon clip-path=\"url(#clip6602)\" points=\"\n",
       "60.5637,130.551 60.5637,365.565 550.064,365.565 550.064,130.551 60.5637,130.551 60.5637,130.551 \n",
       "  \" fill=\"#c271d2\" fill-opacity=\"1\"/>\n",
       "<polyline clip-path=\"url(#clip6602)\" style=\"stroke:#000000; stroke-width:1; stroke-opacity:1; fill:none\" points=\"\n",
       "  60.5637,130.551 60.5637,365.565 550.064,365.565 550.064,130.551 60.5637,130.551 \n",
       "  \"/>\n",
       "<polygon clip-path=\"url(#clip6602)\" points=\"\n",
       "60.5637,22.1145 60.5637,365.565 550.064,365.565 550.064,22.1145 60.5637,22.1145 60.5637,22.1145 \n",
       "  \" fill=\"#ac8d18\" fill-opacity=\"1\"/>\n",
       "<polyline clip-path=\"url(#clip6602)\" style=\"stroke:#000000; stroke-width:1; stroke-opacity:1; fill:none\" points=\"\n",
       "  60.5637,22.1145 60.5637,365.565 550.064,365.565 550.064,22.1145 60.5637,22.1145 \n",
       "  \"/>\n",
       "<polygon clip-path=\"url(#clip6600)\" points=\"\n",
       "489.608,123.411 562.315,123.411 562.315,32.691 489.608,32.691 \n",
       "  \" fill=\"#ffffff\" fill-opacity=\"1\"/>\n",
       "<polyline clip-path=\"url(#clip6600)\" style=\"stroke:#000000; stroke-width:1; stroke-opacity:1; fill:none\" points=\"\n",
       "  489.608,123.411 562.315,123.411 562.315,32.691 489.608,32.691 489.608,123.411 \n",
       "  \"/>\n",
       "<polygon clip-path=\"url(#clip6600)\" points=\"\n",
       "495.608,53.859 531.608,53.859 531.608,41.763 495.608,41.763 495.608,53.859 \n",
       "  \" fill=\"#009af9\" fill-opacity=\"1\"/>\n",
       "<polyline clip-path=\"url(#clip6600)\" style=\"stroke:#000000; stroke-width:1; stroke-opacity:1; fill:none\" points=\"\n",
       "  495.608,53.859 531.608,53.859 531.608,41.763 495.608,41.763 495.608,53.859 \n",
       "  \"/>\n",
       "<g clip-path=\"url(#clip6600)\">\n",
       "<text style=\"fill:#000000; fill-opacity:1; font-family:Arial,Helvetica Neue,Helvetica,sans-serif; font-size:12; text-anchor:start;\" transform=\"rotate(0, 537.608, 52.311)\" x=\"537.608\" y=\"52.311\">y1</text>\n",
       "</g>\n",
       "<polygon clip-path=\"url(#clip6600)\" points=\"\n",
       "495.608,68.979 531.608,68.979 531.608,56.883 495.608,56.883 495.608,68.979 \n",
       "  \" fill=\"#e26f46\" fill-opacity=\"1\"/>\n",
       "<polyline clip-path=\"url(#clip6600)\" style=\"stroke:#000000; stroke-width:1; stroke-opacity:1; fill:none\" points=\"\n",
       "  495.608,68.979 531.608,68.979 531.608,56.883 495.608,56.883 495.608,68.979 \n",
       "  \"/>\n",
       "<g clip-path=\"url(#clip6600)\">\n",
       "<text style=\"fill:#000000; fill-opacity:1; font-family:Arial,Helvetica Neue,Helvetica,sans-serif; font-size:12; text-anchor:start;\" transform=\"rotate(0, 537.608, 67.431)\" x=\"537.608\" y=\"67.431\">y2</text>\n",
       "</g>\n",
       "<polygon clip-path=\"url(#clip6600)\" points=\"\n",
       "495.608,84.099 531.608,84.099 531.608,72.003 495.608,72.003 495.608,84.099 \n",
       "  \" fill=\"#3da44d\" fill-opacity=\"1\"/>\n",
       "<polyline clip-path=\"url(#clip6600)\" style=\"stroke:#000000; stroke-width:1; stroke-opacity:1; fill:none\" points=\"\n",
       "  495.608,84.099 531.608,84.099 531.608,72.003 495.608,72.003 495.608,84.099 \n",
       "  \"/>\n",
       "<g clip-path=\"url(#clip6600)\">\n",
       "<text style=\"fill:#000000; fill-opacity:1; font-family:Arial,Helvetica Neue,Helvetica,sans-serif; font-size:12; text-anchor:start;\" transform=\"rotate(0, 537.608, 82.551)\" x=\"537.608\" y=\"82.551\">y3</text>\n",
       "</g>\n",
       "<polygon clip-path=\"url(#clip6600)\" points=\"\n",
       "495.608,99.219 531.608,99.219 531.608,87.123 495.608,87.123 495.608,99.219 \n",
       "  \" fill=\"#c271d2\" fill-opacity=\"1\"/>\n",
       "<polyline clip-path=\"url(#clip6600)\" style=\"stroke:#000000; stroke-width:1; stroke-opacity:1; fill:none\" points=\"\n",
       "  495.608,99.219 531.608,99.219 531.608,87.123 495.608,87.123 495.608,99.219 \n",
       "  \"/>\n",
       "<g clip-path=\"url(#clip6600)\">\n",
       "<text style=\"fill:#000000; fill-opacity:1; font-family:Arial,Helvetica Neue,Helvetica,sans-serif; font-size:12; text-anchor:start;\" transform=\"rotate(0, 537.608, 97.671)\" x=\"537.608\" y=\"97.671\">y4</text>\n",
       "</g>\n",
       "<polygon clip-path=\"url(#clip6600)\" points=\"\n",
       "495.608,114.339 531.608,114.339 531.608,102.243 495.608,102.243 495.608,114.339 \n",
       "  \" fill=\"#ac8d18\" fill-opacity=\"1\"/>\n",
       "<polyline clip-path=\"url(#clip6600)\" style=\"stroke:#000000; stroke-width:1; stroke-opacity:1; fill:none\" points=\"\n",
       "  495.608,114.339 531.608,114.339 531.608,102.243 495.608,102.243 495.608,114.339 \n",
       "  \"/>\n",
       "<g clip-path=\"url(#clip6600)\">\n",
       "<text style=\"fill:#000000; fill-opacity:1; font-family:Arial,Helvetica Neue,Helvetica,sans-serif; font-size:12; text-anchor:start;\" transform=\"rotate(0, 537.608, 112.791)\" x=\"537.608\" y=\"112.791\">y5</text>\n",
       "</g>\n",
       "</svg>\n"
      ]
     },
     "execution_count": 242,
     "metadata": {},
     "output_type": "execute_result"
    }
   ],
   "source": [
    "bar_plot = bar()\n",
    "n = 20\n",
    "\n",
    "data = [(rand()+1) * randn(n) + i for i in 1:5]\n",
    "\n",
    "for i = collect(1:5)\n",
    "    bar_plot = bar!([mean(data[i])], yerr = std(data[i]))\n",
    "end\n",
    "\n",
    "bar_plot"
   ]
  },
  {
   "cell_type": "code",
   "execution_count": 213,
   "metadata": {},
   "outputs": [
    {
     "data": {
      "image/svg+xml": [
       "<?xml version=\"1.0\" encoding=\"utf-8\"?>\n",
       "<svg xmlns=\"http://www.w3.org/2000/svg\" xmlns:xlink=\"http://www.w3.org/1999/xlink\" width=\"600\" height=\"400\" viewBox=\"0 0 600 400\">\n",
       "<defs>\n",
       "  <clipPath id=\"clip6000\">\n",
       "    <rect x=\"0\" y=\"0\" width=\"600\" height=\"400\"/>\n",
       "  </clipPath>\n",
       "</defs>\n",
       "<polygon clip-path=\"url(#clip6000)\" points=\"\n",
       "0,400 600,400 600,0 0,0 \n",
       "  \" fill=\"#ffffff\" fill-opacity=\"1\"/>\n",
       "<defs>\n",
       "  <clipPath id=\"clip6001\">\n",
       "    <rect x=\"120\" y=\"0\" width=\"421\" height=\"400\"/>\n",
       "  </clipPath>\n",
       "</defs>\n",
       "<polygon clip-path=\"url(#clip6000)\" points=\"\n",
       "37.0032,375.869 580.315,375.869 580.315,11.811 37.0032,11.811 \n",
       "  \" fill=\"#ffffff\" fill-opacity=\"1\"/>\n",
       "<defs>\n",
       "  <clipPath id=\"clip6002\">\n",
       "    <rect x=\"37\" y=\"11\" width=\"544\" height=\"365\"/>\n",
       "  </clipPath>\n",
       "</defs>\n",
       "<polyline clip-path=\"url(#clip6002)\" style=\"stroke:#000000; stroke-width:0.5; stroke-opacity:0.1; fill:none\" points=\"\n",
       "  153.677,375.869 153.677,11.811 \n",
       "  \"/>\n",
       "<polyline clip-path=\"url(#clip6002)\" style=\"stroke:#000000; stroke-width:0.5; stroke-opacity:0.1; fill:none\" points=\"\n",
       "  277.663,375.869 277.663,11.811 \n",
       "  \"/>\n",
       "<polyline clip-path=\"url(#clip6002)\" style=\"stroke:#000000; stroke-width:0.5; stroke-opacity:0.1; fill:none\" points=\"\n",
       "  401.649,375.869 401.649,11.811 \n",
       "  \"/>\n",
       "<polyline clip-path=\"url(#clip6002)\" style=\"stroke:#000000; stroke-width:0.5; stroke-opacity:0.1; fill:none\" points=\"\n",
       "  525.635,375.869 525.635,11.811 \n",
       "  \"/>\n",
       "<polyline clip-path=\"url(#clip6002)\" style=\"stroke:#000000; stroke-width:0.5; stroke-opacity:0.1; fill:none\" points=\"\n",
       "  37.0032,365.565 580.315,365.565 \n",
       "  \"/>\n",
       "<polyline clip-path=\"url(#clip6002)\" style=\"stroke:#000000; stroke-width:0.5; stroke-opacity:0.1; fill:none\" points=\"\n",
       "  37.0032,277.354 580.315,277.354 \n",
       "  \"/>\n",
       "<polyline clip-path=\"url(#clip6002)\" style=\"stroke:#000000; stroke-width:0.5; stroke-opacity:0.1; fill:none\" points=\"\n",
       "  37.0032,189.143 580.315,189.143 \n",
       "  \"/>\n",
       "<polyline clip-path=\"url(#clip6002)\" style=\"stroke:#000000; stroke-width:0.5; stroke-opacity:0.1; fill:none\" points=\"\n",
       "  37.0032,100.931 580.315,100.931 \n",
       "  \"/>\n",
       "<polyline clip-path=\"url(#clip6002)\" style=\"stroke:#000000; stroke-width:0.5; stroke-opacity:0.1; fill:none\" points=\"\n",
       "  37.0032,12.72 580.315,12.72 \n",
       "  \"/>\n",
       "<polyline clip-path=\"url(#clip6000)\" style=\"stroke:#000000; stroke-width:1; stroke-opacity:1; fill:none\" points=\"\n",
       "  37.0032,375.869 580.315,375.869 \n",
       "  \"/>\n",
       "<polyline clip-path=\"url(#clip6000)\" style=\"stroke:#000000; stroke-width:1; stroke-opacity:1; fill:none\" points=\"\n",
       "  37.0032,375.869 37.0032,11.811 \n",
       "  \"/>\n",
       "<polyline clip-path=\"url(#clip6000)\" style=\"stroke:#000000; stroke-width:1; stroke-opacity:1; fill:none\" points=\"\n",
       "  153.677,375.869 153.677,370.408 \n",
       "  \"/>\n",
       "<polyline clip-path=\"url(#clip6000)\" style=\"stroke:#000000; stroke-width:1; stroke-opacity:1; fill:none\" points=\"\n",
       "  277.663,375.869 277.663,370.408 \n",
       "  \"/>\n",
       "<polyline clip-path=\"url(#clip6000)\" style=\"stroke:#000000; stroke-width:1; stroke-opacity:1; fill:none\" points=\"\n",
       "  401.649,375.869 401.649,370.408 \n",
       "  \"/>\n",
       "<polyline clip-path=\"url(#clip6000)\" style=\"stroke:#000000; stroke-width:1; stroke-opacity:1; fill:none\" points=\"\n",
       "  525.635,375.869 525.635,370.408 \n",
       "  \"/>\n",
       "<polyline clip-path=\"url(#clip6000)\" style=\"stroke:#000000; stroke-width:1; stroke-opacity:1; fill:none\" points=\"\n",
       "  37.0032,365.565 45.1529,365.565 \n",
       "  \"/>\n",
       "<polyline clip-path=\"url(#clip6000)\" style=\"stroke:#000000; stroke-width:1; stroke-opacity:1; fill:none\" points=\"\n",
       "  37.0032,277.354 45.1529,277.354 \n",
       "  \"/>\n",
       "<polyline clip-path=\"url(#clip6000)\" style=\"stroke:#000000; stroke-width:1; stroke-opacity:1; fill:none\" points=\"\n",
       "  37.0032,189.143 45.1529,189.143 \n",
       "  \"/>\n",
       "<polyline clip-path=\"url(#clip6000)\" style=\"stroke:#000000; stroke-width:1; stroke-opacity:1; fill:none\" points=\"\n",
       "  37.0032,100.931 45.1529,100.931 \n",
       "  \"/>\n",
       "<polyline clip-path=\"url(#clip6000)\" style=\"stroke:#000000; stroke-width:1; stroke-opacity:1; fill:none\" points=\"\n",
       "  37.0032,12.72 45.1529,12.72 \n",
       "  \"/>\n",
       "<g clip-path=\"url(#clip6000)\">\n",
       "<text style=\"fill:#000000; fill-opacity:1; font-family:Arial,Helvetica Neue,Helvetica,sans-serif; font-size:12; text-anchor:middle;\" transform=\"rotate(0, 153.677, 389.669)\" x=\"153.677\" y=\"389.669\">2</text>\n",
       "</g>\n",
       "<g clip-path=\"url(#clip6000)\">\n",
       "<text style=\"fill:#000000; fill-opacity:1; font-family:Arial,Helvetica Neue,Helvetica,sans-serif; font-size:12; text-anchor:middle;\" transform=\"rotate(0, 277.663, 389.669)\" x=\"277.663\" y=\"389.669\">4</text>\n",
       "</g>\n",
       "<g clip-path=\"url(#clip6000)\">\n",
       "<text style=\"fill:#000000; fill-opacity:1; font-family:Arial,Helvetica Neue,Helvetica,sans-serif; font-size:12; text-anchor:middle;\" transform=\"rotate(0, 401.649, 389.669)\" x=\"401.649\" y=\"389.669\">6</text>\n",
       "</g>\n",
       "<g clip-path=\"url(#clip6000)\">\n",
       "<text style=\"fill:#000000; fill-opacity:1; font-family:Arial,Helvetica Neue,Helvetica,sans-serif; font-size:12; text-anchor:middle;\" transform=\"rotate(0, 525.635, 389.669)\" x=\"525.635\" y=\"389.669\">8</text>\n",
       "</g>\n",
       "<g clip-path=\"url(#clip6000)\">\n",
       "<text style=\"fill:#000000; fill-opacity:1; font-family:Arial,Helvetica Neue,Helvetica,sans-serif; font-size:12; text-anchor:end;\" transform=\"rotate(0, 31.0032, 370.065)\" x=\"31.0032\" y=\"370.065\">0</text>\n",
       "</g>\n",
       "<g clip-path=\"url(#clip6000)\">\n",
       "<text style=\"fill:#000000; fill-opacity:1; font-family:Arial,Helvetica Neue,Helvetica,sans-serif; font-size:12; text-anchor:end;\" transform=\"rotate(0, 31.0032, 281.854)\" x=\"31.0032\" y=\"281.854\">20</text>\n",
       "</g>\n",
       "<g clip-path=\"url(#clip6000)\">\n",
       "<text style=\"fill:#000000; fill-opacity:1; font-family:Arial,Helvetica Neue,Helvetica,sans-serif; font-size:12; text-anchor:end;\" transform=\"rotate(0, 31.0032, 193.643)\" x=\"31.0032\" y=\"193.643\">40</text>\n",
       "</g>\n",
       "<g clip-path=\"url(#clip6000)\">\n",
       "<text style=\"fill:#000000; fill-opacity:1; font-family:Arial,Helvetica Neue,Helvetica,sans-serif; font-size:12; text-anchor:end;\" transform=\"rotate(0, 31.0032, 105.431)\" x=\"31.0032\" y=\"105.431\">60</text>\n",
       "</g>\n",
       "<g clip-path=\"url(#clip6000)\">\n",
       "<text style=\"fill:#000000; fill-opacity:1; font-family:Arial,Helvetica Neue,Helvetica,sans-serif; font-size:12; text-anchor:end;\" transform=\"rotate(0, 31.0032, 17.22)\" x=\"31.0032\" y=\"17.22\">80</text>\n",
       "</g>\n",
       "<polygon clip-path=\"url(#clip6002)\" points=\"\n",
       "66.8863,243.521 66.8863,365.565 116.481,365.565 116.481,243.521 66.8863,243.521 66.8863,243.521 \n",
       "  \" fill=\"#009af9\" fill-opacity=\"1\"/>\n",
       "<polyline clip-path=\"url(#clip6002)\" style=\"stroke:#000000; stroke-width:1; stroke-opacity:1; fill:none\" points=\"\n",
       "  66.8863,243.521 66.8863,365.565 116.481,365.565 116.481,243.521 66.8863,243.521 \n",
       "  \"/>\n",
       "<polygon clip-path=\"url(#clip6002)\" points=\"\n",
       "128.879,55.7259 128.879,365.565 178.474,365.565 178.474,55.7259 128.879,55.7259 128.879,55.7259 \n",
       "  \" fill=\"#009af9\" fill-opacity=\"1\"/>\n",
       "<polyline clip-path=\"url(#clip6002)\" style=\"stroke:#000000; stroke-width:1; stroke-opacity:1; fill:none\" points=\"\n",
       "  128.879,55.7259 128.879,365.565 178.474,365.565 178.474,55.7259 128.879,55.7259 \n",
       "  \"/>\n",
       "<polygon clip-path=\"url(#clip6002)\" points=\"\n",
       "190.872,332.942 190.872,365.565 240.467,365.565 240.467,332.942 190.872,332.942 190.872,332.942 \n",
       "  \" fill=\"#009af9\" fill-opacity=\"1\"/>\n",
       "<polyline clip-path=\"url(#clip6002)\" style=\"stroke:#000000; stroke-width:1; stroke-opacity:1; fill:none\" points=\"\n",
       "  190.872,332.942 190.872,365.565 240.467,365.565 240.467,332.942 190.872,332.942 \n",
       "  \"/>\n",
       "<polygon clip-path=\"url(#clip6002)\" points=\"\n",
       "252.865,364.605 252.865,365.565 302.46,365.565 302.46,364.605 252.865,364.605 252.865,364.605 \n",
       "  \" fill=\"#009af9\" fill-opacity=\"1\"/>\n",
       "<polyline clip-path=\"url(#clip6002)\" style=\"stroke:#000000; stroke-width:1; stroke-opacity:1; fill:none\" points=\"\n",
       "  252.865,364.605 252.865,365.565 302.46,365.565 302.46,364.605 252.865,364.605 \n",
       "  \"/>\n",
       "<polygon clip-path=\"url(#clip6002)\" points=\"\n",
       "314.858,317.629 314.858,365.565 364.453,365.565 364.453,317.629 314.858,317.629 314.858,317.629 \n",
       "  \" fill=\"#009af9\" fill-opacity=\"1\"/>\n",
       "<polyline clip-path=\"url(#clip6002)\" style=\"stroke:#000000; stroke-width:1; stroke-opacity:1; fill:none\" points=\"\n",
       "  314.858,317.629 314.858,365.565 364.453,365.565 364.453,317.629 314.858,317.629 \n",
       "  \"/>\n",
       "<polygon clip-path=\"url(#clip6002)\" points=\"\n",
       "376.851,365.432 376.851,365.565 426.446,365.565 426.446,365.432 376.851,365.432 376.851,365.432 \n",
       "  \" fill=\"#009af9\" fill-opacity=\"1\"/>\n",
       "<polyline clip-path=\"url(#clip6002)\" style=\"stroke:#000000; stroke-width:1; stroke-opacity:1; fill:none\" points=\"\n",
       "  376.851,365.432 376.851,365.565 426.446,365.565 426.446,365.432 376.851,365.432 \n",
       "  \"/>\n",
       "<polygon clip-path=\"url(#clip6002)\" points=\"\n",
       "438.844,364.427 438.844,365.565 488.439,365.565 488.439,364.427 438.844,364.427 438.844,364.427 \n",
       "  \" fill=\"#009af9\" fill-opacity=\"1\"/>\n",
       "<polyline clip-path=\"url(#clip6002)\" style=\"stroke:#000000; stroke-width:1; stroke-opacity:1; fill:none\" points=\"\n",
       "  438.844,364.427 438.844,365.565 488.439,365.565 488.439,364.427 438.844,364.427 \n",
       "  \"/>\n",
       "<polygon clip-path=\"url(#clip6002)\" points=\"\n",
       "500.837,365.333 500.837,365.565 550.432,365.565 550.432,365.333 500.837,365.333 500.837,365.333 \n",
       "  \" fill=\"#009af9\" fill-opacity=\"1\"/>\n",
       "<polyline clip-path=\"url(#clip6002)\" style=\"stroke:#000000; stroke-width:1; stroke-opacity:1; fill:none\" points=\"\n",
       "  500.837,365.333 500.837,365.565 550.432,365.565 550.432,365.333 500.837,365.333 \n",
       "  \"/>\n",
       "<polygon clip-path=\"url(#clip6002)\" points=\"\n",
       "66.8863,244.857 66.8863,365.565 116.481,365.565 116.481,244.857 66.8863,244.857 66.8863,244.857 \n",
       "  \" fill=\"#e26f46\" fill-opacity=\"1\"/>\n",
       "<polyline clip-path=\"url(#clip6002)\" style=\"stroke:#000000; stroke-width:1; stroke-opacity:1; fill:none\" points=\"\n",
       "  66.8863,244.857 66.8863,365.565 116.481,365.565 116.481,244.857 66.8863,244.857 \n",
       "  \"/>\n",
       "<polygon clip-path=\"url(#clip6002)\" points=\"\n",
       "128.879,22.1145 128.879,365.565 178.474,365.565 178.474,22.1145 128.879,22.1145 128.879,22.1145 \n",
       "  \" fill=\"#e26f46\" fill-opacity=\"1\"/>\n",
       "<polyline clip-path=\"url(#clip6002)\" style=\"stroke:#000000; stroke-width:1; stroke-opacity:1; fill:none\" points=\"\n",
       "  128.879,22.1145 128.879,365.565 178.474,365.565 178.474,22.1145 128.879,22.1145 \n",
       "  \"/>\n",
       "<polygon clip-path=\"url(#clip6002)\" points=\"\n",
       "190.872,331.467 190.872,365.565 240.467,365.565 240.467,331.467 190.872,331.467 190.872,331.467 \n",
       "  \" fill=\"#e26f46\" fill-opacity=\"1\"/>\n",
       "<polyline clip-path=\"url(#clip6002)\" style=\"stroke:#000000; stroke-width:1; stroke-opacity:1; fill:none\" points=\"\n",
       "  190.872,331.467 190.872,365.565 240.467,365.565 240.467,331.467 190.872,331.467 \n",
       "  \"/>\n",
       "<polygon clip-path=\"url(#clip6002)\" points=\"\n",
       "252.865,365.137 252.865,365.565 302.46,365.565 302.46,365.137 252.865,365.137 252.865,365.137 \n",
       "  \" fill=\"#e26f46\" fill-opacity=\"1\"/>\n",
       "<polyline clip-path=\"url(#clip6002)\" style=\"stroke:#000000; stroke-width:1; stroke-opacity:1; fill:none\" points=\"\n",
       "  252.865,365.137 252.865,365.565 302.46,365.565 302.46,365.137 252.865,365.137 \n",
       "  \"/>\n",
       "<polygon clip-path=\"url(#clip6002)\" points=\"\n",
       "314.858,339.119 314.858,365.565 364.453,365.565 364.453,339.119 314.858,339.119 314.858,339.119 \n",
       "  \" fill=\"#e26f46\" fill-opacity=\"1\"/>\n",
       "<polyline clip-path=\"url(#clip6002)\" style=\"stroke:#000000; stroke-width:1; stroke-opacity:1; fill:none\" points=\"\n",
       "  314.858,339.119 314.858,365.565 364.453,365.565 364.453,339.119 314.858,339.119 \n",
       "  \"/>\n",
       "<polygon clip-path=\"url(#clip6002)\" points=\"\n",
       "376.851,365.446 376.851,365.565 426.446,365.565 426.446,365.446 376.851,365.446 376.851,365.446 \n",
       "  \" fill=\"#e26f46\" fill-opacity=\"1\"/>\n",
       "<polyline clip-path=\"url(#clip6002)\" style=\"stroke:#000000; stroke-width:1; stroke-opacity:1; fill:none\" points=\"\n",
       "  376.851,365.446 376.851,365.565 426.446,365.565 426.446,365.446 376.851,365.446 \n",
       "  \"/>\n",
       "<polygon clip-path=\"url(#clip6002)\" points=\"\n",
       "438.844,363.783 438.844,365.565 488.439,365.565 488.439,363.783 438.844,363.783 438.844,363.783 \n",
       "  \" fill=\"#e26f46\" fill-opacity=\"1\"/>\n",
       "<polyline clip-path=\"url(#clip6002)\" style=\"stroke:#000000; stroke-width:1; stroke-opacity:1; fill:none\" points=\"\n",
       "  438.844,363.783 438.844,365.565 488.439,365.565 488.439,363.783 438.844,363.783 \n",
       "  \"/>\n",
       "<polygon clip-path=\"url(#clip6002)\" points=\"\n",
       "500.837,365.226 500.837,365.565 550.432,365.565 550.432,365.226 500.837,365.226 500.837,365.226 \n",
       "  \" fill=\"#e26f46\" fill-opacity=\"1\"/>\n",
       "<polyline clip-path=\"url(#clip6002)\" style=\"stroke:#000000; stroke-width:1; stroke-opacity:1; fill:none\" points=\"\n",
       "  500.837,365.226 500.837,365.565 550.432,365.565 550.432,365.226 500.837,365.226 \n",
       "  \"/>\n",
       "<polygon clip-path=\"url(#clip6000)\" points=\"\n",
       "489.608,78.051 562.315,78.051 562.315,32.691 489.608,32.691 \n",
       "  \" fill=\"#ffffff\" fill-opacity=\"1\"/>\n",
       "<polyline clip-path=\"url(#clip6000)\" style=\"stroke:#000000; stroke-width:1; stroke-opacity:1; fill:none\" points=\"\n",
       "  489.608,78.051 562.315,78.051 562.315,32.691 489.608,32.691 489.608,78.051 \n",
       "  \"/>\n",
       "<polygon clip-path=\"url(#clip6000)\" points=\"\n",
       "495.608,53.859 531.608,53.859 531.608,41.763 495.608,41.763 495.608,53.859 \n",
       "  \" fill=\"#009af9\" fill-opacity=\"1\"/>\n",
       "<polyline clip-path=\"url(#clip6000)\" style=\"stroke:#000000; stroke-width:1; stroke-opacity:1; fill:none\" points=\"\n",
       "  495.608,53.859 531.608,53.859 531.608,41.763 495.608,41.763 495.608,53.859 \n",
       "  \"/>\n",
       "<g clip-path=\"url(#clip6000)\">\n",
       "<text style=\"fill:#000000; fill-opacity:1; font-family:Arial,Helvetica Neue,Helvetica,sans-serif; font-size:12; text-anchor:start;\" transform=\"rotate(0, 537.608, 52.311)\" x=\"537.608\" y=\"52.311\">y1</text>\n",
       "</g>\n",
       "<polygon clip-path=\"url(#clip6000)\" points=\"\n",
       "495.608,68.979 531.608,68.979 531.608,56.883 495.608,56.883 495.608,68.979 \n",
       "  \" fill=\"#e26f46\" fill-opacity=\"1\"/>\n",
       "<polyline clip-path=\"url(#clip6000)\" style=\"stroke:#000000; stroke-width:1; stroke-opacity:1; fill:none\" points=\"\n",
       "  495.608,68.979 531.608,68.979 531.608,56.883 495.608,56.883 495.608,68.979 \n",
       "  \"/>\n",
       "<g clip-path=\"url(#clip6000)\">\n",
       "<text style=\"fill:#000000; fill-opacity:1; font-family:Arial,Helvetica Neue,Helvetica,sans-serif; font-size:12; text-anchor:start;\" transform=\"rotate(0, 537.608, 67.431)\" x=\"537.608\" y=\"67.431\">y2</text>\n",
       "</g>\n",
       "</svg>\n"
      ]
     },
     "execution_count": 213,
     "metadata": {},
     "output_type": "execute_result"
    }
   ],
   "source": [
    "bar([jL.time])\n",
    "bar!([jL.time_1])"
   ]
  },
  {
   "cell_type": "code",
   "execution_count": 59,
   "metadata": {},
   "outputs": [
    {
     "ename": "LoadError",
     "evalue": "syntax: invalid syntax &(Core.tuple(getproperty(Broadcast, :materialize)(getproperty(Broadcast, :broadcasted)(==, getindex(benchmarks, 1), \"C\")), getproperty(Broadcast, :materialize)(getproperty(Broadcast, :broadcasted)(==, getindex(benchmarks, 1), \"Go\"))))",
     "output_type": "error",
     "traceback": [
      "syntax: invalid syntax &(Core.tuple(getproperty(Broadcast, :materialize)(getproperty(Broadcast, :broadcasted)(==, getindex(benchmarks, 1), \"C\")), getproperty(Broadcast, :materialize)(getproperty(Broadcast, :broadcasted)(==, getindex(benchmarks, 1), \"Go\"))))",
      ""
     ]
    }
   ],
   "source": [
    "benchmarks[&((benchmarks[1].== \"C\"), (benchmarks[1].== \"Go\")), :  ]"
   ]
  },
  {
   "cell_type": "code",
   "execution_count": 127,
   "metadata": {
    "scrolled": false
   },
   "outputs": [
    {
     "data": {
      "text/html": [
       "<table class=\"data-frame\"><thead><tr><th></th><th>language</th><th>benchmark</th><th>time</th><th>ctime</th><th>normtime</th></tr></thead><tbody><tr><th>1</th><td>C</td><td>iteration_pi_sum</td><td>27.3681</td><td>27.3681</td><td>1.0</td></tr><tr><th>2</th><td>C</td><td>matrix_multiply</td><td>72.0148</td><td>72.0148</td><td>1.0</td></tr><tr><th>3</th><td>C</td><td>matrix_statistics</td><td>4.529</td><td>4.529</td><td>1.0</td></tr><tr><th>4</th><td>C</td><td>parse_integers</td><td>0.099249</td><td>0.099249</td><td>1.0</td></tr><tr><th>5</th><td>C</td><td>print_to_file</td><td>9.9299</td><td>9.9299</td><td>1.0</td></tr><tr><th>6</th><td>C</td><td>recursion_fibonacci</td><td>0.022732</td><td>0.022732</td><td>1.0</td></tr><tr><th>7</th><td>C</td><td>recursion_quicksort</td><td>0.258923</td><td>0.258923</td><td>1.0</td></tr><tr><th>8</th><td>C</td><td>userfunc_mandelbrot</td><td>0.076702</td><td>0.076702</td><td>1.0</td></tr><tr><th>9</th><td>Fortran</td><td>iteration_pi_sum</td><td>27.3688</td><td>27.3681</td><td>1.00003</td></tr><tr><th>10</th><td>Fortran</td><td>matrix_multiply</td><td>83.4166</td><td>72.0148</td><td>1.15833</td></tr><tr><th>11</th><td>Fortran</td><td>matrix_statistics</td><td>6.98447</td><td>4.529</td><td>1.54217</td></tr><tr><th>12</th><td>Fortran</td><td>parse_integers</td><td>0.682692</td><td>0.099249</td><td>6.87858</td></tr><tr><th>13</th><td>Fortran</td><td>print_to_file</td><td>59.2877</td><td>9.9299</td><td>5.97063</td></tr><tr><th>14</th><td>Fortran</td><td>recursion_fibonacci</td><td>0.022466</td><td>0.022732</td><td>0.988298</td></tr><tr><th>15</th><td>Fortran</td><td>recursion_quicksort</td><td>0.308118</td><td>0.258923</td><td>1.19</td></tr><tr><th>16</th><td>Fortran</td><td>userfunc_mandelbrot</td><td>0.053836</td><td>0.076702</td><td>0.701885</td></tr><tr><th>17</th><td>Go</td><td>iteration_pi_sum</td><td>27.3706</td><td>27.3681</td><td>1.00009</td></tr><tr><th>18</th><td>Go</td><td>matrix_multiply</td><td>102.998</td><td>72.0148</td><td>1.43024</td></tr><tr><th>19</th><td>Go</td><td>matrix_statistics</td><td>27.5798</td><td>4.529</td><td>6.0896</td></tr><tr><th>20</th><td>Go</td><td>parse_integers</td><td>0.0953155</td><td>0.099249</td><td>0.960367</td></tr><tr><th>21</th><td>Go</td><td>print_to_file</td><td>17.3706</td><td>9.9299</td><td>1.74932</td></tr><tr><th>22</th><td>Go</td><td>recursion_fibonacci</td><td>0.0410112</td><td>0.022732</td><td>1.80412</td></tr><tr><th>23</th><td>Go</td><td>recursion_quicksort</td><td>0.321594</td><td>0.258923</td><td>1.24204</td></tr><tr><th>24</th><td>Go</td><td>userfunc_mandelbrot</td><td>0.0596854</td><td>0.076702</td><td>0.778147</td></tr><tr><th>25</th><td>Java</td><td>iteration_pi_sum</td><td>29.723</td><td>27.3681</td><td>1.08605</td></tr><tr><th>26</th><td>Java</td><td>matrix_multiply</td><td>581.467</td><td>72.0148</td><td>8.07427</td></tr><tr><th>27</th><td>Java</td><td>matrix_statistics</td><td>22.7762</td><td>4.529</td><td>5.02897</td></tr><tr><th>28</th><td>Java</td><td>parse_integers</td><td>0.314691</td><td>0.099249</td><td>3.17072</td></tr><tr><th>29</th><td>Java</td><td>print_to_file</td><td>95.8505</td><td>9.9299</td><td>9.65272</td></tr><tr><th>30</th><td>Java</td><td>recursion_fibonacci</td><td>0.082739</td><td>0.022732</td><td>3.63976</td></tr><tr><th>&vellip;</th><td>&vellip;</td><td>&vellip;</td><td>&vellip;</td><td>&vellip;</td><td>&vellip;</td></tr></tbody></table>"
      ],
      "text/plain": [
       "104×5 DataFrame\n",
       "│ Row │ language │ benchmark           │ time     │ ctime    │ normtime │\n",
       "├─────┼──────────┼─────────────────────┼──────────┼──────────┼──────────┤\n",
       "│ 1   │ C        │ iteration_pi_sum    │ 27.3681  │ 27.3681  │ 1.0      │\n",
       "│ 2   │ C        │ matrix_multiply     │ 72.0148  │ 72.0148  │ 1.0      │\n",
       "│ 3   │ C        │ matrix_statistics   │ 4.529    │ 4.529    │ 1.0      │\n",
       "│ 4   │ C        │ parse_integers      │ 0.099249 │ 0.099249 │ 1.0      │\n",
       "│ 5   │ C        │ print_to_file       │ 9.9299   │ 9.9299   │ 1.0      │\n",
       "│ 6   │ C        │ recursion_fibonacci │ 0.022732 │ 0.022732 │ 1.0      │\n",
       "│ 7   │ C        │ recursion_quicksort │ 0.258923 │ 0.258923 │ 1.0      │\n",
       "│ 8   │ C        │ userfunc_mandelbrot │ 0.076702 │ 0.076702 │ 1.0      │\n",
       "│ 9   │ Fortran  │ iteration_pi_sum    │ 27.3688  │ 27.3681  │ 1.00003  │\n",
       "│ 10  │ Fortran  │ matrix_multiply     │ 83.4166  │ 72.0148  │ 1.15833  │\n",
       "│ 11  │ Fortran  │ matrix_statistics   │ 6.98447  │ 4.529    │ 1.54217  │\n",
       "⋮\n",
       "│ 93  │ R        │ print_to_file       │ 1009.0   │ 9.9299   │ 101.612  │\n",
       "│ 94  │ R        │ recursion_fibonacci │ 6.0      │ 0.022732 │ 263.945  │\n",
       "│ 95  │ R        │ recursion_quicksort │ 15.0     │ 0.258923 │ 57.9323  │\n",
       "│ 96  │ R        │ userfunc_mandelbrot │ 15.0     │ 0.076702 │ 195.562  │\n",
       "│ 97  │ Rust     │ iteration_pi_sum    │ 27.3738  │ 27.3681  │ 1.00021  │\n",
       "│ 98  │ Rust     │ matrix_multiply     │ 77.6157  │ 72.0148  │ 1.07777  │\n",
       "│ 99  │ Rust     │ matrix_statistics   │ 6.49792  │ 4.529    │ 1.43474  │\n",
       "│ 100 │ Rust     │ parse_integers      │ 0.121999 │ 0.099249 │ 1.22922  │\n",
       "│ 101 │ Rust     │ print_to_file       │ 8.81542  │ 9.9299   │ 0.887766 │\n",
       "│ 102 │ Rust     │ recursion_fibonacci │ 0.039227 │ 0.022732 │ 1.72563  │\n",
       "│ 103 │ Rust     │ recursion_quicksort │ 0.253416 │ 0.258923 │ 0.978731 │\n",
       "│ 104 │ Rust     │ userfunc_mandelbrot │ 0.057636 │ 0.076702 │ 0.751428 │"
      ]
     },
     "execution_count": 127,
     "metadata": {},
     "output_type": "execute_result"
    }
   ],
   "source": [
    "benchmarks"
   ]
  },
  {
   "cell_type": "code",
   "execution_count": 22,
   "metadata": {},
   "outputs": [
    {
     "data": {
      "text/plain": [
       "27.368069"
      ]
     },
     "execution_count": 22,
     "metadata": {},
     "output_type": "execute_result"
    }
   ],
   "source": [
    "benchmarks.ctime[1]"
   ]
  },
  {
   "cell_type": "code",
   "execution_count": 1,
   "metadata": {},
   "outputs": [
    {
     "data": {
      "text/plain": [
       "fg_1a (generic function with 1 method)"
      ]
     },
     "execution_count": 1,
     "metadata": {},
     "output_type": "execute_result"
    }
   ],
   "source": [
    "# Forma de blocos\n",
    "function fg_1a(x)\n",
    "    return x^2 + 2*x + 1\n",
    "end"
   ]
  },
  {
   "cell_type": "code",
   "execution_count": 2,
   "metadata": {},
   "outputs": [
    {
     "data": {
      "text/plain": [
       "36"
      ]
     },
     "execution_count": 2,
     "metadata": {},
     "output_type": "execute_result"
    }
   ],
   "source": [
    "fg_1a(5)"
   ]
  },
  {
   "cell_type": "code",
   "execution_count": 3,
   "metadata": {},
   "outputs": [
    {
     "data": {
      "text/plain": [
       "fg_1b (generic function with 1 method)"
      ]
     },
     "execution_count": 3,
     "metadata": {},
     "output_type": "execute_result"
    }
   ],
   "source": [
    "# Forma reduzida\n",
    "fg_1b(x) = x^2 + 2*x + 1"
   ]
  },
  {
   "cell_type": "code",
   "execution_count": 4,
   "metadata": {},
   "outputs": [
    {
     "data": {
      "text/plain": [
       "36"
      ]
     },
     "execution_count": 4,
     "metadata": {},
     "output_type": "execute_result"
    }
   ],
   "source": [
    "fg_1b(5)"
   ]
  },
  {
   "cell_type": "code",
   "execution_count": 5,
   "metadata": {},
   "outputs": [
    {
     "data": {
      "text/plain": [
       "fg_2a (generic function with 1 method)"
      ]
     },
     "execution_count": 5,
     "metadata": {},
     "output_type": "execute_result"
    }
   ],
   "source": [
    "# função de uma variável com retorno múltiplo\n",
    "function fg_2a(x)\n",
    "    return x^2 , x/2\n",
    "end"
   ]
  },
  {
   "cell_type": "code",
   "execution_count": 6,
   "metadata": {},
   "outputs": [
    {
     "data": {
      "text/plain": [
       "(25,2.5)"
      ]
     },
     "execution_count": 6,
     "metadata": {},
     "output_type": "execute_result"
    }
   ],
   "source": [
    "fg_2a(5)"
   ]
  },
  {
   "cell_type": "code",
   "execution_count": 7,
   "metadata": {},
   "outputs": [
    {
     "data": {
      "text/plain": [
       "3-element Array{Float64,1}:\n",
       "  4.0\n",
       "  9.0\n",
       " 16.0"
      ]
     },
     "execution_count": 7,
     "metadata": {},
     "output_type": "execute_result"
    }
   ],
   "source": [
    "# Vetor\n",
    "# O ponto \".\" serve para calcular elemento-elemento em um vetor\n",
    "fg_1a.([1.0, 2.0, 3.0 ])"
   ]
  },
  {
   "cell_type": "code",
   "execution_count": 8,
   "metadata": {},
   "outputs": [
    {
     "data": {
      "text/plain": [
       "2×3 Array{Float64,2}:\n",
       "  4.0   9.0  16.0\n",
       " 25.0  36.0  49.0"
      ]
     },
     "execution_count": 8,
     "metadata": {},
     "output_type": "execute_result"
    }
   ],
   "source": [
    "# Matriz\n",
    "# O ponto \".\" serve para calcular elemento-elemento em um vetor\n",
    "fg_1a.([1.0 2.0 3.0 ; 4.0 5.0 6.0])"
   ]
  },
  {
   "cell_type": "markdown",
   "metadata": {},
   "source": [
    "```julia\n",
    "\"\"\"\n",
    "Função que calcula a série de Fibonacci\n",
    "\n",
    "fiboR(termo)\n",
    "\"\"\"\n",
    "\n",
    "function fiboR(n) \n",
    "    if n < 2 \n",
    "        return n\n",
    "    else\n",
    "        fiboR(n - 1) + fiboR(n - 2)\n",
    "    end\n",
    "end\n",
    "```"
   ]
  },
  {
   "cell_type": "code",
   "execution_count": 9,
   "metadata": {},
   "outputs": [
    {
     "data": {
      "text/plain": [
       "fiboR"
      ]
     },
     "execution_count": 9,
     "metadata": {},
     "output_type": "execute_result"
    }
   ],
   "source": [
    "include(\"fiboR.jl\")"
   ]
  },
  {
   "cell_type": "code",
   "execution_count": 10,
   "metadata": {},
   "outputs": [
    {
     "name": "stdout",
     "output_type": "stream",
     "text": [
      "  0.814084 seconds (796 allocations: 40.831 KB)\n"
     ]
    },
    {
     "data": {
      "text/plain": [
       "102334155"
      ]
     },
     "execution_count": 10,
     "metadata": {},
     "output_type": "execute_result"
    }
   ],
   "source": [
    "@time fiboR(40)"
   ]
  },
  {
   "cell_type": "code",
   "execution_count": 1,
   "metadata": {},
   "outputs": [
    {
     "data": {
      "text/plain": [
       "-1"
      ]
     },
     "execution_count": 1,
     "metadata": {},
     "output_type": "execute_result"
    }
   ],
   "source": [
    "# Função anônima de uma variável e retorno simples\n",
    "(x -> x^3 - 2*x^2 - 1)(0)"
   ]
  },
  {
   "cell_type": "code",
   "execution_count": 2,
   "metadata": {},
   "outputs": [
    {
     "data": {
      "text/plain": [
       "(-1,1)"
      ]
     },
     "execution_count": 2,
     "metadata": {},
     "output_type": "execute_result"
    }
   ],
   "source": [
    "# uma variável e retorno múltiplo\n",
    "(x -> (x^3 - 2*x^2 - 1 , x + 1) )(0)"
   ]
  },
  {
   "cell_type": "code",
   "execution_count": 3,
   "metadata": {},
   "outputs": [
    {
     "data": {
      "text/plain": [
       "(::#5) (generic function with 1 method)"
      ]
     },
     "execution_count": 3,
     "metadata": {},
     "output_type": "execute_result"
    }
   ],
   "source": [
    "# Variável associada a uma função anônima\n",
    "f_ano_1 = x -> x^3 - 2*x^2 - 1"
   ]
  },
  {
   "cell_type": "code",
   "execution_count": 4,
   "metadata": {},
   "outputs": [
    {
     "data": {
      "text/plain": [
       "-1"
      ]
     },
     "execution_count": 4,
     "metadata": {},
     "output_type": "execute_result"
    }
   ],
   "source": [
    "f_ano_1(0)"
   ]
  },
  {
   "cell_type": "code",
   "execution_count": 5,
   "metadata": {},
   "outputs": [
    {
     "data": {
      "text/plain": [
       "-1"
      ]
     },
     "execution_count": 5,
     "metadata": {},
     "output_type": "execute_result"
    }
   ],
   "source": [
    "# duas variáveis e retorno simples\n",
    "((x, y) -> 2*y - 1 + x)(0 , 0)"
   ]
  },
  {
   "cell_type": "code",
   "execution_count": 6,
   "metadata": {},
   "outputs": [
    {
     "data": {
      "text/plain": [
       "(-1,0)"
      ]
     },
     "execution_count": 6,
     "metadata": {},
     "output_type": "execute_result"
    }
   ],
   "source": [
    "# duas variáveis e retorno múltiplo\n",
    "((x, y) -> (2*y - 1 + x, x*y))(0 , 0)"
   ]
  },
  {
   "cell_type": "code",
   "execution_count": 7,
   "metadata": {},
   "outputs": [
    {
     "data": {
      "text/plain": [
       "3-element Array{Int64,1}:\n",
       " -2\n",
       " -1\n",
       "  8"
      ]
     },
     "execution_count": 7,
     "metadata": {},
     "output_type": "execute_result"
    }
   ],
   "source": [
    "# Vetor \n",
    "# uma variável e retorno simples\n",
    "# O ponto \".\" serve para calcular a função elemento-elemento do vetor.\n",
    "(x -> x^3 - 2*x^2 - 1).(1:3)"
   ]
  },
  {
   "cell_type": "code",
   "execution_count": null,
   "metadata": {
    "collapsed": true
   },
   "outputs": [],
   "source": []
  },
  {
   "cell_type": "code",
   "execution_count": 1,
   "metadata": {},
   "outputs": [],
   "source": [
    "# Importando o pacote sympy\n",
    "using SymPy"
   ]
  },
  {
   "cell_type": "code",
   "execution_count": 2,
   "metadata": {},
   "outputs": [
    {
     "data": {
      "text/plain": [
       "(x,y)"
      ]
     },
     "execution_count": 2,
     "metadata": {},
     "output_type": "execute_result"
    }
   ],
   "source": [
    "# Criação das variáveis simbólicas\n",
    "@syms x y"
   ]
  },
  {
   "cell_type": "code",
   "execution_count": 3,
   "metadata": {},
   "outputs": [
    {
     "data": {
      "text/latex": [
       "$$x^{7} - 17 x^{6} + 123 x^{5} - 491 x^{4} + 1168 x^{3} - 1656 x^{2} + 1296 x - 432$$"
      ],
      "text/plain": [
       " 7       6        5        4         3         2               \n",
       "x  - 17⋅x  + 123⋅x  - 491⋅x  + 1168⋅x  - 1656⋅x  + 1296⋅x - 432"
      ]
     },
     "execution_count": 3,
     "metadata": {},
     "output_type": "execute_result"
    }
   ],
   "source": [
    "# Expansão de expressão\n",
    "expand((x-2)^4 * (x-3)^3)"
   ]
  },
  {
   "cell_type": "code",
   "execution_count": 4,
   "metadata": {},
   "outputs": [
    {
     "data": {
      "text/latex": [
       "$$\\frac{2 x^{2} + 3 x - 1}{x^{2} - 3 x + 2}$$"
      ],
      "text/plain": [
       "   2          \n",
       "2⋅x  + 3⋅x - 1\n",
       "──────────────\n",
       "  2           \n",
       " x  - 3⋅x + 2 "
      ]
     },
     "execution_count": 4,
     "metadata": {},
     "output_type": "execute_result"
    }
   ],
   "source": [
    "# Simplificação de expressão\n",
    "simplify(13/(x-2)  - 4/(x-1) + 2)"
   ]
  },
  {
   "cell_type": "code",
   "execution_count": 5,
   "metadata": {},
   "outputs": [
    {
     "data": {
      "text/plain": [
       "(x - 1,-5)"
      ]
     },
     "execution_count": 5,
     "metadata": {},
     "output_type": "execute_result"
    }
   ],
   "source": [
    "# O quociente e o resto da divisão euclidiana.\n",
    "quoc, rest = divrem((x^2 - 2*x^1 - 4),(x - 1))"
   ]
  },
  {
   "cell_type": "code",
   "execution_count": 6,
   "metadata": {},
   "outputs": [
    {
     "data": {
      "text/latex": [
       "$$x \\cos{\\left (x \\right )} + \\sin{\\left (x \\right )} + \\frac{1}{\\sqrt{x}} - \\frac{x + 1}{2 x^{\\frac{3}{2}}}$$"
      ],
      "text/plain": [
       "                    1    x + 1 \n",
       "x⋅cos(x) + sin(x) + ── - ──────\n",
       "                    √x      3/2\n",
       "                         2⋅x   "
      ]
     },
     "execution_count": 6,
     "metadata": {},
     "output_type": "execute_result"
    }
   ],
   "source": [
    "# Primeira derivada \n",
    "diff(x*sin(x) + (x+1)/sqrt(x), x, 1)"
   ]
  },
  {
   "cell_type": "code",
   "execution_count": 7,
   "metadata": {
    "scrolled": true
   },
   "outputs": [
    {
     "data": {
      "text/latex": [
       "\\begin{bmatrix}- \\frac{1}{3}\\\\1\\end{bmatrix}"
      ],
      "text/plain": [
       "2-element Array{SymPy.Sym,1}\n",
       "⎡-1/3⎤\n",
       "⎢    ⎥\n",
       "⎣ 1  ⎦"
      ]
     },
     "execution_count": 7,
     "metadata": {},
     "output_type": "execute_result"
    }
   ],
   "source": [
    "# Pontos críticos de uma função\n",
    "f(x) = x^3 - x^2 - x + 5\n",
    "x_max_local, x_min_local =  solve(diff(f(x), x) , x)"
   ]
  },
  {
   "cell_type": "code",
   "execution_count": 8,
   "metadata": {},
   "outputs": [
    {
     "data": {
      "text/plain": [
       "(140/27,4)"
      ]
     },
     "execution_count": 8,
     "metadata": {},
     "output_type": "execute_result"
    }
   ],
   "source": [
    "f(x_max_local), f(x_min_local)"
   ]
  },
  {
   "cell_type": "code",
   "execution_count": 9,
   "metadata": {},
   "outputs": [
    {
     "data": {
      "text/latex": [
       "$$y{\\left (x \\right )} = C_{1} e^{- \\frac{x^{2}}{2}}$$"
      ],
      "text/plain": [
       "             2 \n",
       "           -x  \n",
       "           ────\n",
       "            2  \n",
       "y(x) = C₁⋅ℯ    "
      ]
     },
     "execution_count": 9,
     "metadata": {},
     "output_type": "execute_result"
    }
   ],
   "source": [
    "# Solução analítica de uma equação diferencial ordinára (edo)\n",
    "@symfuns y\n",
    "edo = y'(x) + x*y(x)\n",
    "dsolve(edo)"
   ]
  },
  {
   "cell_type": "code",
   "execution_count": 10,
   "metadata": {},
   "outputs": [
    {
     "data": {
      "text/latex": [
       "\\begin{equation*}\\begin{cases}\"separable\" & \\text{=>} &y{\\left (x \\right )} = C_{1} e^{- \\frac{x^{2}}{2}}\\\\\"almost_linear\" & \\text{=>} &y{\\left (x \\right )} = C_{1} e^{- \\frac{x^{2}}{2}}\\\\\"lie_group\" & \\text{=>} &y{\\left (x \\right )} = \\frac{C_{1}}{\\sqrt{e^{x^{2}}}}\\\\\"1st_exact_Integral\" & \\text{=>} &\\int x y{\\left (x \\right )} e^{\\frac{x^{2}}{2}}\\, dx + \\int^{y{\\left (x \\right )}} e^{\\frac{x^{2}}{2}} - \\int x e^{\\frac{x^{2}}{2}}\\, dx\\, dy = C_{1}\\\\\"separable_Integral\" & \\text{=>} &\\int^{y{\\left (x \\right )}} \\frac{1}{y}\\, dy = C_{1} + \\int - x\\, dx\\\\\"1st_linear_Integral\" & \\text{=>} &y{\\left (x \\right )} = \\left(C_{1} + \\int 0\\, dx\\right) e^{- \\int x\\, dx}\\\\\"best\" & \\text{=>} &y{\\left (x \\right )} = C_{1} e^{- \\frac{x^{2}}{2}}\\\\\"1st_linear\" & \\text{=>} &y{\\left (x \\right )} = C_{1} e^{- \\frac{x^{2}}{2}}\\\\\"default\" & \\text{=>} &\"separable\"\\\\\"best_hint\" & \\text{=>} &\"separable\"\\\\\"1st_exact\" & \\text{=>} &y{\\left (x \\right )} = C_{1} e^{- \\frac{x^{2}}{2}}\\\\\"almost_linear_Integral\" & \\text{=>} &y{\\left (x \\right )} = \\left(C_{1} + \\int 0\\, dx\\right) e^{- \\int x\\, dx}\\\\\"1st_power_series\" & \\text{=>} &y{\\left (x \\right )} = C_{1} - \\frac{C_{1} x^{2}}{2} + \\frac{C_{1} x^{4}}{8} + \\mathcal{O}\\left(x^{6}\\right)\\\\\"order\" & \\text{=>} &1\\\\\\end{cases}\\end{equation*}"
      ],
      "text/plain": [
       "Dict{Any,Any} with 14 entries:\n",
       "  \"separable\"              => Eq(y(x), C1*exp(-x^2/2))\n",
       "  \"almost_linear\"          => Eq(y(x), C1*exp(-x^2/2))\n",
       "  \"lie_group\"              => Eq(y(x), C1/sqrt(exp(x^2)))\n",
       "  \"1st_exact_Integral\"     => Eq(Integral(x*y(x)*exp(x^2/2), x) + Integral(exp(…\n",
       "  \"separable_Integral\"     => Eq(Integral(1/_y, (_y, y(x))), C1 + Integral(-x, …\n",
       "  \"1st_linear_Integral\"    => Eq(y(x), (C1 + Integral(0, x))*exp(-Integral(x, x…\n",
       "  \"best\"                   => Eq(y(x), C1*exp(-x^2/2))\n",
       "  \"1st_linear\"             => Eq(y(x), C1*exp(-x^2/2))\n",
       "  \"default\"                => \"separable\"\n",
       "  \"best_hint\"              => \"separable\"\n",
       "  \"1st_exact\"              => Eq(y(x), C1*exp(-x^2/2))\n",
       "  \"almost_linear_Integral\" => Eq(y(x), (C1 + Integral(0, x))*exp(-Integral(x, x…\n",
       "  \"1st_power_series\"       => Eq(y(x), C1 - C1*x^2/2 + C1*x^4/8 + O(x^6))\n",
       "  \"order\"                  => 1"
      ]
     },
     "execution_count": 10,
     "metadata": {},
     "output_type": "execute_result"
    }
   ],
   "source": [
    "# Solução analítica usando todos os métodos possíveis\n",
    "dsolve(edo, hint = \"all\")"
   ]
  },
  {
   "cell_type": "markdown",
   "metadata": {},
   "source": [
    "---------------------------------------------------------------------------\n",
    "  a                                             b\n",
    "  --------------------------------------------- -----------------------------\n",
    "  asdfasdfasdf f asfas sf sf as fasdf fasdfs\\   sdfsadfasdfs sdf asd asd f\\\n",
    "  \\                                             \n",
    "  asdfasdf asdf asdf asdf\\                      \n",
    "  \\                                             \n",
    "  asdfasdf\\                                     \n",
    "  asdfasdfasdf\\   \n",
    "  \n",
    "  ---------------------------------------------------------------------------\n"
   ]
  },
  {
   "cell_type": "markdown",
   "metadata": {},
   "source": [
    "module A\n",
    "a = 1\n",
    "end"
   ]
  },
  {
   "cell_type": "markdown",
   "metadata": {},
   "source": [
    "module B\n",
    "b = 2\n",
    "end"
   ]
  },
  {
   "cell_type": "markdown",
   "metadata": {
    "collapsed": true
   },
   "source": []
  },
  {
   "cell_type": "markdown",
   "metadata": {
    "collapsed": true
   },
   "source": [
    "for i = 1:10\n",
    "    global x = i\n",
    "end"
   ]
  },
  {
   "cell_type": "markdown",
   "metadata": {},
   "source": [
    "function soma()\n",
    "    i = 0\n",
    "    return function()\n",
    "        i+=1\n",
    "    end\n",
    "end"
   ]
  },
  {
   "cell_type": "markdown",
   "metadata": {
    "scrolled": true
   },
   "source": [
    "a = soma()"
   ]
  },
  {
   "cell_type": "markdown",
   "metadata": {},
   "source": [
    "soma()"
   ]
  },
  {
   "cell_type": "markdown",
   "metadata": {},
   "source": [
    "a()"
   ]
  },
  {
   "cell_type": "markdown",
   "metadata": {},
   "source": [
    "a()"
   ]
  },
  {
   "cell_type": "markdown",
   "metadata": {
    "collapsed": true
   },
   "source": []
  },
  {
   "cell_type": "markdown",
   "metadata": {},
   "source": [
    "using LatexPrint\n"
   ]
  },
  {
   "cell_type": "markdown",
   "metadata": {},
   "source": [
    "tabular(rand(2,2))"
   ]
  },
  {
   "cell_type": "markdown",
   "metadata": {},
   "source": [
    "$\\left[ \\begin{array}{c} 2 \\\\ 10 \\\\ -544 \\\\ \\end{array} \\right]$"
   ]
  },
  {
   "cell_type": "markdown",
   "metadata": {},
   "source": [
    "using Mux\n",
    "using JSON\n",
    "\n",
    "function withHeaders(res, req)\n",
    "    println(\"Origin: \", get(req[:headers], \"Origin\", \"\"))\n",
    "    headers  = HttpCommon.headers()\n",
    "    headers[\"Content-Type\"] = \"application/json; charset=utf-8\"\n",
    "    headers[\"Access-Control-Allow-Origin\"] = \"*\"\n",
    "    println(headers[\"Access-Control-Allow-Origin\"])\n",
    "    Dict(\n",
    "       :headers => headers,\n",
    "       :body=> res\n",
    "    )\n",
    "end\n",
    "\n",
    "function minha_soma(req)\n",
    "    a=parse(Float64,req[:params][:item1])\n",
    "    b=parse(Float64,req[:params][:item2])\n",
    "    return JSON.json(Dict(\"soma\" => a+b, \"error\" => false))\n",
    "end\n",
    "\n",
    "\n",
    "@app test = (\n",
    "  Mux.defaults,\n",
    "  page(\"/soma/:item1/:item2\", req -> withHeaders(minha_soma(req), req) ),\n",
    "  Mux.notfound())\n",
    "\n",
    "serve(test)"
   ]
  },
  {
   "cell_type": "code",
   "execution_count": null,
   "metadata": {
    "collapsed": true
   },
   "outputs": [],
   "source": []
  }
 ],
 "metadata": {
  "anaconda-cloud": {},
  "kernelspec": {
   "display_name": "Julia 1.0.0",
   "language": "julia",
   "name": "julia-1.0"
  },
  "language_info": {
   "file_extension": ".jl",
   "mimetype": "application/julia",
   "name": "julia",
   "version": "1.0.0"
  }
 },
 "nbformat": 4,
 "nbformat_minor": 1
}
