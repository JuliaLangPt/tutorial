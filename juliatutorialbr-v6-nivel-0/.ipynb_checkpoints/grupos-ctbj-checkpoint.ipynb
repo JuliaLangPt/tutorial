{
 "cells": [
  {
   "cell_type": "code",
   "execution_count": 1,
   "metadata": {},
   "outputs": [
    {
     "name": "stdout",
     "output_type": "stream",
     "text": [
      "\u001b[32m\u001b[1m  Updating\u001b[22m\u001b[39m registry at `~/.julia/registries/General`\n",
      "\u001b[32m\u001b[1m  Updating\u001b[22m\u001b[39m git-repo `https://github.com/JuliaRegistries/General.git`\n",
      "\u001b[?25l\u001b[2K\u001b[?25h\u001b[32m\u001b[1m Resolving\u001b[22m\u001b[39m package versions...\n",
      "\u001b[32m\u001b[1m  Updating\u001b[22m\u001b[39m `~/.julia/environments/v1.0/Project.toml`\n",
      " \u001b[90m [2913bbd2]\u001b[39m\u001b[92m + StatsBase v0.25.0\u001b[39m\n",
      "\u001b[32m\u001b[1m  Updating\u001b[22m\u001b[39m `~/.julia/environments/v1.0/Manifest.toml`\n",
      "\u001b[90m [no changes]\u001b[39m\n"
     ]
    }
   ],
   "source": [
    "using Pkg\n",
    "Pkg.add(\"StatsBase\")"
   ]
  },
  {
   "cell_type": "code",
   "execution_count": 2,
   "metadata": {
    "collapsed": true
   },
   "outputs": [],
   "source": [
    "using StatsBase"
   ]
  },
  {
   "cell_type": "code",
   "execution_count": 1,
   "metadata": {
    "collapsed": true
   },
   "outputs": [],
   "source": [
    "grupos = [\"a\",\"b\",\"c\", \"d\", \"e\", \"f\", \"g\", \"h\", \"i\", \"j\", \"l\", \"m\", \"n\", \"o\", \"p\", \"r\", \"s\"]\n",
    "n = 42\n",
    "alunos = collect(1:n)\n",
    "desistentes = [20, 27, 32, 33, 38, 39];"
   ]
  },
  {
   "cell_type": "code",
   "execution_count": 3,
   "metadata": {
    "scrolled": true
   },
   "outputs": [
    {
     "data": {
      "text/plain": [
       "2-element Array{String,1}:\n",
       " \"d\"\n",
       " \"m\""
      ]
     },
     "execution_count": 3,
     "metadata": {},
     "output_type": "execute_result"
    }
   ],
   "source": [
    "rand(grupos, 2)"
   ]
  },
  {
   "cell_type": "code",
   "execution_count": 4,
   "metadata": {},
   "outputs": [
    {
     "name": "stdout",
     "output_type": "stream",
     "text": [
      "a[41, 10, 39]\n",
      "b[43, 25, 11]\n",
      "c[15, 16, 26]\n",
      "d[40, 35, 22]\n",
      "e[30, 17, 31]\n",
      "f[4, 6, 12]\n",
      "g[28, 3, 13]\n",
      "h[34, 21, 18]\n",
      "i[23, 19, 7]\n",
      "j[29, 37, 36]\n",
      "l[24, 9, 8]\n",
      "m[2, 5, 14]\n",
      "sobrou[1, 42]\n"
     ]
    }
   ],
   "source": [
    "i = 1\n",
    "while length(alunos)>=3\n",
    "v1 = sample(alunos, 3, replace = false)\n",
    "println(grupos[i], v1)\n",
    "filter!(x->x ∉ append!(v1,desistentes), alunos)\n",
    "global i = i+1\n",
    "end \n",
    "println(\"sobrou\",alunos)"
   ]
  },
  {
   "cell_type": "code",
   "execution_count": 14,
   "metadata": {},
   "outputs": [
    {
     "ename": "LoadError",
     "evalue": "MethodError: no method matching findall(::Array{Int64,1}, ::Array{Int64,1})\nClosest candidates are:\n  findall(!Matched::Base.Fix2{typeof(in),#s57} where #s57<:Union{Real, Array{#s56,N} where N where #s56<:Real}, ::Array{#s55,N} where N where #s55<:Real) at array.jl:2258\n  findall(!Matched::Base.Fix2{typeof(in),T} where T, ::Union{Tuple, AbstractArray}) at array.jl:2266\n  findall(!Matched::Function, ::Any) at array.jl:1967\n  ...",
     "output_type": "error",
     "traceback": [
      "MethodError: no method matching findall(::Array{Int64,1}, ::Array{Int64,1})\nClosest candidates are:\n  findall(!Matched::Base.Fix2{typeof(in),#s57} where #s57<:Union{Real, Array{#s56,N} where N where #s56<:Real}, ::Array{#s55,N} where N where #s55<:Real) at array.jl:2258\n  findall(!Matched::Base.Fix2{typeof(in),T} where T, ::Union{Tuple, AbstractArray}) at array.jl:2266\n  findall(!Matched::Function, ::Any) at array.jl:1967\n  ...",
      "",
      "Stacktrace:",
      " [1] top-level scope at none:0"
     ]
    }
   ],
   "source": [
    "grupos = [\"a\",\"b\",\"c\", \"d\", \"e\", \"f\", \"g\", \"h\", \"i\", \"j\", \"l\", \"m\", \"n\", \"o\", \"p\", \"r\", \"s\"]\n",
    "desistentes = [12]\n",
    "n = 42\n",
    "alunos_vivos = deleteat!(collect(1:n), findall(collect(1:n), desistentes));"
   ]
  },
  {
   "cell_type": "code",
   "execution_count": 12,
   "metadata": {
    "scrolled": true
   },
   "outputs": [
    {
     "ename": "LoadError",
     "evalue": "UndefVarError: alunos_vivos not defined",
     "output_type": "error",
     "traceback": [
      "UndefVarError: alunos_vivos not defined",
      "",
      "Stacktrace:",
      " [1] top-level scope at ./none:0"
     ]
    }
   ],
   "source": [
    "i = 1\n",
    "while length(alunos_vivos) >= 3    \n",
    "    v1 = sample(alunos_vivos, 3, replace = false)    \n",
    "    println(grupos[i],v1)\n",
    "    deleteat!(alunos_vivos, findin(alunos_vivos, v1))  \n",
    "    i = i+1\n",
    "end\n",
    "print(grupos[i], alunos_vivos)"
   ]
  },
  {
   "cell_type": "code",
   "execution_count": null,
   "metadata": {
    "collapsed": true
   },
   "outputs": [],
   "source": [
    "a[15, 17, 1]\n",
    "b[33, 40, 9, 37]\n",
    "c[5, 42, 10]\n",
    "d[28, 32, 20]\n",
    "e[4, 14, 3]\n",
    "f[11, 6, 34]\n",
    "g[35, 31, 2]\n",
    "h[22, 8, 26]\n",
    "i[30, 29, 41]\n",
    "j[38, 13, 21]\n",
    "l[24, 18, 27]\n",
    "m[19, 23, 7]\n",
    "n[36, 16, 25, 39]"
   ]
  },
  {
   "cell_type": "code",
   "execution_count": null,
   "metadata": {
    "collapsed": true
   },
   "outputs": [],
   "source": []
  }
 ],
 "metadata": {
  "kernelspec": {
   "display_name": "Julia 1.0.1",
   "language": "julia",
   "name": "julia-1.0"
  },
  "language_info": {
   "file_extension": ".jl",
   "mimetype": "application/julia",
   "name": "julia",
   "version": "1.0.1"
  }
 },
 "nbformat": 4,
 "nbformat_minor": 2
}
