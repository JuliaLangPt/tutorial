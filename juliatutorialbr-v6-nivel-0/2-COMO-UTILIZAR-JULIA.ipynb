{
 "cells": [
  {
   "cell_type": "markdown",
   "metadata": {},
   "source": [
    "# COMO USAR JULIA?\n",
    "\n",
    "## JULIABOX\n",
    "\n",
    "A maneira mais fácil de testar a linguagem de programação Julia é através do `JuliaBox`. O `JuliaBox` é um ambiente de programação hospedado na nuvem da Microsoft Azure para codificação em Julia sem a necessidade de inslar qualquer software no computador local. Além da interface do Jupyter para escrever códigos, o `JuliaBox` permite realizar o download do código em outros formatos (.pdf, .md, .rst, .html e .tex), gerar slides, editar textos científicos em latex e markdown, importação/exportação de projetos para o `GitHub` e muitas outras funcionalidades. Os Plano de uso do `JuliaBox` possui os seguintes recursos e preços (11/2018):\n",
    "\n",
    "<img src=\"Figuras/juliabox-precos.png\" align=\"center\" width=\"700\">\n",
    "\n",
    "Ainda podemos destacar outros rescursos gerais: \n",
    "\n",
    "* Permite executar um terminal bash Linux que pode ser usado para executar o Julia REPL;\n",
    "* Transferência de arquivos para o contêiner de uma sessão;\n",
    "* Sincronização de arquivos com o Google Drive e Github;\n",
    "* Extensível com plugins;\n",
    "* Permite executar sessões interativas\n",
    "* Capacidade de limitar CPU, memória e espaço em disco para sessões de usuários e APIs.\n",
    "* Netrunner 17.06 (Debian stretch);  \n",
    "* E muito mais.\n",
    "\n",
    "O `JuliaBox` não é um ambiente adequado para simulações e benchmark. São permitidas apenas 1,5h de uso contínuo, após isto, ocorrerá lougout e um novo login será necessário. \n",
    "\n",
    "\n"
   ]
  },
  {
   "cell_type": "markdown",
   "metadata": {},
   "source": [
    "### Acessar JuliaBox\n",
    "\n",
    "Acesse [JuliaBox.com](http://www.`JuliaBox`.org) e entre com uma conta do google, Linkedin, e-mail ou GitHub. \n",
    "\n",
    "<img src=\"Figuras/julia-box-tela-principal-2.png\" align=\"center\" width=\"400\">\n",
    "\n",
    "Configuração do Juliabox:\n",
    "\n",
    "<img src=\"Figuras/juliabox-launch.png\" align=\"center\" width=\"400\">\n",
    "\n",
    "Customização:\n",
    "\n",
    "<img src=\"Figuras/juliabox-custom.png\" align=\"center\" width=\"400\">\n",
    "\n",
    "\n",
    "A tela abaixo mostra a interface do ``JuliaBox``\n",
    "\n",
    "<img src=\"Figuras/juliabox-tela-inicial-1.png\" align=\"center\" width=\"700\">"
   ]
  },
  {
   "cell_type": "markdown",
   "metadata": {},
   "source": [
    "### Novo Notebook"
   ]
  },
  {
   "cell_type": "code",
   "execution_count": null,
   "metadata": {
    "collapsed": true
   },
   "outputs": [],
   "source": []
  },
  {
   "cell_type": "markdown",
   "metadata": {},
   "source": [
    "### Clonar projeto\n",
    "\n",
    "Com a conta no [JuliaBox.com](http://www.`JuliaBox`.org), faça um clone de todos os notebooks da seguinte forma:\n",
    "* Vá em **Git** na pagina principal após logado\n",
    "    \n",
    "* Em Git Repositories, copie e cole este repositorio  https://github.com/JuliaLangPt/tutorial_PT_BR.git no campo logo abaixo.\n",
    "    \n",
    "* Tab para completar o campo do meio e tab novamente e a aparecerá a pasta **tutorial_PT_BR**. \n",
    "\n",
    "* Click no ** \" + \" ** e pronto! todo o conteúdo foi copiado para a pasta **tutorial_PT_BR** da sua conta no `JuliaBox`. Veja como fica abaixo:\n",
    "<img src=\"Figuras/git-juliabox-1.png\" align=\"center\" width=\"400\">"
   ]
  },
  {
   "cell_type": "markdown",
   "metadata": {},
   "source": [
    "# Instalando e utilizando pacotes\n",
    "\n",
    "É comum precisarmos de uma função que está definida em um determinado pacote (módulo). Para utilizar um pacote, utiliza-se a chamada\n",
    "\n",
    "```using nome_pacote```\n",
    "\n",
    "Para instalar um módulo, utiliza-se o pacote `Pkg` e chama-se a função `Pkg.add(\"nome_pacote_entre_aspas\")` que procura e instala a partir dos repositórios online.\n",
    "\n",
    "Para mais informações, vide as notas \"7-GERENCIAMENTO-DE-PACOTES\"."
   ]
  },
  {
   "cell_type": "code",
   "execution_count": 2,
   "metadata": {},
   "outputs": [
    {
     "name": "stdout",
     "output_type": "stream",
     "text": [
      "\u001b[32m\u001b[1m  Updating\u001b[22m\u001b[39m registry at `~/.julia/registries/General`\n",
      "\u001b[32m\u001b[1m  Updating\u001b[22m\u001b[39m git-repo `https://github.com/JuliaRegistries/General.git`\n",
      "\u001b[?25l\u001b[2K\u001b[?25h\u001b[32m\u001b[1m Resolving\u001b[22m\u001b[39m package versions...\n",
      "\u001b[32m\u001b[1m  Updating\u001b[22m\u001b[39m `~/.julia/environments/v1.2/Project.toml`\n",
      " \u001b[90m [37e2e46d]\u001b[39m\u001b[92m + LinearAlgebra \u001b[39m\n",
      "\u001b[32m\u001b[1m  Updating\u001b[22m\u001b[39m `~/.julia/environments/v1.2/Manifest.toml`\n",
      "\u001b[90m [no changes]\u001b[39m\n"
     ]
    }
   ],
   "source": [
    "using Pkg\n",
    "Pkg.add(\"LinearAlgebra\")"
   ]
  },
  {
   "cell_type": "markdown",
   "metadata": {
    "collapsed": true
   },
   "source": [
    "## REFERÊNCIA BIBLIOGRÁFICA\n",
    "\n",
    "SAWAYA, Márcia Regina . Dicionário de Informática e Internet. 1. ed. São Paulo, SP: Nobel, 1999. 543 p. \n",
    "\n",
    "TUCKER, Allen B. ; NOONAN, Robert E. . Linguagens de Programação : Princípios e Paradigmas. 2. ed. São Paulo, SP: McGraw-Hill, 2009. 600 p. \n",
    "\n",
    "SEBESTA, Robert W. Conceitos de linguagens de programação. 9. ed. Porto Alegre: Bookman, 2011. 775 p. \n",
    "\n",
    "BEZANSON, Jeff et al. Julia Language Documentation. ed. [S.l.: s.n.], 2018. Disponível em: <https://docs.julialang.org/en/stable>. Acesso em: 25 Junho. 2018. \n"
   ]
  },
  {
   "cell_type": "code",
   "execution_count": null,
   "metadata": {
    "collapsed": true
   },
   "outputs": [],
   "source": []
  }
 ],
 "metadata": {
  "anaconda-cloud": {},
  "kernelspec": {
   "display_name": "Julia 1.2.0",
   "language": "julia",
   "name": "julia-1.2"
  },
  "language_info": {
   "file_extension": ".jl",
   "mimetype": "application/julia",
   "name": "julia",
   "version": "1.2.0"
  },
  "latex_envs": {
   "LaTeX_envs_menu_present": true,
   "autocomplete": true,
   "bibliofile": "biblio.bib",
   "cite_by": "apalike",
   "current_citInitial": 1,
   "eqLabelWithNumbers": true,
   "eqNumInitial": 1,
   "hotkeys": {
    "equation": "Ctrl-E",
    "itemize": "Ctrl-I"
   },
   "labels_anchors": false,
   "latex_user_defs": false,
   "report_style_numbering": false,
   "user_envs_cfg": false
  }
 },
 "nbformat": 4,
 "nbformat_minor": 2
}
