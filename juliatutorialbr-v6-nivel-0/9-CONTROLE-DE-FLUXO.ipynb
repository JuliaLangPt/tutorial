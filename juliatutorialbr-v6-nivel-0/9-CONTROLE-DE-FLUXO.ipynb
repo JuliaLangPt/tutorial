{
 "cells": [
  {
   "cell_type": "markdown",
   "metadata": {},
   "source": [
    "# CONTROLE DE FLUXO\n",
    "\n",
    "Um algoritmo, independente da linguagem de programação, visa processar informações de acordo com regras em um número de passos finitos até sua conclusão. Neste sentido, Böhm & Jacopini (1966, p. 164, apud TUCKER & NOONAN, 2009, p. 164) informa que uma linguagem é completa em relação a Turing se, além do comando de adição, possuir as seguintes estruturas de controle de fluxo: sequência, um comando condicional e um comando de laço. A linguagem Julia fornece as seguintes estruturas de controle de fluxo:\n",
    "* Expressões compostas\n",
    "* Avaliação de curto-circuito (avaliação mínima ou avaliação de McCarthy)\n",
    "* Estruturas condicionais\n",
    "* Estruturas de repetição\n",
    "* Manipulação de Exceção\n",
    "* Tasks (corotinas)"
   ]
  },
  {
   "cell_type": "markdown",
   "metadata": {},
   "source": [
    "## OPERADORES RELACIONAIS\n",
    "\n",
    "Operadores relacionais são utilizados para comparar valores de expressões simples ou compostas, resultado em um valor lógico VERDADEIRO ou FALSO. "
   ]
  },
  {
   "cell_type": "markdown",
   "metadata": {},
   "source": [
    "<table aling=\"center\">\n",
    "\t<thead>\n",
    "\t\t<tr>\n",
    "\t\t\t<th>Operador</th>\n",
    "\t\t\t<th>Nome</th>\n",
    "\t\t</tr>\n",
    "\t</thead>\n",
    "\t<tbody>\n",
    "\t\t<tr>\n",
    "\t\t\t<td> == </td>\n",
    "\t\t\t<td>Igual a </td>\n",
    "\t\t</tr>\n",
    "\t\t<tr>\n",
    "\t\t\t<td>=!</td>\n",
    "\t\t\t<td>Diferente</td>\n",
    "\t\t</tr>\n",
    "\t\t<tr>\n",
    "\t\t\t<td> > </td>\n",
    "\t\t\t<td>maior que</td>\n",
    "\t\t</tr>\n",
    "\t\t<tr>\n",
    "\t\t\t<td> < </td>\n",
    "\t\t\t<td>menor que</td>\n",
    "\t\t</tr>\n",
    "        <tr>\n",
    "\t\t\t<td> >= </td>\n",
    "\t\t\t<td>maior igual</td>\n",
    "\t\t</tr>\n",
    "        <tr>\n",
    "\t\t\t<td> <= </td>\n",
    "\t\t\t<td>menor igual</td>\n",
    "\t\t</tr>\n",
    "\t</tbody>\n",
    "</table>\n",
    "\n",
    "* `isequal(x, y)`  , verdadeiro se x e y são idêntico\n",
    "* `isfinite(x)`\t   , verdadeiro se x é um número infinito \n",
    "* `isinf(x)`       , verdadeiro se x é infinito (inf)\n",
    "* `isnan(x)`       , x não é um número"
   ]
  },
  {
   "cell_type": "markdown",
   "metadata": {},
   "source": [
    "Quando um operador relacional é aplicado a duas matrizes de dimensões iguais, as comparações serão realizadas elemento a elemento e a matriz resultado será do tipo `BitArray`."
   ]
  },
  {
   "cell_type": "code",
   "execution_count": 1,
   "metadata": {},
   "outputs": [
    {
     "data": {
      "text/plain": [
       "2×3 BitArray{2}:\n",
       " 1  1  1\n",
       " 1  1  0"
      ]
     },
     "execution_count": 1,
     "metadata": {},
     "output_type": "execute_result"
    }
   ],
   "source": [
    "([1 2 3;4 5 6] .== [1 2 3; 4 5 9])"
   ]
  },
  {
   "cell_type": "markdown",
   "metadata": {},
   "source": [
    "## OPERADORES LÓGIGOS \n",
    "\n",
    "Operadores lógicos são utilizados para criar operações lógicas mais complexas resultado em um valor lógico. O valor de uma expressão lógica é ou VERDADEIRO ou FALSO. Principais operadores lógicos: "
   ]
  },
  {
   "cell_type": "markdown",
   "metadata": {},
   "source": [
    "| Expressão  | Nome                          |\n",
    "| ---------- | ------------------------------|\n",
    "| `~x`       | Negação                       |\n",
    "| `x & y`    | E                             |\n",
    "| `x | y`    | OU                            |\n",
    "| `x ⊻ y`    | Ou exclusivo                  |\n",
    "| `x >>> y`  | deslocamento para a direita   |\n",
    "| `x >> y`   | arithmetic shift right        |\n",
    "| `x << y`   | logical/arithmetic shift left |\n",
    "\n",
    "Uma expressão booleana é verdadeira se o resultado do cálculo das combinações lógicas das expressões booleanas for verdadeiro."
   ]
  },
  {
   "cell_type": "markdown",
   "metadata": {},
   "source": [
    "## EXPRESSÕES COMPOSTAS\n",
    "\n",
    "Uma expressão composta avalia várias subexpressões em ordem e retorna o valor da última subexpressão. Sintaxe:\n",
    "```julia\n",
    "variável = begin\n",
    "    expressão_1\n",
    "    expressão_2\n",
    "    ...\n",
    "    expressão_n\n",
    "end\n",
    "```\n",
    "ou\n",
    "```julia\n",
    "variável = (expressão_1; expressão_2;...;expressão_n)\n",
    "```"
   ]
  },
  {
   "cell_type": "markdown",
   "metadata": {},
   "source": [
    "Este tipo de expressão é importante para organizar um bloco de código referente ao cálculo de uma variável. No exemplo a seguir, temos o cálculo das raízes ($x_1$ e $x_2$) de uma equação do segundo grau."
   ]
  },
  {
   "cell_type": "code",
   "execution_count": 2,
   "metadata": {},
   "outputs": [
    {
     "data": {
      "text/plain": [
       "2-element Array{Float64,1}:\n",
       "   8.708286933869706\n",
       " -28.708286933869704"
      ]
     },
     "execution_count": 2,
     "metadata": {},
     "output_type": "execute_result"
    }
   ],
   "source": [
    "# Por padrão, será impresso somente a ultima linha, mas as variáveis internas são acessíveis\n",
    "x = begin\n",
    "    a = 5\n",
    "    b = 4\n",
    "    c = -2\n",
    "    \n",
    "    d = b^2 - 4*a*c\n",
    "    \n",
    "    [(-b + sqrt(d))/2*a, (-b - sqrt(d))/2*a]\n",
    "end"
   ]
  },
  {
   "cell_type": "markdown",
   "metadata": {},
   "source": [
    "Uma outra forma, de linha única. Por padrão, será impresso somente a ultima linha, mas as variáveis internas são acessíveis."
   ]
  },
  {
   "cell_type": "code",
   "execution_count": 3,
   "metadata": {
    "scrolled": false
   },
   "outputs": [
    {
     "data": {
      "text/plain": [
       "2-element Array{Float64,1}:\n",
       "  0.4494897427831779\n",
       " -4.449489742783178 "
      ]
     },
     "execution_count": 3,
     "metadata": {},
     "output_type": "execute_result"
    }
   ],
   "source": [
    "x = (a = 1; b = 4; c = -2; d = b^2 - 4*a*c; [(-b + sqrt(d))/2*a, (-b - sqrt(d))/2*a])"
   ]
  },
  {
   "cell_type": "markdown",
   "metadata": {},
   "source": [
    "## AVALIAÇÃO DE CURTO CIRCUITO\n",
    "\n",
    "\n",
    "A avaliação de curto-circuito, também conhecida como avaliação mínima ou avaliação de McCarthy, é uma forma de avaliar expressões lógicas no qual não há necessidade de avaliar todas as subexpressões para obter um resultado. \"Uma avaliação em curto-circuito de uma expressão é uma avaliação na qual o resultado é determinado sem avaliar todos os operandos e/ou operadores\" (SEBESTA, 2011).\n",
    "\n",
    "* A subexpressão `B` só é avaliada se a subexpressão `A` for verdadeira:\n",
    "\n",
    "```julia\n",
    "A && B\n",
    "```\n",
    "* A subexpressão `B` só é avaliada se a subexpressão `A` for falsa:\n",
    "\n",
    "```julia\n",
    "A || B\n",
    "```\n",
    "Exemplos:"
   ]
  },
  {
   "cell_type": "code",
   "execution_count": 4,
   "metadata": {},
   "outputs": [
    {
     "data": {
      "text/plain": [
       "f1 (generic function with 1 method)"
      ]
     },
     "execution_count": 4,
     "metadata": {},
     "output_type": "execute_result"
    }
   ],
   "source": [
    "function f1(x)\n",
    "    return x^2\n",
    "end"
   ]
  },
  {
   "cell_type": "code",
   "execution_count": 5,
   "metadata": {},
   "outputs": [
    {
     "data": {
      "text/plain": [
       "true"
      ]
     },
     "execution_count": 5,
     "metadata": {},
     "output_type": "execute_result"
    }
   ],
   "source": [
    "f1(4) == 8 || f1(2) == 4"
   ]
  },
  {
   "cell_type": "code",
   "execution_count": 6,
   "metadata": {},
   "outputs": [
    {
     "data": {
      "text/plain": [
       "false"
      ]
     },
     "execution_count": 6,
     "metadata": {},
     "output_type": "execute_result"
    }
   ],
   "source": [
    "f1(4) == 8 & f1(2) == 4"
   ]
  },
  {
   "cell_type": "markdown",
   "metadata": {},
   "source": [
    "## ESTRUTURAS DE CONTROLE CONDICIONAIS\n",
    "\n",
    " As estruturas condional ou de seleção, são utilizadas para selecionar quais fluxos de dados serão executados durante a execução de um código. Na linguagem Julia temos as estruturas `if` e opcionalmente `switch`."
   ]
  },
  {
   "cell_type": "markdown",
   "metadata": {},
   "source": [
    "### CONDICIONAL \"IF\" (SE)\n",
    "\n",
    "A função  `sleep(tempo_segundos)` permite controlar o laço em um determinado tempo em segundos. Sintaxe Básica:\n",
    "\n",
    "```julia\n",
    "if condição                   if condição                if condição\n",
    "   instruções                    instruções                 instruções\n",
    "end                           else                       elseif\n",
    "                                 instruções                 instruções\n",
    "                              end                        elseif\n",
    "                                                            ...\n",
    "                                                         else\n",
    "                                                             instruções\n",
    "                                                         end\n",
    "                              \n",
    "```"
   ]
  },
  {
   "cell_type": "markdown",
   "metadata": {},
   "source": [
    "**Implementando Laços IF**"
   ]
  },
  {
   "cell_type": "code",
   "execution_count": 7,
   "metadata": {},
   "outputs": [
    {
     "data": {
      "text/plain": [
       "(0, 6)"
      ]
     },
     "execution_count": 7,
     "metadata": {},
     "output_type": "execute_result"
    }
   ],
   "source": [
    "# Definindo os valores aleatórios de X e Y entre 0 e 10\n",
    "x = rand(0:10)\n",
    "y = rand(0:10)\n",
    "\n",
    "x , y"
   ]
  },
  {
   "cell_type": "code",
   "execution_count": 8,
   "metadata": {},
   "outputs": [
    {
     "name": "stdout",
     "output_type": "stream",
     "text": [
      "x é menor que y\n"
     ]
    }
   ],
   "source": [
    "# se x < y será impresso a mensagem, se ocorrer x > y não será feito nada\n",
    "if x < y\n",
    "    println(\"x é menor que y\")\n",
    "end"
   ]
  },
  {
   "cell_type": "markdown",
   "metadata": {},
   "source": [
    "Refinando o código:"
   ]
  },
  {
   "cell_type": "code",
   "execution_count": 9,
   "metadata": {},
   "outputs": [
    {
     "name": "stdout",
     "output_type": "stream",
     "text": [
      "x é menor que y .Valor de x: 0 Valor de y: 6\n"
     ]
    }
   ],
   "source": [
    "if x < y\n",
    "    println(\"x é menor que y .\",\"Valor de x: \", x ,\" Valor de y: \",y)\n",
    "else\n",
    "    println(\"x é maior que y .\",\"Valor de x: \", x ,\" Valor de y: \",y)\n",
    "end"
   ]
  },
  {
   "cell_type": "markdown",
   "metadata": {},
   "source": [
    "Refinando mais ainda:"
   ]
  },
  {
   "cell_type": "code",
   "execution_count": 10,
   "metadata": {
    "scrolled": true
   },
   "outputs": [
    {
     "name": "stdout",
     "output_type": "stream",
     "text": [
      "x é menor que y . Valor de x: 0 , Valor de y: 6\n"
     ]
    }
   ],
   "source": [
    "if x < y\n",
    "    println(\"x é menor que y . Valor de x: $x , Valor de y: $y\")\n",
    "    \n",
    "elseif x > y\n",
    "    println(\"x é maior que y . Valor de x: $x , Valor de y: $y\")\n",
    "    \n",
    "else\n",
    "    println(\"x é igual que y . Valor de x: $x , Valor de y: $y\")\n",
    "end"
   ]
  },
  {
   "cell_type": "markdown",
   "metadata": {},
   "source": [
    "**Função definida por partes**\n",
    "\n",
    "Em certas circurstâncias, uma função é determinada utilizando-se funções diferentes para determiandas partes de seu domínio. Dada uma função $f(x)$ abaixo, podemos escrever o código que a represente. \n",
    " \n",
    "$~\n",
    "f(x) = \\begin{cases}\n",
    "-x^2 + 2~~,  & \\text{x < 0}\\\\\n",
    "2~~~~~~~~~~~~,  & 0 \\leq  x \\leq 1 \\\\\n",
    "-x + 3~~~,  & x > 1\n",
    "\\end{cases}\n",
    "~$\n",
    "\n",
    "<img src=\"Figuras/funcao-definida-por-partes.png\" alt = \"Função\" align=\"left\" width=\"400\">"
   ]
  },
  {
   "cell_type": "code",
   "execution_count": 11,
   "metadata": {},
   "outputs": [
    {
     "name": "stdout",
     "output_type": "stream",
     "text": [
      "f(-1) = -x^2 + 2 = -(-1)^2 + 2 = -3"
     ]
    }
   ],
   "source": [
    "x  = rand(-5:5) # número x aleatório\n",
    "\n",
    "if x < 0\n",
    "    print(\"f($x) = -x^2 + 2 = \", \"-($x)^2 + 2 = \", -x^2 - 2)\n",
    "    \n",
    "elseif (x >= 0)&(x <= 1)\n",
    "    print(\"f(x) = \", \"f($x) = \" , 2)\n",
    "elseif x > 1\n",
    "    print(\"f(x) = -x + 3 = \", \"f($x) = -$x + 3 = \", -x + 3)\n",
    "end"
   ]
  },
  {
   "cell_type": "markdown",
   "metadata": {},
   "source": [
    "### CONDICIONAL \"TROCAR\" (SWITCH) \n",
    "\n",
    "Não existe um comando nativo para \"case\" ou \"swith\" na linguagem `Julia`. Pode ser utilizado uma sequencia de `if...elseif...else...end`. "
   ]
  },
  {
   "cell_type": "markdown",
   "metadata": {},
   "source": [
    "### OPERADOR TERNÁRIO\n",
    "\n",
    "O operador ternário **(:?)** está relacionado com a sintaxe `if-elseif-else` e recebe este nome em função de ser o único operador na maioria das linguagens que tomam três operandos: \n",
    "\n",
    "```julia\n",
    "condição ? expressão_1 : expressão_2\n",
    "```\n",
    "\n",
    "A operação ternária efeturá a **\"expressão1\"** antes do **\":\"**    se a **\"condição\"** é verdadeira ou a **\"expressão_2\"** depois do **\":\"** se **condição** for falsa. "
   ]
  },
  {
   "cell_type": "markdown",
   "metadata": {},
   "source": [
    "**Função definida por um intervalo**\n",
    "\n",
    "Dada a função abaixo \n",
    "\n",
    "$~\n",
    "f(x) = \\begin{cases}\n",
    "\\cos(x) & x \\geq 0\\\\\n",
    "1 - e^{-1/x^2} & \\text{x < 0}.\n",
    "\\end{cases}\n",
    "~$"
   ]
  },
  {
   "cell_type": "code",
   "execution_count": 12,
   "metadata": {
    "scrolled": true
   },
   "outputs": [
    {
     "name": "stdout",
     "output_type": "stream",
     "text": [
      "exp(-1 / x ^ 2) = 0.36787944117144233\n"
     ]
    },
    {
     "data": {
      "text/plain": [
       "0.36787944117144233"
      ]
     },
     "execution_count": 12,
     "metadata": {},
     "output_type": "execute_result"
    }
   ],
   "source": [
    "x = rand(-1:1)\n",
    "\n",
    "x >= 0  ?  @show(cos(x)) : @show(exp(-1/x^2))"
   ]
  },
  {
   "cell_type": "markdown",
   "metadata": {},
   "source": [
    "É possível utilizar o operador ternário de forma composta. Sintaxe:\n",
    "\n",
    "```julia\n",
    "condição_1 ? expressão_1 : (condição_2 ? expressão_2 : expressão_3)\n",
    "\n",
    "condição_1 ? (condição_2 ? expressão_2 : expressão_3): expressão_4\n",
    "```"
   ]
  },
  {
   "cell_type": "code",
   "execution_count": 13,
   "metadata": {},
   "outputs": [
    {
     "data": {
      "text/plain": [
       "0"
      ]
     },
     "execution_count": 13,
     "metadata": {},
     "output_type": "execute_result"
    }
   ],
   "source": [
    "x = rand(-1:1)\n",
    "\n",
    "x > 0  ?  @show(cos(x)) : (x == 0 ? 0 : @show(exp(-1/x^2)))"
   ]
  },
  {
   "cell_type": "markdown",
   "metadata": {},
   "source": [
    "## ESTRUTURAS DE CONTROLE DE REPETIÇÃO\n",
    "\n",
    "As estruturas de repetição permitem repetir uma ou conjunto de instruções várias vezes. \"Todas as linguagens de programação a partir da Plankalkül incluíram algum método de repetir a execução de segmentos de código\" (SEBESTA, 2011). Julia possui as estruturas de repetição `for, while` e `do`. "
   ]
  },
  {
   "cell_type": "markdown",
   "metadata": {},
   "source": [
    "### REPETIÇÃO \"FOR\" \n",
    "\n",
    "Em um laço de repetição `for`, a execução de uma ou grupo de instruções é repetida várias vezes de forma consecutiva até o limite definido por um elemento sequencial. A função  `sleep(tempo_segundos)` permite controlar o tempo do laço em segundos.\n",
    "\n",
    "Sintaxe Básica:\n",
    "```julia\n",
    "for variável in coleção\n",
    "    instruções\n",
    "end\n",
    "```\n",
    "\n",
    "ou\n",
    "\n",
    "```julia\n",
    "for variável = coleção\n",
    "    instruções\n",
    "end\n",
    "```\n",
    "Sendo: \n",
    "* **coleção**: lista, vetor, matriz, dicionário ou conjunto."
   ]
  },
  {
   "cell_type": "markdown",
   "metadata": {},
   "source": [
    "**Implementando Laços FOR**"
   ]
  },
  {
   "cell_type": "code",
   "execution_count": 14,
   "metadata": {},
   "outputs": [
    {
     "name": "stdout",
     "output_type": "stream",
     "text": [
      "Valor da função f(x) = sin(x)*cos(x/2)+x: \n",
      "\n",
      "f(1.0) = 0.7384602626041288\n",
      "f(4.0) = 0.3149409643133779\n",
      "f(6.0) = 0.2766192466508119\n",
      "f(7.0) = -0.6152394938306449\n",
      "f(9.0) = -0.08687284555673806\n"
     ]
    }
   ],
   "source": [
    "# Laço FOR aplicado a um vetor\n",
    "print(\"Valor da função f(x) = sin(x)*cos(x/2)+x: \\n\\n\")\n",
    "x = [1.0, 4.0, 6.0, 7.0, 9.0] \n",
    "\n",
    "for i = 1:length(x)     \n",
    "    println(\"f($(x[i])) = \", sin(x[i])*cos(x[i]/2))\n",
    "end"
   ]
  },
  {
   "cell_type": "code",
   "execution_count": 15,
   "metadata": {},
   "outputs": [
    {
     "name": "stdout",
     "output_type": "stream",
     "text": [
      "Valor da função f(x) = sin(x)*cos(x/2) + x: \n",
      "\n",
      "f(1.0) = 0.7384602626041288\n",
      "f(2.0) = 0.49129549643388193\n",
      "f(3.0) = 0.009982434469478687\n",
      "f(4.0) = 0.3149409643133779\n",
      "f(5.0) = 0.7682360604393477\n"
     ]
    }
   ],
   "source": [
    "# Laço FOR aplicado a um vetor\n",
    "print(\"Valor da função f(x) = sin(x)*cos(x/2) + x: \\n\\n\")\n",
    "x = [1.0, 2.0, 3.0, 4.0, 5.0] \n",
    "\n",
    "for i = x  # pode ser também x in     \n",
    "    println(\"f($i) = \", sin(i)*cos(i/2)) \n",
    "end"
   ]
  },
  {
   "cell_type": "code",
   "execution_count": 16,
   "metadata": {
    "scrolled": true
   },
   "outputs": [
    {
     "name": "stdout",
     "output_type": "stream",
     "text": [
      "Valor da função f(x) = sin(x)*cos(x/2) + x: \n",
      "\n",
      "f(1.0) = 0.7384602626041288\n",
      "f(2.0) = 0.49129549643388193\n",
      "f(3.0) = 0.009982434469478687\n",
      "f(4.0) = 0.3149409643133779\n",
      "f(5.0) = 0.7682360604393477\n"
     ]
    }
   ],
   "source": [
    "# Laço FOR aplicado a um vetor\n",
    "print(\"Valor da função f(x) = sin(x)*cos(x/2) + x: \\n\\n\")\n",
    "\n",
    "for x = [1.0, 2.0, 3.0, 4.0, 5.0] # pode ser também x in vetor    \n",
    "    println(\"f($x) = \", sin(x)*cos(x/2) )   \n",
    "end"
   ]
  },
  {
   "cell_type": "code",
   "execution_count": 17,
   "metadata": {},
   "outputs": [
    {
     "name": "stdout",
     "output_type": "stream",
     "text": [
      "Valor da função f(x) = sin(x)*cos(x/2) + x: \n",
      "\n",
      "f(1.0) = 0.7384602626041288\n",
      "f(2.0) = 0.49129549643388193\n",
      "f(3.0) = 0.009982434469478687\n",
      "f(4.0) = 0.3149409643133779\n",
      "f(5.0) = 0.7682360604393477\n"
     ]
    }
   ],
   "source": [
    "# Laço FOR aplicado a um vetor com controle de tempo\n",
    "print(\"Valor da função f(x) = sin(x)*cos(x/2) + x: \\n\\n\")\n",
    "\n",
    "for x = [1.0 2.0 3.0 4.0 5.0] # pode ser também x in vetor    \n",
    "    println(\"f($x) = \",sin(x)*cos(x/2) )  \n",
    "    sleep(1)                  # atraso de 1s\n",
    "end"
   ]
  },
  {
   "cell_type": "code",
   "execution_count": 18,
   "metadata": {},
   "outputs": [
    {
     "name": "stdout",
     "output_type": "stream",
     "text": [
      "Valor da função f(x) = sin(x)*cos(x/2) + x: \n",
      "\n",
      "f(5) = 5.768236060439348\n",
      "f(4) = 4.314940964313378\n",
      "f(3) = 3.0099824344694786\n",
      "f(2) = 2.491295496433882\n",
      "f(1) = 1.7384602626041288\n"
     ]
    }
   ],
   "source": [
    "# Laço FOR aplicado a um vetor reverso\n",
    "print(\"Valor da função f(x) = sin(x)*cos(x/2) + x: \\n\\n\")\n",
    "\n",
    "for x = 5:-1:1 # pode ser também x in vetor    \n",
    "    println(\"f($x) = \",sin(x)*cos(x/2) + x)   \n",
    "end"
   ]
  },
  {
   "cell_type": "code",
   "execution_count": 19,
   "metadata": {},
   "outputs": [
    {
     "name": "stdout",
     "output_type": "stream",
     "text": [
      "\"Sage\" => 10\n",
      "\"Julia\" => 10\n",
      "\"Scilab\" => 8\n"
     ]
    }
   ],
   "source": [
    "# Laço FOR aplicado a um dicionário\n",
    "linguagens = Dict(\"Sage\" => 10, \"Julia\" => 10, \"Scilab\" => 8)\n",
    "\n",
    "for i =  linguagens # ou i in linguagens\n",
    "    println(i)\n",
    "end"
   ]
  },
  {
   "cell_type": "code",
   "execution_count": 20,
   "metadata": {},
   "outputs": [
    {
     "name": "stdout",
     "output_type": "stream",
     "text": [
      "Sage é 10\n",
      "Julia é 10\n",
      "Scilab é 8\n"
     ]
    }
   ],
   "source": [
    "for (nome, nota) = linguagens\n",
    "    println(\"$nome é $nota\")\n",
    "end"
   ]
  },
  {
   "cell_type": "code",
   "execution_count": 21,
   "metadata": {
    "scrolled": true
   },
   "outputs": [
    {
     "name": "stdout",
     "output_type": "stream",
     "text": [
      "elemento da linha 1 coluna 1 é :2\n",
      "elemento da linha 1 coluna 2 é :4\n",
      "elemento da linha 2 coluna 1 é :8\n",
      "elemento da linha 2 coluna 2 é :9\n"
     ]
    }
   ],
   "source": [
    "# Laço FOR aplicado a uma matriz\n",
    "mnum = [2 4;8 9]\n",
    "\n",
    "linhas , colunas = size(mnum)\n",
    "\n",
    "for i = 1:linhas    \n",
    "    for j = 1:colunas        \n",
    "        println(\"elemento da linha $i coluna $j é :\", mnum[i, j])\n",
    "    end\n",
    "end"
   ]
  },
  {
   "cell_type": "markdown",
   "metadata": {},
   "source": [
    "Melhorando um pouco mais"
   ]
  },
  {
   "cell_type": "code",
   "execution_count": 22,
   "metadata": {},
   "outputs": [
    {
     "name": "stdout",
     "output_type": "stream",
     "text": [
      "elemento da linha 1 coluna 1 é :2\n",
      "elemento da linha 1 coluna 2 é :4\n",
      "elemento da linha 2 coluna 1 é :8\n",
      "elemento da linha 2 coluna 2 é :9\n"
     ]
    }
   ],
   "source": [
    "linhas , colunas =  size(mnum)\n",
    "\n",
    "for i = 1:linhas , j = 1:colunas\n",
    "    println(\"elemento da linha $i coluna $j é :\", mnum[i, j])\n",
    "end "
   ]
  },
  {
   "cell_type": "markdown",
   "metadata": {},
   "source": [
    "Agora \"like a Python\""
   ]
  },
  {
   "cell_type": "code",
   "execution_count": 23,
   "metadata": {},
   "outputs": [
    {
     "name": "stdout",
     "output_type": "stream",
     "text": [
      "elemento 2\n",
      "elemento 8\n",
      "elemento 4\n",
      "elemento 9\n"
     ]
    }
   ],
   "source": [
    "# lendo os elementos coluna por coluna\n",
    "\n",
    "for i = mnum\n",
    "    println(\"elemento $i\")\n",
    "end"
   ]
  },
  {
   "cell_type": "code",
   "execution_count": 24,
   "metadata": {},
   "outputs": [
    {
     "name": "stdout",
     "output_type": "stream",
     "text": [
      "elemento 2\n",
      "elemento 4\n",
      "elemento 8\n",
      "elemento 9\n"
     ]
    }
   ],
   "source": [
    "# lendo os elementos linhas por linhas  (coloque aspas simples para inverter a matriz)\n",
    "\n",
    "for i = mnum'\n",
    "    println(\"elemento $i\")\n",
    "end"
   ]
  },
  {
   "cell_type": "markdown",
   "metadata": {},
   "source": [
    "**Break e Continue**\n",
    "\n",
    "O comando `break` interrompe o loop imediatamente quando uma condição é satisfeita. O comando `continue` interrompe a iteração atual do loop e passa para a próxima iteração.\n",
    "Sintaxe:\n",
    "```julia\n",
    "for variável = coleção # pode ser variável in \n",
    "    condição variável\n",
    "        continue/break\n",
    "    end\n",
    "end\n",
    "```"
   ]
  },
  {
   "cell_type": "markdown",
   "metadata": {},
   "source": [
    "Exemplo: Para $i$ de 1 até 10. Se o resto da divisão $i$ por 3 for diferente de zero, então a iteração é interrompida e o loop será continuado com a próxima interação."
   ]
  },
  {
   "cell_type": "code",
   "execution_count": 25,
   "metadata": {
    "scrolled": true
   },
   "outputs": [
    {
     "name": "stdout",
     "output_type": "stream",
     "text": [
      "3\n",
      "6\n",
      "9\n"
     ]
    }
   ],
   "source": [
    "for i = 1:10\n",
    "    if i % 3 != 0\n",
    "        continue\n",
    "    end\n",
    "    println(i)\n",
    "end"
   ]
  },
  {
   "cell_type": "markdown",
   "metadata": {},
   "source": [
    "Exemplo: para $i$ de 1 até 10. Se o resto da divisão $i$ por 3 for igual a zero, então o loop é encerrado"
   ]
  },
  {
   "cell_type": "code",
   "execution_count": 26,
   "metadata": {
    "scrolled": true
   },
   "outputs": [
    {
     "name": "stdout",
     "output_type": "stream",
     "text": [
      "1\n",
      "2\n"
     ]
    }
   ],
   "source": [
    "for i = 1:10\n",
    "    if i % 3 == 0\n",
    "        break\n",
    "    end\n",
    "    println(i)\n",
    "end"
   ]
  },
  {
   "cell_type": "markdown",
   "metadata": {},
   "source": [
    "**Formas diversas do laço FOR**"
   ]
  },
  {
   "cell_type": "code",
   "execution_count": 27,
   "metadata": {
    "scrolled": true
   },
   "outputs": [
    {
     "name": "stdout",
     "output_type": "stream",
     "text": [
      "1 * 1 = 1\n",
      "1 * 2 = 2\n",
      "2 * 1 = 2\n",
      "2 * 2 = 4\n"
     ]
    }
   ],
   "source": [
    "for n = 1:2\n",
    "    for m = 1:2\n",
    "        println(\"$n * $m = $(n * m)\")\n",
    "    end\n",
    "end "
   ]
  },
  {
   "cell_type": "code",
   "execution_count": 28,
   "metadata": {
    "scrolled": true
   },
   "outputs": [
    {
     "name": "stdout",
     "output_type": "stream",
     "text": [
      "1 * 1 = 1\n",
      "1 * 2 = 2\n",
      "2 * 1 = 2\n",
      "2 * 2 = 4\n"
     ]
    }
   ],
   "source": [
    "for n = 1:2, m = 1:2\n",
    "    println(\"$n * $m = $(n * m)\")\n",
    "end "
   ]
  },
  {
   "cell_type": "code",
   "execution_count": 29,
   "metadata": {},
   "outputs": [
    {
     "name": "stdout",
     "output_type": "stream",
     "text": [
      "sin(x) * y = 0.8414709848078965\n",
      "sin(x) * y = 1.682941969615793\n",
      "sin(x) * y = 0.9092974268256817\n",
      "sin(x) * y = 1.8185948536513634\n"
     ]
    }
   ],
   "source": [
    "for x = 1:2, y = 1:2\n",
    "    @show (sin(x)*y)\n",
    "end"
   ]
  },
  {
   "cell_type": "code",
   "execution_count": 30,
   "metadata": {
    "scrolled": false
   },
   "outputs": [
    {
     "name": "stdout",
     "output_type": "stream",
     "text": [
      "1 : julia\n",
      "2 : python\n",
      "3 : sagemath\n",
      "4 : maxima\n",
      "5 : octave\n"
     ]
    }
   ],
   "source": [
    "# (index, value) são nomes obrigatórios para funcionar o laço\n",
    "lista = [\"julia\",\"python\",\"sagemath\",\"maxima\",\"octave\"]\n",
    "\n",
    "for (index, value) =  enumerate(lista) # pode ser (index, value) in\n",
    "           println(\"$index : $value\")\n",
    "end"
   ]
  },
  {
   "cell_type": "code",
   "execution_count": 31,
   "metadata": {
    "scrolled": true
   },
   "outputs": [
    {
     "name": "stdout",
     "output_type": "stream",
     "text": [
      "A capital do Rio é Rio de Janeiro\n",
      "A capital do Piauí é Teresina\n",
      "A capital do Goiás é Goiânia\n"
     ]
    }
   ],
   "source": [
    "# A função zip() agrupa os vetores Estado e Capital formando um conjunto zip\n",
    "\n",
    "Estado   = [\"Rio\", \"Piauí\", \"Goiás\"]\n",
    "Capital  = [\"Rio de Janeiro\", \"Teresina\", \"Goiânia\"]\n",
    "\n",
    "for (i, j) = zip(Estado, Capital)\n",
    "    println(\"A capital do $i é $j\")\n",
    "end"
   ]
  },
  {
   "cell_type": "markdown",
   "metadata": {},
   "source": [
    "**Calculo de Polinômios**\n",
    "\n",
    "Dado um polinômio $P = a_nx^n + a_{n−1}x^{n−1} + ... +   a_2x^2 + a_1x + a_0$, a macro `@evalpoly` calcula o valor de um polinômio utilizando o método de Horner ou, para o $z$ complexo, um algoritmo Goertzel mais eficiente.\n",
    "\n",
    "```julia\n",
    "@evalpoly var_valor a_n ... c b a\n",
    "```\n",
    "Sendo: \n",
    "* var_valor : valor da variável;\n",
    "* a b c ... a_n : coeficientes do polinômio.\n",
    "\n",
    "Ex: Calcular o valor do polinômio $P(x) = 3x^2 - 2x + 1$ para $x = 0$:"
   ]
  },
  {
   "cell_type": "code",
   "execution_count": 32,
   "metadata": {
    "scrolled": true
   },
   "outputs": [
    {
     "data": {
      "text/plain": [
       "1"
      ]
     },
     "execution_count": 32,
     "metadata": {},
     "output_type": "execute_result"
    }
   ],
   "source": [
    "@evalpoly 0 1 -2 3"
   ]
  },
  {
   "cell_type": "markdown",
   "metadata": {},
   "source": [
    "Uma laço `for` pode ser utilizado para calcular vários valores."
   ]
  },
  {
   "cell_type": "code",
   "execution_count": 33,
   "metadata": {
    "scrolled": true
   },
   "outputs": [
    {
     "name": "stdout",
     "output_type": "stream",
     "text": [
      "1\n",
      "86\n",
      "4881\n",
      "66\n",
      "121\n",
      "34\n"
     ]
    }
   ],
   "source": [
    "for x = [0, 5, 40, -5, 6, 3]\n",
    "    println(@evalpoly x 1 2 3)\n",
    "end"
   ]
  },
  {
   "cell_type": "markdown",
   "metadata": {},
   "source": [
    "### REPETIÇÃO \"ENQUANTO\" (WHILE)\n",
    "\n",
    "O comando `while` permite que uma parte do código seja executado enquanto uma determinada condição for verdadeira. A função  `sleep(tempo_segundos)` permite controlar o laço em um determinado tempo em segundos.\n",
    "Sintaxe Básica:\n",
    "```julia\n",
    "while condição \n",
    "    instruções\n",
    "end\n",
    "```"
   ]
  },
  {
   "cell_type": "markdown",
   "metadata": {},
   "source": [
    "**Implementando Laços WHILE**"
   ]
  },
  {
   "cell_type": "code",
   "execution_count": 34,
   "metadata": {
    "scrolled": false
   },
   "outputs": [
    {
     "name": "stdout",
     "output_type": "stream",
     "text": [
      "0\n",
      "1\n",
      "2\n",
      "3\n",
      "4\n",
      "5\n"
     ]
    }
   ],
   "source": [
    "# conta enquanto \"a\" menor ou igual a 5.\n",
    "a = 0\n",
    "\n",
    "while a <= 5    \n",
    "    println(a)\n",
    "    a += 1 \n",
    "end"
   ]
  },
  {
   "cell_type": "code",
   "execution_count": 35,
   "metadata": {},
   "outputs": [
    {
     "name": "stdout",
     "output_type": "stream",
     "text": [
      "0\n",
      "1\n",
      "2\n",
      "3\n",
      "4\n"
     ]
    }
   ],
   "source": [
    "# conta enquanto \"a\" menor que o tamanho de b\n",
    "a = 0\n",
    "b = 1:5\n",
    "\n",
    "while  a < length(b) \n",
    "    println(a)\n",
    "    a += 1   \n",
    "end"
   ]
  },
  {
   "cell_type": "code",
   "execution_count": 36,
   "metadata": {},
   "outputs": [
    {
     "name": "stdout",
     "output_type": "stream",
     "text": [
      "0\n",
      "1\n",
      "2\n",
      "3\n",
      "4\n",
      "5\n"
     ]
    }
   ],
   "source": [
    "# controlando o laço com atraso de 1s \n",
    "a = 0\n",
    "\n",
    "while a <= 5   \n",
    "    sleep(1)\n",
    "    println(a)\n",
    "    a += 1     \n",
    "end"
   ]
  },
  {
   "cell_type": "markdown",
   "metadata": {},
   "source": [
    "**Continue e Break** \n",
    "\n",
    "O comando `break` interrompe o loop imediatamente quando uma condição é satisfeita. O comando `continue` interrompe a iteração atual do loop e passa para a próxima iteração.\n",
    "\n",
    "```julia\n",
    "while condição \n",
    "    condição \n",
    "       break/continue\n",
    "    end\n",
    "end\n",
    "```"
   ]
  },
  {
   "cell_type": "markdown",
   "metadata": {},
   "source": [
    "Exemplo: se o resto da divisão $i$ por 3 for igual a zero, a iteração é interrompida e o loop será continuado até que ocorra $a < 5$."
   ]
  },
  {
   "cell_type": "code",
   "execution_count": 37,
   "metadata": {
    "scrolled": true
   },
   "outputs": [
    {
     "name": "stdout",
     "output_type": "stream",
     "text": [
      "1\n",
      "2\n",
      "4\n",
      "5\n"
     ]
    }
   ],
   "source": [
    "a = 0\n",
    "\n",
    "while a <= 5    \n",
    "    a += 1\n",
    "    \n",
    "    if a % 3 == 0\n",
    "        continue\n",
    "    end\n",
    "    \n",
    "    println(a)    \n",
    "end"
   ]
  },
  {
   "cell_type": "markdown",
   "metadata": {},
   "source": [
    "É importante observar que temos `a += 1` antes do condicional `if`. Caso seja posto depois, ocorrerá loop infinito pois o comando `continue` irá parar a iteração atual e passará para próxima.  Dessa forma, como não houve incremento da variável `a`, não será impresso nenhum resultado e teremos um loop infinito."
   ]
  },
  {
   "cell_type": "markdown",
   "metadata": {},
   "source": [
    "Exemplo: se o resto da divisão $i$ por 3 for igual a zero, o loop é interrompido."
   ]
  },
  {
   "cell_type": "code",
   "execution_count": 38,
   "metadata": {},
   "outputs": [
    {
     "name": "stdout",
     "output_type": "stream",
     "text": [
      "1\n",
      "2\n"
     ]
    }
   ],
   "source": [
    "a = 0\n",
    "\n",
    "while a <= 5    \n",
    "    a += 1\n",
    "    \n",
    "    if a % 3 == 0\n",
    "        break\n",
    "    end\n",
    "    \n",
    "    println(a)    \n",
    "end"
   ]
  },
  {
   "cell_type": "markdown",
   "metadata": {},
   "source": [
    "### REPETIÇÃO DO\n",
    "\n",
    "Sintaxe Básica:\n",
    "```julia\n",
    "função do variável\n",
    "  instruções\n",
    "end\n",
    "```"
   ]
  },
  {
   "cell_type": "markdown",
   "metadata": {},
   "source": [
    "**Implementando Laços DO**"
   ]
  },
  {
   "cell_type": "code",
   "execution_count": 39,
   "metadata": {
    "scrolled": false
   },
   "outputs": [
    {
     "data": {
      "text/plain": [
       "1-element Array{Int64,1}:\n",
       " 41"
      ]
     },
     "execution_count": 39,
     "metadata": {},
     "output_type": "execute_result"
    }
   ],
   "source": [
    "# findall retorna o indice do vetor quando encontrar o valor igual a 5\n",
    "x = 1:0.1:20\n",
    "\n",
    "findall(x) do x\n",
    "    x == 5     \n",
    "end"
   ]
  },
  {
   "cell_type": "code",
   "execution_count": 40,
   "metadata": {
    "scrolled": true
   },
   "outputs": [
    {
     "data": {
      "text/plain": [
       "5.0"
      ]
     },
     "execution_count": 40,
     "metadata": {},
     "output_type": "execute_result"
    }
   ],
   "source": [
    "x[41]"
   ]
  },
  {
   "cell_type": "markdown",
   "metadata": {},
   "source": [
    "## MANIPULAÇÃO DE EXCEÇÃO"
   ]
  },
  {
   "cell_type": "markdown",
   "metadata": {
    "collapsed": true
   },
   "source": [
    "Quando ocorre uma condição não esperada no código, não prevista pelo programador, uma função pode ser incapaz de contornar o problema e evitar uma pane no sistema. Uma solução é programar a função para interromper a execução e imprimir uma mensagem de erro de diagnóstico ou trabalhar adequadamente o código para permitir que o programa tome uma ação apropriada em relação ao problema. Um exemplo clássico ocorre quando passamos um valor negativo a uma função raiz quadrada:\n",
    "```julia\n",
    "function raizQ(x)\n",
    "    return sqrt(x)\n",
    "end\n",
    "```\n",
    "Caso seja passado um número negativo, ocorrerá erro:\n",
    "```julia\n",
    "raizQ(-2)\n",
    "\n",
    "DomainError with -2.0:\n",
    "sqrt will only return a complex result if called with a complex argument. Try sqrt(Complex(x)).\n",
    "```\n",
    "Neste caso Julia lançou uma exceção (`DomainError`) informando que houve um erro quando o número negativo foi passado como argumento pois o resultado está dentro do domínio dos complexos. Note que o compilador ainda informa que devemos tentar `sqrt(Complex(x))` para resolver a raiz. No entanto, nem sempre o compilador será prático em nos informar o erro e tormar uma ação apropriada, daí a necessidade de tratarmos as excessões de forma adequada para evitar problemas de maior gravidade ao sistema. As exceções listadas abaixo interrompem o fluxo normal de execução e emitem uma mensagem de erro.\n",
    "\n",
    "- **ArgumentError**: Os parâmetros de uma chamada de função não correspondem a uma vínculo válido. Argumento \"msg\" é uma string de erro descritiva.\n",
    "\n",
    "- **BoundsError**: Uma operação de indexação em uma matriz, \"A\", tentou acessar um elemento fora dos limites, \"i\". \n",
    "\n",
    "- **DivideError**: A divisão inteira por \"0\".\n",
    "\n",
    "- **DomainError(valor, mensagem)**: Os argumentos para uma função ou construtor estão fora do domínio válido.\n",
    "\n",
    "- **ErrorException**: Tipo de erro genérico. A mensagem de erro, no campo \".msg\", pode fornecer detalhes mais específicos.\n",
    "\n",
    "- **EOFError**: Não há mais dados disponíveis para ler de um arquivo ou fluxo.\n",
    "\n",
    "- **ErrorException**: Tipo de erro genérico. A mensagem de erro, no campo .msg, pode fornecer detalhes mais específicos.\n",
    "\n",
    "- **InexactError**: A conversão entre tipos não pode ser feita exatamente.\n",
    "\n",
    "- **InitError**: Ocorreu um erro ao executar a função `__init__` de um módulo.\n",
    "\n",
    "- **InterruptException**: O processo foi interrompido por uma interrupção (CTRL + C).\n",
    "\n",
    "- **LoadError**: Ocorreu um erro ao tentar incluir, exibir ou usar um arquivo.\n",
    "\n",
    "- **MethodError**: Não existe na função genérica dado um método adequado.\n",
    "\n",
    "- **OutOfMemoryError**: Uma operação alocou muita memória para o sistema trabalhar adequadamente.\n",
    "\n",
    "- **OverflowError**: O resultado de uma expressão é muito grande para o tipo especificado.\n",
    "\n",
    "- **ParseError**: A expressão passada para a função `parse` (análise) não pôde ser interpretada como uma expressão válida da linguagem Julia.\n",
    "\n",
    "- **ReadOnlyMemoryError**: Uma operação tentou escrever na memória mas esta é somente para leitura. \n",
    "\n",
    "- **SystemError**: Uma chamada de sistema falhou com um código de erro \n",
    "\n",
    "- **TypeError**: Uma falha de asserção de tipo ou chamada de uma função intrínseca com um tipo de argumento incorreto.\n",
    "\n",
    "- **UndefRefError**: O item ou campo não está definido para o determinado objeto.\n",
    "\n",
    "- **UndefVarError**: Um símbolo no escopo atual não está definido.\n",
    "\n",
    "- **KeyError**: Uma operação de indexação em um objeto do tipo dicionário (Dict) ou conjunto (Set) tentou acessar ou excluir um elemento inexistente.\n",
    "\n",
    "\n",
    "A lista completa pode ser consultada aqui: [https://docs.julialang.org/en/v1/manual/control-flow/#Exception-Handling-1](https://docs.julialang.org/en/v1/manual/control-flow/#Exception-Handling-1)"
   ]
  },
  {
   "cell_type": "markdown",
   "metadata": {
    "collapsed": true
   },
   "source": [
    "### FUNÇÃO `THROW()`\n",
    "\n",
    "A função `Throw()` lança um objeto como uma exceção, ou seja, no exemplo abaixo a função lança a exceção `DomainError` que informa que o erro é de domínio."
   ]
  },
  {
   "cell_type": "code",
   "execution_count": 41,
   "metadata": {},
   "outputs": [
    {
     "data": {
      "text/plain": [
       "raizQ (generic function with 1 method)"
      ]
     },
     "execution_count": 41,
     "metadata": {},
     "output_type": "execute_result"
    }
   ],
   "source": [
    "function raizQ(x)\n",
    "    if x >= 0\n",
    "        sqrt(x)\n",
    "    else\n",
    "        throw(DomainError(x, \"A solução é de domínio complexo\"))\n",
    "    end\n",
    "end"
   ]
  },
  {
   "cell_type": "code",
   "execution_count": 42,
   "metadata": {},
   "outputs": [
    {
     "ename": "DomainError",
     "evalue": "DomainError with -2:\nA solução é de domínio complexo",
     "output_type": "error",
     "traceback": [
      "DomainError with -2:\nA solução é de domínio complexo",
      "",
      "Stacktrace:",
      " [1] raizQ(::Int64) at ./In[41]:5",
      " [2] top-level scope at In[42]:1"
     ]
    }
   ],
   "source": [
    "raizQ(-2)"
   ]
  },
  {
   "cell_type": "markdown",
   "metadata": {},
   "source": [
    "### FUNÇÃO `ERROR()`\n",
    "\n",
    "A função `error()` é usada para produzir uma `ErrorException` que interrompe imediatamente o fluxo normal de processamento e exibe uma mensagem na tela."
   ]
  },
  {
   "cell_type": "code",
   "execution_count": 43,
   "metadata": {},
   "outputs": [
    {
     "data": {
      "text/plain": [
       "raizQ_Er (generic function with 1 method)"
      ]
     },
     "execution_count": 43,
     "metadata": {},
     "output_type": "execute_result"
    }
   ],
   "source": [
    "function raizQ_Er(x)\n",
    "    \n",
    "    if x >=0        \n",
    "        sqrt(x)\n",
    "    else\n",
    "        error(\"Número negativo: $x. Não é possivel calcular raiz Real\")\n",
    "    end\n",
    "end"
   ]
  },
  {
   "cell_type": "code",
   "execution_count": 44,
   "metadata": {},
   "outputs": [
    {
     "ename": "ErrorException",
     "evalue": "Número negativo: -2. Não é possivel calcular raiz Real",
     "output_type": "error",
     "traceback": [
      "Número negativo: -2. Não é possivel calcular raiz Real",
      "",
      "Stacktrace:",
      " [1] error(::String) at ./error.jl:33",
      " [2] raizQ_Er(::Int64) at ./In[43]:6",
      " [3] top-level scope at In[44]:1"
     ]
    }
   ],
   "source": [
    "# a função será interrompida e exibirá uma mensagem\n",
    "raizQ_Er(-2)"
   ]
  },
  {
   "cell_type": "markdown",
   "metadata": {},
   "source": [
    "### TRY / CATCH\n",
    "\n",
    "A instrução `try-catch` permite que exceções sejam testadas, ou seja, tenta-se realizar a instrução (`try`) e se não for possível pega-se (`catch`) outra instrução para realizar o processamento. A função `raizQ_TC` ao receber o valor de `x` tenta calcular no domínio `Real` e se não for possível calcula no domínio `Complexo`. É importante observar que o `try-catch` provoca um forte queda no desempenho. Dessa forma, sempre que possível, teste uma possível exceção com avaliação condicional normal."
   ]
  },
  {
   "cell_type": "markdown",
   "metadata": {},
   "source": [
    "A função a seguir tenta calcular a raiz do número passado como argumento, se não puder, calcula como complexo. "
   ]
  },
  {
   "cell_type": "code",
   "execution_count": 45,
   "metadata": {},
   "outputs": [
    {
     "data": {
      "text/plain": [
       "raizQ_TC (generic function with 1 method)"
      ]
     },
     "execution_count": 45,
     "metadata": {},
     "output_type": "execute_result"
    }
   ],
   "source": [
    "function raizQ_TC(x)\n",
    "    try\n",
    "         sqrt(x)\n",
    "    catch\n",
    "         sqrt(complex(x))\n",
    "    end\n",
    "end"
   ]
  },
  {
   "cell_type": "code",
   "execution_count": 46,
   "metadata": {},
   "outputs": [
    {
     "data": {
      "text/plain": [
       "13.0"
      ]
     },
     "execution_count": 46,
     "metadata": {},
     "output_type": "execute_result"
    }
   ],
   "source": [
    "raizQ_TC(169)"
   ]
  },
  {
   "cell_type": "code",
   "execution_count": 47,
   "metadata": {},
   "outputs": [
    {
     "data": {
      "text/plain": [
       "0.0 + 1.4142135623730951im"
      ]
     },
     "execution_count": 47,
     "metadata": {},
     "output_type": "execute_result"
    }
   ],
   "source": [
    "raizQ_TC(-2)"
   ]
  },
  {
   "cell_type": "markdown",
   "metadata": {},
   "source": [
    "Uma boa prática de programação é tratar o tipo de erro que ocorreu. "
   ]
  },
  {
   "cell_type": "code",
   "execution_count": 48,
   "metadata": {
    "scrolled": true
   },
   "outputs": [
    {
     "data": {
      "text/plain": [
       "raizQ_TC_Er (generic function with 1 method)"
      ]
     },
     "execution_count": 48,
     "metadata": {},
     "output_type": "execute_result"
    }
   ],
   "source": [
    "function raizQ_TC_Er(x)\n",
    "    try\n",
    "        sqrt(x)\n",
    "        catch excessao\n",
    "            if isa(excessao, DomainError)\n",
    "                sqrt(complex(x))\n",
    "            \n",
    "            elseif isa(excessao, UndefVarError)\n",
    "                print(\"Valor não definido\")\n",
    "            \n",
    "            else\n",
    "                print(\"Excessão não definida. Valor não numérico\")\n",
    "            end\n",
    "    end\n",
    "    \n",
    "end"
   ]
  },
  {
   "cell_type": "code",
   "execution_count": 49,
   "metadata": {},
   "outputs": [
    {
     "data": {
      "text/plain": [
       "0.0 + 2.0im"
      ]
     },
     "execution_count": 49,
     "metadata": {},
     "output_type": "execute_result"
    }
   ],
   "source": [
    "# Passando um valor negativo\n",
    "raizQ_TC_Er(-4)"
   ]
  },
  {
   "cell_type": "code",
   "execution_count": 50,
   "metadata": {
    "scrolled": false
   },
   "outputs": [
    {
     "name": "stdout",
     "output_type": "stream",
     "text": [
      "Excessão não definida. Valor não numérico"
     ]
    }
   ],
   "source": [
    "# Passando uma string\n",
    "raizQ_TC_Er(\"a\")"
   ]
  },
  {
   "cell_type": "markdown",
   "metadata": {},
   "source": [
    "## FINALLY\n",
    "\n",
    "No código que executa mudanças de estado ou usa recursos como arquivos, geralmente há tarefas de limpeza (como fechar arquivos) que precisam ser feitas quando o código estiver concluído. As exceções potencialmente complicam essa tarefa, pois podem fazer com que um bloco de código saia antes de atingir seu fim normal. A palavra-chave finalmente fornece uma maneira de executar algum código quando um determinado bloco de código sai, independentemente de como ele sai. Quando o controle deixa o bloco de tentativa (por exemplo, devido a um retorno, ou apenas acabando normalmente), fechar (f) será executado. Se o bloco try for encerrado devido a uma exceção, a exceção continuará propagando. Um bloco catch pode ser combinado com try e, finalmente, também. Neste caso, o último bloco será executado depois que a captura tenha processado o erro."
   ]
  },
  {
   "cell_type": "code",
   "execution_count": 51,
   "metadata": {},
   "outputs": [
    {
     "ename": "SystemError",
     "evalue": "SystemError: opening file \"file1.txt\": No such file or directory",
     "output_type": "error",
     "traceback": [
      "SystemError: opening file \"file1.txt\": No such file or directory",
      "",
      "Stacktrace:",
      " [1] #systemerror#44(::Nothing, ::typeof(systemerror), ::String, ::Bool) at ./error.jl:134",
      " [2] systemerror at ./error.jl:134 [inlined]",
      " [3] #open#311(::Nothing, ::Nothing, ::Nothing, ::Nothing, ::Nothing, ::typeof(open), ::String) at ./iostream.jl:289",
      " [4] open(::String) at ./iostream.jl:281",
      " [5] top-level scope at In[51]:1"
     ]
    }
   ],
   "source": [
    "arquivo = open(\"file1.txt\") \n",
    "try\n",
    "    # operação com o arquivo file1.txt\n",
    "catch ex\n",
    "finally\n",
    "    println(\"fechando arquivo\")\n",
    "    close(arquivo)\n",
    "end"
   ]
  },
  {
   "cell_type": "markdown",
   "metadata": {},
   "source": [
    "## TASKS (COROTINAS)\n",
    "\n",
    "As tasks permitem controlar a execução de uma estrutura de fluxo de controle, permitindo pausar temporáriamente sua execução. Esta é uma construção poderosa: manipulação de exceções e multitarefa cooperativa são implementadas em Julia usando tarefas (BEZANSON et al., 2018). tasks são frequentemente utilizadas em ... ou quando...\n",
    "\n",
    "As tarefas são um recurso de fluxo de controle que permite que os cálculos sejam suspensos e retomados de forma flexível. Esse recurso às vezes é chamado por outros nomes, como corutinas simétricas, threads leves, multitarefa cooperativa ou continuações de um toque.\n",
    "\n",
    "Quando uma peça de trabalho de computação (na prática, executando uma função específica) é designada como Tarefa, torna-se possível interrompê-la ao mudar para outra Tarefa. A Tarefa original pode ser retomada em seguida, em que ponto ele irá retirar o lugar certo. No início, isso pode parecer semelhante a uma chamada de função. No entanto, existem duas diferenças importantes. Primeiro, as tarefas de comutação não usam nenhum espaço, portanto, qualquer número de switches de tarefa pode ocorrer sem consumir a pilha de chamadas. Em segundo lugar, a mudança entre tarefas pode ocorrer em qualquer ordem, ao contrário das chamadas de função, onde a função chamada deve terminar de ser executada antes do controle retornar à função de chamada.\n",
    "\n",
    "Esse tipo de fluxo de controle pode tornar muito mais fácil resolver determinados problemas. Em alguns problemas, as várias peças do trabalho obrigatório não são naturalmente relacionadas por chamadas de função; não há \"chamador\" ou \"calle\" óbvio entre os trabalhos que precisam ser feitos. Um exemplo é o problema produtor-consumidor, onde um procedimento complexo está gerando valores e outro procedimento complexo está consumindo-os. O consumidor não pode simplesmente chamar uma função de produtor para obter um valor, porque o produtor pode ter mais valores para gerar e, portanto, talvez ainda não esteja pronto para retornar. Com as tarefas, o produtor e o consumidor podem executar o tempo que for necessário, passando valores de um lado para o outro, conforme necessário.\n",
    "\n",
    "Julia fornece um mecanismo de canal para resolver esse problema. Um canal é uma fila de primeira fila que pode ser autenticada, que pode ter várias tarefas lendo e escrevendo para ele.\n",
    "\n",
    "Vamos definir uma tarefa de produtor, que produz valores através da colocação! ligar. Para consumir valores, precisamos agendar o produtor para executar em uma nova tarefa. Um construtor de canal especial que aceita uma função de 1 arg como argumento pode ser usado para executar uma tarefa vinculada a um canal. Podemos então tirar os valores! () Repetidamente do objeto do canal:"
   ]
  },
  {
   "cell_type": "code",
   "execution_count": 52,
   "metadata": {
    "scrolled": true
   },
   "outputs": [
    {
     "data": {
      "text/plain": [
       "producer1 (generic function with 1 method)"
      ]
     },
     "execution_count": 52,
     "metadata": {},
     "output_type": "execute_result"
    }
   ],
   "source": [
    "function producer1(c::Channel)\n",
    "    put!(c, \"start\")\n",
    "    for n = 0:2\n",
    "        put!(c, 2*n)\n",
    "    end\n",
    "    put!(c, \"stop\")\n",
    "end"
   ]
  },
  {
   "cell_type": "code",
   "execution_count": 53,
   "metadata": {},
   "outputs": [
    {
     "data": {
      "text/plain": [
       "Channel{Any}(sz_max:0,sz_curr:1)"
      ]
     },
     "execution_count": 53,
     "metadata": {},
     "output_type": "execute_result"
    }
   ],
   "source": [
    "chnl = Channel(producer1)"
   ]
  },
  {
   "cell_type": "code",
   "execution_count": 54,
   "metadata": {},
   "outputs": [
    {
     "data": {
      "text/plain": [
       "\"start\""
      ]
     },
     "execution_count": 54,
     "metadata": {},
     "output_type": "execute_result"
    }
   ],
   "source": [
    "take!(chnl)"
   ]
  },
  {
   "cell_type": "code",
   "execution_count": 55,
   "metadata": {},
   "outputs": [
    {
     "data": {
      "text/plain": [
       "0"
      ]
     },
     "execution_count": 55,
     "metadata": {},
     "output_type": "execute_result"
    }
   ],
   "source": [
    "take!(chnl)"
   ]
  },
  {
   "cell_type": "code",
   "execution_count": 56,
   "metadata": {},
   "outputs": [
    {
     "data": {
      "text/plain": [
       "2"
      ]
     },
     "execution_count": 56,
     "metadata": {},
     "output_type": "execute_result"
    }
   ],
   "source": [
    "take!(chnl)"
   ]
  },
  {
   "cell_type": "code",
   "execution_count": 57,
   "metadata": {},
   "outputs": [
    {
     "data": {
      "text/plain": [
       "4"
      ]
     },
     "execution_count": 57,
     "metadata": {},
     "output_type": "execute_result"
    }
   ],
   "source": [
    "take!(chnl)"
   ]
  },
  {
   "cell_type": "code",
   "execution_count": 58,
   "metadata": {},
   "outputs": [
    {
     "data": {
      "text/plain": [
       "\"stop\""
      ]
     },
     "execution_count": 58,
     "metadata": {},
     "output_type": "execute_result"
    }
   ],
   "source": [
    "take!(chnl)"
   ]
  },
  {
   "cell_type": "code",
   "execution_count": 59,
   "metadata": {},
   "outputs": [
    {
     "data": {
      "text/plain": [
       "prod (generic function with 1 method)"
      ]
     },
     "execution_count": 59,
     "metadata": {},
     "output_type": "execute_result"
    }
   ],
   "source": [
    "function prod(i::Channel)\n",
    "    for n = 1:5\n",
    "        put([i^2 for i = 1:n])\n",
    "    end\n",
    "    print(\"Fim Tarefa\")\n",
    "end"
   ]
  },
  {
   "cell_type": "code",
   "execution_count": 60,
   "metadata": {},
   "outputs": [
    {
     "ename": "UndefVarError",
     "evalue": "UndefVarError: producer not defined",
     "output_type": "error",
     "traceback": [
      "UndefVarError: producer not defined",
      "",
      "Stacktrace:",
      " [1] top-level scope at In[60]:1"
     ]
    }
   ],
   "source": [
    "chnl1 = Channel(producer);"
   ]
  },
  {
   "cell_type": "code",
   "execution_count": 61,
   "metadata": {},
   "outputs": [
    {
     "ename": "UndefVarError",
     "evalue": "UndefVarError: chnl1 not defined",
     "output_type": "error",
     "traceback": [
      "UndefVarError: chnl1 not defined",
      "",
      "Stacktrace:",
      " [1] top-level scope at In[61]:1"
     ]
    }
   ],
   "source": [
    "take!(chnl1)"
   ]
  },
  {
   "cell_type": "markdown",
   "metadata": {
    "collapsed": true
   },
   "source": [
    "## REFERÊNCIA BIBLIOGRÁFICA\n",
    "\n",
    "SAWAYA, Márcia Regina . Dicionário de Informática e Internet. 1. ed. São Paulo, SP: Nobel, 1999. 543 p. \n",
    "\n",
    "TUCKER, Allen B. ; NOONAN, Robert E. . Linguagens de Programação : Princípios e Paradigmas. 2. ed. São Paulo, SP: McGraw-Hill, 2009. 600 p. \n",
    "\n",
    "SEBESTA, Robert W. Conceitos de linguagens de programação. 9. ed. Porto Alegre: Bookman, 2011. 775 p. \n",
    "\n",
    "BEZANSON, Jeff et al. Julia Language Documentation. ed. [S.l.: s.n.], 2018. Disponível em: <https://docs.julialang.org/en/stable>. Acesso em: 25 Junho. 2018. \n"
   ]
  },
  {
   "cell_type": "code",
   "execution_count": null,
   "metadata": {},
   "outputs": [],
   "source": []
  }
 ],
 "metadata": {
  "anaconda-cloud": {},
  "kernelspec": {
   "display_name": "Julia 1.2.0",
   "language": "julia",
   "name": "julia-1.2"
  },
  "language_info": {
   "file_extension": ".jl",
   "mimetype": "application/julia",
   "name": "julia",
   "version": "1.2.0"
  },
  "latex_envs": {
   "LaTeX_envs_menu_present": true,
   "autocomplete": true,
   "bibliofile": "biblio.bib",
   "cite_by": "apalike",
   "current_citInitial": 1,
   "eqLabelWithNumbers": true,
   "eqNumInitial": 1,
   "hotkeys": {
    "equation": "Ctrl-E",
    "itemize": "Ctrl-I"
   },
   "labels_anchors": false,
   "latex_user_defs": false,
   "report_style_numbering": false,
   "user_envs_cfg": false
  },
  "name": "_merged"
 },
 "nbformat": 4,
 "nbformat_minor": 2
}
