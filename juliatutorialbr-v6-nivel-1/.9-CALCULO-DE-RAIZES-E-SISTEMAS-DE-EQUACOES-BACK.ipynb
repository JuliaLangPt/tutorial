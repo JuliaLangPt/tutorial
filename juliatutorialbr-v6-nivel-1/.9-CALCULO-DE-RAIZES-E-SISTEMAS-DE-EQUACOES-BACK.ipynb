{
 "cells": [
  {
   "cell_type": "markdown",
   "metadata": {},
   "source": [
    "# CÁLCULO DE RAÍZES E SISTEMAS DE EQUAÇÕES\n",
    "\n",
    "Em vários problemas de engenharia e exatas nos deparamos com situações no qual é importante encontrar as raízes de uma equação uma equação algébrica ou transcendental, na forma $f(x) = 0$. Em algumas situações é possível encontrar as raízes através da inspeção visual de um gráfico, no qual o ponto de interceptação do eixo \"x\" representa uma raiz. Apesar de impreciso, o método gráfico é útil para definir quais os pontos inicias de um método computacional. Julia possui os seguintes pacotes para encontrar raízes de equações lineares e não lineares:\n",
    "\n",
    "\n",
    "* **SymPy**: O pacote *SymPy* é uma biblioteca *Python* para matemática simbólica acessada via pacote *PyCall* e permite resolver equações e sistemas lineares. A função `solve()` permite resolver equações e sistemas lineares e `nsolve()` equações e sistemas não lineares. \n",
    "\n",
    " \n",
    "* **Roots**: Este pacote implementa métodos numéricos (Bissecção, Newton, Secante e Halley) para encontrar raízes de equações lineares e não lineares. A interface básica é através da função `fzero()`.\n",
    "\n",
    "\n",
    "* **SunDials**: É um pacote para *Julia* que faz a interface para a biblioteca Sundials da biblioteca escrita em `C`. Apresenta uma ótima velocidade de cálculo e permite resolver integrais de EDO, sistemas não lineares e outros.\n",
    "\n",
    "\n",
    "* **NLsolve**: O pacote NLsolve resolve sistemas de equações não-lineares utilizando diversos algoritmos e métodos numericos."
   ]
  },
  {
   "cell_type": "markdown",
   "metadata": {},
   "source": [
    "## RAIZES DE UMA EQUAÇÃO"
   ]
  },
  {
   "cell_type": "markdown",
   "metadata": {},
   "source": [
    "### PACOTE SYMPY\n",
    "\n",
    "Para calcular as raízes de uma equação com apenas uma variável use a seguinte sintaxe:\n",
    "```julia\n",
    "solve(equação, variável)\n",
    "```\n",
    "Sendo:\n",
    "- equação: função genérica ou expressão algébrica. \n",
    "- variável : incógnita.\n",
    "\n",
    "Caso a função `solve()` retorne `[]` ou <span style=\"color:blue\">raises NotImplementedError</span>, isto significa que o método empregado pelo função `solve()` não conseguiu encontrar nenhuma solução, porém ela ainda pode existir e será encontrada (caso exista em um dado intervalo) numericamente. `Solve()` não funciona com funções anônimas."
   ]
  },
  {
   "cell_type": "markdown",
   "metadata": {},
   "source": [
    "**Exemplo 1**\n",
    "\n",
    "Dada a expressão $x^2 - 3x - 2$, encontrar as raízes no intervalo  $~-5<x<5$. Inicialmente devemos plotar o gráfico utilizando a função anônima $ x -> x^2 - 3*x - 2~$. "
   ]
  },
  {
   "cell_type": "code",
   "execution_count": 69,
   "metadata": {
    "collapsed": false
   },
   "outputs": [
    {
     "data": {
      "text/html": [
       "<?xml version=\"1.0\" encoding=\"utf-8\"?>\n",
       "<svg xmlns=\"http://www.w3.org/2000/svg\" xmlns:xlink=\"http://www.w3.org/1999/xlink\" width=\"600\" height=\"400\" viewBox=\"0 0 600 400\">\n",
       "<defs>\n",
       "  <clipPath id=\"clip5700\">\n",
       "    <rect x=\"0\" y=\"0\" width=\"600\" height=\"400\"/>\n",
       "  </clipPath>\n",
       "</defs>\n",
       "<polygon clip-path=\"url(#clip5700)\" points=\"\n",
       "0,400 600,400 600,0 0,0 \n",
       "  \" fill=\"#ffffff\" fill-opacity=\"1\"/>\n",
       "<defs>\n",
       "  <clipPath id=\"clip5701\">\n",
       "    <rect x=\"120\" y=\"0\" width=\"421\" height=\"400\"/>\n",
       "  </clipPath>\n",
       "</defs>\n",
       "<polygon clip-path=\"url(#clip5700)\" points=\"\n",
       "28.9273,375.813 580.315,375.813 580.315,11.811 28.9273,11.811 \n",
       "  \" fill=\"#ffffff\" fill-opacity=\"1\"/>\n",
       "<defs>\n",
       "  <clipPath id=\"clip5702\">\n",
       "    <rect x=\"28\" y=\"11\" width=\"552\" height=\"365\"/>\n",
       "  </clipPath>\n",
       "</defs>\n",
       "<polyline clip-path=\"url(#clip5702)\" style=\"stroke:#000000; stroke-width:0.5; stroke-opacity:0.1; fill:none\" points=\"\n",
       "  28.9273,375.813 28.9273,11.811 \n",
       "  \"/>\n",
       "<polyline clip-path=\"url(#clip5702)\" style=\"stroke:#000000; stroke-width:0.5; stroke-opacity:0.1; fill:none\" points=\"\n",
       "  166.774,375.813 166.774,11.811 \n",
       "  \"/>\n",
       "<polyline clip-path=\"url(#clip5702)\" style=\"stroke:#000000; stroke-width:0.5; stroke-opacity:0.1; fill:none\" points=\"\n",
       "  304.621,375.813 304.621,11.811 \n",
       "  \"/>\n",
       "<polyline clip-path=\"url(#clip5702)\" style=\"stroke:#000000; stroke-width:0.5; stroke-opacity:0.1; fill:none\" points=\"\n",
       "  442.468,375.813 442.468,11.811 \n",
       "  \"/>\n",
       "<polyline clip-path=\"url(#clip5702)\" style=\"stroke:#000000; stroke-width:0.5; stroke-opacity:0.1; fill:none\" points=\"\n",
       "  580.315,375.813 580.315,11.811 \n",
       "  \"/>\n",
       "<polyline clip-path=\"url(#clip5702)\" style=\"stroke:#000000; stroke-width:0.5; stroke-opacity:0.1; fill:none\" points=\"\n",
       "  28.9273,339.198 580.315,339.198 \n",
       "  \"/>\n",
       "<polyline clip-path=\"url(#clip5702)\" style=\"stroke:#000000; stroke-width:0.5; stroke-opacity:0.1; fill:none\" points=\"\n",
       "  28.9273,253.043 580.315,253.043 \n",
       "  \"/>\n",
       "<polyline clip-path=\"url(#clip5702)\" style=\"stroke:#000000; stroke-width:0.5; stroke-opacity:0.1; fill:none\" points=\"\n",
       "  28.9273,166.889 580.315,166.889 \n",
       "  \"/>\n",
       "<polyline clip-path=\"url(#clip5702)\" style=\"stroke:#000000; stroke-width:0.5; stroke-opacity:0.1; fill:none\" points=\"\n",
       "  28.9273,80.7346 580.315,80.7346 \n",
       "  \"/>\n",
       "<polyline clip-path=\"url(#clip5700)\" style=\"stroke:#000000; stroke-width:1; stroke-opacity:1; fill:none\" points=\"\n",
       "  28.9273,375.813 580.315,375.813 \n",
       "  \"/>\n",
       "<polyline clip-path=\"url(#clip5700)\" style=\"stroke:#000000; stroke-width:1; stroke-opacity:1; fill:none\" points=\"\n",
       "  28.9273,375.813 28.9273,11.811 \n",
       "  \"/>\n",
       "<polyline clip-path=\"url(#clip5700)\" style=\"stroke:#000000; stroke-width:1; stroke-opacity:1; fill:none\" points=\"\n",
       "  28.9273,375.813 28.9273,370.353 \n",
       "  \"/>\n",
       "<polyline clip-path=\"url(#clip5700)\" style=\"stroke:#000000; stroke-width:1; stroke-opacity:1; fill:none\" points=\"\n",
       "  166.774,375.813 166.774,370.353 \n",
       "  \"/>\n",
       "<polyline clip-path=\"url(#clip5700)\" style=\"stroke:#000000; stroke-width:1; stroke-opacity:1; fill:none\" points=\"\n",
       "  304.621,375.813 304.621,370.353 \n",
       "  \"/>\n",
       "<polyline clip-path=\"url(#clip5700)\" style=\"stroke:#000000; stroke-width:1; stroke-opacity:1; fill:none\" points=\"\n",
       "  442.468,375.813 442.468,370.353 \n",
       "  \"/>\n",
       "<polyline clip-path=\"url(#clip5700)\" style=\"stroke:#000000; stroke-width:1; stroke-opacity:1; fill:none\" points=\"\n",
       "  580.315,375.813 580.315,370.353 \n",
       "  \"/>\n",
       "<polyline clip-path=\"url(#clip5700)\" style=\"stroke:#000000; stroke-width:1; stroke-opacity:1; fill:none\" points=\"\n",
       "  28.9273,339.198 37.1981,339.198 \n",
       "  \"/>\n",
       "<polyline clip-path=\"url(#clip5700)\" style=\"stroke:#000000; stroke-width:1; stroke-opacity:1; fill:none\" points=\"\n",
       "  28.9273,253.043 37.1981,253.043 \n",
       "  \"/>\n",
       "<polyline clip-path=\"url(#clip5700)\" style=\"stroke:#000000; stroke-width:1; stroke-opacity:1; fill:none\" points=\"\n",
       "  28.9273,166.889 37.1981,166.889 \n",
       "  \"/>\n",
       "<polyline clip-path=\"url(#clip5700)\" style=\"stroke:#000000; stroke-width:1; stroke-opacity:1; fill:none\" points=\"\n",
       "  28.9273,80.7346 37.1981,80.7346 \n",
       "  \"/>\n",
       "<g clip-path=\"url(#clip5700)\">\n",
       "<text style=\"fill:#000000; fill-opacity:1; font-family:Arial,Helvetica Neue,Helvetica,sans-serif; font-size:12; text-anchor:middle;\" transform=\"rotate(0, 28.9273, 389.613)\" x=\"28.9273\" y=\"389.613\">-5.0</text>\n",
       "</g>\n",
       "<g clip-path=\"url(#clip5700)\">\n",
       "<text style=\"fill:#000000; fill-opacity:1; font-family:Arial,Helvetica Neue,Helvetica,sans-serif; font-size:12; text-anchor:middle;\" transform=\"rotate(0, 166.774, 389.613)\" x=\"166.774\" y=\"389.613\">-2.5</text>\n",
       "</g>\n",
       "<g clip-path=\"url(#clip5700)\">\n",
       "<text style=\"fill:#000000; fill-opacity:1; font-family:Arial,Helvetica Neue,Helvetica,sans-serif; font-size:12; text-anchor:middle;\" transform=\"rotate(0, 304.621, 389.613)\" x=\"304.621\" y=\"389.613\">0.0</text>\n",
       "</g>\n",
       "<g clip-path=\"url(#clip5700)\">\n",
       "<text style=\"fill:#000000; fill-opacity:1; font-family:Arial,Helvetica Neue,Helvetica,sans-serif; font-size:12; text-anchor:middle;\" transform=\"rotate(0, 442.468, 389.613)\" x=\"442.468\" y=\"389.613\">2.5</text>\n",
       "</g>\n",
       "<g clip-path=\"url(#clip5700)\">\n",
       "<text style=\"fill:#000000; fill-opacity:1; font-family:Arial,Helvetica Neue,Helvetica,sans-serif; font-size:12; text-anchor:middle;\" transform=\"rotate(0, 580.315, 389.613)\" x=\"580.315\" y=\"389.613\">5.0</text>\n",
       "</g>\n",
       "<g clip-path=\"url(#clip5700)\">\n",
       "<text style=\"fill:#000000; fill-opacity:1; font-family:Arial,Helvetica Neue,Helvetica,sans-serif; font-size:12; text-anchor:end;\" transform=\"rotate(0, 22.9273, 343.698)\" x=\"22.9273\" y=\"343.698\">0</text>\n",
       "</g>\n",
       "<g clip-path=\"url(#clip5700)\">\n",
       "<text style=\"fill:#000000; fill-opacity:1; font-family:Arial,Helvetica Neue,Helvetica,sans-serif; font-size:12; text-anchor:end;\" transform=\"rotate(0, 22.9273, 257.543)\" x=\"22.9273\" y=\"257.543\">10</text>\n",
       "</g>\n",
       "<g clip-path=\"url(#clip5700)\">\n",
       "<text style=\"fill:#000000; fill-opacity:1; font-family:Arial,Helvetica Neue,Helvetica,sans-serif; font-size:12; text-anchor:end;\" transform=\"rotate(0, 22.9273, 171.389)\" x=\"22.9273\" y=\"171.389\">20</text>\n",
       "</g>\n",
       "<g clip-path=\"url(#clip5700)\">\n",
       "<text style=\"fill:#000000; fill-opacity:1; font-family:Arial,Helvetica Neue,Helvetica,sans-serif; font-size:12; text-anchor:end;\" transform=\"rotate(0, 22.9273, 85.2346)\" x=\"22.9273\" y=\"85.2346\">30</text>\n",
       "</g>\n",
       "<polyline clip-path=\"url(#clip5702)\" style=\"stroke:#009af9; stroke-width:1; stroke-opacity:1; fill:none\" points=\"\n",
       "  28.9273,11.811 34.4412,22.9249 39.955,33.8666 45.4689,44.6359 50.9828,55.2329 56.4967,65.6575 62.0106,75.9099 67.5244,85.99 73.0383,95.8977 78.5522,105.633 \n",
       "  84.0661,115.196 89.5799,124.587 95.0938,133.806 100.608,142.852 106.122,151.726 111.635,160.427 117.149,168.957 122.663,177.314 128.177,185.498 133.691,193.511 \n",
       "  139.205,201.351 144.719,209.018 150.233,216.514 155.746,223.837 161.26,230.988 166.774,237.966 172.288,244.773 177.802,251.406 183.316,257.868 188.83,264.157 \n",
       "  194.344,270.274 199.857,276.219 205.371,281.991 210.885,287.591 216.399,293.019 221.913,298.274 227.427,303.358 232.941,308.268 238.455,313.007 243.968,317.573 \n",
       "  249.482,321.967 254.996,326.189 260.51,330.238 266.024,334.115 271.538,337.819 277.052,341.352 282.566,344.712 288.079,347.899 293.593,350.915 299.107,353.758 \n",
       "  304.621,356.429 310.135,358.927 315.649,361.253 321.163,363.407 326.677,365.389 332.191,367.198 337.704,368.835 343.218,370.3 348.732,371.592 354.246,372.712 \n",
       "  359.76,373.66 365.274,374.435 370.788,375.038 376.302,375.469 381.815,375.727 387.329,375.813 392.843,375.727 398.357,375.469 403.871,375.038 409.385,374.435 \n",
       "  414.899,373.66 420.413,372.712 425.926,371.592 431.44,370.3 436.954,368.835 442.468,367.198 447.982,365.389 453.496,363.407 459.01,361.253 464.524,358.927 \n",
       "  470.037,356.429 475.551,353.758 481.065,350.915 486.579,347.899 492.093,344.712 497.607,341.352 503.121,337.819 508.635,334.115 514.148,330.238 519.662,326.189 \n",
       "  525.176,321.967 530.69,317.573 536.204,313.007 541.718,308.268 547.232,303.358 552.746,298.274 558.259,293.019 563.773,287.591 569.287,281.991 574.801,276.219 \n",
       "  580.315,270.274 \n",
       "  \"/>\n",
       "<polyline clip-path=\"url(#clip5702)\" style=\"stroke:#e26f46; stroke-width:1; stroke-opacity:1; fill:none\" points=\"\n",
       "  28.9273,339.198 34.4412,339.198 39.955,339.198 45.4689,339.198 50.9828,339.198 56.4967,339.198 62.0106,339.198 67.5244,339.198 73.0383,339.198 78.5522,339.198 \n",
       "  84.0661,339.198 89.5799,339.198 95.0938,339.198 100.608,339.198 106.122,339.198 111.635,339.198 117.149,339.198 122.663,339.198 128.177,339.198 133.691,339.198 \n",
       "  139.205,339.198 144.719,339.198 150.233,339.198 155.746,339.198 161.26,339.198 166.774,339.198 172.288,339.198 177.802,339.198 183.316,339.198 188.83,339.198 \n",
       "  194.344,339.198 199.857,339.198 205.371,339.198 210.885,339.198 216.399,339.198 221.913,339.198 227.427,339.198 232.941,339.198 238.455,339.198 243.968,339.198 \n",
       "  249.482,339.198 254.996,339.198 260.51,339.198 266.024,339.198 271.538,339.198 277.052,339.198 282.566,339.198 288.079,339.198 293.593,339.198 299.107,339.198 \n",
       "  304.621,339.198 310.135,339.198 315.649,339.198 321.163,339.198 326.677,339.198 332.191,339.198 337.704,339.198 343.218,339.198 348.732,339.198 354.246,339.198 \n",
       "  359.76,339.198 365.274,339.198 370.788,339.198 376.302,339.198 381.815,339.198 387.329,339.198 392.843,339.198 398.357,339.198 403.871,339.198 409.385,339.198 \n",
       "  414.899,339.198 420.413,339.198 425.926,339.198 431.44,339.198 436.954,339.198 442.468,339.198 447.982,339.198 453.496,339.198 459.01,339.198 464.524,339.198 \n",
       "  470.037,339.198 475.551,339.198 481.065,339.198 486.579,339.198 492.093,339.198 497.607,339.198 503.121,339.198 508.635,339.198 514.148,339.198 519.662,339.198 \n",
       "  525.176,339.198 530.69,339.198 536.204,339.198 541.718,339.198 547.232,339.198 552.746,339.198 558.259,339.198 563.773,339.198 569.287,339.198 574.801,339.198 \n",
       "  580.315,339.198 \n",
       "  \"/>\n",
       "<polygon clip-path=\"url(#clip5700)\" points=\"\n",
       "455.548,78.051 562.315,78.051 562.315,32.691 455.548,32.691 \n",
       "  \" fill=\"#ffffff\" fill-opacity=\"1\"/>\n",
       "<polyline clip-path=\"url(#clip5700)\" style=\"stroke:#000000; stroke-width:1; stroke-opacity:1; fill:none\" points=\"\n",
       "  455.548,78.051 562.315,78.051 562.315,32.691 455.548,32.691 455.548,78.051 \n",
       "  \"/>\n",
       "<polyline clip-path=\"url(#clip5700)\" style=\"stroke:#009af9; stroke-width:1; stroke-opacity:1; fill:none\" points=\"\n",
       "  461.548,47.811 497.548,47.811 \n",
       "  \"/>\n",
       "<g clip-path=\"url(#clip5700)\">\n",
       "<text style=\"fill:#000000; fill-opacity:1; font-family:Arial,Helvetica Neue,Helvetica,sans-serif; font-size:12; text-anchor:start;\" transform=\"rotate(0, 503.548, 52.311)\" x=\"503.548\" y=\"52.311\">equação</text>\n",
       "</g>\n",
       "<polyline clip-path=\"url(#clip5700)\" style=\"stroke:#e26f46; stroke-width:1; stroke-opacity:1; fill:none\" points=\"\n",
       "  461.548,62.931 497.548,62.931 \n",
       "  \"/>\n",
       "<g clip-path=\"url(#clip5700)\">\n",
       "<text style=\"fill:#000000; fill-opacity:1; font-family:Arial,Helvetica Neue,Helvetica,sans-serif; font-size:12; text-anchor:start;\" transform=\"rotate(0, 503.548, 67.431)\" x=\"503.548\" y=\"67.431\">reta zero</text>\n",
       "</g>\n",
       "</svg>\n"
      ]
     },
     "execution_count": 69,
     "metadata": {},
     "output_type": "execute_result"
    }
   ],
   "source": [
    "using Plots\n",
    "gr()\n",
    "\n",
    "plot(-5:0.1:5, x -> x^2 - 3*x - 2, label = \"equação\")\n",
    "plot!(-5:0.1:5, zero, label = \"reta zero\")"
   ]
  },
  {
   "cell_type": "markdown",
   "metadata": {},
   "source": [
    "De acordo com o gráfico, podemos observar que temos 2 raízes, uma próxima de 1 e outra próxima de 4. "
   ]
  },
  {
   "cell_type": "code",
   "execution_count": 1,
   "metadata": {
    "collapsed": false,
    "scrolled": true
   },
   "outputs": [
    {
     "name": "stderr",
     "output_type": "stream",
     "text": [
      "\u001b[1m\u001b[36mINFO: \u001b[39m\u001b[22m\u001b[36mRecompiling stale cache file /home/jmarcellopereira/.julia/lib/v0.6/PyCall.ji for module PyCall.\n",
      "\u001b[39m\u001b[1m\u001b[36mINFO: \u001b[39m\u001b[22m\u001b[36mRecompiling stale cache file /home/jmarcellopereira/.julia/lib/v0.6/SymPy.ji for module SymPy.\n",
      "\u001b[39m"
     ]
    },
    {
     "data": {
      "text/plain": [
       "(x,)"
      ]
     },
     "execution_count": 1,
     "metadata": {},
     "output_type": "execute_result"
    }
   ],
   "source": [
    "using Plots, SymPy\n",
    "@syms x "
   ]
  },
  {
   "cell_type": "code",
   "execution_count": 2,
   "metadata": {
    "collapsed": false,
    "scrolled": false
   },
   "outputs": [
    {
     "data": {
      "text/latex": [
       "\\begin{bmatrix}\\frac{3}{2} + \\frac{\\sqrt{17}}{2}\\\\- \\frac{\\sqrt{17}}{2} + \\frac{3}{2}\\end{bmatrix}"
      ],
      "text/plain": [
       "2-element Array{SymPy.Sym,1}:\n",
       "  3/2 + sqrt(17)/2\n",
       " -sqrt(17)/2 + 3/2"
      ]
     },
     "execution_count": 2,
     "metadata": {},
     "output_type": "execute_result"
    }
   ],
   "source": [
    "sol = solve(x^2 - 3*x - 2, x)"
   ]
  },
  {
   "cell_type": "code",
   "execution_count": 3,
   "metadata": {
    "collapsed": false
   },
   "outputs": [
    {
     "data": {
      "text/plain": [
       "Array{SymPy.Sym,1}"
      ]
     },
     "execution_count": 3,
     "metadata": {},
     "output_type": "execute_result"
    }
   ],
   "source": [
    "typeof(sol)"
   ]
  },
  {
   "cell_type": "markdown",
   "metadata": {},
   "source": [
    "O resultado é um vetor unidimensional do tipo simbólico, logo é interessante associar o resultado a duas raízes $x_1$ e $x_2$ do tipo float."
   ]
  },
  {
   "cell_type": "code",
   "execution_count": 4,
   "metadata": {
    "collapsed": false,
    "scrolled": false
   },
   "outputs": [
    {
     "data": {
      "text/plain": [
       "2-element Array{Float64,1}:\n",
       "  3.56155 \n",
       " -0.561553"
      ]
     },
     "execution_count": 4,
     "metadata": {},
     "output_type": "execute_result"
    }
   ],
   "source": [
    "x1, x2 = float(solve(x^2 - 3*x - 2, x))"
   ]
  },
  {
   "cell_type": "code",
   "execution_count": 79,
   "metadata": {
    "collapsed": false,
    "scrolled": false
   },
   "outputs": [
    {
     "data": {
      "text/html": [
       "<?xml version=\"1.0\" encoding=\"utf-8\"?>\n",
       "<svg xmlns=\"http://www.w3.org/2000/svg\" xmlns:xlink=\"http://www.w3.org/1999/xlink\" width=\"400\" height=\"300\" viewBox=\"0 0 400 300\">\n",
       "<defs>\n",
       "  <clipPath id=\"clip6100\">\n",
       "    <rect x=\"0\" y=\"0\" width=\"400\" height=\"300\"/>\n",
       "  </clipPath>\n",
       "</defs>\n",
       "<polygon clip-path=\"url(#clip6100)\" points=\"\n",
       "0,300 400,300 400,0 0,0 \n",
       "  \" fill=\"#ffffff\" fill-opacity=\"1\"/>\n",
       "<defs>\n",
       "  <clipPath id=\"clip6101\">\n",
       "    <rect x=\"80\" y=\"0\" width=\"281\" height=\"281\"/>\n",
       "  </clipPath>\n",
       "</defs>\n",
       "<polygon clip-path=\"url(#clip6100)\" points=\"\n",
       "28.9273,274.759 380.315,274.759 380.315,11.811 28.9273,11.811 \n",
       "  \" fill=\"#ffffff\" fill-opacity=\"1\"/>\n",
       "<defs>\n",
       "  <clipPath id=\"clip6102\">\n",
       "    <rect x=\"28\" y=\"11\" width=\"352\" height=\"264\"/>\n",
       "  </clipPath>\n",
       "</defs>\n",
       "<polyline clip-path=\"url(#clip6102)\" style=\"stroke:#000000; stroke-width:0.5; stroke-opacity:0.1; fill:none\" points=\"\n",
       "  72.022,274.759 72.022,11.811 \n",
       "  \"/>\n",
       "<polyline clip-path=\"url(#clip6102)\" style=\"stroke:#000000; stroke-width:0.5; stroke-opacity:0.1; fill:none\" points=\"\n",
       "  138.322,274.759 138.322,11.811 \n",
       "  \"/>\n",
       "<polyline clip-path=\"url(#clip6102)\" style=\"stroke:#000000; stroke-width:0.5; stroke-opacity:0.1; fill:none\" points=\"\n",
       "  204.621,274.759 204.621,11.811 \n",
       "  \"/>\n",
       "<polyline clip-path=\"url(#clip6102)\" style=\"stroke:#000000; stroke-width:0.5; stroke-opacity:0.1; fill:none\" points=\"\n",
       "  270.921,274.759 270.921,11.811 \n",
       "  \"/>\n",
       "<polyline clip-path=\"url(#clip6102)\" style=\"stroke:#000000; stroke-width:0.5; stroke-opacity:0.1; fill:none\" points=\"\n",
       "  337.22,274.759 337.22,11.811 \n",
       "  \"/>\n",
       "<polyline clip-path=\"url(#clip6102)\" style=\"stroke:#000000; stroke-width:0.5; stroke-opacity:0.1; fill:none\" points=\"\n",
       "  28.9273,242.364 380.315,242.364 \n",
       "  \"/>\n",
       "<polyline clip-path=\"url(#clip6102)\" style=\"stroke:#000000; stroke-width:0.5; stroke-opacity:0.1; fill:none\" points=\"\n",
       "  28.9273,183.65 380.315,183.65 \n",
       "  \"/>\n",
       "<polyline clip-path=\"url(#clip6102)\" style=\"stroke:#000000; stroke-width:0.5; stroke-opacity:0.1; fill:none\" points=\"\n",
       "  28.9273,124.937 380.315,124.937 \n",
       "  \"/>\n",
       "<polyline clip-path=\"url(#clip6102)\" style=\"stroke:#000000; stroke-width:0.5; stroke-opacity:0.1; fill:none\" points=\"\n",
       "  28.9273,66.2236 380.315,66.2236 \n",
       "  \"/>\n",
       "<polyline clip-path=\"url(#clip6100)\" style=\"stroke:#000000; stroke-width:1; stroke-opacity:1; fill:none\" points=\"\n",
       "  28.9273,274.759 380.315,274.759 \n",
       "  \"/>\n",
       "<polyline clip-path=\"url(#clip6100)\" style=\"stroke:#000000; stroke-width:1; stroke-opacity:1; fill:none\" points=\"\n",
       "  28.9273,274.759 28.9273,11.811 \n",
       "  \"/>\n",
       "<polyline clip-path=\"url(#clip6100)\" style=\"stroke:#000000; stroke-width:1; stroke-opacity:1; fill:none\" points=\"\n",
       "  72.022,274.759 72.022,270.814 \n",
       "  \"/>\n",
       "<polyline clip-path=\"url(#clip6100)\" style=\"stroke:#000000; stroke-width:1; stroke-opacity:1; fill:none\" points=\"\n",
       "  138.322,274.759 138.322,270.814 \n",
       "  \"/>\n",
       "<polyline clip-path=\"url(#clip6100)\" style=\"stroke:#000000; stroke-width:1; stroke-opacity:1; fill:none\" points=\"\n",
       "  204.621,274.759 204.621,270.814 \n",
       "  \"/>\n",
       "<polyline clip-path=\"url(#clip6100)\" style=\"stroke:#000000; stroke-width:1; stroke-opacity:1; fill:none\" points=\"\n",
       "  270.921,274.759 270.921,270.814 \n",
       "  \"/>\n",
       "<polyline clip-path=\"url(#clip6100)\" style=\"stroke:#000000; stroke-width:1; stroke-opacity:1; fill:none\" points=\"\n",
       "  337.22,274.759 337.22,270.814 \n",
       "  \"/>\n",
       "<polyline clip-path=\"url(#clip6100)\" style=\"stroke:#000000; stroke-width:1; stroke-opacity:1; fill:none\" points=\"\n",
       "  28.9273,242.364 34.1981,242.364 \n",
       "  \"/>\n",
       "<polyline clip-path=\"url(#clip6100)\" style=\"stroke:#000000; stroke-width:1; stroke-opacity:1; fill:none\" points=\"\n",
       "  28.9273,183.65 34.1981,183.65 \n",
       "  \"/>\n",
       "<polyline clip-path=\"url(#clip6100)\" style=\"stroke:#000000; stroke-width:1; stroke-opacity:1; fill:none\" points=\"\n",
       "  28.9273,124.937 34.1981,124.937 \n",
       "  \"/>\n",
       "<polyline clip-path=\"url(#clip6100)\" style=\"stroke:#000000; stroke-width:1; stroke-opacity:1; fill:none\" points=\"\n",
       "  28.9273,66.2236 34.1981,66.2236 \n",
       "  \"/>\n",
       "<g clip-path=\"url(#clip6100)\">\n",
       "<text style=\"fill:#000000; fill-opacity:1; font-family:Arial,Helvetica Neue,Helvetica,sans-serif; font-size:12; text-anchor:middle;\" transform=\"rotate(0, 72.022, 287.559)\" x=\"72.022\" y=\"287.559\">-4</text>\n",
       "</g>\n",
       "<g clip-path=\"url(#clip6100)\">\n",
       "<text style=\"fill:#000000; fill-opacity:1; font-family:Arial,Helvetica Neue,Helvetica,sans-serif; font-size:12; text-anchor:middle;\" transform=\"rotate(0, 138.322, 287.559)\" x=\"138.322\" y=\"287.559\">-2</text>\n",
       "</g>\n",
       "<g clip-path=\"url(#clip6100)\">\n",
       "<text style=\"fill:#000000; fill-opacity:1; font-family:Arial,Helvetica Neue,Helvetica,sans-serif; font-size:12; text-anchor:middle;\" transform=\"rotate(0, 204.621, 287.559)\" x=\"204.621\" y=\"287.559\">0</text>\n",
       "</g>\n",
       "<g clip-path=\"url(#clip6100)\">\n",
       "<text style=\"fill:#000000; fill-opacity:1; font-family:Arial,Helvetica Neue,Helvetica,sans-serif; font-size:12; text-anchor:middle;\" transform=\"rotate(0, 270.921, 287.559)\" x=\"270.921\" y=\"287.559\">2</text>\n",
       "</g>\n",
       "<g clip-path=\"url(#clip6100)\">\n",
       "<text style=\"fill:#000000; fill-opacity:1; font-family:Arial,Helvetica Neue,Helvetica,sans-serif; font-size:12; text-anchor:middle;\" transform=\"rotate(0, 337.22, 287.559)\" x=\"337.22\" y=\"287.559\">4</text>\n",
       "</g>\n",
       "<g clip-path=\"url(#clip6100)\">\n",
       "<text style=\"fill:#000000; fill-opacity:1; font-family:Arial,Helvetica Neue,Helvetica,sans-serif; font-size:12; text-anchor:end;\" transform=\"rotate(0, 24.9273, 246.864)\" x=\"24.9273\" y=\"246.864\">0</text>\n",
       "</g>\n",
       "<g clip-path=\"url(#clip6100)\">\n",
       "<text style=\"fill:#000000; fill-opacity:1; font-family:Arial,Helvetica Neue,Helvetica,sans-serif; font-size:12; text-anchor:end;\" transform=\"rotate(0, 24.9273, 188.15)\" x=\"24.9273\" y=\"188.15\">10</text>\n",
       "</g>\n",
       "<g clip-path=\"url(#clip6100)\">\n",
       "<text style=\"fill:#000000; fill-opacity:1; font-family:Arial,Helvetica Neue,Helvetica,sans-serif; font-size:12; text-anchor:end;\" transform=\"rotate(0, 24.9273, 129.437)\" x=\"24.9273\" y=\"129.437\">20</text>\n",
       "</g>\n",
       "<g clip-path=\"url(#clip6100)\">\n",
       "<text style=\"fill:#000000; fill-opacity:1; font-family:Arial,Helvetica Neue,Helvetica,sans-serif; font-size:12; text-anchor:end;\" transform=\"rotate(0, 24.9273, 70.7236)\" x=\"24.9273\" y=\"70.7236\">30</text>\n",
       "</g>\n",
       "<polyline clip-path=\"url(#clip6102)\" style=\"stroke:#009af9; stroke-width:1; stroke-opacity:1; fill:none\" points=\"\n",
       "  38.8722,19.2529 42.1872,26.827 45.5022,34.2835 48.8172,41.6227 52.1321,48.8445 55.4471,55.9488 58.7621,62.9356 62.0771,69.8051 65.392,76.5571 68.707,83.1917 \n",
       "  72.022,89.7089 75.337,96.1087 78.652,102.391 81.9669,108.556 85.2819,114.603 88.5969,120.533 91.9119,126.346 95.2269,132.041 98.5418,137.619 101.857,143.079 \n",
       "  105.172,148.422 108.487,153.648 111.802,158.756 115.117,163.746 118.432,168.62 121.747,173.375 125.062,178.014 128.377,182.535 131.692,186.938 135.007,191.224 \n",
       "  138.322,195.393 141.637,199.444 144.952,203.378 148.266,207.194 151.581,210.893 154.896,214.475 158.211,217.939 161.526,221.285 164.841,224.515 168.156,227.627 \n",
       "  171.471,230.621 174.786,233.498 178.101,236.257 181.416,238.899 184.731,241.424 188.046,243.831 191.361,246.121 194.676,248.294 197.991,250.349 201.306,252.286 \n",
       "  204.621,254.106 207.936,255.809 211.251,257.394 214.566,258.862 217.881,260.212 221.196,261.445 224.511,262.561 227.826,263.559 231.141,264.44 234.456,265.203 \n",
       "  237.771,265.849 241.086,266.377 244.401,266.788 247.716,267.082 251.031,267.258 254.346,267.317 257.661,267.258 260.976,267.082 264.291,266.788 267.606,266.377 \n",
       "  270.921,265.849 274.236,265.203 277.551,264.44 280.866,263.559 284.181,262.561 287.496,261.445 290.811,260.212 294.126,258.862 297.441,257.394 300.755,255.809 \n",
       "  304.07,254.106 307.385,252.286 310.7,250.349 314.015,248.294 317.33,246.121 320.645,243.831 323.96,241.424 327.275,238.899 330.59,236.257 333.905,233.498 \n",
       "  337.22,230.621 340.535,227.627 343.85,224.515 347.165,221.285 350.48,217.939 353.795,214.475 357.11,210.893 360.425,207.194 363.74,203.378 367.055,199.444 \n",
       "  370.37,195.393 \n",
       "  \"/>\n",
       "<polyline clip-path=\"url(#clip6102)\" style=\"stroke:#e26f46; stroke-width:1; stroke-opacity:1; fill:none\" points=\"\n",
       "  38.8722,242.364 42.1872,242.364 45.5022,242.364 48.8172,242.364 52.1321,242.364 55.4471,242.364 58.7621,242.364 62.0771,242.364 65.392,242.364 68.707,242.364 \n",
       "  72.022,242.364 75.337,242.364 78.652,242.364 81.9669,242.364 85.2819,242.364 88.5969,242.364 91.9119,242.364 95.2269,242.364 98.5418,242.364 101.857,242.364 \n",
       "  105.172,242.364 108.487,242.364 111.802,242.364 115.117,242.364 118.432,242.364 121.747,242.364 125.062,242.364 128.377,242.364 131.692,242.364 135.007,242.364 \n",
       "  138.322,242.364 141.637,242.364 144.952,242.364 148.266,242.364 151.581,242.364 154.896,242.364 158.211,242.364 161.526,242.364 164.841,242.364 168.156,242.364 \n",
       "  171.471,242.364 174.786,242.364 178.101,242.364 181.416,242.364 184.731,242.364 188.046,242.364 191.361,242.364 194.676,242.364 197.991,242.364 201.306,242.364 \n",
       "  204.621,242.364 207.936,242.364 211.251,242.364 214.566,242.364 217.881,242.364 221.196,242.364 224.511,242.364 227.826,242.364 231.141,242.364 234.456,242.364 \n",
       "  237.771,242.364 241.086,242.364 244.401,242.364 247.716,242.364 251.031,242.364 254.346,242.364 257.661,242.364 260.976,242.364 264.291,242.364 267.606,242.364 \n",
       "  270.921,242.364 274.236,242.364 277.551,242.364 280.866,242.364 284.181,242.364 287.496,242.364 290.811,242.364 294.126,242.364 297.441,242.364 300.755,242.364 \n",
       "  304.07,242.364 307.385,242.364 310.7,242.364 314.015,242.364 317.33,242.364 320.645,242.364 323.96,242.364 327.275,242.364 330.59,242.364 333.905,242.364 \n",
       "  337.22,242.364 340.535,242.364 343.85,242.364 347.165,242.364 350.48,242.364 353.795,242.364 357.11,242.364 360.425,242.364 363.74,242.364 367.055,242.364 \n",
       "  370.37,242.364 \n",
       "  \"/>\n",
       "<circle clip-path=\"url(#clip6102)\" style=\"fill:#000000; stroke:none; fill-opacity:1\" cx=\"322.686\" cy=\"242.364\" r=\"4\"/>\n",
       "<circle clip-path=\"url(#clip6102)\" style=\"fill:#3da44d; stroke:none; fill-opacity:1\" cx=\"322.686\" cy=\"242.364\" r=\"3\"/>\n",
       "<circle clip-path=\"url(#clip6102)\" style=\"fill:#000000; stroke:none; fill-opacity:1\" cx=\"186.006\" cy=\"242.364\" r=\"4\"/>\n",
       "<circle clip-path=\"url(#clip6102)\" style=\"fill:#3da44d; stroke:none; fill-opacity:1\" cx=\"186.006\" cy=\"242.364\" r=\"3\"/>\n",
       "<polygon clip-path=\"url(#clip6100)\" points=\"\n",
       "281.548,81.171 368.315,81.171 368.315,20.691 281.548,20.691 \n",
       "  \" fill=\"#ffffff\" fill-opacity=\"1\"/>\n",
       "<polyline clip-path=\"url(#clip6100)\" style=\"stroke:#000000; stroke-width:1; stroke-opacity:1; fill:none\" points=\"\n",
       "  281.548,81.171 368.315,81.171 368.315,20.691 281.548,20.691 281.548,81.171 \n",
       "  \"/>\n",
       "<polyline clip-path=\"url(#clip6100)\" style=\"stroke:#009af9; stroke-width:1; stroke-opacity:1; fill:none\" points=\"\n",
       "  285.548,35.811 309.548,35.811 \n",
       "  \"/>\n",
       "<g clip-path=\"url(#clip6100)\">\n",
       "<text style=\"fill:#000000; fill-opacity:1; font-family:Arial,Helvetica Neue,Helvetica,sans-serif; font-size:12; text-anchor:start;\" transform=\"rotate(0, 313.548, 40.311)\" x=\"313.548\" y=\"40.311\">equação</text>\n",
       "</g>\n",
       "<polyline clip-path=\"url(#clip6100)\" style=\"stroke:#e26f46; stroke-width:1; stroke-opacity:1; fill:none\" points=\"\n",
       "  285.548,50.931 309.548,50.931 \n",
       "  \"/>\n",
       "<g clip-path=\"url(#clip6100)\">\n",
       "<text style=\"fill:#000000; fill-opacity:1; font-family:Arial,Helvetica Neue,Helvetica,sans-serif; font-size:12; text-anchor:start;\" transform=\"rotate(0, 313.548, 55.431)\" x=\"313.548\" y=\"55.431\">reta zero</text>\n",
       "</g>\n",
       "<circle clip-path=\"url(#clip6100)\" style=\"fill:#000000; stroke:none; fill-opacity:1\" cx=\"299.548\" cy=\"66.051\" r=\"6\"/>\n",
       "<circle clip-path=\"url(#clip6100)\" style=\"fill:#3da44d; stroke:none; fill-opacity:1\" cx=\"299.548\" cy=\"66.051\" r=\"5\"/>\n",
       "<g clip-path=\"url(#clip6100)\">\n",
       "<text style=\"fill:#000000; fill-opacity:1; font-family:Arial,Helvetica Neue,Helvetica,sans-serif; font-size:12; text-anchor:start;\" transform=\"rotate(0, 313.548, 70.551)\" x=\"313.548\" y=\"70.551\">raízes</text>\n",
       "</g>\n",
       "</svg>\n"
      ]
     },
     "execution_count": 79,
     "metadata": {},
     "output_type": "execute_result"
    }
   ],
   "source": [
    "using Plots\n",
    "gr()\n",
    "\n",
    "plot(-5:0.1:5, x -> x^2 - 3*x - 2, label = \"equação\", size = (400, 300) )\n",
    "plot!(-5:0.1:5, zero, label = \"reta zero\")\n",
    "scatter!([x1, x2], [0, 0], label  = \"raízes\")"
   ]
  },
  {
   "cell_type": "markdown",
   "metadata": {},
   "source": [
    "É possível resolver uma função/expressão de várias variáveis em relação uma variável qualquer. Ex: Dada o período de um pendulo simples definido como $t = 2 \\pi \\sqrt{{l}\\over{g}} ~$ vamos resolver em relação a  \"g\"."
   ]
  },
  {
   "cell_type": "code",
   "execution_count": 13,
   "metadata": {
    "collapsed": false
   },
   "outputs": [
    {
     "data": {
      "text/plain": [
       "(t, l, g)"
      ]
     },
     "execution_count": 13,
     "metadata": {},
     "output_type": "execute_result"
    }
   ],
   "source": [
    "using SymPy\n",
    "@syms t l g"
   ]
  },
  {
   "cell_type": "code",
   "execution_count": 22,
   "metadata": {
    "collapsed": false,
    "scrolled": true
   },
   "outputs": [
    {
     "ename": "LoadError",
     "evalue": "\u001b[91mno promotion exists for Float64 and SymPy.Sym\u001b[39m",
     "output_type": "error",
     "traceback": [
      "\u001b[91mno promotion exists for Float64 and SymPy.Sym\u001b[39m",
      "",
      "Stacktrace:",
      " [1] \u001b[1mpromote_type\u001b[22m\u001b[22m\u001b[1m(\u001b[22m\u001b[22m::Type{Float64}, ::Type{SymPy.Sym}\u001b[1m)\u001b[22m\u001b[22m at \u001b[1m./promotion.jl:161\u001b[22m\u001b[22m",
      " [2] \u001b[1mpromote\u001b[22m\u001b[22m at \u001b[1m./promotion.jl:175\u001b[22m\u001b[22m [inlined]",
      " [3] \u001b[1m*\u001b[22m\u001b[22m at \u001b[1m./promotion.jl:250\u001b[22m\u001b[22m [inlined]",
      " [4] \u001b[1m*\u001b[22m\u001b[22m\u001b[1m(\u001b[22m\u001b[22m::Int64, ::Irrational{:π}, ::SymPy.Sym\u001b[1m)\u001b[22m\u001b[22m at \u001b[1m./operators.jl:424\u001b[22m\u001b[22m",
      " [5] \u001b[1minclude_string\u001b[22m\u001b[22m\u001b[1m(\u001b[22m\u001b[22m::String, ::String\u001b[1m)\u001b[22m\u001b[22m at \u001b[1m./loading.jl:522\u001b[22m\u001b[22m"
     ]
    }
   ],
   "source": [
    "solve(2*pi*sqrt(l/g) - t, g)"
   ]
  },
  {
   "cell_type": "markdown",
   "metadata": {},
   "source": []
  },
  {
   "cell_type": "code",
   "execution_count": 24,
   "metadata": {
    "collapsed": false
   },
   "outputs": [
    {
     "data": {
      "text/latex": [
       "$$x^{2} - 3 x - 2$$"
      ],
      "text/plain": [
       " 2          \n",
       "x  - 3⋅x - 2"
      ]
     },
     "execution_count": 24,
     "metadata": {},
     "output_type": "execute_result"
    }
   ],
   "source": [
    "f = x^2 - 3*x - 2"
   ]
  },
  {
   "cell_type": "code",
   "execution_count": 26,
   "metadata": {
    "collapsed": false,
    "scrolled": true
   },
   "outputs": [],
   "source": [
    "using Roots"
   ]
  },
  {
   "cell_type": "code",
   "execution_count": 27,
   "metadata": {
    "collapsed": false
   },
   "outputs": [
    {
     "data": {
      "text/plain": [
       "-0.5615528128088303"
      ]
     },
     "execution_count": 27,
     "metadata": {},
     "output_type": "execute_result"
    }
   ],
   "source": [
    "fzero(convert(Function, f), -2)"
   ]
  },
  {
   "cell_type": "markdown",
   "metadata": {},
   "source": [
    "**Raiz de uma função genérica**"
   ]
  },
  {
   "cell_type": "code",
   "execution_count": 28,
   "metadata": {
    "collapsed": false
   },
   "outputs": [
    {
     "data": {
      "text/plain": [
       "(x,)"
      ]
     },
     "execution_count": 28,
     "metadata": {},
     "output_type": "execute_result"
    }
   ],
   "source": [
    "using SymPy\n",
    "@syms x"
   ]
  },
  {
   "cell_type": "code",
   "execution_count": 29,
   "metadata": {
    "collapsed": false,
    "scrolled": true
   },
   "outputs": [
    {
     "ename": "LoadError",
     "evalue": "\u001b[91mcannot define function f; it already has a value\u001b[39m",
     "output_type": "error",
     "traceback": [
      "\u001b[91mcannot define function f; it already has a value\u001b[39m",
      "",
      "Stacktrace:",
      " [1] \u001b[1minclude_string\u001b[22m\u001b[22m\u001b[1m(\u001b[22m\u001b[22m::String, ::String\u001b[1m)\u001b[22m\u001b[22m at \u001b[1m./loading.jl:522\u001b[22m\u001b[22m"
     ]
    }
   ],
   "source": [
    "# Função genérica\n",
    "f(x) = x^2 - 3*x - 2"
   ]
  },
  {
   "cell_type": "code",
   "execution_count": 30,
   "metadata": {
    "collapsed": false
   },
   "outputs": [
    {
     "data": {
      "text/latex": [
       "\\begin{bmatrix}\\frac{3}{2} + \\frac{\\sqrt{17}}{2}\\\\- \\frac{\\sqrt{17}}{2} + \\frac{3}{2}\\end{bmatrix}"
      ],
      "text/plain": [
       "2-element Array{SymPy.Sym,1}:\n",
       "  3/2 + sqrt(17)/2\n",
       " -sqrt(17)/2 + 3/2"
      ]
     },
     "execution_count": 30,
     "metadata": {},
     "output_type": "execute_result"
    }
   ],
   "source": [
    "solve(f(x),x)"
   ]
  },
  {
   "cell_type": "markdown",
   "metadata": {},
   "source": [
    "Ou ainda"
   ]
  },
  {
   "cell_type": "code",
   "execution_count": 31,
   "metadata": {
    "collapsed": false,
    "scrolled": false
   },
   "outputs": [
    {
     "data": {
      "text/plain": [
       "2-element Array{Float64,1}:\n",
       "  3.56155 \n",
       " -0.561553"
      ]
     },
     "execution_count": 31,
     "metadata": {},
     "output_type": "execute_result"
    }
   ],
   "source": [
    "resultado = float(solve(f(x), x))"
   ]
  },
  {
   "cell_type": "markdown",
   "metadata": {},
   "source": [
    "O resultado de \"resultado\" é um vetor coluna que apresenta os valores de $X_1$ e $X_2$. Dessa forma, podemos acessar somente o valor de $X_1$ ou de $X_2$\n"
   ]
  },
  {
   "cell_type": "code",
   "execution_count": 32,
   "metadata": {
    "collapsed": false
   },
   "outputs": [
    {
     "name": "stdout",
     "output_type": "stream",
     "text": [
      "resultado[1] = 3.5615528128088303\n",
      "resultado[2] = -0.5615528128088303\n"
     ]
    }
   ],
   "source": [
    "@show (resultado[1])\n",
    "@show (resultado[2]);"
   ]
  },
  {
   "cell_type": "markdown",
   "metadata": {},
   "source": [
    "Ou com o comando print"
   ]
  },
  {
   "cell_type": "code",
   "execution_count": 17,
   "metadata": {
    "collapsed": false,
    "scrolled": false
   },
   "outputs": [
    {
     "ename": "LoadError",
     "evalue": "\u001b[91mUndefVarError: resultado not defined\u001b[39m",
     "output_type": "error",
     "traceback": [
      "\u001b[91mUndefVarError: resultado not defined\u001b[39m",
      "",
      "Stacktrace:",
      " [1] \u001b[1minclude_string\u001b[22m\u001b[22m\u001b[1m(\u001b[22m\u001b[22m::String, ::String\u001b[1m)\u001b[22m\u001b[22m at \u001b[1m./loading.jl:522\u001b[22m\u001b[22m"
     ]
    }
   ],
   "source": [
    "print(\"Resultado de X1: \",(resultado[1]),\". Resultado de X2: \",resultado[2])"
   ]
  },
  {
   "cell_type": "markdown",
   "metadata": {},
   "source": [
    "Em algumas situações, a função `solve()` não consegue calcular simbolicamente as raízes de uma equação mais complexa, sendo então necessário utilizar métodos numéricos adequados para resolve-la. A função `nsolve()` do pacote `SymPy` permite usar métodos de aproximação numérica para encontrar raízes de equações lineares e não lineares a partir de uma solução inicial. É importante observar que a função `nsolve()` não calcula raízes complexas e o resultado encontrado é do tipo `BigFloat`. Sintaxe:\n",
    "\n",
    "```julia\n",
    "nsolve(equação, valor_inicial_variável) \n",
    "```\n",
    "Sendo `valor_inicial_variável`, o valor do valor aproximado da raiz. \n",
    "\n",
    "Ex: Encontrar as raízes da equação $x \\cdot cos(x) + sin(x+1)$ no intervalo $0 \\leqslant x \\leqslant 20$ ."
   ]
  },
  {
   "cell_type": "code",
   "execution_count": 34,
   "metadata": {
    "collapsed": false,
    "scrolled": false
   },
   "outputs": [
    {
     "data": {
      "text/plain": [
       "fnl (generic function with 1 method)"
      ]
     },
     "execution_count": 34,
     "metadata": {},
     "output_type": "execute_result"
    }
   ],
   "source": [
    "# definindo a função genérica \n",
    "fnl(x) =  x*cos(x) + sin(x + 1) "
   ]
  },
  {
   "cell_type": "markdown",
   "metadata": {},
   "source": [
    "**Gráfico**"
   ]
  },
  {
   "cell_type": "code",
   "execution_count": 35,
   "metadata": {
    "collapsed": false,
    "scrolled": false
   },
   "outputs": [
    {
     "data": {
      "text/html": [
       "<img src=\"data:image/png;base64,iVBORw0KGgoAAAANSUhEUgAAAlgAAAGQCAYAAAByNR6YAAAABHNCSVQICAgIfAhkiAAAAAlwSFlzAAAPYQAAD2EBqD+naQAAIABJREFUeJzs3Xl4VNX9+PH3uTPZk0kyAcKSkLCFHcK+qCgqQrUFVOreVqoFay21tYJ+9VeXb7X2cWmttRVta2v9arVVEdcquGKQTXY0IUggQBbIDlln7vn9MSYahSyTO/vn9Tx5eCbMzOfcmzv3fuaccz9Haa01QgghhBDCMkagGyCEEEIIEW4kwRJCCCGEsJjPEyytNbW1tchIpBBCCCEihc8TrLq6OpKTk6mrq/N1qDY1NTV+ixWomOEeLxAxJV7oxwz3eIGIKfFCP2a4xKtq0vx8vZuov7Qw8JkWZr3iIu2pFtQTLcxe3Uhdc3B15NgD3QBfcLvdYR8z3OMFIqbEC/2Y4R4vEDElXujHDId4x1s0Z7zi4sBxuHuywY1jDOLsCq017x7RLHxLc9ZrLl6fayc9Xlke3xsyB0sIIYQQQUtrzY8+dHPgOGxYYOfWXBtxdk8SpZTi7AEGr55Zz5ETcNorLo41BkdPliRYQgghhAhaj+w2+dc+zd9m2RiVevLeqTEpJnnz7VQ0wooN/u+VPJmADxE2Nzdz4MABS7sUq6urSUlJsez9gi2mzWYjKSnJL7GEEEKIQMkrM7npY5NfjDX47uCO+4QGORS/mWLw449Mfjjc5LS+ge1DCmiCdejQIa644grq6+stfV/TNDEM/+5Yf8eMjo7m3//+NwMGDPBbTCGEEMJftNb8LM9kYi/FfVO7dn390QiDvxVofvyRm08uVNiNwM3HCliCZZomd999NykpKfzhD38gNjbWsvd2uVzY7f7dNH/GbGxs5LbbbuOuu+7iscce83syKYQQQvjaqwc1m49p1p5vI6qLiZLNUPz5NBtTX3bxyG6Tn4+1+biVpxawBOvYsWN88skn3HPPPeTm5lr63uGeYAH85Cc/4Ve/+hUVFRX07t3bb3GFEEIIX9Nac8cWN2f2U8zu371eqEm9FdePNPjVFpPFOQYpMYHpxQpY10d1dTUAGRkZgWpCSGsdGqyqqgpwS4QQQghrvXxAs7UC7ppkoFT3E6T/mWDQ6IK/F5g+aF3XBCzBMk3PRttsgeu+C2Wt+611PwohhBDhwNSaO7e4md1PcWY/79KUfvGK7w5WPLrHxAzQSjIyeecrsrOzGT58OLm5ueTm5nLttdf6JM4999zD1KlTufjii3nsscd8EkMIIYQIRa8e1Gyv9PRe9cQNow0Ka+GtQ4FJsAJepiHYPPfcc5bPCfu62267jdtuu82nMYQQQohQ9MRnJlN6K87wsveq1Yw+iglp8MfdJvMy/d+fJD1Ynbj66qv5/e9/3/b4l7/8JXfeeScAd955J5deeinf+c53GDduHGeffTaVlZVtz/3tb3/L2LFjGT9+PNOnT6e+vp7S0lJmz57NpEmTGD16NDfccEPbMJ/b7ebmm29mzJgxjBkzhp/+9Kc0Nzf7dXuFEEKIQCmt17xRrFmc0/OJ6Uopbhht4/Vizb5a//diBU0PVr1L81m1Ne/lcmns9vY7c0QKxNs7/4NdeumlxMXFAXDHHXd0+vwNGzawZcsWkpOTueqqq1i5ciW33nor//jHP3jhhRdYt24dycnJVFdXExMTQ0pKCq+88gqJiYm43W4WLFjA888/z2WXXcbjjz/Opk2b2LJlCzabjfnz5/O73/2OFStWeLcjhBBCiBDydKGJ3YDLhljT/3P5EMXNG+BPe0wenO7fOd8dJljLli1j9erVHDhwgK1bt7YNnW3cuJFly5bR1NREY2MjixcvZvny5T1qyGfVMOklV4/eo73277XlQjsTe3X+qq8PEb788ssdPn/evHmkpaXhcrmYMWMGO3fuBODVV1/luuuuIzk5GaCtyntTUxMrVqxg3bp1aK0pLy9nzJgxXHbZZaxZs4arr76amJgYAH70ox/x6KOPSoIlhBAi7Gmt+XuBycIsRapFpRXi7IrFOQb/2Gvy26mGXwuPdphgLVq0iOXLl3P66ae3+/2SJUu4++67mT9/PpWVlYwYMYJvf/vbjBo1yuuGjEjxJEFWOFlNqhFermJjt9vbLePT2NhIYmJi2+OvFki12Wy4XB0niQ899BDl5eVs2LCB2NhYfvGLX9DY2HjS53pza6oQQggRijYf0+yuggenWTt76dIhigd3woeluts1tXqiw4xm1qxZJ/29UqqtjtWJEyeIjo7G6XT2qCHxdtWlHqaucLkU9i4MB3bF0KFD2bhxIwAVFRW8/vrrfP/73+/0dfPnz+eRRx7h4osvbhsiTEpKoqqqir59+xIbG0tpaSn//ve/ufjiiwE499xzeeqpp7jiiiswDIO//OUvnHfeeZZshxBCCBHMnszXDEiAcwdYmwRN7qUYmAj/2a+Z3d/St+6QV11GTz75JAsWLOD222/n6NGjrFy5kr59+3b4mtra2naPQ2Xy9pIlS1i0aBEjR45k8ODBTJ8+vUuv+973vseRI0eYOXMmFRUVDBo0iLVr1/Kzn/2MRYsWMXr0aPr378+5557bLta+ffuYOHEiAGeddRY33nijT7ZLCCGECBaNLs2z+0x+PMrAZvEwnlKKi7MNnt1n8shMA8NPo0NK684rcGVnZ7Nq1aq2uUmXXXYZ8+fP54orruDzzz/nzDPP5L///e9Jhwhra2vb5iF91TXXXMMnn3zCU089xYgRIyzYlC8F21I5S5cu5e677yY9Pd2yeLt372bx4sX86U9/Iicnx7L3PZWqqipSU1N9HieQMSVe6McM93iBiCnxQj9mKMR744iNq9bHs37OCXIc3S+g3VnMDcdsnP9+PK+dWc/0Xu5TPq+rujJq1+0s5NixY7z00kv861//Amjr1fnoo486nINVXFyMw+Foe1xUVMQPf/hD7Ha7T5IhfydYp4o5ceJEampqME3T0jbZbDYMwyAlJaXHw7Nd5a84gYwp8UI/ZrjHC0RMiRf6MYM93ru7XAxP1kzP9nLCdCcx56Zq+m1y8XZFIufn+Oduwm7PJEtNTSUhIYF33nkH8CRcGzZsYMyYMR2+zuFwtPuJjo72rsUh5pNPPmHfvn1kZmYGuilCCCFE0DG15pWDmvlZvivNaSjFRdkGL+w36cLAnTUxO/rPpUuXkpGRwaFDh5g7dy5Dhw7FZrPx/PPPc/PNNzN+/HhmzZrFjTfeyIwZM/zSYCGEEEKEj43lmvIGmJ/l27lRFw9SFJ+ATUf9k2B1OGa1cuXKk/7+3HPPZcuWLT5pkBBCCCEix+qDmrQYz9I2vnRGX0XvWHhhv2ZqH5+GAmSpHCGEEEIE0CsHTL49UFl+9+DX2Q3FBQMVbxzq/iR6b0iCJYQQQoiA+LxWs6sKn86/+qo5Awx2VnrWPPS1oFmLMBisXr2aX/3qV+1+d/ToUSoqKk5ZbV0IIYQQ3nnloEm0Aedl+Kc21TlfVHJ/54jmiqE+7jHz6buHmPnz5zN//vy2x9XV1UyZMoW77767y+9hmp6uR8OQzkEhhBCiI6sPaM7ur0iM8k+ClR6vGOuENYdNrhjq2+u0ZAGnYJomV155Jeeccw7XXHMNAA888ABTp05l4sSJzJs3jwMHDgBw5513cskllzB37lzGjBlDSUkJmzdvZubMmYwbN46pU6fy0UcfBXJzhBBCiKBS26z5oETzHR/fPfh15/Y3WHNY+7xcg/RgncIdd9xBZWUlL730EgDPPPMM+fn5rF+/HpvNxj//+U+uv/56XnvtNQA+/vhjtm7dSnp6Os3NzcyYMYMnnniCuXPnsm7dOi6++GIKCwvbLRQthBBCRKoPSjQuDecN8G9fz7kDFL/bBXtrIMf7uqadCpoEy2xuxFVWbMl7ud1uTFv7Sq329EyM6Nguvf7ll1/mr3/9K5s3b24riLpq1So2bdrEpEmT2mJ81bx589qWwsnPz8cwDObOnQvA6aefTnp6Otu2beP000/v0bYJIYQQ4eDdEk1mAgxxdP5cK83qp7ArWHPEJCfFd1XdgybBcpUVU/7gT332/n1ueoTozGGdPi8/P59rrrmGVatW0b//l8tua6259dZbWbJkyUlf11nPlPLT4pJCCCFEKHjniMnZ/ZXfr4+JUYoZ6Yo1hzXXn3qFvx4LmgTLnp5Jn5seseS93G43tpP0YHWmrq6OCy+8kLvuuusbPU0LFy7kwQcfZNGiRTidTlpaWti1axcTJkz4xvsMHz4c0zR5++23mTNnDnl5eZSWlrYtli2EEEJEsopGzbYK+PmYwEwFnzNA8eBOE7epfVZ/K2gSLCM6tks9TF3hcrm8Wlj50UcfJT8/nyeeeIInnnii3f+9/vrrVFRUMHv27LYYP/zhD0+aYEVHR/Piiy+ybNkybrrpJmJjY/nPf/4j86+EEEII4L0SzwTz2f0DM7pz7gDFr7bAlmOaqT6qIB80CVYwuOWWW7jllltO+f/Lli1j2bJl3/j9nXfeicvlave7yZMnk5eXZ3kbhRBCiFD3zhHNUAdkJgYmwZrSW5EUBWsO+27ZHCnTIIQQQgi/eveIydn9A5eC2A3FzHRFXpnvSjV0uHXLli0jOzsbpRTbtm1r+73WmjvvvJOcnBzGjh3bNmwmhBBCCNGRknrNp9VwdoCGB1vNTFesL9eYPqqH1WGCtWjRItatW0dWVla73//hD39gx44d7Nq1i507d/Lss8/6pHFCCCGECC/vHvEkNGf1C3yCVdkEBTW+ef8O52DNmjXrpL+///77eeedd9pqRPXt29f6lgkhhBAi7LxzxGRMqmfZmkCa2lthKMgr04xIsb4t3R4Ara2tpaysjJdffplp06Yxbdo0nnvuuS697qs/rZPCW1paut9q0bbfZM1DIYQQoeS9Es3sAM6/auWIVoxNhbwy0yfv3+27CF0uFy6Xi4aGBjZs2EBRUREzZ85kxIgRjB8//pSvy8xsX4fqxhtvxGazsXLlSq655hqioqK63/pTOFkdLF/zZ8yWlhaeeOIJbDYbsbGxVFZW+jxmVVWVz2MEOqbEC/2Y4R4vEDElXujHDKZ45Y2KfbWJ5CaeoLLSdcrnWRmzIxNTYvjgiI3Kytpuvc7pdHb6nG4nWE6nk8TERK666ioAsrOzOe2009i0aVOHCVZxcTEOx5f18GNiYti6dSu/+MUv+Pjjj7vbjA6Zpun3nh1/x7TZbDz88MMMHDjQbzG7ckCFekyJF/oxwz1eIGJKvNCPGSzxPigyATfnDU7CaXGJBm+28eyBJk9+7kbHp5IWa217vKqDdfnll/Pmm29y/fXXU1lZycaNG7n55ps7fI3D4WiXYAFMnz6dt956iyNHjmCa1nXRVVdXk5LiwxUcAxzTMAxiY2P9mlwJIYQQPZVX5ll/MCNA9a++bma6px0fl2suGOjHBGvp0qW89tprlJaWMnfuXJKSkigsLOQ3v/kNixcv5k9/+hMAK1asYOrUqV41IDExkZycHK9eeyqVlZV+z9b9HdMfw4JCCCGElfLKNDPSgyO5AhiUBOlxnnZdYHGfRYcJ1sqVK0/6+7S0NFavXm1tS4QQQggRtprdms3HNN8dHPgJ7q2U8l3B0eDZSiGEEEKEra0Vmib3l8NywWJmumLjUU2LaW2SJQmWEEIIIXwur0wTa4PxzuBLsOpdsL1CEiwhhBBChJi8Ms2U3opoW3AlWBPTFHYFG49KgiWEEEKIEKK1Jq9MB93wIECsXTHGCVskwRJCCCFEKCk+AUfqYUaf4EuwACb1Umw5JgmWEEIIIUJI6116wVSi4asm9VLsroJGl3VJliRYQgghhPCpvDLNUAf0iQveBMulYWeVJFhCCCGECBEbj2qmBenwIMA4p8KmrJ2HJQmWEEIIIXymxdRsq/DcQRisYu2K0alYOg9LEiwhhBBC+MzuKmhyw+RewZtggfUT3SXBEkIIIYTPbD6qMRTkpgV/grWrCprc1iRZkmAJIYQQwmc2H9WMTIGEqOBPsFpM2FnphwRr2bJlZGdno5Ri27Zt3/j/d955B5vNxu9//3tLGiOEEEKI8LLlmA764UGA8WlfTHS3aJiwwwRr0aJFrFu3jqysrG/8X01NDbfccgvnn3++JQ0RQgghRHhpcmu2V2omB/EE91ZxdsUoCye6d5hgzZo1i4yMjJP+3w033MDtt99OWlqaJQ0RQgghRHjZVQktZvBPcG9l5UR3r+Zg/ec//8EwDObPn9/l19TW1rb7aWpq8ia0EEIIIULE5mMmNuUZfgsFk3opdlZaM9Hd3t0XlJaW8utf/5r33nuvW6/LzMxs93j58uWsWLGiu+G7pKqqyifvG0wxwz1eIGJKvNCPGe7xAhFT4oV+zEDG++hQDCMdNhpq62jwU8yeGBpt0GImkFdUw/hU85TPczqdnb5XtxOsLVu2UFJSQm5uLgDHjh1j9erVHD16lHvuueeUrysuLsbhcLQ9jomJISYmprvhu6wrGx/qMcM9XiBiSrzQjxnu8QIRU+KFfsxAxdtV18K0vsov8a2IcVqiBlwcdDuY7exZoYVuJ1gXXHABZWVlbY+vvvpqcnNzufHGGzt8ncPhaJdgCSGEECJ8Nbo0OyvhRyNCY3gQIClaMSjJmlINHaZnS5cuJSMjg0OHDjF37lyGDh3a44BCCCGECH87KjUuTUjcQfhV45yKHRYkWB32YK1cubLTN/j73//e40YIIYTwj4PHNbsqNfk1mqom+PZAxZTeCqVC6yIogt/mY5oow5OwhJJxTsXjn516/lVXdXuIUAghROipbdas2Gjy2KeeC0ecDeLs8L9bYZgDlo40+PlYA0MSLWGRT45pRqdCjC20jqlxTkVZA5TVa9LjvW+7JFhCCBHm3ig2WfKhm+pmeHiGwYXZBgMSQGt4t0Tzz70mN28w2VCueeosG7H20LogiuC0vSL41x88mdYet51VPUuwZC1CIYQIY6uKTC54082YVMXuRXaWjbGRmagwlMJmKM4dYPCPs+y8cK6NVw9qznndzbFGawotisjlMjU7q3RIJlhDHJ4e3p5OdJcESwghwtT6MpPL33GzaJDitXk2Biae+mJ34SCDd79tY2+NZs7rLhpdkmQJ7xXUQJMbxofY/CsAm6EYndrzie6SYAkhRBgqqNZ8579upvRWPHWWrUtzq6b1MXjrfDt7quCWTT2f5Csi17YKT3ISKhXcv26cE0mwhBBCtNfk1ix820WfOFg1p3tzqnLTFPdPM3h4l8mrByTJEt7ZXqEZmAipMSGaYKUpdld5hjq9JQmWEEKEmd9uN9lbA8+fY8cZ2/0L3E9HG1yQqVj8gZuShtC8QIrA2lYRmvOvWo1NVTS5obDW+/eQBEsIIcJIQbXmnq0mN483GOPl/BelFE+eaSPKgP/Z7rslzUT42l6pQ3L+VauxX7R9R4X0YAkhRMTTWnPdOjcZCfD/JvTs9N47TnHvFBurD0ex6agMFYquK2v01JEK5R6s3nGKfvE9m4clCZYQQoSJf+7VvFui+fPpNuIsqGX1vaGK4Ulubt0oCZbout3VntQiVCe4t+rpkjmSYAkhRBhodmv+3xZPSYbzMqw5tdsMxe1jmll7RPP2IUmyRNfsrLGRFAWDkgLdkp6RBEsIIQRP7dUcPA53TLRZ+r7f6udiRh/FrZtMTC21sUTndtcYjHOqkF92aUyq4sBxqGv27rjvMMFatmwZ2dnZKKXYtm1b2+8XL15MTk4O48eP57TTTmPTpk1eBRdCCNFzLabm3m1uLh6kvJ7YfipKwX1TDbYc06wqkgRLdG5ntRHS869ajUr1/PtZjQ8SrEWLFrFu3TqysrLa/f7CCy9kz549bN++nVtvvZXvfve7XgUXQgjRc88UavbXwe0TrO29ajWrn8GsvoqHd8kwoehYg0tTWGeE/PwrgBEpnm3YU+Xd6ztMsGbNmkVGRsY3fj9//nzsds860dOnT+fw4cO4XC7vWiCEEMJr7i96r+ZnKZ/2Gtww2uCDUt2j29ZF+NtVpTFR5KYFuiU9lxilyEqEPVU+6MHqiocffpjzzz+/LeE6ldra2nY/TU1NPQ0thBAR79/7NQU1PS/L0JmF2Yr+8fDoHunFEqe2vQIMNKNTQ78HC2BUqmJPtXcJVsdZUSeefvppnn/+eT744INOn5uZmdnu8fLly1mxYkVPwp9SVZWX/XkhFDPc4wUipsQL/ZjhHu9kMX+/PY7Te8NgWx2Vlb6N94PsaB7Oj2bFsBpSoq2P9fV4/hAMf8Nwire5JIaseEVj7XEa/RbVd9s4ODaG147YqaxsX9Ld6XR2+lqvE6znnnuOu+66i7Vr15Kent7p84uLi3E4HG2PY2JiiInxXYXgrmx8qMcM93iBiCnxQj9muMf7asydlZoNFS6eP8eG0xnn83jLJmge+MzFy0eT+flY38z3+mo8f5HPhXUK612MTmkOm306sZ/Jn/a6iXOkdru2nFd9ys8//zy33347a9asYeDAgV16jcPhaPfjy+RKCCEiwcpPTdLjYEGWf4Zj+sYrvjtI8egeKdkgTm5nlWZkcvgMI49KAQ3k13T/tR0mWEuXLiUjI4NDhw4xd+5chg4dCsCVV15JY2MjCxYsIDc3l9zcXCoqKrxpuxBCCC8cb9E8tdfk2uEG0Tb/zXe5YbTBvlpYe1gSLNFeeYOmvAFGOcInwRqZ2nonYfeP9w6HCFeuXHnS37e0tHQ7kBBCCOs8u09zvAV+NMK/9aKn91EMc8Az+0zmWFQxXoSH3V8kISPCKMFKjvbc3OFNgiWfDiGECDFaa/68x835mYqsJP/eraWU4oqhBi/s1zS4pBdLfGlXpSbGBoMTwyfBAu/vJJQESwghQsyWY5qtFfDjUYE5hV8+xKCuBV4vlgRLfGlnlWZkCtjDLLMYlaKkB0sIISLB04WavnEwLyMwtYaGpygm9VL8X2F49VSIntlV6Vm/L9yMSoXCWs+C6t0hCZYQQoQQlwn/2mdy2RADmxG4i9mVQxWvHdRUN0kvlvAMW++q0uGZYKUo3Br2dvNOQkmwhBAihHx41EZZA1wxNLAXsksHG7SY8KIsAC2Ag8ehrgXGWrzYeDAY1XonYTfnYUmCJYQQIeSF4iiGOmByr8BeyPonKGb3Vzwjw4QCzxqEAGPCMMFKi1X0iev+nYSSYAkhRIhocGleOWznyqEGSgX+Qnb5EIN3jmjK6qUXK9LtqtQ4oiAzIdAt8Y1RKd2/k1ASLCGECBGvF2uOuxSXDwmOU3drBfnX5G7CiLezSjPGqYIi8feFkV7cSRgcn1IhhBCd+r9Ck/EpboanBMdFrHecYma6YvUBGSaMdLsqw3OCe6vhKbC3Ftxm15MsSbCEECIE1DRrXjuoWZQZXCtpzM9SvHVIio5GMpep+bQaxvp/fWe/GZ6saHJ7JvN3lSRYQggRAl47qGk2YUGGK9BNaWd+lkGDG945IglWpCqshWYTRodzD1ayZ9vya6QHSwghwsqqIpPJvRQD4oMrkRmeDEMdsPpAcLVL+E/r3KRwHiIcmAgxNgsTrGXLlpGdnY1Sim3btrX9vry8nHnz5jFs2DDGjBnDBx984H2rhRBCdKjRpXnjkGZhdvBdwJRSzM8yeOWgiaklyYpEe6o0vWI9c/LClc3wLHKeX93113SYYC1atIh169aRlZXV7ve33HIL06dPZ+/evTz55JNcccUVtLQE17wAIYQIF2uPaI63wMKs4Bx0mJ+lKKn3rJEoIs+eas2oILnxwpeGpyjrerBmzZpFRkbGN37//PPPc9111wEwZcoU+vfvz/vvv9/NpgohhOiKVUUmwxyeNdGC0WnpitQYGSaMVHuqdFu183A2PNnCBOtkKioqaGlpoW/fvm2/y87O5uDBgx2+rra2tt1PU1NTd0MLIUTEcZua1Qc1C7ODo7joydgNxQWZUq4hErlNzWc1MDIl0C3xveHJisMn4HhL15Isu4/b0yYzM7Pd4+XLl7NixQqfxKqqqvLJ+wZTzHCPF4iYEi/0Y4ZjvI+P2ShviOdsZx2VlWbQbuMZqXaeLoxjz+Eq+sZ535MVrNsXyjF9Ge/z44omdyIZtuNUVrp9Hu9U/BGzr2EACWwuruGswZ1nlN1OsNLS0rDb7ZSWlrb1YhUVFTFw4MAOX1dcXIzD4Wh7HBMTQ0xMTHfDd5nT6f+CHP6OGe7xAhFT4oV+zHCL906Bm/Q4k/OGJmN80YMVjNu4ME6zdJOLLfXJfG9Az+aKBeP2hXpMX8VbV2cCbqYPdOBM+LKHNRz36dQEDbgo1Y5Onwtelmn47ne/y2OPPQbApk2bOHz4MGeeeWaHr3E4HO1+fJlcCSFEONBas+qAyYIsoy25ClZ94hTjnbDmsAwTRpI9VZrkaOgXH+iW+F5KjGfR5/wurknYYYK1dOlSMjIyOHToEHPnzmXo0KEA/Pa3vyUvL49hw4Zx9dVX8/TTTxMVFdXz1gshhGhTUAP7auE7A4M7uWo1J8Pg7cMaLeUaIsaeKs8dhME6P9Bq3Zno3uEQ4cqVK0/6+/T0dN56663ut0wIIUSXvVFsEm3A7P6hcfGaM0DxwA7YUwWjw3jZFPGlPdWQmxboVvjP8GT4pMKCHiwhhBCB80ax5sx+ioSo0EiwzuiriLHB2zJMGBFMrfk0QmpgtRqeorpcbFQSLCGECEL1Ls37pZpvZYbOxSvOrjg9XfH2YRkijAQHj0O9i4iogdUqJ1lxoovLgUqCJYQQQejdI5omN5yfGVqn6TkDFO+XaJrdkmSFu9Y1CCMpwWpd9LkrQuuTK4QQEeL1Ys2gJMhJDnRLumdOhsEJF6wvlwQr3O2p1iRGQWZCoFviP4MdYO9ijiUJlhBCBBmtNW8Um3wrM3irt59Kbhr0ioW3D0mCFe72VGlGRtAdhABRhmJw18pgSYIlhBDBpqAG9tfBtzJC78JlKMU5/RVrj0iCFe72VMOoCFgi5+tuy7V16XmSYAkhRJAJtfIMX3dmP8Xmo5oTXVyzTYQerXXELPL8dd/P6VrqJAmWEEIEmTcPhVZ5hq+b1dfApWVxeDjHAAAgAElEQVQeVjgrqYe6FhgRQSUauksSLCGECCKNLs0HJZq5ITg82GpUqmce1gclkmCFq9Zq5t25qy7SSIIlhBBBZH25psEN5/ZwweRAUkpxRl9PuQYRngpqNDZFlyd8R6LQ/QQLIUQYWnNY0zsWxob4UjNn9lNsOKppdEmSFY7yq2FwkueuOnFyPUqwXn/9dSZOnEhubi5jxozhH//4h1XtEkKIiLTmsOacAQojxG99n9XXoMkNG49KghWO8ms0w2X+VYe8TrC01lx11VX8/e9/Z9u2bbz66qssXbqUuro6K9snhBARo6pJs/mY5tz+oT+4MM4JydEyDytc5ddomX/ViR59ipVSVFd7Vj2sra0lLS2NmJgYSxomhBCR5r0jGlPDuQNC/8JlMzzrEr5fKglWuGl2a/bXedblE6dm9/aFSimee+45LrroIhISEqiqquLFF18kOjr6pM+vra1t9zgmJkaSMSGE+Io1RzRDHZCVFB4Xrln9FHd9YtJiapmrE0b21YKpYXgEFhntDq8TLJfLxa9//WtefPFFZs2axaZNm5g/fz47d+6kV69e33h+ZmZmu8fLly9nxYoV3obvUFVVlU/eN5hihnu8QMSUeKEfM9TjvXUwntN7u6msPPVUi1DaxtwEg3pXAu/sq2FKmunzeN6Qz0X3bT5sB+Loo2uorPxmD2Uk7FOns/O7ULxOsLZt28aRI0eYNWsWAFOmTCEjI4OtW7cyZ86cbzy/uLgYh+PL+zl93YPVlY0P9ZjhHi8QMSVe6McM1XjFxzWFx13cNz0ap7Pj1XNDZRtnp2jiP3Sx7UQSc4d1bXmRnsTzlnwuuqek2E1SlMmIfimnXIcwEvZpZ7yeg5WZmUlJSQmffvopAIWFhezbt4/hw4ef9PkOh6PdjwwPCiHEl9Ye0Shgdr/wGUqLMhTT+yjypKJ7WMmv9kxwj6RFnr3hdQ9Weno6jz/+OJdccgmGYWCaJn/84x8ZOHCgle0TQoiIsPawycReCmdseF20ZqYrVn5qorWWC3KYyK+R+Vdd4XWCBXD55Zdz+eWXW9UWIYSISFpr3ivRXDYk9MszfN2MPopfb/VMjB6aHOjWCCsU1GjOywi/Y9VqsoeEECLAPq+DQyfgrDAaHmw1vY9nm2Th5/BQ1aQ52ihrEHaFJFhCCBFg7x3RGApO7xt+Fy1nrGJECuSVSYIVDvKrv1jkWaq4d6pHQ4RCRJoWU/PqAc0HpZriE5pDJyDOBqNTFWNS4YKBBpmJcuIR3fNuicnENEVydHgeOzP7KNaXmUDX7yQUwamgxvPvMFnkuVPSgyVEF5TWa1ZscJPxjIuL1rh55aBJTTOMSoE+cfDuEZMb8kwG/8vFD95zsesktWGEOJnW+Vez+4dncgUwI91gZxXUNcvnItTl12gyEiAhKnyPV6tID5YQHdBa88+9mhs/dqM1fH+YwTXDDcalffPkUtes+Uu+yUM7TZ7a6+LGMQa/nWoQbZMTkTi1fbVwOEznX7Wama4wtWfh53PCYBmgSCZrEHad9GAJcQrHGjUX/NfND953c36mYu+ldh6eaTtpcgWQFK34+Vgbn19m58FpBo/uMZn1qpsDdfKtXZzaeyXhO/+q1YgUSImG9TIPK+QV1GhZg7CLJMES4iSK6jSnrXax+ajm1bk2np5tp1cX6xNFGYpfjLOx7js2Sus1E15ysflo15YJEZHnvRKTSb0UjjCdfwVgKCk4Gg5MrdkrNbC6TBIsIb5mR4Vm5moXLhPWL7BzwUDvPiZT+xhsvcjO8GTF3Dfc7JR5WeJrWudfhfPwYKsZ6YqPyzWmls9BqDp4HBrdUqKhqyTBEuIrdlZqznzVRd84yJtvZ4ijZyeS1BjFG/NsZCXCua+72m5xFgIiY/5Vq5npiqomyK8OdEuEtwpqPOcvGSLsGkmwhPjC4XrF+W+6yEqEd79tJz3empNISozirfPt9IrxJFlHGyTJEh6RMP+q1dTeCoUUHA1l+dWaGBtkJQa6JaFBEiwhgNpmzeV5cSjg9Xl2y+sR9Yr1JFlNbvjee24ZJhEAfFBiMiEtvOdftXJEK0alwqajcuyHqvwaGOoAmxH+x6sVJMESEc9tai5Z66a43uCNeXb6J/jm5DEgQfH0bBtvHdLct00mvQv4sFRzRgT0XrWa2luxUW74CFlSoqF7epRgNTU1ccMNNzBs2DDGjh3LVVddZVW7hPCb32wzeeuQ5m/TGhjt9O3J47wMg9smGPy/LSZ5R6WqdSQrPq4pOk7EJVg7KqDRJb1YoUhKNHRPjwqN3nLLLSilKCgoQClFaWmpVe0Swi8+LDG54xOT2yYYzE53+yXmnRMN1pVqrtsUy2eDNYlSETkifVjqSTIiKcGa0tvApU22VWimp0fOdoeDepfm4HFZg7A7vO7BOnHiBH/961+55557UMqzw/v27WtZw4TwtYpGzRXvujktXXHHRP+NltsMxZNn2qhsVtyxRYZLItWHpZoRKdA7LnIuWGOdEGPzVHQXoWXvF2sQDk8ObDtCiddXlX379uF0Orn33nuZPHkyZ5xxBmvXrj3l82tra9v9NDU1eRtaiB7TWrPkQzf1Lnhmtg27nydtZicpbh7ZzMO7PN/mReT5sNSMqN4rgGibYkKakgQrBEmJhu7zeojQ5XJx4MABRo0axX333cfWrVuZM2cOu3fvJj09/RvPz8zMbPd4+fLlrFixwtvwHaqqqvLJ+wZTzHCP5+uYqw/ZebEojr9NayC+2UVlpf+38fJeVfw7aQDXvOvmzdn1+HrJwnD7G4ZyvMom2F2VxE+G1FNZ6fJLTG9ZHW9sUgzvlNqprKz1S7zOyOeia7aWROOMjkLVV1FZ7/t43eXvmE6ns9PneJ1gDRw4EMMwuPLKKwGYMGECgwYNYufOnSdNsIqLi3E4HG2PY2JiiImJ8TZ8p7qy8aEeM9zj+SpmZaPmlh0uFmYprh6b1DbE7at4HfnLWdGcttrNv8uSuX6U7ye9h8vfMNTjfVhkAm7OH5qEM6n7mXUobOOpzMo0eWKfG5WQSmrMybc9lLcvWGP2NF5xs4sRqV1/n0jYp53xeoiwV69enHPOOfz3v/8FYP/+/ezfv5+RI0ee9PkOh6Pdjy+TKyE68ssNbhrd8OhptnbJVSDMTDdYnOOZi1XXLMMmkeLDUk1mAmR5kVyFuqm9Pdu8WYYJQ0pBDeTI/Ktu6dHM3scee4z777+fsWPHsnDhQlauXMmAAQOsapsQlltz2OTJAs0D02w+q3fVXXdNslHXAg/ulAnvkSLS6l991dBkSImWie6hRGstNbC80KMyDYMHD+bdd9+1qi1C+FSzW3PDR25m9VVcMzx4ThSZiYqfjjZ4cKfJ9aMM+kTQXWWR6HiL5pNjmsU5kVnn2VCKyb1lonsoKW+AmmZZ5Lm7IvMTLiLSo3tM9tbCIzMDPzT4dbeMNzCAe6XCe9jbUK5xaTijb+Sefqf2Vmws12hZMiokyB2E3oncT7iIKOUNmju3mCwdYTAuLfhOEmmxiuXjDf68x6SoTi464SyvTJMaAyNTA92SwJnaW1HaAIdOBLoloivya8BQnuFd0XWSYImIcNsmNzYD/ndy8B7yN44xSI2Be7f5p6K8CIy8Ms2MPgojyHpR/WnyFxPdtxyTLxOhIL9Gk50IMb6uJRNmgvdqI4RFth7T/DVfc9dEg7TY4D1BJEQpfj7G4B8FmpJ6ufCEI1Nr1pdrZkb4MjH94yE9ThKsUCFrEHpHEiwR9lZsdDM8BX48KvgP9+tGGcTa4PdyR2FY+rTKM1k40hMspRSTeilJsEJEfrWWNQi9EPxXHCF6YO1hk7cPa+6d7P/lcLyRHK24fpTBnz81qW6Si0+4ySvX2BRM6R38x6KvtSZYMtE9uLWYmn21sgahNyTBEmFLa80tG02m9VEszA6dC9rPxhg0m/DnT6UXK9x8VGoyPg0So0LnePSVSb0U5Q1wWCa6B7WiOnBpuYPQG5JgibD1wn7N5mOa+6YYQVeWoSN94xWLcwx+v8ukwSXf7sNJXplmZh857YInwQKZhxXs8qs9fx+pgdV98kkXYcllam7b7GZehuKs/qF3mP9ynMGxRni6UC4+4eJog2Zvrcy/ajUgAfrIRPegl1+jSbB7/l6ie0LvyiNEF/xzr6agBu6d4vsFlH1hiEPxnYGKP+52yxyVMLG+3PN3lATLQya6h4bWNQhDaRQgWEiCJcJOi6n59VY3F2UrJvQK3ZPCDaMNdlTCulK5AIWDvDJN/3gYmBjolgSPiWky0T3Y5UuJBq9JgiXCztN7NZ/XwR0TQ7P3qtU5/RXDk+GPe2SyezjIK/PUv5KegC9N6qUoa4Aj9YFuiTgVKdHgPUsSrCeffBKlFKtWrbLi7YTwWmvv1cWDVFAuidMdSiluGG3w4n7N4RPyDT+UNbs1m45KgdGvmyQV3YNabbOmtEEmuHurxwlWUVERTzzxBNOnT7eiPUL0SGvv1a8mhHbvVavvDzOItcPjn0kvVijbVqFpdMv8q6/LTIBesfCJJFhB6ctFngPckBDVowTLNE2uvfZaHnnkEWJiYqxqkxBecYVR71UrR7TiB8MMVn5q0uyWi1CoyivTxNpgQpgcl1aRie7BLb/G86/MwfJOjxKshx56iNNOO41JkyZ1+tza2tp2P01NTT0JLcQ3/Ge/p/fq9jDpvWp1/SiDsgZYfUAuQqEqr0wzpbciWhbL/QZJsIJXfrWmX7zni57oPru3L9y1axcvvPACH3zwQZeen5mZ2e7x8uXLWbFihbfhO1RVVeWT9w2mmOEer7sxtYb7PonnrD6agaqOykrfxrNCV+P1BSY743lsl4uzUxp8Hs9KwbpP/RlPa/iwJIFLBrZQWdnsl5hW8nW8nFg7JfVx7DlcRd84HXbbFwwxvY2362gsg+MVlZV1fonXE/6O6XQ6O32O1wnWhx9+SFFREcOGDQOgtLSUJUuWUFJSwo9//ONvPL+4uBiHw9H2OCYmxqfDil3Z+FCPGe7xuhPz3SMm26vdvPUtG05nnM/jWaWr8ZaONlnyoZsT0alkJnr/bTKY/4bhGu/gcU1po4tzsuNxOq2p0RBs29gTZ9g1fOzioJnMKKfh83gnI5+Lk9vf0MLU3oZX59RI2Ked8XqI8Mc//jElJSUUFRVRVFTE9OnTefzxx0+aXAE4HI52PzJnS1jp/h0m451w7oDw7Mq+dLAi3g5/L5DJ7qEmr8wz/DWjT3gemz2VnQSOKM+NACJ4mNpTrFkWefae1MESIW9XpeaNYs0vx9nCtsZQUrTiksGKv+WbmFKUMaR8VKoZ5oDeceF5bPaUoRTj05QkWEHmyAmod8kE957weojw69577z2r3kqIbnlwp5uMBLh0SHifCK4ZbvBkgZt3j2jOCdOeunCUV25KeYZO5KYp3jokvbPBJP+LEg1SZNR70oMlQtrhE5r/K9TcOMYgygjvE8HMdE9l97/my4UoVBxv0WyvgJnpcqrtSG6aoqAGTrRIL1awyK/R2BUMSgp0S0KXfOpFSHtkt0mcDX40IvwPZaUU1ww3eLFIU9MsF6JQsOmoxq2lwGhnctMUGthZKcd1sCiogSEOsIf5F1dfCv+rkghbdc2axz41WTrSiJg6LVcMNWh2wwv75UIUCvLKNI4oGJUa6JYEt1EpYFcy0T2YyBqEPScJlghZT3xmUu+Cn42JnMN4QILi7P6Kp/fKMGEoyCvTzEhXGGF684VVYu2KkamwrSLQLRGt8mu0rEHYQ5FzZRJhpcXU/H6XyRVDFAMSIuskcNUwg/dKNMXH5dt+MDO1Zn25LPDcVblOxTYZIgwKTW5NUZ3cQdhTkmCJkPT855riE3DTuPBaFqcrLspWxNjgmULpxQpm+dVQ1STzr7oqN02xo8IzZ00EVmENaKQGVk9JgiVCjtaaB3a4mZehGOuMvIuXI1qxIEvxz0ITLTWxglZemcZQMLV35B2j3shNUzS4YV+dXJYCTUo0WEOOZBFy1h7RbKuAX46L3MP3e8MMdlfBDi/WXBT+kVdmMjZVFsrtqvFpnv20qyZyP9fBoqBGkxINvWMD3ZLQJkeyCDn3bzeZkAZn94/cC9d5GYpesfC0DBMGrbxyLfWvuiEtVpGZADurZZ8FWn6NJidZhe3KGP4iR7IIKTsqNG8d1twcxsvidEWUobh0sMGz+2TpnGBU0aj5rBpO6xu5x6g3ctMUu2oib15lsMmvlvlXVpAES4SUB3a4GZgIiwbLhevSwYrDJ75cTFgEj/Vf/E1mygLP3ZKbptglPVgBV1AjNbCsIEeyCBnFxzXP7tP8PAKWxemK0/oqBiR47qgUwSWvXNM3DrJlmZFuyU1TlDcZlNbLMR0oFY2aiiYp0WAFrxOsxsZGFi5cSE5ODuPHj2fOnDkUFhZa2TYh2vnDbpPEKM+ixwIMpfjuIIN/f27iNuWCFEzyyjz1ryJ5GNsbuV9MdJeK7oHTdgehJFg91qMr1ZIlS8jPz2f79u0sWLCAa6+91qp2CdFOTbNm5acm1400SJK7stpcOlhR2gAflsoFKVi0mJqNUmDUK9lJkGTXkmAFUH61599hMgerx7xOsGJjYzn//PPbvqFNnz6doqIiq9olRDuPf2rS6IZlEbQsTldM66PISoTnZJgwaGyv0DS4pcCoNwylGJPilgQrgApqNAMTIc4ux29PWXa1evjhh1mwYMEp/7+2trbdT1NTk1WhRZhrdmse3m1y1VBFv3j50H+VUopLBhu8sN/EJcOEQSGvTBNtwMRecqx6Y0yyKQlWAMkahNaxW/Em9957L4WFhaxdu/aUz8nMzGz3ePny5axYscKK8N9QVVXlk/cNppjhHu+rMf91wM7hE3Fcm3Wcykrf1X0K1X06r5fB/TsSWJ1fy1npbp/H645Q3ac9ifdecSy5qQYnauo44aeYvuTveIOjmvlLjZPi8koSLLlCdUw+F+3tqYjnjD5uKitr/RLPKv6O6XQ6O31Ojw/fBx54gBdffJE1a9YQHx9/yucVFxfjcDjaHsfExBATE9PT8KfUlY0P9ZjhHg8gNTWVx951cUGmYmZ2is/jheI+nZ2qGbLZxZvHErhoZMcfaflc+D7e5qoWLh1i+LQdgd5GX5rWvxr9meKwTmG60z9TAuRz4eE2NftPuPhJnyiczgSfx7NaIGJ2pEdH70MPPcSzzz7L22+/TUpKxxc/h8PR7seXyZUIH28d0uysjOxlcTqjlOLibINVRVruJgyw4uOeRcil/pX3hjtM7EruJAyEA8eh2ZQ1CK3i9VXr0KFD3HTTTVRXVzN79mxyc3OZNm2alW0Tgvt3mEzupTizn3zgO3JhtuJooxQdDbTWAqMzZIK712JtMDIVtlUEuiWRR0o0WMvrIcKMjAy0j5fo0Fpz8DhsKNd8Wq05eFxz8AQcbwGXCW6tccYo+sZDv3jFeKdiSm9FmlxjwsKOaoO1RzTPnR3Zy+J0xdQ+iv7x8GKR5ox+gW5N5Mor1wxOgr5yM0aP5DoV2yrlRO5vBTWaWBtkJga6JeHBD1MIu6emWfNmseaVgyZrD2tKGzy/T4+DrERFZiJkJYJdeYr4VTVpio/DR6UmD+zwPDc1OpH5WS4uHmQwZ4AiVm43DUmPFkSTnQgXDZK/X2cMpViYbfBSkclD0w1JSAOktcCo6JncNMV/9nsK6Npk1Qa/ya/21L8y5PxhiaBIsFymJ6n6W4HJqwc1LSbkpsHVOQYz0xVTeyvSu/CNsLJRs/mY5s3P63mjLIZ/7HWTGgNLRhj8ZJRBZqIcNKHiQJ3mpUN2fjfdwC4n2C65MFvxpz2wtQIm9gp0ayJPvUuz9ZhmcY7MF+yp3DRFgxv21sII39/bIr4gJRqsFdAEq6JR89inJo/uMSmphwlpcP80gwuzDQZ6kQw5YxXnZSgmxzfz0KxE9lRp/pZv8uc9Jg/sMLlyqOLXk22SaIWAh3eZJNlhsSyL02Vn9lOkxsBLRSYTe9kC3ZyIs+moxqVhZrocsz01/itL5oyQCdd+U1Cj+f4wOX6tEpA9eei45qcfucl8xsWvt5p8Z6DBJxfa+eSiKH42xuZVcnUyo1IVD0y3cegKOw9ON3jzkCbneRe3bnRT2yzj+8GquknzRL7JD4c0kxglJ9euijIU3xmoeKnId7XCxKnllWmSomBMaqBbEvrSYhWZCXInoT+daNEcOiET3K3k1wTryAlPYjXkORfP7DO5Jdfg4OV2Vp5hY4IPqx4nRSt+NsZG4SV2bh5n8PAuk9H/cfFmsVyIgtFjn5o0u+FHQ1oC3ZSQc2G2we4qKKiWC5O/5ZVppvdRMmfIIuPTlCRYflRQ4/l3uAzJWsZvCdbdW9wMfc7F/+0zuWOiQdFldn410UbvOP+djJKiFXdPtvHpd+2MTFF86003P3zfJb1ZQaTJrfnDbpPvD1P0iZW/S3edl6GItyO9WH6mtZYJ7hYb71TskDsJ/abgixINOdKDZRm/JVh/3GNy41iD/ZfZ+Z8JNpKiA/dHzEpS/PdbNp44w8Z/9msmv+Rip3yQg8IzhZqSerhpnMwh8ka8XTEvQ/FikRzP/lRQA5VNssCzlcY5FSX1cLRBjmV/yK/R9I6F1Bg5hq3itwTrkwvt3DvFRnIAE6uvUkpx7QiDLRfaibPDtFUuniqQb/2BpLXmgR1u5mcpmdjaAxdmG2w8qjl8Qi5M/pJXplHANKngbplxX0x0ly+//pFfLXcQWs1vCVZGkN65NyxZsX6BnUuHKH7wvpvlG9yYPi6gKk7ujWLNnmr45Vi5i6Unvj1QYVewSoYJ/SavzGSMk6D5AhkOhjk8Vd23S4LlFwU1Mv/KanIlwzOs8rdZNn4/w+CBHSaXrXXT6JIPtb/dv8NkWh/F6X3lItUTKTGKs/vLMKE/5ZVpZvaR06mVbIZiTKrMw/IHrTX5NVrmX1lMzghfUMpzp+EL59p49aDm3NfdVDfJB9tfNpabvFei+eVYqUJuhYsGKd4v0VQ0yjHsa1VNnp5XmX9lvXFOJMHyg9IGqGuREg1WkwTray4cZPDut218Wq05+zUXx+QC5Re/2WaSk+ypRi56bkGWganhlYNy/Prax+WefSwJlvXGpyl2V3lW+xC+03oH4XCZ+2qpHiVYe/fuZebMmeTk5DBlyhR2795tVbsCalofg3cvsHO4Hs561UVpvXy4fWlPlWbVAc2K8TapIWSRvvGKGelSdNQf8so8d18NcQS6JeFnnFPR5P6yRpPwjfxqsCkYnBToloSXHiVYS5cuZcmSJRQUFLBixQquvvpqi5oVeOPSFO9/205VE5z5qosySbJ85rfb3WQkwFVDJbmy0kXZiv8e0hxvkWPXl1rrX8nQtvXGOj37VIYJfSu/RjMoCaJtcgxbyesEq7y8nM2bN3PVVVcBcPHFF1NcXExhYaFljQu0ESmKD75j53gLnPu6S+az+MCBOs0zhZqbxhry4bbYhdkGTW54s1iOW19xmbChXAqM+kparGJAgiRYviYlGnzD68Wei4uL6devH3a75y2UUgwcOJCDBw8ydOjQbzy/qmAH7sTEtsdR0dFER0V5G75DZm0tzScqLHmvTOCdCfCjD11c9zw8drqdpJM028qYXREu8f653WSqy2Rxop3mYv/EPJVwi5cBLIhysWWHYn6Uze/bB+G3T7+u8NBxBtXFcpa20VzsnwtUuO/Tr8f7ts1N1efQ3Nc3xYflcwH6sIsz+ho0F1szLTsS9ml05rBOn6O09q7o05YtW7jiiivIz89v+93UqVO57777OPvss9t+V1tbS3JyMnuuO4ekGK/zOSGEEEKIoJDx+zc7fY7XGU9mZiYlJSW4XC7sdjtaaw4ePMjAgQNP+vz4a+4kwU89WLW1tTgc1s843VmpWfqhmzP6KX4zxcZX52P7KuaphEO8R/eYPFto8vo8O45o/8TsSDjG21Wl+cF7bv5yho0h0XV+3T4Iz336VcvzGilrieIfZ/pvaadw36dfj/dmsea2zW7eveDk5wmr4/lDoPfpVxXVwcVrXDx+uo1Jva3phY2EfdoVXidYffr0YeLEiTz99NNcffXVvPDCC2RkZJx0eBAgNWec3zbeqKwk2um0/H0nZcLtySYXve3GOGLw4PQvT6q+inkqoR6vtllz1zsurplk0GvIyS9Oob6NwRAvN0NzbIeLfzcZ/E9WjV+3D8Jzn37Vi64mFg2xE53pvwQr3Pfp1+MNSdDs2u1id7yNM/tZX1nI39sXiJgdxfvsgMmuODdZw+1EJ1iTYEXCPu2KHh2tK1euZOXKleTk5HDffffx5JNPWtWuoLUw2+APMw0e2mnyh13uQDcnZD32qUm9C34hy+L4lKEU38lSvHzARFaAstbhE5riekMmuPvY8BSINmB7hRzAvpBfrUmMgn7xgW5J+OnRpKjhw4ezfv16q9oSMm4YbePAcbhxvUlGguKiQZIkdEejS/O7nSY/GKYYYNE3JnFq8wcaPPGZm711BmlpgW5N+FhfJgVG/cFuKEanyp2EvpJf47mDUMqMWE8yAy/9dqrBJYMVV77rJq9Mijl2x98LTMobYfl4/w2rRLJzBijibPBmidxkYqV1ZZqB8Sb95UuCz41zKnZUBroV4amgBnKSA92K8CQJlpcMpfj7mTam9lbM/6+bfXVyku2KZrfmN9tNFg1SDJO6K34RZ1ecl6F4s0QSWiutK9VM7yXTBPxhnFOxq1LjliVzLNfagyWsJwlWD8TaFS/NsdErFq5cH0dNs3z4O/NkgUnxcfjVBLnY+9P8LIONFTbKG+QYtUJds2ZrhWZ6miRY/jA+TdHghsLaQLckvFQ3acobZA1CX5EEq4ecsYrV59kpazS48h23fMPqQJNbc89Wk0sGK0Y75QPtT98e6Nnfr8niz5b4uFxjapgmPVh+MU6WzPGJ1kWec6QHyyckwbJATorir1MbeOOQ5rbNMh/rVP6WbxK04UsAACAASURBVHLoBPxqovRe+VufOMWUNJPVB+T4tMK6Mo0zBnKSZH/6Q+84Rd84SbCslv/FItoyB8s3JMGyyNl93dw/1eC3203+r1BOul/X5Nbcu83ksiGKUanybSkQ5vVz8dZhTYNLLlI9ta5Uc3pf1a7YsPCt8WlKEiyL5VdrBiRAYpQcyL4gCZaFfj7W4AfDFNd+4GbTUUmyvuqJz0yO1EvvVSDN6+ei3gXvHJGLVE+0mJqPyzWnS3kGvxrnVFILy2IFMsHdpyTBspBSisdOt5Gbplj4lpuSejkZABxv0fzvVpOrhipGyGTKgMlJMhnqgJdlmLBHth7T1Lvg9L5yLPvTOKfiwHHkZiIL5ddomX/lQ5JgWSzWrnhxjg2l4MK33TTKcAy/22lS3QR3T5Leq0BSChZkGbxyQGNKWXevrSvVxNpgUi+5MPlT60T3nTJMaAlTa/bWwHCZf+UzkmD5QL94xao5NrZXaK5b50ZH8MXsaIPm/h0m148yyEqSC1Kgzc9SlDbA5qORe0z21LoyzbQ+imibHM/+NCIFogyZ6G6VQyegwS0lGnxJEiwfmdzb4IkzbPxjr+YPuyN3SObebZ5tv22CHGrBYGa6whkDqw/IRcobWmvPBHeZf+V30TbFyBTYXhHoloSH/Gop0eBrctXzoauGGfxynMFNH5usORx5SdaBOs2f9pjcPM6gV6x8iIOB3VBckKlYfTDyjkcrFNTA0UaZfxUoniVz5MuBFfJrNNEGZCcGuiXhy6sEq7GxkYULF5KTk8P48eOZM2cOhYWFVrctLNw3xWDOAMUla93sq42sE8OKjW6cMZ67K0XwmJ9lsLMS9kfY8WiFdaUaQ8kCz4EyzqnYWSlzCK1QUANDHWCTWiM+4/WVb8mSJeTn57N9+3YWLFjAtddea2W7wobNUDxzto1eMbDgLRd1EXIHzIclJs99rrlvqk1qrASZuRmKaAPpxfLCujKTcU5wRMsxHQjj0xQnXPC5LJnTY/nVcgehr3mVYMXGxnL++eejlOePM336dIqKiqxsV1hJjVG8fJ6dg8fh+++5w/7bl9vU/Gy9mym9Fd8bJh/gYJMUrTi7v5J5WF7wzL+SHtlAkSVzrJNfo2WCu49ZcqZ4+OGHWbBgQYfPqa2tbffT1NRkReiQMTJV8X+zbbx8QHPXJ+Hdc/D3As3WCnh4hoGh5AMcjOZnKd4v0VQ1yYWqq0rrNYW1cIbMvwqY9DjoHSsJVk81uDQHjyNFRn3M3tM3uPfeeyksLGTt2rUdPi8zM7Pd4+XLl7NixYqehj+pqqoqn7xvT2OelgT/Mzqauz+JYVD0CeYPcPk0npW6Gq+2BW7dmMCiTDfDo+qorPR9TKtEUrzTHQq3TuQ/n9Vxcab3x2F3YvqDL+O9ecgOxDEqtobKLy7wwXquCed4I5Pi2Fyqqaxs9Es8Xwj0Pt1VbaBJoL9RS2Wl9V/4I2GfOp3OTp/T5QTrqaee4qGHHgLgZz/7GYsXL+aBBx7gxRdfZM2aNcTHx3f4+uLiYhwOR9vjmJgYYmJiuhq+27qy8YGI+b8zNIUNbm7YHMfE/nbGpXn/DcLf29iVeP/vIzcNpsnvTo/GmdjxMWFVTCtFSjynEyb2auGdinh+NL7H37O6FNNffBVvW76bQUkmYwak+iVeR8Jln3oTb3JfN6uKTJzOnp9fuhLPVwK5T0uqTMDNlMxknD66wzsS9mlnujxE+P3vf59t27axbds2Fi9ezEMPPcSzzz7L22+/TUpKSqevdzgc7X58mVwFM6UUf51lY1iyZ9L7scbw6epeX2by5z0m90w2yEiUrudgN3+gwesHNc3u8DkGfUnqXwWHcU7F53VEzA1DvvBZtaZPHD5LroSHV3OwDh06xE033UR1dTWzZ88mNzeXadOmWd22sJUQpVg1x84JF1z0tpumMLjAtZiaJR+6mdxb8ZNRMgk4FCzINqhtgQ9KQ//487W6Zs3WCs0Z/eTYDrTWie67quS49dZnNZoRMv/K57waG8jIyIjo5V+skJWkWHWejbNfc3PtB26eOsvWdldmKHpgh8mn1bD5QpvUVQkR452QmeCp6n7ugEC3Jrh9XK4xNdKDFQRGpYJNeSa6z0gPdGtC02fV/7+9Ow+Pqrz7Bv69z0wyQJKBTBICZAWysGSDsJV9EaECcXmhSoEo1Up5H4v26dMEW2ttpWjLI27VCryVRaolAgqiF7JEQKRCEAJhh5CEQPZ1AmSbOb/3j5jUaCYJYc7MOTO/z3Xl0iE5871nu+/fnHOf+xBGBfCXBaXxM+xEYwMlbJikw+YrhD9p+MzCsxVNZ0b+KlZCwl3MKWOOJYRAUpiEnXkyf2HqwOFigp+h6Xp4zLkMOoFBfMmcLpOJcLGK38uOwAWWkz0yUMKKERJeOCFj4yXtFVkNVsLCAxYM8AH+lMhvJ61JChPIuwlk3cXZnu7gy0LCuD5C03uZXQlfMqfr8m82XeR5EK+BpTgeEVXgtwkSfj5I4PFDVnymsdW1n/9GxtlK4J9T9Oiu5w+s1kzqK+DjAezI09b7zpEaZcLXJcTrX6lIc4HFe17v3IVvL/LMc7CUxwWWCggh8PY4HWaFCszbb8XREm0MdgcLZfz1lIwXEyUM8+cPqxYZdAI/DuFV3dvzTSmh1soLjKpJvJ9ATSOQW+PslmjPhWpCNx0Qyhd5VhwXWCqhlwT+NVWHYX4Cs3ZbcVblu79LagkLv7BifB+B/4njt5GWJYVJOF5GuHFL3e85ZzlQSPD2AIbzlwjV4EvmdN2FKiCqJ1/k2RF4ZFSR7nqBT2boEOwFTPvMgotV6uw8GmXCT/Zb0SgDH0zlswa17sfBAjoB7NLY4WlHOVDYtP6VB7/PVaNfD8Bk4AKrKy5UEc+/chAusFTG1yCw9z49/AzA1E8tyDarrwP5n69lfFVE2HqPDkFe/EHVOlM3gQl9+DBhWxplwuEiwuS+/D5XEyEET3TvIi6wHIcLLBUK6C6wf5Ye3h7AlF0WXK5WTyey4ZKMN87KeH2shPF9+O3jKpLCBPYXEG42que9pgbflBJuWYDJ/XhAUpt4P4FT5fx+vRNV9YSiWp7g7ig8QqpUnx4C6bP08PIAxn9iUUVHsitPxhOHrPj5IIGlg/mt40qSwiTUW4E9153/PlMTnn+lXnEmgStm4BZ/Kei0i99+WR/sy+9nR+BRUsWCvAQOzdYjxEtg0i4Lvipy3hyZr0p1mLffivvDms545PWAXMtAo8BQX2AnL9fQCs+/Uq84E0AAzvIlczrtQlXTf6N6Orcd7oILLJUL6C6QPkuHBD+BaZ9Zsfmy4wfAoyUyfnqkO8b3EXh/qg56HmxcUlKYhF3XCFaZByyA51+p3VBfAUkAp3mR3E67UEUI8wZ68JqFDsEFlgYYPQU+/7EOjwwQWHTAitSjVjjq+tC78mRM/dSKoT2t+Gi6DgYdfzBdVVKoQHk98O8SLrAAnn+ldt31AlE9oYrpE1rBE9wd664LrPXr10MIgY8//tge7WE2GHQC6yfp8MpoCf+bJWPe4e6Kr1u07oKM+/dacW+QwNbxtfD24A+mKxvVWyCwO7CDzyYEwPOvtIDPJLwzF6q5wHKkuyqwcnNzsW7dOowZM8Ze7WHtEELgv+N0+PzHOlwwS4jdZkFatv0PGd5sJCz50oonv7Ri6WAJW+/RoYfe7jFMZSQhMCdU8Dysb/H8K/XjS+Z0XqNMuFINDOL5Vw7T5QJLlmU88cQTePPNN2EwGOzZJtaBe4IkHL7nFu7pJ/BwuhVJn1tari91t44Uy0jYbsHmKzLWjNfhzbESLyTqRpLCJFyqhmoXuXWUBivPv9KCeJNAVQNw/ZazW6J+V82Ahfgiz47U5QJr9erVGDduHBITEzv192azudVPfX19V6MZmlYx3jJNh7RpOmRVEGK2WvB/D1txtYsLk56rJMxPt2D8TisCugmcekiPJwdLfLagm5kWJNBdx2cTHi1pmn81LYjf/2oW59f0+vA8rI61XOSZCyyH6dKBnzNnzmDbtm04dOhQp7cJCQlpdTslJQWpqaldie9QZWWlIverpszmvGm9gCP3AP8v2wOrLxjw9/MypvS2YFH/RkzsbYGvp+37MDcC6cV6fHxdj1039OjXnbBqWAMWhTdCbwUqvnN2jjs9p+6eN6l3N2zPFng8pNZhmfZir7xd2Z7o5eGJMKmq1edAqbw7odXnVIk8LwKMHt74+sZtjPVpUDzPXpzxnJ4o8YTRwxMetZWoqFM+z9EcnWkymTr8m04XWJs2bcLq1asBAEuWLEFubi4iIyMBAEVFRXjyySdRWFiIpUuXtrl9fn4+jEZjy22DwaDoocXOPHitZ3437/cBwK9HENKuEtacF/jZ0aaXdqgvkOgv4GsQ6OUJNMhAXg0h9yZwvJTQIAPxJuCtcRJ+Fi3BoLP9mrjbc+queXMjZDx52Aprd18EdL/7b7tqfIwd+arCgqlBQIBfx/fFnwvn5sX7WXClthtMJm+H5NmLozPz8rthsC/g14n3tD24w3PakU4XWMnJyUhOTm65/d1CavLkyXjmmWfwwAMP2NzeaDS2KrCY/fXQCzwWJfBYlIQcM+FwcdM8kqwKQlWDjOoGQC8BYd4CA3yAhwdISAqTEO7Du4zZf8wOFSACPs0nPBblfu+NmgbC0RLCG2N5FRstiDcJ7Ctw70PanXGBJ7g7HJ8b5qL6GwX6GwUWRTq7JUxrAnsIjOnddDbhY1HuV2QcKiJYCJjWz/0euxbF+Qm8fR6otRC68wKabSJqmoP1QBi/px3JLgXWgQMH7HE3jDGVSAoTePGkjDoLoZubDVr7bxBCvIBI/ravCXEmQCbgXCWQGODs1qhTSb1AdQNPcHc0LmcZYz+QFCbhtgVIL3C/s7P2F8iYFiT4DFqNiPEVEAAvONqOyzVNQz0XWI7FBRZj7AcG9wIGGoGdbraqe0kt4XRF01pzTBu8PAQijMApLrBsulwjQS+aPtPMcbgXYYz9gBACSaESdl6TIbvRKtnNe+ym8vUHNSXOT+A0r4Vl0+UaCQON4KsSOBgXWIyxNt0fLlB4G/imzH0Grn03ZAz1Bfr24IFIS/iSOe27XCPx4UEn4AKLMdamcYECvgb3OUxIRNhznfjwoAbFmQTK64HC285uiTpxgeUc3JMwxtqklwRmhbjPxZ/PVQL5t4AfB/NApDXxpm8vmcPzsH7gtoWQf5sLLGfgAosxZlNSmITTFUBOF69xqSW7r8vopgMm8gWeNSfMB/DxAM/DasOl6qb/8iKjjscFFmPMppnBAgYd8FGu6+/F2n2dMKWf4MUqNUgSArHfzsNirTVf5Dma92A5HBdYjDGbfDwFZgYLfJjj2gPXzUbCoULCTD48qFnxJsGHCNtwoYrQ2yDD18DvbUfjAosx1q65/SV8XULIv+m6g9eBgqYLn88M5i5Rq+JMwIUqoN7quu/TrjhfRYjwcf090GrEvQljrF1zwgQ8JWBrjut20ruvEwb48OVxtCzOT8BKwPkqZ7dEXc5VEqKNrvvZVbMuF1j19fV46qmnEBkZidjYWCxcuNCe7WKMqURPT4EZwQJbXfgw4e7rMmaGSHx5HA2L9W167Xii+380yoSL1cAgLrCcossXe16+fDmEELh06RKEECgqKrJnuxhjKjJvgITkA1Zcv0kI9natIuRyNSHbDJ5/pXE+ngIDfHiphu/KNgONMhDNhwidoksF1q1bt/CPf/wD169fb/nG16dPH7s2jDGmHnNCBTwkYFuujKdjdM5ujl3tzpfhKQFT+PI4mhfHZxK2cray6bngPVjO0aVDhNnZ2TCZTFi5ciVGjBiBCRMmYP/+/e1uYzabW/3U19d3qcGMMcfrZRC4N0jgw6uuN3jtukaY2FfA24MLLK2L8+MC67vOVRL8DIC/gZ8TZ+jSHiyLxYK8vDwMGTIEL7/8Mk6ePInp06fj7NmzCAwMbHObkJCQVrdTUlKQmpralfgOVVZWKnK/asp09TxnZHJe+34cqMdTx7sj63olgnp0rsNW+2M0NwJfFHjjxbh6VFQ0Kp5nD2p/Tp2Z199Tj5La7rhQUIne3dT5HnVk5snibojyEaiqqoQjpxe68nPazGQydfg3nS6wNm3ahNWrVwMAFixYAEmSsGDBAgDAsGHD0L9/f2RlZdkssPLz82E0GltuGwwGGAyGzsbfsc48eK1nunqeMzI5z7aF3oRfn7RgT4URvw7u/GFCNT/GfdkyGsmKRwZ7w+TTtRGIPxfqyRuvI+BrC67JPTHI1PkDNK76Gl653YhxgRJ8fX018xpqLbM9nX4HJicnIzMzE5mZmfjNb36DadOm4fPPPwcA5OTkICcnB4MHD7a5vdFobPWjZHHFGLO/np4Cs0MF3s92nfkcO/JkJPgBYV0srpi6DDACPfTgw4QALDLhYhUwpJezW+K+urxMwzvvvINVq1YhNjYWDzzwANasWYOgoCB7to0xpjLzB0o4UQZcrNL+ANYoEz7LJySF8XKArqLlkjm8VAOyzUCDDAz15S8PztLlZRoGDBiAL774wp5tYYyp3H0hAkYP4INsGS8kavtswi8LCVUNQFIoF1iuJM4EHC3hAqv5DMIhvgKoc3Jj3BT3LIyxTuuuF3iov8D7V2QQaXsQ23mNEOQFDPd3dkuYPSX4CZyr5EvmnKskmAxAYHdnt8R9cYHFGLsjPx0o4bIZ+KZMuwMYEWFHroykUF693dUM8xOwEHDW8SeyqcrZKsKQXoLf307EBRZj7I5M6ScQ2B34IFu7BdaZSiD3JnB/GA8+ribOJCAAnNTwFwB7OFdJPP/KybjAYozdEb0k8PAACR9ky7DI2hzEtufI8PEAJvPq7S7Hy0MgqieQ6cYT3S0y4UIVMMTX2S1xb1xgMcbu2KJIgcLbwN4b2hvEiAhbrsp4IEzAoOMCyxUN8xc46cYF1lU+g1AVuMBijN2xRH+BGF9gwyXtrYl1phI4XwX8ZAB3f65qmJ/AqQqCrPETMbqq1RmEzGm4h2GM3TEhBBZHSfg4l1BRp61BLO2qjF6ewL3BPPi4qmF+AjcbgSvVzm6Jc5ytJPgagD58BqFTcYHFGOuSBRESrNS0JpZWEBG2ZMt4MFzAkw8PuqwEv6bX1l3nYWVVEmJ8+QxCZ+MCizHWJYE9BGaFCmy4pJ1BLLMcuGzmw4OuLqC7QJAX3HYeVlYFIdbExZWzcS/DGOuyxyIlHC8jnNHItd/SrsrwMwDTgnjwcXXD/Nxzonu9lXCpGojlMwidjgssxliXzQoV8O8GrNfAZPfmswcf6i/gIXGB5eqaCyytX3HgTp2vAqwE3oOlAlxgMca6zFMnsChCwsZLMuos6h7IMkoJOTV8eNBdDPMTKKkFimqd3RLHyvp2b3IMF1hO1+We5rPPPsPw4cORkJCAmJgYbNy40Z7tYoxpxC8GSyivBz7MUXeBtf5S07UHp/TlgccdNE90d7cV3bMqCKHeQE9Pfp87W5cKLCLCwoULsWHDBmRmZmLXrl1YsmQJampq7N0+xpjKRfUSmB4k8PY59R4mvG0hvH9FxmOREnR8eNAthPsAvTzdb6J7VgUhlte/UoUu78ESQqCqqgoAYDab4efnB4PBYLeGMca0Y+lgCV+XkGr3FnyUSzA3Ao9F8eFBdyGEQIIbTnTPquQzCNVC35WNhBDYsmULHnroIXh5eaGyshLbt2+Hp6enzW3MZnOr2waDgQsyxlzEnLCm0+L/ft6KtRO61K0o6t2LMib1FYjoyQOPOxnuL7A9R717Vu2tsp5w4xZPcFeLLvWEFosFK1aswPbt2zFx4kRkZGQgKSkJWVlZ8Pf3b3ObkJCQVrdTUlKQmpralfgOVVZWKnK/asp09TxnZHLe3UkO88TrFz3xbGQFeno6JvP72srLuyWQXuCNt0bUoqLConie0tTwnGolL7qbHrk3u+NKYQVMNr7Pu9Jr+O8yHYAeCNWZUVHxn8JSy6+hWjNNJlOHf9PpAmvTpk1YvXo1AGDBggUoKCjAxIkTAQAjR45EcHAwTp48ienTp7e5fX5+PoxGY8ttpfdgdebBaz3T1fOckcl5XffLYYRV5y3YWdYTT8foHJLZlu/nvZFjhY+HjEdjfODlYf9v9vy5UG/eJImADAtyrL0QYbJ9eNhVXsO8Iiv0Qsao0J4/uFKBVl9DtWe2p9MTEpKTk5GZmYnMzEwkJyejsLAQ58+fBwBcuXIF2dnZiI6Otrm90Whs9cOHBxlzLX17CPxkgMBrWTIssjrmvVhlwvpLMh4ZKBQprpi6RfYEfDyAEyqdG2hvWRXAoF7gy0CpRJcOEQYGBmLt2rX4yU9+AkmSIMsy/va3vyE0NNTe7WOMachv4nUYtt2CD68S5kc4v5PfdY1w7SbwRDRPbndHkhAY5ifwjdsUWDzBXU26PBt1/vz5mD9/vj3bwhjTuAQ/gRnBAn85ZcUjA53f0b96RsbYQIFRvbnAcleJ/gI78lx/ojsR4UwlYVYov9fVgl8JxphdpcZLOFUB7Lnu3L0GJ8oIBwsJv4rhbs6dJQYIXK1pOsPOleXfAqobwGtgqQj3PIwxu5rcV2BkgMBfTjl3r8GrWVaEeQMPhPOA486Gf7uiu6vPw2q+RA4fIlQPLrAYY3YlhEBKnIQvCgnfVDiniym4RfhXNmHZUAl6XrndrUX1BLz0cPl5WJnlhF6eQKi3s1vCmnGBxRizuwfDBQb3Alaedc7Zwm+dk9FNDzw+iLs4d6eT3GOie2Y5IcFPQAj+QqEW3PswxuxOJwn8eYQOB0r02HfDsYcKq+oJfz8v44loiS94ywA0zcNy9QLr5LcFFlMPLrAYY4p4IFxghMmK5cdkyOS4wW3VaRn1ViAlnrs31iTRXyDb3FR8uyJzAyHbDAzjAktVuAdijClCCIE/xNTjmzLC1quOGdiK6wReOyPj6RgJfXvwYMOaJPq79kT3099OcOc9WOrCBRZjTDFjA6yYFSLwu+NWNDpgdfdXznvCoANS4rhrY/8R7eIT3TPLCZ5S0yruTD24F2KMKeqlUTpcrQFeOa3sXKyrZsLGHA+kxknoZeBv8uw/dJLAcH+BjFLXLbCG+vIlctSGCyzGmKJiTQK/jpXwwgkZl6qUG+CezbDCz0D4JS8sytowKkDgmIsWWDzBXZ24J2KMKe6FRAkhXsATX1oVmfD+UY6MtKuEP8bWo4eeBxr2Q6MCBPJuAsW3XavIapQJZyp4grsacYHFGFNcD73Augk6fFlEWHPevocKy+sIS7+yIilMYG6Ixa73zVzHqN5NBYirHSa8UAU0yDzBXY1sFljLli1DeHg4hBDIzMxs9buSkhLMnDkTkZGRiImJwaFDhxRvKGNM2yb3k/DkIAkpx2Scr7TfILfsiBUNMvDOeB14jUVmS5g3ENANLneYMLO86fHEcYGlOjYLrLlz5+Lw4cMICwv7we+WL1+OMWPG4PLly1i/fj1++tOforGxUdGGMsa0739HSwj3BubssaC87u4Huq1XZbyfTXjjRzpeloG1SwjhkvOwTpYRBviAF9VVIZsF1sSJExEcHNzm79LS0vCLX/wCADBy5Ej069cPBw8eVKaFjDGX4eMpsPNeParqgXn77m7phn8Xy0g+YMW8/gILInhwYR0b1bupwCIHLnyrtMxywjB/fv+r0R3PwSovL0djYyP69OnT8m/h4eG4du1au9uZzeZWP/X19XfeWsaY5vU3Cmyf3jQfa+lhK6xdKLLOVxJmf27FiACBTZN1fP011imjAgQq64Fss7NbYh9EhMwKQoKJ3/9qpHdUUEhISKvbKSkpSE1NVSSrsrJSkftVU6ar5zkjk/MclxljAF5L1GPZ8W64YW7AmlF18O5kb5R7U+D+L3sg0EDYOPI2bpuB2x3kKUVNzynndSxCDwA+SM+pgSnUonieLfbKzL8lUFnvjQGeN1FRYVU8r7O0/Jx2lslk6vBvWrq0TZs2YfXq1QCAp59+GosXL25zAz8/P+j1ehQVFbXsxcrNzUVoaGi7Qfn5+TAajS23DQYDDAZDx4+iizrz4LWe6ep5zsjkPMdl/pcJCPeT8Ui6wP2HPbDzXj1CvG1/EycivHeZ8NQRK3p3B/bO1iPIq1un85SipueU8zq4XwADjY04V+sFk0mneF67bbFD5hfVMgArpgwwwtTBHERXeQ3VltmelkOEycnJyMzMRGZmps3iqtm8efPwzjvvAAAyMjJw48YNTJo0qd1tjEZjqx8liyvGmDbMCpXw1Rw9yuuA6DQLfvmVFXk1rQ8ZWmXCkWIZD++34tGDVjwULnDyQT2CvPiwCLtzowIEjpW4xhys46WEIC/wCR4qZXOn/JIlS/Dpp5+iqKgIM2bMgI+PD65cuQIA+Mtf/oJFixYhMjISnp6e2Lx5Mzw8PBzWaMaY64jzEzj1f/R486yMN87I+Pt5GTG+QEB3AaMHcLiYUFILBHYHtkzV4ScDefk+1nWjAgS258polAkekrYLk4xSwgie4K5aNgusNWvW2NwoMDAQe/bsUaRBjDH342sQeH64Dr+OlbDpsowzlUBJLaGiHng0UsL9YQJjegvoND4gMucbGSBQbwWyKoDh/s5uTdcREY6XEX7DFzZXLYdNcmeMsY54eQgsHaLr+A8Z66Jh/gJ6AXxdImO4v3bfa9lmoLoBvAdLxbj0ZYwx5jZ66AWG+Qv8u1jb87CaL/kzIoALLLXiAosxxphbGRsocETjBdbxMkJ/H8CvGxdYasUFFmOMMbcytrfA1Rqg6LZ2i6yMUsJI3nulalxgMcYYcytjA5sKE60eJrTKhBNlfAah2nGBxRhjzK0EewuEeAFHNLoe1sVq4JaF51+pHRdYjDHG3I6W52E1T3BP5D1YqsYFFmOMMbczNlDgeCmh3vYl/FTreCkhuidg9OQCS824wGKMMeZ2xgYKNMjA6SrtDYMZZTzBXQu0985ijDHGo5YNTAAAFmFJREFU7lK8n0B3HXCsXFuLjTZYCZnlxPOvNIALLMYYY27HQxIY1VtorsA6Wd50WLP5TEimXlxgMcYYc0tjAwUyKnQg0s5k96+KCN11QIIfF1hqZ7PAWrZsGcLDwyGEQGZmZqvfLV68GFFRUYiPj8e4ceOQkZGheEMZY4wxexrbW6C4TkJOjbNb0nlHSprmX3nwhc9Vz2aBNXfuXBw+fBhhYWE/+N2DDz6Ic+fO4dSpU3j22Wcxb948RRvJGGOM2du4PgIChENF2tiDRUT4qoj48KBG2CywJk6ciODg4DZ/l5SUBL1eDwAYM2YMbty4AYvFokwLGWOMMQX4GgRieso4UCA7uymdkncTKKoFxnGBpQn6u72D119/Hffdd19LwWWL2WxuddtgMMBgMNxtPGOMMdZl4wKs2F2ojYnuzQujjuECSxPuqsDavHkz0tLScOjQoQ7/NiQkpNXtlJQUpKam3k28TZWVlYrcr5oyXT3PGZmcp/1MV89zRqar58V3r8M7NwNwKr8SIV6OOVTY1ce4P8+ACG8dpNs1qLitfF5XucPnwmQydfg3LQXWpk2bsHr1agDA008/jcWLF7e74ZYtW/DHP/4R+/fvR2BgYIdB+fn5MBqNLbeV3oPVmQev9UxXz3NGJudpP9PV85yR6cp508MrILKAU7U9ER/iuBPru/IYT1Q3YkI/0aVtXfk1dGZme1oKrOTkZCQnJ3dqo7S0NDz33HPYt28fQkNDO7WN0WhsVWAxxhhjzubrCcSagAOFMpKj1LtyUU0D4XQF8F9D1NtG1prNV2rJkiUIDg7G9evXMWPGDERERLT8bsGCBairq8P999+PhIQEJCQkoLy83CENZowxxuxpcl8JBwvVfSbhsVKCTLzAqJbYnIO1Zs0amxs1NjYq0hjGGGPM0Sb3FXjjLJB/kxDirc4C5kgxoZcnMKiXs1vCOov3NTLGGHNrE/o2FVVq3ov1VXHT+leSUGcByH6ICyzGGGNuzb+baJmHpUaNMuGrYsL4PlxcaQkXWIwxxtzepD4SDqh0D9bxUsLNRmBaPy6wtIQLLMYYY25vaj+BbDOQW6O+Iiu9gGD0AIb7c4GlJVxgMcYYc3tTgwR0Avj8uvoOE6YXECb1FdDzBZ41hQssxhhjbq+np8CY3gKfX1fXHqw6S9P8qyl8eFBzuMBijDHGAMwIFth/g9Aoq6fI+rqEUG8Fpvbj4Vpr+BVjjDHG0FRgmRuBoyXqKbDSCwh+hqbV5pm2cIHFGGOMAUj0FzAZoKrDhOkFTYcHef0r7eECizHGGAOgkwSmB6lnHtbNRsLREsJUnn+lSVxgMcYYY9+aESzheCmhrM75RdZXRQQL8fwrreJXjTHGGPvWjGABArDvhvMLrP0FhH49gKiezm4J6wqbBdayZcsQHh4OIQQyMzPb/Jv09HTodDq89tprijWQMcYYc5R+Xk2XzVHDelif5cuYHiQgeP6VJtkssObOnYvDhw8jLCyszd9XV1dj+fLluO+++xRrHGOMMeZoM4MlfJZPsDpxuYYcM+FsJTAnjA80aZXNV27ixIkIDg62ueFTTz2F5557Dn5+foo0jDHGGHOGB8MFSmqBfztxuYZd12R4SsC9Qbz3Squ6VBpv3boVkiQhKSmp09uYzeZWP/X19V2JZowxxhQ1urdA3x7A9hznFVifXCNM7ivg48kFllbp73SDoqIirFixAgcOHLij7UJCQlrdTklJQWpq6p3Gd0plZaUi96umTFfPc0Ym52k/09XznJHprnkz+xiw9aoev4uqhr2nQHX0GM2NwIECb/wprh4VFY2K59mbO3wuTKaOV35tKbA2bdqE1atXAwCefvppLF68uM0NvvnmGxQWFiIhIQEAUFZWhp07d6K0tBR//vOfbQbl5+fDaDS23DYYDDAYDJ17JF3QmQev9UxXz3NGJudpP9PV85yR6Y55Px0kY/1VK/LIF8P97L8Xqb3H+EWOjEay4pHB3jD52CdbDc+pK2a2p6XASk5ORnJycocbzJo1C8XFxS23H3vsMSQkJOCZZ55pdzuj0diqwGKMMcbUalJfAV8DsD1HxnB/nUOzP8mTEeMLhNupuGLOYXMO1pIlSxAcHIzr169jxowZiIiIcGS7GGOMMafxkASSQgU+ynXscg1WmfBpPmF2KJ89qHU252CtWbOmU3ewYcMGe7WFMcYYU40HwyVsvGzFhSrCoF6O2Zt0rJRQVgfMCeO9V1rHJTJjjDHWhnuDBXromw4TOsq2HEJAN2B0ABdYWscFFmOMMdaG7nqBOaEC/7wig0j5JRusMuH9bBmPDJSgk7jA0jousBhjjDEbFkdJOFcFZJQqX2ClFxAKbwOLIrm4cgVcYDHGGGM23BMkEOwFrL+kfIH13mUZUT2BEf5cYLkCLrAYY4wxG3SSwKOREt6/IuO2Rbki61YjYXsuYVGExBd3dhFcYDHGGGPteCxKgrkR+ChXuQLr4zzCLQuwIIKHZVfBryRjjDHWjoieAhP7CLx7UbmzCd+7LGN8oEB/I++9chVcYDHGGGMd+Fm0hPQCQm6N/fdiFd0m7L1BWBTJQ7Ir4VeTMcYY68Dc/gI+HsCa8/bfi/XOeRnddMC8Abz3ypVwgcUYY4x1wMtDYMlgCW+fk1FVb7+9WLcaCX87K+OJaAm+Bi6wXAkXWIwxxlgn/HeshHoZ+NtZ++3FeveijKoG4FexPBy7Gn5FGWOMsU7o20Pg8WgJr52RcbPx7vdiWWTCK1kyHh4gEO7De69cjc0Ca9myZQgPD4cQApmZma1+R0R44YUXEBUVhdjYWEyZMkXxhjLGGGPOlhInoboBWGuHuVgfXiXk3QRS4nV2aBlTG5sF1ty5c3H48GGEhYX94HdvvPEGTp8+jTNnziArKwsffPCBoo1kjDHG1CDMR2BRpMD/Zsmou4uFR4kIfz1txYxggXg/3nvlimwWWBMnTkRwcHCbv1u1ahVefvlleHp6AgD69OmjTOsYY4wxlVker0NxLfBKVtf3Ym26TMgsB5bH80wdV3XHr6zZbEZxcTF27NiB0aNHY/To0diyZUuntvvuT319fZcazBhjjDlTVC+BlDgJfzoh42zFne/FKqkT+NXXViyMEJjcjwssV6W/0w0sFgssFgtqa2tx9OhR5ObmYuzYsRg0aBDi4+NtbhcSEtLqdkpKClJTU++8xZ1QWVmpyP2qKdPV85yRyXnaz3T1PGdkcl7bftkf2H61BxalW7F78m3o76BO+nWGBIlkPD/oNiq6UKDdKa08p1rKNJlMHf8RfWvjxo0UHx9P8fHx9O677zb/M4WFhdHJkyfpu7y9vSk7O7vl9ty5c2ndunXUlpKSEgJA2dnZVF1d3fJTV1fX5t/frbq6OkpJSVHs/tWQ6ep5zsjkPO1nunqeMzI5r33/LrKStK6B/pJp6fQ2Wy/XEdY20IZz2niMas9zRmZdXR394Q9/6DAP7f6W2i6wfv7zn9Nbb71FRETl5eUUGhpKR48ebXP7/Px8AkD5+fmdbftdqa6uJgBUXV3tkDxnZLp6njMyOU/7ma6e54xMzuvY/3xtIcM/GmhPvrXDvz1TLlPvTfWEX35MVVXaeYxqznNGZmfzbO7UXLJkCYKDg3H9+nXMmDEDERERLb976aWXsHv3bsTExGDixIlITU3FqFGj7nQPG2OMMaZpLyZKmNZPYNbnVqRl2570nlEqY+IuC3obCNjwJASfOOjybM7BWrNmjc2N/Pz8sHPnTkUaxBhjjGlFN73Ax/fq8LODVjySbsW1W4QnB0kwejZVUA1WwifXCI8dtCLOJPD+2HqE15Q4udXMEe54kvudImqawFdTUwOz2ax0XEuGI7Kclenqec7I5DztZ7p6njMyOa/z3hxOMFpl/OaAjN8eAib1FejpCey9QTA3APcECWwap4O1tsZumZ2h5edUrZnNOc31jS2COvqLu3T16lUMHDhQyQjGGGOMMYcqKSlBQECAzd8rXmDJsoyCggL4+PhA8EFnxhhjjLmAjuoaxQssxhhjjDF3w0vIMsYYY4zZGRdYjDHGGGN2pmiBdfnyZYwdOxZRUVEYOXIkzp49q2Qcli1bhvDwcAghkJmZqWgWANTV1eGBBx5AVFQU4uPjMX36dFy5ckXRzHvvvRdxcXFISEjAhAkTcPLkSUXzmq1fvx5CCHz88ceKZ4WHhyM6OhoJCQlISEjo1LUu70Z9fT2eeuopREZGIjY2FgsXLlQsq7y8vOVxJSQkICoqCnq9HhUVFYplAsBnn32G4cOHIyEhATExMdi4caOiebt378aIESMQFxeHMWPG4NSpU3a9f1uf9ZKSEsycORORkZGIiYnBoUOHFM1buXIloqOjIUmS3T8btjIXL17c0ueMGzcOGRkZiuc19zkjR47E/v37Fc1rlp6eDp1Oh9dee80uee1lTp48Gf3792/5XL766quK5hERXnjhBURFRSE2NhZTpkxRNG/06NEtjy0mJgZCCJw+fVqxvGPHjmHMmDEYNmwYBg8ejL/+9a93ndVRZkZGBsaNG4f4+HgkJCQgPT3dLnntjfMd9jdKrnY6ZcoUWr9+PRERffjhhzRixAgl4+jgwYOUn5/f5urzSqitraVPP/2UZFkmIqI333yTJk2apGhmZWVly/9v376d4uLiFM0jIsrJyaEf/ehHNGbMGProo48Uz3PU69fsmWeeoaeeeqrldSwsLHRY9qpVq2j27NmKZsiyTL6+vnTq1Ckiano9DQYDmc1mRfIqKirIZDLRmTNniIjo0KFDNHToULtm2PqsL168mP7whz8QEdGxY8coKCiIGhoaFMs7evQoZWdn06RJk+z+2bCVuWPHDmpsbCQiok8++YTCwsIUzftun3PixAny9fUlq7XjVcu7mkdEVFVVRSNHjqTZs2fTq6++etdZHWUq8fq1l/faa6/Rgw8+SPX19URkvz6nM2Pghx9+SDExMYrmxcfH044dO4io6WovAQEBdPbsWcUyZVmmoKAg2rt3LxERXbx4kUJCQuj27dt3ndfeON9Rf6NYgVVcXEw+Pj4tHYEsyxQYGEiXL19WKrKFowfoZhkZGXbr7Dpj/fr1FB8fr2iG1WqladOm0fHjxxXrhL7Pka/fzZs3ycfHx6GXdfiuQYMGKf6cyrJMJpOJDh48SEREp06don79+rV07vaWkZFBkZGRrf7Nx8eHvvnmG7tnff+94uXl1WqwGjlyZEunq0ReMyU/G+19HkpLS0mv17f0s0rnffHFF3YrsNrLW7hwIe3YsYMeffRRuxZYtjKV7tu+nxcUFEQXL150WN53zZw50+7P6ffzEhISaOPGjUREdO3aNQoKCrL7F9fvZpaWlpKnp2er38fGxtK2bdvsmknUepzvqL9R7BBhfn4++vbtC72+aS1TIQRCQ0Nx7do1pSKd7vXXX8f999+veE5ycjJCQkLw+9//Hu+9956iWatXr8a4ceOQmJioaM73LVq0CLGxsXj88cdRWlqqWE52djZMJhNWrlyJESNGYMKECXY7BNKRI0eOoLKyErNnz1Y0RwiBLVu24KGHHkJYWBjGjx+PjRs3wtPTU5G8yMhIlJeX48iRIwCAnTt3oqamBrm5uYrkNSsvL0djYyP69OnT8m/h4eEu3+fcd999Lf2sUpYvX46BAwfioYcewrZt2yBJys0u2bp1KyRJQlJSkmIZbUlJSUFsbCwefvhhXL16VbEcs9mM4uJi7NixA6NHj8bo0aMVnwbRLD8/HwcPHlR0GgTQNKXk97//PUJDQxEVFYWVK1e2+lzam7+/P/r27Yu0tDQATYcLL168qEif0zzOd6a/4UnudrJy5UpcuXIFL730kuJZmzZtQn5+PlasWIHU1FTFcs6cOYNt27bhueeeUyyjLYcOHUJWVhZOnDgBf39/PProo4plWSwW5OXlYciQITh+/DjeeOMNPPzwwyguLlYss9k//vEPJCcnKz44WiwWrFixAtu3b0deXh7279+PRYsWoaysTJG8nj17YuvWrXj22WeRmJiIPXv2YMiQIYo/TnezefNmpKWlYe3atYpnvfzyy8jOzkZaWhpSUlLQ0NCgSE5RURFWrFiB119/XZH7t+W9997DpUuXcPr0aUyYMEHRLz0WiwUWiwW1tbU4evQotmzZgl/96ld2n6fYlg0bNmD27Nnw9/dXNOfll1/GSy+9hGvXruHs2bP43e9+h3PnzimauWPHDrz77rsYNmwYXn/9dYwfP97ufc4dj/N233/2LXc6RLhq1SpKTExsNVfBUbp160ZlZWWK3Pfbb79Nffr0obCwMAoLCyODwUABAQH09ttvK5LXloKCAvL29lbs/ktLS0mSJLJYLC3/NmLECLseVmpLTU0NeXt70/nz5xXNIWr7kN2IESNoz549imcTEdXV1VGvXr0U+ex//7Peo0cPtzhE+K9//YsiIiIoLy/PIXnfFR0dTcePH1ckb9euXdS7d++WPsfLy4t8fX3pt7/9rd3yvp/ZFoPBYNd+9ft53t7elJ2d3XJ77ty5tG7dOsXyiJrG4P79+9Pu3bvtltNWXluH6+bOnUtr165VLLMtgwYNon379tktr61xvqP+RrE9WL1798bw4cOxefNmAMC2bdsQHByMiIgIpSKdYvXq1fjggw+wd+9e9OrVS9GsqqoqFBQUtNz++OOP4efnB5PJpEje0qVLUVhYiNzcXOTm5mLMmDFYu3Ytli5dqkgeANy6dQtVVVUttz/44AMMGzZMsTx/f39MmzYNn3/+OQAgJycHOTk5GDx4sGKZALBlyxbEx8dj0KBBiuYAQEhICAoLC3H+/HkAwJUrV5CdnY3o6GjFMgsLC1v+/8UXX8TUqVMd8tmfN28e3nnnHQBNhwlu3LiBSZMmKZ7rSGlpaXjuueewb98+hIaGKprV2NjY6szoY8eOoaSkBAMGDFAkb9asWSguLm7pc+bOnYvnn38ef/7znxXJA5r2KH13j/W2bdsQGBgIPz8/xTLnz5+P3bt3AwAqKipw7NgxxMXFKZYHNJ2VabFYMH36dEVzfH194eXl1XIWX1lZGY4ePYqYmBhFc7/b56xbtw5eXl6YOnWqXe7b1jjfYX9jt/KuDRcuXKAxY8ZQZGQkJSYm0unTp5WMoyeffJKCgoJIp9NR7969aeDAgYrm5efnEwAaMGAAxcfHU3x8PI0aNUqxvNzcXBo5ciTFxMRQXFwcTZs2zaF76hwxyT07O5sSEhIoNjaWYmJiKCkpiXJychTPnDx5csvzunXrVkXziIh+9KMf0bvvvqt4TrP333+/5fHFxMTQP//5T0XznnjiCYqOjqaBAwfSwoUL7b5319ZnvaioiKZPn04RERE0ZMgQSk9PVzTvxRdfpKCgIPL09CQ/Pz8KCgqikpISRTP1ej0FBwe39Dnx8fF22dvSVt6tW7do7NixNHToUIqPj6exY8fS/v377zrLVt732XuSe1uZN2/epMTExJbPx9SpUykzM1OxPCKisrIymjNnDg0dOpSGDh1Kb731lqJ5RETz58+n559/3i45HeXt3buXhg8fTnFxcTR48GB65ZVXFM984YUXKDIykiIiImjOnDl07do1u+S1N8531N/wpXIYY4wxxuyMJ7kzxhhjjNkZF1iMMcYYY3bGBRZjjDHGmJ39fzBsfzBv2r1gAAAAAElFTkSuQmCC\" />"
      ]
     },
     "execution_count": 35,
     "metadata": {},
     "output_type": "execute_result"
    }
   ],
   "source": [
    "using Plots\n",
    "pyplot()\n",
    "\n",
    "plot(0:0.1:20, fnl,label = \"Função\", xticks = 0:1:20, yticks = -20:2:20)\n",
    "plot!(0:0.1:20, zero, label = \"Zero\")"
   ]
  },
  {
   "cell_type": "markdown",
   "metadata": {},
   "source": [
    "O gráfico da função genérica `fnl` apresenta várias raízes próximas de $x = 2$, $x = 5$, $x = 8$, $x = 11$, $x = 14$ e $x = 17$"
   ]
  },
  {
   "cell_type": "markdown",
   "metadata": {},
   "source": []
  },
  {
   "cell_type": "code",
   "execution_count": 37,
   "metadata": {
    "collapsed": false,
    "scrolled": false
   },
   "outputs": [
    {
     "data": {
      "text/plain": [
       "(x,)"
      ]
     },
     "execution_count": 37,
     "metadata": {},
     "output_type": "execute_result"
    }
   ],
   "source": [
    "using SymPy\n",
    "@syms x"
   ]
  },
  {
   "cell_type": "code",
   "execution_count": 38,
   "metadata": {
    "collapsed": false,
    "scrolled": false
   },
   "outputs": [
    {
     "name": "stdout",
     "output_type": "stream",
     "text": [
      "raiz1 = 1.7744741954672503\n",
      "raiz2 = 4.807741010888786\n",
      "raiz3 = 7.915602479014834\n"
     ]
    }
   ],
   "source": [
    "raiz1 = Float64(nsolve(fnl(x), 2))\n",
    "raiz2 = Float64(nsolve(fnl(x), 5))\n",
    "raiz3 = Float64(nsolve(fnl(x), 7))\n",
    "\n",
    "@show raiz1\n",
    "@show raiz2\n",
    "@show raiz3;"
   ]
  },
  {
   "cell_type": "code",
   "execution_count": 39,
   "metadata": {
    "collapsed": false,
    "scrolled": true
   },
   "outputs": [
    {
     "name": "stdout",
     "output_type": "stream",
     "text": [
      "fnl(raiz1) = 0.0\n",
      "fnl(raiz2) = 1.8318679906315083e-15\n",
      "fnl(raiz3) = 1.6653345369377348e-15\n"
     ]
    }
   ],
   "source": [
    "#testando. veja que o resultado é bem próximo de zero.\n",
    "@show fnl(raiz1)\n",
    "@show fnl(raiz2)\n",
    "@show fnl(raiz3);"
   ]
  },
  {
   "cell_type": "markdown",
   "metadata": {},
   "source": [
    "## RAIZ DE UM POLINOMIO (SOMENTE PARA POLINOMIOS)\n",
    "\n",
    "Usaremos o pacote  `SymPy` para encontrar a solução de polinômios.\n",
    "\n",
    "Dado um polinomio na forma:$P = a_0 +a_1x^1+a_2x^2+ .. + a_mx^n$, calculemos as raízes."
   ]
  },
  {
   "cell_type": "markdown",
   "metadata": {},
   "source": [
    "**Pacote SymPy**\n",
    "\n",
    "O Polinômio é definido pelo comando `Poly(expressão, variável)`. É possível utilizar somente uma expressão sem defini-la como polinômio, porém não será possível extrair os coeficientes e o grau. O resultado do comando é um dicionário contendo as raízes como chave e as multiplicidades como valores.\n",
    "Sintaxe:\n",
    "```julia\n",
    "polyroos(polinômio) # raízes e multiplicidade\n",
    "nroots(polinômio)   # raízes numéricas sem multiplicidade\n",
    "```\n"
   ]
  },
  {
   "cell_type": "code",
   "execution_count": 40,
   "metadata": {
    "collapsed": false,
    "scrolled": true
   },
   "outputs": [
    {
     "data": {
      "text/plain": [
       "(x,)"
      ]
     },
     "execution_count": 40,
     "metadata": {},
     "output_type": "execute_result"
    }
   ],
   "source": [
    "using SymPy\n",
    "@syms x"
   ]
  },
  {
   "cell_type": "code",
   "execution_count": 41,
   "metadata": {
    "collapsed": false,
    "scrolled": true
   },
   "outputs": [
    {
     "data": {
      "text/latex": [
       "$$\\operatorname{Poly}{\\left( - 7 x^{3} - x^{2} + 2 x - 4, x, domain=\\mathbb{Z} \\right)}$$"
      ],
      "text/plain": [
       "Poly(-7*x**3 - x**2 + 2*x - 4, x, domain='ZZ')"
      ]
     },
     "execution_count": 41,
     "metadata": {},
     "output_type": "execute_result"
    }
   ],
   "source": [
    "poli = Poly(-7*x^3 -x^2 + 2*x - 4)"
   ]
  },
  {
   "cell_type": "code",
   "execution_count": 42,
   "metadata": {
    "collapsed": false
   },
   "outputs": [
    {
     "data": {
      "text/latex": [
       "\\begin{bmatrix}-4\\\\2\\\\-1\\\\-7\\end{bmatrix}"
      ],
      "text/plain": [
       "4-element Array{SymPy.Sym,1}:\n",
       " -4\n",
       "  2\n",
       " -1\n",
       " -7"
      ]
     },
     "execution_count": 42,
     "metadata": {},
     "output_type": "execute_result"
    }
   ],
   "source": [
    "# coeficientes do polinômio\n",
    "coeffs(poli)"
   ]
  },
  {
   "cell_type": "code",
   "execution_count": 43,
   "metadata": {
    "collapsed": false
   },
   "outputs": [
    {
     "data": {
      "text/latex": [
       "$$3$$"
      ],
      "text/plain": [
       "3"
      ]
     },
     "execution_count": 43,
     "metadata": {},
     "output_type": "execute_result"
    }
   ],
   "source": [
    "# grau do polinômio\n",
    "degree(poli)"
   ]
  },
  {
   "cell_type": "code",
   "execution_count": 44,
   "metadata": {
    "collapsed": false
   },
   "outputs": [
    {
     "data": {
      "text/plain": [
       "Dict{Any,Any} with 3 entries:\n",
       "  3/7 - sqrt(19)*I/7 => 1\n",
       "  3/7 + sqrt(19)*I/7 => 1\n",
       "  -1                 => 1"
      ]
     },
     "execution_count": 44,
     "metadata": {},
     "output_type": "execute_result"
    }
   ],
   "source": [
    "# os valores \"1\", \"1\" e \"1\" representa a multiplicidade das raízes\n",
    "polyroots(poli)"
   ]
  },
  {
   "cell_type": "code",
   "execution_count": 45,
   "metadata": {
    "collapsed": false,
    "scrolled": true
   },
   "outputs": [
    {
     "data": {
      "text/plain": [
       "Base.KeyIterator for a Dict{Any,Any} with 3 entries. Keys:\n",
       "  3/7 - sqrt(19)*I/7\n",
       "  3/7 + sqrt(19)*I/7\n",
       "  -1"
      ]
     },
     "execution_count": 45,
     "metadata": {},
     "output_type": "execute_result"
    }
   ],
   "source": [
    "# para acessar somente os valores das raízes\n",
    "keys(polyroots(poli))"
   ]
  },
  {
   "cell_type": "code",
   "execution_count": 46,
   "metadata": {
    "collapsed": false
   },
   "outputs": [
    {
     "data": {
      "text/latex": [
       "\\begin{bmatrix}-1.0\\\\0.428571428571429 - 0.622699849077239 i\\\\0.428571428571429 + 0.622699849077239 i\\end{bmatrix}"
      ],
      "text/plain": [
       "3-element Array{SymPy.Sym,1}:\n",
       "                       -1.00000000000000\n",
       " 0.428571428571429 - 0.622699849077239*I\n",
       " 0.428571428571429 + 0.622699849077239*I"
      ]
     },
     "execution_count": 46,
     "metadata": {},
     "output_type": "execute_result"
    }
   ],
   "source": [
    "# raízes numéricas sem multiplicidade\n",
    "nroots(poli)"
   ]
  },
  {
   "cell_type": "markdown",
   "metadata": {},
   "source": [
    "## DOMÍNIO DE UMA INEQUAÇÃO\n",
    "\n",
    "SymPy:\n",
    "```\n",
    "Ge - Maior igual (great equal)\n",
    "Gt - Maior que   (great que)\n",
    "Eq - Igual       (Equal)\n",
    "Le - Menor igual (Less equal)\n",
    "Lt - Menor que   (Less then)\n",
    "Ne - Diferente   (not equal)\n",
    "∧  - E  lógico\n",
    "∨  - OU lógico\n",
    "```"
   ]
  },
  {
   "cell_type": "code",
   "execution_count": 30,
   "metadata": {
    "collapsed": false,
    "scrolled": true
   },
   "outputs": [
    {
     "ename": "LoadError",
     "evalue": "\u001b[91mArgumentError: Module SymPy not found in current path.\nRun `Pkg.add(\"SymPy\")` to install the SymPy package.\u001b[39m",
     "output_type": "error",
     "traceback": [
      "\u001b[91mArgumentError: Module SymPy not found in current path.\nRun `Pkg.add(\"SymPy\")` to install the SymPy package.\u001b[39m",
      "",
      "Stacktrace:",
      " [1] \u001b[1m_require\u001b[22m\u001b[22m\u001b[1m(\u001b[22m\u001b[22m::Symbol\u001b[1m)\u001b[22m\u001b[22m at \u001b[1m./loading.jl:435\u001b[22m\u001b[22m",
      " [2] \u001b[1mrequire\u001b[22m\u001b[22m\u001b[1m(\u001b[22m\u001b[22m::Symbol\u001b[1m)\u001b[22m\u001b[22m at \u001b[1m./loading.jl:405\u001b[22m\u001b[22m",
      " [3] \u001b[1minclude_string\u001b[22m\u001b[22m\u001b[1m(\u001b[22m\u001b[22m::String, ::String\u001b[1m)\u001b[22m\u001b[22m at \u001b[1m./loading.jl:522\u001b[22m\u001b[22m"
     ]
    }
   ],
   "source": [
    "using SymPy\n",
    "@syms x"
   ]
  },
  {
   "cell_type": "markdown",
   "metadata": {},
   "source": [
    "* **Inequação 1**\n",
    "\n",
    "$\\displaystyle {(x - 2)\\over(x-1)} \\geqslant 0$"
   ]
  },
  {
   "cell_type": "code",
   "execution_count": 31,
   "metadata": {
    "collapsed": false
   },
   "outputs": [
    {
     "ename": "LoadError",
     "evalue": "\u001b[91mUndefVarError: solve not defined\u001b[39m",
     "output_type": "error",
     "traceback": [
      "\u001b[91mUndefVarError: solve not defined\u001b[39m",
      "",
      "Stacktrace:",
      " [1] \u001b[1minclude_string\u001b[22m\u001b[22m\u001b[1m(\u001b[22m\u001b[22m::String, ::String\u001b[1m)\u001b[22m\u001b[22m at \u001b[1m./loading.jl:522\u001b[22m\u001b[22m"
     ]
    }
   ],
   "source": [
    "solve( Ge((x - 2)/(x-1), 0), x)"
   ]
  },
  {
   "cell_type": "markdown",
   "metadata": {},
   "source": [
    "Traduzindo: Valores de \"x\" maiores ou igual a 2 e menores que infinito OU \"x\" maior que menos infinito e \"x\" menor que 1"
   ]
  },
  {
   "cell_type": "markdown",
   "metadata": {
    "collapsed": false
   },
   "source": [
    "* ** Inequação 2**\n",
    "\n",
    "$\\displaystyle {(x - 2)\\over(x-1)} > 0$"
   ]
  },
  {
   "cell_type": "code",
   "execution_count": 32,
   "metadata": {
    "collapsed": false
   },
   "outputs": [
    {
     "ename": "LoadError",
     "evalue": "\u001b[91mUndefVarError: solve not defined\u001b[39m",
     "output_type": "error",
     "traceback": [
      "\u001b[91mUndefVarError: solve not defined\u001b[39m",
      "",
      "Stacktrace:",
      " [1] \u001b[1minclude_string\u001b[22m\u001b[22m\u001b[1m(\u001b[22m\u001b[22m::String, ::String\u001b[1m)\u001b[22m\u001b[22m at \u001b[1m./loading.jl:522\u001b[22m\u001b[22m"
     ]
    }
   ],
   "source": [
    "solve(Gt((x - 2)/(x-1),0), x)"
   ]
  },
  {
   "cell_type": "markdown",
   "metadata": {},
   "source": [
    "* ** Inequação 3**\n",
    "\n",
    "$\\displaystyle {(x - 2)\\over(x-1)} \\leqslant 0$"
   ]
  },
  {
   "cell_type": "code",
   "execution_count": 33,
   "metadata": {
    "collapsed": false,
    "scrolled": true
   },
   "outputs": [
    {
     "ename": "LoadError",
     "evalue": "\u001b[91mUndefVarError: solve not defined\u001b[39m",
     "output_type": "error",
     "traceback": [
      "\u001b[91mUndefVarError: solve not defined\u001b[39m",
      "",
      "Stacktrace:",
      " [1] \u001b[1minclude_string\u001b[22m\u001b[22m\u001b[1m(\u001b[22m\u001b[22m::String, ::String\u001b[1m)\u001b[22m\u001b[22m at \u001b[1m./loading.jl:522\u001b[22m\u001b[22m"
     ]
    }
   ],
   "source": [
    "solve(Le((x - 2)/(x-1), 0), x)"
   ]
  },
  {
   "cell_type": "markdown",
   "metadata": {},
   "source": [
    "* ** Inequação 4**\n",
    "\n",
    "$\\displaystyle {(x - 2)\\over(x-1)} < 0$"
   ]
  },
  {
   "cell_type": "code",
   "execution_count": 34,
   "metadata": {
    "collapsed": false,
    "scrolled": true
   },
   "outputs": [
    {
     "ename": "LoadError",
     "evalue": "\u001b[91mUndefVarError: solve not defined\u001b[39m",
     "output_type": "error",
     "traceback": [
      "\u001b[91mUndefVarError: solve not defined\u001b[39m",
      "",
      "Stacktrace:",
      " [1] \u001b[1minclude_string\u001b[22m\u001b[22m\u001b[1m(\u001b[22m\u001b[22m::String, ::String\u001b[1m)\u001b[22m\u001b[22m at \u001b[1m./loading.jl:522\u001b[22m\u001b[22m"
     ]
    }
   ],
   "source": [
    "solve(Lt((x - 2)/(x-1), 0), x)"
   ]
  },
  {
   "cell_type": "markdown",
   "metadata": {},
   "source": [
    "* ** Inequação 5**\n",
    "\n",
    "$\\displaystyle {(x - 2)\\over(x-1)} \\neq 0$"
   ]
  },
  {
   "cell_type": "code",
   "execution_count": 35,
   "metadata": {
    "collapsed": false
   },
   "outputs": [
    {
     "ename": "LoadError",
     "evalue": "\u001b[91mUndefVarError: solve not defined\u001b[39m",
     "output_type": "error",
     "traceback": [
      "\u001b[91mUndefVarError: solve not defined\u001b[39m",
      "",
      "Stacktrace:",
      " [1] \u001b[1minclude_string\u001b[22m\u001b[22m\u001b[1m(\u001b[22m\u001b[22m::String, ::String\u001b[1m)\u001b[22m\u001b[22m at \u001b[1m./loading.jl:522\u001b[22m\u001b[22m"
     ]
    }
   ],
   "source": [
    "solve(Ne((x - 2)/(x-1), 0), x)"
   ]
  },
  {
   "cell_type": "markdown",
   "metadata": {
    "collapsed": true
   },
   "source": [
    "## SISTEMAS DE EQUAÇÕES LINEARES E NÃO LINEARES "
   ]
  },
  {
   "cell_type": "markdown",
   "metadata": {},
   "source": [
    "### SISTEMAS DE EQUAÇÕES LINEARES\n",
    "\n",
    "Dado o sistema abaixo:\n",
    "\n",
    "\n",
    "$2x + 3y - 6 = 0$\n",
    "\n",
    "$3x - 4y - 12 = 0$\n",
    "\n",
    "Calcular as raízes"
   ]
  },
  {
   "cell_type": "code",
   "execution_count": 36,
   "metadata": {
    "collapsed": false
   },
   "outputs": [
    {
     "data": {
      "text/plain": [
       "eql_2 (generic function with 1 method)"
      ]
     },
     "execution_count": 36,
     "metadata": {},
     "output_type": "execute_result"
    }
   ],
   "source": [
    "# Funções Lineares\n",
    "\n",
    "eql_1(x,y) = 2*x + 3*y - 6\n",
    "eql_2(x,y) = 3*x - 4*y - 12"
   ]
  },
  {
   "cell_type": "markdown",
   "metadata": {},
   "source": [
    "* **Gráfico**\n",
    "\n",
    "O gráfico permite observar o ponto de cruzamento das retas que corresponde à solução do problema."
   ]
  },
  {
   "cell_type": "markdown",
   "metadata": {},
   "source": [
    "**Usando o SymPy**\n",
    "\n",
    "Ge, Gt, Eq"
   ]
  },
  {
   "cell_type": "code",
   "execution_count": 37,
   "metadata": {
    "collapsed": false
   },
   "outputs": [
    {
     "ename": "LoadError",
     "evalue": "\u001b[91mArgumentError: Module SymPy not found in current path.\nRun `Pkg.add(\"SymPy\")` to install the SymPy package.\u001b[39m",
     "output_type": "error",
     "traceback": [
      "\u001b[91mArgumentError: Module SymPy not found in current path.\nRun `Pkg.add(\"SymPy\")` to install the SymPy package.\u001b[39m",
      "",
      "Stacktrace:",
      " [1] \u001b[1m_require\u001b[22m\u001b[22m\u001b[1m(\u001b[22m\u001b[22m::Symbol\u001b[1m)\u001b[22m\u001b[22m at \u001b[1m./loading.jl:435\u001b[22m\u001b[22m",
      " [2] \u001b[1mrequire\u001b[22m\u001b[22m\u001b[1m(\u001b[22m\u001b[22m::Symbol\u001b[1m)\u001b[22m\u001b[22m at \u001b[1m./loading.jl:405\u001b[22m\u001b[22m",
      " [3] \u001b[1minclude_string\u001b[22m\u001b[22m\u001b[1m(\u001b[22m\u001b[22m::String, ::String\u001b[1m)\u001b[22m\u001b[22m at \u001b[1m./loading.jl:522\u001b[22m\u001b[22m"
     ]
    }
   ],
   "source": [
    "using SymPy\n",
    "@syms x y"
   ]
  },
  {
   "cell_type": "code",
   "execution_count": 38,
   "metadata": {
    "collapsed": false
   },
   "outputs": [
    {
     "ename": "LoadError",
     "evalue": "\u001b[91mUndefVarError: plot_implicit not defined\u001b[39m",
     "output_type": "error",
     "traceback": [
      "\u001b[91mUndefVarError: plot_implicit not defined\u001b[39m",
      "",
      "Stacktrace:",
      " [1] \u001b[1minclude_string\u001b[22m\u001b[22m\u001b[1m(\u001b[22m\u001b[22m::String, ::String\u001b[1m)\u001b[22m\u001b[22m at \u001b[1m./loading.jl:522\u001b[22m\u001b[22m"
     ]
    }
   ],
   "source": [
    "plot_implicit(Or(Eq(eql_1(x,y), 0), Eq(eql_2(x,y), 0)), (x, -5, 5), (y, -5, 5));"
   ]
  },
  {
   "cell_type": "markdown",
   "metadata": {},
   "source": [
    "<img src=\"Figuras/plot_implict_1.png\" align=\"center\" width=\"500\">"
   ]
  },
  {
   "cell_type": "markdown",
   "metadata": {},
   "source": [
    "**Usando o ImplicitEquations**"
   ]
  },
  {
   "cell_type": "code",
   "execution_count": 39,
   "metadata": {
    "collapsed": false,
    "scrolled": true
   },
   "outputs": [
    {
     "ename": "LoadError",
     "evalue": "\u001b[91mUndefVarError: Ge not defined\u001b[39m",
     "output_type": "error",
     "traceback": [
      "\u001b[91mUndefVarError: Ge not defined\u001b[39m",
      "",
      "Stacktrace:",
      " [1] \u001b[1minclude_string\u001b[22m\u001b[22m\u001b[1m(\u001b[22m\u001b[22m::String, ::String\u001b[1m)\u001b[22m\u001b[22m at \u001b[1m./loading.jl:522\u001b[22m\u001b[22m"
     ]
    }
   ],
   "source": [
    "f(x,y) = (y-5)* cos(4sqrt((x-4)^2 +y^2))\n",
    "g(x,y) = x * sin(2*sqrt(x^2 + y^2))\n",
    "\n",
    "plot(Ge(f,  g), xlims=(-10, 10), ylims=(-10, 10))"
   ]
  },
  {
   "cell_type": "markdown",
   "metadata": {},
   "source": [
    "* **Solução**"
   ]
  },
  {
   "cell_type": "markdown",
   "metadata": {},
   "source": [
    "**Usando o SymPy**\n",
    "\n",
    "O comando `solve()` . Sintaxe:\n",
    "```julia\n",
    "solve([função/expressão_1 , ..., função/expressão_n] , [var_1,...,var_n])\n",
    "```"
   ]
  },
  {
   "cell_type": "code",
   "execution_count": 40,
   "metadata": {
    "collapsed": false
   },
   "outputs": [
    {
     "ename": "LoadError",
     "evalue": "\u001b[91mArgumentError: Module SymPy not found in current path.\nRun `Pkg.add(\"SymPy\")` to install the SymPy package.\u001b[39m",
     "output_type": "error",
     "traceback": [
      "\u001b[91mArgumentError: Module SymPy not found in current path.\nRun `Pkg.add(\"SymPy\")` to install the SymPy package.\u001b[39m",
      "",
      "Stacktrace:",
      " [1] \u001b[1m_require\u001b[22m\u001b[22m\u001b[1m(\u001b[22m\u001b[22m::Symbol\u001b[1m)\u001b[22m\u001b[22m at \u001b[1m./loading.jl:435\u001b[22m\u001b[22m",
      " [2] \u001b[1mrequire\u001b[22m\u001b[22m\u001b[1m(\u001b[22m\u001b[22m::Symbol\u001b[1m)\u001b[22m\u001b[22m at \u001b[1m./loading.jl:405\u001b[22m\u001b[22m",
      " [3] \u001b[1minclude_string\u001b[22m\u001b[22m\u001b[1m(\u001b[22m\u001b[22m::String, ::String\u001b[1m)\u001b[22m\u001b[22m at \u001b[1m./loading.jl:522\u001b[22m\u001b[22m"
     ]
    }
   ],
   "source": [
    "using SymPy\n",
    "@syms x y"
   ]
  },
  {
   "cell_type": "code",
   "execution_count": 41,
   "metadata": {
    "collapsed": false,
    "scrolled": true
   },
   "outputs": [
    {
     "ename": "LoadError",
     "evalue": "\u001b[91mUndefVarError: solve not defined\u001b[39m",
     "output_type": "error",
     "traceback": [
      "\u001b[91mUndefVarError: solve not defined\u001b[39m",
      "",
      "Stacktrace:",
      " [1] \u001b[1minclude_string\u001b[22m\u001b[22m\u001b[1m(\u001b[22m\u001b[22m::String, ::String\u001b[1m)\u001b[22m\u001b[22m at \u001b[1m./loading.jl:522\u001b[22m\u001b[22m"
     ]
    }
   ],
   "source": [
    "sol_sys = solve([eql_1(x,y) , eql_2(x,y) ], [x , y])"
   ]
  },
  {
   "cell_type": "code",
   "execution_count": 42,
   "metadata": {
    "collapsed": false
   },
   "outputs": [
    {
     "ename": "LoadError",
     "evalue": "\u001b[91mUndefVarError: sol_sys not defined\u001b[39m",
     "output_type": "error",
     "traceback": [
      "\u001b[91mUndefVarError: sol_sys not defined\u001b[39m",
      "",
      "Stacktrace:",
      " [1] \u001b[1minclude_string\u001b[22m\u001b[22m\u001b[1m(\u001b[22m\u001b[22m::String, ::String\u001b[1m)\u001b[22m\u001b[22m at \u001b[1m./loading.jl:522\u001b[22m\u001b[22m"
     ]
    }
   ],
   "source": [
    "typeof(sol_sys)"
   ]
  },
  {
   "cell_type": "markdown",
   "metadata": {},
   "source": [
    "O SymPy fornece a resposta na forma `Dict{SymPy.Sym,SymPy.Sym}`(Dicionário de tipos simbólicos ). É interessante tranformar os dados em `Float` para manipulá-los. "
   ]
  },
  {
   "cell_type": "code",
   "execution_count": 43,
   "metadata": {
    "collapsed": false
   },
   "outputs": [
    {
     "ename": "LoadError",
     "evalue": "\u001b[91mUndefVarError: sol_sys not defined\u001b[39m",
     "output_type": "error",
     "traceback": [
      "\u001b[91mUndefVarError: sol_sys not defined\u001b[39m",
      "",
      "Stacktrace:",
      " [1] \u001b[1minclude_string\u001b[22m\u001b[22m\u001b[1m(\u001b[22m\u001b[22m::String, ::String\u001b[1m)\u001b[22m\u001b[22m at \u001b[1m./loading.jl:522\u001b[22m\u001b[22m"
     ]
    }
   ],
   "source": [
    "xs , ys = float(sol_sys[x]), float(sol_sys[y])"
   ]
  },
  {
   "cell_type": "code",
   "execution_count": 44,
   "metadata": {
    "collapsed": false
   },
   "outputs": [
    {
     "ename": "LoadError",
     "evalue": "\u001b[91mUndefVarError: xs not defined\u001b[39m",
     "output_type": "error",
     "traceback": [
      "\u001b[91mUndefVarError: xs not defined\u001b[39m",
      "",
      "Stacktrace:",
      " [1] \u001b[1minclude_string\u001b[22m\u001b[22m\u001b[1m(\u001b[22m\u001b[22m::String, ::String\u001b[1m)\u001b[22m\u001b[22m at \u001b[1m./loading.jl:522\u001b[22m\u001b[22m"
     ]
    }
   ],
   "source": [
    "# testando\n",
    "@show eql_1(xs, ys)\n",
    "@show eql_2(xs, ys);"
   ]
  },
  {
   "cell_type": "markdown",
   "metadata": {},
   "source": [
    "### SISTEMAS DE EQUAÇÕES NÃO LINEARES"
   ]
  },
  {
   "cell_type": "markdown",
   "metadata": {
    "collapsed": false
   },
   "source": [
    "Dado o sistema abaixo:\n",
    "\n",
    "${\\begin{cases}\n",
    "& xy -2x = 0 \\\\ \n",
    "&- x^2 + 8y -2 = 0 \n",
    "\\end{cases}}$\n"
   ]
  },
  {
   "cell_type": "code",
   "execution_count": 45,
   "metadata": {
    "collapsed": false
   },
   "outputs": [
    {
     "data": {
      "text/plain": [
       "eqnl_2 (generic function with 1 method)"
      ]
     },
     "execution_count": 45,
     "metadata": {},
     "output_type": "execute_result"
    }
   ],
   "source": [
    "# Funções \n",
    "eqnl_1(x,y) = 3*x + cos(y)  - 5\n",
    "eqnl_2(x,y) = -sin(x) + y - 2"
   ]
  },
  {
   "cell_type": "markdown",
   "metadata": {},
   "source": [
    "* **Método Gráfico**\n",
    "\n",
    "O gráfico permite observar o ponto de intercepção das curvas que corresponde à solução do problema. É um método simples e não preciso, porém serve de referência para o resultado numérico."
   ]
  },
  {
   "cell_type": "markdown",
   "metadata": {},
   "source": [
    "**Usando o SymPy**"
   ]
  },
  {
   "cell_type": "code",
   "execution_count": 46,
   "metadata": {
    "collapsed": false
   },
   "outputs": [
    {
     "ename": "LoadError",
     "evalue": "\u001b[91mArgumentError: Module SymPy not found in current path.\nRun `Pkg.add(\"SymPy\")` to install the SymPy package.\u001b[39m",
     "output_type": "error",
     "traceback": [
      "\u001b[91mArgumentError: Module SymPy not found in current path.\nRun `Pkg.add(\"SymPy\")` to install the SymPy package.\u001b[39m",
      "",
      "Stacktrace:",
      " [1] \u001b[1m_require\u001b[22m\u001b[22m\u001b[1m(\u001b[22m\u001b[22m::Symbol\u001b[1m)\u001b[22m\u001b[22m at \u001b[1m./loading.jl:435\u001b[22m\u001b[22m",
      " [2] \u001b[1mrequire\u001b[22m\u001b[22m\u001b[1m(\u001b[22m\u001b[22m::Symbol\u001b[1m)\u001b[22m\u001b[22m at \u001b[1m./loading.jl:405\u001b[22m\u001b[22m",
      " [3] \u001b[1minclude_string\u001b[22m\u001b[22m\u001b[1m(\u001b[22m\u001b[22m::String, ::String\u001b[1m)\u001b[22m\u001b[22m at \u001b[1m./loading.jl:522\u001b[22m\u001b[22m"
     ]
    }
   ],
   "source": [
    "using SymPy\n",
    "@syms x y"
   ]
  },
  {
   "cell_type": "code",
   "execution_count": 47,
   "metadata": {
    "collapsed": false
   },
   "outputs": [
    {
     "ename": "LoadError",
     "evalue": "\u001b[91mUndefVarError: plot_implicit not defined\u001b[39m",
     "output_type": "error",
     "traceback": [
      "\u001b[91mUndefVarError: plot_implicit not defined\u001b[39m",
      "",
      "Stacktrace:",
      " [1] \u001b[1minclude_string\u001b[22m\u001b[22m\u001b[1m(\u001b[22m\u001b[22m::String, ::String\u001b[1m)\u001b[22m\u001b[22m at \u001b[1m./loading.jl:522\u001b[22m\u001b[22m"
     ]
    }
   ],
   "source": [
    "plot_implicit(Or(Eq(eqnl_1(x,y), 0), Eq(eqnl_2(x,y), 0)), (x, -5, 5), (y, -5, 5));"
   ]
  },
  {
   "cell_type": "markdown",
   "metadata": {},
   "source": [
    "<img src=\"Figuras/plot_implict_4.png\" align=\"center\" width=\"500\">"
   ]
  },
  {
   "cell_type": "markdown",
   "metadata": {},
   "source": [
    "**Usando o ImplicitEquations**"
   ]
  },
  {
   "cell_type": "code",
   "execution_count": 48,
   "metadata": {
    "collapsed": false,
    "scrolled": false
   },
   "outputs": [
    {
     "ename": "LoadError",
     "evalue": "\u001b[91mArgumentError: Module ImplicitEquations not found in current path.\nRun `Pkg.add(\"ImplicitEquations\")` to install the ImplicitEquations package.\u001b[39m",
     "output_type": "error",
     "traceback": [
      "\u001b[91mArgumentError: Module ImplicitEquations not found in current path.\nRun `Pkg.add(\"ImplicitEquations\")` to install the ImplicitEquations package.\u001b[39m",
      "",
      "Stacktrace:",
      " [1] \u001b[1m_require\u001b[22m\u001b[22m\u001b[1m(\u001b[22m\u001b[22m::Symbol\u001b[1m)\u001b[22m\u001b[22m at \u001b[1m./loading.jl:435\u001b[22m\u001b[22m",
      " [2] \u001b[1mrequire\u001b[22m\u001b[22m\u001b[1m(\u001b[22m\u001b[22m::Symbol\u001b[1m)\u001b[22m\u001b[22m at \u001b[1m./loading.jl:405\u001b[22m\u001b[22m",
      " [3] \u001b[1minclude_string\u001b[22m\u001b[22m\u001b[1m(\u001b[22m\u001b[22m::String, ::String\u001b[1m)\u001b[22m\u001b[22m at \u001b[1m./loading.jl:522\u001b[22m\u001b[22m"
     ]
    }
   ],
   "source": [
    "using Plots, ImplicitEquations\n",
    "pyplot()\n",
    "\n",
    "plot(eqnl_1 == 0)\n",
    "plot!(eqnl_2 == 0)"
   ]
  },
  {
   "cell_type": "markdown",
   "metadata": {},
   "source": [
    "* **Solução**"
   ]
  },
  {
   "cell_type": "markdown",
   "metadata": {},
   "source": [
    "A saída é um vetor contendo as raízes do problema.\n",
    "Sintaxe: \n",
    "```julia\n",
    "nsolve([expressão/função_1,..., expressão/função_n], [var_1,..., var_n], [valor_var_1,..., valor_var_n])\n",
    "```"
   ]
  },
  {
   "cell_type": "code",
   "execution_count": 49,
   "metadata": {
    "collapsed": false,
    "scrolled": false
   },
   "outputs": [
    {
     "ename": "LoadError",
     "evalue": "\u001b[91mUndefVarError: nsolve not defined\u001b[39m",
     "output_type": "error",
     "traceback": [
      "\u001b[91mUndefVarError: nsolve not defined\u001b[39m",
      "",
      "Stacktrace:",
      " [1] \u001b[1minclude_string\u001b[22m\u001b[22m\u001b[1m(\u001b[22m\u001b[22m::String, ::String\u001b[1m)\u001b[22m\u001b[22m at \u001b[1m./loading.jl:522\u001b[22m\u001b[22m"
     ]
    }
   ],
   "source": [
    "sol_nlsys = nsolve([eqnl_1(x,y) , eqnl_2(x,y) ],[x , y], [1,1])"
   ]
  },
  {
   "cell_type": "code",
   "execution_count": 50,
   "metadata": {
    "collapsed": false
   },
   "outputs": [
    {
     "ename": "LoadError",
     "evalue": "\u001b[91mUndefVarError: sol_nlsys not defined\u001b[39m",
     "output_type": "error",
     "traceback": [
      "\u001b[91mUndefVarError: sol_nlsys not defined\u001b[39m",
      "",
      "Stacktrace:",
      " [1] \u001b[1minclude_string\u001b[22m\u001b[22m\u001b[1m(\u001b[22m\u001b[22m::String, ::String\u001b[1m)\u001b[22m\u001b[22m at \u001b[1m./loading.jl:522\u001b[22m\u001b[22m"
     ]
    }
   ],
   "source": [
    "# Acessar somente o primeiro valor\n",
    "sol_nlsys[1]"
   ]
  },
  {
   "cell_type": "markdown",
   "metadata": {},
   "source": [
    "## PACOTE SUNDIALS\n",
    "\n",
    "Sintaxe:\n",
    "```julia\n",
    "    function nome_função(var, função)\n",
    "        função[1] = a*var[1] + b*var[2] + ... + k     \n",
    "        função[2] = a*var[1] + b*var[2] + ... + k\n",
    "    end\n",
    "    \n",
    "    Sundials.kinsol(nome_função, vetor_inicial)\n",
    "```\n",
    "Sendo:\n",
    "\n",
    "- função[1] e função[2]: corresponde as funções do sistema.\n",
    "- a,b,... e k:  valor das constantes. \n",
    "- var[1] e var[2]:  corresponde a primeira variável `x` a segunda variável `y` e assim por diante. \n",
    "- Vetor_inicial:  corresponde a o vetor de soluções (\"valor\") iniciais do sistema.\n",
    "\n",
    "O resultado do comando é um vetor contendo os valores da solução do sistema."
   ]
  },
  {
   "cell_type": "code",
   "execution_count": 51,
   "metadata": {
    "collapsed": false
   },
   "outputs": [
    {
     "ename": "LoadError",
     "evalue": "\u001b[91mArgumentError: Module Sundials not found in current path.\nRun `Pkg.add(\"Sundials\")` to install the Sundials package.\u001b[39m",
     "output_type": "error",
     "traceback": [
      "\u001b[91mArgumentError: Module Sundials not found in current path.\nRun `Pkg.add(\"Sundials\")` to install the Sundials package.\u001b[39m",
      "",
      "Stacktrace:",
      " [1] \u001b[1m_require\u001b[22m\u001b[22m\u001b[1m(\u001b[22m\u001b[22m::Symbol\u001b[1m)\u001b[22m\u001b[22m at \u001b[1m./loading.jl:435\u001b[22m\u001b[22m",
      " [2] \u001b[1mrequire\u001b[22m\u001b[22m\u001b[1m(\u001b[22m\u001b[22m::Symbol\u001b[1m)\u001b[22m\u001b[22m at \u001b[1m./loading.jl:405\u001b[22m\u001b[22m",
      " [3] \u001b[1minclude_string\u001b[22m\u001b[22m\u001b[1m(\u001b[22m\u001b[22m::String, ::String\u001b[1m)\u001b[22m\u001b[22m at \u001b[1m./loading.jl:522\u001b[22m\u001b[22m"
     ]
    }
   ],
   "source": [
    "using Sundials"
   ]
  },
  {
   "cell_type": "code",
   "execution_count": 52,
   "metadata": {
    "collapsed": false
   },
   "outputs": [
    {
     "data": {
      "text/plain": [
       "sistema_SD (generic function with 1 method)"
      ]
     },
     "execution_count": 52,
     "metadata": {},
     "output_type": "execute_result"
    }
   ],
   "source": [
    "function sistema_SD(x, função)\n",
    "    função[1] = 3*x[1] + cos(x[2]) - 5\n",
    "    \n",
    "    função[2] = -sin(x[1]) + x[2] - 2\n",
    "end"
   ]
  },
  {
   "cell_type": "code",
   "execution_count": 53,
   "metadata": {
    "collapsed": false,
    "scrolled": false
   },
   "outputs": [
    {
     "ename": "LoadError",
     "evalue": "\u001b[91mUndefVarError: Sundials not defined\u001b[39m",
     "output_type": "error",
     "traceback": [
      "\u001b[91mUndefVarError: Sundials not defined\u001b[39m",
      "",
      "Stacktrace:",
      " [1] \u001b[1minclude_string\u001b[22m\u001b[22m\u001b[1m(\u001b[22m\u001b[22m::String, ::String\u001b[1m)\u001b[22m\u001b[22m at \u001b[1m./loading.jl:522\u001b[22m\u001b[22m"
     ]
    }
   ],
   "source": [
    "solSD = Sundials.kinsol(sistema_SD, [1.0, 1.0])"
   ]
  },
  {
   "cell_type": "code",
   "execution_count": 54,
   "metadata": {
    "collapsed": false
   },
   "outputs": [
    {
     "ename": "LoadError",
     "evalue": "\u001b[91mUndefVarError: solSD not defined\u001b[39m",
     "output_type": "error",
     "traceback": [
      "\u001b[91mUndefVarError: solSD not defined\u001b[39m",
      "",
      "Stacktrace:",
      " [1] \u001b[1minclude_string\u001b[22m\u001b[22m\u001b[1m(\u001b[22m\u001b[22m::String, ::String\u001b[1m)\u001b[22m\u001b[22m at \u001b[1m./loading.jl:522\u001b[22m\u001b[22m"
     ]
    }
   ],
   "source": [
    "# para acessar somente o valor de X\n",
    "solSD[1]"
   ]
  },
  {
   "cell_type": "code",
   "execution_count": 55,
   "metadata": {
    "collapsed": false
   },
   "outputs": [
    {
     "ename": "LoadError",
     "evalue": "\u001b[91mUndefVarError: solSD not defined\u001b[39m",
     "output_type": "error",
     "traceback": [
      "\u001b[91mUndefVarError: solSD not defined\u001b[39m",
      "",
      "Stacktrace:",
      " [1] \u001b[1minclude_string\u001b[22m\u001b[22m\u001b[1m(\u001b[22m\u001b[22m::String, ::String\u001b[1m)\u001b[22m\u001b[22m at \u001b[1m./loading.jl:522\u001b[22m\u001b[22m"
     ]
    }
   ],
   "source": [
    "# para acessar somente o valor de Y\n",
    "solSD[2]"
   ]
  },
  {
   "cell_type": "code",
   "execution_count": 56,
   "metadata": {
    "collapsed": false
   },
   "outputs": [
    {
     "ename": "LoadError",
     "evalue": "\u001b[91msyntax: incomplete: premature end of input\u001b[39m",
     "output_type": "error",
     "traceback": [
      "\u001b[91msyntax: incomplete: premature end of input\u001b[39m",
      "",
      "Stacktrace:",
      " [1] \u001b[1minclude_string\u001b[22m\u001b[22m\u001b[1m(\u001b[22m\u001b[22m::String, ::String\u001b[1m)\u001b[22m\u001b[22m at \u001b[1m./loading.jl:522\u001b[22m\u001b[22m"
     ]
    }
   ],
   "source": [
    "solSD."
   ]
  },
  {
   "cell_type": "markdown",
   "metadata": {},
   "source": [
    "## PACOTE NLsolve\n",
    "\n",
    "Sintaxe:\n",
    "```julia\n",
    "    function nome_função(var, função)\n",
    "        função[1] = a*var[1] + b*var[2] + ... + k     \n",
    "        função[2] = a*var[1] + b*var[2] + ... + k\n",
    "    end\n",
    "    \n",
    "    nlsolve(nome_funcao,  vetor_inicial)\n",
    "```\n",
    "Sendo:\n",
    "\n",
    "- função[1] e função[2]: corresponde as funções do sistema.\n",
    "- a,b,... e k:  valor das constantes. \n",
    "- var[1] e var[2]:  corresponde a primeira variável `x` a segunda variável `y` e assim por diante. \n",
    "- Vetor_inicial:  corresponde a o vetor de soluções (\"valor\") iniciais do sistema.\n",
    "\n",
    "O valor de retorno da função `nlsolve()` é do tipo \"NLsolve.SolverResults{Float64}\"."
   ]
  },
  {
   "cell_type": "code",
   "execution_count": 57,
   "metadata": {
    "collapsed": false
   },
   "outputs": [
    {
     "ename": "LoadError",
     "evalue": "\u001b[91mArgumentError: Module NLsolve not found in current path.\nRun `Pkg.add(\"NLsolve\")` to install the NLsolve package.\u001b[39m",
     "output_type": "error",
     "traceback": [
      "\u001b[91mArgumentError: Module NLsolve not found in current path.\nRun `Pkg.add(\"NLsolve\")` to install the NLsolve package.\u001b[39m",
      "",
      "Stacktrace:",
      " [1] \u001b[1m_require\u001b[22m\u001b[22m\u001b[1m(\u001b[22m\u001b[22m::Symbol\u001b[1m)\u001b[22m\u001b[22m at \u001b[1m./loading.jl:435\u001b[22m\u001b[22m",
      " [2] \u001b[1mrequire\u001b[22m\u001b[22m\u001b[1m(\u001b[22m\u001b[22m::Symbol\u001b[1m)\u001b[22m\u001b[22m at \u001b[1m./loading.jl:405\u001b[22m\u001b[22m",
      " [3] \u001b[1minclude_string\u001b[22m\u001b[22m\u001b[1m(\u001b[22m\u001b[22m::String, ::String\u001b[1m)\u001b[22m\u001b[22m at \u001b[1m./loading.jl:522\u001b[22m\u001b[22m"
     ]
    }
   ],
   "source": [
    "using NLsolve"
   ]
  },
  {
   "cell_type": "code",
   "execution_count": 58,
   "metadata": {
    "collapsed": false
   },
   "outputs": [
    {
     "data": {
      "text/plain": [
       "sistema_NLS (generic function with 1 method)"
      ]
     },
     "execution_count": 58,
     "metadata": {},
     "output_type": "execute_result"
    }
   ],
   "source": [
    "function sistema_NLS(x, função)\n",
    "    função[1] = 3*x[1] + cos(x[2]) - 5\n",
    "    \n",
    "    função[2] = -sin(x[1]) + x[2] - 2\n",
    "end"
   ]
  },
  {
   "cell_type": "code",
   "execution_count": 59,
   "metadata": {
    "collapsed": false,
    "scrolled": true
   },
   "outputs": [
    {
     "ename": "LoadError",
     "evalue": "\u001b[91mUndefVarError: nlsolve not defined\u001b[39m",
     "output_type": "error",
     "traceback": [
      "\u001b[91mUndefVarError: nlsolve not defined\u001b[39m",
      "",
      "Stacktrace:",
      " [1] \u001b[1minclude_string\u001b[22m\u001b[22m\u001b[1m(\u001b[22m\u001b[22m::String, ::String\u001b[1m)\u001b[22m\u001b[22m at \u001b[1m./loading.jl:522\u001b[22m\u001b[22m"
     ]
    }
   ],
   "source": [
    "solNLS = nlsolve(sistema_NLS, [ 1.0, 1.0])"
   ]
  },
  {
   "cell_type": "code",
   "execution_count": 60,
   "metadata": {
    "collapsed": false
   },
   "outputs": [
    {
     "ename": "LoadError",
     "evalue": "\u001b[91mUndefVarError: solNLS not defined\u001b[39m",
     "output_type": "error",
     "traceback": [
      "\u001b[91mUndefVarError: solNLS not defined\u001b[39m",
      "",
      "Stacktrace:",
      " [1] \u001b[1minclude_string\u001b[22m\u001b[22m\u001b[1m(\u001b[22m\u001b[22m::String, ::String\u001b[1m)\u001b[22m\u001b[22m at \u001b[1m./loading.jl:522\u001b[22m\u001b[22m"
     ]
    }
   ],
   "source": [
    "typeof(solNLS)"
   ]
  },
  {
   "cell_type": "markdown",
   "metadata": {},
   "source": [
    "De acordo com o resultado do sistema de equações não lineares, a função `nlsolve()` retorna várias informações importantes do processo de cálculo que podem ser acessadas utilizando \".\" e \"tab\". São elas:\n",
    "* initial_x:\n",
    "* zero:\n",
    "* residual_norm:\n",
    "* iterations: para acessar somente a quantidade de interações. Menos interações, siginifica processamento mais rápido.\n",
    "* x_converged:\n",
    "* xtol:\n",
    "* f_converged:\n",
    "* ftol:\n",
    "* trace:\n",
    "* f_calls:\n",
    "* g_calls:"
   ]
  },
  {
   "cell_type": "code",
   "execution_count": 61,
   "metadata": {
    "collapsed": false
   },
   "outputs": [
    {
     "ename": "LoadError",
     "evalue": "\u001b[91mUndefVarError: solNLS not defined\u001b[39m",
     "output_type": "error",
     "traceback": [
      "\u001b[91mUndefVarError: solNLS not defined\u001b[39m",
      "",
      "Stacktrace:",
      " [1] \u001b[1minclude_string\u001b[22m\u001b[22m\u001b[1m(\u001b[22m\u001b[22m::String, ::String\u001b[1m)\u001b[22m\u001b[22m at \u001b[1m./loading.jl:522\u001b[22m\u001b[22m"
     ]
    }
   ],
   "source": [
    "# para acessar somente os valores das soluções\n",
    "solNLS.zero"
   ]
  },
  {
   "cell_type": "code",
   "execution_count": 62,
   "metadata": {
    "collapsed": false
   },
   "outputs": [
    {
     "ename": "LoadError",
     "evalue": "\u001b[91mUndefVarError: solNLS not defined\u001b[39m",
     "output_type": "error",
     "traceback": [
      "\u001b[91mUndefVarError: solNLS not defined\u001b[39m",
      "",
      "Stacktrace:",
      " [1] \u001b[1minclude_string\u001b[22m\u001b[22m\u001b[1m(\u001b[22m\u001b[22m::String, ::String\u001b[1m)\u001b[22m\u001b[22m at \u001b[1m./loading.jl:522\u001b[22m\u001b[22m"
     ]
    }
   ],
   "source": [
    "# para acessar somente os o valor de X\n",
    "solNLS.zero[1]"
   ]
  },
  {
   "cell_type": "code",
   "execution_count": 63,
   "metadata": {
    "collapsed": false
   },
   "outputs": [
    {
     "ename": "LoadError",
     "evalue": "\u001b[91mUndefVarError: solNLS not defined\u001b[39m",
     "output_type": "error",
     "traceback": [
      "\u001b[91mUndefVarError: solNLS not defined\u001b[39m",
      "",
      "Stacktrace:",
      " [1] \u001b[1minclude_string\u001b[22m\u001b[22m\u001b[1m(\u001b[22m\u001b[22m::String, ::String\u001b[1m)\u001b[22m\u001b[22m at \u001b[1m./loading.jl:522\u001b[22m\u001b[22m"
     ]
    }
   ],
   "source": [
    "# iterações\n",
    "solNLS.iterations"
   ]
  },
  {
   "cell_type": "code",
   "execution_count": null,
   "metadata": {
    "collapsed": true
   },
   "outputs": [],
   "source": []
  },
  {
   "cell_type": "markdown",
   "metadata": {},
   "source": [
    "## Pacote Roots\n",
    "\n",
    "Sintaxe:\n",
    "```julia\n",
    "fzero(funcao_variável,valor_inicial_variável)\n",
    "```\n",
    "Sendo `função_variável` uma função genérica ou anônima e `valor_inicial_variável` o valor inicial da variável. O pacote `Roots` não funciona com expressões simbólicas"
   ]
  },
  {
   "cell_type": "code",
   "execution_count": 64,
   "metadata": {
    "collapsed": false
   },
   "outputs": [],
   "source": [
    "using Roots"
   ]
  },
  {
   "cell_type": "code",
   "execution_count": 65,
   "metadata": {
    "collapsed": false,
    "scrolled": false
   },
   "outputs": [
    {
     "name": "stdout",
     "output_type": "stream",
     "text": [
      "raiz1R = 1.7744741954672503"
     ]
    }
   ],
   "source": [
    "raiz1R = fzero(fnl, 2)\n",
    "raiz2R = fzero(fnl, 5)\n",
    "raiz3R = fzero(fnl, 7)\n",
    "\n",
    "@show raiz1R\n",
    "@show raiz2R\n",
    "@show raiz3R;"
   ]
  },
  {
   "cell_type": "code",
   "execution_count": 66,
   "metadata": {
    "collapsed": false,
    "scrolled": true
   },
   "outputs": [
    {
     "name": "stdout",
     "output_type": "stream",
     "text": [
      "fnl(raiz1R) = 0.0\n",
      "fnl(raiz2R) = 1.8318679906315083e-15\n",
      "fnl(raiz3R) = 1.6653345369377348e-15\n"
     ]
    }
   ],
   "source": [
    "# testando as raízes com a função genérica definida\n",
    "# veja que o resultado é bem próximo de zero.\n",
    "@show fnl(raiz1R)\n",
    "@show fnl(raiz2R)\n",
    "@show fnl(raiz3R);"
   ]
  },
  {
   "cell_type": "markdown",
   "metadata": {},
   "source": [
    "**Raízes dentro uma faixa de valores**\n",
    "\n",
    "De acordo com gráfico podemos visualizar que existem várias raízes no intervalo de 0 a 20. Para calcular as raízes utilizando o SymPy é necessário uma `list comprehension` enquanto o pacote `Roots` utiliza o comando `fzeros`."
   ]
  },
  {
   "cell_type": "code",
   "execution_count": 67,
   "metadata": {
    "collapsed": false,
    "scrolled": true
   },
   "outputs": [
    {
     "ename": "LoadError",
     "evalue": "\u001b[91mUndefVarError: x not defined\u001b[39m",
     "output_type": "error",
     "traceback": [
      "\u001b[91mUndefVarError: x not defined\u001b[39m",
      "",
      "Stacktrace:",
      " [1] \u001b[1m#1\u001b[22m\u001b[22m at \u001b[1m./<missing>:0\u001b[22m\u001b[22m [inlined]",
      " [2] \u001b[1mnext\u001b[22m\u001b[22m at \u001b[1m./generator.jl:45\u001b[22m\u001b[22m [inlined]",
      " [3] \u001b[1mcollect\u001b[22m\u001b[22m\u001b[1m(\u001b[22m\u001b[22m::Base.Generator{UnitRange{Int64},##1#2}\u001b[1m)\u001b[22m\u001b[22m at \u001b[1m./array.jl:475\u001b[22m\u001b[22m",
      " [4] \u001b[1minclude_string\u001b[22m\u001b[22m\u001b[1m(\u001b[22m\u001b[22m::String, ::String\u001b[1m)\u001b[22m\u001b[22m at \u001b[1m./loading.jl:522\u001b[22m\u001b[22m"
     ]
    }
   ],
   "source": [
    "Raizes_nsolve = [Float64(nsolve(fnl(x), i)) for i = 0:20]\n",
    "sort!(Raizes_nsolve)  # ordena os resultados\n",
    "unique(Raizes_nsolve) # filtra resultados repetidos"
   ]
  },
  {
   "cell_type": "markdown",
   "metadata": {},
   "source": [
    "Veja que `nsolve` retornou resultados além de 20."
   ]
  },
  {
   "cell_type": "code",
   "execution_count": 68,
   "metadata": {
    "collapsed": false,
    "scrolled": true
   },
   "outputs": [
    {
     "data": {
      "text/plain": [
       "6-element Array{Float64,1}:\n",
       "  1.77447\n",
       "  4.80774\n",
       "  7.9156 \n",
       " 11.041  \n",
       " 14.1731 \n",
       " 17.3085 "
      ]
     },
     "execution_count": 68,
     "metadata": {},
     "output_type": "execute_result"
    }
   ],
   "source": [
    "# fzeros calcula as raízes de uma faixa de valores\n",
    "Raizes_Root = fzeros(fnl, 0 , 20)"
   ]
  }
 ],
 "metadata": {
  "anaconda-cloud": {},
  "kernelspec": {
   "display_name": "Julia 0.6.2",
   "language": "julia",
   "name": "julia-0.6"
  },
  "language_info": {
   "file_extension": ".jl",
   "mimetype": "application/julia",
   "name": "julia",
   "version": "0.6.2"
  }
 },
 "nbformat": 4,
 "nbformat_minor": 0
}
