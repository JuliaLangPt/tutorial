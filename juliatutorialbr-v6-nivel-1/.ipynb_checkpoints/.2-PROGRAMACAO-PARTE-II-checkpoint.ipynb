{
 "cells": [
  {
   "cell_type": "markdown",
   "metadata": {},
   "source": [
    "# PROGRAMAÇÃO PARTE II"
   ]
  },
  {
   "cell_type": "markdown",
   "metadata": {},
   "source": [
    "## ESCOPO\n",
    "\n",
    "O escopo de uma variável é a região dentro do código da qual uma variável está visível. O escopo de variáveis ajuda a evitar conflitos de nomeação de variáveis. O conceito é intuitivo: duas funções podem ter argumentos chamados x sem os dois x referindo-se à mesma coisa. Da mesma forma, há muitos outros casos em que diferentes blocos de código podem usar o mesmo nome sem se referir à mesma coisa. As regras para quando o mesmo nome de variável faz ou não se refere à mesma coisa são chamadas regras de escopo; Esta seção detalha-os em detalhes.\n",
    "\n",
    "Certas construções na linguagem introduzem blocos de escopo, que são regiões de código que são elegíveis para serem o escopo de algum conjunto de variáveis. O escopo de uma variável não pode ser um conjunto arbitrário de linhas de origem; Em vez disso, sempre se alinhará com um desses blocos. Existem dois tipos principais de escopos em Julia, âmbito global e âmbito local, este último pode ser aninhado. As construções que introduzem blocos de escopo são:\n",
    "\n",
    "manual julia(146,0 / 1574 epub)\n"
   ]
  },
  {
   "cell_type": "markdown",
   "metadata": {
    "collapsed": false
   },
   "source": []
  },
  {
   "cell_type": "markdown",
   "metadata": {},
   "source": []
  },
  {
   "cell_type": "markdown",
   "metadata": {},
   "source": []
  },
  {
   "cell_type": "markdown",
   "metadata": {},
   "source": []
  },
  {
   "cell_type": "markdown",
   "metadata": {},
   "source": [
    "## MANIPULAÇÃO DE EXCEÇÃO\n",
    "\n",
    "Quando ocorre uma condição não esperada, uma função pode ser incapaz de contornar o problema e evitar uma pane no sistema. Uma das soluções é programar a função para terminar o programa, imprimir uma mensagem de erro de diagnóstico ou se o programador tiver trabalhado bem o código, permitir que o programa tome uma ação apropriada em relação ao problema. Um exemplo clássico é a função raiz quadrada:\n",
    "```julia\n",
    "function raizQ(x)\n",
    "    return sqrt(x)\n",
    "end\n",
    "```\n",
    "Caso seja passado um número negativo, ocorrerá:\n",
    "```julia\n",
    "raizQ(-2)\n",
    "\n",
    "LoadError: DomainError:\n",
    "while loading In[], in expression starting on line 1\n",
    "```\n",
    "Neste caso `Julia` lançou uma `exceção` informando que houve um erro para tratar a ação fora do esperado. As exceções listadas abaixo interrompem o fluxo normal de controle e emitem uma mensagem de erro.\n",
    "\n",
    "- `ArgumentError`: Os parâmetros de uma chamada de função não correspondem a uma vínculo válido. Argumento \"msg\" é uma string de erro descritiva.\n",
    "- `BoundsError`:\n",
    "- `DivideError`: \n",
    "\n",
    "- `DomainError`: Os argumentos para uma função ou construtor estão fora do domínio válido. Isto ocorre para `sqrt(-2)`. Um número inteiro é passado mas o resultado está dentro do domínio dos complexos.\n",
    "\n",
    "- `EOFError`: Não há mais dados disponíveis para ler de um arquivo ou fluxo.\n",
    "- `ErrorException`:\n",
    "- `InexactError`:\n",
    "- `InitError`:\n",
    "- `InterruptException`:\n",
    "- `KeyError`:\n",
    "- `LoadError`:\n",
    "- `OutOfMemoryError`:\n",
    "- `ReadOnlyMemoryError`:\n",
    "- `RemoteException`:\n",
    "- `Exception`:\n",
    "- `ArgumentError`:\n",
    "- `BoundsError`:\n",
    "- `CompositeException`:\n",
    "- `DivideError`:\n",
    "- `DomainError`:\n",
    "- `EOFError`:\n",
    "- `ErrorException`:\n",
    "- `InexactError`:\n",
    "- `InitError`:\n",
    "- `InterruptException`:\n",
    "- `InvalidStateException`:\n",
    "- `KeyError`:\n",
    "- `LoadError`:\n",
    "- `OutOfMemoryError`:\n",
    "- `ReadOnlyMemoryError`: Uma operação tentou escrever na memória mas esta é somente para leitura. \n",
    "- `RemoteException`:\n",
    "- `MethodError`:\n",
    "- `OverflowError`:\n",
    "- `ParseError`:\n",
    "- `SystemError`: Uma chamada de sistema falhou com um código de erro \n",
    "- `TypeError`: Uma falha de asserção de tipo ou chamada de uma função intrínseca com um tipo de argumento incorreto.\n",
    "- `UndefRefError`: O item ou campo não está definido para o determinado objeto.\n",
    "- `UndefVarError`: Um símbolo no escopo atual não está definido.\n",
    "\n",
    "A lista completa pode ser consultada aqui: [http://docs.julialang.org/en/release-0.5/stdlib/base/#errors](http://docs.julialang.org/en/release-0.5/stdlib/base/#errors)"
   ]
  },
  {
   "cell_type": "markdown",
   "metadata": {},
   "source": [
    "### FUNÇÃO `THROW()`\n",
    "\n",
    "A função `Throw()` lança um objeto como uma exceção, ou seja, no exemplo abaixo a função lança a exceção `DomainError` que informa que o erro é de domínio."
   ]
  },
  {
   "cell_type": "code",
   "execution_count": 1,
   "metadata": {
    "collapsed": false,
    "scrolled": false
   },
   "outputs": [
    {
     "data": {
      "text/plain": [
       "raizQ (generic function with 1 method)"
      ]
     },
     "execution_count": 1,
     "metadata": {},
     "output_type": "execute_result"
    }
   ],
   "source": [
    "function raizQ(x)\n",
    "    if x >= 0\n",
    "        sqrt(x)\n",
    "    else\n",
    "        throw(DomainError())\n",
    "    end\n",
    "end"
   ]
  },
  {
   "cell_type": "code",
   "execution_count": 2,
   "metadata": {
    "collapsed": false,
    "scrolled": false
   },
   "outputs": [
    {
     "ename": "LoadError",
     "evalue": "DomainError:",
     "output_type": "error",
     "traceback": [
      "DomainError:",
      "",
      " in raizQ(::Int64) at ./In[1]:5"
     ]
    }
   ],
   "source": [
    "raizQ(-2)"
   ]
  },
  {
   "cell_type": "code",
   "execution_count": 3,
   "metadata": {
    "collapsed": false
   },
   "outputs": [
    {
     "data": {
      "text/plain": [
       "raizQ_OT (generic function with 1 method)"
      ]
     },
     "execution_count": 3,
     "metadata": {},
     "output_type": "execute_result"
    }
   ],
   "source": [
    "# outra forma de escrever usando o Operador Ternário\n",
    "raizQ_OT(x) = x>=0 ? sqrt(x) : throw(DomainError())"
   ]
  },
  {
   "cell_type": "code",
   "execution_count": 4,
   "metadata": {
    "collapsed": false
   },
   "outputs": [
    {
     "ename": "LoadError",
     "evalue": "LoadError: DomainError:\nwhile loading In[4], in expression starting on line 1",
     "output_type": "error",
     "traceback": [
      "LoadError: DomainError:\nwhile loading In[4], in expression starting on line 1",
      "",
      " in raizQ_OT(::Int64) at ./In[3]:2"
     ]
    }
   ],
   "source": [
    "raizQ_OT(-2)"
   ]
  },
  {
   "cell_type": "markdown",
   "metadata": {},
   "source": [
    "### FUNÇÃO `ERROR()`\n",
    "\n",
    "A função `error()` é usada para produzir uma `ErrorException` (Exceção de erro) que interrompe imediatamente o fluxo normal de controle e permite que uma mensagem seja impressa. Isto significa que uma vez executado o erro, o código é imediatamente interrompido e a mensagem exibida."
   ]
  },
  {
   "cell_type": "code",
   "execution_count": 5,
   "metadata": {
    "collapsed": false
   },
   "outputs": [
    {
     "name": "stderr",
     "output_type": "stream",
     "text": [
      "WARNING: Method definition raizQ_Er(Any) in module Main at In[3]:3 overwritten at In[5]:3.\n"
     ]
    },
    {
     "data": {
      "text/plain": [
       "raizQ_Er (generic function with 1 method)"
      ]
     },
     "execution_count": 5,
     "metadata": {},
     "output_type": "execute_result"
    }
   ],
   "source": [
    "function raizQ_Er(x)\n",
    "    \n",
    "    if x >=0        \n",
    "        sqrt(x)\n",
    "    else\n",
    "        error(\"Número negativo: $x. Não é possivel extrair raiz Real\")\n",
    "    end\n",
    "end"
   ]
  },
  {
   "cell_type": "code",
   "execution_count": 6,
   "metadata": {
    "collapsed": false,
    "scrolled": false
   },
   "outputs": [
    {
     "ename": "LoadError",
     "evalue": "Número negativo: -2. Não é possivel extrair raiz Real",
     "output_type": "error",
     "traceback": [
      "Número negativo: -2. Não é possivel extrair raiz Real",
      "",
      " in raizQ_Er(::Int64) at ./In[5]:6"
     ]
    }
   ],
   "source": [
    "# a função será interrompida e exibirá uma mensagem\n",
    "raizQ_Er(-2)"
   ]
  },
  {
   "cell_type": "markdown",
   "metadata": {},
   "source": [
    "### TRY / CATCH\n",
    "\n",
    "A instrução `try/catch` permite que exceções sejam testadas, ou seja, tenta-se realizar a instrução (`try`) e se não for possível pega-se outra instrução para realizar (`cacht`). A função `raizQ_TC` ao receber o valor de `x` tenta calcular no domínio `Real` e se não for possível calcula no domínio `Complexo`."
   ]
  },
  {
   "cell_type": "code",
   "execution_count": 1,
   "metadata": {
    "collapsed": false
   },
   "outputs": [
    {
     "data": {
      "text/plain": [
       "raizQ_TC (generic function with 1 method)"
      ]
     },
     "execution_count": 1,
     "metadata": {},
     "output_type": "execute_result"
    }
   ],
   "source": [
    "function raizQ_TC(x)\n",
    "    try\n",
    "         sqrt(x)\n",
    "    catch\n",
    "         sqrt(complex(x))\n",
    "    end\n",
    "end"
   ]
  },
  {
   "cell_type": "code",
   "execution_count": 2,
   "metadata": {
    "collapsed": false
   },
   "outputs": [
    {
     "data": {
      "text/plain": [
       "0.0 + 1.4142135623730951im"
      ]
     },
     "execution_count": 2,
     "metadata": {},
     "output_type": "execute_result"
    }
   ],
   "source": [
    "raizQ_TC(-2)"
   ]
  },
  {
   "cell_type": "markdown",
   "metadata": {},
   "source": [
    "Uma boa prática de programação é tratar o tipo de erro que ocorreu. "
   ]
  },
  {
   "cell_type": "code",
   "execution_count": 10,
   "metadata": {
    "collapsed": false
   },
   "outputs": [
    {
     "name": "stderr",
     "output_type": "stream",
     "text": [
      "WARNING: Method definition raizQ_TC_Er(Any) in module Main at In[7]:2 overwritten at In[10]:2.\n"
     ]
    },
    {
     "data": {
      "text/plain": [
       "raizQ_TC_Er (generic function with 1 method)"
      ]
     },
     "execution_count": 10,
     "metadata": {},
     "output_type": "execute_result"
    }
   ],
   "source": [
    "function raizQ_TC_Er(x)\n",
    "    try\n",
    "        sqrt(x)\n",
    "        \n",
    "    catch erro\n",
    "        if isa(erro, DomainError)\n",
    "            sqrt(complex(x))\n",
    "            \n",
    "        elseif isa(erro, UndefVarError)\n",
    "            print(\"Valor não definido\")\n",
    "            \n",
    "        else\n",
    "            print(\"Erro não definido. Valor não numérico\")\n",
    "        end\n",
    "    end\n",
    "end"
   ]
  },
  {
   "cell_type": "code",
   "execution_count": 11,
   "metadata": {
    "collapsed": false
   },
   "outputs": [
    {
     "data": {
      "text/plain": [
       "0.0 + 2.0im"
      ]
     },
     "execution_count": 11,
     "metadata": {},
     "output_type": "execute_result"
    }
   ],
   "source": [
    "# Passando um valor negativo\n",
    "raizQ_TC_Er(-4)"
   ]
  },
  {
   "cell_type": "code",
   "execution_count": 12,
   "metadata": {
    "collapsed": false
   },
   "outputs": [
    {
     "name": "stdout",
     "output_type": "stream",
     "text": [
      "Erro não definido. Valor não numérico"
     ]
    }
   ],
   "source": [
    "# Passando uma string\n",
    "raizQ_TC_Er($)"
   ]
  },
  {
   "cell_type": "markdown",
   "metadata": {},
   "source": [
    "**% FIM PROGRAMAÇÃO BÁSICA %**"
   ]
  }
 ],
 "metadata": {
  "anaconda-cloud": {},
  "kernelspec": {
   "display_name": "Julia 0.5.2",
   "language": "julia",
   "name": "julia-0.5"
  },
  "language_info": {
   "file_extension": ".jl",
   "mimetype": "application/julia",
   "name": "julia",
   "version": "0.5.2"
  }
 },
 "nbformat": 4,
 "nbformat_minor": 0
}
