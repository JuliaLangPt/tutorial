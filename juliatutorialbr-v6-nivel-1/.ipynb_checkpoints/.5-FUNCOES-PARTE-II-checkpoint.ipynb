{
 "cells": [
  {
   "cell_type": "markdown",
   "metadata": {
    "nbpresent": {
     "id": "c28ef5b9-f892-488f-86f2-fbc89cc29974"
    }
   },
   "source": [
    "# FUNÇÕES PARTE II"
   ]
  },
  {
   "cell_type": "markdown",
   "metadata": {},
   "source": [
    "## CONSTRUÇÃO DE FUNÇÃO"
   ]
  },
  {
   "cell_type": "code",
   "execution_count": 3,
   "metadata": {
    "collapsed": false
   },
   "outputs": [
    {
     "name": "stderr",
     "output_type": "stream",
     "text": [
      "WARNING: Method definition f1(Any, Any) in module Main at In[1]:1 overwritten at In[3]:1.\n"
     ]
    },
    {
     "data": {
      "text/plain": [
       "f1 (generic function with 1 method)"
      ]
     },
     "execution_count": 3,
     "metadata": {},
     "output_type": "execute_result"
    }
   ],
   "source": [
    "f1(x, chave) = begin\n",
    "    if chave == 1\n",
    "        return x^2\n",
    "        \n",
    "    elseif chave == 2\n",
    "        return x\n",
    "        \n",
    "    elseif chave == 3\n",
    "        return exp(x +1)\n",
    "        \n",
    "    else\n",
    "        return \"chave não encontrada\"\n",
    "    end\n",
    "    \n",
    "end"
   ]
  },
  {
   "cell_type": "code",
   "execution_count": 9,
   "metadata": {
    "collapsed": false
   },
   "outputs": [
    {
     "data": {
      "text/plain": [
       "(16,148.4131591025766)"
      ]
     },
     "execution_count": 9,
     "metadata": {},
     "output_type": "execute_result"
    }
   ],
   "source": [
    "f1(4, 1), f1(4, 3)"
   ]
  },
  {
   "cell_type": "code",
   "execution_count": 10,
   "metadata": {
    "collapsed": false
   },
   "outputs": [
    {
     "data": {
      "text/plain": [
       "f (generic function with 1 method)"
      ]
     },
     "execution_count": 10,
     "metadata": {},
     "output_type": "execute_result"
    }
   ],
   "source": [
    "# dicionário de duas expressões\n",
    "f(x) = Dict(1=> x^2, 2=> sind(x + 1) , \"cos\"=> cosd(x))"
   ]
  },
  {
   "cell_type": "code",
   "execution_count": 11,
   "metadata": {
    "collapsed": false
   },
   "outputs": [
    {
     "data": {
      "text/plain": [
       "0.8660254037844386"
      ]
     },
     "execution_count": 11,
     "metadata": {},
     "output_type": "execute_result"
    }
   ],
   "source": [
    "f(30)[\"cos\"]"
   ]
  },
  {
   "cell_type": "code",
   "execution_count": 12,
   "metadata": {
    "collapsed": false
   },
   "outputs": [
    {
     "data": {
      "text/plain": [
       "0.5"
      ]
     },
     "execution_count": 12,
     "metadata": {},
     "output_type": "execute_result"
    }
   ],
   "source": [
    "f(29)[2]"
   ]
  },
  {
   "cell_type": "markdown",
   "metadata": {},
   "source": [
    "## FUNÇÕES ANÔNIMAS \n",
    "\n",
    "funções anônimas não têm um nome para serem invocadas diretamente,mas são muito usadas como parâmetros para outras funções, ou são atribuídas a uma variável, que acaba funcionando como um nome (BALDUINO, XX). Não precisam usar o SymPy ou a forma de função genérica. Ao definir uma função anônima, devemos observar que o resultado é uma função genérica, mas com um nome gerado pelo compilador na forma:\n",
    "```julia\n",
    "(::#a)(generic function with b method)\n",
    "```\n",
    "Sendo `#a` representa o número gerado pelo compilador baseado em numeração consecutiva e `b` o número de métodos. O uso principal para funções anônimas é passá-las para funções que assumem outras funções como argumentos ou quando uma função precisa ser redefinida várias vezes. Em geral são mais rápidas que as funções genéricas. São escritas na forma:\n",
    "\n",
    "Tupla de retorno único:\n",
    "```julia\n",
    "(variavel ->  expressao_variável)(valor_variável)\n",
    "\n",
    "ou \n",
    "\n",
    "((var_1 ,..., var_n) ->  expressao_variáveis)(valor_var_1 ,..., valor_var_n)\n",
    "```\n",
    "\n",
    "Tupla de retorno múltiplo:\n",
    "\n",
    "```julia\n",
    "\n",
    "(variavel ->  (expressao_1_variável,.., expressao_n_variável ))(valor_variável)\n",
    "\n",
    "ou \n",
    "\n",
    "((var_1 ,..., var_n) -> (expressao_1_var ,.., expressao_n_var))(valor_var_1,..., valor_var_n)\n",
    "```\n",
    " \n",
    "É possível criar uma função anônima na forma de blocos utilizando o comando `begin ... end:`\n",
    "```julia\n",
    "\n",
    "(x-> begin\n",
    "        instruções\n",
    "end)\n",
    "\n",
    "\n",
    "```"
   ]
  },
  {
   "cell_type": "code",
   "execution_count": 1,
   "metadata": {
    "collapsed": false,
    "scrolled": true
   },
   "outputs": [
    {
     "data": {
      "text/plain": [
       "-1"
      ]
     },
     "execution_count": 1,
     "metadata": {},
     "output_type": "execute_result"
    }
   ],
   "source": [
    "# uma variável e retorno simples\n",
    "(x -> x^3 - 2*x^2 - 1)(0)"
   ]
  },
  {
   "cell_type": "code",
   "execution_count": 2,
   "metadata": {
    "collapsed": false
   },
   "outputs": [
    {
     "data": {
      "text/plain": [
       "(::#3) (generic function with 1 method)"
      ]
     },
     "execution_count": 2,
     "metadata": {},
     "output_type": "execute_result"
    }
   ],
   "source": [
    "# uma variável e retorno simples\n",
    "# com atribuição de uma variável\n",
    "f_ano_1 = x -> x^3 - 2*x^2 - 1"
   ]
  },
  {
   "cell_type": "code",
   "execution_count": 3,
   "metadata": {
    "collapsed": false
   },
   "outputs": [
    {
     "data": {
      "text/plain": [
       "-1"
      ]
     },
     "execution_count": 3,
     "metadata": {},
     "output_type": "execute_result"
    }
   ],
   "source": [
    "f_ano_1(0)"
   ]
  },
  {
   "cell_type": "code",
   "execution_count": 4,
   "metadata": {
    "collapsed": false,
    "scrolled": true
   },
   "outputs": [
    {
     "data": {
      "text/plain": [
       "(-1,1)"
      ]
     },
     "execution_count": 4,
     "metadata": {},
     "output_type": "execute_result"
    }
   ],
   "source": [
    "# uma variável e retorno múltiplo\n",
    "(x -> (x^3 - 2*x^2 - 1 , x + 1) )(0)"
   ]
  },
  {
   "cell_type": "code",
   "execution_count": 5,
   "metadata": {
    "collapsed": false,
    "scrolled": false
   },
   "outputs": [
    {
     "data": {
      "text/plain": [
       "-1"
      ]
     },
     "execution_count": 5,
     "metadata": {},
     "output_type": "execute_result"
    }
   ],
   "source": [
    "# duas variáveis e retorno simples\n",
    "((x, y) -> 2*y - 1 + x)(0 , 0)"
   ]
  },
  {
   "cell_type": "code",
   "execution_count": 6,
   "metadata": {
    "collapsed": false,
    "scrolled": true
   },
   "outputs": [
    {
     "data": {
      "text/plain": [
       "(-1,0)"
      ]
     },
     "execution_count": 6,
     "metadata": {},
     "output_type": "execute_result"
    }
   ],
   "source": [
    "# duas variáveis e retorno múltiplo\n",
    "((x, y) -> (2*y - 1 + x, x*y))(0 , 0)"
   ]
  },
  {
   "cell_type": "markdown",
   "metadata": {},
   "source": [
    "Uma forma prática de trabalhar com funções anônimas grandes é utilizano um bloco de código ``` begin ... end```"
   ]
  },
  {
   "cell_type": "code",
   "execution_count": 18,
   "metadata": {
    "collapsed": false,
    "scrolled": false
   },
   "outputs": [
    {
     "data": {
      "text/plain": [
       "(::#13) (generic function with 1 method)"
      ]
     },
     "execution_count": 18,
     "metadata": {},
     "output_type": "execute_result"
    }
   ],
   "source": [
    "f_ano_2 = x -> begin\n",
    "    if x < 10 && iseven(x) # se o valor de x é menor que 10 e par\n",
    "               return 0\n",
    "           elseif x == 10\n",
    "               return 1\n",
    "           else            \n",
    "               return x\n",
    "           end\n",
    "       end"
   ]
  },
  {
   "cell_type": "code",
   "execution_count": 19,
   "metadata": {
    "collapsed": false,
    "scrolled": true
   },
   "outputs": [
    {
     "data": {
      "text/plain": [
       "1"
      ]
     },
     "execution_count": 19,
     "metadata": {},
     "output_type": "execute_result"
    }
   ],
   "source": [
    "f_ano_2(10)"
   ]
  },
  {
   "cell_type": "markdown",
   "metadata": {},
   "source": [
    "### FUNÇÃO ANÔNIMA APLICADA A VETOR/MATRIZ"
   ]
  },
  {
   "cell_type": "code",
   "execution_count": 8,
   "metadata": {
    "collapsed": false,
    "scrolled": true
   },
   "outputs": [
    {
     "data": {
      "text/plain": [
       "3-element Array{Int64,1}:\n",
       " -2\n",
       " -1\n",
       "  8"
      ]
     },
     "execution_count": 8,
     "metadata": {},
     "output_type": "execute_result"
    }
   ],
   "source": [
    "# Vetor \n",
    "# uma variável e retorno simples\n",
    "# O ponto \".\" serve para calcular a função elemento-elemento do vetor.\n",
    "(x -> x^3 - 2*x^2 - 1).(1:3)"
   ]
  },
  {
   "cell_type": "code",
   "execution_count": 62,
   "metadata": {
    "collapsed": false
   },
   "outputs": [
    {
     "data": {
      "text/plain": [
       "(::#26) (generic function with 1 method)"
      ]
     },
     "execution_count": 62,
     "metadata": {},
     "output_type": "execute_result"
    }
   ],
   "source": [
    "# é possível atribuir a função a uma variável\n",
    "f_ano_3 = (x -> x^3 - 2*x^2 - 1)"
   ]
  },
  {
   "cell_type": "code",
   "execution_count": 63,
   "metadata": {
    "collapsed": false
   },
   "outputs": [
    {
     "data": {
      "text/plain": [
       "3-element Array{Int64,1}:\n",
       " -2\n",
       " -1\n",
       "  8"
      ]
     },
     "execution_count": 63,
     "metadata": {},
     "output_type": "execute_result"
    }
   ],
   "source": [
    "# O ponto \".\" serve para calcular a função elemento-elemento do vetor.\n",
    "f_ano_3.(1:3)"
   ]
  },
  {
   "cell_type": "code",
   "execution_count": 64,
   "metadata": {
    "collapsed": false,
    "scrolled": true
   },
   "outputs": [
    {
     "data": {
      "text/plain": [
       "2×3 Array{Int64,2}:\n",
       " -2  -1    8\n",
       " 31  74  143"
      ]
     },
     "execution_count": 64,
     "metadata": {},
     "output_type": "execute_result"
    }
   ],
   "source": [
    "# Matriz\n",
    "# Uma variável e retorno simples\n",
    "(x -> x^3 - 2*x^2 - 1).([1 2 3; 4 5 6])"
   ]
  },
  {
   "cell_type": "code",
   "execution_count": 32,
   "metadata": {
    "collapsed": false,
    "scrolled": false
   },
   "outputs": [
    {
     "data": {
      "text/plain": [
       "4-element Array{Int64,1}:\n",
       " -1\n",
       "  2\n",
       "  9\n",
       " 20"
      ]
     },
     "execution_count": 32,
     "metadata": {},
     "output_type": "execute_result"
    }
   ],
   "source": [
    "# Vetor\n",
    "# Duas variáveis e retorno simples\n",
    "((x,y)-> 2*y^2 - 1 + x).(0:3 , 0:3)"
   ]
  },
  {
   "cell_type": "markdown",
   "metadata": {},
   "source": [
    "## ARGUMENTOS: TIPADOS, PADRONIZADOS E NOMEADOS\n",
    "\n",
    "Será utilizado a função `Empuxo` em várias versões tendo como base os argumentos `volume, densidade e aceleração da gravidade`. Dada a função `empuxo` definida de forma usual:"
   ]
  },
  {
   "cell_type": "code",
   "execution_count": 31,
   "metadata": {
    "collapsed": false
   },
   "outputs": [
    {
     "data": {
      "text/plain": [
       "empuxo_0 (generic function with 1 method)"
      ]
     },
     "execution_count": 31,
     "metadata": {},
     "output_type": "execute_result"
    }
   ],
   "source": [
    "function empuxo_0( v, d, g)\n",
    "    println(\"Volume: $v m³\")\n",
    "    println(\"Densidade: $d kg/m³\")\n",
    "    println(\"A.gravidade: $g m/s²\")\n",
    "    \n",
    "    return v*d*g\n",
    "end"
   ]
  },
  {
   "cell_type": "code",
   "execution_count": 32,
   "metadata": {
    "collapsed": false,
    "scrolled": false
   },
   "outputs": [
    {
     "name": "stdout",
     "output_type": "stream",
     "text": [
      "Volume: 0.05 m³\n",
      "Densidade: 1 kg/m³\n",
      "A.gravidade: 10 m/s²\n"
     ]
    },
    {
     "data": {
      "text/plain": [
       "0.5"
      ]
     },
     "execution_count": 32,
     "metadata": {},
     "output_type": "execute_result"
    }
   ],
   "source": [
    "empuxo_0( 0.05, 1, 10)"
   ]
  },
  {
   "cell_type": "markdown",
   "metadata": {},
   "source": [
    "**Argumentos Tipados**\n",
    "\n",
    "É possível definir um tipo para um argumento dentre os vários tipos disponíveis em `Julia`. Dessa forma a função somente aceitará os valores do tipo definido e qualquer valor diferente implicará em erro."
   ]
  },
  {
   "cell_type": "code",
   "execution_count": 33,
   "metadata": {
    "collapsed": false,
    "scrolled": true
   },
   "outputs": [
    {
     "data": {
      "text/plain": [
       "empuxo_1 (generic function with 1 method)"
      ]
     },
     "execution_count": 33,
     "metadata": {},
     "output_type": "execute_result"
    }
   ],
   "source": [
    "function empuxo_1( v, d::Float64, g::Float64)\n",
    "    println(\"Volume: $v m³\")\n",
    "    println(\"Densidade: $d kg/m³\")\n",
    "    println(\"A.gravidade: $g m/s²\")\n",
    "    \n",
    "    return v*d*g\n",
    "end"
   ]
  },
  {
   "cell_type": "code",
   "execution_count": 34,
   "metadata": {
    "collapsed": false,
    "scrolled": true
   },
   "outputs": [
    {
     "name": "stdout",
     "output_type": "stream",
     "text": [
      "Volume: 0.05 m³\n",
      "Densidade: 1.0 kg/m³\n",
      "A.gravidade: 10.0 m/s²\n"
     ]
    },
    {
     "data": {
      "text/plain": [
       "0.5"
      ]
     },
     "execution_count": 34,
     "metadata": {},
     "output_type": "execute_result"
    }
   ],
   "source": [
    "empuxo_1(0.05, 1.0, 10.0)"
   ]
  },
  {
   "cell_type": "code",
   "execution_count": 35,
   "metadata": {
    "collapsed": false,
    "scrolled": true
   },
   "outputs": [
    {
     "ename": "LoadError",
     "evalue": "LoadError: MethodError: no method matching empuxo_1(::Float64, ::Float64, ::Int64)\nClosest candidates are:\n  empuxo_1(::Any, ::Float64, !Matched::Float64) at In[33]:2\nwhile loading In[35], in expression starting on line 2",
     "output_type": "error",
     "traceback": [
      "LoadError: MethodError: no method matching empuxo_1(::Float64, ::Float64, ::Int64)\nClosest candidates are:\n  empuxo_1(::Any, ::Float64, !Matched::Float64) at In[33]:2\nwhile loading In[35], in expression starting on line 2",
      ""
     ]
    }
   ],
   "source": [
    "# passando os tipos Float64, Float64 e Int64\n",
    "empuxo_1(0.05, 1.0, 10)"
   ]
  },
  {
   "cell_type": "markdown",
   "metadata": {},
   "source": [
    "Observe que o erro `\"no method matching empuxo_0(::Float64, ::Float64, ::Int64)\"` significa que não há um método compatível com os argumentos passados em `(0.05 ::Float64, 1.0 ::Float64, 10 ::Int64`). O erro está no argumento `gravidade` que foi passado como inteiro e deve ser do tipo `Float64`. `Julia` informa o local do erro e tipo correto em  `!Matched::Float64`.\n",
    "```\n",
    "```"
   ]
  },
  {
   "cell_type": "markdown",
   "metadata": {},
   "source": [
    "Função anômima"
   ]
  },
  {
   "cell_type": "code",
   "execution_count": 36,
   "metadata": {
    "collapsed": false
   },
   "outputs": [
    {
     "data": {
      "text/plain": [
       "(::#38) (generic function with 1 method)"
      ]
     },
     "execution_count": 36,
     "metadata": {},
     "output_type": "execute_result"
    }
   ],
   "source": [
    "fa_empuxo_1 = ( v, d::Float64, g::Float64) -> begin\n",
    "    println(\"Volume: $v m³\")\n",
    "    println(\"Densidade: $d kg/m³\")\n",
    "    println(\"A.gravidade: $g m/s²\")\n",
    "    \n",
    "    return v*d*g\n",
    "end"
   ]
  },
  {
   "cell_type": "code",
   "execution_count": 37,
   "metadata": {
    "collapsed": false
   },
   "outputs": [
    {
     "name": "stdout",
     "output_type": "stream",
     "text": [
      "Volume: 0.05 m³\n",
      "Densidade: 1.0 kg/m³\n",
      "A.gravidade: 10.0 m/s²\n"
     ]
    },
    {
     "data": {
      "text/plain": [
       "0.5"
      ]
     },
     "execution_count": 37,
     "metadata": {},
     "output_type": "execute_result"
    }
   ],
   "source": [
    "fa_empuxo_1(0.05, 1.0, 10.0)"
   ]
  },
  {
   "cell_type": "markdown",
   "metadata": {},
   "source": [
    "**Argumentos padronizados**"
   ]
  },
  {
   "cell_type": "code",
   "execution_count": 38,
   "metadata": {
    "collapsed": false
   },
   "outputs": [
    {
     "data": {
      "text/plain": [
       "empuxo_2 (generic function with 3 methods)"
      ]
     },
     "execution_count": 38,
     "metadata": {},
     "output_type": "execute_result"
    }
   ],
   "source": [
    "# Função genérica\n",
    "\n",
    "function empuxo_2( v, d = 1.0, g = 9.8)\n",
    "    println(\"Volume: $v m³\")\n",
    "    println(\"Densidade: $d kg/m³\")\n",
    "    println(\"A.gravidade: $g m/s²\")\n",
    "    \n",
    "    return v*d*g\n",
    "end"
   ]
  },
  {
   "cell_type": "code",
   "execution_count": 37,
   "metadata": {
    "collapsed": false
   },
   "outputs": [
    {
     "name": "stdout",
     "output_type": "stream",
     "text": [
      "Volume: 0.05 m³\n",
      "Densidade: 1.0 kg/m³\n",
      "A.gravidade: 10 m/s²\n"
     ]
    },
    {
     "data": {
      "text/plain": [
       "0.5"
      ]
     },
     "execution_count": 37,
     "metadata": {},
     "output_type": "execute_result"
    }
   ],
   "source": [
    "empuxo_2(0.05, 1.0, 10)"
   ]
  },
  {
   "cell_type": "code",
   "execution_count": 38,
   "metadata": {
    "collapsed": false
   },
   "outputs": [
    {
     "name": "stdout",
     "output_type": "stream",
     "text": [
      "Volume: 0.05 m³\n",
      "Densidade: 1.0 kg/m³\n",
      "A.gravidade: 9.8 m/s²\n"
     ]
    },
    {
     "data": {
      "text/plain": [
       "0.49000000000000005"
      ]
     },
     "execution_count": 38,
     "metadata": {},
     "output_type": "execute_result"
    }
   ],
   "source": [
    "# se não for passado nenhum parâmetro a função utiliza os valores padrões\n",
    "empuxo_2(0.05)"
   ]
  },
  {
   "cell_type": "code",
   "execution_count": 39,
   "metadata": {
    "collapsed": false,
    "scrolled": false
   },
   "outputs": [
    {
     "name": "stdout",
     "output_type": "stream",
     "text": [
      "Volume: 0.05 m³\n",
      "Densidade: 10 kg/m³\n",
      "A.gravidade: 1.0 m/s²\n"
     ]
    },
    {
     "data": {
      "text/plain": [
       "0.5"
      ]
     },
     "execution_count": 39,
     "metadata": {},
     "output_type": "execute_result"
    }
   ],
   "source": [
    "# a ordem dos argumentos importa\n",
    "empuxo_2(0.05, 10, 1.0)"
   ]
  },
  {
   "cell_type": "markdown",
   "metadata": {},
   "source": [
    "Observe que neste exemplo a ordem dos elementos é importante e embora o valor calculado esteja certo, os valores das variáveis estão trocados."
   ]
  },
  {
   "cell_type": "markdown",
   "metadata": {},
   "source": [
    "Função anônima"
   ]
  },
  {
   "cell_type": "code",
   "execution_count": 9,
   "metadata": {
    "collapsed": false
   },
   "outputs": [
    {
     "data": {
      "text/plain": [
       "(::#15) (generic function with 3 methods)"
      ]
     },
     "execution_count": 9,
     "metadata": {},
     "output_type": "execute_result"
    }
   ],
   "source": [
    "fa_empuxo_2 = (v, d = 1.0, g = 9.8) ->  begin    \n",
    "    println(\"Volume: $v m³\")\n",
    "    println(\"Densidade: $d kg/m³\")\n",
    "    println(\"A.gravidade: $g m/s²\")\n",
    "    v*d*g\n",
    "    \n",
    "end"
   ]
  },
  {
   "cell_type": "code",
   "execution_count": 10,
   "metadata": {
    "collapsed": false,
    "scrolled": true
   },
   "outputs": [
    {
     "name": "stdout",
     "output_type": "stream",
     "text": [
      "Volume: 0.05 m³\n",
      "Densidade: 1 kg/m³\n",
      "A.gravidade: 10 m/s²\n"
     ]
    },
    {
     "data": {
      "text/plain": [
       "0.5"
      ]
     },
     "execution_count": 10,
     "metadata": {},
     "output_type": "execute_result"
    }
   ],
   "source": [
    "fa_empuxo_2(0.05, 1, 10)"
   ]
  },
  {
   "cell_type": "markdown",
   "metadata": {},
   "source": [
    "```\n",
    "```"
   ]
  },
  {
   "cell_type": "markdown",
   "metadata": {},
   "source": [
    "**Argumentos Nomeados**\n",
    "\n",
    "Algumas funções precisam de um grande número de argumentos, ou têm um grande número de comportamentos. Lembrar como chamar essas funções pode ser difícil. Os argumentos de palavras-chave podem tornar essas interfaces complexas mais fáceis de usar e estender permitindo que os argumentos sejam identificados por nome em vez de apenas por posição.\n"
   ]
  },
  {
   "cell_type": "code",
   "execution_count": 4,
   "metadata": {
    "collapsed": false
   },
   "outputs": [
    {
     "name": "stderr",
     "output_type": "stream",
     "text": [
      "WARNING: Method definition empuxo_3(Any) in module Main at In[1]:2 overwritten at In[4]:2.\n"
     ]
    },
    {
     "data": {
      "text/plain": [
       "empuxo_3 (generic function with 4 methods)"
      ]
     },
     "execution_count": 4,
     "metadata": {},
     "output_type": "execute_result"
    }
   ],
   "source": [
    "function empuxo_3( v; d = 1.0, g = 9.8)\n",
    "    println(\"Volume: $v m³\")\n",
    "    println(\"Densidade: $d kg/m³\")\n",
    "    println(\"A.gravidade: $g m/s²\")\n",
    "    \n",
    "    return d*g*v\n",
    "end"
   ]
  },
  {
   "cell_type": "code",
   "execution_count": 5,
   "metadata": {
    "collapsed": false
   },
   "outputs": [
    {
     "name": "stdout",
     "output_type": "stream",
     "text": [
      "Volume: 0.5 m³\n",
      "Densidade: 0.9 kg/m³\n",
      "A.gravidade: 10 m/s²\n"
     ]
    },
    {
     "data": {
      "text/plain": [
       "4.5"
      ]
     },
     "execution_count": 5,
     "metadata": {},
     "output_type": "execute_result"
    }
   ],
   "source": [
    "# a ordem dos argumentos não importa\n",
    "empuxo_3(0.5, g = 10 , d = 0.9)"
   ]
  },
  {
   "cell_type": "code",
   "execution_count": 6,
   "metadata": {
    "collapsed": false
   },
   "outputs": [
    {
     "name": "stdout",
     "output_type": "stream",
     "text": [
      "Volume: 0.5 m³\n",
      "Densidade: 0.9 kg/m³\n",
      "A.gravidade: 10 m/s²\n"
     ]
    },
    {
     "data": {
      "text/plain": [
       "4.5"
      ]
     },
     "execution_count": 6,
     "metadata": {},
     "output_type": "execute_result"
    }
   ],
   "source": [
    "# a ordem dos argumentos não importa\n",
    "empuxo_3(0.5 , d = 0.9 , g = 10)"
   ]
  },
  {
   "cell_type": "code",
   "execution_count": 7,
   "metadata": {
    "collapsed": false
   },
   "outputs": [
    {
     "name": "stdout",
     "output_type": "stream",
     "text": [
      "Volume: 0.5 m³\n",
      "Densidade: 1.0 kg/m³\n",
      "A.gravidade: 9.8 m/s²\n"
     ]
    },
    {
     "data": {
      "text/plain": [
       "4.9"
      ]
     },
     "execution_count": 7,
     "metadata": {},
     "output_type": "execute_result"
    }
   ],
   "source": [
    "# se não for passado nenhum parâmetro a função utiliza os valores padrões\n",
    "empuxo_3(0.5)"
   ]
  },
  {
   "cell_type": "code",
   "execution_count": 8,
   "metadata": {
    "collapsed": false,
    "scrolled": false
   },
   "outputs": [
    {
     "name": "stdout",
     "output_type": "stream",
     "text": [
      "Volume: 0.5 m³\n",
      "Densidade: 0.9 kg/m³\n",
      "A.gravidade: 10 m/s²\n"
     ]
    },
    {
     "data": {
      "text/plain": [
       "4.5"
      ]
     },
     "execution_count": 8,
     "metadata": {},
     "output_type": "execute_result"
    }
   ],
   "source": [
    "# só é possível passar parâmetros indicando o nome da variável e valor\n",
    "empuxo_3(0.5, 0.9 , 10)"
   ]
  },
  {
   "cell_type": "markdown",
   "metadata": {},
   "source": [
    "Função anônima"
   ]
  },
  {
   "cell_type": "code",
   "execution_count": 38,
   "metadata": {
    "collapsed": false
   },
   "outputs": [
    {
     "data": {
      "text/plain": [
       "(::#40) (generic function with 1 method)"
      ]
     },
     "execution_count": 38,
     "metadata": {},
     "output_type": "execute_result"
    }
   ],
   "source": [
    "fa_empuxo_3 = (v; d = 1.0, g = 9.8) ->  begin    \n",
    "    println(\"Volume: $v m³\")\n",
    "    println(\"Densidade: $d kg/m³\")\n",
    "    println(\"A.gravidade: $g m/s²\")\n",
    "    v*d*g\n",
    "    \n",
    "end"
   ]
  },
  {
   "cell_type": "code",
   "execution_count": 39,
   "metadata": {
    "collapsed": false,
    "scrolled": true
   },
   "outputs": [
    {
     "name": "stdout",
     "output_type": "stream",
     "text": [
      "Volume: 0.5 m³\n",
      "Densidade: 0.9 kg/m³\n",
      "A.gravidade: 10 m/s²\n"
     ]
    },
    {
     "data": {
      "text/plain": [
       "4.5"
      ]
     },
     "execution_count": 39,
     "metadata": {},
     "output_type": "execute_result"
    }
   ],
   "source": [
    "fa_empuxo_3(0.5, g = 10 , d = 0.9)"
   ]
  },
  {
   "cell_type": "markdown",
   "metadata": {},
   "source": [
    "## DESPACHO MÚLTIPLO\n",
    "\n",
    "`Julia` permite que uma função tenha mais de um método de tal forma que o método é determinado conforme os argumentos quando a função é executada. Em linguagens orientadas a objetos tradicionais, um método é escolhido com base apenas no tipo de objeto e esse paradigma é chamado de despacho único. Em `Julia`, a combinação de todos os argumentos de função determina qual método é escolhido. Esta é a base do despacho múltiplo. Para definir um novo método para uma função (também chamado de sobrecarga), basta usar o mesmo nome de função mas com diferentes tipos de argumento. Uma lista de todos os métodos é armazenada em uma tabela chamada de `vtable` na própria função. Quando uma função é chamada, `Julia` pesquisará em tempo de execução na `vtable` da função para descobrir qual o método deve chamar com base nos argumentos passados."
   ]
  },
  {
   "cell_type": "code",
   "execution_count": 45,
   "metadata": {
    "collapsed": false,
    "scrolled": true
   },
   "outputs": [
    {
     "name": "stderr",
     "output_type": "stream",
     "text": [
      "WARNING: Method definition empuxo_multiplo(Any, Any, Any) in module Main at In[45]:2 overwritten at In[45]:18.\n",
      "WARNING: Method definition empuxo_multiplo(Any) in module Main at In[45]:18 overwritten at In[45]:26.\n"
     ]
    },
    {
     "data": {
      "text/plain": [
       "empuxo_multiplo (generic function with 4 methods)"
      ]
     },
     "execution_count": 45,
     "metadata": {},
     "output_type": "execute_result"
    }
   ],
   "source": [
    "function empuxo_multiplo( v, d, g)\n",
    "    println(\"Volume: $v m³\")\n",
    "    println(\"Densidade: $d kg/m³\")\n",
    "    println(\"A.gravidade: $g m/s²\")\n",
    "    \n",
    "    return v*d*g\n",
    "end\n",
    "\n",
    "function empuxo_multiplo( v, d::Float64, g::Float64)\n",
    "    println(\"Volume: $v m³\")\n",
    "    println(\"Densidade: $d kg/m³\")\n",
    "    println(\"A.gravidade: $g m/s²\")\n",
    "    \n",
    "    return v*d*g\n",
    "end\n",
    "\n",
    "function empuxo_multiplo( v, d = 1.0, g = 9.8)\n",
    "    println(\"Volume: $v m³\")\n",
    "    println(\"Densidade: $d kg/m³\")\n",
    "    println(\"A.gravidade: $g m/s²\")\n",
    "    \n",
    "    return v*d*g\n",
    "end\n",
    "\n",
    "function empuxo_multiplo( v; d = 1.0, g = 9.8)\n",
    "    println(\"Volume: $v m³\")\n",
    "    println(\"Densidade: $d kg/m³\")\n",
    "    println(\"A.gravidade: $g m/s²\")\n",
    "    \n",
    "    return v*g*d\n",
    "end"
   ]
  },
  {
   "cell_type": "code",
   "execution_count": 46,
   "metadata": {
    "collapsed": false
   },
   "outputs": [
    {
     "name": "stdout",
     "output_type": "stream",
     "text": [
      "Volume: 0.05 m³\n",
      "Densidade: 1 kg/m³\n",
      "A.gravidade: 10 m/s²\n"
     ]
    },
    {
     "data": {
      "text/plain": [
       "0.5"
      ]
     },
     "execution_count": 46,
     "metadata": {},
     "output_type": "execute_result"
    }
   ],
   "source": [
    "empuxo_multiplo(0.05, 1, 10)"
   ]
  },
  {
   "cell_type": "code",
   "execution_count": 47,
   "metadata": {
    "collapsed": false,
    "scrolled": true
   },
   "outputs": [
    {
     "name": "stdout",
     "output_type": "stream",
     "text": [
      "Volume: 0.05 m³\n",
      "Densidade: 1.0 kg/m³\n",
      "A.gravidade: 10.0 m/s²\n"
     ]
    },
    {
     "data": {
      "text/plain": [
       "0.5"
      ]
     },
     "execution_count": 47,
     "metadata": {},
     "output_type": "execute_result"
    }
   ],
   "source": [
    "empuxo_multiplo(0.05, 1.0, 10.0)"
   ]
  },
  {
   "cell_type": "code",
   "execution_count": 48,
   "metadata": {
    "collapsed": false,
    "scrolled": true
   },
   "outputs": [
    {
     "name": "stdout",
     "output_type": "stream",
     "text": [
      "Volume: 0.05 m³\n",
      "Densidade: 1.0 kg/m³\n",
      "A.gravidade: 9.8 m/s²\n"
     ]
    },
    {
     "data": {
      "text/plain": [
       "0.49000000000000005"
      ]
     },
     "execution_count": 48,
     "metadata": {},
     "output_type": "execute_result"
    }
   ],
   "source": [
    "empuxo_multiplo(0.05)"
   ]
  },
  {
   "cell_type": "code",
   "execution_count": 49,
   "metadata": {
    "collapsed": false,
    "scrolled": true
   },
   "outputs": [
    {
     "name": "stdout",
     "output_type": "stream",
     "text": [
      "Volume: 0.05 m³\n",
      "Densidade: 1.0 kg/m³\n",
      "A.gravidade: 10 m/s²\n"
     ]
    },
    {
     "data": {
      "text/plain": [
       "0.5"
      ]
     },
     "execution_count": 49,
     "metadata": {},
     "output_type": "execute_result"
    }
   ],
   "source": [
    "empuxo_multiplo(0.05 , d = 1.0 , g = 10)"
   ]
  },
  {
   "cell_type": "code",
   "execution_count": 50,
   "metadata": {
    "collapsed": false,
    "scrolled": true
   },
   "outputs": [
    {
     "name": "stdout",
     "output_type": "stream",
     "text": [
      "Volume: 0.05 m³\n",
      "Densidade: 1.0 kg/m³\n",
      "A.gravidade: 10 m/s²\n"
     ]
    },
    {
     "data": {
      "text/plain": [
       "0.5"
      ]
     },
     "execution_count": 50,
     "metadata": {},
     "output_type": "execute_result"
    }
   ],
   "source": [
    "# a ordem não importa\n",
    "empuxo_multiplo(0.05 , g = 10 , d = 1.0)"
   ]
  },
  {
   "cell_type": "markdown",
   "metadata": {},
   "source": [
    "## FUNÇÕES ANINHADAS, CLOUSERES E CURRING\n",
    "\n",
    "Na linguagem Julia existe o conceito de funções aninhadas, no qual você pode definir funções dentro do corpo de outra função. um `Clousure` é uma função avaliada num ambiente que contenha uma ou mais variáveis dependentes de um outro meio ambiente. Quando é chamado, a função pode acessar essas variáveis. Uma closure ocorre normalmente quando uma função é declarada dentro do corpo de outra, e a função interior referencia variáveis locais da função exterior. Em tempo de execução, quando a função exterior é executada, então uma closure é formada, que consiste do código da função interior e referências para quaisquer variáveis no escopo da função exterior que a closure necessita.O uso explícito de `Clousures` está associada com linguagens de programação funcionais como ML e Lisp. \n",
    "\n",
    "O conceito de `Closure` foi desenvolvido nos anos 60 e implementado por completo, pela primeira vez como uma característica da linguagem `Scheme`. Desde então, muitas outras línguas foram concebidos para resistir a encerramentos. "
   ]
  },
  {
   "cell_type": "code",
   "execution_count": 27,
   "metadata": {
    "collapsed": false
   },
   "outputs": [
    {
     "name": "stderr",
     "output_type": "stream",
     "text": [
      "WARNING: Method definition raizes(Any, Any, Any) in module Main at In[22]:3 overwritten at In[27]:3.\n"
     ]
    },
    {
     "data": {
      "text/plain": [
       "raizes (generic function with 1 method)"
      ]
     },
     "execution_count": 27,
     "metadata": {},
     "output_type": "execute_result"
    }
   ],
   "source": [
    "function raizes(a, b, c)\n",
    "       \n",
    "    function delta()\n",
    "        return b^2 - 4*a*c\n",
    "    end\n",
    "    \n",
    "    return -b + sqrt(delta())/2*a, -b - sqrt(delta())/2*a\n",
    "end"
   ]
  },
  {
   "cell_type": "code",
   "execution_count": 28,
   "metadata": {
    "collapsed": false
   },
   "outputs": [
    {
     "data": {
      "text/plain": [
       "(1.4641016151377544,-5.464101615137754)"
      ]
     },
     "execution_count": 28,
     "metadata": {},
     "output_type": "execute_result"
    }
   ],
   "source": [
    "raizes(2, 2, -1)"
   ]
  },
  {
   "cell_type": "markdown",
   "metadata": {},
   "source": [
    "### Curring\n",
    "\n",
    "Currying é uma técnica muito utilizada em linguagens funcionais, que consiste em transformar uma função que recebe múltiplos argumentos em uma sequência de funções que recebem um único argumento (LUCAS SOUSA (), XXX). A principal razão para utilizar a técnica de currying em `Julia` é tornar possível executar uma função com um número reduzido de argumentos para funcionar. Exemplo de `Curring`:"
   ]
  },
  {
   "cell_type": "code",
   "execution_count": 16,
   "metadata": {
    "collapsed": false
   },
   "outputs": [
    {
     "data": {
      "text/plain": [
       "produto (generic function with 1 method)"
      ]
     },
     "execution_count": 16,
     "metadata": {},
     "output_type": "execute_result"
    }
   ],
   "source": [
    "function produto(x)\n",
    "    return function f(y)\n",
    "        return x*y\n",
    "    end\n",
    "end"
   ]
  },
  {
   "cell_type": "markdown",
   "metadata": {},
   "source": [
    "A função `produto` recebe apenas um argumento e retorna outra função que recebe também apenas um argumento de entrada"
   ]
  },
  {
   "cell_type": "code",
   "execution_count": 19,
   "metadata": {
    "collapsed": false,
    "scrolled": true
   },
   "outputs": [
    {
     "data": {
      "text/plain": [
       "(::f) (generic function with 1 method)"
      ]
     },
     "execution_count": 19,
     "metadata": {},
     "output_type": "execute_result"
    }
   ],
   "source": [
    "funcaoP = produto(5)"
   ]
  },
  {
   "cell_type": "code",
   "execution_count": 21,
   "metadata": {
    "collapsed": false
   },
   "outputs": [
    {
     "data": {
      "text/plain": [
       "10"
      ]
     },
     "execution_count": 21,
     "metadata": {},
     "output_type": "execute_result"
    }
   ],
   "source": [
    "funcaoP(2)"
   ]
  },
  {
   "cell_type": "code",
   "execution_count": 22,
   "metadata": {
    "collapsed": false
   },
   "outputs": [
    {
     "data": {
      "text/plain": [
       "10"
      ]
     },
     "execution_count": 22,
     "metadata": {},
     "output_type": "execute_result"
    }
   ],
   "source": [
    "produto(5)(2)"
   ]
  },
  {
   "cell_type": "code",
   "execution_count": 18,
   "metadata": {
    "collapsed": false,
    "scrolled": true
   },
   "outputs": [
    {
     "data": {
      "text/plain": [
       "funcaoA (generic function with 1 method)"
      ]
     },
     "execution_count": 18,
     "metadata": {},
     "output_type": "execute_result"
    }
   ],
   "source": [
    "function funcaoA(expoente)\n",
    "    f(x) =   x^expoente\n",
    "end"
   ]
  },
  {
   "cell_type": "markdown",
   "metadata": {},
   "source": [
    "Abaixo podemos ver que o retorno da função genérica  $x^{2}$ para `funcaoB`"
   ]
  },
  {
   "cell_type": "code",
   "execution_count": 23,
   "metadata": {
    "collapsed": false
   },
   "outputs": [
    {
     "data": {
      "text/plain": [
       "(::f) (generic function with 1 method)"
      ]
     },
     "execution_count": 23,
     "metadata": {},
     "output_type": "execute_result"
    }
   ],
   "source": [
    "funcaoB = funcaoA(2)"
   ]
  },
  {
   "cell_type": "code",
   "execution_count": 24,
   "metadata": {
    "collapsed": false
   },
   "outputs": [
    {
     "data": {
      "text/plain": [
       "9"
      ]
     },
     "execution_count": 24,
     "metadata": {},
     "output_type": "execute_result"
    }
   ],
   "source": [
    "funcaoB(3)"
   ]
  },
  {
   "cell_type": "code",
   "execution_count": 25,
   "metadata": {
    "collapsed": false,
    "scrolled": false
   },
   "outputs": [
    {
     "data": {
      "text/plain": [
       "9"
      ]
     },
     "execution_count": 25,
     "metadata": {},
     "output_type": "execute_result"
    }
   ],
   "source": [
    "funcaoA(2)(3)"
   ]
  },
  {
   "cell_type": "markdown",
   "metadata": {},
   "source": [
    "Utilizando uma função anônima"
   ]
  },
  {
   "cell_type": "code",
   "execution_count": 42,
   "metadata": {
    "collapsed": false
   },
   "outputs": [
    {
     "data": {
      "text/plain": [
       "(::#50) (generic function with 1 method)"
      ]
     },
     "execution_count": 42,
     "metadata": {},
     "output_type": "execute_result"
    }
   ],
   "source": [
    "fA = (expoente ->  x -> x^expoente)(2)"
   ]
  },
  {
   "cell_type": "code",
   "execution_count": 43,
   "metadata": {
    "collapsed": false
   },
   "outputs": [
    {
     "data": {
      "text/plain": [
       "9"
      ]
     },
     "execution_count": 43,
     "metadata": {},
     "output_type": "execute_result"
    }
   ],
   "source": [
    "fA(3)"
   ]
  },
  {
   "cell_type": "code",
   "execution_count": 44,
   "metadata": {
    "collapsed": false
   },
   "outputs": [
    {
     "data": {
      "text/plain": [
       "9"
      ]
     },
     "execution_count": 44,
     "metadata": {},
     "output_type": "execute_result"
    }
   ],
   "source": [
    "(expoente -> x -> x^expoente)(2)(3)"
   ]
  },
  {
   "cell_type": "markdown",
   "metadata": {},
   "source": [
    "### FUNÇÃO COMPOSTA\n",
    "\n",
    "A função composta, de acordo com a matemática, pode ser entendida pela determinação de uma terceira função C, formada pela junção das funções A e B. \n",
    "\n",
    "<img src=\"Figuras/funcao-composta.png\" align=\"center\" width=\"300\">\n",
    "\n",
    "Matematicamente falando, definimos a composta de f com g e chamamos por  (f “bola” g), à função dada por  $(f o g)(x) = f(g(x))$. A função $h(x) = f(g(x))$ é então chamada de função composta de f com g, aplicada em x.\n"
   ]
  },
  {
   "cell_type": "code",
   "execution_count": 11,
   "metadata": {
    "collapsed": false,
    "scrolled": true
   },
   "outputs": [
    {
     "data": {
      "text/plain": [
       "∘ (generic function with 1 method)"
      ]
     },
     "execution_count": 11,
     "metadata": {},
     "output_type": "execute_result"
    }
   ],
   "source": [
    "f ∘ g = x -> f(g(x))"
   ]
  },
  {
   "cell_type": "code",
   "execution_count": 12,
   "metadata": {
    "collapsed": false
   },
   "outputs": [
    {
     "data": {
      "text/plain": [
       "p (generic function with 1 method)"
      ]
     },
     "execution_count": 12,
     "metadata": {},
     "output_type": "execute_result"
    }
   ],
   "source": [
    "p(f, g) = x -> f(g(x))"
   ]
  },
  {
   "cell_type": "code",
   "execution_count": 20,
   "metadata": {
    "collapsed": false
   },
   "outputs": [
    {
     "data": {
      "text/plain": [
       "9"
      ]
     },
     "execution_count": 20,
     "metadata": {},
     "output_type": "execute_result"
    }
   ],
   "source": [
    "p(fg,fh)(2) "
   ]
  },
  {
   "cell_type": "code",
   "execution_count": 19,
   "metadata": {
    "collapsed": false
   },
   "outputs": [
    {
     "data": {
      "text/plain": [
       "1"
      ]
     },
     "execution_count": 19,
     "metadata": {},
     "output_type": "execute_result"
    }
   ],
   "source": [
    "(fg ∘ fh)(0)"
   ]
  },
  {
   "cell_type": "code",
   "execution_count": 17,
   "metadata": {
    "collapsed": false
   },
   "outputs": [
    {
     "data": {
      "text/plain": [
       "fg (generic function with 1 method)"
      ]
     },
     "execution_count": 17,
     "metadata": {},
     "output_type": "execute_result"
    }
   ],
   "source": [
    "fg(x) = x^2"
   ]
  },
  {
   "cell_type": "code",
   "execution_count": 18,
   "metadata": {
    "collapsed": false
   },
   "outputs": [
    {
     "data": {
      "text/plain": [
       "fh (generic function with 1 method)"
      ]
     },
     "execution_count": 18,
     "metadata": {},
     "output_type": "execute_result"
    }
   ],
   "source": [
    "fh(x) = x + 1"
   ]
  },
  {
   "cell_type": "code",
   "execution_count": 21,
   "metadata": {
    "collapsed": false
   },
   "outputs": [
    {
     "data": {
      "text/plain": [
       "5"
      ]
     },
     "execution_count": 21,
     "metadata": {},
     "output_type": "execute_result"
    }
   ],
   "source": [
    "fh(fg(2))"
   ]
  },
  {
   "cell_type": "code",
   "execution_count": 22,
   "metadata": {
    "collapsed": false
   },
   "outputs": [
    {
     "data": {
      "text/plain": [
       "3"
      ]
     },
     "execution_count": 22,
     "metadata": {},
     "output_type": "execute_result"
    }
   ],
   "source": [
    "fh(2)"
   ]
  },
  {
   "cell_type": "code",
   "execution_count": 5,
   "metadata": {
    "collapsed": false
   },
   "outputs": [
    {
     "data": {
      "text/plain": [
       "fp (generic function with 1 method)"
      ]
     },
     "execution_count": 5,
     "metadata": {},
     "output_type": "execute_result"
    }
   ],
   "source": [
    "fp(x) = sind(x)"
   ]
  },
  {
   "cell_type": "code",
   "execution_count": 6,
   "metadata": {
    "collapsed": false
   },
   "outputs": [
    {
     "data": {
      "text/plain": [
       "fq (generic function with 1 method)"
      ]
     },
     "execution_count": 6,
     "metadata": {},
     "output_type": "execute_result"
    }
   ],
   "source": [
    "fq(x, y) = x + y + 1"
   ]
  },
  {
   "cell_type": "code",
   "execution_count": 7,
   "metadata": {
    "collapsed": false
   },
   "outputs": [
    {
     "data": {
      "text/plain": [
       "2.0"
      ]
     },
     "execution_count": 7,
     "metadata": {},
     "output_type": "execute_result"
    }
   ],
   "source": [
    "fq(fg(1), fp(0))"
   ]
  },
  {
   "cell_type": "code",
   "execution_count": 8,
   "metadata": {
    "collapsed": false,
    "scrolled": false
   },
   "outputs": [
    {
     "data": {
      "text/plain": [
       "1"
      ]
     },
     "execution_count": 8,
     "metadata": {},
     "output_type": "execute_result"
    }
   ],
   "source": [
    "fq(0,0)"
   ]
  },
  {
   "cell_type": "markdown",
   "metadata": {},
   "source": [
    "**Circuito RLC**\n",
    "\n",
    "Um circuito RLC série consiste de um resistor de 300Ω, um capacitor de 3μF  e uma  bobina de 200mH conectados a um  gerador de fem  CA de 110V, no  qual  oscila numa frequência  de 90Hz. Calcular a Impedância.\n",
    "\n",
    "<img src=\"Figuras/RLC.png\" align=\"center\" width=\"250\">"
   ]
  },
  {
   "cell_type": "markdown",
   "metadata": {},
   "source": [
    "Formulas do problema:\n",
    "\n",
    "$ \\displaystyle X_c = {1 \\over {2 \\pi f c}}$ : reatancia capacitiva ($\\Omega $)\n",
    "\n",
    "$ \\displaystyle X_l = 2 \\pi f l$ : reatancia indutiva ($\\Omega $)\n",
    "\n",
    "$ \\displaystyle Z_t = \\sqrt{r^2 + (x_l - x_c)^2} $ : impedancia total ($\\Omega $)\n",
    "\n",
    "Sendo $f$ a frequencia (Hz), $c$ a capacitância (F), $l$ a indutância (H) e $r$ a resistencia (ohm)"
   ]
  },
  {
   "cell_type": "code",
   "execution_count": 35,
   "metadata": {
    "collapsed": false,
    "scrolled": true
   },
   "outputs": [
    {
     "data": {
      "text/plain": [
       "Zt (generic function with 1 method)"
      ]
     },
     "execution_count": 35,
     "metadata": {},
     "output_type": "execute_result"
    }
   ],
   "source": [
    "# Reatâcia capacitiva em função da frequencia e capacitância\n",
    "Xc(f, c) = 1/(2*pi*f*c)\n",
    "\n",
    "# Reatância Indutiva em função da frequencia e indutância\n",
    "Xl(f, l) = 2*pi*f*l\n",
    "\n",
    "# Impedância Total em fução da Xc, Xl e resistência\n",
    "Zt(xc, xl, r) = sqrt(r^2 + (xl - xc)^2)  "
   ]
  },
  {
   "cell_type": "markdown",
   "metadata": {},
   "source": [
    "Passando os dados da frequencia da rede CA, capacitância do capacitor, indutância da bobina e resistencia:"
   ]
  },
  {
   "cell_type": "code",
   "execution_count": 36,
   "metadata": {
    "collapsed": false
   },
   "outputs": [
    {
     "data": {
      "text/plain": [
       "562.9600431580267"
      ]
     },
     "execution_count": 36,
     "metadata": {},
     "output_type": "execute_result"
    }
   ],
   "source": [
    "Zt(Xc(90, 3e-6), Xl(90, 200e-3), 300 ) "
   ]
  },
  {
   "cell_type": "markdown",
   "metadata": {},
   "source": [
    "A vantagem desta modelagem é que além de poder passar para a função $Z_t$ as funções definidas de $X_c$ e $X_l$, é possível também passar diretamente os valores. Isto dá mais agilidade ao pesquisador."
   ]
  },
  {
   "cell_type": "code",
   "execution_count": 37,
   "metadata": {
    "collapsed": false,
    "scrolled": true
   },
   "outputs": [
    {
     "data": {
      "text/plain": [
       "562.9893071808735"
      ]
     },
     "execution_count": 37,
     "metadata": {},
     "output_type": "execute_result"
    }
   ],
   "source": [
    "# Xc = 589.5 , Xl = 113.1 e r = 300\n",
    "Zt(589.5, 113.1, 300)"
   ]
  },
  {
   "cell_type": "markdown",
   "metadata": {},
   "source": [
    "Dessa forma, podemos visualizar a variação da impedância, por exemplo, em função da frequencia da fonte CA. No exemplo abaixo, a frequencia varia de 1 a 120Hz"
   ]
  },
  {
   "cell_type": "code",
   "execution_count": 38,
   "metadata": {
    "collapsed": false
   },
   "outputs": [],
   "source": [
    "# Dados de entrada\n",
    "Fq = 1:120\n",
    "ImpT = Zt.(Xc.(Fq, 3e-6), Xl.(Fq, 200e-3), 300 );"
   ]
  },
  {
   "cell_type": "code",
   "execution_count": 39,
   "metadata": {
    "collapsed": false,
    "scrolled": true
   },
   "outputs": [
    {
     "data": {
      "text/html": [
       "<?xml version=\"1.0\" encoding=\"utf-8\"?>\n",
       "<svg xmlns=\"http://www.w3.org/2000/svg\" xmlns:xlink=\"http://www.w3.org/1999/xlink\" width=\"600\" height=\"400\" viewBox=\"0 0 600 400\">\n",
       "<defs>\n",
       "  <clipPath id=\"clip00\">\n",
       "    <rect x=\"0\" y=\"0\" width=\"600\" height=\"400\"/>\n",
       "  </clipPath>\n",
       "</defs>\n",
       "<polygon clip-path=\"url(#clip00)\" points=\"\n",
       "0,400 600,400 600,0 0,0 \n",
       "  \" fill=\"#ffffff\" fill-opacity=\"1\"/>\n",
       "<defs>\n",
       "  <clipPath id=\"clip01\">\n",
       "    <rect x=\"120\" y=\"0\" width=\"421\" height=\"400\"/>\n",
       "  </clipPath>\n",
       "</defs>\n",
       "<polygon clip-path=\"url(#clip00)\" points=\"\n",
       "67.5962,365.737 596.063,365.737 596.063,3.93701 67.5962,3.93701 \n",
       "  \" fill=\"#ffffff\" fill-opacity=\"1\"/>\n",
       "<defs>\n",
       "  <clipPath id=\"clip02\">\n",
       "    <rect x=\"67\" y=\"3\" width=\"529\" height=\"362\"/>\n",
       "  </clipPath>\n",
       "</defs>\n",
       "<polyline clip-path=\"url(#clip02)\" style=\"stroke:#00002d; stroke-width:0.8; stroke-opacity:0.5; fill:none\" stroke-dasharray=\"1, 2\" points=\"\n",
       "  67.5962,360.31 67.5962,9.36401 \n",
       "  \"/>\n",
       "<polyline clip-path=\"url(#clip02)\" style=\"stroke:#00002d; stroke-width:0.8; stroke-opacity:0.5; fill:none\" stroke-dasharray=\"1, 2\" points=\"\n",
       "  105.344,360.31 105.344,9.36401 \n",
       "  \"/>\n",
       "<polyline clip-path=\"url(#clip02)\" style=\"stroke:#00002d; stroke-width:0.8; stroke-opacity:0.5; fill:none\" stroke-dasharray=\"1, 2\" points=\"\n",
       "  143.091,360.31 143.091,9.36401 \n",
       "  \"/>\n",
       "<polyline clip-path=\"url(#clip02)\" style=\"stroke:#00002d; stroke-width:0.8; stroke-opacity:0.5; fill:none\" stroke-dasharray=\"1, 2\" points=\"\n",
       "  180.839,360.31 180.839,9.36401 \n",
       "  \"/>\n",
       "<polyline clip-path=\"url(#clip02)\" style=\"stroke:#00002d; stroke-width:0.8; stroke-opacity:0.5; fill:none\" stroke-dasharray=\"1, 2\" points=\"\n",
       "  218.587,360.31 218.587,9.36401 \n",
       "  \"/>\n",
       "<polyline clip-path=\"url(#clip02)\" style=\"stroke:#00002d; stroke-width:0.8; stroke-opacity:0.5; fill:none\" stroke-dasharray=\"1, 2\" points=\"\n",
       "  256.334,360.31 256.334,9.36401 \n",
       "  \"/>\n",
       "<polyline clip-path=\"url(#clip02)\" style=\"stroke:#00002d; stroke-width:0.8; stroke-opacity:0.5; fill:none\" stroke-dasharray=\"1, 2\" points=\"\n",
       "  294.082,360.31 294.082,9.36401 \n",
       "  \"/>\n",
       "<polyline clip-path=\"url(#clip02)\" style=\"stroke:#00002d; stroke-width:0.8; stroke-opacity:0.5; fill:none\" stroke-dasharray=\"1, 2\" points=\"\n",
       "  331.83,360.31 331.83,9.36401 \n",
       "  \"/>\n",
       "<polyline clip-path=\"url(#clip02)\" style=\"stroke:#00002d; stroke-width:0.8; stroke-opacity:0.5; fill:none\" stroke-dasharray=\"1, 2\" points=\"\n",
       "  369.577,360.31 369.577,9.36401 \n",
       "  \"/>\n",
       "<polyline clip-path=\"url(#clip02)\" style=\"stroke:#00002d; stroke-width:0.8; stroke-opacity:0.5; fill:none\" stroke-dasharray=\"1, 2\" points=\"\n",
       "  407.325,360.31 407.325,9.36401 \n",
       "  \"/>\n",
       "<polyline clip-path=\"url(#clip02)\" style=\"stroke:#00002d; stroke-width:0.8; stroke-opacity:0.5; fill:none\" stroke-dasharray=\"1, 2\" points=\"\n",
       "  445.072,360.31 445.072,9.36401 \n",
       "  \"/>\n",
       "<polyline clip-path=\"url(#clip02)\" style=\"stroke:#00002d; stroke-width:0.8; stroke-opacity:0.5; fill:none\" stroke-dasharray=\"1, 2\" points=\"\n",
       "  482.82,360.31 482.82,9.36401 \n",
       "  \"/>\n",
       "<polyline clip-path=\"url(#clip02)\" style=\"stroke:#00002d; stroke-width:0.8; stroke-opacity:0.5; fill:none\" stroke-dasharray=\"1, 2\" points=\"\n",
       "  520.568,360.31 520.568,9.36401 \n",
       "  \"/>\n",
       "<polyline clip-path=\"url(#clip02)\" style=\"stroke:#00002d; stroke-width:0.8; stroke-opacity:0.5; fill:none\" stroke-dasharray=\"1, 2\" points=\"\n",
       "  558.315,360.31 558.315,9.36401 \n",
       "  \"/>\n",
       "<polyline clip-path=\"url(#clip02)\" style=\"stroke:#00002d; stroke-width:0.8; stroke-opacity:0.5; fill:none\" stroke-dasharray=\"1, 2\" points=\"\n",
       "  596.063,360.31 596.063,9.36401 \n",
       "  \"/>\n",
       "<polyline clip-path=\"url(#clip02)\" style=\"stroke:#00002d; stroke-width:0.8; stroke-opacity:0.5; fill:none\" stroke-dasharray=\"1, 2\" points=\"\n",
       "  75.5232,299.871 588.136,299.871 \n",
       "  \"/>\n",
       "<polyline clip-path=\"url(#clip02)\" style=\"stroke:#00002d; stroke-width:0.8; stroke-opacity:0.5; fill:none\" stroke-dasharray=\"1, 2\" points=\"\n",
       "  75.5232,231.131 588.136,231.131 \n",
       "  \"/>\n",
       "<polyline clip-path=\"url(#clip02)\" style=\"stroke:#00002d; stroke-width:0.8; stroke-opacity:0.5; fill:none\" stroke-dasharray=\"1, 2\" points=\"\n",
       "  75.5232,162.391 588.136,162.391 \n",
       "  \"/>\n",
       "<polyline clip-path=\"url(#clip02)\" style=\"stroke:#00002d; stroke-width:0.8; stroke-opacity:0.5; fill:none\" stroke-dasharray=\"1, 2\" points=\"\n",
       "  75.5232,93.6513 588.136,93.6513 \n",
       "  \"/>\n",
       "<polyline clip-path=\"url(#clip02)\" style=\"stroke:#00002d; stroke-width:0.8; stroke-opacity:0.5; fill:none\" stroke-dasharray=\"1, 2\" points=\"\n",
       "  75.5232,24.9112 588.136,24.9112 \n",
       "  \"/>\n",
       "<polyline clip-path=\"url(#clip02)\" style=\"stroke:#00002d; stroke-width:0.8; stroke-opacity:1; fill:none\" points=\"\n",
       "  67.5962,365.737 596.063,365.737 \n",
       "  \"/>\n",
       "<polyline clip-path=\"url(#clip02)\" style=\"stroke:#00002d; stroke-width:0.8; stroke-opacity:1; fill:none\" points=\"\n",
       "  67.5962,365.737 67.5962,360.31 \n",
       "  \"/>\n",
       "<polyline clip-path=\"url(#clip02)\" style=\"stroke:#00002d; stroke-width:0.8; stroke-opacity:1; fill:none\" points=\"\n",
       "  105.344,365.737 105.344,360.31 \n",
       "  \"/>\n",
       "<polyline clip-path=\"url(#clip02)\" style=\"stroke:#00002d; stroke-width:0.8; stroke-opacity:1; fill:none\" points=\"\n",
       "  143.091,365.737 143.091,360.31 \n",
       "  \"/>\n",
       "<polyline clip-path=\"url(#clip02)\" style=\"stroke:#00002d; stroke-width:0.8; stroke-opacity:1; fill:none\" points=\"\n",
       "  180.839,365.737 180.839,360.31 \n",
       "  \"/>\n",
       "<polyline clip-path=\"url(#clip02)\" style=\"stroke:#00002d; stroke-width:0.8; stroke-opacity:1; fill:none\" points=\"\n",
       "  218.587,365.737 218.587,360.31 \n",
       "  \"/>\n",
       "<polyline clip-path=\"url(#clip02)\" style=\"stroke:#00002d; stroke-width:0.8; stroke-opacity:1; fill:none\" points=\"\n",
       "  256.334,365.737 256.334,360.31 \n",
       "  \"/>\n",
       "<polyline clip-path=\"url(#clip02)\" style=\"stroke:#00002d; stroke-width:0.8; stroke-opacity:1; fill:none\" points=\"\n",
       "  294.082,365.737 294.082,360.31 \n",
       "  \"/>\n",
       "<polyline clip-path=\"url(#clip02)\" style=\"stroke:#00002d; stroke-width:0.8; stroke-opacity:1; fill:none\" points=\"\n",
       "  331.83,365.737 331.83,360.31 \n",
       "  \"/>\n",
       "<polyline clip-path=\"url(#clip02)\" style=\"stroke:#00002d; stroke-width:0.8; stroke-opacity:1; fill:none\" points=\"\n",
       "  369.577,365.737 369.577,360.31 \n",
       "  \"/>\n",
       "<polyline clip-path=\"url(#clip02)\" style=\"stroke:#00002d; stroke-width:0.8; stroke-opacity:1; fill:none\" points=\"\n",
       "  407.325,365.737 407.325,360.31 \n",
       "  \"/>\n",
       "<polyline clip-path=\"url(#clip02)\" style=\"stroke:#00002d; stroke-width:0.8; stroke-opacity:1; fill:none\" points=\"\n",
       "  445.072,365.737 445.072,360.31 \n",
       "  \"/>\n",
       "<polyline clip-path=\"url(#clip02)\" style=\"stroke:#00002d; stroke-width:0.8; stroke-opacity:1; fill:none\" points=\"\n",
       "  482.82,365.737 482.82,360.31 \n",
       "  \"/>\n",
       "<polyline clip-path=\"url(#clip02)\" style=\"stroke:#00002d; stroke-width:0.8; stroke-opacity:1; fill:none\" points=\"\n",
       "  520.568,365.737 520.568,360.31 \n",
       "  \"/>\n",
       "<polyline clip-path=\"url(#clip02)\" style=\"stroke:#00002d; stroke-width:0.8; stroke-opacity:1; fill:none\" points=\"\n",
       "  558.315,365.737 558.315,360.31 \n",
       "  \"/>\n",
       "<polyline clip-path=\"url(#clip02)\" style=\"stroke:#00002d; stroke-width:0.8; stroke-opacity:1; fill:none\" points=\"\n",
       "  596.063,365.737 596.063,360.31 \n",
       "  \"/>\n",
       "<polyline clip-path=\"url(#clip02)\" style=\"stroke:#00002d; stroke-width:0.8; stroke-opacity:1; fill:none\" points=\"\n",
       "  67.5962,365.737 67.5962,3.93701 \n",
       "  \"/>\n",
       "<polyline clip-path=\"url(#clip02)\" style=\"stroke:#00002d; stroke-width:0.8; stroke-opacity:1; fill:none\" points=\"\n",
       "  67.5962,299.871 75.5232,299.871 \n",
       "  \"/>\n",
       "<polyline clip-path=\"url(#clip02)\" style=\"stroke:#00002d; stroke-width:0.8; stroke-opacity:1; fill:none\" points=\"\n",
       "  67.5962,231.131 75.5232,231.131 \n",
       "  \"/>\n",
       "<polyline clip-path=\"url(#clip02)\" style=\"stroke:#00002d; stroke-width:0.8; stroke-opacity:1; fill:none\" points=\"\n",
       "  67.5962,162.391 75.5232,162.391 \n",
       "  \"/>\n",
       "<polyline clip-path=\"url(#clip02)\" style=\"stroke:#00002d; stroke-width:0.8; stroke-opacity:1; fill:none\" points=\"\n",
       "  67.5962,93.6513 75.5232,93.6513 \n",
       "  \"/>\n",
       "<polyline clip-path=\"url(#clip02)\" style=\"stroke:#00002d; stroke-width:0.8; stroke-opacity:1; fill:none\" points=\"\n",
       "  67.5962,24.9112 75.5232,24.9112 \n",
       "  \"/>\n",
       "<g clip-path=\"url(#clip00)\">\n",
       "<text style=\"fill:#00002d; fill-opacity:1; font-family:Arial,Helvetica Neue,Helvetica,sans-serif; font-size:12; text-anchor:middle;\" transform=\"rotate(0, 67.5962, 377.737)\" x=\"67.5962\" y=\"377.737\">1.0</text>\n",
       "</g>\n",
       "<g clip-path=\"url(#clip00)\">\n",
       "<text style=\"fill:#00002d; fill-opacity:1; font-family:Arial,Helvetica Neue,Helvetica,sans-serif; font-size:12; text-anchor:middle;\" transform=\"rotate(0, 105.344, 377.737)\" x=\"105.344\" y=\"377.737\">9.5</text>\n",
       "</g>\n",
       "<g clip-path=\"url(#clip00)\">\n",
       "<text style=\"fill:#00002d; fill-opacity:1; font-family:Arial,Helvetica Neue,Helvetica,sans-serif; font-size:12; text-anchor:middle;\" transform=\"rotate(0, 143.091, 377.737)\" x=\"143.091\" y=\"377.737\">18.0</text>\n",
       "</g>\n",
       "<g clip-path=\"url(#clip00)\">\n",
       "<text style=\"fill:#00002d; fill-opacity:1; font-family:Arial,Helvetica Neue,Helvetica,sans-serif; font-size:12; text-anchor:middle;\" transform=\"rotate(0, 180.839, 377.737)\" x=\"180.839\" y=\"377.737\">26.5</text>\n",
       "</g>\n",
       "<g clip-path=\"url(#clip00)\">\n",
       "<text style=\"fill:#00002d; fill-opacity:1; font-family:Arial,Helvetica Neue,Helvetica,sans-serif; font-size:12; text-anchor:middle;\" transform=\"rotate(0, 218.587, 377.737)\" x=\"218.587\" y=\"377.737\">35.0</text>\n",
       "</g>\n",
       "<g clip-path=\"url(#clip00)\">\n",
       "<text style=\"fill:#00002d; fill-opacity:1; font-family:Arial,Helvetica Neue,Helvetica,sans-serif; font-size:12; text-anchor:middle;\" transform=\"rotate(0, 256.334, 377.737)\" x=\"256.334\" y=\"377.737\">43.5</text>\n",
       "</g>\n",
       "<g clip-path=\"url(#clip00)\">\n",
       "<text style=\"fill:#00002d; fill-opacity:1; font-family:Arial,Helvetica Neue,Helvetica,sans-serif; font-size:12; text-anchor:middle;\" transform=\"rotate(0, 294.082, 377.737)\" x=\"294.082\" y=\"377.737\">52.0</text>\n",
       "</g>\n",
       "<g clip-path=\"url(#clip00)\">\n",
       "<text style=\"fill:#00002d; fill-opacity:1; font-family:Arial,Helvetica Neue,Helvetica,sans-serif; font-size:12; text-anchor:middle;\" transform=\"rotate(0, 331.83, 377.737)\" x=\"331.83\" y=\"377.737\">60.5</text>\n",
       "</g>\n",
       "<g clip-path=\"url(#clip00)\">\n",
       "<text style=\"fill:#00002d; fill-opacity:1; font-family:Arial,Helvetica Neue,Helvetica,sans-serif; font-size:12; text-anchor:middle;\" transform=\"rotate(0, 369.577, 377.737)\" x=\"369.577\" y=\"377.737\">69.0</text>\n",
       "</g>\n",
       "<g clip-path=\"url(#clip00)\">\n",
       "<text style=\"fill:#00002d; fill-opacity:1; font-family:Arial,Helvetica Neue,Helvetica,sans-serif; font-size:12; text-anchor:middle;\" transform=\"rotate(0, 407.325, 377.737)\" x=\"407.325\" y=\"377.737\">77.5</text>\n",
       "</g>\n",
       "<g clip-path=\"url(#clip00)\">\n",
       "<text style=\"fill:#00002d; fill-opacity:1; font-family:Arial,Helvetica Neue,Helvetica,sans-serif; font-size:12; text-anchor:middle;\" transform=\"rotate(0, 445.072, 377.737)\" x=\"445.072\" y=\"377.737\">86.0</text>\n",
       "</g>\n",
       "<g clip-path=\"url(#clip00)\">\n",
       "<text style=\"fill:#00002d; fill-opacity:1; font-family:Arial,Helvetica Neue,Helvetica,sans-serif; font-size:12; text-anchor:middle;\" transform=\"rotate(0, 482.82, 377.737)\" x=\"482.82\" y=\"377.737\">94.5</text>\n",
       "</g>\n",
       "<g clip-path=\"url(#clip00)\">\n",
       "<text style=\"fill:#00002d; fill-opacity:1; font-family:Arial,Helvetica Neue,Helvetica,sans-serif; font-size:12; text-anchor:middle;\" transform=\"rotate(0, 520.568, 377.737)\" x=\"520.568\" y=\"377.737\">103.0</text>\n",
       "</g>\n",
       "<g clip-path=\"url(#clip00)\">\n",
       "<text style=\"fill:#00002d; fill-opacity:1; font-family:Arial,Helvetica Neue,Helvetica,sans-serif; font-size:12; text-anchor:middle;\" transform=\"rotate(0, 558.315, 377.737)\" x=\"558.315\" y=\"377.737\">111.5</text>\n",
       "</g>\n",
       "<g clip-path=\"url(#clip00)\">\n",
       "<text style=\"fill:#00002d; fill-opacity:1; font-family:Arial,Helvetica Neue,Helvetica,sans-serif; font-size:12; text-anchor:middle;\" transform=\"rotate(0, 596.063, 377.737)\" x=\"596.063\" y=\"377.737\">120.0</text>\n",
       "</g>\n",
       "<g clip-path=\"url(#clip00)\">\n",
       "<text style=\"fill:#00002d; fill-opacity:1; font-family:Arial,Helvetica Neue,Helvetica,sans-serif; font-size:12; text-anchor:end;\" transform=\"rotate(0, 66.3962, 304.371)\" x=\"66.3962\" y=\"304.371\">10000</text>\n",
       "</g>\n",
       "<g clip-path=\"url(#clip00)\">\n",
       "<text style=\"fill:#00002d; fill-opacity:1; font-family:Arial,Helvetica Neue,Helvetica,sans-serif; font-size:12; text-anchor:end;\" transform=\"rotate(0, 66.3962, 235.631)\" x=\"66.3962\" y=\"235.631\">20000</text>\n",
       "</g>\n",
       "<g clip-path=\"url(#clip00)\">\n",
       "<text style=\"fill:#00002d; fill-opacity:1; font-family:Arial,Helvetica Neue,Helvetica,sans-serif; font-size:12; text-anchor:end;\" transform=\"rotate(0, 66.3962, 166.891)\" x=\"66.3962\" y=\"166.891\">30000</text>\n",
       "</g>\n",
       "<g clip-path=\"url(#clip00)\">\n",
       "<text style=\"fill:#00002d; fill-opacity:1; font-family:Arial,Helvetica Neue,Helvetica,sans-serif; font-size:12; text-anchor:end;\" transform=\"rotate(0, 66.3962, 98.1513)\" x=\"66.3962\" y=\"98.1513\">40000</text>\n",
       "</g>\n",
       "<g clip-path=\"url(#clip00)\">\n",
       "<text style=\"fill:#00002d; fill-opacity:1; font-family:Arial,Helvetica Neue,Helvetica,sans-serif; font-size:12; text-anchor:end;\" transform=\"rotate(0, 66.3962, 29.4112)\" x=\"66.3962\" y=\"29.4112\">50000</text>\n",
       "</g>\n",
       "<g clip-path=\"url(#clip00)\">\n",
       "<text style=\"fill:#00002d; fill-opacity:1; font-family:Arial,Helvetica Neue,Helvetica,sans-serif; font-size:16; text-anchor:middle;\" transform=\"rotate(0, 331.83, 397.6)\" x=\"331.83\" y=\"397.6\">Freq(Hz)</text>\n",
       "</g>\n",
       "<g clip-path=\"url(#clip00)\">\n",
       "<text style=\"fill:#00002d; fill-opacity:1; font-family:Arial,Helvetica Neue,Helvetica,sans-serif; font-size:16; text-anchor:middle;\" transform=\"rotate(-90, 14.4, 184.837)\" x=\"14.4\" y=\"184.837\">Imped(ohm)</text>\n",
       "</g>\n",
       "<polyline clip-path=\"url(#clip02)\" style=\"stroke:#0099ff; stroke-width:0.8; stroke-opacity:1; fill:none\" points=\"\n",
       "  67.5962,3.93701 72.0371,186.278 76.478,247.061 80.9189,277.453 85.3598,295.69 89.8007,307.849 94.2416,316.534 98.6825,323.049 103.123,328.117 107.564,332.172 \n",
       "  112.005,335.49 116.446,338.255 120.887,340.596 125.328,342.602 129.769,344.341 134.21,345.864 138.651,347.207 143.091,348.402 147.532,349.471 151.973,350.433 \n",
       "  156.414,351.304 160.855,352.096 165.296,352.819 169.737,353.483 174.178,354.093 178.619,354.657 183.06,355.179 187.5,355.664 191.941,356.116 196.382,356.537 \n",
       "  200.823,356.932 205.264,357.302 209.705,357.65 214.146,357.978 218.587,358.286 223.028,358.578 227.469,358.855 231.909,359.116 236.35,359.365 240.791,359.601 \n",
       "  245.232,359.826 249.673,360.04 254.114,360.244 258.555,360.439 262.996,360.625 267.437,360.804 271.878,360.975 276.318,361.139 280.759,361.296 285.2,361.447 \n",
       "  289.641,361.592 294.082,361.731 298.523,361.866 302.964,361.995 307.405,362.12 311.846,362.24 316.286,362.356 320.727,362.469 325.168,362.577 329.609,362.682 \n",
       "  334.05,362.783 338.491,362.881 342.932,362.976 347.373,363.068 351.814,363.158 356.255,363.244 360.695,363.328 365.136,363.41 369.577,363.489 374.018,363.566 \n",
       "  378.459,363.641 382.9,363.713 387.341,363.784 391.782,363.853 396.223,363.92 400.664,363.985 405.104,364.048 409.545,364.11 413.986,364.17 418.427,364.229 \n",
       "  422.868,364.286 427.309,364.342 431.75,364.396 436.191,364.449 440.632,364.501 445.072,364.551 449.513,364.601 453.954,364.649 458.395,364.696 462.836,364.742 \n",
       "  467.277,364.787 471.718,364.83 476.159,364.873 480.6,364.915 485.041,364.956 489.481,364.996 493.922,365.035 498.363,365.074 502.804,365.111 507.245,365.148 \n",
       "  511.686,365.184 516.127,365.219 520.568,365.253 525.009,365.287 529.45,365.319 533.89,365.352 538.331,365.383 542.772,365.414 547.213,365.444 551.654,365.474 \n",
       "  556.095,365.503 560.536,365.531 564.977,365.559 569.418,365.586 573.859,365.612 578.299,365.638 582.74,365.664 587.181,365.689 591.622,365.713 596.063,365.737 \n",
       "  \n",
       "  \"/>\n",
       "<polygon clip-path=\"url(#clip00)\" points=\"\n",
       "427.159,55.057 578.063,55.057 578.063,24.817 427.159,24.817 \n",
       "  \" fill=\"#ffffff\" fill-opacity=\"1\"/>\n",
       "<polyline clip-path=\"url(#clip00)\" style=\"stroke:#00002d; stroke-width:0.8; stroke-opacity:1; fill:none\" points=\"\n",
       "  427.159,55.057 578.063,55.057 578.063,24.817 427.159,24.817 427.159,55.057 \n",
       "  \"/>\n",
       "<polyline clip-path=\"url(#clip00)\" style=\"stroke:#0099ff; stroke-width:0.8; stroke-opacity:1; fill:none\" points=\"\n",
       "  433.159,39.937 469.159,39.937 \n",
       "  \"/>\n",
       "<g clip-path=\"url(#clip00)\">\n",
       "<text style=\"fill:#00002d; fill-opacity:1; font-family:Arial,Helvetica Neue,Helvetica,sans-serif; font-size:12; text-anchor:start;\" transform=\"rotate(0, 475.159, 44.437)\" x=\"475.159\" y=\"44.437\">Impedância Total</text>\n",
       "</g>\n",
       "</svg>\n"
      ]
     },
     "execution_count": 39,
     "metadata": {},
     "output_type": "execute_result"
    }
   ],
   "source": [
    "# Gráfico\n",
    "using Plots\n",
    "gr()\n",
    "\n",
    "plot(Fq, ImpT, label = \"Impedância Total\", xticks = 1:0.5:120, xlabel = \"Freq(Hz)\", ylabel = \"Imped(ohm)\")"
   ]
  },
  {
   "cell_type": "markdown",
   "metadata": {},
   "source": [
    "De acordo com o gráfico, a impedância do circuito diminui com o almento da frequência de tal forma que a impedância cai pela metade quando a frequência é aproximadamente 1.98 Hz"
   ]
  },
  {
   "cell_type": "markdown",
   "metadata": {},
   "source": [
    "### FUNÇÃO QUE ACEITA NÚMERO DE ARGUMENTO INDEFINIDOS"
   ]
  },
  {
   "cell_type": "code",
   "execution_count": 10,
   "metadata": {
    "collapsed": false,
    "scrolled": false
   },
   "outputs": [
    {
     "name": "stderr",
     "output_type": "stream",
     "text": [
      "WARNING: Method definition fun(Any, Any...) in module Main at In[9]:2 overwritten at In[10]:2.\n"
     ]
    },
    {
     "data": {
      "text/plain": [
       "fun (generic function with 1 method)"
      ]
     },
     "execution_count": 10,
     "metadata": {},
     "output_type": "execute_result"
    }
   ],
   "source": [
    "function fun(a, b...)\n",
    "    sum([a, b...])\n",
    "end"
   ]
  },
  {
   "cell_type": "code",
   "execution_count": 11,
   "metadata": {
    "collapsed": false,
    "scrolled": true
   },
   "outputs": [
    {
     "data": {
      "text/plain": [
       "10"
      ]
     },
     "execution_count": 11,
     "metadata": {},
     "output_type": "execute_result"
    }
   ],
   "source": [
    "fun(1, 2, 3, 4)"
   ]
  },
  {
   "cell_type": "markdown",
   "metadata": {},
   "source": [
    "O mesmo exemplo utilizando função anônima"
   ]
  },
  {
   "cell_type": "code",
   "execution_count": 40,
   "metadata": {
    "collapsed": false
   },
   "outputs": [
    {
     "data": {
      "text/plain": [
       "10"
      ]
     },
     "execution_count": 40,
     "metadata": {},
     "output_type": "execute_result"
    }
   ],
   "source": [
    "((a, b...) -> sum([a,b...]))(1, 2, 3, 4)"
   ]
  },
  {
   "cell_type": "markdown",
   "metadata": {},
   "source": [
    " ** Operadores como argumento **"
   ]
  },
  {
   "cell_type": "code",
   "execution_count": 48,
   "metadata": {
    "collapsed": false
   },
   "outputs": [
    {
     "data": {
      "text/plain": [
       "operacao2 (generic function with 1 method)"
      ]
     },
     "execution_count": 48,
     "metadata": {},
     "output_type": "execute_result"
    }
   ],
   "source": [
    "function operacao2(operador, x, y...)\n",
    "    return operador(x, y...)\n",
    "end"
   ]
  },
  {
   "cell_type": "code",
   "execution_count": 26,
   "metadata": {
    "collapsed": false
   },
   "outputs": [
    {
     "data": {
      "text/plain": [
       "23"
      ]
     },
     "execution_count": 26,
     "metadata": {},
     "output_type": "execute_result"
    }
   ],
   "source": [
    "operacao2(+, 10, 1, 10, 2)"
   ]
  },
  {
   "cell_type": "code",
   "execution_count": 86,
   "metadata": {
    "collapsed": false
   },
   "outputs": [
    {
     "data": {
      "text/plain": [
       "10"
      ]
     },
     "execution_count": 86,
     "metadata": {},
     "output_type": "execute_result"
    }
   ],
   "source": [
    "operacao2(lcm, 10, 1, 10, 2)"
   ]
  },
  {
   "cell_type": "markdown",
   "metadata": {},
   "source": [
    "## FUNÇÕES RECURSIVAS\n",
    "\n",
    "Recursão é a habilidade que uma função tem de chamar a si mesma, ou seja, é a técnica que consiste simplesmente em aplicar uma função como parte da definição dessa mesma função (LAUREANO,2005). Isso permite que a função se repita várias vezes até que uma condição definida ocorra e pare o processo recursivo. O corpo de uma função recursiva geralmente possui duas partes:\n",
    "\n",
    "  - Casos base: Aqueles que não exigem recursão e em geral retornam um resultado e encerram a recursão.\n",
    "  - Casos recursivo: Aqueles que utilizam um passo recursivo em que se tenta resolver um sub-problema do problema inicial\n",
    "  \n",
    "As funções recursivas são muito utilizadas na ciência da computação porque permitem aos programadores escrever programas eficientes usando poucas linhas de código. A desvantagem é que elas podem causar infinitos loops e outros resultados não planejados, caso sejam escritas de forma errada, sem um caso base. Por exemplo, no exemplo, a função função `Fibonacci` encerra o método recursivo se o número for menor que 2. Se os casos bases não forem incluídos na função para parar a execução, a recursão será repetida para sempre."
   ]
  },
  {
   "cell_type": "code",
   "execution_count": 23,
   "metadata": {
    "collapsed": false
   },
   "outputs": [
    {
     "data": {
      "text/plain": [
       "fibonacci (generic function with 1 method)"
      ]
     },
     "execution_count": 23,
     "metadata": {},
     "output_type": "execute_result"
    }
   ],
   "source": [
    "function fibonacci(n)\n",
    "    if n < 2 # caso base\n",
    "        n\n",
    "        \n",
    "    else\n",
    "        fibonacci(n - 1) + fibonacci(n - 2) # caso recursivo\n",
    "    end\n",
    "        \n",
    "end"
   ]
  },
  {
   "cell_type": "code",
   "execution_count": 24,
   "metadata": {
    "collapsed": false,
    "scrolled": true
   },
   "outputs": [
    {
     "data": {
      "text/plain": [
       "9227465"
      ]
     },
     "execution_count": 24,
     "metadata": {},
     "output_type": "execute_result"
    }
   ],
   "source": [
    "fibonacci(35)"
   ]
  },
  {
   "cell_type": "code",
   "execution_count": 25,
   "metadata": {
    "collapsed": false
   },
   "outputs": [
    {
     "data": {
      "text/plain": [
       "fatorial (generic function with 1 method)"
      ]
     },
     "execution_count": 25,
     "metadata": {},
     "output_type": "execute_result"
    }
   ],
   "source": [
    "function fatorial(n)\n",
    "    if n == 0     # caso base\n",
    "        return 1 \n",
    "        \n",
    "    elseif n > 0  # caso recursivo\n",
    "        return fatorial(n - 1)* n\n",
    "    end\n",
    "end"
   ]
  },
  {
   "cell_type": "code",
   "execution_count": 26,
   "metadata": {
    "collapsed": false
   },
   "outputs": [
    {
     "data": {
      "text/plain": [
       "120"
      ]
     },
     "execution_count": 26,
     "metadata": {},
     "output_type": "execute_result"
    }
   ],
   "source": [
    "fatorial(5)"
   ]
  },
  {
   "cell_type": "markdown",
   "metadata": {
    "nbpresent": {
     "id": "4e67a3f0-5890-456f-886f-a3076bfa3fb9"
    }
   },
   "source": [
    "## OPERADOR TERNÁRIO\n",
    "\n",
    "O operador ternário **(:?)** está relacionado com a sintaxe `if-elseif-else` e recebe este nome em função de ser o único operador na maioria das linguagens que tomam três operandos: \n",
    "```julia\n",
    "condição ? expressão1 : expressão2\n",
    "```\n",
    "\n",
    "A operação ternária efeturá a **\"expressão1\"** antes do **\":\"** se a **\"condição\"** é verdadeira ou a **\"expressão2\"** depois do **\":\"** se \"condição\" for falsa. "
   ]
  },
  {
   "cell_type": "markdown",
   "metadata": {},
   "source": [
    "**Função discontínua**\n",
    "\n",
    "Dada a função abaixo \n",
    "\n",
    "$~\n",
    "f(x) = \\begin{cases}\n",
    "\\cos(x) & x \\geq 0\\\\\n",
    "1 - e^{-1/x^2} & \\text{x < 0}.\n",
    "\\end{cases}\n",
    "~$"
   ]
  },
  {
   "cell_type": "code",
   "execution_count": 42,
   "metadata": {
    "collapsed": false
   },
   "outputs": [
    {
     "data": {
      "text/html": [
       "<?xml version=\"1.0\" encoding=\"utf-8\"?>\n",
       "<svg xmlns=\"http://www.w3.org/2000/svg\" xmlns:xlink=\"http://www.w3.org/1999/xlink\" width=\"400\" height=\"300\" viewBox=\"0 0 400 300\">\n",
       "<defs>\n",
       "  <clipPath id=\"clip00\">\n",
       "    <rect x=\"0\" y=\"0\" width=\"400\" height=\"300\"/>\n",
       "  </clipPath>\n",
       "</defs>\n",
       "<polygon clip-path=\"url(#clip00)\" points=\"\n",
       "0,300 400,300 400,0 0,0 \n",
       "  \" fill=\"#ffffff\" fill-opacity=\"1\"/>\n",
       "<defs>\n",
       "  <clipPath id=\"clip01\">\n",
       "    <rect x=\"80\" y=\"0\" width=\"281\" height=\"281\"/>\n",
       "  </clipPath>\n",
       "</defs>\n",
       "<polygon clip-path=\"url(#clip00)\" points=\"\n",
       "39.4926,284.952 396.063,284.952 396.063,3.93701 39.4926,3.93701 \n",
       "  \" fill=\"#ffffff\" fill-opacity=\"1\"/>\n",
       "<defs>\n",
       "  <clipPath id=\"clip02\">\n",
       "    <rect x=\"39\" y=\"3\" width=\"357\" height=\"282\"/>\n",
       "  </clipPath>\n",
       "</defs>\n",
       "<polyline clip-path=\"url(#clip02)\" style=\"stroke:#00002d; stroke-width:0.6; stroke-opacity:0.5; fill:none\" stroke-dasharray=\"1, 2\" points=\"\n",
       "  39.4926,280.737 39.4926,8.15223 \n",
       "  \"/>\n",
       "<polyline clip-path=\"url(#clip02)\" style=\"stroke:#00002d; stroke-width:0.6; stroke-opacity:0.5; fill:none\" stroke-dasharray=\"1, 2\" points=\"\n",
       "  128.635,280.737 128.635,8.15223 \n",
       "  \"/>\n",
       "<polyline clip-path=\"url(#clip02)\" style=\"stroke:#00002d; stroke-width:0.6; stroke-opacity:0.5; fill:none\" stroke-dasharray=\"1, 2\" points=\"\n",
       "  217.778,280.737 217.778,8.15223 \n",
       "  \"/>\n",
       "<polyline clip-path=\"url(#clip02)\" style=\"stroke:#00002d; stroke-width:0.6; stroke-opacity:0.5; fill:none\" stroke-dasharray=\"1, 2\" points=\"\n",
       "  306.92,280.737 306.92,8.15223 \n",
       "  \"/>\n",
       "<polyline clip-path=\"url(#clip02)\" style=\"stroke:#00002d; stroke-width:0.6; stroke-opacity:0.5; fill:none\" stroke-dasharray=\"1, 2\" points=\"\n",
       "  396.063,280.737 396.063,8.15223 \n",
       "  \"/>\n",
       "<polyline clip-path=\"url(#clip02)\" style=\"stroke:#00002d; stroke-width:0.6; stroke-opacity:0.5; fill:none\" stroke-dasharray=\"1, 2\" points=\"\n",
       "  44.8411,214.789 390.714,214.789 \n",
       "  \"/>\n",
       "<polyline clip-path=\"url(#clip02)\" style=\"stroke:#00002d; stroke-width:0.6; stroke-opacity:0.5; fill:none\" stroke-dasharray=\"1, 2\" points=\"\n",
       "  44.8411,144.505 390.714,144.505 \n",
       "  \"/>\n",
       "<polyline clip-path=\"url(#clip02)\" style=\"stroke:#00002d; stroke-width:0.6; stroke-opacity:0.5; fill:none\" stroke-dasharray=\"1, 2\" points=\"\n",
       "  44.8411,74.2211 390.714,74.2211 \n",
       "  \"/>\n",
       "<polyline clip-path=\"url(#clip02)\" style=\"stroke:#00002d; stroke-width:0.6; stroke-opacity:0.5; fill:none\" stroke-dasharray=\"1, 2\" points=\"\n",
       "  44.8411,3.93701 390.714,3.93701 \n",
       "  \"/>\n",
       "<polyline clip-path=\"url(#clip02)\" style=\"stroke:#00002d; stroke-width:0.6; stroke-opacity:1; fill:none\" points=\"\n",
       "  39.4926,284.952 396.063,284.952 \n",
       "  \"/>\n",
       "<polyline clip-path=\"url(#clip02)\" style=\"stroke:#00002d; stroke-width:0.6; stroke-opacity:1; fill:none\" points=\"\n",
       "  39.4926,284.952 39.4926,280.737 \n",
       "  \"/>\n",
       "<polyline clip-path=\"url(#clip02)\" style=\"stroke:#00002d; stroke-width:0.6; stroke-opacity:1; fill:none\" points=\"\n",
       "  128.635,284.952 128.635,280.737 \n",
       "  \"/>\n",
       "<polyline clip-path=\"url(#clip02)\" style=\"stroke:#00002d; stroke-width:0.6; stroke-opacity:1; fill:none\" points=\"\n",
       "  217.778,284.952 217.778,280.737 \n",
       "  \"/>\n",
       "<polyline clip-path=\"url(#clip02)\" style=\"stroke:#00002d; stroke-width:0.6; stroke-opacity:1; fill:none\" points=\"\n",
       "  306.92,284.952 306.92,280.737 \n",
       "  \"/>\n",
       "<polyline clip-path=\"url(#clip02)\" style=\"stroke:#00002d; stroke-width:0.6; stroke-opacity:1; fill:none\" points=\"\n",
       "  396.063,284.952 396.063,280.737 \n",
       "  \"/>\n",
       "<polyline clip-path=\"url(#clip02)\" style=\"stroke:#00002d; stroke-width:0.6; stroke-opacity:1; fill:none\" points=\"\n",
       "  39.4926,284.952 39.4926,3.93701 \n",
       "  \"/>\n",
       "<polyline clip-path=\"url(#clip02)\" style=\"stroke:#00002d; stroke-width:0.6; stroke-opacity:1; fill:none\" points=\"\n",
       "  39.4926,214.789 44.8411,214.789 \n",
       "  \"/>\n",
       "<polyline clip-path=\"url(#clip02)\" style=\"stroke:#00002d; stroke-width:0.6; stroke-opacity:1; fill:none\" points=\"\n",
       "  39.4926,144.505 44.8411,144.505 \n",
       "  \"/>\n",
       "<polyline clip-path=\"url(#clip02)\" style=\"stroke:#00002d; stroke-width:0.6; stroke-opacity:1; fill:none\" points=\"\n",
       "  39.4926,74.2211 44.8411,74.2211 \n",
       "  \"/>\n",
       "<polyline clip-path=\"url(#clip02)\" style=\"stroke:#00002d; stroke-width:0.6; stroke-opacity:1; fill:none\" points=\"\n",
       "  39.4926,3.93701 44.8411,3.93701 \n",
       "  \"/>\n",
       "<g clip-path=\"url(#clip00)\">\n",
       "<text style=\"fill:#00002d; fill-opacity:1; font-family:Arial,Helvetica Neue,Helvetica,sans-serif; font-size:12; text-anchor:middle;\" transform=\"rotate(0, 39.4926, 296.552)\" x=\"39.4926\" y=\"296.552\">-5.0</text>\n",
       "</g>\n",
       "<g clip-path=\"url(#clip00)\">\n",
       "<text style=\"fill:#00002d; fill-opacity:1; font-family:Arial,Helvetica Neue,Helvetica,sans-serif; font-size:12; text-anchor:middle;\" transform=\"rotate(0, 128.635, 296.552)\" x=\"128.635\" y=\"296.552\">-2.5</text>\n",
       "</g>\n",
       "<g clip-path=\"url(#clip00)\">\n",
       "<text style=\"fill:#00002d; fill-opacity:1; font-family:Arial,Helvetica Neue,Helvetica,sans-serif; font-size:12; text-anchor:middle;\" transform=\"rotate(0, 217.778, 296.552)\" x=\"217.778\" y=\"296.552\">0.0</text>\n",
       "</g>\n",
       "<g clip-path=\"url(#clip00)\">\n",
       "<text style=\"fill:#00002d; fill-opacity:1; font-family:Arial,Helvetica Neue,Helvetica,sans-serif; font-size:12; text-anchor:middle;\" transform=\"rotate(0, 306.92, 296.552)\" x=\"306.92\" y=\"296.552\">2.5</text>\n",
       "</g>\n",
       "<g clip-path=\"url(#clip00)\">\n",
       "<text style=\"fill:#00002d; fill-opacity:1; font-family:Arial,Helvetica Neue,Helvetica,sans-serif; font-size:12; text-anchor:middle;\" transform=\"rotate(0, 396.063, 296.552)\" x=\"396.063\" y=\"296.552\">5.0</text>\n",
       "</g>\n",
       "<g clip-path=\"url(#clip00)\">\n",
       "<text style=\"fill:#00002d; fill-opacity:1; font-family:Arial,Helvetica Neue,Helvetica,sans-serif; font-size:12; text-anchor:end;\" transform=\"rotate(0, 38.6926, 219.289)\" x=\"38.6926\" y=\"219.289\">-0.5</text>\n",
       "</g>\n",
       "<g clip-path=\"url(#clip00)\">\n",
       "<text style=\"fill:#00002d; fill-opacity:1; font-family:Arial,Helvetica Neue,Helvetica,sans-serif; font-size:12; text-anchor:end;\" transform=\"rotate(0, 38.6926, 149.005)\" x=\"38.6926\" y=\"149.005\">0.0</text>\n",
       "</g>\n",
       "<g clip-path=\"url(#clip00)\">\n",
       "<text style=\"fill:#00002d; fill-opacity:1; font-family:Arial,Helvetica Neue,Helvetica,sans-serif; font-size:12; text-anchor:end;\" transform=\"rotate(0, 38.6926, 78.7211)\" x=\"38.6926\" y=\"78.7211\">0.5</text>\n",
       "</g>\n",
       "<g clip-path=\"url(#clip00)\">\n",
       "<text style=\"fill:#00002d; fill-opacity:1; font-family:Arial,Helvetica Neue,Helvetica,sans-serif; font-size:12; text-anchor:end;\" transform=\"rotate(0, 38.6926, 8.43701)\" x=\"38.6926\" y=\"8.43701\">1.0</text>\n",
       "</g>\n",
       "<polyline clip-path=\"url(#clip02)\" style=\"stroke:#0099ff; stroke-width:0.6; stroke-opacity:1; fill:none\" points=\"\n",
       "  217.778,3.93701 221.343,4.63926 224.909,6.73901 228.475,10.2153 232.041,15.0333 235.606,21.145 239.172,28.4893 242.738,36.9927 246.303,46.5704 249.869,57.1266 \n",
       "  253.435,68.5559 257.001,80.744 260.566,93.5692 264.132,106.903 267.698,120.613 271.263,134.562 274.829,148.61 278.395,162.617 281.96,176.443 285.526,189.949 \n",
       "  289.092,203.002 292.658,215.471 296.223,227.23 299.789,238.162 303.355,248.159 306.92,257.121 310.486,264.957 314.052,271.589 317.617,276.952 321.183,280.991 \n",
       "  324.749,283.667 328.315,284.952 331.88,284.834 335.446,283.314 339.012,280.406 342.577,276.141 346.143,270.561 349.709,263.721 353.275,255.69 356.84,246.548 \n",
       "  360.406,236.387 363.972,225.307 367.537,213.42 371.103,200.845 374.669,187.706 378.234,174.136 381.8,160.27 385.366,146.247 388.932,132.206 392.497,118.288 \n",
       "  396.063,104.631 \n",
       "  \"/>\n",
       "<polyline clip-path=\"url(#clip02)\" style=\"stroke:#e9746a; stroke-width:0.6; stroke-opacity:1; fill:none\" points=\"\n",
       "  39.4926,138.993 43.0583,138.771 46.624,138.535 50.1897,138.284 53.7554,138.017 57.3211,137.732 60.8868,137.429 64.4525,137.105 68.0182,136.758 71.5839,136.387 \n",
       "  75.1496,135.989 78.7153,135.561 82.281,135.1 85.8467,134.603 89.4124,134.067 92.9781,133.486 96.5438,132.856 100.11,132.172 103.675,131.427 107.241,130.613 \n",
       "  110.807,129.723 114.372,128.746 117.938,127.672 121.504,126.487 125.069,125.176 128.635,123.721 132.201,122.102 135.767,120.293 139.332,118.266 142.898,115.986 \n",
       "  146.464,113.412 150.029,110.494 153.595,107.176 157.161,103.389 160.727,99.0502 164.292,94.0666 167.858,88.3304 171.424,81.7242 174.989,74.13 178.555,65.4499 \n",
       "  182.121,55.6492 185.686,44.8368 189.252,33.4017 192.818,22.2 196.384,12.6771 199.949,6.5116 203.515,4.20837 207.081,3.93911 210.646,3.93701 214.212,3.93701 \n",
       "  217.778,3.93701 \n",
       "  \"/>\n",
       "<polygon clip-path=\"url(#clip00)\" points=\"\n",
       "311.802,58.177 384.063,58.177 384.063,12.817 311.802,12.817 \n",
       "  \" fill=\"#ffffff\" fill-opacity=\"1\"/>\n",
       "<polyline clip-path=\"url(#clip00)\" style=\"stroke:#00002d; stroke-width:0.6; stroke-opacity:1; fill:none\" points=\"\n",
       "  311.802,58.177 384.063,58.177 384.063,12.817 311.802,12.817 311.802,58.177 \n",
       "  \"/>\n",
       "<polyline clip-path=\"url(#clip00)\" style=\"stroke:#0099ff; stroke-width:0.6; stroke-opacity:1; fill:none\" points=\"\n",
       "  315.802,27.937 339.802,27.937 \n",
       "  \"/>\n",
       "<g clip-path=\"url(#clip00)\">\n",
       "<text style=\"fill:#00002d; fill-opacity:1; font-family:Arial,Helvetica Neue,Helvetica,sans-serif; font-size:12; text-anchor:start;\" transform=\"rotate(0, 343.802, 32.437)\" x=\"343.802\" y=\"32.437\">cos(x)</text>\n",
       "</g>\n",
       "<polyline clip-path=\"url(#clip00)\" style=\"stroke:#e9746a; stroke-width:0.6; stroke-opacity:1; fill:none\" points=\"\n",
       "  315.802,43.057 339.802,43.057 \n",
       "  \"/>\n",
       "<g clip-path=\"url(#clip00)\">\n",
       "<text style=\"fill:#00002d; fill-opacity:1; font-family:Arial,Helvetica Neue,Helvetica,sans-serif; font-size:12; text-anchor:start;\" transform=\"rotate(0, 343.802, 55.683)\" x=\"343.802\" y=\"55.683\">1</text>\n",
       "</g>\n",
       "<g clip-path=\"url(#clip00)\">\n",
       "<text style=\"fill:#00002d; fill-opacity:1; font-family:Arial,Helvetica Neue,Helvetica,sans-serif; font-size:12; text-anchor:start;\" transform=\"rotate(0, 357.313, 55.683)\" x=\"357.313\" y=\"55.683\">e</text>\n",
       "</g>\n",
       "<g clip-path=\"url(#clip00)\">\n",
       "<text style=\"fill:#00002d; fill-opacity:1; font-family:Arial,Helvetica Neue,Helvetica,sans-serif; font-size:8; text-anchor:start;\" transform=\"rotate(0, 364.898, 34.7051)\" x=\"364.898\" y=\"34.7051\">-</text>\n",
       "</g>\n",
       "<g clip-path=\"url(#clip00)\">\n",
       "<text style=\"fill:#00002d; fill-opacity:1; font-family:Arial,Helvetica Neue,Helvetica,sans-serif; font-size:8; text-anchor:start;\" transform=\"rotate(0, 369.994, 34.7051)\" x=\"369.994\" y=\"34.7051\">1</text>\n",
       "</g>\n",
       "<g clip-path=\"url(#clip00)\">\n",
       "<text style=\"fill:#00002d; fill-opacity:1; font-family:Arial,Helvetica Neue,Helvetica,sans-serif; font-size:8; text-anchor:start;\" transform=\"rotate(0, 365.719, 49.0476)\" x=\"365.719\" y=\"49.0476\">x</text>\n",
       "</g>\n",
       "<g clip-path=\"url(#clip00)\">\n",
       "<text style=\"fill:#00002d; fill-opacity:1; font-family:Arial,Helvetica Neue,Helvetica,sans-serif; font-size:7; text-anchor:start;\" transform=\"rotate(0, 370.083, 44.0018)\" x=\"370.083\" y=\"44.0018\">2</text>\n",
       "</g>\n",
       "<polyline clip-path=\"url(#clip00)\" style=\"stroke:#e9746a; stroke-width:0.508264; stroke-opacity:1; fill:none\" points=\"\n",
       "  363.903,37.5085 375.841,37.5085 \n",
       "  \"/>\n",
       "<g clip-path=\"url(#clip00)\">\n",
       "<text style=\"fill:#00002d; fill-opacity:1; font-family:Arial,Helvetica Neue,Helvetica,sans-serif; font-size:12; text-anchor:start;\" transform=\"rotate(0, 350.392, 55.683)\" x=\"350.392\" y=\"55.683\">-</text>\n",
       "</g>\n",
       "</svg>\n"
      ]
     },
     "execution_count": 42,
     "metadata": {},
     "output_type": "execute_result"
    }
   ],
   "source": [
    "using Plots\n",
    "gr()\n",
    "plot(0:0.1:5, x -> cos(x), label = \"cos(x)\", size = (400, 300))\n",
    "plot!(-5:0.1:0, x -> 1-exp(-1/x^2), label = \"1-e^(-1/x^2)\")"
   ]
  },
  {
   "cell_type": "code",
   "execution_count": 39,
   "metadata": {
    "collapsed": false,
    "nbpresent": {
     "id": "4c423b0e-5cde-4235-bd98-76176a821abe"
    },
    "scrolled": true
   },
   "outputs": [
    {
     "data": {
      "text/plain": [
       "f (generic function with 1 method)"
      ]
     },
     "execution_count": 39,
     "metadata": {},
     "output_type": "execute_result"
    }
   ],
   "source": [
    "# se x>=0 então imprima o calculo de g = cos(x) = \",cos(x), senão imprima o cálculo de g = exp(-1/x^2)\n",
    "f(x) = x >= 0  ?  @show(cos(x)) : @show(exp(-1/x^2))"
   ]
  },
  {
   "cell_type": "code",
   "execution_count": 40,
   "metadata": {
    "collapsed": false,
    "nbpresent": {
     "id": "7984503a-74b3-4489-b65c-f55c89a27ee5"
    }
   },
   "outputs": [
    {
     "name": "stdout",
     "output_type": "stream",
     "text": [
      "exp(-1 / x ^ 2) = 0.9607894391523232\n"
     ]
    },
    {
     "data": {
      "text/plain": [
       "0.9607894391523232"
      ]
     },
     "execution_count": 40,
     "metadata": {},
     "output_type": "execute_result"
    }
   ],
   "source": [
    "# passando um valor de x maior que 0\n",
    "f(-5)"
   ]
  },
  {
   "cell_type": "code",
   "execution_count": 30,
   "metadata": {
    "collapsed": false,
    "nbpresent": {
     "id": "db19ceb1-c470-44e2-b7b6-005d3e7ebd33"
    },
    "scrolled": false
   },
   "outputs": [
    {
     "name": "stdout",
     "output_type": "stream",
     "text": [
      "exp(-1 / x ^ 2) = 0.36787944117144233\n"
     ]
    },
    {
     "data": {
      "text/plain": [
       "0.36787944117144233"
      ]
     },
     "execution_count": 30,
     "metadata": {},
     "output_type": "execute_result"
    }
   ],
   "source": [
    "# passando um valor de x menor que 0\n",
    "f(-1)"
   ]
  },
  {
   "cell_type": "markdown",
   "metadata": {},
   "source": [
    "Outra forma da função Fibonacci recursiva utilizando operador ternário"
   ]
  },
  {
   "cell_type": "code",
   "execution_count": 43,
   "metadata": {
    "collapsed": false
   },
   "outputs": [
    {
     "data": {
      "text/plain": [
       "fibonacci_ot (generic function with 1 method)"
      ]
     },
     "execution_count": 43,
     "metadata": {},
     "output_type": "execute_result"
    }
   ],
   "source": [
    "fibonacci_ot(n) = n < 2 ? n : fibonacci_ot(n - 1) + fibonacci_ot(n - 2)"
   ]
  },
  {
   "cell_type": "code",
   "execution_count": 44,
   "metadata": {
    "collapsed": false
   },
   "outputs": [
    {
     "data": {
      "text/plain": [
       "9227465"
      ]
     },
     "execution_count": 44,
     "metadata": {},
     "output_type": "execute_result"
    }
   ],
   "source": [
    "fibonacci_ot(35)"
   ]
  },
  {
   "cell_type": "markdown",
   "metadata": {
    "nbpresent": {
     "id": "71a20469-0604-4950-a945-e999c35ea6be"
    }
   },
   "source": [
    "## QUAL É O MELHOR? FUNÇÃO GENÉRICA, ANÔNIMA OU SIMBÓLICA?\n",
    "\n",
    "De forma prática a tabela abaixo indica as melhores opções para cada caso. Para ver na prática qual a melhor, veja a parte \"**Optimizando Códigos Para a Alta Performance**\" no nível 2 deste tutorial.\n"
   ]
  },
  {
   "cell_type": "markdown",
   "metadata": {},
   "source": [
    "## CONTROLANDO A EXECUÇÃO DE FUNÇÕES (TASKS)\n",
    "\n",
    "Julia possui um recurso de controle de fluxo chamado `Task` (Tarefas) que permite que os cálculos de uma função sejam suspensos e reiniciados de forma interativa. Esse recurso às vezes é chamado por outros nomes, como co-rotinas simétricas, segmentos leves, multitarefa cooperativa ou continuações one-shot. `Tasks` são ótimos quando é importante obter um valor de um laço que não sabemos o fim. Sintaxe:\n",
    "\n",
    "Criar \n",
    "```julia\n",
    "function nome_tarefa(argumentos)\n",
    "    produce(instruções)\n",
    "end\n",
    "\n",
    "var = @task nome_tarefa(argumentos)\n",
    "```\n",
    "Executar\n",
    "```julia\n",
    "consume(var)\n",
    "```"
   ]
  },
  {
   "cell_type": "code",
   "execution_count": 45,
   "metadata": {
    "collapsed": false
   },
   "outputs": [
    {
     "data": {
      "text/plain": [
       "teste_task (generic function with 1 method)"
      ]
     },
     "execution_count": 45,
     "metadata": {},
     "output_type": "execute_result"
    }
   ],
   "source": [
    "function teste_task(i)\n",
    "    for n = 1:i\n",
    "        produce([x^2 for x = 1:n])\n",
    "    end\n",
    "    produce(\"Fim Tarefa\")\n",
    "end"
   ]
  },
  {
   "cell_type": "code",
   "execution_count": 46,
   "metadata": {
    "collapsed": false
   },
   "outputs": [
    {
     "data": {
      "text/plain": [
       "Task (runnable) @0x00007fe6c6674010"
      ]
     },
     "execution_count": 46,
     "metadata": {},
     "output_type": "execute_result"
    }
   ],
   "source": [
    "teste = @task teste_task(3)"
   ]
  },
  {
   "cell_type": "code",
   "execution_count": 47,
   "metadata": {
    "collapsed": false
   },
   "outputs": [
    {
     "data": {
      "text/plain": [
       "1-element Array{Int64,1}:\n",
       " 1"
      ]
     },
     "execution_count": 47,
     "metadata": {},
     "output_type": "execute_result"
    }
   ],
   "source": [
    "consume(teste)"
   ]
  },
  {
   "cell_type": "code",
   "execution_count": 48,
   "metadata": {
    "collapsed": false
   },
   "outputs": [
    {
     "data": {
      "text/plain": [
       "2-element Array{Int64,1}:\n",
       " 1\n",
       " 4"
      ]
     },
     "execution_count": 48,
     "metadata": {},
     "output_type": "execute_result"
    }
   ],
   "source": [
    "consume(teste)"
   ]
  },
  {
   "cell_type": "code",
   "execution_count": 78,
   "metadata": {
    "collapsed": false
   },
   "outputs": [
    {
     "data": {
      "text/plain": [
       "3-element Array{Int64,1}:\n",
       " 1\n",
       " 4\n",
       " 9"
      ]
     },
     "execution_count": 78,
     "metadata": {},
     "output_type": "execute_result"
    }
   ],
   "source": [
    "consume(teste)"
   ]
  },
  {
   "cell_type": "code",
   "execution_count": 79,
   "metadata": {
    "collapsed": false
   },
   "outputs": [
    {
     "data": {
      "text/plain": [
       "\"Fim Tarefa\""
      ]
     },
     "execution_count": 79,
     "metadata": {},
     "output_type": "execute_result"
    }
   ],
   "source": [
    "consume(teste)"
   ]
  },
  {
   "cell_type": "code",
   "execution_count": null,
   "metadata": {
    "collapsed": true
   },
   "outputs": [],
   "source": []
  },
  {
   "cell_type": "markdown",
   "metadata": {},
   "source": [
    "Bibliografia\n",
    "\n",
    "SOUSA, Lucas; Ruby: Aprenda a programar na linguagem mais divertida.\n",
    "\n",
    "LAUREANO, Marcos. Programando em C para Linux, Unix e Windows / Marcos Laureano. – Rio de Janeiro: Brasport, 2005.\n",
    "\n",
    "BALDUINO, Plinio. Dominando JavaScript com JQuery, casa do codigo\n"
   ]
  }
 ],
 "metadata": {
  "anaconda-cloud": {},
  "kernelspec": {
   "display_name": "Julia 0.5.2",
   "language": "julia",
   "name": "julia-0.5"
  },
  "language_info": {
   "file_extension": ".jl",
   "mimetype": "application/julia",
   "name": "julia",
   "version": "0.5.2"
  },
  "nbpresent": {
   "slides": {
    "00236970-6c88-4d4b-bd3c-cedc61866af5": {
     "id": "00236970-6c88-4d4b-bd3c-cedc61866af5",
     "prev": "7e276c81-a836-45e4-acf0-e9253e950dd8",
     "regions": {
      "0f921955-99ef-4215-b273-17a07041963e": {
       "attrs": {
        "height": 0.8,
        "width": 0.8,
        "x": 0.1,
        "y": 0.1
       },
       "content": {
        "cell": "003b8705-d411-4813-9774-a0cb0a49f553",
        "part": "whole"
       },
       "id": "0f921955-99ef-4215-b273-17a07041963e"
      }
     }
    },
    "00ac7405-8262-44d6-99f9-ec75589638d3": {
     "id": "00ac7405-8262-44d6-99f9-ec75589638d3",
     "prev": "087b8016-73ef-40cc-a8fe-78ec962302f2",
     "regions": {
      "089e0743-b099-49ed-a6aa-a047a56b2ec2": {
       "attrs": {
        "height": 0.8,
        "width": 0.8,
        "x": 0.1,
        "y": 0.1
       },
       "content": {
        "cell": "8f27f473-ec49-4797-a0a8-d3832c8ddd59",
        "part": "whole"
       },
       "id": "089e0743-b099-49ed-a6aa-a047a56b2ec2"
      }
     }
    },
    "0117da64-b24f-43bb-a4fb-a449cab75351": {
     "id": "0117da64-b24f-43bb-a4fb-a449cab75351",
     "prev": "913349f9-0366-47cc-a2e3-b22094905a8d",
     "regions": {
      "d64a0d22-1864-45f2-b943-8a0e36276a6e": {
       "attrs": {
        "height": 0.8,
        "width": 0.8,
        "x": 0.1,
        "y": 0.1
       },
       "content": {
        "cell": "d1dee094-67d6-4336-b3b9-1487f2b13a33",
        "part": "whole"
       },
       "id": "d64a0d22-1864-45f2-b943-8a0e36276a6e"
      }
     }
    },
    "02a453ac-c085-4cd8-9c4d-53d91a698b57": {
     "id": "02a453ac-c085-4cd8-9c4d-53d91a698b57",
     "prev": "03b5d45d-48a3-471a-a357-4a1f0d60bb45",
     "regions": {
      "f581d055-e65e-4dbd-8772-f5e1fe5cbbd8": {
       "attrs": {
        "height": 0.8,
        "width": 0.8,
        "x": 0.1,
        "y": 0.1
       },
       "content": {
        "cell": "6647033f-25bc-4c9f-83d4-352b7c05c308",
        "part": "whole"
       },
       "id": "f581d055-e65e-4dbd-8772-f5e1fe5cbbd8"
      }
     }
    },
    "02db0acd-93c9-4d08-8d5e-c32f77f761b4": {
     "id": "02db0acd-93c9-4d08-8d5e-c32f77f761b4",
     "prev": "452ed1de-d702-44db-a2a7-8f47300b85e2",
     "regions": {
      "331e3e7a-54fc-4d43-b335-278a2ef8b598": {
       "attrs": {
        "height": 0.8,
        "width": 0.8,
        "x": 0.1,
        "y": 0.1
       },
       "content": {
        "cell": "4c423b0e-5cde-4235-bd98-76176a821abe",
        "part": "whole"
       },
       "id": "331e3e7a-54fc-4d43-b335-278a2ef8b598"
      }
     }
    },
    "03b5d45d-48a3-471a-a357-4a1f0d60bb45": {
     "id": "03b5d45d-48a3-471a-a357-4a1f0d60bb45",
     "prev": "bbe206c1-78e7-474e-985e-3d0590106f7e",
     "regions": {
      "522ebe55-b7da-42b8-8c04-75e246a64b8f": {
       "attrs": {
        "height": 0.8,
        "width": 0.8,
        "x": 0.1,
        "y": 0.1
       },
       "content": {
        "cell": "05d2783d-7431-4f86-b351-1f19e66212c3",
        "part": "whole"
       },
       "id": "522ebe55-b7da-42b8-8c04-75e246a64b8f"
      }
     }
    },
    "07cf8e78-9e83-4ea4-aa2f-e84e803a4665": {
     "id": "07cf8e78-9e83-4ea4-aa2f-e84e803a4665",
     "prev": "3e6f1fe2-e05f-4c99-9378-dc34020acd15",
     "regions": {
      "1b5ef060-1975-42a3-ac68-fc75fe25c8f8": {
       "attrs": {
        "height": 0.8,
        "width": 0.8,
        "x": 0.1,
        "y": 0.1
       },
       "content": {
        "cell": "988e996e-fa56-4315-9603-d59e8ee9835c",
        "part": "whole"
       },
       "id": "1b5ef060-1975-42a3-ac68-fc75fe25c8f8"
      }
     }
    },
    "087b8016-73ef-40cc-a8fe-78ec962302f2": {
     "id": "087b8016-73ef-40cc-a8fe-78ec962302f2",
     "prev": "f65d5621-095f-487c-b773-f6ff1214814d",
     "regions": {
      "82b44452-5f72-40da-9638-9af3e92097ee": {
       "attrs": {
        "height": 0.8,
        "width": 0.8,
        "x": 0.1,
        "y": 0.1
       },
       "content": {
        "cell": "910882c2-dc49-483c-8e79-09dc10a2c7d8",
        "part": "whole"
       },
       "id": "82b44452-5f72-40da-9638-9af3e92097ee"
      }
     }
    },
    "08dd7563-aab3-437f-92f7-5245ff790a5b": {
     "id": "08dd7563-aab3-437f-92f7-5245ff790a5b",
     "prev": "6c124c26-f696-4d03-ac5e-7e418cfffbb8",
     "regions": {
      "e6de3e82-15cc-4e3e-b7a0-b214452e7674": {
       "attrs": {
        "height": 0.8,
        "width": 0.8,
        "x": 0.1,
        "y": 0.1
       },
       "content": {
        "cell": "ed6ff118-138f-4d9f-86c7-be4bbb380015",
        "part": "whole"
       },
       "id": "e6de3e82-15cc-4e3e-b7a0-b214452e7674"
      }
     }
    },
    "09a63dec-cb8c-47e1-9b7d-a3f355904c72": {
     "id": "09a63dec-cb8c-47e1-9b7d-a3f355904c72",
     "prev": "f4d9d326-bd36-4435-81f6-d7a21a44333d",
     "regions": {
      "a2197130-f7e9-47e4-8548-477d22a4044e": {
       "attrs": {
        "height": 0.8,
        "width": 0.8,
        "x": 0.1,
        "y": 0.1
       },
       "content": {
        "cell": "859551b1-db71-4aaa-90f8-2d7537bb4dab",
        "part": "whole"
       },
       "id": "a2197130-f7e9-47e4-8548-477d22a4044e"
      }
     }
    },
    "09d1c039-7e8d-44ba-bbd7-766f537c62c1": {
     "id": "09d1c039-7e8d-44ba-bbd7-766f537c62c1",
     "prev": "313ba730-c2dc-403c-8d3c-b1f3b7684888",
     "regions": {
      "1f9690ea-b92c-4964-8adc-edd11fe6a2ad": {
       "attrs": {
        "height": 0.8,
        "width": 0.8,
        "x": 0.1,
        "y": 0.1
       },
       "content": {
        "cell": "7b02f73c-6f48-4b2c-b895-3d439a055b15",
        "part": "whole"
       },
       "id": "1f9690ea-b92c-4964-8adc-edd11fe6a2ad"
      }
     }
    },
    "0c8b7551-980d-4608-a7b2-b843ae41cd71": {
     "id": "0c8b7551-980d-4608-a7b2-b843ae41cd71",
     "prev": "abffd578-b63b-49c4-871b-03e639470280",
     "regions": {
      "a520a612-53b0-45e7-957f-17057a04bec3": {
       "attrs": {
        "height": 0.8,
        "width": 0.8,
        "x": 0.1,
        "y": 0.1
       },
       "content": {
        "cell": "d4ea76fa-1e02-4de7-9aa6-bc37b423d412",
        "part": "whole"
       },
       "id": "a520a612-53b0-45e7-957f-17057a04bec3"
      }
     }
    },
    "0cc09bed-4f0b-4bcd-892b-d911f2e4b463": {
     "id": "0cc09bed-4f0b-4bcd-892b-d911f2e4b463",
     "prev": "f51ef26a-3a26-4d3e-8ab9-8e675d587ef9",
     "regions": {
      "eca1c547-2564-4417-8191-58556a1a6e4b": {
       "attrs": {
        "height": 0.8,
        "width": 0.8,
        "x": 0.1,
        "y": 0.1
       },
       "content": {
        "cell": "ccdfc38a-83f4-43bf-a941-58e736f27eed",
        "part": "whole"
       },
       "id": "eca1c547-2564-4417-8191-58556a1a6e4b"
      }
     }
    },
    "13564e7d-ac07-46b8-b6cb-407a0060d265": {
     "id": "13564e7d-ac07-46b8-b6cb-407a0060d265",
     "prev": "0117da64-b24f-43bb-a4fb-a449cab75351",
     "regions": {
      "79b65f4f-0e29-4aa7-b4b4-68480ce3ac7a": {
       "attrs": {
        "height": 0.8,
        "width": 0.8,
        "x": 0.1,
        "y": 0.1
       },
       "content": {
        "cell": "73a23ca9-c36b-4500-9758-a4c62c4c9626",
        "part": "whole"
       },
       "id": "79b65f4f-0e29-4aa7-b4b4-68480ce3ac7a"
      }
     }
    },
    "136a7e1a-7a0d-4237-b390-ffa856365325": {
     "id": "136a7e1a-7a0d-4237-b390-ffa856365325",
     "prev": "ea067182-b28b-446e-8354-eb3d64aea2a4",
     "regions": {
      "e94d73fb-3738-411d-a9c9-982ff5d1f769": {
       "attrs": {
        "height": 0.8,
        "width": 0.8,
        "x": 0.1,
        "y": 0.1
       },
       "content": {
        "cell": "4100ebde-12eb-4441-9316-128b373a21df",
        "part": "whole"
       },
       "id": "e94d73fb-3738-411d-a9c9-982ff5d1f769"
      }
     }
    },
    "1404231f-1882-4231-87ed-0f3877dcfdc9": {
     "id": "1404231f-1882-4231-87ed-0f3877dcfdc9",
     "prev": "136a7e1a-7a0d-4237-b390-ffa856365325",
     "regions": {
      "0ec8d3c6-afe7-42ad-b8bc-7803b483ebbe": {
       "attrs": {
        "height": 0.8,
        "width": 0.8,
        "x": 0.1,
        "y": 0.1
       },
       "content": {
        "cell": "eb2bfa78-e568-4692-8acd-1fb3e6a03ca1",
        "part": "whole"
       },
       "id": "0ec8d3c6-afe7-42ad-b8bc-7803b483ebbe"
      }
     }
    },
    "145a218c-882a-425a-b738-5ba654fd9461": {
     "id": "145a218c-882a-425a-b738-5ba654fd9461",
     "prev": null,
     "regions": {
      "8bd1db83-4c2f-44a3-8367-9cc6b0d6e65b": {
       "attrs": {
        "height": 0.8,
        "width": 0.8,
        "x": 0.1,
        "y": 0.1
       },
       "content": {
        "cell": "ed678d8f-5b5a-4be8-8475-968f56ed8cc6",
        "part": "whole"
       },
       "id": "8bd1db83-4c2f-44a3-8367-9cc6b0d6e65b"
      }
     }
    },
    "152e866a-c620-4792-aba6-8c2adfeac2b9": {
     "id": "152e866a-c620-4792-aba6-8c2adfeac2b9",
     "prev": "937cbb50-9336-4b3d-b37d-23b142d11cee",
     "regions": {
      "28f5a622-150c-4a61-b191-56dddbd5ca86": {
       "attrs": {
        "height": 0.8,
        "width": 0.8,
        "x": 0.1,
        "y": 0.1
       },
       "content": {
        "cell": "79c15a0c-5634-4252-bd2b-2462c2284d56",
        "part": "whole"
       },
       "id": "28f5a622-150c-4a61-b191-56dddbd5ca86"
      }
     }
    },
    "15af1ac1-f8cc-4788-a062-363dddb10d64": {
     "id": "15af1ac1-f8cc-4788-a062-363dddb10d64",
     "prev": "d0a46fa9-e00a-4e8b-80a4-c05c3d989657",
     "regions": {
      "56a3db75-377f-4055-aa8c-dc06a6c91af1": {
       "attrs": {
        "height": 0.8,
        "width": 0.8,
        "x": 0.1,
        "y": 0.1
       },
       "content": {
        "cell": "be1bd44f-58f2-4dd3-801a-5b63eaa7fead",
        "part": "whole"
       },
       "id": "56a3db75-377f-4055-aa8c-dc06a6c91af1"
      }
     }
    },
    "16c9880a-4cb0-45fa-bfc1-0ff5847dedfe": {
     "id": "16c9880a-4cb0-45fa-bfc1-0ff5847dedfe",
     "prev": "48526992-66a6-4bad-9750-3b357436d536",
     "regions": {
      "1f0f43b8-617d-484e-9683-735aebe388a3": {
       "attrs": {
        "height": 0.8,
        "width": 0.8,
        "x": 0.1,
        "y": 0.1
       },
       "content": {
        "cell": "e7ad1faa-0662-4db1-8ab4-235a48bd42eb",
        "part": "whole"
       },
       "id": "1f0f43b8-617d-484e-9683-735aebe388a3"
      }
     }
    },
    "17ce9e10-b757-42eb-9ce6-c8c0eae030b8": {
     "id": "17ce9e10-b757-42eb-9ce6-c8c0eae030b8",
     "prev": "784300ff-3ec3-434e-967f-21246ec861aa",
     "regions": {
      "3b44b14f-099f-457e-b57d-17258a96044c": {
       "attrs": {
        "height": 0.8,
        "width": 0.8,
        "x": 0.1,
        "y": 0.1
       },
       "content": {
        "cell": "1a43b98c-2f9e-49cf-82ca-96ec190008cd",
        "part": "whole"
       },
       "id": "3b44b14f-099f-457e-b57d-17258a96044c"
      }
     }
    },
    "186a8b8c-98da-4bdc-845d-8797eb35f648": {
     "id": "186a8b8c-98da-4bdc-845d-8797eb35f648",
     "prev": "60200b34-3f9d-4a5a-bb83-f5e82d358a33",
     "regions": {
      "df31e53d-0420-4629-a24c-0d63d181aae0": {
       "attrs": {
        "height": 0.8,
        "width": 0.8,
        "x": 0.1,
        "y": 0.1
       },
       "content": {
        "cell": "f5a06b40-34cc-4a7a-95a9-914d6552e49e",
        "part": "whole"
       },
       "id": "df31e53d-0420-4629-a24c-0d63d181aae0"
      }
     }
    },
    "1af55cb2-a86e-46b4-92c3-ec4bcb6217f5": {
     "id": "1af55cb2-a86e-46b4-92c3-ec4bcb6217f5",
     "prev": "9c742fa2-c6bc-4e53-a187-7f5686a43366",
     "regions": {
      "ddf3ef82-c499-48d6-b6cf-4f8a04bfecab": {
       "attrs": {
        "height": 0.8,
        "width": 0.8,
        "x": 0.1,
        "y": 0.1
       },
       "content": {
        "cell": "12e72d8b-9b86-43ec-a556-b6b19a9553a3",
        "part": "whole"
       },
       "id": "ddf3ef82-c499-48d6-b6cf-4f8a04bfecab"
      }
     }
    },
    "1e7da5d8-4ab8-44f5-9c28-5f066162ce70": {
     "id": "1e7da5d8-4ab8-44f5-9c28-5f066162ce70",
     "prev": "d226d274-eae2-4236-8bf2-79a7bd7ea9ce",
     "regions": {
      "2b675c2a-8641-4831-8171-c88564f91c28": {
       "attrs": {
        "height": 0.8,
        "width": 0.8,
        "x": 0.1,
        "y": 0.1
       },
       "content": {
        "cell": "c4e3b764-8fbb-48de-8f7e-01153b77d17d",
        "part": "whole"
       },
       "id": "2b675c2a-8641-4831-8171-c88564f91c28"
      }
     }
    },
    "23e2f343-c000-4c90-8c85-42f9302dcab7": {
     "id": "23e2f343-c000-4c90-8c85-42f9302dcab7",
     "prev": "d43613d9-2bd1-40ed-a9df-5ea8d4e32726",
     "regions": {
      "c5c5ad42-60dd-4127-bc8e-1f033886431c": {
       "attrs": {
        "height": 0.8,
        "width": 0.8,
        "x": 0.1,
        "y": 0.1
       },
       "content": {
        "cell": "72c013c9-097b-49be-85ce-8cd271cf52bf",
        "part": "whole"
       },
       "id": "c5c5ad42-60dd-4127-bc8e-1f033886431c"
      }
     }
    },
    "26d56dcf-9e7e-44b5-9031-a4f21ac59692": {
     "id": "26d56dcf-9e7e-44b5-9031-a4f21ac59692",
     "prev": "ba3a18aa-efa7-44c6-b215-3a1789432927",
     "regions": {
      "80ae8b94-70b0-4098-b619-c35c35dafbbe": {
       "attrs": {
        "height": 0.8,
        "width": 0.8,
        "x": 0.1,
        "y": 0.1
       },
       "content": {
        "cell": "4b99dd67-4b92-40db-83c4-3526933ac1f7",
        "part": "whole"
       },
       "id": "80ae8b94-70b0-4098-b619-c35c35dafbbe"
      }
     }
    },
    "2bd743a6-badb-4a7a-bbf3-5a2aec8d1368": {
     "id": "2bd743a6-badb-4a7a-bbf3-5a2aec8d1368",
     "prev": "31eedf8e-454d-46d1-901b-6743cacaa8c4",
     "regions": {
      "3d30b68e-3852-4cf0-9b70-22007d5a091e": {
       "attrs": {
        "height": 0.8,
        "width": 0.8,
        "x": 0.1,
        "y": 0.1
       },
       "content": {
        "cell": "a4d1a914-1782-456c-8bca-7d5ca61fa855",
        "part": "whole"
       },
       "id": "3d30b68e-3852-4cf0-9b70-22007d5a091e"
      }
     }
    },
    "2deaaaa8-2645-4334-b05e-9f9419a75103": {
     "id": "2deaaaa8-2645-4334-b05e-9f9419a75103",
     "prev": "fd8cc12a-72fb-409e-b887-cbe2ca2857db",
     "regions": {
      "a6b92cf8-510b-4170-980a-954f0b642731": {
       "attrs": {
        "height": 0.8,
        "width": 0.8,
        "x": 0.1,
        "y": 0.1
       },
       "content": {
        "cell": "b9547b3a-7e2f-4b8f-a9de-f9b5f1ffe7ca",
        "part": "whole"
       },
       "id": "a6b92cf8-510b-4170-980a-954f0b642731"
      }
     }
    },
    "2f7d40fa-a373-4602-893c-f243f45f097a": {
     "id": "2f7d40fa-a373-4602-893c-f243f45f097a",
     "prev": "85ffbfd4-97ca-4f1c-b28c-e4cdd45d85a9",
     "regions": {
      "b4b0101b-38cb-44f1-918b-82e19adc40c0": {
       "attrs": {
        "height": 0.8,
        "width": 0.8,
        "x": 0.1,
        "y": 0.1
       },
       "content": {
        "cell": "b72ce7b8-aa92-4eae-a017-98192f8f7492",
        "part": "whole"
       },
       "id": "b4b0101b-38cb-44f1-918b-82e19adc40c0"
      }
     }
    },
    "30550afd-e3b2-47c3-b5d5-dd0b6b048c41": {
     "id": "30550afd-e3b2-47c3-b5d5-dd0b6b048c41",
     "prev": "eb4ba421-4c75-41ac-b2d5-38a65be4a331",
     "regions": {
      "58152289-7a85-4841-adc4-704071121219": {
       "attrs": {
        "height": 0.8,
        "width": 0.8,
        "x": 0.1,
        "y": 0.1
       },
       "content": {
        "cell": "5cb9f6fc-2632-4ff7-9b92-0623583cc3f9",
        "part": "whole"
       },
       "id": "58152289-7a85-4841-adc4-704071121219"
      }
     }
    },
    "30618881-1a80-47e2-86cd-b0e4b075869b": {
     "id": "30618881-1a80-47e2-86cd-b0e4b075869b",
     "prev": "d36a8856-a7a4-44b2-a0c7-dd5b8fa63f0d",
     "regions": {
      "b5b926dc-4b38-4dad-be97-8174f6a3d079": {
       "attrs": {
        "height": 0.8,
        "width": 0.8,
        "x": 0.1,
        "y": 0.1
       },
       "content": {
        "cell": "e604ef07-574a-487c-a091-0e2b05aa7756",
        "part": "whole"
       },
       "id": "b5b926dc-4b38-4dad-be97-8174f6a3d079"
      }
     }
    },
    "313ba730-c2dc-403c-8d3c-b1f3b7684888": {
     "id": "313ba730-c2dc-403c-8d3c-b1f3b7684888",
     "prev": "98fc23e3-6fba-4f89-84b7-55c653e3d751",
     "regions": {
      "d617fc1a-d620-41db-87d6-14b1489c8c3a": {
       "attrs": {
        "height": 0.8,
        "width": 0.8,
        "x": 0.1,
        "y": 0.1
       },
       "content": {
        "cell": "0bbce649-53e4-40ae-8322-34abd46b0078",
        "part": "whole"
       },
       "id": "d617fc1a-d620-41db-87d6-14b1489c8c3a"
      }
     }
    },
    "31eedf8e-454d-46d1-901b-6743cacaa8c4": {
     "id": "31eedf8e-454d-46d1-901b-6743cacaa8c4",
     "prev": "56b9147e-0c35-4645-9596-008dd3240c5a",
     "regions": {
      "d2a0506b-e5ec-427e-af57-432d72cbd22f": {
       "attrs": {
        "height": 0.8,
        "width": 0.8,
        "x": 0.1,
        "y": 0.1
       },
       "content": {
        "cell": "fe427540-a6eb-477d-8f60-07dcd0d2f7a1",
        "part": "whole"
       },
       "id": "d2a0506b-e5ec-427e-af57-432d72cbd22f"
      }
     }
    },
    "364ea507-3b29-4ff4-bbec-f9cf76a66d6a": {
     "id": "364ea507-3b29-4ff4-bbec-f9cf76a66d6a",
     "prev": "db906f03-f7e3-4050-b713-a1cabdbbe8da",
     "regions": {
      "33d97a63-87d0-4846-bb46-dc1f0c2f43fd": {
       "attrs": {
        "height": 0.8,
        "width": 0.8,
        "x": 0.1,
        "y": 0.1
       },
       "content": {
        "cell": "9e9eb1cd-184d-4704-aeac-501597cab8ae",
        "part": "whole"
       },
       "id": "33d97a63-87d0-4846-bb46-dc1f0c2f43fd"
      }
     }
    },
    "36b88d82-e6cf-4de9-8b65-433c671d2c86": {
     "id": "36b88d82-e6cf-4de9-8b65-433c671d2c86",
     "prev": "aa8027e3-bb6e-4eb7-90fe-015b1f0f242c",
     "regions": {
      "c6eadf66-e2a9-4460-b8a5-727afa598d15": {
       "attrs": {
        "height": 0.8,
        "width": 0.8,
        "x": 0.1,
        "y": 0.1
       },
       "content": {
        "cell": "d2412537-6592-441a-87f0-904de7f3b50a",
        "part": "whole"
       },
       "id": "c6eadf66-e2a9-4460-b8a5-727afa598d15"
      }
     }
    },
    "376a38b4-c22a-4774-b4c5-ef4c3f2258c4": {
     "id": "376a38b4-c22a-4774-b4c5-ef4c3f2258c4",
     "prev": "ff55e1e4-5a0b-4d0f-a1c9-36a0736e8d64",
     "regions": {
      "eff36dcf-30ac-4248-a45d-4a2d813343b9": {
       "attrs": {
        "height": 0.8,
        "width": 0.8,
        "x": 0.1,
        "y": 0.1
       },
       "content": {
        "cell": "db19ceb1-c470-44e2-b7b6-005d3e7ebd33",
        "part": "whole"
       },
       "id": "eff36dcf-30ac-4248-a45d-4a2d813343b9"
      }
     }
    },
    "37c43919-2e1c-4f9a-bee9-e3da1a393aab": {
     "id": "37c43919-2e1c-4f9a-bee9-e3da1a393aab",
     "prev": "c5f4b6f3-f5fa-45dd-b141-49bd0685fa22",
     "regions": {
      "9233672e-2905-49e1-ba7c-e41c7e170e58": {
       "attrs": {
        "height": 0.8,
        "width": 0.8,
        "x": 0.1,
        "y": 0.1
       },
       "content": {
        "cell": "79920e7a-072e-4a7b-b0e6-1637e12f1913",
        "part": "whole"
       },
       "id": "9233672e-2905-49e1-ba7c-e41c7e170e58"
      }
     }
    },
    "3845ed12-d197-41ac-963f-ff74033078e0": {
     "id": "3845ed12-d197-41ac-963f-ff74033078e0",
     "prev": "17ce9e10-b757-42eb-9ce6-c8c0eae030b8",
     "regions": {
      "adc90ac8-2733-4ee5-8e17-70ff260dda21": {
       "attrs": {
        "height": 0.8,
        "width": 0.8,
        "x": 0.1,
        "y": 0.1
       },
       "content": {
        "cell": "857338e9-a9b5-4993-83c0-003d8543426a",
        "part": "whole"
       },
       "id": "adc90ac8-2733-4ee5-8e17-70ff260dda21"
      }
     }
    },
    "3becc590-4ba9-40b5-9c74-f37423f50fa2": {
     "id": "3becc590-4ba9-40b5-9c74-f37423f50fa2",
     "prev": "b14c5bd1-b942-478d-bc49-106a8e42a289",
     "regions": {
      "24c4060b-0356-4411-ba1b-37468f969f31": {
       "attrs": {
        "height": 0.8,
        "width": 0.8,
        "x": 0.1,
        "y": 0.1
       },
       "content": {
        "cell": "78e2e5b2-77bd-46d0-9761-dd44665921e8",
        "part": "whole"
       },
       "id": "24c4060b-0356-4411-ba1b-37468f969f31"
      }
     }
    },
    "3e6de2ee-4e80-4b60-813f-56cc35dff6b8": {
     "id": "3e6de2ee-4e80-4b60-813f-56cc35dff6b8",
     "prev": "a00fb982-f9a2-480b-907e-da405102c759",
     "regions": {
      "2d882c18-f90b-4c9c-8004-9bacdaae454e": {
       "attrs": {
        "height": 0.8,
        "width": 0.8,
        "x": 0.1,
        "y": 0.1
       },
       "content": {
        "cell": "86188512-0783-4221-b250-2aaa6ad91613",
        "part": "whole"
       },
       "id": "2d882c18-f90b-4c9c-8004-9bacdaae454e"
      }
     }
    },
    "3e6f1fe2-e05f-4c99-9378-dc34020acd15": {
     "id": "3e6f1fe2-e05f-4c99-9378-dc34020acd15",
     "prev": "5a172116-85ad-48c0-8a8d-f342b103c3ff",
     "regions": {
      "6460fb0d-06eb-42e4-be53-5df1adaa5191": {
       "attrs": {
        "height": 0.8,
        "width": 0.8,
        "x": 0.1,
        "y": 0.1
       },
       "content": {
        "cell": "4c857182-5774-4938-8a4a-06ecae0841f0",
        "part": "whole"
       },
       "id": "6460fb0d-06eb-42e4-be53-5df1adaa5191"
      }
     }
    },
    "3f6c6a98-cf67-4342-a3be-c58d101ff165": {
     "id": "3f6c6a98-cf67-4342-a3be-c58d101ff165",
     "prev": "7e04962a-9c0f-4b23-8f27-c5c888fdb2a0",
     "regions": {
      "5816242e-b6d2-4f55-99a8-ce1e1d286f14": {
       "attrs": {
        "height": 0.8,
        "width": 0.8,
        "x": 0.1,
        "y": 0.1
       },
       "content": {
        "cell": "104b4015-75c5-4682-b44f-79da6961a2c5",
        "part": "whole"
       },
       "id": "5816242e-b6d2-4f55-99a8-ce1e1d286f14"
      }
     }
    },
    "43f30eef-4cb1-4265-9f6e-1ebababa77ef": {
     "id": "43f30eef-4cb1-4265-9f6e-1ebababa77ef",
     "prev": "554ed5ce-7015-4626-9ad5-c480ac5888a2",
     "regions": {
      "9a8828f4-f147-4f2d-a39c-e2bd9c26e8b4": {
       "attrs": {
        "height": 0.8,
        "width": 0.8,
        "x": 0.1,
        "y": 0.1
       },
       "content": {
        "cell": "c9af246c-fa41-4425-a55b-1cb9a7ef1c26",
        "part": "whole"
       },
       "id": "9a8828f4-f147-4f2d-a39c-e2bd9c26e8b4"
      }
     }
    },
    "452ed1de-d702-44db-a2a7-8f47300b85e2": {
     "id": "452ed1de-d702-44db-a2a7-8f47300b85e2",
     "prev": "eb61bda8-da35-48af-9e51-f3d0ac991f72",
     "regions": {
      "e4308267-23de-4459-bd47-67d150d5604e": {
       "attrs": {
        "height": 0.8,
        "width": 0.8,
        "x": 0.1,
        "y": 0.1
       },
       "content": {
        "cell": "4e67a3f0-5890-456f-886f-a3076bfa3fb9",
        "part": "whole"
       },
       "id": "e4308267-23de-4459-bd47-67d150d5604e"
      }
     }
    },
    "48526992-66a6-4bad-9750-3b357436d536": {
     "id": "48526992-66a6-4bad-9750-3b357436d536",
     "prev": "ae76b9f4-ba3f-4273-9e1e-119d83379a22",
     "regions": {
      "df3f5316-5e2b-4227-a720-da0ca93b8fd3": {
       "attrs": {
        "height": 0.8,
        "width": 0.8,
        "x": 0.1,
        "y": 0.1
       },
       "content": {
        "cell": "33dec376-8b7e-4560-86de-86ca18044d49",
        "part": "whole"
       },
       "id": "df3f5316-5e2b-4227-a720-da0ca93b8fd3"
      }
     }
    },
    "48975587-687d-49d9-a422-079a56ac7f6b": {
     "id": "48975587-687d-49d9-a422-079a56ac7f6b",
     "prev": "4e9d4481-f74e-48b7-a127-3829867ef656",
     "regions": {
      "69a717e5-18a7-4e85-9566-5556abb8ba0f": {
       "attrs": {
        "height": 0.8,
        "width": 0.8,
        "x": 0.1,
        "y": 0.1
       },
       "content": {
        "cell": "1339366c-d071-45fb-94f3-f9e3960e8a56",
        "part": "whole"
       },
       "id": "69a717e5-18a7-4e85-9566-5556abb8ba0f"
      }
     }
    },
    "49492d0e-168f-4c24-b5f1-a82a478ce984": {
     "id": "49492d0e-168f-4c24-b5f1-a82a478ce984",
     "prev": "37c43919-2e1c-4f9a-bee9-e3da1a393aab",
     "regions": {
      "ef22ab47-dc59-4c34-a3fb-2c7e7745dbdf": {
       "attrs": {
        "height": 0.8,
        "width": 0.8,
        "x": 0.1,
        "y": 0.1
       },
       "content": {
        "cell": "4fa75f11-c8a9-4986-ac49-3187ac63e37a",
        "part": "whole"
       },
       "id": "ef22ab47-dc59-4c34-a3fb-2c7e7745dbdf"
      }
     }
    },
    "4df53d30-f40b-4184-882a-c2ed5b7cdb91": {
     "id": "4df53d30-f40b-4184-882a-c2ed5b7cdb91",
     "prev": "1af55cb2-a86e-46b4-92c3-ec4bcb6217f5",
     "regions": {
      "dacfd6bf-5426-4879-bf49-f63d07a3c4e8": {
       "attrs": {
        "height": 0.8,
        "width": 0.8,
        "x": 0.1,
        "y": 0.1
       },
       "content": {
        "cell": "31cb6df5-399c-4d2b-8a0d-eaee92941aef",
        "part": "whole"
       },
       "id": "dacfd6bf-5426-4879-bf49-f63d07a3c4e8"
      }
     }
    },
    "4e9d4481-f74e-48b7-a127-3829867ef656": {
     "id": "4e9d4481-f74e-48b7-a127-3829867ef656",
     "prev": "16c9880a-4cb0-45fa-bfc1-0ff5847dedfe",
     "regions": {
      "b3952e1b-d997-42d8-b3ee-62cb613aa2ba": {
       "attrs": {
        "height": 0.8,
        "width": 0.8,
        "x": 0.1,
        "y": 0.1
       },
       "content": {
        "cell": "052a120b-ef08-49ab-a6b0-30df73311f76",
        "part": "whole"
       },
       "id": "b3952e1b-d997-42d8-b3ee-62cb613aa2ba"
      }
     }
    },
    "4fa3d675-8fca-4162-8f52-84283e9bb98e": {
     "id": "4fa3d675-8fca-4162-8f52-84283e9bb98e",
     "prev": "00236970-6c88-4d4b-bd3c-cedc61866af5",
     "regions": {
      "98eac207-11de-4e5a-89f1-bd370e5a5ac0": {
       "attrs": {
        "height": 0.8,
        "width": 0.8,
        "x": 0.1,
        "y": 0.1
       },
       "content": {
        "cell": "9a4ca639-7ebb-49c8-8784-9ea0be00a9e3",
        "part": "whole"
       },
       "id": "98eac207-11de-4e5a-89f1-bd370e5a5ac0"
      }
     }
    },
    "554ed5ce-7015-4626-9ad5-c480ac5888a2": {
     "id": "554ed5ce-7015-4626-9ad5-c480ac5888a2",
     "prev": "d0a91529-2bd0-4bec-8f3d-c09d56cdc79f",
     "regions": {
      "bb6a11d6-fd48-4842-a0d2-229c0b9f34f7": {
       "attrs": {
        "height": 0.8,
        "width": 0.8,
        "x": 0.1,
        "y": 0.1
       },
       "content": {
        "cell": "b60e8cf8-096f-4a47-97e5-c129e9dc8b15",
        "part": "whole"
       },
       "id": "bb6a11d6-fd48-4842-a0d2-229c0b9f34f7"
      }
     }
    },
    "561b0049-9074-4eb4-9b3c-1bc7b25944db": {
     "id": "561b0049-9074-4eb4-9b3c-1bc7b25944db",
     "prev": "98c040a7-f52f-40a0-af25-71b0ea1bde3d",
     "regions": {
      "3e9813cd-9307-451d-bea1-43280e57e308": {
       "attrs": {
        "height": 0.8,
        "width": 0.8,
        "x": 0.1,
        "y": 0.1
       },
       "content": {
        "cell": "5adbb752-8bd0-4787-92a8-1bb555e5fd63",
        "part": "whole"
       },
       "id": "3e9813cd-9307-451d-bea1-43280e57e308"
      }
     }
    },
    "569c2eb8-13bf-42c7-b0ff-037763684934": {
     "id": "569c2eb8-13bf-42c7-b0ff-037763684934",
     "prev": "c57ba285-cfcd-48d6-8491-f1f886333da9",
     "regions": {
      "62ab7c0b-e796-465f-ac15-aa1da9614cf5": {
       "attrs": {
        "height": 0.8,
        "width": 0.8,
        "x": 0.1,
        "y": 0.1
       },
       "content": {
        "cell": "7e7ea475-91d2-48ca-a5b2-f023cc9a05bf",
        "part": "whole"
       },
       "id": "62ab7c0b-e796-465f-ac15-aa1da9614cf5"
      }
     }
    },
    "56b9147e-0c35-4645-9596-008dd3240c5a": {
     "id": "56b9147e-0c35-4645-9596-008dd3240c5a",
     "prev": "7d402783-f384-485e-b54e-f56601025fc7",
     "regions": {
      "449e82ab-4c8d-4752-9cf1-9ae5db53be6f": {
       "attrs": {
        "height": 0.8,
        "width": 0.8,
        "x": 0.1,
        "y": 0.1
       },
       "content": {
        "cell": "60935d0f-2673-4b43-bc13-7d2e2e7b8152",
        "part": "whole"
       },
       "id": "449e82ab-4c8d-4752-9cf1-9ae5db53be6f"
      }
     }
    },
    "5a172116-85ad-48c0-8a8d-f342b103c3ff": {
     "id": "5a172116-85ad-48c0-8a8d-f342b103c3ff",
     "prev": "1404231f-1882-4231-87ed-0f3877dcfdc9",
     "regions": {
      "862a38d3-8842-4501-80f3-6963de3d6100": {
       "attrs": {
        "height": 0.8,
        "width": 0.8,
        "x": 0.1,
        "y": 0.1
       },
       "content": {
        "cell": "c1626a9b-4e59-4932-977c-be02d41ffb19",
        "part": "whole"
       },
       "id": "862a38d3-8842-4501-80f3-6963de3d6100"
      }
     }
    },
    "5a282781-5c91-451f-9995-9ec3f50f4c33": {
     "id": "5a282781-5c91-451f-9995-9ec3f50f4c33",
     "prev": "f5db37f1-8d87-4b6e-b496-d3a85e1c7831",
     "regions": {
      "c58550c2-1a67-4750-b9c0-afb0446943b7": {
       "attrs": {
        "height": 0.8,
        "width": 0.8,
        "x": 0.1,
        "y": 0.1
       },
       "content": {
        "cell": "b9349e7e-ef8c-4ed0-9e3b-59a2f089ecdd",
        "part": "whole"
       },
       "id": "c58550c2-1a67-4750-b9c0-afb0446943b7"
      }
     }
    },
    "5b66b0c6-6888-4c81-acc8-a008e056c0c9": {
     "id": "5b66b0c6-6888-4c81-acc8-a008e056c0c9",
     "prev": "f2c08e24-576a-4f9d-846d-5e0b81f43961",
     "regions": {
      "7915309d-67c8-4f28-a30e-456a24343370": {
       "attrs": {
        "height": 0.8,
        "width": 0.8,
        "x": 0.1,
        "y": 0.1
       },
       "content": {
        "cell": "996b058f-b11e-4222-a7aa-da2bf6927fc0",
        "part": "whole"
       },
       "id": "7915309d-67c8-4f28-a30e-456a24343370"
      }
     }
    },
    "60200b34-3f9d-4a5a-bb83-f5e82d358a33": {
     "id": "60200b34-3f9d-4a5a-bb83-f5e82d358a33",
     "prev": "36b88d82-e6cf-4de9-8b65-433c671d2c86",
     "regions": {
      "5c41c92f-fd69-43da-91b5-251a8cbefd0d": {
       "attrs": {
        "height": 0.8,
        "width": 0.8,
        "x": 0.1,
        "y": 0.1
       },
       "content": {
        "cell": "9c04a8b0-74e1-4d6d-9db1-f50b05aaf71c",
        "part": "whole"
       },
       "id": "5c41c92f-fd69-43da-91b5-251a8cbefd0d"
      }
     }
    },
    "63a8104f-ba9c-4b8e-9418-2e5c05d21990": {
     "id": "63a8104f-ba9c-4b8e-9418-2e5c05d21990",
     "prev": "870e2384-d094-418e-9368-245fe805e427",
     "regions": {
      "226c69c4-4dd6-4795-8324-5fbcf729b1fe": {
       "attrs": {
        "height": 0.8,
        "width": 0.8,
        "x": 0.1,
        "y": 0.1
       },
       "content": {
        "cell": "34933bd9-3c08-439a-8d89-b302bc27d62d",
        "part": "whole"
       },
       "id": "226c69c4-4dd6-4795-8324-5fbcf729b1fe"
      }
     }
    },
    "64a678cf-0990-4d0f-92d9-852d331b9a10": {
     "id": "64a678cf-0990-4d0f-92d9-852d331b9a10",
     "prev": "88ceab02-44ab-4ca9-8b9c-bacb57c734e6",
     "regions": {
      "95406ac3-71c3-4b5f-908e-4c821463c5e7": {
       "attrs": {
        "height": 0.8,
        "width": 0.8,
        "x": 0.1,
        "y": 0.1
       },
       "content": {
        "cell": "a3a43ae5-1d60-486e-99df-24e18389a619",
        "part": "whole"
       },
       "id": "95406ac3-71c3-4b5f-908e-4c821463c5e7"
      }
     }
    },
    "65b9d735-6b29-4e2b-87fe-e15737a2a4ee": {
     "id": "65b9d735-6b29-4e2b-87fe-e15737a2a4ee",
     "prev": "f43811b0-2719-4072-9aa9-a0cfdf6cee35",
     "regions": {
      "190e590c-38ac-41a7-a6cf-8b665e42f4d0": {
       "attrs": {
        "height": 0.8,
        "width": 0.8,
        "x": 0.1,
        "y": 0.1
       },
       "content": {
        "cell": "b0828475-ae84-4823-8c9e-bdd563dac124",
        "part": "whole"
       },
       "id": "190e590c-38ac-41a7-a6cf-8b665e42f4d0"
      }
     }
    },
    "67741d02-53b6-4f53-a1be-c1b7979e8bdf": {
     "id": "67741d02-53b6-4f53-a1be-c1b7979e8bdf",
     "prev": "4df53d30-f40b-4184-882a-c2ed5b7cdb91",
     "regions": {
      "62a6a9e3-8be7-4f1d-adc1-1aee9bda2b6c": {
       "attrs": {
        "height": 0.8,
        "width": 0.8,
        "x": 0.1,
        "y": 0.1
       },
       "content": {
        "cell": "95857623-b0b0-4978-bfbb-ce66a7d84cdb",
        "part": "whole"
       },
       "id": "62a6a9e3-8be7-4f1d-adc1-1aee9bda2b6c"
      }
     }
    },
    "6c124c26-f696-4d03-ac5e-7e418cfffbb8": {
     "id": "6c124c26-f696-4d03-ac5e-7e418cfffbb8",
     "prev": "ddb35839-0b87-4cc4-b18e-9e09bce8b7b3",
     "regions": {
      "d0bb5851-49d2-4feb-b5be-d38dd09ecd0f": {
       "attrs": {
        "height": 0.8,
        "width": 0.8,
        "x": 0.1,
        "y": 0.1
       },
       "content": {
        "cell": "44db12a7-4fd6-4e04-a5fe-4c4553180688",
        "part": "whole"
       },
       "id": "d0bb5851-49d2-4feb-b5be-d38dd09ecd0f"
      }
     }
    },
    "70e7cdb8-ad41-476d-ad9f-d95054e9b3ec": {
     "id": "70e7cdb8-ad41-476d-ad9f-d95054e9b3ec",
     "prev": "ca41c095-4043-4793-abbc-5804dcb0c5d1",
     "regions": {
      "b7b905d1-dc00-44f0-8a3d-167399d71fbe": {
       "attrs": {
        "height": 0.8,
        "width": 0.8,
        "x": 0.1,
        "y": 0.1
       },
       "content": {
        "cell": "357a01ad-2857-4f72-ad89-a2c779adc91c",
        "part": "whole"
       },
       "id": "b7b905d1-dc00-44f0-8a3d-167399d71fbe"
      }
     }
    },
    "74072f89-cdcb-4be2-9d63-1fadd355b76d": {
     "id": "74072f89-cdcb-4be2-9d63-1fadd355b76d",
     "prev": "893d19dd-1ab4-448e-b1fa-7f8ea62e3a0f",
     "regions": {
      "353c3155-ddc3-4bc3-b4fc-01c1b5c1aae2": {
       "attrs": {
        "height": 0.8,
        "width": 0.8,
        "x": 0.1,
        "y": 0.1
       },
       "content": {
        "cell": "5925e4d2-e024-478c-a220-f75221478545",
        "part": "whole"
       },
       "id": "353c3155-ddc3-4bc3-b4fc-01c1b5c1aae2"
      }
     }
    },
    "783fab66-e26d-4308-b7bc-636fb335a5e3": {
     "id": "783fab66-e26d-4308-b7bc-636fb335a5e3",
     "prev": "d2e250b7-2a2c-4cb7-b51a-654c7b232d6c",
     "regions": {
      "84add411-4ae8-4ae1-ad94-b8f6f86b248c": {
       "attrs": {
        "height": 0.8,
        "width": 0.8,
        "x": 0.1,
        "y": 0.1
       },
       "content": {
        "cell": "8beb6999-9794-47c4-9fd4-2d5beddeff12",
        "part": "whole"
       },
       "id": "84add411-4ae8-4ae1-ad94-b8f6f86b248c"
      }
     }
    },
    "784300ff-3ec3-434e-967f-21246ec861aa": {
     "id": "784300ff-3ec3-434e-967f-21246ec861aa",
     "prev": "1e7da5d8-4ab8-44f5-9c28-5f066162ce70",
     "regions": {
      "03925388-e3e1-4f7a-857e-27bf22ea1ac5": {
       "attrs": {
        "height": 0.8,
        "width": 0.8,
        "x": 0.1,
        "y": 0.1
       },
       "content": {
        "cell": "b776805c-efd8-4731-8887-63c1e4452975",
        "part": "whole"
       },
       "id": "03925388-e3e1-4f7a-857e-27bf22ea1ac5"
      }
     }
    },
    "79d2eaff-bb61-4f19-8c0f-7387f1401d9c": {
     "id": "79d2eaff-bb61-4f19-8c0f-7387f1401d9c",
     "prev": "2f7d40fa-a373-4602-893c-f243f45f097a",
     "regions": {
      "83384a01-f508-4622-be2d-8e3c2329e1b9": {
       "attrs": {
        "height": 0.8,
        "width": 0.8,
        "x": 0.1,
        "y": 0.1
       },
       "content": {
        "cell": "86b2d9f5-a6d8-4406-b658-75d659685c53",
        "part": "whole"
       },
       "id": "83384a01-f508-4622-be2d-8e3c2329e1b9"
      }
     }
    },
    "7b442e91-b57f-476e-a3f9-89eeed21a923": {
     "id": "7b442e91-b57f-476e-a3f9-89eeed21a923",
     "prev": "152e866a-c620-4792-aba6-8c2adfeac2b9",
     "regions": {
      "8183b831-1361-45aa-a713-6edf6493a243": {
       "attrs": {
        "height": 0.8,
        "width": 0.8,
        "x": 0.1,
        "y": 0.1
       },
       "content": {
        "cell": "fc7dd04a-b9e2-452a-8f80-5cd7f791a059",
        "part": "whole"
       },
       "id": "8183b831-1361-45aa-a713-6edf6493a243"
      }
     }
    },
    "7bf9602d-3a6b-4e6b-b47a-d31df3792d48": {
     "id": "7bf9602d-3a6b-4e6b-b47a-d31df3792d48",
     "prev": "364ea507-3b29-4ff4-bbec-f9cf76a66d6a",
     "regions": {
      "bee74e42-7f8c-483a-8deb-7fbb9b435990": {
       "attrs": {
        "height": 0.8,
        "width": 0.8,
        "x": 0.1,
        "y": 0.1
       },
       "content": {
        "cell": "aa2f2ebb-8ed7-4a35-b45e-fc05a8a29d68",
        "part": "whole"
       },
       "id": "bee74e42-7f8c-483a-8deb-7fbb9b435990"
      }
     }
    },
    "7d402783-f384-485e-b54e-f56601025fc7": {
     "id": "7d402783-f384-485e-b54e-f56601025fc7",
     "prev": "b0b5e512-d2b9-4853-8af6-1cac278a650b",
     "regions": {
      "6e1643ec-a5b4-405f-b50d-12476773cf30": {
       "attrs": {
        "height": 0.8,
        "width": 0.8,
        "x": 0.1,
        "y": 0.1
       },
       "content": {
        "cell": "67fd1b42-172f-433b-8826-b4cbec57e38b",
        "part": "whole"
       },
       "id": "6e1643ec-a5b4-405f-b50d-12476773cf30"
      }
     }
    },
    "7dc03bdc-e104-4c3a-a614-d93081544ed7": {
     "id": "7dc03bdc-e104-4c3a-a614-d93081544ed7",
     "prev": "376a38b4-c22a-4774-b4c5-ef4c3f2258c4",
     "regions": {
      "bbc98bf6-fc5a-40ae-834e-3207981917ed": {
       "attrs": {
        "height": 0.8,
        "width": 0.8,
        "x": 0.1,
        "y": 0.1
       },
       "content": {
        "cell": "428fa2a5-0246-4877-a22a-59462d5cac7e",
        "part": "whole"
       },
       "id": "bbc98bf6-fc5a-40ae-834e-3207981917ed"
      }
     }
    },
    "7e04962a-9c0f-4b23-8f27-c5c888fdb2a0": {
     "id": "7e04962a-9c0f-4b23-8f27-c5c888fdb2a0",
     "prev": "09d1c039-7e8d-44ba-bbd7-766f537c62c1",
     "regions": {
      "23e8a1f9-ea98-484e-b5b0-34c5a9564d0b": {
       "attrs": {
        "height": 0.8,
        "width": 0.8,
        "x": 0.1,
        "y": 0.1
       },
       "content": {
        "cell": "154cfc7c-f765-4d9c-9a48-356792f7e07f",
        "part": "whole"
       },
       "id": "23e8a1f9-ea98-484e-b5b0-34c5a9564d0b"
      }
     }
    },
    "7e276c81-a836-45e4-acf0-e9253e950dd8": {
     "id": "7e276c81-a836-45e4-acf0-e9253e950dd8",
     "prev": "ce18d364-3a05-43bc-b73e-4958882df91f",
     "regions": {
      "4dc88d61-bbc7-4a01-8692-417ef27fa160": {
       "attrs": {
        "height": 0.8,
        "width": 0.8,
        "x": 0.1,
        "y": 0.1
       },
       "content": {
        "cell": "f4b2c7b0-ce52-40c4-966b-33ada01d8764",
        "part": "whole"
       },
       "id": "4dc88d61-bbc7-4a01-8692-417ef27fa160"
      }
     }
    },
    "817308a0-41fb-44da-83f5-4d0731e0d6a8": {
     "id": "817308a0-41fb-44da-83f5-4d0731e0d6a8",
     "prev": "9bcd00e2-da9b-4fb6-919f-96ee24d8cb54",
     "regions": {
      "24702017-b5e8-4365-8f16-30522a2bf976": {
       "attrs": {
        "height": 0.8,
        "width": 0.8,
        "x": 0.1,
        "y": 0.1
       },
       "content": {
        "cell": "f3cd073e-2288-44a9-b559-1fe9e4a90f81",
        "part": "whole"
       },
       "id": "24702017-b5e8-4365-8f16-30522a2bf976"
      }
     }
    },
    "81b4b151-00dc-4f8b-ba49-3630a5c91878": {
     "id": "81b4b151-00dc-4f8b-ba49-3630a5c91878",
     "prev": "8b9c335a-ff2a-4085-aed6-198e4d458f62",
     "regions": {
      "137b20a3-48ec-4645-9d8d-c26eeba2b9ec": {
       "attrs": {
        "height": 0.8,
        "width": 0.8,
        "x": 0.1,
        "y": 0.1
       },
       "content": {
        "cell": "0d776bad-36b7-45ab-8315-b942bd1dbfee",
        "part": "whole"
       },
       "id": "137b20a3-48ec-4645-9d8d-c26eeba2b9ec"
      }
     }
    },
    "85817006-de9c-415b-acd2-e8694aaaa13e": {
     "id": "85817006-de9c-415b-acd2-e8694aaaa13e",
     "prev": "4fa3d675-8fca-4162-8f52-84283e9bb98e",
     "regions": {
      "86cda89b-fcc4-48b2-b4fa-6c7c8a24ea78": {
       "attrs": {
        "height": 0.8,
        "width": 0.8,
        "x": 0.1,
        "y": 0.1
       },
       "content": {
        "cell": "56c99851-66e8-45f4-baad-d8f3b603da1a",
        "part": "whole"
       },
       "id": "86cda89b-fcc4-48b2-b4fa-6c7c8a24ea78"
      }
     }
    },
    "85ffbfd4-97ca-4f1c-b28c-e4cdd45d85a9": {
     "id": "85ffbfd4-97ca-4f1c-b28c-e4cdd45d85a9",
     "prev": "3f6c6a98-cf67-4342-a3be-c58d101ff165",
     "regions": {
      "f1cf9925-283a-47b2-9a30-a89cfe0f011d": {
       "attrs": {
        "height": 0.8,
        "width": 0.8,
        "x": 0.1,
        "y": 0.1
       },
       "content": {
        "cell": "53f22fa1-febe-4b08-969d-1f7b9660e7ca",
        "part": "whole"
       },
       "id": "f1cf9925-283a-47b2-9a30-a89cfe0f011d"
      }
     }
    },
    "870e2384-d094-418e-9368-245fe805e427": {
     "id": "870e2384-d094-418e-9368-245fe805e427",
     "prev": "e9c206eb-6d55-4fdd-9291-e0aa104a1d9a",
     "regions": {
      "06b1c8f7-92ab-47c2-b09e-fc1854d95e80": {
       "attrs": {
        "height": 0.8,
        "width": 0.8,
        "x": 0.1,
        "y": 0.1
       },
       "content": {
        "cell": "76f0c384-a30b-43ea-b624-f0424f3e045c",
        "part": "whole"
       },
       "id": "06b1c8f7-92ab-47c2-b09e-fc1854d95e80"
      }
     }
    },
    "88ceab02-44ab-4ca9-8b9c-bacb57c734e6": {
     "id": "88ceab02-44ab-4ca9-8b9c-bacb57c734e6",
     "prev": "d7d708d8-41b1-426b-ab77-291f5fc1596b",
     "regions": {
      "e7b8add0-332d-4de8-bf9f-c1a69e2000c4": {
       "attrs": {
        "height": 0.8,
        "width": 0.8,
        "x": 0.1,
        "y": 0.1
       },
       "content": {
        "cell": "ba4151b1-1afc-476d-8d95-e2001d225035",
        "part": "whole"
       },
       "id": "e7b8add0-332d-4de8-bf9f-c1a69e2000c4"
      }
     }
    },
    "893d19dd-1ab4-448e-b1fa-7f8ea62e3a0f": {
     "id": "893d19dd-1ab4-448e-b1fa-7f8ea62e3a0f",
     "prev": "2bd743a6-badb-4a7a-bbf3-5a2aec8d1368",
     "regions": {
      "47805304-fb9a-4041-acdd-99b6e7ec3e54": {
       "attrs": {
        "height": 0.8,
        "width": 0.8,
        "x": 0.1,
        "y": 0.1
       },
       "content": {
        "cell": "206eeda0-cece-4942-956a-1cd90c8a82a6",
        "part": "whole"
       },
       "id": "47805304-fb9a-4041-acdd-99b6e7ec3e54"
      }
     }
    },
    "8b9c335a-ff2a-4085-aed6-198e4d458f62": {
     "id": "8b9c335a-ff2a-4085-aed6-198e4d458f62",
     "prev": "9b55c541-6253-4d74-b6ad-38ce9480253f",
     "regions": {
      "260d4dcf-ab71-4788-9171-92b66937952b": {
       "attrs": {
        "height": 0.8,
        "width": 0.8,
        "x": 0.1,
        "y": 0.1
       },
       "content": {
        "cell": "7526a0cd-ca55-470d-9d5d-1f023f380bcd",
        "part": "whole"
       },
       "id": "260d4dcf-ab71-4788-9171-92b66937952b"
      }
     }
    },
    "8f6a993e-6a4c-44ea-a8ff-f0ca7c014fc3": {
     "id": "8f6a993e-6a4c-44ea-a8ff-f0ca7c014fc3",
     "prev": "a204593c-1daa-4bbc-9152-5a3e88cfcb2c",
     "regions": {
      "845f761c-ba06-4583-8e76-7dd5e6f04ffd": {
       "attrs": {
        "height": 0.8,
        "width": 0.8,
        "x": 0.1,
        "y": 0.1
       },
       "content": {
        "cell": "fd0f36e8-e645-4c2d-8714-025d9cc6ebce",
        "part": "whole"
       },
       "id": "845f761c-ba06-4583-8e76-7dd5e6f04ffd"
      }
     }
    },
    "913349f9-0366-47cc-a2e3-b22094905a8d": {
     "id": "913349f9-0366-47cc-a2e3-b22094905a8d",
     "prev": "70e7cdb8-ad41-476d-ad9f-d95054e9b3ec",
     "regions": {
      "404a41db-da3e-4f9a-ae1d-a503a3cf5097": {
       "attrs": {
        "height": 0.8,
        "width": 0.8,
        "x": 0.1,
        "y": 0.1
       },
       "content": {
        "cell": "ffabff4b-45b8-4b78-8ecd-05e7d4ceafcf",
        "part": "whole"
       },
       "id": "404a41db-da3e-4f9a-ae1d-a503a3cf5097"
      }
     }
    },
    "92032076-06d4-43a1-90ce-fd95537ab56e": {
     "id": "92032076-06d4-43a1-90ce-fd95537ab56e",
     "prev": "abfc0df5-0125-4d5d-a4de-1c8ebda40136",
     "regions": {
      "53ca8b2f-5fd2-48bd-bb7d-ddbf29ae9f7b": {
       "attrs": {
        "height": 0.8,
        "width": 0.8,
        "x": 0.1,
        "y": 0.1
       },
       "content": {
        "cell": "f2a738df-ce07-4c17-8b08-fa3cb5ac9670",
        "part": "whole"
       },
       "id": "53ca8b2f-5fd2-48bd-bb7d-ddbf29ae9f7b"
      }
     }
    },
    "928145bb-c95a-4fdf-89bd-4ca65a2a0cf9": {
     "id": "928145bb-c95a-4fdf-89bd-4ca65a2a0cf9",
     "prev": "30550afd-e3b2-47c3-b5d5-dd0b6b048c41",
     "regions": {
      "09c65d93-63a1-47d5-bc65-58fdbdfeedaa": {
       "attrs": {
        "height": 0.8,
        "width": 0.8,
        "x": 0.1,
        "y": 0.1
       },
       "content": {
        "cell": "8207652d-c1e8-4012-ab2f-e8e21fe7196e",
        "part": "whole"
       },
       "id": "09c65d93-63a1-47d5-bc65-58fdbdfeedaa"
      }
     }
    },
    "937cbb50-9336-4b3d-b37d-23b142d11cee": {
     "id": "937cbb50-9336-4b3d-b37d-23b142d11cee",
     "prev": "baef5d53-8b18-4a9b-8336-7715ae91f9fa",
     "regions": {
      "335876b8-2e92-4bf5-9f56-d5c72f16722f": {
       "attrs": {
        "height": 0.8,
        "width": 0.8,
        "x": 0.1,
        "y": 0.1
       },
       "content": {
        "cell": "e094f015-5fb2-47d1-9649-402035916f0a",
        "part": "whole"
       },
       "id": "335876b8-2e92-4bf5-9f56-d5c72f16722f"
      }
     }
    },
    "94071065-3d91-4056-8845-8438c1fb1fc2": {
     "id": "94071065-3d91-4056-8845-8438c1fb1fc2",
     "prev": "5b66b0c6-6888-4c81-acc8-a008e056c0c9",
     "regions": {
      "0347a7a0-9992-4c24-b565-0627b47afc99": {
       "attrs": {
        "height": 0.8,
        "width": 0.8,
        "x": 0.1,
        "y": 0.1
       },
       "content": {
        "cell": "29de085f-bab8-4442-b0f5-368631164e35",
        "part": "whole"
       },
       "id": "0347a7a0-9992-4c24-b565-0627b47afc99"
      }
     }
    },
    "96f6aee1-ff54-4eda-b0c1-1ee9bc19fbd2": {
     "id": "96f6aee1-ff54-4eda-b0c1-1ee9bc19fbd2",
     "prev": "bb9c535e-d777-4e37-9d83-083276f6bb32",
     "regions": {
      "87bcfd77-7665-40df-9f6c-e083e62cc23c": {
       "attrs": {
        "height": 0.8,
        "width": 0.8,
        "x": 0.1,
        "y": 0.1
       },
       "content": {
        "cell": "754bae99-7d49-4815-aa25-8e96d7138e60",
        "part": "whole"
       },
       "id": "87bcfd77-7665-40df-9f6c-e083e62cc23c"
      }
     }
    },
    "972ea87c-5407-43f7-a6ae-254f88bda6e4": {
     "id": "972ea87c-5407-43f7-a6ae-254f88bda6e4",
     "prev": "c3425e86-c1f8-4ca6-9a5d-ef0d55401142",
     "regions": {
      "5adda89c-5847-4db8-adab-df50a8b80791": {
       "attrs": {
        "height": 0.8,
        "width": 0.8,
        "x": 0.1,
        "y": 0.1
       },
       "content": {
        "cell": "b2865078-d6e8-4dc2-bde8-bf0245ead43d",
        "part": "whole"
       },
       "id": "5adda89c-5847-4db8-adab-df50a8b80791"
      }
     }
    },
    "98c040a7-f52f-40a0-af25-71b0ea1bde3d": {
     "id": "98c040a7-f52f-40a0-af25-71b0ea1bde3d",
     "prev": "65b9d735-6b29-4e2b-87fe-e15737a2a4ee",
     "regions": {
      "cae2b082-3838-4d49-9126-3249b2bcf13a": {
       "attrs": {
        "height": 0.8,
        "width": 0.8,
        "x": 0.1,
        "y": 0.1
       },
       "content": {
        "cell": "847d49ae-d71f-44aa-8c90-cf54c1b4e086",
        "part": "whole"
       },
       "id": "cae2b082-3838-4d49-9126-3249b2bcf13a"
      }
     }
    },
    "98f71f08-c780-4985-8d20-d0ba60b839a3": {
     "id": "98f71f08-c780-4985-8d20-d0ba60b839a3",
     "prev": "569c2eb8-13bf-42c7-b0ff-037763684934",
     "regions": {
      "fc5a7f44-acd1-46b0-8ae4-fb98a35ed118": {
       "attrs": {
        "height": 0.8,
        "width": 0.8,
        "x": 0.1,
        "y": 0.1
       },
       "content": {
        "cell": "d5ec3e5a-9cc5-449b-9612-31a6e6d3d0d0",
        "part": "whole"
       },
       "id": "fc5a7f44-acd1-46b0-8ae4-fb98a35ed118"
      }
     }
    },
    "98fc23e3-6fba-4f89-84b7-55c653e3d751": {
     "id": "98fc23e3-6fba-4f89-84b7-55c653e3d751",
     "prev": "13564e7d-ac07-46b8-b6cb-407a0060d265",
     "regions": {
      "1fc515e1-7822-4e99-8337-cba0c3eb4d45": {
       "attrs": {
        "height": 0.8,
        "width": 0.8,
        "x": 0.1,
        "y": 0.1
       },
       "content": {
        "cell": "9dc6b81b-48a3-4ede-9247-1d517c387289",
        "part": "whole"
       },
       "id": "1fc515e1-7822-4e99-8337-cba0c3eb4d45"
      }
     }
    },
    "9b55c541-6253-4d74-b6ad-38ce9480253f": {
     "id": "9b55c541-6253-4d74-b6ad-38ce9480253f",
     "prev": "79d2eaff-bb61-4f19-8c0f-7387f1401d9c",
     "regions": {
      "58aa915a-c742-46fb-92e3-f32b7febfae6": {
       "attrs": {
        "height": 0.8,
        "width": 0.8,
        "x": 0.1,
        "y": 0.1
       },
       "content": {
        "cell": "236d0569-40c6-40db-8e63-2a85171770f5",
        "part": "whole"
       },
       "id": "58aa915a-c742-46fb-92e3-f32b7febfae6"
      }
     }
    },
    "9bcd00e2-da9b-4fb6-919f-96ee24d8cb54": {
     "id": "9bcd00e2-da9b-4fb6-919f-96ee24d8cb54",
     "prev": "67741d02-53b6-4f53-a1be-c1b7979e8bdf",
     "regions": {
      "cd10d0e0-9d31-4eef-bf0e-78b587693d06": {
       "attrs": {
        "height": 0.8,
        "width": 0.8,
        "x": 0.1,
        "y": 0.1
       },
       "content": {
        "cell": "7b13b059-f4f2-42e3-9902-53e376527933",
        "part": "whole"
       },
       "id": "cd10d0e0-9d31-4eef-bf0e-78b587693d06"
      }
     }
    },
    "9c742fa2-c6bc-4e53-a187-7f5686a43366": {
     "id": "9c742fa2-c6bc-4e53-a187-7f5686a43366",
     "prev": "ed91e3df-b828-4939-9e01-c89ef0ccd336",
     "regions": {
      "95e805f2-ae7a-4d6e-ae30-ffabe0924900": {
       "attrs": {
        "height": 0.8,
        "width": 0.8,
        "x": 0.1,
        "y": 0.1
       },
       "content": {
        "cell": "87f7e67a-12fe-4c7a-be19-a640158329a9",
        "part": "whole"
       },
       "id": "95e805f2-ae7a-4d6e-ae30-ffabe0924900"
      }
     }
    },
    "9ceb9a6e-8591-4e4e-9b15-fead10aa7aa1": {
     "id": "9ceb9a6e-8591-4e4e-9b15-fead10aa7aa1",
     "prev": "817308a0-41fb-44da-83f5-4d0731e0d6a8",
     "regions": {
      "b5d13b36-c562-4701-854b-79af431be728": {
       "attrs": {
        "height": 0.8,
        "width": 0.8,
        "x": 0.1,
        "y": 0.1
       },
       "content": {
        "cell": "9d82b7b1-f627-4000-832b-bc4867f01735",
        "part": "whole"
       },
       "id": "b5d13b36-c562-4701-854b-79af431be728"
      }
     }
    },
    "9eb0b1c5-07bf-4852-b0b5-825176a221e9": {
     "id": "9eb0b1c5-07bf-4852-b0b5-825176a221e9",
     "prev": "3becc590-4ba9-40b5-9c74-f37423f50fa2",
     "regions": {
      "155c085f-0a6f-4955-9166-fc41f68abf1e": {
       "attrs": {
        "height": 0.8,
        "width": 0.8,
        "x": 0.1,
        "y": 0.1
       },
       "content": {
        "cell": "b750a6b3-e145-4065-8540-62a82b2923f5",
        "part": "whole"
       },
       "id": "155c085f-0a6f-4955-9166-fc41f68abf1e"
      }
     }
    },
    "9f82080c-9ccc-4e2a-ba8d-e2a4a5bee517": {
     "id": "9f82080c-9ccc-4e2a-ba8d-e2a4a5bee517",
     "prev": "e8d4327c-4ac3-4c98-a398-cc500680d39b",
     "regions": {
      "75bc8744-d98f-46be-9c13-627ea82b8211": {
       "attrs": {
        "height": 0.8,
        "width": 0.8,
        "x": 0.1,
        "y": 0.1
       },
       "content": {
        "cell": "27fc1765-e980-46dd-a19e-c137c43c6515",
        "part": "whole"
       },
       "id": "75bc8744-d98f-46be-9c13-627ea82b8211"
      }
     }
    },
    "a00fb982-f9a2-480b-907e-da405102c759": {
     "id": "a00fb982-f9a2-480b-907e-da405102c759",
     "prev": "15af1ac1-f8cc-4788-a062-363dddb10d64",
     "regions": {
      "a3867f03-c3d4-464f-a980-00400a7f8115": {
       "attrs": {
        "height": 0.8,
        "width": 0.8,
        "x": 0.1,
        "y": 0.1
       },
       "content": {
        "cell": "2d448b51-2b51-46ac-aab3-b064e27f4738",
        "part": "whole"
       },
       "id": "a3867f03-c3d4-464f-a980-00400a7f8115"
      }
     }
    },
    "a14274fa-4c26-4adf-a271-16842f564cc8": {
     "id": "a14274fa-4c26-4adf-a271-16842f564cc8",
     "prev": "7dc03bdc-e104-4c3a-a614-d93081544ed7",
     "regions": {
      "95db6c27-819e-49f8-aefa-b7ae8b11bbb9": {
       "attrs": {
        "height": 0.8,
        "width": 0.8,
        "x": 0.1,
        "y": 0.1
       },
       "content": {
        "cell": "0c98f79d-9ab0-4bb3-829b-ddd08d51531c",
        "part": "whole"
       },
       "id": "95db6c27-819e-49f8-aefa-b7ae8b11bbb9"
      }
     }
    },
    "a204593c-1daa-4bbc-9152-5a3e88cfcb2c": {
     "id": "a204593c-1daa-4bbc-9152-5a3e88cfcb2c",
     "prev": "e976245c-a95a-4860-961b-b3370af0d257",
     "regions": {
      "7fb29915-b785-4b7a-916e-26dcce7ed680": {
       "attrs": {
        "height": 0.8,
        "width": 0.8,
        "x": 0.1,
        "y": 0.1
       },
       "content": {
        "cell": "9d6fad12-6ee0-459e-b16c-a44970d13011",
        "part": "whole"
       },
       "id": "7fb29915-b785-4b7a-916e-26dcce7ed680"
      }
     }
    },
    "a403292d-e669-4a42-b2c6-5c55377c0024": {
     "id": "a403292d-e669-4a42-b2c6-5c55377c0024",
     "prev": "0c8b7551-980d-4608-a7b2-b843ae41cd71",
     "regions": {
      "4ab3ea08-3f49-41f5-87a0-afdc19a9a56e": {
       "attrs": {
        "height": 0.8,
        "width": 0.8,
        "x": 0.1,
        "y": 0.1
       },
       "content": {
        "cell": "4a7d39ee-c08a-46aa-b7b0-5ac182a92fca",
        "part": "whole"
       },
       "id": "4ab3ea08-3f49-41f5-87a0-afdc19a9a56e"
      }
     }
    },
    "a4cfac75-d144-4df8-9aff-e0d0087ac371": {
     "id": "a4cfac75-d144-4df8-9aff-e0d0087ac371",
     "prev": "f2c6fb71-d71d-43ce-ba18-4b36f24424ff",
     "regions": {
      "f633fe3d-6831-4364-9ee2-8cabf4e501fb": {
       "attrs": {
        "height": 0.8,
        "width": 0.8,
        "x": 0.1,
        "y": 0.1
       },
       "content": {
        "cell": "da412a73-fb45-40eb-811c-db607e78a5a0",
        "part": "whole"
       },
       "id": "f633fe3d-6831-4364-9ee2-8cabf4e501fb"
      }
     }
    },
    "a5109399-ada0-4863-926d-eb3742acb572": {
     "id": "a5109399-ada0-4863-926d-eb3742acb572",
     "prev": "ca2b1512-3d2d-49d5-8c89-f269cda0801a",
     "regions": {
      "e3f3d72c-9a59-47c4-9e85-6e3c71cc6a71": {
       "attrs": {
        "height": 0.8,
        "width": 0.8,
        "x": 0.1,
        "y": 0.1
       },
       "content": {
        "cell": "8a6868cd-ee3f-40e3-8cdb-c5627dee6330",
        "part": "whole"
       },
       "id": "e3f3d72c-9a59-47c4-9e85-6e3c71cc6a71"
      }
     }
    },
    "a8706e43-1574-42e7-85cc-783fc43be5e1": {
     "id": "a8706e43-1574-42e7-85cc-783fc43be5e1",
     "prev": "94071065-3d91-4056-8845-8438c1fb1fc2",
     "regions": {
      "fd14be8d-fe65-4ca8-a94c-20bb399a2463": {
       "attrs": {
        "height": 0.8,
        "width": 0.8,
        "x": 0.1,
        "y": 0.1
       },
       "content": {
        "cell": "ba040321-2825-468f-8d75-815e5d3ccc46",
        "part": "whole"
       },
       "id": "fd14be8d-fe65-4ca8-a94c-20bb399a2463"
      }
     }
    },
    "a9c28309-536c-4abb-a5dc-8fa3d78f92ff": {
     "id": "a9c28309-536c-4abb-a5dc-8fa3d78f92ff",
     "prev": "783fab66-e26d-4308-b7bc-636fb335a5e3",
     "regions": {
      "5da0377f-7c72-4e51-a8fd-fa59338e866e": {
       "attrs": {
        "height": 0.8,
        "width": 0.8,
        "x": 0.1,
        "y": 0.1
       },
       "content": {
        "cell": "75d227bf-0637-4fc2-bf51-d62f35e2e278",
        "part": "whole"
       },
       "id": "5da0377f-7c72-4e51-a8fd-fa59338e866e"
      }
     }
    },
    "aa8027e3-bb6e-4eb7-90fe-015b1f0f242c": {
     "id": "aa8027e3-bb6e-4eb7-90fe-015b1f0f242c",
     "prev": "85817006-de9c-415b-acd2-e8694aaaa13e",
     "regions": {
      "cc7b7722-2991-481b-84dd-2e2f59592b8b": {
       "attrs": {
        "height": 0.8,
        "width": 0.8,
        "x": 0.1,
        "y": 0.1
       },
       "content": {
        "cell": "f22c311e-f953-45c4-a587-50c8ca66cbc8",
        "part": "whole"
       },
       "id": "cc7b7722-2991-481b-84dd-2e2f59592b8b"
      }
     }
    },
    "abfc0df5-0125-4d5d-a4de-1c8ebda40136": {
     "id": "abfc0df5-0125-4d5d-a4de-1c8ebda40136",
     "prev": "07cf8e78-9e83-4ea4-aa2f-e84e803a4665",
     "regions": {
      "585f9488-49a7-4cec-a1cd-d619af49f874": {
       "attrs": {
        "height": 0.8,
        "width": 0.8,
        "x": 0.1,
        "y": 0.1
       },
       "content": {
        "cell": "2d16332d-c038-434c-adf6-f594830b010f",
        "part": "whole"
       },
       "id": "585f9488-49a7-4cec-a1cd-d619af49f874"
      }
     }
    },
    "abffd578-b63b-49c4-871b-03e639470280": {
     "id": "abffd578-b63b-49c4-871b-03e639470280",
     "prev": "f862d8a3-c83c-462c-a871-2d19d830bb1a",
     "regions": {
      "150cb376-3375-458f-a39b-01c800e7ad63": {
       "attrs": {
        "height": 0.8,
        "width": 0.8,
        "x": 0.1,
        "y": 0.1
       },
       "content": {
        "cell": "f232e43b-4eea-45af-b9da-ba049cff221e",
        "part": "whole"
       },
       "id": "150cb376-3375-458f-a39b-01c800e7ad63"
      }
     }
    },
    "ae4f52dd-7b9a-44e3-bdae-a123971bb9f0": {
     "id": "ae4f52dd-7b9a-44e3-bdae-a123971bb9f0",
     "prev": "f3fc3221-fdfc-4193-87d4-22a2493eca0d",
     "regions": {
      "2d6ba339-7d68-4a5f-8aa9-5a8f61e0cd68": {
       "attrs": {
        "height": 0.8,
        "width": 0.8,
        "x": 0.1,
        "y": 0.1
       },
       "content": {
        "cell": "b6c97984-74dc-4dc4-99b5-f80c98d2063c",
        "part": "whole"
       },
       "id": "2d6ba339-7d68-4a5f-8aa9-5a8f61e0cd68"
      }
     }
    },
    "ae76b9f4-ba3f-4273-9e1e-119d83379a22": {
     "id": "ae76b9f4-ba3f-4273-9e1e-119d83379a22",
     "prev": "a5109399-ada0-4863-926d-eb3742acb572",
     "regions": {
      "3406784b-7fec-4105-abc1-f3c25d7f84c4": {
       "attrs": {
        "height": 0.8,
        "width": 0.8,
        "x": 0.1,
        "y": 0.1
       },
       "content": {
        "cell": "eb3e6af1-4162-4fa4-897e-860413952322",
        "part": "whole"
       },
       "id": "3406784b-7fec-4105-abc1-f3c25d7f84c4"
      }
     }
    },
    "ae7f8dd2-5ba3-4a3a-bb29-9390aedacda3": {
     "id": "ae7f8dd2-5ba3-4a3a-bb29-9390aedacda3",
     "prev": "972ea87c-5407-43f7-a6ae-254f88bda6e4",
     "regions": {
      "9d8198ca-6f36-42c0-9989-1a5feeaaaa61": {
       "attrs": {
        "height": 0.8,
        "width": 0.8,
        "x": 0.1,
        "y": 0.1
       },
       "content": {
        "cell": "4709dad5-8375-4dce-9d81-811e457dacd2",
        "part": "whole"
       },
       "id": "9d8198ca-6f36-42c0-9989-1a5feeaaaa61"
      }
     }
    },
    "b04d6862-8985-4905-809c-06922fe3e2ef": {
     "id": "b04d6862-8985-4905-809c-06922fe3e2ef",
     "prev": "3845ed12-d197-41ac-963f-ff74033078e0",
     "regions": {
      "a400630a-522a-470e-b12c-deba5a17cc34": {
       "attrs": {
        "height": 0.8,
        "width": 0.8,
        "x": 0.1,
        "y": 0.1
       },
       "content": {
        "cell": "79a5cc43-4963-47ef-a326-ebc090fdc18f",
        "part": "whole"
       },
       "id": "a400630a-522a-470e-b12c-deba5a17cc34"
      }
     }
    },
    "b0b5e512-d2b9-4853-8af6-1cac278a650b": {
     "id": "b0b5e512-d2b9-4853-8af6-1cac278a650b",
     "prev": "49492d0e-168f-4c24-b5f1-a82a478ce984",
     "regions": {
      "44ec24cf-0f4f-44a3-966e-52b4691d7bce": {
       "attrs": {
        "height": 0.8,
        "width": 0.8,
        "x": 0.1,
        "y": 0.1
       },
       "content": {
        "cell": "55bd5ebb-3834-41c6-9a04-5738584c9d25",
        "part": "whole"
       },
       "id": "44ec24cf-0f4f-44a3-966e-52b4691d7bce"
      }
     }
    },
    "b14c5bd1-b942-478d-bc49-106a8e42a289": {
     "id": "b14c5bd1-b942-478d-bc49-106a8e42a289",
     "prev": "145a218c-882a-425a-b738-5ba654fd9461",
     "regions": {
      "5e391576-d6e8-449b-9e4f-6a09210b1f15": {
       "attrs": {
        "height": 0.8,
        "width": 0.8,
        "x": 0.1,
        "y": 0.1
       },
       "content": {
        "cell": "c28ef5b9-f892-488f-86f2-fbc89cc29974",
        "part": "whole"
       },
       "id": "5e391576-d6e8-449b-9e4f-6a09210b1f15"
      }
     }
    },
    "b9991ece-f16d-4cab-ac32-22b393103f2b": {
     "id": "b9991ece-f16d-4cab-ac32-22b393103f2b",
     "prev": "64a678cf-0990-4d0f-92d9-852d331b9a10",
     "regions": {
      "948347e5-b3b8-4b56-a16e-bbcd3371bb72": {
       "attrs": {
        "height": 0.8,
        "width": 0.8,
        "x": 0.1,
        "y": 0.1
       },
       "content": {
        "cell": "3dcc767b-c508-49a2-a93e-13f227cd8662",
        "part": "whole"
       },
       "id": "948347e5-b3b8-4b56-a16e-bbcd3371bb72"
      }
     }
    },
    "ba3a18aa-efa7-44c6-b215-3a1789432927": {
     "id": "ba3a18aa-efa7-44c6-b215-3a1789432927",
     "prev": "c51c89b7-3c7c-474b-9571-0e1fc0c20dec",
     "regions": {
      "303f84b9-e938-4861-bc7c-7c899eea861e": {
       "attrs": {
        "height": 0.8,
        "width": 0.8,
        "x": 0.1,
        "y": 0.1
       },
       "content": {
        "cell": "43a6be2b-d5e9-45b5-8e98-fbfe1dbbbe5c",
        "part": "whole"
       },
       "id": "303f84b9-e938-4861-bc7c-7c899eea861e"
      }
     }
    },
    "baef5d53-8b18-4a9b-8336-7715ae91f9fa": {
     "id": "baef5d53-8b18-4a9b-8336-7715ae91f9fa",
     "prev": "8f6a993e-6a4c-44ea-a8ff-f0ca7c014fc3",
     "regions": {
      "8361bbdc-0bea-4bce-b10b-3a1ab730c037": {
       "attrs": {
        "height": 0.8,
        "width": 0.8,
        "x": 0.1,
        "y": 0.1
       },
       "content": {
        "cell": "b12f0a3a-d373-42a8-9dbf-ddb6ba47c3c2",
        "part": "whole"
       },
       "id": "8361bbdc-0bea-4bce-b10b-3a1ab730c037"
      }
     }
    },
    "bb9c535e-d777-4e37-9d83-083276f6bb32": {
     "id": "bb9c535e-d777-4e37-9d83-083276f6bb32",
     "prev": "98f71f08-c780-4985-8d20-d0ba60b839a3",
     "regions": {
      "54d0d3a6-ec9d-4a4b-9d8c-1e7114ab8f21": {
       "attrs": {
        "height": 0.8,
        "width": 0.8,
        "x": 0.1,
        "y": 0.1
       },
       "content": {
        "cell": "d9a907cf-dd9c-496d-8a73-a7fba161b990",
        "part": "whole"
       },
       "id": "54d0d3a6-ec9d-4a4b-9d8c-1e7114ab8f21"
      }
     }
    },
    "bbe206c1-78e7-474e-985e-3d0590106f7e": {
     "id": "bbe206c1-78e7-474e-985e-3d0590106f7e",
     "prev": "08dd7563-aab3-437f-92f7-5245ff790a5b",
     "regions": {
      "3821ae52-18cb-4b43-8f28-9758f5df3a39": {
       "attrs": {
        "height": 0.8,
        "width": 0.8,
        "x": 0.1,
        "y": 0.1
       },
       "content": {
        "cell": "b1f45e7c-fc9d-4624-9879-d78dbd4a363e",
        "part": "whole"
       },
       "id": "3821ae52-18cb-4b43-8f28-9758f5df3a39"
      }
     }
    },
    "bdc01925-7f18-4a79-b5c7-2c3cafcc1c0e": {
     "id": "bdc01925-7f18-4a79-b5c7-2c3cafcc1c0e",
     "prev": "9f82080c-9ccc-4e2a-ba8d-e2a4a5bee517",
     "regions": {
      "a8d57ba1-5528-4820-aaf7-495046e187c7": {
       "attrs": {
        "height": 0.8,
        "width": 0.8,
        "x": 0.1,
        "y": 0.1
       },
       "content": {
        "cell": "968090af-9dad-4bbc-ba7c-427ba5029c0c",
        "part": "whole"
       },
       "id": "a8d57ba1-5528-4820-aaf7-495046e187c7"
      }
     }
    },
    "bdec2e3f-0498-4223-8c9b-04ffabf2e2a3": {
     "id": "bdec2e3f-0498-4223-8c9b-04ffabf2e2a3",
     "prev": "cd9e28dd-d3b6-497b-82ee-40b9aa08082e",
     "regions": {
      "74c134d2-dd10-474e-9122-457983ea7ba8": {
       "attrs": {
        "height": 0.8,
        "width": 0.8,
        "x": 0.1,
        "y": 0.1
       },
       "content": {
        "cell": "a392085a-d8c9-49ca-bed7-3ab98a3550bc",
        "part": "whole"
       },
       "id": "74c134d2-dd10-474e-9122-457983ea7ba8"
      }
     }
    },
    "c1085123-25e1-4770-af7a-d920dddef121": {
     "id": "c1085123-25e1-4770-af7a-d920dddef121",
     "prev": "ae4f52dd-7b9a-44e3-bdae-a123971bb9f0",
     "regions": {
      "8cdcdf62-4a46-46df-9f51-4f9f7b9c80f5": {
       "attrs": {
        "height": 0.8,
        "width": 0.8,
        "x": 0.1,
        "y": 0.1
       },
       "content": {
        "cell": "022d8738-11ab-41bf-8f1d-2073a3224eb3",
        "part": "whole"
       },
       "id": "8cdcdf62-4a46-46df-9f51-4f9f7b9c80f5"
      }
     }
    },
    "c3425e86-c1f8-4ca6-9a5d-ef0d55401142": {
     "id": "c3425e86-c1f8-4ca6-9a5d-ef0d55401142",
     "prev": "fe5c0f73-6205-4c1a-a05e-1993ba5e9783",
     "regions": {
      "31573bc5-f6c9-4244-9c86-7f8474842771": {
       "attrs": {
        "height": 0.8,
        "width": 0.8,
        "x": 0.1,
        "y": 0.1
       },
       "content": {
        "cell": "ebb30c95-e301-4c07-878a-e94494f58aa0",
        "part": "whole"
       },
       "id": "31573bc5-f6c9-4244-9c86-7f8474842771"
      }
     }
    },
    "c51c89b7-3c7c-474b-9571-0e1fc0c20dec": {
     "id": "c51c89b7-3c7c-474b-9571-0e1fc0c20dec",
     "prev": "bdc01925-7f18-4a79-b5c7-2c3cafcc1c0e",
     "regions": {
      "078eb75d-b0d6-4185-97d0-954021ac6e79": {
       "attrs": {
        "height": 0.8,
        "width": 0.8,
        "x": 0.1,
        "y": 0.1
       },
       "content": {
        "cell": "17811899-47b1-4cf2-8da9-ae0e1456b490",
        "part": "whole"
       },
       "id": "078eb75d-b0d6-4185-97d0-954021ac6e79"
      }
     }
    },
    "c57ba285-cfcd-48d6-8491-f1f886333da9": {
     "id": "c57ba285-cfcd-48d6-8491-f1f886333da9",
     "prev": "a9c28309-536c-4abb-a5dc-8fa3d78f92ff",
     "regions": {
      "c754a12c-5042-403f-989b-5e7da7faaf8e": {
       "attrs": {
        "height": 0.8,
        "width": 0.8,
        "x": 0.1,
        "y": 0.1
       },
       "content": {
        "cell": "fc6073d0-4871-4ea7-a98c-0c1e0398915a",
        "part": "whole"
       },
       "id": "c754a12c-5042-403f-989b-5e7da7faaf8e"
      }
     }
    },
    "c5f4b6f3-f5fa-45dd-b141-49bd0685fa22": {
     "id": "c5f4b6f3-f5fa-45dd-b141-49bd0685fa22",
     "prev": "48975587-687d-49d9-a422-079a56ac7f6b",
     "regions": {
      "2c839a63-5215-401b-99b6-d9283dc89a15": {
       "attrs": {
        "height": 0.8,
        "width": 0.8,
        "x": 0.1,
        "y": 0.1
       },
       "content": {
        "cell": "6fc28381-000a-4b21-ad9a-eeed8fedf91b",
        "part": "whole"
       },
       "id": "2c839a63-5215-401b-99b6-d9283dc89a15"
      }
     }
    },
    "ca2b1512-3d2d-49d5-8c89-f269cda0801a": {
     "id": "ca2b1512-3d2d-49d5-8c89-f269cda0801a",
     "prev": "23e2f343-c000-4c90-8c85-42f9302dcab7",
     "regions": {
      "1b3c28fb-5018-4ce8-ad2b-d7fe4d9501ad": {
       "attrs": {
        "height": 0.8,
        "width": 0.8,
        "x": 0.1,
        "y": 0.1
       },
       "content": {
        "cell": "4f640e07-fa74-4dad-9846-7e5a20b95ee4",
        "part": "whole"
       },
       "id": "1b3c28fb-5018-4ce8-ad2b-d7fe4d9501ad"
      }
     }
    },
    "ca41c095-4043-4793-abbc-5804dcb0c5d1": {
     "id": "ca41c095-4043-4793-abbc-5804dcb0c5d1",
     "prev": "30618881-1a80-47e2-86cd-b0e4b075869b",
     "regions": {
      "5bc79f51-a872-49ea-9db8-9c04e17bb60f": {
       "attrs": {
        "height": 0.8,
        "width": 0.8,
        "x": 0.1,
        "y": 0.1
       },
       "content": {
        "cell": "01214431-f87d-4e81-aea1-4a21860ce908",
        "part": "whole"
       },
       "id": "5bc79f51-a872-49ea-9db8-9c04e17bb60f"
      }
     }
    },
    "cb248936-2893-445c-a9f9-fb9108283751": {
     "id": "cb248936-2893-445c-a9f9-fb9108283751",
     "prev": "f2063e11-09e6-458e-8b5d-bc80fb5ec9bd",
     "regions": {
      "2049bf61-acf9-4f18-97a6-5b05e896d4f7": {
       "attrs": {
        "height": 0.8,
        "width": 0.8,
        "x": 0.1,
        "y": 0.1
       },
       "content": {
        "cell": "e2296619-7c50-402e-bc4a-dff4b5fff89a",
        "part": "whole"
       },
       "id": "2049bf61-acf9-4f18-97a6-5b05e896d4f7"
      }
     }
    },
    "cd9e28dd-d3b6-497b-82ee-40b9aa08082e": {
     "id": "cd9e28dd-d3b6-497b-82ee-40b9aa08082e",
     "prev": "26d56dcf-9e7e-44b5-9031-a4f21ac59692",
     "regions": {
      "ae2c2cef-3c4b-47d1-bb04-d5c362ddaca7": {
       "attrs": {
        "height": 0.8,
        "width": 0.8,
        "x": 0.1,
        "y": 0.1
       },
       "content": {
        "cell": "a74762a3-0794-452a-bce7-c52285a6756c",
        "part": "whole"
       },
       "id": "ae2c2cef-3c4b-47d1-bb04-d5c362ddaca7"
      }
     }
    },
    "cdf46db8-6c2c-46e8-a599-3f6c993b1724": {
     "id": "cdf46db8-6c2c-46e8-a599-3f6c993b1724",
     "prev": "fde2813c-6232-47d8-9baa-1156932f7910",
     "regions": {
      "dd4354ec-7e7a-4464-8fec-28943eabdf50": {
       "attrs": {
        "height": 0.8,
        "width": 0.8,
        "x": 0.1,
        "y": 0.1
       },
       "content": {
        "cell": "1bf4e1db-82b5-4bad-a24c-aef31475bbab",
        "part": "whole"
       },
       "id": "dd4354ec-7e7a-4464-8fec-28943eabdf50"
      }
     }
    },
    "ce18d364-3a05-43bc-b73e-4958882df91f": {
     "id": "ce18d364-3a05-43bc-b73e-4958882df91f",
     "prev": "9eb0b1c5-07bf-4852-b0b5-825176a221e9",
     "regions": {
      "6acf41ef-b4d4-46d5-b104-28463ea682e3": {
       "attrs": {
        "height": 0.8,
        "width": 0.8,
        "x": 0.1,
        "y": 0.1
       },
       "content": {
        "cell": "a3a7cae5-0f95-4b5b-b0d4-dd07db2dea98",
        "part": "whole"
       },
       "id": "6acf41ef-b4d4-46d5-b104-28463ea682e3"
      }
     }
    },
    "d02e6d42-e60d-4857-bbd5-efa86cfd3a03": {
     "id": "d02e6d42-e60d-4857-bbd5-efa86cfd3a03",
     "prev": "a14274fa-4c26-4adf-a271-16842f564cc8",
     "regions": {
      "19f4257d-433b-4d34-aad2-5abdddb95c65": {
       "attrs": {
        "height": 0.8,
        "width": 0.8,
        "x": 0.1,
        "y": 0.1
       },
       "content": {
        "cell": "d69cef45-0d30-4748-bdb7-e0fcf33fb297",
        "part": "whole"
       },
       "id": "19f4257d-433b-4d34-aad2-5abdddb95c65"
      }
     }
    },
    "d0a46fa9-e00a-4e8b-80a4-c05c3d989657": {
     "id": "d0a46fa9-e00a-4e8b-80a4-c05c3d989657",
     "prev": "d7e57c62-53e3-4ab1-a81a-2005fab210d3",
     "regions": {
      "71372d4d-6aac-49d8-85da-5bf3fb0317a1": {
       "attrs": {
        "height": 0.8,
        "width": 0.8,
        "x": 0.1,
        "y": 0.1
       },
       "content": {
        "cell": "cf4f3f0f-0e89-4c23-b168-bd2286507d96",
        "part": "whole"
       },
       "id": "71372d4d-6aac-49d8-85da-5bf3fb0317a1"
      }
     }
    },
    "d0a91529-2bd0-4bec-8f3d-c09d56cdc79f": {
     "id": "d0a91529-2bd0-4bec-8f3d-c09d56cdc79f",
     "prev": "92032076-06d4-43a1-90ce-fd95537ab56e",
     "regions": {
      "500e832c-35cf-4e95-9027-87c21bbe0086": {
       "attrs": {
        "height": 0.8,
        "width": 0.8,
        "x": 0.1,
        "y": 0.1
       },
       "content": {
        "cell": "983ba681-2f25-422d-81cd-4219adda53af",
        "part": "whole"
       },
       "id": "500e832c-35cf-4e95-9027-87c21bbe0086"
      }
     }
    },
    "d226d274-eae2-4236-8bf2-79a7bd7ea9ce": {
     "id": "d226d274-eae2-4236-8bf2-79a7bd7ea9ce",
     "prev": "f388afff-f8bb-4ee8-add8-e10f3cb0cd7d",
     "regions": {
      "9f8d26dd-32b1-49bf-bbe9-aaa2a5931a31": {
       "attrs": {
        "height": 0.8,
        "width": 0.8,
        "x": 0.1,
        "y": 0.1
       },
       "content": {
        "cell": "6143092e-cb56-497f-bab9-83611186baf0",
        "part": "whole"
       },
       "id": "9f8d26dd-32b1-49bf-bbe9-aaa2a5931a31"
      }
     }
    },
    "d2d809b0-a3a0-4ff1-9d17-f8c2a0eb1880": {
     "id": "d2d809b0-a3a0-4ff1-9d17-f8c2a0eb1880",
     "prev": "b9991ece-f16d-4cab-ac32-22b393103f2b",
     "regions": {
      "e5a0d474-1cb7-43ce-8603-788bc166246f": {
       "attrs": {
        "height": 0.8,
        "width": 0.8,
        "x": 0.1,
        "y": 0.1
       },
       "content": {
        "cell": "5b59f17d-c580-4f63-ac2b-5ad75f13595b",
        "part": "whole"
       },
       "id": "e5a0d474-1cb7-43ce-8603-788bc166246f"
      }
     }
    },
    "d2e250b7-2a2c-4cb7-b51a-654c7b232d6c": {
     "id": "d2e250b7-2a2c-4cb7-b51a-654c7b232d6c",
     "prev": "186a8b8c-98da-4bdc-845d-8797eb35f648",
     "regions": {
      "ba47958a-798b-4dac-8740-1784c9888e6d": {
       "attrs": {
        "height": 0.8,
        "width": 0.8,
        "x": 0.1,
        "y": 0.1
       },
       "content": {
        "cell": "387e9aad-c5b5-4f20-a9f5-632ad6b98f39",
        "part": "whole"
       },
       "id": "ba47958a-798b-4dac-8740-1784c9888e6d"
      }
     }
    },
    "d36a8856-a7a4-44b2-a0c7-dd5b8fa63f0d": {
     "id": "d36a8856-a7a4-44b2-a0c7-dd5b8fa63f0d",
     "prev": "561b0049-9074-4eb4-9b3c-1bc7b25944db",
     "regions": {
      "2dc6ed8b-d26a-414e-969a-f2a32b1779d1": {
       "attrs": {
        "height": 0.8,
        "width": 0.8,
        "x": 0.1,
        "y": 0.1
       },
       "content": {
        "cell": "8bd5b12a-c069-4361-9c16-a2db28f9fb36",
        "part": "whole"
       },
       "id": "2dc6ed8b-d26a-414e-969a-f2a32b1779d1"
      }
     }
    },
    "d43613d9-2bd1-40ed-a9df-5ea8d4e32726": {
     "id": "d43613d9-2bd1-40ed-a9df-5ea8d4e32726",
     "prev": "09a63dec-cb8c-47e1-9b7d-a3f355904c72",
     "regions": {
      "269242cd-37b9-497d-b244-382a5cd79915": {
       "attrs": {
        "height": 0.8,
        "width": 0.8,
        "x": 0.1,
        "y": 0.1
       },
       "content": {
        "cell": "f1bb5341-f9fc-4478-a5a9-5cd04d09bf6c",
        "part": "whole"
       },
       "id": "269242cd-37b9-497d-b244-382a5cd79915"
      }
     }
    },
    "d7515f2f-42bc-407d-bd1b-43208f957148": {
     "id": "d7515f2f-42bc-407d-bd1b-43208f957148",
     "prev": "e9df94ad-2939-47f1-a423-bcbb98dca5cf",
     "regions": {
      "d77106ae-541b-411d-82a7-556c47c7d2a4": {
       "attrs": {
        "height": 0.8,
        "width": 0.8,
        "x": 0.1,
        "y": 0.1
       },
       "content": {
        "cell": "ab66202c-2b25-49b9-b08e-073d9f47b5cd",
        "part": "whole"
       },
       "id": "d77106ae-541b-411d-82a7-556c47c7d2a4"
      }
     }
    },
    "d7d708d8-41b1-426b-ab77-291f5fc1596b": {
     "id": "d7d708d8-41b1-426b-ab77-291f5fc1596b",
     "prev": "d02e6d42-e60d-4857-bbd5-efa86cfd3a03",
     "regions": {
      "c97b5b14-2a30-4d5a-a52f-bbd076efea5a": {
       "attrs": {
        "height": 0.8,
        "width": 0.8,
        "x": 0.1,
        "y": 0.1
       },
       "content": {
        "cell": "13e375c3-b74b-4ce1-8cfd-ed7e64dd446e",
        "part": "whole"
       },
       "id": "c97b5b14-2a30-4d5a-a52f-bbd076efea5a"
      }
     }
    },
    "d7e57c62-53e3-4ab1-a81a-2005fab210d3": {
     "id": "d7e57c62-53e3-4ab1-a81a-2005fab210d3",
     "prev": "96f6aee1-ff54-4eda-b0c1-1ee9bc19fbd2",
     "regions": {
      "2fe66fca-738e-4108-86d9-7e7b82ed02cf": {
       "attrs": {
        "height": 0.8,
        "width": 0.8,
        "x": 0.1,
        "y": 0.1
       },
       "content": {
        "cell": "72b04695-f2b2-48fd-b542-b4337f9bbe6b",
        "part": "whole"
       },
       "id": "2fe66fca-738e-4108-86d9-7e7b82ed02cf"
      }
     }
    },
    "db906f03-f7e3-4050-b713-a1cabdbbe8da": {
     "id": "db906f03-f7e3-4050-b713-a1cabdbbe8da",
     "prev": "a4cfac75-d144-4df8-9aff-e0d0087ac371",
     "regions": {
      "44672c89-fb51-4dac-ab6a-43083a798a3e": {
       "attrs": {
        "height": 0.8,
        "width": 0.8,
        "x": 0.1,
        "y": 0.1
       },
       "content": {
        "cell": "7f141e1f-583d-47b0-974e-6397c6075d94",
        "part": "whole"
       },
       "id": "44672c89-fb51-4dac-ab6a-43083a798a3e"
      }
     }
    },
    "ddb35839-0b87-4cc4-b18e-9e09bce8b7b3": {
     "id": "ddb35839-0b87-4cc4-b18e-9e09bce8b7b3",
     "prev": "81b4b151-00dc-4f8b-ba49-3630a5c91878",
     "regions": {
      "1d594787-5d50-4ef9-8b70-745cc02b8403": {
       "attrs": {
        "height": 0.8,
        "width": 0.8,
        "x": 0.1,
        "y": 0.1
       },
       "content": {
        "cell": "0be29d60-3aee-4bb2-a5a0-00f2b6f0672e",
        "part": "whole"
       },
       "id": "1d594787-5d50-4ef9-8b70-745cc02b8403"
      }
     }
    },
    "e3ae9166-b85f-46c8-999b-ead1d86f32ca": {
     "id": "e3ae9166-b85f-46c8-999b-ead1d86f32ca",
     "prev": "3e6de2ee-4e80-4b60-813f-56cc35dff6b8",
     "regions": {
      "da03eb9e-b455-4d93-9713-aedfa60fbc1c": {
       "attrs": {
        "height": 0.8,
        "width": 0.8,
        "x": 0.1,
        "y": 0.1
       },
       "content": {
        "cell": "dcf73bda-5db8-40fb-b827-ffe2834b6074",
        "part": "whole"
       },
       "id": "da03eb9e-b455-4d93-9713-aedfa60fbc1c"
      }
     }
    },
    "e8d4327c-4ac3-4c98-a398-cc500680d39b": {
     "id": "e8d4327c-4ac3-4c98-a398-cc500680d39b",
     "prev": "0cc09bed-4f0b-4bcd-892b-d911f2e4b463",
     "regions": {
      "e5129cb3-5fb1-43e3-aad4-9b1fe0ad9a1e": {
       "attrs": {
        "height": 0.8,
        "width": 0.8,
        "x": 0.1,
        "y": 0.1
       },
       "content": {
        "cell": "44059168-92a0-4e9a-9f5c-92b34beff512",
        "part": "whole"
       },
       "id": "e5129cb3-5fb1-43e3-aad4-9b1fe0ad9a1e"
      }
     }
    },
    "e976245c-a95a-4860-961b-b3370af0d257": {
     "id": "e976245c-a95a-4860-961b-b3370af0d257",
     "prev": "d7515f2f-42bc-407d-bd1b-43208f957148",
     "regions": {
      "c6c84e2c-b405-416f-974c-6a5dbbfa4374": {
       "attrs": {
        "height": 0.8,
        "width": 0.8,
        "x": 0.1,
        "y": 0.1
       },
       "content": {
        "cell": "fb359175-2961-4730-8269-190b962e0008",
        "part": "whole"
       },
       "id": "c6c84e2c-b405-416f-974c-6a5dbbfa4374"
      }
     }
    },
    "e9c206eb-6d55-4fdd-9291-e0aa104a1d9a": {
     "id": "e9c206eb-6d55-4fdd-9291-e0aa104a1d9a",
     "prev": "ae7f8dd2-5ba3-4a3a-bb29-9390aedacda3",
     "regions": {
      "99e154f5-4b1a-48bd-9715-4a127a31d6c3": {
       "attrs": {
        "height": 0.8,
        "width": 0.8,
        "x": 0.1,
        "y": 0.1
       },
       "content": {
        "cell": "ae85f628-4ad4-4137-86ca-4e3ab710c808",
        "part": "whole"
       },
       "id": "99e154f5-4b1a-48bd-9715-4a127a31d6c3"
      }
     }
    },
    "e9df94ad-2939-47f1-a423-bcbb98dca5cf": {
     "id": "e9df94ad-2939-47f1-a423-bcbb98dca5cf",
     "prev": "cdf46db8-6c2c-46e8-a599-3f6c993b1724",
     "regions": {
      "c11fbcac-9363-4105-b652-4551951176dd": {
       "attrs": {
        "height": 0.8,
        "width": 0.8,
        "x": 0.1,
        "y": 0.1
       },
       "content": {
        "cell": "cc76e604-262d-467d-9096-f99a585bc8d2",
        "part": "whole"
       },
       "id": "c11fbcac-9363-4105-b652-4551951176dd"
      }
     }
    },
    "ea067182-b28b-446e-8354-eb3d64aea2a4": {
     "id": "ea067182-b28b-446e-8354-eb3d64aea2a4",
     "prev": "9ceb9a6e-8591-4e4e-9b15-fead10aa7aa1",
     "regions": {
      "88488a79-08c9-4ad8-9734-bac4e62a082f": {
       "attrs": {
        "height": 0.8,
        "width": 0.8,
        "x": 0.1,
        "y": 0.1
       },
       "content": {
        "cell": "09f24d5b-ff3b-4629-baed-0214d6d0acdf",
        "part": "whole"
       },
       "id": "88488a79-08c9-4ad8-9734-bac4e62a082f"
      }
     }
    },
    "eb4ba421-4c75-41ac-b2d5-38a65be4a331": {
     "id": "eb4ba421-4c75-41ac-b2d5-38a65be4a331",
     "prev": "74072f89-cdcb-4be2-9d63-1fadd355b76d",
     "regions": {
      "6cbd38f4-09a6-4162-b3e2-b9c0ee5269db": {
       "attrs": {
        "height": 0.8,
        "width": 0.8,
        "x": 0.1,
        "y": 0.1
       },
       "content": {
        "cell": "d0023426-309c-47c2-ae1d-eaffae0a3560",
        "part": "whole"
       },
       "id": "6cbd38f4-09a6-4162-b3e2-b9c0ee5269db"
      }
     }
    },
    "eb61bda8-da35-48af-9e51-f3d0ac991f72": {
     "id": "eb61bda8-da35-48af-9e51-f3d0ac991f72",
     "prev": "bdec2e3f-0498-4223-8c9b-04ffabf2e2a3",
     "regions": {
      "38679eab-31c3-4c75-ac06-ba64e32b18bd": {
       "attrs": {
        "height": 0.8,
        "width": 0.8,
        "x": 0.1,
        "y": 0.1
       },
       "content": {
        "cell": "c77d0478-cfe1-4d32-bdec-91ed46fa1fd4",
        "part": "whole"
       },
       "id": "38679eab-31c3-4c75-ac06-ba64e32b18bd"
      }
     }
    },
    "ed91e3df-b828-4939-9e01-c89ef0ccd336": {
     "id": "ed91e3df-b828-4939-9e01-c89ef0ccd336",
     "prev": "5a282781-5c91-451f-9995-9ec3f50f4c33",
     "regions": {
      "4afbb9f7-aa47-4300-8cb8-4c5a28f0c538": {
       "attrs": {
        "height": 0.8,
        "width": 0.8,
        "x": 0.1,
        "y": 0.1
       },
       "content": {
        "cell": "7f636432-fbbc-4f1a-9671-81103c4d9d20",
        "part": "whole"
       },
       "id": "4afbb9f7-aa47-4300-8cb8-4c5a28f0c538"
      }
     }
    },
    "f1cb9ac1-4fa2-4cf6-9df3-46fafd715aa4": {
     "id": "f1cb9ac1-4fa2-4cf6-9df3-46fafd715aa4",
     "prev": "2deaaaa8-2645-4334-b05e-9f9419a75103",
     "regions": {
      "1034f127-863c-4999-95ea-1602024d5dba": {
       "attrs": {
        "height": 0.8,
        "width": 0.8,
        "x": 0.1,
        "y": 0.1
       },
       "content": {
        "cell": "e656d01b-5b9e-44ff-8ec0-c1fa99ad4221",
        "part": "whole"
       },
       "id": "1034f127-863c-4999-95ea-1602024d5dba"
      }
     }
    },
    "f2063e11-09e6-458e-8b5d-bc80fb5ec9bd": {
     "id": "f2063e11-09e6-458e-8b5d-bc80fb5ec9bd",
     "prev": "43f30eef-4cb1-4265-9f6e-1ebababa77ef",
     "regions": {
      "38c58a53-872b-4fad-bd88-9b4cda553c08": {
       "attrs": {
        "height": 0.8,
        "width": 0.8,
        "x": 0.1,
        "y": 0.1
       },
       "content": {
        "cell": "8295ec63-a99b-4c1b-9557-b4b2d855d9cc",
        "part": "whole"
       },
       "id": "38c58a53-872b-4fad-bd88-9b4cda553c08"
      }
     }
    },
    "f2c08e24-576a-4f9d-846d-5e0b81f43961": {
     "id": "f2c08e24-576a-4f9d-846d-5e0b81f43961",
     "prev": "cb248936-2893-445c-a9f9-fb9108283751",
     "regions": {
      "7c6d7617-a3f0-40e8-975c-719552a15f2c": {
       "attrs": {
        "height": 0.8,
        "width": 0.8,
        "x": 0.1,
        "y": 0.1
       },
       "content": {
        "cell": "b297321d-c2a0-4676-91ed-bb953a8e1dfa",
        "part": "whole"
       },
       "id": "7c6d7617-a3f0-40e8-975c-719552a15f2c"
      }
     }
    },
    "f2c6fb71-d71d-43ce-ba18-4b36f24424ff": {
     "id": "f2c6fb71-d71d-43ce-ba18-4b36f24424ff",
     "prev": "f4c8fcfe-4668-4c04-a6b5-e8fc209ad522",
     "regions": {
      "200d3986-e21e-49ab-822e-182747b1391a": {
       "attrs": {
        "height": 0.8,
        "width": 0.8,
        "x": 0.1,
        "y": 0.1
       },
       "content": {
        "cell": "c893b6ed-ba24-4d01-91b8-23ada4ce3383",
        "part": "whole"
       },
       "id": "200d3986-e21e-49ab-822e-182747b1391a"
      }
     }
    },
    "f388afff-f8bb-4ee8-add8-e10f3cb0cd7d": {
     "id": "f388afff-f8bb-4ee8-add8-e10f3cb0cd7d",
     "prev": "7b442e91-b57f-476e-a3f9-89eeed21a923",
     "regions": {
      "b12cfcea-ab59-4fef-907b-d1de140a6a5e": {
       "attrs": {
        "height": 0.8,
        "width": 0.8,
        "x": 0.1,
        "y": 0.1
       },
       "content": {
        "cell": "8a653e33-3f8c-4c0b-97df-9c7d0ac84b08",
        "part": "whole"
       },
       "id": "b12cfcea-ab59-4fef-907b-d1de140a6a5e"
      }
     }
    },
    "f3fc3221-fdfc-4193-87d4-22a2493eca0d": {
     "id": "f3fc3221-fdfc-4193-87d4-22a2493eca0d",
     "prev": "e3ae9166-b85f-46c8-999b-ead1d86f32ca",
     "regions": {
      "4a8bdb96-e229-44a7-a1d3-a9676b35f164": {
       "attrs": {
        "height": 0.8,
        "width": 0.8,
        "x": 0.1,
        "y": 0.1
       },
       "content": {
        "cell": "2c4aafd3-ed98-4577-84da-496378669840",
        "part": "whole"
       },
       "id": "4a8bdb96-e229-44a7-a1d3-a9676b35f164"
      }
     }
    },
    "f43811b0-2719-4072-9aa9-a0cfdf6cee35": {
     "id": "f43811b0-2719-4072-9aa9-a0cfdf6cee35",
     "prev": "f1cb9ac1-4fa2-4cf6-9df3-46fafd715aa4",
     "regions": {
      "999a8d2a-b047-4359-ac43-58ad7469ae0b": {
       "attrs": {
        "height": 0.8,
        "width": 0.8,
        "x": 0.1,
        "y": 0.1
       },
       "content": {
        "cell": "71a20469-0604-4950-a945-e999c35ea6be",
        "part": "whole"
       },
       "id": "999a8d2a-b047-4359-ac43-58ad7469ae0b"
      }
     }
    },
    "f4c8fcfe-4668-4c04-a6b5-e8fc209ad522": {
     "id": "f4c8fcfe-4668-4c04-a6b5-e8fc209ad522",
     "prev": "b04d6862-8985-4905-809c-06922fe3e2ef",
     "regions": {
      "1b2a6eb5-0f42-4c90-aef3-9aacc91c0612": {
       "attrs": {
        "height": 0.8,
        "width": 0.8,
        "x": 0.1,
        "y": 0.1
       },
       "content": {
        "cell": "746e6dfa-b486-42c6-a664-b9a38708cf1d",
        "part": "whole"
       },
       "id": "1b2a6eb5-0f42-4c90-aef3-9aacc91c0612"
      }
     }
    },
    "f4d9d326-bd36-4435-81f6-d7a21a44333d": {
     "id": "f4d9d326-bd36-4435-81f6-d7a21a44333d",
     "prev": "a8706e43-1574-42e7-85cc-783fc43be5e1",
     "regions": {
      "a6e9fff5-1563-4310-b9d2-4e22d0180e88": {
       "attrs": {
        "height": 0.8,
        "width": 0.8,
        "x": 0.1,
        "y": 0.1
       },
       "content": {
        "cell": "0a806788-3bee-454e-8857-8e9bde254f19",
        "part": "whole"
       },
       "id": "a6e9fff5-1563-4310-b9d2-4e22d0180e88"
      }
     }
    },
    "f51ef26a-3a26-4d3e-8ab9-8e675d587ef9": {
     "id": "f51ef26a-3a26-4d3e-8ab9-8e675d587ef9",
     "prev": "7bf9602d-3a6b-4e6b-b47a-d31df3792d48",
     "regions": {
      "b006e109-8589-4ffb-9c79-6ba85a207d99": {
       "attrs": {
        "height": 0.8,
        "width": 0.8,
        "x": 0.1,
        "y": 0.1
       },
       "content": {
        "cell": "b9c5fd93-d2f1-4b8b-ae10-787af4442c88",
        "part": "whole"
       },
       "id": "b006e109-8589-4ffb-9c79-6ba85a207d99"
      }
     }
    },
    "f5db37f1-8d87-4b6e-b496-d3a85e1c7831": {
     "id": "f5db37f1-8d87-4b6e-b496-d3a85e1c7831",
     "prev": "a403292d-e669-4a42-b2c6-5c55377c0024",
     "regions": {
      "48ccbc5a-df6d-4883-ad41-ed28fd16e061": {
       "attrs": {
        "height": 0.8,
        "width": 0.8,
        "x": 0.1,
        "y": 0.1
       },
       "content": {
        "cell": "7804ab9b-17d8-4b18-9103-ed7a0097b7e9",
        "part": "whole"
       },
       "id": "48ccbc5a-df6d-4883-ad41-ed28fd16e061"
      }
     }
    },
    "f65d5621-095f-487c-b773-f6ff1214814d": {
     "id": "f65d5621-095f-487c-b773-f6ff1214814d",
     "prev": "c1085123-25e1-4770-af7a-d920dddef121",
     "regions": {
      "244da4fc-dbbd-43ea-b60e-8e1a0866b863": {
       "attrs": {
        "height": 0.8,
        "width": 0.8,
        "x": 0.1,
        "y": 0.1
       },
       "content": {
        "cell": "8961b55f-ad95-40ca-9e0b-8a8e9d225266",
        "part": "whole"
       },
       "id": "244da4fc-dbbd-43ea-b60e-8e1a0866b863"
      }
     }
    },
    "f7f1770a-f7e7-44ee-97c2-266f389a64fb": {
     "id": "f7f1770a-f7e7-44ee-97c2-266f389a64fb",
     "prev": "fb9937aa-2990-4dda-8c7b-71b4465141ae",
     "regions": {
      "58e1a6aa-61f9-445c-934a-485fc4dbb9ad": {
       "attrs": {
        "height": 0.8,
        "width": 0.8,
        "x": 0.1,
        "y": 0.1
       },
       "content": {
        "cell": "f6db3497-63d7-4e5e-a976-ba638bbf1bd0",
        "part": "whole"
       },
       "id": "58e1a6aa-61f9-445c-934a-485fc4dbb9ad"
      }
     }
    },
    "f862d8a3-c83c-462c-a871-2d19d830bb1a": {
     "id": "f862d8a3-c83c-462c-a871-2d19d830bb1a",
     "prev": "fcc41402-5594-4fe7-aafb-edd29241546a",
     "regions": {
      "3c0c11b3-d4dd-44c4-94df-0f42c89ead65": {
       "attrs": {
        "height": 0.8,
        "width": 0.8,
        "x": 0.1,
        "y": 0.1
       },
       "content": {
        "cell": "3cd38b5b-fadb-4975-a81e-547c44d0b38b",
        "part": "whole"
       },
       "id": "3c0c11b3-d4dd-44c4-94df-0f42c89ead65"
      }
     }
    },
    "fb9937aa-2990-4dda-8c7b-71b4465141ae": {
     "id": "fb9937aa-2990-4dda-8c7b-71b4465141ae",
     "prev": "928145bb-c95a-4fdf-89bd-4ca65a2a0cf9",
     "regions": {
      "d47914f9-dc81-473b-bc98-aff6bab09f84": {
       "attrs": {
        "height": 0.8,
        "width": 0.8,
        "x": 0.1,
        "y": 0.1
       },
       "content": {
        "cell": "3f3c8211-b302-43db-825c-cccd3b3d920d",
        "part": "whole"
       },
       "id": "d47914f9-dc81-473b-bc98-aff6bab09f84"
      }
     }
    },
    "fcc41402-5594-4fe7-aafb-edd29241546a": {
     "id": "fcc41402-5594-4fe7-aafb-edd29241546a",
     "prev": "63a8104f-ba9c-4b8e-9418-2e5c05d21990",
     "regions": {
      "72260f07-8ad1-44b1-b2fa-9a1757a0fc09": {
       "attrs": {
        "height": 0.8,
        "width": 0.8,
        "x": 0.1,
        "y": 0.1
       },
       "content": {
        "cell": "7cfea76c-69fd-4c1e-8942-87ef68a10997",
        "part": "whole"
       },
       "id": "72260f07-8ad1-44b1-b2fa-9a1757a0fc09"
      }
     }
    },
    "fd8cc12a-72fb-409e-b887-cbe2ca2857db": {
     "id": "fd8cc12a-72fb-409e-b887-cbe2ca2857db",
     "prev": "f7f1770a-f7e7-44ee-97c2-266f389a64fb",
     "regions": {
      "4a017e30-119d-430d-a1f1-536ce898e02e": {
       "attrs": {
        "height": 0.8,
        "width": 0.8,
        "x": 0.1,
        "y": 0.1
       },
       "content": {
        "cell": "98db1b2e-5e6c-43e1-af4f-48bb5c92884a",
        "part": "whole"
       },
       "id": "4a017e30-119d-430d-a1f1-536ce898e02e"
      }
     }
    },
    "fde2813c-6232-47d8-9baa-1156932f7910": {
     "id": "fde2813c-6232-47d8-9baa-1156932f7910",
     "prev": "00ac7405-8262-44d6-99f9-ec75589638d3",
     "regions": {
      "5d3533d6-b2aa-4385-916a-23dd8f0c0d24": {
       "attrs": {
        "height": 0.8,
        "width": 0.8,
        "x": 0.1,
        "y": 0.1
       },
       "content": {
        "cell": "344930cd-2060-4697-8540-c933c9423f70",
        "part": "whole"
       },
       "id": "5d3533d6-b2aa-4385-916a-23dd8f0c0d24"
      }
     }
    },
    "fe5c0f73-6205-4c1a-a05e-1993ba5e9783": {
     "id": "fe5c0f73-6205-4c1a-a05e-1993ba5e9783",
     "prev": "d2d809b0-a3a0-4ff1-9d17-f8c2a0eb1880",
     "regions": {
      "a125f968-95b1-4ed1-90f7-2c554f503ce8": {
       "attrs": {
        "height": 0.8,
        "width": 0.8,
        "x": 0.1,
        "y": 0.1
       },
       "content": {
        "cell": "ba53c013-869f-4bd2-a965-a5e237bdef74",
        "part": "whole"
       },
       "id": "a125f968-95b1-4ed1-90f7-2c554f503ce8"
      }
     }
    },
    "ff55e1e4-5a0b-4d0f-a1c9-36a0736e8d64": {
     "id": "ff55e1e4-5a0b-4d0f-a1c9-36a0736e8d64",
     "prev": "02db0acd-93c9-4d08-8d5e-c32f77f761b4",
     "regions": {
      "63577922-1c78-4433-aa9d-39691526a0c7": {
       "attrs": {
        "height": 0.8,
        "width": 0.8,
        "x": 0.1,
        "y": 0.1
       },
       "content": {
        "cell": "7984503a-74b3-4489-b65c-f55c89a27ee5",
        "part": "whole"
       },
       "id": "63577922-1c78-4433-aa9d-39691526a0c7"
      }
     }
    }
   },
   "themes": {
    "default": "87532adc-e246-49de-ab1a-be9d1bbed860",
    "theme": {
     "06a19a55-bbd6-4821-85cb-3cad9072d310": {
      "backgrounds": {
       "dc7afa04-bf90-40b1-82a5-726e3cff5267": {
        "background-color": "31af15d2-7e15-44c5-ab5e-e04b16a89eff",
        "id": "dc7afa04-bf90-40b1-82a5-726e3cff5267"
       }
      },
      "id": "06a19a55-bbd6-4821-85cb-3cad9072d310",
      "palette": {
       "19cc588f-0593-49c9-9f4b-e4d7cc113b1c": {
        "id": "19cc588f-0593-49c9-9f4b-e4d7cc113b1c",
        "rgb": [
         252,
         252,
         252
        ]
       },
       "31af15d2-7e15-44c5-ab5e-e04b16a89eff": {
        "id": "31af15d2-7e15-44c5-ab5e-e04b16a89eff",
        "rgb": [
         68,
         68,
         68
        ]
       },
       "50f92c45-a630-455b-aec3-788680ec7410": {
        "id": "50f92c45-a630-455b-aec3-788680ec7410",
        "rgb": [
         197,
         226,
         245
        ]
       },
       "c5cc3653-2ee1-402a-aba2-7caae1da4f6c": {
        "id": "c5cc3653-2ee1-402a-aba2-7caae1da4f6c",
        "rgb": [
         43,
         126,
         184
        ]
       },
       "efa7f048-9acb-414c-8b04-a26811511a21": {
        "id": "efa7f048-9acb-414c-8b04-a26811511a21",
        "rgb": [
         25.118061674008803,
         73.60176211453744,
         107.4819383259912
        ]
       }
      },
      "rules": {
       "a": {
        "color": "19cc588f-0593-49c9-9f4b-e4d7cc113b1c"
       },
       "blockquote": {
        "color": "50f92c45-a630-455b-aec3-788680ec7410",
        "font-size": 3
       },
       "code": {
        "font-family": "Anonymous Pro"
       },
       "h1": {
        "color": "19cc588f-0593-49c9-9f4b-e4d7cc113b1c",
        "font-family": "Merriweather",
        "font-size": 8
       },
       "h2": {
        "color": "19cc588f-0593-49c9-9f4b-e4d7cc113b1c",
        "font-family": "Merriweather",
        "font-size": 6
       },
       "h3": {
        "color": "50f92c45-a630-455b-aec3-788680ec7410",
        "font-family": "Lato",
        "font-size": 5.5
       },
       "h4": {
        "color": "c5cc3653-2ee1-402a-aba2-7caae1da4f6c",
        "font-family": "Lato",
        "font-size": 5
       },
       "h5": {
        "font-family": "Lato"
       },
       "h6": {
        "font-family": "Lato"
       },
       "h7": {
        "font-family": "Lato"
       },
       "li": {
        "color": "50f92c45-a630-455b-aec3-788680ec7410",
        "font-size": 3.25
       },
       "pre": {
        "font-family": "Anonymous Pro",
        "font-size": 4
       }
      },
      "text-base": {
       "color": "19cc588f-0593-49c9-9f4b-e4d7cc113b1c",
       "font-family": "Lato",
       "font-size": 4
      }
     },
     "2f1c9445-b5f4-4358-84c3-3f5e534a50c0": {
      "id": "2f1c9445-b5f4-4358-84c3-3f5e534a50c0",
      "palette": {
       "19cc588f-0593-49c9-9f4b-e4d7cc113b1c": {
        "id": "19cc588f-0593-49c9-9f4b-e4d7cc113b1c",
        "rgb": [
         252,
         252,
         252
        ]
       },
       "31af15d2-7e15-44c5-ab5e-e04b16a89eff": {
        "id": "31af15d2-7e15-44c5-ab5e-e04b16a89eff",
        "rgb": [
         68,
         68,
         68
        ]
       },
       "50f92c45-a630-455b-aec3-788680ec7410": {
        "id": "50f92c45-a630-455b-aec3-788680ec7410",
        "rgb": [
         155,
         177,
         192
        ]
       },
       "c5cc3653-2ee1-402a-aba2-7caae1da4f6c": {
        "id": "c5cc3653-2ee1-402a-aba2-7caae1da4f6c",
        "rgb": [
         43,
         126,
         184
        ]
       },
       "efa7f048-9acb-414c-8b04-a26811511a21": {
        "id": "efa7f048-9acb-414c-8b04-a26811511a21",
        "rgb": [
         25.118061674008803,
         73.60176211453744,
         107.4819383259912
        ]
       }
      },
      "rules": {
       "blockquote": {
        "color": "50f92c45-a630-455b-aec3-788680ec7410"
       },
       "code": {
        "font-family": "Anonymous Pro"
       },
       "h1": {
        "color": "c5cc3653-2ee1-402a-aba2-7caae1da4f6c",
        "font-family": "Lato",
        "font-size": 8
       },
       "h2": {
        "color": "c5cc3653-2ee1-402a-aba2-7caae1da4f6c",
        "font-family": "Lato",
        "font-size": 6
       },
       "h3": {
        "color": "50f92c45-a630-455b-aec3-788680ec7410",
        "font-family": "Lato",
        "font-size": 5.5
       },
       "h4": {
        "color": "c5cc3653-2ee1-402a-aba2-7caae1da4f6c",
        "font-family": "Lato",
        "font-size": 5
       },
       "h5": {
        "font-family": "Lato"
       },
       "h6": {
        "font-family": "Lato"
       },
       "h7": {
        "font-family": "Lato"
       },
       "pre": {
        "font-family": "Anonymous Pro",
        "font-size": 4
       }
      },
      "text-base": {
       "font-family": "Merriweather",
       "font-size": 4
      }
     },
     "39ae18ab-3857-4bbd-bda7-75ffc9bdcb1a": {
      "backgrounds": {
       "dc7afa04-bf90-40b1-82a5-726e3cff5267": {
        "background-color": "31af15d2-7e15-44c5-ab5e-e04b16a89eff",
        "id": "dc7afa04-bf90-40b1-82a5-726e3cff5267"
       }
      },
      "id": "39ae18ab-3857-4bbd-bda7-75ffc9bdcb1a",
      "palette": {
       "19cc588f-0593-49c9-9f4b-e4d7cc113b1c": {
        "id": "19cc588f-0593-49c9-9f4b-e4d7cc113b1c",
        "rgb": [
         252,
         252,
         252
        ]
       },
       "31af15d2-7e15-44c5-ab5e-e04b16a89eff": {
        "id": "31af15d2-7e15-44c5-ab5e-e04b16a89eff",
        "rgb": [
         68,
         68,
         68
        ]
       },
       "50f92c45-a630-455b-aec3-788680ec7410": {
        "id": "50f92c45-a630-455b-aec3-788680ec7410",
        "rgb": [
         197,
         226,
         245
        ]
       },
       "c5cc3653-2ee1-402a-aba2-7caae1da4f6c": {
        "id": "c5cc3653-2ee1-402a-aba2-7caae1da4f6c",
        "rgb": [
         43,
         126,
         184
        ]
       },
       "efa7f048-9acb-414c-8b04-a26811511a21": {
        "id": "efa7f048-9acb-414c-8b04-a26811511a21",
        "rgb": [
         25.118061674008803,
         73.60176211453744,
         107.4819383259912
        ]
       }
      },
      "rules": {
       "a": {
        "color": "19cc588f-0593-49c9-9f4b-e4d7cc113b1c"
       },
       "blockquote": {
        "color": "50f92c45-a630-455b-aec3-788680ec7410",
        "font-size": 3
       },
       "code": {
        "font-family": "Anonymous Pro"
       },
       "h1": {
        "color": "19cc588f-0593-49c9-9f4b-e4d7cc113b1c",
        "font-family": "Merriweather",
        "font-size": 8
       },
       "h2": {
        "color": "19cc588f-0593-49c9-9f4b-e4d7cc113b1c",
        "font-family": "Merriweather",
        "font-size": 6
       },
       "h3": {
        "color": "50f92c45-a630-455b-aec3-788680ec7410",
        "font-family": "Lato",
        "font-size": 5.5
       },
       "h4": {
        "color": "c5cc3653-2ee1-402a-aba2-7caae1da4f6c",
        "font-family": "Lato",
        "font-size": 5
       },
       "h5": {
        "font-family": "Lato"
       },
       "h6": {
        "font-family": "Lato"
       },
       "h7": {
        "font-family": "Lato"
       },
       "li": {
        "color": "50f92c45-a630-455b-aec3-788680ec7410",
        "font-size": 3.25
       },
       "pre": {
        "font-family": "Anonymous Pro",
        "font-size": 4
       }
      },
      "text-base": {
       "color": "19cc588f-0593-49c9-9f4b-e4d7cc113b1c",
       "font-family": "Lato",
       "font-size": 4
      }
     },
     "4f52c4d0-9d48-47c8-a6fc-852b5fa3fddd": {
      "backgrounds": {
       "dc7afa04-bf90-40b1-82a5-726e3cff5267": {
        "background-color": "31af15d2-7e15-44c5-ab5e-e04b16a89eff",
        "id": "dc7afa04-bf90-40b1-82a5-726e3cff5267"
       }
      },
      "id": "4f52c4d0-9d48-47c8-a6fc-852b5fa3fddd",
      "palette": {
       "19cc588f-0593-49c9-9f4b-e4d7cc113b1c": {
        "id": "19cc588f-0593-49c9-9f4b-e4d7cc113b1c",
        "rgb": [
         252,
         252,
         252
        ]
       },
       "31af15d2-7e15-44c5-ab5e-e04b16a89eff": {
        "id": "31af15d2-7e15-44c5-ab5e-e04b16a89eff",
        "rgb": [
         68,
         68,
         68
        ]
       },
       "50f92c45-a630-455b-aec3-788680ec7410": {
        "id": "50f92c45-a630-455b-aec3-788680ec7410",
        "rgb": [
         197,
         226,
         245
        ]
       },
       "c5cc3653-2ee1-402a-aba2-7caae1da4f6c": {
        "id": "c5cc3653-2ee1-402a-aba2-7caae1da4f6c",
        "rgb": [
         43,
         126,
         184
        ]
       },
       "efa7f048-9acb-414c-8b04-a26811511a21": {
        "id": "efa7f048-9acb-414c-8b04-a26811511a21",
        "rgb": [
         25.118061674008803,
         73.60176211453744,
         107.4819383259912
        ]
       }
      },
      "rules": {
       "a": {
        "color": "19cc588f-0593-49c9-9f4b-e4d7cc113b1c"
       },
       "blockquote": {
        "color": "50f92c45-a630-455b-aec3-788680ec7410",
        "font-size": 3
       },
       "code": {
        "font-family": "Anonymous Pro"
       },
       "h1": {
        "color": "19cc588f-0593-49c9-9f4b-e4d7cc113b1c",
        "font-family": "Merriweather",
        "font-size": 8
       },
       "h2": {
        "color": "19cc588f-0593-49c9-9f4b-e4d7cc113b1c",
        "font-family": "Merriweather",
        "font-size": 6
       },
       "h3": {
        "color": "50f92c45-a630-455b-aec3-788680ec7410",
        "font-family": "Lato",
        "font-size": 5.5
       },
       "h4": {
        "color": "c5cc3653-2ee1-402a-aba2-7caae1da4f6c",
        "font-family": "Lato",
        "font-size": 5
       },
       "h5": {
        "font-family": "Lato"
       },
       "h6": {
        "font-family": "Lato"
       },
       "h7": {
        "font-family": "Lato"
       },
       "li": {
        "color": "50f92c45-a630-455b-aec3-788680ec7410",
        "font-size": 3.25
       },
       "pre": {
        "font-family": "Anonymous Pro",
        "font-size": 4
       }
      },
      "text-base": {
       "color": "19cc588f-0593-49c9-9f4b-e4d7cc113b1c",
       "font-family": "Lato",
       "font-size": 4
      }
     },
     "6c696d79-217f-4410-bbda-1edb143426e6": {
      "backgrounds": {
       "dc7afa04-bf90-40b1-82a5-726e3cff5267": {
        "background-color": "31af15d2-7e15-44c5-ab5e-e04b16a89eff",
        "id": "dc7afa04-bf90-40b1-82a5-726e3cff5267"
       }
      },
      "id": "6c696d79-217f-4410-bbda-1edb143426e6",
      "palette": {
       "19cc588f-0593-49c9-9f4b-e4d7cc113b1c": {
        "id": "19cc588f-0593-49c9-9f4b-e4d7cc113b1c",
        "rgb": [
         252,
         252,
         252
        ]
       },
       "31af15d2-7e15-44c5-ab5e-e04b16a89eff": {
        "id": "31af15d2-7e15-44c5-ab5e-e04b16a89eff",
        "rgb": [
         68,
         68,
         68
        ]
       },
       "50f92c45-a630-455b-aec3-788680ec7410": {
        "id": "50f92c45-a630-455b-aec3-788680ec7410",
        "rgb": [
         197,
         226,
         245
        ]
       },
       "c5cc3653-2ee1-402a-aba2-7caae1da4f6c": {
        "id": "c5cc3653-2ee1-402a-aba2-7caae1da4f6c",
        "rgb": [
         43,
         126,
         184
        ]
       },
       "efa7f048-9acb-414c-8b04-a26811511a21": {
        "id": "efa7f048-9acb-414c-8b04-a26811511a21",
        "rgb": [
         25.118061674008803,
         73.60176211453744,
         107.4819383259912
        ]
       }
      },
      "rules": {
       "a": {
        "color": "19cc588f-0593-49c9-9f4b-e4d7cc113b1c"
       },
       "blockquote": {
        "color": "50f92c45-a630-455b-aec3-788680ec7410",
        "font-size": 3
       },
       "code": {
        "font-family": "Anonymous Pro"
       },
       "h1": {
        "color": "19cc588f-0593-49c9-9f4b-e4d7cc113b1c",
        "font-family": "Merriweather",
        "font-size": 8
       },
       "h2": {
        "color": "19cc588f-0593-49c9-9f4b-e4d7cc113b1c",
        "font-family": "Merriweather",
        "font-size": 6
       },
       "h3": {
        "color": "50f92c45-a630-455b-aec3-788680ec7410",
        "font-family": "Lato",
        "font-size": 5.5
       },
       "h4": {
        "color": "c5cc3653-2ee1-402a-aba2-7caae1da4f6c",
        "font-family": "Lato",
        "font-size": 5
       },
       "h5": {
        "font-family": "Lato"
       },
       "h6": {
        "font-family": "Lato"
       },
       "h7": {
        "font-family": "Lato"
       },
       "li": {
        "color": "50f92c45-a630-455b-aec3-788680ec7410",
        "font-size": 3.25
       },
       "pre": {
        "font-family": "Anonymous Pro",
        "font-size": 4
       }
      },
      "text-base": {
       "color": "19cc588f-0593-49c9-9f4b-e4d7cc113b1c",
       "font-family": "Lato",
       "font-size": 4
      }
     },
     "833837a9-a03c-44c1-8162-48de6aa694fa": {
      "id": "833837a9-a03c-44c1-8162-48de6aa694fa",
      "palette": {
       "19cc588f-0593-49c9-9f4b-e4d7cc113b1c": {
        "id": "19cc588f-0593-49c9-9f4b-e4d7cc113b1c",
        "rgb": [
         252,
         252,
         252
        ]
       },
       "31af15d2-7e15-44c5-ab5e-e04b16a89eff": {
        "id": "31af15d2-7e15-44c5-ab5e-e04b16a89eff",
        "rgb": [
         68,
         68,
         68
        ]
       },
       "50f92c45-a630-455b-aec3-788680ec7410": {
        "id": "50f92c45-a630-455b-aec3-788680ec7410",
        "rgb": [
         155,
         177,
         192
        ]
       },
       "c5cc3653-2ee1-402a-aba2-7caae1da4f6c": {
        "id": "c5cc3653-2ee1-402a-aba2-7caae1da4f6c",
        "rgb": [
         43,
         126,
         184
        ]
       },
       "efa7f048-9acb-414c-8b04-a26811511a21": {
        "id": "efa7f048-9acb-414c-8b04-a26811511a21",
        "rgb": [
         25.118061674008803,
         73.60176211453744,
         107.4819383259912
        ]
       }
      },
      "rules": {
       "blockquote": {
        "color": "50f92c45-a630-455b-aec3-788680ec7410"
       },
       "code": {
        "font-family": "Anonymous Pro"
       },
       "h1": {
        "color": "c5cc3653-2ee1-402a-aba2-7caae1da4f6c",
        "font-family": "Lato",
        "font-size": 8
       },
       "h2": {
        "color": "c5cc3653-2ee1-402a-aba2-7caae1da4f6c",
        "font-family": "Lato",
        "font-size": 6
       },
       "h3": {
        "color": "50f92c45-a630-455b-aec3-788680ec7410",
        "font-family": "Lato",
        "font-size": 5.5
       },
       "h4": {
        "color": "c5cc3653-2ee1-402a-aba2-7caae1da4f6c",
        "font-family": "Lato",
        "font-size": 5
       },
       "h5": {
        "font-family": "Lato"
       },
       "h6": {
        "font-family": "Lato"
       },
       "h7": {
        "font-family": "Lato"
       },
       "pre": {
        "font-family": "Anonymous Pro",
        "font-size": 4
       }
      },
      "text-base": {
       "font-family": "Merriweather",
       "font-size": 4
      }
     },
     "87532adc-e246-49de-ab1a-be9d1bbed860": {
      "id": "87532adc-e246-49de-ab1a-be9d1bbed860",
      "palette": {
       "19cc588f-0593-49c9-9f4b-e4d7cc113b1c": {
        "id": "19cc588f-0593-49c9-9f4b-e4d7cc113b1c",
        "rgb": [
         252,
         252,
         252
        ]
       },
       "31af15d2-7e15-44c5-ab5e-e04b16a89eff": {
        "id": "31af15d2-7e15-44c5-ab5e-e04b16a89eff",
        "rgb": [
         68,
         68,
         68
        ]
       },
       "50f92c45-a630-455b-aec3-788680ec7410": {
        "id": "50f92c45-a630-455b-aec3-788680ec7410",
        "rgb": [
         155,
         177,
         192
        ]
       },
       "c5cc3653-2ee1-402a-aba2-7caae1da4f6c": {
        "id": "c5cc3653-2ee1-402a-aba2-7caae1da4f6c",
        "rgb": [
         43,
         126,
         184
        ]
       },
       "efa7f048-9acb-414c-8b04-a26811511a21": {
        "id": "efa7f048-9acb-414c-8b04-a26811511a21",
        "rgb": [
         25.118061674008803,
         73.60176211453744,
         107.4819383259912
        ]
       }
      },
      "rules": {
       "blockquote": {
        "color": "50f92c45-a630-455b-aec3-788680ec7410"
       },
       "code": {
        "font-family": "Anonymous Pro"
       },
       "h1": {
        "color": "c5cc3653-2ee1-402a-aba2-7caae1da4f6c",
        "font-family": "Lato",
        "font-size": 8
       },
       "h2": {
        "color": "c5cc3653-2ee1-402a-aba2-7caae1da4f6c",
        "font-family": "Lato",
        "font-size": 6
       },
       "h3": {
        "color": "50f92c45-a630-455b-aec3-788680ec7410",
        "font-family": "Lato",
        "font-size": 5.5
       },
       "h4": {
        "color": "c5cc3653-2ee1-402a-aba2-7caae1da4f6c",
        "font-family": "Lato",
        "font-size": 5
       },
       "h5": {
        "font-family": "Lato"
       },
       "h6": {
        "font-family": "Lato"
       },
       "h7": {
        "font-family": "Lato"
       },
       "pre": {
        "font-family": "Anonymous Pro",
        "font-size": 4
       }
      },
      "text-base": {
       "font-family": "Merriweather",
       "font-size": 4
      }
     },
     "87efe20e-acce-4fad-a602-2ea7cccbce8c": {
      "id": "87efe20e-acce-4fad-a602-2ea7cccbce8c",
      "palette": {
       "19cc588f-0593-49c9-9f4b-e4d7cc113b1c": {
        "id": "19cc588f-0593-49c9-9f4b-e4d7cc113b1c",
        "rgb": [
         252,
         252,
         252
        ]
       },
       "31af15d2-7e15-44c5-ab5e-e04b16a89eff": {
        "id": "31af15d2-7e15-44c5-ab5e-e04b16a89eff",
        "rgb": [
         68,
         68,
         68
        ]
       },
       "50f92c45-a630-455b-aec3-788680ec7410": {
        "id": "50f92c45-a630-455b-aec3-788680ec7410",
        "rgb": [
         155,
         177,
         192
        ]
       },
       "c5cc3653-2ee1-402a-aba2-7caae1da4f6c": {
        "id": "c5cc3653-2ee1-402a-aba2-7caae1da4f6c",
        "rgb": [
         43,
         126,
         184
        ]
       },
       "efa7f048-9acb-414c-8b04-a26811511a21": {
        "id": "efa7f048-9acb-414c-8b04-a26811511a21",
        "rgb": [
         25.118061674008803,
         73.60176211453744,
         107.4819383259912
        ]
       }
      },
      "rules": {
       "blockquote": {
        "color": "50f92c45-a630-455b-aec3-788680ec7410"
       },
       "code": {
        "font-family": "Anonymous Pro"
       },
       "h1": {
        "color": "c5cc3653-2ee1-402a-aba2-7caae1da4f6c",
        "font-family": "Lato",
        "font-size": 8
       },
       "h2": {
        "color": "c5cc3653-2ee1-402a-aba2-7caae1da4f6c",
        "font-family": "Lato",
        "font-size": 6
       },
       "h3": {
        "color": "50f92c45-a630-455b-aec3-788680ec7410",
        "font-family": "Lato",
        "font-size": 5.5
       },
       "h4": {
        "color": "c5cc3653-2ee1-402a-aba2-7caae1da4f6c",
        "font-family": "Lato",
        "font-size": 5
       },
       "h5": {
        "font-family": "Lato"
       },
       "h6": {
        "font-family": "Lato"
       },
       "h7": {
        "font-family": "Lato"
       },
       "pre": {
        "font-family": "Anonymous Pro",
        "font-size": 4
       }
      },
      "text-base": {
       "font-family": "Merriweather",
       "font-size": 4
      }
     },
     "8e16009d-d434-4637-ae93-7edd2823504d": {
      "backgrounds": {
       "dc7afa04-bf90-40b1-82a5-726e3cff5267": {
        "background-color": "31af15d2-7e15-44c5-ab5e-e04b16a89eff",
        "id": "dc7afa04-bf90-40b1-82a5-726e3cff5267"
       }
      },
      "id": "8e16009d-d434-4637-ae93-7edd2823504d",
      "palette": {
       "19cc588f-0593-49c9-9f4b-e4d7cc113b1c": {
        "id": "19cc588f-0593-49c9-9f4b-e4d7cc113b1c",
        "rgb": [
         252,
         252,
         252
        ]
       },
       "31af15d2-7e15-44c5-ab5e-e04b16a89eff": {
        "id": "31af15d2-7e15-44c5-ab5e-e04b16a89eff",
        "rgb": [
         68,
         68,
         68
        ]
       },
       "50f92c45-a630-455b-aec3-788680ec7410": {
        "id": "50f92c45-a630-455b-aec3-788680ec7410",
        "rgb": [
         197,
         226,
         245
        ]
       },
       "c5cc3653-2ee1-402a-aba2-7caae1da4f6c": {
        "id": "c5cc3653-2ee1-402a-aba2-7caae1da4f6c",
        "rgb": [
         43,
         126,
         184
        ]
       },
       "efa7f048-9acb-414c-8b04-a26811511a21": {
        "id": "efa7f048-9acb-414c-8b04-a26811511a21",
        "rgb": [
         25.118061674008803,
         73.60176211453744,
         107.4819383259912
        ]
       }
      },
      "rules": {
       "a": {
        "color": "19cc588f-0593-49c9-9f4b-e4d7cc113b1c"
       },
       "blockquote": {
        "color": "50f92c45-a630-455b-aec3-788680ec7410",
        "font-size": 3
       },
       "code": {
        "font-family": "Anonymous Pro"
       },
       "h1": {
        "color": "19cc588f-0593-49c9-9f4b-e4d7cc113b1c",
        "font-family": "Merriweather",
        "font-size": 8
       },
       "h2": {
        "color": "19cc588f-0593-49c9-9f4b-e4d7cc113b1c",
        "font-family": "Merriweather",
        "font-size": 6
       },
       "h3": {
        "color": "50f92c45-a630-455b-aec3-788680ec7410",
        "font-family": "Lato",
        "font-size": 5.5
       },
       "h4": {
        "color": "c5cc3653-2ee1-402a-aba2-7caae1da4f6c",
        "font-family": "Lato",
        "font-size": 5
       },
       "h5": {
        "font-family": "Lato"
       },
       "h6": {
        "font-family": "Lato"
       },
       "h7": {
        "font-family": "Lato"
       },
       "li": {
        "color": "50f92c45-a630-455b-aec3-788680ec7410",
        "font-size": 3.25
       },
       "pre": {
        "font-family": "Anonymous Pro",
        "font-size": 4
       }
      },
      "text-base": {
       "color": "19cc588f-0593-49c9-9f4b-e4d7cc113b1c",
       "font-family": "Lato",
       "font-size": 4
      }
     },
     "bbdade70-fe1c-47aa-9e2e-c31baa222b31": {
      "id": "bbdade70-fe1c-47aa-9e2e-c31baa222b31",
      "palette": {
       "19cc588f-0593-49c9-9f4b-e4d7cc113b1c": {
        "id": "19cc588f-0593-49c9-9f4b-e4d7cc113b1c",
        "rgb": [
         252,
         252,
         252
        ]
       },
       "31af15d2-7e15-44c5-ab5e-e04b16a89eff": {
        "id": "31af15d2-7e15-44c5-ab5e-e04b16a89eff",
        "rgb": [
         68,
         68,
         68
        ]
       },
       "50f92c45-a630-455b-aec3-788680ec7410": {
        "id": "50f92c45-a630-455b-aec3-788680ec7410",
        "rgb": [
         155,
         177,
         192
        ]
       },
       "c5cc3653-2ee1-402a-aba2-7caae1da4f6c": {
        "id": "c5cc3653-2ee1-402a-aba2-7caae1da4f6c",
        "rgb": [
         43,
         126,
         184
        ]
       },
       "efa7f048-9acb-414c-8b04-a26811511a21": {
        "id": "efa7f048-9acb-414c-8b04-a26811511a21",
        "rgb": [
         25.118061674008803,
         73.60176211453744,
         107.4819383259912
        ]
       }
      },
      "rules": {
       "blockquote": {
        "color": "50f92c45-a630-455b-aec3-788680ec7410"
       },
       "code": {
        "font-family": "Anonymous Pro"
       },
       "h1": {
        "color": "c5cc3653-2ee1-402a-aba2-7caae1da4f6c",
        "font-family": "Lato",
        "font-size": 8
       },
       "h2": {
        "color": "c5cc3653-2ee1-402a-aba2-7caae1da4f6c",
        "font-family": "Lato",
        "font-size": 6
       },
       "h3": {
        "color": "50f92c45-a630-455b-aec3-788680ec7410",
        "font-family": "Lato",
        "font-size": 5.5
       },
       "h4": {
        "color": "c5cc3653-2ee1-402a-aba2-7caae1da4f6c",
        "font-family": "Lato",
        "font-size": 5
       },
       "h5": {
        "font-family": "Lato"
       },
       "h6": {
        "font-family": "Lato"
       },
       "h7": {
        "font-family": "Lato"
       },
       "pre": {
        "font-family": "Anonymous Pro",
        "font-size": 4
       }
      },
      "text-base": {
       "font-family": "Merriweather",
       "font-size": 4
      }
     }
    }
   }
  }
 },
 "nbformat": 4,
 "nbformat_minor": 0
}
