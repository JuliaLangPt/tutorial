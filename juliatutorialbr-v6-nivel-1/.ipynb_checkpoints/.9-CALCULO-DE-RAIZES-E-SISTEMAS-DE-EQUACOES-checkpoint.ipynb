{
 "cells": [
  {
   "cell_type": "markdown",
   "metadata": {},
   "source": [
    "# CÁLCULO DE RAÍZES E SISTEMAS DE EQUAÇÕES\n",
    "\n",
    "julia também permite calcular raízes de equações lineares e não lineares através dos pacotes:\n",
    "\n",
    "* **SymPy**: O pacote `SymPy` é uma biblioteca `Python` para matemática simbólica acessada via pacote `PyCall` e permite resolver equações e sistemas lineares. O comando `solve` permite resolver equações e sistemas lineares e `nsolve` equações e sistemas não lineares. \n",
    "\n",
    " \n",
    "* **Roots**: Este pacote contém rotinas simples para encontrar raízes de equações lineares e não lineares. A interface básica é através do comando `fzero` que utiliza os algoritmos de Newton, Secante e Halley.\n",
    "\n",
    "\n",
    "* **SunDials**: É um pacote de `Julia` que faz a interface para a biblioteca Sundials da biblioteca escrita em `C`. Apresenta uma ótima velocidade de cálculo e permite resolver integrais de EDO, sistemas não lineares e outros.\n",
    "\n",
    "\n",
    "* **NLsolve**: O pacote `NLsolve` resolve sistemas de equações não-lineares utilizando diversos algoritmos e métodos numericos."
   ]
  },
  {
   "cell_type": "markdown",
   "metadata": {},
   "source": [
    "## RAIZ DE UMA EXPRESSÃO/FUNÇÃO \n",
    "\n",
    "Para calcular as raízes de uma expressão use a seguinte sintaxe:\n",
    "```julia\n",
    "solve(função/expressão, variável)\n",
    "```\n",
    "Sendo:\n",
    "- função/expressão: \n",
    "- variável : \n",
    "\n",
    "Se a expressão conter várias variáveis o resultado será simbólico. Ex: Dada a expressão $x^2 - 3x - 2$, encontrar as raízes. Se o comando `solve` retorna `[]` ou <span style=\"color:blue\">raises NotImplementedError</span>, isto significa que o método empregado pelo comando não conseguiu encontrar nenhuma solução, porém ela ainda pode existir."
   ]
  },
  {
   "cell_type": "code",
   "execution_count": 4,
   "metadata": {
    "collapsed": false,
    "scrolled": false
   },
   "outputs": [
    {
     "name": "stderr",
     "output_type": "stream",
     "text": [
      "\u001b[1m\u001b[36mINFO: \u001b[39m\u001b[22m\u001b[36mPrecompiling module SymPy.\n",
      "\u001b[39m"
     ]
    },
    {
     "data": {
      "text/plain": [
       "(x,)"
      ]
     },
     "execution_count": 4,
     "metadata": {},
     "output_type": "execute_result"
    }
   ],
   "source": [
    "using SymPy\n",
    "@syms x"
   ]
  },
  {
   "cell_type": "code",
   "execution_count": 21,
   "metadata": {
    "collapsed": false
   },
   "outputs": [
    {
     "data": {
      "text/html": [
       "<?xml version=\"1.0\" encoding=\"utf-8\"?>\n",
       "<svg xmlns=\"http://www.w3.org/2000/svg\" xmlns:xlink=\"http://www.w3.org/1999/xlink\" width=\"600\" height=\"400\" viewBox=\"0 0 600 400\">\n",
       "<defs>\n",
       "  <clipPath id=\"clip7600\">\n",
       "    <rect x=\"0\" y=\"0\" width=\"600\" height=\"400\"/>\n",
       "  </clipPath>\n",
       "</defs>\n",
       "<polygon clip-path=\"url(#clip7600)\" points=\"\n",
       "0,400 600,400 600,0 0,0 \n",
       "  \" fill=\"#ffffff\" fill-opacity=\"1\"/>\n",
       "<defs>\n",
       "  <clipPath id=\"clip7601\">\n",
       "    <rect x=\"120\" y=\"0\" width=\"421\" height=\"400\"/>\n",
       "  </clipPath>\n",
       "</defs>\n",
       "<polygon clip-path=\"url(#clip7600)\" points=\"\n",
       "28.9273,374.759 580.315,374.759 580.315,11.811 28.9273,11.811 \n",
       "  \" fill=\"#ffffff\" fill-opacity=\"1\"/>\n",
       "<defs>\n",
       "  <clipPath id=\"clip7602\">\n",
       "    <rect x=\"28\" y=\"11\" width=\"552\" height=\"364\"/>\n",
       "  </clipPath>\n",
       "</defs>\n",
       "<polyline clip-path=\"url(#clip7602)\" style=\"stroke:#000000; stroke-width:0.5; stroke-opacity:0.1; fill:none\" points=\"\n",
       "  28.9273,374.759 28.9273,11.811 \n",
       "  \"/>\n",
       "<polyline clip-path=\"url(#clip7602)\" style=\"stroke:#000000; stroke-width:0.5; stroke-opacity:0.1; fill:none\" points=\"\n",
       "  166.774,374.759 166.774,11.811 \n",
       "  \"/>\n",
       "<polyline clip-path=\"url(#clip7602)\" style=\"stroke:#000000; stroke-width:0.5; stroke-opacity:0.1; fill:none\" points=\"\n",
       "  304.621,374.759 304.621,11.811 \n",
       "  \"/>\n",
       "<polyline clip-path=\"url(#clip7602)\" style=\"stroke:#000000; stroke-width:0.5; stroke-opacity:0.1; fill:none\" points=\"\n",
       "  442.468,374.759 442.468,11.811 \n",
       "  \"/>\n",
       "<polyline clip-path=\"url(#clip7602)\" style=\"stroke:#000000; stroke-width:0.5; stroke-opacity:0.1; fill:none\" points=\"\n",
       "  580.315,374.759 580.315,11.811 \n",
       "  \"/>\n",
       "<polyline clip-path=\"url(#clip7602)\" style=\"stroke:#000000; stroke-width:0.5; stroke-opacity:0.1; fill:none\" points=\"\n",
       "  28.9273,338.249 580.315,338.249 \n",
       "  \"/>\n",
       "<polyline clip-path=\"url(#clip7602)\" style=\"stroke:#000000; stroke-width:0.5; stroke-opacity:0.1; fill:none\" points=\"\n",
       "  28.9273,252.344 580.315,252.344 \n",
       "  \"/>\n",
       "<polyline clip-path=\"url(#clip7602)\" style=\"stroke:#000000; stroke-width:0.5; stroke-opacity:0.1; fill:none\" points=\"\n",
       "  28.9273,166.44 580.315,166.44 \n",
       "  \"/>\n",
       "<polyline clip-path=\"url(#clip7602)\" style=\"stroke:#000000; stroke-width:0.5; stroke-opacity:0.1; fill:none\" points=\"\n",
       "  28.9273,80.5348 580.315,80.5348 \n",
       "  \"/>\n",
       "<polyline clip-path=\"url(#clip7600)\" style=\"stroke:#000000; stroke-width:1; stroke-opacity:1; fill:none\" points=\"\n",
       "  28.9273,374.759 580.315,374.759 \n",
       "  \"/>\n",
       "<polyline clip-path=\"url(#clip7600)\" style=\"stroke:#000000; stroke-width:1; stroke-opacity:1; fill:none\" points=\"\n",
       "  28.9273,374.759 28.9273,11.811 \n",
       "  \"/>\n",
       "<polyline clip-path=\"url(#clip7600)\" style=\"stroke:#000000; stroke-width:1; stroke-opacity:1; fill:none\" points=\"\n",
       "  28.9273,374.759 28.9273,369.314 \n",
       "  \"/>\n",
       "<polyline clip-path=\"url(#clip7600)\" style=\"stroke:#000000; stroke-width:1; stroke-opacity:1; fill:none\" points=\"\n",
       "  166.774,374.759 166.774,369.314 \n",
       "  \"/>\n",
       "<polyline clip-path=\"url(#clip7600)\" style=\"stroke:#000000; stroke-width:1; stroke-opacity:1; fill:none\" points=\"\n",
       "  304.621,374.759 304.621,369.314 \n",
       "  \"/>\n",
       "<polyline clip-path=\"url(#clip7600)\" style=\"stroke:#000000; stroke-width:1; stroke-opacity:1; fill:none\" points=\"\n",
       "  442.468,374.759 442.468,369.314 \n",
       "  \"/>\n",
       "<polyline clip-path=\"url(#clip7600)\" style=\"stroke:#000000; stroke-width:1; stroke-opacity:1; fill:none\" points=\"\n",
       "  580.315,374.759 580.315,369.314 \n",
       "  \"/>\n",
       "<polyline clip-path=\"url(#clip7600)\" style=\"stroke:#000000; stroke-width:1; stroke-opacity:1; fill:none\" points=\"\n",
       "  28.9273,338.249 37.1981,338.249 \n",
       "  \"/>\n",
       "<polyline clip-path=\"url(#clip7600)\" style=\"stroke:#000000; stroke-width:1; stroke-opacity:1; fill:none\" points=\"\n",
       "  28.9273,252.344 37.1981,252.344 \n",
       "  \"/>\n",
       "<polyline clip-path=\"url(#clip7600)\" style=\"stroke:#000000; stroke-width:1; stroke-opacity:1; fill:none\" points=\"\n",
       "  28.9273,166.44 37.1981,166.44 \n",
       "  \"/>\n",
       "<polyline clip-path=\"url(#clip7600)\" style=\"stroke:#000000; stroke-width:1; stroke-opacity:1; fill:none\" points=\"\n",
       "  28.9273,80.5348 37.1981,80.5348 \n",
       "  \"/>\n",
       "<g clip-path=\"url(#clip7600)\">\n",
       "<text style=\"fill:#000000; fill-opacity:1; font-family:Arial,Helvetica Neue,Helvetica,sans-serif; font-size:12; text-anchor:middle;\" transform=\"rotate(0, 28.9273, 388.559)\" x=\"28.9273\" y=\"388.559\">-5.0</text>\n",
       "</g>\n",
       "<g clip-path=\"url(#clip7600)\">\n",
       "<text style=\"fill:#000000; fill-opacity:1; font-family:Arial,Helvetica Neue,Helvetica,sans-serif; font-size:12; text-anchor:middle;\" transform=\"rotate(0, 166.774, 388.559)\" x=\"166.774\" y=\"388.559\">-2.5</text>\n",
       "</g>\n",
       "<g clip-path=\"url(#clip7600)\">\n",
       "<text style=\"fill:#000000; fill-opacity:1; font-family:Arial,Helvetica Neue,Helvetica,sans-serif; font-size:12; text-anchor:middle;\" transform=\"rotate(0, 304.621, 388.559)\" x=\"304.621\" y=\"388.559\">0.0</text>\n",
       "</g>\n",
       "<g clip-path=\"url(#clip7600)\">\n",
       "<text style=\"fill:#000000; fill-opacity:1; font-family:Arial,Helvetica Neue,Helvetica,sans-serif; font-size:12; text-anchor:middle;\" transform=\"rotate(0, 442.468, 388.559)\" x=\"442.468\" y=\"388.559\">2.5</text>\n",
       "</g>\n",
       "<g clip-path=\"url(#clip7600)\">\n",
       "<text style=\"fill:#000000; fill-opacity:1; font-family:Arial,Helvetica Neue,Helvetica,sans-serif; font-size:12; text-anchor:middle;\" transform=\"rotate(0, 580.315, 388.559)\" x=\"580.315\" y=\"388.559\">5.0</text>\n",
       "</g>\n",
       "<g clip-path=\"url(#clip7600)\">\n",
       "<text style=\"fill:#000000; fill-opacity:1; font-family:Arial,Helvetica Neue,Helvetica,sans-serif; font-size:12; text-anchor:end;\" transform=\"rotate(0, 22.9273, 342.749)\" x=\"22.9273\" y=\"342.749\">0</text>\n",
       "</g>\n",
       "<g clip-path=\"url(#clip7600)\">\n",
       "<text style=\"fill:#000000; fill-opacity:1; font-family:Arial,Helvetica Neue,Helvetica,sans-serif; font-size:12; text-anchor:end;\" transform=\"rotate(0, 22.9273, 256.844)\" x=\"22.9273\" y=\"256.844\">10</text>\n",
       "</g>\n",
       "<g clip-path=\"url(#clip7600)\">\n",
       "<text style=\"fill:#000000; fill-opacity:1; font-family:Arial,Helvetica Neue,Helvetica,sans-serif; font-size:12; text-anchor:end;\" transform=\"rotate(0, 22.9273, 170.94)\" x=\"22.9273\" y=\"170.94\">20</text>\n",
       "</g>\n",
       "<g clip-path=\"url(#clip7600)\">\n",
       "<text style=\"fill:#000000; fill-opacity:1; font-family:Arial,Helvetica Neue,Helvetica,sans-serif; font-size:12; text-anchor:end;\" transform=\"rotate(0, 22.9273, 85.0348)\" x=\"22.9273\" y=\"85.0348\">30</text>\n",
       "</g>\n",
       "<polyline clip-path=\"url(#clip7602)\" style=\"stroke:#009af9; stroke-width:1; stroke-opacity:1; fill:none\" points=\"\n",
       "  28.9273,11.811 34.4412,22.8927 39.955,33.8026 45.4689,44.5407 50.9828,55.107 56.4967,65.5015 62.0106,75.7242 67.5244,85.775 73.0383,95.6541 78.5522,105.361 \n",
       "  84.0661,114.897 89.5799,124.26 95.0938,133.452 100.608,142.472 106.122,151.32 111.635,159.997 117.149,168.501 122.663,176.834 128.177,184.995 133.691,192.984 \n",
       "  139.205,200.801 144.719,208.447 150.233,215.921 155.746,223.223 161.26,230.353 166.774,237.311 172.288,244.097 177.802,250.712 183.316,257.155 188.83,263.426 \n",
       "  194.344,269.525 199.857,275.453 205.371,281.208 210.885,286.792 216.399,292.204 221.913,297.444 227.427,302.513 232.941,307.409 238.455,312.134 243.968,316.687 \n",
       "  249.482,321.068 254.996,325.277 260.51,329.315 266.024,333.181 271.538,336.875 277.052,340.397 282.566,343.747 288.079,346.925 293.593,349.932 299.107,352.767 \n",
       "  304.621,355.43 310.135,357.921 315.649,360.241 321.163,362.388 326.677,364.364 332.191,366.168 337.704,367.8 343.218,369.261 348.732,370.549 354.246,371.666 \n",
       "  359.76,372.611 365.274,373.384 370.788,373.985 376.302,374.415 381.815,374.673 387.329,374.759 392.843,374.673 398.357,374.415 403.871,373.985 409.385,373.384 \n",
       "  414.899,372.611 420.413,371.666 425.926,370.549 431.44,369.261 436.954,367.8 442.468,366.168 447.982,364.364 453.496,362.388 459.01,360.241 464.524,357.921 \n",
       "  470.037,355.43 475.551,352.767 481.065,349.932 486.579,346.925 492.093,343.747 497.607,340.397 503.121,336.875 508.635,333.181 514.148,329.315 519.662,325.277 \n",
       "  525.176,321.068 530.69,316.687 536.204,312.134 541.718,307.409 547.232,302.513 552.746,297.444 558.259,292.204 563.773,286.792 569.287,281.208 574.801,275.453 \n",
       "  580.315,269.525 \n",
       "  \"/>\n",
       "<polyline clip-path=\"url(#clip7602)\" style=\"stroke:#e26f46; stroke-width:1; stroke-opacity:1; fill:none\" points=\"\n",
       "  28.9273,338.249 34.4412,338.249 39.955,338.249 45.4689,338.249 50.9828,338.249 56.4967,338.249 62.0106,338.249 67.5244,338.249 73.0383,338.249 78.5522,338.249 \n",
       "  84.0661,338.249 89.5799,338.249 95.0938,338.249 100.608,338.249 106.122,338.249 111.635,338.249 117.149,338.249 122.663,338.249 128.177,338.249 133.691,338.249 \n",
       "  139.205,338.249 144.719,338.249 150.233,338.249 155.746,338.249 161.26,338.249 166.774,338.249 172.288,338.249 177.802,338.249 183.316,338.249 188.83,338.249 \n",
       "  194.344,338.249 199.857,338.249 205.371,338.249 210.885,338.249 216.399,338.249 221.913,338.249 227.427,338.249 232.941,338.249 238.455,338.249 243.968,338.249 \n",
       "  249.482,338.249 254.996,338.249 260.51,338.249 266.024,338.249 271.538,338.249 277.052,338.249 282.566,338.249 288.079,338.249 293.593,338.249 299.107,338.249 \n",
       "  304.621,338.249 310.135,338.249 315.649,338.249 321.163,338.249 326.677,338.249 332.191,338.249 337.704,338.249 343.218,338.249 348.732,338.249 354.246,338.249 \n",
       "  359.76,338.249 365.274,338.249 370.788,338.249 376.302,338.249 381.815,338.249 387.329,338.249 392.843,338.249 398.357,338.249 403.871,338.249 409.385,338.249 \n",
       "  414.899,338.249 420.413,338.249 425.926,338.249 431.44,338.249 436.954,338.249 442.468,338.249 447.982,338.249 453.496,338.249 459.01,338.249 464.524,338.249 \n",
       "  470.037,338.249 475.551,338.249 481.065,338.249 486.579,338.249 492.093,338.249 497.607,338.249 503.121,338.249 508.635,338.249 514.148,338.249 519.662,338.249 \n",
       "  525.176,338.249 530.69,338.249 536.204,338.249 541.718,338.249 547.232,338.249 552.746,338.249 558.259,338.249 563.773,338.249 569.287,338.249 574.801,338.249 \n",
       "  580.315,338.249 \n",
       "  \"/>\n",
       "<polygon clip-path=\"url(#clip7600)\" points=\"\n",
       "455.548,78.051 562.315,78.051 562.315,32.691 455.548,32.691 \n",
       "  \" fill=\"#ffffff\" fill-opacity=\"1\"/>\n",
       "<polyline clip-path=\"url(#clip7600)\" style=\"stroke:#000000; stroke-width:1; stroke-opacity:1; fill:none\" points=\"\n",
       "  455.548,78.051 562.315,78.051 562.315,32.691 455.548,32.691 455.548,78.051 \n",
       "  \"/>\n",
       "<polyline clip-path=\"url(#clip7600)\" style=\"stroke:#009af9; stroke-width:1; stroke-opacity:1; fill:none\" points=\"\n",
       "  461.548,47.811 497.548,47.811 \n",
       "  \"/>\n",
       "<g clip-path=\"url(#clip7600)\">\n",
       "<text style=\"fill:#000000; fill-opacity:1; font-family:Arial,Helvetica Neue,Helvetica,sans-serif; font-size:12; text-anchor:start;\" transform=\"rotate(0, 503.548, 52.311)\" x=\"503.548\" y=\"52.311\">equação</text>\n",
       "</g>\n",
       "<polyline clip-path=\"url(#clip7600)\" style=\"stroke:#e26f46; stroke-width:1; stroke-opacity:1; fill:none\" points=\"\n",
       "  461.548,62.931 497.548,62.931 \n",
       "  \"/>\n",
       "<g clip-path=\"url(#clip7600)\">\n",
       "<text style=\"fill:#000000; fill-opacity:1; font-family:Arial,Helvetica Neue,Helvetica,sans-serif; font-size:12; text-anchor:start;\" transform=\"rotate(0, 503.548, 67.431)\" x=\"503.548\" y=\"67.431\">reta zero</text>\n",
       "</g>\n",
       "</svg>\n"
      ]
     },
     "execution_count": 21,
     "metadata": {},
     "output_type": "execute_result"
    }
   ],
   "source": [
    "using Plots\n",
    "gr()\n",
    "\n",
    "plot(-5:0.1:5, x^2 - 3*x - 2, label = \"equação\")\n",
    "plot!(-5:0.1:5, zero, label = \"reta zero\")"
   ]
  },
  {
   "cell_type": "markdown",
   "metadata": {},
   "source": [
    "De acordo com o gráfico, podemos observar que temos 2 raízes, uma próxima de 1 e outra próxima de 4. "
   ]
  },
  {
   "cell_type": "code",
   "execution_count": 6,
   "metadata": {
    "collapsed": false,
    "scrolled": false
   },
   "outputs": [
    {
     "data": {
      "text/latex": [
       "\\begin{bmatrix}\\frac{3}{2} + \\frac{\\sqrt{17}}{2}\\\\- \\frac{\\sqrt{17}}{2} + \\frac{3}{2}\\end{bmatrix}"
      ],
      "text/plain": [
       "2-element Array{SymPy.Sym,1}:\n",
       "  3/2 + sqrt(17)/2\n",
       " -sqrt(17)/2 + 3/2"
      ]
     },
     "execution_count": 6,
     "metadata": {},
     "output_type": "execute_result"
    }
   ],
   "source": [
    "solve(x^2 - 3*x - 2, x)"
   ]
  },
  {
   "cell_type": "markdown",
   "metadata": {},
   "source": [
    "O resultado é do tipo simbólico, logo é interessante vincular o resultado a duas raízes $x_1$ e $x_2$ do tipo float."
   ]
  },
  {
   "cell_type": "code",
   "execution_count": 7,
   "metadata": {
    "collapsed": false,
    "scrolled": true
   },
   "outputs": [
    {
     "data": {
      "text/plain": [
       "2-element Array{Float64,1}:\n",
       "  3.56155 \n",
       " -0.561553"
      ]
     },
     "execution_count": 7,
     "metadata": {},
     "output_type": "execute_result"
    }
   ],
   "source": [
    "x1, x2 = float(solve(x^2 - 3*x - 2, x))"
   ]
  },
  {
   "cell_type": "code",
   "execution_count": 18,
   "metadata": {
    "collapsed": false,
    "scrolled": true
   },
   "outputs": [
    {
     "data": {
      "text/html": [
       "<?xml version=\"1.0\" encoding=\"utf-8\"?>\n",
       "<svg xmlns=\"http://www.w3.org/2000/svg\" xmlns:xlink=\"http://www.w3.org/1999/xlink\" width=\"400\" height=\"300\" viewBox=\"0 0 400 300\">\n",
       "<defs>\n",
       "  <clipPath id=\"clip7000\">\n",
       "    <rect x=\"0\" y=\"0\" width=\"400\" height=\"300\"/>\n",
       "  </clipPath>\n",
       "</defs>\n",
       "<polygon clip-path=\"url(#clip7000)\" points=\"\n",
       "0,300 400,300 400,0 0,0 \n",
       "  \" fill=\"#ffffff\" fill-opacity=\"1\"/>\n",
       "<defs>\n",
       "  <clipPath id=\"clip7001\">\n",
       "    <rect x=\"80\" y=\"0\" width=\"281\" height=\"281\"/>\n",
       "  </clipPath>\n",
       "</defs>\n",
       "<polygon clip-path=\"url(#clip7000)\" points=\"\n",
       "28.9273,275.813 380.315,275.813 380.315,11.811 28.9273,11.811 \n",
       "  \" fill=\"#ffffff\" fill-opacity=\"1\"/>\n",
       "<defs>\n",
       "  <clipPath id=\"clip7002\">\n",
       "    <rect x=\"28\" y=\"11\" width=\"352\" height=\"265\"/>\n",
       "  </clipPath>\n",
       "</defs>\n",
       "<polyline clip-path=\"url(#clip7002)\" style=\"stroke:#000000; stroke-width:0.5; stroke-opacity:0.1; fill:none\" points=\"\n",
       "  72.022,275.813 72.022,11.811 \n",
       "  \"/>\n",
       "<polyline clip-path=\"url(#clip7002)\" style=\"stroke:#000000; stroke-width:0.5; stroke-opacity:0.1; fill:none\" points=\"\n",
       "  138.322,275.813 138.322,11.811 \n",
       "  \"/>\n",
       "<polyline clip-path=\"url(#clip7002)\" style=\"stroke:#000000; stroke-width:0.5; stroke-opacity:0.1; fill:none\" points=\"\n",
       "  204.621,275.813 204.621,11.811 \n",
       "  \"/>\n",
       "<polyline clip-path=\"url(#clip7002)\" style=\"stroke:#000000; stroke-width:0.5; stroke-opacity:0.1; fill:none\" points=\"\n",
       "  270.921,275.813 270.921,11.811 \n",
       "  \"/>\n",
       "<polyline clip-path=\"url(#clip7002)\" style=\"stroke:#000000; stroke-width:0.5; stroke-opacity:0.1; fill:none\" points=\"\n",
       "  337.22,275.813 337.22,11.811 \n",
       "  \"/>\n",
       "<polyline clip-path=\"url(#clip7002)\" style=\"stroke:#000000; stroke-width:0.5; stroke-opacity:0.1; fill:none\" points=\"\n",
       "  28.9273,243.288 380.315,243.288 \n",
       "  \"/>\n",
       "<polyline clip-path=\"url(#clip7002)\" style=\"stroke:#000000; stroke-width:0.5; stroke-opacity:0.1; fill:none\" points=\"\n",
       "  28.9273,184.34 380.315,184.34 \n",
       "  \"/>\n",
       "<polyline clip-path=\"url(#clip7002)\" style=\"stroke:#000000; stroke-width:0.5; stroke-opacity:0.1; fill:none\" points=\"\n",
       "  28.9273,125.391 380.315,125.391 \n",
       "  \"/>\n",
       "<polyline clip-path=\"url(#clip7002)\" style=\"stroke:#000000; stroke-width:0.5; stroke-opacity:0.1; fill:none\" points=\"\n",
       "  28.9273,66.4419 380.315,66.4419 \n",
       "  \"/>\n",
       "<polyline clip-path=\"url(#clip7000)\" style=\"stroke:#000000; stroke-width:1; stroke-opacity:1; fill:none\" points=\"\n",
       "  28.9273,275.813 380.315,275.813 \n",
       "  \"/>\n",
       "<polyline clip-path=\"url(#clip7000)\" style=\"stroke:#000000; stroke-width:1; stroke-opacity:1; fill:none\" points=\"\n",
       "  28.9273,275.813 28.9273,11.811 \n",
       "  \"/>\n",
       "<polyline clip-path=\"url(#clip7000)\" style=\"stroke:#000000; stroke-width:1; stroke-opacity:1; fill:none\" points=\"\n",
       "  72.022,275.813 72.022,271.853 \n",
       "  \"/>\n",
       "<polyline clip-path=\"url(#clip7000)\" style=\"stroke:#000000; stroke-width:1; stroke-opacity:1; fill:none\" points=\"\n",
       "  138.322,275.813 138.322,271.853 \n",
       "  \"/>\n",
       "<polyline clip-path=\"url(#clip7000)\" style=\"stroke:#000000; stroke-width:1; stroke-opacity:1; fill:none\" points=\"\n",
       "  204.621,275.813 204.621,271.853 \n",
       "  \"/>\n",
       "<polyline clip-path=\"url(#clip7000)\" style=\"stroke:#000000; stroke-width:1; stroke-opacity:1; fill:none\" points=\"\n",
       "  270.921,275.813 270.921,271.853 \n",
       "  \"/>\n",
       "<polyline clip-path=\"url(#clip7000)\" style=\"stroke:#000000; stroke-width:1; stroke-opacity:1; fill:none\" points=\"\n",
       "  337.22,275.813 337.22,271.853 \n",
       "  \"/>\n",
       "<polyline clip-path=\"url(#clip7000)\" style=\"stroke:#000000; stroke-width:1; stroke-opacity:1; fill:none\" points=\"\n",
       "  28.9273,243.288 34.1981,243.288 \n",
       "  \"/>\n",
       "<polyline clip-path=\"url(#clip7000)\" style=\"stroke:#000000; stroke-width:1; stroke-opacity:1; fill:none\" points=\"\n",
       "  28.9273,184.34 34.1981,184.34 \n",
       "  \"/>\n",
       "<polyline clip-path=\"url(#clip7000)\" style=\"stroke:#000000; stroke-width:1; stroke-opacity:1; fill:none\" points=\"\n",
       "  28.9273,125.391 34.1981,125.391 \n",
       "  \"/>\n",
       "<polyline clip-path=\"url(#clip7000)\" style=\"stroke:#000000; stroke-width:1; stroke-opacity:1; fill:none\" points=\"\n",
       "  28.9273,66.4419 34.1981,66.4419 \n",
       "  \"/>\n",
       "<g clip-path=\"url(#clip7000)\">\n",
       "<text style=\"fill:#000000; fill-opacity:1; font-family:Arial,Helvetica Neue,Helvetica,sans-serif; font-size:12; text-anchor:middle;\" transform=\"rotate(0, 72.022, 288.613)\" x=\"72.022\" y=\"288.613\">-4</text>\n",
       "</g>\n",
       "<g clip-path=\"url(#clip7000)\">\n",
       "<text style=\"fill:#000000; fill-opacity:1; font-family:Arial,Helvetica Neue,Helvetica,sans-serif; font-size:12; text-anchor:middle;\" transform=\"rotate(0, 138.322, 288.613)\" x=\"138.322\" y=\"288.613\">-2</text>\n",
       "</g>\n",
       "<g clip-path=\"url(#clip7000)\">\n",
       "<text style=\"fill:#000000; fill-opacity:1; font-family:Arial,Helvetica Neue,Helvetica,sans-serif; font-size:12; text-anchor:middle;\" transform=\"rotate(0, 204.621, 288.613)\" x=\"204.621\" y=\"288.613\">0</text>\n",
       "</g>\n",
       "<g clip-path=\"url(#clip7000)\">\n",
       "<text style=\"fill:#000000; fill-opacity:1; font-family:Arial,Helvetica Neue,Helvetica,sans-serif; font-size:12; text-anchor:middle;\" transform=\"rotate(0, 270.921, 288.613)\" x=\"270.921\" y=\"288.613\">2</text>\n",
       "</g>\n",
       "<g clip-path=\"url(#clip7000)\">\n",
       "<text style=\"fill:#000000; fill-opacity:1; font-family:Arial,Helvetica Neue,Helvetica,sans-serif; font-size:12; text-anchor:middle;\" transform=\"rotate(0, 337.22, 288.613)\" x=\"337.22\" y=\"288.613\">4</text>\n",
       "</g>\n",
       "<g clip-path=\"url(#clip7000)\">\n",
       "<text style=\"fill:#000000; fill-opacity:1; font-family:Arial,Helvetica Neue,Helvetica,sans-serif; font-size:12; text-anchor:end;\" transform=\"rotate(0, 24.9273, 247.788)\" x=\"24.9273\" y=\"247.788\">0</text>\n",
       "</g>\n",
       "<g clip-path=\"url(#clip7000)\">\n",
       "<text style=\"fill:#000000; fill-opacity:1; font-family:Arial,Helvetica Neue,Helvetica,sans-serif; font-size:12; text-anchor:end;\" transform=\"rotate(0, 24.9273, 188.84)\" x=\"24.9273\" y=\"188.84\">10</text>\n",
       "</g>\n",
       "<g clip-path=\"url(#clip7000)\">\n",
       "<text style=\"fill:#000000; fill-opacity:1; font-family:Arial,Helvetica Neue,Helvetica,sans-serif; font-size:12; text-anchor:end;\" transform=\"rotate(0, 24.9273, 129.891)\" x=\"24.9273\" y=\"129.891\">20</text>\n",
       "</g>\n",
       "<g clip-path=\"url(#clip7000)\">\n",
       "<text style=\"fill:#000000; fill-opacity:1; font-family:Arial,Helvetica Neue,Helvetica,sans-serif; font-size:12; text-anchor:end;\" transform=\"rotate(0, 24.9273, 70.9419)\" x=\"24.9273\" y=\"70.9419\">30</text>\n",
       "</g>\n",
       "<polyline clip-path=\"url(#clip7002)\" style=\"stroke:#009af9; stroke-width:1; stroke-opacity:1; fill:none\" points=\"\n",
       "  38.8722,19.2828 42.1872,26.8872 45.5022,34.3737 48.8172,41.7423 52.1321,48.993 55.4471,56.1258 58.7621,63.1407 62.0771,70.0378 65.392,76.8169 68.707,83.4781 \n",
       "  72.022,90.0214 75.337,96.4468 78.652,102.754 81.9669,108.944 85.2819,115.016 88.5969,120.97 91.9119,126.805 95.2269,132.524 98.5418,138.124 101.857,143.606 \n",
       "  105.172,148.97 108.487,154.217 111.802,159.345 115.117,164.356 118.432,169.249 121.747,174.024 125.062,178.68 128.377,183.22 131.692,187.641 135.007,191.944 \n",
       "  138.322,196.129 141.637,200.197 144.952,204.146 148.266,207.978 151.581,211.692 154.896,215.288 158.211,218.766 161.526,222.126 164.841,225.368 168.156,228.492 \n",
       "  171.471,231.499 174.786,234.387 178.101,237.158 181.416,239.81 184.731,242.345 188.046,244.762 191.361,247.061 194.676,249.242 197.991,251.305 201.306,253.251 \n",
       "  204.621,255.078 207.936,256.788 211.251,258.379 214.566,259.853 217.881,261.209 221.196,262.447 224.511,263.567 227.826,264.569 231.141,265.453 234.456,266.22 \n",
       "  237.771,266.868 241.086,267.399 244.401,267.811 247.716,268.106 251.031,268.283 254.346,268.342 257.661,268.283 260.976,268.106 264.291,267.811 267.606,267.399 \n",
       "  270.921,266.868 274.236,266.22 277.551,265.453 280.866,264.569 284.181,263.567 287.496,262.447 290.811,261.209 294.126,259.853 297.441,258.379 300.755,256.788 \n",
       "  304.07,255.078 307.385,253.251 310.7,251.305 314.015,249.242 317.33,247.061 320.645,244.762 323.96,242.345 327.275,239.81 330.59,237.158 333.905,234.387 \n",
       "  337.22,231.499 340.535,228.492 343.85,225.368 347.165,222.126 350.48,218.766 353.795,215.288 357.11,211.692 360.425,207.978 363.74,204.146 367.055,200.197 \n",
       "  370.37,196.129 \n",
       "  \"/>\n",
       "<polyline clip-path=\"url(#clip7002)\" style=\"stroke:#e26f46; stroke-width:1; stroke-opacity:1; fill:none\" points=\"\n",
       "  38.8722,243.288 42.1872,243.288 45.5022,243.288 48.8172,243.288 52.1321,243.288 55.4471,243.288 58.7621,243.288 62.0771,243.288 65.392,243.288 68.707,243.288 \n",
       "  72.022,243.288 75.337,243.288 78.652,243.288 81.9669,243.288 85.2819,243.288 88.5969,243.288 91.9119,243.288 95.2269,243.288 98.5418,243.288 101.857,243.288 \n",
       "  105.172,243.288 108.487,243.288 111.802,243.288 115.117,243.288 118.432,243.288 121.747,243.288 125.062,243.288 128.377,243.288 131.692,243.288 135.007,243.288 \n",
       "  138.322,243.288 141.637,243.288 144.952,243.288 148.266,243.288 151.581,243.288 154.896,243.288 158.211,243.288 161.526,243.288 164.841,243.288 168.156,243.288 \n",
       "  171.471,243.288 174.786,243.288 178.101,243.288 181.416,243.288 184.731,243.288 188.046,243.288 191.361,243.288 194.676,243.288 197.991,243.288 201.306,243.288 \n",
       "  204.621,243.288 207.936,243.288 211.251,243.288 214.566,243.288 217.881,243.288 221.196,243.288 224.511,243.288 227.826,243.288 231.141,243.288 234.456,243.288 \n",
       "  237.771,243.288 241.086,243.288 244.401,243.288 247.716,243.288 251.031,243.288 254.346,243.288 257.661,243.288 260.976,243.288 264.291,243.288 267.606,243.288 \n",
       "  270.921,243.288 274.236,243.288 277.551,243.288 280.866,243.288 284.181,243.288 287.496,243.288 290.811,243.288 294.126,243.288 297.441,243.288 300.755,243.288 \n",
       "  304.07,243.288 307.385,243.288 310.7,243.288 314.015,243.288 317.33,243.288 320.645,243.288 323.96,243.288 327.275,243.288 330.59,243.288 333.905,243.288 \n",
       "  337.22,243.288 340.535,243.288 343.85,243.288 347.165,243.288 350.48,243.288 353.795,243.288 357.11,243.288 360.425,243.288 363.74,243.288 367.055,243.288 \n",
       "  370.37,243.288 \n",
       "  \"/>\n",
       "<circle clip-path=\"url(#clip7002)\" style=\"fill:#000000; stroke:none; fill-opacity:1\" cx=\"322.686\" cy=\"243.288\" r=\"4\"/>\n",
       "<circle clip-path=\"url(#clip7002)\" style=\"fill:#3da44d; stroke:none; fill-opacity:1\" cx=\"322.686\" cy=\"243.288\" r=\"3\"/>\n",
       "<circle clip-path=\"url(#clip7002)\" style=\"fill:#000000; stroke:none; fill-opacity:1\" cx=\"186.006\" cy=\"243.288\" r=\"4\"/>\n",
       "<circle clip-path=\"url(#clip7002)\" style=\"fill:#3da44d; stroke:none; fill-opacity:1\" cx=\"186.006\" cy=\"243.288\" r=\"3\"/>\n",
       "<polygon clip-path=\"url(#clip7000)\" points=\"\n",
       "281.548,81.171 368.315,81.171 368.315,20.691 281.548,20.691 \n",
       "  \" fill=\"#ffffff\" fill-opacity=\"1\"/>\n",
       "<polyline clip-path=\"url(#clip7000)\" style=\"stroke:#000000; stroke-width:1; stroke-opacity:1; fill:none\" points=\"\n",
       "  281.548,81.171 368.315,81.171 368.315,20.691 281.548,20.691 281.548,81.171 \n",
       "  \"/>\n",
       "<polyline clip-path=\"url(#clip7000)\" style=\"stroke:#009af9; stroke-width:1; stroke-opacity:1; fill:none\" points=\"\n",
       "  285.548,35.811 309.548,35.811 \n",
       "  \"/>\n",
       "<g clip-path=\"url(#clip7000)\">\n",
       "<text style=\"fill:#000000; fill-opacity:1; font-family:Arial,Helvetica Neue,Helvetica,sans-serif; font-size:12; text-anchor:start;\" transform=\"rotate(0, 313.548, 40.311)\" x=\"313.548\" y=\"40.311\">equação</text>\n",
       "</g>\n",
       "<polyline clip-path=\"url(#clip7000)\" style=\"stroke:#e26f46; stroke-width:1; stroke-opacity:1; fill:none\" points=\"\n",
       "  285.548,50.931 309.548,50.931 \n",
       "  \"/>\n",
       "<g clip-path=\"url(#clip7000)\">\n",
       "<text style=\"fill:#000000; fill-opacity:1; font-family:Arial,Helvetica Neue,Helvetica,sans-serif; font-size:12; text-anchor:start;\" transform=\"rotate(0, 313.548, 55.431)\" x=\"313.548\" y=\"55.431\">reta zero</text>\n",
       "</g>\n",
       "<circle clip-path=\"url(#clip7000)\" style=\"fill:#000000; stroke:none; fill-opacity:1\" cx=\"299.548\" cy=\"66.051\" r=\"6\"/>\n",
       "<circle clip-path=\"url(#clip7000)\" style=\"fill:#3da44d; stroke:none; fill-opacity:1\" cx=\"299.548\" cy=\"66.051\" r=\"5\"/>\n",
       "<g clip-path=\"url(#clip7000)\">\n",
       "<text style=\"fill:#000000; fill-opacity:1; font-family:Arial,Helvetica Neue,Helvetica,sans-serif; font-size:12; text-anchor:start;\" transform=\"rotate(0, 313.548, 70.551)\" x=\"313.548\" y=\"70.551\">raízes</text>\n",
       "</g>\n",
       "</svg>\n"
      ]
     },
     "execution_count": 18,
     "metadata": {},
     "output_type": "execute_result"
    }
   ],
   "source": [
    "using Plots\n",
    "gr()\n",
    "\n",
    "plot(-5:0.1:5, x^2 - 3*x - 2, label = \"equação\")\n",
    "plot!(-5:0.1:5, zero, label = \"reta zero\")\n",
    "scatter!([x1, x2], [0, 0], label  = \"raízes\", size = (400, 300) )"
   ]
  },
  {
   "cell_type": "code",
   "execution_count": 11,
   "metadata": {
    "collapsed": false
   },
   "outputs": [
    {
     "data": {
      "text/latex": [
       "$$x^{2} - 3 x - 2$$"
      ],
      "text/plain": [
       " 2          \n",
       "x  - 3⋅x - 2"
      ]
     },
     "execution_count": 11,
     "metadata": {},
     "output_type": "execute_result"
    }
   ],
   "source": [
    "f = x^2 - 3*x - 2"
   ]
  },
  {
   "cell_type": "code",
   "execution_count": 12,
   "metadata": {
    "collapsed": false,
    "scrolled": true
   },
   "outputs": [],
   "source": [
    "using Roots"
   ]
  },
  {
   "cell_type": "code",
   "execution_count": 13,
   "metadata": {
    "collapsed": false
   },
   "outputs": [
    {
     "data": {
      "text/plain": [
       "-0.5615528128088303"
      ]
     },
     "execution_count": 13,
     "metadata": {},
     "output_type": "execute_result"
    }
   ],
   "source": [
    "fzero(convert(Function, f), -2)"
   ]
  },
  {
   "cell_type": "markdown",
   "metadata": {},
   "source": [
    "**Raiz de uma função**"
   ]
  },
  {
   "cell_type": "code",
   "execution_count": 22,
   "metadata": {
    "collapsed": false
   },
   "outputs": [
    {
     "data": {
      "text/plain": [
       "(x,)"
      ]
     },
     "execution_count": 22,
     "metadata": {},
     "output_type": "execute_result"
    }
   ],
   "source": [
    "using SymPy\n",
    "@syms x"
   ]
  },
  {
   "cell_type": "code",
   "execution_count": 23,
   "metadata": {
    "collapsed": false,
    "scrolled": true
   },
   "outputs": [
    {
     "ename": "LoadError",
     "evalue": "\u001b[91mcannot define function f; it already has a value\u001b[39m",
     "output_type": "error",
     "traceback": [
      "\u001b[91mcannot define function f; it already has a value\u001b[39m",
      "",
      "Stacktrace:",
      " [1] \u001b[1minclude_string\u001b[22m\u001b[22m\u001b[1m(\u001b[22m\u001b[22m::String, ::String\u001b[1m)\u001b[22m\u001b[22m at \u001b[1m./loading.jl:522\u001b[22m\u001b[22m"
     ]
    }
   ],
   "source": [
    "# Função genérica\n",
    "f(x) = x^2 - 3*x - 2"
   ]
  },
  {
   "cell_type": "code",
   "execution_count": 24,
   "metadata": {
    "collapsed": false
   },
   "outputs": [
    {
     "data": {
      "text/latex": [
       "\\begin{bmatrix}\\frac{3}{2} + \\frac{\\sqrt{17}}{2}\\\\- \\frac{\\sqrt{17}}{2} + \\frac{3}{2}\\end{bmatrix}"
      ],
      "text/plain": [
       "2-element Array{SymPy.Sym,1}:\n",
       "  3/2 + sqrt(17)/2\n",
       " -sqrt(17)/2 + 3/2"
      ]
     },
     "execution_count": 24,
     "metadata": {},
     "output_type": "execute_result"
    }
   ],
   "source": [
    "solve(f(x),x)"
   ]
  },
  {
   "cell_type": "markdown",
   "metadata": {},
   "source": [
    "Ou ainda"
   ]
  },
  {
   "cell_type": "code",
   "execution_count": 25,
   "metadata": {
    "collapsed": false,
    "scrolled": false
   },
   "outputs": [
    {
     "data": {
      "text/plain": [
       "2-element Array{Float64,1}:\n",
       "  3.56155 \n",
       " -0.561553"
      ]
     },
     "execution_count": 25,
     "metadata": {},
     "output_type": "execute_result"
    }
   ],
   "source": [
    "resultado = float(solve(f(x), x))"
   ]
  },
  {
   "cell_type": "markdown",
   "metadata": {},
   "source": [
    "O resultado de \"resultado\" é um vetor coluna que apresenta os valores de $X_1$ e $X_2$. Dessa forma, podemos acessar somente o valor de $X_1$ ou de $X_2$\n"
   ]
  },
  {
   "cell_type": "code",
   "execution_count": 26,
   "metadata": {
    "collapsed": false
   },
   "outputs": [
    {
     "name": "stdout",
     "output_type": "stream",
     "text": [
      "resultado[1] = 3.5615528128088303\n",
      "resultado[2] = -0.5615528128088303\n"
     ]
    }
   ],
   "source": [
    "@show (resultado[1])\n",
    "@show (resultado[2]);"
   ]
  },
  {
   "cell_type": "markdown",
   "metadata": {},
   "source": [
    "Ou com o comando print"
   ]
  },
  {
   "cell_type": "code",
   "execution_count": 27,
   "metadata": {
    "collapsed": false,
    "scrolled": false
   },
   "outputs": [
    {
     "name": "stdout",
     "output_type": "stream",
     "text": [
      "Resultado de X1: 3.5615528128088303. Resultado de X2: -0.5615528128088303"
     ]
    }
   ],
   "source": [
    "print(\"Resultado de X1: \",(resultado[1]),\". Resultado de X2: \",resultado[2])"
   ]
  },
  {
   "cell_type": "code",
   "execution_count": 28,
   "metadata": {
    "collapsed": false,
    "scrolled": false
   },
   "outputs": [
    {
     "data": {
      "text/latex": [
       "\\begin{bmatrix}-0.56155281280883\\\\3.56155281280883\\end{bmatrix}"
      ],
      "text/plain": [
       "2-element Array{SymPy.Sym,1}:\n",
       " -0.561552812808830\n",
       "   3.56155281280883"
      ]
     },
     "execution_count": 28,
     "metadata": {},
     "output_type": "execute_result"
    }
   ],
   "source": [
    "nroots(f(x))"
   ]
  },
  {
   "cell_type": "code",
   "execution_count": 30,
   "metadata": {
    "collapsed": false
   },
   "outputs": [
    {
     "data": {
      "text/plain": [
       "3.561552812808830274910704927987038512573599612686810217199316786547477173169005"
      ]
     },
     "execution_count": 30,
     "metadata": {},
     "output_type": "execute_result"
    }
   ],
   "source": [
    "nsolve(f(x), 3)"
   ]
  },
  {
   "cell_type": "code",
   "execution_count": 32,
   "metadata": {
    "collapsed": false,
    "scrolled": false
   },
   "outputs": [
    {
     "data": {
      "text/plain": [
       "fnl (generic function with 1 method)"
      ]
     },
     "execution_count": 32,
     "metadata": {},
     "output_type": "execute_result"
    }
   ],
   "source": [
    "# definindo a função genérica\n",
    "fnl(x) =  x*cos(x) + sin(x + 1) "
   ]
  },
  {
   "cell_type": "code",
   "execution_count": 33,
   "metadata": {
    "collapsed": false,
    "scrolled": false
   },
   "outputs": [
    {
     "data": {
      "text/html": [
       "<?xml version=\"1.0\" encoding=\"utf-8\"?>\n",
       "<svg xmlns=\"http://www.w3.org/2000/svg\" xmlns:xlink=\"http://www.w3.org/1999/xlink\" width=\"600\" height=\"400\" viewBox=\"0 0 600 400\">\n",
       "<defs>\n",
       "  <clipPath id=\"clip7800\">\n",
       "    <rect x=\"0\" y=\"0\" width=\"600\" height=\"400\"/>\n",
       "  </clipPath>\n",
       "</defs>\n",
       "<polygon clip-path=\"url(#clip7800)\" points=\"\n",
       "0,400 600,400 600,0 0,0 \n",
       "  \" fill=\"#ffffff\" fill-opacity=\"1\"/>\n",
       "<defs>\n",
       "  <clipPath id=\"clip7801\">\n",
       "    <rect x=\"120\" y=\"0\" width=\"421\" height=\"400\"/>\n",
       "  </clipPath>\n",
       "</defs>\n",
       "<polygon clip-path=\"url(#clip7800)\" points=\"\n",
       "35.8488,375.813 580.315,375.813 580.315,11.811 35.8488,11.811 \n",
       "  \" fill=\"#ffffff\" fill-opacity=\"1\"/>\n",
       "<defs>\n",
       "  <clipPath id=\"clip7802\">\n",
       "    <rect x=\"35\" y=\"11\" width=\"545\" height=\"365\"/>\n",
       "  </clipPath>\n",
       "</defs>\n",
       "<polyline clip-path=\"url(#clip7802)\" style=\"stroke:#000000; stroke-width:0.5; stroke-opacity:0.1; fill:none\" points=\"\n",
       "  35.8488,375.813 35.8488,11.811 \n",
       "  \"/>\n",
       "<polyline clip-path=\"url(#clip7802)\" style=\"stroke:#000000; stroke-width:0.5; stroke-opacity:0.1; fill:none\" points=\"\n",
       "  171.965,375.813 171.965,11.811 \n",
       "  \"/>\n",
       "<polyline clip-path=\"url(#clip7802)\" style=\"stroke:#000000; stroke-width:0.5; stroke-opacity:0.1; fill:none\" points=\"\n",
       "  308.082,375.813 308.082,11.811 \n",
       "  \"/>\n",
       "<polyline clip-path=\"url(#clip7802)\" style=\"stroke:#000000; stroke-width:0.5; stroke-opacity:0.1; fill:none\" points=\"\n",
       "  444.198,375.813 444.198,11.811 \n",
       "  \"/>\n",
       "<polyline clip-path=\"url(#clip7802)\" style=\"stroke:#000000; stroke-width:0.5; stroke-opacity:0.1; fill:none\" points=\"\n",
       "  580.315,375.813 580.315,11.811 \n",
       "  \"/>\n",
       "<polyline clip-path=\"url(#clip7802)\" style=\"stroke:#000000; stroke-width:0.5; stroke-opacity:0.1; fill:none\" points=\"\n",
       "  35.8488,359.59 580.315,359.59 \n",
       "  \"/>\n",
       "<polyline clip-path=\"url(#clip7802)\" style=\"stroke:#000000; stroke-width:0.5; stroke-opacity:0.1; fill:none\" points=\"\n",
       "  35.8488,309.541 580.315,309.541 \n",
       "  \"/>\n",
       "<polyline clip-path=\"url(#clip7802)\" style=\"stroke:#000000; stroke-width:0.5; stroke-opacity:0.1; fill:none\" points=\"\n",
       "  35.8488,259.492 580.315,259.492 \n",
       "  \"/>\n",
       "<polyline clip-path=\"url(#clip7802)\" style=\"stroke:#000000; stroke-width:0.5; stroke-opacity:0.1; fill:none\" points=\"\n",
       "  35.8488,209.442 580.315,209.442 \n",
       "  \"/>\n",
       "<polyline clip-path=\"url(#clip7802)\" style=\"stroke:#000000; stroke-width:0.5; stroke-opacity:0.1; fill:none\" points=\"\n",
       "  35.8488,159.393 580.315,159.393 \n",
       "  \"/>\n",
       "<polyline clip-path=\"url(#clip7802)\" style=\"stroke:#000000; stroke-width:0.5; stroke-opacity:0.1; fill:none\" points=\"\n",
       "  35.8488,109.343 580.315,109.343 \n",
       "  \"/>\n",
       "<polyline clip-path=\"url(#clip7802)\" style=\"stroke:#000000; stroke-width:0.5; stroke-opacity:0.1; fill:none\" points=\"\n",
       "  35.8488,59.2939 580.315,59.2939 \n",
       "  \"/>\n",
       "<polyline clip-path=\"url(#clip7800)\" style=\"stroke:#000000; stroke-width:1; stroke-opacity:1; fill:none\" points=\"\n",
       "  35.8488,375.813 580.315,375.813 \n",
       "  \"/>\n",
       "<polyline clip-path=\"url(#clip7800)\" style=\"stroke:#000000; stroke-width:1; stroke-opacity:1; fill:none\" points=\"\n",
       "  35.8488,375.813 35.8488,11.811 \n",
       "  \"/>\n",
       "<polyline clip-path=\"url(#clip7800)\" style=\"stroke:#000000; stroke-width:1; stroke-opacity:1; fill:none\" points=\"\n",
       "  35.8488,375.813 35.8488,370.353 \n",
       "  \"/>\n",
       "<polyline clip-path=\"url(#clip7800)\" style=\"stroke:#000000; stroke-width:1; stroke-opacity:1; fill:none\" points=\"\n",
       "  171.965,375.813 171.965,370.353 \n",
       "  \"/>\n",
       "<polyline clip-path=\"url(#clip7800)\" style=\"stroke:#000000; stroke-width:1; stroke-opacity:1; fill:none\" points=\"\n",
       "  308.082,375.813 308.082,370.353 \n",
       "  \"/>\n",
       "<polyline clip-path=\"url(#clip7800)\" style=\"stroke:#000000; stroke-width:1; stroke-opacity:1; fill:none\" points=\"\n",
       "  444.198,375.813 444.198,370.353 \n",
       "  \"/>\n",
       "<polyline clip-path=\"url(#clip7800)\" style=\"stroke:#000000; stroke-width:1; stroke-opacity:1; fill:none\" points=\"\n",
       "  580.315,375.813 580.315,370.353 \n",
       "  \"/>\n",
       "<polyline clip-path=\"url(#clip7800)\" style=\"stroke:#000000; stroke-width:1; stroke-opacity:1; fill:none\" points=\"\n",
       "  35.8488,359.59 44.0158,359.59 \n",
       "  \"/>\n",
       "<polyline clip-path=\"url(#clip7800)\" style=\"stroke:#000000; stroke-width:1; stroke-opacity:1; fill:none\" points=\"\n",
       "  35.8488,309.541 44.0158,309.541 \n",
       "  \"/>\n",
       "<polyline clip-path=\"url(#clip7800)\" style=\"stroke:#000000; stroke-width:1; stroke-opacity:1; fill:none\" points=\"\n",
       "  35.8488,259.492 44.0158,259.492 \n",
       "  \"/>\n",
       "<polyline clip-path=\"url(#clip7800)\" style=\"stroke:#000000; stroke-width:1; stroke-opacity:1; fill:none\" points=\"\n",
       "  35.8488,209.442 44.0158,209.442 \n",
       "  \"/>\n",
       "<polyline clip-path=\"url(#clip7800)\" style=\"stroke:#000000; stroke-width:1; stroke-opacity:1; fill:none\" points=\"\n",
       "  35.8488,159.393 44.0158,159.393 \n",
       "  \"/>\n",
       "<polyline clip-path=\"url(#clip7800)\" style=\"stroke:#000000; stroke-width:1; stroke-opacity:1; fill:none\" points=\"\n",
       "  35.8488,109.343 44.0158,109.343 \n",
       "  \"/>\n",
       "<polyline clip-path=\"url(#clip7800)\" style=\"stroke:#000000; stroke-width:1; stroke-opacity:1; fill:none\" points=\"\n",
       "  35.8488,59.2939 44.0158,59.2939 \n",
       "  \"/>\n",
       "<g clip-path=\"url(#clip7800)\">\n",
       "<text style=\"fill:#000000; fill-opacity:1; font-family:Arial,Helvetica Neue,Helvetica,sans-serif; font-size:12; text-anchor:middle;\" transform=\"rotate(0, 35.8488, 389.613)\" x=\"35.8488\" y=\"389.613\">0</text>\n",
       "</g>\n",
       "<g clip-path=\"url(#clip7800)\">\n",
       "<text style=\"fill:#000000; fill-opacity:1; font-family:Arial,Helvetica Neue,Helvetica,sans-serif; font-size:12; text-anchor:middle;\" transform=\"rotate(0, 171.965, 389.613)\" x=\"171.965\" y=\"389.613\">5</text>\n",
       "</g>\n",
       "<g clip-path=\"url(#clip7800)\">\n",
       "<text style=\"fill:#000000; fill-opacity:1; font-family:Arial,Helvetica Neue,Helvetica,sans-serif; font-size:12; text-anchor:middle;\" transform=\"rotate(0, 308.082, 389.613)\" x=\"308.082\" y=\"389.613\">10</text>\n",
       "</g>\n",
       "<g clip-path=\"url(#clip7800)\">\n",
       "<text style=\"fill:#000000; fill-opacity:1; font-family:Arial,Helvetica Neue,Helvetica,sans-serif; font-size:12; text-anchor:middle;\" transform=\"rotate(0, 444.198, 389.613)\" x=\"444.198\" y=\"389.613\">15</text>\n",
       "</g>\n",
       "<g clip-path=\"url(#clip7800)\">\n",
       "<text style=\"fill:#000000; fill-opacity:1; font-family:Arial,Helvetica Neue,Helvetica,sans-serif; font-size:12; text-anchor:middle;\" transform=\"rotate(0, 580.315, 389.613)\" x=\"580.315\" y=\"389.613\">20</text>\n",
       "</g>\n",
       "<g clip-path=\"url(#clip7800)\">\n",
       "<text style=\"fill:#000000; fill-opacity:1; font-family:Arial,Helvetica Neue,Helvetica,sans-serif; font-size:12; text-anchor:end;\" transform=\"rotate(0, 29.8488, 364.09)\" x=\"29.8488\" y=\"364.09\">-15</text>\n",
       "</g>\n",
       "<g clip-path=\"url(#clip7800)\">\n",
       "<text style=\"fill:#000000; fill-opacity:1; font-family:Arial,Helvetica Neue,Helvetica,sans-serif; font-size:12; text-anchor:end;\" transform=\"rotate(0, 29.8488, 314.041)\" x=\"29.8488\" y=\"314.041\">-10</text>\n",
       "</g>\n",
       "<g clip-path=\"url(#clip7800)\">\n",
       "<text style=\"fill:#000000; fill-opacity:1; font-family:Arial,Helvetica Neue,Helvetica,sans-serif; font-size:12; text-anchor:end;\" transform=\"rotate(0, 29.8488, 263.992)\" x=\"29.8488\" y=\"263.992\">-5</text>\n",
       "</g>\n",
       "<g clip-path=\"url(#clip7800)\">\n",
       "<text style=\"fill:#000000; fill-opacity:1; font-family:Arial,Helvetica Neue,Helvetica,sans-serif; font-size:12; text-anchor:end;\" transform=\"rotate(0, 29.8488, 213.942)\" x=\"29.8488\" y=\"213.942\">0</text>\n",
       "</g>\n",
       "<g clip-path=\"url(#clip7800)\">\n",
       "<text style=\"fill:#000000; fill-opacity:1; font-family:Arial,Helvetica Neue,Helvetica,sans-serif; font-size:12; text-anchor:end;\" transform=\"rotate(0, 29.8488, 163.893)\" x=\"29.8488\" y=\"163.893\">5</text>\n",
       "</g>\n",
       "<g clip-path=\"url(#clip7800)\">\n",
       "<text style=\"fill:#000000; fill-opacity:1; font-family:Arial,Helvetica Neue,Helvetica,sans-serif; font-size:12; text-anchor:end;\" transform=\"rotate(0, 29.8488, 113.843)\" x=\"29.8488\" y=\"113.843\">10</text>\n",
       "</g>\n",
       "<g clip-path=\"url(#clip7800)\">\n",
       "<text style=\"fill:#000000; fill-opacity:1; font-family:Arial,Helvetica Neue,Helvetica,sans-serif; font-size:12; text-anchor:end;\" transform=\"rotate(0, 29.8488, 63.7939)\" x=\"29.8488\" y=\"63.7939\">15</text>\n",
       "</g>\n",
       "<polyline clip-path=\"url(#clip7802)\" style=\"stroke:#009af9; stroke-width:1; stroke-opacity:1; fill:none\" points=\"\n",
       "  35.8488,201.019 38.5711,199.525 41.2934,198.151 44.0158,196.928 46.7381,195.89 49.4604,195.065 52.1828,194.48 54.9051,194.157 57.6274,194.115 60.3498,194.37 \n",
       "  63.0721,194.932 65.7944,195.807 68.5167,196.997 71.2391,198.497 73.9614,200.299 76.6837,202.389 79.4061,204.75 82.1284,207.357 84.8507,210.183 87.5731,213.196 \n",
       "  90.2954,216.361 93.0177,219.638 95.7401,222.986 98.4624,226.361 101.185,229.715 103.907,233.002 106.629,236.173 109.352,239.18 112.074,241.975 114.796,244.512 \n",
       "  117.519,246.747 120.241,248.637 122.963,250.144 125.686,251.232 128.408,251.871 131.13,252.036 133.853,251.704 136.575,250.862 139.297,249.5 142.02,247.616 \n",
       "  144.742,245.213 147.464,242.301 150.187,238.897 152.909,235.025 155.631,230.714 158.354,226 161.076,220.925 163.798,215.537 166.521,209.889 169.243,204.037 \n",
       "  171.965,198.042 174.688,191.97 177.41,185.887 180.132,179.863 182.855,173.968 185.577,168.274 188.299,162.849 191.022,157.764 193.744,153.085 196.466,148.877 \n",
       "  199.189,145.199 201.911,142.107 204.633,139.651 207.356,137.876 210.078,136.82 212.8,136.512 215.523,136.976 218.245,138.227 220.967,140.269 223.69,143.102 \n",
       "  226.412,146.714 229.134,151.083 231.857,156.181 234.579,161.97 237.301,168.403 240.024,175.426 242.746,182.976 245.468,190.985 248.191,199.375 250.913,208.065 \n",
       "  253.635,216.968 256.358,225.995 259.08,235.049 261.802,244.036 264.525,252.858 267.247,261.416 269.969,269.615 272.692,277.359 275.414,284.557 278.136,291.122 \n",
       "  280.859,296.971 283.581,302.027 286.303,306.222 289.026,309.495 291.748,311.793 294.47,313.073 297.193,313.303 299.915,312.46 302.637,310.533 305.36,307.523 \n",
       "  308.082,303.442 310.804,298.313 313.527,292.171 316.249,285.062 318.971,277.045 321.694,268.186 324.416,258.565 327.138,248.268 329.861,237.393 332.583,226.042 \n",
       "  335.305,214.326 338.028,202.361 340.75,190.269 343.472,178.172 346.194,166.198 348.917,154.471 351.639,143.119 354.361,132.265 357.084,122.03 359.806,112.529 \n",
       "  362.528,103.874 365.251,96.1658 367.973,89.4997 370.695,83.9605 373.418,79.6224 376.14,76.5483 378.862,74.7889 381.585,74.3815 384.307,75.3503 387.029,77.7051 \n",
       "  389.752,81.4417 392.474,86.5411 395.196,92.9702 397.919,100.681 400.641,109.613 403.363,119.69 406.086,130.825 408.808,142.917 411.53,155.854 414.253,169.516 \n",
       "  416.975,183.771 419.697,198.48 422.42,213.499 425.142,228.676 427.864,243.859 430.587,258.89 433.309,273.615 436.031,287.877 438.754,301.524 441.476,314.409 \n",
       "  444.198,326.39 446.921,337.332 449.643,347.11 452.365,355.61 455.088,362.729 457.81,368.377 460.532,372.478 463.255,374.972 465.977,375.813 468.699,374.974 \n",
       "  471.422,372.443 474.144,368.225 476.866,362.345 479.589,354.842 482.311,345.775 485.033,335.218 487.756,323.263 490.478,310.014 493.2,295.593 495.923,280.134 \n",
       "  498.645,263.784 501.367,246.697 504.09,229.043 506.812,210.993 509.534,192.727 512.257,174.43 514.979,156.289 517.701,138.488 520.424,121.214 523.146,104.649 \n",
       "  525.868,88.9675 528.591,74.34 531.313,60.9263 534.035,48.8755 536.758,38.3248 539.48,29.3969 542.202,22.1995 544.925,16.8237 547.647,13.3426 550.369,11.811 \n",
       "  553.092,12.2642 555.814,14.7174 558.536,19.1658 561.259,25.584 563.981,33.9262 566.703,44.1267 569.426,56.1 572.148,69.7418 574.87,84.9296 577.593,101.524 \n",
       "  580.315,119.37 \n",
       "  \"/>\n",
       "<polyline clip-path=\"url(#clip7802)\" style=\"stroke:#e26f46; stroke-width:1; stroke-opacity:1; fill:none\" points=\"\n",
       "  35.8488,209.442 38.5711,209.442 41.2934,209.442 44.0158,209.442 46.7381,209.442 49.4604,209.442 52.1828,209.442 54.9051,209.442 57.6274,209.442 60.3498,209.442 \n",
       "  63.0721,209.442 65.7944,209.442 68.5167,209.442 71.2391,209.442 73.9614,209.442 76.6837,209.442 79.4061,209.442 82.1284,209.442 84.8507,209.442 87.5731,209.442 \n",
       "  90.2954,209.442 93.0177,209.442 95.7401,209.442 98.4624,209.442 101.185,209.442 103.907,209.442 106.629,209.442 109.352,209.442 112.074,209.442 114.796,209.442 \n",
       "  117.519,209.442 120.241,209.442 122.963,209.442 125.686,209.442 128.408,209.442 131.13,209.442 133.853,209.442 136.575,209.442 139.297,209.442 142.02,209.442 \n",
       "  144.742,209.442 147.464,209.442 150.187,209.442 152.909,209.442 155.631,209.442 158.354,209.442 161.076,209.442 163.798,209.442 166.521,209.442 169.243,209.442 \n",
       "  171.965,209.442 174.688,209.442 177.41,209.442 180.132,209.442 182.855,209.442 185.577,209.442 188.299,209.442 191.022,209.442 193.744,209.442 196.466,209.442 \n",
       "  199.189,209.442 201.911,209.442 204.633,209.442 207.356,209.442 210.078,209.442 212.8,209.442 215.523,209.442 218.245,209.442 220.967,209.442 223.69,209.442 \n",
       "  226.412,209.442 229.134,209.442 231.857,209.442 234.579,209.442 237.301,209.442 240.024,209.442 242.746,209.442 245.468,209.442 248.191,209.442 250.913,209.442 \n",
       "  253.635,209.442 256.358,209.442 259.08,209.442 261.802,209.442 264.525,209.442 267.247,209.442 269.969,209.442 272.692,209.442 275.414,209.442 278.136,209.442 \n",
       "  280.859,209.442 283.581,209.442 286.303,209.442 289.026,209.442 291.748,209.442 294.47,209.442 297.193,209.442 299.915,209.442 302.637,209.442 305.36,209.442 \n",
       "  308.082,209.442 310.804,209.442 313.527,209.442 316.249,209.442 318.971,209.442 321.694,209.442 324.416,209.442 327.138,209.442 329.861,209.442 332.583,209.442 \n",
       "  335.305,209.442 338.028,209.442 340.75,209.442 343.472,209.442 346.194,209.442 348.917,209.442 351.639,209.442 354.361,209.442 357.084,209.442 359.806,209.442 \n",
       "  362.528,209.442 365.251,209.442 367.973,209.442 370.695,209.442 373.418,209.442 376.14,209.442 378.862,209.442 381.585,209.442 384.307,209.442 387.029,209.442 \n",
       "  389.752,209.442 392.474,209.442 395.196,209.442 397.919,209.442 400.641,209.442 403.363,209.442 406.086,209.442 408.808,209.442 411.53,209.442 414.253,209.442 \n",
       "  416.975,209.442 419.697,209.442 422.42,209.442 425.142,209.442 427.864,209.442 430.587,209.442 433.309,209.442 436.031,209.442 438.754,209.442 441.476,209.442 \n",
       "  444.198,209.442 446.921,209.442 449.643,209.442 452.365,209.442 455.088,209.442 457.81,209.442 460.532,209.442 463.255,209.442 465.977,209.442 468.699,209.442 \n",
       "  471.422,209.442 474.144,209.442 476.866,209.442 479.589,209.442 482.311,209.442 485.033,209.442 487.756,209.442 490.478,209.442 493.2,209.442 495.923,209.442 \n",
       "  498.645,209.442 501.367,209.442 504.09,209.442 506.812,209.442 509.534,209.442 512.257,209.442 514.979,209.442 517.701,209.442 520.424,209.442 523.146,209.442 \n",
       "  525.868,209.442 528.591,209.442 531.313,209.442 534.035,209.442 536.758,209.442 539.48,209.442 542.202,209.442 544.925,209.442 547.647,209.442 550.369,209.442 \n",
       "  553.092,209.442 555.814,209.442 558.536,209.442 561.259,209.442 563.981,209.442 566.703,209.442 569.426,209.442 572.148,209.442 574.87,209.442 577.593,209.442 \n",
       "  580.315,209.442 \n",
       "  \"/>\n",
       "<polygon clip-path=\"url(#clip7800)\" points=\"\n",
       "462.789,78.051 562.315,78.051 562.315,32.691 462.789,32.691 \n",
       "  \" fill=\"#ffffff\" fill-opacity=\"1\"/>\n",
       "<polyline clip-path=\"url(#clip7800)\" style=\"stroke:#000000; stroke-width:1; stroke-opacity:1; fill:none\" points=\"\n",
       "  462.789,78.051 562.315,78.051 562.315,32.691 462.789,32.691 462.789,78.051 \n",
       "  \"/>\n",
       "<polyline clip-path=\"url(#clip7800)\" style=\"stroke:#009af9; stroke-width:1; stroke-opacity:1; fill:none\" points=\"\n",
       "  468.789,47.811 504.789,47.811 \n",
       "  \"/>\n",
       "<g clip-path=\"url(#clip7800)\">\n",
       "<text style=\"fill:#000000; fill-opacity:1; font-family:Arial,Helvetica Neue,Helvetica,sans-serif; font-size:12; text-anchor:start;\" transform=\"rotate(0, 510.789, 52.311)\" x=\"510.789\" y=\"52.311\">Função</text>\n",
       "</g>\n",
       "<polyline clip-path=\"url(#clip7800)\" style=\"stroke:#e26f46; stroke-width:1; stroke-opacity:1; fill:none\" points=\"\n",
       "  468.789,62.931 504.789,62.931 \n",
       "  \"/>\n",
       "<g clip-path=\"url(#clip7800)\">\n",
       "<text style=\"fill:#000000; fill-opacity:1; font-family:Arial,Helvetica Neue,Helvetica,sans-serif; font-size:12; text-anchor:start;\" transform=\"rotate(0, 510.789, 67.431)\" x=\"510.789\" y=\"67.431\">Zero</text>\n",
       "</g>\n",
       "</svg>\n"
      ]
     },
     "execution_count": 33,
     "metadata": {},
     "output_type": "execute_result"
    }
   ],
   "source": [
    "using Plots\n",
    "gr()\n",
    "\n",
    "plot(0:0.1:20, fnl,label = \"Função\")\n",
    "plot!(0:0.1:20, zero, label = \"Zero\")"
   ]
  },
  {
   "cell_type": "markdown",
   "metadata": {},
   "source": [
    "**Pacote SymPy**\n",
    "\n",
    "O comando `nsolve` permite usar métodos de aproximação numérica para encontrar raízes de equações não lineares. Sintaxe:\n",
    "```julia\n",
    "nsolve(função/expressão_variavel, valor_inicial_variável) \n",
    "```\n",
    "Sendo `valor_inicial_variável`, o valor do valor aproximado da raiz."
   ]
  },
  {
   "cell_type": "code",
   "execution_count": 1,
   "metadata": {
    "collapsed": false,
    "scrolled": false
   },
   "outputs": [
    {
     "data": {
      "text/plain": [
       "(x,)"
      ]
     },
     "execution_count": 1,
     "metadata": {},
     "output_type": "execute_result"
    }
   ],
   "source": [
    "using SymPy\n",
    "@syms x"
   ]
  },
  {
   "cell_type": "code",
   "execution_count": 17,
   "metadata": {
    "collapsed": false,
    "scrolled": false
   },
   "outputs": [
    {
     "name": "stdout",
     "output_type": "stream",
     "text": [
      "raiz1 = 1.7744741954672503\n",
      "raiz2 = 4.807741010888786\n",
      "raiz3 = 7.915602479014834\n"
     ]
    }
   ],
   "source": [
    "raiz1 = Float64(nsolve(fnl(x), 2))\n",
    "raiz2 = Float64(nsolve(fnl(x), 5))\n",
    "raiz3 = Float64(nsolve(fnl(x), 7))\n",
    "\n",
    "@show raiz1\n",
    "@show raiz2\n",
    "@show raiz3;"
   ]
  },
  {
   "cell_type": "code",
   "execution_count": 18,
   "metadata": {
    "collapsed": false,
    "scrolled": true
   },
   "outputs": [
    {
     "name": "stdout",
     "output_type": "stream",
     "text": [
      "fnl(raiz1) = 0.0\n",
      "fnl(raiz2) = 1.8318679906315083e-15\n",
      "fnl(raiz3) = 1.6653345369377348e-15\n"
     ]
    }
   ],
   "source": [
    "#testando. veja que o resultado é bem próximo de zero.\n",
    "@show fnl(raiz1)\n",
    "@show fnl(raiz2)\n",
    "@show fnl(raiz3);"
   ]
  },
  {
   "cell_type": "markdown",
   "metadata": {},
   "source": [
    "**Pacote Roots**.\n",
    "\n",
    "Sintaxe:\n",
    "```julia\n",
    "fzero(funcao_variável,valor_inicial_variável)\n",
    "```\n",
    "Sendo `função_variável` uma função genérica ou anônima e `valor_inicial_variável` o valor inicial da variável. O pacote `Roots` não funciona com expressões simbólicas"
   ]
  },
  {
   "cell_type": "code",
   "execution_count": 13,
   "metadata": {
    "collapsed": false
   },
   "outputs": [],
   "source": [
    "using Roots"
   ]
  },
  {
   "cell_type": "code",
   "execution_count": 19,
   "metadata": {
    "collapsed": false,
    "scrolled": false
   },
   "outputs": [
    {
     "name": "stdout",
     "output_type": "stream",
     "text": [
      "raiz1R = 1.7744741954672503\n",
      "raiz2R = 4.807741010888786\n",
      "raiz3R = 7.915602479014834\n"
     ]
    }
   ],
   "source": [
    "raiz1R = fzero(fnl, 2)\n",
    "raiz2R = fzero(fnl, 5)\n",
    "raiz3R = fzero(fnl, 7)\n",
    "\n",
    "@show raiz1R\n",
    "@show raiz2R\n",
    "@show raiz3R;"
   ]
  },
  {
   "cell_type": "code",
   "execution_count": 20,
   "metadata": {
    "collapsed": false,
    "scrolled": true
   },
   "outputs": [
    {
     "name": "stdout",
     "output_type": "stream",
     "text": [
      "fnl(raiz1R) = 0.0\n",
      "fnl(raiz2R) = 1.8318679906315083e-15\n",
      "fnl(raiz3R) = 1.6653345369377348e-15\n"
     ]
    }
   ],
   "source": [
    "# testando as raízes com a função genérica definida\n",
    "# veja que o resultado é bem próximo de zero.\n",
    "@show fnl(raiz1R)\n",
    "@show fnl(raiz2R)\n",
    "@show fnl(raiz3R);"
   ]
  },
  {
   "cell_type": "markdown",
   "metadata": {},
   "source": [
    "**Raízes dentro uma faixa de valores**\n",
    "\n",
    "De acordo com gráfico podemos visualizar que existem várias raízes no intervalo de 0 a 20. Para calcular as raízes utilizando o SymPy é necessário uma `list comprehension` enquanto o pacote `Roots` utiliza o comando `fzeros`."
   ]
  },
  {
   "cell_type": "code",
   "execution_count": 34,
   "metadata": {
    "collapsed": false,
    "scrolled": true
   },
   "outputs": [
    {
     "data": {
      "text/plain": [
       "9-element Array{Float64,1}:\n",
       " -0.527042\n",
       "  1.77447 \n",
       "  4.80774 \n",
       "  7.9156  \n",
       " 11.041   \n",
       " 14.1731  \n",
       " 17.3085  \n",
       " 20.4457  \n",
       " 26.7231  "
      ]
     },
     "execution_count": 34,
     "metadata": {},
     "output_type": "execute_result"
    }
   ],
   "source": [
    "Raizes_nsolve = [Float64(nsolve(fnl(x), i)) for i = 0:20]\n",
    "sort!(Raizes_nsolve)  # ordena os resultados\n",
    "unique(Raizes_nsolve) # filtra resultados repetidos"
   ]
  },
  {
   "cell_type": "markdown",
   "metadata": {},
   "source": [
    "Veja que `nsolve` retornou resultados além de 20."
   ]
  },
  {
   "cell_type": "code",
   "execution_count": 35,
   "metadata": {
    "collapsed": false,
    "scrolled": false
   },
   "outputs": [
    {
     "data": {
      "text/plain": [
       "6-element Array{Float64,1}:\n",
       "  1.77447\n",
       "  4.80774\n",
       "  7.9156 \n",
       " 11.041  \n",
       " 14.1731 \n",
       " 17.3085 "
      ]
     },
     "execution_count": 35,
     "metadata": {},
     "output_type": "execute_result"
    }
   ],
   "source": [
    "# fzeros calcula as raízes de uma faixa de valores\n",
    "Raizes_Root = fzeros(fnl, 0 , 20)"
   ]
  },
  {
   "cell_type": "markdown",
   "metadata": {},
   "source": [
    "## RAIZ DE UM POLINOMIO (SOMENTE PARA POLINOMIOS)\n",
    "\n",
    "Usaremos o pacote `Roots` e `SymPy` para encontrar a solução de polinômios.\n",
    "\n",
    "Dado um polinomio na forma:$P = a_0 +a_1x^1+a_2x^2+ .. + a_mx^n$, calculemos as raízes."
   ]
  },
  {
   "cell_type": "markdown",
   "metadata": {},
   "source": [
    "**Pacote Roots**\n",
    "\n",
    "Sintaxe:\n",
    "```julia\n",
    "valor_raizes, multiplicidade = multroot(polinomio) \n",
    "```\n",
    "O Polinômio é composto pelos valores dos coeficientes na forma vetorial: polinomio =$[a_1,~~ a_2,~~ a_3,~~ ... a_m]$. O resulado  do comando é uma tupla contendo o vetor das raízes e o vetor das multiplicidades.\n",
    "   \n",
    "Uma das vantagens do `multroot` é a velocidade do cálculo das raízes comparado com o comando `fzero` além de facilitar a forma de digitar uma expressão grande."
   ]
  },
  {
   "cell_type": "code",
   "execution_count": 38,
   "metadata": {
    "collapsed": false
   },
   "outputs": [],
   "source": [
    "using Roots"
   ]
  },
  {
   "cell_type": "code",
   "execution_count": 39,
   "metadata": {
    "collapsed": false,
    "scrolled": false
   },
   "outputs": [
    {
     "data": {
      "text/plain": [
       "4-element Array{Int64,1}:\n",
       " -4\n",
       "  2\n",
       " -1\n",
       " -7"
      ]
     },
     "execution_count": 39,
     "metadata": {},
     "output_type": "execute_result"
    }
   ],
   "source": [
    "# polinomio -4 + 2x - x^2 -7x^3\n",
    "poli = [-4, 2 , -1, -7]"
   ]
  },
  {
   "cell_type": "code",
   "execution_count": null,
   "metadata": {
    "collapsed": true
   },
   "outputs": [],
   "source": [
    "mult"
   ]
  },
  {
   "cell_type": "code",
   "execution_count": 43,
   "metadata": {
    "collapsed": false,
    "scrolled": true
   },
   "outputs": [
    {
     "ename": "LoadError",
     "evalue": "\u001b[91mUndefVarError: multroot not defined\u001b[39m",
     "output_type": "error",
     "traceback": [
      "\u001b[91mUndefVarError: multroot not defined\u001b[39m",
      "",
      "Stacktrace:",
      " [1] \u001b[1minclude_string\u001b[22m\u001b[22m\u001b[1m(\u001b[22m\u001b[22m::String, ::String\u001b[1m)\u001b[22m\u001b[22m at \u001b[1m./loading.jl:522\u001b[22m\u001b[22m"
     ]
    }
   ],
   "source": [
    "# o vetor [1,1] representa a multiplicidade das raizes\n",
    "vetor_raizes, vetor_multiplicidade = multroot(poli)"
   ]
  },
  {
   "cell_type": "code",
   "execution_count": 31,
   "metadata": {
    "collapsed": false
   },
   "outputs": [
    {
     "data": {
      "text/plain": [
       "3-element Array{Complex{Float64},1}:\n",
       "     -1.0+0.0im   \n",
       " 0.428571+0.6227im\n",
       " 0.428571-0.6227im"
      ]
     },
     "execution_count": 31,
     "metadata": {},
     "output_type": "execute_result"
    }
   ],
   "source": [
    "# valor das raízes\n",
    "vetor_raizes"
   ]
  },
  {
   "cell_type": "code",
   "execution_count": 71,
   "metadata": {
    "collapsed": false,
    "scrolled": true
   },
   "outputs": [
    {
     "data": {
      "text/plain": [
       "3-element Array{Int64,1}:\n",
       " 1\n",
       " 1\n",
       " 1"
      ]
     },
     "execution_count": 71,
     "metadata": {},
     "output_type": "execute_result"
    }
   ],
   "source": [
    "# multiplicidade das raízes\n",
    "vetor_multiplicidade"
   ]
  },
  {
   "cell_type": "markdown",
   "metadata": {},
   "source": [
    "**Pacote SymPy**\n",
    "\n",
    "O Polinômio é definido pelo comando `Poly(expressão, variável)`. É possível utilizar somente uma expressão sem defini-la como polinômio, porém não será possível extrair os coeficientes e o grau. O resultado do comando é um dicionário contendo as raízes como chave e as multiplicidades como valores.\n",
    "Sintaxe:\n",
    "```julia\n",
    "polyroos(polinômio) # raízes e multiplicidade\n",
    "nroots(polinômio)   # raízes numéricas sem multiplicidade\n",
    "```\n"
   ]
  },
  {
   "cell_type": "code",
   "execution_count": 61,
   "metadata": {
    "collapsed": false,
    "scrolled": true
   },
   "outputs": [
    {
     "data": {
      "text/plain": [
       "(x,)"
      ]
     },
     "execution_count": 61,
     "metadata": {},
     "output_type": "execute_result"
    }
   ],
   "source": [
    "using SymPy\n",
    "@syms x"
   ]
  },
  {
   "cell_type": "code",
   "execution_count": 51,
   "metadata": {
    "collapsed": false,
    "scrolled": true
   },
   "outputs": [
    {
     "ename": "LoadError",
     "evalue": "MethodError: no method matching Poly(::Array{Int64,2}, ::SymPy.Sym)\u001b[0m\nClosest candidates are:\n  Poly(\u001b[1m\u001b[31m::SymPy.Sym\u001b[0m, ::Any...; kwargs...) at /home/jmarcellopereira/.julia/v0.5/SymPy/src/poly.jl:136\u001b[0m",
     "output_type": "error",
     "traceback": [
      "MethodError: no method matching Poly(::Array{Int64,2}, ::SymPy.Sym)\u001b[0m\nClosest candidates are:\n  Poly(\u001b[1m\u001b[31m::SymPy.Sym\u001b[0m, ::Any...; kwargs...) at /home/jmarcellopereira/.julia/v0.5/SymPy/src/poly.jl:136\u001b[0m",
      ""
     ]
    }
   ],
   "source": [
    "poli = Poly(-7*x^3 -x^2 + 2*x - 4)"
   ]
  },
  {
   "cell_type": "code",
   "execution_count": 33,
   "metadata": {
    "collapsed": false
   },
   "outputs": [
    {
     "data": {
      "text/plain": [
       "4-element Array{Any,1}:\n",
       " -7\n",
       " -1\n",
       "  2\n",
       " -4"
      ]
     },
     "execution_count": 33,
     "metadata": {},
     "output_type": "execute_result"
    }
   ],
   "source": [
    "# coeficientes do polinômio\n",
    "coeffs(poli)"
   ]
  },
  {
   "cell_type": "code",
   "execution_count": 34,
   "metadata": {
    "collapsed": false
   },
   "outputs": [
    {
     "data": {
      "text/html": [
       "3"
      ],
      "text/plain": [
       "3"
      ]
     },
     "execution_count": 34,
     "metadata": {},
     "output_type": "execute_result"
    }
   ],
   "source": [
    "# grau do polinômio\n",
    "degree(poli)"
   ]
  },
  {
   "cell_type": "code",
   "execution_count": 66,
   "metadata": {
    "collapsed": false
   },
   "outputs": [
    {
     "data": {
      "text/latex": [
       "\\begin{equation*}\\begin{cases}\\frac{3}{7} + \\frac{\\sqrt{19} i}{7} & \\text{=>} &1\\\\-1 & \\text{=>} &1\\\\\\frac{3}{7} - \\frac{\\sqrt{19} i}{7} & \\text{=>} &1\\\\\\end{cases}\\end{equation*}"
      ],
      "text/plain": [
       "Dict{Any,Any} with 3 entries:\n",
       "  3/7 + sqrt(19)*I/7 => 1\n",
       "  -1                 => 1\n",
       "  3/7 - sqrt(19)*I/7 => 1"
      ]
     },
     "execution_count": 66,
     "metadata": {},
     "output_type": "execute_result"
    }
   ],
   "source": [
    "# os valores \"1\", \"1\" e \"1\" representa a multiplicidade das raízes\n",
    "polyroots(poli)"
   ]
  },
  {
   "cell_type": "code",
   "execution_count": 72,
   "metadata": {
    "collapsed": false,
    "scrolled": true
   },
   "outputs": [
    {
     "data": {
      "text/plain": [
       "Base.KeyIterator for a Dict{Any,Any} with 3 entries. Keys:\n",
       "  3/7 + sqrt(19)*I/7\n",
       "  -1\n",
       "  3/7 - sqrt(19)*I/7"
      ]
     },
     "execution_count": 72,
     "metadata": {},
     "output_type": "execute_result"
    }
   ],
   "source": [
    "# para acessar somente os valores das raízes\n",
    "keys(polyroots(poli))"
   ]
  },
  {
   "cell_type": "code",
   "execution_count": 70,
   "metadata": {
    "collapsed": false
   },
   "outputs": [
    {
     "data": {
      "text/latex": [
       "\\begin{bmatrix}-1.0\\\\0.428571428571429 - 0.622699849077239 i\\\\0.428571428571429 + 0.622699849077239 i\\end{bmatrix}"
      ],
      "text/plain": [
       "3-element Array{SymPy.Sym,1}:\n",
       "                       -1.00000000000000\n",
       " 0.428571428571429 - 0.622699849077239*I\n",
       " 0.428571428571429 + 0.622699849077239*I"
      ]
     },
     "execution_count": 70,
     "metadata": {},
     "output_type": "execute_result"
    }
   ],
   "source": [
    "# raízes numéricas sem multiplicidade\n",
    "nroots(poli)"
   ]
  },
  {
   "cell_type": "markdown",
   "metadata": {},
   "source": [
    "## DOMÍNIO DE UMA INEQUAÇÃO\n",
    "\n",
    "SymPy:\n",
    "```\n",
    "Ge - Maior igual (great equal)\n",
    "Gt - Maior que   (great que)\n",
    "Eq - Igual       (Equal)\n",
    "Le - Menor igual (Less equal)\n",
    "Lt - Menor que   (Less then)\n",
    "Ne - Diferente   (not equal)\n",
    "∧  - E  lógico\n",
    "∨  - OU lógico\n",
    "```"
   ]
  },
  {
   "cell_type": "code",
   "execution_count": 55,
   "metadata": {
    "collapsed": false,
    "scrolled": true
   },
   "outputs": [
    {
     "data": {
      "text/plain": [
       "(x,)"
      ]
     },
     "execution_count": 55,
     "metadata": {},
     "output_type": "execute_result"
    }
   ],
   "source": [
    "using SymPy\n",
    "@syms x"
   ]
  },
  {
   "cell_type": "markdown",
   "metadata": {},
   "source": [
    "* **Inequação 1**\n",
    "\n",
    "$\\displaystyle {(x - 2)\\over(x-1)} \\geqslant 0$"
   ]
  },
  {
   "cell_type": "code",
   "execution_count": 56,
   "metadata": {
    "collapsed": false
   },
   "outputs": [
    {
     "data": {
      "text/latex": [
       "$$\\left(2 \\leq x \\wedge x \\lt \\infty\\right) \\vee \\left(-\\infty \\lt x \\wedge x \\lt 1\\right)$$"
      ],
      "text/plain": [
       "(2 ≤ x ∧ x < ∞) ∨ (-∞ < x ∧ x < 1)"
      ]
     },
     "execution_count": 56,
     "metadata": {},
     "output_type": "execute_result"
    }
   ],
   "source": [
    "solve( Ge((x - 2)/(x-1), 0), x)"
   ]
  },
  {
   "cell_type": "markdown",
   "metadata": {},
   "source": [
    "Traduzindo: Valores de `x` maiores ou igual a 2 e menores que infinito OU `x` maior que menos infinito e `x` menor que 1"
   ]
  },
  {
   "cell_type": "markdown",
   "metadata": {
    "collapsed": false
   },
   "source": [
    "* ** Inequação 2**\n",
    "\n",
    "$\\displaystyle {(x - 2)\\over(x-1)} > 0$"
   ]
  },
  {
   "cell_type": "code",
   "execution_count": 57,
   "metadata": {
    "collapsed": false
   },
   "outputs": [
    {
     "data": {
      "text/latex": [
       "$$\\left(-\\infty \\lt x \\wedge x \\lt 1\\right) \\vee \\left(2 \\lt x \\wedge x \\lt \\infty\\right)$$"
      ],
      "text/plain": [
       "(-∞ < x ∧ x < 1) ∨ (2 < x ∧ x < ∞)"
      ]
     },
     "execution_count": 57,
     "metadata": {},
     "output_type": "execute_result"
    }
   ],
   "source": [
    "solve(Gt((x - 2)/(x-1),0), x)"
   ]
  },
  {
   "cell_type": "markdown",
   "metadata": {},
   "source": [
    "* ** Inequação 3**\n",
    "\n",
    "$\\displaystyle {(x - 2)\\over(x-1)} \\leqslant 0$"
   ]
  },
  {
   "cell_type": "code",
   "execution_count": 58,
   "metadata": {
    "collapsed": false,
    "scrolled": true
   },
   "outputs": [
    {
     "data": {
      "text/latex": [
       "$$x \\leq 2 \\wedge 1 \\lt x$$"
      ],
      "text/plain": [
       "x ≤ 2 ∧ 1 < x"
      ]
     },
     "execution_count": 58,
     "metadata": {},
     "output_type": "execute_result"
    }
   ],
   "source": [
    "solve(Le((x - 2)/(x-1), 0), x)"
   ]
  },
  {
   "cell_type": "markdown",
   "metadata": {},
   "source": [
    "* ** Inequação 4**\n",
    "\n",
    "$\\displaystyle {(x - 2)\\over(x-1)} < 0$"
   ]
  },
  {
   "cell_type": "code",
   "execution_count": 59,
   "metadata": {
    "collapsed": false,
    "scrolled": true
   },
   "outputs": [
    {
     "data": {
      "text/latex": [
       "$$1 \\lt x \\wedge x \\lt 2$$"
      ],
      "text/plain": [
       "1 < x ∧ x < 2"
      ]
     },
     "execution_count": 59,
     "metadata": {},
     "output_type": "execute_result"
    }
   ],
   "source": [
    "solve(Lt((x - 2)/(x-1), 0), x)"
   ]
  },
  {
   "cell_type": "markdown",
   "metadata": {},
   "source": [
    "* ** Inequação 5**\n",
    "\n",
    "$\\displaystyle {(x - 2)\\over(x-1)} \\neq 0$"
   ]
  },
  {
   "cell_type": "code",
   "execution_count": 60,
   "metadata": {
    "collapsed": false
   },
   "outputs": [
    {
     "data": {
      "text/latex": [
       "$$\\left(-\\infty \\lt x \\wedge x \\lt 1\\right) \\vee \\left(1 \\lt x \\wedge x \\lt 2\\right) \\vee \\left(2 \\lt x \\wedge x \\lt \\infty\\right)$$"
      ],
      "text/plain": [
       "(-∞ < x ∧ x < 1) ∨ (1 < x ∧ x < 2) ∨ (2 < x ∧ x < ∞)"
      ]
     },
     "execution_count": 60,
     "metadata": {},
     "output_type": "execute_result"
    }
   ],
   "source": [
    "solve(Ne((x - 2)/(x-1), 0), x)"
   ]
  },
  {
   "cell_type": "markdown",
   "metadata": {
    "collapsed": true
   },
   "source": [
    "## SISTEMAS DE EQUAÇÕES LINEARES E NÃO LINEARES "
   ]
  },
  {
   "cell_type": "markdown",
   "metadata": {},
   "source": [
    "### SISTEMAS DE EQUAÇÕES LINEARES\n",
    "\n",
    "Dado o sistema abaixo:\n",
    "\n",
    "\n",
    "$2x + 3y - 6 = 0$\n",
    "\n",
    "$3x - 4y - 12 = 0$\n",
    "\n",
    "Calcular as raízes"
   ]
  },
  {
   "cell_type": "code",
   "execution_count": 19,
   "metadata": {
    "collapsed": false
   },
   "outputs": [
    {
     "data": {
      "text/plain": [
       "eql_2 (generic function with 1 method)"
      ]
     },
     "execution_count": 19,
     "metadata": {},
     "output_type": "execute_result"
    }
   ],
   "source": [
    "# Funções Lineares\n",
    "\n",
    "eql_1(x,y) = 2*x + 3*y - 6\n",
    "eql_2(x,y) = 3*x - 4*y - 12"
   ]
  },
  {
   "cell_type": "markdown",
   "metadata": {},
   "source": [
    "* **Gráfico**\n",
    "\n",
    "O gráfico permite observar o ponto de cruzamento das retas que corresponde à solução do problema."
   ]
  },
  {
   "cell_type": "markdown",
   "metadata": {},
   "source": [
    "**Usando o SymPy**\n",
    "\n",
    "Ge, Gt, Eq"
   ]
  },
  {
   "cell_type": "code",
   "execution_count": 78,
   "metadata": {
    "collapsed": false
   },
   "outputs": [
    {
     "data": {
      "text/plain": [
       "(x,y)"
      ]
     },
     "execution_count": 78,
     "metadata": {},
     "output_type": "execute_result"
    }
   ],
   "source": [
    "using SymPy\n",
    "@syms x y"
   ]
  },
  {
   "cell_type": "code",
   "execution_count": 82,
   "metadata": {
    "collapsed": false
   },
   "outputs": [],
   "source": [
    "plot_implicit(Or(Eq(eql_1(x,y), 0), Eq(eql_2(x,y), 0)), (x, -5, 5), (y, -5, 5));"
   ]
  },
  {
   "cell_type": "markdown",
   "metadata": {},
   "source": [
    "<img src=\"Figuras/plot_implict_1.png\" align=\"center\" width=\"500\">"
   ]
  },
  {
   "cell_type": "markdown",
   "metadata": {},
   "source": [
    "**Usando o ImplicitEquations**"
   ]
  },
  {
   "cell_type": "code",
   "execution_count": 20,
   "metadata": {
    "collapsed": false,
    "scrolled": false
   },
   "outputs": [
    {
     "data": {
      "text/html": [
       "<?xml version=\"1.0\" encoding=\"utf-8\"?>\n",
       "<svg xmlns=\"http://www.w3.org/2000/svg\" xmlns:xlink=\"http://www.w3.org/1999/xlink\" width=\"400\" height=\"300\" viewBox=\"0 0 400 300\">\n",
       "<defs>\n",
       "  <clipPath id=\"clip00\">\n",
       "    <rect x=\"0\" y=\"0\" width=\"400\" height=\"300\"/>\n",
       "  </clipPath>\n",
       "</defs>\n",
       "<polygon clip-path=\"url(#clip00)\" points=\"\n",
       "0,300 400,300 400,0 0,0 \n",
       "  \" fill=\"#ffffff\" fill-opacity=\"1\"/>\n",
       "<defs>\n",
       "  <clipPath id=\"clip01\">\n",
       "    <rect x=\"80\" y=\"0\" width=\"281\" height=\"281\"/>\n",
       "  </clipPath>\n",
       "</defs>\n",
       "<polygon clip-path=\"url(#clip00)\" points=\"\n",
       "39.3701,268.504 392.126,268.504 392.126,7.87402 39.3701,7.87402 \n",
       "  \" fill=\"#ffffff\" fill-opacity=\"1\"/>\n",
       "<defs>\n",
       "  <clipPath id=\"clip02\">\n",
       "    <rect x=\"39\" y=\"7\" width=\"353\" height=\"261\"/>\n",
       "  </clipPath>\n",
       "</defs>\n",
       "<polyline clip-path=\"url(#clip02)\" style=\"stroke:#00002d; stroke-width:0.857143; stroke-opacity:0.5; fill:none\" stroke-dasharray=\"1, 2\" points=\"\n",
       "  39.3701,264.594 39.3701,11.7835 \n",
       "  \"/>\n",
       "<polyline clip-path=\"url(#clip02)\" style=\"stroke:#00002d; stroke-width:0.857143; stroke-opacity:0.5; fill:none\" stroke-dasharray=\"1, 2\" points=\"\n",
       "  109.921,264.594 109.921,11.7835 \n",
       "  \"/>\n",
       "<polyline clip-path=\"url(#clip02)\" style=\"stroke:#00002d; stroke-width:0.857143; stroke-opacity:0.5; fill:none\" stroke-dasharray=\"1, 2\" points=\"\n",
       "  180.472,264.594 180.472,11.7835 \n",
       "  \"/>\n",
       "<polyline clip-path=\"url(#clip02)\" style=\"stroke:#00002d; stroke-width:0.857143; stroke-opacity:0.5; fill:none\" stroke-dasharray=\"1, 2\" points=\"\n",
       "  251.024,264.594 251.024,11.7835 \n",
       "  \"/>\n",
       "<polyline clip-path=\"url(#clip02)\" style=\"stroke:#00002d; stroke-width:0.857143; stroke-opacity:0.5; fill:none\" stroke-dasharray=\"1, 2\" points=\"\n",
       "  321.575,264.594 321.575,11.7835 \n",
       "  \"/>\n",
       "<polyline clip-path=\"url(#clip02)\" style=\"stroke:#00002d; stroke-width:0.857143; stroke-opacity:0.5; fill:none\" stroke-dasharray=\"1, 2\" points=\"\n",
       "  392.126,264.594 392.126,11.7835 \n",
       "  \"/>\n",
       "<polyline clip-path=\"url(#clip02)\" style=\"stroke:#00002d; stroke-width:0.857143; stroke-opacity:0.5; fill:none\" stroke-dasharray=\"1, 2\" points=\"\n",
       "  44.6614,268.504 386.835,268.504 \n",
       "  \"/>\n",
       "<polyline clip-path=\"url(#clip02)\" style=\"stroke:#00002d; stroke-width:0.857143; stroke-opacity:0.5; fill:none\" stroke-dasharray=\"1, 2\" points=\"\n",
       "  44.6614,216.378 386.835,216.378 \n",
       "  \"/>\n",
       "<polyline clip-path=\"url(#clip02)\" style=\"stroke:#00002d; stroke-width:0.857143; stroke-opacity:0.5; fill:none\" stroke-dasharray=\"1, 2\" points=\"\n",
       "  44.6614,164.252 386.835,164.252 \n",
       "  \"/>\n",
       "<polyline clip-path=\"url(#clip02)\" style=\"stroke:#00002d; stroke-width:0.857143; stroke-opacity:0.5; fill:none\" stroke-dasharray=\"1, 2\" points=\"\n",
       "  44.6614,112.126 386.835,112.126 \n",
       "  \"/>\n",
       "<polyline clip-path=\"url(#clip02)\" style=\"stroke:#00002d; stroke-width:0.857143; stroke-opacity:0.5; fill:none\" stroke-dasharray=\"1, 2\" points=\"\n",
       "  44.6614,60 386.835,60 \n",
       "  \"/>\n",
       "<polyline clip-path=\"url(#clip02)\" style=\"stroke:#00002d; stroke-width:0.857143; stroke-opacity:0.5; fill:none\" stroke-dasharray=\"1, 2\" points=\"\n",
       "  44.6614,7.87402 386.835,7.87402 \n",
       "  \"/>\n",
       "<polyline clip-path=\"url(#clip00)\" style=\"stroke:#00002d; stroke-width:0.857143; stroke-opacity:1; fill:none\" points=\"\n",
       "  39.3701,268.504 392.126,268.504 \n",
       "  \"/>\n",
       "<polyline clip-path=\"url(#clip00)\" style=\"stroke:#00002d; stroke-width:0.857143; stroke-opacity:1; fill:none\" points=\"\n",
       "  39.3701,268.504 39.3701,264.594 \n",
       "  \"/>\n",
       "<polyline clip-path=\"url(#clip00)\" style=\"stroke:#00002d; stroke-width:0.857143; stroke-opacity:1; fill:none\" points=\"\n",
       "  109.921,268.504 109.921,264.594 \n",
       "  \"/>\n",
       "<polyline clip-path=\"url(#clip00)\" style=\"stroke:#00002d; stroke-width:0.857143; stroke-opacity:1; fill:none\" points=\"\n",
       "  180.472,268.504 180.472,264.594 \n",
       "  \"/>\n",
       "<polyline clip-path=\"url(#clip00)\" style=\"stroke:#00002d; stroke-width:0.857143; stroke-opacity:1; fill:none\" points=\"\n",
       "  251.024,268.504 251.024,264.594 \n",
       "  \"/>\n",
       "<polyline clip-path=\"url(#clip00)\" style=\"stroke:#00002d; stroke-width:0.857143; stroke-opacity:1; fill:none\" points=\"\n",
       "  321.575,268.504 321.575,264.594 \n",
       "  \"/>\n",
       "<polyline clip-path=\"url(#clip00)\" style=\"stroke:#00002d; stroke-width:0.857143; stroke-opacity:1; fill:none\" points=\"\n",
       "  392.126,268.504 392.126,264.594 \n",
       "  \"/>\n",
       "<polyline clip-path=\"url(#clip00)\" style=\"stroke:#00002d; stroke-width:0.857143; stroke-opacity:1; fill:none\" points=\"\n",
       "  39.3701,268.504 39.3701,7.87402 \n",
       "  \"/>\n",
       "<polyline clip-path=\"url(#clip00)\" style=\"stroke:#00002d; stroke-width:0.857143; stroke-opacity:1; fill:none\" points=\"\n",
       "  39.3701,268.504 44.6614,268.504 \n",
       "  \"/>\n",
       "<polyline clip-path=\"url(#clip00)\" style=\"stroke:#00002d; stroke-width:0.857143; stroke-opacity:1; fill:none\" points=\"\n",
       "  39.3701,216.378 44.6614,216.378 \n",
       "  \"/>\n",
       "<polyline clip-path=\"url(#clip00)\" style=\"stroke:#00002d; stroke-width:0.857143; stroke-opacity:1; fill:none\" points=\"\n",
       "  39.3701,164.252 44.6614,164.252 \n",
       "  \"/>\n",
       "<polyline clip-path=\"url(#clip00)\" style=\"stroke:#00002d; stroke-width:0.857143; stroke-opacity:1; fill:none\" points=\"\n",
       "  39.3701,112.126 44.6614,112.126 \n",
       "  \"/>\n",
       "<polyline clip-path=\"url(#clip00)\" style=\"stroke:#00002d; stroke-width:0.857143; stroke-opacity:1; fill:none\" points=\"\n",
       "  39.3701,60 44.6614,60 \n",
       "  \"/>\n",
       "<polyline clip-path=\"url(#clip00)\" style=\"stroke:#00002d; stroke-width:0.857143; stroke-opacity:1; fill:none\" points=\"\n",
       "  39.3701,7.87402 44.6614,7.87402 \n",
       "  \"/>\n",
       "<g clip-path=\"url(#clip00)\">\n",
       "<text style=\"fill:#00002d; fill-opacity:1; font-family:Arial,Helvetica Neue,Helvetica,sans-serif; font-size:12; text-anchor:middle;\" transform=\"rotate(0, 39.3701, 281.304)\" x=\"39.3701\" y=\"281.304\">0.0</text>\n",
       "</g>\n",
       "<g clip-path=\"url(#clip00)\">\n",
       "<text style=\"fill:#00002d; fill-opacity:1; font-family:Arial,Helvetica Neue,Helvetica,sans-serif; font-size:12; text-anchor:middle;\" transform=\"rotate(0, 109.921, 281.304)\" x=\"109.921\" y=\"281.304\">0.2</text>\n",
       "</g>\n",
       "<g clip-path=\"url(#clip00)\">\n",
       "<text style=\"fill:#00002d; fill-opacity:1; font-family:Arial,Helvetica Neue,Helvetica,sans-serif; font-size:12; text-anchor:middle;\" transform=\"rotate(0, 180.472, 281.304)\" x=\"180.472\" y=\"281.304\">0.4</text>\n",
       "</g>\n",
       "<g clip-path=\"url(#clip00)\">\n",
       "<text style=\"fill:#00002d; fill-opacity:1; font-family:Arial,Helvetica Neue,Helvetica,sans-serif; font-size:12; text-anchor:middle;\" transform=\"rotate(0, 251.024, 281.304)\" x=\"251.024\" y=\"281.304\">0.6</text>\n",
       "</g>\n",
       "<g clip-path=\"url(#clip00)\">\n",
       "<text style=\"fill:#00002d; fill-opacity:1; font-family:Arial,Helvetica Neue,Helvetica,sans-serif; font-size:12; text-anchor:middle;\" transform=\"rotate(0, 321.575, 281.304)\" x=\"321.575\" y=\"281.304\">0.8</text>\n",
       "</g>\n",
       "<g clip-path=\"url(#clip00)\">\n",
       "<text style=\"fill:#00002d; fill-opacity:1; font-family:Arial,Helvetica Neue,Helvetica,sans-serif; font-size:12; text-anchor:middle;\" transform=\"rotate(0, 392.126, 281.304)\" x=\"392.126\" y=\"281.304\">1.0</text>\n",
       "</g>\n",
       "<g clip-path=\"url(#clip00)\">\n",
       "<text style=\"fill:#00002d; fill-opacity:1; font-family:Arial,Helvetica Neue,Helvetica,sans-serif; font-size:12; text-anchor:end;\" transform=\"rotate(0, 35.3701, 273.004)\" x=\"35.3701\" y=\"273.004\">0.0</text>\n",
       "</g>\n",
       "<g clip-path=\"url(#clip00)\">\n",
       "<text style=\"fill:#00002d; fill-opacity:1; font-family:Arial,Helvetica Neue,Helvetica,sans-serif; font-size:12; text-anchor:end;\" transform=\"rotate(0, 35.3701, 220.878)\" x=\"35.3701\" y=\"220.878\">0.2</text>\n",
       "</g>\n",
       "<g clip-path=\"url(#clip00)\">\n",
       "<text style=\"fill:#00002d; fill-opacity:1; font-family:Arial,Helvetica Neue,Helvetica,sans-serif; font-size:12; text-anchor:end;\" transform=\"rotate(0, 35.3701, 168.752)\" x=\"35.3701\" y=\"168.752\">0.4</text>\n",
       "</g>\n",
       "<g clip-path=\"url(#clip00)\">\n",
       "<text style=\"fill:#00002d; fill-opacity:1; font-family:Arial,Helvetica Neue,Helvetica,sans-serif; font-size:12; text-anchor:end;\" transform=\"rotate(0, 35.3701, 116.626)\" x=\"35.3701\" y=\"116.626\">0.6</text>\n",
       "</g>\n",
       "<g clip-path=\"url(#clip00)\">\n",
       "<text style=\"fill:#00002d; fill-opacity:1; font-family:Arial,Helvetica Neue,Helvetica,sans-serif; font-size:12; text-anchor:end;\" transform=\"rotate(0, 35.3701, 64.5)\" x=\"35.3701\" y=\"64.5\">0.8</text>\n",
       "</g>\n",
       "<g clip-path=\"url(#clip00)\">\n",
       "<text style=\"fill:#00002d; fill-opacity:1; font-family:Arial,Helvetica Neue,Helvetica,sans-serif; font-size:12; text-anchor:end;\" transform=\"rotate(0, 35.3701, 12.374)\" x=\"35.3701\" y=\"12.374\">1.0</text>\n",
       "</g>\n",
       "</svg>\n"
      ]
     },
     "execution_count": 20,
     "metadata": {},
     "output_type": "execute_result"
    }
   ],
   "source": [
    "using Plots, ImplicitEquations\n",
    "gr()\n",
    "\n",
    "plot(eql_1 == 0)\n",
    "plot!(eql_2 == 0, size = (400,300))"
   ]
  },
  {
   "cell_type": "markdown",
   "metadata": {},
   "source": [
    "* **Solução**"
   ]
  },
  {
   "cell_type": "markdown",
   "metadata": {},
   "source": [
    "**Usando o SymPy**\n",
    "\n",
    "O comando `solve()` . Sintaxe:\n",
    "```julia\n",
    "solve([função/expressão_1 , ..., função/expressão_n] , [var_1,...,var_n])\n",
    "```"
   ]
  },
  {
   "cell_type": "code",
   "execution_count": 93,
   "metadata": {
    "collapsed": false,
    "scrolled": true
   },
   "outputs": [
    {
     "data": {
      "text/latex": [
       "\\begin{equation*}\\begin{cases}x & \\text{=>} &\\frac{60}{17}\\\\y & \\text{=>} &- \\frac{6}{17}\\\\\\end{cases}\\end{equation*}"
      ],
      "text/plain": [
       "Dict{SymPy.Sym,SymPy.Sym} with 2 entries:\n",
       "  x => 60/17\n",
       "  y => -6/17"
      ]
     },
     "execution_count": 93,
     "metadata": {},
     "output_type": "execute_result"
    }
   ],
   "source": [
    "sol_sys = solve([eql_1(x,y) , eql_2(x,y) ], [x , y])"
   ]
  },
  {
   "cell_type": "code",
   "execution_count": 94,
   "metadata": {
    "collapsed": false
   },
   "outputs": [
    {
     "data": {
      "text/plain": [
       "Dict{SymPy.Sym,SymPy.Sym}"
      ]
     },
     "execution_count": 94,
     "metadata": {},
     "output_type": "execute_result"
    }
   ],
   "source": [
    "typeof(sol_sys)"
   ]
  },
  {
   "cell_type": "markdown",
   "metadata": {},
   "source": [
    "O SymPy fornece a resposta na forma `Dict{SymPy.Sym,SymPy.Sym}`(Dicionário de tipos simbólicos ). É interessante tranformar os dados em `Float` para manipulá-los. "
   ]
  },
  {
   "cell_type": "code",
   "execution_count": 95,
   "metadata": {
    "collapsed": false
   },
   "outputs": [
    {
     "data": {
      "text/plain": [
       "(3.5294117647058822,-0.35294117647058826)"
      ]
     },
     "execution_count": 95,
     "metadata": {},
     "output_type": "execute_result"
    }
   ],
   "source": [
    "xs , ys = float(sol_sys[x]), float(sol_sys[y])"
   ]
  },
  {
   "cell_type": "code",
   "execution_count": 96,
   "metadata": {
    "collapsed": false
   },
   "outputs": [
    {
     "name": "stdout",
     "output_type": "stream",
     "text": [
      "eql_1(xs,ys) = 0.0\n",
      "eql_2(xs,ys) = 0.0\n"
     ]
    }
   ],
   "source": [
    "# testando\n",
    "@show eql_1(xs, ys)\n",
    "@show eql_2(xs, ys);"
   ]
  },
  {
   "cell_type": "markdown",
   "metadata": {},
   "source": [
    "### SISTEMAS DE EQUAÇÕES NÃO LINEARES"
   ]
  },
  {
   "cell_type": "markdown",
   "metadata": {
    "collapsed": false
   },
   "source": [
    "Dado o sistema abaixo:\n",
    "\n",
    "${\\begin{cases}\n",
    "& xy -2x = 0 \\\\ \n",
    "&- x^2 + 8y -2 = 0 \n",
    "\\end{cases}}$\n"
   ]
  },
  {
   "cell_type": "code",
   "execution_count": 97,
   "metadata": {
    "collapsed": false
   },
   "outputs": [
    {
     "data": {
      "text/plain": [
       "eqnl_2 (generic function with 1 method)"
      ]
     },
     "execution_count": 97,
     "metadata": {},
     "output_type": "execute_result"
    }
   ],
   "source": [
    "# Funções \n",
    "eqnl_1(x,y) = 3*x + cos(y)  - 5\n",
    "eqnl_2(x,y) = -sin(x) + y - 2"
   ]
  },
  {
   "cell_type": "markdown",
   "metadata": {},
   "source": [
    "* **Gráfico**\n",
    "\n",
    "O gráfico permite observar o ponto de cruzamento das curvas que corresponde à solução do problema."
   ]
  },
  {
   "cell_type": "markdown",
   "metadata": {},
   "source": [
    "**Usando o SymPy**"
   ]
  },
  {
   "cell_type": "code",
   "execution_count": 34,
   "metadata": {
    "collapsed": false
   },
   "outputs": [
    {
     "data": {
      "text/plain": [
       "(x,y)"
      ]
     },
     "execution_count": 34,
     "metadata": {},
     "output_type": "execute_result"
    }
   ],
   "source": [
    "using SymPy\n",
    "@syms x y"
   ]
  },
  {
   "cell_type": "code",
   "execution_count": 35,
   "metadata": {
    "collapsed": false
   },
   "outputs": [],
   "source": [
    "plot_implicit(Or(Eq(eqnl_1(x,y), 0), Eq(eqnl_2(x,y), 0)), (x, -5, 5), (y, -5, 5));"
   ]
  },
  {
   "cell_type": "markdown",
   "metadata": {},
   "source": [
    "<img src=\"Figuras/plot_implict_4.png\" align=\"center\" width=\"500\">"
   ]
  },
  {
   "cell_type": "markdown",
   "metadata": {},
   "source": [
    "**Usando o ImplicitEquations**"
   ]
  },
  {
   "cell_type": "code",
   "execution_count": 98,
   "metadata": {
    "collapsed": false,
    "scrolled": false
   },
   "outputs": [
    {
     "data": {
      "text/html": [
       "<img src=\"data:image/png;base64,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\" />"
      ]
     },
     "execution_count": 98,
     "metadata": {},
     "output_type": "execute_result"
    }
   ],
   "source": [
    "using Plots, ImplicitEquations\n",
    "pyplot()\n",
    "\n",
    "plot(eqnl_1 == 0)\n",
    "plot!(eqnl_2 == 0)"
   ]
  },
  {
   "cell_type": "markdown",
   "metadata": {},
   "source": [
    "* **Solução**"
   ]
  },
  {
   "cell_type": "markdown",
   "metadata": {},
   "source": [
    "**Pacote SymPy**\n",
    "\n",
    "A saída é um vetor contendo as raízes do problema.\n",
    "Sintaxe: \n",
    "```julia\n",
    "nsolve([expressão/função_1,..., expressão/função_n], [var_1,..., var_n], [valor_var_1,..., valor_var_n])\n",
    "```"
   ]
  },
  {
   "cell_type": "code",
   "execution_count": 115,
   "metadata": {
    "collapsed": false,
    "scrolled": false
   },
   "outputs": [
    {
     "data": {
      "text/latex": [
       "\\begin{bmatrix}1.991319354723525449468532229112811182674010473495033994723729082449806234807\\\\2.912875545325404325640533340730442672183820525227634424225062614837766899438\\end{bmatrix}"
      ],
      "text/plain": [
       "2-element Array{SymPy.Sym,1}:\n",
       " 1.991319354723525449468532229112811182674010473495033994723729082449806234807\n",
       " 2.912875545325404325640533340730442672183820525227634424225062614837766899438"
      ]
     },
     "execution_count": 115,
     "metadata": {},
     "output_type": "execute_result"
    }
   ],
   "source": [
    "sol_nlsys = nsolve([eqnl_1(x,y) , eqnl_2(x,y) ],[x , y], [1,1])"
   ]
  },
  {
   "cell_type": "code",
   "execution_count": 116,
   "metadata": {
    "collapsed": false
   },
   "outputs": [
    {
     "data": {
      "text/html": [
       "1.991319354723525449468532229112811182674010473495033994723729082449806234807"
      ],
      "text/plain": [
       "1.991319354723525449468532229112811182674010473495033994723729082449806234807"
      ]
     },
     "execution_count": 116,
     "metadata": {},
     "output_type": "execute_result"
    }
   ],
   "source": [
    "# Acessar somente o primeiro valor\n",
    "sol_nlsys[1]"
   ]
  },
  {
   "cell_type": "markdown",
   "metadata": {},
   "source": [
    "**Pacotes SunDials e NLSolve**"
   ]
  },
  {
   "cell_type": "markdown",
   "metadata": {},
   "source": [
    "**Usando o Sundials**\n",
    "\n",
    "Sintaxe:\n",
    "```julia\n",
    "    function nome_função(var, função)\n",
    "        função[1] = a*var[1] + b*var[2] + ... + k     \n",
    "        função[2] = a*var[1] + b*var[2] + ... + k\n",
    "    end\n",
    "    \n",
    "    Sundials.kinsol(nome_função, vetor_inicial)\n",
    "```\n",
    "Sendo:\n",
    "\n",
    "- função[1] e função[2]: corresponde as funções do sistema.\n",
    "- a,b,... e k:  valor das constantes. \n",
    "- var[1] e var[2]:  corresponde a primeira variável `x` a segunda variável `y` e assim por diante. \n",
    "- Vetor_inicial:  corresponde a o vetor de soluções (\"valor\") iniciais do sistema.\n",
    "\n",
    "O resultado do comando é um vetor contendo os valores da solução do sistema."
   ]
  },
  {
   "cell_type": "code",
   "execution_count": 12,
   "metadata": {
    "collapsed": false
   },
   "outputs": [
    {
     "name": "stderr",
     "output_type": "stream",
     "text": [
      "\u001b[1m\u001b[34mINFO: Nothing to be done\n",
      "\u001b[0m\u001b[1m\u001b[34mINFO: METADATA is out-of-date — you may not have the latest version of Sundials\n",
      "\u001b[0m\u001b[1m\u001b[34mINFO: Use `Pkg.update()` to get the latest versions of your packages\n",
      "\u001b[0m"
     ]
    }
   ],
   "source": [
    "Pkg.add(\"Sundials\")"
   ]
  },
  {
   "cell_type": "code",
   "execution_count": 11,
   "metadata": {
    "collapsed": false
   },
   "outputs": [
    {
     "name": "stderr",
     "output_type": "stream",
     "text": [
      "\u001b[1m\u001b[34mINFO: Precompiling module Sundials.\n",
      "\u001b[0mWARNING: Method definition macroexpand(Module, Any) in module Compat at /home/jmarcellopereira/.julia/v0.5/Compat/src/Compat.jl:1491 overwritten in module MacroTools at /home/jmarcellopereira/.julia/v0.5/MacroTools/src/utils.jl:64.\n",
      "WARNING: Method definition macroexpand(Module, Any) in module Compat at /home/jmarcellopereira/.julia/v0.5/Compat/src/Compat.jl:1491 overwritten in module MacroTools at /home/jmarcellopereira/.julia/v0.5/MacroTools/src/utils.jl:64.\n"
     ]
    }
   ],
   "source": [
    "using Sundials"
   ]
  },
  {
   "cell_type": "code",
   "execution_count": 13,
   "metadata": {
    "collapsed": false
   },
   "outputs": [
    {
     "data": {
      "text/plain": [
       "sistema_SD (generic function with 1 method)"
      ]
     },
     "execution_count": 13,
     "metadata": {},
     "output_type": "execute_result"
    }
   ],
   "source": [
    "function sistema_SD(x, função)\n",
    "    função[1] = 3*x[1] + cos(x[2]) - 5\n",
    "    \n",
    "    função[2] = -sin(x[1]) + x[2] - 2\n",
    "end"
   ]
  },
  {
   "cell_type": "code",
   "execution_count": 14,
   "metadata": {
    "collapsed": false,
    "scrolled": false
   },
   "outputs": [
    {
     "data": {
      "text/plain": [
       "2-element Array{Float64,1}:\n",
       " 1.99132\n",
       " 2.91287"
      ]
     },
     "execution_count": 14,
     "metadata": {},
     "output_type": "execute_result"
    }
   ],
   "source": [
    "solSD = Sundials.kinsol(sistema_SD, [1.0, 1.0])"
   ]
  },
  {
   "cell_type": "code",
   "execution_count": 15,
   "metadata": {
    "collapsed": false
   },
   "outputs": [
    {
     "data": {
      "text/plain": [
       "1.9913176871742573"
      ]
     },
     "execution_count": 15,
     "metadata": {},
     "output_type": "execute_result"
    }
   ],
   "source": [
    "# para acessar somente o valor de X\n",
    "solSD[1]"
   ]
  },
  {
   "cell_type": "code",
   "execution_count": 16,
   "metadata": {
    "collapsed": false
   },
   "outputs": [
    {
     "data": {
      "text/plain": [
       "2.9128717600805953"
      ]
     },
     "execution_count": 16,
     "metadata": {},
     "output_type": "execute_result"
    }
   ],
   "source": [
    "# para acessar somente o valor de Y\n",
    "solSD[2]"
   ]
  },
  {
   "cell_type": "markdown",
   "metadata": {},
   "source": [
    "**Usando o NLsolve**\n",
    "\n",
    "Sintaxe:\n",
    "```julia\n",
    "    function nome_função(var, função)\n",
    "        função[1] = a*var[1] + b*var[2] + ... + k     \n",
    "        função[2] = a*var[1] + b*var[2] + ... + k\n",
    "    end\n",
    "    \n",
    "    nlsolve(nome_funcao,  vetor_inicial)\n",
    "```\n",
    "Sendo:\n",
    "\n",
    "- função[1] e função[2]: corresponde as funções do sistema.\n",
    "- a,b,... e k:  valor das constantes. \n",
    "- var[1] e var[2]:  corresponde a primeira variável `x` a segunda variável `y` e assim por diante. \n",
    "- Vetor_inicial:  corresponde a o vetor de soluções (\"valor\") iniciais do sistema.\n",
    "\n",
    "O resultado so comando é um tipo definido pelo pacote NLsolve (NLsolve.SolverResults{Float64}) e os valores podem ser acessados colocando \" . \" e \"tab\". "
   ]
  },
  {
   "cell_type": "code",
   "execution_count": 1,
   "metadata": {
    "collapsed": false
   },
   "outputs": [
    {
     "name": "stderr",
     "output_type": "stream",
     "text": [
      "\u001b[1m\u001b[34mINFO: Precompiling module NLsolve.\n",
      "\u001b[0m"
     ]
    }
   ],
   "source": [
    "using NLsolve"
   ]
  },
  {
   "cell_type": "code",
   "execution_count": 2,
   "metadata": {
    "collapsed": false
   },
   "outputs": [
    {
     "data": {
      "text/plain": [
       "sistema_NLS (generic function with 1 method)"
      ]
     },
     "execution_count": 2,
     "metadata": {},
     "output_type": "execute_result"
    }
   ],
   "source": [
    "function sistema_NLS(x, função)\n",
    "    função[1] = 3*x[1] + cos(x[2]) - 5\n",
    "    \n",
    "    função[2] = -sin(x[1]) + x[2] - 2\n",
    "end"
   ]
  },
  {
   "cell_type": "code",
   "execution_count": 3,
   "metadata": {
    "collapsed": false,
    "scrolled": false
   },
   "outputs": [
    {
     "data": {
      "text/plain": [
       "Results of Nonlinear Solver Algorithm\n",
       " * Algorithm: Trust-region with dogleg and autoscaling\n",
       " * Starting Point: [1.0,1.0]\n",
       " * Zero: [1.99132,2.91288]\n",
       " * Inf-norm of residuals: 0.000000\n",
       " * Iterations: 5\n",
       " * Convergence: true\n",
       "   * |x - x'| < 0.0e+00: false\n",
       "   * |f(x)| < 1.0e-08: true\n",
       " * Function Calls (f): 6\n",
       " * Jacobian Calls (df/dx): 6"
      ]
     },
     "execution_count": 3,
     "metadata": {},
     "output_type": "execute_result"
    }
   ],
   "source": [
    "solNLS = nlsolve(sistema_NLS, [ 1.0, 1.0])"
   ]
  },
  {
   "cell_type": "code",
   "execution_count": 47,
   "metadata": {
    "collapsed": false
   },
   "outputs": [
    {
     "ename": "LoadError",
     "evalue": "UndefVarError: solNLS not defined",
     "output_type": "error",
     "traceback": [
      "UndefVarError: solNLS not defined",
      ""
     ]
    }
   ],
   "source": [
    "typeof(solNLS)"
   ]
  },
  {
   "cell_type": "code",
   "execution_count": 48,
   "metadata": {
    "collapsed": false
   },
   "outputs": [
    {
     "ename": "LoadError",
     "evalue": "UndefVarError: solNLS not defined",
     "output_type": "error",
     "traceback": [
      "UndefVarError: solNLS not defined",
      ""
     ]
    }
   ],
   "source": [
    "# para acessar somente os valores das soluções\n",
    "solNLS.zero"
   ]
  },
  {
   "cell_type": "code",
   "execution_count": 49,
   "metadata": {
    "collapsed": false
   },
   "outputs": [
    {
     "ename": "LoadError",
     "evalue": "UndefVarError: solNLS not defined",
     "output_type": "error",
     "traceback": [
      "UndefVarError: solNLS not defined",
      ""
     ]
    }
   ],
   "source": [
    "# para acessar somente os o valor de X\n",
    "solNLS.zero[1]"
   ]
  },
  {
   "cell_type": "code",
   "execution_count": 4,
   "metadata": {
    "collapsed": false
   },
   "outputs": [
    {
     "data": {
      "text/plain": [
       "5"
      ]
     },
     "execution_count": 4,
     "metadata": {},
     "output_type": "execute_result"
    }
   ],
   "source": [
    "# para acessar somente a quantidade de interações\n",
    "# menos interações, siginifica que o valor inicial foi melhor.\n",
    "solNLS.iterations"
   ]
  },
  {
   "cell_type": "code",
   "execution_count": null,
   "metadata": {
    "collapsed": true
   },
   "outputs": [],
   "source": []
  }
 ],
 "metadata": {
  "anaconda-cloud": {},
  "kernelspec": {
   "display_name": "Julia 0.6.2",
   "language": "julia",
   "name": "julia-0.6"
  },
  "language_info": {
   "file_extension": ".jl",
   "mimetype": "application/julia",
   "name": "julia",
   "version": "0.6.2"
  }
 },
 "nbformat": 4,
 "nbformat_minor": 0
}
