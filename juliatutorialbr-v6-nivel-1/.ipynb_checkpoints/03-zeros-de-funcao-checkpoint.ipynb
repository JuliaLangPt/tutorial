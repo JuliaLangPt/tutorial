{
 "cells": [
  {
   "cell_type": "markdown",
   "metadata": {},
   "source": [
    "# Zeros de Função\n",
    "\n",
    "Procuramos $x$ tal que\n",
    "\n",
    "$$ f(x) = 0 $$"
   ]
  },
  {
   "cell_type": "markdown",
   "metadata": {},
   "source": [
    "## Método da bissecção"
   ]
  },
  {
   "cell_type": "code",
   "execution_count": 60,
   "metadata": {
    "collapsed": false
   },
   "outputs": [
    {
     "data": {
      "text/plain": [
       "bisseccao (generic function with 1 method)"
      ]
     },
     "execution_count": 60,
     "metadata": {},
     "output_type": "execute_result"
    }
   ],
   "source": [
    "function bisseccao(f::Function, a::Real, b::Real; tol=1e-6)\n",
    "    (fa, fb) = (f(a), f(b))\n",
    "    if abs(fa) < tol\n",
    "        return a, fa, 0\n",
    "    elseif abs(fb) < tol\n",
    "        return b, fb, 0\n",
    "    elseif fa * fb > 0\n",
    "        error(\"f(a) e f(b) devem ter sinais diferentes\")\n",
    "    end\n",
    "    escala = max(fa, fb)\n",
    "    x = (a+b)/2\n",
    "    fx = f(x)\n",
    "    iter = 0\n",
    "    while abs(fx)/escala > tol\n",
    "        if fx * fa < 0\n",
    "            b = x\n",
    "        else\n",
    "            a = x\n",
    "        end\n",
    "    \n",
    "        x = (a+b)/2\n",
    "        fx = f(x)\n",
    "        iter = iter + 1\n",
    "    end\n",
    "    \n",
    "    return x, fx, iter\n",
    "end"
   ]
  },
  {
   "cell_type": "code",
   "execution_count": 23,
   "metadata": {
    "collapsed": false
   },
   "outputs": [
    {
     "data": {
      "text/plain": [
       "(1.4142136573791504,2.687177129701013e-7,20)"
      ]
     },
     "execution_count": 23,
     "metadata": {},
     "output_type": "execute_result"
    }
   ],
   "source": [
    "xtil, fx, iter = bisseccao(x->x^2 - 2, 1, 2)"
   ]
  },
  {
   "cell_type": "code",
   "execution_count": 18,
   "metadata": {
    "collapsed": false
   },
   "outputs": [
    {
     "data": {
      "text/plain": [
       "1.4142135623730951"
      ]
     },
     "execution_count": 18,
     "metadata": {},
     "output_type": "execute_result"
    }
   ],
   "source": [
    "x = sqrt(2)"
   ]
  },
  {
   "cell_type": "code",
   "execution_count": 19,
   "metadata": {
    "collapsed": false
   },
   "outputs": [
    {
     "data": {
      "text/plain": [
       "-9.500605524515038e-8"
      ]
     },
     "execution_count": 19,
     "metadata": {},
     "output_type": "execute_result"
    }
   ],
   "source": [
    "Erro = x - xtil"
   ]
  },
  {
   "cell_type": "code",
   "execution_count": 20,
   "metadata": {
    "collapsed": false
   },
   "outputs": [
    {
     "data": {
      "text/plain": [
       "9.500605524515038e-8"
      ]
     },
     "execution_count": 20,
     "metadata": {},
     "output_type": "execute_result"
    }
   ],
   "source": [
    "ErroAbs = abs(Erro)"
   ]
  },
  {
   "cell_type": "code",
   "execution_count": 21,
   "metadata": {
    "collapsed": false
   },
   "outputs": [
    {
     "data": {
      "text/plain": [
       "6.717942591762959e-8"
      ]
     },
     "execution_count": 21,
     "metadata": {},
     "output_type": "execute_result"
    }
   ],
   "source": [
    "ErroRel = ErroAbs/x"
   ]
  },
  {
   "cell_type": "code",
   "execution_count": 25,
   "metadata": {
    "collapsed": false
   },
   "outputs": [
    {
     "data": {
      "text/plain": [
       "(1.4142135623733338,6.754596881819452e-13,37)"
      ]
     },
     "execution_count": 25,
     "metadata": {},
     "output_type": "execute_result"
    }
   ],
   "source": [
    "xtil, fx, iter = bisseccao(x->x^2 - 2, 1, 2, tol=1e-12)"
   ]
  },
  {
   "cell_type": "code",
   "execution_count": 26,
   "metadata": {
    "collapsed": false
   },
   "outputs": [
    {
     "data": {
      "text/plain": [
       "1.6878493930850582e-13"
      ]
     },
     "execution_count": 26,
     "metadata": {},
     "output_type": "execute_result"
    }
   ],
   "source": [
    "abs(x-xtil)/x"
   ]
  },
  {
   "cell_type": "code",
   "execution_count": 32,
   "metadata": {
    "collapsed": false
   },
   "outputs": [
    {
     "ename": "LoadError",
     "evalue": "LoadError: f(a) e f(b) devem ter sinais diferentes\nwhile loading In[32], in expression starting on line 1",
     "output_type": "error",
     "traceback": [
      "LoadError: f(a) e f(b) devem ter sinais diferentes\nwhile loading In[32], in expression starting on line 1",
      "",
      " in bisseccao at In[27]:8"
     ]
    }
   ],
   "source": [
    "xtil, fx, iter = bisseccao(x->x^2, 1, 3, tol=1e-12)"
   ]
  },
  {
   "cell_type": "code",
   "execution_count": 33,
   "metadata": {
    "collapsed": false
   },
   "outputs": [
    {
     "data": {
      "text/plain": [
       "(0.5671432904091489,-9.950928969715278e-13,37)"
      ]
     },
     "execution_count": 33,
     "metadata": {},
     "output_type": "execute_result"
    }
   ],
   "source": [
    "xtil, fx, iter = bisseccao(x->x-exp(-x), 0, 1, tol=1e-12)"
   ]
  },
  {
   "cell_type": "code",
   "execution_count": 53,
   "metadata": {
    "collapsed": false
   },
   "outputs": [
    {
     "data": {
      "text/plain": [
       "falsaposicao (generic function with 1 method)"
      ]
     },
     "execution_count": 53,
     "metadata": {},
     "output_type": "execute_result"
    }
   ],
   "source": [
    "function falsaposicao(f::Function, a::Real, b::Real; tol=1e-6)\n",
    "    (fa, fb) = (f(a), f(b))\n",
    "    if abs(fa) < tol\n",
    "        return a, fa, 0\n",
    "    elseif abs(fb) < tol\n",
    "        return b, fb, 0\n",
    "    elseif fa * fb > 0\n",
    "        error(\"f(a) e f(b) devem ter sinais diferentes\")\n",
    "    end\n",
    "    x = (b*fa-a*fb)/(fa-fb)\n",
    "    fx = f(x)\n",
    "    iter = 0\n",
    "    while abs(fx) > tol\n",
    "        if fx * fa < 0\n",
    "            b = x\n",
    "        else\n",
    "            a = x\n",
    "        end\n",
    "    \n",
    "        x = (b*fa-a*fb)/(fa-fb)\n",
    "        fx = f(x)\n",
    "        iter = iter + 1\n",
    "    end\n",
    "    \n",
    "    return x, fx, iter\n",
    "end"
   ]
  },
  {
   "cell_type": "code",
   "execution_count": 54,
   "metadata": {
    "collapsed": false
   },
   "outputs": [
    {
     "data": {
      "text/plain": [
       "(1.414213562373238,4.04121180963557e-13,35)"
      ]
     },
     "execution_count": 54,
     "metadata": {},
     "output_type": "execute_result"
    }
   ],
   "source": [
    "xtil, fx, iter = falsaposicao(x->x^2-2, 1, 2, tol=1e-12)"
   ]
  },
  {
   "cell_type": "code",
   "execution_count": 57,
   "metadata": {
    "collapsed": false
   },
   "outputs": [
    {
     "data": {
      "text/plain": [
       "(0.33760905265808105,-8.371672906015704e-7,21)"
      ]
     },
     "execution_count": 57,
     "metadata": {},
     "output_type": "execute_result"
    }
   ],
   "source": [
    "xtil, fx, iter = bisseccao(x->x^3-9x+3, 0, 1, tol=1e-6)"
   ]
  },
  {
   "cell_type": "code",
   "execution_count": 58,
   "metadata": {
    "collapsed": false
   },
   "outputs": [
    {
     "data": {
      "text/plain": [
       "(0.33760813364931974,7.119666912469569e-6,19)"
      ]
     },
     "execution_count": 58,
     "metadata": {},
     "output_type": "execute_result"
    }
   ],
   "source": [
    "xtil, fx, iter = falsaposicao(x->x^3-9x+3, 0, 1, tol=1e-5)"
   ]
  },
  {
   "cell_type": "code",
   "execution_count": 63,
   "metadata": {
    "collapsed": false
   },
   "outputs": [
    {
     "data": {
      "text/plain": [
       "(1.4142131805419922,-1.0799813026096672e-11,18)"
      ]
     },
     "execution_count": 63,
     "metadata": {},
     "output_type": "execute_result"
    }
   ],
   "source": [
    "xtil, fx, iter = bisseccao(x->1e-5*(x^2-2), 1, 2, tol=1e-6)"
   ]
  },
  {
   "cell_type": "markdown",
   "metadata": {},
   "source": [
    "## Método do Ponto Fixo"
   ]
  },
  {
   "cell_type": "code",
   "execution_count": 64,
   "metadata": {
    "collapsed": false
   },
   "outputs": [
    {
     "data": {
      "text/plain": [
       "1"
      ]
     },
     "execution_count": 64,
     "metadata": {},
     "output_type": "execute_result"
    }
   ],
   "source": [
    "f(x) = x^2 - 5x + 6\n",
    "x0 = 1"
   ]
  },
  {
   "cell_type": "code",
   "execution_count": 65,
   "metadata": {
    "collapsed": false
   },
   "outputs": [
    {
     "data": {
      "text/plain": [
       "1.4"
      ]
     },
     "execution_count": 65,
     "metadata": {},
     "output_type": "execute_result"
    }
   ],
   "source": [
    "phi(x) = (x^2+6)/5\n",
    "x = phi(x0)"
   ]
  },
  {
   "cell_type": "code",
   "execution_count": 119,
   "metadata": {
    "collapsed": false
   },
   "outputs": [
    {
     "data": {
      "text/plain": [
       "1.999998060989484"
      ]
     },
     "execution_count": 119,
     "metadata": {},
     "output_type": "execute_result"
    }
   ],
   "source": [
    "x = phi(x)"
   ]
  },
  {
   "cell_type": "code",
   "execution_count": 178,
   "metadata": {
    "collapsed": false
   },
   "outputs": [
    {
     "data": {
      "text/plain": [
       "3.391164991562634"
      ]
     },
     "execution_count": 178,
     "metadata": {},
     "output_type": "execute_result"
    }
   ],
   "source": [
    "phi(x) = sqrt(5x-6)\n",
    "x = phi(3.5) # no x0 nao funciona"
   ]
  },
  {
   "cell_type": "code",
   "execution_count": 179,
   "metadata": {
    "collapsed": false
   },
   "outputs": [
    {
     "data": {
      "text/plain": [
       "3.309958452581115"
      ]
     },
     "execution_count": 179,
     "metadata": {},
     "output_type": "execute_result"
    }
   ],
   "source": [
    "x = phi(x)"
   ]
  },
  {
   "cell_type": "code",
   "execution_count": 180,
   "metadata": {
    "collapsed": false
   },
   "outputs": [
    {
     "data": {
      "text/plain": [
       "-1.0"
      ]
     },
     "execution_count": 180,
     "metadata": {},
     "output_type": "execute_result"
    }
   ],
   "source": [
    "phi(x) = (5x-6)/x\n",
    "x = phi(x0) # no x0 nao funciona"
   ]
  },
  {
   "cell_type": "code",
   "execution_count": 223,
   "metadata": {
    "collapsed": false
   },
   "outputs": [
    {
     "data": {
      "text/plain": [
       "3.0000000357284855"
      ]
     },
     "execution_count": 223,
     "metadata": {},
     "output_type": "execute_result"
    }
   ],
   "source": [
    "x = phi(x)"
   ]
  },
  {
   "cell_type": "code",
   "execution_count": 231,
   "metadata": {
    "collapsed": false
   },
   "outputs": [
    {
     "data": {
      "text/plain": [
       "1.6666666666666665"
      ]
     },
     "execution_count": 231,
     "metadata": {},
     "output_type": "execute_result"
    }
   ],
   "source": [
    "phi(x) = x - f(x)/(2x-5)\n",
    "x = phi(x0) # no x0 nao funciona"
   ]
  },
  {
   "cell_type": "code",
   "execution_count": 236,
   "metadata": {
    "collapsed": false
   },
   "outputs": [
    {
     "data": {
      "text/plain": [
       "2.0"
      ]
     },
     "execution_count": 236,
     "metadata": {},
     "output_type": "execute_result"
    }
   ],
   "source": [
    "x = phi(x)"
   ]
  },
  {
   "cell_type": "markdown",
   "metadata": {},
   "source": [
    "## Método de Newton"
   ]
  },
  {
   "cell_type": "code",
   "execution_count": 244,
   "metadata": {
    "collapsed": false
   },
   "outputs": [
    {
     "data": {
      "text/plain": [
       "newton (generic function with 1 method)"
      ]
     },
     "execution_count": 244,
     "metadata": {},
     "output_type": "execute_result"
    }
   ],
   "source": [
    "function newton(f, fd, x; tol = 1e-6, itermax = 1000)\n",
    "    iter = 0\n",
    "    while abs(f(x)) > tol\n",
    "        x = x - f(x)/fd(x)\n",
    "        iter = iter + 1\n",
    "        if iter >= itermax\n",
    "            break\n",
    "        end\n",
    "    end\n",
    "    return x, f(x), iter\n",
    "end"
   ]
  },
  {
   "cell_type": "code",
   "execution_count": 245,
   "metadata": {
    "collapsed": false
   },
   "outputs": [
    {
     "data": {
      "text/plain": [
       "(0.7071093026784057,2.500003565934341,1000)"
      ]
     },
     "execution_count": 245,
     "metadata": {},
     "output_type": "execute_result"
    }
   ],
   "source": [
    "f(x) = x^2 + 2\n",
    "fd(x) = 2x\n",
    "x0 = 1\n",
    "x, fx, iter = newton(f, fd, x0)"
   ]
  },
  {
   "cell_type": "code",
   "execution_count": 246,
   "metadata": {
    "collapsed": false
   },
   "outputs": [
    {
     "data": {
      "text/plain": [
       "f (generic function with 1 method)"
      ]
     },
     "execution_count": 246,
     "metadata": {},
     "output_type": "execute_result"
    }
   ],
   "source": [
    "using Plots\n",
    "gr()\n",
    "f(x) = x^3 - x"
   ]
  },
  {
   "cell_type": "code",
   "execution_count": 247,
   "metadata": {
    "collapsed": false
   },
   "outputs": [
    {
     "name": "stdout",
     "output_type": "stream",
     "text": [
      "[Plots.jl] Initializing backend: gr\n"
     ]
    },
    {
     "data": {
      "text/html": [
       "<?xml version=\"1.0\" encoding=\"utf-8\"?>\n",
       "<svg xmlns=\"http://www.w3.org/2000/svg\" xmlns:xlink=\"http://www.w3.org/1999/xlink\" width=\"600\" height=\"400\" viewBox=\"0 0 600 400\">\n",
       "<defs>\n",
       "  <clipPath id=\"clip00\">\n",
       "    <rect x=\"0\" y=\"0\" width=\"600\" height=\"400\"/>\n",
       "  </clipPath>\n",
       "</defs>\n",
       "<polygon clip-path=\"url(#clip00)\" points=\"\n",
       "0,400 600,400 600,0 0,0 \n",
       "  \" fill=\"#ffffff\" fill-opacity=\"1\"/>\n",
       "<polygon clip-path=\"url(#clip00)\" points=\"\n",
       "75,350 570,350 570,20 75,20 \n",
       "  \" fill=\"#ffffff\" fill-opacity=\"1\"/>\n",
       "<defs>\n",
       "  <clipPath id=\"clip01\">\n",
       "    <rect x=\"120\" y=\"0\" width=\"421\" height=\"400\"/>\n",
       "  </clipPath>\n",
       "</defs>\n",
       "<defs>\n",
       "  <clipPath id=\"clip02\">\n",
       "    <rect x=\"75\" y=\"20\" width=\"496\" height=\"331\"/>\n",
       "  </clipPath>\n",
       "</defs>\n",
       "<polyline clip-path=\"url(#clip00)\" style=\"stroke:#cccccc; stroke-width:0.8; stroke-opacity:1; fill:none\" points=\"\n",
       "  75,322.5 570,322.5 \n",
       "  \"/>\n",
       "<polyline clip-path=\"url(#clip00)\" style=\"stroke:#ededed; stroke-width:0.8; stroke-opacity:1; fill:none\" points=\"\n",
       "  75,295 570,295 \n",
       "  \"/>\n",
       "<polyline clip-path=\"url(#clip00)\" style=\"stroke:#ededed; stroke-width:0.8; stroke-opacity:1; fill:none\" points=\"\n",
       "  75,267.5 570,267.5 \n",
       "  \"/>\n",
       "<polyline clip-path=\"url(#clip00)\" style=\"stroke:#ededed; stroke-width:0.8; stroke-opacity:1; fill:none\" points=\"\n",
       "  75,240 570,240 \n",
       "  \"/>\n",
       "<polyline clip-path=\"url(#clip00)\" style=\"stroke:#ededed; stroke-width:0.8; stroke-opacity:1; fill:none\" points=\"\n",
       "  75,212.5 570,212.5 \n",
       "  \"/>\n",
       "<polyline clip-path=\"url(#clip00)\" style=\"stroke:#cccccc; stroke-width:0.8; stroke-opacity:1; fill:none\" points=\"\n",
       "  75,185 570,185 \n",
       "  \"/>\n",
       "<polyline clip-path=\"url(#clip00)\" style=\"stroke:#ededed; stroke-width:0.8; stroke-opacity:1; fill:none\" points=\"\n",
       "  75,157.5 570,157.5 \n",
       "  \"/>\n",
       "<polyline clip-path=\"url(#clip00)\" style=\"stroke:#ededed; stroke-width:0.8; stroke-opacity:1; fill:none\" points=\"\n",
       "  75,130 570,130 \n",
       "  \"/>\n",
       "<polyline clip-path=\"url(#clip00)\" style=\"stroke:#ededed; stroke-width:0.8; stroke-opacity:1; fill:none\" points=\"\n",
       "  75,102.5 570,102.5 \n",
       "  \"/>\n",
       "<polyline clip-path=\"url(#clip00)\" style=\"stroke:#ededed; stroke-width:0.8; stroke-opacity:1; fill:none\" points=\"\n",
       "  75,75 570,75 \n",
       "  \"/>\n",
       "<polyline clip-path=\"url(#clip00)\" style=\"stroke:#cccccc; stroke-width:0.8; stroke-opacity:1; fill:none\" points=\"\n",
       "  75,47.5 570,47.5 \n",
       "  \"/>\n",
       "<polyline clip-path=\"url(#clip00)\" style=\"stroke:#ededed; stroke-width:0.8; stroke-opacity:1; fill:none\" points=\"\n",
       "  95.625,350 95.625,20 \n",
       "  \"/>\n",
       "<polyline clip-path=\"url(#clip00)\" style=\"stroke:#cccccc; stroke-width:0.8; stroke-opacity:1; fill:none\" points=\"\n",
       "  116.25,350 116.25,20 \n",
       "  \"/>\n",
       "<polyline clip-path=\"url(#clip00)\" style=\"stroke:#ededed; stroke-width:0.8; stroke-opacity:1; fill:none\" points=\"\n",
       "  136.875,350 136.875,20 \n",
       "  \"/>\n",
       "<polyline clip-path=\"url(#clip00)\" style=\"stroke:#ededed; stroke-width:0.8; stroke-opacity:1; fill:none\" points=\"\n",
       "  157.5,350 157.5,20 \n",
       "  \"/>\n",
       "<polyline clip-path=\"url(#clip00)\" style=\"stroke:#ededed; stroke-width:0.8; stroke-opacity:1; fill:none\" points=\"\n",
       "  178.125,350 178.125,20 \n",
       "  \"/>\n",
       "<polyline clip-path=\"url(#clip00)\" style=\"stroke:#ededed; stroke-width:0.8; stroke-opacity:1; fill:none\" points=\"\n",
       "  198.75,350 198.75,20 \n",
       "  \"/>\n",
       "<polyline clip-path=\"url(#clip00)\" style=\"stroke:#cccccc; stroke-width:0.8; stroke-opacity:1; fill:none\" points=\"\n",
       "  219.375,350 219.375,20 \n",
       "  \"/>\n",
       "<polyline clip-path=\"url(#clip00)\" style=\"stroke:#ededed; stroke-width:0.8; stroke-opacity:1; fill:none\" points=\"\n",
       "  240,350 240,20 \n",
       "  \"/>\n",
       "<polyline clip-path=\"url(#clip00)\" style=\"stroke:#ededed; stroke-width:0.8; stroke-opacity:1; fill:none\" points=\"\n",
       "  260.625,350 260.625,20 \n",
       "  \"/>\n",
       "<polyline clip-path=\"url(#clip00)\" style=\"stroke:#ededed; stroke-width:0.8; stroke-opacity:1; fill:none\" points=\"\n",
       "  281.25,350 281.25,20 \n",
       "  \"/>\n",
       "<polyline clip-path=\"url(#clip00)\" style=\"stroke:#ededed; stroke-width:0.8; stroke-opacity:1; fill:none\" points=\"\n",
       "  301.875,350 301.875,20 \n",
       "  \"/>\n",
       "<polyline clip-path=\"url(#clip00)\" style=\"stroke:#cccccc; stroke-width:0.8; stroke-opacity:1; fill:none\" points=\"\n",
       "  322.5,350 322.5,20 \n",
       "  \"/>\n",
       "<polyline clip-path=\"url(#clip00)\" style=\"stroke:#ededed; stroke-width:0.8; stroke-opacity:1; fill:none\" points=\"\n",
       "  343.125,350 343.125,20 \n",
       "  \"/>\n",
       "<polyline clip-path=\"url(#clip00)\" style=\"stroke:#ededed; stroke-width:0.8; stroke-opacity:1; fill:none\" points=\"\n",
       "  363.75,350 363.75,20 \n",
       "  \"/>\n",
       "<polyline clip-path=\"url(#clip00)\" style=\"stroke:#ededed; stroke-width:0.8; stroke-opacity:1; fill:none\" points=\"\n",
       "  384.375,350 384.375,20 \n",
       "  \"/>\n",
       "<polyline clip-path=\"url(#clip00)\" style=\"stroke:#ededed; stroke-width:0.8; stroke-opacity:1; fill:none\" points=\"\n",
       "  405,350 405,20 \n",
       "  \"/>\n",
       "<polyline clip-path=\"url(#clip00)\" style=\"stroke:#cccccc; stroke-width:0.8; stroke-opacity:1; fill:none\" points=\"\n",
       "  425.625,350 425.625,20 \n",
       "  \"/>\n",
       "<polyline clip-path=\"url(#clip00)\" style=\"stroke:#ededed; stroke-width:0.8; stroke-opacity:1; fill:none\" points=\"\n",
       "  446.25,350 446.25,20 \n",
       "  \"/>\n",
       "<polyline clip-path=\"url(#clip00)\" style=\"stroke:#ededed; stroke-width:0.8; stroke-opacity:1; fill:none\" points=\"\n",
       "  466.875,350 466.875,20 \n",
       "  \"/>\n",
       "<polyline clip-path=\"url(#clip00)\" style=\"stroke:#ededed; stroke-width:0.8; stroke-opacity:1; fill:none\" points=\"\n",
       "  487.5,350 487.5,20 \n",
       "  \"/>\n",
       "<polyline clip-path=\"url(#clip00)\" style=\"stroke:#ededed; stroke-width:0.8; stroke-opacity:1; fill:none\" points=\"\n",
       "  508.125,350 508.125,20 \n",
       "  \"/>\n",
       "<polyline clip-path=\"url(#clip00)\" style=\"stroke:#cccccc; stroke-width:0.8; stroke-opacity:1; fill:none\" points=\"\n",
       "  528.75,350 528.75,20 \n",
       "  \"/>\n",
       "<polyline clip-path=\"url(#clip00)\" style=\"stroke:#ededed; stroke-width:0.8; stroke-opacity:1; fill:none\" points=\"\n",
       "  549.375,350 549.375,20 \n",
       "  \"/>\n",
       "<g clip-path=\"url(#clip00)\">\n",
       "<text style=\"fill:#00002d; fill-opacity:1; font-family:Arial; font-size:15; text-anchor:start;\" transform=\"rotate(0, 41.5415, 326.73)\" x=\"41.5415\" y=\"326.73\">-</text>\n",
       "</g>\n",
       "<g clip-path=\"url(#clip00)\">\n",
       "<text style=\"fill:#00002d; fill-opacity:1; font-family:Arial; font-size:15; text-anchor:start;\" transform=\"rotate(0, 50.12, 326.73)\" x=\"50.12\" y=\"326.73\">0.5</text>\n",
       "</g>\n",
       "<g clip-path=\"url(#clip00)\">\n",
       "<text style=\"fill:#00002d; fill-opacity:1; font-family:Arial; font-size:15; text-anchor:start;\" transform=\"rotate(0, 62.3709, 189.23)\" x=\"62.3709\" y=\"189.23\">0</text>\n",
       "</g>\n",
       "<g clip-path=\"url(#clip00)\">\n",
       "<text style=\"fill:#00002d; fill-opacity:1; font-family:Arial; font-size:15; text-anchor:start;\" transform=\"rotate(0, 50.12, 51.7299)\" x=\"50.12\" y=\"51.7299\">0.5</text>\n",
       "</g>\n",
       "<polyline clip-path=\"url(#clip00)\" style=\"stroke:#00002d; stroke-width:0.8; stroke-opacity:1; fill:none\" points=\"\n",
       "  75,350 75,322.5 83.9237,322.5 75,322.5 75,295 79.4619,295 75,295 75,267.5 79.4619,267.5 75,267.5 \n",
       "  75,240 79.4619,240 75,240 75,212.5 79.4619,212.5 75,212.5 75,185 83.9237,185 75,185 75,157.5 \n",
       "  79.4619,157.5 75,157.5 75,130 79.4619,130 75,130 75,102.5 79.4619,102.5 75,102.5 75,75 79.4619,75 \n",
       "  75,75 75,47.5 83.9237,47.5 75,47.5 75,20 79.4619,20 75,20 \n",
       "  \"/>\n",
       "<g clip-path=\"url(#clip00)\">\n",
       "<text style=\"fill:#00002d; fill-opacity:1; font-family:Arial; font-size:15; text-anchor:start;\" transform=\"rotate(0, 101.752, 367.74)\" x=\"101.752\" y=\"367.74\">-</text>\n",
       "</g>\n",
       "<g clip-path=\"url(#clip00)\">\n",
       "<text style=\"fill:#00002d; fill-opacity:1; font-family:Arial; font-size:15; text-anchor:start;\" transform=\"rotate(0, 110.33, 367.74)\" x=\"110.33\" y=\"367.74\">1.0</text>\n",
       "</g>\n",
       "<g clip-path=\"url(#clip00)\">\n",
       "<text style=\"fill:#00002d; fill-opacity:1; font-family:Arial; font-size:15; text-anchor:start;\" transform=\"rotate(0, 204.877, 367.74)\" x=\"204.877\" y=\"367.74\">-</text>\n",
       "</g>\n",
       "<g clip-path=\"url(#clip00)\">\n",
       "<text style=\"fill:#00002d; fill-opacity:1; font-family:Arial; font-size:15; text-anchor:start;\" transform=\"rotate(0, 213.455, 367.74)\" x=\"213.455\" y=\"367.74\">0.5</text>\n",
       "</g>\n",
       "<g clip-path=\"url(#clip00)\">\n",
       "<text style=\"fill:#00002d; fill-opacity:1; font-family:Arial; font-size:15; text-anchor:start;\" transform=\"rotate(0, 318.416, 367.74)\" x=\"318.416\" y=\"367.74\">0</text>\n",
       "</g>\n",
       "<g clip-path=\"url(#clip00)\">\n",
       "<text style=\"fill:#00002d; fill-opacity:1; font-family:Arial; font-size:15; text-anchor:start;\" transform=\"rotate(0, 415.416, 367.74)\" x=\"415.416\" y=\"367.74\">0.5</text>\n",
       "</g>\n",
       "<g clip-path=\"url(#clip00)\">\n",
       "<text style=\"fill:#00002d; fill-opacity:1; font-family:Arial; font-size:15; text-anchor:start;\" transform=\"rotate(0, 518.541, 367.74)\" x=\"518.541\" y=\"367.74\">1.0</text>\n",
       "</g>\n",
       "<polyline clip-path=\"url(#clip00)\" style=\"stroke:#00002d; stroke-width:0.8; stroke-opacity:1; fill:none\" points=\"\n",
       "  75,350 95.625,350 95.625,345.538 95.625,350 116.25,350 116.25,341.076 116.25,350 136.875,350 136.875,345.538 136.875,350 \n",
       "  157.5,350 157.5,345.538 157.5,350 178.125,350 178.125,345.538 178.125,350 198.75,350 198.75,345.538 198.75,350 219.375,350 \n",
       "  219.375,341.076 219.375,350 240,350 240,345.538 240,350 260.625,350 260.625,345.538 260.625,350 281.25,350 281.25,345.538 \n",
       "  281.25,350 301.875,350 301.875,345.538 301.875,350 322.5,350 322.5,341.076 322.5,350 343.125,350 343.125,345.538 343.125,350 \n",
       "  363.75,350 363.75,345.538 363.75,350 384.375,350 384.375,345.538 384.375,350 405,350 405,345.538 405,350 425.625,350 \n",
       "  425.625,341.076 425.625,350 446.25,350 446.25,345.538 446.25,350 466.875,350 466.875,345.538 466.875,350 487.5,350 487.5,345.538 \n",
       "  487.5,350 508.125,350 508.125,345.538 508.125,350 528.75,350 528.75,341.076 528.75,350 549.375,350 549.375,345.538 549.375,350 \n",
       "  570,350 570,345.538 570,350 \n",
       "  \"/>\n",
       "<polyline clip-path=\"url(#clip00)\" style=\"stroke:#00002d; stroke-width:0.8; stroke-opacity:1; fill:none\" points=\"\n",
       "  570,350 570,322.5 561.076,322.5 570,322.5 570,295 565.538,295 570,295 570,267.5 565.538,267.5 570,267.5 \n",
       "  570,240 565.538,240 570,240 570,212.5 565.538,212.5 570,212.5 570,185 561.076,185 570,185 570,157.5 \n",
       "  565.538,157.5 570,157.5 570,130 565.538,130 570,130 570,102.5 565.538,102.5 570,102.5 570,75 565.538,75 \n",
       "  570,75 570,47.5 561.076,47.5 570,47.5 570,20 565.538,20 570,20 \n",
       "  \"/>\n",
       "<polyline clip-path=\"url(#clip00)\" style=\"stroke:#00002d; stroke-width:0.8; stroke-opacity:1; fill:none\" points=\"\n",
       "  75,20 95.625,20 95.625,24.4619 95.625,20 116.25,20 116.25,28.9237 116.25,20 136.875,20 136.875,24.4619 136.875,20 \n",
       "  157.5,20 157.5,24.4619 157.5,20 178.125,20 178.125,24.4619 178.125,20 198.75,20 198.75,24.4619 198.75,20 219.375,20 \n",
       "  219.375,28.9237 219.375,20 240,20 240,24.4619 240,20 260.625,20 260.625,24.4619 260.625,20 281.25,20 281.25,24.4619 \n",
       "  281.25,20 301.875,20 301.875,24.4619 301.875,20 322.5,20 322.5,28.9237 322.5,20 343.125,20 343.125,24.4619 343.125,20 \n",
       "  363.75,20 363.75,24.4619 363.75,20 384.375,20 384.375,24.4619 384.375,20 405,20 405,24.4619 405,20 425.625,20 \n",
       "  425.625,28.9237 425.625,20 446.25,20 446.25,24.4619 446.25,20 466.875,20 466.875,24.4619 466.875,20 487.5,20 487.5,24.4619 \n",
       "  487.5,20 508.125,20 508.125,24.4619 508.125,20 528.75,20 528.75,28.9237 528.75,20 549.375,20 549.375,24.4619 549.375,20 \n",
       "  570,20 570,24.4619 570,20 \n",
       "  \"/>\n",
       "<polyline clip-path=\"url(#clip02)\" style=\"stroke:#0099ff; stroke-width:0.8; stroke-opacity:1; fill:none\" points=\"\n",
       "  75,330.2 75.8264,326.558 76.6528,322.947 77.4791,319.368 78.3055,315.821 79.1319,312.305 79.9583,308.82 80.7846,305.366 81.611,301.943 82.4374,298.552 \n",
       "  83.2638,295.191 84.0902,291.86 84.9165,288.561 85.7429,285.292 86.5693,282.053 87.3957,278.845 88.222,275.667 89.0484,272.519 89.8748,269.4 90.7012,266.312 \n",
       "  91.5275,263.254 92.3539,260.225 93.1803,257.226 94.0067,254.256 94.8331,251.315 95.6594,248.404 96.4858,245.522 97.3122,242.669 98.1386,239.845 98.9649,237.05 \n",
       "  99.7913,234.283 100.618,231.545 101.444,228.836 102.27,226.155 103.097,223.502 103.923,220.877 104.75,218.28 105.576,215.712 106.402,213.171 107.229,210.658 \n",
       "  108.055,208.173 108.881,205.715 109.708,203.285 110.534,200.882 111.361,198.506 112.187,196.157 113.013,193.835 113.84,191.54 114.666,189.272 115.492,187.031 \n",
       "  116.319,184.816 117.145,182.628 117.972,180.466 118.798,178.331 119.624,176.221 120.451,174.138 121.277,172.08 122.104,170.049 122.93,168.043 123.756,166.063 \n",
       "  124.583,164.108 125.409,162.179 126.235,160.275 127.062,158.396 127.888,156.542 128.715,154.714 129.541,152.91 130.367,151.131 131.194,149.377 132.02,147.647 \n",
       "  132.846,145.942 133.673,144.261 134.499,142.604 135.326,140.971 136.152,139.363 136.978,137.778 137.805,136.217 138.631,134.68 139.457,133.167 140.284,131.677 \n",
       "  141.11,130.211 141.937,128.767 142.763,127.347 143.589,125.95 144.416,124.576 145.242,123.225 146.068,121.897 146.895,120.591 147.721,119.308 148.548,118.048 \n",
       "  149.374,116.809 150.2,115.593 151.027,114.399 151.853,113.227 152.679,112.077 153.506,110.949 154.332,109.842 155.159,108.758 155.985,107.694 156.811,106.652 \n",
       "  157.638,105.631 158.464,104.632 159.29,103.653 160.117,102.696 160.943,101.759 161.77,100.843 162.596,99.9477 163.422,99.0729 164.249,98.2185 165.075,97.3845 \n",
       "  165.902,96.5707 166.728,95.777 167.554,95.0033 168.381,94.2495 169.207,93.5155 170.033,92.8012 170.86,92.1065 171.686,91.4312 172.513,90.7753 173.339,90.1387 \n",
       "  174.165,89.5212 174.992,88.9228 175.818,88.3433 176.644,87.7827 177.471,87.2408 178.297,86.7175 179.124,86.2128 179.95,85.7264 180.776,85.2584 181.603,84.8085 \n",
       "  182.429,84.3768 183.255,83.963 184.082,83.5672 184.908,83.1891 185.735,82.8286 186.561,82.4858 187.387,82.1604 188.214,81.8523 189.04,81.5615 189.866,81.2879 \n",
       "  190.693,81.0312 191.519,80.7915 192.346,80.5687 193.172,80.3625 193.998,80.1729 194.825,79.9999 195.651,79.8432 196.477,79.7029 197.304,79.5787 198.13,79.4706 \n",
       "  198.957,79.3785 199.783,79.3022 200.609,79.2417 201.436,79.1968 202.262,79.1676 203.088,79.1537 203.915,79.1552 204.741,79.1719 205.568,79.2037 206.394,79.2506 \n",
       "  207.22,79.3123 208.047,79.3889 208.873,79.4802 209.699,79.586 210.526,79.7064 211.352,79.8411 212.179,79.9901 213.005,80.1532 213.831,80.3305 214.658,80.5217 \n",
       "  215.484,80.7267 216.311,80.9455 217.137,81.1779 217.963,81.4238 218.79,81.6832 219.616,81.9559 220.442,82.2418 221.269,82.5408 222.095,82.8528 222.922,83.1777 \n",
       "  223.748,83.5154 224.574,83.8658 225.401,84.2288 226.227,84.6042 227.053,84.992 227.88,85.392 228.706,85.8042 229.533,86.2285 230.359,86.6647 231.185,87.1127 \n",
       "  232.012,87.5724 232.838,88.0438 233.664,88.5267 234.491,89.021 235.317,89.5266 236.144,90.0434 236.97,90.5713 237.796,91.1101 238.623,91.6599 239.449,92.2204 \n",
       "  240.275,92.7916 241.102,93.3733 241.928,93.9655 242.755,94.5681 243.581,95.1808 244.407,95.8038 245.234,96.4367 246.06,97.0796 246.886,97.7323 247.713,98.3947 \n",
       "  248.539,99.0667 249.366,99.7482 250.192,100.439 251.018,101.139 251.845,101.849 252.671,102.567 253.497,103.294 254.324,104.031 255.15,104.776 255.977,105.529 \n",
       "  256.803,106.292 257.629,107.062 258.456,107.841 259.282,108.629 260.109,109.424 260.935,110.227 261.761,111.038 262.588,111.857 263.414,112.684 264.24,113.519 \n",
       "  265.067,114.36 265.893,115.21 266.72,116.066 267.546,116.93 268.372,117.8 269.199,118.678 270.025,119.562 270.851,120.454 271.678,121.352 272.504,122.256 \n",
       "  273.331,123.167 274.157,124.084 274.983,125.007 275.81,125.937 276.636,126.872 277.462,127.813 278.289,128.76 279.115,129.713 279.942,130.671 280.768,131.635 \n",
       "  281.594,132.604 282.421,133.579 283.247,134.558 284.073,135.543 284.9,136.533 285.726,137.527 286.553,138.526 287.379,139.53 288.205,140.538 289.032,141.551 \n",
       "  289.858,142.568 290.684,143.589 291.511,144.614 292.337,145.643 293.164,146.676 293.99,147.713 294.816,148.753 295.643,149.798 296.469,150.845 297.295,151.896 \n",
       "  298.122,152.95 298.948,154.007 299.775,155.067 300.601,156.131 301.427,157.196 302.254,158.265 303.08,159.336 303.907,160.41 304.733,161.486 305.559,162.565 \n",
       "  306.386,163.645 307.212,164.728 308.038,165.813 308.865,166.899 309.691,167.987 310.518,169.077 311.344,170.169 312.17,171.262 312.997,172.356 313.823,173.451 \n",
       "  314.649,174.548 315.476,175.645 316.302,176.744 317.129,177.843 317.955,178.943 318.781,180.043 319.608,181.144 320.434,182.246 321.26,183.347 322.087,184.449 \n",
       "  322.913,185.551 323.74,186.653 324.566,187.754 325.392,188.856 326.219,189.957 327.045,191.057 327.871,192.157 328.698,193.256 329.524,194.355 330.351,195.452 \n",
       "  331.177,196.549 332.003,197.644 332.83,198.738 333.656,199.831 334.482,200.923 335.309,202.013 336.135,203.101 336.962,204.187 337.788,205.272 338.614,206.355 \n",
       "  339.441,207.435 340.267,208.514 341.093,209.59 341.92,210.664 342.746,211.735 343.573,212.804 344.399,213.869 345.225,214.933 346.052,215.993 346.878,217.05 \n",
       "  347.705,218.104 348.531,219.155 349.357,220.202 350.184,221.247 351.01,222.287 351.836,223.324 352.663,224.357 353.489,225.386 354.316,226.411 355.142,227.432 \n",
       "  355.968,228.449 356.795,229.462 357.621,230.47 358.447,231.474 359.274,232.473 360.1,233.467 360.927,234.457 361.753,235.442 362.579,236.421 363.406,237.396 \n",
       "  364.232,238.365 365.058,239.329 365.885,240.287 366.711,241.24 367.538,242.187 368.364,243.128 369.19,244.063 370.017,244.993 370.843,245.916 371.669,246.833 \n",
       "  372.496,247.744 373.322,248.648 374.149,249.546 374.975,250.438 375.801,251.322 376.628,252.2 377.454,253.07 378.28,253.934 379.107,254.79 379.933,255.64 \n",
       "  380.76,256.481 381.586,257.316 382.412,258.143 383.239,258.962 384.065,259.773 384.891,260.576 385.718,261.371 386.544,262.159 387.371,262.938 388.197,263.708 \n",
       "  389.023,264.471 389.85,265.224 390.676,265.969 391.503,266.706 392.329,267.433 393.155,268.151 393.982,268.861 394.808,269.561 395.634,270.252 396.461,270.933 \n",
       "  397.287,271.605 398.114,272.268 398.94,272.92 399.766,273.563 400.593,274.196 401.419,274.819 402.245,275.432 403.072,276.034 403.898,276.627 404.725,277.208 \n",
       "  405.551,277.78 406.377,278.34 407.204,278.89 408.03,279.429 408.856,279.957 409.683,280.473 410.509,280.979 411.336,281.473 412.162,281.956 412.988,282.428 \n",
       "  413.815,282.887 414.641,283.335 415.467,283.772 416.294,284.196 417.12,284.608 417.947,285.008 418.773,285.396 419.599,285.771 420.426,286.134 421.252,286.485 \n",
       "  422.078,286.822 422.905,287.147 423.731,287.459 424.558,287.758 425.384,288.044 426.21,288.317 427.037,288.576 427.863,288.822 428.689,289.055 429.516,289.273 \n",
       "  430.342,289.478 431.169,289.67 431.995,289.847 432.821,290.01 433.648,290.159 434.474,290.294 435.301,290.414 436.127,290.52 436.953,290.611 437.78,290.688 \n",
       "  438.606,290.749 439.432,290.796 440.259,290.828 441.085,290.845 441.912,290.846 442.738,290.832 443.564,290.803 444.391,290.758 445.217,290.698 446.043,290.622 \n",
       "  446.87,290.529 447.696,290.421 448.523,290.297 449.349,290.157 450.175,290 451.002,289.827 451.828,289.638 452.654,289.431 453.481,289.208 454.307,288.969 \n",
       "  455.134,288.712 455.96,288.438 456.786,288.148 457.613,287.84 458.439,287.514 459.265,287.171 460.092,286.811 460.918,286.433 461.745,286.037 462.571,285.623 \n",
       "  463.397,285.191 464.224,284.742 465.05,284.274 465.876,283.787 466.703,283.282 467.529,282.759 468.356,282.217 469.182,281.657 470.008,281.077 470.835,280.479 \n",
       "  471.661,279.861 472.487,279.225 473.314,278.569 474.14,277.894 474.967,277.199 475.793,276.484 476.619,275.75 477.446,274.997 478.272,274.223 479.098,273.429 \n",
       "  479.925,272.615 480.751,271.781 481.578,270.927 482.404,270.052 483.23,269.157 484.057,268.241 484.883,267.304 485.71,266.347 486.536,265.368 487.362,264.369 \n",
       "  488.189,263.348 489.015,262.306 489.841,261.242 490.668,260.158 491.494,259.051 492.321,257.923 493.147,256.773 493.973,255.601 494.8,254.407 495.626,253.191 \n",
       "  496.452,251.952 497.279,250.692 498.105,249.409 498.932,248.103 499.758,246.775 500.584,245.424 501.411,244.05 502.237,242.653 503.063,241.233 503.89,239.789 \n",
       "  504.716,238.323 505.543,236.833 506.369,235.32 507.195,233.783 508.022,232.222 508.848,230.637 509.674,229.029 510.501,227.396 511.327,225.739 512.154,224.058 \n",
       "  512.98,222.353 513.806,220.623 514.633,218.869 515.459,217.09 516.285,215.286 517.112,213.458 517.938,211.604 518.765,209.725 519.591,207.821 520.417,205.892 \n",
       "  521.244,203.937 522.07,201.957 522.896,199.951 523.723,197.92 524.549,195.862 525.376,193.779 526.202,191.669 527.028,189.534 527.855,187.372 528.681,185.184 \n",
       "  529.508,182.969 530.334,180.728 531.16,178.46 531.987,176.165 532.813,173.843 533.639,171.494 534.466,169.118 535.292,166.715 536.119,164.285 536.945,161.827 \n",
       "  537.771,159.342 538.598,156.829 539.424,154.288 540.25,151.72 541.077,149.123 541.903,146.498 542.73,143.845 543.556,141.164 544.382,138.455 545.209,135.717 \n",
       "  546.035,132.95 546.861,130.155 547.688,127.331 548.514,124.478 549.341,121.596 550.167,118.685 550.993,115.744 551.82,112.774 552.646,109.775 553.472,106.746 \n",
       "  554.299,103.688 555.125,100.6 555.952,97.4815 556.778,94.3334 557.604,91.1552 558.431,87.9469 559.257,84.7082 560.083,81.4391 560.91,78.1396 561.736,74.8094 \n",
       "  562.563,71.4484 563.389,68.0567 564.215,64.634 565.042,61.1803 565.868,57.6954 566.694,54.1792 567.521,50.6317 568.347,47.0528 569.174,43.4422 570,39.8 \n",
       "  \n",
       "  \"/>\n",
       "<polygon clip-path=\"url(#clip00)\" points=\"\n",
       "476.488,73.8475 552,73.8475 552,38.1525 476.488,38.1525 \n",
       "  \" fill=\"#ffffff\" fill-opacity=\"1\"/>\n",
       "<polyline clip-path=\"url(#clip00)\" style=\"stroke:#00002d; stroke-width:0.8; stroke-opacity:1; fill:none\" points=\"\n",
       "  476.488,73.8475 552,73.8475 552,38.1525 476.488,38.1525 476.488,73.8475 \n",
       "  \"/>\n",
       "<polyline clip-path=\"url(#clip00)\" style=\"stroke:#0099ff; stroke-width:0.8; stroke-opacity:1; fill:none\" points=\"\n",
       "  482.488,56 518.488,56 \n",
       "  \"/>\n",
       "<g clip-path=\"url(#clip00)\">\n",
       "<text style=\"fill:#00002d; fill-opacity:1; font-family:Arial; font-size:15; text-anchor:start;\" transform=\"rotate(0, 524.488, 61.5)\" x=\"524.488\" y=\"61.5\">y1</text>\n",
       "</g>\n",
       "</svg>\n"
      ]
     },
     "execution_count": 247,
     "metadata": {},
     "output_type": "execute_result"
    }
   ],
   "source": [
    "plot(f, -1.2, 1.2)"
   ]
  },
  {
   "cell_type": "code",
   "execution_count": null,
   "metadata": {
    "collapsed": true
   },
   "outputs": [],
   "source": []
  }
 ],
 "metadata": {
  "kernelspec": {
   "display_name": "Julia 0.5.0",
   "language": "julia",
   "name": "julia-0.5"
  },
  "language_info": {
   "file_extension": ".jl",
   "mimetype": "application/julia",
   "name": "julia",
   "version": "0.5.0"
  }
 },
 "nbformat": 4,
 "nbformat_minor": 0
}
