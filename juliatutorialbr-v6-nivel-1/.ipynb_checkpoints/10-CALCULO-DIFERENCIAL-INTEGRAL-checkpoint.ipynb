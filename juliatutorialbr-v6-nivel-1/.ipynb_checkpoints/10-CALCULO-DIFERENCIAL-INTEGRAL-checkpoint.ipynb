{
 "cells": [
  {
   "cell_type": "markdown",
   "metadata": {},
   "source": [
    "# CALCULO INTEGRAL E DIFERENCIAL"
   ]
  },
  {
   "cell_type": "markdown",
   "metadata": {
    "collapsed": false
   },
   "source": [
    "Julia possui importantes ferramentas matemáticas na resolução de vários problemas em diversos campos das ciências. Aqui neste tutorial, será utilizado 2 pacotes para cálculo diferencial e integral:\n",
    "\n",
    "* **SymPy**\n",
    "\n",
    "O pacote SymPy é uma biblioteca Python para matemática simbólica no qual podemos ter acesso via pacote PyCall de julia. SymPy fornece uma interface para cálculo diferencial (definido e indefinido) e integral (definido e indefinido).\n",
    "\n",
    "\n",
    "* **Cubature**\n",
    "\n",
    "Este pacote fornece rotinas de integração adaptativas Uni e multi-dimensionais para a linguagem de Julia,com base no pacote Cubature escrito por Steven G. Johnson para C"
   ]
  },
  {
   "cell_type": "markdown",
   "metadata": {},
   "source": [
    "## LIMITES DE UMA FUNÇÃO\n",
    "\n",
    "Somente é possível operar variáveis simbólicas com o SymPy, logo, funções puramente genéricas e puramente anônimas não podem ser calculadas."
   ]
  },
  {
   "cell_type": "markdown",
   "metadata": {},
   "source": [
    "#### LIMITE SIMBÓLICO BÁSICO"
   ]
  },
  {
   "cell_type": "code",
   "execution_count": 9,
   "metadata": {
    "collapsed": false,
    "scrolled": false
   },
   "outputs": [
    {
     "data": {
      "text/plain": [
       "(x,y)"
      ]
     },
     "execution_count": 9,
     "metadata": {},
     "output_type": "execute_result"
    }
   ],
   "source": [
    "using SymPy\n",
    "@syms x y"
   ]
  },
  {
   "cell_type": "markdown",
   "metadata": {},
   "source": [
    "$ \\displaystyle \\lim_{x\\rightarrow 1}{(x - 1)^2\\over{(x - 1)} }$"
   ]
  },
  {
   "cell_type": "code",
   "execution_count": 10,
   "metadata": {
    "collapsed": false,
    "scrolled": true
   },
   "outputs": [
    {
     "data": {
      "text/latex": [
       "$$0$$"
      ],
      "text/plain": [
       "0"
      ]
     },
     "execution_count": 10,
     "metadata": {},
     "output_type": "execute_result"
    }
   ],
   "source": [
    "limit((x-1)^2 / (x-1), x,1 ) "
   ]
  },
  {
   "cell_type": "markdown",
   "metadata": {},
   "source": [
    "Ou ainda"
   ]
  },
  {
   "cell_type": "code",
   "execution_count": 11,
   "metadata": {
    "collapsed": false
   },
   "outputs": [
    {
     "data": {
      "text/plain": [
       "fx (generic function with 1 method)"
      ]
     },
     "execution_count": 11,
     "metadata": {},
     "output_type": "execute_result"
    }
   ],
   "source": [
    "fx(x) = (x-1)^2 / (x - 1)"
   ]
  },
  {
   "cell_type": "code",
   "execution_count": 13,
   "metadata": {
    "collapsed": false,
    "scrolled": true
   },
   "outputs": [
    {
     "data": {
      "text/latex": [
       "$$0$$"
      ],
      "text/plain": [
       "0"
      ]
     },
     "execution_count": 13,
     "metadata": {},
     "output_type": "execute_result"
    }
   ],
   "source": [
    "limit(fx(x), x, 1 ) "
   ]
  },
  {
   "cell_type": "markdown",
   "metadata": {},
   "source": [
    "** Limite função duas variáveis**\n",
    "\n",
    "$ \\displaystyle \\lim_{x\\rightarrow 1, y\\rightarrow 1}{xy - 2x + y }$"
   ]
  },
  {
   "cell_type": "code",
   "execution_count": 14,
   "metadata": {
    "collapsed": false
   },
   "outputs": [
    {
     "data": {
      "text/plain": [
       "fxy (generic function with 1 method)"
      ]
     },
     "execution_count": 14,
     "metadata": {},
     "output_type": "execute_result"
    }
   ],
   "source": [
    "fxy(x, y) = x*y - 2*x + y"
   ]
  },
  {
   "cell_type": "code",
   "execution_count": 15,
   "metadata": {
    "collapsed": false,
    "scrolled": true
   },
   "outputs": [
    {
     "data": {
      "text/latex": [
       "$$0$$"
      ],
      "text/plain": [
       "0"
      ]
     },
     "execution_count": 15,
     "metadata": {},
     "output_type": "execute_result"
    }
   ],
   "source": [
    "limit(limit(fxy(x,y), x, 1), y, 1)"
   ]
  },
  {
   "cell_type": "markdown",
   "metadata": {},
   "source": [
    "#### LIMITE SIMBÓLICO INFINITO\n",
    "\n",
    "$ \\displaystyle \\lim_{x\\rightarrow \\infty}{1 \\over x^2 }$"
   ]
  },
  {
   "cell_type": "code",
   "execution_count": 16,
   "metadata": {
    "collapsed": false
   },
   "outputs": [
    {
     "data": {
      "text/latex": [
       "$$0$$"
      ],
      "text/plain": [
       "0"
      ]
     },
     "execution_count": 16,
     "metadata": {},
     "output_type": "execute_result"
    }
   ],
   "source": [
    "limit(1/x^2, x, oo)"
   ]
  },
  {
   "cell_type": "code",
   "execution_count": 17,
   "metadata": {
    "collapsed": false
   },
   "outputs": [
    {
     "data": {
      "text/latex": [
       "$$\\infty$$"
      ],
      "text/plain": [
       "oo"
      ]
     },
     "execution_count": 17,
     "metadata": {},
     "output_type": "execute_result"
    }
   ],
   "source": [
    "limit(1/x^2, x, 0)"
   ]
  },
  {
   "cell_type": "markdown",
   "metadata": {},
   "source": [
    "#### LIMITE NUMÉRICO\n",
    "\n",
    "SymPy não define um comando para calcular o limite numérico"
   ]
  },
  {
   "cell_type": "code",
   "execution_count": 18,
   "metadata": {
    "collapsed": false
   },
   "outputs": [
    {
     "data": {
      "text/plain": [
       "(x,)"
      ]
     },
     "execution_count": 18,
     "metadata": {},
     "output_type": "execute_result"
    }
   ],
   "source": [
    "using SymPy\n",
    "@syms x"
   ]
  },
  {
   "cell_type": "code",
   "execution_count": 19,
   "metadata": {
    "collapsed": false,
    "scrolled": true
   },
   "outputs": [
    {
     "data": {
      "text/plain": [
       "fln (generic function with 1 method)"
      ]
     },
     "execution_count": 19,
     "metadata": {},
     "output_type": "execute_result"
    }
   ],
   "source": [
    "fln(x) = (x - 1)^2/(x + 1)"
   ]
  },
  {
   "cell_type": "code",
   "execution_count": 20,
   "metadata": {
    "collapsed": false,
    "scrolled": true
   },
   "outputs": [
    {
     "data": {
      "text/plain": [
       "0.9999999999999969"
      ]
     },
     "execution_count": 20,
     "metadata": {},
     "output_type": "execute_result"
    }
   ],
   "source": [
    "# Limite pela direita\n",
    "fln(1e-15)"
   ]
  },
  {
   "cell_type": "markdown",
   "metadata": {},
   "source": [
    "** Forma visual do limite x -> 0**"
   ]
  },
  {
   "cell_type": "code",
   "execution_count": 21,
   "metadata": {
    "collapsed": false
   },
   "outputs": [
    {
     "data": {
      "text/plain": [
       "11×2 Array{Float64,2}:\n",
       " 1.0      0.0     \n",
       " 0.1      0.736364\n",
       " 0.01     0.970396\n",
       " 0.001    0.997004\n",
       " 0.0001   0.9997  \n",
       " 1.0e-5   0.99997 \n",
       " 1.0e-6   0.999997\n",
       " 1.0e-7   1.0     \n",
       " 1.0e-8   1.0     \n",
       " 1.0e-9   1.0     \n",
       " 1.0e-10  1.0     "
      ]
     },
     "execution_count": 21,
     "metadata": {},
     "output_type": "execute_result"
    }
   ],
   "source": [
    "xln = [10.0^-i for i in 0:10]\n",
    "\n",
    "yln = [fln(i)  for i in xln]\n",
    "\n",
    "[xln yln]"
   ]
  },
  {
   "cell_type": "markdown",
   "metadata": {},
   "source": [
    "## DERIVADA DE UMA FUNÇÃO\n",
    "\n",
    "Somente é possível operar com o SymPy com variáveis simbólicas, logo, funções puramente genéricas e anônimas não podem ser calculadas."
   ]
  },
  {
   "cell_type": "markdown",
   "metadata": {},
   "source": [
    "### DERIVADA SIMBÓLICA INDEFINIDA"
   ]
  },
  {
   "cell_type": "code",
   "execution_count": 22,
   "metadata": {
    "collapsed": false
   },
   "outputs": [
    {
     "data": {
      "text/plain": [
       "(x,)"
      ]
     },
     "execution_count": 22,
     "metadata": {},
     "output_type": "execute_result"
    }
   ],
   "source": [
    "using SymPy\n",
    "@syms x"
   ]
  },
  {
   "cell_type": "code",
   "execution_count": 23,
   "metadata": {
    "collapsed": false
   },
   "outputs": [
    {
     "name": "stderr",
     "output_type": "stream",
     "text": [
      "WARNING: Method definition fx(Any) in module Main at In[11]:1 overwritten at In[23]:1.\n"
     ]
    },
    {
     "data": {
      "text/plain": [
       "fx (generic function with 1 method)"
      ]
     },
     "execution_count": 23,
     "metadata": {},
     "output_type": "execute_result"
    }
   ],
   "source": [
    "fx(x) = x^2 + 3*x"
   ]
  },
  {
   "cell_type": "markdown",
   "metadata": {},
   "source": [
    "$ \\displaystyle {{d \\over dx} {(x^2 + 3x)}} $"
   ]
  },
  {
   "cell_type": "code",
   "execution_count": 24,
   "metadata": {
    "collapsed": false,
    "scrolled": true
   },
   "outputs": [
    {
     "data": {
      "text/latex": [
       "$$2 x + 3$$"
      ],
      "text/plain": [
       "2*x + 3"
      ]
     },
     "execution_count": 24,
     "metadata": {},
     "output_type": "execute_result"
    }
   ],
   "source": [
    "# Primeira derivada\n",
    "\n",
    "diff(fx(x), x, 1)"
   ]
  },
  {
   "cell_type": "markdown",
   "metadata": {},
   "source": [
    "outra forma interessante "
   ]
  },
  {
   "cell_type": "code",
   "execution_count": 25,
   "metadata": {
    "collapsed": false,
    "scrolled": true
   },
   "outputs": [
    {
     "data": {
      "text/latex": [
       "$$\\frac{d}{d x}\\left(x^{2} + 3 x\\right)$$"
      ],
      "text/plain": [
       "d / 2      \\\n",
       "--\\x  + 3*x/\n",
       "dx          "
      ]
     },
     "execution_count": 25,
     "metadata": {},
     "output_type": "execute_result"
    }
   ],
   "source": [
    "der1 =  Derivative(fx(x), x, 1)"
   ]
  },
  {
   "cell_type": "code",
   "execution_count": 26,
   "metadata": {
    "collapsed": false
   },
   "outputs": [
    {
     "data": {
      "text/latex": [
       "$$2 x + 3$$"
      ],
      "text/plain": [
       "2*x + 3"
      ]
     },
     "execution_count": 26,
     "metadata": {},
     "output_type": "execute_result"
    }
   ],
   "source": [
    "doit(der1)"
   ]
  },
  {
   "cell_type": "code",
   "execution_count": 27,
   "metadata": {
    "collapsed": false
   },
   "outputs": [
    {
     "data": {
      "text/latex": [
       "$$2$$"
      ],
      "text/plain": [
       "2"
      ]
     },
     "execution_count": 27,
     "metadata": {},
     "output_type": "execute_result"
    }
   ],
   "source": [
    "# Segunda derivada\n",
    "\n",
    "diff(fx(x), x, 2)"
   ]
  },
  {
   "cell_type": "markdown",
   "metadata": {},
   "source": [
    "outra forma interessante"
   ]
  },
  {
   "cell_type": "code",
   "execution_count": 189,
   "metadata": {
    "collapsed": false
   },
   "outputs": [
    {
     "data": {
      "text/latex": [
       "$$\\frac{d^{2}}{d x^{2}} \\left(x^{2} + 3 x\\right)$$"
      ],
      "text/plain": [
       "  2          \n",
       " d / 2      \\\n",
       "---\\x  + 3*x/\n",
       "  2          \n",
       "dx           "
      ]
     },
     "execution_count": 189,
     "metadata": {},
     "output_type": "execute_result"
    }
   ],
   "source": [
    "der2 = Derivative(fx(x), x, 2)"
   ]
  },
  {
   "cell_type": "code",
   "execution_count": 190,
   "metadata": {
    "collapsed": false
   },
   "outputs": [
    {
     "data": {
      "text/latex": [
       "$$2$$"
      ],
      "text/plain": [
       "2"
      ]
     },
     "execution_count": 190,
     "metadata": {},
     "output_type": "execute_result"
    }
   ],
   "source": [
    "doit(der2)"
   ]
  },
  {
   "cell_type": "code",
   "execution_count": 191,
   "metadata": {
    "collapsed": false
   },
   "outputs": [
    {
     "data": {
      "text/latex": [
       "$$0$$"
      ],
      "text/plain": [
       "0"
      ]
     },
     "execution_count": 191,
     "metadata": {},
     "output_type": "execute_result"
    }
   ],
   "source": [
    "# Terceira derivada\n",
    "diff(fx(x), x, 3)"
   ]
  },
  {
   "cell_type": "markdown",
   "metadata": {
    "collapsed": true
   },
   "source": [
    "### DERIVADA SIMBÓLICA DEFINIDA \n",
    "\n",
    "Sintaxe:\n",
    "```julia\n",
    "diff(função, variável, ordem_derivada)(valor_variável)\n",
    "```"
   ]
  },
  {
   "cell_type": "code",
   "execution_count": 192,
   "metadata": {
    "collapsed": false,
    "scrolled": true
   },
   "outputs": [
    {
     "data": {
      "text/plain": [
       "(x,)"
      ]
     },
     "execution_count": 192,
     "metadata": {},
     "output_type": "execute_result"
    }
   ],
   "source": [
    "using SymPy\n",
    "@syms x"
   ]
  },
  {
   "cell_type": "code",
   "execution_count": 28,
   "metadata": {
    "collapsed": false,
    "scrolled": true
   },
   "outputs": [
    {
     "name": "stderr",
     "output_type": "stream",
     "text": [
      "WARNING: Method definition fx(Any) in module Main at In[23]:1 overwritten at In[28]:1.\n"
     ]
    },
    {
     "data": {
      "text/plain": [
       "fx (generic function with 1 method)"
      ]
     },
     "execution_count": 28,
     "metadata": {},
     "output_type": "execute_result"
    }
   ],
   "source": [
    "fx(x) = x^3 + 3*x"
   ]
  },
  {
   "cell_type": "code",
   "execution_count": 30,
   "metadata": {
    "collapsed": false,
    "scrolled": false
   },
   "outputs": [
    {
     "data": {
      "text/latex": [
       "$$3$$"
      ],
      "text/plain": [
       "3"
      ]
     },
     "execution_count": 30,
     "metadata": {},
     "output_type": "execute_result"
    }
   ],
   "source": [
    "# primeira derivada x = 0\n",
    "diff(fx(x), x, 1)(0)"
   ]
  },
  {
   "cell_type": "code",
   "execution_count": 195,
   "metadata": {
    "collapsed": false
   },
   "outputs": [
    {
     "data": {
      "text/latex": [
       "$$0$$"
      ],
      "text/plain": [
       "0"
      ]
     },
     "execution_count": 195,
     "metadata": {},
     "output_type": "execute_result"
    }
   ],
   "source": [
    "# segunda derivada x = 0\n",
    "diff(fx(x), x, 2)(0)"
   ]
  },
  {
   "cell_type": "markdown",
   "metadata": {},
   "source": []
  },
  {
   "cell_type": "markdown",
   "metadata": {},
   "source": [
    "### DERIVADA NUMÉRICA\n",
    "\n",
    "Julia não implementa uma função nativa para derivadas numéricas. A saída é utilizar a definição de limites e construir uma função ou usar o pacote **Calculus**\n",
    "\n",
    "$\\ df(x) =  lim_ {h -> 0} = {( f(a + h) - f(a) ) \\over h} $"
   ]
  },
  {
   "cell_type": "markdown",
   "metadata": {},
   "source": [
    "Detrminar a derivada de $f = x^2 + 3x$ para x = 0"
   ]
  },
  {
   "cell_type": "code",
   "execution_count": 5,
   "metadata": {
    "collapsed": false,
    "scrolled": false
   },
   "outputs": [
    {
     "data": {
      "text/plain": [
       "dnum"
      ]
     },
     "execution_count": 5,
     "metadata": {},
     "output_type": "execute_result"
    }
   ],
   "source": [
    "\"\"\"\n",
    "função derivada numérica\n",
    "\"\"\"\n",
    "\n",
    "function dnum(f, a, ir = \"progressiva\")\n",
    "    if ir ==\"progressiva\"\n",
    "        h = 1e-10\n",
    "        return (f(a + h) - f(a))/ h\n",
    "        \n",
    "        elseif ir == \"regressiva\"\n",
    "        h =  - 1e-10\n",
    "        return (f(a) - f(a - h))/h\n",
    "        \n",
    "    else\n",
    "        println(\"Erro\")\n",
    "    end\n",
    "        \n",
    "end"
   ]
  },
  {
   "cell_type": "code",
   "execution_count": 23,
   "metadata": {
    "collapsed": false
   },
   "outputs": [
    {
     "data": {
      "text/plain": [
       "3.0000000001"
      ]
     },
     "execution_count": 23,
     "metadata": {},
     "output_type": "execute_result"
    }
   ],
   "source": [
    "dnum(x -> x^2 + 3*x, 0)"
   ]
  },
  {
   "cell_type": "markdown",
   "metadata": {},
   "source": [
    "**Lançamento**\n",
    "\n",
    "Um objeto de 200g de massa é lançado para cima com velocidade de 20m/s. \n",
    "![](Figuras/objeto-1.jpg)\n",
    "\n",
    "A função que descreve a distância entre objeto e o solo é definido por:\n",
    "\n",
    "$S(t) = S_0 + v_0t + \\frac {at^2}{2}$. \n",
    "\n",
    "$S(t) = 0 + 20t - 4.9t^2 $\n",
    "\n",
    "Velocidade\n",
    "\n",
    "$v(t) = v_0 + at$\n",
    "\n",
    "$v(t) = 20  - 9.8t$"
   ]
  },
  {
   "cell_type": "code",
   "execution_count": 77,
   "metadata": {
    "collapsed": false,
    "scrolled": true
   },
   "outputs": [
    {
     "name": "stderr",
     "output_type": "stream",
     "text": [
      "WARNING: Method definition S(Any) in module Main at In[1]:1 overwritten at In[77]:1.\n"
     ]
    },
    {
     "data": {
      "text/plain": [
       "S (generic function with 1 method)"
      ]
     },
     "execution_count": 77,
     "metadata": {},
     "output_type": "execute_result"
    }
   ],
   "source": [
    "S(t) = 20*t - 4.9*t^2"
   ]
  },
  {
   "cell_type": "markdown",
   "metadata": {},
   "source": [
    "O resultado é um vetor do tipo Float64"
   ]
  },
  {
   "cell_type": "code",
   "execution_count": 63,
   "metadata": {
    "collapsed": false,
    "scrolled": false
   },
   "outputs": [
    {
     "data": {
      "text/html": [
       "<?xml version=\"1.0\" encoding=\"utf-8\"?>\n",
       "<svg xmlns=\"http://www.w3.org/2000/svg\" xmlns:xlink=\"http://www.w3.org/1999/xlink\" width=\"600\" height=\"400\" viewBox=\"0 0 600 400\">\n",
       "<defs>\n",
       "  <clipPath id=\"clip00\">\n",
       "    <rect x=\"0\" y=\"0\" width=\"600\" height=\"400\"/>\n",
       "  </clipPath>\n",
       "</defs>\n",
       "<polygon clip-path=\"url(#clip00)\" points=\"\n",
       "0,400 600,400 600,0 0,0 \n",
       "  \" fill=\"#ffffff\" fill-opacity=\"1\"/>\n",
       "<defs>\n",
       "  <clipPath id=\"clip01\">\n",
       "    <rect x=\"120\" y=\"0\" width=\"421\" height=\"400\"/>\n",
       "  </clipPath>\n",
       "</defs>\n",
       "<polygon clip-path=\"url(#clip00)\" points=\"\n",
       "34.5407,381.015 596.063,381.015 596.063,3.93701 34.5407,3.93701 \n",
       "  \" fill=\"#ffffff\" fill-opacity=\"1\"/>\n",
       "<defs>\n",
       "  <clipPath id=\"clip02\">\n",
       "    <rect x=\"34\" y=\"3\" width=\"562\" height=\"378\"/>\n",
       "  </clipPath>\n",
       "</defs>\n",
       "<polyline clip-path=\"url(#clip02)\" style=\"stroke:#00002d; stroke-width:0.8; stroke-opacity:0.5; fill:none\" stroke-dasharray=\"1, 2\" points=\"\n",
       "  34.5407,375.359 34.5407,9.59318 \n",
       "  \"/>\n",
       "<polyline clip-path=\"url(#clip02)\" style=\"stroke:#00002d; stroke-width:0.8; stroke-opacity:0.5; fill:none\" stroke-dasharray=\"1, 2\" points=\"\n",
       "  79.4625,375.359 79.4625,9.59318 \n",
       "  \"/>\n",
       "<polyline clip-path=\"url(#clip02)\" style=\"stroke:#00002d; stroke-width:0.8; stroke-opacity:0.5; fill:none\" stroke-dasharray=\"1, 2\" points=\"\n",
       "  113.154,375.359 113.154,9.59318 \n",
       "  \"/>\n",
       "<polyline clip-path=\"url(#clip02)\" style=\"stroke:#00002d; stroke-width:0.8; stroke-opacity:0.5; fill:none\" stroke-dasharray=\"1, 2\" points=\"\n",
       "  158.076,375.359 158.076,9.59318 \n",
       "  \"/>\n",
       "<polyline clip-path=\"url(#clip02)\" style=\"stroke:#00002d; stroke-width:0.8; stroke-opacity:0.5; fill:none\" stroke-dasharray=\"1, 2\" points=\"\n",
       "  191.767,375.359 191.767,9.59318 \n",
       "  \"/>\n",
       "<polyline clip-path=\"url(#clip02)\" style=\"stroke:#00002d; stroke-width:0.8; stroke-opacity:0.5; fill:none\" stroke-dasharray=\"1, 2\" points=\"\n",
       "  236.689,375.359 236.689,9.59318 \n",
       "  \"/>\n",
       "<polyline clip-path=\"url(#clip02)\" style=\"stroke:#00002d; stroke-width:0.8; stroke-opacity:0.5; fill:none\" stroke-dasharray=\"1, 2\" points=\"\n",
       "  270.38,375.359 270.38,9.59318 \n",
       "  \"/>\n",
       "<polyline clip-path=\"url(#clip02)\" style=\"stroke:#00002d; stroke-width:0.8; stroke-opacity:0.5; fill:none\" stroke-dasharray=\"1, 2\" points=\"\n",
       "  315.302,375.359 315.302,9.59318 \n",
       "  \"/>\n",
       "<polyline clip-path=\"url(#clip02)\" style=\"stroke:#00002d; stroke-width:0.8; stroke-opacity:0.5; fill:none\" stroke-dasharray=\"1, 2\" points=\"\n",
       "  360.224,375.359 360.224,9.59318 \n",
       "  \"/>\n",
       "<polyline clip-path=\"url(#clip02)\" style=\"stroke:#00002d; stroke-width:0.8; stroke-opacity:0.5; fill:none\" stroke-dasharray=\"1, 2\" points=\"\n",
       "  393.915,375.359 393.915,9.59318 \n",
       "  \"/>\n",
       "<polyline clip-path=\"url(#clip02)\" style=\"stroke:#00002d; stroke-width:0.8; stroke-opacity:0.5; fill:none\" stroke-dasharray=\"1, 2\" points=\"\n",
       "  438.837,375.359 438.837,9.59318 \n",
       "  \"/>\n",
       "<polyline clip-path=\"url(#clip02)\" style=\"stroke:#00002d; stroke-width:0.8; stroke-opacity:0.5; fill:none\" stroke-dasharray=\"1, 2\" points=\"\n",
       "  472.528,375.359 472.528,9.59318 \n",
       "  \"/>\n",
       "<polyline clip-path=\"url(#clip02)\" style=\"stroke:#00002d; stroke-width:0.8; stroke-opacity:0.5; fill:none\" stroke-dasharray=\"1, 2\" points=\"\n",
       "  517.45,375.359 517.45,9.59318 \n",
       "  \"/>\n",
       "<polyline clip-path=\"url(#clip02)\" style=\"stroke:#00002d; stroke-width:0.8; stroke-opacity:0.5; fill:none\" stroke-dasharray=\"1, 2\" points=\"\n",
       "  551.141,375.359 551.141,9.59318 \n",
       "  \"/>\n",
       "<polyline clip-path=\"url(#clip02)\" style=\"stroke:#00002d; stroke-width:0.8; stroke-opacity:0.5; fill:none\" stroke-dasharray=\"1, 2\" points=\"\n",
       "  596.063,375.359 596.063,9.59318 \n",
       "  \"/>\n",
       "<polyline clip-path=\"url(#clip02)\" style=\"stroke:#00002d; stroke-width:0.8; stroke-opacity:0.5; fill:none\" stroke-dasharray=\"1, 2\" points=\"\n",
       "  42.9635,359.041 587.64,359.041 \n",
       "  \"/>\n",
       "<polyline clip-path=\"url(#clip02)\" style=\"stroke:#00002d; stroke-width:0.8; stroke-opacity:0.5; fill:none\" stroke-dasharray=\"1, 2\" points=\"\n",
       "  42.9635,271.144 587.64,271.144 \n",
       "  \"/>\n",
       "<polyline clip-path=\"url(#clip02)\" style=\"stroke:#00002d; stroke-width:0.8; stroke-opacity:0.5; fill:none\" stroke-dasharray=\"1, 2\" points=\"\n",
       "  42.9635,183.247 587.64,183.247 \n",
       "  \"/>\n",
       "<polyline clip-path=\"url(#clip02)\" style=\"stroke:#00002d; stroke-width:0.8; stroke-opacity:0.5; fill:none\" stroke-dasharray=\"1, 2\" points=\"\n",
       "  42.9635,95.3498 587.64,95.3498 \n",
       "  \"/>\n",
       "<polyline clip-path=\"url(#clip02)\" style=\"stroke:#00002d; stroke-width:0.8; stroke-opacity:0.5; fill:none\" stroke-dasharray=\"1, 2\" points=\"\n",
       "  42.9635,7.45289 587.64,7.45289 \n",
       "  \"/>\n",
       "<polyline clip-path=\"url(#clip02)\" style=\"stroke:#00002d; stroke-width:0.8; stroke-opacity:1; fill:none\" points=\"\n",
       "  34.5407,381.015 596.063,381.015 \n",
       "  \"/>\n",
       "<polyline clip-path=\"url(#clip02)\" style=\"stroke:#00002d; stroke-width:0.8; stroke-opacity:1; fill:none\" points=\"\n",
       "  34.5407,381.015 34.5407,375.359 \n",
       "  \"/>\n",
       "<polyline clip-path=\"url(#clip02)\" style=\"stroke:#00002d; stroke-width:0.8; stroke-opacity:1; fill:none\" points=\"\n",
       "  79.4625,381.015 79.4625,375.359 \n",
       "  \"/>\n",
       "<polyline clip-path=\"url(#clip02)\" style=\"stroke:#00002d; stroke-width:0.8; stroke-opacity:1; fill:none\" points=\"\n",
       "  113.154,381.015 113.154,375.359 \n",
       "  \"/>\n",
       "<polyline clip-path=\"url(#clip02)\" style=\"stroke:#00002d; stroke-width:0.8; stroke-opacity:1; fill:none\" points=\"\n",
       "  158.076,381.015 158.076,375.359 \n",
       "  \"/>\n",
       "<polyline clip-path=\"url(#clip02)\" style=\"stroke:#00002d; stroke-width:0.8; stroke-opacity:1; fill:none\" points=\"\n",
       "  191.767,381.015 191.767,375.359 \n",
       "  \"/>\n",
       "<polyline clip-path=\"url(#clip02)\" style=\"stroke:#00002d; stroke-width:0.8; stroke-opacity:1; fill:none\" points=\"\n",
       "  236.689,381.015 236.689,375.359 \n",
       "  \"/>\n",
       "<polyline clip-path=\"url(#clip02)\" style=\"stroke:#00002d; stroke-width:0.8; stroke-opacity:1; fill:none\" points=\"\n",
       "  270.38,381.015 270.38,375.359 \n",
       "  \"/>\n",
       "<polyline clip-path=\"url(#clip02)\" style=\"stroke:#00002d; stroke-width:0.8; stroke-opacity:1; fill:none\" points=\"\n",
       "  315.302,381.015 315.302,375.359 \n",
       "  \"/>\n",
       "<polyline clip-path=\"url(#clip02)\" style=\"stroke:#00002d; stroke-width:0.8; stroke-opacity:1; fill:none\" points=\"\n",
       "  360.224,381.015 360.224,375.359 \n",
       "  \"/>\n",
       "<polyline clip-path=\"url(#clip02)\" style=\"stroke:#00002d; stroke-width:0.8; stroke-opacity:1; fill:none\" points=\"\n",
       "  393.915,381.015 393.915,375.359 \n",
       "  \"/>\n",
       "<polyline clip-path=\"url(#clip02)\" style=\"stroke:#00002d; stroke-width:0.8; stroke-opacity:1; fill:none\" points=\"\n",
       "  438.837,381.015 438.837,375.359 \n",
       "  \"/>\n",
       "<polyline clip-path=\"url(#clip02)\" style=\"stroke:#00002d; stroke-width:0.8; stroke-opacity:1; fill:none\" points=\"\n",
       "  472.528,381.015 472.528,375.359 \n",
       "  \"/>\n",
       "<polyline clip-path=\"url(#clip02)\" style=\"stroke:#00002d; stroke-width:0.8; stroke-opacity:1; fill:none\" points=\"\n",
       "  517.45,381.015 517.45,375.359 \n",
       "  \"/>\n",
       "<polyline clip-path=\"url(#clip02)\" style=\"stroke:#00002d; stroke-width:0.8; stroke-opacity:1; fill:none\" points=\"\n",
       "  551.141,381.015 551.141,375.359 \n",
       "  \"/>\n",
       "<polyline clip-path=\"url(#clip02)\" style=\"stroke:#00002d; stroke-width:0.8; stroke-opacity:1; fill:none\" points=\"\n",
       "  596.063,381.015 596.063,375.359 \n",
       "  \"/>\n",
       "<polyline clip-path=\"url(#clip02)\" style=\"stroke:#00002d; stroke-width:0.8; stroke-opacity:1; fill:none\" points=\"\n",
       "  34.5407,381.015 34.5407,3.93701 \n",
       "  \"/>\n",
       "<polyline clip-path=\"url(#clip02)\" style=\"stroke:#00002d; stroke-width:0.8; stroke-opacity:1; fill:none\" points=\"\n",
       "  34.5407,359.041 42.9635,359.041 \n",
       "  \"/>\n",
       "<polyline clip-path=\"url(#clip02)\" style=\"stroke:#00002d; stroke-width:0.8; stroke-opacity:1; fill:none\" points=\"\n",
       "  34.5407,271.144 42.9635,271.144 \n",
       "  \"/>\n",
       "<polyline clip-path=\"url(#clip02)\" style=\"stroke:#00002d; stroke-width:0.8; stroke-opacity:1; fill:none\" points=\"\n",
       "  34.5407,183.247 42.9635,183.247 \n",
       "  \"/>\n",
       "<polyline clip-path=\"url(#clip02)\" style=\"stroke:#00002d; stroke-width:0.8; stroke-opacity:1; fill:none\" points=\"\n",
       "  34.5407,95.3498 42.9635,95.3498 \n",
       "  \"/>\n",
       "<polyline clip-path=\"url(#clip02)\" style=\"stroke:#00002d; stroke-width:0.8; stroke-opacity:1; fill:none\" points=\"\n",
       "  34.5407,7.45289 42.9635,7.45289 \n",
       "  \"/>\n",
       "<g clip-path=\"url(#clip00)\">\n",
       "<text style=\"fill:#00002d; fill-opacity:1; font-family:Arial,Helvetica Neue,Helvetica,sans-serif; font-size:12; text-anchor:middle;\" transform=\"rotate(0, 34.5407, 393.015)\" x=\"34.5407\" y=\"393.015\">0.0</text>\n",
       "</g>\n",
       "<g clip-path=\"url(#clip00)\">\n",
       "<text style=\"fill:#00002d; fill-opacity:1; font-family:Arial,Helvetica Neue,Helvetica,sans-serif; font-size:12; text-anchor:middle;\" transform=\"rotate(0, 79.4625, 393.015)\" x=\"79.4625\" y=\"393.015\">0.4</text>\n",
       "</g>\n",
       "<g clip-path=\"url(#clip00)\">\n",
       "<text style=\"fill:#00002d; fill-opacity:1; font-family:Arial,Helvetica Neue,Helvetica,sans-serif; font-size:12; text-anchor:middle;\" transform=\"rotate(0, 113.154, 393.015)\" x=\"113.154\" y=\"393.015\">0.7</text>\n",
       "</g>\n",
       "<g clip-path=\"url(#clip00)\">\n",
       "<text style=\"fill:#00002d; fill-opacity:1; font-family:Arial,Helvetica Neue,Helvetica,sans-serif; font-size:12; text-anchor:middle;\" transform=\"rotate(0, 158.076, 393.015)\" x=\"158.076\" y=\"393.015\">1.1</text>\n",
       "</g>\n",
       "<g clip-path=\"url(#clip00)\">\n",
       "<text style=\"fill:#00002d; fill-opacity:1; font-family:Arial,Helvetica Neue,Helvetica,sans-serif; font-size:12; text-anchor:middle;\" transform=\"rotate(0, 191.767, 393.015)\" x=\"191.767\" y=\"393.015\">1.4</text>\n",
       "</g>\n",
       "<g clip-path=\"url(#clip00)\">\n",
       "<text style=\"fill:#00002d; fill-opacity:1; font-family:Arial,Helvetica Neue,Helvetica,sans-serif; font-size:12; text-anchor:middle;\" transform=\"rotate(0, 236.689, 393.015)\" x=\"236.689\" y=\"393.015\">1.8</text>\n",
       "</g>\n",
       "<g clip-path=\"url(#clip00)\">\n",
       "<text style=\"fill:#00002d; fill-opacity:1; font-family:Arial,Helvetica Neue,Helvetica,sans-serif; font-size:12; text-anchor:middle;\" transform=\"rotate(0, 270.38, 393.015)\" x=\"270.38\" y=\"393.015\">2.1</text>\n",
       "</g>\n",
       "<g clip-path=\"url(#clip00)\">\n",
       "<text style=\"fill:#00002d; fill-opacity:1; font-family:Arial,Helvetica Neue,Helvetica,sans-serif; font-size:12; text-anchor:middle;\" transform=\"rotate(0, 315.302, 393.015)\" x=\"315.302\" y=\"393.015\">2.5</text>\n",
       "</g>\n",
       "<g clip-path=\"url(#clip00)\">\n",
       "<text style=\"fill:#00002d; fill-opacity:1; font-family:Arial,Helvetica Neue,Helvetica,sans-serif; font-size:12; text-anchor:middle;\" transform=\"rotate(0, 360.224, 393.015)\" x=\"360.224\" y=\"393.015\">2.9</text>\n",
       "</g>\n",
       "<g clip-path=\"url(#clip00)\">\n",
       "<text style=\"fill:#00002d; fill-opacity:1; font-family:Arial,Helvetica Neue,Helvetica,sans-serif; font-size:12; text-anchor:middle;\" transform=\"rotate(0, 393.915, 393.015)\" x=\"393.915\" y=\"393.015\">3.2</text>\n",
       "</g>\n",
       "<g clip-path=\"url(#clip00)\">\n",
       "<text style=\"fill:#00002d; fill-opacity:1; font-family:Arial,Helvetica Neue,Helvetica,sans-serif; font-size:12; text-anchor:middle;\" transform=\"rotate(0, 438.837, 393.015)\" x=\"438.837\" y=\"393.015\">3.6</text>\n",
       "</g>\n",
       "<g clip-path=\"url(#clip00)\">\n",
       "<text style=\"fill:#00002d; fill-opacity:1; font-family:Arial,Helvetica Neue,Helvetica,sans-serif; font-size:12; text-anchor:middle;\" transform=\"rotate(0, 472.528, 393.015)\" x=\"472.528\" y=\"393.015\">3.9</text>\n",
       "</g>\n",
       "<g clip-path=\"url(#clip00)\">\n",
       "<text style=\"fill:#00002d; fill-opacity:1; font-family:Arial,Helvetica Neue,Helvetica,sans-serif; font-size:12; text-anchor:middle;\" transform=\"rotate(0, 517.45, 393.015)\" x=\"517.45\" y=\"393.015\">4.3</text>\n",
       "</g>\n",
       "<g clip-path=\"url(#clip00)\">\n",
       "<text style=\"fill:#00002d; fill-opacity:1; font-family:Arial,Helvetica Neue,Helvetica,sans-serif; font-size:12; text-anchor:middle;\" transform=\"rotate(0, 551.141, 393.015)\" x=\"551.141\" y=\"393.015\">4.6</text>\n",
       "</g>\n",
       "<g clip-path=\"url(#clip00)\">\n",
       "<text style=\"fill:#00002d; fill-opacity:1; font-family:Arial,Helvetica Neue,Helvetica,sans-serif; font-size:12; text-anchor:middle;\" transform=\"rotate(0, 596.063, 393.015)\" x=\"596.063\" y=\"393.015\">5.0</text>\n",
       "</g>\n",
       "<g clip-path=\"url(#clip00)\">\n",
       "<text style=\"fill:#00002d; fill-opacity:1; font-family:Arial,Helvetica Neue,Helvetica,sans-serif; font-size:12; text-anchor:end;\" transform=\"rotate(0, 33.3407, 363.541)\" x=\"33.3407\" y=\"363.541\">-20</text>\n",
       "</g>\n",
       "<g clip-path=\"url(#clip00)\">\n",
       "<text style=\"fill:#00002d; fill-opacity:1; font-family:Arial,Helvetica Neue,Helvetica,sans-serif; font-size:12; text-anchor:end;\" transform=\"rotate(0, 33.3407, 275.644)\" x=\"33.3407\" y=\"275.644\">-10</text>\n",
       "</g>\n",
       "<g clip-path=\"url(#clip00)\">\n",
       "<text style=\"fill:#00002d; fill-opacity:1; font-family:Arial,Helvetica Neue,Helvetica,sans-serif; font-size:12; text-anchor:end;\" transform=\"rotate(0, 33.3407, 187.747)\" x=\"33.3407\" y=\"187.747\">0</text>\n",
       "</g>\n",
       "<g clip-path=\"url(#clip00)\">\n",
       "<text style=\"fill:#00002d; fill-opacity:1; font-family:Arial,Helvetica Neue,Helvetica,sans-serif; font-size:12; text-anchor:end;\" transform=\"rotate(0, 33.3407, 99.8498)\" x=\"33.3407\" y=\"99.8498\">10</text>\n",
       "</g>\n",
       "<g clip-path=\"url(#clip00)\">\n",
       "<text style=\"fill:#00002d; fill-opacity:1; font-family:Arial,Helvetica Neue,Helvetica,sans-serif; font-size:12; text-anchor:end;\" transform=\"rotate(0, 33.3407, 11.9529)\" x=\"33.3407\" y=\"11.9529\">20</text>\n",
       "</g>\n",
       "<polyline clip-path=\"url(#clip02)\" style=\"stroke:#0099ff; stroke-width:0.8; stroke-opacity:1; fill:none\" points=\"\n",
       "  34.5407,183.247 45.7711,166.098 57.0016,149.811 68.232,134.385 79.4625,119.82 90.6929,106.117 101.923,93.2755 113.154,81.2951 124.384,70.1761 135.615,59.9186 \n",
       "  146.845,50.5224 158.076,41.9876 169.306,34.3142 180.536,27.5022 191.767,21.5516 202.997,16.4623 214.228,12.2345 225.458,8.86803 236.689,6.36296 247.919,4.71929 \n",
       "  259.15,3.93701 270.38,4.01612 281.61,4.95661 292.841,6.7585 304.071,9.42178 315.302,12.9464 326.532,17.3325 337.763,22.5799 348.993,28.6888 360.224,35.659 \n",
       "  371.454,43.4906 382.685,52.1836 393.915,61.738 405.145,72.1538 416.376,83.431 427.606,95.5696 438.837,108.57 450.067,122.431 461.298,137.154 472.528,152.738 \n",
       "  483.759,169.183 494.989,186.49 506.219,204.658 517.45,223.688 528.68,243.579 539.911,264.332 551.141,285.946 562.372,308.421 573.602,331.757 584.833,355.955 \n",
       "  596.063,381.015 \n",
       "  \"/>\n",
       "<polygon clip-path=\"url(#clip00)\" points=\"\n",
       "456.149,55.057 578.063,55.057 578.063,24.817 456.149,24.817 \n",
       "  \" fill=\"#ffffff\" fill-opacity=\"1\"/>\n",
       "<polyline clip-path=\"url(#clip00)\" style=\"stroke:#00002d; stroke-width:0.8; stroke-opacity:1; fill:none\" points=\"\n",
       "  456.149,55.057 578.063,55.057 578.063,24.817 456.149,24.817 456.149,55.057 \n",
       "  \"/>\n",
       "<polyline clip-path=\"url(#clip00)\" style=\"stroke:#0099ff; stroke-width:0.8; stroke-opacity:1; fill:none\" points=\"\n",
       "  462.149,39.937 498.149,39.937 \n",
       "  \"/>\n",
       "<g clip-path=\"url(#clip00)\">\n",
       "<text style=\"fill:#00002d; fill-opacity:1; font-family:Arial,Helvetica Neue,Helvetica,sans-serif; font-size:12; text-anchor:start;\" transform=\"rotate(0, 504.149, 44.437)\" x=\"504.149\" y=\"44.437\">Função S(t)</text>\n",
       "</g>\n",
       "</svg>\n"
      ]
     },
     "execution_count": 63,
     "metadata": {},
     "output_type": "execute_result"
    }
   ],
   "source": [
    "using Plots\n",
    "gr()\n",
    "\n",
    "plot(0:0.1:5, S, label = \"Função S(t)\", xticks = 0:0.1:5)"
   ]
  },
  {
   "cell_type": "code",
   "execution_count": 76,
   "metadata": {
    "collapsed": false
   },
   "outputs": [
    {
     "data": {
      "text/plain": [
       "19.99999999951"
      ]
     },
     "execution_count": 76,
     "metadata": {},
     "output_type": "execute_result"
    }
   ],
   "source": [
    "# derivada progressiva\n",
    "dnum(S, 0 , \"progressiva\")"
   ]
  },
  {
   "cell_type": "code",
   "execution_count": 38,
   "metadata": {
    "collapsed": false,
    "scrolled": false
   },
   "outputs": [
    {
     "data": {
      "text/plain": [
       "19.99999999951"
      ]
     },
     "execution_count": 38,
     "metadata": {},
     "output_type": "execute_result"
    }
   ],
   "source": [
    "# derivada regressiva\n",
    "dnum(S, 0, \"regressiva\")"
   ]
  },
  {
   "cell_type": "code",
   "execution_count": 22,
   "metadata": {
    "collapsed": false
   },
   "outputs": [
    {
     "name": "stderr",
     "output_type": "stream",
     "text": [
      "WARNING: using SymPy.S in module Main conflicts with an existing identifier.\n"
     ]
    },
    {
     "data": {
      "text/plain": [
       "(t,)"
      ]
     },
     "execution_count": 22,
     "metadata": {},
     "output_type": "execute_result"
    }
   ],
   "source": [
    "using SymPy \n",
    "@syms t"
   ]
  },
  {
   "cell_type": "code",
   "execution_count": 28,
   "metadata": {
    "collapsed": false,
    "scrolled": false
   },
   "outputs": [
    {
     "data": {
      "text/plain": [
       "2-element Array{Float64,1}:\n",
       " 0.0    \n",
       " 4.08163"
      ]
     },
     "execution_count": 28,
     "metadata": {},
     "output_type": "execute_result"
    }
   ],
   "source": [
    "t1 , t2 = float(solve(S(t),t))"
   ]
  },
  {
   "cell_type": "code",
   "execution_count": 45,
   "metadata": {
    "collapsed": false
   },
   "outputs": [],
   "source": [
    "# Velocidade de t1 a t2\n",
    "velocidade = [dnum(S, i) for i = t1:0.1:t2 ];"
   ]
  },
  {
   "cell_type": "code",
   "execution_count": 53,
   "metadata": {
    "collapsed": false,
    "scrolled": true
   },
   "outputs": [
    {
     "data": {
      "text/html": [
       "<?xml version=\"1.0\" encoding=\"utf-8\"?>\n",
       "<svg xmlns=\"http://www.w3.org/2000/svg\" xmlns:xlink=\"http://www.w3.org/1999/xlink\" width=\"600\" height=\"400\" viewBox=\"0 0 600 400\">\n",
       "<defs>\n",
       "  <clipPath id=\"clip00\">\n",
       "    <rect x=\"0\" y=\"0\" width=\"600\" height=\"400\"/>\n",
       "  </clipPath>\n",
       "</defs>\n",
       "<polygon clip-path=\"url(#clip00)\" points=\"\n",
       "0,400 600,400 600,0 0,0 \n",
       "  \" fill=\"#ffffff\" fill-opacity=\"1\"/>\n",
       "<defs>\n",
       "  <clipPath id=\"clip01\">\n",
       "    <rect x=\"120\" y=\"0\" width=\"421\" height=\"400\"/>\n",
       "  </clipPath>\n",
       "</defs>\n",
       "<polygon clip-path=\"url(#clip00)\" points=\"\n",
       "34.5407,381.015 596.063,381.015 596.063,3.93701 34.5407,3.93701 \n",
       "  \" fill=\"#ffffff\" fill-opacity=\"1\"/>\n",
       "<defs>\n",
       "  <clipPath id=\"clip02\">\n",
       "    <rect x=\"34\" y=\"3\" width=\"562\" height=\"378\"/>\n",
       "  </clipPath>\n",
       "</defs>\n",
       "<polyline clip-path=\"url(#clip02)\" style=\"stroke:#00002d; stroke-width:0.8; stroke-opacity:0.5; fill:none\" stroke-dasharray=\"1, 2\" points=\"\n",
       "  34.5407,375.359 34.5407,9.59318 \n",
       "  \"/>\n",
       "<polyline clip-path=\"url(#clip02)\" style=\"stroke:#00002d; stroke-width:0.8; stroke-opacity:0.5; fill:none\" stroke-dasharray=\"1, 2\" points=\"\n",
       "  76.6549,375.359 76.6549,9.59318 \n",
       "  \"/>\n",
       "<polyline clip-path=\"url(#clip02)\" style=\"stroke:#00002d; stroke-width:0.8; stroke-opacity:0.5; fill:none\" stroke-dasharray=\"1, 2\" points=\"\n",
       "  118.769,375.359 118.769,9.59318 \n",
       "  \"/>\n",
       "<polyline clip-path=\"url(#clip02)\" style=\"stroke:#00002d; stroke-width:0.8; stroke-opacity:0.5; fill:none\" stroke-dasharray=\"1, 2\" points=\"\n",
       "  160.883,375.359 160.883,9.59318 \n",
       "  \"/>\n",
       "<polyline clip-path=\"url(#clip02)\" style=\"stroke:#00002d; stroke-width:0.8; stroke-opacity:0.5; fill:none\" stroke-dasharray=\"1, 2\" points=\"\n",
       "  188.959,375.359 188.959,9.59318 \n",
       "  \"/>\n",
       "<polyline clip-path=\"url(#clip02)\" style=\"stroke:#00002d; stroke-width:0.8; stroke-opacity:0.5; fill:none\" stroke-dasharray=\"1, 2\" points=\"\n",
       "  231.073,375.359 231.073,9.59318 \n",
       "  \"/>\n",
       "<polyline clip-path=\"url(#clip02)\" style=\"stroke:#00002d; stroke-width:0.8; stroke-opacity:0.5; fill:none\" stroke-dasharray=\"1, 2\" points=\"\n",
       "  273.188,375.359 273.188,9.59318 \n",
       "  \"/>\n",
       "<polyline clip-path=\"url(#clip02)\" style=\"stroke:#00002d; stroke-width:0.8; stroke-opacity:0.5; fill:none\" stroke-dasharray=\"1, 2\" points=\"\n",
       "  315.302,375.359 315.302,9.59318 \n",
       "  \"/>\n",
       "<polyline clip-path=\"url(#clip02)\" style=\"stroke:#00002d; stroke-width:0.8; stroke-opacity:0.5; fill:none\" stroke-dasharray=\"1, 2\" points=\"\n",
       "  357.416,375.359 357.416,9.59318 \n",
       "  \"/>\n",
       "<polyline clip-path=\"url(#clip02)\" style=\"stroke:#00002d; stroke-width:0.8; stroke-opacity:0.5; fill:none\" stroke-dasharray=\"1, 2\" points=\"\n",
       "  399.53,375.359 399.53,9.59318 \n",
       "  \"/>\n",
       "<polyline clip-path=\"url(#clip02)\" style=\"stroke:#00002d; stroke-width:0.8; stroke-opacity:0.5; fill:none\" stroke-dasharray=\"1, 2\" points=\"\n",
       "  441.644,375.359 441.644,9.59318 \n",
       "  \"/>\n",
       "<polyline clip-path=\"url(#clip02)\" style=\"stroke:#00002d; stroke-width:0.8; stroke-opacity:0.5; fill:none\" stroke-dasharray=\"1, 2\" points=\"\n",
       "  469.72,375.359 469.72,9.59318 \n",
       "  \"/>\n",
       "<polyline clip-path=\"url(#clip02)\" style=\"stroke:#00002d; stroke-width:0.8; stroke-opacity:0.5; fill:none\" stroke-dasharray=\"1, 2\" points=\"\n",
       "  511.835,375.359 511.835,9.59318 \n",
       "  \"/>\n",
       "<polyline clip-path=\"url(#clip02)\" style=\"stroke:#00002d; stroke-width:0.8; stroke-opacity:0.5; fill:none\" stroke-dasharray=\"1, 2\" points=\"\n",
       "  553.949,375.359 553.949,9.59318 \n",
       "  \"/>\n",
       "<polyline clip-path=\"url(#clip02)\" style=\"stroke:#00002d; stroke-width:0.8; stroke-opacity:0.5; fill:none\" stroke-dasharray=\"1, 2\" points=\"\n",
       "  596.063,375.359 596.063,9.59318 \n",
       "  \"/>\n",
       "<polyline clip-path=\"url(#clip02)\" style=\"stroke:#00002d; stroke-width:0.8; stroke-opacity:0.5; fill:none\" stroke-dasharray=\"1, 2\" points=\"\n",
       "  42.9635,379.091 587.64,379.091 \n",
       "  \"/>\n",
       "<polyline clip-path=\"url(#clip02)\" style=\"stroke:#00002d; stroke-width:0.8; stroke-opacity:0.5; fill:none\" stroke-dasharray=\"1, 2\" points=\"\n",
       "  42.9635,350.233 587.64,350.233 \n",
       "  \"/>\n",
       "<polyline clip-path=\"url(#clip02)\" style=\"stroke:#00002d; stroke-width:0.8; stroke-opacity:0.5; fill:none\" stroke-dasharray=\"1, 2\" points=\"\n",
       "  42.9635,330.994 587.64,330.994 \n",
       "  \"/>\n",
       "<polyline clip-path=\"url(#clip02)\" style=\"stroke:#00002d; stroke-width:0.8; stroke-opacity:0.5; fill:none\" stroke-dasharray=\"1, 2\" points=\"\n",
       "  42.9635,302.136 587.64,302.136 \n",
       "  \"/>\n",
       "<polyline clip-path=\"url(#clip02)\" style=\"stroke:#00002d; stroke-width:0.8; stroke-opacity:0.5; fill:none\" stroke-dasharray=\"1, 2\" points=\"\n",
       "  42.9635,273.278 587.64,273.278 \n",
       "  \"/>\n",
       "<polyline clip-path=\"url(#clip02)\" style=\"stroke:#00002d; stroke-width:0.8; stroke-opacity:0.5; fill:none\" stroke-dasharray=\"1, 2\" points=\"\n",
       "  42.9635,244.42 587.64,244.42 \n",
       "  \"/>\n",
       "<polyline clip-path=\"url(#clip02)\" style=\"stroke:#00002d; stroke-width:0.8; stroke-opacity:0.5; fill:none\" stroke-dasharray=\"1, 2\" points=\"\n",
       "  42.9635,225.182 587.64,225.182 \n",
       "  \"/>\n",
       "<polyline clip-path=\"url(#clip02)\" style=\"stroke:#00002d; stroke-width:0.8; stroke-opacity:0.5; fill:none\" stroke-dasharray=\"1, 2\" points=\"\n",
       "  42.9635,196.324 587.64,196.324 \n",
       "  \"/>\n",
       "<polyline clip-path=\"url(#clip02)\" style=\"stroke:#00002d; stroke-width:0.8; stroke-opacity:0.5; fill:none\" stroke-dasharray=\"1, 2\" points=\"\n",
       "  42.9635,167.466 587.64,167.466 \n",
       "  \"/>\n",
       "<polyline clip-path=\"url(#clip02)\" style=\"stroke:#00002d; stroke-width:0.8; stroke-opacity:0.5; fill:none\" stroke-dasharray=\"1, 2\" points=\"\n",
       "  42.9635,148.227 587.64,148.227 \n",
       "  \"/>\n",
       "<polyline clip-path=\"url(#clip02)\" style=\"stroke:#00002d; stroke-width:0.8; stroke-opacity:0.5; fill:none\" stroke-dasharray=\"1, 2\" points=\"\n",
       "  42.9635,119.369 587.64,119.369 \n",
       "  \"/>\n",
       "<polyline clip-path=\"url(#clip02)\" style=\"stroke:#00002d; stroke-width:0.8; stroke-opacity:0.5; fill:none\" stroke-dasharray=\"1, 2\" points=\"\n",
       "  42.9635,90.511 587.64,90.511 \n",
       "  \"/>\n",
       "<polyline clip-path=\"url(#clip02)\" style=\"stroke:#00002d; stroke-width:0.8; stroke-opacity:0.5; fill:none\" stroke-dasharray=\"1, 2\" points=\"\n",
       "  42.9635,61.653 587.64,61.653 \n",
       "  \"/>\n",
       "<polyline clip-path=\"url(#clip02)\" style=\"stroke:#00002d; stroke-width:0.8; stroke-opacity:0.5; fill:none\" stroke-dasharray=\"1, 2\" points=\"\n",
       "  42.9635,42.4143 587.64,42.4143 \n",
       "  \"/>\n",
       "<polyline clip-path=\"url(#clip02)\" style=\"stroke:#00002d; stroke-width:0.8; stroke-opacity:0.5; fill:none\" stroke-dasharray=\"1, 2\" points=\"\n",
       "  42.9635,13.5563 587.64,13.5563 \n",
       "  \"/>\n",
       "<polyline clip-path=\"url(#clip02)\" style=\"stroke:#00002d; stroke-width:0.8; stroke-opacity:1; fill:none\" points=\"\n",
       "  34.5407,381.015 596.063,381.015 \n",
       "  \"/>\n",
       "<polyline clip-path=\"url(#clip02)\" style=\"stroke:#00002d; stroke-width:0.8; stroke-opacity:1; fill:none\" points=\"\n",
       "  34.5407,381.015 34.5407,375.359 \n",
       "  \"/>\n",
       "<polyline clip-path=\"url(#clip02)\" style=\"stroke:#00002d; stroke-width:0.8; stroke-opacity:1; fill:none\" points=\"\n",
       "  76.6549,381.015 76.6549,375.359 \n",
       "  \"/>\n",
       "<polyline clip-path=\"url(#clip02)\" style=\"stroke:#00002d; stroke-width:0.8; stroke-opacity:1; fill:none\" points=\"\n",
       "  118.769,381.015 118.769,375.359 \n",
       "  \"/>\n",
       "<polyline clip-path=\"url(#clip02)\" style=\"stroke:#00002d; stroke-width:0.8; stroke-opacity:1; fill:none\" points=\"\n",
       "  160.883,381.015 160.883,375.359 \n",
       "  \"/>\n",
       "<polyline clip-path=\"url(#clip02)\" style=\"stroke:#00002d; stroke-width:0.8; stroke-opacity:1; fill:none\" points=\"\n",
       "  188.959,381.015 188.959,375.359 \n",
       "  \"/>\n",
       "<polyline clip-path=\"url(#clip02)\" style=\"stroke:#00002d; stroke-width:0.8; stroke-opacity:1; fill:none\" points=\"\n",
       "  231.073,381.015 231.073,375.359 \n",
       "  \"/>\n",
       "<polyline clip-path=\"url(#clip02)\" style=\"stroke:#00002d; stroke-width:0.8; stroke-opacity:1; fill:none\" points=\"\n",
       "  273.188,381.015 273.188,375.359 \n",
       "  \"/>\n",
       "<polyline clip-path=\"url(#clip02)\" style=\"stroke:#00002d; stroke-width:0.8; stroke-opacity:1; fill:none\" points=\"\n",
       "  315.302,381.015 315.302,375.359 \n",
       "  \"/>\n",
       "<polyline clip-path=\"url(#clip02)\" style=\"stroke:#00002d; stroke-width:0.8; stroke-opacity:1; fill:none\" points=\"\n",
       "  357.416,381.015 357.416,375.359 \n",
       "  \"/>\n",
       "<polyline clip-path=\"url(#clip02)\" style=\"stroke:#00002d; stroke-width:0.8; stroke-opacity:1; fill:none\" points=\"\n",
       "  399.53,381.015 399.53,375.359 \n",
       "  \"/>\n",
       "<polyline clip-path=\"url(#clip02)\" style=\"stroke:#00002d; stroke-width:0.8; stroke-opacity:1; fill:none\" points=\"\n",
       "  441.644,381.015 441.644,375.359 \n",
       "  \"/>\n",
       "<polyline clip-path=\"url(#clip02)\" style=\"stroke:#00002d; stroke-width:0.8; stroke-opacity:1; fill:none\" points=\"\n",
       "  469.72,381.015 469.72,375.359 \n",
       "  \"/>\n",
       "<polyline clip-path=\"url(#clip02)\" style=\"stroke:#00002d; stroke-width:0.8; stroke-opacity:1; fill:none\" points=\"\n",
       "  511.835,381.015 511.835,375.359 \n",
       "  \"/>\n",
       "<polyline clip-path=\"url(#clip02)\" style=\"stroke:#00002d; stroke-width:0.8; stroke-opacity:1; fill:none\" points=\"\n",
       "  553.949,381.015 553.949,375.359 \n",
       "  \"/>\n",
       "<polyline clip-path=\"url(#clip02)\" style=\"stroke:#00002d; stroke-width:0.8; stroke-opacity:1; fill:none\" points=\"\n",
       "  596.063,381.015 596.063,375.359 \n",
       "  \"/>\n",
       "<polyline clip-path=\"url(#clip02)\" style=\"stroke:#00002d; stroke-width:0.8; stroke-opacity:1; fill:none\" points=\"\n",
       "  34.5407,381.015 34.5407,3.93701 \n",
       "  \"/>\n",
       "<polyline clip-path=\"url(#clip02)\" style=\"stroke:#00002d; stroke-width:0.8; stroke-opacity:1; fill:none\" points=\"\n",
       "  34.5407,379.091 42.9635,379.091 \n",
       "  \"/>\n",
       "<polyline clip-path=\"url(#clip02)\" style=\"stroke:#00002d; stroke-width:0.8; stroke-opacity:1; fill:none\" points=\"\n",
       "  34.5407,350.233 42.9635,350.233 \n",
       "  \"/>\n",
       "<polyline clip-path=\"url(#clip02)\" style=\"stroke:#00002d; stroke-width:0.8; stroke-opacity:1; fill:none\" points=\"\n",
       "  34.5407,330.994 42.9635,330.994 \n",
       "  \"/>\n",
       "<polyline clip-path=\"url(#clip02)\" style=\"stroke:#00002d; stroke-width:0.8; stroke-opacity:1; fill:none\" points=\"\n",
       "  34.5407,302.136 42.9635,302.136 \n",
       "  \"/>\n",
       "<polyline clip-path=\"url(#clip02)\" style=\"stroke:#00002d; stroke-width:0.8; stroke-opacity:1; fill:none\" points=\"\n",
       "  34.5407,273.278 42.9635,273.278 \n",
       "  \"/>\n",
       "<polyline clip-path=\"url(#clip02)\" style=\"stroke:#00002d; stroke-width:0.8; stroke-opacity:1; fill:none\" points=\"\n",
       "  34.5407,244.42 42.9635,244.42 \n",
       "  \"/>\n",
       "<polyline clip-path=\"url(#clip02)\" style=\"stroke:#00002d; stroke-width:0.8; stroke-opacity:1; fill:none\" points=\"\n",
       "  34.5407,225.182 42.9635,225.182 \n",
       "  \"/>\n",
       "<polyline clip-path=\"url(#clip02)\" style=\"stroke:#00002d; stroke-width:0.8; stroke-opacity:1; fill:none\" points=\"\n",
       "  34.5407,196.324 42.9635,196.324 \n",
       "  \"/>\n",
       "<polyline clip-path=\"url(#clip02)\" style=\"stroke:#00002d; stroke-width:0.8; stroke-opacity:1; fill:none\" points=\"\n",
       "  34.5407,167.466 42.9635,167.466 \n",
       "  \"/>\n",
       "<polyline clip-path=\"url(#clip02)\" style=\"stroke:#00002d; stroke-width:0.8; stroke-opacity:1; fill:none\" points=\"\n",
       "  34.5407,148.227 42.9635,148.227 \n",
       "  \"/>\n",
       "<polyline clip-path=\"url(#clip02)\" style=\"stroke:#00002d; stroke-width:0.8; stroke-opacity:1; fill:none\" points=\"\n",
       "  34.5407,119.369 42.9635,119.369 \n",
       "  \"/>\n",
       "<polyline clip-path=\"url(#clip02)\" style=\"stroke:#00002d; stroke-width:0.8; stroke-opacity:1; fill:none\" points=\"\n",
       "  34.5407,90.511 42.9635,90.511 \n",
       "  \"/>\n",
       "<polyline clip-path=\"url(#clip02)\" style=\"stroke:#00002d; stroke-width:0.8; stroke-opacity:1; fill:none\" points=\"\n",
       "  34.5407,61.653 42.9635,61.653 \n",
       "  \"/>\n",
       "<polyline clip-path=\"url(#clip02)\" style=\"stroke:#00002d; stroke-width:0.8; stroke-opacity:1; fill:none\" points=\"\n",
       "  34.5407,42.4143 42.9635,42.4143 \n",
       "  \"/>\n",
       "<polyline clip-path=\"url(#clip02)\" style=\"stroke:#00002d; stroke-width:0.8; stroke-opacity:1; fill:none\" points=\"\n",
       "  34.5407,13.5563 42.9635,13.5563 \n",
       "  \"/>\n",
       "<g clip-path=\"url(#clip00)\">\n",
       "<text style=\"fill:#00002d; fill-opacity:1; font-family:Arial,Helvetica Neue,Helvetica,sans-serif; font-size:12; text-anchor:middle;\" transform=\"rotate(0, 34.5407, 393.015)\" x=\"34.5407\" y=\"393.015\">0.0</text>\n",
       "</g>\n",
       "<g clip-path=\"url(#clip00)\">\n",
       "<text style=\"fill:#00002d; fill-opacity:1; font-family:Arial,Helvetica Neue,Helvetica,sans-serif; font-size:12; text-anchor:middle;\" transform=\"rotate(0, 76.6549, 393.015)\" x=\"76.6549\" y=\"393.015\">0.3</text>\n",
       "</g>\n",
       "<g clip-path=\"url(#clip00)\">\n",
       "<text style=\"fill:#00002d; fill-opacity:1; font-family:Arial,Helvetica Neue,Helvetica,sans-serif; font-size:12; text-anchor:middle;\" transform=\"rotate(0, 118.769, 393.015)\" x=\"118.769\" y=\"393.015\">0.6</text>\n",
       "</g>\n",
       "<g clip-path=\"url(#clip00)\">\n",
       "<text style=\"fill:#00002d; fill-opacity:1; font-family:Arial,Helvetica Neue,Helvetica,sans-serif; font-size:12; text-anchor:middle;\" transform=\"rotate(0, 160.883, 393.015)\" x=\"160.883\" y=\"393.015\">0.9</text>\n",
       "</g>\n",
       "<g clip-path=\"url(#clip00)\">\n",
       "<text style=\"fill:#00002d; fill-opacity:1; font-family:Arial,Helvetica Neue,Helvetica,sans-serif; font-size:12; text-anchor:middle;\" transform=\"rotate(0, 188.959, 393.015)\" x=\"188.959\" y=\"393.015\">1.1</text>\n",
       "</g>\n",
       "<g clip-path=\"url(#clip00)\">\n",
       "<text style=\"fill:#00002d; fill-opacity:1; font-family:Arial,Helvetica Neue,Helvetica,sans-serif; font-size:12; text-anchor:middle;\" transform=\"rotate(0, 231.073, 393.015)\" x=\"231.073\" y=\"393.015\">1.4</text>\n",
       "</g>\n",
       "<g clip-path=\"url(#clip00)\">\n",
       "<text style=\"fill:#00002d; fill-opacity:1; font-family:Arial,Helvetica Neue,Helvetica,sans-serif; font-size:12; text-anchor:middle;\" transform=\"rotate(0, 273.188, 393.015)\" x=\"273.188\" y=\"393.015\">1.7</text>\n",
       "</g>\n",
       "<g clip-path=\"url(#clip00)\">\n",
       "<text style=\"fill:#00002d; fill-opacity:1; font-family:Arial,Helvetica Neue,Helvetica,sans-serif; font-size:12; text-anchor:middle;\" transform=\"rotate(0, 315.302, 393.015)\" x=\"315.302\" y=\"393.015\">2.0</text>\n",
       "</g>\n",
       "<g clip-path=\"url(#clip00)\">\n",
       "<text style=\"fill:#00002d; fill-opacity:1; font-family:Arial,Helvetica Neue,Helvetica,sans-serif; font-size:12; text-anchor:middle;\" transform=\"rotate(0, 357.416, 393.015)\" x=\"357.416\" y=\"393.015\">2.3</text>\n",
       "</g>\n",
       "<g clip-path=\"url(#clip00)\">\n",
       "<text style=\"fill:#00002d; fill-opacity:1; font-family:Arial,Helvetica Neue,Helvetica,sans-serif; font-size:12; text-anchor:middle;\" transform=\"rotate(0, 399.53, 393.015)\" x=\"399.53\" y=\"393.015\">2.6</text>\n",
       "</g>\n",
       "<g clip-path=\"url(#clip00)\">\n",
       "<text style=\"fill:#00002d; fill-opacity:1; font-family:Arial,Helvetica Neue,Helvetica,sans-serif; font-size:12; text-anchor:middle;\" transform=\"rotate(0, 441.644, 393.015)\" x=\"441.644\" y=\"393.015\">2.9</text>\n",
       "</g>\n",
       "<g clip-path=\"url(#clip00)\">\n",
       "<text style=\"fill:#00002d; fill-opacity:1; font-family:Arial,Helvetica Neue,Helvetica,sans-serif; font-size:12; text-anchor:middle;\" transform=\"rotate(0, 469.72, 393.015)\" x=\"469.72\" y=\"393.015\">3.1</text>\n",
       "</g>\n",
       "<g clip-path=\"url(#clip00)\">\n",
       "<text style=\"fill:#00002d; fill-opacity:1; font-family:Arial,Helvetica Neue,Helvetica,sans-serif; font-size:12; text-anchor:middle;\" transform=\"rotate(0, 511.835, 393.015)\" x=\"511.835\" y=\"393.015\">3.4</text>\n",
       "</g>\n",
       "<g clip-path=\"url(#clip00)\">\n",
       "<text style=\"fill:#00002d; fill-opacity:1; font-family:Arial,Helvetica Neue,Helvetica,sans-serif; font-size:12; text-anchor:middle;\" transform=\"rotate(0, 553.949, 393.015)\" x=\"553.949\" y=\"393.015\">3.7</text>\n",
       "</g>\n",
       "<g clip-path=\"url(#clip00)\">\n",
       "<text style=\"fill:#00002d; fill-opacity:1; font-family:Arial,Helvetica Neue,Helvetica,sans-serif; font-size:12; text-anchor:middle;\" transform=\"rotate(0, 596.063, 393.015)\" x=\"596.063\" y=\"393.015\">4.0</text>\n",
       "</g>\n",
       "<g clip-path=\"url(#clip00)\">\n",
       "<text style=\"fill:#00002d; fill-opacity:1; font-family:Arial,Helvetica Neue,Helvetica,sans-serif; font-size:12; text-anchor:end;\" transform=\"rotate(0, 33.3407, 383.591)\" x=\"33.3407\" y=\"383.591\">-19</text>\n",
       "</g>\n",
       "<g clip-path=\"url(#clip00)\">\n",
       "<text style=\"fill:#00002d; fill-opacity:1; font-family:Arial,Helvetica Neue,Helvetica,sans-serif; font-size:12; text-anchor:end;\" transform=\"rotate(0, 33.3407, 354.733)\" x=\"33.3407\" y=\"354.733\">-16</text>\n",
       "</g>\n",
       "<g clip-path=\"url(#clip00)\">\n",
       "<text style=\"fill:#00002d; fill-opacity:1; font-family:Arial,Helvetica Neue,Helvetica,sans-serif; font-size:12; text-anchor:end;\" transform=\"rotate(0, 33.3407, 335.494)\" x=\"33.3407\" y=\"335.494\">-14</text>\n",
       "</g>\n",
       "<g clip-path=\"url(#clip00)\">\n",
       "<text style=\"fill:#00002d; fill-opacity:1; font-family:Arial,Helvetica Neue,Helvetica,sans-serif; font-size:12; text-anchor:end;\" transform=\"rotate(0, 33.3407, 306.636)\" x=\"33.3407\" y=\"306.636\">-11</text>\n",
       "</g>\n",
       "<g clip-path=\"url(#clip00)\">\n",
       "<text style=\"fill:#00002d; fill-opacity:1; font-family:Arial,Helvetica Neue,Helvetica,sans-serif; font-size:12; text-anchor:end;\" transform=\"rotate(0, 33.3407, 277.778)\" x=\"33.3407\" y=\"277.778\">-8</text>\n",
       "</g>\n",
       "<g clip-path=\"url(#clip00)\">\n",
       "<text style=\"fill:#00002d; fill-opacity:1; font-family:Arial,Helvetica Neue,Helvetica,sans-serif; font-size:12; text-anchor:end;\" transform=\"rotate(0, 33.3407, 248.92)\" x=\"33.3407\" y=\"248.92\">-5</text>\n",
       "</g>\n",
       "<g clip-path=\"url(#clip00)\">\n",
       "<text style=\"fill:#00002d; fill-opacity:1; font-family:Arial,Helvetica Neue,Helvetica,sans-serif; font-size:12; text-anchor:end;\" transform=\"rotate(0, 33.3407, 229.682)\" x=\"33.3407\" y=\"229.682\">-3</text>\n",
       "</g>\n",
       "<g clip-path=\"url(#clip00)\">\n",
       "<text style=\"fill:#00002d; fill-opacity:1; font-family:Arial,Helvetica Neue,Helvetica,sans-serif; font-size:12; text-anchor:end;\" transform=\"rotate(0, 33.3407, 200.824)\" x=\"33.3407\" y=\"200.824\">0</text>\n",
       "</g>\n",
       "<g clip-path=\"url(#clip00)\">\n",
       "<text style=\"fill:#00002d; fill-opacity:1; font-family:Arial,Helvetica Neue,Helvetica,sans-serif; font-size:12; text-anchor:end;\" transform=\"rotate(0, 33.3407, 171.966)\" x=\"33.3407\" y=\"171.966\">3</text>\n",
       "</g>\n",
       "<g clip-path=\"url(#clip00)\">\n",
       "<text style=\"fill:#00002d; fill-opacity:1; font-family:Arial,Helvetica Neue,Helvetica,sans-serif; font-size:12; text-anchor:end;\" transform=\"rotate(0, 33.3407, 152.727)\" x=\"33.3407\" y=\"152.727\">5</text>\n",
       "</g>\n",
       "<g clip-path=\"url(#clip00)\">\n",
       "<text style=\"fill:#00002d; fill-opacity:1; font-family:Arial,Helvetica Neue,Helvetica,sans-serif; font-size:12; text-anchor:end;\" transform=\"rotate(0, 33.3407, 123.869)\" x=\"33.3407\" y=\"123.869\">8</text>\n",
       "</g>\n",
       "<g clip-path=\"url(#clip00)\">\n",
       "<text style=\"fill:#00002d; fill-opacity:1; font-family:Arial,Helvetica Neue,Helvetica,sans-serif; font-size:12; text-anchor:end;\" transform=\"rotate(0, 33.3407, 95.011)\" x=\"33.3407\" y=\"95.011\">11</text>\n",
       "</g>\n",
       "<g clip-path=\"url(#clip00)\">\n",
       "<text style=\"fill:#00002d; fill-opacity:1; font-family:Arial,Helvetica Neue,Helvetica,sans-serif; font-size:12; text-anchor:end;\" transform=\"rotate(0, 33.3407, 66.153)\" x=\"33.3407\" y=\"66.153\">14</text>\n",
       "</g>\n",
       "<g clip-path=\"url(#clip00)\">\n",
       "<text style=\"fill:#00002d; fill-opacity:1; font-family:Arial,Helvetica Neue,Helvetica,sans-serif; font-size:12; text-anchor:end;\" transform=\"rotate(0, 33.3407, 46.9143)\" x=\"33.3407\" y=\"46.9143\">16</text>\n",
       "</g>\n",
       "<g clip-path=\"url(#clip00)\">\n",
       "<text style=\"fill:#00002d; fill-opacity:1; font-family:Arial,Helvetica Neue,Helvetica,sans-serif; font-size:12; text-anchor:end;\" transform=\"rotate(0, 33.3407, 18.0563)\" x=\"33.3407\" y=\"18.0563\">19</text>\n",
       "</g>\n",
       "<polyline clip-path=\"url(#clip02)\" style=\"stroke:#0099ff; stroke-width:0.8; stroke-opacity:1; fill:none\" points=\"\n",
       "  34.5407,3.93701 48.5787,13.3639 62.6168,22.7909 76.6549,32.2179 90.6929,41.6447 104.731,51.0718 118.769,60.4986 132.807,69.9255 146.845,79.3526 160.883,88.7795 \n",
       "  174.921,98.2065 188.959,107.633 202.997,117.06 217.035,126.488 231.073,135.914 245.112,145.341 259.15,154.768 273.188,164.195 287.226,173.622 301.264,183.049 \n",
       "  315.302,192.476 329.34,201.903 343.378,211.329 357.416,220.757 371.454,230.184 385.492,239.61 399.53,249.038 413.568,258.464 427.606,267.892 441.644,277.318 \n",
       "  455.682,286.746 469.72,296.172 483.759,305.598 497.797,315.026 511.835,324.453 525.873,333.879 539.911,343.306 553.949,352.733 567.987,362.16 582.025,371.587 \n",
       "  596.063,381.015 \n",
       "  \"/>\n",
       "<polygon clip-path=\"url(#clip00)\" points=\"\n",
       "505.547,55.057 578.063,55.057 578.063,24.817 505.547,24.817 \n",
       "  \" fill=\"#ffffff\" fill-opacity=\"1\"/>\n",
       "<polyline clip-path=\"url(#clip00)\" style=\"stroke:#00002d; stroke-width:0.8; stroke-opacity:1; fill:none\" points=\"\n",
       "  505.547,55.057 578.063,55.057 578.063,24.817 505.547,24.817 505.547,55.057 \n",
       "  \"/>\n",
       "<polyline clip-path=\"url(#clip00)\" style=\"stroke:#0099ff; stroke-width:0.8; stroke-opacity:1; fill:none\" points=\"\n",
       "  511.547,39.937 547.547,39.937 \n",
       "  \"/>\n",
       "<g clip-path=\"url(#clip00)\">\n",
       "<text style=\"fill:#00002d; fill-opacity:1; font-family:Arial,Helvetica Neue,Helvetica,sans-serif; font-size:12; text-anchor:start;\" transform=\"rotate(0, 553.547, 44.437)\" x=\"553.547\" y=\"44.437\">y1</text>\n",
       "</g>\n",
       "</svg>\n"
      ]
     },
     "execution_count": 53,
     "metadata": {},
     "output_type": "execute_result"
    }
   ],
   "source": [
    "# Gráfico da variação da velocidade\n",
    "plot(t1:0.1:t2, velocidade, xticks = t1:0.1:t2, yticks = -20:20)"
   ]
  },
  {
   "cell_type": "markdown",
   "metadata": {},
   "source": [
    "**Comparando com o valor analítico**"
   ]
  },
  {
   "cell_type": "code",
   "execution_count": 61,
   "metadata": {
    "collapsed": false
   },
   "outputs": [
    {
     "data": {
      "text/latex": [
       "$$-0.00105754006657577$$"
      ],
      "text/plain": [
       "-0.00105754006657577"
      ]
     },
     "execution_count": 61,
     "metadata": {},
     "output_type": "execute_result"
    }
   ],
   "source": [
    "# Erro percentual\n",
    "(abs(dnum(S, t2, \"progressiva\") - diff(S(t), t)(t2) )/diff(S(t), t)(t2))*100"
   ]
  },
  {
   "cell_type": "markdown",
   "metadata": {},
   "source": [
    "+ ### DERIVADA PARCIAL###"
   ]
  },
  {
   "cell_type": "code",
   "execution_count": 200,
   "metadata": {
    "collapsed": false
   },
   "outputs": [
    {
     "data": {
      "text/plain": [
       "(x,y)"
      ]
     },
     "execution_count": 200,
     "metadata": {},
     "output_type": "execute_result"
    }
   ],
   "source": [
    "using SymPy\n",
    "@syms x y"
   ]
  },
  {
   "cell_type": "code",
   "execution_count": 201,
   "metadata": {
    "collapsed": false,
    "scrolled": true
   },
   "outputs": [
    {
     "name": "stderr",
     "output_type": "stream",
     "text": [
      "WARNING: Method definition fxy(Any, Any) in module Main at In[175]:1 overwritten at In[201]:1.\n"
     ]
    },
    {
     "data": {
      "text/plain": [
       "fxy (generic function with 1 method)"
      ]
     },
     "execution_count": 201,
     "metadata": {},
     "output_type": "execute_result"
    }
   ],
   "source": [
    "fxy(x, y) =  x*y + x^2 - 2*y"
   ]
  },
  {
   "cell_type": "code",
   "execution_count": 202,
   "metadata": {
    "collapsed": false,
    "scrolled": true
   },
   "outputs": [
    {
     "data": {
      "text/latex": [
       "$$2 x + y$$"
      ],
      "text/plain": [
       "2*x + y"
      ]
     },
     "execution_count": 202,
     "metadata": {},
     "output_type": "execute_result"
    }
   ],
   "source": [
    "# Primeira Derivada parcial em relação a variável x\n",
    "diff(fxy(x, y), x, 1)"
   ]
  },
  {
   "cell_type": "code",
   "execution_count": 203,
   "metadata": {
    "collapsed": false
   },
   "outputs": [
    {
     "data": {
      "text/latex": [
       "$$1$$"
      ],
      "text/plain": [
       "1"
      ]
     },
     "execution_count": 203,
     "metadata": {},
     "output_type": "execute_result"
    }
   ],
   "source": [
    "# Testando para x = 0 e y = 1\n",
    "diff(fxy(x, y), x, 1)(0, 1) "
   ]
  },
  {
   "cell_type": "code",
   "execution_count": 204,
   "metadata": {
    "collapsed": false
   },
   "outputs": [
    {
     "data": {
      "text/latex": [
       "$$x - 2$$"
      ],
      "text/plain": [
       "x - 2"
      ]
     },
     "execution_count": 204,
     "metadata": {},
     "output_type": "execute_result"
    }
   ],
   "source": [
    "# Primeira derivada parcial em relação a variável y\n",
    "diff(fxy(x, y), y, 1)"
   ]
  },
  {
   "cell_type": "code",
   "execution_count": 205,
   "metadata": {
    "collapsed": false
   },
   "outputs": [
    {
     "data": {
      "text/latex": [
       "$$-2$$"
      ],
      "text/plain": [
       "-2"
      ]
     },
     "execution_count": 205,
     "metadata": {},
     "output_type": "execute_result"
    }
   ],
   "source": [
    "# Testando para x = 0 e y = 1\n",
    "diff(fxy(x, y), y, 1)(0, 1)"
   ]
  },
  {
   "cell_type": "markdown",
   "metadata": {},
   "source": [
    "Atribuíndo a derivada a uma variável"
   ]
  },
  {
   "cell_type": "code",
   "execution_count": 206,
   "metadata": {
    "collapsed": false
   },
   "outputs": [
    {
     "data": {
      "text/latex": [
       "$$2 x + y$$"
      ],
      "text/plain": [
       "2*x + y"
      ]
     },
     "execution_count": 206,
     "metadata": {},
     "output_type": "execute_result"
    }
   ],
   "source": [
    "# Primeira Derivada parcial em relação a variável x\n",
    "Dx = diff(fxy(x, y), x, 1)"
   ]
  },
  {
   "cell_type": "code",
   "execution_count": 207,
   "metadata": {
    "collapsed": false
   },
   "outputs": [
    {
     "data": {
      "text/latex": [
       "$$1$$"
      ],
      "text/plain": [
       "1"
      ]
     },
     "execution_count": 207,
     "metadata": {},
     "output_type": "execute_result"
    }
   ],
   "source": [
    "# Testando para x = 0 e y = 1\n",
    "Dx(0, 1)"
   ]
  },
  {
   "cell_type": "code",
   "execution_count": 208,
   "metadata": {
    "collapsed": false
   },
   "outputs": [
    {
     "data": {
      "text/latex": [
       "$$x - 2$$"
      ],
      "text/plain": [
       "x - 2"
      ]
     },
     "execution_count": 208,
     "metadata": {},
     "output_type": "execute_result"
    }
   ],
   "source": [
    "# Primeira derivada parcial em relação a variável y\n",
    "Dy = diff(fxy(x, y), y, 1) "
   ]
  },
  {
   "cell_type": "code",
   "execution_count": 209,
   "metadata": {
    "collapsed": false
   },
   "outputs": [
    {
     "data": {
      "text/latex": [
       "$$-2$$"
      ],
      "text/plain": [
       "-2"
      ]
     },
     "execution_count": 209,
     "metadata": {},
     "output_type": "execute_result"
    }
   ],
   "source": [
    "# Testando para x = 0 e y = 1\n",
    "Dy(0, 1)"
   ]
  },
  {
   "cell_type": "markdown",
   "metadata": {},
   "source": [
    "## APLICAÇÕES DAS DERIVADAS: MÁXIMOS E MÍNIMOS DE FUNÇÕES"
   ]
  },
  {
   "cell_type": "code",
   "execution_count": 1,
   "metadata": {
    "collapsed": false,
    "scrolled": true
   },
   "outputs": [
    {
     "data": {
      "text/plain": [
       "(x,)"
      ]
     },
     "execution_count": 1,
     "metadata": {},
     "output_type": "execute_result"
    }
   ],
   "source": [
    "using SymPy\n",
    "@syms x"
   ]
  },
  {
   "cell_type": "code",
   "execution_count": 2,
   "metadata": {
    "collapsed": false
   },
   "outputs": [
    {
     "data": {
      "text/plain": [
       "fg (generic function with 1 method)"
      ]
     },
     "execution_count": 2,
     "metadata": {},
     "output_type": "execute_result"
    }
   ],
   "source": [
    "fg(x) = x^3 - x^2 - x + 5"
   ]
  },
  {
   "cell_type": "code",
   "execution_count": 212,
   "metadata": {
    "collapsed": false,
    "scrolled": false
   },
   "outputs": [
    {
     "data": {
      "text/html": [
       "<img src=\"data:image/png;base64,iVBORw0KGgoAAAANSUhEUgAAAZAAAAEsCAYAAADtt+XCAAAABHNCSVQICAgIfAhkiAAAAAlwSFlzAAAPYQAAD2EBqD+naQAAIABJREFUeJzt3XlcFeX+B/DPM3NARMQNVxQBRcVwAZdEM7UFzWpyK/Nm96oRlYrSotW1QqubaWnmkumFvLe8oZmItGqWJWiYcowCMXMBzC3RDBEVzszz+4MfJjsczpmZM/N9v1687vVwlu/5NM7XZ5bnYZxzDkIIIaSeBK0LIIQQ4pqogRBCCLGLRa0Pys/Px7Zt2+Dv74/GjRur9bGEEEJqceXKFeTk5GDkyJHw8fGp8+tUayDbtm3D5MmT1fo4Qggh9bR+/Xo89NBDdX6+ag3E398fQGmBwcHBdr3HuSsc/zogI+XMX4+JDGjRCGjl8f8/jYCWjRhaNQJaeTC0bAT4/P//ersDAmPl3vP4JY7E4wo+yeO4VAwMaA2M8xcwogODm8jgimJiYrBs2TKtyzA8ylkdlLPzZWdnY/Lkydf303WlWgMpO2wVHByMsLCwer2Wc473f+WI+VlGo+bAByNFhLZiaOdZ2jwqNoX6CAMwfhhwxcbx8XGONdkKnj/L0eYSMK2bgEd7CAj0dq1G0rx583pnTOqPclYH5aye+p5eUK2B2OvkZY6oFBmfn+CY3JXh7XARLT0cv0NvbGF4OIjh4SABmRc41h5SsDpbwesZCiJ8GR4LFnBvZwY3Qf/NpLi4WOsSTIFyVgflrF+6bSCcc/znMMeTaTI8LUByhIh7O6tz0VhIS4blg0W8PlDAR8dKRyXjd8ho7/nXqKRzU/02kh9//FHrEkyBclaHljnn5eUhPz9fs893Fh8fH/j5+TX4fXTZQE4UcjyaImPbbxxTujEsHSSiRSP1d9ieFoYp3RimdBOQcb60kSzPUvDajwpGdWJ4PFjA6E4MFp2NSrp37651CaZAOatDq5zz8vIQHByMoqIiTT7fmTw9PZGdnd3gJqKrBsI5R9wvHE+nyfB2Bz4bKWK0nz5uVenTiuGdW0QsvlnAhqOlzeS+7TJ8mwDTgwXM6SPo5vDW448/rnUJpkA5q0OrnPPz81FUVNSgC3/0qOyEeX5+vnEaSO6l0lHHVyc5HunOsGSQiGbu+tgh38jLjSGyB0NkDwHW/NJGEpuu4OtTHB/dLqKVE87P1NekSZO0LsEUKGd1aJ2zPRf+mIXm/7znnGNNtoyQzTZkX+T4cpSIuFstumweFYX5MKwZKmLH3SJ+usAxMMmGzAs0tRghxBw0bSDHCzju+FzG46kK/tZFQNYEC0Z20ryn1duw9gL2jbHAyw0IT7Zha46iaT3x8fGafr5ZUM7qoJz1S5O9tcI5VmXJ6LXZhqMFHF+NFrFmqAhvFxh1VMe/KcNuyYIIX4YxX8n41wEZWk10bLVaNflcs6Gc1UE51y43NxcjRoxQ/Z4Z1RvIiUKO2z6TMXOPgr8HCfh5vAV3+LreqKMqXm4Mm+4QMT9MwAv7FUz6RkaRTf0msmrVKtU/04woZ3VQzrXz9vbGv/71LyQkJKj6uarvuR/8RkZeIcfXo0W8c4uIpi486qiKwBhi+4n4+A4Rn+Rx3JJsQ14hnRchhDTckiVL8Nhjj13/859//onWrVuDMYbBgwfD09NT1XpUvwpL8mOIH2+Bl5uxGkdF4wMEdPVmuG+7DQOSbEi8Q8SQdsYYaRFCSh0r4Lho543yzd1R72mSIiMj0b17d7zxxhvw9vbGunXrMGbMGDRv3ty+IhpI9QbybF/R8M2jTJ9WDPvGWDBhh4wRn8lYPQR4pAc1EUKMIP8qR9BHNih2HmAQGXBmsgU+9bj0v1mzZpgwYQLee+89xMTEYPXq1fjoo4/sK8ABdHMfiFG1bszw1WgRs/YoiEyRkXGBY+kgwal3r0uShOTkZKe9PylFOatDrzn7eDD8+oClQSOQ+jSPMtHR0ZAkCT169ECbNm3Qp08f+wpwAGogKnAXGd4dKqJPK2DWHgUH/yi96dAZk0ICwMyZM53yvqQ8ylkdes5Zi5m6u3fvjsDAQERFReHNN98s9zvOuapXf9LxFBU90VPEV6NF/HieY+BWG7KcdNNhRESEU96XlEc5q4NyruzRRx+FLMsYP348gNIVBTt16oSJEyden+Nq3rx5Tq+DRiAqG95BwL4xDNJ2GwYl2/DhCPVmGSaEGMPOnTsxffp0iKIIoHQdjxMnTqheB+25NBDgzbBHsuCODgz3bZfxmoY3HRJCXMfp06cRHByMAwcOICYmRutyqIFopak7w+Y7RbwYJmCeg286TEpKcsj7kJpRzuqgnP/Svn17ZGdnIzU1FU2aNNG6HGogWhIYw4J+Ij66vfSmw2GfyPizuOFNRO27Uc2KclYH5axf1EB04P5AAan3WvBrAceEHTJK7L2w/P9t3LjRQZWRmlDO6qCc9YtOoutEqA9D4h0iRn0p44lUGf8eKoIxc9xwSYieZWdna12CQzny+1AD0ZHbfAX8eygw5TsZXbwVPN9X1LokQkzLx8cHnp6emDx5stalOJynpyd8fHwa/D7UQHTmH90EHLvE8c99Cvy9GCZ1paOMhGjBz88P2dnZyM/P17oUh/Px8WnwcrYANRBdmh8m4FgBx5TvZHTyAm6p5ySMU6dOxbp165xUHSlDOatDy5z9/PwcsqM1KvrnrQ4xxhB3q4jwtqX3ifz6Z/1OqtOdu+qgnNVBOesXNRCdaiQybLlTRGsPYPSXNuRfrXsTmTRpkhMrI2UoZ3VQzvpFDUTHWjRi+HyUBX8WA/dtl3FVg9UNCSGkOtRAdC7QmyE5QoQ1v/SciEJTnhBCdIIaiAsY1FbA+hEiPjrG8cJ+pdbnp6amqlAVoZzVQTnrFzUQFzE+QMDimwUs/FHBvw/V3EQWL16sUlXmRjmrg3LWL7qM14U83UvAsQLgiVQZnb2AiI5V9/8NGzaoXJk5Uc7qoJz1i0YgLoQxhuWDBYzsyDBhh4yfq1mQytPTU+XKzIlyVgflrF/UQFyMRWDYcJuILt6ll/eeukwn1Qkh2qAG4oKaujN8OtICDuCebTYUllATIYSojxqIi/JtwvDZSAt+LQAe/FqG7YYp4OfMmaNhZeZBOauDctavahuIv78/goODERoairCwMGzatKnK53366acIDg5G9+7dMWHCBBQWFjqtWFJen1YMm24X8eVvHDHfK9eXxaW5e9RBOauDctYvxqtZjDswMBBbt25Fr169qn3x5cuX0aVLF6SkpCAoKAjR0dFo3LhxlZfdWa1W9OvXD+np6QgLC3PcNyBYm63gsVQZSwcJeLIXTQFPCKkfe/fP1Y5AOOeoprdc98UXXyAsLAxBQUEAgOnTp9PykxqIChYwt7eAp9MUbDle+42GhBDiCDWeA3n44YfRp08fPProo1XOiZ+Xl4fOnTtf/7O/vz/OnDkDRaGdmNoWDhQwIYDhoZ0yfvid8ieEOF+1DSQlJQUZGRmwWq1o1aoV/vGPf6hZF6kngTH8d7iIvq0Y7v78Gs4W0ZVZznbo0CGtSzAFylm/qm0gHTt2BACIooiYmJgq56Px8/NDTk7O9T8fP34c7du3hyBUP7AZPXo0JEkq9xMeHo6kpKRyz9u+fTskSar0+hkzZiA+Pr7cY1arFZIkVRolxcbGYtGiReUey8vLgyRJlTbKFStWVLrao6ioCJIkVfruCQkJmDp1aqXaJk6cqOn3aGxhuDvvP/jj4kVM2yVfPwTpat8DcI3/HnPnzjXE97iRHr9HWc6u/j3KaP09EhISIEkSfH19MXDgQEiShJiYmEq110WVJ9GLiopQUlKCZs2aAQCWLl2K5ORkfPvtt+WeV1hYiK5du2LXrl3o1q0bnUTXiXX7z2LagZZYNUTA9J50Ut1Z8vLy6AohFVDOzmfv/rnKubDOnj2L8ePHQ1FKLw0NDAzE+++/D6C0S/r6+iIqKgpeXl6Ii4vDfffdB1mWERISgv/+97+O+UbEblP7t8W+qzKeTlMwor2A4BZM65IMiXZq6qCc9avay3gdjUYg6iqycfTbYkNjEUi7zwJ3kZoIIaRqDr+Ml7g2TwvD/0ZY8PMF4KV0uiqLEOJ41EAMqOxEXJgPwyv9BSzOUPDtKWoijlbxhCdxDspZv6iBGFBRUdH1/z+nt4Ch7Rj+/q2Mi9fo0l5HujFn4jyUs35RAzGgBQsWXP//osDwwQgRBSXA9N2yhlUZz405E+ehnPWLGogJ+HkxvDNERMJRjv8doUNZhBDHoAZiEn/rKuBvXRimp8rIuUSHsgghDUcNxICqmrcMAFYNEdG8EfD3b2XICjWRhqouZ+JYlLN+UQMxoGnTplX5ePNGDB8MF5F6hmPxT3Qoq6Gqy5k4FuWsX9RADGj+/PnV/u7W9gKe7SPgpf0K9p+jJtIQNeVMHIdy1i9qIAZU252kC/oJ6N0KeGinjMu0nrrdaEYFdVDO+kUNxITcxdK71E8UAs/spVEIIcQ+1EBMqkdzhiWDBLybreCTXGoihJD6owZiQBXXH6jO48EC7vFjeGSXTAtQ2aGuOZOGoZz1ixqIAVmt1jo9jzGG+FtFMIZyC1CRuqlrzqRhKGf9ogZiQKtWrarzc9s0ZnjvVhGfn+BYnU2HsuqjPjkT+1HO+kUNhOBuPwFPBAt4Ok1B9h80CiGE1A01EAIAeHOQAP+mwEM7bSiWqYkQQmpHDYQAoAWoCCH1Rw3EgCRJsut1tABV/dibM6kfylm/qIEY0MyZM+1+7Y0LUP1BC1DVqCE5k7qjnPWLGogBRURE2P1aWoCq7hqSM6k7ylm/qIGQSvy8GFYNEbHhKEcy3aVOCKkGNRBSpb91YRjVkWHmbhmFNOEiIaQK1EAMKCkpqcHvwVjpMrj5V4FYuiqrSo7ImdSOctYvaiAGlJCQ4JD3CfBmiA0TsCxTwYF8GoVU5KicSc0oZ/2iBmJAGzdudNh7PdVbQM/mQFQKLYNbkSNzJtWjnPWLGgipkZvAsHaoiP35HKsO0qEsQshfqIGQWoW3FfB4sIB5+xX8VkijEEJIKWogpE4WDhDgZQFmfU/3hhBCSlEDMaCpU6c6/D2bN2J4O1zElhyOrTl0KAtwTs6kMspZv6iBGJCz7ty9P5Dhrk4MM/fIuFRMh7LoDml1UM76RQ3EgCZNmuSU92WMYdVgEefp3hAAzsuZlEc56xc1EFIvAd4M8/sJeDtLgZXuDSHE1KiBkHp7speAm1rQvSGEmB01EANKTU116vu7CQxrbhFhNfm9Ic7OmZSinPWLGogBLV682OmfQfeGqJMzoZz1jBqIAW3YsEGVz1k4sPTekOg95rw3RK2czY5y1q8aG8i6desgCAKSk5Or/P2iRYtw0003ITQ0FIMHD8a+ffucUiSpH09PT1U+p5k7w/LBIpJyOZJMeG+IWjmbHeWsX9U2kNzcXMTFxSE8PLzK32dkZGD16tXYv38/Dhw4gBkzZtDSkyY0IYBhdCeGaLo3hBDTqbKBcM4RGRmJlStXwt3dvcoXMsZgs9lw6dIlAMDFixfRqVMn51VKdImx0tULz18FXqJ7QwgxlSobyNKlSzF06FCEhoZW+8LevXsjJiYGAQEB8PPzw7Jly7BixQqnFUrqbs6cOap+nn9ThgX9BCzPUpB+zjyjELVzNivKWb8qNZCsrCxs3rwZ8+bNq/GFOTk5SExMxLFjx5CXl4eYmBg88MADTiuU1J2fn5/qnxnTS0BICyAq1QabSe4N0SJnM6Kc9atSA0lJSUFubi6CgoIQEBCAtLQ0REVFYc2aNeWet3nzZvTu3Rtt27YFUDrh2e7du2Gz2Wr8wNGjR0OSpHI/4eHhlZat3L59OyRJqvT6GTNmID4+vtxjVqsVkiQhPz+/3OOxsbFYtGhRucfy8vIgSRIOHTpU7vEVK1ZU+pdOUVERJEmqdB16QkJClRO8TZw4URffIy8vT/XvUXZvyIF84Llteab47xEdHW2I73EjPX6Pspxd/XuU0fp7JCQkQJIk+Pr6YuDAgZAkCTExMZVqrxNei+HDh/OtW7dWejwxMZGHhITwwsJCzjnnGzZs4D169Kj2fdLT0zkAnp6eXttHEhc2PdXGvdYV87xLitalEELqyN79s6W2BsMYu/7/Y2Nj4evri6ioKIwdOxb79+9H//794eHhgSZNmuDDDz+0r4sRw3htgIAtOQpm7ZGxJaLWzYsQ4sIY51yVA9ZWqxX9+vVDeno6wsLC1PhI0zp06BB69Oih2ed/fEzB/V/L2HKniDH+xr1XVeuczYJydj5798/G/dttYnPnztX088cHMNxtgnVDtM7ZLChn/aIGYkArV67U9PMZY1g5RMQf14AXDXxviNY5mwXlrF/UQAxID5c9lt0bsiJLwf5zxmwiesjZDChn/aIGQpxmdoiAXi2Ax1Jp3RBCjIgaCHEaN4Hh3VtEWPOBuF+MOQohxMyogRhQxZuRtDSorYAp3Rjm7VNw4aqxRiF6ytnIKGf9ogZiQEVFRVqXUM7CASKKFeNNtqi3nI2KctYvaiAGtGDBAq1LKKedJ8P8MAGrsxVknDfOKERvORsV5axf1ECIKmbeJKBbM2DWHhkq3btKCHEyaiBEFe4iw9vhInad4fjoGDUQQoyAGogBVZzlUy8iOgoY05nhmb0yLpe4fhPRa85GQznrFzUQA5o2bZrWJVRrySAR564CC390/RPqes7ZSChn/aIGYkDz58/XuoRqBXozzOkt4I2fFBwtcO1RiJ5zNhLKWb+ogRiQ3mc7fr6vgLaNgafSZK1LaRC952wUlLN+UQMhqvO0MLx5s4jkXI4vT7j+oSxCzIoaCNHE/YEMw9szzP5eRrHs2oeyCDEraiAGVHENZj1ijGH5YBFHCoDlWa45CnGFnI2ActYvaiAGZLVatS6hTnq1ZJgeLGCBVcHpItcbhbhKzq6OctYvaiAGtGrVKq1LqLOX+wtoJADP/eB6J9RdKWdXRjnrFzUQoqkWjRheGyDi/V85vj/rmoeyCDEraiBEc490ZwjzAaL3KFBonixCXAY1EKI5UWBYHi4iPZ/jvV+ogRDiKqiBGJAkSVqXUG9D2gmY3JXh+X0yLl5zjSbiijm7IspZv6iBGNDMmTO1LsEuiwaKuCoDsS6y8JSr5uxqKGf9ogZiQBEREVqXYJcOTRheDBWw6qCCzAv6H4W4as6uhnLWL2ogRFdiQgR08QZmf08LTxGid9RAiK64iwzLwkV8c4pj83FqIIToGTUQA0pKStK6hAa5q5OAe/wYnt4ro8im3ybi6jm7CspZv6iBGFBCQoLWJTTYW4NEnCkCFmfo94S6EXJ2BZSzflEDMaCNGzdqXUKDdW3G8HRvAYsyFORc0ucoxAg5uwLKWb+ogRDd+mdfAa08gKddfOEpQoyKGgjRLS83hjcGikjM4dhxUr+HsggxK2ogRNce7MIwtB3DrD0yShR9HsoixKyogRjQ1KlTtS7BYcoWnvrlT2CVzhaeMlLOekY56xc1EAMy2p27fVsxPNZDQGy6gt+v6GcUYrSc9Ypy1i9qIAY0adIkrUtwuFf6CxAF4IX9+jmhbsSc9Yhy1i9qIMQltPJgWBAmIO4Qx4F8/YxCCDGCwhL7/k5RAyEu4/GeAoKb0zxZhDja4gz7RvY1NpB169ZBEAQkJydX+fsTJ05AkiT06NEDISEhtHaxTqSmpmpdglO4CQxvDxaRcoZj0zHtG4hRc9Ybytm5imWO707b99pqG0hubi7i4uIQHh5e7YvHjh2LKVOm4NChQ8jMzMQDDzxgXxXEoRYvXqx1CU5zh6+A+zozzPlB+3myjJyznlDOzrXzFEdhiX2vrbKBcM4RGRmJlStXwt3dvcoXfv311/Dw8MC4ceOuP9a6dWv7qiAOtWHDBq1LcKo3by6dJ+vNn7S9rNfoOesF5exciTkcvk3se22VDWTp0qUYOnQoQkNDq33hwYMH4ePjg0mTJiEsLAzjx4/H8ePH7auCOJSnp6fWJThV12YMT/YS8PqPCk4UajcKMXrOekE5O4+scCTlKri9A7Pr9ZUaSFZWFjZv3ox58+bV+EKbzYadO3ciNjYWVqsVERERdAiLqGZeXwHN3IFnf9DPZb2EuJrvf+f4/QowwlENJCUlBbm5uQgKCkJAQADS0tIQFRWFNWvWlHuen58fQkND0aNHDwDAww8/jAMHDkCWa/4LPXr0aEiSVO4nPDy80pz/27dvhyRJlV4/Y8YMxMfHl3vMarVCkiTk5+eXezw2NhaLFi0q91heXh4kScKhQ4fKPb5ixQrMmTOn3GNFRUWQJKnSSbyEhIQq746dOHEifQ+VvkdTd4aFA0UkHOWIXb/dZb/HjVz5vwd9D9f5HgkJCZAkCb6+vpjw2v/Q6OoFvPfK05VqrxNei+HDh/OtW7dWevzy5cu8S5cu/OTJk5xzzj/66CMeEhJS7fukp6dzADw9Pb22jyQN9Mwzz2hdgipkReH9E0t4WGIxt8mK6p9vlpy1Rjk7h6IovPOHxXx6qs3u/bOltgbD2F9Dm9jYWPj6+iIqKgqenp549913cffddwMAmjVrRie7dMLPz0/rElQhMIblgwUMTpbxn8Mcj/SwbxhuL7PkrDXK2TkOnAdyC4Gx/gw4a997MM7VuSPLarWiX79+SE9PR1hYmBofSUxi8k4bvjrJcfgBC5q5q9tECHFVL+6XseqggrOTLfj5xwN27Z/pTnTi8l4fIKKwBHj1gL5m6yVEzxKPK5D8GNwE+//RRQ2EuLyOXgzP9xHwdqaCwxe1v0OdEL07dJHj4EVgXEDDWgA1EAOqeMWGGTzdW4CvJ/D0XvUu6zVjzlqgnB1vS46CJhbgTt+GHfKlBmJAc+fO1boE1TW2MLw5SMSneRxfnlDnUJYZc9YC5ex4W3I47urE0NhCDYRUsHLlSq1L0MQ4f4bh7RmeTFNn+Vuz5qw2ytmx8go59p3jGOff8N0/NRADMutlj4wxLAsXcfhP4J2Dzh+FmDVntVHOjpWUo8BNAEb7NfyKRWogxFD6tGKI+v/lb8/paPlbQvRiSw7HHb7MIZe8UwMhhvNyPwEMwEvpdFkvITc6d4Vj1xnHHL4CqIEYUsX5dMymdWOG+f0ErD2kIOO880YhZs9ZLZSz4yTnlv59kDo75oZbaiAGVFRUpHUJmpveU0C3ZkCME5e/pZzVQTk7TmKOglvaMrRpTA2EVGPBggVal6A5N4Fh2SAR357mSMxxTgOhnNVBOTtGQTHHjpMc4wIcN90PNRBiWCM7CbjHj+HpNBlXNF7+lhCtfX6Co1gBxjro/AdADYQY3JKbRZwqApZovPwtIVpLPK6gnw+DnxeNQEgNKi5UY2bdmjPMDhGwMEPBbw5e/pZyVgfl3HBXbByfn+AY5+/Y2aqpgRjQtGnTtC5BV14IFeDlBjy3z7HzZFHO6qCcG27HSY7LtoZPnlgRNRADmj9/vtYl6Eozd4aFA0T87wjHnrOOO5RFOauDcm64xBwFwc2BHs1pBEJqQQt2VTalG0M/H4bZexQoDrqsl3JWB+XcMDaFIzmXO/TkeRlqIMQUBMbwdriA/fkc7/9KV2QR89h1muPCNTjs7vMbUQMhpjGknYBJXRie+0FGQTE1EWIOiTkcfl5AmI/j35saiAHFx8drXYJuLR4o4lIJMN8B82RRzuqgnO2ncI4tOQrG+QtgzLHnPwBqIIZktVq1LkG3OnoxvBgqYHmWgswLDRuFUM7qoJzt98PvHKeKgLEOvny3DDUQA1q1apXWJejaU70EdPEGovc0bJ4sylkdlLP9tuRwtPYAhrSlBkKIQ7iLDCsGl86TtfEYnQshxsQ5R2KOgjH+DKJADYQQh4noKGCsf+k8WZfohDoxoMw/gCMFjp37qiJqIMS03hok4o9rwKsHaJ4sYjyJxxV4uwG3dXDO6AOgBmJIkiRpXYJL6NyU4Z99BSz9WcGhi/UfhVDO6qCc7bMlR8E9fgyNRGogpB5mzpypdQku45neAjo3te+EOuWsDsq5/o4WcGRccPzcVxVRAzGgiIgIrUtwGR4WhrfDRew4ybH5eP0aCOWsDsq5/rbkKPAQgVEdnTf6AKiBEIK7/QTc68fwVJqMyyV0Qp24vi05HCM7MjRxowZCiNMtCxfx+1XgtR/phDpxbaeLOPac5U6Z+6oiaiAGlJSUpHUJLifQm+HZPgLe/EnBr3/WbRRCOauDcq6fpBwFIgPu8XPu6AOgBmJICQkJWpfgkp7rI6CDJzCrjifUKWd1UM71k5jDMaIDQ0sPaiDEDhs3btS6BJfU2MKwLFzEl7+Vrp9QG8pZHZRz3V24yvHtKccvXVsdaiCE3EDqzDCqI0PM9zKu2OiEOnEtn+ZxyBwYo8L5D4AaCCHlMMawfLCIU0XA6xl0Qp24lsQcBYPaMLT3pBEIIZoIasbwTG8BizIUHCugUQhxDZdLOLb9xjEuQJ3mAVADMaSpU6dqXYLL+2dfAW08gJjv5WqfQzmrg3Kumy9/47gqO3fyxIqogRgQ3bnbcE3cGJYOEvFJHsdneVUfyqKc1UE5103icQW9WwJdvHUyAlm3bh0EQUBycnKNbzJlyhQIgoCCggKHFkfsM2nSJK1LMITxAQx3+DLM/l7G1SpOqFPO6qCca1csc3yap87Ngzeq9tNyc3MRFxeH8PDwGt9gy5YtcHd3d8p6u4RoibHShadyLwFv/kQn1Il+fXOKo6DE+ZMnVlTlp3HOERkZiZUrV8Ld3b3aF589exYLFy7EW2+91aClQQnRqx7NGZ7sJeC1HxXkXqJtnOhTYo6Crt5ASAt1P7fKBrJ06VIMHToUoaGhNb44KioKb7zxBpo0aeKU4oh9UlNTtS7BUF4MFdCiEfBkWvkT6pSzOijnmskKR1IOx1h/QfUjQZUaSFZWFjZv3ox58+bV+ML4+Hh07twZw4YNc1pxxD6LFy/WugRDaerOsGSQiC05HNtO/HUoi3JWB+Vcs91nOc5dhWp3n9+oUgNJSUlBbm4ugoKCEBAQgLS0NERFRWHNmjXlnrdz505s3boVgYGBCAgIAAD07t0bGRkU2a+UAAAXvUlEQVQZNX7g6NGjIUlSuZ/w8PBKE6Zt3769ypXIZsyYgfj4+HKPWa1WSJKE/Pz8co/HxsZi0aJF5R7Ly8uDJEk4dOhQucdXrFiBOXPmlHusqKgIkiRV+hdQQkJClZcWTpw4URffIzAw0BDfQ0//PSYGMgxrzzDrexnzYl/GokWLsGHDBpf7Hjdylf8eZTm7+vco4+jvsSWHo4MnEOJ1tU7fIyEhAZIkwdfXFwMHDoQkSYiJialUe10wXsvJixEjRuDJJ5+sdVlJQRDw559/omnTplX+3mq1ol+/fkhPT0dYWJhdxRKipcwLHH0TbXi1v4Dn+opal0MIOOfw32DDvX4CVg6xf5u0d/9c6yn7G4+pxcbGYu3atdU+j06kEyMLackw6yYBrxxQ8FshbetEe9Z8IK8QGKvB4SsAsNT2hG+++eb6/1+wYEG1z5Pl6u/YJcQoYvsJ+PCogqf3yth4e61/fQhxqo+OKWjRCLi1vTYNhO5EN6CKx3iJ4zRzZ3jjZhEfHeN44KV3tS7HFGh7rtoVG0f8Lwr+HiTATaAGQhzEz89P6xIMbXJXhlvaMuzyHYdrMh3Kcjbanqv2vyMcF64B0TdptxunBmJA0dHRWpdgaIwxvHOLiPNiCyykNdSdjrbnyjjneDtTxr2dmapzX1VEDYQQO/RqyfB839I71DMv0CiEqGvnKY7MP4DZGo4+AGoghNhtXqiArt7AI7tkyAo1EaKeZZkKerUERnTQdg5CaiAGVPGmI+Icx3/9BXG3ith3jmN5Fh3Kchbanss7WlA68+7sm0TNJ7GlBmJAc+fO1boEU5g7dy4GtxUw8yYBL+yn1Qudhbbn8lZkKWjZCPhbV+1nQKcGYkArV67UugRTKMv5tQECfDyAx1JlupnWCWh7/ktBMcd7vyh4PFhAYws1EOIEdNmjOspy9nJjWHuLiB0nOf5zmBqIo9H2/Jd1hxVcsQHTe+pj162PKghxcSM7Cfh7EMNTaTJOF1ETIY4nKxwrshTcH8jQoYn2ow+AGgghDrN0kAh3EZi5m6b1IY73+QmOowXA7BD97Lb1UwlxmIpTQhPnqJhzKw+GFeEiEnM4Nh+nq7IchbbnUssyFQxqw3BzG/3stvVTCXGYoqIirUswhapyvj+Q4b7ODDN3y/jjGh3KcgTanoGfL3B8c4rravQBUAMxpJpmTSaOU1XOjDGsGiKiyAY8k0aHshyBtmdgeaYM3ybA+AB9nPsoQw2EEAfzbcLw5iAR7x3m2HGSDmWRhsm/yrH+CMeMntrNulsdaiCEOEFkd4bh7RmiUmRcLqFDWcR+a7NL/xES1UN/u2v9VUQarOJay8Q5asqZMYZ/DxVxugh4cT+NQhrCzNtzicLxTraCyV0ZWnnoa/QBUAMxpGnTpmldginUlnPXZgwv9xPwdpaCvb9TE7GXmbfnzcc5Tl4GZoXYv965M1EDMaD58+drXYIp1CXnJ3sJCG3FELlLRjEtPmUXM2/PyzIV3N6BoVdL/Y0+AGoghhQWFqZ1CaZQl5wtAkP8rSIOXQRez6BRiD3Muj3v/V3B3t/1d+nujfRbGSEG0acVw7N9BLx6QEEWLT5F6ujtTAVdvIG7/fQ5+gCogRCiihdCBQQ2BSJTaPEpUruTlzk2HeOYdZMAQeM1P2pCDcSA4uPjtS7BFOqTs4el9FDW3t85Vh6kQ1n1Ycbt+Z2DChpbgCnd9L2L1nd1xC5Wq1XrEkyhvjkPaSdgek8B/9ynIOcSjULqymzb8xUbx5psBdO6C/B21+/oA6AGYkirVq3SugRTsCfnhQMEtGoERKXQ4lN1Zbbt+cMjHBeuAdE36X/3rP8KCTGQpu4Ma4aK+Ookx/u/UgMh5XHOsSxTxr2dGbp463v0AVADIUR1d3USMLkrw5NpMs7S4lPkBjtPcWT+Acx2gdEHQA2EEE28FS5CZED0Hpqxl/zl7SwFIS2AER30P/oAqIEYkiRJWpdgCg3J2ceDYcVgEZuOcyTl0FVZNTHL9ny0gOOTXI6YEBFMx5fu3ogaiAHNnDlT6xJMoaE5TwxkuMeP4YlUGb9foUNZ1THL9rwiS0HLRsDfurpG8wCogRhSRESE1iWYQkNzZoxh7VARCoCHd8pQ6KqsKplhey4o5njvFwWPBQtobKEGQgipg/aeDOuHl16V9fqPdCjLrP5zWMEVGzC9p2vtkl2rWkIM6M6OAuaFCngxXUHKaWoiZiMrHMuzFNwfyODbxHVGHwA1EENKSkrSugRTcGTOsWECbmnLMGmnjHN0PqQco2/Pn5/gOFoAXc+6Wx3Xq5jUKiEhQesSTMGROVsEhg9vE3FNBv7+LZ0PuZHRt+e3MxXc3Ibh5jautzt2vYpJrTZu3Kh1Cabg6Jx9mzB8MFzEl79xvEFrh1xn5O355wscX5/iiHHB0QdADYQQXRnVScDzfQXM269g9xlqIka3PFOGbxNgfIBrnfsoQw2EEJ15uZ+A8DYMD34j4/xVOpRlVPlXOdYf4ZgeLMBNMGADWbduHQRBQHJycqXfZWZmYtiwYejZsyd69+6NyMhIXLt2zWmFEmIWFoEh4TYRV2zAP+h8iGGtzS4dYUYFu+6/46utPDc3F3FxcQgPD6/y9x4eHli1ahUOHjyIjIwMFBYWYtGiRU4rlNTd1KlTtS7BFJyZc0cvhveHi/jsBMfSn819KMuI23OJwvFOtoLJXRl8PFxz9AFU00A454iMjMTKlSvh7u5e5Qu7du2KkJAQAKV31A4YMAA5OTlOK5TUnRnu3NUDZ+c82k/AnN4Cnv9BQdpZ8zYRI27PHx/jOHkZmBUial1Kg1TZQJYuXYqhQ4ciNDS0Tm9y+fJlxMXFYcyYMQ4tjthn0qRJWpdgCmrk/K8BAga0Zpj4jYwLJj0fYrTt+VIxx7M/yBjdiaFXS9cdfQBVNJCsrCxs3rwZ8+bNq9MblJSU4MEHH8SoUaNMM2smIWpxExg23C7iUgkwdRetYmgEz+9TcP4asGqIa48+gCoaSEpKCnJzcxEUFISAgACkpaUhKioKa9asqfRim82GiRMnwtfXF2+99VadPnD06NGQJKncT3h4eKW7Tbdv315lQ5oxYwbi4+PLPWa1WiFJEvLz88s9HhsbW+m8TF5eHiRJwqFDh8o9vmLFCsyZM6fcY0VFRZAkCampqeUeT0hIqPK47MSJE+l70Pdw+PeY88iDeKLRPiTncizLVFz2exjlv0dDvkfqGQXvHJQR8ON78Lp2XpPvkZCQAEmS4Ovri4EDB0KSJMTExFSqvU54LYYPH863bt1a6XGbzcbHjRvHIyMja3sLzjnn6enpHABPT0+v0/OJ/VJSUrQuwRTUzvmp723cLa6Y7z0rq/q5WjPK9nylROHdNxbzm5NKuE1WtC6nHHv3z7VeP3bjwiaxsbFYu3YtgNK7Q5OSkrB//36EhoYiLCwM0dHR9nUx4lCLFy/WugRTUDvnhQMEhPkwTPxaxh/XzHMoyyjb86sHFBy7BMQPFSG66H0fFTHO1TmoarVa0a9fP6SnpyMsLEyNjzStoqIieHp6al2G4WmRc84ljtBEG4a3Z0i803VWrmsII2zPGec5+m+x4YVQAbH99Hfuw979s+vewUKq5ep/2VyFFjn7N2VYN0xEUi7HiixzXNrr6tuzTeF4ZJeMHs2B5/saa5drrG9DiAmM8RcwO0TAM3sV7D9njibiyt76WYE1nyPuVhHuorFGjNRACHFBiwcK6NOy9HzIn8XmOR/iao78yfFSuoKYEMElp2uvjfG+Eal0eR9xDi1zdhcZNt4u4vw1INLg94e46vbMOcejKTLaewKv9DfmrtaY38rk/Pz8tC7BFLTOOdCb4b1bRXx8nOOdg8Y9lKV1zvaK+4Xj29Mca4eKaOJmrENXZaiBGBBdTq0OPeQ8LkDAzJ4CnkorPc5uRHrIub5OXuZ4Jk3G1G4Md/gadzdr3G9GiEm8OUhASEtgwg4bThcZs4m4Es45pu+W4WkBlgzS3yW7jkQNhBAX10hk2HyHBcUKcOfnNuSbdNJFvdh0jCM5l2PlEBEtGhnz0FUZaiAGVHHeHOIcesrZvynD16MtOHcVGPmFzVBXZukp59qcv8oR/b2Mcf4M4wOMv3s1/jc0oblz52pdginoLefuzRm232XBsQLg7i9lXC4xRhPRW841eSpNRrEMrDTATLt1QQ3EgFauXKl1Caagx5z7tGL48i4RGRc4xn4l46rN9ZuIHnOuyrYTCt7/lWPJIBHtPY196KoMNRADctXLHl2NXnO+uY2ATyJEpJzhePAbGSWKazcRveZ8o8ISjqhUGbd3YJjazRzNA6AGQoghDe8gYPMdIj4/wTHlWxmyizcRvZu3T0H+VWDtUHNMcFmGGgghBjXaT8CHI0RsOMbxxG5j362upe/PKliRpeDV/gICvc3TPABqIIZUcVUz4hyukPOEQAHv3Sri34c4nk5TXLKJ6Dnna3LpTLsDWjPMusl8u1OL1gUQxysqKtK6BFNwlZz/0U3AZRvHjN0KmroDC3S4HkVN9Jzzvw4oOFIAWMcaZ5Go+qAGYkALFizQugRTcKWcp/cUcakYeG6fgqZuwDO9XaeJ6DXnn85zLPxRwT9DBYS0NF/zAKiBEGIaz/YVcakEmLNXgZcFeLyn6zQRvZEVjsgUGd2aAf802CJR9UENhBATeaW/gEslwPTdCrzcGCYHmXfn1xBvZyrYf45jtySikcEWiaoP2noMKD8/X+sSTMEVc2aM4a1wAVO7MUz5Tkbicf1PA6+3nI8WcLywX8GsEAHhbc29CzX3tzeoadOmaV2CKbhqzgJjWDtUxIQAhge/kfHlCX03ET3lzDlHVIqMNo2BVw26SFR9UAIGNH/+fK1LMAVXzlkUGD4YIWJUR4axX8nYdVq/TURPOS/5WcE3p0oXifIy6CJR9UENxIDCwsK0LsEUXD1nN4Hho9tFDGnLcM82GfvO6bOJ6CFnhXPM2Stjzl4Fz/YRENGRdp0ANRBCTM3DwpAUIaJXS4aRX8j4+YLr3WjobFdsHBO/lrHkJwVvhwt4fSBdvVaGGgghJuflxvDZSBH+XqULUh2+SE2kTP5Vjjs+l/FZHkfinSJmhVDzuBE1EAOKj4/XugRTMFLOzRsxbLvLgpaNgFs/teELHZ1Y1yrnI39yhG+14UgBx7f3iBjjT7vLiigRA7JarVqXYApGy7l1Y4add1sQ2oph9JcynkiVUaiDRam0yHnPWQWDttogMuB7yYKBbWhXWRVKxYBWrVqldQmmYMSc23oyfD5KxOohAt7/VUHfRBv2nNV2NKJ2zh8fU3DbZzJuasGwR7KYbobd+qAGQggphzGGx3uKyBhnQRsPhqGfyHj+BxnFsvajEWfinGPJTzIe+Lp0TfPto0W09KDmURNqIISQKnVtxrDrXhGv9hew5GcFA5Nshr1KS1Y4ovcoeGavguf6Clg/wtxTlNQVNRBCSLUsAsPzfUX8MMYCmQP9t9iwOMNYKxxeLildP/7dbAVrbhHx2gARgolWFWwIaiAGJEmS1iWYgply7tuKYd8YC2aHCHjuBwXDP5VxrECdJuLMnM8UcQz/VMbO0xyfjBQRFUy7xPqgtAxo5syZWpdgCmbL2cPCsPhmEd/dI+JkEUefRBviDjl/lUNn5Zz9B8egrTacKuJIudeCuzrR7rC+KDEDioiI0LoEUzBrzkPbC8gYZ8GDgQyPpsi4d5uMM0XOayLOyPnbUwoGJ9vQ1A1Iu8+Cvq3okJU9qIEQQuqtqTvDv2+14JMIEfvzOUI+tuHjY/q5+bAm639VEPGFjP6tGVIlCzp5UfOwFzUQQojd7uksIHOCBcM7MNz/tYyHd9pw8Zo+T7BzzvGKVcbD38p4qGvp/S7N3Kl5NAQ1EANKSkrSugRToJxL+XgwbLpdxAfDRXySx9Frsw07TjpuNOKInEsUjshdMl5KV/ByPwHv3SrCTaDm0VDUQAxo0aJFWpdgCpTzXxgrXR735/EWdG/GcOfnMv7xrQ2bjin4/UrDRiT25pxziWNttoL7d9jQ5gMbPjjC8f5wES+GiWB0ma5D1NhA1q1bB0EQkJycXOXvP/30UwQHB6N79+6YMGECCgsLnVIkqZ/WrVtrXYIpUM6VdfIqvYN7ebiAPWc5HvhaRtv1NvTcVIInUmVsOKrgdD1PuNc154JijuRcBTN3y+i2sQQBG2x4YreMk5eB2SEC0sda8DCtAe9Qlup+kZubi7i4OISHh1f5+8uXLyMyMhIpKSkICgpCdHQ0Xn75ZSxevNhpxRJC9E9gDNEhIqJDRJy6zPHd6dKfnacUvJtd+pwgb2B4B4Zh7QUMa8fQ0Y4T2bLCsT+f46vfOLaf5Pj+LIeNAwFNgQhfAa8PZLitA0PzRjTacJYqGwjnHJGRkVi5ciWeeuqpKl/4xRdfICwsDEFBQQCA6dOnIyIighoIIeS6Dk0YJnVlmNQVAEScKeLYdZrjuzMc351W8O9DMgAgsCkwrD3D8PYChrVn6Ny06p1+7qXSZrH9NwVfn+L44xrg7Qbc1oFh+eDSlQK70OSHqqmygSxduhRDhw5FaGhotS/My8tD586dr//Z398fZ86cgaIoEAQaJhJCKmvnyfBAF4YHugCAiHNXOHadKRulKFh3uLShdPYqbSjD2gs403YAonfL2H5SweE/AYEBA1szRN8kIMKXYWAbRifENVKpgWRlZWHz5s1ISUlx6AdduXIFAJCdne3Q9yWV/fDDD4Zbq0KPKGfHCAAQ4AFMCQAuduA4cJ7Dms+xdz/H+xcBtB2J375LR3gbhkfbMfRvzeBddvntKeDnU1pWbwxl++Wy/XSd8QpWr17NO3TowAMCAri/vz/38PDgbdu25e+++265523atImPGjXq+p+zsrJ4p06dKr7ddevXr+cA6Id+6Id+6EenP+vXr692H14VxmuZyGbEiBF48sknK01oVlhYiK5du2LXrl3o1q0boqOj0bhx42rPgeTn52Pbtm3w9/dH48aNa/pIQgghKrpy5QpycnIwcuRI+Pj41Pl11V6FVebG66VjY2Ph6+uLqKgoeHl5IS4uDvfddx9kWUZISAj++9//Vvs+Pj4+eOihh+pcGCGEEPUMGTKk3q+pdQRCCCGEVIUulyKEEGIXpzSQI0eOYMiQIejevTtuvvnmaq+8ys3NhcViQVhYGEJDQxEWFobjx487oyTDqWvGNFtAw9QlZ9qOG2b27NkICAiAIAj46aefqn0ebcsNU5ec670t1+uUex3ddttt/P333+ecc/7xxx/zAQMGVPm8nJwc3qJFC2eUYHh1ybiwsJC3bduWHz58mHPO+cyZM/mcOXNUrdPV1SVn2o4bJiUlhZ88eZIHBATwjIyMKp9D23LD1SXn+m7LDm8gv//+O2/WrBmXZfn6Y+3ateNHjx6t9NycnBzevHlzR5dgeHXNeNOmTfyuu+66/ueDBw/yjh07qlanq6trzrQdO4a/v3+1Ozbalh2nppzruy07/BDWiRMn0L59+3J3o/v5+SEvL6/K5xcVFWHAgAHo378/XnnlFacvj2kEdc24ptkCSO3qsy3TduxctC2rpz7bsqYn0Tt06ICTJ09i37592LFjB1JSUrBkyRItSyKk3mg7JkZR323ZIQ3kgw8+uH7CZceOHTh9+nS5fxnk5eXBz8+v0uvc3Nyu37TSvHlzTJs2zeFTqBhRp06d6pSxn58fcnJyrv/5+PHjlf5FTapX15xpO3Y+2pbVUd9t2SHpP/zwwzhw4ACsVivmzp2LsLAwfPDBBwCAjz/+GJ06dUJgYGCl1507dw42mw0AcO3aNSQmJtY4gSMp1bp16zplPGrUKBw4cACHDx8GAKxevRoPPvig6vW6qrrmTNux89G2rI56b8sOOStTwS+//MLDw8N5t27d+IABA3hmZub137300kt8zZo1nHPOExMTeUhICO/bty8PCQnhs2bN4sXFxc4oyXAqZpyVlcU5L58v55x/8sknvEePHjwoKIiPHTuWFxQUaFWyS6pLzrQdN8xjjz3GO3bsyN3c3Hi7du14UFAQ55y2ZUerS8713ZbpTnRCCCF2oQOIhBBC7EINhBBCiF2ogRBCCLELNRBCCCF2oQZCCCHELv8H6IxGe8TKKQUAAAAASUVORK5CYII=\" />"
      ]
     },
     "execution_count": 212,
     "metadata": {},
     "output_type": "execute_result"
    }
   ],
   "source": [
    "using Plots\n",
    "pyplot()\n",
    "\n",
    "plot(fg, -0.5:0.1:1.5, size = (400, 300))"
   ]
  },
  {
   "cell_type": "markdown",
   "metadata": {},
   "source": [
    "**Pontos críticos**"
   ]
  },
  {
   "cell_type": "markdown",
   "metadata": {},
   "source": [
    "Para encontar os valores de X correspondentes aos pontos de Max local e Min local, fazemos a derivada (**diff()**) da função e tiramos a raiz da derivada (**solve()**)."
   ]
  },
  {
   "cell_type": "code",
   "execution_count": 3,
   "metadata": {
    "collapsed": false,
    "scrolled": false
   },
   "outputs": [
    {
     "data": {
      "text/latex": [
       "\\begin{bmatrix}- \\frac{1}{3}\\\\1\\end{bmatrix}"
      ],
      "text/plain": [
       "2-element Array{SymPy.Sym,1}\n",
       "[-1/3]\n",
       "[    ]\n",
       "[ 1  ]"
      ]
     },
     "execution_count": 3,
     "metadata": {},
     "output_type": "execute_result"
    }
   ],
   "source": [
    "x_max_local, x_min_local =  solve(diff(fg(x), x) , x)"
   ]
  },
  {
   "cell_type": "markdown",
   "metadata": {},
   "source": [
    "**CUIDADO COM OS TIPOS!** x_max_local e  x_min_local são do tipo `Sym` (Verifique usando `typeof(x_max_local)`) logo em muitos cálculos é importante convertê-lo para flot (`float(x_max_local)`)"
   ]
  },
  {
   "cell_type": "code",
   "execution_count": 6,
   "metadata": {
    "collapsed": false,
    "scrolled": true
   },
   "outputs": [
    {
     "data": {
      "text/plain": [
       "(4.0,5.185185185185185)"
      ]
     },
     "execution_count": 6,
     "metadata": {},
     "output_type": "execute_result"
    }
   ],
   "source": [
    "# pontos y_min_local e y_max_local\n",
    "y_min_local, y_max_local = fg(float(x_min_local)), fg(float(x_max_local))"
   ]
  },
  {
   "cell_type": "markdown",
   "metadata": {},
   "source": [
    "**Gráfico**"
   ]
  },
  {
   "cell_type": "code",
   "execution_count": 8,
   "metadata": {
    "collapsed": false,
    "scrolled": true
   },
   "outputs": [
    {
     "data": {
      "text/plain": [
       "2-element Array{Float64,1}:\n",
       " -0.333333\n",
       "  1.0     "
      ]
     },
     "execution_count": 8,
     "metadata": {},
     "output_type": "execute_result"
    }
   ],
   "source": [
    "x_pontos =  float([x_max_local, x_min_local])"
   ]
  },
  {
   "cell_type": "code",
   "execution_count": 217,
   "metadata": {
    "collapsed": false
   },
   "outputs": [
    {
     "data": {
      "text/html": [
       "<img src=\"data:image/png;base64,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\" />"
      ]
     },
     "execution_count": 217,
     "metadata": {},
     "output_type": "execute_result"
    }
   ],
   "source": [
    "using Plots\n",
    "pyplot()\n",
    "\n",
    "scatter(fg, x_pontos)\n",
    "plot!(fg, -0.5:0.1:1.5)"
   ]
  },
  {
   "cell_type": "markdown",
   "metadata": {},
   "source": [
    "Uma maneira de encontrar os pontos críticos `y_min_local` e `y_max_local` com a função `extrema()`"
   ]
  },
  {
   "cell_type": "code",
   "execution_count": 218,
   "metadata": {
    "collapsed": false,
    "scrolled": true
   },
   "outputs": [
    {
     "data": {
      "text/plain": [
       "(4.0,5.183)"
      ]
     },
     "execution_count": 218,
     "metadata": {},
     "output_type": "execute_result"
    }
   ],
   "source": [
    "y_min_local, y_max_local = extrema(map(fg, (-0.5:0.1:1.5)))"
   ]
  },
  {
   "cell_type": "code",
   "execution_count": 219,
   "metadata": {
    "collapsed": false
   },
   "outputs": [
    {
     "data": {
      "text/plain": [
       "4.0"
      ]
     },
     "execution_count": 219,
     "metadata": {},
     "output_type": "execute_result"
    }
   ],
   "source": [
    "y_min_local"
   ]
  },
  {
   "cell_type": "code",
   "execution_count": 220,
   "metadata": {
    "collapsed": false,
    "scrolled": true
   },
   "outputs": [
    {
     "data": {
      "text/plain": [
       "5.183"
      ]
     },
     "execution_count": 220,
     "metadata": {},
     "output_type": "execute_result"
    }
   ],
   "source": [
    "y_max_local"
   ]
  },
  {
   "cell_type": "markdown",
   "metadata": {},
   "source": [
    "Para encontrar os valores de `x`, usamos a função `nsolve()` na forma:\n",
    "```julia\n",
    "nsolve(função - valor_max/min, chute)\n",
    "```"
   ]
  },
  {
   "cell_type": "code",
   "execution_count": 221,
   "metadata": {
    "collapsed": false
   },
   "outputs": [
    {
     "data": {
      "text/plain": [
       "-0.3"
      ]
     },
     "execution_count": 221,
     "metadata": {},
     "output_type": "execute_result"
    }
   ],
   "source": [
    "nsolve(fg(x) - y_max_local, 0.0)"
   ]
  },
  {
   "cell_type": "code",
   "execution_count": 222,
   "metadata": {
    "collapsed": false,
    "scrolled": true
   },
   "outputs": [
    {
     "data": {
      "text/plain": [
       "1.0"
      ]
     },
     "execution_count": 222,
     "metadata": {},
     "output_type": "execute_result"
    }
   ],
   "source": [
    "nsolve(fg(x) - y_min_local, 1)"
   ]
  },
  {
   "cell_type": "markdown",
   "metadata": {},
   "source": [
    "** Cálculo de área máxima**\n",
    "\n",
    "Calcular a área máxima de um terreno cuja cerca dispoível é de 20m. Bom... a resposta é que a área máxima será de um quadrado ;). \n",
    "\n",
    "o perímetro será $2x + 2y =  20m$ e colocando na forma de uma equação $2x + 2y -20 $. Devemos resolver a equação em relação a `y`, de tal forma que teremos `y` em função de `x` "
   ]
  },
  {
   "cell_type": "code",
   "execution_count": 223,
   "metadata": {
    "collapsed": false,
    "scrolled": true
   },
   "outputs": [
    {
     "data": {
      "text/plain": [
       "(x,y)"
      ]
     },
     "execution_count": 223,
     "metadata": {},
     "output_type": "execute_result"
    }
   ],
   "source": [
    "using SymPy\n",
    "@syms x y"
   ]
  },
  {
   "cell_type": "code",
   "execution_count": 224,
   "metadata": {
    "collapsed": false
   },
   "outputs": [
    {
     "name": "stderr",
     "output_type": "stream",
     "text": [
      "WARNING: Method definition Area_objeto(Any, Any) in module Main at In[54]:1 overwritten at In[224]:1.\n"
     ]
    },
    {
     "data": {
      "text/plain": [
       "Area_objeto (generic function with 1 method)"
      ]
     },
     "execution_count": 224,
     "metadata": {},
     "output_type": "execute_result"
    }
   ],
   "source": [
    "Area_objeto(x, y) = x*y "
   ]
  },
  {
   "cell_type": "code",
   "execution_count": 225,
   "metadata": {
    "collapsed": false,
    "scrolled": true
   },
   "outputs": [
    {
     "data": {
      "text/latex": [
       "\\begin{bmatrix}- x + 10\\end{bmatrix}"
      ],
      "text/plain": [
       "1-element Array{SymPy.Sym,1}\n",
       "[-x + 10]"
      ]
     },
     "execution_count": 225,
     "metadata": {},
     "output_type": "execute_result"
    }
   ],
   "source": [
    "y0 = solve(2*x + 2*y - 20, y)"
   ]
  },
  {
   "cell_type": "code",
   "execution_count": 226,
   "metadata": {
    "collapsed": false,
    "scrolled": true
   },
   "outputs": [
    {
     "data": {
      "text/latex": [
       "$$10$$"
      ],
      "text/plain": [
       "10"
      ]
     },
     "execution_count": 226,
     "metadata": {},
     "output_type": "execute_result"
    }
   ],
   "source": [
    "# y0 é um vetor que contém uma função como conteúdo\n",
    "# para substituir valores usamos:\n",
    "y0[](0)"
   ]
  },
  {
   "cell_type": "markdown",
   "metadata": {},
   "source": [
    "Agora devemos substituir o `y` da função Área por `y0` que vale $−1.28539816339745x + 10.0$ e derivar em relação a `x`\n",
    "para resolver a raiz `(Area ==0)`. O valor dado de `x` será o valor extremo da função. Use `Area(x,y0)` para ver a função substituida\n"
   ]
  },
  {
   "cell_type": "code",
   "execution_count": 227,
   "metadata": {
    "collapsed": false
   },
   "outputs": [
    {
     "data": {
      "text/latex": [
       "\\begin{equation*}\\begin{cases}x & \\text{=>} &5\\\\\\end{cases}\\end{equation*}"
      ],
      "text/plain": [
       "Dict{SymPy.Sym,SymPy.Sym} with 1 entry:\n",
       "  x => 5"
      ]
     },
     "execution_count": 227,
     "metadata": {},
     "output_type": "execute_result"
    }
   ],
   "source": [
    "x_sol = solve(diff(Area_objeto(x, y0)), x)"
   ]
  },
  {
   "cell_type": "code",
   "execution_count": 228,
   "metadata": {
    "collapsed": false,
    "scrolled": true
   },
   "outputs": [
    {
     "data": {
      "text/latex": [
       "$$5$$"
      ],
      "text/plain": [
       "5"
      ]
     },
     "execution_count": 228,
     "metadata": {},
     "output_type": "execute_result"
    }
   ],
   "source": [
    "# \"x_sol\" é um dicionário. Para ver o valor de x_sol use:\n",
    "x_sol[x]"
   ]
  },
  {
   "cell_type": "code",
   "execution_count": 229,
   "metadata": {
    "collapsed": false,
    "scrolled": false
   },
   "outputs": [
    {
     "data": {
      "text/latex": [
       "$$5$$"
      ],
      "text/plain": [
       "5"
      ]
     },
     "execution_count": 229,
     "metadata": {},
     "output_type": "execute_result"
    }
   ],
   "source": [
    "# encontrando o valor de y_max.  y0 é um vetor\n",
    "y_max = y0[](x_sol[x])"
   ]
  },
  {
   "cell_type": "code",
   "execution_count": 230,
   "metadata": {
    "collapsed": false
   },
   "outputs": [
    {
     "data": {
      "text/plain": [
       "25.0"
      ]
     },
     "execution_count": 230,
     "metadata": {},
     "output_type": "execute_result"
    }
   ],
   "source": [
    "# Área máxima \n",
    "float(Area_objeto(x_sol[x],y_max))"
   ]
  },
  {
   "cell_type": "markdown",
   "metadata": {
    "collapsed": true
   },
   "source": [
    "## INTEGRAL DE UMA FUNÇÃO\n",
    "\n",
    "Somente é possível operar com o SymPy com variáveis simbólicas, logo, funções puramente genéricas e anônimas não podem ser calculadas."
   ]
  },
  {
   "cell_type": "markdown",
   "metadata": {},
   "source": [
    "### INTEGRAL SIMBÓLICA INDEFINIDA"
   ]
  },
  {
   "cell_type": "code",
   "execution_count": 231,
   "metadata": {
    "collapsed": false,
    "scrolled": true
   },
   "outputs": [
    {
     "data": {
      "text/plain": [
       "(x,y)"
      ]
     },
     "execution_count": 231,
     "metadata": {},
     "output_type": "execute_result"
    }
   ],
   "source": [
    "using SymPy\n",
    "@syms x y"
   ]
  },
  {
   "cell_type": "code",
   "execution_count": 232,
   "metadata": {
    "collapsed": false
   },
   "outputs": [
    {
     "name": "stderr",
     "output_type": "stream",
     "text": [
      "WARNING: Method definition fint(Any) in module Main at In[66]:1 overwritten at In[232]:1.\n"
     ]
    },
    {
     "data": {
      "text/plain": [
       "fint (generic function with 1 method)"
      ]
     },
     "execution_count": 232,
     "metadata": {},
     "output_type": "execute_result"
    }
   ],
   "source": [
    "fint(x) = sin(x)*x"
   ]
  },
  {
   "cell_type": "code",
   "execution_count": 233,
   "metadata": {
    "collapsed": false,
    "scrolled": true
   },
   "outputs": [
    {
     "data": {
      "text/latex": [
       "$$- x \\cos{\\left (x \\right )} + \\sin{\\left (x \\right )}$$"
      ],
      "text/plain": [
       "-x*cos(x) + sin(x)"
      ]
     },
     "execution_count": 233,
     "metadata": {},
     "output_type": "execute_result"
    }
   ],
   "source": [
    "integrate(fint(x), x)"
   ]
  },
  {
   "cell_type": "markdown",
   "metadata": {},
   "source": [
    "**Uma forma de escrever a integral e resolver**"
   ]
  },
  {
   "cell_type": "code",
   "execution_count": 234,
   "metadata": {
    "collapsed": false,
    "scrolled": true
   },
   "outputs": [
    {
     "data": {
      "text/latex": [
       "$$\\int x \\sin{\\left (x \\right )}\\, dx$$"
      ],
      "text/plain": [
       "  /           \n",
       " |            \n",
       " | x*sin(x) dx\n",
       " |            \n",
       "/             "
      ]
     },
     "execution_count": 234,
     "metadata": {},
     "output_type": "execute_result"
    }
   ],
   "source": [
    "integ = Integral(fint(x), (x))"
   ]
  },
  {
   "cell_type": "code",
   "execution_count": 235,
   "metadata": {
    "collapsed": false
   },
   "outputs": [
    {
     "data": {
      "text/latex": [
       "$$- x \\cos{\\left (x \\right )} + \\sin{\\left (x \\right )}$$"
      ],
      "text/plain": [
       "-x*cos(x) + sin(x)"
      ]
     },
     "execution_count": 235,
     "metadata": {},
     "output_type": "execute_result"
    }
   ],
   "source": [
    "# resolver a integral\n",
    "doit(integ)"
   ]
  },
  {
   "cell_type": "markdown",
   "metadata": {},
   "source": []
  },
  {
   "cell_type": "markdown",
   "metadata": {
    "collapsed": true
   },
   "source": [
    "### INTEGRAL SIMBÓLICA DEFINIDA"
   ]
  },
  {
   "cell_type": "code",
   "execution_count": 236,
   "metadata": {
    "collapsed": false
   },
   "outputs": [
    {
     "name": "stderr",
     "output_type": "stream",
     "text": [
      "WARNING: Method definition fint(Any) in module Main at In[232]:1 overwritten at In[236]:1.\n"
     ]
    },
    {
     "data": {
      "text/plain": [
       "fint (generic function with 1 method)"
      ]
     },
     "execution_count": 236,
     "metadata": {},
     "output_type": "execute_result"
    }
   ],
   "source": [
    "fint(x) = sin(x)*x"
   ]
  },
  {
   "cell_type": "code",
   "execution_count": 237,
   "metadata": {
    "collapsed": false
   },
   "outputs": [
    {
     "data": {
      "text/latex": [
       "$$- \\cos{\\left (1 \\right )} + \\sin{\\left (1 \\right )}$$"
      ],
      "text/plain": [
       "-cos(1) + sin(1)"
      ]
     },
     "execution_count": 237,
     "metadata": {},
     "output_type": "execute_result"
    }
   ],
   "source": [
    "# f(x) = sin(x)*x\n",
    "integrate(fint(x), x, 0, 1)"
   ]
  },
  {
   "cell_type": "code",
   "execution_count": 238,
   "metadata": {
    "collapsed": false,
    "scrolled": true
   },
   "outputs": [
    {
     "data": {
      "text/plain": [
       "0.3011686789397568"
      ]
     },
     "execution_count": 238,
     "metadata": {},
     "output_type": "execute_result"
    }
   ],
   "source": [
    "# f(x) = sin(x)*x\n",
    "float(integrate(fint(x), x, 0, 1))"
   ]
  },
  {
   "cell_type": "markdown",
   "metadata": {},
   "source": [
    "** Uma forma de escrever a integral e resolver**"
   ]
  },
  {
   "cell_type": "code",
   "execution_count": 239,
   "metadata": {
    "collapsed": false
   },
   "outputs": [
    {
     "data": {
      "text/latex": [
       "$$\\int_{0}^{1} x \\sin{\\left (x \\right )}\\, dx$$"
      ],
      "text/plain": [
       "  1            \n",
       "  /            \n",
       " |             \n",
       " |  x*sin(x) dx\n",
       " |             \n",
       "/              \n",
       "0              "
      ]
     },
     "execution_count": 239,
     "metadata": {},
     "output_type": "execute_result"
    }
   ],
   "source": [
    "integ = Integral(fint(x), (x, 0, 1))"
   ]
  },
  {
   "cell_type": "code",
   "execution_count": 240,
   "metadata": {
    "collapsed": false
   },
   "outputs": [
    {
     "data": {
      "text/latex": [
       "$$- \\cos{\\left (1 \\right )} + \\sin{\\left (1 \\right )}$$"
      ],
      "text/plain": [
       "-cos(1) + sin(1)"
      ]
     },
     "execution_count": 240,
     "metadata": {},
     "output_type": "execute_result"
    }
   ],
   "source": [
    "# resolver a integral\n",
    "doit(integ)"
   ]
  },
  {
   "cell_type": "code",
   "execution_count": 241,
   "metadata": {
    "collapsed": false
   },
   "outputs": [
    {
     "data": {
      "text/plain": [
       "0.3011686789397568"
      ]
     },
     "execution_count": 241,
     "metadata": {},
     "output_type": "execute_result"
    }
   ],
   "source": [
    "float(doit(integ))"
   ]
  },
  {
   "cell_type": "markdown",
   "metadata": {},
   "source": []
  },
  {
   "cell_type": "markdown",
   "metadata": {},
   "source": [
    "### INTEGRAL NUMÉRICA"
   ]
  },
  {
   "cell_type": "markdown",
   "metadata": {},
   "source": [
    "#### USANDO A FUNÇÃO QUADGK\n",
    "\n",
    "A função `QUADGK` utiliza a técnica de integração Gauss-Kronrod: a integral em cada intervalo é calculado usando uma regra de Kronrod (2ª ordem + 1 pontos) e o erro é estimado usando uma regra de Gauss incorporado (pontos de ordem). O intervalo com o maior erro é então subdividido em dois intervalos e o processo é repetido até que a tolerância de erro desejado seja alcançado. O resultado é um vetor na forma [valor, erro]. Sintaxe:\n",
    "```julia\n",
    "[valor_integral, erro] = quadgk(funcao, a, b, reltol = sqrt(eps), abstol=0, maxevals=1e7, order=7)\n",
    "```\n",
    "* ** funcao**: função de uma variável\n",
    "* ** a, b**: intervalos de integração\n",
    "* ** reltol**: tolerância do erro relativo\n",
    "* ** abstol**: tolerância do erro absoluto\n",
    "* ** maxevals**:número máximo de avaliações da função\n",
    "* ** order**: ordem da regra de integração (o padrão é 7).\n",
    "\n",
    "obs: Use **quadgk(funcao ,a ,b )**. Se usar **quadgk( funcao(x), a, b )** sem o SymPy carregado ocorre erro."
   ]
  },
  {
   "cell_type": "code",
   "execution_count": 242,
   "metadata": {
    "collapsed": false,
    "scrolled": false
   },
   "outputs": [
    {
     "data": {
      "text/html": [
       "<img src=\"data:image/png;base64,iVBORw0KGgoAAAANSUhEUgAAAlgAAAGQCAYAAAByNR6YAAAABHNCSVQICAgIfAhkiAAAAAlwSFlzAAAPYQAAD2EBqD+naQAAIABJREFUeJzt3Xt4FPW9x/HP7iy3iBAEUUQiIBBARRJERbwiBOSygKJI1VKot6NQbU/B9thW0NYeqPbYCsdLi5ejbUBRKSB3QSEqigTFC1G5Bim3cIdAYGd+548FFAmYhZ3MzO779Tw8wmaTfPfh4y8ffjM7EzLGGAEAACBpwl4PAAAAkGooWAAAAEkWqaxvVFJSopkzZ6px48aqUaNGZX1bAACAE7Z3716tXr1aXbt2Vb169Sr8eZVWsGbOnKlbb721sr4dAABA0rz88su65ZZbKvz8SitYjRs3lhQfsFWrVpX1bRFg999/v5544gmvx0BAkBckgrykPmOMtpdJq3cbrdklrdltDv/+mz2SffAtftUj0jk1478anxrSOTUP/jpVyoiEtGzZMt16662He0xFVVrBOnRYsFWrVsrNza2sb4sAy8zMJCuoMPKCRJCX1FFmG63YKRVtN/pyh9GX242+3CF9ucNoW1n8OSHFC1R205B61w4pO1PKrh1Sdu2QGp4ihUKhH/w+iZ7eVGkFC0jU/v37vR4BAUJekAjyEkx7Y0YzvzGav/5gmdphtGqX5BzcjapVRcrODCm7ttSjUVgtM0PKzgypWS2pRuSHS1Qy+aJgFRcXq6SkxOsxkq5evXrKysryeozA+vjjj70eAQFCXpAI8hIch0rVKysdTSk22n1Aanqq1CozpN7nhOM7UQd3pM6oUbHdqMrgecEqLi5Wq1atVFpa6vUoSZeRkaFly5ZRsk5Qdna21yMgQMgLEkFe/G1vzGjGWqNXV31bqi44TXqgTVg3Ng0rO9MfJep4PC9YJSUlKi0tTbmT3w+dFFdSUkLBOkF333231yMgQMgLEkFe/CcVStV3eV6wDuHkd3zfgAEDvB4BAUJekAjy4g+pVqq+yzcFCwAApL5ULlXfxa1y4Fvjxo3zegQECHlBIshL5dobM3pjlaMfzY2p/ssxXT/H1ufbjB5oE1bRjREtvaGKfpNrpUy5kihYCVmzZo2uueYarp9SSQoLC70eAQFCXpAI8uK+Q6VqwDFK1ScpWKq+i0OECahVq5b+8Ic/aMeOHXrwwQe9HifljR071usRECDkBYkgL+44dPjvlVWOph48/NcmBQ//VQQFqxyPP/64vvrqKz3zzDOSpB07dqhZs2b6+uuvddlll+mdd97xeEIAAPyhzDaaVkyp+r5AFKyVO422n+BFdzOrSk1rJfaXe/vttys7O1t/+tOfVKtWLT3//PPq06ePMjMzT2wIAABSzL6Y0d+KHP33J47+XUqp+j7fF6ySfUbNX4kdvgx+oqyQtOHWiOpVr/hfdu3atdWvXz8999xzuv/++/XUU0/plVdeObEBAABIIXtjRs8WORr1iaONe6Vbzg3pgQstnXcapeq7fF+w6lUP6eubIie1g5VIuTpk6NChikajatmyperXr68LL7zwxAbACYtGo5o8ebLXYyAgyAsSQV4SVxozemaZo9GfONq8T7q1WUgP5lhqXptiVR7fFywp8UN8yZCdna2mTZvqzjvv1GOPPXbEx4wxMuYEt9RQYUOGDPF6BAQIeUEiyEvF7Tlg9PQyR39a6qhkn/Tj5iH9V1tLzShWx8VlGo7jjjvukG3buuGGGyRJe/fuVaNGjdS/f//D9xjk3YTuycvL83oEBAh5QSLIyw/bc8DoT5/Yajohpl996KhnVkhf3RTRc1dFKFcVEIgdLK/MmzdP99xzjyzLkiTVqFFDa9eu9XgqAADcs/uA0djPHT32qaPtZdKg7JB+faGlJh4cTQoyClY51q9fr06dOqlu3bqaOXOm1+MAAOC6XfuNxnzh6PGljnYekAa1COvXbcNqfCrF6kRwiLAcDRo00LJly1RQUKBTTjnF63HS1qRJk7weAQFCXpAI8vKtnfuNHl1iq/H4mB5a7OjGpmEt7x/RM1dYlKuTQMGCb+Xn53s9AgKEvCAR5EXasd/o94XxYjWy0NHN54a1on9ET11uKasmxepkcYgQvjVhwgSvR0CAkBckIp3zsr3M6K+fO/qfTx3ttaU7ssN64MKwzqZUJZVvCtayZcu8HiGpUu31AACCbXuZ0ROfOXriM0f7bOmulmENvzCshqdQrNzgecGqV6+eMjIydOutt3o9StJlZGSoXr16Xo8BAEhjW/fFi9VfPnO035HuahXW8DZhnUWxcpXnBSsrK0vLli1TSUmJ16MkXb169ZSVleX1GACANLR1n9GfP3X0188dxRzp7lZhDbswrAYZFKvK4HnBkuIliyKC7xs0aJCef/55r8dAQJAXJCKV87KtzOixpY6ePFis7mkd1rA2YZ1BsapUvihYQHm40jISQV6QiFTMizFGr640Gvq+rd0HpHtbh/XLNmHVr0Gx8gIFC741YMAAr0dAgJAXJCLV8vLNbqN73rU1pdjo+sYhPXmZxTlWHqNgAQAQUI6J34j5Vx86qllFeq2zpeubcIlLP6BgAQAQQF9sM7pjga33Nhrd2TKsUReHlVmNXSu/oObCtwoKCrweAQFCXpCIIOelzDYaudhWzusxlewzeqenpWeusChXPkPBgm+NHj3a6xEQIOQFiQhqXt7f6Cj39Zh+v8TRsDZhfXJ9RFc24Ee5H3GIEL41fvx4r0dAgJAXJCJoedm13+i/Fjka+4Wji04PaXFfS23qsmPlZxQs+FZGRobXIyBAyAsSEaS8TF3j6D/etbW1TPrzpWENPS8sK0y58jsKFgAAPrSx1Oi+921NWGnU9eyQnr7cUuNTKVZBQcECAMBHjDF68WujXyy0FZb08jWWfnRuSKEQ5SpIODMOvjVs2DCvR0CAkBckwq95WbnTqMs0W4PesdWjUUjLbozolmZhylUAsYMF3+L+lEgEeUEi/JaXmGP0xGeOfveRo/o1pBndLHVtxB5IkFGw4FtDhw71egQECHlBIvyUlyUlRrcviOnjLdJ954X18EVh1azCjlXQUbAAAPDA3pjRyEJHjy111LqO9H7U0sX12bVKFRQsAAAq2dx1ju4ssPXNHunhdmENuzCsKlx6IaVQleFbRUVFXo+AACEvSIRXedlWZvTTd2K6dpqthhkhfXJ9RP+VY1GuUhAFC741fPhwr0dAgJAXJKKy82KM0asrHbV6NabXVhs9e4WleT0tZWdSrFIVhwjhW2PGjPF6BAQIeUEiKjMv/95j9B/v2pq8xuj6xiE9eZmls06hWKU6ChZ8y29vo4a/kRckorLyMmedox/NtRUJS691tnR9Ew4cpQsKFgAASWY7Rr9f4mhkoaMuDUP6RydL9aqza5VOKFgAACTR5r1Gt86zNXud0Yh2YT3YlpszpyP2KuFbo0aN8noEBAh5QSLcysu7GxzlvBHTki1Gs7pb+l2uRblKUxQs+FZpaanXIyBAyAsSkey8GGP056W2rp5qq0nNkJZcH1HnhvyITWccIoRvjRw50usRECDkBYlIZl62lxkNnm/rjdVGv2wT1qPtuWgoKFgAAJywJSVG/ebEtKVMmtTFUu/G7FohjiQAAJAgY4z+VuSow+SYMqtJhX0jlCscgTTAt0pKSrweAQFCXpCIk8nLngNGA9+2decCWz9pHta7vSJqWotDgjgSBQu+NXjwYK9HQICQFyTiRPNStN3okn/Fb3fz8jWWnr7CUvUI5QpH4xws+NaIESO8HgEBQl6QiBPJS/5yR3cssJVVU1rUJ6LWdShWODYKFnwrNzfX6xEQIOQFiUgkL2W20S8WOvrfLxz96NyQnrnCUs0qlCscHwULAIBjWL3L6MY5tpZuNXqqY1h3tQorFKJc4YdRsAAAKMeUNY5+/LatOtWk96IRtTudYoWK4yR3+Na4ceO8HgEBQl6QiOPlJeYYPfCBregsW1c2CGlxX8oVEkfBgm8VFhZ6PQIChLwgEcfKy/pSo2vftPX4p45GXxzWpC6W6lSjXCFx5Ras++67T02aNFE4HNbSpUvL/cQ1a9YoEokoNzdXOTk5ys3N1apVq1wdFull7NixXo+AACEvSER5eZm7zlHb12P6eqfRvB6Whl1ocb4VTli552DdeOONeuCBB3T55Zcf95Nr1arFvxoBAIHmGKNHlzh6qNDRNQ1C+mcnS/VrUKxwcsotWIeKlTHmuJ/8Qx8HAMDPSvYZ3TbP1sxvjH6TE9ZDuWFZ3KgZSXBS7yIsLS1V+/btZYxR79699Zvf/IbtVABAICzc6Oimt2yVxqRp3Sx1a8RpyUieE07TWWedpXXr1mnRokWaM2eOFixYoMcffzyZsyHNRaNRr0dAgJAXVJQxRuff94yunGrr7FNCWnJ9hHKFpDvhRFWpUkX16tWTJGVmZmrw4MFasGDBD35e9+7dFY1Gj/jVoUMHTZo06YjnzZo1q9wF89577z3q7bWFhYWKRqNH3bzzoYce0qhRo454rLi4WNFoVEVFRUc8/uSTT2rYsGFHPFZaWqpoNKqCgoIjHs/Pz9egQYOOmq1///68jiS+jmrVqqXE60iVvw+/v44hQ4akxOv4Ll5H8l/H039/Xj9+29bn5w/Wva3D+p+Gn+reH/UO3OtIlb8Pv72O/Px8RaNRNWzYUBdffLGi0ajuv//+o2aviJA5zolUTZo00b/+9S+1adPmqI9t3rxZderUUSQSUVlZmW677Ta1bt36mPd3KiwsVLt27bR48WJuaQEAqHRb9xn1nW3rg81GL1xl6eZz2bXCDzvR/lJuuu6++241atRI69atU9euXdWiRQtJ8Qb57LPPSpIKCgqUk5OjnJwcXXTRRWrQoIEefPDBJLwUAACSa/kOow6TY/p8m9Fb3SlXcF+5J7k//fTT5T555MiRh3/ft29f9e3b152pAABIkvc2Ouo9y9Zp1aSFvSNqVps3Y8F9VHj41veP4wPHQ15QnldWOOr0pq1WmSG9F/22XJEXuI2CBd/Kz8/3egQECHnBdxlj9N8f2+o/19YNjUOa3d1S3erf7lyRF7jtpK6DBbhpwoQJXo+AACEvOOSAY3RPga2/f2n025ywRrYLH3WNRvICt1GwAAApY8d+oxvn2Jr3b6Pnr7L0kxYcqIE3KFgAgJRQvNuox4yY1u6RZl5nqVNDyhW8Q8ECAATe4s1GPWfGVN2S3otG1LoO7xSEt6j38K3yrhIMHAt5SV9T1ji6cmpMWTVDWti7YuWKvMBtFCz4Vl5entcjIEDIS3p68jNbfWbb6nZ2SPN6Wjojo2I7V+QFbuMQIXxrwIABXo+AACEv6cV2jH6x0NFfP3f0nxeENfqSsMKhih8WJC9wGwULABAoew4Y/WieranFRv/bMaz/aG15PRJwFAoWACAw1pca9Zpp68sdRlPyLHXP4kwX+BPJhG8VFBR4PQIChLykvs+2Gl36r5g27DVa0CtyUuWKvMBtFCz41ujRo70eAQFCXlLbrG8cdZwcU52q0sJoRG3rntxlGMgL3EbBgm+NHz/e6xEQIOQldf29yFH3GbY6nhnSgl4RnV3z5K9xRV7gNgoWfCsjI8PrERAg5CX1OMbovxbZumOBrTtbhjU5z9KpVZNzAVHyArdxkjsAwHf2xYx+8o6tV1YaPX5JWD+/4OgbNgN+RsECAPhKyT6j3rNsFZYYTexs6fomHGxB8JBa+NawYcO8HgEBQl5Sw1fb4+8UXL7T6O2e7pUr8gK3UbDgW1lZWV6PgAAhL8G3YL2jDpNjqhqOv1Pwkvru/YgiL3AbBQu+NXToUK9HQICQl2D7x3JHnafZuvC0kN6NRtSklrvnW5EXuI2CBQDw1KiPbd06z9aAc0OacZ2lOtU4mR3BR8ECAHjCGKNffWjrV4sc/TYnrOevslTVolwhNVCw4FtFRUVej4AAIS/B4hije951NOoTR3++NKyHL7Iq9TIM5AVuo2DBt4YPH+71CAgQ8hIcBxyj2+bZerbI0bgrLf38AqvSZyAvcBvXwYJvjRkzxusRECDkJRj2xYz6z7U1fa3R+E6Wbmzqzb/zyQvcRsGCb/E2aiSCvPjfrv3xC4gu3GQ0Oc9St0beHUQhL3AbBQsA4Lqt+4y6z7S1bJvRzOssXdGAM1SQ2ihYAABXrS81ypsW04a90ryeEeXW452CSH38EwK+NWrUKK9HQICQF39avcvoiikxbdsvzfdRuSIvcBsFC75VWlrq9QgIEPLiP0XbjS6fEpMkFfSKqFUdf5QribzAfRQs+NbIkSO9HgEBQl78pbAkvnNVp6q0oFdEjU/1T7mSyAvcR8ECACRVwQZH10yNqempIb3TM6IGGf4qV0BloGABAJJmxlpHedNs5dYLaU53S6dVp1whPVGw4FslJSVej4AAIS/em7jSUXSWrc4NQ5rWzdKpVf1brsgL3EbBgm8NHjzY6xEQIOTFW8996aj/XFv9moT0WhdLNSL+LVcSeYH7KFjwrREjRng9AgKEvHjniU9t/XS+rTtbhvXS1ZaqhP1driTyAvdRsOBbubm5Xo+AACEvlc8Yo5GLbf18oaPhbcL6345hWQEoVxJ5gfu4kjsAIGHGGP1ioaMnPnP0x/Zh/aqt5fVIgK9QsAAACbEdozsX2HruK6OxHcO6pzXlCvg+DhHCt8aNG+f1CAgQ8lI59ttGN8+19eLXRi9dbQW2XJEXuI2CBd8qLCz0egQECHlxX2nMqPcsW5PXGL3W2dKtzYP7I4S8wG0cIoRvjR071usRECDkxV079hv1nGFryRajad0sXdswuOVKIi9wHwULAHBcm/cadZ0e06pd0pzuli49I9jlCqgMFCwAwDF9s9uoy/SYtpVJ7/SMqE3dYFyGAfAaBQsAUK7lO4w6T4vJSFrQK6LmtSlXQEWxzwvfikajXo+AACEvyfXpVqMrpsRU3ZIKUrBckRe4jYIF3xoyZIjXIyBAyEvyLNrs6KqpMZ2ZIc3vFVGjmqlVriTyAvdRsOBbeXl5Xo+AACEvyfHBJked37TVsnZI83pEVL9G6pUribzAfZyDBQCQJL2/0VHX6bbanBbS9G6WTq2amuUKqAzsYAEA9N7BctW2LuUKSAYKFnxr0qRJXo+AACEvJ+7dDfFylVM3pGlpUq7IC9xGwYJv5efnez0CAoS8nJiCg+XqonrxclWzSuqXK4m8wH0ULPjWhAkTvB4BAUJeErdgvaNu021dfHpIU7taOiVNypVEXuA+ChYApKF31ju6boatS+qHNLVbepUroDJQsAAgzbz9b0fdZ9i6tH5IU7payohQroBko2ABQBqZuy5erjqeQbkC3ETBgm8NGjTI6xEQIOTlh721zlHPmbauODOkf+VZqpHG5Yq8wG0ULPgWV1pGIsjL8c05WK6uakC5ksgL3EfBgm8NGDDA6xEQIOTl2GZ/46jXTFvXnBXSG10sVU/zciWRF7iPggUAKWzmWke9Ztm6lnIFVCoKFgCkqBlrHfWebatLw5Be62KpmkW5AioLBQu+VVBQ4PUICBDycqRpxY56z7KV1zCkiZ0pV99HXuA2ChZ8a/To0V6PgAAhL996s9hR39m2rmtEuToW8gK3UbDgW+PHj/d6BAQIeYmbuiZerro3CumVay1VpVyVi7zAbRQs+FZGRobXIyBAyIs0ZY2j6+fY6pUV0iudKVfHQ17gNgoWAKSAf612dMMcW9FzQhp/raUqYcoV4CUKFgAE3BurHPWbY6vPOSHld6JcAX5AwYJvDRs2zOsRECDpmpfXVzm66S1bNzQJ6Z+UqwpL17yg8lCw4FtZWVlej4AASce8TFwZL1f9mob08jWWIpSrCkvHvKByUbDgW0OHDvV6BARIuuXl1ZWObp5rq3/TkF66mnKVqHTLCyofBQsAAuaVFY4GzLV187khvUi5AnyJggUAATJ+haMfzbP1o3NDevEqyhXgVxQs+FZRUZHXIyBA0iEv/1zu6JZ5tm5pFtLzV1myKFcnLB3yAm9RsOBbw4cP93oEBEiq5+Ufyx3d9ratHzcP6bkrKVcnK9XzAu9RsOBbY8aM8XoEBEgq5+Ufyx39+G1bP2ke0jjKVVKkcl7gDxQs+BZvo0YiUjUvE1bEy9XA5iH97UpL4RDlKhlSNS/wDwoWAPjU66sOnnN1bkh/u4JyBQQJBQsAfGjyGkf937J1U1NOaAeCiIIF3xo1apTXIyBAUikv04oP3luwcUj/dzXlyg2plBf4EwULvlVaWur1CAiQVMnLrG8cXT/HVvdG8XsLcp0rd6RKXuBfFCz41siRI70eAQGSCnmZu85R71m2Op8V0oRruXGzm1IhL/A3ChYA+MD89Y56zbJ1VYOQJna2VM2iXAFBRsECAI+9t9FR9xm2OtQP6Y0ulqpHKFdA0FGw4FslJSVej4AACWpePtzkqNt0WxedHtLkrpZqUK4qRVDzguCgYMG3Bg8e7PUICJAg5mXxZqO86bbanBbS1K6WMihXlSaIeUGwULDgWyNGjPB6BARI0PLyyRajLtNjapkZ0rRulmpWoVxVpqDlBcFDwYJv5ebmej0CAiRIeflsq1HnaTGde2pIM7pZqlWVclXZgpQXBBMFCwAq0bJtRtdOi+nsU6SZ11nKrEa5AlIRBQsAKslX2406vRnTGTWk2d0jOq065QpIVRQs+Na4ceO8HgEB4ve8rNhp1GlaTHWqSXO6R1SPcuUpv+cFwUfBgm8VFhZ6PQICxM95Wb3L6JqpMZ0Skd7qEVH9GpQrr/k5L0gNFCz41tixY70eAQHi17wU746Xq6qWNLdHRA0yKFd+4Ne8IHVQsADAJev2xM+5kuLlquEplCsgXUS8HgAAUtH60ni52m9L83tFlFWTcgWkk3J3sO677z41adJE4XBYS5cuPeYnT506Va1atVJ2drb69eun3bt3uzYoAATFpr1G174Z056YNK9nRI1PpVwB6abcgnXjjTfq3XffVePGjY/5iXv27NHtt9+uyZMn68svv1SDBg308MMPuzUn0lA0GvV6BASIX/JSsi9+EdFtZdLc7hGdW4ty5Ud+yQtSV7kF6/LLL9dZZ50lY8wxP3H69OnKzc1V8+bNJUn33HOP8vPz3ZkSaWnIkCFej4AA8UNetu4z6jItpo174+dctcikXPmVH/KC1HbCJ7kXFxfrnHPOOfznxo0ba8OGDXIcJymDAXl5eV6PgADxOi/by+I3bl67W3qre0St6lCu/MzrvCD1cZI7AJyknfuNus2wtXKX0dweEZ1/GuUKSHcnvIOVlZWl1atXH/7zqlWr1KBBA4XDx/+S3bt3VzQaPeJXhw4dNGnSpCOeN2vWrHKPkd97771HXYG3sLBQ0WhUJSUlRzz+0EMPadSoUUc8VlxcrGg0qqKioiMef/LJJzVs2LAjHistLVU0GlVBQcERj+fn52vQoEFHzda/f39eB6+D15Fmr2P3AaPLxpdo8brdmn1dRG3rfluugvQ6pNT4++B18DpO5nXk5+crGo2qYcOGuvjiixWNRnX//fcfNXtFhMxxTrRq0qSJ/vWvf6lNmzZHfWz37t1q1qyZ5s+frxYtWmjo0KGqUaOGRo8eXe7XKiwsVLt27bR48WLuYo4KmTRpkvr06eP1GAgIL/Ky54BR9xm2lmwxmt3d0iX1ubRgULC+oKJOtL+UuxrcfffdatSokdatW6euXbuqRYsWkuIN8tlnn5Uk1axZU3//+9/Vu3dvtWjRQuvWrdNvf/vbJLwUII43TSARlZ2XvTGj6Cxbi0uMZlxHuQoa1he47bg7WMnEDhaAVLEvZtR7lq2CjUbTu1m6sgHlCkhVJ9pfOMkdABKw3zbqN8fW/A1Gb3alXAEoHwULACrogGPU/y1bs9cZTelqqVNDyhWA8lGwAKACYo7RrfNsvbnW6I0ulvLOplwBODZWCPhWeW8BBo7FzbzYjtGgd2y9tspoQidLPbJYOoOO9QVuYwcLvsWVlpEIt/LiGKM7F9j65wqj/Gss9W1CuUoFrC9wGysFfGvAgAFej4AAcSMvxhjd+66j578yevEqSzedy5KZKlhf4DZ2sACgHMYY3f++o6eXORp3paVbm1OuAFQcKwYAfI8xRg986Oivnzt6qmNYg7NZKgEkhlUDvvX9e0YBx5PMvPxusaM/LXX0lw5h3d3aStrXhX+wvsBtFCz41rHuawmUJ1l5eaTQ1u+XOBp9cVg/O59ylapYX+A2ChZ8a/z48V6PgABJRl5Gf2Lrd4sdPdIurGEXUq5SGesL3EbBgm9lZGR4PQIC5GTz8sSnth740NFvc8L6TS7lKtWxvsBtFCwAae+pL2z9fKGj4W3CGtmOZRHAyWMlAZDWxhU5uuddR/edH9Z/XxxWKBTyeiQAKYCCBd8aNmyY1yMgQE4kLy997eiOBbb+o1VY/3Mp5SqdsL7AbRQs+FZWVpbXIyBAEs3LhBWOfvKOrcHZIY3pSLlKN6wvcBsFC741dOhQr0dAgCSSl9dXObplnq1bzg3pmcsthSlXaYf1BW6jYAFIK1PXOLp5rq1+TUJ67ipLVphyBSD5KFgA0sbMtY5umGOrZ1ZIL11jKUK5AuASChZ8q6ioyOsRECA/lJe56xz1mW0r7+yQxneyVIVyldZYX+A2ChZ8a/jw4V6PgAA5Xl4WrHfUa5atK88M6dVrLVW1KFfpjvUFbqNgwbfGjBnj9QgIkGPl5f2NjrrPtHXJ6SFNyrNUPUK5AusL3EfBgm/xNmokory8fLTZUbfptnLqhjSlq6UalCscxPoCt1GwAKSkj7cY5U231bpOSG92tXRKFcoVgMpDwQKQcj7batRlWkxNTw1pejdLp1alXAGoXBQs+NaoUaO8HgEBcigvX2436jwtpoYZ0qzrLGVWo1zhaKwvcBsFC75VWlrq9QgIkNLSUi3fYdTpzZjqVZdmd4/otOqUK5SP9QVui3g9AHAsI0eO9HoEBMigX47QlVNiqllFmtM9otNrUK5wbKwvcBs7WAACb+3u+M5VVUua2yOiMzMoVwC8xQ4WgED7ZrfRNW/G5Bjp7Z4RNTyFcgXAe+xgwbeqklFPAAAe1klEQVRKSkq8HgE+t25PvFwdcKTXL9uprJqUK1QM6wvcRsGCbw0ePNjrEeBj/94TPyxYZkvzekQ0Yuggr0dCgLC+wG0cIoRvjRgxwusR4FPrS+PlqjQWPyzYtFaIvCAh5AVuo2DBt3Jzc70eAT608WC52h2T3u4R0bm14ocFyQsSQV7gNgoWgMDYtDdernbsl97pGVGz2pxzBcCfOAcLQCBsPliutpbFz7lqTrkC4GMULPjWuHHjvB4BPlGyz+jaaTGV7JPm9YwoO/PockVekAjyArdRsOBbhYWFXo8AH9iyz+jaN2PauDe+c9WynHIlkRckhrzAbRQs+NbYsWO9HgEe27IvfuPm9aXS3O4Rtapz7MOC5AWJIC9wGye5A/ClrfuMukyL6Zs98Z2r807jnCsAwcEOFgDf2VZmlDfdVvFu6a3uEZ1PuQIQMOxgAfCV7WVGedNsrdplNLdHRG3qUq4ABA87WPCtaDTq9QioZDv2G3WdbmvFLqO3ekR0YQLlirwgEeQFbqNgwbeGDBni9QioRDv3G3WbbuurHUZzukfUNsGdK/KCRJAXuI1DhPCtvLw8r0dAJdl1sFwt2270VveIcuslfliQvCAR5AVuYwcLgKd27Te6boatz7cZze5uqd3pnHMFIPgoWAA8s/uAUY+Ztj7dajSru6X2p7MkAUgNrGbwrUmTJnk9Aly054BRjxm2Pt5iNOM6S5fUP7nliLwgEeQFbqNgwbfy8/O9HgEuKY0Z9Zxpq/BguepwxskvReQFiSAvcBsFC741YcIEr0eAC0pjRr1m2lq02Wh6N0uXJaFcSeQFiSEvcBsFC0Cl2Rsz6j3L1geb4uXq8jNZggCkJi7TAKBSHCpX7200mtbN0hUNKFcAUhcrHADX7YsZ9Z1tq2CD0dSulq6iXAFIcaxy8K1BgwZ5PQKSoMw2un6OrXfWG03paumas9xZdsgLEkFe4DYKFnyLKy0HX5ltdMNsW/P+HS9X1zZ0b8khL0gEeYHbOAcLvjVgwACvR8BJ2G8b3TjH1px/G03Os9TZxXIlkRckhrzAbexgAUi6/bbRTW/ZmvmN0aQulvLOZqkBkF5Y9QAkVZltdONbtqavNXqji6VujVhmAKQfVj74VkFBgdcjIEF7Y0Z9Zh3cucqz1D2r8pYY8oJEkBe4jYIF3xo9erTXIyABew7Eb3/zznqjN7tauq6Sd67ICxJBXuA2TnKHb40fP97rEVBBO/cfvHHz1vi9Ba/04DpX5AWJIC9wGwULvpWRkeH1CKiA7WVG3WbYKtpuNPs6S5cm6d6CiSIvSAR5gdsoWABO2JZ9RnnTY1q1S3qre0TtTg95PRIA+AIFC8AJ2bTXqPO0mDaUSvN6RHRhXcoVABzCSe7wrWHDhnk9Ao5hfanR1VNj2rxXerunP8oVeUEiyAvcxg4WfCsrK8vrEVCOtbuNOr0Z0z5bmt8roua1vS9XEnlBYsgL3EbBgm8NHTrU6xHwPat2xsuVJM3vGVGTWv4oVxJ5QWLIC9zGIUIAFfL1DqOrpsYUCUvv9PJXuQIAv6FgAfhBy7bFy9UpVaR3ekaUVZNyBQDHQ8GCbxUVFXk9AiQt3RIvV3WrSW/3iOisU/xZrsgLEkFe4DYKFnxr+PDhXo+Q9gpLjK55M6azT5Hm9YzojAx/liuJvCAx5AVuo2DBt8aMGeP1CGntg02OOr0ZU7NaIb3VI6J61f1briTygsSQF7iNggXf4m3U3inY4KjzNFvn1wlpdndLdar5u1xJ5AWJIS9wGwULwBHmrnPUdbqt9vVCmnGdpVpV/V+uAMBvKFgADpu51lGPmbauODOkN7tZqlmFcgUAJ4KCBd8aNWqU1yOklSlrHEVn2erSMKRJXSzViASrXJEXJIK8wG0ULPhWaWmp1yOkjddWObp+tq1e54Q0sbOl6gErVxJ5QWLIC9xGwYJvjRw50usR0sI/lzvq/5atm5qGNL6TpapW8MqVRF6QGPICt1GwgDT2/JeObp1n67bmIf3f1ZYi4WCWKwDwGwoWkKaeWWZr8Hxbd7YMa9yVlizKFQAkDQULvlVSUuL1CCnrL5/ZurvA0c/OC+upy8MKh4JfrsgLEkFe4DYKFnxr8ODBXo+QkkZ/Yuv+9x0NaxPWEx3CCqVAuZLICxJDXuA2ChZ8a8SIEV6PkHIeKbT1wIeOfpsT1qiLU6dcSeQFiSEvcFvE6wGAY8nNzfV6hJRhjNFvP3L0h48d/f6isB7MsbweKenICxJBXuA2ChaQ4hxj9PP3Hf31c0ePXRLWf7ZJvXIFAH5DwQJS2H7baOA7tiasMHqqY1h3t6ZcAUBl4Bws+Na4ceO8HiHQdu036jnT1uurjF7tbKV8uSIvSAR5gdsoWPCtwsJCr0cIrM17jTq9aWvhJqMZ11m6oUnq/69OXpAI8gK3cYgQvjV27FivRwik1buMuk6Pacd+6Z2eEeXUS513Ch4PeUEiyAvcRsECUsinW+PlKiMivRuN6Nxa6VGuAMBvUv+4AZAmFqx3dMWUmM6sIb3bi3IFAF6iYAEpYPIaR3nTbeXWDentnhGdkUG5AgAvUbDgW9Fo1OsRAuG5Lx31nW2rR1ZI07pZqlU1PcsVeUEiyAvcRsGCbw0ZMsTrEXzNGKM/fmzrp/Nt3dkyrAmdLFWPpGe5ksgLEkNe4DZOcodv5eXleT2CbznG6BcLHf3lM0cjcsP6XW5q3VfwRJAXJIK8wG3H3MFavny5OnbsqOzsbF1yySVatmzZUc9Zs2aNIpGIcnNzlZOTo9zcXK1atcrVgYF0t982um2erb9+5uh/O4b1UDsr7csVAPjNMXew7rrrLt1999267bbb9Nprr2ngwIH68MMPj3perVq1uGAbUEl2HzC6Ybatt9cbvXKtpX5NOcoPAH5U7uq8efNmLV68WLfccosk6YYbbtDatWu1cuXKo55rjHF3QqStSZMmeT2Crxy6Ovv7m4ymd6NcfR95QSLIC9xW7gq9du1aNWjQQOHwtx/OyspScXHxUc8tLS1V+/btddFFF+mRRx6hcCFp8vPzvR7BN9bsMrp8Skxrdhu90zOiTg0pV99HXpAI8gK3ndQqfdZZZ2ndunVatGiR5syZowULFujxxx9P1mxIcxMmTPB6BF/4bKvRZZNjijnxC4imy61vEkVekAjyAreVW7AaNWqk9evXy3Gcw48VFxcrKyvriOdVqVJF9erVkyRlZmZq8ODBWrBgwXG/Yffu3RWNRo/41aFDh6O2a2fNmlXudUruvffeo+6CXlhYqGg0qpKSkiMef+ihhzRq1KgjHisuLlY0GlVRUdERjz/55JMaNmzYEY+VlpYqGo2qoKDgiMfz8/M1aNCgo2br378/r4PXkdTXUbDBUe74HapatkPvRiNqVjsUyNchpcbfB6+D18HrSO3XkZ+fr2g0qoYNG+riiy9WNBrV/ffff9TsFREyxzim16lTJw0cOFADBw7UxIkTNXr06KNOct+8ebPq1KmjSCSisrIy3XbbbWrdurVGjBhx1NcrLCxUu3bttHjxYuXm5p7QsEA6mbLG0U1v2bq0fkiT8izVTtMLiAKAl060vxzzEOHTTz+tZ555RtnZ2Ro9erReeOEFSfEW+eyzz0qSCgoKlJOTo5ycHF100UVq0KCBHnzwwZN7JQD0/MGrs3dvFNL0bpQrAAiaY16moUWLFnrvvfeOenzkyJGHf9+3b1/17dvXncmQ9gYNGqTnn3/e6zEqlTFGoz5x9OtFju5qGdbYjmFZYcpVRaRjXnDiyAvcxpXc4VvpdqVlxxj950JHT3zm6He5YY3g6uwJSbe84OSQF7iNggXfGjBggNcjVJr9ttGgd2zlrzAa2zGse1pbXo8UOOmUF5w88gK3UbAAj+0+YNRvjq15/zaacK2lG7mAKAAEHgUL8FDJPqMeM2x9sT1+dXYuIAoAqYHVHL71/euVpJo1u4wunxzTql1Gb/fg6uwnK9XzguQiL3AbKzp8a/To0V6P4JpPtxp1nBLTfkd6NxpRu9M5mf1kpXJekHzkBW6jYMG3xo8f7/UIrpi8xtFlk2M6vXq8XDWvTblKhlTNC9xBXuA2ChZ8KyMjw+sRksoYo//+2FafWba6NAypoFdEDTIoV8mSanmBu8gL3MZJ7kAl2BczumOBrZeXG/02J6wR7cIKc40rAEhZFCzAZRtKjfrOtvXxFqP8TpZuPpeNYwBIdaz08K3v3w09iJaUGLWfFNOa3Ubze1Gu3JQKeUHlIS9wG6s9fCsrK8vrEU7Ka6scXT4lpjNqhLSoT0TtT+d/NzcFPS+oXOQFbmPFh28NHTrU6xFOiDFGjxTa6jfHVq+skOb3stTwFM63cltQ8wJvkBe4jXOwgCTaG4vfU3DCSqOH24X1mxxu2AwA6YiCBSTJuj1GfWbZ+nyb0avXWurHPQUBIG3xEwC+VVRU5PUIFbZos6P2k2LasNfo3WiEcuWBIOUF3iMvcBs/BeBbw4cP93qEChm/wtGVU2xl1Qzpwz4R5dTjkKAXgpIX+AN5gdsoWPCtMWPGeD3CcTnG6Lcf2Row19YNTUJ6u4fFldk95Pe8wF/IC9zGOVjwLT+/jXrPAaMfv23rjdVGf2wf1gMXcjK71/ycF/gPeYHbKFhAgtbuNorOiunrHdIbXSz1bsxGMADgSBQsIAHvb3TUd7at6pb0XjSiNnXZtQIAHI1/esO3Ro0a5fUIR3jpa0dXT7XVrFb8ZHbKlb/4LS/wN/ICt1Gw4FulpaVejyApfjL7rz609eO3bd3SLKS3eliqX4Ny5Td+yQuCgbzAbRwihG+NHDnS6xG0a7/RLfNsTS02euySsH5xASez+5Uf8oLgIC9wGwULOIbVu+Ins6/eJU3taql7Fhu+AICKoWAB5SjYED+ZvVYVaWHviFrXYdcKAFBx/JMcvlVSUuLJ933uS0ed3rR1fp34yeyUq2DwKi8IJvICt1Gw4FuDBw+u1O9nO0b/udDWT+fbGtQirJnXWapbnXIVFJWdFwQbeYHbOEQI3xoxYkSlfa8d+40GzLU18xujv3YIa8h5nMweNJWZFwQfeYHbKFjwrdzc3Er5Ph9scjRgrq2tZdL0bpbyzmZjN4gqKy9IDeQFbuMnCdKWY4xGf2Lr8sm26tcIaUnfCOUKAJAU7GAhLW0sjd+sedY6o19dGNbDF4VVJcwhQQBAcvDPdfjWuHHjXPm6s79xdOHrMX281WjmdZb+eLFFuUoBbuUFqYm8wG0ULPhWYWFhUr/eAcfo1x/a6jrd1oWnhbT0eg4JppJk5wWpjbzAbRwihG+NHTs2aV9r9a74uwQ/2mz03xeH9cs2YYV5l2BKSWZekPrIC9xGwULKe3WlozsW2KpTVSqIWrqkPrtWAAB3UbCQsvbGjH7+vqNnihzd2CSkZ6+wlFmNXSsAgPsoWEhJn2816j83ppU7pWevsHR7dogLhwIAKg3HSuBb0Wg04c8xxujZZY7aT4pJkhb1ieiOllyVPR2cSF6QvsgL3MYOFnxryJAhCT1/e5nRnQtsvbrK6O5WYf350rBqRChW6SLRvCC9kRe4jYIF38rLy6vwcxdujN/uZtt+6dVrLfVryuZsukkkLwB5gdv4KYRAc4zRqI9tXTHFVoOMkD6+PkK5AgB4jh0sBNbGUqPb3rY1Z53Rr9qGNbIdt7sBAPgD/9SHb02aNOmYH5t18HY3S7cazepu6dH23O4m3R0vL8D3kRe4jYIF38rPzz/qsQOO0a8O3u6mbd2QPrk+os4NiTHKzwtwLOQFbuMQIXxrwoQJR/x51U6jAfNsLd5s9KdLwvrFBdzuBt/6fl6A4yEvcBsFC4Hw6kpHt8+3Vbe69G7U0sXc7gYA4GMULPhaaczo/vdt/a3IqH/TkJ65wlLtquxaAQD8jYIF3/psq1H/t2JatUv6+xWWBnO7GwBAQHCcBb4Tc4weX2qr7SulssLSR30j+im3u8EPGDRokNcjIEDIC9zGDhZ85YNNju5aYOvTbVJe9TV6vXcrbneDCuHK3EgEeYHbKFjwhe1lRv+1yNHTyxzl1gvpw96W2p3e2uuxECADBgzwegQECHmB2yhY8JQxRhNWGv38fVt7YtITHcK6t3VYFhcNBQAEGAULnlmx0+ieAluz1hnd0CSkv3Sw1PAUihUAIPg4yR2Vbr9t9Iclts6fGNOXO4ymdrU0sXPkqHJVUFDg0YQIIvKCRJAXuI2ChUo1f72jtq/HNGKxo5+dF9bn/SLqkVV+DEePHl3J0yHIyAsSQV7gNg4RolKU7DMa/oGt578y6lA/pMLrLV1w2vEPB44fP76SpkMqIC9IBHmB2yhYcJUxRi9+bfTLhbZsIz1zuaXbW4YqdA/BjIyMSpgQqYK8IBHkBW6jYME1y7YZ3V1ga/4Go1uahfT4JZbOyOAkdgBA6qNgIen2xowe/djRqE8cNa4pze5uqXNDTvcDAKQPfuohqWZ/4+iC12Ia/YmjX7cNa+kNkRMuV8OGDUvydEhl5AWJIC9wGztYSIoNpUa/WGgrf4XR1Q1CerOrpezMkzscmJWVlaTpkA7ICxJBXuA2ChZOimOMnlnm6NeLHFUJSy9eZem25qGk3Jh56NChSZgQ6YK8IBHkBW6jYOGEfbLF6K4CWx9sMvppdkijLrZUtzonsQMAQMFCwnYfMBqx2NETnznKri3N72npigaczgcAwCH8VERCJq9x1PrVmMZ+4eiRi8Jacn3EtXJVVFTkytdFaiIvSAR5gdsoWKiQFTuN+s6KqfcsW+fVCenzfhH9uq2lqpZ7hwSHDx/u2tdG6iEvSAR5gds4RIjjWr7D6PdLbL283Kh+DWlCJ0s3Nk3OSew/ZMyYMa5/D6QO8oJEkBe4jYKFcn21PV6s/rHC6Iwa0uOXhnVny7BqRCrvJHbeRo1EkBckgrzAbRQsHOHLg8XqnyuMzqwh/c+lYd1RycUKAICgo2BBUvy+gb9fYmv8SqMGGdJfOoR1e3ZY1SlWAAAkjJPc09wX24wGzI3pvIkxzd9g9ORlYa3oH9GQ8yzPy9WoUaM8/f4IFvKCRJAXuI0drDT1+VajR5bYemWl0dmnSP/bMaxB2WFVc/FdgYkqLS31egQECHlBIsgL3EbBSjOfbjV6pNDWxFVGjWpKT19u6SctQq5ebuFEjRw50usRECDkBYkgL3AbBStNLN1i9PASW6+tMmpcU3rmCksDm/uzWAEAEHQUrBT38RajhwttvbHaqMmp0t+vsPTjFiFVCVOsAABwCye5p6glJfErr+e8HtPSrUbPXWnpy5si+mnLcGDKVUlJidcjIEDICxJBXuA2ClaKWbzZqPesmHLfiOnTbUYvXGWp6MaIBmUHp1gdMnjwYK9HQICQFySCvMBtHCJMER9tdjSy0NHUYqPmtaQXr7L0o2YhRQJWqr5rxIgRXo+AACEvSAR5gdsoWAH34aZ4sZq21qhFbemlqy3dfG6wi9Uhubm5Xo+AACEvSAR5gdsoWAF0wDGa/Y3RmC8cTV9r1DJT+sc1lvo3DclKgWIFAEDQUbACwhijxSVGL31tlL/C0eZ9UpvTpPxOlm5sQrECAMBPOMnd51bvMvrDElutJ8bUfpKtV1c5+nHzsJZcH9HH10d087nhlC1X48aN83oEBAh5QSLIC9xGwfKh7WVGfytydOWUmJqMj+mPHztqXy+kmddZWjsgoscutdS2bkihUGoWq0MKCwu9HgEBQl6QCPICt3GI0Cf220bT1xq9tNzRlDVGMSN1aRjSy9dY6nNOSKdUSe0yVZ6xY8d6PQIChLwgEeQFbqNgecgYo4Wb4udVTVjpaGuZlFNX+mP7sAY0C6tBRvqVKgAAUgEFywPLdxi9vNzRy8sdrdgpnX2KdEfLsG5rFtZ5p1GqAAAIOgpWJdmyL75L9dLX8V2rU6tI/ZqE9LcrwrqqQUjhFD+fCgCAdMJJ7i7aFzOauNJRn1kxNfhHTD97z1HdatL4TpY23hrRc1dFdM1ZYcrVMUSjUa9HQICQFySCvMBt7GAlmWOMCjbEDwG+stJox36p/ekhPX5JWP3PDat+DcpURQ0ZMsTrERAg5AWJIC9wGwUrCfYcMPqoxGjWN0b/WO5ozW6pcU1p6Hlh3dIsrJaZlKoTkZeX5/UICBDygkSQF7iNgpUgY4y+3iEt3BQ/l+r9TY4+3SrZRsqsKt3UNKxbm4XU8UzOqwIAIF1RsH7Ajv1GizYbvb/RHC5VW8viH2udKV1aP6R7Wod1af2QWmcqZa+qDgAAKo6C9R2OMVq27dDulKP3Nxl9sU0yiu9OXVo/pPvOj5epi08PKbMaZcpNkyZNUp8+fbweAwFBXpAI8gK3pXXB2rrP6IPv7E59sMlo5wEpHJLOryNdfkZYv2wT0qX1Q2pRWxzyq2SjRo1iAUSFkRckgrzAbccsWMuXL9fAgQNVUlKizMxMvfDCC2rVqtVRz5s6daqGDRsmx3F0wQUX6IUXXlDNmjVdHfpExByjz7ZJCzfGd6YWbjL6akf8Y/WqSx3qh/TAhWF1OCOki+qFdGpVypTXTj/9dK9HQICQFySCvMBtxyxYd911l+6++27ddttteu211zRw4EB9+OGHRzxnz549uv3227VgwQI1b95cQ4cO1cMPP6zRo0e7Pnh5jDHafUDaUiZt2Set3RPflVq4KX4e1Z6YFAlJF9YNKa9hWL/Lje9ONT1VKX/jZAAAUHnKLVibN2/W4sWLNXv2bEnSDTfcoCFDhmjlypVq2rTp4edNnz5dubm5at68uSTpnnvuUV5eXlIK1gHHaOu+Q2XJaEuZtPU7v//2v9KWMnPwv9IB58iv0yAjvjv1UG58dyq3XkgZEcoUAABwT7kFa+3atWrQoIHC4W8v9J6VlaXi4uIjClZxcbHOOeecw39u3LixNmzYIMdxjvjc73p/o6MvlztHlKLyytLOA+UPXLuqVLeaVLd6SHWrxe/jd2Hd8MHHpLrVQof/e2aGdFYGu1MAAKByVdpJ7nv37pUkDZn4hdTAUSQcf2de7e/8alRVOr9qSLWqS5m1Qocfz6wa/32tqlLkeJdBKDv4a2f8jxsP/kIwffjhhyosLPR6DAQEeUEiyAsqatmyZZK+7TEVVW7BatSokdavX3/ETlRxcbGysrKOeF5WVtbhw4iStGrVqqN2vg5ZvXp1/DfPDZQkxSSVHPwFHEu7du28HgEBQl6QCPKCRKxevVodO3as8PNDxhhT3gc6deqkgQMHauDAgZo4caJGjx591Enuu3fvVrNmzTR//ny1aNFCQ4cOVY0aNco9B6ukpEQzZ85U48aNVaNGjQRfFgAAQOXbu3evVq9era5du6pevXoV/rxjFqyvvvpKP/nJT7RlyxbVrl1bL7zwglq3bq2HHnpIDRs21J133inp28s02Lat888/Xy+++KJOPfXU5LwqAACAADpmwQIAAMCJKf+tfgAAADhhSS9Yy5cvV8eOHZWdna1LLrnk8Nn33zd16lS1atVK2dnZ6tevn3bv3p3sURAAFcnLmjVrFIlElJubq5ycHOXm5mrVqlUeTAsv3XfffWrSpInC4bCWLl16zOextkCqWF5YW3BIWVmZ+vbtq5YtWyonJ0ddu3bVihUryn1uhdcYk2SdOnUy//d//2eMMWbixImmffv2Rz1n9+7d5owzzjBfffWVMcaYIUOGmGHDhiV7FARARfKyevVqU6dOncoeDT6zYMECs27dOtOkSRPzySeflPsc1hYcUpG8sLbgkH379pnp06cf/vOYMWPM1VdffdTzElljklqwNm3aZGrXrm1s2z782JlnnmlWrFhxxPNeffVVc9111x3+8xdffGHOPvvsZI6CAKhoXlavXm0yMzMrezz4VOPGjY/5A5O1Bd93vLywtuBYPvroI9OkSZOjHk9kjUnqIcLjXQH+u453BXikj4rmRZJKS0vVvn17XXTRRXrkkUdkeG8GysHagkSxtqA8f/nLX9SnT5+jHk9kjeEkd/jeWWedpXXr1mnRokWaM2eOFixYoMcff9zrsQAEHGsLyvPoo49qxYoVevTRR0/q6yS1YH33CvCHHOsK8Iev7K7jXwEeqauiealSpcrhi7tlZmZq8ODBWrBgQaXOimBgbUEiWFvwfY899pgmTZqkGTNmqHr16kd9PJE1Jqmrzumnn67c3Fy99NJLkqSJEyeqUaNGR9wgWpK6deumJUuW6KuvvpIkPfXUU7r55puTOQoCoKJ52bx5s2KxmKT4Oz1ef/115eTkVPq88D/WFiSCtQXf9ec//1njx4/X7Nmzj3nB9ITWmGSfGPbll1+aDh06mBYtWpj27dubzz//3BhjzO9+9zvzzDPPHH7elClTTMuWLU3z5s1N3759zc6dO5M9CgKgInl5/fXXzfnnn2/atm1rzj//fPOzn/3M7N+/38ux4YG77rrLnH322aZKlSrmzDPPNM2bNzfGsLagfBXJC2sLDvnmm29MKBQyzZo1Mzk5OaZt27bm0ksvNcac+BrDldwBAACSjBMTAAAAkoyCBQAAkGQULAAAgCSjYAEAACQZBQsAACDJ/h8IuKlNFzLsegAAAABJRU5ErkJggg==\" />"
      ]
     },
     "execution_count": 242,
     "metadata": {},
     "output_type": "execute_result"
    }
   ],
   "source": [
    "using Plots\n",
    "pyplot()\n",
    "\n",
    "plot(sin(x)*x, 0:0.1:2)"
   ]
  },
  {
   "cell_type": "code",
   "execution_count": 243,
   "metadata": {
    "collapsed": false,
    "scrolled": true
   },
   "outputs": [
    {
     "name": "stderr",
     "output_type": "stream",
     "text": [
      "WARNING: Method definition fnum1(Any) in module Main at In[73]:1 overwritten at In[243]:1.\n"
     ]
    },
    {
     "data": {
      "text/plain": [
       "fnum1 (generic function with 1 method)"
      ]
     },
     "execution_count": 243,
     "metadata": {},
     "output_type": "execute_result"
    }
   ],
   "source": [
    "fnum1(x) = sin(x)*x"
   ]
  },
  {
   "cell_type": "code",
   "execution_count": 244,
   "metadata": {
    "collapsed": false
   },
   "outputs": [
    {
     "data": {
      "text/plain": [
       "(1.70095684226095,4.440892098500626e-16)"
      ]
     },
     "execution_count": 244,
     "metadata": {},
     "output_type": "execute_result"
    }
   ],
   "source": [
    "quadgk(fnum1, 0.5, 2)"
   ]
  },
  {
   "cell_type": "markdown",
   "metadata": {},
   "source": [
    "Utilizando uma função anônima"
   ]
  },
  {
   "cell_type": "code",
   "execution_count": 245,
   "metadata": {
    "collapsed": false
   },
   "outputs": [
    {
     "data": {
      "text/plain": [
       "(1.70095684226095,4.440892098500626e-16)"
      ]
     },
     "execution_count": 245,
     "metadata": {},
     "output_type": "execute_result"
    }
   ],
   "source": [
    "quadgk(x -> sin(x)*x, 0.5, 2)"
   ]
  },
  {
   "cell_type": "markdown",
   "metadata": {},
   "source": [
    "#### USANDO O PACOTE CUBATURE \n",
    "\n",
    "Sintaxe:\n",
    "```julia\n",
    "[valor,erro] = hquadrature(funcao, xmin, xmax , reltol=1e-8, abstol=0, maxevals=0)\n",
    "```\n",
    "* ** Funcao**: função de uma variável\n",
    "* ** xmin,xmax**: intervalos de integração\n",
    "* ** reltol**:tolerância do erro relativo\n",
    "* ** abstol**:tolerância do erro absoluto\n",
    "* ** maxevals**:número máximo de avaliações da função\n",
    "\n",
    "O comando hquadrature retorna o valor da integral e o erro (quanto menor, mais preciso é o calculo)"
   ]
  },
  {
   "cell_type": "code",
   "execution_count": 246,
   "metadata": {
    "collapsed": false
   },
   "outputs": [],
   "source": [
    "using Cubature"
   ]
  },
  {
   "cell_type": "code",
   "execution_count": 247,
   "metadata": {
    "collapsed": false
   },
   "outputs": [
    {
     "name": "stderr",
     "output_type": "stream",
     "text": [
      "WARNING: Method definition fnum2(Any) in module Main at In[77]:1 overwritten at In[247]:1.\n"
     ]
    },
    {
     "data": {
      "text/plain": [
       "fnum2 (generic function with 1 method)"
      ]
     },
     "execution_count": 247,
     "metadata": {},
     "output_type": "execute_result"
    }
   ],
   "source": [
    "fnum2(x) = sin(x)*x"
   ]
  },
  {
   "cell_type": "code",
   "execution_count": 248,
   "metadata": {
    "collapsed": false,
    "scrolled": true
   },
   "outputs": [
    {
     "data": {
      "text/plain": [
       "(1.70095684226095,1.888441450171807e-14)"
      ]
     },
     "execution_count": 248,
     "metadata": {},
     "output_type": "execute_result"
    }
   ],
   "source": [
    "hquadrature(fnum2, 0.5, 2)"
   ]
  },
  {
   "cell_type": "markdown",
   "metadata": {},
   "source": [
    "** Utilizando uma função anônima**"
   ]
  },
  {
   "cell_type": "code",
   "execution_count": 249,
   "metadata": {
    "collapsed": false
   },
   "outputs": [
    {
     "data": {
      "text/plain": [
       "(1.70095684226095,1.888441450171807e-14)"
      ]
     },
     "execution_count": 249,
     "metadata": {},
     "output_type": "execute_result"
    }
   ],
   "source": [
    "hquadrature(x -> sin(x)*x, 0.5, 2)"
   ]
  },
  {
   "cell_type": "markdown",
   "metadata": {},
   "source": [
    "#### FUNÇÃO GENÉRICA \"SOMA DE RIEMANN\" DE VÁRIOS METODOS DE INTEGRAÇÃO NUMÉRICA\n",
    "\n",
    "Em 1854 Riemann foi o primeiro a dar uma definição rigorosa do integral de uma função contínua em um intervalo fechado. A soma de Riemann é um dos métodos mais simples de compreender as aproximações para a área sob uma curva. A ideia básica é que o intervalo [a,b] é particionado através de pontos a = $x_0 <x_1 < ... x_n = b$ e a área sob f(x) entre $ x_{i}\\, $ e $ x_{i + 1} \\, $ é aproximado por um retângulo com o f base de $x_{i+1} - x_i\\, $ e altura dada por $f(x_i^*)\\, $, onde $x_i^*$  é algum ponto no intervalo $[x_i, x_{i + 1}] $. Opções típicas são o ponto de  esquerda ou o ponto de direita do intervalo, ou o valor $x$ que minimiza ou maximiza a função $f(x)$ sobre o intervalo. A figura mostra estas quatro opções para alguma função amostra.\n",
    "![](Figuras/soma_riemann.gif)\n",
    "Sintaxe:\n",
    "```julia\n",
    "riemann(funcao, a, b, n; metodo = \"nome_metodo\")\n",
    "```\n",
    "* **funcao**: Função\n",
    "* ** a,b**:     Intervalos\n",
    "* ** n**:       Quantidade de subintervalos\n",
    "* **metodo**: Nome do método que será utilizado. \"Direita\" é o padrao."
   ]
  },
  {
   "cell_type": "code",
   "execution_count": 250,
   "metadata": {
    "collapsed": false
   },
   "outputs": [
    {
     "name": "stderr",
     "output_type": "stream",
     "text": [
      "WARNING: Method definition riemann(Any, Any, Any, Any) in module Main at In[80]:2 overwritten at In[250]:2.\n",
      "WARNING: Method definition riemann(Any, Any, Any, Any, Any) in module Main at In[80]:2 overwritten at In[250]:2.\n"
     ]
    },
    {
     "data": {
      "text/plain": [
       "riemann (generic function with 2 methods)"
      ]
     },
     "execution_count": 250,
     "metadata": {},
     "output_type": "execute_result"
    }
   ],
   "source": [
    "function riemann(f, a, b, n, metodo = \"direita\")\n",
    "    xs = a + (0:n) * (b-a)/n \n",
    "    \n",
    "  if metodo == \"direita\"\n",
    "        metd(f,l,r) = f(r) * (r-l) \n",
    "        as = [metd(f, l, r) for (l,r) in zip(xs[1:end-1], xs[2:end])]   \n",
    "        \n",
    "  elseif metodo == \"esquerda\"\n",
    "        mete(f,l,r) = f(l) * (r-l)\n",
    "        as = [mete(f, l, r) for (l,r) in zip(xs[1:end-1], xs[2:end])] \n",
    "        \n",
    "  elseif metodo == \"trapez\"\n",
    "        mett(f,l,r) = (1/2) * (f(l) + f(r)) * (r-l)\n",
    "        as = [mett(f, l, r) for (l,r) in zip(xs[1:end-1], xs[2:end])] \n",
    "        \n",
    "  elseif metodo == \"simp\"\n",
    "        mets(f,l,r) = (1/6) * (f(l) + 4*(f((l+r)/2)) + f(r)) * (r-l)\n",
    "        as = [mets(f, l, r) for (l,r) in zip(xs[1:end-1], xs[2:end])] \n",
    "  end\n",
    "\n",
    "  sum(as)\n",
    "end"
   ]
  },
  {
   "cell_type": "code",
   "execution_count": 251,
   "metadata": {
    "collapsed": false
   },
   "outputs": [
    {
     "name": "stderr",
     "output_type": "stream",
     "text": [
      "WARNING: Method definition f(Any) in module Main at In[91]:1 overwritten at In[251]:1.\n"
     ]
    },
    {
     "data": {
      "text/plain": [
       "f (generic function with 1 method)"
      ]
     },
     "execution_count": 251,
     "metadata": {},
     "output_type": "execute_result"
    }
   ],
   "source": [
    "f(x) =  sin(x)*x"
   ]
  },
  {
   "cell_type": "code",
   "execution_count": 252,
   "metadata": {
    "collapsed": false
   },
   "outputs": [
    {
     "data": {
      "text/plain": [
       "0.30121075364044186"
      ]
     },
     "execution_count": 252,
     "metadata": {},
     "output_type": "execute_result"
    }
   ],
   "source": [
    "riemann(f, 0, 1, 10000)"
   ]
  },
  {
   "cell_type": "code",
   "execution_count": 253,
   "metadata": {
    "collapsed": false,
    "scrolled": true
   },
   "outputs": [
    {
     "data": {
      "text/plain": [
       "0.3011266065419611"
      ]
     },
     "execution_count": 253,
     "metadata": {},
     "output_type": "execute_result"
    }
   ],
   "source": [
    "riemann(f, 0, 1, 10000, \"esquerda\")"
   ]
  },
  {
   "cell_type": "code",
   "execution_count": 254,
   "metadata": {
    "collapsed": false
   },
   "outputs": [
    {
     "data": {
      "text/plain": [
       "0.30116868009120146"
      ]
     },
     "execution_count": 254,
     "metadata": {},
     "output_type": "execute_result"
    }
   ],
   "source": [
    "riemann(f, 0, 1, 10000, \"trapez\")"
   ]
  },
  {
   "cell_type": "code",
   "execution_count": 255,
   "metadata": {
    "collapsed": false
   },
   "outputs": [
    {
     "data": {
      "text/plain": [
       "0.3011686789397237"
      ]
     },
     "execution_count": 255,
     "metadata": {},
     "output_type": "execute_result"
    }
   ],
   "source": [
    "riemann(f, 0, 1, 10000, \"simp\")"
   ]
  },
  {
   "cell_type": "markdown",
   "metadata": {},
   "source": [
    "### INTEGRAL IMPRÓPRIA"
   ]
  },
  {
   "cell_type": "code",
   "execution_count": 256,
   "metadata": {
    "collapsed": false
   },
   "outputs": [
    {
     "data": {
      "text/plain": [
       "(x,)"
      ]
     },
     "execution_count": 256,
     "metadata": {},
     "output_type": "execute_result"
    }
   ],
   "source": [
    "using SymPy\n",
    "@syms x"
   ]
  },
  {
   "cell_type": "code",
   "execution_count": 257,
   "metadata": {
    "collapsed": false
   },
   "outputs": [
    {
     "name": "stderr",
     "output_type": "stream",
     "text": [
      "WARNING: Method definition fimp(Any) in module Main at In[87]:1 overwritten at In[257]:1.\n"
     ]
    },
    {
     "data": {
      "text/plain": [
       "fimp (generic function with 1 method)"
      ]
     },
     "execution_count": 257,
     "metadata": {},
     "output_type": "execute_result"
    }
   ],
   "source": [
    "fimp(x) = 1/(1 + x^2)"
   ]
  },
  {
   "cell_type": "code",
   "execution_count": 258,
   "metadata": {
    "collapsed": false,
    "scrolled": true
   },
   "outputs": [
    {
     "data": {
      "text/html": [
       "<img src=\"data:image/png;base64,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\" />"
      ]
     },
     "execution_count": 258,
     "metadata": {},
     "output_type": "execute_result"
    }
   ],
   "source": [
    "using Plots\n",
    "pyplot()\n",
    "\n",
    "plot(fimp, -10:0.1:10)"
   ]
  },
  {
   "cell_type": "markdown",
   "metadata": {},
   "source": [
    "$ \\displaystyle \\int_{0}^{+oo} {f(x)} ~ dx $"
   ]
  },
  {
   "cell_type": "code",
   "execution_count": 259,
   "metadata": {
    "collapsed": false,
    "scrolled": false
   },
   "outputs": [
    {
     "data": {
      "text/latex": [
       "$$\\frac{\\pi}{2}$$"
      ],
      "text/plain": [
       "pi\n",
       "--\n",
       "2 "
      ]
     },
     "execution_count": 259,
     "metadata": {},
     "output_type": "execute_result"
    }
   ],
   "source": [
    "integrate(fimp(x), x, 0, +oo)"
   ]
  },
  {
   "cell_type": "markdown",
   "metadata": {},
   "source": [
    "$ \\displaystyle \\int_{-oo}^{+oo} {f(x)} ~ dx $"
   ]
  },
  {
   "cell_type": "code",
   "execution_count": 260,
   "metadata": {
    "collapsed": false
   },
   "outputs": [
    {
     "data": {
      "text/latex": [
       "$$\\pi$$"
      ],
      "text/plain": [
       "pi"
      ]
     },
     "execution_count": 260,
     "metadata": {},
     "output_type": "execute_result"
    }
   ],
   "source": [
    "integrate(fimp(x), x, -oo, +oo)"
   ]
  },
  {
   "cell_type": "markdown",
   "metadata": {},
   "source": []
  },
  {
   "cell_type": "markdown",
   "metadata": {},
   "source": [
    "### INTEGRAÇÃO IMPRÓPRIA NUMÉRICA\n",
    "\n",
    "Para realizar uma integração numérica imprópria, utilize valores muito grandes para infinito($10^{20}$ ou mais) e valores muito pequenos para 0 ($10^{-10}$ ou menos)"
   ]
  },
  {
   "cell_type": "markdown",
   "metadata": {},
   "source": [
    "#### COMANDO QUADGK\n",
    "\n",
    "O resultado é um vetor na forma [valor, erro]. Sintaxe:\n",
    "```julia\n",
    "valor_integral, erro = quadgk(funcao, a,b,reltol=sqrt(eps), abstol=0, maxevals=1e7, order=7)\n",
    "```\n",
    "* ** funcao**: função de uma variável\n",
    "* ** a,b**: intervalos de integração\n",
    "* ** reltol**: tolerância do erro relativo\n",
    "* ** abstol**: tolerância do erro absoluto\n",
    "* ** maxevals**:número máximo de avaliações da função\n",
    "* ** order**: ordem da regra de integração (o padrão é 7).\n",
    "\n",
    "obs: Use **`quadgk(funcao ,a ,b )`**. Se usar **`quadgk( funcao(x), a, b )`** sem o `SymPy` ocorre erro."
   ]
  },
  {
   "cell_type": "code",
   "execution_count": 2,
   "metadata": {
    "collapsed": false
   },
   "outputs": [
    {
     "data": {
      "text/plain": [
       "f (generic function with 1 method)"
      ]
     },
     "execution_count": 2,
     "metadata": {},
     "output_type": "execute_result"
    }
   ],
   "source": [
    "f(x) = 1/(1 + x^2)"
   ]
  },
  {
   "cell_type": "code",
   "execution_count": 10,
   "metadata": {
    "collapsed": false
   },
   "outputs": [
    {
     "data": {
      "text/plain": [
       "(1.5707963267948977,1.7476322574221018e-9)"
      ]
     },
     "execution_count": 10,
     "metadata": {},
     "output_type": "execute_result"
    }
   ],
   "source": [
    "# valor e erro\n",
    "valor , erro = quadgk(f, 0, 1e20)"
   ]
  },
  {
   "cell_type": "code",
   "execution_count": 11,
   "metadata": {
    "collapsed": false
   },
   "outputs": [
    {
     "data": {
      "text/plain": [
       "1.5707963267948977"
      ]
     },
     "execution_count": 11,
     "metadata": {},
     "output_type": "execute_result"
    }
   ],
   "source": [
    "valor"
   ]
  },
  {
   "cell_type": "code",
   "execution_count": 6,
   "metadata": {
    "collapsed": false
   },
   "outputs": [
    {
     "data": {
      "text/plain": [
       "1.5707963267948977"
      ]
     },
     "execution_count": 6,
     "metadata": {},
     "output_type": "execute_result"
    }
   ],
   "source": [
    "# somente o valor \n",
    "quadgk(f, 0, 1e20)[1]"
   ]
  },
  {
   "cell_type": "code",
   "execution_count": 9,
   "metadata": {
    "collapsed": false,
    "scrolled": true
   },
   "outputs": [
    {
     "data": {
      "text/plain": [
       "Tuple{Float64,Float64}"
      ]
     },
     "execution_count": 9,
     "metadata": {},
     "output_type": "execute_result"
    }
   ],
   "source": [
    "# de -inf a +inf. Valor e erro\n",
    "quadgk(f, -1e20, 1e20)"
   ]
  },
  {
   "cell_type": "markdown",
   "metadata": {},
   "source": [
    "#### USANDO O PACOTE CUBATURE \n",
    "\n",
    "Sintaxe:\n",
    "```julia\n",
    "hquadrature(funcao, xmin, xmax, reltol=1e-8, abstol=0, maxevals=0)\n",
    "```\n",
    "* ** funcao**: função de uma variável\n",
    "* ** xmin, xmax**: intervalos de integração\n",
    "* ** reltol**: tolerância do erro relativo\n",
    "* ** abstol**: tolerância do erro absoluto\n",
    "* ** maxevals**: número máximo de avaliações da função\n",
    "\n",
    "A função utilizada pelo comando hcubature possui a seguinte sintaxe:\n",
    "```julia\n",
    "funcao = expressao_x[1]\n",
    "x[1] -> corresponde a variável \"x\"\n",
    "```\n",
    "O resultado é uma tupla contendo o valor da integral e erro(quanto menor melhor a precisão do valor)."
   ]
  },
  {
   "cell_type": "code",
   "execution_count": 265,
   "metadata": {
    "collapsed": false,
    "scrolled": true
   },
   "outputs": [
    {
     "name": "stderr",
     "output_type": "stream",
     "text": [
      "WARNING: Method definition fiin(Any) in module Main at In[95]:1 overwritten at In[265]:1.\n"
     ]
    },
    {
     "data": {
      "text/plain": [
       "fiin (generic function with 1 method)"
      ]
     },
     "execution_count": 265,
     "metadata": {},
     "output_type": "execute_result"
    }
   ],
   "source": [
    "fiin(x) = 1/(1 + x[1]^2)"
   ]
  },
  {
   "cell_type": "code",
   "execution_count": 266,
   "metadata": {
    "collapsed": false
   },
   "outputs": [],
   "source": [
    "using Cubature "
   ]
  },
  {
   "cell_type": "code",
   "execution_count": 267,
   "metadata": {
    "collapsed": false
   },
   "outputs": [
    {
     "data": {
      "text/plain": [
       "(1.5707963267948977,3.9302603196994814e-10)"
      ]
     },
     "execution_count": 267,
     "metadata": {},
     "output_type": "execute_result"
    }
   ],
   "source": [
    "# valor e erro\n",
    "valor , erro = hquadrature(fiin, 0, 1e20)"
   ]
  },
  {
   "cell_type": "code",
   "execution_count": 268,
   "metadata": {
    "collapsed": false
   },
   "outputs": [
    {
     "data": {
      "text/plain": [
       "1.5707963267948977"
      ]
     },
     "execution_count": 268,
     "metadata": {},
     "output_type": "execute_result"
    }
   ],
   "source": [
    "# somente valor\n",
    "valor"
   ]
  },
  {
   "cell_type": "code",
   "execution_count": 269,
   "metadata": {
    "collapsed": false
   },
   "outputs": [
    {
     "data": {
      "text/plain": [
       "1.5707963267948977"
      ]
     },
     "execution_count": 269,
     "metadata": {},
     "output_type": "execute_result"
    }
   ],
   "source": [
    "# outra forma de mostrar somente o valor\n",
    "hquadrature(fiin, 0, 1e20)[1]"
   ]
  },
  {
   "cell_type": "code",
   "execution_count": 270,
   "metadata": {
    "collapsed": false
   },
   "outputs": [
    {
     "data": {
      "text/plain": [
       "(1.570796326794898,3.9302604490966944e-10)"
      ]
     },
     "execution_count": 270,
     "metadata": {},
     "output_type": "execute_result"
    }
   ],
   "source": [
    "# de -inf a +inf. Valor e erro\n",
    "hquadrature(fiin, -1e20, 1e20)"
   ]
  },
  {
   "cell_type": "markdown",
   "metadata": {},
   "source": [
    "### INTEGRAÇÃO MULTIPLA "
   ]
  },
  {
   "cell_type": "markdown",
   "metadata": {},
   "source": [
    "#### INTEGRAL MULTIPLA SIMBÓLICA INDEFINIDA"
   ]
  },
  {
   "cell_type": "markdown",
   "metadata": {},
   "source": [
    "##### Integral Dupla Indefinida "
   ]
  },
  {
   "cell_type": "markdown",
   "metadata": {},
   "source": [
    "$$ \\displaystyle \\int \\int {f(x,y)} ~dxdy $$"
   ]
  },
  {
   "cell_type": "code",
   "execution_count": 271,
   "metadata": {
    "collapsed": false,
    "scrolled": false
   },
   "outputs": [
    {
     "data": {
      "text/plain": [
       "(x,y)"
      ]
     },
     "execution_count": 271,
     "metadata": {},
     "output_type": "execute_result"
    }
   ],
   "source": [
    "using SymPy\n",
    "@syms x y"
   ]
  },
  {
   "cell_type": "code",
   "execution_count": 272,
   "metadata": {
    "collapsed": false
   },
   "outputs": [
    {
     "name": "stderr",
     "output_type": "stream",
     "text": [
      "WARNING: Method definition f_di(Any, Any) in module Main at In[102]:1 overwritten at In[272]:1.\n"
     ]
    },
    {
     "data": {
      "text/plain": [
       "f_di (generic function with 1 method)"
      ]
     },
     "execution_count": 272,
     "metadata": {},
     "output_type": "execute_result"
    }
   ],
   "source": [
    "f_di(x , y) = x*y - x + y"
   ]
  },
  {
   "cell_type": "code",
   "execution_count": 273,
   "metadata": {
    "collapsed": false
   },
   "outputs": [
    {
     "data": {
      "text/latex": [
       "$$- \\frac{x^{2} y}{2} + y^{2} \\left(\\frac{x^{2}}{4} + \\frac{x}{2}\\right)$$"
      ],
      "text/plain": [
       "   2        / 2    \\\n",
       "  x *y    2 |x    x|\n",
       "- ---- + y *|-- + -|\n",
       "   2        \\4    2/"
      ]
     },
     "execution_count": 273,
     "metadata": {},
     "output_type": "execute_result"
    }
   ],
   "source": [
    "integrate(integrate(f_di(x,y), x), y)"
   ]
  },
  {
   "cell_type": "markdown",
   "metadata": {},
   "source": [
    "Ou colocando direto a função no comando"
   ]
  },
  {
   "cell_type": "code",
   "execution_count": 274,
   "metadata": {
    "collapsed": false
   },
   "outputs": [
    {
     "data": {
      "text/latex": [
       "$$x^{2} \\left(\\frac{y^{2}}{4} - \\frac{y}{2}\\right) + \\frac{x y^{2}}{2}$$"
      ],
      "text/plain": [
       "   / 2    \\      2\n",
       " 2 |y    y|   x*y \n",
       "x *|-- - -| + ----\n",
       "   \\4    2/    2  "
      ]
     },
     "execution_count": 274,
     "metadata": {},
     "output_type": "execute_result"
    }
   ],
   "source": [
    "integrate(integrate(x*y - x + y, y), x)"
   ]
  },
  {
   "cell_type": "markdown",
   "metadata": {},
   "source": [
    "Ou ainda mais facil"
   ]
  },
  {
   "cell_type": "code",
   "execution_count": 275,
   "metadata": {
    "collapsed": false,
    "scrolled": true
   },
   "outputs": [
    {
     "data": {
      "text/latex": [
       "$$- \\frac{x^{2} y}{2} + y^{2} \\left(\\frac{x^{2}}{4} + \\frac{x}{2}\\right)$$"
      ],
      "text/plain": [
       "   2        / 2    \\\n",
       "  x *y    2 |x    x|\n",
       "- ---- + y *|-- + -|\n",
       "   2        \\4    2/"
      ]
     },
     "execution_count": 275,
     "metadata": {},
     "output_type": "execute_result"
    }
   ],
   "source": [
    "integrate(f_di(x, y), (x), (y))"
   ]
  },
  {
   "cell_type": "markdown",
   "metadata": {},
   "source": [
    "##### Integral Tripla Indefinida "
   ]
  },
  {
   "cell_type": "markdown",
   "metadata": {},
   "source": [
    "$$ \\int \\int \\int {f(x,y)} ~dxdydz $$"
   ]
  },
  {
   "cell_type": "code",
   "execution_count": 276,
   "metadata": {
    "collapsed": false
   },
   "outputs": [
    {
     "data": {
      "text/plain": [
       "(x,y,z)"
      ]
     },
     "execution_count": 276,
     "metadata": {},
     "output_type": "execute_result"
    }
   ],
   "source": [
    "using SymPy\n",
    "@syms x y z"
   ]
  },
  {
   "cell_type": "code",
   "execution_count": 277,
   "metadata": {
    "collapsed": false,
    "scrolled": true
   },
   "outputs": [
    {
     "name": "stderr",
     "output_type": "stream",
     "text": [
      "WARNING: Method definition f_ti(Any, Any, Any) in module Main at In[107]:1 overwritten at In[277]:1.\n"
     ]
    },
    {
     "data": {
      "text/plain": [
       "f_ti (generic function with 1 method)"
      ]
     },
     "execution_count": 277,
     "metadata": {},
     "output_type": "execute_result"
    }
   ],
   "source": [
    "f_ti(x, y, z) = x*y*z - x + y - z"
   ]
  },
  {
   "cell_type": "code",
   "execution_count": 278,
   "metadata": {
    "collapsed": false
   },
   "outputs": [
    {
     "data": {
      "text/latex": [
       "$$z^{2} \\left(\\frac{x^{2} y^{2}}{8} - \\frac{x y}{2}\\right) + z \\left(- \\frac{x^{2} y}{2} + \\frac{x y^{2}}{2}\\right)$$"
      ],
      "text/plain": [
       "   / 2  2      \\     /   2        2\\\n",
       " 2 |x *y    x*y|     |  x *y   x*y |\n",
       "z *|----- - ---| + z*|- ---- + ----|\n",
       "   \\  8      2 /     \\   2      2  /"
      ]
     },
     "execution_count": 278,
     "metadata": {},
     "output_type": "execute_result"
    }
   ],
   "source": [
    "int_tripla_a = integrate( integrate( integrate(f_ti(x, y, z), x), y), z)"
   ]
  },
  {
   "cell_type": "code",
   "execution_count": 279,
   "metadata": {
    "collapsed": false,
    "scrolled": true
   },
   "outputs": [
    {
     "data": {
      "text/latex": [
       "$$\\frac{x y}{8} z \\left(- 4 x + 4 y + z \\left(x y - 4\\right)\\right)$$"
      ],
      "text/plain": [
       "x*y*z*(-4*x + 4*y + z*(x*y - 4))\n",
       "--------------------------------\n",
       "               8                "
      ]
     },
     "execution_count": 279,
     "metadata": {},
     "output_type": "execute_result"
    }
   ],
   "source": [
    "# simplificando o resultado\n",
    "simplify(int_tripla_a)"
   ]
  },
  {
   "cell_type": "markdown",
   "metadata": {},
   "source": [
    "Oura forma mais fácil"
   ]
  },
  {
   "cell_type": "code",
   "execution_count": 280,
   "metadata": {
    "collapsed": false,
    "scrolled": true
   },
   "outputs": [
    {
     "data": {
      "text/latex": [
       "$$- y^{2} \\left(\\frac{y z}{2} - \\frac{1}{2}\\right) - y \\left(y - z\\right) + z^{2} \\left(\\frac{y z}{2} - \\frac{1}{2}\\right) + z \\left(y - z\\right)$$"
      ],
      "text/plain": [
       "   2 /y*z   1\\                2 /y*z   1\\            \n",
       "- y *|--- - -| - y*(y - z) + z *|--- - -| + z*(y - z)\n",
       "     \\ 2    2/                  \\ 2    2/            "
      ]
     },
     "execution_count": 280,
     "metadata": {},
     "output_type": "execute_result"
    }
   ],
   "source": [
    "int_tripla_b = integrate(f_ti(x, y, z), (x), (y), (z))"
   ]
  },
  {
   "cell_type": "code",
   "execution_count": 281,
   "metadata": {
    "collapsed": false
   },
   "outputs": [
    {
     "data": {
      "text/latex": [
       "$$- \\frac{y^{3} z}{2} - \\frac{y^{2}}{2} + \\frac{y z^{3}}{2} + 2 y z - \\frac{3 z^{2}}{2}$$"
      ],
      "text/plain": [
       "   3      2      3              2\n",
       "  y *z   y    y*z            3*z \n",
       "- ---- - -- + ---- + 2*y*z - ----\n",
       "   2     2     2              2  "
      ]
     },
     "execution_count": 281,
     "metadata": {},
     "output_type": "execute_result"
    }
   ],
   "source": [
    "# simplificando o resultado\n",
    "simplify(int_tripla_b)"
   ]
  },
  {
   "cell_type": "markdown",
   "metadata": {},
   "source": [
    "#### INTEGRAL MÚLTIPLA SIMBÓLICA DEFINIDA"
   ]
  },
  {
   "cell_type": "markdown",
   "metadata": {},
   "source": [
    "##### Integral Multipla Dupla Definida \n",
    "\n",
    "$ \\displaystyle \\int_{y_{min}}^{y_{max}} \\int_{x_{min}}^{x_{max}} {f(x,y)} ~dxdy $"
   ]
  },
  {
   "cell_type": "markdown",
   "metadata": {},
   "source": [
    "Calcular a seguinte integral: \n",
    "\n",
    "$ \\displaystyle \\int_{y-1}^{y+1} \\int_{x-1}^{x+1} {xy - x + y} ~dxdy $"
   ]
  },
  {
   "cell_type": "code",
   "execution_count": 2,
   "metadata": {
    "collapsed": false
   },
   "outputs": [
    {
     "data": {
      "text/plain": [
       "(x,y)"
      ]
     },
     "execution_count": 2,
     "metadata": {},
     "output_type": "execute_result"
    }
   ],
   "source": [
    "using SymPy\n",
    "@syms x y"
   ]
  },
  {
   "cell_type": "code",
   "execution_count": 3,
   "metadata": {
    "collapsed": false
   },
   "outputs": [
    {
     "name": "stderr",
     "output_type": "stream",
     "text": [
      "WARNING: Method definition f_si(Any, Any) in module Main at In[1]:1 overwritten at In[3]:1.\n"
     ]
    },
    {
     "data": {
      "text/plain": [
       "f_si (generic function with 1 method)"
      ]
     },
     "execution_count": 3,
     "metadata": {},
     "output_type": "execute_result"
    }
   ],
   "source": [
    "f_si(x, y) = x*y - x + y"
   ]
  },
  {
   "cell_type": "code",
   "execution_count": 4,
   "metadata": {
    "collapsed": false
   },
   "outputs": [
    {
     "data": {
      "text/latex": [
       "$$2 x \\left(y - 1\\right) - 2 x \\left(y + 1\\right) - \\left(x + 1\\right) \\left(y - 1\\right)^{2} + \\left(x + 1\\right) \\left(y + 1\\right)^{2}$$"
      ],
      "text/plain": [
       "                                           2                  2\n",
       "2*x*(y - 1) - 2*x*(y + 1) - (x + 1)*(y - 1)  + (x + 1)*(y + 1) "
      ]
     },
     "execution_count": 4,
     "metadata": {},
     "output_type": "execute_result"
    }
   ],
   "source": [
    "integrate( integrate(f_si(x, y), x, x - 1, x + 1), y, y - 1, y + 1)"
   ]
  },
  {
   "cell_type": "markdown",
   "metadata": {},
   "source": [
    "Outro exemplo: \n",
    "\n",
    "$ \\displaystyle \\int_{0}^{1} \\int_{0}^{1} {f(x,y)} ~dxdy $"
   ]
  },
  {
   "cell_type": "code",
   "execution_count": 285,
   "metadata": {
    "collapsed": false
   },
   "outputs": [
    {
     "data": {
      "text/latex": [
       "$$\\frac{1}{4}$$"
      ],
      "text/plain": [
       "1/4"
      ]
     },
     "execution_count": 285,
     "metadata": {},
     "output_type": "execute_result"
    }
   ],
   "source": [
    "integrate( integrate(f_si(x, y), x, 0, 1), y, 0, 1)"
   ]
  },
  {
   "cell_type": "markdown",
   "metadata": {},
   "source": [
    "Ou ainda mais prático"
   ]
  },
  {
   "cell_type": "code",
   "execution_count": 286,
   "metadata": {
    "collapsed": false
   },
   "outputs": [
    {
     "data": {
      "text/latex": [
       "$$\\frac{1}{4}$$"
      ],
      "text/plain": [
       "1/4"
      ]
     },
     "execution_count": 286,
     "metadata": {},
     "output_type": "execute_result"
    }
   ],
   "source": [
    "integrate(f_si(x, y), (x, 0, 1), (y, 0, 1))"
   ]
  },
  {
   "cell_type": "markdown",
   "metadata": {
    "collapsed": true
   },
   "source": [
    "##### Integral Multipla Tripla Definida \n",
    "\n",
    "\n",
    "$$\\int_{z_{min}}^{z_{max}} \\int_{y_{min}}^{y_{max}} \\int_{x_{min}}^{x_{max}} f(x,y,z)\\, dxdydzb$$"
   ]
  },
  {
   "cell_type": "markdown",
   "metadata": {},
   "source": [
    "Calcular a seguinte integral \n",
    "\n",
    "$ \\displaystyle \\int_{0}^{1} \\int_{y-1}^{y+1} \\int_{x-1}^{x+1} {xyz - x + y - z} ~dxdydz $"
   ]
  },
  {
   "cell_type": "code",
   "execution_count": 287,
   "metadata": {
    "collapsed": false,
    "scrolled": true
   },
   "outputs": [
    {
     "data": {
      "text/plain": [
       "(x,y,z)"
      ]
     },
     "execution_count": 287,
     "metadata": {},
     "output_type": "execute_result"
    }
   ],
   "source": [
    "using SymPy\n",
    "@syms x y z"
   ]
  },
  {
   "cell_type": "code",
   "execution_count": 288,
   "metadata": {
    "collapsed": false,
    "scrolled": true
   },
   "outputs": [
    {
     "name": "stderr",
     "output_type": "stream",
     "text": [
      "WARNING: Method definition f_td(Any, Any, Any) in module Main at In[118]:1 overwritten at In[288]:1.\n"
     ]
    },
    {
     "data": {
      "text/plain": [
       "f_td (generic function with 1 method)"
      ]
     },
     "execution_count": 288,
     "metadata": {},
     "output_type": "execute_result"
    }
   ],
   "source": [
    "f_td(x, y, z) = x*y*z - x + y - z"
   ]
  },
  {
   "cell_type": "code",
   "execution_count": 289,
   "metadata": {
    "collapsed": false,
    "scrolled": true
   },
   "outputs": [
    {
     "data": {
      "text/latex": [
       "$$2 x y - 4 x + 4 y - 2$$"
      ],
      "text/plain": [
       "2*x*y - 4*x + 4*y - 2"
      ]
     },
     "execution_count": 289,
     "metadata": {},
     "output_type": "execute_result"
    }
   ],
   "source": [
    "integrate( integrate(integrate(f_td(x, y, z), x, x - 1, x + 1), y, y - 1 , y + 1), z, 0, 1)"
   ]
  },
  {
   "cell_type": "markdown",
   "metadata": {},
   "source": [
    "Ou ainda mais prático"
   ]
  },
  {
   "cell_type": "code",
   "execution_count": 290,
   "metadata": {
    "collapsed": false
   },
   "outputs": [
    {
     "data": {
      "text/latex": [
       "$$2 x y - 4 x + 4 y - 2$$"
      ],
      "text/plain": [
       "2*x*y - 4*x + 4*y - 2"
      ]
     },
     "execution_count": 290,
     "metadata": {},
     "output_type": "execute_result"
    }
   ],
   "source": [
    "integrate(f_td(x, y, z), (x, x - 1 , x + 1 ), (y, y - 1 , y + 1 ),(z, 0, 1))"
   ]
  },
  {
   "cell_type": "markdown",
   "metadata": {},
   "source": [
    "Outro exemplo"
   ]
  },
  {
   "cell_type": "markdown",
   "metadata": {},
   "source": [
    "$ \\displaystyle \\int_{0}^{1} \\int_{0}^{1} \\int_{{0}}^{{1}} xyz - x + y - z~ dxdydz$"
   ]
  },
  {
   "cell_type": "code",
   "execution_count": 291,
   "metadata": {
    "collapsed": false
   },
   "outputs": [
    {
     "name": "stderr",
     "output_type": "stream",
     "text": [
      "WARNING: Method definition f_td2(Any, Any, Any) in module Main at In[121]:1 overwritten at In[291]:1.\n"
     ]
    },
    {
     "data": {
      "text/plain": [
       "f_td2 (generic function with 1 method)"
      ]
     },
     "execution_count": 291,
     "metadata": {},
     "output_type": "execute_result"
    }
   ],
   "source": [
    "f_td2(x, y, z) = x*y*z - x + y - z"
   ]
  },
  {
   "cell_type": "code",
   "execution_count": 292,
   "metadata": {
    "collapsed": false
   },
   "outputs": [
    {
     "data": {
      "text/latex": [
       "$$- \\frac{3}{8}$$"
      ],
      "text/plain": [
       "-3/8"
      ]
     },
     "execution_count": 292,
     "metadata": {},
     "output_type": "execute_result"
    }
   ],
   "source": [
    "integrate(integrate(integrate(f_td2(x, y, z), x, 0, 1), y, 0, 1), z, 0, 1)"
   ]
  },
  {
   "cell_type": "markdown",
   "metadata": {},
   "source": [
    "Ou ainda mais prático"
   ]
  },
  {
   "cell_type": "code",
   "execution_count": 293,
   "metadata": {
    "collapsed": false
   },
   "outputs": [
    {
     "data": {
      "text/latex": [
       "$$- \\frac{3}{8}$$"
      ],
      "text/plain": [
       "-3/8"
      ]
     },
     "execution_count": 293,
     "metadata": {},
     "output_type": "execute_result"
    }
   ],
   "source": [
    "integrate(f_td2(x, y, z), (x, 0, 1), (y, 0, 1),(z, 0, 1))"
   ]
  },
  {
   "cell_type": "markdown",
   "metadata": {},
   "source": [
    "### INTEGRAL MULTIPLA NUMÉRICA"
   ]
  },
  {
   "cell_type": "markdown",
   "metadata": {},
   "source": [
    "$$\\int_{y_{min}}^{y_{max}} \\int_{x_{min}}^{x_{max}} f(x,y)\\, dxdy$$"
   ]
  },
  {
   "cell_type": "markdown",
   "metadata": {},
   "source": [
    "#### INTEGRAL MULTIPLA DUPLA NUMÉRICA\n",
    "\n",
    "Vamos utilizar o pacote Cubature. Sintaxe:\n",
    "```julia\n",
    "hcubature(funcao, [xmin,ymin], [xmax,ymax],reltol=1e-8, abstol=0, maxevals=0)\n",
    "\n",
    "```\n",
    "* ** funcao**: função f(x[1], x[2])\n",
    "* ** [xmin,ymin] e [xmax,ymax]**: intervalos de integração para x[1] e x[2]\n",
    "* ** reltol**:tolerância do erro relativo\n",
    "* ** abstol**:tolerância do erro absoluto\n",
    "* ** maxevals**:número máximo de avaliações da função\n",
    "\n",
    "A função utilizada pelo comando hcubature possui a seguinte sintaxe:\n",
    "```julia\n",
    "funcao(var) = expressao_var[1]_[2]\n",
    "x[1] -> corresponde a variável \"x\"\n",
    "x[2] -> corresponde a variável \"y\"  e assim por diante\n",
    "```\n",
    "O resultado é uma tupla contendo o valor da integral e erro(quanto menor melhor a precisão do valor)."
   ]
  },
  {
   "cell_type": "markdown",
   "metadata": {},
   "source": [
    "Resolver a integral \n",
    "\n",
    "$ \\displaystyle \\int_{0}^{1} \\int_{0}^{1} xy - x + y\\, dxdy$"
   ]
  },
  {
   "cell_type": "code",
   "execution_count": 294,
   "metadata": {
    "collapsed": false
   },
   "outputs": [],
   "source": [
    "using Cubature"
   ]
  },
  {
   "cell_type": "code",
   "execution_count": 295,
   "metadata": {
    "collapsed": false
   },
   "outputs": [
    {
     "name": "stderr",
     "output_type": "stream",
     "text": [
      "WARNING: Method definition f_dn(Any) in module Main at In[125]:1 overwritten at In[295]:1.\n"
     ]
    },
    {
     "data": {
      "text/plain": [
       "f_dn (generic function with 1 method)"
      ]
     },
     "execution_count": 295,
     "metadata": {},
     "output_type": "execute_result"
    }
   ],
   "source": [
    "f_dn(x) = x[1]*x[2] - x[1] + x[2]"
   ]
  },
  {
   "cell_type": "code",
   "execution_count": 296,
   "metadata": {
    "collapsed": false
   },
   "outputs": [
    {
     "data": {
      "text/plain": [
       "(0.25,0.0)"
      ]
     },
     "execution_count": 296,
     "metadata": {},
     "output_type": "execute_result"
    }
   ],
   "source": [
    "# valor e erro \n",
    "valor, erro = hcubature(f_dn, [0, 0], [1, 1])"
   ]
  },
  {
   "cell_type": "code",
   "execution_count": 297,
   "metadata": {
    "collapsed": false
   },
   "outputs": [
    {
     "data": {
      "text/plain": [
       "0.25"
      ]
     },
     "execution_count": 297,
     "metadata": {},
     "output_type": "execute_result"
    }
   ],
   "source": [
    "# somente valor\n",
    "valor"
   ]
  },
  {
   "cell_type": "code",
   "execution_count": 298,
   "metadata": {
    "collapsed": false
   },
   "outputs": [
    {
     "data": {
      "text/plain": [
       "0.25"
      ]
     },
     "execution_count": 298,
     "metadata": {},
     "output_type": "execute_result"
    }
   ],
   "source": [
    "# outra forma\n",
    "hcubature(f_dn, [0, 0], [1, 1])[1]"
   ]
  },
  {
   "cell_type": "markdown",
   "metadata": {},
   "source": [
    "#### INTEGRAL TRIPLA NUMÉRICA \n",
    "\n",
    "$$\\int_{z_{min}}^{z_{max}} \\int_{y_{min}}^{y_{max}} \\int_{x_{min}}^{x_{max}} f(x,y,z)\\, dxdydzb$$\n",
    "\n",
    "Vamos utilizar o pacote Cubature. Sintaxe:\n",
    "```julia\n",
    "[valor_integral,erro]=hcubature(funcao,[xmin,ymin,zmin],[xmax,ymax,zmax],reltol=1e-8,abstol=0,maxevals=0)\n",
    "```\n",
    "* ** funcao**: função de uma variável\n",
    "* ** [xmin,ymin,zmin] e [xmax,ymax,zmax]**: intervalos de integração para x[1], x[2] e x[3]\n",
    "* ** reltol**:tolerância do erro relativo\n",
    "* ** abstol**:tolerância do erro absoluto\n",
    "* ** maxevals**:número máximo de avaliações da função\n",
    "\n",
    "A função utilizada pelo comando hcubature possui a seguinte sintaxe:\n",
    "```julia\n",
    "funcao = expressao_x[1]_x[2]_x[3]\n",
    "x[1] -> corresponde a variável \"x\"\n",
    "x[2] -> corresponde a variável \"y\" \n",
    "x[3] -> corresponde a variável \"z\"  e assim por diante\n",
    "```\n",
    "O resultado é uma tupla contendo o valor da integral e erro(quanto menor melhor a precisão do valor)."
   ]
  },
  {
   "cell_type": "code",
   "execution_count": 299,
   "metadata": {
    "collapsed": true
   },
   "outputs": [],
   "source": [
    "using Cubature"
   ]
  },
  {
   "cell_type": "code",
   "execution_count": 300,
   "metadata": {
    "collapsed": false,
    "scrolled": true
   },
   "outputs": [
    {
     "name": "stderr",
     "output_type": "stream",
     "text": [
      "WARNING: Method definition f_tn(Any) in module Main at In[130]:1 overwritten at In[300]:1.\n"
     ]
    },
    {
     "data": {
      "text/plain": [
       "f_tn (generic function with 1 method)"
      ]
     },
     "execution_count": 300,
     "metadata": {},
     "output_type": "execute_result"
    }
   ],
   "source": [
    "f_tn(x) = x[1]*x[2]*x[3] - x[1] + x[2] + x[3]"
   ]
  },
  {
   "cell_type": "code",
   "execution_count": 301,
   "metadata": {
    "collapsed": false
   },
   "outputs": [
    {
     "data": {
      "text/plain": [
       "(0.6249999999999999,1.1102230246251565e-16)"
      ]
     },
     "execution_count": 301,
     "metadata": {},
     "output_type": "execute_result"
    }
   ],
   "source": [
    "# valor e erro\n",
    "valor , erro = hcubature(f_tn, [0,0,0], [1,1,1]) "
   ]
  },
  {
   "cell_type": "code",
   "execution_count": 302,
   "metadata": {
    "collapsed": false
   },
   "outputs": [
    {
     "data": {
      "text/plain": [
       "0.6249999999999999"
      ]
     },
     "execution_count": 302,
     "metadata": {},
     "output_type": "execute_result"
    }
   ],
   "source": [
    "# somente valor \n",
    "valor"
   ]
  },
  {
   "cell_type": "code",
   "execution_count": 303,
   "metadata": {
    "collapsed": false
   },
   "outputs": [
    {
     "data": {
      "text/plain": [
       "0.6249999999999999"
      ]
     },
     "execution_count": 303,
     "metadata": {},
     "output_type": "execute_result"
    }
   ],
   "source": [
    "# Outra forma\n",
    "hcubature(f_tn, [0, 0, 0], [1, 1, 1])[1]"
   ]
  },
  {
   "cell_type": "markdown",
   "metadata": {
    "collapsed": true
   },
   "source": [
    "%%% Fim Calculo Diferencial e Integral %%%"
   ]
  },
  {
   "cell_type": "code",
   "execution_count": null,
   "metadata": {
    "collapsed": true
   },
   "outputs": [],
   "source": []
  }
 ],
 "metadata": {
  "anaconda-cloud": {},
  "kernelspec": {
   "display_name": "Julia 0.5.0",
   "language": "julia",
   "name": "julia-0.5"
  },
  "language_info": {
   "file_extension": ".jl",
   "mimetype": "application/julia",
   "name": "julia",
   "version": "0.5.0"
  }
 },
 "nbformat": 4,
 "nbformat_minor": 0
}
