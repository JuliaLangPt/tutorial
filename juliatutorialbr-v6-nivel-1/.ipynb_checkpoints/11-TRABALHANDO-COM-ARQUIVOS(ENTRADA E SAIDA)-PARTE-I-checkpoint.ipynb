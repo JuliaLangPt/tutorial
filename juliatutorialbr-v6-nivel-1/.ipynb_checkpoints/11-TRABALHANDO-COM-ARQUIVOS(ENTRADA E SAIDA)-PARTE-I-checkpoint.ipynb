{
 "cells": [
  {
   "cell_type": "markdown",
   "metadata": {},
   "source": [
    "# TRABALHANDO COM ARQUIVOS(ENTRADA E SAIDA) PARTE I"
   ]
  },
  {
   "cell_type": "markdown",
   "metadata": {},
   "source": [
    "## ARQUIVOS CSV \n",
    "\n",
    "A melhor forma de trabalhar com arquivos é salva-los no formato \"`CSV`\". ***Comma-separated values*** (ou `CSV`) é um formato de arquivo que armazena dados tabelados, cujo grande uso data da época dos mainframes. Por serem bastante simples, arquivos CSV são comuns em todas as plataformas de computador. \n",
    "    \n",
    "O `CSV` é um implementação particular de arquivos de texto separados por um delimitador, que usa a vírgula e a quebra de linha para separar os valores. O formato também usa as aspas em campos no qual são usados os caracteres reservados (vírgula e quebra de linha). Essa robustez no formato torna o `CSV` mais amplo que outros formatos digitais do mesmo segmento. Fonte: wikipedia. \n",
    "\n",
    "Forma geral de um arquivo `CSV` na forma de texto:\n",
    "```julia\n",
    "   nome_coluna_1, nome_coluna_2\n",
    "   dado_col_1   , dado_col_2\n",
    "   dado_col_1   , dado_col_2\n",
    "```\n",
    "Uma forma prática de criar arquivos `CSV` é usando uma planilha (excel, calc-libreoffice/openoffice) eletrônicab. Basta preencher os dados nas celulas e depois salvar como CSV."
   ]
  },
  {
   "cell_type": "markdown",
   "metadata": {},
   "source": [
    "### MANIPULAÇÃO DE ARQUIVOS CSV"
   ]
  },
  {
   "cell_type": "markdown",
   "metadata": {},
   "source": [
    "#### Criação de um arquivo CSV pelo editor de texto do JuPyter\n",
    "\n",
    "Na pagina principal do JuPyter, selecione `New -> Text File` conforme figura abaixo:\n",
    "\n",
    "<img src=\"Figuras/novo_arq_txt.png\" align=\"center\" width=\"700\">"
   ]
  },
  {
   "cell_type": "markdown",
   "metadata": {},
   "source": [
    "Digite os dados conforme figura abaixo:\n",
    "<img src=\"Figuras/arquivo_csv.png\" align=\"center\" width=\"400\">\n",
    "\n",
    "Julia salva o arquivo no formato `TXT` então basta clicar no  título e alterar o nome para `teste.csv`. Para importar os dados use a sintaxe:\n",
    "```julia\n",
    "var_dados = readcsv(\"nome_arquivo.csv\")\n",
    "```\n",
    "O comando `readcsv` ja faz a conversão para tipo Float64 e coloca os dados em uma estrutura do tipo `Array`. Caso o arquivo CSV tenha um cabeçalho que defina as colunas, ocorrerá erro quando for manipulá-lo, pois o cabeçalho é do tipo String e portanto deve ser removido. utilize:\n",
    "```julia\n",
    "var_dados = readcsv(\"nome_arquivo.csv\")[2:end,:] # Exclui a primeira linha da tabela\n",
    "```\n",
    "Dessa forma a primeira linha do arquivo contendo o cabeçalho será ignorada."
   ]
  },
  {
   "cell_type": "code",
   "execution_count": 149,
   "metadata": {
    "collapsed": false,
    "scrolled": true
   },
   "outputs": [
    {
     "data": {
      "text/plain": [
       "7×2 Array{Float64,2}:\n",
       " 0.0  0.0\n",
       " 1.0  1.5\n",
       " 2.0  1.7\n",
       " 3.0  1.8\n",
       " 4.0  1.0\n",
       " 5.0  1.6\n",
       " 6.0  1.8"
      ]
     },
     "execution_count": 149,
     "metadata": {},
     "output_type": "execute_result"
    }
   ],
   "source": [
    "tabela_dados = readcsv(\"teste.csv\")"
   ]
  },
  {
   "cell_type": "markdown",
   "metadata": {},
   "source": [
    "#### Manipulação dos dados em arquivo"
   ]
  },
  {
   "cell_type": "code",
   "execution_count": 150,
   "metadata": {
    "collapsed": false
   },
   "outputs": [
    {
     "data": {
      "text/plain": [
       "1.7"
      ]
     },
     "execution_count": 150,
     "metadata": {},
     "output_type": "execute_result"
    }
   ],
   "source": [
    "# listar o elemento da terceira linha e segunda coluna\n",
    "tabela_dados[3,2]"
   ]
  },
  {
   "cell_type": "code",
   "execution_count": 151,
   "metadata": {
    "collapsed": false,
    "scrolled": false
   },
   "outputs": [
    {
     "data": {
      "text/plain": [
       "7-element Array{Float64,1}:\n",
       "   0.0\n",
       " 150.0\n",
       " 170.0\n",
       " 180.0\n",
       " 100.0\n",
       " 160.0\n",
       " 180.0"
      ]
     },
     "execution_count": 151,
     "metadata": {},
     "output_type": "execute_result"
    }
   ],
   "source": [
    "# multiplicar todos os elementos da segunda linha por 100\n",
    "tabela_dados[:,2]*100"
   ]
  },
  {
   "cell_type": "code",
   "execution_count": 152,
   "metadata": {
    "collapsed": false
   },
   "outputs": [
    {
     "data": {
      "text/html": [
       "<img src=\"data:image/png;base64,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\" />"
      ]
     },
     "execution_count": 152,
     "metadata": {},
     "output_type": "execute_result"
    }
   ],
   "source": [
    "# gráfico dos dados\n",
    "using Plots\n",
    "pyplot()\n",
    "\n",
    "scatter(tabela_dados[:, 1], tabela_dados[:, 2], label = \"pontos\")"
   ]
  },
  {
   "cell_type": "markdown",
   "metadata": {},
   "source": [
    "#### CRIAÇÃO DE UMA ARQUIVO CSV PARTIR DE UMA MATRIZ OU VETOR\n",
    "\n",
    "Para salvar os dados em um arquivo `CSV` use o comando:\n",
    "```julia\n",
    "writecsv(\"nome_arquivo.csv\", dados)\n",
    "```\n"
   ]
  },
  {
   "cell_type": "code",
   "execution_count": 153,
   "metadata": {
    "collapsed": false,
    "scrolled": true
   },
   "outputs": [
    {
     "name": "stderr",
     "output_type": "stream",
     "text": [
      "WARNING: Method definition f(Any, Any) in module Main at In[55]:2 overwritten at In[153]:2.\n"
     ]
    },
    {
     "data": {
      "text/plain": [
       "5×5 Array{Float64,2}:\n",
       " 0.353197   0.519924  0.212848  0.903914   0.482717 \n",
       " 0.141792   0.980609  0.425655  0.556317   0.656263 \n",
       " 0.955672   0.482057  0.342568  0.361308   0.0794265\n",
       " 0.0948206  0.45463   0.251457  0.259361   0.0144769\n",
       " 0.949777   0.79217   0.353393  0.0315384  0.695987 "
      ]
     },
     "execution_count": 153,
     "metadata": {},
     "output_type": "execute_result"
    }
   ],
   "source": [
    "# criar duas matrizes do tipo float\n",
    "f(x, y) = x + x*y + y\n",
    "\n",
    "matriz_dados_1 = [ f(x , y) for x = 1:5, y = 1:5];   # matriz definida por uma LC\n",
    "\n",
    "matriz_dados_2 = rand(5, 5);                        # matriz de números tipo float entre 0 e 1"
   ]
  },
  {
   "cell_type": "code",
   "execution_count": 56,
   "metadata": {
    "collapsed": true
   },
   "outputs": [],
   "source": [
    "# escrever em arquivo\n",
    "writecsv(\"matriz_dados_1.csv\", matriz_dados_1)\n",
    "writecsv(\"matriz_dados_2.csv\", matriz_dados_2)"
   ]
  },
  {
   "cell_type": "code",
   "execution_count": 57,
   "metadata": {
    "collapsed": false,
    "scrolled": true
   },
   "outputs": [
    {
     "data": {
      "text/plain": [
       "5×5 Array{Float64,2}:\n",
       "  3.0   5.0   7.0   9.0  11.0\n",
       "  5.0   8.0  11.0  14.0  17.0\n",
       "  7.0  11.0  15.0  19.0  23.0\n",
       "  9.0  14.0  19.0  24.0  29.0\n",
       " 11.0  17.0  23.0  29.0  35.0"
      ]
     },
     "execution_count": 57,
     "metadata": {},
     "output_type": "execute_result"
    }
   ],
   "source": [
    "# ler os dados gravados em arquivo\n",
    "readcsv(\"matriz_dados_1.csv\")"
   ]
  },
  {
   "cell_type": "markdown",
   "metadata": {},
   "source": [
    "#### Concatenação e Arquivos CSV\n",
    "\n",
    "É importante que as dimensões sejam compatíveis, ou seja, se for concatenação horizontal o numero de linhas deve ser igual, se for concatenação vertical então será o número de colunas. Sintaxe:\n",
    "\n",
    "Horizontal (número de linhas iguais):\n",
    "\n",
    "```julia\n",
    "writecsv(\"novo_arquivo.csv\", [readcsv(\"nome_arquivo1.csv\")  readcsv(\"nome_arquivo2.csv\")])\n",
    "ou\n",
    "writecsv(\"novo_arquivo.csv\", hcat(readcsv(\"matriz_dados_1.csv\") , readcsv(\"matriz_dados_2.csv\")))\n",
    "```\n",
    "Vertical (número de colunas iguais):\n",
    "```julia\n",
    "writecsv(\"novo_arquivo.csv\", [readcsv(\"nome_arquivo1.csv\") ; readcsv(\"nome_arquivo2.csv\")])\n",
    "ou:\n",
    "writecsv(\"novo_arquivo.csv\", vcat(readcsv(\"matriz_dados_1.csv\") , readcsv(\"matriz_dados_2.csv\")))\n",
    "```"
   ]
  },
  {
   "cell_type": "code",
   "execution_count": 58,
   "metadata": {
    "collapsed": false
   },
   "outputs": [],
   "source": [
    "# concatenação Horizontal\n",
    "writecsv(\"matriz_dados_conc_hor.csv\", [readcsv(\"matriz_dados_1.csv\")  readcsv(\"matriz_dados_2.csv\")])"
   ]
  },
  {
   "cell_type": "code",
   "execution_count": 59,
   "metadata": {
    "collapsed": false
   },
   "outputs": [
    {
     "data": {
      "text/plain": [
       "5×10 Array{Float64,2}:\n",
       "  3.0   5.0   7.0   9.0  11.0  0.211847  …  0.764431  0.901615  0.0043205\n",
       "  5.0   8.0  11.0  14.0  17.0  0.998738     0.84468   0.583447  0.755214 \n",
       "  7.0  11.0  15.0  19.0  23.0  0.211109     0.915907  0.745366  0.584888 \n",
       "  9.0  14.0  19.0  24.0  29.0  0.642605     0.844404  0.752329  0.473151 \n",
       " 11.0  17.0  23.0  29.0  35.0  0.963542     0.471985  0.76312   0.536936 "
      ]
     },
     "execution_count": 59,
     "metadata": {},
     "output_type": "execute_result"
    }
   ],
   "source": [
    "readcsv(\"matriz_dados_conc_hor.csv\")"
   ]
  },
  {
   "cell_type": "code",
   "execution_count": 60,
   "metadata": {
    "collapsed": true
   },
   "outputs": [],
   "source": [
    "# concatenação vertical\n",
    "writecsv(\"matriz_dados_conc_vert.csv\", [readcsv(\"matriz_dados_1.csv\"); readcsv(\"matriz_dados_2.csv\")])"
   ]
  },
  {
   "cell_type": "code",
   "execution_count": 61,
   "metadata": {
    "collapsed": false,
    "scrolled": false
   },
   "outputs": [
    {
     "data": {
      "text/plain": [
       "10×5 Array{Float64,2}:\n",
       "  3.0        5.0        7.0        9.0       11.0      \n",
       "  5.0        8.0       11.0       14.0       17.0      \n",
       "  7.0       11.0       15.0       19.0       23.0      \n",
       "  9.0       14.0       19.0       24.0       29.0      \n",
       " 11.0       17.0       23.0       29.0       35.0      \n",
       "  0.211847   0.162351   0.764431   0.901615   0.0043205\n",
       "  0.998738   0.806285   0.84468    0.583447   0.755214 \n",
       "  0.211109   0.748352   0.915907   0.745366   0.584888 \n",
       "  0.642605   0.844732   0.844404   0.752329   0.473151 \n",
       "  0.963542   0.717597   0.471985   0.76312    0.536936 "
      ]
     },
     "execution_count": 61,
     "metadata": {},
     "output_type": "execute_result"
    }
   ],
   "source": [
    "# ler resultado\n",
    "readcsv(\"matriz_dados_conc_vert.csv\")"
   ]
  },
  {
   "cell_type": "markdown",
   "metadata": {},
   "source": [
    "## DATA FRAMES \n",
    "\n",
    "Os dataframes são objetos usados para guardar dados na forma de tabelas. Um data frame possui colunas nomeadas, sendo que todas as colunas possuem a mesma quantidade de linhas. DataFrame é a melhor forma de guardar informações pois além de manter uma boa formatação dos dados, ainda permite que seja gravado em arquivos do tipo CSV, que podem ser abertos e manipulados em softwares de planilha tipo excel ou calc."
   ]
  },
  {
   "cell_type": "markdown",
   "metadata": {},
   "source": [
    "### CRIAR E MANIPULAR DATAFRAMES"
   ]
  },
  {
   "cell_type": "markdown",
   "metadata": {},
   "source": [
    "#### CRIAR DATAFRAMES \n",
    "\n",
    "Para criar um dataframe use a sintaxe:\n",
    "```julia\n",
    "Nome_dataFrame(nome_coluna_1 = [dado1_col_1, dado2_col_1], nome_coluna_2 = [dado1_col_2, dado2_col_2])\n",
    "\n",
    "ou\n",
    "nome_dataframe = DataFrame()\n",
    "nome_dataframe[:nome_coluna_1] = [dado1_col_1, dado2_col_1]\n",
    "nome_dataframe[:nome_coluna_2] = [dado1_col_2, dado2_col_2]\n",
    "\n",
    "ou\n",
    "nome_dataframe = DataFrame(  \n",
    "                 nome_coluna_1 =  @data([dado1_col_1, dado2_col_1]),\n",
    "                 nome_coluna_2 =  @data([dado1_col_2, dado2_col_2]),              \n",
    ")\n",
    "```\n",
    "**OBS** : Nomes das colunas não podem ter espaço\n",
    "\n",
    "É possível criar um dataframe a partir de uma matriz através do comando:\n",
    "```julia\n",
    "convert(DataFrame, matriz)\n",
    "```"
   ]
  },
  {
   "cell_type": "code",
   "execution_count": 62,
   "metadata": {
    "collapsed": true
   },
   "outputs": [],
   "source": [
    "using DataFrames"
   ]
  },
  {
   "cell_type": "code",
   "execution_count": 63,
   "metadata": {
    "collapsed": false
   },
   "outputs": [
    {
     "data": {
      "text/html": [
       "<table class=\"data-frame\"><tr><th></th><th>Nome_do_software</th><th>Ano</th></tr><tr><th>1</th><td>scilab</td><td>2005</td></tr><tr><th>2</th><td>julia</td><td>2012</td></tr></table>"
      ],
      "text/plain": [
       "2×2 DataFrames.DataFrame\n",
       "│ Row │ Nome_do_software │ Ano  │\n",
       "├─────┼──────────────────┼──────┤\n",
       "│ 1   │ \"scilab\"         │ 2005 │\n",
       "│ 2   │ \"julia\"          │ 2012 │"
      ]
     },
     "execution_count": 63,
     "metadata": {},
     "output_type": "execute_result"
    }
   ],
   "source": [
    "# criar o dataframe.\n",
    "# Nomes das colunas não podem ter espaço\n",
    "\n",
    "dados = DataFrame(Nome_do_software = [\"scilab\",\"julia\"], Ano = [2005, 2012])\n",
    "dados"
   ]
  },
  {
   "cell_type": "markdown",
   "metadata": {},
   "source": [
    "Ou assim:"
   ]
  },
  {
   "cell_type": "code",
   "execution_count": 64,
   "metadata": {
    "collapsed": false,
    "scrolled": false
   },
   "outputs": [
    {
     "data": {
      "text/html": [
       "<table class=\"data-frame\"><tr><th></th><th>Nome_do_sofware</th><th>Ano</th></tr><tr><th>1</th><td>scilab</td><td>2005</td></tr><tr><th>2</th><td>julia</td><td>2012</td></tr></table>"
      ],
      "text/plain": [
       "2×2 DataFrames.DataFrame\n",
       "│ Row │ Nome_do_sofware │ Ano  │\n",
       "├─────┼─────────────────┼──────┤\n",
       "│ 1   │ \"scilab\"        │ 2005 │\n",
       "│ 2   │ \"julia\"         │ 2012 │"
      ]
     },
     "execution_count": 64,
     "metadata": {},
     "output_type": "execute_result"
    }
   ],
   "source": [
    "# Nomes das colunas não podem ter espaço\n",
    "\n",
    "dados = DataFrame()\n",
    "\n",
    "dados[:Nome_do_sofware] = [\"scilab\",\"julia\"]\n",
    "dados[:Ano]             = [2005, 2012]\n",
    "dados"
   ]
  },
  {
   "cell_type": "markdown",
   "metadata": {},
   "source": [
    "Ou ainda:"
   ]
  },
  {
   "cell_type": "code",
   "execution_count": 65,
   "metadata": {
    "collapsed": false
   },
   "outputs": [
    {
     "data": {
      "text/html": [
       "<table class=\"data-frame\"><tr><th></th><th>Nome_do_sofware</th><th>Ano</th></tr><tr><th>1</th><td>scilab</td><td>2005</td></tr><tr><th>2</th><td>julia</td><td>2012</td></tr></table>"
      ],
      "text/plain": [
       "2×2 DataFrames.DataFrame\n",
       "│ Row │ Nome_do_sofware │ Ano  │\n",
       "├─────┼─────────────────┼──────┤\n",
       "│ 1   │ \"scilab\"        │ 2005 │\n",
       "│ 2   │ \"julia\"         │ 2012 │"
      ]
     },
     "execution_count": 65,
     "metadata": {},
     "output_type": "execute_result"
    }
   ],
   "source": [
    "# Nomes das colunas não podem ter espaço\n",
    "\n",
    "dados = DataFrame(  \n",
    "        Nome_do_sofware =  @data([\"scilab\",\"julia\"]),\n",
    "        Ano             =  @data([2005, 2012]))"
   ]
  },
  {
   "cell_type": "code",
   "execution_count": 66,
   "metadata": {
    "collapsed": false
   },
   "outputs": [],
   "source": [
    "# salvar no arquivo \n",
    "writetable(\"dataframe.csv\", dados)"
   ]
  },
  {
   "cell_type": "code",
   "execution_count": 67,
   "metadata": {
    "collapsed": false,
    "scrolled": false
   },
   "outputs": [
    {
     "data": {
      "text/html": [
       "<table class=\"data-frame\"><tr><th></th><th>Nome_do_sofware</th><th>Ano</th></tr><tr><th>1</th><td>scilab</td><td>2005</td></tr><tr><th>2</th><td>julia</td><td>2012</td></tr></table>"
      ],
      "text/plain": [
       "2×2 DataFrames.DataFrame\n",
       "│ Row │ Nome_do_sofware │ Ano  │\n",
       "├─────┼─────────────────┼──────┤\n",
       "│ 1   │ \"scilab\"        │ 2005 │\n",
       "│ 2   │ \"julia\"         │ 2012 │"
      ]
     },
     "execution_count": 67,
     "metadata": {},
     "output_type": "execute_result"
    }
   ],
   "source": [
    "# exibindo o arquivo e o conteúdo \n",
    "readtable(\"dataframe.csv\")"
   ]
  },
  {
   "cell_type": "markdown",
   "metadata": {},
   "source": [
    "Outro exemplo"
   ]
  },
  {
   "cell_type": "code",
   "execution_count": 68,
   "metadata": {
    "collapsed": false,
    "scrolled": true
   },
   "outputs": [
    {
     "data": {
      "text/html": [
       "<table class=\"data-frame\"><tr><th></th><th>Nome_do_software</th><th>Ano_de_lancamento</th><th>Site</th></tr><tr><th>1</th><td>Julia</td><td>2012</td><td>julialang.org</td></tr><tr><th>2</th><td>SageMath</td><td>2005</td><td>sagemath.org</td></tr><tr><th>3</th><td>Maxima</td><td>1980</td><td>maxima.org</td></tr><tr><th>4</th><td>Octave</td><td>2000</td><td>gnu.org/octave</td></tr><tr><th>5</th><td>Maxima</td><td>1980</td><td>maxima.org</td></tr></table>"
      ],
      "text/plain": [
       "5×3 DataFrames.DataFrame\n",
       "│ Row │ Nome_do_software │ Ano_de_lancamento │ Site             │\n",
       "├─────┼──────────────────┼───────────────────┼──────────────────┤\n",
       "│ 1   │ \"Julia\"          │ 2012              │ \"julialang.org\"  │\n",
       "│ 2   │ \"SageMath\"       │ 2005              │ \"sagemath.org\"   │\n",
       "│ 3   │ \"Maxima\"         │ 1980              │ \"maxima.org\"     │\n",
       "│ 4   │ \"Octave\"         │ 2000              │ \"gnu.org/octave\" │\n",
       "│ 5   │ \"Maxima\"         │ 1980              │ \"maxima.org\"     │"
      ]
     },
     "execution_count": 68,
     "metadata": {},
     "output_type": "execute_result"
    }
   ],
   "source": [
    "# Nomes das colunas não podem ter espaço\n",
    "\n",
    "Softwares = DataFrame()\n",
    "\n",
    "Softwares[:Nome_do_software]  = [\"Julia\", \"SageMath\", \"Maxima\", \"Octave\",\"Maxima\"]\n",
    "Softwares[:Ano_de_lancamento] = [2012, 2005, 1980, 2000, 1980]\n",
    "Softwares[:Site]              = [\"julialang.org\",\"sagemath.org\",\"maxima.org\",\"gnu.org/octave\", \"maxima.org\"]\n",
    "\n",
    "Softwares"
   ]
  },
  {
   "cell_type": "code",
   "execution_count": 69,
   "metadata": {
    "collapsed": false
   },
   "outputs": [
    {
     "data": {
      "text/plain": [
       "3-element Array{Symbol,1}:\n",
       " :Nome_do_software \n",
       " :Ano_de_lancamento\n",
       " :Site             "
      ]
     },
     "execution_count": 69,
     "metadata": {},
     "output_type": "execute_result"
    }
   ],
   "source": [
    "# Visualizar cabeçalho das colunas\n",
    "names(Softwares) "
   ]
  },
  {
   "cell_type": "code",
   "execution_count": 70,
   "metadata": {
    "collapsed": false,
    "scrolled": true
   },
   "outputs": [
    {
     "data": {
      "text/plain": [
       "3-element Array{Type,1}:\n",
       " String\n",
       " Int64 \n",
       " String"
      ]
     },
     "execution_count": 70,
     "metadata": {},
     "output_type": "execute_result"
    }
   ],
   "source": [
    "# saber os tipos dos elementos do dataframe. Aqui temos String (primeira coluna) e tipo Inteiro (segunda coluna)\n",
    "eltypes(Softwares)"
   ]
  },
  {
   "cell_type": "code",
   "execution_count": 71,
   "metadata": {
    "collapsed": true
   },
   "outputs": [],
   "source": [
    "# salvar no arquivo \n",
    "writetable(\"softwares_dataframe.csv\", Softwares)"
   ]
  },
  {
   "cell_type": "markdown",
   "metadata": {},
   "source": [
    "#### MANIPULAR COLUNAS, LINHAS E CONCATENAR DATAFRAMES"
   ]
  },
  {
   "cell_type": "code",
   "execution_count": 72,
   "metadata": {
    "collapsed": false
   },
   "outputs": [],
   "source": [
    "using DataFrames"
   ]
  },
  {
   "cell_type": "markdown",
   "metadata": {},
   "source": [
    "** Para adicionar uma nova coluna de dados ao DataFrame use:**\n",
    "```julia\n",
    "DataFrame[:nova_coluna] = [vetor_dados]\n",
    "```"
   ]
  },
  {
   "cell_type": "code",
   "execution_count": 73,
   "metadata": {
    "collapsed": false,
    "scrolled": true
   },
   "outputs": [
    {
     "data": {
      "text/html": [
       "<table class=\"data-frame\"><tr><th></th><th>Nome_do_sofware</th><th>Ano</th></tr><tr><th>1</th><td>scilab</td><td>2005</td></tr><tr><th>2</th><td>julia</td><td>2012</td></tr></table>"
      ],
      "text/plain": [
       "2×2 DataFrames.DataFrame\n",
       "│ Row │ Nome_do_sofware │ Ano  │\n",
       "├─────┼─────────────────┼──────┤\n",
       "│ 1   │ \"scilab\"        │ 2005 │\n",
       "│ 2   │ \"julia\"         │ 2012 │"
      ]
     },
     "execution_count": 73,
     "metadata": {},
     "output_type": "execute_result"
    }
   ],
   "source": [
    "# Copia dataframe \"dados\" gravado em arquivo\n",
    "dados1 = readtable(\"dataframe.csv\")"
   ]
  },
  {
   "cell_type": "code",
   "execution_count": 74,
   "metadata": {
    "collapsed": false,
    "scrolled": true
   },
   "outputs": [
    {
     "data": {
      "text/plain": [
       "2-element Array{String,1}:\n",
       " \"Sim\"\n",
       " \"Sim\""
      ]
     },
     "execution_count": 74,
     "metadata": {},
     "output_type": "execute_result"
    }
   ],
   "source": [
    "# Adicionar uma nova coluna de dados\n",
    "dados1[:Gostei] = [\"Sim\", \"Sim\"]"
   ]
  },
  {
   "cell_type": "code",
   "execution_count": 75,
   "metadata": {
    "collapsed": false,
    "scrolled": false
   },
   "outputs": [
    {
     "data": {
      "text/html": [
       "<table class=\"data-frame\"><tr><th></th><th>Nome_do_sofware</th><th>Ano</th><th>Gostei</th></tr><tr><th>1</th><td>scilab</td><td>2005</td><td>Sim</td></tr><tr><th>2</th><td>julia</td><td>2012</td><td>Sim</td></tr></table>"
      ],
      "text/plain": [
       "2×3 DataFrames.DataFrame\n",
       "│ Row │ Nome_do_sofware │ Ano  │ Gostei │\n",
       "├─────┼─────────────────┼──────┼────────┤\n",
       "│ 1   │ \"scilab\"        │ 2005 │ \"Sim\"  │\n",
       "│ 2   │ \"julia\"         │ 2012 │ \"Sim\"  │"
      ]
     },
     "execution_count": 75,
     "metadata": {},
     "output_type": "execute_result"
    }
   ],
   "source": [
    "dados1"
   ]
  },
  {
   "cell_type": "markdown",
   "metadata": {},
   "source": [
    "** Para deletar uma coluna use:**\n",
    "```julia\n",
    "delete!(Dataframe, :nome_coluna)\n",
    "```"
   ]
  },
  {
   "cell_type": "code",
   "execution_count": 76,
   "metadata": {
    "collapsed": false,
    "scrolled": true
   },
   "outputs": [
    {
     "data": {
      "text/html": [
       "<table class=\"data-frame\"><tr><th></th><th>Nome_do_sofware</th><th>Ano</th></tr><tr><th>1</th><td>scilab</td><td>2005</td></tr><tr><th>2</th><td>julia</td><td>2012</td></tr></table>"
      ],
      "text/plain": [
       "2×2 DataFrames.DataFrame\n",
       "│ Row │ Nome_do_sofware │ Ano  │\n",
       "├─────┼─────────────────┼──────┤\n",
       "│ 1   │ \"scilab\"        │ 2005 │\n",
       "│ 2   │ \"julia\"         │ 2012 │"
      ]
     },
     "execution_count": 76,
     "metadata": {},
     "output_type": "execute_result"
    }
   ],
   "source": [
    "delete!(dados1, :Gostei)"
   ]
  },
  {
   "cell_type": "markdown",
   "metadata": {},
   "source": [
    "** Para alterar nome de uma coluna use:**\n",
    "```julia\n",
    "rename(Dataframe,:nome_coluna,:novo_nome_coluna) # apenas uma coluna\n",
    "names!(Dataframe, [:novo_nome_coluna_1, :novo_nome_coluna_2]) # todas as colunas\n",
    "```"
   ]
  },
  {
   "cell_type": "code",
   "execution_count": 77,
   "metadata": {
    "collapsed": false,
    "scrolled": true
   },
   "outputs": [
    {
     "data": {
      "text/html": [
       "<table class=\"data-frame\"><tr><th></th><th>Nome_do_sofware</th><th>Ano</th></tr><tr><th>1</th><td>scilab</td><td>2005</td></tr><tr><th>2</th><td>julia</td><td>2012</td></tr></table>"
      ],
      "text/plain": [
       "2×2 DataFrames.DataFrame\n",
       "│ Row │ Nome_do_sofware │ Ano  │\n",
       "├─────┼─────────────────┼──────┤\n",
       "│ 1   │ \"scilab\"        │ 2005 │\n",
       "│ 2   │ \"julia\"         │ 2012 │"
      ]
     },
     "execution_count": 77,
     "metadata": {},
     "output_type": "execute_result"
    }
   ],
   "source": [
    "# Copia dataframe \"dados\" gravado em arquivo\n",
    "dados2 = readtable(\"dataframe.csv\")"
   ]
  },
  {
   "cell_type": "code",
   "execution_count": 78,
   "metadata": {
    "collapsed": false,
    "scrolled": false
   },
   "outputs": [
    {
     "data": {
      "text/html": [
       "<table class=\"data-frame\"><tr><th></th><th>Nome_programa</th><th>Ano</th></tr><tr><th>1</th><td>scilab</td><td>2005</td></tr><tr><th>2</th><td>julia</td><td>2012</td></tr></table>"
      ],
      "text/plain": [
       "2×2 DataFrames.DataFrame\n",
       "│ Row │ Nome_programa │ Ano  │\n",
       "├─────┼───────────────┼──────┤\n",
       "│ 1   │ \"scilab\"      │ 2005 │\n",
       "│ 2   │ \"julia\"       │ 2012 │"
      ]
     },
     "execution_count": 78,
     "metadata": {},
     "output_type": "execute_result"
    }
   ],
   "source": [
    "# Alterar o nome da coluna 1 \"Nome_do_sofware\" para \"Nome_do_programa\"\n",
    "rename(dados2, :Nome_do_sofware,:Nome_programa)"
   ]
  },
  {
   "cell_type": "markdown",
   "metadata": {},
   "source": [
    "** Para concatenar Dataframes na horizontal use:**\n",
    "```julia\n",
    "[Dataframe_1  Dataframe_2] ou\n",
    "hcat(Dataframe_1 , Dataframe_2)\n",
    "```"
   ]
  },
  {
   "cell_type": "code",
   "execution_count": 79,
   "metadata": {
    "collapsed": false
   },
   "outputs": [
    {
     "data": {
      "text/html": [
       "<table class=\"data-frame\"><tr><th></th><th>Nome_do_sofware</th><th>Ano</th></tr><tr><th>1</th><td>scilab</td><td>2005</td></tr><tr><th>2</th><td>julia</td><td>2012</td></tr></table>"
      ],
      "text/plain": [
       "2×2 DataFrames.DataFrame\n",
       "│ Row │ Nome_do_sofware │ Ano  │\n",
       "├─────┼─────────────────┼──────┤\n",
       "│ 1   │ \"scilab\"        │ 2005 │\n",
       "│ 2   │ \"julia\"         │ 2012 │"
      ]
     },
     "execution_count": 79,
     "metadata": {},
     "output_type": "execute_result"
    }
   ],
   "source": [
    "# Copia dataframe \"dados\" gravado em arquivo\n",
    "dados3 = readtable(\"dataframe.csv\")"
   ]
  },
  {
   "cell_type": "code",
   "execution_count": 80,
   "metadata": {
    "collapsed": false,
    "scrolled": true
   },
   "outputs": [
    {
     "data": {
      "text/html": [
       "<table class=\"data-frame\"><tr><th></th><th>Nome_do_sofware</th><th>Ano</th></tr><tr><th>1</th><td>scilab</td><td>2005</td></tr><tr><th>2</th><td>axiom</td><td>1980</td></tr></table>"
      ],
      "text/plain": [
       "2×2 DataFrames.DataFrame\n",
       "│ Row │ Nome_do_sofware │ Ano  │\n",
       "├─────┼─────────────────┼──────┤\n",
       "│ 1   │ \"scilab\"        │ 2005 │\n",
       "│ 2   │ \"axiom\"         │ 1980 │"
      ]
     },
     "execution_count": 80,
     "metadata": {},
     "output_type": "execute_result"
    }
   ],
   "source": [
    "# Novo Dataframe \n",
    "\n",
    "dados_novos = DataFrame()\n",
    "\n",
    "dados_novos[:Nome_do_sofware] = [\"scilab\",\"axiom\"]\n",
    "dados_novos[:Ano]             = [2005,1980]\n",
    "\n",
    "dados_novos"
   ]
  },
  {
   "cell_type": "code",
   "execution_count": 81,
   "metadata": {
    "collapsed": false,
    "scrolled": true
   },
   "outputs": [
    {
     "data": {
      "text/html": [
       "<table class=\"data-frame\"><tr><th></th><th>Nome_do_sofware</th><th>Ano</th><th>Nome_do_sofware_1</th><th>Ano_1</th></tr><tr><th>1</th><td>scilab</td><td>2005</td><td>scilab</td><td>2005</td></tr><tr><th>2</th><td>julia</td><td>2012</td><td>axiom</td><td>1980</td></tr></table>"
      ],
      "text/plain": [
       "2×4 DataFrames.DataFrame\n",
       "│ Row │ Nome_do_sofware │ Ano  │ Nome_do_sofware_1 │ Ano_1 │\n",
       "├─────┼─────────────────┼──────┼───────────────────┼───────┤\n",
       "│ 1   │ \"scilab\"        │ 2005 │ \"scilab\"          │ 2005  │\n",
       "│ 2   │ \"julia\"         │ 2012 │ \"axiom\"           │ 1980  │"
      ]
     },
     "execution_count": 81,
     "metadata": {},
     "output_type": "execute_result"
    }
   ],
   "source": [
    "# Concatenar na horizontal\n",
    "dados5 = [dados3 dados_novos]"
   ]
  },
  {
   "cell_type": "markdown",
   "metadata": {},
   "source": [
    "Ou "
   ]
  },
  {
   "cell_type": "code",
   "execution_count": 82,
   "metadata": {
    "collapsed": false,
    "scrolled": false
   },
   "outputs": [
    {
     "data": {
      "text/html": [
       "<table class=\"data-frame\"><tr><th></th><th>Nome_do_sofware</th><th>Ano</th><th>Nome_do_sofware_1</th><th>Ano_1</th></tr><tr><th>1</th><td>scilab</td><td>2005</td><td>scilab</td><td>2005</td></tr><tr><th>2</th><td>julia</td><td>2012</td><td>axiom</td><td>1980</td></tr></table>"
      ],
      "text/plain": [
       "2×4 DataFrames.DataFrame\n",
       "│ Row │ Nome_do_sofware │ Ano  │ Nome_do_sofware_1 │ Ano_1 │\n",
       "├─────┼─────────────────┼──────┼───────────────────┼───────┤\n",
       "│ 1   │ \"scilab\"        │ 2005 │ \"scilab\"          │ 2005  │\n",
       "│ 2   │ \"julia\"         │ 2012 │ \"axiom\"           │ 1980  │"
      ]
     },
     "execution_count": 82,
     "metadata": {},
     "output_type": "execute_result"
    }
   ],
   "source": [
    "dados5 =  hcat(dados3 , dados_novos)"
   ]
  },
  {
   "cell_type": "markdown",
   "metadata": {},
   "source": [
    "** Para concatenar Dataframes na vertical use:**\n",
    "```julia\n",
    "[Dataframe_1 ; Dataframe_2] ou\n",
    "vcat(Dataframe_1 , Dataframe_2)\n",
    "```"
   ]
  },
  {
   "cell_type": "code",
   "execution_count": 83,
   "metadata": {
    "collapsed": false,
    "scrolled": true
   },
   "outputs": [
    {
     "data": {
      "text/html": [
       "<table class=\"data-frame\"><tr><th></th><th>Nome_do_sofware</th><th>Ano</th></tr><tr><th>1</th><td>scilab</td><td>2005</td></tr><tr><th>2</th><td>julia</td><td>2012</td></tr><tr><th>3</th><td>scilab</td><td>2005</td></tr><tr><th>4</th><td>axiom</td><td>1980</td></tr></table>"
      ],
      "text/plain": [
       "4×2 DataFrames.DataFrame\n",
       "│ Row │ Nome_do_sofware │ Ano  │\n",
       "├─────┼─────────────────┼──────┤\n",
       "│ 1   │ \"scilab\"        │ 2005 │\n",
       "│ 2   │ \"julia\"         │ 2012 │\n",
       "│ 3   │ \"scilab\"        │ 2005 │\n",
       "│ 4   │ \"axiom\"         │ 1980 │"
      ]
     },
     "execution_count": 83,
     "metadata": {},
     "output_type": "execute_result"
    }
   ],
   "source": [
    "# Concatenar na vertical\n",
    "dados4 = [dados3; dados_novos]"
   ]
  },
  {
   "cell_type": "markdown",
   "metadata": {},
   "source": [
    "Ou"
   ]
  },
  {
   "cell_type": "code",
   "execution_count": 84,
   "metadata": {
    "collapsed": false
   },
   "outputs": [
    {
     "data": {
      "text/html": [
       "<table class=\"data-frame\"><tr><th></th><th>Nome_do_sofware</th><th>Ano</th></tr><tr><th>1</th><td>scilab</td><td>2005</td></tr><tr><th>2</th><td>julia</td><td>2012</td></tr><tr><th>3</th><td>scilab</td><td>2005</td></tr><tr><th>4</th><td>axiom</td><td>1980</td></tr></table>"
      ],
      "text/plain": [
       "4×2 DataFrames.DataFrame\n",
       "│ Row │ Nome_do_sofware │ Ano  │\n",
       "├─────┼─────────────────┼──────┤\n",
       "│ 1   │ \"scilab\"        │ 2005 │\n",
       "│ 2   │ \"julia\"         │ 2012 │\n",
       "│ 3   │ \"scilab\"        │ 2005 │\n",
       "│ 4   │ \"axiom\"         │ 1980 │"
      ]
     },
     "execution_count": 84,
     "metadata": {},
     "output_type": "execute_result"
    }
   ],
   "source": [
    "dados4 =  vcat(dados3 , dados_novos)"
   ]
  },
  {
   "cell_type": "markdown",
   "metadata": {},
   "source": [
    "Se os Dataframes tiverem somente uma coluna com nome em comum e mesmo tamanho pode ser usado a forma:\n",
    "```julia\n",
    "join(Dataframe_1,Dataframe_2, on = :nome_coluna_comum)\n",
    "```"
   ]
  },
  {
   "cell_type": "markdown",
   "metadata": {},
   "source": [
    "** Para deletar linhas e linhas com dados repetidos use:**\n",
    "```julia\n",
    "deleterows!(DataFrame, [linha_1,linha_2,...]) # apaga as linhas e modifica o Dataframe(CUIDADO!)\n",
    "deleterows!(DataFrame, linha_1:linha_x)       # apaga as linhas e modifica o Dataframe(CUIDADO!)\n",
    "\n",
    "unique(DataFrame)  # apaga a linha repetida \n",
    "unique!(DataFrame) # apaga a linha repetida e modifica o Dataframe(CUIDADO!)\n",
    "```\n",
    "Sendo x um número inteiro que representa a coluna ou elemento."
   ]
  },
  {
   "cell_type": "code",
   "execution_count": 85,
   "metadata": {
    "collapsed": false,
    "scrolled": true
   },
   "outputs": [
    {
     "data": {
      "text/html": [
       "<table class=\"data-frame\"><tr><th></th><th>Nome_do_sofware</th><th>Ano</th></tr><tr><th>1</th><td>scilab</td><td>2005</td></tr><tr><th>2</th><td>julia</td><td>2012</td></tr><tr><th>3</th><td>scilab</td><td>2005</td></tr><tr><th>4</th><td>axiom</td><td>1980</td></tr></table>"
      ],
      "text/plain": [
       "4×2 DataFrames.DataFrame\n",
       "│ Row │ Nome_do_sofware │ Ano  │\n",
       "├─────┼─────────────────┼──────┤\n",
       "│ 1   │ \"scilab\"        │ 2005 │\n",
       "│ 2   │ \"julia\"         │ 2012 │\n",
       "│ 3   │ \"scilab\"        │ 2005 │\n",
       "│ 4   │ \"axiom\"         │ 1980 │"
      ]
     },
     "execution_count": 85,
     "metadata": {},
     "output_type": "execute_result"
    }
   ],
   "source": [
    "dados4"
   ]
  },
  {
   "cell_type": "code",
   "execution_count": 86,
   "metadata": {
    "collapsed": false
   },
   "outputs": [
    {
     "data": {
      "text/html": [
       "<table class=\"data-frame\"><tr><th></th><th>Nome_do_sofware</th><th>Ano</th></tr><tr><th>1</th><td>scilab</td><td>2005</td></tr><tr><th>2</th><td>scilab</td><td>2005</td></tr><tr><th>3</th><td>axiom</td><td>1980</td></tr></table>"
      ],
      "text/plain": [
       "3×2 DataFrames.DataFrame\n",
       "│ Row │ Nome_do_sofware │ Ano  │\n",
       "├─────┼─────────────────┼──────┤\n",
       "│ 1   │ \"scilab\"        │ 2005 │\n",
       "│ 2   │ \"scilab\"        │ 2005 │\n",
       "│ 3   │ \"axiom\"         │ 1980 │"
      ]
     },
     "execution_count": 86,
     "metadata": {},
     "output_type": "execute_result"
    }
   ],
   "source": [
    "# deletar uma linha\n",
    "deleterows!(dados4, 2)"
   ]
  },
  {
   "cell_type": "code",
   "execution_count": 87,
   "metadata": {
    "collapsed": false,
    "scrolled": false
   },
   "outputs": [
    {
     "data": {
      "text/html": [
       "<table class=\"data-frame\"><tr><th></th><th>Nome_do_sofware</th><th>Ano</th></tr><tr><th>1</th><td>scilab</td><td>2005</td></tr><tr><th>2</th><td>axiom</td><td>1980</td></tr></table>"
      ],
      "text/plain": [
       "2×2 DataFrames.DataFrame\n",
       "│ Row │ Nome_do_sofware │ Ano  │\n",
       "├─────┼─────────────────┼──────┤\n",
       "│ 1   │ \"scilab\"        │ 2005 │\n",
       "│ 2   │ \"axiom\"         │ 1980 │"
      ]
     },
     "execution_count": 87,
     "metadata": {},
     "output_type": "execute_result"
    }
   ],
   "source": [
    "# deletar linhas de dados repetido\n",
    "unique!(dados4)"
   ]
  },
  {
   "cell_type": "markdown",
   "metadata": {},
   "source": [
    "** Para ordenar os elementos de um Dataframe**\n"
   ]
  },
  {
   "cell_type": "code",
   "execution_count": 88,
   "metadata": {
    "collapsed": false,
    "scrolled": true
   },
   "outputs": [
    {
     "data": {
      "text/html": [
       "<table class=\"data-frame\"><tr><th></th><th>Nome_do_sofware</th><th>Ano</th></tr><tr><th>1</th><td>scilab</td><td>2005</td></tr><tr><th>2</th><td>julia</td><td>2012</td></tr></table>"
      ],
      "text/plain": [
       "2×2 DataFrames.DataFrame\n",
       "│ Row │ Nome_do_sofware │ Ano  │\n",
       "├─────┼─────────────────┼──────┤\n",
       "│ 1   │ \"scilab\"        │ 2005 │\n",
       "│ 2   │ \"julia\"         │ 2012 │"
      ]
     },
     "execution_count": 88,
     "metadata": {},
     "output_type": "execute_result"
    }
   ],
   "source": [
    "# Copia dataframe \"dados\" gravado em arquivo\n",
    "dados6 = readtable(\"dataframe.csv\")"
   ]
  },
  {
   "cell_type": "code",
   "execution_count": 89,
   "metadata": {
    "collapsed": false
   },
   "outputs": [
    {
     "data": {
      "text/html": [
       "<table class=\"data-frame\"><tr><th></th><th>Nome_do_sofware</th><th>Ano</th></tr><tr><th>1</th><td>julia</td><td>2012</td></tr><tr><th>2</th><td>scilab</td><td>2005</td></tr></table>"
      ],
      "text/plain": [
       "2×2 DataFrames.DataFrame\n",
       "│ Row │ Nome_do_sofware │ Ano  │\n",
       "├─────┼─────────────────┼──────┤\n",
       "│ 1   │ \"julia\"         │ 2012 │\n",
       "│ 2   │ \"scilab\"        │ 2005 │"
      ]
     },
     "execution_count": 89,
     "metadata": {},
     "output_type": "execute_result"
    }
   ],
   "source": [
    "# ordena e atualiza\n",
    "sort!(dados6, cols = order(:Nome_do_sofware))"
   ]
  },
  {
   "cell_type": "markdown",
   "metadata": {},
   "source": [
    "#### VISUALIZAR E ALTERAR DADOS EM UM DATAFRAME"
   ]
  },
  {
   "cell_type": "code",
   "execution_count": 90,
   "metadata": {
    "collapsed": false
   },
   "outputs": [],
   "source": [
    "using DataFrames"
   ]
  },
  {
   "cell_type": "code",
   "execution_count": 91,
   "metadata": {
    "collapsed": false,
    "scrolled": true
   },
   "outputs": [
    {
     "data": {
      "text/html": [
       "<table class=\"data-frame\"><tr><th></th><th>Nome_do_software</th><th>Ano_de_lancamento</th><th>Site</th></tr><tr><th>1</th><td>Julia</td><td>2012</td><td>julialang.org</td></tr><tr><th>2</th><td>SageMath</td><td>2005</td><td>sagemath.org</td></tr><tr><th>3</th><td>Maxima</td><td>1980</td><td>maxima.org</td></tr><tr><th>4</th><td>Octave</td><td>2000</td><td>gnu.org/octave</td></tr><tr><th>5</th><td>Maxima</td><td>1980</td><td>maxima.org</td></tr></table>"
      ],
      "text/plain": [
       "5×3 DataFrames.DataFrame\n",
       "│ Row │ Nome_do_software │ Ano_de_lancamento │ Site             │\n",
       "├─────┼──────────────────┼───────────────────┼──────────────────┤\n",
       "│ 1   │ \"Julia\"          │ 2012              │ \"julialang.org\"  │\n",
       "│ 2   │ \"SageMath\"       │ 2005              │ \"sagemath.org\"   │\n",
       "│ 3   │ \"Maxima\"         │ 1980              │ \"maxima.org\"     │\n",
       "│ 4   │ \"Octave\"         │ 2000              │ \"gnu.org/octave\" │\n",
       "│ 5   │ \"Maxima\"         │ 1980              │ \"maxima.org\"     │"
      ]
     },
     "execution_count": 91,
     "metadata": {},
     "output_type": "execute_result"
    }
   ],
   "source": [
    "# copiar Dataframe gravado em arquivo\n",
    "Softwares1 = readtable(\"softwares_dataframe.csv\")"
   ]
  },
  {
   "cell_type": "markdown",
   "metadata": {},
   "source": [
    "**Visualizar dados**\n",
    "\n",
    "```julia\n",
    "DataFrame[:nome_coluna_x]              # Somente os elementos da coluna_x\n",
    "DataFrame[coluna_x]                    # Somente os elementos da coluna_x\n",
    "\n",
    "DataFrame[:nome_coluna_x][elemento_x]  # Somente um elemento da coluna_x e linha_x\n",
    "DataFrame[coluna_x][elemento_x]        # Somente um elemento da coluna_x e linha_x\n",
    "```"
   ]
  },
  {
   "cell_type": "code",
   "execution_count": 92,
   "metadata": {
    "collapsed": false
   },
   "outputs": [
    {
     "data": {
      "text/plain": [
       "5-element DataArrays.DataArray{String,1}:\n",
       " \"Julia\"   \n",
       " \"SageMath\"\n",
       " \"Maxima\"  \n",
       " \"Octave\"  \n",
       " \"Maxima\"  "
      ]
     },
     "execution_count": 92,
     "metadata": {},
     "output_type": "execute_result"
    }
   ],
   "source": [
    "# Visualizando toda a primeira coluna\n",
    "Softwares1[:Nome_do_software]"
   ]
  },
  {
   "cell_type": "code",
   "execution_count": 93,
   "metadata": {
    "collapsed": false
   },
   "outputs": [
    {
     "data": {
      "text/plain": [
       "5-element DataArrays.DataArray{String,1}:\n",
       " \"Julia\"   \n",
       " \"SageMath\"\n",
       " \"Maxima\"  \n",
       " \"Octave\"  \n",
       " \"Maxima\"  "
      ]
     },
     "execution_count": 93,
     "metadata": {},
     "output_type": "execute_result"
    }
   ],
   "source": [
    "# Visualizando toda a primeira coluna\n",
    "Softwares1[1]"
   ]
  },
  {
   "cell_type": "code",
   "execution_count": 94,
   "metadata": {
    "collapsed": false
   },
   "outputs": [
    {
     "data": {
      "text/plain": [
       "\"Maxima\""
      ]
     },
     "execution_count": 94,
     "metadata": {},
     "output_type": "execute_result"
    }
   ],
   "source": [
    "# acessando o terceiro elemento da primeira coluna\n",
    "Softwares1[:Nome_do_software][3]"
   ]
  },
  {
   "cell_type": "code",
   "execution_count": 95,
   "metadata": {
    "collapsed": false,
    "scrolled": true
   },
   "outputs": [
    {
     "data": {
      "text/plain": [
       "\"Maxima\""
      ]
     },
     "execution_count": 95,
     "metadata": {},
     "output_type": "execute_result"
    }
   ],
   "source": [
    "# acessando o terceiro elemento da primeira coluna\n",
    "Softwares1[1][3]"
   ]
  },
  {
   "cell_type": "markdown",
   "metadata": {},
   "source": [
    "**Alterar dados em um dataframe**\n",
    "\n",
    "```julia\n",
    "DataFrame[:nome_coluna_x][elemento_x] = novo_dado           # altera o dado da coluna_x e linha_x\n",
    "DataFrame[coluna_x][elemento_x]       = novo_dado           # altera o dado da coluna_x e linha_x\n",
    "DataFrame[[elem_x1,elem_x2,elem_x3],:coluna_x] = novo_dado* # altera os dados dos elem x1,x2,x3 da coluna_x\n",
    "\n",
    "*novo_dado pode ser um vetor correspondente aos novos dados de elem x1,x2,x3...\n",
    "```"
   ]
  },
  {
   "cell_type": "code",
   "execution_count": 96,
   "metadata": {
    "collapsed": false
   },
   "outputs": [
    {
     "data": {
      "text/plain": [
       "\"maXIma\""
      ]
     },
     "execution_count": 96,
     "metadata": {},
     "output_type": "execute_result"
    }
   ],
   "source": [
    "# alterando o valor do terceiro elemrnto da primeira coluna\n",
    "Softwares1[1][3] = \"maXIma\""
   ]
  },
  {
   "cell_type": "code",
   "execution_count": 97,
   "metadata": {
    "collapsed": false,
    "scrolled": true
   },
   "outputs": [
    {
     "data": {
      "text/html": [
       "<table class=\"data-frame\"><tr><th></th><th>Nome_do_software</th><th>Ano_de_lancamento</th><th>Site</th></tr><tr><th>1</th><td>Julia</td><td>2012</td><td>julialang.org</td></tr><tr><th>2</th><td>SageMath</td><td>2005</td><td>sagemath.org</td></tr><tr><th>3</th><td>maXIma</td><td>1980</td><td>maxima.org</td></tr><tr><th>4</th><td>Octave</td><td>2000</td><td>gnu.org/octave</td></tr><tr><th>5</th><td>Maxima</td><td>1980</td><td>maxima.org</td></tr></table>"
      ],
      "text/plain": [
       "5×3 DataFrames.DataFrame\n",
       "│ Row │ Nome_do_software │ Ano_de_lancamento │ Site             │\n",
       "├─────┼──────────────────┼───────────────────┼──────────────────┤\n",
       "│ 1   │ \"Julia\"          │ 2012              │ \"julialang.org\"  │\n",
       "│ 2   │ \"SageMath\"       │ 2005              │ \"sagemath.org\"   │\n",
       "│ 3   │ \"maXIma\"         │ 1980              │ \"maxima.org\"     │\n",
       "│ 4   │ \"Octave\"         │ 2000              │ \"gnu.org/octave\" │\n",
       "│ 5   │ \"Maxima\"         │ 1980              │ \"maxima.org\"     │"
      ]
     },
     "execution_count": 97,
     "metadata": {},
     "output_type": "execute_result"
    }
   ],
   "source": [
    "# veja o novo nome do software maxima\n",
    "Softwares1"
   ]
  },
  {
   "cell_type": "markdown",
   "metadata": {},
   "source": [
    "**Adicionar linha de dados**\n",
    "\n",
    "```julia\n",
    "push!(Dataframe, [dado_col_x1,dado_col_x2])\n",
    "ou\n",
    "nome_Dataframe = vcat(nome_Dataframe, DataFrame(dado_col_x1 = valor,dado_col_x2 = valor))\n",
    "```\n",
    "Sendo x um número inteiro que representa a coluna ou elemento.\n"
   ]
  },
  {
   "cell_type": "code",
   "execution_count": 98,
   "metadata": {
    "collapsed": false
   },
   "outputs": [],
   "source": [
    "push!(Softwares1, [\"FreeMat\",2001,\"freemat.org\"])"
   ]
  },
  {
   "cell_type": "code",
   "execution_count": 99,
   "metadata": {
    "collapsed": false,
    "scrolled": true
   },
   "outputs": [
    {
     "data": {
      "text/html": [
       "<table class=\"data-frame\"><tr><th></th><th>Nome_do_software</th><th>Ano_de_lancamento</th><th>Site</th></tr><tr><th>1</th><td>Julia</td><td>2012</td><td>julialang.org</td></tr><tr><th>2</th><td>SageMath</td><td>2005</td><td>sagemath.org</td></tr><tr><th>3</th><td>maXIma</td><td>1980</td><td>maxima.org</td></tr><tr><th>4</th><td>Octave</td><td>2000</td><td>gnu.org/octave</td></tr><tr><th>5</th><td>Maxima</td><td>1980</td><td>maxima.org</td></tr><tr><th>6</th><td>FreeMat</td><td>2001</td><td>freemat.org</td></tr></table>"
      ],
      "text/plain": [
       "6×3 DataFrames.DataFrame\n",
       "│ Row │ Nome_do_software │ Ano_de_lancamento │ Site             │\n",
       "├─────┼──────────────────┼───────────────────┼──────────────────┤\n",
       "│ 1   │ \"Julia\"          │ 2012              │ \"julialang.org\"  │\n",
       "│ 2   │ \"SageMath\"       │ 2005              │ \"sagemath.org\"   │\n",
       "│ 3   │ \"maXIma\"         │ 1980              │ \"maxima.org\"     │\n",
       "│ 4   │ \"Octave\"         │ 2000              │ \"gnu.org/octave\" │\n",
       "│ 5   │ \"Maxima\"         │ 1980              │ \"maxima.org\"     │\n",
       "│ 6   │ \"FreeMat\"        │ 2001              │ \"freemat.org\"    │"
      ]
     },
     "execution_count": 99,
     "metadata": {},
     "output_type": "execute_result"
    }
   ],
   "source": [
    "Softwares1"
   ]
  },
  {
   "cell_type": "code",
   "execution_count": 100,
   "metadata": {
    "collapsed": false
   },
   "outputs": [
    {
     "data": {
      "text/html": [
       "<table class=\"data-frame\"><tr><th></th><th>Nome_do_software</th><th>Ano_de_lancamento</th><th>Site</th></tr><tr><th>1</th><td>Julia</td><td>2012</td><td>julialang.org</td></tr><tr><th>2</th><td>SageMath</td><td>2005</td><td>sagemath.org</td></tr><tr><th>3</th><td>maXIma</td><td>1980</td><td>maxima.org</td></tr><tr><th>4</th><td>Octave</td><td>2000</td><td>gnu.org/octave</td></tr><tr><th>5</th><td>Maxima</td><td>1980</td><td>maxima.org</td></tr><tr><th>6</th><td>FreeMat</td><td>2001</td><td>freemat.org</td></tr><tr><th>7</th><td>FreeMat</td><td>2001</td><td>freemat.org</td></tr></table>"
      ],
      "text/plain": [
       "7×3 DataFrames.DataFrame\n",
       "│ Row │ Nome_do_software │ Ano_de_lancamento │ Site             │\n",
       "├─────┼──────────────────┼───────────────────┼──────────────────┤\n",
       "│ 1   │ \"Julia\"          │ 2012              │ \"julialang.org\"  │\n",
       "│ 2   │ \"SageMath\"       │ 2005              │ \"sagemath.org\"   │\n",
       "│ 3   │ \"maXIma\"         │ 1980              │ \"maxima.org\"     │\n",
       "│ 4   │ \"Octave\"         │ 2000              │ \"gnu.org/octave\" │\n",
       "│ 5   │ \"Maxima\"         │ 1980              │ \"maxima.org\"     │\n",
       "│ 6   │ \"FreeMat\"        │ 2001              │ \"freemat.org\"    │\n",
       "│ 7   │ \"FreeMat\"        │ 2001              │ \"freemat.org\"    │"
      ]
     },
     "execution_count": 100,
     "metadata": {},
     "output_type": "execute_result"
    }
   ],
   "source": [
    "# outra forma de adicionar uma linha de dados. Ficará 2 \"FreeMat\"\n",
    "Softwares1 = vcat(Softwares1,DataFrame(Nome_do_software=\"FreeMat\",Ano_de_lancamento=2001,Site=\"freemat.org\"))"
   ]
  },
  {
   "cell_type": "markdown",
   "metadata": {},
   "source": [
    "**Ordenando dados**\n",
    "```julia\n",
    "sort(Dataframe, cols = order(:nome_coluna))\n",
    "sort!(Dataframe, cols = order(:nome_coluna)) # ordena e modifica o Dataframe(CUIDADO!)\n",
    "```\n",
    "Use somente **sort** sem o \"! \" para evitar a atualização do vetor"
   ]
  },
  {
   "cell_type": "code",
   "execution_count": 101,
   "metadata": {
    "collapsed": false,
    "scrolled": false
   },
   "outputs": [
    {
     "data": {
      "text/html": [
       "<table class=\"data-frame\"><tr><th></th><th>Nome_do_software</th><th>Ano_de_lancamento</th><th>Site</th></tr><tr><th>1</th><td>maXIma</td><td>1980</td><td>maxima.org</td></tr><tr><th>2</th><td>Maxima</td><td>1980</td><td>maxima.org</td></tr><tr><th>3</th><td>Octave</td><td>2000</td><td>gnu.org/octave</td></tr><tr><th>4</th><td>FreeMat</td><td>2001</td><td>freemat.org</td></tr><tr><th>5</th><td>FreeMat</td><td>2001</td><td>freemat.org</td></tr><tr><th>6</th><td>SageMath</td><td>2005</td><td>sagemath.org</td></tr><tr><th>7</th><td>Julia</td><td>2012</td><td>julialang.org</td></tr></table>"
      ],
      "text/plain": [
       "7×3 DataFrames.DataFrame\n",
       "│ Row │ Nome_do_software │ Ano_de_lancamento │ Site             │\n",
       "├─────┼──────────────────┼───────────────────┼──────────────────┤\n",
       "│ 1   │ \"maXIma\"         │ 1980              │ \"maxima.org\"     │\n",
       "│ 2   │ \"Maxima\"         │ 1980              │ \"maxima.org\"     │\n",
       "│ 3   │ \"Octave\"         │ 2000              │ \"gnu.org/octave\" │\n",
       "│ 4   │ \"FreeMat\"        │ 2001              │ \"freemat.org\"    │\n",
       "│ 5   │ \"FreeMat\"        │ 2001              │ \"freemat.org\"    │\n",
       "│ 6   │ \"SageMath\"       │ 2005              │ \"sagemath.org\"   │\n",
       "│ 7   │ \"Julia\"          │ 2012              │ \"julialang.org\"  │"
      ]
     },
     "execution_count": 101,
     "metadata": {},
     "output_type": "execute_result"
    }
   ],
   "source": [
    "sort!(Softwares1, cols = order(:Ano_de_lancamento))"
   ]
  },
  {
   "cell_type": "code",
   "execution_count": 102,
   "metadata": {
    "collapsed": false
   },
   "outputs": [
    {
     "data": {
      "text/html": [
       "<table class=\"data-frame\"><tr><th></th><th>Nome_do_software</th><th>Ano_de_lancamento</th><th>Site</th></tr><tr><th>1</th><td>maXIma</td><td>1980</td><td>maxima.org</td></tr><tr><th>2</th><td>Maxima</td><td>1980</td><td>maxima.org</td></tr><tr><th>3</th><td>Octave</td><td>2000</td><td>gnu.org/octave</td></tr><tr><th>4</th><td>FreeMat</td><td>2001</td><td>freemat.org</td></tr><tr><th>5</th><td>FreeMat</td><td>2001</td><td>freemat.org</td></tr><tr><th>6</th><td>SageMath</td><td>2005</td><td>sagemath.org</td></tr><tr><th>7</th><td>Julia</td><td>2012</td><td>julialang.org</td></tr></table>"
      ],
      "text/plain": [
       "7×3 DataFrames.DataFrame\n",
       "│ Row │ Nome_do_software │ Ano_de_lancamento │ Site             │\n",
       "├─────┼──────────────────┼───────────────────┼──────────────────┤\n",
       "│ 1   │ \"maXIma\"         │ 1980              │ \"maxima.org\"     │\n",
       "│ 2   │ \"Maxima\"         │ 1980              │ \"maxima.org\"     │\n",
       "│ 3   │ \"Octave\"         │ 2000              │ \"gnu.org/octave\" │\n",
       "│ 4   │ \"FreeMat\"        │ 2001              │ \"freemat.org\"    │\n",
       "│ 5   │ \"FreeMat\"        │ 2001              │ \"freemat.org\"    │\n",
       "│ 6   │ \"SageMath\"       │ 2005              │ \"sagemath.org\"   │\n",
       "│ 7   │ \"Julia\"          │ 2012              │ \"julialang.org\"  │"
      ]
     },
     "execution_count": 102,
     "metadata": {},
     "output_type": "execute_result"
    }
   ],
   "source": [
    "# veja que o dataframe Softwares foi atualizado automaticamente\n",
    "Softwares1"
   ]
  },
  {
   "cell_type": "markdown",
   "metadata": {},
   "source": [
    "**Retirar elementos repetidos**\n",
    "\n",
    "Use somente **unique(dataframe)** sem o \"! \" para evitar a atualização do vetor"
   ]
  },
  {
   "cell_type": "code",
   "execution_count": 103,
   "metadata": {
    "collapsed": false
   },
   "outputs": [
    {
     "data": {
      "text/html": [
       "<table class=\"data-frame\"><tr><th></th><th>Nome_do_software</th><th>Ano_de_lancamento</th><th>Site</th></tr><tr><th>1</th><td>maXIma</td><td>1980</td><td>maxima.org</td></tr><tr><th>2</th><td>Maxima</td><td>1980</td><td>maxima.org</td></tr><tr><th>3</th><td>Octave</td><td>2000</td><td>gnu.org/octave</td></tr><tr><th>4</th><td>FreeMat</td><td>2001</td><td>freemat.org</td></tr><tr><th>5</th><td>SageMath</td><td>2005</td><td>sagemath.org</td></tr><tr><th>6</th><td>Julia</td><td>2012</td><td>julialang.org</td></tr></table>"
      ],
      "text/plain": [
       "6×3 DataFrames.DataFrame\n",
       "│ Row │ Nome_do_software │ Ano_de_lancamento │ Site             │\n",
       "├─────┼──────────────────┼───────────────────┼──────────────────┤\n",
       "│ 1   │ \"maXIma\"         │ 1980              │ \"maxima.org\"     │\n",
       "│ 2   │ \"Maxima\"         │ 1980              │ \"maxima.org\"     │\n",
       "│ 3   │ \"Octave\"         │ 2000              │ \"gnu.org/octave\" │\n",
       "│ 4   │ \"FreeMat\"        │ 2001              │ \"freemat.org\"    │\n",
       "│ 5   │ \"SageMath\"       │ 2005              │ \"sagemath.org\"   │\n",
       "│ 6   │ \"Julia\"          │ 2012              │ \"julialang.org\"  │"
      ]
     },
     "execution_count": 103,
     "metadata": {},
     "output_type": "execute_result"
    }
   ],
   "source": [
    "unique!(Softwares1)"
   ]
  },
  {
   "cell_type": "markdown",
   "metadata": {},
   "source": [
    "#### FILTRAR  DADOS EM UM DATAFRAME\n",
    "\n",
    "Para filtrar dados em um DataFrame temos:\n",
    "```julia\n",
    "Nome_DataFrame[ Nome_DataFrame[coluna].operador_logico valor, colunas_filtradas ]\n",
    "```\n",
    "- `Operador lógico`: > , < , =! e outros\n",
    "- `valor` : valor a ser pesquisado\n",
    "- `colunas`: qual ou quais colunas devem ser filtradas (use : para todas as colunas)"
   ]
  },
  {
   "cell_type": "code",
   "execution_count": 104,
   "metadata": {
    "collapsed": true
   },
   "outputs": [],
   "source": [
    "using DataFrames"
   ]
  },
  {
   "cell_type": "code",
   "execution_count": 105,
   "metadata": {
    "collapsed": false,
    "scrolled": false
   },
   "outputs": [
    {
     "data": {
      "text/html": [
       "<table class=\"data-frame\"><tr><th></th><th>Nome_do_software</th><th>Ano_de_lancamento</th><th>Site</th></tr><tr><th>1</th><td>Julia</td><td>2012</td><td>julialang.org</td></tr><tr><th>2</th><td>SageMath</td><td>2005</td><td>sagemath.org</td></tr><tr><th>3</th><td>Maxima</td><td>1980</td><td>maxima.org</td></tr><tr><th>4</th><td>Octave</td><td>2000</td><td>gnu.org/octave</td></tr><tr><th>5</th><td>Maxima</td><td>1980</td><td>maxima.org</td></tr></table>"
      ],
      "text/plain": [
       "5×3 DataFrames.DataFrame\n",
       "│ Row │ Nome_do_software │ Ano_de_lancamento │ Site             │\n",
       "├─────┼──────────────────┼───────────────────┼──────────────────┤\n",
       "│ 1   │ \"Julia\"          │ 2012              │ \"julialang.org\"  │\n",
       "│ 2   │ \"SageMath\"       │ 2005              │ \"sagemath.org\"   │\n",
       "│ 3   │ \"Maxima\"         │ 1980              │ \"maxima.org\"     │\n",
       "│ 4   │ \"Octave\"         │ 2000              │ \"gnu.org/octave\" │\n",
       "│ 5   │ \"Maxima\"         │ 1980              │ \"maxima.org\"     │"
      ]
     },
     "execution_count": 105,
     "metadata": {},
     "output_type": "execute_result"
    }
   ],
   "source": [
    "# copiar Dataframe gravado em arquivo\n",
    "Softwares1 = readtable(\"softwares_dataframe.csv\")"
   ]
  },
  {
   "cell_type": "code",
   "execution_count": 106,
   "metadata": {
    "collapsed": false,
    "scrolled": true
   },
   "outputs": [
    {
     "data": {
      "text/html": [
       "<table class=\"data-frame\"><tr><th></th><th>Nome_do_software</th><th>Ano_de_lancamento</th><th>Site</th></tr><tr><th>1</th><td>Julia</td><td>2012</td><td>julialang.org</td></tr><tr><th>2</th><td>SageMath</td><td>2005</td><td>sagemath.org</td></tr><tr><th>3</th><td>Octave</td><td>2000</td><td>gnu.org/octave</td></tr></table>"
      ],
      "text/plain": [
       "3×3 DataFrames.DataFrame\n",
       "│ Row │ Nome_do_software │ Ano_de_lancamento │ Site             │\n",
       "├─────┼──────────────────┼───────────────────┼──────────────────┤\n",
       "│ 1   │ \"Julia\"          │ 2012              │ \"julialang.org\"  │\n",
       "│ 2   │ \"SageMath\"       │ 2005              │ \"sagemath.org\"   │\n",
       "│ 3   │ \"Octave\"         │ 2000              │ \"gnu.org/octave\" │"
      ]
     },
     "execution_count": 106,
     "metadata": {},
     "output_type": "execute_result"
    }
   ],
   "source": [
    "# filtrar todos os dados maiores que o ano de 1980\n",
    "Softwares1[Softwares1[2].> 1980, :  ]"
   ]
  },
  {
   "cell_type": "code",
   "execution_count": 107,
   "metadata": {
    "collapsed": false
   },
   "outputs": [
    {
     "data": {
      "text/plain": [
       "3-element DataArrays.DataArray{String,1}:\n",
       " \"Julia\"   \n",
       " \"SageMath\"\n",
       " \"Octave\"  "
      ]
     },
     "execution_count": 107,
     "metadata": {},
     "output_type": "execute_result"
    }
   ],
   "source": [
    "# filtrar somente a colunaa 1   maiores que o ano de 1980\n",
    "Softwares1[Softwares1[2].> 1980, 1  ]"
   ]
  },
  {
   "cell_type": "code",
   "execution_count": 108,
   "metadata": {
    "collapsed": false
   },
   "outputs": [
    {
     "data": {
      "text/html": [
       "<table class=\"data-frame\"><tr><th></th><th>Ano_de_lancamento</th><th>Site</th></tr><tr><th>1</th><td>2012</td><td>julialang.org</td></tr><tr><th>2</th><td>2005</td><td>sagemath.org</td></tr><tr><th>3</th><td>2000</td><td>gnu.org/octave</td></tr></table>"
      ],
      "text/plain": [
       "3×2 DataFrames.DataFrame\n",
       "│ Row │ Ano_de_lancamento │ Site             │\n",
       "├─────┼───────────────────┼──────────────────┤\n",
       "│ 1   │ 2012              │ \"julialang.org\"  │\n",
       "│ 2   │ 2005              │ \"sagemath.org\"   │\n",
       "│ 3   │ 2000              │ \"gnu.org/octave\" │"
      ]
     },
     "execution_count": 108,
     "metadata": {},
     "output_type": "execute_result"
    }
   ],
   "source": [
    "# filtrar somente as colunas 2 a 3  maiores que o ano de 1980\n",
    "Softwares1[Softwares1[2].> 1980, 2:3  ]"
   ]
  },
  {
   "cell_type": "code",
   "execution_count": 109,
   "metadata": {
    "collapsed": false,
    "scrolled": true
   },
   "outputs": [
    {
     "data": {
      "text/html": [
       "<table class=\"data-frame\"><tr><th></th><th>Nome_do_software</th><th>Site</th></tr><tr><th>1</th><td>Julia</td><td>julialang.org</td></tr><tr><th>2</th><td>SageMath</td><td>sagemath.org</td></tr><tr><th>3</th><td>Octave</td><td>gnu.org/octave</td></tr></table>"
      ],
      "text/plain": [
       "3×2 DataFrames.DataFrame\n",
       "│ Row │ Nome_do_software │ Site             │\n",
       "├─────┼──────────────────┼──────────────────┤\n",
       "│ 1   │ \"Julia\"          │ \"julialang.org\"  │\n",
       "│ 2   │ \"SageMath\"       │ \"sagemath.org\"   │\n",
       "│ 3   │ \"Octave\"         │ \"gnu.org/octave\" │"
      ]
     },
     "execution_count": 109,
     "metadata": {},
     "output_type": "execute_result"
    }
   ],
   "source": [
    "# filtrar somente as colunas 1 e 3  maiores que o ano de 1980\n",
    "Softwares1[Softwares1[2].> 1980, [1,3]]"
   ]
  },
  {
   "cell_type": "code",
   "execution_count": 110,
   "metadata": {
    "collapsed": false
   },
   "outputs": [
    {
     "data": {
      "text/html": [
       "<table class=\"data-frame\"><tr><th></th><th>Nome_do_software</th><th>Site</th></tr><tr><th>1</th><td>SageMath</td><td>sagemath.org</td></tr><tr><th>2</th><td>Octave</td><td>gnu.org/octave</td></tr></table>"
      ],
      "text/plain": [
       "2×2 DataFrames.DataFrame\n",
       "│ Row │ Nome_do_software │ Site             │\n",
       "├─────┼──────────────────┼──────────────────┤\n",
       "│ 1   │ \"SageMath\"       │ \"sagemath.org\"   │\n",
       "│ 2   │ \"Octave\"         │ \"gnu.org/octave\" │"
      ]
     },
     "execution_count": 110,
     "metadata": {},
     "output_type": "execute_result"
    }
   ],
   "source": [
    "# filtrar somente as colunas 1 e 3  maiores que o ano de 1980 e menores que 2010\n",
    "Softwares1[(Softwares1[2].> 1980)&(Softwares1[2].< 2010), [1,3]  ]"
   ]
  },
  {
   "cell_type": "markdown",
   "metadata": {},
   "source": [
    "#### MAP, MAPREDUCE , SUM, PROD E LIST COMPREHENSION"
   ]
  },
  {
   "cell_type": "code",
   "execution_count": 111,
   "metadata": {
    "collapsed": false
   },
   "outputs": [
    {
     "data": {
      "text/plain": [
       "5-element DataArrays.DataArray{Int64,1}:\n",
       " 2012\n",
       " 2005\n",
       " 1980\n",
       " 2000\n",
       " 1980"
      ]
     },
     "execution_count": 111,
     "metadata": {},
     "output_type": "execute_result"
    }
   ],
   "source": [
    "Softwares1[2]"
   ]
  },
  {
   "cell_type": "code",
   "execution_count": 112,
   "metadata": {
    "collapsed": false,
    "scrolled": true
   },
   "outputs": [
    {
     "data": {
      "text/plain": [
       "5-element DataArrays.DataArray{Any,1}:\n",
       " 20120\n",
       " 20050\n",
       " 19800\n",
       " 20000\n",
       " 19800"
      ]
     },
     "execution_count": 112,
     "metadata": {},
     "output_type": "execute_result"
    }
   ],
   "source": [
    "map(x -> 10*x , Softwares1[2])"
   ]
  },
  {
   "cell_type": "code",
   "execution_count": 113,
   "metadata": {
    "collapsed": false
   },
   "outputs": [
    {
     "data": {
      "text/plain": [
       "99770"
      ]
     },
     "execution_count": 113,
     "metadata": {},
     "output_type": "execute_result"
    }
   ],
   "source": [
    "mapreduce(x -> 10*x , + , Softwares1[2])"
   ]
  },
  {
   "cell_type": "code",
   "execution_count": 114,
   "metadata": {
    "collapsed": false
   },
   "outputs": [
    {
     "data": {
      "text/plain": [
       "9977"
      ]
     },
     "execution_count": 114,
     "metadata": {},
     "output_type": "execute_result"
    }
   ],
   "source": [
    "sum(Softwares1[2])"
   ]
  },
  {
   "cell_type": "code",
   "execution_count": 115,
   "metadata": {
    "collapsed": false
   },
   "outputs": [
    {
     "data": {
      "text/plain": [
       "31630257648000000"
      ]
     },
     "execution_count": 115,
     "metadata": {},
     "output_type": "execute_result"
    }
   ],
   "source": [
    "prod(Softwares1[2])"
   ]
  },
  {
   "cell_type": "code",
   "execution_count": 116,
   "metadata": {
    "collapsed": false
   },
   "outputs": [
    {
     "data": {
      "text/plain": [
       "5-element Array{Int64,1}:\n",
       " 20120\n",
       " 20050\n",
       " 19800\n",
       " 20000\n",
       " 19800"
      ]
     },
     "execution_count": 116,
     "metadata": {},
     "output_type": "execute_result"
    }
   ],
   "source": [
    "[10*x for x = Softwares1[2]]"
   ]
  },
  {
   "cell_type": "markdown",
   "metadata": {},
   "source": [
    "### ARQUIVOS CSV COM DATAFRAMES\n",
    "\n",
    "As manipulações com os dados importados do arquivo CSV seguem o mesmo padrão das manipulações de Dataframe ja trabalhado acima. Para criar um DataFrame no formato CSV:\n",
    "```julia\n",
    "nome_dataframe = csv\"\"\"\n",
    "Coluna_1 , Coluna_2\n",
    "dados_1  , dados_1\n",
    "dados_2  , dados_2\n",
    "\"\"\"\n",
    "```\n",
    "**Importar dados em um arquivo CSV**\n",
    "\n",
    "```julia\n",
    "   var_dados = readtable(\"arquivo.csv\")\n",
    "```\n",
    "**Salvar dataframe em um arquivo CSV**\n",
    "\n",
    "    Forma geral de salvar dados em um arquivo CSV:\n",
    "```julia\n",
    "   writetable(\"nome.csv\", dataframe, separator = ',', header = true/false)\n",
    "```\n",
    "       separator -> simbolo separador das dados entre as colunas\n",
    "       header    -> cabeçalho das colunas"
   ]
  },
  {
   "cell_type": "code",
   "execution_count": 117,
   "metadata": {
    "collapsed": false,
    "scrolled": true
   },
   "outputs": [
    {
     "data": {
      "text/html": [
       "<table class=\"data-frame\"><tr><th></th><th>Nome_software</th><th>Ano_lançamento</th></tr><tr><th>1</th><td>Python</td><td>1991</td></tr><tr><th>2</th><td>Scilab</td><td>2000</td></tr></table>"
      ],
      "text/plain": [
       "2×2 DataFrames.DataFrame\n",
       "│ Row │ Nome_software │ Ano_lançamento │\n",
       "├─────┼───────────────┼────────────────┤\n",
       "│ 1   │ \"Python\"      │ 1991           │\n",
       "│ 2   │ \"Scilab\"      │ 2000           │"
      ]
     },
     "execution_count": 117,
     "metadata": {},
     "output_type": "execute_result"
    }
   ],
   "source": [
    "using DataFrames\n",
    "\n",
    "Software_Científico = csv\"\"\"\n",
    "Nome_software , Ano_lançamento\n",
    "Python        , 1991\n",
    "Scilab        , 2000\n",
    "\"\"\""
   ]
  },
  {
   "cell_type": "code",
   "execution_count": 118,
   "metadata": {
    "collapsed": false
   },
   "outputs": [
    {
     "data": {
      "text/plain": [
       "DataFrames.DataFrame"
      ]
     },
     "execution_count": 118,
     "metadata": {},
     "output_type": "execute_result"
    }
   ],
   "source": [
    "typeof(Software_Científico)"
   ]
  },
  {
   "cell_type": "code",
   "execution_count": 119,
   "metadata": {
    "collapsed": false
   },
   "outputs": [],
   "source": [
    "push!(Software_Científico, [\"Julia\",2012])"
   ]
  },
  {
   "cell_type": "code",
   "execution_count": 120,
   "metadata": {
    "collapsed": false,
    "scrolled": true
   },
   "outputs": [
    {
     "data": {
      "text/html": [
       "<table class=\"data-frame\"><tr><th></th><th>Nome_software</th><th>Ano_lançamento</th></tr><tr><th>1</th><td>Python</td><td>1991</td></tr><tr><th>2</th><td>Scilab</td><td>2000</td></tr><tr><th>3</th><td>Julia</td><td>2012</td></tr></table>"
      ],
      "text/plain": [
       "3×2 DataFrames.DataFrame\n",
       "│ Row │ Nome_software │ Ano_lançamento │\n",
       "├─────┼───────────────┼────────────────┤\n",
       "│ 1   │ \"Python\"      │ 1991           │\n",
       "│ 2   │ \"Scilab\"      │ 2000           │\n",
       "│ 3   │ \"Julia\"       │ 2012           │"
      ]
     },
     "execution_count": 120,
     "metadata": {},
     "output_type": "execute_result"
    }
   ],
   "source": [
    "# salvar em arquivo e ler os dados do arquivo\n",
    "writetable(\"Soft_Cient.csv\", Software_Científico, separator = ',', header = true)\n",
    "\n",
    "readtable(\"Soft_Cient.csv\")"
   ]
  },
  {
   "cell_type": "code",
   "execution_count": 121,
   "metadata": {
    "collapsed": false,
    "scrolled": false
   },
   "outputs": [
    {
     "data": {
      "text/html": [
       "<table class=\"data-frame\"><tr><th></th><th>x</th><th>y</th></tr><tr><th>1</th><td>0.0</td><td>-0.183440428023042</td></tr><tr><th>2</th><td>0.2</td><td>-0.131101157495126</td></tr><tr><th>3</th><td>0.4</td><td>0.0268875670852843</td></tr><tr><th>4</th><td>0.8</td><td>0.110532679260319</td></tr><tr><th>5</th><td>1.0</td><td>0.253944632998395</td></tr><tr><th>6</th><td>1.2</td><td>0.257190123748649</td></tr><tr><th>7</th><td>1.4</td><td>0.531888837111346</td></tr><tr><th>8</th><td>1.6</td><td>0.579048247883555</td></tr><tr><th>9</th><td>2.0</td><td>0.935180993484717</td></tr><tr><th>10</th><td>2.2</td><td>0.916600344376623</td></tr><tr><th>11</th><td>2.6</td><td>1.13328608090532</td></tr><tr><th>12</th><td>2.8</td><td>1.26893326843583</td></tr><tr><th>13</th><td>3.0</td><td>1.10202945535186</td></tr><tr><th>14</th><td>3.4</td><td>1.13391615491257</td></tr></table>"
      ],
      "text/plain": [
       "14×2 DataFrames.DataFrame\n",
       "│ Row │ x   │ y         │\n",
       "├─────┼─────┼───────────┤\n",
       "│ 1   │ 0.0 │ -0.18344  │\n",
       "│ 2   │ 0.2 │ -0.131101 │\n",
       "│ 3   │ 0.4 │ 0.0268876 │\n",
       "│ 4   │ 0.8 │ 0.110533  │\n",
       "│ 5   │ 1.0 │ 0.253945  │\n",
       "│ 6   │ 1.2 │ 0.25719   │\n",
       "│ 7   │ 1.4 │ 0.531889  │\n",
       "│ 8   │ 1.6 │ 0.579048  │\n",
       "│ 9   │ 2.0 │ 0.935181  │\n",
       "│ 10  │ 2.2 │ 0.9166    │\n",
       "│ 11  │ 2.6 │ 1.13329   │\n",
       "│ 12  │ 2.8 │ 1.26893   │\n",
       "│ 13  │ 3.0 │ 1.10203   │\n",
       "│ 14  │ 3.4 │ 1.13392   │"
      ]
     },
     "execution_count": 121,
     "metadata": {},
     "output_type": "execute_result"
    }
   ],
   "source": [
    "# Importar tabela de dados\n",
    "tabela_dados_reta = readtable(\"dados_reta.csv\")"
   ]
  },
  {
   "cell_type": "code",
   "execution_count": 122,
   "metadata": {
    "collapsed": false,
    "scrolled": true
   },
   "outputs": [
    {
     "data": {
      "text/plain": [
       "14-element DataArrays.DataArray{Float64,1}:\n",
       " 0.0\n",
       " 0.2\n",
       " 0.4\n",
       " 0.8\n",
       " 1.0\n",
       " 1.2\n",
       " 1.4\n",
       " 1.6\n",
       " 2.0\n",
       " 2.2\n",
       " 2.6\n",
       " 2.8\n",
       " 3.0\n",
       " 3.4"
      ]
     },
     "execution_count": 122,
     "metadata": {},
     "output_type": "execute_result"
    }
   ],
   "source": [
    "# visualizar toda a primeira coluna\n",
    "tabela_dados_reta[1]"
   ]
  },
  {
   "cell_type": "code",
   "execution_count": 123,
   "metadata": {
    "collapsed": false
   },
   "outputs": [
    {
     "data": {
      "text/plain": [
       "1.4"
      ]
     },
     "execution_count": 123,
     "metadata": {},
     "output_type": "execute_result"
    }
   ],
   "source": [
    "# Acessar o 7 elemento da primeira coluna\n",
    "tabela_dados_reta[1][7]"
   ]
  },
  {
   "cell_type": "code",
   "execution_count": 124,
   "metadata": {
    "collapsed": false,
    "scrolled": true
   },
   "outputs": [
    {
     "data": {
      "text/plain": [
       "14-element DataArrays.DataArray{Float64,1}:\n",
       " -0.18344  \n",
       " -0.131101 \n",
       "  0.0268876\n",
       "  0.110533 \n",
       "  0.253945 \n",
       "  0.25719  \n",
       "  0.531889 \n",
       "  0.579048 \n",
       "  0.935181 \n",
       "  0.9166   \n",
       "  1.13329  \n",
       "  1.26893  \n",
       "  1.10203  \n",
       "  1.13392  "
      ]
     },
     "execution_count": 124,
     "metadata": {},
     "output_type": "execute_result"
    }
   ],
   "source": [
    "# Visualizar toda a segunda coluna\n",
    "tabela_dados_reta[2]"
   ]
  },
  {
   "cell_type": "code",
   "execution_count": 125,
   "metadata": {
    "collapsed": false,
    "scrolled": true
   },
   "outputs": [
    {
     "data": {
      "text/html": [
       "<img src=\"data:image/png;base64,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\" />"
      ]
     },
     "execution_count": 125,
     "metadata": {},
     "output_type": "execute_result"
    }
   ],
   "source": [
    "# Gráfico dos dados\n",
    "using Plots\n",
    "pyplot()\n",
    "\n",
    "scatter(tabela_dados_reta[1],tabela_dados_reta[2], size = (400,300), label = \"Pontos\")"
   ]
  },
  {
   "cell_type": "markdown",
   "metadata": {
    "collapsed": true
   },
   "source": [
    "## APLICAÇÕES"
   ]
  },
  {
   "cell_type": "markdown",
   "metadata": {},
   "source": [
    "Um pesquisador deseja investigar todas as raízes das função  $f(x)  = x + x^2sin(x)$  num intervalo de 0 a 15."
   ]
  },
  {
   "cell_type": "code",
   "execution_count": 126,
   "metadata": {
    "collapsed": false,
    "scrolled": false
   },
   "outputs": [
    {
     "data": {
      "text/plain": [
       "(x,)"
      ]
     },
     "execution_count": 126,
     "metadata": {},
     "output_type": "execute_result"
    }
   ],
   "source": [
    "using DataFrames, SymPy\n",
    "@syms x"
   ]
  },
  {
   "cell_type": "code",
   "execution_count": 127,
   "metadata": {
    "collapsed": false
   },
   "outputs": [
    {
     "name": "stderr",
     "output_type": "stream",
     "text": [
      "WARNING: Method definition f(Any) in module Main at In[2]:2 overwritten at In[127]:2.\n"
     ]
    },
    {
     "data": {
      "text/plain": [
       "f (generic function with 2 methods)"
      ]
     },
     "execution_count": 127,
     "metadata": {},
     "output_type": "execute_result"
    }
   ],
   "source": [
    "# função\n",
    "f(x)  = x + x^2*sin(x)"
   ]
  },
  {
   "cell_type": "code",
   "execution_count": 128,
   "metadata": {
    "collapsed": false,
    "scrolled": false
   },
   "outputs": [
    {
     "data": {
      "text/html": [
       "<img src=\"data:image/png;base64,iVBORw0KGgoAAAANSUhEUgAAAZAAAAEsCAYAAADtt+XCAAAABHNCSVQICAgIfAhkiAAAAAlwSFlzAAAPYQAAD2EBqD+naQAAIABJREFUeJzt3XtcVWW+P/DPs/YGEW+IN5S7CnhLBTV1slInUbR2pWNeampgmpOnrJyL1jnTHJ3Tb5r0WFOTTk5zrKY08JLS5UzemsZELRRKzLsgIqjI1dtGYe/1/f2BIHf2hrXXs/fa3/fr5avYbOD74YH9Za3nWc8SRERgjDHGnKTILoAxxphn4gbCGGOsTcyyC6hRXFyM7du3IyIiAh07dpRdDmOMGVpFRQVyc3MxdepU9OzZs02fw20ayPbt2/HYY4/JLoMxxrzKunXr8Oijj7bpY92mgURERACoDjN48GC5xbjYokWL8MYbb8guw+U4p7FwTn0REb6+SDhUQvihlHC0HKiwAUIAA7oCd3QHhnVXMCxQILILsD2f8LuDKnYkmNCjo2j18x87dgyPPfZY7WtvW7hNA6k5bTV48GDExcVJrsa1AgICDJ8R4JxGwzn19c4xFb86b0dwJ2DsUIFHeguM7S0wqqdAZ5/GDSJ0COF3RTYU9TFhykDHp7fbM2XgNg3Em1RWVsouQRec01g4p74+PatiUl+Bf97v2Mt0kL/A8EBgR76K+U40kPZwqLKbN29i7ty5OHbsGDp27IjevXvjL3/5CwYMGICioiI8/vjjyM7Ohp+fH1avXo27774bQPUkzc9//nMcOHAAJpMJf/jDHzBr1iynCszLy0NxcbHzydzYgQMHkJmZ6dKv0bNnT4SFhbn0a7Tm+++/l/r19cI5jcUdct6wEb66QFgW51wjmBKsIDlbBRFBiNZPY7WXw0cgTz31FKZNmwYAWL16NZ588kl89dVXeOGFFzB+/Hh88cUXOHjwIB5++GHk5ubCZDJh5cqV8PPzw6lTp5Cbm4uxY8di8uTJ6N69u0NfMy8vD4MHD4bVam1bOjc2atQol35+f39/HDt2TGoTiYmJkfa19cQ5jcUdcqYVEqw2YFqocw0kPkTgtcPA0TJgaKCLiqvDoQbSoUOH2uYBAOPGjcNrr70GANi0aROys7MBAKNHj0ZwcDB2796NyZMnY8OGDXj33XcBVE+ST5o0CVu3bkVSUpJDxRUXF8NqtXrFxLqWaibHiouLpTaQBQsWSPvaeuKcxuIOObfnE/r5A8Mc+1u71t1BAh1MwM4CFUMDTa4pro42zYG8+eabeOihh1BaWgqbzYbevXvXvi88PBx5eXkAqo8gwsPDm3yfM7xhYt2I5s2bJ7sEXXBOY3GHnNvOqZgaIpw+DdXRLHB3kMCOAsKiO1xUXB1Oz7S88soryM7OxiuvvOKKehhjzKvlXyP8UAZMC2nbRPiUYIHdFwg37a7f5tCpCleuXInU1FRs27YNfn5+CAwMhNlsxqVLl2qfk5ubW3vaJDw8HGfPnm3yfc2ZPn06LBYLLBYLFi1a5Ex5rIFFixbh+PHj9R576623sHjx4nqPWa1WWCwWpKWl1Xs8OTkZiYmJjT7vnDlzkJqaWu+xHTt2wGKx1Hts7dq1eOaZZ7B27dp6j2dmZsJisTRaHLF06VIsX7683mN5eXmwWCxScwBoMUfDawY8NUdr47F27VpD5ABaHo+6p+tl5HhnXy5AdsR2LGtTjvgQBVYb8Pjv365X64wZMxAUFIQJEyZo9/pKDnrttddo1KhRVF5eXu/xxMREWrZsGRERpaenU0hICNlsNiIiWrZsGSUmJhIRUU5ODvXp04dKSkqa/PwZGRkEgDIyMlp8zB188sknNHjwYIqNjaUffvhBdjmNuMv37emnn5b69fXCOY1Fds7ZO6toXGpVmz/erqrU64NK+o90W4vP0+J1wqEGkp+fT0IIGjhwIMXGxtLIkSNp3LhxRERUWFhI8fHxFBUVRcOGDaPdu3fXftz169dpzpw5NGDAAIqJiaHNmzc7FcZdXggbSkhIoJSUFNllNMtdv2+MsZZV2VUKeL+Slh1s+cW/NfO/rKLRW1puQlq8Tjg0iR4cHAxVVZt8X+/evbF9+/Ym3+fv74+UlBTnD4vc2PPPP489e/bgxIkT+POf/4z9+/ejvLwcXbt2BQD06tULGRkZCAsLQ2RkJB5//HHs3LkThYWFSEpKwm9/+1sAwPnz5/H888/jxIkTUBQFDz74IH7/+98jOTkZb775JqqqqqCqKl5++WXcf//9AIDs7GwsWLAAly5dgslkwtKlS/Hggw9K+14wxrSVXkQorwSmhbbvGo4pIQqSs+0ouUHo4ee660E8/kr0nCvV3/C2CvAF+nd1/Bv85ptvIisrC7/61a/wwAMPwGSqv1Su4aqJy5cvY9++fSgpKcGAAQOQlJSEvn374rHHHsO0adOwadMmAEBJSQkAYNq0abWrQM6ePYtx48YhLy8PPj4+ePTRR/Hkk0/iySefxOnTpzFu3DjExcUhNDS07d8Axpjb2J5PCOwAjO7ZzgYSLEAAviwgPDKAG0iTim8QojbaoLZjsYFJABcfM6Onk12abt3IkRrc0LHh2/PnzwcA9OjRA/3798eZM2fQtWtXpKWlYefOnbXP69GjBwAgJycHL730EvLz82E2m1FWVoYzZ86gX79+yMzMrL2GZuDAgbj77ruxZ8+e2q/BGPNs284RpgQLmJT2vegHdxIYEgDsKFDxyADXbWvi0Q2kp5/AqUfM7T4CcbZ51GUymWC322vfvnHjRr33+/n51XuuzWYDUH2k0rDZAMDcuXOxYsUKPPzwwwCqG0vN59RjawItWSwWfPrpp7LLcDnOaSyychbfIBwoIvz7EG0uAJwSomBrrmu3NfH4OxL27yoQ17Pt/5w5fdWUqKgofPvttwCALVu2OLTtSqdOnXDPPffUXs0PoHbpYXl5eb2t7cvKqpfyde7cGXFxcXjvvfcAAKdPn8bevXtxzz33tKt+V1q4cKHsEnTBOY1FVs6d+QQCEB+szYt9fLBA3jXg1GVNPl2TPL6ByFC3m7/++ut47rnnMHr0aBw6dKj2VFTD5zV8+4MPPsCBAwcwbNgwxMXFYfXq1QCAN954A7NmzcKoUaNw6NChelfyr1u3DikpKRg5ciQeeeQRrF27FiEhIa6K2W7x8fGyS9AF5zQWWTm356sYHgj066RNA7m3r4CPUn0ay1UENXUeRYLMzEyMGjUKGRkZtduWNPUYax1/3xjzLCoR+q234YkoBcvHareH1aTPbejqC3wS33i2QovXCT4CYYwxybJKgcIKYGqItnMVU4IFvjpPqGrPSqMWcANhLtNwOwej4pzGIiPn9nMqOpmBu4K0bSDxIQJXq4BvL3EDYR4mOTlZdgm64JzGIiPntnzC5H4CHUzaNpDYHgKBHYAd+dxAmIfZsGGD7BJ0wTmNRe+cVysJaRep3VefN8WkCPy4n8DOAtc0EI+4DuTYsWOyS/Ao/P1izHP88zzBRsDUNm7f3pr4EAVPpdlRdpPQvYO2TcqtG0jPnj3h7++Pxx57THYpHsff3x89e/aUXQZjrBXb8wkDuwID2nlNWnOmBAuoBHx1njAz0osaSFhYGI4dO9Zof3/Wup49e0q9nS1jrHVEhC/Oqbg/zHWzCeFdBKK7ATsLCDMjtf3cbt1AgOomYrQXwsTExNoryo2McxoL59TeqctA7jXtl+82NCVYwRfnVADa3iedJ9El4Ct6jYVzGoueObflq/BVgIn9XNtA4kMEcq4C2Ve0nUznBiJBzXbtRsc5jYVzam97PuHuIIHOPq5tIBP7CpgEsDNf221NuIEwxpgEN2yEr867ZvluQ119Bcb31n45LzcQxhiTYM9FQoXddct3G5oSIvDleYJNw21NuIFIkJaWJrsEXXBOY+Gc2tqeT+jnDwzrrsuXw5RggcuVwMEibiAebcWKFbJL0AXnNBbOqa1t+SqmhQjdbhQ3ppdAN19oehqLG4gEKSkpskvQBec0Fs6pnXPXCEfK9Dt9BQBmRWByP6HpvljcQCTw9/eXXYIuOKexcE7tbM8nKAK4T6O7DzoqPljgm0uEK5XaNBFuIIwxprPt+SrG9hII9NO3gUwJUWAj4F8XuIEwxpjHsamEnQXk8qvPmzKgq0D/LtX3X9cCNxAJFi9eLLsEXXBOY+Gc2vj2EuFyJXS5/qMpU4IVze6Tzg1EAqPt7dUczmksnFMb2/MJgR2A0T3lNJD4EIGTl4EL19t/FCKIyDV3GnGSFjd4Z4wxd3dnqg0DugLJk+XsZVt+k9DjQxv+s/sh/L+fjGnXay4fgTDGmE6KKggHi0jX5bsNBXQQuLOXwLdF7T+NxQ2EMcZ0srOAQHD99u2tmRIs8O2l9n8ebiASHD9+XHYJuuCcxsI52297vooRgUBff7kNJD5E4Epl+z8PNxAJlixZIrsEXXBOY+Gc7UNE2J4v9/RVjbv6CPxxTPvrkJ/EC61atUp2CbrgnMbCOdvn3HWgsAKYECT36AMAhBCID+UG4pF4OaSxcE5jcVXOrJLqBa8jeshvIFrhBsIYYzo4XEbo5guEdpJdiXa4gTDGmA6ySgnDuuu3fbseuIFIsHz5ctkl6IJzGgvnbJ/DpYThgcZpHgA3ECmsVqvsEnTBOY2Fc7bdTTvhRDlwR6Dmn1oq3sqEMcZc7FAJYeQWG9IeMOGuIPf4u12L11z3SMIYYwZ2uLT67/RhfAqLMcaYM7JKCeGdgW6+3EBYOxUXF8suQRec01g4Z9sdLiXcYbCjD4AbiBRJSUmyS9AF5zQWztl2WQZcgQVwA5Fi2bJlskvQBec0Fs7ZNiU3COet4CMQpg1vWWXGOY2Fc7ZNzQQ6H4EwxhhzyuFSgq8CRHWTXYn2uIEwxpgLHS4jDOkO+Ch8BMI0sHbtWtkl6IJzGgvnbJusUuCO7sZrHgA3ECkyMzNll6ALzmksnNN5KhF+MOgSXoC3MmGMMZfJvkIYuMGGbdNMmKrBDZy0xFuZMMaYG6tZgWXUIxBuIIwx5iJZpYQeHYC+/rIrcQ1uIIwx5iI1W5gY6SZSdXEDkcBiscguQRec01g4p/OMuoVJDW4gEixcuFB2CbrgnMbCOZ1jtRFOXzHu/AfADUSK+Ph42SXognMaC+d0ztEygkrAcIPdhbAubiCMMeYCh0sBAWCoQS8iBLiBMMaYSxwuJQzoCnTy4QbCNJSamiq7BF1wTmPhnM7JMvAV6DW4gUiQnJwsuwRdcE5j4ZzOOVxm7BVYADcQKTZs2CC7BF1wTmPhnI4rtBIuVRh7BRbADYQxxjR3uMy4N5GqixsIY4xpLKuE0NEE9O8iuxLX4gbCGGMaO1xGGNpdwGTAm0jVxQ1EgsTERNkl6IJzGgvndFz1FiYaFOPmuIFIwFf0GgvnNJb25rSrhKNlxp9AB7iBSDFv3jzZJeiCcxoL53TM6SvADbvxJ9ABbiCMMaapLIPfRKoubiCMMaahw6WEoI5Ar47cQJgLpKWlyS5BF5zTWDinY7xhC5Ma3EAkWLFihewSdME5jYVzOuawwW8iVRc3EAlSUlJkl6ALzmksnLN1VysJOVe9Y/4D4AYihb+/v+wSdME5jYVztu6Il2xhUoMbCGOMaSSrFDAJYHCA7Er0wQ2EMcY0criUEN0N8DPzEQhzkcWLF8suQRec01g4Z+u8aQUWwA1EirCwMNkl6IJzGgvnbBkR4XAZ4Q4D3wO9IUFEJLsIAMjMzMSoUaOQkZGBuLg42eUwxphTCq4TQj6y4ZN4Eyzh7v+3uRavue6fkjHGPEDtFiZedATiUAN5/vnnERkZCUVRkJWVVft4UVEREhISEB0djeHDh2PPnj2176uoqMD8+fMRFRWFQYMG4eOPP9a+esYYcxOHSwldfIBwg99Eqi6HGsjs2bOxd+9eRERE1Hv8xRdfxPjx43Hy5Em8++67mD9/Pux2OwBg5cqV8PPzw6lTp7Bt2zY8/fTTKCsr0zyAJzp+/LjsEnTBOY2Fc7Ysq5QwrLuAIvgIpJ4JEyagX79+aDhdsnHjRixYsAAAMHr0aAQHB2P37t0Aqm9MX/O+iIgITJo0CVu3btWydo+1ZMkS2SXognMaC+dsmTdtYVKjzXMgpaWlsNls6N27d+1j4eHhyMvLAwDk5eUhPDy8yfd5u1WrVskuQRec01g4Z/OqVMKxcuAOL7gLYV08iS4BL4c0Fs5pLG3JeaIcqFK9ZwuTGm1uIIGBgTCbzbh06VLtY7m5ubXf/PDwcJw9e7bJ97Vk+vTpsFgs9f6NHz8eqamp9Z63Y8cOWCyWRh//zDPPYO3atfUey8zMhMViQXFxcb3Hly5diuXLl9d7LC8vDxaLpdF50LfeeqvRBUZWqxUWi6XR9s/JyclN3ld5zpw5nINzcA4D5qhZgTUsULhljuTkZMyYMQNBQUGYMGECLBYLFi1a1Kgep5ETIiIi6NChQ7VvJyYm0rJly4iIKD09nUJCQshmsxER0bJlyygxMZGIiHJycqhPnz5UUlLS7OfOyMggAJSRkeFMSYwxJt2L39oodH2l7DKcosVrrkNHIAsWLEBoaCgKCgowdepUREdHAwBeffVV7Nu3D9HR0UhKSsL69ethMpkAVG8HYLVaMXDgQCQkJGD16tUIDPSyE4TNaPhXhFFxTmPhnM077GVbmNQwO/KkNWvWNPl47969sX379ibf5+/v7zX3D3CW1WqVXYIuOKexcM7mZZUSHh3ofVPKvJUJY4y1Q/lNQvcPbFg/yYT5HtREeCsTxhiT7HCpd91Eqi5uIIwx1g6Hywg+ChDjJTeRqosbiAQNl+cZFec0Fs7ZtKwSYFAA4KPwEQjTQVJSkuwSdME5jYVzNu1wmfdtYVKDG4gEy5Ytk12CLjinsXDOxoioegmvF23hXhc3EAm8ZZUZ5zQWztnY2WvA1SpgeA9uIIwxxpzgjTeRqosbCGOMtdHhUkL3DkBwJ9mVyMENRIKGm6cZFec0Fs7Z2A9l1fMfwotuIlUXNxAJMjMzZZegC85pLJyzsSNlhKFeevoK4K1MGGOsTWwqodN7Nrw2TsHCoSbZ5TiNtzJhjDFJcq4AlSowJMB7j0C4gTDGWBscLa8+eTPEi09hcQNhjLE2OFpWvQKrT0fZlcjDDUSCpm5taUSc01g4Z31HyghDA7x3BRbADUSKhQsXyi5BF5zTWDhnfUfLyatPXwHcQKSIj4+XXYIuOKexcM7b7CrheDkwpLsOBbkxbiCMMeak3GvADbt3r8ACuIEwpqvMYqq9gx3zXEfLeAUWwA1EitTUVNkl6IJz3qYS4b8z7Ri11YbhH9sweqsNq4/YUXrDc5oJj+dtR8oI3XyBfv46FOTGuIFIkJycLLsEXXDOaterCHO+tGNphor/HqUgdYoJIZ2ARftV9F1vw9wvbdh+ToVdde9mwuN529EywhAvX4EF8FYmjLnU2auEB3fYcPoK8OFEEx6OvP03W6GVsO60ivdOqjhSBoR0Ah6PUpAYrWBgN+9+YXJ3o7faMLIH8L/3mGWX0ma8lQljbmzPBRVjUm24XAnsf9Bcr3kAQB9/gV8PN+HwLDPSHzLh/jAFq4+qiNpowz2f2fDeCRXXqtzi7ztWh0qEY+Xk9RPoADcQxlzib8dV/PgfdgzpLnDgYTPuaOGe2UIIjOml4O0JJlx41Iz1k0zoYAJ+/rUdoR/ZcLKcm4g7ybsGWG08gQ5wA2FMU1Uq4dm9dvzbHjuejFGwc7oJPf0cf6HpaBaYP1DBzulmnJlrRjdf4Dff2l1YMXMWr8C6jRuIBImJibJL0IW35Sy5QZj6DzvWHFPxl7sU/GWCCT5K219kwrsILL/ThM/yCF8WqFqV22beNp7NOVJG6OwDhHrpXQjr4gYiAV/Rayzx8fH4oZQwJtWGrFLCrhkm/PsQbe4P8Uh/gR/1EfjVN3bpq7S8aTxbcrScV2DV4AYiwbx582SXoAtvyek/fg7Gf2pDZx/gwENm3NtXu18rIQT+NE5BVinw7km5DcRbxrO1nEfLeAuTGtxAGGuHD0+peGinHVOCBfZZzIjsqv1fpXf2VvDoQIGXDtpxpZIn1GUiotojEMYNhLE2O3+d8Ow+Ox4dKLD5PhM6+7juReWPY0y4Wgn88Xv5cyHeLP86cK2KJ9BrcAORIC0tTXYJujB6zmf32dHBBMxXDkBx8fnw0M4Ci0co+NMPKnKvyjkKMfp41mgp55FbK7CGcgMBwA1EihUrVsguQRdGzrnljIotuYS3xpuw5rU/6vI1lwxX0KMD8EK6nGW9Rh7PulrKebSM4G8GwjrrWJAb4wYiQUpKiuwSdGHUnOU3CQv32fFAmMDs/kK3nJ18BF4ZY8LGHMLei/qfyjLqeDbUUs6j5YTBAcLlR5yeghuIBP7+3rGFp1FzvpCu4loV8Je7TBBC6Jrzp1ECo3oKLNqvQtV5GzujjmdDLeU8WgYMCdCxGDfHDYQxJ+y+oOKd4ypevVNBSGf9/wpVbi3rPVhMWH+aV2TpqXYFFs9/1OIGwpiDbtgIv/jajh/1EVgwWN6vzt19FcyKFPiPA3Zc580WdXPeClyu5An0uriBSLB48WLZJejCaDlf/k5F7jXgb3eb6p0Dl5FzxZ0mFFUAK7P0mwsx2ng2p7mcvAdWY9xAJAgLC5Ndgi6MlPNQCWHFIRW/Hak0egGRkbN/V4HnhylYkaWi4Lo+RyFGGs+WNJfzaDnBzwRE8AqsWnxDKcZaYVcJ4z6xw2ojZM40o4PJPf4CvVxJiNpgQ0KowN8neu6NjTzFU3vsSC9S8d1MH9mlaIJvKMWYDv58REVGMeF/7zG5TfMAgG6+Ai+PVvDBKcLBIr5C3dVqbmPLbuMGwlgLzlwhvHRQxTNDFIzv436/Lj+PUTCsO/DL/Src5GSCIRERjpQTT6A34H6/EV7g+PHjskvQhafnJCIsSLMjsAPwypjmf1Vk5jQrAq+PMyGtkPDxGdc2EE8fT0c1lbOwAii7yRPoDXEDkWDJkiWyS9CFp+dcd5qwo4Dw9l0mdPFt/oVDds4pIQpmhAosSbfjhs11TUR2Tr00lbN2BRafwqqHG4gEq1atkl2CLjw5Z1EF4Zf77Zg7QOD+8JZ/Tdwh58pxJpy7Vj1f4yrukFMPTeU8Wk7wVYD+XSUU5Ma4gUjg7cshPcEvv7GDALw5vvU7C7pDzkEBAj+PUfDGD6rL7lzoDjn10FTOo2VATED1KUN2GzcQxhr44pyK9acJr48zoXdHz3nBeCJa4IIVSCvkyXSt8U2kmsYNhLE6rldVT5zfFyzweJRnvWCM6y0Q1hnYkM0NRGtHyngFVlO4gUiwfPly2SXowhNzrshScdEKrJlQvdOuI9wlpxACj/RXsPmMCpsLTmO5S05Xa5izqIJQfINXYDWFG4gEVqtVdgm68LScedeqtyv55R0KBjhxb3N3yjmnv0DRDeBfF7RvIO6U05Ua5jxaziuwmsNbmTB2y/x/2vDP84STj5jRtYVlu+6MiDBwgw2T+wn87R7e3kQLbx+147l9KqxJZvgYaBKdtzJhTCP7ClUkZxP+MNrksc0DqD6NNWeAgi25hCoXrcbyNkfLgOhuMFTz0Ao3EOb1VCL8cr+KkT2An0V7/ovEnP4KSm8Cuwq4gWiBJ9Cbxw1EguLiYtkl6MJTcq4/TUgvIrwx3gRTG/7KdLecwwOBmG5ASra2FxW6W05XaZiT70LYPG4gEiQlJckuQReekPN6FeHFdDtmRQrc27dtvw7ullMIgbkDFKTmkqZbm7hbTlepm7PkBqGwgifQm8MNRIJly5bJLkEXnpBzRZaK4hvA/9zZ+hXnzXHHnHP6K7hSBWzP166BuGNOV6ib81g534WwJdxAJPCWVWbunrNm2e6v7lAQ6cSy3YbcMefg7gJ3BAIbcrQ7jeWOOV2hbs6jZYBJAFHdJBbkxriBMK/1Yrod3XyB/xxpzF+DOf0VfHqWYHXhDr1Gd7ScENUNbnUjMXdizN8cxlpRs2z3lTEtb9Xuyeb0V3DdBvwjjxtIWx3huxC2iBuIBGvXrpVdgi7cNadKhEX7VcT2AJ7QYL8rd805sJtAXE/tTmO5a06t1c15tIxXYLWEG4gEmZmZskvQhbvmXH+acKAdy3YbctecQPVRyP/lEa5Vtf8oxJ1zaqkmZ/lNwnkrr8BqCTcQCVavXi27BF24Y86aZbs/iRS4p43Ldhtyx5w1HumvoMIOfHa2/Q3EnXNqqSYnr8BqHTcQ5lWWH6petruiHct2PUlEF4GxvYWmq7G8xdEyQBHVF2WypnEDYV4j7xrhf7Lav2zX08zpL/DFOcLlSp5Md8aRMsKALoCf2Xt+VpzFDYR5DaMv223O7EgFlSrwSS43EGfwFiat867fJDdhsVhkl6ALd8rpymW77pSzKSGdBe4OEkhp52ksd8+plZqcvAKrddxAJFi4cKHsEnThLjnrLtt1xW677pKzJXP6C+zMJ5TcaPtRiCfk1MLChQtxpZJw7jqvwGoNNxAJ4uPjZZegC3fJWXfZruLgbWqd4S45W/KTSAUqgK3tOI3lCTm1EB8fj+O3VmDxNu4t4wbCDO1SBeHX39gxW8Nlu56oj7/AxL68GstRR8oAASAmQHYl7s17f6OY4RER/m2PHQCw6i7vWLbbkjn9FfzzPOFSBU+mt+ZoOSGyC+DPK7BaxA1EgtTUVNkl6EJ2zg9OET45S/jrBBN6d3TdC4HsnI6aGSkgAHx8pm1HIZ6Ss71SU1N5At1B3EAkSE5Oll2CLmTmPHuV8Nw+Ox6PEng40rU/5p4ynj39BO4LFtiQ07YjEE/J2V7JycnVDYQn0FvFDUSCDRs2yC5BF7JyqkRI3F19zceb411/6sqTxnNOfwVfXyCcv+58E/GknO3x7roU5F7jLUwcwQ2EGc5bR1R8dYHw3r0mBHTgF4G6HooQMCvA5jaexvIGx8ur/zu0u9w6PAE3EGYox8sJL6areG6ogh8H8493Q907CEwNaftpLG9wpKz6ezOIT2G1yiy7ACMiIty0A9dtwLWqmv9S7dudfYCorgLBnQDhgusSvFWVSvjpV3aEdQb+eCc3j+bM6a/gp/8FHrzRAAAeb0lEQVSyI+8aIawz//w1dLScEN4Z6OzD35vWcANxgl2tvjr19BXC6cuE01eq/z/vGuFaFXDNBly/9V/VgT/w/M3AwK5AdDeBqG4CUV0ForsBUd0Eevl5fnNJTEzEe++9p9vX++P3Kr4rIeyzmHRdfql3zvayhAv4mYCNOSp+M9zxOSJPy9lWH331HYaNGCm7DI/g8gZy+vRpPPHEEyguLkZAQADef/99DB482NVfts2qVMLZq7eaxJVbTeJy9f/nXAWqbp06NgkgsgswsKvAnb0UdPWtPrLoZK75r7j9/7fernn/+q2fI3rCDJy6TDh1BTh5mbDulIpz12/X0c23+iglJgCwhCnVv/QetiZdzyuXDxapeDlTxX+OVHBnb32PPjztCu2uvgLTQwU2ZBN+M9zxj/O0nG1V2WMAr8BykMsbyFNPPYUFCxbgpz/9KT7++GM88cQTSE9Pd/WXbdFNO+HM1duNoeZI4vQVQu5VwH7r6MFXAQZ0BQZ0FUgIVTCwa3XDGNhNIKwz4NPGu9n9+tEHmnzcaiNkXwFOXSacvEw4dZlwqBRYf9qOAF9g3gAFiTECo3sKjzg6mTdvni5fp8JGePxfdgzvAbwUq/+pK71yamlOfwVz/mlH9hXCAAe3tvfEnM6qsBEuUWfewsRBLm0gRUVFyMjIwM6dOwEAs2bNwsKFC5GTk4P+/fu75GvetBMKK4DCCkKhFSisAC5WEPJvnXo6dZmQdw2oOcPkZ0JtY3g44naTiOomEOwPTW556ih/s8AdgcAdgfW/5olywt9PqfjglIq3jwFDAoCfRSt4LEpBX3/+QX/poIqcq0DGQ2b4mvj74YgZYQIdTcCWMyoWj+Cr9GscL69+bRjCK7Ac4tIGcu7cOfTt2xeKcvuvwrCwMOTl5TXbQGwqoezmrTmFKuC67fb/X7PdfuxKJXDpVqO4WNMwKoDLlfU/nwDQww8I9q+eW5g3QLl1FFHdKPr6wyUb7GkpJkDglTEmvDxKwZfnCe+dVPG7DBUvHlAxLUQgMVrBA+ECHbzwxfNf51X86bCKlWMVDA30vvxt1clHYHK/6htNLR4huxr38V0JQYA3UXSU202ij021A9/ZWnyO/625hd5+QJB/9emkMb0U9OkI9Okoav8b5A/08gPMOh5FOCItLQ0TJkxw+uNMikB8iEB8iILym4QNOSreP0mY/aUd3TsA8wcoeHKQgpE93CNvW3M66kol4We77bg7SGDRHfJWXbk6p6skhAr88hsVVyoJXR24R4qn5nRGRjEhzLcCnX26yi7FI7j0ty40NBQXLlyAqt6+aCkvLw9hYWHNfkzX3W9g1MH/wdhvXsaP9v4W9+z+NUZumod3e+zC1Z+ZYX/SjOuJPviw91eI/GAWdk43Y90kM14bZ8KSESakv/ksCna8h9ieAn39BcyKQGZmJiwWC4qLi+t9raVLl2L58uX1HsvLy4PFYsHx48frPf7WW29h8eLF9R6zWq2wWCxIS0ur93hycjISExMbZZszZw5SU1OxYsWK2sd27NjR5I16nnnmGaxdu7beY3VzBHQQeGqwCfsfNOPpi29jRHk6tuaqiN1iw+xdNuw+VuDyHHU1lWPFihWt5qjL2fG468/foOQm8P691du0uyoH0PJ4vPzyy+3Kodd4NMyREKqgSgXe2ZPt0HisWLHCLXPU0OLn6v9+uICSzJ0en6PheCQnJ2PGjBkICgrChAkTYLFYsGjRokb1OI1cbNKkSfT+++8TEdGmTZtozJgxTT4vIyODAFBGRoarS5Lu+vXrLvm8NrtK75+wU+j6SjL/rZKeTrPRxeuqS76WI1yVk4jo01w74Z1K+t9jdpd9DUe5MqerxWyopF98XeXQcz05pyMq7Sr5ra2kFRkVskvRhRavuS4/7l+zZg3++te/IiYmBitWrPCKdeSt8ff3d8nnNSkCT0QrOPGIGa+MUfDRaRUDNtiwLMOOq5X6X3nsqpyFVsIv9thxf5hAUoz803WuyqmHhFAFX5wjELX+8+HJOR1xtAy4YQfG9/OVXYrHcHkDiY6Oxr59+3DixAmkp6dj6NChrv6SXq+jWWDxCBOy55jx70MUvHpIxcCNNvzlqB1Vjlzh6MZOlhPu+swGAeBvd5s8YjmzO0sIFci/Xn0DJW+XUVw9ge4uc4iegPd7MLBAP4H/GWvCyUfMSAgRWLhXxZBNNmzKUR36i9Pd7CtU8aNPbfBRgP0PmhHES5jb7Z4gAX8z8I9zvLliRjFhUABvYeIMbiASNJxsdLWwzgLvTzTj+5lmRHUTeORLO8Z9YsfuC6590dAy5+YcFZP/z46h3QX2WcyI6OI+v+R6j6eW/My3l/O2xpNzOiKjmDC6pzB8Ti1xA5GgpVVorjS8h8A/ppnxzxkmEICJn9sxfZsNh0pcczSiRU4iwutZdjzypR0zIwR2TDehu5tt0S5rPLWSECqQdpFwpZV5Mk/P2ZIqlfB9CWFUL2HonFrjBiLBs88+K/XrT+qn4NsHTdgw2YTTlwmxW2x49J825FzRtpG0N6ddJTy3T8Wvv1Xx4kgF6yaZ3PJiSdnj2V4JIQpsBOwqaHn8PT1nS46WATftwKiewtA5tcYNxEsJIfDIAAVHZpuxZoIJX10gxGy0YeFeOwqt8udHrDbCrF12/OWYijUTFLwyxuT2OwZ4qsiuAoMCgC+8eB6EJ9DbhhuIl/NRBP5tsILTc8z4f6MVrL+19Pd3B+24LGHpLwBcqiBM+tyOXQWEz+JNeGow79XkagkhCr7Id2w5rxFlFBMG8wS607iBSNDwqlF34G8WeGGkCTlzzVg4VMHKLBX9U2x4LcuOG7a2vai0JeeJcsK4T2zIu0b4+gEzpoe5/4+oO46nsxJCBQquA4dLm3+OEXI252ARYVTP6uZh5Jxac//fTgNasmSJ7BKa1b2DwKt3mnB6jhmzIxW8kK4iaqMN755QYXPyGhJnc6ZdrF6m29EEfPOgGXE9PeOvQXceT0fd07d6OW9Lp7GMkLMpVSrhUGn1BDpg3JyuwA1EglWrVskuoVXBnQTW3G3C0Z+Y8aM+Aj//2o6hm2146YAdX19QUWlvvZk4mvNqJeHdEyru+4cdwwMF9lrMCHejZbqt8YTxbE0Hk8CP+wl8kd/8uBohZ1PqTqADxs3pCm63G6838KRlgtEBAht+bMaS4YTXDtux5piKP3xfvRvyxL4C8cHVuwNHd2t8C97mchZcJ+y9SEgrJOwtVPF9SfUtgB8bKPC/97jnSquWeNJ4tiQhVOC5fSouVxK6NbE7r1FyNpRRTFDE7Ql0o+Z0BW4gzCGjegl8NNkMlQjfFQM7ClTszCf8+lsVVftVhHUGpgQLxAcr+HGwQA+/6l9Gu0o4UgbsLVSxt5CQdpFw9lr15xzQFZjQR2DBYAUT+lSvBOKtSeRJCFVgIxW7CgizIr1nHA4WEQZ14wn0tuAGwpyiCIFRvYBRvUz4j5HA9SrC7guEHQWEnfkq1p6wQwAY3UugRwdg/yXC5UrALIC4ngIzIxRMCBL4UR/BW5G4mYguAoNvLeedFek9Z7czim9PoDPneM9PiRtpuKe/J+vkIzA9TMEb4004MtsH5+aZsfYeEwZ0Bc7k5OA3dyj4aoYJl39mxrcPmfH6eBNmRiqGah5GGs+Wduc1Us4aDSfQAWPmdBVuIBJYrVbZJbhMSGeBxBgFyZPNmHNpPV6KM2FiPwX+ZuM0jIaMNJ7TQwXOW4GsJpbzGilnjZoJ9NF1jkCMmNNVBLnJlUOZmZkYNWoUMjIyEBcXJ7scxrzSTTuhxwc2vBSr4MWRxr+Ac+1xFf+WZseVJ8zo5GVzIFq85vIRCGOsVgeTwI+DHdud1wgyiqsn0L2teWiFGwhjrJ6EEIG9hYTym8ZvIjyB3j7cQCQoLi6WXYIuOKdnSghVYG9id16j5ayZQB/dq34DMVpOV+IGIkFSUpLsEnTBOT1TeBeBIU3szmu0nEcaXIFew2g5XYkbiATLli2TXYIuOKfnSghtvDuv0XJmFNW/Ar2G0XK6EjcQCbxllRnn9FzTQwUuWIFDdZbzGi1ncxPoRsvpStxAGGONTAgS6Oxj7JtMZRQ3nv9gzuEGwhhrxLdmd16DLuetvQKdV2C1CzcQCdauXSu7BF1wTs82PVTBvjrLeY2Us7kJdMBYOV2NG4gEmZmZskvQBef0bAmhAnYCdt5azmuknM1NoAPGyulq3EAkWL16tewSdME5PVtoZ4Gh3W/PgxgpZ8090Ju6At1IOV2NGwhjrFnTb+3Oq7rHlnmaOchXoGuCGwhjrFkJoQIXK4BDJbIr0U6VSsjiCXRNcANhjDXrrj7GW87b0gQ6cw43EAksFovsEnTBOT2fr0ngvn4C/zhHhsnZ0gQ6YOzx1Bo3EAkWLlwouwRdcE5jmB6mYP8lwhP/vkh2KZo42MIEOmD88dQSNxAJ4uPjZZegC85pDAkhAioB9uiJskvRRGtbuBt9PLXEDYQx1qKQzgLDugNf5Hv+PAhPoGuLGwhjrFVGWc7LE+ja4gYiQWpqquwSdME5jeP+MIHCCiD9kmc3kIOtTKAD3jGeWuEGIkFycrLsEnTBOY3jR30EOty8jC25nt1AWroCvYY3jKdWuIFIsGHDBtkl6IJzGodJEXhiRHdsyVXr3WTK0zhyD3RvGE+tcANhjDlkZoRA9hXgcGnrz3VHlXaeQNcaNxDGmEMm9RPo5gtsyfXM1Vg1E+h8EyntcANhjDnE1yTwQJjw2AaSUdz6BDpzDjcQCRITE2WXoAvOaSyJiYmYGaHgcClw6rLnzYPUTKD7m1tuIN4ynlrgBiKBt1zpyjmNJT4+HlNDBTqagK0eeBTiyAQ64D3jqQVuIBLMmzdPdgm64JzGMm/ePPibBRJCBT4+41lHIJV2wqESwmgHGoi3jKcWuIEwxpwyM1JBehHh3DXPaSJHyoBKFRjFE+ia4gbCGHPK/WECPgqQ6kGnsXgC3TW4gUiQlpYmuwRdcE5jqcnZzVfgvmDhUVelOzqBDnjPeGqBG4gEK1askF2CLjinsdTNOTNCwdcXCUUVntFEDhY5Nv8BeM94aoEbiAQpKSmyS9AF5zSWujkt4dUvxp+edf8G4uwV6N4ynlrgBiKBv7+/7BJ0wTmNpW7O3h0F7g7yjIsKnZ1A95bx1AI3EMZYm8yMENhVQLhc6d5HITyB7jrcQBhjbfJwhIJKFfhHnns3kINFhCEOTqAz53ADkWDx4sWyS9AF5zSWhjlDOwuM6eX+p7EOOngFeg1vGU8tcAORICwsTHYJuuCcxtJUzpkRAv84R6iwuedRSMF1QmYxYWI/x1/qvGU8tcANRIJnn31Wdgm64JzG0lTOmREKrDZgR757NpCNOSp8FOChcMePQLxlPLXADYQx1mbRAQJDuwMfn3HP01gp2YTpoQIBHXj+wxW4gTDG2mVmhILP8giVdvc6Csm+QkgvIswdwC9zrsLfWQmOHz8uuwRdcE5jaS7nzEgF5ZXAvy64VwNJyVbRyQw84MTpK8B7xlML3EAkWLJkiewSdME5jaW5nCMCgcguwBY32+I9JVvFg+HC6eW73jKeWuAGIsGqVatkl6ALzmkszeUUQmBWpILUsyrsqns0kR9KCT+UoU2nr7xlPLXADUQCb1kmyDmNpaWcMyMECiuA/Zfco4GkZKsI8AWmhjg/ee4t46kFbiCMsXYb21ugr797nMYiIiRnq5gVKeBr4tVXrsQNhDHWbooQeDhCwZZcFURym8jBYkLOVWAer75yOf4OS7B8+XLZJeiCcxpLazlnRgicvQZ8V6JTQc1IPk3o0xGY2LdtRx/eMp5a4AYigdVqlV2CLjinsbSW856+AoEdgC0SLypUibAhR8Uj/RWYlLY1EG8ZTy0Ikn28eUtmZiZGjRqFjIwMxMXFyS6HMdYGibtt+PYS4ehsHylff/cFFRM/t2OvxYQf9eG/j1uixWsuf4cZY5qZGaHgWDlwrEzO36XJpwnhnYHxvXnyXA/cQBhjmpkSLNDJDClbvFephM1nVMwdoEAIbiB64AYiQXFxsewSdME5jcWRnH5mgRlhcu4RsquAUHKzbRcP1uUt46kFbiASJCUlyS5BF5zTWBzNOTNCQWYxkHtV39NYKdkqBgVUb63SHt4ynlrgBiLBsmXLZJegC85pLI7mnB4q4KvouxqrwkbYmkuY27/9p6+8ZTy1wA1EAm9ZZcY5jcXRnF18BR4IF1h1VMUNne5U+MU5wtWq9p++ArxnPLXADYQxprk/jDbh3DXgjR/0OQpJzlYR2wOICeDJcz1xA2GMaS4mQGDhUAV/+F7FBatrj0KuVhI+zyPeukQC/o5LsHbtWtkl6IJzGouzOf8rTkEHBfjtAbuLKqr2yVnCDTswR6MG4i3jqQVuIBJkZmbKLkEXnNNYnM3ZvYPAf49W8P5JQkaR645CUrJV3NVHIKyzNqevvGU8tcBbmTDGXMamEmK32NDNV2DPAybNL/AruUEIWmfDn8YrWDjUpOnnNjreyoQx5tbMisCfxpuwt5CwMUf7v1U/PkNQAcyO5JcyGVr9rj///POIjIyEoijIysqq976ioiIkJCQgOjoaw4cPx549e2rfV1FRgfnz5yMqKgqDBg3Cxx9/rH31jDG3d1+wAku4wJJ0Oyo0Xtabkq3ix/0E+vjz6isZWm0gs2fPxt69exEREdHofS+++CLGjx+PkydP4t1338X8+fNht1dPmK1cuRJ+fn44deoUtm3bhqeffhplZWWaB2CMub+VY024YAVWZmm3rPf8dcK/LpAm136wtmn1Oz9hwgT069evybuMbdy4EQsWLAAAjB49GsHBwdi9ezcAYMOGDbXvi4iIwKRJk7B161Yta/dYFotFdgm64JzG0p6cUd0Enh+m4NVDKgqua3MUsumMCrNSfSMrLXnLeGqhza27tLQUNpsNvXv3rn0sPDwceXl5AIC8vDyEh4c3+T5vt3DhQtkl6IJzGkt7c74Uq6CTGXgxXZtlvcnZhIRQgYAO2jYQbxlPLfCxnwTx8fGyS9AF5zSW9ubs5ivwhzEmrDtN+KawfaeyzlwhfHvJNRcPest4aqHRd//DDz9EbGws4uLi8Pe//73ZDwwMDITZbMalS5dqH8vNzUVYWBiA6iOOs2fPNvm+lkyfPh0Wi6Xev/HjxyM1NbXe83bs2NHkoeYzzzzT6EKgzMxMWCyWRts0L126tNH9j/Py8mCxWHD8+PF6j7/11ltYvHhxvcesVissFgvS0tLqPZ6cnIzExMRGtc2ZM4dzcA6vzpEULRCulOOB9aegNjgt7kyOeX9KhS+q8EDY7aMPHo/mcyQnJ2PGjBkICgrChAkTYLFYsGjRokb1OI0cFBERQYcOHar3WGJiIi1btoyIiNLT0ykkJIRsNhsRES1btowSExOJiCgnJ4f69OlDJSUlzX7+jIwMAkAZGRmOlsQY80D/Om8nvFNJ607Z2/w5hm+upLlfVmlYlffR4jW31eO/BQsWIDQ0FAUFBZg6dSqio6Nr3/fqq69i3759iI6ORlJSEtavXw+TqfpinsWLF8NqtWLgwIFISEjA6tWrERjYzo36DaLhXydGxTmNRauc9/ZVMCtS4IV0O65XOT+hfrSMkFUKzO3vmjPw3jKemtCwobWLNx2BjBs3TnYJuuCcxqJlzpzLKnVYW0n/ddDm8MeUVKi04nsbhX9USYF/r6QbNlWzeurylvHU5QiEaa9Xr16yS9AF5zQWLXNGdhX41R0KVhxSkXet5aOQQyWEJ7+2IfgjG146qOLevgL/ut+MDibXXDzoLeOpBbPsAhhj3uk/Rih474SKF9LtSJ5c/6WoSiVsPUNYdVTFnouEkE7A72IVPDlIQe+OfNW5u+AGwhiToouvwB/vNCFxtx0Lh6i4K0hBoZXwznEVa46pOG8F7u0rsPk+Ex4MFzAr3DjcDTcQxpg0j0cJrDoi8MxeO4YFqtiYQ/BRgMcGKlg4VMEdgdw03JnbNJCKigoAwLFjxyRX4nrp6elecc8Bzmksrsr5dCcVP/9aRXEnYGF/AUu4gq6+AlW5QGau5l+uVd4ynjWvtTWvvW2i4aR+u6xbt44A8D/+x//4H//T8d+6deva/LrtNjeUKi4uxvbt2xEREYGOHTvKLocxxgytoqICubm5mDp1Knr27Nmmz+E2DYQxxphn4etAGGOMtQk3EMYYY22iewM5ffo07rrrLsTExGDs2LHNrrr6/PPPMXjwYMTExOAnP/kJrl27pnOlbXfz5k08/PDDGDRoEGJjYzF16lRkZ2c3et7Zs2dhNpsRFxdXuwPymTNnJFTcdhERERg8eHBt/Zs2bWryeZ48nqWlpbX54uLiEBMTA19fX5SXl9d7nieOZ3O3rG7pdtUNffvttxg5ciQGDRqE++67DxcuXNCjdKc0lzMpKQkxMTGIjY3F3XffjYMHDzb7ORRFwYgRI2rHdu/evXqU7pTmck6cOBH9+/ev/Rl+8803m/0cTo2nRouoHDZ58mT64IMPiIho8+bNNGbMmEbPuXbtGvXp04dOnjxJREQLFy6kxYsX61pne9y4cYO++OKL2rdXrVpFEydObPS83Nxc6t69u56laS4yMpKysrJafI6nj2dDK1euJIvF0uhxTxzPPXv2UEFBAUVGRtbbbTspKYl+//vfExHRgQMH6u20XZeqqjRw4EDavXs3EVV/b2bPnq1P8U5oLudnn31Gdnv1rsCff/45RURENPs5FEWhK1euuLzW9mgu58SJE+nTTz9t9eOdHU9dG8ilS5eoW7dutQNGRBQUFETZ2dn1nrdp0yZKSEioffvo0aMUEhKiW51aO3jwIEVGRjZ6PDc3lwICAiRUpJ2mtvlvyGjjOXjw4CZ/GT15PBuOY+fOnamwsLD27bFjx9KXX37Z6OMOHDhAgwcPrn376tWr5OfnRzdv3nRtwW3U0s9rcXEx+fr61nt9qksIQZcvX3ZleZppmHPixImUmpra6sc5O566nsI6d+4c+vbtC0W5/WXDwsIa3eq24e1wIyIicPHiRahq++5iJsubb76Jhx56qMn3Wa1WjBkzBqNHj8bLL7/c5L3n3d1Pf/pTjBgxAr/4xS8a3QQHMNZ47tu3D+Xl5ZgxY0aT7zfCeLZ2u+q6Go5t586d0a1bN5w/f16XWrX0xhtvYPr06fVen+oSQmDSpEmIjY3Fb37zG1itVp0rbJ8XXngBI0aMwLx585o9tersePIkuou98soryM7OxiuvvNLoff369UNBQQEOHDiAXbt2Yc+ePXjttdckVNl2e/bswaFDh5CZmYkePXrgiSeekF2SS7377rt4/PHHm3yRMcJ4asETm+a6deuwefNmvPPOO80+5+zZs8jIyMC+fftw6dKlRncudGfr1q3D8ePHcejQIUyYMAH333+/wx/b0njq2kBCQ0Nx4cKFen955uXlNbrVbVhYGHJzc2vfPnPmTKMjF0+wcuVKpKamYtu2bfDz82v0fh8fn9oLeAICApCUlNTiZKU7CgkJAQCYTCYsWrSo0W0/AeOM5/Xr17Fx40YkJSU1+X4jjCfQ+u2q62o4tteuXcOVK1fQr18/PUrVxIYNG/Dyyy9j165dLW7lXvOz3rFjRzz99NNN/qy7q+Dg4Nr/f+aZZ5CTk4OysrJGz3N2PHX9De7Vqxfi4uLw4YcfAgA2b96M0NBQ9O/fv97zpk2bhu+++w4nT54EALz99tuYO3eunqW22+uvv46UlBTs3LkTXbp0afI5RUVFsNlsAKpXbm3ZsgWxsbF6ltkuVqsVly9frn37o48+arJ+I4wnAKSkpGDkyJH17spZl6ePZ12zZ8/G22+/DQA4cOAAzp8/j3vvvbfR80aNGgWbzYbdu3cDANasWYMHHngAvr6+utbbVhs3bsTvfvc77Nq1q96LbEPl5eW1e0apqooNGzZ4zNja7fZ6fwx8/PHHCAoKQvfu3Rs91+nxbN9UjfNOnDhB48ePp+joaBozZgwdOXKEiIj+67/+i/7617/WPu+zzz6jQYMGUVRUFD388MNuv/qhrvz8fBJC0MCBAyk2NpZGjhxZe5ezujm3bNlCw4YNo5EjR9KwYcPoueeeo8rKSpmlOyUnJ4diY2NpxIgRNHz4cHrooYfo7NmzRGSs8axx11130d///vd6j3n6eD711FMUEhJCPj4+FBQURFFRUUREVFhYSPHx8RQVFUXDhg2rXZVDRLRmzRpaunRp7dvffPMNDR8+nGJiYmjSpEmUn5+vd4xWNZfTx8eHwsLCan9PY2NjqbS0lIjq59y/fz8NHz68dmwff/xxKisrkxWnWU3ltFqtNHr0aBo+fDiNGDGC7rvvvnorJ9sznryVCWOMsTbxrJPQjDHG3AY3EMYYY23CDYQxxlibcANhjDHWJtxAGGOMtcn/B5qFOY9EZl+SAAAAAElFTkSuQmCC\" />"
      ]
     },
     "execution_count": 128,
     "metadata": {},
     "output_type": "execute_result"
    }
   ],
   "source": [
    "using Plots\n",
    "pyplot()\n",
    "\n",
    "plot(f, 0:0.5:15, label = \"funcao\", size = (400, 300))"
   ]
  },
  {
   "cell_type": "code",
   "execution_count": 129,
   "metadata": {
    "collapsed": false
   },
   "outputs": [],
   "source": [
    "# Vetor de valores iniciais (xi)\n",
    "v = [0.0, 2.0, 6.0, 9.0, 13.0]\n",
    "\n",
    "# Dataframe que vai receber as raízes calculadas de tamanho 5. \n",
    "# O tipo dos dados são Array de Float64\n",
    "\n",
    "Resultado1 = DataFrame(Valor_X = rand(5), Raiz = rand(5));"
   ]
  },
  {
   "cell_type": "code",
   "execution_count": 130,
   "metadata": {
    "collapsed": false
   },
   "outputs": [],
   "source": [
    "# laço for adiciona o valor de \"x\" na primeira coluna 1\n",
    "# e a raiz na coluna 2\n",
    "\n",
    "for i = 1:length(v)\n",
    "    #Dados da primeira coluna do Dataframe\n",
    "    Resultado1[1][i] = v[i]\n",
    "    \n",
    "    #Dados da segunda coluna do Dataframe\n",
    "    Resultado1[2][i] = nsolve(f(x), v[i])\n",
    "end"
   ]
  },
  {
   "cell_type": "code",
   "execution_count": 131,
   "metadata": {
    "collapsed": false,
    "scrolled": true
   },
   "outputs": [
    {
     "data": {
      "text/html": [
       "<table class=\"data-frame\"><tr><th></th><th>Valor_X</th><th>Raiz</th></tr><tr><th>1</th><td>0.0</td><td>0.0</td></tr><tr><th>2</th><td>2.0</td><td>0.0</td></tr><tr><th>3</th><td>6.0</td><td>6.119024225042324</td></tr><tr><th>4</th><td>9.0</td><td>9.529904336449029</td></tr><tr><th>5</th><td>13.0</td><td>12.486196308339682</td></tr></table>"
      ],
      "text/plain": [
       "5×2 DataFrames.DataFrame\n",
       "│ Row │ Valor_X │ Raiz    │\n",
       "├─────┼─────────┼─────────┤\n",
       "│ 1   │ 0.0     │ 0.0     │\n",
       "│ 2   │ 2.0     │ 0.0     │\n",
       "│ 3   │ 6.0     │ 6.11902 │\n",
       "│ 4   │ 9.0     │ 9.5299  │\n",
       "│ 5   │ 13.0    │ 12.4862 │"
      ]
     },
     "execution_count": 131,
     "metadata": {},
     "output_type": "execute_result"
    }
   ],
   "source": [
    "Resultado1"
   ]
  },
  {
   "cell_type": "markdown",
   "metadata": {},
   "source": [
    "**Outra forma `Like a Python`**\n",
    "\n",
    "Criar um DataFrame vazio e um laço `for` vai adicionando ao final tal como um vetor."
   ]
  },
  {
   "cell_type": "code",
   "execution_count": 132,
   "metadata": {
    "collapsed": false,
    "scrolled": true
   },
   "outputs": [
    {
     "data": {
      "text/html": [
       "<table class=\"data-frame\"><tr><th></th><th>Valor_X</th><th>Raiz</th></tr></table>"
      ],
      "text/plain": [
       "0×2 DataFrames.DataFrame\n"
      ]
     },
     "execution_count": 132,
     "metadata": {},
     "output_type": "execute_result"
    }
   ],
   "source": [
    "# = Float64[] siginifica vetor vazio do tipo Float64\n",
    "\n",
    "Resultado2 = DataFrame(Valor_X = Float64[], Raiz = Float64[])"
   ]
  },
  {
   "cell_type": "code",
   "execution_count": 133,
   "metadata": {
    "collapsed": false
   },
   "outputs": [
    {
     "data": {
      "text/html": [
       "<table class=\"data-frame\"><tr><th></th><th>Valor_X</th><th>Raiz</th></tr><tr><th>1</th><td>0.0</td><td>0.0</td></tr><tr><th>2</th><td>2.0</td><td>0.0</td></tr><tr><th>3</th><td>6.0</td><td>6.119024225042324</td></tr><tr><th>4</th><td>9.0</td><td>9.529904336449029</td></tr><tr><th>5</th><td>13.0</td><td>12.486196308339682</td></tr></table>"
      ],
      "text/plain": [
       "5×2 DataFrames.DataFrame\n",
       "│ Row │ Valor_X │ Raiz    │\n",
       "├─────┼─────────┼─────────┤\n",
       "│ 1   │ 0.0     │ 0.0     │\n",
       "│ 2   │ 2.0     │ 0.0     │\n",
       "│ 3   │ 6.0     │ 6.11902 │\n",
       "│ 4   │ 9.0     │ 9.5299  │\n",
       "│ 5   │ 13.0    │ 12.4862 │"
      ]
     },
     "execution_count": 133,
     "metadata": {},
     "output_type": "execute_result"
    }
   ],
   "source": [
    "# Vetor de valores iniciais (xi)\n",
    "# ATENÇÃO! como o Resultado2 é um vetor vazio, a cada execução\n",
    "# será criada ao final do DataFrame um novo conjunto de dados\n",
    "# para evitar isso use unique!(Resultado2) ao final do laço\n",
    "v = [0.0, 2.0, 6.0, 9.0, 13.0]\n",
    "\n",
    "for i in v\n",
    "    push!(Resultado2, [i, nsolve(f(x), i)])\n",
    "end\n",
    "\n",
    "unique!(Resultado2)"
   ]
  },
  {
   "cell_type": "code",
   "execution_count": 134,
   "metadata": {
    "collapsed": false
   },
   "outputs": [
    {
     "name": "stdout",
     "output_type": "stream",
     "text": [
      "0.0 ; 0.0 ; 8.881784197001252e-15 ; 4.085620730620576e-14 ; -6.039613253960852e-14 ; "
     ]
    }
   ],
   "source": [
    "# Testando os resultados \n",
    "\n",
    "for i = 1:length(v)\n",
    "    print(f(Resultado2[2][i]),\" ; \")\n",
    "end"
   ]
  },
  {
   "cell_type": "code",
   "execution_count": 135,
   "metadata": {
    "collapsed": false
   },
   "outputs": [],
   "source": [
    "# Gravando os dados em um arquivo CSV\n",
    "\n",
    "writetable(\"Resultado2.csv\", Resultado1, separator = ',', header = true)"
   ]
  },
  {
   "cell_type": "markdown",
   "metadata": {},
   "source": [
    "**Outa forma de adicionar dados ao final de um Dataframe**\n",
    "\n",
    "Comando vcat. Sintaxe:\n",
    "\n",
    "```julia\n",
    "vcat(nome_Dataframe, DataFrame(coluna1 = dados, coluna2 = dados))\n",
    "```"
   ]
  },
  {
   "cell_type": "markdown",
   "metadata": {},
   "source": [
    "**Adicionando um único valor de raiz**"
   ]
  },
  {
   "cell_type": "code",
   "execution_count": 136,
   "metadata": {
    "collapsed": false,
    "scrolled": false
   },
   "outputs": [
    {
     "data": {
      "text/html": [
       "<table class=\"data-frame\"><tr><th></th><th>Valor_X</th><th>Raiz</th></tr><tr><th>1</th><td>0.0</td><td>0.0</td></tr><tr><th>2</th><td>2.0</td><td>0.0</td></tr><tr><th>3</th><td>6.0</td><td>6.119024225042324</td></tr><tr><th>4</th><td>9.0</td><td>9.529904336449029</td></tr><tr><th>5</th><td>13.0</td><td>12.486196308339682</td></tr><tr><th>6</th><td>60.0</td><td>59.70700965357191</td></tr></table>"
      ],
      "text/plain": [
       "6×2 DataFrames.DataFrame\n",
       "│ Row │ Valor_X │ Raiz    │\n",
       "├─────┼─────────┼─────────┤\n",
       "│ 1   │ 0.0     │ 0.0     │\n",
       "│ 2   │ 2.0     │ 0.0     │\n",
       "│ 3   │ 6.0     │ 6.11902 │\n",
       "│ 4   │ 9.0     │ 9.5299  │\n",
       "│ 5   │ 13.0    │ 12.4862 │\n",
       "│ 6   │ 60.0    │ 59.707  │"
      ]
     },
     "execution_count": 136,
     "metadata": {},
     "output_type": "execute_result"
    }
   ],
   "source": [
    "Resultado2 = readtable(\"Resultado2.csv\")\n",
    "push!(Resultado2, [60, nsolve(f(x), 60)]) # pode ser usado também o comando vcat\n",
    "Resultado2"
   ]
  },
  {
   "cell_type": "markdown",
   "metadata": {},
   "source": [
    "**Adicionando vários valores de raizes**"
   ]
  },
  {
   "cell_type": "code",
   "execution_count": 137,
   "metadata": {
    "collapsed": false
   },
   "outputs": [
    {
     "data": {
      "text/plain": [
       "4-element Array{Float64,1}:\n",
       "  62.8159\n",
       "  69.1006\n",
       "  75.385 \n",
       " -15.7714"
      ]
     },
     "execution_count": 137,
     "metadata": {},
     "output_type": "execute_result"
    }
   ],
   "source": [
    "# vetor de raízes aproximadas e vetor de raizes calculadas pelo SymPy\n",
    "novos_valores_x = [62.0, 70.0, 75.0, 80.0] \n",
    "novas_raizes_f = Float64[nsolve(f(x), raiz) for raiz = novos_valores_x]"
   ]
  },
  {
   "cell_type": "code",
   "execution_count": 138,
   "metadata": {
    "collapsed": false
   },
   "outputs": [
    {
     "data": {
      "text/html": [
       "<table class=\"data-frame\"><tr><th></th><th>Valor_X</th><th>Raiz</th></tr><tr><th>1</th><td>0.0</td><td>0.0</td></tr><tr><th>2</th><td>2.0</td><td>0.0</td></tr><tr><th>3</th><td>6.0</td><td>6.119024225042324</td></tr><tr><th>4</th><td>9.0</td><td>9.529904336449029</td></tr><tr><th>5</th><td>13.0</td><td>12.486196308339682</td></tr><tr><th>6</th><td>60.0</td><td>59.70700965357191</td></tr><tr><th>7</th><td>62.0</td><td>62.81593287133609</td></tr><tr><th>8</th><td>70.0</td><td>69.10056621235024</td></tr><tr><th>9</th><td>75.0</td><td>75.38495805125963</td></tr><tr><th>10</th><td>80.0</td><td>-15.771411695083252</td></tr></table>"
      ],
      "text/plain": [
       "10×2 DataFrames.DataFrame\n",
       "│ Row │ Valor_X │ Raiz     │\n",
       "├─────┼─────────┼──────────┤\n",
       "│ 1   │ 0.0     │ 0.0      │\n",
       "│ 2   │ 2.0     │ 0.0      │\n",
       "│ 3   │ 6.0     │ 6.11902  │\n",
       "│ 4   │ 9.0     │ 9.5299   │\n",
       "│ 5   │ 13.0    │ 12.4862  │\n",
       "│ 6   │ 60.0    │ 59.707   │\n",
       "│ 7   │ 62.0    │ 62.8159  │\n",
       "│ 8   │ 70.0    │ 69.1006  │\n",
       "│ 9   │ 75.0    │ 75.385   │\n",
       "│ 10  │ 80.0    │ -15.7714 │"
      ]
     },
     "execution_count": 138,
     "metadata": {},
     "output_type": "execute_result"
    }
   ],
   "source": [
    "Resultado2 = vcat(Resultado2, DataFrame(Valor_X = novos_valores_x, Raiz = novas_raizes_f))"
   ]
  },
  {
   "cell_type": "markdown",
   "metadata": {
    "collapsed": true
   },
   "source": [
    "## QUERY\n",
    "\n",
    "Query é um pacote para consultar as fontes de dados. O pacote permite filtrar, projetar, unir e agrupar dados de qualquer fonte de dados iterável. Possui suporte aprimorado para consulta de arrays, DataFrames, TypedTables, IndexedTables e qualquer fonte DataStream (CSV, SQLite etc.)."
   ]
  },
  {
   "cell_type": "code",
   "execution_count": 139,
   "metadata": {
    "collapsed": false
   },
   "outputs": [
    {
     "name": "stderr",
     "output_type": "stream",
     "text": [
      "WARNING: Method definition require(Symbol) in module Base at loading.jl:345 overwritten in module Query at /home/jmarcellopereira/.julia/v0.5/Requires/src/require.jl:12.\n",
      "WARNING: Method definition ==(Base.Nullable{#T<:Any}, Base.Nullable{Union{}}) in module NullableArrays at /home/jmarcellopereira/.julia/v0.5/NullableArrays/src/operators.jl:140 overwritten in module Query at /home/jmarcellopereira/.julia/v0.5/Query/src/operators.jl:8.\n",
      "WARNING: Method definition ==(Base.Nullable{Union{}}, Base.Nullable{#T<:Any}) in module NullableArrays at /home/jmarcellopereira/.julia/v0.5/NullableArrays/src/operators.jl:139 overwritten in module Query at /home/jmarcellopereira/.julia/v0.5/Query/src/operators.jl:9.\n",
      "WARNING: Method definition ==(Base.Nullable{#T1<:Any}, Base.Nullable{#T2<:Any}) in module NullableArrays at /home/jmarcellopereira/.julia/v0.5/NullableArrays/src/operators.jl:130 overwritten in module Query at /home/jmarcellopereira/.julia/v0.5/Query/src/operators.jl:77.\n"
     ]
    }
   ],
   "source": [
    "using Query, DataFrames"
   ]
  },
  {
   "cell_type": "code",
   "execution_count": 140,
   "metadata": {
    "collapsed": false
   },
   "outputs": [
    {
     "data": {
      "text/html": [
       "<table class=\"data-frame\"><tr><th></th><th>Nome_do_software</th><th>Ano_de_lancamento</th><th>Site</th></tr><tr><th>1</th><td>Julia</td><td>2012</td><td>julialang.org</td></tr><tr><th>2</th><td>SageMath</td><td>2005</td><td>sagemath.org</td></tr><tr><th>3</th><td>Maxima</td><td>1980</td><td>maxima.org</td></tr><tr><th>4</th><td>Octave</td><td>2000</td><td>gnu.org/octave</td></tr><tr><th>5</th><td>Maxima</td><td>1980</td><td>maxima.org</td></tr></table>"
      ],
      "text/plain": [
       "5×3 DataFrames.DataFrame\n",
       "│ Row │ Nome_do_software │ Ano_de_lancamento │ Site             │\n",
       "├─────┼──────────────────┼───────────────────┼──────────────────┤\n",
       "│ 1   │ \"Julia\"          │ 2012              │ \"julialang.org\"  │\n",
       "│ 2   │ \"SageMath\"       │ 2005              │ \"sagemath.org\"   │\n",
       "│ 3   │ \"Maxima\"         │ 1980              │ \"maxima.org\"     │\n",
       "│ 4   │ \"Octave\"         │ 2000              │ \"gnu.org/octave\" │\n",
       "│ 5   │ \"Maxima\"         │ 1980              │ \"maxima.org\"     │"
      ]
     },
     "execution_count": 140,
     "metadata": {},
     "output_type": "execute_result"
    }
   ],
   "source": [
    "# copiar Dataframe gravado em arquivo\n",
    "Softwares1 = readtable(\"softwares_dataframe.csv\")"
   ]
  },
  {
   "cell_type": "code",
   "execution_count": 141,
   "metadata": {
    "collapsed": false
   },
   "outputs": [
    {
     "data": {
      "text/html": [
       "<table class=\"data-frame\"><tr><th></th><th>Nome_do_software</th><th>Ano_de_lancamento</th><th>Site</th></tr><tr><th>1</th><td>Julia</td><td>2012</td><td>julialang.org</td></tr><tr><th>2</th><td>SageMath</td><td>2005</td><td>sagemath.org</td></tr></table>"
      ],
      "text/plain": [
       "2×3 DataFrames.DataFrame\n",
       "│ Row │ Nome_do_software │ Ano_de_lancamento │ Site            │\n",
       "├─────┼──────────────────┼───────────────────┼─────────────────┤\n",
       "│ 1   │ \"Julia\"          │ 2012              │ \"julialang.org\" │\n",
       "│ 2   │ \"SageMath\"       │ 2005              │ \"sagemath.org\"  │"
      ]
     },
     "execution_count": 141,
     "metadata": {},
     "output_type": "execute_result"
    }
   ],
   "source": [
    "x = @from i in Softwares1 begin\n",
    "    @where i.Ano_de_lancamento > 2000 \n",
    "    @select {i.Nome_do_software, i.Ano_de_lancamento, i.Site}\n",
    "    @collect DataFrame\n",
    "end"
   ]
  },
  {
   "cell_type": "code",
   "execution_count": 142,
   "metadata": {
    "collapsed": false,
    "scrolled": true
   },
   "outputs": [
    {
     "data": {
      "text/html": [
       "<table class=\"data-frame\"><tr><th></th><th>Nome_do_software</th><th>Ano_de_lancamento</th><th>Site</th></tr><tr><th>1</th><td>SageMath</td><td>2005</td><td>sagemath.org</td></tr></table>"
      ],
      "text/plain": [
       "1×3 DataFrames.DataFrame\n",
       "│ Row │ Nome_do_software │ Ano_de_lancamento │ Site           │\n",
       "├─────┼──────────────────┼───────────────────┼────────────────┤\n",
       "│ 1   │ \"SageMath\"       │ 2005              │ \"sagemath.org\" │"
      ]
     },
     "execution_count": 142,
     "metadata": {},
     "output_type": "execute_result"
    }
   ],
   "source": [
    "x = @from i in Softwares1 begin\n",
    "    @where i.Ano_de_lancamento > 2000 && i.Ano_de_lancamento < 2010\n",
    "    @select {i.Nome_do_software, i.Ano_de_lancamento, i.Site}\n",
    "    @collect DataFrame\n",
    "end"
   ]
  },
  {
   "cell_type": "code",
   "execution_count": null,
   "metadata": {
    "collapsed": true
   },
   "outputs": [],
   "source": []
  },
  {
   "cell_type": "code",
   "execution_count": 143,
   "metadata": {
    "collapsed": false,
    "scrolled": true
   },
   "outputs": [
    {
     "name": "stderr",
     "output_type": "stream",
     "text": [
      "WARNING: Method definition nrow(DataFramesMeta.AbstractCompositeDataFrame) in module DataFramesMeta at /home/jmarcellopereira/.julia/v0.5/DataFramesMeta/src/compositedataframe.jl:108 overwritten at /home/jmarcellopereira/.julia/v0.5/DataFramesMeta/src/compositedataframe.jl:109.\n",
      "WARNING: using DataFramesMeta.transform in module Main conflicts with an existing identifier.\n"
     ]
    }
   ],
   "source": [
    "using DataFrames \n",
    "using DataArrays\n",
    "using DataFramesMeta"
   ]
  },
  {
   "cell_type": "code",
   "execution_count": 144,
   "metadata": {
    "collapsed": false
   },
   "outputs": [
    {
     "name": "stderr",
     "output_type": "stream",
     "text": [
      "WARNING: imported binding for df overwritten in module Main\n"
     ]
    },
    {
     "data": {
      "text/html": [
       "<table class=\"data-frame\"><tr><th></th><th>a</th><th>b</th></tr><tr><th>1</th><td>1</td><td>4</td></tr><tr><th>2</th><td>2</td><td>5</td></tr><tr><th>3</th><td>3</td><td>6</td></tr></table>"
      ],
      "text/plain": [
       "3×2 DataFrames.DataFrame\n",
       "│ Row │ a │ b │\n",
       "├─────┼───┼───┤\n",
       "│ 1   │ 1 │ 4 │\n",
       "│ 2   │ 2 │ 5 │\n",
       "│ 3   │ 3 │ 6 │"
      ]
     },
     "execution_count": 144,
     "metadata": {},
     "output_type": "execute_result"
    }
   ],
   "source": [
    "df = DataFrame(a = [1,2,3], b = [4,5,6])"
   ]
  },
  {
   "cell_type": "code",
   "execution_count": 145,
   "metadata": {
    "collapsed": false
   },
   "outputs": [
    {
     "name": "stderr",
     "output_type": "stream",
     "text": [
      "WARNING: both DataFramesMeta and Query export \"@where\"; uses of it in module Main must be qualified\n"
     ]
    },
    {
     "ename": "LoadError",
     "evalue": "LoadError: UndefVarError: @where not defined\nwhile loading In[145], in expression starting on line 1",
     "output_type": "error",
     "traceback": [
      "LoadError: UndefVarError: @where not defined\nwhile loading In[145], in expression starting on line 1",
      ""
     ]
    }
   ],
   "source": [
    "@where(df, :a .> 2)"
   ]
  },
  {
   "cell_type": "code",
   "execution_count": 146,
   "metadata": {
    "collapsed": false
   },
   "outputs": [
    {
     "data": {
      "text/plain": [
       "2-element DataArrays.DataArray{Int64,1}:\n",
       " 5\n",
       " 6"
      ]
     },
     "execution_count": 146,
     "metadata": {},
     "output_type": "execute_result"
    }
   ],
   "source": [
    "@with(df, df[:a .> 1, ^(:b)])"
   ]
  },
  {
   "cell_type": "code",
   "execution_count": 147,
   "metadata": {
    "collapsed": false
   },
   "outputs": [
    {
     "data": {
      "text/plain": [
       "3-element DataArrays.DataArray{Int64,1}:\n",
       " 5\n",
       " 7\n",
       " 9"
      ]
     },
     "execution_count": 147,
     "metadata": {},
     "output_type": "execute_result"
    }
   ],
   "source": [
    "@with(df, :a + _I_(:b) )"
   ]
  },
  {
   "cell_type": "code",
   "execution_count": 148,
   "metadata": {
    "collapsed": false
   },
   "outputs": [
    {
     "ename": "LoadError",
     "evalue": "LoadError: UndefVarError: @where not defined\nwhile loading In[148], in expression starting on line 1",
     "output_type": "error",
     "traceback": [
      "LoadError: UndefVarError: @where not defined\nwhile loading In[148], in expression starting on line 1",
      ""
     ]
    }
   ],
   "source": [
    "@where(df, :a .> 2)"
   ]
  },
  {
   "cell_type": "code",
   "execution_count": null,
   "metadata": {
    "collapsed": true
   },
   "outputs": [],
   "source": []
  }
 ],
 "metadata": {
  "anaconda-cloud": {},
  "kernelspec": {
   "display_name": "Julia 0.5.0",
   "language": "julia",
   "name": "julia-0.5"
  },
  "language_info": {
   "file_extension": ".jl",
   "mimetype": "application/julia",
   "name": "julia",
   "version": "0.5.0"
  }
 },
 "nbformat": 4,
 "nbformat_minor": 0
}
