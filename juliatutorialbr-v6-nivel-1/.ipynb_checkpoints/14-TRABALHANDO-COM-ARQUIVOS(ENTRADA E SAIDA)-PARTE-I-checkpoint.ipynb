{
 "cells": [
  {
   "cell_type": "markdown",
   "metadata": {},
   "source": [
    "# TRABALHANDO COM ARQUIVOS(ENTRADA E SAIDA) PARTE I"
   ]
  },
  {
   "cell_type": "markdown",
   "metadata": {},
   "source": [
    "## DATAFRAMES \n",
    "\n",
    "Um `data frame` é uma estrutura bidimensional semelhante à uma matriz no qual os dados são tabelados em colunas nomeadas no qual possuem a mesma quantidade de linhas. JOSHI (2016) define data frame como:\n",
    "> É uma estrutura de dados que tem colunas rotuladas, que individualmente podem ter diferentes tipos de dados. Como uma tabela SQL ou uma planilha, ela tem duas dimensões. Também pode ser pensado como uma lista de dicionários, mas, fundamentalmente, é diferente. \n",
    "\n",
    "`Data frame` é a melhor forma de organizar informações pois além de manter uma boa formatação dos dados, ainda permite que sejam gravados em arquivos do tipo \"CSV\", \"XLSX\", \"ODS\" entre outros, que podem ser abertos e manipulados em softwares de planilha tipo excel ou calc. Exemplo de `Data Frame`:\n",
    "\n",
    "<img src=\"Figuras/dataframe.png\" align=\"center\" width=\"300\">\n",
    "<img ></img>\n",
    "Para instalar o pacote use:\n",
    "```julia\n",
    "using Pkg\n",
    "Pkg.add(\"DataFrames\")\n",
    "```"
   ]
  },
  {
   "cell_type": "markdown",
   "metadata": {},
   "source": [
    "### CRIAR DATAFRAMES \n",
    "\n",
    "Para criar um dataframe use a sintaxe:\n",
    "```julia\n",
    "Nome_dataFrame(nome_coluna_1 = [dado1_col_1, dado2_col_1], nome_coluna_2 = [dado1_col_2, dado2_col_2])\n",
    "\n",
    "ou\n",
    "\n",
    "nome_dataframe = DataFrame()\n",
    "nome_dataframe[:nome_coluna_1] = [dado1_col_1, dado2_col_1]\n",
    "nome_dataframe[:nome_coluna_2] = [dado1_col_2, dado2_col_2]\n",
    "\n",
    "```"
   ]
  },
  {
   "cell_type": "code",
   "execution_count": 1,
   "metadata": {},
   "outputs": [
    {
     "name": "stderr",
     "output_type": "stream",
     "text": [
      "┌ Info: Recompiling stale cache file /home/jmarcellopereira/.julia/compiled/v1.0/DataFrames/AR9oZ.ji for DataFrames [a93c6f00-e57d-5684-b7b6-d8193f3e46c0]\n",
      "└ @ Base loading.jl:1190\n"
     ]
    }
   ],
   "source": [
    "using DataFrames"
   ]
  },
  {
   "cell_type": "code",
   "execution_count": 2,
   "metadata": {
    "scrolled": false
   },
   "outputs": [
    {
     "data": {
      "text/html": [
       "<table class=\"data-frame\"><thead><tr><th></th><th>Nome_do_software</th><th>Ano</th></tr><tr><th></th><th>String</th><th>Int64</th></tr></thead><tbody><tr><th>1</th><td>scilab</td><td>2005</td></tr><tr><th>2</th><td>julia</td><td>2012</td></tr></tbody></table>"
      ],
      "text/latex": [
       "\\begin{tabular}{r|cc}\n",
       "\t& Nome\\_do\\_software & Ano\\\\\n",
       "\t\\hline\n",
       "\t1 & scilab & 2005 \\\\\n",
       "\t2 & julia & 2012 \\\\\n",
       "\\end{tabular}\n"
      ],
      "text/plain": [
       "2×2 DataFrame\n",
       "│ Row │ Nome_do_software │ Ano   │\n",
       "│     │ \u001b[90mString\u001b[39m           │ \u001b[90mInt64\u001b[39m │\n",
       "├─────┼──────────────────┼───────┤\n",
       "│ 1   │ scilab           │ 2005  │\n",
       "│ 2   │ julia            │ 2012  │"
      ]
     },
     "execution_count": 2,
     "metadata": {},
     "output_type": "execute_result"
    }
   ],
   "source": [
    "# criar o dataframe.\n",
    "dados = DataFrame(Nome_do_software = [\"scilab\", \"julia\"], Ano = [2005, 2012])"
   ]
  },
  {
   "cell_type": "markdown",
   "metadata": {},
   "source": [
    "Ou assim:"
   ]
  },
  {
   "cell_type": "code",
   "execution_count": 3,
   "metadata": {
    "scrolled": true
   },
   "outputs": [
    {
     "data": {
      "text/html": [
       "<table class=\"data-frame\"><thead><tr><th></th><th>Nome_do_sofware</th><th>Ano</th></tr><tr><th></th><th>String</th><th>Int64</th></tr></thead><tbody><tr><th>1</th><td>scilab</td><td>2005</td></tr><tr><th>2</th><td>julia</td><td>2012</td></tr></tbody></table>"
      ],
      "text/latex": [
       "\\begin{tabular}{r|cc}\n",
       "\t& Nome\\_do\\_sofware & Ano\\\\\n",
       "\t\\hline\n",
       "\t1 & scilab & 2005 \\\\\n",
       "\t2 & julia & 2012 \\\\\n",
       "\\end{tabular}\n"
      ],
      "text/plain": [
       "2×2 DataFrame\n",
       "│ Row │ Nome_do_sofware │ Ano   │\n",
       "│     │ \u001b[90mString\u001b[39m          │ \u001b[90mInt64\u001b[39m │\n",
       "├─────┼─────────────────┼───────┤\n",
       "│ 1   │ scilab          │ 2005  │\n",
       "│ 2   │ julia           │ 2012  │"
      ]
     },
     "execution_count": 3,
     "metadata": {},
     "output_type": "execute_result"
    }
   ],
   "source": [
    "dados2 = DataFrame()\n",
    "\n",
    "dados2[:Nome_do_sofware] = [\"scilab\", \"julia\"]\n",
    "dados2[:Ano]             = [2005, 2012]\n",
    "\n",
    "dados2"
   ]
  },
  {
   "cell_type": "markdown",
   "metadata": {},
   "source": [
    "Outro exemplo"
   ]
  },
  {
   "cell_type": "code",
   "execution_count": 4,
   "metadata": {
    "scrolled": true
   },
   "outputs": [
    {
     "data": {
      "text/html": [
       "<table class=\"data-frame\"><thead><tr><th></th><th>Nome_do_software</th><th>Ano_de_lancamento</th><th>Site</th></tr><tr><th></th><th>String</th><th>Int64</th><th>String</th></tr></thead><tbody><tr><th>1</th><td>Julia</td><td>2012</td><td>julialang.org</td></tr><tr><th>2</th><td>SageMath</td><td>2005</td><td>sagemath.org</td></tr><tr><th>3</th><td>Maxima</td><td>1980</td><td>maxima.org</td></tr><tr><th>4</th><td>Octave</td><td>2000</td><td>gnu.org/octave</td></tr><tr><th>5</th><td>Maxima</td><td>1980</td><td>maxima.org</td></tr></tbody></table>"
      ],
      "text/latex": [
       "\\begin{tabular}{r|ccc}\n",
       "\t& Nome\\_do\\_software & Ano\\_de\\_lancamento & Site\\\\\n",
       "\t\\hline\n",
       "\t1 & Julia & 2012 & julialang.org \\\\\n",
       "\t2 & SageMath & 2005 & sagemath.org \\\\\n",
       "\t3 & Maxima & 1980 & maxima.org \\\\\n",
       "\t4 & Octave & 2000 & gnu.org/octave \\\\\n",
       "\t5 & Maxima & 1980 & maxima.org \\\\\n",
       "\\end{tabular}\n"
      ],
      "text/plain": [
       "5×3 DataFrame\n",
       "│ Row │ Nome_do_software │ Ano_de_lancamento │ Site           │\n",
       "│     │ \u001b[90mString\u001b[39m           │ \u001b[90mInt64\u001b[39m             │ \u001b[90mString\u001b[39m         │\n",
       "├─────┼──────────────────┼───────────────────┼────────────────┤\n",
       "│ 1   │ Julia            │ 2012              │ julialang.org  │\n",
       "│ 2   │ SageMath         │ 2005              │ sagemath.org   │\n",
       "│ 3   │ Maxima           │ 1980              │ maxima.org     │\n",
       "│ 4   │ Octave           │ 2000              │ gnu.org/octave │\n",
       "│ 5   │ Maxima           │ 1980              │ maxima.org     │"
      ]
     },
     "execution_count": 4,
     "metadata": {},
     "output_type": "execute_result"
    }
   ],
   "source": [
    "# Nomes das colunas não podem ter espaço\n",
    "\n",
    "Softwares = DataFrame()\n",
    "\n",
    "Softwares[:Nome_do_software]  = [\"Julia\", \"SageMath\", \"Maxima\", \"Octave\",\"Maxima\"]\n",
    "Softwares[:Ano_de_lancamento] = [2012, 2005, 1980, 2000, 1980]\n",
    "Softwares[:Site]              = [\"julialang.org\",\"sagemath.org\",\"maxima.org\",\"gnu.org/octave\", \"maxima.org\"]\n",
    "\n",
    "Softwares"
   ]
  },
  {
   "cell_type": "markdown",
   "metadata": {},
   "source": [
    "Para visualizar cabeçalho das colunas:"
   ]
  },
  {
   "cell_type": "code",
   "execution_count": 5,
   "metadata": {},
   "outputs": [
    {
     "data": {
      "text/plain": [
       "3-element Array{Symbol,1}:\n",
       " :Nome_do_software \n",
       " :Ano_de_lancamento\n",
       " :Site             "
      ]
     },
     "execution_count": 5,
     "metadata": {},
     "output_type": "execute_result"
    }
   ],
   "source": [
    "names(Softwares) "
   ]
  },
  {
   "cell_type": "markdown",
   "metadata": {},
   "source": [
    "Para saber os tipos dos elementos do dataframe. Aqui temos String (primeira coluna) e tipo Inteiro (segunda coluna):"
   ]
  },
  {
   "cell_type": "code",
   "execution_count": 6,
   "metadata": {
    "scrolled": true
   },
   "outputs": [
    {
     "data": {
      "text/plain": [
       "3-element Array{Type,1}:\n",
       " String\n",
       " Int64 \n",
       " String"
      ]
     },
     "execution_count": 6,
     "metadata": {},
     "output_type": "execute_result"
    }
   ],
   "source": [
    "eltypes(Softwares)"
   ]
  },
  {
   "cell_type": "markdown",
   "metadata": {},
   "source": [
    "Transformando uma matriz em um Data Frame:"
   ]
  },
  {
   "cell_type": "code",
   "execution_count": 7,
   "metadata": {
    "scrolled": true
   },
   "outputs": [
    {
     "data": {
      "text/plain": [
       "3×3 Array{Float64,2}:\n",
       " 0.408895  0.263562   0.357977\n",
       " 0.500075  0.0326356  0.191386\n",
       " 0.641914  0.891636   0.730561"
      ]
     },
     "execution_count": 7,
     "metadata": {},
     "output_type": "execute_result"
    }
   ],
   "source": [
    "matriz_dados = rand(3, 3)"
   ]
  },
  {
   "cell_type": "code",
   "execution_count": 8,
   "metadata": {
    "scrolled": true
   },
   "outputs": [
    {
     "data": {
      "text/html": [
       "<table class=\"data-frame\"><thead><tr><th></th><th>x1</th><th>x2</th><th>x3</th></tr><tr><th></th><th>Float64</th><th>Float64</th><th>Float64</th></tr></thead><tbody><tr><th>1</th><td>0.408895</td><td>0.263562</td><td>0.357977</td></tr><tr><th>2</th><td>0.500075</td><td>0.0326356</td><td>0.191386</td></tr><tr><th>3</th><td>0.641914</td><td>0.891636</td><td>0.730561</td></tr></tbody></table>"
      ],
      "text/latex": [
       "\\begin{tabular}{r|ccc}\n",
       "\t& x1 & x2 & x3\\\\\n",
       "\t\\hline\n",
       "\t1 & 0.408895 & 0.263562 & 0.357977 \\\\\n",
       "\t2 & 0.500075 & 0.0326356 & 0.191386 \\\\\n",
       "\t3 & 0.641914 & 0.891636 & 0.730561 \\\\\n",
       "\\end{tabular}\n"
      ],
      "text/plain": [
       "3×3 DataFrame\n",
       "│ Row │ x1       │ x2        │ x3       │\n",
       "│     │ \u001b[90mFloat64\u001b[39m  │ \u001b[90mFloat64\u001b[39m   │ \u001b[90mFloat64\u001b[39m  │\n",
       "├─────┼──────────┼───────────┼──────────┤\n",
       "│ 1   │ 0.408895 │ 0.263562  │ 0.357977 │\n",
       "│ 2   │ 0.500075 │ 0.0326356 │ 0.191386 │\n",
       "│ 3   │ 0.641914 │ 0.891636  │ 0.730561 │"
      ]
     },
     "execution_count": 8,
     "metadata": {},
     "output_type": "execute_result"
    }
   ],
   "source": [
    "matriz_dataframe = DataFrame(matriz_dados)"
   ]
  },
  {
   "cell_type": "code",
   "execution_count": 9,
   "metadata": {
    "scrolled": false
   },
   "outputs": [
    {
     "data": {
      "text/plain": [
       "DataFrame"
      ]
     },
     "execution_count": 9,
     "metadata": {},
     "output_type": "execute_result"
    }
   ],
   "source": [
    "typeof(matriz_dataframe)"
   ]
  },
  {
   "cell_type": "markdown",
   "metadata": {},
   "source": [
    "#### VISUALIZAR E ALTERAR DADOS EM UM DATAFRAME"
   ]
  },
  {
   "cell_type": "markdown",
   "metadata": {},
   "source": [
    "**Visualizar dados**\n",
    "\n",
    "São várias as formas que o programador dispõe para visualizar dados em um data frame, aqui será apresentados as principais formas. Sintaxe:\n",
    "\n",
    "* Todos os dados da coluna_x:\n",
    "```julia\n",
    "DataFrame[:nome_coluna_x]               \n",
    "```\n",
    "\n",
    "\n",
    "* Todos os dados da coluna_x:\n",
    "```julia\n",
    "DataFrame[coluna_x]                        \n",
    "```\n",
    "\n",
    "* Todos os dados da coluna_x:\n",
    "```julia\n",
    "DataFrame.nome_coluna_x                 \n",
    "```\n",
    "\n",
    "* Dados(s) da coluna_x e linha_y:\n",
    "```julia\n",
    "DataFrame[:nome_coluna_x][linha_y]   \n",
    "```\n",
    "\n",
    "* Dados(s) da coluna_x e linha_y:\n",
    "```julia\n",
    "DataFrame[coluna_x][linha_y]         \n",
    "```\n",
    "\n",
    "* Dados(s) da coluna_x e linha_y:\n",
    "```julia\n",
    "DataFrame.nome_coluna_x[linha_x]     \n",
    "```"
   ]
  },
  {
   "cell_type": "code",
   "execution_count": 16,
   "metadata": {
    "collapsed": true
   },
   "outputs": [],
   "source": [
    "using DataFrames"
   ]
  },
  {
   "cell_type": "code",
   "execution_count": 12,
   "metadata": {},
   "outputs": [
    {
     "data": {
      "text/plain": [
       "5-element Array{String,1}:\n",
       " \"julialang.org\" \n",
       " \"sagemath.org\"  \n",
       " \"maxima.org\"    \n",
       " \"gnu.org/octave\"\n",
       " \"maxima.org\"    "
      ]
     },
     "execution_count": 12,
     "metadata": {},
     "output_type": "execute_result"
    }
   ],
   "source": [
    "Softwares = DataFrame()\n",
    "\n",
    "Softwares[:Nome_do_software]  = [\"Julia\", \"SageMath\", \"Maxima\", \"Octave\",\"Maxima\"]\n",
    "Softwares[:Ano_de_lancamento] = [2012, 2005, 1980, 2000, 1980]\n",
    "Softwares[:Site]              = [\"julialang.org\",\"sagemath.org\",\"maxima.org\",\"gnu.org/octave\", \"maxima.org\"]"
   ]
  },
  {
   "cell_type": "markdown",
   "metadata": {},
   "source": [
    "Visualizar todos os elementos da primeira coluna:"
   ]
  },
  {
   "cell_type": "code",
   "execution_count": 18,
   "metadata": {},
   "outputs": [
    {
     "data": {
      "text/plain": [
       "5-element Array{String,1}:\n",
       " \"Julia\"   \n",
       " \"SageMath\"\n",
       " \"Maxima\"  \n",
       " \"Octave\"  \n",
       " \"Maxima\"  "
      ]
     },
     "execution_count": 18,
     "metadata": {},
     "output_type": "execute_result"
    }
   ],
   "source": [
    "Softwares[:Nome_do_software]"
   ]
  },
  {
   "cell_type": "markdown",
   "metadata": {},
   "source": [
    "Visualizar todos os dados da primeira coluna:"
   ]
  },
  {
   "cell_type": "code",
   "execution_count": 19,
   "metadata": {},
   "outputs": [
    {
     "data": {
      "text/plain": [
       "5-element Array{String,1}:\n",
       " \"Julia\"   \n",
       " \"SageMath\"\n",
       " \"Maxima\"  \n",
       " \"Octave\"  \n",
       " \"Maxima\"  "
      ]
     },
     "execution_count": 19,
     "metadata": {},
     "output_type": "execute_result"
    }
   ],
   "source": [
    "Softwares[1]"
   ]
  },
  {
   "cell_type": "markdown",
   "metadata": {},
   "source": [
    "Visualizar todos os dados da primeira coluna:"
   ]
  },
  {
   "cell_type": "code",
   "execution_count": 20,
   "metadata": {},
   "outputs": [
    {
     "data": {
      "text/plain": [
       "5-element Array{String,1}:\n",
       " \"Julia\"   \n",
       " \"SageMath\"\n",
       " \"Maxima\"  \n",
       " \"Octave\"  \n",
       " \"Maxima\"  "
      ]
     },
     "execution_count": 20,
     "metadata": {},
     "output_type": "execute_result"
    }
   ],
   "source": [
    "Softwares.Nome_do_software"
   ]
  },
  {
   "cell_type": "markdown",
   "metadata": {},
   "source": [
    "Acessar o dado da primeira coluna e terceira linha:"
   ]
  },
  {
   "cell_type": "code",
   "execution_count": 21,
   "metadata": {
    "scrolled": true
   },
   "outputs": [
    {
     "data": {
      "text/plain": [
       "\"Maxima\""
      ]
     },
     "execution_count": 21,
     "metadata": {},
     "output_type": "execute_result"
    }
   ],
   "source": [
    "Softwares[:Nome_do_software][3]"
   ]
  },
  {
   "cell_type": "markdown",
   "metadata": {},
   "source": [
    "Acessar o dado da primeira coluna e terceira linha:"
   ]
  },
  {
   "cell_type": "code",
   "execution_count": 22,
   "metadata": {
    "scrolled": true
   },
   "outputs": [
    {
     "data": {
      "text/plain": [
       "\"Maxima\""
      ]
     },
     "execution_count": 22,
     "metadata": {},
     "output_type": "execute_result"
    }
   ],
   "source": [
    "Softwares[1][3]"
   ]
  },
  {
   "cell_type": "markdown",
   "metadata": {},
   "source": [
    "Acessar o dado da primeira coluna e terceira linha:"
   ]
  },
  {
   "cell_type": "code",
   "execution_count": 25,
   "metadata": {
    "scrolled": true
   },
   "outputs": [
    {
     "data": {
      "text/plain": [
       "\"Maxima\""
      ]
     },
     "execution_count": 25,
     "metadata": {},
     "output_type": "execute_result"
    }
   ],
   "source": [
    "Softwares.Nome_do_software[3]"
   ]
  },
  {
   "cell_type": "markdown",
   "metadata": {},
   "source": [
    "**Alterar dados em um dataframe**\n",
    "\n",
    "Altera o dado da coluna_x e linha_x:\n",
    "```julia\n",
    "nome_DataFrame[:nome_coluna_x][elemento_x] = novo_dado           \n",
    "```\n",
    "\n",
    "Altera o dado da coluna_x e linha_x:\n",
    "```julia\n",
    "nome_DataFrame[coluna_x][elemento_x]       = novo_dado    \n",
    "```\n",
    "\n",
    "Altera o dado da coluna_x e linha_x:\n",
    "\n",
    "```julia\n",
    "nome_DataFrame.nome_coluna[elemento_x]     = novo_dado        \n",
    "```\n",
    "\n",
    "```julia\n",
    "nome_DataFrame[[elem_x1,elem_x2,elem_x3],:coluna_x] = novo_dado* \n",
    "\n",
    "*novo_dado pode ser um vetor correspondente aos novos dados de elem x1,x2,x3...\n",
    "```"
   ]
  },
  {
   "cell_type": "code",
   "execution_count": 94,
   "metadata": {},
   "outputs": [
    {
     "data": {
      "text/plain": [
       "\"maXIma\""
      ]
     },
     "execution_count": 94,
     "metadata": {},
     "output_type": "execute_result"
    }
   ],
   "source": [
    "# alterando o valor do terceiro elemrnto da primeira coluna\n",
    "Softwares.Nome_do_software[3] = \"maXIma\""
   ]
  },
  {
   "cell_type": "code",
   "execution_count": 38,
   "metadata": {
    "scrolled": true
   },
   "outputs": [
    {
     "data": {
      "text/html": [
       "<table class=\"data-frame\"><thead><tr><th></th><th>Nome_do_software</th><th>Ano_de_lancamento</th><th>Site</th></tr></thead><tbody><tr><th>1</th><td>Julia</td><td>2012</td><td>julialang.org</td></tr><tr><th>2</th><td>SageMath</td><td>2005</td><td>sagemath.org</td></tr><tr><th>3</th><td>maXIma</td><td>1980</td><td>maxima.org</td></tr><tr><th>4</th><td>Octave</td><td>2000</td><td>gnu.org/octave</td></tr><tr><th>5</th><td>Maxima</td><td>1980</td><td>maxima.org</td></tr></tbody></table>"
      ],
      "text/plain": [
       "5×3 DataFrame\n",
       "│ Row │ Nome_do_software │ Ano_de_lancamento │ Site           │\n",
       "├─────┼──────────────────┼───────────────────┼────────────────┤\n",
       "│ 1   │ Julia            │ 2012              │ julialang.org  │\n",
       "│ 2   │ SageMath         │ 2005              │ sagemath.org   │\n",
       "│ 3   │ maXIma           │ 1980              │ maxima.org     │\n",
       "│ 4   │ Octave           │ 2000              │ gnu.org/octave │\n",
       "│ 5   │ Maxima           │ 1980              │ maxima.org     │"
      ]
     },
     "execution_count": 38,
     "metadata": {},
     "output_type": "execute_result"
    }
   ],
   "source": [
    "# veja o novo nome do software maxima\n",
    "Softwares"
   ]
  },
  {
   "cell_type": "markdown",
   "metadata": {},
   "source": [
    "**Adicionar linha de dados**\n",
    "\n",
    "```julia\n",
    "push!(Dataframe, [dado_col_1, dado_col_2, ...., dado_col_n])\n",
    "\n",
    "```"
   ]
  },
  {
   "cell_type": "code",
   "execution_count": 39,
   "metadata": {},
   "outputs": [
    {
     "data": {
      "text/html": [
       "<table class=\"data-frame\"><thead><tr><th></th><th>Nome_do_software</th><th>Ano_de_lancamento</th><th>Site</th></tr></thead><tbody><tr><th>1</th><td>Julia</td><td>2012</td><td>julialang.org</td></tr><tr><th>2</th><td>SageMath</td><td>2005</td><td>sagemath.org</td></tr><tr><th>3</th><td>maXIma</td><td>1980</td><td>maxima.org</td></tr><tr><th>4</th><td>Octave</td><td>2000</td><td>gnu.org/octave</td></tr><tr><th>5</th><td>Maxima</td><td>1980</td><td>maxima.org</td></tr><tr><th>6</th><td>Julia</td><td>2012</td><td>julialang.org</td></tr></tbody></table>"
      ],
      "text/plain": [
       "6×3 DataFrame\n",
       "│ Row │ Nome_do_software │ Ano_de_lancamento │ Site           │\n",
       "├─────┼──────────────────┼───────────────────┼────────────────┤\n",
       "│ 1   │ Julia            │ 2012              │ julialang.org  │\n",
       "│ 2   │ SageMath         │ 2005              │ sagemath.org   │\n",
       "│ 3   │ maXIma           │ 1980              │ maxima.org     │\n",
       "│ 4   │ Octave           │ 2000              │ gnu.org/octave │\n",
       "│ 5   │ Maxima           │ 1980              │ maxima.org     │\n",
       "│ 6   │ Julia            │ 2012              │ julialang.org  │"
      ]
     },
     "execution_count": 39,
     "metadata": {},
     "output_type": "execute_result"
    }
   ],
   "source": [
    "push!(Softwares, [\"Julia\", 2012, \"julialang.org\"])"
   ]
  },
  {
   "cell_type": "markdown",
   "metadata": {},
   "source": [
    "**Ordenando dados**\n",
    "\n",
    "```julia\n",
    "sort(Dataframe, cols = order(:nome_coluna))\n",
    "```\n",
    "Ordena e modifica o Dataframe (CUIDADO!)\n",
    "```julia\n",
    "sort!(Dataframe, cols = order(:nome_coluna)) \n",
    "```"
   ]
  },
  {
   "cell_type": "code",
   "execution_count": 95,
   "metadata": {
    "scrolled": false
   },
   "outputs": [
    {
     "data": {
      "text/html": [
       "<table class=\"data-frame\"><thead><tr><th></th><th>Nome_do_software</th><th>Ano_de_lancamento</th><th>Site</th></tr></thead><tbody><tr><th>1</th><td>maXIma</td><td>1980</td><td>maxima.org</td></tr><tr><th>2</th><td>Maxima</td><td>1980</td><td>maxima.org</td></tr><tr><th>3</th><td>Octave</td><td>2000</td><td>gnu.org/octave</td></tr><tr><th>4</th><td>SageMath</td><td>2005</td><td>sagemath.org</td></tr><tr><th>5</th><td>Julia</td><td>2012</td><td>julialang.org</td></tr></tbody></table>"
      ],
      "text/plain": [
       "5×3 DataFrame\n",
       "│ Row │ Nome_do_software │ Ano_de_lancamento │ Site           │\n",
       "├─────┼──────────────────┼───────────────────┼────────────────┤\n",
       "│ 1   │ maXIma           │ 1980              │ maxima.org     │\n",
       "│ 2   │ Maxima           │ 1980              │ maxima.org     │\n",
       "│ 3   │ Octave           │ 2000              │ gnu.org/octave │\n",
       "│ 4   │ SageMath         │ 2005              │ sagemath.org   │\n",
       "│ 5   │ Julia            │ 2012              │ julialang.org  │"
      ]
     },
     "execution_count": 95,
     "metadata": {},
     "output_type": "execute_result"
    }
   ],
   "source": [
    "sort!(Softwares, order(:Ano_de_lancamento))"
   ]
  },
  {
   "cell_type": "markdown",
   "metadata": {},
   "source": [
    "**Retirar elementos repetidos**\n",
    "\n",
    "Sintaxe:\n",
    "```julia\n",
    "unique(Dataframe)\n",
    "```\n",
    "Retira e modifica o DataFrame (CUIDADO!)\n",
    "```julia\n",
    "unique!(DataFrame)\n",
    "```"
   ]
  },
  {
   "cell_type": "code",
   "execution_count": 104,
   "metadata": {
    "scrolled": true
   },
   "outputs": [
    {
     "data": {
      "text/html": [
       "<table class=\"data-frame\"><thead><tr><th></th><th>Nome_do_software</th><th>Ano_de_lancamento</th><th>Site</th></tr></thead><tbody><tr><th>1</th><td>maXIma</td><td>1980</td><td>maxima.org</td></tr><tr><th>2</th><td>Maxima</td><td>1980</td><td>maxima.org</td></tr><tr><th>3</th><td>Octave</td><td>2000</td><td>gnu.org/octave</td></tr><tr><th>4</th><td>SageMath</td><td>2005</td><td>sagemath.org</td></tr><tr><th>5</th><td>Julia</td><td>2012</td><td>julialang.org</td></tr></tbody></table>"
      ],
      "text/plain": [
       "5×3 DataFrame\n",
       "│ Row │ Nome_do_software │ Ano_de_lancamento │ Site           │\n",
       "├─────┼──────────────────┼───────────────────┼────────────────┤\n",
       "│ 1   │ maXIma           │ 1980              │ maxima.org     │\n",
       "│ 2   │ Maxima           │ 1980              │ maxima.org     │\n",
       "│ 3   │ Octave           │ 2000              │ gnu.org/octave │\n",
       "│ 4   │ SageMath         │ 2005              │ sagemath.org   │\n",
       "│ 5   │ Julia            │ 2012              │ julialang.org  │"
      ]
     },
     "execution_count": 104,
     "metadata": {},
     "output_type": "execute_result"
    }
   ],
   "source": [
    "unique!(Softwares)"
   ]
  },
  {
   "cell_type": "markdown",
   "metadata": {},
   "source": [
    "#### MANIPULAR COLUNAS, LINHAS E CONCATENAR DATAFRAMES"
   ]
  },
  {
   "cell_type": "code",
   "execution_count": 105,
   "metadata": {},
   "outputs": [
    {
     "data": {
      "text/html": [
       "<table class=\"data-frame\"><thead><tr><th></th><th>Nome_do_software</th><th>Ano_de_lancamento</th><th>Site</th></tr></thead><tbody><tr><th>1</th><td>maXIma</td><td>1980</td><td>maxima.org</td></tr><tr><th>2</th><td>Maxima</td><td>1980</td><td>maxima.org</td></tr><tr><th>3</th><td>Octave</td><td>2000</td><td>gnu.org/octave</td></tr><tr><th>4</th><td>SageMath</td><td>2005</td><td>sagemath.org</td></tr><tr><th>5</th><td>Julia</td><td>2012</td><td>julialang.org</td></tr></tbody></table>"
      ],
      "text/plain": [
       "5×3 DataFrame\n",
       "│ Row │ Nome_do_software │ Ano_de_lancamento │ Site           │\n",
       "├─────┼──────────────────┼───────────────────┼────────────────┤\n",
       "│ 1   │ maXIma           │ 1980              │ maxima.org     │\n",
       "│ 2   │ Maxima           │ 1980              │ maxima.org     │\n",
       "│ 3   │ Octave           │ 2000              │ gnu.org/octave │\n",
       "│ 4   │ SageMath         │ 2005              │ sagemath.org   │\n",
       "│ 5   │ Julia            │ 2012              │ julialang.org  │"
      ]
     },
     "execution_count": 105,
     "metadata": {},
     "output_type": "execute_result"
    }
   ],
   "source": [
    "Softwares"
   ]
  },
  {
   "cell_type": "markdown",
   "metadata": {},
   "source": [
    "** Para adicionar uma nova coluna de dados ao DataFrame use:**\n",
    "```julia\n",
    "DataFrame[:nova_coluna] = [vetor_dados]\n",
    "```"
   ]
  },
  {
   "cell_type": "code",
   "execution_count": 106,
   "metadata": {
    "scrolled": true
   },
   "outputs": [
    {
     "data": {
      "text/plain": [
       "5-element Array{String,1}:\n",
       " \"MIT\"\n",
       " \"MIT\"\n",
       " \"MIT\"\n",
       " \"MIT\"\n",
       " \"MIT\""
      ]
     },
     "execution_count": 106,
     "metadata": {},
     "output_type": "execute_result"
    }
   ],
   "source": [
    "# Adicionar uma nova coluna de dados\n",
    "Softwares[:Licença] = [\"MIT\", \"MIT\", \"MIT\", \"MIT\", \"MIT\"]"
   ]
  },
  {
   "cell_type": "code",
   "execution_count": 107,
   "metadata": {
    "scrolled": false
   },
   "outputs": [
    {
     "data": {
      "text/html": [
       "<table class=\"data-frame\"><thead><tr><th></th><th>Nome_do_software</th><th>Ano_de_lancamento</th><th>Site</th><th>Licença</th></tr></thead><tbody><tr><th>1</th><td>maXIma</td><td>1980</td><td>maxima.org</td><td>MIT</td></tr><tr><th>2</th><td>Maxima</td><td>1980</td><td>maxima.org</td><td>MIT</td></tr><tr><th>3</th><td>Octave</td><td>2000</td><td>gnu.org/octave</td><td>MIT</td></tr><tr><th>4</th><td>SageMath</td><td>2005</td><td>sagemath.org</td><td>MIT</td></tr><tr><th>5</th><td>Julia</td><td>2012</td><td>julialang.org</td><td>MIT</td></tr></tbody></table>"
      ],
      "text/plain": [
       "5×4 DataFrame\n",
       "│ Row │ Nome_do_software │ Ano_de_lancamento │ Site           │ Licença │\n",
       "├─────┼──────────────────┼───────────────────┼────────────────┼─────────┤\n",
       "│ 1   │ maXIma           │ 1980              │ maxima.org     │ MIT     │\n",
       "│ 2   │ Maxima           │ 1980              │ maxima.org     │ MIT     │\n",
       "│ 3   │ Octave           │ 2000              │ gnu.org/octave │ MIT     │\n",
       "│ 4   │ SageMath         │ 2005              │ sagemath.org   │ MIT     │\n",
       "│ 5   │ Julia            │ 2012              │ julialang.org  │ MIT     │"
      ]
     },
     "execution_count": 107,
     "metadata": {},
     "output_type": "execute_result"
    }
   ],
   "source": [
    "Softwares"
   ]
  },
  {
   "cell_type": "markdown",
   "metadata": {},
   "source": [
    "** Para deletar uma coluna use:**\n",
    "```julia\n",
    "delete!(Dataframe, :nome_coluna)\n",
    "```"
   ]
  },
  {
   "cell_type": "code",
   "execution_count": 108,
   "metadata": {
    "scrolled": true
   },
   "outputs": [
    {
     "data": {
      "text/html": [
       "<table class=\"data-frame\"><thead><tr><th></th><th>Nome_do_software</th><th>Ano_de_lancamento</th><th>Site</th></tr></thead><tbody><tr><th>1</th><td>maXIma</td><td>1980</td><td>maxima.org</td></tr><tr><th>2</th><td>Maxima</td><td>1980</td><td>maxima.org</td></tr><tr><th>3</th><td>Octave</td><td>2000</td><td>gnu.org/octave</td></tr><tr><th>4</th><td>SageMath</td><td>2005</td><td>sagemath.org</td></tr><tr><th>5</th><td>Julia</td><td>2012</td><td>julialang.org</td></tr></tbody></table>"
      ],
      "text/plain": [
       "5×3 DataFrame\n",
       "│ Row │ Nome_do_software │ Ano_de_lancamento │ Site           │\n",
       "├─────┼──────────────────┼───────────────────┼────────────────┤\n",
       "│ 1   │ maXIma           │ 1980              │ maxima.org     │\n",
       "│ 2   │ Maxima           │ 1980              │ maxima.org     │\n",
       "│ 3   │ Octave           │ 2000              │ gnu.org/octave │\n",
       "│ 4   │ SageMath         │ 2005              │ sagemath.org   │\n",
       "│ 5   │ Julia            │ 2012              │ julialang.org  │"
      ]
     },
     "execution_count": 108,
     "metadata": {},
     "output_type": "execute_result"
    }
   ],
   "source": [
    "delete!(Softwares, :Licença)"
   ]
  },
  {
   "cell_type": "markdown",
   "metadata": {},
   "source": [
    "**Renomear o cabeçalho das Colunas de um DataFrame**"
   ]
  },
  {
   "cell_type": "markdown",
   "metadata": {},
   "source": [
    "Sintaxe:\n",
    "```julia\n",
    "rename(dataframe, :nome_coluna_antigo => :nome_coluna_novo)\n",
    "```\n",
    "Ou para renomear e substituir o dataframe:\n",
    "\n",
    "```julia\n",
    "rename!(dataframe, :nome_coluna_antigo => :nome_coluna_novo)\n",
    "```\n",
    "Renomear todas as colunas:\n",
    "```julia\n",
    "names!(dataframe, [:novo_nome_coluna_1, :novo_nome_coluna_2]) \n",
    "```\n",
    "Exemplo: Alterar o nome da coluna 1 \"Nome_do_software\" para \"nome\" e da coluna 2 \"Ano_de_lancamento\" para \"Ano\" ."
   ]
  },
  {
   "cell_type": "markdown",
   "metadata": {},
   "source": [
    "Para visualizar o cabeçalho das colunas use:"
   ]
  },
  {
   "cell_type": "code",
   "execution_count": 109,
   "metadata": {
    "scrolled": false
   },
   "outputs": [
    {
     "data": {
      "text/plain": [
       "3-element Array{Symbol,1}:\n",
       " :Nome_do_software \n",
       " :Ano_de_lancamento\n",
       " :Site             "
      ]
     },
     "execution_count": 109,
     "metadata": {},
     "output_type": "execute_result"
    }
   ],
   "source": [
    "names(Softwares) "
   ]
  },
  {
   "cell_type": "code",
   "execution_count": 110,
   "metadata": {
    "scrolled": false
   },
   "outputs": [
    {
     "data": {
      "text/html": [
       "<table class=\"data-frame\"><thead><tr><th></th><th>Nome</th><th>Ano</th><th>Site</th></tr></thead><tbody><tr><th>1</th><td>maXIma</td><td>1980</td><td>maxima.org</td></tr><tr><th>2</th><td>Maxima</td><td>1980</td><td>maxima.org</td></tr><tr><th>3</th><td>Octave</td><td>2000</td><td>gnu.org/octave</td></tr><tr><th>4</th><td>SageMath</td><td>2005</td><td>sagemath.org</td></tr><tr><th>5</th><td>Julia</td><td>2012</td><td>julialang.org</td></tr></tbody></table>"
      ],
      "text/plain": [
       "5×3 DataFrame\n",
       "│ Row │ Nome     │ Ano  │ Site           │\n",
       "├─────┼──────────┼──────┼────────────────┤\n",
       "│ 1   │ maXIma   │ 1980 │ maxima.org     │\n",
       "│ 2   │ Maxima   │ 1980 │ maxima.org     │\n",
       "│ 3   │ Octave   │ 2000 │ gnu.org/octave │\n",
       "│ 4   │ SageMath │ 2005 │ sagemath.org   │\n",
       "│ 5   │ Julia    │ 2012 │ julialang.org  │"
      ]
     },
     "execution_count": 110,
     "metadata": {},
     "output_type": "execute_result"
    }
   ],
   "source": [
    "rename!(Softwares, :Nome_do_software => :Nome, :Ano_de_lancamento => :Ano)"
   ]
  },
  {
   "cell_type": "markdown",
   "metadata": {},
   "source": [
    "** Para concatenar Dataframes na horizontal use:**\n",
    "```julia\n",
    "[Dataframe_1  Dataframe_2] \n",
    "\n",
    "hcat(Dataframe_1 , Dataframe_2)\n",
    "```"
   ]
  },
  {
   "cell_type": "code",
   "execution_count": 113,
   "metadata": {
    "scrolled": false
   },
   "outputs": [
    {
     "data": {
      "text/html": [
       "<table class=\"data-frame\"><thead><tr><th></th><th>Nome</th><th>Ano</th><th>Site</th></tr></thead><tbody><tr><th>1</th><td>Scilab</td><td>2005</td><td>scilab.org</td></tr><tr><th>2</th><td>Axiom</td><td>1980</td><td>axion.org</td></tr><tr><th>3</th><td>FreeMat</td><td>2001</td><td>freemat,org</td></tr><tr><th>4</th><td>Python</td><td>1989</td><td>python.org</td></tr><tr><th>5</th><td>Lua</td><td>2005</td><td>lua.org</td></tr></tbody></table>"
      ],
      "text/plain": [
       "5×3 DataFrame\n",
       "│ Row │ Nome    │ Ano  │ Site        │\n",
       "├─────┼─────────┼──────┼─────────────┤\n",
       "│ 1   │ Scilab  │ 2005 │ scilab.org  │\n",
       "│ 2   │ Axiom   │ 1980 │ axion.org   │\n",
       "│ 3   │ FreeMat │ 2001 │ freemat,org │\n",
       "│ 4   │ Python  │ 1989 │ python.org  │\n",
       "│ 5   │ Lua     │ 2005 │ lua.org     │"
      ]
     },
     "execution_count": 113,
     "metadata": {},
     "output_type": "execute_result"
    }
   ],
   "source": [
    "# Novo Dataframe \n",
    "\n",
    "dados_novos = DataFrame()\n",
    "\n",
    "dados_novos[:Nome] = [\"Scilab\", \"Axiom\", \"FreeMat\", \"Python\", \"Lua\"]\n",
    "dados_novos[:Ano]  = [2005, 1980, 2001, 1989, 2005]\n",
    "dados_novos[:Site] = [\"scilab.org\", \"axion.org\", \"freemat,org\", \"python.org\", \"lua.org\"]\n",
    "\n",
    "dados_novos"
   ]
  },
  {
   "cell_type": "code",
   "execution_count": 114,
   "metadata": {
    "scrolled": true
   },
   "outputs": [
    {
     "data": {
      "text/html": [
       "<table class=\"data-frame\"><thead><tr><th></th><th>Nome</th><th>Ano</th><th>Site</th><th>Nome_1</th><th>Ano_1</th><th>Site_1</th></tr></thead><tbody><tr><th>1</th><td>maXIma</td><td>1980</td><td>maxima.org</td><td>Scilab</td><td>2005</td><td>scilab.org</td></tr><tr><th>2</th><td>Maxima</td><td>1980</td><td>maxima.org</td><td>Axiom</td><td>1980</td><td>axion.org</td></tr><tr><th>3</th><td>Octave</td><td>2000</td><td>gnu.org/octave</td><td>FreeMat</td><td>2001</td><td>freemat,org</td></tr><tr><th>4</th><td>SageMath</td><td>2005</td><td>sagemath.org</td><td>Python</td><td>1989</td><td>python.org</td></tr><tr><th>5</th><td>Julia</td><td>2012</td><td>julialang.org</td><td>Lua</td><td>2005</td><td>lua.org</td></tr></tbody></table>"
      ],
      "text/plain": [
       "5×6 DataFrame\n",
       "│ Row │ Nome     │ Ano  │ Site           │ Nome_1  │ Ano_1 │ Site_1      │\n",
       "├─────┼──────────┼──────┼────────────────┼─────────┼───────┼─────────────┤\n",
       "│ 1   │ maXIma   │ 1980 │ maxima.org     │ Scilab  │ 2005  │ scilab.org  │\n",
       "│ 2   │ Maxima   │ 1980 │ maxima.org     │ Axiom   │ 1980  │ axion.org   │\n",
       "│ 3   │ Octave   │ 2000 │ gnu.org/octave │ FreeMat │ 2001  │ freemat,org │\n",
       "│ 4   │ SageMath │ 2005 │ sagemath.org   │ Python  │ 1989  │ python.org  │\n",
       "│ 5   │ Julia    │ 2012 │ julialang.org  │ Lua     │ 2005  │ lua.org     │"
      ]
     },
     "execution_count": 114,
     "metadata": {},
     "output_type": "execute_result"
    }
   ],
   "source": [
    "hcat(Softwares, dados_novos)"
   ]
  },
  {
   "cell_type": "code",
   "execution_count": 115,
   "metadata": {},
   "outputs": [
    {
     "data": {
      "text/html": [
       "<table class=\"data-frame\"><thead><tr><th></th><th>Nome</th><th>Ano</th><th>Site</th><th>Nome_1</th><th>Ano_1</th><th>Site_1</th></tr></thead><tbody><tr><th>1</th><td>maXIma</td><td>1980</td><td>maxima.org</td><td>Scilab</td><td>2005</td><td>scilab.org</td></tr><tr><th>2</th><td>Maxima</td><td>1980</td><td>maxima.org</td><td>Axiom</td><td>1980</td><td>axion.org</td></tr><tr><th>3</th><td>Octave</td><td>2000</td><td>gnu.org/octave</td><td>FreeMat</td><td>2001</td><td>freemat,org</td></tr><tr><th>4</th><td>SageMath</td><td>2005</td><td>sagemath.org</td><td>Python</td><td>1989</td><td>python.org</td></tr><tr><th>5</th><td>Julia</td><td>2012</td><td>julialang.org</td><td>Lua</td><td>2005</td><td>lua.org</td></tr></tbody></table>"
      ],
      "text/plain": [
       "5×6 DataFrame\n",
       "│ Row │ Nome     │ Ano  │ Site           │ Nome_1  │ Ano_1 │ Site_1      │\n",
       "├─────┼──────────┼──────┼────────────────┼─────────┼───────┼─────────────┤\n",
       "│ 1   │ maXIma   │ 1980 │ maxima.org     │ Scilab  │ 2005  │ scilab.org  │\n",
       "│ 2   │ Maxima   │ 1980 │ maxima.org     │ Axiom   │ 1980  │ axion.org   │\n",
       "│ 3   │ Octave   │ 2000 │ gnu.org/octave │ FreeMat │ 2001  │ freemat,org │\n",
       "│ 4   │ SageMath │ 2005 │ sagemath.org   │ Python  │ 1989  │ python.org  │\n",
       "│ 5   │ Julia    │ 2012 │ julialang.org  │ Lua     │ 2005  │ lua.org     │"
      ]
     },
     "execution_count": 115,
     "metadata": {},
     "output_type": "execute_result"
    }
   ],
   "source": [
    "[Softwares  dados_novos]"
   ]
  },
  {
   "cell_type": "markdown",
   "metadata": {},
   "source": [
    "** Para concatenar Dataframes na vertical use:**\n",
    "```julia\n",
    "[Dataframe_1 ; Dataframe_2] \n",
    "\n",
    "vcat(Dataframe_1 , Dataframe_2)\n",
    "```"
   ]
  },
  {
   "cell_type": "code",
   "execution_count": 116,
   "metadata": {
    "scrolled": true
   },
   "outputs": [
    {
     "data": {
      "text/html": [
       "<table class=\"data-frame\"><thead><tr><th></th><th>Nome</th><th>Ano</th><th>Site</th></tr></thead><tbody><tr><th>1</th><td>maXIma</td><td>1980</td><td>maxima.org</td></tr><tr><th>2</th><td>Maxima</td><td>1980</td><td>maxima.org</td></tr><tr><th>3</th><td>Octave</td><td>2000</td><td>gnu.org/octave</td></tr><tr><th>4</th><td>SageMath</td><td>2005</td><td>sagemath.org</td></tr><tr><th>5</th><td>Julia</td><td>2012</td><td>julialang.org</td></tr><tr><th>6</th><td>Scilab</td><td>2005</td><td>scilab.org</td></tr><tr><th>7</th><td>Axiom</td><td>1980</td><td>axion.org</td></tr><tr><th>8</th><td>FreeMat</td><td>2001</td><td>freemat,org</td></tr><tr><th>9</th><td>Python</td><td>1989</td><td>python.org</td></tr><tr><th>10</th><td>Lua</td><td>2005</td><td>lua.org</td></tr></tbody></table>"
      ],
      "text/plain": [
       "10×3 DataFrame\n",
       "│ Row │ Nome     │ Ano  │ Site           │\n",
       "├─────┼──────────┼──────┼────────────────┤\n",
       "│ 1   │ maXIma   │ 1980 │ maxima.org     │\n",
       "│ 2   │ Maxima   │ 1980 │ maxima.org     │\n",
       "│ 3   │ Octave   │ 2000 │ gnu.org/octave │\n",
       "│ 4   │ SageMath │ 2005 │ sagemath.org   │\n",
       "│ 5   │ Julia    │ 2012 │ julialang.org  │\n",
       "│ 6   │ Scilab   │ 2005 │ scilab.org     │\n",
       "│ 7   │ Axiom    │ 1980 │ axion.org      │\n",
       "│ 8   │ FreeMat  │ 2001 │ freemat,org    │\n",
       "│ 9   │ Python   │ 1989 │ python.org     │\n",
       "│ 10  │ Lua      │ 2005 │ lua.org        │"
      ]
     },
     "execution_count": 116,
     "metadata": {},
     "output_type": "execute_result"
    }
   ],
   "source": [
    "vcat(Softwares , dados_novos)"
   ]
  },
  {
   "cell_type": "code",
   "execution_count": 117,
   "metadata": {},
   "outputs": [
    {
     "data": {
      "text/html": [
       "<table class=\"data-frame\"><thead><tr><th></th><th>Nome</th><th>Ano</th><th>Site</th></tr></thead><tbody><tr><th>1</th><td>maXIma</td><td>1980</td><td>maxima.org</td></tr><tr><th>2</th><td>Maxima</td><td>1980</td><td>maxima.org</td></tr><tr><th>3</th><td>Octave</td><td>2000</td><td>gnu.org/octave</td></tr><tr><th>4</th><td>SageMath</td><td>2005</td><td>sagemath.org</td></tr><tr><th>5</th><td>Julia</td><td>2012</td><td>julialang.org</td></tr><tr><th>6</th><td>Scilab</td><td>2005</td><td>scilab.org</td></tr><tr><th>7</th><td>Axiom</td><td>1980</td><td>axion.org</td></tr><tr><th>8</th><td>FreeMat</td><td>2001</td><td>freemat,org</td></tr><tr><th>9</th><td>Python</td><td>1989</td><td>python.org</td></tr><tr><th>10</th><td>Lua</td><td>2005</td><td>lua.org</td></tr></tbody></table>"
      ],
      "text/plain": [
       "10×3 DataFrame\n",
       "│ Row │ Nome     │ Ano  │ Site           │\n",
       "├─────┼──────────┼──────┼────────────────┤\n",
       "│ 1   │ maXIma   │ 1980 │ maxima.org     │\n",
       "│ 2   │ Maxima   │ 1980 │ maxima.org     │\n",
       "│ 3   │ Octave   │ 2000 │ gnu.org/octave │\n",
       "│ 4   │ SageMath │ 2005 │ sagemath.org   │\n",
       "│ 5   │ Julia    │ 2012 │ julialang.org  │\n",
       "│ 6   │ Scilab   │ 2005 │ scilab.org     │\n",
       "│ 7   │ Axiom    │ 1980 │ axion.org      │\n",
       "│ 8   │ FreeMat  │ 2001 │ freemat,org    │\n",
       "│ 9   │ Python   │ 1989 │ python.org     │\n",
       "│ 10  │ Lua      │ 2005 │ lua.org        │"
      ]
     },
     "execution_count": 117,
     "metadata": {},
     "output_type": "execute_result"
    }
   ],
   "source": [
    "[Softwares;  dados_novos]"
   ]
  },
  {
   "cell_type": "markdown",
   "metadata": {},
   "source": [
    "Se os Dataframes tiverem uma coluna com nome em comum e mesmo tamanho pode ser usado a forma:\n",
    "```julia\n",
    "join(Dataframe_1, Dataframe_2, on = :nome_coluna_comum)\n",
    "```"
   ]
  },
  {
   "cell_type": "code",
   "execution_count": 118,
   "metadata": {},
   "outputs": [
    {
     "data": {
      "text/html": [
       "<table class=\"data-frame\"><thead><tr><th></th><th>Nome</th><th>Ano</th><th>Site</th></tr></thead><tbody><tr><th>1</th><td>maXIma</td><td>1980</td><td>maxima.org</td></tr><tr><th>2</th><td>Maxima</td><td>1980</td><td>maxima.org</td></tr><tr><th>3</th><td>Octave</td><td>2000</td><td>gnu.org/octave</td></tr><tr><th>4</th><td>SageMath</td><td>2005</td><td>sagemath.org</td></tr><tr><th>5</th><td>Julia</td><td>2012</td><td>julialang.org</td></tr></tbody></table>"
      ],
      "text/plain": [
       "5×3 DataFrame\n",
       "│ Row │ Nome     │ Ano  │ Site           │\n",
       "├─────┼──────────┼──────┼────────────────┤\n",
       "│ 1   │ maXIma   │ 1980 │ maxima.org     │\n",
       "│ 2   │ Maxima   │ 1980 │ maxima.org     │\n",
       "│ 3   │ Octave   │ 2000 │ gnu.org/octave │\n",
       "│ 4   │ SageMath │ 2005 │ sagemath.org   │\n",
       "│ 5   │ Julia    │ 2012 │ julialang.org  │"
      ]
     },
     "execution_count": 118,
     "metadata": {},
     "output_type": "execute_result"
    }
   ],
   "source": [
    "Softwares"
   ]
  },
  {
   "cell_type": "code",
   "execution_count": 119,
   "metadata": {},
   "outputs": [
    {
     "data": {
      "text/html": [
       "<table class=\"data-frame\"><thead><tr><th></th><th>Nome</th><th>Ano</th><th>Site</th><th>Nome_1</th><th>Site_1</th></tr></thead><tbody><tr><th>1</th><td>maXIma</td><td>1980</td><td>maxima.org</td><td>Axiom</td><td>axion.org</td></tr><tr><th>2</th><td>Maxima</td><td>1980</td><td>maxima.org</td><td>Axiom</td><td>axion.org</td></tr><tr><th>3</th><td>SageMath</td><td>2005</td><td>sagemath.org</td><td>Scilab</td><td>scilab.org</td></tr><tr><th>4</th><td>SageMath</td><td>2005</td><td>sagemath.org</td><td>Lua</td><td>lua.org</td></tr></tbody></table>"
      ],
      "text/plain": [
       "4×5 DataFrame\n",
       "│ Row │ Nome     │ Ano  │ Site         │ Nome_1 │ Site_1     │\n",
       "├─────┼──────────┼──────┼──────────────┼────────┼────────────┤\n",
       "│ 1   │ maXIma   │ 1980 │ maxima.org   │ Axiom  │ axion.org  │\n",
       "│ 2   │ Maxima   │ 1980 │ maxima.org   │ Axiom  │ axion.org  │\n",
       "│ 3   │ SageMath │ 2005 │ sagemath.org │ Scilab │ scilab.org │\n",
       "│ 4   │ SageMath │ 2005 │ sagemath.org │ Lua    │ lua.org    │"
      ]
     },
     "execution_count": 119,
     "metadata": {},
     "output_type": "execute_result"
    }
   ],
   "source": [
    "join(Softwares, dados_novos, on = :Ano)"
   ]
  },
  {
   "cell_type": "markdown",
   "metadata": {},
   "source": [
    "** Para deletar linhas e linhas com dados repetidos:**\n",
    "\n",
    "Apaga as linhas e sobrescreve o Dataframe (CUIDADO!):\n",
    "```julia\n",
    "deleterows!(DataFrame, [linha_1, linha_2,...linha_x]) \n",
    "deleterows!(DataFrame, linha_1:linha_x)      \n",
    "```\n",
    "Sendo `x` ordem da linha do dataframe.\n",
    "\n",
    "Apaga somente a linha repetida:\n",
    "```julia\n",
    "unique(DataFrame)  \n",
    "unique!(DataFrame)\n",
    "```"
   ]
  },
  {
   "cell_type": "code",
   "execution_count": 120,
   "metadata": {
    "scrolled": true
   },
   "outputs": [
    {
     "data": {
      "text/html": [
       "<table class=\"data-frame\"><thead><tr><th></th><th>Nome</th><th>Ano</th><th>Site</th></tr></thead><tbody><tr><th>1</th><td>maXIma</td><td>1980</td><td>maxima.org</td></tr><tr><th>2</th><td>Maxima</td><td>1980</td><td>maxima.org</td></tr><tr><th>3</th><td>Octave</td><td>2000</td><td>gnu.org/octave</td></tr><tr><th>4</th><td>SageMath</td><td>2005</td><td>sagemath.org</td></tr><tr><th>5</th><td>Julia</td><td>2012</td><td>julialang.org</td></tr></tbody></table>"
      ],
      "text/plain": [
       "5×3 DataFrame\n",
       "│ Row │ Nome     │ Ano  │ Site           │\n",
       "├─────┼──────────┼──────┼────────────────┤\n",
       "│ 1   │ maXIma   │ 1980 │ maxima.org     │\n",
       "│ 2   │ Maxima   │ 1980 │ maxima.org     │\n",
       "│ 3   │ Octave   │ 2000 │ gnu.org/octave │\n",
       "│ 4   │ SageMath │ 2005 │ sagemath.org   │\n",
       "│ 5   │ Julia    │ 2012 │ julialang.org  │"
      ]
     },
     "execution_count": 120,
     "metadata": {},
     "output_type": "execute_result"
    }
   ],
   "source": [
    "Softwares"
   ]
  },
  {
   "cell_type": "code",
   "execution_count": 121,
   "metadata": {},
   "outputs": [
    {
     "data": {
      "text/html": [
       "<table class=\"data-frame\"><thead><tr><th></th><th>Nome</th><th>Ano</th><th>Site</th></tr></thead><tbody><tr><th>1</th><td>maXIma</td><td>1980</td><td>maxima.org</td></tr><tr><th>2</th><td>Octave</td><td>2000</td><td>gnu.org/octave</td></tr><tr><th>3</th><td>SageMath</td><td>2005</td><td>sagemath.org</td></tr><tr><th>4</th><td>Julia</td><td>2012</td><td>julialang.org</td></tr></tbody></table>"
      ],
      "text/plain": [
       "4×3 DataFrame\n",
       "│ Row │ Nome     │ Ano  │ Site           │\n",
       "├─────┼──────────┼──────┼────────────────┤\n",
       "│ 1   │ maXIma   │ 1980 │ maxima.org     │\n",
       "│ 2   │ Octave   │ 2000 │ gnu.org/octave │\n",
       "│ 3   │ SageMath │ 2005 │ sagemath.org   │\n",
       "│ 4   │ Julia    │ 2012 │ julialang.org  │"
      ]
     },
     "execution_count": 121,
     "metadata": {},
     "output_type": "execute_result"
    }
   ],
   "source": [
    "# deletar segunda linha\n",
    "deleterows!(Softwares, 2)"
   ]
  },
  {
   "cell_type": "code",
   "execution_count": 122,
   "metadata": {
    "scrolled": false
   },
   "outputs": [
    {
     "data": {
      "text/html": [
       "<table class=\"data-frame\"><thead><tr><th></th><th>Nome</th><th>Ano</th><th>Site</th></tr></thead><tbody><tr><th>1</th><td>maXIma</td><td>1980</td><td>maxima.org</td></tr><tr><th>2</th><td>Octave</td><td>2000</td><td>gnu.org/octave</td></tr><tr><th>3</th><td>SageMath</td><td>2005</td><td>sagemath.org</td></tr><tr><th>4</th><td>Julia</td><td>2012</td><td>julialang.org</td></tr></tbody></table>"
      ],
      "text/plain": [
       "4×3 DataFrame\n",
       "│ Row │ Nome     │ Ano  │ Site           │\n",
       "├─────┼──────────┼──────┼────────────────┤\n",
       "│ 1   │ maXIma   │ 1980 │ maxima.org     │\n",
       "│ 2   │ Octave   │ 2000 │ gnu.org/octave │\n",
       "│ 3   │ SageMath │ 2005 │ sagemath.org   │\n",
       "│ 4   │ Julia    │ 2012 │ julialang.org  │"
      ]
     },
     "execution_count": 122,
     "metadata": {},
     "output_type": "execute_result"
    }
   ],
   "source": [
    "# deletar linhas de dados repetido\n",
    "unique!(Softwares)"
   ]
  },
  {
   "cell_type": "markdown",
   "metadata": {},
   "source": [
    "** Para ordenar os elementos de um Dataframe**\n",
    "QuickSort is used by default for numeric arrays while MergeSort is used for other arrays\n",
    "Sintaxe:\n",
    "```julia\n",
    "sort!(nome_DataFrame, :nome_coluna, opções)\n",
    "```\n",
    "* **opções**: \n",
    "    * **rev**: quando true, ordena de forma reversa;\n",
    "    * **alg**: algoritmo de ordenamento: QuickSort, MergeSort, TimSort e RadixSort;\n",
    "    * **lt**: \n",
    "    * **order**:\n",
    "    * **by**: quando temos um dados coluna x linha contendo uma coleção, podemos indicar qual a posição da coleção que será utilizada como  base de ordenação.\n",
    "    "
   ]
  },
  {
   "cell_type": "code",
   "execution_count": 204,
   "metadata": {},
   "outputs": [
    {
     "data": {
      "text/html": [
       "<table class=\"data-frame\"><thead><tr><th></th><th>Nome</th><th>Ano</th><th>Site</th></tr></thead><tbody><tr><th>1</th><td>Julia</td><td>2012</td><td>julialang.org</td></tr><tr><th>2</th><td>Octave</td><td>2000</td><td>gnu.org/octave</td></tr><tr><th>3</th><td>SageMath</td><td>2005</td><td>sagemath.org</td></tr><tr><th>4</th><td>maXIma</td><td>1980</td><td>maxima.org</td></tr></tbody></table>"
      ],
      "text/plain": [
       "4×3 DataFrame\n",
       "│ Row │ Nome     │ Ano  │ Site           │\n",
       "├─────┼──────────┼──────┼────────────────┤\n",
       "│ 1   │ Julia    │ 2012 │ julialang.org  │\n",
       "│ 2   │ Octave   │ 2000 │ gnu.org/octave │\n",
       "│ 3   │ SageMath │ 2005 │ sagemath.org   │\n",
       "│ 4   │ maXIma   │ 1980 │ maxima.org     │"
      ]
     },
     "execution_count": 204,
     "metadata": {},
     "output_type": "execute_result"
    }
   ],
   "source": [
    "sort(Softwares, :Nome, alg=MergeSort)"
   ]
  },
  {
   "cell_type": "code",
   "execution_count": 205,
   "metadata": {
    "scrolled": false
   },
   "outputs": [
    {
     "data": {
      "text/html": [
       "<table class=\"data-frame\"><thead><tr><th></th><th>Nome</th><th>Ano</th><th>Site</th></tr></thead><tbody><tr><th>1</th><td>Julia</td><td>2012</td><td>julialang.org</td></tr><tr><th>2</th><td>Octave</td><td>2000</td><td>gnu.org/octave</td></tr><tr><th>3</th><td>SageMath</td><td>2005</td><td>sagemath.org</td></tr><tr><th>4</th><td>maXIma</td><td>1980</td><td>maxima.org</td></tr></tbody></table>"
      ],
      "text/plain": [
       "4×3 DataFrame\n",
       "│ Row │ Nome     │ Ano  │ Site           │\n",
       "├─────┼──────────┼──────┼────────────────┤\n",
       "│ 1   │ Julia    │ 2012 │ julialang.org  │\n",
       "│ 2   │ Octave   │ 2000 │ gnu.org/octave │\n",
       "│ 3   │ SageMath │ 2005 │ sagemath.org   │\n",
       "│ 4   │ maXIma   │ 1980 │ maxima.org     │"
      ]
     },
     "execution_count": 205,
     "metadata": {},
     "output_type": "execute_result"
    }
   ],
   "source": [
    "# ordena e atualiza\n",
    "sort!(Softwares, :Nome)"
   ]
  },
  {
   "cell_type": "markdown",
   "metadata": {},
   "source": [
    "#### FILTRAR  DADOS EM UM DATAFRAME\n",
    "\n",
    "Para filtrar dados em um DataFrame temos:\n",
    "```julia\n",
    "Nome_DataFrame[ Nome_DataFrame[coluna] .operador valor, colunas ]\n",
    "```\n",
    "Sendo:\n",
    "* **Operador**: > , < , != e outros\n",
    "* **valor** : valor a ser pesquisado\n",
    "* **colunas**: qual ou quais colunas devem ser selecionadas (use \":\" para todas as colunas)"
   ]
  },
  {
   "cell_type": "code",
   "execution_count": 217,
   "metadata": {
    "scrolled": true
   },
   "outputs": [
    {
     "data": {
      "text/html": [
       "<table class=\"data-frame\"><thead><tr><th></th><th>Nome</th><th>Ano</th><th>Site</th></tr></thead><tbody><tr><th>1</th><td>Julia</td><td>2012</td><td>julialang.org</td></tr><tr><th>2</th><td>Octave</td><td>2000</td><td>gnu.org/octave</td></tr><tr><th>3</th><td>SageMath</td><td>2005</td><td>sagemath.org</td></tr><tr><th>4</th><td>maXIma</td><td>1980</td><td>maxima.org</td></tr></tbody></table>"
      ],
      "text/plain": [
       "4×3 DataFrame\n",
       "│ Row │ Nome     │ Ano  │ Site           │\n",
       "├─────┼──────────┼──────┼────────────────┤\n",
       "│ 1   │ Julia    │ 2012 │ julialang.org  │\n",
       "│ 2   │ Octave   │ 2000 │ gnu.org/octave │\n",
       "│ 3   │ SageMath │ 2005 │ sagemath.org   │\n",
       "│ 4   │ maXIma   │ 1980 │ maxima.org     │"
      ]
     },
     "execution_count": 217,
     "metadata": {},
     "output_type": "execute_result"
    }
   ],
   "source": [
    "Softwares"
   ]
  },
  {
   "cell_type": "markdown",
   "metadata": {},
   "source": [
    "Exemplo 1: listar todos os nomes dos sofwares e sites, maiores que o ano de 1980."
   ]
  },
  {
   "cell_type": "code",
   "execution_count": 212,
   "metadata": {
    "scrolled": false
   },
   "outputs": [
    {
     "data": {
      "text/html": [
       "<table class=\"data-frame\"><thead><tr><th></th><th>Nome</th><th>Ano</th><th>Site</th></tr></thead><tbody><tr><th>1</th><td>Julia</td><td>2012</td><td>julialang.org</td></tr><tr><th>2</th><td>Octave</td><td>2000</td><td>gnu.org/octave</td></tr><tr><th>3</th><td>SageMath</td><td>2005</td><td>sagemath.org</td></tr></tbody></table>"
      ],
      "text/plain": [
       "3×3 DataFrame\n",
       "│ Row │ Nome     │ Ano  │ Site           │\n",
       "├─────┼──────────┼──────┼────────────────┤\n",
       "│ 1   │ Julia    │ 2012 │ julialang.org  │\n",
       "│ 2   │ Octave   │ 2000 │ gnu.org/octave │\n",
       "│ 3   │ SageMath │ 2005 │ sagemath.org   │"
      ]
     },
     "execution_count": 212,
     "metadata": {},
     "output_type": "execute_result"
    }
   ],
   "source": [
    "Softwares[Softwares.Ano.> 1980, :]"
   ]
  },
  {
   "cell_type": "markdown",
   "metadata": {},
   "source": [
    "Exemplo 2: listar somente os nomes (coluna 1) dos softwares cujo ano de lançamento é maior que 1980."
   ]
  },
  {
   "cell_type": "code",
   "execution_count": 133,
   "metadata": {
    "scrolled": true
   },
   "outputs": [
    {
     "data": {
      "text/plain": [
       "3-element Array{String,1}:\n",
       " \"Octave\"  \n",
       " \"SageMath\"\n",
       " \"Julia\"   "
      ]
     },
     "execution_count": 133,
     "metadata": {},
     "output_type": "execute_result"
    }
   ],
   "source": [
    "Softwares[Softwares.Ano .> 1980, 1]"
   ]
  },
  {
   "cell_type": "markdown",
   "metadata": {},
   "source": [
    "Exemplo 3:  listar somente do ano de lançamento (coluna 1) até site (coluna 3) cujo ano de lançamento é maior que 1980."
   ]
  },
  {
   "cell_type": "code",
   "execution_count": 138,
   "metadata": {
    "scrolled": true
   },
   "outputs": [
    {
     "data": {
      "text/html": [
       "<table class=\"data-frame\"><thead><tr><th></th><th>Ano</th><th>Site</th></tr></thead><tbody><tr><th>1</th><td>2000</td><td>gnu.org/octave</td></tr><tr><th>2</th><td>2005</td><td>sagemath.org</td></tr><tr><th>3</th><td>2012</td><td>julialang.org</td></tr></tbody></table>"
      ],
      "text/plain": [
       "3×2 DataFrame\n",
       "│ Row │ Ano  │ Site           │\n",
       "├─────┼──────┼────────────────┤\n",
       "│ 1   │ 2000 │ gnu.org/octave │\n",
       "│ 2   │ 2005 │ sagemath.org   │\n",
       "│ 3   │ 2012 │ julialang.org  │"
      ]
     },
     "execution_count": 138,
     "metadata": {},
     "output_type": "execute_result"
    }
   ],
   "source": [
    "Softwares[Softwares.Ano .> 1980, 2:3]"
   ]
  },
  {
   "cell_type": "markdown",
   "metadata": {},
   "source": [
    "Exemplo 4: listar os nomes dos softwares (coluna 1) e site (coluna 3) cujo ano de lançamento é maior que 1980."
   ]
  },
  {
   "cell_type": "code",
   "execution_count": 139,
   "metadata": {
    "scrolled": true
   },
   "outputs": [
    {
     "data": {
      "text/html": [
       "<table class=\"data-frame\"><thead><tr><th></th><th>Nome</th><th>Site</th></tr></thead><tbody><tr><th>1</th><td>Octave</td><td>gnu.org/octave</td></tr><tr><th>2</th><td>SageMath</td><td>sagemath.org</td></tr><tr><th>3</th><td>Julia</td><td>julialang.org</td></tr></tbody></table>"
      ],
      "text/plain": [
       "3×2 DataFrame\n",
       "│ Row │ Nome     │ Site           │\n",
       "├─────┼──────────┼────────────────┤\n",
       "│ 1   │ Octave   │ gnu.org/octave │\n",
       "│ 2   │ SageMath │ sagemath.org   │\n",
       "│ 3   │ Julia    │ julialang.org  │"
      ]
     },
     "execution_count": 139,
     "metadata": {},
     "output_type": "execute_result"
    }
   ],
   "source": [
    "Softwares[Softwares.Ano .> 1980, [1, 3]]"
   ]
  },
  {
   "cell_type": "markdown",
   "metadata": {},
   "source": [
    "Exemplo 5: listar os nomes dos softwares (coluna 1), ano de lançamento (coluna 2) e site (coluna 3) cujo ano de lançamento é maior que 1980 e menor que 2010."
   ]
  },
  {
   "cell_type": "code",
   "execution_count": 142,
   "metadata": {
    "scrolled": true
   },
   "outputs": [
    {
     "data": {
      "text/html": [
       "<table class=\"data-frame\"><thead><tr><th></th><th>Nome</th><th>Ano</th><th>Site</th></tr></thead><tbody><tr><th>1</th><td>Octave</td><td>2000</td><td>gnu.org/octave</td></tr><tr><th>2</th><td>SageMath</td><td>2005</td><td>sagemath.org</td></tr></tbody></table>"
      ],
      "text/plain": [
       "2×3 DataFrame\n",
       "│ Row │ Nome     │ Ano  │ Site           │\n",
       "├─────┼──────────┼──────┼────────────────┤\n",
       "│ 1   │ Octave   │ 2000 │ gnu.org/octave │\n",
       "│ 2   │ SageMath │ 2005 │ sagemath.org   │"
      ]
     },
     "execution_count": 142,
     "metadata": {},
     "output_type": "execute_result"
    }
   ],
   "source": [
    "Softwares[.&(Softwares.Ano .> 1980, Softwares.Ano .< 2010), : ]"
   ]
  },
  {
   "cell_type": "code",
   "execution_count": null,
   "metadata": {
    "collapsed": true
   },
   "outputs": [],
   "source": []
  },
  {
   "cell_type": "code",
   "execution_count": 144,
   "metadata": {
    "scrolled": true
   },
   "outputs": [
    {
     "data": {
      "text/html": [
       "<table class=\"data-frame\"><thead><tr><th></th><th>Nome</th><th>Ano</th><th>Site</th></tr></thead><tbody><tr><th>1</th><td>SageMath</td><td>2005</td><td>sagemath.org</td></tr><tr><th>2</th><td>Julia</td><td>2012</td><td>julialang.org</td></tr></tbody></table>"
      ],
      "text/plain": [
       "2×3 DataFrame\n",
       "│ Row │ Nome     │ Ano  │ Site          │\n",
       "├─────┼──────────┼──────┼───────────────┤\n",
       "│ 1   │ SageMath │ 2005 │ sagemath.org  │\n",
       "│ 2   │ Julia    │ 2012 │ julialang.org │"
      ]
     },
     "execution_count": 144,
     "metadata": {},
     "output_type": "execute_result"
    }
   ],
   "source": [
    "Softwares[.&(Softwares.Ano .> 1980, Softwares.Nome .!= \"Octave\"), : ]"
   ]
  },
  {
   "cell_type": "markdown",
   "metadata": {},
   "source": [
    "Se o objetivo é encontrar a ordem das linhas use a função `findall()`. Sintaxe:\n",
    "```julia\n",
    "findall(nome_dataframe.nome_coluna .operador valor)\n",
    "```"
   ]
  },
  {
   "cell_type": "code",
   "execution_count": 228,
   "metadata": {},
   "outputs": [
    {
     "data": {
      "text/html": [
       "<table class=\"data-frame\"><thead><tr><th></th><th>Nome</th><th>Ano</th><th>Site</th></tr></thead><tbody><tr><th>1</th><td>Julia</td><td>2012</td><td>julialang.org</td></tr><tr><th>2</th><td>Octave</td><td>2000</td><td>gnu.org/octave</td></tr><tr><th>3</th><td>SageMath</td><td>2005</td><td>sagemath.org</td></tr><tr><th>4</th><td>maXIma</td><td>1980</td><td>maxima.org</td></tr></tbody></table>"
      ],
      "text/plain": [
       "4×3 DataFrame\n",
       "│ Row │ Nome     │ Ano  │ Site           │\n",
       "├─────┼──────────┼──────┼────────────────┤\n",
       "│ 1   │ Julia    │ 2012 │ julialang.org  │\n",
       "│ 2   │ Octave   │ 2000 │ gnu.org/octave │\n",
       "│ 3   │ SageMath │ 2005 │ sagemath.org   │\n",
       "│ 4   │ maXIma   │ 1980 │ maxima.org     │"
      ]
     },
     "execution_count": 228,
     "metadata": {},
     "output_type": "execute_result"
    }
   ],
   "source": [
    "Softwares"
   ]
  },
  {
   "cell_type": "code",
   "execution_count": 231,
   "metadata": {},
   "outputs": [
    {
     "data": {
      "text/plain": [
       "2-element Array{Int64,1}:\n",
       " 1\n",
       " 3"
      ]
     },
     "execution_count": 231,
     "metadata": {},
     "output_type": "execute_result"
    }
   ],
   "source": [
    "findall(Softwares.Ano .> 2000)"
   ]
  },
  {
   "cell_type": "markdown",
   "metadata": {},
   "source": [
    "#### MAP, MAPREDUCE , SUM, PROD E LIST COMPREHENSION"
   ]
  },
  {
   "cell_type": "code",
   "execution_count": 97,
   "metadata": {},
   "outputs": [
    {
     "data": {
      "text/plain": [
       "3-element Array{Int64,1}:\n",
       " 1980\n",
       " 2000\n",
       " 2012"
      ]
     },
     "execution_count": 97,
     "metadata": {},
     "output_type": "execute_result"
    }
   ],
   "source": [
    "Softwares.Ano"
   ]
  },
  {
   "cell_type": "code",
   "execution_count": 98,
   "metadata": {
    "scrolled": true
   },
   "outputs": [
    {
     "data": {
      "text/plain": [
       "3-element Array{Int64,1}:\n",
       " 19800\n",
       " 20000\n",
       " 20120"
      ]
     },
     "execution_count": 98,
     "metadata": {},
     "output_type": "execute_result"
    }
   ],
   "source": [
    "map(x -> 10*x , Softwares.Ano)"
   ]
  },
  {
   "cell_type": "code",
   "execution_count": 100,
   "metadata": {},
   "outputs": [
    {
     "data": {
      "text/plain": [
       "59920"
      ]
     },
     "execution_count": 100,
     "metadata": {},
     "output_type": "execute_result"
    }
   ],
   "source": [
    "mapreduce(x -> 10*x , + , Softwares.Ano)"
   ]
  },
  {
   "cell_type": "code",
   "execution_count": 101,
   "metadata": {},
   "outputs": [
    {
     "data": {
      "text/plain": [
       "5992"
      ]
     },
     "execution_count": 101,
     "metadata": {},
     "output_type": "execute_result"
    }
   ],
   "source": [
    "sum(Softwares.Ano)"
   ]
  },
  {
   "cell_type": "code",
   "execution_count": 102,
   "metadata": {},
   "outputs": [
    {
     "data": {
      "text/plain": [
       "7967520000"
      ]
     },
     "execution_count": 102,
     "metadata": {},
     "output_type": "execute_result"
    }
   ],
   "source": [
    "prod(Softwares.Ano)"
   ]
  },
  {
   "cell_type": "code",
   "execution_count": 103,
   "metadata": {
    "scrolled": true
   },
   "outputs": [
    {
     "data": {
      "text/plain": [
       "3-element Array{Int64,1}:\n",
       " 19800\n",
       " 20000\n",
       " 20120"
      ]
     },
     "execution_count": 103,
     "metadata": {},
     "output_type": "execute_result"
    }
   ],
   "source": [
    "[10*x for x = Softwares.Ano]"
   ]
  },
  {
   "cell_type": "code",
   "execution_count": null,
   "metadata": {
    "collapsed": true
   },
   "outputs": [],
   "source": []
  },
  {
   "cell_type": "markdown",
   "metadata": {},
   "source": [
    "## ARQUIVOS CSV \n",
    "\n",
    "Uma forma prática de trabalhar com dados tabelados é salva-los em arquivos no formato \"CSV\" - *Comma-separated values*. Os arquivos \"CSV\" são arquivos de texto simples que armazenam dados tabelados separados por um delimitador (geralmente a vírgula). Por serem bastante simples, arquivos \"CSV\" são comuns em todas as plataformas de computadores a abertos em qualquer editor de textos. Forma geral de um arquivo \"CSV\":\n",
    "```julia\n",
    "   nome_coluna_1 , nome_coluna_2\n",
    "   dado_1_col_1  , dado_1_col_2\n",
    "   dado_2_col_1  , dado_2_col_2\n",
    "```\n",
    "Para criar arquivos \"CSV\" podemos utilizar uma planilha eletrônica (excel, calc-libreoffice/openoffice). Basta preencher os dados nas celulas e depois salvar com extensão \"CSV\". "
   ]
  },
  {
   "cell_type": "markdown",
   "metadata": {},
   "source": [
    "### CRIAÇÃO DE ARQUIVOS CSV"
   ]
  },
  {
   "cell_type": "markdown",
   "metadata": {},
   "source": [
    "#### Criação de um arquivo CSV pelo editor de texto do Jupyter\n",
    "\n",
    "Na pagina principal do `Jupyter`, selecione \"New -> Text File\" conforme figura abaixo:\n",
    "\n",
    "<img src=\"Figuras/novo_arq_txt.png\" align=\"center\" width=\"700\">"
   ]
  },
  {
   "cell_type": "markdown",
   "metadata": {},
   "source": [
    "Digite os dados conforme figura abaixo:\n",
    "<img src=\"Figuras/arquivo_csv.png\" align=\"center\" width=\"400\">\n",
    "\n",
    "`Julia` salva o arquivo no formato `TXT` então basta clicar no título e alterar o nome para `teste.csv`. Para importar os dados use a sintaxe:\n",
    "```julia\n",
    "nome_dataframe = CSV.read(\"nome_arquivo.csv\")\n",
    "```\n",
    "A função `CSV.read()` coloca os dados em uma estrutura do tipo `DataFrames`. Caso o arquivo `CSV` tenha um cabeçalho contendo o nome das colunas, ocorrerá erro quando for manipulá-lo, pois o cabeçalho é do tipo `String` e portanto deve ser removido ou ignorado. Para ignorar o cabeçalho presente na primeira linha da tabela utilize:\n",
    "```julia\n",
    "nome_dataframe = CSV.read(\"nome_arquivo.csv\", header=false)\n",
    "```"
   ]
  },
  {
   "cell_type": "markdown",
   "metadata": {},
   "source": [
    "#### GRAVAÇÃO E LEITURA DE DATA FRAMES GRAVADOS EM DISCO"
   ]
  },
  {
   "cell_type": "code",
   "execution_count": 65,
   "metadata": {
    "collapsed": true
   },
   "outputs": [],
   "source": [
    "using CSV"
   ]
  },
  {
   "cell_type": "markdown",
   "metadata": {},
   "source": [
    "**Ler data frame gravado em disco**"
   ]
  },
  {
   "cell_type": "code",
   "execution_count": 70,
   "metadata": {},
   "outputs": [
    {
     "data": {
      "text/html": [
       "<table class=\"data-frame\"><thead><tr><th></th><th>0</th><th>0_1</th></tr></thead><tbody><tr><th>1</th><td>1</td><td>1.5</td></tr><tr><th>2</th><td>2</td><td>1.7</td></tr><tr><th>3</th><td>3</td><td>1.8</td></tr><tr><th>4</th><td>4</td><td>1.0</td></tr><tr><th>5</th><td>5</td><td>1.6</td></tr><tr><th>6</th><td>6</td><td>1.8</td></tr></tbody></table>"
      ],
      "text/plain": [
       "6×2 DataFrame\n",
       "│ Row │ 0 │ 0_1 │\n",
       "├─────┼───┼─────┤\n",
       "│ 1   │ 1 │ 1.5 │\n",
       "│ 2   │ 2 │ 1.7 │\n",
       "│ 3   │ 3 │ 1.8 │\n",
       "│ 4   │ 4 │ 1.0 │\n",
       "│ 5   │ 5 │ 1.6 │\n",
       "│ 6   │ 6 │ 1.8 │"
      ]
     },
     "execution_count": 70,
     "metadata": {},
     "output_type": "execute_result"
    }
   ],
   "source": [
    "CSV.read(\"teste.csv\")"
   ]
  },
  {
   "cell_type": "code",
   "execution_count": 72,
   "metadata": {
    "scrolled": false
   },
   "outputs": [
    {
     "data": {
      "text/html": [
       "<table class=\"data-frame\"><thead><tr><th></th><th>Column1</th><th>Column2</th></tr></thead><tbody><tr><th>1</th><td>0</td><td>0.0</td></tr><tr><th>2</th><td>1</td><td>1.5</td></tr><tr><th>3</th><td>2</td><td>1.7</td></tr><tr><th>4</th><td>3</td><td>1.8</td></tr><tr><th>5</th><td>4</td><td>1.0</td></tr><tr><th>6</th><td>5</td><td>1.6</td></tr><tr><th>7</th><td>6</td><td>1.8</td></tr></tbody></table>"
      ],
      "text/plain": [
       "7×2 DataFrame\n",
       "│ Row │ Column1 │ Column2 │\n",
       "├─────┼─────────┼─────────┤\n",
       "│ 1   │ 0       │ 0.0     │\n",
       "│ 2   │ 1       │ 1.5     │\n",
       "│ 3   │ 2       │ 1.7     │\n",
       "│ 4   │ 3       │ 1.8     │\n",
       "│ 5   │ 4       │ 1.0     │\n",
       "│ 6   │ 5       │ 1.6     │\n",
       "│ 7   │ 6       │ 1.8     │"
      ]
     },
     "execution_count": 72,
     "metadata": {},
     "output_type": "execute_result"
    }
   ],
   "source": [
    "dados = CSV.read(\"teste.csv\", header=false)"
   ]
  },
  {
   "cell_type": "markdown",
   "metadata": {},
   "source": []
  },
  {
   "cell_type": "markdown",
   "metadata": {},
   "source": [
    "**Gravar data frame em disco**"
   ]
  },
  {
   "cell_type": "code",
   "execution_count": 69,
   "metadata": {
    "scrolled": true
   },
   "outputs": [
    {
     "data": {
      "text/html": [
       "<table class=\"data-frame\"><thead><tr><th></th><th>Nome</th><th>Ano</th><th>Site</th></tr></thead><tbody><tr><th>1</th><td>maXIma</td><td>1980</td><td>maxima.org</td></tr><tr><th>2</th><td>Octave</td><td>2000</td><td>gnu.org/octave</td></tr><tr><th>3</th><td>SageMath</td><td>2005</td><td>sagemath.org</td></tr><tr><th>4</th><td>Julia</td><td>2012</td><td>julialang.org</td></tr></tbody></table>"
      ],
      "text/plain": [
       "4×3 DataFrame\n",
       "│ Row │ Nome     │ Ano  │ Site           │\n",
       "├─────┼──────────┼──────┼────────────────┤\n",
       "│ 1   │ maXIma   │ 1980 │ maxima.org     │\n",
       "│ 2   │ Octave   │ 2000 │ gnu.org/octave │\n",
       "│ 3   │ SageMath │ 2005 │ sagemath.org   │\n",
       "│ 4   │ Julia    │ 2012 │ julialang.org  │"
      ]
     },
     "execution_count": 69,
     "metadata": {},
     "output_type": "execute_result"
    }
   ],
   "source": [
    "Softwares"
   ]
  },
  {
   "cell_type": "code",
   "execution_count": 66,
   "metadata": {
    "collapsed": true
   },
   "outputs": [],
   "source": [
    "CSV.write(\"Softwares.csv\", Softwares);"
   ]
  },
  {
   "cell_type": "code",
   "execution_count": 67,
   "metadata": {
    "scrolled": true
   },
   "outputs": [
    {
     "data": {
      "text/html": [
       "<table class=\"data-frame\"><thead><tr><th></th><th>Nome</th><th>Ano</th><th>Site</th></tr></thead><tbody><tr><th>1</th><td>maXIma</td><td>1980</td><td>maxima.org</td></tr><tr><th>2</th><td>Octave</td><td>2000</td><td>gnu.org/octave</td></tr><tr><th>3</th><td>SageMath</td><td>2005</td><td>sagemath.org</td></tr><tr><th>4</th><td>Julia</td><td>2012</td><td>julialang.org</td></tr></tbody></table>"
      ],
      "text/plain": [
       "4×3 DataFrame\n",
       "│ Row │ Nome     │ Ano  │ Site           │\n",
       "├─────┼──────────┼──────┼────────────────┤\n",
       "│ 1   │ maXIma   │ 1980 │ maxima.org     │\n",
       "│ 2   │ Octave   │ 2000 │ gnu.org/octave │\n",
       "│ 3   │ SageMath │ 2005 │ sagemath.org   │\n",
       "│ 4   │ Julia    │ 2012 │ julialang.org  │"
      ]
     },
     "execution_count": 67,
     "metadata": {},
     "output_type": "execute_result"
    }
   ],
   "source": [
    "CSV.read(\"Softwares.csv\")"
   ]
  },
  {
   "cell_type": "markdown",
   "metadata": {},
   "source": [
    "Uma outra forma é criar um DataFrame no formato CSV:\n",
    "```julia\n",
    "dados_string = \"Coluna_1 , Coluna_2\n",
    "                dados_1  , dados_1\n",
    "                dados_2  , dados_2 \"\n",
    "                  \n",
    "nome_dataframe = CSV.read(IOBuffer(dados_string))\n",
    "```"
   ]
  },
  {
   "cell_type": "code",
   "execution_count": 74,
   "metadata": {
    "collapsed": true
   },
   "outputs": [],
   "source": [
    "dados = \"Disciplima , Nº Alunos\n",
    "         Cálculo I  , 50\n",
    "         Cálculo II , 52\n",
    "         Álgebra L  , 40\";"
   ]
  },
  {
   "cell_type": "code",
   "execution_count": 75,
   "metadata": {
    "scrolled": true
   },
   "outputs": [
    {
     "data": {
      "text/html": [
       "<table class=\"data-frame\"><thead><tr><th></th><th>Disciplima</th><th>Nº Alunos</th></tr></thead><tbody><tr><th>1</th><td>         Cálculo I  </td><td>50</td></tr><tr><th>2</th><td>         Cálculo II </td><td>52</td></tr><tr><th>3</th><td>         Álgebra L  </td><td>40</td></tr></tbody></table>"
      ],
      "text/plain": [
       "3×2 DataFrame\n",
       "│ Row │ Disciplima           │ Nº Alunos │\n",
       "├─────┼──────────────────────┼───────────┤\n",
       "│ 1   │          Cálculo I   │ 50        │\n",
       "│ 2   │          Cálculo II  │ 52        │\n",
       "│ 3   │          Álgebra L   │ 40        │"
      ]
     },
     "execution_count": 75,
     "metadata": {},
     "output_type": "execute_result"
    }
   ],
   "source": [
    "Semestre = CSV.read(IOBuffer(dados))"
   ]
  },
  {
   "cell_type": "markdown",
   "metadata": {},
   "source": [
    "## Planilhas eletrônicas\n",
    "\n",
    "Muitos arquivos de dados são formatados em planilhas eletrônicas "
   ]
  },
  {
   "cell_type": "markdown",
   "metadata": {},
   "source": [
    "### Arquivos XLSX\n",
    "\n",
    " O `XLSX.jl` é um pacote para ler e gravar arquivos de planilhas do Excel criado por Felipe Noris e escrito totalmente na linguagem Julia (https://github.com/felipenoris/XLSX.jl). Internamente, um arquivo XLSX do Excel é apenas um arquivo `Zip` com um conjunto de arquivos `XML` dentro. Os formatos dos arquivos `XML` utilizados pelo Excel são descritos no padrão ECMA-376. Sintaxe:\n",
    "```julia\n",
    "nome_dataframe = DataFrame(XLSX.readtable(\"arquivo.xlsx\", \"nome_planilha\")...)\n",
    "```"
   ]
  },
  {
   "cell_type": "code",
   "execution_count": 38,
   "metadata": {
    "collapsed": true,
    "scrolled": false
   },
   "outputs": [],
   "source": [
    "using XLSX"
   ]
  },
  {
   "cell_type": "code",
   "execution_count": 40,
   "metadata": {
    "scrolled": true
   },
   "outputs": [
    {
     "data": {
      "text/html": [
       "<table class=\"data-frame\"><thead><tr><th></th><th>Nome</th><th>Ano</th><th>Site</th></tr><tr><th></th><th>Any</th><th>Any</th><th>Any</th></tr></thead><tbody><tr><th>1</th><td>maXIma</td><td>1980</td><td>maxima.org</td></tr><tr><th>2</th><td>Octave</td><td>2000</td><td>gnu.org/octave</td></tr><tr><th>3</th><td>SageMath</td><td>2005</td><td>sagemath.org</td></tr><tr><th>4</th><td>Julia</td><td>2012</td><td>julialang.org</td></tr></tbody></table>"
      ],
      "text/latex": [
       "\\begin{tabular}{r|ccc}\n",
       "\t& Nome & Ano & Site\\\\\n",
       "\t\\hline\n",
       "\t1 & maXIma & 1980 & maxima.org \\\\\n",
       "\t2 & Octave & 2000 & gnu.org/octave \\\\\n",
       "\t3 & SageMath & 2005 & sagemath.org \\\\\n",
       "\t4 & Julia & 2012 & julialang.org \\\\\n",
       "\\end{tabular}\n"
      ],
      "text/plain": [
       "4×3 DataFrame\n",
       "│ Row │ Nome     │ Ano  │ Site           │\n",
       "│     │ \u001b[90mAny\u001b[39m      │ \u001b[90mAny\u001b[39m  │ \u001b[90mAny\u001b[39m            │\n",
       "├─────┼──────────┼──────┼────────────────┤\n",
       "│ 1   │ maXIma   │ 1980 │ maxima.org     │\n",
       "│ 2   │ Octave   │ 2000 │ gnu.org/octave │\n",
       "│ 3   │ SageMath │ 2005 │ sagemath.org   │\n",
       "│ 4   │ Julia    │ 2012 │ julialang.org  │"
      ]
     },
     "execution_count": 40,
     "metadata": {},
     "output_type": "execute_result"
    }
   ],
   "source": [
    "x = DataFrame(XLSX.readtable(\"Softwares.xlsx\", \"Softwares\")...)"
   ]
  },
  {
   "cell_type": "code",
   "execution_count": 43,
   "metadata": {
    "scrolled": true
   },
   "outputs": [
    {
     "data": {
      "text/html": [
       "<table class=\"data-frame\"><thead><tr><th></th><th>Nome</th><th>Ano</th><th>Site</th></tr><tr><th></th><th>String</th><th>Int64</th><th>String</th></tr></thead><tbody><tr><th>1</th><td>Scilab</td><td>2005</td><td>scilab.org</td></tr><tr><th>2</th><td>Axiom</td><td>1980</td><td>axion.org</td></tr><tr><th>3</th><td>FreeMat</td><td>2001</td><td>freemat,org</td></tr><tr><th>4</th><td>Python</td><td>1989</td><td>python.org</td></tr><tr><th>5</th><td>Lua</td><td>2005</td><td>lua.org</td></tr></tbody></table>"
      ],
      "text/latex": [
       "\\begin{tabular}{r|ccc}\n",
       "\t& Nome & Ano & Site\\\\\n",
       "\t\\hline\n",
       "\t1 & Scilab & 2005 & scilab.org \\\\\n",
       "\t2 & Axiom & 1980 & axion.org \\\\\n",
       "\t3 & FreeMat & 2001 & freemat,org \\\\\n",
       "\t4 & Python & 1989 & python.org \\\\\n",
       "\t5 & Lua & 2005 & lua.org \\\\\n",
       "\\end{tabular}\n"
      ],
      "text/plain": [
       "5×3 DataFrame\n",
       "│ Row │ Nome    │ Ano   │ Site        │\n",
       "│     │ \u001b[90mString\u001b[39m  │ \u001b[90mInt64\u001b[39m │ \u001b[90mString\u001b[39m      │\n",
       "├─────┼─────────┼───────┼─────────────┤\n",
       "│ 1   │ Scilab  │ 2005  │ scilab.org  │\n",
       "│ 2   │ Axiom   │ 1980  │ axion.org   │\n",
       "│ 3   │ FreeMat │ 2001  │ freemat,org │\n",
       "│ 4   │ Python  │ 1989  │ python.org  │\n",
       "│ 5   │ Lua     │ 2005  │ lua.org     │"
      ]
     },
     "execution_count": 43,
     "metadata": {},
     "output_type": "execute_result"
    }
   ],
   "source": [
    "dados_novos = DataFrame()\n",
    "\n",
    "dados_novos[:Nome] = [\"Scilab\", \"Axiom\", \"FreeMat\", \"Python\", \"Lua\"]\n",
    "dados_novos[:Ano]  = [2005, 1980, 2001, 1989, 2005]\n",
    "dados_novos[:Site] = [\"scilab.org\", \"axion.org\", \"freemat,org\", \"python.org\", \"lua.org\"]\n",
    "\n",
    "dados_novos"
   ]
  },
  {
   "cell_type": "code",
   "execution_count": 64,
   "metadata": {},
   "outputs": [
    {
     "data": {
      "text/plain": [
       "3-element Array{Symbol,1}:\n",
       " :Nome\n",
       " :Ano \n",
       " :Site"
      ]
     },
     "execution_count": 64,
     "metadata": {},
     "output_type": "execute_result"
    }
   ],
   "source": [
    "DataFrames.names(dados_novos)"
   ]
  },
  {
   "cell_type": "code",
   "execution_count": 61,
   "metadata": {
    "collapsed": true
   },
   "outputs": [],
   "source": [
    "XLSX.writetable(\"dados_novos.xlsx\", DataFrames.columns(dados_novos), DataFrames.names(dados_novos))"
   ]
  },
  {
   "cell_type": "code",
   "execution_count": 57,
   "metadata": {
    "scrolled": false
   },
   "outputs": [
    {
     "data": {
      "text/html": [
       "<table class=\"data-frame\"><thead><tr><th></th><th>Nome</th><th>Ano</th><th>Site</th></tr><tr><th></th><th>Any</th><th>Any</th><th>Any</th></tr></thead><tbody><tr><th>1</th><td>Scilab</td><td>2005</td><td>scilab.org</td></tr><tr><th>2</th><td>Axiom</td><td>1980</td><td>axion.org</td></tr><tr><th>3</th><td>FreeMat</td><td>2001</td><td>freemat,org</td></tr><tr><th>4</th><td>Python</td><td>1989</td><td>python.org</td></tr><tr><th>5</th><td>Lua</td><td>2005</td><td>lua.org</td></tr></tbody></table>"
      ],
      "text/latex": [
       "\\begin{tabular}{r|ccc}\n",
       "\t& Nome & Ano & Site\\\\\n",
       "\t\\hline\n",
       "\t1 & Scilab & 2005 & scilab.org \\\\\n",
       "\t2 & Axiom & 1980 & axion.org \\\\\n",
       "\t3 & FreeMat & 2001 & freemat,org \\\\\n",
       "\t4 & Python & 1989 & python.org \\\\\n",
       "\t5 & Lua & 2005 & lua.org \\\\\n",
       "\\end{tabular}\n"
      ],
      "text/plain": [
       "5×3 DataFrame\n",
       "│ Row │ Nome    │ Ano  │ Site        │\n",
       "│     │ \u001b[90mAny\u001b[39m     │ \u001b[90mAny\u001b[39m  │ \u001b[90mAny\u001b[39m         │\n",
       "├─────┼─────────┼──────┼─────────────┤\n",
       "│ 1   │ Scilab  │ 2005 │ scilab.org  │\n",
       "│ 2   │ Axiom   │ 1980 │ axion.org   │\n",
       "│ 3   │ FreeMat │ 2001 │ freemat,org │\n",
       "│ 4   │ Python  │ 1989 │ python.org  │\n",
       "│ 5   │ Lua     │ 2005 │ lua.org     │"
      ]
     },
     "execution_count": 57,
     "metadata": {},
     "output_type": "execute_result"
    }
   ],
   "source": [
    "DataFrame(XLSX.readtable(\"dados_novos.xlsx\", \"Sheet1\")...)"
   ]
  },
  {
   "cell_type": "markdown",
   "metadata": {},
   "source": [
    "### Arquivos ODS\n",
    "\n",
    "O pacote `OdsIO.jl` permite ler ou salvar arquivos no formato `ods` utilizando o módulo python ezodf. Sintaxe:\n",
    "```julia\n",
    "ods_read(\"arquivo.ods\"; sheetName=\"nome_planilha\", retType=\"DataFrame\")\n",
    "```\n",
    "Pkg.add(\"OdsIO\")"
   ]
  },
  {
   "cell_type": "code",
   "execution_count": 67,
   "metadata": {},
   "outputs": [
    {
     "name": "stderr",
     "output_type": "stream",
     "text": [
      "┌ Info: Precompiling OdsIO [56b0d19f-0a74-5872-92bc-f48f9c5431d4]\n",
      "└ @ Base loading.jl:1192\n"
     ]
    }
   ],
   "source": [
    "using OdsIO"
   ]
  },
  {
   "cell_type": "code",
   "execution_count": 105,
   "metadata": {},
   "outputs": [
    {
     "data": {
      "text/html": [
       "<table class=\"data-frame\"><thead><tr><th></th><th>Nome</th><th>Ano</th><th>Site</th></tr><tr><th></th><th>String</th><th>Int64</th><th>String</th></tr></thead><tbody><tr><th>1</th><td>Scilab</td><td>2005</td><td>scilab.org</td></tr><tr><th>2</th><td>Axiom</td><td>1980</td><td>axion.org</td></tr><tr><th>3</th><td>FreeMat</td><td>2001</td><td>freemat,org</td></tr><tr><th>4</th><td>Python</td><td>1989</td><td>python.org</td></tr><tr><th>5</th><td>Lua</td><td>2005</td><td>lua.org</td></tr></tbody></table>"
      ],
      "text/latex": [
       "\\begin{tabular}{r|ccc}\n",
       "\t& Nome & Ano & Site\\\\\n",
       "\t\\hline\n",
       "\t1 & Scilab & 2005 & scilab.org \\\\\n",
       "\t2 & Axiom & 1980 & axion.org \\\\\n",
       "\t3 & FreeMat & 2001 & freemat,org \\\\\n",
       "\t4 & Python & 1989 & python.org \\\\\n",
       "\t5 & Lua & 2005 & lua.org \\\\\n",
       "\\end{tabular}\n"
      ],
      "text/plain": [
       "5×3 DataFrame\n",
       "│ Row │ Nome    │ Ano   │ Site        │\n",
       "│     │ \u001b[90mString\u001b[39m  │ \u001b[90mInt64\u001b[39m │ \u001b[90mString\u001b[39m      │\n",
       "├─────┼─────────┼───────┼─────────────┤\n",
       "│ 1   │ Scilab  │ 2005  │ scilab.org  │\n",
       "│ 2   │ Axiom   │ 1980  │ axion.org   │\n",
       "│ 3   │ FreeMat │ 2001  │ freemat,org │\n",
       "│ 4   │ Python  │ 1989  │ python.org  │\n",
       "│ 5   │ Lua     │ 2005  │ lua.org     │"
      ]
     },
     "execution_count": 105,
     "metadata": {},
     "output_type": "execute_result"
    }
   ],
   "source": [
    "ods_read(\"dados_novos.ods\", retType = \"DataFrame\")"
   ]
  },
  {
   "cell_type": "markdown",
   "metadata": {
    "collapsed": true
   },
   "source": [
    "## APLICAÇÕES"
   ]
  },
  {
   "cell_type": "markdown",
   "metadata": {},
   "source": [
    "Um pesquisador deseja investigar todas as raízes da função  $f(x)  = x + x^2sin(x)$  no intervalo de 0 a 15."
   ]
  },
  {
   "cell_type": "code",
   "execution_count": 83,
   "metadata": {
    "scrolled": false
   },
   "outputs": [
    {
     "data": {
      "text/plain": [
       "(x,)"
      ]
     },
     "execution_count": 83,
     "metadata": {},
     "output_type": "execute_result"
    }
   ],
   "source": [
    "using DataFrames, SymPy, CSV\n",
    "@syms x"
   ]
  },
  {
   "cell_type": "code",
   "execution_count": 84,
   "metadata": {
    "scrolled": true
   },
   "outputs": [
    {
     "data": {
      "text/plain": [
       "f (generic function with 1 method)"
      ]
     },
     "execution_count": 84,
     "metadata": {},
     "output_type": "execute_result"
    }
   ],
   "source": [
    "# função genérica\n",
    "f(x)  = x + x^2*sin(x)"
   ]
  },
  {
   "cell_type": "code",
   "execution_count": 86,
   "metadata": {
    "scrolled": false
   },
   "outputs": [
    {
     "data": {
      "image/svg+xml": [
       "<?xml version=\"1.0\" encoding=\"utf-8\"?>\n",
       "<svg xmlns=\"http://www.w3.org/2000/svg\" xmlns:xlink=\"http://www.w3.org/1999/xlink\" width=\"400\" height=\"300\" viewBox=\"0 0 1600 1200\">\n",
       "<defs>\n",
       "  <clipPath id=\"clip0500\">\n",
       "    <rect x=\"0\" y=\"0\" width=\"2000\" height=\"2000\"/>\n",
       "  </clipPath>\n",
       "</defs>\n",
       "<defs>\n",
       "  <clipPath id=\"clip0501\">\n",
       "    <rect x=\"0\" y=\"0\" width=\"1600\" height=\"1200\"/>\n",
       "  </clipPath>\n",
       "</defs>\n",
       "<polygon clip-path=\"url(#clip0501)\" points=\"\n",
       "0,1200 1600,1200 1600,0 0,0 \n",
       "  \" fill=\"#ffffff\" fill-opacity=\"1\"/>\n",
       "<defs>\n",
       "  <clipPath id=\"clip0502\">\n",
       "    <rect x=\"320\" y=\"0\" width=\"1121\" height=\"1121\"/>\n",
       "  </clipPath>\n",
       "</defs>\n",
       "<polygon clip-path=\"url(#clip0501)\" points=\"\n",
       "265.877,1036.29 1521.26,1036.29 1521.26,47.2441 265.877,47.2441 \n",
       "  \" fill=\"#ffffff\" fill-opacity=\"1\"/>\n",
       "<defs>\n",
       "  <clipPath id=\"clip0503\">\n",
       "    <rect x=\"265\" y=\"47\" width=\"1256\" height=\"990\"/>\n",
       "  </clipPath>\n",
       "</defs>\n",
       "<polyline clip-path=\"url(#clip0503)\" style=\"stroke:#000000; stroke-width:2; stroke-opacity:0.1; fill:none\" points=\"\n",
       "  301.407,1036.29 301.407,47.2441 \n",
       "  \"/>\n",
       "<polyline clip-path=\"url(#clip0503)\" style=\"stroke:#000000; stroke-width:2; stroke-opacity:0.1; fill:none\" points=\"\n",
       "  696.181,1036.29 696.181,47.2441 \n",
       "  \"/>\n",
       "<polyline clip-path=\"url(#clip0503)\" style=\"stroke:#000000; stroke-width:2; stroke-opacity:0.1; fill:none\" points=\"\n",
       "  1090.96,1036.29 1090.96,47.2441 \n",
       "  \"/>\n",
       "<polyline clip-path=\"url(#clip0503)\" style=\"stroke:#000000; stroke-width:2; stroke-opacity:0.1; fill:none\" points=\"\n",
       "  1485.73,1036.29 1485.73,47.2441 \n",
       "  \"/>\n",
       "<polyline clip-path=\"url(#clip0503)\" style=\"stroke:#000000; stroke-width:2; stroke-opacity:0.1; fill:none\" points=\"\n",
       "  265.877,975.192 1521.26,975.192 \n",
       "  \"/>\n",
       "<polyline clip-path=\"url(#clip0503)\" style=\"stroke:#000000; stroke-width:2; stroke-opacity:0.1; fill:none\" points=\"\n",
       "  265.877,690.472 1521.26,690.472 \n",
       "  \"/>\n",
       "<polyline clip-path=\"url(#clip0503)\" style=\"stroke:#000000; stroke-width:2; stroke-opacity:0.1; fill:none\" points=\"\n",
       "  265.877,405.753 1521.26,405.753 \n",
       "  \"/>\n",
       "<polyline clip-path=\"url(#clip0503)\" style=\"stroke:#000000; stroke-width:2; stroke-opacity:0.1; fill:none\" points=\"\n",
       "  265.877,121.033 1521.26,121.033 \n",
       "  \"/>\n",
       "<polyline clip-path=\"url(#clip0501)\" style=\"stroke:#000000; stroke-width:4; stroke-opacity:1; fill:none\" points=\"\n",
       "  265.877,1036.29 1521.26,1036.29 \n",
       "  \"/>\n",
       "<polyline clip-path=\"url(#clip0501)\" style=\"stroke:#000000; stroke-width:4; stroke-opacity:1; fill:none\" points=\"\n",
       "  265.877,1036.29 265.877,47.2441 \n",
       "  \"/>\n",
       "<polyline clip-path=\"url(#clip0501)\" style=\"stroke:#000000; stroke-width:4; stroke-opacity:1; fill:none\" points=\"\n",
       "  301.407,1036.29 301.407,1021.46 \n",
       "  \"/>\n",
       "<polyline clip-path=\"url(#clip0501)\" style=\"stroke:#000000; stroke-width:4; stroke-opacity:1; fill:none\" points=\"\n",
       "  696.181,1036.29 696.181,1021.46 \n",
       "  \"/>\n",
       "<polyline clip-path=\"url(#clip0501)\" style=\"stroke:#000000; stroke-width:4; stroke-opacity:1; fill:none\" points=\"\n",
       "  1090.96,1036.29 1090.96,1021.46 \n",
       "  \"/>\n",
       "<polyline clip-path=\"url(#clip0501)\" style=\"stroke:#000000; stroke-width:4; stroke-opacity:1; fill:none\" points=\"\n",
       "  1485.73,1036.29 1485.73,1021.46 \n",
       "  \"/>\n",
       "<polyline clip-path=\"url(#clip0501)\" style=\"stroke:#000000; stroke-width:4; stroke-opacity:1; fill:none\" points=\"\n",
       "  265.877,975.192 284.708,975.192 \n",
       "  \"/>\n",
       "<polyline clip-path=\"url(#clip0501)\" style=\"stroke:#000000; stroke-width:4; stroke-opacity:1; fill:none\" points=\"\n",
       "  265.877,690.472 284.708,690.472 \n",
       "  \"/>\n",
       "<polyline clip-path=\"url(#clip0501)\" style=\"stroke:#000000; stroke-width:4; stroke-opacity:1; fill:none\" points=\"\n",
       "  265.877,405.753 284.708,405.753 \n",
       "  \"/>\n",
       "<polyline clip-path=\"url(#clip0501)\" style=\"stroke:#000000; stroke-width:4; stroke-opacity:1; fill:none\" points=\"\n",
       "  265.877,121.033 284.708,121.033 \n",
       "  \"/>\n",
       "<g clip-path=\"url(#clip0501)\">\n",
       "<text style=\"fill:#000000; fill-opacity:1; font-family:Arial,Helvetica Neue,Helvetica,sans-serif; font-size:48px; text-anchor:middle;\" transform=\"rotate(0, 301.407, 1086.29)\" x=\"301.407\" y=\"1086.29\">0</text>\n",
       "</g>\n",
       "<g clip-path=\"url(#clip0501)\">\n",
       "<text style=\"fill:#000000; fill-opacity:1; font-family:Arial,Helvetica Neue,Helvetica,sans-serif; font-size:48px; text-anchor:middle;\" transform=\"rotate(0, 696.181, 1086.29)\" x=\"696.181\" y=\"1086.29\">5</text>\n",
       "</g>\n",
       "<g clip-path=\"url(#clip0501)\">\n",
       "<text style=\"fill:#000000; fill-opacity:1; font-family:Arial,Helvetica Neue,Helvetica,sans-serif; font-size:48px; text-anchor:middle;\" transform=\"rotate(0, 1090.96, 1086.29)\" x=\"1090.96\" y=\"1086.29\">10</text>\n",
       "</g>\n",
       "<g clip-path=\"url(#clip0501)\">\n",
       "<text style=\"fill:#000000; fill-opacity:1; font-family:Arial,Helvetica Neue,Helvetica,sans-serif; font-size:48px; text-anchor:middle;\" transform=\"rotate(0, 1485.73, 1086.29)\" x=\"1485.73\" y=\"1086.29\">15</text>\n",
       "</g>\n",
       "<g clip-path=\"url(#clip0501)\">\n",
       "<text style=\"fill:#000000; fill-opacity:1; font-family:Arial,Helvetica Neue,Helvetica,sans-serif; font-size:48px; text-anchor:end;\" transform=\"rotate(0, 249.877, 992.692)\" x=\"249.877\" y=\"992.692\">-100</text>\n",
       "</g>\n",
       "<g clip-path=\"url(#clip0501)\">\n",
       "<text style=\"fill:#000000; fill-opacity:1; font-family:Arial,Helvetica Neue,Helvetica,sans-serif; font-size:48px; text-anchor:end;\" transform=\"rotate(0, 249.877, 707.972)\" x=\"249.877\" y=\"707.972\">0</text>\n",
       "</g>\n",
       "<g clip-path=\"url(#clip0501)\">\n",
       "<text style=\"fill:#000000; fill-opacity:1; font-family:Arial,Helvetica Neue,Helvetica,sans-serif; font-size:48px; text-anchor:end;\" transform=\"rotate(0, 249.877, 423.253)\" x=\"249.877\" y=\"423.253\">100</text>\n",
       "</g>\n",
       "<g clip-path=\"url(#clip0501)\">\n",
       "<text style=\"fill:#000000; fill-opacity:1; font-family:Arial,Helvetica Neue,Helvetica,sans-serif; font-size:48px; text-anchor:end;\" transform=\"rotate(0, 249.877, 138.533)\" x=\"249.877\" y=\"138.533\">200</text>\n",
       "</g>\n",
       "<g clip-path=\"url(#clip0501)\">\n",
       "<text style=\"fill:#000000; fill-opacity:1; font-family:Arial,Helvetica Neue,Helvetica,sans-serif; font-size:66px; text-anchor:middle;\" transform=\"rotate(0, 893.569, 1190.4)\" x=\"893.569\" y=\"1190.4\">x</text>\n",
       "</g>\n",
       "<g clip-path=\"url(#clip0501)\">\n",
       "<text style=\"fill:#000000; fill-opacity:1; font-family:Arial,Helvetica Neue,Helvetica,sans-serif; font-size:66px; text-anchor:middle;\" transform=\"rotate(-90, 57.6, 541.768)\" x=\"57.6\" y=\"541.768\">y</text>\n",
       "</g>\n",
       "<polyline clip-path=\"url(#clip0503)\" style=\"stroke:#009af9; stroke-width:4; stroke-opacity:1; fill:none\" points=\"\n",
       "  301.407,690.472 309.303,690.185 317.198,689.88 325.094,689.542 332.989,689.156 340.885,688.707 348.78,688.185 356.676,687.58 364.571,686.887 372.466,686.103 \n",
       "  380.362,685.229 388.257,684.27 396.153,683.234 404.048,682.134 411.944,680.987 419.839,679.811 427.735,678.631 435.63,677.472 443.526,676.364 451.421,675.336 \n",
       "  459.317,674.422 467.212,673.655 475.108,673.067 483.003,672.692 490.899,672.561 498.794,672.704 506.69,673.148 514.585,673.914 522.481,675.022 530.376,676.487 \n",
       "  538.272,678.314 546.167,680.508 554.063,683.063 561.958,685.968 569.854,689.202 577.749,692.742 585.645,696.551 593.54,700.59 601.436,704.808 609.331,709.152 \n",
       "  617.227,713.56 625.122,717.963 633.018,722.288 640.913,726.46 648.809,730.398 656.704,734.02 664.6,737.242 672.495,739.98 680.39,742.153 688.286,743.683 \n",
       "  696.181,744.492 704.077,744.513 711.972,743.682 719.868,741.945 727.763,739.255 735.659,735.579 743.554,730.892 751.45,725.185 759.345,718.458 767.241,710.729 \n",
       "  775.136,702.029 783.032,692.403 790.927,681.913 798.823,670.635 806.718,658.658 814.614,646.088 822.509,633.042 830.405,619.652 838.3,606.059 846.196,592.416 \n",
       "  854.091,578.884 861.987,565.63 869.882,552.828 877.778,540.653 885.673,529.283 893.569,518.893 901.464,509.655 909.36,501.736 917.255,495.293 925.151,490.474 \n",
       "  933.046,487.413 940.942,486.23 948.837,487.027 956.733,489.886 964.628,494.868 972.523,502.014 980.419,511.338 988.314,522.829 996.21,536.45 1004.11,552.139 \n",
       "  1012,569.804 1019.9,589.327 1027.79,610.565 1035.69,633.346 1043.58,657.476 1051.48,682.735 1059.37,708.882 1067.27,735.657 1075.16,762.781 1083.06,789.962 \n",
       "  1090.96,816.894 1098.85,843.263 1106.75,868.749 1114.64,893.032 1122.54,915.793 1130.43,936.716 1138.33,955.498 1146.22,971.847 1154.12,985.488 1162.02,996.169 \n",
       "  1169.91,1003.66 1177.81,1007.76 1185.7,1008.3 1193.6,1005.14 1201.49,998.185 1209.39,987.374 1217.28,972.686 1225.18,954.145 1233.07,931.819 1240.97,905.818 \n",
       "  1248.87,876.299 1256.76,843.46 1264.66,807.546 1272.55,768.839 1280.45,727.666 1288.34,684.387 1296.24,639.399 1304.13,593.129 1312.03,546.032 1319.92,498.585 \n",
       "  1327.82,451.284 1335.72,404.638 1343.61,359.164 1351.51,315.382 1359.4,273.808 1367.3,234.95 1375.19,199.301 1383.09,167.332 1390.98,139.49 1398.88,116.188 \n",
       "  1406.78,97.8027 1414.67,84.6668 1422.57,77.0665 1430.46,75.236 1438.36,79.3536 1446.25,89.5383 1454.15,105.847 1462.04,128.272 1469.94,156.741 1477.83,191.111 \n",
       "  1485.73,231.178 \n",
       "  \"/>\n",
       "<polyline clip-path=\"url(#clip0503)\" style=\"stroke:#e26f46; stroke-width:4; stroke-opacity:1; fill:none\" points=\"\n",
       "  301.407,690.472 380.362,690.472 459.317,690.472 538.272,690.472 617.227,690.472 696.181,690.472 775.136,690.472 854.091,690.472 933.046,690.472 1012,690.472 \n",
       "  1090.96,690.472 1169.91,690.472 1248.87,690.472 1327.82,690.472 1406.78,690.472 1485.73,690.472 \n",
       "  \"/>\n",
       "<polygon clip-path=\"url(#clip0501)\" points=\"\n",
       "1168.76,203.724 1473.26,203.724 1473.26,82.7641 1168.76,82.7641 \n",
       "  \" fill=\"#ffffff\" fill-opacity=\"1\"/>\n",
       "<polyline clip-path=\"url(#clip0501)\" style=\"stroke:#000000; stroke-width:4; stroke-opacity:1; fill:none\" points=\"\n",
       "  1168.76,203.724 1473.26,203.724 1473.26,82.7641 1168.76,82.7641 1168.76,203.724 \n",
       "  \"/>\n",
       "<polyline clip-path=\"url(#clip0501)\" style=\"stroke:#009af9; stroke-width:4; stroke-opacity:1; fill:none\" points=\"\n",
       "  1184.76,143.244 1280.76,143.244 \n",
       "  \"/>\n",
       "<g clip-path=\"url(#clip0501)\">\n",
       "<text style=\"fill:#000000; fill-opacity:1; font-family:Arial,Helvetica Neue,Helvetica,sans-serif; font-size:48px; text-anchor:start;\" transform=\"rotate(0, 1296.76, 160.744)\" x=\"1296.76\" y=\"160.744\">função</text>\n",
       "</g>\n",
       "</svg>\n"
      ]
     },
     "execution_count": 86,
     "metadata": {},
     "output_type": "execute_result"
    }
   ],
   "source": [
    "using Plots\n",
    "gr()\n",
    "\n",
    "plot(0:0.1:15, f, label = \"função\", size = (400, 300))\n",
    "plot!(0:15, zero, label = \"\", xlabel = \"x\", ylabel = \"y\")"
   ]
  },
  {
   "cell_type": "markdown",
   "metadata": {},
   "source": [
    "Criar o vetor de valores iniciais ($x_i$) e o dataframe \"resultado 1\" contendo dados aleatórios de tamanho definido:"
   ]
  },
  {
   "cell_type": "code",
   "execution_count": 88,
   "metadata": {},
   "outputs": [
    {
     "data": {
      "text/html": [
       "<table class=\"data-frame\"><thead><tr><th></th><th>xi</th><th>raiz</th></tr><tr><th></th><th>Float64</th><th>Float64</th></tr></thead><tbody><tr><th>1</th><td>0.0</td><td>0.90499</td></tr><tr><th>2</th><td>2.0</td><td>0.616458</td></tr><tr><th>3</th><td>6.0</td><td>0.986447</td></tr><tr><th>4</th><td>9.0</td><td>0.167937</td></tr><tr><th>5</th><td>13.0</td><td>0.31493</td></tr></tbody></table>"
      ],
      "text/latex": [
       "\\begin{tabular}{r|cc}\n",
       "\t& xi & raiz\\\\\n",
       "\t\\hline\n",
       "\t1 & 0.0 & 0.90499 \\\\\n",
       "\t2 & 2.0 & 0.616458 \\\\\n",
       "\t3 & 6.0 & 0.986447 \\\\\n",
       "\t4 & 9.0 & 0.167937 \\\\\n",
       "\t5 & 13.0 & 0.31493 \\\\\n",
       "\\end{tabular}\n"
      ],
      "text/plain": [
       "5×2 DataFrame\n",
       "│ Row │ xi      │ raiz     │\n",
       "│     │ \u001b[90mFloat64\u001b[39m │ \u001b[90mFloat64\u001b[39m  │\n",
       "├─────┼─────────┼──────────┤\n",
       "│ 1   │ 0.0     │ 0.90499  │\n",
       "│ 2   │ 2.0     │ 0.616458 │\n",
       "│ 3   │ 6.0     │ 0.986447 │\n",
       "│ 4   │ 9.0     │ 0.167937 │\n",
       "│ 5   │ 13.0    │ 0.31493  │"
      ]
     },
     "execution_count": 88,
     "metadata": {},
     "output_type": "execute_result"
    }
   ],
   "source": [
    "# xi\n",
    "x_i = [0.0, 2.0, 6.0, 9.0, 13.0]\n",
    "\n",
    "# dataframe\n",
    "Resultado1 = DataFrame(xi = x_i, raiz = rand(5))"
   ]
  },
  {
   "cell_type": "markdown",
   "metadata": {},
   "source": [
    "Laço `for` adiciona o valor da raiz calculada na coluna 2."
   ]
  },
  {
   "cell_type": "code",
   "execution_count": 89,
   "metadata": {
    "collapsed": true
   },
   "outputs": [],
   "source": [
    "for i = 1:length(x_i)\n",
    "    Resultado1.raiz[i] = nsolve(f(x), x_i[i])\n",
    "end"
   ]
  },
  {
   "cell_type": "code",
   "execution_count": 90,
   "metadata": {
    "scrolled": true
   },
   "outputs": [
    {
     "data": {
      "text/html": [
       "<table class=\"data-frame\"><thead><tr><th></th><th>xi</th><th>raiz</th></tr><tr><th></th><th>Float64</th><th>Float64</th></tr></thead><tbody><tr><th>1</th><td>0.0</td><td>0.0</td></tr><tr><th>2</th><td>2.0</td><td>0.0</td></tr><tr><th>3</th><td>6.0</td><td>6.11902</td></tr><tr><th>4</th><td>9.0</td><td>9.5299</td></tr><tr><th>5</th><td>13.0</td><td>12.4862</td></tr></tbody></table>"
      ],
      "text/latex": [
       "\\begin{tabular}{r|cc}\n",
       "\t& xi & raiz\\\\\n",
       "\t\\hline\n",
       "\t1 & 0.0 & 0.0 \\\\\n",
       "\t2 & 2.0 & 0.0 \\\\\n",
       "\t3 & 6.0 & 6.11902 \\\\\n",
       "\t4 & 9.0 & 9.5299 \\\\\n",
       "\t5 & 13.0 & 12.4862 \\\\\n",
       "\\end{tabular}\n"
      ],
      "text/plain": [
       "5×2 DataFrame\n",
       "│ Row │ xi      │ raiz    │\n",
       "│     │ \u001b[90mFloat64\u001b[39m │ \u001b[90mFloat64\u001b[39m │\n",
       "├─────┼─────────┼─────────┤\n",
       "│ 1   │ 0.0     │ 0.0     │\n",
       "│ 2   │ 2.0     │ 0.0     │\n",
       "│ 3   │ 6.0     │ 6.11902 │\n",
       "│ 4   │ 9.0     │ 9.5299  │\n",
       "│ 5   │ 13.0    │ 12.4862 │"
      ]
     },
     "execution_count": 90,
     "metadata": {},
     "output_type": "execute_result"
    }
   ],
   "source": [
    "Resultado1"
   ]
  },
  {
   "cell_type": "markdown",
   "metadata": {},
   "source": [
    "**Outra forma \"Like a Python\"**\n",
    "\n",
    "Criar um DataFrame vazio. "
   ]
  },
  {
   "cell_type": "code",
   "execution_count": 91,
   "metadata": {
    "scrolled": true
   },
   "outputs": [
    {
     "data": {
      "text/html": [
       "<table class=\"data-frame\"><thead><tr><th></th><th>xi</th><th>raiz</th></tr><tr><th></th><th>Float64</th><th>Float64</th></tr></thead><tbody></tbody></table>"
      ],
      "text/latex": [
       "\\begin{tabular}{r|cc}\n",
       "\t& xi & raiz\\\\\n",
       "\t\\hline\n",
       "\\end{tabular}\n"
      ],
      "text/plain": [
       "0×2 DataFrame\n"
      ]
     },
     "execution_count": 91,
     "metadata": {},
     "output_type": "execute_result"
    }
   ],
   "source": [
    "Resultado2 = DataFrame(xi = Float64[], raiz = Float64[])"
   ]
  },
  {
   "cell_type": "code",
   "execution_count": 92,
   "metadata": {
    "scrolled": true
   },
   "outputs": [
    {
     "data": {
      "text/html": [
       "<table class=\"data-frame\"><thead><tr><th></th><th>xi</th><th>raiz</th></tr><tr><th></th><th>Float64</th><th>Float64</th></tr></thead><tbody><tr><th>1</th><td>0.0</td><td>0.0</td></tr><tr><th>2</th><td>2.0</td><td>0.0</td></tr><tr><th>3</th><td>6.0</td><td>6.11902</td></tr><tr><th>4</th><td>9.0</td><td>9.5299</td></tr><tr><th>5</th><td>13.0</td><td>12.4862</td></tr></tbody></table>"
      ],
      "text/latex": [
       "\\begin{tabular}{r|cc}\n",
       "\t& xi & raiz\\\\\n",
       "\t\\hline\n",
       "\t1 & 0.0 & 0.0 \\\\\n",
       "\t2 & 2.0 & 0.0 \\\\\n",
       "\t3 & 6.0 & 6.11902 \\\\\n",
       "\t4 & 9.0 & 9.5299 \\\\\n",
       "\t5 & 13.0 & 12.4862 \\\\\n",
       "\\end{tabular}\n"
      ],
      "text/plain": [
       "5×2 DataFrame\n",
       "│ Row │ xi      │ raiz    │\n",
       "│     │ \u001b[90mFloat64\u001b[39m │ \u001b[90mFloat64\u001b[39m │\n",
       "├─────┼─────────┼─────────┤\n",
       "│ 1   │ 0.0     │ 0.0     │\n",
       "│ 2   │ 2.0     │ 0.0     │\n",
       "│ 3   │ 6.0     │ 6.11902 │\n",
       "│ 4   │ 9.0     │ 9.5299  │\n",
       "│ 5   │ 13.0    │ 12.4862 │"
      ]
     },
     "execution_count": 92,
     "metadata": {},
     "output_type": "execute_result"
    }
   ],
   "source": [
    "x_i = [0.0, 2.0, 6.0, 9.0, 13.0]\n",
    "\n",
    "for i in x_i\n",
    "    push!(Resultado2, [i, nsolve(f(x), i)])\n",
    "end\n",
    "\n",
    "unique!(Resultado2)"
   ]
  },
  {
   "cell_type": "code",
   "execution_count": 93,
   "metadata": {
    "scrolled": true
   },
   "outputs": [
    {
     "data": {
      "text/plain": [
       "5-element Array{Float64,1}:\n",
       "  0.0                  \n",
       "  0.0                  \n",
       "  8.881784197001252e-15\n",
       "  4.085620730620576e-14\n",
       " -6.039613253960852e-14"
      ]
     },
     "execution_count": 93,
     "metadata": {},
     "output_type": "execute_result"
    }
   ],
   "source": [
    "# testando os resultados\n",
    "[f(i) for i = Resultado2.raiz]"
   ]
  },
  {
   "cell_type": "code",
   "execution_count": 94,
   "metadata": {},
   "outputs": [
    {
     "data": {
      "image/svg+xml": [
       "<?xml version=\"1.0\" encoding=\"utf-8\"?>\n",
       "<svg xmlns=\"http://www.w3.org/2000/svg\" xmlns:xlink=\"http://www.w3.org/1999/xlink\" width=\"400\" height=\"300\" viewBox=\"0 0 1600 1200\">\n",
       "<defs>\n",
       "  <clipPath id=\"clip0700\">\n",
       "    <rect x=\"0\" y=\"0\" width=\"2000\" height=\"2000\"/>\n",
       "  </clipPath>\n",
       "</defs>\n",
       "<defs>\n",
       "  <clipPath id=\"clip0701\">\n",
       "    <rect x=\"0\" y=\"0\" width=\"1600\" height=\"1200\"/>\n",
       "  </clipPath>\n",
       "</defs>\n",
       "<polygon clip-path=\"url(#clip0701)\" points=\"\n",
       "0,1200 1600,1200 1600,0 0,0 \n",
       "  \" fill=\"#ffffff\" fill-opacity=\"1\"/>\n",
       "<defs>\n",
       "  <clipPath id=\"clip0702\">\n",
       "    <rect x=\"320\" y=\"0\" width=\"1121\" height=\"1121\"/>\n",
       "  </clipPath>\n",
       "</defs>\n",
       "<polygon clip-path=\"url(#clip0701)\" points=\"\n",
       "265.877,1036.29 1521.26,1036.29 1521.26,47.2441 265.877,47.2441 \n",
       "  \" fill=\"#ffffff\" fill-opacity=\"1\"/>\n",
       "<defs>\n",
       "  <clipPath id=\"clip0703\">\n",
       "    <rect x=\"265\" y=\"47\" width=\"1256\" height=\"990\"/>\n",
       "  </clipPath>\n",
       "</defs>\n",
       "<polyline clip-path=\"url(#clip0703)\" style=\"stroke:#000000; stroke-width:2; stroke-opacity:0.1; fill:none\" points=\"\n",
       "  301.407,1036.29 301.407,47.2441 \n",
       "  \"/>\n",
       "<polyline clip-path=\"url(#clip0703)\" style=\"stroke:#000000; stroke-width:2; stroke-opacity:0.1; fill:none\" points=\"\n",
       "  360.623,1036.29 360.623,47.2441 \n",
       "  \"/>\n",
       "<polyline clip-path=\"url(#clip0703)\" style=\"stroke:#000000; stroke-width:2; stroke-opacity:0.1; fill:none\" points=\"\n",
       "  419.839,1036.29 419.839,47.2441 \n",
       "  \"/>\n",
       "<polyline clip-path=\"url(#clip0703)\" style=\"stroke:#000000; stroke-width:2; stroke-opacity:0.1; fill:none\" points=\"\n",
       "  479.056,1036.29 479.056,47.2441 \n",
       "  \"/>\n",
       "<polyline clip-path=\"url(#clip0703)\" style=\"stroke:#000000; stroke-width:2; stroke-opacity:0.1; fill:none\" points=\"\n",
       "  538.272,1036.29 538.272,47.2441 \n",
       "  \"/>\n",
       "<polyline clip-path=\"url(#clip0703)\" style=\"stroke:#000000; stroke-width:2; stroke-opacity:0.1; fill:none\" points=\"\n",
       "  597.488,1036.29 597.488,47.2441 \n",
       "  \"/>\n",
       "<polyline clip-path=\"url(#clip0703)\" style=\"stroke:#000000; stroke-width:2; stroke-opacity:0.1; fill:none\" points=\"\n",
       "  656.704,1036.29 656.704,47.2441 \n",
       "  \"/>\n",
       "<polyline clip-path=\"url(#clip0703)\" style=\"stroke:#000000; stroke-width:2; stroke-opacity:0.1; fill:none\" points=\"\n",
       "  715.92,1036.29 715.92,47.2441 \n",
       "  \"/>\n",
       "<polyline clip-path=\"url(#clip0703)\" style=\"stroke:#000000; stroke-width:2; stroke-opacity:0.1; fill:none\" points=\"\n",
       "  775.136,1036.29 775.136,47.2441 \n",
       "  \"/>\n",
       "<polyline clip-path=\"url(#clip0703)\" style=\"stroke:#000000; stroke-width:2; stroke-opacity:0.1; fill:none\" points=\"\n",
       "  834.352,1036.29 834.352,47.2441 \n",
       "  \"/>\n",
       "<polyline clip-path=\"url(#clip0703)\" style=\"stroke:#000000; stroke-width:2; stroke-opacity:0.1; fill:none\" points=\"\n",
       "  893.569,1036.29 893.569,47.2441 \n",
       "  \"/>\n",
       "<polyline clip-path=\"url(#clip0703)\" style=\"stroke:#000000; stroke-width:2; stroke-opacity:0.1; fill:none\" points=\"\n",
       "  952.785,1036.29 952.785,47.2441 \n",
       "  \"/>\n",
       "<polyline clip-path=\"url(#clip0703)\" style=\"stroke:#000000; stroke-width:2; stroke-opacity:0.1; fill:none\" points=\"\n",
       "  1012,1036.29 1012,47.2441 \n",
       "  \"/>\n",
       "<polyline clip-path=\"url(#clip0703)\" style=\"stroke:#000000; stroke-width:2; stroke-opacity:0.1; fill:none\" points=\"\n",
       "  1071.22,1036.29 1071.22,47.2441 \n",
       "  \"/>\n",
       "<polyline clip-path=\"url(#clip0703)\" style=\"stroke:#000000; stroke-width:2; stroke-opacity:0.1; fill:none\" points=\"\n",
       "  1130.43,1036.29 1130.43,47.2441 \n",
       "  \"/>\n",
       "<polyline clip-path=\"url(#clip0703)\" style=\"stroke:#000000; stroke-width:2; stroke-opacity:0.1; fill:none\" points=\"\n",
       "  1189.65,1036.29 1189.65,47.2441 \n",
       "  \"/>\n",
       "<polyline clip-path=\"url(#clip0703)\" style=\"stroke:#000000; stroke-width:2; stroke-opacity:0.1; fill:none\" points=\"\n",
       "  1248.87,1036.29 1248.87,47.2441 \n",
       "  \"/>\n",
       "<polyline clip-path=\"url(#clip0703)\" style=\"stroke:#000000; stroke-width:2; stroke-opacity:0.1; fill:none\" points=\"\n",
       "  1308.08,1036.29 1308.08,47.2441 \n",
       "  \"/>\n",
       "<polyline clip-path=\"url(#clip0703)\" style=\"stroke:#000000; stroke-width:2; stroke-opacity:0.1; fill:none\" points=\"\n",
       "  1367.3,1036.29 1367.3,47.2441 \n",
       "  \"/>\n",
       "<polyline clip-path=\"url(#clip0703)\" style=\"stroke:#000000; stroke-width:2; stroke-opacity:0.1; fill:none\" points=\"\n",
       "  1426.51,1036.29 1426.51,47.2441 \n",
       "  \"/>\n",
       "<polyline clip-path=\"url(#clip0703)\" style=\"stroke:#000000; stroke-width:2; stroke-opacity:0.1; fill:none\" points=\"\n",
       "  1485.73,1036.29 1485.73,47.2441 \n",
       "  \"/>\n",
       "<polyline clip-path=\"url(#clip0703)\" style=\"stroke:#000000; stroke-width:2; stroke-opacity:0.1; fill:none\" points=\"\n",
       "  265.877,1031.84 1521.26,1031.84 \n",
       "  \"/>\n",
       "<polyline clip-path=\"url(#clip0703)\" style=\"stroke:#000000; stroke-width:2; stroke-opacity:0.1; fill:none\" points=\"\n",
       "  265.877,962.034 1521.26,962.034 \n",
       "  \"/>\n",
       "<polyline clip-path=\"url(#clip0703)\" style=\"stroke:#000000; stroke-width:2; stroke-opacity:0.1; fill:none\" points=\"\n",
       "  265.877,892.227 1521.26,892.227 \n",
       "  \"/>\n",
       "<polyline clip-path=\"url(#clip0703)\" style=\"stroke:#000000; stroke-width:2; stroke-opacity:0.1; fill:none\" points=\"\n",
       "  265.877,822.42 1521.26,822.42 \n",
       "  \"/>\n",
       "<polyline clip-path=\"url(#clip0703)\" style=\"stroke:#000000; stroke-width:2; stroke-opacity:0.1; fill:none\" points=\"\n",
       "  265.877,752.613 1521.26,752.613 \n",
       "  \"/>\n",
       "<polyline clip-path=\"url(#clip0703)\" style=\"stroke:#000000; stroke-width:2; stroke-opacity:0.1; fill:none\" points=\"\n",
       "  265.877,682.806 1521.26,682.806 \n",
       "  \"/>\n",
       "<polyline clip-path=\"url(#clip0703)\" style=\"stroke:#000000; stroke-width:2; stroke-opacity:0.1; fill:none\" points=\"\n",
       "  265.877,612.999 1521.26,612.999 \n",
       "  \"/>\n",
       "<polyline clip-path=\"url(#clip0703)\" style=\"stroke:#000000; stroke-width:2; stroke-opacity:0.1; fill:none\" points=\"\n",
       "  265.877,543.192 1521.26,543.192 \n",
       "  \"/>\n",
       "<polyline clip-path=\"url(#clip0703)\" style=\"stroke:#000000; stroke-width:2; stroke-opacity:0.1; fill:none\" points=\"\n",
       "  265.877,473.385 1521.26,473.385 \n",
       "  \"/>\n",
       "<polyline clip-path=\"url(#clip0703)\" style=\"stroke:#000000; stroke-width:2; stroke-opacity:0.1; fill:none\" points=\"\n",
       "  265.877,403.578 1521.26,403.578 \n",
       "  \"/>\n",
       "<polyline clip-path=\"url(#clip0703)\" style=\"stroke:#000000; stroke-width:2; stroke-opacity:0.1; fill:none\" points=\"\n",
       "  265.877,333.771 1521.26,333.771 \n",
       "  \"/>\n",
       "<polyline clip-path=\"url(#clip0703)\" style=\"stroke:#000000; stroke-width:2; stroke-opacity:0.1; fill:none\" points=\"\n",
       "  265.877,263.964 1521.26,263.964 \n",
       "  \"/>\n",
       "<polyline clip-path=\"url(#clip0703)\" style=\"stroke:#000000; stroke-width:2; stroke-opacity:0.1; fill:none\" points=\"\n",
       "  265.877,194.157 1521.26,194.157 \n",
       "  \"/>\n",
       "<polyline clip-path=\"url(#clip0703)\" style=\"stroke:#000000; stroke-width:2; stroke-opacity:0.1; fill:none\" points=\"\n",
       "  265.877,124.35 1521.26,124.35 \n",
       "  \"/>\n",
       "<polyline clip-path=\"url(#clip0703)\" style=\"stroke:#000000; stroke-width:2; stroke-opacity:0.1; fill:none\" points=\"\n",
       "  265.877,54.5425 1521.26,54.5425 \n",
       "  \"/>\n",
       "<polyline clip-path=\"url(#clip0701)\" style=\"stroke:#000000; stroke-width:4; stroke-opacity:1; fill:none\" points=\"\n",
       "  265.877,1036.29 1521.26,1036.29 \n",
       "  \"/>\n",
       "<polyline clip-path=\"url(#clip0701)\" style=\"stroke:#000000; stroke-width:4; stroke-opacity:1; fill:none\" points=\"\n",
       "  265.877,1036.29 265.877,47.2441 \n",
       "  \"/>\n",
       "<polyline clip-path=\"url(#clip0701)\" style=\"stroke:#000000; stroke-width:4; stroke-opacity:1; fill:none\" points=\"\n",
       "  301.407,1036.29 301.407,1021.46 \n",
       "  \"/>\n",
       "<polyline clip-path=\"url(#clip0701)\" style=\"stroke:#000000; stroke-width:4; stroke-opacity:1; fill:none\" points=\"\n",
       "  360.623,1036.29 360.623,1021.46 \n",
       "  \"/>\n",
       "<polyline clip-path=\"url(#clip0701)\" style=\"stroke:#000000; stroke-width:4; stroke-opacity:1; fill:none\" points=\"\n",
       "  419.839,1036.29 419.839,1021.46 \n",
       "  \"/>\n",
       "<polyline clip-path=\"url(#clip0701)\" style=\"stroke:#000000; stroke-width:4; stroke-opacity:1; fill:none\" points=\"\n",
       "  479.056,1036.29 479.056,1021.46 \n",
       "  \"/>\n",
       "<polyline clip-path=\"url(#clip0701)\" style=\"stroke:#000000; stroke-width:4; stroke-opacity:1; fill:none\" points=\"\n",
       "  538.272,1036.29 538.272,1021.46 \n",
       "  \"/>\n",
       "<polyline clip-path=\"url(#clip0701)\" style=\"stroke:#000000; stroke-width:4; stroke-opacity:1; fill:none\" points=\"\n",
       "  597.488,1036.29 597.488,1021.46 \n",
       "  \"/>\n",
       "<polyline clip-path=\"url(#clip0701)\" style=\"stroke:#000000; stroke-width:4; stroke-opacity:1; fill:none\" points=\"\n",
       "  656.704,1036.29 656.704,1021.46 \n",
       "  \"/>\n",
       "<polyline clip-path=\"url(#clip0701)\" style=\"stroke:#000000; stroke-width:4; stroke-opacity:1; fill:none\" points=\"\n",
       "  715.92,1036.29 715.92,1021.46 \n",
       "  \"/>\n",
       "<polyline clip-path=\"url(#clip0701)\" style=\"stroke:#000000; stroke-width:4; stroke-opacity:1; fill:none\" points=\"\n",
       "  775.136,1036.29 775.136,1021.46 \n",
       "  \"/>\n",
       "<polyline clip-path=\"url(#clip0701)\" style=\"stroke:#000000; stroke-width:4; stroke-opacity:1; fill:none\" points=\"\n",
       "  834.352,1036.29 834.352,1021.46 \n",
       "  \"/>\n",
       "<polyline clip-path=\"url(#clip0701)\" style=\"stroke:#000000; stroke-width:4; stroke-opacity:1; fill:none\" points=\"\n",
       "  893.569,1036.29 893.569,1021.46 \n",
       "  \"/>\n",
       "<polyline clip-path=\"url(#clip0701)\" style=\"stroke:#000000; stroke-width:4; stroke-opacity:1; fill:none\" points=\"\n",
       "  952.785,1036.29 952.785,1021.46 \n",
       "  \"/>\n",
       "<polyline clip-path=\"url(#clip0701)\" style=\"stroke:#000000; stroke-width:4; stroke-opacity:1; fill:none\" points=\"\n",
       "  1012,1036.29 1012,1021.46 \n",
       "  \"/>\n",
       "<polyline clip-path=\"url(#clip0701)\" style=\"stroke:#000000; stroke-width:4; stroke-opacity:1; fill:none\" points=\"\n",
       "  1071.22,1036.29 1071.22,1021.46 \n",
       "  \"/>\n",
       "<polyline clip-path=\"url(#clip0701)\" style=\"stroke:#000000; stroke-width:4; stroke-opacity:1; fill:none\" points=\"\n",
       "  1130.43,1036.29 1130.43,1021.46 \n",
       "  \"/>\n",
       "<polyline clip-path=\"url(#clip0701)\" style=\"stroke:#000000; stroke-width:4; stroke-opacity:1; fill:none\" points=\"\n",
       "  1189.65,1036.29 1189.65,1021.46 \n",
       "  \"/>\n",
       "<polyline clip-path=\"url(#clip0701)\" style=\"stroke:#000000; stroke-width:4; stroke-opacity:1; fill:none\" points=\"\n",
       "  1248.87,1036.29 1248.87,1021.46 \n",
       "  \"/>\n",
       "<polyline clip-path=\"url(#clip0701)\" style=\"stroke:#000000; stroke-width:4; stroke-opacity:1; fill:none\" points=\"\n",
       "  1308.08,1036.29 1308.08,1021.46 \n",
       "  \"/>\n",
       "<polyline clip-path=\"url(#clip0701)\" style=\"stroke:#000000; stroke-width:4; stroke-opacity:1; fill:none\" points=\"\n",
       "  1367.3,1036.29 1367.3,1021.46 \n",
       "  \"/>\n",
       "<polyline clip-path=\"url(#clip0701)\" style=\"stroke:#000000; stroke-width:4; stroke-opacity:1; fill:none\" points=\"\n",
       "  1426.51,1036.29 1426.51,1021.46 \n",
       "  \"/>\n",
       "<polyline clip-path=\"url(#clip0701)\" style=\"stroke:#000000; stroke-width:4; stroke-opacity:1; fill:none\" points=\"\n",
       "  1485.73,1036.29 1485.73,1021.46 \n",
       "  \"/>\n",
       "<polyline clip-path=\"url(#clip0701)\" style=\"stroke:#000000; stroke-width:4; stroke-opacity:1; fill:none\" points=\"\n",
       "  265.877,1031.84 284.708,1031.84 \n",
       "  \"/>\n",
       "<polyline clip-path=\"url(#clip0701)\" style=\"stroke:#000000; stroke-width:4; stroke-opacity:1; fill:none\" points=\"\n",
       "  265.877,962.034 284.708,962.034 \n",
       "  \"/>\n",
       "<polyline clip-path=\"url(#clip0701)\" style=\"stroke:#000000; stroke-width:4; stroke-opacity:1; fill:none\" points=\"\n",
       "  265.877,892.227 284.708,892.227 \n",
       "  \"/>\n",
       "<polyline clip-path=\"url(#clip0701)\" style=\"stroke:#000000; stroke-width:4; stroke-opacity:1; fill:none\" points=\"\n",
       "  265.877,822.42 284.708,822.42 \n",
       "  \"/>\n",
       "<polyline clip-path=\"url(#clip0701)\" style=\"stroke:#000000; stroke-width:4; stroke-opacity:1; fill:none\" points=\"\n",
       "  265.877,752.613 284.708,752.613 \n",
       "  \"/>\n",
       "<polyline clip-path=\"url(#clip0701)\" style=\"stroke:#000000; stroke-width:4; stroke-opacity:1; fill:none\" points=\"\n",
       "  265.877,682.806 284.708,682.806 \n",
       "  \"/>\n",
       "<polyline clip-path=\"url(#clip0701)\" style=\"stroke:#000000; stroke-width:4; stroke-opacity:1; fill:none\" points=\"\n",
       "  265.877,612.999 284.708,612.999 \n",
       "  \"/>\n",
       "<polyline clip-path=\"url(#clip0701)\" style=\"stroke:#000000; stroke-width:4; stroke-opacity:1; fill:none\" points=\"\n",
       "  265.877,543.192 284.708,543.192 \n",
       "  \"/>\n",
       "<polyline clip-path=\"url(#clip0701)\" style=\"stroke:#000000; stroke-width:4; stroke-opacity:1; fill:none\" points=\"\n",
       "  265.877,473.385 284.708,473.385 \n",
       "  \"/>\n",
       "<polyline clip-path=\"url(#clip0701)\" style=\"stroke:#000000; stroke-width:4; stroke-opacity:1; fill:none\" points=\"\n",
       "  265.877,403.578 284.708,403.578 \n",
       "  \"/>\n",
       "<polyline clip-path=\"url(#clip0701)\" style=\"stroke:#000000; stroke-width:4; stroke-opacity:1; fill:none\" points=\"\n",
       "  265.877,333.771 284.708,333.771 \n",
       "  \"/>\n",
       "<polyline clip-path=\"url(#clip0701)\" style=\"stroke:#000000; stroke-width:4; stroke-opacity:1; fill:none\" points=\"\n",
       "  265.877,263.964 284.708,263.964 \n",
       "  \"/>\n",
       "<polyline clip-path=\"url(#clip0701)\" style=\"stroke:#000000; stroke-width:4; stroke-opacity:1; fill:none\" points=\"\n",
       "  265.877,194.157 284.708,194.157 \n",
       "  \"/>\n",
       "<polyline clip-path=\"url(#clip0701)\" style=\"stroke:#000000; stroke-width:4; stroke-opacity:1; fill:none\" points=\"\n",
       "  265.877,124.35 284.708,124.35 \n",
       "  \"/>\n",
       "<polyline clip-path=\"url(#clip0701)\" style=\"stroke:#000000; stroke-width:4; stroke-opacity:1; fill:none\" points=\"\n",
       "  265.877,54.5425 284.708,54.5425 \n",
       "  \"/>\n",
       "<g clip-path=\"url(#clip0701)\">\n",
       "<text style=\"fill:#000000; fill-opacity:1; font-family:Arial,Helvetica Neue,Helvetica,sans-serif; font-size:48px; text-anchor:middle;\" transform=\"rotate(0, 301.407, 1086.29)\" x=\"301.407\" y=\"1086.29\">0</text>\n",
       "</g>\n",
       "<g clip-path=\"url(#clip0701)\">\n",
       "<text style=\"fill:#000000; fill-opacity:1; font-family:Arial,Helvetica Neue,Helvetica,sans-serif; font-size:48px; text-anchor:middle;\" transform=\"rotate(0, 360.623, 1086.29)\" x=\"360.623\" y=\"1086.29\">1</text>\n",
       "</g>\n",
       "<g clip-path=\"url(#clip0701)\">\n",
       "<text style=\"fill:#000000; fill-opacity:1; font-family:Arial,Helvetica Neue,Helvetica,sans-serif; font-size:48px; text-anchor:middle;\" transform=\"rotate(0, 419.839, 1086.29)\" x=\"419.839\" y=\"1086.29\">2</text>\n",
       "</g>\n",
       "<g clip-path=\"url(#clip0701)\">\n",
       "<text style=\"fill:#000000; fill-opacity:1; font-family:Arial,Helvetica Neue,Helvetica,sans-serif; font-size:48px; text-anchor:middle;\" transform=\"rotate(0, 479.056, 1086.29)\" x=\"479.056\" y=\"1086.29\">3</text>\n",
       "</g>\n",
       "<g clip-path=\"url(#clip0701)\">\n",
       "<text style=\"fill:#000000; fill-opacity:1; font-family:Arial,Helvetica Neue,Helvetica,sans-serif; font-size:48px; text-anchor:middle;\" transform=\"rotate(0, 538.272, 1086.29)\" x=\"538.272\" y=\"1086.29\">4</text>\n",
       "</g>\n",
       "<g clip-path=\"url(#clip0701)\">\n",
       "<text style=\"fill:#000000; fill-opacity:1; font-family:Arial,Helvetica Neue,Helvetica,sans-serif; font-size:48px; text-anchor:middle;\" transform=\"rotate(0, 597.488, 1086.29)\" x=\"597.488\" y=\"1086.29\">5</text>\n",
       "</g>\n",
       "<g clip-path=\"url(#clip0701)\">\n",
       "<text style=\"fill:#000000; fill-opacity:1; font-family:Arial,Helvetica Neue,Helvetica,sans-serif; font-size:48px; text-anchor:middle;\" transform=\"rotate(0, 656.704, 1086.29)\" x=\"656.704\" y=\"1086.29\">6</text>\n",
       "</g>\n",
       "<g clip-path=\"url(#clip0701)\">\n",
       "<text style=\"fill:#000000; fill-opacity:1; font-family:Arial,Helvetica Neue,Helvetica,sans-serif; font-size:48px; text-anchor:middle;\" transform=\"rotate(0, 715.92, 1086.29)\" x=\"715.92\" y=\"1086.29\">7</text>\n",
       "</g>\n",
       "<g clip-path=\"url(#clip0701)\">\n",
       "<text style=\"fill:#000000; fill-opacity:1; font-family:Arial,Helvetica Neue,Helvetica,sans-serif; font-size:48px; text-anchor:middle;\" transform=\"rotate(0, 775.136, 1086.29)\" x=\"775.136\" y=\"1086.29\">8</text>\n",
       "</g>\n",
       "<g clip-path=\"url(#clip0701)\">\n",
       "<text style=\"fill:#000000; fill-opacity:1; font-family:Arial,Helvetica Neue,Helvetica,sans-serif; font-size:48px; text-anchor:middle;\" transform=\"rotate(0, 834.352, 1086.29)\" x=\"834.352\" y=\"1086.29\">9</text>\n",
       "</g>\n",
       "<g clip-path=\"url(#clip0701)\">\n",
       "<text style=\"fill:#000000; fill-opacity:1; font-family:Arial,Helvetica Neue,Helvetica,sans-serif; font-size:48px; text-anchor:middle;\" transform=\"rotate(0, 893.569, 1086.29)\" x=\"893.569\" y=\"1086.29\">10</text>\n",
       "</g>\n",
       "<g clip-path=\"url(#clip0701)\">\n",
       "<text style=\"fill:#000000; fill-opacity:1; font-family:Arial,Helvetica Neue,Helvetica,sans-serif; font-size:48px; text-anchor:middle;\" transform=\"rotate(0, 952.785, 1086.29)\" x=\"952.785\" y=\"1086.29\">11</text>\n",
       "</g>\n",
       "<g clip-path=\"url(#clip0701)\">\n",
       "<text style=\"fill:#000000; fill-opacity:1; font-family:Arial,Helvetica Neue,Helvetica,sans-serif; font-size:48px; text-anchor:middle;\" transform=\"rotate(0, 1012, 1086.29)\" x=\"1012\" y=\"1086.29\">12</text>\n",
       "</g>\n",
       "<g clip-path=\"url(#clip0701)\">\n",
       "<text style=\"fill:#000000; fill-opacity:1; font-family:Arial,Helvetica Neue,Helvetica,sans-serif; font-size:48px; text-anchor:middle;\" transform=\"rotate(0, 1071.22, 1086.29)\" x=\"1071.22\" y=\"1086.29\">13</text>\n",
       "</g>\n",
       "<g clip-path=\"url(#clip0701)\">\n",
       "<text style=\"fill:#000000; fill-opacity:1; font-family:Arial,Helvetica Neue,Helvetica,sans-serif; font-size:48px; text-anchor:middle;\" transform=\"rotate(0, 1130.43, 1086.29)\" x=\"1130.43\" y=\"1086.29\">14</text>\n",
       "</g>\n",
       "<g clip-path=\"url(#clip0701)\">\n",
       "<text style=\"fill:#000000; fill-opacity:1; font-family:Arial,Helvetica Neue,Helvetica,sans-serif; font-size:48px; text-anchor:middle;\" transform=\"rotate(0, 1189.65, 1086.29)\" x=\"1189.65\" y=\"1086.29\">15</text>\n",
       "</g>\n",
       "<g clip-path=\"url(#clip0701)\">\n",
       "<text style=\"fill:#000000; fill-opacity:1; font-family:Arial,Helvetica Neue,Helvetica,sans-serif; font-size:48px; text-anchor:middle;\" transform=\"rotate(0, 1248.87, 1086.29)\" x=\"1248.87\" y=\"1086.29\">16</text>\n",
       "</g>\n",
       "<g clip-path=\"url(#clip0701)\">\n",
       "<text style=\"fill:#000000; fill-opacity:1; font-family:Arial,Helvetica Neue,Helvetica,sans-serif; font-size:48px; text-anchor:middle;\" transform=\"rotate(0, 1308.08, 1086.29)\" x=\"1308.08\" y=\"1086.29\">17</text>\n",
       "</g>\n",
       "<g clip-path=\"url(#clip0701)\">\n",
       "<text style=\"fill:#000000; fill-opacity:1; font-family:Arial,Helvetica Neue,Helvetica,sans-serif; font-size:48px; text-anchor:middle;\" transform=\"rotate(0, 1367.3, 1086.29)\" x=\"1367.3\" y=\"1086.29\">18</text>\n",
       "</g>\n",
       "<g clip-path=\"url(#clip0701)\">\n",
       "<text style=\"fill:#000000; fill-opacity:1; font-family:Arial,Helvetica Neue,Helvetica,sans-serif; font-size:48px; text-anchor:middle;\" transform=\"rotate(0, 1426.51, 1086.29)\" x=\"1426.51\" y=\"1086.29\">19</text>\n",
       "</g>\n",
       "<g clip-path=\"url(#clip0701)\">\n",
       "<text style=\"fill:#000000; fill-opacity:1; font-family:Arial,Helvetica Neue,Helvetica,sans-serif; font-size:48px; text-anchor:middle;\" transform=\"rotate(0, 1485.73, 1086.29)\" x=\"1485.73\" y=\"1086.29\">20</text>\n",
       "</g>\n",
       "<g clip-path=\"url(#clip0701)\">\n",
       "<text style=\"fill:#000000; fill-opacity:1; font-family:Arial,Helvetica Neue,Helvetica,sans-serif; font-size:48px; text-anchor:end;\" transform=\"rotate(0, 249.877, 1049.34)\" x=\"249.877\" y=\"1049.34\">-300</text>\n",
       "</g>\n",
       "<g clip-path=\"url(#clip0701)\">\n",
       "<text style=\"fill:#000000; fill-opacity:1; font-family:Arial,Helvetica Neue,Helvetica,sans-serif; font-size:48px; text-anchor:end;\" transform=\"rotate(0, 249.877, 979.534)\" x=\"249.877\" y=\"979.534\">-250</text>\n",
       "</g>\n",
       "<g clip-path=\"url(#clip0701)\">\n",
       "<text style=\"fill:#000000; fill-opacity:1; font-family:Arial,Helvetica Neue,Helvetica,sans-serif; font-size:48px; text-anchor:end;\" transform=\"rotate(0, 249.877, 909.727)\" x=\"249.877\" y=\"909.727\">-200</text>\n",
       "</g>\n",
       "<g clip-path=\"url(#clip0701)\">\n",
       "<text style=\"fill:#000000; fill-opacity:1; font-family:Arial,Helvetica Neue,Helvetica,sans-serif; font-size:48px; text-anchor:end;\" transform=\"rotate(0, 249.877, 839.92)\" x=\"249.877\" y=\"839.92\">-150</text>\n",
       "</g>\n",
       "<g clip-path=\"url(#clip0701)\">\n",
       "<text style=\"fill:#000000; fill-opacity:1; font-family:Arial,Helvetica Neue,Helvetica,sans-serif; font-size:48px; text-anchor:end;\" transform=\"rotate(0, 249.877, 770.113)\" x=\"249.877\" y=\"770.113\">-100</text>\n",
       "</g>\n",
       "<g clip-path=\"url(#clip0701)\">\n",
       "<text style=\"fill:#000000; fill-opacity:1; font-family:Arial,Helvetica Neue,Helvetica,sans-serif; font-size:48px; text-anchor:end;\" transform=\"rotate(0, 249.877, 700.306)\" x=\"249.877\" y=\"700.306\">-50</text>\n",
       "</g>\n",
       "<g clip-path=\"url(#clip0701)\">\n",
       "<text style=\"fill:#000000; fill-opacity:1; font-family:Arial,Helvetica Neue,Helvetica,sans-serif; font-size:48px; text-anchor:end;\" transform=\"rotate(0, 249.877, 630.499)\" x=\"249.877\" y=\"630.499\">0</text>\n",
       "</g>\n",
       "<g clip-path=\"url(#clip0701)\">\n",
       "<text style=\"fill:#000000; fill-opacity:1; font-family:Arial,Helvetica Neue,Helvetica,sans-serif; font-size:48px; text-anchor:end;\" transform=\"rotate(0, 249.877, 560.692)\" x=\"249.877\" y=\"560.692\">50</text>\n",
       "</g>\n",
       "<g clip-path=\"url(#clip0701)\">\n",
       "<text style=\"fill:#000000; fill-opacity:1; font-family:Arial,Helvetica Neue,Helvetica,sans-serif; font-size:48px; text-anchor:end;\" transform=\"rotate(0, 249.877, 490.885)\" x=\"249.877\" y=\"490.885\">100</text>\n",
       "</g>\n",
       "<g clip-path=\"url(#clip0701)\">\n",
       "<text style=\"fill:#000000; fill-opacity:1; font-family:Arial,Helvetica Neue,Helvetica,sans-serif; font-size:48px; text-anchor:end;\" transform=\"rotate(0, 249.877, 421.078)\" x=\"249.877\" y=\"421.078\">150</text>\n",
       "</g>\n",
       "<g clip-path=\"url(#clip0701)\">\n",
       "<text style=\"fill:#000000; fill-opacity:1; font-family:Arial,Helvetica Neue,Helvetica,sans-serif; font-size:48px; text-anchor:end;\" transform=\"rotate(0, 249.877, 351.271)\" x=\"249.877\" y=\"351.271\">200</text>\n",
       "</g>\n",
       "<g clip-path=\"url(#clip0701)\">\n",
       "<text style=\"fill:#000000; fill-opacity:1; font-family:Arial,Helvetica Neue,Helvetica,sans-serif; font-size:48px; text-anchor:end;\" transform=\"rotate(0, 249.877, 281.464)\" x=\"249.877\" y=\"281.464\">250</text>\n",
       "</g>\n",
       "<g clip-path=\"url(#clip0701)\">\n",
       "<text style=\"fill:#000000; fill-opacity:1; font-family:Arial,Helvetica Neue,Helvetica,sans-serif; font-size:48px; text-anchor:end;\" transform=\"rotate(0, 249.877, 211.657)\" x=\"249.877\" y=\"211.657\">300</text>\n",
       "</g>\n",
       "<g clip-path=\"url(#clip0701)\">\n",
       "<text style=\"fill:#000000; fill-opacity:1; font-family:Arial,Helvetica Neue,Helvetica,sans-serif; font-size:48px; text-anchor:end;\" transform=\"rotate(0, 249.877, 141.85)\" x=\"249.877\" y=\"141.85\">350</text>\n",
       "</g>\n",
       "<g clip-path=\"url(#clip0701)\">\n",
       "<text style=\"fill:#000000; fill-opacity:1; font-family:Arial,Helvetica Neue,Helvetica,sans-serif; font-size:48px; text-anchor:end;\" transform=\"rotate(0, 249.877, 72.0425)\" x=\"249.877\" y=\"72.0425\">400</text>\n",
       "</g>\n",
       "<g clip-path=\"url(#clip0701)\">\n",
       "<text style=\"fill:#000000; fill-opacity:1; font-family:Arial,Helvetica Neue,Helvetica,sans-serif; font-size:66px; text-anchor:middle;\" transform=\"rotate(0, 893.569, 1190.4)\" x=\"893.569\" y=\"1190.4\">x</text>\n",
       "</g>\n",
       "<g clip-path=\"url(#clip0701)\">\n",
       "<text style=\"fill:#000000; fill-opacity:1; font-family:Arial,Helvetica Neue,Helvetica,sans-serif; font-size:66px; text-anchor:middle;\" transform=\"rotate(-90, 57.6, 541.768)\" x=\"57.6\" y=\"541.768\">y</text>\n",
       "</g>\n",
       "<polyline clip-path=\"url(#clip0703)\" style=\"stroke:#009af9; stroke-width:4; stroke-opacity:1; fill:none\" points=\"\n",
       "  301.407,612.999 307.329,612.858 313.25,612.709 319.172,612.543 325.094,612.354 331.015,612.134 336.937,611.878 342.858,611.581 348.78,611.241 354.702,610.857 \n",
       "  360.623,610.428 366.545,609.958 372.466,609.45 378.388,608.911 384.31,608.348 390.231,607.771 396.153,607.193 402.075,606.624 407.996,606.081 413.918,605.577 \n",
       "  419.839,605.129 425.761,604.752 431.683,604.464 437.604,604.28 443.526,604.216 449.447,604.286 455.369,604.504 461.291,604.88 467.212,605.423 473.134,606.141 \n",
       "  479.056,607.037 484.977,608.113 490.899,609.366 496.82,610.79 502.742,612.376 508.664,614.112 514.585,615.98 520.507,617.96 526.428,620.029 532.35,622.159 \n",
       "  538.272,624.32 544.193,626.479 550.115,628.6 556.037,630.646 561.958,632.577 567.88,634.353 573.801,635.933 579.723,637.276 585.645,638.341 591.566,639.091 \n",
       "  597.488,639.488 603.409,639.498 609.331,639.091 615.253,638.239 621.174,636.92 627.096,635.118 633.018,632.819 638.939,630.02 644.861,626.722 650.782,622.932 \n",
       "  656.704,618.666 662.626,613.946 668.547,608.802 674.469,603.272 680.39,597.399 686.312,591.235 692.234,584.838 698.155,578.272 704.077,571.607 709.999,564.917 \n",
       "  715.92,558.281 721.842,551.782 727.763,545.504 733.685,539.534 739.607,533.959 745.528,528.864 751.45,524.334 757.371,520.451 763.293,517.292 769.215,514.929 \n",
       "  775.136,513.428 781.058,512.848 786.98,513.238 792.901,514.64 798.823,517.083 804.744,520.587 810.666,525.159 816.588,530.794 822.509,537.473 828.431,545.166 \n",
       "  834.352,553.828 840.274,563.402 846.196,573.816 852.117,584.987 858.039,596.819 863.961,609.205 869.882,622.026 875.804,635.156 881.725,648.456 887.647,661.785 \n",
       "  893.569,674.991 899.49,687.921 905.412,700.418 911.333,712.326 917.255,723.486 923.177,733.746 929.098,742.956 935.02,750.973 940.942,757.662 946.863,762.9 \n",
       "  952.785,766.573 958.706,768.583 964.628,768.848 970.55,767.299 976.471,763.888 982.393,758.587 988.314,751.384 994.236,742.293 1000.16,731.345 1006.08,718.595 \n",
       "  1012,704.12 1017.92,688.018 1023.84,670.407 1029.77,651.427 1035.69,631.237 1041.61,610.015 1047.53,587.955 1053.45,565.266 1059.37,542.172 1065.3,518.906 \n",
       "  1071.22,495.712 1077.14,472.838 1083.06,450.54 1088.98,429.071 1094.9,408.685 1100.83,389.631 1106.75,372.15 1112.67,356.474 1118.59,342.821 1124.51,331.395 \n",
       "  1130.43,322.38 1136.35,315.938 1142.28,312.211 1148.2,311.314 1154.12,313.333 1160.04,318.327 1165.96,326.324 1171.88,337.321 1177.81,351.28 1183.73,368.134 \n",
       "  1189.65,387.781 1195.57,410.086 1201.49,434.883 1207.41,461.974 1213.34,491.133 1219.26,522.105 1225.18,554.608 1231.1,588.339 1237.02,622.973 1242.94,658.166 \n",
       "  1248.87,693.561 1254.79,728.79 1260.71,763.479 1266.63,797.246 1272.55,829.715 1278.47,860.512 1284.4,889.271 1290.32,915.641 1296.24,939.287 1302.16,959.894 \n",
       "  1308.08,977.174 1314,990.865 1319.92,1000.74 1325.85,1006.6 1331.77,1008.3 1337.69,1005.71 1343.61,998.773 1349.53,987.448 1355.45,971.758 1361.38,951.764 \n",
       "  1367.3,927.577 1373.22,899.355 1379.14,867.299 1385.06,831.657 1390.98,792.719 1396.91,750.818 1402.83,706.321 1408.75,659.635 1414.67,611.195 1420.59,561.465 \n",
       "  1426.51,510.933 1432.44,460.104 1438.36,409.498 1444.28,359.642 1450.2,311.068 1456.12,264.304 1462.04,219.869 1467.97,178.271 1473.89,139.997 1479.81,105.508 \n",
       "  1485.73,75.236 \n",
       "  \"/>\n",
       "<polyline clip-path=\"url(#clip0703)\" style=\"stroke:#e26f46; stroke-width:4; stroke-opacity:1; fill:none\" points=\"\n",
       "  301.407,612.999 360.623,612.999 419.839,612.999 479.056,612.999 538.272,612.999 597.488,612.999 656.704,612.999 715.92,612.999 775.136,612.999 834.352,612.999 \n",
       "  893.569,612.999 952.785,612.999 1012,612.999 1071.22,612.999 1130.43,612.999 1189.65,612.999 1248.87,612.999 1308.08,612.999 1367.3,612.999 1426.51,612.999 \n",
       "  1485.73,612.999 \n",
       "  \"/>\n",
       "<circle clip-path=\"url(#clip0703)\" style=\"fill:#000000; stroke:none; fill-opacity:1\" cx=\"301.407\" cy=\"612.999\" r=\"18\"/>\n",
       "<circle clip-path=\"url(#clip0703)\" style=\"fill:#3da44d; stroke:none; fill-opacity:1\" cx=\"301.407\" cy=\"612.999\" r=\"14\"/>\n",
       "<circle clip-path=\"url(#clip0703)\" style=\"fill:#000000; stroke:none; fill-opacity:1\" cx=\"301.407\" cy=\"612.999\" r=\"18\"/>\n",
       "<circle clip-path=\"url(#clip0703)\" style=\"fill:#3da44d; stroke:none; fill-opacity:1\" cx=\"301.407\" cy=\"612.999\" r=\"14\"/>\n",
       "<circle clip-path=\"url(#clip0703)\" style=\"fill:#000000; stroke:none; fill-opacity:1\" cx=\"663.752\" cy=\"612.999\" r=\"18\"/>\n",
       "<circle clip-path=\"url(#clip0703)\" style=\"fill:#3da44d; stroke:none; fill-opacity:1\" cx=\"663.752\" cy=\"612.999\" r=\"14\"/>\n",
       "<circle clip-path=\"url(#clip0703)\" style=\"fill:#000000; stroke:none; fill-opacity:1\" cx=\"865.731\" cy=\"612.999\" r=\"18\"/>\n",
       "<circle clip-path=\"url(#clip0703)\" style=\"fill:#3da44d; stroke:none; fill-opacity:1\" cx=\"865.731\" cy=\"612.999\" r=\"14\"/>\n",
       "<circle clip-path=\"url(#clip0703)\" style=\"fill:#000000; stroke:none; fill-opacity:1\" cx=\"1040.79\" cy=\"612.999\" r=\"18\"/>\n",
       "<circle clip-path=\"url(#clip0703)\" style=\"fill:#3da44d; stroke:none; fill-opacity:1\" cx=\"1040.79\" cy=\"612.999\" r=\"14\"/>\n",
       "<polygon clip-path=\"url(#clip0701)\" points=\"\n",
       "1168.76,264.204 1473.26,264.204 1473.26,82.7641 1168.76,82.7641 \n",
       "  \" fill=\"#ffffff\" fill-opacity=\"1\"/>\n",
       "<polyline clip-path=\"url(#clip0701)\" style=\"stroke:#000000; stroke-width:4; stroke-opacity:1; fill:none\" points=\"\n",
       "  1168.76,264.204 1473.26,264.204 1473.26,82.7641 1168.76,82.7641 1168.76,264.204 \n",
       "  \"/>\n",
       "<polyline clip-path=\"url(#clip0701)\" style=\"stroke:#009af9; stroke-width:4; stroke-opacity:1; fill:none\" points=\"\n",
       "  1184.76,143.244 1280.76,143.244 \n",
       "  \"/>\n",
       "<g clip-path=\"url(#clip0701)\">\n",
       "<text style=\"fill:#000000; fill-opacity:1; font-family:Arial,Helvetica Neue,Helvetica,sans-serif; font-size:48px; text-anchor:start;\" transform=\"rotate(0, 1296.76, 160.744)\" x=\"1296.76\" y=\"160.744\">função</text>\n",
       "</g>\n",
       "<circle clip-path=\"url(#clip0701)\" style=\"fill:#000000; stroke:none; fill-opacity:1\" cx=\"1240.76\" cy=\"203.724\" r=\"25\"/>\n",
       "<circle clip-path=\"url(#clip0701)\" style=\"fill:#3da44d; stroke:none; fill-opacity:1\" cx=\"1240.76\" cy=\"203.724\" r=\"21\"/>\n",
       "<g clip-path=\"url(#clip0701)\">\n",
       "<text style=\"fill:#000000; fill-opacity:1; font-family:Arial,Helvetica Neue,Helvetica,sans-serif; font-size:48px; text-anchor:start;\" transform=\"rotate(0, 1296.76, 221.224)\" x=\"1296.76\" y=\"221.224\">raiz</text>\n",
       "</g>\n",
       "</svg>\n"
      ]
     },
     "execution_count": 94,
     "metadata": {},
     "output_type": "execute_result"
    }
   ],
   "source": [
    "using Plots\n",
    "gr()\n",
    "\n",
    "plot(0:0.1:20, f, label = \"função\", size = (400, 300))\n",
    "plot!(0:20, zero, label = \"\")\n",
    "scatter!(Resultado2.raiz, zero, label = \"raiz\", \n",
    "    xaxis = (\"x\",  0:1:20), \n",
    "    yaxis = (\"y\", -500:50:500))"
   ]
  },
  {
   "cell_type": "code",
   "execution_count": 95,
   "metadata": {
    "collapsed": true
   },
   "outputs": [],
   "source": [
    "# Gravando os dados em um arquivo CSV\n",
    "CSV.write(\"Resultado2.csv\", Resultado2);"
   ]
  },
  {
   "cell_type": "markdown",
   "metadata": {},
   "source": [
    "**Outa forma de adicionar dados ao final de um Dataframe**\n",
    "\n",
    "Sintaxe:\n",
    "\n",
    "```julia\n",
    "vcat(nome_Dataframe, DataFrame(coluna1 = dados, coluna2 = dados))\n",
    "```\n",
    "Ou\n",
    "```julia\n",
    "push!(nome_dataframe, [dado_col_1, dado_col_2]) \n",
    "```"
   ]
  },
  {
   "cell_type": "markdown",
   "metadata": {},
   "source": [
    "**Adicionando um único valor de raiz**"
   ]
  },
  {
   "cell_type": "code",
   "execution_count": 96,
   "metadata": {
    "scrolled": true
   },
   "outputs": [
    {
     "data": {
      "text/html": [
       "<table class=\"data-frame\"><thead><tr><th></th><th>xi</th><th>raiz</th></tr><tr><th></th><th>Float64⍰</th><th>Float64⍰</th></tr></thead><tbody><tr><th>1</th><td>0.0</td><td>0.0</td></tr><tr><th>2</th><td>2.0</td><td>0.0</td></tr><tr><th>3</th><td>6.0</td><td>6.11902</td></tr><tr><th>4</th><td>9.0</td><td>9.5299</td></tr><tr><th>5</th><td>13.0</td><td>12.4862</td></tr></tbody></table>"
      ],
      "text/latex": [
       "\\begin{tabular}{r|cc}\n",
       "\t& xi & raiz\\\\\n",
       "\t\\hline\n",
       "\t1 & 0.0 & 0.0 \\\\\n",
       "\t2 & 2.0 & 0.0 \\\\\n",
       "\t3 & 6.0 & 6.11902 \\\\\n",
       "\t4 & 9.0 & 9.5299 \\\\\n",
       "\t5 & 13.0 & 12.4862 \\\\\n",
       "\\end{tabular}\n"
      ],
      "text/plain": [
       "5×2 DataFrame\n",
       "│ Row │ xi       │ raiz     │\n",
       "│     │ \u001b[90mFloat64⍰\u001b[39m │ \u001b[90mFloat64⍰\u001b[39m │\n",
       "├─────┼──────────┼──────────┤\n",
       "│ 1   │ 0.0      │ 0.0      │\n",
       "│ 2   │ 2.0      │ 0.0      │\n",
       "│ 3   │ 6.0      │ 6.11902  │\n",
       "│ 4   │ 9.0      │ 9.5299   │\n",
       "│ 5   │ 13.0     │ 12.4862  │"
      ]
     },
     "execution_count": 96,
     "metadata": {},
     "output_type": "execute_result"
    }
   ],
   "source": [
    "Resultado2 = CSV.read(\"Resultado2.csv\")"
   ]
  },
  {
   "cell_type": "code",
   "execution_count": 97,
   "metadata": {},
   "outputs": [
    {
     "data": {
      "text/html": [
       "<table class=\"data-frame\"><thead><tr><th></th><th>xi</th><th>raiz</th></tr><tr><th></th><th>Float64⍰</th><th>Float64⍰</th></tr></thead><tbody><tr><th>1</th><td>0.0</td><td>0.0</td></tr><tr><th>2</th><td>2.0</td><td>0.0</td></tr><tr><th>3</th><td>6.0</td><td>6.11902</td></tr><tr><th>4</th><td>9.0</td><td>9.5299</td></tr><tr><th>5</th><td>13.0</td><td>12.4862</td></tr><tr><th>6</th><td>60.0</td><td>59.707</td></tr></tbody></table>"
      ],
      "text/latex": [
       "\\begin{tabular}{r|cc}\n",
       "\t& xi & raiz\\\\\n",
       "\t\\hline\n",
       "\t1 & 0.0 & 0.0 \\\\\n",
       "\t2 & 2.0 & 0.0 \\\\\n",
       "\t3 & 6.0 & 6.11902 \\\\\n",
       "\t4 & 9.0 & 9.5299 \\\\\n",
       "\t5 & 13.0 & 12.4862 \\\\\n",
       "\t6 & 60.0 & 59.707 \\\\\n",
       "\\end{tabular}\n"
      ],
      "text/plain": [
       "6×2 DataFrame\n",
       "│ Row │ xi       │ raiz     │\n",
       "│     │ \u001b[90mFloat64⍰\u001b[39m │ \u001b[90mFloat64⍰\u001b[39m │\n",
       "├─────┼──────────┼──────────┤\n",
       "│ 1   │ 0.0      │ 0.0      │\n",
       "│ 2   │ 2.0      │ 0.0      │\n",
       "│ 3   │ 6.0      │ 6.11902  │\n",
       "│ 4   │ 9.0      │ 9.5299   │\n",
       "│ 5   │ 13.0     │ 12.4862  │\n",
       "│ 6   │ 60.0     │ 59.707   │"
      ]
     },
     "execution_count": 97,
     "metadata": {},
     "output_type": "execute_result"
    }
   ],
   "source": [
    "vcat(Resultado2, DataFrame(xi = 60, raiz = float(nsolve(f(x), 60))))"
   ]
  },
  {
   "cell_type": "markdown",
   "metadata": {},
   "source": [
    "**Adicionando vários valores de raizes**"
   ]
  },
  {
   "cell_type": "code",
   "execution_count": 98,
   "metadata": {},
   "outputs": [
    {
     "data": {
      "text/plain": [
       "4-element Array{Float64,1}:\n",
       "  62.81593287133609 \n",
       "  69.10056621235024 \n",
       "  75.38495805125963 \n",
       " -15.771411695083252"
      ]
     },
     "execution_count": 98,
     "metadata": {},
     "output_type": "execute_result"
    }
   ],
   "source": [
    "# vetor de raízes aproximadas e vetor de raizes calculadas pelo SymPy\n",
    "novos_xi = [62.0, 70.0, 75.0, 80.0] \n",
    "\n",
    "novas_raizes = float([nsolve(f(x), raiz) for raiz = novos_xi])"
   ]
  },
  {
   "cell_type": "code",
   "execution_count": 99,
   "metadata": {},
   "outputs": [
    {
     "data": {
      "text/html": [
       "<table class=\"data-frame\"><thead><tr><th></th><th>xi</th><th>raiz</th></tr><tr><th></th><th>Float64⍰</th><th>Float64⍰</th></tr></thead><tbody><tr><th>1</th><td>0.0</td><td>0.0</td></tr><tr><th>2</th><td>2.0</td><td>0.0</td></tr><tr><th>3</th><td>6.0</td><td>6.11902</td></tr><tr><th>4</th><td>9.0</td><td>9.5299</td></tr><tr><th>5</th><td>13.0</td><td>12.4862</td></tr><tr><th>6</th><td>62.0</td><td>62.8159</td></tr><tr><th>7</th><td>70.0</td><td>69.1006</td></tr><tr><th>8</th><td>75.0</td><td>75.385</td></tr><tr><th>9</th><td>80.0</td><td>-15.7714</td></tr></tbody></table>"
      ],
      "text/latex": [
       "\\begin{tabular}{r|cc}\n",
       "\t& xi & raiz\\\\\n",
       "\t\\hline\n",
       "\t1 & 0.0 & 0.0 \\\\\n",
       "\t2 & 2.0 & 0.0 \\\\\n",
       "\t3 & 6.0 & 6.11902 \\\\\n",
       "\t4 & 9.0 & 9.5299 \\\\\n",
       "\t5 & 13.0 & 12.4862 \\\\\n",
       "\t6 & 62.0 & 62.8159 \\\\\n",
       "\t7 & 70.0 & 69.1006 \\\\\n",
       "\t8 & 75.0 & 75.385 \\\\\n",
       "\t9 & 80.0 & -15.7714 \\\\\n",
       "\\end{tabular}\n"
      ],
      "text/plain": [
       "9×2 DataFrame\n",
       "│ Row │ xi       │ raiz     │\n",
       "│     │ \u001b[90mFloat64⍰\u001b[39m │ \u001b[90mFloat64⍰\u001b[39m │\n",
       "├─────┼──────────┼──────────┤\n",
       "│ 1   │ 0.0      │ 0.0      │\n",
       "│ 2   │ 2.0      │ 0.0      │\n",
       "│ 3   │ 6.0      │ 6.11902  │\n",
       "│ 4   │ 9.0      │ 9.5299   │\n",
       "│ 5   │ 13.0     │ 12.4862  │\n",
       "│ 6   │ 62.0     │ 62.8159  │\n",
       "│ 7   │ 70.0     │ 69.1006  │\n",
       "│ 8   │ 75.0     │ 75.385   │\n",
       "│ 9   │ 80.0     │ -15.7714 │"
      ]
     },
     "execution_count": 99,
     "metadata": {},
     "output_type": "execute_result"
    }
   ],
   "source": [
    "Resultado2 = vcat(Resultado2, DataFrame(xi = novos_xi, raiz = novas_raizes))"
   ]
  },
  {
   "cell_type": "markdown",
   "metadata": {
    "collapsed": true
   },
   "source": [
    "## QUERY\n",
    "\n",
    "Query é um pacote para consultar as fontes de dados. O pacote permite filtrar, projetar, unir e agrupar dados de qualquer fonte de dados iterável. Possui suporte aprimorado para consulta de arrays, DataFrames, TypedTables, IndexedTables e qualquer fonte DataStream (CSV, SQLite etc.)."
   ]
  },
  {
   "cell_type": "code",
   "execution_count": 102,
   "metadata": {},
   "outputs": [
    {
     "name": "stdout",
     "output_type": "stream",
     "text": [
      "\u001b[32m\u001b[1m Resolving\u001b[22m\u001b[39m package versions...\n",
      "\u001b[32m\u001b[1m  Updating\u001b[22m\u001b[39m `~/.julia/environments/v1.0/Project.toml`\n",
      "\u001b[90m [no changes]\u001b[39m\n",
      "\u001b[32m\u001b[1m  Updating\u001b[22m\u001b[39m `~/.julia/environments/v1.0/Manifest.toml`\n",
      "\u001b[90m [no changes]\u001b[39m\n"
     ]
    }
   ],
   "source": [
    "using Pkg\n",
    "Pkg.add(\"Query\")\n",
    "using Query, DataFrames"
   ]
  },
  {
   "cell_type": "code",
   "execution_count": 103,
   "metadata": {
    "scrolled": true
   },
   "outputs": [
    {
     "data": {
      "text/html": [
       "<table class=\"data-frame\"><thead><tr><th></th><th>Nome</th><th>Ano</th><th>Site</th></tr><tr><th></th><th>String⍰</th><th>Int64⍰</th><th>String⍰</th></tr></thead><tbody><tr><th>1</th><td>maXIma</td><td>1980</td><td>maxima.org</td></tr><tr><th>2</th><td>Octave</td><td>2000</td><td>gnu.org/octave</td></tr><tr><th>3</th><td>SageMath</td><td>2005</td><td>sagemath.org</td></tr><tr><th>4</th><td>Julia</td><td>2012</td><td>julialang.org</td></tr></tbody></table>"
      ],
      "text/latex": [
       "\\begin{tabular}{r|ccc}\n",
       "\t& Nome & Ano & Site\\\\\n",
       "\t\\hline\n",
       "\t1 & maXIma & 1980 & maxima.org \\\\\n",
       "\t2 & Octave & 2000 & gnu.org/octave \\\\\n",
       "\t3 & SageMath & 2005 & sagemath.org \\\\\n",
       "\t4 & Julia & 2012 & julialang.org \\\\\n",
       "\\end{tabular}\n"
      ],
      "text/plain": [
       "4×3 DataFrame\n",
       "│ Row │ Nome     │ Ano    │ Site           │\n",
       "│     │ \u001b[90mString⍰\u001b[39m  │ \u001b[90mInt64⍰\u001b[39m │ \u001b[90mString⍰\u001b[39m        │\n",
       "├─────┼──────────┼────────┼────────────────┤\n",
       "│ 1   │ maXIma   │ 1980   │ maxima.org     │\n",
       "│ 2   │ Octave   │ 2000   │ gnu.org/octave │\n",
       "│ 3   │ SageMath │ 2005   │ sagemath.org   │\n",
       "│ 4   │ Julia    │ 2012   │ julialang.org  │"
      ]
     },
     "execution_count": 103,
     "metadata": {},
     "output_type": "execute_result"
    }
   ],
   "source": [
    "# copiar Dataframe gravado em arquivo\n",
    "Softwares1 = CSV.read(\"Softwares.csv\")"
   ]
  },
  {
   "cell_type": "code",
   "execution_count": null,
   "metadata": {
    "collapsed": true
   },
   "outputs": [],
   "source": []
  },
  {
   "cell_type": "code",
   "execution_count": 104,
   "metadata": {},
   "outputs": [
    {
     "ename": "LoadError",
     "evalue": "UndefVarError: @from not defined",
     "output_type": "error",
     "traceback": [
      "UndefVarError: @from not defined",
      ""
     ]
    }
   ],
   "source": [
    "x = CSV.@from i in Softwares1 begin\n",
    "    CSV.@where i.Ano_de_lancamento > 2000 \n",
    "    CSV.@select {i.Nome_do_software, i.Ano_de_lancamento, i.Site}\n",
    "    CSV.@collect DataFrame\n",
    "end"
   ]
  },
  {
   "cell_type": "code",
   "execution_count": 92,
   "metadata": {
    "scrolled": true
   },
   "outputs": [
    {
     "ename": "LoadError",
     "evalue": "\u001b[91mUndefVarError: @from not defined\u001b[39m",
     "output_type": "error",
     "traceback": [
      "\u001b[91mUndefVarError: @from not defined\u001b[39m",
      "",
      "Stacktrace:",
      " [1] \u001b[1minclude_string\u001b[22m\u001b[22m\u001b[1m(\u001b[22m\u001b[22m::String, ::String\u001b[1m)\u001b[22m\u001b[22m at \u001b[1m./loading.jl:515\u001b[22m\u001b[22m"
     ]
    }
   ],
   "source": [
    "x = @from i in Softwares1 begin\n",
    "    @where i.Ano_de_lancamento > 2000 && i.Ano_de_lancamento < 2010\n",
    "    @select {i.Nome_do_software, i.Ano_de_lancamento, i.Site}\n",
    "    @collect DataFrame\n",
    "end"
   ]
  },
  {
   "cell_type": "code",
   "execution_count": 19,
   "metadata": {},
   "outputs": [
    {
     "name": "stdout",
     "output_type": "stream",
     "text": [
      "\u001b[32m\u001b[1m  Updating\u001b[22m\u001b[39m registry at `~/.julia/registries/General`\n",
      "\u001b[32m\u001b[1m  Updating\u001b[22m\u001b[39m git-repo `https://github.com/JuliaRegistries/General.git`\n",
      "\u001b[2K\u001b[?25h[1mFetching:\u001b[22m\u001b[39m [========================================>]  100.0 %.0 %\u001b[36m\u001b[1mFetching:\u001b[22m\u001b[39m [=======>                                 ]  16.6 %>                        ]  38.0 % [========================>                ]  59.5 %       ]  82.0 %\u001b[32m\u001b[1m Resolving\u001b[22m\u001b[39m package versions...\n"
     ]
    },
    {
     "ename": "Pkg.Types.ResolverError",
     "evalue": "Unsatisfiable requirements detected for package JLD [4138dd39]:\n JLD [4138dd39] log:\n ├─possible versions are: [0.5.0-0.5.9, 0.6.0-0.6.11, 0.8.0-0.8.3] or uninstalled\n ├─restricted to versions * by an explicit requirement, leaving only versions [0.5.0-0.5.9, 0.6.0-0.6.11, 0.8.0-0.8.3]\n └─restricted by julia compatibility requirements to versions: uninstalled — no versions left",
     "output_type": "error",
     "traceback": [
      "Unsatisfiable requirements detected for package JLD [4138dd39]:\n JLD [4138dd39] log:\n ├─possible versions are: [0.5.0-0.5.9, 0.6.0-0.6.11, 0.8.0-0.8.3] or uninstalled\n ├─restricted to versions * by an explicit requirement, leaving only versions [0.5.0-0.5.9, 0.6.0-0.6.11, 0.8.0-0.8.3]\n └─restricted by julia compatibility requirements to versions: uninstalled — no versions left",
      "",
      "Stacktrace:",
      " [1] #propagate_constraints!#61(::Bool, ::Function, ::Pkg.GraphType.Graph, ::Set{Int64}) at /buildworker/worker/package_linux64/build/usr/share/julia/stdlib/v1.0/Pkg/src/GraphType.jl:1005",
      " [2] propagate_constraints! at /buildworker/worker/package_linux64/build/usr/share/julia/stdlib/v1.0/Pkg/src/GraphType.jl:946 [inlined]",
      " [3] #simplify_graph!#121(::Bool, ::Function, ::Pkg.GraphType.Graph, ::Set{Int64}) at /buildworker/worker/package_linux64/build/usr/share/julia/stdlib/v1.0/Pkg/src/GraphType.jl:1460",
      " [4] simplify_graph! at /buildworker/worker/package_linux64/build/usr/share/julia/stdlib/v1.0/Pkg/src/GraphType.jl:1460 [inlined] (repeats 2 times)",
      " [5] macro expansion at ./logging.jl:311 [inlined]",
      " [6] resolve_versions!(::Pkg.Types.Context, ::Array{Pkg.Types.PackageSpec,1}) at /buildworker/worker/package_linux64/build/usr/share/julia/stdlib/v1.0/Pkg/src/Operations.jl:339",
      " [7] #add_or_develop#58(::Array{Base.UUID,1}, ::Function, ::Pkg.Types.Context, ::Array{Pkg.Types.PackageSpec,1}) at /buildworker/worker/package_linux64/build/usr/share/julia/stdlib/v1.0/Pkg/src/Operations.jl:1163",
      " [8] #add_or_develop at ./none:0 [inlined]",
      " [9] #add_or_develop#13(::Symbol, ::Bool, ::Base.Iterators.Pairs{Union{},Union{},Tuple{},NamedTuple{(),Tuple{}}}, ::Function, ::Pkg.Types.Context, ::Array{Pkg.Types.PackageSpec,1}) at /buildworker/worker/package_linux64/build/usr/share/julia/stdlib/v1.0/Pkg/src/API.jl:64",
      " [10] #add_or_develop at ./none:0 [inlined]",
      " [11] #add_or_develop#12 at /buildworker/worker/package_linux64/build/usr/share/julia/stdlib/v1.0/Pkg/src/API.jl:29 [inlined]",
      " [12] #add_or_develop at ./none:0 [inlined]",
      " [13] #add_or_develop#11(::Base.Iterators.Pairs{Symbol,Symbol,Tuple{Symbol},NamedTuple{(:mode,),Tuple{Symbol}}}, ::Function, ::Array{String,1}) at /buildworker/worker/package_linux64/build/usr/share/julia/stdlib/v1.0/Pkg/src/API.jl:28",
      " [14] #add_or_develop at ./none:0 [inlined]",
      " [15] #add_or_develop#10 at /buildworker/worker/package_linux64/build/usr/share/julia/stdlib/v1.0/Pkg/src/API.jl:27 [inlined]",
      " [16] #add_or_develop at ./none:0 [inlined]",
      " [17] #add#18 at /buildworker/worker/package_linux64/build/usr/share/julia/stdlib/v1.0/Pkg/src/API.jl:69 [inlined]",
      " [18] add(::String) at /buildworker/worker/package_linux64/build/usr/share/julia/stdlib/v1.0/Pkg/src/API.jl:69",
      " [19] top-level scope at In[19]:2"
     ]
    }
   ],
   "source": [
    "using Pkg\n",
    "Pkg.add(\"DataFramesMeta\")"
   ]
  },
  {
   "cell_type": "code",
   "execution_count": 10,
   "metadata": {},
   "outputs": [
    {
     "ename": "UndefVarError",
     "evalue": "UndefVarError: Pkg not defined",
     "output_type": "error",
     "traceback": [
      "UndefVarError: Pkg not defined",
      "",
      "Stacktrace:",
      " [1] top-level scope at In[10]:1"
     ]
    }
   ],
   "source": [
    "Pkg.add(\"DataFramesMeta\")"
   ]
  },
  {
   "cell_type": "code",
   "execution_count": 94,
   "metadata": {
    "scrolled": true
   },
   "outputs": [
    {
     "ename": "LoadError",
     "evalue": "\u001b[91mArgumentError: Module DataFramesMeta not found in current path.\nRun `Pkg.add(\"DataFramesMeta\")` to install the DataFramesMeta package.\u001b[39m",
     "output_type": "error",
     "traceback": [
      "\u001b[91mArgumentError: Module DataFramesMeta not found in current path.\nRun `Pkg.add(\"DataFramesMeta\")` to install the DataFramesMeta package.\u001b[39m",
      "",
      "Stacktrace:",
      " [1] \u001b[1m_require\u001b[22m\u001b[22m\u001b[1m(\u001b[22m\u001b[22m::Symbol\u001b[1m)\u001b[22m\u001b[22m at \u001b[1m./loading.jl:428\u001b[22m\u001b[22m",
      " [2] \u001b[1mrequire\u001b[22m\u001b[22m\u001b[1m(\u001b[22m\u001b[22m::Symbol\u001b[1m)\u001b[22m\u001b[22m at \u001b[1m./loading.jl:398\u001b[22m\u001b[22m",
      " [3] \u001b[1minclude_string\u001b[22m\u001b[22m\u001b[1m(\u001b[22m\u001b[22m::String, ::String\u001b[1m)\u001b[22m\u001b[22m at \u001b[1m./loading.jl:515\u001b[22m\u001b[22m"
     ]
    }
   ],
   "source": [
    "using DataFrames \n",
    "using DataArrays\n",
    "using DataFramesMeta"
   ]
  },
  {
   "cell_type": "code",
   "execution_count": 15,
   "metadata": {},
   "outputs": [
    {
     "data": {
      "text/html": [
       "<table class=\"data-frame\"><thead><tr><th></th><th>a</th><th>b</th></tr></thead><tbody><tr><th>1</th><td>1</td><td>4</td></tr><tr><th>2</th><td>2</td><td>5</td></tr><tr><th>3</th><td>3</td><td>6</td></tr></tbody></table>"
      ],
      "text/plain": [
       "3×2 DataFrame\n",
       "│ Row │ a │ b │\n",
       "├─────┼───┼───┤\n",
       "│ 1   │ 1 │ 4 │\n",
       "│ 2   │ 2 │ 5 │\n",
       "│ 3   │ 3 │ 6 │"
      ]
     },
     "execution_count": 15,
     "metadata": {},
     "output_type": "execute_result"
    }
   ],
   "source": [
    "df = DataFrame(a = [1,2,3], b = [4,5,6])"
   ]
  },
  {
   "cell_type": "code",
   "execution_count": 16,
   "metadata": {},
   "outputs": [
    {
     "ename": "LoadError",
     "evalue": "UndefVarError: @where not defined",
     "output_type": "error",
     "traceback": [
      "UndefVarError: @where not defined",
      ""
     ]
    }
   ],
   "source": [
    "@where(df, :a .> 2)"
   ]
  },
  {
   "cell_type": "code",
   "execution_count": 17,
   "metadata": {},
   "outputs": [
    {
     "ename": "LoadError",
     "evalue": "UndefVarError: @with not defined",
     "output_type": "error",
     "traceback": [
      "UndefVarError: @with not defined",
      ""
     ]
    }
   ],
   "source": [
    "@with(df, df[:a .> 1, ^(:b)])"
   ]
  },
  {
   "cell_type": "code",
   "execution_count": 98,
   "metadata": {},
   "outputs": [
    {
     "ename": "LoadError",
     "evalue": "\u001b[91mUndefVarError: @with not defined\u001b[39m",
     "output_type": "error",
     "traceback": [
      "\u001b[91mUndefVarError: @with not defined\u001b[39m",
      "",
      "Stacktrace:",
      " [1] \u001b[1minclude_string\u001b[22m\u001b[22m\u001b[1m(\u001b[22m\u001b[22m::String, ::String\u001b[1m)\u001b[22m\u001b[22m at \u001b[1m./loading.jl:515\u001b[22m\u001b[22m"
     ]
    }
   ],
   "source": [
    "@with(df, :a + _I_(:b) )"
   ]
  },
  {
   "cell_type": "code",
   "execution_count": 99,
   "metadata": {},
   "outputs": [
    {
     "ename": "LoadError",
     "evalue": "\u001b[91mUndefVarError: @where not defined\u001b[39m",
     "output_type": "error",
     "traceback": [
      "\u001b[91mUndefVarError: @where not defined\u001b[39m",
      "",
      "Stacktrace:",
      " [1] \u001b[1minclude_string\u001b[22m\u001b[22m\u001b[1m(\u001b[22m\u001b[22m::String, ::String\u001b[1m)\u001b[22m\u001b[22m at \u001b[1m./loading.jl:515\u001b[22m\u001b[22m"
     ]
    }
   ],
   "source": [
    "@where(df, :a .> 2)"
   ]
  },
  {
   "cell_type": "markdown",
   "metadata": {
    "collapsed": true
   },
   "source": [
    "## REFERENCIAS\n",
    "\n",
    "JOSHI, A. . **Julia for Data Science**. 1. ed. Birmingham-UK: Packt Publishing Ltd, 2016, ISBN 978-1-78528-969-9  "
   ]
  },
  {
   "cell_type": "code",
   "execution_count": null,
   "metadata": {
    "collapsed": true
   },
   "outputs": [],
   "source": []
  }
 ],
 "metadata": {
  "@webio": {
   "lastCommId": "D4A1CA4DDA244D578650A3FBB38C320C",
   "lastKernelId": "1294ddea-6082-4e07-b493-82982c2393d3"
  },
  "anaconda-cloud": {},
  "kernelspec": {
   "display_name": "Julia 1.0.2",
   "language": "julia",
   "name": "julia-1.0"
  },
  "language_info": {
   "file_extension": ".jl",
   "mimetype": "application/julia",
   "name": "julia",
   "version": "1.0.2"
  },
  "latex_envs": {
   "LaTeX_envs_menu_present": true,
   "autocomplete": true,
   "bibliofile": "biblio.bib",
   "cite_by": "apalike",
   "current_citInitial": 1,
   "eqLabelWithNumbers": true,
   "eqNumInitial": 1,
   "hotkeys": {
    "equation": "Ctrl-E",
    "itemize": "Ctrl-I"
   },
   "labels_anchors": false,
   "latex_user_defs": false,
   "report_style_numbering": false,
   "user_envs_cfg": false
  }
 },
 "nbformat": 4,
 "nbformat_minor": 1
}
