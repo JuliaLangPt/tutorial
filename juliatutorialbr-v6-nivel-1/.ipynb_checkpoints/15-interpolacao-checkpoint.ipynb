{
 "cells": [
  {
   "cell_type": "markdown",
   "metadata": {},
   "source": [
    "# Interpolação\n",
    "\n",
    "Dado um conjunto de pontos $(x_i,y_i), i = 1,\\dots,m$, nos interessa agora encontrar uma função $f$ tal que $f(x_i) = y_i$."
   ]
  },
  {
   "cell_type": "markdown",
   "metadata": {},
   "source": [
    "É importante notar a diferença desse tipo de problema com o problema de quadrados mínimos.\n",
    "No segundo, dado um modelo de funções, qual delas melhor representa esse conjunto de dados. Na outra, buscamos alguma função que passa exatamente em todos esses pontos.\n",
    "\n",
    "Embora bastante parecidos, em quadrados mínimos é esperado que os dados tenham algum erro de medida, ou que sejam em enorme quantidade, invalidando a busca por pontos que passam exatamente por cima do conjunto. Em interpolação, os pontos são todos considerados importantes, e por isso queremos passar em todos."
   ]
  },
  {
   "cell_type": "markdown",
   "metadata": {},
   "source": [
    "Um exemplo muito comum é o de aproximações de uma função num intervalo $[a,b]$ dado.\n",
    "Por exemplo, uma função muito complicada pode ser simplificada nesse intervalo usando funções mais simples. Os motivos para querer isso poder ser variados, e como escolher os pontos nesse intervalo também, mas a questão é que isso leva a um conjunto de dados para interpolação."
   ]
  },
  {
   "cell_type": "markdown",
   "metadata": {},
   "source": [
    "A primeira coisa que percebemos é que para passar em todos os pontos, devemos ter $x_i \\neq x_j$ para todo $i \\neq j$. Então a partir de agora, esta será uma hipótese.\n",
    "\n",
    "A segunda coisa que percebemos é que, se usarmos uma função do tipo\n",
    "$f(x) = \\alpha_1\\phi_1(x) + \\dots + \\alpha_n\\phi_n(x)$ para passar em todos os pontos, precisaremos de $m$ funções, num caso geral. Isso quer dizer que o problema pode complicar bastante para uma quantidade muito grande de pontos. Dependendo dos pontos $x_i$ isso pode não ser um problema. Alternativamente, podemos usar outros métodos de interpolação para gerar uma função passando nos pontos dados mas que não seja um modelo como o dado acima."
   ]
  },
  {
   "cell_type": "markdown",
   "metadata": {},
   "source": [
    "## Interpolação polinomial"
   ]
  },
  {
   "cell_type": "markdown",
   "metadata": {},
   "source": [
    "O primeiro modelo de interpolação é o de interpolação polinomial.\n",
    "Dado um conjunto de dados $(x_i,y_i), i = 1,\\dots,m$, valor interpolar estes pontos usando\n",
    "um polinômio $f(x) = a_0 + a_1x + a_2x^2 + \\dots + a_{m-1}x^{m-1}$."
   ]
  },
  {
   "cell_type": "markdown",
   "metadata": {},
   "source": [
    "A maneira mais simples de tentar resolver este problema é através do sistema linear gerado pelas igualdades $f(x_i) = y_i, i = 1,\\dots,m$."
   ]
  },
  {
   "cell_type": "code",
   "execution_count": 3,
   "metadata": {
    "collapsed": false
   },
   "outputs": [
    {
     "name": "stderr",
     "output_type": "stream",
     "text": [
      "\u001b[1m\u001b[33mWARNING: \u001b[39m\u001b[22m\u001b[33mexp(x::AbstractArray{T}) where T <: Number is deprecated, use exp.(x) instead.\u001b[39m\n",
      "Stacktrace:\n",
      " [1] \u001b[1mdepwarn\u001b[22m\u001b[22m\u001b[1m(\u001b[22m\u001b[22m::String, ::Symbol\u001b[1m)\u001b[22m\u001b[22m at \u001b[1m./deprecated.jl:70\u001b[22m\u001b[22m\n",
      " [2] \u001b[1mexp\u001b[22m\u001b[22m\u001b[1m(\u001b[22m\u001b[22m::Array{Float64,1}\u001b[1m)\u001b[22m\u001b[22m at \u001b[1m./deprecated.jl:57\u001b[22m\u001b[22m\n",
      " [3] \u001b[1minclude_string\u001b[22m\u001b[22m\u001b[1m(\u001b[22m\u001b[22m::String, ::String\u001b[1m)\u001b[22m\u001b[22m at \u001b[1m./loading.jl:522\u001b[22m\u001b[22m\n",
      " [4] \u001b[1mexecute_request\u001b[22m\u001b[22m\u001b[1m(\u001b[22m\u001b[22m::ZMQ.Socket, ::IJulia.Msg\u001b[1m)\u001b[22m\u001b[22m at \u001b[1m/home/jmarcellopereira/.julia/v0.6/IJulia/src/execute_request.jl:158\u001b[22m\u001b[22m\n",
      " [5] \u001b[1m(::Compat.#inner#18{Array{Any,1},IJulia.#execute_request,Tuple{ZMQ.Socket,IJulia.Msg}})\u001b[22m\u001b[22m\u001b[1m(\u001b[22m\u001b[22m\u001b[1m)\u001b[22m\u001b[22m at \u001b[1m/home/jmarcellopereira/.julia/v0.6/Compat/src/Compat.jl:378\u001b[22m\u001b[22m\n",
      " [6] \u001b[1meventloop\u001b[22m\u001b[22m\u001b[1m(\u001b[22m\u001b[22m::ZMQ.Socket\u001b[1m)\u001b[22m\u001b[22m at \u001b[1m/home/jmarcellopereira/.julia/v0.6/IJulia/src/eventloop.jl:8\u001b[22m\u001b[22m\n",
      " [7] \u001b[1m(::IJulia.##14#17)\u001b[22m\u001b[22m\u001b[1m(\u001b[22m\u001b[22m\u001b[1m)\u001b[22m\u001b[22m at \u001b[1m./task.jl:335\u001b[22m\u001b[22m\n",
      "while loading In[3], in expression starting on line 2\n"
     ]
    },
    {
     "data": {
      "text/plain": [
       "6×6 Array{Float64,2}:\n",
       " 1.0  0.0  0.0   0.0    0.0     0.0    \n",
       " 1.0  0.2  0.04  0.008  0.0016  0.00032\n",
       " 1.0  0.4  0.16  0.064  0.0256  0.01024\n",
       " 1.0  0.6  0.36  0.216  0.1296  0.07776\n",
       " 1.0  0.8  0.64  0.512  0.4096  0.32768\n",
       " 1.0  1.0  1.0   1.0    1.0     1.0    "
      ]
     },
     "execution_count": 3,
     "metadata": {},
     "output_type": "execute_result"
    }
   ],
   "source": [
    "x = collect(0:5)/5\n",
    "y = exp(x)\n",
    "m = length(x)\n",
    "A = Float64[x[i]^j for i = 1:m, j = 0:m-1]"
   ]
  },
  {
   "cell_type": "code",
   "execution_count": 4,
   "metadata": {
    "collapsed": false
   },
   "outputs": [
    {
     "data": {
      "text/plain": [
       "6-element Array{Float64,1}:\n",
       " 1.0      \n",
       " 1.00008  \n",
       " 0.499069 \n",
       " 0.17041  \n",
       " 0.0348664\n",
       " 0.0138543"
      ]
     },
     "execution_count": 4,
     "metadata": {},
     "output_type": "execute_result"
    }
   ],
   "source": [
    "a = A\\y"
   ]
  },
  {
   "cell_type": "code",
   "execution_count": 5,
   "metadata": {
    "collapsed": false
   },
   "outputs": [
    {
     "data": {
      "text/plain": [
       "Plots.GRBackend()"
      ]
     },
     "execution_count": 5,
     "metadata": {},
     "output_type": "execute_result"
    }
   ],
   "source": [
    "using Plots\n",
    "gr()"
   ]
  },
  {
   "cell_type": "code",
   "execution_count": 9,
   "metadata": {
    "collapsed": false
   },
   "outputs": [
    {
     "data": {
      "image/svg+xml": [
       "<?xml version=\"1.0\" encoding=\"utf-8\"?>\n",
       "<svg xmlns=\"http://www.w3.org/2000/svg\" xmlns:xlink=\"http://www.w3.org/1999/xlink\" width=\"600\" height=\"400\" viewBox=\"0 0 600 400\">\n",
       "<defs>\n",
       "  <clipPath id=\"clip9200\">\n",
       "    <rect x=\"0\" y=\"0\" width=\"600\" height=\"400\"/>\n",
       "  </clipPath>\n",
       "</defs>\n",
       "<polygon clip-path=\"url(#clip9200)\" points=\"\n",
       "0,400 600,400 600,0 0,0 \n",
       "  \" fill=\"#ffffff\" fill-opacity=\"1\"/>\n",
       "<defs>\n",
       "  <clipPath id=\"clip9201\">\n",
       "    <rect x=\"120\" y=\"0\" width=\"421\" height=\"400\"/>\n",
       "  </clipPath>\n",
       "</defs>\n",
       "<polygon clip-path=\"url(#clip9200)\" points=\"\n",
       "32.2221,375.813 580.315,375.813 580.315,11.811 32.2221,11.811 \n",
       "  \" fill=\"#ffffff\" fill-opacity=\"1\"/>\n",
       "<defs>\n",
       "  <clipPath id=\"clip9202\">\n",
       "    <rect x=\"32\" y=\"11\" width=\"549\" height=\"365\"/>\n",
       "  </clipPath>\n",
       "</defs>\n",
       "<polyline clip-path=\"url(#clip9202)\" style=\"stroke:#000000; stroke-width:0.5; stroke-opacity:0.1; fill:none\" points=\"\n",
       "  47.7342,375.813 47.7342,11.811 \n",
       "  \"/>\n",
       "<polyline clip-path=\"url(#clip9202)\" style=\"stroke:#000000; stroke-width:0.5; stroke-opacity:0.1; fill:none\" points=\"\n",
       "  177.001,375.813 177.001,11.811 \n",
       "  \"/>\n",
       "<polyline clip-path=\"url(#clip9202)\" style=\"stroke:#000000; stroke-width:0.5; stroke-opacity:0.1; fill:none\" points=\"\n",
       "  306.269,375.813 306.269,11.811 \n",
       "  \"/>\n",
       "<polyline clip-path=\"url(#clip9202)\" style=\"stroke:#000000; stroke-width:0.5; stroke-opacity:0.1; fill:none\" points=\"\n",
       "  435.536,375.813 435.536,11.811 \n",
       "  \"/>\n",
       "<polyline clip-path=\"url(#clip9202)\" style=\"stroke:#000000; stroke-width:0.5; stroke-opacity:0.1; fill:none\" points=\"\n",
       "  564.803,375.813 564.803,11.811 \n",
       "  \"/>\n",
       "<polyline clip-path=\"url(#clip9202)\" style=\"stroke:#000000; stroke-width:0.5; stroke-opacity:0.1; fill:none\" points=\"\n",
       "  32.2221,365.511 580.315,365.511 \n",
       "  \"/>\n",
       "<polyline clip-path=\"url(#clip9202)\" style=\"stroke:#000000; stroke-width:0.5; stroke-opacity:0.1; fill:none\" points=\"\n",
       "  32.2221,265.587 580.315,265.587 \n",
       "  \"/>\n",
       "<polyline clip-path=\"url(#clip9202)\" style=\"stroke:#000000; stroke-width:0.5; stroke-opacity:0.1; fill:none\" points=\"\n",
       "  32.2221,165.662 580.315,165.662 \n",
       "  \"/>\n",
       "<polyline clip-path=\"url(#clip9202)\" style=\"stroke:#000000; stroke-width:0.5; stroke-opacity:0.1; fill:none\" points=\"\n",
       "  32.2221,65.7366 580.315,65.7366 \n",
       "  \"/>\n",
       "<polyline clip-path=\"url(#clip9200)\" style=\"stroke:#000000; stroke-width:1; stroke-opacity:1; fill:none\" points=\"\n",
       "  32.2221,375.813 580.315,375.813 \n",
       "  \"/>\n",
       "<polyline clip-path=\"url(#clip9200)\" style=\"stroke:#000000; stroke-width:1; stroke-opacity:1; fill:none\" points=\"\n",
       "  32.2221,375.813 32.2221,11.811 \n",
       "  \"/>\n",
       "<polyline clip-path=\"url(#clip9200)\" style=\"stroke:#000000; stroke-width:1; stroke-opacity:1; fill:none\" points=\"\n",
       "  47.7342,375.813 47.7342,370.353 \n",
       "  \"/>\n",
       "<polyline clip-path=\"url(#clip9200)\" style=\"stroke:#000000; stroke-width:1; stroke-opacity:1; fill:none\" points=\"\n",
       "  177.001,375.813 177.001,370.353 \n",
       "  \"/>\n",
       "<polyline clip-path=\"url(#clip9200)\" style=\"stroke:#000000; stroke-width:1; stroke-opacity:1; fill:none\" points=\"\n",
       "  306.269,375.813 306.269,370.353 \n",
       "  \"/>\n",
       "<polyline clip-path=\"url(#clip9200)\" style=\"stroke:#000000; stroke-width:1; stroke-opacity:1; fill:none\" points=\"\n",
       "  435.536,375.813 435.536,370.353 \n",
       "  \"/>\n",
       "<polyline clip-path=\"url(#clip9200)\" style=\"stroke:#000000; stroke-width:1; stroke-opacity:1; fill:none\" points=\"\n",
       "  564.803,375.813 564.803,370.353 \n",
       "  \"/>\n",
       "<polyline clip-path=\"url(#clip9200)\" style=\"stroke:#000000; stroke-width:1; stroke-opacity:1; fill:none\" points=\"\n",
       "  32.2221,365.511 40.4435,365.511 \n",
       "  \"/>\n",
       "<polyline clip-path=\"url(#clip9200)\" style=\"stroke:#000000; stroke-width:1; stroke-opacity:1; fill:none\" points=\"\n",
       "  32.2221,265.587 40.4435,265.587 \n",
       "  \"/>\n",
       "<polyline clip-path=\"url(#clip9200)\" style=\"stroke:#000000; stroke-width:1; stroke-opacity:1; fill:none\" points=\"\n",
       "  32.2221,165.662 40.4435,165.662 \n",
       "  \"/>\n",
       "<polyline clip-path=\"url(#clip9200)\" style=\"stroke:#000000; stroke-width:1; stroke-opacity:1; fill:none\" points=\"\n",
       "  32.2221,65.7366 40.4435,65.7366 \n",
       "  \"/>\n",
       "<g clip-path=\"url(#clip9200)\">\n",
       "<text style=\"fill:#000000; fill-opacity:1; font-family:Arial,Helvetica Neue,Helvetica,sans-serif; font-size:12; text-anchor:middle;\" transform=\"rotate(0, 47.7342, 389.613)\" x=\"47.7342\" y=\"389.613\">0.00</text>\n",
       "</g>\n",
       "<g clip-path=\"url(#clip9200)\">\n",
       "<text style=\"fill:#000000; fill-opacity:1; font-family:Arial,Helvetica Neue,Helvetica,sans-serif; font-size:12; text-anchor:middle;\" transform=\"rotate(0, 177.001, 389.613)\" x=\"177.001\" y=\"389.613\">0.25</text>\n",
       "</g>\n",
       "<g clip-path=\"url(#clip9200)\">\n",
       "<text style=\"fill:#000000; fill-opacity:1; font-family:Arial,Helvetica Neue,Helvetica,sans-serif; font-size:12; text-anchor:middle;\" transform=\"rotate(0, 306.269, 389.613)\" x=\"306.269\" y=\"389.613\">0.50</text>\n",
       "</g>\n",
       "<g clip-path=\"url(#clip9200)\">\n",
       "<text style=\"fill:#000000; fill-opacity:1; font-family:Arial,Helvetica Neue,Helvetica,sans-serif; font-size:12; text-anchor:middle;\" transform=\"rotate(0, 435.536, 389.613)\" x=\"435.536\" y=\"389.613\">0.75</text>\n",
       "</g>\n",
       "<g clip-path=\"url(#clip9200)\">\n",
       "<text style=\"fill:#000000; fill-opacity:1; font-family:Arial,Helvetica Neue,Helvetica,sans-serif; font-size:12; text-anchor:middle;\" transform=\"rotate(0, 564.803, 389.613)\" x=\"564.803\" y=\"389.613\">1.00</text>\n",
       "</g>\n",
       "<g clip-path=\"url(#clip9200)\">\n",
       "<text style=\"fill:#000000; fill-opacity:1; font-family:Arial,Helvetica Neue,Helvetica,sans-serif; font-size:12; text-anchor:end;\" transform=\"rotate(0, 26.2221, 370.011)\" x=\"26.2221\" y=\"370.011\">1.0</text>\n",
       "</g>\n",
       "<g clip-path=\"url(#clip9200)\">\n",
       "<text style=\"fill:#000000; fill-opacity:1; font-family:Arial,Helvetica Neue,Helvetica,sans-serif; font-size:12; text-anchor:end;\" transform=\"rotate(0, 26.2221, 270.087)\" x=\"26.2221\" y=\"270.087\">1.5</text>\n",
       "</g>\n",
       "<g clip-path=\"url(#clip9200)\">\n",
       "<text style=\"fill:#000000; fill-opacity:1; font-family:Arial,Helvetica Neue,Helvetica,sans-serif; font-size:12; text-anchor:end;\" transform=\"rotate(0, 26.2221, 170.162)\" x=\"26.2221\" y=\"170.162\">2.0</text>\n",
       "</g>\n",
       "<g clip-path=\"url(#clip9200)\">\n",
       "<text style=\"fill:#000000; fill-opacity:1; font-family:Arial,Helvetica Neue,Helvetica,sans-serif; font-size:12; text-anchor:end;\" transform=\"rotate(0, 26.2221, 70.2366)\" x=\"26.2221\" y=\"70.2366\">2.5</text>\n",
       "</g>\n",
       "<circle clip-path=\"url(#clip9202)\" style=\"fill:#000000; stroke:none; fill-opacity:1\" cx=\"47.7342\" cy=\"365.511\" r=\"5\"/>\n",
       "<circle clip-path=\"url(#clip9202)\" style=\"fill:#009af9; stroke:none; fill-opacity:1\" cx=\"47.7342\" cy=\"365.511\" r=\"4\"/>\n",
       "<circle clip-path=\"url(#clip9202)\" style=\"fill:#000000; stroke:none; fill-opacity:1\" cx=\"151.148\" cy=\"321.264\" r=\"5\"/>\n",
       "<circle clip-path=\"url(#clip9202)\" style=\"fill:#009af9; stroke:none; fill-opacity:1\" cx=\"151.148\" cy=\"321.264\" r=\"4\"/>\n",
       "<circle clip-path=\"url(#clip9202)\" style=\"fill:#000000; stroke:none; fill-opacity:1\" cx=\"254.562\" cy=\"267.22\" r=\"5\"/>\n",
       "<circle clip-path=\"url(#clip9202)\" style=\"fill:#009af9; stroke:none; fill-opacity:1\" cx=\"254.562\" cy=\"267.22\" r=\"4\"/>\n",
       "<circle clip-path=\"url(#clip9202)\" style=\"fill:#000000; stroke:none; fill-opacity:1\" cx=\"357.975\" cy=\"201.211\" r=\"5\"/>\n",
       "<circle clip-path=\"url(#clip9202)\" style=\"fill:#009af9; stroke:none; fill-opacity:1\" cx=\"357.975\" cy=\"201.211\" r=\"4\"/>\n",
       "<circle clip-path=\"url(#clip9202)\" style=\"fill:#000000; stroke:none; fill-opacity:1\" cx=\"461.389\" cy=\"120.587\" r=\"5\"/>\n",
       "<circle clip-path=\"url(#clip9202)\" style=\"fill:#009af9; stroke:none; fill-opacity:1\" cx=\"461.389\" cy=\"120.587\" r=\"4\"/>\n",
       "<circle clip-path=\"url(#clip9202)\" style=\"fill:#000000; stroke:none; fill-opacity:1\" cx=\"564.803\" cy=\"22.113\" r=\"5\"/>\n",
       "<circle clip-path=\"url(#clip9202)\" style=\"fill:#009af9; stroke:none; fill-opacity:1\" cx=\"564.803\" cy=\"22.113\" r=\"4\"/>\n",
       "<polygon clip-path=\"url(#clip9200)\" points=\"\n",
       "489.799,62.931 562.315,62.931 562.315,32.691 489.799,32.691 \n",
       "  \" fill=\"#ffffff\" fill-opacity=\"1\"/>\n",
       "<polyline clip-path=\"url(#clip9200)\" style=\"stroke:#000000; stroke-width:1; stroke-opacity:1; fill:none\" points=\"\n",
       "  489.799,62.931 562.315,62.931 562.315,32.691 489.799,32.691 489.799,62.931 \n",
       "  \"/>\n",
       "<circle clip-path=\"url(#clip9200)\" style=\"fill:#000000; stroke:none; fill-opacity:1\" cx=\"516.799\" cy=\"47.811\" r=\"6\"/>\n",
       "<circle clip-path=\"url(#clip9200)\" style=\"fill:#009af9; stroke:none; fill-opacity:1\" cx=\"516.799\" cy=\"47.811\" r=\"5\"/>\n",
       "<g clip-path=\"url(#clip9200)\">\n",
       "<text style=\"fill:#000000; fill-opacity:1; font-family:Arial,Helvetica Neue,Helvetica,sans-serif; font-size:12; text-anchor:start;\" transform=\"rotate(0, 537.799, 52.311)\" x=\"537.799\" y=\"52.311\">y1</text>\n",
       "</g>\n",
       "</svg>\n"
      ]
     },
     "execution_count": 9,
     "metadata": {},
     "output_type": "execute_result"
    }
   ],
   "source": [
    "scatter(x, y, ms=5)"
   ]
  },
  {
   "cell_type": "code",
   "execution_count": 10,
   "metadata": {
    "collapsed": false
   },
   "outputs": [
    {
     "data": {
      "image/svg+xml": [
       "<?xml version=\"1.0\" encoding=\"utf-8\"?>\n",
       "<svg xmlns=\"http://www.w3.org/2000/svg\" xmlns:xlink=\"http://www.w3.org/1999/xlink\" width=\"600\" height=\"400\" viewBox=\"0 0 600 400\">\n",
       "<defs>\n",
       "  <clipPath id=\"clip9400\">\n",
       "    <rect x=\"0\" y=\"0\" width=\"600\" height=\"400\"/>\n",
       "  </clipPath>\n",
       "</defs>\n",
       "<polygon clip-path=\"url(#clip9400)\" points=\"\n",
       "0,400 600,400 600,0 0,0 \n",
       "  \" fill=\"#ffffff\" fill-opacity=\"1\"/>\n",
       "<defs>\n",
       "  <clipPath id=\"clip9401\">\n",
       "    <rect x=\"120\" y=\"0\" width=\"421\" height=\"400\"/>\n",
       "  </clipPath>\n",
       "</defs>\n",
       "<polygon clip-path=\"url(#clip9400)\" points=\"\n",
       "32.2221,375.813 580.315,375.813 580.315,11.811 32.2221,11.811 \n",
       "  \" fill=\"#ffffff\" fill-opacity=\"1\"/>\n",
       "<defs>\n",
       "  <clipPath id=\"clip9402\">\n",
       "    <rect x=\"32\" y=\"11\" width=\"549\" height=\"365\"/>\n",
       "  </clipPath>\n",
       "</defs>\n",
       "<polyline clip-path=\"url(#clip9402)\" style=\"stroke:#000000; stroke-width:0.5; stroke-opacity:0.1; fill:none\" points=\"\n",
       "  47.7342,375.813 47.7342,11.811 \n",
       "  \"/>\n",
       "<polyline clip-path=\"url(#clip9402)\" style=\"stroke:#000000; stroke-width:0.5; stroke-opacity:0.1; fill:none\" points=\"\n",
       "  177.001,375.813 177.001,11.811 \n",
       "  \"/>\n",
       "<polyline clip-path=\"url(#clip9402)\" style=\"stroke:#000000; stroke-width:0.5; stroke-opacity:0.1; fill:none\" points=\"\n",
       "  306.269,375.813 306.269,11.811 \n",
       "  \"/>\n",
       "<polyline clip-path=\"url(#clip9402)\" style=\"stroke:#000000; stroke-width:0.5; stroke-opacity:0.1; fill:none\" points=\"\n",
       "  435.536,375.813 435.536,11.811 \n",
       "  \"/>\n",
       "<polyline clip-path=\"url(#clip9402)\" style=\"stroke:#000000; stroke-width:0.5; stroke-opacity:0.1; fill:none\" points=\"\n",
       "  564.803,375.813 564.803,11.811 \n",
       "  \"/>\n",
       "<polyline clip-path=\"url(#clip9402)\" style=\"stroke:#000000; stroke-width:0.5; stroke-opacity:0.1; fill:none\" points=\"\n",
       "  32.2221,365.511 580.315,365.511 \n",
       "  \"/>\n",
       "<polyline clip-path=\"url(#clip9402)\" style=\"stroke:#000000; stroke-width:0.5; stroke-opacity:0.1; fill:none\" points=\"\n",
       "  32.2221,265.587 580.315,265.587 \n",
       "  \"/>\n",
       "<polyline clip-path=\"url(#clip9402)\" style=\"stroke:#000000; stroke-width:0.5; stroke-opacity:0.1; fill:none\" points=\"\n",
       "  32.2221,165.662 580.315,165.662 \n",
       "  \"/>\n",
       "<polyline clip-path=\"url(#clip9402)\" style=\"stroke:#000000; stroke-width:0.5; stroke-opacity:0.1; fill:none\" points=\"\n",
       "  32.2221,65.7366 580.315,65.7366 \n",
       "  \"/>\n",
       "<polyline clip-path=\"url(#clip9400)\" style=\"stroke:#000000; stroke-width:1; stroke-opacity:1; fill:none\" points=\"\n",
       "  32.2221,375.813 580.315,375.813 \n",
       "  \"/>\n",
       "<polyline clip-path=\"url(#clip9400)\" style=\"stroke:#000000; stroke-width:1; stroke-opacity:1; fill:none\" points=\"\n",
       "  32.2221,375.813 32.2221,11.811 \n",
       "  \"/>\n",
       "<polyline clip-path=\"url(#clip9400)\" style=\"stroke:#000000; stroke-width:1; stroke-opacity:1; fill:none\" points=\"\n",
       "  47.7342,375.813 47.7342,370.353 \n",
       "  \"/>\n",
       "<polyline clip-path=\"url(#clip9400)\" style=\"stroke:#000000; stroke-width:1; stroke-opacity:1; fill:none\" points=\"\n",
       "  177.001,375.813 177.001,370.353 \n",
       "  \"/>\n",
       "<polyline clip-path=\"url(#clip9400)\" style=\"stroke:#000000; stroke-width:1; stroke-opacity:1; fill:none\" points=\"\n",
       "  306.269,375.813 306.269,370.353 \n",
       "  \"/>\n",
       "<polyline clip-path=\"url(#clip9400)\" style=\"stroke:#000000; stroke-width:1; stroke-opacity:1; fill:none\" points=\"\n",
       "  435.536,375.813 435.536,370.353 \n",
       "  \"/>\n",
       "<polyline clip-path=\"url(#clip9400)\" style=\"stroke:#000000; stroke-width:1; stroke-opacity:1; fill:none\" points=\"\n",
       "  564.803,375.813 564.803,370.353 \n",
       "  \"/>\n",
       "<polyline clip-path=\"url(#clip9400)\" style=\"stroke:#000000; stroke-width:1; stroke-opacity:1; fill:none\" points=\"\n",
       "  32.2221,365.511 40.4435,365.511 \n",
       "  \"/>\n",
       "<polyline clip-path=\"url(#clip9400)\" style=\"stroke:#000000; stroke-width:1; stroke-opacity:1; fill:none\" points=\"\n",
       "  32.2221,265.587 40.4435,265.587 \n",
       "  \"/>\n",
       "<polyline clip-path=\"url(#clip9400)\" style=\"stroke:#000000; stroke-width:1; stroke-opacity:1; fill:none\" points=\"\n",
       "  32.2221,165.662 40.4435,165.662 \n",
       "  \"/>\n",
       "<polyline clip-path=\"url(#clip9400)\" style=\"stroke:#000000; stroke-width:1; stroke-opacity:1; fill:none\" points=\"\n",
       "  32.2221,65.7366 40.4435,65.7366 \n",
       "  \"/>\n",
       "<g clip-path=\"url(#clip9400)\">\n",
       "<text style=\"fill:#000000; fill-opacity:1; font-family:Arial,Helvetica Neue,Helvetica,sans-serif; font-size:12; text-anchor:middle;\" transform=\"rotate(0, 47.7342, 389.613)\" x=\"47.7342\" y=\"389.613\">0.00</text>\n",
       "</g>\n",
       "<g clip-path=\"url(#clip9400)\">\n",
       "<text style=\"fill:#000000; fill-opacity:1; font-family:Arial,Helvetica Neue,Helvetica,sans-serif; font-size:12; text-anchor:middle;\" transform=\"rotate(0, 177.001, 389.613)\" x=\"177.001\" y=\"389.613\">0.25</text>\n",
       "</g>\n",
       "<g clip-path=\"url(#clip9400)\">\n",
       "<text style=\"fill:#000000; fill-opacity:1; font-family:Arial,Helvetica Neue,Helvetica,sans-serif; font-size:12; text-anchor:middle;\" transform=\"rotate(0, 306.269, 389.613)\" x=\"306.269\" y=\"389.613\">0.50</text>\n",
       "</g>\n",
       "<g clip-path=\"url(#clip9400)\">\n",
       "<text style=\"fill:#000000; fill-opacity:1; font-family:Arial,Helvetica Neue,Helvetica,sans-serif; font-size:12; text-anchor:middle;\" transform=\"rotate(0, 435.536, 389.613)\" x=\"435.536\" y=\"389.613\">0.75</text>\n",
       "</g>\n",
       "<g clip-path=\"url(#clip9400)\">\n",
       "<text style=\"fill:#000000; fill-opacity:1; font-family:Arial,Helvetica Neue,Helvetica,sans-serif; font-size:12; text-anchor:middle;\" transform=\"rotate(0, 564.803, 389.613)\" x=\"564.803\" y=\"389.613\">1.00</text>\n",
       "</g>\n",
       "<g clip-path=\"url(#clip9400)\">\n",
       "<text style=\"fill:#000000; fill-opacity:1; font-family:Arial,Helvetica Neue,Helvetica,sans-serif; font-size:12; text-anchor:end;\" transform=\"rotate(0, 26.2221, 370.011)\" x=\"26.2221\" y=\"370.011\">1.0</text>\n",
       "</g>\n",
       "<g clip-path=\"url(#clip9400)\">\n",
       "<text style=\"fill:#000000; fill-opacity:1; font-family:Arial,Helvetica Neue,Helvetica,sans-serif; font-size:12; text-anchor:end;\" transform=\"rotate(0, 26.2221, 270.087)\" x=\"26.2221\" y=\"270.087\">1.5</text>\n",
       "</g>\n",
       "<g clip-path=\"url(#clip9400)\">\n",
       "<text style=\"fill:#000000; fill-opacity:1; font-family:Arial,Helvetica Neue,Helvetica,sans-serif; font-size:12; text-anchor:end;\" transform=\"rotate(0, 26.2221, 170.162)\" x=\"26.2221\" y=\"170.162\">2.0</text>\n",
       "</g>\n",
       "<g clip-path=\"url(#clip9400)\">\n",
       "<text style=\"fill:#000000; fill-opacity:1; font-family:Arial,Helvetica Neue,Helvetica,sans-serif; font-size:12; text-anchor:end;\" transform=\"rotate(0, 26.2221, 70.2366)\" x=\"26.2221\" y=\"70.2366\">2.5</text>\n",
       "</g>\n",
       "<circle clip-path=\"url(#clip9402)\" style=\"fill:#000000; stroke:none; fill-opacity:1\" cx=\"47.7342\" cy=\"365.511\" r=\"5\"/>\n",
       "<circle clip-path=\"url(#clip9402)\" style=\"fill:#009af9; stroke:none; fill-opacity:1\" cx=\"47.7342\" cy=\"365.511\" r=\"4\"/>\n",
       "<circle clip-path=\"url(#clip9402)\" style=\"fill:#000000; stroke:none; fill-opacity:1\" cx=\"151.148\" cy=\"321.264\" r=\"5\"/>\n",
       "<circle clip-path=\"url(#clip9402)\" style=\"fill:#009af9; stroke:none; fill-opacity:1\" cx=\"151.148\" cy=\"321.264\" r=\"4\"/>\n",
       "<circle clip-path=\"url(#clip9402)\" style=\"fill:#000000; stroke:none; fill-opacity:1\" cx=\"254.562\" cy=\"267.22\" r=\"5\"/>\n",
       "<circle clip-path=\"url(#clip9402)\" style=\"fill:#009af9; stroke:none; fill-opacity:1\" cx=\"254.562\" cy=\"267.22\" r=\"4\"/>\n",
       "<circle clip-path=\"url(#clip9402)\" style=\"fill:#000000; stroke:none; fill-opacity:1\" cx=\"357.975\" cy=\"201.211\" r=\"5\"/>\n",
       "<circle clip-path=\"url(#clip9402)\" style=\"fill:#009af9; stroke:none; fill-opacity:1\" cx=\"357.975\" cy=\"201.211\" r=\"4\"/>\n",
       "<circle clip-path=\"url(#clip9402)\" style=\"fill:#000000; stroke:none; fill-opacity:1\" cx=\"461.389\" cy=\"120.587\" r=\"5\"/>\n",
       "<circle clip-path=\"url(#clip9402)\" style=\"fill:#009af9; stroke:none; fill-opacity:1\" cx=\"461.389\" cy=\"120.587\" r=\"4\"/>\n",
       "<circle clip-path=\"url(#clip9402)\" style=\"fill:#000000; stroke:none; fill-opacity:1\" cx=\"564.803\" cy=\"22.113\" r=\"5\"/>\n",
       "<circle clip-path=\"url(#clip9402)\" style=\"fill:#009af9; stroke:none; fill-opacity:1\" cx=\"564.803\" cy=\"22.113\" r=\"4\"/>\n",
       "<polyline clip-path=\"url(#clip9402)\" style=\"stroke:#ff0000; stroke-width:1; stroke-opacity:1; fill:none\" points=\"\n",
       "  52.7838,363.55 99.4746,344.478 127.534,332.161 151.258,321.212 177.028,308.736 200.786,296.669 226.258,283.102 255.769,266.523 281.995,250.975 304.993,236.677 \n",
       "  330.066,220.345 355.289,203.098 383.176,183.024 409.71,162.892 437.299,140.834 460.523,121.332 488.877,96.3027 515.53,71.4897 558.231,28.9733 \n",
       "  \"/>\n",
       "<polygon clip-path=\"url(#clip9400)\" points=\"\n",
       "489.799,78.051 562.315,78.051 562.315,32.691 489.799,32.691 \n",
       "  \" fill=\"#ffffff\" fill-opacity=\"1\"/>\n",
       "<polyline clip-path=\"url(#clip9400)\" style=\"stroke:#000000; stroke-width:1; stroke-opacity:1; fill:none\" points=\"\n",
       "  489.799,78.051 562.315,78.051 562.315,32.691 489.799,32.691 489.799,78.051 \n",
       "  \"/>\n",
       "<circle clip-path=\"url(#clip9400)\" style=\"fill:#000000; stroke:none; fill-opacity:1\" cx=\"516.799\" cy=\"47.811\" r=\"6\"/>\n",
       "<circle clip-path=\"url(#clip9400)\" style=\"fill:#009af9; stroke:none; fill-opacity:1\" cx=\"516.799\" cy=\"47.811\" r=\"5\"/>\n",
       "<g clip-path=\"url(#clip9400)\">\n",
       "<text style=\"fill:#000000; fill-opacity:1; font-family:Arial,Helvetica Neue,Helvetica,sans-serif; font-size:12; text-anchor:start;\" transform=\"rotate(0, 537.799, 52.311)\" x=\"537.799\" y=\"52.311\">y1</text>\n",
       "</g>\n",
       "<polyline clip-path=\"url(#clip9400)\" style=\"stroke:#ff0000; stroke-width:1; stroke-opacity:1; fill:none\" points=\"\n",
       "  495.799,62.931 531.799,62.931 \n",
       "  \"/>\n",
       "<g clip-path=\"url(#clip9400)\">\n",
       "<text style=\"fill:#000000; fill-opacity:1; font-family:Arial,Helvetica Neue,Helvetica,sans-serif; font-size:12; text-anchor:start;\" transform=\"rotate(0, 537.799, 67.431)\" x=\"537.799\" y=\"67.431\">y2</text>\n",
       "</g>\n",
       "</svg>\n"
      ]
     },
     "execution_count": 10,
     "metadata": {},
     "output_type": "execute_result"
    }
   ],
   "source": [
    "plot!(x->a[1]+a[2]*x+a[3]*x^2+a[4]*x^3+a[5]*x^4+a[6]*x^5, x[1], x[end], c=:red)"
   ]
  },
  {
   "cell_type": "markdown",
   "metadata": {},
   "source": [
    "Escrever tudo isso não dá, então vamos criar uma função pra fazer isso"
   ]
  },
  {
   "cell_type": "code",
   "execution_count": 11,
   "metadata": {
    "collapsed": false
   },
   "outputs": [
    {
     "data": {
      "text/plain": [
       "poli_eval"
      ]
     },
     "execution_count": 11,
     "metadata": {},
     "output_type": "execute_result"
    }
   ],
   "source": [
    "\"\"\"\n",
    "    p = poli_eval(x, a)\n",
    "\n",
    "Dados os coeficientes `a`, calcula o valor de\n",
    "`a[1] + a[2]*x + … + a[m]*x^(m-1)`.\n",
    "\"\"\"\n",
    "function poli_eval(x, a)\n",
    "    p = a[1]\n",
    "    m = length(a)\n",
    "    xx = 1.0\n",
    "    for i = 2:m\n",
    "        xx *= x\n",
    "        p += a[i]*xx\n",
    "    end\n",
    "    return p\n",
    "end"
   ]
  },
  {
   "cell_type": "code",
   "execution_count": 12,
   "metadata": {
    "collapsed": false
   },
   "outputs": [
    {
     "name": "stdout",
     "output_type": "stream",
     "text": [
      "search:\n",
      "\n"
     ]
    },
    {
     "data": {
      "text/markdown": [
       "```\n",
       "p = poli_eval(x, a)\n",
       "```\n",
       "\n",
       "Dados os coeficientes `a`, calcula o valor de `a[1] + a[2]*x + … + a[m]*x^(m-1)`.\n"
      ],
      "text/plain": [
       "```\n",
       "p = poli_eval(x, a)\n",
       "```\n",
       "\n",
       "Dados os coeficientes `a`, calcula o valor de `a[1] + a[2]*x + … + a[m]*x^(m-1)`.\n"
      ]
     },
     "execution_count": 12,
     "metadata": {},
     "output_type": "execute_result"
    }
   ],
   "source": [
    "?poli_eval"
   ]
  },
  {
   "cell_type": "code",
   "execution_count": 13,
   "metadata": {
    "collapsed": false
   },
   "outputs": [
    {
     "data": {
      "image/svg+xml": [
       "<?xml version=\"1.0\" encoding=\"utf-8\"?>\n",
       "<svg xmlns=\"http://www.w3.org/2000/svg\" xmlns:xlink=\"http://www.w3.org/1999/xlink\" width=\"600\" height=\"400\" viewBox=\"0 0 600 400\">\n",
       "<defs>\n",
       "  <clipPath id=\"clip9600\">\n",
       "    <rect x=\"0\" y=\"0\" width=\"600\" height=\"400\"/>\n",
       "  </clipPath>\n",
       "</defs>\n",
       "<polygon clip-path=\"url(#clip9600)\" points=\"\n",
       "0,400 600,400 600,0 0,0 \n",
       "  \" fill=\"#ffffff\" fill-opacity=\"1\"/>\n",
       "<defs>\n",
       "  <clipPath id=\"clip9601\">\n",
       "    <rect x=\"120\" y=\"0\" width=\"421\" height=\"400\"/>\n",
       "  </clipPath>\n",
       "</defs>\n",
       "<polygon clip-path=\"url(#clip9600)\" points=\"\n",
       "32.2221,375.813 580.315,375.813 580.315,11.811 32.2221,11.811 \n",
       "  \" fill=\"#ffffff\" fill-opacity=\"1\"/>\n",
       "<defs>\n",
       "  <clipPath id=\"clip9602\">\n",
       "    <rect x=\"32\" y=\"11\" width=\"549\" height=\"365\"/>\n",
       "  </clipPath>\n",
       "</defs>\n",
       "<polyline clip-path=\"url(#clip9602)\" style=\"stroke:#000000; stroke-width:0.5; stroke-opacity:0.1; fill:none\" points=\"\n",
       "  47.7342,375.813 47.7342,11.811 \n",
       "  \"/>\n",
       "<polyline clip-path=\"url(#clip9602)\" style=\"stroke:#000000; stroke-width:0.5; stroke-opacity:0.1; fill:none\" points=\"\n",
       "  177.001,375.813 177.001,11.811 \n",
       "  \"/>\n",
       "<polyline clip-path=\"url(#clip9602)\" style=\"stroke:#000000; stroke-width:0.5; stroke-opacity:0.1; fill:none\" points=\"\n",
       "  306.269,375.813 306.269,11.811 \n",
       "  \"/>\n",
       "<polyline clip-path=\"url(#clip9602)\" style=\"stroke:#000000; stroke-width:0.5; stroke-opacity:0.1; fill:none\" points=\"\n",
       "  435.536,375.813 435.536,11.811 \n",
       "  \"/>\n",
       "<polyline clip-path=\"url(#clip9602)\" style=\"stroke:#000000; stroke-width:0.5; stroke-opacity:0.1; fill:none\" points=\"\n",
       "  564.803,375.813 564.803,11.811 \n",
       "  \"/>\n",
       "<polyline clip-path=\"url(#clip9602)\" style=\"stroke:#000000; stroke-width:0.5; stroke-opacity:0.1; fill:none\" points=\"\n",
       "  32.2221,365.511 580.315,365.511 \n",
       "  \"/>\n",
       "<polyline clip-path=\"url(#clip9602)\" style=\"stroke:#000000; stroke-width:0.5; stroke-opacity:0.1; fill:none\" points=\"\n",
       "  32.2221,265.587 580.315,265.587 \n",
       "  \"/>\n",
       "<polyline clip-path=\"url(#clip9602)\" style=\"stroke:#000000; stroke-width:0.5; stroke-opacity:0.1; fill:none\" points=\"\n",
       "  32.2221,165.662 580.315,165.662 \n",
       "  \"/>\n",
       "<polyline clip-path=\"url(#clip9602)\" style=\"stroke:#000000; stroke-width:0.5; stroke-opacity:0.1; fill:none\" points=\"\n",
       "  32.2221,65.7366 580.315,65.7366 \n",
       "  \"/>\n",
       "<polyline clip-path=\"url(#clip9600)\" style=\"stroke:#000000; stroke-width:1; stroke-opacity:1; fill:none\" points=\"\n",
       "  32.2221,375.813 580.315,375.813 \n",
       "  \"/>\n",
       "<polyline clip-path=\"url(#clip9600)\" style=\"stroke:#000000; stroke-width:1; stroke-opacity:1; fill:none\" points=\"\n",
       "  32.2221,375.813 32.2221,11.811 \n",
       "  \"/>\n",
       "<polyline clip-path=\"url(#clip9600)\" style=\"stroke:#000000; stroke-width:1; stroke-opacity:1; fill:none\" points=\"\n",
       "  47.7342,375.813 47.7342,370.353 \n",
       "  \"/>\n",
       "<polyline clip-path=\"url(#clip9600)\" style=\"stroke:#000000; stroke-width:1; stroke-opacity:1; fill:none\" points=\"\n",
       "  177.001,375.813 177.001,370.353 \n",
       "  \"/>\n",
       "<polyline clip-path=\"url(#clip9600)\" style=\"stroke:#000000; stroke-width:1; stroke-opacity:1; fill:none\" points=\"\n",
       "  306.269,375.813 306.269,370.353 \n",
       "  \"/>\n",
       "<polyline clip-path=\"url(#clip9600)\" style=\"stroke:#000000; stroke-width:1; stroke-opacity:1; fill:none\" points=\"\n",
       "  435.536,375.813 435.536,370.353 \n",
       "  \"/>\n",
       "<polyline clip-path=\"url(#clip9600)\" style=\"stroke:#000000; stroke-width:1; stroke-opacity:1; fill:none\" points=\"\n",
       "  564.803,375.813 564.803,370.353 \n",
       "  \"/>\n",
       "<polyline clip-path=\"url(#clip9600)\" style=\"stroke:#000000; stroke-width:1; stroke-opacity:1; fill:none\" points=\"\n",
       "  32.2221,365.511 40.4435,365.511 \n",
       "  \"/>\n",
       "<polyline clip-path=\"url(#clip9600)\" style=\"stroke:#000000; stroke-width:1; stroke-opacity:1; fill:none\" points=\"\n",
       "  32.2221,265.587 40.4435,265.587 \n",
       "  \"/>\n",
       "<polyline clip-path=\"url(#clip9600)\" style=\"stroke:#000000; stroke-width:1; stroke-opacity:1; fill:none\" points=\"\n",
       "  32.2221,165.662 40.4435,165.662 \n",
       "  \"/>\n",
       "<polyline clip-path=\"url(#clip9600)\" style=\"stroke:#000000; stroke-width:1; stroke-opacity:1; fill:none\" points=\"\n",
       "  32.2221,65.7366 40.4435,65.7366 \n",
       "  \"/>\n",
       "<g clip-path=\"url(#clip9600)\">\n",
       "<text style=\"fill:#000000; fill-opacity:1; font-family:Arial,Helvetica Neue,Helvetica,sans-serif; font-size:12; text-anchor:middle;\" transform=\"rotate(0, 47.7342, 389.613)\" x=\"47.7342\" y=\"389.613\">0.00</text>\n",
       "</g>\n",
       "<g clip-path=\"url(#clip9600)\">\n",
       "<text style=\"fill:#000000; fill-opacity:1; font-family:Arial,Helvetica Neue,Helvetica,sans-serif; font-size:12; text-anchor:middle;\" transform=\"rotate(0, 177.001, 389.613)\" x=\"177.001\" y=\"389.613\">0.25</text>\n",
       "</g>\n",
       "<g clip-path=\"url(#clip9600)\">\n",
       "<text style=\"fill:#000000; fill-opacity:1; font-family:Arial,Helvetica Neue,Helvetica,sans-serif; font-size:12; text-anchor:middle;\" transform=\"rotate(0, 306.269, 389.613)\" x=\"306.269\" y=\"389.613\">0.50</text>\n",
       "</g>\n",
       "<g clip-path=\"url(#clip9600)\">\n",
       "<text style=\"fill:#000000; fill-opacity:1; font-family:Arial,Helvetica Neue,Helvetica,sans-serif; font-size:12; text-anchor:middle;\" transform=\"rotate(0, 435.536, 389.613)\" x=\"435.536\" y=\"389.613\">0.75</text>\n",
       "</g>\n",
       "<g clip-path=\"url(#clip9600)\">\n",
       "<text style=\"fill:#000000; fill-opacity:1; font-family:Arial,Helvetica Neue,Helvetica,sans-serif; font-size:12; text-anchor:middle;\" transform=\"rotate(0, 564.803, 389.613)\" x=\"564.803\" y=\"389.613\">1.00</text>\n",
       "</g>\n",
       "<g clip-path=\"url(#clip9600)\">\n",
       "<text style=\"fill:#000000; fill-opacity:1; font-family:Arial,Helvetica Neue,Helvetica,sans-serif; font-size:12; text-anchor:end;\" transform=\"rotate(0, 26.2221, 370.011)\" x=\"26.2221\" y=\"370.011\">1.0</text>\n",
       "</g>\n",
       "<g clip-path=\"url(#clip9600)\">\n",
       "<text style=\"fill:#000000; fill-opacity:1; font-family:Arial,Helvetica Neue,Helvetica,sans-serif; font-size:12; text-anchor:end;\" transform=\"rotate(0, 26.2221, 270.087)\" x=\"26.2221\" y=\"270.087\">1.5</text>\n",
       "</g>\n",
       "<g clip-path=\"url(#clip9600)\">\n",
       "<text style=\"fill:#000000; fill-opacity:1; font-family:Arial,Helvetica Neue,Helvetica,sans-serif; font-size:12; text-anchor:end;\" transform=\"rotate(0, 26.2221, 170.162)\" x=\"26.2221\" y=\"170.162\">2.0</text>\n",
       "</g>\n",
       "<g clip-path=\"url(#clip9600)\">\n",
       "<text style=\"fill:#000000; fill-opacity:1; font-family:Arial,Helvetica Neue,Helvetica,sans-serif; font-size:12; text-anchor:end;\" transform=\"rotate(0, 26.2221, 70.2366)\" x=\"26.2221\" y=\"70.2366\">2.5</text>\n",
       "</g>\n",
       "<circle clip-path=\"url(#clip9602)\" style=\"fill:#000000; stroke:none; fill-opacity:1\" cx=\"47.7342\" cy=\"365.511\" r=\"4\"/>\n",
       "<circle clip-path=\"url(#clip9602)\" style=\"fill:#009af9; stroke:none; fill-opacity:1\" cx=\"47.7342\" cy=\"365.511\" r=\"3\"/>\n",
       "<circle clip-path=\"url(#clip9602)\" style=\"fill:#000000; stroke:none; fill-opacity:1\" cx=\"151.148\" cy=\"321.264\" r=\"4\"/>\n",
       "<circle clip-path=\"url(#clip9602)\" style=\"fill:#009af9; stroke:none; fill-opacity:1\" cx=\"151.148\" cy=\"321.264\" r=\"3\"/>\n",
       "<circle clip-path=\"url(#clip9602)\" style=\"fill:#000000; stroke:none; fill-opacity:1\" cx=\"254.562\" cy=\"267.22\" r=\"4\"/>\n",
       "<circle clip-path=\"url(#clip9602)\" style=\"fill:#009af9; stroke:none; fill-opacity:1\" cx=\"254.562\" cy=\"267.22\" r=\"3\"/>\n",
       "<circle clip-path=\"url(#clip9602)\" style=\"fill:#000000; stroke:none; fill-opacity:1\" cx=\"357.975\" cy=\"201.211\" r=\"4\"/>\n",
       "<circle clip-path=\"url(#clip9602)\" style=\"fill:#009af9; stroke:none; fill-opacity:1\" cx=\"357.975\" cy=\"201.211\" r=\"3\"/>\n",
       "<circle clip-path=\"url(#clip9602)\" style=\"fill:#000000; stroke:none; fill-opacity:1\" cx=\"461.389\" cy=\"120.587\" r=\"4\"/>\n",
       "<circle clip-path=\"url(#clip9602)\" style=\"fill:#009af9; stroke:none; fill-opacity:1\" cx=\"461.389\" cy=\"120.587\" r=\"3\"/>\n",
       "<circle clip-path=\"url(#clip9602)\" style=\"fill:#000000; stroke:none; fill-opacity:1\" cx=\"564.803\" cy=\"22.113\" r=\"4\"/>\n",
       "<circle clip-path=\"url(#clip9602)\" style=\"fill:#009af9; stroke:none; fill-opacity:1\" cx=\"564.803\" cy=\"22.113\" r=\"3\"/>\n",
       "<polyline clip-path=\"url(#clip9602)\" style=\"stroke:#e26f46; stroke-width:1; stroke-opacity:1; fill:none\" points=\"\n",
       "  52.7838,363.55 99.4746,344.478 127.534,332.161 151.258,321.212 177.028,308.736 200.786,296.669 226.258,283.102 255.769,266.523 281.995,250.975 304.993,236.677 \n",
       "  330.066,220.345 355.289,203.098 383.176,183.024 409.71,162.892 437.299,140.834 460.523,121.332 488.877,96.3027 515.53,71.4897 558.231,28.9733 \n",
       "  \"/>\n",
       "<polygon clip-path=\"url(#clip9600)\" points=\"\n",
       "489.799,78.051 562.315,78.051 562.315,32.691 489.799,32.691 \n",
       "  \" fill=\"#ffffff\" fill-opacity=\"1\"/>\n",
       "<polyline clip-path=\"url(#clip9600)\" style=\"stroke:#000000; stroke-width:1; stroke-opacity:1; fill:none\" points=\"\n",
       "  489.799,78.051 562.315,78.051 562.315,32.691 489.799,32.691 489.799,78.051 \n",
       "  \"/>\n",
       "<circle clip-path=\"url(#clip9600)\" style=\"fill:#000000; stroke:none; fill-opacity:1\" cx=\"516.799\" cy=\"47.811\" r=\"6\"/>\n",
       "<circle clip-path=\"url(#clip9600)\" style=\"fill:#009af9; stroke:none; fill-opacity:1\" cx=\"516.799\" cy=\"47.811\" r=\"5\"/>\n",
       "<g clip-path=\"url(#clip9600)\">\n",
       "<text style=\"fill:#000000; fill-opacity:1; font-family:Arial,Helvetica Neue,Helvetica,sans-serif; font-size:12; text-anchor:start;\" transform=\"rotate(0, 537.799, 52.311)\" x=\"537.799\" y=\"52.311\">y1</text>\n",
       "</g>\n",
       "<polyline clip-path=\"url(#clip9600)\" style=\"stroke:#e26f46; stroke-width:1; stroke-opacity:1; fill:none\" points=\"\n",
       "  495.799,62.931 531.799,62.931 \n",
       "  \"/>\n",
       "<g clip-path=\"url(#clip9600)\">\n",
       "<text style=\"fill:#000000; fill-opacity:1; font-family:Arial,Helvetica Neue,Helvetica,sans-serif; font-size:12; text-anchor:start;\" transform=\"rotate(0, 537.799, 67.431)\" x=\"537.799\" y=\"67.431\">y2</text>\n",
       "</g>\n",
       "</svg>\n"
      ]
     },
     "execution_count": 13,
     "metadata": {},
     "output_type": "execute_result"
    }
   ],
   "source": [
    "scatter(x, y)\n",
    "plot!(x->poli_eval(x, a), x[1], x[end])"
   ]
  },
  {
   "cell_type": "markdown",
   "metadata": {},
   "source": [
    "Em outras linguagens a criação da matriz não é tão simples.\n",
    "Vamos fazer uma função para ela, e dar seu nome oficial: Matriz de Vandermonde"
   ]
  },
  {
   "cell_type": "code",
   "execution_count": 14,
   "metadata": {
    "collapsed": false
   },
   "outputs": [
    {
     "data": {
      "text/plain": [
       "vandermonde (generic function with 1 method)"
      ]
     },
     "execution_count": 14,
     "metadata": {},
     "output_type": "execute_result"
    }
   ],
   "source": [
    "function vandermonde(x)\n",
    "    m = length(x)\n",
    "    A = zeros(m, m)\n",
    "    for i = 1:m\n",
    "        xx = 1.0\n",
    "        for j = 1:m\n",
    "            A[i,j] = xx\n",
    "            xx *= x[i]\n",
    "        end\n",
    "    end\n",
    "    return A\n",
    "end"
   ]
  },
  {
   "cell_type": "code",
   "execution_count": 15,
   "metadata": {
    "collapsed": false
   },
   "outputs": [
    {
     "data": {
      "text/plain": [
       "6×6 Array{Float64,2}:\n",
       " 1.0  0.0  0.0   0.0    0.0     0.0    \n",
       " 1.0  0.2  0.04  0.008  0.0016  0.00032\n",
       " 1.0  0.4  0.16  0.064  0.0256  0.01024\n",
       " 1.0  0.6  0.36  0.216  0.1296  0.07776\n",
       " 1.0  0.8  0.64  0.512  0.4096  0.32768\n",
       " 1.0  1.0  1.0   1.0    1.0     1.0    "
      ]
     },
     "execution_count": 15,
     "metadata": {},
     "output_type": "execute_result"
    }
   ],
   "source": [
    "vandermonde(x)"
   ]
  },
  {
   "cell_type": "markdown",
   "metadata": {},
   "source": [
    "A matriz de Vandermonde tem o sério problema de ser mal-condicionada."
   ]
  },
  {
   "cell_type": "code",
   "execution_count": 16,
   "metadata": {
    "collapsed": false
   },
   "outputs": [
    {
     "data": {
      "text/plain": [
       "10×10 Array{Float64,2}:\n",
       " 1.0   1.0    1.0     1.0      1.0  …       1.0             1.0      \n",
       " 1.0   2.0    4.0     8.0     16.0        256.0           512.0      \n",
       " 1.0   3.0    9.0    27.0     81.0       6561.0         19683.0      \n",
       " 1.0   4.0   16.0    64.0    256.0      65536.0        262144.0      \n",
       " 1.0   5.0   25.0   125.0    625.0     390625.0             1.95313e6\n",
       " 1.0   6.0   36.0   216.0   1296.0  …       1.67962e6       1.00777e7\n",
       " 1.0   7.0   49.0   343.0   2401.0          5.7648e6        4.03536e7\n",
       " 1.0   8.0   64.0   512.0   4096.0          1.67772e7       1.34218e8\n",
       " 1.0   9.0   81.0   729.0   6561.0          4.30467e7       3.8742e8 \n",
       " 1.0  10.0  100.0  1000.0  10000.0          1.0e8           1.0e9    "
      ]
     },
     "execution_count": 16,
     "metadata": {},
     "output_type": "execute_result"
    }
   ],
   "source": [
    "A = vandermonde(linspace(1,10,10))"
   ]
  },
  {
   "cell_type": "code",
   "execution_count": 17,
   "metadata": {
    "collapsed": false
   },
   "outputs": [
    {
     "data": {
      "text/plain": [
       "2.1062579936249644e12"
      ]
     },
     "execution_count": 17,
     "metadata": {},
     "output_type": "execute_result"
    }
   ],
   "source": [
    "cond(A)"
   ]
  },
  {
   "cell_type": "code",
   "execution_count": 18,
   "metadata": {
    "collapsed": false
   },
   "outputs": [
    {
     "data": {
      "text/plain": [
       "10-element Array{Float64,1}:\n",
       " 1.0     \n",
       " 0.999995\n",
       " 1.0     \n",
       " 1.0     \n",
       " 1.0     \n",
       " 1.0     \n",
       " 1.0     \n",
       " 1.0     \n",
       " 1.0     \n",
       " 1.0     "
      ]
     },
     "execution_count": 18,
     "metadata": {},
     "output_type": "execute_result"
    }
   ],
   "source": [
    "b = A*ones(10)\n",
    "A\\b"
   ]
  },
  {
   "cell_type": "markdown",
   "metadata": {},
   "source": [
    "Então, a resolução direta desse sistema é impraticável para qualquer coisa maior que uns 5 elementos. Vamos ver outras duas maneiras de fazer a interpolação polinomial."
   ]
  },
  {
   "cell_type": "markdown",
   "metadata": {},
   "source": [
    "## Polinômio de Lagrange\n",
    "\n",
    "O polinômio de Lagrange que interpola os pontos $(x_i,y_i), i =1,\\dots,m$ é uma soma de polinômios, cada um construído de uma maneira inteligente para passar nos pontos acima.\n",
    "\n",
    "A forma de Lagrange é\n",
    "$$ L(x) = \\sum_{i=1}^m y_i \\ell_i(x), $$\n",
    "onde\n",
    "$$ \\ell_i(x) = \\prod_{j=1, j\\neq i}^m \\frac{x-x_j}{x_i-x_j}. $$"
   ]
  },
  {
   "cell_type": "markdown",
   "metadata": {},
   "source": [
    "Dessa maneira, $ \\ell_i(x_j) = 0 $ para todo $j \\neq i$, mas $\\ell_i(x_i) = 1$,\n",
    "e daí, $L(x_i) = y_i$."
   ]
  },
  {
   "cell_type": "code",
   "execution_count": 21,
   "metadata": {
    "collapsed": false
   },
   "outputs": [
    {
     "data": {
      "text/plain": [
       "lag"
      ]
     },
     "execution_count": 21,
     "metadata": {},
     "output_type": "execute_result"
    }
   ],
   "source": [
    "\"\"\"\n",
    "    lag(x, i, xv)\n",
    "\n",
    "`x`  é a entrada\n",
    "`i`  é o índice\n",
    "`xv` é o vetor de pontos [x₁, x₂, …, xₘ]\n",
    "\"\"\"\n",
    "function lag(x, i, xv)    \n",
    "    l = 1.0\n",
    "    m = length(xv)\n",
    "    for j = 1:m\n",
    "        if i == j\n",
    "            continue\n",
    "        end\n",
    "        if x == xv[j]\n",
    "            return 0.0\n",
    "        end\n",
    "        l *= (x - xv[j])/(xv[i] - xv[j])\n",
    "    end\n",
    "    return l\n",
    "end"
   ]
  },
  {
   "cell_type": "code",
   "execution_count": 22,
   "metadata": {
    "collapsed": false
   },
   "outputs": [
    {
     "data": {
      "image/svg+xml": [
       "<?xml version=\"1.0\" encoding=\"utf-8\"?>\n",
       "<svg xmlns=\"http://www.w3.org/2000/svg\" xmlns:xlink=\"http://www.w3.org/1999/xlink\" width=\"600\" height=\"400\" viewBox=\"0 0 600 400\">\n",
       "<defs>\n",
       "  <clipPath id=\"clip9800\">\n",
       "    <rect x=\"0\" y=\"0\" width=\"600\" height=\"400\"/>\n",
       "  </clipPath>\n",
       "</defs>\n",
       "<polygon clip-path=\"url(#clip9800)\" points=\"\n",
       "0,400 600,400 600,0 0,0 \n",
       "  \" fill=\"#ffffff\" fill-opacity=\"1\"/>\n",
       "<defs>\n",
       "  <clipPath id=\"clip9801\">\n",
       "    <rect x=\"120\" y=\"0\" width=\"421\" height=\"400\"/>\n",
       "  </clipPath>\n",
       "</defs>\n",
       "<polygon clip-path=\"url(#clip9800)\" points=\"\n",
       "29.2591,375.813 580.315,375.813 580.315,11.811 29.2591,11.811 \n",
       "  \" fill=\"#ffffff\" fill-opacity=\"1\"/>\n",
       "<defs>\n",
       "  <clipPath id=\"clip9802\">\n",
       "    <rect x=\"29\" y=\"11\" width=\"552\" height=\"365\"/>\n",
       "  </clipPath>\n",
       "</defs>\n",
       "<polyline clip-path=\"url(#clip9802)\" style=\"stroke:#000000; stroke-width:0.5; stroke-opacity:0.1; fill:none\" points=\"\n",
       "  44.8551,375.813 44.8551,11.811 \n",
       "  \"/>\n",
       "<polyline clip-path=\"url(#clip9802)\" style=\"stroke:#000000; stroke-width:0.5; stroke-opacity:0.1; fill:none\" points=\"\n",
       "  174.821,375.813 174.821,11.811 \n",
       "  \"/>\n",
       "<polyline clip-path=\"url(#clip9802)\" style=\"stroke:#000000; stroke-width:0.5; stroke-opacity:0.1; fill:none\" points=\"\n",
       "  304.787,375.813 304.787,11.811 \n",
       "  \"/>\n",
       "<polyline clip-path=\"url(#clip9802)\" style=\"stroke:#000000; stroke-width:0.5; stroke-opacity:0.1; fill:none\" points=\"\n",
       "  434.753,375.813 434.753,11.811 \n",
       "  \"/>\n",
       "<polyline clip-path=\"url(#clip9802)\" style=\"stroke:#000000; stroke-width:0.5; stroke-opacity:0.1; fill:none\" points=\"\n",
       "  564.719,375.813 564.719,11.811 \n",
       "  \"/>\n",
       "<polyline clip-path=\"url(#clip9802)\" style=\"stroke:#000000; stroke-width:0.5; stroke-opacity:0.1; fill:none\" points=\"\n",
       "  29.2591,320.747 580.315,320.747 \n",
       "  \"/>\n",
       "<polyline clip-path=\"url(#clip9802)\" style=\"stroke:#000000; stroke-width:0.5; stroke-opacity:0.1; fill:none\" points=\"\n",
       "  29.2591,242.092 580.315,242.092 \n",
       "  \"/>\n",
       "<polyline clip-path=\"url(#clip9802)\" style=\"stroke:#000000; stroke-width:0.5; stroke-opacity:0.1; fill:none\" points=\"\n",
       "  29.2591,163.438 580.315,163.438 \n",
       "  \"/>\n",
       "<polyline clip-path=\"url(#clip9802)\" style=\"stroke:#000000; stroke-width:0.5; stroke-opacity:0.1; fill:none\" points=\"\n",
       "  29.2591,84.783 580.315,84.783 \n",
       "  \"/>\n",
       "<polyline clip-path=\"url(#clip9800)\" style=\"stroke:#000000; stroke-width:1; stroke-opacity:1; fill:none\" points=\"\n",
       "  29.2591,375.813 580.315,375.813 \n",
       "  \"/>\n",
       "<polyline clip-path=\"url(#clip9800)\" style=\"stroke:#000000; stroke-width:1; stroke-opacity:1; fill:none\" points=\"\n",
       "  29.2591,375.813 29.2591,11.811 \n",
       "  \"/>\n",
       "<polyline clip-path=\"url(#clip9800)\" style=\"stroke:#000000; stroke-width:1; stroke-opacity:1; fill:none\" points=\"\n",
       "  44.8551,375.813 44.8551,370.353 \n",
       "  \"/>\n",
       "<polyline clip-path=\"url(#clip9800)\" style=\"stroke:#000000; stroke-width:1; stroke-opacity:1; fill:none\" points=\"\n",
       "  174.821,375.813 174.821,370.353 \n",
       "  \"/>\n",
       "<polyline clip-path=\"url(#clip9800)\" style=\"stroke:#000000; stroke-width:1; stroke-opacity:1; fill:none\" points=\"\n",
       "  304.787,375.813 304.787,370.353 \n",
       "  \"/>\n",
       "<polyline clip-path=\"url(#clip9800)\" style=\"stroke:#000000; stroke-width:1; stroke-opacity:1; fill:none\" points=\"\n",
       "  434.753,375.813 434.753,370.353 \n",
       "  \"/>\n",
       "<polyline clip-path=\"url(#clip9800)\" style=\"stroke:#000000; stroke-width:1; stroke-opacity:1; fill:none\" points=\"\n",
       "  564.719,375.813 564.719,370.353 \n",
       "  \"/>\n",
       "<polyline clip-path=\"url(#clip9800)\" style=\"stroke:#000000; stroke-width:1; stroke-opacity:1; fill:none\" points=\"\n",
       "  29.2591,320.747 37.525,320.747 \n",
       "  \"/>\n",
       "<polyline clip-path=\"url(#clip9800)\" style=\"stroke:#000000; stroke-width:1; stroke-opacity:1; fill:none\" points=\"\n",
       "  29.2591,242.092 37.525,242.092 \n",
       "  \"/>\n",
       "<polyline clip-path=\"url(#clip9800)\" style=\"stroke:#000000; stroke-width:1; stroke-opacity:1; fill:none\" points=\"\n",
       "  29.2591,163.438 37.525,163.438 \n",
       "  \"/>\n",
       "<polyline clip-path=\"url(#clip9800)\" style=\"stroke:#000000; stroke-width:1; stroke-opacity:1; fill:none\" points=\"\n",
       "  29.2591,84.783 37.525,84.783 \n",
       "  \"/>\n",
       "<g clip-path=\"url(#clip9800)\">\n",
       "<text style=\"fill:#000000; fill-opacity:1; font-family:Arial,Helvetica Neue,Helvetica,sans-serif; font-size:12; text-anchor:middle;\" transform=\"rotate(0, 44.8551, 389.613)\" x=\"44.8551\" y=\"389.613\">0.00</text>\n",
       "</g>\n",
       "<g clip-path=\"url(#clip9800)\">\n",
       "<text style=\"fill:#000000; fill-opacity:1; font-family:Arial,Helvetica Neue,Helvetica,sans-serif; font-size:12; text-anchor:middle;\" transform=\"rotate(0, 174.821, 389.613)\" x=\"174.821\" y=\"389.613\">0.25</text>\n",
       "</g>\n",
       "<g clip-path=\"url(#clip9800)\">\n",
       "<text style=\"fill:#000000; fill-opacity:1; font-family:Arial,Helvetica Neue,Helvetica,sans-serif; font-size:12; text-anchor:middle;\" transform=\"rotate(0, 304.787, 389.613)\" x=\"304.787\" y=\"389.613\">0.50</text>\n",
       "</g>\n",
       "<g clip-path=\"url(#clip9800)\">\n",
       "<text style=\"fill:#000000; fill-opacity:1; font-family:Arial,Helvetica Neue,Helvetica,sans-serif; font-size:12; text-anchor:middle;\" transform=\"rotate(0, 434.753, 389.613)\" x=\"434.753\" y=\"389.613\">0.75</text>\n",
       "</g>\n",
       "<g clip-path=\"url(#clip9800)\">\n",
       "<text style=\"fill:#000000; fill-opacity:1; font-family:Arial,Helvetica Neue,Helvetica,sans-serif; font-size:12; text-anchor:middle;\" transform=\"rotate(0, 564.719, 389.613)\" x=\"564.719\" y=\"389.613\">1.00</text>\n",
       "</g>\n",
       "<g clip-path=\"url(#clip9800)\">\n",
       "<text style=\"fill:#000000; fill-opacity:1; font-family:Arial,Helvetica Neue,Helvetica,sans-serif; font-size:12; text-anchor:end;\" transform=\"rotate(0, 23.2591, 325.247)\" x=\"23.2591\" y=\"325.247\">-1</text>\n",
       "</g>\n",
       "<g clip-path=\"url(#clip9800)\">\n",
       "<text style=\"fill:#000000; fill-opacity:1; font-family:Arial,Helvetica Neue,Helvetica,sans-serif; font-size:12; text-anchor:end;\" transform=\"rotate(0, 23.2591, 246.592)\" x=\"23.2591\" y=\"246.592\">0</text>\n",
       "</g>\n",
       "<g clip-path=\"url(#clip9800)\">\n",
       "<text style=\"fill:#000000; fill-opacity:1; font-family:Arial,Helvetica Neue,Helvetica,sans-serif; font-size:12; text-anchor:end;\" transform=\"rotate(0, 23.2591, 167.938)\" x=\"23.2591\" y=\"167.938\">1</text>\n",
       "</g>\n",
       "<g clip-path=\"url(#clip9800)\">\n",
       "<text style=\"fill:#000000; fill-opacity:1; font-family:Arial,Helvetica Neue,Helvetica,sans-serif; font-size:12; text-anchor:end;\" transform=\"rotate(0, 23.2591, 89.283)\" x=\"23.2591\" y=\"89.283\">2</text>\n",
       "</g>\n",
       "<circle clip-path=\"url(#clip9802)\" style=\"fill:#000000; stroke:none; fill-opacity:1\" cx=\"44.8551\" cy=\"163.438\" r=\"4\"/>\n",
       "<circle clip-path=\"url(#clip9802)\" style=\"fill:#009af9; stroke:none; fill-opacity:1\" cx=\"44.8551\" cy=\"163.438\" r=\"3\"/>\n",
       "<circle clip-path=\"url(#clip9802)\" style=\"fill:#000000; stroke:none; fill-opacity:1\" cx=\"148.828\" cy=\"146.023\" r=\"4\"/>\n",
       "<circle clip-path=\"url(#clip9802)\" style=\"fill:#009af9; stroke:none; fill-opacity:1\" cx=\"148.828\" cy=\"146.023\" r=\"3\"/>\n",
       "<circle clip-path=\"url(#clip9802)\" style=\"fill:#000000; stroke:none; fill-opacity:1\" cx=\"252.801\" cy=\"124.753\" r=\"4\"/>\n",
       "<circle clip-path=\"url(#clip9802)\" style=\"fill:#009af9; stroke:none; fill-opacity:1\" cx=\"252.801\" cy=\"124.753\" r=\"3\"/>\n",
       "<circle clip-path=\"url(#clip9802)\" style=\"fill:#000000; stroke:none; fill-opacity:1\" cx=\"356.773\" cy=\"98.7742\" r=\"4\"/>\n",
       "<circle clip-path=\"url(#clip9802)\" style=\"fill:#009af9; stroke:none; fill-opacity:1\" cx=\"356.773\" cy=\"98.7742\" r=\"3\"/>\n",
       "<circle clip-path=\"url(#clip9802)\" style=\"fill:#000000; stroke:none; fill-opacity:1\" cx=\"460.746\" cy=\"67.0432\" r=\"4\"/>\n",
       "<circle clip-path=\"url(#clip9802)\" style=\"fill:#009af9; stroke:none; fill-opacity:1\" cx=\"460.746\" cy=\"67.0432\" r=\"3\"/>\n",
       "<circle clip-path=\"url(#clip9802)\" style=\"fill:#000000; stroke:none; fill-opacity:1\" cx=\"564.719\" cy=\"28.2868\" r=\"4\"/>\n",
       "<circle clip-path=\"url(#clip9802)\" style=\"fill:#009af9; stroke:none; fill-opacity:1\" cx=\"564.719\" cy=\"28.2868\" r=\"3\"/>\n",
       "<polyline clip-path=\"url(#clip9802)\" style=\"stroke:#e26f46; stroke-width:1; stroke-opacity:1; fill:none\" points=\"\n",
       "  46.1243,165.608 47.3935,167.735 48.6627,169.82 49.932,171.862 55.7999,180.773 61.6678,188.851 67.5357,196.153 73.4036,202.73 79.2715,208.632 85.1394,213.907 \n",
       "  91.0073,218.602 96.8752,222.758 103.928,227.102 110.981,230.798 118.033,233.91 125.086,236.5 131.049,238.324 137.012,239.847 142.975,241.099 148.938,242.109 \n",
       "  161.893,243.596 174.848,244.311 186.791,244.471 198.735,244.298 224.344,243.328 254.014,242.047 280.382,241.326 303.504,241.167 328.714,241.448 354.073,242.024 \n",
       "  382.11,242.684 408.788,243.014 436.526,242.798 459.875,242.125 488.383,240.894 515.18,239.877 558.112,241.219 \n",
       "  \"/>\n",
       "<polyline clip-path=\"url(#clip9802)\" style=\"stroke:#3da44d; stroke-width:1; stroke-opacity:1; fill:none\" points=\"\n",
       "  46.1243,236.32 47.3935,230.728 48.6627,225.314 49.932,220.075 52.8659,208.614 55.7999,198.034 58.7338,188.299 61.6678,179.374 64.6017,171.225 67.5357,163.818 \n",
       "  70.4696,157.122 73.4036,151.105 76.3375,145.736 79.2715,140.984 82.2054,136.822 85.1394,133.219 88.0733,130.149 91.0073,127.584 93.9413,125.499 96.8752,123.866 \n",
       "  100.402,122.469 103.928,121.649 107.454,121.366 110.981,121.58 118.033,123.352 125.086,126.681 131.049,130.515 137.012,135.124 142.975,140.373 148.938,146.134 \n",
       "  174.848,174.398 198.735,200.556 205.137,207.015 211.539,213.13 217.942,218.857 224.344,224.162 231.761,229.745 239.179,234.696 246.597,238.998 254.014,242.644 \n",
       "  260.606,245.34 267.198,247.532 273.79,249.237 280.382,250.477 291.943,251.604 303.504,251.545 316.109,250.365 328.714,248.299 341.393,245.64 354.073,242.718 \n",
       "  368.092,239.561 382.11,236.865 395.449,235.049 408.788,234.211 422.657,234.556 436.526,236.222 448.201,238.622 459.875,241.826 474.129,246.546 488.383,251.65 \n",
       "  501.781,256.128 515.18,259.458 520.547,260.244 525.913,260.606 531.28,260.46 536.646,259.717 542.013,258.283 547.379,256.056 552.746,252.926 558.112,248.779 \n",
       "  559.764,247.279 561.416,245.667 563.067,243.939 \n",
       "  \"/>\n",
       "<polyline clip-path=\"url(#clip9802)\" style=\"stroke:#c271d2; stroke-width:1; stroke-opacity:1; fill:none\" points=\"\n",
       "  46.1243,249.099 47.3935,255.801 48.6627,262.203 49.932,268.312 52.8659,281.344 55.7999,292.915 58.7338,303.097 61.6678,311.958 64.6017,319.568 67.5357,325.993 \n",
       "  70.4696,331.295 73.4036,335.54 76.3375,338.786 79.2715,341.093 82.2054,342.519 85.1394,343.119 88.0733,342.948 91.0073,342.057 93.9413,340.498 96.8752,338.319 \n",
       "  100.402,334.947 103.928,330.829 107.454,326.041 110.981,320.655 114.507,314.743 118.033,308.371 121.56,301.604 125.086,294.502 137.012,268.757 148.938,241.844 \n",
       "  155.416,227.343 161.893,213.222 168.371,199.682 174.848,186.895 180.82,175.903 186.791,165.777 192.763,156.598 198.735,148.433 205.137,140.864 211.539,134.563 \n",
       "  217.942,129.558 224.344,125.858 231.761,123.197 239.179,122.248 242.888,122.397 246.597,122.952 250.306,123.9 254.014,125.23 260.606,128.495 267.198,132.842 \n",
       "  273.79,138.179 280.382,144.406 286.163,150.512 291.943,157.142 297.724,164.215 303.504,171.649 316.109,188.697 328.714,206.163 341.393,223.253 354.073,238.993 \n",
       "  361.082,246.816 368.092,253.853 375.101,259.991 382.11,265.128 388.78,269.006 395.449,271.837 402.118,273.572 408.788,274.177 415.722,273.593 422.657,271.772 \n",
       "  429.591,268.741 436.526,264.547 442.363,260.17 448.201,255.08 454.038,249.35 459.875,243.07 474.129,226.104 488.383,208.442 495.082,200.604 501.781,193.487 \n",
       "  508.481,187.443 515.18,182.861 520.547,180.532 525.913,179.651 528.596,179.833 531.28,180.473 533.963,181.606 536.646,183.267 539.329,185.493 542.013,188.322 \n",
       "  544.696,191.792 547.379,195.943 550.062,200.816 552.746,206.453 555.429,212.899 558.112,220.197 559.764,225.133 561.416,230.42 563.067,236.069 \n",
       "  \"/>\n",
       "<polyline clip-path=\"url(#clip9802)\" style=\"stroke:#ac8d18; stroke-width:1; stroke-opacity:1; fill:none\" points=\"\n",
       "  46.1243,236.398 47.3935,230.976 48.6627,225.818 49.932,220.919 52.8659,210.552 55.7999,201.461 58.7338,193.575 61.6678,186.823 64.6017,181.138 67.5357,176.454 \n",
       "  70.4696,172.706 73.4036,169.834 76.3375,167.777 79.2715,166.478 82.2054,165.88 85.1394,165.929 91.0073,167.762 96.8752,171.58 103.928,178.278 110.981,186.726 \n",
       "  118.033,196.395 125.086,206.806 137.012,224.933 148.938,242.244 155.416,250.805 161.893,258.541 168.371,265.306 174.848,270.98 180.82,275.165 186.791,278.29 \n",
       "  192.763,280.317 198.735,281.228 205.137,280.956 211.539,279.406 217.942,276.605 224.344,272.599 231.761,266.532 239.179,259.048 246.597,250.286 254.014,240.406 \n",
       "  267.198,220.645 280.382,199.013 291.943,179.446 303.504,160.197 309.807,150.138 316.109,140.56 322.411,131.594 328.714,123.368 335.053,115.964 341.393,109.552 \n",
       "  347.733,104.241 354.073,100.135 361.082,97.1063 368.092,95.7685 375.101,96.2101 382.11,98.4986 388.78,102.432 395.449,108.095 402.118,115.483 408.788,124.568 \n",
       "  415.722,135.757 422.657,148.631 429.591,163.069 436.526,178.91 442.363,193.191 448.201,208.19 454.038,223.751 459.875,239.693 467.002,259.38 474.129,278.922 \n",
       "  481.256,297.857 488.383,315.663 491.732,323.481 495.082,330.86 498.432,337.731 501.781,344.026 505.131,349.67 508.481,354.588 511.83,358.699 515.18,361.922 \n",
       "  517.863,363.805 520.547,365.017 523.23,365.511 525.913,365.24 528.596,364.152 531.28,362.197 533.963,359.322 536.646,355.474 539.329,350.596 542.013,344.631 \n",
       "  544.696,337.522 547.379,329.208 550.062,319.627 552.746,308.717 555.429,296.412 558.112,282.647 559.764,273.417 561.416,263.593 563.067,253.157 \n",
       "  \"/>\n",
       "<polyline clip-path=\"url(#clip9802)\" style=\"stroke:#00a9ad; stroke-width:1; stroke-opacity:1; fill:none\" points=\"\n",
       "  46.1243,244.698 47.3935,247.174 48.6627,249.524 49.932,251.75 55.7999,260.535 61.6678,267.052 67.5357,271.579 73.4036,274.375 79.2715,275.684 85.1394,275.73 \n",
       "  91.0073,274.721 96.8752,272.85 110.981,265.853 125.086,256.967 137.012,249.206 148.938,242.031 161.893,235.542 174.848,230.866 186.791,228.376 198.735,227.676 \n",
       "  211.539,228.812 224.344,231.656 239.179,236.597 254.014,242.604 267.198,248.154 280.382,253.235 291.943,256.786 303.504,259.036 316.109,259.525 328.714,257.501 \n",
       "  335.053,255.403 341.393,252.523 347.733,248.827 354.073,244.287 361.082,238.265 368.092,231.177 375.101,223.028 382.11,213.837 388.78,204.16 395.449,193.623 \n",
       "  402.118,182.29 408.788,170.243 436.526,115.039 459.875,68.6392 467.002,56.0697 474.129,44.8541 481.256,35.394 488.383,28.1285 495.082,23.7259 501.781,22.113 \n",
       "  505.131,22.4954 508.481,23.7506 511.83,25.9415 515.18,29.1329 517.863,32.4562 520.547,36.5 523.23,41.3008 525.913,46.8958 528.596,53.3233 531.28,60.6226 \n",
       "  533.963,68.8337 536.646,77.9978 539.329,88.1571 542.013,99.3545 544.696,111.634 547.379,125.041 550.062,139.621 552.746,155.422 555.429,172.492 558.112,190.879 \n",
       "  559.764,202.875 561.416,215.401 563.067,228.469 \n",
       "  \"/>\n",
       "<polyline clip-path=\"url(#clip9802)\" style=\"stroke:#ed5d92; stroke-width:1; stroke-opacity:1; fill:none\" points=\"\n",
       "  49.932,240.21 96.8752,236.249 125.086,239.318 148.938,242.104 174.848,244.103 198.735,244.613 224.344,243.863 254.014,242.009 280.382,240.366 303.504,239.601 \n",
       "  328.714,239.987 354.073,241.821 382.11,245.065 408.788,247.941 422.657,248.559 436.526,247.956 448.201,246.061 459.875,242.444 467.002,239.183 474.129,234.975 \n",
       "  481.256,229.685 488.383,223.17 495.082,215.791 501.781,207.056 508.481,196.821 515.18,184.93 520.547,174.102 525.913,162.019 531.28,148.589 536.646,133.716 \n",
       "  542.013,117.3 547.379,99.2362 552.746,79.4169 558.112,57.7288 559.764,50.6593 561.416,43.3981 563.067,35.9418 \n",
       "  \"/>\n",
       "</svg>\n"
      ]
     },
     "execution_count": 22,
     "metadata": {},
     "output_type": "execute_result"
    }
   ],
   "source": [
    "scatter(x, y, leg=false)\n",
    "for i = 1:m\n",
    "    plot!(t->y[i]*lag(t, i, x), x[1], x[end])\n",
    "end\n",
    "plot!()"
   ]
  },
  {
   "cell_type": "code",
   "execution_count": 23,
   "metadata": {
    "collapsed": false
   },
   "outputs": [
    {
     "data": {
      "text/plain": [
       "Lag (generic function with 1 method)"
      ]
     },
     "execution_count": 23,
     "metadata": {},
     "output_type": "execute_result"
    }
   ],
   "source": [
    "function Lag(x, xv, y)\n",
    "    s = 0.0\n",
    "    m = length(xv)\n",
    "    for i = 1:m\n",
    "        s += lag(x, i, xv)*y[i]\n",
    "    end\n",
    "    return s\n",
    "end"
   ]
  },
  {
   "cell_type": "code",
   "execution_count": 24,
   "metadata": {
    "collapsed": false
   },
   "outputs": [
    {
     "data": {
      "image/svg+xml": [
       "<?xml version=\"1.0\" encoding=\"utf-8\"?>\n",
       "<svg xmlns=\"http://www.w3.org/2000/svg\" xmlns:xlink=\"http://www.w3.org/1999/xlink\" width=\"600\" height=\"400\" viewBox=\"0 0 600 400\">\n",
       "<defs>\n",
       "  <clipPath id=\"clip0000\">\n",
       "    <rect x=\"0\" y=\"0\" width=\"600\" height=\"400\"/>\n",
       "  </clipPath>\n",
       "</defs>\n",
       "<polygon clip-path=\"url(#clip0000)\" points=\"\n",
       "0,400 600,400 600,0 0,0 \n",
       "  \" fill=\"#ffffff\" fill-opacity=\"1\"/>\n",
       "<defs>\n",
       "  <clipPath id=\"clip0001\">\n",
       "    <rect x=\"120\" y=\"0\" width=\"421\" height=\"400\"/>\n",
       "  </clipPath>\n",
       "</defs>\n",
       "<polygon clip-path=\"url(#clip0000)\" points=\"\n",
       "29.2591,375.813 580.315,375.813 580.315,11.811 29.2591,11.811 \n",
       "  \" fill=\"#ffffff\" fill-opacity=\"1\"/>\n",
       "<defs>\n",
       "  <clipPath id=\"clip0002\">\n",
       "    <rect x=\"29\" y=\"11\" width=\"552\" height=\"365\"/>\n",
       "  </clipPath>\n",
       "</defs>\n",
       "<polyline clip-path=\"url(#clip0002)\" style=\"stroke:#000000; stroke-width:0.5; stroke-opacity:0.1; fill:none\" points=\"\n",
       "  44.8551,375.813 44.8551,11.811 \n",
       "  \"/>\n",
       "<polyline clip-path=\"url(#clip0002)\" style=\"stroke:#000000; stroke-width:0.5; stroke-opacity:0.1; fill:none\" points=\"\n",
       "  174.821,375.813 174.821,11.811 \n",
       "  \"/>\n",
       "<polyline clip-path=\"url(#clip0002)\" style=\"stroke:#000000; stroke-width:0.5; stroke-opacity:0.1; fill:none\" points=\"\n",
       "  304.787,375.813 304.787,11.811 \n",
       "  \"/>\n",
       "<polyline clip-path=\"url(#clip0002)\" style=\"stroke:#000000; stroke-width:0.5; stroke-opacity:0.1; fill:none\" points=\"\n",
       "  434.753,375.813 434.753,11.811 \n",
       "  \"/>\n",
       "<polyline clip-path=\"url(#clip0002)\" style=\"stroke:#000000; stroke-width:0.5; stroke-opacity:0.1; fill:none\" points=\"\n",
       "  564.719,375.813 564.719,11.811 \n",
       "  \"/>\n",
       "<polyline clip-path=\"url(#clip0002)\" style=\"stroke:#000000; stroke-width:0.5; stroke-opacity:0.1; fill:none\" points=\"\n",
       "  29.2591,320.747 580.315,320.747 \n",
       "  \"/>\n",
       "<polyline clip-path=\"url(#clip0002)\" style=\"stroke:#000000; stroke-width:0.5; stroke-opacity:0.1; fill:none\" points=\"\n",
       "  29.2591,242.092 580.315,242.092 \n",
       "  \"/>\n",
       "<polyline clip-path=\"url(#clip0002)\" style=\"stroke:#000000; stroke-width:0.5; stroke-opacity:0.1; fill:none\" points=\"\n",
       "  29.2591,163.438 580.315,163.438 \n",
       "  \"/>\n",
       "<polyline clip-path=\"url(#clip0002)\" style=\"stroke:#000000; stroke-width:0.5; stroke-opacity:0.1; fill:none\" points=\"\n",
       "  29.2591,84.783 580.315,84.783 \n",
       "  \"/>\n",
       "<polyline clip-path=\"url(#clip0000)\" style=\"stroke:#000000; stroke-width:1; stroke-opacity:1; fill:none\" points=\"\n",
       "  29.2591,375.813 580.315,375.813 \n",
       "  \"/>\n",
       "<polyline clip-path=\"url(#clip0000)\" style=\"stroke:#000000; stroke-width:1; stroke-opacity:1; fill:none\" points=\"\n",
       "  29.2591,375.813 29.2591,11.811 \n",
       "  \"/>\n",
       "<polyline clip-path=\"url(#clip0000)\" style=\"stroke:#000000; stroke-width:1; stroke-opacity:1; fill:none\" points=\"\n",
       "  44.8551,375.813 44.8551,370.353 \n",
       "  \"/>\n",
       "<polyline clip-path=\"url(#clip0000)\" style=\"stroke:#000000; stroke-width:1; stroke-opacity:1; fill:none\" points=\"\n",
       "  174.821,375.813 174.821,370.353 \n",
       "  \"/>\n",
       "<polyline clip-path=\"url(#clip0000)\" style=\"stroke:#000000; stroke-width:1; stroke-opacity:1; fill:none\" points=\"\n",
       "  304.787,375.813 304.787,370.353 \n",
       "  \"/>\n",
       "<polyline clip-path=\"url(#clip0000)\" style=\"stroke:#000000; stroke-width:1; stroke-opacity:1; fill:none\" points=\"\n",
       "  434.753,375.813 434.753,370.353 \n",
       "  \"/>\n",
       "<polyline clip-path=\"url(#clip0000)\" style=\"stroke:#000000; stroke-width:1; stroke-opacity:1; fill:none\" points=\"\n",
       "  564.719,375.813 564.719,370.353 \n",
       "  \"/>\n",
       "<polyline clip-path=\"url(#clip0000)\" style=\"stroke:#000000; stroke-width:1; stroke-opacity:1; fill:none\" points=\"\n",
       "  29.2591,320.747 37.525,320.747 \n",
       "  \"/>\n",
       "<polyline clip-path=\"url(#clip0000)\" style=\"stroke:#000000; stroke-width:1; stroke-opacity:1; fill:none\" points=\"\n",
       "  29.2591,242.092 37.525,242.092 \n",
       "  \"/>\n",
       "<polyline clip-path=\"url(#clip0000)\" style=\"stroke:#000000; stroke-width:1; stroke-opacity:1; fill:none\" points=\"\n",
       "  29.2591,163.438 37.525,163.438 \n",
       "  \"/>\n",
       "<polyline clip-path=\"url(#clip0000)\" style=\"stroke:#000000; stroke-width:1; stroke-opacity:1; fill:none\" points=\"\n",
       "  29.2591,84.783 37.525,84.783 \n",
       "  \"/>\n",
       "<g clip-path=\"url(#clip0000)\">\n",
       "<text style=\"fill:#000000; fill-opacity:1; font-family:Arial,Helvetica Neue,Helvetica,sans-serif; font-size:12; text-anchor:middle;\" transform=\"rotate(0, 44.8551, 389.613)\" x=\"44.8551\" y=\"389.613\">0.00</text>\n",
       "</g>\n",
       "<g clip-path=\"url(#clip0000)\">\n",
       "<text style=\"fill:#000000; fill-opacity:1; font-family:Arial,Helvetica Neue,Helvetica,sans-serif; font-size:12; text-anchor:middle;\" transform=\"rotate(0, 174.821, 389.613)\" x=\"174.821\" y=\"389.613\">0.25</text>\n",
       "</g>\n",
       "<g clip-path=\"url(#clip0000)\">\n",
       "<text style=\"fill:#000000; fill-opacity:1; font-family:Arial,Helvetica Neue,Helvetica,sans-serif; font-size:12; text-anchor:middle;\" transform=\"rotate(0, 304.787, 389.613)\" x=\"304.787\" y=\"389.613\">0.50</text>\n",
       "</g>\n",
       "<g clip-path=\"url(#clip0000)\">\n",
       "<text style=\"fill:#000000; fill-opacity:1; font-family:Arial,Helvetica Neue,Helvetica,sans-serif; font-size:12; text-anchor:middle;\" transform=\"rotate(0, 434.753, 389.613)\" x=\"434.753\" y=\"389.613\">0.75</text>\n",
       "</g>\n",
       "<g clip-path=\"url(#clip0000)\">\n",
       "<text style=\"fill:#000000; fill-opacity:1; font-family:Arial,Helvetica Neue,Helvetica,sans-serif; font-size:12; text-anchor:middle;\" transform=\"rotate(0, 564.719, 389.613)\" x=\"564.719\" y=\"389.613\">1.00</text>\n",
       "</g>\n",
       "<g clip-path=\"url(#clip0000)\">\n",
       "<text style=\"fill:#000000; fill-opacity:1; font-family:Arial,Helvetica Neue,Helvetica,sans-serif; font-size:12; text-anchor:end;\" transform=\"rotate(0, 23.2591, 325.247)\" x=\"23.2591\" y=\"325.247\">-1</text>\n",
       "</g>\n",
       "<g clip-path=\"url(#clip0000)\">\n",
       "<text style=\"fill:#000000; fill-opacity:1; font-family:Arial,Helvetica Neue,Helvetica,sans-serif; font-size:12; text-anchor:end;\" transform=\"rotate(0, 23.2591, 246.592)\" x=\"23.2591\" y=\"246.592\">0</text>\n",
       "</g>\n",
       "<g clip-path=\"url(#clip0000)\">\n",
       "<text style=\"fill:#000000; fill-opacity:1; font-family:Arial,Helvetica Neue,Helvetica,sans-serif; font-size:12; text-anchor:end;\" transform=\"rotate(0, 23.2591, 167.938)\" x=\"23.2591\" y=\"167.938\">1</text>\n",
       "</g>\n",
       "<g clip-path=\"url(#clip0000)\">\n",
       "<text style=\"fill:#000000; fill-opacity:1; font-family:Arial,Helvetica Neue,Helvetica,sans-serif; font-size:12; text-anchor:end;\" transform=\"rotate(0, 23.2591, 89.283)\" x=\"23.2591\" y=\"89.283\">2</text>\n",
       "</g>\n",
       "<circle clip-path=\"url(#clip0002)\" style=\"fill:#000000; stroke:none; fill-opacity:1\" cx=\"44.8551\" cy=\"163.438\" r=\"4\"/>\n",
       "<circle clip-path=\"url(#clip0002)\" style=\"fill:#009af9; stroke:none; fill-opacity:1\" cx=\"44.8551\" cy=\"163.438\" r=\"3\"/>\n",
       "<circle clip-path=\"url(#clip0002)\" style=\"fill:#000000; stroke:none; fill-opacity:1\" cx=\"148.828\" cy=\"146.023\" r=\"4\"/>\n",
       "<circle clip-path=\"url(#clip0002)\" style=\"fill:#009af9; stroke:none; fill-opacity:1\" cx=\"148.828\" cy=\"146.023\" r=\"3\"/>\n",
       "<circle clip-path=\"url(#clip0002)\" style=\"fill:#000000; stroke:none; fill-opacity:1\" cx=\"252.801\" cy=\"124.753\" r=\"4\"/>\n",
       "<circle clip-path=\"url(#clip0002)\" style=\"fill:#009af9; stroke:none; fill-opacity:1\" cx=\"252.801\" cy=\"124.753\" r=\"3\"/>\n",
       "<circle clip-path=\"url(#clip0002)\" style=\"fill:#000000; stroke:none; fill-opacity:1\" cx=\"356.773\" cy=\"98.7742\" r=\"4\"/>\n",
       "<circle clip-path=\"url(#clip0002)\" style=\"fill:#009af9; stroke:none; fill-opacity:1\" cx=\"356.773\" cy=\"98.7742\" r=\"3\"/>\n",
       "<circle clip-path=\"url(#clip0002)\" style=\"fill:#000000; stroke:none; fill-opacity:1\" cx=\"460.746\" cy=\"67.0432\" r=\"4\"/>\n",
       "<circle clip-path=\"url(#clip0002)\" style=\"fill:#009af9; stroke:none; fill-opacity:1\" cx=\"460.746\" cy=\"67.0432\" r=\"3\"/>\n",
       "<circle clip-path=\"url(#clip0002)\" style=\"fill:#000000; stroke:none; fill-opacity:1\" cx=\"564.719\" cy=\"28.2868\" r=\"4\"/>\n",
       "<circle clip-path=\"url(#clip0002)\" style=\"fill:#009af9; stroke:none; fill-opacity:1\" cx=\"564.719\" cy=\"28.2868\" r=\"3\"/>\n",
       "<polyline clip-path=\"url(#clip0002)\" style=\"stroke:#e26f46; stroke-width:1; stroke-opacity:1; fill:none\" points=\"\n",
       "  46.1243,165.608 47.3935,167.735 48.6627,169.82 49.932,171.862 55.7999,180.773 61.6678,188.851 67.5357,196.153 73.4036,202.73 79.2715,208.632 85.1394,213.907 \n",
       "  91.0073,218.602 96.8752,222.758 103.928,227.102 110.981,230.798 118.033,233.91 125.086,236.5 131.049,238.324 137.012,239.847 142.975,241.099 148.938,242.109 \n",
       "  161.893,243.596 174.848,244.311 186.791,244.471 198.735,244.298 224.344,243.328 254.014,242.047 280.382,241.326 303.504,241.167 328.714,241.448 354.073,242.024 \n",
       "  382.11,242.684 408.788,243.014 436.526,242.798 459.875,242.125 488.383,240.894 515.18,239.877 558.112,241.219 \n",
       "  \"/>\n",
       "<polyline clip-path=\"url(#clip0002)\" style=\"stroke:#3da44d; stroke-width:1; stroke-opacity:1; fill:none\" points=\"\n",
       "  46.1243,236.32 47.3935,230.728 48.6627,225.314 49.932,220.075 52.8659,208.614 55.7999,198.034 58.7338,188.299 61.6678,179.374 64.6017,171.225 67.5357,163.818 \n",
       "  70.4696,157.122 73.4036,151.105 76.3375,145.736 79.2715,140.984 82.2054,136.822 85.1394,133.219 88.0733,130.149 91.0073,127.584 93.9413,125.499 96.8752,123.866 \n",
       "  100.402,122.469 103.928,121.649 107.454,121.366 110.981,121.58 118.033,123.352 125.086,126.681 131.049,130.515 137.012,135.124 142.975,140.373 148.938,146.134 \n",
       "  174.848,174.398 198.735,200.556 205.137,207.015 211.539,213.13 217.942,218.857 224.344,224.162 231.761,229.745 239.179,234.696 246.597,238.998 254.014,242.644 \n",
       "  260.606,245.34 267.198,247.532 273.79,249.237 280.382,250.477 291.943,251.604 303.504,251.545 316.109,250.365 328.714,248.299 341.393,245.64 354.073,242.718 \n",
       "  368.092,239.561 382.11,236.865 395.449,235.049 408.788,234.211 422.657,234.556 436.526,236.222 448.201,238.622 459.875,241.826 474.129,246.546 488.383,251.65 \n",
       "  501.781,256.128 515.18,259.458 520.547,260.244 525.913,260.606 531.28,260.46 536.646,259.717 542.013,258.283 547.379,256.056 552.746,252.926 558.112,248.779 \n",
       "  559.764,247.279 561.416,245.667 563.067,243.939 \n",
       "  \"/>\n",
       "<polyline clip-path=\"url(#clip0002)\" style=\"stroke:#c271d2; stroke-width:1; stroke-opacity:1; fill:none\" points=\"\n",
       "  46.1243,249.099 47.3935,255.801 48.6627,262.203 49.932,268.312 52.8659,281.344 55.7999,292.915 58.7338,303.097 61.6678,311.958 64.6017,319.568 67.5357,325.993 \n",
       "  70.4696,331.295 73.4036,335.54 76.3375,338.786 79.2715,341.093 82.2054,342.519 85.1394,343.119 88.0733,342.948 91.0073,342.057 93.9413,340.498 96.8752,338.319 \n",
       "  100.402,334.947 103.928,330.829 107.454,326.041 110.981,320.655 114.507,314.743 118.033,308.371 121.56,301.604 125.086,294.502 137.012,268.757 148.938,241.844 \n",
       "  155.416,227.343 161.893,213.222 168.371,199.682 174.848,186.895 180.82,175.903 186.791,165.777 192.763,156.598 198.735,148.433 205.137,140.864 211.539,134.563 \n",
       "  217.942,129.558 224.344,125.858 231.761,123.197 239.179,122.248 242.888,122.397 246.597,122.952 250.306,123.9 254.014,125.23 260.606,128.495 267.198,132.842 \n",
       "  273.79,138.179 280.382,144.406 286.163,150.512 291.943,157.142 297.724,164.215 303.504,171.649 316.109,188.697 328.714,206.163 341.393,223.253 354.073,238.993 \n",
       "  361.082,246.816 368.092,253.853 375.101,259.991 382.11,265.128 388.78,269.006 395.449,271.837 402.118,273.572 408.788,274.177 415.722,273.593 422.657,271.772 \n",
       "  429.591,268.741 436.526,264.547 442.363,260.17 448.201,255.08 454.038,249.35 459.875,243.07 474.129,226.104 488.383,208.442 495.082,200.604 501.781,193.487 \n",
       "  508.481,187.443 515.18,182.861 520.547,180.532 525.913,179.651 528.596,179.833 531.28,180.473 533.963,181.606 536.646,183.267 539.329,185.493 542.013,188.322 \n",
       "  544.696,191.792 547.379,195.943 550.062,200.816 552.746,206.453 555.429,212.899 558.112,220.197 559.764,225.133 561.416,230.42 563.067,236.069 \n",
       "  \"/>\n",
       "<polyline clip-path=\"url(#clip0002)\" style=\"stroke:#ac8d18; stroke-width:1; stroke-opacity:1; fill:none\" points=\"\n",
       "  46.1243,236.398 47.3935,230.976 48.6627,225.818 49.932,220.919 52.8659,210.552 55.7999,201.461 58.7338,193.575 61.6678,186.823 64.6017,181.138 67.5357,176.454 \n",
       "  70.4696,172.706 73.4036,169.834 76.3375,167.777 79.2715,166.478 82.2054,165.88 85.1394,165.929 91.0073,167.762 96.8752,171.58 103.928,178.278 110.981,186.726 \n",
       "  118.033,196.395 125.086,206.806 137.012,224.933 148.938,242.244 155.416,250.805 161.893,258.541 168.371,265.306 174.848,270.98 180.82,275.165 186.791,278.29 \n",
       "  192.763,280.317 198.735,281.228 205.137,280.956 211.539,279.406 217.942,276.605 224.344,272.599 231.761,266.532 239.179,259.048 246.597,250.286 254.014,240.406 \n",
       "  267.198,220.645 280.382,199.013 291.943,179.446 303.504,160.197 309.807,150.138 316.109,140.56 322.411,131.594 328.714,123.368 335.053,115.964 341.393,109.552 \n",
       "  347.733,104.241 354.073,100.135 361.082,97.1063 368.092,95.7685 375.101,96.2101 382.11,98.4986 388.78,102.432 395.449,108.095 402.118,115.483 408.788,124.568 \n",
       "  415.722,135.757 422.657,148.631 429.591,163.069 436.526,178.91 442.363,193.191 448.201,208.19 454.038,223.751 459.875,239.693 467.002,259.38 474.129,278.922 \n",
       "  481.256,297.857 488.383,315.663 491.732,323.481 495.082,330.86 498.432,337.731 501.781,344.026 505.131,349.67 508.481,354.588 511.83,358.699 515.18,361.922 \n",
       "  517.863,363.805 520.547,365.017 523.23,365.511 525.913,365.24 528.596,364.152 531.28,362.197 533.963,359.322 536.646,355.474 539.329,350.596 542.013,344.631 \n",
       "  544.696,337.522 547.379,329.208 550.062,319.627 552.746,308.717 555.429,296.412 558.112,282.647 559.764,273.417 561.416,263.593 563.067,253.157 \n",
       "  \"/>\n",
       "<polyline clip-path=\"url(#clip0002)\" style=\"stroke:#00a9ad; stroke-width:1; stroke-opacity:1; fill:none\" points=\"\n",
       "  46.1243,244.698 47.3935,247.174 48.6627,249.524 49.932,251.75 55.7999,260.535 61.6678,267.052 67.5357,271.579 73.4036,274.375 79.2715,275.684 85.1394,275.73 \n",
       "  91.0073,274.721 96.8752,272.85 110.981,265.853 125.086,256.967 137.012,249.206 148.938,242.031 161.893,235.542 174.848,230.866 186.791,228.376 198.735,227.676 \n",
       "  211.539,228.812 224.344,231.656 239.179,236.597 254.014,242.604 267.198,248.154 280.382,253.235 291.943,256.786 303.504,259.036 316.109,259.525 328.714,257.501 \n",
       "  335.053,255.403 341.393,252.523 347.733,248.827 354.073,244.287 361.082,238.265 368.092,231.177 375.101,223.028 382.11,213.837 388.78,204.16 395.449,193.623 \n",
       "  402.118,182.29 408.788,170.243 436.526,115.039 459.875,68.6392 467.002,56.0697 474.129,44.8541 481.256,35.394 488.383,28.1285 495.082,23.7259 501.781,22.113 \n",
       "  505.131,22.4954 508.481,23.7506 511.83,25.9415 515.18,29.1329 517.863,32.4562 520.547,36.5 523.23,41.3008 525.913,46.8958 528.596,53.3233 531.28,60.6226 \n",
       "  533.963,68.8337 536.646,77.9978 539.329,88.1571 542.013,99.3545 544.696,111.634 547.379,125.041 550.062,139.621 552.746,155.422 555.429,172.492 558.112,190.879 \n",
       "  559.764,202.875 561.416,215.401 563.067,228.469 \n",
       "  \"/>\n",
       "<polyline clip-path=\"url(#clip0002)\" style=\"stroke:#ed5d92; stroke-width:1; stroke-opacity:1; fill:none\" points=\"\n",
       "  49.932,240.21 96.8752,236.249 125.086,239.318 148.938,242.104 174.848,244.103 198.735,244.613 224.344,243.863 254.014,242.009 280.382,240.366 303.504,239.601 \n",
       "  328.714,239.987 354.073,241.821 382.11,245.065 408.788,247.941 422.657,248.559 436.526,247.956 448.201,246.061 459.875,242.444 467.002,239.183 474.129,234.975 \n",
       "  481.256,229.685 488.383,223.17 495.082,215.791 501.781,207.056 508.481,196.821 515.18,184.93 520.547,174.102 525.913,162.019 531.28,148.589 536.646,133.716 \n",
       "  542.013,117.3 547.379,99.2362 552.746,79.4169 558.112,57.7288 559.764,50.6593 561.416,43.3981 563.067,35.9418 \n",
       "  \"/>\n",
       "<polyline clip-path=\"url(#clip0002)\" style=\"stroke:#000000; stroke-width:2; stroke-opacity:1; fill:none\" points=\"\n",
       "  49.932,162.666 96.8752,155.16 125.086,150.312 148.938,146.003 174.848,141.093 198.735,136.344 224.344,131.004 254.014,124.479 280.382,118.36 303.504,112.732 \n",
       "  328.714,106.305 354.073,99.5169 382.11,91.6163 408.788,83.6929 436.526,75.0117 459.875,67.3362 488.383,57.4856 515.18,47.72 558.112,30.9868 \n",
       "  \"/>\n",
       "</svg>\n"
      ]
     },
     "execution_count": 24,
     "metadata": {},
     "output_type": "execute_result"
    }
   ],
   "source": [
    "plot!(t->Lag(t, x, y), x[1], x[end], c=:black, lw=2)"
   ]
  },
  {
   "cell_type": "code",
   "execution_count": 25,
   "metadata": {
    "collapsed": false
   },
   "outputs": [
    {
     "ename": "LoadError",
     "evalue": "\u001b[91mArgumentError: Module Interact not found in current path.\nRun `Pkg.add(\"Interact\")` to install the Interact package.\u001b[39m",
     "output_type": "error",
     "traceback": [
      "\u001b[91mArgumentError: Module Interact not found in current path.\nRun `Pkg.add(\"Interact\")` to install the Interact package.\u001b[39m",
      "",
      "Stacktrace:",
      " [1] \u001b[1m_require\u001b[22m\u001b[22m\u001b[1m(\u001b[22m\u001b[22m::Symbol\u001b[1m)\u001b[22m\u001b[22m at \u001b[1m./loading.jl:435\u001b[22m\u001b[22m",
      " [2] \u001b[1mrequire\u001b[22m\u001b[22m\u001b[1m(\u001b[22m\u001b[22m::Symbol\u001b[1m)\u001b[22m\u001b[22m at \u001b[1m./loading.jl:405\u001b[22m\u001b[22m"
     ]
    }
   ],
   "source": [
    "using Interact\n",
    "\n",
    "@manipulate for m = 3:10\n",
    "    x = collect(linspace(-2, 2, m))\n",
    "    f(x) = sin(pi*x)\n",
    "    y = f(x)\n",
    "    scatter(x, y)\n",
    "    plot!(f, x[1], x[end], c=:blue)\n",
    "    plot!(t->Lag(t, x, y), x[1], x[end], c=:red)\n",
    "end"
   ]
  },
  {
   "cell_type": "markdown",
   "metadata": {},
   "source": [
    "Um fator importante da teoria, todos os polinômios obtidos do mesmo grau passando no mesmo ponto são iguais.\n",
    "Isso quer dizer que não importa o método de obtenção, desde que ele interpole aqueles pontos e tenha o mesmo grau.\n",
    "\n",
    "O polinômio de Lagrange é bastante útil na teoria, pois dá uma maneira simples e bonita de usar os polinômios.\n",
    "Uma maneira de pensar nessa interpolação é que a base de interpolação é $\\{\\ell_1, \\dots, \\ell_m\\}$, e nessa\n",
    "base montamos a matriz do sistema linear."
   ]
  },
  {
   "cell_type": "markdown",
   "metadata": {},
   "source": [
    "## Polinômio de Newton - Diferenças Divididas"
   ]
  },
  {
   "cell_type": "markdown",
   "metadata": {},
   "source": [
    "Apesar de ser útil na teoria, o polinômio de Lagrange não é muito fácil de calcular ou eficiente em memória.\n",
    "Para isso, existe outra maneira de expressar os polinômios: a forma de Newton."
   ]
  },
  {
   "cell_type": "markdown",
   "metadata": {},
   "source": [
    "Dado os pontos $(x_i,y_i), i = 1,\\dots,m$, existem $a_1,\\dots,a_m$ tais que\n",
    "$$P(x) = a_1 + a_2(x-x_1) + a_3(x-x_1)(x - x_2) + \\dots + a_m(x-x_1)(x-x_2)\\dots(x-x_{m-1})$$\n",
    "interpola esses pontos, i.e., $P(x_i) = y_i$."
   ]
  },
  {
   "cell_type": "markdown",
   "metadata": {},
   "source": [
    "Uma característica interessante dessa forma é que, ao escrever as condições $P(x_i) = y_i$, o sistema linear para encontrar $a_i$ se mostra trivial, pois todos os termos $a_j$ com $j < i$ podem ser determinados antes dessa equação, e todos os termos $a_j$ com $j > i$ não irão aparecer no sistema."
   ]
  },
  {
   "cell_type": "markdown",
   "metadata": {},
   "source": [
    "$$y_1 = P(x_1) = a_1 \\qquad \\Rightarrow \\qquad\n",
    "a_1 = y_1. $$\n",
    "$$y_2 = P(x_2) = a_1 + a_2(x_2-x_1) = y_1 + a_2(x_2-x_1) \\qquad\n",
    "\\Rightarrow \\qquad\n",
    "a_2 = \\frac{y_2 - y_1}{x_2 - x_1}. $$\n",
    "$$y_3 = P(x_3) = a_1 + a_2(x_3-x_1) + a_3(x_3-x_1)(x_3-x_2) = \\\\\n",
    "y_1 + \\frac{y_2-y_1}{x_2-x_1}(x_3-x_1) + a_3(x_3-x_1)(x_3-x_2).\n",
    "$$"
   ]
  },
  {
   "cell_type": "markdown",
   "metadata": {},
   "source": [
    "E essa seria uma maneira de resolver o sistema.\n",
    "Na prática, no entanto, existe uma maneira ainda mais fácil."
   ]
  },
  {
   "cell_type": "markdown",
   "metadata": {},
   "source": [
    "**Def.:** A diferença dividida de ordem 0 em $x_i$ é dada por\n",
    "$$ f[x_i] = y_i. $$\n",
    "\n",
    "**Def.:** A diferença dividida de ordem $k$ em $x_i, x_{i+1}, \\dots, x_{i+k}$ é dada por\n",
    "$$ f[x_i,x_{i+1},\\dots,x_{i+k}] = \\frac{ f[x_{i+1},\\dots,x_{i+k}] - f[x_i,\\dots,x_{i+k-1}]}{x_{i+k} - x_i}. $$"
   ]
  },
  {
   "cell_type": "markdown",
   "metadata": {},
   "source": [
    "É trivial ver que a diferença de ordem 1 é a inclinação da reta que passa em $(x_i,y_i)$ e $(x_{i+1},y_{i+1})$. Veja que\n",
    "$$ a_1 = f[x_1], $$\n",
    "e\n",
    "$$ a_2 = f[x_1,x_2]. $$\n",
    "Com um certo trabalho algébrico, é possível mostrar que\n",
    "$$ a_k = f[x_1,x_2,\\dots,x_k]. $$"
   ]
  },
  {
   "cell_type": "markdown",
   "metadata": {},
   "source": [
    "Note que precisamos calcular uma \"árvore\" de diferenças divididas.\n",
    "Uma maneira de fazer isso é usar um tipo de tabela."
   ]
  },
  {
   "cell_type": "markdown",
   "metadata": {},
   "source": [
    "x_k | Ordem 0 | Ordem 1    | Ordem 2\n",
    "----|---------|------------|\n",
    "x_1 |   y_1   |\n",
    "    |         | f[x_1,x_2]\n",
    "x_2 |   y_2   |            | f[x_1,x_2,x_3]\n",
    "    |         | f[x_2,x_3]\n",
    "x_3 |   y_3   |\n",
    "\n",
    "Obs.: Fazer no quadro, porque aqui fica difícil."
   ]
  },
  {
   "cell_type": "markdown",
   "metadata": {},
   "source": [
    "Para armazenar esses valores, vamos usar uma matriz (metade de uma matriz na verdade)."
   ]
  },
  {
   "cell_type": "markdown",
   "metadata": {},
   "source": [
    "$$ D = \\left[\\begin{array}{cccc}\n",
    "y_1 & f[x_1,x_2] & f[x_1,x_2,x_3] & f[x_1,x_2,x_3,x_4] \\\\\n",
    "y_2 & f[x_2,x_3] & f[x_2,x_3,x_4] \\\\\n",
    "y_3 & f[x_3,x_4] \\\\\n",
    "y_4\n",
    "\\end{array}\\right]\n",
    "$$"
   ]
  },
  {
   "cell_type": "markdown",
   "metadata": {},
   "source": [
    "Fica fácil ver que\n",
    "$$ D_{i,j} = \\frac{D_{i+1,j-1} - D_{i,j-1}}{x_{i+j-1} - x_i} $$"
   ]
  },
  {
   "cell_type": "code",
   "execution_count": 26,
   "metadata": {
    "collapsed": false
   },
   "outputs": [
    {
     "data": {
      "text/plain": [
       "difdiv (generic function with 1 method)"
      ]
     },
     "execution_count": 26,
     "metadata": {},
     "output_type": "execute_result"
    }
   ],
   "source": [
    "function difdiv(x, y)\n",
    "end"
   ]
  },
  {
   "cell_type": "code",
   "execution_count": 27,
   "metadata": {
    "collapsed": false
   },
   "outputs": [
    {
     "data": {
      "text/plain": [
       "difdiv_eval (generic function with 1 method)"
      ]
     },
     "execution_count": 27,
     "metadata": {},
     "output_type": "execute_result"
    }
   ],
   "source": [
    "function difdiv_eval(t, a, x)\n",
    "end"
   ]
  },
  {
   "cell_type": "markdown",
   "metadata": {},
   "source": [
    "$$ P(x) = a_1 + (x-x_1)[a_2 + (x-x_2)[a_3 + a_4(x-x_3)]]. $$"
   ]
  },
  {
   "cell_type": "code",
   "execution_count": 28,
   "metadata": {
    "collapsed": false
   },
   "outputs": [
    {
     "name": "stderr",
     "output_type": "stream",
     "text": [
      "\u001b[1m\u001b[33mWARNING: \u001b[39m\u001b[22m\u001b[33mexp(x::AbstractArray{T}) where T <: Number is deprecated, use exp.(x) instead.\u001b[39m\n",
      "Stacktrace:\n",
      " [1] \u001b[1mdepwarn\u001b[22m\u001b[22m\u001b[1m(\u001b[22m\u001b[22m::String, ::Symbol\u001b[1m)\u001b[22m\u001b[22m at \u001b[1m./deprecated.jl:70\u001b[22m\u001b[22m\n",
      " [2] \u001b[1mexp\u001b[22m\u001b[22m\u001b[1m(\u001b[22m\u001b[22m::Array{Float64,1}\u001b[1m)\u001b[22m\u001b[22m at \u001b[1m./deprecated.jl:57\u001b[22m\u001b[22m\n",
      " [3] \u001b[1minclude_string\u001b[22m\u001b[22m\u001b[1m(\u001b[22m\u001b[22m::String, ::String\u001b[1m)\u001b[22m\u001b[22m at \u001b[1m./loading.jl:522\u001b[22m\u001b[22m\n",
      " [4] \u001b[1mexecute_request\u001b[22m\u001b[22m\u001b[1m(\u001b[22m\u001b[22m::ZMQ.Socket, ::IJulia.Msg\u001b[1m)\u001b[22m\u001b[22m at \u001b[1m/home/jmarcellopereira/.julia/v0.6/IJulia/src/execute_request.jl:158\u001b[22m\u001b[22m\n",
      " [5] \u001b[1m(::Compat.#inner#18{Array{Any,1},IJulia.#execute_request,Tuple{ZMQ.Socket,IJulia.Msg}})\u001b[22m\u001b[22m\u001b[1m(\u001b[22m\u001b[22m\u001b[1m)\u001b[22m\u001b[22m at \u001b[1m/home/jmarcellopereira/.julia/v0.6/Compat/src/Compat.jl:378\u001b[22m\u001b[22m\n",
      " [6] \u001b[1meventloop\u001b[22m\u001b[22m\u001b[1m(\u001b[22m\u001b[22m::ZMQ.Socket\u001b[1m)\u001b[22m\u001b[22m at \u001b[1m/home/jmarcellopereira/.julia/v0.6/IJulia/src/eventloop.jl:8\u001b[22m\u001b[22m\n",
      " [7] \u001b[1m(::IJulia.##14#17)\u001b[22m\u001b[22m\u001b[1m(\u001b[22m\u001b[22m\u001b[1m)\u001b[22m\u001b[22m at \u001b[1m./task.jl:335\u001b[22m\u001b[22m\n",
      "while loading In[28], in expression starting on line 2\n"
     ]
    },
    {
     "data": {
      "image/svg+xml": [
       "<?xml version=\"1.0\" encoding=\"utf-8\"?>\n",
       "<svg xmlns=\"http://www.w3.org/2000/svg\" xmlns:xlink=\"http://www.w3.org/1999/xlink\" width=\"600\" height=\"400\" viewBox=\"0 0 600 400\">\n",
       "<defs>\n",
       "  <clipPath id=\"clip0200\">\n",
       "    <rect x=\"0\" y=\"0\" width=\"600\" height=\"400\"/>\n",
       "  </clipPath>\n",
       "</defs>\n",
       "<polygon clip-path=\"url(#clip0200)\" points=\"\n",
       "0,400 600,400 600,0 0,0 \n",
       "  \" fill=\"#ffffff\" fill-opacity=\"1\"/>\n",
       "<defs>\n",
       "  <clipPath id=\"clip0201\">\n",
       "    <rect x=\"120\" y=\"0\" width=\"421\" height=\"400\"/>\n",
       "  </clipPath>\n",
       "</defs>\n",
       "<polygon clip-path=\"url(#clip0200)\" points=\"\n",
       "22.3377,375.813 580.315,375.813 580.315,11.811 22.3377,11.811 \n",
       "  \" fill=\"#ffffff\" fill-opacity=\"1\"/>\n",
       "<defs>\n",
       "  <clipPath id=\"clip0202\">\n",
       "    <rect x=\"22\" y=\"11\" width=\"559\" height=\"365\"/>\n",
       "  </clipPath>\n",
       "</defs>\n",
       "<polyline clip-path=\"url(#clip0202)\" style=\"stroke:#000000; stroke-width:0.5; stroke-opacity:0.1; fill:none\" points=\"\n",
       "  38.1295,375.813 38.1295,11.811 \n",
       "  \"/>\n",
       "<polyline clip-path=\"url(#clip0202)\" style=\"stroke:#000000; stroke-width:0.5; stroke-opacity:0.1; fill:none\" points=\"\n",
       "  169.728,375.813 169.728,11.811 \n",
       "  \"/>\n",
       "<polyline clip-path=\"url(#clip0202)\" style=\"stroke:#000000; stroke-width:0.5; stroke-opacity:0.1; fill:none\" points=\"\n",
       "  301.326,375.813 301.326,11.811 \n",
       "  \"/>\n",
       "<polyline clip-path=\"url(#clip0202)\" style=\"stroke:#000000; stroke-width:0.5; stroke-opacity:0.1; fill:none\" points=\"\n",
       "  432.925,375.813 432.925,11.811 \n",
       "  \"/>\n",
       "<polyline clip-path=\"url(#clip0202)\" style=\"stroke:#000000; stroke-width:0.5; stroke-opacity:0.1; fill:none\" points=\"\n",
       "  564.523,375.813 564.523,11.811 \n",
       "  \"/>\n",
       "<polyline clip-path=\"url(#clip0202)\" style=\"stroke:#000000; stroke-width:0.5; stroke-opacity:0.1; fill:none\" points=\"\n",
       "  22.3377,365.511 580.315,365.511 \n",
       "  \"/>\n",
       "<polyline clip-path=\"url(#clip0202)\" style=\"stroke:#000000; stroke-width:0.5; stroke-opacity:0.1; fill:none\" points=\"\n",
       "  22.3377,311.764 580.315,311.764 \n",
       "  \"/>\n",
       "<polyline clip-path=\"url(#clip0202)\" style=\"stroke:#000000; stroke-width:0.5; stroke-opacity:0.1; fill:none\" points=\"\n",
       "  22.3377,258.016 580.315,258.016 \n",
       "  \"/>\n",
       "<polyline clip-path=\"url(#clip0202)\" style=\"stroke:#000000; stroke-width:0.5; stroke-opacity:0.1; fill:none\" points=\"\n",
       "  22.3377,204.268 580.315,204.268 \n",
       "  \"/>\n",
       "<polyline clip-path=\"url(#clip0202)\" style=\"stroke:#000000; stroke-width:0.5; stroke-opacity:0.1; fill:none\" points=\"\n",
       "  22.3377,150.52 580.315,150.52 \n",
       "  \"/>\n",
       "<polyline clip-path=\"url(#clip0202)\" style=\"stroke:#000000; stroke-width:0.5; stroke-opacity:0.1; fill:none\" points=\"\n",
       "  22.3377,96.7719 580.315,96.7719 \n",
       "  \"/>\n",
       "<polyline clip-path=\"url(#clip0202)\" style=\"stroke:#000000; stroke-width:0.5; stroke-opacity:0.1; fill:none\" points=\"\n",
       "  22.3377,43.0239 580.315,43.0239 \n",
       "  \"/>\n",
       "<polyline clip-path=\"url(#clip0200)\" style=\"stroke:#000000; stroke-width:1; stroke-opacity:1; fill:none\" points=\"\n",
       "  22.3377,375.813 580.315,375.813 \n",
       "  \"/>\n",
       "<polyline clip-path=\"url(#clip0200)\" style=\"stroke:#000000; stroke-width:1; stroke-opacity:1; fill:none\" points=\"\n",
       "  22.3377,375.813 22.3377,11.811 \n",
       "  \"/>\n",
       "<polyline clip-path=\"url(#clip0200)\" style=\"stroke:#000000; stroke-width:1; stroke-opacity:1; fill:none\" points=\"\n",
       "  38.1295,375.813 38.1295,370.353 \n",
       "  \"/>\n",
       "<polyline clip-path=\"url(#clip0200)\" style=\"stroke:#000000; stroke-width:1; stroke-opacity:1; fill:none\" points=\"\n",
       "  169.728,375.813 169.728,370.353 \n",
       "  \"/>\n",
       "<polyline clip-path=\"url(#clip0200)\" style=\"stroke:#000000; stroke-width:1; stroke-opacity:1; fill:none\" points=\"\n",
       "  301.326,375.813 301.326,370.353 \n",
       "  \"/>\n",
       "<polyline clip-path=\"url(#clip0200)\" style=\"stroke:#000000; stroke-width:1; stroke-opacity:1; fill:none\" points=\"\n",
       "  432.925,375.813 432.925,370.353 \n",
       "  \"/>\n",
       "<polyline clip-path=\"url(#clip0200)\" style=\"stroke:#000000; stroke-width:1; stroke-opacity:1; fill:none\" points=\"\n",
       "  564.523,375.813 564.523,370.353 \n",
       "  \"/>\n",
       "<polyline clip-path=\"url(#clip0200)\" style=\"stroke:#000000; stroke-width:1; stroke-opacity:1; fill:none\" points=\"\n",
       "  22.3377,365.511 30.7073,365.511 \n",
       "  \"/>\n",
       "<polyline clip-path=\"url(#clip0200)\" style=\"stroke:#000000; stroke-width:1; stroke-opacity:1; fill:none\" points=\"\n",
       "  22.3377,311.764 30.7073,311.764 \n",
       "  \"/>\n",
       "<polyline clip-path=\"url(#clip0200)\" style=\"stroke:#000000; stroke-width:1; stroke-opacity:1; fill:none\" points=\"\n",
       "  22.3377,258.016 30.7073,258.016 \n",
       "  \"/>\n",
       "<polyline clip-path=\"url(#clip0200)\" style=\"stroke:#000000; stroke-width:1; stroke-opacity:1; fill:none\" points=\"\n",
       "  22.3377,204.268 30.7073,204.268 \n",
       "  \"/>\n",
       "<polyline clip-path=\"url(#clip0200)\" style=\"stroke:#000000; stroke-width:1; stroke-opacity:1; fill:none\" points=\"\n",
       "  22.3377,150.52 30.7073,150.52 \n",
       "  \"/>\n",
       "<polyline clip-path=\"url(#clip0200)\" style=\"stroke:#000000; stroke-width:1; stroke-opacity:1; fill:none\" points=\"\n",
       "  22.3377,96.7719 30.7073,96.7719 \n",
       "  \"/>\n",
       "<polyline clip-path=\"url(#clip0200)\" style=\"stroke:#000000; stroke-width:1; stroke-opacity:1; fill:none\" points=\"\n",
       "  22.3377,43.0239 30.7073,43.0239 \n",
       "  \"/>\n",
       "<g clip-path=\"url(#clip0200)\">\n",
       "<text style=\"fill:#000000; fill-opacity:1; font-family:Arial,Helvetica Neue,Helvetica,sans-serif; font-size:12; text-anchor:middle;\" transform=\"rotate(0, 38.1295, 389.613)\" x=\"38.1295\" y=\"389.613\">0.0</text>\n",
       "</g>\n",
       "<g clip-path=\"url(#clip0200)\">\n",
       "<text style=\"fill:#000000; fill-opacity:1; font-family:Arial,Helvetica Neue,Helvetica,sans-serif; font-size:12; text-anchor:middle;\" transform=\"rotate(0, 169.728, 389.613)\" x=\"169.728\" y=\"389.613\">0.5</text>\n",
       "</g>\n",
       "<g clip-path=\"url(#clip0200)\">\n",
       "<text style=\"fill:#000000; fill-opacity:1; font-family:Arial,Helvetica Neue,Helvetica,sans-serif; font-size:12; text-anchor:middle;\" transform=\"rotate(0, 301.326, 389.613)\" x=\"301.326\" y=\"389.613\">1.0</text>\n",
       "</g>\n",
       "<g clip-path=\"url(#clip0200)\">\n",
       "<text style=\"fill:#000000; fill-opacity:1; font-family:Arial,Helvetica Neue,Helvetica,sans-serif; font-size:12; text-anchor:middle;\" transform=\"rotate(0, 432.925, 389.613)\" x=\"432.925\" y=\"389.613\">1.5</text>\n",
       "</g>\n",
       "<g clip-path=\"url(#clip0200)\">\n",
       "<text style=\"fill:#000000; fill-opacity:1; font-family:Arial,Helvetica Neue,Helvetica,sans-serif; font-size:12; text-anchor:middle;\" transform=\"rotate(0, 564.523, 389.613)\" x=\"564.523\" y=\"389.613\">2.0</text>\n",
       "</g>\n",
       "<g clip-path=\"url(#clip0200)\">\n",
       "<text style=\"fill:#000000; fill-opacity:1; font-family:Arial,Helvetica Neue,Helvetica,sans-serif; font-size:12; text-anchor:end;\" transform=\"rotate(0, 16.3377, 370.011)\" x=\"16.3377\" y=\"370.011\">1</text>\n",
       "</g>\n",
       "<g clip-path=\"url(#clip0200)\">\n",
       "<text style=\"fill:#000000; fill-opacity:1; font-family:Arial,Helvetica Neue,Helvetica,sans-serif; font-size:12; text-anchor:end;\" transform=\"rotate(0, 16.3377, 316.264)\" x=\"16.3377\" y=\"316.264\">2</text>\n",
       "</g>\n",
       "<g clip-path=\"url(#clip0200)\">\n",
       "<text style=\"fill:#000000; fill-opacity:1; font-family:Arial,Helvetica Neue,Helvetica,sans-serif; font-size:12; text-anchor:end;\" transform=\"rotate(0, 16.3377, 262.516)\" x=\"16.3377\" y=\"262.516\">3</text>\n",
       "</g>\n",
       "<g clip-path=\"url(#clip0200)\">\n",
       "<text style=\"fill:#000000; fill-opacity:1; font-family:Arial,Helvetica Neue,Helvetica,sans-serif; font-size:12; text-anchor:end;\" transform=\"rotate(0, 16.3377, 208.768)\" x=\"16.3377\" y=\"208.768\">4</text>\n",
       "</g>\n",
       "<g clip-path=\"url(#clip0200)\">\n",
       "<text style=\"fill:#000000; fill-opacity:1; font-family:Arial,Helvetica Neue,Helvetica,sans-serif; font-size:12; text-anchor:end;\" transform=\"rotate(0, 16.3377, 155.02)\" x=\"16.3377\" y=\"155.02\">5</text>\n",
       "</g>\n",
       "<g clip-path=\"url(#clip0200)\">\n",
       "<text style=\"fill:#000000; fill-opacity:1; font-family:Arial,Helvetica Neue,Helvetica,sans-serif; font-size:12; text-anchor:end;\" transform=\"rotate(0, 16.3377, 101.272)\" x=\"16.3377\" y=\"101.272\">6</text>\n",
       "</g>\n",
       "<g clip-path=\"url(#clip0200)\">\n",
       "<text style=\"fill:#000000; fill-opacity:1; font-family:Arial,Helvetica Neue,Helvetica,sans-serif; font-size:12; text-anchor:end;\" transform=\"rotate(0, 16.3377, 47.5239)\" x=\"16.3377\" y=\"47.5239\">7</text>\n",
       "</g>\n",
       "<circle clip-path=\"url(#clip0202)\" style=\"fill:#000000; stroke:none; fill-opacity:1\" cx=\"38.1295\" cy=\"365.511\" r=\"4\"/>\n",
       "<circle clip-path=\"url(#clip0202)\" style=\"fill:#009af9; stroke:none; fill-opacity:1\" cx=\"38.1295\" cy=\"365.511\" r=\"3\"/>\n",
       "<circle clip-path=\"url(#clip0202)\" style=\"fill:#000000; stroke:none; fill-opacity:1\" cx=\"301.326\" cy=\"273.157\" r=\"4\"/>\n",
       "<circle clip-path=\"url(#clip0202)\" style=\"fill:#009af9; stroke:none; fill-opacity:1\" cx=\"301.326\" cy=\"273.157\" r=\"3\"/>\n",
       "<circle clip-path=\"url(#clip0202)\" style=\"fill:#000000; stroke:none; fill-opacity:1\" cx=\"564.523\" cy=\"22.113\" r=\"4\"/>\n",
       "<circle clip-path=\"url(#clip0202)\" style=\"fill:#009af9; stroke:none; fill-opacity:1\" cx=\"564.523\" cy=\"22.113\" r=\"3\"/>\n",
       "<polyline clip-path=\"url(#clip0202)\" style=\"stroke:#ff0000; stroke-width:1; stroke-opacity:1; fill:none\" points=\"\n",
       "  43.2701,365.227 90.803,359.73 119.368,353.937 143.52,347.58 169.755,339.161 193.942,330.003 219.873,318.695 249.916,303.668 276.615,288.579 300.027,274.003 \n",
       "  325.553,256.68 351.231,237.749 379.621,215.06 406.633,191.757 434.72,165.756 458.363,142.467 487.228,112.298 514.362,82.198 557.833,30.4596 \n",
       "  \"/>\n",
       "<polygon clip-path=\"url(#clip0200)\" points=\"\n",
       "489.799,78.051 562.315,78.051 562.315,32.691 489.799,32.691 \n",
       "  \" fill=\"#ffffff\" fill-opacity=\"1\"/>\n",
       "<polyline clip-path=\"url(#clip0200)\" style=\"stroke:#000000; stroke-width:1; stroke-opacity:1; fill:none\" points=\"\n",
       "  489.799,78.051 562.315,78.051 562.315,32.691 489.799,32.691 489.799,78.051 \n",
       "  \"/>\n",
       "<circle clip-path=\"url(#clip0200)\" style=\"fill:#000000; stroke:none; fill-opacity:1\" cx=\"516.799\" cy=\"47.811\" r=\"6\"/>\n",
       "<circle clip-path=\"url(#clip0200)\" style=\"fill:#009af9; stroke:none; fill-opacity:1\" cx=\"516.799\" cy=\"47.811\" r=\"5\"/>\n",
       "<g clip-path=\"url(#clip0200)\">\n",
       "<text style=\"fill:#000000; fill-opacity:1; font-family:Arial,Helvetica Neue,Helvetica,sans-serif; font-size:12; text-anchor:start;\" transform=\"rotate(0, 537.799, 52.311)\" x=\"537.799\" y=\"52.311\">y1</text>\n",
       "</g>\n",
       "<polyline clip-path=\"url(#clip0200)\" style=\"stroke:#ff0000; stroke-width:1; stroke-opacity:1; fill:none\" points=\"\n",
       "  495.799,62.931 531.799,62.931 \n",
       "  \"/>\n",
       "<g clip-path=\"url(#clip0200)\">\n",
       "<text style=\"fill:#000000; fill-opacity:1; font-family:Arial,Helvetica Neue,Helvetica,sans-serif; font-size:12; text-anchor:start;\" transform=\"rotate(0, 537.799, 67.431)\" x=\"537.799\" y=\"67.431\">y2</text>\n",
       "</g>\n",
       "</svg>\n"
      ]
     },
     "execution_count": 28,
     "metadata": {},
     "output_type": "execute_result"
    }
   ],
   "source": [
    "x = collect(linspace(0, 2, 3))\n",
    "y = exp(x)\n",
    "#a = difdiv(x, y)\n",
    "#P(t) = difdiv_eval(t, a, x)\n",
    "\n",
    "# Na mão\n",
    "D = zeros(3,3)\n",
    "D[:,1] = y\n",
    "D[1,2] = (D[2,1] - D[1,1])/(x[2] - x[1])\n",
    "D[2,2] = (D[3,1] - D[2,1])/(x[3] - x[2])\n",
    "D[1,3] = (D[2,2] - D[1,2])/(x[3] - x[1])\n",
    "a = D[1,:]\n",
    "P(t) = a[1] + (t-x[1])*(a[2] + a[3]*(t-x[2]))\n",
    "# Fim de na mão\n",
    "\n",
    "scatter(x, y)\n",
    "plot!(P, x[1], x[end], c=:red)"
   ]
  },
  {
   "cell_type": "code",
   "execution_count": null,
   "metadata": {
    "collapsed": true
   },
   "outputs": [],
   "source": []
  },
  {
   "cell_type": "code",
   "execution_count": null,
   "metadata": {
    "collapsed": true
   },
   "outputs": [],
   "source": []
  }
 ],
 "metadata": {
  "kernelspec": {
   "display_name": "Julia 0.6.2",
   "language": "julia",
   "name": "julia-0.6"
  },
  "language_info": {
   "file_extension": ".jl",
   "mimetype": "application/julia",
   "name": "julia",
   "version": "0.6.2"
  }
 },
 "nbformat": 4,
 "nbformat_minor": 0
}
