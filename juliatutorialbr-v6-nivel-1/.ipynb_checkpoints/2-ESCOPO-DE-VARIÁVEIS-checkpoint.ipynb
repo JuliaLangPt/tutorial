{
 "cells": [
  {
   "cell_type": "markdown",
   "metadata": {},
   "source": [
    "# ESCOPO DE VARIÁVEIS"
   ]
  },
  {
   "cell_type": "markdown",
   "metadata": {},
   "source": [
    "## ESCOPO\n",
    "\n",
    "O escopo de uma variável é a região dentro do código da qual uma variável está visível. O escopo de variáveis ajuda a evitar conflitos de nomeação de variáveis. O conceito é intuitivo: duas funções podem ter argumentos chamados x sem os dois x referindo-se à mesma coisa. Da mesma forma, há muitos outros casos em que diferentes blocos de código podem usar o mesmo nome sem se referir à mesma coisa. As regras para quando o mesmo nome de variável faz ou não se refere à mesma coisa são chamadas regras de escopo; Esta seção detalha-os em detalhes.\n",
    "\n",
    "Certas construções na linguagem introduzem blocos de escopo, que são regiões de código que são elegíveis para serem o escopo de algum conjunto de variáveis. O escopo de uma variável não pode ser um conjunto arbitrário de linhas de origem; Em vez disso, sempre se alinhará com um desses blocos. Existem dois tipos principais de escopos em Julia, âmbito global e âmbito local, este último pode ser aninhado. As construções que introduzem blocos de escopo são:\n",
    "\n",
    "manual julia(146,0 / 1574 epub)\n"
   ]
  },
  {
   "cell_type": "markdown",
   "metadata": {},
   "source": []
  },
  {
   "cell_type": "markdown",
   "metadata": {},
   "source": []
  },
  {
   "cell_type": "markdown",
   "metadata": {},
   "source": []
  },
  {
   "cell_type": "markdown",
   "metadata": {},
   "source": []
  }
 ],
 "metadata": {
  "anaconda-cloud": {},
  "kernelspec": {
   "display_name": "Julia 0.6.0",
   "language": "julia",
   "name": "julia-0.6"
  },
  "language_info": {
   "file_extension": ".jl",
   "mimetype": "application/julia",
   "name": "julia",
   "version": "0.6.0"
  },
  "latex_envs": {
   "LaTeX_envs_menu_present": true,
   "autocomplete": true,
   "bibliofile": "biblio.bib",
   "cite_by": "apalike",
   "current_citInitial": 1,
   "eqLabelWithNumbers": true,
   "eqNumInitial": 1,
   "hotkeys": {
    "equation": "Ctrl-E",
    "itemize": "Ctrl-I"
   },
   "labels_anchors": false,
   "latex_user_defs": false,
   "report_style_numbering": false,
   "user_envs_cfg": false
  },
  "name": "_merged"
 },
 "nbformat": 4,
 "nbformat_minor": 2
}
