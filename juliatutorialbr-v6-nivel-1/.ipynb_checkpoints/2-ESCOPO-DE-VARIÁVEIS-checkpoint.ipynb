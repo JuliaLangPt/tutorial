{
 "cells": [
  {
   "cell_type": "markdown",
   "metadata": {},
   "source": [
    "# ESCOPO DE VARIÁVEIS"
   ]
  },
  {
   "cell_type": "markdown",
   "metadata": {},
   "source": [
    "O [escopo de uma variável](https://docs.julialang.org/en/v1/manual/variables-and-scoping/index.html) é a região dentro do código da qual uma variável está visível. O escopo de variáveis ajuda a evitar conflitos de nomeação de variáveis. O conceito é intuitivo: duas funções podem ter argumentos chamados `x` sem que os dois `x` referiram-se à mesma coisa. Da mesma forma, há muitos outros casos em que diferentes blocos de código podem usar o mesmo nome sem surgir um conflito de nomes.\n",
    "\n",
    "Certas construções na linguagem introduzem blocos de escopo, que são regiões que delimitam a visibilidade de algum conjunto de variáveis. O escopo de uma variável sempre se alinhará com algum bloco. Existem dois tipos principais de escopos em Julia, âmbito global e âmbito local, este último pode ser aninhado, ou seja, um escopo local que existe dentro de outro.\n",
    "\n",
    "As construções que introduzem blocos de escopo são:"
   ]
  },
  {
   "cell_type": "markdown",
   "metadata": {},
   "source": [
    "<table><tbody><tr><th style=\"text-align: right\">Construct</th><th style=\"text-align: right\">Scope type</th><th style=\"text-align: right\">Scope blocks it may be nested in</th></tr><tr><td style=\"text-align: right\"><a href=\"../../base/base/#module\"><code>module</code></a>, <a href=\"../../base/base/#baremodule\"><code>baremodule</code></a></td><td style=\"text-align: right\">global</td><td style=\"text-align: right\">global</td></tr><tr><td style=\"text-align: right\">interactive prompt (REPL)</td><td style=\"text-align: right\">global</td><td style=\"text-align: right\">global</td></tr><tr><td style=\"text-align: right\">(mutable) <a href=\"../../base/base/#struct\"><code>struct</code></a>, <a href=\"../../base/base/#macro\"><code>macro</code></a></td><td style=\"text-align: right\">local</td><td style=\"text-align: right\">global</td></tr><tr><td style=\"text-align: right\"><a href=\"../../base/base/#for\"><code>for</code></a>, <a href=\"../../base/base/#while\"><code>while</code></a>, <a href=\"../../base/base/#try\"><code>try-catch-finally</code></a>, <a href=\"../../base/base/#let\"><code>let</code></a></td><td style=\"text-align: right\">local</td><td style=\"text-align: right\">global or local</td></tr><tr><td style=\"text-align: right\">functions (either syntax, anonymous &amp; do-blocks)</td><td style=\"text-align: right\">local</td><td style=\"text-align: right\">global or local</td></tr><tr><td style=\"text-align: right\">comprehensions, broadcast-fusing</td><td style=\"text-align: right\">local</td><td style=\"text-align: right\">global or local</td></tr></tbody></table>"
   ]
  },
  {
   "cell_type": "markdown",
   "metadata": {},
   "source": [
    "Um escopo local não pode mudar quem é uma determinada variável num escopo global, mas escopos locais aninhados podem mudar quem é variável local acima (local nível 2 alterando uma variável local nível 1). No entanto, é possível *modificar* o valor para o qual a variável aponta. Mais especificamente: um escopo local não pode mudar o *layout* na memória de uma variável local, mas pode alterar os bits desta memória.\n",
    "\n",
    "Exemplos:"
   ]
  },
  {
   "cell_type": "code",
   "execution_count": 1,
   "metadata": {},
   "outputs": [
    {
     "data": {
      "text/plain": [
       "1"
      ]
     },
     "execution_count": 1,
     "metadata": {},
     "output_type": "execute_result"
    }
   ],
   "source": [
    "function foo(y)\n",
    "    y = 4 # cria uma alteração local de y\n",
    "end\n",
    "y = 1\n",
    "foo(y)\n",
    "y"
   ]
  },
  {
   "cell_type": "code",
   "execution_count": 2,
   "metadata": {},
   "outputs": [
    {
     "data": {
      "text/plain": [
       "3-element Array{Int64,1}:\n",
       " 4\n",
       " 2\n",
       " 3"
      ]
     },
     "execution_count": 2,
     "metadata": {},
     "output_type": "execute_result"
    }
   ],
   "source": [
    "function foo(v)\n",
    "    v[1] = 4 # altera o valor apontado pela variável (na memória)\n",
    "end\n",
    "v = [1,2,3]\n",
    "foo(v)\n",
    "v"
   ]
  },
  {
   "cell_type": "code",
   "execution_count": 3,
   "metadata": {},
   "outputs": [
    {
     "name": "stdout",
     "output_type": "stream",
     "text": [
      "3\n"
     ]
    }
   ],
   "source": [
    "x = 3; # global\n",
    "function foo()\n",
    "    println(x) # x global é visível dentro do escopo local de foo\n",
    "end\n",
    "foo()"
   ]
  },
  {
   "cell_type": "code",
   "execution_count": 4,
   "metadata": {},
   "outputs": [
    {
     "name": "stdout",
     "output_type": "stream",
     "text": [
      "6\n",
      "6\n",
      "3\n"
     ]
    }
   ],
   "source": [
    "x = 3; # global\n",
    "function foo(x)\n",
    "    x = 2*x; # local 1\n",
    "    function bar()\n",
    "        println(x) # x local 1 é visível dentro do escopo local 2 (dentro de bar)\n",
    "    end\n",
    "    bar()\n",
    "    println(x)\n",
    "end\n",
    "foo(x)\n",
    "println(x)"
   ]
  },
  {
   "cell_type": "markdown",
   "metadata": {},
   "source": [
    "A função `bar` foi definida dentro do escopo local de `foo`. Portanto, ela não é visível no escopo global."
   ]
  },
  {
   "cell_type": "code",
   "execution_count": 5,
   "metadata": {},
   "outputs": [
    {
     "ename": "UndefVarError",
     "evalue": "UndefVarError: bar not defined",
     "output_type": "error",
     "traceback": [
      "UndefVarError: bar not defined",
      "",
      "Stacktrace:",
      " [1] top-level scope at In[5]:1"
     ]
    }
   ],
   "source": [
    "bar(x)"
   ]
  },
  {
   "cell_type": "markdown",
   "metadata": {},
   "source": [
    "**Blocos `let`**\n",
    "\n",
    "É possível criar um escopo local através de um bloco `let`. No código a seguir, a `x,y,z` é atribuído o valor `-1` no escopo global; o bloco `let` cria um `x` local e atribui o valor `2`; e cria um `z` local sem atribuir valor."
   ]
  },
  {
   "cell_type": "code",
   "execution_count": 6,
   "metadata": {},
   "outputs": [
    {
     "name": "stdout",
     "output_type": "stream",
     "text": [
      "x: 2, y: -1\n"
     ]
    },
    {
     "ename": "UndefVarError",
     "evalue": "UndefVarError: z not defined",
     "output_type": "error",
     "traceback": [
      "UndefVarError: z not defined",
      "",
      "Stacktrace:",
      " [1] top-level scope at In[6]:4"
     ]
    }
   ],
   "source": [
    "x, y, z = -1, -1, -1;\n",
    "let x = 2, z\n",
    "    println(\"x: $x, y: $y\") # x local, y global\n",
    "    println(\"z: $z\") # z é local e não foi dado um valor (local), por isso erro UndefVarError\n",
    "end"
   ]
  },
  {
   "cell_type": "markdown",
   "metadata": {},
   "source": [
    "**ATENÇÃO:** o bloco dentro de `for` é um escopo local. O seguinte código, quando executado no escopo global, executará normalmente dentro de um Jupyter Notebook, no entanto ele falhará no REPL. Isto porque o Jupyter Notebook (`IJulia` mais especificamente) usa o pacote [`SoftGlobalScope`](https://github.com/stevengj/SoftGlobalScope.jl) para ter um comportamento de escopo do `for` similar ao Julia v0.6.\n",
    "\n",
    "Este comportamento de escopo para o `for` (Julia v1.0+), onde o código dentro dele é de escopo local, foi introduzido na versão Julia v1.0. É como se o bloco `for` estivesse encerrado por um bloco `let`."
   ]
  },
  {
   "cell_type": "code",
   "execution_count": 7,
   "metadata": {},
   "outputs": [
    {
     "name": "stdout",
     "output_type": "stream",
     "text": [
      "8\n"
     ]
    }
   ],
   "source": [
    "x = 2;\n",
    "for i = 1:3\n",
    "    x += i; # falha se executado no REPL\n",
    "end\n",
    "println(x)"
   ]
  },
  {
   "cell_type": "markdown",
   "metadata": {},
   "source": [
    "Se o mesmo código for colocado dentro de um escopo local, ele funcionará como esperado tanto no REPL quanto no Notebook."
   ]
  },
  {
   "cell_type": "code",
   "execution_count": 8,
   "metadata": {},
   "outputs": [
    {
     "name": "stdout",
     "output_type": "stream",
     "text": [
      "7\n"
     ]
    }
   ],
   "source": [
    "function foo(x)\n",
    "    x = 2*x; # local 1\n",
    "    for i = 1:3\n",
    "        x += 1; # local 2 alterando uma variável do escopo local 1\n",
    "    end\n",
    "    println(x) # xfinal = x*2 + 3\n",
    "end\n",
    "foo(2)"
   ]
  },
  {
   "cell_type": "markdown",
   "metadata": {},
   "source": [
    "É possível dizer explicitamente que se deseja modificar uma variável global. No entanto, isto não é recomendado, pois trabalhar com [variáveis globais leva a uma queda de performance](https://docs.julialang.org/en/v1/manual/performance-tips/#man-performance-tips-1), exceto se for uma **constante** (vide adiante)."
   ]
  },
  {
   "cell_type": "code",
   "execution_count": 9,
   "metadata": {},
   "outputs": [
    {
     "name": "stdout",
     "output_type": "stream",
     "text": [
      "5\n"
     ]
    }
   ],
   "source": [
    "for i = 1:5\n",
    "    global x = i;\n",
    "end\n",
    "println(x)"
   ]
  },
  {
   "cell_type": "markdown",
   "metadata": {},
   "source": [
    "De forma similar, é possível dizer a um escopo local aninhado para usar uma versão local dela."
   ]
  },
  {
   "cell_type": "code",
   "execution_count": 10,
   "metadata": {},
   "outputs": [
    {
     "name": "stdout",
     "output_type": "stream",
     "text": [
      "1\n",
      "2\n",
      "3\n",
      "6\n"
     ]
    }
   ],
   "source": [
    "function foo(x)\n",
    "    x = 2*x; # local 1\n",
    "    for i = 1:3\n",
    "        local x = i; # local 2\n",
    "        println(x)\n",
    "    end\n",
    "    println(x)\n",
    "end\n",
    "foo(3)"
   ]
  },
  {
   "cell_type": "markdown",
   "metadata": {},
   "source": [
    "**Constantes**\n",
    "\n",
    "Muitas vezes, trabalha-se com constantes mateḿaticas e físicas. Se for o caso, é útil deixá-las no escopo global declaradas como constantes através da palavra `const`."
   ]
  },
  {
   "cell_type": "code",
   "execution_count": 11,
   "metadata": {},
   "outputs": [
    {
     "data": {
      "text/plain": [
       "1.2566370614359173e-6"
      ]
     },
     "execution_count": 11,
     "metadata": {},
     "output_type": "execute_result"
    }
   ],
   "source": [
    "const mu_0 = 4e-7*pi"
   ]
  },
  {
   "cell_type": "markdown",
   "metadata": {},
   "source": [
    "Não é possível redefinir um valor constante."
   ]
  },
  {
   "cell_type": "code",
   "execution_count": 12,
   "metadata": {},
   "outputs": [
    {
     "ename": "ErrorException",
     "evalue": "invalid redefinition of constant mu_0",
     "output_type": "error",
     "traceback": [
      "invalid redefinition of constant mu_0",
      "",
      "Stacktrace:",
      " [1] top-level scope at In[12]:1"
     ]
    }
   ],
   "source": [
    "mu_0 = 2;"
   ]
  },
  {
   "cell_type": "markdown",
   "metadata": {},
   "source": [
    "%%% FIM ESCOPO %%%"
   ]
  }
 ],
 "metadata": {
  "@webio": {
   "lastCommId": null,
   "lastKernelId": null
  },
  "anaconda-cloud": {},
  "kernelspec": {
   "display_name": "Julia 1.2.0",
   "language": "julia",
   "name": "julia-1.2"
  },
  "language_info": {
   "file_extension": ".jl",
   "mimetype": "application/julia",
   "name": "julia",
   "version": "1.2.0"
  },
  "latex_envs": {
   "LaTeX_envs_menu_present": true,
   "autocomplete": true,
   "bibliofile": "biblio.bib",
   "cite_by": "apalike",
   "current_citInitial": 1,
   "eqLabelWithNumbers": true,
   "eqNumInitial": 1,
   "hotkeys": {
    "equation": "Ctrl-E",
    "itemize": "Ctrl-I"
   },
   "labels_anchors": false,
   "latex_user_defs": false,
   "report_style_numbering": false,
   "user_envs_cfg": false
  },
  "name": "_merged"
 },
 "nbformat": 4,
 "nbformat_minor": 2
}
