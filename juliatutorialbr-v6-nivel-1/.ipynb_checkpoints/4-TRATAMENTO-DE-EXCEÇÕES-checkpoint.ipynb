{
 "cells": [
  {
   "cell_type": "markdown",
   "metadata": {},
   "source": [
    "# TRATAMENTO DE EXCEÇÕES"
   ]
  },
  {
   "cell_type": "markdown",
   "metadata": {},
   "source": [
    "Quando ocorre uma condição não esperada, uma função pode ser incapaz de contornar o problema e evitar uma pane no sistema. Uma das soluções é programar a função para terminar o programa, imprimir uma mensagem de erro de diagnóstico ou trabalhar adequadamente o código para permitir que o programa tome uma ação apropriada em relação ao problema. Um exemplo clássico é a função raiz quadrada:\n",
    "```julia\n",
    "function raizQ(x)\n",
    "    return sqrt(x)\n",
    "end\n",
    "```\n",
    "Caso seja passado um número negativo, ocorrerá:\n",
    "```julia\n",
    "raizQ(-2)\n",
    "\n",
    "LoadError: DomainError:\n",
    "while loading In[], in expression starting on line 1\n",
    "```\n",
    "Neste caso Julia lançou uma exceção informando que houve um erro para tratar a ação fora do esperado, ou seja, um número negativo é passado como argumento mas o resultado está dentro do domínio dos complexos. As exceções listadas abaixo interrompem o fluxo normal de execução e emitem uma mensagem de erro.\n",
    "\n",
    "- **ArgumentError**: Os parâmetros de uma chamada de função não correspondem a uma vínculo válido. Argumento \"msg\" é uma string de erro descritiva.\n",
    "\n",
    "- **BoundsError**: Uma operação de indexação em uma matriz, \"A\", tentou acessar um elemento fora dos limites, \"i\". \n",
    "\n",
    "- **DivideError**: A divisão inteira por \"0\".\n",
    "\n",
    "- **DomainError**: Os argumentos para uma função ou construtor estão fora do domínio válido.\n",
    "\n",
    "- **ErrorException**: Tipo de erro genérico. A mensagem de erro, no campo \".msg\", pode fornecer detalhes mais específicos.\n",
    "\n",
    "- **EOFError**: Não há mais dados disponíveis para ler de um arquivo ou fluxo.\n",
    "\n",
    "- **ErrorException**: Tipo de erro genérico. A mensagem de erro, no campo .msg, pode fornecer detalhes mais específicos.\n",
    "\n",
    "- **InexactError**: A conversão entre tipos não pode ser feita exatamente.\n",
    "\n",
    "- **InitError**: Ocorreu um erro ao executar a função `__init__` de um módulo.\n",
    "\n",
    "- **InterruptException**: O processo foi interrompido por uma interrupção (CTRL + C).\n",
    "\n",
    "- **LoadError**: Ocorreu um erro ao tentar incluir, exigir ou usar um arquivo.\n",
    "\n",
    "- **MethodError**: Não existe na função genérica dada um método adequado.\n",
    "\n",
    "- **OutOfMemoryError**: Uma operação alocou muita memória para o sistema trabalhar adequadamente.\n",
    "\n",
    "- **OverflowError**: O resultado de uma expressão é muito grande para o tipo especificado.\n",
    "\n",
    "- **ParseError**: A expressão passada para a função `parse` (análise) não pôde ser interpretada como uma expressão válida da linguagem Julia.\n",
    "\n",
    "- **ReadOnlyMemoryError**: Uma operação tentou escrever na memória mas esta é somente para leitura. \n",
    "\n",
    "- **SystemError**: Uma chamada de sistema falhou com um código de erro \n",
    "\n",
    "- **TypeError**: Uma falha de asserção de tipo ou chamada de uma função intrínseca com um tipo de argumento incorreto.\n",
    "\n",
    "- **UndefRefError**: O item ou campo não está definido para o determinado objeto.\n",
    "\n",
    "- **UndefVarError**: Um símbolo no escopo atual não está definido.\n",
    "\n",
    "- **KeyError**: Uma operação de indexação em um objeto do tipo dicionário (Dict) ou conjunto (Set) tentou acessar ou excluir um elemento inexistente.\n",
    "\n",
    "\n",
    "A lista completa pode ser consultada aqui: [http://docs.julialang.org/en/release-0.5/stdlib/base/#errors](http://docs.julialang.org/en/release-0.5/stdlib/base/#errors)"
   ]
  },
  {
   "cell_type": "markdown",
   "metadata": {},
   "source": [
    "### FUNÇÃO `THROW()`\n",
    "\n",
    "A função `Throw()` lança um objeto como uma exceção, ou seja, no exemplo abaixo a função lança a exceção `DomainError` que informa que o erro é de domínio."
   ]
  },
  {
   "cell_type": "code",
   "execution_count": 1,
   "metadata": {
    "collapsed": false,
    "scrolled": false
   },
   "outputs": [
    {
     "data": {
      "text/plain": [
       "raizQ (generic function with 1 method)"
      ]
     },
     "execution_count": 1,
     "metadata": {},
     "output_type": "execute_result"
    }
   ],
   "source": [
    "function raizQ(x)\n",
    "    if x >= 0\n",
    "        sqrt(x)\n",
    "    else\n",
    "        throw(DomainError())\n",
    "    end\n",
    "end"
   ]
  },
  {
   "cell_type": "code",
   "execution_count": 2,
   "metadata": {
    "collapsed": false,
    "scrolled": false
   },
   "outputs": [
    {
     "ename": "LoadError",
     "evalue": "DomainError:",
     "output_type": "error",
     "traceback": [
      "DomainError:",
      "",
      "Stacktrace:",
      " [1] \u001b[1mraizQ\u001b[22m\u001b[22m\u001b[1m(\u001b[22m\u001b[22m::Int64\u001b[1m)\u001b[22m\u001b[22m at \u001b[1m./In[1]:5\u001b[22m\u001b[22m",
      " [2] \u001b[1minclude_string\u001b[22m\u001b[22m\u001b[1m(\u001b[22m\u001b[22m::String, ::String\u001b[1m)\u001b[22m\u001b[22m at \u001b[1m./loading.jl:515\u001b[22m\u001b[22m"
     ]
    }
   ],
   "source": [
    "raizQ(-2)"
   ]
  },
  {
   "cell_type": "code",
   "execution_count": 3,
   "metadata": {
    "collapsed": false
   },
   "outputs": [
    {
     "data": {
      "text/plain": [
       "raizQ_OT (generic function with 1 method)"
      ]
     },
     "execution_count": 3,
     "metadata": {},
     "output_type": "execute_result"
    }
   ],
   "source": [
    "# outra forma de escrever usando o Operador Ternário\n",
    "raizQ_OT(x) = x>=0 ? sqrt(x) : throw(DomainError())"
   ]
  },
  {
   "cell_type": "code",
   "execution_count": 4,
   "metadata": {
    "collapsed": false
   },
   "outputs": [
    {
     "ename": "LoadError",
     "evalue": "DomainError:",
     "output_type": "error",
     "traceback": [
      "DomainError:",
      "",
      "Stacktrace:",
      " [1] \u001b[1mraizQ_OT\u001b[22m\u001b[22m\u001b[1m(\u001b[22m\u001b[22m::Int64\u001b[1m)\u001b[22m\u001b[22m at \u001b[1m./In[3]:2\u001b[22m\u001b[22m",
      " [2] \u001b[1minclude_string\u001b[22m\u001b[22m\u001b[1m(\u001b[22m\u001b[22m::String, ::String\u001b[1m)\u001b[22m\u001b[22m at \u001b[1m./loading.jl:515\u001b[22m\u001b[22m"
     ]
    }
   ],
   "source": [
    "raizQ_OT(-2)"
   ]
  },
  {
   "cell_type": "markdown",
   "metadata": {},
   "source": [
    "### FUNÇÃO `ERROR()`\n",
    "\n",
    "A função `error()` é usada para produzir uma `ErrorException` que interrompe imediatamente o fluxo normal de processamento e exibe uma mensagem na tela."
   ]
  },
  {
   "cell_type": "code",
   "execution_count": 47,
   "metadata": {
    "collapsed": false
   },
   "outputs": [
    {
     "data": {
      "text/plain": [
       "raizQ_Er (generic function with 1 method)"
      ]
     },
     "execution_count": 47,
     "metadata": {},
     "output_type": "execute_result"
    }
   ],
   "source": [
    "function raizQ_Er(x)\n",
    "    \n",
    "    if x >=0        \n",
    "        sqrt(x)\n",
    "    else\n",
    "        error(\"Número negativo: $x. Não é possivel calcular raiz Real\")\n",
    "    end\n",
    "end"
   ]
  },
  {
   "cell_type": "code",
   "execution_count": 18,
   "metadata": {
    "collapsed": false,
    "scrolled": false
   },
   "outputs": [
    {
     "ename": "LoadError",
     "evalue": "\u001b[91mNúmero negativo: -2. Não é possivel calcular raiz Real\u001b[39m",
     "output_type": "error",
     "traceback": [
      "\u001b[91mNúmero negativo: -2. Não é possivel calcular raiz Real\u001b[39m",
      "",
      "Stacktrace:",
      " [1] \u001b[1mraizQ_Er\u001b[22m\u001b[22m\u001b[1m(\u001b[22m\u001b[22m::Int64\u001b[1m)\u001b[22m\u001b[22m at \u001b[1m./In[17]:6\u001b[22m\u001b[22m",
      " [2] \u001b[1minclude_string\u001b[22m\u001b[22m\u001b[1m(\u001b[22m\u001b[22m::String, ::String\u001b[1m)\u001b[22m\u001b[22m at \u001b[1m./loading.jl:515\u001b[22m\u001b[22m"
     ]
    }
   ],
   "source": [
    "# a função será interrompida e exibirá uma mensagem\n",
    "raizQ_Er(-2)"
   ]
  },
  {
   "cell_type": "markdown",
   "metadata": {},
   "source": [
    "### TRY / CATCH\n",
    "\n",
    "A instrução `try/catch` permite que exceções sejam testadas, ou seja, tenta-se realizar a instrução (`try`) e se não for possível pega-se outra instrução para realizar (`cacht`) o processamento. A função `raizQ_TC` ao receber o valor de `x` tenta calcular no domínio `Real` e se não for possível calcula no domínio `Complexo`."
   ]
  },
  {
   "cell_type": "code",
   "execution_count": 44,
   "metadata": {
    "collapsed": false
   },
   "outputs": [
    {
     "data": {
      "text/plain": [
       "raizQ_TC (generic function with 1 method)"
      ]
     },
     "execution_count": 44,
     "metadata": {},
     "output_type": "execute_result"
    }
   ],
   "source": [
    "function raizQ_TC(x)\n",
    "    try\n",
    "         sqrt(x)\n",
    "    catch\n",
    "         sqrt(complex(x))\n",
    "    end\n",
    "end"
   ]
  },
  {
   "cell_type": "code",
   "execution_count": 45,
   "metadata": {
    "collapsed": false
   },
   "outputs": [
    {
     "data": {
      "text/plain": [
       "13.0"
      ]
     },
     "execution_count": 45,
     "metadata": {},
     "output_type": "execute_result"
    }
   ],
   "source": [
    "raizQ_TC(169)"
   ]
  },
  {
   "cell_type": "code",
   "execution_count": 46,
   "metadata": {
    "collapsed": false
   },
   "outputs": [
    {
     "data": {
      "text/plain": [
       "0.0 + 1.4142135623730951im"
      ]
     },
     "execution_count": 46,
     "metadata": {},
     "output_type": "execute_result"
    }
   ],
   "source": [
    "raizQ_TC(-2)"
   ]
  },
  {
   "cell_type": "markdown",
   "metadata": {},
   "source": [
    "Uma boa prática de programação é tratar o tipo de erro que ocorreu. "
   ]
  },
  {
   "cell_type": "code",
   "execution_count": 48,
   "metadata": {
    "collapsed": false
   },
   "outputs": [
    {
     "data": {
      "text/plain": [
       "raizQ_TC_Er (generic function with 1 method)"
      ]
     },
     "execution_count": 48,
     "metadata": {},
     "output_type": "execute_result"
    }
   ],
   "source": [
    "function raizQ_TC_Er(x)\n",
    "    try\n",
    "        sqrt(x)\n",
    "        \n",
    "    catch erro\n",
    "        if isa(erro, DomainError)\n",
    "            sqrt(complex(x))\n",
    "            \n",
    "        elseif isa(erro, UndefVarError)\n",
    "            print(\"Valor não definido\")\n",
    "            \n",
    "        else\n",
    "            print(\"Erro não definido. Valor não numérico\")\n",
    "        end\n",
    "    end\n",
    "end"
   ]
  },
  {
   "cell_type": "code",
   "execution_count": 37,
   "metadata": {
    "collapsed": false
   },
   "outputs": [
    {
     "data": {
      "text/plain": [
       "0.0 + 2.0im"
      ]
     },
     "execution_count": 37,
     "metadata": {},
     "output_type": "execute_result"
    }
   ],
   "source": [
    "# Passando um valor negativo\n",
    "raizQ_TC_Er(-4)"
   ]
  },
  {
   "cell_type": "code",
   "execution_count": 49,
   "metadata": {
    "collapsed": false
   },
   "outputs": [
    {
     "name": "stdout",
     "output_type": "stream",
     "text": [
      "Erro não definido. Valor não numérico"
     ]
    }
   ],
   "source": [
    "# Passando uma string\n",
    "raizQ_TC_Er($)"
   ]
  },
  {
   "cell_type": "code",
   "execution_count": null,
   "metadata": {
    "collapsed": true
   },
   "outputs": [],
   "source": []
  }
 ],
 "metadata": {
  "anaconda-cloud": {},
  "kernelspec": {
   "display_name": "Julia 0.6.2",
   "language": "julia",
   "name": "julia-0.6"
  },
  "language_info": {
   "file_extension": ".jl",
   "mimetype": "application/julia",
   "name": "julia",
   "version": "0.6.2"
  },
  "latex_envs": {
   "LaTeX_envs_menu_present": true,
   "autocomplete": true,
   "bibliofile": "biblio.bib",
   "cite_by": "apalike",
   "current_citInitial": 1,
   "eqLabelWithNumbers": true,
   "eqNumInitial": 1,
   "hotkeys": {
    "equation": "Ctrl-E",
    "itemize": "Ctrl-I"
   },
   "labels_anchors": false,
   "latex_user_defs": false,
   "report_style_numbering": false,
   "user_envs_cfg": false
  },
  "name": "_merged"
 },
 "nbformat": 4,
 "nbformat_minor": 2
}
