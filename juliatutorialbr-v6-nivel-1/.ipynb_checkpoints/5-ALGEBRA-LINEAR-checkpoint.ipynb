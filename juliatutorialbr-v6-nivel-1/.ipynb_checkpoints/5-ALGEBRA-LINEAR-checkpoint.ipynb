{
 "cells": [
  {
   "cell_type": "markdown",
   "metadata": {},
   "source": [
    "# ALGEBRA LINEAR\n",
    "\n",
    "Julia possui um conjunto próprio comandos de álgebra linear que permite trabalhar diversas operações com matrizes e vetores. Entretanto, há o pacote `Nemo` que possui bem mais recursos algébricos. "
   ]
  },
  {
   "cell_type": "code",
   "execution_count": 1,
   "metadata": {
    "collapsed": true
   },
   "outputs": [],
   "source": [
    "using LinearAlgebra"
   ]
  },
  {
   "cell_type": "markdown",
   "metadata": {
    "collapsed": true
   },
   "source": [
    "## VETORES "
   ]
  },
  {
   "cell_type": "markdown",
   "metadata": {},
   "source": [
    "### OPERAÇÕES COM VETORES"
   ]
  },
  {
   "cell_type": "markdown",
   "metadata": {},
   "source": [
    "#### SOMA VETORIAL\n",
    "\n",
    "Dados vetores $u = (u_1 , u_2 , . . . , u_n )$ e  $v = (v_1 , v_2 , . . . , v_n )$, a soma entre os vetores u e v, é defindo como: \n",
    "\n",
    "$u + v = (u_1 + v_1 , u_2 + v_2 , . . . , u_n + v_n)$\n",
    "\n",
    "$u - v = u + (-v) =  (u_1 - v_1 , u_2 - v_2 , . . . , u_n - v_n)$\n",
    "\n"
   ]
  },
  {
   "cell_type": "code",
   "execution_count": 48,
   "metadata": {
    "scrolled": true
   },
   "outputs": [
    {
     "data": {
      "text/plain": [
       "2-element Array{Int64,1}:\n",
       " -5\n",
       "  1"
      ]
     },
     "execution_count": 48,
     "metadata": {},
     "output_type": "execute_result"
    }
   ],
   "source": [
    "v = [0, 2]\n",
    "u = [-5,-1]\n",
    "\n",
    "u + v"
   ]
  },
  {
   "cell_type": "markdown",
   "metadata": {},
   "source": [
    "* **Representação Geométrica**"
   ]
  },
  {
   "cell_type": "code",
   "execution_count": 49,
   "metadata": {},
   "outputs": [
    {
     "data": {
      "text/plain": [
       "Plots.GRBackend()"
      ]
     },
     "execution_count": 49,
     "metadata": {},
     "output_type": "execute_result"
    }
   ],
   "source": [
    "using Plots\n",
    "gr()"
   ]
  },
  {
   "cell_type": "code",
   "execution_count": 60,
   "metadata": {
    "scrolled": true
   },
   "outputs": [
    {
     "data": {
      "text/plain": [
       "3-element Array{Int64,1}:\n",
       " 5\n",
       " 7\n",
       " 9"
      ]
     },
     "metadata": {},
     "output_type": "display_data"
    },
    {
     "data": {
      "text/plain": [
       "3-element Array{Int64,1}:\n",
       " 3\n",
       " 3\n",
       " 3"
      ]
     },
     "metadata": {},
     "output_type": "display_data"
    }
   ],
   "source": [
    "v = [1, 2, 3]\n",
    "u = [4, 5, 6]\n",
    "\n",
    "display(u + v)\n",
    "display(u - v)"
   ]
  },
  {
   "cell_type": "markdown",
   "metadata": {},
   "source": [
    "#### OPERAÇÕES COM NUMEROS ESCALARES"
   ]
  },
  {
   "cell_type": "markdown",
   "metadata": {},
   "source": [
    "* ** Multiplicação por escalar ** \n",
    "\n",
    "Dados o vetor $v = (v_1 , v_2 , . . . , v_n )$, o produto entre um vetores v e um escalar, defindo como $k\\cdot v$ é: \n",
    "$$k\\cdot v = (kv_1, kv_2, . . . , kv_n)$$\n",
    " "
   ]
  },
  {
   "cell_type": "code",
   "execution_count": 3,
   "metadata": {},
   "outputs": [
    {
     "data": {
      "text/plain": [
       "3-element Array{Int64,1}:\n",
       " 2\n",
       " 4\n",
       " 6"
      ]
     },
     "execution_count": 3,
     "metadata": {},
     "output_type": "execute_result"
    }
   ],
   "source": [
    "v = [1, 2, 3]\n",
    "2*v"
   ]
  },
  {
   "cell_type": "markdown",
   "metadata": {},
   "source": [
    "* ** Multiplicação elemento por elemento entre vetores** \n",
    "\n",
    "$[a_1b_1 ~,~ a_2b_2 ~,~  a_3b_3]$ e $[b_1a_1 ~,~ b_2a_2 ~,~  b_3a_3]$"
   ]
  },
  {
   "cell_type": "code",
   "execution_count": 4,
   "metadata": {},
   "outputs": [
    {
     "data": {
      "text/plain": [
       "3-element Array{Int64,1}:\n",
       "  4\n",
       " 10\n",
       " 18"
      ]
     },
     "execution_count": 4,
     "metadata": {},
     "output_type": "execute_result"
    }
   ],
   "source": [
    "v = [1, 2, 3]\n",
    "u = [4, 5, 6]\n",
    "v.*u"
   ]
  },
  {
   "cell_type": "code",
   "execution_count": 5,
   "metadata": {},
   "outputs": [
    {
     "data": {
      "text/plain": [
       "3-element Array{Int64,1}:\n",
       "  4\n",
       " 10\n",
       " 18"
      ]
     },
     "execution_count": 5,
     "metadata": {},
     "output_type": "execute_result"
    }
   ],
   "source": [
    "# utilizando o map\n",
    "map(*, v, u)"
   ]
  },
  {
   "cell_type": "markdown",
   "metadata": {},
   "source": [
    "* **Divisão por escalar**\n",
    "\n",
    "$[{a_1 \\over k} ~,~ {a_2 \\over k} ~,~  {a_3 \\over k}]$ "
   ]
  },
  {
   "cell_type": "code",
   "execution_count": 6,
   "metadata": {},
   "outputs": [
    {
     "data": {
      "text/plain": [
       "3-element Array{Float64,1}:\n",
       " 0.5\n",
       " 1.0\n",
       " 1.5"
      ]
     },
     "execution_count": 6,
     "metadata": {},
     "output_type": "execute_result"
    }
   ],
   "source": [
    "# [1/2, 2/2, 3/2]\n",
    "v = [1, 2, 3]\n",
    "v/2"
   ]
  },
  {
   "cell_type": "code",
   "execution_count": 7,
   "metadata": {
    "scrolled": true
   },
   "outputs": [
    {
     "data": {
      "text/plain": [
       "3-element Array{Float64,1}:\n",
       " 0.25\n",
       " 0.4 \n",
       " 0.5 "
      ]
     },
     "execution_count": 7,
     "metadata": {},
     "output_type": "execute_result"
    }
   ],
   "source": [
    "# Divisão elemento por elemento entre vetores [1/4, 2/5, 3/6]\n",
    "v = [1, 2, 3]\n",
    "u = [4, 5, 6]\n",
    "v./u"
   ]
  },
  {
   "cell_type": "code",
   "execution_count": 8,
   "metadata": {
    "scrolled": true
   },
   "outputs": [
    {
     "data": {
      "text/plain": [
       "3-element Array{Float64,1}:\n",
       " 0.25\n",
       " 0.4 \n",
       " 0.5 "
      ]
     },
     "execution_count": 8,
     "metadata": {},
     "output_type": "execute_result"
    }
   ],
   "source": [
    "# Divisão elemento por elemento entre vetores [1/4, 2/5, 3/6] pelo map()\n",
    "map(/, v, u)"
   ]
  },
  {
   "cell_type": "markdown",
   "metadata": {},
   "source": [
    "* ** Potencia por escalar**"
   ]
  },
  {
   "cell_type": "code",
   "execution_count": 9,
   "metadata": {
    "scrolled": true
   },
   "outputs": [
    {
     "data": {
      "text/plain": [
       "1×3 Array{Int64,2}:\n",
       " 1  4  9"
      ]
     },
     "execution_count": 9,
     "metadata": {},
     "output_type": "execute_result"
    }
   ],
   "source": [
    "# Potencia elemento por elemento [1^2 2^2 3^2]\n",
    "v = [1 2 3]\n",
    "v.^2"
   ]
  },
  {
   "cell_type": "code",
   "execution_count": 10,
   "metadata": {},
   "outputs": [
    {
     "data": {
      "text/plain": [
       "3-element Array{Int64,1}:\n",
       "   1\n",
       "  32\n",
       " 729"
      ]
     },
     "execution_count": 10,
     "metadata": {},
     "output_type": "execute_result"
    }
   ],
   "source": [
    "# Potencia elemento por elemento entre vetores [1^4 2^5 3^6]\n",
    "v = [1, 2, 3]\n",
    "u = [4, 5, 6]\n",
    "v.^u"
   ]
  },
  {
   "cell_type": "code",
   "execution_count": 11,
   "metadata": {},
   "outputs": [
    {
     "data": {
      "text/plain": [
       "3-element Array{Int64,1}:\n",
       "   1\n",
       "  32\n",
       " 729"
      ]
     },
     "execution_count": 11,
     "metadata": {},
     "output_type": "execute_result"
    }
   ],
   "source": [
    "# Potencia elemento por elemento entre vetores [1^4, 2^5, 3^6] pelo map()\n",
    "map(^, v,u)"
   ]
  },
  {
   "cell_type": "markdown",
   "metadata": {},
   "source": [
    "#### TRANSPOSIÇÃO DE UM VETOR \n",
    "\n",
    "Veja que a transposição altera o tipo do vetor de Unidimensional(Array{Tipo_dado,1}) para Bidimensional(Array{Tipo_dado,2}) ou o contrário\n",
    "\n",
    "Sintaxe:\n",
    "```julia\n",
    "transpose(vetor)\n",
    "ou\n",
    "vetor'\n",
    "```"
   ]
  },
  {
   "cell_type": "code",
   "execution_count": 61,
   "metadata": {},
   "outputs": [
    {
     "data": {
      "text/plain": [
       "3-element Array{Int64,1}:\n",
       " 1\n",
       " 2\n",
       " 3"
      ]
     },
     "execution_count": 61,
     "metadata": {},
     "output_type": "execute_result"
    }
   ],
   "source": [
    "v = [1, 2, 3]"
   ]
  },
  {
   "cell_type": "code",
   "execution_count": 62,
   "metadata": {
    "scrolled": true
   },
   "outputs": [
    {
     "data": {
      "text/plain": [
       "3-element Array{Int64,1}:\n",
       " 1\n",
       " 2\n",
       " 3"
      ]
     },
     "metadata": {},
     "output_type": "display_data"
    },
    {
     "data": {
      "text/plain": [
       "1×3 Transpose{Int64,Array{Int64,1}}:\n",
       " 1  2  3"
      ]
     },
     "metadata": {},
     "output_type": "display_data"
    },
    {
     "data": {
      "text/plain": [
       "1×3 Adjoint{Int64,Array{Int64,1}}:\n",
       " 1  2  3"
      ]
     },
     "metadata": {},
     "output_type": "display_data"
    },
    {
     "data": {
      "text/plain": [
       "(nothing, nothing, nothing)"
      ]
     },
     "execution_count": 62,
     "metadata": {},
     "output_type": "execute_result"
    }
   ],
   "source": [
    "display(v), display(transpose(v)), display(v')"
   ]
  },
  {
   "cell_type": "markdown",
   "metadata": {},
   "source": [
    "#### VALORES DE  Max e Min DE UM VETOR"
   ]
  },
  {
   "cell_type": "code",
   "execution_count": 63,
   "metadata": {},
   "outputs": [
    {
     "data": {
      "text/plain": [
       "5"
      ]
     },
     "execution_count": 63,
     "metadata": {},
     "output_type": "execute_result"
    }
   ],
   "source": [
    "# Valor máximo do vetor\n",
    "v = [1, 5, -9]\n",
    "maximum(v)"
   ]
  },
  {
   "cell_type": "code",
   "execution_count": 15,
   "metadata": {
    "scrolled": false
   },
   "outputs": [
    {
     "data": {
      "text/plain": [
       "(5, 2)"
      ]
     },
     "execution_count": 15,
     "metadata": {},
     "output_type": "execute_result"
    }
   ],
   "source": [
    "# Valor máximo de um vetor e indice\n",
    "valor_max, indice_max = findmax(v)"
   ]
  },
  {
   "cell_type": "code",
   "execution_count": 16,
   "metadata": {},
   "outputs": [
    {
     "data": {
      "text/plain": [
       "(-9, 5)"
      ]
     },
     "execution_count": 16,
     "metadata": {},
     "output_type": "execute_result"
    }
   ],
   "source": [
    "# valores extremos de um vetor: minimo e máximo simultâneo.\n",
    "extrema(v)"
   ]
  },
  {
   "cell_type": "code",
   "execution_count": 17,
   "metadata": {},
   "outputs": [
    {
     "data": {
      "text/plain": [
       "-9"
      ]
     },
     "execution_count": 17,
     "metadata": {},
     "output_type": "execute_result"
    }
   ],
   "source": [
    "# Valor mínimo de um vetor\n",
    "minimum(v)"
   ]
  },
  {
   "cell_type": "code",
   "execution_count": 18,
   "metadata": {
    "scrolled": true
   },
   "outputs": [
    {
     "data": {
      "text/plain": [
       "(-9, 3)"
      ]
     },
     "execution_count": 18,
     "metadata": {},
     "output_type": "execute_result"
    }
   ],
   "source": [
    "# Valor minimo de um vetor e indice\n",
    "valor_min, indice_min = findmin(v)"
   ]
  },
  {
   "cell_type": "markdown",
   "metadata": {},
   "source": [
    "#### PRODUTO INTERNO E EXTERNO ENTRE VETORES "
   ]
  },
  {
   "cell_type": "code",
   "execution_count": 64,
   "metadata": {},
   "outputs": [
    {
     "data": {
      "text/plain": [
       "(32, 32)"
      ]
     },
     "execution_count": 64,
     "metadata": {},
     "output_type": "execute_result"
    }
   ],
   "source": [
    "# Produto interno: somente vetores coluna. aqui o uso do transpose ou v' nao funciona\n",
    "# caso use vetores linha, transforme - o em coluna com vec(vetor_linha)\n",
    "\n",
    "v = [1, 2, 3]\n",
    "u = [4, 5, 6]\n",
    "\n",
    "dot(v, u), dot(u, v)"
   ]
  },
  {
   "cell_type": "code",
   "execution_count": 65,
   "metadata": {},
   "outputs": [
    {
     "data": {
      "text/plain": [
       "([-3, 6, -3], [3, -6, 3])"
      ]
     },
     "execution_count": 65,
     "metadata": {},
     "output_type": "execute_result"
    }
   ],
   "source": [
    "# Produto externo ou vetorial\n",
    "cross(v, u), cross(u, v)"
   ]
  },
  {
   "cell_type": "markdown",
   "metadata": {},
   "source": [
    "## MATRIZES"
   ]
  },
  {
   "cell_type": "markdown",
   "metadata": {},
   "source": [
    "### OPERAÇÕES COM MATRIZES"
   ]
  },
  {
   "cell_type": "markdown",
   "metadata": {},
   "source": [
    "#### SOMA DE MATRIZES"
   ]
  },
  {
   "cell_type": "code",
   "execution_count": 21,
   "metadata": {},
   "outputs": [
    {
     "data": {
      "text/plain": [
       "2×3 Array{Int64,2}:\n",
       "  5   7   9\n",
       " 11  13  15"
      ]
     },
     "execution_count": 21,
     "metadata": {},
     "output_type": "execute_result"
    }
   ],
   "source": [
    "Ma = [1 2 3; 4 5 6]\n",
    "Mb = [4 5 6; 7 8 9]\n",
    "\n",
    "Ma + Mb"
   ]
  },
  {
   "cell_type": "markdown",
   "metadata": {},
   "source": [
    "* ** Subtração de matrizes**"
   ]
  },
  {
   "cell_type": "code",
   "execution_count": 22,
   "metadata": {
    "scrolled": true
   },
   "outputs": [
    {
     "data": {
      "text/plain": [
       "2×3 Array{Int64,2}:\n",
       " -3  -3  -3\n",
       " -3  -3  -3"
      ]
     },
     "execution_count": 22,
     "metadata": {},
     "output_type": "execute_result"
    }
   ],
   "source": [
    "Ma = [1 2 3; 4 5 6]\n",
    "Mb = [4 5 6; 7 8 9]\n",
    "\n",
    "Ma - Mb"
   ]
  },
  {
   "cell_type": "markdown",
   "metadata": {},
   "source": [
    "#### OPERAÇÕES COM NUMEROS ESCALARES "
   ]
  },
  {
   "cell_type": "markdown",
   "metadata": {},
   "source": [
    "* **Multiplicação por escalar**"
   ]
  },
  {
   "cell_type": "code",
   "execution_count": 23,
   "metadata": {
    "scrolled": true
   },
   "outputs": [
    {
     "data": {
      "text/plain": [
       "2×3 Array{Int64,2}:\n",
       " 2   4   6\n",
       " 8  10  12"
      ]
     },
     "execution_count": 23,
     "metadata": {},
     "output_type": "execute_result"
    }
   ],
   "source": [
    "Ma = [1 2 3; 4 5 6]\n",
    "\n",
    "2*Ma"
   ]
  },
  {
   "cell_type": "markdown",
   "metadata": {},
   "source": [
    "* **Multiplicação elemento por elemento entre vetores **\n",
    "\n",
    "$[1x4  ~ 2x5 ~  3x6; 4x7 ~  5x8 ~  6x9]$"
   ]
  },
  {
   "cell_type": "code",
   "execution_count": 24,
   "metadata": {
    "scrolled": false
   },
   "outputs": [
    {
     "data": {
      "text/plain": [
       "2×3 Array{Int64,2}:\n",
       "  4  10  18\n",
       " 28  40  54"
      ]
     },
     "execution_count": 24,
     "metadata": {},
     "output_type": "execute_result"
    }
   ],
   "source": [
    "Ma = [1 2 3; 4 5 6]\n",
    "Mb = [4 5 6; 7 8 9]\n",
    "\n",
    "Ma.*Mb"
   ]
  },
  {
   "cell_type": "markdown",
   "metadata": {},
   "source": [
    "* ** Divisão por escalar**"
   ]
  },
  {
   "cell_type": "code",
   "execution_count": 25,
   "metadata": {},
   "outputs": [
    {
     "data": {
      "text/plain": [
       "2×3 Array{Float64,2}:\n",
       " 0.5  1.0  1.5\n",
       " 2.0  2.5  3.0"
      ]
     },
     "execution_count": 25,
     "metadata": {},
     "output_type": "execute_result"
    }
   ],
   "source": [
    "Ma = [1 2 3; 4 5 6]\n",
    "\n",
    "Ma/2"
   ]
  },
  {
   "cell_type": "markdown",
   "metadata": {},
   "source": [
    "* ** Divisão elemento por elemento entre vetores $[1/4  ~  2/5 ~  3/6; 4/7 ~  5/8 ~  6/9]$ **"
   ]
  },
  {
   "cell_type": "code",
   "execution_count": 26,
   "metadata": {},
   "outputs": [
    {
     "data": {
      "text/plain": [
       "2×3 Array{Float64,2}:\n",
       " 0.25      0.4    0.5     \n",
       " 0.571429  0.625  0.666667"
      ]
     },
     "execution_count": 26,
     "metadata": {},
     "output_type": "execute_result"
    }
   ],
   "source": [
    "Ma = [1 2 3; 4 5 6]\n",
    "Mb = [4 5 6; 7 8 9]\n",
    "\n",
    "Ma./Mb"
   ]
  },
  {
   "cell_type": "markdown",
   "metadata": {},
   "source": [
    "* ** Potencia elemento por elemento $[1^2 ~ 2^2 ~ 3^2; 4^2  ~ 5^2 ~  6^2]$ **"
   ]
  },
  {
   "cell_type": "code",
   "execution_count": 27,
   "metadata": {},
   "outputs": [
    {
     "data": {
      "text/plain": [
       "2×3 Array{Int64,2}:\n",
       "  1   4   9\n",
       " 16  25  36"
      ]
     },
     "execution_count": 27,
     "metadata": {},
     "output_type": "execute_result"
    }
   ],
   "source": [
    "Ma = [1 2 3; 4 5 6]\n",
    "\n",
    "Ma.^2"
   ]
  },
  {
   "cell_type": "markdown",
   "metadata": {},
   "source": [
    "* ** Potencia elemento por elemento entre vetores $[1^4 ~  2^5 ~  3^6; 4^7 ~  5^8 ~  6^9]$ **"
   ]
  },
  {
   "cell_type": "code",
   "execution_count": 28,
   "metadata": {
    "scrolled": true
   },
   "outputs": [
    {
     "data": {
      "text/plain": [
       "2×3 Array{Int64,2}:\n",
       "     1      32       729\n",
       " 16384  390625  10077696"
      ]
     },
     "execution_count": 28,
     "metadata": {},
     "output_type": "execute_result"
    }
   ],
   "source": [
    "Ma = [1 2 3; 4 5 6]\n",
    "Mb = [4 5 6; 7 8 9]\n",
    "\n",
    "Ma.^Mb"
   ]
  },
  {
   "cell_type": "markdown",
   "metadata": {},
   "source": [
    "#### TRANSPOSIÇÃO DE MATRIZES "
   ]
  },
  {
   "cell_type": "code",
   "execution_count": 29,
   "metadata": {
    "scrolled": false
   },
   "outputs": [
    {
     "data": {
      "text/plain": [
       "([1 4; 2 5; 3 6], [1 4; 2 5; 3 6])"
      ]
     },
     "execution_count": 29,
     "metadata": {},
     "output_type": "execute_result"
    }
   ],
   "source": [
    "Ma = [1 2 3; 4 5 6]\n",
    "\n",
    "transpose(Ma), Ma'"
   ]
  },
  {
   "cell_type": "markdown",
   "metadata": {},
   "source": [
    "#### MULTIPLICAÇÃO DE MATRIZES \n",
    "\n",
    "O produto de duas matrizes, $A = (a_{ij})_{m \\times p}$ e $B = (b_{ij})_{p \\times n} $ , só é possível se se o número de colunas de $A$ for igual ao número de linhas de $B$, resultando em uma matriz de $C = (c_{ij})_{m \\times n}$."
   ]
  },
  {
   "cell_type": "code",
   "execution_count": 34,
   "metadata": {},
   "outputs": [
    {
     "data": {
      "text/plain": [
       "3×4 Array{Float64,2}:\n",
       " 0.26  0.55  0.95  0.81\n",
       " 0.35  0.61  0.86  0.4 \n",
       " 0.41  0.65  0.35  0.45"
      ]
     },
     "execution_count": 34,
     "metadata": {},
     "output_type": "execute_result"
    }
   ],
   "source": [
    "Ma = [1 2 3;4 5 6]\n",
    "Md = [0.26 0.55 0.95 0.81; 0.35 0.61 0.86 0.40;0.41 0.65 0.35 0.45]"
   ]
  },
  {
   "cell_type": "code",
   "execution_count": 35,
   "metadata": {
    "scrolled": false
   },
   "outputs": [
    {
     "data": {
      "text/plain": [
       "3×4 Array{Float64,2}:\n",
       " 0.26  0.55  0.95  0.81\n",
       " 0.35  0.61  0.86  0.4 \n",
       " 0.41  0.65  0.35  0.45"
      ]
     },
     "metadata": {},
     "output_type": "display_data"
    },
    {
     "data": {
      "text/plain": [
       "2×3 Array{Int64,2}:\n",
       " 1  2  3\n",
       " 4  5  6"
      ]
     },
     "metadata": {},
     "output_type": "display_data"
    },
    {
     "data": {
      "text/plain": [
       "2×4 Array{Float64,2}:\n",
       " 2.19  3.72   3.72  2.96\n",
       " 5.25  9.15  10.2   7.94"
      ]
     },
     "metadata": {},
     "output_type": "display_data"
    },
    {
     "data": {
      "text/plain": [
       "(nothing, nothing, nothing)"
      ]
     },
     "execution_count": 35,
     "metadata": {},
     "output_type": "execute_result"
    }
   ],
   "source": [
    "display(Md), display(Ma), display(Ma*Md)"
   ]
  },
  {
   "cell_type": "markdown",
   "metadata": {},
   "source": [
    "#### MATRIZ INVERSA \n",
    "\n",
    "Uma matriz quadrada ${\\displaystyle A}$  é dita invertível quando existe outra matriz denotada  ${\\displaystyle A^{-1}}$ tal que\n",
    "\n",
    "${\\displaystyle A^{-1}\\cdot A=I} $\n",
    "\n",
    "e\n",
    "\n",
    "${\\displaystyle A\\cdot A^{-1}=I} $"
   ]
  },
  {
   "cell_type": "code",
   "execution_count": 36,
   "metadata": {},
   "outputs": [
    {
     "data": {
      "text/plain": [
       "3×3 Array{Float64,2}:\n",
       " 0.785959  0.971184   0.632629 \n",
       " 0.23716   0.0953315  0.0681523\n",
       " 0.852201  0.629095   0.887322 "
      ]
     },
     "metadata": {},
     "output_type": "display_data"
    },
    {
     "data": {
      "text/plain": [
       "3×3 Array{Float64,2}:\n",
       " -0.57785    6.42422  -0.0814369\n",
       "  2.11049   -2.19241  -1.33631  \n",
       " -0.941319  -4.61557   2.15262  "
      ]
     },
     "metadata": {},
     "output_type": "display_data"
    },
    {
     "data": {
      "text/plain": [
       "(nothing, nothing)"
      ]
     },
     "execution_count": 36,
     "metadata": {},
     "output_type": "execute_result"
    }
   ],
   "source": [
    "Mx = rand(3,3)\n",
    "Mx_inv = inv(Mx)\n",
    "\n",
    "display(Mx), display(Mx_inv)"
   ]
  },
  {
   "cell_type": "markdown",
   "metadata": {},
   "source": [
    "#### MATRIZES ESPECIAIS "
   ]
  },
  {
   "cell_type": "markdown",
   "metadata": {},
   "source": [
    "* **Matriz de zeros **\n",
    "\n",
    "Matriz no qual todos os elementos são zeros. Sintaxe:\n",
    "```julia\n",
    "zeros(m, n)\n",
    "```"
   ]
  },
  {
   "cell_type": "code",
   "execution_count": 34,
   "metadata": {
    "scrolled": true
   },
   "outputs": [
    {
     "data": {
      "text/plain": [
       "3×4 Array{Float64,2}:\n",
       " 0.0  0.0  0.0  0.0\n",
       " 0.0  0.0  0.0  0.0\n",
       " 0.0  0.0  0.0  0.0"
      ]
     },
     "execution_count": 34,
     "metadata": {},
     "output_type": "execute_result"
    }
   ],
   "source": [
    "Me = zeros(3,4)"
   ]
  },
  {
   "cell_type": "markdown",
   "metadata": {},
   "source": [
    "* ** Matriz de uns **\n",
    "\n",
    "Matriz no qual todos os elementos são \"uns\". Sintaxe:\n",
    "```julia\n",
    "ones(linhas, colunas)\n",
    "```"
   ]
  },
  {
   "cell_type": "code",
   "execution_count": 35,
   "metadata": {},
   "outputs": [
    {
     "data": {
      "text/plain": [
       "3×4 Array{Float64,2}:\n",
       " 1.0  1.0  1.0  1.0\n",
       " 1.0  1.0  1.0  1.0\n",
       " 1.0  1.0  1.0  1.0"
      ]
     },
     "execution_count": 35,
     "metadata": {},
     "output_type": "execute_result"
    }
   ],
   "source": [
    "Me = ones(3, 4)"
   ]
  },
  {
   "cell_type": "markdown",
   "metadata": {},
   "source": [
    "* ** Matriz identidade **\n",
    "\n",
    "Matriz quadrada no qual todos os elementos da diagnoa principal são \"1\" e os demais \"0\". Sintaxe:\n",
    "```julia\n",
    "Matrix(1.0I, m, n)\n",
    "```"
   ]
  },
  {
   "cell_type": "code",
   "execution_count": 70,
   "metadata": {
    "scrolled": true
   },
   "outputs": [
    {
     "data": {
      "text/plain": [
       "5×5 Array{Float64,2}:\n",
       " 1.0  0.0  0.0  0.0  0.0\n",
       " 0.0  1.0  0.0  0.0  0.0\n",
       " 0.0  0.0  1.0  0.0  0.0\n",
       " 0.0  0.0  0.0  1.0  0.0\n",
       " 0.0  0.0  0.0  0.0  1.0"
      ]
     },
     "execution_count": 70,
     "metadata": {},
     "output_type": "execute_result"
    }
   ],
   "source": [
    "Matrix(1.0I, 5, 5)"
   ]
  },
  {
   "cell_type": "markdown",
   "metadata": {},
   "source": [
    "* ** Matriz identidade na forma $ I = M*inv(M)$. **\n",
    "\n",
    "O resultado apresenta valores proximos de zero para os numeros fora da diagonal principal"
   ]
  },
  {
   "cell_type": "code",
   "execution_count": 72,
   "metadata": {
    "scrolled": false
   },
   "outputs": [
    {
     "data": {
      "text/plain": [
       "3×3 Array{Float64,2}:\n",
       "  1.0           1.33227e-15  1.11022e-15\n",
       " -1.77636e-15   1.0          4.44089e-16\n",
       " -2.9976e-15   -1.66533e-16  1.0        "
      ]
     },
     "execution_count": 72,
     "metadata": {},
     "output_type": "execute_result"
    }
   ],
   "source": [
    "Mx = [0.91   0.43   0.41; 0.45   0.03   0.83; 0.85   0.55   0.10]\n",
    "\n",
    "Mx*inv(Mx)"
   ]
  },
  {
   "cell_type": "markdown",
   "metadata": {},
   "source": [
    "#### DETERMINANTE , BASES E DIMENSÃO "
   ]
  },
  {
   "cell_type": "code",
   "execution_count": 73,
   "metadata": {},
   "outputs": [
    {
     "data": {
      "text/plain": [
       "3×3 Array{Float64,2}:\n",
       " 0.91  0.43  0.41\n",
       " 0.45  0.03  0.83\n",
       " 0.87  0.55  0.1 "
      ]
     },
     "execution_count": 73,
     "metadata": {},
     "output_type": "execute_result"
    }
   ],
   "source": [
    "Mx = [0.91 0.43 0.41; 0.45 0.03 0.83; 0.87 0.55 0.10]"
   ]
  },
  {
   "cell_type": "markdown",
   "metadata": {},
   "source": [
    "* ** Determinante  **"
   ]
  },
  {
   "cell_type": "code",
   "execution_count": 45,
   "metadata": {},
   "outputs": [
    {
     "data": {
      "text/plain": [
       "3×3 Array{Float64,2}:\n",
       " 0.91  0.43  0.41\n",
       " 0.45  0.03  0.83\n",
       " 0.87  0.55  0.1 "
      ]
     },
     "metadata": {},
     "output_type": "display_data"
    },
    {
     "data": {
      "text/plain": [
       "-0.030758000000000056"
      ]
     },
     "metadata": {},
     "output_type": "display_data"
    },
    {
     "data": {
      "text/plain": [
       "(nothing, nothing)"
      ]
     },
     "execution_count": 45,
     "metadata": {},
     "output_type": "execute_result"
    }
   ],
   "source": [
    "display(Mx), display(det(Mx))"
   ]
  },
  {
   "cell_type": "markdown",
   "metadata": {},
   "source": [
    "* **Norma**"
   ]
  },
  {
   "cell_type": "code",
   "execution_count": 46,
   "metadata": {},
   "outputs": [
    {
     "data": {
      "text/plain": [
       "1.7727944043232988"
      ]
     },
     "execution_count": 46,
     "metadata": {},
     "output_type": "execute_result"
    }
   ],
   "source": [
    "norm(Mx)"
   ]
  },
  {
   "cell_type": "markdown",
   "metadata": {},
   "source": [
    "* ** Redução de linhas **"
   ]
  },
  {
   "cell_type": "code",
   "execution_count": null,
   "metadata": {
    "collapsed": true
   },
   "outputs": [],
   "source": []
  },
  {
   "cell_type": "markdown",
   "metadata": {},
   "source": [
    "* ** Base **"
   ]
  },
  {
   "cell_type": "code",
   "execution_count": null,
   "metadata": {
    "collapsed": true
   },
   "outputs": [],
   "source": []
  },
  {
   "cell_type": "markdown",
   "metadata": {},
   "source": [
    "* ** Rank de uma matriz **"
   ]
  },
  {
   "cell_type": "code",
   "execution_count": 37,
   "metadata": {
    "scrolled": true
   },
   "outputs": [
    {
     "data": {
      "text/plain": [
       "3"
      ]
     },
     "metadata": {},
     "output_type": "display_data"
    },
    {
     "data": {
      "text/plain": [
       "3×3 Array{Float64,2}:\n",
       " 0.785959  0.971184   0.632629 \n",
       " 0.23716   0.0953315  0.0681523\n",
       " 0.852201  0.629095   0.887322 "
      ]
     },
     "metadata": {},
     "output_type": "display_data"
    }
   ],
   "source": [
    "display(rank(Mx)), display(Mx);"
   ]
  },
  {
   "cell_type": "markdown",
   "metadata": {},
   "source": [
    "* ** Dimensão **"
   ]
  },
  {
   "cell_type": "code",
   "execution_count": 48,
   "metadata": {},
   "outputs": [
    {
     "data": {
      "text/plain": [
       "2"
      ]
     },
     "metadata": {},
     "output_type": "display_data"
    },
    {
     "data": {
      "text/plain": [
       "3×3 Array{Float64,2}:\n",
       " 0.91  0.43  0.41\n",
       " 0.45  0.03  0.83\n",
       " 0.87  0.55  0.1 "
      ]
     },
     "metadata": {},
     "output_type": "display_data"
    },
    {
     "data": {
      "text/plain": [
       "(nothing, nothing)"
      ]
     },
     "execution_count": 48,
     "metadata": {},
     "output_type": "execute_result"
    }
   ],
   "source": [
    "display(ndims(Mx)), display(Mx)"
   ]
  },
  {
   "cell_type": "markdown",
   "metadata": {},
   "source": [
    "#### DECOMPOSIÇÃO VETORIAL DE MATRIZES"
   ]
  },
  {
   "cell_type": "markdown",
   "metadata": {},
   "source": [
    "#### DECOMPOSIÇAO LU \n",
    "\n",
    "Encontra a decomposição LU na forma $p  a = L  U$, no qual:\n",
    "* L - triangular inferior,\n",
    "* U - triangular superior,\n",
    "* p - matriz de permutação.\n",
    "\n",
    "    *A matriz \"a\" não necessita ser quadrada."
   ]
  },
  {
   "cell_type": "code",
   "execution_count": 38,
   "metadata": {},
   "outputs": [
    {
     "data": {
      "text/plain": [
       "3×3 Array{Float64,2}:\n",
       " 1.0        0.0       0.0\n",
       " 0.922269   1.0       0.0\n",
       " 0.278291  -0.203944  1.0"
      ]
     },
     "metadata": {},
     "output_type": "display_data"
    },
    {
     "data": {
      "text/plain": [
       "3×3 Array{Float64,2}:\n",
       " 0.852201  0.629095   0.887322\n",
       " 0.0       0.390989  -0.185721\n",
       " 0.0       0.0       -0.216658"
      ]
     },
     "metadata": {},
     "output_type": "display_data"
    },
    {
     "data": {
      "text/plain": [
       "3-element Array{Int64,1}:\n",
       " 3\n",
       " 1\n",
       " 2"
      ]
     },
     "metadata": {},
     "output_type": "display_data"
    }
   ],
   "source": [
    "L, U, p = lu(Mx)\n",
    "\n",
    "display(L)\n",
    "display(U)\n",
    "display(p)"
   ]
  },
  {
   "cell_type": "markdown",
   "metadata": {
    "collapsed": true
   },
   "source": [
    "## SISTEMAS LINEARES"
   ]
  },
  {
   "cell_type": "markdown",
   "metadata": {},
   "source": [
    "Dado um sistema de equações lineares, formado pela matriz $A$  dos coeficientes do sistema ou matriz do sistema, vetor $b$ dos coeficientes do sistema, e $x$ vetor das incógnitas. Temos que:\n",
    "\n",
    "\n",
    "$\\displaystyle{A\\cdot x = b }$ , sendo:\n",
    "\n",
    "${\\displaystyle A={\\begin{bmatrix}a_{11}&a_{12}&\\cdots &a_{1n}\\\\a_{21}&a_{22}&\\cdots &a_{2n}\\\\\\vdots &\\vdots &\\ddots &\\vdots \\\\a_{m1}&a_{m2}&\\cdots &a_{mn}\\end{bmatrix}},\\quad {\\mathbf {x}}={\\begin{bmatrix}x_{1}\\\\x_{2}\\\\\\vdots \\\\x_{n}\\end{bmatrix}},\\quad {\\mathbf {b}}={\\begin{bmatrix}b_{1}\\\\b_{2}\\\\\\vdots \\\\b_{m}\\end{bmatrix}}}\n",
    "{\\displaystyle }$\n",
    "\n",
    "\n",
    "Logo, a solução do sistema é :\n",
    "\n",
    "\n",
    "$\\displaystyle{ x = A \\setminus b}$"
   ]
  },
  {
   "cell_type": "code",
   "execution_count": 51,
   "metadata": {},
   "outputs": [
    {
     "data": {
      "text/plain": [
       "3×3 Array{Float64,2}:\n",
       " 0.880181  0.824192  0.644185\n",
       " 0.1465    0.631964  0.524963\n",
       " 0.858161  0.556022  0.529089"
      ]
     },
     "metadata": {},
     "output_type": "display_data"
    },
    {
     "data": {
      "text/plain": [
       "3×1 Array{Float64,2}:\n",
       " 0.6854092466804651  \n",
       " 0.016435755053148204\n",
       " 0.5577203026411155  "
      ]
     },
     "metadata": {},
     "output_type": "display_data"
    }
   ],
   "source": [
    "# criando duas matrizes aleatórias\n",
    "\n",
    "A = rand(3, 3) # matriz das coeficientes\n",
    "B = rand(3, 1) # vetor dos termos independentes\n",
    "\n",
    "display(A)\n",
    "display(B)"
   ]
  },
  {
   "cell_type": "code",
   "execution_count": 52,
   "metadata": {
    "scrolled": true
   },
   "outputs": [
    {
     "data": {
      "text/plain": [
       "3×1 Array{Float64,2}:\n",
       "  0.8784564696608766\n",
       "  1.0257925302610005\n",
       " -1.4487168330211   "
      ]
     },
     "execution_count": 52,
     "metadata": {},
     "output_type": "execute_result"
    }
   ],
   "source": [
    "# X1,X2,X3: solução dos sistema\n",
    "\n",
    "x = A\\B"
   ]
  },
  {
   "cell_type": "markdown",
   "metadata": {},
   "source": [
    "** O poder de cálculo da linguagem Julia na manipulação de matrizes**\n",
    "\n",
    "Vamos calcular um sistema linear de 5000 equações e 5000 variáveis. ATENÇÃO!!! Ao definir matrizes grandes, atente ao tamanho da memória RAM do computador, pois dependendo do tamanho pode ser consumida toda a ram e toda a memória virtual (swap) e travar a máquina"
   ]
  },
  {
   "cell_type": "code",
   "execution_count": 39,
   "metadata": {
    "collapsed": true
   },
   "outputs": [],
   "source": [
    "A = rand(5000, 5000)\n",
    "B = rand(5000, 1);"
   ]
  },
  {
   "cell_type": "code",
   "execution_count": 42,
   "metadata": {
    "scrolled": true
   },
   "outputs": [
    {
     "data": {
      "text/plain": [
       "1.008825337"
      ]
     },
     "execution_count": 42,
     "metadata": {},
     "output_type": "execute_result"
    }
   ],
   "source": [
    "@elapsed x = A\\B"
   ]
  },
  {
   "cell_type": "code",
   "execution_count": 43,
   "metadata": {},
   "outputs": [
    {
     "data": {
      "text/plain": [
       "Array{Float64,2}"
      ]
     },
     "execution_count": 43,
     "metadata": {},
     "output_type": "execute_result"
    }
   ],
   "source": [
    "typeof(x)"
   ]
  },
  {
   "cell_type": "code",
   "execution_count": 44,
   "metadata": {},
   "outputs": [
    {
     "data": {
      "text/plain": [
       "(-0.9659401992188239, 0.4673962851575753)"
      ]
     },
     "execution_count": 44,
     "metadata": {},
     "output_type": "execute_result"
    }
   ],
   "source": [
    "#Qual o resultado de x2 e de x4999?\n",
    "x[2], x[4999]"
   ]
  },
  {
   "cell_type": "markdown",
   "metadata": {},
   "source": [
    "## AUTOVALORES E AUTOVETORES\n"
   ]
  },
  {
   "cell_type": "markdown",
   "metadata": {},
   "source": [
    "### AUTOVALORES\n",
    "\n",
    "Em álgebra linear, um escalar λ é valor próprio (ou autovalor) de um operador linear ${\\displaystyle A:V\\rightarrow V} $ se existir um vector x diferente de zero tal que ${\\displaystyle A{\\mathbf {x}}=\\lambda {\\mathbf {x}}}$. O vector x é chamado vector próprio.\n",
    "\n",
    "Os autovalores de uma dada matriz quadrada A de dimensão ${\\displaystyle n\\times n}$ são os n números que resumem as propriedades essenciais daquela matriz. O autovalor de A é um número λ tal que, se for subtraído de cada entrada na diagonal de A, converte A numa matriz singular(ou não-invertível). Subtrair um escalar λ de cada entrada na diagonal de A é o mesmo que subtrair λ vezes a matriz identidade I de A. Portanto, λ é um autovalor se, e somente se, a matriz $   {\\displaystyle (A-\\lambda I)} $ for singular. Wikipedia."
   ]
  },
  {
   "cell_type": "code",
   "execution_count": null,
   "metadata": {
    "collapsed": true,
    "scrolled": false
   },
   "outputs": [],
   "source": []
  },
  {
   "cell_type": "markdown",
   "metadata": {},
   "source": [
    "### AUTOVETORES\n",
    "\n",
    "Em Álgebra linear, um autovetor ou vetor próprio representa uma direção que é preservada por uma transformação linear. Mais precisamente, seja V um espaço vectorial sobre um corpo F, e A: V→ V uma transformação linear. v é um autovetor quando v não é o vector nulo e existe um escalar ${\\displaystyle \\lambda } $ tal que\n",
    "\n",
    "$ {\\displaystyle A\\ v=\\lambda \\ v\\,} $.\n",
    "\n",
    "Nesse caso, dizemos também que ${\\displaystyle \\lambda \\,}$ é um autovalor ou valor próprio. v é chamado de autovetor associado ao autovalor ${\\displaystyle \\lambda \\,} $. Wikipedia."
   ]
  },
  {
   "cell_type": "markdown",
   "metadata": {},
   "source": [
    "%%% Fim Algebra linear %%%"
   ]
  },
  {
   "cell_type": "code",
   "execution_count": null,
   "metadata": {
    "collapsed": true
   },
   "outputs": [],
   "source": []
  }
 ],
 "metadata": {
  "anaconda-cloud": {},
  "kernelspec": {
   "display_name": "Julia 1.0.2",
   "language": "julia",
   "name": "julia-1.0"
  },
  "language_info": {
   "file_extension": ".jl",
   "mimetype": "application/julia",
   "name": "julia",
   "version": "1.0.2"
  }
 },
 "nbformat": 4,
 "nbformat_minor": 1
}
