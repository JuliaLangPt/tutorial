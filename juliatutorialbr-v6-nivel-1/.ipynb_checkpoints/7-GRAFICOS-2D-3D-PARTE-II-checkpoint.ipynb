{
 "cells": [
  {
   "cell_type": "markdown",
   "metadata": {},
   "source": [
    "# GRÁFICOS 2D-3D PARTE II\n",
    "\n"
   ]
  },
  {
   "cell_type": "markdown",
   "metadata": {},
   "source": [
    "## GRÁFICO DE UMA FUNÇÃO PARTE II\n",
    "\n",
    "** Funções Genéricas, Anônimas e Expressões Simbólicas**"
   ]
  },
  {
   "cell_type": "markdown",
   "metadata": {},
   "source": [
    "### GRÁFICO FUNÇÃO GENÉRICA\n",
    "\n",
    "sintaxe:\n",
    "```julia\n",
    "plot(x_vetor, função_genérica, label = \"nome\", outras_opções) \n",
    "ou \n",
    "plot(função_genérica, x_vetor, label = \"nome\", outras_opções)\n",
    "```"
   ]
  },
  {
   "cell_type": "markdown",
   "metadata": {},
   "source": [
    "** Melhorando o Gráfico: Características dos atributos**\n",
    "+ Line\n",
    "        line = (:steppre, :dot, :arrow, 0.5, 4, :red)\n",
    "        seriestype = :steppre,\n",
    "        linestyle = :dot,\n",
    "        arrow = :arrow,\n",
    "        linealpha = 0.5,\n",
    "        linewidth = 4,\n",
    "        linecolor = :red)\n",
    "\n",
    "+ Mark\n",
    "        m = (:hexagon, 20, 0.6, :green, stroke(3, 0.2, :black, :dot))\n",
    "        markershape = :hexagon\n",
    "        markersize = 20,\n",
    "        markeralpha = 0.6,\n",
    "        markercolor = :green,\n",
    "        markerstrokewidth = 3,\n",
    "        markerstrokealpha = 0.2,\n",
    "        markerstrokecolor = :black,\n",
    "        markerstrokestyle = :dot)\n",
    "        \n",
    "+ Fill\n",
    "       fill = (0, 0.5, :red)\n",
    "       fillrange = 0,\n",
    "       fillalpha = 0.5,\n",
    "       fillcolor = :red)\n",
    "+ Axis\n",
    "       xaxis = (\"my label\", (0,10), 0:0.5:10, :log, :flip, font(20, \"Courier\"))\n",
    "       xlabel = \"my label\",\n",
    "       xlims = (0,10),\n",
    "       xticks = 0:0.5:10,\n",
    "       xscale = :log,\n",
    "       xflip = true,\n",
    "       xtickfont = font(20, \"Courier\"))\n",
    "+ Background\n",
    "+ Foreground\n",
    "+ Dpi\n",
    "+ html_output_format\n",
    "+ size\n"
   ]
  },
  {
   "cell_type": "code",
   "execution_count": 3,
   "metadata": {
    "collapsed": false
   },
   "outputs": [
    {
     "data": {
      "text/plain": [
       "Plots.PlotlyJSBackend()"
      ]
     },
     "execution_count": 3,
     "metadata": {},
     "output_type": "execute_result"
    }
   ],
   "source": [
    "using Plots\n",
    "plotlyjs()"
   ]
  },
  {
   "cell_type": "code",
   "execution_count": 4,
   "metadata": {
    "collapsed": false,
    "scrolled": true
   },
   "outputs": [
    {
     "data": {
      "text/plain": [
       "f2 (generic function with 1 method)"
      ]
     },
     "execution_count": 4,
     "metadata": {},
     "output_type": "execute_result"
    }
   ],
   "source": [
    "# vetor x definido como os pontos de 0 a 10 dividos de 0.5 em 0.5\n",
    "\n",
    "vetor_x = 0:0.5:10\n",
    "f2(x) = sin(x)*x"
   ]
  },
  {
   "cell_type": "code",
   "execution_count": 5,
   "metadata": {
    "collapsed": false,
    "scrolled": false
   },
   "outputs": [
    {
     "data": {
      "text/html": [
       "<div id=\"03f7829d-a8a7-49c3-9bf3-3fd3be7ef16e\" class=\"plotly-graph-div\"></div>\n",
       "\n",
       "<script>\n",
       "    window.PLOTLYENV=window.PLOTLYENV || {};\n",
       "    window.PLOTLYENV.BASE_URL=\"https://plot.ly\";\n",
       "    require(['plotly'], function(Plotly) {\n",
       "        Plotly.newPlot('03f7829d-a8a7-49c3-9bf3-3fd3be7ef16e', [{\"xaxis\":\"x\",\"colorbar\":{\"title\":\"\"},\"yaxis\":\"y\",\"x\":[0.0,0.5,1.0,1.5,2.0,2.5,3.0,3.5,4.0,4.5,5.0,5.5,6.0,6.5,7.0,7.5,8.0,8.5,9.0,9.5,10.0],\"showlegend\":true,\"mode\":\"lines+markers\",\"name\":\"sin(x)*x\",\"marker\":{\"symbol\":\"circle\",\"color\":[\"rgba(0, 0, 255, 0.600)\",\"rgba(0, 0, 255, 0.600)\",\"rgba(0, 0, 255, 0.600)\",\"rgba(0, 0, 255, 0.600)\",\"rgba(0, 0, 255, 0.600)\",\"rgba(0, 0, 255, 0.600)\",\"rgba(0, 0, 255, 0.600)\",\"rgba(0, 0, 255, 0.600)\",\"rgba(0, 0, 255, 0.600)\",\"rgba(0, 0, 255, 0.600)\",\"rgba(0, 0, 255, 0.600)\",\"rgba(0, 0, 255, 0.600)\",\"rgba(0, 0, 255, 0.600)\",\"rgba(0, 0, 255, 0.600)\",\"rgba(0, 0, 255, 0.600)\",\"rgba(0, 0, 255, 0.600)\",\"rgba(0, 0, 255, 0.600)\",\"rgba(0, 0, 255, 0.600)\",\"rgba(0, 0, 255, 0.600)\",\"rgba(0, 0, 255, 0.600)\",\"rgba(0, 0, 255, 0.600)\"],\"line\":{\"color\":[\"rgba(0, 0, 0, 0.600)\",\"rgba(0, 0, 0, 0.600)\",\"rgba(0, 0, 0, 0.600)\",\"rgba(0, 0, 0, 0.600)\",\"rgba(0, 0, 0, 0.600)\",\"rgba(0, 0, 0, 0.600)\",\"rgba(0, 0, 0, 0.600)\",\"rgba(0, 0, 0, 0.600)\",\"rgba(0, 0, 0, 0.600)\",\"rgba(0, 0, 0, 0.600)\",\"rgba(0, 0, 0, 0.600)\",\"rgba(0, 0, 0, 0.600)\",\"rgba(0, 0, 0, 0.600)\",\"rgba(0, 0, 0, 0.600)\",\"rgba(0, 0, 0, 0.600)\",\"rgba(0, 0, 0, 0.600)\",\"rgba(0, 0, 0, 0.600)\",\"rgba(0, 0, 0, 0.600)\",\"rgba(0, 0, 0, 0.600)\",\"rgba(0, 0, 0, 0.600)\",\"rgba(0, 0, 0, 0.600)\"],\"width\":1},\"size\":10},\"line\":{\"color\":\"rgba(0, 0, 0, 0.200)\",\"width\":2,\"dash\":\"solid\",\"shape\":\"linear\"},\"y\":[0.0,0.2397127693021015,0.8414709848078965,1.4962424799060816,1.8185948536513634,1.496180360259891,0.4233600241796016,-1.2277412969136694,-3.027209981231713,-4.3988855294929365,-4.794621373315692,-3.8804717906371557,-1.6764929891935552,1.398279922570801,4.598906191031523,7.034999825810542,7.914865972987054,6.787140457299667,3.7090663671758093,-0.7139356443871884,-5.440211108893697],\"type\":\"scatter\"}],\n",
       "               {\"showlegend\":true,\"xaxis\":{\"showticklabels\":true,\"gridwidth\":0.5,\"tickvals\":[0.0,0.5,1.0,1.5,2.0,2.5,3.0,3.5,4.0,4.5,5.0,5.5,6.0,6.5,7.0,7.5,8.0,8.5,9.0,9.5,10.0],\"visible\":true,\"ticks\":\"inside\",\"range\":[0.0,10.0],\"domain\":[0.061654272382618835,0.9934383202099737],\"tickmode\":\"array\",\"linecolor\":\"rgba(0, 0, 0, 1.000)\",\"showgrid\":true,\"title\":\"x\",\"mirror\":false,\"tickangle\":0,\"showline\":true,\"gridcolor\":\"rgba(0, 0, 0, 0.100)\",\"titlefont\":{\"color\":\"rgba(0, 0, 0, 1.000)\",\"family\":\"sans-serif\",\"size\":15},\"tickcolor\":\"rgb(0, 0, 0)\",\"ticktext\":[\"0.0\",\"0.5\",\"1.0\",\"1.5\",\"2.0\",\"2.5\",\"3.0\",\"3.5\",\"4.0\",\"4.5\",\"5.0\",\"5.5\",\"6.0\",\"6.5\",\"7.0\",\"7.5\",\"8.0\",\"8.5\",\"9.0\",\"9.5\",\"10.0\"],\"zeroline\":false,\"type\":\"-\",\"tickfont\":{\"color\":\"rgba(0, 0, 0, 1.000)\",\"family\":\"sans-serif\",\"size\":11},\"zerolinecolor\":\"rgba(0, 0, 0, 1.000)\",\"anchor\":\"y\"},\"paper_bgcolor\":\"rgba(255, 255, 255, 1.000)\",\"annotations\":[{\"yanchor\":\"top\",\"xanchor\":\"center\",\"rotation\":-0.0,\"y\":1.0,\"font\":{\"color\":\"rgba(0, 0, 0, 1.000)\",\"family\":\"sans-serif\",\"size\":20},\"yref\":\"paper\",\"showarrow\":false,\"text\":\"Gráfico\",\"xref\":\"paper\",\"x\":0.5275462962962963}],\"height\":300,\"margin\":{\"l\":0,\"b\":20,\"r\":0,\"t\":20},\"plot_bgcolor\":\"rgba(255, 255, 255, 1.000)\",\"yaxis\":{\"showticklabels\":true,\"gridwidth\":0.5,\"tickvals\":[-6.0,-5.0,-4.0,-3.0,-2.0,-1.0,0.0,1.0,2.0,3.0,4.0,5.0,6.0,7.0,8.0,9.0,10.0],\"visible\":true,\"ticks\":\"inside\",\"range\":[-6.0,10.0],\"domain\":[0.10108632254301551,0.9220618256051328],\"tickmode\":\"array\",\"linecolor\":\"rgba(0, 0, 0, 1.000)\",\"showgrid\":true,\"title\":\"sin(x)*x\",\"mirror\":false,\"tickangle\":0,\"showline\":true,\"gridcolor\":\"rgba(0, 0, 0, 0.100)\",\"titlefont\":{\"color\":\"rgba(0, 0, 0, 1.000)\",\"family\":\"sans-serif\",\"size\":15},\"tickcolor\":\"rgb(0, 0, 0)\",\"ticktext\":[\"-6\",\"-5\",\"-4\",\"-3\",\"-2\",\"-1\",\"0\",\"1\",\"2\",\"3\",\"4\",\"5\",\"6\",\"7\",\"8\",\"9\",\"10\"],\"zeroline\":false,\"type\":\"-\",\"tickfont\":{\"color\":\"rgba(0, 0, 0, 1.000)\",\"family\":\"sans-serif\",\"size\":11},\"zerolinecolor\":\"rgba(0, 0, 0, 1.000)\",\"anchor\":\"x\"},\"legend\":{\"bordercolor\":\"rgba(0, 0, 0, 1.000)\",\"bgcolor\":\"rgba(255, 255, 255, 1.000)\",\"font\":{\"color\":\"rgba(0, 0, 0, 1.000)\",\"family\":\"sans-serif\",\"size\":11},\"y\":1.0,\"x\":1.0},\"width\":600}, {showLink: false});\n",
       "\n",
       "    });\n",
       " </script>\n"
      ]
     },
     "execution_count": 5,
     "metadata": {},
     "output_type": "execute_result"
    }
   ],
   "source": [
    "plot(vetor_x, f2, \n",
    "    label  = \"sin(x)*x\", \n",
    "    xlabel = \"x\", \n",
    "    ylabel = \"y\", \n",
    "    title  = \"Gráfico\",\n",
    "    size   = (600,300), \n",
    "    line   = (:line, 2 , 0.2, :black),  \n",
    "    marker = (:dot, 5, 0.6, :blue), \n",
    "    xaxis = (\"x\", (0 , 10),  0:0.5:10),\n",
    "    yaxis = (\"sin(x)*x\", (-6, 10), -6:1:10))    "
   ]
  },
  {
   "cell_type": "markdown",
   "metadata": {},
   "source": [
    "### GRÁFICO FUNÇÃO ANÔNIMA \n",
    "\n",
    "Sintaxe:\n",
    "```julia\n",
    "plot(var -> expressão_variável, vetor_x , label = \"nome\", outras_opções)\n",
    "\n",
    "plot(vetor_x , var -> expressão_variável, label = \"nome\", outras_opções)\n",
    "```\n",
    "Também pode ser utilizado `scatter e bar`"
   ]
  },
  {
   "cell_type": "code",
   "execution_count": 6,
   "metadata": {
    "collapsed": false
   },
   "outputs": [
    {
     "data": {
      "text/html": [
       "<div id=\"6e0b4c0e-ea61-41d2-9b39-06f40b6474ee\" class=\"plotly-graph-div\"></div>\n",
       "\n",
       "<script>\n",
       "    window.PLOTLYENV=window.PLOTLYENV || {};\n",
       "    window.PLOTLYENV.BASE_URL=\"https://plot.ly\";\n",
       "    require(['plotly'], function(Plotly) {\n",
       "        Plotly.newPlot('6e0b4c0e-ea61-41d2-9b39-06f40b6474ee', [{\"showlegend\":true,\"mode\":\"lines\",\"xaxis\":\"x\",\"colorbar\":{\"title\":\"\"},\"line\":{\"color\":\"rgba(0, 154, 250, 1.000)\",\"width\":1,\"dash\":\"solid\",\"shape\":\"linear\"},\"y\":[0.0,0.2397127693021015,0.8414709848078965,1.4962424799060816,1.8185948536513634,1.496180360259891,0.4233600241796016,-1.2277412969136694,-3.027209981231713,-4.3988855294929365,-4.794621373315692,-3.8804717906371557,-1.6764929891935552,1.398279922570801,4.598906191031523,7.034999825810542,7.914865972987054,6.787140457299667,3.7090663671758093,-0.7139356443871884,-5.440211108893697],\"type\":\"scatter\",\"name\":\"sin(x)*x\",\"yaxis\":\"y\",\"x\":[0.0,0.5,1.0,1.5,2.0,2.5,3.0,3.5,4.0,4.5,5.0,5.5,6.0,6.5,7.0,7.5,8.0,8.5,9.0,9.5,10.0]}],\n",
       "               {\"showlegend\":true,\"xaxis\":{\"showticklabels\":true,\"gridwidth\":0.5,\"tickvals\":[0.0,2.0,4.0,6.0,8.0,10.0],\"visible\":true,\"ticks\":\"inside\",\"range\":[0.0,10.0],\"domain\":[0.05428696412948381,0.9901574803149608],\"tickmode\":\"array\",\"linecolor\":\"rgba(0, 0, 0, 1.000)\",\"showgrid\":true,\"title\":\"\",\"mirror\":false,\"tickangle\":0,\"showline\":true,\"gridcolor\":\"rgba(0, 0, 0, 0.100)\",\"titlefont\":{\"color\":\"rgba(0, 0, 0, 1.000)\",\"family\":\"sans-serif\",\"size\":15},\"tickcolor\":\"rgb(0, 0, 0)\",\"ticktext\":[\"0\",\"2\",\"4\",\"6\",\"8\",\"10\"],\"zeroline\":false,\"type\":\"-\",\"tickfont\":{\"color\":\"rgba(0, 0, 0, 1.000)\",\"family\":\"sans-serif\",\"size\":11},\"zerolinecolor\":\"rgba(0, 0, 0, 1.000)\",\"anchor\":\"y\"},\"paper_bgcolor\":\"rgba(255, 255, 255, 1.000)\",\"annotations\":[{\"yanchor\":\"top\",\"xanchor\":\"center\",\"rotation\":-0.0,\"y\":1.0,\"font\":{\"color\":\"rgba(0, 0, 0, 1.000)\",\"family\":\"sans-serif\",\"size\":20},\"yref\":\"paper\",\"showarrow\":false,\"text\":\"Gráfico\",\"xref\":\"paper\",\"x\":0.5222222222222223}],\"height\":300,\"margin\":{\"l\":0,\"b\":20,\"r\":0,\"t\":20},\"plot_bgcolor\":\"rgba(255, 255, 255, 1.000)\",\"yaxis\":{\"showticklabels\":true,\"gridwidth\":0.5,\"tickvals\":[-4.0,-2.0,0.0,2.0,4.0,6.0],\"visible\":true,\"ticks\":\"inside\",\"range\":[-5.440211108893697,7.914865972987054],\"domain\":[0.050160396617089535,0.9220618256051327],\"tickmode\":\"array\",\"linecolor\":\"rgba(0, 0, 0, 1.000)\",\"showgrid\":true,\"title\":\"\",\"mirror\":false,\"tickangle\":0,\"showline\":true,\"gridcolor\":\"rgba(0, 0, 0, 0.100)\",\"titlefont\":{\"color\":\"rgba(0, 0, 0, 1.000)\",\"family\":\"sans-serif\",\"size\":15},\"tickcolor\":\"rgb(0, 0, 0)\",\"ticktext\":[\"-4\",\"-2\",\"0\",\"2\",\"4\",\"6\"],\"zeroline\":false,\"type\":\"-\",\"tickfont\":{\"color\":\"rgba(0, 0, 0, 1.000)\",\"family\":\"sans-serif\",\"size\":11},\"zerolinecolor\":\"rgba(0, 0, 0, 1.000)\",\"anchor\":\"x\"},\"legend\":{\"bordercolor\":\"rgba(0, 0, 0, 1.000)\",\"bgcolor\":\"rgba(255, 255, 255, 1.000)\",\"font\":{\"color\":\"rgba(0, 0, 0, 1.000)\",\"family\":\"sans-serif\",\"size\":11},\"y\":1.0,\"x\":1.0},\"width\":400}, {showLink: false});\n",
       "\n",
       "    });\n",
       " </script>\n"
      ]
     },
     "execution_count": 6,
     "metadata": {},
     "output_type": "execute_result"
    }
   ],
   "source": [
    "using Plots\n",
    "plotlyjs()\n",
    "\n",
    "# vetor x definido como os pontos de 0 a 10 dividos de 0.5 em 0.5\n",
    "\n",
    "plot(0:0.5:10, x -> sin(x)*x, label = \"sin(x)*x\", title = \"Gráfico\", size = (400, 300))"
   ]
  },
  {
   "cell_type": "markdown",
   "metadata": {},
   "source": [
    "Melhorando"
   ]
  },
  {
   "cell_type": "code",
   "execution_count": 7,
   "metadata": {
    "collapsed": false,
    "scrolled": false
   },
   "outputs": [
    {
     "data": {
      "text/html": [
       "<div id=\"2142fa88-c04e-4015-add6-aa25bdb87332\" class=\"plotly-graph-div\"></div>\n",
       "\n",
       "<script>\n",
       "    window.PLOTLYENV=window.PLOTLYENV || {};\n",
       "    window.PLOTLYENV.BASE_URL=\"https://plot.ly\";\n",
       "    require(['plotly'], function(Plotly) {\n",
       "        Plotly.newPlot('2142fa88-c04e-4015-add6-aa25bdb87332', [{\"showlegend\":true,\"mode\":\"lines\",\"xaxis\":\"x\",\"colorbar\":{\"title\":\"\"},\"line\":{\"color\":\"rgba(0, 154, 250, 1.000)\",\"width\":1,\"dash\":\"solid\",\"shape\":\"linear\"},\"y\":[0.0,0.2397127693021015,0.8414709848078965,1.4962424799060816,1.8185948536513634,1.496180360259891,0.4233600241796016,-1.2277412969136694,-3.027209981231713,-4.3988855294929365,-4.794621373315692,-3.8804717906371557,-1.6764929891935552,1.398279922570801,4.598906191031523,7.034999825810542,7.914865972987054,6.787140457299667,3.7090663671758093,-0.7139356443871884,-5.440211108893697],\"type\":\"scatter\",\"name\":\"sin(x)*x\",\"yaxis\":\"y\",\"x\":[0.0,0.5,1.0,1.5,2.0,2.5,3.0,3.5,4.0,4.5,5.0,5.5,6.0,6.5,7.0,7.5,8.0,8.5,9.0,9.5,10.0]}],\n",
       "               {\"showlegend\":true,\"xaxis\":{\"showticklabels\":true,\"gridwidth\":0.5,\"tickvals\":[0.0,1.0,2.0,3.0,4.0,5.0,6.0,7.0,8.0,9.0,10.0],\"visible\":true,\"ticks\":\"inside\",\"range\":[0.0,10.0],\"domain\":[0.09248140857392827,0.9901574803149606],\"tickmode\":\"array\",\"linecolor\":\"rgba(0, 0, 0, 1.000)\",\"showgrid\":true,\"title\":\"x\",\"mirror\":false,\"tickangle\":0,\"showline\":true,\"gridcolor\":\"rgba(0, 0, 0, 0.100)\",\"titlefont\":{\"color\":\"rgba(0, 0, 0, 1.000)\",\"family\":\"sans-serif\",\"size\":15},\"tickcolor\":\"rgb(0, 0, 0)\",\"ticktext\":[\"0\",\"1\",\"2\",\"3\",\"4\",\"5\",\"6\",\"7\",\"8\",\"9\",\"10\"],\"zeroline\":false,\"type\":\"-\",\"tickfont\":{\"color\":\"rgba(0, 0, 0, 1.000)\",\"family\":\"sans-serif\",\"size\":11},\"zerolinecolor\":\"rgba(0, 0, 0, 1.000)\",\"anchor\":\"y\"},\"paper_bgcolor\":\"rgba(255, 255, 255, 1.000)\",\"annotations\":[{\"yanchor\":\"top\",\"xanchor\":\"center\",\"rotation\":-0.0,\"y\":1.0,\"font\":{\"color\":\"rgba(0, 0, 0, 1.000)\",\"family\":\"sans-serif\",\"size\":20},\"yref\":\"paper\",\"showarrow\":false,\"text\":\"Gráfico\",\"xref\":\"paper\",\"x\":0.5413194444444445}],\"height\":300,\"margin\":{\"l\":0,\"b\":20,\"r\":0,\"t\":20},\"plot_bgcolor\":\"rgba(255, 255, 255, 1.000)\",\"yaxis\":{\"showticklabels\":true,\"gridwidth\":0.5,\"tickvals\":[-6.0,-5.0,-4.0,-3.0,-2.0,-1.0,0.0,1.0,2.0,3.0,4.0,5.0,6.0,7.0,8.0,9.0,10.0],\"visible\":true,\"ticks\":\"inside\",\"range\":[-6.0,10.0],\"domain\":[0.10108632254301551,0.9220618256051328],\"tickmode\":\"array\",\"linecolor\":\"rgba(0, 0, 0, 1.000)\",\"showgrid\":true,\"title\":\"sin(x)*x\",\"mirror\":false,\"tickangle\":0,\"showline\":true,\"gridcolor\":\"rgba(0, 0, 0, 0.100)\",\"titlefont\":{\"color\":\"rgba(0, 0, 0, 1.000)\",\"family\":\"sans-serif\",\"size\":15},\"tickcolor\":\"rgb(0, 0, 0)\",\"ticktext\":[\"-6\",\"-5\",\"-4\",\"-3\",\"-2\",\"-1\",\"0\",\"1\",\"2\",\"3\",\"4\",\"5\",\"6\",\"7\",\"8\",\"9\",\"10\"],\"zeroline\":false,\"type\":\"-\",\"tickfont\":{\"color\":\"rgba(0, 0, 0, 1.000)\",\"family\":\"sans-serif\",\"size\":11},\"zerolinecolor\":\"rgba(0, 0, 0, 1.000)\",\"anchor\":\"x\"},\"legend\":{\"bordercolor\":\"rgba(0, 0, 0, 1.000)\",\"bgcolor\":\"rgba(255, 255, 255, 1.000)\",\"font\":{\"color\":\"rgba(0, 0, 0, 1.000)\",\"family\":\"sans-serif\",\"size\":11},\"y\":1.0,\"x\":1.0},\"width\":400}, {showLink: false});\n",
       "\n",
       "    });\n",
       " </script>\n"
      ]
     },
     "execution_count": 7,
     "metadata": {},
     "output_type": "execute_result"
    }
   ],
   "source": [
    "using Plots\n",
    "plotlyjs()\n",
    "\n",
    "# vetor x definido como os pontos de 0 a 10 dividos de 0.5 em 0.5\n",
    "\n",
    "plot(0:0.5:10, x -> sin(x)*x,\n",
    "label = \"sin(x)*x\", \n",
    "title = \"Gráfico\",\n",
    "size = (400, 300),\n",
    "xaxis = (\"x\", (0 , 10),  0:1:10),\n",
    "yaxis = (\"sin(x)*x\", (-6, 10), -6:1:10))"
   ]
  },
  {
   "cell_type": "markdown",
   "metadata": {},
   "source": [
    "### GRÁFICO EXPRESSÃO SIMBÓLICA \n",
    "\n",
    "Sintaxe:\n",
    "```julia\n",
    "plot(x_vetor, expressao_simbólica, label = \"nome\", outras_opções) \n",
    "\n",
    "plot(expressão_simbólica, x_vetor, label = \"nome\", outras_opções) \n",
    "\n",
    "```"
   ]
  },
  {
   "cell_type": "code",
   "execution_count": null,
   "metadata": {
    "collapsed": true
   },
   "outputs": [],
   "source": [
    "using SymPy\n",
    "@syms x"
   ]
  },
  {
   "cell_type": "code",
   "execution_count": null,
   "metadata": {
    "collapsed": true
   },
   "outputs": [],
   "source": [
    "# vetor x definido como os pontos de 0 a 10 dividos de 0.5 em 0.5\n",
    "fs1 = sin(x)*x"
   ]
  },
  {
   "cell_type": "code",
   "execution_count": null,
   "metadata": {
    "collapsed": true
   },
   "outputs": [],
   "source": [
    "using Plots\n",
    "plotlyjs()"
   ]
  },
  {
   "cell_type": "code",
   "execution_count": null,
   "metadata": {
    "collapsed": true,
    "scrolled": false
   },
   "outputs": [],
   "source": [
    "vetor_x = 0:0.5:10\n",
    "\n",
    "plot(vetor_x, fs1,  label = \"sin(x)*x\", title = \"Gráfico\", size = (400, 300) )"
   ]
  },
  {
   "cell_type": "markdown",
   "metadata": {},
   "source": [
    "Melhorando"
   ]
  },
  {
   "cell_type": "code",
   "execution_count": null,
   "metadata": {
    "collapsed": true
   },
   "outputs": [],
   "source": [
    "plot(vetor_x, fs1, \n",
    "    label  = \"sin(x)*x\", \n",
    "    xlabel = \"x\" , \n",
    "    ylabel = \"y\", \n",
    "    title  = \"Gráfico\",\n",
    "    size   = (400,300), \n",
    "    line   = (:line, 2 , 0.2, :black),  \n",
    "    marker = (:dot, 5, 0.6, :blue), \n",
    "    xaxis = (\"x\", (0 , 10),  0:1:10),\n",
    "    yaxis = (\"sin(x)*x\", (-6, 10), -6:1:10))    "
   ]
  },
  {
   "cell_type": "markdown",
   "metadata": {},
   "source": [
    "## GRÁFICOS MULTIPLOS PARTE II"
   ]
  },
  {
   "cell_type": "markdown",
   "metadata": {},
   "source": [
    "### GRÁFICOS SOBREPOSTOS GERADOS UM APÓS O OUTRO "
   ]
  },
  {
   "cell_type": "code",
   "execution_count": 8,
   "metadata": {
    "collapsed": false
   },
   "outputs": [
    {
     "data": {
      "text/plain": [
       "Plots.PlotlyJSBackend()"
      ]
     },
     "execution_count": 8,
     "metadata": {},
     "output_type": "execute_result"
    }
   ],
   "source": [
    "using Plots\n",
    "plotlyjs()"
   ]
  },
  {
   "cell_type": "code",
   "execution_count": 9,
   "metadata": {
    "collapsed": false
   },
   "outputs": [
    {
     "data": {
      "text/plain": [
       "fg3 (generic function with 1 method)"
      ]
     },
     "execution_count": 9,
     "metadata": {},
     "output_type": "execute_result"
    }
   ],
   "source": [
    "vetor_x = 0:0.1:2*pi\n",
    "fg3(x) = sin(x)"
   ]
  },
  {
   "cell_type": "code",
   "execution_count": 11,
   "metadata": {
    "collapsed": false,
    "scrolled": false
   },
   "outputs": [
    {
     "data": {
      "text/html": [
       "<div id=\"7438f030-99d6-4086-936c-9726b637811f\" class=\"plotly-graph-div\"></div>\n",
       "\n",
       "<script>\n",
       "    window.PLOTLYENV=window.PLOTLYENV || {};\n",
       "    window.PLOTLYENV.BASE_URL=\"https://plot.ly\";\n",
       "    require(['plotly'], function(Plotly) {\n",
       "        Plotly.newPlot('7438f030-99d6-4086-936c-9726b637811f', [{\"showlegend\":true,\"mode\":\"lines\",\"xaxis\":\"x\",\"colorbar\":{\"title\":\"\"},\"line\":{\"color\":\"rgba(0, 154, 250, 1.000)\",\"width\":1,\"dash\":\"solid\",\"shape\":\"linear\"},\"y\":[0.0,0.09983341664682815,0.19866933079506122,0.2955202066613396,0.3894183423086505,0.479425538604203,0.5646424733950355,0.6442176872376911,0.7173560908995228,0.7833269096274834,0.8414709848078965,0.8912073600614354,0.9320390859672264,0.963558185417193,0.9854497299884603,0.9974949866040544,0.9995736030415051,0.9916648104524686,0.9738476308781951,0.9463000876874145,0.9092974268256817,0.8632093666488737,0.8084964038195901,0.74570521217672,0.6754631805511506,0.5984721441039564,0.5155013718214642,0.4273798802338298,0.33498815015590466,0.23924932921398198,0.1411200080598672,0.04158066243329049,-0.058374143427580086,-0.15774569414324865,-0.25554110202683167,-0.35078322768961984,-0.44252044329485246,-0.5298361409084934,-0.6118578909427193,-0.6877661591839741,-0.7568024953079282,-0.8182771110644108,-0.8715757724135882,-0.9161659367494549,-0.9516020738895161,-0.977530117665097,-0.9936910036334645,-0.9999232575641008,-0.9961646088358406,-0.9824526126243325,-0.9589242746631385,-0.9258146823277321,-0.8834546557201531,-0.8322674422239008,-0.7727644875559871,-0.7055403255703919,-0.6312666378723208,-0.5506855425976376,-0.4646021794137566,-0.373876664830236,-0.27941549819892586,-0.18216250427209502,-0.0830894028174964],\"type\":\"scatter\",\"name\":\"Sin(x)\",\"yaxis\":\"y\",\"x\":[0.0,0.1,0.2,0.30000000000000004,0.4,0.5,0.6000000000000001,0.7000000000000001,0.8,0.9,1.0,1.1,1.2000000000000002,1.3,1.4000000000000001,1.5,1.6,1.7000000000000002,1.8,1.9000000000000001,2.0,2.1,2.2,2.3000000000000003,2.4000000000000004,2.5,2.6,2.7,2.8000000000000003,2.9000000000000004,3.0,3.1,3.2,3.3000000000000003,3.4000000000000004,3.5,3.6,3.7,3.8000000000000003,3.9000000000000004,4.0,4.1000000000000005,4.2,4.3,4.4,4.5,4.6000000000000005,4.7,4.800000000000001,4.9,5.0,5.1000000000000005,5.2,5.300000000000001,5.4,5.5,5.6000000000000005,5.7,5.800000000000001,5.9,6.0,6.1000000000000005,6.2]},{\"showlegend\":true,\"mode\":\"lines\",\"xaxis\":\"x\",\"colorbar\":{\"title\":\"\"},\"line\":{\"color\":\"rgba(227, 111, 71, 1.000)\",\"width\":1,\"dash\":\"solid\",\"shape\":\"linear\"},\"y\":[0.8414709848078965,0.8912073600614354,0.9320390859672263,0.963558185417193,0.9854497299884601,0.9974949866040544,0.9995736030415051,0.9916648104524686,0.9738476308781951,0.9463000876874145,0.9092974268256817,0.8632093666488737,0.8084964038195901,0.74570521217672,0.675463180551151,0.5984721441039564,0.5155013718214642,0.4273798802338298,0.33498815015590466,0.23924932921398243,0.1411200080598672,0.04158066243329049,-0.058374143427580086,-0.15774569414324865,-0.25554110202683167,-0.35078322768961984,-0.44252044329485246,-0.5298361409084934,-0.6118578909427193,-0.6877661591839741,-0.7568024953079282,-0.8182771110644108,-0.8715757724135882,-0.9161659367494549,-0.9516020738895161,-0.977530117665097,-0.9936910036334645,-0.9999232575641008,-0.9961646088358407,-0.9824526126243325,-0.9589242746631385,-0.9258146823277321,-0.8834546557201531,-0.8322674422239013,-0.7727644875559871,-0.7055403255703919,-0.6312666378723208,-0.5506855425976376,-0.4646021794137566,-0.373876664830236,-0.27941549819892586,-0.18216250427209502,-0.0830894028174964,0.0168139004843506,0.11654920485049364,0.21511998808781552,0.3115413635133787,0.4048499206165983,0.49411335113860894,0.5784397643882002,0.6569865987187891,0.7289690401258765,0.7936678638491531],\"type\":\"scatter\",\"name\":\"Sin(x+1)\",\"yaxis\":\"y\",\"x\":[0.0,0.1,0.2,0.30000000000000004,0.4,0.5,0.6000000000000001,0.7000000000000001,0.8,0.9,1.0,1.1,1.2000000000000002,1.3,1.4000000000000001,1.5,1.6,1.7000000000000002,1.8,1.9000000000000001,2.0,2.1,2.2,2.3000000000000003,2.4000000000000004,2.5,2.6,2.7,2.8000000000000003,2.9000000000000004,3.0,3.1,3.2,3.3000000000000003,3.4000000000000004,3.5,3.6,3.7,3.8000000000000003,3.9000000000000004,4.0,4.1000000000000005,4.2,4.3,4.4,4.5,4.6000000000000005,4.7,4.800000000000001,4.9,5.0,5.1000000000000005,5.2,5.300000000000001,5.4,5.5,5.6000000000000005,5.7,5.800000000000001,5.9,6.0,6.1000000000000005,6.2]},{\"showlegend\":true,\"mode\":\"lines\",\"xaxis\":\"x\",\"colorbar\":{\"title\":\"\"},\"line\":{\"color\":\"rgba(62, 164, 78, 1.000)\",\"width\":1,\"dash\":\"solid\",\"shape\":\"linear\"},\"y\":[0.9092974268256817,0.8632093666488737,0.8084964038195901,0.7457052121767203,0.675463180551151,0.5984721441039564,0.5155013718214642,0.4273798802338298,0.3349881501559051,0.23924932921398243,0.1411200080598672,0.04158066243329049,-0.058374143427580086,-0.15774569414324865,-0.2555411020268312,-0.35078322768961984,-0.44252044329485246,-0.5298361409084934,-0.6118578909427193,-0.6877661591839738,-0.7568024953079282,-0.8182771110644108,-0.8715757724135882,-0.9161659367494549,-0.9516020738895161,-0.977530117665097,-0.9936910036334645,-0.9999232575641008,-0.9961646088358407,-0.9824526126243325,-0.9589242746631385,-0.9258146823277321,-0.8834546557201531,-0.8322674422239013,-0.7727644875559871,-0.7055403255703919,-0.6312666378723208,-0.5506855425976376,-0.46460217941375737,-0.373876664830236,-0.27941549819892586,-0.18216250427209502,-0.0830894028174964,0.016813900484349713,0.11654920485049364,0.21511998808781552,0.3115413635133787,0.4048499206165983,0.49411335113860894,0.5784397643882002,0.6569865987187891,0.7289690401258765,0.7936678638491531,0.8504366206285648,0.8987080958116269,0.9379999767747389,0.9679196720314865,0.9881682338770004,0.998543345374605,0.998941341839772,0.9893582466233818,0.9698898108450863,0.9407305566797726],\"type\":\"scatter\",\"name\":\"Sin(x+2)\",\"yaxis\":\"y\",\"x\":[0.0,0.1,0.2,0.30000000000000004,0.4,0.5,0.6000000000000001,0.7000000000000001,0.8,0.9,1.0,1.1,1.2000000000000002,1.3,1.4000000000000001,1.5,1.6,1.7000000000000002,1.8,1.9000000000000001,2.0,2.1,2.2,2.3000000000000003,2.4000000000000004,2.5,2.6,2.7,2.8000000000000003,2.9000000000000004,3.0,3.1,3.2,3.3000000000000003,3.4000000000000004,3.5,3.6,3.7,3.8000000000000003,3.9000000000000004,4.0,4.1000000000000005,4.2,4.3,4.4,4.5,4.6000000000000005,4.7,4.800000000000001,4.9,5.0,5.1000000000000005,5.2,5.300000000000001,5.4,5.5,5.6000000000000005,5.7,5.800000000000001,5.9,6.0,6.1000000000000005,6.2]},{\"showlegend\":true,\"mode\":\"lines\",\"xaxis\":\"x\",\"colorbar\":{\"title\":\"\"},\"line\":{\"color\":\"rgba(195, 113, 210, 1.000)\",\"width\":1,\"dash\":\"solid\",\"shape\":\"linear\"},\"y\":[0.1411200080598672,0.04158066243329049,-0.058374143427580086,-0.1577456941432482,-0.2555411020268312,-0.35078322768961984,-0.44252044329485246,-0.5298361409084934,-0.6118578909427189,-0.6877661591839738,-0.7568024953079282,-0.8182771110644103,-0.8715757724135882,-0.9161659367494549,-0.9516020738895161,-0.977530117665097,-0.9936910036334644,-0.9999232575641008,-0.9961646088358407,-0.9824526126243325,-0.9589242746631385,-0.9258146823277321,-0.8834546557201531,-0.8322674422239013,-0.7727644875559871,-0.7055403255703919,-0.6312666378723208,-0.5506855425976376,-0.46460217941375737,-0.373876664830236,-0.27941549819892586,-0.18216250427209502,-0.0830894028174964,0.016813900484349713,0.11654920485049364,0.21511998808781552,0.3115413635133787,0.4048499206165983,0.49411335113860816,0.5784397643882002,0.6569865987187891,0.7289690401258765,0.7936678638491531,0.8504366206285644,0.8987080958116269,0.9379999767747389,0.9679196720314865,0.9881682338770004,0.998543345374605,0.998941341839772,0.9893582466233818,0.9698898108450863,0.9407305566797726,0.9021718337562933,0.8545989080882805,0.7984871126234903,0.7343970978741133,0.662969230082182,0.5849171928917617,0.5010208564578846,0.4121184852417566,0.3190983623493521,0.22288991410024592],\"type\":\"scatter\",\"name\":\"Sin(x+3)\",\"yaxis\":\"y\",\"x\":[0.0,0.1,0.2,0.30000000000000004,0.4,0.5,0.6000000000000001,0.7000000000000001,0.8,0.9,1.0,1.1,1.2000000000000002,1.3,1.4000000000000001,1.5,1.6,1.7000000000000002,1.8,1.9000000000000001,2.0,2.1,2.2,2.3000000000000003,2.4000000000000004,2.5,2.6,2.7,2.8000000000000003,2.9000000000000004,3.0,3.1,3.2,3.3000000000000003,3.4000000000000004,3.5,3.6,3.7,3.8000000000000003,3.9000000000000004,4.0,4.1000000000000005,4.2,4.3,4.4,4.5,4.6000000000000005,4.7,4.800000000000001,4.9,5.0,5.1000000000000005,5.2,5.300000000000001,5.4,5.5,5.6000000000000005,5.7,5.800000000000001,5.9,6.0,6.1000000000000005,6.2]}],\n",
       "               {\"showlegend\":true,\"xaxis\":{\"showticklabels\":true,\"gridwidth\":0.5,\"tickvals\":[0.0,1.0,2.0,3.0,4.0,5.0,6.0],\"visible\":true,\"ticks\":\"inside\",\"range\":[0.0,6.2],\"domain\":[0.12095363079615047,0.9901574803149606],\"tickmode\":\"array\",\"linecolor\":\"rgba(0, 0, 0, 1.000)\",\"showgrid\":true,\"title\":\"\",\"mirror\":false,\"tickangle\":0,\"showline\":true,\"gridcolor\":\"rgba(0, 0, 0, 0.100)\",\"titlefont\":{\"color\":\"rgba(0, 0, 0, 1.000)\",\"family\":\"sans-serif\",\"size\":15},\"tickcolor\":\"rgb(0, 0, 0)\",\"ticktext\":[\"0\",\"1\",\"2\",\"3\",\"4\",\"5\",\"6\"],\"zeroline\":false,\"type\":\"-\",\"tickfont\":{\"color\":\"rgba(0, 0, 0, 1.000)\",\"family\":\"sans-serif\",\"size\":11},\"zerolinecolor\":\"rgba(0, 0, 0, 1.000)\",\"anchor\":\"y\"},\"paper_bgcolor\":\"rgba(255, 255, 255, 1.000)\",\"annotations\":[],\"height\":300,\"margin\":{\"l\":0,\"b\":20,\"r\":0,\"t\":20},\"plot_bgcolor\":\"rgba(255, 255, 255, 1.000)\",\"yaxis\":{\"showticklabels\":true,\"gridwidth\":0.5,\"tickvals\":[-0.75,-0.5,-0.25,0.0,0.25,0.5,0.75],\"visible\":true,\"ticks\":\"inside\",\"range\":[-0.9999232575641008,0.9995736030415051],\"domain\":[0.050160396617089535,0.9868766404199475],\"tickmode\":\"array\",\"linecolor\":\"rgba(0, 0, 0, 1.000)\",\"showgrid\":true,\"title\":\"\",\"mirror\":false,\"tickangle\":0,\"showline\":true,\"gridcolor\":\"rgba(0, 0, 0, 0.100)\",\"titlefont\":{\"color\":\"rgba(0, 0, 0, 1.000)\",\"family\":\"sans-serif\",\"size\":15},\"tickcolor\":\"rgb(0, 0, 0)\",\"ticktext\":[\"-0.75\",\"-0.50\",\"-0.25\",\"0.00\",\"0.25\",\"0.50\",\"0.75\"],\"zeroline\":false,\"type\":\"-\",\"tickfont\":{\"color\":\"rgba(0, 0, 0, 1.000)\",\"family\":\"sans-serif\",\"size\":11},\"zerolinecolor\":\"rgba(0, 0, 0, 1.000)\",\"anchor\":\"x\"},\"legend\":{\"bordercolor\":\"rgba(0, 0, 0, 1.000)\",\"bgcolor\":\"rgba(255, 255, 255, 1.000)\",\"font\":{\"color\":\"rgba(0, 0, 0, 1.000)\",\"family\":\"sans-serif\",\"size\":11},\"y\":1.0,\"x\":1.0},\"width\":400}, {showLink: false});\n",
       "\n",
       "    });\n",
       " </script>\n"
      ]
     },
     "execution_count": 11,
     "metadata": {},
     "output_type": "execute_result"
    }
   ],
   "source": [
    "plot_mult = plot(vetor_x, fg3, label = \"Sin(x)\")\n",
    "\n",
    "for i = 1:3    \n",
    "    plot_mult = plot!(vetor_x, fg3.(vetor_x + i), label= (\"Sin(x+$i)\"))\n",
    "    \n",
    "end\n",
    "plot(plot_mult, size = (400,300))"
   ]
  },
  {
   "cell_type": "markdown",
   "metadata": {},
   "source": [
    "**Exemplo**"
   ]
  },
  {
   "cell_type": "code",
   "execution_count": 12,
   "metadata": {
    "collapsed": false
   },
   "outputs": [
    {
     "data": {
      "text/plain": [
       "Plots.GRBackend()"
      ]
     },
     "execution_count": 12,
     "metadata": {},
     "output_type": "execute_result"
    }
   ],
   "source": [
    "using DataFrames, Plots\n",
    "gr()"
   ]
  },
  {
   "cell_type": "code",
   "execution_count": 13,
   "metadata": {
    "collapsed": false,
    "scrolled": true
   },
   "outputs": [
    {
     "data": {
      "text/html": [
       "<table class=\"data-frame\"><thead><tr><th></th><th>Nome</th><th>Nota1</th><th>Nota2</th><th>Nota3</th></tr></thead><tbody><tr><th>1</th><td>Pedro</td><td>5.0</td><td>8.5</td><td>7.0</td></tr><tr><th>2</th><td>Alvaro</td><td>10.0</td><td>9.5</td><td>10.0</td></tr><tr><th>3</th><td>Luis</td><td>7.0</td><td>2.5</td><td>5.5</td></tr><tr><th>4</th><td>Ricardo</td><td>3.5</td><td>5.5</td><td>5.0</td></tr></tbody></table>"
      ],
      "text/plain": [
       "4×4 DataFrames.DataFrame\n",
       "│ Row │ Nome      │ Nota1 │ Nota2 │ Nota3 │\n",
       "├─────┼───────────┼───────┼───────┼───────┤\n",
       "│ 1   │ \"Pedro\"   │ 5.0   │ 8.5   │ 7.0   │\n",
       "│ 2   │ \"Alvaro\"  │ 10.0  │ 9.5   │ 10.0  │\n",
       "│ 3   │ \"Luis\"    │ 7.0   │ 2.5   │ 5.5   │\n",
       "│ 4   │ \"Ricardo\" │ 3.5   │ 5.5   │ 5.0   │"
      ]
     },
     "execution_count": 13,
     "metadata": {},
     "output_type": "execute_result"
    }
   ],
   "source": [
    "dados_alunos = readtable(\"dados_alunos.csv\")"
   ]
  },
  {
   "cell_type": "code",
   "execution_count": 91,
   "metadata": {
    "collapsed": false
   },
   "outputs": [
    {
     "data": {
      "text/html": [
       "<?xml version=\"1.0\" encoding=\"utf-8\"?>\n",
       "<svg xmlns=\"http://www.w3.org/2000/svg\" xmlns:xlink=\"http://www.w3.org/1999/xlink\" width=\"600\" height=\"400\" viewBox=\"0 0 600 400\">\n",
       "<defs>\n",
       "  <clipPath id=\"clip00\">\n",
       "    <rect x=\"0\" y=\"0\" width=\"600\" height=\"400\"/>\n",
       "  </clipPath>\n",
       "</defs>\n",
       "<polygon clip-path=\"url(#clip00)\" points=\"\n",
       "0,400 600,400 600,0 0,0 \n",
       "  \" fill=\"#ffffff\" fill-opacity=\"1\"/>\n",
       "<defs>\n",
       "  <clipPath id=\"clip01\">\n",
       "    <rect x=\"120\" y=\"0\" width=\"421\" height=\"400\"/>\n",
       "  </clipPath>\n",
       "</defs>\n",
       "<polygon clip-path=\"url(#clip00)\" points=\"\n",
       "28.9273,375.813 580.315,375.813 580.315,11.811 28.9273,11.811 \n",
       "  \" fill=\"#ffffff\" fill-opacity=\"1\"/>\n",
       "<defs>\n",
       "  <clipPath id=\"clip02\">\n",
       "    <rect x=\"28\" y=\"11\" width=\"552\" height=\"365\"/>\n",
       "  </clipPath>\n",
       "</defs>\n",
       "<polyline clip-path=\"url(#clip02)\" style=\"stroke:#000000; stroke-width:0.5; stroke-opacity:0.1; fill:none\" points=\"\n",
       "  44.5326,375.813 44.5326,11.811 \n",
       "  \"/>\n",
       "<polyline clip-path=\"url(#clip02)\" style=\"stroke:#000000; stroke-width:0.5; stroke-opacity:0.1; fill:none\" points=\"\n",
       "  174.577,375.813 174.577,11.811 \n",
       "  \"/>\n",
       "<polyline clip-path=\"url(#clip02)\" style=\"stroke:#000000; stroke-width:0.5; stroke-opacity:0.1; fill:none\" points=\"\n",
       "  304.621,375.813 304.621,11.811 \n",
       "  \"/>\n",
       "<polyline clip-path=\"url(#clip02)\" style=\"stroke:#000000; stroke-width:0.5; stroke-opacity:0.1; fill:none\" points=\"\n",
       "  434.665,375.813 434.665,11.811 \n",
       "  \"/>\n",
       "<polyline clip-path=\"url(#clip02)\" style=\"stroke:#000000; stroke-width:0.5; stroke-opacity:0.1; fill:none\" points=\"\n",
       "  564.71,375.813 564.71,11.811 \n",
       "  \"/>\n",
       "<polyline clip-path=\"url(#clip02)\" style=\"stroke:#000000; stroke-width:0.5; stroke-opacity:0.1; fill:none\" points=\"\n",
       "  28.9273,296.832 580.315,296.832 \n",
       "  \"/>\n",
       "<polyline clip-path=\"url(#clip02)\" style=\"stroke:#000000; stroke-width:0.5; stroke-opacity:0.1; fill:none\" points=\"\n",
       "  28.9273,205.259 580.315,205.259 \n",
       "  \"/>\n",
       "<polyline clip-path=\"url(#clip02)\" style=\"stroke:#000000; stroke-width:0.5; stroke-opacity:0.1; fill:none\" points=\"\n",
       "  28.9273,113.686 580.315,113.686 \n",
       "  \"/>\n",
       "<polyline clip-path=\"url(#clip02)\" style=\"stroke:#000000; stroke-width:0.5; stroke-opacity:0.1; fill:none\" points=\"\n",
       "  28.9273,22.113 580.315,22.113 \n",
       "  \"/>\n",
       "<polyline clip-path=\"url(#clip00)\" style=\"stroke:#000000; stroke-width:1; stroke-opacity:1; fill:none\" points=\"\n",
       "  28.9273,375.813 580.315,375.813 \n",
       "  \"/>\n",
       "<polyline clip-path=\"url(#clip00)\" style=\"stroke:#000000; stroke-width:1; stroke-opacity:1; fill:none\" points=\"\n",
       "  28.9273,375.813 28.9273,11.811 \n",
       "  \"/>\n",
       "<polyline clip-path=\"url(#clip00)\" style=\"stroke:#000000; stroke-width:1; stroke-opacity:1; fill:none\" points=\"\n",
       "  44.5326,375.813 44.5326,370.353 \n",
       "  \"/>\n",
       "<polyline clip-path=\"url(#clip00)\" style=\"stroke:#000000; stroke-width:1; stroke-opacity:1; fill:none\" points=\"\n",
       "  174.577,375.813 174.577,370.353 \n",
       "  \"/>\n",
       "<polyline clip-path=\"url(#clip00)\" style=\"stroke:#000000; stroke-width:1; stroke-opacity:1; fill:none\" points=\"\n",
       "  304.621,375.813 304.621,370.353 \n",
       "  \"/>\n",
       "<polyline clip-path=\"url(#clip00)\" style=\"stroke:#000000; stroke-width:1; stroke-opacity:1; fill:none\" points=\"\n",
       "  434.665,375.813 434.665,370.353 \n",
       "  \"/>\n",
       "<polyline clip-path=\"url(#clip00)\" style=\"stroke:#000000; stroke-width:1; stroke-opacity:1; fill:none\" points=\"\n",
       "  564.71,375.813 564.71,370.353 \n",
       "  \"/>\n",
       "<polyline clip-path=\"url(#clip00)\" style=\"stroke:#000000; stroke-width:1; stroke-opacity:1; fill:none\" points=\"\n",
       "  28.9273,296.832 37.1981,296.832 \n",
       "  \"/>\n",
       "<polyline clip-path=\"url(#clip00)\" style=\"stroke:#000000; stroke-width:1; stroke-opacity:1; fill:none\" points=\"\n",
       "  28.9273,205.259 37.1981,205.259 \n",
       "  \"/>\n",
       "<polyline clip-path=\"url(#clip00)\" style=\"stroke:#000000; stroke-width:1; stroke-opacity:1; fill:none\" points=\"\n",
       "  28.9273,113.686 37.1981,113.686 \n",
       "  \"/>\n",
       "<polyline clip-path=\"url(#clip00)\" style=\"stroke:#000000; stroke-width:1; stroke-opacity:1; fill:none\" points=\"\n",
       "  28.9273,22.113 37.1981,22.113 \n",
       "  \"/>\n",
       "<g clip-path=\"url(#clip00)\">\n",
       "<text style=\"fill:#000000; fill-opacity:1; font-family:Arial,Helvetica Neue,Helvetica,sans-serif; font-size:12; text-anchor:middle;\" transform=\"rotate(0, 44.5326, 389.613)\" x=\"44.5326\" y=\"389.613\">1.0</text>\n",
       "</g>\n",
       "<g clip-path=\"url(#clip00)\">\n",
       "<text style=\"fill:#000000; fill-opacity:1; font-family:Arial,Helvetica Neue,Helvetica,sans-serif; font-size:12; text-anchor:middle;\" transform=\"rotate(0, 174.577, 389.613)\" x=\"174.577\" y=\"389.613\">1.5</text>\n",
       "</g>\n",
       "<g clip-path=\"url(#clip00)\">\n",
       "<text style=\"fill:#000000; fill-opacity:1; font-family:Arial,Helvetica Neue,Helvetica,sans-serif; font-size:12; text-anchor:middle;\" transform=\"rotate(0, 304.621, 389.613)\" x=\"304.621\" y=\"389.613\">2.0</text>\n",
       "</g>\n",
       "<g clip-path=\"url(#clip00)\">\n",
       "<text style=\"fill:#000000; fill-opacity:1; font-family:Arial,Helvetica Neue,Helvetica,sans-serif; font-size:12; text-anchor:middle;\" transform=\"rotate(0, 434.665, 389.613)\" x=\"434.665\" y=\"389.613\">2.5</text>\n",
       "</g>\n",
       "<g clip-path=\"url(#clip00)\">\n",
       "<text style=\"fill:#000000; fill-opacity:1; font-family:Arial,Helvetica Neue,Helvetica,sans-serif; font-size:12; text-anchor:middle;\" transform=\"rotate(0, 564.71, 389.613)\" x=\"564.71\" y=\"389.613\">3.0</text>\n",
       "</g>\n",
       "<g clip-path=\"url(#clip00)\">\n",
       "<text style=\"fill:#000000; fill-opacity:1; font-family:Arial,Helvetica Neue,Helvetica,sans-serif; font-size:12; text-anchor:end;\" transform=\"rotate(0, 22.9273, 301.332)\" x=\"22.9273\" y=\"301.332\">4</text>\n",
       "</g>\n",
       "<g clip-path=\"url(#clip00)\">\n",
       "<text style=\"fill:#000000; fill-opacity:1; font-family:Arial,Helvetica Neue,Helvetica,sans-serif; font-size:12; text-anchor:end;\" transform=\"rotate(0, 22.9273, 209.759)\" x=\"22.9273\" y=\"209.759\">6</text>\n",
       "</g>\n",
       "<g clip-path=\"url(#clip00)\">\n",
       "<text style=\"fill:#000000; fill-opacity:1; font-family:Arial,Helvetica Neue,Helvetica,sans-serif; font-size:12; text-anchor:end;\" transform=\"rotate(0, 22.9273, 118.186)\" x=\"22.9273\" y=\"118.186\">8</text>\n",
       "</g>\n",
       "<g clip-path=\"url(#clip00)\">\n",
       "<text style=\"fill:#000000; fill-opacity:1; font-family:Arial,Helvetica Neue,Helvetica,sans-serif; font-size:12; text-anchor:end;\" transform=\"rotate(0, 22.9273, 26.613)\" x=\"22.9273\" y=\"26.613\">10</text>\n",
       "</g>\n",
       "<polyline clip-path=\"url(#clip02)\" style=\"stroke:#009af9; stroke-width:1; stroke-opacity:1; fill:none\" points=\"\n",
       "  44.5326,251.045 304.621,90.7927 564.71,159.472 \n",
       "  \"/>\n",
       "<polygon clip-path=\"url(#clip02)\" style=\"fill:#000000; fill-opacity:0.6\" points=\"\n",
       "  38.5326,245.045 38.5326,257.045 50.5326,257.045 50.5326,245.045 38.5326,245.045 \n",
       "  \"/>\n",
       "<polygon clip-path=\"url(#clip02)\" style=\"fill:#009af9; fill-opacity:0.6\" points=\"\n",
       "  39.5326,246.045 39.5326,256.045 49.5326,256.045 49.5326,246.045 39.5326,246.045 \n",
       "  \"/>\n",
       "<polygon clip-path=\"url(#clip02)\" style=\"fill:#000000; fill-opacity:0.6\" points=\"\n",
       "  298.621,84.7927 298.621,96.7927 310.621,96.7927 310.621,84.7927 298.621,84.7927 \n",
       "  \"/>\n",
       "<polygon clip-path=\"url(#clip02)\" style=\"fill:#009af9; fill-opacity:0.6\" points=\"\n",
       "  299.621,85.7927 299.621,95.7927 309.621,95.7927 309.621,85.7927 299.621,85.7927 \n",
       "  \"/>\n",
       "<polygon clip-path=\"url(#clip02)\" style=\"fill:#000000; fill-opacity:0.6\" points=\"\n",
       "  558.71,153.472 558.71,165.472 570.71,165.472 570.71,153.472 558.71,153.472 \n",
       "  \"/>\n",
       "<polygon clip-path=\"url(#clip02)\" style=\"fill:#009af9; fill-opacity:0.6\" points=\"\n",
       "  559.71,154.472 559.71,164.472 569.71,164.472 569.71,154.472 559.71,154.472 \n",
       "  \"/>\n",
       "<polyline clip-path=\"url(#clip02)\" style=\"stroke:#e26f46; stroke-width:1; stroke-opacity:1; fill:none\" points=\"\n",
       "  44.5326,22.113 304.621,45.0062 564.71,22.113 \n",
       "  \"/>\n",
       "<polygon clip-path=\"url(#clip02)\" style=\"fill:#000000; fill-opacity:0.6\" points=\"\n",
       "  44.5326,16.113 38.8266,20.259 41.0046,26.967 48.0606,26.967 50.2386,20.259 \n",
       "  \"/>\n",
       "<polygon clip-path=\"url(#clip02)\" style=\"fill:#e26f46; fill-opacity:0.6\" points=\"\n",
       "  44.5326,17.113 39.7776,20.568 41.5926,26.158 47.4726,26.158 49.2876,20.568 \n",
       "  \"/>\n",
       "<polygon clip-path=\"url(#clip02)\" style=\"fill:#000000; fill-opacity:0.6\" points=\"\n",
       "  304.621,39.0062 298.915,43.1522 301.093,49.8602 308.149,49.8602 310.327,43.1522 \n",
       "  \"/>\n",
       "<polygon clip-path=\"url(#clip02)\" style=\"fill:#e26f46; fill-opacity:0.6\" points=\"\n",
       "  304.621,40.0062 299.866,43.4612 301.681,49.0512 307.561,49.0512 309.376,43.4612 \n",
       "  \"/>\n",
       "<polygon clip-path=\"url(#clip02)\" style=\"fill:#000000; fill-opacity:0.6\" points=\"\n",
       "  564.71,16.113 559.004,20.259 561.182,26.967 568.238,26.967 570.416,20.259 \n",
       "  \"/>\n",
       "<polygon clip-path=\"url(#clip02)\" style=\"fill:#e26f46; fill-opacity:0.6\" points=\"\n",
       "  564.71,17.113 559.955,20.568 561.77,26.158 567.65,26.158 569.465,20.568 \n",
       "  \"/>\n",
       "<polyline clip-path=\"url(#clip02)\" style=\"stroke:#3da44d; stroke-width:1; stroke-opacity:1; fill:none\" points=\"\n",
       "  44.5326,159.472 304.621,365.511 564.71,228.152 \n",
       "  \"/>\n",
       "<polygon clip-path=\"url(#clip02)\" style=\"fill:#000000; fill-opacity:0.6\" points=\"\n",
       "  44.5326,153.472 43.1226,157.528 38.8266,157.618 42.2526,160.216 41.0046,164.326 44.5326,161.872 48.0606,164.326 46.8126,160.216 50.2386,157.618 45.9426,157.528 \n",
       "  44.5326,153.472 \n",
       "  \"/>\n",
       "<polygon clip-path=\"url(#clip02)\" style=\"fill:#3da44d; fill-opacity:0.6\" points=\"\n",
       "  44.5326,154.472 43.3576,157.852 39.7776,157.927 42.6326,160.092 41.5926,163.517 44.5326,161.472 47.4726,163.517 46.4326,160.092 49.2876,157.927 45.7076,157.852 \n",
       "  44.5326,154.472 \n",
       "  \"/>\n",
       "<polygon clip-path=\"url(#clip02)\" style=\"fill:#000000; fill-opacity:0.6\" points=\"\n",
       "  304.621,359.511 303.211,363.567 298.915,363.657 302.341,366.255 301.093,370.365 304.621,367.911 308.149,370.365 306.901,366.255 310.327,363.657 306.031,363.567 \n",
       "  304.621,359.511 \n",
       "  \"/>\n",
       "<polygon clip-path=\"url(#clip02)\" style=\"fill:#3da44d; fill-opacity:0.6\" points=\"\n",
       "  304.621,360.511 303.446,363.891 299.866,363.966 302.721,366.131 301.681,369.556 304.621,367.511 307.561,369.556 306.521,366.131 309.376,363.966 305.796,363.891 \n",
       "  304.621,360.511 \n",
       "  \"/>\n",
       "<polygon clip-path=\"url(#clip02)\" style=\"fill:#000000; fill-opacity:0.6\" points=\"\n",
       "  564.71,222.152 563.3,226.208 559.004,226.298 562.43,228.896 561.182,233.006 564.71,230.552 568.238,233.006 566.99,228.896 570.416,226.298 566.12,226.208 \n",
       "  564.71,222.152 \n",
       "  \"/>\n",
       "<polygon clip-path=\"url(#clip02)\" style=\"fill:#3da44d; fill-opacity:0.6\" points=\"\n",
       "  564.71,223.152 563.535,226.532 559.955,226.607 562.81,228.772 561.77,232.197 564.71,230.152 567.65,232.197 566.61,228.772 569.465,226.607 565.885,226.532 \n",
       "  564.71,223.152 \n",
       "  \"/>\n",
       "<polyline clip-path=\"url(#clip02)\" style=\"stroke:#c271d2; stroke-width:1; stroke-opacity:1; fill:none\" points=\"\n",
       "  44.5326,319.725 304.621,228.152 564.71,251.045 \n",
       "  \"/>\n",
       "<polygon clip-path=\"url(#clip02)\" style=\"fill:#000000; fill-opacity:0.6\" points=\"\n",
       "  38.5326,313.725 38.5326,325.725 50.5326,325.725 50.5326,313.725 38.5326,313.725 \n",
       "  \"/>\n",
       "<polygon clip-path=\"url(#clip02)\" style=\"fill:#c271d2; fill-opacity:0.6\" points=\"\n",
       "  39.5326,314.725 39.5326,324.725 49.5326,324.725 49.5326,314.725 39.5326,314.725 \n",
       "  \"/>\n",
       "<polygon clip-path=\"url(#clip02)\" style=\"fill:#000000; fill-opacity:0.6\" points=\"\n",
       "  298.621,222.152 298.621,234.152 310.621,234.152 310.621,222.152 298.621,222.152 \n",
       "  \"/>\n",
       "<polygon clip-path=\"url(#clip02)\" style=\"fill:#c271d2; fill-opacity:0.6\" points=\"\n",
       "  299.621,223.152 299.621,233.152 309.621,233.152 309.621,223.152 299.621,223.152 \n",
       "  \"/>\n",
       "<polygon clip-path=\"url(#clip02)\" style=\"fill:#000000; fill-opacity:0.6\" points=\"\n",
       "  558.71,245.045 558.71,257.045 570.71,257.045 570.71,245.045 558.71,245.045 \n",
       "  \"/>\n",
       "<polygon clip-path=\"url(#clip02)\" style=\"fill:#c271d2; fill-opacity:0.6\" points=\"\n",
       "  559.71,246.045 559.71,256.045 569.71,256.045 569.71,246.045 559.71,246.045 \n",
       "  \"/>\n",
       "<polygon clip-path=\"url(#clip00)\" points=\"\n",
       "461.485,108.291 562.315,108.291 562.315,32.691 461.485,32.691 \n",
       "  \" fill=\"#ffffff\" fill-opacity=\"1\"/>\n",
       "<polyline clip-path=\"url(#clip00)\" style=\"stroke:#000000; stroke-width:1; stroke-opacity:1; fill:none\" points=\"\n",
       "  461.485,108.291 562.315,108.291 562.315,32.691 461.485,32.691 461.485,108.291 \n",
       "  \"/>\n",
       "<polyline clip-path=\"url(#clip00)\" style=\"stroke:#009af9; stroke-width:1; stroke-opacity:1; fill:none\" points=\"\n",
       "  467.485,47.811 503.485,47.811 \n",
       "  \"/>\n",
       "<polygon clip-path=\"url(#clip00)\" style=\"fill:#000000; fill-opacity:0.6\" points=\"\n",
       "  481.485,40.811 481.485,54.811 495.485,54.811 495.485,40.811 481.485,40.811 \n",
       "  \"/>\n",
       "<polygon clip-path=\"url(#clip00)\" style=\"fill:#009af9; fill-opacity:0.6\" points=\"\n",
       "  482.485,41.811 482.485,53.811 494.485,53.811 494.485,41.811 482.485,41.811 \n",
       "  \"/>\n",
       "<g clip-path=\"url(#clip00)\">\n",
       "<text style=\"fill:#000000; fill-opacity:1; font-family:Arial,Helvetica Neue,Helvetica,sans-serif; font-size:12; text-anchor:start;\" transform=\"rotate(0, 509.485, 52.311)\" x=\"509.485\" y=\"52.311\">Pedro</text>\n",
       "</g>\n",
       "<polyline clip-path=\"url(#clip00)\" style=\"stroke:#e26f46; stroke-width:1; stroke-opacity:1; fill:none\" points=\"\n",
       "  467.485,62.931 503.485,62.931 \n",
       "  \"/>\n",
       "<polygon clip-path=\"url(#clip00)\" style=\"fill:#000000; fill-opacity:0.6\" points=\"\n",
       "  488.485,55.931 481.828,60.768 484.369,68.594 492.601,68.594 495.142,60.768 \n",
       "  \"/>\n",
       "<polygon clip-path=\"url(#clip00)\" style=\"fill:#e26f46; fill-opacity:0.6\" points=\"\n",
       "  488.485,56.931 482.779,61.077 484.957,67.785 492.013,67.785 494.191,61.077 \n",
       "  \"/>\n",
       "<g clip-path=\"url(#clip00)\">\n",
       "<text style=\"fill:#000000; fill-opacity:1; font-family:Arial,Helvetica Neue,Helvetica,sans-serif; font-size:12; text-anchor:start;\" transform=\"rotate(0, 509.485, 67.431)\" x=\"509.485\" y=\"67.431\">Alvaro</text>\n",
       "</g>\n",
       "<polyline clip-path=\"url(#clip00)\" style=\"stroke:#3da44d; stroke-width:1; stroke-opacity:1; fill:none\" points=\"\n",
       "  467.485,78.051 503.485,78.051 \n",
       "  \"/>\n",
       "<polygon clip-path=\"url(#clip00)\" style=\"fill:#000000; fill-opacity:0.6\" points=\"\n",
       "  488.485,71.051 486.84,75.783 481.828,75.888 485.825,78.919 484.369,83.714 488.485,80.851 492.601,83.714 491.145,78.919 495.142,75.888 490.13,75.783 \n",
       "  488.485,71.051 \n",
       "  \"/>\n",
       "<polygon clip-path=\"url(#clip00)\" style=\"fill:#3da44d; fill-opacity:0.6\" points=\"\n",
       "  488.485,72.051 487.075,76.107 482.779,76.197 486.205,78.795 484.957,82.905 488.485,80.451 492.013,82.905 490.765,78.795 494.191,76.197 489.895,76.107 \n",
       "  488.485,72.051 \n",
       "  \"/>\n",
       "<g clip-path=\"url(#clip00)\">\n",
       "<text style=\"fill:#000000; fill-opacity:1; font-family:Arial,Helvetica Neue,Helvetica,sans-serif; font-size:12; text-anchor:start;\" transform=\"rotate(0, 509.485, 82.551)\" x=\"509.485\" y=\"82.551\">Luis</text>\n",
       "</g>\n",
       "<polyline clip-path=\"url(#clip00)\" style=\"stroke:#c271d2; stroke-width:1; stroke-opacity:1; fill:none\" points=\"\n",
       "  467.485,93.171 503.485,93.171 \n",
       "  \"/>\n",
       "<polygon clip-path=\"url(#clip00)\" style=\"fill:#000000; fill-opacity:0.6\" points=\"\n",
       "  481.485,86.171 481.485,100.171 495.485,100.171 495.485,86.171 481.485,86.171 \n",
       "  \"/>\n",
       "<polygon clip-path=\"url(#clip00)\" style=\"fill:#c271d2; fill-opacity:0.6\" points=\"\n",
       "  482.485,87.171 482.485,99.171 494.485,99.171 494.485,87.171 482.485,87.171 \n",
       "  \"/>\n",
       "<g clip-path=\"url(#clip00)\">\n",
       "<text style=\"fill:#000000; fill-opacity:1; font-family:Arial,Helvetica Neue,Helvetica,sans-serif; font-size:12; text-anchor:start;\" transform=\"rotate(0, 509.485, 97.671)\" x=\"509.485\" y=\"97.671\">Ricardo</text>\n",
       "</g>\n",
       "</svg>\n"
      ]
     },
     "execution_count": 91,
     "metadata": {},
     "output_type": "execute_result"
    }
   ],
   "source": [
    "plot([dados_alunos[2] dados_alunos[3] dados_alunos[4]]', \n",
    "m = ([:r :p :s], 5, 0.6), label = Array(dados_alunos[1]) )"
   ]
  },
  {
   "cell_type": "markdown",
   "metadata": {},
   "source": [
    "### GRÁFICOS MÚLTIPLOS LADO A LADO\n",
    "\n",
    "Horizontal\n",
    "```julia\n",
    "plot(p1, p2, ... ,pn layout = @layout([p1 p2 ... pn]), opções) \n",
    "```\n",
    "Vertical\n",
    "```julia\n",
    "plot(p1, p2, ... ,pn layout = @layout([p1; p2; ... pn]), opções) \n",
    "```"
   ]
  },
  {
   "cell_type": "code",
   "execution_count": 92,
   "metadata": {
    "collapsed": false
   },
   "outputs": [
    {
     "data": {
      "text/plain": [
       "fg5 (generic function with 1 method)"
      ]
     },
     "execution_count": 92,
     "metadata": {},
     "output_type": "execute_result"
    }
   ],
   "source": [
    "# funções\n",
    "fg4(x) = sin(x)*x\n",
    "fg5(x) = cos(x)*x"
   ]
  },
  {
   "cell_type": "markdown",
   "metadata": {},
   "source": [
    "** Horizontal**"
   ]
  },
  {
   "cell_type": "code",
   "execution_count": 93,
   "metadata": {
    "collapsed": false
   },
   "outputs": [
    {
     "data": {
      "text/plain": [
       "Plots.PlotlyJSBackend()"
      ]
     },
     "execution_count": 93,
     "metadata": {},
     "output_type": "execute_result"
    }
   ],
   "source": [
    "using Plots\n",
    "plotlyjs()"
   ]
  },
  {
   "cell_type": "code",
   "execution_count": 94,
   "metadata": {
    "collapsed": false
   },
   "outputs": [
    {
     "data": {
      "text/html": [
       "<div id=\"24cb68c9-b311-42eb-96e7-3d6508294de4\" class=\"plotly-graph-div\"></div>\n",
       "\n",
       "<script>\n",
       "    window.PLOTLYENV=window.PLOTLYENV || {};\n",
       "    window.PLOTLYENV.BASE_URL=\"https://plot.ly\";\n",
       "    require(['plotly'], function(Plotly) {\n",
       "        Plotly.newPlot('24cb68c9-b311-42eb-96e7-3d6508294de4', [{\"showlegend\":true,\"mode\":\"lines\",\"xaxis\":\"x\",\"colorbar\":{\"title\":\"\"},\"line\":{\"color\":\"rgba(0, 154, 250, 1.000)\",\"width\":1,\"dash\":\"solid\",\"shape\":\"linear\"},\"y\":[0.0,0.2397127693021015,0.8414709848078965,1.4962424799060816,1.8185948536513634,1.496180360259891,0.4233600241796016,-1.2277412969136694,-3.027209981231713,-4.3988855294929365,-4.794621373315692,-3.8804717906371557,-1.6764929891935552,1.398279922570801,4.598906191031523,7.034999825810542,7.914865972987054,6.787140457299667,3.7090663671758093],\"type\":\"scatter\",\"name\":\"sin(x)*x\",\"yaxis\":\"y\",\"x\":[0.0,0.5,1.0,1.5,2.0,2.5,3.0,3.5,4.0,4.5,5.0,5.5,6.0,6.5,7.0,7.5,8.0,8.5,9.0]},{\"showlegend\":true,\"mode\":\"lines\",\"xaxis\":\"x2\",\"colorbar\":{\"title\":\"\"},\"line\":{\"color\":\"rgba(255, 0, 0, 1.000)\",\"width\":1,\"dash\":\"solid\",\"shape\":\"linear\"},\"y\":[0.0,0.4387912809451864,0.5403023058681398,0.10610580250155435,-0.8322936730942848,-2.002859038867334,-2.9699774898013365,-3.277598405517787,-2.6145744834544478,-0.9485810974385086,1.4183109273161312,3.89768375860193,5.761021719902196,6.347819567232152,5.277315780403132,2.5997648837626937,-1.1640002704689083,-5.117101172821001,-8.200172356962092],\"type\":\"scatter\",\"name\":\"cos(x)*x\",\"yaxis\":\"y2\",\"x\":[0.0,0.5,1.0,1.5,2.0,2.5,3.0,3.5,4.0,4.5,5.0,5.5,6.0,6.5,7.0,7.5,8.0,8.5,9.0]}],\n",
       "               {\"xaxis\":{\"showticklabels\":true,\"gridwidth\":0.5,\"tickvals\":[0.0,3.0,6.0,9.0],\"visible\":true,\"ticks\":\"inside\",\"range\":[0.0,9.0],\"domain\":[0.0658209390492855,0.4934383202099737],\"tickmode\":\"array\",\"linecolor\":\"rgba(0, 0, 0, 1.000)\",\"showgrid\":true,\"title\":\"\",\"mirror\":false,\"tickangle\":0,\"showline\":true,\"gridcolor\":\"rgba(0, 0, 0, 0.100)\",\"titlefont\":{\"color\":\"rgba(0, 0, 0, 1.000)\",\"family\":\"sans-serif\",\"size\":15},\"tickcolor\":\"rgb(0, 0, 0)\",\"ticktext\":[\"0\",\"3\",\"6\",\"9\"],\"zeroline\":false,\"type\":\"-\",\"tickfont\":{\"color\":\"rgba(0, 0, 0, 1.000)\",\"family\":\"sans-serif\",\"size\":11},\"zerolinecolor\":\"rgba(0, 0, 0, 1.000)\",\"anchor\":\"y\"},\"paper_bgcolor\":\"rgba(255, 255, 255, 1.000)\",\"height\":300,\"yaxis\":{\"showticklabels\":true,\"gridwidth\":0.5,\"tickvals\":[-2.5,0.0,2.5,5.0,7.5],\"visible\":true,\"ticks\":\"inside\",\"range\":[-4.794621373315692,7.914865972987054],\"domain\":[0.050160396617089535,0.9220618256051327],\"tickmode\":\"array\",\"linecolor\":\"rgba(0, 0, 0, 1.000)\",\"showgrid\":true,\"title\":\"\",\"mirror\":false,\"tickangle\":0,\"showline\":true,\"gridcolor\":\"rgba(0, 0, 0, 0.100)\",\"titlefont\":{\"color\":\"rgba(0, 0, 0, 1.000)\",\"family\":\"sans-serif\",\"size\":15},\"tickcolor\":\"rgb(0, 0, 0)\",\"ticktext\":[\"-2.5\",\"0.0\",\"2.5\",\"5.0\",\"7.5\"],\"zeroline\":false,\"type\":\"-\",\"tickfont\":{\"color\":\"rgba(0, 0, 0, 1.000)\",\"family\":\"sans-serif\",\"size\":11},\"zerolinecolor\":\"rgba(0, 0, 0, 1.000)\",\"anchor\":\"x\"},\"yaxis2\":{\"showticklabels\":true,\"gridwidth\":0.5,\"tickvals\":[-7.5,-5.0,-2.5,0.0,2.5,5.0],\"visible\":true,\"ticks\":\"inside\",\"range\":[-8.200172356962092,6.347819567232152],\"domain\":[0.050160396617089535,0.9220618256051327],\"tickmode\":\"array\",\"linecolor\":\"rgba(0, 0, 0, 1.000)\",\"showgrid\":true,\"title\":\"\",\"mirror\":false,\"tickangle\":0,\"showline\":true,\"gridcolor\":\"rgba(0, 0, 0, 0.100)\",\"titlefont\":{\"color\":\"rgba(0, 0, 0, 1.000)\",\"family\":\"sans-serif\",\"size\":15},\"tickcolor\":\"rgb(0, 0, 0)\",\"ticktext\":[\"-7.5\",\"-5.0\",\"-2.5\",\"0.0\",\"2.5\",\"5.0\"],\"zeroline\":false,\"type\":\"-\",\"tickfont\":{\"color\":\"rgba(0, 0, 0, 1.000)\",\"family\":\"sans-serif\",\"size\":11},\"zerolinecolor\":\"rgba(0, 0, 0, 1.000)\",\"anchor\":\"x2\"},\"annotations\":[{\"yanchor\":\"top\",\"xanchor\":\"center\",\"rotation\":-0.0,\"y\":1.0,\"font\":{\"color\":\"rgba(0, 0, 0, 1.000)\",\"family\":\"sans-serif\",\"size\":20},\"yref\":\"paper\",\"showarrow\":false,\"text\":\"fg4\",\"xref\":\"paper\",\"x\":0.2796296296296296},{\"yanchor\":\"top\",\"xanchor\":\"center\",\"rotation\":-0.0,\"y\":1.0,\"font\":{\"color\":\"rgba(0, 0, 0, 1.000)\",\"family\":\"sans-serif\",\"size\":20},\"yref\":\"paper\",\"showarrow\":false,\"text\":\"fg5\",\"xref\":\"paper\",\"x\":0.7796296296296297}],\"plot_bgcolor\":\"rgba(255, 255, 255, 1.000)\",\"showlegend\":true,\"legend\":{\"bordercolor\":\"rgba(0, 0, 0, 1.000)\",\"bgcolor\":\"rgba(255, 255, 255, 1.000)\",\"font\":{\"color\":\"rgba(0, 0, 0, 1.000)\",\"family\":\"sans-serif\",\"size\":11},\"y\":1.0,\"x\":1.0},\"xaxis2\":{\"showticklabels\":true,\"gridwidth\":0.5,\"tickvals\":[0.0,3.0,6.0,9.0],\"visible\":true,\"ticks\":\"inside\",\"range\":[0.0,9.0],\"domain\":[0.5658209390492855,0.9934383202099737],\"tickmode\":\"array\",\"linecolor\":\"rgba(0, 0, 0, 1.000)\",\"showgrid\":true,\"title\":\"\",\"mirror\":false,\"tickangle\":0,\"showline\":true,\"gridcolor\":\"rgba(0, 0, 0, 0.100)\",\"titlefont\":{\"color\":\"rgba(0, 0, 0, 1.000)\",\"family\":\"sans-serif\",\"size\":15},\"tickcolor\":\"rgb(0, 0, 0)\",\"ticktext\":[\"0\",\"3\",\"6\",\"9\"],\"zeroline\":false,\"type\":\"-\",\"tickfont\":{\"color\":\"rgba(0, 0, 0, 1.000)\",\"family\":\"sans-serif\",\"size\":11},\"zerolinecolor\":\"rgba(0, 0, 0, 1.000)\",\"anchor\":\"y2\"},\"margin\":{\"l\":0,\"b\":20,\"r\":0,\"t\":20},\"width\":600}, {showLink: false});\n",
       "\n",
       "    });\n",
       " </script>\n"
      ]
     },
     "execution_count": 94,
     "metadata": {},
     "output_type": "execute_result"
    }
   ],
   "source": [
    "vetor_x = 0 : 0.5 : 3*pi\n",
    "\n",
    "p1 = plot(vetor_x, fg4)\n",
    "p2 = plot(vetor_x, fg5, color = (:red))\n",
    "\n",
    "plot(p1, p2, layout = @layout([p1 p2]), \n",
    "title = [\"$fg4\" \"$fg5\"], \n",
    "label = [\"sin(x)*x\" \"cos(x)*x\"],\n",
    "size =(600,300))"
   ]
  },
  {
   "cell_type": "markdown",
   "metadata": {},
   "source": [
    "**Vertical**"
   ]
  },
  {
   "cell_type": "code",
   "execution_count": 95,
   "metadata": {
    "collapsed": false
   },
   "outputs": [
    {
     "data": {
      "text/html": [
       "<div id=\"6be35181-a3c2-4d0e-9cb5-e06f51f54d95\" class=\"plotly-graph-div\"></div>\n",
       "\n",
       "<script>\n",
       "    window.PLOTLYENV=window.PLOTLYENV || {};\n",
       "    window.PLOTLYENV.BASE_URL=\"https://plot.ly\";\n",
       "    require(['plotly'], function(Plotly) {\n",
       "        Plotly.newPlot('6be35181-a3c2-4d0e-9cb5-e06f51f54d95', [{\"showlegend\":true,\"mode\":\"lines\",\"xaxis\":\"x\",\"colorbar\":{\"title\":\"\"},\"line\":{\"color\":\"rgba(0, 154, 250, 1.000)\",\"width\":1,\"dash\":\"solid\",\"shape\":\"linear\"},\"y\":[0.0,0.2397127693021015,0.8414709848078965,1.4962424799060816,1.8185948536513634,1.496180360259891,0.4233600241796016,-1.2277412969136694,-3.027209981231713,-4.3988855294929365,-4.794621373315692,-3.8804717906371557,-1.6764929891935552,1.398279922570801,4.598906191031523,7.034999825810542,7.914865972987054,6.787140457299667,3.7090663671758093],\"type\":\"scatter\",\"name\":\"sin(x)*x\",\"yaxis\":\"y\",\"x\":[0.0,0.5,1.0,1.5,2.0,2.5,3.0,3.5,4.0,4.5,5.0,5.5,6.0,6.5,7.0,7.5,8.0,8.5,9.0]},{\"showlegend\":true,\"mode\":\"lines\",\"xaxis\":\"x2\",\"colorbar\":{\"title\":\"\"},\"line\":{\"color\":\"rgba(255, 0, 0, 1.000)\",\"width\":1,\"dash\":\"solid\",\"shape\":\"linear\"},\"y\":[0.0,0.4387912809451864,0.5403023058681398,0.10610580250155435,-0.8322936730942848,-2.002859038867334,-2.9699774898013365,-3.277598405517787,-2.6145744834544478,-0.9485810974385086,1.4183109273161312,3.89768375860193,5.761021719902196,6.347819567232152,5.277315780403132,2.5997648837626937,-1.1640002704689083,-5.117101172821001,-8.200172356962092],\"type\":\"scatter\",\"name\":\"cos(x)*x\",\"yaxis\":\"y2\",\"x\":[0.0,0.5,1.0,1.5,2.0,2.5,3.0,3.5,4.0,4.5,5.0,5.5,6.0,6.5,7.0,7.5,8.0,8.5,9.0]}],\n",
       "               {\"xaxis\":{\"showticklabels\":true,\"gridwidth\":0.5,\"tickvals\":[0.0,3.0,6.0,9.0],\"visible\":true,\"ticks\":\"inside\",\"range\":[0.0,9.0],\"domain\":[0.056417947756530425,0.9943757030371204],\"tickmode\":\"array\",\"linecolor\":\"rgba(0, 0, 0, 1.000)\",\"showgrid\":true,\"title\":\"\",\"mirror\":false,\"tickangle\":0,\"showline\":true,\"gridcolor\":\"rgba(0, 0, 0, 0.100)\",\"titlefont\":{\"color\":\"rgba(0, 0, 0, 1.000)\",\"family\":\"sans-serif\",\"size\":15},\"tickcolor\":\"rgb(0, 0, 0)\",\"ticktext\":[\"0\",\"3\",\"6\",\"9\"],\"zeroline\":false,\"type\":\"-\",\"tickfont\":{\"color\":\"rgba(0, 0, 0, 1.000)\",\"family\":\"sans-serif\",\"size\":11},\"zerolinecolor\":\"rgba(0, 0, 0, 1.000)\",\"anchor\":\"y\"},\"paper_bgcolor\":\"rgba(255, 255, 255, 1.000)\",\"height\":500,\"yaxis\":{\"showticklabels\":true,\"gridwidth\":0.5,\"tickvals\":[-2.5,0.0,2.5,5.0,7.5],\"visible\":true,\"ticks\":\"inside\",\"range\":[-4.794621373315692,7.914865972987054],\"domain\":[0.5300962379702537,0.9532370953630797],\"tickmode\":\"array\",\"linecolor\":\"rgba(0, 0, 0, 1.000)\",\"showgrid\":true,\"title\":\"\",\"mirror\":false,\"tickangle\":0,\"showline\":true,\"gridcolor\":\"rgba(0, 0, 0, 0.100)\",\"titlefont\":{\"color\":\"rgba(0, 0, 0, 1.000)\",\"family\":\"sans-serif\",\"size\":15},\"tickcolor\":\"rgb(0, 0, 0)\",\"ticktext\":[\"-2.5\",\"0.0\",\"2.5\",\"5.0\",\"7.5\"],\"zeroline\":false,\"type\":\"-\",\"tickfont\":{\"color\":\"rgba(0, 0, 0, 1.000)\",\"family\":\"sans-serif\",\"size\":11},\"zerolinecolor\":\"rgba(0, 0, 0, 1.000)\",\"anchor\":\"x\"},\"yaxis2\":{\"showticklabels\":true,\"gridwidth\":0.5,\"tickvals\":[-7.5,-5.0,-2.5,0.0,2.5,5.0],\"visible\":true,\"ticks\":\"inside\",\"range\":[-8.200172356962092,6.347819567232152],\"domain\":[0.03009623797025361,0.45323709536307955],\"tickmode\":\"array\",\"linecolor\":\"rgba(0, 0, 0, 1.000)\",\"showgrid\":true,\"title\":\"\",\"mirror\":false,\"tickangle\":0,\"showline\":true,\"gridcolor\":\"rgba(0, 0, 0, 0.100)\",\"titlefont\":{\"color\":\"rgba(0, 0, 0, 1.000)\",\"family\":\"sans-serif\",\"size\":15},\"tickcolor\":\"rgb(0, 0, 0)\",\"ticktext\":[\"-7.5\",\"-5.0\",\"-2.5\",\"0.0\",\"2.5\",\"5.0\"],\"zeroline\":false,\"type\":\"-\",\"tickfont\":{\"color\":\"rgba(0, 0, 0, 1.000)\",\"family\":\"sans-serif\",\"size\":11},\"zerolinecolor\":\"rgba(0, 0, 0, 1.000)\",\"anchor\":\"x2\"},\"annotations\":[{\"yanchor\":\"top\",\"xanchor\":\"center\",\"rotation\":-0.0,\"y\":1.0,\"font\":{\"color\":\"rgba(0, 0, 0, 1.000)\",\"family\":\"sans-serif\",\"size\":20},\"yref\":\"paper\",\"showarrow\":false,\"text\":\"fg4\",\"xref\":\"paper\",\"x\":0.5253968253968254},{\"yanchor\":\"top\",\"xanchor\":\"center\",\"rotation\":-0.0,\"y\":0.49999999999999994,\"font\":{\"color\":\"rgba(0, 0, 0, 1.000)\",\"family\":\"sans-serif\",\"size\":20},\"yref\":\"paper\",\"showarrow\":false,\"text\":\"fg5\",\"xref\":\"paper\",\"x\":0.5253968253968254}],\"plot_bgcolor\":\"rgba(255, 255, 255, 1.000)\",\"showlegend\":true,\"legend\":{\"bordercolor\":\"rgba(0, 0, 0, 1.000)\",\"bgcolor\":\"rgba(255, 255, 255, 1.000)\",\"font\":{\"color\":\"rgba(0, 0, 0, 1.000)\",\"family\":\"sans-serif\",\"size\":11},\"y\":1.0,\"x\":1.0},\"xaxis2\":{\"showticklabels\":true,\"gridwidth\":0.5,\"tickvals\":[0.0,3.0,6.0,9.0],\"visible\":true,\"ticks\":\"inside\",\"range\":[0.0,9.0],\"domain\":[0.056417947756530425,0.9943757030371204],\"tickmode\":\"array\",\"linecolor\":\"rgba(0, 0, 0, 1.000)\",\"showgrid\":true,\"title\":\"\",\"mirror\":false,\"tickangle\":0,\"showline\":true,\"gridcolor\":\"rgba(0, 0, 0, 0.100)\",\"titlefont\":{\"color\":\"rgba(0, 0, 0, 1.000)\",\"family\":\"sans-serif\",\"size\":15},\"tickcolor\":\"rgb(0, 0, 0)\",\"ticktext\":[\"0\",\"3\",\"6\",\"9\"],\"zeroline\":false,\"type\":\"-\",\"tickfont\":{\"color\":\"rgba(0, 0, 0, 1.000)\",\"family\":\"sans-serif\",\"size\":11},\"zerolinecolor\":\"rgba(0, 0, 0, 1.000)\",\"anchor\":\"y2\"},\"margin\":{\"l\":0,\"b\":20,\"r\":0,\"t\":20},\"width\":700}, {showLink: false});\n",
       "\n",
       "    });\n",
       " </script>\n"
      ]
     },
     "execution_count": 95,
     "metadata": {},
     "output_type": "execute_result"
    }
   ],
   "source": [
    "using Plots\n",
    "plotlyjs()\n",
    "\n",
    "plot(p1, p2, layout = @layout([p1 ; p2]), \n",
    "label = [\"sin(x)*x\" \"cos(x)*x\"], \n",
    "size = (700,500))"
   ]
  },
  {
   "cell_type": "markdown",
   "metadata": {},
   "source": [
    "## GRÁFICO EQUAÇÃO IMPLÍCITA"
   ]
  },
  {
   "cell_type": "code",
   "execution_count": 96,
   "metadata": {
    "collapsed": false,
    "scrolled": true
   },
   "outputs": [
    {
     "ename": "LoadError",
     "evalue": "\u001b[91mArgumentError: Module ImplicitEquations not found in current path.\nRun `Pkg.add(\"ImplicitEquations\")` to install the ImplicitEquations package.\u001b[39m",
     "output_type": "error",
     "traceback": [
      "\u001b[91mArgumentError: Module ImplicitEquations not found in current path.\nRun `Pkg.add(\"ImplicitEquations\")` to install the ImplicitEquations package.\u001b[39m",
      "",
      "Stacktrace:",
      " [1] \u001b[1m_require\u001b[22m\u001b[22m\u001b[1m(\u001b[22m\u001b[22m::Symbol\u001b[1m)\u001b[22m\u001b[22m at \u001b[1m./loading.jl:428\u001b[22m\u001b[22m",
      " [2] \u001b[1mrequire\u001b[22m\u001b[22m\u001b[1m(\u001b[22m\u001b[22m::Symbol\u001b[1m)\u001b[22m\u001b[22m at \u001b[1m./loading.jl:398\u001b[22m\u001b[22m",
      " [3] \u001b[1minclude_string\u001b[22m\u001b[22m\u001b[1m(\u001b[22m\u001b[22m::String, ::String\u001b[1m)\u001b[22m\u001b[22m at \u001b[1m./loading.jl:515\u001b[22m\u001b[22m"
     ]
    }
   ],
   "source": [
    "using Plots, ImplicitEquations\n",
    "gr()"
   ]
  },
  {
   "cell_type": "code",
   "execution_count": 97,
   "metadata": {
    "collapsed": false,
    "scrolled": false
   },
   "outputs": [
    {
     "data": {
      "text/plain": [
       "eqv2 (generic function with 1 method)"
      ]
     },
     "execution_count": 97,
     "metadata": {},
     "output_type": "execute_result"
    }
   ],
   "source": [
    "eqv1(x,y) = 2*x + 3*y - 6\n",
    "eqv2(x,y) = 3*x - 4*y - 12"
   ]
  },
  {
   "cell_type": "markdown",
   "metadata": {},
   "source": [
    "Uma observação: tanto o `SymPy` quanto o `ImplicitEquations` utilizam as notações `Eq, Gt, Lt e Ge`. Portanto quando utilizado os dois em um mesmo notebook é necessário especificar qual o pacote."
   ]
  },
  {
   "cell_type": "code",
   "execution_count": null,
   "metadata": {
    "collapsed": true,
    "scrolled": true
   },
   "outputs": [],
   "source": [
    "plot(ImplicitEquations.Eq(eqv1, 0), size = (400,300))\n",
    "plot!(ImplicitEquations.Eq(eqv2, 0))"
   ]
  },
  {
   "cell_type": "code",
   "execution_count": null,
   "metadata": {
    "collapsed": true
   },
   "outputs": [],
   "source": [
    "plot(ImplicitEquations.Lt(eqv1, 0), size = (400, 300))"
   ]
  },
  {
   "cell_type": "code",
   "execution_count": null,
   "metadata": {
    "collapsed": true,
    "scrolled": true
   },
   "outputs": [],
   "source": [
    "plot(ImplicitEquations.Ge(eqv1, 0) & ImplicitEquations.Lt(eqv2, 0), size = (400, 300))"
   ]
  },
  {
   "cell_type": "code",
   "execution_count": null,
   "metadata": {
    "collapsed": true
   },
   "outputs": [],
   "source": [
    "plot(ImplicitEquations.Ge(eqv1, 0) & ImplicitEquations.Gt(eqv2, 0), size = (400, 300))"
   ]
  },
  {
   "cell_type": "markdown",
   "metadata": {},
   "source": [
    "**Outra forma usando o SymPy**\n",
    "\n",
    "O `SymPy` trabalha com funções genéricas ou anônimas, ou expressões simbólicas. Uma equação $x^2 + y^2 >= 4$ é escrito na como função/expressão na forma:\n",
    "```julia\n",
    "f(x) = x^2 + y^2   e   Ge(f(x), 4)\n",
    "```\n",
    "Sintaxe:\n",
    "```julia\n",
    "plot_implicit(OpL(OpI(função/Expressão, w_1), OpI(função/Expressão, w_2)), (var_1, a, b), (var_2, a, b))\n",
    "```\n",
    "- **OpL**: Operador Lógico (Or ou And)\n",
    "- **a , b**: intervalo das variáveis\n",
    "- **w_1, w_2**: \n",
    "- **OpI**: Operador Inequação - Gt(maior), Ge(maior igual), Lt(menor), Le(menor igual), Eq(igual), Ne(diferente).\n"
   ]
  },
  {
   "cell_type": "markdown",
   "metadata": {},
   "source": [
    "SymPy e ImplictEquations utilizam os mesmos operadores de inequação (Ge, Gt, Le, Lt, Neq), portanto deve ser criado um novo workspace."
   ]
  },
  {
   "cell_type": "code",
   "execution_count": null,
   "metadata": {
    "collapsed": true
   },
   "outputs": [],
   "source": [
    "workspace()"
   ]
  },
  {
   "cell_type": "code",
   "execution_count": null,
   "metadata": {
    "collapsed": true
   },
   "outputs": [],
   "source": [
    "using SymPy\n",
    "@syms x y"
   ]
  },
  {
   "cell_type": "code",
   "execution_count": null,
   "metadata": {
    "collapsed": true,
    "scrolled": true
   },
   "outputs": [],
   "source": [
    "eqv1(x,y) = 2*x + 3*y - 6\n",
    "eqv2(x,y) = 3*x - 4*y - 12"
   ]
  },
  {
   "cell_type": "code",
   "execution_count": null,
   "metadata": {
    "collapsed": true
   },
   "outputs": [],
   "source": [
    "plot_implicit(Or(Eq(eqv1(x,y), 0), Eq(eqv2(x,y), 0)), (x, -5, 5), (y, -5, 5));"
   ]
  },
  {
   "cell_type": "markdown",
   "metadata": {},
   "source": [
    "<img src=\"Figuras/plot_implict_1.png\" align=\"center\" width=\"500\">"
   ]
  },
  {
   "cell_type": "code",
   "execution_count": null,
   "metadata": {
    "collapsed": true
   },
   "outputs": [],
   "source": [
    "plot_implicit(And(Ge(eqv1(x,y), 0), Lt(eqv2(x,y), 0)), (x, -5, 5), (y, -5, 5));"
   ]
  },
  {
   "cell_type": "markdown",
   "metadata": {},
   "source": [
    "<img src=\"Figuras/plot_implict_2.png\" align=\"center\" width=\"500\">"
   ]
  },
  {
   "cell_type": "code",
   "execution_count": null,
   "metadata": {
    "collapsed": true
   },
   "outputs": [],
   "source": [
    "plot_implicit(And(Ge(eqv1(x,y), 0), Gt(eqv2(x,y), 0)), (x, -5, 5), (y, -5, 5));"
   ]
  },
  {
   "cell_type": "markdown",
   "metadata": {},
   "source": [
    "<img src=\"Figuras/plot_implict_3.png\" align=\"center\" width=\"500\">"
   ]
  },
  {
   "cell_type": "markdown",
   "metadata": {},
   "source": [
    "## GRÁFICO EQUAÇÃO PARAMÉTRICA"
   ]
  },
  {
   "cell_type": "code",
   "execution_count": null,
   "metadata": {
    "collapsed": true,
    "scrolled": false
   },
   "outputs": [],
   "source": [
    "using Plots\n",
    "plotlyjs()\n",
    "\n",
    "plot(sin,(x-> sin(2*x)), 0 , 2*pi, size = (400, 300))"
   ]
  },
  {
   "cell_type": "markdown",
   "metadata": {},
   "source": [
    "**Gráfico superficie equação paramétrica com SymPy**\n",
    "\n",
    "O gráfico é uma superfície tridimensional. Sintaxe:\n",
    "```julia\n",
    "plot_parametric_surface((função_2, função_2, função_3), (x, a, b), (y, a, b))\n",
    "```"
   ]
  },
  {
   "cell_type": "code",
   "execution_count": null,
   "metadata": {
    "collapsed": true,
    "scrolled": true
   },
   "outputs": [],
   "source": [
    "using SymPy\n",
    "@syms x y"
   ]
  },
  {
   "cell_type": "code",
   "execution_count": null,
   "metadata": {
    "collapsed": true
   },
   "outputs": [],
   "source": [
    "plot_parametric_surface((sin(x), sin(x - y), sin(x + y)), (x, 0, 2*pi), (y, 0, 2*pi));"
   ]
  },
  {
   "cell_type": "markdown",
   "metadata": {},
   "source": [
    "<img src=\"Figuras/plot_parametric_3d.png\" align=\"center\" width=\"500\">"
   ]
  },
  {
   "cell_type": "markdown",
   "metadata": {},
   "source": [
    "## GRÁFICO CONTORNO E CURVAS DE NIVEL\n",
    "\n"
   ]
  },
  {
   "cell_type": "code",
   "execution_count": 98,
   "metadata": {
    "collapsed": false,
    "scrolled": false
   },
   "outputs": [
    {
     "data": {
      "text/html": [
       "<div id=\"216405bc-5750-4a47-b63c-b1929ca72d2d\" class=\"plotly-graph-div\"></div>\n",
       "\n",
       "<script>\n",
       "    window.PLOTLYENV=window.PLOTLYENV || {};\n",
       "    window.PLOTLYENV.BASE_URL=\"https://plot.ly\";\n",
       "    require(['plotly'], function(Plotly) {\n",
       "        Plotly.newPlot('216405bc-5750-4a47-b63c-b1929ca72d2d', [{\"xaxis\":\"x\",\"colorbar\":{\"title\":\"\"},\"colorscale\":[[0.0,\"rgb(0, 0, 4)\"],[0.034482758620689655,\"rgb(4, 3, 20)\"],[0.06896551724137931,\"rgb(13, 8, 41)\"],[0.10344827586206896,\"rgb(24, 12, 60)\"],[0.13793103448275862,\"rgb(38, 12, 81)\"],[0.1724137931034483,\"rgb(54, 9, 97)\"],[0.20689655172413793,\"rgb(69, 10, 105)\"],[0.2413793103448276,\"rgb(84, 15, 109)\"],[0.27586206896551724,\"rgb(97, 19, 110)\"],[0.3103448275862069,\"rgb(111, 25, 110)\"],[0.3448275862068966,\"rgb(125, 30, 109)\"],[0.3793103448275862,\"rgb(140, 35, 105)\"],[0.41379310344827586,\"rgb(154, 40, 101)\"],[0.4482758620689655,\"rgb(166, 45, 96)\"],[0.4827586206896552,\"rgb(180, 51, 89)\"],[0.5172413793103449,\"rgb(193, 58, 80)\"],[0.5517241379310345,\"rgb(206, 67, 71)\"],[0.5862068965517241,\"rgb(216, 76, 62)\"],[0.6206896551724138,\"rgb(226, 87, 52)\"],[0.6551724137931034,\"rgb(235, 100, 41)\"],[0.6896551724137931,\"rgb(241, 115, 29)\"],[0.7241379310344828,\"rgb(247, 130, 18)\"],[0.7586206896551724,\"rgb(250, 144, 8)\"],[0.7931034482758621,\"rgb(252, 161, 8)\"],[0.8275862068965517,\"rgb(252, 178, 22)\"],[0.8620689655172413,\"rgb(250, 196, 42)\"],[0.896551724137931,\"rgb(246, 213, 67)\"],[0.9310344827586207,\"rgb(243, 229, 93)\"],[0.9655172413793104,\"rgb(242, 244, 130)\"],[1.0,\"rgb(252, 255, 164)\"]],\"yaxis\":\"y\",\"ncontours\":15,\"contours\":{\"coloring\":\"lines\"},\"showscale\":true,\"x\":[1,2,3,4,5,6,7,8,9,10,11,12,13,14,15,16,17,18,19,20,21],\"showlegend\":false,\"name\":\"y1\",\"z\":[[-0.29505041818708266,-1.251190014318209,-1.8284297756998342,-1.4960581277952416,-0.5596560308775266,0.11985274558668602,-0.08226903376852424,-0.9801915371363197,-1.748368955902134,-1.6805425138843488,-0.8390715290764524,0.0023994557314440668,0.07022589774922927,-0.6979515210165852,-1.5958740243843805,-1.797995803739591,-1.1184870272753784,-0.18208493035766338,0.15028671754692935,-0.42695304383469584,-1.383092639965822],[-0.36710915099530717,-1.3232487471264336,-1.9004885085080587,-1.5681168606034661,-0.6317147636857511,0.047794012778461514,-0.15432776657674874,-1.0522502699445442,-1.8204276887103585,-1.7526012466925733,-0.9111302618846769,-0.06965927707678043,-0.0018328350589952302,-0.7700102538248097,-1.667932757192605,-1.8700545365478154,-1.190545760083603,-0.2541436631658879,0.07822798473870485,-0.49901177664292035,-1.4551513727740466],[0.39852107708075624,-0.5576185190503702,-1.1348582804319953,-0.8024866325274026,0.13391546439031232,0.8134242408545249,0.6113024614993147,-0.2866200418684808,-1.0547974606342954,-0.98697101861651,-0.14550003380861354,0.695970950999283,0.7637973930170682,-0.0043800257487463246,-0.9023025291165417,-1.104424308471752,-0.4249155320075394,0.5114865649101755,0.8438582128147682,0.26661845143314306,-0.6895211446979833],[1.2979233652326743,0.341783769101548,-0.2354559922800772,0.09691565562451554,1.0333177525422306,1.712826529006443,1.5107047496512327,0.6127822462834374,-0.1553951724823771,-0.0875687304645919,0.7539022543433046,1.595373239151201,1.6631996811689862,0.8950222624031718,-0.0029002409646236016,-0.20502202031983385,0.47448675614437874,1.4108888530620938,1.7432605009666864,1.1660207395850612,0.20988114345393483],[1.5041913975397359,0.5480518014086093,-0.02918795997301582,0.3031836879315769,1.2395857848492917,1.9190945613135044,1.7169727819582943,0.8190502785904987,0.05087285982468426,0.11869930184246946,0.960170286650366,1.8016412714582626,1.8694677134760478,1.1012902947102332,0.20336779134243776,0.0012460119872275133,0.6807547884514401,1.617156885369155,1.9495285332737478,1.3722887718921226,0.4161491757609962],[0.827683296352596,-0.12845629977853035,-0.7056960611601555,-0.3733244132555628,0.563077683662152,1.2425864601263648,1.0404646807711544,0.14254217740335903,-0.6256352413624555,-0.5578087993446703,0.28366218546322625,1.1251331702711227,1.192959612288908,0.42478219352309343,-0.47314030984470196,-0.6752620891999122,0.004246687264300386,0.9406487841820153,1.273020432086608,0.6957806707049828,-0.26035892542614353],[-0.10962250997424217,-1.0657621061053686,-1.6430018674869937,-1.310630219582401,-0.3742281226646861,0.3052806537995265,0.10315887444431626,-0.7947636289234792,-1.5629410476892938,-1.4951146056715086,-0.6536436208636119,0.18782736394428456,0.25565380596206977,-0.5125236128037447,-1.4104461161715403,-1.6125678955267504,-0.9330591190625378,0.0033429778551771205,0.33571462575976985,-0.24152513562185535,-1.1976647317529818],[-0.44597138571107564,-1.402110981842202,-1.979350743223827,-1.6469790953192345,-0.7105769984015196,-0.03106822193730696,-0.2331900012925172,-1.1311125046603125,-1.8992899234261271,-1.831463481408342,-0.9899924966004454,-0.1485215117925489,-0.0806950697747637,-0.8488724885405782,-1.7467949919083736,-1.9489167712635838,-1.2694079947993713,-0.33300589788165635,-0.0006342499770636278,-0.5778740113586889,-1.5340136074898152],[0.12787427434222737,-0.828265321788899,-1.4055050831705242,-1.0731334352659314,-0.13673133834821655,0.542777438115996,0.3406556587607858,-0.5572668446070096,-1.325444263372824,-1.2576178213550389,-0.4161468365471424,0.4253241482607541,0.4931505902785393,-0.2750268284872752,-1.1729493318550706,-1.375071111210281,-0.6955623347460682,0.24083976217164665,0.5732114100762393,-0.004028351305385813,-0.9601679474365121],[1.0843234167575095,0.12818382062638317,-0.449055940755242,-0.1166842928506493,0.8197178040670656,1.4992265805312783,1.297104801176068,0.3991822978082725,-0.36899512095754194,-0.30116867893975674,0.5403023058681398,1.3817732906760363,1.4495997326938215,0.681422313928007,-0.21650018943978844,-0.4186219687949987,0.2608868076692139,1.1972889045869288,1.5296605524915217,0.9524207911098963,-0.0037188050212300094],[1.5440211108893698,0.5878815147582435,0.010641753376618213,0.34301340128121094,1.2794154981989259,1.9589242746631386,1.7568024953079282,0.8588799919401328,0.09070257317431829,0.1585290151921035,1.0,1.8414709848078965,1.9092974268256817,1.1411200080598671,0.2431975046920718,0.041075725336861546,0.7205845018010741,1.656986598718789,1.989358246623382,1.4121184852417565,0.4559788891106302],[1.0843234167575095,0.12818382062638317,-0.449055940755242,-0.1166842928506493,0.8197178040670656,1.4992265805312783,1.297104801176068,0.3991822978082725,-0.36899512095754194,-0.30116867893975674,0.5403023058681398,1.3817732906760363,1.4495997326938215,0.681422313928007,-0.21650018943978844,-0.4186219687949987,0.2608868076692139,1.1972889045869288,1.5296605524915217,0.9524207911098963,-0.0037188050212300094],[0.12787427434222737,-0.828265321788899,-1.4055050831705242,-1.0731334352659314,-0.13673133834821655,0.542777438115996,0.3406556587607858,-0.5572668446070096,-1.325444263372824,-1.2576178213550389,-0.4161468365471424,0.4253241482607541,0.4931505902785393,-0.2750268284872752,-1.1729493318550706,-1.375071111210281,-0.6955623347460682,0.24083976217164665,0.5732114100762393,-0.004028351305385813,-0.9601679474365121],[-0.44597138571107564,-1.402110981842202,-1.979350743223827,-1.6469790953192345,-0.7105769984015196,-0.03106822193730696,-0.2331900012925172,-1.1311125046603125,-1.8992899234261271,-1.831463481408342,-0.9899924966004454,-0.1485215117925489,-0.0806950697747637,-0.8488724885405782,-1.7467949919083736,-1.9489167712635838,-1.2694079947993713,-0.33300589788165635,-0.0006342499770636278,-0.5778740113586889,-1.5340136074898152],[-0.10962250997424217,-1.0657621061053686,-1.6430018674869937,-1.310630219582401,-0.3742281226646861,0.3052806537995265,0.10315887444431626,-0.7947636289234792,-1.5629410476892938,-1.4951146056715086,-0.6536436208636119,0.18782736394428456,0.25565380596206977,-0.5125236128037447,-1.4104461161715403,-1.6125678955267504,-0.9330591190625378,0.0033429778551771205,0.33571462575976985,-0.24152513562185535,-1.1976647317529818],[0.827683296352596,-0.12845629977853035,-0.7056960611601555,-0.3733244132555628,0.563077683662152,1.2425864601263648,1.0404646807711544,0.14254217740335903,-0.6256352413624555,-0.5578087993446703,0.28366218546322625,1.1251331702711227,1.192959612288908,0.42478219352309343,-0.47314030984470196,-0.6752620891999122,0.004246687264300386,0.9406487841820153,1.273020432086608,0.6957806707049828,-0.26035892542614353],[1.5041913975397359,0.5480518014086093,-0.02918795997301582,0.3031836879315769,1.2395857848492917,1.9190945613135044,1.7169727819582943,0.8190502785904987,0.05087285982468426,0.11869930184246946,0.960170286650366,1.8016412714582626,1.8694677134760478,1.1012902947102332,0.20336779134243776,0.0012460119872275133,0.6807547884514401,1.617156885369155,1.9495285332737478,1.3722887718921226,0.4161491757609962],[1.2979233652326743,0.341783769101548,-0.2354559922800772,0.09691565562451554,1.0333177525422306,1.712826529006443,1.5107047496512327,0.6127822462834374,-0.1553951724823771,-0.0875687304645919,0.7539022543433046,1.595373239151201,1.6631996811689862,0.8950222624031718,-0.0029002409646236016,-0.20502202031983385,0.47448675614437874,1.4108888530620938,1.7432605009666864,1.1660207395850612,0.20988114345393483],[0.39852107708075624,-0.5576185190503702,-1.1348582804319953,-0.8024866325274026,0.13391546439031232,0.8134242408545249,0.6113024614993147,-0.2866200418684808,-1.0547974606342954,-0.98697101861651,-0.14550003380861354,0.695970950999283,0.7637973930170682,-0.0043800257487463246,-0.9023025291165417,-1.104424308471752,-0.4249155320075394,0.5114865649101755,0.8438582128147682,0.26661845143314306,-0.6895211446979833],[-0.36710915099530717,-1.3232487471264336,-1.9004885085080587,-1.5681168606034661,-0.6317147636857511,0.047794012778461514,-0.15432776657674874,-1.0522502699445442,-1.8204276887103585,-1.7526012466925733,-0.9111302618846769,-0.06965927707678043,-0.0018328350589952302,-0.7700102538248097,-1.667932757192605,-1.8700545365478154,-1.190545760083603,-0.2541436631658879,0.07822798473870485,-0.49901177664292035,-1.4551513727740466],[-0.29505041818708266,-1.251190014318209,-1.8284297756998342,-1.4960581277952416,-0.5596560308775266,0.11985274558668602,-0.08226903376852424,-0.9801915371363197,-1.748368955902134,-1.6805425138843488,-0.8390715290764524,0.0023994557314440668,0.07022589774922927,-0.6979515210165852,-1.5958740243843805,-1.797995803739591,-1.1184870272753784,-0.18208493035766338,0.15028671754692935,-0.42695304383469584,-1.383092639965822]],\"y\":[1,2,3,4,5,6,7,8,9,10,11,12,13,14,15,16,17,18,19,20,21],\"type\":\"contour\"}],\n",
       "               {\"showlegend\":true,\"xaxis\":{\"showticklabels\":true,\"gridwidth\":0.5,\"tickvals\":[5.0,10.0,15.0,20.0],\"visible\":true,\"ticks\":\"inside\",\"range\":[1.0,21.0],\"domain\":[0.03619130941965587,0.9934383202099738],\"tickmode\":\"array\",\"linecolor\":\"rgba(0, 0, 0, 1.000)\",\"showgrid\":true,\"title\":\"\",\"mirror\":false,\"tickangle\":0,\"showline\":true,\"gridcolor\":\"rgba(0, 0, 0, 0.100)\",\"titlefont\":{\"color\":\"rgba(0, 0, 0, 1.000)\",\"family\":\"sans-serif\",\"size\":15},\"tickcolor\":\"rgb(0, 0, 0)\",\"ticktext\":[\"5\",\"10\",\"15\",\"20\"],\"zeroline\":false,\"type\":\"-\",\"tickfont\":{\"color\":\"rgba(0, 0, 0, 1.000)\",\"family\":\"sans-serif\",\"size\":11},\"zerolinecolor\":\"rgba(0, 0, 0, 1.000)\",\"anchor\":\"y\"},\"paper_bgcolor\":\"rgba(255, 255, 255, 1.000)\",\"annotations\":[],\"height\":400,\"margin\":{\"l\":0,\"b\":20,\"r\":0,\"t\":20},\"plot_bgcolor\":\"rgba(255, 255, 255, 1.000)\",\"yaxis\":{\"showticklabels\":true,\"gridwidth\":0.5,\"tickvals\":[5.0,10.0,15.0,20.0],\"visible\":true,\"ticks\":\"inside\",\"range\":[1.0,21.0],\"domain\":[0.03762029746281716,0.9901574803149606],\"tickmode\":\"array\",\"linecolor\":\"rgba(0, 0, 0, 1.000)\",\"showgrid\":true,\"title\":\"\",\"mirror\":false,\"tickangle\":0,\"showline\":true,\"gridcolor\":\"rgba(0, 0, 0, 0.100)\",\"titlefont\":{\"color\":\"rgba(0, 0, 0, 1.000)\",\"family\":\"sans-serif\",\"size\":15},\"tickcolor\":\"rgb(0, 0, 0)\",\"ticktext\":[\"5\",\"10\",\"15\",\"20\"],\"zeroline\":false,\"type\":\"-\",\"tickfont\":{\"color\":\"rgba(0, 0, 0, 1.000)\",\"family\":\"sans-serif\",\"size\":11},\"zerolinecolor\":\"rgba(0, 0, 0, 1.000)\",\"anchor\":\"x\"},\"legend\":{\"bordercolor\":\"rgba(0, 0, 0, 1.000)\",\"bgcolor\":\"rgba(255, 255, 255, 1.000)\",\"font\":{\"color\":\"rgba(0, 0, 0, 1.000)\",\"family\":\"sans-serif\",\"size\":11},\"y\":1.0,\"x\":1.0},\"width\":600}, {showLink: false});\n",
       "\n",
       "    });\n",
       " </script>\n"
      ]
     },
     "execution_count": 98,
     "metadata": {},
     "output_type": "execute_result"
    }
   ],
   "source": [
    "using Plots\n",
    "plotlyjs()\n",
    "\n",
    "z = [cos(x) + sin(y) for x = -10:10, y = -10:10]\n",
    "contour(z)"
   ]
  },
  {
   "cell_type": "code",
   "execution_count": 99,
   "metadata": {
    "collapsed": false
   },
   "outputs": [
    {
     "data": {
      "text/html": [
       "<div id=\"27af487b-594d-4d88-8ea5-5be1352003cc\" class=\"plotly-graph-div\"></div>\n",
       "\n",
       "<script>\n",
       "    window.PLOTLYENV=window.PLOTLYENV || {};\n",
       "    window.PLOTLYENV.BASE_URL=\"https://plot.ly\";\n",
       "    require(['plotly'], function(Plotly) {\n",
       "        Plotly.newPlot('27af487b-594d-4d88-8ea5-5be1352003cc', [{\"xaxis\":\"x\",\"colorbar\":{\"title\":\"\"},\"colorscale\":[[0.0,\"rgb(0, 0, 4)\"],[0.034482758620689655,\"rgb(4, 3, 20)\"],[0.06896551724137931,\"rgb(13, 8, 41)\"],[0.10344827586206896,\"rgb(24, 12, 60)\"],[0.13793103448275862,\"rgb(38, 12, 81)\"],[0.1724137931034483,\"rgb(54, 9, 97)\"],[0.20689655172413793,\"rgb(69, 10, 105)\"],[0.2413793103448276,\"rgb(84, 15, 109)\"],[0.27586206896551724,\"rgb(97, 19, 110)\"],[0.3103448275862069,\"rgb(111, 25, 110)\"],[0.3448275862068966,\"rgb(125, 30, 109)\"],[0.3793103448275862,\"rgb(140, 35, 105)\"],[0.41379310344827586,\"rgb(154, 40, 101)\"],[0.4482758620689655,\"rgb(166, 45, 96)\"],[0.4827586206896552,\"rgb(180, 51, 89)\"],[0.5172413793103449,\"rgb(193, 58, 80)\"],[0.5517241379310345,\"rgb(206, 67, 71)\"],[0.5862068965517241,\"rgb(216, 76, 62)\"],[0.6206896551724138,\"rgb(226, 87, 52)\"],[0.6551724137931034,\"rgb(235, 100, 41)\"],[0.6896551724137931,\"rgb(241, 115, 29)\"],[0.7241379310344828,\"rgb(247, 130, 18)\"],[0.7586206896551724,\"rgb(250, 144, 8)\"],[0.7931034482758621,\"rgb(252, 161, 8)\"],[0.8275862068965517,\"rgb(252, 178, 22)\"],[0.8620689655172413,\"rgb(250, 196, 42)\"],[0.896551724137931,\"rgb(246, 213, 67)\"],[0.9310344827586207,\"rgb(243, 229, 93)\"],[0.9655172413793104,\"rgb(242, 244, 130)\"],[1.0,\"rgb(252, 255, 164)\"]],\"yaxis\":\"y\",\"ncontours\":15,\"contours\":{\"coloring\":\"fill\"},\"showscale\":true,\"x\":[1,2,3,4,5,6,7,8,9,10,11,12,13,14,15,16,17,18,19,20,21],\"showlegend\":false,\"name\":\"y1\",\"z\":[[-0.29505041818708266,-1.251190014318209,-1.8284297756998342,-1.4960581277952416,-0.5596560308775266,0.11985274558668602,-0.08226903376852424,-0.9801915371363197,-1.748368955902134,-1.6805425138843488,-0.8390715290764524,0.0023994557314440668,0.07022589774922927,-0.6979515210165852,-1.5958740243843805,-1.797995803739591,-1.1184870272753784,-0.18208493035766338,0.15028671754692935,-0.42695304383469584,-1.383092639965822],[-0.36710915099530717,-1.3232487471264336,-1.9004885085080587,-1.5681168606034661,-0.6317147636857511,0.047794012778461514,-0.15432776657674874,-1.0522502699445442,-1.8204276887103585,-1.7526012466925733,-0.9111302618846769,-0.06965927707678043,-0.0018328350589952302,-0.7700102538248097,-1.667932757192605,-1.8700545365478154,-1.190545760083603,-0.2541436631658879,0.07822798473870485,-0.49901177664292035,-1.4551513727740466],[0.39852107708075624,-0.5576185190503702,-1.1348582804319953,-0.8024866325274026,0.13391546439031232,0.8134242408545249,0.6113024614993147,-0.2866200418684808,-1.0547974606342954,-0.98697101861651,-0.14550003380861354,0.695970950999283,0.7637973930170682,-0.0043800257487463246,-0.9023025291165417,-1.104424308471752,-0.4249155320075394,0.5114865649101755,0.8438582128147682,0.26661845143314306,-0.6895211446979833],[1.2979233652326743,0.341783769101548,-0.2354559922800772,0.09691565562451554,1.0333177525422306,1.712826529006443,1.5107047496512327,0.6127822462834374,-0.1553951724823771,-0.0875687304645919,0.7539022543433046,1.595373239151201,1.6631996811689862,0.8950222624031718,-0.0029002409646236016,-0.20502202031983385,0.47448675614437874,1.4108888530620938,1.7432605009666864,1.1660207395850612,0.20988114345393483],[1.5041913975397359,0.5480518014086093,-0.02918795997301582,0.3031836879315769,1.2395857848492917,1.9190945613135044,1.7169727819582943,0.8190502785904987,0.05087285982468426,0.11869930184246946,0.960170286650366,1.8016412714582626,1.8694677134760478,1.1012902947102332,0.20336779134243776,0.0012460119872275133,0.6807547884514401,1.617156885369155,1.9495285332737478,1.3722887718921226,0.4161491757609962],[0.827683296352596,-0.12845629977853035,-0.7056960611601555,-0.3733244132555628,0.563077683662152,1.2425864601263648,1.0404646807711544,0.14254217740335903,-0.6256352413624555,-0.5578087993446703,0.28366218546322625,1.1251331702711227,1.192959612288908,0.42478219352309343,-0.47314030984470196,-0.6752620891999122,0.004246687264300386,0.9406487841820153,1.273020432086608,0.6957806707049828,-0.26035892542614353],[-0.10962250997424217,-1.0657621061053686,-1.6430018674869937,-1.310630219582401,-0.3742281226646861,0.3052806537995265,0.10315887444431626,-0.7947636289234792,-1.5629410476892938,-1.4951146056715086,-0.6536436208636119,0.18782736394428456,0.25565380596206977,-0.5125236128037447,-1.4104461161715403,-1.6125678955267504,-0.9330591190625378,0.0033429778551771205,0.33571462575976985,-0.24152513562185535,-1.1976647317529818],[-0.44597138571107564,-1.402110981842202,-1.979350743223827,-1.6469790953192345,-0.7105769984015196,-0.03106822193730696,-0.2331900012925172,-1.1311125046603125,-1.8992899234261271,-1.831463481408342,-0.9899924966004454,-0.1485215117925489,-0.0806950697747637,-0.8488724885405782,-1.7467949919083736,-1.9489167712635838,-1.2694079947993713,-0.33300589788165635,-0.0006342499770636278,-0.5778740113586889,-1.5340136074898152],[0.12787427434222737,-0.828265321788899,-1.4055050831705242,-1.0731334352659314,-0.13673133834821655,0.542777438115996,0.3406556587607858,-0.5572668446070096,-1.325444263372824,-1.2576178213550389,-0.4161468365471424,0.4253241482607541,0.4931505902785393,-0.2750268284872752,-1.1729493318550706,-1.375071111210281,-0.6955623347460682,0.24083976217164665,0.5732114100762393,-0.004028351305385813,-0.9601679474365121],[1.0843234167575095,0.12818382062638317,-0.449055940755242,-0.1166842928506493,0.8197178040670656,1.4992265805312783,1.297104801176068,0.3991822978082725,-0.36899512095754194,-0.30116867893975674,0.5403023058681398,1.3817732906760363,1.4495997326938215,0.681422313928007,-0.21650018943978844,-0.4186219687949987,0.2608868076692139,1.1972889045869288,1.5296605524915217,0.9524207911098963,-0.0037188050212300094],[1.5440211108893698,0.5878815147582435,0.010641753376618213,0.34301340128121094,1.2794154981989259,1.9589242746631386,1.7568024953079282,0.8588799919401328,0.09070257317431829,0.1585290151921035,1.0,1.8414709848078965,1.9092974268256817,1.1411200080598671,0.2431975046920718,0.041075725336861546,0.7205845018010741,1.656986598718789,1.989358246623382,1.4121184852417565,0.4559788891106302],[1.0843234167575095,0.12818382062638317,-0.449055940755242,-0.1166842928506493,0.8197178040670656,1.4992265805312783,1.297104801176068,0.3991822978082725,-0.36899512095754194,-0.30116867893975674,0.5403023058681398,1.3817732906760363,1.4495997326938215,0.681422313928007,-0.21650018943978844,-0.4186219687949987,0.2608868076692139,1.1972889045869288,1.5296605524915217,0.9524207911098963,-0.0037188050212300094],[0.12787427434222737,-0.828265321788899,-1.4055050831705242,-1.0731334352659314,-0.13673133834821655,0.542777438115996,0.3406556587607858,-0.5572668446070096,-1.325444263372824,-1.2576178213550389,-0.4161468365471424,0.4253241482607541,0.4931505902785393,-0.2750268284872752,-1.1729493318550706,-1.375071111210281,-0.6955623347460682,0.24083976217164665,0.5732114100762393,-0.004028351305385813,-0.9601679474365121],[-0.44597138571107564,-1.402110981842202,-1.979350743223827,-1.6469790953192345,-0.7105769984015196,-0.03106822193730696,-0.2331900012925172,-1.1311125046603125,-1.8992899234261271,-1.831463481408342,-0.9899924966004454,-0.1485215117925489,-0.0806950697747637,-0.8488724885405782,-1.7467949919083736,-1.9489167712635838,-1.2694079947993713,-0.33300589788165635,-0.0006342499770636278,-0.5778740113586889,-1.5340136074898152],[-0.10962250997424217,-1.0657621061053686,-1.6430018674869937,-1.310630219582401,-0.3742281226646861,0.3052806537995265,0.10315887444431626,-0.7947636289234792,-1.5629410476892938,-1.4951146056715086,-0.6536436208636119,0.18782736394428456,0.25565380596206977,-0.5125236128037447,-1.4104461161715403,-1.6125678955267504,-0.9330591190625378,0.0033429778551771205,0.33571462575976985,-0.24152513562185535,-1.1976647317529818],[0.827683296352596,-0.12845629977853035,-0.7056960611601555,-0.3733244132555628,0.563077683662152,1.2425864601263648,1.0404646807711544,0.14254217740335903,-0.6256352413624555,-0.5578087993446703,0.28366218546322625,1.1251331702711227,1.192959612288908,0.42478219352309343,-0.47314030984470196,-0.6752620891999122,0.004246687264300386,0.9406487841820153,1.273020432086608,0.6957806707049828,-0.26035892542614353],[1.5041913975397359,0.5480518014086093,-0.02918795997301582,0.3031836879315769,1.2395857848492917,1.9190945613135044,1.7169727819582943,0.8190502785904987,0.05087285982468426,0.11869930184246946,0.960170286650366,1.8016412714582626,1.8694677134760478,1.1012902947102332,0.20336779134243776,0.0012460119872275133,0.6807547884514401,1.617156885369155,1.9495285332737478,1.3722887718921226,0.4161491757609962],[1.2979233652326743,0.341783769101548,-0.2354559922800772,0.09691565562451554,1.0333177525422306,1.712826529006443,1.5107047496512327,0.6127822462834374,-0.1553951724823771,-0.0875687304645919,0.7539022543433046,1.595373239151201,1.6631996811689862,0.8950222624031718,-0.0029002409646236016,-0.20502202031983385,0.47448675614437874,1.4108888530620938,1.7432605009666864,1.1660207395850612,0.20988114345393483],[0.39852107708075624,-0.5576185190503702,-1.1348582804319953,-0.8024866325274026,0.13391546439031232,0.8134242408545249,0.6113024614993147,-0.2866200418684808,-1.0547974606342954,-0.98697101861651,-0.14550003380861354,0.695970950999283,0.7637973930170682,-0.0043800257487463246,-0.9023025291165417,-1.104424308471752,-0.4249155320075394,0.5114865649101755,0.8438582128147682,0.26661845143314306,-0.6895211446979833],[-0.36710915099530717,-1.3232487471264336,-1.9004885085080587,-1.5681168606034661,-0.6317147636857511,0.047794012778461514,-0.15432776657674874,-1.0522502699445442,-1.8204276887103585,-1.7526012466925733,-0.9111302618846769,-0.06965927707678043,-0.0018328350589952302,-0.7700102538248097,-1.667932757192605,-1.8700545365478154,-1.190545760083603,-0.2541436631658879,0.07822798473870485,-0.49901177664292035,-1.4551513727740466],[-0.29505041818708266,-1.251190014318209,-1.8284297756998342,-1.4960581277952416,-0.5596560308775266,0.11985274558668602,-0.08226903376852424,-0.9801915371363197,-1.748368955902134,-1.6805425138843488,-0.8390715290764524,0.0023994557314440668,0.07022589774922927,-0.6979515210165852,-1.5958740243843805,-1.797995803739591,-1.1184870272753784,-0.18208493035766338,0.15028671754692935,-0.42695304383469584,-1.383092639965822]],\"y\":[1,2,3,4,5,6,7,8,9,10,11,12,13,14,15,16,17,18,19,20,21],\"type\":\"contour\"}],\n",
       "               {\"showlegend\":true,\"xaxis\":{\"showticklabels\":true,\"gridwidth\":0.5,\"tickvals\":[5.0,10.0,15.0,20.0],\"visible\":true,\"ticks\":\"inside\",\"range\":[1.0,21.0],\"domain\":[0.03619130941965587,0.9934383202099738],\"tickmode\":\"array\",\"linecolor\":\"rgba(0, 0, 0, 1.000)\",\"showgrid\":true,\"title\":\"\",\"mirror\":false,\"tickangle\":0,\"showline\":true,\"gridcolor\":\"rgba(0, 0, 0, 0.100)\",\"titlefont\":{\"color\":\"rgba(0, 0, 0, 1.000)\",\"family\":\"sans-serif\",\"size\":15},\"tickcolor\":\"rgb(0, 0, 0)\",\"ticktext\":[\"5\",\"10\",\"15\",\"20\"],\"zeroline\":false,\"type\":\"-\",\"tickfont\":{\"color\":\"rgba(0, 0, 0, 1.000)\",\"family\":\"sans-serif\",\"size\":11},\"zerolinecolor\":\"rgba(0, 0, 0, 1.000)\",\"anchor\":\"y\"},\"paper_bgcolor\":\"rgba(255, 255, 255, 1.000)\",\"annotations\":[],\"height\":400,\"margin\":{\"l\":0,\"b\":20,\"r\":0,\"t\":20},\"plot_bgcolor\":\"rgba(255, 255, 255, 1.000)\",\"yaxis\":{\"showticklabels\":true,\"gridwidth\":0.5,\"tickvals\":[5.0,10.0,15.0,20.0],\"visible\":true,\"ticks\":\"inside\",\"range\":[1.0,21.0],\"domain\":[0.03762029746281716,0.9901574803149606],\"tickmode\":\"array\",\"linecolor\":\"rgba(0, 0, 0, 1.000)\",\"showgrid\":true,\"title\":\"\",\"mirror\":false,\"tickangle\":0,\"showline\":true,\"gridcolor\":\"rgba(0, 0, 0, 0.100)\",\"titlefont\":{\"color\":\"rgba(0, 0, 0, 1.000)\",\"family\":\"sans-serif\",\"size\":15},\"tickcolor\":\"rgb(0, 0, 0)\",\"ticktext\":[\"5\",\"10\",\"15\",\"20\"],\"zeroline\":false,\"type\":\"-\",\"tickfont\":{\"color\":\"rgba(0, 0, 0, 1.000)\",\"family\":\"sans-serif\",\"size\":11},\"zerolinecolor\":\"rgba(0, 0, 0, 1.000)\",\"anchor\":\"x\"},\"legend\":{\"bordercolor\":\"rgba(0, 0, 0, 1.000)\",\"bgcolor\":\"rgba(255, 255, 255, 1.000)\",\"font\":{\"color\":\"rgba(0, 0, 0, 1.000)\",\"family\":\"sans-serif\",\"size\":11},\"y\":1.0,\"x\":1.0},\"width\":600}, {showLink: false});\n",
       "\n",
       "    });\n",
       " </script>\n"
      ]
     },
     "execution_count": 99,
     "metadata": {},
     "output_type": "execute_result"
    }
   ],
   "source": [
    "using Plots\n",
    "plotlyjs()\n",
    "\n",
    "z = [cos(x) + sin(y) for x = -10:10, y = -10:10]\n",
    "contourf(z)"
   ]
  },
  {
   "cell_type": "markdown",
   "metadata": {},
   "source": [
    "## GRÁFICO MAPA CALOR"
   ]
  },
  {
   "cell_type": "code",
   "execution_count": 101,
   "metadata": {
    "collapsed": false
   },
   "outputs": [
    {
     "data": {
      "text/html": [
       "<div id=\"afa02a44-9cb3-4b1b-b77e-e798ae1f2d4a\" class=\"plotly-graph-div\"></div>\n",
       "\n",
       "<script>\n",
       "    window.PLOTLYENV=window.PLOTLYENV || {};\n",
       "    window.PLOTLYENV.BASE_URL=\"https://plot.ly\";\n",
       "    require(['plotly'], function(Plotly) {\n",
       "        Plotly.newPlot('afa02a44-9cb3-4b1b-b77e-e798ae1f2d4a', [{\"xaxis\":\"x\",\"colorbar\":{\"title\":\"\"},\"colorscale\":[[0.0,\"rgb(0, 0, 4)\"],[0.034482758620689655,\"rgb(4, 3, 20)\"],[0.06896551724137931,\"rgb(13, 8, 41)\"],[0.10344827586206896,\"rgb(24, 12, 60)\"],[0.13793103448275862,\"rgb(38, 12, 81)\"],[0.1724137931034483,\"rgb(54, 9, 97)\"],[0.20689655172413793,\"rgb(69, 10, 105)\"],[0.2413793103448276,\"rgb(84, 15, 109)\"],[0.27586206896551724,\"rgb(97, 19, 110)\"],[0.3103448275862069,\"rgb(111, 25, 110)\"],[0.3448275862068966,\"rgb(125, 30, 109)\"],[0.3793103448275862,\"rgb(140, 35, 105)\"],[0.41379310344827586,\"rgb(154, 40, 101)\"],[0.4482758620689655,\"rgb(166, 45, 96)\"],[0.4827586206896552,\"rgb(180, 51, 89)\"],[0.5172413793103449,\"rgb(193, 58, 80)\"],[0.5517241379310345,\"rgb(206, 67, 71)\"],[0.5862068965517241,\"rgb(216, 76, 62)\"],[0.6206896551724138,\"rgb(226, 87, 52)\"],[0.6551724137931034,\"rgb(235, 100, 41)\"],[0.6896551724137931,\"rgb(241, 115, 29)\"],[0.7241379310344828,\"rgb(247, 130, 18)\"],[0.7586206896551724,\"rgb(250, 144, 8)\"],[0.7931034482758621,\"rgb(252, 161, 8)\"],[0.8275862068965517,\"rgb(252, 178, 22)\"],[0.8620689655172413,\"rgb(250, 196, 42)\"],[0.896551724137931,\"rgb(246, 213, 67)\"],[0.9310344827586207,\"rgb(243, 229, 93)\"],[0.9655172413793104,\"rgb(242, 244, 130)\"],[1.0,\"rgb(252, 255, 164)\"]],\"yaxis\":\"y\",\"showscale\":true,\"x\":[0.5,1.5,2.5,3.5,4.5],\"showlegend\":false,\"name\":\"y1\",\"z\":[[20,25,25,20,18],[30,35,38,30,28],[20,25,22,20,18]],\"y\":[0.5,1.5,2.5],\"type\":\"heatmap\"}],\n",
       "               {\"showlegend\":true,\"xaxis\":{\"showticklabels\":true,\"gridwidth\":0.5,\"tickvals\":[0.5,1.5,2.5,3.5,4.5],\"visible\":true,\"ticks\":\"inside\",\"range\":[0.0,5.0],\"domain\":[0.12095363079615047,0.9901574803149606],\"tickmode\":\"array\",\"linecolor\":\"rgba(0, 0, 0, 1.000)\",\"showgrid\":true,\"title\":\"\",\"mirror\":false,\"tickangle\":0,\"showline\":true,\"gridcolor\":\"rgba(0, 0, 0, 0.100)\",\"titlefont\":{\"color\":\"rgba(0, 0, 0, 1.000)\",\"family\":\"sans-serif\",\"size\":15},\"tickcolor\":\"rgb(0, 0, 0)\",\"ticktext\":[\"Segunda\",\"Terça\",\"Quarta\",\"Quinta\",\"Sexta\"],\"zeroline\":false,\"type\":\"-\",\"tickfont\":{\"color\":\"rgba(0, 0, 0, 1.000)\",\"family\":\"sans-serif\",\"size\":11},\"zerolinecolor\":\"rgba(0, 0, 0, 1.000)\",\"anchor\":\"y\"},\"paper_bgcolor\":\"rgba(255, 255, 255, 1.000)\",\"annotations\":[],\"height\":300,\"margin\":{\"l\":0,\"b\":20,\"r\":0,\"t\":20},\"plot_bgcolor\":\"rgba(255, 255, 255, 1.000)\",\"yaxis\":{\"showticklabels\":true,\"gridwidth\":0.5,\"tickvals\":[0.5,1.5,2.5],\"visible\":true,\"ticks\":\"inside\",\"range\":[0.0,3.0],\"domain\":[0.050160396617089535,0.9868766404199475],\"tickmode\":\"array\",\"linecolor\":\"rgba(0, 0, 0, 1.000)\",\"showgrid\":true,\"title\":\"\",\"mirror\":false,\"tickangle\":0,\"showline\":true,\"gridcolor\":\"rgba(0, 0, 0, 0.100)\",\"titlefont\":{\"color\":\"rgba(0, 0, 0, 1.000)\",\"family\":\"sans-serif\",\"size\":15},\"tickcolor\":\"rgb(0, 0, 0)\",\"ticktext\":[\"manha\",\"tarde\",\"noite\"],\"zeroline\":false,\"type\":\"-\",\"tickfont\":{\"color\":\"rgba(0, 0, 0, 1.000)\",\"family\":\"sans-serif\",\"size\":11},\"zerolinecolor\":\"rgba(0, 0, 0, 1.000)\",\"anchor\":\"x\"},\"legend\":{\"bordercolor\":\"rgba(0, 0, 0, 1.000)\",\"bgcolor\":\"rgba(255, 255, 255, 1.000)\",\"font\":{\"color\":\"rgba(0, 0, 0, 1.000)\",\"family\":\"sans-serif\",\"size\":11},\"y\":1.0,\"x\":1.0},\"width\":400}, {showLink: false});\n",
       "\n",
       "    });\n",
       " </script>\n"
      ]
     },
     "execution_count": 101,
     "metadata": {},
     "output_type": "execute_result"
    }
   ],
   "source": [
    "using Plots\n",
    "plotlyjs()\n",
    "\n",
    "dias = [\"Segunda\",\"Terça\",\"Quarta\",\"Quinta\",\"Sexta\" ]\n",
    "turno = [\"manha\", \"tarde\", \"noite\"]\n",
    "temp = [20 25 25 20 18; 30 35 38 30 28; 20 25 22 20 18 ]\n",
    "\n",
    "heatmap(dias, turno, temp, size = (400, 300))"
   ]
  },
  {
   "cell_type": "markdown",
   "metadata": {},
   "source": [
    "Mapa aplicado a uma matriz definida por uma função"
   ]
  },
  {
   "cell_type": "code",
   "execution_count": 102,
   "metadata": {
    "collapsed": false,
    "scrolled": true
   },
   "outputs": [
    {
     "data": {
      "text/html": [
       "<div id=\"daf1a92d-d029-4c4e-9b31-a6d20da5f2e4\" class=\"plotly-graph-div\"></div>\n",
       "\n",
       "<script>\n",
       "    window.PLOTLYENV=window.PLOTLYENV || {};\n",
       "    window.PLOTLYENV.BASE_URL=\"https://plot.ly\";\n",
       "    require(['plotly'], function(Plotly) {\n",
       "        Plotly.newPlot('daf1a92d-d029-4c4e-9b31-a6d20da5f2e4', [{\"xaxis\":\"x\",\"colorbar\":{\"title\":\"\"},\"colorscale\":[[0.0,\"rgb(0, 0, 4)\"],[0.034482758620689655,\"rgb(4, 3, 20)\"],[0.06896551724137931,\"rgb(13, 8, 41)\"],[0.10344827586206896,\"rgb(24, 12, 60)\"],[0.13793103448275862,\"rgb(38, 12, 81)\"],[0.1724137931034483,\"rgb(54, 9, 97)\"],[0.20689655172413793,\"rgb(69, 10, 105)\"],[0.2413793103448276,\"rgb(84, 15, 109)\"],[0.27586206896551724,\"rgb(97, 19, 110)\"],[0.3103448275862069,\"rgb(111, 25, 110)\"],[0.3448275862068966,\"rgb(125, 30, 109)\"],[0.3793103448275862,\"rgb(140, 35, 105)\"],[0.41379310344827586,\"rgb(154, 40, 101)\"],[0.4482758620689655,\"rgb(166, 45, 96)\"],[0.4827586206896552,\"rgb(180, 51, 89)\"],[0.5172413793103449,\"rgb(193, 58, 80)\"],[0.5517241379310345,\"rgb(206, 67, 71)\"],[0.5862068965517241,\"rgb(216, 76, 62)\"],[0.6206896551724138,\"rgb(226, 87, 52)\"],[0.6551724137931034,\"rgb(235, 100, 41)\"],[0.6896551724137931,\"rgb(241, 115, 29)\"],[0.7241379310344828,\"rgb(247, 130, 18)\"],[0.7586206896551724,\"rgb(250, 144, 8)\"],[0.7931034482758621,\"rgb(252, 161, 8)\"],[0.8275862068965517,\"rgb(252, 178, 22)\"],[0.8620689655172413,\"rgb(250, 196, 42)\"],[0.896551724137931,\"rgb(246, 213, 67)\"],[0.9310344827586207,\"rgb(243, 229, 93)\"],[0.9655172413793104,\"rgb(242, 244, 130)\"],[1.0,\"rgb(252, 255, 164)\"]],\"yaxis\":\"y\",\"showscale\":true,\"x\":[1,2,3,4,5,6,7,8,9,10],\"showlegend\":false,\"name\":\"y1\",\"z\":[[2,3,4,5,6,7,8,9,10,11],[3,4,5,6,7,8,9,10,11,12],[4,5,6,7,8,9,10,11,12,13],[5,6,7,8,9,10,11,12,13,14],[6,7,8,9,10,11,12,13,14,15],[7,8,9,10,11,12,13,14,15,16],[8,9,10,11,12,13,14,15,16,17],[9,10,11,12,13,14,15,16,17,18],[10,11,12,13,14,15,16,17,18,19],[11,12,13,14,15,16,17,18,19,20]],\"y\":[1,2,3,4,5,6,7,8,9,10],\"type\":\"heatmap\"}],\n",
       "               {\"showlegend\":true,\"xaxis\":{\"showticklabels\":true,\"gridwidth\":0.5,\"tickvals\":[2.0,4.0,6.0,8.0,10.0],\"visible\":true,\"ticks\":\"inside\",\"range\":[0.5,10.5],\"domain\":[0.05428696412948381,0.9901574803149608],\"tickmode\":\"array\",\"linecolor\":\"rgba(0, 0, 0, 1.000)\",\"showgrid\":true,\"title\":\"\",\"mirror\":false,\"tickangle\":0,\"showline\":true,\"gridcolor\":\"rgba(0, 0, 0, 0.100)\",\"titlefont\":{\"color\":\"rgba(0, 0, 0, 1.000)\",\"family\":\"sans-serif\",\"size\":15},\"tickcolor\":\"rgb(0, 0, 0)\",\"ticktext\":[\"2\",\"4\",\"6\",\"8\",\"10\"],\"zeroline\":false,\"type\":\"-\",\"tickfont\":{\"color\":\"rgba(0, 0, 0, 1.000)\",\"family\":\"sans-serif\",\"size\":11},\"zerolinecolor\":\"rgba(0, 0, 0, 1.000)\",\"anchor\":\"y\"},\"paper_bgcolor\":\"rgba(255, 255, 255, 1.000)\",\"annotations\":[],\"height\":300,\"margin\":{\"l\":0,\"b\":20,\"r\":0,\"t\":20},\"plot_bgcolor\":\"rgba(255, 255, 255, 1.000)\",\"yaxis\":{\"showticklabels\":true,\"gridwidth\":0.5,\"tickvals\":[2.0,4.0,6.0,8.0,10.0],\"visible\":true,\"ticks\":\"inside\",\"range\":[0.5,10.5],\"domain\":[0.050160396617089535,0.9868766404199475],\"tickmode\":\"array\",\"linecolor\":\"rgba(0, 0, 0, 1.000)\",\"showgrid\":true,\"title\":\"\",\"mirror\":false,\"tickangle\":0,\"showline\":true,\"gridcolor\":\"rgba(0, 0, 0, 0.100)\",\"titlefont\":{\"color\":\"rgba(0, 0, 0, 1.000)\",\"family\":\"sans-serif\",\"size\":15},\"tickcolor\":\"rgb(0, 0, 0)\",\"ticktext\":[\"2\",\"4\",\"6\",\"8\",\"10\"],\"zeroline\":false,\"type\":\"-\",\"tickfont\":{\"color\":\"rgba(0, 0, 0, 1.000)\",\"family\":\"sans-serif\",\"size\":11},\"zerolinecolor\":\"rgba(0, 0, 0, 1.000)\",\"anchor\":\"x\"},\"legend\":{\"bordercolor\":\"rgba(0, 0, 0, 1.000)\",\"bgcolor\":\"rgba(255, 255, 255, 1.000)\",\"font\":{\"color\":\"rgba(0, 0, 0, 1.000)\",\"family\":\"sans-serif\",\"size\":11},\"y\":1.0,\"x\":1.0},\"width\":400}, {showLink: false});\n",
       "\n",
       "    });\n",
       " </script>\n"
      ]
     },
     "execution_count": 102,
     "metadata": {},
     "output_type": "execute_result"
    }
   ],
   "source": [
    "using Plots\n",
    "plotlyjs()\n",
    "\n",
    "z = [x + y for x = 1:10, y = 1:10]\n",
    "heatmap(z, size = (400,300))"
   ]
  },
  {
   "cell_type": "code",
   "execution_count": 103,
   "metadata": {
    "collapsed": false
   },
   "outputs": [
    {
     "data": {
      "text/plain": [
       "10×10 Array{Int64,2}:\n",
       "  2   3   4   5   6   7   8   9  10  11\n",
       "  3   4   5   6   7   8   9  10  11  12\n",
       "  4   5   6   7   8   9  10  11  12  13\n",
       "  5   6   7   8   9  10  11  12  13  14\n",
       "  6   7   8   9  10  11  12  13  14  15\n",
       "  7   8   9  10  11  12  13  14  15  16\n",
       "  8   9  10  11  12  13  14  15  16  17\n",
       "  9  10  11  12  13  14  15  16  17  18\n",
       " 10  11  12  13  14  15  16  17  18  19\n",
       " 11  12  13  14  15  16  17  18  19  20"
      ]
     },
     "execution_count": 103,
     "metadata": {},
     "output_type": "execute_result"
    }
   ],
   "source": [
    "# para ver a matriz z\n",
    "z"
   ]
  },
  {
   "cell_type": "markdown",
   "metadata": {},
   "source": [
    "## GRÁFICOS 3D PARTE II"
   ]
  },
  {
   "cell_type": "markdown",
   "metadata": {},
   "source": [
    "#### GRÁFICO DE LINHAS\n",
    "\n",
    "Sintaxe:\n",
    "```julia\n",
    "using Plots\n",
    "pyplot()\n",
    "    plot( vetor_x , vetor_y , vetor_z, opções )    \n",
    "ou    \n",
    "    # o ponto \".\" serve para calcular a função elemento por elemento do vetor\n",
    "    plot( vetor_x/função_f.(vetor) ,vetor_y/função_g.(vetor) , vetor_z/função_h.(vetor), opções)\n",
    "```"
   ]
  },
  {
   "cell_type": "code",
   "execution_count": 104,
   "metadata": {
    "collapsed": false
   },
   "outputs": [
    {
     "name": "stderr",
     "output_type": "stream",
     "text": [
      "\u001b[1m\u001b[36mINFO: \u001b[39m\u001b[22m\u001b[36mPrecompiling module PyPlot.\n",
      "\u001b[39m"
     ]
    },
    {
     "data": {
      "text/plain": [
       "Plots.PyPlotBackend()"
      ]
     },
     "execution_count": 104,
     "metadata": {},
     "output_type": "execute_result"
    }
   ],
   "source": [
    "using Plots\n",
    "pyplot()"
   ]
  },
  {
   "cell_type": "code",
   "execution_count": 105,
   "metadata": {
    "collapsed": false
   },
   "outputs": [
    {
     "data": {
      "text/plain": [
       "1:10"
      ]
     },
     "execution_count": 105,
     "metadata": {},
     "output_type": "execute_result"
    }
   ],
   "source": [
    "vetor_x = 1:10"
   ]
  },
  {
   "cell_type": "code",
   "execution_count": 106,
   "metadata": {
    "collapsed": false
   },
   "outputs": [
    {
     "data": {
      "text/plain": [
       "f7 (generic function with 1 method)"
      ]
     },
     "execution_count": 106,
     "metadata": {},
     "output_type": "execute_result"
    }
   ],
   "source": [
    "f6(x) = x^2\n",
    "f7(x) = x^3"
   ]
  },
  {
   "cell_type": "code",
   "execution_count": 107,
   "metadata": {
    "collapsed": false,
    "scrolled": true
   },
   "outputs": [
    {
     "data": {
      "text/html": [
       "<img src=\"data:image/png;base64,iVBORw0KGgoAAAANSUhEUgAAAZAAAAEsCAYAAADtt+XCAAAABHNCSVQICAgIfAhkiAAAAAlwSFlzAAAPYQAAD2EBqD+naQAAIABJREFUeJzsvXd4HPd9Jv7ObEVbAETvAAGQBMUGFhFskKxyLkmsYsuxYxXGsqWzT+6/OHK5X2Sfo7MujpLIOkey48jJ0ZfHiiQ7dpxIsmIVqlGQSIoN2IKywKIu2vY+c38g39Hs7myf2Z1dzPs8fGTvALOD3Znv+30/5f1QLMuyUKBAgQIFCjIEXegLUKBAgQIFxQmFQBQoUKBAQVZQCESBAgUKFGQFhUAUKFCgQEFWUAhEgQIFChRkBYVAFChQoEBBVlAIRIECBQoUZAV1oS9AgQIFCgqJYDAIq9WKSCRS6EspOGiaRktLC6qqqtL6eYVAFChQsGlhs9nwR3/0R/B6vYW+FFnhlltuwde//nXQdPIglUIgChQo2JRgGAbf+c53UFNTg0ceeQR6vb7Ql1RwhEIhnDt3Dj/4wQ8AAN/85jeT/rxCIAoUKNiUWF5extmzZ/Hnf/7n2LdvX6EvRzbYvXs3AOCRRx7BF77whaThLCWJrkCBgk2J9fV1AEB7e3uBr0R+GBwcBADMz88n/TmFQBQoULApwTAMAEClUhX4SuQHjUYD4L3PKBEUAlGgQIECGaG7uxvnz5+Peu3Tn/40XnzxxZS/+8ADD+BLX/qSVJcWByUHokCBAgUyx9/93d8V+hIEoSgQBQoUKJA5rr32Wvzyl78EAJw8eRL33nsvrr/+emzbtg233norgsEg97Pz8/P4gz/4A+zcuRPXXXcdVldXAQAXL17EiRMnsH//fuzcuRPf/e53c74uRYEoUKBAwX9iwsliPZj657JBjRbYaqBEOdf58+fx4osvQqfTYXh4GE8//TQ+8YlPAADOnDmDd955B3V1dfj4xz+Oxx9/HF//+tfR3d2NF154ATqdDj6fD0ePHsUNN9yAoaGhrK9DIRAFChQoALDsZ9H/ZBiMRDNaVRSwcLsa9frcSeSWW25BeXk5AODqq6/G+Pg4d+wDH/gA6urqAABHjhzBxYsXAQA+nw+f+9zncP78edA0jZmZGZw/f14hEAUKFCjIFfV6CuaPqSVVIGKQB4CopkeVSoVwOJzy2De+8Q3U1dXh3LlzUKvVuPXWW+H3+3O6DoVAFChQoOA/IVaISY5YW1vDwMAA1Go1jEYjfvvb32J4eDincyoEokB2YFkWDMOApmlQVOk+0AoUJML73/9+rhcDgCg2K9/61rdwxx134B/+4R/Q29uL6667LudzUizLShTxU6AgMxDiCIfD8Pl8oCgKKpUKNE1DpVJx/5uiKIVYFOSMsbEx3H777Th16hR27NhR6MuRFdL9bBQFoqDgIMSxurqKQCCALVu2cK+HQqGon6UoKopQCKkoakWBgvxDIRAFBQPLsmBZFuFwGJFIBHa7HS6XC9XV1VhbW0NFRQX0ej0oigIRyoRsYmc3EFJR1IoCBfmDQiAKCgISqopEImBZllvsPR4PTp8+DYqiEAqFoFKpUFlZGfWvoqICavXGrUtISFErChTkHwqBKMgrhIiDZVnMzs5iYmICwIadtMFgAMuy8Hq9cLvdcLvdWFhYgNvtRjgcRnl5eRyx6HS6tNTK6uoq6uvrodVqo5SLolY2F8iwpNiNhwJw5b1ko5YICoEoyAvIQs6vV6coCouLizCbzWAYBk1NTQgEAmhoaEAwGARN0zAYDDAYDNzvsCyLQCDAkQohFq/XC7VajcrKSlRVVXGkUl5eHqdWLl++jIMHD0Y5jSpqZfOhtbUVWq0WP/7xj/GZz3wmquppsyISicBms+HRRx9FeXk5Ojs7k/68QiAKJAU/x8EwDLfLX11dhclkgt/vR29vL9rb2zE7O4vFxcWk56MoCnq9Hnq9HvX19dzrkUgEHo+HI5W5uTl4PB5EIpE4tQJs7D7VanXauRV+fkVRK6WByspKPPzww/jKV76C119/vdCXIyscOHAAjz32GLRabdKfU8p4FUgClmU5xcEnDqfTCZPJBIfDga1bt6Krq4ubx2Cz2TA/P4+DBw8iEAjkvEizLAu/3x+lVtxuN3w+H9RqdZRSIbkVEtbg51b4JEOuSVErpQOy4Ug1+2IzgKZp1NbWoq6uLuU8dEAhEAUig08c5NYiyXGz2Yzl5WV0dXWhp6cnLmQwOzuL2dlZHDp0iHMXlWJBfvHFFzEwMIBIJBJFLAzDcGqFTy5kF8YnEj6xECQjFYVYFJQilBCWAlFAQkChUCiKOPx+PywWC+bn59He3o7h4WHodDrBc/AT4FKCpmlUVVWhoqIi6vr5asXhcMBms8Hv90Or1cYl7MvLyznlFFsJRj4DRa0oKHUoBKIgJ/C7x0kIgKIoBINBTExMYGZmBs3NzTh+/DjnHpoI+SIQAHHvQ1EUysrKUFZWhoaGBu71cDgcpVJsNhs8Hg8YhkFFRUUcsQiplVS5FUWtKChWKASiICskIo5wOIypqSlMTU1hy5YtOHLkCKqqqtI6Zz4JJF2o1WrU1NSgpqaGe41lWfh8Po5U1tfXo9QKUTckFFZWVpa2WiHkodPpFLWiQPZQCERBRuAvfmRXTdM0GIaB1WrFxMQEKisrcfDgQdTW1mZ07nwRSK6LMUVRKC8vR3l5ORobG7nX+WrF5XLBZrPB7XYDgKBaITkgvlrxeDx45513cPz4ce68ilpRIFcoBKIgbRDF4fV68fLLL+PGG28ERVGw2WywWCzQ6XTYs2cP6uvrs1rYChnCEgOJ1Aq/GXJ1dRXT09MIBALQ6XRxpEJIgZQYK7kVBXKGQiAKUiK2e5yEYxYWFrhJaDt27EBzc3NOi1exKJBM36uiogIVFRVoamriXg+FQlG5lenpaXg8HgAbn/fo6GhUKExIrZDvhf/3KGpFQT6hEIiChCBNgLHd46urqwAAk8mEvr4+tLW1pVUzngoUReWtFr/QuRaNRoPa2tqoMB/DMFhZWcHly5eh1WqxsrKCqakpBINB6PX6OLWSSW6FNE7ymyEVtaIgVygEoiAOibrH19fXYTKZuLj+4cOHU1ZWZQL+YibHhLrUoGkaer0eNE2jt7eXez0YDEapleXlZXg8HtA0LZhb4Vu3kP8yDAO/36+oFQWiQiEQBRyEusdpmobb7YbZbMbKygq6u7sxODiI3/3ud6IvMiQZLzXkvjjGXp9Wq8WWLVu4OSnAhlrh51aWl5cF1QppiNTr9YpaUSA6FAJRINg9TtM0fD4fLBYLFhYW0NHREdUEKEW4qdiT6GIg3euiaTrK24sgmVpJZYtP/kvUCvAemSlqRYEQFALZxEjUPR4MBjE+Pg6bzYaWlhacOHECZWVlUb9LbNjFxGYMWwkhlwU5kVrhG00uLS1hYmICoVAIZWVlccSSSq3Mz8+Dpmk0NzdzaoVPKopa2TxQCGQTIlkT4OTkJKxWK+rr63H06NG4HS6BFOGmUqzCyhRS/P3EuoXf0MmybJxaWVpagtfrhUqlisqtkGowolbIz1AUJWjRr6iVzQOFQDYREhEHwzCYmprCxMQEqqurcejQoaheBiFIsdgrIawN5GORpSgKOp0OOp0OdXV13OvJ1AoxmvT5fCgrK0MwGOSGeAHxaoVviMnPrShqpXSgEMgmQOzscf4kwJmZGYyPj0On02Hfvn1RMzaSoZgViJxBktmFQjK14nK54Ha74XQ64ff78frrr3NDvNLJrShqpfSgEEiJI9Hs8fn5eVgsFlAUhYGBATQ1NWX0wBYzgciZqOR4XXy1Ul9fD4/Hg8rKSrS3t0eplWQjh6uqqqDVahW1UmJQCKREwTAM3G43vF4vDAYD1+hnt9thNpsRCoXQ19eH1tbWrJoA81GFVejdeKEg97+ZYRhOOWQyclij0QiqFX7Cnvw3E7UiRhOrguygEEiJgd89brfbYbPZcPjwYaytrcFkMsHj8aC3txednZ05PXjFXIUl5wW6GEgz2TWmGjlMwmBzc3NxQ7z4//gzYxS1Il8oBFIiEOoeV6lUCIfDOHv2LFZXV9HT04ODBw9y8elcIJUCAfITxpFjqKhYQBRIJkikVvhDvJxOJ+bm5uDz+eLUSlVVVdwQL/LfWLVCNjfhcBiVlZWKWpEQCoEUORJ1j3u9XkxPT8PtdqO+vh67d+/mhh2JAakUCCD94i7nnWkxKBByn+WKZEO8+LkVvlpJNsQLeE+tuFwuXLx4EUNDQ9x7KWpFfCgEUqRI1D0eCAQwPj6O2dlZbNmyBXq9Hjt27BD9/aVKogObWx0Uw99OijGkglqtRnV1Naqrq6Pe0+fzcWGw2CFesaTCMAxUKhU0Gk1KtULUupJbyRwKgRQZEnWPh0IhrgmwsbERR48eRSgUwrvvvivJdUgRwiIPLPF1UqlUnJdTVVUV9Hq9aDtFOS/Uct8Ni6VAMgF/iFeqkcNut5v7fq9cuRIVBiO2+EDq3EoiUpH795NPKARSJEjUBBiJRGC1WjE5OYmamhocPnyY27k5HA7JzAmlCGG5XC4AwKVLl9DV1QWKouDxeOL8nPikUlFRkfFOUc4LgJyJjUBqBZIJEg3xstlsmJmZgV6vj1IrQkO8Ym3xyX/D4TBCoRB3Xr5aIWaTm12tKAQicyQiDpZlMT09jfHxcZSVlWFwcDCqoxiQ1t1WzHP7fD6YzWYsLCwAAI4cOQKtVotIJMI9mPwOaZfLhYWFBVgsFkQikaj54+S/qQoF5LxQy5nggMIokExAURQ0Gg10Oh22bt3KvZ5siFeykcOAolYSQSEQmSJR9zgAzM3NwWKxQKVS4aqrrkJjY6PgjapSqbi55WJDjJLbUCiEiYkJWK1WNDc34/jx43jllVe43SAf/A7plpYWANFVPC6XC2tra9y4WL1eH0UopDRU7g+0nImNQE4KJBEikUjcfSQ0xCvdkcNE7ZaXl8fl6jazWlEIRIZI1D2+tLQEs9mMSCTCNQEmWxBJmEmKyp5cFAjDMLBarZiYmIDBYMDQ0BAMBkPUA5kOElXx8E0CXS4XlpaW4PF4uNLQYDCItbU17nfl9kDLneSyKePNN0gSPRXSHTlstVo5tRKrVPhDvIDNpVYUApER+MQBvHfDra6uwmQywefzobe3Fx0dHWk9wPzwTzoPUybIhkBYlsX8/DzMZjPUajX27t0b1WxG/t5cCU/I0pzfyOZyubCysoLZ2VkA0QsCUStif17pohjKeIvhGvnhz2yQaOSwz+fjmiETDfHi51Zi1Qp5xolaYVkWs7OzaGtrg06ng1qtxm9/+1tcd911qKioyOETyA8UApEBEo2QdTqdMJlMcDgc6OnpQVdXV0ZNgFISSKZVWCsrKzAajQgGg+jv70+ongiBiB3K4Teyzc7OoqenB/X19Vz4wuVyYXl5GZOTk1HOs/wwmJh9NIlQDCGsUlIgmYCMEI5d2NMdORxriw+Aq55sbW1FKBSCx+PBhz/8YczMzCgEoiA5SG07sccmjU4ejwdmsxnLy8vo7OzE3r17s1q8yEMeiUSiEoJiIN0qLJfLBaPRiPX1dWzduhVdXV1JH+x82JkQ4hIKX/DnZBC1QrqjtVptXF6Fv8sU+/rkis2gQDJBNiOH+Xk5YEPx0DQNh8MBAFEd+5ngC1/4An71q1/BarXi3Llz2LdvHwDAbDbjrrvuwvLyMqqrq/HTn/4UV111VU7HAIVACgJ+Q9PS0hImJydx5MgR+P1+jI+PY25uDm1tbThx4gT0en3W70PiqlJUYqU6r9/vh9lsxvz8PDo6OrBnz560SDBffliJ3iPRnAx+v4HL5YLVaoXb7RattDjVdckJxaJAxLDsyRbJRg67XC4unEoqD0+fPo2f/exn8Hq9aGxsxMWLF7Fv376MVchHP/pRfO1rX8Px48ejXr/33ntxzz334OTJk3jqqadw8uRJjIyM5HQMUAgkrxDqHler1QiHwxgbG8PMzAyamppw7Ngx0eSrVKW8NE0LVnjFNjQeP34c5eXlaZ83nwokEwj1G5BdJomJC5UW88klXRUo5929VEUZYiMSieQl5JgptFot6urq8KyzAX8xqcZ/HLPjyqUL2LdvH6xWK373u9/B7/fj5ptvxsrKCvr6+vDcc8+hp6cnrfMPDw/Hvba0tIS3334bzz//PADgIx/5CO677z5YLBYYDIasjvX19QFQCCQvSNQ9HolEOKtrr9fLVSOJCSkJhH9ehmG4vpSqqipcffXVUVYU6ULOszpiIbTLjC0tXl9fx8zMDFdaHKtWYkuL5f63821z5AyhMl654F9tNP7bWxr8cW8EFLsRXq6qqsKdd96Jnp4ejIyMYGpqCouLi3j33XfR2tqa0/vNzMygpaWFU2QURaGzsxPT09Oorq7O6phCIHlAshGyZLHV6/VQq9U4cOCAJNeQSCnkCvJ3sCyLhYUFmEwmqFQq7NmzB/X19VnvUMWowkoHUi3UiUqLQ6EQp1Ri548TQqmsrEQgEJDkusQC/z6WM+QaZju9SOOPX9fgpnYG398fxspyOIroXC4XqqqqQNM0WlpauJ4nsZHs/s/kmEIgEiCWOPgjZGdnZ2GxWKDRaLB7926UlZXhzTfflOxaVCqVZAokEAjgzTffhN/vR39/P9ra2nJeWOQawsoVGo0mYWkxUStzc3NwOp1gWRYjIyOcShGq3ikUFAWSPc6tUvj4aQ2ONjD40VAIKnrjOvnfq9PpzEq5J0NHRwfm5+cRDoehVqu5UdadnZ0wGAxZHSMo/B1ZQkjUPU5RFBYXF2E2m8GyLLZt24aWlhZQFAWfz8f9rBQLmxQhLLfbjdnZWXg8HvT19aG7u1u0h7XQSfR8QmhGxszMDOx2O9ra2uKqd/iDl2KrePKFYlIgciIQs5PCrS9rsb2axc+Oh6D7z0sLh4UViJhobGzE/v37cerUKZw8eRJPP/002tvbuTBUtscAhUBEg1D3OE3TWF5ehslkQiAQQG9vL9rb26N2b+TmkeqGF5NA/H4/LBYL5ubmUFNTA51Oh97eXlHOTZCvEJZcQVEU1Go1mpqaojqjyZhYfsLe6/VyVub8vIoUpcUE/ByenJHPMt5UmPUCN7+kRYOOxT8PB1HJq6Ugu3sCl8uVUx703nvvxW9+8xssLCzg/e9/P6qqqmCxWPD444/j5MmTePDBB2EwGPDEE09wv5PtMUAhkJyRqHvc4XDAZDLB5XJxTYBCBEFek0pyi0Eg4XAYk5OTmJqaQkNDA44dO4a1tTXMz8+LdJXvQUoDSAI5J+oTXVei0mJ+dz0xB6QoKk6p8GeP5wKSW5A7gchFgawENsiDAvDLa4OoixGMsSGsXAnk8ccfF3x9+/bteOONN0Q9BigEkjUSdY+73W6YzWasrKygq6sLg4ODScs3+c1+UiAXQ0WGYWCz2WCxWFBRUYFDhw5xZaxSWcXLeXHPF9JdnIUGL/Eb2FwuFxYXF7nSYqHu+kwbTItFHcpBgbhCwEde1mIlQOG564NoFahmD4fDUd+Bw+EQPQciJRQCyRBCxEHTNHw+HywWCxYWFtDe3o7h4eG04tPk96UikGw9qxYXF2EymUBRFHbt2oWGhoaohUPKBkW+Gd1mQ65/M7+0uLm5mTtnIBDgwl+x8zFiu+uTDe6Sa3VTLAqtQAIR4PZXNbC4KPzmuiD6DcLfayQSQVlZGff/3W432tra8nWZOUMhkDSRaPZ4MBjE+Pg4bDYbZ0meSeMcIF2lFJA5gaytrcFoNMLr9XKVVUILhhQDpYD8VWHJmZyksEbR6/XQ6/VxpcX87nri4aRSqeKUSnl5OfedKwokxXszwGfe1OB1O41fXBvE3trE91o+kuhSQiGQFEg0ezwcDmNqagpTU1Ooq6vDkSNHsv7ipZzbkS6BkNDb8vIyenp60N3dnbRsVKpchdwXd6mRzwVayHE2EolEddfPzc3B7XaDYRhUVlZCq9WCYRisr6/H2ZjLBaR0vhAKhGWBL7+txq9tNH52PITjjcnv5dgkutPpFL2ZWErI79uXCUgvRzAYxNmzZ7Fr1y7odLqoWRaVlZU4ePBg1AOYDaQkkFTnDgQCsFgsnKV0JqG3YlYgckWhyZM0NvI3Q8T00+12w263g2EYXLp0CcFgEGVlZYKuxYX8jMnGphAK5DsX1PjphBp/eziID7Wl3mDFFs9I0QciJRQCiYFQ9/jq6iqCwSDsdjssFgt0Ol3OHdd8FEKBEAU1OTmJuro6HD16NM74LZvz5orN1AeSCHIjOIqiUF5ejvLycqhUKrjdbhw+fJgzBuSPGfZ6vZw1B59Y+JP8pAZ5lvKtQH4wpsJfjqrx4GAIn+xJ79ngKxCWZeF2uxUFUoxI1D0ObDxAZ8+eBU3TGBgYQFNTk6gPQz4JhGEYrhter9dnraCkTqJLudjIbYHmQ87EBkTPQyfGgPzS4kgkEtWvMjMzA7fbDQCCrsVSLPL8qsh84dSECt88r8H/tzOM+7an/ywLlfEqCqSIkKx7nDQBMgyD5uZmbNu2TRJZLGXvA03TnImj3W6H0WgEy7I5E2ExJ9HlDrkTXLJnQKVSCZYW8yf5LS0tYWJiAqFQiHMt5vuB5eqiSxLo+foc/9VG474RNT7VG8Z/3x3O6HeFkuiKAikSJOoeX1tbg8lkgtvtxtatWzE7O4stW7ZIFlNVqVQIhzO78TI5t9PpxFtvvQWPx5PRSNxkUEJY0kCu10XAVyDpQmiSHyktJmrF4XBElRbHqpVkpcVC15iv8BXfHPEvD4SRyUdDIh1EgYRCIfh8PkWByB2JusfdbjdMJhNWV1fR3d2NAwcOQK1WY3FxUbIFHpCujNfj8WBhYYEjQvL3iAGpk+ibOYQl9+sTYyPFLy2ur6/nXk9UWkzTdFxeJdHgrnyV8AqZI2YCsqYQsnM6nQCgEIhckah73OfzwWw2Y3FxER0dHVzFFYFarZYsRwGInwMJBoOwWCyw2WwwGAzYsmUL+vv7RTs/IK0CCQaDuHjxItxuN1cRJHbMXM47fTkTiNSNhEKlxQzDcJYtsaXFsSGwqqqqvCiQROaImSAcDnP9ZMAGgahUqoz7yAqJTUEgiZoAA4EAxsfHMTs7i5aWFpw4cSKqK5RAyiS3mOePRCKYmprCxMQEtmzZgqNHj2JtbQ2Li4siXGU0SA5EzB0zGRu7tLSE5uZmtLe3w+PxcDHzcDiM8vLyKFKRay9CtpAzsQGFUUhEfcSWFvv9fo5UVldXMT09jUAgAI1GA5ZlMTk5GeVaLNZ1JzNHzAQkgU6uiz8LpFhQOk+eABIRRzgcxsTEBKanp1FfX5+yhJWMnZUK5JqyBZkzYjabodfrceDAAW7uhMPhkGygFHnvXB9M/vUzDIP29nYMDAwgGAxyDxPfjsPlcmF1dRVWq5WzOecTSiqPJznv8AF5X59crEz4g7saGxu514PBIKxWK+x2O7xeLxYXF7nSYqHu+kw/61TmiJkgNoHucDiKqgsdKFECSdQ9zjAMt0Ovrq6OMgdMBqkViFqtzmoSHcuyWF5ehtFoRCQSwY4dO9Dc3Bz1UEg5UArIfUFZWVnB2NgYwuEwBgYGsLi4CL1eH/dziew4+KTCT8Tq9foopUIa3AjkutOX63URZJNEzye0Wi3Xs3LVVVcBeK+0mORVbDZbVGlxbBVYovBXOuaImSCRE6+cP99YlBSBJBohSyZpkRGyg4ODUbXrqSBllRSQXT7B4XDAaDTC5XKht7cXnZ2dCT2rpCaQbODxeGA0GrG6uoqtW7dydvfLy8sZnZPYnMcmYgmp8BvciHGg1+uFWq3mKn7k9sDK7Xr4ECuJLiViu7uFSotZlo2ybOGXFgu5FrMqLW5/VQOzM7k5YiYo9hJeoEQIJBFxAMD8/DzMZnNOTYDZKoR0kYnC8Xq9XMI/Xbt4qZLdQOY75lAoBIvFgpmZGbS1teHEiRNRBQtiVHcJjY8l+RWyYKysrGB+fp7rmuaHwKQcyJQKcl+g5a5AgPRUMUVRgqXF/O56p9O5kbD3+vBX7gN4y9+A/71tCq1hFbze3O8TIQWihLDyiGTd43a7HSaTCeFwGH19fTnN65ZagaRDIMT1d2ZmJmnCPxZSE0i652YYBjMzM7BYLDAYDAnNJ6UqD1ar1aipqUFNTQ0Xa25vb+dIxeVywWq1wu12R7nRkn/5tOKQM+ROcED2w9koiopTtCwLfP4tFd5YVuOvt89jj24dU1MurrRYqLs+3c8nVoEUm5EiUOQEQswO+U2Aq6urMJlM8Hq92Lp1a8LQTiYoZBlvJBLhzBtramoydv2VKgdCSqBTnZvfAQ8gpYdYPs0UE3VN86f88ePlsYn6TBaLdCH3PpBiUSBilfF+54Ia/zi5YY74yZ4tALZw7+HxeKJ8wMjgLqHueqEogdA422LqAQGKnECA9wYyOZ1OmEwmrK2tpWVHngmkrsISIhCWZTE3Nwez2QytVot9+/ZFxfnThdTDqpIt9i6XC2NjY3A6nejr60urA77QnehCJaNkyh9/HjmpGItVKrn2qsg9iV4om/RMEIlEMp60KIRk5oj8+6SlpQXAe6XFhFTW1ta40mK9Xh+nVqS0cv+3f/s3fOtb3+IiNH/yJ3+Cu+66C0tLS7jzzjsxPj4OnU6HH/7whxgeHgaApMcSoagJhKZpLiewtLSEzs5O7NmzJ2cvnVhIXYUVu8iTyqpQKIRt27ahpaUlJ8+qfA+rCgQCMJvNmJubQ2dnJ/bt25f2Ay2VSWMu4E/5IyAW50SpLC0tYXx8PG4Hmk2vipx3+JtFgWRjjsgvLeZXCgaDwagqsKWlJW52vU6ng91ux4ULF7C2tsaRUS5gWRa33347XnrpJezZswdTU1PYsWMHbr31Vtx///0YGhrCs88+i5GREdxyyy2YnJyERqNJeiwRippAfD4fXnvtNbS2tqadE8gG+VAgDMPA6XTCaDTC6XRy4bdcHwSyyEsRGoklEH4jY319fVbTGYtlHgjf4rypqQlA/A40Ua8KIRWhB7MYFEgx5EByuUZijvjHWZgjCkGr1cYVdUQiEbz77rvQarUYHx/HE088AYvFgn/q4FWqAAAgAElEQVT5l3/Bv//7v2NwcBA33XQTfu/3fi+r96QoCuvr6wA2lE1dXR10Oh2efPJJWCwWAMChQ4fQ2tqKl19+GTfccEPSY4lQ1ARSVlaG4eFhwb4BMSG1AgmFQggGg3jzzTfR1dWV0Y49FQgBSUEg/PnlCwsLMBqN0Gq1UY2M2Z5Takjl4yW0A82kV6UYciByJ5BcFAjfHPHhDM0RM4FKpQJFUdiyZQt27dqFm266CR/84AfxgQ98AP39/Th//jyWl5ezOjdFUfj5z3+OW2+9FRUVFVhbW8MzzzwDl8uFUCiE5uZm7me7u7sxPT2NlZWVhMeSoagJhDSXSQ2pFEgoFMLExASsVitYlsXw8LDoKoo87FIYzJHck9FohM/nw7Zt29Da2prTAliKdu7p9KrMz8/D5/OBpmno9XqwLMuRipx6VeROcED293qu5oiZIraM1+12Y/v27bjtttvwh3/4h1mfNxwO47vf/S6eeeYZDA8PY2RkBB/+8Idx/vz5uO+O/6wlO5YIRU0gQH4WHJVKxZUMi7EI88fiGgwG7N+/H2+//XZao2QzRa4Nf4ng8/kQCARgNBrR09ODnp4eUYoW8hXCKjRJJepVuXjxImiaht/vh91uh8fjietVydTeXEwUgwLJpoyXmCNuM2Rvjpgp+GW8Yk4jPH/+PObm5rgE+KFDh9De3o4LFy5ApVJhYWGBUxpWqxWdnZ2oq6tLeCwZip5A8gHyJYfD4ZwS9CzLco2NarWaK2kl4TEpVEKm/RqpQHzEpqamuObM9vZ2Uc4NyGNxLxTUajW0Wi0qKyvR1dUFIHrCn8vlwtTUFDweT8F6VYoliZ7Jc8Q3R3zqmuzNETOFVFVYHR0dmJ+fx+joKAYGBmCxWDA+Ps6pm8ceewwPPPAARkZGMDs7i2uuuQYAkh5LhKInkHwpEAA55UFWVlZgNBoRDAbR398fFerhh5nEyn0QkDLnXHM4fMPD8vJyHD58GFeuXBHdCXczEwgQHzbIpFeFoihBUhFzU1IsSfR0FYiY5oiZQqpxtk1NTfjRj36Ej33sY1yhy6OPPorOzk489NBDuOOOO9Df3w+tVotTp05xa06yY4lQ9ASSD1AUlXU3usvlgtFoxPr6epTnEx9k/KZUifpcmwljDQ+JHYwUi/1mCWElQ6odfjq9KvPz8zCZTGBZFhUVFaL1qhSLAknn7xPbHDETEMNXcp3BYBB+v1+0RsJPfOIT+MQnPhH3elNTE55//nnB30l2LBEUAkkTmXaj+/1+mM1mzM/Po6OjI2V/ilQd40D2vSB8w8Pe3l50dXVF7T6l6DGRYx9IPpEtseWrV6VYFEiqawxEILo5YiYgawn5zF0uFwAoVib5Rr52Q+kqkFAohMnJSVitVjQ0NKTdCyFlqXCmCz3fd6utrQ3Dw8OC5CfFYs//PqUabyv3HbRY1ydFr0opKJAIA3zmTQ1et9P4xbVB7NuSfzUqNM622KYRAiVAIPlCKgXCMAymp6cxPj6OyspKXH311RnJUTkQCP9vqK6uTum7lcrKJBvwr1XKklG5hrDyMQ8+Va/K+vo6ZmZmOAsOPqnIvQor1lQ1FiwLfPltNX5to/Gz4yEcbyzMfUDCV+S7Jgl0OX+2QlAIJE0kUiCkic5kMkGlUmH37t1oaGjIeBGQkkBShceI4eHY2BhomsaePXuiFpdEkCqEVQyd6FKhUMQm1KtCLDhie1UuX76M6urquGFdcvhcyf2YSIF854IaP53YMEf8UFvhQqVCTrzFZuUOlACB5OumFVIgq6urMBqN8Pv96O/vz9kyXkoFkujcTqcTY2NjcLlc6O/vR3t7e9q7IKlCWHJVB/mCHBZiQNiC4/Tp0+jp6QHDMNwgJjn1qpD7XOge5swR98WbI+YbQk68VVVVsvnu00XRE0i+wFcgbrc7bpperuWs+Q5h8Q0P0xlMlei8xViFBcg7hCV3EPVBkKxXJdYCX+pelUgkwpWu8xFljrhDOluidJFonG2xoegJJJ8KJBAI4NKlS5ibm0N7ezuGh4dF6x6X2nadEIgYhodC5xULUiXOY99DzpDz9Qkl0eXUqyKUoxHbHFEMlMIwKaAECCQfCIfDcLlccDqdaGxsxLFjx6JGYYoBKct4iXqam5uDyWTK2fCQQOoQlpQLqVx3+nK9LoJ0y3hT9aq4XK6NcbFut6i9KrEVWPkyR8wUigLZBGAYBjabDRaLBTRNo76+HoODg5K8l5QhrHA4zBk2imF4SCBlCCscDmNpaQnl5eWSTP6TK+RuVphLGS+/V4U/hClZr0psWXEqUuH3gOTbHDETxCoQhUAKBCkeNpZlsbS0BKPRCIqicNVVV3ExXqkgBYH4fD4uV1NbW4v9+/eLaj0iVdgtGAzi1VdfBU3T3MjiyspKGAwGUcIeck/Uy5VAyGcmJpkn61UhpLKysoLJyUmEQqGUvSqkPLYQ5oiZIFaBKCGsEsHa2hqMRiO8Xi/6+vq4qqRAIFCwueiZgm942NzcjObmZpSVlUniWyVmCMvhcHB+Ybt27UJdXR2ADSJ0Op1c2IMQOX8hMRgMGSVo5Uogcr0u4L0SWanVIL9XpbGxEcDG5xIMBgV7VcrKyjgyiUQiWI7o8KkCmCNmgnA4HEV8TqdTVFPSfEEhkP+Ex+OByWTC8vKy4Ez1bL2w0oVKpUIwGMzpHCzLwmazwWw2o6KiAocPH0Z1dTVGR0clIT+xQlj8irCmpiYwDIPW1lbu86ioqEBFRUVU2IOfoJ2bm+PUIknQErWSD4dasSHX681HbioRyPjXVL0qRrsP31weRBh+PNI2BuecHqzMelWADQLhz/5xu91KH0ghkOsNEQgEMD4+DpvNxtl2CFVWZeqFlSlyVSDLy8sYGxtDJBLBzp07OcNDcu5QKCTWpXLItQqLdL5bLBbU1dXh+PHj8Pv93CjORCBEwY+lxyZoY6t++OEvOUNRIJmB36ticlL4ukkF0GH882En6piKqBnkculVAZQQlqyQTUw7HA5jamoKk5OTqKurw9GjR6OM6GIhtQLJdjEmPSlra2uChoe5nDsVcsklkM53iqKwb98+blcZCASyOqdQgpaQCgl/EVJhWRYajYarFDIYDCgrK5PN7lQu1xGLQiqQVDi3upHzqFUF8f2OMQy27wDw3oIsp14VQDiJLpYTbz5REgSSCRiGwezsLCwWC/R6PQ4ePIja2tqUvyc3BRIMBmGxWGCz2dDe3o7du3cndPuVikCyOa/H48HY2BjW1tbQ39+Pjo6OOIdfsXbhQg61DMPAZDLB4/GAYRjMzMzA7XZHkQlZUApBKnKuwiIVWHK7vtOLND5+WoMd1Sz+snsK2lD8PZmoV4WQitvtzutcFb4CYVlWIRC5g/g9GY1GsCwbNdciHeQjB5IOgcQaHqZSToC0CiTd84bDYYyPj8Nqtebd4ZcPmqah1WrBsiy2b98O4L2mN6JUpqen4Xa7o3an+SIVuYew5EYev7HROPn6Rqnuz46HsDgdRijNhZ6maRgMhqjQUbJeFUIq/P9mSypKGa+MkCqUsr6+DqPRCI/Hg97e3rhdbzogCkSqHWIqAuGXFmdieAhIq0BSLXgsy3INjOXl5RgaGkr6oAjZuUuNRE1v/JCHEKkQtSJ2HF1uizSB3GaB/GySxn1vafDh9o0+D50KmE9zmFQiJOpV4Q/ryrVXBVAaCYsCHo8HZrMZdrsd3d3dOHDgQNalrOSmSHfaWTbnT2V46Ha7o0qLxTh3LkhFTA6HA1euXEEgEMCOHTvQ3NyccnHMx0CpdBboRLtTQipOpzMujs4Pf2VLKooCSQ+PGlX4xjkNTm4N468OhrkmQanGQpNKQIJkvSqxw7qqqqqi1h3SKCvVNMJ8oiQIJPam5g9Eam1txYkTJ6DX63N6D3IDxEpPsSDUlMefapit4SE5dz5zIIFAACaTCQsLC+ju7kZPT0/axC1nM0U+qbS1tQHYWLD44S9CKmq1Ok6p6HS6tBZguSzSsZCDAmFZ4H9cVOP7V9T4ykAYf7Yn2p4kEonk/Kyng1x6VSoqKsCyLPdMOJ1OABCFQAKBAL761a/iueeeg16vx969e3Hq1CmYzWbcddddWF5eRnV1NX7605/iqquuAoCkx1KhJAiEgBgFTk5Oora2NuVApEwg9dxytVotaHiYyVTDRMhXFRbDMLBarRgfH0ddXR2OHTuW8XXLvUs8FiqVKk6pxFb8TExMwOv1cqTCVyqxpCLnv73QCoRhga++o8ZPLGr8j70hfHEg/lmUKkKQDpL1qpB7we12Y25uDgAwMjKCX//61/D5fGhoaMDa2hoqKipy+ozvv/9+UBQFk8kEiqKwsLAAALj33ntxzz334OTJk3jqqadw8uRJjIyMpDyWCiVBIPwGOp1Oh8HBQa6LWUyo1WrJEuk0TccZHqZbIZbOuaVWIHa7HaOjo6BpOqfPP18DpaR8D6GKHz6pOJ1O2O12rjeBTyhyngdfSAUSjAD3ntHgFzM0Hj0Uwp29whu5dOah5xtarRZ1dXXcM+H1evHmm29i586dOHv2LF544QV4PB50d3ejoaEB+/fvx6lTpzI2O/V4PPjJT34Cm83GkVBzczOWlpbw9ttv4/nnnwcAfOQjH8F9990Hi8UCg8GQ8FhfX1/K9ywJApmYmIDVak07zp4tpDQ8JJUeJpMJ27ZtQ0tLi2h/h1TXTVEUwuEw3nnnHayvr6Ovry+rAoXYcwLy3olng2SkQsJfdrsdfr8/auIfP/xVaBRqnK03DNzxmgYvL9L4x6MhfLgjMcnKfeQu8F6epra2Fp///Oexd+9efO5zn8Ply5dx4cIFnDt3DjU1NRmfd3x8HFu2bMGDDz6IF154AWVlZXjggQdQU1ODlpYWLmRGURQ6OzsxPT2N6urqhMc2DYF0d3ejs7NT8htHCgXi9XphMplgt9sBAEeOHBF9sZBCgYTDYdhsNvj9fjQ0NODEiRMJ+1AyQakSiBCESOW1115DZ2cngI3Y+NLSErxeL7RabZRSKQSpFKJHZS0IfOwVLS6tU/jn4RDe15z8PiZminJGonG2lZWVOHr0KI4ePZrVeUOhEKxWK3bu3Invfe97OHfuHG688Ub85je/ifvZZM9XJs9eSRCIlKElPsQ2PCR9ES0tLTh27BheeeUVUc4dCzEJhF+Wq9VqodFo0k64pYNYApFi0ZJznoWiKFRVVUXtQMPhcJRSWVxchNfrhU6nizOUFIPEEyHfu/tFH3DLy1rMein8+n1BHKxL/Z0VMgeSLoRKeMVIoBMXik9+8pMAgMHBQfT09MBqtWJ+fp4bo8uyLGZmZtDZ2QmDwZDwWDooCQLJ51TCXImKP2OEb3hIFspClNumi/X1dYyOjnJluWVlZTh79qwIV/geNpMCEYLQ361Wq1FTUxNHKiQx63K5sLCwAJ/PF0UqRLGIRSr5TKJPuSnc9JIGgQiF564PYkd1eveDHHMgsRBqIhSj2Ke+vh7XX389nnvuOXzoQx/C5OQkJicncezYMS6vcvLkSTz99NNob2/nQlTJjqVCSRBIviCW4SHDMLjqqqvQ2NjIPZBkjrMUBEKuO9vdvN/vh8lkwuLiIrq7u7F161aoVCq4XC5JJhIC0hKIXMtkCdK5PrVajdra2qgiCz6pOJ3OKFLhh78MBkNW5eD5SqJfWadw80talKtZPHd9EF2V6d8LxaBAyG6fQMwmwsceewx33303/vRP/xQ0TePxxx9HW1sbHn/8cZw8eRIPPvggDAYDnnjiCe53kh1LhZIgELkrEL7hYV9fX8J8jVRjbcl7ZUogpCzXYrFw5cR8C2qpRtpmc62ZQq4KJ5frEiKVUCgUpVTm5ubg9/uh1+vjlEoqUsmHAnlrmcJHX9Gis5zFM9cG0ZhhS0cxKBApnXi3bt2KF198Me717du344033hD8nWTHUqEkCCRfkNLwMJvzpwvyQGUSw15aWsLY2BhUKhX2798vWJYr1UhbQFoCKQUFki40Gg1nd07AJxWn0xlFKrGJej6pSK1AfrdA449Oa7C3lsXPh4OoyTDyxrJs0SiQ2CR6MXahAwqBZIR0DRX5DXW1tbVpGR6S80tNIKngdrsxNjYGh8OB/v7+pLYphEDEXOyVHIj0lU7JSMXpdMLpdGJ2dhZ+v5/roK6qqoLX65Xse/nlDI2739DgumYG/3A0hPIsViZyL8qdQISS6B0dHQW8ouxREgSSzxCWz+dLeDzW8JA/5yIdFJJAwuEwLBYLpqen0d7ejj179qRMvmYbGksGYheuhLDyCyFS4XdQO51OrK2tIRwO44033ojrqM9lXPJPx1X44ogaH+1i8NjhEDRZihzy7Mg9hFUq0wiBEiEQID+lmckUiMPhwNjYGDweD/r7+9HW1pbxjSxlw1+iBD3LspidnYXJZEJlZWVG9i9kgRe7vFPq73IzhbByQWwHNbFkaWlpgdPpjPJ6Ki8vj7O+T4dU/mpUhT97V4N7+sP4X/vDoHP40+U4MVEIpTKNECghAskHhIZKxRoe5ur4K1Wnu1ApL78sN3YMbrrnBNILjWWCfGwGFAWSOcgkRz6pABtKhfSoCJEKUSqVlZW8IUrA//+uGn8zpsb9V4Xx9V3RpojZIBKJcJslOaNUphECCoFkBL4CiUQiXJ21GIaHgLAjr1jgEwi/LLenpwc9PT1ZxY35CkRMyLnRLx+QiwKJRSKlqdVqUV9fHxWuDQQCXPhrbW0NVqsVwWAQ5eXlqKgy4OHFXjy9pMf39gXwuR3ifNfFkEAHost4i3kaIVBCBJKPRYeU8ZJObJ1OJ5rhISBdGS/wnlnjxMQExsfHBctyM4VUCW9SHry+vg6GYWAwGERdGOS6QAPyVyDp7u6FXGkDgQCWHS7cd86Al9aq8NXaS9gxN40zjoqokuJ0hzLFohhKeIHSGSYFlBCB5ANerxcej0cSw0NAuhAWqU65cOECtFotDhw4kLHTpxBIuEAK0hsdHeXmU4fDYW7yG7FOr6ioyGmxkPNCLVeCYxgmp2R5kNbhs5cr8aaTxv89EcIHWnsRDHZw4a/V1VVMTU1xQ5liw1+pSKWYFEhsGa9CIAWGlA+d1+uF0WiE3W4HTdM4ceJE3qcSZgtSlhsMBtHe3o6dO3eKPn5VrMU4EolgYmICoVAIWq0WR48eBUVRCIVCXHnp0tISLBYLN6OaLDAGgwHl5eWyXXzTRSEMC9NFLo2EKwHgoy9rYXZR+MU1QRxrZAFszM9oaGjgxjOzLMuFv5xOJ5aXlzE5ORm1iUg0PrYYFUggEEAgEMjKfVcOKBkCkQKhUIizim9pacHBgwfx9ttvS7bLUalUCAQCopwrFArBYrFgZmYG7e3tCAaDqKurE31xEkOBsCzLzRPRarXQarXo6emBRqPhJszp9fqoyW9kRjXpWTAajZwRIVEpiUbLbvYcS7bItpFwzgvc/JIWywEK//q+IPZtSfzZUxTFfd+xpEKUSiJSCYfDsicQlmWjCMTlcgGAokBKCXzDw8rKSgwNDcFgMMDv94NhGMl2iWIoEH5ZblVVFVeWe+bMmbyOtU0XXq8Xo6OjWF9fx7Zt29De3o5XXnkl6QLPn1Hd3NwMYOM7SzRalq9S5P6glpoCsbgo3PyiFiyA564Pot+QOXHzSYW/ieDPJLfb7XA4HGAYBm+99VZc+EsuxEKeb7IJdblcUKvVOeUiC4mSIRCxHjq73Q6j0ShoeEi+9HA4nJUZXSrkWoW1traG0dFRhEIhwWuXqsckm908CVdNTk5yc+tJ42I256RpmtuJ8t+D2KDzZ2uo1WpQFAWr1cotNLnE9sWC3FVRpgrkwhqFW17SolbH4pfXBNFeId61CM0kn5mZgd1uR3t7O/d9j4+PIxKJoLKyMipRn2sOLVuQKk6yljgcDlRVVcmG4DJF4Z8amYDkCshkPSHDQ7LIkIliYiPbRd7v98NoNGJpaQlbt25Fd3d3XJgtH2Nt00FsuIrY2fMhVie60MCmcDiMqakpLC0twel0wmazxfUs5FIJJAZKQYG8vkThY6e16K1i8cw1QdTlYfYVy7LQarVobGyMUio+n49TKrGkwu+mzwepkAQ6+RyLuQILUAgkyvCwo6MjqYUHqTqSanhVpmW8kUgEU1NTmJiYQGNjI06cOAG9Xti+VA4EIhSuElqQpMxRqNVqVFRUQK/XY/fu3QDea4RzOp1cJRCJr/PDX1IvMORvliuBpKtAnp2jcedrGhyuY/B/T4RQJf5eSxBCSXSKolBeXo7y8nI0NTUBiCeVhYUFmM1mrjCDn6gX+zsX6kKvqqqS7XeeCiVDIJl+AdkaHgp1o4uFdBUI8dwaGxuDRqNJqxdFKgJJZ7FPFq4SghQuv3zE3iuxjXD8+LrT6cTi4mJc5RchFjErv+QewkpHgfx8isZnz2jwgVYGf380BH0eRVy6ZbzJSIXk0BKRCqn2y5ZUhLrQFQVSRGBZFouLizAajVCr1VkZHkqpQFIRiNvtxujoKJxOZ9JdvNC5C6FAlpaWkoarEqGQZopC8XVS+UUWGJvNBrfbHZV7IcSi0+lyuna57kZTKZDHTSr8yVkNbu8J45FDYajzHNbPpYyXTyqkMINf7edyuTA/Px9FKvzwV7qkkkiBFCtKhkDSeehiDQ/TXXz5KJQC4ZfldnR0YN++fRnlYaSySUlEIOmGq4QgxzJbfuVXS0sLgOjKL6fTGVf5xQ9/pTNWVm5/cywSWZmwLPDQZRUevKTB57eH8d19uftaZXt9Ys6EF6r2i91IzM3NcaW4sfPphdRpKflgASVEIMlAvJ8WFhbQ3d2ds+GhVApEaJFnWRY2mw0mkwkGgyHtUFs65xYDsYt9puEqIUgVbiMQi6D46qOtrQ3Axt8vNFaWTADkE0uie1DOCiT22hgWuP+cGo+Z1PizPSF8ZSBSEPIA8tNIKLSRYFkWHo8nauoj6Usi4S/ynYdCIUltTJ544gl86lOfwi9+8QvcfPPNWFpawp133onx8XHodDr88Ic/xPDwMAAkPZYuSppASMUNMTw8ceJEzvXWUisQ/sLJL8vdtWtXVFlupqBpGqFQSKxLjTovueZsw1WxIAs8+VdMUKlUqKmpieosjh3WxK/8im16lDNiFUiIAT53RoMnrTT++mAIn+qT5rlIF4WyMiFEUVlZGaVO+eEvEvIkjsbnz5/HW2+9heXl5YxC6MlgtVrx4x//GENDQ9xr999/P4aGhvDss89iZGQEt9xyCyYnJ6HRaJIeSxclQyD8hZVlWc7wUK/Xi254KHUOxOfzwWQyJS3LzRRSJtEDgQDeeeedrMJVic5ZSvNAhIY1JbLrAACz2Yzq6uqcE7Zig59E94WBk69r8MICjb8/GsJHOqVTjOlCTlYmNE0Lksro6CiCwSDsdjt+8pOfwGKxgKIonD17FgcPHsTv//7v49prr834/RiGwd13340f/OAH+OpXv8q9/uSTT8JisQAADh06hNbWVrz88su44YYbkh5LFyVDIMDGwrCyssJ5P23fvl10w0MpFQjBq6++mrIsN1NI0UgYiUTg9XqxvLyMtra2rMJVQtgM80Bi3WqJrTexyuFXAfFDIAaDAWVlZQUJc5Ek+rwPuOs1LS6sUfj5iRBuaCk8eQAb96OczRRpmuZ6kwYHB3HjjTfitttuw65duzAwMIB33nkHRqMxKwJ5+OGHcezYMRw4cIB7bWVlBaFQiMvfAEB3dzemp6eTHssEJUMgLMvi3LlzsNvtou3ahSDFQkwqw8bGxgAA+/bt43yAxILYCoSEq8LhMDo6OrBz507Rzi3HJLrUIHYdANDX18eVMpOErdPpxMzMDNxuN1QqVVw+JdfKr3TAMAzeWNXiv53XQUUBv3pfEFfXy+d7KgY33thxth6PBwMDA7j77rtx9913Z3XOy5cv46mnnsLp06fjjsXeE/znKtmxdFEyBEJRFBoaGjAwMACdTrq2V7VaLWouweVycdbl/f39uHz5clZJ8lQQi0Biq6tWV1dF/7xLLYSVLmIbCRNVfhF7FpfLhYmJCXg8Hmi12jjPLzHdElgW+GdXN/7Pm9U40bjR49Egs5SNnEJYiSDFLJBXXnkFVqsV/f39AICFhQXcc889+Pa3v82pWaI0rFYrOjs7UVdXl/BYJigZAgGAjo4OSat3gA0F4vf7cz5PKBSC2WzmOuAHBweh0WgwNjaW13LbdJGouooY2ImJzRDCEkI610TTdJwpJKn8IkqFX/nFVynpzimPxXoQ+OwZDX7j2oYv9vvwwCAFlQzX6URlxnICv4xXrGmEn/3sZ/HZz36W+//XXnstvvSlL+Hmm2/GmTNn8Nhjj+GBBx7AyMgIZmdncc011wAAbrvttoTH0kVJEUg+kGsSnWVZzMzMcInS2LJcqcptcwm9kXCVRqOJq66SIjkvlhdWsvPLGZleX6LKL/6c8unpaQSDwbjBXKmcai+sUbjjNQ1WAxS+Uf02vnRVH1S0zKTHf0LuORAgepwtsNFIKGUfyEMPPYQ77rgD/f390Gq1OHXqFKdMkx1LFwqBZIhckuirq6sYHR1FJBLB7t270dDQELdYFKpjXAjpNANKoRY2Yw4EEFcVaTQa1NXVoa6ujnuNzNQglV8TExNxpoLE84uiKPxsQoUvv6PGdgOLXwz7MfX2Emh6m2jXKDaKIQeSj3G2L730Eve/m5qa8Pzzzwv+XLJj6aKkCCQfO0syFz0T+Hw+bqJhb28vuru7E+76pLJdz4RAMmkGlEIxSa1AAPmGsKT8m4Wm/xFTQafTyVl1BFkaf+/djd84m3Fbiwv/a38I1WVaTEG+6o0MaiqmEBaZRqh0om8iZLLARyIRTE5OYnJyEk1NTWmV5RaaQJKFqxKdV+wGRb4CkWLBkusiCOT32oRMBSdcwO2n1TC7afz3zmlcq7HiwttubtGzWq1cj4qUxSqZgtwvclYgpTaNECgxApGLAuGX5Wq1WhvMA9QAACAASURBVBw6dCjtmcdSEUiq82brXVWsISy5KpBC4t9nadz7pgY1Whb/cWMIe2obATSCYRisra3h3XffRTAYjKv84oe/pJiTkw7IvS1nBUKmmRKSczqd0Gg0RTuNECgxAskHUi3E/LLcbdu2oa2tLSNiy7cCydW7SookutReWHJGIdRRhAH+/JIa37+ixofaInjscAg1vFuApmlUVGyMExwYGABFUQiHw1GeX3Nzc/D7/SgrK4vrUcmHKiD3i5wVCHmuiQIhTrxyJr1UUAgkQyRSIPzBVJ2dndi/f39WJZP5JJBMw1VCKEYFItcQViEUiN0P3P2GBq8s0fj23hC+uCMCWuDjISWy5LNTq9Wora2NsggilV9OpzOu8otPKFLMKCf5D7l+t8BG/oOmae5vd7lcRW3lDpQYgeTj5lGpVGBZlnugGIaBzWZLWJabKaS0XSfmhD6fL2urdaHzSqEWNmMIC8gvuZ1ZpnDXa1qEGOBX14Yw3JT4e0wnwR9b+cWybJTnF3+cbOwMlVwHcxVbAh0o/mmEQIkRSD5AVAWR8KTxb/fu3dzwoVwgZRkvsGHUNzU1lbXVutB5pQhhSe03Jkfki9RYFvhbkwrfOq/GwToW/3AsiJYUYfhsmvSIPYter4+r/OLP0yDW57GeX3q9Pu3FtRiaCIWGSRVzBRagEEjGIDfphQsXsLa2hr6+PnR1dYl280oVwlpdXQUA2O32nKzWYyF1CCsSiXC7X7E+Yzn3mUi9G3WFgM+/pcEzMyrctz2Mb+8NQ5PGxypWibHQ5D9ifU7CX9PT03C73VCr1YKeX0IolibC2GFSSghLRpD64SMJZ2CDSMR0yyVQqVSilsXyq6sAYP/+/aJWfUgVwmIYhiMPPqFSFBX1T+67zkwgdR/ImIPC7a9pMO+l8I/Hgri5I/3vTcodPt/6vLW1FcDGs+Z2u6PCX16vFzqdLkqlVFVVQaPRKE2EBUJJEYhUYFkWCwsLMBqN0Ol00Gg02Lp1qyQDgMTy2hKqrnrxxRdF33mLSSAkR6PRaDAxMYH19XWu56CyshLl5eXcz/HfM5ZMUi10co05S6mK/tlK4wsjGnRWsHjpvwTRb8jsvfizQPIBYnvOV8okbMwPf5HKL61Wi1AohPX19bxVfmUKIQWiEIiMIMUN7nQ6MTo6Cq/Xi23btqG1tRWnT5+WfKhULkhUXSWlb1WuIEqDYRi0t7ejsbERTqcTDocDi4uL3GwMEs4gpEL6DhiGiSMVUpUjPMd7c4SwghHgG+fV+JFZjT/siuCvD4VQkcVTT2aBFBJClV/BYBAulwuzs7Pwer24dOkSQqFQnOdXRUVFwa8/1gfL4XCINuiuUCgpAhETwWAQZrMZs7Oz6OrqipqjLuVQqVwSyKmaAaXIr+RKSkR1kCYrsuiT5CspTCBzpx0OBxwOB6ampuDxeKDRaDiVUlVVhYqKCq5SLvZvJeeWK3mIfV02D3Dn6xuDnx4+EMLdfdnPK8+3AkkXWq0WdXV18Pl8YFkWe/bs4Ty/XC4XV/nFMEyc51eulV+ZQiiE1dXVlbf3lwIlRyC5LhAMw2BmZgYWiwU1NTU4duwY10RFkI+xtpkg3WZAOTX98ZPkZHEi/4TAnzvd1tbG/S5RKQ6HA7Ozs/D7/VF9B5WVldz3R4jK4/GAZVmEQqGMQl/5gFgL2u8WaHzqdQ0q1MCz1wdxsC43cpKDAkkGkgNJtPkg88mdTidmZ2fjKr/4c+mlIpXYEJbb7VaS6KWElZUVjI6OgmEY7NmzJ+FUQCkVSKZlvJk0A8olhEXUAVEf2TaAqVSquJBGIBDgCMVut8NisXChr8rKSm4YU29vL4DMQ19SQgwFwrDAX1xW4cFLalzXzODvjoRQJ4JllVwVCEGyPhD+YC5+5ZfH4+GUClG0arU6bjCXGGOayTXyq8iUHIgMkc2C5vV6YTQasbKygt7e3pRluXJQINl4VxVagfDDVWRBErt7WKfTobGxMWr36Xa7MTMzg7m5OVAUBYZhYLVasb6+nlHoS2pSybUKayUA3POmBi/M07h/Vxhf2xkRbfCT3BVIpmW8NE1zzYz8c5ANhlDlF59YsnGZEGokVAikiBEOhzm33JaWFpw4cSIth1GpFUiyc+fiXSVVDiQdwuYTB/m9fOxo/X4/zGYzXC4Xdu3ahcbGDXNAEvoiIY10Ql8EmVZ9ZYJsP5OzqxTufFULVxh4+poQbmgRd6Mg90Y9Ma4vUeUXUSlOpxM2mw2BQADl5eVxg7lSERg/B0KmEaZrsipXbEoCiS3LzbSxrlAKJFfvKqlCWMnOySeOXMJVmYJhGExPT2NiYgLNzc3YvXs3V7GVLPTldDpht9u5xGvsSFitVsspKf49IEboK5sQFssCT4yr8LWzauyuYfHvx4LoqEj9e9lcm9xDWFLYy6vVamzZsgVbtmzhXgsGg5xKWV1dxdTUFMLhMLcB4Q/m4t8LsVVYSghLhkh1kwuV5Wb6YKjVagQCgVwuMyGECCRbq/VY5DOElY9wVSI4HA4ulzU4OJhWqaRQ6IvEyB0OB9cdrdFo4kqJiQoTI/SVyefjDQNffluDf5pS4dN9YfzPwTB0ErU/bAYFki60Wi3q6+tRX18PYONe8fv9nEpZXFzkcm+k8stgMCAUCkVdoxgE4vf78fGPfxxXrlxBWVkZGhsb8bd/+7fo6+vD0tIS7rzzToyPj0On0+GHP/whhoeHASDpsUxQcgSSCMnKcjOFlAqElPGSxTcXq3Whc+cjic5PkpP3zQdxhMNhjI+Pw2azoaenJ+nkx1TgV33xu6NdLheXpCeNbLFus2VlZdznIhT6SkQqmSgQi4vCHa9qMOmm8OOhIP6wW1r7+2JIoheqeZCiKJSVlXELOPBe5RcJf9lsNvj9fly6dAmvvvoqFhYWUFtbC7fbnbO6u+eee/DBD34QFEXh0Ucfxac//Wm89NJLuP/++zE0NIRnn30WIyMjuOWWWzA5OQmNRpP0WCYoeQIhoQyLxYLa2lrBstxMIXUOBAAWFxdhNBpzsloXOrcUCoSoDSA6ZJVPe2273Y6xsTHo9XoMDQ3l/B0LQaVSoaamJipuTXoOSNUXCX3Fxsd1Ol2UKiOIVWbpfF6/mqHxubc0aNSz+N2NQeyskb6vRe5JdLlZmfArv1paWgAAL774IgYGBmCz2XDp0iW4XC4cOXIE9fX1OHToEH784x9zVWLpQq/X40Mf+hD3/4eGhvD9738fAPDkk0/CYrEAAA4dOoTW1la8/PLLuOGGG5IeywQlRyD8B3B5eRljY2NgWRZ79+5NWJabKaRUICQ0dunSJWzfvj0nq/VYSOFySxYVct58q45AIMBV0GUbkswFQnPGvV4vp1IShb6Eqr68Xi+XWxFSKSEGeOBdNX5gVOPmjggevToEQ54GABaDApE7wbEsi+rqanzyk5/E0NAQrr76aqytreHChQsYGRkRpSv9kUcewU033YSVlRWEQqEoQuru7sb09HTSY5mi5AgE2HgQx8bGsLq6ir6+PnR2dop6c0mhQPjVVQBw+PBh0ZuMpAphARtuv6S8MR8LDcuymJ2dhdlsRn19PY4ePSqLGd38nWei0Nf8/Dx8Ph/Ky8tRXV2NyspKrmy0r69PUKUs+mncfUaPkRUa/3MwhM9ty76rPBsoCiQ3kPWCP86WDNc6duwYjh07lvN7PPjggzCbzfiP//gP+Hy+uOeQHyJNdiwTlByB2O12jIyMcDkDKRYVsRVIbHXVmTNnJHlYpTA+ZFkWDQ0NuHDhAle1REohq6urodPpRCcUt9uN0dFR+P1+7N69m0tmyhVCoa9gMMj5fJGwF0VRWFpagt/vjwp9PT9H4wvv6EFRwC9PeDFUH0E4HB36knpxVxRIbkhEIGLh+9//Pp555hm88MILnF2+SqXCwsICpzSsVis6OztRV1eX8FimKDkCqa2tFXXehRDEUiCJqqvyPRc9U/CNDymKwt69ewEgKnQzOTkJl8sFnU4XRSgGgyHrnWIkEsHU1BSmpqbQ0dGB/fv3y3rXmQw0TWN5eZlTHR0dHfD5fNznNzMzg8n1EP7evROv+ZtwtNqNv97rQk9dOWg6/w2PLMvK+rOW+zwQUsJLSJg0EYpByg8//DD+6Z/+CS+88ELUJuW2227DY489hgceeAAjIyOYnZ3FNddck/JYJig5AiHmelIiVwWSqhlQqol8KpUqp/LjRMaHBEKhG75XldVqRSgUQmVlZRSppGNqt7q6itHRUahUKhw6dKio6+dXVla4ssuhoSHOpp58fo3NrXjcROM7UzTKVQz+cvsCjmrnsGZ1YG7svdAX6U0hn1+mVV+ZQO4KRO5lxrEEJ1YPiM1mw1e/+lVs3boV73vf+wBs5OXOnDmDhx56CHfccQf6+/uh1Wpx6tQprsoq2bFMUHIEko+bnCiQbMrv0mkGlHKsbT6MDwliG/ZIvTwhFJvNhtHRUdA0HUUo1dXV3M0cCoVgMpmwuLiI3t5edHR0yHqhSAb+37Jt2za0tbXFfYbvrFD4wlsqvLsKfKafwZ/tY1CjrQOwMWechL4cDgdWVlYwMTERVfVFSCVZ1Vc2XfRyz4EUiwIhEGsaYXt7e8L8RVNTE55//vmMj2WCkiOQfIDcqLH2zMmQSTOgnEJYYhkfAtH18nxTu0QJZq1Wyz1o/J16MYJsHKqqqnD06NG4YWSOIPDtd2n8yERjdy3w0vsjOFgfvzBotdqEVV/EasPlckGtVnMqheRT1Go1V2LNvw/SCX3JeYdPSFKu1weUpg8WoBBIViCkkQ6BZONdJQcCEeokl2KHx1cfBE6nE1euXIHT6URZWRlcLhfeeOONOJUih6qrVAgGgxgbG8PKygq2b9+OlpaWKAJmWeBpK4WvvaOCJwx87wCD/7qNgTrNtTBZ1RcJHy4sLERVfWUT+pKzlQm5djkrEKFZIFKH2vOBkiOQfNzkZMeWapHP1rtKKgJJ97yFMj6M9a86cOAANBpN3DCp8fFxuN1u6PX6KEKR0yhTlmWxuLiIsbEx1NbWCpYZT7iAL4+o8MI8jZs6GPzFwQjaRBBZyaq+nE4nF/qKRCJc2Ku6uhoVFRXQ6/WCoa9wOBz1mpx2+8VAIEIKpNinEQIlSCCAeGNWk0GtVidMpOfqXVUoBVIo40MguX+V0DAp4pLqcDiwurqKyclJhMNhbjEk/4itSD7h9/sxNjaG9fV1DAwMoLGxMeoaAhHgb0ZpPHSJRqMeeOqaMD7YLu39mij0RT7DmZkZLvTFb3gsKyuDzWaDw+FAR0dH1D2fL5v7VCDPipxILRZCOZBin0YIlCiB5ANCi3wuVut8SFWFJUfjQ75/VXd3N3p6etJaCGJdUlmWjSqDnZ6ejsoF8P9l64GWCizLYm5uDiaTiWtujP3+Ty9S+OJbKoy7gM8PMPj6biarGeW5QshqIzYfNTc3h0AgAJqmsWXLFvj9fqjValRUVEhe9ZUJ8m2bkw2EQljFPo0QKFECKYQCydVqnY98KpBCGR8C4vpXURTFNVCRBTG2A5zM/SAOqdXV1aipqeEWxFzg8/kwOjoKt9uNXbt2xdnm2P3AN8+p8LMJGkP1DF77YAS7ZBbBIPmoqqoqhEIhLC0tobu7G9XV1XC5XFhZWYlSenyvL1IUkM/ZKQRybyIENjZKsdMIlRzIJgZZ5MWyWo89txRlvPzzxqqOfBJHvvyrEpkfEkIhM2EoiopTKekqR5ZlYbPZYDab4+aOABsjZv/POIVvnVOBBfC/D4dxZy8LWqabZbfbjUuXLoFlWVx99dXcLpnvMstXerOzs3A6ndwwJpJTIVVfsfk0QPyxwXK3MQGEFYhShbWJoVKpMDs7i4sXL3LTDMWanSylAiFqoxCqg+9fVVdXVxD/qti5H2Q2NlkQzWYzPB4PysrK4hL0sYudx+PBlStX4Pf7sXfvXtTV1UUdv7IOfPEtFV630/hED4MH90fQGF29KxuwLIupqSlMTEygq6sLW7duFVzchZQeP/RF5mF4vV7uMyRqhV/1JWYXvdx7QIDoJDqZRqgoEJlC6sVwaWkJ6+vr0Gq1uPrqq0W/EVQqFYLBoKjnBMBVjnk8Hmi12ryqDrn6V/FnY7e3twPYaPhzOp1YX1/H8vJylEU7IRSXywWr1Yr29nYMDg5G7S69YeB7F2n8zSiNrVXAv10fxjXN0luuZwuPx4PLly8jFArh4MGDWU26jC3FDoVCHCmvra1xU/ukCH0VQwgrVoEofSCbEPxwVVVVFRoaGiTZRYitQEi4SqvVQqfT4dVXX4Ver0dNTU3SHbYYKEb/Ko1Gg7q6Ok5R8Jv1lpeXcfnyZTAMA41GA7/fj5mZGe5z/O2CGl8ZUWHBB3x9N4Mv72QkmxKYK1iWxczM/2vvzMOrqs88/jmX7PtGSAIJCUnIcpOwSCCAOrU6dHDaitOKjq0QYxVtxWqp49LRhzo+VFoHi/K4zVj0aQSsG+PUVqdoFQKCIFtys++E7MvNfnOXc+aPeI7nhgRCcpN7bzif57kPITdwf+fk3t/7e7fve47Kykrmzp1LUlKSw343np6eF0ztk0Nf8hz63t5eu7yLbFQ8PT1HbXgcK/Tl6k2EcGEZr+aBXEHI1VW1tbVKuKqiomJK8hTgWAOiDld5enqSk5OjlMCOPGEHBQXZGZXJhpdmin6V3EHf0tJCW1sbcXFxzJ8/3y70daqmlZc6EzkyFM2KwF5ey+4hK9ofL50f4HoJj8HBQQwGA4ODgyxevNhu5vdUcLHQl1xKXFlZqYS+1KXElwp9Wa1WtzAgsgdiMpkwm82aAXFVHBmWUVdXqcNVF+sDmSyOKOMdKXyo1q4a7YSt3gwrKyvHnQcYDYvFQkVFBc3NzW6vXwXD4QaDwQBgF+Lx8vIiKDiUD8t1PNWmw2+WxM6MDq7xaaanq5ujdT0X1flyBupS4zlz5rB48eIpK2u+FOp7ExsbC3wT+urp6bELfakr59ShL4vFQltbGx4eHpjN5mmp+poI6hBWb28vgNseqNTMSAPiCC5VXTVVeQr5/56oARmtp+NSwoejNeqNlQe4mJcid1+XlZURFBTEypUr8fX1ndB1uAKy51lfXz9qj8rJDoHNFwgfBgHDG4MoivT19Y05SEp+BAQETMtGZzKZKCkpobe316XyUGrGCn3JXoo69OXn58fAwADe3t6kpqYqVYbyVEcZR1d9XS6y5ySHsHp7e/H09LxAD80dmZEGZDIeyGjhqtGqq6ZyrO1Ey3gdKXx4uV6Kn58fHR0dDAwMkJqaypw5c1y6setSGI1GiouL0el0duWsMCx8+NQZHa98LXz49+/YyB5F+FCn0ylhGPmErVbTbW1tpbKyctRBXI7cXCRJorm5mdLSUmbPns3KlSud6gVdDurQlyzAabVaKS8vp7GxkYCAAGw2G1999ZUibTPe0Nd0NTzKRk32QLq7uwkKCnIZ72gyzEgDMlHGCleNxlSMtZW5XA9ktJ4OR785x/JSjEYj9fX1NDc3Kx9IWRbDnUQPZWw2G5WVlTQ0NJCYmGg3DlmS4L36YeHDXgv8ZqnIfSnjFz6E0SVF1Ia5urpa0flSNztOVOfLbDZTUlJCV1cXer1eKV92VwYGBigqKsJqtdqNfZY95pFVX2OFvqazi14+aKo9kJnQhQ6aAQEmpl011R7IeA2Is4QPYTgRK4e2li1bRkhIiLIZGo3GUXMpISEh0xayuVw6OzspLi7G29v7gs74mq+FD//WpOP7sSK/u8rGvIk3zitcSufLaDQqg7guV+dLPhCFhISMKqviTsi5m7KyMmJiYkhOTrYzqKN5zOrZM+rQl+yhyOXbctXXaEbFEaEvucxY/j/kcbbu7KHLzEgDMt5fzHjDVaPhbA/EmcKHF9OvckQuZbqRQyLNzc3KeFn5Xpq/Fj58pkjHbG94+x+s3DjFwoej6XypN8Nz585hMBgu0PkKCgrC09MTi8VCWVkZbW1tpKamEhUV5dablexFGY1GsrKyxpW7GWv2jDon1dbWRn9/v13oKzAw0E7ryxGhr9FKeGdCAh1mqAEZD5cTrhoNZ3kgzhQ+hMvXr7pYLsUVvJT29naKi4vx9/e3S/pLEnzaLPBvJ2ZR0QubU0Uez3Ke8OHFBnEZjUZF58vHxwez2Yyvry9ZWVmEhYW5tfHo6OigqKiI4OBgVq5cOSkvarSc1MjQ18ixy7KXMpnQ10gl3pnSRAhXoAFxlHbVVHog8gCfkQ1SzhQ+VOtXJScnjzqOdTyMlUuRT4XT5aWoT+nq6xEl+N9zAv9ZrOOrjmHhwyMuLHwYHBxMXFwcVquV0tJSWlpaCA0NRRRFzpw5A3BBgt4dclJyLur8+fNjjv91BJcKfTU1NVFWVnZB6CsgIAAvL68xQ19qYzJTdbBghhqQ0d5okwlXjcZUeyDwTYetM4UPp0O/arTSzan0UuRBT3KpsY+PD2Yb7KsVeK54FuU9AtfOEdl/nZUboiVc/QDf1dWFwWDAx8eHVatWqbwoyS5kI99HOWQjG+epUiGYKL29vRQVFaHT6VixYsWkVJovl0uFvnp6eqiurra7j3IXvb+/v6J4rc5LmkwmpbdLEATNA3EH1JLukw1XjYY8X3oqRn2qZ67L4SxneB1q/arRJMqniol6KSEhIRc9FMheVGdnJykpKURFRTFgE9hVquP5Eh3nBwS+O0/klZU2lo9SlutqqE/pI3M3MHwfx9L56u7uViYTWq3WUcuIpzv0JUkS9fX1VFZWXlTQcbpRex8y8n2U72V9fb0S+lJ7Kn19fdTU1DB37lzlc3zixIlp+yxNNTPWgIDjwlWjIbukVqvV4TX1spGQh/lMd5JcFEVqamqora0dVSzQGUzGSxEEQZFuDwsLY+XKlfThzW8KdbxUpqPbArfGSzyUbiU95BILcRG6u7spKipS5s+M95Q+WshGLc9eV1enNLqNTNBP5XvAZDJhMBgYGBhg6dKlLj/udazQl2xQGhsb6enpQZIk/Pz8ePnll0lPT+dvf/sbhYWFPP74406+AscwIw2IJElUVlZSXV3tcKl1GbWX4EgDIoerPDw8KC0tJSwsjJCQEIKCgqZFhLCrq4vi4mKX16+6HC9FDivExsbiGZnAk0Xe7K7UIUqQmyTyQKpIXICTL2iciKJIdXU1dXV1LFiwgPnz50/qlH6xQVxGo1Gp+hoaGlISy/LDEYO4YDikWFJSQkREBFlZWW7T5KhGHfoKCAigo6ODgIAAEhMT6erqorq6mg8++ICmpibmzp3LiRMneOutt7j11ludvfRJMSMNiCAIygaoHibk6NeQhdwchTpJvmTJEjo7O5VToTrMIA9JcnRS2d31q9ReinrQk7+/P61CCI+VhHHguA8+OhvrI1r5SYKJBZFBBPgFAK5/rXJuQBCEC7rjHclog7jUieXGxkZKS0uV0M5EBnHBsPdeVlZGa2sraWlpSs7BnZHvzbx580hKSgJg7969HD58mMcff5yf/vSnnDp1imPHjjE4OOjk1U4eQZrq2a9OwmKxTJlarsynn37KVVddNemcyqWS5HKYwWg0KqdCuVtZ/qDLo1kvd9NX61cFBgaSlpbm1vpVMNzgWFxcTH9/P9a5i3jtfBj/c05gji/8LNnCzbM7EfuNyoZ4ubmU6UYURerq6i457Gm616RO0Hd3dytKuurKubEKHYxGI0VFRfj4+JCRkeH2ulByFVx7ezsZGRlERETQ3t7Opk2bMBgMvPnmm1x99dVuXVI9GjPWgFit1ikrs5X5/PPPycjIuGAS3XiZiPChjLpBTzYqgF38/1LKr/Ic797eXlJSUtxev0qeb1FRUcm5gCTe7o3ns5ZZJAZKPJRu4/YE6YLZHHIuRb6H3d3ddrkU+T46q3u+v7+foqIibDYber3epSXAzWazkgMYaZzVis5NTU3U1taSmJjI/Pnz3fo9B8N9HYWFhfj4+KDX65WZO3l5eSxbtow//OEPE94jXB3NgEyCw4cPk5ycPCF9IUcKH8r/X19fn7IRGo1GBgcH8ff3VzwUWfRQ3mirqqqIiooiOTnZLePOavr7+ykyFPOZMZD/MadyptuTRaESW/Q21sVKzLqMvV+dS1FvhOpQzVR7KeqKpNjYWBITE11+ENdI1IO45INOf38/giAQEhJCRESEkqB3t2sD9YGlgoSEBBISErDZbPz2t7/lueeeY9u2bWzevNnp3uJUohmQSXD06FHi4uKIiYkZ97+Zzp6OoaEh5cMr17Crq7oWLFjA3Llz3fLDKyOKIpU1dbxePMT/mJOpNflw7RyRX6SLDuvhmG4vRR72ZDKZ0Ov1Ll+RdCkkSaKpqYnS0lKioqKIjIxUuui7u7vtOr/lh6yk66qYzWYMBgN9fX1kZGQQGhpKU1MTeXl5NDY2smfPHrKzs529zClnxhoQm802ZY1+MidOnGDOnDmKLMKlGCl8ON5wlSOwWq2KymxoaCizZs1SPryBgYF28X93iUc3d/Xyn8e6eNs4lzabD9+dJ7JFL05LD4faSzEajfT09EzaS5GbNsvLy4mOjiY5Odnp5dOTRa1jlZ6efkH/w8jOb/mg4+HhYVc0Iut8uQJdXV0UFhYSFBSEXq/Hw8OD//u//+Oee+5hzZo1vPjiiy4danQkmgGZBKdOnSIkJISEhISL/pwzhQ/BXr8qLS2NgIAAZV0mk8kuj9Lb22vXqeyK6rntgyLbv+zhj+eDGZA8WR8v8gu96NQejsl6KSaTieLiYvr6+tDr9TMiZt7R0YHBYCAwMBC9Xj9uY6rW+ZIfcjh2ZBnxdL4vJUmipqaGmpoakpOTiY2NxWKxsHXrVl577TV+//vfk5eX59Kek6PRDMgkKCwsxNfXVynXG8lkkuSOYCL6VVar1e5krY7/q6trnFGldH4A/vOMlTdqvJCAH8eb+WWWh8v2cIzHSwkODqazs1MZ9pSSkuIyJ+2JMhU6VupBXPIDS0iKFwAAIABJREFUpk/ny2QyUVRUxNDQEFlZWQQGBlJTU8Odd97J4OAg+/btQ6/XT8lruzIz1oCIoojFYpnS15An1qWmpl7w3Ejhw+k0HCP1q1JSUib8wRp5sjYajQwMDCinQdmoOKqpbDTKe+A5g8Cemll4Y+VHMd08ujyQOX6u4xWNh7HuJUBISAhRUVFOrfhyBH19fRQWFiIIApmZmVOmYzWWxyd7z+qqr8nm+Nra2jAYDERERCijc/fv38/999/P+vXr2bFjx7TqdbkSmgGZBOXl5VgsFruThzOFD2G4Gqm4uBiTyURqauqUaO7Ip0E59CUn59V5lODg4El9cCUJjrUP61TtrxcInWXmlpBGHl4RQnSoi7ocl4HcfS0bDnkzdEQuxRmoK5Li4uJITEycdiOo9p7lh9VqvexBXDKiKCp5w9TUVGJiYhgcHOTRRx/l7bff5pVXXmH9+vVXVMhqJDPWgEiShNlsntLXqKqqor+/n6ysLOU1neV1jNSvSkxMnLYE7MjZFEajEbPZTEBAwAXJ+YvdD1GCo20C79cLfHBOR8OAQKz3EN/3ruAneh+SE+Lc/sNqsVgoLS2lo6NDGfak5mK5lPE06DmDoaEhDAYD/f39SkWSKzBS50vO8cmDuOT7OZrO18DAAIWFhUiSpHhSpaWl5Obm4uPjw549e8YMXV9JaAZkEtTV1dHR0cGSJUsc2tNxuXR1dVFSUoJOpyM9Pd0l9KvUyXmj0UhfXx9eXl52BiUwMBARHYdbBfbXC3zQoKN5UCDaV+I7swdIN5VxVbCJTH36jAgRyMOrAgMDSU9PH3dYcSoqvhxFa2srxcXFhIeHk5qa6vL5G1nnS21UTCaTXRmxxWKhurqamJgYFi5ciCAI/PGPf+Thhx/m7rvv5plnnnF5j3C60AzIJGhoaKCxsZGlS5c6JUmu1q9asGABcXFxLnMqHYnNZvtG6LCrm4MtOgoGI/nSHIXR5kmMj5V1sRI3xdoI6SyjtaWZ5ORkhyooOwt5ZG5LSwsLFy4kJiZm0k2jzvZS1DpWqampihCjOyKr6HZ1ddHc3IzZbEan07F37158fX1paGjg+PHjvPHGG3z3u991+/ejI5mxBgSGXeupQtaQOnPmDKGhoQQHByt/TnXoyB31q4Zs8PdmgffrdXzYINBlFpjvZ2NNeB+rfZuJMTczMDDcpezp6UlcXByzZ8+e0uT8dNDZ2YnBYMDPz4/09PQp+z3JXoq6aVSSJLsqJUd5Kd3d3XbSHa7+3hsPvb29FBYW4unpSUZGBlarlR07dvDRRx9RU1NDb28vCxYs4JprrmH37t1u/Z50JDPagJjNZhx9eXKCXM53jJRqMJlMSmOe/HBkY97g4CClpaX09PS4vH7VoBUONA0bjb+eF+ixCCwMklgXK7IuTiQrFARh+Pckj5eNiYlRmhy7u7vtRrfKp2t3aK6z2WxUVFTQ2NjoFE9qKrwUURSpra2lpqaGBQsWEB8f77LvvfEiVyyWlZUpQpUAr776Kk888QS//OUveeKJJ+jt7eXLL7+krq6Oe+65x8mrdh00AzJOxtvTMTL2LzfmqQ2KPOTochBFUdGvmjNnDgsXLnTJeHO/FT4+L7C/XsdHjQL9VoH0YImb44aNRlowdvIi8njZ4OBgUlNT7YytrPiqLnuV49UjDbQrbWRGoxGDwYCnpyd6vd5l8jcjvZSRvRSyYRnNSxkcHKSwsBCLxUJmZqZL5Nkmi8VioaSkhK6uLjIzMwkLC6Ozs5Of/vSnfPXVV+Tn5/Otb31r2t5bDzzwAB988AF1dXWcOnWKxYsXA1BRUcHGjRtpb28nODiY119/Xan8vNhz04FmQMbBZIQP5dLCkaq5I0teL3aq7unpobi4GJvNRlpaGmFhYZO+JkfSY4G/NgjsP6fjb40CgzaBRaHDRuOmOJGFo+w1Q0NDlJaW0tXVRWpq6rg9KVn2Qh2q8fT0tLufQUFBTskFiaJIVVUV9fX1bqE0Ox4vJSgoiL6+PsrKyoiOjmbhwoVurZ0m093dzdmzZ/H39ycjIwNPT0+OHj1KXl4eer2e119/fUIiqZPh4MGDLFiwgKuvvpr9+/crBuTb3/42GzZsIDc3l3feeYft27dz/PjxSz43HcxoAzLZmSBT0dMhq+Z2dXUpH1x52tvIU7XNZqOqqopz584RHx9PfHy8y3x4u4bgw689jU+aBMyiwLJwkXVxwyGqhDFmHcnCemVlZUrlzmTi8jabTZG1lw2LPHxLrUI8VR3KMj09PRgMBgRBICMjQ5GLcTfUXor8kCSJgIAAIiIiLuqluAOSJFFXV0dVVZVi5EVR5LnnnmP79u1s3bqVLVu2OLUYJT4+XjEgra2tJCUl0dnZiYeHB5IkER0dTUFBAUFBQWM+N10lxq4fTHYSI4UPHVWaKwgCgYGBBAYGEhcXB9iHvWpra5WZ1DabDW9vbzIyMoiMjHT6abbdBH9uGM5pfNYsYJUEVs4W+Y8lIjfFisReIlIj6z319vai1+sdcsKbNWsWoaGhSu/BSAnxqqoq+vr67E7VEw0jjoY6LxAfH09CQoLLVsKNB3mqo06no7GxkbCwMOLj45V7WlFR4fJ9KWMh96sMDAywbNkygoODaWlp4e6776a6upoDBw6wcuVKZy/TjnPnzhEdHa1EKARBIC4ujvr6eoKDg8d8TjMgDmAiG4QzhA99fHyIiooiKiqKoaEhSkpK6OjoICwsDFEUMRgMFBcX2wkcTrbTezx0DMHZLoEznQL/1yhQ0CogAVdHSmy/SuT7sSIxfpf+f9TSKpGRkWRmZk5Z/kYQBPz9/fH391dk9tV9FK2trVRUVABcoO91uWvq6+vDYDBgs9lcen785aDuvlYn/8PCwpg3bx5g76Wo7+d4cinOoqOjg6KiIkJDQ1mxYgUeHh78/e9/56677uKaa67hq6++cpkGyEtxsaDRdAeUZrQBuRxGS5JPZ0PgSP2qq6++Wgm7qJPJRqORhoYGzGbzBdVeE9e7grr+b4zF2a7hR8PA8LX7zZLImS3xXLbId+eJzLmMqs2BgQGKi4sZHBwkMzOTiIiICa1xMqhnpcOFw7eampoYHBxUmsnk+zmW5IU6DBIXF8eCBQtcJrQ4GdQ6VitWrBgz+T/W/ZSNdHl5+QXjbSc6cnmyiKJIdXU19fX1irCj1Wrl17/+NS+++CK/+93v2LRpk8t6T7GxsTQ1NWG1WpUw1blz54iLiyMoKGjM56YLzYBwoQSJM/WrMjIyLtCv0ul0BAUFERQURFxc3AUy7NXV1XZhGvWM9JHXYbZBSTeKkTjbJVDYJdBtGf652T4Si0Ilbo0XyQqVyAqTSAzgsib6wTcT9aqqqoiOjmbx4sUuU36rDiPKs1zUw7caGhooLi7Gw8PDzuMLCgpSwiBDQ0NcddVVhIQ4UUPeQUxWx0p9P9VeimygneWlyJVjVquV5cuXExAQwLlz58jLy6Orq4vDhw+zaNGiKXt9RxAZGcnSpUvJz88nNzeXd999l3nz5ikhqos9Nx3M6CT6pSTdnS186Ej9qpHJz+7ubgbxotU7ivO6CKrMgZT1e1PSI2ARBQQkEgNhUahEZqhEVqjEojCJKAf0hPX19VFcXIzZbCY9Pd3lqsbGgyx5oU7Oy8oGAQEBxMfHExoa6jbDt8ZCrWOl1+un7Hc10kuRlYinyktpbW3FYDAwZ84cUlJS0Ol0fPjhh9x7773cdNNNvPDCCy5X6LBp0yY+/PBDmpubCQ8PJzAwkMrKSsrKysjNzaWjo4OgoCB2795NZmYmwEWfmw6uWAPiTOFDsNevSktLm9QEM0mCxkE42ylwRuVZ1PQNX4+XIDLfo5d4jx7SA4ZYHC5wVZQP8yIcW50kiiJ1dXVUV1e77Rzv0ZBnQfT39xMdHY3NZlP0veQeH3Vy3lXDISNxto6V2ksZ2Zcy0dkzNpuN8vJympubSUtLIyoqCpPJxBNPPEF+fj67du3ixz/+sdMLUmYKV5wBkSSJk20iZd0Q7CUR5i0Q6g0hXsMPzyn+7E9Ev8pkg24z9FqgxyLQY4GmQSjsGjYYhV0CHUPDH4gwr+GwU1boN4+UIJglSKMKHI4n7DUeent7MRgMiKKIXq+fESM91SXHkZGRpKSk2HmI6h4feQOU5UPURsXVGj5tNhtlZWW0tLS4lI7VZL2U/v5+zp49i06nIysrC19fXyoqKrjzzjuRJIl9+/aRkpLihCubucxoA6KeCaIOV204NIv3zo1+Mg7wkBRjEuql+tpbItRLNjTS18/bf+0x4j1tE6HXOrzxG81Q19JJaW0joncggZFzGcSLHsvw890W4WsDAd3mb77usYBZHH1Djw/4xkgs+vrPuX72nd4XY7SwlzzXQ34EBQVd1IuQk5R1dXWKFIS7nMAvhlwN193dPeos79FQN+bJ91MevqXeAP38/Jx2Au7u7qaoqAgvLy8yMjJcXsfqYpMI1bmpjo4OSktLlRyAIAi89dZbPPTQQ9xxxx08++yzbh9udEWuCAMyMlwFAgM2AaMZusxgNF/4tdEMnUPffG00C18/D1Zp9A+/bHxEadgo9FrH3iR0gkSwJwR6QpAnBHlKw396qb6WH17f/D3Qc/jfhfsM/93R90uO+8sPi8Vi15SnFuTr7u7GYDCg0+nQ6/UEBo7RPehmyMOewsLCJt3oaDab7fIoPT09zJo164IS4qkO9annebuzjtVYXgqAr68vR44cYfny5ezbt48///nP/Pd//zc333yzW16rOzCjDYjZbFY8EMd1kg/rPV3M+MwShg1DoIeIuaed3tbzxIYHoU+MJdzXg0BP8PcYv6fgLOSBPGqDIjeR6XQ6BgYGiI2NJSkpaUbkOsxmM6WlpXR2dpKWlsacOXMc/hpqI61OzstT86ZKgLOoqAiz2UxGRsaMCC/CcPf/2bNn8fb2Zt68eVRUVPDYY49RWlqK2WxmxYoVXHfdddx4442sXr3a2cudkcxoA7JhwwaOHj3KypUrWblyJatXr562TmFX16+aKG1tbRQXFyMIAl5eXvT39ysn6tDQUGVQlLsZFPm6goODSUtLm3LpExl1SbZsUNTDt2QvJTAw8LLft+ocTlRU1IzRsVKXHSckJJCQkIAkSezevZvHHnuMn/3sZ6xfv56vvvqKL774gvT0dB5++GFnL3tGMqMNSEdHBwcPHqSgoIDDhw9z8uRJIiIiyMnJUQxKRkaGQ/sTXFm/ajJYrVYqKipoamoiMTGRuLjh8bKiKF6gRXWxsJerYbFYKC8vp7W1lZSUFKKjo50e7rBarRfcU1EUL9D3utg9lZVmOzs70ev148rhuANmsxmDwUBfX58yPre7u5v777+fw4cP88Ybb7BmzRqn/g7/8pe/8O///u+IoojVauXhhx9m48aNtLa2smHDBqqqqvD29ubFF1/k2muvddo6HcGMNiBqZI2kY8eOUVBQwKFDhzh27BiCILB8+XJWrVrFypUryc7OnrA8eHt7OyUlJfj4+JCWluZydeYTpaOjg+LiYnx9fUlPT8fPb2z9kpFaVHLYy8/Pz86gODORLCNfl5+fH3q93mWTrHJyXl3xpb6n6uokQRDo7OykqKjoskfnujpdXV0UFhYSFBSEXq/H09OTEydOsHHjRhITE/njH//o9IoySZIIDw/ns88+Iysri9raWlJTU2lra+PnP/85cXFxbN26lePHj3PzzTdTU1PjclV6l8MVY0BGw2q1curUKQoKChQvpauriyVLlrBy5UrFqISGhl50sxsaGqKsrIyOjg6Sk5OZO3eu0zdHRyCfzuVRrBO9LrmSRjYociJ5ZLXXdFVvOXvYkyNQVyepK+g8PDwYGhpSGlPdeXOSkSSJ6upqamtrSU5OJjY2FkmSeOGFF3j66ad5/PHHefTRR13C05ckiYiICN5//32uvfZazp49y9q1a6mpqSEsLIzKykqioqIAWL58Odu2beOGG25w8qonzhVtQEYiC8kdOnRIMSiVlZWkpaXZ5VFiY2MRBAGbzUZxcTHt7e2Eh4eTkpIyY057ra2tlJSUKKdYR57O1WEv+WGz2S4rRDNRjEYjRUVFeHt7o9frL+pNuRM9PT0UFhZis9kICAigv7/fbjqm7KW42vCtSyE3cQ4NDZGVlUVgYCBtbW3ce++9GAwG3nzzTa6++mqXuqYDBw5w22234e/vT1dXF++99x5LliwhJibGbsz2+vXr+ad/+ify8vKcuNrJoRmQiyBJEs3NzUrI68iRI5w+fZqYmBgyMjKoqakhKCiIffv2TUnFjjOQK5E6OjqmLScgh73UBkXdP3EpccPxoM5NJSUlKTkcd0eSJBoaGigvL79Ax2pkcl4eEzBS38tV+3ba2towGAxERESQmprKrFmzKCgoIC8vj2XLlvGHP/yB8PBwZy/TDqvVyg033MBTTz3Ftddey/Hjx/n+97/P6dOnmT9/PiaTSfnZW265hbVr12oG5EpBkiTa29vZsmULe/fuJSUlhfPnzyMIgpKYX7VqFUuXLsXLy8utNihJkpTxsqGhoaSmpjrVm5L7J9RhL/XkwdDQ0HFXJvX09FBUVMSsWbPQ6/UzJjcl61jJCeVLVfqph2/JhkXt+cleirMLHkRRpKKigvPnz5OamkpMTAxWq5Xf/va3PPfcc2zbto3Nmze7pOE7ceIEt99+O+Xl5cr3srOz2bZtG+vWraOqqkoLYV3JHDx4kJ///Oe8+uqrZGdnMzQ0xMmTJzl06BCHDx/m8OHD9Pf3s2zZMnJycli9ejUrVqwgKCjIZQ2KyWSitLQUo9FIWlqaSwyvGsmlNj/5oY75q8UqExISiI+Pd8lNZyLIp/OwsDDS0tImlOsYq+BBLW8jD4uarvfDwMAAhYWFSJJEZmYm/v7+NDU1kZeXR1NTE3v27GHZsmXTspaJ0NLSQlJSEl9++SVpaWlUVlayfPlyTp8+zZNPPkl8fLySRF+3bh21tbVunafSDMgEkJsSx3qutLSUgwcPKgalrq6OjIwMxUNZtWqVS5SLSpJEY2Mj5eXlREREkJKS4vTT53gZOc97ZNjL19eXpqYmADIzM2dMl/xIHauoqCiHvo/U8jZykl4QBKVjXjYqUyHN39zcTElJiTJ7XRAEPv74YzZt2sSaNWt46aWX3GJo1969e9m2bRs6nQ5RFHnssce4/fbbaWlp4Y477qCmpgYvLy927drFdddd5+zlTgrNgEwxcoz60KFDSh6lqKiI+fPn21V6LVy4cFpPx4ODg5SUlNDX10daWtqM6BMYGhrCaDRSX1+P0WgEsGvIk5sc3dULcYaOlSiKF+h7ycO31GGvyeanSktLaWtrIz09ncjISMxmM1u3buW1115j586d3HnnnU4/cGlciGZAphlJkjAajRw+fFgxKMePHycwMJCcnBzFQ1m8ePGUuLayQauoqCAqKork5GS3dqHV9Pf3YzAYsFgsijbXyGovURQvGA3s6tcvSRK1tbVUV1e7hI6VbKhlgyLnp9T3dbxqBL29vRQWFuLp6UlmZiY+Pj7U1NSQm5uLyWRi37596PX6abgqjYmgGRAnI0tZHD9+XOlH+eKLL7BYLGRnZyulw9nZ2ROWWpdRTz5MT093uQqWiSJLW1RWVjJ37twxtblGquUajUa707Rah8pVTrvuoGOlHr4lGxW1GoFsWNRFGerqMVnFWRAE3n//fTZv3sz69evZsWPHmGN1NVwDzYC4IDabjcLCQrvEfHNzM4sWLbILe82ePXtcG516hre8wbrKeNnJMjg4SHFxMQMDAxOaqKc+Tculro7QoXIETU1NlJaWKlP1XKFRbjyoRTjV+l6+vr7K/Wxvb6evr4+srCzCwsIYHBzk0Ucf5e233+aVV15h/fr1LmPENcZGMyBugBzCkBPzBQUFlJaWkpycbBf2Gk0osq+vD4PBgNVqJT09ndDQUCddhWNRFwDMmTOHhQsXOsQo2my2C2akSJJkl0QOCQmZUgNssViUXhw5J+DuyMO3mpubaW5uRpIkzGYz27dvJy0tjS+++ILAwEDefvttEhMTnb1cjXGiGRA3RJIk2tra7PIoaqHIVatWkZ2dzdtvv42Pjw933HEHCxYscJsT7KUwmUyUlJTQ29tLeno6ERERU/Zactirq6tLMSyjhb0cldDu7OzEYDDg7++PXq+fMcoG6jyOLMbZ2trKf/zHf3Ds2DEaGxvp6ekhPT2d9evX8+STTzp7yRrjQDMgMwB5k/vyyy85dOgQf/nLXzh58iTh4eEsXryYFStWTFoo0hWQmx1LSkqYPXs2KSkpTkmAm0wmOy9lZNhrIrPRRVGkqqqK+vp6Re/JXX9PI5EbHgcGBsjMzCQ4OJje3l4efPBBDhw4wO7du/nnf/5nWltblfzfLbfcMu1r3LJlCx9//DE+Pj4sWrSI/Px8Kioq2LhxI+3t7QQHB/P6669rSX0VmgGZYbz55pvcfffdbNmyhbVr13L06FEljzIRoUhXYTqGPU2Ui4W91LmUscJe/f39ds1zM6VTHoYVj4uKiggNDVUaHk+fPs3GjRuJiYkhPz+f2NhYZy+Thx56CKvVyvPPP48gCDQ3NxMVFcW3v/1tNmzYQG5uLu+88w7bt2/n+PHjzl6uy6AZkBlGQ0MDnZ2dZGVl2X3/coUiXQlZ2DEkJIS0tDSXb3aUx66qk/NqYUP54e3trZRUy7O83bVHZSSyR3Xu3DlFyVmSJF555RWefPJJfvnLX/LEE0+4RDFHf38/0dHRNDQ02DUqtra2kpSURGdnJx4eHkiSRHR0NAUFBSQlJTlxxa6DZkCuUGShSLVBOXPmDDExMXYGRRaxcwYWi4WysjLa2tqmpOt6OpGFDdVhL9lYzJ07l7lz506rZMhUMjg4SGFhIVarlaysLAICAujs7OS+++7j5MmT5Ofn861vfctlrvXs2bN8//vf57bbbuPAgQP4+vqydetWQkJCuP322ykrK1N+dvny5TzzzDN8+9vfduKKXQfnm38NpyAIAtHR0axfv57169cjSRK9vb188cUXHDp0iP379/OrX/0Kb29vpwhFdnR0YDAYCAgIYOXKlS477Gm8+Pj4EBUVRVRUFG1tbRQVFSmJ+J6eHiUsou6bmCrJkKmkpaWF4uJipfRYp9PxxRdfkJeXh16v59SpUy5XVWaxWKirqyM9PZ1nnnmGU6dO8Y//+I98+OGHF/ysdt62R/NANMZkaGiIr776SmlwPHLkyJQLRapH505miJUrYrPZKC8vp6mpidTUVDs9NHXYS674GhoaGrXJ0RWRr625uZm0tDSioqKw2Ww899xzbN++na1bt7JlyxaXDNG1t7czZ84czGaz4m1nZ2fz8MMP85Of/EQLYV0EzYBojBtRFCkpKVHCXkeOHHGoUGRXVxcGgwEfHx/0ev20aD1NF/LAJ1myYzzXNlrYy8fH54JqL2cb2P7+fs6ePYtOpyMrKwtfX19aWlq4++67qa6uZs+ePeTk5Dh1jZdizZo1PPjgg9x4443U1NSQnZ3NmTNn+NGPfkRubq6SRH/mmWc4ceKEs5frMmgGRGPCyBIi6jxKUVER8fHxlyUUabPZqKyspKGhYcaVsKr7HyYrKS8346mrvWSlXHW113TlrCRJUrrlY2NjSUxMRBAE/v73v/OTn/yEa665hldffdUtmlerq6u56667aG9vR6fT8eSTT/KDH/yAsrIycnNz6ejoICgoiN27d5OZmens5boMmgHRcBiyUKR6xvyJEycuKhRZXl5Oe3s7Hh4e6PX6GaV9JOtYDQ0NKf0PjkQUxQuqvcxm86jVXo7GarVSUlJCR0cHGRkZREREYLFYePrpp3nppZd49tlnueeee1wyZKXhODQDojFlyEKRX375pdI1f/ToUSwWC1dddRXe3t4cOnSIDz74gJycnBnTKQ/2OlaOklm5FPL9VhsUWYNKbVAmK8rZ09PD2bNn8fX1JSMjA29vb+rr68nLy8NoNLJ3714WLVrkwCvTcFU0A/I1JpOJ2267jeLiYnx9fYmMjOSll17SkmUOxmaz8e677/KLX/yCwcFBoqOjKSsrm7BQpKvhajpW6gFRcthLp9MpY4Flja/xGG9Jkqivr6eyspKEhAQSEhIA+PDDD7n33nu56aabeOGFF2ZUI6TGxdEMyNeYTCY+/fRT1q5diyAI7Nq1i3feeYfPPvvM2UubUUiSxOrVq7n++ut54okn8PT0pKamxi6PMl6hSFejq6uLoqIi/P39SU9Pd8mKKVEU6e3tVYxKV1cXFovlkmEvs9mszF/PzMwkJCQEk8nEE088QX5+Prt27eLHP/6xWxp9jYmjGZAxOHHiBD/84Q+pra119lJmHBaLZUwNq/EIRa5atYqMjAyX6ZFwZx2r8YS9dDodFRUVBAcHo9fr8fT0pKKigjvvvBMYHuGakpLi5CvRcAaaARmDDRs2EBoays6dO529lCsatVDkwYMHKSgo4NixY+h0OpYvX66EvJwlFDkTdazksFdXVxfNzc2YTCZ0Oh3Hjh2jv78fX19fdu3axcaNG/nd737nkp6WxvSgGZBR2LZtG//7v//LJ598gp+fn7OXozECs9nM6dOn7aq9jEbjtApFqkcDz507l+TkZJcPsV0OJpNJqSDLyMgAID8/nz179lBSUoLNZmPZsmVcffXV/OxnPyM+Pt65C9ZwCpoBGcGzzz7Lvn37OHDgACEhIc5ejsY4EEWRiooKCgoKlLDXVApFyvmA3t5e9Hr9jBkNLNPW1obBYCAiIoLU1FQ8PDwoKipi48aNhIWFkZ+fjyiKisrzv/3bvzltCNTu3bvJy8vj/fffZ926dbS2trJhwwaqqqrw9vbmxRdf5Nprr3XK2q4ENAOiYseOHbz55pscOHDALZqfNEZHbnBTGxRHCUW2tbVRXFxMSEgI6enpTplHMlXIhvj8+fOkpqYSExODKIrs3r2bxx57jM1IXbgSAAAJ2UlEQVSbN/PUU0+5zDXX1dXxr//6r0iSxCOPPMK6devIy8sjLi6OrVu3cvz4cW6++WZqampcZs0zDc2AfE1DQwOxsbEsWLCAwMBAALy9vTl27JiTV6YxWSRJoqenh6NHjypjgY8fP35ZQpEX07GaCQwMDHD27FkAMjMz8ff3p7u7m/vvv5/Dhw/zxhtvsGbNGpe5ZlEUWbNmDdu3b2fLli08+OCDrFu3joCAACorK4mKigKG1XO3bdvGDTfc4OQVz0xco4zFBZg3b56mtDlDkeU+vvOd7/Cd73wH+EYo8tChQxw+fJidO3cqQpGyQZGFIo8cOUJbWxsxMTHk5OTMuLyY3PQYHR2tyM6cOHGCjRs3kpiYyKlTp4iOjnb2Mu3YsWMHq1ev5qqrrlK+19HRgcViUYwHQHx8PPX19c5Y4hWBZkA0rki8vb2VkmD4RihS9lAeeugh6urqiI+Pp7GxkbvvvpsHHnhgRgk82mw2SktLaWtrQ6/XExkZiSiK7Ny5k6effprHH3+cRx991OUUAgwGA++88w6HDh264LmRHpJ2KJxaZk7ZyBXE7t27EQSB/fv3O3spMwadToder+e+++4jPz+fzz//nBUrVtDf38/NN9/M559/TkpKCpmZmdxzzz3s3r2bsrIyRFF09tInRG9vL8eOHWNgYICcnBwiIyNpa2vjlltu4eWXX+ajjz7i8ccfdznjAXDw4EHq6upITk4mPj6eo0ePcs899/CnP/2JWbNm0dzcrPxsXV0dcXFxTlztzEYzIG5GXV0d//Vf/+Xy8tjujsFgID09ncrKSvbu3cuZM2dob29n586dxMTEsHfvXlauXMmCBQu47bbb2LlzJydOnMBisTh76RdFVlD+8ssviYyMVDTJDh48yKpVq/D29ubkyZNcc801LpPvGMl9991HU1MTtbW11NbWkpOTw6uvvsp9992nGECA48ePc/78ef7hH/7BySueuWghLDdCFEXuuusuXnjhBbZs2eLs5cxo1q5dy9q1a5W/C4JAWFgY3/ve9/je975nJxRZUFDAwYMH+e1vf4vFYiE7O1up9MrOzp60eKGjsFgsFBcXKz0zYWFhWK1Wtm/fzu9//3t+85vfcP/997t1P8v27du54447SE5OxsvLi/z8fK0CawrRqrDciGeffZbe3l5+/etf861vfUupPNFwDWw2G2fPnlUS84cPH6alpcUlhCKNRiOFhYX4+/uTkZGBl5cXjY2N5OXl0dzczJ49e1i2bNm0rknD/dE8EDfhYolDDddg1qxZLFmyhCVLlvDAAw8giiK1tbVKYv6pp56irKxsWoUi1QOtkpKSlHzARx99xKZNm1izZg1//vOfCQoKmpLX15jZaB6Im/DSSy/x1FNPKSqpzc3NBAUF8etf/5r77rvPyavTGA+yUKRaguXkyZPMnj17SoQih4aGKCoqYnBwUBloZTab2bp1K6+99ho7d+7kzjvvdInwmoZ7ohkQN0ULYbk/slDksWPHFDl7RwlFdnR0UFRURGhoKGlpaYpsfm5uLiaTibfeeov09PQpvDqNKwEthKWh4SQEQSAgIIDrr7+e66+/HrhQKPLll1/GaDSydOlScnJyWL16NTk5OWMKRcrS8ufOnWPhwoXMnTsXgPfee4/Nmzdz6623smPHjhnXDKnhHDQPREPDhRlLKDI9Pd0u7BUbG0tFRQVHjhxh4cKFZGVlERAQwODgII888gjvvvsuL7/8MuvXr9dCVhoOQzMgGhpuhCwUqZ7geObMGcLDw+nv7+eGG27gV7/6FWlpaZSXl5Obm4uvry979+51mmKuxsxFMyAaDmVoaIgtW7bw8ccf4+Pjw6JFi8jPz3f2smYsg4ODPPDAA+zdu5e1a9fS2trK8ePHmTVrFkNDQ2zevJnf/OY3eHl5OXupGjMQLQei4VAeffRRBEGgvLwcQRDsZCU0HE9HRweNjY0UFhaSkJAADBvxv/3tb5w+fZpf/epXTg9ZmUwmbrvtNoqLi/H19SUyMpKXXnqJpKQkbX6Hm6N5IBoOo7+/n+joaBoaGrS+Ag0Fk8nEp59+ytq1axEEgV27dvHOO+/w2WefafM73Bz31SzQcDmqqqoICwtj27ZtLFu2jGuuuYZPPvnE2cvScDI+Pj7ceOONiieUk5NDbW0tAH/605+49957AcjOziYmJobPP//cWUvVuEw0A6LhMCwWC3V1daSnp3PixAmef/55br31VlpaWpy9NA0X4vnnn+emm27S5nfMALQciIbDmD9/Pjqdjh/96EcALFmyhISEBAoLC5kzZ46TV6fhCmzbto2Kigo++eQTBgcHtfkdbo7mgWg4jIiICK6//no+/vhjAGpqaqipqSEtLc3JK9NwBZ599lnee+89/vrXv+Ln50d4eLg2v8PN0ZLoGg6lurqau+66i/b2dnQ6HU8++SQ/+MEPnL0sDSezY8cO3nzzTQ4cOEBoaKjy/dzcXOLj45Uk+rp166itrdWS6G6CZkA0NDSmlIaGBmJjY1mwYAGBgYHA8EjhY8eO0dLSwh133EFNTQ1eXl7s2rWL6667zskr1hgvmgHR0NDQ0JgQWg5E44rjL3/5C0uXLmXx4sVkZGTwxhtvOHtJGhpuieaBaFxRSJJEeHg4n332GVlZWdTW1pKamkpbW5sSXtHQ0BgfmgeiccUhCAJGoxGAnp4ewsPDlUFdGhoa40frA9G4ohAEgbfeeot/+Zd/wd/fn66uLt577z1NbFBDYwJoHojGFYXVauXpp5/mvffeo66ujk8++YQ77riD9vZ2Zy9NQ8Pt0AyIxhXF6dOnaWxsVBRfs7OzmTdvHqdOnXLyyjQ03A/NgGhcUcTGxtLU1ERJSQkAlZWVVFVVkZKS4uSVaWi4H1oOROOKYs6cObz66qusX78enU6HKIrs2rVLk8/Q0JgAWhmvhoaGhsaE0EJYGhoaGhoTQjMgGhouwgMPPEB8fDyCIHD69Gnl+xUVFaxatYqFCxeSnZ2NwWBw4io1NL5BMyAaGi7CD3/4QwoKCpg/f77d9zdt2sQ999xDeXk5jzzyCLm5uc5ZoIbGCLQciIaGixEfH8/+/ftZvHgxra2tJCUl0dnZiYeHB5IkER0dTUFBAUlJSc5eqsYVjuaBaGi4MOfOnSM6OhoPj+GCSUEQiIuL08a+argEmgHR0HAztKCBhqugGRANDRdGbny0Wq3AsPE4d+6c1rei4RJoBkRDw4WJjIxk6dKl5OfnA/Duu+8yb948Lf+h4RJoSXQNDRdh06ZNfPjhhzQ3NxMeHk5gYCCVlZWUlZWRm5tLR0cHQUFB7N69m8zMTGcvV0NDMyAaGhoaGhNDC2FpaGhoaEwIzYBoaGhoaEyI/wfBqGArAc0sDgAAAABJRU5ErkJggg==\" />"
      ]
     },
     "execution_count": 107,
     "metadata": {},
     "output_type": "execute_result"
    }
   ],
   "source": [
    "plot( vetor_x , f6.(vetor_x) , f7.(vetor_x), label = \"Linha\", size = (400,300) )"
   ]
  },
  {
   "cell_type": "code",
   "execution_count": 108,
   "metadata": {
    "collapsed": false
   },
   "outputs": [
    {
     "data": {
      "text/plain": [
       "Plots.PyPlotBackend()"
      ]
     },
     "execution_count": 108,
     "metadata": {},
     "output_type": "execute_result"
    }
   ],
   "source": [
    "using Plots\n",
    "pyplot()"
   ]
  },
  {
   "cell_type": "code",
   "execution_count": 109,
   "metadata": {
    "collapsed": false
   },
   "outputs": [
    {
     "data": {
      "text/plain": [
       "zf (generic function with 1 method)"
      ]
     },
     "execution_count": 109,
     "metadata": {},
     "output_type": "execute_result"
    }
   ],
   "source": [
    "vetor_x = linspace(-5, 5, 300)\n",
    "vetor_y = linspace(-5, 5, 300)\n",
    "\n",
    "zf(x) = sin(x)*x"
   ]
  },
  {
   "cell_type": "code",
   "execution_count": 110,
   "metadata": {
    "collapsed": false,
    "scrolled": false
   },
   "outputs": [
    {
     "data": {
      "text/html": [
       "<img src=\"data:image/png;base64,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\" />"
      ]
     },
     "execution_count": 110,
     "metadata": {},
     "output_type": "execute_result"
    }
   ],
   "source": [
    "plot(vetor_x , vetor_y , zf.(vetor_x) , label = \"Linha\", size = (400,300) )"
   ]
  },
  {
   "cell_type": "markdown",
   "metadata": {},
   "source": [
    "#### GRÁFICO DE SUPERFÍCIE\n",
    "\n",
    "Por padrão, a figura será colorida em tons de uma cor sólida, mas também suporta mapeamento de cores.\n",
    "```julia\n",
    "vetor_x \n",
    "vetor_y ou função previamente calculada\n",
    "vetor_z ou função previamente calculada\n",
    "surface( x, y, z, argumentos);\n",
    "```\n",
    "Argumentos:"
   ]
  },
  {
   "cell_type": "code",
   "execution_count": 111,
   "metadata": {
    "collapsed": false,
    "scrolled": true
   },
   "outputs": [
    {
     "data": {
      "text/plain": [
       "Plots.PlotlyJSBackend()"
      ]
     },
     "execution_count": 111,
     "metadata": {},
     "output_type": "execute_result"
    }
   ],
   "source": [
    "using Plots\n",
    "plotlyjs()"
   ]
  },
  {
   "cell_type": "code",
   "execution_count": 112,
   "metadata": {
    "collapsed": false
   },
   "outputs": [
    {
     "data": {
      "text/plain": [
       "f1 (generic function with 1 method)"
      ]
     },
     "execution_count": 112,
     "metadata": {},
     "output_type": "execute_result"
    }
   ],
   "source": [
    "f1(x,y) = cos(x) + sin(y)"
   ]
  },
  {
   "cell_type": "code",
   "execution_count": 113,
   "metadata": {
    "collapsed": false
   },
   "outputs": [
    {
     "data": {
      "text/plain": [
       "0.0:0.5:10.0"
      ]
     },
     "execution_count": 113,
     "metadata": {},
     "output_type": "execute_result"
    }
   ],
   "source": [
    "vetor_x = 0:0.5:10\n",
    "vetor_y = 0:0.5:10"
   ]
  },
  {
   "cell_type": "code",
   "execution_count": 114,
   "metadata": {
    "collapsed": false,
    "scrolled": false
   },
   "outputs": [
    {
     "data": {
      "text/html": [
       "<div id=\"3224874a-c7e6-4258-a0b4-dd45ccd02b2f\" class=\"plotly-graph-div\"></div>\n",
       "\n",
       "<script>\n",
       "    window.PLOTLYENV=window.PLOTLYENV || {};\n",
       "    window.PLOTLYENV.BASE_URL=\"https://plot.ly\";\n",
       "    require(['plotly'], function(Plotly) {\n",
       "        Plotly.newPlot('3224874a-c7e6-4258-a0b4-dd45ccd02b2f', [{\"xaxis\":\"x\",\"colorbar\":{\"title\":\"\"},\"colorscale\":[[0.0,\"rgb(0, 0, 4)\"],[0.034482758620689655,\"rgb(4, 3, 20)\"],[0.06896551724137931,\"rgb(13, 8, 41)\"],[0.10344827586206896,\"rgb(24, 12, 60)\"],[0.13793103448275862,\"rgb(38, 12, 81)\"],[0.1724137931034483,\"rgb(54, 9, 97)\"],[0.20689655172413793,\"rgb(69, 10, 105)\"],[0.2413793103448276,\"rgb(84, 15, 109)\"],[0.27586206896551724,\"rgb(97, 19, 110)\"],[0.3103448275862069,\"rgb(111, 25, 110)\"],[0.3448275862068966,\"rgb(125, 30, 109)\"],[0.3793103448275862,\"rgb(140, 35, 105)\"],[0.41379310344827586,\"rgb(154, 40, 101)\"],[0.4482758620689655,\"rgb(166, 45, 96)\"],[0.4827586206896552,\"rgb(180, 51, 89)\"],[0.5172413793103449,\"rgb(193, 58, 80)\"],[0.5517241379310345,\"rgb(206, 67, 71)\"],[0.5862068965517241,\"rgb(216, 76, 62)\"],[0.6206896551724138,\"rgb(226, 87, 52)\"],[0.6551724137931034,\"rgb(235, 100, 41)\"],[0.6896551724137931,\"rgb(241, 115, 29)\"],[0.7241379310344828,\"rgb(247, 130, 18)\"],[0.7586206896551724,\"rgb(250, 144, 8)\"],[0.7931034482758621,\"rgb(252, 161, 8)\"],[0.8275862068965517,\"rgb(252, 178, 22)\"],[0.8620689655172413,\"rgb(250, 196, 42)\"],[0.896551724137931,\"rgb(246, 213, 67)\"],[0.9310344827586207,\"rgb(243, 229, 93)\"],[0.9655172413793104,\"rgb(242, 244, 130)\"],[1.0,\"rgb(252, 255, 164)\"]],\"yaxis\":\"y\",\"showscale\":true,\"x\":[0.0,0.5,1.0,1.5,2.0,2.5,3.0,3.5,4.0,4.5,5.0,5.5,6.0,6.5,7.0,7.5,8.0,8.5,9.0,9.5,10.0],\"showlegend\":false,\"name\":\"y1\",\"opacity\":null,\"z\":[[1.0,0.8775825618903728,0.5403023058681398,0.0707372016677029,-0.4161468365471424,-0.8011436155469337,-0.9899924966004454,-0.9364566872907963,-0.6536436208636119,-0.2107957994307797,0.28366218546322625,0.70866977429126,0.960170286650366,0.9765876257280235,0.7539022543433046,0.3466353178350258,-0.14550003380861354,-0.6020119026848236,-0.9111302618846769,-0.9971721561963784,-0.8390715290764524],[1.479425538604203,1.3570081004945758,1.0197278444723428,0.5501627402719059,0.0632787020570606,-0.3217180769427307,-0.5105669579962424,-0.45703114868659334,-0.17421808225940894,0.2686297391734233,0.7630877240674292,1.188095312895463,1.4395958252545689,1.4560131643322265,1.2333277929475077,0.8260608564392289,0.33392550479558947,-0.12258636408062062,-0.43170472328047393,-0.5177466175921754,-0.35964599047224943],[1.8414709848078965,1.7190535466982693,1.3817732906760363,0.9122081864755994,0.4253241482607541,0.04032736926096281,-0.1485215117925489,-0.09498570248289984,0.18782736394428456,0.6306751853771169,1.1251331702711227,1.5501407590991565,1.8016412714582626,1.81805861053592,1.595373239151201,1.1881063026429224,0.695970950999283,0.23945908212307287,-0.06965927707678043,-0.15570117138848194,0.0023994557314440668],[1.9974949866040546,1.8750775484944273,1.5377972924721943,1.0682321882717574,0.581348150056912,0.19635137105712075,0.00750249000360903,0.061038299313258104,0.3438513657404425,0.7866991871732747,1.2811571720672807,1.7061647608953145,1.9576652732544204,1.974082612332078,1.751397240947359,1.3441303044390802,0.8519949527954409,0.3954830839192308,0.0863647247193775,0.00032283040767600024,0.158423457527602],[1.9092974268256817,1.7868799887160545,1.4495997326938215,0.9800346284933846,0.4931505902785393,0.10815381127874801,-0.0806950697747637,-0.027159260465114632,0.25565380596206977,0.6985016273949021,1.192959612288908,1.6179672011169417,1.8694677134760478,1.8858850525537052,1.6631996811689862,1.2559327446607076,0.7637973930170682,0.3072855241408581,-0.0018328350589952302,-0.08787472937069674,0.07022589774922927],[1.5984721441039564,1.4760547059943292,1.1387744499720962,0.6692093457716594,0.18232530755681403,-0.20267147144297726,-0.391520352496489,-0.3379845431868399,-0.0551714767596555,0.38767634467317674,0.8821343295671826,1.3071419183952164,1.5586424307543223,1.57505976983198,1.3523743984472612,0.9451074619389823,0.4529721102953429,-0.0035397585808671916,-0.3126581177807205,-0.398700012092422,-0.240599384972496],[1.1411200080598671,1.01870256995024,0.681422313928007,0.2118572097275701,-0.2750268284872752,-0.6600236074870665,-0.8488724885405782,-0.7953366792309291,-0.5125236128037447,-0.06967579137091248,0.42478219352309343,0.8497897823511272,1.1012902947102332,1.1177076337878906,0.8950222624031718,0.487755325894893,-0.0043800257487463246,-0.4608918946249564,-0.7700102538248097,-0.8560521481365112,-0.6979515210165852],[0.6492167723103801,0.5267993342007529,0.18951907817851993,-0.2800460260219169,-0.7669300642367622,-1.1519268432365535,-1.3407757242900653,-1.2872399149804161,-1.0044268485532317,-0.5615790271203995,-0.06712104222639359,0.35788654660164015,0.6093870589607462,0.6258043980384036,0.40311902665368476,-0.004147909854594012,-0.4962832614982334,-0.9527951303744435,-1.2619134895742967,-1.3479553838859983,-1.1898547567660722],[0.2431975046920718,0.12078006658244456,-0.21650018943978844,-0.6860652936402253,-1.1729493318550706,-1.557946110854862,-1.7467949919083736,-1.6932591825987244,-1.4104461161715403,-0.9675982947387078,-0.47314030984470196,-0.04813272101666821,0.20336779134243776,0.2197851304200953,-0.0029002409646236016,-0.4101671774729024,-0.9023025291165417,-1.3588143979927518,-1.667932757192605,-1.7539746515043066,-1.5958740243843805],[0.02246988233490299,-0.09994755577472425,-0.43722781179695724,-0.9067929159973941,-1.3936769542122394,-1.7786737332120306,-1.9675226142655424,-1.9139868049558935,-1.6311737385287088,-1.1883259170958766,-0.6938679322018708,-0.268860343373837,-0.017359831014731042,-0.0009424919370735196,-0.2236278633217924,-0.6308947998300711,-1.1230301514737104,-1.5795420203499206,-1.888660379549774,-1.9747022738614755,-1.8166016467415496],[0.041075725336861546,-0.0813417127727657,-0.4186219687949987,-0.8881870729954355,-1.375071111210281,-1.7600678902100722,-1.9489167712635838,-1.8953809619539348,-1.6125678955267504,-1.1697200740939182,-0.6752620891999122,-0.25025450037187846,0.0012460119872275133,0.017663351064885036,-0.20502202031983385,-0.6122889568281127,-1.104424308471752,-1.560936177347962,-1.8700545365478154,-1.956096430859517,-1.797995803739591],[0.2944596744296081,0.17204223631998083,-0.16523801970225216,-0.634803123902689,-1.1216871621175344,-1.5066839411173256,-1.6955328221708372,-1.6419970128611883,-1.3591839464340039,-0.9163361250011717,-0.4218781401071657,0.0031294487208680666,0.25462996107997404,0.27104730015763157,0.04836192877291268,-0.3589050077353661,-0.8510403593790055,-1.3075522282552154,-1.6166705874550689,-1.7027124817667705,-1.5446118546468444],[0.7205845018010741,0.5981670636914469,0.2608868076692139,-0.20867829653122294,-0.6955623347460682,-1.0805591137458594,-1.2694079947993713,-1.2158721854897223,-0.9330591190625378,-0.49021129762970556,0.004246687264300386,0.42925427609233413,0.6807547884514401,0.6971721275290976,0.47448675614437874,0.06721981963609996,-0.4249155320075394,-0.8814274008837495,-1.190545760083603,-1.2765876543953043,-1.1184870272753784],[1.2151199880878156,1.0927025499781884,0.7554222939559553,0.28585718975551844,-0.2010268484593269,-0.5860236274591182,-0.7748725085126299,-0.7213366992029808,-0.4385236327757964,0.004324188657035821,0.49878217355104176,0.9237897623790755,1.1752902747381815,1.1917076138158391,0.9690222424311201,0.5617553059228413,0.06961995427920198,-0.3868919145970081,-0.6960102737968614,-0.7820521681085629,-0.6239515409886369],[1.656986598718789,1.5345691606091618,1.1972889045869288,0.727723800386492,0.24083976217164665,-0.14415701682814464,-0.33300589788165635,-0.2794700885720073,0.0033429778551771205,0.44619079928800937,0.9406487841820153,1.365656373010049,1.617156885369155,1.6335742244468126,1.4108888530620938,1.003621916553815,0.5114865649101755,0.05497469603396543,-0.2541436631658879,-0.3401855574775894,-0.18208493035766338],[1.937999976774739,1.8155825386651117,1.4783022826428787,1.0087371784424417,0.5218531402275965,0.1368563612278052,-0.05199251982570652,0.001543289483942556,0.28435635591112696,0.7272041773439593,1.221662162237965,1.6466697510659989,1.8981702634251048,1.9145876025027624,1.6919022311180436,1.2846352946097648,0.7924999429661254,0.33598807408991527,0.026869714890061958,-0.05917217942163955,0.09892844769828646],[1.989358246623382,1.8669408085137547,1.5296605524915217,1.0600954482910847,0.5732114100762393,0.1882146310764481,-0.0006342499770636278,0.052901559332585446,0.33571462575976985,0.778562447192602,1.273020432086608,1.698028020914642,1.9495285332737478,1.9659458723514054,1.7432605009666864,1.3359935644584076,0.8438582128147682,0.38734634393855816,0.07822798473870485,-0.007813909572996658,0.15028671754692935],[1.7984871126234903,1.676069674513863,1.33878941849163,0.8692243142911932,0.38234027607634785,-0.002656502923443438,-0.19150538397695516,-0.13796957466730608,0.14484349175987832,0.5876913131927106,1.0821492980867164,1.5071568869147502,1.7586573992738561,1.7750747383515137,1.552389366966795,1.1451224304585161,0.6529870788148767,0.19647520993866663,-0.11264314926118668,-0.1986850435728882,-0.04058441645296218],[1.4121184852417565,1.2897010471321293,0.9524207911098963,0.4828556869094595,-0.004028351305385813,-0.3890251303051771,-0.5778740113586889,-0.5243382020490397,-0.24152513562185535,0.2013226858109769,0.6957806707049828,1.1207882595330165,1.3722887718921226,1.38870611096978,1.1660207395850612,0.7587538030767824,0.26661845143314306,-0.18989341744306704,-0.49901177664292035,-0.5850536709546219,-0.42695304383469584],[0.9248488795381907,0.8024314414285635,0.4651511854063305,-0.0044139187941063945,-0.49129795700895174,-0.876294736008743,-1.0651436170622548,-1.0116078077526056,-0.7287947413254212,-0.285946919892589,0.20851106500141695,0.6335186538294507,0.8850191661885567,0.9014365052662142,0.6787511338814953,0.2714841973732165,-0.22065115427042284,-0.6771630231466329,-0.9862813823464862,-1.0723232766581878,-0.9142226495382617],[0.4559788891106302,0.333561451001003,-0.0037188050212300094,-0.47328390922166685,-0.9601679474365121,-1.3451647264363036,-1.5340136074898152,-1.480477798180166,-1.1976647317529818,-0.7548169103201494,-0.26035892542614353,0.16464866340189022,0.4161491757609962,0.4325665148386537,0.20988114345393483,-0.19738579305434395,-0.6895211446979833,-1.1460330135741934,-1.4551513727740466,-1.5411932670857482,-1.383092639965822]],\"y\":[0.0,0.5,1.0,1.5,2.0,2.5,3.0,3.5,4.0,4.5,5.0,5.5,6.0,6.5,7.0,7.5,8.0,8.5,9.0,9.5,10.0],\"type\":\"surface\"}],\n",
       "               {\"showlegend\":true,\"paper_bgcolor\":\"rgba(255, 255, 255, 1.000)\",\"annotations\":[],\"height\":300,\"margin\":{\"l\":0,\"b\":20,\"r\":0,\"t\":20},\"plot_bgcolor\":\"rgba(255, 255, 255, 1.000)\",\"legend\":{\"bordercolor\":\"rgba(0, 0, 0, 1.000)\",\"bgcolor\":\"rgba(255, 255, 255, 1.000)\",\"font\":{\"color\":\"rgba(0, 0, 0, 1.000)\",\"family\":\"sans-serif\",\"size\":11},\"y\":1.0,\"x\":1.0},\"scene\":{\"camera\":{\"eye\":{\"y\":-1.9499999999999997,\"z\":1.3,\"x\":1.12583302491977}},\"xaxis\":{\"showticklabels\":true,\"gridwidth\":0.5,\"tickvals\":[0.0,2.0,4.0,6.0,8.0,10.0],\"visible\":true,\"ticks\":\"inside\",\"range\":[0.0,10.0],\"domain\":[0.04342957130358705,0.9921259842519685],\"tickmode\":\"array\",\"linecolor\":\"rgba(0, 0, 0, 1.000)\",\"showgrid\":true,\"title\":\"\",\"mirror\":false,\"tickangle\":0,\"showline\":true,\"gridcolor\":\"rgba(0, 0, 0, 0.100)\",\"titlefont\":{\"color\":\"rgba(0, 0, 0, 1.000)\",\"family\":\"sans-serif\",\"size\":15},\"tickcolor\":\"rgb(0, 0, 0)\",\"ticktext\":[\"0\",\"2\",\"4\",\"6\",\"8\",\"10\"],\"zeroline\":false,\"type\":\"-\",\"tickfont\":{\"color\":\"rgba(0, 0, 0, 1.000)\",\"family\":\"sans-serif\",\"size\":11},\"zerolinecolor\":\"rgba(0, 0, 0, 1.000)\",\"anchor\":\"y\"},\"yaxis\":{\"showticklabels\":true,\"gridwidth\":0.5,\"tickvals\":[0.0,2.0,4.0,6.0,8.0,10.0],\"visible\":true,\"ticks\":\"inside\",\"range\":[0.0,10.0],\"domain\":[0.050160396617089535,0.9868766404199475],\"tickmode\":\"array\",\"linecolor\":\"rgba(0, 0, 0, 1.000)\",\"showgrid\":true,\"title\":\"\",\"mirror\":false,\"tickangle\":0,\"showline\":true,\"gridcolor\":\"rgba(0, 0, 0, 0.100)\",\"titlefont\":{\"color\":\"rgba(0, 0, 0, 1.000)\",\"family\":\"sans-serif\",\"size\":15},\"tickcolor\":\"rgb(0, 0, 0)\",\"ticktext\":[\"0\",\"2\",\"4\",\"6\",\"8\",\"10\"],\"zeroline\":false,\"type\":\"-\",\"tickfont\":{\"color\":\"rgba(0, 0, 0, 1.000)\",\"family\":\"sans-serif\",\"size\":11},\"zerolinecolor\":\"rgba(0, 0, 0, 1.000)\",\"anchor\":\"x\"},\"zaxis\":{\"showticklabels\":true,\"gridwidth\":0.5,\"tickvals\":[-1.5,-1.0,-0.5,0.0,0.5,1.0,1.5],\"visible\":true,\"ticks\":\"inside\",\"range\":[-1.9747022738614755,1.9974949866040546],\"tickmode\":\"array\",\"linecolor\":\"rgba(0, 0, 0, 1.000)\",\"showgrid\":true,\"title\":\"\",\"mirror\":false,\"tickangle\":0,\"showline\":true,\"gridcolor\":\"rgba(0, 0, 0, 0.100)\",\"titlefont\":{\"color\":\"rgba(0, 0, 0, 1.000)\",\"family\":\"sans-serif\",\"size\":15},\"tickcolor\":\"rgb(0, 0, 0)\",\"ticktext\":[\"-1.5\",\"-1.0\",\"-0.5\",\"0.0\",\"0.5\",\"1.0\",\"1.5\"],\"zeroline\":false,\"type\":\"-\",\"tickfont\":{\"color\":\"rgba(0, 0, 0, 1.000)\",\"family\":\"sans-serif\",\"size\":11},\"zerolinecolor\":\"rgba(0, 0, 0, 1.000)\"}},\"width\":500}, {showLink: false});\n",
       "\n",
       "    });\n",
       " </script>\n"
      ]
     },
     "execution_count": 114,
     "metadata": {},
     "output_type": "execute_result"
    }
   ],
   "source": [
    "surface(vetor_x, vetor_y, f1, size = (500,300))"
   ]
  },
  {
   "cell_type": "markdown",
   "metadata": {},
   "source": [
    "**Melhorando o gráfico 3D **"
   ]
  },
  {
   "cell_type": "code",
   "execution_count": null,
   "metadata": {
    "collapsed": true
   },
   "outputs": [],
   "source": []
  },
  {
   "cell_type": "markdown",
   "metadata": {},
   "source": [
    "Outra maneira utilizando LC. Uma das vantagens da LC é a velocidade na geração da matriz."
   ]
  },
  {
   "cell_type": "code",
   "execution_count": 115,
   "metadata": {
    "collapsed": false
   },
   "outputs": [
    {
     "data": {
      "text/html": [
       "<div id=\"b631a8f8-5804-4814-bce7-7e98eca6de46\" class=\"plotly-graph-div\"></div>\n",
       "\n",
       "<script>\n",
       "    window.PLOTLYENV=window.PLOTLYENV || {};\n",
       "    window.PLOTLYENV.BASE_URL=\"https://plot.ly\";\n",
       "    require(['plotly'], function(Plotly) {\n",
       "        Plotly.newPlot('b631a8f8-5804-4814-bce7-7e98eca6de46', [{\"xaxis\":\"x\",\"colorbar\":{\"title\":\"\"},\"colorscale\":[[0.0,\"rgb(0, 0, 4)\"],[0.034482758620689655,\"rgb(4, 3, 20)\"],[0.06896551724137931,\"rgb(13, 8, 41)\"],[0.10344827586206896,\"rgb(24, 12, 60)\"],[0.13793103448275862,\"rgb(38, 12, 81)\"],[0.1724137931034483,\"rgb(54, 9, 97)\"],[0.20689655172413793,\"rgb(69, 10, 105)\"],[0.2413793103448276,\"rgb(84, 15, 109)\"],[0.27586206896551724,\"rgb(97, 19, 110)\"],[0.3103448275862069,\"rgb(111, 25, 110)\"],[0.3448275862068966,\"rgb(125, 30, 109)\"],[0.3793103448275862,\"rgb(140, 35, 105)\"],[0.41379310344827586,\"rgb(154, 40, 101)\"],[0.4482758620689655,\"rgb(166, 45, 96)\"],[0.4827586206896552,\"rgb(180, 51, 89)\"],[0.5172413793103449,\"rgb(193, 58, 80)\"],[0.5517241379310345,\"rgb(206, 67, 71)\"],[0.5862068965517241,\"rgb(216, 76, 62)\"],[0.6206896551724138,\"rgb(226, 87, 52)\"],[0.6551724137931034,\"rgb(235, 100, 41)\"],[0.6896551724137931,\"rgb(241, 115, 29)\"],[0.7241379310344828,\"rgb(247, 130, 18)\"],[0.7586206896551724,\"rgb(250, 144, 8)\"],[0.7931034482758621,\"rgb(252, 161, 8)\"],[0.8275862068965517,\"rgb(252, 178, 22)\"],[0.8620689655172413,\"rgb(250, 196, 42)\"],[0.896551724137931,\"rgb(246, 213, 67)\"],[0.9310344827586207,\"rgb(243, 229, 93)\"],[0.9655172413793104,\"rgb(242, 244, 130)\"],[1.0,\"rgb(252, 255, 164)\"]],\"yaxis\":\"y\",\"showscale\":true,\"x\":[1,2,3,4,5,6,7,8,9,10,11,12,13,14,15,16,17,18,19,20,21],\"showlegend\":false,\"name\":\"y1\",\"opacity\":null,\"z\":[[1.0,1.479425538604203,1.8414709848078965,1.9974949866040546,1.9092974268256817,1.5984721441039564,1.1411200080598671,0.6492167723103801,0.2431975046920718,0.02246988233490299,0.041075725336861546,0.2944596744296081,0.7205845018010741,1.2151199880878156,1.656986598718789,1.937999976774739,1.989358246623382,1.7984871126234903,1.4121184852417565,0.9248488795381907,0.4559788891106302],[0.8775825618903728,1.3570081004945758,1.7190535466982693,1.8750775484944273,1.7868799887160545,1.4760547059943292,1.01870256995024,0.5267993342007529,0.12078006658244456,-0.09994755577472425,-0.0813417127727657,0.17204223631998083,0.5981670636914469,1.0927025499781884,1.5345691606091618,1.8155825386651117,1.8669408085137547,1.676069674513863,1.2897010471321293,0.8024314414285635,0.333561451001003],[0.5403023058681398,1.0197278444723428,1.3817732906760363,1.5377972924721943,1.4495997326938215,1.1387744499720962,0.681422313928007,0.18951907817851993,-0.21650018943978844,-0.43722781179695724,-0.4186219687949987,-0.16523801970225216,0.2608868076692139,0.7554222939559553,1.1972889045869288,1.4783022826428787,1.5296605524915217,1.33878941849163,0.9524207911098963,0.4651511854063305,-0.0037188050212300094],[0.0707372016677029,0.5501627402719059,0.9122081864755994,1.0682321882717574,0.9800346284933846,0.6692093457716594,0.2118572097275701,-0.2800460260219169,-0.6860652936402253,-0.9067929159973941,-0.8881870729954355,-0.634803123902689,-0.20867829653122294,0.28585718975551844,0.727723800386492,1.0087371784424417,1.0600954482910847,0.8692243142911932,0.4828556869094595,-0.0044139187941063945,-0.47328390922166685],[-0.4161468365471424,0.0632787020570606,0.4253241482607541,0.581348150056912,0.4931505902785393,0.18232530755681403,-0.2750268284872752,-0.7669300642367622,-1.1729493318550706,-1.3936769542122394,-1.375071111210281,-1.1216871621175344,-0.6955623347460682,-0.2010268484593269,0.24083976217164665,0.5218531402275965,0.5732114100762393,0.38234027607634785,-0.004028351305385813,-0.49129795700895174,-0.9601679474365121],[-0.8011436155469337,-0.3217180769427307,0.04032736926096281,0.19635137105712075,0.10815381127874801,-0.20267147144297726,-0.6600236074870665,-1.1519268432365535,-1.557946110854862,-1.7786737332120306,-1.7600678902100722,-1.5066839411173256,-1.0805591137458594,-0.5860236274591182,-0.14415701682814464,0.1368563612278052,0.1882146310764481,-0.002656502923443438,-0.3890251303051771,-0.876294736008743,-1.3451647264363036],[-0.9899924966004454,-0.5105669579962424,-0.1485215117925489,0.00750249000360903,-0.0806950697747637,-0.391520352496489,-0.8488724885405782,-1.3407757242900653,-1.7467949919083736,-1.9675226142655424,-1.9489167712635838,-1.6955328221708372,-1.2694079947993713,-0.7748725085126299,-0.33300589788165635,-0.05199251982570652,-0.0006342499770636278,-0.19150538397695516,-0.5778740113586889,-1.0651436170622548,-1.5340136074898152],[-0.9364566872907963,-0.45703114868659334,-0.09498570248289984,0.061038299313258104,-0.027159260465114632,-0.3379845431868399,-0.7953366792309291,-1.2872399149804161,-1.6932591825987244,-1.9139868049558935,-1.8953809619539348,-1.6419970128611883,-1.2158721854897223,-0.7213366992029808,-0.2794700885720073,0.001543289483942556,0.052901559332585446,-0.13796957466730608,-0.5243382020490397,-1.0116078077526056,-1.480477798180166],[-0.6536436208636119,-0.17421808225940894,0.18782736394428456,0.3438513657404425,0.25565380596206977,-0.0551714767596555,-0.5125236128037447,-1.0044268485532317,-1.4104461161715403,-1.6311737385287088,-1.6125678955267504,-1.3591839464340039,-0.9330591190625378,-0.4385236327757964,0.0033429778551771205,0.28435635591112696,0.33571462575976985,0.14484349175987832,-0.24152513562185535,-0.7287947413254212,-1.1976647317529818],[-0.2107957994307797,0.2686297391734233,0.6306751853771169,0.7866991871732747,0.6985016273949021,0.38767634467317674,-0.06967579137091248,-0.5615790271203995,-0.9675982947387078,-1.1883259170958766,-1.1697200740939182,-0.9163361250011717,-0.49021129762970556,0.004324188657035821,0.44619079928800937,0.7272041773439593,0.778562447192602,0.5876913131927106,0.2013226858109769,-0.285946919892589,-0.7548169103201494],[0.28366218546322625,0.7630877240674292,1.1251331702711227,1.2811571720672807,1.192959612288908,0.8821343295671826,0.42478219352309343,-0.06712104222639359,-0.47314030984470196,-0.6938679322018708,-0.6752620891999122,-0.4218781401071657,0.004246687264300386,0.49878217355104176,0.9406487841820153,1.221662162237965,1.273020432086608,1.0821492980867164,0.6957806707049828,0.20851106500141695,-0.26035892542614353],[0.70866977429126,1.188095312895463,1.5501407590991565,1.7061647608953145,1.6179672011169417,1.3071419183952164,0.8497897823511272,0.35788654660164015,-0.04813272101666821,-0.268860343373837,-0.25025450037187846,0.0031294487208680666,0.42925427609233413,0.9237897623790755,1.365656373010049,1.6466697510659989,1.698028020914642,1.5071568869147502,1.1207882595330165,0.6335186538294507,0.16464866340189022],[0.960170286650366,1.4395958252545689,1.8016412714582626,1.9576652732544204,1.8694677134760478,1.5586424307543223,1.1012902947102332,0.6093870589607462,0.20336779134243776,-0.017359831014731042,0.0012460119872275133,0.25462996107997404,0.6807547884514401,1.1752902747381815,1.617156885369155,1.8981702634251048,1.9495285332737478,1.7586573992738561,1.3722887718921226,0.8850191661885567,0.4161491757609962],[0.9765876257280235,1.4560131643322265,1.81805861053592,1.974082612332078,1.8858850525537052,1.57505976983198,1.1177076337878906,0.6258043980384036,0.2197851304200953,-0.0009424919370735196,0.017663351064885036,0.27104730015763157,0.6971721275290976,1.1917076138158391,1.6335742244468126,1.9145876025027624,1.9659458723514054,1.7750747383515137,1.38870611096978,0.9014365052662142,0.4325665148386537],[0.7539022543433046,1.2333277929475077,1.595373239151201,1.751397240947359,1.6631996811689862,1.3523743984472612,0.8950222624031718,0.40311902665368476,-0.0029002409646236016,-0.2236278633217924,-0.20502202031983385,0.04836192877291268,0.47448675614437874,0.9690222424311201,1.4108888530620938,1.6919022311180436,1.7432605009666864,1.552389366966795,1.1660207395850612,0.6787511338814953,0.20988114345393483],[0.3466353178350258,0.8260608564392289,1.1881063026429224,1.3441303044390802,1.2559327446607076,0.9451074619389823,0.487755325894893,-0.004147909854594012,-0.4101671774729024,-0.6308947998300711,-0.6122889568281127,-0.3589050077353661,0.06721981963609996,0.5617553059228413,1.003621916553815,1.2846352946097648,1.3359935644584076,1.1451224304585161,0.7587538030767824,0.2714841973732165,-0.19738579305434395],[-0.14550003380861354,0.33392550479558947,0.695970950999283,0.8519949527954409,0.7637973930170682,0.4529721102953429,-0.0043800257487463246,-0.4962832614982334,-0.9023025291165417,-1.1230301514737104,-1.104424308471752,-0.8510403593790055,-0.4249155320075394,0.06961995427920198,0.5114865649101755,0.7924999429661254,0.8438582128147682,0.6529870788148767,0.26661845143314306,-0.22065115427042284,-0.6895211446979833],[-0.6020119026848236,-0.12258636408062062,0.23945908212307287,0.3954830839192308,0.3072855241408581,-0.0035397585808671916,-0.4608918946249564,-0.9527951303744435,-1.3588143979927518,-1.5795420203499206,-1.560936177347962,-1.3075522282552154,-0.8814274008837495,-0.3868919145970081,0.05497469603396543,0.33598807408991527,0.38734634393855816,0.19647520993866663,-0.18989341744306704,-0.6771630231466329,-1.1460330135741934],[-0.9111302618846769,-0.43170472328047393,-0.06965927707678043,0.0863647247193775,-0.0018328350589952302,-0.3126581177807205,-0.7700102538248097,-1.2619134895742967,-1.667932757192605,-1.888660379549774,-1.8700545365478154,-1.6166705874550689,-1.190545760083603,-0.6960102737968614,-0.2541436631658879,0.026869714890061958,0.07822798473870485,-0.11264314926118668,-0.49901177664292035,-0.9862813823464862,-1.4551513727740466],[-0.9971721561963784,-0.5177466175921754,-0.15570117138848194,0.00032283040767600024,-0.08787472937069674,-0.398700012092422,-0.8560521481365112,-1.3479553838859983,-1.7539746515043066,-1.9747022738614755,-1.956096430859517,-1.7027124817667705,-1.2765876543953043,-0.7820521681085629,-0.3401855574775894,-0.05917217942163955,-0.007813909572996658,-0.1986850435728882,-0.5850536709546219,-1.0723232766581878,-1.5411932670857482],[-0.8390715290764524,-0.35964599047224943,0.0023994557314440668,0.158423457527602,0.07022589774922927,-0.240599384972496,-0.6979515210165852,-1.1898547567660722,-1.5958740243843805,-1.8166016467415496,-1.797995803739591,-1.5446118546468444,-1.1184870272753784,-0.6239515409886369,-0.18208493035766338,0.09892844769828646,0.15028671754692935,-0.04058441645296218,-0.42695304383469584,-0.9142226495382617,-1.383092639965822]],\"y\":[1,2,3,4,5,6,7,8,9,10,11,12,13,14,15,16,17,18,19,20,21],\"type\":\"surface\"}],\n",
       "               {\"showlegend\":true,\"paper_bgcolor\":\"rgba(255, 255, 255, 1.000)\",\"annotations\":[],\"height\":300,\"margin\":{\"l\":0,\"b\":20,\"r\":0,\"t\":20},\"plot_bgcolor\":\"rgba(255, 255, 255, 1.000)\",\"legend\":{\"bordercolor\":\"rgba(0, 0, 0, 1.000)\",\"bgcolor\":\"rgba(255, 255, 255, 1.000)\",\"font\":{\"color\":\"rgba(0, 0, 0, 1.000)\",\"family\":\"sans-serif\",\"size\":11},\"y\":1.0,\"x\":1.0},\"scene\":{\"camera\":{\"eye\":{\"y\":-1.9499999999999997,\"z\":1.3,\"x\":1.12583302491977}},\"xaxis\":{\"showticklabels\":true,\"gridwidth\":0.5,\"tickvals\":[5.0,10.0,15.0,20.0],\"visible\":true,\"ticks\":\"inside\",\"range\":[1.0,21.0],\"domain\":[0.04342957130358705,0.9921259842519685],\"tickmode\":\"array\",\"linecolor\":\"rgba(0, 0, 0, 1.000)\",\"showgrid\":true,\"title\":\"\",\"mirror\":false,\"tickangle\":0,\"showline\":true,\"gridcolor\":\"rgba(0, 0, 0, 0.100)\",\"titlefont\":{\"color\":\"rgba(0, 0, 0, 1.000)\",\"family\":\"sans-serif\",\"size\":15},\"tickcolor\":\"rgb(0, 0, 0)\",\"ticktext\":[\"5\",\"10\",\"15\",\"20\"],\"zeroline\":false,\"type\":\"-\",\"tickfont\":{\"color\":\"rgba(0, 0, 0, 1.000)\",\"family\":\"sans-serif\",\"size\":11},\"zerolinecolor\":\"rgba(0, 0, 0, 1.000)\",\"anchor\":\"y\"},\"yaxis\":{\"showticklabels\":true,\"gridwidth\":0.5,\"tickvals\":[5.0,10.0,15.0,20.0],\"visible\":true,\"ticks\":\"inside\",\"range\":[1.0,21.0],\"domain\":[0.050160396617089535,0.9868766404199475],\"tickmode\":\"array\",\"linecolor\":\"rgba(0, 0, 0, 1.000)\",\"showgrid\":true,\"title\":\"\",\"mirror\":false,\"tickangle\":0,\"showline\":true,\"gridcolor\":\"rgba(0, 0, 0, 0.100)\",\"titlefont\":{\"color\":\"rgba(0, 0, 0, 1.000)\",\"family\":\"sans-serif\",\"size\":15},\"tickcolor\":\"rgb(0, 0, 0)\",\"ticktext\":[\"5\",\"10\",\"15\",\"20\"],\"zeroline\":false,\"type\":\"-\",\"tickfont\":{\"color\":\"rgba(0, 0, 0, 1.000)\",\"family\":\"sans-serif\",\"size\":11},\"zerolinecolor\":\"rgba(0, 0, 0, 1.000)\",\"anchor\":\"x\"},\"zaxis\":{\"showticklabels\":true,\"gridwidth\":0.5,\"tickvals\":[-1.5,-1.0,-0.5,0.0,0.5,1.0,1.5],\"visible\":true,\"ticks\":\"inside\",\"range\":[-1.9747022738614755,1.9974949866040546],\"tickmode\":\"array\",\"linecolor\":\"rgba(0, 0, 0, 1.000)\",\"showgrid\":true,\"title\":\"\",\"mirror\":false,\"tickangle\":0,\"showline\":true,\"gridcolor\":\"rgba(0, 0, 0, 0.100)\",\"titlefont\":{\"color\":\"rgba(0, 0, 0, 1.000)\",\"family\":\"sans-serif\",\"size\":15},\"tickcolor\":\"rgb(0, 0, 0)\",\"ticktext\":[\"-1.5\",\"-1.0\",\"-0.5\",\"0.0\",\"0.5\",\"1.0\",\"1.5\"],\"zeroline\":false,\"type\":\"-\",\"tickfont\":{\"color\":\"rgba(0, 0, 0, 1.000)\",\"family\":\"sans-serif\",\"size\":11},\"zerolinecolor\":\"rgba(0, 0, 0, 1.000)\"}},\"width\":500}, {showLink: false});\n",
       "\n",
       "    });\n",
       " </script>\n"
      ]
     },
     "execution_count": 115,
     "metadata": {},
     "output_type": "execute_result"
    }
   ],
   "source": [
    "f2xy = [cos(x) + sin(y) for x = vetor_x ,  y = vetor_y]\n",
    "surface(f2xy,  size = (500, 300))"
   ]
  },
  {
   "cell_type": "markdown",
   "metadata": {},
   "source": [
    "#### GRAFICO CONTORNO 3D"
   ]
  },
  {
   "cell_type": "code",
   "execution_count": null,
   "metadata": {
    "collapsed": true,
    "scrolled": true
   },
   "outputs": [],
   "source": [
    "using Plots\n",
    "pyplot()\n",
    "\n",
    "z = [cos(x) + sin(y) for x = 1:0.1:10  , y = 1:0.1:10]\n",
    "\n",
    "contour3d(z)"
   ]
  },
  {
   "cell_type": "markdown",
   "metadata": {},
   "source": [
    "## INTERATIVIDADE \n",
    "\n",
    "a macro `@manipulate` do pacote `Interact` em conjunto com um pacote gráfico, permite construir gráficos interativos. Os melhores pacotes para este recurso são o GR(melhor opção) e o PyPlot em função da velocidade na geração e consistencia do gráfico gerado."
   ]
  },
  {
   "cell_type": "code",
   "execution_count": null,
   "metadata": {
    "collapsed": true,
    "scrolled": false
   },
   "outputs": [],
   "source": [
    "using Plots, Interact\n",
    "gr() # funciona melhor que PlotlyJS e PyPlot\n",
    "\n",
    "@manipulate for Grau = 0:10, Coef  = -10:10\n",
    "    plot(-10:10, x -> Coef*x^Grau + Coef*x + 5, size = (400, 300)) # função anonima\n",
    "end"
   ]
  },
  {
   "cell_type": "code",
   "execution_count": 116,
   "metadata": {
    "collapsed": false
   },
   "outputs": [
    {
     "name": "stderr",
     "output_type": "stream",
     "text": [
      "\u001b[1m\u001b[36mINFO: \u001b[39m\u001b[22m\u001b[36mRecompiling stale cache file /home/jmarcellopereira/.julia/lib/v0.6/Interact.ji for module Interact.\n",
      "\u001b[39m"
     ]
    },
    {
     "data": {
      "text/html": [
       "<div id=\"interact-js-shim\">\n",
       "    <script charset=\"utf-8\">\n",
       "(function (IPython, $, _, MathJax) {\n",
       "    $.event.special.destroyed = {\n",
       "\tremove: function(o) {\n",
       "\t    if (o.handler) {\n",
       "\t\to.handler.apply(this, arguments)\n",
       "\t    }\n",
       "\t}\n",
       "    }\n",
       "\n",
       "    var OutputArea = IPython.version >= \"4.0.0\" ? require(\"notebook/js/outputarea\").OutputArea : IPython.OutputArea;\n",
       "\n",
       "    var redrawValue = function (container, type, val) {\n",
       "\tvar selector = $(\"<div/>\");\n",
       "\tvar oa = new OutputArea(_.extend(selector, {\n",
       "\t    selector: selector,\n",
       "\t    prompt_area: true,\n",
       "\t    events: IPython.events,\n",
       "\t    keyboard_manager: IPython.keyboard_manager\n",
       "\t})); // Hack to work with IPython 2.1.0\n",
       "\n",
       "\tswitch (type) {\n",
       "\tcase \"image/png\":\n",
       "            var _src = 'data:' + type + ';base64,' + val;\n",
       "\t    $(container).find(\"img\").attr('src', _src);\n",
       "\t    break;\n",
       "\tcase \"text/latex\":\n",
       "\t\tif (MathJax){\n",
       "\t\t\tvar math = MathJax.Hub.getAllJax(container)[0];\n",
       "\t\t\tMathJax.Hub.Queue([\"Text\", math, val.replace(/^\\${1,2}|\\${1,2}$/g, '')]);\n",
       "\t\t\tbreak;\n",
       "\t\t}\n",
       "\tdefault:\n",
       "\t    var toinsert = OutputArea.append_map[type].apply(\n",
       "\t\toa, [val, {}, selector]\n",
       "\t    );\n",
       "\t    $(container).empty().append(toinsert.contents());\n",
       "\t    selector.remove();\n",
       "\t}\n",
       "    }\n",
       "\n",
       "\n",
       "    $(document).ready(function() {\n",
       "\tfunction initComm(evt, data) {\n",
       "\t    var comm_manager = data.kernel.comm_manager;\n",
       "        //_.extend(comm_manager.targets, require(\"widgets/js/widget\"))\n",
       "\t    comm_manager.register_target(\"Signal\", function (comm) {\n",
       "            comm.on_msg(function (msg) {\n",
       "                var val = msg.content.data.value;\n",
       "                $(\".signal-\" + comm.comm_id).each(function() {\n",
       "                var type = $(this).data(\"type\");\n",
       "                if (typeof(val[type]) !== \"undefined\" && val[type] !== null) {\n",
       "                    redrawValue(this, type, val[type], type);\n",
       "                }\n",
       "                });\n",
       "                delete val;\n",
       "                delete msg.content.data.value;\n",
       "            });\n",
       "\t    });\n",
       "\n",
       "\t    // coordingate with Comm and redraw Signals\n",
       "\t    // XXX: Test using Reactive here to improve performance\n",
       "\t    $([IPython.events]).on(\n",
       "\t\t'output_appended.OutputArea', function (event, type, value, md, toinsert) {\n",
       "\t\t    if (md && md.reactive) {\n",
       "                // console.log(md.comm_id);\n",
       "                toinsert.addClass(\"signal-\" + md.comm_id);\n",
       "                toinsert.data(\"type\", type);\n",
       "                // Signal back indicating the mimetype required\n",
       "                var comm_manager = IPython.notebook.kernel.comm_manager;\n",
       "                var comm = comm_manager.comms[md.comm_id];\n",
       "                comm.then(function (c) {\n",
       "                    c.send({action: \"subscribe_mime\",\n",
       "                       mime: type});\n",
       "                    toinsert.bind(\"destroyed\", function() {\n",
       "                        c.send({action: \"unsubscribe_mime\",\n",
       "                               mime: type});\n",
       "                    });\n",
       "                })\n",
       "\t\t    }\n",
       "\t    });\n",
       "\t}\n",
       "\n",
       "\ttry {\n",
       "\t    // try to initialize right away. otherwise, wait on the status_started event.\n",
       "\t    initComm(undefined, IPython.notebook);\n",
       "\t} catch (e) {\n",
       "\t    $([IPython.events]).on('kernel_created.Kernel kernel_created.Session', initComm);\n",
       "\t}\n",
       "    });\n",
       "})(IPython, jQuery, _, MathJax);\n",
       "</script>\n",
       "    <script>\n",
       "        window.interactLoadedFlag = true\n",
       "       $(\"#interact-js-shim\").bind(\"destroyed\", function () {\n",
       "           if (window.interactLoadedFlag) {\n",
       "               console.warn(\"JavaScript required by Interact will be removed if you remove this cell or run using Interact more than once.\")\n",
       "           }\n",
       "       })\n",
       "       $([IPython.events]).on(\"kernel_starting.Kernel kernel_restarting.Kernel\", function () { window.interactLoadedFlag = false })\n",
       "   </script>\n",
       "</div>"
      ]
     },
     "metadata": {},
     "output_type": "display_data"
    },
    {
     "data": {
      "text/html": [],
      "text/plain": [
       "Interact.Options{:SelectionSlider,Any}(1: \"input\" = 5 Any , \"Grau\", 5, \"5\", 6, Interact.OptionDict(DataStructures.OrderedDict{Any,Any}(\"0\"=>0,\"1\"=>1,\"2\"=>2,\"3\"=>3,\"4\"=>4,\"5\"=>5,\"6\"=>6,\"7\"=>7,\"8\"=>8,\"9\"=>9…), Dict{Any,Any}(Pair{Any,Any}(2, \"2\"),Pair{Any,Any}(0, \"0\"),Pair{Any,Any}(7, \"7\"),Pair{Any,Any}(9, \"9\"),Pair{Any,Any}(10, \"10\"),Pair{Any,Any}(8, \"8\"),Pair{Any,Any}(6, \"6\"),Pair{Any,Any}(4, \"4\"),Pair{Any,Any}(3, \"3\"),Pair{Any,Any}(5, \"5\")…)), Any[], Any[], true, \"horizontal\")"
      ]
     },
     "metadata": {},
     "output_type": "display_data"
    },
    {
     "name": "stderr",
     "output_type": "stream",
     "text": [
      "WARNING: using Interact.select in module Main conflicts with an existing identifier.\n"
     ]
    },
    {
     "data": {
      "text/html": [
       "<?xml version=\"1.0\" encoding=\"utf-8\"?>\n",
       "<svg xmlns=\"http://www.w3.org/2000/svg\" xmlns:xlink=\"http://www.w3.org/1999/xlink\" width=\"400\" height=\"300\" viewBox=\"0 0 400 300\">\n",
       "<defs>\n",
       "  <clipPath id=\"clip00\">\n",
       "    <rect x=\"0\" y=\"0\" width=\"400\" height=\"300\"/>\n",
       "  </clipPath>\n",
       "</defs>\n",
       "<polygon clip-path=\"url(#clip00)\" points=\"\n",
       "0,300 400,300 400,0 0,0 \n",
       "  \" fill=\"#ffffff\" fill-opacity=\"1\"/>\n",
       "<defs>\n",
       "  <clipPath id=\"clip01\">\n",
       "    <rect x=\"80\" y=\"0\" width=\"281\" height=\"281\"/>\n",
       "  </clipPath>\n",
       "</defs>\n",
       "<polygon clip-path=\"url(#clip00)\" points=\"\n",
       "77.7281,275.813 341.73,275.813 341.73,11.811 77.7281,11.811 \n",
       "  \" fill=\"#ffffff\" fill-opacity=\"1\"/>\n",
       "<defs>\n",
       "  <clipPath id=\"clip02\">\n",
       "    <rect x=\"77\" y=\"11\" width=\"265\" height=\"265\"/>\n",
       "  </clipPath>\n",
       "</defs>\n",
       "<polyline clip-path=\"url(#clip00)\" style=\"stroke:#ededed; stroke-width:0.7; stroke-opacity:1; fill:none\" points=\"\n",
       "  77.7281,260.218 174.36,213.432 \n",
       "  \"/>\n",
       "<polyline clip-path=\"url(#clip00)\" style=\"stroke:#ededed; stroke-width:0.7; stroke-opacity:1; fill:none\" points=\"\n",
       "  174.36,213.432 174.36,11.811 \n",
       "  \"/>\n",
       "<polyline clip-path=\"url(#clip00)\" style=\"stroke:#cccccc; stroke-width:0.7; stroke-opacity:1; fill:none\" points=\"\n",
       "  94.4651,261.778 191.097,214.991 \n",
       "  \"/>\n",
       "<polyline clip-path=\"url(#clip00)\" style=\"stroke:#cccccc; stroke-width:0.7; stroke-opacity:1; fill:none\" points=\"\n",
       "  191.097,214.991 191.097,13.3706 \n",
       "  \"/>\n",
       "<polyline clip-path=\"url(#clip00)\" style=\"stroke:#ededed; stroke-width:0.7; stroke-opacity:1; fill:none\" points=\"\n",
       "  111.202,263.337 207.834,216.551 \n",
       "  \"/>\n",
       "<polyline clip-path=\"url(#clip00)\" style=\"stroke:#ededed; stroke-width:0.7; stroke-opacity:1; fill:none\" points=\"\n",
       "  207.834,216.551 207.834,14.9301 \n",
       "  \"/>\n",
       "<polyline clip-path=\"url(#clip00)\" style=\"stroke:#cccccc; stroke-width:0.7; stroke-opacity:1; fill:none\" points=\"\n",
       "  127.939,264.897 224.571,218.11 \n",
       "  \"/>\n",
       "<polyline clip-path=\"url(#clip00)\" style=\"stroke:#cccccc; stroke-width:0.7; stroke-opacity:1; fill:none\" points=\"\n",
       "  224.571,218.11 224.571,16.4896 \n",
       "  \"/>\n",
       "<polyline clip-path=\"url(#clip00)\" style=\"stroke:#ededed; stroke-width:0.7; stroke-opacity:1; fill:none\" points=\"\n",
       "  144.676,266.456 241.308,219.67 \n",
       "  \"/>\n",
       "<polyline clip-path=\"url(#clip00)\" style=\"stroke:#ededed; stroke-width:0.7; stroke-opacity:1; fill:none\" points=\"\n",
       "  241.308,219.67 241.308,18.0492 \n",
       "  \"/>\n",
       "<polyline clip-path=\"url(#clip00)\" style=\"stroke:#cccccc; stroke-width:0.7; stroke-opacity:1; fill:none\" points=\"\n",
       "  161.413,268.016 258.045,221.229 \n",
       "  \"/>\n",
       "<polyline clip-path=\"url(#clip00)\" style=\"stroke:#cccccc; stroke-width:0.7; stroke-opacity:1; fill:none\" points=\"\n",
       "  258.045,221.229 258.045,19.6087 \n",
       "  \"/>\n",
       "<polyline clip-path=\"url(#clip00)\" style=\"stroke:#ededed; stroke-width:0.7; stroke-opacity:1; fill:none\" points=\"\n",
       "  178.151,269.575 274.782,222.789 \n",
       "  \"/>\n",
       "<polyline clip-path=\"url(#clip00)\" style=\"stroke:#ededed; stroke-width:0.7; stroke-opacity:1; fill:none\" points=\"\n",
       "  274.782,222.789 274.782,21.1683 \n",
       "  \"/>\n",
       "<polyline clip-path=\"url(#clip00)\" style=\"stroke:#cccccc; stroke-width:0.7; stroke-opacity:1; fill:none\" points=\"\n",
       "  194.888,271.135 291.519,224.349 \n",
       "  \"/>\n",
       "<polyline clip-path=\"url(#clip00)\" style=\"stroke:#cccccc; stroke-width:0.7; stroke-opacity:1; fill:none\" points=\"\n",
       "  291.519,224.349 291.519,22.7278 \n",
       "  \"/>\n",
       "<polyline clip-path=\"url(#clip00)\" style=\"stroke:#ededed; stroke-width:0.7; stroke-opacity:1; fill:none\" points=\"\n",
       "  211.625,272.694 308.256,225.908 \n",
       "  \"/>\n",
       "<polyline clip-path=\"url(#clip00)\" style=\"stroke:#ededed; stroke-width:0.7; stroke-opacity:1; fill:none\" points=\"\n",
       "  308.256,225.908 308.256,24.2874 \n",
       "  \"/>\n",
       "<polyline clip-path=\"url(#clip00)\" style=\"stroke:#cccccc; stroke-width:0.7; stroke-opacity:1; fill:none\" points=\"\n",
       "  228.362,274.254 324.993,227.468 \n",
       "  \"/>\n",
       "<polyline clip-path=\"url(#clip00)\" style=\"stroke:#cccccc; stroke-width:0.7; stroke-opacity:1; fill:none\" points=\"\n",
       "  324.993,227.468 324.993,25.8469 \n",
       "  \"/>\n",
       "<polyline clip-path=\"url(#clip00)\" style=\"stroke:#ededed; stroke-width:0.7; stroke-opacity:1; fill:none\" points=\"\n",
       "  245.099,275.813 341.73,229.027 \n",
       "  \"/>\n",
       "<polyline clip-path=\"url(#clip00)\" style=\"stroke:#ededed; stroke-width:0.7; stroke-opacity:1; fill:none\" points=\"\n",
       "  341.73,229.027 341.73,27.4064 \n",
       "  \"/>\n",
       "<polyline clip-path=\"url(#clip00)\" style=\"stroke:#ededed; stroke-width:0.7; stroke-opacity:1; fill:none\" points=\"\n",
       "  77.7281,260.218 245.099,275.813 \n",
       "  \"/>\n",
       "<polyline clip-path=\"url(#clip00)\" style=\"stroke:#ededed; stroke-width:0.7; stroke-opacity:1; fill:none\" points=\"\n",
       "  77.7281,260.218 77.7281,58.5973 \n",
       "  \"/>\n",
       "<polyline clip-path=\"url(#clip00)\" style=\"stroke:#cccccc; stroke-width:0.7; stroke-opacity:1; fill:none\" points=\"\n",
       "  87.3912,255.539 254.762,271.135 \n",
       "  \"/>\n",
       "<polyline clip-path=\"url(#clip00)\" style=\"stroke:#cccccc; stroke-width:0.7; stroke-opacity:1; fill:none\" points=\"\n",
       "  87.3912,255.539 87.3912,53.9187 \n",
       "  \"/>\n",
       "<polyline clip-path=\"url(#clip00)\" style=\"stroke:#ededed; stroke-width:0.7; stroke-opacity:1; fill:none\" points=\"\n",
       "  97.0544,250.861 264.425,266.456 \n",
       "  \"/>\n",
       "<polyline clip-path=\"url(#clip00)\" style=\"stroke:#ededed; stroke-width:0.7; stroke-opacity:1; fill:none\" points=\"\n",
       "  97.0544,250.861 97.0544,49.24 \n",
       "  \"/>\n",
       "<polyline clip-path=\"url(#clip00)\" style=\"stroke:#cccccc; stroke-width:0.7; stroke-opacity:1; fill:none\" points=\"\n",
       "  106.718,246.182 274.088,261.778 \n",
       "  \"/>\n",
       "<polyline clip-path=\"url(#clip00)\" style=\"stroke:#cccccc; stroke-width:0.7; stroke-opacity:1; fill:none\" points=\"\n",
       "  106.718,246.182 106.718,44.5614 \n",
       "  \"/>\n",
       "<polyline clip-path=\"url(#clip00)\" style=\"stroke:#ededed; stroke-width:0.7; stroke-opacity:1; fill:none\" points=\"\n",
       "  116.381,241.504 283.752,257.099 \n",
       "  \"/>\n",
       "<polyline clip-path=\"url(#clip00)\" style=\"stroke:#ededed; stroke-width:0.7; stroke-opacity:1; fill:none\" points=\"\n",
       "  116.381,241.504 116.381,39.8828 \n",
       "  \"/>\n",
       "<polyline clip-path=\"url(#clip00)\" style=\"stroke:#cccccc; stroke-width:0.7; stroke-opacity:1; fill:none\" points=\"\n",
       "  126.044,236.825 293.415,252.42 \n",
       "  \"/>\n",
       "<polyline clip-path=\"url(#clip00)\" style=\"stroke:#cccccc; stroke-width:0.7; stroke-opacity:1; fill:none\" points=\"\n",
       "  126.044,236.825 126.044,35.2042 \n",
       "  \"/>\n",
       "<polyline clip-path=\"url(#clip00)\" style=\"stroke:#ededed; stroke-width:0.7; stroke-opacity:1; fill:none\" points=\"\n",
       "  135.707,232.146 303.078,247.742 \n",
       "  \"/>\n",
       "<polyline clip-path=\"url(#clip00)\" style=\"stroke:#ededed; stroke-width:0.7; stroke-opacity:1; fill:none\" points=\"\n",
       "  135.707,232.146 135.707,30.5255 \n",
       "  \"/>\n",
       "<polyline clip-path=\"url(#clip00)\" style=\"stroke:#cccccc; stroke-width:0.7; stroke-opacity:1; fill:none\" points=\"\n",
       "  145.37,227.468 312.741,243.063 \n",
       "  \"/>\n",
       "<polyline clip-path=\"url(#clip00)\" style=\"stroke:#cccccc; stroke-width:0.7; stroke-opacity:1; fill:none\" points=\"\n",
       "  145.37,227.468 145.37,25.8469 \n",
       "  \"/>\n",
       "<polyline clip-path=\"url(#clip00)\" style=\"stroke:#ededed; stroke-width:0.7; stroke-opacity:1; fill:none\" points=\"\n",
       "  155.033,222.789 322.404,238.384 \n",
       "  \"/>\n",
       "<polyline clip-path=\"url(#clip00)\" style=\"stroke:#ededed; stroke-width:0.7; stroke-opacity:1; fill:none\" points=\"\n",
       "  155.033,222.789 155.033,21.1683 \n",
       "  \"/>\n",
       "<polyline clip-path=\"url(#clip00)\" style=\"stroke:#cccccc; stroke-width:0.7; stroke-opacity:1; fill:none\" points=\"\n",
       "  164.696,218.11 332.067,233.706 \n",
       "  \"/>\n",
       "<polyline clip-path=\"url(#clip00)\" style=\"stroke:#cccccc; stroke-width:0.7; stroke-opacity:1; fill:none\" points=\"\n",
       "  164.696,218.11 164.696,16.4896 \n",
       "  \"/>\n",
       "<polyline clip-path=\"url(#clip00)\" style=\"stroke:#ededed; stroke-width:0.7; stroke-opacity:1; fill:none\" points=\"\n",
       "  174.36,213.432 341.73,229.027 \n",
       "  \"/>\n",
       "<polyline clip-path=\"url(#clip00)\" style=\"stroke:#ededed; stroke-width:0.7; stroke-opacity:1; fill:none\" points=\"\n",
       "  174.36,213.432 174.36,11.811 \n",
       "  \"/>\n",
       "<polyline clip-path=\"url(#clip00)\" style=\"stroke:#cccccc; stroke-width:0.7; stroke-opacity:1; fill:none\" points=\"\n",
       "  77.7281,260.218 174.36,213.432 \n",
       "  \"/>\n",
       "<polyline clip-path=\"url(#clip00)\" style=\"stroke:#cccccc; stroke-width:0.7; stroke-opacity:1; fill:none\" points=\"\n",
       "  174.36,213.432 341.73,229.027 \n",
       "  \"/>\n",
       "<polyline clip-path=\"url(#clip00)\" style=\"stroke:#ededed; stroke-width:0.7; stroke-opacity:1; fill:none\" points=\"\n",
       "  77.7281,235.015 174.36,188.229 \n",
       "  \"/>\n",
       "<polyline clip-path=\"url(#clip00)\" style=\"stroke:#ededed; stroke-width:0.7; stroke-opacity:1; fill:none\" points=\"\n",
       "  174.36,188.229 341.73,203.825 \n",
       "  \"/>\n",
       "<polyline clip-path=\"url(#clip00)\" style=\"stroke:#cccccc; stroke-width:0.7; stroke-opacity:1; fill:none\" points=\"\n",
       "  77.7281,209.813 174.36,163.027 \n",
       "  \"/>\n",
       "<polyline clip-path=\"url(#clip00)\" style=\"stroke:#cccccc; stroke-width:0.7; stroke-opacity:1; fill:none\" points=\"\n",
       "  174.36,163.027 341.73,178.622 \n",
       "  \"/>\n",
       "<polyline clip-path=\"url(#clip00)\" style=\"stroke:#ededed; stroke-width:0.7; stroke-opacity:1; fill:none\" points=\"\n",
       "  77.7281,184.61 174.36,137.824 \n",
       "  \"/>\n",
       "<polyline clip-path=\"url(#clip00)\" style=\"stroke:#ededed; stroke-width:0.7; stroke-opacity:1; fill:none\" points=\"\n",
       "  174.36,137.824 341.73,153.419 \n",
       "  \"/>\n",
       "<polyline clip-path=\"url(#clip00)\" style=\"stroke:#cccccc; stroke-width:0.7; stroke-opacity:1; fill:none\" points=\"\n",
       "  77.7281,159.408 174.36,112.621 \n",
       "  \"/>\n",
       "<polyline clip-path=\"url(#clip00)\" style=\"stroke:#cccccc; stroke-width:0.7; stroke-opacity:1; fill:none\" points=\"\n",
       "  174.36,112.621 341.73,128.217 \n",
       "  \"/>\n",
       "<polyline clip-path=\"url(#clip00)\" style=\"stroke:#ededed; stroke-width:0.7; stroke-opacity:1; fill:none\" points=\"\n",
       "  77.7281,134.205 174.36,87.4188 \n",
       "  \"/>\n",
       "<polyline clip-path=\"url(#clip00)\" style=\"stroke:#ededed; stroke-width:0.7; stroke-opacity:1; fill:none\" points=\"\n",
       "  174.36,87.4188 341.73,103.014 \n",
       "  \"/>\n",
       "<polyline clip-path=\"url(#clip00)\" style=\"stroke:#cccccc; stroke-width:0.7; stroke-opacity:1; fill:none\" points=\"\n",
       "  77.7281,109.002 174.36,62.2162 \n",
       "  \"/>\n",
       "<polyline clip-path=\"url(#clip00)\" style=\"stroke:#cccccc; stroke-width:0.7; stroke-opacity:1; fill:none\" points=\"\n",
       "  174.36,62.2162 341.73,77.8116 \n",
       "  \"/>\n",
       "<polyline clip-path=\"url(#clip00)\" style=\"stroke:#ededed; stroke-width:0.7; stroke-opacity:1; fill:none\" points=\"\n",
       "  77.7281,83.7999 174.36,37.0136 \n",
       "  \"/>\n",
       "<polyline clip-path=\"url(#clip00)\" style=\"stroke:#ededed; stroke-width:0.7; stroke-opacity:1; fill:none\" points=\"\n",
       "  174.36,37.0136 341.73,52.609 \n",
       "  \"/>\n",
       "<polyline clip-path=\"url(#clip00)\" style=\"stroke:#cccccc; stroke-width:0.7; stroke-opacity:1; fill:none\" points=\"\n",
       "  77.7281,58.5973 174.36,11.811 \n",
       "  \"/>\n",
       "<polyline clip-path=\"url(#clip00)\" style=\"stroke:#cccccc; stroke-width:0.7; stroke-opacity:1; fill:none\" points=\"\n",
       "  174.36,11.811 341.73,27.4064 \n",
       "  \"/>\n",
       "<polyline clip-path=\"url(#clip00)\" style=\"stroke:#000000; stroke-width:1; stroke-opacity:1; fill:none\" points=\"\n",
       "  42.3201,227.045 48.3194,224.141 \n",
       "  \"/>\n",
       "<polyline clip-path=\"url(#clip00)\" style=\"stroke:#000000; stroke-width:1; stroke-opacity:1; fill:none\" points=\"\n",
       "  54.6521,216.137 51.3191,217.751 50.9858,221.615 51.3191,221.043 52.319,220.147 53.3189,219.663 54.3188,219.59 54.9854,220.09 55.3187,221.163 55.3187,221.986 \n",
       "  54.9854,223.382 54.3188,224.527 53.3189,225.423 52.319,225.907 51.3191,225.98 50.9858,225.73 50.6525,225.068 \n",
       "  \"/>\n",
       "<polyline clip-path=\"url(#clip00)\" style=\"stroke:#000000; stroke-width:1; stroke-opacity:1; fill:none\" points=\"\n",
       "  59.3182,213.878 58.3183,214.774 57.6517,216.331 57.3184,218.549 57.3184,219.784 57.6517,221.679 58.3183,222.591 59.3182,222.518 59.9848,222.195 60.9847,221.3 \n",
       "  61.6513,219.743 61.9846,217.524 61.9846,216.29 61.6513,214.394 60.9847,213.483 59.9848,213.555 59.3182,213.878 \n",
       "  \"/>\n",
       "<polyline clip-path=\"url(#clip00)\" style=\"stroke:#000000; stroke-width:1; stroke-opacity:1; fill:none\" points=\"\n",
       "  65.9842,210.651 64.9843,211.546 64.3177,213.103 63.9844,215.322 63.9844,216.556 64.3177,218.452 64.9843,219.363 65.9842,219.291 66.6507,218.968 67.6506,218.072 \n",
       "  68.3172,216.515 68.6505,214.297 68.6505,213.063 68.3172,211.167 67.6506,210.255 66.6507,210.328 65.9842,210.651 \n",
       "  \"/>\n",
       "<polyline clip-path=\"url(#clip00)\" style=\"stroke:#000000; stroke-width:1; stroke-opacity:1; fill:none\" points=\"\n",
       "  72.6501,207.423 71.6502,208.319 70.9836,209.876 70.6503,212.094 70.6503,213.329 70.9836,215.224 71.6502,216.136 72.6501,216.063 73.3167,215.74 74.3166,214.845 \n",
       "  74.9832,213.288 75.3165,211.069 75.3165,209.835 74.9832,207.939 74.3166,207.028 73.3167,207.1 72.6501,207.423 \n",
       "  \"/>\n",
       "<polyline clip-path=\"url(#clip00)\" style=\"stroke:#000000; stroke-width:1; stroke-opacity:1; fill:none\" points=\"\n",
       "  72.6501,157.018 71.6502,157.914 70.9836,159.471 70.6503,161.689 70.6503,162.923 70.9836,164.819 71.6502,165.731 72.6501,165.658 73.3167,165.335 74.3166,164.44 \n",
       "  74.9832,162.883 75.3165,160.664 75.3165,159.43 74.9832,157.534 74.3166,156.623 73.3167,156.695 72.6501,157.018 \n",
       "  \"/>\n",
       "<polyline clip-path=\"url(#clip00)\" style=\"stroke:#000000; stroke-width:1; stroke-opacity:1; fill:none\" points=\"\n",
       "  54.6521,115.327 51.3191,116.941 50.9858,120.805 51.3191,120.232 52.319,119.337 53.3189,118.852 54.3188,118.78 54.9854,119.28 55.3187,120.353 55.3187,121.176 \n",
       "  54.9854,122.571 54.3188,123.717 53.3189,124.612 52.319,125.097 51.3191,125.169 50.9858,124.919 50.6525,124.258 \n",
       "  \"/>\n",
       "<polyline clip-path=\"url(#clip00)\" style=\"stroke:#000000; stroke-width:1; stroke-opacity:1; fill:none\" points=\"\n",
       "  59.3182,113.068 58.3183,113.963 57.6517,115.52 57.3184,117.739 57.3184,118.973 57.6517,120.869 58.3183,121.78 59.3182,121.708 59.9848,121.385 60.9847,120.489 \n",
       "  61.6513,118.932 61.9846,116.714 61.9846,115.48 61.6513,113.584 60.9847,112.672 59.9848,112.745 59.3182,113.068 \n",
       "  \"/>\n",
       "<polyline clip-path=\"url(#clip00)\" style=\"stroke:#000000; stroke-width:1; stroke-opacity:1; fill:none\" points=\"\n",
       "  65.9842,109.84 64.9843,110.736 64.3177,112.293 63.9844,114.511 63.9844,115.746 64.3177,117.641 64.9843,118.553 65.9842,118.48 66.6507,118.158 67.6506,117.262 \n",
       "  68.3172,115.705 68.6505,113.486 68.6505,112.252 68.3172,110.356 67.6506,109.445 66.6507,109.518 65.9842,109.84 \n",
       "  \"/>\n",
       "<polyline clip-path=\"url(#clip00)\" style=\"stroke:#000000; stroke-width:1; stroke-opacity:1; fill:none\" points=\"\n",
       "  72.6501,106.613 71.6502,107.508 70.9836,109.065 70.6503,111.284 70.6503,112.518 70.9836,114.414 71.6502,115.326 72.6501,115.253 73.3167,114.93 74.3166,114.035 \n",
       "  74.9832,112.478 75.3165,110.259 75.3165,109.025 74.9832,107.129 74.3166,106.217 73.3167,106.29 72.6501,106.613 \n",
       "  \"/>\n",
       "<polyline clip-path=\"url(#clip00)\" style=\"stroke:#000000; stroke-width:1; stroke-opacity:1; fill:none\" points=\"\n",
       "  44.9865,71.2473 45.6531,70.5131 46.653,68.7947 46.653,77.4347 \n",
       "  \"/>\n",
       "<polyline clip-path=\"url(#clip00)\" style=\"stroke:#000000; stroke-width:1; stroke-opacity:1; fill:none\" points=\"\n",
       "  52.6523,65.89 51.6524,66.7856 50.9858,68.3426 50.6525,70.5611 50.6525,71.7954 50.9858,73.6912 51.6524,74.6027 52.6523,74.53 53.3189,74.2073 54.3188,73.3117 \n",
       "  54.9854,71.7547 55.3187,69.5362 55.3187,68.3019 54.9854,66.4061 54.3188,65.4946 53.3189,65.5673 52.6523,65.89 \n",
       "  \"/>\n",
       "<polyline clip-path=\"url(#clip00)\" style=\"stroke:#000000; stroke-width:1; stroke-opacity:1; fill:none\" points=\"\n",
       "  59.3182,62.6626 58.3183,63.5581 57.6517,65.1152 57.3184,67.3337 57.3184,68.568 57.6517,70.4637 58.3183,71.3753 59.3182,71.3026 59.9848,70.9798 60.9847,70.0843 \n",
       "  61.6513,68.5273 61.9846,66.3087 61.9846,65.0745 61.6513,63.1787 60.9847,62.2671 59.9848,62.3398 59.3182,62.6626 \n",
       "  \"/>\n",
       "<polyline clip-path=\"url(#clip00)\" style=\"stroke:#000000; stroke-width:1; stroke-opacity:1; fill:none\" points=\"\n",
       "  65.9842,59.4351 64.9843,60.3307 64.3177,61.8877 63.9844,64.1062 63.9844,65.3405 64.3177,67.2363 64.9843,68.1478 65.9842,68.0751 66.6507,67.7524 67.6506,66.8568 \n",
       "  68.3172,65.2998 68.6505,63.0813 68.6505,61.847 68.3172,59.9512 67.6506,59.0397 66.6507,59.1124 65.9842,59.4351 \n",
       "  \"/>\n",
       "<polyline clip-path=\"url(#clip00)\" style=\"stroke:#000000; stroke-width:1; stroke-opacity:1; fill:none\" points=\"\n",
       "  72.6501,56.2077 71.6502,57.1032 70.9836,58.6602 70.6503,60.8788 70.6503,62.113 70.9836,64.0088 71.6502,64.9204 72.6501,64.8477 73.3167,64.5249 74.3166,63.6294 \n",
       "  74.9832,62.0723 75.3165,59.8538 75.3165,58.6195 74.9832,56.7238 74.3166,55.8122 73.3167,55.8849 72.6501,56.2077 \n",
       "  \"/>\n",
       "<polyline clip-path=\"url(#clip00)\" style=\"stroke:#000000; stroke-width:0.7; stroke-opacity:1; fill:none\" points=\"\n",
       "  77.7281,260.218 77.7281,260.218 75.7954,261.154 77.7281,260.218 77.7281,235.015 76.7617,235.483 77.7281,235.015 77.7281,209.813 75.7954,210.749 77.7281,209.813 \n",
       "  77.7281,184.61 76.7617,185.078 77.7281,184.61 77.7281,159.408 75.7954,160.343 77.7281,159.408 77.7281,134.205 76.7617,134.673 77.7281,134.205 77.7281,109.002 \n",
       "  75.7954,109.938 77.7281,109.002 77.7281,83.7999 76.7617,84.2677 77.7281,83.7999 77.7281,58.5973 75.7954,59.533 77.7281,58.5973 \n",
       "  \"/>\n",
       "<polyline clip-path=\"url(#clip00)\" style=\"stroke:#000000; stroke-width:1; stroke-opacity:1; fill:none\" points=\"\n",
       "  82.8224,269.424 90.1643,270.108 \n",
       "  \"/>\n",
       "<polyline clip-path=\"url(#clip00)\" style=\"stroke:#000000; stroke-width:1; stroke-opacity:1; fill:none\" points=\"\n",
       "  97.0984,265.817 93.0195,271.197 99.1379,271.767 \n",
       "  \"/>\n",
       "<polyline clip-path=\"url(#clip00)\" style=\"stroke:#000000; stroke-width:1; stroke-opacity:1; fill:none\" points=\"\n",
       "  97.0984,265.817 97.0984,274.457 \n",
       "  \"/>\n",
       "<polyline clip-path=\"url(#clip00)\" style=\"stroke:#000000; stroke-width:1; stroke-opacity:1; fill:none\" points=\"\n",
       "  116.297,272.543 123.639,273.227 \n",
       "  \"/>\n",
       "<polyline clip-path=\"url(#clip00)\" style=\"stroke:#000000; stroke-width:1; stroke-opacity:1; fill:none\" points=\"\n",
       "  126.902,270.651 126.902,270.239 127.309,269.455 127.717,269.081 128.533,268.746 130.165,268.898 130.98,269.385 131.388,269.835 131.796,270.695 131.796,271.518 \n",
       "  131.388,272.303 130.573,273.461 126.494,277.196 132.204,277.728 \n",
       "  \"/>\n",
       "<polyline clip-path=\"url(#clip00)\" style=\"stroke:#000000; stroke-width:1; stroke-opacity:1; fill:none\" points=\"\n",
       "  157.113,271.409 155.889,271.706 155.073,272.864 154.665,274.884 154.665,276.118 155.073,278.213 155.889,279.523 157.113,280.049 157.928,280.125 159.152,279.827 \n",
       "  159.968,278.669 160.376,276.65 160.376,275.416 159.968,273.32 159.152,272.01 157.928,271.485 157.113,271.409 \n",
       "  \"/>\n",
       "<polyline clip-path=\"url(#clip00)\" style=\"stroke:#000000; stroke-width:1; stroke-opacity:1; fill:none\" points=\"\n",
       "  188.547,276.395 188.547,275.983 188.955,275.199 189.363,274.825 190.179,274.49 191.81,274.642 192.626,275.129 193.034,275.579 193.442,276.44 193.442,277.262 \n",
       "  193.034,278.047 192.218,279.206 188.14,282.94 193.85,283.472 \n",
       "  \"/>\n",
       "<polyline clip-path=\"url(#clip00)\" style=\"stroke:#000000; stroke-width:1; stroke-opacity:1; fill:none\" points=\"\n",
       "  225.693,277.799 221.614,283.179 227.732,283.749 \n",
       "  \"/>\n",
       "<polyline clip-path=\"url(#clip00)\" style=\"stroke:#000000; stroke-width:1; stroke-opacity:1; fill:none\" points=\"\n",
       "  225.693,277.799 225.693,286.439 \n",
       "  \"/>\n",
       "<polyline clip-path=\"url(#clip00)\" style=\"stroke:#000000; stroke-width:0.7; stroke-opacity:1; fill:none\" points=\"\n",
       "  77.7281,260.218 77.7281,260.218 76.7617,260.686 77.7281,260.218 94.4651,261.778 92.5325,262.713 94.4651,261.778 111.202,263.337 110.236,263.805 111.202,263.337 \n",
       "  127.939,264.897 126.007,265.832 127.939,264.897 144.676,266.456 143.71,266.924 144.676,266.456 161.413,268.016 159.481,268.951 161.413,268.016 178.151,269.575 \n",
       "  177.184,270.043 178.151,269.575 194.888,271.135 192.955,272.071 194.888,271.135 211.625,272.694 210.658,273.162 211.625,272.694 228.362,274.254 226.429,275.19 \n",
       "  228.362,274.254 245.099,275.813 244.133,276.281 245.099,275.813 \n",
       "  \"/>\n",
       "<polyline clip-path=\"url(#clip00)\" style=\"stroke:#000000; stroke-width:1; stroke-opacity:1; fill:none\" points=\"\n",
       "  258.119,280.609 264.119,277.704 \n",
       "  \"/>\n",
       "<polyline clip-path=\"url(#clip00)\" style=\"stroke:#000000; stroke-width:1; stroke-opacity:1; fill:none\" points=\"\n",
       "  269.785,270.024 266.452,277.397 271.451,274.977 \n",
       "  \"/>\n",
       "<polyline clip-path=\"url(#clip00)\" style=\"stroke:#000000; stroke-width:1; stroke-opacity:1; fill:none\" points=\"\n",
       "  269.785,270.024 269.785,278.664 \n",
       "  \"/>\n",
       "<polyline clip-path=\"url(#clip00)\" style=\"stroke:#000000; stroke-width:1; stroke-opacity:1; fill:none\" points=\"\n",
       "  277.446,271.251 283.445,268.347 \n",
       "  \"/>\n",
       "<polyline clip-path=\"url(#clip00)\" style=\"stroke:#000000; stroke-width:1; stroke-opacity:1; fill:none\" points=\"\n",
       "  286.111,264.176 286.111,263.764 286.445,262.78 286.778,262.207 287.445,261.473 288.778,260.828 289.444,260.916 289.778,261.166 290.111,261.828 290.111,262.651 \n",
       "  289.778,263.635 289.111,265.192 285.778,270.92 290.444,268.661 \n",
       "  \"/>\n",
       "<polyline clip-path=\"url(#clip00)\" style=\"stroke:#000000; stroke-width:1; stroke-opacity:1; fill:none\" points=\"\n",
       "  302.771,254.052 301.771,254.948 301.105,256.505 300.772,258.723 300.772,259.958 301.105,261.854 301.771,262.765 302.771,262.692 303.438,262.37 304.438,261.474 \n",
       "  305.104,259.917 305.438,257.699 305.438,256.464 305.104,254.568 304.438,253.657 303.438,253.73 302.771,254.052 \n",
       "  \"/>\n",
       "<polyline clip-path=\"url(#clip00)\" style=\"stroke:#000000; stroke-width:1; stroke-opacity:1; fill:none\" points=\"\n",
       "  320.431,247.559 320.431,247.148 320.764,246.163 321.098,245.591 321.764,244.856 323.097,244.211 323.764,244.3 324.097,244.55 324.431,245.211 324.431,246.034 \n",
       "  324.097,247.018 323.431,248.575 320.098,254.303 324.764,252.044 \n",
       "  \"/>\n",
       "<polyline clip-path=\"url(#clip00)\" style=\"stroke:#000000; stroke-width:1; stroke-opacity:1; fill:none\" points=\"\n",
       "  342.757,234.692 339.424,242.066 344.424,239.646 \n",
       "  \"/>\n",
       "<polyline clip-path=\"url(#clip00)\" style=\"stroke:#000000; stroke-width:1; stroke-opacity:1; fill:none\" points=\"\n",
       "  342.757,234.692 342.757,243.332 \n",
       "  \"/>\n",
       "<polyline clip-path=\"url(#clip00)\" style=\"stroke:#000000; stroke-width:0.7; stroke-opacity:1; fill:none\" points=\"\n",
       "  245.099,275.813 245.099,275.813 246.773,275.969 245.099,275.813 254.762,271.135 258.109,271.447 254.762,271.135 264.425,266.456 266.099,266.612 264.425,266.456 \n",
       "  274.088,261.778 277.436,262.089 274.088,261.778 283.752,257.099 285.425,257.255 283.752,257.099 293.415,252.42 296.762,252.732 293.415,252.42 303.078,247.742 \n",
       "  304.752,247.898 303.078,247.742 312.741,243.063 316.088,243.375 312.741,243.063 322.404,238.384 324.078,238.54 322.404,238.384 332.067,233.706 335.415,234.018 \n",
       "  332.067,233.706 341.73,229.027 343.404,229.183 341.73,229.027 \n",
       "  \"/>\n",
       "<polyline clip-path=\"url(#clip02)\" style=\"stroke:#009af9; stroke-width:1; stroke-opacity:1; fill:none\" points=\"\n",
       "  77.7281,222.414 78.611,220.231 79.494,218.102 80.3769,216.028 81.2599,214.007 82.1428,212.038 83.0258,210.12 83.9087,208.251 84.7917,206.432 85.6746,204.66 \n",
       "  86.5576,202.935 87.4405,201.256 88.3235,199.622 89.2064,198.032 90.0894,196.484 90.9723,194.979 91.8553,193.514 92.7382,192.09 93.6212,190.705 94.5041,189.358 \n",
       "  95.3871,188.049 96.27,186.776 97.153,185.54 98.0359,184.338 98.9189,183.17 99.8018,182.036 100.685,180.934 101.568,179.864 102.451,178.826 103.334,177.817 \n",
       "  104.217,176.838 105.1,175.888 105.983,174.965 106.865,174.071 107.748,173.202 108.631,172.36 109.514,171.544 110.397,170.751 111.28,169.983 112.163,169.239 \n",
       "  113.046,168.517 113.929,167.817 114.812,167.138 115.695,166.481 116.578,165.844 117.461,165.227 118.344,164.629 119.227,164.05 120.11,163.489 120.993,162.946 \n",
       "  121.876,162.42 122.759,161.91 123.642,161.417 124.524,160.939 125.407,160.476 126.29,160.028 127.173,159.595 128.056,159.175 128.939,158.768 129.822,158.375 \n",
       "  130.705,157.994 131.588,157.625 132.471,157.267 133.354,156.921 134.237,156.586 135.12,156.262 136.003,155.947 136.886,155.643 137.769,155.348 138.652,155.062 \n",
       "  139.535,154.785 140.418,154.516 141.301,154.256 142.184,154.003 143.066,153.758 143.949,153.52 144.832,153.289 145.715,153.065 146.598,152.847 147.481,152.636 \n",
       "  148.364,152.43 149.247,152.23 150.13,152.036 151.013,151.847 151.896,151.662 152.779,151.483 153.662,151.307 154.545,151.137 155.428,150.97 156.311,150.807 \n",
       "  157.194,150.648 158.077,150.493 158.96,150.341 159.843,150.192 160.725,150.046 161.608,149.903 162.491,149.763 163.374,149.625 164.257,149.49 165.14,149.357 \n",
       "  166.023,149.227 166.906,149.098 167.789,148.971 168.672,148.846 169.555,148.723 170.438,148.602 171.321,148.481 172.204,148.363 173.087,148.245 173.97,148.129 \n",
       "  174.853,148.014 175.736,147.9 176.619,147.787 177.502,147.674 178.385,147.563 179.267,147.452 180.15,147.342 181.033,147.233 181.916,147.124 182.799,147.016 \n",
       "  183.682,146.908 184.565,146.801 185.448,146.694 186.331,146.588 187.214,146.481 188.097,146.375 188.98,146.27 189.863,146.164 190.746,146.059 191.629,145.954 \n",
       "  192.512,145.849 193.395,145.744 194.278,145.639 195.161,145.535 196.044,145.43 196.926,145.325 197.809,145.221 198.692,145.116 199.575,145.012 200.458,144.908 \n",
       "  201.341,144.803 202.224,144.699 203.107,144.595 203.99,144.49 204.873,144.386 205.756,144.282 206.639,144.177 207.522,144.073 208.405,143.969 209.288,143.864 \n",
       "  210.171,143.76 211.054,143.656 211.937,143.551 212.82,143.447 213.703,143.343 214.586,143.238 215.468,143.134 216.351,143.03 217.234,142.926 218.117,142.821 \n",
       "  219,142.717 219.883,142.612 220.766,142.508 221.649,142.404 222.532,142.299 223.415,142.195 224.298,142.09 225.181,141.985 226.064,141.881 226.947,141.776 \n",
       "  227.83,141.671 228.713,141.566 229.596,141.46 230.479,141.355 231.362,141.249 232.245,141.143 233.127,141.037 234.01,140.93 234.893,140.823 235.776,140.716 \n",
       "  236.659,140.608 237.542,140.5 238.425,140.391 239.308,140.282 240.191,140.172 241.074,140.061 241.957,139.95 242.84,139.838 243.723,139.725 244.606,139.611 \n",
       "  245.489,139.495 246.372,139.379 247.255,139.262 248.138,139.143 249.021,139.023 249.904,138.901 250.787,138.778 251.669,138.653 252.552,138.526 253.435,138.398 \n",
       "  254.318,138.267 255.201,138.134 256.084,137.999 256.967,137.861 257.85,137.721 258.733,137.578 259.616,137.433 260.499,137.284 261.382,137.132 262.265,136.976 \n",
       "  263.148,136.817 264.031,136.654 264.914,136.488 265.797,136.317 266.68,136.142 267.563,135.962 268.446,135.778 269.328,135.589 270.211,135.394 271.094,135.194 \n",
       "  271.977,134.989 272.86,134.777 273.743,134.559 274.626,134.335 275.509,134.104 276.392,133.867 277.275,133.621 278.158,133.369 279.041,133.108 279.924,132.84 \n",
       "  280.807,132.563 281.69,132.277 282.573,131.982 283.456,131.677 284.339,131.363 285.222,131.038 286.105,130.703 286.988,130.357 287.87,130 288.753,129.631 \n",
       "  289.636,129.25 290.519,128.856 291.402,128.45 292.285,128.03 293.168,127.596 294.051,127.148 294.934,126.685 295.817,126.208 296.7,125.714 297.583,125.205 \n",
       "  298.466,124.678 299.349,124.135 300.232,123.574 301.115,122.995 301.998,122.397 302.881,121.78 303.764,121.143 304.647,120.486 305.529,119.808 306.412,119.108 \n",
       "  307.295,118.386 308.178,117.641 309.061,116.873 309.944,116.081 310.827,115.264 311.71,114.422 312.593,113.554 313.476,112.659 314.359,111.737 315.242,110.787 \n",
       "  316.125,109.807 317.008,108.799 317.891,107.76 318.774,106.69 319.657,105.588 320.54,104.454 321.423,103.287 322.306,102.085 323.189,100.848 324.071,99.5756 \n",
       "  324.954,98.2664 325.837,96.9197 326.72,95.5347 327.603,94.1104 328.486,92.646 329.369,91.1404 330.252,89.593 331.135,88.0026 332.018,86.3683 332.901,84.6892 \n",
       "  333.784,82.9643 334.667,81.1926 335.55,79.3731 336.433,77.5047 337.316,75.5865 338.199,73.6174 339.082,71.5963 339.965,69.5222 340.848,67.3939 341.73,65.2103 \n",
       "  \n",
       "  \"/>\n",
       "<polygon clip-path=\"url(#clip00)\" points=\"\n",
       "260.741,50.931 329.73,50.931 329.73,20.691 260.741,20.691 \n",
       "  \" fill=\"#ffffff\" fill-opacity=\"1\"/>\n",
       "<polyline clip-path=\"url(#clip00)\" style=\"stroke:#000000; stroke-width:1; stroke-opacity:1; fill:none\" points=\"\n",
       "  260.741,50.931 329.73,50.931 329.73,20.691 260.741,20.691 260.741,50.931 \n",
       "  \"/>\n",
       "<g clip-path=\"url(#clip00)\">\n",
       "<text style=\"fill:#000000; fill-opacity:1; font-family:Arial,Helvetica Neue,Helvetica,sans-serif; font-size:12; text-anchor:start;\" transform=\"rotate(0, 292.741, 40.311)\" x=\"292.741\" y=\"40.311\">Linha</text>\n",
       "</g>\n",
       "</svg>\n"
      ]
     },
     "execution_count": 116,
     "metadata": {
      "comm_id": "3f3ae86b-aadb-403c-ab00-04bf35f15f80",
      "reactive": true
     },
     "output_type": "execute_result"
    }
   ],
   "source": [
    "using Plots, Interact\n",
    "gr() # o gr funciona melhor que PlotlyJS e PyPlot\n",
    "\n",
    "@manipulate for Grau = 0:10\n",
    "    \n",
    "    vetor_x = linspace(-5, 5, 300)\n",
    "    vetor_y = linspace(-5, 5, 300)\n",
    "\n",
    "    zf(x,y) = x^Grau + y^Grau\n",
    "\n",
    "    plot(vetor_x , vetor_y , zf.(vetor_x,vetor_y),label = \"Linha\", size = (400,300) )\n",
    "end"
   ]
  },
  {
   "cell_type": "code",
   "execution_count": null,
   "metadata": {
    "collapsed": true
   },
   "outputs": [],
   "source": []
  }
 ],
 "metadata": {
  "anaconda-cloud": {},
  "kernelspec": {
   "display_name": "Julia 0.6.2",
   "language": "julia",
   "name": "julia-0.6"
  },
  "language_info": {
   "file_extension": ".jl",
   "mimetype": "application/julia",
   "name": "julia",
   "version": "0.6.2"
  },
  "latex_envs": {
   "LaTeX_envs_menu_present": true,
   "autocomplete": true,
   "bibliofile": "biblio.bib",
   "cite_by": "apalike",
   "current_citInitial": 1,
   "eqLabelWithNumbers": true,
   "eqNumInitial": 1,
   "hotkeys": {
    "equation": "Ctrl-E",
    "itemize": "Ctrl-I"
   },
   "labels_anchors": false,
   "latex_user_defs": false,
   "report_style_numbering": false,
   "user_envs_cfg": false
  }
 },
 "nbformat": 4,
 "nbformat_minor": 1
}
