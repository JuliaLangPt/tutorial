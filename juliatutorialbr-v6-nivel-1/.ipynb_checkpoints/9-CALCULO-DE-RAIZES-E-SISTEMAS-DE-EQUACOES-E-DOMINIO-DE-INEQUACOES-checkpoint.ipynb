{
 "cells": [
  {
   "cell_type": "markdown",
   "metadata": {},
   "source": [
    "# CÁLCULO DE RAÍZES E SISTEMAS DE EQUAÇÕES E INEQUAÇÕES\n",
    "\n",
    "Em vários problemas de engenharia e exatas nos deparamos com situações no qual é importante encontrar as raízes de uma equação algébrica ou transcendental, na forma $ f(x) = 0 $. Uma equação, de acordo com Krantz(2001) é uma afirmação de igualdade, geralmente entre duas expressões matemáticas $f$, $g$,  envolvendo números, parâmetros e variáveis. Dessa forma, uma solução de uma equação em uma incógnita ($\"x\"$, por exemplo) compreende o valor da incógnita que determina a equação verdadeira. Em algumas situações é possível encontrar uma raíz através da inspeção visual de um gráfico, no qual o ponto de interceptação do eixo $\"x\"$ ou o ponto de interceptação entre os gráficos das equações, representa uma raiz do problema. Apesar de impreciso, o método gráfico é útil para definir quais os pontos inicias de um método computacional. Na linguagem Julia há pacotes que implementam diversos algoritmos de resolução simbólica ou numérica. Neste capítulo utilizaremos os seguintes pacotes:\n",
    "\n",
    "\n",
    "* **SymPy.jl**: O pacote `SymPy.jl` é uma biblioteca Python para matemática simbólica acessada localmente via pacote `PyCall.jl` e permite resolver equações e sistemas lineares. A função `solve()` permite resolver simbolicamente equações e sistemas lineares e `nsolve()` equações e sistemas não lineares numericamente. \n",
    "\n",
    "\n",
    "* **Roots.jl**: Este pacote implementa vários métodos numéricos (Bisseção, Newton, Secante, Halley e outros) para encontrar raízes de equações lineares e não lineares. A interface básica é através da função `find_root()`.\n",
    "\n",
    "\n",
    "* **Polynomials.jl**: É um pacote exclusivo para manipulação de polinômios. Permite operações de aritmética básica, integração, diferenciação, avaliação e determinação de raizes em polinômios.\n",
    "\n",
    "\n",
    "* **SunDials.jl**: Significa \"SUite of Nonlinear and DIfferential/ALgebraic Equation Solvers\", é um pacote para `Julia` que faz a interface para a biblioteca `Sundials` da biblioteca escrita em `C`.  Apresenta uma ótima velocidade de cálculo e permite resolver integrais de EDO, sistemas não lineares e outros.\n",
    "\n",
    "\n",
    "* **NLsolve.jl**: O pacote `NLsolve.jl` resolve sistemas de equações não lineares. A função `nsolve()` permite utilizar diversos métodos numericos."
   ]
  },
  {
   "cell_type": "markdown",
   "metadata": {},
   "source": [
    "## RAIZES DE UMA EQUAÇÃO "
   ]
  },
  {
   "cell_type": "markdown",
   "metadata": {},
   "source": [
    "### SOLUÇÃO SYMBÓLICA"
   ]
  },
  {
   "cell_type": "markdown",
   "metadata": {},
   "source": [
    "#### SYMPY.JL\n",
    "\n",
    "A função `solve()` permite calcular as raízes de uma equação algébrica ou transcendente (nem todas é possível calcular simbolicamente, sendo então necessário uma solução numérica) com apenas uma incógnita e retorna um vetor contendo as soluções do tipo `Sym`. Sintaxe:\n",
    "```julia\n",
    "solve(equação, var)\n",
    "```\n",
    "Sendo:\n",
    "* **equação**: equação algébrica expressa como uma expressão simbólica ou função genérica. Não funciona com função anônima;\n",
    "\n",
    "* **var** : variável da equação algébrica.\n",
    "\n",
    "Caso a função `solve()` retorne `[]` ou <span style=\"color:blue\">raises NotImplementedError</span>, isto significa que o método empregado pelo função não conseguiu encontrar uma solução, porém ela poderá existir e será encontrada (caso exista em um dado intervalo) numericamente. "
   ]
  },
  {
   "cell_type": "markdown",
   "metadata": {},
   "source": [
    "Exemplo: Determinar as raízes da função $f(x) = x^2 - 3x - 2$ no intervalo $[-5, ~5]$"
   ]
  },
  {
   "cell_type": "code",
   "execution_count": 1,
   "metadata": {
    "collapsed": false
   },
   "outputs": [
    {
     "data": {
      "image/svg+xml": [
       "<?xml version=\"1.0\" encoding=\"utf-8\"?>\n",
       "<svg xmlns=\"http://www.w3.org/2000/svg\" xmlns:xlink=\"http://www.w3.org/1999/xlink\" width=\"400\" height=\"300\" viewBox=\"0 0 1600 1200\">\n",
       "<defs>\n",
       "  <clipPath id=\"clip1700\">\n",
       "    <rect x=\"0\" y=\"0\" width=\"2000\" height=\"2000\"/>\n",
       "  </clipPath>\n",
       "</defs>\n",
       "<defs>\n",
       "  <clipPath id=\"clip1701\">\n",
       "    <rect x=\"0\" y=\"0\" width=\"1600\" height=\"1200\"/>\n",
       "  </clipPath>\n",
       "</defs>\n",
       "<polygon clip-path=\"url(#clip1701)\" points=\"\n",
       "0,1200 1600,1200 1600,0 0,0 \n",
       "  \" fill=\"#ffffff\" fill-rule=\"evenodd\" fill-opacity=\"1\"/>\n",
       "<defs>\n",
       "  <clipPath id=\"clip1702\">\n",
       "    <rect x=\"320\" y=\"0\" width=\"1121\" height=\"1121\"/>\n",
       "  </clipPath>\n",
       "</defs>\n",
       "<polygon clip-path=\"url(#clip1701)\" points=\"\n",
       "212.353,1040.48 1521.26,1040.48 1521.26,47.2441 212.353,47.2441 \n",
       "  \" fill=\"#ffffff\" fill-rule=\"evenodd\" fill-opacity=\"1\"/>\n",
       "<defs>\n",
       "  <clipPath id=\"clip1703\">\n",
       "    <rect x=\"212\" y=\"47\" width=\"1310\" height=\"994\"/>\n",
       "  </clipPath>\n",
       "</defs>\n",
       "<polyline clip-path=\"url(#clip1703)\" style=\"stroke:#000000; stroke-width:2; stroke-opacity:0.1; fill:none\" points=\"\n",
       "  249.397,1040.48 249.397,47.2441 \n",
       "  \"/>\n",
       "<polyline clip-path=\"url(#clip1703)\" style=\"stroke:#000000; stroke-width:2; stroke-opacity:0.1; fill:none\" points=\"\n",
       "  372.879,1040.48 372.879,47.2441 \n",
       "  \"/>\n",
       "<polyline clip-path=\"url(#clip1703)\" style=\"stroke:#000000; stroke-width:2; stroke-opacity:0.1; fill:none\" points=\"\n",
       "  496.361,1040.48 496.361,47.2441 \n",
       "  \"/>\n",
       "<polyline clip-path=\"url(#clip1703)\" style=\"stroke:#000000; stroke-width:2; stroke-opacity:0.1; fill:none\" points=\"\n",
       "  619.843,1040.48 619.843,47.2441 \n",
       "  \"/>\n",
       "<polyline clip-path=\"url(#clip1703)\" style=\"stroke:#000000; stroke-width:2; stroke-opacity:0.1; fill:none\" points=\"\n",
       "  743.324,1040.48 743.324,47.2441 \n",
       "  \"/>\n",
       "<polyline clip-path=\"url(#clip1703)\" style=\"stroke:#000000; stroke-width:2; stroke-opacity:0.1; fill:none\" points=\"\n",
       "  866.806,1040.48 866.806,47.2441 \n",
       "  \"/>\n",
       "<polyline clip-path=\"url(#clip1703)\" style=\"stroke:#000000; stroke-width:2; stroke-opacity:0.1; fill:none\" points=\"\n",
       "  990.288,1040.48 990.288,47.2441 \n",
       "  \"/>\n",
       "<polyline clip-path=\"url(#clip1703)\" style=\"stroke:#000000; stroke-width:2; stroke-opacity:0.1; fill:none\" points=\"\n",
       "  1113.77,1040.48 1113.77,47.2441 \n",
       "  \"/>\n",
       "<polyline clip-path=\"url(#clip1703)\" style=\"stroke:#000000; stroke-width:2; stroke-opacity:0.1; fill:none\" points=\"\n",
       "  1237.25,1040.48 1237.25,47.2441 \n",
       "  \"/>\n",
       "<polyline clip-path=\"url(#clip1703)\" style=\"stroke:#000000; stroke-width:2; stroke-opacity:0.1; fill:none\" points=\"\n",
       "  1360.73,1040.48 1360.73,47.2441 \n",
       "  \"/>\n",
       "<polyline clip-path=\"url(#clip1703)\" style=\"stroke:#000000; stroke-width:2; stroke-opacity:0.1; fill:none\" points=\"\n",
       "  1484.22,1040.48 1484.22,47.2441 \n",
       "  \"/>\n",
       "<polyline clip-path=\"url(#clip1703)\" style=\"stroke:#000000; stroke-width:2; stroke-opacity:0.1; fill:none\" points=\"\n",
       "  212.353,1029.01 1521.26,1029.01 \n",
       "  \"/>\n",
       "<polyline clip-path=\"url(#clip1703)\" style=\"stroke:#000000; stroke-width:2; stroke-opacity:0.1; fill:none\" points=\"\n",
       "  212.353,918.116 1521.26,918.116 \n",
       "  \"/>\n",
       "<polyline clip-path=\"url(#clip1703)\" style=\"stroke:#000000; stroke-width:2; stroke-opacity:0.1; fill:none\" points=\"\n",
       "  212.353,807.226 1521.26,807.226 \n",
       "  \"/>\n",
       "<polyline clip-path=\"url(#clip1703)\" style=\"stroke:#000000; stroke-width:2; stroke-opacity:0.1; fill:none\" points=\"\n",
       "  212.353,696.337 1521.26,696.337 \n",
       "  \"/>\n",
       "<polyline clip-path=\"url(#clip1703)\" style=\"stroke:#000000; stroke-width:2; stroke-opacity:0.1; fill:none\" points=\"\n",
       "  212.353,585.447 1521.26,585.447 \n",
       "  \"/>\n",
       "<polyline clip-path=\"url(#clip1703)\" style=\"stroke:#000000; stroke-width:2; stroke-opacity:0.1; fill:none\" points=\"\n",
       "  212.353,474.557 1521.26,474.557 \n",
       "  \"/>\n",
       "<polyline clip-path=\"url(#clip1703)\" style=\"stroke:#000000; stroke-width:2; stroke-opacity:0.1; fill:none\" points=\"\n",
       "  212.353,363.668 1521.26,363.668 \n",
       "  \"/>\n",
       "<polyline clip-path=\"url(#clip1703)\" style=\"stroke:#000000; stroke-width:2; stroke-opacity:0.1; fill:none\" points=\"\n",
       "  212.353,252.778 1521.26,252.778 \n",
       "  \"/>\n",
       "<polyline clip-path=\"url(#clip1703)\" style=\"stroke:#000000; stroke-width:2; stroke-opacity:0.1; fill:none\" points=\"\n",
       "  212.353,141.888 1521.26,141.888 \n",
       "  \"/>\n",
       "<polyline clip-path=\"url(#clip1701)\" style=\"stroke:#000000; stroke-width:4; stroke-opacity:1; fill:none\" points=\"\n",
       "  212.353,1040.48 1521.26,1040.48 \n",
       "  \"/>\n",
       "<polyline clip-path=\"url(#clip1701)\" style=\"stroke:#000000; stroke-width:4; stroke-opacity:1; fill:none\" points=\"\n",
       "  212.353,1040.48 212.353,47.2441 \n",
       "  \"/>\n",
       "<polyline clip-path=\"url(#clip1701)\" style=\"stroke:#000000; stroke-width:4; stroke-opacity:1; fill:none\" points=\"\n",
       "  249.397,1040.48 249.397,1025.58 \n",
       "  \"/>\n",
       "<polyline clip-path=\"url(#clip1701)\" style=\"stroke:#000000; stroke-width:4; stroke-opacity:1; fill:none\" points=\"\n",
       "  372.879,1040.48 372.879,1025.58 \n",
       "  \"/>\n",
       "<polyline clip-path=\"url(#clip1701)\" style=\"stroke:#000000; stroke-width:4; stroke-opacity:1; fill:none\" points=\"\n",
       "  496.361,1040.48 496.361,1025.58 \n",
       "  \"/>\n",
       "<polyline clip-path=\"url(#clip1701)\" style=\"stroke:#000000; stroke-width:4; stroke-opacity:1; fill:none\" points=\"\n",
       "  619.843,1040.48 619.843,1025.58 \n",
       "  \"/>\n",
       "<polyline clip-path=\"url(#clip1701)\" style=\"stroke:#000000; stroke-width:4; stroke-opacity:1; fill:none\" points=\"\n",
       "  743.324,1040.48 743.324,1025.58 \n",
       "  \"/>\n",
       "<polyline clip-path=\"url(#clip1701)\" style=\"stroke:#000000; stroke-width:4; stroke-opacity:1; fill:none\" points=\"\n",
       "  866.806,1040.48 866.806,1025.58 \n",
       "  \"/>\n",
       "<polyline clip-path=\"url(#clip1701)\" style=\"stroke:#000000; stroke-width:4; stroke-opacity:1; fill:none\" points=\"\n",
       "  990.288,1040.48 990.288,1025.58 \n",
       "  \"/>\n",
       "<polyline clip-path=\"url(#clip1701)\" style=\"stroke:#000000; stroke-width:4; stroke-opacity:1; fill:none\" points=\"\n",
       "  1113.77,1040.48 1113.77,1025.58 \n",
       "  \"/>\n",
       "<polyline clip-path=\"url(#clip1701)\" style=\"stroke:#000000; stroke-width:4; stroke-opacity:1; fill:none\" points=\"\n",
       "  1237.25,1040.48 1237.25,1025.58 \n",
       "  \"/>\n",
       "<polyline clip-path=\"url(#clip1701)\" style=\"stroke:#000000; stroke-width:4; stroke-opacity:1; fill:none\" points=\"\n",
       "  1360.73,1040.48 1360.73,1025.58 \n",
       "  \"/>\n",
       "<polyline clip-path=\"url(#clip1701)\" style=\"stroke:#000000; stroke-width:4; stroke-opacity:1; fill:none\" points=\"\n",
       "  1484.22,1040.48 1484.22,1025.58 \n",
       "  \"/>\n",
       "<polyline clip-path=\"url(#clip1701)\" style=\"stroke:#000000; stroke-width:4; stroke-opacity:1; fill:none\" points=\"\n",
       "  212.353,1029.01 231.986,1029.01 \n",
       "  \"/>\n",
       "<polyline clip-path=\"url(#clip1701)\" style=\"stroke:#000000; stroke-width:4; stroke-opacity:1; fill:none\" points=\"\n",
       "  212.353,918.116 231.986,918.116 \n",
       "  \"/>\n",
       "<polyline clip-path=\"url(#clip1701)\" style=\"stroke:#000000; stroke-width:4; stroke-opacity:1; fill:none\" points=\"\n",
       "  212.353,807.226 231.986,807.226 \n",
       "  \"/>\n",
       "<polyline clip-path=\"url(#clip1701)\" style=\"stroke:#000000; stroke-width:4; stroke-opacity:1; fill:none\" points=\"\n",
       "  212.353,696.337 231.986,696.337 \n",
       "  \"/>\n",
       "<polyline clip-path=\"url(#clip1701)\" style=\"stroke:#000000; stroke-width:4; stroke-opacity:1; fill:none\" points=\"\n",
       "  212.353,585.447 231.986,585.447 \n",
       "  \"/>\n",
       "<polyline clip-path=\"url(#clip1701)\" style=\"stroke:#000000; stroke-width:4; stroke-opacity:1; fill:none\" points=\"\n",
       "  212.353,474.557 231.986,474.557 \n",
       "  \"/>\n",
       "<polyline clip-path=\"url(#clip1701)\" style=\"stroke:#000000; stroke-width:4; stroke-opacity:1; fill:none\" points=\"\n",
       "  212.353,363.668 231.986,363.668 \n",
       "  \"/>\n",
       "<polyline clip-path=\"url(#clip1701)\" style=\"stroke:#000000; stroke-width:4; stroke-opacity:1; fill:none\" points=\"\n",
       "  212.353,252.778 231.986,252.778 \n",
       "  \"/>\n",
       "<polyline clip-path=\"url(#clip1701)\" style=\"stroke:#000000; stroke-width:4; stroke-opacity:1; fill:none\" points=\"\n",
       "  212.353,141.888 231.986,141.888 \n",
       "  \"/>\n",
       "<g clip-path=\"url(#clip1701)\">\n",
       "<text style=\"fill:#000000; fill-opacity:1; font-family:Arial,Helvetica Neue,Helvetica,sans-serif; font-size:48px; text-anchor:middle;\" transform=\"rotate(0, 249.397, 1090.48)\" x=\"249.397\" y=\"1090.48\">-5</text>\n",
       "</g>\n",
       "<g clip-path=\"url(#clip1701)\">\n",
       "<text style=\"fill:#000000; fill-opacity:1; font-family:Arial,Helvetica Neue,Helvetica,sans-serif; font-size:48px; text-anchor:middle;\" transform=\"rotate(0, 372.879, 1090.48)\" x=\"372.879\" y=\"1090.48\">-4</text>\n",
       "</g>\n",
       "<g clip-path=\"url(#clip1701)\">\n",
       "<text style=\"fill:#000000; fill-opacity:1; font-family:Arial,Helvetica Neue,Helvetica,sans-serif; font-size:48px; text-anchor:middle;\" transform=\"rotate(0, 496.361, 1090.48)\" x=\"496.361\" y=\"1090.48\">-3</text>\n",
       "</g>\n",
       "<g clip-path=\"url(#clip1701)\">\n",
       "<text style=\"fill:#000000; fill-opacity:1; font-family:Arial,Helvetica Neue,Helvetica,sans-serif; font-size:48px; text-anchor:middle;\" transform=\"rotate(0, 619.843, 1090.48)\" x=\"619.843\" y=\"1090.48\">-2</text>\n",
       "</g>\n",
       "<g clip-path=\"url(#clip1701)\">\n",
       "<text style=\"fill:#000000; fill-opacity:1; font-family:Arial,Helvetica Neue,Helvetica,sans-serif; font-size:48px; text-anchor:middle;\" transform=\"rotate(0, 743.324, 1090.48)\" x=\"743.324\" y=\"1090.48\">-1</text>\n",
       "</g>\n",
       "<g clip-path=\"url(#clip1701)\">\n",
       "<text style=\"fill:#000000; fill-opacity:1; font-family:Arial,Helvetica Neue,Helvetica,sans-serif; font-size:48px; text-anchor:middle;\" transform=\"rotate(0, 866.806, 1090.48)\" x=\"866.806\" y=\"1090.48\">0</text>\n",
       "</g>\n",
       "<g clip-path=\"url(#clip1701)\">\n",
       "<text style=\"fill:#000000; fill-opacity:1; font-family:Arial,Helvetica Neue,Helvetica,sans-serif; font-size:48px; text-anchor:middle;\" transform=\"rotate(0, 990.288, 1090.48)\" x=\"990.288\" y=\"1090.48\">1</text>\n",
       "</g>\n",
       "<g clip-path=\"url(#clip1701)\">\n",
       "<text style=\"fill:#000000; fill-opacity:1; font-family:Arial,Helvetica Neue,Helvetica,sans-serif; font-size:48px; text-anchor:middle;\" transform=\"rotate(0, 1113.77, 1090.48)\" x=\"1113.77\" y=\"1090.48\">2</text>\n",
       "</g>\n",
       "<g clip-path=\"url(#clip1701)\">\n",
       "<text style=\"fill:#000000; fill-opacity:1; font-family:Arial,Helvetica Neue,Helvetica,sans-serif; font-size:48px; text-anchor:middle;\" transform=\"rotate(0, 1237.25, 1090.48)\" x=\"1237.25\" y=\"1090.48\">3</text>\n",
       "</g>\n",
       "<g clip-path=\"url(#clip1701)\">\n",
       "<text style=\"fill:#000000; fill-opacity:1; font-family:Arial,Helvetica Neue,Helvetica,sans-serif; font-size:48px; text-anchor:middle;\" transform=\"rotate(0, 1360.73, 1090.48)\" x=\"1360.73\" y=\"1090.48\">4</text>\n",
       "</g>\n",
       "<g clip-path=\"url(#clip1701)\">\n",
       "<text style=\"fill:#000000; fill-opacity:1; font-family:Arial,Helvetica Neue,Helvetica,sans-serif; font-size:48px; text-anchor:middle;\" transform=\"rotate(0, 1484.22, 1090.48)\" x=\"1484.22\" y=\"1090.48\">5</text>\n",
       "</g>\n",
       "<g clip-path=\"url(#clip1701)\">\n",
       "<text style=\"fill:#000000; fill-opacity:1; font-family:Arial,Helvetica Neue,Helvetica,sans-serif; font-size:48px; text-anchor:end;\" transform=\"rotate(0, 196.353, 1046.51)\" x=\"196.353\" y=\"1046.51\">-5</text>\n",
       "</g>\n",
       "<g clip-path=\"url(#clip1701)\">\n",
       "<text style=\"fill:#000000; fill-opacity:1; font-family:Arial,Helvetica Neue,Helvetica,sans-serif; font-size:48px; text-anchor:end;\" transform=\"rotate(0, 196.353, 935.616)\" x=\"196.353\" y=\"935.616\">0</text>\n",
       "</g>\n",
       "<g clip-path=\"url(#clip1701)\">\n",
       "<text style=\"fill:#000000; fill-opacity:1; font-family:Arial,Helvetica Neue,Helvetica,sans-serif; font-size:48px; text-anchor:end;\" transform=\"rotate(0, 196.353, 824.726)\" x=\"196.353\" y=\"824.726\">5</text>\n",
       "</g>\n",
       "<g clip-path=\"url(#clip1701)\">\n",
       "<text style=\"fill:#000000; fill-opacity:1; font-family:Arial,Helvetica Neue,Helvetica,sans-serif; font-size:48px; text-anchor:end;\" transform=\"rotate(0, 196.353, 713.837)\" x=\"196.353\" y=\"713.837\">10</text>\n",
       "</g>\n",
       "<g clip-path=\"url(#clip1701)\">\n",
       "<text style=\"fill:#000000; fill-opacity:1; font-family:Arial,Helvetica Neue,Helvetica,sans-serif; font-size:48px; text-anchor:end;\" transform=\"rotate(0, 196.353, 602.947)\" x=\"196.353\" y=\"602.947\">15</text>\n",
       "</g>\n",
       "<g clip-path=\"url(#clip1701)\">\n",
       "<text style=\"fill:#000000; fill-opacity:1; font-family:Arial,Helvetica Neue,Helvetica,sans-serif; font-size:48px; text-anchor:end;\" transform=\"rotate(0, 196.353, 492.057)\" x=\"196.353\" y=\"492.057\">20</text>\n",
       "</g>\n",
       "<g clip-path=\"url(#clip1701)\">\n",
       "<text style=\"fill:#000000; fill-opacity:1; font-family:Arial,Helvetica Neue,Helvetica,sans-serif; font-size:48px; text-anchor:end;\" transform=\"rotate(0, 196.353, 381.168)\" x=\"196.353\" y=\"381.168\">25</text>\n",
       "</g>\n",
       "<g clip-path=\"url(#clip1701)\">\n",
       "<text style=\"fill:#000000; fill-opacity:1; font-family:Arial,Helvetica Neue,Helvetica,sans-serif; font-size:48px; text-anchor:end;\" transform=\"rotate(0, 196.353, 270.278)\" x=\"196.353\" y=\"270.278\">30</text>\n",
       "</g>\n",
       "<g clip-path=\"url(#clip1701)\">\n",
       "<text style=\"fill:#000000; fill-opacity:1; font-family:Arial,Helvetica Neue,Helvetica,sans-serif; font-size:48px; text-anchor:end;\" transform=\"rotate(0, 196.353, 159.388)\" x=\"196.353\" y=\"159.388\">35</text>\n",
       "</g>\n",
       "<g clip-path=\"url(#clip1701)\">\n",
       "<text style=\"fill:#000000; fill-opacity:1; font-family:Arial,Helvetica Neue,Helvetica,sans-serif; font-size:66px; text-anchor:middle;\" transform=\"rotate(0, 866.806, 1190.4)\" x=\"866.806\" y=\"1190.4\">x</text>\n",
       "</g>\n",
       "<g clip-path=\"url(#clip1701)\">\n",
       "<text style=\"fill:#000000; fill-opacity:1; font-family:Arial,Helvetica Neue,Helvetica,sans-serif; font-size:66px; text-anchor:middle;\" transform=\"rotate(-90, 57.6, 543.863)\" x=\"57.6\" y=\"543.863\">y</text>\n",
       "</g>\n",
       "<polyline clip-path=\"url(#clip1703)\" style=\"stroke:#009af9; stroke-width:4; stroke-opacity:1; fill:none\" points=\"\n",
       "  249.397,75.3546 261.745,103.964 274.094,132.13 286.442,159.853 298.79,187.131 311.138,213.967 323.486,240.358 335.835,266.307 348.183,291.811 360.531,316.872 \n",
       "  372.879,341.49 385.227,365.664 397.575,389.394 409.924,412.681 422.272,435.524 434.62,457.924 446.968,479.88 459.316,501.393 471.665,522.462 484.013,543.087 \n",
       "  496.361,563.269 508.709,583.007 521.057,602.302 533.405,621.153 545.754,639.561 558.102,657.525 570.45,675.046 582.798,692.123 595.146,708.756 607.495,724.946 \n",
       "  619.843,740.692 632.191,755.995 644.539,770.854 656.887,785.27 669.235,799.242 681.584,812.771 693.932,825.856 706.28,838.497 718.628,850.695 730.976,862.449 \n",
       "  743.324,873.76 755.673,884.627 768.021,895.051 780.369,905.031 792.717,914.567 805.065,923.66 817.414,932.31 829.762,940.516 842.11,948.278 854.458,955.597 \n",
       "  866.806,962.472 879.154,968.903 891.503,974.891 903.851,980.436 916.199,985.537 928.547,990.194 940.895,994.408 953.244,998.178 965.592,1001.5 977.94,1004.39 \n",
       "  990.288,1006.83 1002.64,1008.82 1014.98,1010.38 1027.33,1011.48 1039.68,1012.15 1052.03,1012.37 1064.38,1012.15 1076.73,1011.48 1089.07,1010.38 1101.42,1008.82 \n",
       "  1113.77,1006.83 1126.12,1004.39 1138.47,1001.5 1150.81,998.178 1163.16,994.408 1175.51,990.194 1187.86,985.537 1200.21,980.436 1212.56,974.891 1224.9,968.903 \n",
       "  1237.25,962.472 1249.6,955.597 1261.95,948.278 1274.3,940.516 1286.64,932.31 1298.99,923.66 1311.34,914.567 1323.69,905.031 1336.04,895.051 1348.39,884.627 \n",
       "  1360.73,873.76 1373.08,862.449 1385.43,850.695 1397.78,838.497 1410.13,825.856 1422.47,812.771 1434.82,799.242 1447.17,785.27 1459.52,770.854 1471.87,755.995 \n",
       "  1484.22,740.692 \n",
       "  \"/>\n",
       "<polyline clip-path=\"url(#clip1703)\" style=\"stroke:#e26f46; stroke-width:4; stroke-opacity:1; fill:none\" points=\"\n",
       "  249.397,918.116 261.745,918.116 274.094,918.116 286.442,918.116 298.79,918.116 311.138,918.116 323.486,918.116 335.835,918.116 348.183,918.116 360.531,918.116 \n",
       "  372.879,918.116 385.227,918.116 397.575,918.116 409.924,918.116 422.272,918.116 434.62,918.116 446.968,918.116 459.316,918.116 471.665,918.116 484.013,918.116 \n",
       "  496.361,918.116 508.709,918.116 521.057,918.116 533.405,918.116 545.754,918.116 558.102,918.116 570.45,918.116 582.798,918.116 595.146,918.116 607.495,918.116 \n",
       "  619.843,918.116 632.191,918.116 644.539,918.116 656.887,918.116 669.235,918.116 681.584,918.116 693.932,918.116 706.28,918.116 718.628,918.116 730.976,918.116 \n",
       "  743.324,918.116 755.673,918.116 768.021,918.116 780.369,918.116 792.717,918.116 805.065,918.116 817.414,918.116 829.762,918.116 842.11,918.116 854.458,918.116 \n",
       "  866.806,918.116 879.154,918.116 891.503,918.116 903.851,918.116 916.199,918.116 928.547,918.116 940.895,918.116 953.244,918.116 965.592,918.116 977.94,918.116 \n",
       "  990.288,918.116 1002.64,918.116 1014.98,918.116 1027.33,918.116 1039.68,918.116 1052.03,918.116 1064.38,918.116 1076.73,918.116 1089.07,918.116 1101.42,918.116 \n",
       "  1113.77,918.116 1126.12,918.116 1138.47,918.116 1150.81,918.116 1163.16,918.116 1175.51,918.116 1187.86,918.116 1200.21,918.116 1212.56,918.116 1224.9,918.116 \n",
       "  1237.25,918.116 1249.6,918.116 1261.95,918.116 1274.3,918.116 1286.64,918.116 1298.99,918.116 1311.34,918.116 1323.69,918.116 1336.04,918.116 1348.39,918.116 \n",
       "  1360.73,918.116 1373.08,918.116 1385.43,918.116 1397.78,918.116 1410.13,918.116 1422.47,918.116 1434.82,918.116 1447.17,918.116 1459.52,918.116 1471.87,918.116 \n",
       "  1484.22,918.116 \n",
       "  \"/>\n",
       "<polygon clip-path=\"url(#clip1701)\" points=\"\n",
       "1123.32,264.204 1473.26,264.204 1473.26,82.7641 1123.32,82.7641 \n",
       "  \" fill=\"#ffffff\" fill-rule=\"evenodd\" fill-opacity=\"1\"/>\n",
       "<polyline clip-path=\"url(#clip1701)\" style=\"stroke:#000000; stroke-width:4; stroke-opacity:1; fill:none\" points=\"\n",
       "  1123.32,264.204 1473.26,264.204 1473.26,82.7641 1123.32,82.7641 1123.32,264.204 \n",
       "  \"/>\n",
       "<polyline clip-path=\"url(#clip1701)\" style=\"stroke:#009af9; stroke-width:4; stroke-opacity:1; fill:none\" points=\"\n",
       "  1139.32,143.244 1235.32,143.244 \n",
       "  \"/>\n",
       "<g clip-path=\"url(#clip1701)\">\n",
       "<text style=\"fill:#000000; fill-opacity:1; font-family:Arial,Helvetica Neue,Helvetica,sans-serif; font-size:48px; text-anchor:start;\" transform=\"rotate(0, 1251.32, 160.744)\" x=\"1251.32\" y=\"160.744\">equação</text>\n",
       "</g>\n",
       "<polyline clip-path=\"url(#clip1701)\" style=\"stroke:#e26f46; stroke-width:4; stroke-opacity:1; fill:none\" points=\"\n",
       "  1139.32,203.724 1235.32,203.724 \n",
       "  \"/>\n",
       "<g clip-path=\"url(#clip1701)\">\n",
       "<text style=\"fill:#000000; fill-opacity:1; font-family:Arial,Helvetica Neue,Helvetica,sans-serif; font-size:48px; text-anchor:start;\" transform=\"rotate(0, 1251.32, 221.224)\" x=\"1251.32\" y=\"221.224\">reta zero</text>\n",
       "</g>\n",
       "</svg>\n"
      ]
     },
     "execution_count": 1,
     "metadata": {},
     "output_type": "execute_result"
    }
   ],
   "source": [
    "using Plots\n",
    "gr()\n",
    "\n",
    "plot(collect(-5:0.1:5), x -> x^2 - 3*x - 2, label = \"equação\", size = (400, 300),\n",
    "    xaxis = (\"x\", -5:1:10),\n",
    "    yaxis = (\"y\", -5:5:40))\n",
    "plot!(collect(-5:0.1:5), zero, label = \"reta zero\")"
   ]
  },
  {
   "cell_type": "markdown",
   "metadata": {},
   "source": [
    "De acordo com o gráfico, podemos observar que há duas raízes, sendo a primeira $x \\thickapprox -0.5$ e segunda $x \\thickapprox 3.5$. "
   ]
  },
  {
   "cell_type": "code",
   "execution_count": 5,
   "metadata": {
    "collapsed": false
   },
   "outputs": [
    {
     "name": "stderr",
     "output_type": "stream",
     "text": [
      "┌ Info: Precompiling SymPy [24249f21-da20-56a4-8eb1-6a02cf4ae2e6]\n",
      "└ @ Base loading.jl:1192\n"
     ]
    },
    {
     "data": {
      "text/plain": [
       "(x,)"
      ]
     },
     "execution_count": 5,
     "metadata": {},
     "output_type": "execute_result"
    }
   ],
   "source": [
    "using SymPy \n",
    "@syms x"
   ]
  },
  {
   "cell_type": "code",
   "execution_count": 6,
   "metadata": {
    "collapsed": false,
    "scrolled": false
   },
   "outputs": [
    {
     "data": {
      "text/latex": [
       "\\begin{bmatrix}\\frac{3}{2} + \\frac{\\sqrt{17}}{2}\\\\- \\frac{\\sqrt{17}}{2} + \\frac{3}{2}\\end{bmatrix}"
      ],
      "text/plain": [
       "2-element Array{Sym,1}:\n",
       "  3/2 + sqrt(17)/2\n",
       " -sqrt(17)/2 + 3/2"
      ]
     },
     "execution_count": 6,
     "metadata": {},
     "output_type": "execute_result"
    }
   ],
   "source": [
    "solve(x^2 - 3*x - 2, x)"
   ]
  },
  {
   "cell_type": "markdown",
   "metadata": {},
   "source": [
    "O resultado é do tipo simbólico, logo é interessante atribuir o resultado a duas variáveis $x_1$ e $x_2$ do tipo `float`."
   ]
  },
  {
   "cell_type": "code",
   "execution_count": 7,
   "metadata": {
    "collapsed": false,
    "scrolled": true
   },
   "outputs": [
    {
     "data": {
      "text/plain": [
       "2-element Array{Float64,1}:\n",
       "  3.5615528128088303\n",
       " -0.5615528128088303"
      ]
     },
     "execution_count": 7,
     "metadata": {},
     "output_type": "execute_result"
    }
   ],
   "source": [
    "x1, x2 = float(solve(x^2 - 3*x - 2, x))"
   ]
  },
  {
   "cell_type": "code",
   "execution_count": 9,
   "metadata": {
    "collapsed": false,
    "scrolled": true
   },
   "outputs": [
    {
     "data": {
      "image/svg+xml": [
       "<?xml version=\"1.0\" encoding=\"utf-8\"?>\n",
       "<svg xmlns=\"http://www.w3.org/2000/svg\" xmlns:xlink=\"http://www.w3.org/1999/xlink\" width=\"400\" height=\"300\" viewBox=\"0 0 1600 1200\">\n",
       "<defs>\n",
       "  <clipPath id=\"clip2100\">\n",
       "    <rect x=\"0\" y=\"0\" width=\"2000\" height=\"2000\"/>\n",
       "  </clipPath>\n",
       "</defs>\n",
       "<defs>\n",
       "  <clipPath id=\"clip2101\">\n",
       "    <rect x=\"0\" y=\"0\" width=\"1600\" height=\"1200\"/>\n",
       "  </clipPath>\n",
       "</defs>\n",
       "<polygon clip-path=\"url(#clip2101)\" points=\"\n",
       "0,1200 1600,1200 1600,0 0,0 \n",
       "  \" fill=\"#ffffff\" fill-rule=\"evenodd\" fill-opacity=\"1\"/>\n",
       "<defs>\n",
       "  <clipPath id=\"clip2102\">\n",
       "    <rect x=\"320\" y=\"0\" width=\"1121\" height=\"1121\"/>\n",
       "  </clipPath>\n",
       "</defs>\n",
       "<polygon clip-path=\"url(#clip2101)\" points=\"\n",
       "212.353,1036.29 1521.26,1036.29 1521.26,47.2441 212.353,47.2441 \n",
       "  \" fill=\"#ffffff\" fill-rule=\"evenodd\" fill-opacity=\"1\"/>\n",
       "<defs>\n",
       "  <clipPath id=\"clip2103\">\n",
       "    <rect x=\"212\" y=\"47\" width=\"1310\" height=\"990\"/>\n",
       "  </clipPath>\n",
       "</defs>\n",
       "<polyline clip-path=\"url(#clip2103)\" style=\"stroke:#000000; stroke-width:2; stroke-opacity:0.1; fill:none\" points=\"\n",
       "  249.397,1036.29 249.397,47.2441 \n",
       "  \"/>\n",
       "<polyline clip-path=\"url(#clip2103)\" style=\"stroke:#000000; stroke-width:2; stroke-opacity:0.1; fill:none\" points=\"\n",
       "  372.879,1036.29 372.879,47.2441 \n",
       "  \"/>\n",
       "<polyline clip-path=\"url(#clip2103)\" style=\"stroke:#000000; stroke-width:2; stroke-opacity:0.1; fill:none\" points=\"\n",
       "  496.361,1036.29 496.361,47.2441 \n",
       "  \"/>\n",
       "<polyline clip-path=\"url(#clip2103)\" style=\"stroke:#000000; stroke-width:2; stroke-opacity:0.1; fill:none\" points=\"\n",
       "  619.843,1036.29 619.843,47.2441 \n",
       "  \"/>\n",
       "<polyline clip-path=\"url(#clip2103)\" style=\"stroke:#000000; stroke-width:2; stroke-opacity:0.1; fill:none\" points=\"\n",
       "  743.324,1036.29 743.324,47.2441 \n",
       "  \"/>\n",
       "<polyline clip-path=\"url(#clip2103)\" style=\"stroke:#000000; stroke-width:2; stroke-opacity:0.1; fill:none\" points=\"\n",
       "  866.806,1036.29 866.806,47.2441 \n",
       "  \"/>\n",
       "<polyline clip-path=\"url(#clip2103)\" style=\"stroke:#000000; stroke-width:2; stroke-opacity:0.1; fill:none\" points=\"\n",
       "  990.288,1036.29 990.288,47.2441 \n",
       "  \"/>\n",
       "<polyline clip-path=\"url(#clip2103)\" style=\"stroke:#000000; stroke-width:2; stroke-opacity:0.1; fill:none\" points=\"\n",
       "  1113.77,1036.29 1113.77,47.2441 \n",
       "  \"/>\n",
       "<polyline clip-path=\"url(#clip2103)\" style=\"stroke:#000000; stroke-width:2; stroke-opacity:0.1; fill:none\" points=\"\n",
       "  1237.25,1036.29 1237.25,47.2441 \n",
       "  \"/>\n",
       "<polyline clip-path=\"url(#clip2103)\" style=\"stroke:#000000; stroke-width:2; stroke-opacity:0.1; fill:none\" points=\"\n",
       "  1360.73,1036.29 1360.73,47.2441 \n",
       "  \"/>\n",
       "<polyline clip-path=\"url(#clip2103)\" style=\"stroke:#000000; stroke-width:2; stroke-opacity:0.1; fill:none\" points=\"\n",
       "  1484.22,1036.29 1484.22,47.2441 \n",
       "  \"/>\n",
       "<polyline clip-path=\"url(#clip2103)\" style=\"stroke:#000000; stroke-width:2; stroke-opacity:0.1; fill:none\" points=\"\n",
       "  212.353,1024.86 1521.26,1024.86 \n",
       "  \"/>\n",
       "<polyline clip-path=\"url(#clip2103)\" style=\"stroke:#000000; stroke-width:2; stroke-opacity:0.1; fill:none\" points=\"\n",
       "  212.353,914.441 1521.26,914.441 \n",
       "  \"/>\n",
       "<polyline clip-path=\"url(#clip2103)\" style=\"stroke:#000000; stroke-width:2; stroke-opacity:0.1; fill:none\" points=\"\n",
       "  212.353,804.019 1521.26,804.019 \n",
       "  \"/>\n",
       "<polyline clip-path=\"url(#clip2103)\" style=\"stroke:#000000; stroke-width:2; stroke-opacity:0.1; fill:none\" points=\"\n",
       "  212.353,693.597 1521.26,693.597 \n",
       "  \"/>\n",
       "<polyline clip-path=\"url(#clip2103)\" style=\"stroke:#000000; stroke-width:2; stroke-opacity:0.1; fill:none\" points=\"\n",
       "  212.353,583.176 1521.26,583.176 \n",
       "  \"/>\n",
       "<polyline clip-path=\"url(#clip2103)\" style=\"stroke:#000000; stroke-width:2; stroke-opacity:0.1; fill:none\" points=\"\n",
       "  212.353,472.754 1521.26,472.754 \n",
       "  \"/>\n",
       "<polyline clip-path=\"url(#clip2103)\" style=\"stroke:#000000; stroke-width:2; stroke-opacity:0.1; fill:none\" points=\"\n",
       "  212.353,362.332 1521.26,362.332 \n",
       "  \"/>\n",
       "<polyline clip-path=\"url(#clip2103)\" style=\"stroke:#000000; stroke-width:2; stroke-opacity:0.1; fill:none\" points=\"\n",
       "  212.353,251.911 1521.26,251.911 \n",
       "  \"/>\n",
       "<polyline clip-path=\"url(#clip2103)\" style=\"stroke:#000000; stroke-width:2; stroke-opacity:0.1; fill:none\" points=\"\n",
       "  212.353,141.489 1521.26,141.489 \n",
       "  \"/>\n",
       "<polyline clip-path=\"url(#clip2101)\" style=\"stroke:#000000; stroke-width:4; stroke-opacity:1; fill:none\" points=\"\n",
       "  212.353,1036.29 1521.26,1036.29 \n",
       "  \"/>\n",
       "<polyline clip-path=\"url(#clip2101)\" style=\"stroke:#000000; stroke-width:4; stroke-opacity:1; fill:none\" points=\"\n",
       "  212.353,1036.29 212.353,47.2441 \n",
       "  \"/>\n",
       "<polyline clip-path=\"url(#clip2101)\" style=\"stroke:#000000; stroke-width:4; stroke-opacity:1; fill:none\" points=\"\n",
       "  249.397,1036.29 249.397,1021.46 \n",
       "  \"/>\n",
       "<polyline clip-path=\"url(#clip2101)\" style=\"stroke:#000000; stroke-width:4; stroke-opacity:1; fill:none\" points=\"\n",
       "  372.879,1036.29 372.879,1021.46 \n",
       "  \"/>\n",
       "<polyline clip-path=\"url(#clip2101)\" style=\"stroke:#000000; stroke-width:4; stroke-opacity:1; fill:none\" points=\"\n",
       "  496.361,1036.29 496.361,1021.46 \n",
       "  \"/>\n",
       "<polyline clip-path=\"url(#clip2101)\" style=\"stroke:#000000; stroke-width:4; stroke-opacity:1; fill:none\" points=\"\n",
       "  619.843,1036.29 619.843,1021.46 \n",
       "  \"/>\n",
       "<polyline clip-path=\"url(#clip2101)\" style=\"stroke:#000000; stroke-width:4; stroke-opacity:1; fill:none\" points=\"\n",
       "  743.324,1036.29 743.324,1021.46 \n",
       "  \"/>\n",
       "<polyline clip-path=\"url(#clip2101)\" style=\"stroke:#000000; stroke-width:4; stroke-opacity:1; fill:none\" points=\"\n",
       "  866.806,1036.29 866.806,1021.46 \n",
       "  \"/>\n",
       "<polyline clip-path=\"url(#clip2101)\" style=\"stroke:#000000; stroke-width:4; stroke-opacity:1; fill:none\" points=\"\n",
       "  990.288,1036.29 990.288,1021.46 \n",
       "  \"/>\n",
       "<polyline clip-path=\"url(#clip2101)\" style=\"stroke:#000000; stroke-width:4; stroke-opacity:1; fill:none\" points=\"\n",
       "  1113.77,1036.29 1113.77,1021.46 \n",
       "  \"/>\n",
       "<polyline clip-path=\"url(#clip2101)\" style=\"stroke:#000000; stroke-width:4; stroke-opacity:1; fill:none\" points=\"\n",
       "  1237.25,1036.29 1237.25,1021.46 \n",
       "  \"/>\n",
       "<polyline clip-path=\"url(#clip2101)\" style=\"stroke:#000000; stroke-width:4; stroke-opacity:1; fill:none\" points=\"\n",
       "  1360.73,1036.29 1360.73,1021.46 \n",
       "  \"/>\n",
       "<polyline clip-path=\"url(#clip2101)\" style=\"stroke:#000000; stroke-width:4; stroke-opacity:1; fill:none\" points=\"\n",
       "  1484.22,1036.29 1484.22,1021.46 \n",
       "  \"/>\n",
       "<polyline clip-path=\"url(#clip2101)\" style=\"stroke:#000000; stroke-width:4; stroke-opacity:1; fill:none\" points=\"\n",
       "  212.353,1024.86 231.986,1024.86 \n",
       "  \"/>\n",
       "<polyline clip-path=\"url(#clip2101)\" style=\"stroke:#000000; stroke-width:4; stroke-opacity:1; fill:none\" points=\"\n",
       "  212.353,914.441 231.986,914.441 \n",
       "  \"/>\n",
       "<polyline clip-path=\"url(#clip2101)\" style=\"stroke:#000000; stroke-width:4; stroke-opacity:1; fill:none\" points=\"\n",
       "  212.353,804.019 231.986,804.019 \n",
       "  \"/>\n",
       "<polyline clip-path=\"url(#clip2101)\" style=\"stroke:#000000; stroke-width:4; stroke-opacity:1; fill:none\" points=\"\n",
       "  212.353,693.597 231.986,693.597 \n",
       "  \"/>\n",
       "<polyline clip-path=\"url(#clip2101)\" style=\"stroke:#000000; stroke-width:4; stroke-opacity:1; fill:none\" points=\"\n",
       "  212.353,583.176 231.986,583.176 \n",
       "  \"/>\n",
       "<polyline clip-path=\"url(#clip2101)\" style=\"stroke:#000000; stroke-width:4; stroke-opacity:1; fill:none\" points=\"\n",
       "  212.353,472.754 231.986,472.754 \n",
       "  \"/>\n",
       "<polyline clip-path=\"url(#clip2101)\" style=\"stroke:#000000; stroke-width:4; stroke-opacity:1; fill:none\" points=\"\n",
       "  212.353,362.332 231.986,362.332 \n",
       "  \"/>\n",
       "<polyline clip-path=\"url(#clip2101)\" style=\"stroke:#000000; stroke-width:4; stroke-opacity:1; fill:none\" points=\"\n",
       "  212.353,251.911 231.986,251.911 \n",
       "  \"/>\n",
       "<polyline clip-path=\"url(#clip2101)\" style=\"stroke:#000000; stroke-width:4; stroke-opacity:1; fill:none\" points=\"\n",
       "  212.353,141.489 231.986,141.489 \n",
       "  \"/>\n",
       "<g clip-path=\"url(#clip2101)\">\n",
       "<text style=\"fill:#000000; fill-opacity:1; font-family:Arial,Helvetica Neue,Helvetica,sans-serif; font-size:48px; text-anchor:middle;\" transform=\"rotate(0, 249.397, 1086.29)\" x=\"249.397\" y=\"1086.29\">-5</text>\n",
       "</g>\n",
       "<g clip-path=\"url(#clip2101)\">\n",
       "<text style=\"fill:#000000; fill-opacity:1; font-family:Arial,Helvetica Neue,Helvetica,sans-serif; font-size:48px; text-anchor:middle;\" transform=\"rotate(0, 372.879, 1086.29)\" x=\"372.879\" y=\"1086.29\">-4</text>\n",
       "</g>\n",
       "<g clip-path=\"url(#clip2101)\">\n",
       "<text style=\"fill:#000000; fill-opacity:1; font-family:Arial,Helvetica Neue,Helvetica,sans-serif; font-size:48px; text-anchor:middle;\" transform=\"rotate(0, 496.361, 1086.29)\" x=\"496.361\" y=\"1086.29\">-3</text>\n",
       "</g>\n",
       "<g clip-path=\"url(#clip2101)\">\n",
       "<text style=\"fill:#000000; fill-opacity:1; font-family:Arial,Helvetica Neue,Helvetica,sans-serif; font-size:48px; text-anchor:middle;\" transform=\"rotate(0, 619.843, 1086.29)\" x=\"619.843\" y=\"1086.29\">-2</text>\n",
       "</g>\n",
       "<g clip-path=\"url(#clip2101)\">\n",
       "<text style=\"fill:#000000; fill-opacity:1; font-family:Arial,Helvetica Neue,Helvetica,sans-serif; font-size:48px; text-anchor:middle;\" transform=\"rotate(0, 743.324, 1086.29)\" x=\"743.324\" y=\"1086.29\">-1</text>\n",
       "</g>\n",
       "<g clip-path=\"url(#clip2101)\">\n",
       "<text style=\"fill:#000000; fill-opacity:1; font-family:Arial,Helvetica Neue,Helvetica,sans-serif; font-size:48px; text-anchor:middle;\" transform=\"rotate(0, 866.806, 1086.29)\" x=\"866.806\" y=\"1086.29\">0</text>\n",
       "</g>\n",
       "<g clip-path=\"url(#clip2101)\">\n",
       "<text style=\"fill:#000000; fill-opacity:1; font-family:Arial,Helvetica Neue,Helvetica,sans-serif; font-size:48px; text-anchor:middle;\" transform=\"rotate(0, 990.288, 1086.29)\" x=\"990.288\" y=\"1086.29\">1</text>\n",
       "</g>\n",
       "<g clip-path=\"url(#clip2101)\">\n",
       "<text style=\"fill:#000000; fill-opacity:1; font-family:Arial,Helvetica Neue,Helvetica,sans-serif; font-size:48px; text-anchor:middle;\" transform=\"rotate(0, 1113.77, 1086.29)\" x=\"1113.77\" y=\"1086.29\">2</text>\n",
       "</g>\n",
       "<g clip-path=\"url(#clip2101)\">\n",
       "<text style=\"fill:#000000; fill-opacity:1; font-family:Arial,Helvetica Neue,Helvetica,sans-serif; font-size:48px; text-anchor:middle;\" transform=\"rotate(0, 1237.25, 1086.29)\" x=\"1237.25\" y=\"1086.29\">3</text>\n",
       "</g>\n",
       "<g clip-path=\"url(#clip2101)\">\n",
       "<text style=\"fill:#000000; fill-opacity:1; font-family:Arial,Helvetica Neue,Helvetica,sans-serif; font-size:48px; text-anchor:middle;\" transform=\"rotate(0, 1360.73, 1086.29)\" x=\"1360.73\" y=\"1086.29\">4</text>\n",
       "</g>\n",
       "<g clip-path=\"url(#clip2101)\">\n",
       "<text style=\"fill:#000000; fill-opacity:1; font-family:Arial,Helvetica Neue,Helvetica,sans-serif; font-size:48px; text-anchor:middle;\" transform=\"rotate(0, 1484.22, 1086.29)\" x=\"1484.22\" y=\"1086.29\">5</text>\n",
       "</g>\n",
       "<g clip-path=\"url(#clip2101)\">\n",
       "<text style=\"fill:#000000; fill-opacity:1; font-family:Arial,Helvetica Neue,Helvetica,sans-serif; font-size:48px; text-anchor:end;\" transform=\"rotate(0, 196.353, 1042.36)\" x=\"196.353\" y=\"1042.36\">-5</text>\n",
       "</g>\n",
       "<g clip-path=\"url(#clip2101)\">\n",
       "<text style=\"fill:#000000; fill-opacity:1; font-family:Arial,Helvetica Neue,Helvetica,sans-serif; font-size:48px; text-anchor:end;\" transform=\"rotate(0, 196.353, 931.941)\" x=\"196.353\" y=\"931.941\">0</text>\n",
       "</g>\n",
       "<g clip-path=\"url(#clip2101)\">\n",
       "<text style=\"fill:#000000; fill-opacity:1; font-family:Arial,Helvetica Neue,Helvetica,sans-serif; font-size:48px; text-anchor:end;\" transform=\"rotate(0, 196.353, 821.519)\" x=\"196.353\" y=\"821.519\">5</text>\n",
       "</g>\n",
       "<g clip-path=\"url(#clip2101)\">\n",
       "<text style=\"fill:#000000; fill-opacity:1; font-family:Arial,Helvetica Neue,Helvetica,sans-serif; font-size:48px; text-anchor:end;\" transform=\"rotate(0, 196.353, 711.097)\" x=\"196.353\" y=\"711.097\">10</text>\n",
       "</g>\n",
       "<g clip-path=\"url(#clip2101)\">\n",
       "<text style=\"fill:#000000; fill-opacity:1; font-family:Arial,Helvetica Neue,Helvetica,sans-serif; font-size:48px; text-anchor:end;\" transform=\"rotate(0, 196.353, 600.676)\" x=\"196.353\" y=\"600.676\">15</text>\n",
       "</g>\n",
       "<g clip-path=\"url(#clip2101)\">\n",
       "<text style=\"fill:#000000; fill-opacity:1; font-family:Arial,Helvetica Neue,Helvetica,sans-serif; font-size:48px; text-anchor:end;\" transform=\"rotate(0, 196.353, 490.254)\" x=\"196.353\" y=\"490.254\">20</text>\n",
       "</g>\n",
       "<g clip-path=\"url(#clip2101)\">\n",
       "<text style=\"fill:#000000; fill-opacity:1; font-family:Arial,Helvetica Neue,Helvetica,sans-serif; font-size:48px; text-anchor:end;\" transform=\"rotate(0, 196.353, 379.832)\" x=\"196.353\" y=\"379.832\">25</text>\n",
       "</g>\n",
       "<g clip-path=\"url(#clip2101)\">\n",
       "<text style=\"fill:#000000; fill-opacity:1; font-family:Arial,Helvetica Neue,Helvetica,sans-serif; font-size:48px; text-anchor:end;\" transform=\"rotate(0, 196.353, 269.411)\" x=\"196.353\" y=\"269.411\">30</text>\n",
       "</g>\n",
       "<g clip-path=\"url(#clip2101)\">\n",
       "<text style=\"fill:#000000; fill-opacity:1; font-family:Arial,Helvetica Neue,Helvetica,sans-serif; font-size:48px; text-anchor:end;\" transform=\"rotate(0, 196.353, 158.989)\" x=\"196.353\" y=\"158.989\">35</text>\n",
       "</g>\n",
       "<g clip-path=\"url(#clip2101)\">\n",
       "<text style=\"fill:#000000; fill-opacity:1; font-family:Arial,Helvetica Neue,Helvetica,sans-serif; font-size:66px; text-anchor:middle;\" transform=\"rotate(0, 866.806, 1190.4)\" x=\"866.806\" y=\"1190.4\">x</text>\n",
       "</g>\n",
       "<g clip-path=\"url(#clip2101)\">\n",
       "<text style=\"fill:#000000; fill-opacity:1; font-family:Arial,Helvetica Neue,Helvetica,sans-serif; font-size:66px; text-anchor:middle;\" transform=\"rotate(-90, 57.6, 541.768)\" x=\"57.6\" y=\"541.768\">y</text>\n",
       "</g>\n",
       "<polyline clip-path=\"url(#clip2103)\" style=\"stroke:#009af9; stroke-width:4; stroke-opacity:1; fill:none\" points=\"\n",
       "  249.397,75.236 261.745,103.725 274.094,131.772 286.442,159.377 298.79,186.541 311.138,213.263 323.486,239.543 335.835,265.382 348.183,290.779 360.531,315.734 \n",
       "  372.879,340.248 385.227,364.32 397.575,387.95 409.924,411.139 422.272,433.886 434.62,456.191 446.968,478.054 459.316,499.476 471.665,520.456 484.013,540.995 \n",
       "  496.361,561.091 508.709,580.746 521.057,599.96 533.405,618.731 545.754,637.061 558.102,654.95 570.45,672.396 582.798,689.401 595.146,705.965 607.495,722.086 \n",
       "  619.843,737.766 632.191,753.004 644.539,767.801 656.887,782.155 669.235,796.069 681.584,809.54 693.932,822.57 706.28,835.158 718.628,847.304 730.976,859.009 \n",
       "  743.324,870.272 755.673,881.093 768.021,891.473 780.369,901.411 792.717,910.907 805.065,919.962 817.414,928.575 829.762,936.746 842.11,944.475 854.458,951.763 \n",
       "  866.806,958.609 879.154,965.014 891.503,970.977 903.851,976.498 916.199,981.577 928.547,986.215 940.895,990.411 953.244,994.165 965.592,997.478 977.94,1000.35 \n",
       "  990.288,1002.78 1002.64,1004.77 1014.98,1006.31 1027.33,1007.42 1039.68,1008.08 1052.03,1008.3 1064.38,1008.08 1076.73,1007.42 1089.07,1006.31 1101.42,1004.77 \n",
       "  1113.77,1002.78 1126.12,1000.35 1138.47,997.478 1150.81,994.165 1163.16,990.411 1175.51,986.215 1187.86,981.577 1200.21,976.498 1212.56,970.977 1224.9,965.014 \n",
       "  1237.25,958.609 1249.6,951.763 1261.95,944.475 1274.3,936.746 1286.64,928.575 1298.99,919.962 1311.34,910.907 1323.69,901.411 1336.04,891.473 1348.39,881.093 \n",
       "  1360.73,870.272 1373.08,859.009 1385.43,847.304 1397.78,835.158 1410.13,822.57 1422.47,809.54 1434.82,796.069 1447.17,782.155 1459.52,767.801 1471.87,753.004 \n",
       "  1484.22,737.766 \n",
       "  \"/>\n",
       "<polyline clip-path=\"url(#clip2103)\" style=\"stroke:#e26f46; stroke-width:4; stroke-opacity:1; fill:none\" points=\"\n",
       "  249.397,914.441 261.745,914.441 274.094,914.441 286.442,914.441 298.79,914.441 311.138,914.441 323.486,914.441 335.835,914.441 348.183,914.441 360.531,914.441 \n",
       "  372.879,914.441 385.227,914.441 397.575,914.441 409.924,914.441 422.272,914.441 434.62,914.441 446.968,914.441 459.316,914.441 471.665,914.441 484.013,914.441 \n",
       "  496.361,914.441 508.709,914.441 521.057,914.441 533.405,914.441 545.754,914.441 558.102,914.441 570.45,914.441 582.798,914.441 595.146,914.441 607.495,914.441 \n",
       "  619.843,914.441 632.191,914.441 644.539,914.441 656.887,914.441 669.235,914.441 681.584,914.441 693.932,914.441 706.28,914.441 718.628,914.441 730.976,914.441 \n",
       "  743.324,914.441 755.673,914.441 768.021,914.441 780.369,914.441 792.717,914.441 805.065,914.441 817.414,914.441 829.762,914.441 842.11,914.441 854.458,914.441 \n",
       "  866.806,914.441 879.154,914.441 891.503,914.441 903.851,914.441 916.199,914.441 928.547,914.441 940.895,914.441 953.244,914.441 965.592,914.441 977.94,914.441 \n",
       "  990.288,914.441 1002.64,914.441 1014.98,914.441 1027.33,914.441 1039.68,914.441 1052.03,914.441 1064.38,914.441 1076.73,914.441 1089.07,914.441 1101.42,914.441 \n",
       "  1113.77,914.441 1126.12,914.441 1138.47,914.441 1150.81,914.441 1163.16,914.441 1175.51,914.441 1187.86,914.441 1200.21,914.441 1212.56,914.441 1224.9,914.441 \n",
       "  1237.25,914.441 1249.6,914.441 1261.95,914.441 1274.3,914.441 1286.64,914.441 1298.99,914.441 1311.34,914.441 1323.69,914.441 1336.04,914.441 1348.39,914.441 \n",
       "  1360.73,914.441 1373.08,914.441 1385.43,914.441 1397.78,914.441 1410.13,914.441 1422.47,914.441 1434.82,914.441 1447.17,914.441 1459.52,914.441 1471.87,914.441 \n",
       "  1484.22,914.441 \n",
       "  \"/>\n",
       "<circle clip-path=\"url(#clip2103)\" style=\"fill:#000000; stroke:none; fill-opacity:1\" cx=\"1306.59\" cy=\"914.441\" r=\"18\"/>\n",
       "<circle clip-path=\"url(#clip2103)\" style=\"fill:#3da44d; stroke:none; fill-opacity:1\" cx=\"1306.59\" cy=\"914.441\" r=\"14\"/>\n",
       "<circle clip-path=\"url(#clip2103)\" style=\"fill:#000000; stroke:none; fill-opacity:1\" cx=\"797.465\" cy=\"914.441\" r=\"18\"/>\n",
       "<circle clip-path=\"url(#clip2103)\" style=\"fill:#3da44d; stroke:none; fill-opacity:1\" cx=\"797.465\" cy=\"914.441\" r=\"14\"/>\n",
       "<polygon clip-path=\"url(#clip2101)\" points=\"\n",
       "1123.32,324.684 1473.26,324.684 1473.26,82.7641 1123.32,82.7641 \n",
       "  \" fill=\"#ffffff\" fill-rule=\"evenodd\" fill-opacity=\"1\"/>\n",
       "<polyline clip-path=\"url(#clip2101)\" style=\"stroke:#000000; stroke-width:4; stroke-opacity:1; fill:none\" points=\"\n",
       "  1123.32,324.684 1473.26,324.684 1473.26,82.7641 1123.32,82.7641 1123.32,324.684 \n",
       "  \"/>\n",
       "<polyline clip-path=\"url(#clip2101)\" style=\"stroke:#009af9; stroke-width:4; stroke-opacity:1; fill:none\" points=\"\n",
       "  1139.32,143.244 1235.32,143.244 \n",
       "  \"/>\n",
       "<g clip-path=\"url(#clip2101)\">\n",
       "<text style=\"fill:#000000; fill-opacity:1; font-family:Arial,Helvetica Neue,Helvetica,sans-serif; font-size:48px; text-anchor:start;\" transform=\"rotate(0, 1251.32, 160.744)\" x=\"1251.32\" y=\"160.744\">equação</text>\n",
       "</g>\n",
       "<polyline clip-path=\"url(#clip2101)\" style=\"stroke:#e26f46; stroke-width:4; stroke-opacity:1; fill:none\" points=\"\n",
       "  1139.32,203.724 1235.32,203.724 \n",
       "  \"/>\n",
       "<g clip-path=\"url(#clip2101)\">\n",
       "<text style=\"fill:#000000; fill-opacity:1; font-family:Arial,Helvetica Neue,Helvetica,sans-serif; font-size:48px; text-anchor:start;\" transform=\"rotate(0, 1251.32, 221.224)\" x=\"1251.32\" y=\"221.224\">reta zero</text>\n",
       "</g>\n",
       "<circle clip-path=\"url(#clip2101)\" style=\"fill:#000000; stroke:none; fill-opacity:1\" cx=\"1195.32\" cy=\"264.204\" r=\"25\"/>\n",
       "<circle clip-path=\"url(#clip2101)\" style=\"fill:#3da44d; stroke:none; fill-opacity:1\" cx=\"1195.32\" cy=\"264.204\" r=\"21\"/>\n",
       "<g clip-path=\"url(#clip2101)\">\n",
       "<text style=\"fill:#000000; fill-opacity:1; font-family:Arial,Helvetica Neue,Helvetica,sans-serif; font-size:48px; text-anchor:start;\" transform=\"rotate(0, 1251.32, 281.704)\" x=\"1251.32\" y=\"281.704\">raízes</text>\n",
       "</g>\n",
       "</svg>\n"
      ]
     },
     "execution_count": 9,
     "metadata": {},
     "output_type": "execute_result"
    }
   ],
   "source": [
    "using Plots\n",
    "gr()\n",
    "\n",
    "plot(-5:0.1:5, x -> x^2 - 3*x - 2, label = \"equação\", \n",
    "    xaxis = (\"x\",  -5:1:10),\n",
    "    yaxis = (\"y\", -5:5:40))\n",
    "plot!(-5:0.1:5, zero, label = \"reta zero\")\n",
    "scatter!([x1, x2], [0, 0], label  = \"raízes\", size = (400, 300) )"
   ]
  },
  {
   "cell_type": "markdown",
   "metadata": {},
   "source": [
    "**Utilizando uma função genérica**"
   ]
  },
  {
   "cell_type": "code",
   "execution_count": 10,
   "metadata": {
    "collapsed": false
   },
   "outputs": [
    {
     "data": {
      "text/plain": [
       "(x,)"
      ]
     },
     "execution_count": 10,
     "metadata": {},
     "output_type": "execute_result"
    }
   ],
   "source": [
    "using SymPy\n",
    "@syms x"
   ]
  },
  {
   "cell_type": "code",
   "execution_count": 11,
   "metadata": {
    "collapsed": false,
    "scrolled": true
   },
   "outputs": [
    {
     "data": {
      "text/plain": [
       "f1 (generic function with 1 method)"
      ]
     },
     "execution_count": 11,
     "metadata": {},
     "output_type": "execute_result"
    }
   ],
   "source": [
    "# Função genérica\n",
    "f1(x) = x^2 - 3*x - 2"
   ]
  },
  {
   "cell_type": "code",
   "execution_count": 12,
   "metadata": {
    "collapsed": false,
    "scrolled": true
   },
   "outputs": [
    {
     "data": {
      "text/latex": [
       "\\begin{bmatrix}\\frac{3}{2} + \\frac{\\sqrt{17}}{2}\\\\- \\frac{\\sqrt{17}}{2} + \\frac{3}{2}\\end{bmatrix}"
      ],
      "text/plain": [
       "2-element Array{Sym,1}:\n",
       "  3/2 + sqrt(17)/2\n",
       " -sqrt(17)/2 + 3/2"
      ]
     },
     "execution_count": 12,
     "metadata": {},
     "output_type": "execute_result"
    }
   ],
   "source": [
    "sol_f1 = solve(f1(x), x)"
   ]
  },
  {
   "cell_type": "code",
   "execution_count": 13,
   "metadata": {
    "collapsed": false
   },
   "outputs": [
    {
     "data": {
      "text/plain": [
       "Array{Sym,1}"
      ]
     },
     "execution_count": 13,
     "metadata": {},
     "output_type": "execute_result"
    }
   ],
   "source": [
    "# tipo\n",
    "typeof(sol_f1)"
   ]
  },
  {
   "cell_type": "markdown",
   "metadata": {},
   "source": [
    "Ou ainda"
   ]
  },
  {
   "cell_type": "code",
   "execution_count": 14,
   "metadata": {
    "collapsed": false,
    "scrolled": true
   },
   "outputs": [
    {
     "data": {
      "text/plain": [
       "2-element Array{Float64,1}:\n",
       "  3.5615528128088303\n",
       " -0.5615528128088303"
      ]
     },
     "execution_count": 14,
     "metadata": {},
     "output_type": "execute_result"
    }
   ],
   "source": [
    "raízes = float(solve(f1(x), x))"
   ]
  },
  {
   "cell_type": "markdown",
   "metadata": {},
   "source": [
    "A variável \"raízes\" é um vetor que contém os valores de $x_1$ e $x_2$. Dessa forma, podemos acessar somente o valor de $X_1$ ou de $X_2$"
   ]
  },
  {
   "cell_type": "code",
   "execution_count": 15,
   "metadata": {
    "collapsed": false,
    "scrolled": true
   },
   "outputs": [
    {
     "data": {
      "text/plain": [
       "(3.5615528128088303, -0.5615528128088303)"
      ]
     },
     "execution_count": 15,
     "metadata": {},
     "output_type": "execute_result"
    }
   ],
   "source": [
    "raízes[1], raízes[2]"
   ]
  },
  {
   "cell_type": "markdown",
   "metadata": {},
   "source": [
    "**Equação de Gauss**\n",
    "\n",
    "<img src=\"Figuras/gauss-espelhos-esfericos.png\" align=\"center\" width=\"300\">\n",
    "Uma vantagem especial do pacote `SymPy.jl` é a manipulação simbólica de fórmulas, permitindo resolver uma equação em relação a qualquer variável. No exemplo a seguir, encontraremos a relação entre o foco ($f$) e as distâncias do objeto ($p_o$) e imagem ($p_i$) à frete de um espelho esférico definido pela equação de Gauss, ou equação dos pontos conjugados: \n",
    "\n",
    "\n",
    "$ \\displaystyle{\\frac{1}{f} = \\frac{1}{p_o} + \\frac{1}{p_i}}$ "
   ]
  },
  {
   "cell_type": "code",
   "execution_count": 17,
   "metadata": {
    "collapsed": false,
    "scrolled": false
   },
   "outputs": [
    {
     "data": {
      "text/plain": [
       "(f, p_o, p_i)"
      ]
     },
     "execution_count": 17,
     "metadata": {},
     "output_type": "execute_result"
    }
   ],
   "source": [
    "using SymPy\n",
    "@syms f p_o p_i"
   ]
  },
  {
   "cell_type": "code",
   "execution_count": 18,
   "metadata": {
    "collapsed": false,
    "scrolled": true
   },
   "outputs": [
    {
     "data": {
      "text/latex": [
       "\\begin{bmatrix}\\frac{p_{i} p_{o}}{p_{i} + p_{o}}\\end{bmatrix}"
      ],
      "text/plain": [
       "1-element Array{Sym,1}:\n",
       " p_i*p_o/(p_i + p_o)"
      ]
     },
     "execution_count": 18,
     "metadata": {},
     "output_type": "execute_result"
    }
   ],
   "source": [
    "sol_f = solve(1/f - 1/p_o - 1/p_i, f)"
   ]
  },
  {
   "cell_type": "markdown",
   "metadata": {},
   "source": [
    "O foco $f$ pode ser calculado atribuíndo valores para as variáveis $p_o = 10$ e $p_i = 1$. É possível atribuição direta na forma $ f(10, 1) $ porém não há certeza se os valores atribídos para $ p_o $  e $ p_i $ serão 10 e 1 respectivamente. Dessa forma, a função `subs()` do `SymPy.jl` resolve este problema."
   ]
  },
  {
   "cell_type": "code",
   "execution_count": 19,
   "metadata": {
    "collapsed": false
   },
   "outputs": [
    {
     "data": {
      "text/plain": [
       "0.9090909090909091"
      ]
     },
     "execution_count": 19,
     "metadata": {},
     "output_type": "execute_result"
    }
   ],
   "source": [
    "float(subs(sol_f[1], p_o =>10, p_i=>1))"
   ]
  },
  {
   "cell_type": "markdown",
   "metadata": {},
   "source": [
    "Para usar o resultado simbólico em uma função genérica ou anônima, use:"
   ]
  },
  {
   "cell_type": "code",
   "execution_count": 20,
   "metadata": {
    "collapsed": false
   },
   "outputs": [
    {
     "data": {
      "text/plain": [
       "F1 (generic function with 1 method)"
      ]
     },
     "execution_count": 20,
     "metadata": {},
     "output_type": "execute_result"
    }
   ],
   "source": [
    "# função genérica\n",
    "@eval F1(p_o, p_i) = $(Meta.parse(string(sol_f[1])))"
   ]
  },
  {
   "cell_type": "code",
   "execution_count": 21,
   "metadata": {
    "collapsed": false
   },
   "outputs": [
    {
     "data": {
      "text/plain": [
       "0.9090909090909091"
      ]
     },
     "execution_count": 21,
     "metadata": {},
     "output_type": "execute_result"
    }
   ],
   "source": [
    "F1(10, 1)"
   ]
  },
  {
   "cell_type": "code",
   "execution_count": 22,
   "metadata": {
    "collapsed": false
   },
   "outputs": [
    {
     "data": {
      "text/plain": [
       "#216 (generic function with 1 method)"
      ]
     },
     "execution_count": 22,
     "metadata": {},
     "output_type": "execute_result"
    }
   ],
   "source": [
    "# função anônima\n",
    "F2 = convert(Function, sol_f[1])"
   ]
  },
  {
   "cell_type": "code",
   "execution_count": 23,
   "metadata": {
    "collapsed": false
   },
   "outputs": [
    {
     "data": {
      "text/plain": [
       "0.9090909090909092"
      ]
     },
     "execution_count": 23,
     "metadata": {},
     "output_type": "execute_result"
    }
   ],
   "source": [
    "F2(10, 1)"
   ]
  },
  {
   "cell_type": "markdown",
   "metadata": {},
   "source": [
    "Uma solução interessante é resolver a equação dos pontos conjugados em relação $p_i$. O resultado, $p_i = - \\frac{f p_{o}}{f - p_{o}}$,  quando expresso em um gráfico nos diz que a distância da imagem formada tende para um valor constante igual à distância focal."
   ]
  },
  {
   "cell_type": "code",
   "execution_count": 83,
   "metadata": {
    "collapsed": false,
    "scrolled": false
   },
   "outputs": [
    {
     "data": {
      "text/plain": [
       "F3 (generic function with 1 method)"
      ]
     },
     "execution_count": 83,
     "metadata": {},
     "output_type": "execute_result"
    }
   ],
   "source": [
    "@eval F3(p_o, f) = $(Meta.parse(string(solve(1/f - 1/p_o - 1/p_i, p_i)[1])))"
   ]
  },
  {
   "cell_type": "markdown",
   "metadata": {},
   "source": [
    "Para construir o gráfico, devemos variar $p_o$ entre os intervalos $[0:9]~$ e $~[11:100]$ excluíndo $p_o = 10cm$ que de acordo com as propriedades de formação de imagem dos espelhos esféricos determina uma imagem imprópria."
   ]
  },
  {
   "cell_type": "code",
   "execution_count": 121,
   "metadata": {
    "collapsed": false
   },
   "outputs": [
    {
     "data": {
      "image/svg+xml": [
       "<?xml version=\"1.0\" encoding=\"utf-8\"?>\n",
       "<svg xmlns=\"http://www.w3.org/2000/svg\" xmlns:xlink=\"http://www.w3.org/1999/xlink\" width=\"600\" height=\"400\" viewBox=\"0 0 2400 1600\">\n",
       "<defs>\n",
       "  <clipPath id=\"clip8600\">\n",
       "    <rect x=\"0\" y=\"0\" width=\"2000\" height=\"2000\"/>\n",
       "  </clipPath>\n",
       "</defs>\n",
       "<defs>\n",
       "  <clipPath id=\"clip8601\">\n",
       "    <rect x=\"0\" y=\"0\" width=\"2400\" height=\"1600\"/>\n",
       "  </clipPath>\n",
       "</defs>\n",
       "<polygon clip-path=\"url(#clip8601)\" points=\"\n",
       "0,1600 2400,1600 2400,0 0,0 \n",
       "  \" fill=\"#ffffff\" fill-rule=\"evenodd\" fill-opacity=\"1\"/>\n",
       "<defs>\n",
       "  <clipPath id=\"clip8602\">\n",
       "    <rect x=\"480\" y=\"0\" width=\"1681\" height=\"1600\"/>\n",
       "  </clipPath>\n",
       "</defs>\n",
       "<polygon clip-path=\"url(#clip8601)\" points=\"\n",
       "176.123,1503.47 2321.26,1503.47 2321.26,47.2441 176.123,47.2441 \n",
       "  \" fill=\"#ffffff\" fill-rule=\"evenodd\" fill-opacity=\"1\"/>\n",
       "<defs>\n",
       "  <clipPath id=\"clip8603\">\n",
       "    <rect x=\"176\" y=\"47\" width=\"2146\" height=\"1457\"/>\n",
       "  </clipPath>\n",
       "</defs>\n",
       "<polyline clip-path=\"url(#clip8603)\" style=\"stroke:#000000; stroke-width:2; stroke-opacity:0.1; fill:none\" points=\"\n",
       "  236.834,1503.47 236.834,47.2441 \n",
       "  \"/>\n",
       "<polyline clip-path=\"url(#clip8603)\" style=\"stroke:#000000; stroke-width:2; stroke-opacity:0.1; fill:none\" points=\"\n",
       "  742.763,1503.47 742.763,47.2441 \n",
       "  \"/>\n",
       "<polyline clip-path=\"url(#clip8603)\" style=\"stroke:#000000; stroke-width:2; stroke-opacity:0.1; fill:none\" points=\"\n",
       "  1248.69,1503.47 1248.69,47.2441 \n",
       "  \"/>\n",
       "<polyline clip-path=\"url(#clip8603)\" style=\"stroke:#000000; stroke-width:2; stroke-opacity:0.1; fill:none\" points=\"\n",
       "  1754.62,1503.47 1754.62,47.2441 \n",
       "  \"/>\n",
       "<polyline clip-path=\"url(#clip8603)\" style=\"stroke:#000000; stroke-width:2; stroke-opacity:0.1; fill:none\" points=\"\n",
       "  2260.55,1503.47 2260.55,47.2441 \n",
       "  \"/>\n",
       "<polyline clip-path=\"url(#clip8603)\" style=\"stroke:#000000; stroke-width:2; stroke-opacity:0.1; fill:none\" points=\"\n",
       "  176.123,1462.26 2321.26,1462.26 \n",
       "  \"/>\n",
       "<polyline clip-path=\"url(#clip8603)\" style=\"stroke:#000000; stroke-width:2; stroke-opacity:0.1; fill:none\" points=\"\n",
       "  176.123,1393.57 2321.26,1393.57 \n",
       "  \"/>\n",
       "<polyline clip-path=\"url(#clip8603)\" style=\"stroke:#000000; stroke-width:2; stroke-opacity:0.1; fill:none\" points=\"\n",
       "  176.123,1324.88 2321.26,1324.88 \n",
       "  \"/>\n",
       "<polyline clip-path=\"url(#clip8603)\" style=\"stroke:#000000; stroke-width:2; stroke-opacity:0.1; fill:none\" points=\"\n",
       "  176.123,1256.19 2321.26,1256.19 \n",
       "  \"/>\n",
       "<polyline clip-path=\"url(#clip8603)\" style=\"stroke:#000000; stroke-width:2; stroke-opacity:0.1; fill:none\" points=\"\n",
       "  176.123,1187.5 2321.26,1187.5 \n",
       "  \"/>\n",
       "<polyline clip-path=\"url(#clip8603)\" style=\"stroke:#000000; stroke-width:2; stroke-opacity:0.1; fill:none\" points=\"\n",
       "  176.123,1118.81 2321.26,1118.81 \n",
       "  \"/>\n",
       "<polyline clip-path=\"url(#clip8603)\" style=\"stroke:#000000; stroke-width:2; stroke-opacity:0.1; fill:none\" points=\"\n",
       "  176.123,1050.12 2321.26,1050.12 \n",
       "  \"/>\n",
       "<polyline clip-path=\"url(#clip8603)\" style=\"stroke:#000000; stroke-width:2; stroke-opacity:0.1; fill:none\" points=\"\n",
       "  176.123,981.43 2321.26,981.43 \n",
       "  \"/>\n",
       "<polyline clip-path=\"url(#clip8603)\" style=\"stroke:#000000; stroke-width:2; stroke-opacity:0.1; fill:none\" points=\"\n",
       "  176.123,912.74 2321.26,912.74 \n",
       "  \"/>\n",
       "<polyline clip-path=\"url(#clip8603)\" style=\"stroke:#000000; stroke-width:2; stroke-opacity:0.1; fill:none\" points=\"\n",
       "  176.123,844.05 2321.26,844.05 \n",
       "  \"/>\n",
       "<polyline clip-path=\"url(#clip8603)\" style=\"stroke:#000000; stroke-width:2; stroke-opacity:0.1; fill:none\" points=\"\n",
       "  176.123,775.359 2321.26,775.359 \n",
       "  \"/>\n",
       "<polyline clip-path=\"url(#clip8603)\" style=\"stroke:#000000; stroke-width:2; stroke-opacity:0.1; fill:none\" points=\"\n",
       "  176.123,706.669 2321.26,706.669 \n",
       "  \"/>\n",
       "<polyline clip-path=\"url(#clip8603)\" style=\"stroke:#000000; stroke-width:2; stroke-opacity:0.1; fill:none\" points=\"\n",
       "  176.123,637.979 2321.26,637.979 \n",
       "  \"/>\n",
       "<polyline clip-path=\"url(#clip8603)\" style=\"stroke:#000000; stroke-width:2; stroke-opacity:0.1; fill:none\" points=\"\n",
       "  176.123,569.289 2321.26,569.289 \n",
       "  \"/>\n",
       "<polyline clip-path=\"url(#clip8603)\" style=\"stroke:#000000; stroke-width:2; stroke-opacity:0.1; fill:none\" points=\"\n",
       "  176.123,500.599 2321.26,500.599 \n",
       "  \"/>\n",
       "<polyline clip-path=\"url(#clip8603)\" style=\"stroke:#000000; stroke-width:2; stroke-opacity:0.1; fill:none\" points=\"\n",
       "  176.123,431.909 2321.26,431.909 \n",
       "  \"/>\n",
       "<polyline clip-path=\"url(#clip8603)\" style=\"stroke:#000000; stroke-width:2; stroke-opacity:0.1; fill:none\" points=\"\n",
       "  176.123,363.219 2321.26,363.219 \n",
       "  \"/>\n",
       "<polyline clip-path=\"url(#clip8603)\" style=\"stroke:#000000; stroke-width:2; stroke-opacity:0.1; fill:none\" points=\"\n",
       "  176.123,294.529 2321.26,294.529 \n",
       "  \"/>\n",
       "<polyline clip-path=\"url(#clip8603)\" style=\"stroke:#000000; stroke-width:2; stroke-opacity:0.1; fill:none\" points=\"\n",
       "  176.123,225.838 2321.26,225.838 \n",
       "  \"/>\n",
       "<polyline clip-path=\"url(#clip8603)\" style=\"stroke:#000000; stroke-width:2; stroke-opacity:0.1; fill:none\" points=\"\n",
       "  176.123,157.148 2321.26,157.148 \n",
       "  \"/>\n",
       "<polyline clip-path=\"url(#clip8603)\" style=\"stroke:#000000; stroke-width:2; stroke-opacity:0.1; fill:none\" points=\"\n",
       "  176.123,88.4582 2321.26,88.4582 \n",
       "  \"/>\n",
       "<polyline clip-path=\"url(#clip8601)\" style=\"stroke:#000000; stroke-width:4; stroke-opacity:1; fill:none\" points=\"\n",
       "  176.123,1503.47 2321.26,1503.47 \n",
       "  \"/>\n",
       "<polyline clip-path=\"url(#clip8601)\" style=\"stroke:#000000; stroke-width:4; stroke-opacity:1; fill:none\" points=\"\n",
       "  176.123,1503.47 176.123,47.2441 \n",
       "  \"/>\n",
       "<polyline clip-path=\"url(#clip8601)\" style=\"stroke:#000000; stroke-width:4; stroke-opacity:1; fill:none\" points=\"\n",
       "  236.834,1503.47 236.834,1481.63 \n",
       "  \"/>\n",
       "<polyline clip-path=\"url(#clip8601)\" style=\"stroke:#000000; stroke-width:4; stroke-opacity:1; fill:none\" points=\"\n",
       "  742.763,1503.47 742.763,1481.63 \n",
       "  \"/>\n",
       "<polyline clip-path=\"url(#clip8601)\" style=\"stroke:#000000; stroke-width:4; stroke-opacity:1; fill:none\" points=\"\n",
       "  1248.69,1503.47 1248.69,1481.63 \n",
       "  \"/>\n",
       "<polyline clip-path=\"url(#clip8601)\" style=\"stroke:#000000; stroke-width:4; stroke-opacity:1; fill:none\" points=\"\n",
       "  1754.62,1503.47 1754.62,1481.63 \n",
       "  \"/>\n",
       "<polyline clip-path=\"url(#clip8601)\" style=\"stroke:#000000; stroke-width:4; stroke-opacity:1; fill:none\" points=\"\n",
       "  2260.55,1503.47 2260.55,1481.63 \n",
       "  \"/>\n",
       "<polyline clip-path=\"url(#clip8601)\" style=\"stroke:#000000; stroke-width:4; stroke-opacity:1; fill:none\" points=\"\n",
       "  176.123,1462.26 208.3,1462.26 \n",
       "  \"/>\n",
       "<polyline clip-path=\"url(#clip8601)\" style=\"stroke:#000000; stroke-width:4; stroke-opacity:1; fill:none\" points=\"\n",
       "  176.123,1393.57 208.3,1393.57 \n",
       "  \"/>\n",
       "<polyline clip-path=\"url(#clip8601)\" style=\"stroke:#000000; stroke-width:4; stroke-opacity:1; fill:none\" points=\"\n",
       "  176.123,1324.88 208.3,1324.88 \n",
       "  \"/>\n",
       "<polyline clip-path=\"url(#clip8601)\" style=\"stroke:#000000; stroke-width:4; stroke-opacity:1; fill:none\" points=\"\n",
       "  176.123,1256.19 208.3,1256.19 \n",
       "  \"/>\n",
       "<polyline clip-path=\"url(#clip8601)\" style=\"stroke:#000000; stroke-width:4; stroke-opacity:1; fill:none\" points=\"\n",
       "  176.123,1187.5 208.3,1187.5 \n",
       "  \"/>\n",
       "<polyline clip-path=\"url(#clip8601)\" style=\"stroke:#000000; stroke-width:4; stroke-opacity:1; fill:none\" points=\"\n",
       "  176.123,1118.81 208.3,1118.81 \n",
       "  \"/>\n",
       "<polyline clip-path=\"url(#clip8601)\" style=\"stroke:#000000; stroke-width:4; stroke-opacity:1; fill:none\" points=\"\n",
       "  176.123,1050.12 208.3,1050.12 \n",
       "  \"/>\n",
       "<polyline clip-path=\"url(#clip8601)\" style=\"stroke:#000000; stroke-width:4; stroke-opacity:1; fill:none\" points=\"\n",
       "  176.123,981.43 208.3,981.43 \n",
       "  \"/>\n",
       "<polyline clip-path=\"url(#clip8601)\" style=\"stroke:#000000; stroke-width:4; stroke-opacity:1; fill:none\" points=\"\n",
       "  176.123,912.74 208.3,912.74 \n",
       "  \"/>\n",
       "<polyline clip-path=\"url(#clip8601)\" style=\"stroke:#000000; stroke-width:4; stroke-opacity:1; fill:none\" points=\"\n",
       "  176.123,844.05 208.3,844.05 \n",
       "  \"/>\n",
       "<polyline clip-path=\"url(#clip8601)\" style=\"stroke:#000000; stroke-width:4; stroke-opacity:1; fill:none\" points=\"\n",
       "  176.123,775.359 208.3,775.359 \n",
       "  \"/>\n",
       "<polyline clip-path=\"url(#clip8601)\" style=\"stroke:#000000; stroke-width:4; stroke-opacity:1; fill:none\" points=\"\n",
       "  176.123,706.669 208.3,706.669 \n",
       "  \"/>\n",
       "<polyline clip-path=\"url(#clip8601)\" style=\"stroke:#000000; stroke-width:4; stroke-opacity:1; fill:none\" points=\"\n",
       "  176.123,637.979 208.3,637.979 \n",
       "  \"/>\n",
       "<polyline clip-path=\"url(#clip8601)\" style=\"stroke:#000000; stroke-width:4; stroke-opacity:1; fill:none\" points=\"\n",
       "  176.123,569.289 208.3,569.289 \n",
       "  \"/>\n",
       "<polyline clip-path=\"url(#clip8601)\" style=\"stroke:#000000; stroke-width:4; stroke-opacity:1; fill:none\" points=\"\n",
       "  176.123,500.599 208.3,500.599 \n",
       "  \"/>\n",
       "<polyline clip-path=\"url(#clip8601)\" style=\"stroke:#000000; stroke-width:4; stroke-opacity:1; fill:none\" points=\"\n",
       "  176.123,431.909 208.3,431.909 \n",
       "  \"/>\n",
       "<polyline clip-path=\"url(#clip8601)\" style=\"stroke:#000000; stroke-width:4; stroke-opacity:1; fill:none\" points=\"\n",
       "  176.123,363.219 208.3,363.219 \n",
       "  \"/>\n",
       "<polyline clip-path=\"url(#clip8601)\" style=\"stroke:#000000; stroke-width:4; stroke-opacity:1; fill:none\" points=\"\n",
       "  176.123,294.529 208.3,294.529 \n",
       "  \"/>\n",
       "<polyline clip-path=\"url(#clip8601)\" style=\"stroke:#000000; stroke-width:4; stroke-opacity:1; fill:none\" points=\"\n",
       "  176.123,225.838 208.3,225.838 \n",
       "  \"/>\n",
       "<polyline clip-path=\"url(#clip8601)\" style=\"stroke:#000000; stroke-width:4; stroke-opacity:1; fill:none\" points=\"\n",
       "  176.123,157.148 208.3,157.148 \n",
       "  \"/>\n",
       "<polyline clip-path=\"url(#clip8601)\" style=\"stroke:#000000; stroke-width:4; stroke-opacity:1; fill:none\" points=\"\n",
       "  176.123,88.4582 208.3,88.4582 \n",
       "  \"/>\n",
       "<g clip-path=\"url(#clip8601)\">\n",
       "<text style=\"fill:#000000; fill-opacity:1; font-family:Arial,Helvetica Neue,Helvetica,sans-serif; font-size:48px; text-anchor:middle;\" transform=\"rotate(0, 236.834, 1557.47)\" x=\"236.834\" y=\"1557.47\">0</text>\n",
       "</g>\n",
       "<g clip-path=\"url(#clip8601)\">\n",
       "<text style=\"fill:#000000; fill-opacity:1; font-family:Arial,Helvetica Neue,Helvetica,sans-serif; font-size:48px; text-anchor:middle;\" transform=\"rotate(0, 742.763, 1557.47)\" x=\"742.763\" y=\"1557.47\">25</text>\n",
       "</g>\n",
       "<g clip-path=\"url(#clip8601)\">\n",
       "<text style=\"fill:#000000; fill-opacity:1; font-family:Arial,Helvetica Neue,Helvetica,sans-serif; font-size:48px; text-anchor:middle;\" transform=\"rotate(0, 1248.69, 1557.47)\" x=\"1248.69\" y=\"1557.47\">50</text>\n",
       "</g>\n",
       "<g clip-path=\"url(#clip8601)\">\n",
       "<text style=\"fill:#000000; fill-opacity:1; font-family:Arial,Helvetica Neue,Helvetica,sans-serif; font-size:48px; text-anchor:middle;\" transform=\"rotate(0, 1754.62, 1557.47)\" x=\"1754.62\" y=\"1557.47\">75</text>\n",
       "</g>\n",
       "<g clip-path=\"url(#clip8601)\">\n",
       "<text style=\"fill:#000000; fill-opacity:1; font-family:Arial,Helvetica Neue,Helvetica,sans-serif; font-size:48px; text-anchor:middle;\" transform=\"rotate(0, 2260.55, 1557.47)\" x=\"2260.55\" y=\"1557.47\">100</text>\n",
       "</g>\n",
       "<g clip-path=\"url(#clip8601)\">\n",
       "<text style=\"fill:#000000; fill-opacity:1; font-family:Arial,Helvetica Neue,Helvetica,sans-serif; font-size:48px; text-anchor:end;\" transform=\"rotate(0, 152.123, 1479.76)\" x=\"152.123\" y=\"1479.76\">-90</text>\n",
       "</g>\n",
       "<g clip-path=\"url(#clip8601)\">\n",
       "<text style=\"fill:#000000; fill-opacity:1; font-family:Arial,Helvetica Neue,Helvetica,sans-serif; font-size:48px; text-anchor:end;\" transform=\"rotate(0, 152.123, 1411.07)\" x=\"152.123\" y=\"1411.07\">-80</text>\n",
       "</g>\n",
       "<g clip-path=\"url(#clip8601)\">\n",
       "<text style=\"fill:#000000; fill-opacity:1; font-family:Arial,Helvetica Neue,Helvetica,sans-serif; font-size:48px; text-anchor:end;\" transform=\"rotate(0, 152.123, 1342.38)\" x=\"152.123\" y=\"1342.38\">-70</text>\n",
       "</g>\n",
       "<g clip-path=\"url(#clip8601)\">\n",
       "<text style=\"fill:#000000; fill-opacity:1; font-family:Arial,Helvetica Neue,Helvetica,sans-serif; font-size:48px; text-anchor:end;\" transform=\"rotate(0, 152.123, 1273.69)\" x=\"152.123\" y=\"1273.69\">-60</text>\n",
       "</g>\n",
       "<g clip-path=\"url(#clip8601)\">\n",
       "<text style=\"fill:#000000; fill-opacity:1; font-family:Arial,Helvetica Neue,Helvetica,sans-serif; font-size:48px; text-anchor:end;\" transform=\"rotate(0, 152.123, 1205)\" x=\"152.123\" y=\"1205\">-50</text>\n",
       "</g>\n",
       "<g clip-path=\"url(#clip8601)\">\n",
       "<text style=\"fill:#000000; fill-opacity:1; font-family:Arial,Helvetica Neue,Helvetica,sans-serif; font-size:48px; text-anchor:end;\" transform=\"rotate(0, 152.123, 1136.31)\" x=\"152.123\" y=\"1136.31\">-40</text>\n",
       "</g>\n",
       "<g clip-path=\"url(#clip8601)\">\n",
       "<text style=\"fill:#000000; fill-opacity:1; font-family:Arial,Helvetica Neue,Helvetica,sans-serif; font-size:48px; text-anchor:end;\" transform=\"rotate(0, 152.123, 1067.62)\" x=\"152.123\" y=\"1067.62\">-30</text>\n",
       "</g>\n",
       "<g clip-path=\"url(#clip8601)\">\n",
       "<text style=\"fill:#000000; fill-opacity:1; font-family:Arial,Helvetica Neue,Helvetica,sans-serif; font-size:48px; text-anchor:end;\" transform=\"rotate(0, 152.123, 998.93)\" x=\"152.123\" y=\"998.93\">-20</text>\n",
       "</g>\n",
       "<g clip-path=\"url(#clip8601)\">\n",
       "<text style=\"fill:#000000; fill-opacity:1; font-family:Arial,Helvetica Neue,Helvetica,sans-serif; font-size:48px; text-anchor:end;\" transform=\"rotate(0, 152.123, 930.24)\" x=\"152.123\" y=\"930.24\">-10</text>\n",
       "</g>\n",
       "<g clip-path=\"url(#clip8601)\">\n",
       "<text style=\"fill:#000000; fill-opacity:1; font-family:Arial,Helvetica Neue,Helvetica,sans-serif; font-size:48px; text-anchor:end;\" transform=\"rotate(0, 152.123, 861.55)\" x=\"152.123\" y=\"861.55\">0</text>\n",
       "</g>\n",
       "<g clip-path=\"url(#clip8601)\">\n",
       "<text style=\"fill:#000000; fill-opacity:1; font-family:Arial,Helvetica Neue,Helvetica,sans-serif; font-size:48px; text-anchor:end;\" transform=\"rotate(0, 152.123, 792.859)\" x=\"152.123\" y=\"792.859\">10</text>\n",
       "</g>\n",
       "<g clip-path=\"url(#clip8601)\">\n",
       "<text style=\"fill:#000000; fill-opacity:1; font-family:Arial,Helvetica Neue,Helvetica,sans-serif; font-size:48px; text-anchor:end;\" transform=\"rotate(0, 152.123, 724.169)\" x=\"152.123\" y=\"724.169\">20</text>\n",
       "</g>\n",
       "<g clip-path=\"url(#clip8601)\">\n",
       "<text style=\"fill:#000000; fill-opacity:1; font-family:Arial,Helvetica Neue,Helvetica,sans-serif; font-size:48px; text-anchor:end;\" transform=\"rotate(0, 152.123, 655.479)\" x=\"152.123\" y=\"655.479\">30</text>\n",
       "</g>\n",
       "<g clip-path=\"url(#clip8601)\">\n",
       "<text style=\"fill:#000000; fill-opacity:1; font-family:Arial,Helvetica Neue,Helvetica,sans-serif; font-size:48px; text-anchor:end;\" transform=\"rotate(0, 152.123, 586.789)\" x=\"152.123\" y=\"586.789\">40</text>\n",
       "</g>\n",
       "<g clip-path=\"url(#clip8601)\">\n",
       "<text style=\"fill:#000000; fill-opacity:1; font-family:Arial,Helvetica Neue,Helvetica,sans-serif; font-size:48px; text-anchor:end;\" transform=\"rotate(0, 152.123, 518.099)\" x=\"152.123\" y=\"518.099\">50</text>\n",
       "</g>\n",
       "<g clip-path=\"url(#clip8601)\">\n",
       "<text style=\"fill:#000000; fill-opacity:1; font-family:Arial,Helvetica Neue,Helvetica,sans-serif; font-size:48px; text-anchor:end;\" transform=\"rotate(0, 152.123, 449.409)\" x=\"152.123\" y=\"449.409\">60</text>\n",
       "</g>\n",
       "<g clip-path=\"url(#clip8601)\">\n",
       "<text style=\"fill:#000000; fill-opacity:1; font-family:Arial,Helvetica Neue,Helvetica,sans-serif; font-size:48px; text-anchor:end;\" transform=\"rotate(0, 152.123, 380.719)\" x=\"152.123\" y=\"380.719\">70</text>\n",
       "</g>\n",
       "<g clip-path=\"url(#clip8601)\">\n",
       "<text style=\"fill:#000000; fill-opacity:1; font-family:Arial,Helvetica Neue,Helvetica,sans-serif; font-size:48px; text-anchor:end;\" transform=\"rotate(0, 152.123, 312.029)\" x=\"152.123\" y=\"312.029\">80</text>\n",
       "</g>\n",
       "<g clip-path=\"url(#clip8601)\">\n",
       "<text style=\"fill:#000000; fill-opacity:1; font-family:Arial,Helvetica Neue,Helvetica,sans-serif; font-size:48px; text-anchor:end;\" transform=\"rotate(0, 152.123, 243.338)\" x=\"152.123\" y=\"243.338\">90</text>\n",
       "</g>\n",
       "<g clip-path=\"url(#clip8601)\">\n",
       "<text style=\"fill:#000000; fill-opacity:1; font-family:Arial,Helvetica Neue,Helvetica,sans-serif; font-size:48px; text-anchor:end;\" transform=\"rotate(0, 152.123, 174.648)\" x=\"152.123\" y=\"174.648\">100</text>\n",
       "</g>\n",
       "<g clip-path=\"url(#clip8601)\">\n",
       "<text style=\"fill:#000000; fill-opacity:1; font-family:Arial,Helvetica Neue,Helvetica,sans-serif; font-size:48px; text-anchor:end;\" transform=\"rotate(0, 152.123, 105.958)\" x=\"152.123\" y=\"105.958\">110</text>\n",
       "</g>\n",
       "<polyline clip-path=\"url(#clip8603)\" style=\"stroke:#009af9; stroke-width:4; stroke-opacity:1; fill:none\" points=\"\n",
       "  459.443,88.4582 479.68,431.909 499.917,546.392 520.154,603.634 540.391,637.979 560.629,660.876 580.866,677.231 601.103,689.497 621.34,699.037 641.577,706.669 \n",
       "  661.814,712.914 682.051,718.118 702.289,722.521 722.526,726.295 742.763,729.566 763,732.428 783.237,734.953 803.474,737.198 823.711,739.207 843.949,741.014 \n",
       "  864.186,742.65 884.423,744.137 904.66,745.494 924.897,746.739 945.134,747.883 965.371,748.94 985.609,749.919 1005.85,750.827 1026.08,751.673 1046.32,752.463 \n",
       "  1066.56,753.201 1086.79,753.894 1107.03,754.544 1127.27,755.156 1147.51,755.734 1167.74,756.279 1187.98,756.795 1208.22,757.283 1228.45,757.747 1248.69,758.187 \n",
       "  1268.93,758.606 1289.17,759.005 1309.4,759.385 1329.64,759.748 1349.88,760.095 1370.11,760.427 1390.35,760.744 1410.59,761.049 1430.83,761.341 1451.06,761.621 \n",
       "  1471.3,761.891 1491.54,762.15 1511.77,762.399 1532.01,762.639 1552.25,762.87 1572.49,763.093 1592.72,763.309 1612.96,763.516 1633.2,763.717 1653.43,763.911 \n",
       "  1673.67,764.099 1693.91,764.28 1714.15,764.456 1734.38,764.627 1754.62,764.792 1774.86,764.952 1795.09,765.107 1815.33,765.258 1835.57,765.404 1855.81,765.547 \n",
       "  1876.04,765.685 1896.28,765.819 1916.52,765.95 1936.75,766.077 1956.99,766.201 1977.23,766.321 1997.47,766.439 2017.7,766.553 2037.94,766.664 2058.18,766.773 \n",
       "  2078.41,766.879 2098.65,766.983 2118.89,767.083 2139.13,767.182 2159.36,767.278 2179.6,767.372 2199.84,767.464 2220.07,767.554 2240.31,767.641 2260.55,767.727 \n",
       "  \n",
       "  \"/>\n",
       "<polyline clip-path=\"url(#clip8603)\" style=\"stroke:#e26f46; stroke-width:4; stroke-opacity:1; fill:none\" points=\"\n",
       "  236.834,844.05 257.072,851.682 277.309,861.222 297.546,873.488 317.783,889.843 338.02,912.74 358.257,947.085 378.494,1004.33 398.731,1118.81 418.969,1462.26 \n",
       "  \n",
       "  \"/>\n",
       "<polyline clip-path=\"url(#clip8603)\" style=\"stroke:#3da44d; stroke-width:4; stroke-opacity:1; fill:none\" points=\"\n",
       "  236.834,775.359 257.072,775.359 277.309,775.359 297.546,775.359 317.783,775.359 338.02,775.359 358.257,775.359 378.494,775.359 398.731,775.359 418.969,775.359 \n",
       "  439.206,775.359 459.443,775.359 479.68,775.359 499.917,775.359 520.154,775.359 540.391,775.359 560.629,775.359 580.866,775.359 601.103,775.359 621.34,775.359 \n",
       "  641.577,775.359 661.814,775.359 682.051,775.359 702.289,775.359 722.526,775.359 742.763,775.359 763,775.359 783.237,775.359 803.474,775.359 823.711,775.359 \n",
       "  843.949,775.359 864.186,775.359 884.423,775.359 904.66,775.359 924.897,775.359 945.134,775.359 965.371,775.359 985.609,775.359 1005.85,775.359 1026.08,775.359 \n",
       "  1046.32,775.359 1066.56,775.359 1086.79,775.359 1107.03,775.359 1127.27,775.359 1147.51,775.359 1167.74,775.359 1187.98,775.359 1208.22,775.359 1228.45,775.359 \n",
       "  1248.69,775.359 1268.93,775.359 1289.17,775.359 1309.4,775.359 1329.64,775.359 1349.88,775.359 1370.11,775.359 1390.35,775.359 1410.59,775.359 1430.83,775.359 \n",
       "  1451.06,775.359 1471.3,775.359 1491.54,775.359 1511.77,775.359 1532.01,775.359 1552.25,775.359 1572.49,775.359 1592.72,775.359 1612.96,775.359 1633.2,775.359 \n",
       "  1653.43,775.359 1673.67,775.359 1693.91,775.359 1714.15,775.359 1734.38,775.359 1754.62,775.359 1774.86,775.359 1795.09,775.359 1815.33,775.359 1835.57,775.359 \n",
       "  1855.81,775.359 1876.04,775.359 1896.28,775.359 1916.52,775.359 1936.75,775.359 1956.99,775.359 1977.23,775.359 1997.47,775.359 2017.7,775.359 2037.94,775.359 \n",
       "  2058.18,775.359 2078.41,775.359 2098.65,775.359 2118.89,775.359 2139.13,775.359 2159.36,775.359 2179.6,775.359 2199.84,775.359 2220.07,775.359 2240.31,775.359 \n",
       "  2260.55,775.359 \n",
       "  \"/>\n",
       "<polygon clip-path=\"url(#clip8601)\" points=\"\n",
       "1696.29,372.684 2249.26,372.684 2249.26,130.764 1696.29,130.764 \n",
       "  \" fill=\"#ffffff\" fill-rule=\"evenodd\" fill-opacity=\"1\"/>\n",
       "<polyline clip-path=\"url(#clip8601)\" style=\"stroke:#000000; stroke-width:4; stroke-opacity:1; fill:none\" points=\"\n",
       "  1696.29,372.684 2249.26,372.684 2249.26,130.764 1696.29,130.764 1696.29,372.684 \n",
       "  \"/>\n",
       "<polyline clip-path=\"url(#clip8601)\" style=\"stroke:#009af9; stroke-width:4; stroke-opacity:1; fill:none\" points=\"\n",
       "  1720.29,191.244 1864.29,191.244 \n",
       "  \"/>\n",
       "<g clip-path=\"url(#clip8601)\">\n",
       "<text style=\"fill:#000000; fill-opacity:1; font-family:Arial,Helvetica Neue,Helvetica,sans-serif; font-size:48px; text-anchor:start;\" transform=\"rotate(0, 1888.29, 208.744)\" x=\"1888.29\" y=\"208.744\">Po</text>\n",
       "</g>\n",
       "<polyline clip-path=\"url(#clip8601)\" style=\"stroke:#e26f46; stroke-width:4; stroke-opacity:1; fill:none\" points=\"\n",
       "  1720.29,251.724 1864.29,251.724 \n",
       "  \"/>\n",
       "<g clip-path=\"url(#clip8601)\">\n",
       "<text style=\"fill:#000000; fill-opacity:1; font-family:Arial,Helvetica Neue,Helvetica,sans-serif; font-size:48px; text-anchor:start;\" transform=\"rotate(0, 1888.29, 269.224)\" x=\"1888.29\" y=\"269.224\">Po</text>\n",
       "</g>\n",
       "<polyline clip-path=\"url(#clip8601)\" style=\"stroke:#3da44d; stroke-width:4; stroke-opacity:1; fill:none\" points=\"\n",
       "  1720.29,312.204 1864.29,312.204 \n",
       "  \"/>\n",
       "<g clip-path=\"url(#clip8601)\">\n",
       "<text style=\"fill:#000000; fill-opacity:1; font-family:Arial,Helvetica Neue,Helvetica,sans-serif; font-size:48px; text-anchor:start;\" transform=\"rotate(0, 1888.29, 329.704)\" x=\"1888.29\" y=\"329.704\">Distância focal</text>\n",
       "</g>\n",
       "</svg>\n"
      ]
     },
     "execution_count": 121,
     "metadata": {},
     "output_type": "execute_result"
    }
   ],
   "source": [
    "plot(11:100, F3.(11:100, 10), label = \"Po\")\n",
    "plot!(0:9, F3.(0:9, 10), label = \"Po\")\n",
    "plot!(0:100, fill(10, length(0:100)), label = \"Distância focal\", yticks=(-100:10:200))"
   ]
  },
  {
   "cell_type": "markdown",
   "metadata": {},
   "source": [
    "** Polinômios **\n",
    "\n",
    "A função `polyroots()` permite calcular polinômios simbolicamente e retorna um dicionário contendo as soluções do tipo `Dict{Any,Any}`. Sintaxe:\n",
    "```julia\n",
    "polyroots(equação, var) \n",
    "```\n",
    "Sendo:\n",
    "* **equação**: equação algébrica expressa como uma expressão simbólica ou função genérica. Não funciona com função anônima;\n",
    "* **var** : variável da expressão algébrica.\n",
    "\n",
    "A função `polyroots()`retorna um dicionário contendo os valores das raizes e multiplicidade ambos do tipo `Any`."
   ]
  },
  {
   "cell_type": "code",
   "execution_count": 122,
   "metadata": {
    "collapsed": false,
    "scrolled": false
   },
   "outputs": [
    {
     "data": {
      "text/plain": [
       "(x,)"
      ]
     },
     "execution_count": 122,
     "metadata": {},
     "output_type": "execute_result"
    }
   ],
   "source": [
    "using SymPy\n",
    "@syms x"
   ]
  },
  {
   "cell_type": "code",
   "execution_count": 185,
   "metadata": {
    "collapsed": false,
    "scrolled": true
   },
   "outputs": [
    {
     "data": {
      "text/plain": [
       "Dict{Any,Any} with 3 entries:\n",
       "  1  => 1\n",
       "  0  => 2\n",
       "  -1 => 1"
      ]
     },
     "execution_count": 185,
     "metadata": {},
     "output_type": "execute_result"
    }
   ],
   "source": [
    "xp = polyroots(x^4 - x^2, x)"
   ]
  },
  {
   "cell_type": "code",
   "execution_count": 186,
   "metadata": {
    "collapsed": false,
    "scrolled": false
   },
   "outputs": [
    {
     "data": {
      "text/plain": [
       "Dict{Any,Any} with 2 entries:\n",
       "  -b/(2*a) - sqrt(-4*a*c + b^2)/(2*a) => 1\n",
       "  -b/(2*a) + sqrt(-4*a*c + b^2)/(2*a) => 1"
      ]
     },
     "execution_count": 186,
     "metadata": {},
     "output_type": "execute_result"
    }
   ],
   "source": [
    "# Fórmula de Bhaskara\n",
    "@syms a b c\n",
    "polyroots(a*x^2 + b*x + c, x)"
   ]
  },
  {
   "cell_type": "markdown",
   "metadata": {},
   "source": [
    "### SOLUÇÃO NUMÉRICA"
   ]
  },
  {
   "cell_type": "markdown",
   "metadata": {},
   "source": [
    "Exemplo: Determinar numericamente as raízes da função $f(x) =  x\\cdot cos(x)$ no intervalo $[0, 20]$."
   ]
  },
  {
   "cell_type": "code",
   "execution_count": 187,
   "metadata": {
    "collapsed": false
   },
   "outputs": [
    {
     "data": {
      "text/plain": [
       "f2 (generic function with 1 method)"
      ]
     },
     "execution_count": 187,
     "metadata": {},
     "output_type": "execute_result"
    }
   ],
   "source": [
    "# função genérica \n",
    "f2(x) =  x*cos(x) "
   ]
  },
  {
   "cell_type": "markdown",
   "metadata": {},
   "source": [
    "**Gráfico**"
   ]
  },
  {
   "cell_type": "code",
   "execution_count": 188,
   "metadata": {
    "collapsed": false
   },
   "outputs": [
    {
     "data": {
      "text/plain": [
       "Plots.GRBackend()"
      ]
     },
     "execution_count": 188,
     "metadata": {},
     "output_type": "execute_result"
    }
   ],
   "source": [
    "using Plots\n",
    "gr()"
   ]
  },
  {
   "cell_type": "code",
   "execution_count": 189,
   "metadata": {
    "collapsed": false,
    "scrolled": false
   },
   "outputs": [
    {
     "data": {
      "image/svg+xml": [
       "<?xml version=\"1.0\" encoding=\"utf-8\"?>\n",
       "<svg xmlns=\"http://www.w3.org/2000/svg\" xmlns:xlink=\"http://www.w3.org/1999/xlink\" width=\"600\" height=\"400\" viewBox=\"0 0 2400 1600\">\n",
       "<defs>\n",
       "  <clipPath id=\"clip8800\">\n",
       "    <rect x=\"0\" y=\"0\" width=\"2000\" height=\"2000\"/>\n",
       "  </clipPath>\n",
       "</defs>\n",
       "<defs>\n",
       "  <clipPath id=\"clip8801\">\n",
       "    <rect x=\"0\" y=\"0\" width=\"2400\" height=\"1600\"/>\n",
       "  </clipPath>\n",
       "</defs>\n",
       "<polygon clip-path=\"url(#clip8801)\" points=\"\n",
       "0,1600 2400,1600 2400,0 0,0 \n",
       "  \" fill=\"#ffffff\" fill-rule=\"evenodd\" fill-opacity=\"1\"/>\n",
       "<defs>\n",
       "  <clipPath id=\"clip8802\">\n",
       "    <rect x=\"480\" y=\"0\" width=\"1681\" height=\"1600\"/>\n",
       "  </clipPath>\n",
       "</defs>\n",
       "<polygon clip-path=\"url(#clip8801)\" points=\"\n",
       "239.115,1440.48 2321.26,1440.48 2321.26,47.2441 239.115,47.2441 \n",
       "  \" fill=\"#ffffff\" fill-rule=\"evenodd\" fill-opacity=\"1\"/>\n",
       "<defs>\n",
       "  <clipPath id=\"clip8803\">\n",
       "    <rect x=\"239\" y=\"47\" width=\"2083\" height=\"1394\"/>\n",
       "  </clipPath>\n",
       "</defs>\n",
       "<polyline clip-path=\"url(#clip8803)\" style=\"stroke:#000000; stroke-width:2; stroke-opacity:0.1; fill:none\" points=\"\n",
       "  298.044,1440.48 298.044,47.2441 \n",
       "  \"/>\n",
       "<polyline clip-path=\"url(#clip8803)\" style=\"stroke:#000000; stroke-width:2; stroke-opacity:0.1; fill:none\" points=\"\n",
       "  396.258,1440.48 396.258,47.2441 \n",
       "  \"/>\n",
       "<polyline clip-path=\"url(#clip8803)\" style=\"stroke:#000000; stroke-width:2; stroke-opacity:0.1; fill:none\" points=\"\n",
       "  494.472,1440.48 494.472,47.2441 \n",
       "  \"/>\n",
       "<polyline clip-path=\"url(#clip8803)\" style=\"stroke:#000000; stroke-width:2; stroke-opacity:0.1; fill:none\" points=\"\n",
       "  592.687,1440.48 592.687,47.2441 \n",
       "  \"/>\n",
       "<polyline clip-path=\"url(#clip8803)\" style=\"stroke:#000000; stroke-width:2; stroke-opacity:0.1; fill:none\" points=\"\n",
       "  690.901,1440.48 690.901,47.2441 \n",
       "  \"/>\n",
       "<polyline clip-path=\"url(#clip8803)\" style=\"stroke:#000000; stroke-width:2; stroke-opacity:0.1; fill:none\" points=\"\n",
       "  789.116,1440.48 789.116,47.2441 \n",
       "  \"/>\n",
       "<polyline clip-path=\"url(#clip8803)\" style=\"stroke:#000000; stroke-width:2; stroke-opacity:0.1; fill:none\" points=\"\n",
       "  887.33,1440.48 887.33,47.2441 \n",
       "  \"/>\n",
       "<polyline clip-path=\"url(#clip8803)\" style=\"stroke:#000000; stroke-width:2; stroke-opacity:0.1; fill:none\" points=\"\n",
       "  985.544,1440.48 985.544,47.2441 \n",
       "  \"/>\n",
       "<polyline clip-path=\"url(#clip8803)\" style=\"stroke:#000000; stroke-width:2; stroke-opacity:0.1; fill:none\" points=\"\n",
       "  1083.76,1440.48 1083.76,47.2441 \n",
       "  \"/>\n",
       "<polyline clip-path=\"url(#clip8803)\" style=\"stroke:#000000; stroke-width:2; stroke-opacity:0.1; fill:none\" points=\"\n",
       "  1181.97,1440.48 1181.97,47.2441 \n",
       "  \"/>\n",
       "<polyline clip-path=\"url(#clip8803)\" style=\"stroke:#000000; stroke-width:2; stroke-opacity:0.1; fill:none\" points=\"\n",
       "  1280.19,1440.48 1280.19,47.2441 \n",
       "  \"/>\n",
       "<polyline clip-path=\"url(#clip8803)\" style=\"stroke:#000000; stroke-width:2; stroke-opacity:0.1; fill:none\" points=\"\n",
       "  1378.4,1440.48 1378.4,47.2441 \n",
       "  \"/>\n",
       "<polyline clip-path=\"url(#clip8803)\" style=\"stroke:#000000; stroke-width:2; stroke-opacity:0.1; fill:none\" points=\"\n",
       "  1476.62,1440.48 1476.62,47.2441 \n",
       "  \"/>\n",
       "<polyline clip-path=\"url(#clip8803)\" style=\"stroke:#000000; stroke-width:2; stroke-opacity:0.1; fill:none\" points=\"\n",
       "  1574.83,1440.48 1574.83,47.2441 \n",
       "  \"/>\n",
       "<polyline clip-path=\"url(#clip8803)\" style=\"stroke:#000000; stroke-width:2; stroke-opacity:0.1; fill:none\" points=\"\n",
       "  1673.04,1440.48 1673.04,47.2441 \n",
       "  \"/>\n",
       "<polyline clip-path=\"url(#clip8803)\" style=\"stroke:#000000; stroke-width:2; stroke-opacity:0.1; fill:none\" points=\"\n",
       "  1771.26,1440.48 1771.26,47.2441 \n",
       "  \"/>\n",
       "<polyline clip-path=\"url(#clip8803)\" style=\"stroke:#000000; stroke-width:2; stroke-opacity:0.1; fill:none\" points=\"\n",
       "  1869.47,1440.48 1869.47,47.2441 \n",
       "  \"/>\n",
       "<polyline clip-path=\"url(#clip8803)\" style=\"stroke:#000000; stroke-width:2; stroke-opacity:0.1; fill:none\" points=\"\n",
       "  1967.69,1440.48 1967.69,47.2441 \n",
       "  \"/>\n",
       "<polyline clip-path=\"url(#clip8803)\" style=\"stroke:#000000; stroke-width:2; stroke-opacity:0.1; fill:none\" points=\"\n",
       "  2065.9,1440.48 2065.9,47.2441 \n",
       "  \"/>\n",
       "<polyline clip-path=\"url(#clip8803)\" style=\"stroke:#000000; stroke-width:2; stroke-opacity:0.1; fill:none\" points=\"\n",
       "  2164.12,1440.48 2164.12,47.2441 \n",
       "  \"/>\n",
       "<polyline clip-path=\"url(#clip8803)\" style=\"stroke:#000000; stroke-width:2; stroke-opacity:0.1; fill:none\" points=\"\n",
       "  2262.33,1440.48 2262.33,47.2441 \n",
       "  \"/>\n",
       "<polyline clip-path=\"url(#clip8803)\" style=\"stroke:#000000; stroke-width:2; stroke-opacity:0.1; fill:none\" points=\"\n",
       "  239.115,1373.21 2321.26,1373.21 \n",
       "  \"/>\n",
       "<polyline clip-path=\"url(#clip8803)\" style=\"stroke:#000000; stroke-width:2; stroke-opacity:0.1; fill:none\" points=\"\n",
       "  239.115,1183.32 2321.26,1183.32 \n",
       "  \"/>\n",
       "<polyline clip-path=\"url(#clip8803)\" style=\"stroke:#000000; stroke-width:2; stroke-opacity:0.1; fill:none\" points=\"\n",
       "  239.115,993.431 2321.26,993.431 \n",
       "  \"/>\n",
       "<polyline clip-path=\"url(#clip8803)\" style=\"stroke:#000000; stroke-width:2; stroke-opacity:0.1; fill:none\" points=\"\n",
       "  239.115,803.542 2321.26,803.542 \n",
       "  \"/>\n",
       "<polyline clip-path=\"url(#clip8803)\" style=\"stroke:#000000; stroke-width:2; stroke-opacity:0.1; fill:none\" points=\"\n",
       "  239.115,613.653 2321.26,613.653 \n",
       "  \"/>\n",
       "<polyline clip-path=\"url(#clip8803)\" style=\"stroke:#000000; stroke-width:2; stroke-opacity:0.1; fill:none\" points=\"\n",
       "  239.115,423.764 2321.26,423.764 \n",
       "  \"/>\n",
       "<polyline clip-path=\"url(#clip8803)\" style=\"stroke:#000000; stroke-width:2; stroke-opacity:0.1; fill:none\" points=\"\n",
       "  239.115,233.876 2321.26,233.876 \n",
       "  \"/>\n",
       "<polyline clip-path=\"url(#clip8801)\" style=\"stroke:#000000; stroke-width:4; stroke-opacity:1; fill:none\" points=\"\n",
       "  239.115,1440.48 2321.26,1440.48 \n",
       "  \"/>\n",
       "<polyline clip-path=\"url(#clip8801)\" style=\"stroke:#000000; stroke-width:4; stroke-opacity:1; fill:none\" points=\"\n",
       "  239.115,1440.48 239.115,47.2441 \n",
       "  \"/>\n",
       "<polyline clip-path=\"url(#clip8801)\" style=\"stroke:#000000; stroke-width:4; stroke-opacity:1; fill:none\" points=\"\n",
       "  298.044,1440.48 298.044,1419.58 \n",
       "  \"/>\n",
       "<polyline clip-path=\"url(#clip8801)\" style=\"stroke:#000000; stroke-width:4; stroke-opacity:1; fill:none\" points=\"\n",
       "  396.258,1440.48 396.258,1419.58 \n",
       "  \"/>\n",
       "<polyline clip-path=\"url(#clip8801)\" style=\"stroke:#000000; stroke-width:4; stroke-opacity:1; fill:none\" points=\"\n",
       "  494.472,1440.48 494.472,1419.58 \n",
       "  \"/>\n",
       "<polyline clip-path=\"url(#clip8801)\" style=\"stroke:#000000; stroke-width:4; stroke-opacity:1; fill:none\" points=\"\n",
       "  592.687,1440.48 592.687,1419.58 \n",
       "  \"/>\n",
       "<polyline clip-path=\"url(#clip8801)\" style=\"stroke:#000000; stroke-width:4; stroke-opacity:1; fill:none\" points=\"\n",
       "  690.901,1440.48 690.901,1419.58 \n",
       "  \"/>\n",
       "<polyline clip-path=\"url(#clip8801)\" style=\"stroke:#000000; stroke-width:4; stroke-opacity:1; fill:none\" points=\"\n",
       "  789.116,1440.48 789.116,1419.58 \n",
       "  \"/>\n",
       "<polyline clip-path=\"url(#clip8801)\" style=\"stroke:#000000; stroke-width:4; stroke-opacity:1; fill:none\" points=\"\n",
       "  887.33,1440.48 887.33,1419.58 \n",
       "  \"/>\n",
       "<polyline clip-path=\"url(#clip8801)\" style=\"stroke:#000000; stroke-width:4; stroke-opacity:1; fill:none\" points=\"\n",
       "  985.544,1440.48 985.544,1419.58 \n",
       "  \"/>\n",
       "<polyline clip-path=\"url(#clip8801)\" style=\"stroke:#000000; stroke-width:4; stroke-opacity:1; fill:none\" points=\"\n",
       "  1083.76,1440.48 1083.76,1419.58 \n",
       "  \"/>\n",
       "<polyline clip-path=\"url(#clip8801)\" style=\"stroke:#000000; stroke-width:4; stroke-opacity:1; fill:none\" points=\"\n",
       "  1181.97,1440.48 1181.97,1419.58 \n",
       "  \"/>\n",
       "<polyline clip-path=\"url(#clip8801)\" style=\"stroke:#000000; stroke-width:4; stroke-opacity:1; fill:none\" points=\"\n",
       "  1280.19,1440.48 1280.19,1419.58 \n",
       "  \"/>\n",
       "<polyline clip-path=\"url(#clip8801)\" style=\"stroke:#000000; stroke-width:4; stroke-opacity:1; fill:none\" points=\"\n",
       "  1378.4,1440.48 1378.4,1419.58 \n",
       "  \"/>\n",
       "<polyline clip-path=\"url(#clip8801)\" style=\"stroke:#000000; stroke-width:4; stroke-opacity:1; fill:none\" points=\"\n",
       "  1476.62,1440.48 1476.62,1419.58 \n",
       "  \"/>\n",
       "<polyline clip-path=\"url(#clip8801)\" style=\"stroke:#000000; stroke-width:4; stroke-opacity:1; fill:none\" points=\"\n",
       "  1574.83,1440.48 1574.83,1419.58 \n",
       "  \"/>\n",
       "<polyline clip-path=\"url(#clip8801)\" style=\"stroke:#000000; stroke-width:4; stroke-opacity:1; fill:none\" points=\"\n",
       "  1673.04,1440.48 1673.04,1419.58 \n",
       "  \"/>\n",
       "<polyline clip-path=\"url(#clip8801)\" style=\"stroke:#000000; stroke-width:4; stroke-opacity:1; fill:none\" points=\"\n",
       "  1771.26,1440.48 1771.26,1419.58 \n",
       "  \"/>\n",
       "<polyline clip-path=\"url(#clip8801)\" style=\"stroke:#000000; stroke-width:4; stroke-opacity:1; fill:none\" points=\"\n",
       "  1869.47,1440.48 1869.47,1419.58 \n",
       "  \"/>\n",
       "<polyline clip-path=\"url(#clip8801)\" style=\"stroke:#000000; stroke-width:4; stroke-opacity:1; fill:none\" points=\"\n",
       "  1967.69,1440.48 1967.69,1419.58 \n",
       "  \"/>\n",
       "<polyline clip-path=\"url(#clip8801)\" style=\"stroke:#000000; stroke-width:4; stroke-opacity:1; fill:none\" points=\"\n",
       "  2065.9,1440.48 2065.9,1419.58 \n",
       "  \"/>\n",
       "<polyline clip-path=\"url(#clip8801)\" style=\"stroke:#000000; stroke-width:4; stroke-opacity:1; fill:none\" points=\"\n",
       "  2164.12,1440.48 2164.12,1419.58 \n",
       "  \"/>\n",
       "<polyline clip-path=\"url(#clip8801)\" style=\"stroke:#000000; stroke-width:4; stroke-opacity:1; fill:none\" points=\"\n",
       "  2262.33,1440.48 2262.33,1419.58 \n",
       "  \"/>\n",
       "<polyline clip-path=\"url(#clip8801)\" style=\"stroke:#000000; stroke-width:4; stroke-opacity:1; fill:none\" points=\"\n",
       "  239.115,1373.21 270.347,1373.21 \n",
       "  \"/>\n",
       "<polyline clip-path=\"url(#clip8801)\" style=\"stroke:#000000; stroke-width:4; stroke-opacity:1; fill:none\" points=\"\n",
       "  239.115,1183.32 270.347,1183.32 \n",
       "  \"/>\n",
       "<polyline clip-path=\"url(#clip8801)\" style=\"stroke:#000000; stroke-width:4; stroke-opacity:1; fill:none\" points=\"\n",
       "  239.115,993.431 270.347,993.431 \n",
       "  \"/>\n",
       "<polyline clip-path=\"url(#clip8801)\" style=\"stroke:#000000; stroke-width:4; stroke-opacity:1; fill:none\" points=\"\n",
       "  239.115,803.542 270.347,803.542 \n",
       "  \"/>\n",
       "<polyline clip-path=\"url(#clip8801)\" style=\"stroke:#000000; stroke-width:4; stroke-opacity:1; fill:none\" points=\"\n",
       "  239.115,613.653 270.347,613.653 \n",
       "  \"/>\n",
       "<polyline clip-path=\"url(#clip8801)\" style=\"stroke:#000000; stroke-width:4; stroke-opacity:1; fill:none\" points=\"\n",
       "  239.115,423.764 270.347,423.764 \n",
       "  \"/>\n",
       "<polyline clip-path=\"url(#clip8801)\" style=\"stroke:#000000; stroke-width:4; stroke-opacity:1; fill:none\" points=\"\n",
       "  239.115,233.876 270.347,233.876 \n",
       "  \"/>\n",
       "<g clip-path=\"url(#clip8801)\">\n",
       "<text style=\"fill:#000000; fill-opacity:1; font-family:Arial,Helvetica Neue,Helvetica,sans-serif; font-size:48px; text-anchor:middle;\" transform=\"rotate(0, 298.044, 1494.48)\" x=\"298.044\" y=\"1494.48\">0</text>\n",
       "</g>\n",
       "<g clip-path=\"url(#clip8801)\">\n",
       "<text style=\"fill:#000000; fill-opacity:1; font-family:Arial,Helvetica Neue,Helvetica,sans-serif; font-size:48px; text-anchor:middle;\" transform=\"rotate(0, 396.258, 1494.48)\" x=\"396.258\" y=\"1494.48\">1</text>\n",
       "</g>\n",
       "<g clip-path=\"url(#clip8801)\">\n",
       "<text style=\"fill:#000000; fill-opacity:1; font-family:Arial,Helvetica Neue,Helvetica,sans-serif; font-size:48px; text-anchor:middle;\" transform=\"rotate(0, 494.472, 1494.48)\" x=\"494.472\" y=\"1494.48\">2</text>\n",
       "</g>\n",
       "<g clip-path=\"url(#clip8801)\">\n",
       "<text style=\"fill:#000000; fill-opacity:1; font-family:Arial,Helvetica Neue,Helvetica,sans-serif; font-size:48px; text-anchor:middle;\" transform=\"rotate(0, 592.687, 1494.48)\" x=\"592.687\" y=\"1494.48\">3</text>\n",
       "</g>\n",
       "<g clip-path=\"url(#clip8801)\">\n",
       "<text style=\"fill:#000000; fill-opacity:1; font-family:Arial,Helvetica Neue,Helvetica,sans-serif; font-size:48px; text-anchor:middle;\" transform=\"rotate(0, 690.901, 1494.48)\" x=\"690.901\" y=\"1494.48\">4</text>\n",
       "</g>\n",
       "<g clip-path=\"url(#clip8801)\">\n",
       "<text style=\"fill:#000000; fill-opacity:1; font-family:Arial,Helvetica Neue,Helvetica,sans-serif; font-size:48px; text-anchor:middle;\" transform=\"rotate(0, 789.116, 1494.48)\" x=\"789.116\" y=\"1494.48\">5</text>\n",
       "</g>\n",
       "<g clip-path=\"url(#clip8801)\">\n",
       "<text style=\"fill:#000000; fill-opacity:1; font-family:Arial,Helvetica Neue,Helvetica,sans-serif; font-size:48px; text-anchor:middle;\" transform=\"rotate(0, 887.33, 1494.48)\" x=\"887.33\" y=\"1494.48\">6</text>\n",
       "</g>\n",
       "<g clip-path=\"url(#clip8801)\">\n",
       "<text style=\"fill:#000000; fill-opacity:1; font-family:Arial,Helvetica Neue,Helvetica,sans-serif; font-size:48px; text-anchor:middle;\" transform=\"rotate(0, 985.544, 1494.48)\" x=\"985.544\" y=\"1494.48\">7</text>\n",
       "</g>\n",
       "<g clip-path=\"url(#clip8801)\">\n",
       "<text style=\"fill:#000000; fill-opacity:1; font-family:Arial,Helvetica Neue,Helvetica,sans-serif; font-size:48px; text-anchor:middle;\" transform=\"rotate(0, 1083.76, 1494.48)\" x=\"1083.76\" y=\"1494.48\">8</text>\n",
       "</g>\n",
       "<g clip-path=\"url(#clip8801)\">\n",
       "<text style=\"fill:#000000; fill-opacity:1; font-family:Arial,Helvetica Neue,Helvetica,sans-serif; font-size:48px; text-anchor:middle;\" transform=\"rotate(0, 1181.97, 1494.48)\" x=\"1181.97\" y=\"1494.48\">9</text>\n",
       "</g>\n",
       "<g clip-path=\"url(#clip8801)\">\n",
       "<text style=\"fill:#000000; fill-opacity:1; font-family:Arial,Helvetica Neue,Helvetica,sans-serif; font-size:48px; text-anchor:middle;\" transform=\"rotate(0, 1280.19, 1494.48)\" x=\"1280.19\" y=\"1494.48\">10</text>\n",
       "</g>\n",
       "<g clip-path=\"url(#clip8801)\">\n",
       "<text style=\"fill:#000000; fill-opacity:1; font-family:Arial,Helvetica Neue,Helvetica,sans-serif; font-size:48px; text-anchor:middle;\" transform=\"rotate(0, 1378.4, 1494.48)\" x=\"1378.4\" y=\"1494.48\">11</text>\n",
       "</g>\n",
       "<g clip-path=\"url(#clip8801)\">\n",
       "<text style=\"fill:#000000; fill-opacity:1; font-family:Arial,Helvetica Neue,Helvetica,sans-serif; font-size:48px; text-anchor:middle;\" transform=\"rotate(0, 1476.62, 1494.48)\" x=\"1476.62\" y=\"1494.48\">12</text>\n",
       "</g>\n",
       "<g clip-path=\"url(#clip8801)\">\n",
       "<text style=\"fill:#000000; fill-opacity:1; font-family:Arial,Helvetica Neue,Helvetica,sans-serif; font-size:48px; text-anchor:middle;\" transform=\"rotate(0, 1574.83, 1494.48)\" x=\"1574.83\" y=\"1494.48\">13</text>\n",
       "</g>\n",
       "<g clip-path=\"url(#clip8801)\">\n",
       "<text style=\"fill:#000000; fill-opacity:1; font-family:Arial,Helvetica Neue,Helvetica,sans-serif; font-size:48px; text-anchor:middle;\" transform=\"rotate(0, 1673.04, 1494.48)\" x=\"1673.04\" y=\"1494.48\">14</text>\n",
       "</g>\n",
       "<g clip-path=\"url(#clip8801)\">\n",
       "<text style=\"fill:#000000; fill-opacity:1; font-family:Arial,Helvetica Neue,Helvetica,sans-serif; font-size:48px; text-anchor:middle;\" transform=\"rotate(0, 1771.26, 1494.48)\" x=\"1771.26\" y=\"1494.48\">15</text>\n",
       "</g>\n",
       "<g clip-path=\"url(#clip8801)\">\n",
       "<text style=\"fill:#000000; fill-opacity:1; font-family:Arial,Helvetica Neue,Helvetica,sans-serif; font-size:48px; text-anchor:middle;\" transform=\"rotate(0, 1869.47, 1494.48)\" x=\"1869.47\" y=\"1494.48\">16</text>\n",
       "</g>\n",
       "<g clip-path=\"url(#clip8801)\">\n",
       "<text style=\"fill:#000000; fill-opacity:1; font-family:Arial,Helvetica Neue,Helvetica,sans-serif; font-size:48px; text-anchor:middle;\" transform=\"rotate(0, 1967.69, 1494.48)\" x=\"1967.69\" y=\"1494.48\">17</text>\n",
       "</g>\n",
       "<g clip-path=\"url(#clip8801)\">\n",
       "<text style=\"fill:#000000; fill-opacity:1; font-family:Arial,Helvetica Neue,Helvetica,sans-serif; font-size:48px; text-anchor:middle;\" transform=\"rotate(0, 2065.9, 1494.48)\" x=\"2065.9\" y=\"1494.48\">18</text>\n",
       "</g>\n",
       "<g clip-path=\"url(#clip8801)\">\n",
       "<text style=\"fill:#000000; fill-opacity:1; font-family:Arial,Helvetica Neue,Helvetica,sans-serif; font-size:48px; text-anchor:middle;\" transform=\"rotate(0, 2164.12, 1494.48)\" x=\"2164.12\" y=\"1494.48\">19</text>\n",
       "</g>\n",
       "<g clip-path=\"url(#clip8801)\">\n",
       "<text style=\"fill:#000000; fill-opacity:1; font-family:Arial,Helvetica Neue,Helvetica,sans-serif; font-size:48px; text-anchor:middle;\" transform=\"rotate(0, 2262.33, 1494.48)\" x=\"2262.33\" y=\"1494.48\">20</text>\n",
       "</g>\n",
       "<g clip-path=\"url(#clip8801)\">\n",
       "<text style=\"fill:#000000; fill-opacity:1; font-family:Arial,Helvetica Neue,Helvetica,sans-serif; font-size:48px; text-anchor:end;\" transform=\"rotate(0, 215.115, 1390.71)\" x=\"215.115\" y=\"1390.71\">-15</text>\n",
       "</g>\n",
       "<g clip-path=\"url(#clip8801)\">\n",
       "<text style=\"fill:#000000; fill-opacity:1; font-family:Arial,Helvetica Neue,Helvetica,sans-serif; font-size:48px; text-anchor:end;\" transform=\"rotate(0, 215.115, 1200.82)\" x=\"215.115\" y=\"1200.82\">-10</text>\n",
       "</g>\n",
       "<g clip-path=\"url(#clip8801)\">\n",
       "<text style=\"fill:#000000; fill-opacity:1; font-family:Arial,Helvetica Neue,Helvetica,sans-serif; font-size:48px; text-anchor:end;\" transform=\"rotate(0, 215.115, 1010.93)\" x=\"215.115\" y=\"1010.93\">-5</text>\n",
       "</g>\n",
       "<g clip-path=\"url(#clip8801)\">\n",
       "<text style=\"fill:#000000; fill-opacity:1; font-family:Arial,Helvetica Neue,Helvetica,sans-serif; font-size:48px; text-anchor:end;\" transform=\"rotate(0, 215.115, 821.042)\" x=\"215.115\" y=\"821.042\">0</text>\n",
       "</g>\n",
       "<g clip-path=\"url(#clip8801)\">\n",
       "<text style=\"fill:#000000; fill-opacity:1; font-family:Arial,Helvetica Neue,Helvetica,sans-serif; font-size:48px; text-anchor:end;\" transform=\"rotate(0, 215.115, 631.153)\" x=\"215.115\" y=\"631.153\">5</text>\n",
       "</g>\n",
       "<g clip-path=\"url(#clip8801)\">\n",
       "<text style=\"fill:#000000; fill-opacity:1; font-family:Arial,Helvetica Neue,Helvetica,sans-serif; font-size:48px; text-anchor:end;\" transform=\"rotate(0, 215.115, 441.264)\" x=\"215.115\" y=\"441.264\">10</text>\n",
       "</g>\n",
       "<g clip-path=\"url(#clip8801)\">\n",
       "<text style=\"fill:#000000; fill-opacity:1; font-family:Arial,Helvetica Neue,Helvetica,sans-serif; font-size:48px; text-anchor:end;\" transform=\"rotate(0, 215.115, 251.376)\" x=\"215.115\" y=\"251.376\">15</text>\n",
       "</g>\n",
       "<g clip-path=\"url(#clip8801)\">\n",
       "<text style=\"fill:#000000; fill-opacity:1; font-family:Arial,Helvetica Neue,Helvetica,sans-serif; font-size:66px; text-anchor:middle;\" transform=\"rotate(0, 1280.19, 1590.4)\" x=\"1280.19\" y=\"1590.4\">x</text>\n",
       "</g>\n",
       "<g clip-path=\"url(#clip8801)\">\n",
       "<text style=\"fill:#000000; fill-opacity:1; font-family:Arial,Helvetica Neue,Helvetica,sans-serif; font-size:66px; text-anchor:middle;\" transform=\"rotate(-90, 57.6, 743.863)\" x=\"57.6\" y=\"743.863\">y</text>\n",
       "</g>\n",
       "<polyline clip-path=\"url(#clip8803)\" style=\"stroke:#009af9; stroke-width:4; stroke-opacity:1; fill:none\" points=\"\n",
       "  298.044,803.542 307.865,799.763 317.687,796.098 327.508,792.658 337.329,789.55 347.151,786.878 356.972,784.736 366.794,783.209 376.615,782.375 386.437,782.296 \n",
       "  396.258,783.023 406.08,784.593 415.901,787.028 425.722,790.335 435.544,794.505 445.365,799.513 455.187,805.316 465.008,811.861 474.83,819.074 484.651,826.87 \n",
       "  494.472,835.151 504.294,843.805 514.115,852.712 523.937,861.741 533.758,870.753 543.58,879.606 553.401,888.153 563.223,896.246 573.044,903.736 582.865,910.479 \n",
       "  592.687,916.335 602.508,921.171 612.33,924.864 622.151,927.3 631.973,928.379 641.794,928.018 651.615,926.147 661.437,922.715 671.258,917.691 681.08,911.062 \n",
       "  690.901,902.838 700.723,893.047 710.544,881.742 720.366,868.994 730.187,854.898 740.008,839.567 749.83,823.135 759.651,805.754 769.473,787.592 779.294,768.834 \n",
       "  789.116,749.678 798.937,730.333 808.758,711.017 818.58,691.957 828.401,673.379 838.223,655.517 848.044,638.598 857.866,622.849 867.687,608.488 877.509,595.723 \n",
       "  887.33,584.751 897.151,575.754 906.973,568.894 916.794,564.316 926.616,562.141 936.437,562.466 946.259,565.363 956.08,570.876 965.901,579.021 975.723,589.784 \n",
       "  985.544,603.122 995.366,618.96 1005.19,637.195 1015.01,657.694 1024.83,680.295 1034.65,704.809 1044.47,731.021 1054.29,758.691 1064.12,787.559 1073.94,817.344 \n",
       "  1083.76,847.748 1093.58,878.461 1103.4,909.161 1113.22,939.519 1123.04,969.202 1132.87,997.878 1142.69,1025.22 1152.51,1050.9 1162.33,1074.61 1172.15,1096.06 \n",
       "  1181.97,1114.97 1191.79,1131.07 1201.62,1144.15 1211.44,1153.99 1221.26,1160.42 1231.08,1163.31 1240.9,1162.55 1250.72,1158.06 1260.54,1149.83 1270.37,1137.86 \n",
       "  1280.19,1122.2 1290.01,1102.95 1299.83,1080.23 1309.65,1054.21 1319.47,1025.11 1329.29,993.17 1339.12,958.666 1348.94,921.911 1358.76,883.249 1368.58,843.046 \n",
       "  1378.4,801.693 1388.22,759.601 1398.04,717.194 1407.87,674.907 1417.69,633.182 1427.51,592.462 1437.33,553.187 1447.15,515.789 1456.97,480.689 1466.79,448.289 \n",
       "  1476.62,418.97 1486.44,393.086 1496.26,370.963 1506.08,352.89 1515.9,339.12 1525.72,329.865 1535.54,325.293 1545.37,325.524 1555.19,330.633 1565.01,340.643 \n",
       "  1574.83,355.526 1584.65,375.204 1594.47,399.547 1604.29,428.376 1614.12,461.462 1623.94,498.526 1633.76,539.248 1643.58,583.262 1653.4,630.164 1663.22,679.514 \n",
       "  1673.04,730.841 1682.87,783.644 1692.69,837.405 1702.51,891.584 1712.33,945.631 1722.15,998.991 1731.97,1051.11 1741.8,1101.43 1751.62,1149.41 1761.44,1194.54 \n",
       "  1771.26,1236.31 1781.08,1274.25 1790.9,1307.92 1800.72,1336.91 1810.55,1360.88 1820.37,1379.51 1830.19,1392.55 1840.01,1399.77 1849.83,1401.05 1859.65,1396.29 \n",
       "  1869.47,1385.46 1879.3,1368.6 1889.12,1345.8 1898.94,1317.22 1908.76,1283.09 1918.58,1243.69 1928.4,1199.34 1938.22,1150.46 1948.05,1097.47 1957.87,1040.87 \n",
       "  1967.69,981.194 1977.51,919.015 1987.33,854.936 1997.15,789.588 2006.97,723.621 2016.8,657.7 2026.62,592.496 2036.44,528.682 2046.26,466.922 2056.08,407.867 \n",
       "  2065.9,352.15 2075.72,300.373 2085.55,253.107 2095.37,210.882 2105.19,174.183 2115.01,143.443 2124.83,119.038 2134.65,101.285 2144.47,90.4366 2154.3,86.6754 \n",
       "  2164.12,90.1151 2173.94,100.797 2183.76,118.688 2193.58,143.682 2203.4,175.6 2213.22,214.188 2223.05,259.124 2232.87,310.017 2242.69,366.412 2252.51,427.79 \n",
       "  2262.33,493.581 \n",
       "  \"/>\n",
       "<polyline clip-path=\"url(#clip8803)\" style=\"stroke:#e26f46; stroke-width:4; stroke-opacity:1; fill:none\" points=\"\n",
       "  298.044,803.542 307.865,803.542 317.687,803.542 327.508,803.542 337.329,803.542 347.151,803.542 356.972,803.542 366.794,803.542 376.615,803.542 386.437,803.542 \n",
       "  396.258,803.542 406.08,803.542 415.901,803.542 425.722,803.542 435.544,803.542 445.365,803.542 455.187,803.542 465.008,803.542 474.83,803.542 484.651,803.542 \n",
       "  494.472,803.542 504.294,803.542 514.115,803.542 523.937,803.542 533.758,803.542 543.58,803.542 553.401,803.542 563.223,803.542 573.044,803.542 582.865,803.542 \n",
       "  592.687,803.542 602.508,803.542 612.33,803.542 622.151,803.542 631.973,803.542 641.794,803.542 651.615,803.542 661.437,803.542 671.258,803.542 681.08,803.542 \n",
       "  690.901,803.542 700.723,803.542 710.544,803.542 720.366,803.542 730.187,803.542 740.008,803.542 749.83,803.542 759.651,803.542 769.473,803.542 779.294,803.542 \n",
       "  789.116,803.542 798.937,803.542 808.758,803.542 818.58,803.542 828.401,803.542 838.223,803.542 848.044,803.542 857.866,803.542 867.687,803.542 877.509,803.542 \n",
       "  887.33,803.542 897.151,803.542 906.973,803.542 916.794,803.542 926.616,803.542 936.437,803.542 946.259,803.542 956.08,803.542 965.901,803.542 975.723,803.542 \n",
       "  985.544,803.542 995.366,803.542 1005.19,803.542 1015.01,803.542 1024.83,803.542 1034.65,803.542 1044.47,803.542 1054.29,803.542 1064.12,803.542 1073.94,803.542 \n",
       "  1083.76,803.542 1093.58,803.542 1103.4,803.542 1113.22,803.542 1123.04,803.542 1132.87,803.542 1142.69,803.542 1152.51,803.542 1162.33,803.542 1172.15,803.542 \n",
       "  1181.97,803.542 1191.79,803.542 1201.62,803.542 1211.44,803.542 1221.26,803.542 1231.08,803.542 1240.9,803.542 1250.72,803.542 1260.54,803.542 1270.37,803.542 \n",
       "  1280.19,803.542 1290.01,803.542 1299.83,803.542 1309.65,803.542 1319.47,803.542 1329.29,803.542 1339.12,803.542 1348.94,803.542 1358.76,803.542 1368.58,803.542 \n",
       "  1378.4,803.542 1388.22,803.542 1398.04,803.542 1407.87,803.542 1417.69,803.542 1427.51,803.542 1437.33,803.542 1447.15,803.542 1456.97,803.542 1466.79,803.542 \n",
       "  1476.62,803.542 1486.44,803.542 1496.26,803.542 1506.08,803.542 1515.9,803.542 1525.72,803.542 1535.54,803.542 1545.37,803.542 1555.19,803.542 1565.01,803.542 \n",
       "  1574.83,803.542 1584.65,803.542 1594.47,803.542 1604.29,803.542 1614.12,803.542 1623.94,803.542 1633.76,803.542 1643.58,803.542 1653.4,803.542 1663.22,803.542 \n",
       "  1673.04,803.542 1682.87,803.542 1692.69,803.542 1702.51,803.542 1712.33,803.542 1722.15,803.542 1731.97,803.542 1741.8,803.542 1751.62,803.542 1761.44,803.542 \n",
       "  1771.26,803.542 1781.08,803.542 1790.9,803.542 1800.72,803.542 1810.55,803.542 1820.37,803.542 1830.19,803.542 1840.01,803.542 1849.83,803.542 1859.65,803.542 \n",
       "  1869.47,803.542 1879.3,803.542 1889.12,803.542 1898.94,803.542 1908.76,803.542 1918.58,803.542 1928.4,803.542 1938.22,803.542 1948.05,803.542 1957.87,803.542 \n",
       "  1967.69,803.542 1977.51,803.542 1987.33,803.542 1997.15,803.542 2006.97,803.542 2016.8,803.542 2026.62,803.542 2036.44,803.542 2046.26,803.542 2056.08,803.542 \n",
       "  2065.9,803.542 2075.72,803.542 2085.55,803.542 2095.37,803.542 2105.19,803.542 2115.01,803.542 2124.83,803.542 2134.65,803.542 2144.47,803.542 2154.3,803.542 \n",
       "  2164.12,803.542 2173.94,803.542 2183.76,803.542 2193.58,803.542 2203.4,803.542 2213.22,803.542 2223.05,803.542 2232.87,803.542 2242.69,803.542 2252.51,803.542 \n",
       "  2262.33,803.542 \n",
       "  \"/>\n",
       "<polygon clip-path=\"url(#clip8801)\" points=\"\n",
       "1819.32,312.204 2249.26,312.204 2249.26,130.764 1819.32,130.764 \n",
       "  \" fill=\"#ffffff\" fill-rule=\"evenodd\" fill-opacity=\"1\"/>\n",
       "<polyline clip-path=\"url(#clip8801)\" style=\"stroke:#000000; stroke-width:4; stroke-opacity:1; fill:none\" points=\"\n",
       "  1819.32,312.204 2249.26,312.204 2249.26,130.764 1819.32,130.764 1819.32,312.204 \n",
       "  \"/>\n",
       "<polyline clip-path=\"url(#clip8801)\" style=\"stroke:#009af9; stroke-width:4; stroke-opacity:1; fill:none\" points=\"\n",
       "  1843.32,191.244 1987.32,191.244 \n",
       "  \"/>\n",
       "<g clip-path=\"url(#clip8801)\">\n",
       "<text style=\"fill:#000000; fill-opacity:1; font-family:Arial,Helvetica Neue,Helvetica,sans-serif; font-size:48px; text-anchor:start;\" transform=\"rotate(0, 2011.32, 208.744)\" x=\"2011.32\" y=\"208.744\">função</text>\n",
       "</g>\n",
       "<polyline clip-path=\"url(#clip8801)\" style=\"stroke:#e26f46; stroke-width:4; stroke-opacity:1; fill:none\" points=\"\n",
       "  1843.32,251.724 1987.32,251.724 \n",
       "  \"/>\n",
       "<g clip-path=\"url(#clip8801)\">\n",
       "<text style=\"fill:#000000; fill-opacity:1; font-family:Arial,Helvetica Neue,Helvetica,sans-serif; font-size:48px; text-anchor:start;\" transform=\"rotate(0, 2011.32, 269.224)\" x=\"2011.32\" y=\"269.224\">reta zero</text>\n",
       "</g>\n",
       "</svg>\n"
      ]
     },
     "execution_count": 189,
     "metadata": {},
     "output_type": "execute_result"
    }
   ],
   "source": [
    "plot(0:0.1:20, f2, xlabel = \"x\", ylabel = \"y\", label = \"função\", \n",
    "    xaxis = (\"x\",  0:1:20),\n",
    "    yaxis = (\"y\", -20:5:20))\n",
    "plot!(0:0.1:20, zero, label = \"reta zero\")"
   ]
  },
  {
   "cell_type": "markdown",
   "metadata": {},
   "source": [
    "#### SYMPY.JL"
   ]
  },
  {
   "cell_type": "markdown",
   "metadata": {},
   "source": [
    "A função `nsolve()` do pacote `SymPy.jl` permite usar métodos de aproximação numérica para encontrar raízes de equações algébricas não-lineares e retorna resultado do tipo `Sym`. Sintaxe:\n",
    "```julia\n",
    "nsolve(equação, xi, opções) \n",
    "```\n",
    "Sendo:\n",
    "* **`equação`**: equação algébrica expressa como uma expressão simbólica ou função genérica. Não funciona com funções anônimas;\n",
    "* **`xi`**: aproximação inicial da variavel da equação algébrica;\n",
    "* **`opções`**: flags.\n",
    "\n",
    "A função `nsolve()` retorna um valor do tipo `BigFloat`."
   ]
  },
  {
   "cell_type": "code",
   "execution_count": 190,
   "metadata": {
    "collapsed": false,
    "scrolled": true
   },
   "outputs": [
    {
     "data": {
      "text/plain": [
       "(x,)"
      ]
     },
     "execution_count": 190,
     "metadata": {},
     "output_type": "execute_result"
    }
   ],
   "source": [
    "using SymPy\n",
    "@syms x"
   ]
  },
  {
   "cell_type": "markdown",
   "metadata": {},
   "source": [
    "A função retorna um valor do tipo `BigFloat` que pode significar uma representação numérica grande para a maioria das aplicações. Com a flag `prec` podemos limitar o números de algarismos significativos."
   ]
  },
  {
   "cell_type": "code",
   "execution_count": 192,
   "metadata": {
    "collapsed": false,
    "scrolled": false
   },
   "outputs": [
    {
     "name": "stdout",
     "output_type": "stream",
     "text": [
      "raiz1 = 1.570796326794896619231321691639751442098584699687552910487472296153908203142995\n",
      "raiz2 = 4.712388980384689857693965074919254326295754099062658731462416888461724609428986\n",
      "raiz3 = 7.853981633974483096156608458198757210492923498437764552437361480769541015716013\n"
     ]
    }
   ],
   "source": [
    "raiz1 = nsolve(f2(x), 2, prec = 7)\n",
    "raiz2 = nsolve(f2(x), 5, prec = 10)\n",
    "raiz3 = nsolve(f2(x), 7, prec = 15)\n",
    "\n",
    "@show raiz1\n",
    "@show raiz2\n",
    "@show raiz3;"
   ]
  },
  {
   "cell_type": "code",
   "execution_count": 193,
   "metadata": {
    "collapsed": false,
    "scrolled": true
   },
   "outputs": [
    {
     "name": "stdout",
     "output_type": "stream",
     "text": [
      "f2(raiz1) = 1.714031115625254409045718458238145760621261665267311718540801362672778832490767e-76\n",
      "f2(raiz2) = -1.542628004062728968141146612414331184559135498740580546686721226405500949241697e-75\n",
      "f2(raiz3) = -3.854319317291230010259953983094394357389085338727397308618527028903549781697674e-75\n"
     ]
    }
   ],
   "source": [
    "#Testando. Veja que o resultado é bem próximo de zero.\n",
    "@show f2(raiz1)\n",
    "@show f2(raiz2)\n",
    "@show f2(raiz3);"
   ]
  },
  {
   "cell_type": "markdown",
   "metadata": {},
   "source": [
    "**Raízes dentro uma faixa de valores**\n",
    "\n",
    "De acordo com gráfico de $y =  x \\cdot cos(x)$ podemos visualizar que existem várias raízes no intervalo  [0, 20]. Para calcular as raízes utilizando o a função `nsolve()` será necessário uma `list comprehension`."
   ]
  },
  {
   "cell_type": "code",
   "execution_count": 194,
   "metadata": {
    "collapsed": false,
    "scrolled": true
   },
   "outputs": [
    {
     "data": {
      "text/plain": [
       "9-element Array{Float64,1}:\n",
       "  0.0               \n",
       "  1.5707963267948966\n",
       "  4.71238898038469  \n",
       "  7.853981633974483 \n",
       " 10.995574287564276 \n",
       " 14.137166941154069 \n",
       " 17.278759594743864 \n",
       " 20.420352248333657 \n",
       " 23.56194490192345  "
      ]
     },
     "execution_count": 194,
     "metadata": {},
     "output_type": "execute_result"
    }
   ],
   "source": [
    "Raizes_nsolve = [Float64(nsolve(f2(x), i)) for i = 0:20]\n",
    "sort!(Raizes_nsolve)  # ordena os resultados\n",
    "unique(Raizes_nsolve) # filtra resultados repetidos"
   ]
  },
  {
   "cell_type": "markdown",
   "metadata": {},
   "source": [
    "**Polinomios**\n",
    "\n",
    "A função `nroots()` permite calcular polinômios numericamente e retorna um vetor contendo o resultado do tipo `Sym`. Sintaxe:\n",
    "\n",
    "```julia\n",
    "nroots(equação, n, maxsteps)  \n",
    "```\n",
    "Sendo:\n",
    "\n",
    "* **equação**: equação algébrica expressa como uma expressão simbólica ou função genérica. Não funciona com função anônima;\n",
    "* **n**: números de dígitos (15 padrão);\n",
    "* **maxsteps**: número máximo de iterações a serem feitas (50 padrão).\n",
    "\n",
    "A função `nroots()` retorna um vetor de dados simbólicos do tipo `SymPy.Sym`."
   ]
  },
  {
   "cell_type": "code",
   "execution_count": 197,
   "metadata": {
    "collapsed": false,
    "scrolled": false
   },
   "outputs": [
    {
     "data": {
      "text/latex": [
       "\\begin{equation*}\\left [ 0.33333 - 1.2472 i, \\quad 0.33333 + 1.2472 i\\right ]\\end{equation*}"
      ],
      "text/plain": [
       "[0.33333 - 1.2472⋅ⅈ, 0.33333 + 1.2472⋅ⅈ]"
      ]
     },
     "execution_count": 197,
     "metadata": {},
     "output_type": "execute_result"
    }
   ],
   "source": [
    "xnp = nroots(3*x^2 - 2*x + 5, n = 5)"
   ]
  },
  {
   "cell_type": "markdown",
   "metadata": {},
   "source": [
    "Para acessar a sulução $0.33333−1.2472i$, use:"
   ]
  },
  {
   "cell_type": "code",
   "execution_count": 205,
   "metadata": {
    "collapsed": false
   },
   "outputs": [
    {
     "data": {
      "text/latex": [
       "\\begin{equation*}0.33333 - 1.2472 i\\end{equation*}"
      ],
      "text/plain": [
       "0.33333 - 1.2472⋅ⅈ"
      ]
     },
     "execution_count": 205,
     "metadata": {},
     "output_type": "execute_result"
    }
   ],
   "source": [
    "xnp.x[1]"
   ]
  },
  {
   "cell_type": "markdown",
   "metadata": {},
   "source": [
    "#### ROOTS.JL"
   ]
  },
  {
   "cell_type": "markdown",
   "metadata": {},
   "source": [
    "A função `find_zero()` é uma interface para um dos vários métodos numéricos implementados para encontrar zeros de uma função univariada e retorna resultado do tipo `Float64`. O método da secante é o padrão. Sintaxe:\n",
    "```julia\n",
    "find_zero(equação, xi, opções)\n",
    "```\n",
    "Para calcular várias raízes em um intervalo contínuo  [a, b]:\n",
    "```julia\n",
    "find_zeros(equação, a, b)\n",
    "```\n",
    "Sendo:\n",
    "* **equação**: equação expressa através de uma função genérica ou anônima. A função `find_zero()` não funciona com expressões simbólicas;\n",
    "* **xi**: aproximação inicial da variavel da equação algébrica;\n",
    "* **opções**: \n",
    " * xatol - tolerância absoluta para valores x; \n",
    " * xrtol - tolerância relativa para valores de x; \n",
    " * atol - tolerância absoluta para valores da função calculada;\n",
    " * rtol - tolerância relativa para valores da função calculada;\n",
    " * maxevals - limite no número máximo de iterações;\n",
    " * maxfnevals - limite no número máximo de avaliações da função calculada;\n",
    " * verbose - permite mostrar informações sobre o método utilizado;\n",
    " * método - exige informações sobre o método numérico empregado no cálculo do zero da função;\n",
    "* **a, b**: intervalo contínuo.\n",
    "\n",
    "Métodos numéricos disponíveis:\n",
    "\n",
    "* **Bisseção() **: Utiliza o método da bisseção. Neste método não há necessidade de passar derivadas da função como argumento.\n",
    "\n",
    "* **Roots.A42() **: Método que encontra a raiz de uma função contínua dentro de um intervalo fornecido [a, b], sem necessidade de passar derivadas da função como argumento. Baseia-se no algoritmo \"4.2\" descrito em:  \"Algorithm 748: enclosing zeros of continuous functions\" de autoria de G. E. Alefeld, F. A. Potra e Yixun Shi. DOI:10.1145/210089.210111.\n",
    "\n",
    "* **FalsePosition() **: Utiliza o método da bissecção modificado conhecido como método da falsa posição. Não há necessidade de passar derivadas da função como argumento.\n",
    "\n",
    "* **Order0() **: O método Order0 foi desenvolvido para ser uma alternativa robusta, embora possivelmente mais lenta, aos outros métodos de busca de raízes sem necessidade de passar derivadas da função como argumento. A implementação segue aproximadamente o algoritmo para resolver equações $f(x)= 0$ implementado na HP-34C. \n",
    "\n",
    "* **Order1() (método padrão)**: Implementa o método da secante. Não há necessidade de passar derivadas da equação como argumento.\n",
    "\n",
    "* **Order2()**: Implementa o método de convergência quadrática de Steffensen, no qual permite encontrar raízes usando uma combinação do método de ponto fixo e do método de Aitken, sem necessidade de passar derivadas da função como argumento. \n",
    "\n",
    "* **Order5() **: Método que encontra raízes de equações não lineares sem necessidade de passar derivadas da função como argumento. É baseado no algoritmo \" descrito em: \"A New Fifth Order Derivative Free Newton-Type Method for Solving Nonlinear Equations\" de autoria de Manoj Kumar, Akhilesh Kumar Singh e Akanksha Srivastava. http://dx.doi.org/10.12785/amis/090346.\n",
    "\n",
    "* **Order8() **: Método que encontra raízes de equações não lineares sem necessidade de passar derivadas da função como argumento. É baseado no algoritmo descrito em: \"New Eighth-Order Derivative-Free Methods for Solving Nonlinear Equations\" de autoria de Rajinder Thukral. http://dx.doi.org/10.1155/2012/493456.\n",
    "\n",
    "* **Order16() **: Método que encontra raízes de equações não lineares sem necessidade de passar derivadas da função como argumento. É baseado no algoritmo descrito em: \"New Sixteenth-Order Derivative-Free Methods for Solving Nonlinear Equations\" de autoria de Rajinder Thukral. http://article.sapub.org/10.5923.j.ajcam.20120203.08.html.\n",
    "\n",
    "* **Roots.Newton() **: Implementa o método de Newton. A tupla, formada pela função e a primeira derivada, deve ser passada como argumento.\n",
    "\n",
    "* **Roots.Halley() **: Implementa o método de Halley. A tupla, formada pela função, primeira e segunda derivada, deve ser passada como argumento."
   ]
  },
  {
   "cell_type": "code",
   "execution_count": 206,
   "metadata": {
    "collapsed": false,
    "scrolled": true
   },
   "outputs": [
    {
     "data": {
      "text/plain": [
       "f2 (generic function with 1 method)"
      ]
     },
     "execution_count": 206,
     "metadata": {},
     "output_type": "execute_result"
    }
   ],
   "source": [
    "f2(x) = x*cos(x)"
   ]
  },
  {
   "cell_type": "code",
   "execution_count": 207,
   "metadata": {
    "collapsed": false
   },
   "outputs": [
    {
     "ename": "ArgumentError",
     "evalue": "ArgumentError: Package Roots not found in current path:\n- Run `import Pkg; Pkg.add(\"Roots\")` to install the Roots package.\n",
     "output_type": "error",
     "traceback": [
      "ArgumentError: Package Roots not found in current path:\n- Run `import Pkg; Pkg.add(\"Roots\")` to install the Roots package.\n",
      "",
      "Stacktrace:",
      " [1] require(::Module, ::Symbol) at ./loading.jl:823",
      " [2] top-level scope at In[207]:1"
     ]
    }
   ],
   "source": [
    "using Roots"
   ]
  },
  {
   "cell_type": "code",
   "execution_count": 56,
   "metadata": {
    "collapsed": false
   },
   "outputs": [
    {
     "data": {
      "text/plain": [
       "1.5707963267948966"
      ]
     },
     "execution_count": 56,
     "metadata": {},
     "output_type": "execute_result"
    }
   ],
   "source": [
    "# Método da Secante (padrão)\n",
    "find_zero(f2, 2)"
   ]
  },
  {
   "cell_type": "code",
   "execution_count": 57,
   "metadata": {
    "collapsed": false,
    "scrolled": true
   },
   "outputs": [
    {
     "name": "stdout",
     "output_type": "stream",
     "text": [
      "Results of univariate zero finding:\n",
      "\n",
      "* Converged to: 1.5707963267948966\n",
      "* Algorithm: Roots.A42()\n",
      "* iterations: 2\n",
      "* function evaluations: 8\n",
      "* stopped as x_n ≈ x_{n-1} using atol=xatol, rtol=xrtol\n",
      "* Note: Change of sign at xn identified. \n",
      "\n",
      "Trace:\n",
      "(a_0, b_0) = ( 1.0000000000000000,  2.0000000000000000)\n",
      "(a_1, b_1) = ( 1.5000000000000000,  2.0000000000000000)\n",
      "(a_2, b_2) = ( 1.5704429313643755,  1.5711187334545988)\n",
      "(a_3, b_3) = ( 1.5707963267948966,  1.5707963267948968)\n",
      "\n"
     ]
    },
    {
     "data": {
      "text/plain": [
       "1.5707963267948966"
      ]
     },
     "execution_count": 57,
     "metadata": {},
     "output_type": "execute_result"
    }
   ],
   "source": [
    "find_zero(f2, (1, 2), Roots.A42(), verbose = true)"
   ]
  },
  {
   "cell_type": "markdown",
   "metadata": {},
   "source": [
    "Para utilizar os métodos de Newton e Halley é necessário passar a derivada primeira e segunda da função conforme os códigos abaixo:"
   ]
  },
  {
   "cell_type": "code",
   "execution_count": 107,
   "metadata": {
    "collapsed": false,
    "scrolled": true
   },
   "outputs": [
    {
     "name": "stdout",
     "output_type": "stream",
     "text": [
      "Results of univariate zero finding:\n",
      "\n",
      "* Converged to: 1.5707963267948966\n",
      "* Algorithm: Roots.Newton()\n",
      "* iterations: 5\n",
      "* function evaluations: 6\n",
      "* stopped as |f(x_n)| ≤ max(δ, max(1,|x|)⋅ϵ) using δ = atol, ϵ = rtol\n",
      "\n",
      "Trace:\n",
      "x_0 =  2.0000000000000000,\t fx_0 = -0.8322936730942848\n",
      "x_1 =  1.6275660508126313,\t fx_1 = -0.0923468542709272\n",
      "x_2 =  1.5726527073612491,\t fx_2 = -0.0029194402467621\n",
      "x_3 =  1.5707985133806537,\t fx_3 = -0.0000034346856566\n",
      "x_4 =  1.5707963267979403,\t fx_4 = -0.0000000000047811\n",
      "x_5 =  1.5707963267948966,\t fx_5 =  0.0000000000000001\n",
      "\n"
     ]
    },
    {
     "data": {
      "text/plain": [
       "1.5707963267948966"
      ]
     },
     "execution_count": 107,
     "metadata": {},
     "output_type": "execute_result"
    }
   ],
   "source": [
    "# find_zero(f, f', xi, método)\n",
    "find_zero((f2, -x*sin(x) + cos(x)), 2, Roots.Newton(), verbose = true)"
   ]
  },
  {
   "cell_type": "code",
   "execution_count": 108,
   "metadata": {
    "collapsed": false,
    "scrolled": true
   },
   "outputs": [
    {
     "name": "stdout",
     "output_type": "stream",
     "text": [
      "Results of univariate zero finding:\n",
      "\n",
      "* Converged to: 1.5707963267948968\n",
      "* Algorithm: Roots.Halley()\n",
      "* iterations: 3\n",
      "* function evaluations: 10\n",
      "* stopped as |f(x_n)| ≤ max(δ, max(1,|x|)⋅ϵ) using δ = atol, ϵ = rtol\n",
      "\n",
      "Trace:\n",
      "x_0 =  2.0000000000000000,\t fx_0 = -0.8322936730942848\n",
      "x_1 =  1.5942160077510821,\t fx_1 = -0.0373326173503299\n",
      "x_2 =  1.5708033554411425,\t fx_2 = -0.0000110406211071\n",
      "x_3 =  1.5707963267948968,\t fx_3 = -0.0000000000000003\n",
      "\n"
     ]
    },
    {
     "data": {
      "text/plain": [
       "1.5707963267948968"
      ]
     },
     "execution_count": 108,
     "metadata": {},
     "output_type": "execute_result"
    }
   ],
   "source": [
    "# find_zero(f, f', f'', xi, método)\n",
    "find_zero((f2, -x*sin(x) + cos(x), -(x*cos(x) + 2*sin(x))), 2, Roots.Halley(), verbose = true)"
   ]
  },
  {
   "cell_type": "markdown",
   "metadata": {},
   "source": [
    "A função `fzero()` "
   ]
  },
  {
   "cell_type": "markdown",
   "metadata": {},
   "source": [
    "**Raízes dentro de um intervalo**\n",
    "\n",
    "A função `find_zeros()` calcula as várias raízes em um intervalo contínuo $[a, b]$."
   ]
  },
  {
   "cell_type": "code",
   "execution_count": 109,
   "metadata": {
    "collapsed": false,
    "scrolled": true
   },
   "outputs": [
    {
     "data": {
      "text/plain": [
       "6-element Array{Float64,1}:\n",
       "  1.5707963267948966\n",
       "  4.71238898038469  \n",
       "  7.853981633974483 \n",
       " 10.995574287564276 \n",
       " 14.137166941154069 \n",
       " 17.27875959474386  "
      ]
     },
     "execution_count": 109,
     "metadata": {},
     "output_type": "execute_result"
    }
   ],
   "source": [
    "Raizes_Root = find_zeros(f2, 0 , 20)"
   ]
  },
  {
   "cell_type": "markdown",
   "metadata": {},
   "source": [
    "#### POLYNOMIALS.JL\n",
    "\n",
    "Dado um polinômio definidos como $P = a_nx^n + a_{n−1}x^{n−1} + ... +   a_2x^2 + a_1x + a_0$, o pacote `Polinomials.jl` possui a função `roots()` que calcula raízes de polinômios de forma prática quando trabalhamos com polinômios grandes. Sintaxe:\n",
    "\n",
    "```julia\n",
    "roots(Poly([a_0, a_1, a_2 ... , a_n]))\n",
    "```\n",
    "Sendo:\n",
    "* **[a_0, a_1, a_2 ... , a_n]**: vetor dos termos do polinômio.\n",
    "\n",
    "É importante observar que o `SymPy.jl` também importa uma função `Poly()`, logo é necessário a sintaxe `Polynomials.Poly([a_0, a_1, a_2, ..., a_n])` para definir um polinômio utilizando o pacote `Polinomials`.  A função `roots()` retorna um vetor do tipo `Float`.\n",
    "\n",
    "Exemplo: calcular as raízes do polinômio de \n",
    "\n",
    "$2.3x^{10} -5.0x^9+0.3x^8 -0.4x^7 + 3.5x^6 -17.6x^5 + 55.0x^4 -1.2x^3 + 1.5x^2 -40.3x + 10$"
   ]
  },
  {
   "cell_type": "code",
   "execution_count": 208,
   "metadata": {
    "collapsed": false
   },
   "outputs": [
    {
     "ename": "ArgumentError",
     "evalue": "ArgumentError: Package Polynomials not found in current path:\n- Run `import Pkg; Pkg.add(\"Polynomials\")` to install the Polynomials package.\n",
     "output_type": "error",
     "traceback": [
      "ArgumentError: Package Polynomials not found in current path:\n- Run `import Pkg; Pkg.add(\"Polynomials\")` to install the Polynomials package.\n",
      "",
      "Stacktrace:",
      " [1] require(::Module, ::Symbol) at ./loading.jl:823",
      " [2] top-level scope at In[208]:1"
     ]
    }
   ],
   "source": [
    "using Polynomials"
   ]
  },
  {
   "cell_type": "code",
   "execution_count": 117,
   "metadata": {
    "collapsed": false,
    "scrolled": true
   },
   "outputs": [
    {
     "data": {
      "text/plain": [
       "10-element Array{Complex{Float64},1}:\n",
       "  1.8909899485791621 + 0.3934226869896068im\n",
       "  1.8909899485791621 - 0.3934226869896068im\n",
       "  0.4321619135459296 + 1.5425242722508146im\n",
       "  0.4321619135459296 - 1.5425242722508146im\n",
       "  -1.276967756654567 + 0.901576169583584im \n",
       "  -1.276967756654567 - 0.901576169583584im \n",
       " -0.5335545375466638 + 0.7279870571636058im\n",
       " -0.5335545375466638 - 0.7279870571636058im\n",
       "  0.8932250765373552 + 0.0im               \n",
       "  0.2554288310931762 + 0.0im               "
      ]
     },
     "execution_count": 117,
     "metadata": {},
     "output_type": "execute_result"
    }
   ],
   "source": [
    "# note que o polinômio está escrito ao contrário, de a_0 para ax^n\n",
    "sol_poly = roots(Polynomials.Poly([10.0, -40.3, 1.5, -1.2, 55.0, -17.6, 3.5, -0.4, 0.3, -5.0, 2.3]))"
   ]
  },
  {
   "cell_type": "markdown",
   "metadata": {},
   "source": [
    "A função `roots()` retorna o resultado do tipo `Array{Complex{Float64},1}`. Para utilizar a parte real de uma solução, use: "
   ]
  },
  {
   "cell_type": "code",
   "execution_count": 119,
   "metadata": {
    "collapsed": false,
    "scrolled": false
   },
   "outputs": [
    {
     "data": {
      "text/plain": [
       "0.2554288310931762"
      ]
     },
     "execution_count": 119,
     "metadata": {},
     "output_type": "execute_result"
    }
   ],
   "source": [
    "sol_poly[10].re"
   ]
  },
  {
   "cell_type": "markdown",
   "metadata": {
    "collapsed": true
   },
   "source": [
    "## SISTEMAS DE EQUAÇÕES LINEARES E NÃO LINEARES "
   ]
  },
  {
   "cell_type": "markdown",
   "metadata": {},
   "source": [
    "### SISTEMAS DE EQUAÇÕES LINEARES \n",
    "\n",
    "Exemplo: Calcular as raízes do sistema de equações abaixo:\n",
    "\n",
    "${\\begin{cases}\n",
    "& 2x + 3y - 6 ~~ = 0 \\\\ \n",
    "& 3x - 4y - 12 = 0 \n",
    "\\end{cases}}$\n",
    "\n"
   ]
  },
  {
   "cell_type": "code",
   "execution_count": 209,
   "metadata": {
    "collapsed": false
   },
   "outputs": [
    {
     "data": {
      "text/plain": [
       "f4 (generic function with 1 method)"
      ]
     },
     "execution_count": 209,
     "metadata": {},
     "output_type": "execute_result"
    }
   ],
   "source": [
    "# Equações definidas por funções genérica\n",
    "\n",
    "f3(x,y) = 2*x + 3*y - 6\n",
    "f4(x,y) = 3*x - 4*y - 12"
   ]
  },
  {
   "cell_type": "markdown",
   "metadata": {},
   "source": [
    "**Gráfico**\n",
    "\n",
    "O gráfico permite observar o ponto de cruzamento das retas que corresponde à solução do problema. Será utilizado o pacote `Plots.jl` para gerar o gráfico."
   ]
  },
  {
   "cell_type": "code",
   "execution_count": 210,
   "metadata": {
    "collapsed": false,
    "scrolled": true
   },
   "outputs": [
    {
     "data": {
      "text/plain": [
       "Plots.GRBackend()"
      ]
     },
     "execution_count": 210,
     "metadata": {},
     "output_type": "execute_result"
    }
   ],
   "source": [
    "using Plots\n",
    "gr()"
   ]
  },
  {
   "cell_type": "code",
   "execution_count": 211,
   "metadata": {
    "collapsed": false
   },
   "outputs": [
    {
     "data": {
      "image/svg+xml": [
       "<?xml version=\"1.0\" encoding=\"utf-8\"?>\n",
       "<svg xmlns=\"http://www.w3.org/2000/svg\" xmlns:xlink=\"http://www.w3.org/1999/xlink\" width=\"400\" height=\"300\" viewBox=\"0 0 1600 1200\">\n",
       "<defs>\n",
       "  <clipPath id=\"clip9000\">\n",
       "    <rect x=\"0\" y=\"0\" width=\"2000\" height=\"2000\"/>\n",
       "  </clipPath>\n",
       "</defs>\n",
       "<defs>\n",
       "  <clipPath id=\"clip9001\">\n",
       "    <rect x=\"0\" y=\"0\" width=\"1600\" height=\"1200\"/>\n",
       "  </clipPath>\n",
       "</defs>\n",
       "<polygon clip-path=\"url(#clip9001)\" points=\"\n",
       "0,1200 1600,1200 1600,0 0,0 \n",
       "  \" fill=\"#ffffff\" fill-rule=\"evenodd\" fill-opacity=\"1\"/>\n",
       "<defs>\n",
       "  <clipPath id=\"clip9002\">\n",
       "    <rect x=\"320\" y=\"0\" width=\"1121\" height=\"1121\"/>\n",
       "  </clipPath>\n",
       "</defs>\n",
       "<polygon clip-path=\"url(#clip9001)\" points=\"\n",
       "252.496,1040.48 1521.26,1040.48 1521.26,47.2441 252.496,47.2441 \n",
       "  \" fill=\"#ffffff\" fill-rule=\"evenodd\" fill-opacity=\"1\"/>\n",
       "<defs>\n",
       "  <clipPath id=\"clip9003\">\n",
       "    <rect x=\"252\" y=\"47\" width=\"1270\" height=\"994\"/>\n",
       "  </clipPath>\n",
       "</defs>\n",
       "<polyline clip-path=\"url(#clip9003)\" style=\"stroke:#000000; stroke-width:2; stroke-opacity:0.1; fill:none\" points=\"\n",
       "  252.496,1040.48 252.496,47.2441 \n",
       "  \"/>\n",
       "<polyline clip-path=\"url(#clip9003)\" style=\"stroke:#000000; stroke-width:2; stroke-opacity:0.1; fill:none\" points=\"\n",
       "  569.687,1040.48 569.687,47.2441 \n",
       "  \"/>\n",
       "<polyline clip-path=\"url(#clip9003)\" style=\"stroke:#000000; stroke-width:2; stroke-opacity:0.1; fill:none\" points=\"\n",
       "  886.878,1040.48 886.878,47.2441 \n",
       "  \"/>\n",
       "<polyline clip-path=\"url(#clip9003)\" style=\"stroke:#000000; stroke-width:2; stroke-opacity:0.1; fill:none\" points=\"\n",
       "  1204.07,1040.48 1204.07,47.2441 \n",
       "  \"/>\n",
       "<polyline clip-path=\"url(#clip9003)\" style=\"stroke:#000000; stroke-width:2; stroke-opacity:0.1; fill:none\" points=\"\n",
       "  1521.26,1040.48 1521.26,47.2441 \n",
       "  \"/>\n",
       "<polyline clip-path=\"url(#clip9003)\" style=\"stroke:#000000; stroke-width:2; stroke-opacity:0.1; fill:none\" points=\"\n",
       "  252.496,1040.48 1521.26,1040.48 \n",
       "  \"/>\n",
       "<polyline clip-path=\"url(#clip9003)\" style=\"stroke:#000000; stroke-width:2; stroke-opacity:0.1; fill:none\" points=\"\n",
       "  252.496,792.173 1521.26,792.173 \n",
       "  \"/>\n",
       "<polyline clip-path=\"url(#clip9003)\" style=\"stroke:#000000; stroke-width:2; stroke-opacity:0.1; fill:none\" points=\"\n",
       "  252.496,543.863 1521.26,543.863 \n",
       "  \"/>\n",
       "<polyline clip-path=\"url(#clip9003)\" style=\"stroke:#000000; stroke-width:2; stroke-opacity:0.1; fill:none\" points=\"\n",
       "  252.496,295.554 1521.26,295.554 \n",
       "  \"/>\n",
       "<polyline clip-path=\"url(#clip9003)\" style=\"stroke:#000000; stroke-width:2; stroke-opacity:0.1; fill:none\" points=\"\n",
       "  252.496,47.2441 1521.26,47.2441 \n",
       "  \"/>\n",
       "<polyline clip-path=\"url(#clip9001)\" style=\"stroke:#000000; stroke-width:4; stroke-opacity:1; fill:none\" points=\"\n",
       "  252.496,1040.48 1521.26,1040.48 \n",
       "  \"/>\n",
       "<polyline clip-path=\"url(#clip9001)\" style=\"stroke:#000000; stroke-width:4; stroke-opacity:1; fill:none\" points=\"\n",
       "  252.496,1040.48 252.496,47.2441 \n",
       "  \"/>\n",
       "<polyline clip-path=\"url(#clip9001)\" style=\"stroke:#000000; stroke-width:4; stroke-opacity:1; fill:none\" points=\"\n",
       "  252.496,1040.48 252.496,1025.58 \n",
       "  \"/>\n",
       "<polyline clip-path=\"url(#clip9001)\" style=\"stroke:#000000; stroke-width:4; stroke-opacity:1; fill:none\" points=\"\n",
       "  569.687,1040.48 569.687,1025.58 \n",
       "  \"/>\n",
       "<polyline clip-path=\"url(#clip9001)\" style=\"stroke:#000000; stroke-width:4; stroke-opacity:1; fill:none\" points=\"\n",
       "  886.878,1040.48 886.878,1025.58 \n",
       "  \"/>\n",
       "<polyline clip-path=\"url(#clip9001)\" style=\"stroke:#000000; stroke-width:4; stroke-opacity:1; fill:none\" points=\"\n",
       "  1204.07,1040.48 1204.07,1025.58 \n",
       "  \"/>\n",
       "<polyline clip-path=\"url(#clip9001)\" style=\"stroke:#000000; stroke-width:4; stroke-opacity:1; fill:none\" points=\"\n",
       "  1521.26,1040.48 1521.26,1025.58 \n",
       "  \"/>\n",
       "<polyline clip-path=\"url(#clip9001)\" style=\"stroke:#000000; stroke-width:4; stroke-opacity:1; fill:none\" points=\"\n",
       "  252.496,1040.48 271.528,1040.48 \n",
       "  \"/>\n",
       "<polyline clip-path=\"url(#clip9001)\" style=\"stroke:#000000; stroke-width:4; stroke-opacity:1; fill:none\" points=\"\n",
       "  252.496,792.173 271.528,792.173 \n",
       "  \"/>\n",
       "<polyline clip-path=\"url(#clip9001)\" style=\"stroke:#000000; stroke-width:4; stroke-opacity:1; fill:none\" points=\"\n",
       "  252.496,543.863 271.528,543.863 \n",
       "  \"/>\n",
       "<polyline clip-path=\"url(#clip9001)\" style=\"stroke:#000000; stroke-width:4; stroke-opacity:1; fill:none\" points=\"\n",
       "  252.496,295.554 271.528,295.554 \n",
       "  \"/>\n",
       "<polyline clip-path=\"url(#clip9001)\" style=\"stroke:#000000; stroke-width:4; stroke-opacity:1; fill:none\" points=\"\n",
       "  252.496,47.2441 271.528,47.2441 \n",
       "  \"/>\n",
       "<g clip-path=\"url(#clip9001)\">\n",
       "<text style=\"fill:#000000; fill-opacity:1; font-family:Arial,Helvetica Neue,Helvetica,sans-serif; font-size:48px; text-anchor:middle;\" transform=\"rotate(0, 252.496, 1090.48)\" x=\"252.496\" y=\"1090.48\">-5.0</text>\n",
       "</g>\n",
       "<g clip-path=\"url(#clip9001)\">\n",
       "<text style=\"fill:#000000; fill-opacity:1; font-family:Arial,Helvetica Neue,Helvetica,sans-serif; font-size:48px; text-anchor:middle;\" transform=\"rotate(0, 569.687, 1090.48)\" x=\"569.687\" y=\"1090.48\">-2.5</text>\n",
       "</g>\n",
       "<g clip-path=\"url(#clip9001)\">\n",
       "<text style=\"fill:#000000; fill-opacity:1; font-family:Arial,Helvetica Neue,Helvetica,sans-serif; font-size:48px; text-anchor:middle;\" transform=\"rotate(0, 886.878, 1090.48)\" x=\"886.878\" y=\"1090.48\">0.0</text>\n",
       "</g>\n",
       "<g clip-path=\"url(#clip9001)\">\n",
       "<text style=\"fill:#000000; fill-opacity:1; font-family:Arial,Helvetica Neue,Helvetica,sans-serif; font-size:48px; text-anchor:middle;\" transform=\"rotate(0, 1204.07, 1090.48)\" x=\"1204.07\" y=\"1090.48\">2.5</text>\n",
       "</g>\n",
       "<g clip-path=\"url(#clip9001)\">\n",
       "<text style=\"fill:#000000; fill-opacity:1; font-family:Arial,Helvetica Neue,Helvetica,sans-serif; font-size:48px; text-anchor:middle;\" transform=\"rotate(0, 1521.26, 1090.48)\" x=\"1521.26\" y=\"1090.48\">5.0</text>\n",
       "</g>\n",
       "<g clip-path=\"url(#clip9001)\">\n",
       "<text style=\"fill:#000000; fill-opacity:1; font-family:Arial,Helvetica Neue,Helvetica,sans-serif; font-size:48px; text-anchor:end;\" transform=\"rotate(0, 236.496, 1057.98)\" x=\"236.496\" y=\"1057.98\">-5.0</text>\n",
       "</g>\n",
       "<g clip-path=\"url(#clip9001)\">\n",
       "<text style=\"fill:#000000; fill-opacity:1; font-family:Arial,Helvetica Neue,Helvetica,sans-serif; font-size:48px; text-anchor:end;\" transform=\"rotate(0, 236.496, 809.673)\" x=\"236.496\" y=\"809.673\">-2.5</text>\n",
       "</g>\n",
       "<g clip-path=\"url(#clip9001)\">\n",
       "<text style=\"fill:#000000; fill-opacity:1; font-family:Arial,Helvetica Neue,Helvetica,sans-serif; font-size:48px; text-anchor:end;\" transform=\"rotate(0, 236.496, 561.363)\" x=\"236.496\" y=\"561.363\">0.0</text>\n",
       "</g>\n",
       "<g clip-path=\"url(#clip9001)\">\n",
       "<text style=\"fill:#000000; fill-opacity:1; font-family:Arial,Helvetica Neue,Helvetica,sans-serif; font-size:48px; text-anchor:end;\" transform=\"rotate(0, 236.496, 313.054)\" x=\"236.496\" y=\"313.054\">2.5</text>\n",
       "</g>\n",
       "<g clip-path=\"url(#clip9001)\">\n",
       "<text style=\"fill:#000000; fill-opacity:1; font-family:Arial,Helvetica Neue,Helvetica,sans-serif; font-size:48px; text-anchor:end;\" transform=\"rotate(0, 236.496, 64.7441)\" x=\"236.496\" y=\"64.7441\">5.0</text>\n",
       "</g>\n",
       "<g clip-path=\"url(#clip9001)\">\n",
       "<text style=\"fill:#000000; fill-opacity:1; font-family:Arial,Helvetica Neue,Helvetica,sans-serif; font-size:66px; text-anchor:middle;\" transform=\"rotate(0, 886.878, 1190.4)\" x=\"886.878\" y=\"1190.4\">x</text>\n",
       "</g>\n",
       "<g clip-path=\"url(#clip9001)\">\n",
       "<text style=\"fill:#000000; fill-opacity:1; font-family:Arial,Helvetica Neue,Helvetica,sans-serif; font-size:66px; text-anchor:middle;\" transform=\"rotate(-90, 57.6, 543.863)\" x=\"57.6\" y=\"543.863\">y</text>\n",
       "</g>\n",
       "<polyline clip-path=\"url(#clip9003)\" style=\"stroke:#ed6a23; stroke-width:12; stroke-opacity:1; fill:none\" points=\"\n",
       "  1521.26,676.295 1520.63,675.964 1519.99,675.633 1518.72,674.971 1518.72,674.971 1517.45,674.309 1516.82,673.978 1516.18,673.647 1514.92,672.984 \n",
       "  1513.65,672.322 1513.01,671.991 1512.38,671.66 1511.11,670.998 1509.84,670.336 1509.21,670.005 1508.57,669.674 1507.3,669.011 1507.3,669.011 \n",
       "  1506.03,668.349 1505.4,668.018 1504.77,667.687 1503.5,667.025 1502.23,666.363 1501.59,666.032 1500.96,665.701 1499.69,665.038 \n",
       "  1498.42,664.376 1497.79,664.045 1497.15,663.714 1495.88,663.052 1494.62,662.39 1493.98,662.059 1493.35,661.728 1492.08,661.065 1492.08,661.065 \n",
       "  1490.81,660.403 1490.18,660.072 1489.54,659.741 1488.27,659.079 1487,658.417 1486.37,658.086 1485.73,657.755 1484.47,657.093 \n",
       "  1483.2,656.43 1482.56,656.099 1481.93,655.768 1480.66,655.106 1480.66,655.106 1479.39,654.444 1478.76,654.113 1478.12,653.782 1476.85,653.12 \n",
       "  1475.58,652.457 1474.95,652.126 1474.32,651.795 1473.05,651.133 1471.78,650.471 1471.14,650.14 1470.51,649.809 1469.24,649.147 \n",
       "  1467.97,648.484 1467.34,648.153 1466.7,647.822 1465.43,647.16 1465.43,647.16 1464.17,646.498 1463.53,646.167 1462.9,645.836 1461.63,645.174 \n",
       "  1460.36,644.512 1459.72,644.18 1459.09,643.849 1457.82,643.187 1456.55,642.525 1455.92,642.194 1455.28,641.863 1454.02,641.201 \n",
       "  1452.75,640.539 1452.11,640.207 1451.48,639.876 1450.21,639.214 1448.94,638.552 1448.31,638.221 1447.67,637.89 1446.4,637.228 \n",
       "  1445.13,636.566 1444.5,636.235 1443.87,635.903 1442.6,635.241 1441.33,634.579 1440.69,634.248 1440.06,633.917 1438.79,633.255 1438.79,633.255 \n",
       "  1437.52,632.593 1436.89,632.262 1436.25,631.93 1434.98,631.268 1433.72,630.606 1433.08,630.275 1432.45,629.944 1431.18,629.282 \n",
       "  1429.91,628.62 1429.27,628.289 1428.64,627.958 1427.37,627.295 1426.1,626.633 1425.47,626.302 1424.83,625.971 1423.57,625.309 1423.57,625.309 \n",
       "  1422.3,624.647 1421.66,624.316 1421.03,623.985 1419.76,623.322 1418.49,622.66 1417.86,622.329 1417.22,621.998 1415.95,621.336 \n",
       "  1414.68,620.674 1414.05,620.343 1413.41,620.012 1412.15,619.349 1412.15,619.349 1410.88,618.687 1410.24,618.356 1409.61,618.025 1408.34,617.363 \n",
       "  1407.07,616.701 1406.44,616.37 1405.8,616.039 1404.53,615.377 1403.26,614.714 1402.63,614.383 1402,614.052 1400.73,613.39 \n",
       "  1399.46,612.728 1398.82,612.397 1398.19,612.066 1396.92,611.404 1396.92,611.404 1395.65,610.741 1395.02,610.41 1394.38,610.079 1393.11,609.417 \n",
       "  1391.85,608.755 1391.21,608.424 1390.58,608.093 1389.31,607.431 1388.04,606.768 1387.41,606.437 1386.77,606.106 1385.5,605.444 \n",
       "  1384.23,604.782 1383.6,604.451 1382.96,604.12 1381.7,603.458 1380.43,602.795 1379.79,602.464 1379.16,602.133 1377.89,601.471 \n",
       "  1376.62,600.809 1375.99,600.478 1375.35,600.147 1374.08,599.485 1372.81,598.823 1372.18,598.491 1371.55,598.16 1370.28,597.498 \n",
       "  1369.01,596.836 1368.37,596.505 1367.74,596.174 1366.47,595.512 1365.2,594.85 1364.57,594.519 1363.93,594.187 1362.66,593.525 \n",
       "  1361.4,592.863 1360.76,592.532 1360.13,592.201 1358.86,591.539 1357.59,590.877 1356.95,590.546 1356.32,590.214 1355.05,589.552 \n",
       "  1353.78,588.89 1353.15,588.559 1352.51,588.228 1351.25,587.566 1349.98,586.904 1349.34,586.573 1348.71,586.242 1347.44,585.579 \n",
       "  1346.17,584.917 1345.54,584.586 1344.9,584.255 1343.63,583.593 1342.36,582.931 1341.73,582.6 1341.1,582.269 1339.83,581.606 \n",
       "  1338.56,580.944 1337.92,580.613 1337.29,580.282 1336.02,579.62 1334.75,578.958 1334.12,578.627 1333.48,578.296 1332.21,577.633 \n",
       "  1330.95,576.971 1330.31,576.64 1329.68,576.309 1328.41,575.647 1327.14,574.985 1326.5,574.654 1325.87,574.323 1324.6,573.661 \n",
       "  1323.33,572.998 1322.7,572.667 1322.06,572.336 1320.8,571.674 1319.53,571.012 1318.89,570.681 1318.26,570.35 1316.99,569.688 \n",
       "  1315.72,569.025 1315.09,568.694 1314.45,568.363 1313.18,567.701 1311.91,567.039 1311.28,566.708 1310.65,566.377 1309.38,565.715 \n",
       "  1308.11,565.052 1307.47,564.721 1306.84,564.39 1305.57,563.728 1304.3,563.066 1303.67,562.735 1303.03,562.404 1301.76,561.742 \n",
       "  1300.49,561.079 1299.86,560.748 1299.23,560.417 1297.96,559.755 1296.69,559.093 1296.05,558.762 1295.42,558.431 1294.15,557.769 \n",
       "  1292.88,557.107 1292.25,556.775 1291.61,556.444 1290.34,555.782 1289.08,555.12 1288.44,554.789 1287.81,554.458 1286.54,553.796 \n",
       "  1285.27,553.134 1284.64,552.802 1284,552.471 1282.73,551.809 1281.46,551.147 1280.83,550.816 1280.19,550.485 1278.93,549.823 \n",
       "  1277.66,549.161 1277.02,548.83 1276.39,548.498 1275.12,547.836 1273.85,547.174 1273.22,546.843 1272.58,546.512 1271.31,545.85 \n",
       "  1270.04,545.188 1269.41,544.857 1268.78,544.526 1267.51,543.863 1266.24,543.201 1265.6,542.87 1264.97,542.539 1263.7,541.877 \n",
       "  1262.43,541.215 1261.8,540.884 1261.16,540.553 1259.89,539.89 1258.63,539.228 1257.99,538.897 1257.36,538.566 1256.09,537.904 \n",
       "  1254.82,537.242 1254.19,536.911 1253.55,536.58 1252.28,535.917 1251.01,535.255 1250.38,534.924 1249.74,534.593 1248.48,533.931 \n",
       "  1247.21,533.269 1246.57,532.938 1245.94,532.607 1244.67,531.944 1243.4,531.282 1242.77,530.951 1242.13,530.62 1240.86,529.958 \n",
       "  1239.59,529.296 1238.96,528.965 1238.33,528.634 1237.06,527.972 1235.79,527.309 1235.15,526.978 1234.52,526.647 1233.25,525.985 \n",
       "  1231.98,525.323 1231.35,524.992 1230.71,524.661 1229.44,523.999 1228.18,523.336 1227.54,523.005 1226.91,522.674 1225.64,522.012 \n",
       "  1224.37,521.35 1223.73,521.019 1223.1,520.688 1221.83,520.026 1220.56,519.363 1219.93,519.032 1219.29,518.701 1218.03,518.039 \n",
       "  1216.76,517.377 1216.12,517.046 1215.49,516.715 1214.22,516.053 1212.95,515.391 1212.32,515.059 1211.68,514.728 1210.41,514.066 \n",
       "  1209.14,513.404 1208.51,513.073 1207.88,512.742 1206.61,512.08 1205.34,511.418 1204.7,511.086 1204.07,510.755 1202.8,510.093 \n",
       "  1201.53,509.431 1200.9,509.1 1200.26,508.769 1198.99,508.107 1197.73,507.445 1197.09,507.114 1196.46,506.782 1195.19,506.12 \n",
       "  1193.92,505.458 1193.28,505.127 1192.65,504.796 1191.38,504.134 1190.11,503.472 1189.48,503.141 1188.84,502.809 1187.58,502.147 \n",
       "  1186.31,501.485 1185.67,501.154 1185.04,500.823 1183.77,500.161 1182.5,499.499 1181.87,499.168 1181.23,498.837 1179.96,498.174 \n",
       "  1178.69,497.512 1178.06,497.181 1177.42,496.85 1176.16,496.188 1174.89,495.526 1174.25,495.195 1173.62,494.864 1172.35,494.201 \n",
       "  1171.08,493.539 1170.45,493.208 1169.81,492.877 1168.54,492.215 1167.27,491.553 1166.64,491.222 1166.01,490.891 1164.74,490.228 \n",
       "  1163.47,489.566 1162.83,489.235 1162.2,488.904 1160.93,488.242 1159.66,487.58 1159.03,487.249 1158.39,486.918 1157.12,486.256 \n",
       "  1155.86,485.593 1155.22,485.262 1154.59,484.931 1153.32,484.269 1152.05,483.607 1151.42,483.276 1150.78,482.945 1149.51,482.283 \n",
       "  1148.24,481.62 1147.61,481.289 1146.97,480.958 1145.71,480.296 1144.44,479.634 1143.8,479.303 1143.17,478.972 1141.9,478.31 \n",
       "  1140.63,477.647 1140,477.316 1139.36,476.985 1138.09,476.323 1136.82,475.661 1136.19,475.33 1135.56,474.999 1134.29,474.337 \n",
       "  1133.02,473.674 1132.38,473.343 1131.75,473.012 1130.48,472.35 1129.21,471.688 1128.58,471.357 1127.94,471.026 1126.67,470.364 \n",
       "  1125.41,469.702 1124.77,469.37 1124.14,469.039 1122.87,468.377 1121.6,467.715 1120.96,467.384 1120.33,467.053 1119.06,466.391 \n",
       "  1117.79,465.729 1117.16,465.398 1116.52,465.066 1115.26,464.404 1113.99,463.742 1113.35,463.411 1112.72,463.08 1111.45,462.418 \n",
       "  1110.18,461.756 1109.55,461.425 1108.91,461.093 1107.64,460.431 1106.37,459.769 1105.74,459.438 1105.11,459.107 1103.84,458.445 \n",
       "  1102.57,457.783 1101.93,457.452 1101.3,457.121 1100.03,456.458 1098.76,455.796 1098.13,455.465 1097.49,455.134 1096.22,454.472 \n",
       "  1094.96,453.81 1094.32,453.479 1093.69,453.148 1092.42,452.485 1091.15,451.823 1090.51,451.492 1089.88,451.161 1088.61,450.499 \n",
       "  1087.34,449.837 1086.71,449.506 1086.07,449.175 1084.81,448.512 1083.54,447.85 1082.9,447.519 1082.27,447.188 1081,446.526 \n",
       "  1079.73,445.864 1079.1,445.533 1078.46,445.202 1077.19,444.539 1075.92,443.877 1075.29,443.546 1074.66,443.215 1073.39,442.553 \n",
       "  1072.12,441.891 1071.48,441.56 1070.85,441.229 1069.58,440.567 1068.31,439.904 1067.68,439.573 1067.04,439.242 1065.77,438.58 \n",
       "  1064.5,437.918 1063.87,437.587 1063.24,437.256 1061.97,436.594 1060.7,435.931 1060.06,435.6 1059.43,435.269 1058.16,434.607 \n",
       "  1056.89,433.945 1056.26,433.614 1055.62,433.283 1054.35,432.621 1053.09,431.958 1052.45,431.627 1051.82,431.296 1050.55,430.634 \n",
       "  1049.28,429.972 1048.65,429.641 1048.01,429.31 1046.74,428.648 1045.47,427.986 1044.84,427.654 1044.2,427.323 1042.94,426.661 \n",
       "  1041.67,425.999 1041.03,425.668 1040.4,425.337 1039.13,424.675 1037.86,424.013 1037.23,423.681 1036.59,423.35 1035.32,422.688 \n",
       "  1034.05,422.026 1033.42,421.695 1032.79,421.364 1031.52,420.702 1030.25,420.04 1029.61,419.709 1028.98,419.377 1027.71,418.715 \n",
       "  1026.44,418.053 1025.81,417.722 1025.17,417.391 1023.9,416.729 1022.64,416.067 1022,415.736 1021.37,415.405 1020.1,414.742 \n",
       "  1018.83,414.08 1018.2,413.749 1017.56,413.418 1016.29,412.756 1015.02,412.094 1014.39,411.763 1013.75,411.432 1012.49,410.769 \n",
       "  1011.22,410.107 1010.58,409.776 1009.95,409.445 1008.68,408.783 1007.41,408.121 1006.78,407.79 1006.14,407.459 1004.87,406.796 \n",
       "  1003.6,406.134 1002.97,405.803 1002.34,405.472 1001.07,404.81 999.798,404.148 999.164,403.817 998.529,403.486 997.26,402.823 \n",
       "  995.992,402.161 995.357,401.83 994.723,401.499 993.454,400.837 992.185,400.175 991.551,399.844 990.917,399.513 989.648,398.851 \n",
       "  988.379,398.188 987.745,397.857 987.11,397.526 985.842,396.864 984.573,396.202 983.938,395.871 983.304,395.54 982.035,394.878 \n",
       "  980.767,394.215 980.132,393.884 979.498,393.553 978.229,392.891 976.96,392.229 976.326,391.898 975.691,391.567 974.423,390.905 \n",
       "  973.154,390.242 972.52,389.911 971.885,389.58 970.616,388.918 969.348,388.256 968.713,387.925 968.079,387.594 966.81,386.932 \n",
       "  965.541,386.27 964.907,385.938 964.273,385.607 963.004,384.945 961.735,384.283 961.101,383.952 960.466,383.621 959.198,382.959 \n",
       "  957.929,382.297 957.294,381.965 956.66,381.634 955.391,380.972 954.123,380.31 953.488,379.979 952.854,379.648 951.585,378.986 \n",
       "  950.316,378.324 949.682,377.993 949.047,377.661 947.779,376.999 946.51,376.337 945.876,376.006 945.241,375.675 943.972,375.013 \n",
       "  942.704,374.351 942.069,374.02 941.435,373.688 940.166,373.026 938.897,372.364 938.263,372.033 937.629,371.702 936.36,371.04 \n",
       "  935.091,370.378 934.457,370.047 933.822,369.716 932.554,369.053 931.285,368.391 930.65,368.06 930.016,367.729 928.747,367.067 \n",
       "  927.478,366.405 926.844,366.074 926.21,365.743 924.941,365.08 923.672,364.418 923.038,364.087 922.403,363.756 921.135,363.094 \n",
       "  919.866,362.432 919.232,362.101 918.597,361.77 917.328,361.107 916.06,360.445 915.425,360.114 914.791,359.783 913.522,359.121 \n",
       "  912.253,358.459 911.619,358.128 910.985,357.797 909.716,357.135 908.447,356.472 907.813,356.141 907.178,355.81 905.909,355.148 \n",
       "  904.641,354.486 904.006,354.155 903.372,353.824 902.103,353.162 900.834,352.499 900.2,352.168 899.566,351.837 898.297,351.175 \n",
       "  897.028,350.513 896.394,350.182 895.759,349.851 894.491,349.189 893.222,348.526 892.587,348.195 891.953,347.864 890.684,347.202 890.684,347.202 \n",
       "  889.416,346.54 888.781,346.209 888.147,345.878 886.878,345.216 885.609,344.553 884.975,344.222 884.341,343.891 883.072,343.229 \n",
       "  881.803,342.567 881.169,342.236 880.534,341.905 879.265,341.243 877.997,340.581 877.362,340.249 876.728,339.918 875.459,339.256 \n",
       "  874.19,338.594 873.556,338.263 872.922,337.932 871.653,337.27 870.384,336.608 869.75,336.276 869.115,335.945 867.847,335.283 \n",
       "  866.578,334.621 865.943,334.29 865.309,333.959 864.04,333.297 862.772,332.635 862.137,332.304 861.503,331.972 860.234,331.31 \n",
       "  858.965,330.648 858.331,330.317 857.696,329.986 856.428,329.324 855.159,328.662 854.525,328.331 853.89,328 852.621,327.337 852.621,327.337 \n",
       "  851.353,326.675 850.718,326.344 850.084,326.013 848.815,325.351 847.546,324.689 846.912,324.358 846.278,324.027 845.009,323.364 \n",
       "  843.74,322.702 843.106,322.371 842.471,322.04 841.203,321.378 839.934,320.716 839.299,320.385 838.665,320.054 837.396,319.391 \n",
       "  836.128,318.729 835.493,318.398 834.859,318.067 833.59,317.405 832.321,316.743 831.687,316.412 831.052,316.081 829.784,315.418 \n",
       "  828.515,314.756 827.881,314.425 827.246,314.094 825.977,313.432 825.977,313.432 824.709,312.77 824.074,312.439 823.44,312.108 822.171,311.446 \n",
       "  820.902,310.783 820.268,310.452 819.634,310.121 818.365,309.459 817.096,308.797 816.462,308.466 815.827,308.135 814.559,307.473 \n",
       "  813.29,306.81 812.655,306.479 812.021,306.148 810.752,305.486 810.752,305.486 809.483,304.824 808.849,304.493 808.215,304.162 806.946,303.5 \n",
       "  805.677,302.837 805.043,302.506 804.408,302.175 803.14,301.513 801.871,300.851 801.237,300.52 800.602,300.189 799.333,299.527 \n",
       "  798.065,298.865 797.43,298.533 796.796,298.202 795.527,297.54 794.258,296.878 793.624,296.547 792.99,296.216 791.721,295.554 \n",
       "  790.452,294.892 789.818,294.56 789.183,294.229 787.914,293.567 786.646,292.905 786.011,292.574 785.377,292.243 784.108,291.581 \n",
       "  782.839,290.919 782.205,290.588 781.571,290.256 780.302,289.594 779.033,288.932 778.399,288.601 777.764,288.27 776.496,287.608 \n",
       "  775.227,286.946 774.592,286.615 773.958,286.283 772.689,285.621 772.689,285.621 771.421,284.959 770.786,284.628 770.152,284.297 768.883,283.635 \n",
       "  767.614,282.973 766.98,282.642 766.346,282.311 765.077,281.648 763.808,280.986 763.174,280.655 762.539,280.324 761.27,279.662 \n",
       "  \n",
       "  \"/>\n",
       "<polyline clip-path=\"url(#clip9003)\" style=\"stroke:#ed6a23; stroke-width:12; stroke-opacity:1; fill:none\" points=\"\n",
       "  761.27,279.662 760.002,279 759.367,278.669 758.733,278.338 757.464,277.675 756.195,277.013 755.561,276.682 754.927,276.351 753.658,275.689 \n",
       "  753.658,275.689 752.389,275.027 751.755,274.696 751.12,274.365 749.852,273.702 748.583,273.04 747.948,272.709 747.314,272.378 746.045,271.716 \n",
       "  744.777,271.054 744.142,270.723 743.508,270.392 742.239,269.73 740.97,269.067 740.336,268.736 739.701,268.405 738.433,267.743 \n",
       "  737.164,267.081 736.53,266.75 735.895,266.419 734.626,265.757 734.626,265.757 733.358,265.094 732.723,264.763 732.089,264.432 730.82,263.77 \n",
       "  730.82,263.77 729.551,263.108 728.917,262.777 728.283,262.446 727.014,261.784 725.745,261.121 725.111,260.79 724.476,260.459 723.208,259.797 \n",
       "  721.939,259.135 721.304,258.804 720.67,258.473 719.401,257.811 718.132,257.148 717.498,256.817 716.864,256.486 715.595,255.824 \n",
       "  714.326,255.162 713.692,254.831 713.057,254.5 711.789,253.838 710.52,253.176 709.886,252.844 709.251,252.513 707.982,251.851 \n",
       "  706.714,251.189 706.079,250.858 705.445,250.527 704.176,249.865 704.176,249.865 702.907,249.203 702.273,248.872 701.639,248.54 700.37,247.878 \n",
       "  699.101,247.216 698.467,246.885 697.832,246.554 696.564,245.892 695.295,245.23 694.66,244.899 694.026,244.567 692.757,243.905 \n",
       "  691.488,243.243 690.854,242.912 690.22,242.581 688.951,241.919 688.951,241.919 687.682,241.257 687.048,240.926 686.413,240.595 685.145,239.932 \n",
       "  683.876,239.27 683.241,238.939 682.607,238.608 681.338,237.946 680.07,237.284 679.435,236.953 678.801,236.622 677.532,235.959 \n",
       "  676.263,235.297 675.629,234.966 674.995,234.635 673.726,233.973 672.457,233.311 671.823,232.98 671.188,232.649 669.919,231.986 \n",
       "  668.651,231.324 668.016,230.993 667.382,230.662 666.113,230 664.844,229.338 664.21,229.007 663.576,228.676 662.307,228.014 \n",
       "  662.307,228.014 661.038,227.351 660.404,227.02 659.769,226.689 658.501,226.027 658.501,226.027 657.232,225.365 656.597,225.034 655.963,224.703 654.694,224.041 \n",
       "  653.426,223.378 652.791,223.047 652.157,222.716 650.888,222.054 649.619,221.392 648.985,221.061 648.35,220.73 647.082,220.068 \n",
       "  645.813,219.405 645.179,219.074 644.544,218.743 643.275,218.081 642.007,217.419 641.372,217.088 640.738,216.757 639.469,216.095 \n",
       "  639.469,216.095 638.2,215.432 637.566,215.101 636.932,214.77 635.663,214.108 634.394,213.446 633.76,213.115 633.125,212.784 631.857,212.122 \n",
       "  630.588,211.46 629.953,211.128 629.319,210.797 628.05,210.135 626.782,209.473 626.147,209.142 625.513,208.811 624.244,208.149 \n",
       "  622.975,207.487 622.341,207.155 621.706,206.824 620.438,206.162 619.169,205.5 618.535,205.169 617.9,204.838 616.631,204.176 \n",
       "  615.363,203.514 614.728,203.183 614.094,202.851 612.825,202.189 611.556,201.527 610.922,201.196 610.288,200.865 609.019,200.203 \n",
       "  607.75,199.541 607.116,199.21 606.481,198.879 605.213,198.216 605.213,198.216 603.944,197.554 603.309,197.223 602.675,196.892 601.406,196.23 \n",
       "  600.137,195.568 599.503,195.237 598.869,194.906 597.6,194.243 596.331,193.581 595.697,193.25 595.062,192.919 593.794,192.257 \n",
       "  593.794,192.257 592.525,191.595 591.891,191.264 591.256,190.933 589.987,190.27 588.719,189.608 588.084,189.277 587.45,188.946 586.181,188.284 \n",
       "  584.912,187.622 584.278,187.291 583.644,186.96 582.375,186.297 581.106,185.635 580.472,185.304 579.837,184.973 578.568,184.311 \n",
       "  577.3,183.649 576.665,183.318 576.031,182.987 574.762,182.325 573.493,181.662 572.859,181.331 572.225,181 570.956,180.338 \n",
       "  569.687,179.676 569.053,179.345 568.418,179.014 567.15,178.352 565.881,177.689 565.246,177.358 564.612,177.027 563.343,176.365 \n",
       "  563.343,176.365 562.075,175.703 561.44,175.372 560.806,175.041 559.537,174.379 558.268,173.716 557.634,173.385 557,173.054 555.731,172.392 \n",
       "  555.731,172.392 554.462,171.73 553.828,171.399 553.193,171.068 551.924,170.406 550.656,169.744 550.021,169.412 549.387,169.081 548.118,168.419 \n",
       "  546.849,167.757 546.215,167.426 545.581,167.095 544.312,166.433 544.312,166.433 543.043,165.771 542.409,165.439 541.774,165.108 540.506,164.446 \n",
       "  540.506,164.446 539.237,163.784 538.602,163.453 537.968,163.122 536.699,162.46 535.431,161.798 534.796,161.467 534.162,161.135 532.893,160.473 \n",
       "  531.624,159.811 530.99,159.48 530.355,159.149 529.087,158.487 529.087,158.487 527.818,157.825 527.184,157.494 526.549,157.162 525.28,156.5 \n",
       "  524.012,155.838 523.377,155.507 522.743,155.176 521.474,154.514 520.205,153.852 519.571,153.521 518.937,153.19 517.668,152.527 \n",
       "  516.399,151.865 515.765,151.534 515.13,151.203 513.862,150.541 512.593,149.879 511.958,149.548 511.324,149.217 510.055,148.554 \n",
       "  508.786,147.892 508.152,147.561 507.518,147.23 506.249,146.568 504.98,145.906 504.346,145.575 503.711,145.244 502.443,144.581 \n",
       "  502.443,144.581 501.174,143.919 500.54,143.588 499.905,143.257 498.636,142.595 498.636,142.595 497.368,141.933 496.733,141.602 496.099,141.271 494.83,140.609 \n",
       "  493.561,139.946 492.927,139.615 492.293,139.284 491.024,138.622 489.755,137.96 489.121,137.629 488.486,137.298 487.218,136.636 \n",
       "  487.218,136.636 485.949,135.973 485.314,135.642 484.68,135.311 483.411,134.649 483.411,134.649 482.142,133.987 481.508,133.656 480.874,133.325 479.605,132.663 \n",
       "  479.605,132.663 478.336,132 477.702,131.669 477.067,131.338 475.799,130.676 474.53,130.014 473.895,129.683 473.261,129.352 471.992,128.69 \n",
       "  471.992,128.69 470.724,128.027 470.089,127.696 469.455,127.365 468.186,126.703 468.186,126.703 466.917,126.041 466.283,125.71 465.649,125.379 464.38,124.717 \n",
       "  463.111,124.055 462.477,123.723 461.842,123.392 460.573,122.73 460.573,122.73 459.305,122.068 458.67,121.737 458.036,121.406 456.767,120.744 \n",
       "  456.767,120.744 455.498,120.082 454.864,119.751 454.23,119.419 452.961,118.757 451.692,118.095 451.058,117.764 450.423,117.433 449.155,116.771 \n",
       "  449.155,116.771 447.886,116.109 447.251,115.778 446.617,115.446 445.348,114.784 445.348,114.784 444.08,114.122 443.445,113.791 442.811,113.46 441.542,112.798 \n",
       "  440.273,112.136 439.639,111.805 439.004,111.474 437.736,110.811 437.736,110.811 436.467,110.149 435.833,109.818 435.198,109.487 433.929,108.825 \n",
       "  433.929,108.825 432.661,108.163 432.026,107.832 431.392,107.501 430.123,106.838 430.123,106.838 428.854,106.176 428.22,105.845 427.586,105.514 426.317,104.852 \n",
       "  425.048,104.19 424.414,103.859 423.779,103.528 422.511,102.865 421.242,102.203 420.607,101.872 419.973,101.541 418.704,100.879 \n",
       "  418.704,100.879 417.436,100.217 416.801,99.8857 416.167,99.5547 414.898,98.8925 414.898,98.8925 413.629,98.2303 412.995,97.8993 412.36,97.5682 411.092,96.906 \n",
       "  409.823,96.2439 409.189,95.9128 408.554,95.5817 407.285,94.9195 407.285,94.9195 406.017,94.2574 405.382,93.9263 404.748,93.5952 403.479,92.9331 \n",
       "  403.479,92.9331 402.21,92.2709 401.576,91.9398 400.942,91.6087 399.673,90.9466 398.404,90.2844 397.77,89.9534 397.135,89.6223 395.867,88.9601 \n",
       "  394.598,88.298 393.963,87.9669 393.329,87.6358 392.06,86.9736 390.791,86.3115 390.157,85.9804 389.523,85.6493 388.254,84.9872 \n",
       "  386.985,84.325 386.351,83.9939 385.716,83.6628 384.448,83.0007 384.448,83.0007 383.179,82.3385 382.545,82.0074 381.91,81.6764 380.641,81.0142 \n",
       "  379.373,80.352 378.738,80.021 378.104,79.6899 376.835,79.0277 375.566,78.3656 374.932,78.0345 374.298,77.7034 373.029,77.0412 \n",
       "  373.029,77.0412 371.76,76.3791 371.126,76.048 370.491,75.7169 369.222,75.0548 367.954,74.3926 367.319,74.0615 366.685,73.7305 365.416,73.0683 \n",
       "  364.147,72.4061 363.513,72.0751 362.879,71.744 361.61,71.0818 360.341,70.4197 359.707,70.0886 359.072,69.7575 357.804,69.0953 \n",
       "  356.535,68.4332 355.9,68.1021 355.266,67.771 353.997,67.1089 353.997,67.1089 352.729,66.4467 352.094,66.1156 351.46,65.7845 350.191,65.1224 \n",
       "  348.922,64.4602 348.288,64.1291 347.654,63.7981 346.385,63.1359 345.116,62.4738 344.482,62.1427 343.847,61.8116 342.578,61.1494 \n",
       "  342.578,61.1494 341.31,60.4873 340.675,60.1562 340.041,59.8251 338.772,59.163 337.503,58.5008 336.869,58.1697 336.235,57.8386 334.966,57.1765 \n",
       "  334.966,57.1765 333.697,56.5143 333.063,56.1832 332.428,55.8522 331.16,55.19 329.891,54.5278 329.256,54.1968 328.622,53.8657 327.353,53.2035 \n",
       "  326.085,52.5414 325.45,52.2103 324.816,51.8792 323.547,51.217 323.547,51.217 322.278,50.5549 321.644,50.2238 321.009,49.8927 319.741,49.2306 \n",
       "  319.741,49.2306 318.472,48.5684 317.838,48.2373 317.203,47.9063 315.934,47.2441 \n",
       "  \"/>\n",
       "<polyline clip-path=\"url(#clip9003)\" style=\"stroke:#ed6a23; stroke-width:4; stroke-opacity:1; fill:none\" points=\"\n",
       "  548.541,1040.48 549.387,1039.99 550.233,1039.49 550.656,1039.24 551.924,1038.5 553.193,1037.75 553.616,1037.5 554.462,1037.01 555.308,1036.51 \n",
       "  555.731,1036.26 557,1035.52 558.268,1034.77 558.691,1034.52 559.537,1034.03 560.383,1033.53 560.806,1033.28 562.075,1032.54 \n",
       "  563.343,1031.79 563.766,1031.54 564.612,1031.05 565.458,1030.55 565.881,1030.3 567.15,1029.56 568.418,1028.81 568.841,1028.56 569.687,1028.07 \n",
       "  570.533,1027.57 570.956,1027.32 572.225,1026.58 573.493,1025.83 573.916,1025.58 574.762,1025.09 575.608,1024.59 576.031,1024.34 577.3,1023.6 \n",
       "  578.568,1022.85 578.991,1022.6 579.837,1022.11 580.683,1021.61 581.106,1021.36 582.375,1020.62 583.644,1019.87 584.066,1019.62 \n",
       "  584.912,1019.13 585.758,1018.63 586.181,1018.38 587.45,1017.64 587.45,1017.64 588.719,1016.89 589.142,1016.64 589.987,1016.15 590.833,1015.65 591.256,1015.4 \n",
       "  592.525,1014.66 593.794,1013.91 594.217,1013.67 595.062,1013.17 595.908,1012.67 596.331,1012.42 597.6,1011.68 598.869,1010.93 \n",
       "  599.292,1010.69 600.137,1010.19 600.983,1009.69 601.406,1009.44 602.675,1008.7 602.675,1008.7 603.944,1007.95 604.367,1007.71 605.213,1007.21 606.058,1006.71 \n",
       "  606.481,1006.46 607.75,1005.72 609.019,1004.97 609.442,1004.73 610.288,1004.23 611.133,1003.73 611.556,1003.48 612.825,1002.74 \n",
       "  614.094,1001.99 614.517,1001.75 615.363,1001.25 616.208,1000.75 616.631,1000.5 617.9,999.76 619.169,999.015 619.592,998.767 620.438,998.27 \n",
       "  621.284,997.773 621.706,997.525 622.975,996.78 624.244,996.035 624.667,995.787 625.513,995.29 626.359,994.794 626.782,994.545 628.05,993.8 \n",
       "  629.319,993.055 629.742,992.807 630.588,992.311 631.434,991.814 631.857,991.566 633.125,990.821 634.394,990.076 634.817,989.827 \n",
       "  635.663,989.331 636.509,988.834 636.932,988.586 638.2,987.841 639.469,987.096 639.892,986.848 640.738,986.351 641.584,985.854 642.007,985.606 \n",
       "  643.275,984.861 644.544,984.116 644.967,983.868 645.813,983.371 646.659,982.875 647.082,982.626 648.35,981.882 649.619,981.137 \n",
       "  650.042,980.888 650.888,980.392 651.734,979.895 652.157,979.647 653.426,978.902 654.694,978.157 655.117,977.909 655.963,977.412 656.809,976.915 \n",
       "  657.232,976.667 658.501,975.922 658.501,975.922 659.769,975.177 660.192,974.929 661.038,974.432 661.884,973.936 662.307,973.687 663.576,972.942 \n",
       "  664.844,972.197 665.267,971.949 666.113,971.453 666.959,970.956 667.382,970.708 668.651,969.963 669.919,969.218 670.342,968.969 671.188,968.473 \n",
       "  672.034,967.976 672.457,967.728 673.726,966.983 674.995,966.238 675.417,965.99 676.263,965.493 677.109,964.996 677.532,964.748 678.801,964.003 \n",
       "  680.07,963.258 680.493,963.01 681.338,962.513 682.184,962.017 682.607,961.768 683.876,961.024 685.145,960.279 685.568,960.03 \n",
       "  686.413,959.534 687.259,959.037 687.682,958.789 688.951,958.044 690.22,957.299 690.643,957.051 691.488,956.554 692.334,956.057 692.757,955.809 \n",
       "  694.026,955.064 694.026,955.064 695.295,954.319 695.718,954.071 696.564,953.574 697.409,953.078 697.832,952.829 699.101,952.084 699.101,952.084 700.37,951.339 \n",
       "  700.793,951.091 701.639,950.595 702.484,950.098 702.907,949.85 704.176,949.105 705.445,948.36 705.868,948.111 706.714,947.615 707.559,947.118 \n",
       "  707.982,946.87 709.251,946.125 710.52,945.38 710.943,945.132 711.789,944.635 712.635,944.138 713.057,943.89 714.326,943.145 \n",
       "  715.595,942.4 716.018,942.152 716.864,941.655 717.71,941.159 718.132,940.91 719.401,940.166 720.67,939.421 721.093,939.172 721.939,938.676 \n",
       "  722.785,938.179 723.208,937.931 724.476,937.186 725.745,936.441 726.168,936.193 727.014,935.696 727.86,935.199 728.283,934.951 729.551,934.206 \n",
       "  730.82,933.461 731.243,933.213 732.089,932.716 732.935,932.22 733.358,931.971 734.626,931.226 735.895,930.481 736.318,930.233 \n",
       "  737.164,929.737 738.01,929.24 738.433,928.992 739.701,928.247 740.97,927.502 741.393,927.253 742.239,926.757 743.085,926.26 743.508,926.012 \n",
       "  744.777,925.267 746.045,924.522 746.468,924.274 747.314,923.777 748.16,923.28 748.583,923.032 749.852,922.287 751.12,921.542 \n",
       "  751.543,921.294 752.389,920.797 753.235,920.301 753.658,920.052 754.927,919.308 756.195,918.563 756.618,918.314 757.464,917.818 758.31,917.321 \n",
       "  758.733,917.073 760.002,916.328 761.27,915.583 761.693,915.335 762.539,914.838 763.385,914.341 763.808,914.093 765.077,913.348 \n",
       "  766.346,912.603 766.768,912.355 767.614,911.858 768.46,911.362 768.883,911.113 770.152,910.368 771.421,909.623 771.843,909.375 772.689,908.878 \n",
       "  773.535,908.382 773.958,908.134 775.227,907.389 776.496,906.644 776.919,906.395 777.764,905.899 778.61,905.402 779.033,905.154 780.302,904.409 \n",
       "  781.571,903.664 781.994,903.416 782.839,902.919 783.685,902.422 784.108,902.174 785.377,901.429 786.646,900.684 787.069,900.436 \n",
       "  787.914,899.939 788.76,899.443 789.183,899.194 790.452,898.449 791.721,897.705 792.144,897.456 792.99,896.96 793.835,896.463 794.258,896.215 \n",
       "  795.527,895.47 796.796,894.725 797.219,894.477 798.065,893.98 798.91,893.483 799.333,893.235 800.602,892.49 801.871,891.745 \n",
       "  802.294,891.497 803.14,891 803.985,890.504 804.408,890.255 805.677,889.51 806.946,888.765 807.369,888.517 808.215,888.02 809.061,887.524 \n",
       "  809.483,887.276 810.752,886.531 812.021,885.786 812.444,885.537 813.29,885.041 814.136,884.544 814.559,884.296 815.827,883.551 \n",
       "  817.096,882.806 817.519,882.558 818.365,882.061 819.211,881.564 819.634,881.316 820.902,880.571 822.171,879.826 822.594,879.578 823.44,879.081 \n",
       "  824.286,878.585 824.709,878.336 825.977,877.591 827.246,876.847 827.669,876.598 828.515,876.102 829.361,875.605 829.784,875.357 831.052,874.612 \n",
       "  832.321,873.867 832.744,873.619 833.59,873.122 834.436,872.625 834.859,872.377 836.128,871.632 837.396,870.887 837.819,870.639 \n",
       "  838.665,870.142 839.511,869.646 839.934,869.397 841.203,868.652 842.471,867.907 842.894,867.659 843.74,867.162 844.586,866.666 845.009,866.418 \n",
       "  846.278,865.673 847.546,864.928 847.969,864.679 848.815,864.183 849.661,863.686 850.084,863.438 851.353,862.693 852.621,861.948 \n",
       "  853.044,861.7 853.89,861.203 854.736,860.706 855.159,860.458 856.428,859.713 857.696,858.968 858.119,858.72 858.965,858.223 859.811,857.727 \n",
       "  860.234,857.478 861.503,856.733 862.772,855.989 863.194,855.74 864.04,855.244 864.886,854.747 865.309,854.499 866.578,853.754 \n",
       "  867.847,853.009 868.27,852.761 869.115,852.264 869.961,851.767 870.384,851.519 871.653,850.774 872.922,850.029 873.345,849.781 874.19,849.284 \n",
       "  875.036,848.788 875.459,848.539 876.728,847.794 877.997,847.049 878.42,846.801 879.265,846.304 880.111,845.808 880.534,845.56 881.803,844.815 \n",
       "  883.072,844.07 883.495,843.821 884.341,843.325 885.186,842.828 885.609,842.58 886.878,841.835 888.147,841.09 888.57,840.842 \n",
       "  889.416,840.345 890.261,839.848 890.684,839.6 891.953,838.855 893.222,838.11 893.645,837.862 894.491,837.365 895.336,836.869 895.759,836.62 \n",
       "  897.028,835.875 898.297,835.131 898.72,834.882 899.566,834.386 900.412,833.889 900.834,833.641 902.103,832.896 903.372,832.151 \n",
       "  903.795,831.903 904.641,831.406 905.487,830.909 905.909,830.661 907.178,829.916 908.447,829.171 908.87,828.923 909.716,828.426 910.562,827.93 \n",
       "  910.985,827.681 912.253,826.936 913.522,826.191 913.945,825.943 914.791,825.446 915.637,824.95 916.06,824.702 917.328,823.957 \n",
       "  918.597,823.212 919.02,822.963 919.866,822.467 920.712,821.97 921.135,821.722 922.403,820.977 923.672,820.232 924.095,819.984 924.941,819.487 \n",
       "  925.787,818.99 926.21,818.742 927.478,817.997 928.747,817.252 929.17,817.004 930.016,816.507 930.862,816.011 931.285,815.762 932.554,815.017 \n",
       "  933.822,814.273 934.245,814.024 935.091,813.528 935.937,813.031 936.36,812.783 937.629,812.038 938.897,811.293 939.32,811.045 \n",
       "  940.166,810.548 941.012,810.051 941.435,809.803 942.704,809.058 943.972,808.313 944.395,808.065 945.241,807.568 946.087,807.072 946.51,806.823 \n",
       "  947.779,806.078 949.047,805.333 949.47,805.085 950.316,804.588 951.162,804.092 951.585,803.844 952.854,803.099 954.123,802.354 \n",
       "  954.545,802.105 955.391,801.609 956.237,801.112 956.66,800.864 957.929,800.119 959.198,799.374 959.62,799.126 960.466,798.629 961.312,798.132 \n",
       "  961.735,797.884 963.004,797.139 964.273,796.394 964.696,796.146 965.541,795.649 966.387,795.153 966.81,794.904 968.079,794.159 \n",
       "  969.348,793.415 969.771,793.166 970.616,792.67 971.462,792.173 971.885,791.925 973.154,791.18 974.423,790.435 974.846,790.186 975.691,789.69 \n",
       "  976.537,789.193 976.96,788.945 978.229,788.2 979.498,787.455 979.921,787.207 980.767,786.71 981.612,786.214 982.035,785.965 983.304,785.22 \n",
       "  984.573,784.475 984.996,784.227 985.842,783.73 986.687,783.234 987.11,782.986 988.379,782.241 989.648,781.496 990.071,781.247 \n",
       "  990.917,780.751 991.763,780.254 992.185,780.006 993.454,779.261 994.723,778.516 995.146,778.268 995.992,777.771 996.838,777.274 997.26,777.026 \n",
       "  998.529,776.281 999.798,775.536 1000.22,775.288 1001.07,774.791 1001.91,774.295 1002.34,774.046 1003.6,773.301 1004.87,772.557 \n",
       "  1005.3,772.308 1006.14,771.812 1006.99,771.315 1007.41,771.067 1008.68,770.322 1009.95,769.577 1010.37,769.328 1011.22,768.832 1012.06,768.335 \n",
       "  1012.49,768.087 1013.75,767.342 1015.02,766.597 1015.45,766.349 1016.29,765.852 1017.14,765.356 1017.56,765.107 1018.83,764.362 \n",
       "  1020.1,763.617 1020.52,763.369 1021.37,762.872 1022.21,762.376 1022.64,762.128 1023.9,761.383 1025.17,760.638 1025.6,760.389 1026.44,759.893 \n",
       "  1027.29,759.396 1027.71,759.148 1028.98,758.403 1030.25,757.658 1030.67,757.41 1031.52,756.913 1032.36,756.416 1032.79,756.168 1034.05,755.423 \n",
       "  1035.32,754.678 1035.75,754.43 1036.59,753.933 1037.44,753.437 1037.86,753.188 1039.13,752.443 1040.4,751.699 1040.82,751.45 \n",
       "  1041.67,750.954 1042.51,750.457 1042.94,750.209 1044.2,749.464 1045.47,748.719 1045.9,748.47 1046.74,747.974 1047.59,747.477 1048.01,747.229 \n",
       "  1049.28,746.484 1050.55,745.739 1050.97,745.491 1051.82,744.994 1052.66,744.498 1053.09,744.249 1054.35,743.504 1055.62,742.759 \n",
       "  1056.05,742.511 1056.89,742.014 1057.74,741.518 1058.16,741.27 1059.43,740.525 1060.7,739.78 1061.12,739.531 1061.97,739.035 1062.81,738.538 \n",
       "  1063.24,738.29 1064.5,737.545 1065.77,736.8 1066.2,736.552 1067.04,736.055 1067.89,735.558 1068.31,735.31 1069.58,734.565 \n",
       "  1070.85,733.82 1071.27,733.572 1072.12,733.075 1072.96,732.579 1073.39,732.33 1074.66,731.585 1075.92,730.84 1076.35,730.592 1077.19,730.096 \n",
       "  1078.04,729.599 1078.46,729.351 1079.73,728.606 1081,727.861 1081.42,727.612 1082.27,727.116 1083.11,726.619 1083.54,726.371 1084.81,725.626 \n",
       "  1086.07,724.881 1086.5,724.633 1087.34,724.136 1088.19,723.64 1088.61,723.391 1089.88,722.646 1091.15,721.901 1091.57,721.653 \n",
       "  1092.42,721.156 1093.26,720.66 1093.69,720.411 1094.96,719.667 1096.22,718.922 1096.65,718.673 1097.49,718.177 1098.34,717.68 1098.76,717.432 \n",
       "  1100.03,716.687 1101.3,715.942 1101.72,715.694 1102.57,715.197 1103.41,714.7 1103.84,714.452 1105.11,713.707 1106.37,712.962 \n",
       "  1106.8,712.714 1107.64,712.217 1108.49,711.721 1108.91,711.472 1110.18,710.727 1111.45,709.982 1111.87,709.734 1112.72,709.238 1113.56,708.741 \n",
       "  1113.99,708.493 1115.26,707.748 1116.52,707.003 1116.95,706.754 1117.79,706.258 1118.64,705.761 1119.06,705.513 1120.33,704.768 \n",
       "  1121.6,704.023 1122.02,703.775 1122.87,703.278 1123.71,702.782 1124.14,702.533 1125.41,701.788 1126.67,701.043 1127.1,700.795 1127.94,700.298 \n",
       "  1128.79,699.802 1129.21,699.553 1130.48,698.809 1131.75,698.064 1132.17,697.815 1133.02,697.319 1133.86,696.822 1134.29,696.574 1135.56,695.829 \n",
       "  1136.82,695.084 1137.25,694.836 1138.09,694.339 1138.94,693.842 1139.36,693.594 1140.63,692.849 1141.9,692.104 1142.32,691.856 \n",
       "  1143.17,691.359 1144.01,690.863 1144.44,690.614 1145.71,689.869 1146.97,689.124 1147.4,688.876 1148.24,688.38 1149.09,687.883 1149.51,687.635 \n",
       "  1150.78,686.89 1152.05,686.145 1152.47,685.896 1153.32,685.4 1154.16,684.903 1154.59,684.655 1155.86,683.91 1157.12,683.165 \n",
       "  1157.55,682.917 1158.39,682.42 1159.24,681.923 1159.66,681.675 1160.93,680.93 1162.2,680.185 1162.62,679.937 1163.47,679.44 1164.31,678.944 \n",
       "  1164.74,678.695 1166.01,677.951 1167.27,677.206 1167.7,676.957 1168.54,676.461 1169.39,675.964 1169.81,675.716 1171.08,674.971 \n",
       "  1172.35,674.226 1172.77,673.978 1173.62,673.481 1174.46,672.984 1174.89,672.736 1176.16,671.991 1177.42,671.246 1177.85,670.998 1178.69,670.501 \n",
       "  1179.54,670.005 1179.96,669.756 1181.23,669.011 1182.5,668.266 1182.92,668.018 1183.77,667.522 1184.61,667.025 1185.04,666.777 1186.31,666.032 \n",
       "  1187.58,665.287 1188,665.038 1188.84,664.542 1189.69,664.045 1190.11,663.797 1191.38,663.052 1192.65,662.307 1193.07,662.059 \n",
       "  1193.92,661.562 1194.76,661.065 1195.19,660.817 1196.46,660.072 1197.73,659.327 1198.15,659.079 1198.99,658.582 1199.84,658.086 1200.26,657.837 \n",
       "  1201.53,657.093 1202.8,656.348 1203.22,656.099 1204.07,655.603 1204.91,655.106 1205.34,654.858 1206.61,654.113 1207.88,653.368 \n",
       "  1208.3,653.12 1209.14,652.623 1209.99,652.126 1210.41,651.878 1211.68,651.133 1212.95,650.388 1213.37,650.14 1214.22,649.643 1215.06,649.147 \n",
       "  1215.49,648.898 1216.76,648.153 1218.03,647.408 1218.45,647.16 1219.29,646.664 1220.14,646.167 1220.56,645.919 1221.83,645.174 \n",
       "  1223.1,644.429 1223.52,644.18 1224.37,643.684 1225.22,643.187 1225.64,642.939 1226.91,642.194 1228.18,641.449 1228.6,641.201 1229.44,640.704 \n",
       "  1230.29,640.207 1230.71,639.959 1231.98,639.214 1233.25,638.469 1233.67,638.221 1234.52,637.724 1235.37,637.228 1235.79,636.979 1237.06,636.235 \n",
       "  1238.33,635.49 1238.75,635.241 1239.59,634.745 1240.44,634.248 1240.86,634 1242.13,633.255 1242.13,633.255 1243.4,632.51 1243.82,632.262 \n",
       "  1244.67,631.765 1245.52,631.268 1245.94,631.02 1247.21,630.275 1248.48,629.53 1248.9,629.282 1249.74,628.785 1250.59,628.289 1251.01,628.04 \n",
       "  1252.28,627.295 1253.55,626.55 1253.97,626.302 1254.82,625.806 1255.67,625.309 1256.09,625.061 1257.36,624.316 1258.63,623.571 \n",
       "  1259.05,623.322 1259.89,622.826 1260.74,622.329 1261.16,622.081 1262.43,621.336 1263.7,620.591 1264.12,620.343 1264.97,619.846 1265.82,619.349 \n",
       "  1266.24,619.101 1267.51,618.356 1268.78,617.611 1269.2,617.363 1270.04,616.866 1270.89,616.37 1271.31,616.121 1272.58,615.377 \n",
       "  \n",
       "  \"/>\n",
       "<polyline clip-path=\"url(#clip9003)\" style=\"stroke:#ed6a23; stroke-width:4; stroke-opacity:1; fill:none\" points=\"\n",
       "  1272.58,615.377 1273.85,614.632 1274.27,614.383 1275.12,613.887 1275.97,613.39 1276.39,613.142 1277.66,612.397 1278.93,611.652 1279.35,611.404 \n",
       "  1280.19,610.907 1281.04,610.41 1281.46,610.162 1282.73,609.417 1284,608.672 1284.42,608.424 1285.27,607.927 1286.12,607.431 1286.54,607.182 \n",
       "  1287.81,606.437 1289.08,605.692 1289.5,605.444 1290.34,604.948 1291.19,604.451 1291.61,604.203 1292.88,603.458 1292.88,603.458 1294.15,602.713 \n",
       "  1294.57,602.464 1295.42,601.968 1296.27,601.471 1296.69,601.223 1297.96,600.478 1299.23,599.733 1299.65,599.485 1300.49,598.988 1301.34,598.491 \n",
       "  1301.76,598.243 1303.03,597.498 1304.3,596.753 1304.72,596.505 1305.57,596.008 1306.42,595.512 1306.84,595.263 1308.11,594.519 \n",
       "  1309.38,593.774 1309.8,593.525 1310.65,593.029 1311.49,592.532 1311.91,592.284 1313.18,591.539 1314.45,590.794 1314.87,590.546 1315.72,590.049 \n",
       "  1316.57,589.552 1316.99,589.304 1318.26,588.559 1319.53,587.814 1319.95,587.566 1320.8,587.069 1321.64,586.573 1322.06,586.324 1323.33,585.579 \n",
       "  1324.6,584.834 1325.02,584.586 1325.87,584.09 1326.72,583.593 1327.14,583.345 1328.41,582.6 1329.68,581.855 1330.1,581.606 \n",
       "  1330.95,581.11 1331.79,580.613 1332.21,580.365 1333.48,579.62 1334.75,578.875 1335.17,578.627 1336.02,578.13 1336.87,577.633 1337.29,577.385 \n",
       "  1338.56,576.64 1339.83,575.895 1340.25,575.647 1341.1,575.15 1341.94,574.654 1342.36,574.405 1343.63,573.661 1344.9,572.916 \n",
       "  1345.32,572.667 1346.17,572.171 1347.02,571.674 1347.44,571.426 1348.71,570.681 1349.98,569.936 1350.4,569.688 1351.25,569.191 1352.09,568.694 \n",
       "  1352.51,568.446 1353.78,567.701 1355.05,566.956 1355.47,566.708 1356.32,566.211 1357.17,565.715 1357.59,565.466 1358.86,564.721 \n",
       "  1360.13,563.976 1360.55,563.728 1361.4,563.231 1362.24,562.735 1362.66,562.487 1363.93,561.742 1365.2,560.997 1365.62,560.748 1366.47,560.252 \n",
       "  1367.32,559.755 1367.74,559.507 1369.01,558.762 1369.01,558.762 1370.28,558.017 1370.7,557.769 1371.55,557.272 1372.39,556.775 1372.81,556.527 1374.08,555.782 \n",
       "  1375.35,555.037 1375.77,554.789 1376.62,554.292 1377.47,553.796 1377.89,553.547 1379.16,552.802 1380.43,552.058 1380.85,551.809 \n",
       "  1381.7,551.313 1382.54,550.816 1382.96,550.568 1384.23,549.823 1385.5,549.078 1385.93,548.83 1386.77,548.333 1387.62,547.836 1388.04,547.588 \n",
       "  1389.31,546.843 1389.31,546.843 1390.58,546.098 1391,545.85 1391.85,545.353 1392.69,544.857 1393.11,544.608 1394.38,543.863 1395.65,543.118 \n",
       "  1396.08,542.87 1396.92,542.373 1397.77,541.877 1398.19,541.629 1399.46,540.884 1400.73,540.139 1401.15,539.89 1402,539.394 1402.84,538.897 \n",
       "  1403.26,538.649 1404.53,537.904 1405.8,537.159 1406.23,536.911 1407.07,536.414 1407.92,535.917 1408.34,535.669 1409.61,534.924 \n",
       "  1410.88,534.179 1411.3,533.931 1412.15,533.434 1412.99,532.938 1413.41,532.689 1414.68,531.944 1415.95,531.2 1416.38,530.951 1417.22,530.455 \n",
       "  1418.07,529.958 1418.49,529.71 1419.76,528.965 1419.76,528.965 1421.03,528.22 1421.45,527.972 1422.3,527.475 1423.14,526.978 1423.57,526.73 1424.83,525.985 \n",
       "  1426.1,525.24 1426.53,524.992 1427.37,524.495 1428.22,523.999 1428.64,523.75 1429.91,523.005 1431.18,522.26 1431.6,522.012 \n",
       "  1432.45,521.515 1433.29,521.019 1433.72,520.771 1434.98,520.026 1436.25,519.281 1436.68,519.032 1437.52,518.536 1438.37,518.039 1438.79,517.791 \n",
       "  1440.06,517.046 1440.06,517.046 1441.33,516.301 1441.75,516.053 1442.6,515.556 1443.44,515.059 1443.87,514.811 1445.13,514.066 1445.13,514.066 1446.4,513.321 \n",
       "  1446.83,513.073 1447.67,512.576 1448.52,512.08 1448.94,511.831 1450.21,511.086 1451.48,510.342 1451.9,510.093 1452.75,509.597 1453.59,509.1 \n",
       "  1454.02,508.852 1455.28,508.107 1455.28,508.107 1456.55,507.362 1456.98,507.114 1457.82,506.617 1458.67,506.12 1459.09,505.872 1460.36,505.127 1460.36,505.127 \n",
       "  1461.63,504.382 1462.05,504.134 1462.9,503.637 1463.74,503.141 1464.17,502.892 1465.43,502.147 1466.7,501.402 1467.13,501.154 1467.97,500.657 \n",
       "  1468.82,500.161 1469.24,499.913 1470.51,499.168 1471.78,498.423 1472.2,498.174 1473.05,497.678 1473.89,497.181 1474.32,496.933 1475.58,496.188 \n",
       "  1475.58,496.188 1476.85,495.443 1477.28,495.195 1478.12,494.698 1478.97,494.201 1479.39,493.953 1480.66,493.208 1481.93,492.463 1482.35,492.215 \n",
       "  1483.2,491.718 1484.04,491.222 1484.47,490.973 1485.73,490.228 1487,489.484 1487.43,489.235 1488.27,488.739 1489.12,488.242 1489.54,487.994 \n",
       "  1490.81,487.249 1492.08,486.504 1492.5,486.256 1493.35,485.759 1494.19,485.262 1494.62,485.014 1495.88,484.269 1495.88,484.269 1497.15,483.524 \n",
       "  1497.58,483.276 1498.42,482.779 1499.27,482.283 1499.69,482.034 1500.96,481.289 1502.23,480.544 1502.65,480.296 1503.5,479.799 1504.34,479.303 \n",
       "  1504.77,479.055 1506.03,478.31 1507.3,477.565 1507.73,477.316 1508.57,476.82 1509.42,476.323 1509.84,476.075 1511.11,475.33 \n",
       "  1512.38,474.585 1512.8,474.337 1513.65,473.84 1514.49,473.343 1514.92,473.095 1516.18,472.35 1517.45,471.605 1517.88,471.357 1518.72,470.86 \n",
       "  1519.57,470.364 1519.99,470.115 1521.26,469.37 \n",
       "  \"/>\n",
       "</svg>\n"
      ]
     },
     "execution_count": 211,
     "metadata": {},
     "output_type": "execute_result"
    }
   ],
   "source": [
    "contour(-5:0.01:5, -5:0.01:5, f3, levels = [0], line = 3)\n",
    "contour!(-5:0.01:5, -5:0.01:5, f4, levels = [0], xlabel = \"x\", ylabel = \"y\", size = (400, 300))"
   ]
  },
  {
   "cell_type": "markdown",
   "metadata": {},
   "source": [
    "De acordo com o gráfico, o ponto solução do sistema de equações é aproximadamente $(3.5, -0.5)$"
   ]
  },
  {
   "cell_type": "markdown",
   "metadata": {},
   "source": [
    "#### SOLUÇÃO SIMBÓLICA"
   ]
  },
  {
   "cell_type": "markdown",
   "metadata": {},
   "source": [
    "**SymPy.jl**\n",
    "\n",
    "A função `solve()` resolve sistemas de equações algébricas lineares e retorna um dicionário contendo as soluções do sistema do tipo `Sym`.\n",
    "\n",
    ". Sintaxe:\n",
    "```julia\n",
    "solve([equação_1 , ..., equação_n] , [var_1,...,var_n])\n",
    "```\n",
    "Sendo:\n",
    "* **`equação_1 , ..., equação_n`**: equações algébricas expressas como expressões simbólicas ou funções genéricas. Não funciona com funções anônimas.\n",
    "* **`var_1, ..., var_n`**: variáveis das equações algébricas.\n",
    "\n",
    "A função `solve()` retorna um vetor de dados simbólicos do tipo `SymPy.Sym`."
   ]
  },
  {
   "cell_type": "code",
   "execution_count": 212,
   "metadata": {
    "collapsed": false,
    "scrolled": true
   },
   "outputs": [
    {
     "data": {
      "text/plain": [
       "(x, y)"
      ]
     },
     "execution_count": 212,
     "metadata": {},
     "output_type": "execute_result"
    }
   ],
   "source": [
    "using SymPy\n",
    "@syms x y"
   ]
  },
  {
   "cell_type": "code",
   "execution_count": 213,
   "metadata": {
    "collapsed": false,
    "scrolled": false
   },
   "outputs": [
    {
     "data": {
      "text/latex": [
       "\\begin{equation*}\\begin{cases}x & \\text{=>} &\\frac{60}{17}\\\\y & \\text{=>} &- \\frac{6}{17}\\\\\\end{cases}\\end{equation*}"
      ],
      "text/plain": [
       "Dict{Sym,Sym} with 2 entries:\n",
       "  x => 60/17\n",
       "  y => -6/17"
      ]
     },
     "execution_count": 213,
     "metadata": {},
     "output_type": "execute_result"
    }
   ],
   "source": [
    "sol_sis = solve([f3(x,y) , f4(x,y) ], [x , y])"
   ]
  },
  {
   "cell_type": "code",
   "execution_count": 214,
   "metadata": {
    "collapsed": false
   },
   "outputs": [
    {
     "data": {
      "text/plain": [
       "Dict{Sym,Sym}"
      ]
     },
     "execution_count": 214,
     "metadata": {},
     "output_type": "execute_result"
    }
   ],
   "source": [
    "typeof(sol_sis)"
   ]
  },
  {
   "cell_type": "markdown",
   "metadata": {},
   "source": [
    "A função `solve()` retorna o resultado do tipo `Dict{SymPy.Sym,SymPy.Sym}`. É interessante converter o resultado para `Float`."
   ]
  },
  {
   "cell_type": "code",
   "execution_count": 215,
   "metadata": {
    "collapsed": false,
    "scrolled": false
   },
   "outputs": [
    {
     "data": {
      "text/plain": [
       "(3.5294117647058822, -0.35294117647058826)"
      ]
     },
     "execution_count": 215,
     "metadata": {},
     "output_type": "execute_result"
    }
   ],
   "source": [
    "xs , ys = float(sol_sis[x]), float(sol_sis[y])"
   ]
  },
  {
   "cell_type": "markdown",
   "metadata": {},
   "source": [
    "Gráfico com os resultados:"
   ]
  },
  {
   "cell_type": "code",
   "execution_count": 216,
   "metadata": {
    "collapsed": false
   },
   "outputs": [
    {
     "data": {
      "image/svg+xml": [
       "<?xml version=\"1.0\" encoding=\"utf-8\"?>\n",
       "<svg xmlns=\"http://www.w3.org/2000/svg\" xmlns:xlink=\"http://www.w3.org/1999/xlink\" width=\"400\" height=\"300\" viewBox=\"0 0 1600 1200\">\n",
       "<defs>\n",
       "  <clipPath id=\"clip9200\">\n",
       "    <rect x=\"0\" y=\"0\" width=\"2000\" height=\"2000\"/>\n",
       "  </clipPath>\n",
       "</defs>\n",
       "<defs>\n",
       "  <clipPath id=\"clip9201\">\n",
       "    <rect x=\"0\" y=\"0\" width=\"1600\" height=\"1200\"/>\n",
       "  </clipPath>\n",
       "</defs>\n",
       "<polygon clip-path=\"url(#clip9201)\" points=\"\n",
       "0,1200 1600,1200 1600,0 0,0 \n",
       "  \" fill=\"#ffffff\" fill-rule=\"evenodd\" fill-opacity=\"1\"/>\n",
       "<defs>\n",
       "  <clipPath id=\"clip9202\">\n",
       "    <rect x=\"320\" y=\"0\" width=\"1121\" height=\"1121\"/>\n",
       "  </clipPath>\n",
       "</defs>\n",
       "<polygon clip-path=\"url(#clip9201)\" points=\"\n",
       "212.353,1036.29 1521.26,1036.29 1521.26,47.2441 212.353,47.2441 \n",
       "  \" fill=\"#ffffff\" fill-rule=\"evenodd\" fill-opacity=\"1\"/>\n",
       "<defs>\n",
       "  <clipPath id=\"clip9203\">\n",
       "    <rect x=\"212\" y=\"47\" width=\"1310\" height=\"990\"/>\n",
       "  </clipPath>\n",
       "</defs>\n",
       "<polyline clip-path=\"url(#clip9203)\" style=\"stroke:#000000; stroke-width:2; stroke-opacity:0.1; fill:none\" points=\"\n",
       "  372.879,1036.29 372.879,47.2441 \n",
       "  \"/>\n",
       "<polyline clip-path=\"url(#clip9203)\" style=\"stroke:#000000; stroke-width:2; stroke-opacity:0.1; fill:none\" points=\"\n",
       "  619.843,1036.29 619.843,47.2441 \n",
       "  \"/>\n",
       "<polyline clip-path=\"url(#clip9203)\" style=\"stroke:#000000; stroke-width:2; stroke-opacity:0.1; fill:none\" points=\"\n",
       "  866.806,1036.29 866.806,47.2441 \n",
       "  \"/>\n",
       "<polyline clip-path=\"url(#clip9203)\" style=\"stroke:#000000; stroke-width:2; stroke-opacity:0.1; fill:none\" points=\"\n",
       "  1113.77,1036.29 1113.77,47.2441 \n",
       "  \"/>\n",
       "<polyline clip-path=\"url(#clip9203)\" style=\"stroke:#000000; stroke-width:2; stroke-opacity:0.1; fill:none\" points=\"\n",
       "  1360.73,1036.29 1360.73,47.2441 \n",
       "  \"/>\n",
       "<polyline clip-path=\"url(#clip9203)\" style=\"stroke:#000000; stroke-width:2; stroke-opacity:0.1; fill:none\" points=\"\n",
       "  212.353,914.993 1521.26,914.993 \n",
       "  \"/>\n",
       "<polyline clip-path=\"url(#clip9203)\" style=\"stroke:#000000; stroke-width:2; stroke-opacity:0.1; fill:none\" points=\"\n",
       "  212.353,728.38 1521.26,728.38 \n",
       "  \"/>\n",
       "<polyline clip-path=\"url(#clip9203)\" style=\"stroke:#000000; stroke-width:2; stroke-opacity:0.1; fill:none\" points=\"\n",
       "  212.353,541.768 1521.26,541.768 \n",
       "  \"/>\n",
       "<polyline clip-path=\"url(#clip9203)\" style=\"stroke:#000000; stroke-width:2; stroke-opacity:0.1; fill:none\" points=\"\n",
       "  212.353,355.155 1521.26,355.155 \n",
       "  \"/>\n",
       "<polyline clip-path=\"url(#clip9203)\" style=\"stroke:#000000; stroke-width:2; stroke-opacity:0.1; fill:none\" points=\"\n",
       "  212.353,168.542 1521.26,168.542 \n",
       "  \"/>\n",
       "<polyline clip-path=\"url(#clip9201)\" style=\"stroke:#000000; stroke-width:4; stroke-opacity:1; fill:none\" points=\"\n",
       "  212.353,1036.29 1521.26,1036.29 \n",
       "  \"/>\n",
       "<polyline clip-path=\"url(#clip9201)\" style=\"stroke:#000000; stroke-width:4; stroke-opacity:1; fill:none\" points=\"\n",
       "  212.353,1036.29 212.353,47.2441 \n",
       "  \"/>\n",
       "<polyline clip-path=\"url(#clip9201)\" style=\"stroke:#000000; stroke-width:4; stroke-opacity:1; fill:none\" points=\"\n",
       "  372.879,1036.29 372.879,1021.46 \n",
       "  \"/>\n",
       "<polyline clip-path=\"url(#clip9201)\" style=\"stroke:#000000; stroke-width:4; stroke-opacity:1; fill:none\" points=\"\n",
       "  619.843,1036.29 619.843,1021.46 \n",
       "  \"/>\n",
       "<polyline clip-path=\"url(#clip9201)\" style=\"stroke:#000000; stroke-width:4; stroke-opacity:1; fill:none\" points=\"\n",
       "  866.806,1036.29 866.806,1021.46 \n",
       "  \"/>\n",
       "<polyline clip-path=\"url(#clip9201)\" style=\"stroke:#000000; stroke-width:4; stroke-opacity:1; fill:none\" points=\"\n",
       "  1113.77,1036.29 1113.77,1021.46 \n",
       "  \"/>\n",
       "<polyline clip-path=\"url(#clip9201)\" style=\"stroke:#000000; stroke-width:4; stroke-opacity:1; fill:none\" points=\"\n",
       "  1360.73,1036.29 1360.73,1021.46 \n",
       "  \"/>\n",
       "<polyline clip-path=\"url(#clip9201)\" style=\"stroke:#000000; stroke-width:4; stroke-opacity:1; fill:none\" points=\"\n",
       "  212.353,914.993 231.986,914.993 \n",
       "  \"/>\n",
       "<polyline clip-path=\"url(#clip9201)\" style=\"stroke:#000000; stroke-width:4; stroke-opacity:1; fill:none\" points=\"\n",
       "  212.353,728.38 231.986,728.38 \n",
       "  \"/>\n",
       "<polyline clip-path=\"url(#clip9201)\" style=\"stroke:#000000; stroke-width:4; stroke-opacity:1; fill:none\" points=\"\n",
       "  212.353,541.768 231.986,541.768 \n",
       "  \"/>\n",
       "<polyline clip-path=\"url(#clip9201)\" style=\"stroke:#000000; stroke-width:4; stroke-opacity:1; fill:none\" points=\"\n",
       "  212.353,355.155 231.986,355.155 \n",
       "  \"/>\n",
       "<polyline clip-path=\"url(#clip9201)\" style=\"stroke:#000000; stroke-width:4; stroke-opacity:1; fill:none\" points=\"\n",
       "  212.353,168.542 231.986,168.542 \n",
       "  \"/>\n",
       "<g clip-path=\"url(#clip9201)\">\n",
       "<text style=\"fill:#000000; fill-opacity:1; font-family:Arial,Helvetica Neue,Helvetica,sans-serif; font-size:48px; text-anchor:middle;\" transform=\"rotate(0, 372.879, 1086.29)\" x=\"372.879\" y=\"1086.29\">-4</text>\n",
       "</g>\n",
       "<g clip-path=\"url(#clip9201)\">\n",
       "<text style=\"fill:#000000; fill-opacity:1; font-family:Arial,Helvetica Neue,Helvetica,sans-serif; font-size:48px; text-anchor:middle;\" transform=\"rotate(0, 619.843, 1086.29)\" x=\"619.843\" y=\"1086.29\">-2</text>\n",
       "</g>\n",
       "<g clip-path=\"url(#clip9201)\">\n",
       "<text style=\"fill:#000000; fill-opacity:1; font-family:Arial,Helvetica Neue,Helvetica,sans-serif; font-size:48px; text-anchor:middle;\" transform=\"rotate(0, 866.806, 1086.29)\" x=\"866.806\" y=\"1086.29\">0</text>\n",
       "</g>\n",
       "<g clip-path=\"url(#clip9201)\">\n",
       "<text style=\"fill:#000000; fill-opacity:1; font-family:Arial,Helvetica Neue,Helvetica,sans-serif; font-size:48px; text-anchor:middle;\" transform=\"rotate(0, 1113.77, 1086.29)\" x=\"1113.77\" y=\"1086.29\">2</text>\n",
       "</g>\n",
       "<g clip-path=\"url(#clip9201)\">\n",
       "<text style=\"fill:#000000; fill-opacity:1; font-family:Arial,Helvetica Neue,Helvetica,sans-serif; font-size:48px; text-anchor:middle;\" transform=\"rotate(0, 1360.73, 1086.29)\" x=\"1360.73\" y=\"1086.29\">4</text>\n",
       "</g>\n",
       "<g clip-path=\"url(#clip9201)\">\n",
       "<text style=\"fill:#000000; fill-opacity:1; font-family:Arial,Helvetica Neue,Helvetica,sans-serif; font-size:48px; text-anchor:end;\" transform=\"rotate(0, 196.353, 932.493)\" x=\"196.353\" y=\"932.493\">-4</text>\n",
       "</g>\n",
       "<g clip-path=\"url(#clip9201)\">\n",
       "<text style=\"fill:#000000; fill-opacity:1; font-family:Arial,Helvetica Neue,Helvetica,sans-serif; font-size:48px; text-anchor:end;\" transform=\"rotate(0, 196.353, 745.88)\" x=\"196.353\" y=\"745.88\">-2</text>\n",
       "</g>\n",
       "<g clip-path=\"url(#clip9201)\">\n",
       "<text style=\"fill:#000000; fill-opacity:1; font-family:Arial,Helvetica Neue,Helvetica,sans-serif; font-size:48px; text-anchor:end;\" transform=\"rotate(0, 196.353, 559.268)\" x=\"196.353\" y=\"559.268\">0</text>\n",
       "</g>\n",
       "<g clip-path=\"url(#clip9201)\">\n",
       "<text style=\"fill:#000000; fill-opacity:1; font-family:Arial,Helvetica Neue,Helvetica,sans-serif; font-size:48px; text-anchor:end;\" transform=\"rotate(0, 196.353, 372.655)\" x=\"196.353\" y=\"372.655\">2</text>\n",
       "</g>\n",
       "<g clip-path=\"url(#clip9201)\">\n",
       "<text style=\"fill:#000000; fill-opacity:1; font-family:Arial,Helvetica Neue,Helvetica,sans-serif; font-size:48px; text-anchor:end;\" transform=\"rotate(0, 196.353, 186.042)\" x=\"196.353\" y=\"186.042\">4</text>\n",
       "</g>\n",
       "<g clip-path=\"url(#clip9201)\">\n",
       "<text style=\"fill:#000000; fill-opacity:1; font-family:Arial,Helvetica Neue,Helvetica,sans-serif; font-size:66px; text-anchor:middle;\" transform=\"rotate(0, 866.806, 1190.4)\" x=\"866.806\" y=\"1190.4\">x</text>\n",
       "</g>\n",
       "<g clip-path=\"url(#clip9201)\">\n",
       "<text style=\"fill:#000000; fill-opacity:1; font-family:Arial,Helvetica Neue,Helvetica,sans-serif; font-size:66px; text-anchor:middle;\" transform=\"rotate(-90, 57.6, 541.768)\" x=\"57.6\" y=\"541.768\">y</text>\n",
       "</g>\n",
       "<polyline clip-path=\"url(#clip9203)\" style=\"stroke:#ed6a23; stroke-width:12; stroke-opacity:1; fill:none\" points=\"\n",
       "  1484.22,666.176 1483.6,665.865 1482.98,665.554 1481.75,664.932 1481.75,664.932 1480.51,664.31 1479.89,663.999 1479.28,663.688 1478.04,663.066 \n",
       "  1476.81,662.444 1476.19,662.133 1475.57,661.822 1474.34,661.2 1473.1,660.578 1472.48,660.267 1471.87,659.956 1470.63,659.333 1470.63,659.333 \n",
       "  1469.4,658.711 1468.78,658.4 1468.16,658.089 1466.93,657.467 1465.69,656.845 1465.08,656.534 1464.46,656.223 1463.22,655.601 \n",
       "  1461.99,654.979 1461.37,654.668 1460.75,654.357 1459.52,653.735 1458.28,653.113 1457.67,652.802 1457.05,652.491 1455.81,651.869 1455.81,651.869 \n",
       "  1454.58,651.247 1453.96,650.936 1453.34,650.625 1452.11,650.003 1450.88,649.381 1450.26,649.07 1449.64,648.759 1448.41,648.137 \n",
       "  1447.17,647.515 1446.55,647.204 1445.94,646.893 1444.7,646.271 1443.47,645.649 1442.85,645.338 1442.23,645.027 1441,644.404 \n",
       "  1439.76,643.782 1439.14,643.471 1438.53,643.16 1437.29,642.538 1436.06,641.916 1435.44,641.605 1434.82,641.294 1433.59,640.672 \n",
       "  1432.35,640.05 1431.74,639.739 1431.12,639.428 1429.88,638.806 1428.65,638.184 1428.03,637.873 1427.41,637.562 1426.18,636.94 \n",
       "  1424.94,636.318 1424.33,636.007 1423.71,635.696 1422.47,635.074 1421.24,634.452 1420.62,634.141 1420,633.83 1418.77,633.208 \n",
       "  1417.54,632.586 1416.92,632.275 1416.3,631.964 1415.07,631.342 1415.07,631.342 1413.83,630.72 1413.21,630.409 1412.6,630.097 1411.36,629.475 \n",
       "  1410.13,628.853 1409.51,628.542 1408.89,628.231 1407.66,627.609 1406.42,626.987 1405.8,626.676 1405.19,626.365 1403.95,625.743 1403.95,625.743 \n",
       "  1402.72,625.121 1402.1,624.81 1401.48,624.499 1400.25,623.877 1399.01,623.255 1398.4,622.944 1397.78,622.633 1396.54,622.011 \n",
       "  1395.31,621.389 1394.69,621.078 1394.07,620.767 1392.84,620.145 1391.6,619.523 1390.99,619.212 1390.37,618.901 1389.13,618.279 \n",
       "  1387.9,617.657 1387.28,617.346 1386.66,617.035 1385.43,616.413 1384.2,615.791 1383.58,615.48 1382.96,615.168 1381.73,614.546 \n",
       "  1380.49,613.924 1379.87,613.613 1379.26,613.302 1378.02,612.68 1378.02,612.68 1376.79,612.058 1376.17,611.747 1375.55,611.436 1374.32,610.814 1374.32,610.814 \n",
       "  1373.08,610.192 1372.46,609.881 1371.85,609.57 1370.61,608.948 1369.38,608.326 1368.76,608.015 1368.14,607.704 1366.91,607.082 \n",
       "  1365.67,606.46 1365.06,606.149 1364.44,605.838 1363.2,605.216 1363.2,605.216 1361.97,604.594 1361.35,604.283 1360.73,603.972 1359.5,603.35 \n",
       "  1358.26,602.728 1357.65,602.417 1357.03,602.106 1355.79,601.484 1354.56,600.862 1353.94,600.55 1353.32,600.239 1352.09,599.617 \n",
       "  1350.85,598.995 1350.24,598.684 1349.62,598.373 1348.39,597.751 1347.15,597.129 1346.53,596.818 1345.92,596.507 1344.68,595.885 \n",
       "  1343.45,595.263 1342.83,594.952 1342.21,594.641 1340.98,594.019 1339.74,593.397 1339.12,593.086 1338.51,592.775 1337.27,592.153 \n",
       "  1336.04,591.531 1335.42,591.22 1334.8,590.909 1333.57,590.287 1332.33,589.665 1331.72,589.354 1331.1,589.043 1329.86,588.421 \n",
       "  1328.63,587.799 1328.01,587.488 1327.39,587.177 1326.16,586.555 1324.92,585.933 1324.31,585.621 1323.69,585.31 1322.45,584.688 \n",
       "  1321.22,584.066 1320.6,583.755 1319.98,583.444 1318.75,582.822 1317.51,582.2 1316.9,581.889 1316.28,581.578 1315.05,580.956 \n",
       "  1313.81,580.334 1313.19,580.023 1312.58,579.712 1311.34,579.09 1310.11,578.468 1309.49,578.157 1308.87,577.846 1307.64,577.224 \n",
       "  1306.4,576.602 1305.78,576.291 1305.17,575.98 1303.93,575.358 1302.7,574.736 1302.08,574.425 1301.46,574.114 1300.23,573.492 \n",
       "  1298.99,572.87 1298.38,572.559 1297.76,572.248 1296.52,571.626 1295.29,571.004 1294.67,570.692 1294.05,570.381 1292.82,569.759 \n",
       "  1291.58,569.137 1290.97,568.826 1290.35,568.515 1289.11,567.893 1287.88,567.271 1287.26,566.96 1286.64,566.649 1285.41,566.027 \n",
       "  1284.17,565.405 1283.56,565.094 1282.94,564.783 1281.71,564.161 1280.47,563.539 1279.85,563.228 1279.24,562.917 1278,562.295 \n",
       "  1276.77,561.673 1276.15,561.362 1275.53,561.051 1274.3,560.429 1273.06,559.807 1272.44,559.496 1271.83,559.185 1270.59,558.563 \n",
       "  1269.36,557.941 1268.74,557.63 1268.12,557.319 1266.89,556.697 1265.65,556.074 1265.04,555.763 1264.42,555.452 1263.18,554.83 \n",
       "  1261.95,554.208 1261.33,553.897 1260.71,553.586 1259.48,552.964 1258.24,552.342 1257.63,552.031 1257.01,551.72 1255.77,551.098 \n",
       "  1254.54,550.476 1253.92,550.165 1253.3,549.854 1252.07,549.232 1250.83,548.61 1250.22,548.299 1249.6,547.988 1248.37,547.366 \n",
       "  1247.13,546.744 1246.51,546.433 1245.9,546.122 1244.66,545.5 1243.43,544.878 1242.81,544.567 1242.19,544.256 1240.96,543.634 \n",
       "  1239.72,543.012 1239.1,542.701 1238.49,542.39 1237.25,541.768 1236.02,541.145 1235.4,540.834 1234.78,540.523 1233.55,539.901 \n",
       "  1232.31,539.279 1231.7,538.968 1231.08,538.657 1229.84,538.035 1228.61,537.413 1227.99,537.102 1227.37,536.791 1226.14,536.169 \n",
       "  1224.9,535.547 1224.29,535.236 1223.67,534.925 1222.43,534.303 1221.2,533.681 1220.58,533.37 1219.96,533.059 1218.73,532.437 \n",
       "  1217.49,531.815 1216.88,531.504 1216.26,531.193 1215.02,530.571 1213.79,529.949 1213.17,529.638 1212.56,529.327 1211.32,528.705 \n",
       "  1210.09,528.083 1209.47,527.772 1208.85,527.461 1207.62,526.839 1206.38,526.216 1205.76,525.905 1205.15,525.594 1203.91,524.972 \n",
       "  1202.68,524.35 1202.06,524.039 1201.44,523.728 1200.21,523.106 1198.97,522.484 1198.35,522.173 1197.74,521.862 1196.5,521.24 \n",
       "  1195.27,520.618 1194.65,520.307 1194.03,519.996 1192.8,519.374 1191.56,518.752 1190.95,518.441 1190.33,518.13 1189.09,517.508 \n",
       "  1187.86,516.886 1187.24,516.575 1186.62,516.264 1185.39,515.642 1184.15,515.02 1183.54,514.709 1182.92,514.398 1181.68,513.776 \n",
       "  1180.45,513.154 1179.83,512.843 1179.22,512.532 1177.98,511.91 1176.75,511.287 1176.13,510.976 1175.51,510.665 1174.28,510.043 \n",
       "  1173.04,509.421 1172.42,509.11 1171.81,508.799 1170.57,508.177 1169.34,507.555 1168.72,507.244 1168.1,506.933 1166.87,506.311 \n",
       "  1165.63,505.689 1165.01,505.378 1164.4,505.067 1163.16,504.445 1161.93,503.823 1161.31,503.512 1160.69,503.201 1159.46,502.579 \n",
       "  1158.22,501.957 1157.61,501.646 1156.99,501.335 1155.75,500.713 1154.52,500.091 1153.9,499.78 1153.28,499.469 1152.05,498.847 \n",
       "  1150.81,498.225 1150.2,497.914 1149.58,497.603 1148.34,496.98 1147.11,496.358 1146.49,496.047 1145.88,495.736 1144.64,495.114 \n",
       "  1143.41,494.492 1142.79,494.181 1142.17,493.87 1140.94,493.248 1139.7,492.626 1139.08,492.315 1138.47,492.004 1137.23,491.382 \n",
       "  1136,490.76 1135.38,490.449 1134.76,490.138 1133.53,489.516 1132.29,488.894 1131.67,488.583 1131.06,488.272 1129.82,487.65 \n",
       "  1128.59,487.028 1127.97,486.717 1127.35,486.406 1126.12,485.784 1124.88,485.162 1124.27,484.851 1123.65,484.54 1122.41,483.918 \n",
       "  1121.18,483.296 1120.56,482.985 1119.94,482.674 1118.71,482.051 1117.47,481.429 1116.86,481.118 1116.24,480.807 1115,480.185 \n",
       "  1113.77,479.563 1113.15,479.252 1112.54,478.941 1111.3,478.319 1110.07,477.697 1109.45,477.386 1108.83,477.075 1107.6,476.453 \n",
       "  1106.36,475.831 1105.74,475.52 1105.13,475.209 1103.89,474.587 1102.66,473.965 1102.04,473.654 1101.42,473.343 1100.19,472.721 \n",
       "  1098.95,472.099 1098.33,471.788 1097.72,471.477 1096.48,470.855 1095.25,470.233 1094.63,469.922 1094.01,469.611 1092.78,468.989 \n",
       "  1091.54,468.367 1090.93,468.056 1090.31,467.745 1089.07,467.122 1087.84,466.5 1087.22,466.189 1086.6,465.878 1085.37,465.256 \n",
       "  1084.13,464.634 1083.52,464.323 1082.9,464.012 1081.66,463.39 1080.43,462.768 1079.81,462.457 1079.19,462.146 1077.96,461.524 \n",
       "  1076.73,460.902 1076.11,460.591 1075.49,460.28 1074.26,459.658 1073.02,459.036 1072.4,458.725 1071.79,458.414 1070.55,457.792 \n",
       "  1069.32,457.17 1068.7,456.859 1068.08,456.548 1066.85,455.926 1065.61,455.304 1064.99,454.993 1064.38,454.682 1063.14,454.06 \n",
       "  1061.91,453.438 1061.29,453.127 1060.67,452.816 1059.44,452.193 1058.2,451.571 1057.59,451.26 1056.97,450.949 1055.73,450.327 \n",
       "  1054.5,449.705 1053.88,449.394 1053.26,449.083 1052.03,448.461 1050.79,447.839 1050.18,447.528 1049.56,447.217 1048.32,446.595 \n",
       "  1047.09,445.973 1046.47,445.662 1045.85,445.351 1044.62,444.729 1043.39,444.107 1042.77,443.796 1042.15,443.485 1040.92,442.863 \n",
       "  1039.68,442.241 1039.06,441.93 1038.45,441.619 1037.21,440.997 1035.98,440.375 1035.36,440.064 1034.74,439.753 1033.51,439.131 \n",
       "  1032.27,438.509 1031.65,438.198 1031.04,437.887 1029.8,437.264 1028.57,436.642 1027.95,436.331 1027.33,436.02 1026.1,435.398 \n",
       "  1024.86,434.776 1024.25,434.465 1023.63,434.154 1022.39,433.532 1021.16,432.91 1020.54,432.599 1019.92,432.288 1018.69,431.666 \n",
       "  1017.45,431.044 1016.84,430.733 1016.22,430.422 1014.98,429.8 1013.75,429.178 1013.13,428.867 1012.51,428.556 1011.28,427.934 \n",
       "  1010.05,427.312 1009.43,427.001 1008.81,426.69 1007.58,426.068 1006.34,425.446 1005.72,425.135 1005.11,424.824 1003.87,424.202 \n",
       "  1002.64,423.58 1002.02,423.269 1001.4,422.957 1000.17,422.335 998.932,421.713 998.314,421.402 997.697,421.091 996.462,420.469 \n",
       "  995.227,419.847 994.61,419.536 993.993,419.225 992.758,418.603 991.523,417.981 990.906,417.67 990.288,417.359 989.053,416.737 \n",
       "  987.818,416.115 987.201,415.804 986.584,415.493 985.349,414.871 984.114,414.249 983.497,413.938 982.879,413.627 981.644,413.005 \n",
       "  980.41,412.383 979.792,412.072 979.175,411.761 977.94,411.139 976.705,410.517 976.088,410.206 975.47,409.895 974.235,409.273 \n",
       "  973.001,408.651 972.383,408.34 971.766,408.028 970.531,407.406 969.296,406.784 968.679,406.473 968.061,406.162 966.827,405.54 \n",
       "  965.592,404.918 964.974,404.607 964.357,404.296 963.122,403.674 961.887,403.052 961.27,402.741 960.652,402.43 959.418,401.808 \n",
       "  958.183,401.186 957.565,400.875 956.948,400.564 955.713,399.942 954.478,399.32 953.861,399.009 953.244,398.698 952.009,398.076 \n",
       "  950.774,397.454 950.157,397.143 949.539,396.832 948.304,396.21 947.069,395.588 946.452,395.277 945.835,394.966 944.6,394.344 \n",
       "  943.365,393.722 942.748,393.41 942.13,393.099 940.895,392.477 939.661,391.855 939.043,391.544 938.426,391.233 937.191,390.611 \n",
       "  935.956,389.989 935.339,389.678 934.721,389.367 933.486,388.745 932.252,388.123 931.634,387.812 931.017,387.501 929.782,386.879 \n",
       "  928.547,386.257 927.93,385.946 927.312,385.635 926.078,385.013 924.843,384.391 924.225,384.08 923.608,383.769 922.373,383.147 \n",
       "  921.138,382.525 920.521,382.214 919.903,381.903 918.669,381.281 917.434,380.659 916.816,380.348 916.199,380.037 914.964,379.415 \n",
       "  913.729,378.793 913.112,378.481 912.495,378.17 911.26,377.548 910.025,376.926 909.408,376.615 908.79,376.304 907.555,375.682 \n",
       "  906.32,375.06 905.703,374.749 905.086,374.438 903.851,373.816 902.616,373.194 901.999,372.883 901.381,372.572 900.146,371.95 \n",
       "  898.912,371.328 898.294,371.017 897.677,370.706 896.442,370.084 895.207,369.462 894.59,369.151 893.972,368.84 892.737,368.218 \n",
       "  891.503,367.596 890.885,367.285 890.268,366.974 889.033,366.352 887.798,365.73 887.181,365.419 886.563,365.108 885.329,364.486 \n",
       "  884.094,363.863 883.476,363.552 882.859,363.241 881.624,362.619 880.389,361.997 879.772,361.686 879.154,361.375 877.92,360.753 \n",
       "  876.685,360.131 876.067,359.82 875.45,359.509 874.215,358.887 872.98,358.265 872.363,357.954 871.746,357.643 870.511,357.021 870.511,357.021 \n",
       "  869.276,356.399 868.659,356.088 868.041,355.777 866.806,355.155 865.571,354.533 864.954,354.222 864.337,353.911 863.102,353.289 863.102,353.289 \n",
       "  861.867,352.667 861.25,352.356 860.632,352.045 859.397,351.423 858.163,350.801 857.545,350.49 856.928,350.179 855.693,349.557 \n",
       "  854.458,348.934 853.841,348.623 853.223,348.312 851.988,347.69 850.754,347.068 850.136,346.757 849.519,346.446 848.284,345.824 848.284,345.824 \n",
       "  847.049,345.202 846.432,344.891 845.814,344.58 844.58,343.958 843.345,343.336 842.727,343.025 842.11,342.714 840.875,342.092 \n",
       "  839.64,341.47 839.023,341.159 838.405,340.848 837.171,340.226 835.936,339.604 835.318,339.293 834.701,338.982 833.466,338.36 833.466,338.36 \n",
       "  832.231,337.738 831.614,337.427 830.997,337.116 829.762,336.494 828.527,335.872 827.91,335.561 827.292,335.25 826.057,334.628 \n",
       "  824.822,334.005 824.205,333.694 823.588,333.383 822.353,332.761 821.118,332.139 820.501,331.828 819.883,331.517 818.648,330.895 818.648,330.895 \n",
       "  817.414,330.273 816.796,329.962 816.179,329.651 814.944,329.029 813.709,328.407 813.092,328.096 812.474,327.785 811.239,327.163 811.239,327.163 \n",
       "  810.005,326.541 809.387,326.23 808.77,325.919 807.535,325.297 807.535,325.297 806.3,324.675 805.683,324.364 805.065,324.053 803.831,323.431 \n",
       "  802.596,322.809 801.978,322.498 801.361,322.187 800.126,321.565 798.891,320.943 798.274,320.632 797.656,320.321 796.422,319.699 \n",
       "  795.187,319.076 794.569,318.765 793.952,318.454 792.717,317.832 792.717,317.832 791.482,317.21 790.865,316.899 790.248,316.588 789.013,315.966 \n",
       "  787.778,315.344 787.161,315.033 786.543,314.722 785.308,314.1 784.073,313.478 783.456,313.167 782.839,312.856 781.604,312.234 \n",
       "  780.369,311.612 779.752,311.301 779.134,310.99 777.899,310.368 776.665,309.746 776.047,309.435 775.43,309.124 774.195,308.502 \n",
       "  772.96,307.88 772.343,307.569 771.725,307.258 770.49,306.636 769.256,306.014 768.638,305.703 768.021,305.392 766.786,304.77 \n",
       "  765.551,304.147 764.934,303.836 764.316,303.525 763.082,302.903 761.847,302.281 761.229,301.97 760.612,301.659 759.377,301.037 \n",
       "  758.142,300.415 757.525,300.104 756.907,299.793 755.673,299.171 755.673,299.171 754.438,298.549 753.82,298.238 753.203,297.927 751.968,297.305 \n",
       "  750.733,296.683 750.116,296.372 749.499,296.061 748.264,295.439 747.029,294.817 746.412,294.506 745.794,294.195 744.559,293.573 \n",
       "  \n",
       "  \"/>\n",
       "<polyline clip-path=\"url(#clip9203)\" style=\"stroke:#ed6a23; stroke-width:12; stroke-opacity:1; fill:none\" points=\"\n",
       "  744.559,293.573 743.324,292.951 742.707,292.64 742.09,292.329 740.855,291.707 740.855,291.707 739.62,291.085 739.003,290.774 738.385,290.463 737.15,289.84 \n",
       "  737.15,289.84 735.916,289.218 735.298,288.907 734.681,288.596 733.446,287.974 732.211,287.352 731.594,287.041 730.976,286.73 729.741,286.108 \n",
       "  728.507,285.486 727.889,285.175 727.272,284.864 726.037,284.242 724.802,283.62 724.185,283.309 723.567,282.998 722.333,282.376 \n",
       "  721.098,281.754 720.48,281.443 719.863,281.132 718.628,280.51 718.628,280.51 717.393,279.888 716.776,279.577 716.158,279.266 714.924,278.644 \n",
       "  713.689,278.022 713.071,277.711 712.454,277.4 711.219,276.778 709.984,276.156 709.367,275.845 708.75,275.534 707.515,274.911 \n",
       "  706.28,274.289 705.663,273.978 705.045,273.667 703.81,273.045 702.575,272.423 701.958,272.112 701.341,271.801 700.106,271.179 \n",
       "  698.871,270.557 698.254,270.246 697.636,269.935 696.401,269.313 695.167,268.691 694.549,268.38 693.932,268.069 692.697,267.447 \n",
       "  691.462,266.825 690.845,266.514 690.227,266.203 688.992,265.581 687.758,264.959 687.14,264.648 686.523,264.337 685.288,263.715 \n",
       "  684.053,263.093 683.436,262.782 682.818,262.471 681.584,261.849 680.349,261.227 679.731,260.916 679.114,260.605 677.879,259.982 \n",
       "  676.644,259.36 676.027,259.049 675.409,258.738 674.175,258.116 674.175,258.116 672.94,257.494 672.322,257.183 671.705,256.872 670.47,256.25 \n",
       "  669.235,255.628 668.618,255.317 668.001,255.006 666.766,254.384 665.531,253.762 664.914,253.451 664.296,253.14 663.061,252.518 \n",
       "  663.061,252.518 661.826,251.896 661.209,251.585 660.592,251.274 659.357,250.652 658.122,250.03 657.505,249.719 656.887,249.408 655.652,248.786 \n",
       "  654.418,248.164 653.8,247.853 653.183,247.542 651.948,246.92 650.713,246.298 650.096,245.987 649.478,245.676 648.244,245.053 \n",
       "  647.009,244.431 646.391,244.12 645.774,243.809 644.539,243.187 644.539,243.187 643.304,242.565 642.687,242.254 642.069,241.943 640.835,241.321 \n",
       "  639.6,240.699 638.982,240.388 638.365,240.077 637.13,239.455 635.895,238.833 635.278,238.522 634.661,238.211 633.426,237.589 \n",
       "  632.191,236.967 631.573,236.656 630.956,236.345 629.721,235.723 628.486,235.101 627.869,234.79 627.252,234.479 626.017,233.857 \n",
       "  626.017,233.857 624.782,233.235 624.165,232.924 623.547,232.613 622.312,231.991 621.078,231.369 620.46,231.058 619.843,230.746 618.608,230.124 \n",
       "  617.373,229.502 616.756,229.191 616.138,228.88 614.903,228.258 613.669,227.636 613.051,227.325 612.434,227.014 611.199,226.392 \n",
       "  611.199,226.392 609.964,225.77 609.347,225.459 608.729,225.148 607.495,224.526 607.495,224.526 606.26,223.904 605.642,223.593 605.025,223.282 603.79,222.66 \n",
       "  602.555,222.038 601.938,221.727 601.32,221.416 600.086,220.794 598.851,220.172 598.233,219.861 597.616,219.55 596.381,218.928 \n",
       "  595.146,218.306 594.529,217.995 593.912,217.684 592.677,217.062 591.442,216.44 590.824,216.129 590.207,215.817 588.972,215.195 \n",
       "  587.737,214.573 587.12,214.262 586.503,213.951 585.268,213.329 584.033,212.707 583.416,212.396 582.798,212.085 581.563,211.463 \n",
       "  581.563,211.463 580.329,210.841 579.711,210.53 579.094,210.219 577.859,209.597 576.624,208.975 576.007,208.664 575.389,208.353 574.154,207.731 \n",
       "  572.92,207.109 572.302,206.798 571.685,206.487 570.45,205.865 570.45,205.865 569.215,205.243 568.598,204.932 567.98,204.621 566.746,203.999 \n",
       "  566.746,203.999 565.511,203.377 564.893,203.066 564.276,202.755 563.041,202.133 561.806,201.511 561.189,201.2 560.571,200.888 559.337,200.266 \n",
       "  558.102,199.644 557.484,199.333 556.867,199.022 555.632,198.4 554.397,197.778 553.78,197.467 553.163,197.156 551.928,196.534 \n",
       "  551.928,196.534 550.693,195.912 550.075,195.601 549.458,195.29 548.223,194.668 546.988,194.046 546.371,193.735 545.754,193.424 544.519,192.802 \n",
       "  544.519,192.802 543.284,192.18 542.667,191.869 542.049,191.558 540.814,190.936 540.814,190.936 539.58,190.314 538.962,190.003 538.345,189.692 537.11,189.07 \n",
       "  535.875,188.448 535.258,188.137 534.64,187.826 533.405,187.204 533.405,187.204 532.171,186.582 531.553,186.27 530.936,185.959 529.701,185.337 \n",
       "  529.701,185.337 528.466,184.715 527.849,184.404 527.231,184.093 525.997,183.471 524.762,182.849 524.144,182.538 523.527,182.227 522.292,181.605 \n",
       "  521.057,180.983 520.44,180.672 519.822,180.361 518.588,179.739 517.353,179.117 516.735,178.806 516.118,178.495 514.883,177.873 \n",
       "  513.648,177.251 513.031,176.94 512.414,176.629 511.179,176.007 509.944,175.385 509.326,175.074 508.709,174.763 507.474,174.141 \n",
       "  506.239,173.519 505.622,173.208 505.005,172.897 503.77,172.275 502.535,171.653 501.918,171.341 501.3,171.03 500.065,170.408 \n",
       "  500.065,170.408 498.831,169.786 498.213,169.475 497.596,169.164 496.361,168.542 495.126,167.92 494.509,167.609 493.891,167.298 492.656,166.676 \n",
       "  491.422,166.054 490.804,165.743 490.187,165.432 488.952,164.81 488.952,164.81 487.717,164.188 487.1,163.877 486.482,163.566 485.248,162.944 \n",
       "  484.013,162.322 483.395,162.011 482.778,161.7 481.543,161.078 480.308,160.456 479.691,160.145 479.073,159.834 477.839,159.212 \n",
       "  477.839,159.212 476.604,158.59 475.986,158.279 475.369,157.968 474.134,157.346 474.134,157.346 472.899,156.723 472.282,156.412 471.665,156.101 470.43,155.479 \n",
       "  470.43,155.479 469.195,154.857 468.577,154.546 467.96,154.235 466.725,153.613 465.49,152.991 464.873,152.68 464.256,152.369 463.021,151.747 \n",
       "  463.021,151.747 461.786,151.125 461.169,150.814 460.551,150.503 459.316,149.881 459.316,149.881 458.082,149.259 457.464,148.948 456.847,148.637 455.612,148.015 \n",
       "  454.377,147.393 453.76,147.082 453.142,146.771 451.907,146.149 451.907,146.149 450.673,145.527 450.055,145.216 449.438,144.905 448.203,144.283 \n",
       "  448.203,144.283 446.968,143.661 446.351,143.35 445.733,143.039 444.499,142.417 443.264,141.794 442.646,141.483 442.029,141.172 440.794,140.55 \n",
       "  440.794,140.55 439.559,139.928 438.942,139.617 438.324,139.306 437.09,138.684 437.09,138.684 435.855,138.062 435.237,137.751 434.62,137.44 433.385,136.818 \n",
       "  432.15,136.196 431.533,135.885 430.916,135.574 429.681,134.952 429.681,134.952 428.446,134.33 427.828,134.019 427.211,133.708 425.976,133.086 \n",
       "  425.976,133.086 424.741,132.464 424.124,132.153 423.507,131.842 422.272,131.22 422.272,131.22 421.037,130.598 420.42,130.287 419.802,129.976 418.567,129.354 \n",
       "  417.333,128.732 416.715,128.421 416.098,128.11 414.863,127.488 413.628,126.865 413.011,126.554 412.393,126.243 411.158,125.621 \n",
       "  411.158,125.621 409.924,124.999 409.306,124.688 408.689,124.377 407.454,123.755 407.454,123.755 406.219,123.133 405.602,122.822 404.984,122.511 403.75,121.889 \n",
       "  402.515,121.267 401.897,120.956 401.28,120.645 400.045,120.023 400.045,120.023 398.81,119.401 398.193,119.09 397.575,118.779 396.341,118.157 \n",
       "  395.106,117.535 394.488,117.224 393.871,116.913 392.636,116.291 391.401,115.669 390.784,115.358 390.167,115.047 388.932,114.425 \n",
       "  387.697,113.803 387.079,113.492 386.462,113.181 385.227,112.559 385.227,112.559 383.992,111.936 383.375,111.625 382.758,111.314 381.523,110.692 \n",
       "  381.523,110.692 380.288,110.07 379.671,109.759 379.053,109.448 377.818,108.826 377.818,108.826 376.584,108.204 375.966,107.893 375.349,107.582 374.114,106.96 \n",
       "  372.879,106.338 372.262,106.027 371.644,105.716 370.409,105.094 369.175,104.472 368.557,104.161 367.94,103.85 366.705,103.228 \n",
       "  366.705,103.228 365.47,102.606 364.853,102.295 364.235,101.984 363.001,101.362 361.766,100.74 361.148,100.429 360.531,100.118 359.296,99.4956 \n",
       "  358.061,98.8736 357.444,98.5626 356.826,98.2515 355.592,97.6295 354.357,97.0075 353.739,96.6964 353.122,96.3854 351.887,95.7634 \n",
       "  350.652,95.1413 350.035,94.8303 349.418,94.5193 348.183,93.8972 348.183,93.8972 346.948,93.2752 346.33,92.9642 345.713,92.6532 344.478,92.0311 \n",
       "  343.243,91.4091 342.626,91.0981 342.009,90.787 340.774,90.165 339.539,89.543 338.922,89.2319 338.304,88.9209 337.069,88.2989 \n",
       "  337.069,88.2989 335.835,87.6768 335.217,87.3658 334.6,87.0548 333.365,86.4327 332.13,85.8107 331.513,85.4997 330.895,85.1887 329.66,84.5666 \n",
       "  329.66,84.5666 328.426,83.9446 327.808,83.6336 327.191,83.3225 325.956,82.7005 324.721,82.0784 324.104,81.7674 323.486,81.4564 322.252,80.8344 \n",
       "  321.017,80.2123 320.399,79.9013 319.782,79.5903 318.547,78.9682 318.547,78.9682 317.312,78.3462 316.695,78.0352 316.077,77.7242 314.843,77.1021 \n",
       "  314.843,77.1021 313.608,76.4801 312.99,76.169 312.373,75.858 311.138,75.236 \n",
       "  \"/>\n",
       "<polyline clip-path=\"url(#clip9203)\" style=\"stroke:#ed6a23; stroke-width:4; stroke-opacity:1; fill:none\" points=\"\n",
       "  537.521,1008.3 538.345,1007.83 539.168,1007.37 539.58,1007.13 540.814,1006.43 542.049,1005.73 542.461,1005.5 543.284,1005.03 544.107,1004.57 \n",
       "  544.519,1004.33 545.754,1003.63 546.988,1002.93 547.4,1002.7 548.223,1002.23 549.046,1001.77 549.458,1001.53 550.693,1000.83 \n",
       "  551.928,1000.13 552.339,999.901 553.163,999.435 553.986,998.968 554.397,998.735 555.632,998.035 556.867,997.336 557.279,997.102 558.102,996.636 \n",
       "  558.925,996.169 559.337,995.936 560.571,995.236 561.806,994.536 562.218,994.303 563.041,993.837 563.864,993.37 564.276,993.137 565.511,992.437 \n",
       "  566.746,991.737 567.157,991.504 567.98,991.037 568.804,990.571 569.215,990.338 570.45,989.638 571.685,988.938 572.096,988.705 \n",
       "  572.92,988.238 573.743,987.772 574.154,987.538 575.389,986.839 576.624,986.139 577.036,985.906 577.859,985.439 578.682,984.972 579.094,984.739 \n",
       "  580.329,984.039 580.329,984.039 581.563,983.34 581.975,983.106 582.798,982.64 583.621,982.173 584.033,981.94 585.268,981.24 586.503,980.54 \n",
       "  586.914,980.307 587.737,979.841 588.561,979.374 588.972,979.141 590.207,978.441 590.207,978.441 591.442,977.741 591.853,977.508 592.677,977.041 593.5,976.575 \n",
       "  593.912,976.342 595.146,975.642 596.381,974.942 596.793,974.709 597.616,974.242 598.439,973.776 598.851,973.542 600.086,972.843 \n",
       "  601.32,972.143 601.732,971.91 602.555,971.443 603.378,970.977 603.79,970.743 605.025,970.043 606.26,969.344 606.671,969.11 607.495,968.644 \n",
       "  608.318,968.177 608.729,967.944 609.964,967.244 611.199,966.544 611.611,966.311 612.434,965.845 613.257,965.378 613.669,965.145 614.903,964.445 \n",
       "  616.138,963.745 616.55,963.512 617.373,963.046 618.196,962.579 618.608,962.346 619.843,961.646 621.078,960.946 621.489,960.713 \n",
       "  622.312,960.246 623.136,959.78 623.547,959.547 624.782,958.847 626.017,958.147 626.428,957.914 627.252,957.447 628.075,956.981 628.486,956.747 \n",
       "  629.721,956.048 630.956,955.348 631.368,955.114 632.191,954.648 633.014,954.181 633.426,953.948 634.661,953.248 635.895,952.549 \n",
       "  636.307,952.315 637.13,951.849 637.953,951.382 638.365,951.149 639.6,950.449 640.835,949.749 641.246,949.516 642.069,949.05 642.893,948.583 \n",
       "  643.304,948.35 644.539,947.65 645.774,946.95 646.185,946.717 647.009,946.25 647.832,945.784 648.244,945.551 649.478,944.851 \n",
       "  650.713,944.151 651.125,943.918 651.948,943.451 652.771,942.985 653.183,942.751 654.418,942.052 655.652,941.352 656.064,941.119 656.887,940.652 \n",
       "  657.71,940.185 658.122,939.952 659.357,939.252 660.592,938.553 661.003,938.319 661.826,937.853 662.65,937.386 663.061,937.153 664.296,936.453 \n",
       "  664.296,936.453 665.531,935.753 665.943,935.52 666.766,935.054 667.589,934.587 668.001,934.354 669.235,933.654 670.47,932.954 670.882,932.721 \n",
       "  671.705,932.254 672.528,931.788 672.94,931.555 674.175,930.855 675.409,930.155 675.821,929.922 676.644,929.455 677.468,928.989 677.879,928.755 \n",
       "  679.114,928.056 680.349,927.356 680.76,927.123 681.584,926.656 682.407,926.19 682.818,925.956 684.053,925.256 685.288,924.557 \n",
       "  685.7,924.323 686.523,923.857 687.346,923.39 687.758,923.157 688.992,922.457 690.227,921.757 690.639,921.524 691.462,921.058 692.285,920.591 \n",
       "  692.697,920.358 693.932,919.658 695.167,918.958 695.578,918.725 696.401,918.258 697.225,917.792 697.636,917.559 698.871,916.859 698.871,916.859 \n",
       "  700.106,916.159 700.517,915.926 701.341,915.459 702.164,914.993 702.575,914.759 703.81,914.06 705.045,913.36 705.457,913.127 706.28,912.66 \n",
       "  707.103,912.194 707.515,911.96 708.75,911.261 709.984,910.561 710.396,910.327 711.219,909.861 712.042,909.394 712.454,909.161 713.689,908.461 \n",
       "  714.924,907.762 715.335,907.528 716.158,907.062 716.982,906.595 717.393,906.362 718.628,905.662 719.863,904.962 720.275,904.729 \n",
       "  721.098,904.263 721.921,903.796 722.333,903.563 723.567,902.863 724.802,902.163 725.214,901.93 726.037,901.463 726.86,900.997 727.272,900.764 \n",
       "  728.507,900.064 729.741,899.364 730.153,899.131 730.976,898.664 731.8,898.198 732.211,897.964 733.446,897.265 734.681,896.565 \n",
       "  735.092,896.331 735.916,895.865 736.739,895.398 737.15,895.165 738.385,894.465 739.62,893.766 740.032,893.532 740.855,893.066 741.678,892.599 \n",
       "  742.09,892.366 743.324,891.666 744.559,890.966 744.971,890.733 745.794,890.267 746.617,889.8 747.029,889.567 748.264,888.867 \n",
       "  749.499,888.167 749.91,887.934 750.733,887.467 751.557,887.001 751.968,886.768 753.203,886.068 754.438,885.368 754.849,885.135 755.673,884.668 \n",
       "  756.496,884.202 756.907,883.968 758.142,883.269 759.377,882.569 759.789,882.336 760.612,881.869 761.435,881.402 761.847,881.169 763.082,880.469 \n",
       "  764.316,879.77 764.728,879.536 765.551,879.07 766.374,878.603 766.786,878.37 768.021,877.67 769.256,876.97 769.667,876.737 \n",
       "  770.49,876.271 771.314,875.804 771.725,875.571 772.96,874.871 774.195,874.171 774.607,873.938 775.43,873.471 776.253,873.005 776.665,872.772 \n",
       "  777.899,872.072 779.134,871.372 779.546,871.139 780.369,870.672 781.192,870.206 781.604,869.972 782.839,869.273 784.073,868.573 \n",
       "  784.485,868.34 785.308,867.873 786.132,867.407 786.543,867.173 787.778,866.473 789.013,865.774 789.424,865.54 790.248,865.074 791.071,864.607 \n",
       "  791.482,864.374 792.717,863.674 793.952,862.974 794.364,862.741 795.187,862.275 796.01,861.808 796.422,861.575 797.656,860.875 \n",
       "  798.891,860.175 799.303,859.942 800.126,859.476 800.949,859.009 801.361,858.776 802.596,858.076 803.831,857.376 804.242,857.143 805.065,856.676 \n",
       "  805.889,856.21 806.3,855.977 807.535,855.277 808.77,854.577 809.181,854.344 810.005,853.877 810.828,853.411 811.239,853.177 812.474,852.478 \n",
       "  813.709,851.778 814.121,851.544 814.944,851.078 815.767,850.611 816.179,850.378 817.414,849.678 818.648,848.979 819.06,848.745 \n",
       "  819.883,848.279 820.706,847.812 821.118,847.579 822.353,846.879 823.588,846.179 823.999,845.946 824.822,845.48 825.646,845.013 826.057,844.78 \n",
       "  827.292,844.08 828.527,843.38 828.939,843.147 829.762,842.68 830.585,842.214 830.997,841.981 832.231,841.281 833.466,840.581 \n",
       "  833.878,840.348 834.701,839.881 835.524,839.415 835.936,839.181 837.171,838.482 838.405,837.782 838.817,837.549 839.64,837.082 840.464,836.615 \n",
       "  840.875,836.382 842.11,835.682 843.345,834.983 843.756,834.749 844.58,834.283 845.403,833.816 845.814,833.583 847.049,832.883 \n",
       "  848.284,832.183 848.696,831.95 849.519,831.484 850.342,831.017 850.754,830.784 851.988,830.084 853.223,829.384 853.635,829.151 854.458,828.684 \n",
       "  855.281,828.218 855.693,827.985 856.928,827.285 858.163,826.585 858.574,826.352 859.397,825.885 860.221,825.419 860.632,825.185 861.867,824.486 \n",
       "  863.102,823.786 863.513,823.553 864.337,823.086 865.16,822.62 865.571,822.386 866.806,821.686 868.041,820.987 868.453,820.753 \n",
       "  869.276,820.287 870.099,819.82 870.511,819.587 871.746,818.887 872.98,818.187 873.392,817.954 874.215,817.488 875.038,817.021 875.45,816.788 \n",
       "  876.685,816.088 877.92,815.388 878.331,815.155 879.154,814.688 879.978,814.222 880.389,813.989 881.624,813.289 882.859,812.589 \n",
       "  883.271,812.356 884.094,811.889 884.917,811.423 885.329,811.189 886.563,810.49 887.798,809.79 888.21,809.557 889.033,809.09 889.856,808.624 \n",
       "  890.268,808.39 891.503,807.691 892.737,806.991 893.149,806.757 893.972,806.291 894.795,805.824 895.207,805.591 896.442,804.891 \n",
       "  897.677,804.192 898.088,803.958 898.912,803.492 899.735,803.025 900.146,802.792 901.381,802.092 902.616,801.392 903.028,801.159 903.851,800.693 \n",
       "  904.674,800.226 905.086,799.993 906.32,799.293 907.555,798.593 907.967,798.36 908.79,797.893 909.613,797.427 910.025,797.194 911.26,796.494 \n",
       "  912.495,795.794 912.906,795.561 913.729,795.094 914.553,794.628 914.964,794.394 916.199,793.695 917.434,792.995 917.845,792.761 \n",
       "  918.669,792.295 919.492,791.828 919.903,791.595 921.138,790.895 922.373,790.196 922.785,789.962 923.608,789.496 924.431,789.029 924.843,788.796 \n",
       "  926.078,788.096 927.312,787.396 927.724,787.163 928.547,786.697 929.37,786.23 929.782,785.997 931.017,785.297 932.252,784.597 \n",
       "  932.663,784.364 933.486,783.897 934.31,783.431 934.721,783.198 935.956,782.498 937.191,781.798 937.603,781.565 938.426,781.098 939.249,780.632 \n",
       "  939.661,780.398 940.895,779.699 942.13,778.999 942.542,778.766 943.365,778.299 944.188,777.832 944.6,777.599 945.835,776.899 \n",
       "  947.069,776.2 947.481,775.966 948.304,775.5 949.127,775.033 949.539,774.8 950.774,774.1 952.009,773.4 952.42,773.167 953.244,772.701 \n",
       "  954.067,772.234 954.478,772.001 955.713,771.301 956.948,770.601 957.36,770.368 958.183,769.901 959.006,769.435 959.418,769.202 960.652,768.502 \n",
       "  961.887,767.802 962.299,767.569 963.122,767.102 963.945,766.636 964.357,766.402 965.592,765.703 966.827,765.003 967.238,764.77 \n",
       "  968.061,764.303 968.885,763.837 969.296,763.603 970.531,762.903 971.766,762.204 972.177,761.97 973.001,761.504 973.824,761.037 974.235,760.804 \n",
       "  975.47,760.104 976.705,759.404 977.117,759.171 977.94,758.705 978.763,758.238 979.175,758.005 980.41,757.305 981.644,756.605 \n",
       "  982.056,756.372 982.879,755.906 983.702,755.439 984.114,755.206 985.349,754.506 986.584,753.806 986.995,753.573 987.818,753.106 988.642,752.64 \n",
       "  989.053,752.407 990.288,751.707 991.523,751.007 991.935,750.774 992.758,750.307 993.581,749.841 993.993,749.607 995.227,748.908 \n",
       "  996.462,748.208 996.874,747.974 997.697,747.508 998.52,747.041 998.932,746.808 1000.17,746.108 1001.4,745.409 1001.81,745.175 1002.64,744.709 \n",
       "  1003.46,744.242 1003.87,744.009 1005.11,743.309 1006.34,742.609 1006.75,742.376 1007.58,741.91 1008.4,741.443 1008.81,741.21 1010.05,740.51 \n",
       "  1011.28,739.81 1011.69,739.577 1012.51,739.11 1013.34,738.644 1013.75,738.411 1014.98,737.711 1016.22,737.011 1016.63,736.778 \n",
       "  1017.45,736.311 1018.28,735.845 1018.69,735.611 1019.92,734.912 1021.16,734.212 1021.57,733.979 1022.39,733.512 1023.22,733.045 1023.63,732.812 \n",
       "  1024.86,732.112 1026.1,731.413 1026.51,731.179 1027.33,730.713 1028.16,730.246 1028.57,730.013 1029.8,729.313 1031.04,728.613 \n",
       "  1031.45,728.38 1032.27,727.914 1033.1,727.447 1033.51,727.214 1034.74,726.514 1035.98,725.814 1036.39,725.581 1037.21,725.114 1038.03,724.648 \n",
       "  1038.45,724.415 1039.68,723.715 1040.92,723.015 1041.33,722.782 1042.15,722.315 1042.97,721.849 1043.39,721.615 1044.62,720.916 \n",
       "  1045.85,720.216 1046.27,719.983 1047.09,719.516 1047.91,719.05 1048.32,718.816 1049.56,718.116 1050.79,717.417 1051.21,717.183 1052.03,716.717 \n",
       "  1052.85,716.25 1053.26,716.017 1054.5,715.317 1055.73,714.617 1056.15,714.384 1056.97,713.918 1057.79,713.451 1058.2,713.218 1059.44,712.518 \n",
       "  1060.67,711.818 1061.08,711.585 1061.91,711.118 1062.73,710.652 1063.14,710.419 1064.38,709.719 1065.61,709.019 1066.02,708.786 \n",
       "  1066.85,708.319 1067.67,707.853 1068.08,707.619 1069.32,706.92 1070.55,706.22 1070.96,705.987 1071.79,705.52 1072.61,705.054 1073.02,704.82 \n",
       "  1074.26,704.121 1075.49,703.421 1075.9,703.187 1076.73,702.721 1077.55,702.254 1077.96,702.021 1079.19,701.321 1080.43,700.622 \n",
       "  1080.84,700.388 1081.66,699.922 1082.49,699.455 1082.9,699.222 1084.13,698.522 1085.37,697.822 1085.78,697.589 1086.6,697.123 1087.43,696.656 \n",
       "  1087.84,696.423 1089.07,695.723 1090.31,695.023 1090.72,694.79 1091.54,694.323 1092.37,693.857 1092.78,693.624 1094.01,692.924 \n",
       "  1095.25,692.224 1095.66,691.991 1096.48,691.524 1097.31,691.058 1097.72,690.824 1098.95,690.125 1100.19,689.425 1100.6,689.191 1101.42,688.725 \n",
       "  1102.24,688.258 1102.66,688.025 1103.89,687.325 1105.13,686.626 1105.54,686.392 1106.36,685.926 1107.18,685.459 1107.6,685.226 1108.83,684.526 \n",
       "  1110.07,683.826 1110.48,683.593 1111.3,683.127 1112.12,682.66 1112.54,682.427 1113.77,681.727 1115,681.027 1115.42,680.794 \n",
       "  1116.24,680.327 1117.06,679.861 1117.47,679.628 1118.71,678.928 1119.94,678.228 1120.36,677.995 1121.18,677.528 1122,677.062 1122.41,676.828 \n",
       "  1123.65,676.129 1124.88,675.429 1125.29,675.196 1126.12,674.729 1126.94,674.262 1127.35,674.029 1128.59,673.329 1129.82,672.63 \n",
       "  1130.23,672.396 1131.06,671.93 1131.88,671.463 1132.29,671.23 1133.53,670.53 1134.76,669.83 1135.17,669.597 1136,669.131 1136.82,668.664 \n",
       "  1137.23,668.431 1138.47,667.731 1139.7,667.031 1140.11,666.798 1140.94,666.331 1141.76,665.865 1142.17,665.632 1143.41,664.932 \n",
       "  1144.64,664.232 1145.05,663.999 1145.88,663.532 1146.7,663.066 1147.11,662.832 1148.34,662.133 1149.58,661.433 1149.99,661.2 1150.81,660.733 \n",
       "  1151.64,660.267 1152.05,660.033 1153.28,659.333 1154.52,658.634 1154.93,658.4 1155.75,657.934 1156.58,657.467 1156.99,657.234 1158.22,656.534 \n",
       "  1159.46,655.834 1159.87,655.601 1160.69,655.135 1161.52,654.668 1161.93,654.435 1163.16,653.735 1164.4,653.035 1164.81,652.802 \n",
       "  1165.63,652.336 1166.46,651.869 1166.87,651.636 1168.1,650.936 1169.34,650.236 1169.75,650.003 1170.57,649.536 1171.39,649.07 1171.81,648.837 \n",
       "  1173.04,648.137 1174.28,647.437 1174.69,647.204 1175.51,646.737 1176.33,646.271 1176.75,646.037 1177.98,645.338 1179.22,644.638 \n",
       "  1179.63,644.404 1180.45,643.938 1181.27,643.471 1181.68,643.238 1182.92,642.538 1184.15,641.839 1184.57,641.605 1185.39,641.139 1186.21,640.672 \n",
       "  1186.62,640.439 1187.86,639.739 1189.09,639.039 1189.51,638.806 1190.33,638.34 1191.15,637.873 1191.56,637.64 1192.8,636.94 \n",
       "  1194.03,636.24 1194.44,636.007 1195.27,635.54 1196.09,635.074 1196.5,634.841 1197.74,634.141 1198.97,633.441 1199.38,633.208 1200.21,632.741 \n",
       "  1201.03,632.275 1201.44,632.041 1202.68,631.342 1203.91,630.642 1204.32,630.409 1205.15,629.942 1205.97,629.475 1206.38,629.242 1207.62,628.542 \n",
       "  1208.85,627.843 1209.26,627.609 1210.09,627.143 1210.91,626.676 1211.32,626.443 1212.56,625.743 1213.79,625.043 1214.2,624.81 \n",
       "  1215.02,624.344 1215.85,623.877 1216.26,623.644 1217.49,622.944 1218.73,622.244 1219.14,622.011 1219.96,621.544 1220.79,621.078 1221.2,620.845 \n",
       "  1222.43,620.145 1223.67,619.445 1224.08,619.212 1224.9,618.745 1225.73,618.279 1226.14,618.045 1227.37,617.346 1228.61,616.646 \n",
       "  1229.02,616.413 1229.84,615.946 1230.67,615.48 1231.08,615.246 1232.31,614.546 1233.55,613.847 1233.96,613.613 1234.78,613.147 1235.61,612.68 \n",
       "  1236.02,612.447 1237.25,611.747 1238.49,611.047 1238.9,610.814 1239.72,610.348 1240.54,609.881 1240.96,609.648 1242.19,608.948 \n",
       "  \n",
       "  \"/>\n",
       "<polyline clip-path=\"url(#clip9203)\" style=\"stroke:#ed6a23; stroke-width:4; stroke-opacity:1; fill:none\" points=\"\n",
       "  1242.19,608.948 1243.43,608.248 1243.84,608.015 1244.66,607.548 1245.48,607.082 1245.9,606.849 1247.13,606.149 1248.37,605.449 1248.78,605.216 \n",
       "  1249.6,604.749 1250.42,604.283 1250.83,604.049 1252.07,603.35 1253.3,602.65 1253.72,602.417 1254.54,601.95 1255.36,601.484 1255.77,601.25 \n",
       "  1257.01,600.55 1258.24,599.851 1258.66,599.617 1259.48,599.151 1260.3,598.684 1260.71,598.451 1261.95,597.751 1261.95,597.751 1263.18,597.052 \n",
       "  1263.59,596.818 1264.42,596.352 1265.24,595.885 1265.65,595.652 1266.89,594.952 1268.12,594.252 1268.53,594.019 1269.36,593.553 1270.18,593.086 \n",
       "  1270.59,592.853 1271.83,592.153 1273.06,591.453 1273.47,591.22 1274.3,590.753 1275.12,590.287 1275.53,590.054 1276.77,589.354 \n",
       "  1278,588.654 1278.41,588.421 1279.24,587.954 1280.06,587.488 1280.47,587.254 1281.71,586.555 1282.94,585.855 1283.35,585.621 1284.17,585.155 \n",
       "  1285,584.688 1285.41,584.455 1286.64,583.755 1287.88,583.056 1288.29,582.822 1289.11,582.356 1289.94,581.889 1290.35,581.656 1291.58,580.956 \n",
       "  1292.82,580.256 1293.23,580.023 1294.05,579.557 1294.88,579.09 1295.29,578.857 1296.52,578.157 1297.76,577.457 1298.17,577.224 \n",
       "  1298.99,576.757 1299.82,576.291 1300.23,576.058 1301.46,575.358 1302.7,574.658 1303.11,574.425 1303.93,573.958 1304.76,573.492 1305.17,573.258 \n",
       "  1306.4,572.559 1307.64,571.859 1308.05,571.626 1308.87,571.159 1309.69,570.692 1310.11,570.459 1311.34,569.759 1312.58,569.06 \n",
       "  1312.99,568.826 1313.81,568.36 1314.63,567.893 1315.05,567.66 1316.28,566.96 1317.51,566.26 1317.93,566.027 1318.75,565.561 1319.57,565.094 \n",
       "  1319.98,564.861 1321.22,564.161 1322.45,563.461 1322.87,563.228 1323.69,562.761 1324.51,562.295 1324.92,562.062 1326.16,561.362 \n",
       "  1327.39,560.662 1327.81,560.429 1328.63,559.962 1329.45,559.496 1329.86,559.262 1331.1,558.563 1332.33,557.863 1332.74,557.63 1333.57,557.163 \n",
       "  1334.39,556.697 1334.8,556.463 1336.04,555.763 1336.04,555.763 1337.27,555.064 1337.68,554.83 1338.51,554.364 1339.33,553.897 1339.74,553.664 1340.98,552.964 \n",
       "  1342.21,552.264 1342.62,552.031 1343.45,551.565 1344.27,551.098 1344.68,550.865 1345.92,550.165 1347.15,549.465 1347.56,549.232 \n",
       "  1348.39,548.765 1349.21,548.299 1349.62,548.066 1350.85,547.366 1352.09,546.666 1352.5,546.433 1353.32,545.966 1354.15,545.5 1354.56,545.267 \n",
       "  1355.79,544.567 1357.03,543.867 1357.44,543.634 1358.26,543.167 1359.09,542.701 1359.5,542.467 1360.73,541.768 1361.97,541.068 \n",
       "  1362.38,540.834 1363.2,540.368 1364.03,539.901 1364.44,539.668 1365.67,538.968 1365.67,538.968 1366.91,538.269 1367.32,538.035 1368.14,537.569 1368.97,537.102 \n",
       "  1369.38,536.869 1370.61,536.169 1371.85,535.469 1372.26,535.236 1373.08,534.77 1373.9,534.303 1374.32,534.07 1375.55,533.37 \n",
       "  1376.79,532.67 1377.2,532.437 1378.02,531.97 1378.84,531.504 1379.26,531.271 1380.49,530.571 1381.73,529.871 1382.14,529.638 1382.96,529.171 \n",
       "  1383.78,528.705 1384.2,528.471 1385.43,527.772 1385.43,527.772 1386.66,527.072 1387.08,526.839 1387.9,526.372 1388.72,525.905 1389.13,525.672 1390.37,524.972 \n",
       "  1391.6,524.273 1392.02,524.039 1392.84,523.573 1393.66,523.106 1394.07,522.873 1395.31,522.173 1396.54,521.473 1396.95,521.24 \n",
       "  1397.78,520.774 1398.6,520.307 1399.01,520.074 1400.25,519.374 1401.48,518.674 1401.89,518.441 1402.72,517.974 1403.54,517.508 1403.95,517.275 \n",
       "  1405.19,516.575 1406.42,515.875 1406.83,515.642 1407.66,515.175 1408.48,514.709 1408.89,514.475 1410.13,513.776 1410.13,513.776 1411.36,513.076 \n",
       "  1411.77,512.843 1412.6,512.376 1413.42,511.91 1413.83,511.676 1415.07,510.976 1416.3,510.277 1416.71,510.043 1417.54,509.577 1418.36,509.11 \n",
       "  1418.77,508.877 1420,508.177 1421.24,507.477 1421.65,507.244 1422.47,506.778 1423.3,506.311 1423.71,506.078 1424.94,505.378 1424.94,505.378 \n",
       "  1426.18,504.678 1426.59,504.445 1427.41,503.978 1428.24,503.512 1428.65,503.279 1429.88,502.579 1431.12,501.879 1431.53,501.646 1432.35,501.179 \n",
       "  1433.18,500.713 1433.59,500.479 1434.82,499.78 1436.06,499.08 1436.47,498.847 1437.29,498.38 1438.12,497.914 1438.53,497.68 1439.76,496.98 \n",
       "  1439.76,496.98 1441,496.281 1441.41,496.047 1442.23,495.581 1443.05,495.114 1443.47,494.881 1444.7,494.181 1445.94,493.482 1446.35,493.248 \n",
       "  1447.17,492.782 1447.99,492.315 1448.41,492.082 1449.64,491.382 1450.88,490.682 1451.29,490.449 1452.11,489.983 1452.93,489.516 1453.34,489.283 \n",
       "  1454.58,488.583 1455.81,487.883 1456.23,487.65 1457.05,487.183 1457.87,486.717 1458.28,486.484 1459.52,485.784 1459.52,485.784 1460.75,485.084 \n",
       "  1461.17,484.851 1461.99,484.384 1462.81,483.918 1463.22,483.684 1464.46,482.985 1465.69,482.285 1466.1,482.051 1466.93,481.585 1467.75,481.118 \n",
       "  1468.16,480.885 1469.4,480.185 1470.63,479.486 1471.04,479.252 1471.87,478.786 1472.69,478.319 1473.1,478.086 1474.34,477.386 \n",
       "  1475.57,476.686 1475.98,476.453 1476.81,475.987 1477.63,475.52 1478.04,475.287 1479.28,474.587 1480.51,473.887 1480.92,473.654 1481.75,473.187 \n",
       "  1482.57,472.721 1482.98,472.488 1484.22,471.788 \n",
       "  \"/>\n",
       "<circle clip-path=\"url(#clip9203)\" style=\"fill:#000000; stroke:none; fill-opacity:1\" cx=\"1302.62\" cy=\"574.699\" r=\"18\"/>\n",
       "<circle clip-path=\"url(#clip9203)\" style=\"fill:#3da44d; stroke:none; fill-opacity:1\" cx=\"1302.62\" cy=\"574.699\" r=\"14\"/>\n",
       "<polygon clip-path=\"url(#clip9201)\" points=\"\n",
       "1139.35,203.724 1473.26,203.724 1473.26,82.7641 1139.35,82.7641 \n",
       "  \" fill=\"#ffffff\" fill-rule=\"evenodd\" fill-opacity=\"1\"/>\n",
       "<polyline clip-path=\"url(#clip9201)\" style=\"stroke:#000000; stroke-width:4; stroke-opacity:1; fill:none\" points=\"\n",
       "  1139.35,203.724 1473.26,203.724 1473.26,82.7641 1139.35,82.7641 1139.35,203.724 \n",
       "  \"/>\n",
       "<circle clip-path=\"url(#clip9201)\" style=\"fill:#000000; stroke:none; fill-opacity:1\" cx=\"1211.35\" cy=\"143.244\" r=\"25\"/>\n",
       "<circle clip-path=\"url(#clip9201)\" style=\"fill:#3da44d; stroke:none; fill-opacity:1\" cx=\"1211.35\" cy=\"143.244\" r=\"21\"/>\n",
       "<g clip-path=\"url(#clip9201)\">\n",
       "<text style=\"fill:#000000; fill-opacity:1; font-family:Arial,Helvetica Neue,Helvetica,sans-serif; font-size:48px; text-anchor:start;\" transform=\"rotate(0, 1267.35, 160.744)\" x=\"1267.35\" y=\"160.744\">Solução</text>\n",
       "</g>\n",
       "</svg>\n"
      ]
     },
     "execution_count": 216,
     "metadata": {},
     "output_type": "execute_result"
    }
   ],
   "source": [
    "contour(-5:0.01:5, -5:0.01:5, f3, levels = [0], line = 3)\n",
    "contour!(-5:0.01:5, -5:0.01:5, f4, levels = [0], xlabel = \"x\", ylabel = \"y\", size = (400, 300))\n",
    "scatter!((xs, ys), label = \"Solução\")"
   ]
  },
  {
   "cell_type": "markdown",
   "metadata": {},
   "source": [
    "#### SOLUÇÃO NUMÉRICA"
   ]
  },
  {
   "cell_type": "code",
   "execution_count": 217,
   "metadata": {
    "collapsed": false,
    "scrolled": false
   },
   "outputs": [
    {
     "data": {
      "text/latex": [
       "\\begin{bmatrix}3.529411764705882352941176470588235294117647058823529411764705882352941176471\\\\-0.3529411764705882352941176470588235294117647058823529411764705882352941176471\\end{bmatrix}"
      ],
      "text/plain": [
       "2-element Array{Sym,1}:\n",
       "   3.529411764705882352941176470588235294117647058823529411764705882352941176471\n",
       " -0.3529411764705882352941176470588235294117647058823529411764705882352941176471"
      ]
     },
     "execution_count": 217,
     "metadata": {},
     "output_type": "execute_result"
    }
   ],
   "source": [
    "nsol_sis = nsolve([f3(x,y) , f4(x,y) ], [x , y], [0, 1], prec = 7)"
   ]
  },
  {
   "cell_type": "code",
   "execution_count": 218,
   "metadata": {
    "collapsed": false
   },
   "outputs": [
    {
     "data": {
      "text/plain": [
       "Array{Sym,1}"
      ]
     },
     "execution_count": 218,
     "metadata": {},
     "output_type": "execute_result"
    }
   ],
   "source": [
    "typeof(nsol_sis)"
   ]
  },
  {
   "cell_type": "markdown",
   "metadata": {},
   "source": [
    "A função nsolve() retorna o resultado do tipo Array{Sym,1}. É interssante converter para um valor numérico (Ex: `Float`). Para acessar a solução $−0.3529412$ use:"
   ]
  },
  {
   "cell_type": "code",
   "execution_count": 219,
   "metadata": {
    "collapsed": false
   },
   "outputs": [
    {
     "data": {
      "text/latex": [
       "\\begin{equation*}-0.3529411764705882352941176470588235294117647058823529411764705882352941176471\\end{equation*}"
      ],
      "text/plain": [
       "-0.352941176470588235294117647058823529411764705882352941176470588235294117647\n",
       "1"
      ]
     },
     "execution_count": 219,
     "metadata": {},
     "output_type": "execute_result"
    }
   ],
   "source": [
    "nsol_sis[2]"
   ]
  },
  {
   "cell_type": "markdown",
   "metadata": {},
   "source": [
    "### SISTEMAS DE EQUAÇÕES NÃO LINEARES"
   ]
  },
  {
   "cell_type": "markdown",
   "metadata": {},
   "source": [
    "Exemplo: Resolver o seguinte sistema de equações não-lineares abaixo:\n",
    "\n",
    "${\\begin{cases}\n",
    "& xy -2x ~~~~~~~~~ = 0 \\\\ \n",
    "&- x^2 + 8y -2 = 0 \n",
    "\\end{cases}}$"
   ]
  },
  {
   "cell_type": "markdown",
   "metadata": {},
   "source": [
    "**Gráfico**\n",
    "\n",
    "O gráfico permite observar o ponto de cruzamento das curvas que corresponde à solução do problema.  Será utilizado o pacote `Plots.jl` para gerar o gráfico."
   ]
  },
  {
   "cell_type": "code",
   "execution_count": 220,
   "metadata": {
    "collapsed": false
   },
   "outputs": [
    {
     "data": {
      "text/plain": [
       "f6 (generic function with 1 method)"
      ]
     },
     "execution_count": 220,
     "metadata": {},
     "output_type": "execute_result"
    }
   ],
   "source": [
    "# Funções genéricas\n",
    "f5(x,y) = 3*x + cos(y)  - 5\n",
    "f6(x,y) = -sin(x) + y - 2"
   ]
  },
  {
   "cell_type": "code",
   "execution_count": 221,
   "metadata": {
    "collapsed": false,
    "scrolled": true
   },
   "outputs": [
    {
     "data": {
      "text/plain": [
       "Plots.GRBackend()"
      ]
     },
     "execution_count": 221,
     "metadata": {},
     "output_type": "execute_result"
    }
   ],
   "source": [
    "using Plots\n",
    "gr()"
   ]
  },
  {
   "cell_type": "code",
   "execution_count": 222,
   "metadata": {
    "collapsed": false,
    "scrolled": true
   },
   "outputs": [
    {
     "data": {
      "image/svg+xml": [
       "<?xml version=\"1.0\" encoding=\"utf-8\"?>\n",
       "<svg xmlns=\"http://www.w3.org/2000/svg\" xmlns:xlink=\"http://www.w3.org/1999/xlink\" width=\"400\" height=\"300\" viewBox=\"0 0 1600 1200\">\n",
       "<defs>\n",
       "  <clipPath id=\"clip9400\">\n",
       "    <rect x=\"0\" y=\"0\" width=\"2000\" height=\"2000\"/>\n",
       "  </clipPath>\n",
       "</defs>\n",
       "<defs>\n",
       "  <clipPath id=\"clip9401\">\n",
       "    <rect x=\"0\" y=\"0\" width=\"1600\" height=\"1200\"/>\n",
       "  </clipPath>\n",
       "</defs>\n",
       "<polygon clip-path=\"url(#clip9401)\" points=\"\n",
       "0,1200 1600,1200 1600,0 0,0 \n",
       "  \" fill=\"#ffffff\" fill-rule=\"evenodd\" fill-opacity=\"1\"/>\n",
       "<defs>\n",
       "  <clipPath id=\"clip9402\">\n",
       "    <rect x=\"320\" y=\"0\" width=\"1121\" height=\"1121\"/>\n",
       "  </clipPath>\n",
       "</defs>\n",
       "<polygon clip-path=\"url(#clip9401)\" points=\"\n",
       "252.496,1036.29 1521.26,1036.29 1521.26,47.2441 252.496,47.2441 \n",
       "  \" fill=\"#ffffff\" fill-rule=\"evenodd\" fill-opacity=\"1\"/>\n",
       "<defs>\n",
       "  <clipPath id=\"clip9403\">\n",
       "    <rect x=\"252\" y=\"47\" width=\"1270\" height=\"990\"/>\n",
       "  </clipPath>\n",
       "</defs>\n",
       "<polyline clip-path=\"url(#clip9403)\" style=\"stroke:#000000; stroke-width:2; stroke-opacity:0.1; fill:none\" points=\"\n",
       "  252.496,1036.29 252.496,47.2441 \n",
       "  \"/>\n",
       "<polyline clip-path=\"url(#clip9403)\" style=\"stroke:#000000; stroke-width:2; stroke-opacity:0.1; fill:none\" points=\"\n",
       "  569.687,1036.29 569.687,47.2441 \n",
       "  \"/>\n",
       "<polyline clip-path=\"url(#clip9403)\" style=\"stroke:#000000; stroke-width:2; stroke-opacity:0.1; fill:none\" points=\"\n",
       "  886.878,1036.29 886.878,47.2441 \n",
       "  \"/>\n",
       "<polyline clip-path=\"url(#clip9403)\" style=\"stroke:#000000; stroke-width:2; stroke-opacity:0.1; fill:none\" points=\"\n",
       "  1204.07,1036.29 1204.07,47.2441 \n",
       "  \"/>\n",
       "<polyline clip-path=\"url(#clip9403)\" style=\"stroke:#000000; stroke-width:2; stroke-opacity:0.1; fill:none\" points=\"\n",
       "  1521.26,1036.29 1521.26,47.2441 \n",
       "  \"/>\n",
       "<polyline clip-path=\"url(#clip9403)\" style=\"stroke:#000000; stroke-width:2; stroke-opacity:0.1; fill:none\" points=\"\n",
       "  252.496,1036.29 1521.26,1036.29 \n",
       "  \"/>\n",
       "<polyline clip-path=\"url(#clip9403)\" style=\"stroke:#000000; stroke-width:2; stroke-opacity:0.1; fill:none\" points=\"\n",
       "  252.496,789.029 1521.26,789.029 \n",
       "  \"/>\n",
       "<polyline clip-path=\"url(#clip9403)\" style=\"stroke:#000000; stroke-width:2; stroke-opacity:0.1; fill:none\" points=\"\n",
       "  252.496,541.768 1521.26,541.768 \n",
       "  \"/>\n",
       "<polyline clip-path=\"url(#clip9403)\" style=\"stroke:#000000; stroke-width:2; stroke-opacity:0.1; fill:none\" points=\"\n",
       "  252.496,294.506 1521.26,294.506 \n",
       "  \"/>\n",
       "<polyline clip-path=\"url(#clip9403)\" style=\"stroke:#000000; stroke-width:2; stroke-opacity:0.1; fill:none\" points=\"\n",
       "  252.496,47.2441 1521.26,47.2441 \n",
       "  \"/>\n",
       "<polyline clip-path=\"url(#clip9401)\" style=\"stroke:#000000; stroke-width:4; stroke-opacity:1; fill:none\" points=\"\n",
       "  252.496,1036.29 1521.26,1036.29 \n",
       "  \"/>\n",
       "<polyline clip-path=\"url(#clip9401)\" style=\"stroke:#000000; stroke-width:4; stroke-opacity:1; fill:none\" points=\"\n",
       "  252.496,1036.29 252.496,47.2441 \n",
       "  \"/>\n",
       "<polyline clip-path=\"url(#clip9401)\" style=\"stroke:#000000; stroke-width:4; stroke-opacity:1; fill:none\" points=\"\n",
       "  252.496,1036.29 252.496,1021.46 \n",
       "  \"/>\n",
       "<polyline clip-path=\"url(#clip9401)\" style=\"stroke:#000000; stroke-width:4; stroke-opacity:1; fill:none\" points=\"\n",
       "  569.687,1036.29 569.687,1021.46 \n",
       "  \"/>\n",
       "<polyline clip-path=\"url(#clip9401)\" style=\"stroke:#000000; stroke-width:4; stroke-opacity:1; fill:none\" points=\"\n",
       "  886.878,1036.29 886.878,1021.46 \n",
       "  \"/>\n",
       "<polyline clip-path=\"url(#clip9401)\" style=\"stroke:#000000; stroke-width:4; stroke-opacity:1; fill:none\" points=\"\n",
       "  1204.07,1036.29 1204.07,1021.46 \n",
       "  \"/>\n",
       "<polyline clip-path=\"url(#clip9401)\" style=\"stroke:#000000; stroke-width:4; stroke-opacity:1; fill:none\" points=\"\n",
       "  1521.26,1036.29 1521.26,1021.46 \n",
       "  \"/>\n",
       "<polyline clip-path=\"url(#clip9401)\" style=\"stroke:#000000; stroke-width:4; stroke-opacity:1; fill:none\" points=\"\n",
       "  252.496,1036.29 271.528,1036.29 \n",
       "  \"/>\n",
       "<polyline clip-path=\"url(#clip9401)\" style=\"stroke:#000000; stroke-width:4; stroke-opacity:1; fill:none\" points=\"\n",
       "  252.496,789.029 271.528,789.029 \n",
       "  \"/>\n",
       "<polyline clip-path=\"url(#clip9401)\" style=\"stroke:#000000; stroke-width:4; stroke-opacity:1; fill:none\" points=\"\n",
       "  252.496,541.768 271.528,541.768 \n",
       "  \"/>\n",
       "<polyline clip-path=\"url(#clip9401)\" style=\"stroke:#000000; stroke-width:4; stroke-opacity:1; fill:none\" points=\"\n",
       "  252.496,294.506 271.528,294.506 \n",
       "  \"/>\n",
       "<polyline clip-path=\"url(#clip9401)\" style=\"stroke:#000000; stroke-width:4; stroke-opacity:1; fill:none\" points=\"\n",
       "  252.496,47.2441 271.528,47.2441 \n",
       "  \"/>\n",
       "<g clip-path=\"url(#clip9401)\">\n",
       "<text style=\"fill:#000000; fill-opacity:1; font-family:Arial,Helvetica Neue,Helvetica,sans-serif; font-size:48px; text-anchor:middle;\" transform=\"rotate(0, 252.496, 1086.29)\" x=\"252.496\" y=\"1086.29\">-5.0</text>\n",
       "</g>\n",
       "<g clip-path=\"url(#clip9401)\">\n",
       "<text style=\"fill:#000000; fill-opacity:1; font-family:Arial,Helvetica Neue,Helvetica,sans-serif; font-size:48px; text-anchor:middle;\" transform=\"rotate(0, 569.687, 1086.29)\" x=\"569.687\" y=\"1086.29\">-2.5</text>\n",
       "</g>\n",
       "<g clip-path=\"url(#clip9401)\">\n",
       "<text style=\"fill:#000000; fill-opacity:1; font-family:Arial,Helvetica Neue,Helvetica,sans-serif; font-size:48px; text-anchor:middle;\" transform=\"rotate(0, 886.878, 1086.29)\" x=\"886.878\" y=\"1086.29\">0.0</text>\n",
       "</g>\n",
       "<g clip-path=\"url(#clip9401)\">\n",
       "<text style=\"fill:#000000; fill-opacity:1; font-family:Arial,Helvetica Neue,Helvetica,sans-serif; font-size:48px; text-anchor:middle;\" transform=\"rotate(0, 1204.07, 1086.29)\" x=\"1204.07\" y=\"1086.29\">2.5</text>\n",
       "</g>\n",
       "<g clip-path=\"url(#clip9401)\">\n",
       "<text style=\"fill:#000000; fill-opacity:1; font-family:Arial,Helvetica Neue,Helvetica,sans-serif; font-size:48px; text-anchor:middle;\" transform=\"rotate(0, 1521.26, 1086.29)\" x=\"1521.26\" y=\"1086.29\">5.0</text>\n",
       "</g>\n",
       "<g clip-path=\"url(#clip9401)\">\n",
       "<text style=\"fill:#000000; fill-opacity:1; font-family:Arial,Helvetica Neue,Helvetica,sans-serif; font-size:48px; text-anchor:end;\" transform=\"rotate(0, 236.496, 1053.79)\" x=\"236.496\" y=\"1053.79\">-5.0</text>\n",
       "</g>\n",
       "<g clip-path=\"url(#clip9401)\">\n",
       "<text style=\"fill:#000000; fill-opacity:1; font-family:Arial,Helvetica Neue,Helvetica,sans-serif; font-size:48px; text-anchor:end;\" transform=\"rotate(0, 236.496, 806.529)\" x=\"236.496\" y=\"806.529\">-2.5</text>\n",
       "</g>\n",
       "<g clip-path=\"url(#clip9401)\">\n",
       "<text style=\"fill:#000000; fill-opacity:1; font-family:Arial,Helvetica Neue,Helvetica,sans-serif; font-size:48px; text-anchor:end;\" transform=\"rotate(0, 236.496, 559.268)\" x=\"236.496\" y=\"559.268\">0.0</text>\n",
       "</g>\n",
       "<g clip-path=\"url(#clip9401)\">\n",
       "<text style=\"fill:#000000; fill-opacity:1; font-family:Arial,Helvetica Neue,Helvetica,sans-serif; font-size:48px; text-anchor:end;\" transform=\"rotate(0, 236.496, 312.006)\" x=\"236.496\" y=\"312.006\">2.5</text>\n",
       "</g>\n",
       "<g clip-path=\"url(#clip9401)\">\n",
       "<text style=\"fill:#000000; fill-opacity:1; font-family:Arial,Helvetica Neue,Helvetica,sans-serif; font-size:48px; text-anchor:end;\" transform=\"rotate(0, 236.496, 64.7441)\" x=\"236.496\" y=\"64.7441\">5.0</text>\n",
       "</g>\n",
       "<g clip-path=\"url(#clip9401)\">\n",
       "<text style=\"fill:#000000; fill-opacity:1; font-family:Arial,Helvetica Neue,Helvetica,sans-serif; font-size:66px; text-anchor:middle;\" transform=\"rotate(0, 886.878, 1190.4)\" x=\"886.878\" y=\"1190.4\">x</text>\n",
       "</g>\n",
       "<g clip-path=\"url(#clip9401)\">\n",
       "<text style=\"fill:#000000; fill-opacity:1; font-family:Arial,Helvetica Neue,Helvetica,sans-serif; font-size:66px; text-anchor:middle;\" transform=\"rotate(-90, 57.6, 541.768)\" x=\"57.6\" y=\"541.768\">y</text>\n",
       "</g>\n",
       "<polyline clip-path=\"url(#clip9403)\" style=\"stroke:#ea6428; stroke-width:12; stroke-opacity:1; fill:none\" points=\"\n",
       "  1086.34,1036.29 1086.75,1035.3 1087.16,1034.31 1087.34,1033.86 1087.56,1033.32 1087.97,1032.33 1088.38,1031.35 1088.61,1030.8 1088.8,1030.36 1089.21,1029.37 \n",
       "  1089.62,1028.38 1089.88,1027.76 1090.04,1027.39 1090.45,1026.4 1090.87,1025.41 1091.15,1024.74 1091.28,1024.42 1091.7,1023.43 1092.12,1022.44 1092.42,1021.74 \n",
       "  1092.54,1021.46 1092.96,1020.47 1093.38,1019.48 1093.69,1018.75 1093.8,1018.49 1094.22,1017.5 1094.64,1016.51 1094.96,1015.77 1095.06,1015.52 1095.48,1014.53 \n",
       "  1095.9,1013.54 1096.22,1012.79 1096.33,1012.55 1096.75,1011.56 1097.17,1010.58 1097.49,1009.82 1097.59,1009.59 1098.02,1008.6 1098.44,1007.61 1098.76,1006.86 \n",
       "  1098.86,1006.62 1099.29,1005.63 1099.71,1004.64 1100.03,1003.89 1100.13,1003.65 1100.55,1002.66 1100.98,1001.67 1101.3,1000.92 1101.4,1000.69 1101.82,999.696 \n",
       "  1102.24,998.707 1102.57,997.938 1102.66,997.718 1103.08,996.729 1103.5,995.74 1103.84,994.951 1103.92,994.751 1104.34,993.762 1104.76,992.773 1105.11,991.952 \n",
       "  1105.18,991.784 1105.59,990.795 1106.01,989.806 1106.37,988.938 1106.43,988.817 1106.84,987.828 1107.25,986.839 1107.64,985.906 1107.67,985.85 1108.08,984.861 \n",
       "  1108.49,983.871 1108.9,982.882 1108.91,982.854 1109.31,981.893 1109.72,980.904 1110.12,979.915 1110.18,979.776 1110.53,978.926 1110.93,977.937 1111.34,976.948 \n",
       "  1111.45,976.67 1111.74,975.959 1112.14,974.97 1112.54,973.981 1112.72,973.533 1112.94,972.992 1113.33,972.003 1113.73,971.014 1113.99,970.359 1114.12,970.025 \n",
       "  1114.51,969.036 1114.9,968.047 1115.26,967.144 1115.29,967.058 1115.68,966.069 1116.06,965.08 1116.44,964.091 1116.52,963.882 1116.83,963.101 1117.2,962.112 \n",
       "  1117.58,961.123 1117.79,960.568 1117.96,960.134 1118.33,959.145 1118.7,958.156 1119.06,957.197 1119.07,957.167 1119.44,956.178 1119.81,955.189 1120.17,954.2 \n",
       "  1120.33,953.758 1120.53,953.211 1120.89,952.222 1121.25,951.233 1121.6,950.246 1121.6,950.244 1121.95,949.255 1122.3,948.266 1122.65,947.277 1122.87,946.649 \n",
       "  1122.99,946.288 1123.34,945.299 1123.68,944.31 1124.01,943.321 1124.14,942.957 1124.35,942.332 1124.68,941.342 1125.01,940.353 1125.34,939.364 1125.41,939.155 \n",
       "  1125.66,938.375 1125.98,937.386 1126.3,936.397 1126.62,935.408 1126.67,935.228 1126.93,934.419 1127.24,933.43 1127.55,932.441 1127.85,931.452 1127.94,931.153 \n",
       "  1128.15,930.463 1128.45,929.474 1128.75,928.485 1129.04,927.496 1129.21,926.908 1129.33,926.507 1129.62,925.518 1129.9,924.529 1130.18,923.54 1130.46,922.551 \n",
       "  1130.48,922.459 1130.73,921.562 1131,920.572 1131.27,919.583 1131.53,918.594 1131.75,917.761 1131.79,917.605 1132.05,916.616 1132.3,915.627 1132.55,914.638 \n",
       "  1132.8,913.649 1133.02,912.756 1133.04,912.66 1133.28,911.671 1133.52,910.682 1133.75,909.693 1133.98,908.704 1134.21,907.715 1134.29,907.357 1134.43,906.726 \n",
       "  1134.65,905.737 1134.86,904.748 1135.07,903.759 1135.28,902.77 1135.49,901.781 1135.56,901.435 1135.69,900.792 1135.88,899.802 1136.08,898.813 1136.26,897.824 \n",
       "  1136.45,896.835 1136.63,895.846 1136.81,894.857 1136.82,894.768 1136.98,893.868 1137.15,892.879 1137.32,891.89 1137.48,890.901 1137.64,889.912 1137.79,888.923 \n",
       "  1137.94,887.934 1138.09,886.945 1138.09,886.921 1138.23,885.956 1138.37,884.967 1138.5,883.978 1138.64,882.989 1138.76,882 1138.88,881.011 1139,880.022 \n",
       "  1139.12,879.033 1139.23,878.043 1139.33,877.054 1139.36,876.769 1139.43,876.065 1139.53,875.076 1139.63,874.087 1139.72,873.098 1139.8,872.109 1139.88,871.12 \n",
       "  1139.96,870.131 1140.03,869.142 1140.1,868.153 1140.17,867.164 1140.23,866.175 1140.28,865.186 1140.33,864.197 1140.38,863.208 1140.43,862.219 1140.47,861.23 \n",
       "  1140.5,860.241 1140.53,859.252 1140.56,858.263 1140.58,857.273 1140.6,856.284 1140.61,855.295 1140.62,854.306 1140.63,853.317 1140.63,852.328 1140.63,851.339 \n",
       "  1140.62,850.35 1140.61,849.361 1140.59,848.372 1140.57,847.383 1140.55,846.394 1140.52,845.405 1140.49,844.416 1140.45,843.427 1140.41,842.438 1140.37,841.449 \n",
       "  1140.32,840.46 1140.27,839.471 1140.21,838.482 1140.15,837.493 1140.08,836.503 1140.01,835.514 1139.94,834.525 1139.86,833.536 1139.77,832.547 1139.69,831.558 \n",
       "  1139.6,830.569 1139.5,829.58 1139.4,828.591 1139.36,828.203 1139.3,827.602 1139.19,826.613 1139.08,825.624 1138.97,824.635 1138.85,823.646 1138.72,822.657 \n",
       "  1138.59,821.668 1138.46,820.679 1138.33,819.69 1138.19,818.701 1138.09,818.054 1138.04,817.712 1137.9,816.723 1137.74,815.734 1137.59,814.744 1137.43,813.755 \n",
       "  1137.27,812.766 1137.1,811.777 1136.93,810.788 1136.82,810.205 1136.75,809.799 1136.57,808.81 1136.39,807.821 1136.2,806.832 1136.01,805.843 1135.82,804.854 \n",
       "  1135.62,803.865 1135.56,803.536 1135.42,802.876 1135.22,801.887 1135.01,800.898 1134.79,799.909 1134.58,798.92 1134.36,797.931 1134.29,797.614 1134.14,796.942 \n",
       "  1133.91,795.953 1133.68,794.964 1133.44,793.974 1133.21,792.985 1133.02,792.216 1132.96,791.996 1132.72,791.007 1132.47,790.018 1132.22,789.029 1131.97,788.04 \n",
       "  1131.75,787.211 1131.71,787.051 1131.45,786.062 1131.18,785.073 1130.91,784.084 1130.64,783.095 1130.48,782.514 1130.37,782.106 1130.09,781.117 1129.81,780.128 \n",
       "  1129.52,779.139 1129.24,778.15 1129.21,778.063 1128.95,777.161 1128.65,776.172 1128.36,775.183 1128.06,774.194 1127.94,773.818 1127.76,773.204 1127.45,772.215 \n",
       "  1127.14,771.226 1126.83,770.237 1126.67,769.744 1126.52,769.248 1126.2,768.259 1125.88,767.27 1125.56,766.281 1125.41,765.817 1125.23,765.292 1124.91,764.303 \n",
       "  1124.58,763.314 1124.24,762.325 1124.14,762.015 1123.91,761.336 1123.57,760.347 1123.23,759.358 1122.88,758.369 1122.87,758.322 1122.54,757.38 1122.19,756.391 \n",
       "  1121.84,755.402 1121.6,754.726 1121.49,754.413 1121.13,753.424 1120.78,752.435 1120.42,751.445 1120.33,751.213 1120.05,750.456 1119.69,749.467 1119.32,748.478 \n",
       "  1119.06,747.775 1118.96,747.489 1118.59,746.5 1118.21,745.511 1117.84,744.522 1117.79,744.403 1117.46,743.533 1117.08,742.544 1116.7,741.555 1116.52,741.09 \n",
       "  1116.32,740.566 1115.94,739.577 1115.55,738.588 1115.26,737.828 1115.17,737.599 1114.78,736.61 1114.39,735.621 1113.99,734.632 1113.99,734.612 1113.6,733.643 \n",
       "  1113.21,732.654 1112.81,731.665 1112.72,731.439 1112.41,730.675 1112.01,729.686 1111.61,728.697 1111.45,728.301 1111.21,727.708 1110.8,726.719 1110.4,725.73 \n",
       "  1110.18,725.196 1109.99,724.741 1109.59,723.752 1109.18,722.763 1108.91,722.118 1108.77,721.774 1108.36,720.785 1107.95,719.796 1107.64,719.065 1107.54,718.807 \n",
       "  1107.12,717.818 1106.71,716.829 1106.37,716.034 1106.29,715.84 1105.88,714.851 1105.46,713.862 1105.11,713.02 1105.04,712.873 1104.63,711.884 1104.21,710.895 \n",
       "  1103.84,710.021 1103.79,709.905 1103.37,708.916 1102.95,707.927 1102.57,707.034 1102.53,706.938 1102.11,705.949 1101.68,704.96 1101.3,704.056 1101.26,703.971 \n",
       "  1100.84,702.982 1100.42,701.993 1100.03,701.084 1100,701.004 1099.57,700.015 1099.15,699.026 1098.76,698.116 1098.73,698.037 1098.3,697.048 1097.88,696.059 \n",
       "  1097.49,695.148 1097.46,695.07 1097.04,694.081 1096.61,693.092 1096.22,692.179 1096.19,692.103 1095.77,691.114 1095.35,690.125 1094.96,689.206 1094.93,689.136 \n",
       "  1094.5,688.146 1094.08,687.157 1093.69,686.225 1093.66,686.168 1093.24,685.179 1092.82,684.19 1092.42,683.234 1092.4,683.201 1091.99,682.212 1091.57,681.223 \n",
       "  1091.15,680.234 1091.15,680.231 1090.73,679.245 1090.32,678.256 1089.9,677.267 1089.88,677.211 1089.49,676.278 1089.08,675.289 1088.66,674.3 1088.61,674.173 \n",
       "  1088.25,673.311 1087.84,672.322 1087.43,671.333 1087.34,671.112 1087.03,670.344 1086.62,669.355 1086.21,668.366 1086.07,668.026 1085.81,667.376 1085.4,666.387 \n",
       "  1085,665.398 1084.81,664.91 1084.6,664.409 1084.2,663.42 1083.81,662.431 1083.54,661.761 1083.41,661.442 1083.01,660.453 1082.62,659.464 1082.27,658.574 \n",
       "  1082.23,658.475 1081.84,657.486 1081.45,656.497 1081.06,655.508 1081,655.344 1080.68,654.519 1080.29,653.53 1079.91,652.541 1079.73,652.065 1079.53,651.552 \n",
       "  1079.16,650.563 1078.78,649.574 1078.46,648.733 1078.41,648.585 1078.03,647.596 1077.66,646.606 1077.3,645.617 1077.19,645.34 1076.93,644.628 1076.57,643.639 \n",
       "  1076.2,642.65 1075.92,641.878 1075.85,641.661 1075.49,640.672 1075.13,639.683 1074.78,638.694 1074.66,638.338 1074.43,637.705 1074.08,636.716 1073.74,635.727 \n",
       "  1073.4,634.738 1073.39,634.712 1073.05,633.749 1072.72,632.76 1072.38,631.771 1072.12,630.984 1072.05,630.782 1071.72,629.793 1071.39,628.804 1071.07,627.815 \n",
       "  1070.85,627.142 1070.75,626.826 1070.43,625.837 1070.11,624.847 1069.8,623.858 1069.58,623.168 1069.49,622.869 1069.18,621.88 1068.87,620.891 1068.57,619.902 \n",
       "  1068.31,619.041 1068.27,618.913 1067.98,617.924 1067.68,616.935 1067.39,615.946 1067.11,614.957 1067.04,614.731 1066.82,613.968 1066.54,612.979 1066.27,611.99 \n",
       "  1065.99,611.001 1065.77,610.204 1065.72,610.012 1065.45,609.023 1065.19,608.034 1064.93,607.045 1064.67,606.056 1064.5,605.411 1064.42,605.067 1064.17,604.077 \n",
       "  1063.92,603.088 1063.67,602.099 1063.43,601.11 1063.24,600.287 1063.2,600.121 1062.96,599.132 1062.73,598.143 1062.51,597.154 1062.28,596.165 1062.06,595.176 \n",
       "  1061.97,594.732 1061.85,594.187 1061.64,593.198 1061.43,592.209 1061.22,591.22 1061.02,590.231 1060.83,589.242 1060.7,588.592 1060.63,588.253 1060.44,587.264 \n",
       "  1060.26,586.275 1060.07,585.286 1059.9,584.297 1059.72,583.307 1059.55,582.318 1059.43,581.596 1059.39,581.329 1059.22,580.34 1059.06,579.351 1058.91,578.362 \n",
       "  1058.76,577.373 1058.61,576.384 1058.47,575.395 1058.33,574.406 1058.19,573.417 1058.16,573.173 1058.06,572.428 1057.94,571.439 1057.81,570.45 1057.69,569.461 \n",
       "  1057.58,568.472 1057.47,567.483 1057.36,566.494 1057.26,565.505 1057.16,564.516 1057.07,563.527 1056.98,562.538 1056.89,561.581 1056.89,561.548 1056.81,560.559 \n",
       "  1056.73,559.57 1056.66,558.581 1056.59,557.592 1056.52,556.603 1056.46,555.614 1056.4,554.625 1056.35,553.636 1056.3,552.647 1056.26,551.658 1056.22,550.669 \n",
       "  1056.18,549.68 1056.15,548.691 1056.12,547.702 1056.1,546.713 1056.08,545.724 1056.07,544.735 1056.05,543.746 1056.05,542.757 1056.05,541.768 1056.05,540.778 \n",
       "  1056.05,539.789 1056.07,538.8 1056.08,537.811 1056.1,536.822 1056.12,535.833 1056.15,534.844 1056.18,533.855 1056.22,532.866 1056.26,531.877 1056.3,530.888 \n",
       "  1056.35,529.899 1056.4,528.91 1056.46,527.921 1056.52,526.932 1056.59,525.943 1056.66,524.954 1056.73,523.965 1056.81,522.976 1056.89,521.987 1056.89,521.954 \n",
       "  1056.98,520.998 1057.07,520.008 1057.16,519.019 1057.26,518.03 1057.36,517.041 1057.47,516.052 1057.58,515.063 1057.69,514.074 1057.81,513.085 1057.94,512.096 \n",
       "  1058.06,511.107 1058.16,510.362 1058.19,510.118 1058.33,509.129 1058.47,508.14 1058.61,507.151 1058.76,506.162 1058.91,505.173 1059.06,504.184 1059.22,503.195 \n",
       "  1059.39,502.206 1059.43,501.939 1059.55,501.217 1059.72,500.228 1059.9,499.239 1060.07,498.249 1060.26,497.26 1060.44,496.271 1060.63,495.282 1060.7,494.943 \n",
       "  1060.83,494.293 1061.02,493.304 1061.22,492.315 1061.43,491.326 1061.64,490.337 1061.85,489.348 1061.97,488.803 1062.06,488.359 1062.28,487.37 1062.51,486.381 \n",
       "  1062.73,485.392 1062.96,484.403 1063.2,483.414 1063.24,483.248 1063.43,482.425 1063.67,481.436 1063.92,480.447 1064.17,479.458 1064.42,478.469 1064.5,478.124 \n",
       "  1064.67,477.479 1064.93,476.49 1065.19,475.501 1065.45,474.512 1065.72,473.523 1065.77,473.331 1065.99,472.534 1066.27,471.545 1066.54,470.556 1066.82,469.567 \n",
       "  1067.04,468.804 1067.11,468.578 1067.39,467.589 1067.68,466.6 1067.98,465.611 1068.27,464.622 1068.31,464.494 1068.57,463.633 1068.87,462.644 1069.18,461.655 \n",
       "  1069.49,460.666 1069.58,460.367 1069.8,459.677 1070.11,458.688 1070.43,457.699 1070.75,456.709 1070.85,456.393 1071.07,455.72 1071.39,454.731 1071.72,453.742 \n",
       "  1072.05,452.753 1072.12,452.551 1072.38,451.764 1072.72,450.775 1073.05,449.786 1073.39,448.823 1073.4,448.797 1073.74,447.808 1074.08,446.819 1074.43,445.83 \n",
       "  1074.66,445.197 1074.78,444.841 1075.13,443.852 1075.49,442.863 1075.85,441.874 1075.92,441.657 1076.2,440.885 1076.57,439.896 1076.93,438.907 1077.19,438.195 \n",
       "  1077.3,437.918 1077.66,436.929 1078.03,435.94 1078.41,434.95 1078.46,434.802 1078.78,433.961 1079.16,432.972 1079.53,431.983 1079.73,431.47 1079.91,430.994 \n",
       "  1080.29,430.005 1080.68,429.016 1081,428.191 1081.06,428.027 1081.45,427.038 1081.84,426.049 1082.23,425.06 1082.27,424.961 1082.62,424.071 1083.01,423.082 \n",
       "  1083.41,422.093 1083.54,421.774 1083.81,421.104 1084.2,420.115 1084.6,419.126 1084.81,418.625 1085,418.137 1085.4,417.148 1085.81,416.159 1086.07,415.509 \n",
       "  1086.21,415.17 1086.62,414.18 1087.03,413.191 1087.34,412.423 1087.43,412.202 1087.84,411.213 1088.25,410.224 1088.61,409.362 1088.66,409.235 1089.08,408.246 \n",
       "  1089.49,407.257 1089.88,406.324 1089.9,406.268 1090.32,405.279 1090.73,404.29 1091.15,403.304 1091.15,403.301 1091.57,402.312 1091.99,401.323 1092.4,400.334 \n",
       "  1092.42,400.301 1092.82,399.345 1093.24,398.356 1093.66,397.367 1093.69,397.31 1094.08,396.378 1094.5,395.389 1094.93,394.4 1094.96,394.329 1095.35,393.41 \n",
       "  1095.77,392.421 1096.19,391.432 1096.22,391.356 1096.61,390.443 1097.04,389.454 1097.46,388.465 1097.49,388.387 1097.88,387.476 1098.3,386.487 1098.73,385.498 \n",
       "  1098.76,385.419 1099.15,384.509 1099.57,383.52 1100,382.531 1100.03,382.451 1100.42,381.542 1100.84,380.553 1101.26,379.564 1101.3,379.479 1101.68,378.575 \n",
       "  1102.11,377.586 1102.53,376.597 1102.57,376.501 1102.95,375.608 1103.37,374.619 1103.79,373.63 1103.84,373.514 1104.21,372.641 1104.63,371.651 1105.04,370.662 \n",
       "  1105.11,370.515 1105.46,369.673 1105.88,368.684 1106.29,367.695 1106.37,367.501 1106.71,366.706 1107.12,365.717 1107.54,364.728 1107.64,364.47 1107.95,363.739 \n",
       "  1108.36,362.75 1108.77,361.761 1108.91,361.417 1109.18,360.772 1109.59,359.783 1109.99,358.794 1110.18,358.339 1110.4,357.805 1110.8,356.816 1111.21,355.827 \n",
       "  1111.45,355.234 1111.61,354.838 1112.01,353.849 1112.41,352.86 1112.72,352.096 1112.81,351.871 1113.21,350.881 1113.6,349.892 1113.99,348.923 1113.99,348.903 \n",
       "  1114.39,347.914 1114.78,346.925 1115.17,345.936 1115.26,345.707 1115.55,344.947 1115.94,343.958 1116.32,342.969 1116.52,342.445 1116.7,341.98 1117.08,340.991 \n",
       "  1117.46,340.002 1117.79,339.132 1117.84,339.013 1118.21,338.024 1118.59,337.035 1118.96,336.046 1119.06,335.76 1119.32,335.057 1119.69,334.068 1120.05,333.079 \n",
       "  1120.33,332.322 1120.42,332.09 1120.78,331.101 1121.13,330.111 1121.49,329.122 1121.6,328.809 1121.84,328.133 1122.19,327.144 1122.54,326.155 1122.87,325.213 \n",
       "  1122.88,325.166 1123.23,324.177 1123.57,323.188 1123.91,322.199 1124.14,321.52 1124.24,321.21 1124.58,320.221 1124.91,319.232 1125.23,318.243 1125.41,317.718 \n",
       "  1125.56,317.254 1125.88,316.265 1126.2,315.276 1126.52,314.287 1126.67,313.791 1126.83,313.298 1127.14,312.309 1127.45,311.32 1127.76,310.331 1127.94,309.717 \n",
       "  1128.06,309.342 1128.36,308.352 1128.65,307.363 1128.95,306.374 1129.21,305.472 1129.24,305.385 1129.52,304.396 1129.81,303.407 1130.09,302.418 1130.37,301.429 \n",
       "  1130.48,301.021 1130.64,300.44 1130.91,299.451 1131.18,298.462 1131.45,297.473 1131.71,296.484 1131.75,296.324 1131.97,295.495 1132.22,294.506 1132.47,293.517 \n",
       "  1132.72,292.528 1132.96,291.539 1133.02,291.319 1133.21,290.55 1133.44,289.561 1133.68,288.572 1133.91,287.582 1134.14,286.593 1134.29,285.921 1134.36,285.604 \n",
       "  1134.58,284.615 1134.79,283.626 1135.01,282.637 1135.22,281.648 1135.42,280.659 1135.56,279.999 1135.62,279.67 1135.82,278.681 1136.01,277.692 1136.2,276.703 \n",
       "  1136.39,275.714 1136.57,274.725 1136.75,273.736 1136.82,273.33 1136.93,272.747 1137.1,271.758 1137.27,270.769 1137.43,269.78 1137.59,268.791 1137.74,267.802 \n",
       "  1137.9,266.812 1138.04,265.823 1138.09,265.481 1138.19,264.834 1138.33,263.845 1138.46,262.856 1138.59,261.867 1138.72,260.878 1138.85,259.889 1138.97,258.9 \n",
       "  1139.08,257.911 1139.19,256.922 1139.3,255.933 1139.36,255.332 1139.4,254.944 1139.5,253.955 1139.6,252.966 1139.69,251.977 1139.77,250.988 1139.86,249.999 \n",
       "  1139.94,249.01 1140.01,248.021 1140.08,247.032 1140.15,246.043 1140.21,245.053 1140.27,244.064 1140.32,243.075 1140.37,242.086 1140.41,241.097 1140.45,240.108 \n",
       "  1140.49,239.119 1140.52,238.13 1140.55,237.141 1140.57,236.152 1140.59,235.163 1140.61,234.174 1140.62,233.185 1140.63,232.196 1140.63,231.207 1140.63,230.218 \n",
       "  1140.62,229.229 1140.61,228.24 1140.6,227.251 1140.58,226.262 1140.56,225.273 1140.53,224.283 1140.5,223.294 1140.47,222.305 1140.43,221.316 1140.38,220.327 \n",
       "  \n",
       "  \"/>\n",
       "<polyline clip-path=\"url(#clip9403)\" style=\"stroke:#ea6428; stroke-width:12; stroke-opacity:1; fill:none\" points=\"\n",
       "  1140.38,220.327 1140.33,219.338 1140.28,218.349 1140.23,217.36 1140.17,216.371 1140.1,215.382 1140.03,214.393 1139.96,213.404 1139.88,212.415 1139.8,211.426 \n",
       "  1139.72,210.437 1139.63,209.448 1139.53,208.459 1139.43,207.47 1139.36,206.766 1139.33,206.481 1139.23,205.492 1139.12,204.503 1139,203.513 1138.88,202.524 \n",
       "  1138.76,201.535 1138.64,200.546 1138.5,199.557 1138.37,198.568 1138.23,197.579 1138.09,196.614 1138.09,196.59 1137.94,195.601 1137.79,194.612 1137.64,193.623 \n",
       "  1137.48,192.634 1137.32,191.645 1137.15,190.656 1136.98,189.667 1136.82,188.767 1136.81,188.678 1136.63,187.689 1136.45,186.7 1136.26,185.711 1136.08,184.722 \n",
       "  1135.88,183.733 1135.69,182.744 1135.56,182.1 1135.49,181.754 1135.28,180.765 1135.07,179.776 1134.86,178.787 1134.65,177.798 1134.43,176.809 1134.29,176.178 \n",
       "  1134.21,175.82 1133.98,174.831 1133.75,173.842 1133.52,172.853 1133.28,171.864 1133.04,170.875 1133.02,170.779 1132.8,169.886 1132.55,168.897 1132.3,167.908 \n",
       "  1132.05,166.919 1131.79,165.93 1131.75,165.774 1131.53,164.941 1131.27,163.952 1131,162.963 1130.73,161.974 1130.48,161.076 1130.46,160.984 1130.18,159.995 \n",
       "  1129.9,159.006 1129.62,158.017 1129.33,157.028 1129.21,156.627 1129.04,156.039 1128.75,155.05 1128.45,154.061 1128.15,153.072 1127.94,152.382 1127.85,152.083 \n",
       "  1127.55,151.094 1127.24,150.105 1126.93,149.116 1126.67,148.308 1126.62,148.127 1126.3,147.138 1125.98,146.149 1125.66,145.16 1125.41,144.38 1125.34,144.171 \n",
       "  1125.01,143.182 1124.68,142.193 1124.35,141.204 1124.14,140.579 1124.01,140.214 1123.68,139.225 1123.34,138.236 1122.99,137.247 1122.87,136.886 1122.65,136.258 \n",
       "  1122.3,135.269 1121.95,134.28 1121.6,133.291 1121.6,133.289 1121.25,132.302 1120.89,131.313 1120.53,130.324 1120.33,129.777 1120.17,129.335 1119.81,128.346 \n",
       "  1119.44,127.357 1119.07,126.368 1119.06,126.338 1118.7,125.379 1118.33,124.39 1117.96,123.401 1117.79,122.967 1117.58,122.412 1117.2,121.423 1116.83,120.434 \n",
       "  1116.52,119.653 1116.44,119.445 1116.06,118.455 1115.68,117.466 1115.29,116.477 1115.26,116.391 1114.9,115.488 1114.51,114.499 1114.12,113.51 1113.99,113.176 \n",
       "  1113.73,112.521 1113.33,111.532 1112.94,110.543 1112.72,110.002 1112.54,109.554 1112.14,108.565 1111.74,107.576 1111.45,106.865 1111.34,106.587 1110.93,105.598 \n",
       "  1110.53,104.609 1110.18,103.759 1110.12,103.62 1109.72,102.631 1109.31,101.642 1108.91,100.681 1108.9,100.653 1108.49,99.6636 1108.08,98.6745 1107.67,97.6855 \n",
       "  1107.64,97.6287 1107.25,96.6964 1106.84,95.7074 1106.43,94.7183 1106.37,94.5971 1106.01,93.7293 1105.59,92.7403 1105.18,91.7512 1105.11,91.5833 1104.76,90.7622 \n",
       "  1104.34,89.7731 1103.92,88.7841 1103.84,88.5844 1103.5,87.795 1103.08,86.806 1102.66,85.8169 1102.57,85.5973 1102.24,84.8279 1101.82,83.8388 1101.4,82.8498 \n",
       "  1101.3,82.6192 1100.98,81.8607 1100.55,80.8717 1100.13,79.8826 1100.03,79.6474 1099.71,78.8936 1099.29,77.9045 1098.86,76.9155 1098.76,76.6792 1098.44,75.9265 \n",
       "  1098.02,74.9374 1097.59,73.9484 1097.49,73.7119 1097.17,72.9593 1096.75,71.9703 1096.33,70.9812 1096.22,70.7428 1095.9,69.9922 1095.48,69.0031 1095.06,68.0141 \n",
       "  1094.96,67.7693 1094.64,67.025 1094.22,66.036 1093.8,65.0469 1093.69,64.7885 1093.38,64.0579 1092.96,63.0688 1092.54,62.0798 1092.42,61.7977 1092.12,61.0908 \n",
       "  1091.7,60.1017 1091.28,59.1127 1091.15,58.7941 1090.87,58.1236 1090.45,57.1346 1090.04,56.1455 1089.88,55.7747 1089.62,55.1565 1089.21,54.1674 1088.8,53.1784 \n",
       "  1088.61,52.7363 1088.38,52.1893 1087.97,51.2003 1087.56,50.2112 1087.34,49.6757 1087.16,49.2222 1086.75,48.2331 1086.34,47.2441 \n",
       "  \"/>\n",
       "<polyline clip-path=\"url(#clip9403)\" style=\"stroke:#ea6428; stroke-width:4; stroke-opacity:1; fill:none\" points=\"\n",
       "  252.496,249.116 252.986,249.01 253.765,248.84 255.034,248.574 256.303,248.317 257.571,248.07 257.835,248.021 258.84,247.832 260.109,247.604 261.378,247.386 \n",
       "  262.646,247.177 263.576,247.032 263.915,246.978 265.184,246.789 266.453,246.609 267.721,246.44 268.99,246.279 270.259,246.129 271.04,246.043 271.528,245.988 \n",
       "  272.796,245.858 274.065,245.737 275.334,245.626 276.603,245.524 277.872,245.433 279.14,245.351 280.409,245.279 281.678,245.218 282.947,245.166 284.215,245.123 \n",
       "  285.484,245.091 286.753,245.069 288.022,245.056 289.29,245.054 290.559,245.061 291.828,245.078 293.097,245.105 294.365,245.142 295.634,245.189 296.903,245.246 \n",
       "  298.172,245.312 299.441,245.389 300.709,245.475 301.978,245.571 303.247,245.677 304.516,245.793 305.784,245.919 306.942,246.043 307.053,246.054 308.322,246.2 \n",
       "  309.591,246.355 310.859,246.519 312.128,246.694 313.397,246.878 314.4,247.032 314.666,247.072 315.934,247.276 317.203,247.489 318.472,247.712 319.741,247.945 \n",
       "  320.138,248.021 321.009,248.187 322.278,248.439 323.547,248.7 324.816,248.971 324.991,249.01 326.085,249.251 327.353,249.541 328.622,249.84 329.273,249.999 \n",
       "  329.891,250.149 331.16,250.467 332.428,250.794 333.157,250.988 333.697,251.131 334.966,251.477 336.235,251.832 336.738,251.977 337.503,252.197 338.772,252.57 \n",
       "  340.041,252.953 340.082,252.966 341.31,253.345 342.578,253.746 343.225,253.955 343.847,254.156 345.116,254.575 346.21,254.944 346.385,255.003 347.654,255.44 \n",
       "  348.922,255.885 349.056,255.933 350.191,256.34 351.46,256.803 351.781,256.922 352.729,257.275 353.997,257.755 354.402,257.911 355.266,258.244 356.535,258.742 \n",
       "  356.931,258.9 357.804,259.248 359.072,259.763 359.378,259.889 360.341,260.286 361.61,260.818 361.752,260.878 362.879,261.358 364.058,261.867 364.147,261.906 \n",
       "  365.416,262.462 366.302,262.856 366.685,263.027 367.954,263.599 368.491,263.845 369.222,264.18 370.491,264.768 370.632,264.834 371.76,265.365 372.723,265.823 \n",
       "  373.029,265.969 374.298,266.581 374.77,266.812 375.566,267.201 376.78,267.802 376.835,267.829 378.104,268.464 378.748,268.791 379.373,269.107 380.641,269.757 \n",
       "  380.685,269.78 381.91,270.415 382.586,270.769 383.179,271.08 384.448,271.752 384.458,271.758 385.716,272.431 386.299,272.747 386.985,273.118 388.115,273.736 \n",
       "  388.254,273.812 389.523,274.513 389.903,274.725 390.791,275.22 391.668,275.714 392.06,275.935 393.329,276.656 393.41,276.703 394.598,277.384 395.129,277.692 \n",
       "  395.867,278.119 396.828,278.681 397.135,278.86 398.404,279.608 398.508,279.67 399.673,280.363 400.168,280.659 400.942,281.123 401.81,281.648 402.21,281.89 \n",
       "  403.436,282.637 403.479,282.663 404.748,283.443 405.045,283.626 406.017,284.228 406.638,284.615 407.285,285.019 408.217,285.604 408.554,285.816 409.782,286.593 \n",
       "  409.823,286.619 411.092,287.428 411.332,287.582 412.36,288.242 412.87,288.572 413.629,289.062 414.395,289.561 414.898,289.888 415.909,290.55 416.167,290.719 \n",
       "  417.411,291.539 417.436,291.555 418.704,292.396 418.901,292.528 419.973,293.243 420.381,293.517 421.242,294.095 421.851,294.506 422.511,294.951 423.311,295.495 \n",
       "  423.779,295.813 424.762,296.484 425.048,296.679 426.204,297.473 426.317,297.55 427.586,298.426 427.638,298.462 428.854,299.306 429.062,299.451 430.123,300.191 \n",
       "  430.479,300.44 431.392,301.08 431.888,301.429 432.661,301.973 433.29,302.418 433.929,302.871 434.684,303.407 435.198,303.773 436.072,304.396 436.467,304.678 \n",
       "  437.453,305.385 437.736,305.588 438.828,306.374 439.004,306.501 440.197,307.363 440.273,307.419 441.542,308.34 441.56,308.352 442.811,309.264 442.917,309.342 \n",
       "  444.08,310.192 444.268,310.331 445.348,311.123 445.615,311.32 446.617,312.058 446.956,312.309 447.886,312.996 448.293,313.298 449.155,313.936 449.625,314.287 \n",
       "  450.423,314.88 450.953,315.276 451.692,315.827 452.277,316.265 452.961,316.777 453.597,317.254 454.23,317.729 454.912,318.243 455.498,318.684 456.225,319.232 \n",
       "  456.767,319.641 457.533,320.221 458.036,320.601 458.839,321.21 459.305,321.564 460.141,322.199 460.573,322.528 461.44,323.188 461.842,323.495 462.736,324.177 \n",
       "  463.111,324.463 464.03,325.166 464.38,325.434 465.321,326.155 465.649,326.406 466.61,327.144 466.917,327.38 467.896,328.133 468.186,328.356 469.18,329.122 \n",
       "  469.455,329.334 470.463,330.111 470.724,330.313 471.743,331.101 471.992,331.293 473.022,332.09 473.261,332.274 474.299,333.079 474.53,333.257 475.575,334.068 \n",
       "  475.799,334.241 476.85,335.057 477.067,335.226 478.123,336.046 478.336,336.211 479.396,337.035 479.605,337.198 480.667,338.024 480.874,338.185 481.938,339.013 \n",
       "  482.142,339.172 483.208,340.002 483.411,340.16 484.477,340.991 484.68,341.149 485.746,341.98 485.949,342.138 487.015,342.969 487.218,343.127 488.284,343.958 \n",
       "  488.486,344.116 489.553,344.947 489.755,345.105 490.822,345.936 491.024,346.094 492.091,346.925 492.293,347.082 493.361,347.914 493.561,348.071 494.631,348.903 \n",
       "  494.83,349.059 495.901,349.892 496.099,350.046 497.173,350.881 497.368,351.033 498.445,351.871 498.636,352.019 499.719,352.86 499.905,353.004 500.993,353.849 \n",
       "  501.174,353.989 502.269,354.838 502.443,354.972 503.546,355.827 503.711,355.955 504.825,356.816 504.98,356.936 506.106,357.805 506.249,357.916 507.388,358.794 \n",
       "  507.518,358.894 508.672,359.783 508.786,359.871 509.959,360.772 510.055,360.846 511.247,361.761 511.324,361.82 512.538,362.75 512.593,362.792 513.832,363.739 \n",
       "  513.862,363.762 515.128,364.728 515.13,364.73 516.399,365.696 516.427,365.717 517.668,366.66 517.729,366.706 518.937,367.621 519.035,367.695 520.205,368.58 \n",
       "  520.344,368.684 521.474,369.537 521.656,369.673 522.743,370.491 522.972,370.662 524.012,371.442 524.291,371.651 525.28,372.391 525.615,372.641 526.549,373.337 \n",
       "  526.943,373.63 527.818,374.28 528.275,374.619 529.087,375.22 529.612,375.608 530.355,376.157 530.954,376.597 531.624,377.09 532.3,377.586 532.893,378.02 \n",
       "  533.652,378.575 534.162,378.947 535.009,379.564 535.431,379.87 536.372,380.553 536.699,380.79 537.741,381.542 537.968,381.706 539.115,382.531 539.237,382.618 \n",
       "  540.496,383.52 540.506,383.527 541.774,384.431 541.884,384.509 543.043,385.332 543.279,385.498 544.312,386.228 544.68,386.487 545.581,387.12 546.09,387.476 \n",
       "  546.849,388.008 547.506,388.465 548.118,388.891 548.931,389.454 549.387,389.77 550.364,390.443 550.656,390.644 551.806,391.432 551.924,391.514 553.193,392.379 \n",
       "  553.256,392.421 554.462,393.239 554.717,393.41 555.731,394.094 556.187,394.4 557,394.944 557.668,395.389 558.268,395.789 559.158,396.378 559.537,396.628 \n",
       "  560.66,397.367 560.806,397.463 562.075,398.292 562.173,398.356 563.343,399.116 563.699,399.345 564.612,399.934 565.237,400.334 565.881,400.746 566.787,401.323 \n",
       "  567.15,401.553 568.351,402.312 568.418,402.355 569.687,403.15 569.93,403.301 570.956,403.939 571.524,404.29 572.225,404.723 573.133,405.279 573.493,405.5 \n",
       "  574.757,406.268 574.762,406.271 576.031,407.036 576.401,407.257 577.3,407.795 578.061,408.246 578.568,408.547 579.739,409.235 579.837,409.293 581.106,410.032 \n",
       "  581.439,410.224 582.375,410.765 583.159,411.213 583.644,411.491 584.899,412.202 584.912,412.21 586.181,412.922 586.665,413.191 587.45,413.628 588.454,414.18 \n",
       "  588.719,414.326 589.987,415.018 590.269,415.17 591.256,415.702 592.111,416.159 592.525,416.379 593.794,417.049 593.982,417.148 595.062,417.712 595.885,418.137 \n",
       "  596.331,418.367 597.6,419.015 597.819,419.126 598.869,419.655 599.79,420.115 600.137,420.288 601.406,420.913 601.798,421.104 602.675,421.531 603.845,422.093 \n",
       "  603.944,422.14 605.213,422.742 605.938,423.082 606.481,423.336 607.75,423.922 608.076,424.071 609.019,424.5 610.265,425.06 610.288,425.07 611.556,425.632 \n",
       "  612.512,426.049 612.825,426.186 614.094,426.731 614.818,427.038 615.363,427.269 616.631,427.797 617.191,428.027 617.9,428.318 619.169,428.83 619.638,429.016 \n",
       "  620.438,429.334 621.706,429.829 622.167,430.005 622.975,430.315 624.244,430.793 624.789,430.994 625.513,431.262 626.782,431.722 627.514,431.983 628.05,432.174 \n",
       "  629.319,432.617 630.358,432.972 630.588,433.051 631.857,433.476 633.125,433.892 633.342,433.961 634.394,434.299 635.663,434.697 636.489,434.95 636.932,435.086 \n",
       "  638.2,435.466 639.469,435.837 639.83,435.94 640.738,436.198 642.007,436.55 643.275,436.893 643.409,436.929 644.544,437.227 645.813,437.552 647.082,437.867 \n",
       "  647.293,437.918 648.35,438.172 649.619,438.469 650.888,438.755 651.58,438.907 652.157,439.033 653.426,439.301 654.694,439.559 655.963,439.808 656.431,439.896 \n",
       "  657.232,440.047 658.501,440.276 659.769,440.496 661.038,440.706 662.166,440.885 662.307,440.907 663.576,441.098 664.844,441.279 666.113,441.45 667.382,441.612 \n",
       "  668.651,441.764 669.631,441.874 669.919,441.906 671.188,442.038 672.457,442.161 673.726,442.274 674.995,442.377 676.263,442.47 677.532,442.553 678.801,442.626 \n",
       "  680.07,442.69 681.338,442.743 682.607,442.787 683.876,442.821 685.145,442.845 686.413,442.859 687.682,442.863 688.951,442.857 690.22,442.841 691.488,442.816 \n",
       "  692.757,442.781 694.026,442.735 695.295,442.68 696.564,442.615 697.832,442.54 699.101,442.455 700.37,442.361 701.639,442.256 702.907,442.142 704.176,442.018 \n",
       "  705.445,441.884 705.536,441.874 706.714,441.74 707.982,441.587 709.251,441.424 710.52,441.251 711.789,441.068 712.997,440.885 713.057,440.876 714.326,440.674 \n",
       "  715.595,440.462 716.864,440.24 718.132,440.009 718.731,439.896 719.401,439.769 720.67,439.518 721.939,439.259 723.208,438.989 723.583,438.907 724.476,438.71 \n",
       "  725.745,438.422 727.014,438.124 727.868,437.918 728.283,437.817 729.551,437.501 730.82,437.175 731.752,436.929 732.089,436.839 733.358,436.495 734.626,436.141 \n",
       "  735.331,435.94 735.895,435.778 737.164,435.406 738.433,435.025 738.674,434.95 739.701,434.634 740.97,434.235 741.819,433.961 742.239,433.826 743.508,433.409 \n",
       "  744.777,432.982 744.805,432.972 746.045,432.547 747.314,432.103 747.648,431.983 748.583,431.65 749.852,431.188 750.374,430.994 751.12,430.717 752.389,430.238 \n",
       "  752.995,430.005 753.658,429.75 754.927,429.254 755.524,429.016 756.195,428.749 757.464,428.236 757.971,428.027 758.733,427.714 760.002,427.184 760.344,427.038 \n",
       "  761.27,426.645 762.539,426.098 762.652,426.049 763.808,425.543 764.897,425.06 765.077,424.98 766.346,424.409 767.085,424.071 767.614,423.829 768.883,423.242 \n",
       "  769.225,423.082 770.152,422.647 771.317,422.093 771.421,422.044 772.689,421.433 773.364,421.104 773.958,420.814 775.227,420.188 775.373,420.115 776.496,419.554 \n",
       "  777.342,419.126 777.764,418.912 779.033,418.263 779.278,418.137 780.302,417.607 781.18,417.148 781.571,416.943 782.839,416.272 783.051,416.159 784.108,415.594 \n",
       "  784.893,415.17 785.377,414.908 786.646,414.215 786.709,414.18 787.914,413.516 788.497,413.191 789.183,412.809 790.262,412.202 790.452,412.096 791.721,411.375 \n",
       "  792.004,411.213 792.99,410.648 793.723,410.224 794.258,409.915 795.423,409.235 795.527,409.174 796.796,408.428 797.101,408.246 798.065,407.674 798.761,407.257 \n",
       "  799.333,406.915 800.404,406.268 800.602,406.149 801.871,405.377 802.03,405.279 803.14,404.598 803.638,404.29 804.408,403.814 805.232,403.301 805.677,403.024 \n",
       "  806.811,402.312 806.946,402.227 808.215,401.425 808.376,401.323 809.483,400.617 809.926,400.334 810.752,399.804 811.463,399.345 812.021,398.985 812.989,398.356 \n",
       "  813.29,398.16 814.503,397.367 814.559,397.33 815.827,396.495 816.004,396.378 817.096,395.654 817.495,395.389 818.365,394.809 818.975,394.4 819.634,393.958 \n",
       "  820.445,393.41 820.902,393.102 821.905,392.421 822.171,392.241 823.357,391.432 823.44,391.376 824.709,390.505 824.798,390.443 825.977,389.63 826.231,389.454 \n",
       "  827.246,388.751 827.656,388.465 828.515,387.867 829.073,387.476 829.784,386.978 830.482,386.487 831.052,386.086 831.883,385.498 832.321,385.189 833.278,384.509 \n",
       "  833.59,384.288 834.666,383.52 834.859,383.382 836.047,382.531 836.128,382.473 837.396,381.561 837.422,381.542 838.665,380.644 838.791,380.553 839.934,379.724 \n",
       "  840.153,379.564 841.203,378.8 841.51,378.575 842.471,377.872 842.862,377.586 843.74,376.942 844.209,376.597 845.009,376.008 845.55,375.608 846.278,375.07 \n",
       "  846.887,374.619 847.546,374.13 848.219,373.63 848.815,373.186 849.547,372.641 850.084,372.24 850.871,371.651 851.353,371.291 852.191,370.662 852.621,370.339 \n",
       "  853.506,369.673 853.89,369.385 854.819,368.684 855.159,368.428 856.127,367.695 856.428,367.468 857.433,366.706 857.696,366.506 858.735,365.717 858.965,365.542 \n",
       "  860.034,364.728 860.234,364.576 861.33,363.739 861.503,363.607 862.624,362.75 862.772,362.637 863.915,361.761 864.04,361.665 865.204,360.772 865.309,360.691 \n",
       "  866.49,359.783 866.578,359.715 867.774,358.794 867.847,358.738 869.057,357.805 869.115,357.76 870.337,356.816 870.384,356.78 871.616,355.827 871.653,355.798 \n",
       "  872.893,354.838 872.922,354.816 874.169,353.849 874.19,353.832 875.444,352.86 875.459,352.848 876.717,351.871 876.728,351.862 877.989,350.881 877.997,350.876 \n",
       "  879.261,349.892 879.265,349.889 880.532,348.903 880.534,348.901 881.802,347.914 881.803,347.913 883.071,346.925 883.072,346.925 884.34,345.936 884.341,345.936 \n",
       "  885.609,344.947 885.609,344.947 886.878,343.958 888.147,342.969 888.147,342.969 889.416,341.98 889.416,341.98 890.684,340.991 890.685,340.991 \n",
       "  891.953,340.003 891.954,340.002 893.222,339.015 893.225,339.013 894.491,338.027 894.495,338.024 895.759,337.04 895.767,337.035 897.028,336.054 897.039,336.046 \n",
       "  898.297,335.069 898.312,335.057 899.566,334.084 899.587,334.068 900.834,333.101 900.863,333.079 902.103,332.118 902.14,332.09 903.372,331.137 903.419,331.101 \n",
       "  904.641,330.157 904.699,330.111 905.909,329.178 905.982,329.122 907.178,328.201 907.266,328.133 908.447,327.225 908.552,327.144 909.716,326.251 909.841,326.155 \n",
       "  910.985,325.279 911.132,325.166 912.253,324.309 912.426,324.177 913.522,323.34 913.722,323.188 914.791,322.374 915.021,322.199 916.06,321.41 916.323,321.21 \n",
       "  917.328,320.448 917.629,320.221 918.597,319.489 918.938,319.232 919.866,318.532 920.25,318.243 921.135,317.577 921.566,317.254 922.403,316.625 922.885,316.265 \n",
       "  923.672,315.676 924.209,315.276 924.941,314.73 925.537,314.287 926.21,313.786 926.869,313.298 927.478,312.846 928.206,312.309 928.747,311.909 929.548,311.32 \n",
       "  930.016,310.975 930.894,310.331 931.285,310.044 932.246,309.342 932.554,309.117 933.603,308.352 933.822,308.193 934.966,307.363 935.091,307.272 936.334,306.374 \n",
       "  936.36,306.356 937.629,305.443 937.709,305.385 938.897,304.534 939.09,304.396 940.166,303.629 940.478,303.407 941.435,302.728 941.873,302.418 942.704,301.831 \n",
       "  943.274,301.429 943.972,300.938 944.684,300.44 945.241,300.05 946.1,299.451 946.51,299.166 947.525,298.462 947.779,298.286 948.958,297.473 949.047,297.411 \n",
       "  950.316,296.541 950.4,296.484 951.585,295.675 951.851,295.495 952.854,294.814 953.311,294.506 954.123,293.959 954.781,293.517 955.391,293.108 956.261,292.528 \n",
       "  956.66,292.262 957.752,291.539 957.929,291.421 959.198,290.586 959.253,290.55 960.466,289.756 960.767,289.561 961.735,288.931 962.293,288.572 963.004,288.112 \n",
       "  963.83,287.582 964.273,287.299 965.381,286.593 965.541,286.491 966.81,285.689 966.945,285.604 968.079,284.893 968.524,284.615 969.348,284.102 970.118,283.626 \n",
       "  970.616,283.318 971.726,282.637 971.885,282.54 973.154,281.768 973.352,281.648 974.423,281.002 974.995,280.659 975.691,280.242 976.655,279.67 976.96,279.489 \n",
       "  978.229,278.742 978.333,278.681 979.498,278.002 980.033,277.692 980.767,277.268 981.752,276.703 982.035,276.541 983.304,275.821 983.494,275.714 984.573,275.107 \n",
       "  985.259,274.725 985.842,274.401 987.047,273.736 987.11,273.701 988.379,273.008 988.863,272.747 989.648,272.323 990.705,271.758 990.917,271.644 992.185,270.973 \n",
       "  992.576,270.769 993.454,270.309 994.478,269.78 994.723,269.653 995.992,269.004 996.414,268.791 997.26,268.362 998.383,267.802 998.529,267.728 999.798,267.102 \n",
       "  1000.39,266.812 1001.07,266.483 1002.34,265.873 1002.44,265.823 1003.6,265.269 1004.53,264.834 1004.87,264.674 1006.14,264.087 1006.67,263.845 1007.41,263.508 \n",
       "  1008.68,262.936 1008.86,262.856 1009.95,262.373 1011.1,261.867 1011.22,261.818 1012.49,261.271 1013.41,260.878 1013.75,260.733 1015.02,260.203 1015.79,259.889 \n",
       "  1016.29,259.681 1017.56,259.167 1018.23,258.9 1018.83,258.662 1020.1,258.166 1020.76,257.911 1021.37,257.678 1022.64,257.199 1023.38,256.922 1023.9,256.728 \n",
       "  \n",
       "  \"/>\n",
       "<polyline clip-path=\"url(#clip9403)\" style=\"stroke:#ea6428; stroke-width:4; stroke-opacity:1; fill:none\" points=\"\n",
       "  1023.9,256.728 1025.17,256.267 1026.11,255.933 1026.44,255.814 1027.71,255.369 1028.95,254.944 1028.98,254.934 1030.25,254.508 1031.52,254.09 1031.94,253.955 \n",
       "  1032.79,253.682 1034.05,253.282 1035.08,252.966 1035.32,252.892 1036.59,252.51 1037.86,252.138 1038.42,251.977 1039.13,251.775 1040.4,251.421 1041.67,251.077 \n",
       "  1042,250.988 1042.94,250.742 1044.2,250.416 1045.47,250.099 1045.89,249.999 1046.74,249.792 1048.01,249.494 1049.28,249.206 1050.17,249.01 1050.55,248.927 \n",
       "  1051.82,248.658 1053.09,248.398 1054.35,248.148 1055.02,248.021 1055.62,247.907 1056.89,247.676 1058.16,247.455 1059.43,247.243 1060.7,247.041 1060.76,247.032 \n",
       "  1061.97,246.848 1063.24,246.666 1064.5,246.493 1065.77,246.329 1067.04,246.176 1068.22,246.043 1068.31,246.032 1069.58,245.898 1070.85,245.774 1072.12,245.66 \n",
       "  1073.39,245.555 1074.66,245.461 1075.92,245.376 1077.19,245.301 1078.46,245.236 1079.73,245.181 1081,245.136 1082.27,245.1 1083.54,245.075 1084.81,245.059 \n",
       "  1086.07,245.053 1087.34,245.058 1088.61,245.072 1089.88,245.096 1091.15,245.129 1092.42,245.173 1093.69,245.227 1094.96,245.29 1096.22,245.364 1097.49,245.447 \n",
       "  1098.76,245.54 1100.03,245.643 1101.3,245.755 1102.57,245.878 1103.84,246.01 1104.13,246.043 1105.11,246.152 1106.37,246.304 1107.64,246.466 1108.91,246.637 \n",
       "  1110.18,246.818 1111.45,247.009 1111.59,247.032 1112.72,247.21 1113.99,247.42 1115.26,247.64 1116.52,247.87 1117.33,248.021 1117.79,248.109 1119.06,248.357 \n",
       "  1120.33,248.616 1121.6,248.884 1122.18,249.01 1122.87,249.161 1124.14,249.448 1125.41,249.744 1126.46,249.999 1126.67,250.05 1127.94,250.365 1129.21,250.689 \n",
       "  1130.35,250.988 1130.48,251.023 1131.75,251.366 1133.02,251.718 1133.93,251.977 1134.29,252.08 1135.56,252.45 1136.82,252.83 1137.27,252.966 1138.09,253.219 \n",
       "  1139.36,253.617 1140.41,253.955 1140.63,254.024 1141.9,254.44 1143.17,254.865 1143.4,254.944 1144.44,255.299 1145.71,255.742 1146.24,255.933 1146.97,256.194 \n",
       "  1148.24,256.654 1148.97,256.922 1149.51,257.123 1150.78,257.601 1151.59,257.911 1152.05,258.088 1153.32,258.583 1154.12,258.9 1154.59,259.086 1155.86,259.598 \n",
       "  1156.56,259.889 1157.12,260.119 1158.39,260.648 1158.94,260.878 1159.66,261.185 1160.93,261.73 1161.24,261.867 1162.2,262.284 1163.47,262.846 1163.49,262.856 \n",
       "  1164.74,263.416 1165.68,263.845 1166.01,263.994 1167.27,264.58 1167.82,264.834 1168.54,265.174 1169.81,265.776 1169.91,265.823 1171.08,266.386 1171.96,266.812 \n",
       "  1172.35,267.003 1173.62,267.628 1173.97,267.802 1174.89,268.261 1175.94,268.791 1176.16,268.901 1177.42,269.549 1177.87,269.78 1178.69,270.204 1179.77,270.769 \n",
       "  1179.96,270.867 1181.23,271.537 1181.64,271.758 1182.5,272.214 1183.49,272.747 1183.77,272.899 1185.04,273.59 1185.3,273.736 1186.31,274.289 1187.09,274.725 \n",
       "  1187.58,274.994 1188.84,275.707 1188.86,275.714 1190.11,276.426 1190.6,276.703 1191.38,277.152 1192.32,277.692 1192.65,277.884 1193.92,278.624 1194.02,278.681 \n",
       "  1195.19,279.369 1195.69,279.67 1196.46,280.122 1197.36,280.659 1197.73,280.88 1198.99,281.645 1199,281.648 1200.26,282.416 1200.62,282.637 1201.53,283.194 \n",
       "  1202.23,283.626 1202.8,283.977 1203.83,284.615 1204.07,284.766 1205.34,285.562 1205.41,285.604 1206.61,286.363 1206.97,286.593 1207.88,287.17 1208.52,287.582 \n",
       "  1209.14,287.982 1210.06,288.572 1210.41,288.801 1211.58,289.561 1211.68,289.624 1212.95,290.453 1213.1,290.55 1214.22,291.288 1214.6,291.539 1215.49,292.128 \n",
       "  1216.09,292.528 1216.76,292.973 1217.57,293.517 1218.03,293.823 1219.04,294.506 1219.29,294.678 1220.5,295.495 1220.56,295.538 1221.83,296.403 1221.95,296.484 \n",
       "  1223.1,297.272 1223.39,297.473 1224.37,298.146 1224.82,298.462 1225.64,299.025 1226.25,299.451 1226.91,299.909 1227.67,300.44 1228.18,300.796 1229.08,301.429 \n",
       "  1229.44,301.688 1230.48,302.418 1230.71,302.585 1231.87,303.407 1231.98,303.485 1233.25,304.389 1233.26,304.396 1234.52,305.298 1234.64,305.385 1235.79,306.21 \n",
       "  1236.02,306.374 1237.06,307.126 1237.38,307.363 1238.33,308.046 1238.75,308.352 1239.59,308.969 1240.1,309.342 1240.86,309.896 1241.46,310.331 1242.13,310.826 \n",
       "  1242.8,311.32 1243.4,311.76 1244.14,312.309 1244.67,312.697 1245.48,313.298 1245.94,313.636 1246.81,314.287 1247.21,314.579 1248.14,315.276 1248.48,315.525 \n",
       "  1249.46,316.265 1249.74,316.474 1250.78,317.254 1251.01,317.425 1252.1,318.243 1252.28,318.379 1253.41,319.232 1253.55,319.336 1254.72,320.221 1254.82,320.295 \n",
       "  1256.03,321.21 1256.09,321.257 1257.33,322.199 1257.36,322.221 1258.63,323.186 1258.63,323.188 1259.89,324.154 1259.92,324.177 1261.16,325.124 1261.22,325.166 \n",
       "  1262.43,326.096 1262.51,326.155 1263.7,327.07 1263.8,327.144 1264.97,328.045 1265.08,328.133 1266.24,329.022 1266.37,329.122 1267.51,330.001 1267.65,330.111 \n",
       "  1268.78,330.981 1268.93,331.101 1270.04,331.962 1270.21,332.09 1271.31,332.944 1271.49,333.079 1272.58,333.927 1272.76,334.068 1273.85,334.912 1274.04,335.057 \n",
       "  1275.12,335.897 1275.31,336.046 1276.39,336.883 1276.58,337.035 1277.66,337.87 1277.85,338.024 1278.93,338.858 1279.13,339.013 1280.19,339.846 1280.4,340.002 \n",
       "  1281.46,340.834 1281.66,340.991 1282.73,341.823 1282.93,341.98 1284,342.812 1284.2,342.969 1285.27,343.801 1285.47,343.958 1286.54,344.79 1286.74,344.947 \n",
       "  1287.81,345.779 1288.01,345.936 1289.08,346.767 1289.28,346.925 1290.34,347.756 1290.55,347.914 1291.61,348.744 1291.82,348.903 1292.88,349.732 1293.09,349.892 \n",
       "  1294.15,350.719 1294.36,350.881 1295.42,351.705 1295.63,351.871 1296.69,352.691 1296.91,352.86 1297.96,353.675 1298.18,353.849 1299.23,354.659 1299.46,354.838 \n",
       "  1300.49,355.642 1300.73,355.827 1301.76,356.623 1302.01,356.816 1303.03,357.604 1303.29,357.805 1304.3,358.583 1304.58,358.794 1305.57,359.56 1305.86,359.783 \n",
       "  1306.84,360.536 1307.15,360.772 1308.11,361.51 1308.44,361.761 1309.38,362.482 1309.73,362.75 1310.65,363.453 1311.02,363.739 1311.91,364.422 1312.32,364.728 \n",
       "  1313.18,365.388 1313.62,365.717 1314.45,366.353 1314.92,366.706 1315.72,367.315 1316.22,367.695 1316.99,368.275 1317.53,368.684 1318.26,369.232 1318.84,369.673 \n",
       "  1319.53,370.187 1320.16,370.662 1320.8,371.14 1321.48,371.651 1322.06,372.089 1322.8,372.641 1323.33,373.036 1324.13,373.63 1324.6,373.98 1325.46,374.619 \n",
       "  1325.87,374.921 1326.8,375.608 1327.14,375.858 1328.14,376.597 1328.41,376.793 1329.49,377.586 1329.68,377.724 1330.84,378.575 1330.95,378.652 1332.2,379.564 \n",
       "  1332.21,379.577 1333.48,380.498 1333.56,380.553 1334.75,381.415 1334.93,381.542 1336.02,382.328 1336.3,382.531 1337.29,383.238 1337.68,383.52 1338.56,384.144 \n",
       "  1339.07,384.509 1339.83,385.045 1340.47,385.498 1341.1,385.943 1341.87,386.487 1342.36,386.836 1343.28,387.476 1343.63,387.725 1344.69,388.465 1344.9,388.61 \n",
       "  1346.12,389.454 1346.17,389.49 1347.44,390.366 1347.55,390.443 1348.71,391.237 1348.99,391.432 1349.98,392.104 1350.44,392.421 1351.25,392.965 1351.91,393.41 \n",
       "  1352.51,393.822 1353.38,394.4 1353.78,394.673 1354.85,395.389 1355.05,395.52 1356.32,396.361 1356.35,396.378 1357.59,397.198 1357.85,397.367 1358.86,398.028 \n",
       "  1359.36,398.356 1360.13,398.854 1360.89,399.345 1361.4,399.674 1362.42,400.334 1362.66,400.488 1363.93,401.297 1363.97,401.323 1365.2,402.1 1365.54,402.312 \n",
       "  1366.47,402.897 1367.12,403.301 1367.74,403.688 1368.71,404.29 1369.01,404.474 1370.28,405.253 1370.32,405.279 1371.55,406.026 1371.95,406.268 1372.81,406.793 \n",
       "  1373.59,407.257 1374.08,407.554 1375.25,408.246 1375.35,408.308 1376.62,409.056 1376.93,409.235 1377.89,409.797 1378.63,410.224 1379.16,410.532 1380.35,411.213 \n",
       "  1380.43,411.26 1381.7,411.981 1382.09,412.202 1382.96,412.696 1383.85,413.191 1384.23,413.404 1385.5,414.104 1385.64,414.18 1386.77,414.798 1387.46,415.17 \n",
       "  1388.04,415.485 1389.3,416.159 1389.31,416.164 1390.58,416.837 1391.17,417.148 1391.85,417.502 1393.07,418.137 1393.11,418.159 1394.38,418.809 1395.01,419.126 \n",
       "  1395.65,419.452 1396.92,420.087 1396.98,420.115 1398.19,420.715 1398.99,421.104 1399.46,421.335 1400.73,421.947 1401.03,422.093 1402,422.551 1403.12,423.082 \n",
       "  1403.26,423.148 1404.53,423.736 1405.26,424.071 1405.8,424.317 1407.07,424.89 1407.45,425.06 1408.34,425.454 1409.61,426.01 1409.7,426.049 1410.88,426.559 \n",
       "  1412,427.038 1412.15,427.098 1413.41,427.63 1414.38,428.027 1414.68,428.153 1415.95,428.668 1416.83,429.016 1417.22,429.174 1418.49,429.672 1419.35,430.005 \n",
       "  1419.76,430.161 1421.03,430.642 1421.98,430.994 1422.3,431.114 1423.57,431.577 1424.7,431.983 1424.83,432.031 1426.1,432.477 1427.37,432.914 1427.55,432.972 \n",
       "  1428.64,433.341 1429.91,433.76 1430.53,433.961 1431.18,434.17 1432.45,434.571 1433.67,434.95 1433.72,434.963 1434.98,435.346 1436.25,435.72 1437.02,435.94 \n",
       "  1437.52,436.084 1438.79,436.439 1440.06,436.785 1440.6,436.929 1441.33,437.122 1442.6,437.449 1443.87,437.767 1444.48,437.918 1445.13,438.076 1446.4,438.375 \n",
       "  1447.67,438.665 1448.76,438.907 1448.94,438.945 1450.21,439.216 1451.48,439.478 1452.75,439.729 1453.62,439.896 1454.02,439.972 1455.28,440.204 1456.55,440.427 \n",
       "  1457.82,440.64 1459.09,440.844 1459.36,440.885 1460.36,441.038 1461.63,441.222 1462.9,441.397 1464.17,441.562 1465.43,441.717 1466.7,441.862 1466.81,441.874 \n",
       "  1467.97,441.997 1469.24,442.123 1470.51,442.239 1471.78,442.345 1473.05,442.441 1474.32,442.527 1475.58,442.604 1476.85,442.67 1478.12,442.727 1479.39,442.774 \n",
       "  1480.66,442.811 1481.93,442.838 1483.2,442.855 1484.47,442.863 1485.73,442.86 1487,442.848 1488.27,442.825 1489.54,442.793 1490.81,442.751 1492.08,442.699 \n",
       "  1493.35,442.637 1494.62,442.565 1495.88,442.484 1497.15,442.392 1498.42,442.291 1499.69,442.18 1500.96,442.059 1502.23,441.928 1502.72,441.874 1503.5,441.787 \n",
       "  1504.77,441.637 1506.03,441.477 1507.3,441.307 1508.57,441.127 1509.84,440.938 1510.18,440.885 1511.11,440.739 1512.38,440.53 1513.65,440.312 1514.92,440.084 \n",
       "  1515.92,439.896 1516.18,439.846 1517.45,439.599 1518.72,439.342 1519.99,439.076 1520.77,438.907 1521.26,438.8 \n",
       "  \"/>\n",
       "</svg>\n"
      ]
     },
     "execution_count": 222,
     "metadata": {},
     "output_type": "execute_result"
    }
   ],
   "source": [
    "contour(-5:0.01:5, -5:0.01:5, f5, levels=[0], line = 3)\n",
    "contour!(-5:0.01:5, -5:0.01:5, f6, levels=[0], xlabel = \"x\", ylabel=\"y\", size = (400, 300))"
   ]
  },
  {
   "cell_type": "markdown",
   "metadata": {},
   "source": [
    "De acordo com o gráfico, o ponto solução do sistema de equações é aproximadamente $(2.0, 3.0)$"
   ]
  },
  {
   "cell_type": "markdown",
   "metadata": {},
   "source": [
    "#### SYMPY.JL"
   ]
  },
  {
   "cell_type": "markdown",
   "metadata": {},
   "source": [
    "A função `nsolve()` resolve sistemas de equações algébricas não-lineares e retorna um vetor contendo as soluções do sistema do tipo `Sym`. Sintaxe: \n",
    "```julia\n",
    "nsolve([eq_1,..., eq_n], [var_1,..., var_n], [valor_1,..., valor_n])\n",
    "```\n",
    "Sendo: \n",
    "* **[eq_1 , ..., eq_n]**: vetor das equações algébricas expressas por funções genéricas. Não funciona com funções anônimas;\n",
    "* **[var_1, ..., var_n]**: vetor das variável das equações algébricas.\n",
    "* **[valor_var_1,..., valor_var_n]**: vetor de soluções iniciais do sistema.\n",
    "\n",
    "A função `nsolve()` retorna um vetor de dados simbólicos do tipo `SymPy.Sym`."
   ]
  },
  {
   "cell_type": "code",
   "execution_count": 228,
   "metadata": {
    "collapsed": false,
    "scrolled": true
   },
   "outputs": [
    {
     "data": {
      "text/latex": [
       "\\begin{bmatrix}1.991319354723525449468532229112811182674010473495033994723729082449806234807\\\\2.912875545325404325640533340730442672183820525227634424225062614837766899438\\end{bmatrix}"
      ],
      "text/plain": [
       "2-element Array{Sym,1}:\n",
       " 1.991319354723525449468532229112811182674010473495033994723729082449806234807\n",
       " 2.912875545325404325640533340730442672183820525227634424225062614837766899438"
      ]
     },
     "execution_count": 228,
     "metadata": {},
     "output_type": "execute_result"
    }
   ],
   "source": [
    "sol_nlsis = nsolve([f5(x, y) , f6(x, y) ],[x, y], [1, 1], prec = 10)"
   ]
  },
  {
   "cell_type": "code",
   "execution_count": 229,
   "metadata": {
    "collapsed": false
   },
   "outputs": [
    {
     "data": {
      "text/plain": [
       "Array{Sym,1}"
      ]
     },
     "execution_count": 229,
     "metadata": {},
     "output_type": "execute_result"
    }
   ],
   "source": [
    "typeof(sol_nlsis)"
   ]
  },
  {
   "cell_type": "markdown",
   "metadata": {},
   "source": [
    "A função `nsolve()` retorna o resultado do tipo `Array{Sym,1}`. É interssante converter para um valor numérico (Ex: Float). Para acessar o valor $1.991319355$ use:"
   ]
  },
  {
   "cell_type": "code",
   "execution_count": 230,
   "metadata": {
    "collapsed": false,
    "scrolled": true
   },
   "outputs": [
    {
     "data": {
      "text/latex": [
       "\\begin{equation*}1.991319354723525449468532229112811182674010473495033994723729082449806234807\\end{equation*}"
      ],
      "text/plain": [
       "1.991319354723525449468532229112811182674010473495033994723729082449806234807"
      ]
     },
     "execution_count": 230,
     "metadata": {},
     "output_type": "execute_result"
    }
   ],
   "source": [
    "sol_nlsis[1]"
   ]
  },
  {
   "cell_type": "markdown",
   "metadata": {},
   "source": [
    "Gráfico com os resultados:"
   ]
  },
  {
   "cell_type": "code",
   "execution_count": 232,
   "metadata": {
    "collapsed": false
   },
   "outputs": [
    {
     "data": {
      "image/svg+xml": [
       "<?xml version=\"1.0\" encoding=\"utf-8\"?>\n",
       "<svg xmlns=\"http://www.w3.org/2000/svg\" xmlns:xlink=\"http://www.w3.org/1999/xlink\" width=\"400\" height=\"300\" viewBox=\"0 0 1600 1200\">\n",
       "<defs>\n",
       "  <clipPath id=\"clip9600\">\n",
       "    <rect x=\"0\" y=\"0\" width=\"2000\" height=\"2000\"/>\n",
       "  </clipPath>\n",
       "</defs>\n",
       "<defs>\n",
       "  <clipPath id=\"clip9601\">\n",
       "    <rect x=\"0\" y=\"0\" width=\"1600\" height=\"1200\"/>\n",
       "  </clipPath>\n",
       "</defs>\n",
       "<polygon clip-path=\"url(#clip9601)\" points=\"\n",
       "0,1200 1600,1200 1600,0 0,0 \n",
       "  \" fill=\"#ffffff\" fill-rule=\"evenodd\" fill-opacity=\"1\"/>\n",
       "<defs>\n",
       "  <clipPath id=\"clip9602\">\n",
       "    <rect x=\"320\" y=\"0\" width=\"1121\" height=\"1121\"/>\n",
       "  </clipPath>\n",
       "</defs>\n",
       "<polygon clip-path=\"url(#clip9601)\" points=\"\n",
       "212.353,1036.29 1521.26,1036.29 1521.26,47.2441 212.353,47.2441 \n",
       "  \" fill=\"#ffffff\" fill-rule=\"evenodd\" fill-opacity=\"1\"/>\n",
       "<defs>\n",
       "  <clipPath id=\"clip9603\">\n",
       "    <rect x=\"212\" y=\"47\" width=\"1310\" height=\"990\"/>\n",
       "  </clipPath>\n",
       "</defs>\n",
       "<polyline clip-path=\"url(#clip9603)\" style=\"stroke:#000000; stroke-width:2; stroke-opacity:0.1; fill:none\" points=\"\n",
       "  372.879,1036.29 372.879,47.2441 \n",
       "  \"/>\n",
       "<polyline clip-path=\"url(#clip9603)\" style=\"stroke:#000000; stroke-width:2; stroke-opacity:0.1; fill:none\" points=\"\n",
       "  619.843,1036.29 619.843,47.2441 \n",
       "  \"/>\n",
       "<polyline clip-path=\"url(#clip9603)\" style=\"stroke:#000000; stroke-width:2; stroke-opacity:0.1; fill:none\" points=\"\n",
       "  866.806,1036.29 866.806,47.2441 \n",
       "  \"/>\n",
       "<polyline clip-path=\"url(#clip9603)\" style=\"stroke:#000000; stroke-width:2; stroke-opacity:0.1; fill:none\" points=\"\n",
       "  1113.77,1036.29 1113.77,47.2441 \n",
       "  \"/>\n",
       "<polyline clip-path=\"url(#clip9603)\" style=\"stroke:#000000; stroke-width:2; stroke-opacity:0.1; fill:none\" points=\"\n",
       "  1360.73,1036.29 1360.73,47.2441 \n",
       "  \"/>\n",
       "<polyline clip-path=\"url(#clip9603)\" style=\"stroke:#000000; stroke-width:2; stroke-opacity:0.1; fill:none\" points=\"\n",
       "  212.353,914.993 1521.26,914.993 \n",
       "  \"/>\n",
       "<polyline clip-path=\"url(#clip9603)\" style=\"stroke:#000000; stroke-width:2; stroke-opacity:0.1; fill:none\" points=\"\n",
       "  212.353,728.38 1521.26,728.38 \n",
       "  \"/>\n",
       "<polyline clip-path=\"url(#clip9603)\" style=\"stroke:#000000; stroke-width:2; stroke-opacity:0.1; fill:none\" points=\"\n",
       "  212.353,541.768 1521.26,541.768 \n",
       "  \"/>\n",
       "<polyline clip-path=\"url(#clip9603)\" style=\"stroke:#000000; stroke-width:2; stroke-opacity:0.1; fill:none\" points=\"\n",
       "  212.353,355.155 1521.26,355.155 \n",
       "  \"/>\n",
       "<polyline clip-path=\"url(#clip9603)\" style=\"stroke:#000000; stroke-width:2; stroke-opacity:0.1; fill:none\" points=\"\n",
       "  212.353,168.542 1521.26,168.542 \n",
       "  \"/>\n",
       "<polyline clip-path=\"url(#clip9601)\" style=\"stroke:#000000; stroke-width:4; stroke-opacity:1; fill:none\" points=\"\n",
       "  212.353,1036.29 1521.26,1036.29 \n",
       "  \"/>\n",
       "<polyline clip-path=\"url(#clip9601)\" style=\"stroke:#000000; stroke-width:4; stroke-opacity:1; fill:none\" points=\"\n",
       "  212.353,1036.29 212.353,47.2441 \n",
       "  \"/>\n",
       "<polyline clip-path=\"url(#clip9601)\" style=\"stroke:#000000; stroke-width:4; stroke-opacity:1; fill:none\" points=\"\n",
       "  372.879,1036.29 372.879,1021.46 \n",
       "  \"/>\n",
       "<polyline clip-path=\"url(#clip9601)\" style=\"stroke:#000000; stroke-width:4; stroke-opacity:1; fill:none\" points=\"\n",
       "  619.843,1036.29 619.843,1021.46 \n",
       "  \"/>\n",
       "<polyline clip-path=\"url(#clip9601)\" style=\"stroke:#000000; stroke-width:4; stroke-opacity:1; fill:none\" points=\"\n",
       "  866.806,1036.29 866.806,1021.46 \n",
       "  \"/>\n",
       "<polyline clip-path=\"url(#clip9601)\" style=\"stroke:#000000; stroke-width:4; stroke-opacity:1; fill:none\" points=\"\n",
       "  1113.77,1036.29 1113.77,1021.46 \n",
       "  \"/>\n",
       "<polyline clip-path=\"url(#clip9601)\" style=\"stroke:#000000; stroke-width:4; stroke-opacity:1; fill:none\" points=\"\n",
       "  1360.73,1036.29 1360.73,1021.46 \n",
       "  \"/>\n",
       "<polyline clip-path=\"url(#clip9601)\" style=\"stroke:#000000; stroke-width:4; stroke-opacity:1; fill:none\" points=\"\n",
       "  212.353,914.993 231.986,914.993 \n",
       "  \"/>\n",
       "<polyline clip-path=\"url(#clip9601)\" style=\"stroke:#000000; stroke-width:4; stroke-opacity:1; fill:none\" points=\"\n",
       "  212.353,728.38 231.986,728.38 \n",
       "  \"/>\n",
       "<polyline clip-path=\"url(#clip9601)\" style=\"stroke:#000000; stroke-width:4; stroke-opacity:1; fill:none\" points=\"\n",
       "  212.353,541.768 231.986,541.768 \n",
       "  \"/>\n",
       "<polyline clip-path=\"url(#clip9601)\" style=\"stroke:#000000; stroke-width:4; stroke-opacity:1; fill:none\" points=\"\n",
       "  212.353,355.155 231.986,355.155 \n",
       "  \"/>\n",
       "<polyline clip-path=\"url(#clip9601)\" style=\"stroke:#000000; stroke-width:4; stroke-opacity:1; fill:none\" points=\"\n",
       "  212.353,168.542 231.986,168.542 \n",
       "  \"/>\n",
       "<g clip-path=\"url(#clip9601)\">\n",
       "<text style=\"fill:#000000; fill-opacity:1; font-family:Arial,Helvetica Neue,Helvetica,sans-serif; font-size:48px; text-anchor:middle;\" transform=\"rotate(0, 372.879, 1086.29)\" x=\"372.879\" y=\"1086.29\">-4</text>\n",
       "</g>\n",
       "<g clip-path=\"url(#clip9601)\">\n",
       "<text style=\"fill:#000000; fill-opacity:1; font-family:Arial,Helvetica Neue,Helvetica,sans-serif; font-size:48px; text-anchor:middle;\" transform=\"rotate(0, 619.843, 1086.29)\" x=\"619.843\" y=\"1086.29\">-2</text>\n",
       "</g>\n",
       "<g clip-path=\"url(#clip9601)\">\n",
       "<text style=\"fill:#000000; fill-opacity:1; font-family:Arial,Helvetica Neue,Helvetica,sans-serif; font-size:48px; text-anchor:middle;\" transform=\"rotate(0, 866.806, 1086.29)\" x=\"866.806\" y=\"1086.29\">0</text>\n",
       "</g>\n",
       "<g clip-path=\"url(#clip9601)\">\n",
       "<text style=\"fill:#000000; fill-opacity:1; font-family:Arial,Helvetica Neue,Helvetica,sans-serif; font-size:48px; text-anchor:middle;\" transform=\"rotate(0, 1113.77, 1086.29)\" x=\"1113.77\" y=\"1086.29\">2</text>\n",
       "</g>\n",
       "<g clip-path=\"url(#clip9601)\">\n",
       "<text style=\"fill:#000000; fill-opacity:1; font-family:Arial,Helvetica Neue,Helvetica,sans-serif; font-size:48px; text-anchor:middle;\" transform=\"rotate(0, 1360.73, 1086.29)\" x=\"1360.73\" y=\"1086.29\">4</text>\n",
       "</g>\n",
       "<g clip-path=\"url(#clip9601)\">\n",
       "<text style=\"fill:#000000; fill-opacity:1; font-family:Arial,Helvetica Neue,Helvetica,sans-serif; font-size:48px; text-anchor:end;\" transform=\"rotate(0, 196.353, 932.493)\" x=\"196.353\" y=\"932.493\">-4</text>\n",
       "</g>\n",
       "<g clip-path=\"url(#clip9601)\">\n",
       "<text style=\"fill:#000000; fill-opacity:1; font-family:Arial,Helvetica Neue,Helvetica,sans-serif; font-size:48px; text-anchor:end;\" transform=\"rotate(0, 196.353, 745.88)\" x=\"196.353\" y=\"745.88\">-2</text>\n",
       "</g>\n",
       "<g clip-path=\"url(#clip9601)\">\n",
       "<text style=\"fill:#000000; fill-opacity:1; font-family:Arial,Helvetica Neue,Helvetica,sans-serif; font-size:48px; text-anchor:end;\" transform=\"rotate(0, 196.353, 559.268)\" x=\"196.353\" y=\"559.268\">0</text>\n",
       "</g>\n",
       "<g clip-path=\"url(#clip9601)\">\n",
       "<text style=\"fill:#000000; fill-opacity:1; font-family:Arial,Helvetica Neue,Helvetica,sans-serif; font-size:48px; text-anchor:end;\" transform=\"rotate(0, 196.353, 372.655)\" x=\"196.353\" y=\"372.655\">2</text>\n",
       "</g>\n",
       "<g clip-path=\"url(#clip9601)\">\n",
       "<text style=\"fill:#000000; fill-opacity:1; font-family:Arial,Helvetica Neue,Helvetica,sans-serif; font-size:48px; text-anchor:end;\" transform=\"rotate(0, 196.353, 186.042)\" x=\"196.353\" y=\"186.042\">4</text>\n",
       "</g>\n",
       "<g clip-path=\"url(#clip9601)\">\n",
       "<text style=\"fill:#000000; fill-opacity:1; font-family:Arial,Helvetica Neue,Helvetica,sans-serif; font-size:66px; text-anchor:middle;\" transform=\"rotate(0, 866.806, 1190.4)\" x=\"866.806\" y=\"1190.4\">x</text>\n",
       "</g>\n",
       "<g clip-path=\"url(#clip9601)\">\n",
       "<text style=\"fill:#000000; fill-opacity:1; font-family:Arial,Helvetica Neue,Helvetica,sans-serif; font-size:66px; text-anchor:middle;\" transform=\"rotate(-90, 57.6, 541.768)\" x=\"57.6\" y=\"541.768\">y</text>\n",
       "</g>\n",
       "<polyline clip-path=\"url(#clip9603)\" style=\"stroke:#ea6428; stroke-width:12; stroke-opacity:1; fill:none\" points=\"\n",
       "  1060.93,1008.3 1061.33,1007.37 1061.73,1006.43 1061.91,1006.01 1062.12,1005.5 1062.52,1004.57 1062.92,1003.63 1063.14,1003.12 1063.32,1002.7 1063.72,1001.77 \n",
       "  1064.13,1000.83 1064.38,1000.25 1064.53,999.901 1064.93,998.968 1065.34,998.035 1065.61,997.403 1065.74,997.102 1066.15,996.169 1066.56,995.236 1066.85,994.569 \n",
       "  1066.96,994.303 1067.37,993.37 1067.78,992.437 1068.08,991.748 1068.19,991.504 1068.6,990.571 1069.01,989.638 1069.32,988.936 1069.42,988.705 1069.83,987.772 \n",
       "  1070.24,986.839 1070.55,986.13 1070.65,985.906 1071.06,984.972 1071.47,984.039 1071.79,983.329 1071.88,983.106 1072.3,982.173 1072.71,981.24 1073.02,980.53 \n",
       "  1073.12,980.307 1073.53,979.374 1073.94,978.441 1074.26,977.73 1074.35,977.508 1074.76,976.575 1075.18,975.642 1075.49,974.926 1075.59,974.709 1076,973.776 \n",
       "  1076.41,972.843 1076.73,972.117 1076.82,971.91 1077.23,970.977 1077.63,970.043 1077.96,969.299 1078.04,969.11 1078.45,968.177 1078.86,967.244 1079.19,966.47 \n",
       "  1079.26,966.311 1079.67,965.378 1080.07,964.445 1080.43,963.626 1080.48,963.512 1080.88,962.579 1081.29,961.646 1081.66,960.766 1081.69,960.713 1082.09,959.78 \n",
       "  1082.49,958.847 1082.89,957.914 1082.9,957.886 1083.29,956.981 1083.68,956.048 1084.08,955.114 1084.13,954.983 1084.47,954.181 1084.87,953.248 1085.26,952.315 \n",
       "  1085.37,952.053 1085.65,951.382 1086.04,950.449 1086.43,949.516 1086.6,949.093 1086.82,948.583 1087.2,947.65 1087.59,946.717 1087.84,946.099 1087.97,945.784 \n",
       "  1088.35,944.851 1088.73,943.918 1089.07,943.066 1089.11,942.985 1089.48,942.052 1089.86,941.119 1090.23,940.185 1090.31,939.989 1090.6,939.252 1090.97,938.319 \n",
       "  1091.34,937.386 1091.54,936.863 1091.7,936.453 1092.07,935.52 1092.43,934.587 1092.78,933.682 1092.79,933.654 1093.15,932.721 1093.5,931.788 1093.86,930.855 \n",
       "  1094.01,930.438 1094.21,929.922 1094.56,928.989 1094.9,928.056 1095.25,927.125 1095.25,927.123 1095.59,926.19 1095.93,925.256 1096.27,924.323 1096.48,923.731 \n",
       "  1096.61,923.39 1096.94,922.457 1097.27,921.524 1097.6,920.591 1097.72,920.248 1097.92,919.658 1098.25,918.725 1098.57,917.792 1098.89,916.859 1098.95,916.661 \n",
       "  1099.2,915.926 1099.51,914.993 1099.82,914.06 1100.13,913.127 1100.19,912.956 1100.44,912.194 1100.74,911.261 1101.04,910.327 1101.33,909.394 1101.42,909.113 \n",
       "  1101.63,908.461 1101.92,907.528 1102.2,906.595 1102.49,905.662 1102.66,905.107 1102.77,904.729 1103.05,903.796 1103.32,902.863 1103.6,901.93 1103.87,900.997 \n",
       "  1103.89,900.91 1104.13,900.064 1104.4,899.131 1104.66,898.198 1104.91,897.265 1105.13,896.478 1105.17,896.331 1105.42,895.398 1105.66,894.465 1105.91,893.532 \n",
       "  1106.15,892.599 1106.36,891.757 1106.38,891.666 1106.62,890.733 1106.85,889.8 1107.07,888.867 1107.3,887.934 1107.52,887.001 1107.6,886.664 1107.73,886.068 \n",
       "  1107.95,885.135 1108.16,884.202 1108.36,883.269 1108.56,882.336 1108.76,881.402 1108.83,881.076 1108.96,880.469 1109.15,879.536 1109.34,878.603 1109.52,877.67 \n",
       "  1109.7,876.737 1109.88,875.804 1110.05,874.871 1110.07,874.787 1110.22,873.938 1110.38,873.005 1110.55,872.072 1110.7,871.139 1110.86,870.206 1111.01,869.273 \n",
       "  1111.15,868.34 1111.3,867.407 1111.3,867.384 1111.44,866.473 1111.57,865.54 1111.7,864.607 1111.83,863.674 1111.95,862.741 1112.07,861.808 1112.18,860.875 \n",
       "  1112.3,859.942 1112.4,859.009 1112.51,858.076 1112.54,857.807 1112.61,857.143 1112.7,856.21 1112.79,855.277 1112.88,854.344 1112.96,853.411 1113.04,852.478 \n",
       "  1113.12,851.544 1113.19,850.611 1113.25,849.678 1113.32,848.745 1113.38,847.812 1113.43,846.879 1113.48,845.946 1113.53,845.013 1113.57,844.08 1113.61,843.147 \n",
       "  1113.64,842.214 1113.67,841.281 1113.7,840.348 1113.72,839.415 1113.74,838.482 1113.75,837.549 1113.76,836.615 1113.77,835.682 1113.77,834.749 1113.77,833.816 \n",
       "  1113.76,832.883 1113.75,831.95 1113.73,831.017 1113.72,830.084 1113.69,829.151 1113.66,828.218 1113.63,827.285 1113.6,826.352 1113.56,825.419 1113.51,824.486 \n",
       "  1113.47,823.553 1113.41,822.62 1113.36,821.686 1113.3,820.753 1113.23,819.82 1113.17,818.887 1113.09,817.954 1113.02,817.021 1112.94,816.088 1112.85,815.155 \n",
       "  1112.76,814.222 1112.67,813.289 1112.57,812.356 1112.54,811.99 1112.47,811.423 1112.37,810.49 1112.26,809.557 1112.15,808.624 1112.03,807.691 1111.91,806.757 \n",
       "  1111.79,805.824 1111.66,804.891 1111.53,803.958 1111.39,803.025 1111.3,802.415 1111.25,802.092 1111.11,801.159 1110.96,800.226 1110.81,799.293 1110.65,798.36 \n",
       "  1110.5,797.427 1110.33,796.494 1110.17,795.561 1110.07,795.011 1110,794.628 1109.82,793.695 1109.64,792.761 1109.46,791.828 1109.28,790.895 1109.09,789.962 \n",
       "  1108.9,789.029 1108.83,788.719 1108.7,788.096 1108.5,787.163 1108.3,786.23 1108.09,785.297 1107.88,784.364 1107.67,783.431 1107.6,783.132 1107.45,782.498 \n",
       "  1107.23,781.565 1107,780.632 1106.77,779.699 1106.54,778.766 1106.36,778.04 1106.31,777.832 1106.07,776.899 1105.83,775.966 1105.58,775.033 1105.34,774.1 \n",
       "  1105.13,773.318 1105.09,773.167 1104.83,772.234 1104.57,771.301 1104.31,770.368 1104.05,769.435 1103.89,768.887 1103.78,768.502 1103.51,767.569 1103.24,766.636 \n",
       "  1102.96,765.703 1102.68,764.77 1102.66,764.688 1102.4,763.837 1102.11,762.903 1101.82,761.97 1101.53,761.037 1101.42,760.683 1101.24,760.104 1100.94,759.171 \n",
       "  1100.64,758.238 1100.34,757.305 1100.19,756.84 1100.03,756.372 1099.73,755.439 1099.41,754.506 1099.1,753.573 1098.95,753.135 1098.78,752.64 1098.47,751.707 \n",
       "  1098.14,750.774 1097.82,749.841 1097.72,749.548 1097.49,748.908 1097.16,747.974 1096.83,747.041 1096.5,746.108 1096.48,746.064 1096.16,745.175 1095.82,744.242 \n",
       "  1095.48,743.309 1095.25,742.672 1095.14,742.376 1094.79,741.443 1094.45,740.51 1094.1,739.577 1094.01,739.358 1093.74,738.644 1093.39,737.711 1093.03,736.778 \n",
       "  1092.78,736.114 1092.67,735.845 1092.31,734.912 1091.95,733.979 1091.59,733.045 1091.54,732.933 1091.22,732.112 1090.85,731.179 1090.48,730.246 1090.31,729.807 \n",
       "  1090.11,729.313 1089.74,728.38 1089.36,727.447 1089.07,726.73 1088.99,726.514 1088.61,725.581 1088.23,724.648 1087.85,723.715 1087.84,723.697 1087.46,722.782 \n",
       "  1087.08,721.849 1086.69,720.916 1086.6,720.703 1086.3,719.983 1085.92,719.05 1085.53,718.116 1085.37,717.743 1085.13,717.183 1084.74,716.25 1084.35,715.317 \n",
       "  1084.13,714.813 1083.95,714.384 1083.56,713.451 1083.16,712.518 1082.9,711.91 1082.76,711.585 1082.36,710.652 1081.96,709.719 1081.66,709.03 1081.56,708.786 \n",
       "  1081.16,707.853 1080.75,706.92 1080.43,706.17 1080.35,705.987 1079.95,705.054 1079.54,704.121 1079.19,703.326 1079.13,703.187 1078.73,702.254 1078.32,701.321 \n",
       "  1077.96,700.497 1077.91,700.388 1077.5,699.455 1077.1,698.522 1076.73,697.679 1076.69,697.589 1076.28,696.656 1075.87,695.723 1075.49,694.87 1075.46,694.79 \n",
       "  1075.04,693.857 1074.63,692.924 1074.26,692.066 1074.22,691.991 1073.81,691.058 1073.4,690.125 1073.02,689.266 1072.99,689.191 1072.58,688.258 1072.16,687.325 \n",
       "  1071.79,686.466 1071.75,686.392 1071.34,685.459 1070.93,684.526 1070.55,683.665 1070.52,683.593 1070.11,682.66 1069.7,681.727 1069.32,680.86 1069.29,680.794 \n",
       "  1068.88,679.861 1068.47,678.928 1068.08,678.048 1068.06,677.995 1067.65,677.062 1067.24,676.129 1066.85,675.227 1066.83,675.196 1066.43,674.262 1066.02,673.329 \n",
       "  1065.61,672.396 1065.61,672.393 1065.21,671.463 1064.8,670.53 1064.4,669.597 1064.38,669.545 1064,668.664 1063.59,667.731 1063.19,666.798 1063.14,666.678 \n",
       "  1062.79,665.865 1062.39,664.932 1062,663.999 1061.91,663.791 1061.6,663.066 1061.2,662.133 1060.81,661.2 1060.67,660.879 1060.41,660.267 1060.02,659.333 \n",
       "  1059.63,658.4 1059.44,657.94 1059.24,657.467 1058.85,656.534 1058.46,655.601 1058.2,654.969 1058.08,654.668 1057.69,653.735 1057.31,652.802 1056.97,651.962 \n",
       "  1056.93,651.869 1056.55,650.936 1056.17,650.003 1055.8,649.07 1055.73,648.915 1055.42,648.137 1055.05,647.204 1054.68,646.271 1054.5,645.822 1054.31,645.338 \n",
       "  1053.94,644.404 1053.57,643.471 1053.26,642.678 1053.21,642.538 1052.85,641.605 1052.49,640.672 1052.13,639.739 1052.03,639.477 1051.77,638.806 1051.42,637.873 \n",
       "  1051.07,636.94 1050.79,636.211 1050.72,636.007 1050.37,635.074 1050.02,634.141 1049.68,633.208 1049.56,632.872 1049.34,632.275 1049,631.342 1048.67,630.409 \n",
       "  1048.33,629.475 1048.32,629.451 1048,628.542 1047.67,627.609 1047.35,626.676 1047.09,625.934 1047.02,625.743 1046.7,624.81 1046.38,623.877 1046.07,622.944 \n",
       "  1045.85,622.31 1045.75,622.011 1045.44,621.078 1045.14,620.145 1044.83,619.212 1044.62,618.561 1044.53,618.279 1044.23,617.346 1043.93,616.413 1043.64,615.48 \n",
       "  1043.39,614.667 1043.35,614.546 1043.06,613.613 1042.77,612.68 1042.49,611.747 1042.21,610.814 1042.15,610.601 1041.94,609.881 1041.66,608.948 1041.39,608.015 \n",
       "  1041.13,607.082 1040.92,606.33 1040.86,606.149 1040.6,605.216 1040.35,604.283 1040.09,603.35 1039.84,602.417 1039.68,601.809 1039.59,601.484 1039.35,600.55 \n",
       "  1039.11,599.617 1038.87,598.684 1038.64,597.751 1038.45,596.975 1038.41,596.818 1038.18,595.885 1037.96,594.952 1037.74,594.019 1037.52,593.086 1037.31,592.153 \n",
       "  1037.21,591.734 1037.1,591.22 1036.89,590.287 1036.69,589.354 1036.49,588.421 1036.29,587.488 1036.1,586.555 1035.98,585.941 1035.91,585.621 1035.73,584.688 \n",
       "  1035.55,583.755 1035.37,582.822 1035.2,581.889 1035.03,580.956 1034.86,580.023 1034.74,579.341 1034.7,579.09 1034.54,578.157 1034.38,577.224 1034.23,576.291 \n",
       "  1034.09,575.358 1033.94,574.425 1033.8,573.492 1033.67,572.559 1033.54,571.626 1033.51,571.395 1033.41,570.692 1033.29,569.759 1033.17,568.826 1033.05,567.893 \n",
       "  1032.94,566.96 1032.83,566.027 1032.73,565.094 1032.63,564.161 1032.53,563.228 1032.44,562.295 1032.35,561.362 1032.27,560.459 1032.27,560.429 1032.19,559.496 \n",
       "  1032.11,558.563 1032.04,557.63 1031.97,556.697 1031.91,555.763 1031.85,554.83 1031.8,553.897 1031.74,552.964 1031.7,552.031 1031.65,551.098 1031.62,550.165 \n",
       "  1031.58,549.232 1031.55,548.299 1031.52,547.366 1031.5,546.433 1031.48,545.5 1031.47,544.567 1031.46,543.634 1031.45,542.701 1031.45,541.768 1031.45,540.834 \n",
       "  1031.46,539.901 1031.47,538.968 1031.48,538.035 1031.5,537.102 1031.52,536.169 1031.55,535.236 1031.58,534.303 1031.62,533.37 1031.65,532.437 1031.7,531.504 \n",
       "  1031.74,530.571 1031.8,529.638 1031.85,528.705 1031.91,527.772 1031.97,526.839 1032.04,525.905 1032.11,524.972 1032.19,524.039 1032.27,523.106 1032.27,523.076 \n",
       "  1032.35,522.173 1032.44,521.24 1032.53,520.307 1032.63,519.374 1032.73,518.441 1032.83,517.508 1032.94,516.575 1033.05,515.642 1033.17,514.709 1033.29,513.776 \n",
       "  1033.41,512.843 1033.51,512.14 1033.54,511.91 1033.67,510.976 1033.8,510.043 1033.94,509.11 1034.09,508.177 1034.23,507.244 1034.38,506.311 1034.54,505.378 \n",
       "  1034.7,504.445 1034.74,504.194 1034.86,503.512 1035.03,502.579 1035.2,501.646 1035.37,500.713 1035.55,499.78 1035.73,498.847 1035.91,497.914 1035.98,497.594 \n",
       "  1036.1,496.98 1036.29,496.047 1036.49,495.114 1036.69,494.181 1036.89,493.248 1037.1,492.315 1037.21,491.801 1037.31,491.382 1037.52,490.449 1037.74,489.516 \n",
       "  1037.96,488.583 1038.18,487.65 1038.41,486.717 1038.45,486.56 1038.64,485.784 1038.87,484.851 1039.11,483.918 1039.35,482.985 1039.59,482.051 1039.68,481.726 \n",
       "  1039.84,481.118 1040.09,480.185 1040.35,479.252 1040.6,478.319 1040.86,477.386 1040.92,477.205 1041.13,476.453 1041.39,475.52 1041.66,474.587 1041.94,473.654 \n",
       "  1042.15,472.934 1042.21,472.721 1042.49,471.788 1042.77,470.855 1043.06,469.922 1043.35,468.989 1043.39,468.868 1043.64,468.056 1043.93,467.122 1044.23,466.189 \n",
       "  1044.53,465.256 1044.62,464.974 1044.83,464.323 1045.14,463.39 1045.44,462.457 1045.75,461.524 1045.85,461.225 1046.07,460.591 1046.38,459.658 1046.7,458.725 \n",
       "  1047.02,457.792 1047.09,457.601 1047.35,456.859 1047.67,455.926 1048,454.993 1048.32,454.084 1048.33,454.06 1048.67,453.127 1049,452.193 1049.34,451.26 \n",
       "  1049.56,450.663 1049.68,450.327 1050.02,449.394 1050.37,448.461 1050.72,447.528 1050.79,447.324 1051.07,446.595 1051.42,445.662 1051.77,444.729 1052.03,444.058 \n",
       "  1052.13,443.796 1052.49,442.863 1052.85,441.93 1053.21,440.997 1053.26,440.857 1053.57,440.064 1053.94,439.131 1054.31,438.198 1054.5,437.713 1054.68,437.264 \n",
       "  1055.05,436.331 1055.42,435.398 1055.73,434.62 1055.8,434.465 1056.17,433.532 1056.55,432.599 1056.93,431.666 1056.97,431.573 1057.31,430.733 1057.69,429.8 \n",
       "  1058.08,428.867 1058.2,428.566 1058.46,427.934 1058.85,427.001 1059.24,426.068 1059.44,425.595 1059.63,425.135 1060.02,424.202 1060.41,423.269 1060.67,422.656 \n",
       "  1060.81,422.335 1061.2,421.402 1061.6,420.469 1061.91,419.744 1062,419.536 1062.39,418.603 1062.79,417.67 1063.14,416.857 1063.19,416.737 1063.59,415.804 \n",
       "  1064,414.871 1064.38,413.99 1064.4,413.938 1064.8,413.005 1065.21,412.072 1065.61,411.142 1065.61,411.139 1066.02,410.206 1066.43,409.273 1066.83,408.34 \n",
       "  1066.85,408.308 1067.24,407.406 1067.65,406.473 1068.06,405.54 1068.08,405.487 1068.47,404.607 1068.88,403.674 1069.29,402.741 1069.32,402.675 1069.7,401.808 \n",
       "  1070.11,400.875 1070.52,399.942 1070.55,399.87 1070.93,399.009 1071.34,398.076 1071.75,397.143 1071.79,397.069 1072.16,396.21 1072.58,395.277 1072.99,394.344 \n",
       "  1073.02,394.269 1073.4,393.41 1073.81,392.477 1074.22,391.544 1074.26,391.469 1074.63,390.611 1075.04,389.678 1075.46,388.745 1075.49,388.666 1075.87,387.812 \n",
       "  1076.28,386.879 1076.69,385.946 1076.73,385.856 1077.1,385.013 1077.5,384.08 1077.91,383.147 1077.96,383.038 1078.32,382.214 1078.73,381.281 1079.13,380.348 \n",
       "  1079.19,380.209 1079.54,379.415 1079.95,378.481 1080.35,377.548 1080.43,377.366 1080.75,376.615 1081.16,375.682 1081.56,374.749 1081.66,374.505 1081.96,373.816 \n",
       "  1082.36,372.883 1082.76,371.95 1082.9,371.625 1083.16,371.017 1083.56,370.084 1083.95,369.151 1084.13,368.722 1084.35,368.218 1084.74,367.285 1085.13,366.352 \n",
       "  1085.37,365.792 1085.53,365.419 1085.92,364.486 1086.3,363.552 1086.6,362.832 1086.69,362.619 1087.08,361.686 1087.46,360.753 1087.84,359.838 1087.85,359.82 \n",
       "  1088.23,358.887 1088.61,357.954 1088.99,357.021 1089.07,356.805 1089.36,356.088 1089.74,355.155 1090.11,354.222 1090.31,353.728 1090.48,353.289 1090.85,352.356 \n",
       "  1091.22,351.423 1091.54,350.602 1091.59,350.49 1091.95,349.557 1092.31,348.623 1092.67,347.69 1092.78,347.421 1093.03,346.757 1093.39,345.824 1093.74,344.891 \n",
       "  1094.01,344.177 1094.1,343.958 1094.45,343.025 1094.79,342.092 1095.14,341.159 1095.25,340.863 1095.48,340.226 1095.82,339.293 1096.16,338.36 1096.48,337.471 \n",
       "  1096.5,337.427 1096.83,336.494 1097.16,335.561 1097.49,334.628 1097.72,333.987 1097.82,333.694 1098.14,332.761 1098.47,331.828 1098.78,330.895 1098.95,330.4 \n",
       "  1099.1,329.962 1099.41,329.029 1099.73,328.096 1100.03,327.163 1100.19,326.695 1100.34,326.23 1100.64,325.297 1100.94,324.364 1101.24,323.431 1101.42,322.852 \n",
       "  1101.53,322.498 1101.82,321.565 1102.11,320.632 1102.4,319.699 1102.66,318.847 1102.68,318.765 1102.96,317.832 1103.24,316.899 1103.51,315.966 1103.78,315.033 \n",
       "  1103.89,314.648 1104.05,314.1 1104.31,313.167 1104.57,312.234 1104.83,311.301 1105.09,310.368 1105.13,310.217 1105.34,309.435 1105.58,308.502 1105.83,307.569 \n",
       "  1106.07,306.636 1106.31,305.703 1106.36,305.495 1106.54,304.77 1106.77,303.836 1107,302.903 1107.23,301.97 1107.45,301.037 1107.6,300.403 1107.67,300.104 \n",
       "  1107.88,299.171 1108.09,298.238 1108.3,297.305 1108.5,296.372 1108.7,295.439 1108.83,294.816 1108.9,294.506 1109.09,293.573 1109.28,292.64 1109.46,291.707 \n",
       "  1109.64,290.774 1109.82,289.84 1110,288.907 1110.07,288.524 1110.17,287.974 1110.33,287.041 1110.5,286.108 1110.65,285.175 1110.81,284.242 1110.96,283.309 \n",
       "  1111.11,282.376 1111.25,281.443 1111.3,281.12 1111.39,280.51 1111.53,279.577 1111.66,278.644 1111.79,277.711 1111.91,276.778 1112.03,275.845 1112.15,274.911 \n",
       "  1112.26,273.978 1112.37,273.045 1112.47,272.112 1112.54,271.545 1112.57,271.179 1112.67,270.246 1112.76,269.313 1112.85,268.38 1112.94,267.447 1113.02,266.514 \n",
       "  1113.09,265.581 1113.17,264.648 1113.23,263.715 1113.3,262.782 1113.36,261.849 1113.41,260.916 1113.47,259.982 1113.51,259.049 1113.56,258.116 1113.6,257.183 \n",
       "  1113.63,256.25 1113.66,255.317 1113.69,254.384 1113.72,253.451 1113.73,252.518 1113.75,251.585 1113.76,250.652 1113.77,249.719 1113.77,248.786 1113.77,247.853 \n",
       "  1113.76,246.92 1113.75,245.987 1113.74,245.053 1113.72,244.12 1113.7,243.187 1113.67,242.254 1113.64,241.321 1113.61,240.388 1113.57,239.455 1113.53,238.522 \n",
       "  \n",
       "  \"/>\n",
       "<polyline clip-path=\"url(#clip9603)\" style=\"stroke:#ea6428; stroke-width:12; stroke-opacity:1; fill:none\" points=\"\n",
       "  1113.53,238.522 1113.48,237.589 1113.43,236.656 1113.38,235.723 1113.32,234.79 1113.25,233.857 1113.19,232.924 1113.12,231.991 1113.04,231.058 1112.96,230.124 \n",
       "  1112.88,229.191 1112.79,228.258 1112.7,227.325 1112.61,226.392 1112.54,225.728 1112.51,225.459 1112.4,224.526 1112.3,223.593 1112.18,222.66 1112.07,221.727 \n",
       "  1111.95,220.794 1111.83,219.861 1111.7,218.928 1111.57,217.995 1111.44,217.062 1111.3,216.151 1111.3,216.129 1111.15,215.195 1111.01,214.262 1110.86,213.329 \n",
       "  1110.7,212.396 1110.55,211.463 1110.38,210.53 1110.22,209.597 1110.07,208.748 1110.05,208.664 1109.88,207.731 1109.7,206.798 1109.52,205.865 1109.34,204.932 \n",
       "  1109.15,203.999 1108.96,203.066 1108.83,202.459 1108.76,202.133 1108.56,201.2 1108.36,200.266 1108.16,199.333 1107.95,198.4 1107.73,197.467 1107.6,196.871 \n",
       "  1107.52,196.534 1107.3,195.601 1107.07,194.668 1106.85,193.735 1106.62,192.802 1106.38,191.869 1106.36,191.778 1106.15,190.936 1105.91,190.003 1105.66,189.07 \n",
       "  1105.42,188.137 1105.17,187.204 1105.13,187.057 1104.91,186.27 1104.66,185.337 1104.4,184.404 1104.13,183.471 1103.89,182.625 1103.87,182.538 1103.6,181.605 \n",
       "  1103.32,180.672 1103.05,179.739 1102.77,178.806 1102.66,178.428 1102.49,177.873 1102.2,176.94 1101.92,176.007 1101.63,175.074 1101.42,174.422 1101.33,174.141 \n",
       "  1101.04,173.208 1100.74,172.275 1100.44,171.341 1100.19,170.579 1100.13,170.408 1099.82,169.475 1099.51,168.542 1099.2,167.609 1098.95,166.874 1098.89,166.676 \n",
       "  1098.57,165.743 1098.25,164.81 1097.92,163.877 1097.72,163.287 1097.6,162.944 1097.27,162.011 1096.94,161.078 1096.61,160.145 1096.48,159.804 1096.27,159.212 \n",
       "  1095.93,158.279 1095.59,157.346 1095.25,156.412 1095.25,156.41 1094.9,155.479 1094.56,154.546 1094.21,153.613 1094.01,153.097 1093.86,152.68 1093.5,151.747 \n",
       "  1093.15,150.814 1092.79,149.881 1092.78,149.853 1092.43,148.948 1092.07,148.015 1091.7,147.082 1091.54,146.672 1091.34,146.149 1090.97,145.216 1090.6,144.283 \n",
       "  1090.31,143.546 1090.23,143.35 1089.86,142.417 1089.48,141.483 1089.11,140.55 1089.07,140.469 1088.73,139.617 1088.35,138.684 1087.97,137.751 1087.84,137.436 \n",
       "  1087.59,136.818 1087.2,135.885 1086.82,134.952 1086.6,134.442 1086.43,134.019 1086.04,133.086 1085.65,132.153 1085.37,131.482 1085.26,131.22 1084.87,130.287 \n",
       "  1084.47,129.354 1084.13,128.552 1084.08,128.421 1083.68,127.488 1083.29,126.554 1082.9,125.649 1082.89,125.621 1082.49,124.688 1082.09,123.755 1081.69,122.822 \n",
       "  1081.66,122.769 1081.29,121.889 1080.88,120.956 1080.48,120.023 1080.43,119.909 1080.07,119.09 1079.67,118.157 1079.26,117.224 1079.19,117.065 1078.86,116.291 \n",
       "  1078.45,115.358 1078.04,114.425 1077.96,114.236 1077.63,113.492 1077.23,112.559 1076.82,111.625 1076.73,111.418 1076.41,110.692 1076,109.759 1075.59,108.826 \n",
       "  1075.49,108.609 1075.18,107.893 1074.76,106.96 1074.35,106.027 1074.26,105.805 1073.94,105.094 1073.53,104.161 1073.12,103.228 1073.02,103.005 1072.71,102.295 \n",
       "  1072.3,101.362 1071.88,100.429 1071.79,100.206 1071.47,99.4956 1071.06,98.5626 1070.65,97.6295 1070.55,97.4046 1070.24,96.6964 1069.83,95.7634 1069.42,94.8303 \n",
       "  1069.32,94.5993 1069.01,93.8972 1068.6,92.9642 1068.19,92.0311 1068.08,91.7873 1067.78,91.0981 1067.37,90.165 1066.96,89.2319 1066.85,88.9658 1066.56,88.2989 \n",
       "  1066.15,87.3658 1065.74,86.4327 1065.61,86.1322 1065.34,85.4997 1064.93,84.5666 1064.53,83.6336 1064.38,83.2837 1064.13,82.7005 1063.72,81.7674 1063.32,80.8344 \n",
       "  1063.14,80.4173 1062.92,79.9013 1062.52,78.9682 1062.12,78.0352 1061.91,77.53 1061.73,77.1021 1061.33,76.169 1060.93,75.236 \n",
       "  \"/>\n",
       "<polyline clip-path=\"url(#clip9603)\" style=\"stroke:#ea6428; stroke-width:4; stroke-opacity:1; fill:none\" points=\"\n",
       "  249.397,265.681 249.874,265.581 250.632,265.421 251.867,265.17 253.102,264.928 254.337,264.694 254.593,264.648 255.571,264.47 256.806,264.255 258.041,264.049 \n",
       "  259.276,263.852 260.18,263.715 260.511,263.664 261.745,263.486 262.98,263.316 264.215,263.156 265.45,263.005 266.685,262.863 267.445,262.782 267.92,262.731 \n",
       "  269.154,262.607 270.389,262.493 271.624,262.388 272.859,262.293 274.094,262.206 275.328,262.129 276.563,262.062 277.798,262.003 279.033,261.954 280.268,261.915 \n",
       "  281.503,261.884 282.737,261.863 283.972,261.851 285.207,261.849 286.442,261.856 287.677,261.872 288.911,261.898 290.146,261.932 291.381,261.977 292.616,262.03 \n",
       "  293.851,262.093 295.086,262.165 296.32,262.247 297.555,262.337 298.79,262.437 300.025,262.547 301.26,262.665 302.386,262.782 302.494,262.793 303.729,262.93 \n",
       "  304.964,263.076 306.199,263.232 307.434,263.396 308.669,263.57 309.645,263.715 309.903,263.753 311.138,263.945 312.373,264.146 313.608,264.357 314.843,264.576 \n",
       "  315.23,264.648 316.077,264.805 317.312,265.042 318.547,265.289 319.782,265.544 319.953,265.581 321.017,265.809 322.252,266.082 323.486,266.364 324.12,266.514 \n",
       "  324.721,266.656 325.956,266.956 327.191,267.265 327.9,267.447 328.426,267.582 329.66,267.909 330.895,268.244 331.385,268.38 332.13,268.588 333.365,268.94 \n",
       "  334.6,269.301 334.64,269.313 335.835,269.671 337.069,270.049 337.699,270.246 338.304,270.436 339.539,270.831 340.604,271.179 340.774,271.235 342.009,271.647 \n",
       "  343.243,272.067 343.373,272.112 344.478,272.496 345.713,272.933 346.025,273.045 346.948,273.378 348.183,273.831 348.576,273.978 349.418,274.293 350.652,274.762 \n",
       "  351.038,274.911 351.887,275.24 353.122,275.726 353.419,275.845 354.357,276.219 355.592,276.721 355.729,276.778 356.826,277.23 357.974,277.711 358.061,277.747 \n",
       "  359.296,278.272 360.158,278.644 360.531,278.804 361.766,279.345 362.289,279.577 363.001,279.892 364.235,280.448 364.372,280.51 365.47,281.01 366.407,281.443 \n",
       "  366.705,281.581 367.94,282.158 368.4,282.376 369.175,282.743 370.356,283.309 370.409,283.335 371.644,283.934 372.272,284.242 372.879,284.54 374.114,285.154 \n",
       "  374.156,285.175 375.349,285.774 376.006,286.108 376.584,286.402 377.818,287.036 377.829,287.041 379.053,287.677 379.62,287.974 380.288,288.325 381.387,288.907 \n",
       "  381.523,288.979 382.758,289.64 383.128,289.84 383.992,290.308 384.845,290.774 385.227,290.982 386.462,291.663 386.541,291.707 387.697,292.349 388.214,292.64 \n",
       "  388.932,293.043 389.868,293.573 390.167,293.742 391.401,294.447 391.503,294.506 392.636,295.159 393.118,295.439 393.871,295.877 394.716,296.372 395.106,296.6 \n",
       "  396.299,297.305 396.341,297.33 397.575,298.065 397.864,298.238 398.81,298.806 399.415,299.171 400.045,299.552 400.952,300.104 401.28,300.304 402.475,301.037 \n",
       "  402.515,301.062 403.75,301.825 403.984,301.97 404.984,302.593 405.48,302.903 406.219,303.366 406.964,303.836 407.454,304.145 408.438,304.77 408.689,304.929 \n",
       "  409.9,305.703 409.924,305.718 411.158,306.512 411.35,306.636 412.393,307.31 412.79,307.569 413.628,308.114 414.221,308.502 414.863,308.922 415.642,309.435 \n",
       "  416.098,309.735 417.054,310.368 417.333,310.552 418.458,311.301 418.567,311.374 419.802,312.2 419.853,312.234 421.037,313.03 421.239,313.167 422.272,313.865 \n",
       "  422.618,314.1 423.507,314.704 423.989,315.033 424.741,315.547 425.353,315.966 425.976,316.393 426.711,316.899 427.211,317.244 428.061,317.832 428.446,318.098 \n",
       "  429.406,318.765 429.681,318.957 430.744,319.699 430.916,319.818 432.076,320.632 432.15,320.684 433.385,321.553 433.402,321.565 434.62,322.425 434.723,322.498 \n",
       "  435.855,323.3 436.039,323.431 437.09,324.179 437.349,324.364 438.324,325.06 438.655,325.297 439.559,325.945 439.956,326.23 440.794,326.833 441.252,327.163 \n",
       "  442.029,327.723 442.545,328.096 443.264,328.616 443.833,329.029 444.499,329.512 445.117,329.962 445.733,330.41 446.398,330.895 446.968,331.311 447.675,331.828 \n",
       "  448.203,332.215 448.949,332.761 449.438,333.12 450.219,333.694 450.673,334.028 451.486,334.628 451.907,334.938 452.751,335.561 453.142,335.85 454.012,336.494 \n",
       "  454.377,336.763 455.271,337.427 455.612,337.679 456.528,338.36 456.847,338.597 457.782,339.293 458.082,339.516 459.034,340.226 459.316,340.436 460.284,341.159 \n",
       "  460.551,341.358 461.532,342.092 461.786,342.282 462.778,343.025 463.021,343.207 464.023,343.958 464.256,344.133 465.266,344.891 465.49,345.06 466.508,345.824 \n",
       "  466.725,345.988 467.748,346.757 467.96,346.917 468.988,347.69 469.195,347.847 470.226,348.623 470.43,348.777 471.463,349.557 471.665,349.708 472.7,350.49 \n",
       "  472.899,350.64 473.936,351.423 474.134,351.572 475.172,352.356 475.369,352.505 476.407,353.289 476.604,353.437 477.642,354.222 477.839,354.37 478.877,355.155 \n",
       "  479.073,355.304 480.112,356.088 480.308,356.237 481.347,357.021 481.543,357.169 482.582,357.954 482.778,358.102 483.817,358.887 484.013,359.035 485.053,359.82 \n",
       "  485.248,359.967 486.29,360.753 486.482,360.898 487.528,361.686 487.717,361.829 488.766,362.619 488.952,362.76 490.005,363.552 490.187,363.689 491.246,364.486 \n",
       "  491.422,364.618 492.487,365.419 492.656,365.546 493.73,366.352 493.891,366.472 494.975,367.285 495.126,367.398 496.221,368.218 496.361,368.322 497.469,369.151 \n",
       "  497.596,369.245 498.719,370.084 498.831,370.167 499.971,371.017 500.065,371.087 501.225,371.95 501.3,372.006 502.482,372.883 502.535,372.923 503.741,373.816 \n",
       "  503.77,373.838 505.002,374.749 505.005,374.751 506.239,375.662 506.267,375.682 507.474,376.571 507.534,376.615 508.709,377.478 508.805,377.548 509.944,378.383 \n",
       "  510.078,378.481 511.179,379.286 511.355,379.415 512.414,380.186 512.636,380.348 513.648,381.083 513.92,381.281 514.883,381.978 515.209,382.214 516.118,382.871 \n",
       "  516.501,383.147 517.353,383.76 517.798,384.08 518.588,384.647 519.099,385.013 519.822,385.531 520.405,385.946 521.057,386.411 521.715,386.879 522.292,387.289 \n",
       "  523.031,387.812 523.527,388.163 524.352,388.745 524.762,389.034 525.678,389.678 525.997,389.902 527.01,390.611 527.231,390.766 528.348,391.544 528.466,391.627 \n",
       "  529.692,392.477 529.701,392.484 530.936,393.337 531.042,393.41 532.171,394.187 532.4,394.344 533.405,395.032 533.764,395.277 534.64,395.874 535.136,396.21 \n",
       "  535.875,396.711 536.515,397.143 537.11,397.544 537.901,398.076 538.345,398.374 539.296,399.009 539.58,399.198 540.699,399.942 540.814,400.019 542.049,400.835 \n",
       "  542.111,400.875 543.284,401.646 543.532,401.808 544.519,402.453 544.963,402.741 545.754,403.254 546.404,403.674 546.988,404.052 547.855,404.607 548.223,404.844 \n",
       "  549.316,405.54 549.458,405.631 550.693,406.413 550.788,406.473 551.928,407.19 552.273,407.406 553.163,407.962 553.77,408.34 554.397,408.729 555.279,409.273 \n",
       "  555.632,409.49 556.801,410.206 556.867,410.246 558.102,410.996 558.338,411.139 559.337,411.741 559.889,412.072 560.571,412.48 561.455,413.005 561.806,413.213 \n",
       "  563.036,413.938 563.041,413.941 564.276,414.662 564.636,414.871 565.511,415.378 566.252,415.804 566.746,416.088 567.885,416.737 567.98,416.791 569.215,417.489 \n",
       "  569.539,417.67 570.45,418.18 571.213,418.603 571.685,418.865 572.907,419.536 572.92,419.543 574.154,420.215 574.626,420.469 575.389,420.881 576.366,421.402 \n",
       "  576.624,421.54 577.859,422.192 578.133,422.335 579.094,422.838 579.926,423.269 580.329,423.477 581.563,424.109 581.747,424.202 582.798,424.734 583.599,425.135 \n",
       "  584.033,425.352 585.268,425.963 585.481,426.068 586.503,426.567 587.399,427.001 587.737,427.164 588.972,427.754 589.353,427.934 590.207,428.337 591.346,428.867 \n",
       "  591.442,428.912 592.677,429.479 593.383,429.8 593.912,430.04 595.146,430.593 595.464,430.733 596.381,431.138 597.594,431.666 597.616,431.676 598.851,432.206 \n",
       "  599.78,432.599 600.086,432.728 601.32,433.243 602.025,433.532 602.555,433.75 603.79,434.249 604.335,434.465 605.025,434.74 606.26,435.223 606.716,435.398 \n",
       "  607.495,435.698 608.729,436.165 609.178,436.331 609.964,436.624 611.199,437.074 611.729,437.264 612.434,437.517 613.669,437.951 614.382,438.198 614.903,438.377 \n",
       "  616.138,438.795 617.15,439.131 617.373,439.205 618.608,439.606 619.843,439.998 620.053,440.064 621.078,440.382 622.312,440.758 623.117,440.997 623.547,441.125 \n",
       "  624.782,441.483 626.017,441.833 626.368,441.93 627.252,442.174 628.486,442.506 629.721,442.83 629.851,442.863 630.956,443.145 632.191,443.451 633.426,443.748 \n",
       "  633.631,443.796 634.661,444.036 635.895,444.316 637.13,444.586 637.803,444.729 638.365,444.848 639.6,445.101 640.835,445.344 642.069,445.579 642.524,445.662 \n",
       "  643.304,445.805 644.539,446.021 645.774,446.228 647.009,446.427 648.107,446.595 648.244,446.616 649.478,446.796 650.713,446.967 651.948,447.129 653.183,447.281 \n",
       "  654.418,447.425 655.372,447.528 655.652,447.559 656.887,447.683 658.122,447.799 659.357,447.905 660.592,448.002 661.826,448.09 663.061,448.169 664.296,448.238 \n",
       "  665.531,448.298 666.766,448.348 668.001,448.39 669.235,448.421 670.47,448.444 671.705,448.457 672.94,448.461 674.175,448.456 675.409,448.441 676.644,448.417 \n",
       "  677.879,448.384 679.114,448.341 680.349,448.289 681.584,448.227 682.818,448.157 684.053,448.077 685.288,447.988 686.523,447.889 687.758,447.781 688.992,447.664 \n",
       "  690.227,447.538 690.316,447.528 691.462,447.402 692.697,447.258 693.932,447.104 695.167,446.94 696.401,446.768 697.578,446.595 697.636,446.587 698.871,446.396 \n",
       "  700.106,446.196 701.341,445.987 702.575,445.769 703.158,445.662 703.81,445.542 705.045,445.306 706.28,445.061 707.515,444.807 707.881,444.729 708.75,444.544 \n",
       "  709.984,444.272 711.219,443.991 712.05,443.796 712.454,443.701 713.689,443.403 714.924,443.095 715.83,442.863 716.158,442.779 717.393,442.454 718.628,442.12 \n",
       "  719.314,441.93 719.863,441.778 721.098,441.426 722.333,441.067 722.567,440.997 723.567,440.698 724.802,440.322 725.629,440.064 726.037,439.936 727.272,439.542 \n",
       "  728.507,439.14 728.535,439.131 729.741,438.729 730.976,438.31 731.302,438.198 732.211,437.883 733.446,437.447 733.954,437.264 734.681,437.003 735.916,436.551 \n",
       "  736.505,436.331 737.15,436.091 738.385,435.623 738.967,435.398 739.62,435.146 740.855,434.662 741.348,434.465 742.09,434.17 743.324,433.669 743.658,433.532 \n",
       "  744.559,433.161 745.794,432.646 745.904,432.599 747.029,432.122 748.088,431.666 748.264,431.591 749.499,431.052 750.219,430.733 750.733,430.505 751.968,429.951 \n",
       "  752.301,429.8 753.203,429.39 754.337,428.867 754.438,428.821 755.673,428.244 756.329,427.934 756.907,427.661 758.142,427.07 758.285,427.001 759.377,426.472 \n",
       "  760.201,426.068 760.612,425.866 761.847,425.254 762.085,425.135 763.082,424.635 763.936,424.202 764.316,424.009 765.551,423.375 765.758,423.269 766.786,422.735 \n",
       "  767.55,422.335 768.021,422.089 769.256,421.435 769.317,421.402 770.49,420.775 771.057,420.469 771.725,420.109 772.775,419.536 772.96,419.436 774.195,418.756 \n",
       "  774.47,418.603 775.43,418.07 776.144,417.67 776.665,417.378 777.798,416.737 777.899,416.68 779.134,415.975 779.432,415.804 780.369,415.264 781.047,414.871 \n",
       "  781.604,414.548 782.646,413.938 782.839,413.825 784.073,413.097 784.228,413.005 785.308,412.363 785.794,412.072 786.543,411.623 787.345,411.139 787.778,410.877 \n",
       "  788.882,410.206 789.013,410.126 790.248,409.369 790.404,409.273 791.482,408.607 791.913,408.34 792.717,407.84 793.409,407.406 793.952,407.067 794.894,406.473 \n",
       "  795.187,406.289 796.368,405.54 796.422,405.506 797.656,404.718 797.829,404.607 798.891,403.925 799.279,403.674 800.126,403.127 800.72,402.741 801.361,402.324 \n",
       "  802.151,401.808 802.596,401.517 803.572,400.875 803.831,400.705 804.984,399.942 805.065,399.888 806.3,399.067 806.388,399.009 807.535,398.242 807.782,398.076 \n",
       "  808.77,397.412 809.169,397.143 810.005,396.578 810.547,396.21 811.239,395.74 811.919,395.277 812.474,394.898 813.283,394.344 813.709,394.052 814.64,393.41 \n",
       "  814.944,393.202 815.991,392.477 816.179,392.348 817.335,391.544 817.414,391.49 818.648,390.629 818.673,390.611 819.883,389.764 820.005,389.678 821.118,388.896 \n",
       "  821.332,388.745 822.353,388.024 822.652,387.812 823.588,387.149 823.968,386.879 824.822,386.271 825.278,385.946 826.057,385.39 826.584,385.013 827.292,384.506 \n",
       "  827.885,384.08 828.527,383.619 829.182,383.147 829.762,382.729 830.474,382.214 830.997,381.836 831.762,381.281 832.231,380.941 833.047,380.348 833.466,380.043 \n",
       "  834.327,379.415 834.701,379.142 835.605,378.481 835.936,378.239 836.878,377.548 837.171,377.334 838.149,376.615 838.405,376.427 839.416,375.682 839.64,375.517 \n",
       "  840.68,374.749 840.875,374.606 841.942,373.816 842.11,373.692 843.201,372.883 843.345,372.777 844.458,371.95 844.58,371.859 845.712,371.017 845.814,370.941 \n",
       "  846.964,370.084 847.049,370.02 848.214,369.151 848.284,369.098 849.462,368.218 849.519,368.175 850.708,367.285 850.754,367.251 851.953,366.352 851.988,366.325 \n",
       "  853.196,365.419 853.223,365.398 854.437,364.486 854.458,364.47 855.678,363.552 855.693,363.541 856.917,362.619 856.928,362.611 858.155,361.686 858.163,361.681 \n",
       "  859.393,360.753 859.397,360.75 860.63,359.82 860.632,359.818 861.866,358.887 861.867,358.886 863.101,357.954 863.102,357.954 864.336,357.021 864.337,357.021 \n",
       "  865.571,356.088 865.571,356.088 866.806,355.155 868.041,354.222 868.041,354.222 869.276,353.289 869.276,353.289 870.511,352.356 870.511,352.356 \n",
       "  871.746,351.424 871.747,351.423 872.98,350.492 872.983,350.49 874.215,349.56 874.22,349.557 875.45,348.629 875.457,348.623 876.685,347.698 876.695,347.69 \n",
       "  877.92,346.769 877.935,346.757 879.154,345.84 879.175,345.824 880.389,344.912 880.417,344.891 881.624,343.985 881.66,343.958 882.859,343.059 882.905,343.025 \n",
       "  884.094,342.135 884.151,342.092 885.329,341.211 885.399,341.159 886.563,340.29 886.649,340.226 887.798,339.369 887.901,339.293 889.033,338.45 889.155,338.36 \n",
       "  890.268,337.533 890.411,337.427 891.503,336.618 891.67,336.494 892.737,335.704 892.932,335.561 893.972,334.793 894.197,334.628 895.207,333.883 895.464,333.694 \n",
       "  896.442,332.976 896.734,332.761 897.677,332.071 898.008,331.828 898.912,331.168 899.285,330.895 900.146,330.267 900.566,329.962 901.381,329.369 901.85,329.029 \n",
       "  902.616,328.474 903.138,328.096 903.851,327.581 904.431,327.163 905.086,326.691 905.727,326.23 906.32,325.804 907.028,325.297 907.555,324.92 908.334,324.364 \n",
       "  908.79,324.038 909.645,323.431 910.025,323.16 910.96,322.498 911.26,322.286 912.281,321.565 912.495,321.414 913.607,320.632 913.729,320.546 914.939,319.699 \n",
       "  914.964,319.681 916.199,318.82 916.277,318.765 917.434,317.962 917.621,317.832 918.669,317.108 918.972,316.899 919.903,316.258 920.33,315.966 921.138,315.412 \n",
       "  921.694,315.033 922.373,314.57 923.065,314.1 923.608,313.732 924.444,313.167 924.843,312.898 925.831,312.234 926.078,312.068 927.225,311.301 927.312,311.243 \n",
       "  928.547,310.421 928.628,310.368 929.782,309.605 930.041,309.435 931.017,308.793 931.462,308.502 932.252,307.985 932.893,307.569 933.486,307.183 934.333,306.636 \n",
       "  934.721,306.385 935.784,305.703 935.956,305.592 937.191,304.804 937.245,304.77 938.426,304.021 938.718,303.836 939.661,303.243 940.203,302.903 940.895,302.47 \n",
       "  941.7,301.97 942.13,301.703 943.209,301.037 943.365,300.941 944.6,300.184 944.731,300.104 945.835,299.433 946.268,299.171 947.069,298.687 947.819,298.238 \n",
       "  948.304,297.947 949.384,297.305 949.539,297.213 950.774,296.485 950.966,296.372 952.009,295.762 952.565,295.439 953.244,295.045 954.181,294.506 954.478,294.335 \n",
       "  955.713,293.63 955.815,293.573 956.948,292.932 957.469,292.64 958.183,292.24 959.142,291.707 959.418,291.554 960.652,290.874 960.837,290.774 961.887,290.201 \n",
       "  962.555,289.84 963.122,289.535 964.295,288.907 964.357,288.874 965.592,288.221 966.063,287.974 966.827,287.574 967.855,287.041 968.061,286.934 969.296,286.301 \n",
       "  969.677,286.108 970.531,285.675 971.528,285.175 971.766,285.056 973.001,284.443 973.411,284.242 974.235,283.838 975.328,283.309 975.47,283.24 976.705,282.649 \n",
       "  977.283,282.376 977.94,282.066 979.175,281.489 979.275,281.443 980.41,280.92 981.312,280.51 981.644,280.359 982.879,279.805 983.394,279.577 984.114,279.258 \n",
       "  985.349,278.719 985.524,278.644 986.584,278.188 987.709,277.711 987.818,277.664 989.053,277.148 989.955,276.778 990.288,276.64 991.523,276.14 992.264,275.845 \n",
       "  992.758,275.648 993.993,275.164 994.646,274.911 995.227,274.687 996.462,274.219 997.107,273.978 997.697,273.759 998.932,273.307 999.658,273.045 1000.17,272.863 \n",
       "  \n",
       "  \"/>\n",
       "<polyline clip-path=\"url(#clip9603)\" style=\"stroke:#ea6428; stroke-width:4; stroke-opacity:1; fill:none\" points=\"\n",
       "  1000.17,272.863 1001.4,272.427 1002.31,272.112 1002.64,272 1003.87,271.581 1005.08,271.179 1005.11,271.17 1006.34,270.768 1007.58,270.374 1007.98,270.246 \n",
       "  1008.81,269.988 1010.05,269.611 1011.05,269.313 1011.28,269.243 1012.51,268.883 1013.75,268.532 1014.3,268.38 1014.98,268.19 1016.22,267.856 1017.45,267.531 \n",
       "  1017.78,267.447 1018.69,267.215 1019.92,266.907 1021.16,266.609 1021.56,266.514 1022.39,266.319 1023.63,266.038 1024.86,265.766 1025.73,265.581 1026.1,265.503 \n",
       "  1027.33,265.249 1028.57,265.004 1029.8,264.768 1030.45,264.648 1031.04,264.541 1032.27,264.323 1033.51,264.114 1034.74,263.914 1035.98,263.723 1036.03,263.715 \n",
       "  1037.21,263.542 1038.45,263.369 1039.68,263.206 1040.92,263.052 1042.15,262.907 1043.3,262.782 1043.39,262.772 1044.62,262.646 1045.85,262.529 1047.09,262.421 \n",
       "  1048.32,262.322 1049.56,262.233 1050.79,262.153 1052.03,262.082 1053.26,262.021 1054.5,261.969 1055.73,261.926 1056.97,261.893 1058.2,261.869 1059.44,261.854 \n",
       "  1060.67,261.849 1061.91,261.853 1063.14,261.866 1064.38,261.888 1065.61,261.92 1066.85,261.962 1068.08,262.012 1069.32,262.072 1070.55,262.141 1071.79,262.22 \n",
       "  1073.02,262.307 1074.26,262.404 1075.49,262.511 1076.73,262.626 1077.96,262.751 1078.24,262.782 1079.19,262.885 1080.43,263.029 1081.66,263.181 1082.9,263.343 \n",
       "  1084.13,263.514 1085.37,263.694 1085.51,263.715 1086.6,263.883 1087.84,264.081 1089.07,264.289 1090.31,264.505 1091.09,264.648 1091.54,264.731 1092.78,264.966 \n",
       "  1094.01,265.209 1095.25,265.462 1095.81,265.581 1096.48,265.723 1097.72,265.994 1098.95,266.274 1099.98,266.514 1100.19,266.562 1101.42,266.859 1102.66,267.165 \n",
       "  1103.76,267.447 1103.89,267.48 1105.13,267.804 1106.36,268.136 1107.24,268.38 1107.6,268.477 1108.83,268.827 1110.07,269.185 1110.5,269.313 1111.3,269.552 \n",
       "  1112.54,269.928 1113.56,270.246 1113.77,270.312 1115,270.704 1116.24,271.105 1116.46,271.179 1117.47,271.515 1118.71,271.932 1119.23,272.112 1119.94,272.358 \n",
       "  1121.18,272.793 1121.88,273.045 1122.41,273.235 1123.65,273.686 1124.44,273.978 1124.88,274.145 1126.12,274.612 1126.9,274.911 1127.35,275.087 1128.59,275.57 \n",
       "  1129.28,275.845 1129.82,276.061 1131.06,276.56 1131.59,276.778 1132.29,277.067 1133.53,277.582 1133.83,277.711 1134.76,278.104 1136,278.634 1136.02,278.644 \n",
       "  1137.23,279.172 1138.15,279.577 1138.47,279.717 1139.7,280.27 1140.23,280.51 1140.94,280.83 1142.17,281.398 1142.27,281.443 1143.41,281.973 1144.26,282.376 \n",
       "  1144.64,282.556 1145.88,283.146 1146.21,283.309 1147.11,283.742 1148.13,284.242 1148.34,284.347 1149.58,284.958 1150.01,285.175 1150.81,285.576 1151.87,286.108 \n",
       "  1152.05,286.201 1153.28,286.833 1153.69,287.041 1154.52,287.472 1155.48,287.974 1155.75,288.118 1156.99,288.77 1157.25,288.907 1158.22,289.429 1158.99,289.84 \n",
       "  1159.46,290.094 1160.69,290.767 1160.71,290.774 1161.93,291.445 1162.4,291.707 1163.16,292.13 1164.07,292.64 1164.4,292.821 1165.63,293.519 1165.73,293.573 \n",
       "  1166.87,294.222 1167.36,294.506 1168.1,294.932 1168.98,295.439 1169.34,295.647 1170.57,296.369 1170.58,296.372 1171.81,297.097 1172.16,297.305 1173.04,297.83 \n",
       "  1173.72,298.238 1174.28,298.569 1175.27,299.171 1175.51,299.314 1176.75,300.064 1176.81,300.104 1177.98,300.82 1178.33,301.037 1179.22,301.581 1179.84,301.97 \n",
       "  1180.45,302.348 1181.34,302.903 1181.68,303.12 1182.82,303.836 1182.92,303.897 1184.15,304.679 1184.3,304.77 1185.39,305.466 1185.76,305.703 1186.62,306.258 \n",
       "  1187.21,306.636 1187.86,307.055 1188.65,307.569 1189.09,307.857 1190.08,308.502 1190.33,308.664 1191.5,309.435 1191.56,309.475 1192.8,310.291 1192.91,310.368 \n",
       "  1194.03,311.111 1194.32,311.301 1195.27,311.936 1195.71,312.234 1196.5,312.765 1197.1,313.167 1197.74,313.599 1198.48,314.1 1198.97,314.436 1199.85,315.033 \n",
       "  1200.21,315.278 1201.21,315.966 1201.44,316.123 1202.57,316.899 1202.68,316.973 1203.91,317.826 1203.92,317.832 1205.15,318.683 1205.26,318.765 1206.38,319.544 \n",
       "  1206.6,319.699 1207.62,320.408 1207.93,320.632 1208.85,321.275 1209.26,321.565 1210.09,322.146 1210.58,322.498 1211.32,323.021 1211.9,323.431 1212.56,323.898 \n",
       "  1213.21,324.364 1213.79,324.779 1214.51,325.297 1215.02,325.663 1215.81,326.23 1216.26,326.55 1217.11,327.163 1217.49,327.439 1218.4,328.096 1218.73,328.331 \n",
       "  1219.69,329.029 1219.96,329.226 1220.98,329.962 1221.2,330.124 1222.26,330.895 1222.43,331.024 1223.53,331.828 1223.67,331.927 1224.81,332.761 1224.9,332.831 \n",
       "  1226.08,333.694 1226.14,333.739 1227.35,334.628 1227.37,334.648 1228.61,335.559 1228.61,335.561 1229.84,336.472 1229.87,336.494 1231.08,337.387 1231.13,337.427 \n",
       "  1232.31,338.304 1232.39,338.36 1233.55,339.223 1233.64,339.293 1234.78,340.143 1234.89,340.226 1236.02,341.064 1236.14,341.159 1237.25,341.988 1237.39,342.092 \n",
       "  1238.49,342.912 1238.64,343.025 1239.72,343.837 1239.88,343.958 1240.96,344.764 1241.13,344.891 1242.19,345.692 1242.37,345.824 1243.43,346.621 1243.61,346.757 \n",
       "  1244.66,347.55 1244.85,347.69 1245.9,348.481 1246.08,348.623 1247.13,349.412 1247.32,349.557 1248.37,350.343 1248.56,350.49 1249.6,351.275 1249.8,351.423 \n",
       "  1250.83,352.208 1251.03,352.356 1252.07,353.14 1252.27,353.289 1253.3,354.073 1253.5,354.222 1254.54,355.006 1254.74,355.155 1255.77,355.939 1255.97,356.088 \n",
       "  1257.01,356.872 1257.21,357.021 1258.24,357.805 1258.44,357.954 1259.48,358.738 1259.68,358.887 1260.71,359.67 1260.91,359.82 1261.95,360.602 1262.15,360.753 \n",
       "  1263.18,361.533 1263.39,361.686 1264.42,362.463 1264.62,362.619 1265.65,363.393 1265.86,363.552 1266.89,364.322 1267.1,364.486 1268.12,365.25 1268.35,365.419 \n",
       "  1269.36,366.177 1269.59,366.352 1270.59,367.103 1270.83,367.285 1271.83,368.028 1272.08,368.218 1273.06,368.951 1273.33,369.151 1274.3,369.874 1274.58,370.084 \n",
       "  1275.53,370.794 1275.83,371.017 1276.77,371.713 1277.08,371.95 1278,372.631 1278.34,372.883 1279.24,373.546 1279.6,373.816 1280.47,374.46 1280.86,374.749 \n",
       "  1281.71,375.372 1282.13,375.682 1282.94,376.282 1283.39,376.615 1284.17,377.19 1284.66,377.548 1285.41,378.095 1285.94,378.481 1286.64,378.999 1287.21,379.415 \n",
       "  1287.88,379.899 1288.5,380.348 1289.11,380.798 1289.78,381.281 1290.35,381.694 1291.07,382.214 1291.58,382.587 1292.36,383.147 1292.82,383.477 1293.66,384.08 \n",
       "  1294.05,384.365 1294.96,385.013 1295.29,385.25 1296.26,385.946 1296.52,386.131 1297.57,386.879 1297.76,387.01 1298.89,387.812 1298.99,387.885 1300.21,388.745 \n",
       "  1300.23,388.757 1301.46,389.626 1301.54,389.678 1302.7,390.491 1302.87,390.611 1303.93,391.353 1304.21,391.544 1305.17,392.211 1305.55,392.477 1306.4,393.066 \n",
       "  1306.9,393.41 1307.64,393.916 1308.26,394.344 1308.87,394.763 1309.62,395.277 1310.11,395.606 1310.99,396.21 1311.34,396.445 1312.37,397.143 1312.58,397.28 \n",
       "  1313.76,398.076 1313.81,398.11 1315.05,398.936 1315.15,399.009 1316.28,399.758 1316.56,399.942 1317.51,400.575 1317.97,400.875 1318.75,401.388 1319.39,401.808 \n",
       "  1319.98,402.196 1320.82,402.741 1321.22,403 1322.26,403.674 1322.45,403.798 1323.69,404.592 1323.71,404.607 1324.92,405.381 1325.18,405.54 1326.16,406.165 \n",
       "  1326.65,406.473 1327.39,406.943 1328.13,407.406 1328.63,407.717 1329.63,408.34 1329.86,408.485 1331.1,409.248 1331.14,409.273 1332.33,410.006 1332.66,410.206 \n",
       "  1333.57,410.758 1334.2,411.139 1334.8,411.504 1335.75,412.072 1336.04,412.245 1337.27,412.98 1337.31,413.005 1338.51,413.71 1338.9,413.938 1339.74,414.433 \n",
       "  1340.49,414.871 1340.98,415.151 1342.11,415.804 1342.21,415.862 1343.45,416.568 1343.74,416.737 1344.68,417.267 1345.4,417.67 1345.92,417.96 1347.07,418.603 \n",
       "  1347.15,418.647 1348.39,419.328 1348.77,419.536 1349.62,420.002 1350.48,420.469 1350.85,420.67 1352.09,421.331 1352.23,421.402 1353.32,421.985 1353.99,422.335 \n",
       "  1354.56,422.633 1355.78,423.269 1355.79,423.274 1357.03,423.908 1357.61,424.202 1358.26,424.536 1359.46,425.135 1359.5,425.156 1360.73,425.769 1361.34,426.068 \n",
       "  1361.97,426.376 1363.2,426.975 1363.26,427.001 1364.44,427.567 1365.21,427.934 1365.67,428.152 1366.91,428.729 1367.21,428.867 1368.14,429.299 1369.24,429.8 \n",
       "  1369.38,429.862 1370.61,430.417 1371.32,430.733 1371.85,430.965 1373.08,431.505 1373.45,431.666 1374.32,432.038 1375.55,432.563 1375.64,432.599 1376.79,433.08 \n",
       "  1377.88,433.532 1378.02,433.589 1379.26,434.091 1380.19,434.465 1380.49,434.584 1381.73,435.07 1382.58,435.398 1382.96,435.547 1384.2,436.017 1385.04,436.331 \n",
       "  1385.43,436.478 1386.66,436.932 1387.59,437.264 1387.9,437.377 1389.13,437.814 1390.24,438.198 1390.37,438.243 1391.6,438.663 1392.84,439.075 1393.01,439.131 \n",
       "  1394.07,439.479 1395.31,439.874 1395.91,440.064 1396.54,440.261 1397.78,440.639 1398.97,440.997 1399.01,441.009 1400.25,441.37 1401.48,441.722 1402.23,441.93 \n",
       "  1402.72,442.066 1403.95,442.401 1405.19,442.728 1405.71,442.863 1406.42,443.045 1407.66,443.354 1408.89,443.654 1409.49,443.796 1410.13,443.945 1411.36,444.228 \n",
       "  1412.6,444.501 1413.66,444.729 1413.83,444.766 1415.07,445.021 1416.3,445.268 1417.54,445.505 1418.38,445.662 1418.77,445.734 1420,445.953 1421.24,446.163 \n",
       "  1422.47,446.365 1423.71,446.557 1423.97,446.595 1424.94,446.74 1426.18,446.914 1427.41,447.078 1428.65,447.234 1429.88,447.38 1431.12,447.517 1431.23,447.528 \n",
       "  1432.35,447.645 1433.59,447.763 1434.82,447.873 1436.06,447.973 1437.29,448.063 1438.53,448.145 1439.76,448.217 1441,448.28 1442.23,448.333 1443.47,448.377 \n",
       "  1444.7,448.412 1445.94,448.438 1447.17,448.454 1448.41,448.461 1449.64,448.459 1450.88,448.447 1452.11,448.426 1453.34,448.395 1454.58,448.355 1455.81,448.306 \n",
       "  1457.05,448.248 1458.28,448.18 1459.52,448.103 1460.75,448.017 1461.99,447.921 1463.22,447.817 1464.46,447.703 1465.69,447.579 1466.17,447.528 1466.93,447.447 \n",
       "  1468.16,447.305 1469.4,447.154 1470.63,446.993 1471.87,446.824 1473.1,446.645 1473.43,446.595 1474.34,446.458 1475.57,446.261 1476.81,446.055 1478.04,445.84 \n",
       "  1479.02,445.662 1479.28,445.615 1480.51,445.382 1481.75,445.14 1482.98,444.889 1483.74,444.729 1484.22,444.629 \n",
       "  \"/>\n",
       "<circle clip-path=\"url(#clip9603)\" style=\"fill:#000000; stroke:none; fill-opacity:1\" cx=\"1112.7\" cy=\"269.978\" r=\"18\"/>\n",
       "<circle clip-path=\"url(#clip9603)\" style=\"fill:#3da44d; stroke:none; fill-opacity:1\" cx=\"1112.7\" cy=\"269.978\" r=\"14\"/>\n",
       "<polygon clip-path=\"url(#clip9601)\" points=\"\n",
       "1139.35,203.724 1473.26,203.724 1473.26,82.7641 1139.35,82.7641 \n",
       "  \" fill=\"#ffffff\" fill-rule=\"evenodd\" fill-opacity=\"1\"/>\n",
       "<polyline clip-path=\"url(#clip9601)\" style=\"stroke:#000000; stroke-width:4; stroke-opacity:1; fill:none\" points=\"\n",
       "  1139.35,203.724 1473.26,203.724 1473.26,82.7641 1139.35,82.7641 1139.35,203.724 \n",
       "  \"/>\n",
       "<circle clip-path=\"url(#clip9601)\" style=\"fill:#000000; stroke:none; fill-opacity:1\" cx=\"1211.35\" cy=\"143.244\" r=\"25\"/>\n",
       "<circle clip-path=\"url(#clip9601)\" style=\"fill:#3da44d; stroke:none; fill-opacity:1\" cx=\"1211.35\" cy=\"143.244\" r=\"21\"/>\n",
       "<g clip-path=\"url(#clip9601)\">\n",
       "<text style=\"fill:#000000; fill-opacity:1; font-family:Arial,Helvetica Neue,Helvetica,sans-serif; font-size:48px; text-anchor:start;\" transform=\"rotate(0, 1267.35, 160.744)\" x=\"1267.35\" y=\"160.744\">Solução</text>\n",
       "</g>\n",
       "</svg>\n"
      ]
     },
     "execution_count": 232,
     "metadata": {},
     "output_type": "execute_result"
    }
   ],
   "source": [
    "contour(-5:0.01:5, -5:0.01:5, f5, levels = [0], line = 3)\n",
    "contour!(-5:0.01:5, -5:0.01:5, f6, levels = [0], xlabel = \"x\", ylabel = \"y\", size = (400, 300) )\n",
    "scatter!((sol_nlsis[1], sol_nlsis[2]) , label = \"Solução\")"
   ]
  },
  {
   "cell_type": "markdown",
   "metadata": {},
   "source": [
    "#### SUNDIALS.JL\n",
    "\n",
    "A função `Sundials.kinsol()` resolve sistemas de equações algébricas não-lineares e retorna um vetor contendo as soluções do sistema do tipo `Float64`. Sintaxe:\n",
    "```julia\n",
    "    function nome_sistema(função, var)\n",
    "        função[1] = a_1*var[1] + b_1*var[2] + ... + k_1     \n",
    "        função[2] = a_2*var[1] + b_2*var[2] + ... + k_2\n",
    "        ...\n",
    "        função[n] = a_n*var[1] + b_n*var[2] + ... + k_n  \n",
    "    end\n",
    "    \n",
    "    Sundials.kinsol(nome_função, v_0)\n",
    "```\n",
    "Sendo:\n",
    "\n",
    "* **nome_sistema**: nome da função correspondente ao sistema de equações;\n",
    "* **função**:  sistema de equações;\n",
    "* **função[1], função[2], função[n]**: funções do sistema de equações.\n",
    "* ** a, b, ... e k**:  constantes das equações. \n",
    "* ** var[1] e var[2]**:  corresponde às variáveis do sistem de equações. `var[1]` corresponde à variável `x` e `var[2]` à variável `y`;\n",
    "* ** v_0**: vetor de soluções iniciais do sistema.\n",
    "\n",
    "A função `Sundials.kinsol()` retorna um vetor de dados numéricos do tipo `Float64`."
   ]
  },
  {
   "cell_type": "code",
   "execution_count": 236,
   "metadata": {
    "collapsed": true
   },
   "outputs": [],
   "source": [
    "using Sundials"
   ]
  },
  {
   "cell_type": "code",
   "execution_count": 238,
   "metadata": {
    "collapsed": false
   },
   "outputs": [
    {
     "data": {
      "text/plain": [
       "sistema_SD (generic function with 1 method)"
      ]
     },
     "execution_count": 238,
     "metadata": {},
     "output_type": "execute_result"
    }
   ],
   "source": [
    "function sistema_SD(f, x)\n",
    "    f[1] = 3*x[1] + cos(x[2]) - 5    \n",
    "    f[2] = -sin(x[1]) + x[2] - 2\n",
    "end"
   ]
  },
  {
   "cell_type": "code",
   "execution_count": 239,
   "metadata": {
    "collapsed": false,
    "scrolled": false
   },
   "outputs": [
    {
     "data": {
      "text/plain": [
       "2-element Array{Float64,1}:\n",
       " 1.9913176871742573\n",
       " 2.9128717600805953"
      ]
     },
     "execution_count": 239,
     "metadata": {},
     "output_type": "execute_result"
    }
   ],
   "source": [
    "solSD = Sundials.kinsol(sistema_SD, [1.0, 1.0])"
   ]
  },
  {
   "cell_type": "code",
   "execution_count": 240,
   "metadata": {
    "collapsed": false
   },
   "outputs": [
    {
     "data": {
      "text/plain": [
       "1.9913176871742573"
      ]
     },
     "execution_count": 240,
     "metadata": {},
     "output_type": "execute_result"
    }
   ],
   "source": [
    "# para acessar somente o valor de X\n",
    "solSD[1]"
   ]
  },
  {
   "cell_type": "code",
   "execution_count": 241,
   "metadata": {
    "collapsed": false
   },
   "outputs": [
    {
     "data": {
      "text/plain": [
       "2.9128717600805953"
      ]
     },
     "execution_count": 241,
     "metadata": {},
     "output_type": "execute_result"
    }
   ],
   "source": [
    "# para acessar somente o valor de Y\n",
    "solSD[2]"
   ]
  },
  {
   "cell_type": "markdown",
   "metadata": {},
   "source": [
    "#### NLSOLVE.JL\n",
    "\n",
    "A função `nlsolve()` resolve sistemas de equações algébricas não-lineares e retorna um vetor contendo as soluções do sistema do tipo `SolverResults{Float64,Array{Float64,1},Array{Float64,1}}`. Sintaxe:\n",
    "```julia\n",
    "    function nome_sistema(função, var)\n",
    "        função[1] = a_1*var[1] + b_1*var[2] + ... + k_1     \n",
    "        função[2] = a_2*var[1] + b_2*var[2] + ... + k_2\n",
    "        ...\n",
    "        função[n] = a_n*var[1] + b_n*var[2] + ... + k_n  \n",
    "    end\n",
    "    \n",
    "    Sundials.kinsol(nome_função, v_0)\n",
    "```\n",
    "Sendo:\n",
    "\n",
    "* **nome_sistema**: nome da função correspondente ao sistema de equações;\n",
    "* **função**:  sistema de equações;\n",
    "* **função[1], função[2], função[n]**: funções do sistema de equações.\n",
    "* ** a, b, ... e k**:  constantes das equações. \n",
    "* ** var[1] e var[2]**:  corresponde às variáveis do sistem de equações. `var[1]` corresponde à variável `x` e `var[2]` à variável `y`;\n",
    "* ** v_0**: vetor de soluções iniciais do sistema.\n",
    "\n",
    "A função `nlsolve()` retorna um resultado do tipo `NLsolve.SolverResults{Float64})` e os dados podem ser acessados colocando \" . \" e completando com \"tab\". "
   ]
  },
  {
   "cell_type": "code",
   "execution_count": 242,
   "metadata": {
    "collapsed": false
   },
   "outputs": [],
   "source": [
    "using NLsolve"
   ]
  },
  {
   "cell_type": "code",
   "execution_count": 243,
   "metadata": {
    "collapsed": false,
    "scrolled": true
   },
   "outputs": [
    {
     "data": {
      "text/plain": [
       "sistema_NLS (generic function with 1 method)"
      ]
     },
     "execution_count": 243,
     "metadata": {},
     "output_type": "execute_result"
    }
   ],
   "source": [
    "function sistema_NLS(f, x)\n",
    "    f[1] = 3*x[1] + cos(x[2]) - 5    \n",
    "    f[2] = -sin(x[1]) + x[2] - 2\n",
    "end"
   ]
  },
  {
   "cell_type": "code",
   "execution_count": 244,
   "metadata": {
    "collapsed": false,
    "scrolled": false
   },
   "outputs": [
    {
     "data": {
      "text/plain": [
       "Results of Nonlinear Solver Algorithm\n",
       " * Algorithm: Trust-region with dogleg and autoscaling\n",
       " * Starting Point: [1.0, 1.0]\n",
       " * Zero: [1.99132, 2.91288]\n",
       " * Inf-norm of residuals: 0.000000\n",
       " * Iterations: 5\n",
       " * Convergence: true\n",
       "   * |x - x'| < 0.0e+00: false\n",
       "   * |f(x)| < 1.0e-08: true\n",
       " * Function Calls (f): 6\n",
       " * Jacobian Calls (df/dx): 6"
      ]
     },
     "execution_count": 244,
     "metadata": {},
     "output_type": "execute_result"
    }
   ],
   "source": [
    "solNLS = nlsolve(sistema_NLS, [ 1.0, 1.0])"
   ]
  },
  {
   "cell_type": "code",
   "execution_count": 245,
   "metadata": {
    "collapsed": false,
    "scrolled": true
   },
   "outputs": [
    {
     "data": {
      "text/plain": [
       "NLsolve.SolverResults{Float64,Array{Float64,1},Array{Float64,1}}"
      ]
     },
     "execution_count": 245,
     "metadata": {},
     "output_type": "execute_result"
    }
   ],
   "source": [
    "typeof(solNLS)"
   ]
  },
  {
   "cell_type": "code",
   "execution_count": 246,
   "metadata": {
    "collapsed": false
   },
   "outputs": [
    {
     "data": {
      "text/plain": [
       "2-element Array{Float64,1}:\n",
       " 1.991319354723526\n",
       " 2.912875545325409"
      ]
     },
     "execution_count": 246,
     "metadata": {},
     "output_type": "execute_result"
    }
   ],
   "source": [
    "# para acessar somente os valores das soluções\n",
    "solNLS.zero"
   ]
  },
  {
   "cell_type": "code",
   "execution_count": 256,
   "metadata": {
    "collapsed": false
   },
   "outputs": [
    {
     "data": {
      "text/plain": [
       "1.991319354723526"
      ]
     },
     "execution_count": 256,
     "metadata": {},
     "output_type": "execute_result"
    }
   ],
   "source": [
    "# para acessar somente os o valor de x\n",
    "solNLS.zero[1]"
   ]
  },
  {
   "cell_type": "code",
   "execution_count": 14,
   "metadata": {
    "collapsed": false
   },
   "outputs": [
    {
     "data": {
      "text/plain": [
       "5"
      ]
     },
     "execution_count": 14,
     "metadata": {},
     "output_type": "execute_result"
    }
   ],
   "source": [
    "# para acessar somente a quantidade de interações\n",
    "# menos interações, siginifica que o valor inicial foi melhor.\n",
    "solNLS.iterations"
   ]
  },
  {
   "cell_type": "markdown",
   "metadata": {},
   "source": [
    "## DOMÍNIO DE UMA INEQUAÇÃO\n",
    "\n",
    "SymPy:\n",
    "```\n",
    "Ge - Maior igual (great equal)\n",
    "Gt - Maior que   (great que)\n",
    "Eq - Igual       (Equal)\n",
    "Le - Menor igual (Less equal)\n",
    "Lt - Menor que   (Less then)\n",
    "Ne - Diferente   (not equal)\n",
    "∧  - E  lógico\n",
    "∨  - OU lógico\n",
    "```"
   ]
  },
  {
   "cell_type": "code",
   "execution_count": 247,
   "metadata": {
    "collapsed": false,
    "scrolled": false
   },
   "outputs": [
    {
     "data": {
      "text/plain": [
       "(x,)"
      ]
     },
     "execution_count": 247,
     "metadata": {},
     "output_type": "execute_result"
    }
   ],
   "source": [
    "using SymPy\n",
    "@syms x"
   ]
  },
  {
   "cell_type": "markdown",
   "metadata": {},
   "source": [
    "* **Inequação 1**\n",
    "\n",
    "$\\displaystyle {(x - 2)\\over(x-1)} \\geqslant 0$"
   ]
  },
  {
   "cell_type": "code",
   "execution_count": 248,
   "metadata": {
    "collapsed": false
   },
   "outputs": [
    {
     "data": {
      "text/latex": [
       "\\begin{equation*}\\left(2 \\leq x \\wedge x < \\infty\\right) \\vee \\left(-\\infty < x \\wedge x < 1\\right)\\end{equation*}"
      ],
      "text/plain": [
       "(2 ≤ x ∧ x < ∞) ∨ (-∞ < x ∧ x < 1)"
      ]
     },
     "execution_count": 248,
     "metadata": {},
     "output_type": "execute_result"
    }
   ],
   "source": [
    "solve( Ge((x - 2)/(x-1), 0), x)"
   ]
  },
  {
   "cell_type": "markdown",
   "metadata": {},
   "source": [
    "Explicando: Valores de `x` maiores ou igual a 2 e menores que infinito OU `x` maior que menos infinito e `x` menor que 1"
   ]
  },
  {
   "cell_type": "markdown",
   "metadata": {},
   "source": [
    "* ** Inequação 2**\n",
    "\n",
    "$\\displaystyle {(x - 2)\\over(x-1)} > 0$"
   ]
  },
  {
   "cell_type": "code",
   "execution_count": 253,
   "metadata": {
    "collapsed": false
   },
   "outputs": [
    {
     "data": {
      "text/latex": [
       "\\begin{equation*}\\left(-\\infty < x \\wedge x < 1\\right) \\vee \\left(2 < x \\wedge x < \\infty\\right)\\end{equation*}"
      ],
      "text/plain": [
       "(-∞ < x ∧ x < 1) ∨ (2 < x ∧ x < ∞)"
      ]
     },
     "execution_count": 253,
     "metadata": {},
     "output_type": "execute_result"
    }
   ],
   "source": [
    "solve(Gt((x - 2)/(x-1),0), x)"
   ]
  },
  {
   "cell_type": "markdown",
   "metadata": {},
   "source": [
    "* ** Inequação 3**\n",
    "\n",
    "$\\displaystyle {(x - 2)\\over(x-1)} \\leqslant 0$"
   ]
  },
  {
   "cell_type": "code",
   "execution_count": 254,
   "metadata": {
    "collapsed": false,
    "scrolled": true
   },
   "outputs": [
    {
     "data": {
      "text/latex": [
       "\\begin{equation*}x \\leq 2 \\wedge 1 < x\\end{equation*}"
      ],
      "text/plain": [
       "x ≤ 2 ∧ 1 < x"
      ]
     },
     "execution_count": 254,
     "metadata": {},
     "output_type": "execute_result"
    }
   ],
   "source": [
    "solve(Le((x - 2)/(x-1), 0), x)"
   ]
  },
  {
   "cell_type": "markdown",
   "metadata": {},
   "source": [
    "* ** Inequação 4**\n",
    "\n",
    "$\\displaystyle {(x - 2)\\over(x-1)} < 0$"
   ]
  },
  {
   "cell_type": "code",
   "execution_count": 255,
   "metadata": {
    "collapsed": false,
    "scrolled": true
   },
   "outputs": [
    {
     "data": {
      "text/latex": [
       "\\begin{equation*}1 < x \\wedge x < 2\\end{equation*}"
      ],
      "text/plain": [
       "1 < x ∧ x < 2"
      ]
     },
     "execution_count": 255,
     "metadata": {},
     "output_type": "execute_result"
    }
   ],
   "source": [
    "solve(Lt((x - 2)/(x-1), 0), x)"
   ]
  },
  {
   "cell_type": "markdown",
   "metadata": {},
   "source": [
    "* ** Inequação 5**\n",
    "\n",
    "$\\displaystyle {(x - 2)\\over(x-1)} \\neq 0$"
   ]
  },
  {
   "cell_type": "code",
   "execution_count": 252,
   "metadata": {
    "collapsed": false
   },
   "outputs": [
    {
     "data": {
      "text/latex": [
       "\\begin{equation*}\\left(-\\infty < x \\wedge x < 1\\right) \\vee \\left(1 < x \\wedge x < 2\\right) \\vee \\left(2 < x \\wedge x < \\infty\\right)\\end{equation*}"
      ],
      "text/plain": [
       "(-∞ < x ∧ x < 1) ∨ (1 < x ∧ x < 2) ∨ (2 < x ∧ x < ∞)"
      ]
     },
     "execution_count": 252,
     "metadata": {},
     "output_type": "execute_result"
    }
   ],
   "source": [
    "solve(Ne((x - 2)/(x-1), 0), x)"
   ]
  },
  {
   "cell_type": "markdown",
   "metadata": {},
   "source": [
    "## REFERÊNCIAS BIBLIOGRÁFICAS\n",
    "\n",
    "\n",
    "Rackauckas, C. & Nie, Q., (2017). **DifferentialEquations.jl – A Performant and Feature-Rich Ecosystem for Solving Differential Equations in Julia**. Journal of Open Research Software. 5(1), p.15.\n",
    "\n",
    "A. C. Hindmarsh, P. N. Brown, K. E. Grant, S. L. Lee, R. Serban, D. E. Shumaker, and C. S. Woodward, **SUNDIALS: Suite of Nonlinear and Differential/Algebraic Equation Solvers**. ACM Transactions on Mathematical Software, 31(3), pp. 363-396, 2005. \n"
   ]
  }
 ],
 "metadata": {
  "@webio": {
   "lastCommId": "AF23E167F278474EB0E28B335C2E0645",
   "lastKernelId": "ecd084b2-839a-47f6-b8b6-ac7931d3148c"
  },
  "anaconda-cloud": {},
  "kernelspec": {
   "display_name": "Julia 1.0.2",
   "language": "julia",
   "name": "julia-1.0"
  },
  "language_info": {
   "file_extension": ".jl",
   "mimetype": "application/julia",
   "name": "julia",
   "version": "1.0.2"
  }
 },
 "nbformat": 4,
 "nbformat_minor": 1
}
