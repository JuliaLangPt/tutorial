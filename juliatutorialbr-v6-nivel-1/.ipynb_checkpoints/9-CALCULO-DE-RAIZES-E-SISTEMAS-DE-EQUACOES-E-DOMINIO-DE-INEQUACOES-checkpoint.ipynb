{
 "cells": [
  {
   "cell_type": "markdown",
   "metadata": {},
   "source": [
    "# CÁLCULO DE RAÍZES E SISTEMAS DE EQUAÇÕES E INEQUAÇÕES\n",
    "\n",
    "Em vários problemas de engenharia e exatas nos deparamos com situações no qual é importante encontrar as raízes de uma equação algébrica ou transcendental, na forma $ f(x) = 0 $. Uma equação, de acordo com Krantz (2001) é uma afirmação de igualdade, geralmente entre duas expressões matemáticas $f$, $g$,  envolvendo números, parâmetros e variáveis. Dessa forma, uma solução de uma equação em uma incógnita ($\"x\"$, por exemplo) compreende o valor da incógnita que determina a equação verdadeira. Em algumas situações é possível encontrar uma raíz através da inspeção visual de um gráfico, no qual o ponto de interceptação do eixo $\"x\"$ ou o ponto de interceptação entre os gráficos das equações, representa uma raiz do problema. Apesar de impreciso, o método gráfico é útil para definir quais os pontos inicias de um método computacional. Na linguagem Julia há pacotes que implementam diversos algoritmos de resolução simbólica ou numérica. Neste capítulo utilizaremos os seguintes pacotes:\n",
    "\n",
    "\n",
    "* **SymPy.jl**: O pacote `SymPy.jl` é uma biblioteca Python para matemática simbólica acessada localmente via pacote `PyCall.jl` e permite resolver equações e sistemas lineares. A função `solve()` permite resolver simbolicamente equações e sistemas lineares e `nsolve()` equações e sistemas não lineares numericamente. \n",
    "\n",
    "\n",
    "* **Roots.jl**: Este pacote implementa vários métodos numéricos (Bisseção, Newton, Secante, Halley e outros) para encontrar raízes de equações lineares e não lineares. A interface básica é através da função `find_root()`.\n",
    "\n",
    "\n",
    "* **Polynomials.jl**: É um pacote exclusivo para manipulação de polinômios. Permite operações de aritmética básica, integração, diferenciação, avaliação e determinação de raizes em polinômios.\n",
    "\n",
    "\n",
    "* **SunDials.jl**: Significa \"SUite of Nonlinear and DIfferential/ALgebraic Equation Solvers\", é um pacote para `Julia` que faz a interface para a biblioteca `Sundials` da biblioteca escrita em `C`.  Apresenta uma ótima velocidade de cálculo e permite resolver integrais de EDO, sistemas não lineares e outros.\n",
    "\n",
    "\n",
    "* **NLsolve.jl**: O pacote `NLsolve.jl` resolve sistemas de equações não lineares. A função `nsolve()` permite utilizar diversos métodos numericos."
   ]
  },
  {
   "cell_type": "markdown",
   "metadata": {},
   "source": [
    "## RAIZES DE UMA EQUAÇÃO "
   ]
  },
  {
   "cell_type": "markdown",
   "metadata": {},
   "source": [
    "### SOLUÇÃO SYMBÓLICA"
   ]
  },
  {
   "cell_type": "markdown",
   "metadata": {},
   "source": [
    "#### SYMPY.JL\n",
    "\n",
    "A função `solve()` permite calcular as raízes de uma equação algébrica ou transcendente (nem todas é possível calcular simbolicamente, sendo então necessário uma solução numérica) com apenas uma incógnita e retorna um vetor contendo as soluções do tipo `Sym`. Sintaxe:\n",
    "```julia\n",
    "solve(equação, var)\n",
    "```\n",
    "Sendo:\n",
    "* **equação**: equação algébrica expressa como uma expressão simbólica ou função genérica. Não funciona com função anônima;\n",
    "\n",
    "* **var** : variável da equação algébrica.\n",
    "\n",
    "Caso a função `solve()` retorne `[]` ou <span style=\"color:blue\">raises NotImplementedError</span>, isto significa que o método empregado pelo função não conseguiu encontrar uma solução, porém ela poderá existir e será encontrada (caso exista em um dado intervalo) numericamente. "
   ]
  },
  {
   "cell_type": "markdown",
   "metadata": {},
   "source": [
    "Exemplo: Determinar as raízes da função $f(x) = x^2 - 3x - 2$ no intervalo $[-5, ~5]$"
   ]
  },
  {
   "cell_type": "code",
   "execution_count": 1,
   "metadata": {},
   "outputs": [
    {
     "data": {
      "image/svg+xml": [
       "<?xml version=\"1.0\" encoding=\"utf-8\"?>\n",
       "<svg xmlns=\"http://www.w3.org/2000/svg\" xmlns:xlink=\"http://www.w3.org/1999/xlink\" width=\"400\" height=\"300\" viewBox=\"0 0 1600 1200\">\n",
       "<defs>\n",
       "  <clipPath id=\"clip4400\">\n",
       "    <rect x=\"0\" y=\"0\" width=\"1600\" height=\"1200\"/>\n",
       "  </clipPath>\n",
       "</defs>\n",
       "<path clip-path=\"url(#clip4400)\" d=\"\n",
       "M0 1200 L1600 1200 L1600 0 L0 0  Z\n",
       "  \" fill=\"#ffffff\" fill-rule=\"evenodd\" fill-opacity=\"1\"/>\n",
       "<defs>\n",
       "  <clipPath id=\"clip4401\">\n",
       "    <rect x=\"320\" y=\"0\" width=\"1121\" height=\"1121\"/>\n",
       "  </clipPath>\n",
       "</defs>\n",
       "<path clip-path=\"url(#clip4400)\" d=\"\n",
       "M203.721 1025.62 L1552.76 1025.62 L1552.76 47.2441 L203.721 47.2441  Z\n",
       "  \" fill=\"#ffffff\" fill-rule=\"evenodd\" fill-opacity=\"1\"/>\n",
       "<defs>\n",
       "  <clipPath id=\"clip4402\">\n",
       "    <rect x=\"203\" y=\"47\" width=\"1350\" height=\"979\"/>\n",
       "  </clipPath>\n",
       "</defs>\n",
       "<polyline clip-path=\"url(#clip4402)\" style=\"stroke:#000000; stroke-width:2; stroke-opacity:0.1; fill:none\" points=\"\n",
       "  241.901,1025.62 241.901,47.2441 \n",
       "  \"/>\n",
       "<polyline clip-path=\"url(#clip4402)\" style=\"stroke:#000000; stroke-width:2; stroke-opacity:0.1; fill:none\" points=\"\n",
       "  369.168,1025.62 369.168,47.2441 \n",
       "  \"/>\n",
       "<polyline clip-path=\"url(#clip4402)\" style=\"stroke:#000000; stroke-width:2; stroke-opacity:0.1; fill:none\" points=\"\n",
       "  496.436,1025.62 496.436,47.2441 \n",
       "  \"/>\n",
       "<polyline clip-path=\"url(#clip4402)\" style=\"stroke:#000000; stroke-width:2; stroke-opacity:0.1; fill:none\" points=\"\n",
       "  623.703,1025.62 623.703,47.2441 \n",
       "  \"/>\n",
       "<polyline clip-path=\"url(#clip4402)\" style=\"stroke:#000000; stroke-width:2; stroke-opacity:0.1; fill:none\" points=\"\n",
       "  750.971,1025.62 750.971,47.2441 \n",
       "  \"/>\n",
       "<polyline clip-path=\"url(#clip4402)\" style=\"stroke:#000000; stroke-width:2; stroke-opacity:0.1; fill:none\" points=\"\n",
       "  878.238,1025.62 878.238,47.2441 \n",
       "  \"/>\n",
       "<polyline clip-path=\"url(#clip4402)\" style=\"stroke:#000000; stroke-width:2; stroke-opacity:0.1; fill:none\" points=\"\n",
       "  1005.51,1025.62 1005.51,47.2441 \n",
       "  \"/>\n",
       "<polyline clip-path=\"url(#clip4402)\" style=\"stroke:#000000; stroke-width:2; stroke-opacity:0.1; fill:none\" points=\"\n",
       "  1132.77,1025.62 1132.77,47.2441 \n",
       "  \"/>\n",
       "<polyline clip-path=\"url(#clip4402)\" style=\"stroke:#000000; stroke-width:2; stroke-opacity:0.1; fill:none\" points=\"\n",
       "  1260.04,1025.62 1260.04,47.2441 \n",
       "  \"/>\n",
       "<polyline clip-path=\"url(#clip4402)\" style=\"stroke:#000000; stroke-width:2; stroke-opacity:0.1; fill:none\" points=\"\n",
       "  1387.31,1025.62 1387.31,47.2441 \n",
       "  \"/>\n",
       "<polyline clip-path=\"url(#clip4402)\" style=\"stroke:#000000; stroke-width:2; stroke-opacity:0.1; fill:none\" points=\"\n",
       "  1514.58,1025.62 1514.58,47.2441 \n",
       "  \"/>\n",
       "<polyline clip-path=\"url(#clip4402)\" style=\"stroke:#000000; stroke-width:2; stroke-opacity:0.1; fill:none\" points=\"\n",
       "  203.721,1014.31 1552.76,1014.31 \n",
       "  \"/>\n",
       "<polyline clip-path=\"url(#clip4402)\" style=\"stroke:#000000; stroke-width:2; stroke-opacity:0.1; fill:none\" points=\"\n",
       "  203.721,905.083 1552.76,905.083 \n",
       "  \"/>\n",
       "<polyline clip-path=\"url(#clip4402)\" style=\"stroke:#000000; stroke-width:2; stroke-opacity:0.1; fill:none\" points=\"\n",
       "  203.721,795.853 1552.76,795.853 \n",
       "  \"/>\n",
       "<polyline clip-path=\"url(#clip4402)\" style=\"stroke:#000000; stroke-width:2; stroke-opacity:0.1; fill:none\" points=\"\n",
       "  203.721,686.623 1552.76,686.623 \n",
       "  \"/>\n",
       "<polyline clip-path=\"url(#clip4402)\" style=\"stroke:#000000; stroke-width:2; stroke-opacity:0.1; fill:none\" points=\"\n",
       "  203.721,577.393 1552.76,577.393 \n",
       "  \"/>\n",
       "<polyline clip-path=\"url(#clip4402)\" style=\"stroke:#000000; stroke-width:2; stroke-opacity:0.1; fill:none\" points=\"\n",
       "  203.721,468.163 1552.76,468.163 \n",
       "  \"/>\n",
       "<polyline clip-path=\"url(#clip4402)\" style=\"stroke:#000000; stroke-width:2; stroke-opacity:0.1; fill:none\" points=\"\n",
       "  203.721,358.932 1552.76,358.932 \n",
       "  \"/>\n",
       "<polyline clip-path=\"url(#clip4402)\" style=\"stroke:#000000; stroke-width:2; stroke-opacity:0.1; fill:none\" points=\"\n",
       "  203.721,249.702 1552.76,249.702 \n",
       "  \"/>\n",
       "<polyline clip-path=\"url(#clip4402)\" style=\"stroke:#000000; stroke-width:2; stroke-opacity:0.1; fill:none\" points=\"\n",
       "  203.721,140.472 1552.76,140.472 \n",
       "  \"/>\n",
       "<polyline clip-path=\"url(#clip4400)\" style=\"stroke:#000000; stroke-width:4; stroke-opacity:1; fill:none\" points=\"\n",
       "  203.721,1025.62 1552.76,1025.62 \n",
       "  \"/>\n",
       "<polyline clip-path=\"url(#clip4400)\" style=\"stroke:#000000; stroke-width:4; stroke-opacity:1; fill:none\" points=\"\n",
       "  203.721,1025.62 203.721,47.2441 \n",
       "  \"/>\n",
       "<polyline clip-path=\"url(#clip4400)\" style=\"stroke:#000000; stroke-width:4; stroke-opacity:1; fill:none\" points=\"\n",
       "  241.901,1025.62 241.901,1010.94 \n",
       "  \"/>\n",
       "<polyline clip-path=\"url(#clip4400)\" style=\"stroke:#000000; stroke-width:4; stroke-opacity:1; fill:none\" points=\"\n",
       "  369.168,1025.62 369.168,1010.94 \n",
       "  \"/>\n",
       "<polyline clip-path=\"url(#clip4400)\" style=\"stroke:#000000; stroke-width:4; stroke-opacity:1; fill:none\" points=\"\n",
       "  496.436,1025.62 496.436,1010.94 \n",
       "  \"/>\n",
       "<polyline clip-path=\"url(#clip4400)\" style=\"stroke:#000000; stroke-width:4; stroke-opacity:1; fill:none\" points=\"\n",
       "  623.703,1025.62 623.703,1010.94 \n",
       "  \"/>\n",
       "<polyline clip-path=\"url(#clip4400)\" style=\"stroke:#000000; stroke-width:4; stroke-opacity:1; fill:none\" points=\"\n",
       "  750.971,1025.62 750.971,1010.94 \n",
       "  \"/>\n",
       "<polyline clip-path=\"url(#clip4400)\" style=\"stroke:#000000; stroke-width:4; stroke-opacity:1; fill:none\" points=\"\n",
       "  878.238,1025.62 878.238,1010.94 \n",
       "  \"/>\n",
       "<polyline clip-path=\"url(#clip4400)\" style=\"stroke:#000000; stroke-width:4; stroke-opacity:1; fill:none\" points=\"\n",
       "  1005.51,1025.62 1005.51,1010.94 \n",
       "  \"/>\n",
       "<polyline clip-path=\"url(#clip4400)\" style=\"stroke:#000000; stroke-width:4; stroke-opacity:1; fill:none\" points=\"\n",
       "  1132.77,1025.62 1132.77,1010.94 \n",
       "  \"/>\n",
       "<polyline clip-path=\"url(#clip4400)\" style=\"stroke:#000000; stroke-width:4; stroke-opacity:1; fill:none\" points=\"\n",
       "  1260.04,1025.62 1260.04,1010.94 \n",
       "  \"/>\n",
       "<polyline clip-path=\"url(#clip4400)\" style=\"stroke:#000000; stroke-width:4; stroke-opacity:1; fill:none\" points=\"\n",
       "  1387.31,1025.62 1387.31,1010.94 \n",
       "  \"/>\n",
       "<polyline clip-path=\"url(#clip4400)\" style=\"stroke:#000000; stroke-width:4; stroke-opacity:1; fill:none\" points=\"\n",
       "  1514.58,1025.62 1514.58,1010.94 \n",
       "  \"/>\n",
       "<polyline clip-path=\"url(#clip4400)\" style=\"stroke:#000000; stroke-width:4; stroke-opacity:1; fill:none\" points=\"\n",
       "  203.721,1014.31 223.956,1014.31 \n",
       "  \"/>\n",
       "<polyline clip-path=\"url(#clip4400)\" style=\"stroke:#000000; stroke-width:4; stroke-opacity:1; fill:none\" points=\"\n",
       "  203.721,905.083 223.956,905.083 \n",
       "  \"/>\n",
       "<polyline clip-path=\"url(#clip4400)\" style=\"stroke:#000000; stroke-width:4; stroke-opacity:1; fill:none\" points=\"\n",
       "  203.721,795.853 223.956,795.853 \n",
       "  \"/>\n",
       "<polyline clip-path=\"url(#clip4400)\" style=\"stroke:#000000; stroke-width:4; stroke-opacity:1; fill:none\" points=\"\n",
       "  203.721,686.623 223.956,686.623 \n",
       "  \"/>\n",
       "<polyline clip-path=\"url(#clip4400)\" style=\"stroke:#000000; stroke-width:4; stroke-opacity:1; fill:none\" points=\"\n",
       "  203.721,577.393 223.956,577.393 \n",
       "  \"/>\n",
       "<polyline clip-path=\"url(#clip4400)\" style=\"stroke:#000000; stroke-width:4; stroke-opacity:1; fill:none\" points=\"\n",
       "  203.721,468.163 223.956,468.163 \n",
       "  \"/>\n",
       "<polyline clip-path=\"url(#clip4400)\" style=\"stroke:#000000; stroke-width:4; stroke-opacity:1; fill:none\" points=\"\n",
       "  203.721,358.932 223.956,358.932 \n",
       "  \"/>\n",
       "<polyline clip-path=\"url(#clip4400)\" style=\"stroke:#000000; stroke-width:4; stroke-opacity:1; fill:none\" points=\"\n",
       "  203.721,249.702 223.956,249.702 \n",
       "  \"/>\n",
       "<polyline clip-path=\"url(#clip4400)\" style=\"stroke:#000000; stroke-width:4; stroke-opacity:1; fill:none\" points=\"\n",
       "  203.721,140.472 223.956,140.472 \n",
       "  \"/>\n",
       "<g clip-path=\"url(#clip4400)\">\n",
       "<text style=\"fill:#000000; fill-opacity:1; font-family:Arial,Helvetica Neue,Helvetica,sans-serif; font-size:48px; text-anchor:middle;\" transform=\"rotate(0, 241.901, 1075.62)\" x=\"241.901\" y=\"1075.62\">-5</text>\n",
       "</g>\n",
       "<g clip-path=\"url(#clip4400)\">\n",
       "<text style=\"fill:#000000; fill-opacity:1; font-family:Arial,Helvetica Neue,Helvetica,sans-serif; font-size:48px; text-anchor:middle;\" transform=\"rotate(0, 369.168, 1075.62)\" x=\"369.168\" y=\"1075.62\">-4</text>\n",
       "</g>\n",
       "<g clip-path=\"url(#clip4400)\">\n",
       "<text style=\"fill:#000000; fill-opacity:1; font-family:Arial,Helvetica Neue,Helvetica,sans-serif; font-size:48px; text-anchor:middle;\" transform=\"rotate(0, 496.436, 1075.62)\" x=\"496.436\" y=\"1075.62\">-3</text>\n",
       "</g>\n",
       "<g clip-path=\"url(#clip4400)\">\n",
       "<text style=\"fill:#000000; fill-opacity:1; font-family:Arial,Helvetica Neue,Helvetica,sans-serif; font-size:48px; text-anchor:middle;\" transform=\"rotate(0, 623.703, 1075.62)\" x=\"623.703\" y=\"1075.62\">-2</text>\n",
       "</g>\n",
       "<g clip-path=\"url(#clip4400)\">\n",
       "<text style=\"fill:#000000; fill-opacity:1; font-family:Arial,Helvetica Neue,Helvetica,sans-serif; font-size:48px; text-anchor:middle;\" transform=\"rotate(0, 750.971, 1075.62)\" x=\"750.971\" y=\"1075.62\">-1</text>\n",
       "</g>\n",
       "<g clip-path=\"url(#clip4400)\">\n",
       "<text style=\"fill:#000000; fill-opacity:1; font-family:Arial,Helvetica Neue,Helvetica,sans-serif; font-size:48px; text-anchor:middle;\" transform=\"rotate(0, 878.238, 1075.62)\" x=\"878.238\" y=\"1075.62\">0</text>\n",
       "</g>\n",
       "<g clip-path=\"url(#clip4400)\">\n",
       "<text style=\"fill:#000000; fill-opacity:1; font-family:Arial,Helvetica Neue,Helvetica,sans-serif; font-size:48px; text-anchor:middle;\" transform=\"rotate(0, 1005.51, 1075.62)\" x=\"1005.51\" y=\"1075.62\">1</text>\n",
       "</g>\n",
       "<g clip-path=\"url(#clip4400)\">\n",
       "<text style=\"fill:#000000; fill-opacity:1; font-family:Arial,Helvetica Neue,Helvetica,sans-serif; font-size:48px; text-anchor:middle;\" transform=\"rotate(0, 1132.77, 1075.62)\" x=\"1132.77\" y=\"1075.62\">2</text>\n",
       "</g>\n",
       "<g clip-path=\"url(#clip4400)\">\n",
       "<text style=\"fill:#000000; fill-opacity:1; font-family:Arial,Helvetica Neue,Helvetica,sans-serif; font-size:48px; text-anchor:middle;\" transform=\"rotate(0, 1260.04, 1075.62)\" x=\"1260.04\" y=\"1075.62\">3</text>\n",
       "</g>\n",
       "<g clip-path=\"url(#clip4400)\">\n",
       "<text style=\"fill:#000000; fill-opacity:1; font-family:Arial,Helvetica Neue,Helvetica,sans-serif; font-size:48px; text-anchor:middle;\" transform=\"rotate(0, 1387.31, 1075.62)\" x=\"1387.31\" y=\"1075.62\">4</text>\n",
       "</g>\n",
       "<g clip-path=\"url(#clip4400)\">\n",
       "<text style=\"fill:#000000; fill-opacity:1; font-family:Arial,Helvetica Neue,Helvetica,sans-serif; font-size:48px; text-anchor:middle;\" transform=\"rotate(0, 1514.58, 1075.62)\" x=\"1514.58\" y=\"1075.62\">5</text>\n",
       "</g>\n",
       "<g clip-path=\"url(#clip4400)\">\n",
       "<text style=\"fill:#000000; fill-opacity:1; font-family:Arial,Helvetica Neue,Helvetica,sans-serif; font-size:48px; text-anchor:end;\" transform=\"rotate(0, 187.721, 1031.81)\" x=\"187.721\" y=\"1031.81\">-5</text>\n",
       "</g>\n",
       "<g clip-path=\"url(#clip4400)\">\n",
       "<text style=\"fill:#000000; fill-opacity:1; font-family:Arial,Helvetica Neue,Helvetica,sans-serif; font-size:48px; text-anchor:end;\" transform=\"rotate(0, 187.721, 922.583)\" x=\"187.721\" y=\"922.583\">0</text>\n",
       "</g>\n",
       "<g clip-path=\"url(#clip4400)\">\n",
       "<text style=\"fill:#000000; fill-opacity:1; font-family:Arial,Helvetica Neue,Helvetica,sans-serif; font-size:48px; text-anchor:end;\" transform=\"rotate(0, 187.721, 813.353)\" x=\"187.721\" y=\"813.353\">5</text>\n",
       "</g>\n",
       "<g clip-path=\"url(#clip4400)\">\n",
       "<text style=\"fill:#000000; fill-opacity:1; font-family:Arial,Helvetica Neue,Helvetica,sans-serif; font-size:48px; text-anchor:end;\" transform=\"rotate(0, 187.721, 704.123)\" x=\"187.721\" y=\"704.123\">10</text>\n",
       "</g>\n",
       "<g clip-path=\"url(#clip4400)\">\n",
       "<text style=\"fill:#000000; fill-opacity:1; font-family:Arial,Helvetica Neue,Helvetica,sans-serif; font-size:48px; text-anchor:end;\" transform=\"rotate(0, 187.721, 594.893)\" x=\"187.721\" y=\"594.893\">15</text>\n",
       "</g>\n",
       "<g clip-path=\"url(#clip4400)\">\n",
       "<text style=\"fill:#000000; fill-opacity:1; font-family:Arial,Helvetica Neue,Helvetica,sans-serif; font-size:48px; text-anchor:end;\" transform=\"rotate(0, 187.721, 485.663)\" x=\"187.721\" y=\"485.663\">20</text>\n",
       "</g>\n",
       "<g clip-path=\"url(#clip4400)\">\n",
       "<text style=\"fill:#000000; fill-opacity:1; font-family:Arial,Helvetica Neue,Helvetica,sans-serif; font-size:48px; text-anchor:end;\" transform=\"rotate(0, 187.721, 376.432)\" x=\"187.721\" y=\"376.432\">25</text>\n",
       "</g>\n",
       "<g clip-path=\"url(#clip4400)\">\n",
       "<text style=\"fill:#000000; fill-opacity:1; font-family:Arial,Helvetica Neue,Helvetica,sans-serif; font-size:48px; text-anchor:end;\" transform=\"rotate(0, 187.721, 267.202)\" x=\"187.721\" y=\"267.202\">30</text>\n",
       "</g>\n",
       "<g clip-path=\"url(#clip4400)\">\n",
       "<text style=\"fill:#000000; fill-opacity:1; font-family:Arial,Helvetica Neue,Helvetica,sans-serif; font-size:48px; text-anchor:end;\" transform=\"rotate(0, 187.721, 157.972)\" x=\"187.721\" y=\"157.972\">35</text>\n",
       "</g>\n",
       "<g clip-path=\"url(#clip4400)\">\n",
       "<text style=\"fill:#000000; fill-opacity:1; font-family:Arial,Helvetica Neue,Helvetica,sans-serif; font-size:66px; text-anchor:middle;\" transform=\"rotate(0, 878.238, 1151.48)\" x=\"878.238\" y=\"1151.48\">x</text>\n",
       "</g>\n",
       "<g clip-path=\"url(#clip4400)\">\n",
       "<text style=\"fill:#000000; fill-opacity:1; font-family:Arial,Helvetica Neue,Helvetica,sans-serif; font-size:66px; text-anchor:middle;\" transform=\"rotate(-90, 105.286, 536.431)\" x=\"105.286\" y=\"536.431\">y</text>\n",
       "</g>\n",
       "<polyline clip-path=\"url(#clip4402)\" style=\"stroke:#009af9; stroke-width:4; stroke-opacity:1; fill:none\" points=\"\n",
       "  241.901,74.9339 254.628,103.115 267.354,130.86 280.081,158.167 292.808,185.038 305.535,211.472 318.261,237.468 330.988,263.028 343.715,288.151 356.442,312.837 \n",
       "  369.168,337.086 381.895,360.898 394.622,384.274 407.349,407.212 420.075,429.713 432.802,451.778 445.529,473.406 458.256,494.596 470.982,515.35 483.709,535.667 \n",
       "  496.436,555.547 509.163,574.99 521.889,593.996 534.616,612.565 547.343,630.697 560.07,648.392 572.796,665.651 585.523,682.472 598.25,698.857 610.977,714.804 \n",
       "  623.703,730.315 636.43,745.389 649.157,760.025 661.884,774.225 674.61,787.988 687.337,801.314 700.064,814.204 712.791,826.656 725.517,838.671 738.244,850.25 \n",
       "  750.971,861.391 763.698,872.096 776.424,882.363 789.151,892.194 801.878,901.588 814.605,910.545 827.331,919.065 840.058,927.148 852.785,934.794 865.512,942.003 \n",
       "  878.238,948.775 890.965,955.111 903.692,961.009 916.419,966.47 929.145,971.495 941.872,976.083 954.599,980.233 967.326,983.947 980.052,987.224 992.779,990.064 \n",
       "  1005.51,992.467 1018.23,994.433 1030.96,995.963 1043.69,997.055 1056.41,997.71 1069.14,997.929 1081.87,997.71 1094.59,997.055 1107.32,995.963 1120.05,994.433 \n",
       "  1132.77,992.467 1145.5,990.064 1158.23,987.224 1170.95,983.947 1183.68,980.233 1196.41,976.083 1209.13,971.495 1221.86,966.47 1234.59,961.009 1247.31,955.111 \n",
       "  1260.04,948.775 1272.77,942.003 1285.49,934.794 1298.22,927.148 1310.95,919.065 1323.67,910.545 1336.4,901.588 1349.13,892.194 1361.85,882.363 1374.58,872.096 \n",
       "  1387.31,861.391 1400.03,850.25 1412.76,838.671 1425.49,826.656 1438.22,814.204 1450.94,801.314 1463.67,787.988 1476.4,774.225 1489.12,760.025 1501.85,745.389 \n",
       "  1514.58,730.315 \n",
       "  \"/>\n",
       "<polyline clip-path=\"url(#clip4402)\" style=\"stroke:#e26f46; stroke-width:4; stroke-opacity:1; fill:none\" points=\"\n",
       "  241.901,905.083 254.628,905.083 267.354,905.083 280.081,905.083 292.808,905.083 305.535,905.083 318.261,905.083 330.988,905.083 343.715,905.083 356.442,905.083 \n",
       "  369.168,905.083 381.895,905.083 394.622,905.083 407.349,905.083 420.075,905.083 432.802,905.083 445.529,905.083 458.256,905.083 470.982,905.083 483.709,905.083 \n",
       "  496.436,905.083 509.163,905.083 521.889,905.083 534.616,905.083 547.343,905.083 560.07,905.083 572.796,905.083 585.523,905.083 598.25,905.083 610.977,905.083 \n",
       "  623.703,905.083 636.43,905.083 649.157,905.083 661.884,905.083 674.61,905.083 687.337,905.083 700.064,905.083 712.791,905.083 725.517,905.083 738.244,905.083 \n",
       "  750.971,905.083 763.698,905.083 776.424,905.083 789.151,905.083 801.878,905.083 814.605,905.083 827.331,905.083 840.058,905.083 852.785,905.083 865.512,905.083 \n",
       "  878.238,905.083 890.965,905.083 903.692,905.083 916.419,905.083 929.145,905.083 941.872,905.083 954.599,905.083 967.326,905.083 980.052,905.083 992.779,905.083 \n",
       "  1005.51,905.083 1018.23,905.083 1030.96,905.083 1043.69,905.083 1056.41,905.083 1069.14,905.083 1081.87,905.083 1094.59,905.083 1107.32,905.083 1120.05,905.083 \n",
       "  1132.77,905.083 1145.5,905.083 1158.23,905.083 1170.95,905.083 1183.68,905.083 1196.41,905.083 1209.13,905.083 1221.86,905.083 1234.59,905.083 1247.31,905.083 \n",
       "  1260.04,905.083 1272.77,905.083 1285.49,905.083 1298.22,905.083 1310.95,905.083 1323.67,905.083 1336.4,905.083 1349.13,905.083 1361.85,905.083 1374.58,905.083 \n",
       "  1387.31,905.083 1400.03,905.083 1412.76,905.083 1425.49,905.083 1438.22,905.083 1450.94,905.083 1463.67,905.083 1476.4,905.083 1489.12,905.083 1501.85,905.083 \n",
       "  1514.58,905.083 \n",
       "  \"/>\n",
       "<path clip-path=\"url(#clip4400)\" d=\"\n",
       "M1154.82 264.204 L1504.76 264.204 L1504.76 82.7641 L1154.82 82.7641  Z\n",
       "  \" fill=\"#ffffff\" fill-rule=\"evenodd\" fill-opacity=\"1\"/>\n",
       "<polyline clip-path=\"url(#clip4400)\" style=\"stroke:#000000; stroke-width:4; stroke-opacity:1; fill:none\" points=\"\n",
       "  1154.82,264.204 1504.76,264.204 1504.76,82.7641 1154.82,82.7641 1154.82,264.204 \n",
       "  \"/>\n",
       "<polyline clip-path=\"url(#clip4400)\" style=\"stroke:#009af9; stroke-width:4; stroke-opacity:1; fill:none\" points=\"\n",
       "  1170.82,143.244 1266.82,143.244 \n",
       "  \"/>\n",
       "<g clip-path=\"url(#clip4400)\">\n",
       "<text style=\"fill:#000000; fill-opacity:1; font-family:Arial,Helvetica Neue,Helvetica,sans-serif; font-size:48px; text-anchor:start;\" transform=\"rotate(0, 1282.82, 160.744)\" x=\"1282.82\" y=\"160.744\">equação</text>\n",
       "</g>\n",
       "<polyline clip-path=\"url(#clip4400)\" style=\"stroke:#e26f46; stroke-width:4; stroke-opacity:1; fill:none\" points=\"\n",
       "  1170.82,203.724 1266.82,203.724 \n",
       "  \"/>\n",
       "<g clip-path=\"url(#clip4400)\">\n",
       "<text style=\"fill:#000000; fill-opacity:1; font-family:Arial,Helvetica Neue,Helvetica,sans-serif; font-size:48px; text-anchor:start;\" transform=\"rotate(0, 1282.82, 221.224)\" x=\"1282.82\" y=\"221.224\">reta zero</text>\n",
       "</g>\n",
       "</svg>\n"
      ]
     },
     "execution_count": 1,
     "metadata": {},
     "output_type": "execute_result"
    }
   ],
   "source": [
    "using Plots\n",
    "gr()\n",
    "\n",
    "plot(collect(-5:0.1:5), x -> x^2 - 3*x - 2, label = \"equação\", size = (400, 300),\n",
    "    xaxis = (\"x\", -5:1:10),\n",
    "    yaxis = (\"y\", -5:5:40))\n",
    "plot!(collect(-5:0.1:5), zero, label = \"reta zero\")"
   ]
  },
  {
   "cell_type": "markdown",
   "metadata": {},
   "source": [
    "De acordo com o gráfico, podemos observar que há duas raízes, sendo a primeira $x \\thickapprox -0.5$ e segunda $x \\thickapprox 3.5$. "
   ]
  },
  {
   "cell_type": "code",
   "execution_count": 2,
   "metadata": {},
   "outputs": [
    {
     "data": {
      "text/plain": [
       "(x,)"
      ]
     },
     "execution_count": 2,
     "metadata": {},
     "output_type": "execute_result"
    }
   ],
   "source": [
    "using SymPy \n",
    "@syms x"
   ]
  },
  {
   "cell_type": "code",
   "execution_count": 3,
   "metadata": {
    "scrolled": false
   },
   "outputs": [
    {
     "data": {
      "text/latex": [
       "\\[ \\left[ \\begin{array}{r}\\frac{3}{2} - \\frac{\\sqrt{17}}{2}\\\\\\frac{3}{2} + \\frac{\\sqrt{17}}{2}\\end{array} \\right] \\]"
      ],
      "text/plain": [
       "2-element Array{Sym,1}:\n",
       " 3/2 - sqrt(17)/2\n",
       " 3/2 + sqrt(17)/2"
      ]
     },
     "execution_count": 3,
     "metadata": {},
     "output_type": "execute_result"
    }
   ],
   "source": [
    "solve(x^2 - 3*x - 2, x)"
   ]
  },
  {
   "cell_type": "markdown",
   "metadata": {},
   "source": [
    "O resultado é do tipo simbólico, logo é interessante atribuir o resultado a duas variáveis $x_1$ e $x_2$ do tipo `float`."
   ]
  },
  {
   "cell_type": "code",
   "execution_count": 4,
   "metadata": {
    "scrolled": true
   },
   "outputs": [
    {
     "data": {
      "text/plain": [
       "2-element Array{Float64,1}:\n",
       " -0.5615528128088303\n",
       "  3.5615528128088303"
      ]
     },
     "execution_count": 4,
     "metadata": {},
     "output_type": "execute_result"
    }
   ],
   "source": [
    "x1, x2 = float(solve(x^2 - 3*x - 2, x))"
   ]
  },
  {
   "cell_type": "code",
   "execution_count": 5,
   "metadata": {
    "scrolled": true
   },
   "outputs": [
    {
     "data": {
      "image/svg+xml": [
       "<?xml version=\"1.0\" encoding=\"utf-8\"?>\n",
       "<svg xmlns=\"http://www.w3.org/2000/svg\" xmlns:xlink=\"http://www.w3.org/1999/xlink\" width=\"400\" height=\"300\" viewBox=\"0 0 1600 1200\">\n",
       "<defs>\n",
       "  <clipPath id=\"clip4800\">\n",
       "    <rect x=\"0\" y=\"0\" width=\"1600\" height=\"1200\"/>\n",
       "  </clipPath>\n",
       "</defs>\n",
       "<path clip-path=\"url(#clip4800)\" d=\"\n",
       "M0 1200 L1600 1200 L1600 0 L0 0  Z\n",
       "  \" fill=\"#ffffff\" fill-rule=\"evenodd\" fill-opacity=\"1\"/>\n",
       "<defs>\n",
       "  <clipPath id=\"clip4801\">\n",
       "    <rect x=\"320\" y=\"0\" width=\"1121\" height=\"1121\"/>\n",
       "  </clipPath>\n",
       "</defs>\n",
       "<path clip-path=\"url(#clip4800)\" d=\"\n",
       "M201.484 1019.66 L1552.76 1019.66 L1552.76 47.2441 L201.484 47.2441  Z\n",
       "  \" fill=\"#ffffff\" fill-rule=\"evenodd\" fill-opacity=\"1\"/>\n",
       "<defs>\n",
       "  <clipPath id=\"clip4802\">\n",
       "    <rect x=\"201\" y=\"47\" width=\"1352\" height=\"973\"/>\n",
       "  </clipPath>\n",
       "</defs>\n",
       "<polyline clip-path=\"url(#clip4802)\" style=\"stroke:#000000; stroke-width:2; stroke-opacity:0.1; fill:none\" points=\"\n",
       "  239.728,1019.66 239.728,47.2441 \n",
       "  \"/>\n",
       "<polyline clip-path=\"url(#clip4802)\" style=\"stroke:#000000; stroke-width:2; stroke-opacity:0.1; fill:none\" points=\"\n",
       "  367.206,1019.66 367.206,47.2441 \n",
       "  \"/>\n",
       "<polyline clip-path=\"url(#clip4802)\" style=\"stroke:#000000; stroke-width:2; stroke-opacity:0.1; fill:none\" points=\"\n",
       "  494.685,1019.66 494.685,47.2441 \n",
       "  \"/>\n",
       "<polyline clip-path=\"url(#clip4802)\" style=\"stroke:#000000; stroke-width:2; stroke-opacity:0.1; fill:none\" points=\"\n",
       "  622.163,1019.66 622.163,47.2441 \n",
       "  \"/>\n",
       "<polyline clip-path=\"url(#clip4802)\" style=\"stroke:#000000; stroke-width:2; stroke-opacity:0.1; fill:none\" points=\"\n",
       "  749.642,1019.66 749.642,47.2441 \n",
       "  \"/>\n",
       "<polyline clip-path=\"url(#clip4802)\" style=\"stroke:#000000; stroke-width:2; stroke-opacity:0.1; fill:none\" points=\"\n",
       "  877.12,1019.66 877.12,47.2441 \n",
       "  \"/>\n",
       "<polyline clip-path=\"url(#clip4802)\" style=\"stroke:#000000; stroke-width:2; stroke-opacity:0.1; fill:none\" points=\"\n",
       "  1004.6,1019.66 1004.6,47.2441 \n",
       "  \"/>\n",
       "<polyline clip-path=\"url(#clip4802)\" style=\"stroke:#000000; stroke-width:2; stroke-opacity:0.1; fill:none\" points=\"\n",
       "  1132.08,1019.66 1132.08,47.2441 \n",
       "  \"/>\n",
       "<polyline clip-path=\"url(#clip4802)\" style=\"stroke:#000000; stroke-width:2; stroke-opacity:0.1; fill:none\" points=\"\n",
       "  1259.56,1019.66 1259.56,47.2441 \n",
       "  \"/>\n",
       "<polyline clip-path=\"url(#clip4802)\" style=\"stroke:#000000; stroke-width:2; stroke-opacity:0.1; fill:none\" points=\"\n",
       "  1387.03,1019.66 1387.03,47.2441 \n",
       "  \"/>\n",
       "<polyline clip-path=\"url(#clip4802)\" style=\"stroke:#000000; stroke-width:2; stroke-opacity:0.1; fill:none\" points=\"\n",
       "  1514.51,1019.66 1514.51,47.2441 \n",
       "  \"/>\n",
       "<polyline clip-path=\"url(#clip4802)\" style=\"stroke:#000000; stroke-width:2; stroke-opacity:0.1; fill:none\" points=\"\n",
       "  201.484,1008.43 1552.76,1008.43 \n",
       "  \"/>\n",
       "<polyline clip-path=\"url(#clip4802)\" style=\"stroke:#000000; stroke-width:2; stroke-opacity:0.1; fill:none\" points=\"\n",
       "  201.484,899.862 1552.76,899.862 \n",
       "  \"/>\n",
       "<polyline clip-path=\"url(#clip4802)\" style=\"stroke:#000000; stroke-width:2; stroke-opacity:0.1; fill:none\" points=\"\n",
       "  201.484,791.296 1552.76,791.296 \n",
       "  \"/>\n",
       "<polyline clip-path=\"url(#clip4802)\" style=\"stroke:#000000; stroke-width:2; stroke-opacity:0.1; fill:none\" points=\"\n",
       "  201.484,682.731 1552.76,682.731 \n",
       "  \"/>\n",
       "<polyline clip-path=\"url(#clip4802)\" style=\"stroke:#000000; stroke-width:2; stroke-opacity:0.1; fill:none\" points=\"\n",
       "  201.484,574.166 1552.76,574.166 \n",
       "  \"/>\n",
       "<polyline clip-path=\"url(#clip4802)\" style=\"stroke:#000000; stroke-width:2; stroke-opacity:0.1; fill:none\" points=\"\n",
       "  201.484,465.6 1552.76,465.6 \n",
       "  \"/>\n",
       "<polyline clip-path=\"url(#clip4802)\" style=\"stroke:#000000; stroke-width:2; stroke-opacity:0.1; fill:none\" points=\"\n",
       "  201.484,357.035 1552.76,357.035 \n",
       "  \"/>\n",
       "<polyline clip-path=\"url(#clip4802)\" style=\"stroke:#000000; stroke-width:2; stroke-opacity:0.1; fill:none\" points=\"\n",
       "  201.484,248.47 1552.76,248.47 \n",
       "  \"/>\n",
       "<polyline clip-path=\"url(#clip4802)\" style=\"stroke:#000000; stroke-width:2; stroke-opacity:0.1; fill:none\" points=\"\n",
       "  201.484,139.905 1552.76,139.905 \n",
       "  \"/>\n",
       "<polyline clip-path=\"url(#clip4800)\" style=\"stroke:#000000; stroke-width:4; stroke-opacity:1; fill:none\" points=\"\n",
       "  201.484,1019.66 1552.76,1019.66 \n",
       "  \"/>\n",
       "<polyline clip-path=\"url(#clip4800)\" style=\"stroke:#000000; stroke-width:4; stroke-opacity:1; fill:none\" points=\"\n",
       "  201.484,1019.66 201.484,47.2441 \n",
       "  \"/>\n",
       "<polyline clip-path=\"url(#clip4800)\" style=\"stroke:#000000; stroke-width:4; stroke-opacity:1; fill:none\" points=\"\n",
       "  239.728,1019.66 239.728,1005.08 \n",
       "  \"/>\n",
       "<polyline clip-path=\"url(#clip4800)\" style=\"stroke:#000000; stroke-width:4; stroke-opacity:1; fill:none\" points=\"\n",
       "  367.206,1019.66 367.206,1005.08 \n",
       "  \"/>\n",
       "<polyline clip-path=\"url(#clip4800)\" style=\"stroke:#000000; stroke-width:4; stroke-opacity:1; fill:none\" points=\"\n",
       "  494.685,1019.66 494.685,1005.08 \n",
       "  \"/>\n",
       "<polyline clip-path=\"url(#clip4800)\" style=\"stroke:#000000; stroke-width:4; stroke-opacity:1; fill:none\" points=\"\n",
       "  622.163,1019.66 622.163,1005.08 \n",
       "  \"/>\n",
       "<polyline clip-path=\"url(#clip4800)\" style=\"stroke:#000000; stroke-width:4; stroke-opacity:1; fill:none\" points=\"\n",
       "  749.642,1019.66 749.642,1005.08 \n",
       "  \"/>\n",
       "<polyline clip-path=\"url(#clip4800)\" style=\"stroke:#000000; stroke-width:4; stroke-opacity:1; fill:none\" points=\"\n",
       "  877.12,1019.66 877.12,1005.08 \n",
       "  \"/>\n",
       "<polyline clip-path=\"url(#clip4800)\" style=\"stroke:#000000; stroke-width:4; stroke-opacity:1; fill:none\" points=\"\n",
       "  1004.6,1019.66 1004.6,1005.08 \n",
       "  \"/>\n",
       "<polyline clip-path=\"url(#clip4800)\" style=\"stroke:#000000; stroke-width:4; stroke-opacity:1; fill:none\" points=\"\n",
       "  1132.08,1019.66 1132.08,1005.08 \n",
       "  \"/>\n",
       "<polyline clip-path=\"url(#clip4800)\" style=\"stroke:#000000; stroke-width:4; stroke-opacity:1; fill:none\" points=\"\n",
       "  1259.56,1019.66 1259.56,1005.08 \n",
       "  \"/>\n",
       "<polyline clip-path=\"url(#clip4800)\" style=\"stroke:#000000; stroke-width:4; stroke-opacity:1; fill:none\" points=\"\n",
       "  1387.03,1019.66 1387.03,1005.08 \n",
       "  \"/>\n",
       "<polyline clip-path=\"url(#clip4800)\" style=\"stroke:#000000; stroke-width:4; stroke-opacity:1; fill:none\" points=\"\n",
       "  1514.51,1019.66 1514.51,1005.08 \n",
       "  \"/>\n",
       "<polyline clip-path=\"url(#clip4800)\" style=\"stroke:#000000; stroke-width:4; stroke-opacity:1; fill:none\" points=\"\n",
       "  201.484,1008.43 221.753,1008.43 \n",
       "  \"/>\n",
       "<polyline clip-path=\"url(#clip4800)\" style=\"stroke:#000000; stroke-width:4; stroke-opacity:1; fill:none\" points=\"\n",
       "  201.484,899.862 221.753,899.862 \n",
       "  \"/>\n",
       "<polyline clip-path=\"url(#clip4800)\" style=\"stroke:#000000; stroke-width:4; stroke-opacity:1; fill:none\" points=\"\n",
       "  201.484,791.296 221.753,791.296 \n",
       "  \"/>\n",
       "<polyline clip-path=\"url(#clip4800)\" style=\"stroke:#000000; stroke-width:4; stroke-opacity:1; fill:none\" points=\"\n",
       "  201.484,682.731 221.753,682.731 \n",
       "  \"/>\n",
       "<polyline clip-path=\"url(#clip4800)\" style=\"stroke:#000000; stroke-width:4; stroke-opacity:1; fill:none\" points=\"\n",
       "  201.484,574.166 221.753,574.166 \n",
       "  \"/>\n",
       "<polyline clip-path=\"url(#clip4800)\" style=\"stroke:#000000; stroke-width:4; stroke-opacity:1; fill:none\" points=\"\n",
       "  201.484,465.6 221.753,465.6 \n",
       "  \"/>\n",
       "<polyline clip-path=\"url(#clip4800)\" style=\"stroke:#000000; stroke-width:4; stroke-opacity:1; fill:none\" points=\"\n",
       "  201.484,357.035 221.753,357.035 \n",
       "  \"/>\n",
       "<polyline clip-path=\"url(#clip4800)\" style=\"stroke:#000000; stroke-width:4; stroke-opacity:1; fill:none\" points=\"\n",
       "  201.484,248.47 221.753,248.47 \n",
       "  \"/>\n",
       "<polyline clip-path=\"url(#clip4800)\" style=\"stroke:#000000; stroke-width:4; stroke-opacity:1; fill:none\" points=\"\n",
       "  201.484,139.905 221.753,139.905 \n",
       "  \"/>\n",
       "<g clip-path=\"url(#clip4800)\">\n",
       "<text style=\"fill:#000000; fill-opacity:1; font-family:Arial,Helvetica Neue,Helvetica,sans-serif; font-size:48px; text-anchor:middle;\" transform=\"rotate(0, 239.728, 1069.66)\" x=\"239.728\" y=\"1069.66\">-5</text>\n",
       "</g>\n",
       "<g clip-path=\"url(#clip4800)\">\n",
       "<text style=\"fill:#000000; fill-opacity:1; font-family:Arial,Helvetica Neue,Helvetica,sans-serif; font-size:48px; text-anchor:middle;\" transform=\"rotate(0, 367.206, 1069.66)\" x=\"367.206\" y=\"1069.66\">-4</text>\n",
       "</g>\n",
       "<g clip-path=\"url(#clip4800)\">\n",
       "<text style=\"fill:#000000; fill-opacity:1; font-family:Arial,Helvetica Neue,Helvetica,sans-serif; font-size:48px; text-anchor:middle;\" transform=\"rotate(0, 494.685, 1069.66)\" x=\"494.685\" y=\"1069.66\">-3</text>\n",
       "</g>\n",
       "<g clip-path=\"url(#clip4800)\">\n",
       "<text style=\"fill:#000000; fill-opacity:1; font-family:Arial,Helvetica Neue,Helvetica,sans-serif; font-size:48px; text-anchor:middle;\" transform=\"rotate(0, 622.163, 1069.66)\" x=\"622.163\" y=\"1069.66\">-2</text>\n",
       "</g>\n",
       "<g clip-path=\"url(#clip4800)\">\n",
       "<text style=\"fill:#000000; fill-opacity:1; font-family:Arial,Helvetica Neue,Helvetica,sans-serif; font-size:48px; text-anchor:middle;\" transform=\"rotate(0, 749.642, 1069.66)\" x=\"749.642\" y=\"1069.66\">-1</text>\n",
       "</g>\n",
       "<g clip-path=\"url(#clip4800)\">\n",
       "<text style=\"fill:#000000; fill-opacity:1; font-family:Arial,Helvetica Neue,Helvetica,sans-serif; font-size:48px; text-anchor:middle;\" transform=\"rotate(0, 877.12, 1069.66)\" x=\"877.12\" y=\"1069.66\">0</text>\n",
       "</g>\n",
       "<g clip-path=\"url(#clip4800)\">\n",
       "<text style=\"fill:#000000; fill-opacity:1; font-family:Arial,Helvetica Neue,Helvetica,sans-serif; font-size:48px; text-anchor:middle;\" transform=\"rotate(0, 1004.6, 1069.66)\" x=\"1004.6\" y=\"1069.66\">1</text>\n",
       "</g>\n",
       "<g clip-path=\"url(#clip4800)\">\n",
       "<text style=\"fill:#000000; fill-opacity:1; font-family:Arial,Helvetica Neue,Helvetica,sans-serif; font-size:48px; text-anchor:middle;\" transform=\"rotate(0, 1132.08, 1069.66)\" x=\"1132.08\" y=\"1069.66\">2</text>\n",
       "</g>\n",
       "<g clip-path=\"url(#clip4800)\">\n",
       "<text style=\"fill:#000000; fill-opacity:1; font-family:Arial,Helvetica Neue,Helvetica,sans-serif; font-size:48px; text-anchor:middle;\" transform=\"rotate(0, 1259.56, 1069.66)\" x=\"1259.56\" y=\"1069.66\">3</text>\n",
       "</g>\n",
       "<g clip-path=\"url(#clip4800)\">\n",
       "<text style=\"fill:#000000; fill-opacity:1; font-family:Arial,Helvetica Neue,Helvetica,sans-serif; font-size:48px; text-anchor:middle;\" transform=\"rotate(0, 1387.03, 1069.66)\" x=\"1387.03\" y=\"1069.66\">4</text>\n",
       "</g>\n",
       "<g clip-path=\"url(#clip4800)\">\n",
       "<text style=\"fill:#000000; fill-opacity:1; font-family:Arial,Helvetica Neue,Helvetica,sans-serif; font-size:48px; text-anchor:middle;\" transform=\"rotate(0, 1514.51, 1069.66)\" x=\"1514.51\" y=\"1069.66\">5</text>\n",
       "</g>\n",
       "<g clip-path=\"url(#clip4800)\">\n",
       "<text style=\"fill:#000000; fill-opacity:1; font-family:Arial,Helvetica Neue,Helvetica,sans-serif; font-size:48px; text-anchor:end;\" transform=\"rotate(0, 185.484, 1025.93)\" x=\"185.484\" y=\"1025.93\">-5</text>\n",
       "</g>\n",
       "<g clip-path=\"url(#clip4800)\">\n",
       "<text style=\"fill:#000000; fill-opacity:1; font-family:Arial,Helvetica Neue,Helvetica,sans-serif; font-size:48px; text-anchor:end;\" transform=\"rotate(0, 185.484, 917.362)\" x=\"185.484\" y=\"917.362\">0</text>\n",
       "</g>\n",
       "<g clip-path=\"url(#clip4800)\">\n",
       "<text style=\"fill:#000000; fill-opacity:1; font-family:Arial,Helvetica Neue,Helvetica,sans-serif; font-size:48px; text-anchor:end;\" transform=\"rotate(0, 185.484, 808.796)\" x=\"185.484\" y=\"808.796\">5</text>\n",
       "</g>\n",
       "<g clip-path=\"url(#clip4800)\">\n",
       "<text style=\"fill:#000000; fill-opacity:1; font-family:Arial,Helvetica Neue,Helvetica,sans-serif; font-size:48px; text-anchor:end;\" transform=\"rotate(0, 185.484, 700.231)\" x=\"185.484\" y=\"700.231\">10</text>\n",
       "</g>\n",
       "<g clip-path=\"url(#clip4800)\">\n",
       "<text style=\"fill:#000000; fill-opacity:1; font-family:Arial,Helvetica Neue,Helvetica,sans-serif; font-size:48px; text-anchor:end;\" transform=\"rotate(0, 185.484, 591.666)\" x=\"185.484\" y=\"591.666\">15</text>\n",
       "</g>\n",
       "<g clip-path=\"url(#clip4800)\">\n",
       "<text style=\"fill:#000000; fill-opacity:1; font-family:Arial,Helvetica Neue,Helvetica,sans-serif; font-size:48px; text-anchor:end;\" transform=\"rotate(0, 185.484, 483.1)\" x=\"185.484\" y=\"483.1\">20</text>\n",
       "</g>\n",
       "<g clip-path=\"url(#clip4800)\">\n",
       "<text style=\"fill:#000000; fill-opacity:1; font-family:Arial,Helvetica Neue,Helvetica,sans-serif; font-size:48px; text-anchor:end;\" transform=\"rotate(0, 185.484, 374.535)\" x=\"185.484\" y=\"374.535\">25</text>\n",
       "</g>\n",
       "<g clip-path=\"url(#clip4800)\">\n",
       "<text style=\"fill:#000000; fill-opacity:1; font-family:Arial,Helvetica Neue,Helvetica,sans-serif; font-size:48px; text-anchor:end;\" transform=\"rotate(0, 185.484, 265.97)\" x=\"185.484\" y=\"265.97\">30</text>\n",
       "</g>\n",
       "<g clip-path=\"url(#clip4800)\">\n",
       "<text style=\"fill:#000000; fill-opacity:1; font-family:Arial,Helvetica Neue,Helvetica,sans-serif; font-size:48px; text-anchor:end;\" transform=\"rotate(0, 185.484, 157.405)\" x=\"185.484\" y=\"157.405\">35</text>\n",
       "</g>\n",
       "<g clip-path=\"url(#clip4800)\">\n",
       "<text style=\"fill:#000000; fill-opacity:1; font-family:Arial,Helvetica Neue,Helvetica,sans-serif; font-size:66px; text-anchor:middle;\" transform=\"rotate(0, 877.12, 1145.53)\" x=\"877.12\" y=\"1145.53\">x</text>\n",
       "</g>\n",
       "<g clip-path=\"url(#clip4800)\">\n",
       "<text style=\"fill:#000000; fill-opacity:1; font-family:Arial,Helvetica Neue,Helvetica,sans-serif; font-size:66px; text-anchor:middle;\" transform=\"rotate(-90, 103.05, 533.454)\" x=\"103.05\" y=\"533.454\">y</text>\n",
       "</g>\n",
       "<polyline clip-path=\"url(#clip4802)\" style=\"stroke:#009af9; stroke-width:4; stroke-opacity:1; fill:none\" points=\"\n",
       "  239.728,74.7654 252.476,102.775 265.223,130.351 277.971,157.492 290.719,184.199 303.467,210.472 316.215,236.311 328.963,261.715 341.71,286.685 354.458,311.221 \n",
       "  367.206,335.322 379.954,358.989 392.702,382.222 405.45,405.021 418.198,427.385 430.945,449.316 443.693,470.812 456.441,491.873 469.189,512.501 481.937,532.694 \n",
       "  494.685,552.453 507.432,571.777 520.18,590.668 532.928,609.124 545.676,627.146 558.424,644.733 571.172,661.887 583.92,678.606 596.667,694.89 609.415,710.741 \n",
       "  622.163,726.157 634.911,741.139 647.659,755.687 660.407,769.8 673.154,783.48 685.902,796.725 698.65,809.535 711.398,821.912 724.146,833.854 736.894,845.362 \n",
       "  749.642,856.436 762.389,867.075 775.137,877.28 787.885,887.051 800.633,896.388 813.381,905.29 826.129,913.758 838.876,921.792 851.624,929.391 864.372,936.557 \n",
       "  877.12,943.288 889.868,949.585 902.616,955.447 915.364,960.875 928.111,965.869 940.859,970.429 953.607,974.555 966.355,978.246 979.103,981.503 991.851,984.325 \n",
       "  1004.6,986.714 1017.35,988.668 1030.09,990.188 1042.84,991.274 1055.59,991.925 1068.34,992.142 1081.09,991.925 1093.83,991.274 1106.58,990.188 1119.33,988.668 \n",
       "  1132.08,986.714 1144.82,984.325 1157.57,981.503 1170.32,978.246 1183.07,974.555 1195.82,970.429 1208.56,965.869 1221.31,960.875 1234.06,955.447 1246.81,949.585 \n",
       "  1259.56,943.288 1272.3,936.557 1285.05,929.391 1297.8,921.792 1310.55,913.758 1323.29,905.29 1336.04,896.388 1348.79,887.051 1361.54,877.28 1374.29,867.075 \n",
       "  1387.03,856.436 1399.78,845.362 1412.53,833.854 1425.28,821.912 1438.03,809.535 1450.77,796.725 1463.52,783.48 1476.27,769.8 1489.02,755.687 1501.76,741.139 \n",
       "  1514.51,726.157 \n",
       "  \"/>\n",
       "<polyline clip-path=\"url(#clip4802)\" style=\"stroke:#e26f46; stroke-width:4; stroke-opacity:1; fill:none\" points=\"\n",
       "  239.728,899.862 252.476,899.862 265.223,899.862 277.971,899.862 290.719,899.862 303.467,899.862 316.215,899.862 328.963,899.862 341.71,899.862 354.458,899.862 \n",
       "  367.206,899.862 379.954,899.862 392.702,899.862 405.45,899.862 418.198,899.862 430.945,899.862 443.693,899.862 456.441,899.862 469.189,899.862 481.937,899.862 \n",
       "  494.685,899.862 507.432,899.862 520.18,899.862 532.928,899.862 545.676,899.862 558.424,899.862 571.172,899.862 583.92,899.862 596.667,899.862 609.415,899.862 \n",
       "  622.163,899.862 634.911,899.862 647.659,899.862 660.407,899.862 673.154,899.862 685.902,899.862 698.65,899.862 711.398,899.862 724.146,899.862 736.894,899.862 \n",
       "  749.642,899.862 762.389,899.862 775.137,899.862 787.885,899.862 800.633,899.862 813.381,899.862 826.129,899.862 838.876,899.862 851.624,899.862 864.372,899.862 \n",
       "  877.12,899.862 889.868,899.862 902.616,899.862 915.364,899.862 928.111,899.862 940.859,899.862 953.607,899.862 966.355,899.862 979.103,899.862 991.851,899.862 \n",
       "  1004.6,899.862 1017.35,899.862 1030.09,899.862 1042.84,899.862 1055.59,899.862 1068.34,899.862 1081.09,899.862 1093.83,899.862 1106.58,899.862 1119.33,899.862 \n",
       "  1132.08,899.862 1144.82,899.862 1157.57,899.862 1170.32,899.862 1183.07,899.862 1195.82,899.862 1208.56,899.862 1221.31,899.862 1234.06,899.862 1246.81,899.862 \n",
       "  1259.56,899.862 1272.3,899.862 1285.05,899.862 1297.8,899.862 1310.55,899.862 1323.29,899.862 1336.04,899.862 1348.79,899.862 1361.54,899.862 1374.29,899.862 \n",
       "  1387.03,899.862 1399.78,899.862 1412.53,899.862 1425.28,899.862 1438.03,899.862 1450.77,899.862 1463.52,899.862 1476.27,899.862 1489.02,899.862 1501.76,899.862 \n",
       "  1514.51,899.862 \n",
       "  \"/>\n",
       "<circle clip-path=\"url(#clip4802)\" style=\"fill:#000000; stroke:none; fill-opacity:1\" cx=\"805.534\" cy=\"899.862\" r=\"18\"/>\n",
       "<circle clip-path=\"url(#clip4802)\" style=\"fill:#3da44d; stroke:none; fill-opacity:1\" cx=\"805.534\" cy=\"899.862\" r=\"14\"/>\n",
       "<circle clip-path=\"url(#clip4802)\" style=\"fill:#000000; stroke:none; fill-opacity:1\" cx=\"1331.14\" cy=\"899.862\" r=\"18\"/>\n",
       "<circle clip-path=\"url(#clip4802)\" style=\"fill:#3da44d; stroke:none; fill-opacity:1\" cx=\"1331.14\" cy=\"899.862\" r=\"14\"/>\n",
       "<path clip-path=\"url(#clip4800)\" d=\"\n",
       "M1154.82 324.684 L1504.76 324.684 L1504.76 82.7641 L1154.82 82.7641  Z\n",
       "  \" fill=\"#ffffff\" fill-rule=\"evenodd\" fill-opacity=\"1\"/>\n",
       "<polyline clip-path=\"url(#clip4800)\" style=\"stroke:#000000; stroke-width:4; stroke-opacity:1; fill:none\" points=\"\n",
       "  1154.82,324.684 1504.76,324.684 1504.76,82.7641 1154.82,82.7641 1154.82,324.684 \n",
       "  \"/>\n",
       "<polyline clip-path=\"url(#clip4800)\" style=\"stroke:#009af9; stroke-width:4; stroke-opacity:1; fill:none\" points=\"\n",
       "  1170.82,143.244 1266.82,143.244 \n",
       "  \"/>\n",
       "<g clip-path=\"url(#clip4800)\">\n",
       "<text style=\"fill:#000000; fill-opacity:1; font-family:Arial,Helvetica Neue,Helvetica,sans-serif; font-size:48px; text-anchor:start;\" transform=\"rotate(0, 1282.82, 160.744)\" x=\"1282.82\" y=\"160.744\">equação</text>\n",
       "</g>\n",
       "<polyline clip-path=\"url(#clip4800)\" style=\"stroke:#e26f46; stroke-width:4; stroke-opacity:1; fill:none\" points=\"\n",
       "  1170.82,203.724 1266.82,203.724 \n",
       "  \"/>\n",
       "<g clip-path=\"url(#clip4800)\">\n",
       "<text style=\"fill:#000000; fill-opacity:1; font-family:Arial,Helvetica Neue,Helvetica,sans-serif; font-size:48px; text-anchor:start;\" transform=\"rotate(0, 1282.82, 221.224)\" x=\"1282.82\" y=\"221.224\">reta zero</text>\n",
       "</g>\n",
       "<circle clip-path=\"url(#clip4800)\" style=\"fill:#000000; stroke:none; fill-opacity:1\" cx=\"1226.82\" cy=\"264.204\" r=\"25\"/>\n",
       "<circle clip-path=\"url(#clip4800)\" style=\"fill:#3da44d; stroke:none; fill-opacity:1\" cx=\"1226.82\" cy=\"264.204\" r=\"21\"/>\n",
       "<g clip-path=\"url(#clip4800)\">\n",
       "<text style=\"fill:#000000; fill-opacity:1; font-family:Arial,Helvetica Neue,Helvetica,sans-serif; font-size:48px; text-anchor:start;\" transform=\"rotate(0, 1282.82, 281.704)\" x=\"1282.82\" y=\"281.704\">raízes</text>\n",
       "</g>\n",
       "</svg>\n"
      ]
     },
     "execution_count": 5,
     "metadata": {},
     "output_type": "execute_result"
    }
   ],
   "source": [
    "using Plots\n",
    "gr()\n",
    "\n",
    "plot(-5:0.1:5, x -> x^2 - 3*x - 2, label = \"equação\", \n",
    "    xaxis = (\"x\",  -5:1:10),\n",
    "    yaxis = (\"y\", -5:5:40))\n",
    "plot!(-5:0.1:5, zero, label = \"reta zero\")\n",
    "scatter!([x1, x2], [0, 0], label  = \"raízes\", size = (400, 300) )"
   ]
  },
  {
   "cell_type": "markdown",
   "metadata": {},
   "source": [
    "**Utilizando uma função genérica**"
   ]
  },
  {
   "cell_type": "code",
   "execution_count": 6,
   "metadata": {},
   "outputs": [
    {
     "data": {
      "text/plain": [
       "(x,)"
      ]
     },
     "execution_count": 6,
     "metadata": {},
     "output_type": "execute_result"
    }
   ],
   "source": [
    "using SymPy\n",
    "@syms x"
   ]
  },
  {
   "cell_type": "code",
   "execution_count": 7,
   "metadata": {
    "scrolled": true
   },
   "outputs": [
    {
     "data": {
      "text/plain": [
       "f1 (generic function with 1 method)"
      ]
     },
     "execution_count": 7,
     "metadata": {},
     "output_type": "execute_result"
    }
   ],
   "source": [
    "# Função genérica\n",
    "f1(x) = x^2 - 3*x - 2"
   ]
  },
  {
   "cell_type": "code",
   "execution_count": 8,
   "metadata": {
    "scrolled": true
   },
   "outputs": [
    {
     "data": {
      "text/latex": [
       "\\[ \\left[ \\begin{array}{r}\\frac{3}{2} - \\frac{\\sqrt{17}}{2}\\\\\\frac{3}{2} + \\frac{\\sqrt{17}}{2}\\end{array} \\right] \\]"
      ],
      "text/plain": [
       "2-element Array{Sym,1}:\n",
       " 3/2 - sqrt(17)/2\n",
       " 3/2 + sqrt(17)/2"
      ]
     },
     "execution_count": 8,
     "metadata": {},
     "output_type": "execute_result"
    }
   ],
   "source": [
    "sol_f1 = solve(f1(x), x)"
   ]
  },
  {
   "cell_type": "code",
   "execution_count": 9,
   "metadata": {},
   "outputs": [
    {
     "data": {
      "text/plain": [
       "Array{Sym,1}"
      ]
     },
     "execution_count": 9,
     "metadata": {},
     "output_type": "execute_result"
    }
   ],
   "source": [
    "# tipo\n",
    "typeof(sol_f1)"
   ]
  },
  {
   "cell_type": "markdown",
   "metadata": {},
   "source": [
    "Ou ainda"
   ]
  },
  {
   "cell_type": "code",
   "execution_count": 10,
   "metadata": {
    "scrolled": true
   },
   "outputs": [
    {
     "data": {
      "text/plain": [
       "2-element Array{Float64,1}:\n",
       " -0.5615528128088303\n",
       "  3.5615528128088303"
      ]
     },
     "execution_count": 10,
     "metadata": {},
     "output_type": "execute_result"
    }
   ],
   "source": [
    "raízes = float(solve(f1(x), x))"
   ]
  },
  {
   "cell_type": "markdown",
   "metadata": {},
   "source": [
    "A variável \"raízes\" é um vetor que contém os valores de $x_1$ e $x_2$. Dessa forma, podemos acessar somente o valor de $X_1$ ou de $X_2$"
   ]
  },
  {
   "cell_type": "code",
   "execution_count": 11,
   "metadata": {
    "scrolled": true
   },
   "outputs": [
    {
     "data": {
      "text/plain": [
       "(-0.5615528128088303, 3.5615528128088303)"
      ]
     },
     "execution_count": 11,
     "metadata": {},
     "output_type": "execute_result"
    }
   ],
   "source": [
    "raízes[1], raízes[2]"
   ]
  },
  {
   "cell_type": "markdown",
   "metadata": {},
   "source": [
    "**Equação de Gauss**\n",
    "\n",
    "<img src=\"Figuras/gauss-espelhos-esfericos.png\" align=\"center\" width=\"300\">\n",
    "Uma vantagem especial do pacote `SymPy.jl` é a manipulação simbólica de fórmulas, permitindo resolver uma equação em relação a qualquer variável. No exemplo a seguir, encontraremos a relação entre o foco ($f$) e as distâncias do objeto ($p_o$) e imagem ($p_i$) à frete de um espelho esférico definido pela equação de Gauss, ou equação dos pontos conjugados: \n",
    "\n",
    "\n",
    "$ \\displaystyle{\\frac{1}{f} = \\frac{1}{p_o} + \\frac{1}{p_i}}$ "
   ]
  },
  {
   "cell_type": "code",
   "execution_count": 12,
   "metadata": {
    "scrolled": false
   },
   "outputs": [
    {
     "data": {
      "text/plain": [
       "(f, p_o, p_i)"
      ]
     },
     "execution_count": 12,
     "metadata": {},
     "output_type": "execute_result"
    }
   ],
   "source": [
    "using SymPy\n",
    "@syms f p_o p_i"
   ]
  },
  {
   "cell_type": "code",
   "execution_count": 13,
   "metadata": {
    "scrolled": true
   },
   "outputs": [
    {
     "data": {
      "text/latex": [
       "\\[ \\left[ \\begin{array}{r}\\frac{p_{i} p_{o}}{p_{i} + p_{o}}\\end{array} \\right] \\]"
      ],
      "text/plain": [
       "1-element Array{Sym,1}:\n",
       " p_i*p_o/(p_i + p_o)"
      ]
     },
     "execution_count": 13,
     "metadata": {},
     "output_type": "execute_result"
    }
   ],
   "source": [
    "sol_f = solve(1/f - 1/p_o - 1/p_i, f)"
   ]
  },
  {
   "cell_type": "markdown",
   "metadata": {},
   "source": [
    "O foco $f$ pode ser calculado atribuíndo valores para as variáveis $p_o = 10$ e $p_i = 1$. É possível atribuição direta na forma $ f(10, 1) $ porém não há certeza se os valores atribídos para $ p_o $  e $ p_i $ serão 10 e 1 respectivamente. Dessa forma, a função `subs()` do `SymPy.jl` resolve este problema."
   ]
  },
  {
   "cell_type": "code",
   "execution_count": 14,
   "metadata": {},
   "outputs": [
    {
     "data": {
      "text/plain": [
       "0.9090909090909091"
      ]
     },
     "execution_count": 14,
     "metadata": {},
     "output_type": "execute_result"
    }
   ],
   "source": [
    "float(subs(sol_f[1], p_o =>10, p_i=>1))"
   ]
  },
  {
   "cell_type": "markdown",
   "metadata": {},
   "source": [
    "Para usar o resultado simbólico em uma função genérica ou anônima, use:"
   ]
  },
  {
   "cell_type": "code",
   "execution_count": 15,
   "metadata": {},
   "outputs": [
    {
     "data": {
      "text/plain": [
       "F1 (generic function with 1 method)"
      ]
     },
     "execution_count": 15,
     "metadata": {},
     "output_type": "execute_result"
    }
   ],
   "source": [
    "# função genérica\n",
    "@eval F1(p_o, p_i) = $(Meta.parse(string(sol_f[1])))"
   ]
  },
  {
   "cell_type": "code",
   "execution_count": 16,
   "metadata": {},
   "outputs": [
    {
     "data": {
      "text/plain": [
       "0.9090909090909091"
      ]
     },
     "execution_count": 16,
     "metadata": {},
     "output_type": "execute_result"
    }
   ],
   "source": [
    "F1(10, 1)"
   ]
  },
  {
   "cell_type": "code",
   "execution_count": 17,
   "metadata": {},
   "outputs": [
    {
     "data": {
      "text/plain": [
       "#84 (generic function with 1 method)"
      ]
     },
     "execution_count": 17,
     "metadata": {},
     "output_type": "execute_result"
    }
   ],
   "source": [
    "# função anônima\n",
    "F2 = convert(Function, sol_f[1])"
   ]
  },
  {
   "cell_type": "code",
   "execution_count": 18,
   "metadata": {},
   "outputs": [
    {
     "data": {
      "text/plain": [
       "0.9090909090909092"
      ]
     },
     "execution_count": 18,
     "metadata": {},
     "output_type": "execute_result"
    }
   ],
   "source": [
    "F2(10, 1)"
   ]
  },
  {
   "cell_type": "markdown",
   "metadata": {},
   "source": [
    "Uma solução interessante é resolver a equação dos pontos conjugados em relação $p_i$. O resultado, $p_i = - \\frac{f p_{o}}{f - p_{o}}$,  quando expresso em um gráfico nos diz que a distância da imagem formada tende para um valor constante igual à distância focal."
   ]
  },
  {
   "cell_type": "code",
   "execution_count": 19,
   "metadata": {
    "scrolled": false
   },
   "outputs": [
    {
     "data": {
      "text/plain": [
       "F3 (generic function with 1 method)"
      ]
     },
     "execution_count": 19,
     "metadata": {},
     "output_type": "execute_result"
    }
   ],
   "source": [
    "@eval F3(p_o, f) = $(Meta.parse(string(solve(1/f - 1/p_o - 1/p_i, p_i)[1])))"
   ]
  },
  {
   "cell_type": "markdown",
   "metadata": {},
   "source": [
    "Para construir o gráfico, devemos variar $p_o$ entre os intervalos $[0:9]~$ e $~[11:100]$ excluíndo $p_o = 10cm$ que de acordo com as propriedades de formação de imagem dos espelhos esféricos determina uma imagem imprópria."
   ]
  },
  {
   "cell_type": "code",
   "execution_count": 20,
   "metadata": {},
   "outputs": [
    {
     "data": {
      "image/svg+xml": [
       "<?xml version=\"1.0\" encoding=\"utf-8\"?>\n",
       "<svg xmlns=\"http://www.w3.org/2000/svg\" xmlns:xlink=\"http://www.w3.org/1999/xlink\" width=\"600\" height=\"400\" viewBox=\"0 0 2400 1600\">\n",
       "<defs>\n",
       "  <clipPath id=\"clip5200\">\n",
       "    <rect x=\"0\" y=\"0\" width=\"2400\" height=\"1600\"/>\n",
       "  </clipPath>\n",
       "</defs>\n",
       "<path clip-path=\"url(#clip5200)\" d=\"\n",
       "M0 1600 L2400 1600 L2400 0 L0 0  Z\n",
       "  \" fill=\"#ffffff\" fill-rule=\"evenodd\" fill-opacity=\"1\"/>\n",
       "<defs>\n",
       "  <clipPath id=\"clip5201\">\n",
       "    <rect x=\"480\" y=\"0\" width=\"1681\" height=\"1600\"/>\n",
       "  </clipPath>\n",
       "</defs>\n",
       "<path clip-path=\"url(#clip5200)\" d=\"\n",
       "M160.627 1487.28 L2352.76 1487.28 L2352.76 47.2441 L160.627 47.2441  Z\n",
       "  \" fill=\"#ffffff\" fill-rule=\"evenodd\" fill-opacity=\"1\"/>\n",
       "<defs>\n",
       "  <clipPath id=\"clip5202\">\n",
       "    <rect x=\"160\" y=\"47\" width=\"2193\" height=\"1441\"/>\n",
       "  </clipPath>\n",
       "</defs>\n",
       "<polyline clip-path=\"url(#clip5202)\" style=\"stroke:#000000; stroke-width:2; stroke-opacity:0.1; fill:none\" points=\"\n",
       "  222.668,1487.28 222.668,47.2441 \n",
       "  \"/>\n",
       "<polyline clip-path=\"url(#clip5202)\" style=\"stroke:#000000; stroke-width:2; stroke-opacity:0.1; fill:none\" points=\"\n",
       "  739.68,1487.28 739.68,47.2441 \n",
       "  \"/>\n",
       "<polyline clip-path=\"url(#clip5202)\" style=\"stroke:#000000; stroke-width:2; stroke-opacity:0.1; fill:none\" points=\"\n",
       "  1256.69,1487.28 1256.69,47.2441 \n",
       "  \"/>\n",
       "<polyline clip-path=\"url(#clip5202)\" style=\"stroke:#000000; stroke-width:2; stroke-opacity:0.1; fill:none\" points=\"\n",
       "  1773.7,1487.28 1773.7,47.2441 \n",
       "  \"/>\n",
       "<polyline clip-path=\"url(#clip5202)\" style=\"stroke:#000000; stroke-width:2; stroke-opacity:0.1; fill:none\" points=\"\n",
       "  2290.71,1487.28 2290.71,47.2441 \n",
       "  \"/>\n",
       "<polyline clip-path=\"url(#clip5202)\" style=\"stroke:#000000; stroke-width:2; stroke-opacity:0.1; fill:none\" points=\"\n",
       "  160.627,1446.53 2352.76,1446.53 \n",
       "  \"/>\n",
       "<polyline clip-path=\"url(#clip5202)\" style=\"stroke:#000000; stroke-width:2; stroke-opacity:0.1; fill:none\" points=\"\n",
       "  160.627,1378.6 2352.76,1378.6 \n",
       "  \"/>\n",
       "<polyline clip-path=\"url(#clip5202)\" style=\"stroke:#000000; stroke-width:2; stroke-opacity:0.1; fill:none\" points=\"\n",
       "  160.627,1310.67 2352.76,1310.67 \n",
       "  \"/>\n",
       "<polyline clip-path=\"url(#clip5202)\" style=\"stroke:#000000; stroke-width:2; stroke-opacity:0.1; fill:none\" points=\"\n",
       "  160.627,1242.75 2352.76,1242.75 \n",
       "  \"/>\n",
       "<polyline clip-path=\"url(#clip5202)\" style=\"stroke:#000000; stroke-width:2; stroke-opacity:0.1; fill:none\" points=\"\n",
       "  160.627,1174.82 2352.76,1174.82 \n",
       "  \"/>\n",
       "<polyline clip-path=\"url(#clip5202)\" style=\"stroke:#000000; stroke-width:2; stroke-opacity:0.1; fill:none\" points=\"\n",
       "  160.627,1106.9 2352.76,1106.9 \n",
       "  \"/>\n",
       "<polyline clip-path=\"url(#clip5202)\" style=\"stroke:#000000; stroke-width:2; stroke-opacity:0.1; fill:none\" points=\"\n",
       "  160.627,1038.97 2352.76,1038.97 \n",
       "  \"/>\n",
       "<polyline clip-path=\"url(#clip5202)\" style=\"stroke:#000000; stroke-width:2; stroke-opacity:0.1; fill:none\" points=\"\n",
       "  160.627,971.043 2352.76,971.043 \n",
       "  \"/>\n",
       "<polyline clip-path=\"url(#clip5202)\" style=\"stroke:#000000; stroke-width:2; stroke-opacity:0.1; fill:none\" points=\"\n",
       "  160.627,903.116 2352.76,903.116 \n",
       "  \"/>\n",
       "<polyline clip-path=\"url(#clip5202)\" style=\"stroke:#000000; stroke-width:2; stroke-opacity:0.1; fill:none\" points=\"\n",
       "  160.627,835.19 2352.76,835.19 \n",
       "  \"/>\n",
       "<polyline clip-path=\"url(#clip5202)\" style=\"stroke:#000000; stroke-width:2; stroke-opacity:0.1; fill:none\" points=\"\n",
       "  160.627,767.264 2352.76,767.264 \n",
       "  \"/>\n",
       "<polyline clip-path=\"url(#clip5202)\" style=\"stroke:#000000; stroke-width:2; stroke-opacity:0.1; fill:none\" points=\"\n",
       "  160.627,699.337 2352.76,699.337 \n",
       "  \"/>\n",
       "<polyline clip-path=\"url(#clip5202)\" style=\"stroke:#000000; stroke-width:2; stroke-opacity:0.1; fill:none\" points=\"\n",
       "  160.627,631.411 2352.76,631.411 \n",
       "  \"/>\n",
       "<polyline clip-path=\"url(#clip5202)\" style=\"stroke:#000000; stroke-width:2; stroke-opacity:0.1; fill:none\" points=\"\n",
       "  160.627,563.484 2352.76,563.484 \n",
       "  \"/>\n",
       "<polyline clip-path=\"url(#clip5202)\" style=\"stroke:#000000; stroke-width:2; stroke-opacity:0.1; fill:none\" points=\"\n",
       "  160.627,495.558 2352.76,495.558 \n",
       "  \"/>\n",
       "<polyline clip-path=\"url(#clip5202)\" style=\"stroke:#000000; stroke-width:2; stroke-opacity:0.1; fill:none\" points=\"\n",
       "  160.627,427.632 2352.76,427.632 \n",
       "  \"/>\n",
       "<polyline clip-path=\"url(#clip5202)\" style=\"stroke:#000000; stroke-width:2; stroke-opacity:0.1; fill:none\" points=\"\n",
       "  160.627,359.705 2352.76,359.705 \n",
       "  \"/>\n",
       "<polyline clip-path=\"url(#clip5202)\" style=\"stroke:#000000; stroke-width:2; stroke-opacity:0.1; fill:none\" points=\"\n",
       "  160.627,291.779 2352.76,291.779 \n",
       "  \"/>\n",
       "<polyline clip-path=\"url(#clip5202)\" style=\"stroke:#000000; stroke-width:2; stroke-opacity:0.1; fill:none\" points=\"\n",
       "  160.627,223.853 2352.76,223.853 \n",
       "  \"/>\n",
       "<polyline clip-path=\"url(#clip5202)\" style=\"stroke:#000000; stroke-width:2; stroke-opacity:0.1; fill:none\" points=\"\n",
       "  160.627,155.926 2352.76,155.926 \n",
       "  \"/>\n",
       "<polyline clip-path=\"url(#clip5202)\" style=\"stroke:#000000; stroke-width:2; stroke-opacity:0.1; fill:none\" points=\"\n",
       "  160.627,87.9999 2352.76,87.9999 \n",
       "  \"/>\n",
       "<polyline clip-path=\"url(#clip5200)\" style=\"stroke:#000000; stroke-width:4; stroke-opacity:1; fill:none\" points=\"\n",
       "  160.627,1487.28 2352.76,1487.28 \n",
       "  \"/>\n",
       "<polyline clip-path=\"url(#clip5200)\" style=\"stroke:#000000; stroke-width:4; stroke-opacity:1; fill:none\" points=\"\n",
       "  160.627,1487.28 160.627,47.2441 \n",
       "  \"/>\n",
       "<polyline clip-path=\"url(#clip5200)\" style=\"stroke:#000000; stroke-width:4; stroke-opacity:1; fill:none\" points=\"\n",
       "  222.668,1487.28 222.668,1465.68 \n",
       "  \"/>\n",
       "<polyline clip-path=\"url(#clip5200)\" style=\"stroke:#000000; stroke-width:4; stroke-opacity:1; fill:none\" points=\"\n",
       "  739.68,1487.28 739.68,1465.68 \n",
       "  \"/>\n",
       "<polyline clip-path=\"url(#clip5200)\" style=\"stroke:#000000; stroke-width:4; stroke-opacity:1; fill:none\" points=\"\n",
       "  1256.69,1487.28 1256.69,1465.68 \n",
       "  \"/>\n",
       "<polyline clip-path=\"url(#clip5200)\" style=\"stroke:#000000; stroke-width:4; stroke-opacity:1; fill:none\" points=\"\n",
       "  1773.7,1487.28 1773.7,1465.68 \n",
       "  \"/>\n",
       "<polyline clip-path=\"url(#clip5200)\" style=\"stroke:#000000; stroke-width:4; stroke-opacity:1; fill:none\" points=\"\n",
       "  2290.71,1487.28 2290.71,1465.68 \n",
       "  \"/>\n",
       "<polyline clip-path=\"url(#clip5200)\" style=\"stroke:#000000; stroke-width:4; stroke-opacity:1; fill:none\" points=\"\n",
       "  160.627,1446.53 193.509,1446.53 \n",
       "  \"/>\n",
       "<polyline clip-path=\"url(#clip5200)\" style=\"stroke:#000000; stroke-width:4; stroke-opacity:1; fill:none\" points=\"\n",
       "  160.627,1378.6 193.509,1378.6 \n",
       "  \"/>\n",
       "<polyline clip-path=\"url(#clip5200)\" style=\"stroke:#000000; stroke-width:4; stroke-opacity:1; fill:none\" points=\"\n",
       "  160.627,1310.67 193.509,1310.67 \n",
       "  \"/>\n",
       "<polyline clip-path=\"url(#clip5200)\" style=\"stroke:#000000; stroke-width:4; stroke-opacity:1; fill:none\" points=\"\n",
       "  160.627,1242.75 193.509,1242.75 \n",
       "  \"/>\n",
       "<polyline clip-path=\"url(#clip5200)\" style=\"stroke:#000000; stroke-width:4; stroke-opacity:1; fill:none\" points=\"\n",
       "  160.627,1174.82 193.509,1174.82 \n",
       "  \"/>\n",
       "<polyline clip-path=\"url(#clip5200)\" style=\"stroke:#000000; stroke-width:4; stroke-opacity:1; fill:none\" points=\"\n",
       "  160.627,1106.9 193.509,1106.9 \n",
       "  \"/>\n",
       "<polyline clip-path=\"url(#clip5200)\" style=\"stroke:#000000; stroke-width:4; stroke-opacity:1; fill:none\" points=\"\n",
       "  160.627,1038.97 193.509,1038.97 \n",
       "  \"/>\n",
       "<polyline clip-path=\"url(#clip5200)\" style=\"stroke:#000000; stroke-width:4; stroke-opacity:1; fill:none\" points=\"\n",
       "  160.627,971.043 193.509,971.043 \n",
       "  \"/>\n",
       "<polyline clip-path=\"url(#clip5200)\" style=\"stroke:#000000; stroke-width:4; stroke-opacity:1; fill:none\" points=\"\n",
       "  160.627,903.116 193.509,903.116 \n",
       "  \"/>\n",
       "<polyline clip-path=\"url(#clip5200)\" style=\"stroke:#000000; stroke-width:4; stroke-opacity:1; fill:none\" points=\"\n",
       "  160.627,835.19 193.509,835.19 \n",
       "  \"/>\n",
       "<polyline clip-path=\"url(#clip5200)\" style=\"stroke:#000000; stroke-width:4; stroke-opacity:1; fill:none\" points=\"\n",
       "  160.627,767.264 193.509,767.264 \n",
       "  \"/>\n",
       "<polyline clip-path=\"url(#clip5200)\" style=\"stroke:#000000; stroke-width:4; stroke-opacity:1; fill:none\" points=\"\n",
       "  160.627,699.337 193.509,699.337 \n",
       "  \"/>\n",
       "<polyline clip-path=\"url(#clip5200)\" style=\"stroke:#000000; stroke-width:4; stroke-opacity:1; fill:none\" points=\"\n",
       "  160.627,631.411 193.509,631.411 \n",
       "  \"/>\n",
       "<polyline clip-path=\"url(#clip5200)\" style=\"stroke:#000000; stroke-width:4; stroke-opacity:1; fill:none\" points=\"\n",
       "  160.627,563.484 193.509,563.484 \n",
       "  \"/>\n",
       "<polyline clip-path=\"url(#clip5200)\" style=\"stroke:#000000; stroke-width:4; stroke-opacity:1; fill:none\" points=\"\n",
       "  160.627,495.558 193.509,495.558 \n",
       "  \"/>\n",
       "<polyline clip-path=\"url(#clip5200)\" style=\"stroke:#000000; stroke-width:4; stroke-opacity:1; fill:none\" points=\"\n",
       "  160.627,427.632 193.509,427.632 \n",
       "  \"/>\n",
       "<polyline clip-path=\"url(#clip5200)\" style=\"stroke:#000000; stroke-width:4; stroke-opacity:1; fill:none\" points=\"\n",
       "  160.627,359.705 193.509,359.705 \n",
       "  \"/>\n",
       "<polyline clip-path=\"url(#clip5200)\" style=\"stroke:#000000; stroke-width:4; stroke-opacity:1; fill:none\" points=\"\n",
       "  160.627,291.779 193.509,291.779 \n",
       "  \"/>\n",
       "<polyline clip-path=\"url(#clip5200)\" style=\"stroke:#000000; stroke-width:4; stroke-opacity:1; fill:none\" points=\"\n",
       "  160.627,223.853 193.509,223.853 \n",
       "  \"/>\n",
       "<polyline clip-path=\"url(#clip5200)\" style=\"stroke:#000000; stroke-width:4; stroke-opacity:1; fill:none\" points=\"\n",
       "  160.627,155.926 193.509,155.926 \n",
       "  \"/>\n",
       "<polyline clip-path=\"url(#clip5200)\" style=\"stroke:#000000; stroke-width:4; stroke-opacity:1; fill:none\" points=\"\n",
       "  160.627,87.9999 193.509,87.9999 \n",
       "  \"/>\n",
       "<g clip-path=\"url(#clip5200)\">\n",
       "<text style=\"fill:#000000; fill-opacity:1; font-family:Arial,Helvetica Neue,Helvetica,sans-serif; font-size:48px; text-anchor:middle;\" transform=\"rotate(0, 222.668, 1541.28)\" x=\"222.668\" y=\"1541.28\">0</text>\n",
       "</g>\n",
       "<g clip-path=\"url(#clip5200)\">\n",
       "<text style=\"fill:#000000; fill-opacity:1; font-family:Arial,Helvetica Neue,Helvetica,sans-serif; font-size:48px; text-anchor:middle;\" transform=\"rotate(0, 739.68, 1541.28)\" x=\"739.68\" y=\"1541.28\">25</text>\n",
       "</g>\n",
       "<g clip-path=\"url(#clip5200)\">\n",
       "<text style=\"fill:#000000; fill-opacity:1; font-family:Arial,Helvetica Neue,Helvetica,sans-serif; font-size:48px; text-anchor:middle;\" transform=\"rotate(0, 1256.69, 1541.28)\" x=\"1256.69\" y=\"1541.28\">50</text>\n",
       "</g>\n",
       "<g clip-path=\"url(#clip5200)\">\n",
       "<text style=\"fill:#000000; fill-opacity:1; font-family:Arial,Helvetica Neue,Helvetica,sans-serif; font-size:48px; text-anchor:middle;\" transform=\"rotate(0, 1773.7, 1541.28)\" x=\"1773.7\" y=\"1541.28\">75</text>\n",
       "</g>\n",
       "<g clip-path=\"url(#clip5200)\">\n",
       "<text style=\"fill:#000000; fill-opacity:1; font-family:Arial,Helvetica Neue,Helvetica,sans-serif; font-size:48px; text-anchor:middle;\" transform=\"rotate(0, 2290.71, 1541.28)\" x=\"2290.71\" y=\"1541.28\">100</text>\n",
       "</g>\n",
       "<g clip-path=\"url(#clip5200)\">\n",
       "<text style=\"fill:#000000; fill-opacity:1; font-family:Arial,Helvetica Neue,Helvetica,sans-serif; font-size:48px; text-anchor:end;\" transform=\"rotate(0, 136.627, 1464.03)\" x=\"136.627\" y=\"1464.03\">-90</text>\n",
       "</g>\n",
       "<g clip-path=\"url(#clip5200)\">\n",
       "<text style=\"fill:#000000; fill-opacity:1; font-family:Arial,Helvetica Neue,Helvetica,sans-serif; font-size:48px; text-anchor:end;\" transform=\"rotate(0, 136.627, 1396.1)\" x=\"136.627\" y=\"1396.1\">-80</text>\n",
       "</g>\n",
       "<g clip-path=\"url(#clip5200)\">\n",
       "<text style=\"fill:#000000; fill-opacity:1; font-family:Arial,Helvetica Neue,Helvetica,sans-serif; font-size:48px; text-anchor:end;\" transform=\"rotate(0, 136.627, 1328.17)\" x=\"136.627\" y=\"1328.17\">-70</text>\n",
       "</g>\n",
       "<g clip-path=\"url(#clip5200)\">\n",
       "<text style=\"fill:#000000; fill-opacity:1; font-family:Arial,Helvetica Neue,Helvetica,sans-serif; font-size:48px; text-anchor:end;\" transform=\"rotate(0, 136.627, 1260.25)\" x=\"136.627\" y=\"1260.25\">-60</text>\n",
       "</g>\n",
       "<g clip-path=\"url(#clip5200)\">\n",
       "<text style=\"fill:#000000; fill-opacity:1; font-family:Arial,Helvetica Neue,Helvetica,sans-serif; font-size:48px; text-anchor:end;\" transform=\"rotate(0, 136.627, 1192.32)\" x=\"136.627\" y=\"1192.32\">-50</text>\n",
       "</g>\n",
       "<g clip-path=\"url(#clip5200)\">\n",
       "<text style=\"fill:#000000; fill-opacity:1; font-family:Arial,Helvetica Neue,Helvetica,sans-serif; font-size:48px; text-anchor:end;\" transform=\"rotate(0, 136.627, 1124.4)\" x=\"136.627\" y=\"1124.4\">-40</text>\n",
       "</g>\n",
       "<g clip-path=\"url(#clip5200)\">\n",
       "<text style=\"fill:#000000; fill-opacity:1; font-family:Arial,Helvetica Neue,Helvetica,sans-serif; font-size:48px; text-anchor:end;\" transform=\"rotate(0, 136.627, 1056.47)\" x=\"136.627\" y=\"1056.47\">-30</text>\n",
       "</g>\n",
       "<g clip-path=\"url(#clip5200)\">\n",
       "<text style=\"fill:#000000; fill-opacity:1; font-family:Arial,Helvetica Neue,Helvetica,sans-serif; font-size:48px; text-anchor:end;\" transform=\"rotate(0, 136.627, 988.543)\" x=\"136.627\" y=\"988.543\">-20</text>\n",
       "</g>\n",
       "<g clip-path=\"url(#clip5200)\">\n",
       "<text style=\"fill:#000000; fill-opacity:1; font-family:Arial,Helvetica Neue,Helvetica,sans-serif; font-size:48px; text-anchor:end;\" transform=\"rotate(0, 136.627, 920.616)\" x=\"136.627\" y=\"920.616\">-10</text>\n",
       "</g>\n",
       "<g clip-path=\"url(#clip5200)\">\n",
       "<text style=\"fill:#000000; fill-opacity:1; font-family:Arial,Helvetica Neue,Helvetica,sans-serif; font-size:48px; text-anchor:end;\" transform=\"rotate(0, 136.627, 852.69)\" x=\"136.627\" y=\"852.69\">0</text>\n",
       "</g>\n",
       "<g clip-path=\"url(#clip5200)\">\n",
       "<text style=\"fill:#000000; fill-opacity:1; font-family:Arial,Helvetica Neue,Helvetica,sans-serif; font-size:48px; text-anchor:end;\" transform=\"rotate(0, 136.627, 784.764)\" x=\"136.627\" y=\"784.764\">10</text>\n",
       "</g>\n",
       "<g clip-path=\"url(#clip5200)\">\n",
       "<text style=\"fill:#000000; fill-opacity:1; font-family:Arial,Helvetica Neue,Helvetica,sans-serif; font-size:48px; text-anchor:end;\" transform=\"rotate(0, 136.627, 716.837)\" x=\"136.627\" y=\"716.837\">20</text>\n",
       "</g>\n",
       "<g clip-path=\"url(#clip5200)\">\n",
       "<text style=\"fill:#000000; fill-opacity:1; font-family:Arial,Helvetica Neue,Helvetica,sans-serif; font-size:48px; text-anchor:end;\" transform=\"rotate(0, 136.627, 648.911)\" x=\"136.627\" y=\"648.911\">30</text>\n",
       "</g>\n",
       "<g clip-path=\"url(#clip5200)\">\n",
       "<text style=\"fill:#000000; fill-opacity:1; font-family:Arial,Helvetica Neue,Helvetica,sans-serif; font-size:48px; text-anchor:end;\" transform=\"rotate(0, 136.627, 580.984)\" x=\"136.627\" y=\"580.984\">40</text>\n",
       "</g>\n",
       "<g clip-path=\"url(#clip5200)\">\n",
       "<text style=\"fill:#000000; fill-opacity:1; font-family:Arial,Helvetica Neue,Helvetica,sans-serif; font-size:48px; text-anchor:end;\" transform=\"rotate(0, 136.627, 513.058)\" x=\"136.627\" y=\"513.058\">50</text>\n",
       "</g>\n",
       "<g clip-path=\"url(#clip5200)\">\n",
       "<text style=\"fill:#000000; fill-opacity:1; font-family:Arial,Helvetica Neue,Helvetica,sans-serif; font-size:48px; text-anchor:end;\" transform=\"rotate(0, 136.627, 445.132)\" x=\"136.627\" y=\"445.132\">60</text>\n",
       "</g>\n",
       "<g clip-path=\"url(#clip5200)\">\n",
       "<text style=\"fill:#000000; fill-opacity:1; font-family:Arial,Helvetica Neue,Helvetica,sans-serif; font-size:48px; text-anchor:end;\" transform=\"rotate(0, 136.627, 377.205)\" x=\"136.627\" y=\"377.205\">70</text>\n",
       "</g>\n",
       "<g clip-path=\"url(#clip5200)\">\n",
       "<text style=\"fill:#000000; fill-opacity:1; font-family:Arial,Helvetica Neue,Helvetica,sans-serif; font-size:48px; text-anchor:end;\" transform=\"rotate(0, 136.627, 309.279)\" x=\"136.627\" y=\"309.279\">80</text>\n",
       "</g>\n",
       "<g clip-path=\"url(#clip5200)\">\n",
       "<text style=\"fill:#000000; fill-opacity:1; font-family:Arial,Helvetica Neue,Helvetica,sans-serif; font-size:48px; text-anchor:end;\" transform=\"rotate(0, 136.627, 241.353)\" x=\"136.627\" y=\"241.353\">90</text>\n",
       "</g>\n",
       "<g clip-path=\"url(#clip5200)\">\n",
       "<text style=\"fill:#000000; fill-opacity:1; font-family:Arial,Helvetica Neue,Helvetica,sans-serif; font-size:48px; text-anchor:end;\" transform=\"rotate(0, 136.627, 173.426)\" x=\"136.627\" y=\"173.426\">100</text>\n",
       "</g>\n",
       "<g clip-path=\"url(#clip5200)\">\n",
       "<text style=\"fill:#000000; fill-opacity:1; font-family:Arial,Helvetica Neue,Helvetica,sans-serif; font-size:48px; text-anchor:end;\" transform=\"rotate(0, 136.627, 105.5)\" x=\"136.627\" y=\"105.5\">110</text>\n",
       "</g>\n",
       "<polyline clip-path=\"url(#clip5202)\" style=\"stroke:#009af9; stroke-width:4; stroke-opacity:1; fill:none\" points=\"\n",
       "  450.153,87.9999 470.834,427.632 491.514,540.842 512.195,597.448 532.875,631.411 553.556,654.053 574.236,670.226 594.917,682.356 615.597,691.79 636.278,699.337 \n",
       "  656.958,705.512 677.638,710.658 698.319,715.013 718.999,718.745 739.68,721.979 760.36,724.81 781.041,727.307 801.721,729.527 822.402,731.513 843.082,733.3 \n",
       "  863.763,734.918 884.443,736.388 905.124,737.73 925.804,738.961 946.484,740.093 967.165,741.138 987.845,742.106 1008.53,743.004 1029.21,743.841 1049.89,744.621 \n",
       "  1070.57,745.352 1091.25,746.037 1111.93,746.68 1132.61,747.285 1153.29,747.856 1173.97,748.395 1194.65,748.905 1215.33,749.388 1236.01,749.847 1256.69,750.282 \n",
       "  1277.37,750.696 1298.05,751.091 1318.73,751.467 1339.41,751.826 1360.09,752.169 1380.77,752.497 1401.45,752.811 1422.14,753.112 1442.82,753.401 1463.5,753.678 \n",
       "  1484.18,753.945 1504.86,754.201 1525.54,754.447 1546.22,754.685 1566.9,754.913 1587.58,755.134 1608.26,755.347 1628.94,755.552 1649.62,755.751 1670.3,755.943 \n",
       "  1690.98,756.128 1711.66,756.308 1732.34,756.482 1753.02,756.65 1773.7,756.813 1794.38,756.972 1815.06,757.125 1835.74,757.274 1856.42,757.419 1877.11,757.56 \n",
       "  1897.79,757.696 1918.47,757.829 1939.15,757.959 1959.83,758.084 1980.51,758.207 2001.19,758.326 2021.87,758.442 2042.55,758.555 2063.23,758.665 2083.91,758.773 \n",
       "  2104.59,758.878 2125.27,758.98 2145.95,759.08 2166.63,759.177 2187.31,759.272 2207.99,759.365 2228.67,759.456 2249.35,759.545 2270.03,759.631 2290.71,759.716 \n",
       "  \n",
       "  \"/>\n",
       "<polyline clip-path=\"url(#clip5202)\" style=\"stroke:#e26f46; stroke-width:4; stroke-opacity:1; fill:none\" points=\"\n",
       "  222.668,835.19 243.349,842.737 264.029,852.172 284.71,864.301 305.39,880.474 326.071,903.116 346.751,937.08 367.432,993.685 388.112,1106.9 408.792,1446.53 \n",
       "  \n",
       "  \"/>\n",
       "<polyline clip-path=\"url(#clip5202)\" style=\"stroke:#3da44d; stroke-width:4; stroke-opacity:1; fill:none\" points=\"\n",
       "  222.668,767.264 243.349,767.264 264.029,767.264 284.71,767.264 305.39,767.264 326.071,767.264 346.751,767.264 367.432,767.264 388.112,767.264 408.792,767.264 \n",
       "  429.473,767.264 450.153,767.264 470.834,767.264 491.514,767.264 512.195,767.264 532.875,767.264 553.556,767.264 574.236,767.264 594.917,767.264 615.597,767.264 \n",
       "  636.278,767.264 656.958,767.264 677.638,767.264 698.319,767.264 718.999,767.264 739.68,767.264 760.36,767.264 781.041,767.264 801.721,767.264 822.402,767.264 \n",
       "  843.082,767.264 863.763,767.264 884.443,767.264 905.124,767.264 925.804,767.264 946.484,767.264 967.165,767.264 987.845,767.264 1008.53,767.264 1029.21,767.264 \n",
       "  1049.89,767.264 1070.57,767.264 1091.25,767.264 1111.93,767.264 1132.61,767.264 1153.29,767.264 1173.97,767.264 1194.65,767.264 1215.33,767.264 1236.01,767.264 \n",
       "  1256.69,767.264 1277.37,767.264 1298.05,767.264 1318.73,767.264 1339.41,767.264 1360.09,767.264 1380.77,767.264 1401.45,767.264 1422.14,767.264 1442.82,767.264 \n",
       "  1463.5,767.264 1484.18,767.264 1504.86,767.264 1525.54,767.264 1546.22,767.264 1566.9,767.264 1587.58,767.264 1608.26,767.264 1628.94,767.264 1649.62,767.264 \n",
       "  1670.3,767.264 1690.98,767.264 1711.66,767.264 1732.34,767.264 1753.02,767.264 1773.7,767.264 1794.38,767.264 1815.06,767.264 1835.74,767.264 1856.42,767.264 \n",
       "  1877.11,767.264 1897.79,767.264 1918.47,767.264 1939.15,767.264 1959.83,767.264 1980.51,767.264 2001.19,767.264 2021.87,767.264 2042.55,767.264 2063.23,767.264 \n",
       "  2083.91,767.264 2104.59,767.264 2125.27,767.264 2145.95,767.264 2166.63,767.264 2187.31,767.264 2207.99,767.264 2228.67,767.264 2249.35,767.264 2270.03,767.264 \n",
       "  2290.71,767.264 \n",
       "  \"/>\n",
       "<path clip-path=\"url(#clip5200)\" d=\"\n",
       "M1727.79 372.684 L2280.76 372.684 L2280.76 130.764 L1727.79 130.764  Z\n",
       "  \" fill=\"#ffffff\" fill-rule=\"evenodd\" fill-opacity=\"1\"/>\n",
       "<polyline clip-path=\"url(#clip5200)\" style=\"stroke:#000000; stroke-width:4; stroke-opacity:1; fill:none\" points=\"\n",
       "  1727.79,372.684 2280.76,372.684 2280.76,130.764 1727.79,130.764 1727.79,372.684 \n",
       "  \"/>\n",
       "<polyline clip-path=\"url(#clip5200)\" style=\"stroke:#009af9; stroke-width:4; stroke-opacity:1; fill:none\" points=\"\n",
       "  1751.79,191.244 1895.79,191.244 \n",
       "  \"/>\n",
       "<g clip-path=\"url(#clip5200)\">\n",
       "<text style=\"fill:#000000; fill-opacity:1; font-family:Arial,Helvetica Neue,Helvetica,sans-serif; font-size:48px; text-anchor:start;\" transform=\"rotate(0, 1919.79, 208.744)\" x=\"1919.79\" y=\"208.744\">Po</text>\n",
       "</g>\n",
       "<polyline clip-path=\"url(#clip5200)\" style=\"stroke:#e26f46; stroke-width:4; stroke-opacity:1; fill:none\" points=\"\n",
       "  1751.79,251.724 1895.79,251.724 \n",
       "  \"/>\n",
       "<g clip-path=\"url(#clip5200)\">\n",
       "<text style=\"fill:#000000; fill-opacity:1; font-family:Arial,Helvetica Neue,Helvetica,sans-serif; font-size:48px; text-anchor:start;\" transform=\"rotate(0, 1919.79, 269.224)\" x=\"1919.79\" y=\"269.224\">Po</text>\n",
       "</g>\n",
       "<polyline clip-path=\"url(#clip5200)\" style=\"stroke:#3da44d; stroke-width:4; stroke-opacity:1; fill:none\" points=\"\n",
       "  1751.79,312.204 1895.79,312.204 \n",
       "  \"/>\n",
       "<g clip-path=\"url(#clip5200)\">\n",
       "<text style=\"fill:#000000; fill-opacity:1; font-family:Arial,Helvetica Neue,Helvetica,sans-serif; font-size:48px; text-anchor:start;\" transform=\"rotate(0, 1919.79, 329.704)\" x=\"1919.79\" y=\"329.704\">Distância focal</text>\n",
       "</g>\n",
       "</svg>\n"
      ]
     },
     "execution_count": 20,
     "metadata": {},
     "output_type": "execute_result"
    }
   ],
   "source": [
    "plot(11:100, F3.(11:100, 10), label = \"Po\")\n",
    "plot!(0:9, F3.(0:9, 10), label = \"Po\")\n",
    "plot!(0:100, fill(10, length(0:100)), label = \"Distância focal\", yticks=(-100:10:200))"
   ]
  },
  {
   "cell_type": "markdown",
   "metadata": {},
   "source": [
    "**Polinômios**\n",
    "\n",
    "A função `polyroots()` permite calcular polinômios simbolicamente e retorna um dicionário contendo as soluções do tipo `Dict{Any,Any}`. Sintaxe:\n",
    "```julia\n",
    "polyroots(equação, var) \n",
    "```\n",
    "Sendo:\n",
    "* **equação**: equação algébrica expressa como uma expressão simbólica ou função genérica. Não funciona com função anônima;\n",
    "* **var** : variável da expressão algébrica.\n",
    "\n",
    "A função `polyroots()`retorna um dicionário contendo os valores das raizes e multiplicidade ambos do tipo `Any`."
   ]
  },
  {
   "cell_type": "code",
   "execution_count": 21,
   "metadata": {
    "scrolled": false
   },
   "outputs": [
    {
     "data": {
      "text/plain": [
       "(x,)"
      ]
     },
     "execution_count": 21,
     "metadata": {},
     "output_type": "execute_result"
    }
   ],
   "source": [
    "using SymPy\n",
    "@syms x"
   ]
  },
  {
   "cell_type": "code",
   "execution_count": 22,
   "metadata": {
    "scrolled": true
   },
   "outputs": [
    {
     "ename": "UndefVarError",
     "evalue": "UndefVarError: polyroots not defined",
     "output_type": "error",
     "traceback": [
      "UndefVarError: polyroots not defined",
      "",
      "Stacktrace:",
      " [1] top-level scope at In[22]:1"
     ]
    }
   ],
   "source": [
    "xp = polyroots(x^4 - x^2, x)"
   ]
  },
  {
   "cell_type": "code",
   "execution_count": 23,
   "metadata": {},
   "outputs": [
    {
     "name": "stdout",
     "output_type": "stream",
     "text": [
      "search: \u001b[0m\u001b[1mS\u001b[22m\u001b[0m\u001b[1my\u001b[22m\u001b[0m\u001b[1mm\u001b[22m\u001b[0m\u001b[1mP\u001b[22m\u001b[0m\u001b[1my\u001b[22m \u001b[0m\u001b[1ms\u001b[22m\u001b[0m\u001b[1my\u001b[22m\u001b[0m\u001b[1mm\u001b[22m\u001b[0m\u001b[1mp\u001b[22m\u001b[0m\u001b[1my\u001b[22m \u001b[0m\u001b[1ms\u001b[22m\u001b[0m\u001b[1my\u001b[22m\u001b[0m\u001b[1mm\u001b[22m\u001b[0m\u001b[1mp\u001b[22m\u001b[0m\u001b[1my\u001b[22m_plotting \u001b[0m\u001b[1ms\u001b[22m\u001b[0m\u001b[1my\u001b[22m\u001b[0m\u001b[1mm\u001b[22m\u001b[0m\u001b[1mp\u001b[22mif\u001b[0m\u001b[1my\u001b[22m \u001b[0m\u001b[1mS\u001b[22m\u001b[0m\u001b[1my\u001b[22m\u001b[0m\u001b[1mm\u001b[22m\u001b[0m\u001b[1mP\u001b[22mermutation \u001b[0m\u001b[1mS\u001b[22m\u001b[0m\u001b[1my\u001b[22m\u001b[0m\u001b[1mm\u001b[22m\u001b[0m\u001b[1mP\u001b[22mermutationGroup\n",
      "\n"
     ]
    },
    {
     "data": {
      "text/latex": [
       "\\texttt{SymPy} package to interface with Python's \\href{http://www.sympy.org}{SymPy library} through \\texttt{PyCall}.\n",
       "\n",
       "The basic idea is that a new type – \\texttt{Sym} – is made to hold symbolic objects.  For this type, the basic functions from SymPy and appropriate functions of \\texttt{Julia} are overloaded for \\texttt{Sym} objects so that the expressions are treated symbolically and not evaluated immediately. Instances of this type are created by the constructor \\texttt{Sym}, the function \\texttt{symbols} or the macro \\texttt{@vars}.\n",
       "\n",
       "On loading, a priviledged set of the functions from the \\texttt{sympy} module are defined as generic functions with their first argument narrowed to symbolic types. Others may be accessed by qualification, as in \\texttt{sympy.trigsimp}. Calling \\texttt{import\\_from(sympy)} will import the rest. SymPy methods are called through Python's dot-call syntax.  To find documentation on SymPy functions and methods, one should refer to SymPy's \\href{http://docs.sympy.org/latest/index.html}{website}.\n",
       "\n",
       "Plotting is provided through the \\texttt{Plots} interface. For details, see the help page for \\texttt{sympy\\_plotting}.\n",
       "\n",
       "The package tutorial provides many examples. This can be read on \\href{http://nbviewer.ipython.org/github/JuliaPy/SymPy.jl/blob/master/examples/tutorial.ipynb}{GitHub}.\n",
       "\n"
      ],
      "text/markdown": [
       "`SymPy` package to interface with Python's [SymPy library](http://www.sympy.org) through `PyCall`.\n",
       "\n",
       "The basic idea is that a new type – `Sym` – is made to hold symbolic objects.  For this type, the basic functions from SymPy and appropriate functions of `Julia` are overloaded for `Sym` objects so that the expressions are treated symbolically and not evaluated immediately. Instances of this type are created by the constructor `Sym`, the function `symbols` or the macro `@vars`.\n",
       "\n",
       "On loading, a priviledged set of the functions from the `sympy` module are defined as generic functions with their first argument narrowed to symbolic types. Others may be accessed by qualification, as in `sympy.trigsimp`. Calling `import_from(sympy)` will import the rest. SymPy methods are called through Python's dot-call syntax.  To find documentation on SymPy functions and methods, one should refer to SymPy's [website](http://docs.sympy.org/latest/index.html).\n",
       "\n",
       "Plotting is provided through the `Plots` interface. For details, see the help page for `sympy_plotting`.\n",
       "\n",
       "The package tutorial provides many examples. This can be read on [GitHub](http://nbviewer.ipython.org/github/JuliaPy/SymPy.jl/blob/master/examples/tutorial.ipynb).\n"
      ],
      "text/plain": [
       "  \u001b[36mSymPy\u001b[39m package to interface with Python's SymPy library\n",
       "  (http://www.sympy.org) through \u001b[36mPyCall\u001b[39m.\n",
       "\n",
       "  The basic idea is that a new type – \u001b[36mSym\u001b[39m – is made to hold symbolic objects.\n",
       "  For this type, the basic functions from SymPy and appropriate functions of\n",
       "  \u001b[36mJulia\u001b[39m are overloaded for \u001b[36mSym\u001b[39m objects so that the expressions are treated\n",
       "  symbolically and not evaluated immediately. Instances of this type are\n",
       "  created by the constructor \u001b[36mSym\u001b[39m, the function \u001b[36msymbols\u001b[39m or the macro \u001b[36m@vars\u001b[39m.\n",
       "\n",
       "  On loading, a priviledged set of the functions from the \u001b[36msympy\u001b[39m module are\n",
       "  defined as generic functions with their first argument narrowed to symbolic\n",
       "  types. Others may be accessed by qualification, as in \u001b[36msympy.trigsimp\u001b[39m.\n",
       "  Calling \u001b[36mimport_from(sympy)\u001b[39m will import the rest. SymPy methods are called\n",
       "  through Python's dot-call syntax. To find documentation on SymPy functions\n",
       "  and methods, one should refer to SymPy's website\n",
       "  (http://docs.sympy.org/latest/index.html).\n",
       "\n",
       "  Plotting is provided through the \u001b[36mPlots\u001b[39m interface. For details, see the help\n",
       "  page for \u001b[36msympy_plotting\u001b[39m.\n",
       "\n",
       "  The package tutorial provides many examples. This can be read on GitHub\n",
       "  (http://nbviewer.ipython.org/github/JuliaPy/SymPy.jl/blob/master/examples/tutorial.ipynb)."
      ]
     },
     "execution_count": 23,
     "metadata": {},
     "output_type": "execute_result"
    }
   ],
   "source": [
    "?SymPy"
   ]
  },
  {
   "cell_type": "code",
   "execution_count": 24,
   "metadata": {
    "scrolled": false
   },
   "outputs": [
    {
     "data": {
      "text/plain": [
       "Dict{Any,Any} with 2 entries:\n",
       "  -b/(2*a) - sqrt(-4*a*c + b^2)/(2*a) => 1\n",
       "  -b/(2*a) + sqrt(-4*a*c + b^2)/(2*a) => 1"
      ]
     },
     "execution_count": 24,
     "metadata": {},
     "output_type": "execute_result"
    }
   ],
   "source": [
    "# Fórmula de Bhaskara\n",
    "@syms a b c\n",
    "roots(a*x^2 + b*x + c, x)"
   ]
  },
  {
   "cell_type": "markdown",
   "metadata": {},
   "source": [
    "### SOLUÇÃO NUMÉRICA"
   ]
  },
  {
   "cell_type": "markdown",
   "metadata": {},
   "source": [
    "Exemplo: Determinar numericamente as raízes da função $f(x) =  x\\cdot cos(x)$ no intervalo $[0, 20]$."
   ]
  },
  {
   "cell_type": "code",
   "execution_count": 25,
   "metadata": {},
   "outputs": [
    {
     "data": {
      "text/plain": [
       "f2 (generic function with 1 method)"
      ]
     },
     "execution_count": 25,
     "metadata": {},
     "output_type": "execute_result"
    }
   ],
   "source": [
    "# função genérica \n",
    "f2(x) =  x*cos(x) "
   ]
  },
  {
   "cell_type": "markdown",
   "metadata": {},
   "source": [
    "**Gráfico**"
   ]
  },
  {
   "cell_type": "code",
   "execution_count": 26,
   "metadata": {},
   "outputs": [
    {
     "data": {
      "text/plain": [
       "Plots.GRBackend()"
      ]
     },
     "execution_count": 26,
     "metadata": {},
     "output_type": "execute_result"
    }
   ],
   "source": [
    "using Plots\n",
    "gr()"
   ]
  },
  {
   "cell_type": "code",
   "execution_count": 27,
   "metadata": {
    "scrolled": false
   },
   "outputs": [
    {
     "data": {
      "image/svg+xml": [
       "<?xml version=\"1.0\" encoding=\"utf-8\"?>\n",
       "<svg xmlns=\"http://www.w3.org/2000/svg\" xmlns:xlink=\"http://www.w3.org/1999/xlink\" width=\"600\" height=\"400\" viewBox=\"0 0 2400 1600\">\n",
       "<defs>\n",
       "  <clipPath id=\"clip5600\">\n",
       "    <rect x=\"0\" y=\"0\" width=\"2400\" height=\"1600\"/>\n",
       "  </clipPath>\n",
       "</defs>\n",
       "<path clip-path=\"url(#clip5600)\" d=\"\n",
       "M0 1600 L2400 1600 L2400 0 L0 0  Z\n",
       "  \" fill=\"#ffffff\" fill-rule=\"evenodd\" fill-opacity=\"1\"/>\n",
       "<defs>\n",
       "  <clipPath id=\"clip5601\">\n",
       "    <rect x=\"480\" y=\"0\" width=\"1681\" height=\"1600\"/>\n",
       "  </clipPath>\n",
       "</defs>\n",
       "<path clip-path=\"url(#clip5600)\" d=\"\n",
       "M230.483 1425.62 L2352.76 1425.62 L2352.76 47.2441 L230.483 47.2441  Z\n",
       "  \" fill=\"#ffffff\" fill-rule=\"evenodd\" fill-opacity=\"1\"/>\n",
       "<defs>\n",
       "  <clipPath id=\"clip5602\">\n",
       "    <rect x=\"230\" y=\"47\" width=\"2123\" height=\"1379\"/>\n",
       "  </clipPath>\n",
       "</defs>\n",
       "<polyline clip-path=\"url(#clip5602)\" style=\"stroke:#000000; stroke-width:2; stroke-opacity:0.1; fill:none\" points=\"\n",
       "  290.547,1425.62 290.547,47.2441 \n",
       "  \"/>\n",
       "<polyline clip-path=\"url(#clip5602)\" style=\"stroke:#000000; stroke-width:2; stroke-opacity:0.1; fill:none\" points=\"\n",
       "  390.655,1425.62 390.655,47.2441 \n",
       "  \"/>\n",
       "<polyline clip-path=\"url(#clip5602)\" style=\"stroke:#000000; stroke-width:2; stroke-opacity:0.1; fill:none\" points=\"\n",
       "  490.762,1425.62 490.762,47.2441 \n",
       "  \"/>\n",
       "<polyline clip-path=\"url(#clip5602)\" style=\"stroke:#000000; stroke-width:2; stroke-opacity:0.1; fill:none\" points=\"\n",
       "  590.869,1425.62 590.869,47.2441 \n",
       "  \"/>\n",
       "<polyline clip-path=\"url(#clip5602)\" style=\"stroke:#000000; stroke-width:2; stroke-opacity:0.1; fill:none\" points=\"\n",
       "  690.976,1425.62 690.976,47.2441 \n",
       "  \"/>\n",
       "<polyline clip-path=\"url(#clip5602)\" style=\"stroke:#000000; stroke-width:2; stroke-opacity:0.1; fill:none\" points=\"\n",
       "  791.083,1425.62 791.083,47.2441 \n",
       "  \"/>\n",
       "<polyline clip-path=\"url(#clip5602)\" style=\"stroke:#000000; stroke-width:2; stroke-opacity:0.1; fill:none\" points=\"\n",
       "  891.191,1425.62 891.191,47.2441 \n",
       "  \"/>\n",
       "<polyline clip-path=\"url(#clip5602)\" style=\"stroke:#000000; stroke-width:2; stroke-opacity:0.1; fill:none\" points=\"\n",
       "  991.298,1425.62 991.298,47.2441 \n",
       "  \"/>\n",
       "<polyline clip-path=\"url(#clip5602)\" style=\"stroke:#000000; stroke-width:2; stroke-opacity:0.1; fill:none\" points=\"\n",
       "  1091.41,1425.62 1091.41,47.2441 \n",
       "  \"/>\n",
       "<polyline clip-path=\"url(#clip5602)\" style=\"stroke:#000000; stroke-width:2; stroke-opacity:0.1; fill:none\" points=\"\n",
       "  1191.51,1425.62 1191.51,47.2441 \n",
       "  \"/>\n",
       "<polyline clip-path=\"url(#clip5602)\" style=\"stroke:#000000; stroke-width:2; stroke-opacity:0.1; fill:none\" points=\"\n",
       "  1291.62,1425.62 1291.62,47.2441 \n",
       "  \"/>\n",
       "<polyline clip-path=\"url(#clip5602)\" style=\"stroke:#000000; stroke-width:2; stroke-opacity:0.1; fill:none\" points=\"\n",
       "  1391.73,1425.62 1391.73,47.2441 \n",
       "  \"/>\n",
       "<polyline clip-path=\"url(#clip5602)\" style=\"stroke:#000000; stroke-width:2; stroke-opacity:0.1; fill:none\" points=\"\n",
       "  1491.83,1425.62 1491.83,47.2441 \n",
       "  \"/>\n",
       "<polyline clip-path=\"url(#clip5602)\" style=\"stroke:#000000; stroke-width:2; stroke-opacity:0.1; fill:none\" points=\"\n",
       "  1591.94,1425.62 1591.94,47.2441 \n",
       "  \"/>\n",
       "<polyline clip-path=\"url(#clip5602)\" style=\"stroke:#000000; stroke-width:2; stroke-opacity:0.1; fill:none\" points=\"\n",
       "  1692.05,1425.62 1692.05,47.2441 \n",
       "  \"/>\n",
       "<polyline clip-path=\"url(#clip5602)\" style=\"stroke:#000000; stroke-width:2; stroke-opacity:0.1; fill:none\" points=\"\n",
       "  1792.16,1425.62 1792.16,47.2441 \n",
       "  \"/>\n",
       "<polyline clip-path=\"url(#clip5602)\" style=\"stroke:#000000; stroke-width:2; stroke-opacity:0.1; fill:none\" points=\"\n",
       "  1892.26,1425.62 1892.26,47.2441 \n",
       "  \"/>\n",
       "<polyline clip-path=\"url(#clip5602)\" style=\"stroke:#000000; stroke-width:2; stroke-opacity:0.1; fill:none\" points=\"\n",
       "  1992.37,1425.62 1992.37,47.2441 \n",
       "  \"/>\n",
       "<polyline clip-path=\"url(#clip5602)\" style=\"stroke:#000000; stroke-width:2; stroke-opacity:0.1; fill:none\" points=\"\n",
       "  2092.48,1425.62 2092.48,47.2441 \n",
       "  \"/>\n",
       "<polyline clip-path=\"url(#clip5602)\" style=\"stroke:#000000; stroke-width:2; stroke-opacity:0.1; fill:none\" points=\"\n",
       "  2192.58,1425.62 2192.58,47.2441 \n",
       "  \"/>\n",
       "<polyline clip-path=\"url(#clip5602)\" style=\"stroke:#000000; stroke-width:2; stroke-opacity:0.1; fill:none\" points=\"\n",
       "  2292.69,1425.62 2292.69,47.2441 \n",
       "  \"/>\n",
       "<polyline clip-path=\"url(#clip5602)\" style=\"stroke:#000000; stroke-width:2; stroke-opacity:0.1; fill:none\" points=\"\n",
       "  230.483,1359.06 2352.76,1359.06 \n",
       "  \"/>\n",
       "<polyline clip-path=\"url(#clip5602)\" style=\"stroke:#000000; stroke-width:2; stroke-opacity:0.1; fill:none\" points=\"\n",
       "  230.483,1171.2 2352.76,1171.2 \n",
       "  \"/>\n",
       "<polyline clip-path=\"url(#clip5602)\" style=\"stroke:#000000; stroke-width:2; stroke-opacity:0.1; fill:none\" points=\"\n",
       "  230.483,983.336 2352.76,983.336 \n",
       "  \"/>\n",
       "<polyline clip-path=\"url(#clip5602)\" style=\"stroke:#000000; stroke-width:2; stroke-opacity:0.1; fill:none\" points=\"\n",
       "  230.483,795.474 2352.76,795.474 \n",
       "  \"/>\n",
       "<polyline clip-path=\"url(#clip5602)\" style=\"stroke:#000000; stroke-width:2; stroke-opacity:0.1; fill:none\" points=\"\n",
       "  230.483,607.611 2352.76,607.611 \n",
       "  \"/>\n",
       "<polyline clip-path=\"url(#clip5602)\" style=\"stroke:#000000; stroke-width:2; stroke-opacity:0.1; fill:none\" points=\"\n",
       "  230.483,419.748 2352.76,419.748 \n",
       "  \"/>\n",
       "<polyline clip-path=\"url(#clip5602)\" style=\"stroke:#000000; stroke-width:2; stroke-opacity:0.1; fill:none\" points=\"\n",
       "  230.483,231.885 2352.76,231.885 \n",
       "  \"/>\n",
       "<polyline clip-path=\"url(#clip5600)\" style=\"stroke:#000000; stroke-width:4; stroke-opacity:1; fill:none\" points=\"\n",
       "  230.483,1425.62 2352.76,1425.62 \n",
       "  \"/>\n",
       "<polyline clip-path=\"url(#clip5600)\" style=\"stroke:#000000; stroke-width:4; stroke-opacity:1; fill:none\" points=\"\n",
       "  230.483,1425.62 230.483,47.2441 \n",
       "  \"/>\n",
       "<polyline clip-path=\"url(#clip5600)\" style=\"stroke:#000000; stroke-width:4; stroke-opacity:1; fill:none\" points=\"\n",
       "  290.547,1425.62 290.547,1404.94 \n",
       "  \"/>\n",
       "<polyline clip-path=\"url(#clip5600)\" style=\"stroke:#000000; stroke-width:4; stroke-opacity:1; fill:none\" points=\"\n",
       "  390.655,1425.62 390.655,1404.94 \n",
       "  \"/>\n",
       "<polyline clip-path=\"url(#clip5600)\" style=\"stroke:#000000; stroke-width:4; stroke-opacity:1; fill:none\" points=\"\n",
       "  490.762,1425.62 490.762,1404.94 \n",
       "  \"/>\n",
       "<polyline clip-path=\"url(#clip5600)\" style=\"stroke:#000000; stroke-width:4; stroke-opacity:1; fill:none\" points=\"\n",
       "  590.869,1425.62 590.869,1404.94 \n",
       "  \"/>\n",
       "<polyline clip-path=\"url(#clip5600)\" style=\"stroke:#000000; stroke-width:4; stroke-opacity:1; fill:none\" points=\"\n",
       "  690.976,1425.62 690.976,1404.94 \n",
       "  \"/>\n",
       "<polyline clip-path=\"url(#clip5600)\" style=\"stroke:#000000; stroke-width:4; stroke-opacity:1; fill:none\" points=\"\n",
       "  791.083,1425.62 791.083,1404.94 \n",
       "  \"/>\n",
       "<polyline clip-path=\"url(#clip5600)\" style=\"stroke:#000000; stroke-width:4; stroke-opacity:1; fill:none\" points=\"\n",
       "  891.191,1425.62 891.191,1404.94 \n",
       "  \"/>\n",
       "<polyline clip-path=\"url(#clip5600)\" style=\"stroke:#000000; stroke-width:4; stroke-opacity:1; fill:none\" points=\"\n",
       "  991.298,1425.62 991.298,1404.94 \n",
       "  \"/>\n",
       "<polyline clip-path=\"url(#clip5600)\" style=\"stroke:#000000; stroke-width:4; stroke-opacity:1; fill:none\" points=\"\n",
       "  1091.41,1425.62 1091.41,1404.94 \n",
       "  \"/>\n",
       "<polyline clip-path=\"url(#clip5600)\" style=\"stroke:#000000; stroke-width:4; stroke-opacity:1; fill:none\" points=\"\n",
       "  1191.51,1425.62 1191.51,1404.94 \n",
       "  \"/>\n",
       "<polyline clip-path=\"url(#clip5600)\" style=\"stroke:#000000; stroke-width:4; stroke-opacity:1; fill:none\" points=\"\n",
       "  1291.62,1425.62 1291.62,1404.94 \n",
       "  \"/>\n",
       "<polyline clip-path=\"url(#clip5600)\" style=\"stroke:#000000; stroke-width:4; stroke-opacity:1; fill:none\" points=\"\n",
       "  1391.73,1425.62 1391.73,1404.94 \n",
       "  \"/>\n",
       "<polyline clip-path=\"url(#clip5600)\" style=\"stroke:#000000; stroke-width:4; stroke-opacity:1; fill:none\" points=\"\n",
       "  1491.83,1425.62 1491.83,1404.94 \n",
       "  \"/>\n",
       "<polyline clip-path=\"url(#clip5600)\" style=\"stroke:#000000; stroke-width:4; stroke-opacity:1; fill:none\" points=\"\n",
       "  1591.94,1425.62 1591.94,1404.94 \n",
       "  \"/>\n",
       "<polyline clip-path=\"url(#clip5600)\" style=\"stroke:#000000; stroke-width:4; stroke-opacity:1; fill:none\" points=\"\n",
       "  1692.05,1425.62 1692.05,1404.94 \n",
       "  \"/>\n",
       "<polyline clip-path=\"url(#clip5600)\" style=\"stroke:#000000; stroke-width:4; stroke-opacity:1; fill:none\" points=\"\n",
       "  1792.16,1425.62 1792.16,1404.94 \n",
       "  \"/>\n",
       "<polyline clip-path=\"url(#clip5600)\" style=\"stroke:#000000; stroke-width:4; stroke-opacity:1; fill:none\" points=\"\n",
       "  1892.26,1425.62 1892.26,1404.94 \n",
       "  \"/>\n",
       "<polyline clip-path=\"url(#clip5600)\" style=\"stroke:#000000; stroke-width:4; stroke-opacity:1; fill:none\" points=\"\n",
       "  1992.37,1425.62 1992.37,1404.94 \n",
       "  \"/>\n",
       "<polyline clip-path=\"url(#clip5600)\" style=\"stroke:#000000; stroke-width:4; stroke-opacity:1; fill:none\" points=\"\n",
       "  2092.48,1425.62 2092.48,1404.94 \n",
       "  \"/>\n",
       "<polyline clip-path=\"url(#clip5600)\" style=\"stroke:#000000; stroke-width:4; stroke-opacity:1; fill:none\" points=\"\n",
       "  2192.58,1425.62 2192.58,1404.94 \n",
       "  \"/>\n",
       "<polyline clip-path=\"url(#clip5600)\" style=\"stroke:#000000; stroke-width:4; stroke-opacity:1; fill:none\" points=\"\n",
       "  2292.69,1425.62 2292.69,1404.94 \n",
       "  \"/>\n",
       "<polyline clip-path=\"url(#clip5600)\" style=\"stroke:#000000; stroke-width:4; stroke-opacity:1; fill:none\" points=\"\n",
       "  230.483,1359.06 262.317,1359.06 \n",
       "  \"/>\n",
       "<polyline clip-path=\"url(#clip5600)\" style=\"stroke:#000000; stroke-width:4; stroke-opacity:1; fill:none\" points=\"\n",
       "  230.483,1171.2 262.317,1171.2 \n",
       "  \"/>\n",
       "<polyline clip-path=\"url(#clip5600)\" style=\"stroke:#000000; stroke-width:4; stroke-opacity:1; fill:none\" points=\"\n",
       "  230.483,983.336 262.317,983.336 \n",
       "  \"/>\n",
       "<polyline clip-path=\"url(#clip5600)\" style=\"stroke:#000000; stroke-width:4; stroke-opacity:1; fill:none\" points=\"\n",
       "  230.483,795.474 262.317,795.474 \n",
       "  \"/>\n",
       "<polyline clip-path=\"url(#clip5600)\" style=\"stroke:#000000; stroke-width:4; stroke-opacity:1; fill:none\" points=\"\n",
       "  230.483,607.611 262.317,607.611 \n",
       "  \"/>\n",
       "<polyline clip-path=\"url(#clip5600)\" style=\"stroke:#000000; stroke-width:4; stroke-opacity:1; fill:none\" points=\"\n",
       "  230.483,419.748 262.317,419.748 \n",
       "  \"/>\n",
       "<polyline clip-path=\"url(#clip5600)\" style=\"stroke:#000000; stroke-width:4; stroke-opacity:1; fill:none\" points=\"\n",
       "  230.483,231.885 262.317,231.885 \n",
       "  \"/>\n",
       "<g clip-path=\"url(#clip5600)\">\n",
       "<text style=\"fill:#000000; fill-opacity:1; font-family:Arial,Helvetica Neue,Helvetica,sans-serif; font-size:48px; text-anchor:middle;\" transform=\"rotate(0, 290.547, 1479.62)\" x=\"290.547\" y=\"1479.62\">0</text>\n",
       "</g>\n",
       "<g clip-path=\"url(#clip5600)\">\n",
       "<text style=\"fill:#000000; fill-opacity:1; font-family:Arial,Helvetica Neue,Helvetica,sans-serif; font-size:48px; text-anchor:middle;\" transform=\"rotate(0, 390.655, 1479.62)\" x=\"390.655\" y=\"1479.62\">1</text>\n",
       "</g>\n",
       "<g clip-path=\"url(#clip5600)\">\n",
       "<text style=\"fill:#000000; fill-opacity:1; font-family:Arial,Helvetica Neue,Helvetica,sans-serif; font-size:48px; text-anchor:middle;\" transform=\"rotate(0, 490.762, 1479.62)\" x=\"490.762\" y=\"1479.62\">2</text>\n",
       "</g>\n",
       "<g clip-path=\"url(#clip5600)\">\n",
       "<text style=\"fill:#000000; fill-opacity:1; font-family:Arial,Helvetica Neue,Helvetica,sans-serif; font-size:48px; text-anchor:middle;\" transform=\"rotate(0, 590.869, 1479.62)\" x=\"590.869\" y=\"1479.62\">3</text>\n",
       "</g>\n",
       "<g clip-path=\"url(#clip5600)\">\n",
       "<text style=\"fill:#000000; fill-opacity:1; font-family:Arial,Helvetica Neue,Helvetica,sans-serif; font-size:48px; text-anchor:middle;\" transform=\"rotate(0, 690.976, 1479.62)\" x=\"690.976\" y=\"1479.62\">4</text>\n",
       "</g>\n",
       "<g clip-path=\"url(#clip5600)\">\n",
       "<text style=\"fill:#000000; fill-opacity:1; font-family:Arial,Helvetica Neue,Helvetica,sans-serif; font-size:48px; text-anchor:middle;\" transform=\"rotate(0, 791.083, 1479.62)\" x=\"791.083\" y=\"1479.62\">5</text>\n",
       "</g>\n",
       "<g clip-path=\"url(#clip5600)\">\n",
       "<text style=\"fill:#000000; fill-opacity:1; font-family:Arial,Helvetica Neue,Helvetica,sans-serif; font-size:48px; text-anchor:middle;\" transform=\"rotate(0, 891.191, 1479.62)\" x=\"891.191\" y=\"1479.62\">6</text>\n",
       "</g>\n",
       "<g clip-path=\"url(#clip5600)\">\n",
       "<text style=\"fill:#000000; fill-opacity:1; font-family:Arial,Helvetica Neue,Helvetica,sans-serif; font-size:48px; text-anchor:middle;\" transform=\"rotate(0, 991.298, 1479.62)\" x=\"991.298\" y=\"1479.62\">7</text>\n",
       "</g>\n",
       "<g clip-path=\"url(#clip5600)\">\n",
       "<text style=\"fill:#000000; fill-opacity:1; font-family:Arial,Helvetica Neue,Helvetica,sans-serif; font-size:48px; text-anchor:middle;\" transform=\"rotate(0, 1091.41, 1479.62)\" x=\"1091.41\" y=\"1479.62\">8</text>\n",
       "</g>\n",
       "<g clip-path=\"url(#clip5600)\">\n",
       "<text style=\"fill:#000000; fill-opacity:1; font-family:Arial,Helvetica Neue,Helvetica,sans-serif; font-size:48px; text-anchor:middle;\" transform=\"rotate(0, 1191.51, 1479.62)\" x=\"1191.51\" y=\"1479.62\">9</text>\n",
       "</g>\n",
       "<g clip-path=\"url(#clip5600)\">\n",
       "<text style=\"fill:#000000; fill-opacity:1; font-family:Arial,Helvetica Neue,Helvetica,sans-serif; font-size:48px; text-anchor:middle;\" transform=\"rotate(0, 1291.62, 1479.62)\" x=\"1291.62\" y=\"1479.62\">10</text>\n",
       "</g>\n",
       "<g clip-path=\"url(#clip5600)\">\n",
       "<text style=\"fill:#000000; fill-opacity:1; font-family:Arial,Helvetica Neue,Helvetica,sans-serif; font-size:48px; text-anchor:middle;\" transform=\"rotate(0, 1391.73, 1479.62)\" x=\"1391.73\" y=\"1479.62\">11</text>\n",
       "</g>\n",
       "<g clip-path=\"url(#clip5600)\">\n",
       "<text style=\"fill:#000000; fill-opacity:1; font-family:Arial,Helvetica Neue,Helvetica,sans-serif; font-size:48px; text-anchor:middle;\" transform=\"rotate(0, 1491.83, 1479.62)\" x=\"1491.83\" y=\"1479.62\">12</text>\n",
       "</g>\n",
       "<g clip-path=\"url(#clip5600)\">\n",
       "<text style=\"fill:#000000; fill-opacity:1; font-family:Arial,Helvetica Neue,Helvetica,sans-serif; font-size:48px; text-anchor:middle;\" transform=\"rotate(0, 1591.94, 1479.62)\" x=\"1591.94\" y=\"1479.62\">13</text>\n",
       "</g>\n",
       "<g clip-path=\"url(#clip5600)\">\n",
       "<text style=\"fill:#000000; fill-opacity:1; font-family:Arial,Helvetica Neue,Helvetica,sans-serif; font-size:48px; text-anchor:middle;\" transform=\"rotate(0, 1692.05, 1479.62)\" x=\"1692.05\" y=\"1479.62\">14</text>\n",
       "</g>\n",
       "<g clip-path=\"url(#clip5600)\">\n",
       "<text style=\"fill:#000000; fill-opacity:1; font-family:Arial,Helvetica Neue,Helvetica,sans-serif; font-size:48px; text-anchor:middle;\" transform=\"rotate(0, 1792.16, 1479.62)\" x=\"1792.16\" y=\"1479.62\">15</text>\n",
       "</g>\n",
       "<g clip-path=\"url(#clip5600)\">\n",
       "<text style=\"fill:#000000; fill-opacity:1; font-family:Arial,Helvetica Neue,Helvetica,sans-serif; font-size:48px; text-anchor:middle;\" transform=\"rotate(0, 1892.26, 1479.62)\" x=\"1892.26\" y=\"1479.62\">16</text>\n",
       "</g>\n",
       "<g clip-path=\"url(#clip5600)\">\n",
       "<text style=\"fill:#000000; fill-opacity:1; font-family:Arial,Helvetica Neue,Helvetica,sans-serif; font-size:48px; text-anchor:middle;\" transform=\"rotate(0, 1992.37, 1479.62)\" x=\"1992.37\" y=\"1479.62\">17</text>\n",
       "</g>\n",
       "<g clip-path=\"url(#clip5600)\">\n",
       "<text style=\"fill:#000000; fill-opacity:1; font-family:Arial,Helvetica Neue,Helvetica,sans-serif; font-size:48px; text-anchor:middle;\" transform=\"rotate(0, 2092.48, 1479.62)\" x=\"2092.48\" y=\"1479.62\">18</text>\n",
       "</g>\n",
       "<g clip-path=\"url(#clip5600)\">\n",
       "<text style=\"fill:#000000; fill-opacity:1; font-family:Arial,Helvetica Neue,Helvetica,sans-serif; font-size:48px; text-anchor:middle;\" transform=\"rotate(0, 2192.58, 1479.62)\" x=\"2192.58\" y=\"1479.62\">19</text>\n",
       "</g>\n",
       "<g clip-path=\"url(#clip5600)\">\n",
       "<text style=\"fill:#000000; fill-opacity:1; font-family:Arial,Helvetica Neue,Helvetica,sans-serif; font-size:48px; text-anchor:middle;\" transform=\"rotate(0, 2292.69, 1479.62)\" x=\"2292.69\" y=\"1479.62\">20</text>\n",
       "</g>\n",
       "<g clip-path=\"url(#clip5600)\">\n",
       "<text style=\"fill:#000000; fill-opacity:1; font-family:Arial,Helvetica Neue,Helvetica,sans-serif; font-size:48px; text-anchor:end;\" transform=\"rotate(0, 206.483, 1376.56)\" x=\"206.483\" y=\"1376.56\">-15</text>\n",
       "</g>\n",
       "<g clip-path=\"url(#clip5600)\">\n",
       "<text style=\"fill:#000000; fill-opacity:1; font-family:Arial,Helvetica Neue,Helvetica,sans-serif; font-size:48px; text-anchor:end;\" transform=\"rotate(0, 206.483, 1188.7)\" x=\"206.483\" y=\"1188.7\">-10</text>\n",
       "</g>\n",
       "<g clip-path=\"url(#clip5600)\">\n",
       "<text style=\"fill:#000000; fill-opacity:1; font-family:Arial,Helvetica Neue,Helvetica,sans-serif; font-size:48px; text-anchor:end;\" transform=\"rotate(0, 206.483, 1000.84)\" x=\"206.483\" y=\"1000.84\">-5</text>\n",
       "</g>\n",
       "<g clip-path=\"url(#clip5600)\">\n",
       "<text style=\"fill:#000000; fill-opacity:1; font-family:Arial,Helvetica Neue,Helvetica,sans-serif; font-size:48px; text-anchor:end;\" transform=\"rotate(0, 206.483, 812.974)\" x=\"206.483\" y=\"812.974\">0</text>\n",
       "</g>\n",
       "<g clip-path=\"url(#clip5600)\">\n",
       "<text style=\"fill:#000000; fill-opacity:1; font-family:Arial,Helvetica Neue,Helvetica,sans-serif; font-size:48px; text-anchor:end;\" transform=\"rotate(0, 206.483, 625.111)\" x=\"206.483\" y=\"625.111\">5</text>\n",
       "</g>\n",
       "<g clip-path=\"url(#clip5600)\">\n",
       "<text style=\"fill:#000000; fill-opacity:1; font-family:Arial,Helvetica Neue,Helvetica,sans-serif; font-size:48px; text-anchor:end;\" transform=\"rotate(0, 206.483, 437.248)\" x=\"206.483\" y=\"437.248\">10</text>\n",
       "</g>\n",
       "<g clip-path=\"url(#clip5600)\">\n",
       "<text style=\"fill:#000000; fill-opacity:1; font-family:Arial,Helvetica Neue,Helvetica,sans-serif; font-size:48px; text-anchor:end;\" transform=\"rotate(0, 206.483, 249.385)\" x=\"206.483\" y=\"249.385\">15</text>\n",
       "</g>\n",
       "<g clip-path=\"url(#clip5600)\">\n",
       "<text style=\"fill:#000000; fill-opacity:1; font-family:Arial,Helvetica Neue,Helvetica,sans-serif; font-size:66px; text-anchor:middle;\" transform=\"rotate(0, 1291.62, 1559.48)\" x=\"1291.62\" y=\"1559.48\">x</text>\n",
       "</g>\n",
       "<g clip-path=\"url(#clip5600)\">\n",
       "<text style=\"fill:#000000; fill-opacity:1; font-family:Arial,Helvetica Neue,Helvetica,sans-serif; font-size:66px; text-anchor:middle;\" transform=\"rotate(-90, 89.2861, 736.431)\" x=\"89.2861\" y=\"736.431\">y</text>\n",
       "</g>\n",
       "<polyline clip-path=\"url(#clip5602)\" style=\"stroke:#009af9; stroke-width:4; stroke-opacity:1; fill:none\" points=\"\n",
       "  290.547,795.474 300.558,791.735 310.569,788.109 320.579,784.705 330.59,781.631 340.601,778.987 350.612,776.868 360.622,775.358 370.633,774.532 380.644,774.454 \n",
       "  390.655,775.173 400.665,776.726 410.676,779.136 420.687,782.408 430.697,786.533 440.708,791.487 450.719,797.229 460.73,803.703 470.74,810.839 480.751,818.552 \n",
       "  490.762,826.745 500.772,835.307 510.783,844.119 520.794,853.051 530.805,861.967 540.815,870.726 550.826,879.182 560.837,887.188 570.848,894.598 580.858,901.27 \n",
       "  590.869,907.063 600.88,911.848 610.89,915.501 620.901,917.911 630.912,918.979 640.923,918.621 650.933,916.77 660.944,913.375 670.955,908.405 680.965,901.847 \n",
       "  690.976,893.71 700.987,884.024 710.998,872.839 721.008,860.227 731.019,846.282 741.03,831.114 751.041,814.857 761.051,797.661 771.062,779.693 781.073,761.136 \n",
       "  791.083,742.184 801.094,723.045 811.105,703.936 821.116,685.078 831.126,666.699 841.137,649.027 851.148,632.289 861.158,616.708 871.169,602.5 881.18,589.872 \n",
       "  891.191,579.017 901.201,570.115 911.212,563.329 921.223,558.8 931.233,556.648 941.244,556.969 951.255,559.836 961.266,565.29 971.276,573.348 981.287,583.996 \n",
       "  991.298,597.191 1001.31,612.86 1011.32,630.901 1021.33,651.181 1031.34,673.541 1041.35,697.794 1051.36,723.726 1061.37,751.101 1071.38,779.661 1081.39,809.128 \n",
       "  1091.41,839.208 1101.42,869.593 1111.43,899.966 1121.44,929.999 1131.45,959.366 1141.46,987.736 1151.47,1014.78 1161.48,1040.19 1171.49,1063.65 1181.5,1084.87 \n",
       "  1191.51,1103.58 1201.52,1119.51 1211.53,1132.45 1221.54,1142.18 1231.56,1148.55 1241.57,1151.4 1251.58,1150.65 1261.59,1146.21 1271.6,1138.07 1281.61,1126.22 \n",
       "  1291.62,1110.73 1301.63,1091.69 1311.64,1069.21 1321.65,1043.47 1331.66,1014.68 1341.67,983.079 1351.68,948.942 1361.69,912.58 1371.71,874.329 1381.72,834.556 \n",
       "  1391.73,793.644 1401.74,752.001 1411.75,710.046 1421.76,668.211 1431.77,626.93 1441.78,586.645 1451.79,547.789 1461.8,510.791 1471.81,476.065 1481.82,444.011 \n",
       "  1491.83,415.004 1501.84,389.397 1511.86,367.509 1521.87,349.629 1531.88,336.006 1541.89,326.85 1551.9,322.326 1561.91,322.556 1571.92,327.61 1581.93,337.513 \n",
       "  1591.94,352.237 1601.95,371.705 1611.96,395.789 1621.97,424.31 1631.98,457.043 1641.99,493.712 1652.01,533.999 1662.02,577.544 1672.03,623.945 1682.04,672.769 \n",
       "  1692.05,723.547 1702.06,775.788 1712.07,828.975 1722.08,882.576 1732.09,936.046 1742.1,988.837 1752.11,1040.4 1762.12,1090.18 1772.13,1137.66 1782.14,1182.3 \n",
       "  1792.16,1223.63 1802.17,1261.16 1812.18,1294.47 1822.19,1323.16 1832.2,1346.87 1842.21,1365.3 1852.22,1378.19 1862.23,1385.34 1872.24,1386.61 1882.25,1381.9 \n",
       "  1892.26,1371.18 1902.27,1354.5 1912.28,1331.94 1922.29,1303.67 1932.31,1269.91 1942.32,1230.92 1952.33,1187.05 1962.34,1138.69 1972.35,1086.26 1982.36,1030.27 \n",
       "  1992.37,971.23 2002.38,909.714 2012.39,846.319 2022.4,781.668 2032.41,716.405 2042.42,651.187 2052.43,586.679 2062.44,523.546 2072.46,462.444 2082.47,404.02 \n",
       "  2092.48,348.897 2102.49,297.672 2112.5,250.911 2122.51,209.136 2132.52,172.829 2142.53,142.416 2152.54,118.272 2162.55,100.709 2172.56,89.9758 2182.57,86.2547 \n",
       "  2192.58,89.6577 2202.6,100.225 2212.61,117.926 2222.62,142.653 2232.63,174.23 2242.64,212.407 2252.65,256.864 2262.66,307.214 2272.67,363.006 2282.68,423.73 \n",
       "  2292.69,488.819 \n",
       "  \"/>\n",
       "<polyline clip-path=\"url(#clip5602)\" style=\"stroke:#e26f46; stroke-width:4; stroke-opacity:1; fill:none\" points=\"\n",
       "  290.547,795.474 300.558,795.474 310.569,795.474 320.579,795.474 330.59,795.474 340.601,795.474 350.612,795.474 360.622,795.474 370.633,795.474 380.644,795.474 \n",
       "  390.655,795.474 400.665,795.474 410.676,795.474 420.687,795.474 430.697,795.474 440.708,795.474 450.719,795.474 460.73,795.474 470.74,795.474 480.751,795.474 \n",
       "  490.762,795.474 500.772,795.474 510.783,795.474 520.794,795.474 530.805,795.474 540.815,795.474 550.826,795.474 560.837,795.474 570.848,795.474 580.858,795.474 \n",
       "  590.869,795.474 600.88,795.474 610.89,795.474 620.901,795.474 630.912,795.474 640.923,795.474 650.933,795.474 660.944,795.474 670.955,795.474 680.965,795.474 \n",
       "  690.976,795.474 700.987,795.474 710.998,795.474 721.008,795.474 731.019,795.474 741.03,795.474 751.041,795.474 761.051,795.474 771.062,795.474 781.073,795.474 \n",
       "  791.083,795.474 801.094,795.474 811.105,795.474 821.116,795.474 831.126,795.474 841.137,795.474 851.148,795.474 861.158,795.474 871.169,795.474 881.18,795.474 \n",
       "  891.191,795.474 901.201,795.474 911.212,795.474 921.223,795.474 931.233,795.474 941.244,795.474 951.255,795.474 961.266,795.474 971.276,795.474 981.287,795.474 \n",
       "  991.298,795.474 1001.31,795.474 1011.32,795.474 1021.33,795.474 1031.34,795.474 1041.35,795.474 1051.36,795.474 1061.37,795.474 1071.38,795.474 1081.39,795.474 \n",
       "  1091.41,795.474 1101.42,795.474 1111.43,795.474 1121.44,795.474 1131.45,795.474 1141.46,795.474 1151.47,795.474 1161.48,795.474 1171.49,795.474 1181.5,795.474 \n",
       "  1191.51,795.474 1201.52,795.474 1211.53,795.474 1221.54,795.474 1231.56,795.474 1241.57,795.474 1251.58,795.474 1261.59,795.474 1271.6,795.474 1281.61,795.474 \n",
       "  1291.62,795.474 1301.63,795.474 1311.64,795.474 1321.65,795.474 1331.66,795.474 1341.67,795.474 1351.68,795.474 1361.69,795.474 1371.71,795.474 1381.72,795.474 \n",
       "  1391.73,795.474 1401.74,795.474 1411.75,795.474 1421.76,795.474 1431.77,795.474 1441.78,795.474 1451.79,795.474 1461.8,795.474 1471.81,795.474 1481.82,795.474 \n",
       "  1491.83,795.474 1501.84,795.474 1511.86,795.474 1521.87,795.474 1531.88,795.474 1541.89,795.474 1551.9,795.474 1561.91,795.474 1571.92,795.474 1581.93,795.474 \n",
       "  1591.94,795.474 1601.95,795.474 1611.96,795.474 1621.97,795.474 1631.98,795.474 1641.99,795.474 1652.01,795.474 1662.02,795.474 1672.03,795.474 1682.04,795.474 \n",
       "  1692.05,795.474 1702.06,795.474 1712.07,795.474 1722.08,795.474 1732.09,795.474 1742.1,795.474 1752.11,795.474 1762.12,795.474 1772.13,795.474 1782.14,795.474 \n",
       "  1792.16,795.474 1802.17,795.474 1812.18,795.474 1822.19,795.474 1832.2,795.474 1842.21,795.474 1852.22,795.474 1862.23,795.474 1872.24,795.474 1882.25,795.474 \n",
       "  1892.26,795.474 1902.27,795.474 1912.28,795.474 1922.29,795.474 1932.31,795.474 1942.32,795.474 1952.33,795.474 1962.34,795.474 1972.35,795.474 1982.36,795.474 \n",
       "  1992.37,795.474 2002.38,795.474 2012.39,795.474 2022.4,795.474 2032.41,795.474 2042.42,795.474 2052.43,795.474 2062.44,795.474 2072.46,795.474 2082.47,795.474 \n",
       "  2092.48,795.474 2102.49,795.474 2112.5,795.474 2122.51,795.474 2132.52,795.474 2142.53,795.474 2152.54,795.474 2162.55,795.474 2172.56,795.474 2182.57,795.474 \n",
       "  2192.58,795.474 2202.6,795.474 2212.61,795.474 2222.62,795.474 2232.63,795.474 2242.64,795.474 2252.65,795.474 2262.66,795.474 2272.67,795.474 2282.68,795.474 \n",
       "  2292.69,795.474 \n",
       "  \"/>\n",
       "<path clip-path=\"url(#clip5600)\" d=\"\n",
       "M1850.82 312.204 L2280.76 312.204 L2280.76 130.764 L1850.82 130.764  Z\n",
       "  \" fill=\"#ffffff\" fill-rule=\"evenodd\" fill-opacity=\"1\"/>\n",
       "<polyline clip-path=\"url(#clip5600)\" style=\"stroke:#000000; stroke-width:4; stroke-opacity:1; fill:none\" points=\"\n",
       "  1850.82,312.204 2280.76,312.204 2280.76,130.764 1850.82,130.764 1850.82,312.204 \n",
       "  \"/>\n",
       "<polyline clip-path=\"url(#clip5600)\" style=\"stroke:#009af9; stroke-width:4; stroke-opacity:1; fill:none\" points=\"\n",
       "  1874.82,191.244 2018.82,191.244 \n",
       "  \"/>\n",
       "<g clip-path=\"url(#clip5600)\">\n",
       "<text style=\"fill:#000000; fill-opacity:1; font-family:Arial,Helvetica Neue,Helvetica,sans-serif; font-size:48px; text-anchor:start;\" transform=\"rotate(0, 2042.82, 208.744)\" x=\"2042.82\" y=\"208.744\">função</text>\n",
       "</g>\n",
       "<polyline clip-path=\"url(#clip5600)\" style=\"stroke:#e26f46; stroke-width:4; stroke-opacity:1; fill:none\" points=\"\n",
       "  1874.82,251.724 2018.82,251.724 \n",
       "  \"/>\n",
       "<g clip-path=\"url(#clip5600)\">\n",
       "<text style=\"fill:#000000; fill-opacity:1; font-family:Arial,Helvetica Neue,Helvetica,sans-serif; font-size:48px; text-anchor:start;\" transform=\"rotate(0, 2042.82, 269.224)\" x=\"2042.82\" y=\"269.224\">reta zero</text>\n",
       "</g>\n",
       "</svg>\n"
      ]
     },
     "execution_count": 27,
     "metadata": {},
     "output_type": "execute_result"
    }
   ],
   "source": [
    "plot(0:0.1:20, f2, xlabel = \"x\", ylabel = \"y\", label = \"função\", \n",
    "    xaxis = (\"x\",  0:1:20),\n",
    "    yaxis = (\"y\", -20:5:20))\n",
    "plot!(0:0.1:20, zero, label = \"reta zero\")"
   ]
  },
  {
   "cell_type": "markdown",
   "metadata": {},
   "source": [
    "#### SYMPY.JL"
   ]
  },
  {
   "cell_type": "markdown",
   "metadata": {},
   "source": [
    "A função `nsolve()` do pacote `SymPy.jl` permite usar métodos de aproximação numérica para encontrar raízes de equações algébricas não-lineares e retorna resultado do tipo `Sym`. Sintaxe:\n",
    "```julia\n",
    "nsolve(equação, xi, opções) \n",
    "```\n",
    "Sendo:\n",
    "* **`equação`**: equação algébrica expressa como uma expressão simbólica ou função genérica. Não funciona com funções anônimas;\n",
    "* **`xi`**: aproximação inicial da variavel da equação algébrica;\n",
    "* **`opções`**: flags.\n",
    "\n",
    "A função `nsolve()` retorna um valor do tipo `BigFloat`."
   ]
  },
  {
   "cell_type": "code",
   "execution_count": 28,
   "metadata": {
    "scrolled": true
   },
   "outputs": [
    {
     "data": {
      "text/plain": [
       "(x,)"
      ]
     },
     "execution_count": 28,
     "metadata": {},
     "output_type": "execute_result"
    }
   ],
   "source": [
    "using SymPy\n",
    "@syms x"
   ]
  },
  {
   "cell_type": "markdown",
   "metadata": {},
   "source": [
    "A função retorna um valor do tipo `BigFloat` que pode significar uma representação numérica grande para a maioria das aplicações. Com a flag `prec` podemos limitar o números de algarismos significativos."
   ]
  },
  {
   "cell_type": "code",
   "execution_count": 29,
   "metadata": {
    "scrolled": false
   },
   "outputs": [
    {
     "name": "stdout",
     "output_type": "stream",
     "text": [
      "raiz1 = 1.570796\n",
      "raiz2 = 4.712388980\n",
      "raiz3 = 7.85398163397448\n"
     ]
    }
   ],
   "source": [
    "raiz1 = nsolve(f2(x), 2, prec = 7)\n",
    "raiz2 = nsolve(f2(x), 5, prec = 10)\n",
    "raiz3 = nsolve(f2(x), 7, prec = 15)\n",
    "\n",
    "@show raiz1\n",
    "@show raiz2\n",
    "@show raiz3;"
   ]
  },
  {
   "cell_type": "code",
   "execution_count": 30,
   "metadata": {
    "scrolled": true
   },
   "outputs": [
    {
     "name": "stdout",
     "output_type": "stream",
     "text": [
      "f2(raiz1) = 1.558377e-9\n",
      "f2(raiz2) = -3.623842420e-11\n",
      "f2(raiz3) = 2.40458836715224e-15\n"
     ]
    }
   ],
   "source": [
    "#Testando. Veja que o resultado é bem próximo de zero.\n",
    "@show f2(raiz1)\n",
    "@show f2(raiz2)\n",
    "@show f2(raiz3);"
   ]
  },
  {
   "cell_type": "markdown",
   "metadata": {},
   "source": [
    "**Raízes dentro uma faixa de valores**\n",
    "\n",
    "De acordo com gráfico de $y =  x \\cdot cos(x)$ podemos visualizar que existem várias raízes no intervalo  [0, 20]. Para calcular as raízes utilizando o a função `nsolve()` será necessário uma `list comprehension`."
   ]
  },
  {
   "cell_type": "code",
   "execution_count": 31,
   "metadata": {
    "scrolled": true
   },
   "outputs": [
    {
     "data": {
      "text/plain": [
       "9-element Array{Float64,1}:\n",
       "  0.0               \n",
       "  1.5707963267948966\n",
       "  4.71238898038469  \n",
       "  7.853981633974483 \n",
       " 10.995574287564276 \n",
       " 14.137166941154069 \n",
       " 17.278759594743864 \n",
       " 20.420352248333657 \n",
       " 23.56194490192345  "
      ]
     },
     "execution_count": 31,
     "metadata": {},
     "output_type": "execute_result"
    }
   ],
   "source": [
    "Raizes_nsolve = [Float64(nsolve(f2(x), i)) for i = 0:20]\n",
    "sort!(Raizes_nsolve)  # ordena os resultados\n",
    "unique(Raizes_nsolve) # filtra resultados repetidos"
   ]
  },
  {
   "cell_type": "markdown",
   "metadata": {},
   "source": [
    "**Polinomios**\n",
    "\n",
    "A função `nroots()` permite calcular polinômios numericamente e retorna um vetor contendo o resultado do tipo `Sym`. Sintaxe:\n",
    "\n",
    "```julia\n",
    "nroots(equação, n, maxsteps)  \n",
    "```\n",
    "Sendo:\n",
    "\n",
    "* **equação**: equação algébrica expressa como uma expressão simbólica ou função genérica. Não funciona com função anônima;\n",
    "* **n**: números de dígitos (15 padrão);\n",
    "* **maxsteps**: número máximo de iterações a serem feitas (50 padrão).\n",
    "\n",
    "A função `nroots()` retorna um vetor de dados simbólicos do tipo `SymPy.Sym`."
   ]
  },
  {
   "cell_type": "code",
   "execution_count": 32,
   "metadata": {
    "scrolled": false
   },
   "outputs": [
    {
     "data": {
      "text/latex": [
       "\\[ \\left[ \\begin{array}{r}0.33333 - 1.2472 i\\\\0.33333 + 1.2472 i\\end{array} \\right] \\]"
      ],
      "text/plain": [
       "2-element Array{Sym,1}:\n",
       " 0.33333 - 1.2472*I\n",
       " 0.33333 + 1.2472*I"
      ]
     },
     "execution_count": 32,
     "metadata": {},
     "output_type": "execute_result"
    }
   ],
   "source": [
    "xnp = nroots(3*x^2 - 2*x + 5, n = 5)"
   ]
  },
  {
   "cell_type": "markdown",
   "metadata": {},
   "source": [
    "Para acessar a sulução $0.33333−1.2472i$, use:"
   ]
  },
  {
   "cell_type": "code",
   "execution_count": 33,
   "metadata": {},
   "outputs": [
    {
     "data": {
      "text/latex": [
       "\\begin{equation*}0.33333 - 1.2472 i\\end{equation*}"
      ],
      "text/plain": [
       "0.33333 - 1.2472⋅ⅈ"
      ]
     },
     "execution_count": 33,
     "metadata": {},
     "output_type": "execute_result"
    }
   ],
   "source": [
    "xnp[1]"
   ]
  },
  {
   "cell_type": "markdown",
   "metadata": {},
   "source": [
    "#### ROOTS.JL"
   ]
  },
  {
   "cell_type": "markdown",
   "metadata": {},
   "source": [
    "A função `find_zero()` é uma interface para um dos vários métodos numéricos implementados para encontrar zeros de uma função univariada e retorna resultado do tipo `Float64`. O método da secante é o padrão. Sintaxe:\n",
    "```julia\n",
    "find_zero(equação, xi, opções)\n",
    "```\n",
    "Para calcular várias raízes em um intervalo contínuo  [a, b]:\n",
    "```julia\n",
    "find_zeros(equação, a, b)\n",
    "```\n",
    "Sendo:\n",
    "* **equação**: equação expressa através de uma função genérica ou anônima. A função `find_zero()` não funciona com expressões simbólicas;\n",
    "* **xi**: aproximação inicial da variavel da equação algébrica;\n",
    "* **opções**: \n",
    " * xatol - tolerância absoluta para valores x; \n",
    " * xrtol - tolerância relativa para valores de x; \n",
    " * atol - tolerância absoluta para valores da função calculada;\n",
    " * rtol - tolerância relativa para valores da função calculada;\n",
    " * maxevals - limite no número máximo de iterações;\n",
    " * maxfnevals - limite no número máximo de avaliações da função calculada;\n",
    " * verbose - permite mostrar informações sobre o método utilizado;\n",
    " * método - exige informações sobre o método numérico empregado no cálculo do zero da função;\n",
    "* **a, b**: intervalo contínuo.\n",
    "\n",
    "Métodos numéricos disponíveis:\n",
    "\n",
    "* **Bisseção()**: Utiliza o método da bisseção. Neste método não há necessidade de passar derivadas da função como argumento.\n",
    "\n",
    "* **Roots.A42()**: Método que encontra a raiz de uma função contínua dentro de um intervalo fornecido [a, b], sem necessidade de passar derivadas da função como argumento. Baseia-se no algoritmo \"4.2\" descrito em:  \"Algorithm 748: enclosing zeros of continuous functions\" de autoria de G. E. Alefeld, F. A. Potra e Yixun Shi. DOI:10.1145/210089.210111.\n",
    "\n",
    "* **FalsePosition()**: Utiliza o método da bissecção modificado conhecido como método da falsa posição. Não há necessidade de passar derivadas da função como argumento.\n",
    "\n",
    "* **Order0()**: O método Order0 foi desenvolvido para ser uma alternativa robusta, embora possivelmente mais lenta, aos outros métodos de busca de raízes sem necessidade de passar derivadas da função como argumento. A implementação segue aproximadamente o algoritmo para resolver equações $f(x)= 0$ implementado na HP-34C. \n",
    "\n",
    "* **Order1() (método padrão)**: Implementa o método da secante. Não há necessidade de passar derivadas da equação como argumento.\n",
    "\n",
    "* **Order2()**: Implementa o método de convergência quadrática de Steffensen, no qual permite encontrar raízes usando uma combinação do método de ponto fixo e do método de Aitken, sem necessidade de passar derivadas da função como argumento. \n",
    "\n",
    "* **Order5()**: Método que encontra raízes de equações não lineares sem necessidade de passar derivadas da função como argumento. É baseado no algoritmo \" descrito em: \"A New Fifth Order Derivative Free Newton-Type Method for Solving Nonlinear Equations\" de autoria de Manoj Kumar, Akhilesh Kumar Singh e Akanksha Srivastava. http://dx.doi.org/10.12785/amis/090346.\n",
    "\n",
    "* **Order8()**: Método que encontra raízes de equações não lineares sem necessidade de passar derivadas da função como argumento. É baseado no algoritmo descrito em: \"New Eighth-Order Derivative-Free Methods for Solving Nonlinear Equations\" de autoria de Rajinder Thukral. http://dx.doi.org/10.1155/2012/493456.\n",
    "\n",
    "* **Order16()**: Método que encontra raízes de equações não lineares sem necessidade de passar derivadas da função como argumento. É baseado no algoritmo descrito em: \"New Sixteenth-Order Derivative-Free Methods for Solving Nonlinear Equations\" de autoria de Rajinder Thukral. http://article.sapub.org/10.5923.j.ajcam.20120203.08.html.\n",
    "\n",
    "* **Roots.Newton()**: Implementa o método de Newton. A tupla, formada pela função e a primeira derivada, deve ser passada como argumento.\n",
    "\n",
    "* **Roots.Halley()**: Implementa o método de Halley. A tupla, formada pela função, primeira e segunda derivada, deve ser passada como argumento."
   ]
  },
  {
   "cell_type": "code",
   "execution_count": 34,
   "metadata": {
    "scrolled": true
   },
   "outputs": [
    {
     "data": {
      "text/plain": [
       "f2 (generic function with 1 method)"
      ]
     },
     "execution_count": 34,
     "metadata": {},
     "output_type": "execute_result"
    }
   ],
   "source": [
    "f2(x) = x*cos(x)"
   ]
  },
  {
   "cell_type": "code",
   "execution_count": 35,
   "metadata": {},
   "outputs": [],
   "source": [
    "using Roots"
   ]
  },
  {
   "cell_type": "code",
   "execution_count": 36,
   "metadata": {},
   "outputs": [
    {
     "data": {
      "text/plain": [
       "1.5707963267948966"
      ]
     },
     "execution_count": 36,
     "metadata": {},
     "output_type": "execute_result"
    }
   ],
   "source": [
    "# Método da Secante (padrão)\n",
    "find_zero(f2, 2)"
   ]
  },
  {
   "cell_type": "code",
   "execution_count": 37,
   "metadata": {
    "scrolled": true
   },
   "outputs": [
    {
     "name": "stdout",
     "output_type": "stream",
     "text": [
      "Results of univariate zero finding:\n",
      "\n",
      "* Converged to: 1.5707963267948966\n",
      "* Algorithm: Roots.A42()\n",
      "* iterations: 2\n",
      "* function evaluations: 8\n",
      "* stopped as x_n ≈ x_{n-1} using atol=xatol, rtol=xrtol\n",
      "* Note: Change of sign at xn identified. \n",
      "\n",
      "Trace:\n",
      "(a_0, b_0) = ( 1.0000000000000000,  2.0000000000000000)\n",
      "(a_1, b_1) = ( 1.5000000000000000,  2.0000000000000000)\n",
      "(a_2, b_2) = ( 1.5704429313643755,  1.5711187334545988)\n",
      "(a_3, b_3) = ( 1.5707963267948966,  1.5707963267948968)\n",
      "\n"
     ]
    },
    {
     "data": {
      "text/plain": [
       "1.5707963267948966"
      ]
     },
     "execution_count": 37,
     "metadata": {},
     "output_type": "execute_result"
    }
   ],
   "source": [
    "find_zero(f2, (1, 2), Roots.A42(), verbose = true)"
   ]
  },
  {
   "cell_type": "markdown",
   "metadata": {},
   "source": [
    "Para utilizar os métodos de Newton e Halley é necessário passar a derivada primeira e segunda da função conforme os códigos abaixo:"
   ]
  },
  {
   "cell_type": "code",
   "execution_count": 38,
   "metadata": {
    "scrolled": true
   },
   "outputs": [
    {
     "name": "stdout",
     "output_type": "stream",
     "text": [
      "Results of univariate zero finding:\n",
      "\n",
      "* Converged to: 1.5707963267948966\n",
      "* Algorithm: Roots.Newton()\n",
      "* iterations: 5\n",
      "* function evaluations: 11\n",
      "* stopped as |f(x_n)| ≤ max(δ, max(1,|x|)⋅ϵ) using δ = atol, ϵ = rtol\n",
      "\n",
      "Trace:\n",
      "x_0 =  2.0000000000000000,\t fx_0 = -0.8322936730942848\n",
      "x_1 =  1.6275660508126313,\t fx_1 = -0.0923468542709272\n",
      "x_2 =  1.5726527073612491,\t fx_2 = -0.0029194402467621\n",
      "x_3 =  1.5707985133806537,\t fx_3 = -0.0000034346856566\n",
      "x_4 =  1.5707963267979403,\t fx_4 = -0.0000000000047811\n",
      "x_5 =  1.5707963267948966,\t fx_5 =  0.0000000000000001\n",
      "\n"
     ]
    },
    {
     "data": {
      "text/plain": [
       "1.5707963267948966"
      ]
     },
     "execution_count": 38,
     "metadata": {},
     "output_type": "execute_result"
    }
   ],
   "source": [
    "# find_zero(f, f', xi, método)\n",
    "find_zero((f2, -x*sin(x) + cos(x)), 2, Roots.Newton(), verbose = true)"
   ]
  },
  {
   "cell_type": "code",
   "execution_count": 39,
   "metadata": {
    "scrolled": true
   },
   "outputs": [
    {
     "name": "stdout",
     "output_type": "stream",
     "text": [
      "Results of univariate zero finding:\n",
      "\n",
      "* Converged to: 1.5707963267948968\n",
      "* Algorithm: Roots.Halley()\n",
      "* iterations: 3\n",
      "* function evaluations: 12\n",
      "* stopped as |f(x_n)| ≤ max(δ, max(1,|x|)⋅ϵ) using δ = atol, ϵ = rtol\n",
      "\n",
      "Trace:\n",
      "x_0 =  2.0000000000000000,\t fx_0 = -0.8322936730942848\n",
      "x_1 =  1.5942160077510819,\t fx_1 = -0.0373326173503296\n",
      "x_2 =  1.5708033554411425,\t fx_2 = -0.0000110406211071\n",
      "x_3 =  1.5707963267948968,\t fx_3 = -0.0000000000000003\n",
      "\n"
     ]
    },
    {
     "data": {
      "text/plain": [
       "1.5707963267948968"
      ]
     },
     "execution_count": 39,
     "metadata": {},
     "output_type": "execute_result"
    }
   ],
   "source": [
    "# find_zero(f, f', f'', xi, método)\n",
    "find_zero((f2, -x*sin(x) + cos(x), -(x*cos(x) + 2*sin(x))), 2, Roots.Halley(), verbose = true)"
   ]
  },
  {
   "cell_type": "markdown",
   "metadata": {},
   "source": [
    "A função `fzero()` "
   ]
  },
  {
   "cell_type": "markdown",
   "metadata": {},
   "source": [
    "**Raízes dentro de um intervalo**\n",
    "\n",
    "A função `find_zeros()` calcula as várias raízes em um intervalo contínuo $[a, b]$."
   ]
  },
  {
   "cell_type": "code",
   "execution_count": 40,
   "metadata": {
    "scrolled": true
   },
   "outputs": [
    {
     "data": {
      "text/plain": [
       "7-element Array{Float64,1}:\n",
       "  0.0               \n",
       "  1.5707963267948966\n",
       "  4.71238898038469  \n",
       "  7.853981633974483 \n",
       " 10.995574287564276 \n",
       " 14.137166941154069 \n",
       " 17.27875959474386  "
      ]
     },
     "execution_count": 40,
     "metadata": {},
     "output_type": "execute_result"
    }
   ],
   "source": [
    "Raizes_Root = find_zeros(f2, 0 , 20)"
   ]
  },
  {
   "cell_type": "markdown",
   "metadata": {},
   "source": [
    "#### POLYNOMIALS.JL\n",
    "\n",
    "Dado um polinômio definidos como $P = a_nx^n + a_{n−1}x^{n−1} + ... +   a_2x^2 + a_1x + a_0$, o pacote `Polinomials.jl` possui a função `roots()` que calcula raízes de polinômios de forma prática quando trabalhamos com polinômios grandes. Sintaxe:\n",
    "\n",
    "```julia\n",
    "roots(Poly([a_0, a_1, a_2 ... , a_n]))\n",
    "```\n",
    "Sendo:\n",
    "* **[a_0, a_1, a_2 ... , a_n]**: vetor dos termos do polinômio.\n",
    "\n",
    "É importante observar que o `SymPy.jl` também importa uma função `Poly()`, logo é necessário a sintaxe `Polynomials.Poly([a_0, a_1, a_2, ..., a_n])` para definir um polinômio utilizando o pacote `Polinomials`.  A função `roots()` retorna um vetor do tipo `Float`.\n",
    "\n",
    "Exemplo: calcular as raízes do polinômio de \n",
    "\n",
    "$2.3x^{10} -5.0x^9+0.3x^8 -0.4x^7 + 3.5x^6 -17.6x^5 + 55.0x^4 -1.2x^3 + 1.5x^2 -40.3x + 10$"
   ]
  },
  {
   "cell_type": "code",
   "execution_count": 41,
   "metadata": {},
   "outputs": [
    {
     "name": "stderr",
     "output_type": "stream",
     "text": [
      "WARNING: using Polynomials.roots in module Main conflicts with an existing identifier.\n"
     ]
    }
   ],
   "source": [
    "using Polynomials"
   ]
  },
  {
   "cell_type": "code",
   "execution_count": 42,
   "metadata": {},
   "outputs": [
    {
     "name": "stdout",
     "output_type": "stream",
     "text": [
      "search: \u001b[0m\u001b[1mP\u001b[22m\u001b[0m\u001b[1mo\u001b[22m\u001b[0m\u001b[1ml\u001b[22m\u001b[0m\u001b[1my\u001b[22m\u001b[0m\u001b[1mn\u001b[22m\u001b[0m\u001b[1mo\u001b[22m\u001b[0m\u001b[1mm\u001b[22m\u001b[0m\u001b[1mi\u001b[22m\u001b[0m\u001b[1ma\u001b[22m\u001b[0m\u001b[1ml\u001b[22m\u001b[0m\u001b[1ms\u001b[22m\n",
      "\n"
     ]
    },
    {
     "data": {
      "text/latex": [
       "No documentation found.\n",
       "\n",
       "No docstring found for module \\texttt{Polynomials}.\n",
       "\n"
      ],
      "text/markdown": [
       "No documentation found.\n",
       "\n",
       "No docstring found for module `Polynomials`.\n"
      ],
      "text/plain": [
       "  No documentation found.\n",
       "\n",
       "  No docstring found for module \u001b[36mPolynomials\u001b[39m."
      ]
     },
     "execution_count": 42,
     "metadata": {},
     "output_type": "execute_result"
    }
   ],
   "source": [
    "?Polynomials"
   ]
  },
  {
   "cell_type": "code",
   "execution_count": 43,
   "metadata": {
    "scrolled": true
   },
   "outputs": [
    {
     "data": {
      "text/plain": [
       "10-element Array{Complex{Float64},1}:\n",
       "  -1.276967756654567 - 0.901576169583584im \n",
       "  -1.276967756654567 + 0.901576169583584im \n",
       " -0.5335545375466638 - 0.7279870571636058im\n",
       " -0.5335545375466638 + 0.7279870571636058im\n",
       "  0.2554288310931762 + 0.0im               \n",
       "  0.4321619135459296 - 1.5425242722508146im\n",
       "  0.4321619135459296 + 1.5425242722508146im\n",
       "  0.8932250765373552 + 0.0im               \n",
       "  1.8909899485791621 - 0.3934226869896068im\n",
       "  1.8909899485791621 + 0.3934226869896068im"
      ]
     },
     "execution_count": 43,
     "metadata": {},
     "output_type": "execute_result"
    }
   ],
   "source": [
    "# note que o polinômio está escrito ao contrário, de a_0 para ax^n\n",
    "sol_poly = Polynomials.roots(Polynomials.Poly([10.0, -40.3, 1.5, -1.2, 55.0, -17.6, 3.5, -0.4, 0.3, -5.0, 2.3]))"
   ]
  },
  {
   "cell_type": "markdown",
   "metadata": {},
   "source": [
    "A função `roots()` retorna o resultado do tipo `Array{Complex{Float64},1}`. Para utilizar a parte real de uma solução, use: "
   ]
  },
  {
   "cell_type": "code",
   "execution_count": 44,
   "metadata": {
    "scrolled": false
   },
   "outputs": [
    {
     "data": {
      "text/plain": [
       "1.8909899485791621"
      ]
     },
     "execution_count": 44,
     "metadata": {},
     "output_type": "execute_result"
    }
   ],
   "source": [
    "sol_poly[10].re"
   ]
  },
  {
   "cell_type": "markdown",
   "metadata": {
    "collapsed": true
   },
   "source": [
    "## SISTEMAS DE EQUAÇÕES LINEARES E NÃO LINEARES "
   ]
  },
  {
   "cell_type": "markdown",
   "metadata": {},
   "source": [
    "### SISTEMAS DE EQUAÇÕES LINEARES \n",
    "\n",
    "Exemplo: Calcular as raízes do sistema de equações abaixo:\n",
    "\n",
    "${\\begin{cases}\n",
    "& 2x + 3y - 6 ~~ = 0 \\\\ \n",
    "& 3x - 4y - 12 = 0 \n",
    "\\end{cases}}$"
   ]
  },
  {
   "cell_type": "code",
   "execution_count": 45,
   "metadata": {},
   "outputs": [
    {
     "data": {
      "text/plain": [
       "f4 (generic function with 1 method)"
      ]
     },
     "execution_count": 45,
     "metadata": {},
     "output_type": "execute_result"
    }
   ],
   "source": [
    "# Equações definidas por funções genérica\n",
    "\n",
    "f3(x,y) = 2*x + 3*y - 6\n",
    "f4(x,y) = 3*x - 4*y - 12"
   ]
  },
  {
   "cell_type": "markdown",
   "metadata": {},
   "source": [
    "**Gráfico**\n",
    "\n",
    "O gráfico permite observar o ponto de cruzamento das retas que corresponde à solução do problema. Será utilizado o pacote `Plots.jl` para gerar o gráfico."
   ]
  },
  {
   "cell_type": "code",
   "execution_count": 46,
   "metadata": {
    "scrolled": true
   },
   "outputs": [
    {
     "data": {
      "text/plain": [
       "Plots.GRBackend()"
      ]
     },
     "execution_count": 46,
     "metadata": {},
     "output_type": "execute_result"
    }
   ],
   "source": [
    "using Plots\n",
    "gr()"
   ]
  },
  {
   "cell_type": "code",
   "execution_count": 47,
   "metadata": {},
   "outputs": [
    {
     "data": {
      "image/svg+xml": [
       "<?xml version=\"1.0\" encoding=\"utf-8\"?>\n",
       "<svg xmlns=\"http://www.w3.org/2000/svg\" xmlns:xlink=\"http://www.w3.org/1999/xlink\" width=\"400\" height=\"300\" viewBox=\"0 0 1600 1200\">\n",
       "<defs>\n",
       "  <clipPath id=\"clip6000\">\n",
       "    <rect x=\"0\" y=\"0\" width=\"1600\" height=\"1200\"/>\n",
       "  </clipPath>\n",
       "</defs>\n",
       "<path clip-path=\"url(#clip6000)\" d=\"\n",
       "M0 1200 L1600 1200 L1600 0 L0 0  Z\n",
       "  \" fill=\"#ffffff\" fill-rule=\"evenodd\" fill-opacity=\"1\"/>\n",
       "<defs>\n",
       "  <clipPath id=\"clip6001\">\n",
       "    <rect x=\"320\" y=\"0\" width=\"1121\" height=\"1121\"/>\n",
       "  </clipPath>\n",
       "</defs>\n",
       "<path clip-path=\"url(#clip6000)\" d=\"\n",
       "M243.864 1025.62 L1392.76 1025.62 L1392.76 47.2441 L243.864 47.2441  Z\n",
       "  \" fill=\"#ffffff\" fill-rule=\"evenodd\" fill-opacity=\"1\"/>\n",
       "<defs>\n",
       "  <clipPath id=\"clip6002\">\n",
       "    <rect x=\"243\" y=\"47\" width=\"1150\" height=\"979\"/>\n",
       "  </clipPath>\n",
       "</defs>\n",
       "<polyline clip-path=\"url(#clip6002)\" style=\"stroke:#000000; stroke-width:2; stroke-opacity:0.1; fill:none\" points=\"\n",
       "  243.864,1025.62 243.864,47.2441 \n",
       "  \"/>\n",
       "<polyline clip-path=\"url(#clip6002)\" style=\"stroke:#000000; stroke-width:2; stroke-opacity:0.1; fill:none\" points=\"\n",
       "  531.087,1025.62 531.087,47.2441 \n",
       "  \"/>\n",
       "<polyline clip-path=\"url(#clip6002)\" style=\"stroke:#000000; stroke-width:2; stroke-opacity:0.1; fill:none\" points=\"\n",
       "  818.31,1025.62 818.31,47.2441 \n",
       "  \"/>\n",
       "<polyline clip-path=\"url(#clip6002)\" style=\"stroke:#000000; stroke-width:2; stroke-opacity:0.1; fill:none\" points=\"\n",
       "  1105.53,1025.62 1105.53,47.2441 \n",
       "  \"/>\n",
       "<polyline clip-path=\"url(#clip6002)\" style=\"stroke:#000000; stroke-width:2; stroke-opacity:0.1; fill:none\" points=\"\n",
       "  1392.76,1025.62 1392.76,47.2441 \n",
       "  \"/>\n",
       "<polyline clip-path=\"url(#clip6002)\" style=\"stroke:#000000; stroke-width:2; stroke-opacity:0.1; fill:none\" points=\"\n",
       "  243.864,1025.62 1392.76,1025.62 \n",
       "  \"/>\n",
       "<polyline clip-path=\"url(#clip6002)\" style=\"stroke:#000000; stroke-width:2; stroke-opacity:0.1; fill:none\" points=\"\n",
       "  243.864,781.025 1392.76,781.025 \n",
       "  \"/>\n",
       "<polyline clip-path=\"url(#clip6002)\" style=\"stroke:#000000; stroke-width:2; stroke-opacity:0.1; fill:none\" points=\"\n",
       "  243.864,536.431 1392.76,536.431 \n",
       "  \"/>\n",
       "<polyline clip-path=\"url(#clip6002)\" style=\"stroke:#000000; stroke-width:2; stroke-opacity:0.1; fill:none\" points=\"\n",
       "  243.864,291.838 1392.76,291.838 \n",
       "  \"/>\n",
       "<polyline clip-path=\"url(#clip6002)\" style=\"stroke:#000000; stroke-width:2; stroke-opacity:0.1; fill:none\" points=\"\n",
       "  243.864,47.2441 1392.76,47.2441 \n",
       "  \"/>\n",
       "<polyline clip-path=\"url(#clip6000)\" style=\"stroke:#000000; stroke-width:4; stroke-opacity:1; fill:none\" points=\"\n",
       "  243.864,1025.62 1392.76,1025.62 \n",
       "  \"/>\n",
       "<polyline clip-path=\"url(#clip6000)\" style=\"stroke:#000000; stroke-width:4; stroke-opacity:1; fill:none\" points=\"\n",
       "  243.864,1025.62 243.864,47.2441 \n",
       "  \"/>\n",
       "<polyline clip-path=\"url(#clip6000)\" style=\"stroke:#000000; stroke-width:4; stroke-opacity:1; fill:none\" points=\"\n",
       "  243.864,1025.62 243.864,1010.94 \n",
       "  \"/>\n",
       "<polyline clip-path=\"url(#clip6000)\" style=\"stroke:#000000; stroke-width:4; stroke-opacity:1; fill:none\" points=\"\n",
       "  531.087,1025.62 531.087,1010.94 \n",
       "  \"/>\n",
       "<polyline clip-path=\"url(#clip6000)\" style=\"stroke:#000000; stroke-width:4; stroke-opacity:1; fill:none\" points=\"\n",
       "  818.31,1025.62 818.31,1010.94 \n",
       "  \"/>\n",
       "<polyline clip-path=\"url(#clip6000)\" style=\"stroke:#000000; stroke-width:4; stroke-opacity:1; fill:none\" points=\"\n",
       "  1105.53,1025.62 1105.53,1010.94 \n",
       "  \"/>\n",
       "<polyline clip-path=\"url(#clip6000)\" style=\"stroke:#000000; stroke-width:4; stroke-opacity:1; fill:none\" points=\"\n",
       "  1392.76,1025.62 1392.76,1010.94 \n",
       "  \"/>\n",
       "<polyline clip-path=\"url(#clip6000)\" style=\"stroke:#000000; stroke-width:4; stroke-opacity:1; fill:none\" points=\"\n",
       "  243.864,1025.62 261.098,1025.62 \n",
       "  \"/>\n",
       "<polyline clip-path=\"url(#clip6000)\" style=\"stroke:#000000; stroke-width:4; stroke-opacity:1; fill:none\" points=\"\n",
       "  243.864,781.025 261.098,781.025 \n",
       "  \"/>\n",
       "<polyline clip-path=\"url(#clip6000)\" style=\"stroke:#000000; stroke-width:4; stroke-opacity:1; fill:none\" points=\"\n",
       "  243.864,536.431 261.098,536.431 \n",
       "  \"/>\n",
       "<polyline clip-path=\"url(#clip6000)\" style=\"stroke:#000000; stroke-width:4; stroke-opacity:1; fill:none\" points=\"\n",
       "  243.864,291.838 261.098,291.838 \n",
       "  \"/>\n",
       "<polyline clip-path=\"url(#clip6000)\" style=\"stroke:#000000; stroke-width:4; stroke-opacity:1; fill:none\" points=\"\n",
       "  243.864,47.2441 261.098,47.2441 \n",
       "  \"/>\n",
       "<g clip-path=\"url(#clip6000)\">\n",
       "<text style=\"fill:#000000; fill-opacity:1; font-family:Arial,Helvetica Neue,Helvetica,sans-serif; font-size:48px; text-anchor:middle;\" transform=\"rotate(0, 243.864, 1075.62)\" x=\"243.864\" y=\"1075.62\">-5.0</text>\n",
       "</g>\n",
       "<g clip-path=\"url(#clip6000)\">\n",
       "<text style=\"fill:#000000; fill-opacity:1; font-family:Arial,Helvetica Neue,Helvetica,sans-serif; font-size:48px; text-anchor:middle;\" transform=\"rotate(0, 531.087, 1075.62)\" x=\"531.087\" y=\"1075.62\">-2.5</text>\n",
       "</g>\n",
       "<g clip-path=\"url(#clip6000)\">\n",
       "<text style=\"fill:#000000; fill-opacity:1; font-family:Arial,Helvetica Neue,Helvetica,sans-serif; font-size:48px; text-anchor:middle;\" transform=\"rotate(0, 818.31, 1075.62)\" x=\"818.31\" y=\"1075.62\">0.0</text>\n",
       "</g>\n",
       "<g clip-path=\"url(#clip6000)\">\n",
       "<text style=\"fill:#000000; fill-opacity:1; font-family:Arial,Helvetica Neue,Helvetica,sans-serif; font-size:48px; text-anchor:middle;\" transform=\"rotate(0, 1105.53, 1075.62)\" x=\"1105.53\" y=\"1075.62\">2.5</text>\n",
       "</g>\n",
       "<g clip-path=\"url(#clip6000)\">\n",
       "<text style=\"fill:#000000; fill-opacity:1; font-family:Arial,Helvetica Neue,Helvetica,sans-serif; font-size:48px; text-anchor:middle;\" transform=\"rotate(0, 1392.76, 1075.62)\" x=\"1392.76\" y=\"1075.62\">5.0</text>\n",
       "</g>\n",
       "<g clip-path=\"url(#clip6000)\">\n",
       "<text style=\"fill:#000000; fill-opacity:1; font-family:Arial,Helvetica Neue,Helvetica,sans-serif; font-size:48px; text-anchor:end;\" transform=\"rotate(0, 227.864, 1043.12)\" x=\"227.864\" y=\"1043.12\">-5.0</text>\n",
       "</g>\n",
       "<g clip-path=\"url(#clip6000)\">\n",
       "<text style=\"fill:#000000; fill-opacity:1; font-family:Arial,Helvetica Neue,Helvetica,sans-serif; font-size:48px; text-anchor:end;\" transform=\"rotate(0, 227.864, 798.525)\" x=\"227.864\" y=\"798.525\">-2.5</text>\n",
       "</g>\n",
       "<g clip-path=\"url(#clip6000)\">\n",
       "<text style=\"fill:#000000; fill-opacity:1; font-family:Arial,Helvetica Neue,Helvetica,sans-serif; font-size:48px; text-anchor:end;\" transform=\"rotate(0, 227.864, 553.931)\" x=\"227.864\" y=\"553.931\">0.0</text>\n",
       "</g>\n",
       "<g clip-path=\"url(#clip6000)\">\n",
       "<text style=\"fill:#000000; fill-opacity:1; font-family:Arial,Helvetica Neue,Helvetica,sans-serif; font-size:48px; text-anchor:end;\" transform=\"rotate(0, 227.864, 309.338)\" x=\"227.864\" y=\"309.338\">2.5</text>\n",
       "</g>\n",
       "<g clip-path=\"url(#clip6000)\">\n",
       "<text style=\"fill:#000000; fill-opacity:1; font-family:Arial,Helvetica Neue,Helvetica,sans-serif; font-size:48px; text-anchor:end;\" transform=\"rotate(0, 227.864, 64.7441)\" x=\"227.864\" y=\"64.7441\">5.0</text>\n",
       "</g>\n",
       "<g clip-path=\"url(#clip6000)\">\n",
       "<text style=\"fill:#000000; fill-opacity:1; font-family:Arial,Helvetica Neue,Helvetica,sans-serif; font-size:66px; text-anchor:middle;\" transform=\"rotate(0, 818.31, 1151.48)\" x=\"818.31\" y=\"1151.48\">x</text>\n",
       "</g>\n",
       "<g clip-path=\"url(#clip6000)\">\n",
       "<text style=\"fill:#000000; fill-opacity:1; font-family:Arial,Helvetica Neue,Helvetica,sans-serif; font-size:66px; text-anchor:middle;\" transform=\"rotate(-90, 105.286, 536.431)\" x=\"105.286\" y=\"536.431\">y</text>\n",
       "</g>\n",
       "<polyline clip-path=\"url(#clip6002)\" style=\"stroke:#000000; stroke-width:12; stroke-opacity:1; fill:none\" points=\"\n",
       "  1392.76,666.881 1392.18,666.555 1391.61,666.229 1390.46,665.577 1390.46,665.577 1389.31,664.925 1388.73,664.598 1388.16,664.272 1387.01,663.62 \n",
       "  1385.86,662.968 1385.29,662.642 1384.71,662.316 1383.56,661.663 1382.42,661.011 1381.84,660.685 1381.27,660.359 1380.12,659.707 \n",
       "  1378.97,659.054 1378.39,658.728 1377.82,658.402 1376.67,657.75 1375.52,657.098 1374.95,656.771 1374.37,656.445 1373.22,655.793 \n",
       "  1372.08,655.141 1371.5,654.815 1370.93,654.489 1369.78,653.836 1368.63,653.184 1368.05,652.858 1367.48,652.532 1366.33,651.88 \n",
       "  1365.18,651.227 1364.61,650.901 1364.03,650.575 1362.88,649.923 1362.88,649.923 1361.74,649.271 1361.16,648.944 1360.59,648.618 1359.44,647.966 \n",
       "  1358.29,647.314 1357.71,646.988 1357.14,646.662 1355.99,646.009 1355.99,646.009 1354.84,645.357 1354.27,645.031 1353.69,644.705 1352.54,644.053 \n",
       "  1351.4,643.4 1350.82,643.074 1350.25,642.748 1349.1,642.096 1347.95,641.444 1347.37,641.117 1346.8,640.791 1345.65,640.139 \n",
       "  1344.5,639.487 1343.93,639.161 1343.35,638.835 1342.2,638.182 1341.06,637.53 1340.48,637.204 1339.91,636.878 1338.76,636.226 \n",
       "  1337.61,635.573 1337.03,635.247 1336.46,634.921 1335.31,634.269 1334.16,633.617 1333.59,633.29 1333.01,632.964 1331.86,632.312 \n",
       "  1330.72,631.66 1330.14,631.334 1329.57,631.008 1328.42,630.355 1328.42,630.355 1327.27,629.703 1326.69,629.377 1326.12,629.051 1324.97,628.399 \n",
       "  1323.82,627.746 1323.25,627.42 1322.67,627.094 1321.52,626.442 1320.38,625.79 1319.8,625.463 1319.23,625.137 1318.08,624.485 \n",
       "  1316.93,623.833 1316.35,623.507 1315.78,623.181 1314.63,622.528 1313.48,621.876 1312.91,621.55 1312.33,621.224 1311.18,620.572 \n",
       "  1310.04,619.919 1309.46,619.593 1308.89,619.267 1307.74,618.615 1306.59,617.963 1306.01,617.636 1305.44,617.31 1304.29,616.658 1304.29,616.658 \n",
       "  1303.14,616.006 1302.57,615.68 1301.99,615.354 1300.84,614.701 1299.7,614.049 1299.12,613.723 1298.55,613.397 1297.4,612.745 \n",
       "  1296.25,612.092 1295.67,611.766 1295.1,611.44 1293.95,610.788 1292.8,610.136 1292.23,609.809 1291.65,609.483 1290.5,608.831 1290.5,608.831 \n",
       "  1289.36,608.179 1288.78,607.853 1288.21,607.527 1287.06,606.874 1285.91,606.222 1285.33,605.896 1284.76,605.57 1283.61,604.918 \n",
       "  1282.46,604.265 1281.89,603.939 1281.31,603.613 1280.16,602.961 1279.02,602.309 1278.44,601.982 1277.87,601.656 1276.72,601.004 \n",
       "  1275.57,600.352 1274.99,600.026 1274.42,599.7 1273.27,599.047 1272.12,598.395 1271.55,598.069 1270.97,597.743 1269.82,597.091 \n",
       "  1268.68,596.438 1268.1,596.112 1267.53,595.786 1266.38,595.134 1265.23,594.482 1264.65,594.155 1264.08,593.829 1262.93,593.177 \n",
       "  1261.78,592.525 1261.21,592.199 1260.63,591.873 1259.48,591.22 1258.34,590.568 1257.76,590.242 1257.19,589.916 1256.04,589.264 \n",
       "  1254.89,588.611 1254.31,588.285 1253.74,587.959 1252.59,587.307 1251.44,586.655 1250.87,586.328 1250.29,586.002 1249.14,585.35 \n",
       "  1248,584.698 1247.42,584.372 1246.85,584.046 1245.7,583.393 1244.55,582.741 1243.97,582.415 1243.4,582.089 1242.25,581.437 \n",
       "  1241.1,580.784 1240.53,580.458 1239.95,580.132 1238.8,579.48 1237.66,578.828 1237.08,578.501 1236.51,578.175 1235.36,577.523 \n",
       "  1234.21,576.871 1233.63,576.545 1233.06,576.219 1231.91,575.566 1230.76,574.914 1230.19,574.588 1229.61,574.262 1228.46,573.61 \n",
       "  1227.32,572.957 1226.74,572.631 1226.17,572.305 1225.02,571.653 1223.87,571.001 1223.29,570.674 1222.72,570.348 1221.57,569.696 \n",
       "  1220.42,569.044 1219.85,568.718 1219.27,568.392 1218.12,567.739 1216.98,567.087 1216.4,566.761 1215.83,566.435 1214.68,565.783 \n",
       "  1213.53,565.13 1212.95,564.804 1212.38,564.478 1211.23,563.826 1210.08,563.174 1209.51,562.847 1208.93,562.521 1207.78,561.869 \n",
       "  1206.64,561.217 1206.06,560.891 1205.49,560.565 1204.34,559.912 1203.19,559.26 1202.61,558.934 1202.04,558.608 1200.89,557.956 \n",
       "  1199.74,557.303 1199.17,556.977 1198.59,556.651 1197.44,555.999 1196.3,555.347 1195.72,555.02 1195.15,554.694 1194,554.042 \n",
       "  1192.85,553.39 1192.27,553.064 1191.7,552.738 1190.55,552.085 1189.4,551.433 1188.83,551.107 1188.25,550.781 1187.1,550.129 \n",
       "  1185.96,549.476 1185.38,549.15 1184.81,548.824 1183.66,548.172 1182.51,547.52 1181.93,547.193 1181.36,546.867 1180.21,546.215 \n",
       "  1179.06,545.563 1178.49,545.237 1177.91,544.911 1176.76,544.258 1175.62,543.606 1175.04,543.28 1174.47,542.954 1173.32,542.302 \n",
       "  1172.17,541.649 1171.59,541.323 1171.02,540.997 1169.87,540.345 1168.72,539.693 1168.15,539.366 1167.57,539.04 1166.42,538.388 \n",
       "  1165.28,537.736 1164.7,537.41 1164.13,537.084 1162.98,536.431 1161.83,535.779 1161.25,535.453 1160.68,535.127 1159.53,534.475 \n",
       "  1158.38,533.822 1157.81,533.496 1157.23,533.17 1156.08,532.518 1154.94,531.866 1154.36,531.539 1153.79,531.213 1152.64,530.561 \n",
       "  1151.49,529.909 1150.91,529.583 1150.34,529.257 1149.19,528.604 1148.04,527.952 1147.47,527.626 1146.89,527.3 1145.74,526.648 \n",
       "  1144.6,525.995 1144.02,525.669 1143.45,525.343 1142.3,524.691 1141.15,524.039 1140.57,523.712 1140,523.386 1138.85,522.734 \n",
       "  1137.7,522.082 1137.13,521.756 1136.55,521.43 1135.4,520.777 1134.26,520.125 1133.68,519.799 1133.11,519.473 1131.96,518.821 \n",
       "  1130.81,518.168 1130.23,517.842 1129.66,517.516 1128.51,516.864 1127.36,516.212 1126.79,515.885 1126.21,515.559 1125.06,514.907 \n",
       "  1123.92,514.255 1123.34,513.929 1122.77,513.603 1121.62,512.95 1120.47,512.298 1119.89,511.972 1119.32,511.646 1118.17,510.994 \n",
       "  1117.02,510.341 1116.45,510.015 1115.87,509.689 1114.72,509.037 1113.58,508.385 1113,508.058 1112.43,507.732 1111.28,507.08 \n",
       "  1110.13,506.428 1109.55,506.102 1108.98,505.776 1107.83,505.123 1106.68,504.471 1106.11,504.145 1105.53,503.819 1104.38,503.167 \n",
       "  1103.24,502.514 1102.66,502.188 1102.09,501.862 1100.94,501.21 1099.79,500.558 1099.21,500.231 1098.64,499.905 1097.49,499.253 \n",
       "  1096.34,498.601 1095.77,498.275 1095.19,497.949 1094.04,497.296 1092.9,496.644 1092.32,496.318 1091.75,495.992 1090.6,495.34 \n",
       "  1089.45,494.687 1088.87,494.361 1088.3,494.035 1087.15,493.383 1086,492.731 1085.43,492.405 1084.85,492.078 1083.7,491.426 \n",
       "  1082.56,490.774 1081.98,490.448 1081.41,490.122 1080.26,489.469 1079.11,488.817 1078.53,488.491 1077.96,488.165 1076.81,487.513 \n",
       "  1075.66,486.86 1075.09,486.534 1074.51,486.208 1073.36,485.556 1072.22,484.904 1071.64,484.578 1071.07,484.251 1069.92,483.599 \n",
       "  1068.77,482.947 1068.19,482.621 1067.62,482.295 1066.47,481.642 1065.32,480.99 1064.75,480.664 1064.17,480.338 1063.02,479.686 \n",
       "  1061.88,479.033 1061.3,478.707 1060.73,478.381 1059.58,477.729 1058.43,477.077 1057.85,476.751 1057.28,476.424 1056.13,475.772 \n",
       "  1054.98,475.12 1054.41,474.794 1053.83,474.468 1052.68,473.815 1051.54,473.163 1050.96,472.837 1050.39,472.511 1049.24,471.859 \n",
       "  1048.09,471.206 1047.51,470.88 1046.94,470.554 1045.79,469.902 1044.64,469.25 1044.07,468.924 1043.49,468.597 1042.34,467.945 \n",
       "  1041.2,467.293 1040.62,466.967 1040.05,466.641 1038.9,465.988 1037.75,465.336 1037.17,465.01 1036.6,464.684 1035.45,464.032 \n",
       "  1034.3,463.379 1033.73,463.053 1033.15,462.727 1032,462.075 1030.86,461.423 1030.28,461.097 1029.71,460.77 1028.56,460.118 \n",
       "  1027.41,459.466 1026.83,459.14 1026.26,458.814 1025.11,458.161 1023.96,457.509 1023.39,457.183 1022.81,456.857 1021.66,456.205 \n",
       "  1020.51,455.552 1019.94,455.226 1019.37,454.9 1018.22,454.248 1017.07,453.596 1016.49,453.27 1015.92,452.943 1014.77,452.291 \n",
       "  1013.62,451.639 1013.05,451.313 1012.47,450.987 1011.32,450.334 1010.17,449.682 1009.6,449.356 1009.03,449.03 1007.88,448.378 \n",
       "  1006.73,447.725 1006.15,447.399 1005.58,447.073 1004.43,446.421 1003.28,445.769 1002.71,445.443 1002.13,445.116 1000.98,444.464 \n",
       "  999.835,443.812 999.26,443.486 998.686,443.16 997.537,442.507 996.388,441.855 995.814,441.529 995.239,441.203 994.09,440.551 \n",
       "  992.942,439.898 992.367,439.572 991.793,439.246 990.644,438.594 989.495,437.942 988.92,437.616 988.346,437.289 987.197,436.637 \n",
       "  986.048,435.985 985.474,435.659 984.899,435.333 983.75,434.68 982.602,434.028 982.027,433.702 981.453,433.376 980.304,432.724 \n",
       "  979.155,432.071 978.58,431.745 978.006,431.419 976.857,430.767 975.708,430.115 975.134,429.789 974.559,429.462 973.41,428.81 \n",
       "  972.262,428.158 971.687,427.832 971.113,427.506 969.964,426.853 968.815,426.201 968.24,425.875 967.666,425.549 966.517,424.897 \n",
       "  965.368,424.244 964.794,423.918 964.219,423.592 963.07,422.94 961.922,422.288 961.347,421.962 960.773,421.635 959.624,420.983 \n",
       "  958.475,420.331 957.9,420.005 957.326,419.679 956.177,419.026 955.028,418.374 954.454,418.048 953.879,417.722 952.73,417.07 \n",
       "  951.581,416.417 951.007,416.091 950.433,415.765 949.284,415.113 948.135,414.461 947.56,414.135 946.986,413.808 945.837,413.156 \n",
       "  944.688,412.504 944.114,412.178 943.539,411.852 942.39,411.199 941.241,410.547 940.667,410.221 940.093,409.895 938.944,409.243 \n",
       "  937.795,408.59 937.22,408.264 936.646,407.938 935.497,407.286 934.348,406.634 933.774,406.308 933.199,405.981 932.05,405.329 \n",
       "  930.901,404.677 930.327,404.351 929.753,404.025 928.604,403.372 927.455,402.72 926.88,402.394 926.306,402.068 925.157,401.416 \n",
       "  924.008,400.763 923.434,400.437 922.859,400.111 921.71,399.459 920.561,398.807 919.987,398.481 919.413,398.154 918.264,397.502 \n",
       "  917.115,396.85 916.54,396.524 915.966,396.198 914.817,395.545 913.668,394.893 913.094,394.567 912.519,394.241 911.37,393.589 \n",
       "  910.221,392.936 909.647,392.61 909.072,392.284 907.924,391.632 906.775,390.98 906.2,390.654 905.626,390.327 904.477,389.675 \n",
       "  903.328,389.023 902.754,388.697 902.179,388.371 901.03,387.718 899.881,387.066 899.307,386.74 898.732,386.414 897.584,385.762 \n",
       "  896.435,385.109 895.86,384.783 895.286,384.457 894.137,383.805 892.988,383.153 892.414,382.827 891.839,382.5 890.69,381.848 \n",
       "  889.541,381.196 888.967,380.87 888.392,380.544 887.244,379.891 886.095,379.239 885.52,378.913 884.946,378.587 883.797,377.935 \n",
       "  882.648,377.282 882.074,376.956 881.499,376.63 880.35,375.978 879.201,375.326 878.627,375 878.052,374.673 876.904,374.021 \n",
       "  875.755,373.369 875.18,373.043 874.606,372.717 873.457,372.064 872.308,371.412 871.734,371.086 871.159,370.76 870.01,370.108 \n",
       "  868.861,369.455 868.287,369.129 867.712,368.803 866.563,368.151 865.415,367.499 864.84,367.173 864.266,366.846 863.117,366.194 \n",
       "  861.968,365.542 861.393,365.216 860.819,364.89 859.67,364.237 858.521,363.585 857.947,363.259 857.372,362.933 856.223,362.281 \n",
       "  855.075,361.628 854.5,361.302 853.926,360.976 852.777,360.324 851.628,359.672 851.053,359.346 850.479,359.019 849.33,358.367 \n",
       "  848.181,357.715 847.607,357.389 847.032,357.063 845.883,356.41 844.735,355.758 844.16,355.432 843.586,355.106 842.437,354.454 \n",
       "  841.288,353.801 840.713,353.475 840.139,353.149 838.99,352.497 837.841,351.845 837.267,351.519 836.692,351.192 835.543,350.54 \n",
       "  834.395,349.888 833.82,349.562 833.246,349.236 832.097,348.583 830.948,347.931 830.373,347.605 829.799,347.279 828.65,346.627 \n",
       "  827.501,345.974 826.927,345.648 826.352,345.322 825.203,344.67 824.054,344.018 823.48,343.692 822.906,343.365 821.757,342.713 \n",
       "  820.608,342.061 820.033,341.735 819.459,341.409 818.31,340.756 817.161,340.104 816.587,339.778 816.012,339.452 814.863,338.8 \n",
       "  813.714,338.147 813.14,337.821 812.566,337.495 811.417,336.843 810.268,336.191 809.693,335.865 809.119,335.538 807.97,334.886 \n",
       "  806.821,334.234 806.247,333.908 805.672,333.582 804.523,332.929 803.374,332.277 802.8,331.951 802.226,331.625 801.077,330.973 \n",
       "  799.928,330.32 799.353,329.994 798.779,329.668 797.63,329.016 796.481,328.364 795.907,328.038 795.332,327.711 794.183,327.059 \n",
       "  793.034,326.407 792.46,326.081 791.886,325.755 790.737,325.102 789.588,324.45 789.013,324.124 788.439,323.798 787.29,323.146 787.29,323.146 \n",
       "  786.141,322.493 785.567,322.167 784.992,321.841 783.843,321.189 783.843,321.189 782.694,320.537 782.12,320.211 781.546,319.884 780.397,319.232 \n",
       "  779.248,318.58 778.673,318.254 778.099,317.928 776.95,317.275 776.95,317.275 775.801,316.623 775.227,316.297 774.652,315.971 773.503,315.319 773.503,315.319 \n",
       "  772.354,314.666 771.78,314.34 771.205,314.014 770.057,313.362 768.908,312.71 768.333,312.384 767.759,312.057 766.61,311.405 \n",
       "  765.461,310.753 764.887,310.427 764.312,310.101 763.163,309.448 763.163,309.448 762.014,308.796 761.44,308.47 760.865,308.144 759.717,307.492 \n",
       "  758.568,306.839 757.993,306.513 757.419,306.187 756.27,305.535 755.121,304.883 754.547,304.557 753.972,304.23 752.823,303.578 \n",
       "  751.674,302.926 751.1,302.6 750.525,302.274 749.377,301.621 749.377,301.621 748.228,300.969 747.653,300.643 747.079,300.317 745.93,299.665 \n",
       "  744.781,299.012 744.207,298.686 743.632,298.36 742.483,297.708 741.334,297.056 740.76,296.73 740.185,296.403 739.037,295.751 \n",
       "  737.888,295.099 737.313,294.773 736.739,294.447 735.59,293.794 734.441,293.142 733.866,292.816 733.292,292.49 732.143,291.838 \n",
       "  730.994,291.185 730.42,290.859 729.845,290.533 728.696,289.881 727.548,289.229 726.973,288.903 726.399,288.576 725.25,287.924 \n",
       "  724.101,287.272 723.526,286.946 722.952,286.62 721.803,285.967 720.654,285.315 720.08,284.989 719.505,284.663 718.356,284.011 \n",
       "  717.208,283.358 716.633,283.032 716.059,282.706 714.91,282.054 713.761,281.402 713.186,281.076 712.612,280.749 711.463,280.097 \n",
       "  710.314,279.445 709.74,279.119 709.165,278.793 708.016,278.14 706.868,277.488 706.293,277.162 705.719,276.836 704.57,276.184 \n",
       "  \n",
       "  \"/>\n",
       "<polyline clip-path=\"url(#clip6002)\" style=\"stroke:#000000; stroke-width:12; stroke-opacity:1; fill:none\" points=\"\n",
       "  704.57,276.184 703.421,275.531 702.846,275.205 702.272,274.879 701.123,274.227 701.123,274.227 699.974,273.575 699.4,273.249 698.825,272.922 697.676,272.27 \n",
       "  697.676,272.27 696.528,271.618 695.953,271.292 695.379,270.966 694.23,270.313 693.081,269.661 692.506,269.335 691.932,269.009 690.783,268.357 \n",
       "  689.634,267.704 689.06,267.378 688.485,267.052 687.336,266.4 686.187,265.748 685.613,265.422 685.039,265.095 683.89,264.443 \n",
       "  682.741,263.791 682.166,263.465 681.592,263.139 680.443,262.486 680.443,262.486 679.294,261.834 678.72,261.508 678.145,261.182 676.996,260.53 \n",
       "  675.847,259.877 675.273,259.551 674.699,259.225 673.55,258.573 672.401,257.921 671.826,257.595 671.252,257.268 670.103,256.616 \n",
       "  668.954,255.964 668.38,255.638 667.805,255.312 666.656,254.659 665.507,254.007 664.933,253.681 664.359,253.355 663.21,252.703 \n",
       "  662.061,252.05 661.486,251.724 660.912,251.398 659.763,250.746 658.614,250.094 658.04,249.768 657.465,249.441 656.316,248.789 \n",
       "  655.167,248.137 654.593,247.811 654.019,247.485 652.87,246.832 651.721,246.18 651.146,245.854 650.572,245.528 649.423,244.876 \n",
       "  648.274,244.223 647.7,243.897 647.125,243.571 645.976,242.919 644.827,242.267 644.253,241.941 643.678,241.614 642.53,240.962 \n",
       "  641.381,240.31 640.806,239.984 640.232,239.658 639.083,239.006 639.083,239.006 637.934,238.353 637.36,238.027 636.785,237.701 635.636,237.049 \n",
       "  634.487,236.397 633.913,236.07 633.338,235.744 632.19,235.092 631.041,234.44 630.466,234.114 629.892,233.788 628.743,233.135 \n",
       "  628.743,233.135 627.594,232.483 627.02,232.157 626.445,231.831 625.296,231.179 624.147,230.526 623.573,230.2 622.998,229.874 621.85,229.222 \n",
       "  620.701,228.57 620.126,228.243 619.552,227.917 618.403,227.265 617.254,226.613 616.68,226.287 616.105,225.961 614.956,225.308 \n",
       "  613.807,224.656 613.233,224.33 612.658,224.004 611.51,223.352 611.51,223.352 610.361,222.699 609.786,222.373 609.212,222.047 608.063,221.395 \n",
       "  606.914,220.743 606.34,220.416 605.765,220.09 604.616,219.438 603.467,218.786 602.893,218.46 602.318,218.134 601.169,217.481 \n",
       "  600.021,216.829 599.446,216.503 598.872,216.177 597.723,215.525 596.574,214.872 595.999,214.546 595.425,214.22 594.276,213.568 \n",
       "  594.276,213.568 593.127,212.916 592.553,212.589 591.978,212.263 590.829,211.611 589.681,210.959 589.106,210.633 588.532,210.307 587.383,209.654 \n",
       "  586.234,209.002 585.659,208.676 585.085,208.35 583.936,207.698 582.787,207.045 582.213,206.719 581.638,206.393 580.489,205.741 \n",
       "  579.341,205.089 578.766,204.762 578.192,204.436 577.043,203.784 575.894,203.132 575.319,202.806 574.745,202.48 573.596,201.827 \n",
       "  572.447,201.175 571.873,200.849 571.298,200.523 570.149,199.871 569.001,199.218 568.426,198.892 567.852,198.566 566.703,197.914 \n",
       "  565.554,197.262 564.979,196.935 564.405,196.609 563.256,195.957 563.256,195.957 562.107,195.305 561.533,194.979 560.958,194.653 559.809,194 \n",
       "  558.661,193.348 558.086,193.022 557.512,192.696 556.363,192.044 556.363,192.044 555.214,191.391 554.639,191.065 554.065,190.739 552.916,190.087 \n",
       "  551.767,189.435 551.193,189.108 550.618,188.782 549.469,188.13 548.32,187.478 547.746,187.152 547.172,186.826 546.023,186.173 \n",
       "  544.874,185.521 544.299,185.195 543.725,184.869 542.576,184.217 542.576,184.217 541.427,183.564 540.853,183.238 540.278,182.912 539.129,182.26 \n",
       "  539.129,182.26 537.98,181.608 537.406,181.281 536.832,180.955 535.683,180.303 534.534,179.651 533.959,179.325 533.385,178.999 532.236,178.346 \n",
       "  531.087,177.694 530.513,177.368 529.938,177.042 528.789,176.39 527.64,175.737 527.066,175.411 526.492,175.085 525.343,174.433 \n",
       "  525.343,174.433 524.194,173.781 523.619,173.454 523.045,173.128 521.896,172.476 520.747,171.824 520.173,171.498 519.598,171.172 518.449,170.519 \n",
       "  518.449,170.519 517.3,169.867 516.726,169.541 516.152,169.215 515.003,168.563 513.854,167.91 513.279,167.584 512.705,167.258 511.556,166.606 \n",
       "  510.407,165.954 509.833,165.627 509.258,165.301 508.109,164.649 508.109,164.649 506.96,163.997 506.386,163.671 505.811,163.345 504.663,162.692 \n",
       "  503.514,162.04 502.939,161.714 502.365,161.388 501.216,160.736 500.067,160.083 499.493,159.757 498.918,159.431 497.769,158.779 \n",
       "  496.62,158.127 496.046,157.8 495.471,157.474 494.323,156.822 494.323,156.822 493.174,156.17 492.599,155.844 492.025,155.518 490.876,154.865 \n",
       "  490.876,154.865 489.727,154.213 489.153,153.887 488.578,153.561 487.429,152.909 486.28,152.256 485.706,151.93 485.131,151.604 483.983,150.952 \n",
       "  482.834,150.3 482.259,149.973 481.685,149.647 480.536,148.995 479.387,148.343 478.813,148.017 478.238,147.691 477.089,147.038 \n",
       "  477.089,147.038 475.94,146.386 475.366,146.06 474.791,145.734 473.643,145.082 472.494,144.429 471.919,144.103 471.345,143.777 470.196,143.125 \n",
       "  470.196,143.125 469.047,142.473 468.473,142.146 467.898,141.82 466.749,141.168 466.749,141.168 465.6,140.516 465.026,140.19 464.451,139.864 463.302,139.211 \n",
       "  462.154,138.559 461.579,138.233 461.005,137.907 459.856,137.255 458.707,136.602 458.132,136.276 457.558,135.95 456.409,135.298 \n",
       "  456.409,135.298 455.26,134.646 454.686,134.319 454.111,133.993 452.962,133.341 452.962,133.341 451.814,132.689 451.239,132.363 450.665,132.037 449.516,131.384 \n",
       "  449.516,131.384 448.367,130.732 447.792,130.406 447.218,130.08 446.069,129.428 444.92,128.775 444.346,128.449 443.771,128.123 442.622,127.471 \n",
       "  442.622,127.471 441.474,126.819 440.899,126.492 440.325,126.166 439.176,125.514 439.176,125.514 438.027,124.862 437.452,124.536 436.878,124.21 435.729,123.557 \n",
       "  434.58,122.905 434.006,122.579 433.431,122.253 432.282,121.601 432.282,121.601 431.134,120.948 430.559,120.622 429.985,120.296 428.836,119.644 \n",
       "  428.836,119.644 427.687,118.992 427.112,118.665 426.538,118.339 425.389,117.687 424.24,117.035 423.666,116.709 423.091,116.383 421.942,115.73 \n",
       "  421.942,115.73 420.793,115.078 420.219,114.752 419.645,114.426 418.496,113.774 418.496,113.774 417.347,113.121 416.772,112.795 416.198,112.469 415.049,111.817 \n",
       "  413.9,111.165 413.326,110.838 412.751,110.512 411.602,109.86 411.602,109.86 410.453,109.208 409.879,108.882 409.305,108.556 408.156,107.903 \n",
       "  408.156,107.903 407.007,107.251 406.432,106.925 405.858,106.599 404.709,105.947 404.709,105.947 403.56,105.294 402.986,104.968 402.411,104.642 401.262,103.99 \n",
       "  400.113,103.338 399.539,103.011 398.965,102.685 397.816,102.033 396.667,101.381 396.092,101.055 395.518,100.729 394.369,100.076 \n",
       "  394.369,100.076 393.22,99.4241 392.646,99.0979 392.071,98.7718 390.922,98.1196 390.922,98.1196 389.773,97.4673 389.199,97.1412 388.625,96.8151 387.476,96.1628 \n",
       "  386.327,95.5106 385.752,95.1844 385.178,94.8583 384.029,94.2061 382.88,93.5538 382.306,93.2277 381.731,92.9016 380.582,92.2493 \n",
       "  379.433,91.5971 378.859,91.2709 378.285,90.9448 377.136,90.2926 375.987,89.6403 375.412,89.3142 374.838,88.9881 373.689,88.3358 \n",
       "  372.54,87.6836 371.966,87.3574 371.391,87.0313 370.242,86.3791 370.242,86.3791 369.093,85.7268 368.519,85.4007 367.944,85.0746 366.796,84.4223 \n",
       "  365.647,83.7701 365.072,83.444 364.498,83.1178 363.349,82.4656 363.349,82.4656 362.2,81.8133 361.626,81.4872 361.051,81.1611 359.902,80.5088 \n",
       "  358.753,79.8566 358.179,79.5305 357.604,79.2043 356.456,78.5521 355.307,77.8998 354.732,77.5737 354.158,77.2476 353.009,76.5953 \n",
       "  353.009,76.5953 351.86,75.9431 351.286,75.617 350.711,75.2908 349.562,74.6386 348.413,73.9863 347.839,73.6602 347.264,73.3341 346.116,72.6818 \n",
       "  344.967,72.0296 344.392,71.7035 343.818,71.3773 342.669,70.7251 341.52,70.0728 340.946,69.7467 340.371,69.4206 339.222,68.7683 \n",
       "  338.073,68.1161 337.499,67.79 336.924,67.4638 335.776,66.8116 335.776,66.8116 334.627,66.1593 334.052,65.8332 333.478,65.5071 332.329,64.8548 \n",
       "  331.18,64.2026 330.605,63.8765 330.031,63.5503 328.882,62.8981 327.733,62.2458 327.159,61.9197 326.584,61.5936 325.435,60.9413 \n",
       "  325.435,60.9413 324.287,60.2891 323.712,59.963 323.138,59.6368 321.989,58.9846 320.84,58.3323 320.265,58.0062 319.691,57.6801 318.542,57.0278 \n",
       "  318.542,57.0278 317.393,56.3756 316.819,56.0495 316.244,55.7233 315.095,55.0711 313.947,54.4188 313.372,54.0927 312.798,53.7666 311.649,53.1143 \n",
       "  310.5,52.4621 309.925,52.136 309.351,51.8098 308.202,51.1576 308.202,51.1576 307.053,50.5053 306.479,50.1792 305.904,49.8531 304.755,49.2008 \n",
       "  304.755,49.2008 303.607,48.5486 303.032,48.2225 302.458,47.8963 301.309,47.2441 \n",
       "  \"/>\n",
       "<polyline clip-path=\"url(#clip6002)\" style=\"stroke:#000000; stroke-width:4; stroke-opacity:1; fill:none\" points=\"\n",
       "  511.939,1025.62 512.705,1025.13 513.471,1024.64 513.854,1024.4 515.003,1023.66 516.152,1022.93 516.534,1022.68 517.3,1022.19 518.066,1021.71 \n",
       "  518.449,1021.46 519.598,1020.73 520.747,1019.99 521.13,1019.75 521.896,1019.26 522.662,1018.77 523.045,1018.53 524.194,1017.79 \n",
       "  525.343,1017.06 525.726,1016.81 526.492,1016.32 527.257,1015.83 527.64,1015.59 528.789,1014.86 529.938,1014.12 530.321,1013.88 531.087,1013.39 \n",
       "  531.853,1012.9 532.236,1012.66 533.385,1011.92 534.534,1011.19 534.917,1010.94 535.683,1010.45 536.449,1009.96 536.832,1009.72 537.98,1008.99 \n",
       "  539.129,1008.25 539.512,1008.01 540.278,1007.52 541.044,1007.03 541.427,1006.78 542.576,1006.05 543.725,1005.32 544.108,1005.07 \n",
       "  544.874,1004.58 545.64,1004.09 546.023,1003.85 547.172,1003.12 548.32,1002.38 548.703,1002.14 549.469,1001.65 550.235,1001.16 550.618,1000.91 \n",
       "  551.767,1000.18 551.767,1000.18 552.916,999.447 553.299,999.203 554.065,998.713 554.831,998.224 555.214,997.98 556.363,997.246 557.512,996.512 \n",
       "  557.895,996.267 558.661,995.778 559.426,995.289 559.809,995.044 560.958,994.311 562.107,993.577 562.49,993.332 563.256,992.843 564.022,992.354 \n",
       "  564.405,992.109 565.554,991.376 566.703,990.642 567.086,990.397 567.852,989.908 568.618,989.419 569.001,989.174 570.149,988.44 \n",
       "  571.298,987.707 571.681,987.462 572.447,986.973 573.213,986.484 573.596,986.239 574.745,985.505 575.894,984.771 576.277,984.527 577.043,984.038 \n",
       "  577.809,983.549 578.192,983.304 579.341,982.57 580.489,981.836 580.872,981.592 581.638,981.103 582.404,980.613 582.787,980.369 583.936,979.635 \n",
       "  585.085,978.901 585.468,978.657 586.234,978.167 587,977.678 587.383,977.434 588.532,976.7 589.681,975.966 590.064,975.722 \n",
       "  590.829,975.232 591.595,974.743 591.978,974.499 593.127,973.765 594.276,973.031 594.659,972.786 595.425,972.297 596.191,971.808 596.574,971.563 \n",
       "  597.723,970.83 598.872,970.096 599.255,969.851 600.021,969.362 600.787,968.873 601.169,968.628 602.318,967.895 603.467,967.161 \n",
       "  603.85,966.916 604.616,966.427 605.382,965.938 605.765,965.693 606.914,964.959 608.063,964.226 608.446,963.981 609.212,963.492 609.978,963.003 \n",
       "  610.361,962.758 611.51,962.024 611.51,962.024 612.658,961.29 613.041,961.046 613.807,960.557 614.573,960.068 614.956,959.823 616.105,959.089 \n",
       "  617.254,958.355 617.637,958.111 618.403,957.622 619.169,957.132 619.552,956.888 620.701,956.154 621.85,955.42 622.233,955.176 622.998,954.686 \n",
       "  623.764,954.197 624.147,953.953 625.296,953.219 626.445,952.485 626.828,952.241 627.594,951.751 628.36,951.262 628.743,951.018 629.892,950.284 \n",
       "  629.892,950.284 631.041,949.55 631.424,949.305 632.19,948.816 632.956,948.327 633.338,948.082 634.487,947.349 635.636,946.615 636.019,946.37 \n",
       "  636.785,945.881 637.551,945.392 637.934,945.147 639.083,944.414 640.232,943.68 640.615,943.435 641.381,942.946 642.147,942.457 642.53,942.212 \n",
       "  643.678,941.478 644.827,940.745 645.21,940.5 645.976,940.011 646.742,939.522 647.125,939.277 648.274,938.543 649.423,937.81 \n",
       "  649.806,937.565 650.572,937.076 651.338,936.587 651.721,936.342 652.87,935.608 654.019,934.874 654.401,934.63 655.167,934.141 655.933,933.651 \n",
       "  656.316,933.407 657.465,932.673 658.614,931.939 658.997,931.695 659.763,931.205 660.529,930.716 660.912,930.472 662.061,929.738 662.061,929.738 \n",
       "  663.21,929.004 663.593,928.76 664.359,928.27 665.124,927.781 665.507,927.537 666.656,926.803 667.805,926.069 668.188,925.824 668.954,925.335 \n",
       "  669.72,924.846 670.103,924.601 671.252,923.868 672.401,923.134 672.784,922.889 673.55,922.4 674.316,921.911 674.699,921.666 675.847,920.933 \n",
       "  676.996,920.199 677.379,919.954 678.145,919.465 678.911,918.976 679.294,918.731 680.443,917.997 681.592,917.264 681.975,917.019 \n",
       "  682.741,916.53 683.507,916.041 683.89,915.796 685.039,915.062 686.187,914.329 686.57,914.084 687.336,913.595 688.102,913.106 688.485,912.861 \n",
       "  689.634,912.127 690.783,911.393 691.166,911.149 691.932,910.66 692.698,910.17 693.081,909.926 694.23,909.192 695.379,908.458 \n",
       "  695.762,908.214 696.528,907.724 697.293,907.235 697.676,906.991 698.825,906.257 699.974,905.523 700.357,905.279 701.123,904.789 701.889,904.3 \n",
       "  702.272,904.056 703.421,903.322 704.57,902.588 704.953,902.343 705.719,901.854 706.485,901.365 706.868,901.12 708.016,900.387 \n",
       "  709.165,899.653 709.548,899.408 710.314,898.919 711.08,898.43 711.463,898.185 712.612,897.452 713.761,896.718 714.144,896.473 714.91,895.984 \n",
       "  715.676,895.495 716.059,895.25 717.208,894.516 718.356,893.783 718.739,893.538 719.505,893.049 720.271,892.56 720.654,892.315 721.803,891.581 \n",
       "  722.952,890.848 723.335,890.603 724.101,890.114 724.867,889.625 725.25,889.38 726.399,888.646 727.548,887.912 727.931,887.668 \n",
       "  728.696,887.179 729.462,886.689 729.845,886.445 730.994,885.711 732.143,884.977 732.526,884.733 733.292,884.243 734.058,883.754 734.441,883.51 \n",
       "  735.59,882.776 736.739,882.042 737.122,881.798 737.888,881.308 738.654,880.819 739.037,880.575 740.185,879.841 741.334,879.107 \n",
       "  741.717,878.862 742.483,878.373 743.249,877.884 743.632,877.639 744.781,876.906 745.93,876.172 746.313,875.927 747.079,875.438 747.845,874.949 \n",
       "  748.228,874.704 749.377,873.971 750.525,873.237 750.908,872.992 751.674,872.503 752.44,872.014 752.823,871.769 753.972,871.035 \n",
       "  755.121,870.302 755.504,870.057 756.27,869.568 757.036,869.079 757.419,868.834 758.568,868.1 759.717,867.367 760.1,867.122 760.865,866.633 \n",
       "  761.631,866.144 762.014,865.899 763.163,865.165 764.312,864.431 764.695,864.187 765.461,863.698 766.227,863.208 766.61,862.964 767.759,862.23 \n",
       "  768.908,861.496 769.291,861.252 770.057,860.763 770.823,860.273 771.205,860.029 772.354,859.295 773.503,858.561 773.886,858.317 \n",
       "  774.652,857.827 775.418,857.338 775.801,857.094 776.95,856.36 778.099,855.626 778.482,855.381 779.248,854.892 780.014,854.403 780.397,854.158 \n",
       "  781.546,853.425 782.694,852.691 783.077,852.446 783.843,851.957 784.609,851.468 784.992,851.223 786.141,850.49 787.29,849.756 \n",
       "  787.673,849.511 788.439,849.022 789.205,848.533 789.588,848.288 790.737,847.554 791.886,846.821 792.268,846.576 793.034,846.087 793.8,845.598 \n",
       "  794.183,845.353 795.332,844.619 796.481,843.886 796.864,843.641 797.63,843.152 798.396,842.663 798.779,842.418 799.928,841.684 \n",
       "  801.077,840.95 801.46,840.706 802.226,840.217 802.991,839.727 803.374,839.483 804.523,838.749 805.672,838.015 806.055,837.771 806.821,837.282 \n",
       "  807.587,836.792 807.97,836.548 809.119,835.814 810.268,835.08 810.651,834.836 811.417,834.346 812.183,833.857 812.566,833.613 813.714,832.879 \n",
       "  814.863,832.145 815.246,831.9 816.012,831.411 816.778,830.922 817.161,830.677 818.31,829.944 819.459,829.21 819.842,828.965 \n",
       "  820.608,828.476 821.374,827.987 821.757,827.742 822.906,827.009 824.054,826.275 824.437,826.03 825.203,825.541 825.969,825.052 826.352,824.807 \n",
       "  827.501,824.073 828.65,823.34 829.033,823.095 829.799,822.606 830.565,822.117 830.948,821.872 832.097,821.138 833.246,820.405 \n",
       "  833.629,820.16 834.395,819.671 835.16,819.182 835.543,818.937 836.692,818.203 837.841,817.469 838.224,817.225 838.99,816.736 839.756,816.246 \n",
       "  840.139,816.002 841.288,815.268 842.437,814.534 842.82,814.29 843.586,813.801 844.352,813.311 844.735,813.067 845.883,812.333 \n",
       "  847.032,811.599 847.415,811.355 848.181,810.865 848.947,810.376 849.33,810.132 850.479,809.398 851.628,808.664 852.011,808.419 852.777,807.93 \n",
       "  853.543,807.441 853.926,807.197 855.075,806.463 856.223,805.729 856.606,805.484 857.372,804.995 858.138,804.506 858.521,804.261 859.67,803.528 \n",
       "  860.819,802.794 861.202,802.549 861.968,802.06 862.734,801.571 863.117,801.326 864.266,800.592 865.415,799.859 865.798,799.614 \n",
       "  866.563,799.125 867.329,798.636 867.712,798.391 868.861,797.657 870.01,796.924 870.393,796.679 871.159,796.19 871.925,795.701 872.308,795.456 \n",
       "  873.457,794.722 874.606,793.988 874.989,793.744 875.755,793.255 876.521,792.765 876.904,792.521 878.052,791.787 879.201,791.053 \n",
       "  879.584,790.809 880.35,790.32 881.116,789.83 881.499,789.586 882.648,788.852 883.797,788.118 884.18,787.874 884.946,787.384 885.712,786.895 \n",
       "  886.095,786.651 887.244,785.917 888.392,785.183 888.775,784.938 889.541,784.449 890.307,783.96 890.69,783.716 891.839,782.982 \n",
       "  892.988,782.248 893.371,782.003 894.137,781.514 894.903,781.025 895.286,780.78 896.435,780.047 897.584,779.313 897.967,779.068 898.732,778.579 \n",
       "  899.498,778.09 899.881,777.845 901.03,777.111 902.179,776.378 902.562,776.133 903.328,775.644 904.094,775.155 904.477,774.91 905.626,774.176 \n",
       "  906.775,773.443 907.158,773.198 907.924,772.709 908.69,772.22 909.072,771.975 910.221,771.241 911.37,770.507 911.753,770.263 \n",
       "  912.519,769.774 913.285,769.284 913.668,769.04 914.817,768.306 915.966,767.572 916.349,767.328 917.115,766.839 917.881,766.349 918.264,766.105 \n",
       "  919.413,765.371 920.561,764.637 920.944,764.393 921.71,763.903 922.476,763.414 922.859,763.17 924.008,762.436 925.157,761.702 \n",
       "  925.54,761.457 926.306,760.968 927.072,760.479 927.455,760.235 928.604,759.501 929.753,758.767 930.135,758.522 930.901,758.033 931.667,757.544 \n",
       "  932.05,757.299 933.199,756.566 934.348,755.832 934.731,755.587 935.497,755.098 936.263,754.609 936.646,754.364 937.795,753.63 \n",
       "  938.944,752.897 939.327,752.652 940.093,752.163 940.858,751.674 941.241,751.429 942.39,750.695 943.539,749.962 943.922,749.717 944.688,749.228 \n",
       "  945.454,748.739 945.837,748.494 946.986,747.76 948.135,747.026 948.518,746.782 949.284,746.293 950.05,745.804 950.433,745.559 951.581,744.825 \n",
       "  952.73,744.091 953.113,743.847 953.879,743.358 954.645,742.868 955.028,742.624 956.177,741.89 957.326,741.156 957.709,740.912 \n",
       "  958.475,740.422 959.241,739.933 959.624,739.689 960.773,738.955 961.922,738.221 962.304,737.977 963.07,737.487 963.836,736.998 964.219,736.754 \n",
       "  965.368,736.02 966.517,735.286 966.9,735.041 967.666,734.552 968.432,734.063 968.815,733.818 969.964,733.085 971.113,732.351 \n",
       "  971.496,732.106 972.262,731.617 973.027,731.128 973.41,730.883 974.559,730.15 975.708,729.416 976.091,729.171 976.857,728.682 977.623,728.193 \n",
       "  978.006,727.948 979.155,727.214 980.304,726.481 980.687,726.236 981.453,725.747 982.219,725.258 982.602,725.013 983.75,724.279 \n",
       "  984.899,723.545 985.282,723.301 986.048,722.812 986.814,722.323 987.197,722.078 988.346,721.344 989.495,720.61 989.878,720.366 990.644,719.877 \n",
       "  991.41,719.387 991.793,719.143 992.942,718.409 994.09,717.675 994.473,717.431 995.239,716.941 996.005,716.452 996.388,716.208 997.537,715.474 \n",
       "  998.686,714.74 999.069,714.496 999.835,714.006 1000.6,713.517 1000.98,713.273 1002.13,712.539 1003.28,711.805 1003.66,711.56 \n",
       "  1004.43,711.071 1005.2,710.582 1005.58,710.337 1006.73,709.604 1007.88,708.87 1008.26,708.625 1009.03,708.136 1009.79,707.647 1010.17,707.402 \n",
       "  1011.32,706.669 1012.47,705.935 1012.86,705.69 1013.62,705.201 1014.39,704.712 1014.77,704.467 1015.92,703.733 1017.07,703 \n",
       "  1017.45,702.755 1018.22,702.266 1018.98,701.777 1019.37,701.532 1020.51,700.798 1021.66,700.064 1022.05,699.82 1022.81,699.331 1023.58,698.842 \n",
       "  1023.96,698.597 1025.11,697.863 1026.26,697.129 1026.64,696.885 1027.41,696.396 1028.17,695.906 1028.56,695.662 1029.71,694.928 \n",
       "  1030.86,694.194 1031.24,693.95 1032,693.46 1032.77,692.971 1033.15,692.727 1034.3,691.993 1035.45,691.259 1035.83,691.015 1036.6,690.525 \n",
       "  1037.37,690.036 1037.75,689.792 1038.9,689.058 1040.05,688.324 1040.43,688.079 1041.2,687.59 1041.96,687.101 1042.34,686.856 1043.49,686.123 \n",
       "  1044.64,685.389 1045.02,685.144 1045.79,684.655 1046.56,684.166 1046.94,683.921 1048.09,683.188 1049.24,682.454 1049.62,682.209 \n",
       "  1050.39,681.72 1051.15,681.231 1051.54,680.986 1052.68,680.252 1053.83,679.519 1054.22,679.274 1054.98,678.785 1055.75,678.296 1056.13,678.051 \n",
       "  1057.28,677.317 1058.43,676.584 1058.81,676.339 1059.58,675.85 1060.34,675.361 1060.73,675.116 1061.88,674.382 1063.02,673.648 \n",
       "  1063.41,673.404 1064.17,672.915 1064.94,672.425 1065.32,672.181 1066.47,671.447 1067.62,670.713 1068,670.469 1068.77,669.979 1069.53,669.49 \n",
       "  1069.92,669.246 1071.07,668.512 1072.22,667.778 1072.6,667.534 1073.36,667.044 1074.13,666.555 1074.51,666.311 1075.66,665.577 \n",
       "  1076.81,664.843 1077.19,664.598 1077.96,664.109 1078.73,663.62 1079.11,663.375 1080.26,662.642 1081.41,661.908 1081.79,661.663 1082.56,661.174 \n",
       "  1083.32,660.685 1083.7,660.44 1084.85,659.707 1086,658.973 1086.38,658.728 1087.15,658.239 1087.92,657.75 1088.3,657.505 1089.45,656.771 \n",
       "  1090.6,656.038 1090.98,655.793 1091.75,655.304 1092.51,654.815 1092.9,654.57 1094.04,653.836 1095.19,653.103 1095.58,652.858 \n",
       "  1096.34,652.369 1097.11,651.88 1097.49,651.635 1098.64,650.901 1099.79,650.167 1100.17,649.923 1100.94,649.434 1101.7,648.944 1102.09,648.7 \n",
       "  1103.24,647.966 1104.38,647.232 1104.77,646.988 1105.53,646.498 1106.3,646.009 1106.68,645.765 1107.83,645.031 1108.98,644.297 \n",
       "  1109.36,644.053 1110.13,643.563 1110.89,643.074 1111.28,642.83 1112.43,642.096 1113.58,641.362 1113.96,641.117 1114.72,640.628 1115.49,640.139 \n",
       "  1115.87,639.894 1117.02,639.161 1118.17,638.427 1118.55,638.182 1119.32,637.693 1120.09,637.204 1120.47,636.959 1121.62,636.226 \n",
       "  1122.77,635.492 1123.15,635.247 1123.92,634.758 1124.68,634.269 1125.06,634.024 1126.21,633.29 1127.36,632.557 1127.74,632.312 1128.51,631.823 \n",
       "  1129.28,631.334 1129.66,631.089 1130.81,630.355 1131.96,629.622 1132.34,629.377 1133.11,628.888 1133.87,628.399 1134.26,628.154 1135.4,627.42 \n",
       "  1136.55,626.686 1136.94,626.442 1137.7,625.953 1138.47,625.463 1138.85,625.219 1140,624.485 1140,624.485 1141.15,623.751 1141.53,623.507 \n",
       "  1142.3,623.018 1143.06,622.528 1143.45,622.284 1144.6,621.55 1145.74,620.816 1146.13,620.572 1146.89,620.082 1147.66,619.593 1148.04,619.349 \n",
       "  1149.19,618.615 1150.34,617.881 1150.72,617.636 1151.49,617.147 1152.25,616.658 1152.64,616.413 1153.79,615.68 1154.94,614.946 \n",
       "  1155.32,614.701 1156.08,614.212 1156.85,613.723 1157.23,613.478 1158.38,612.745 1159.53,612.011 1159.91,611.766 1160.68,611.277 1161.45,610.788 \n",
       "  1161.83,610.543 1162.98,609.809 1164.13,609.076 1164.51,608.831 1165.28,608.342 1166.04,607.853 1166.42,607.608 1167.57,606.874 \n",
       "  \n",
       "  \"/>\n",
       "<polyline clip-path=\"url(#clip6002)\" style=\"stroke:#000000; stroke-width:4; stroke-opacity:1; fill:none\" points=\"\n",
       "  1167.57,606.874 1168.72,606.141 1169.1,605.896 1169.87,605.407 1170.64,604.918 1171.02,604.673 1172.17,603.939 1173.32,603.205 1173.7,602.961 \n",
       "  1174.47,602.472 1175.23,601.982 1175.62,601.738 1176.76,601.004 1177.91,600.27 1178.3,600.026 1179.06,599.537 1179.83,599.047 1180.21,598.803 \n",
       "  1181.36,598.069 1182.51,597.335 1182.89,597.091 1183.66,596.601 1184.42,596.112 1184.81,595.868 1185.96,595.134 1185.96,595.134 1187.1,594.4 \n",
       "  1187.49,594.155 1188.25,593.666 1189.02,593.177 1189.4,592.932 1190.55,592.199 1191.7,591.465 1192.08,591.22 1192.85,590.731 1193.61,590.242 \n",
       "  1194,589.997 1195.15,589.264 1196.3,588.53 1196.68,588.285 1197.44,587.796 1198.21,587.307 1198.59,587.062 1199.74,586.328 \n",
       "  1200.89,585.595 1201.27,585.35 1202.04,584.861 1202.81,584.372 1203.19,584.127 1204.34,583.393 1205.49,582.66 1205.87,582.415 1206.64,581.926 \n",
       "  1207.4,581.437 1207.78,581.192 1208.93,580.458 1210.08,579.724 1210.47,579.48 1211.23,578.991 1212,578.501 1212.38,578.257 1213.53,577.523 \n",
       "  1214.68,576.789 1215.06,576.545 1215.83,576.056 1216.59,575.566 1216.98,575.322 1218.12,574.588 1219.27,573.854 1219.66,573.61 \n",
       "  1220.42,573.12 1221.19,572.631 1221.57,572.387 1222.72,571.653 1223.87,570.919 1224.25,570.674 1225.02,570.185 1225.78,569.696 1226.17,569.451 \n",
       "  1227.32,568.718 1228.46,567.984 1228.85,567.739 1229.61,567.25 1230.38,566.761 1230.76,566.516 1231.91,565.783 1233.06,565.049 \n",
       "  1233.44,564.804 1234.21,564.315 1234.97,563.826 1235.36,563.581 1236.51,562.847 1237.66,562.114 1238.04,561.869 1238.8,561.38 1239.57,560.891 \n",
       "  1239.95,560.646 1241.1,559.912 1242.25,559.179 1242.63,558.934 1243.4,558.445 1244.17,557.956 1244.55,557.711 1245.7,556.977 \n",
       "  1246.85,556.243 1247.23,555.999 1248,555.51 1248.76,555.02 1249.14,554.776 1250.29,554.042 1251.44,553.308 1251.83,553.064 1252.59,552.575 \n",
       "  1253.36,552.085 1253.74,551.841 1254.89,551.107 1254.89,551.107 1256.04,550.373 1256.42,550.129 1257.19,549.639 1257.95,549.15 1258.34,548.906 1259.48,548.172 \n",
       "  1260.63,547.438 1261.02,547.193 1261.78,546.704 1262.55,546.215 1262.93,545.971 1264.08,545.237 1265.23,544.503 1265.61,544.258 \n",
       "  1266.38,543.769 1267.14,543.28 1267.53,543.035 1268.68,542.302 1269.82,541.568 1270.21,541.323 1270.97,540.834 1271.74,540.345 1272.12,540.1 \n",
       "  1273.27,539.366 1273.27,539.366 1274.42,538.633 1274.8,538.388 1275.57,537.899 1276.33,537.41 1276.72,537.165 1277.87,536.431 1279.02,535.698 \n",
       "  1279.4,535.453 1280.16,534.964 1280.93,534.475 1281.31,534.23 1282.46,533.496 1282.46,533.496 1283.61,532.762 1283.99,532.518 1284.76,532.029 1285.53,531.539 \n",
       "  1285.91,531.295 1287.06,530.561 1288.21,529.827 1288.59,529.583 1289.36,529.094 1290.12,528.604 1290.5,528.36 1291.65,527.626 \n",
       "  1292.8,526.892 1293.19,526.648 1293.95,526.158 1294.72,525.669 1295.1,525.425 1296.25,524.691 1297.4,523.957 1297.78,523.712 1298.55,523.223 \n",
       "  1299.31,522.734 1299.7,522.49 1300.84,521.756 1300.84,521.756 1301.99,521.022 1302.38,520.777 1303.14,520.288 1303.91,519.799 1304.29,519.554 1305.44,518.821 \n",
       "  1306.59,518.087 1306.97,517.842 1307.74,517.353 1308.5,516.864 1308.89,516.619 1310.04,515.885 1311.18,515.152 1311.57,514.907 \n",
       "  1312.33,514.418 1313.1,513.929 1313.48,513.684 1314.63,512.95 1315.78,512.217 1316.16,511.972 1316.93,511.483 1317.69,510.994 1318.08,510.749 \n",
       "  1319.23,510.015 1319.23,510.015 1320.38,509.281 1320.76,509.037 1321.52,508.548 1322.29,508.058 1322.67,507.814 1323.82,507.08 1323.82,507.08 1324.97,506.346 \n",
       "  1325.35,506.102 1326.12,505.613 1326.89,505.123 1327.27,504.879 1328.42,504.145 1329.57,503.411 1329.95,503.167 1330.72,502.677 1331.48,502.188 \n",
       "  1331.86,501.944 1333.01,501.21 1333.01,501.21 1334.16,500.476 1334.55,500.231 1335.31,499.742 1336.08,499.253 1336.46,499.009 1337.61,498.275 1337.61,498.275 \n",
       "  1338.76,497.541 1339.14,497.296 1339.91,496.807 1340.67,496.318 1341.06,496.073 1342.2,495.34 1343.35,494.606 1343.74,494.361 1344.5,493.872 \n",
       "  1345.27,493.383 1345.65,493.138 1346.8,492.405 1346.8,492.405 1347.95,491.671 1348.33,491.426 1349.1,490.937 1349.86,490.448 1350.25,490.203 1351.4,489.469 \n",
       "  1351.4,489.469 1352.54,488.736 1352.93,488.491 1353.69,488.002 1354.46,487.513 1354.84,487.268 1355.99,486.534 1357.14,485.8 1357.52,485.556 \n",
       "  1358.29,485.067 1359.06,484.578 1359.44,484.333 1360.59,483.599 1361.74,482.865 1362.12,482.621 1362.88,482.132 1363.65,481.642 1364.03,481.398 \n",
       "  1365.18,480.664 1366.33,479.93 1366.71,479.686 1367.48,479.196 1368.25,478.707 1368.63,478.463 1369.78,477.729 1369.78,477.729 1370.93,476.995 \n",
       "  1371.31,476.751 1372.08,476.261 1372.84,475.772 1373.22,475.528 1374.37,474.794 1375.52,474.06 1375.91,473.815 1376.67,473.326 1377.44,472.837 \n",
       "  1377.82,472.592 1378.97,471.859 1380.12,471.125 1380.5,470.88 1381.27,470.391 1382.03,469.902 1382.42,469.657 1383.56,468.924 \n",
       "  1384.71,468.19 1385.1,467.945 1385.86,467.456 1386.63,466.967 1387.01,466.722 1388.16,465.988 1389.31,465.255 1389.69,465.01 1390.46,464.521 \n",
       "  1391.22,464.032 1391.61,463.787 1392.76,463.053 \n",
       "  \"/>\n",
       "<defs>\n",
       "  <clipPath id=\"clip6003\">\n",
       "    <rect x=\"1424\" y=\"47\" width=\"49\" height=\"979\"/>\n",
       "  </clipPath>\n",
       "</defs>\n",
       "<polyline clip-path=\"url(#clip6003)\" style=\"stroke:#000000; stroke-width:4; stroke-opacity:1; fill:none\" points=\"\n",
       "  1424.76,368.71 1472.76,368.71 \n",
       "  \"/>\n",
       "<g clip-path=\"url(#clip6000)\">\n",
       "<text style=\"fill:#000000; fill-opacity:1; font-family:Arial,Helvetica Neue,Helvetica,sans-serif; font-size:48px; text-anchor:start;\" transform=\"rotate(0, 1496.76, 941.432)\" x=\"1496.76\" y=\"941.432\">-</text>\n",
       "</g>\n",
       "<g clip-path=\"url(#clip6000)\">\n",
       "<text style=\"fill:#000000; fill-opacity:1; font-family:Arial,Helvetica Neue,Helvetica,sans-serif; font-size:48px; text-anchor:start;\" transform=\"rotate(0, 1524.87, 941.432)\" x=\"1524.87\" y=\"941.432\">40</text>\n",
       "</g>\n",
       "<g clip-path=\"url(#clip6000)\">\n",
       "<text style=\"fill:#000000; fill-opacity:1; font-family:Arial,Helvetica Neue,Helvetica,sans-serif; font-size:48px; text-anchor:start;\" transform=\"rotate(0, 1496.76, 801.665)\" x=\"1496.76\" y=\"801.665\">-</text>\n",
       "</g>\n",
       "<g clip-path=\"url(#clip6000)\">\n",
       "<text style=\"fill:#000000; fill-opacity:1; font-family:Arial,Helvetica Neue,Helvetica,sans-serif; font-size:48px; text-anchor:start;\" transform=\"rotate(0, 1524.87, 801.665)\" x=\"1524.87\" y=\"801.665\">30</text>\n",
       "</g>\n",
       "<g clip-path=\"url(#clip6000)\">\n",
       "<text style=\"fill:#000000; fill-opacity:1; font-family:Arial,Helvetica Neue,Helvetica,sans-serif; font-size:48px; text-anchor:start;\" transform=\"rotate(0, 1496.76, 661.897)\" x=\"1496.76\" y=\"661.897\">-</text>\n",
       "</g>\n",
       "<g clip-path=\"url(#clip6000)\">\n",
       "<text style=\"fill:#000000; fill-opacity:1; font-family:Arial,Helvetica Neue,Helvetica,sans-serif; font-size:48px; text-anchor:start;\" transform=\"rotate(0, 1524.87, 661.897)\" x=\"1524.87\" y=\"661.897\">20</text>\n",
       "</g>\n",
       "<g clip-path=\"url(#clip6000)\">\n",
       "<text style=\"fill:#000000; fill-opacity:1; font-family:Arial,Helvetica Neue,Helvetica,sans-serif; font-size:48px; text-anchor:start;\" transform=\"rotate(0, 1496.76, 522.129)\" x=\"1496.76\" y=\"522.129\">-</text>\n",
       "</g>\n",
       "<g clip-path=\"url(#clip6000)\">\n",
       "<text style=\"fill:#000000; fill-opacity:1; font-family:Arial,Helvetica Neue,Helvetica,sans-serif; font-size:48px; text-anchor:start;\" transform=\"rotate(0, 1524.87, 522.129)\" x=\"1524.87\" y=\"522.129\">10</text>\n",
       "</g>\n",
       "<g clip-path=\"url(#clip6000)\">\n",
       "<text style=\"fill:#000000; fill-opacity:1; font-family:Arial,Helvetica Neue,Helvetica,sans-serif; font-size:48px; text-anchor:start;\" transform=\"rotate(0, 1496.76, 382.361)\" x=\"1496.76\" y=\"382.361\">0</text>\n",
       "</g>\n",
       "<g clip-path=\"url(#clip6000)\">\n",
       "<text style=\"fill:#000000; fill-opacity:1; font-family:Arial,Helvetica Neue,Helvetica,sans-serif; font-size:48px; text-anchor:start;\" transform=\"rotate(0, 1496.76, 242.593)\" x=\"1496.76\" y=\"242.593\">10</text>\n",
       "</g>\n",
       "<g clip-path=\"url(#clip6000)\">\n",
       "<text style=\"fill:#000000; fill-opacity:1; font-family:Arial,Helvetica Neue,Helvetica,sans-serif; font-size:48px; text-anchor:start;\" transform=\"rotate(0, 1496.76, 102.826)\" x=\"1496.76\" y=\"102.826\">20</text>\n",
       "</g>\n",
       "<polyline clip-path=\"url(#clip6000)\" style=\"stroke:#000000; stroke-width:4; stroke-opacity:1; fill:none\" points=\"\n",
       "  1472.76,1025.62 1472.76,927.781 1488.76,927.781 1472.76,927.781 1472.76,788.013 1488.76,788.013 1472.76,788.013 1472.76,648.246 1488.76,648.246 1472.76,648.246 \n",
       "  1472.76,508.478 1488.76,508.478 1472.76,508.478 1472.76,368.71 1488.76,368.71 1472.76,368.71 1472.76,228.942 1488.76,228.942 1472.76,228.942 1472.76,89.1744 \n",
       "  1488.76,89.1744 1472.76,89.1744 1472.76,47.2441 \n",
       "  \"/>\n",
       "</svg>\n"
      ]
     },
     "execution_count": 47,
     "metadata": {},
     "output_type": "execute_result"
    },
    {
     "name": "stderr",
     "output_type": "stream",
     "text": [
      "┌ Warning: Multiple series with different line width share a colorbar. Colorbar may not refelct all series correctly.\n",
      "└ @ Plots /home/pedrohnv/.julia/packages/Plots/h3o4c/src/backends/gr.jl:483\n"
     ]
    }
   ],
   "source": [
    "contour(-5:0.01:5, -5:0.01:5, f3, levels = [0], line = 3,  color=:black)\n",
    "contour!(-5:0.01:5, -5:0.01:5, f4, levels = [0], xlabel = \"x\", ylabel = \"y\", size = (400, 300),  color=:black)"
   ]
  },
  {
   "cell_type": "markdown",
   "metadata": {},
   "source": [
    "De acordo com o gráfico, o ponto solução do sistema de equações é aproximadamente $(3.5, -0.5)$"
   ]
  },
  {
   "cell_type": "markdown",
   "metadata": {},
   "source": [
    "#### SOLUÇÃO SIMBÓLICA"
   ]
  },
  {
   "cell_type": "markdown",
   "metadata": {},
   "source": [
    "**SymPy.jl**\n",
    "\n",
    "A função `solve()` resolve sistemas de equações algébricas lineares e retorna um dicionário contendo as soluções do sistema do tipo `Sym`.\n",
    "\n",
    ". Sintaxe:\n",
    "```julia\n",
    "solve([equação_1 , ..., equação_n] , [var_1,...,var_n])\n",
    "```\n",
    "Sendo:\n",
    "* **`equação_1 , ..., equação_n`**: equações algébricas expressas como expressões simbólicas ou funções genéricas. Não funciona com funções anônimas.\n",
    "* **`var_1, ..., var_n`**: variáveis das equações algébricas.\n",
    "\n",
    "A função `solve()` retorna um vetor de dados simbólicos do tipo `SymPy.Sym`."
   ]
  },
  {
   "cell_type": "code",
   "execution_count": 93,
   "metadata": {
    "scrolled": true
   },
   "outputs": [
    {
     "data": {
      "text/plain": [
       "(x, y)"
      ]
     },
     "execution_count": 93,
     "metadata": {},
     "output_type": "execute_result"
    }
   ],
   "source": [
    "using SymPy\n",
    "@syms x y"
   ]
  },
  {
   "cell_type": "code",
   "execution_count": 94,
   "metadata": {
    "scrolled": false
   },
   "outputs": [
    {
     "data": {
      "text/plain": [
       "Dict{Any,Any} with 2 entries:\n",
       "  y => -6/17\n",
       "  x => 60/17"
      ]
     },
     "execution_count": 94,
     "metadata": {},
     "output_type": "execute_result"
    }
   ],
   "source": [
    "sol_sis = solve([f3(x,y) , f4(x,y) ], [x , y])"
   ]
  },
  {
   "cell_type": "code",
   "execution_count": 95,
   "metadata": {},
   "outputs": [
    {
     "data": {
      "text/plain": [
       "Dict{Any,Any}"
      ]
     },
     "execution_count": 95,
     "metadata": {},
     "output_type": "execute_result"
    }
   ],
   "source": [
    "typeof(sol_sis)"
   ]
  },
  {
   "cell_type": "markdown",
   "metadata": {},
   "source": [
    "A função `solve()` retorna o resultado do tipo `Dict{SymPy.Sym,SymPy.Sym}`. É interessante converter o resultado para `Float`."
   ]
  },
  {
   "cell_type": "code",
   "execution_count": 96,
   "metadata": {
    "scrolled": false
   },
   "outputs": [
    {
     "data": {
      "text/plain": [
       "(3.5294117647058822, -0.35294117647058826)"
      ]
     },
     "execution_count": 96,
     "metadata": {},
     "output_type": "execute_result"
    }
   ],
   "source": [
    "xs , ys = float(sol_sis[x]), float(sol_sis[y])"
   ]
  },
  {
   "cell_type": "markdown",
   "metadata": {},
   "source": [
    "Gráfico com os resultados:"
   ]
  },
  {
   "cell_type": "code",
   "execution_count": 97,
   "metadata": {},
   "outputs": [
    {
     "data": {
      "image/svg+xml": [
       "<?xml version=\"1.0\" encoding=\"utf-8\"?>\n",
       "<svg xmlns=\"http://www.w3.org/2000/svg\" xmlns:xlink=\"http://www.w3.org/1999/xlink\" width=\"400\" height=\"300\" viewBox=\"0 0 1600 1200\">\n",
       "<defs>\n",
       "  <clipPath id=\"clip7200\">\n",
       "    <rect x=\"0\" y=\"0\" width=\"1600\" height=\"1200\"/>\n",
       "  </clipPath>\n",
       "</defs>\n",
       "<path clip-path=\"url(#clip7200)\" d=\"\n",
       "M0 1200 L1600 1200 L1600 0 L0 0  Z\n",
       "  \" fill=\"#ffffff\" fill-rule=\"evenodd\" fill-opacity=\"1\"/>\n",
       "<defs>\n",
       "  <clipPath id=\"clip7201\">\n",
       "    <rect x=\"320\" y=\"0\" width=\"1121\" height=\"1121\"/>\n",
       "  </clipPath>\n",
       "</defs>\n",
       "<path clip-path=\"url(#clip7200)\" d=\"\n",
       "M201.484 1019.66 L1392.76 1019.66 L1392.76 47.2441 L201.484 47.2441  Z\n",
       "  \" fill=\"#ffffff\" fill-rule=\"evenodd\" fill-opacity=\"1\"/>\n",
       "<defs>\n",
       "  <clipPath id=\"clip7202\">\n",
       "    <rect x=\"201\" y=\"47\" width=\"1192\" height=\"973\"/>\n",
       "  </clipPath>\n",
       "</defs>\n",
       "<polyline clip-path=\"url(#clip7202)\" style=\"stroke:#000000; stroke-width:2; stroke-opacity:0.1; fill:none\" points=\"\n",
       "  347.584,1019.66 347.584,47.2441 \n",
       "  \"/>\n",
       "<polyline clip-path=\"url(#clip7202)\" style=\"stroke:#000000; stroke-width:2; stroke-opacity:0.1; fill:none\" points=\"\n",
       "  572.352,1019.66 572.352,47.2441 \n",
       "  \"/>\n",
       "<polyline clip-path=\"url(#clip7202)\" style=\"stroke:#000000; stroke-width:2; stroke-opacity:0.1; fill:none\" points=\"\n",
       "  797.12,1019.66 797.12,47.2441 \n",
       "  \"/>\n",
       "<polyline clip-path=\"url(#clip7202)\" style=\"stroke:#000000; stroke-width:2; stroke-opacity:0.1; fill:none\" points=\"\n",
       "  1021.89,1019.66 1021.89,47.2441 \n",
       "  \"/>\n",
       "<polyline clip-path=\"url(#clip7202)\" style=\"stroke:#000000; stroke-width:2; stroke-opacity:0.1; fill:none\" points=\"\n",
       "  1246.66,1019.66 1246.66,47.2441 \n",
       "  \"/>\n",
       "<polyline clip-path=\"url(#clip7202)\" style=\"stroke:#000000; stroke-width:2; stroke-opacity:0.1; fill:none\" points=\"\n",
       "  201.484,900.404 1392.76,900.404 \n",
       "  \"/>\n",
       "<polyline clip-path=\"url(#clip7202)\" style=\"stroke:#000000; stroke-width:2; stroke-opacity:0.1; fill:none\" points=\"\n",
       "  201.484,716.929 1392.76,716.929 \n",
       "  \"/>\n",
       "<polyline clip-path=\"url(#clip7202)\" style=\"stroke:#000000; stroke-width:2; stroke-opacity:0.1; fill:none\" points=\"\n",
       "  201.484,533.454 1392.76,533.454 \n",
       "  \"/>\n",
       "<polyline clip-path=\"url(#clip7202)\" style=\"stroke:#000000; stroke-width:2; stroke-opacity:0.1; fill:none\" points=\"\n",
       "  201.484,349.978 1392.76,349.978 \n",
       "  \"/>\n",
       "<polyline clip-path=\"url(#clip7202)\" style=\"stroke:#000000; stroke-width:2; stroke-opacity:0.1; fill:none\" points=\"\n",
       "  201.484,166.503 1392.76,166.503 \n",
       "  \"/>\n",
       "<polyline clip-path=\"url(#clip7200)\" style=\"stroke:#000000; stroke-width:4; stroke-opacity:1; fill:none\" points=\"\n",
       "  201.484,1019.66 1392.76,1019.66 \n",
       "  \"/>\n",
       "<polyline clip-path=\"url(#clip7200)\" style=\"stroke:#000000; stroke-width:4; stroke-opacity:1; fill:none\" points=\"\n",
       "  201.484,1019.66 201.484,47.2441 \n",
       "  \"/>\n",
       "<polyline clip-path=\"url(#clip7200)\" style=\"stroke:#000000; stroke-width:4; stroke-opacity:1; fill:none\" points=\"\n",
       "  347.584,1019.66 347.584,1005.08 \n",
       "  \"/>\n",
       "<polyline clip-path=\"url(#clip7200)\" style=\"stroke:#000000; stroke-width:4; stroke-opacity:1; fill:none\" points=\"\n",
       "  572.352,1019.66 572.352,1005.08 \n",
       "  \"/>\n",
       "<polyline clip-path=\"url(#clip7200)\" style=\"stroke:#000000; stroke-width:4; stroke-opacity:1; fill:none\" points=\"\n",
       "  797.12,1019.66 797.12,1005.08 \n",
       "  \"/>\n",
       "<polyline clip-path=\"url(#clip7200)\" style=\"stroke:#000000; stroke-width:4; stroke-opacity:1; fill:none\" points=\"\n",
       "  1021.89,1019.66 1021.89,1005.08 \n",
       "  \"/>\n",
       "<polyline clip-path=\"url(#clip7200)\" style=\"stroke:#000000; stroke-width:4; stroke-opacity:1; fill:none\" points=\"\n",
       "  1246.66,1019.66 1246.66,1005.08 \n",
       "  \"/>\n",
       "<polyline clip-path=\"url(#clip7200)\" style=\"stroke:#000000; stroke-width:4; stroke-opacity:1; fill:none\" points=\"\n",
       "  201.484,900.404 219.353,900.404 \n",
       "  \"/>\n",
       "<polyline clip-path=\"url(#clip7200)\" style=\"stroke:#000000; stroke-width:4; stroke-opacity:1; fill:none\" points=\"\n",
       "  201.484,716.929 219.353,716.929 \n",
       "  \"/>\n",
       "<polyline clip-path=\"url(#clip7200)\" style=\"stroke:#000000; stroke-width:4; stroke-opacity:1; fill:none\" points=\"\n",
       "  201.484,533.454 219.353,533.454 \n",
       "  \"/>\n",
       "<polyline clip-path=\"url(#clip7200)\" style=\"stroke:#000000; stroke-width:4; stroke-opacity:1; fill:none\" points=\"\n",
       "  201.484,349.978 219.353,349.978 \n",
       "  \"/>\n",
       "<polyline clip-path=\"url(#clip7200)\" style=\"stroke:#000000; stroke-width:4; stroke-opacity:1; fill:none\" points=\"\n",
       "  201.484,166.503 219.353,166.503 \n",
       "  \"/>\n",
       "<g clip-path=\"url(#clip7200)\">\n",
       "<text style=\"fill:#000000; fill-opacity:1; font-family:Arial,Helvetica Neue,Helvetica,sans-serif; font-size:48px; text-anchor:middle;\" transform=\"rotate(0, 347.584, 1069.66)\" x=\"347.584\" y=\"1069.66\">-4</text>\n",
       "</g>\n",
       "<g clip-path=\"url(#clip7200)\">\n",
       "<text style=\"fill:#000000; fill-opacity:1; font-family:Arial,Helvetica Neue,Helvetica,sans-serif; font-size:48px; text-anchor:middle;\" transform=\"rotate(0, 572.352, 1069.66)\" x=\"572.352\" y=\"1069.66\">-2</text>\n",
       "</g>\n",
       "<g clip-path=\"url(#clip7200)\">\n",
       "<text style=\"fill:#000000; fill-opacity:1; font-family:Arial,Helvetica Neue,Helvetica,sans-serif; font-size:48px; text-anchor:middle;\" transform=\"rotate(0, 797.12, 1069.66)\" x=\"797.12\" y=\"1069.66\">0</text>\n",
       "</g>\n",
       "<g clip-path=\"url(#clip7200)\">\n",
       "<text style=\"fill:#000000; fill-opacity:1; font-family:Arial,Helvetica Neue,Helvetica,sans-serif; font-size:48px; text-anchor:middle;\" transform=\"rotate(0, 1021.89, 1069.66)\" x=\"1021.89\" y=\"1069.66\">2</text>\n",
       "</g>\n",
       "<g clip-path=\"url(#clip7200)\">\n",
       "<text style=\"fill:#000000; fill-opacity:1; font-family:Arial,Helvetica Neue,Helvetica,sans-serif; font-size:48px; text-anchor:middle;\" transform=\"rotate(0, 1246.66, 1069.66)\" x=\"1246.66\" y=\"1069.66\">4</text>\n",
       "</g>\n",
       "<g clip-path=\"url(#clip7200)\">\n",
       "<text style=\"fill:#000000; fill-opacity:1; font-family:Arial,Helvetica Neue,Helvetica,sans-serif; font-size:48px; text-anchor:end;\" transform=\"rotate(0, 185.484, 917.904)\" x=\"185.484\" y=\"917.904\">-4</text>\n",
       "</g>\n",
       "<g clip-path=\"url(#clip7200)\">\n",
       "<text style=\"fill:#000000; fill-opacity:1; font-family:Arial,Helvetica Neue,Helvetica,sans-serif; font-size:48px; text-anchor:end;\" transform=\"rotate(0, 185.484, 734.429)\" x=\"185.484\" y=\"734.429\">-2</text>\n",
       "</g>\n",
       "<g clip-path=\"url(#clip7200)\">\n",
       "<text style=\"fill:#000000; fill-opacity:1; font-family:Arial,Helvetica Neue,Helvetica,sans-serif; font-size:48px; text-anchor:end;\" transform=\"rotate(0, 185.484, 550.954)\" x=\"185.484\" y=\"550.954\">0</text>\n",
       "</g>\n",
       "<g clip-path=\"url(#clip7200)\">\n",
       "<text style=\"fill:#000000; fill-opacity:1; font-family:Arial,Helvetica Neue,Helvetica,sans-serif; font-size:48px; text-anchor:end;\" transform=\"rotate(0, 185.484, 367.478)\" x=\"185.484\" y=\"367.478\">2</text>\n",
       "</g>\n",
       "<g clip-path=\"url(#clip7200)\">\n",
       "<text style=\"fill:#000000; fill-opacity:1; font-family:Arial,Helvetica Neue,Helvetica,sans-serif; font-size:48px; text-anchor:end;\" transform=\"rotate(0, 185.484, 184.003)\" x=\"185.484\" y=\"184.003\">4</text>\n",
       "</g>\n",
       "<g clip-path=\"url(#clip7200)\">\n",
       "<text style=\"fill:#000000; fill-opacity:1; font-family:Arial,Helvetica Neue,Helvetica,sans-serif; font-size:66px; text-anchor:middle;\" transform=\"rotate(0, 797.12, 1145.53)\" x=\"797.12\" y=\"1145.53\">x</text>\n",
       "</g>\n",
       "<g clip-path=\"url(#clip7200)\">\n",
       "<text style=\"fill:#000000; fill-opacity:1; font-family:Arial,Helvetica Neue,Helvetica,sans-serif; font-size:66px; text-anchor:middle;\" transform=\"rotate(-90, 103.05, 533.454)\" x=\"103.05\" y=\"533.454\">y</text>\n",
       "</g>\n",
       "<polyline clip-path=\"url(#clip7202)\" style=\"stroke:#000000; stroke-width:12; stroke-opacity:1; fill:none\" points=\"\n",
       "  1359.04,655.771 1358.48,655.465 1357.92,655.159 1356.79,654.548 1356.79,654.548 1355.67,653.936 1355.11,653.63 1354.55,653.324 1353.42,652.713 \n",
       "  1352.3,652.101 1351.74,651.795 1351.17,651.49 1350.05,650.878 1348.93,650.266 1348.36,649.961 1347.8,649.655 1346.68,649.043 \n",
       "  1345.55,648.432 1344.99,648.126 1344.43,647.82 1343.31,647.208 1342.18,646.597 1341.62,646.291 1341.06,645.985 1339.94,645.374 \n",
       "  1338.81,644.762 1338.25,644.456 1337.69,644.151 1336.56,643.539 1335.44,642.927 1334.88,642.622 1334.32,642.316 1333.19,641.704 1333.19,641.704 \n",
       "  1332.07,641.093 1331.51,640.787 1330.94,640.481 1329.82,639.869 1329.82,639.869 1328.7,639.258 1328.14,638.952 1327.57,638.646 1326.45,638.035 \n",
       "  1325.33,637.423 1324.76,637.117 1324.2,636.812 1323.08,636.2 1321.95,635.588 1321.39,635.283 1320.83,634.977 1319.71,634.365 \n",
       "  1318.58,633.754 1318.02,633.448 1317.46,633.142 1316.33,632.53 1315.21,631.919 1314.65,631.613 1314.09,631.307 1312.96,630.696 \n",
       "  1311.84,630.084 1311.28,629.778 1310.72,629.473 1309.59,628.861 1309.59,628.861 1308.47,628.249 1307.91,627.944 1307.34,627.638 1306.22,627.026 \n",
       "  1305.1,626.415 1304.53,626.109 1303.97,625.803 1302.85,625.191 1301.72,624.58 1301.16,624.274 1300.6,623.968 1299.48,623.357 \n",
       "  1298.35,622.745 1297.79,622.439 1297.23,622.134 1296.11,621.522 1296.11,621.522 1294.98,620.91 1294.42,620.605 1293.86,620.299 1292.73,619.687 \n",
       "  1291.61,619.076 1291.05,618.77 1290.49,618.464 1289.36,617.852 1288.24,617.241 1287.68,616.935 1287.11,616.629 1285.99,616.018 1285.99,616.018 \n",
       "  1284.87,615.406 1284.31,615.1 1283.74,614.795 1282.62,614.183 1281.5,613.571 1280.93,613.266 1280.37,612.96 1279.25,612.348 \n",
       "  1278.12,611.737 1277.56,611.431 1277,611.125 1275.88,610.513 1274.75,609.902 1274.19,609.596 1273.63,609.29 1272.5,608.679 1272.5,608.679 \n",
       "  1271.38,608.067 1270.82,607.761 1270.26,607.456 1269.13,606.844 1268.01,606.232 1267.45,605.927 1266.89,605.621 1265.76,605.009 \n",
       "  1264.64,604.398 1264.08,604.092 1263.51,603.786 1262.39,603.174 1262.39,603.174 1261.27,602.563 1260.7,602.257 1260.14,601.951 1259.02,601.34 1259.02,601.34 \n",
       "  1257.89,600.728 1257.33,600.422 1256.77,600.116 1255.65,599.505 1254.52,598.893 1253.96,598.588 1253.4,598.282 1252.28,597.67 \n",
       "  1251.15,597.059 1250.59,596.753 1250.03,596.447 1248.9,595.835 1248.9,595.835 1247.78,595.224 1247.22,594.918 1246.66,594.612 1245.53,594.001 \n",
       "  1244.41,593.389 1243.85,593.083 1243.29,592.777 1242.16,592.166 1241.04,591.554 1240.48,591.249 1239.91,590.943 1238.79,590.331 \n",
       "  1237.67,589.72 1237.1,589.414 1236.54,589.108 1235.42,588.496 1234.29,587.885 1233.73,587.579 1233.17,587.273 1232.05,586.662 \n",
       "  1230.92,586.05 1230.36,585.744 1229.8,585.438 1228.68,584.827 1227.55,584.215 1226.99,583.91 1226.43,583.604 1225.3,582.992 \n",
       "  1224.18,582.381 1223.62,582.075 1223.06,581.769 1221.93,581.157 1220.81,580.546 1220.25,580.24 1219.68,579.934 1218.56,579.323 \n",
       "  1217.44,578.711 1216.87,578.405 1216.31,578.099 1215.19,577.488 1214.07,576.876 1213.5,576.57 1212.94,576.265 1211.82,575.653 \n",
       "  1210.69,575.042 1210.13,574.736 1209.57,574.43 1208.45,573.818 1207.32,573.207 1206.76,572.901 1206.2,572.595 1205.07,571.984 \n",
       "  1203.95,571.372 1203.39,571.066 1202.83,570.76 1201.7,570.149 1200.58,569.537 1200.02,569.231 1199.46,568.926 1198.33,568.314 \n",
       "  1197.21,567.703 1196.65,567.397 1196.08,567.091 1194.96,566.479 1193.84,565.868 1193.27,565.562 1192.71,565.256 1191.59,564.645 \n",
       "  1190.46,564.033 1189.9,563.727 1189.34,563.421 1188.22,562.81 1187.09,562.198 1186.53,561.892 1185.97,561.587 1184.85,560.975 \n",
       "  1183.72,560.363 1183.16,560.058 1182.6,559.752 1181.47,559.14 1180.35,558.529 1179.79,558.223 1179.23,557.917 1178.1,557.306 \n",
       "  1176.98,556.694 1176.42,556.388 1175.85,556.082 1174.73,555.471 1173.61,554.859 1173.04,554.553 1172.48,554.248 1171.36,553.636 \n",
       "  1170.24,553.024 1169.67,552.719 1169.11,552.413 1167.99,551.801 1166.86,551.19 1166.3,550.884 1165.74,550.578 1164.62,549.967 \n",
       "  1163.49,549.355 1162.93,549.049 1162.37,548.743 1161.24,548.132 1160.12,547.52 1159.56,547.214 1159,546.909 1157.87,546.297 \n",
       "  1156.75,545.685 1156.19,545.38 1155.63,545.074 1154.5,544.462 1153.38,543.851 1152.82,543.545 1152.25,543.239 1151.13,542.628 \n",
       "  1150.01,542.016 1149.44,541.71 1148.88,541.404 1147.76,540.793 1146.63,540.181 1146.07,539.875 1145.51,539.57 1144.39,538.958 \n",
       "  1143.26,538.346 1142.7,538.041 1142.14,537.735 1141.02,537.123 1139.89,536.512 1139.33,536.206 1138.77,535.9 1137.64,535.289 \n",
       "  1136.52,534.677 1135.96,534.371 1135.4,534.065 1134.27,533.454 1133.15,532.842 1132.59,532.536 1132.02,532.231 1130.9,531.619 \n",
       "  1129.78,531.007 1129.22,530.702 1128.65,530.396 1127.53,529.784 1126.41,529.173 1125.84,528.867 1125.28,528.561 1124.16,527.95 \n",
       "  1123.03,527.338 1122.47,527.032 1121.91,526.726 1120.79,526.115 1119.66,525.503 1119.1,525.197 1118.54,524.892 1117.41,524.28 \n",
       "  1116.29,523.668 1115.73,523.363 1115.17,523.057 1114.04,522.445 1112.92,521.834 1112.36,521.528 1111.8,521.222 1110.67,520.611 \n",
       "  1109.55,519.999 1108.99,519.693 1108.42,519.387 1107.3,518.776 1106.18,518.164 1105.61,517.858 1105.05,517.553 1103.93,516.941 \n",
       "  1102.8,516.329 1102.24,516.024 1101.68,515.718 1100.56,515.106 1099.43,514.495 1098.87,514.189 1098.31,513.883 1097.19,513.271 \n",
       "  1096.06,512.66 1095.5,512.354 1094.94,512.048 1093.81,511.437 1092.69,510.825 1092.13,510.519 1091.57,510.214 1090.44,509.602 \n",
       "  1089.32,508.99 1088.76,508.685 1088.19,508.379 1087.07,507.767 1085.95,507.156 1085.39,506.85 1084.82,506.544 1083.7,505.932 \n",
       "  1082.58,505.321 1082.01,505.015 1081.45,504.709 1080.33,504.098 1079.2,503.486 1078.64,503.18 1078.08,502.875 1076.96,502.263 \n",
       "  1075.83,501.651 1075.27,501.346 1074.71,501.04 1073.58,500.428 1072.46,499.817 1071.9,499.511 1071.34,499.205 1070.21,498.593 \n",
       "  1069.09,497.982 1068.53,497.676 1067.97,497.37 1066.84,496.759 1065.72,496.147 1065.16,495.841 1064.59,495.536 1063.47,494.924 \n",
       "  1062.35,494.312 1061.78,494.007 1061.22,493.701 1060.1,493.089 1058.98,492.478 1058.41,492.172 1057.85,491.866 1056.73,491.254 \n",
       "  1055.6,490.643 1055.04,490.337 1054.48,490.031 1053.36,489.42 1052.23,488.808 1051.67,488.502 1051.11,488.197 1049.98,487.585 \n",
       "  1048.86,486.973 1048.3,486.668 1047.74,486.362 1046.61,485.75 1045.49,485.139 1044.93,484.833 1044.37,484.527 1043.24,483.915 \n",
       "  1042.12,483.304 1041.56,482.998 1040.99,482.692 1039.87,482.081 1038.75,481.469 1038.18,481.163 1037.62,480.858 1036.5,480.246 \n",
       "  1035.37,479.634 1034.81,479.329 1034.25,479.023 1033.13,478.411 1032,477.8 1031.44,477.494 1030.88,477.188 1029.76,476.576 \n",
       "  1028.63,475.965 1028.07,475.659 1027.51,475.353 1026.38,474.742 1025.26,474.13 1024.7,473.824 1024.14,473.518 1023.01,472.907 \n",
       "  1021.89,472.295 1021.33,471.99 1020.76,471.684 1019.64,471.072 1018.52,470.461 1017.95,470.155 1017.39,469.849 1016.27,469.237 \n",
       "  1015.15,468.626 1014.58,468.32 1014.02,468.014 1012.9,467.403 1011.77,466.791 1011.21,466.485 1010.65,466.179 1009.53,465.568 \n",
       "  1008.4,464.956 1007.84,464.651 1007.28,464.345 1006.15,463.733 1005.03,463.122 1004.47,462.816 1003.91,462.51 1002.78,461.898 \n",
       "  1001.66,461.287 1001.1,460.981 1000.54,460.675 999.411,460.064 998.288,459.452 997.726,459.146 997.164,458.84 996.04,458.229 \n",
       "  994.916,457.617 994.354,457.312 993.792,457.006 992.668,456.394 991.545,455.783 990.983,455.477 990.421,455.171 989.297,454.559 \n",
       "  988.173,453.948 987.611,453.642 987.049,453.336 985.925,452.725 984.802,452.113 984.24,451.807 983.678,451.501 982.554,450.89 \n",
       "  981.43,450.278 980.868,449.972 980.306,449.667 979.182,449.055 978.058,448.444 977.497,448.138 976.935,447.832 975.811,447.22 \n",
       "  974.687,446.609 974.125,446.303 973.563,445.997 972.439,445.386 971.315,444.774 970.754,444.468 970.192,444.162 969.068,443.551 \n",
       "  967.944,442.939 967.382,442.633 966.82,442.328 965.696,441.716 964.572,441.105 964.01,440.799 963.449,440.493 962.325,439.881 \n",
       "  961.201,439.27 960.639,438.964 960.077,438.658 958.953,438.047 957.829,437.435 957.267,437.129 956.705,436.823 955.582,436.212 \n",
       "  954.458,435.6 953.896,435.294 953.334,434.989 952.21,434.377 951.086,433.766 950.524,433.46 949.962,433.154 948.839,432.542 \n",
       "  947.715,431.931 947.153,431.625 946.591,431.319 945.467,430.708 944.343,430.096 943.781,429.79 943.219,429.484 942.096,428.873 \n",
       "  940.972,428.261 940.41,427.955 939.848,427.65 938.724,427.038 937.6,426.426 937.038,426.121 936.476,425.815 935.353,425.203 \n",
       "  934.229,424.592 933.667,424.286 933.105,423.98 931.981,423.369 930.857,422.757 930.295,422.451 929.733,422.145 928.609,421.534 \n",
       "  927.486,420.922 926.924,420.616 926.362,420.311 925.238,419.699 924.114,419.087 923.552,418.782 922.99,418.476 921.866,417.864 \n",
       "  920.743,417.253 920.181,416.947 919.619,416.641 918.495,416.03 917.371,415.418 916.809,415.112 916.247,414.806 915.123,414.195 \n",
       "  914,413.583 913.438,413.277 912.876,412.972 911.752,412.36 910.628,411.748 910.066,411.443 909.504,411.137 908.38,410.525 \n",
       "  907.256,409.914 906.695,409.608 906.133,409.302 905.009,408.691 903.885,408.079 903.323,407.773 902.761,407.467 901.637,406.856 \n",
       "  900.513,406.244 899.952,405.938 899.39,405.633 898.266,405.021 897.142,404.409 896.58,404.104 896.018,403.798 894.894,403.186 \n",
       "  893.77,402.575 893.208,402.269 892.647,401.963 891.523,401.352 890.399,400.74 889.837,400.434 889.275,400.128 888.151,399.517 \n",
       "  887.027,398.905 886.465,398.599 885.903,398.294 884.78,397.682 883.656,397.07 883.094,396.765 882.532,396.459 881.408,395.847 \n",
       "  880.284,395.236 879.722,394.93 879.16,394.624 878.037,394.013 876.913,393.401 876.351,393.095 875.789,392.789 874.665,392.178 \n",
       "  873.541,391.566 872.979,391.26 872.417,390.955 871.294,390.343 870.17,389.731 869.608,389.426 869.046,389.12 867.922,388.508 \n",
       "  866.798,387.897 866.236,387.591 865.674,387.285 864.551,386.673 863.427,386.062 862.865,385.756 862.303,385.45 861.179,384.839 \n",
       "  860.055,384.227 859.493,383.921 858.931,383.616 857.807,383.004 856.684,382.392 856.122,382.087 855.56,381.781 854.436,381.169 \n",
       "  853.312,380.558 852.75,380.252 852.188,379.946 851.064,379.334 849.941,378.723 849.379,378.417 848.817,378.111 847.693,377.5 \n",
       "  846.569,376.888 846.007,376.582 845.445,376.277 844.321,375.665 843.198,375.053 842.636,374.748 842.074,374.442 840.95,373.83 \n",
       "  839.826,373.219 839.264,372.913 838.702,372.607 837.578,371.995 836.454,371.384 835.893,371.078 835.331,370.772 834.207,370.161 \n",
       "  833.083,369.549 832.521,369.243 831.959,368.938 830.835,368.326 829.711,367.714 829.15,367.409 828.588,367.103 827.464,366.491 \n",
       "  826.34,365.88 825.778,365.574 825.216,365.268 824.092,364.656 822.968,364.045 822.406,363.739 821.845,363.433 820.721,362.822 \n",
       "  819.597,362.21 819.035,361.904 818.473,361.599 817.349,360.987 816.225,360.375 815.663,360.07 815.101,359.764 813.978,359.152 \n",
       "  812.854,358.541 812.292,358.235 811.73,357.929 810.606,357.317 809.482,356.706 808.92,356.4 808.358,356.094 807.235,355.483 \n",
       "  806.111,354.871 805.549,354.565 804.987,354.26 803.863,353.648 802.739,353.036 802.177,352.731 801.615,352.425 800.492,351.813 \n",
       "  799.368,351.202 798.806,350.896 798.244,350.59 797.12,349.978 795.996,349.367 795.434,349.061 794.872,348.755 793.749,348.144 793.749,348.144 \n",
       "  792.625,347.532 792.063,347.226 791.501,346.921 790.377,346.309 789.253,345.697 788.691,345.392 788.129,345.086 787.005,344.474 \n",
       "  785.882,343.863 785.32,343.557 784.758,343.251 783.634,342.639 782.51,342.028 781.948,341.722 781.386,341.416 780.262,340.805 780.262,340.805 \n",
       "  779.139,340.193 778.577,339.887 778.015,339.581 776.891,338.97 775.767,338.358 775.205,338.053 774.643,337.747 773.519,337.135 \n",
       "  772.396,336.524 771.834,336.218 771.272,335.912 770.148,335.3 769.024,334.689 768.462,334.383 767.9,334.077 766.776,333.466 \n",
       "  765.652,332.854 765.091,332.548 764.529,332.242 763.405,331.631 763.405,331.631 762.281,331.019 761.719,330.714 761.157,330.408 760.033,329.796 \n",
       "  758.909,329.185 758.348,328.879 757.786,328.573 756.662,327.961 756.662,327.961 755.538,327.35 754.976,327.044 754.414,326.738 753.29,326.127 753.29,326.127 \n",
       "  752.166,325.515 751.604,325.209 751.043,324.903 749.919,324.292 748.795,323.68 748.233,323.375 747.671,323.069 746.547,322.457 \n",
       "  745.423,321.846 744.861,321.54 744.299,321.234 743.176,320.622 743.176,320.622 742.052,320.011 741.49,319.705 740.928,319.399 739.804,318.788 \n",
       "  738.68,318.176 738.118,317.87 737.556,317.564 736.433,316.953 735.309,316.341 734.747,316.035 734.185,315.73 733.061,315.118 \n",
       "  731.937,314.507 731.375,314.201 730.813,313.895 729.69,313.283 728.566,312.672 728.004,312.366 727.442,312.06 726.318,311.449 \n",
       "  725.194,310.837 724.632,310.531 724.07,310.225 722.947,309.614 721.823,309.002 721.261,308.696 720.699,308.391 719.575,307.779 \n",
       "  718.451,307.168 717.889,306.862 717.327,306.556 716.203,305.944 715.08,305.333 714.518,305.027 713.956,304.721 712.832,304.11 \n",
       "  711.708,303.498 711.146,303.192 710.584,302.886 709.46,302.275 708.337,301.663 707.775,301.357 707.213,301.052 706.089,300.44 \n",
       "  704.965,299.828 704.403,299.523 703.841,299.217 702.717,298.605 701.594,297.994 701.032,297.688 700.47,297.382 699.346,296.771 \n",
       "  698.222,296.159 697.66,295.853 697.098,295.547 695.974,294.936 695.974,294.936 694.85,294.324 694.289,294.018 693.727,293.713 692.603,293.101 \n",
       "  691.479,292.489 690.917,292.184 690.355,291.878 689.231,291.266 688.107,290.655 687.546,290.349 686.984,290.043 685.86,289.432 \n",
       "  \n",
       "  \"/>\n",
       "<polyline clip-path=\"url(#clip7202)\" style=\"stroke:#000000; stroke-width:12; stroke-opacity:1; fill:none\" points=\"\n",
       "  685.86,289.432 684.736,288.82 684.174,288.514 683.612,288.208 682.488,287.597 682.488,287.597 681.364,286.985 680.802,286.679 680.241,286.374 679.117,285.762 \n",
       "  679.117,285.762 677.993,285.15 677.431,284.845 676.869,284.539 675.745,283.927 674.621,283.316 674.059,283.01 673.497,282.704 672.374,282.093 \n",
       "  671.25,281.481 670.688,281.175 670.126,280.869 669.002,280.258 667.878,279.646 667.316,279.34 666.754,279.035 665.631,278.423 \n",
       "  664.507,277.811 663.945,277.506 663.383,277.2 662.259,276.588 662.259,276.588 661.135,275.977 660.573,275.671 660.011,275.365 658.888,274.754 \n",
       "  658.888,274.754 657.764,274.142 657.202,273.836 656.64,273.53 655.516,272.919 654.392,272.307 653.83,272.001 653.268,271.696 652.145,271.084 \n",
       "  651.021,270.472 650.459,270.167 649.897,269.861 648.773,269.249 647.649,268.638 647.087,268.332 646.525,268.026 645.401,267.415 \n",
       "  644.278,266.803 643.716,266.497 643.154,266.191 642.03,265.58 640.906,264.968 640.344,264.662 639.782,264.357 638.658,263.745 \n",
       "  637.535,263.133 636.973,262.828 636.411,262.522 635.287,261.91 634.163,261.299 633.601,260.993 633.039,260.687 631.915,260.076 \n",
       "  630.792,259.464 630.23,259.158 629.668,258.852 628.544,258.241 627.42,257.629 626.858,257.323 626.296,257.018 625.172,256.406 \n",
       "  624.048,255.794 623.487,255.489 622.925,255.183 621.801,254.571 621.801,254.571 620.677,253.96 620.115,253.654 619.553,253.348 618.429,252.736 \n",
       "  617.305,252.125 616.744,251.819 616.182,251.513 615.058,250.902 613.934,250.29 613.372,249.984 612.81,249.679 611.686,249.067 \n",
       "  610.562,248.455 610,248.15 609.439,247.844 608.315,247.232 607.191,246.621 606.629,246.315 606.067,246.009 604.943,245.397 \n",
       "  603.819,244.786 603.257,244.48 602.695,244.174 601.572,243.563 600.448,242.951 599.886,242.645 599.324,242.34 598.2,241.728 \n",
       "  598.2,241.728 597.076,241.116 596.514,240.811 595.952,240.505 594.829,239.893 594.829,239.893 593.705,239.282 593.143,238.976 592.581,238.67 591.457,238.058 \n",
       "  590.333,237.447 589.771,237.141 589.209,236.835 588.086,236.224 586.962,235.612 586.4,235.306 585.838,235.001 584.714,234.389 \n",
       "  583.59,233.777 583.028,233.472 582.466,233.166 581.343,232.554 580.219,231.943 579.657,231.637 579.095,231.331 577.971,230.719 \n",
       "  577.971,230.719 576.847,230.108 576.285,229.802 575.723,229.496 574.599,228.885 573.476,228.273 572.914,227.967 572.352,227.662 571.228,227.05 \n",
       "  570.104,226.438 569.542,226.133 568.98,225.827 567.856,225.215 566.733,224.604 566.171,224.298 565.609,223.992 564.485,223.38 \n",
       "  563.361,222.769 562.799,222.463 562.237,222.157 561.113,221.546 559.99,220.934 559.428,220.628 558.866,220.323 557.742,219.711 \n",
       "  556.618,219.099 556.056,218.794 555.494,218.488 554.37,217.876 553.246,217.265 552.685,216.959 552.123,216.653 550.999,216.041 \n",
       "  549.875,215.43 549.313,215.124 548.751,214.818 547.627,214.207 546.503,213.595 545.942,213.289 545.38,212.983 544.256,212.372 \n",
       "  543.132,211.76 542.57,211.455 542.008,211.149 540.884,210.537 539.76,209.926 539.198,209.62 538.637,209.314 537.513,208.702 \n",
       "  537.513,208.702 536.389,208.091 535.827,207.785 535.265,207.479 534.141,206.868 533.017,206.256 532.455,205.95 531.893,205.644 530.77,205.033 \n",
       "  529.646,204.421 529.084,204.116 528.522,203.81 527.398,203.198 527.398,203.198 526.274,202.587 525.712,202.281 525.15,201.975 524.027,201.363 \n",
       "  522.903,200.752 522.341,200.446 521.779,200.14 520.655,199.529 519.531,198.917 518.969,198.611 518.407,198.305 517.284,197.694 \n",
       "  516.16,197.082 515.598,196.777 515.036,196.471 513.912,195.859 513.912,195.859 512.788,195.248 512.226,194.942 511.664,194.636 510.541,194.024 \n",
       "  510.541,194.024 509.417,193.413 508.855,193.107 508.293,192.801 507.169,192.19 506.045,191.578 505.483,191.272 504.921,190.966 503.797,190.355 \n",
       "  503.797,190.355 502.674,189.743 502.112,189.437 501.55,189.132 500.426,188.52 500.426,188.52 499.302,187.909 498.74,187.603 498.178,187.297 497.054,186.685 \n",
       "  495.931,186.074 495.369,185.768 494.807,185.462 493.683,184.851 493.683,184.851 492.559,184.239 491.997,183.933 491.435,183.627 490.311,183.016 \n",
       "  490.311,183.016 489.188,182.404 488.626,182.098 488.064,181.793 486.94,181.181 485.816,180.57 485.254,180.264 484.692,179.958 483.568,179.346 \n",
       "  482.444,178.735 481.883,178.429 481.321,178.123 480.197,177.512 479.073,176.9 478.511,176.594 477.949,176.288 476.825,175.677 \n",
       "  476.825,175.677 475.701,175.065 475.14,174.759 474.578,174.454 473.454,173.842 472.33,173.231 471.768,172.925 471.206,172.619 470.082,172.007 \n",
       "  468.958,171.396 468.396,171.09 467.835,170.784 466.711,170.173 466.711,170.173 465.587,169.561 465.025,169.255 464.463,168.949 463.339,168.338 \n",
       "  462.215,167.726 461.653,167.42 461.091,167.115 459.968,166.503 458.844,165.891 458.282,165.586 457.72,165.28 456.596,164.668 \n",
       "  456.596,164.668 455.472,164.057 454.91,163.751 454.348,163.445 453.225,162.834 453.225,162.834 452.101,162.222 451.539,161.916 450.977,161.61 449.853,160.999 \n",
       "  448.729,160.387 448.167,160.081 447.605,159.776 446.482,159.164 445.358,158.552 444.796,158.247 444.234,157.941 443.11,157.329 \n",
       "  443.11,157.329 441.986,156.718 441.424,156.412 440.862,156.106 439.739,155.495 439.739,155.495 438.615,154.883 438.053,154.577 437.491,154.271 436.367,153.66 \n",
       "  435.243,153.048 434.681,152.742 434.119,152.437 432.995,151.825 431.872,151.213 431.31,150.908 430.748,150.602 429.624,149.99 \n",
       "  428.5,149.379 427.938,149.073 427.376,148.767 426.252,148.156 426.252,148.156 425.129,147.544 424.567,147.238 424.005,146.932 422.881,146.321 \n",
       "  421.757,145.709 421.195,145.403 420.633,145.098 419.509,144.486 419.509,144.486 418.386,143.874 417.824,143.569 417.262,143.263 416.138,142.651 \n",
       "  416.138,142.651 415.014,142.04 414.452,141.734 413.89,141.428 412.766,140.817 411.642,140.205 411.081,139.899 410.519,139.593 409.395,138.982 \n",
       "  409.395,138.982 408.271,138.37 407.709,138.064 407.147,137.759 406.023,137.147 406.023,137.147 404.899,136.535 404.338,136.23 403.776,135.924 402.652,135.312 \n",
       "  401.528,134.701 400.966,134.395 400.404,134.089 399.28,133.478 399.28,133.478 398.156,132.866 397.594,132.56 397.033,132.254 395.909,131.643 \n",
       "  395.909,131.643 394.785,131.031 394.223,130.725 393.661,130.42 392.537,129.808 392.537,129.808 391.413,129.196 390.851,128.891 390.29,128.585 389.166,127.973 \n",
       "  388.042,127.362 387.48,127.056 386.918,126.75 385.794,126.138 384.67,125.527 384.108,125.221 383.546,124.915 382.423,124.304 \n",
       "  382.423,124.304 381.299,123.692 380.737,123.386 380.175,123.081 379.051,122.469 379.051,122.469 377.927,121.857 377.365,121.552 376.803,121.246 375.68,120.634 \n",
       "  374.556,120.023 373.994,119.717 373.432,119.411 372.308,118.799 372.308,118.799 371.184,118.188 370.622,117.882 370.06,117.576 368.937,116.965 \n",
       "  367.813,116.353 367.251,116.047 366.689,115.742 365.565,115.13 364.441,114.518 363.879,114.213 363.317,113.907 362.193,113.295 \n",
       "  361.07,112.684 360.508,112.378 359.946,112.072 358.822,111.46 357.698,110.849 357.136,110.543 356.574,110.237 355.45,109.626 \n",
       "  354.327,109.014 353.765,108.708 353.203,108.403 352.079,107.791 352.079,107.791 350.955,107.179 350.393,106.874 349.831,106.568 348.707,105.956 \n",
       "  347.584,105.345 347.022,105.039 346.46,104.733 345.336,104.121 344.212,103.51 343.65,103.204 343.088,102.898 341.964,102.287 \n",
       "  341.964,102.287 340.84,101.675 340.279,101.369 339.717,101.064 338.593,100.452 337.469,99.8404 336.907,99.5346 336.345,99.2288 335.221,98.6172 \n",
       "  334.097,98.0056 333.536,97.6998 332.974,97.394 331.85,96.7824 330.726,96.1709 330.164,95.8651 329.602,95.5593 328.478,94.9477 \n",
       "  327.354,94.3361 326.792,94.0303 326.231,93.7245 325.107,93.1129 325.107,93.1129 323.983,92.5013 323.421,92.1956 322.859,91.8898 321.735,91.2782 \n",
       "  320.611,90.6666 320.049,90.3608 319.488,90.055 318.364,89.4434 317.24,88.8318 316.678,88.526 316.116,88.2203 314.992,87.6087 \n",
       "  314.992,87.6087 313.868,86.9971 313.306,86.6913 312.744,86.3855 311.621,85.7739 310.497,85.1623 309.935,84.8565 309.373,84.5507 308.249,83.9392 \n",
       "  308.249,83.9392 307.125,83.3276 306.563,83.0218 306.001,82.716 304.878,82.1044 303.754,81.4928 303.192,81.187 302.63,80.8812 301.506,80.2697 \n",
       "  300.382,79.6581 299.82,79.3523 299.258,79.0465 298.135,78.4349 298.135,78.4349 297.011,77.8233 296.449,77.5175 295.887,77.2117 294.763,76.6002 \n",
       "  294.763,76.6002 293.639,75.9886 293.077,75.6828 292.515,75.377 291.391,74.7654 \n",
       "  \"/>\n",
       "<polyline clip-path=\"url(#clip7202)\" style=\"stroke:#000000; stroke-width:4; stroke-opacity:1; fill:none\" points=\"\n",
       "  497.429,992.142 498.178,991.683 498.927,991.225 499.302,990.995 500.426,990.307 500.426,990.307 501.55,989.619 501.924,989.39 502.674,988.931 503.423,988.473 \n",
       "  503.797,988.243 504.921,987.555 506.045,986.867 506.42,986.638 507.169,986.179 507.918,985.721 508.293,985.491 509.417,984.803 \n",
       "  510.541,984.115 510.915,983.886 511.664,983.427 512.414,982.968 512.788,982.739 513.912,982.051 515.036,981.363 515.41,981.134 516.16,980.675 \n",
       "  516.909,980.216 517.284,979.987 518.407,979.299 519.531,978.611 519.906,978.382 520.655,977.923 521.404,977.464 521.779,977.235 522.903,976.547 \n",
       "  524.027,975.859 524.401,975.629 525.15,975.171 525.9,974.712 526.274,974.483 527.398,973.795 528.522,973.107 528.897,972.877 \n",
       "  529.646,972.419 530.395,971.96 530.77,971.731 531.893,971.042 531.893,971.042 533.017,970.354 533.392,970.125 534.141,969.666 534.89,969.208 535.265,968.978 \n",
       "  536.389,968.29 537.513,967.602 537.887,967.373 538.637,966.914 539.386,966.456 539.76,966.226 540.884,965.538 542.008,964.85 \n",
       "  542.383,964.621 543.132,964.162 543.881,963.703 544.256,963.474 545.38,962.786 545.38,962.786 546.503,962.098 546.878,961.869 547.627,961.41 548.377,960.951 \n",
       "  548.751,960.722 549.875,960.034 550.999,959.346 551.373,959.117 552.123,958.658 552.872,958.199 553.246,957.97 554.37,957.282 \n",
       "  555.494,956.594 555.869,956.364 556.618,955.906 557.367,955.447 557.742,955.218 558.866,954.53 559.99,953.842 560.364,953.612 561.113,953.154 \n",
       "  561.863,952.695 562.237,952.466 563.361,951.778 564.485,951.09 564.86,950.86 565.609,950.402 566.358,949.943 566.733,949.713 567.856,949.025 \n",
       "  568.98,948.337 569.355,948.108 570.104,947.649 570.853,947.191 571.228,946.961 572.352,946.273 573.476,945.585 573.85,945.356 \n",
       "  574.599,944.897 575.349,944.439 575.723,944.209 576.847,943.521 577.971,942.833 578.346,942.604 579.095,942.145 579.844,941.686 580.219,941.457 \n",
       "  581.343,940.769 582.466,940.081 582.841,939.852 583.59,939.393 584.339,938.934 584.714,938.705 585.838,938.017 586.962,937.329 \n",
       "  587.336,937.1 588.086,936.641 588.835,936.182 589.209,935.953 590.333,935.265 591.457,934.577 591.832,934.347 592.581,933.889 593.33,933.43 \n",
       "  593.705,933.201 594.829,932.513 594.829,932.513 595.952,931.825 596.327,931.595 597.076,931.137 597.826,930.678 598.2,930.449 599.324,929.761 \n",
       "  600.448,929.073 600.822,928.843 601.572,928.384 602.321,927.926 602.695,927.696 603.819,927.008 604.943,926.32 605.318,926.091 606.067,925.632 \n",
       "  606.816,925.174 607.191,924.944 608.315,924.256 609.439,923.568 609.813,923.339 610.562,922.88 611.312,922.422 611.686,922.192 612.81,921.504 \n",
       "  612.81,921.504 613.934,920.816 614.309,920.587 615.058,920.128 615.807,919.669 616.182,919.44 617.305,918.752 618.429,918.064 618.804,917.835 \n",
       "  619.553,917.376 620.302,916.917 620.677,916.688 621.801,916 622.925,915.312 623.299,915.083 624.048,914.624 624.798,914.165 625.172,913.936 \n",
       "  626.296,913.248 626.296,913.248 627.42,912.56 627.795,912.33 628.544,911.872 629.293,911.413 629.668,911.184 630.792,910.496 631.915,909.808 \n",
       "  632.29,909.578 633.039,909.12 633.788,908.661 634.163,908.432 635.287,907.743 636.411,907.055 636.785,906.826 637.535,906.367 638.284,905.909 \n",
       "  638.658,905.679 639.782,904.991 640.906,904.303 641.281,904.074 642.03,903.615 642.779,903.157 643.154,902.927 644.278,902.239 644.278,902.239 \n",
       "  645.401,901.551 645.776,901.322 646.525,900.863 647.275,900.404 647.649,900.175 648.773,899.487 649.897,898.799 650.271,898.57 651.021,898.111 \n",
       "  651.77,897.652 652.145,897.423 653.268,896.735 654.392,896.047 654.767,895.818 655.516,895.359 656.265,894.9 656.64,894.671 657.764,893.983 \n",
       "  658.888,893.295 659.262,893.065 660.011,892.607 660.761,892.148 661.135,891.919 662.259,891.231 663.383,890.543 663.758,890.313 \n",
       "  664.507,889.855 665.256,889.396 665.631,889.167 666.754,888.479 667.878,887.791 668.253,887.561 669.002,887.103 669.751,886.644 670.126,886.414 \n",
       "  671.25,885.726 672.374,885.038 672.748,884.809 673.497,884.35 674.247,883.892 674.621,883.662 675.745,882.974 676.869,882.286 \n",
       "  677.244,882.057 677.993,881.598 678.742,881.14 679.117,880.91 680.241,880.222 681.364,879.534 681.739,879.305 682.488,878.846 683.237,878.387 \n",
       "  683.612,878.158 684.736,877.47 685.86,876.782 686.234,876.553 686.984,876.094 687.733,875.635 688.107,875.406 689.231,874.718 \n",
       "  690.355,874.03 690.73,873.801 691.479,873.342 692.228,872.883 692.603,872.654 693.727,871.966 694.85,871.278 695.225,871.048 695.974,870.59 \n",
       "  696.724,870.131 697.098,869.902 698.222,869.214 699.346,868.526 699.72,868.296 700.47,867.838 701.219,867.379 701.594,867.15 702.717,866.462 \n",
       "  703.841,865.774 704.216,865.544 704.965,865.085 705.714,864.627 706.089,864.397 707.213,863.709 708.337,863.021 708.711,862.792 \n",
       "  709.46,862.333 710.21,861.875 710.584,861.645 711.708,860.957 712.832,860.269 713.207,860.04 713.956,859.581 714.705,859.123 715.08,858.893 \n",
       "  716.203,858.205 717.327,857.517 717.702,857.288 718.451,856.829 719.2,856.37 719.575,856.141 720.699,855.453 721.823,854.765 \n",
       "  722.197,854.536 722.947,854.077 723.696,853.618 724.07,853.389 725.194,852.701 726.318,852.013 726.693,851.784 727.442,851.325 728.191,850.866 \n",
       "  728.566,850.637 729.69,849.949 730.813,849.261 731.188,849.031 731.937,848.573 732.686,848.114 733.061,847.885 734.185,847.197 \n",
       "  735.309,846.509 735.683,846.279 736.433,845.821 737.182,845.362 737.556,845.133 738.68,844.445 739.804,843.756 740.179,843.527 740.928,843.068 \n",
       "  741.677,842.61 742.052,842.38 743.176,841.692 744.299,841.004 744.674,840.775 745.423,840.316 746.173,839.858 746.547,839.628 747.671,838.94 \n",
       "  748.795,838.252 749.169,838.023 749.919,837.564 750.668,837.105 751.043,836.876 752.166,836.188 753.29,835.5 753.665,835.271 \n",
       "  754.414,834.812 755.163,834.353 755.538,834.124 756.662,833.436 757.786,832.748 758.16,832.519 758.909,832.06 759.659,831.601 760.033,831.372 \n",
       "  761.157,830.684 762.281,829.996 762.656,829.766 763.405,829.308 764.154,828.849 764.529,828.62 765.652,827.932 766.776,827.244 \n",
       "  767.151,827.014 767.9,826.556 768.649,826.097 769.024,825.868 770.148,825.18 771.272,824.492 771.646,824.262 772.396,823.804 773.145,823.345 \n",
       "  773.519,823.115 774.643,822.427 775.767,821.739 776.142,821.51 776.891,821.051 777.64,820.593 778.015,820.363 779.139,819.675 \n",
       "  780.262,818.987 780.637,818.758 781.386,818.299 782.135,817.841 782.51,817.611 783.634,816.923 784.758,816.235 785.132,816.006 785.882,815.547 \n",
       "  786.631,815.088 787.005,814.859 788.129,814.171 789.253,813.483 789.628,813.254 790.377,812.795 791.126,812.336 791.501,812.107 792.625,811.419 \n",
       "  793.749,810.731 794.123,810.502 794.872,810.043 795.622,809.584 795.996,809.355 797.12,808.667 798.244,807.979 798.618,807.749 \n",
       "  799.368,807.291 800.117,806.832 800.492,806.603 801.615,805.915 802.739,805.227 803.114,804.997 803.863,804.539 804.612,804.08 804.987,803.851 \n",
       "  806.111,803.163 807.235,802.475 807.609,802.245 808.358,801.786 809.108,801.328 809.482,801.098 810.606,800.41 811.73,799.722 \n",
       "  812.105,799.493 812.854,799.034 813.603,798.576 813.978,798.346 815.101,797.658 816.225,796.97 816.6,796.741 817.349,796.282 818.098,795.824 \n",
       "  818.473,795.594 819.597,794.906 820.721,794.218 821.095,793.989 821.845,793.53 822.594,793.071 822.968,792.842 824.092,792.154 \n",
       "  825.216,791.466 825.591,791.237 826.34,790.778 827.089,790.319 827.464,790.09 828.588,789.402 829.711,788.714 830.086,788.485 830.835,788.026 \n",
       "  831.585,787.567 831.959,787.338 833.083,786.65 834.207,785.962 834.581,785.732 835.331,785.274 836.08,784.815 836.454,784.586 837.578,783.898 \n",
       "  838.702,783.21 839.077,782.98 839.826,782.522 840.575,782.063 840.95,781.834 842.074,781.146 843.198,780.457 843.572,780.228 \n",
       "  844.321,779.769 845.071,779.311 845.445,779.081 846.569,778.393 847.693,777.705 848.068,777.476 848.817,777.017 849.566,776.559 849.941,776.329 \n",
       "  851.064,775.641 852.188,774.953 852.563,774.724 853.312,774.265 854.061,773.806 854.436,773.577 855.56,772.889 856.684,772.201 \n",
       "  857.058,771.972 857.807,771.513 858.557,771.054 858.931,770.825 860.055,770.137 861.179,769.449 861.554,769.22 862.303,768.761 863.052,768.302 \n",
       "  863.427,768.073 864.551,767.385 865.674,766.697 866.049,766.467 866.798,766.009 867.547,765.55 867.922,765.321 869.046,764.633 \n",
       "  870.17,763.945 870.544,763.715 871.294,763.257 872.043,762.798 872.417,762.569 873.541,761.881 874.665,761.193 875.04,760.963 875.789,760.505 \n",
       "  876.538,760.046 876.913,759.816 878.037,759.128 879.16,758.44 879.535,758.211 880.284,757.752 881.034,757.294 881.408,757.064 882.532,756.376 \n",
       "  883.656,755.688 884.03,755.459 884.78,755 885.529,754.542 885.903,754.312 887.027,753.624 888.151,752.936 888.526,752.707 \n",
       "  889.275,752.248 890.024,751.789 890.399,751.56 891.523,750.872 892.647,750.184 893.021,749.955 893.77,749.496 894.52,749.037 894.894,748.808 \n",
       "  896.018,748.12 897.142,747.432 897.517,747.203 898.266,746.744 899.015,746.285 899.39,746.056 900.513,745.368 901.637,744.68 \n",
       "  902.012,744.45 902.761,743.992 903.51,743.533 903.885,743.304 905.009,742.616 906.133,741.928 906.507,741.698 907.256,741.24 908.006,740.781 \n",
       "  908.38,740.552 909.504,739.864 910.628,739.176 911.003,738.946 911.752,738.487 912.501,738.029 912.876,737.799 914,737.111 \n",
       "  915.123,736.423 915.498,736.194 916.247,735.735 916.996,735.277 917.371,735.047 918.495,734.359 919.619,733.671 919.993,733.442 920.743,732.983 \n",
       "  921.492,732.525 921.866,732.295 922.99,731.607 924.114,730.919 924.489,730.69 925.238,730.231 925.987,729.772 926.362,729.543 927.486,728.855 \n",
       "  928.609,728.167 928.984,727.938 929.733,727.479 930.483,727.02 930.857,726.791 931.981,726.103 933.105,725.415 933.479,725.186 \n",
       "  934.229,724.727 934.978,724.268 935.353,724.039 936.476,723.351 937.6,722.663 937.975,722.433 938.724,721.975 939.473,721.516 939.848,721.287 \n",
       "  940.972,720.599 942.096,719.911 942.47,719.681 943.219,719.223 943.969,718.764 944.343,718.535 945.467,717.847 946.591,717.158 \n",
       "  946.966,716.929 947.715,716.47 948.464,716.012 948.839,715.782 949.962,715.094 951.086,714.406 951.461,714.177 952.21,713.718 952.959,713.26 \n",
       "  953.334,713.03 954.458,712.342 955.582,711.654 955.956,711.425 956.705,710.966 957.455,710.507 957.829,710.278 958.953,709.59 \n",
       "  960.077,708.902 960.452,708.673 961.201,708.214 961.95,707.755 962.325,707.526 963.449,706.838 964.572,706.15 964.947,705.921 965.696,705.462 \n",
       "  966.445,705.003 966.82,704.774 967.944,704.086 969.068,703.398 969.442,703.168 970.192,702.71 970.941,702.251 971.315,702.022 972.439,701.334 \n",
       "  973.563,700.646 973.938,700.416 974.687,699.958 975.436,699.499 975.811,699.27 976.935,698.582 978.058,697.894 978.433,697.664 \n",
       "  979.182,697.206 979.932,696.747 980.306,696.517 981.43,695.829 982.554,695.141 982.928,694.912 983.678,694.453 984.427,693.995 984.802,693.765 \n",
       "  985.925,693.077 987.049,692.389 987.424,692.16 988.173,691.701 988.922,691.243 989.297,691.013 990.421,690.325 991.545,689.637 \n",
       "  991.919,689.408 992.668,688.949 993.418,688.49 993.792,688.261 994.916,687.573 996.04,686.885 996.415,686.656 997.164,686.197 997.913,685.738 \n",
       "  998.288,685.509 999.411,684.821 1000.54,684.133 1000.91,683.904 1001.66,683.445 1002.41,682.986 1002.78,682.757 1003.91,682.069 \n",
       "  1005.03,681.381 1005.41,681.151 1006.15,680.693 1006.9,680.234 1007.28,680.005 1008.4,679.317 1009.53,678.629 1009.9,678.399 1010.65,677.941 \n",
       "  1011.4,677.482 1011.77,677.253 1012.9,676.565 1014.02,675.877 1014.4,675.647 1015.15,675.188 1015.89,674.73 1016.27,674.5 1017.39,673.812 \n",
       "  1018.52,673.124 1018.89,672.895 1019.64,672.436 1020.39,671.978 1020.76,671.748 1021.89,671.06 1023.01,670.372 1023.39,670.143 \n",
       "  1024.14,669.684 1024.89,669.226 1025.26,668.996 1026.38,668.308 1027.51,667.62 1027.88,667.391 1028.63,666.932 1029.38,666.473 1029.76,666.244 \n",
       "  1030.88,665.556 1032,664.868 1032.38,664.639 1033.13,664.18 1033.88,663.721 1034.25,663.492 1035.37,662.804 1036.5,662.116 \n",
       "  1036.87,661.887 1037.62,661.428 1038.37,660.969 1038.75,660.74 1039.87,660.052 1040.99,659.364 1041.37,659.134 1042.12,658.676 1042.87,658.217 \n",
       "  1043.24,657.988 1044.37,657.3 1045.49,656.612 1045.86,656.382 1046.61,655.924 1047.36,655.465 1047.74,655.236 1048.86,654.548 \n",
       "  1049.98,653.859 1050.36,653.63 1051.11,653.171 1051.86,652.713 1052.23,652.483 1053.36,651.795 1054.48,651.107 1054.85,650.878 1055.6,650.419 \n",
       "  1056.35,649.961 1056.73,649.731 1057.85,649.043 1058.98,648.355 1059.35,648.126 1060.1,647.667 1060.85,647.208 1061.22,646.979 1062.35,646.291 \n",
       "  1063.47,645.603 1063.85,645.374 1064.59,644.915 1065.34,644.456 1065.72,644.227 1066.84,643.539 1067.97,642.851 1068.34,642.622 \n",
       "  1069.09,642.163 1069.84,641.704 1070.21,641.475 1071.34,640.787 1072.46,640.099 1072.84,639.869 1073.58,639.411 1074.33,638.952 1074.71,638.723 \n",
       "  1075.83,638.035 1076.96,637.347 1077.33,637.117 1078.08,636.659 1078.83,636.2 1079.2,635.971 1080.33,635.283 1081.45,634.595 \n",
       "  1081.83,634.365 1082.58,633.907 1083.32,633.448 1083.7,633.219 1084.82,632.53 1085.95,631.842 1086.32,631.613 1087.07,631.154 1087.82,630.696 \n",
       "  1088.19,630.466 1089.32,629.778 1090.44,629.09 1090.82,628.861 1091.57,628.402 1092.32,627.944 1092.69,627.714 1093.81,627.026 \n",
       "  1094.94,626.338 1095.31,626.109 1096.06,625.65 1096.81,625.191 1097.19,624.962 1098.31,624.274 1099.43,623.586 1099.81,623.357 1100.56,622.898 \n",
       "  1101.31,622.439 1101.68,622.21 1102.8,621.522 1103.93,620.834 1104.3,620.605 1105.05,620.146 1105.8,619.687 1106.18,619.458 1107.3,618.77 \n",
       "  1108.42,618.082 1108.8,617.852 1109.55,617.394 1110.3,616.935 1110.67,616.706 1111.8,616.018 1111.8,616.018 1112.92,615.33 1113.29,615.1 \n",
       "  1114.04,614.642 1114.79,614.183 1115.17,613.954 1116.29,613.266 1117.41,612.578 1117.79,612.348 1118.54,611.889 1119.29,611.431 1119.66,611.201 \n",
       "  1120.79,610.513 1121.91,609.825 1122.28,609.596 1123.03,609.137 1123.78,608.679 1124.16,608.449 1125.28,607.761 1126.41,607.073 \n",
       "  1126.78,606.844 1127.53,606.385 1128.28,605.927 1128.65,605.697 1129.78,605.009 1130.9,604.321 1131.28,604.092 1132.02,603.633 1132.77,603.174 \n",
       "  1133.15,602.945 1134.27,602.257 1135.4,601.569 1135.77,601.34 1136.52,600.881 1137.27,600.422 1137.64,600.193 1138.77,599.505 \n",
       "  \n",
       "  \"/>\n",
       "<polyline clip-path=\"url(#clip7202)\" style=\"stroke:#000000; stroke-width:4; stroke-opacity:1; fill:none\" points=\"\n",
       "  1138.77,599.505 1139.89,598.817 1140.27,598.588 1141.02,598.129 1141.76,597.67 1142.14,597.441 1143.26,596.753 1144.39,596.065 1144.76,595.835 \n",
       "  1145.51,595.377 1146.26,594.918 1146.63,594.689 1147.76,594.001 1148.88,593.313 1149.26,593.083 1150.01,592.625 1150.76,592.166 1151.13,591.937 \n",
       "  1152.25,591.249 1153.38,590.56 1153.75,590.331 1154.5,589.872 1155.25,589.414 1155.63,589.184 1156.75,588.496 1156.75,588.496 1157.87,587.808 \n",
       "  1158.25,587.579 1159,587.12 1159.75,586.662 1160.12,586.432 1161.24,585.744 1162.37,585.056 1162.74,584.827 1163.49,584.368 1164.24,583.91 \n",
       "  1164.62,583.68 1165.74,582.992 1166.86,582.304 1167.24,582.075 1167.99,581.616 1168.74,581.157 1169.11,580.928 1170.24,580.24 \n",
       "  1171.36,579.552 1171.73,579.323 1172.48,578.864 1173.23,578.405 1173.61,578.176 1174.73,577.488 1175.85,576.8 1176.23,576.57 1176.98,576.112 \n",
       "  1177.73,575.653 1178.1,575.424 1179.23,574.736 1180.35,574.048 1180.72,573.818 1181.47,573.36 1182.22,572.901 1182.6,572.672 1183.72,571.984 \n",
       "  1184.85,571.296 1185.22,571.066 1185.97,570.608 1186.72,570.149 1187.09,569.92 1188.22,569.231 1189.34,568.543 1189.72,568.314 \n",
       "  1190.46,567.855 1191.21,567.397 1191.59,567.167 1192.71,566.479 1193.84,565.791 1194.21,565.562 1194.96,565.103 1195.71,564.645 1196.08,564.415 \n",
       "  1197.21,563.727 1198.33,563.039 1198.71,562.81 1199.46,562.351 1200.2,561.892 1200.58,561.663 1201.7,560.975 1202.83,560.287 \n",
       "  1203.2,560.058 1203.95,559.599 1204.7,559.14 1205.07,558.911 1206.2,558.223 1207.32,557.535 1207.7,557.306 1208.45,556.847 1209.2,556.388 \n",
       "  1209.57,556.159 1210.69,555.471 1211.82,554.783 1212.19,554.553 1212.94,554.095 1213.69,553.636 1214.07,553.407 1215.19,552.719 \n",
       "  1216.31,552.031 1216.69,551.801 1217.44,551.343 1218.19,550.884 1218.56,550.655 1219.68,549.967 1220.81,549.279 1221.18,549.049 1221.93,548.59 \n",
       "  1222.68,548.132 1223.06,547.902 1224.18,547.214 1224.18,547.214 1225.3,546.526 1225.68,546.297 1226.43,545.838 1227.18,545.38 1227.55,545.15 1228.68,544.462 \n",
       "  1229.8,543.774 1230.17,543.545 1230.92,543.086 1231.67,542.628 1232.05,542.398 1233.17,541.71 1234.29,541.022 1234.67,540.793 \n",
       "  1235.42,540.334 1236.17,539.875 1236.54,539.646 1237.67,538.958 1238.79,538.27 1239.16,538.041 1239.91,537.582 1240.66,537.123 1241.04,536.894 \n",
       "  1242.16,536.206 1242.16,536.206 1243.29,535.518 1243.66,535.289 1244.41,534.83 1245.16,534.371 1245.53,534.142 1246.66,533.454 1247.78,532.766 \n",
       "  1248.15,532.536 1248.9,532.078 1249.65,531.619 1250.03,531.39 1251.15,530.702 1251.15,530.702 1252.28,530.014 1252.65,529.784 1253.4,529.326 1254.15,528.867 \n",
       "  1254.52,528.638 1255.65,527.95 1256.77,527.261 1257.15,527.032 1257.89,526.573 1258.64,526.115 1259.02,525.885 1260.14,525.197 \n",
       "  1261.27,524.509 1261.64,524.28 1262.39,523.821 1263.14,523.363 1263.51,523.133 1264.64,522.445 1265.76,521.757 1266.14,521.528 1266.89,521.069 \n",
       "  1267.63,520.611 1268.01,520.381 1269.13,519.693 1270.26,519.005 1270.63,518.776 1271.38,518.317 1272.13,517.858 1272.5,517.629 1273.63,516.941 \n",
       "  1274.75,516.253 1275.13,516.024 1275.88,515.565 1276.63,515.106 1277,514.877 1278.12,514.189 1279.25,513.501 1279.62,513.271 \n",
       "  1280.37,512.813 1281.12,512.354 1281.5,512.125 1282.62,511.437 1283.74,510.749 1284.12,510.519 1284.87,510.061 1285.62,509.602 1285.99,509.373 \n",
       "  1287.11,508.685 1288.24,507.997 1288.61,507.767 1289.36,507.309 1290.11,506.85 1290.49,506.621 1291.61,505.932 1291.61,505.932 1292.73,505.244 \n",
       "  1293.11,505.015 1293.86,504.556 1294.61,504.098 1294.98,503.868 1296.11,503.18 1297.23,502.492 1297.6,502.263 1298.35,501.804 1299.1,501.346 \n",
       "  1299.48,501.116 1300.6,500.428 1300.6,500.428 1301.72,499.74 1302.1,499.511 1302.85,499.052 1303.6,498.593 1303.97,498.364 1305.1,497.676 \n",
       "  1306.22,496.988 1306.59,496.759 1307.34,496.3 1308.09,495.841 1308.47,495.612 1309.59,494.924 1310.72,494.236 1311.09,494.007 1311.84,493.548 \n",
       "  1312.59,493.089 1312.96,492.86 1314.09,492.172 1314.09,492.172 1315.21,491.484 1315.59,491.254 1316.33,490.796 1317.08,490.337 1317.46,490.108 1318.58,489.42 \n",
       "  1318.58,489.42 1319.71,488.732 1320.08,488.502 1320.83,488.044 1321.58,487.585 1321.95,487.356 1323.08,486.668 1324.2,485.98 1324.58,485.75 \n",
       "  1325.33,485.291 1326.07,484.833 1326.45,484.603 1327.57,483.915 1328.7,483.227 1329.07,482.998 1329.82,482.539 1330.57,482.081 1330.94,481.851 \n",
       "  1332.07,481.163 1333.19,480.475 1333.57,480.246 1334.32,479.787 1335.07,479.329 1335.44,479.099 1336.56,478.411 1336.56,478.411 1337.69,477.723 \n",
       "  1338.06,477.494 1338.81,477.035 1339.56,476.576 1339.94,476.347 1341.06,475.659 1342.18,474.971 1342.56,474.742 1343.31,474.283 1344.06,473.824 \n",
       "  1344.43,473.595 1345.55,472.907 1346.68,472.219 1347.05,471.99 1347.8,471.531 1348.55,471.072 1348.93,470.843 1350.05,470.155 \n",
       "  1351.17,469.467 1351.55,469.237 1352.3,468.779 1353.05,468.32 1353.42,468.091 1354.55,467.403 1355.67,466.715 1356.04,466.485 1356.79,466.027 \n",
       "  1357.54,465.568 1357.92,465.339 1359.04,464.651 \n",
       "  \"/>\n",
       "<circle clip-path=\"url(#clip7202)\" style=\"fill:#000000; stroke:none; fill-opacity:1\" cx=\"1193.77\" cy=\"565.832\" r=\"18\"/>\n",
       "<circle clip-path=\"url(#clip7202)\" style=\"fill:#3da44d; stroke:none; fill-opacity:1\" cx=\"1193.77\" cy=\"565.832\" r=\"14\"/>\n",
       "<defs>\n",
       "  <clipPath id=\"clip7203\">\n",
       "    <rect x=\"1424\" y=\"47\" width=\"49\" height=\"973\"/>\n",
       "  </clipPath>\n",
       "</defs>\n",
       "<polyline clip-path=\"url(#clip7203)\" style=\"stroke:#000000; stroke-width:4; stroke-opacity:1; fill:none\" points=\"\n",
       "  1424.76,366.753 1472.76,366.753 \n",
       "  \"/>\n",
       "<g clip-path=\"url(#clip7200)\">\n",
       "<text style=\"fill:#000000; fill-opacity:1; font-family:Arial,Helvetica Neue,Helvetica,sans-serif; font-size:48px; text-anchor:start;\" transform=\"rotate(0, 1496.76, 936.073)\" x=\"1496.76\" y=\"936.073\">-</text>\n",
       "</g>\n",
       "<g clip-path=\"url(#clip7200)\">\n",
       "<text style=\"fill:#000000; fill-opacity:1; font-family:Arial,Helvetica Neue,Helvetica,sans-serif; font-size:48px; text-anchor:start;\" transform=\"rotate(0, 1524.87, 936.073)\" x=\"1524.87\" y=\"936.073\">40</text>\n",
       "</g>\n",
       "<g clip-path=\"url(#clip7200)\">\n",
       "<text style=\"fill:#000000; fill-opacity:1; font-family:Arial,Helvetica Neue,Helvetica,sans-serif; font-size:48px; text-anchor:start;\" transform=\"rotate(0, 1496.76, 797.156)\" x=\"1496.76\" y=\"797.156\">-</text>\n",
       "</g>\n",
       "<g clip-path=\"url(#clip7200)\">\n",
       "<text style=\"fill:#000000; fill-opacity:1; font-family:Arial,Helvetica Neue,Helvetica,sans-serif; font-size:48px; text-anchor:start;\" transform=\"rotate(0, 1524.87, 797.156)\" x=\"1524.87\" y=\"797.156\">30</text>\n",
       "</g>\n",
       "<g clip-path=\"url(#clip7200)\">\n",
       "<text style=\"fill:#000000; fill-opacity:1; font-family:Arial,Helvetica Neue,Helvetica,sans-serif; font-size:48px; text-anchor:start;\" transform=\"rotate(0, 1496.76, 658.239)\" x=\"1496.76\" y=\"658.239\">-</text>\n",
       "</g>\n",
       "<g clip-path=\"url(#clip7200)\">\n",
       "<text style=\"fill:#000000; fill-opacity:1; font-family:Arial,Helvetica Neue,Helvetica,sans-serif; font-size:48px; text-anchor:start;\" transform=\"rotate(0, 1524.87, 658.239)\" x=\"1524.87\" y=\"658.239\">20</text>\n",
       "</g>\n",
       "<g clip-path=\"url(#clip7200)\">\n",
       "<text style=\"fill:#000000; fill-opacity:1; font-family:Arial,Helvetica Neue,Helvetica,sans-serif; font-size:48px; text-anchor:start;\" transform=\"rotate(0, 1496.76, 519.322)\" x=\"1496.76\" y=\"519.322\">-</text>\n",
       "</g>\n",
       "<g clip-path=\"url(#clip7200)\">\n",
       "<text style=\"fill:#000000; fill-opacity:1; font-family:Arial,Helvetica Neue,Helvetica,sans-serif; font-size:48px; text-anchor:start;\" transform=\"rotate(0, 1524.87, 519.322)\" x=\"1524.87\" y=\"519.322\">10</text>\n",
       "</g>\n",
       "<g clip-path=\"url(#clip7200)\">\n",
       "<text style=\"fill:#000000; fill-opacity:1; font-family:Arial,Helvetica Neue,Helvetica,sans-serif; font-size:48px; text-anchor:start;\" transform=\"rotate(0, 1496.76, 380.405)\" x=\"1496.76\" y=\"380.405\">0</text>\n",
       "</g>\n",
       "<g clip-path=\"url(#clip7200)\">\n",
       "<text style=\"fill:#000000; fill-opacity:1; font-family:Arial,Helvetica Neue,Helvetica,sans-serif; font-size:48px; text-anchor:start;\" transform=\"rotate(0, 1496.76, 241.487)\" x=\"1496.76\" y=\"241.487\">10</text>\n",
       "</g>\n",
       "<g clip-path=\"url(#clip7200)\">\n",
       "<text style=\"fill:#000000; fill-opacity:1; font-family:Arial,Helvetica Neue,Helvetica,sans-serif; font-size:48px; text-anchor:start;\" transform=\"rotate(0, 1496.76, 102.57)\" x=\"1496.76\" y=\"102.57\">20</text>\n",
       "</g>\n",
       "<polyline clip-path=\"url(#clip7200)\" style=\"stroke:#000000; stroke-width:4; stroke-opacity:1; fill:none\" points=\"\n",
       "  1472.76,1019.66 1472.76,922.422 1488.76,922.422 1472.76,922.422 1472.76,783.504 1488.76,783.504 1472.76,783.504 1472.76,644.587 1488.76,644.587 1472.76,644.587 \n",
       "  1472.76,505.67 1488.76,505.67 1472.76,505.67 1472.76,366.753 1488.76,366.753 1472.76,366.753 1472.76,227.836 1488.76,227.836 1472.76,227.836 1472.76,88.9192 \n",
       "  1488.76,88.9192 1472.76,88.9192 1472.76,47.2441 \n",
       "  \"/>\n",
       "<path clip-path=\"url(#clip7200)\" d=\"\n",
       "M1010.85 203.724 L1344.76 203.724 L1344.76 82.7641 L1010.85 82.7641  Z\n",
       "  \" fill=\"#ffffff\" fill-rule=\"evenodd\" fill-opacity=\"1\"/>\n",
       "<polyline clip-path=\"url(#clip7200)\" style=\"stroke:#000000; stroke-width:4; stroke-opacity:1; fill:none\" points=\"\n",
       "  1010.85,203.724 1344.76,203.724 1344.76,82.7641 1010.85,82.7641 1010.85,203.724 \n",
       "  \"/>\n",
       "<circle clip-path=\"url(#clip7200)\" style=\"fill:#000000; stroke:none; fill-opacity:1\" cx=\"1082.85\" cy=\"143.244\" r=\"25\"/>\n",
       "<circle clip-path=\"url(#clip7200)\" style=\"fill:#3da44d; stroke:none; fill-opacity:1\" cx=\"1082.85\" cy=\"143.244\" r=\"21\"/>\n",
       "<g clip-path=\"url(#clip7200)\">\n",
       "<text style=\"fill:#000000; fill-opacity:1; font-family:Arial,Helvetica Neue,Helvetica,sans-serif; font-size:48px; text-anchor:start;\" transform=\"rotate(0, 1138.85, 160.744)\" x=\"1138.85\" y=\"160.744\">Solução</text>\n",
       "</g>\n",
       "</svg>\n"
      ]
     },
     "execution_count": 97,
     "metadata": {},
     "output_type": "execute_result"
    },
    {
     "name": "stderr",
     "output_type": "stream",
     "text": [
      "┌ Warning: Multiple series with different line width share a colorbar. Colorbar may not refelct all series correctly.\n",
      "└ @ Plots /home/pedrohnv/.julia/packages/Plots/h3o4c/src/backends/gr.jl:483\n"
     ]
    }
   ],
   "source": [
    "contour(-5:0.01:5, -5:0.01:5, f3, levels = [0], line = 3, color=:black)\n",
    "contour!(-5:0.01:5, -5:0.01:5, f4, levels = [0], xlabel = \"x\", ylabel = \"y\", size = (400, 300), color=:black)\n",
    "scatter!((xs, ys), label = \"Solução\")"
   ]
  },
  {
   "cell_type": "code",
   "execution_count": 98,
   "metadata": {},
   "outputs": [
    {
     "name": "stdout",
     "output_type": "stream",
     "text": [
      "search: \u001b[0m\u001b[1mn\u001b[22m\u001b[0m\u001b[1ms\u001b[22m\u001b[0m\u001b[1mo\u001b[22m\u001b[0m\u001b[1ml\u001b[22m\u001b[0m\u001b[1mv\u001b[22m\u001b[0m\u001b[1me\u001b[22m li\u001b[0m\u001b[1mn\u001b[22m\u001b[0m\u001b[1ms\u001b[22m\u001b[0m\u001b[1mo\u001b[22m\u001b[0m\u001b[1ml\u001b[22m\u001b[0m\u001b[1mv\u001b[22m\u001b[0m\u001b[1me\u001b[22m Raizes_\u001b[0m\u001b[1mn\u001b[22m\u001b[0m\u001b[1ms\u001b[22m\u001b[0m\u001b[1mo\u001b[22m\u001b[0m\u001b[1ml\u001b[22m\u001b[0m\u001b[1mv\u001b[22m\u001b[0m\u001b[1me\u001b[22m \u001b[0m\u001b[1mn\u001b[22monlin\u001b[0m\u001b[1ms\u001b[22m\u001b[0m\u001b[1mo\u001b[22m\u001b[0m\u001b[1ml\u001b[22m\u001b[0m\u001b[1mv\u001b[22m\u001b[0m\u001b[1me\u001b[22m\n",
      "\n"
     ]
    },
    {
     "data": {
      "text/latex": [
       "No documentation found.\n",
       "\n",
       "\\texttt{SymPy.nsolve} is a \\texttt{Function}.\n",
       "\n",
       "\\begin{verbatim}\n",
       "# 1 method for generic function \"nsolve\":\n",
       "[1] nsolve(ex::SymPy.SymbolicObject, args...; kwargs...) in SymPy at /home/pedrohnv/.julia/packages/SymPy/u9Hkj/src/importexport.jl:120\n",
       "\\end{verbatim}\n"
      ],
      "text/markdown": [
       "No documentation found.\n",
       "\n",
       "`SymPy.nsolve` is a `Function`.\n",
       "\n",
       "```\n",
       "# 1 method for generic function \"nsolve\":\n",
       "[1] nsolve(ex::SymPy.SymbolicObject, args...; kwargs...) in SymPy at /home/pedrohnv/.julia/packages/SymPy/u9Hkj/src/importexport.jl:120\n",
       "```\n"
      ],
      "text/plain": [
       "  No documentation found.\n",
       "\n",
       "  \u001b[36mSymPy.nsolve\u001b[39m is a \u001b[36mFunction\u001b[39m.\n",
       "\n",
       "\u001b[36m  # 1 method for generic function \"nsolve\":\u001b[39m\n",
       "\u001b[36m  [1] nsolve(ex::SymPy.SymbolicObject, args...; kwargs...) in SymPy at /home/pedrohnv/.julia/packages/SymPy/u9Hkj/src/importexport.jl:120\u001b[39m"
      ]
     },
     "execution_count": 98,
     "metadata": {},
     "output_type": "execute_result"
    }
   ],
   "source": [
    "?nsolve"
   ]
  },
  {
   "cell_type": "markdown",
   "metadata": {},
   "source": [
    "#### SOLUÇÃO NUMÉRICA\n",
    "\n",
    "**Depreciado:** há algum erro talvez proveniente de alterações na sintaxe."
   ]
  },
  {
   "cell_type": "code",
   "execution_count": 99,
   "metadata": {
    "scrolled": false
   },
   "outputs": [
    {
     "ename": "MethodError",
     "evalue": "MethodError: no method matching nsolve(::Array{Sym,1}, ::Array{Sym,1}, ::Array{Int64,1}; prec=7)\nClosest candidates are:\n  nsolve(!Matched::SymPy.SymbolicObject, ::Any...; kwargs...) at /home/pedrohnv/.julia/packages/SymPy/u9Hkj/src/importexport.jl:120",
     "output_type": "error",
     "traceback": [
      "MethodError: no method matching nsolve(::Array{Sym,1}, ::Array{Sym,1}, ::Array{Int64,1}; prec=7)\nClosest candidates are:\n  nsolve(!Matched::SymPy.SymbolicObject, ::Any...; kwargs...) at /home/pedrohnv/.julia/packages/SymPy/u9Hkj/src/importexport.jl:120",
      "",
      "Stacktrace:",
      " [1] top-level scope at In[99]:1"
     ]
    }
   ],
   "source": [
    "nsol_sis = nsolve([f3(x,y) , f4(x,y) ], [x , y], [0, 1], prec = 7)"
   ]
  },
  {
   "cell_type": "code",
   "execution_count": 83,
   "metadata": {},
   "outputs": [
    {
     "data": {
      "text/latex": [
       "\\begin{equation*}2 x + 3 y - 6\\end{equation*}"
      ],
      "text/plain": [
       "2⋅x + 3⋅y - 6"
      ]
     },
     "execution_count": 83,
     "metadata": {},
     "output_type": "execute_result"
    }
   ],
   "source": [
    "f3(x,y)"
   ]
  },
  {
   "cell_type": "code",
   "execution_count": 54,
   "metadata": {},
   "outputs": [
    {
     "ename": "UndefVarError",
     "evalue": "UndefVarError: nsol_sis not defined",
     "output_type": "error",
     "traceback": [
      "UndefVarError: nsol_sis not defined",
      "",
      "Stacktrace:",
      " [1] top-level scope at In[54]:1"
     ]
    }
   ],
   "source": [
    "typeof(nsol_sis)"
   ]
  },
  {
   "cell_type": "markdown",
   "metadata": {},
   "source": [
    "A função nsolve() retorna o resultado do tipo Array{Sym,1}. É interssante converter para um valor numérico (Ex: `Float`). Para acessar a solução $−0.3529412$ use:"
   ]
  },
  {
   "cell_type": "code",
   "execution_count": 55,
   "metadata": {},
   "outputs": [
    {
     "ename": "UndefVarError",
     "evalue": "UndefVarError: nsol_sis not defined",
     "output_type": "error",
     "traceback": [
      "UndefVarError: nsol_sis not defined",
      "",
      "Stacktrace:",
      " [1] top-level scope at In[55]:1"
     ]
    }
   ],
   "source": [
    "nsol_sis[2]"
   ]
  },
  {
   "cell_type": "markdown",
   "metadata": {},
   "source": [
    "### SISTEMAS DE EQUAÇÕES NÃO LINEARES"
   ]
  },
  {
   "cell_type": "markdown",
   "metadata": {},
   "source": [
    "Exemplo: Resolver o seguinte sistema de equações não-lineares abaixo:\n",
    "\n",
    "${\\begin{cases}\n",
    "& xy -2x ~~~~~~~~~ = 0 \\\\ \n",
    "&- x^2 + 8y -2 = 0 \n",
    "\\end{cases}}$"
   ]
  },
  {
   "cell_type": "markdown",
   "metadata": {},
   "source": [
    "**Gráfico**\n",
    "\n",
    "O gráfico permite observar o ponto de cruzamento das curvas que corresponde à solução do problema.  Será utilizado o pacote `Plots.jl` para gerar o gráfico."
   ]
  },
  {
   "cell_type": "code",
   "execution_count": 56,
   "metadata": {},
   "outputs": [
    {
     "data": {
      "text/plain": [
       "f6 (generic function with 1 method)"
      ]
     },
     "execution_count": 56,
     "metadata": {},
     "output_type": "execute_result"
    }
   ],
   "source": [
    "# Funções genéricas\n",
    "f5(x,y) = 3*x + cos(y)  - 5\n",
    "f6(x,y) = -sin(x) + y - 2"
   ]
  },
  {
   "cell_type": "code",
   "execution_count": 57,
   "metadata": {
    "scrolled": true
   },
   "outputs": [
    {
     "data": {
      "text/plain": [
       "Plots.GRBackend()"
      ]
     },
     "execution_count": 57,
     "metadata": {},
     "output_type": "execute_result"
    }
   ],
   "source": [
    "using Plots\n",
    "gr()"
   ]
  },
  {
   "cell_type": "code",
   "execution_count": 58,
   "metadata": {
    "scrolled": true
   },
   "outputs": [
    {
     "data": {
      "image/svg+xml": [
       "<?xml version=\"1.0\" encoding=\"utf-8\"?>\n",
       "<svg xmlns=\"http://www.w3.org/2000/svg\" xmlns:xlink=\"http://www.w3.org/1999/xlink\" width=\"400\" height=\"300\" viewBox=\"0 0 1600 1200\">\n",
       "<defs>\n",
       "  <clipPath id=\"clip6800\">\n",
       "    <rect x=\"0\" y=\"0\" width=\"1600\" height=\"1200\"/>\n",
       "  </clipPath>\n",
       "</defs>\n",
       "<path clip-path=\"url(#clip6800)\" d=\"\n",
       "M0 1200 L1600 1200 L1600 0 L0 0  Z\n",
       "  \" fill=\"#ffffff\" fill-rule=\"evenodd\" fill-opacity=\"1\"/>\n",
       "<defs>\n",
       "  <clipPath id=\"clip6801\">\n",
       "    <rect x=\"320\" y=\"0\" width=\"1121\" height=\"1121\"/>\n",
       "  </clipPath>\n",
       "</defs>\n",
       "<path clip-path=\"url(#clip6800)\" d=\"\n",
       "M241.628 1019.66 L1392.76 1019.66 L1392.76 47.2441 L241.628 47.2441  Z\n",
       "  \" fill=\"#ffffff\" fill-rule=\"evenodd\" fill-opacity=\"1\"/>\n",
       "<defs>\n",
       "  <clipPath id=\"clip6802\">\n",
       "    <rect x=\"241\" y=\"47\" width=\"1152\" height=\"973\"/>\n",
       "  </clipPath>\n",
       "</defs>\n",
       "<polyline clip-path=\"url(#clip6802)\" style=\"stroke:#000000; stroke-width:2; stroke-opacity:0.1; fill:none\" points=\"\n",
       "  241.628,1019.66 241.628,47.2441 \n",
       "  \"/>\n",
       "<polyline clip-path=\"url(#clip6802)\" style=\"stroke:#000000; stroke-width:2; stroke-opacity:0.1; fill:none\" points=\"\n",
       "  529.41,1019.66 529.41,47.2441 \n",
       "  \"/>\n",
       "<polyline clip-path=\"url(#clip6802)\" style=\"stroke:#000000; stroke-width:2; stroke-opacity:0.1; fill:none\" points=\"\n",
       "  817.192,1019.66 817.192,47.2441 \n",
       "  \"/>\n",
       "<polyline clip-path=\"url(#clip6802)\" style=\"stroke:#000000; stroke-width:2; stroke-opacity:0.1; fill:none\" points=\"\n",
       "  1104.97,1019.66 1104.97,47.2441 \n",
       "  \"/>\n",
       "<polyline clip-path=\"url(#clip6802)\" style=\"stroke:#000000; stroke-width:2; stroke-opacity:0.1; fill:none\" points=\"\n",
       "  1392.76,1019.66 1392.76,47.2441 \n",
       "  \"/>\n",
       "<polyline clip-path=\"url(#clip6802)\" style=\"stroke:#000000; stroke-width:2; stroke-opacity:0.1; fill:none\" points=\"\n",
       "  241.628,1019.66 1392.76,1019.66 \n",
       "  \"/>\n",
       "<polyline clip-path=\"url(#clip6802)\" style=\"stroke:#000000; stroke-width:2; stroke-opacity:0.1; fill:none\" points=\"\n",
       "  241.628,776.559 1392.76,776.559 \n",
       "  \"/>\n",
       "<polyline clip-path=\"url(#clip6802)\" style=\"stroke:#000000; stroke-width:2; stroke-opacity:0.1; fill:none\" points=\"\n",
       "  241.628,533.454 1392.76,533.454 \n",
       "  \"/>\n",
       "<polyline clip-path=\"url(#clip6802)\" style=\"stroke:#000000; stroke-width:2; stroke-opacity:0.1; fill:none\" points=\"\n",
       "  241.628,290.349 1392.76,290.349 \n",
       "  \"/>\n",
       "<polyline clip-path=\"url(#clip6802)\" style=\"stroke:#000000; stroke-width:2; stroke-opacity:0.1; fill:none\" points=\"\n",
       "  241.628,47.2441 1392.76,47.2441 \n",
       "  \"/>\n",
       "<polyline clip-path=\"url(#clip6800)\" style=\"stroke:#000000; stroke-width:4; stroke-opacity:1; fill:none\" points=\"\n",
       "  241.628,1019.66 1392.76,1019.66 \n",
       "  \"/>\n",
       "<polyline clip-path=\"url(#clip6800)\" style=\"stroke:#000000; stroke-width:4; stroke-opacity:1; fill:none\" points=\"\n",
       "  241.628,1019.66 241.628,47.2441 \n",
       "  \"/>\n",
       "<polyline clip-path=\"url(#clip6800)\" style=\"stroke:#000000; stroke-width:4; stroke-opacity:1; fill:none\" points=\"\n",
       "  241.628,1019.66 241.628,1005.08 \n",
       "  \"/>\n",
       "<polyline clip-path=\"url(#clip6800)\" style=\"stroke:#000000; stroke-width:4; stroke-opacity:1; fill:none\" points=\"\n",
       "  529.41,1019.66 529.41,1005.08 \n",
       "  \"/>\n",
       "<polyline clip-path=\"url(#clip6800)\" style=\"stroke:#000000; stroke-width:4; stroke-opacity:1; fill:none\" points=\"\n",
       "  817.192,1019.66 817.192,1005.08 \n",
       "  \"/>\n",
       "<polyline clip-path=\"url(#clip6800)\" style=\"stroke:#000000; stroke-width:4; stroke-opacity:1; fill:none\" points=\"\n",
       "  1104.97,1019.66 1104.97,1005.08 \n",
       "  \"/>\n",
       "<polyline clip-path=\"url(#clip6800)\" style=\"stroke:#000000; stroke-width:4; stroke-opacity:1; fill:none\" points=\"\n",
       "  1392.76,1019.66 1392.76,1005.08 \n",
       "  \"/>\n",
       "<polyline clip-path=\"url(#clip6800)\" style=\"stroke:#000000; stroke-width:4; stroke-opacity:1; fill:none\" points=\"\n",
       "  241.628,1019.66 258.895,1019.66 \n",
       "  \"/>\n",
       "<polyline clip-path=\"url(#clip6800)\" style=\"stroke:#000000; stroke-width:4; stroke-opacity:1; fill:none\" points=\"\n",
       "  241.628,776.559 258.895,776.559 \n",
       "  \"/>\n",
       "<polyline clip-path=\"url(#clip6800)\" style=\"stroke:#000000; stroke-width:4; stroke-opacity:1; fill:none\" points=\"\n",
       "  241.628,533.454 258.895,533.454 \n",
       "  \"/>\n",
       "<polyline clip-path=\"url(#clip6800)\" style=\"stroke:#000000; stroke-width:4; stroke-opacity:1; fill:none\" points=\"\n",
       "  241.628,290.349 258.895,290.349 \n",
       "  \"/>\n",
       "<polyline clip-path=\"url(#clip6800)\" style=\"stroke:#000000; stroke-width:4; stroke-opacity:1; fill:none\" points=\"\n",
       "  241.628,47.2441 258.895,47.2441 \n",
       "  \"/>\n",
       "<g clip-path=\"url(#clip6800)\">\n",
       "<text style=\"fill:#000000; fill-opacity:1; font-family:Arial,Helvetica Neue,Helvetica,sans-serif; font-size:48px; text-anchor:middle;\" transform=\"rotate(0, 241.628, 1069.66)\" x=\"241.628\" y=\"1069.66\">-5.0</text>\n",
       "</g>\n",
       "<g clip-path=\"url(#clip6800)\">\n",
       "<text style=\"fill:#000000; fill-opacity:1; font-family:Arial,Helvetica Neue,Helvetica,sans-serif; font-size:48px; text-anchor:middle;\" transform=\"rotate(0, 529.41, 1069.66)\" x=\"529.41\" y=\"1069.66\">-2.5</text>\n",
       "</g>\n",
       "<g clip-path=\"url(#clip6800)\">\n",
       "<text style=\"fill:#000000; fill-opacity:1; font-family:Arial,Helvetica Neue,Helvetica,sans-serif; font-size:48px; text-anchor:middle;\" transform=\"rotate(0, 817.192, 1069.66)\" x=\"817.192\" y=\"1069.66\">0.0</text>\n",
       "</g>\n",
       "<g clip-path=\"url(#clip6800)\">\n",
       "<text style=\"fill:#000000; fill-opacity:1; font-family:Arial,Helvetica Neue,Helvetica,sans-serif; font-size:48px; text-anchor:middle;\" transform=\"rotate(0, 1104.97, 1069.66)\" x=\"1104.97\" y=\"1069.66\">2.5</text>\n",
       "</g>\n",
       "<g clip-path=\"url(#clip6800)\">\n",
       "<text style=\"fill:#000000; fill-opacity:1; font-family:Arial,Helvetica Neue,Helvetica,sans-serif; font-size:48px; text-anchor:middle;\" transform=\"rotate(0, 1392.76, 1069.66)\" x=\"1392.76\" y=\"1069.66\">5.0</text>\n",
       "</g>\n",
       "<g clip-path=\"url(#clip6800)\">\n",
       "<text style=\"fill:#000000; fill-opacity:1; font-family:Arial,Helvetica Neue,Helvetica,sans-serif; font-size:48px; text-anchor:end;\" transform=\"rotate(0, 225.628, 1037.16)\" x=\"225.628\" y=\"1037.16\">-5.0</text>\n",
       "</g>\n",
       "<g clip-path=\"url(#clip6800)\">\n",
       "<text style=\"fill:#000000; fill-opacity:1; font-family:Arial,Helvetica Neue,Helvetica,sans-serif; font-size:48px; text-anchor:end;\" transform=\"rotate(0, 225.628, 794.059)\" x=\"225.628\" y=\"794.059\">-2.5</text>\n",
       "</g>\n",
       "<g clip-path=\"url(#clip6800)\">\n",
       "<text style=\"fill:#000000; fill-opacity:1; font-family:Arial,Helvetica Neue,Helvetica,sans-serif; font-size:48px; text-anchor:end;\" transform=\"rotate(0, 225.628, 550.954)\" x=\"225.628\" y=\"550.954\">0.0</text>\n",
       "</g>\n",
       "<g clip-path=\"url(#clip6800)\">\n",
       "<text style=\"fill:#000000; fill-opacity:1; font-family:Arial,Helvetica Neue,Helvetica,sans-serif; font-size:48px; text-anchor:end;\" transform=\"rotate(0, 225.628, 307.849)\" x=\"225.628\" y=\"307.849\">2.5</text>\n",
       "</g>\n",
       "<g clip-path=\"url(#clip6800)\">\n",
       "<text style=\"fill:#000000; fill-opacity:1; font-family:Arial,Helvetica Neue,Helvetica,sans-serif; font-size:48px; text-anchor:end;\" transform=\"rotate(0, 225.628, 64.7441)\" x=\"225.628\" y=\"64.7441\">5.0</text>\n",
       "</g>\n",
       "<g clip-path=\"url(#clip6800)\">\n",
       "<text style=\"fill:#000000; fill-opacity:1; font-family:Arial,Helvetica Neue,Helvetica,sans-serif; font-size:66px; text-anchor:middle;\" transform=\"rotate(0, 817.192, 1145.53)\" x=\"817.192\" y=\"1145.53\">x</text>\n",
       "</g>\n",
       "<g clip-path=\"url(#clip6800)\">\n",
       "<text style=\"fill:#000000; fill-opacity:1; font-family:Arial,Helvetica Neue,Helvetica,sans-serif; font-size:66px; text-anchor:middle;\" transform=\"rotate(-90, 103.05, 533.454)\" x=\"103.05\" y=\"533.454\">y</text>\n",
       "</g>\n",
       "<polyline clip-path=\"url(#clip6802)\" style=\"stroke:#ea6428; stroke-width:12; stroke-opacity:1; fill:none\" points=\"\n",
       "  998.162,1019.66 998.531,1018.69 998.9,1017.72 999.07,1017.27 999.271,1016.75 999.642,1015.77 1000.01,1014.8 1000.22,1014.26 1000.39,1013.83 1000.76,1012.86 \n",
       "  1001.14,1011.88 1001.37,1011.28 1001.51,1010.91 1001.89,1009.94 1002.27,1008.97 1002.52,1008.31 1002.65,1007.99 1003.02,1007.02 1003.4,1006.05 1003.67,1005.35 \n",
       "  1003.78,1005.08 1004.16,1004.1 1004.54,1003.13 1004.83,1002.41 1004.93,1002.16 1005.31,1001.19 1005.69,1000.22 1005.98,999.483 1006.07,999.243 1006.45,998.27 \n",
       "  1006.84,997.298 1007.13,996.56 1007.22,996.325 1007.6,995.353 1007.99,994.381 1008.28,993.641 1008.37,993.408 1008.75,992.436 1009.14,991.463 1009.43,990.723 \n",
       "  1009.52,990.491 1009.91,989.518 1010.29,988.546 1010.58,987.805 1010.67,987.574 1011.06,986.601 1011.44,985.629 1011.73,984.883 1011.82,984.656 1012.2,983.684 \n",
       "  1012.59,982.712 1012.88,981.955 1012.97,981.739 1013.35,980.767 1013.73,979.794 1014.03,979.018 1014.11,978.822 1014.49,977.849 1014.87,976.877 1015.19,976.07 \n",
       "  1015.25,975.905 1015.63,974.932 1016.01,973.96 1016.34,973.107 1016.38,972.987 1016.76,972.015 1017.13,971.042 1017.49,970.126 1017.51,970.07 1017.88,969.098 \n",
       "  1018.26,968.125 1018.63,967.153 1018.64,967.124 1019,966.18 1019.37,965.208 1019.74,964.236 1019.79,964.099 1020.11,963.263 1020.47,962.291 1020.84,961.318 \n",
       "  1020.94,961.045 1021.2,960.346 1021.57,959.373 1021.93,958.401 1022.09,957.96 1022.29,957.429 1022.65,956.456 1023.01,955.484 1023.24,954.84 1023.36,954.511 \n",
       "  1023.72,953.539 1024.07,952.567 1024.39,951.679 1024.43,951.594 1024.78,950.622 1025.13,949.649 1025.47,948.677 1025.55,948.472 1025.82,947.704 1026.16,946.732 \n",
       "  1026.51,945.76 1026.7,945.214 1026.85,944.787 1027.19,943.815 1027.52,942.842 1027.85,941.899 1027.86,941.87 1028.19,940.897 1028.52,939.925 1028.85,938.953 \n",
       "  1029,938.518 1029.18,937.98 1029.51,937.008 1029.83,936.035 1030.15,935.065 1030.15,935.063 1030.47,934.091 1030.79,933.118 1031.1,932.146 1031.3,931.528 \n",
       "  1031.42,931.173 1031.73,930.201 1032.03,929.228 1032.34,928.256 1032.45,927.898 1032.64,927.284 1032.95,926.311 1033.25,925.339 1033.54,924.366 1033.6,924.161 \n",
       "  1033.84,923.394 1034.13,922.422 1034.42,921.449 1034.7,920.477 1034.76,920.299 1034.99,919.504 1035.27,918.532 1035.55,917.559 1035.82,916.587 1035.91,916.293 \n",
       "  1036.1,915.615 1036.37,914.642 1036.64,913.67 1036.9,912.697 1037.06,912.119 1037.16,911.725 1037.42,910.752 1037.68,909.78 1037.93,908.808 1038.19,907.835 \n",
       "  1038.21,907.745 1038.43,906.863 1038.68,905.89 1038.92,904.918 1039.16,903.946 1039.36,903.126 1039.4,902.973 1039.63,902.001 1039.86,901.028 1040.09,900.056 \n",
       "  1040.31,899.083 1040.51,898.206 1040.53,898.111 1040.75,897.139 1040.96,896.166 1041.18,895.194 1041.38,894.221 1041.59,893.249 1041.66,892.897 1041.79,892.277 \n",
       "  1041.99,891.304 1042.18,890.332 1042.38,889.359 1042.56,888.387 1042.75,887.414 1042.81,887.075 1042.93,886.442 1043.11,885.47 1043.28,884.497 1043.46,883.525 \n",
       "  1043.62,882.552 1043.79,881.58 1043.95,880.607 1043.96,880.52 1044.11,879.635 1044.26,878.663 1044.41,877.69 1044.56,876.718 1044.7,875.745 1044.84,874.773 \n",
       "  1044.98,873.801 1045.11,872.828 1045.12,872.804 1045.24,871.856 1045.37,870.883 1045.49,869.911 1045.61,868.938 1045.72,867.966 1045.83,866.994 1045.94,866.021 \n",
       "  1046.04,865.049 1046.14,864.076 1046.24,863.104 1046.27,862.824 1046.33,862.132 1046.42,861.159 1046.51,860.187 1046.59,859.214 1046.66,858.242 1046.74,857.269 \n",
       "  1046.81,856.297 1046.87,855.325 1046.94,854.352 1047,853.38 1047.05,852.407 1047.1,851.435 1047.15,850.462 1047.19,849.49 1047.23,848.518 1047.27,847.545 \n",
       "  1047.3,846.573 1047.33,845.6 1047.35,844.628 1047.37,843.656 1047.39,842.683 1047.4,841.711 1047.41,840.738 1047.42,839.766 1047.42,838.793 1047.41,837.821 \n",
       "  1047.41,836.849 1047.4,835.876 1047.38,834.904 1047.37,833.931 1047.34,832.959 1047.32,831.987 1047.29,831.014 1047.26,830.042 1047.22,829.069 1047.18,828.097 \n",
       "  1047.13,827.124 1047.09,826.152 1047.03,825.18 1046.98,824.207 1046.92,823.235 1046.85,822.262 1046.79,821.29 1046.72,820.317 1046.64,819.345 1046.56,818.373 \n",
       "  1046.48,817.4 1046.39,816.428 1046.3,815.455 1046.27,815.074 1046.21,814.483 1046.11,813.511 1046.01,812.538 1045.91,811.566 1045.8,810.593 1045.69,809.621 \n",
       "  1045.57,808.648 1045.45,807.676 1045.33,806.704 1045.2,805.731 1045.12,805.095 1045.07,804.759 1044.94,803.786 1044.8,802.814 1044.66,801.842 1044.51,800.869 \n",
       "  1044.36,799.897 1044.21,798.924 1044.06,797.952 1043.96,797.379 1043.9,796.979 1043.74,796.007 1043.57,795.035 1043.4,794.062 1043.23,793.09 1043.05,792.117 \n",
       "  1042.87,791.145 1042.81,790.822 1042.69,790.172 1042.5,789.2 1042.32,788.228 1042.12,787.255 1041.93,786.283 1041.73,785.31 1041.66,784.999 1041.52,784.338 \n",
       "  1041.32,783.366 1041.11,782.393 1040.9,781.421 1040.68,780.448 1040.51,779.692 1040.46,779.476 1040.24,778.503 1040.02,777.531 1039.79,776.559 1039.56,775.586 \n",
       "  1039.36,774.771 1039.32,774.614 1039.08,773.641 1038.84,772.669 1038.6,771.697 1038.35,770.724 1038.21,770.153 1038.11,769.752 1037.85,768.779 1037.6,767.807 \n",
       "  1037.34,766.834 1037.08,765.862 1037.06,765.777 1036.82,764.89 1036.55,763.917 1036.28,762.945 1036.01,761.972 1035.91,761.603 1035.74,761 1035.46,760.027 \n",
       "  1035.18,759.055 1034.9,758.083 1034.76,757.598 1034.61,757.11 1034.32,756.138 1034.03,755.165 1033.74,754.193 1033.6,753.736 1033.45,753.221 1033.15,752.248 \n",
       "  1032.85,751.276 1032.55,750.303 1032.45,749.998 1032.24,749.331 1031.94,748.358 1031.63,747.386 1031.32,746.414 1031.3,746.368 1031,745.441 1030.69,744.469 \n",
       "  1030.37,743.496 1030.15,742.832 1030.05,742.524 1029.73,741.552 1029.4,740.579 1029.08,739.607 1029,739.378 1028.75,738.634 1028.42,737.662 1028.09,736.689 \n",
       "  1027.85,735.998 1027.75,735.717 1027.42,734.745 1027.08,733.772 1026.74,732.8 1026.7,732.683 1026.4,731.827 1026.05,730.855 1025.71,729.882 1025.55,729.425 \n",
       "  1025.36,728.91 1025.01,727.938 1024.66,726.965 1024.39,726.218 1024.31,725.993 1023.96,725.02 1023.61,724.048 1023.25,723.076 1023.24,723.057 1022.89,722.103 \n",
       "  1022.53,721.131 1022.18,720.158 1022.09,719.936 1021.81,719.186 1021.45,718.213 1021.09,717.241 1020.94,716.851 1020.72,716.269 1020.36,715.296 1019.99,714.324 \n",
       "  1019.79,713.798 1019.62,713.351 1019.25,712.379 1018.88,711.407 1018.64,710.772 1018.51,710.434 1018.14,709.462 1017.76,708.489 1017.49,707.771 1017.39,707.517 \n",
       "  1017.02,706.544 1016.64,705.572 1016.34,704.79 1016.26,704.6 1015.89,703.627 1015.51,702.655 1015.19,701.827 1015.13,701.682 1014.75,700.71 1014.37,699.737 \n",
       "  1014.03,698.878 1013.99,698.765 1013.61,697.793 1013.23,696.82 1012.88,695.942 1012.85,695.848 1012.46,694.875 1012.08,693.903 1011.73,693.014 1011.7,692.931 \n",
       "  1011.32,691.958 1010.93,690.986 1010.58,690.092 1010.55,690.013 1010.17,689.041 1009.78,688.068 1009.43,687.173 1009.4,687.096 1009.02,686.124 1008.63,685.151 \n",
       "  1008.28,684.256 1008.25,684.179 1007.86,683.206 1007.48,682.234 1007.13,681.337 1007.1,681.262 1006.72,680.289 1006.33,679.317 1005.98,678.413 1005.95,678.344 \n",
       "  1005.57,677.372 1005.19,676.399 1004.83,675.483 1004.8,675.427 1004.42,674.455 1004.04,673.482 1003.67,672.542 1003.66,672.51 1003.28,671.537 1002.9,670.565 \n",
       "  1002.52,669.592 1002.52,669.589 1002.15,668.62 1001.77,667.648 1001.39,666.675 1001.37,666.621 1001.02,665.703 1000.64,664.73 1000.27,663.758 1000.22,663.633 \n",
       "  999.896,662.786 999.524,661.813 999.153,660.841 999.07,660.624 998.782,659.868 998.413,658.896 998.045,657.923 997.919,657.59 997.678,656.951 997.312,655.979 \n",
       "  996.947,655.006 996.768,654.526 996.584,654.034 996.221,653.061 995.86,652.089 995.617,651.43 995.501,651.117 995.142,650.144 994.786,649.172 994.466,648.296 \n",
       "  994.43,648.199 994.076,647.227 993.723,646.254 993.372,645.282 993.314,645.121 993.023,644.31 992.675,643.337 992.329,642.365 992.163,641.897 991.984,641.392 \n",
       "  991.642,640.42 991.3,639.447 991.012,638.621 990.961,638.475 990.624,637.503 990.288,636.53 989.954,635.558 989.861,635.285 989.622,634.585 989.292,633.613 \n",
       "  988.964,632.641 988.71,631.881 988.639,631.668 988.315,630.696 987.993,629.723 987.673,628.751 987.559,628.401 987.355,627.778 987.04,626.806 986.727,625.834 \n",
       "  986.416,624.861 986.408,624.836 986.107,623.889 985.801,622.916 985.496,621.944 985.257,621.171 985.195,620.972 984.895,619.999 984.598,619.027 984.304,618.054 \n",
       "  984.105,617.393 984.012,617.082 983.722,616.109 983.435,615.137 983.151,614.165 982.954,613.486 982.869,613.192 982.59,612.22 982.313,611.247 982.039,610.275 \n",
       "  981.803,609.428 981.768,609.302 981.5,608.33 981.234,607.358 980.971,606.385 980.711,605.413 980.652,605.191 980.453,604.44 980.199,603.468 979.947,602.496 \n",
       "  979.699,601.523 979.501,600.74 979.453,600.551 979.21,599.578 978.971,598.606 978.734,597.633 978.5,596.661 978.35,596.028 978.269,595.689 978.042,594.716 \n",
       "  977.817,593.744 977.596,592.771 977.378,591.799 977.199,590.99 977.163,590.827 976.951,589.854 976.742,588.882 976.537,587.909 976.334,586.937 976.135,585.964 \n",
       "  976.047,585.527 975.94,584.992 975.747,584.02 975.558,583.047 975.373,582.075 975.191,581.102 975.012,580.13 974.896,579.491 974.836,579.157 974.664,578.185 \n",
       "  974.495,577.213 974.33,576.24 974.169,575.268 974.01,574.295 973.856,573.323 973.745,572.612 973.705,572.351 973.557,571.378 973.413,570.406 973.272,569.433 \n",
       "  973.135,568.461 973.002,567.488 972.872,566.516 972.746,565.544 972.623,564.571 972.594,564.331 972.505,563.599 972.389,562.626 972.278,561.654 972.17,560.682 \n",
       "  972.066,559.709 971.965,558.737 971.868,557.764 971.775,556.792 971.686,555.819 971.6,554.847 971.519,553.875 971.443,552.934 971.44,552.902 971.366,551.93 \n",
       "  971.295,550.957 971.229,549.985 971.166,549.012 971.106,548.04 971.051,547.068 970.999,546.095 970.951,545.123 970.907,544.15 970.867,543.178 970.831,542.206 \n",
       "  970.798,541.233 970.77,540.261 970.745,539.288 970.724,538.316 970.706,537.343 970.693,536.371 970.683,535.399 970.677,534.426 970.676,533.454 970.677,532.481 \n",
       "  970.683,531.509 970.693,530.537 970.706,529.564 970.724,528.592 970.745,527.619 970.77,526.647 970.798,525.674 970.831,524.702 970.867,523.73 970.907,522.757 \n",
       "  970.951,521.785 970.999,520.812 971.051,519.84 971.106,518.867 971.166,517.895 971.229,516.923 971.295,515.95 971.366,514.978 971.44,514.005 971.443,513.974 \n",
       "  971.519,513.033 971.6,512.061 971.686,511.088 971.775,510.116 971.868,509.143 971.965,508.171 972.066,507.198 972.17,506.226 972.278,505.254 972.389,504.281 \n",
       "  972.505,503.309 972.594,502.576 972.623,502.336 972.746,501.364 972.872,500.392 973.002,499.419 973.135,498.447 973.272,497.474 973.413,496.502 973.557,495.529 \n",
       "  973.705,494.557 973.745,494.295 973.856,493.585 974.01,492.612 974.169,491.64 974.33,490.667 974.495,489.695 974.664,488.722 974.836,487.75 974.896,487.417 \n",
       "  975.012,486.778 975.191,485.805 975.373,484.833 975.558,483.86 975.747,482.888 975.94,481.916 976.047,481.38 976.135,480.943 976.334,479.971 976.537,478.998 \n",
       "  976.742,478.026 976.951,477.053 977.163,476.081 977.199,475.918 977.378,475.109 977.596,474.136 977.817,473.164 978.042,472.191 978.269,471.219 978.35,470.88 \n",
       "  978.5,470.247 978.734,469.274 978.971,468.302 979.21,467.329 979.453,466.357 979.501,466.168 979.699,465.384 979.947,464.412 980.199,463.44 980.453,462.467 \n",
       "  980.652,461.717 980.711,461.495 980.971,460.522 981.234,459.55 981.5,458.577 981.768,457.605 981.803,457.479 982.039,456.633 982.313,455.66 982.59,454.688 \n",
       "  982.869,453.715 982.954,453.421 983.151,452.743 983.435,451.771 983.722,450.798 984.012,449.826 984.105,449.514 984.304,448.853 984.598,447.881 984.895,446.908 \n",
       "  985.195,445.936 985.257,445.737 985.496,444.964 985.801,443.991 986.107,443.019 986.408,442.072 986.416,442.046 986.727,441.074 987.04,440.102 987.355,439.129 \n",
       "  987.559,438.506 987.673,438.157 987.993,437.184 988.315,436.212 988.639,435.239 988.71,435.026 988.964,434.267 989.292,433.295 989.622,432.322 989.861,431.623 \n",
       "  989.954,431.35 990.288,430.377 990.624,429.405 990.961,428.432 991.012,428.286 991.3,427.46 991.642,426.488 991.984,425.515 992.163,425.01 992.329,424.543 \n",
       "  992.675,423.57 993.023,422.598 993.314,421.787 993.372,421.626 993.723,420.653 994.076,419.681 994.43,418.708 994.466,418.611 994.786,417.736 995.142,416.763 \n",
       "  995.501,415.791 995.617,415.478 995.86,414.819 996.221,413.846 996.584,412.874 996.768,412.381 996.947,411.901 997.312,410.929 997.678,409.957 997.919,409.318 \n",
       "  998.045,408.984 998.413,408.012 998.782,407.039 999.07,406.284 999.153,406.067 999.524,405.094 999.896,404.122 1000.22,403.274 1000.27,403.15 1000.64,402.177 \n",
       "  1001.02,401.205 1001.37,400.287 1001.39,400.232 1001.77,399.26 1002.15,398.287 1002.52,397.318 1002.52,397.315 1002.9,396.343 1003.28,395.37 1003.66,394.398 \n",
       "  1003.67,394.365 1004.04,393.425 1004.42,392.453 1004.8,391.481 1004.83,391.425 1005.19,390.508 1005.57,389.536 1005.95,388.563 1005.98,388.494 1006.33,387.591 \n",
       "  1006.72,386.618 1007.1,385.646 1007.13,385.571 1007.48,384.674 1007.86,383.701 1008.25,382.729 1008.28,382.651 1008.63,381.756 1009.02,380.784 1009.4,379.812 \n",
       "  1009.43,379.734 1009.78,378.839 1010.17,377.867 1010.55,376.894 1010.58,376.816 1010.93,375.922 1011.32,374.949 1011.7,373.977 1011.73,373.894 1012.08,373.005 \n",
       "  1012.46,372.032 1012.85,371.06 1012.88,370.966 1013.23,370.087 1013.61,369.115 1013.99,368.142 1014.03,368.029 1014.37,367.17 1014.75,366.198 1015.13,365.225 \n",
       "  1015.19,365.081 1015.51,364.253 1015.89,363.28 1016.26,362.308 1016.34,362.117 1016.64,361.336 1017.02,360.363 1017.39,359.391 1017.49,359.137 1017.76,358.418 \n",
       "  1018.14,357.446 1018.51,356.473 1018.64,356.135 1018.88,355.501 1019.25,354.529 1019.62,353.556 1019.79,353.109 1019.99,352.584 1020.36,351.611 1020.72,350.639 \n",
       "  1020.94,350.056 1021.09,349.667 1021.45,348.694 1021.81,347.722 1022.09,346.971 1022.18,346.749 1022.53,345.777 1022.89,344.804 1023.24,343.851 1023.25,343.832 \n",
       "  1023.61,342.86 1023.96,341.887 1024.31,340.915 1024.39,340.689 1024.66,339.942 1025.01,338.97 1025.36,337.997 1025.55,337.483 1025.71,337.025 1026.05,336.053 \n",
       "  1026.4,335.08 1026.7,334.225 1026.74,334.108 1027.08,333.135 1027.42,332.163 1027.75,331.191 1027.85,330.909 1028.09,330.218 1028.42,329.246 1028.75,328.273 \n",
       "  1029,327.529 1029.08,327.301 1029.4,326.328 1029.73,325.356 1030.05,324.384 1030.15,324.076 1030.37,323.411 1030.69,322.439 1031,321.466 1031.3,320.54 \n",
       "  1031.32,320.494 1031.63,319.522 1031.94,318.549 1032.24,317.577 1032.45,316.909 1032.55,316.604 1032.85,315.632 1033.15,314.659 1033.45,313.687 1033.6,313.171 \n",
       "  1033.74,312.715 1034.03,311.742 1034.32,310.77 1034.61,309.797 1034.76,309.31 1034.9,308.825 1035.18,307.852 1035.46,306.88 1035.74,305.908 1035.91,305.304 \n",
       "  1036.01,304.935 1036.28,303.963 1036.55,302.99 1036.82,302.018 1037.06,301.131 1037.08,301.046 1037.34,300.073 1037.6,299.101 1037.85,298.128 1038.11,297.156 \n",
       "  1038.21,296.755 1038.35,296.183 1038.6,295.211 1038.84,294.239 1039.08,293.266 1039.32,292.294 1039.36,292.137 1039.56,291.321 1039.79,290.349 1040.02,289.377 \n",
       "  1040.24,288.404 1040.46,287.432 1040.51,287.216 1040.68,286.459 1040.9,285.487 1041.11,284.514 1041.32,283.542 1041.52,282.57 1041.66,281.908 1041.73,281.597 \n",
       "  1041.93,280.625 1042.12,279.652 1042.32,278.68 1042.5,277.707 1042.69,276.735 1042.81,276.086 1042.87,275.763 1043.05,274.79 1043.23,273.818 1043.4,272.845 \n",
       "  1043.57,271.873 1043.74,270.901 1043.9,269.928 1043.96,269.529 1044.06,268.956 1044.21,267.983 1044.36,267.011 1044.51,266.038 1044.66,265.066 1044.8,264.094 \n",
       "  1044.94,263.121 1045.07,262.149 1045.12,261.813 1045.2,261.176 1045.33,260.204 1045.45,259.232 1045.57,258.259 1045.69,257.287 1045.8,256.314 1045.91,255.342 \n",
       "  1046.01,254.369 1046.11,253.397 1046.21,252.425 1046.27,251.834 1046.3,251.452 1046.39,250.48 1046.48,249.507 1046.56,248.535 1046.64,247.562 1046.72,246.59 \n",
       "  1046.79,245.618 1046.85,244.645 1046.92,243.673 1046.98,242.7 1047.03,241.728 1047.09,240.756 1047.13,239.783 1047.18,238.811 1047.22,237.838 1047.26,236.866 \n",
       "  1047.29,235.893 1047.32,234.921 1047.34,233.949 1047.37,232.976 1047.38,232.004 1047.4,231.031 1047.41,230.059 1047.41,229.087 1047.42,228.114 1047.42,227.142 \n",
       "  1047.41,226.169 1047.4,225.197 1047.39,224.224 1047.37,223.252 1047.35,222.28 1047.33,221.307 1047.3,220.335 1047.27,219.362 1047.23,218.39 1047.19,217.417 \n",
       "  \n",
       "  \"/>\n",
       "<polyline clip-path=\"url(#clip6802)\" style=\"stroke:#ea6428; stroke-width:12; stroke-opacity:1; fill:none\" points=\"\n",
       "  1047.19,217.417 1047.15,216.445 1047.1,215.473 1047.05,214.5 1047,213.528 1046.94,212.555 1046.87,211.583 1046.81,210.611 1046.74,209.638 1046.66,208.666 \n",
       "  1046.59,207.693 1046.51,206.721 1046.42,205.748 1046.33,204.776 1046.27,204.084 1046.24,203.804 1046.14,202.831 1046.04,201.859 1045.94,200.886 1045.83,199.914 \n",
       "  1045.72,198.942 1045.61,197.969 1045.49,196.997 1045.37,196.024 1045.24,195.052 1045.12,194.103 1045.11,194.079 1044.98,193.107 1044.84,192.135 1044.7,191.162 \n",
       "  1044.56,190.19 1044.41,189.217 1044.26,188.245 1044.11,187.272 1043.96,186.388 1043.95,186.3 1043.79,185.328 1043.62,184.355 1043.46,183.383 1043.28,182.41 \n",
       "  1043.11,181.438 1042.93,180.466 1042.81,179.833 1042.75,179.493 1042.56,178.521 1042.38,177.548 1042.18,176.576 1041.99,175.603 1041.79,174.631 1041.66,174.01 \n",
       "  1041.59,173.659 1041.38,172.686 1041.18,171.714 1040.96,170.741 1040.75,169.769 1040.53,168.797 1040.51,168.702 1040.31,167.824 1040.09,166.852 1039.86,165.879 \n",
       "  1039.63,164.907 1039.4,163.934 1039.36,163.782 1039.16,162.962 1038.92,161.99 1038.68,161.017 1038.43,160.045 1038.21,159.163 1038.19,159.072 1037.93,158.1 \n",
       "  1037.68,157.127 1037.42,156.155 1037.16,155.183 1037.06,154.788 1036.9,154.21 1036.64,153.238 1036.37,152.265 1036.1,151.293 1035.91,150.614 1035.82,150.321 \n",
       "  1035.55,149.348 1035.27,148.376 1034.99,147.403 1034.76,146.608 1034.7,146.431 1034.42,145.458 1034.13,144.486 1033.84,143.514 1033.6,142.747 1033.54,142.541 \n",
       "  1033.25,141.569 1032.95,140.596 1032.64,139.624 1032.45,139.009 1032.34,138.652 1032.03,137.679 1031.73,136.707 1031.42,135.734 1031.3,135.379 1031.1,134.762 \n",
       "  1030.79,133.789 1030.47,132.817 1030.15,131.845 1030.15,131.842 1029.83,130.872 1029.51,129.9 1029.18,128.927 1029,128.39 1028.85,127.955 1028.52,126.982 \n",
       "  1028.19,126.01 1027.86,125.038 1027.85,125.009 1027.52,124.065 1027.19,123.093 1026.85,122.12 1026.7,121.694 1026.51,121.148 1026.16,120.176 1025.82,119.203 \n",
       "  1025.55,118.436 1025.47,118.231 1025.13,117.258 1024.78,116.286 1024.43,115.313 1024.39,115.229 1024.07,114.341 1023.72,113.369 1023.36,112.396 1023.24,112.068 \n",
       "  1023.01,111.424 1022.65,110.451 1022.29,109.479 1022.09,108.947 1021.93,108.507 1021.57,107.534 1021.2,106.562 1020.94,105.862 1020.84,105.589 1020.47,104.617 \n",
       "  1020.11,103.644 1019.79,102.809 1019.74,102.672 1019.37,101.7 1019,100.727 1018.64,99.7831 1018.63,99.7547 1018.26,98.7823 1017.88,97.8099 1017.51,96.8375 \n",
       "  1017.49,96.7817 1017.13,95.8651 1016.76,94.8926 1016.38,93.9202 1016.34,93.801 1016.01,92.9478 1015.63,91.9754 1015.25,91.003 1015.19,90.8379 1014.87,90.0305 \n",
       "  1014.49,89.0581 1014.11,88.0857 1014.03,87.8894 1013.73,87.1133 1013.35,86.1409 1012.97,85.1684 1012.88,84.9525 1012.59,84.196 1012.2,83.2236 1011.82,82.2512 \n",
       "  1011.73,82.0245 1011.44,81.2788 1011.06,80.3064 1010.67,79.3339 1010.58,79.1027 1010.29,78.3615 1009.91,77.3891 1009.52,76.4167 1009.43,76.1844 1009.14,75.4443 \n",
       "  1008.75,74.4718 1008.37,73.4994 1008.28,73.267 1007.99,72.527 1007.6,71.5546 1007.22,70.5822 1007.13,70.3478 1006.84,69.6097 1006.45,68.6373 1006.07,67.6649 \n",
       "  1005.98,67.4242 1005.69,66.6925 1005.31,65.7201 1004.93,64.7476 1004.83,64.4935 1004.54,63.7752 1004.16,62.8028 1003.78,61.8304 1003.67,61.5531 1003.4,60.858 \n",
       "  1003.02,59.8855 1002.65,58.9131 1002.52,58.6 1002.27,57.9407 1001.89,56.9683 1001.51,55.9959 1001.37,55.6313 1001.14,55.0234 1000.76,54.051 1000.39,53.0786 \n",
       "  1000.22,52.644 1000.01,52.1062 999.642,51.1338 999.271,50.1614 999.07,49.6348 998.9,49.1889 998.531,48.2165 998.162,47.2441 \n",
       "  \"/>\n",
       "<polyline clip-path=\"url(#clip6802)\" style=\"stroke:#ea6428; stroke-width:4; stroke-opacity:1; fill:none\" points=\"\n",
       "  241.628,245.722 242.072,245.618 242.779,245.451 243.93,245.189 245.081,244.937 246.232,244.694 246.471,244.645 247.383,244.46 248.534,244.236 249.686,244.021 \n",
       "  250.837,243.816 251.68,243.673 251.988,243.62 253.139,243.434 254.29,243.258 255.441,243.091 256.592,242.933 257.743,242.785 258.452,242.7 258.895,242.647 \n",
       "  260.046,242.519 261.197,242.4 262.348,242.29 263.499,242.191 264.65,242.101 265.801,242.021 266.952,241.95 268.104,241.889 269.255,241.838 270.406,241.797 \n",
       "  271.557,241.765 272.708,241.743 273.859,241.731 275.01,241.728 276.162,241.735 277.313,241.752 278.464,241.779 279.615,241.815 280.766,241.861 281.917,241.917 \n",
       "  283.068,241.983 284.219,242.058 285.371,242.143 286.522,242.237 287.673,242.341 288.824,242.455 289.975,242.579 291.025,242.7 291.126,242.712 292.277,242.855 \n",
       "  293.428,243.007 294.58,243.169 295.731,243.341 296.882,243.522 297.792,243.673 298.033,243.713 299.184,243.913 300.335,244.123 301.486,244.342 302.637,244.571 \n",
       "  302.998,244.645 303.789,244.809 304.94,245.056 306.091,245.313 307.242,245.579 307.401,245.618 308.393,245.855 309.544,246.14 310.695,246.434 311.286,246.59 \n",
       "  311.847,246.738 312.998,247.05 314.149,247.372 314.81,247.562 315.3,247.703 316.451,248.044 317.602,248.393 318.058,248.535 318.753,248.751 319.904,249.119 \n",
       "  321.056,249.495 321.093,249.507 322.207,249.88 323.358,250.274 323.944,250.48 324.509,250.677 325.66,251.089 326.653,251.452 326.811,251.51 327.962,251.939 \n",
       "  329.113,252.378 329.235,252.425 330.265,252.824 331.416,253.28 331.707,253.397 332.567,253.744 333.718,254.216 334.085,254.369 334.869,254.697 336.02,255.187 \n",
       "  336.379,255.342 337.171,255.684 338.322,256.19 338.6,256.314 339.474,256.705 340.625,257.227 340.753,257.287 341.776,257.758 342.846,258.259 342.927,258.297 \n",
       "  344.078,258.844 344.882,259.232 345.229,259.399 346.38,259.962 346.868,260.204 347.531,260.533 348.683,261.112 348.81,261.176 349.834,261.698 350.707,262.149 \n",
       "  350.985,262.292 352.136,262.894 352.565,263.121 353.287,263.504 354.388,264.094 354.438,264.121 355.589,264.745 356.174,265.066 356.741,265.377 357.892,266.016 \n",
       "  357.931,266.038 359.043,266.663 359.656,267.011 360.194,267.317 361.345,267.978 361.355,267.983 362.496,268.646 363.025,268.956 363.647,269.321 364.672,269.928 \n",
       "  364.798,270.003 365.95,270.692 366.295,270.901 367.101,271.388 367.896,271.873 368.252,272.09 369.403,272.799 369.477,272.845 370.554,273.515 371.036,273.818 \n",
       "  371.705,274.238 372.578,274.79 372.856,274.967 374.007,275.702 374.102,275.763 375.159,276.443 375.607,276.735 376.31,277.191 377.098,277.707 377.461,277.945 \n",
       "  378.573,278.68 378.612,278.705 379.763,279.472 380.032,279.652 380.914,280.244 381.478,280.625 382.065,281.022 382.91,281.597 383.216,281.806 384.33,282.57 \n",
       "  384.368,282.595 385.519,283.39 385.737,283.542 386.67,284.191 387.132,284.514 387.821,284.997 388.516,285.487 388.972,285.809 389.889,286.459 390.123,286.625 \n",
       "  391.252,287.432 391.274,287.448 392.425,288.275 392.604,288.404 393.577,289.107 393.947,289.377 394.728,289.945 395.28,290.349 395.879,290.787 396.605,291.321 \n",
       "  397.03,291.634 397.922,292.294 398.181,292.486 399.23,293.266 399.332,293.342 400.483,294.203 400.531,294.239 401.635,295.069 401.823,295.211 402.786,295.938 \n",
       "  403.108,296.183 403.937,296.813 404.387,297.156 405.088,297.691 405.658,298.128 406.239,298.573 406.924,299.101 407.39,299.46 408.183,300.073 408.541,300.35 \n",
       "  409.436,301.046 409.692,301.245 410.683,302.018 410.844,302.143 411.925,302.99 411.995,303.045 413.146,303.95 413.162,303.963 414.297,304.859 414.393,304.935 \n",
       "  415.448,305.771 415.619,305.908 416.599,306.687 416.841,306.88 417.75,307.606 418.058,307.852 418.901,308.528 419.271,308.825 420.053,309.453 420.48,309.797 \n",
       "  421.204,310.381 421.684,310.77 422.355,311.312 422.885,311.742 423.506,312.245 424.083,312.715 424.657,313.182 425.277,313.687 425.808,314.121 426.467,314.659 \n",
       "  426.959,315.062 427.654,315.632 428.11,316.006 428.839,316.604 429.262,316.952 430.02,317.577 430.413,317.9 431.199,318.549 431.564,318.85 432.375,319.522 \n",
       "  432.715,319.803 433.549,320.494 433.866,320.757 434.72,321.466 435.017,321.713 435.889,322.439 436.168,322.671 437.056,323.411 437.319,323.63 438.222,324.384 \n",
       "  438.471,324.591 439.385,325.356 439.622,325.554 440.547,326.328 440.773,326.518 441.707,327.301 441.924,327.483 442.866,328.273 443.075,328.449 444.024,329.246 \n",
       "  444.226,329.416 445.18,330.218 445.377,330.384 446.335,331.191 446.529,331.353 447.49,332.163 447.68,332.323 448.643,333.135 448.831,333.293 449.796,334.108 \n",
       "  449.982,334.265 450.948,335.08 451.133,335.236 452.1,336.053 452.284,336.208 453.252,337.025 453.435,337.18 454.403,337.997 454.586,338.152 455.554,338.97 \n",
       "  455.738,339.125 456.705,339.942 456.889,340.097 457.857,340.915 458.04,341.069 459.008,341.887 459.191,342.042 460.16,342.86 460.342,343.013 461.312,343.832 \n",
       "  461.493,343.985 462.465,344.804 462.644,344.956 463.619,345.777 463.795,345.926 464.773,346.749 464.947,346.895 465.928,347.722 466.098,347.864 467.085,348.694 \n",
       "  467.249,348.832 468.242,349.667 468.4,349.799 469.401,350.639 469.551,350.765 470.561,351.611 470.702,351.729 471.723,352.584 471.853,352.693 472.887,353.556 \n",
       "  473.004,353.655 474.052,354.529 474.156,354.615 475.219,355.501 475.307,355.574 476.388,356.473 476.458,356.531 477.559,357.446 477.609,357.487 478.733,358.418 \n",
       "  478.76,358.441 479.909,359.391 479.911,359.392 481.062,360.342 481.088,360.363 482.213,361.29 482.269,361.336 483.365,362.235 483.454,362.308 484.516,363.178 \n",
       "  484.641,363.28 485.667,364.119 485.832,364.253 486.818,365.057 487.025,365.225 487.969,365.992 488.223,366.198 489.12,366.925 489.424,367.17 490.271,367.855 \n",
       "  490.629,368.142 491.423,368.782 491.837,369.115 492.574,369.706 493.05,370.087 493.725,370.627 494.268,371.06 494.876,371.545 495.489,372.032 496.027,372.459 \n",
       "  496.716,373.005 497.178,373.371 497.947,373.977 498.329,374.278 499.183,374.949 499.48,375.183 500.425,375.922 500.632,376.083 501.672,376.894 501.783,376.98 \n",
       "  502.925,377.867 502.934,377.873 504.085,378.763 504.184,378.839 505.236,379.648 505.45,379.812 506.387,380.529 506.722,380.784 507.538,381.406 508,381.756 \n",
       "  508.689,382.279 509.286,382.729 509.841,383.147 510.578,383.701 510.992,384.012 511.878,384.674 512.143,384.871 513.186,385.646 513.294,385.726 514.445,386.576 \n",
       "  514.502,386.618 515.596,387.422 515.828,387.591 516.747,388.263 517.162,388.563 517.898,389.098 518.505,389.536 519.05,389.929 519.857,390.508 520.201,390.755 \n",
       "  521.219,391.481 521.352,391.575 522.503,392.39 522.592,392.453 523.654,393.2 523.976,393.425 524.805,394.005 525.372,394.398 525.956,394.804 526.779,395.37 \n",
       "  527.107,395.597 528.197,396.343 528.259,396.385 529.41,397.166 529.63,397.315 530.561,397.943 531.076,398.287 531.712,398.713 532.536,399.26 532.863,399.477 \n",
       "  534.01,400.232 534.014,400.235 535.165,400.987 535.501,401.205 536.317,401.733 537.007,402.177 537.468,402.473 538.53,403.15 538.619,403.206 539.77,403.933 \n",
       "  540.072,404.122 540.921,404.653 541.633,405.094 542.072,405.367 543.211,406.067 543.223,406.074 544.374,406.775 544.814,407.039 545.526,407.468 546.437,408.012 \n",
       "  546.677,408.155 547.828,408.835 548.083,408.984 548.979,409.508 549.755,409.957 550.13,410.174 551.281,410.832 551.452,410.929 552.432,411.484 553.179,411.901 \n",
       "  553.583,412.128 554.735,412.765 554.934,412.874 555.886,413.395 556.721,413.846 557.037,414.017 558.188,414.631 558.543,414.819 559.339,415.238 560.401,415.791 \n",
       "  560.49,415.838 561.641,416.429 562.3,416.763 562.792,417.013 563.944,417.59 564.24,417.736 565.095,418.158 566.225,418.708 566.246,418.718 567.397,419.271 \n",
       "  568.264,419.681 568.548,419.815 569.699,420.352 570.356,420.653 570.85,420.88 572.001,421.4 572.509,421.626 573.153,421.911 574.304,422.415 574.729,422.598 \n",
       "  575.455,422.91 576.606,423.397 577.024,423.57 577.757,423.875 578.908,424.345 579.402,424.543 580.059,424.806 581.211,425.259 581.875,425.515 582.362,425.703 \n",
       "  583.513,426.138 584.456,426.488 584.664,426.565 585.815,426.983 586.966,427.392 587.163,427.46 588.117,427.792 589.268,428.183 590.018,428.432 590.42,428.566 \n",
       "  591.571,428.939 592.722,429.304 593.049,429.405 593.873,429.659 595.024,430.006 596.175,430.343 596.296,430.377 597.326,430.671 598.477,430.99 599.629,431.3 \n",
       "  599.82,431.35 600.78,431.6 601.931,431.892 603.082,432.174 603.71,432.322 604.233,432.446 605.384,432.709 606.535,432.963 607.686,433.208 608.111,433.295 \n",
       "  608.838,433.443 609.989,433.669 611.14,433.885 612.291,434.092 613.315,434.267 613.442,434.289 614.593,434.476 615.744,434.655 616.895,434.823 618.047,434.982 \n",
       "  619.198,435.131 620.087,435.239 620.349,435.271 621.5,435.401 622.651,435.522 623.802,435.633 624.953,435.734 626.105,435.825 627.256,435.907 628.407,435.979 \n",
       "  629.558,436.041 630.709,436.094 631.86,436.137 633.011,436.17 634.162,436.194 635.314,436.208 636.465,436.212 637.616,436.206 638.767,436.191 639.918,436.166 \n",
       "  641.069,436.131 642.22,436.086 643.371,436.032 644.523,435.968 645.674,435.895 646.825,435.811 647.976,435.718 649.127,435.616 650.278,435.503 651.429,435.381 \n",
       "  652.58,435.25 652.663,435.239 653.732,435.108 654.883,434.957 656.034,434.797 657.185,434.627 658.336,434.447 659.433,434.267 659.487,434.258 660.638,434.059 \n",
       "  661.789,433.851 662.941,433.633 664.092,433.406 664.635,433.295 665.243,433.17 666.394,432.924 667.545,432.668 668.696,432.403 669.037,432.322 669.847,432.129 \n",
       "  670.999,431.846 672.15,431.553 672.924,431.35 673.301,431.251 674.452,430.94 675.603,430.619 676.448,430.377 676.754,430.29 677.905,429.951 679.056,429.603 \n",
       "  679.696,429.405 680.208,429.246 681.359,428.88 682.51,428.505 682.729,428.432 683.661,428.122 684.812,427.729 685.582,427.46 685.963,427.327 687.114,426.917 \n",
       "  688.265,426.497 688.292,426.488 689.417,426.069 690.568,425.633 690.871,425.515 691.719,425.187 692.87,424.733 693.344,424.543 694.021,424.271 695.172,423.799 \n",
       "  695.722,423.57 696.323,423.32 697.474,422.832 698.017,422.598 698.626,422.335 699.777,421.831 700.237,421.626 700.928,421.317 702.079,420.796 702.39,420.653 \n",
       "  703.23,420.267 704.381,419.729 704.483,419.681 705.532,419.183 706.52,418.708 706.683,418.63 707.835,418.068 708.506,417.736 708.986,417.498 710.137,416.921 \n",
       "  710.447,416.763 711.288,416.336 712.345,415.791 712.439,415.743 713.59,415.142 714.202,414.819 714.741,414.534 715.893,413.918 716.025,413.846 717.044,413.295 \n",
       "  717.812,412.874 718.195,412.664 719.346,412.026 719.568,411.901 720.497,411.38 721.293,410.929 721.648,410.728 722.799,410.068 722.992,409.957 723.95,409.401 \n",
       "  724.662,408.984 725.102,408.727 726.253,408.046 726.31,408.012 727.404,407.358 727.932,407.039 728.555,406.663 729.534,406.067 729.706,405.962 730.857,405.254 \n",
       "  731.114,405.094 732.008,404.539 732.674,404.122 733.159,403.818 734.216,403.15 734.311,403.09 735.462,402.355 735.739,402.177 736.613,401.615 737.245,401.205 \n",
       "  737.764,400.868 738.736,400.232 738.915,400.115 740.066,399.356 740.21,399.26 741.217,398.591 741.67,398.287 742.368,397.819 743.116,397.315 743.52,397.042 \n",
       "  744.548,396.343 744.671,396.259 745.822,395.471 745.968,395.37 746.973,394.677 747.374,394.398 748.124,393.877 748.769,393.425 749.275,393.072 750.154,392.453 \n",
       "  750.426,392.261 751.527,391.481 751.577,391.445 752.729,390.623 752.889,390.508 753.88,389.797 754.241,389.536 755.031,388.965 755.584,388.563 756.182,388.129 \n",
       "  756.918,387.591 757.333,387.287 758.243,386.618 758.484,386.441 759.56,385.646 759.635,385.59 760.787,384.734 760.868,384.674 761.938,383.874 762.168,383.701 \n",
       "  763.089,383.009 763.46,382.729 764.24,382.14 764.746,381.756 765.391,381.267 766.024,380.784 766.542,380.389 767.296,379.812 767.693,379.507 768.561,378.839 \n",
       "  768.844,378.621 769.821,377.867 769.996,377.731 771.074,376.894 771.147,376.838 772.298,375.94 772.321,375.922 773.449,375.039 773.563,374.949 774.6,374.134 \n",
       "  774.799,373.977 775.751,373.226 776.03,373.005 776.902,372.314 777.257,372.032 778.053,371.399 778.478,371.06 779.205,370.48 779.696,370.087 780.356,369.559 \n",
       "  780.909,369.115 781.507,368.634 782.117,368.142 782.658,367.707 783.322,367.17 783.809,366.776 784.523,366.198 784.96,365.843 785.72,365.225 786.111,364.907 \n",
       "  786.914,364.253 787.262,363.969 788.105,363.28 788.414,363.028 789.292,362.308 789.565,362.085 790.476,361.336 790.716,361.139 791.658,360.363 791.867,360.191 \n",
       "  792.837,359.391 793.018,359.241 794.013,358.418 794.169,358.289 795.186,357.446 795.32,357.335 796.358,356.473 796.471,356.379 797.527,355.501 797.623,355.422 \n",
       "  798.694,354.529 798.774,354.462 799.859,353.556 799.925,353.502 801.023,352.584 801.076,352.539 802.185,351.611 802.227,351.576 803.345,350.639 803.378,350.611 \n",
       "  804.504,349.667 804.529,349.645 805.661,348.694 805.681,348.678 806.818,347.722 806.832,347.71 807.973,346.749 807.983,346.741 809.127,345.777 809.134,345.771 \n",
       "  810.281,344.804 810.285,344.801 811.434,343.832 811.436,343.83 812.586,342.86 812.587,342.859 813.738,341.887 813.738,341.887 814.889,340.915 814.89,340.915 \n",
       "  816.041,339.942 816.041,339.942 817.192,338.97 818.343,337.998 818.343,337.997 819.494,337.025 819.494,337.025 820.645,336.053 820.646,336.053 \n",
       "  821.796,335.081 821.798,335.08 822.947,334.11 822.95,334.108 824.099,333.139 824.103,333.135 825.25,332.169 825.256,332.163 826.401,331.199 826.411,331.191 \n",
       "  827.552,330.23 827.566,330.218 828.703,329.262 828.722,329.246 829.854,328.295 829.88,328.273 831.005,327.329 831.039,327.301 832.156,326.364 832.199,326.328 \n",
       "  833.308,325.4 833.361,325.356 834.459,324.438 834.524,324.384 835.61,323.477 835.689,323.411 836.761,322.518 836.857,322.439 837.912,321.561 838.026,321.466 \n",
       "  839.063,320.605 839.197,320.494 840.214,319.651 840.371,319.522 841.365,318.699 841.547,318.549 842.517,317.749 842.726,317.577 843.668,316.801 843.907,316.604 \n",
       "  844.819,315.855 845.091,315.632 845.97,314.912 846.279,314.659 847.121,313.971 847.469,313.687 848.272,313.032 848.663,312.715 849.423,312.097 849.861,311.742 \n",
       "  850.575,311.163 851.062,310.77 851.726,310.233 852.266,309.797 852.877,309.305 853.475,308.825 854.028,308.381 854.688,307.852 855.179,307.459 855.905,306.88 \n",
       "  856.33,306.541 857.127,305.908 857.481,305.626 858.353,304.935 858.632,304.714 859.584,303.963 859.784,303.806 860.821,302.99 860.935,302.901 862.062,302.018 \n",
       "  862.086,302 863.237,301.102 863.31,301.046 864.388,300.208 864.563,300.073 865.539,299.318 865.822,299.101 866.69,298.433 867.088,298.128 867.841,297.551 \n",
       "  868.359,297.156 868.993,296.673 869.638,296.183 870.144,295.8 870.923,295.211 871.295,294.93 872.216,294.239 872.446,294.066 873.516,293.266 873.597,293.205 \n",
       "  874.748,292.35 874.824,292.294 875.899,291.499 876.14,291.321 877.05,290.652 877.465,290.349 878.202,289.811 878.799,289.377 879.353,288.974 880.142,288.404 \n",
       "  880.504,288.143 881.494,287.432 881.655,287.316 882.806,286.495 882.857,286.459 883.957,285.679 884.23,285.487 885.108,284.868 885.614,284.514 886.259,284.063 \n",
       "  887.009,283.542 887.411,283.263 888.416,282.57 888.562,282.469 889.713,281.68 889.835,281.597 890.864,280.897 891.268,280.625 892.015,280.12 892.714,279.652 \n",
       "  893.166,279.349 894.173,278.68 894.317,278.584 895.469,277.825 895.648,277.707 896.62,277.072 897.139,276.735 897.771,276.325 898.645,275.763 898.922,275.584 \n",
       "  900.073,274.85 900.168,274.79 901.224,274.122 901.71,273.818 902.375,273.401 903.27,272.845 903.526,272.686 904.678,271.978 904.85,271.873 905.829,271.276 \n",
       "  906.451,270.901 906.98,270.582 908.073,269.928 908.131,269.894 909.282,269.213 909.721,268.956 910.433,268.539 911.392,267.983 911.584,267.872 912.735,267.212 \n",
       "  913.09,267.011 913.887,266.559 914.816,266.038 915.038,265.914 916.189,265.276 916.572,265.066 917.34,264.645 918.358,264.094 918.491,264.022 919.642,263.406 \n",
       "  920.181,263.121 920.793,262.798 921.944,262.197 922.038,262.149 923.096,261.604 923.937,261.176 924.247,261.019 925.398,260.441 925.878,260.204 926.549,259.872 \n",
       "  927.7,259.31 927.864,259.232 928.851,258.756 929.9,258.259 930.002,258.211 931.153,257.673 931.994,257.287 932.305,257.144 933.456,256.622 934.147,256.314 \n",
       "  934.607,256.109 935.758,255.604 936.367,255.342 936.909,255.108 938.06,254.62 938.662,254.369 939.211,254.14 940.363,253.669 941.04,253.397 941.514,253.207 \n",
       "  \n",
       "  \"/>\n",
       "<polyline clip-path=\"url(#clip6802)\" style=\"stroke:#ea6428; stroke-width:4; stroke-opacity:1; fill:none\" points=\"\n",
       "  941.514,253.207 942.665,252.753 943.512,252.425 943.816,252.307 944.967,251.87 946.092,251.452 946.118,251.442 947.269,251.023 948.42,250.613 948.801,250.48 \n",
       "  949.572,250.211 950.723,249.818 951.655,249.507 951.874,249.434 953.025,249.059 954.176,248.694 954.688,248.535 955.327,248.337 956.478,247.989 957.629,247.65 \n",
       "  957.935,247.562 958.781,247.32 959.932,247 961.083,246.689 961.459,246.59 962.234,246.387 963.385,246.094 964.536,245.811 965.346,245.618 965.687,245.536 \n",
       "  966.838,245.272 967.99,245.016 969.141,244.77 969.749,244.645 970.292,244.534 971.443,244.306 972.594,244.089 973.745,243.88 974.896,243.682 974.951,243.673 \n",
       "  976.047,243.493 977.199,243.313 978.35,243.143 979.501,242.982 980.652,242.831 981.72,242.7 981.803,242.69 982.954,242.559 984.105,242.437 985.257,242.324 \n",
       "  986.408,242.222 987.559,242.129 988.71,242.045 989.861,241.972 991.012,241.908 992.163,241.853 993.314,241.809 994.466,241.774 995.617,241.749 996.768,241.734 \n",
       "  997.919,241.728 999.07,241.732 1000.22,241.746 1001.37,241.769 1002.52,241.803 1003.67,241.846 1004.83,241.898 1005.98,241.961 1007.13,242.033 1008.28,242.115 \n",
       "  1009.43,242.206 1010.58,242.307 1011.73,242.418 1012.88,242.538 1014.03,242.669 1014.3,242.7 1015.19,242.808 1016.34,242.958 1017.49,243.117 1018.64,243.285 \n",
       "  1019.79,243.463 1020.94,243.651 1021.07,243.673 1022.09,243.848 1023.24,244.055 1024.39,244.271 1025.55,244.497 1026.27,244.645 1026.7,244.732 1027.85,244.976 \n",
       "  1029,245.23 1030.15,245.494 1030.67,245.618 1031.3,245.766 1032.45,246.048 1033.6,246.34 1034.56,246.59 1034.76,246.64 1035.91,246.95 1037.06,247.269 \n",
       "  1038.09,247.562 1038.21,247.597 1039.36,247.934 1040.51,248.281 1041.33,248.535 1041.66,248.636 1042.81,249.001 1043.96,249.374 1044.37,249.507 1045.12,249.756 \n",
       "  1046.27,250.148 1047.22,250.48 1047.42,250.548 1048.57,250.957 1049.72,251.375 1049.93,251.452 1050.87,251.802 1052.02,252.237 1052.51,252.425 1053.17,252.681 \n",
       "  1054.32,253.134 1054.98,253.397 1055.48,253.595 1056.63,254.065 1057.36,254.369 1057.78,254.543 1058.93,255.03 1059.65,255.342 1060.08,255.525 1061.23,256.028 \n",
       "  1061.87,256.314 1062.38,256.54 1063.53,257.06 1064.03,257.287 1064.68,257.588 1065.84,258.125 1066.12,258.259 1066.99,258.669 1068.14,259.221 1068.16,259.232 \n",
       "  1069.29,259.782 1070.14,260.204 1070.44,260.35 1071.59,260.926 1072.08,261.176 1072.74,261.51 1073.89,262.102 1073.98,262.149 1075.04,262.702 1075.84,263.121 \n",
       "  1076.2,263.309 1077.35,263.923 1077.66,264.094 1078.5,264.545 1079.45,265.066 1079.65,265.175 1080.8,265.812 1081.21,266.038 1081.95,266.456 1082.93,267.011 \n",
       "  1083.1,267.108 1084.25,267.766 1084.63,267.983 1085.4,268.432 1086.3,268.956 1086.56,269.105 1087.71,269.785 1087.95,269.928 1088.86,270.472 1089.57,270.901 \n",
       "  1090.01,271.165 1091.16,271.866 1091.17,271.873 1092.31,272.573 1092.75,272.845 1093.46,273.287 1094.31,273.818 1094.61,274.007 1095.76,274.734 1095.85,274.79 \n",
       "  1096.92,275.467 1097.38,275.763 1098.07,276.207 1098.88,276.735 1099.22,276.952 1100.37,277.705 1100.37,277.707 1101.52,278.463 1101.85,278.68 1102.67,279.227 \n",
       "  1103.31,279.652 1103.82,279.997 1104.75,280.625 1104.97,280.773 1106.12,281.555 1106.19,281.597 1107.28,282.343 1107.6,282.57 1108.43,283.136 1109.01,283.542 \n",
       "  1109.58,283.935 1110.41,284.514 1110.73,284.74 1111.79,285.487 1111.88,285.55 1113.03,286.365 1113.16,286.459 1114.18,287.185 1114.53,287.432 1115.33,288.011 \n",
       "  1115.88,288.404 1116.49,288.842 1117.22,289.377 1117.64,289.677 1118.56,290.349 1118.79,290.518 1119.88,291.321 1119.94,291.364 1121.09,292.214 1121.2,292.294 \n",
       "  1122.24,293.069 1122.51,293.266 1123.39,293.928 1123.81,294.239 1124.54,294.792 1125.1,295.211 1125.69,295.661 1126.38,296.183 1126.85,296.534 1127.66,297.156 \n",
       "  1128,297.411 1128.93,298.128 1129.15,298.292 1130.2,299.101 1130.3,299.177 1131.45,300.066 1131.46,300.073 1132.6,300.96 1132.71,301.046 1133.75,301.856 \n",
       "  1133.96,302.018 1134.9,302.757 1135.2,302.99 1136.05,303.661 1136.44,303.963 1137.21,304.569 1137.67,304.935 1138.36,305.48 1138.89,305.908 1139.51,306.395 \n",
       "  1140.12,306.88 1140.66,307.313 1141.33,307.852 1141.81,308.234 1142.55,308.825 1142.96,309.158 1143.75,309.797 1144.11,310.085 1144.96,310.77 1145.26,311.015 \n",
       "  1146.16,311.742 1146.41,311.948 1147.36,312.715 1147.57,312.883 1148.55,313.687 1148.72,313.821 1149.74,314.659 1149.87,314.762 1150.93,315.632 1151.02,315.705 \n",
       "  1152.11,316.604 1152.17,316.65 1153.3,317.577 1153.32,317.598 1154.47,318.547 1154.47,318.549 1155.62,319.499 1155.65,319.522 1156.77,320.453 1156.82,320.494 \n",
       "  1157.93,321.408 1158,321.466 1159.08,322.366 1159.16,322.439 1160.23,323.325 1160.33,323.411 1161.38,324.285 1161.5,324.384 1162.53,325.247 1162.66,325.356 \n",
       "  1163.68,326.21 1163.82,326.328 1164.83,327.175 1164.98,327.301 1165.98,328.141 1166.14,328.273 1167.13,329.108 1167.3,329.246 1168.29,330.076 1168.46,330.218 \n",
       "  1169.44,331.044 1169.61,331.191 1170.59,332.014 1170.76,332.163 1171.74,332.984 1171.92,333.135 1172.89,333.955 1173.07,334.108 1174.04,334.927 1174.22,335.08 \n",
       "  1175.19,335.898 1175.38,336.053 1176.34,336.87 1176.53,337.025 1177.49,337.843 1177.68,337.997 1178.65,338.815 1178.83,338.97 1179.8,339.787 1179.98,339.942 \n",
       "  1180.95,340.76 1181.13,340.915 1182.1,341.732 1182.28,341.887 1183.25,342.704 1183.44,342.86 1184.4,343.675 1184.59,343.832 1185.55,344.646 1185.74,344.804 \n",
       "  1186.7,345.617 1186.89,345.777 1187.86,346.587 1188.05,346.749 1189.01,347.556 1189.2,347.722 1190.16,348.524 1190.36,348.694 1191.31,349.491 1191.52,349.667 \n",
       "  1192.46,350.457 1192.68,350.639 1193.61,351.422 1193.84,351.611 1194.76,352.386 1195,352.584 1195.91,353.348 1196.16,353.556 1197.06,354.309 1197.33,354.529 \n",
       "  1198.22,355.269 1198.49,355.501 1199.37,356.227 1199.66,356.473 1200.52,357.183 1200.83,357.446 1201.67,358.137 1202.01,358.418 1202.82,359.089 1203.18,359.391 \n",
       "  1203.97,360.04 1204.36,360.363 1205.12,360.988 1205.54,361.336 1206.27,361.934 1206.73,362.308 1207.42,362.878 1207.92,363.28 1208.58,363.819 1209.11,364.253 \n",
       "  1209.73,364.758 1210.3,365.225 1210.88,365.694 1211.5,366.198 1212.03,366.628 1212.7,367.17 1213.18,367.559 1213.9,368.142 1214.33,368.487 1215.11,369.115 \n",
       "  1215.48,369.412 1216.33,370.087 1216.63,370.334 1217.54,371.06 1217.78,371.253 1218.76,372.032 1218.94,372.168 1219.99,373.005 1220.09,373.081 1221.22,373.977 \n",
       "  1221.24,373.99 1222.39,374.895 1222.46,374.949 1223.54,375.797 1223.7,375.922 1224.69,376.695 1224.95,376.894 1225.84,377.589 1226.2,377.867 1226.99,378.48 \n",
       "  1227.46,378.839 1228.14,379.366 1228.73,379.812 1229.3,380.249 1230,380.784 1230.45,381.127 1231.28,381.756 1231.6,382.001 1232.56,382.729 1232.75,382.871 \n",
       "  1233.85,383.701 1233.9,383.737 1235.05,384.598 1235.15,384.674 1236.2,385.454 1236.46,385.646 1237.35,386.306 1237.78,386.618 1238.5,387.153 1239.1,387.591 \n",
       "  1239.66,387.995 1240.44,388.563 1240.81,388.833 1241.78,389.536 1241.96,389.665 1243.11,390.492 1243.13,390.508 1244.26,391.314 1244.49,391.481 1245.41,392.131 \n",
       "  1245.87,392.453 1246.56,392.943 1247.25,393.425 1247.71,393.749 1248.65,394.398 1248.86,394.55 1250.02,395.345 1250.05,395.37 1251.17,396.134 1251.47,396.343 \n",
       "  1252.32,396.918 1252.91,397.315 1253.47,397.696 1254.35,398.287 1254.62,398.468 1255.77,399.234 1255.81,399.26 1256.92,399.994 1257.29,400.232 1258.07,400.748 \n",
       "  1258.78,401.205 1259.23,401.496 1260.28,402.177 1260.38,402.238 1261.53,402.973 1261.81,403.15 1262.68,403.702 1263.35,404.122 1263.83,404.425 1264.91,405.094 \n",
       "  1264.98,405.14 1266.13,405.85 1266.49,406.067 1267.28,406.552 1268.09,407.039 1268.43,407.248 1269.59,407.937 1269.71,408.012 1270.74,408.619 1271.36,408.984 \n",
       "  1271.89,409.294 1273.03,409.957 1273.04,409.962 1274.19,410.623 1274.73,410.929 1275.34,411.277 1276.45,411.901 1276.49,411.924 1277.64,412.563 1278.21,412.874 \n",
       "  1278.79,413.195 1279.95,413.819 1280,413.846 1281.1,414.436 1281.82,414.819 1282.25,415.046 1283.4,415.648 1283.68,415.791 1284.55,416.242 1285.57,416.763 \n",
       "  1285.7,416.828 1286.85,417.407 1287.52,417.736 1288,417.978 1289.15,418.541 1289.5,418.708 1290.31,419.096 1291.46,419.643 1291.54,419.681 1292.61,420.182 \n",
       "  1293.63,420.653 1293.76,420.712 1294.91,421.235 1295.78,421.626 1296.06,421.749 1297.21,422.255 1298,422.598 1298.36,422.753 1299.51,423.243 1300.3,423.57 \n",
       "  1300.67,423.724 1301.82,424.196 1302.68,424.543 1302.97,424.66 1304.12,425.115 1305.15,425.515 1305.27,425.562 1306.42,426 1307.57,426.43 1307.73,426.488 \n",
       "  1308.72,426.851 1309.87,427.262 1310.44,427.46 1311.03,427.665 1312.18,428.06 1313.29,428.432 1313.33,428.445 1314.48,428.821 1315.63,429.189 1316.33,429.405 \n",
       "  1316.78,429.547 1317.93,429.896 1319.08,430.236 1319.57,430.377 1320.23,430.567 1321.39,430.889 1322.54,431.202 1323.1,431.35 1323.69,431.506 1324.84,431.8 \n",
       "  1325.99,432.085 1326.98,432.322 1327.14,432.36 1328.29,432.627 1329.44,432.884 1330.59,433.131 1331.39,433.295 1331.75,433.369 1332.9,433.598 1334.05,433.817 \n",
       "  1335.2,434.027 1336.35,434.227 1336.59,434.267 1337.5,434.418 1338.65,434.599 1339.8,434.771 1340.96,434.933 1342.11,435.085 1343.26,435.228 1343.36,435.239 \n",
       "  1344.41,435.361 1345.56,435.484 1346.71,435.598 1347.86,435.703 1349.01,435.797 1350.16,435.882 1351.32,435.957 1352.47,436.023 1353.62,436.078 1354.77,436.124 \n",
       "  1355.92,436.161 1357.07,436.187 1358.22,436.204 1359.37,436.212 1360.52,436.209 1361.68,436.197 1362.83,436.175 1363.98,436.143 1365.13,436.102 1366.28,436.051 \n",
       "  1367.43,435.99 1368.58,435.919 1369.73,435.839 1370.88,435.749 1372.04,435.649 1373.19,435.54 1374.34,435.421 1375.49,435.293 1375.93,435.239 1376.64,435.154 \n",
       "  1377.79,435.007 1378.94,434.849 1380.09,434.682 1381.24,434.506 1382.4,434.319 1382.7,434.267 1383.55,434.124 1384.7,433.918 1385.85,433.704 1387,433.48 \n",
       "  1387.91,433.295 1388.15,433.246 1389.3,433.003 1390.45,432.751 1391.6,432.489 1392.31,432.322 1392.76,432.218 \n",
       "  \"/>\n",
       "<defs>\n",
       "  <clipPath id=\"clip6803\">\n",
       "    <rect x=\"1424\" y=\"47\" width=\"49\" height=\"973\"/>\n",
       "  </clipPath>\n",
       "</defs>\n",
       "<polyline clip-path=\"url(#clip6803)\" style=\"stroke:#ea6428; stroke-width:4; stroke-opacity:1; fill:none\" points=\"\n",
       "  1424.76,381.513 1472.76,381.513 \n",
       "  \"/>\n",
       "<g clip-path=\"url(#clip6800)\">\n",
       "<text style=\"fill:#000000; fill-opacity:1; font-family:Arial,Helvetica Neue,Helvetica,sans-serif; font-size:48px; text-anchor:start;\" transform=\"rotate(0, 1496.76, 1002.93)\" x=\"1496.76\" y=\"1002.93\">-</text>\n",
       "</g>\n",
       "<g clip-path=\"url(#clip6800)\">\n",
       "<text style=\"fill:#000000; fill-opacity:1; font-family:Arial,Helvetica Neue,Helvetica,sans-serif; font-size:48px; text-anchor:start;\" transform=\"rotate(0, 1524.87, 1002.93)\" x=\"1524.87\" y=\"1002.93\">20</text>\n",
       "</g>\n",
       "<g clip-path=\"url(#clip6800)\">\n",
       "<text style=\"fill:#000000; fill-opacity:1; font-family:Arial,Helvetica Neue,Helvetica,sans-serif; font-size:48px; text-anchor:start;\" transform=\"rotate(0, 1496.76, 850.986)\" x=\"1496.76\" y=\"850.986\">-</text>\n",
       "</g>\n",
       "<g clip-path=\"url(#clip6800)\">\n",
       "<text style=\"fill:#000000; fill-opacity:1; font-family:Arial,Helvetica Neue,Helvetica,sans-serif; font-size:48px; text-anchor:start;\" transform=\"rotate(0, 1524.87, 850.986)\" x=\"1524.87\" y=\"850.986\">15</text>\n",
       "</g>\n",
       "<g clip-path=\"url(#clip6800)\">\n",
       "<text style=\"fill:#000000; fill-opacity:1; font-family:Arial,Helvetica Neue,Helvetica,sans-serif; font-size:48px; text-anchor:start;\" transform=\"rotate(0, 1496.76, 699.046)\" x=\"1496.76\" y=\"699.046\">-</text>\n",
       "</g>\n",
       "<g clip-path=\"url(#clip6800)\">\n",
       "<text style=\"fill:#000000; fill-opacity:1; font-family:Arial,Helvetica Neue,Helvetica,sans-serif; font-size:48px; text-anchor:start;\" transform=\"rotate(0, 1524.87, 699.046)\" x=\"1524.87\" y=\"699.046\">10</text>\n",
       "</g>\n",
       "<g clip-path=\"url(#clip6800)\">\n",
       "<text style=\"fill:#000000; fill-opacity:1; font-family:Arial,Helvetica Neue,Helvetica,sans-serif; font-size:48px; text-anchor:start;\" transform=\"rotate(0, 1496.76, 547.105)\" x=\"1496.76\" y=\"547.105\">-</text>\n",
       "</g>\n",
       "<g clip-path=\"url(#clip6800)\">\n",
       "<text style=\"fill:#000000; fill-opacity:1; font-family:Arial,Helvetica Neue,Helvetica,sans-serif; font-size:48px; text-anchor:start;\" transform=\"rotate(0, 1524.87, 547.105)\" x=\"1524.87\" y=\"547.105\">5</text>\n",
       "</g>\n",
       "<g clip-path=\"url(#clip6800)\">\n",
       "<text style=\"fill:#000000; fill-opacity:1; font-family:Arial,Helvetica Neue,Helvetica,sans-serif; font-size:48px; text-anchor:start;\" transform=\"rotate(0, 1496.76, 395.164)\" x=\"1496.76\" y=\"395.164\">0</text>\n",
       "</g>\n",
       "<g clip-path=\"url(#clip6800)\">\n",
       "<text style=\"fill:#000000; fill-opacity:1; font-family:Arial,Helvetica Neue,Helvetica,sans-serif; font-size:48px; text-anchor:start;\" transform=\"rotate(0, 1496.76, 243.224)\" x=\"1496.76\" y=\"243.224\">5</text>\n",
       "</g>\n",
       "<g clip-path=\"url(#clip6800)\">\n",
       "<text style=\"fill:#000000; fill-opacity:1; font-family:Arial,Helvetica Neue,Helvetica,sans-serif; font-size:48px; text-anchor:start;\" transform=\"rotate(0, 1496.76, 91.2834)\" x=\"1496.76\" y=\"91.2834\">10</text>\n",
       "</g>\n",
       "<polyline clip-path=\"url(#clip6800)\" style=\"stroke:#000000; stroke-width:4; stroke-opacity:1; fill:none\" points=\"\n",
       "  1472.76,1019.66 1472.76,989.275 1488.76,989.275 1472.76,989.275 1472.76,837.335 1488.76,837.335 1472.76,837.335 1472.76,685.394 1488.76,685.394 1472.76,685.394 \n",
       "  1472.76,533.454 1488.76,533.454 1472.76,533.454 1472.76,381.513 1488.76,381.513 1472.76,381.513 1472.76,229.573 1488.76,229.573 1472.76,229.573 1472.76,77.6322 \n",
       "  1488.76,77.6322 1472.76,77.6322 1472.76,47.2441 \n",
       "  \"/>\n",
       "</svg>\n"
      ]
     },
     "execution_count": 58,
     "metadata": {},
     "output_type": "execute_result"
    },
    {
     "name": "stderr",
     "output_type": "stream",
     "text": [
      "┌ Warning: Multiple series with different color share a colorbar. Colorbar may not refelct all series correctly.\n",
      "└ @ Plots /home/pedrohnv/.julia/packages/Plots/h3o4c/src/backends/gr.jl:483\n",
      "┌ Warning: Multiple series with different line width share a colorbar. Colorbar may not refelct all series correctly.\n",
      "└ @ Plots /home/pedrohnv/.julia/packages/Plots/h3o4c/src/backends/gr.jl:483\n",
      "┌ Warning: Multiple series with different line color share a colorbar. Colorbar may not refelct all series correctly.\n",
      "└ @ Plots /home/pedrohnv/.julia/packages/Plots/h3o4c/src/backends/gr.jl:483\n"
     ]
    }
   ],
   "source": [
    "contour(-5:0.01:5, -5:0.01:5, f5, levels=[0], line = 3)\n",
    "contour!(-5:0.01:5, -5:0.01:5, f6, levels=[0], xlabel = \"x\", ylabel=\"y\", size = (400, 300))"
   ]
  },
  {
   "cell_type": "markdown",
   "metadata": {},
   "source": [
    "De acordo com o gráfico, o ponto solução do sistema de equações é aproximadamente $(2.0, 3.0)$"
   ]
  },
  {
   "cell_type": "markdown",
   "metadata": {},
   "source": [
    "#### SYMPY.JL"
   ]
  },
  {
   "cell_type": "markdown",
   "metadata": {},
   "source": [
    "A função `nsolve()` resolve sistemas de equações algébricas não-lineares e retorna um vetor contendo as soluções do sistema do tipo `Sym`. Sintaxe: \n",
    "```julia\n",
    "nsolve([eq_1,..., eq_n], [var_1,..., var_n], [valor_1,..., valor_n])\n",
    "```\n",
    "Sendo: \n",
    "* **[eq_1 , ..., eq_n]**: vetor das equações algébricas expressas por funções genéricas. Não funciona com funções anônimas;\n",
    "* **[var_1, ..., var_n]**: vetor das variável das equações algébricas.\n",
    "* **[valor_var_1,..., valor_var_n]**: vetor de soluções iniciais do sistema.\n",
    "\n",
    "A função `nsolve()` retorna um vetor de dados simbólicos do tipo `SymPy.Sym`."
   ]
  },
  {
   "cell_type": "code",
   "execution_count": 59,
   "metadata": {
    "scrolled": true
   },
   "outputs": [
    {
     "ename": "MethodError",
     "evalue": "MethodError: no method matching nsolve(::Array{Sym,1}, ::Array{Sym,1}, ::Array{Int64,1}; prec=10)\nClosest candidates are:\n  nsolve(!Matched::SymPy.SymbolicObject, ::Any...; kwargs...) at /home/pedrohnv/.julia/packages/SymPy/u9Hkj/src/importexport.jl:120",
     "output_type": "error",
     "traceback": [
      "MethodError: no method matching nsolve(::Array{Sym,1}, ::Array{Sym,1}, ::Array{Int64,1}; prec=10)\nClosest candidates are:\n  nsolve(!Matched::SymPy.SymbolicObject, ::Any...; kwargs...) at /home/pedrohnv/.julia/packages/SymPy/u9Hkj/src/importexport.jl:120",
      "",
      "Stacktrace:",
      " [1] top-level scope at In[59]:1"
     ]
    }
   ],
   "source": [
    "sol_nlsis = nsolve([f5(x, y) , f6(x, y) ],[x, y], [1, 1], prec = 10)"
   ]
  },
  {
   "cell_type": "code",
   "execution_count": 60,
   "metadata": {},
   "outputs": [
    {
     "ename": "UndefVarError",
     "evalue": "UndefVarError: sol_nlsis not defined",
     "output_type": "error",
     "traceback": [
      "UndefVarError: sol_nlsis not defined",
      "",
      "Stacktrace:",
      " [1] top-level scope at In[60]:1"
     ]
    }
   ],
   "source": [
    "typeof(sol_nlsis)"
   ]
  },
  {
   "cell_type": "markdown",
   "metadata": {},
   "source": [
    "A função `nsolve()` retorna o resultado do tipo `Array{Sym,1}`. É interssante converter para um valor numérico (Ex: Float). Para acessar o valor $1.991319355$ use:"
   ]
  },
  {
   "cell_type": "code",
   "execution_count": 61,
   "metadata": {
    "scrolled": true
   },
   "outputs": [
    {
     "ename": "UndefVarError",
     "evalue": "UndefVarError: sol_nlsis not defined",
     "output_type": "error",
     "traceback": [
      "UndefVarError: sol_nlsis not defined",
      "",
      "Stacktrace:",
      " [1] top-level scope at In[61]:1"
     ]
    }
   ],
   "source": [
    "sol_nlsis[1]"
   ]
  },
  {
   "cell_type": "markdown",
   "metadata": {},
   "source": [
    "Gráfico com os resultados:"
   ]
  },
  {
   "cell_type": "code",
   "execution_count": 62,
   "metadata": {},
   "outputs": [
    {
     "ename": "UndefVarError",
     "evalue": "UndefVarError: sol_nlsis not defined",
     "output_type": "error",
     "traceback": [
      "UndefVarError: sol_nlsis not defined",
      "",
      "Stacktrace:",
      " [1] top-level scope at In[62]:3"
     ]
    }
   ],
   "source": [
    "contour(-5:0.01:5, -5:0.01:5, f5, levels = [0], line = 3)\n",
    "contour!(-5:0.01:5, -5:0.01:5, f6, levels = [0], xlabel = \"x\", ylabel = \"y\", size = (400, 300) )\n",
    "scatter!((sol_nlsis[1], sol_nlsis[2]) , label = \"Solução\")"
   ]
  },
  {
   "cell_type": "markdown",
   "metadata": {},
   "source": [
    "#### SUNDIALS.JL\n",
    "\n",
    "A função `Sundials.kinsol()` resolve sistemas de equações algébricas não-lineares e retorna um vetor contendo as soluções do sistema do tipo `Float64`. Sintaxe:\n",
    "```julia\n",
    "    function nome_sistema(função, var)\n",
    "        função[1] = a_1*var[1] + b_1*var[2] + ... + k_1     \n",
    "        função[2] = a_2*var[1] + b_2*var[2] + ... + k_2\n",
    "        ...\n",
    "        função[n] = a_n*var[1] + b_n*var[2] + ... + k_n  \n",
    "    end\n",
    "    \n",
    "    Sundials.kinsol(nome_função, v_0)\n",
    "```\n",
    "Sendo:\n",
    "\n",
    "* **nome_sistema**: nome da função correspondente ao sistema de equações;\n",
    "* **função**:  sistema de equações;\n",
    "* **função[1], função[2], função[n]**: funções do sistema de equações.\n",
    "* **a, b, ... e k**:  constantes das equações. \n",
    "* **var[1] e var[2]**:  corresponde às variáveis do sistem de equações. `var[1]` corresponde à variável `x` e `var[2]` à variável `y`;\n",
    "* **v_0**: vetor de soluções iniciais do sistema.\n",
    "\n",
    "A função `Sundials.kinsol()` retorna um vetor de dados numéricos do tipo `Float64`."
   ]
  },
  {
   "cell_type": "code",
   "execution_count": 63,
   "metadata": {},
   "outputs": [
    {
     "ename": "ArgumentError",
     "evalue": "ArgumentError: Package Sundials not found in current path:\n- Run `import Pkg; Pkg.add(\"Sundials\")` to install the Sundials package.\n",
     "output_type": "error",
     "traceback": [
      "ArgumentError: Package Sundials not found in current path:\n- Run `import Pkg; Pkg.add(\"Sundials\")` to install the Sundials package.\n",
      "",
      "Stacktrace:",
      " [1] require(::Module, ::Symbol) at ./loading.jl:876",
      " [2] top-level scope at In[63]:1"
     ]
    }
   ],
   "source": [
    "using Sundials"
   ]
  },
  {
   "cell_type": "code",
   "execution_count": 64,
   "metadata": {},
   "outputs": [
    {
     "data": {
      "text/plain": [
       "sistema_SD (generic function with 1 method)"
      ]
     },
     "execution_count": 64,
     "metadata": {},
     "output_type": "execute_result"
    }
   ],
   "source": [
    "function sistema_SD(f, x)\n",
    "    f[1] = 3*x[1] + cos(x[2]) - 5    \n",
    "    f[2] = -sin(x[1]) + x[2] - 2\n",
    "end"
   ]
  },
  {
   "cell_type": "code",
   "execution_count": 65,
   "metadata": {
    "scrolled": false
   },
   "outputs": [
    {
     "ename": "UndefVarError",
     "evalue": "UndefVarError: Sundials not defined",
     "output_type": "error",
     "traceback": [
      "UndefVarError: Sundials not defined",
      "",
      "Stacktrace:",
      " [1] top-level scope at In[65]:1"
     ]
    }
   ],
   "source": [
    "solSD = Sundials.kinsol(sistema_SD, [1.0, 1.0])"
   ]
  },
  {
   "cell_type": "code",
   "execution_count": 66,
   "metadata": {},
   "outputs": [
    {
     "ename": "UndefVarError",
     "evalue": "UndefVarError: solSD not defined",
     "output_type": "error",
     "traceback": [
      "UndefVarError: solSD not defined",
      "",
      "Stacktrace:",
      " [1] top-level scope at In[66]:1"
     ]
    }
   ],
   "source": [
    "# para acessar somente o valor de X\n",
    "solSD[1]"
   ]
  },
  {
   "cell_type": "code",
   "execution_count": 67,
   "metadata": {},
   "outputs": [
    {
     "ename": "UndefVarError",
     "evalue": "UndefVarError: solSD not defined",
     "output_type": "error",
     "traceback": [
      "UndefVarError: solSD not defined",
      "",
      "Stacktrace:",
      " [1] top-level scope at In[67]:1"
     ]
    }
   ],
   "source": [
    "# para acessar somente o valor de Y\n",
    "solSD[2]"
   ]
  },
  {
   "cell_type": "markdown",
   "metadata": {},
   "source": [
    "#### NLSOLVE.JL\n",
    "\n",
    "A função `nlsolve()` resolve sistemas de equações algébricas não-lineares e retorna um vetor contendo as soluções do sistema do tipo `SolverResults{Float64,Array{Float64,1},Array{Float64,1}}`. Sintaxe:\n",
    "```julia\n",
    "    function nome_sistema(função, var)\n",
    "        função[1] = a_1*var[1] + b_1*var[2] + ... + k_1     \n",
    "        função[2] = a_2*var[1] + b_2*var[2] + ... + k_2\n",
    "        ...\n",
    "        função[n] = a_n*var[1] + b_n*var[2] + ... + k_n  \n",
    "    end\n",
    "    \n",
    "    Sundials.kinsol(nome_função, v_0)\n",
    "```\n",
    "Sendo:\n",
    "\n",
    "* **nome_sistema**: nome da função correspondente ao sistema de equações;\n",
    "* **função**:  sistema de equações;\n",
    "* **função[1], função[2], função[n]**: funções do sistema de equações.\n",
    "* **a, b, ... e k**:  constantes das equações. \n",
    "* **var[1] e var[2]**:  corresponde às variáveis do sistem de equações. `var[1]` corresponde à variável `x` e `var[2]` à variável `y`;\n",
    "* **v_0**: vetor de soluções iniciais do sistema.\n",
    "\n",
    "A função `nlsolve()` retorna um resultado do tipo `NLsolve.SolverResults{Float64})` e os dados podem ser acessados colocando \" . \" e completando com \"tab\". "
   ]
  },
  {
   "cell_type": "code",
   "execution_count": 68,
   "metadata": {},
   "outputs": [
    {
     "ename": "ArgumentError",
     "evalue": "ArgumentError: Package NLsolve not found in current path:\n- Run `import Pkg; Pkg.add(\"NLsolve\")` to install the NLsolve package.\n",
     "output_type": "error",
     "traceback": [
      "ArgumentError: Package NLsolve not found in current path:\n- Run `import Pkg; Pkg.add(\"NLsolve\")` to install the NLsolve package.\n",
      "",
      "Stacktrace:",
      " [1] require(::Module, ::Symbol) at ./loading.jl:876",
      " [2] top-level scope at In[68]:1"
     ]
    }
   ],
   "source": [
    "using NLsolve"
   ]
  },
  {
   "cell_type": "code",
   "execution_count": 69,
   "metadata": {
    "scrolled": true
   },
   "outputs": [
    {
     "data": {
      "text/plain": [
       "sistema_NLS (generic function with 1 method)"
      ]
     },
     "execution_count": 69,
     "metadata": {},
     "output_type": "execute_result"
    }
   ],
   "source": [
    "function sistema_NLS(f, x)\n",
    "    f[1] = 3*x[1] + cos(x[2]) - 5    \n",
    "    f[2] = -sin(x[1]) + x[2] - 2\n",
    "end"
   ]
  },
  {
   "cell_type": "code",
   "execution_count": 70,
   "metadata": {
    "scrolled": false
   },
   "outputs": [
    {
     "ename": "UndefVarError",
     "evalue": "UndefVarError: nlsolve not defined",
     "output_type": "error",
     "traceback": [
      "UndefVarError: nlsolve not defined",
      "",
      "Stacktrace:",
      " [1] top-level scope at In[70]:1"
     ]
    }
   ],
   "source": [
    "solNLS = nlsolve(sistema_NLS, [ 1.0, 1.0])"
   ]
  },
  {
   "cell_type": "code",
   "execution_count": 71,
   "metadata": {
    "scrolled": true
   },
   "outputs": [
    {
     "ename": "UndefVarError",
     "evalue": "UndefVarError: solNLS not defined",
     "output_type": "error",
     "traceback": [
      "UndefVarError: solNLS not defined",
      "",
      "Stacktrace:",
      " [1] top-level scope at In[71]:1"
     ]
    }
   ],
   "source": [
    "typeof(solNLS)"
   ]
  },
  {
   "cell_type": "code",
   "execution_count": 72,
   "metadata": {},
   "outputs": [
    {
     "ename": "UndefVarError",
     "evalue": "UndefVarError: solNLS not defined",
     "output_type": "error",
     "traceback": [
      "UndefVarError: solNLS not defined",
      "",
      "Stacktrace:",
      " [1] top-level scope at In[72]:1"
     ]
    }
   ],
   "source": [
    "# para acessar somente os valores das soluções\n",
    "solNLS.zero"
   ]
  },
  {
   "cell_type": "code",
   "execution_count": 73,
   "metadata": {},
   "outputs": [
    {
     "ename": "UndefVarError",
     "evalue": "UndefVarError: solNLS not defined",
     "output_type": "error",
     "traceback": [
      "UndefVarError: solNLS not defined",
      "",
      "Stacktrace:",
      " [1] top-level scope at In[73]:1"
     ]
    }
   ],
   "source": [
    "# para acessar somente os o valor de x\n",
    "solNLS.zero[1]"
   ]
  },
  {
   "cell_type": "code",
   "execution_count": 74,
   "metadata": {},
   "outputs": [
    {
     "ename": "UndefVarError",
     "evalue": "UndefVarError: solNLS not defined",
     "output_type": "error",
     "traceback": [
      "UndefVarError: solNLS not defined",
      "",
      "Stacktrace:",
      " [1] top-level scope at In[74]:1"
     ]
    }
   ],
   "source": [
    "# para acessar somente a quantidade de interações\n",
    "# menos interações, siginifica que o valor inicial foi melhor.\n",
    "solNLS.iterations"
   ]
  },
  {
   "cell_type": "markdown",
   "metadata": {},
   "source": [
    "## DOMÍNIO DE UMA INEQUAÇÃO\n",
    "\n",
    "SymPy:\n",
    "```\n",
    "Ge - Maior igual (great equal)\n",
    "Gt - Maior que   (great que)\n",
    "Eq - Igual       (Equal)\n",
    "Le - Menor igual (Less equal)\n",
    "Lt - Menor que   (Less then)\n",
    "Ne - Diferente   (not equal)\n",
    "∧  - E  lógico\n",
    "∨  - OU lógico\n",
    "```"
   ]
  },
  {
   "cell_type": "code",
   "execution_count": 75,
   "metadata": {
    "scrolled": false
   },
   "outputs": [
    {
     "data": {
      "text/plain": [
       "(x,)"
      ]
     },
     "execution_count": 75,
     "metadata": {},
     "output_type": "execute_result"
    }
   ],
   "source": [
    "using SymPy\n",
    "@syms x"
   ]
  },
  {
   "cell_type": "markdown",
   "metadata": {},
   "source": [
    "* **Inequação 1**\n",
    "\n",
    "$\\displaystyle {(x - 2)\\over(x-1)} \\geqslant 0$"
   ]
  },
  {
   "cell_type": "code",
   "execution_count": 76,
   "metadata": {},
   "outputs": [
    {
     "data": {
      "text/latex": [
       "\\begin{equation*}\\left(2 \\leq x \\wedge x < \\infty\\right) \\vee \\left(-\\infty < x \\wedge x < 1\\right)\\end{equation*}"
      ],
      "text/plain": [
       "(2 ≤ x ∧ x < ∞) ∨ (-∞ < x ∧ x < 1)"
      ]
     },
     "execution_count": 76,
     "metadata": {},
     "output_type": "execute_result"
    }
   ],
   "source": [
    "solve( Ge((x - 2)/(x-1), 0), x)"
   ]
  },
  {
   "cell_type": "markdown",
   "metadata": {},
   "source": [
    "Explicando: Valores de `x` maiores ou igual a 2 e menores que infinito OU `x` maior que menos infinito e `x` menor que 1"
   ]
  },
  {
   "cell_type": "markdown",
   "metadata": {},
   "source": [
    "* **Inequação 2**\n",
    "\n",
    "$\\displaystyle {(x - 2)\\over(x-1)} > 0$"
   ]
  },
  {
   "cell_type": "code",
   "execution_count": 77,
   "metadata": {},
   "outputs": [
    {
     "data": {
      "text/latex": [
       "\\begin{equation*}\\left(-\\infty < x \\wedge x < 1\\right) \\vee \\left(2 < x \\wedge x < \\infty\\right)\\end{equation*}"
      ],
      "text/plain": [
       "(-∞ < x ∧ x < 1) ∨ (2 < x ∧ x < ∞)"
      ]
     },
     "execution_count": 77,
     "metadata": {},
     "output_type": "execute_result"
    }
   ],
   "source": [
    "solve(Gt((x - 2)/(x-1),0), x)"
   ]
  },
  {
   "cell_type": "markdown",
   "metadata": {},
   "source": [
    "* **Inequação 3**\n",
    "\n",
    "$\\displaystyle {(x - 2)\\over(x-1)} \\leqslant 0$"
   ]
  },
  {
   "cell_type": "code",
   "execution_count": 78,
   "metadata": {
    "scrolled": true
   },
   "outputs": [
    {
     "data": {
      "text/latex": [
       "\\begin{equation*}x \\leq 2 \\wedge 1 < x\\end{equation*}"
      ],
      "text/plain": [
       "x ≤ 2 ∧ 1 < x"
      ]
     },
     "execution_count": 78,
     "metadata": {},
     "output_type": "execute_result"
    }
   ],
   "source": [
    "solve(Le((x - 2)/(x-1), 0), x)"
   ]
  },
  {
   "cell_type": "markdown",
   "metadata": {},
   "source": [
    "* **Inequação 4**\n",
    "\n",
    "$\\displaystyle {(x - 2)\\over(x-1)} < 0$"
   ]
  },
  {
   "cell_type": "code",
   "execution_count": 79,
   "metadata": {
    "scrolled": true
   },
   "outputs": [
    {
     "data": {
      "text/latex": [
       "\\begin{equation*}1 < x \\wedge x < 2\\end{equation*}"
      ],
      "text/plain": [
       "1 < x ∧ x < 2"
      ]
     },
     "execution_count": 79,
     "metadata": {},
     "output_type": "execute_result"
    }
   ],
   "source": [
    "solve(Lt((x - 2)/(x-1), 0), x)"
   ]
  },
  {
   "cell_type": "markdown",
   "metadata": {},
   "source": [
    "* **Inequação 5**\n",
    "\n",
    "$\\displaystyle {(x - 2)\\over(x-1)} \\neq 0$"
   ]
  },
  {
   "cell_type": "code",
   "execution_count": 80,
   "metadata": {},
   "outputs": [
    {
     "data": {
      "text/latex": [
       "\\begin{equation*}\\left(1 < x \\wedge x < 2\\right) \\vee 2 < x \\vee x < 1\\end{equation*}"
      ],
      "text/plain": [
       "(1 < x ∧ x < 2) ∨ 2 < x ∨ x < 1"
      ]
     },
     "execution_count": 80,
     "metadata": {},
     "output_type": "execute_result"
    }
   ],
   "source": [
    "solve(Ne((x - 2)/(x-1), 0), x)"
   ]
  },
  {
   "cell_type": "markdown",
   "metadata": {},
   "source": [
    "## REFERÊNCIAS BIBLIOGRÁFICAS\n",
    "\n",
    "\n",
    "Rackauckas, C. & Nie, Q., (2017). **DifferentialEquations.jl – A Performant and Feature-Rich Ecosystem for Solving Differential Equations in Julia**. Journal of Open Research Software. 5(1), p.15.\n",
    "\n",
    "A. C. Hindmarsh, P. N. Brown, K. E. Grant, S. L. Lee, R. Serban, D. E. Shumaker, and C. S. Woodward, **SUNDIALS: Suite of Nonlinear and Differential/Algebraic Equation Solvers**. ACM Transactions on Mathematical Software, 31(3), pp. 363-396, 2005. \n"
   ]
  }
 ],
 "metadata": {
  "@webio": {
   "lastCommId": null,
   "lastKernelId": null
  },
  "anaconda-cloud": {},
  "kernelspec": {
   "display_name": "Julia 1.2.0",
   "language": "julia",
   "name": "julia-1.2"
  },
  "language_info": {
   "file_extension": ".jl",
   "mimetype": "application/julia",
   "name": "julia",
   "version": "1.2.0"
  }
 },
 "nbformat": 4,
 "nbformat_minor": 1
}
