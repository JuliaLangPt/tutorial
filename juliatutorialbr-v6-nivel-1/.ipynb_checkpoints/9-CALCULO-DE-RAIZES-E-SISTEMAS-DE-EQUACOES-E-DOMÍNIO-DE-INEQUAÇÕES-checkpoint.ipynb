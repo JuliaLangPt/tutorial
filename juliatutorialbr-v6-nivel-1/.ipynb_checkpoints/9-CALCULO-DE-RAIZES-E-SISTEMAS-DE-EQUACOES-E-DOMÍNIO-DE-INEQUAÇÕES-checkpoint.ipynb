{
 "cells": [
  {
   "cell_type": "markdown",
   "metadata": {},
   "source": [
    "# CÁLCULO DE RAÍZES E SISTEMAS DE EQUAÇÕES E INEQUAÇÕES\n",
    "\n",
    "Uma equação é uma afirmação de igualdade, geralmente entre duas expressões matemáticas `f`, `g`,  envolvendo números, parâmetros e variáveis (KRANTZ, 2001). Dessa forma, uma solução de uma equação em uma incógnita (\"x\", por exemplo) compreende o valor da incógnita que determina a equação verdadeira. \n",
    "\n",
    "Em vários problemas de engenharia e exatas nos deparamos com situações no qual é importante encontrar as raízes de uma equação algébrica ou transcendental, na forma $f(x) = 0$. Em algumas situações é possível encontrar uma raíz através da inspeção visual de um gráfico, no qual o ponto de interceptação do eixo \"x\" ou o ponto de interceptação entre os gráficos das equações, representa uma raiz do problema. Apesar de impreciso, o método gráfico é útil para definir quais os pontos inicias de um método computacional. Julia possui os seguintes pacotes para encontrar raízes de equações:\n",
    "\n",
    "\n",
    "* **SymPy**: O pacote SymPy é uma biblioteca Python para matemática simbólica acessada via pacote PyCall e permite resolver equações e sistemas lineares. A função `solve()` permite resolver equações e sistemas lineares e `nsolve()` equações e sistemas não lineares. \n",
    "\n",
    " \n",
    "* **Roots**: Este pacote implementa métodos numéricos (Bissecção, Newton, Secante e Halley) para encontrar raízes de equações lineares e não lineares. A interface básica é através da função `fzero()`.\n",
    "\n",
    "\n",
    "* **Polynomials**: É um pacote exclusivo para manipulação de polinômios. Permite operações de aritmética básica, integração, diferenciação, avaliação e determinação de raizes em polinômios univariados densos.\n",
    "\n",
    "\n",
    "* **SunDials**: É um pacote para Julia que faz a interface para a biblioteca Sundials da biblioteca escrita em `C`. Apresenta uma ótima velocidade de cálculo e permite resolver integrais de EDO, sistemas não lineares e outros.\n",
    "\n",
    "\n",
    "* **NLsolve**: O pacote NLsolve resolve sistemas de equações não-lineares utilizando diversos algoritmos e métodos numericos."
   ]
  },
  {
   "cell_type": "markdown",
   "metadata": {},
   "source": [
    "## RAIZES DE UMA EQUAÇÃO "
   ]
  },
  {
   "cell_type": "markdown",
   "metadata": {},
   "source": [
    "### SOLUÇÃO SYMBÓLICA"
   ]
  },
  {
   "cell_type": "markdown",
   "metadata": {},
   "source": [
    "#### SYMPY\n",
    "\n",
    "Para calcular as raízes de uma equação algébrica ou transcendente* com apenas uma variável use a seguinte sintaxe:\n",
    "```julia\n",
    "solve(equação, variável)\n",
    "```\n",
    "Sendo:\n",
    "- equação: equação algébrica expressa diretamente ou através de uma função genérica. Não funciona com função anônima.\n",
    "- variável : incógnita.\n",
    "\n",
    "A função retorna um vetor de dados simbólicos do tipo `SymPy.Sym`. Caso a função `solve()` retorne `[]` ou <span style=\"color:blue\">raises NotImplementedError</span>, isto significa que o método empregado pelo função `solve()` não conseguiu encontrar uma solução, porém ela poderá existir e será encontrada (caso exista em um dado intervalo) numericamente. \n",
    "\n",
    "    * nem todas é possível calcular, sendo então necessário uma solução numérica."
   ]
  },
  {
   "cell_type": "markdown",
   "metadata": {},
   "source": [
    "Equação de Gauss, ou equação dos pontos conjugados, relaciona a posição onde está o objeto ($p$) à frente de um espelho esférico, a posição da imagem formada ($p'$) e o foco do espelho (f): \n",
    "\n",
    "$\\frac{1}{f} = \\frac{1}{p} + \\frac{1}{p'}$ \n",
    "\n",
    "Posemos resolver a equação de Gauss em relação à distância $p$"
   ]
  },
  {
   "cell_type": "code",
   "execution_count": 11,
   "metadata": {
    "collapsed": false,
    "scrolled": false
   },
   "outputs": [
    {
     "data": {
      "text/plain": [
       "(f, p_o, p_i)"
      ]
     },
     "execution_count": 11,
     "metadata": {},
     "output_type": "execute_result"
    }
   ],
   "source": [
    "using SymPy\n",
    "@syms f p_o p_i"
   ]
  },
  {
   "cell_type": "code",
   "execution_count": 13,
   "metadata": {
    "collapsed": false
   },
   "outputs": [
    {
     "data": {
      "text/latex": [
       "\\begin{bmatrix}- \\frac{f p_{i}}{f - p_{i}}\\end{bmatrix}"
      ],
      "text/plain": [
       "1-element Array{SymPy.Sym,1}:\n",
       " -f*p_i/(f - p_i)"
      ]
     },
     "execution_count": 13,
     "metadata": {},
     "output_type": "execute_result"
    }
   ],
   "source": [
    "sol_p_o = solve(1/f - 1/p_o - 1/p_i, p_o)"
   ]
  },
  {
   "cell_type": "code",
   "execution_count": 24,
   "metadata": {
    "collapsed": false
   },
   "outputs": [
    {
     "data": {
      "text/plain": [
       "Array{SymPy.Sym,1}"
      ]
     },
     "execution_count": 24,
     "metadata": {},
     "output_type": "execute_result"
    }
   ],
   "source": [
    "# resultado é um vetor de dados do tipo simbólico\n",
    "typeof(sol_p_o)"
   ]
  },
  {
   "cell_type": "markdown",
   "metadata": {},
   "source": [
    "Agora a solução em relação ao foco $f$, o resultado será o produto pela soma:"
   ]
  },
  {
   "cell_type": "code",
   "execution_count": 22,
   "metadata": {
    "collapsed": false,
    "scrolled": true
   },
   "outputs": [
    {
     "data": {
      "text/latex": [
       "\\begin{bmatrix}\\frac{p_{i} p_{o}}{p_{i} + p_{o}}\\end{bmatrix}"
      ],
      "text/plain": [
       "1-element Array{SymPy.Sym,1}:\n",
       " p_i*p_o/(p_i + p_o)"
      ]
     },
     "execution_count": 22,
     "metadata": {},
     "output_type": "execute_result"
    }
   ],
   "source": [
    "solve(1/f - 1/p_i - 1/p_o, f)"
   ]
  },
  {
   "cell_type": "code",
   "execution_count": 40,
   "metadata": {
    "collapsed": false,
    "scrolled": false
   },
   "outputs": [
    {
     "data": {
      "text/html": [
       "<?xml version=\"1.0\" encoding=\"utf-8\"?>\n",
       "<svg xmlns=\"http://www.w3.org/2000/svg\" xmlns:xlink=\"http://www.w3.org/1999/xlink\" width=\"400\" height=\"300\" viewBox=\"0 0 400 300\">\n",
       "<defs>\n",
       "  <clipPath id=\"clip5600\">\n",
       "    <rect x=\"0\" y=\"0\" width=\"400\" height=\"300\"/>\n",
       "  </clipPath>\n",
       "</defs>\n",
       "<polygon clip-path=\"url(#clip5600)\" points=\"\n",
       "0,300 400,300 400,0 0,0 \n",
       "  \" fill=\"#ffffff\" fill-opacity=\"1\"/>\n",
       "<defs>\n",
       "  <clipPath id=\"clip5601\">\n",
       "    <rect x=\"80\" y=\"0\" width=\"281\" height=\"281\"/>\n",
       "  </clipPath>\n",
       "</defs>\n",
       "<polygon clip-path=\"url(#clip5600)\" points=\"\n",
       "44.6753,259.011 380.315,259.011 380.315,11.811 44.6753,11.811 \n",
       "  \" fill=\"#ffffff\" fill-opacity=\"1\"/>\n",
       "<defs>\n",
       "  <clipPath id=\"clip5602\">\n",
       "    <rect x=\"44\" y=\"11\" width=\"337\" height=\"248\"/>\n",
       "  </clipPath>\n",
       "</defs>\n",
       "<polyline clip-path=\"url(#clip5602)\" style=\"stroke:#000000; stroke-width:0.5; stroke-opacity:0.1; fill:none\" points=\"\n",
       "  44.6753,259.011 44.6753,11.811 \n",
       "  \"/>\n",
       "<polyline clip-path=\"url(#clip5602)\" style=\"stroke:#000000; stroke-width:0.5; stroke-opacity:0.1; fill:none\" points=\"\n",
       "  78.2393,259.011 78.2393,11.811 \n",
       "  \"/>\n",
       "<polyline clip-path=\"url(#clip5602)\" style=\"stroke:#000000; stroke-width:0.5; stroke-opacity:0.1; fill:none\" points=\"\n",
       "  111.803,259.011 111.803,11.811 \n",
       "  \"/>\n",
       "<polyline clip-path=\"url(#clip5602)\" style=\"stroke:#000000; stroke-width:0.5; stroke-opacity:0.1; fill:none\" points=\"\n",
       "  145.367,259.011 145.367,11.811 \n",
       "  \"/>\n",
       "<polyline clip-path=\"url(#clip5602)\" style=\"stroke:#000000; stroke-width:0.5; stroke-opacity:0.1; fill:none\" points=\"\n",
       "  178.931,259.011 178.931,11.811 \n",
       "  \"/>\n",
       "<polyline clip-path=\"url(#clip5602)\" style=\"stroke:#000000; stroke-width:0.5; stroke-opacity:0.1; fill:none\" points=\"\n",
       "  212.495,259.011 212.495,11.811 \n",
       "  \"/>\n",
       "<polyline clip-path=\"url(#clip5602)\" style=\"stroke:#000000; stroke-width:0.5; stroke-opacity:0.1; fill:none\" points=\"\n",
       "  246.059,259.011 246.059,11.811 \n",
       "  \"/>\n",
       "<polyline clip-path=\"url(#clip5602)\" style=\"stroke:#000000; stroke-width:0.5; stroke-opacity:0.1; fill:none\" points=\"\n",
       "  279.623,259.011 279.623,11.811 \n",
       "  \"/>\n",
       "<polyline clip-path=\"url(#clip5602)\" style=\"stroke:#000000; stroke-width:0.5; stroke-opacity:0.1; fill:none\" points=\"\n",
       "  313.187,259.011 313.187,11.811 \n",
       "  \"/>\n",
       "<polyline clip-path=\"url(#clip5602)\" style=\"stroke:#000000; stroke-width:0.5; stroke-opacity:0.1; fill:none\" points=\"\n",
       "  346.751,259.011 346.751,11.811 \n",
       "  \"/>\n",
       "<polyline clip-path=\"url(#clip5602)\" style=\"stroke:#000000; stroke-width:0.5; stroke-opacity:0.1; fill:none\" points=\"\n",
       "  380.315,259.011 380.315,11.811 \n",
       "  \"/>\n",
       "<polyline clip-path=\"url(#clip5602)\" style=\"stroke:#000000; stroke-width:0.5; stroke-opacity:0.1; fill:none\" points=\"\n",
       "  44.6753,234.144 380.315,234.144 \n",
       "  \"/>\n",
       "<polyline clip-path=\"url(#clip5602)\" style=\"stroke:#000000; stroke-width:0.5; stroke-opacity:0.1; fill:none\" points=\"\n",
       "  44.6753,204.89 380.315,204.89 \n",
       "  \"/>\n",
       "<polyline clip-path=\"url(#clip5602)\" style=\"stroke:#000000; stroke-width:0.5; stroke-opacity:0.1; fill:none\" points=\"\n",
       "  44.6753,175.636 380.315,175.636 \n",
       "  \"/>\n",
       "<polyline clip-path=\"url(#clip5602)\" style=\"stroke:#000000; stroke-width:0.5; stroke-opacity:0.1; fill:none\" points=\"\n",
       "  44.6753,146.381 380.315,146.381 \n",
       "  \"/>\n",
       "<polyline clip-path=\"url(#clip5602)\" style=\"stroke:#000000; stroke-width:0.5; stroke-opacity:0.1; fill:none\" points=\"\n",
       "  44.6753,117.127 380.315,117.127 \n",
       "  \"/>\n",
       "<polyline clip-path=\"url(#clip5602)\" style=\"stroke:#000000; stroke-width:0.5; stroke-opacity:0.1; fill:none\" points=\"\n",
       "  44.6753,87.8724 380.315,87.8724 \n",
       "  \"/>\n",
       "<polyline clip-path=\"url(#clip5602)\" style=\"stroke:#000000; stroke-width:0.5; stroke-opacity:0.1; fill:none\" points=\"\n",
       "  44.6753,58.618 380.315,58.618 \n",
       "  \"/>\n",
       "<polyline clip-path=\"url(#clip5602)\" style=\"stroke:#000000; stroke-width:0.5; stroke-opacity:0.1; fill:none\" points=\"\n",
       "  44.6753,29.3637 380.315,29.3637 \n",
       "  \"/>\n",
       "<polyline clip-path=\"url(#clip5600)\" style=\"stroke:#000000; stroke-width:1; stroke-opacity:1; fill:none\" points=\"\n",
       "  44.6753,259.011 380.315,259.011 \n",
       "  \"/>\n",
       "<polyline clip-path=\"url(#clip5600)\" style=\"stroke:#000000; stroke-width:1; stroke-opacity:1; fill:none\" points=\"\n",
       "  44.6753,259.011 44.6753,11.811 \n",
       "  \"/>\n",
       "<polyline clip-path=\"url(#clip5600)\" style=\"stroke:#000000; stroke-width:1; stroke-opacity:1; fill:none\" points=\"\n",
       "  44.6753,259.011 44.6753,255.303 \n",
       "  \"/>\n",
       "<polyline clip-path=\"url(#clip5600)\" style=\"stroke:#000000; stroke-width:1; stroke-opacity:1; fill:none\" points=\"\n",
       "  78.2393,259.011 78.2393,255.303 \n",
       "  \"/>\n",
       "<polyline clip-path=\"url(#clip5600)\" style=\"stroke:#000000; stroke-width:1; stroke-opacity:1; fill:none\" points=\"\n",
       "  111.803,259.011 111.803,255.303 \n",
       "  \"/>\n",
       "<polyline clip-path=\"url(#clip5600)\" style=\"stroke:#000000; stroke-width:1; stroke-opacity:1; fill:none\" points=\"\n",
       "  145.367,259.011 145.367,255.303 \n",
       "  \"/>\n",
       "<polyline clip-path=\"url(#clip5600)\" style=\"stroke:#000000; stroke-width:1; stroke-opacity:1; fill:none\" points=\"\n",
       "  178.931,259.011 178.931,255.303 \n",
       "  \"/>\n",
       "<polyline clip-path=\"url(#clip5600)\" style=\"stroke:#000000; stroke-width:1; stroke-opacity:1; fill:none\" points=\"\n",
       "  212.495,259.011 212.495,255.303 \n",
       "  \"/>\n",
       "<polyline clip-path=\"url(#clip5600)\" style=\"stroke:#000000; stroke-width:1; stroke-opacity:1; fill:none\" points=\"\n",
       "  246.059,259.011 246.059,255.303 \n",
       "  \"/>\n",
       "<polyline clip-path=\"url(#clip5600)\" style=\"stroke:#000000; stroke-width:1; stroke-opacity:1; fill:none\" points=\"\n",
       "  279.623,259.011 279.623,255.303 \n",
       "  \"/>\n",
       "<polyline clip-path=\"url(#clip5600)\" style=\"stroke:#000000; stroke-width:1; stroke-opacity:1; fill:none\" points=\"\n",
       "  313.187,259.011 313.187,255.303 \n",
       "  \"/>\n",
       "<polyline clip-path=\"url(#clip5600)\" style=\"stroke:#000000; stroke-width:1; stroke-opacity:1; fill:none\" points=\"\n",
       "  346.751,259.011 346.751,255.303 \n",
       "  \"/>\n",
       "<polyline clip-path=\"url(#clip5600)\" style=\"stroke:#000000; stroke-width:1; stroke-opacity:1; fill:none\" points=\"\n",
       "  380.315,259.011 380.315,255.303 \n",
       "  \"/>\n",
       "<polyline clip-path=\"url(#clip5600)\" style=\"stroke:#000000; stroke-width:1; stroke-opacity:1; fill:none\" points=\"\n",
       "  44.6753,234.144 49.7099,234.144 \n",
       "  \"/>\n",
       "<polyline clip-path=\"url(#clip5600)\" style=\"stroke:#000000; stroke-width:1; stroke-opacity:1; fill:none\" points=\"\n",
       "  44.6753,204.89 49.7099,204.89 \n",
       "  \"/>\n",
       "<polyline clip-path=\"url(#clip5600)\" style=\"stroke:#000000; stroke-width:1; stroke-opacity:1; fill:none\" points=\"\n",
       "  44.6753,175.636 49.7099,175.636 \n",
       "  \"/>\n",
       "<polyline clip-path=\"url(#clip5600)\" style=\"stroke:#000000; stroke-width:1; stroke-opacity:1; fill:none\" points=\"\n",
       "  44.6753,146.381 49.7099,146.381 \n",
       "  \"/>\n",
       "<polyline clip-path=\"url(#clip5600)\" style=\"stroke:#000000; stroke-width:1; stroke-opacity:1; fill:none\" points=\"\n",
       "  44.6753,117.127 49.7099,117.127 \n",
       "  \"/>\n",
       "<polyline clip-path=\"url(#clip5600)\" style=\"stroke:#000000; stroke-width:1; stroke-opacity:1; fill:none\" points=\"\n",
       "  44.6753,87.8724 49.7099,87.8724 \n",
       "  \"/>\n",
       "<polyline clip-path=\"url(#clip5600)\" style=\"stroke:#000000; stroke-width:1; stroke-opacity:1; fill:none\" points=\"\n",
       "  44.6753,58.618 49.7099,58.618 \n",
       "  \"/>\n",
       "<polyline clip-path=\"url(#clip5600)\" style=\"stroke:#000000; stroke-width:1; stroke-opacity:1; fill:none\" points=\"\n",
       "  44.6753,29.3637 49.7099,29.3637 \n",
       "  \"/>\n",
       "<g clip-path=\"url(#clip5600)\">\n",
       "<text style=\"fill:#000000; fill-opacity:1; font-family:Arial,Helvetica Neue,Helvetica,sans-serif; font-size:12; text-anchor:middle;\" transform=\"rotate(0, 44.6753, 271.811)\" x=\"44.6753\" y=\"271.811\">-5</text>\n",
       "</g>\n",
       "<g clip-path=\"url(#clip5600)\">\n",
       "<text style=\"fill:#000000; fill-opacity:1; font-family:Arial,Helvetica Neue,Helvetica,sans-serif; font-size:12; text-anchor:middle;\" transform=\"rotate(0, 78.2393, 271.811)\" x=\"78.2393\" y=\"271.811\">-4</text>\n",
       "</g>\n",
       "<g clip-path=\"url(#clip5600)\">\n",
       "<text style=\"fill:#000000; fill-opacity:1; font-family:Arial,Helvetica Neue,Helvetica,sans-serif; font-size:12; text-anchor:middle;\" transform=\"rotate(0, 111.803, 271.811)\" x=\"111.803\" y=\"271.811\">-3</text>\n",
       "</g>\n",
       "<g clip-path=\"url(#clip5600)\">\n",
       "<text style=\"fill:#000000; fill-opacity:1; font-family:Arial,Helvetica Neue,Helvetica,sans-serif; font-size:12; text-anchor:middle;\" transform=\"rotate(0, 145.367, 271.811)\" x=\"145.367\" y=\"271.811\">-2</text>\n",
       "</g>\n",
       "<g clip-path=\"url(#clip5600)\">\n",
       "<text style=\"fill:#000000; fill-opacity:1; font-family:Arial,Helvetica Neue,Helvetica,sans-serif; font-size:12; text-anchor:middle;\" transform=\"rotate(0, 178.931, 271.811)\" x=\"178.931\" y=\"271.811\">-1</text>\n",
       "</g>\n",
       "<g clip-path=\"url(#clip5600)\">\n",
       "<text style=\"fill:#000000; fill-opacity:1; font-family:Arial,Helvetica Neue,Helvetica,sans-serif; font-size:12; text-anchor:middle;\" transform=\"rotate(0, 212.495, 271.811)\" x=\"212.495\" y=\"271.811\">0</text>\n",
       "</g>\n",
       "<g clip-path=\"url(#clip5600)\">\n",
       "<text style=\"fill:#000000; fill-opacity:1; font-family:Arial,Helvetica Neue,Helvetica,sans-serif; font-size:12; text-anchor:middle;\" transform=\"rotate(0, 246.059, 271.811)\" x=\"246.059\" y=\"271.811\">1</text>\n",
       "</g>\n",
       "<g clip-path=\"url(#clip5600)\">\n",
       "<text style=\"fill:#000000; fill-opacity:1; font-family:Arial,Helvetica Neue,Helvetica,sans-serif; font-size:12; text-anchor:middle;\" transform=\"rotate(0, 279.623, 271.811)\" x=\"279.623\" y=\"271.811\">2</text>\n",
       "</g>\n",
       "<g clip-path=\"url(#clip5600)\">\n",
       "<text style=\"fill:#000000; fill-opacity:1; font-family:Arial,Helvetica Neue,Helvetica,sans-serif; font-size:12; text-anchor:middle;\" transform=\"rotate(0, 313.187, 271.811)\" x=\"313.187\" y=\"271.811\">3</text>\n",
       "</g>\n",
       "<g clip-path=\"url(#clip5600)\">\n",
       "<text style=\"fill:#000000; fill-opacity:1; font-family:Arial,Helvetica Neue,Helvetica,sans-serif; font-size:12; text-anchor:middle;\" transform=\"rotate(0, 346.751, 271.811)\" x=\"346.751\" y=\"271.811\">4</text>\n",
       "</g>\n",
       "<g clip-path=\"url(#clip5600)\">\n",
       "<text style=\"fill:#000000; fill-opacity:1; font-family:Arial,Helvetica Neue,Helvetica,sans-serif; font-size:12; text-anchor:middle;\" transform=\"rotate(0, 380.315, 271.811)\" x=\"380.315\" y=\"271.811\">5</text>\n",
       "</g>\n",
       "<g clip-path=\"url(#clip5600)\">\n",
       "<text style=\"fill:#000000; fill-opacity:1; font-family:Arial,Helvetica Neue,Helvetica,sans-serif; font-size:12; text-anchor:end;\" transform=\"rotate(0, 40.6753, 238.644)\" x=\"40.6753\" y=\"238.644\">0</text>\n",
       "</g>\n",
       "<g clip-path=\"url(#clip5600)\">\n",
       "<text style=\"fill:#000000; fill-opacity:1; font-family:Arial,Helvetica Neue,Helvetica,sans-serif; font-size:12; text-anchor:end;\" transform=\"rotate(0, 40.6753, 209.39)\" x=\"40.6753\" y=\"209.39\">5</text>\n",
       "</g>\n",
       "<g clip-path=\"url(#clip5600)\">\n",
       "<text style=\"fill:#000000; fill-opacity:1; font-family:Arial,Helvetica Neue,Helvetica,sans-serif; font-size:12; text-anchor:end;\" transform=\"rotate(0, 40.6753, 180.136)\" x=\"40.6753\" y=\"180.136\">10</text>\n",
       "</g>\n",
       "<g clip-path=\"url(#clip5600)\">\n",
       "<text style=\"fill:#000000; fill-opacity:1; font-family:Arial,Helvetica Neue,Helvetica,sans-serif; font-size:12; text-anchor:end;\" transform=\"rotate(0, 40.6753, 150.881)\" x=\"40.6753\" y=\"150.881\">15</text>\n",
       "</g>\n",
       "<g clip-path=\"url(#clip5600)\">\n",
       "<text style=\"fill:#000000; fill-opacity:1; font-family:Arial,Helvetica Neue,Helvetica,sans-serif; font-size:12; text-anchor:end;\" transform=\"rotate(0, 40.6753, 121.627)\" x=\"40.6753\" y=\"121.627\">20</text>\n",
       "</g>\n",
       "<g clip-path=\"url(#clip5600)\">\n",
       "<text style=\"fill:#000000; fill-opacity:1; font-family:Arial,Helvetica Neue,Helvetica,sans-serif; font-size:12; text-anchor:end;\" transform=\"rotate(0, 40.6753, 92.3724)\" x=\"40.6753\" y=\"92.3724\">25</text>\n",
       "</g>\n",
       "<g clip-path=\"url(#clip5600)\">\n",
       "<text style=\"fill:#000000; fill-opacity:1; font-family:Arial,Helvetica Neue,Helvetica,sans-serif; font-size:12; text-anchor:end;\" transform=\"rotate(0, 40.6753, 63.118)\" x=\"40.6753\" y=\"63.118\">30</text>\n",
       "</g>\n",
       "<g clip-path=\"url(#clip5600)\">\n",
       "<text style=\"fill:#000000; fill-opacity:1; font-family:Arial,Helvetica Neue,Helvetica,sans-serif; font-size:12; text-anchor:end;\" transform=\"rotate(0, 40.6753, 33.8637)\" x=\"40.6753\" y=\"33.8637\">35</text>\n",
       "</g>\n",
       "<g clip-path=\"url(#clip5600)\">\n",
       "<text style=\"fill:#000000; fill-opacity:1; font-family:Arial,Helvetica Neue,Helvetica,sans-serif; font-size:16; text-anchor:middle;\" transform=\"rotate(0, 212.495, 297.6)\" x=\"212.495\" y=\"297.6\">x</text>\n",
       "</g>\n",
       "<g clip-path=\"url(#clip5600)\">\n",
       "<text style=\"fill:#000000; fill-opacity:1; font-family:Arial,Helvetica Neue,Helvetica,sans-serif; font-size:16; text-anchor:middle;\" transform=\"rotate(-90, 14.4, 135.411)\" x=\"14.4\" y=\"135.411\">y</text>\n",
       "</g>\n",
       "<polyline clip-path=\"url(#clip5602)\" style=\"stroke:#009af9; stroke-width:1; stroke-opacity:1; fill:none\" points=\"\n",
       "  44.6753,11.811 48.0317,19.3587 51.3881,26.7893 54.7445,34.1029 58.1009,41.2994 61.4573,48.379 64.8137,55.3416 68.1701,62.1871 71.5265,68.9156 74.8829,75.5271 \n",
       "  78.2393,82.0216 81.5957,88.399 84.9521,94.6595 88.3085,100.803 91.6649,106.829 95.0213,112.739 98.3777,118.531 101.734,124.206 105.09,129.765 108.447,135.206 \n",
       "  111.803,140.53 115.16,145.738 118.516,150.828 121.872,155.801 125.229,160.657 128.585,165.397 131.942,170.019 135.298,174.524 138.654,178.912 142.011,183.183 \n",
       "  145.367,187.337 148.724,191.374 152.08,195.295 155.436,199.098 158.793,202.784 162.149,206.353 165.506,209.805 168.862,213.14 172.218,216.358 175.575,219.459 \n",
       "  178.931,222.443 182.288,225.31 185.644,228.059 189,230.692 192.357,233.208 195.713,235.607 199.07,237.889 202.426,240.054 205.782,242.102 209.139,244.032 \n",
       "  212.495,245.846 215.852,247.543 219.208,249.123 222.564,250.585 225.921,251.931 229.277,253.16 232.634,254.271 235.99,255.266 239.346,256.144 242.703,256.904 \n",
       "  246.059,257.548 249.416,258.074 252.772,258.484 256.128,258.777 259.485,258.952 262.841,259.011 266.197,258.952 269.554,258.777 272.91,258.484 276.267,258.074 \n",
       "  279.623,257.548 282.979,256.904 286.336,256.144 289.692,255.266 293.049,254.271 296.405,253.16 299.761,251.931 303.118,250.585 306.474,249.123 309.831,247.543 \n",
       "  313.187,245.846 316.543,244.032 319.9,242.102 323.256,240.054 326.613,237.889 329.969,235.607 333.325,233.208 336.682,230.692 340.038,228.059 343.395,225.31 \n",
       "  346.751,222.443 350.107,219.459 353.464,216.358 356.82,213.14 360.177,209.805 363.533,206.353 366.889,202.784 370.246,199.098 373.602,195.295 376.959,191.374 \n",
       "  380.315,187.337 \n",
       "  \"/>\n",
       "<polyline clip-path=\"url(#clip5602)\" style=\"stroke:#e26f46; stroke-width:1; stroke-opacity:1; fill:none\" points=\"\n",
       "  44.6753,234.144 48.0317,234.144 51.3881,234.144 54.7445,234.144 58.1009,234.144 61.4573,234.144 64.8137,234.144 68.1701,234.144 71.5265,234.144 74.8829,234.144 \n",
       "  78.2393,234.144 81.5957,234.144 84.9521,234.144 88.3085,234.144 91.6649,234.144 95.0213,234.144 98.3777,234.144 101.734,234.144 105.09,234.144 108.447,234.144 \n",
       "  111.803,234.144 115.16,234.144 118.516,234.144 121.872,234.144 125.229,234.144 128.585,234.144 131.942,234.144 135.298,234.144 138.654,234.144 142.011,234.144 \n",
       "  145.367,234.144 148.724,234.144 152.08,234.144 155.436,234.144 158.793,234.144 162.149,234.144 165.506,234.144 168.862,234.144 172.218,234.144 175.575,234.144 \n",
       "  178.931,234.144 182.288,234.144 185.644,234.144 189,234.144 192.357,234.144 195.713,234.144 199.07,234.144 202.426,234.144 205.782,234.144 209.139,234.144 \n",
       "  212.495,234.144 215.852,234.144 219.208,234.144 222.564,234.144 225.921,234.144 229.277,234.144 232.634,234.144 235.99,234.144 239.346,234.144 242.703,234.144 \n",
       "  246.059,234.144 249.416,234.144 252.772,234.144 256.128,234.144 259.485,234.144 262.841,234.144 266.197,234.144 269.554,234.144 272.91,234.144 276.267,234.144 \n",
       "  279.623,234.144 282.979,234.144 286.336,234.144 289.692,234.144 293.049,234.144 296.405,234.144 299.761,234.144 303.118,234.144 306.474,234.144 309.831,234.144 \n",
       "  313.187,234.144 316.543,234.144 319.9,234.144 323.256,234.144 326.613,234.144 329.969,234.144 333.325,234.144 336.682,234.144 340.038,234.144 343.395,234.144 \n",
       "  346.751,234.144 350.107,234.144 353.464,234.144 356.82,234.144 360.177,234.144 363.533,234.144 366.889,234.144 370.246,234.144 373.602,234.144 376.959,234.144 \n",
       "  380.315,234.144 \n",
       "  \"/>\n",
       "<polygon clip-path=\"url(#clip5600)\" points=\"\n",
       "281.548,66.051 368.315,66.051 368.315,20.691 281.548,20.691 \n",
       "  \" fill=\"#ffffff\" fill-opacity=\"1\"/>\n",
       "<polyline clip-path=\"url(#clip5600)\" style=\"stroke:#000000; stroke-width:1; stroke-opacity:1; fill:none\" points=\"\n",
       "  281.548,66.051 368.315,66.051 368.315,20.691 281.548,20.691 281.548,66.051 \n",
       "  \"/>\n",
       "<polyline clip-path=\"url(#clip5600)\" style=\"stroke:#009af9; stroke-width:1; stroke-opacity:1; fill:none\" points=\"\n",
       "  285.548,35.811 309.548,35.811 \n",
       "  \"/>\n",
       "<g clip-path=\"url(#clip5600)\">\n",
       "<text style=\"fill:#000000; fill-opacity:1; font-family:Arial,Helvetica Neue,Helvetica,sans-serif; font-size:12; text-anchor:start;\" transform=\"rotate(0, 313.548, 40.311)\" x=\"313.548\" y=\"40.311\">equação</text>\n",
       "</g>\n",
       "<polyline clip-path=\"url(#clip5600)\" style=\"stroke:#e26f46; stroke-width:1; stroke-opacity:1; fill:none\" points=\"\n",
       "  285.548,50.931 309.548,50.931 \n",
       "  \"/>\n",
       "<g clip-path=\"url(#clip5600)\">\n",
       "<text style=\"fill:#000000; fill-opacity:1; font-family:Arial,Helvetica Neue,Helvetica,sans-serif; font-size:12; text-anchor:start;\" transform=\"rotate(0, 313.548, 55.431)\" x=\"313.548\" y=\"55.431\">reta zero</text>\n",
       "</g>\n",
       "</svg>\n"
      ]
     },
     "execution_count": 40,
     "metadata": {},
     "output_type": "execute_result"
    }
   ],
   "source": [
    "using Plots\n",
    "gr()\n",
    "\n",
    "plot(-5:0.1:5, x -> x^2 - 3*x - 2, label = \"equação\", size = (400, 300),\n",
    "    xaxis = (\"x\",  -5:1:10),\n",
    "    yaxis = (\"y\", -5:5:40))\n",
    "plot!(-5:0.1:5, zero, label = \"reta zero\")"
   ]
  },
  {
   "cell_type": "code",
   "execution_count": 33,
   "metadata": {
    "collapsed": false
   },
   "outputs": [
    {
     "data": {
      "text/plain": [
       "(x,)"
      ]
     },
     "execution_count": 33,
     "metadata": {},
     "output_type": "execute_result"
    }
   ],
   "source": [
    "using SymPy \n",
    "@syms x"
   ]
  },
  {
   "cell_type": "markdown",
   "metadata": {},
   "source": [
    "De acordo com o gráfico, podemos observar que temos 2 raízes, sendo a primeira $x \\thickapprox -0.5$ e segunda $x \\thickapprox 3.5$. "
   ]
  },
  {
   "cell_type": "code",
   "execution_count": 34,
   "metadata": {
    "collapsed": false,
    "scrolled": false
   },
   "outputs": [
    {
     "data": {
      "text/latex": [
       "\\begin{bmatrix}\\frac{3}{2} + \\frac{\\sqrt{17}}{2}\\\\- \\frac{\\sqrt{17}}{2} + \\frac{3}{2}\\end{bmatrix}"
      ],
      "text/plain": [
       "2-element Array{SymPy.Sym,1}:\n",
       "  3/2 + sqrt(17)/2\n",
       " -sqrt(17)/2 + 3/2"
      ]
     },
     "execution_count": 34,
     "metadata": {},
     "output_type": "execute_result"
    }
   ],
   "source": [
    "solve(x^2 - 3*x - 2, x)"
   ]
  },
  {
   "cell_type": "markdown",
   "metadata": {},
   "source": [
    "O resultado é do tipo simbólico, logo é interessante vincular o resultado a duas variáveis $x_1$ e $x_2$ do tipo float."
   ]
  },
  {
   "cell_type": "code",
   "execution_count": 67,
   "metadata": {
    "collapsed": false,
    "scrolled": true
   },
   "outputs": [
    {
     "data": {
      "text/plain": [
       "2-element Array{Float64,1}:\n",
       "  3.56155 \n",
       " -0.561553"
      ]
     },
     "execution_count": 67,
     "metadata": {},
     "output_type": "execute_result"
    }
   ],
   "source": [
    "x1, x2 = float(solve(x^2 - 3*x - 2, x))"
   ]
  },
  {
   "cell_type": "code",
   "execution_count": 68,
   "metadata": {
    "collapsed": false,
    "scrolled": true
   },
   "outputs": [
    {
     "data": {
      "text/html": [
       "<?xml version=\"1.0\" encoding=\"utf-8\"?>\n",
       "<svg xmlns=\"http://www.w3.org/2000/svg\" xmlns:xlink=\"http://www.w3.org/1999/xlink\" width=\"400\" height=\"300\" viewBox=\"0 0 400 300\">\n",
       "<defs>\n",
       "  <clipPath id=\"clip5300\">\n",
       "    <rect x=\"0\" y=\"0\" width=\"400\" height=\"300\"/>\n",
       "  </clipPath>\n",
       "</defs>\n",
       "<polygon clip-path=\"url(#clip5300)\" points=\"\n",
       "0,300 400,300 400,0 0,0 \n",
       "  \" fill=\"#ffffff\" fill-opacity=\"1\"/>\n",
       "<defs>\n",
       "  <clipPath id=\"clip5301\">\n",
       "    <rect x=\"80\" y=\"0\" width=\"281\" height=\"281\"/>\n",
       "  </clipPath>\n",
       "</defs>\n",
       "<polygon clip-path=\"url(#clip5300)\" points=\"\n",
       "28.9273,275.813 380.315,275.813 380.315,11.811 28.9273,11.811 \n",
       "  \" fill=\"#ffffff\" fill-opacity=\"1\"/>\n",
       "<defs>\n",
       "  <clipPath id=\"clip5302\">\n",
       "    <rect x=\"28\" y=\"11\" width=\"352\" height=\"265\"/>\n",
       "  </clipPath>\n",
       "</defs>\n",
       "<polyline clip-path=\"url(#clip5302)\" style=\"stroke:#000000; stroke-width:0.5; stroke-opacity:0.1; fill:none\" points=\"\n",
       "  72.022,275.813 72.022,11.811 \n",
       "  \"/>\n",
       "<polyline clip-path=\"url(#clip5302)\" style=\"stroke:#000000; stroke-width:0.5; stroke-opacity:0.1; fill:none\" points=\"\n",
       "  138.322,275.813 138.322,11.811 \n",
       "  \"/>\n",
       "<polyline clip-path=\"url(#clip5302)\" style=\"stroke:#000000; stroke-width:0.5; stroke-opacity:0.1; fill:none\" points=\"\n",
       "  204.621,275.813 204.621,11.811 \n",
       "  \"/>\n",
       "<polyline clip-path=\"url(#clip5302)\" style=\"stroke:#000000; stroke-width:0.5; stroke-opacity:0.1; fill:none\" points=\"\n",
       "  270.921,275.813 270.921,11.811 \n",
       "  \"/>\n",
       "<polyline clip-path=\"url(#clip5302)\" style=\"stroke:#000000; stroke-width:0.5; stroke-opacity:0.1; fill:none\" points=\"\n",
       "  337.22,275.813 337.22,11.811 \n",
       "  \"/>\n",
       "<polyline clip-path=\"url(#clip5302)\" style=\"stroke:#000000; stroke-width:0.5; stroke-opacity:0.1; fill:none\" points=\"\n",
       "  28.9273,243.288 380.315,243.288 \n",
       "  \"/>\n",
       "<polyline clip-path=\"url(#clip5302)\" style=\"stroke:#000000; stroke-width:0.5; stroke-opacity:0.1; fill:none\" points=\"\n",
       "  28.9273,184.34 380.315,184.34 \n",
       "  \"/>\n",
       "<polyline clip-path=\"url(#clip5302)\" style=\"stroke:#000000; stroke-width:0.5; stroke-opacity:0.1; fill:none\" points=\"\n",
       "  28.9273,125.391 380.315,125.391 \n",
       "  \"/>\n",
       "<polyline clip-path=\"url(#clip5302)\" style=\"stroke:#000000; stroke-width:0.5; stroke-opacity:0.1; fill:none\" points=\"\n",
       "  28.9273,66.4419 380.315,66.4419 \n",
       "  \"/>\n",
       "<polyline clip-path=\"url(#clip5300)\" style=\"stroke:#000000; stroke-width:1; stroke-opacity:1; fill:none\" points=\"\n",
       "  28.9273,275.813 380.315,275.813 \n",
       "  \"/>\n",
       "<polyline clip-path=\"url(#clip5300)\" style=\"stroke:#000000; stroke-width:1; stroke-opacity:1; fill:none\" points=\"\n",
       "  28.9273,275.813 28.9273,11.811 \n",
       "  \"/>\n",
       "<polyline clip-path=\"url(#clip5300)\" style=\"stroke:#000000; stroke-width:1; stroke-opacity:1; fill:none\" points=\"\n",
       "  72.022,275.813 72.022,271.853 \n",
       "  \"/>\n",
       "<polyline clip-path=\"url(#clip5300)\" style=\"stroke:#000000; stroke-width:1; stroke-opacity:1; fill:none\" points=\"\n",
       "  138.322,275.813 138.322,271.853 \n",
       "  \"/>\n",
       "<polyline clip-path=\"url(#clip5300)\" style=\"stroke:#000000; stroke-width:1; stroke-opacity:1; fill:none\" points=\"\n",
       "  204.621,275.813 204.621,271.853 \n",
       "  \"/>\n",
       "<polyline clip-path=\"url(#clip5300)\" style=\"stroke:#000000; stroke-width:1; stroke-opacity:1; fill:none\" points=\"\n",
       "  270.921,275.813 270.921,271.853 \n",
       "  \"/>\n",
       "<polyline clip-path=\"url(#clip5300)\" style=\"stroke:#000000; stroke-width:1; stroke-opacity:1; fill:none\" points=\"\n",
       "  337.22,275.813 337.22,271.853 \n",
       "  \"/>\n",
       "<polyline clip-path=\"url(#clip5300)\" style=\"stroke:#000000; stroke-width:1; stroke-opacity:1; fill:none\" points=\"\n",
       "  28.9273,243.288 34.1981,243.288 \n",
       "  \"/>\n",
       "<polyline clip-path=\"url(#clip5300)\" style=\"stroke:#000000; stroke-width:1; stroke-opacity:1; fill:none\" points=\"\n",
       "  28.9273,184.34 34.1981,184.34 \n",
       "  \"/>\n",
       "<polyline clip-path=\"url(#clip5300)\" style=\"stroke:#000000; stroke-width:1; stroke-opacity:1; fill:none\" points=\"\n",
       "  28.9273,125.391 34.1981,125.391 \n",
       "  \"/>\n",
       "<polyline clip-path=\"url(#clip5300)\" style=\"stroke:#000000; stroke-width:1; stroke-opacity:1; fill:none\" points=\"\n",
       "  28.9273,66.4419 34.1981,66.4419 \n",
       "  \"/>\n",
       "<g clip-path=\"url(#clip5300)\">\n",
       "<text style=\"fill:#000000; fill-opacity:1; font-family:Arial,Helvetica Neue,Helvetica,sans-serif; font-size:12; text-anchor:middle;\" transform=\"rotate(0, 72.022, 288.613)\" x=\"72.022\" y=\"288.613\">-4</text>\n",
       "</g>\n",
       "<g clip-path=\"url(#clip5300)\">\n",
       "<text style=\"fill:#000000; fill-opacity:1; font-family:Arial,Helvetica Neue,Helvetica,sans-serif; font-size:12; text-anchor:middle;\" transform=\"rotate(0, 138.322, 288.613)\" x=\"138.322\" y=\"288.613\">-2</text>\n",
       "</g>\n",
       "<g clip-path=\"url(#clip5300)\">\n",
       "<text style=\"fill:#000000; fill-opacity:1; font-family:Arial,Helvetica Neue,Helvetica,sans-serif; font-size:12; text-anchor:middle;\" transform=\"rotate(0, 204.621, 288.613)\" x=\"204.621\" y=\"288.613\">0</text>\n",
       "</g>\n",
       "<g clip-path=\"url(#clip5300)\">\n",
       "<text style=\"fill:#000000; fill-opacity:1; font-family:Arial,Helvetica Neue,Helvetica,sans-serif; font-size:12; text-anchor:middle;\" transform=\"rotate(0, 270.921, 288.613)\" x=\"270.921\" y=\"288.613\">2</text>\n",
       "</g>\n",
       "<g clip-path=\"url(#clip5300)\">\n",
       "<text style=\"fill:#000000; fill-opacity:1; font-family:Arial,Helvetica Neue,Helvetica,sans-serif; font-size:12; text-anchor:middle;\" transform=\"rotate(0, 337.22, 288.613)\" x=\"337.22\" y=\"288.613\">4</text>\n",
       "</g>\n",
       "<g clip-path=\"url(#clip5300)\">\n",
       "<text style=\"fill:#000000; fill-opacity:1; font-family:Arial,Helvetica Neue,Helvetica,sans-serif; font-size:12; text-anchor:end;\" transform=\"rotate(0, 24.9273, 247.788)\" x=\"24.9273\" y=\"247.788\">0</text>\n",
       "</g>\n",
       "<g clip-path=\"url(#clip5300)\">\n",
       "<text style=\"fill:#000000; fill-opacity:1; font-family:Arial,Helvetica Neue,Helvetica,sans-serif; font-size:12; text-anchor:end;\" transform=\"rotate(0, 24.9273, 188.84)\" x=\"24.9273\" y=\"188.84\">10</text>\n",
       "</g>\n",
       "<g clip-path=\"url(#clip5300)\">\n",
       "<text style=\"fill:#000000; fill-opacity:1; font-family:Arial,Helvetica Neue,Helvetica,sans-serif; font-size:12; text-anchor:end;\" transform=\"rotate(0, 24.9273, 129.891)\" x=\"24.9273\" y=\"129.891\">20</text>\n",
       "</g>\n",
       "<g clip-path=\"url(#clip5300)\">\n",
       "<text style=\"fill:#000000; fill-opacity:1; font-family:Arial,Helvetica Neue,Helvetica,sans-serif; font-size:12; text-anchor:end;\" transform=\"rotate(0, 24.9273, 70.9419)\" x=\"24.9273\" y=\"70.9419\">30</text>\n",
       "</g>\n",
       "<polyline clip-path=\"url(#clip5302)\" style=\"stroke:#009af9; stroke-width:1; stroke-opacity:1; fill:none\" points=\"\n",
       "  38.8722,19.2828 42.1872,26.8872 45.5022,34.3737 48.8172,41.7423 52.1321,48.993 55.4471,56.1258 58.7621,63.1407 62.0771,70.0378 65.392,76.8169 68.707,83.4781 \n",
       "  72.022,90.0214 75.337,96.4468 78.652,102.754 81.9669,108.944 85.2819,115.016 88.5969,120.97 91.9119,126.805 95.2269,132.524 98.5418,138.124 101.857,143.606 \n",
       "  105.172,148.97 108.487,154.217 111.802,159.345 115.117,164.356 118.432,169.249 121.747,174.024 125.062,178.68 128.377,183.22 131.692,187.641 135.007,191.944 \n",
       "  138.322,196.129 141.637,200.197 144.952,204.146 148.266,207.978 151.581,211.692 154.896,215.288 158.211,218.766 161.526,222.126 164.841,225.368 168.156,228.492 \n",
       "  171.471,231.499 174.786,234.387 178.101,237.158 181.416,239.81 184.731,242.345 188.046,244.762 191.361,247.061 194.676,249.242 197.991,251.305 201.306,253.251 \n",
       "  204.621,255.078 207.936,256.788 211.251,258.379 214.566,259.853 217.881,261.209 221.196,262.447 224.511,263.567 227.826,264.569 231.141,265.453 234.456,266.22 \n",
       "  237.771,266.868 241.086,267.399 244.401,267.811 247.716,268.106 251.031,268.283 254.346,268.342 257.661,268.283 260.976,268.106 264.291,267.811 267.606,267.399 \n",
       "  270.921,266.868 274.236,266.22 277.551,265.453 280.866,264.569 284.181,263.567 287.496,262.447 290.811,261.209 294.126,259.853 297.441,258.379 300.755,256.788 \n",
       "  304.07,255.078 307.385,253.251 310.7,251.305 314.015,249.242 317.33,247.061 320.645,244.762 323.96,242.345 327.275,239.81 330.59,237.158 333.905,234.387 \n",
       "  337.22,231.499 340.535,228.492 343.85,225.368 347.165,222.126 350.48,218.766 353.795,215.288 357.11,211.692 360.425,207.978 363.74,204.146 367.055,200.197 \n",
       "  370.37,196.129 \n",
       "  \"/>\n",
       "<polyline clip-path=\"url(#clip5302)\" style=\"stroke:#e26f46; stroke-width:1; stroke-opacity:1; fill:none\" points=\"\n",
       "  38.8722,243.288 42.1872,243.288 45.5022,243.288 48.8172,243.288 52.1321,243.288 55.4471,243.288 58.7621,243.288 62.0771,243.288 65.392,243.288 68.707,243.288 \n",
       "  72.022,243.288 75.337,243.288 78.652,243.288 81.9669,243.288 85.2819,243.288 88.5969,243.288 91.9119,243.288 95.2269,243.288 98.5418,243.288 101.857,243.288 \n",
       "  105.172,243.288 108.487,243.288 111.802,243.288 115.117,243.288 118.432,243.288 121.747,243.288 125.062,243.288 128.377,243.288 131.692,243.288 135.007,243.288 \n",
       "  138.322,243.288 141.637,243.288 144.952,243.288 148.266,243.288 151.581,243.288 154.896,243.288 158.211,243.288 161.526,243.288 164.841,243.288 168.156,243.288 \n",
       "  171.471,243.288 174.786,243.288 178.101,243.288 181.416,243.288 184.731,243.288 188.046,243.288 191.361,243.288 194.676,243.288 197.991,243.288 201.306,243.288 \n",
       "  204.621,243.288 207.936,243.288 211.251,243.288 214.566,243.288 217.881,243.288 221.196,243.288 224.511,243.288 227.826,243.288 231.141,243.288 234.456,243.288 \n",
       "  237.771,243.288 241.086,243.288 244.401,243.288 247.716,243.288 251.031,243.288 254.346,243.288 257.661,243.288 260.976,243.288 264.291,243.288 267.606,243.288 \n",
       "  270.921,243.288 274.236,243.288 277.551,243.288 280.866,243.288 284.181,243.288 287.496,243.288 290.811,243.288 294.126,243.288 297.441,243.288 300.755,243.288 \n",
       "  304.07,243.288 307.385,243.288 310.7,243.288 314.015,243.288 317.33,243.288 320.645,243.288 323.96,243.288 327.275,243.288 330.59,243.288 333.905,243.288 \n",
       "  337.22,243.288 340.535,243.288 343.85,243.288 347.165,243.288 350.48,243.288 353.795,243.288 357.11,243.288 360.425,243.288 363.74,243.288 367.055,243.288 \n",
       "  370.37,243.288 \n",
       "  \"/>\n",
       "<circle clip-path=\"url(#clip5302)\" style=\"fill:#000000; stroke:none; fill-opacity:1\" cx=\"322.686\" cy=\"243.288\" r=\"4\"/>\n",
       "<circle clip-path=\"url(#clip5302)\" style=\"fill:#3da44d; stroke:none; fill-opacity:1\" cx=\"322.686\" cy=\"243.288\" r=\"3\"/>\n",
       "<circle clip-path=\"url(#clip5302)\" style=\"fill:#000000; stroke:none; fill-opacity:1\" cx=\"186.006\" cy=\"243.288\" r=\"4\"/>\n",
       "<circle clip-path=\"url(#clip5302)\" style=\"fill:#3da44d; stroke:none; fill-opacity:1\" cx=\"186.006\" cy=\"243.288\" r=\"3\"/>\n",
       "<polygon clip-path=\"url(#clip5300)\" points=\"\n",
       "281.548,81.171 368.315,81.171 368.315,20.691 281.548,20.691 \n",
       "  \" fill=\"#ffffff\" fill-opacity=\"1\"/>\n",
       "<polyline clip-path=\"url(#clip5300)\" style=\"stroke:#000000; stroke-width:1; stroke-opacity:1; fill:none\" points=\"\n",
       "  281.548,81.171 368.315,81.171 368.315,20.691 281.548,20.691 281.548,81.171 \n",
       "  \"/>\n",
       "<polyline clip-path=\"url(#clip5300)\" style=\"stroke:#009af9; stroke-width:1; stroke-opacity:1; fill:none\" points=\"\n",
       "  285.548,35.811 309.548,35.811 \n",
       "  \"/>\n",
       "<g clip-path=\"url(#clip5300)\">\n",
       "<text style=\"fill:#000000; fill-opacity:1; font-family:Arial,Helvetica Neue,Helvetica,sans-serif; font-size:12; text-anchor:start;\" transform=\"rotate(0, 313.548, 40.311)\" x=\"313.548\" y=\"40.311\">equação</text>\n",
       "</g>\n",
       "<polyline clip-path=\"url(#clip5300)\" style=\"stroke:#e26f46; stroke-width:1; stroke-opacity:1; fill:none\" points=\"\n",
       "  285.548,50.931 309.548,50.931 \n",
       "  \"/>\n",
       "<g clip-path=\"url(#clip5300)\">\n",
       "<text style=\"fill:#000000; fill-opacity:1; font-family:Arial,Helvetica Neue,Helvetica,sans-serif; font-size:12; text-anchor:start;\" transform=\"rotate(0, 313.548, 55.431)\" x=\"313.548\" y=\"55.431\">reta zero</text>\n",
       "</g>\n",
       "<circle clip-path=\"url(#clip5300)\" style=\"fill:#000000; stroke:none; fill-opacity:1\" cx=\"299.548\" cy=\"66.051\" r=\"6\"/>\n",
       "<circle clip-path=\"url(#clip5300)\" style=\"fill:#3da44d; stroke:none; fill-opacity:1\" cx=\"299.548\" cy=\"66.051\" r=\"5\"/>\n",
       "<g clip-path=\"url(#clip5300)\">\n",
       "<text style=\"fill:#000000; fill-opacity:1; font-family:Arial,Helvetica Neue,Helvetica,sans-serif; font-size:12; text-anchor:start;\" transform=\"rotate(0, 313.548, 70.551)\" x=\"313.548\" y=\"70.551\">raízes</text>\n",
       "</g>\n",
       "</svg>\n"
      ]
     },
     "execution_count": 68,
     "metadata": {},
     "output_type": "execute_result"
    }
   ],
   "source": [
    "using Plots\n",
    "gr()\n",
    "\n",
    "plot(-5:0.1:5, x -> x^2 - 3*x - 2, label = \"equação\")\n",
    "plot!(-5:0.1:5, zero, label = \"reta zero\")\n",
    "scatter!([x1, x2], [0, 0], label  = \"raízes\", size = (400, 300) )"
   ]
  },
  {
   "cell_type": "markdown",
   "metadata": {},
   "source": [
    "**Utilizando uma função genérica**"
   ]
  },
  {
   "cell_type": "code",
   "execution_count": 10,
   "metadata": {
    "collapsed": false
   },
   "outputs": [
    {
     "data": {
      "text/plain": [
       "(x,)"
      ]
     },
     "execution_count": 10,
     "metadata": {},
     "output_type": "execute_result"
    }
   ],
   "source": [
    "using SymPy\n",
    "@syms x"
   ]
  },
  {
   "cell_type": "code",
   "execution_count": 11,
   "metadata": {
    "collapsed": false,
    "scrolled": true
   },
   "outputs": [
    {
     "data": {
      "text/plain": [
       "fg (generic function with 1 method)"
      ]
     },
     "execution_count": 11,
     "metadata": {},
     "output_type": "execute_result"
    }
   ],
   "source": [
    "# Função genérica\n",
    "fg(x) = x^2 - 3*x - 2"
   ]
  },
  {
   "cell_type": "code",
   "execution_count": 12,
   "metadata": {
    "collapsed": false
   },
   "outputs": [
    {
     "data": {
      "text/latex": [
       "\\begin{bmatrix}\\frac{3}{2} + \\frac{\\sqrt{17}}{2}\\\\- \\frac{\\sqrt{17}}{2} + \\frac{3}{2}\\end{bmatrix}"
      ],
      "text/plain": [
       "2-element Array{SymPy.Sym,1}:\n",
       "  3/2 + sqrt(17)/2\n",
       " -sqrt(17)/2 + 3/2"
      ]
     },
     "execution_count": 12,
     "metadata": {},
     "output_type": "execute_result"
    }
   ],
   "source": [
    "a = solve(fg(x), x)"
   ]
  },
  {
   "cell_type": "code",
   "execution_count": 13,
   "metadata": {
    "collapsed": false
   },
   "outputs": [
    {
     "data": {
      "text/plain": [
       "SymPy.Sym"
      ]
     },
     "execution_count": 13,
     "metadata": {},
     "output_type": "execute_result"
    }
   ],
   "source": [
    "eltype(a)"
   ]
  },
  {
   "cell_type": "markdown",
   "metadata": {},
   "source": [
    "Ou ainda"
   ]
  },
  {
   "cell_type": "code",
   "execution_count": 15,
   "metadata": {
    "collapsed": false,
    "scrolled": true
   },
   "outputs": [
    {
     "data": {
      "text/plain": [
       "2-element Array{Float64,1}:\n",
       "  3.56155 \n",
       " -0.561553"
      ]
     },
     "execution_count": 15,
     "metadata": {},
     "output_type": "execute_result"
    }
   ],
   "source": [
    "raízes = float(solve(fg(x), x))"
   ]
  },
  {
   "cell_type": "markdown",
   "metadata": {},
   "source": [
    "A variável \"raízes\" é um vetor que apresenta os valores de $X_1$ e $X_2$. Dessa forma, podemos acessar somente o valor de $X_1$ ou de $X_2$"
   ]
  },
  {
   "cell_type": "code",
   "execution_count": 9,
   "metadata": {
    "collapsed": false,
    "scrolled": true
   },
   "outputs": [
    {
     "name": "stdout",
     "output_type": "stream",
     "text": [
      "raízes[1] = 3.5615528128088303\n",
      "raízes[2] = -0.5615528128088303\n"
     ]
    }
   ],
   "source": [
    "@show (raízes[1])\n",
    "@show (raízes[2]);"
   ]
  },
  {
   "cell_type": "markdown",
   "metadata": {},
   "source": [
    "Ou com função `print()`"
   ]
  },
  {
   "cell_type": "code",
   "execution_count": 10,
   "metadata": {
    "collapsed": false,
    "scrolled": false
   },
   "outputs": [
    {
     "name": "stdout",
     "output_type": "stream",
     "text": [
      "Resultado de X1: 3.5615528128088303. Resultado de X2: -0.5615528128088303"
     ]
    }
   ],
   "source": [
    "print(\"Resultado de X1: \",(raízes[1]),\". Resultado de X2: \",raízes[2])"
   ]
  },
  {
   "cell_type": "markdown",
   "metadata": {},
   "source": [
    "Para calcular simbolicamente polinômios use:\n",
    "```julia\n",
    "polyroots(equação, variável) \n",
    "```\n",
    "ou \n",
    "```julia\n",
    "nroots(equação, n = 15, maxsteps = 50)  \n",
    "```\n",
    "Sendo:\n",
    "\n",
    "* equação: equação algébrica expressa diretamente ou através de uma função genérica. Não funciona com função anônima\n",
    "* n: números de dígitos.\n",
    "* maxsteps o número máximo de iterações a serem feitas\n",
    "\n",
    "A função `polyroots()`retorna um dicionário contendo o valor e multiplicidade das raízes ambos do tipo `Any` e a função `nroots()` retorna um vetor de dados simbólicos do tipo `SymPy.Sym`."
   ]
  },
  {
   "cell_type": "code",
   "execution_count": 20,
   "metadata": {
    "collapsed": false,
    "scrolled": false
   },
   "outputs": [
    {
     "data": {
      "text/plain": [
       "(x,)"
      ]
     },
     "execution_count": 20,
     "metadata": {},
     "output_type": "execute_result"
    }
   ],
   "source": [
    "using SymPy\n",
    "@syms x"
   ]
  },
  {
   "cell_type": "code",
   "execution_count": 101,
   "metadata": {
    "collapsed": false,
    "scrolled": true
   },
   "outputs": [
    {
     "data": {
      "text/plain": [
       "Dict{Any,Any} with 2 entries:\n",
       "  1 + 2*I => 1\n",
       "  1 - 2*I => 1"
      ]
     },
     "execution_count": 101,
     "metadata": {},
     "output_type": "execute_result"
    }
   ],
   "source": [
    "x1, x2 = polyroots(x^2 - 2*x + 5, x)"
   ]
  },
  {
   "cell_type": "code",
   "execution_count": 85,
   "metadata": {
    "collapsed": false,
    "scrolled": false
   },
   "outputs": [
    {
     "data": {
      "text/plain": [
       "(Pair{Any,Any}, Pair{Any,Any})"
      ]
     },
     "execution_count": 85,
     "metadata": {},
     "output_type": "execute_result"
    }
   ],
   "source": [
    "typeof(x1), typeof(x2)"
   ]
  },
  {
   "cell_type": "code",
   "execution_count": 88,
   "metadata": {
    "collapsed": false
   },
   "outputs": [
    {
     "data": {
      "text/latex": [
       "$$1 + 2 i$$"
      ],
      "text/plain": [
       "1 + 2⋅ⅈ"
      ]
     },
     "execution_count": 88,
     "metadata": {},
     "output_type": "execute_result"
    }
   ],
   "source": [
    "x1.first"
   ]
  },
  {
   "cell_type": "code",
   "execution_count": 89,
   "metadata": {
    "collapsed": false
   },
   "outputs": [
    {
     "data": {
      "text/plain": [
       "1"
      ]
     },
     "execution_count": 89,
     "metadata": {},
     "output_type": "execute_result"
    }
   ],
   "source": [
    "x1.second"
   ]
  },
  {
   "cell_type": "code",
   "execution_count": 78,
   "metadata": {
    "collapsed": false,
    "scrolled": false
   },
   "outputs": [
    {
     "data": {
      "text/plain": [
       "Dict{Any,Any} with 2 entries:\n",
       "  -b/(2*a) + sqrt(-4*a*c + b^2)/(2*a) => 1\n",
       "  -b/(2*a) - sqrt(-4*a*c + b^2)/(2*a) => 1"
      ]
     },
     "execution_count": 78,
     "metadata": {},
     "output_type": "execute_result"
    }
   ],
   "source": [
    "@syms a b c\n",
    "polyroots(a*x^2 + b*x + c, x)"
   ]
  },
  {
   "cell_type": "code",
   "execution_count": 24,
   "metadata": {
    "collapsed": false
   },
   "outputs": [
    {
     "data": {
      "text/latex": [
       "\\begin{bmatrix}1.0 - 2.0 i\\\\1.0 + 2.0 i\\end{bmatrix}"
      ],
      "text/plain": [
       "2-element Array{SymPy.Sym,1}:\n",
       " 1.0 - 2.0*I\n",
       " 1.0 + 2.0*I"
      ]
     },
     "execution_count": 24,
     "metadata": {},
     "output_type": "execute_result"
    }
   ],
   "source": [
    "x1, x2 = nroots(x^2 - 2*x + 5)"
   ]
  },
  {
   "cell_type": "markdown",
   "metadata": {},
   "source": [
    "### SOLUÇÃO NUMÉRICA"
   ]
  },
  {
   "cell_type": "markdown",
   "metadata": {},
   "source": [
    "#### SYMPY"
   ]
  },
  {
   "cell_type": "markdown",
   "metadata": {},
   "source": [
    "A função `nsolve()` permite usar métodos de aproximação numérica para encontrar raízes de equações não lineares. Sintaxe:\n",
    "```julia\n",
    "nsolve(equação, xi) \n",
    "```\n",
    "Sendo:\n",
    "* equação: equação algébrica expressa diretamente ou através de uma função genérica ou anônima.\n",
    "* xi: valor estimado da raiz.\n",
    "\n",
    "A função `nsolve()` retorna um valor do tipo `BigFloat`."
   ]
  },
  {
   "cell_type": "code",
   "execution_count": 1,
   "metadata": {
    "collapsed": false,
    "scrolled": true
   },
   "outputs": [
    {
     "data": {
      "text/plain": [
       "(x,)"
      ]
     },
     "execution_count": 1,
     "metadata": {},
     "output_type": "execute_result"
    }
   ],
   "source": [
    "using SymPy, Plots\n",
    "gr()\n",
    "@syms x"
   ]
  },
  {
   "cell_type": "code",
   "execution_count": 2,
   "metadata": {
    "collapsed": false,
    "scrolled": false
   },
   "outputs": [
    {
     "data": {
      "text/plain": [
       "fnl (generic function with 1 method)"
      ]
     },
     "execution_count": 2,
     "metadata": {},
     "output_type": "execute_result"
    }
   ],
   "source": [
    "# definindo a função genérica \n",
    "fnl(x) =  x*cos(x) + sin(x + 1) "
   ]
  },
  {
   "cell_type": "code",
   "execution_count": 42,
   "metadata": {
    "collapsed": false,
    "scrolled": false
   },
   "outputs": [
    {
     "data": {
      "text/html": [
       "<?xml version=\"1.0\" encoding=\"utf-8\"?>\n",
       "<svg xmlns=\"http://www.w3.org/2000/svg\" xmlns:xlink=\"http://www.w3.org/1999/xlink\" width=\"600\" height=\"400\" viewBox=\"0 0 600 400\">\n",
       "<defs>\n",
       "  <clipPath id=\"clip6900\">\n",
       "    <rect x=\"0\" y=\"0\" width=\"600\" height=\"400\"/>\n",
       "  </clipPath>\n",
       "</defs>\n",
       "<polygon clip-path=\"url(#clip6900)\" points=\"\n",
       "0,400 600,400 600,0 0,0 \n",
       "  \" fill=\"#ffffff\" fill-opacity=\"1\"/>\n",
       "<defs>\n",
       "  <clipPath id=\"clip6901\">\n",
       "    <rect x=\"120\" y=\"0\" width=\"421\" height=\"400\"/>\n",
       "  </clipPath>\n",
       "</defs>\n",
       "<polygon clip-path=\"url(#clip6900)\" points=\"\n",
       "51.5968,359.011 580.315,359.011 580.315,11.811 51.5968,11.811 \n",
       "  \" fill=\"#ffffff\" fill-opacity=\"1\"/>\n",
       "<defs>\n",
       "  <clipPath id=\"clip6902\">\n",
       "    <rect x=\"51\" y=\"11\" width=\"530\" height=\"348\"/>\n",
       "  </clipPath>\n",
       "</defs>\n",
       "<polyline clip-path=\"url(#clip6902)\" style=\"stroke:#000000; stroke-width:0.5; stroke-opacity:0.1; fill:none\" points=\"\n",
       "  51.5968,359.011 51.5968,11.811 \n",
       "  \"/>\n",
       "<polyline clip-path=\"url(#clip6902)\" style=\"stroke:#000000; stroke-width:0.5; stroke-opacity:0.1; fill:none\" points=\"\n",
       "  183.776,359.011 183.776,11.811 \n",
       "  \"/>\n",
       "<polyline clip-path=\"url(#clip6902)\" style=\"stroke:#000000; stroke-width:0.5; stroke-opacity:0.1; fill:none\" points=\"\n",
       "  315.956,359.011 315.956,11.811 \n",
       "  \"/>\n",
       "<polyline clip-path=\"url(#clip6902)\" style=\"stroke:#000000; stroke-width:0.5; stroke-opacity:0.1; fill:none\" points=\"\n",
       "  448.135,359.011 448.135,11.811 \n",
       "  \"/>\n",
       "<polyline clip-path=\"url(#clip6902)\" style=\"stroke:#000000; stroke-width:0.5; stroke-opacity:0.1; fill:none\" points=\"\n",
       "  580.315,359.011 580.315,11.811 \n",
       "  \"/>\n",
       "<polyline clip-path=\"url(#clip6902)\" style=\"stroke:#000000; stroke-width:0.5; stroke-opacity:0.1; fill:none\" points=\"\n",
       "  51.5968,343.537 580.315,343.537 \n",
       "  \"/>\n",
       "<polyline clip-path=\"url(#clip6902)\" style=\"stroke:#000000; stroke-width:0.5; stroke-opacity:0.1; fill:none\" points=\"\n",
       "  51.5968,295.797 580.315,295.797 \n",
       "  \"/>\n",
       "<polyline clip-path=\"url(#clip6902)\" style=\"stroke:#000000; stroke-width:0.5; stroke-opacity:0.1; fill:none\" points=\"\n",
       "  51.5968,248.058 580.315,248.058 \n",
       "  \"/>\n",
       "<polyline clip-path=\"url(#clip6902)\" style=\"stroke:#000000; stroke-width:0.5; stroke-opacity:0.1; fill:none\" points=\"\n",
       "  51.5968,200.319 580.315,200.319 \n",
       "  \"/>\n",
       "<polyline clip-path=\"url(#clip6902)\" style=\"stroke:#000000; stroke-width:0.5; stroke-opacity:0.1; fill:none\" points=\"\n",
       "  51.5968,152.58 580.315,152.58 \n",
       "  \"/>\n",
       "<polyline clip-path=\"url(#clip6902)\" style=\"stroke:#000000; stroke-width:0.5; stroke-opacity:0.1; fill:none\" points=\"\n",
       "  51.5968,104.841 580.315,104.841 \n",
       "  \"/>\n",
       "<polyline clip-path=\"url(#clip6902)\" style=\"stroke:#000000; stroke-width:0.5; stroke-opacity:0.1; fill:none\" points=\"\n",
       "  51.5968,57.1021 580.315,57.1021 \n",
       "  \"/>\n",
       "<polyline clip-path=\"url(#clip6900)\" style=\"stroke:#000000; stroke-width:1; stroke-opacity:1; fill:none\" points=\"\n",
       "  51.5968,359.011 580.315,359.011 \n",
       "  \"/>\n",
       "<polyline clip-path=\"url(#clip6900)\" style=\"stroke:#000000; stroke-width:1; stroke-opacity:1; fill:none\" points=\"\n",
       "  51.5968,359.011 51.5968,11.811 \n",
       "  \"/>\n",
       "<polyline clip-path=\"url(#clip6900)\" style=\"stroke:#000000; stroke-width:1; stroke-opacity:1; fill:none\" points=\"\n",
       "  51.5968,359.011 51.5968,353.803 \n",
       "  \"/>\n",
       "<polyline clip-path=\"url(#clip6900)\" style=\"stroke:#000000; stroke-width:1; stroke-opacity:1; fill:none\" points=\"\n",
       "  183.776,359.011 183.776,353.803 \n",
       "  \"/>\n",
       "<polyline clip-path=\"url(#clip6900)\" style=\"stroke:#000000; stroke-width:1; stroke-opacity:1; fill:none\" points=\"\n",
       "  315.956,359.011 315.956,353.803 \n",
       "  \"/>\n",
       "<polyline clip-path=\"url(#clip6900)\" style=\"stroke:#000000; stroke-width:1; stroke-opacity:1; fill:none\" points=\"\n",
       "  448.135,359.011 448.135,353.803 \n",
       "  \"/>\n",
       "<polyline clip-path=\"url(#clip6900)\" style=\"stroke:#000000; stroke-width:1; stroke-opacity:1; fill:none\" points=\"\n",
       "  580.315,359.011 580.315,353.803 \n",
       "  \"/>\n",
       "<polyline clip-path=\"url(#clip6900)\" style=\"stroke:#000000; stroke-width:1; stroke-opacity:1; fill:none\" points=\"\n",
       "  51.5968,343.537 59.5276,343.537 \n",
       "  \"/>\n",
       "<polyline clip-path=\"url(#clip6900)\" style=\"stroke:#000000; stroke-width:1; stroke-opacity:1; fill:none\" points=\"\n",
       "  51.5968,295.797 59.5276,295.797 \n",
       "  \"/>\n",
       "<polyline clip-path=\"url(#clip6900)\" style=\"stroke:#000000; stroke-width:1; stroke-opacity:1; fill:none\" points=\"\n",
       "  51.5968,248.058 59.5276,248.058 \n",
       "  \"/>\n",
       "<polyline clip-path=\"url(#clip6900)\" style=\"stroke:#000000; stroke-width:1; stroke-opacity:1; fill:none\" points=\"\n",
       "  51.5968,200.319 59.5276,200.319 \n",
       "  \"/>\n",
       "<polyline clip-path=\"url(#clip6900)\" style=\"stroke:#000000; stroke-width:1; stroke-opacity:1; fill:none\" points=\"\n",
       "  51.5968,152.58 59.5276,152.58 \n",
       "  \"/>\n",
       "<polyline clip-path=\"url(#clip6900)\" style=\"stroke:#000000; stroke-width:1; stroke-opacity:1; fill:none\" points=\"\n",
       "  51.5968,104.841 59.5276,104.841 \n",
       "  \"/>\n",
       "<polyline clip-path=\"url(#clip6900)\" style=\"stroke:#000000; stroke-width:1; stroke-opacity:1; fill:none\" points=\"\n",
       "  51.5968,57.1021 59.5276,57.1021 \n",
       "  \"/>\n",
       "<g clip-path=\"url(#clip6900)\">\n",
       "<text style=\"fill:#000000; fill-opacity:1; font-family:Arial,Helvetica Neue,Helvetica,sans-serif; font-size:12; text-anchor:middle;\" transform=\"rotate(0, 51.5968, 372.811)\" x=\"51.5968\" y=\"372.811\">0</text>\n",
       "</g>\n",
       "<g clip-path=\"url(#clip6900)\">\n",
       "<text style=\"fill:#000000; fill-opacity:1; font-family:Arial,Helvetica Neue,Helvetica,sans-serif; font-size:12; text-anchor:middle;\" transform=\"rotate(0, 183.776, 372.811)\" x=\"183.776\" y=\"372.811\">5</text>\n",
       "</g>\n",
       "<g clip-path=\"url(#clip6900)\">\n",
       "<text style=\"fill:#000000; fill-opacity:1; font-family:Arial,Helvetica Neue,Helvetica,sans-serif; font-size:12; text-anchor:middle;\" transform=\"rotate(0, 315.956, 372.811)\" x=\"315.956\" y=\"372.811\">10</text>\n",
       "</g>\n",
       "<g clip-path=\"url(#clip6900)\">\n",
       "<text style=\"fill:#000000; fill-opacity:1; font-family:Arial,Helvetica Neue,Helvetica,sans-serif; font-size:12; text-anchor:middle;\" transform=\"rotate(0, 448.135, 372.811)\" x=\"448.135\" y=\"372.811\">15</text>\n",
       "</g>\n",
       "<g clip-path=\"url(#clip6900)\">\n",
       "<text style=\"fill:#000000; fill-opacity:1; font-family:Arial,Helvetica Neue,Helvetica,sans-serif; font-size:12; text-anchor:middle;\" transform=\"rotate(0, 580.315, 372.811)\" x=\"580.315\" y=\"372.811\">20</text>\n",
       "</g>\n",
       "<g clip-path=\"url(#clip6900)\">\n",
       "<text style=\"fill:#000000; fill-opacity:1; font-family:Arial,Helvetica Neue,Helvetica,sans-serif; font-size:12; text-anchor:end;\" transform=\"rotate(0, 45.5968, 348.037)\" x=\"45.5968\" y=\"348.037\">-15</text>\n",
       "</g>\n",
       "<g clip-path=\"url(#clip6900)\">\n",
       "<text style=\"fill:#000000; fill-opacity:1; font-family:Arial,Helvetica Neue,Helvetica,sans-serif; font-size:12; text-anchor:end;\" transform=\"rotate(0, 45.5968, 300.297)\" x=\"45.5968\" y=\"300.297\">-10</text>\n",
       "</g>\n",
       "<g clip-path=\"url(#clip6900)\">\n",
       "<text style=\"fill:#000000; fill-opacity:1; font-family:Arial,Helvetica Neue,Helvetica,sans-serif; font-size:12; text-anchor:end;\" transform=\"rotate(0, 45.5968, 252.558)\" x=\"45.5968\" y=\"252.558\">-5</text>\n",
       "</g>\n",
       "<g clip-path=\"url(#clip6900)\">\n",
       "<text style=\"fill:#000000; fill-opacity:1; font-family:Arial,Helvetica Neue,Helvetica,sans-serif; font-size:12; text-anchor:end;\" transform=\"rotate(0, 45.5968, 204.819)\" x=\"45.5968\" y=\"204.819\">0</text>\n",
       "</g>\n",
       "<g clip-path=\"url(#clip6900)\">\n",
       "<text style=\"fill:#000000; fill-opacity:1; font-family:Arial,Helvetica Neue,Helvetica,sans-serif; font-size:12; text-anchor:end;\" transform=\"rotate(0, 45.5968, 157.08)\" x=\"45.5968\" y=\"157.08\">5</text>\n",
       "</g>\n",
       "<g clip-path=\"url(#clip6900)\">\n",
       "<text style=\"fill:#000000; fill-opacity:1; font-family:Arial,Helvetica Neue,Helvetica,sans-serif; font-size:12; text-anchor:end;\" transform=\"rotate(0, 45.5968, 109.341)\" x=\"45.5968\" y=\"109.341\">10</text>\n",
       "</g>\n",
       "<g clip-path=\"url(#clip6900)\">\n",
       "<text style=\"fill:#000000; fill-opacity:1; font-family:Arial,Helvetica Neue,Helvetica,sans-serif; font-size:12; text-anchor:end;\" transform=\"rotate(0, 45.5968, 61.6021)\" x=\"45.5968\" y=\"61.6021\">15</text>\n",
       "</g>\n",
       "<g clip-path=\"url(#clip6900)\">\n",
       "<text style=\"fill:#000000; fill-opacity:1; font-family:Arial,Helvetica Neue,Helvetica,sans-serif; font-size:16; text-anchor:middle;\" transform=\"rotate(0, 315.956, 397.6)\" x=\"315.956\" y=\"397.6\">x</text>\n",
       "</g>\n",
       "<g clip-path=\"url(#clip6900)\">\n",
       "<text style=\"fill:#000000; fill-opacity:1; font-family:Arial,Helvetica Neue,Helvetica,sans-serif; font-size:16; text-anchor:middle;\" transform=\"rotate(-90, 14.4, 185.411)\" x=\"14.4\" y=\"185.411\">y</text>\n",
       "</g>\n",
       "<polyline clip-path=\"url(#clip6902)\" style=\"stroke:#009af9; stroke-width:1; stroke-opacity:1; fill:none\" points=\"\n",
       "  51.5968,192.285 54.2404,190.86 56.884,189.549 59.5276,188.383 62.1712,187.393 64.8148,186.606 67.4583,186.047 70.1019,185.739 72.7455,185.7 75.3891,185.943 \n",
       "  78.0327,186.479 80.6763,187.314 83.3199,188.448 85.9635,189.879 88.6071,191.598 91.2507,193.592 93.8943,195.843 96.5378,198.33 99.1814,201.026 101.825,203.9 \n",
       "  104.469,206.918 107.112,210.045 109.756,213.238 112.399,216.457 115.043,219.656 117.687,222.791 120.33,225.816 122.974,228.684 125.617,231.35 128.261,233.77 \n",
       "  130.905,235.902 133.548,237.705 136.192,239.142 138.835,240.18 141.479,240.79 144.122,240.946 146.766,240.63 149.41,239.827 152.053,238.528 154.697,236.731 \n",
       "  157.34,234.438 159.984,231.661 162.628,228.414 165.271,224.721 167.915,220.609 170.558,216.113 173.202,211.272 175.846,206.133 178.489,200.745 181.133,195.163 \n",
       "  183.776,189.445 186.42,183.653 189.064,177.851 191.707,172.106 194.351,166.483 196.994,161.051 199.638,155.877 202.281,151.027 204.925,146.564 207.569,142.55 \n",
       "  210.212,139.041 212.856,136.092 215.499,133.75 218.143,132.057 220.787,131.049 223.43,130.756 226.074,131.198 228.717,132.391 231.361,134.34 234.005,137.042 \n",
       "  236.648,140.486 239.292,144.654 241.935,149.517 244.579,155.038 247.223,161.175 249.866,167.873 252.51,175.075 255.153,182.714 257.797,190.716 260.44,199.005 \n",
       "  263.084,207.498 265.728,216.108 268.371,224.744 271.015,233.316 273.658,241.731 276.302,249.894 278.946,257.714 281.589,265.101 284.233,271.967 286.876,278.229 \n",
       "  289.52,283.807 292.164,288.63 294.807,292.632 297.451,295.753 300.094,297.945 302.738,299.166 305.382,299.385 308.025,298.581 310.669,296.744 313.312,293.873 \n",
       "  315.956,289.98 318.599,285.088 321.243,279.229 323.887,272.449 326.53,264.801 329.174,256.351 331.817,247.174 334.461,237.353 337.105,226.98 339.748,216.153 \n",
       "  342.392,204.978 345.035,193.565 347.679,182.031 350.323,170.493 352.966,159.071 355.61,147.886 358.253,137.058 360.897,126.705 363.541,116.942 366.184,107.88 \n",
       "  368.828,99.6241 371.471,92.2719 374.115,85.9135 376.758,80.63 379.402,76.4921 382.046,73.56 384.689,71.8817 387.333,71.4932 389.976,72.4172 392.62,74.6633 \n",
       "  395.264,78.2274 397.907,83.0915 400.551,89.2238 403.194,96.5791 405.838,105.098 408.482,114.71 411.125,125.331 413.769,136.865 416.412,149.205 419.056,162.236 \n",
       "  421.7,175.833 424.343,189.863 426.987,204.188 429.63,218.665 432.274,233.147 434.917,247.485 437.561,261.53 440.205,275.133 442.848,288.151 445.492,300.441 \n",
       "  448.135,311.869 450.779,322.305 453.423,331.633 456.066,339.74 458.71,346.531 461.353,351.918 463.997,355.83 466.641,358.208 469.284,359.011 471.928,358.21 \n",
       "  474.571,355.795 477.215,351.772 479.859,346.163 482.502,339.007 485.146,330.359 487.789,320.289 490.433,308.885 493.076,296.249 495.72,282.494 498.364,267.748 \n",
       "  501.007,252.152 503.651,235.855 506.294,219.015 508.938,201.798 511.582,184.376 514.225,166.924 516.869,149.619 519.512,132.641 522.156,116.164 524.8,100.363 \n",
       "  527.443,85.4058 530.087,71.4536 532.73,58.659 535.374,47.1646 538.018,37.1009 540.661,28.5851 543.305,21.72 545.948,16.5923 548.592,13.2719 551.235,11.811 \n",
       "  553.879,12.2433 556.523,14.5832 559.166,18.8263 561.81,24.9482 564.453,32.9054 567.097,42.635 569.741,54.0556 572.384,67.0676 575.028,81.5543 577.671,97.3828 \n",
       "  580.315,114.405 \n",
       "  \"/>\n",
       "<polyline clip-path=\"url(#clip6902)\" style=\"stroke:#e26f46; stroke-width:1; stroke-opacity:1; fill:none\" points=\"\n",
       "  51.5968,200.319 54.2404,200.319 56.884,200.319 59.5276,200.319 62.1712,200.319 64.8148,200.319 67.4583,200.319 70.1019,200.319 72.7455,200.319 75.3891,200.319 \n",
       "  78.0327,200.319 80.6763,200.319 83.3199,200.319 85.9635,200.319 88.6071,200.319 91.2507,200.319 93.8943,200.319 96.5378,200.319 99.1814,200.319 101.825,200.319 \n",
       "  104.469,200.319 107.112,200.319 109.756,200.319 112.399,200.319 115.043,200.319 117.687,200.319 120.33,200.319 122.974,200.319 125.617,200.319 128.261,200.319 \n",
       "  130.905,200.319 133.548,200.319 136.192,200.319 138.835,200.319 141.479,200.319 144.122,200.319 146.766,200.319 149.41,200.319 152.053,200.319 154.697,200.319 \n",
       "  157.34,200.319 159.984,200.319 162.628,200.319 165.271,200.319 167.915,200.319 170.558,200.319 173.202,200.319 175.846,200.319 178.489,200.319 181.133,200.319 \n",
       "  183.776,200.319 186.42,200.319 189.064,200.319 191.707,200.319 194.351,200.319 196.994,200.319 199.638,200.319 202.281,200.319 204.925,200.319 207.569,200.319 \n",
       "  210.212,200.319 212.856,200.319 215.499,200.319 218.143,200.319 220.787,200.319 223.43,200.319 226.074,200.319 228.717,200.319 231.361,200.319 234.005,200.319 \n",
       "  236.648,200.319 239.292,200.319 241.935,200.319 244.579,200.319 247.223,200.319 249.866,200.319 252.51,200.319 255.153,200.319 257.797,200.319 260.44,200.319 \n",
       "  263.084,200.319 265.728,200.319 268.371,200.319 271.015,200.319 273.658,200.319 276.302,200.319 278.946,200.319 281.589,200.319 284.233,200.319 286.876,200.319 \n",
       "  289.52,200.319 292.164,200.319 294.807,200.319 297.451,200.319 300.094,200.319 302.738,200.319 305.382,200.319 308.025,200.319 310.669,200.319 313.312,200.319 \n",
       "  315.956,200.319 318.599,200.319 321.243,200.319 323.887,200.319 326.53,200.319 329.174,200.319 331.817,200.319 334.461,200.319 337.105,200.319 339.748,200.319 \n",
       "  342.392,200.319 345.035,200.319 347.679,200.319 350.323,200.319 352.966,200.319 355.61,200.319 358.253,200.319 360.897,200.319 363.541,200.319 366.184,200.319 \n",
       "  368.828,200.319 371.471,200.319 374.115,200.319 376.758,200.319 379.402,200.319 382.046,200.319 384.689,200.319 387.333,200.319 389.976,200.319 392.62,200.319 \n",
       "  395.264,200.319 397.907,200.319 400.551,200.319 403.194,200.319 405.838,200.319 408.482,200.319 411.125,200.319 413.769,200.319 416.412,200.319 419.056,200.319 \n",
       "  421.7,200.319 424.343,200.319 426.987,200.319 429.63,200.319 432.274,200.319 434.917,200.319 437.561,200.319 440.205,200.319 442.848,200.319 445.492,200.319 \n",
       "  448.135,200.319 450.779,200.319 453.423,200.319 456.066,200.319 458.71,200.319 461.353,200.319 463.997,200.319 466.641,200.319 469.284,200.319 471.928,200.319 \n",
       "  474.571,200.319 477.215,200.319 479.859,200.319 482.502,200.319 485.146,200.319 487.789,200.319 490.433,200.319 493.076,200.319 495.72,200.319 498.364,200.319 \n",
       "  501.007,200.319 503.651,200.319 506.294,200.319 508.938,200.319 511.582,200.319 514.225,200.319 516.869,200.319 519.512,200.319 522.156,200.319 524.8,200.319 \n",
       "  527.443,200.319 530.087,200.319 532.73,200.319 535.374,200.319 538.018,200.319 540.661,200.319 543.305,200.319 545.948,200.319 548.592,200.319 551.235,200.319 \n",
       "  553.879,200.319 556.523,200.319 559.166,200.319 561.81,200.319 564.453,200.319 567.097,200.319 569.741,200.319 572.384,200.319 575.028,200.319 577.671,200.319 \n",
       "  580.315,200.319 \n",
       "  \"/>\n",
       "<polygon clip-path=\"url(#clip6900)\" points=\"\n",
       "466.736,78.051 562.315,78.051 562.315,32.691 466.736,32.691 \n",
       "  \" fill=\"#ffffff\" fill-opacity=\"1\"/>\n",
       "<polyline clip-path=\"url(#clip6900)\" style=\"stroke:#000000; stroke-width:1; stroke-opacity:1; fill:none\" points=\"\n",
       "  466.736,78.051 562.315,78.051 562.315,32.691 466.736,32.691 466.736,78.051 \n",
       "  \"/>\n",
       "<polyline clip-path=\"url(#clip6900)\" style=\"stroke:#009af9; stroke-width:1; stroke-opacity:1; fill:none\" points=\"\n",
       "  472.736,47.811 508.736,47.811 \n",
       "  \"/>\n",
       "<g clip-path=\"url(#clip6900)\">\n",
       "<text style=\"fill:#000000; fill-opacity:1; font-family:Arial,Helvetica Neue,Helvetica,sans-serif; font-size:12; text-anchor:start;\" transform=\"rotate(0, 514.736, 52.311)\" x=\"514.736\" y=\"52.311\">função</text>\n",
       "</g>\n",
       "<polyline clip-path=\"url(#clip6900)\" style=\"stroke:#e26f46; stroke-width:1; stroke-opacity:1; fill:none\" points=\"\n",
       "  472.736,62.931 508.736,62.931 \n",
       "  \"/>\n",
       "<g clip-path=\"url(#clip6900)\">\n",
       "<text style=\"fill:#000000; fill-opacity:1; font-family:Arial,Helvetica Neue,Helvetica,sans-serif; font-size:12; text-anchor:start;\" transform=\"rotate(0, 514.736, 67.431)\" x=\"514.736\" y=\"67.431\">zero</text>\n",
       "</g>\n",
       "</svg>\n"
      ]
     },
     "execution_count": 42,
     "metadata": {},
     "output_type": "execute_result"
    }
   ],
   "source": [
    "plot(0:0.1:20, fnl, xlabel = \"x\", ylabel = \"y\", label = \"função\")\n",
    "plot!(0:0.1:20, zero, label = \"zero\")"
   ]
  },
  {
   "cell_type": "markdown",
   "metadata": {},
   "source": [
    "A função retorna um valor do tipo `BigFloat` que é muito grande para a maioria das aplicações."
   ]
  },
  {
   "cell_type": "code",
   "execution_count": 69,
   "metadata": {
    "collapsed": false,
    "scrolled": false
   },
   "outputs": [
    {
     "name": "stdout",
     "output_type": "stream",
     "text": [
      "raiz1 = 1.7744741954672503\n",
      "raiz2 = 4.807741010888786\n",
      "raiz3 = 7.915602479014834\n"
     ]
    }
   ],
   "source": [
    "raiz1 = Float64(nsolve(fnl(x), 2))\n",
    "raiz2 = Float64(nsolve(fnl(x), 5))\n",
    "raiz3 = Float64(nsolve(fnl(x), 7))\n",
    "\n",
    "@show raiz1\n",
    "@show raiz2\n",
    "@show raiz3;"
   ]
  },
  {
   "cell_type": "code",
   "execution_count": 130,
   "metadata": {
    "collapsed": false,
    "scrolled": true
   },
   "outputs": [
    {
     "name": "stdout",
     "output_type": "stream",
     "text": [
      "fnl(raiz1) = 0.0\n",
      "fnl(raiz2) = 1.8318679906315083e-15\n",
      "fnl(raiz3) = 1.6653345369377348e-15\n"
     ]
    }
   ],
   "source": [
    "#testando. veja que o resultado é bem próximo de zero.\n",
    "@show fnl(raiz1)\n",
    "@show fnl(raiz2)\n",
    "@show fnl(raiz3);"
   ]
  },
  {
   "cell_type": "markdown",
   "metadata": {},
   "source": [
    "**Raízes dentro uma faixa de valores**\n",
    "\n",
    "De acordo com gráfico de $y =  x \\cdot cos(x) + sin(x + 1)$ podemos visualizar que existem várias raízes no intervalo  [0, 20]. Para calcular as raízes utilizando o a função `nsolve()` será necessário uma `list comprehension`."
   ]
  },
  {
   "cell_type": "code",
   "execution_count": 131,
   "metadata": {
    "collapsed": false,
    "scrolled": false
   },
   "outputs": [
    {
     "data": {
      "text/plain": [
       "9-element Array{Float64,1}:\n",
       " -0.527042\n",
       "  1.77447 \n",
       "  4.80774 \n",
       "  7.9156  \n",
       " 11.041   \n",
       " 14.1731  \n",
       " 17.3085  \n",
       " 20.4457  \n",
       " 26.7231  "
      ]
     },
     "execution_count": 131,
     "metadata": {},
     "output_type": "execute_result"
    }
   ],
   "source": [
    "Raizes_nsolve = [Float64(nsolve(fnl(x), i)) for i = 0:20]\n",
    "sort!(Raizes_nsolve)  # ordena os resultados\n",
    "unique(Raizes_nsolve) # filtra resultados repetidosb"
   ]
  },
  {
   "cell_type": "markdown",
   "metadata": {},
   "source": [
    "### ROOTS\n",
    "\n"
   ]
  },
  {
   "cell_type": "markdown",
   "metadata": {},
   "source": [
    "Este pacote contém rotinas simples para encontrar raízes de funções escalares contínuas de uma única variável real.\n",
    "\n",
    "Artilugações posicionais:\n",
    "\n",
    "    f uma função, objeto invocável ou tupla do mesmo. Uma tupla é usada para passar nos derivados, conforme desejado. A maioria dos métodos é livre de derivativos. Alguns (Newton, Halley) podem ter derivadas (s) calculadas usando o ForwardDiff pacakge.\n",
    "    x0 um valor inicial inicial. Normalmente, um escalar, mas pode ser uma tupla ou matriz de dois elementos para métodos de bisecção. O valor flutuante (x0) é passado.\n",
    "    método um dos vários métodos, veja abaixo.\n",
    "\n",
    "Argumentos das palavras-chave:\n",
    "\n",
    "    xabstol = zero (): declarar convergência se | xn - x {n-1} | <= max (xabstol, max (1, | x_n |) * xreltol)\n",
    "    xreltol = eps ():\n",
    "    abstol = zero (): declarar convergência se | f (x_n) | <= max (abstol, max (1, | x_n |) * reltol)\n",
    "    reltol:\n",
    "    Suporte: opcional. Um intervalo de bracketing para a raiz procurada. Se dado, um algoritmo híbrido pode ser usado onde a bisecção é utilizada para etapas que ficariam fora de limites. (Usar um método FalsePosition em vez disso seria sugerido.)\n",
    "    maxevals :: Int = 40: pare de tentar após as etapas máximas\n",
    "    maxfnevals :: Int = typemax (Int): pare de tentar após as avaliações da função maxfnevals\n",
    "    verbose :: Bool = false: se verdadeiro mostrar informações sobre algoritmo e um rastreamento.\n",
    "\n",
    "Retorna:\n",
    "\n",
    "Retorna xn se o algoritmo converge. Se o algoritmo parar, retorna xn se | f (xn) | ≤ ε ^ (2/3), onde ε = reltol, caso contrário, um erro ConvergenceFailed é lançado.\n",
    "\n",
    "Métodos exportados:\n",
    "\n",
    "Bisecção (); Order0 () (heurístico, lento mais robusto); Order1 () (também Secant ()); Order2 () (também Steffensen ()); Order5 () (KSS); Ordem8 () (Thukral); Ordem16 () (Thukral); FalsePosition (i) (posição falsa, i em 1..12);\n",
    "\n",
    "Não exportado:\n",
    "\n",
    "Secant (), use Order1 () Steffensen () use Order2 () Newton () (use a função newton ()) Halley () (use a função halley ()\n",
    "\n",
    "O método 0 da ordem é mais robusto para o ponto de partida inicial, mas pode utilizar muitas outras chamadas de função. Os métodos de ordem superior podem ser úteis quando se deseja maior precisão."
   ]
  },
  {
   "cell_type": "markdown",
   "metadata": {},
   "source": [
    "Sintaxe:\n",
    "```julia\n",
    "fzero(funcao_variável, xi)\n",
    "```\n",
    "Sendo:\n",
    "* equação: equação expressa através de uma função genérica ou anônima. O pacote `Roots` não funciona com expressões simbólicas.\n",
    "xi: valor estimado da raiz."
   ]
  },
  {
   "cell_type": "code",
   "execution_count": 30,
   "metadata": {
    "collapsed": false
   },
   "outputs": [],
   "source": [
    "using Roots"
   ]
  },
  {
   "cell_type": "code",
   "execution_count": 28,
   "metadata": {
    "collapsed": false
   },
   "outputs": [
    {
     "data": {
      "text/plain": [
       "fnl (generic function with 1 method)"
      ]
     },
     "execution_count": 28,
     "metadata": {},
     "output_type": "execute_result"
    }
   ],
   "source": [
    "fnl(x) =  x*cos(x) + sin(x + 1) "
   ]
  },
  {
   "cell_type": "code",
   "execution_count": 119,
   "metadata": {
    "collapsed": false,
    "scrolled": false
   },
   "outputs": [
    {
     "name": "stdout",
     "output_type": "stream",
     "text": [
      "raiz1R = 1.7744741954672503\n",
      "raiz2R = 4.807741010888786\n",
      "raiz3R = 7.915602479014834\n"
     ]
    }
   ],
   "source": [
    "raiz1R = fzero(fnl, 2)\n",
    "raiz2R = fzero(fnl, 5)\n",
    "raiz3R = fzero(fnl, 7)\n",
    "\n",
    "@show raiz1R\n",
    "@show raiz2R\n",
    "@show raiz3R;"
   ]
  },
  {
   "cell_type": "code",
   "execution_count": 120,
   "metadata": {
    "collapsed": false,
    "scrolled": true
   },
   "outputs": [
    {
     "name": "stdout",
     "output_type": "stream",
     "text": [
      "fnl(raiz1R) = 0.0\n",
      "fnl(raiz2R) = 1.8318679906315083e-15\n",
      "fnl(raiz3R) = 1.6653345369377348e-15\n"
     ]
    }
   ],
   "source": [
    "# testando as raízes com a função genérica definida\n",
    "# veja que o resultado é bem próximo de zero.\n",
    "@show fnl(raiz1R)\n",
    "@show fnl(raiz2R)\n",
    "@show fnl(raiz3R);"
   ]
  },
  {
   "cell_type": "markdown",
   "metadata": {},
   "source": [
    "**Raízes dentro uma faixa de valores**\n",
    "\n",
    "o pacote `Roots` utiliza a função `fzeros()`."
   ]
  },
  {
   "cell_type": "code",
   "execution_count": 33,
   "metadata": {
    "collapsed": false,
    "scrolled": true
   },
   "outputs": [
    {
     "data": {
      "text/plain": [
       "6-element Array{Float64,1}:\n",
       "  1.77447\n",
       "  4.80774\n",
       "  7.9156 \n",
       " 11.041  \n",
       " 14.1731 \n",
       " 17.3085 "
      ]
     },
     "execution_count": 33,
     "metadata": {},
     "output_type": "execute_result"
    }
   ],
   "source": [
    "# fzeros calcula as raízes de uma faixa de valores\n",
    "Raizes_Root = fzeros(fnl, 0 , 20)"
   ]
  },
  {
   "cell_type": "markdown",
   "metadata": {},
   "source": [
    "A função `fzero()` não calcula as raízes de expressões passadas como argumento. Ocorrerá erro caso seja executado  `fzero(x^2 -2*x, 1)`. Para este problema é necessário converter a expressão em função através do comando `Function`:"
   ]
  },
  {
   "cell_type": "code",
   "execution_count": 20,
   "metadata": {
    "collapsed": false
   },
   "outputs": [
    {
     "data": {
      "text/html": [
       "2.0"
      ],
      "text/plain": [
       "2.0"
      ]
     },
     "execution_count": 20,
     "metadata": {},
     "output_type": "execute_result"
    }
   ],
   "source": [
    "fzero(convert(Function, x^2 - 2*x), 1)"
   ]
  },
  {
   "cell_type": "markdown",
   "metadata": {
    "collapsed": false,
    "scrolled": true
   },
   "source": [
    "### POLYNOMIALS"
   ]
  },
  {
   "cell_type": "markdown",
   "metadata": {},
   "source": [
    "```julia\n",
    "Poly([A1, A2, A3, ... , An])\n",
    "```\n",
    "\n",
    "```julia\n",
    "roots(Polinômio)\n",
    "```\n",
    "É importante observar que o SymPy também importa uma função `Poly()`, logo é necessário a sintaxe `Polynomials.Poly(vetor)` para definir um polinômio."
   ]
  },
  {
   "cell_type": "code",
   "execution_count": 38,
   "metadata": {
    "collapsed": false
   },
   "outputs": [],
   "source": [
    "using Polynomials"
   ]
  },
  {
   "cell_type": "code",
   "execution_count": 39,
   "metadata": {
    "collapsed": false,
    "scrolled": true
   },
   "outputs": [
    {
     "data": {
      "text/plain": [
       "2-element Array{Float64,1}:\n",
       " -1.0\n",
       "  1.0"
      ]
     },
     "execution_count": 39,
     "metadata": {},
     "output_type": "execute_result"
    }
   ],
   "source": [
    "roots(Polynomials.Poly([1, 0, -1]))"
   ]
  },
  {
   "cell_type": "markdown",
   "metadata": {},
   "source": [
    "Esta forma de calcular raízes é útil quando temos polinômios grandes "
   ]
  },
  {
   "cell_type": "markdown",
   "metadata": {
    "collapsed": true
   },
   "source": [
    "## SISTEMAS DE EQUAÇÕES LINEARES E NÃO LINEARES "
   ]
  },
  {
   "cell_type": "markdown",
   "metadata": {},
   "source": [
    "### SISTEMAS DE EQUAÇÕES LINEARES \n",
    "\n",
    "Dado o sistema abaixo:\n",
    "\n",
    "${\\begin{cases}\n",
    "& 2x + 3y - 6 ~~ = 0 \\\\ \n",
    "& 3x - 4y - 12 = 0 \n",
    "\\end{cases}}$\n",
    "\n",
    "Calcular as raízes"
   ]
  },
  {
   "cell_type": "code",
   "execution_count": 23,
   "metadata": {
    "collapsed": false
   },
   "outputs": [
    {
     "data": {
      "text/plain": [
       "eql_2 (generic function with 1 method)"
      ]
     },
     "execution_count": 23,
     "metadata": {},
     "output_type": "execute_result"
    }
   ],
   "source": [
    "# Equações Lineares\n",
    "\n",
    "eql_1(x,y) = 2*x + 3*y - 6\n",
    "eql_2(x,y) = 3*x - 4*y - 12"
   ]
  },
  {
   "cell_type": "markdown",
   "metadata": {},
   "source": [
    "### SYMPY"
   ]
  },
  {
   "cell_type": "markdown",
   "metadata": {},
   "source": [
    "**Gráfico**\n",
    "\n",
    "O gráfico permite observar o ponto de cruzamento das retas que corresponde à solução do problema."
   ]
  },
  {
   "cell_type": "markdown",
   "metadata": {},
   "source": [
    "SymPy:\n",
    "```julia\n",
    "Eq - Igual       (Equal)\n",
    "```"
   ]
  },
  {
   "cell_type": "code",
   "execution_count": 25,
   "metadata": {
    "collapsed": false
   },
   "outputs": [
    {
     "data": {
      "text/plain": [
       "(x, y)"
      ]
     },
     "execution_count": 25,
     "metadata": {},
     "output_type": "execute_result"
    }
   ],
   "source": [
    "using SymPy\n",
    "@syms x y"
   ]
  },
  {
   "cell_type": "code",
   "execution_count": 74,
   "metadata": {
    "collapsed": false
   },
   "outputs": [],
   "source": [
    "plot_implicit(Or(Eq(eql_1(x, y), 0), Eq(eql_2(x, y), 0)), (x, -5, 5), (y, -5, 5));"
   ]
  },
  {
   "cell_type": "markdown",
   "metadata": {},
   "source": [
    "<img src=\"Figuras/plot_implict_1.png\" align=\"center\" width=\"500\">"
   ]
  },
  {
   "cell_type": "markdown",
   "metadata": {},
   "source": [
    "**Solução**"
   ]
  },
  {
   "cell_type": "markdown",
   "metadata": {},
   "source": [
    "**Usando o SymPy**\n",
    "\n",
    "A função `solve()` . Sintaxe:\n",
    "```julia\n",
    "solve([equação_1 , ..., equação_n] , [var_1,...,var_n])\n",
    "```\n",
    "Sendo:\n",
    "* equação_1 , ..., equação_n: equações algébricas expressas diretamente ou através de funções genéricas. Não funciona com função anônima.\n",
    "* var_1, ..., var_n: incógnitas das equações.\n",
    "\n",
    "A função `solve()` retorna um vetor de dados simbólicos do tipo `SymPy.Sym`."
   ]
  },
  {
   "cell_type": "code",
   "execution_count": 76,
   "metadata": {
    "collapsed": false
   },
   "outputs": [
    {
     "data": {
      "text/latex": [
       "\\begin{bmatrix}3.529411764705882352941176470588235294117647058823529411764705882352941176471\\\\-0.3529411764705882352941176470588235294117647058823529411764705882352941176471\\end{bmatrix}"
      ],
      "text/plain": [
       "2-element Array{SymPy.Sym,1}:\n",
       "   3.529411764705882352941176470588235294117647058823529411764705882352941176471\n",
       " -0.3529411764705882352941176470588235294117647058823529411764705882352941176471"
      ]
     },
     "execution_count": 76,
     "metadata": {},
     "output_type": "execute_result"
    }
   ],
   "source": [
    "sol_sys = nsolve([eql_1(x,y) , eql_2(x,y) ], [x , y], [0,1])"
   ]
  },
  {
   "cell_type": "code",
   "execution_count": 72,
   "metadata": {
    "collapsed": false,
    "scrolled": true
   },
   "outputs": [
    {
     "data": {
      "text/latex": [
       "\\begin{equation*}\\begin{cases}y & \\text{=>} &- \\frac{6}{17}\\\\x & \\text{=>} &\\frac{60}{17}\\\\\\end{cases}\\end{equation*}"
      ],
      "text/plain": [
       "Dict{SymPy.Sym,SymPy.Sym} with 2 entries:\n",
       "  y => -6/17\n",
       "  x => 60/17"
      ]
     },
     "execution_count": 72,
     "metadata": {},
     "output_type": "execute_result"
    }
   ],
   "source": [
    "sol_sys = solve([eql_1(x,y) , eql_2(x,y) ], [x , y])"
   ]
  },
  {
   "cell_type": "code",
   "execution_count": 73,
   "metadata": {
    "collapsed": false
   },
   "outputs": [
    {
     "data": {
      "text/plain": [
       "Dict{SymPy.Sym,SymPy.Sym}"
      ]
     },
     "execution_count": 73,
     "metadata": {},
     "output_type": "execute_result"
    }
   ],
   "source": [
    "typeof(sol_sys)"
   ]
  },
  {
   "cell_type": "markdown",
   "metadata": {},
   "source": [
    "O SymPy retorna o resultado `Dict{SymPy.Sym,SymPy.Sym}`. É interessante tranformar os dados em `Float` para manipulá-los. "
   ]
  },
  {
   "cell_type": "code",
   "execution_count": 33,
   "metadata": {
    "collapsed": false
   },
   "outputs": [
    {
     "data": {
      "text/plain": [
       "(3.5294117647058822, -0.35294117647058826)"
      ]
     },
     "execution_count": 33,
     "metadata": {},
     "output_type": "execute_result"
    }
   ],
   "source": [
    "x1 , x2 = float(sol_sys[x]), float(sol_sys[y])"
   ]
  },
  {
   "cell_type": "code",
   "execution_count": 34,
   "metadata": {
    "collapsed": false,
    "scrolled": true
   },
   "outputs": [
    {
     "name": "stdout",
     "output_type": "stream",
     "text": [
      "eql_1(x1, x2) = 0.0\n",
      "eql_2(x1, x2) = 0.0\n"
     ]
    }
   ],
   "source": [
    "# testando\n",
    "@show eql_1(x1, x2)\n",
    "@show eql_2(x1, x2);"
   ]
  },
  {
   "cell_type": "markdown",
   "metadata": {},
   "source": [
    "### SISTEMAS DE EQUAÇÕES NÃO LINEARES"
   ]
  },
  {
   "cell_type": "markdown",
   "metadata": {
    "collapsed": false
   },
   "source": [
    "Dado o sistema abaixo:\n",
    "\n",
    "${\\begin{cases}\n",
    "& xy -2x ~~~~~~~~~ = 0 \\\\ \n",
    "&- x^2 + 8y -2 = 0 \n",
    "\\end{cases}}$"
   ]
  },
  {
   "cell_type": "code",
   "execution_count": 31,
   "metadata": {
    "collapsed": false
   },
   "outputs": [
    {
     "data": {
      "text/plain": [
       "eqnl_2 (generic function with 1 method)"
      ]
     },
     "execution_count": 31,
     "metadata": {},
     "output_type": "execute_result"
    }
   ],
   "source": [
    "# Funções \n",
    "eqnl_1(x,y) = 3*x + cos(y)  - 5\n",
    "eqnl_2(x,y) = -sin(x) + y - 2"
   ]
  },
  {
   "cell_type": "markdown",
   "metadata": {},
   "source": [
    "### SYMPY"
   ]
  },
  {
   "cell_type": "markdown",
   "metadata": {},
   "source": [
    "**Gráfico**\n",
    "\n",
    "O gráfico permite observar o ponto de cruzamento das curvas que corresponde à solução do problema."
   ]
  },
  {
   "cell_type": "code",
   "execution_count": 32,
   "metadata": {
    "collapsed": false
   },
   "outputs": [
    {
     "data": {
      "text/plain": [
       "(x, y)"
      ]
     },
     "execution_count": 32,
     "metadata": {},
     "output_type": "execute_result"
    }
   ],
   "source": [
    "using SymPy\n",
    "@syms x y"
   ]
  },
  {
   "cell_type": "code",
   "execution_count": 35,
   "metadata": {
    "collapsed": false
   },
   "outputs": [],
   "source": [
    "plot_implicit(Or(Eq(eqnl_1(x,y), 0), Eq(eqnl_2(x,y), 0)), (x, -5, 5), (y, -5, 5));"
   ]
  },
  {
   "cell_type": "markdown",
   "metadata": {},
   "source": [
    "<img src=\"Figuras/plot_implict_4.png\" align=\"center\" width=\"500\">"
   ]
  },
  {
   "cell_type": "markdown",
   "metadata": {},
   "source": [
    "**Solução**"
   ]
  },
  {
   "cell_type": "markdown",
   "metadata": {},
   "source": [
    "A saída é um vetor contendo as raízes do problema.\n",
    "Sintaxe: \n",
    "```julia\n",
    "nsolve([equação_1,..., equação_n], [var_1,..., var_n], [valor_var_1,..., valor_var_n])\n",
    "```\n",
    "Sendo: \n",
    "* [equação_1 , ..., equação_n]: vetor das equações algébricas expressas diretamente ou através de funções genéricas. Não funciona com funções anônimas.\n",
    "* [var_1, ..., var_n]: vetor das incógnitas das equações. \n",
    "* [valor_var_1,..., valor_var_n]: vetor de valores aproximados das raízes.\n",
    "\n",
    "A função `nsolve()` retorna um vetor de dados simbólicos do tipo `SymPy.Sym`."
   ]
  },
  {
   "cell_type": "code",
   "execution_count": 33,
   "metadata": {
    "collapsed": false,
    "scrolled": true
   },
   "outputs": [
    {
     "data": {
      "text/latex": [
       "\\begin{bmatrix}1.991319354723525449468532229112811182674010473495033994723729082449806234807\\\\2.912875545325404325640533340730442672183820525227634424225062614837766899438\\end{bmatrix}"
      ],
      "text/plain": [
       "2-element Array{SymPy.Sym,1}:\n",
       " 1.991319354723525449468532229112811182674010473495033994723729082449806234807\n",
       " 2.912875545325404325640533340730442672183820525227634424225062614837766899438"
      ]
     },
     "execution_count": 33,
     "metadata": {},
     "output_type": "execute_result"
    }
   ],
   "source": [
    "sol_nlsys = nsolve([eqnl_1(x, y) , eqnl_2(x, y) ],[x , y], [1, 1])"
   ]
  },
  {
   "cell_type": "code",
   "execution_count": 37,
   "metadata": {
    "collapsed": false
   },
   "outputs": [
    {
     "data": {
      "text/plain": [
       "Array{SymPy.Sym,1}"
      ]
     },
     "execution_count": 37,
     "metadata": {},
     "output_type": "execute_result"
    }
   ],
   "source": [
    "typeof(sol_nlsys)"
   ]
  },
  {
   "cell_type": "code",
   "execution_count": 34,
   "metadata": {
    "collapsed": false
   },
   "outputs": [
    {
     "data": {
      "text/latex": [
       "$$1.991319354723525449468532229112811182674010473495033994723729082449806234807$$"
      ],
      "text/plain": [
       "1.991319354723525449468532229112811182674010473495033994723729082449806234807"
      ]
     },
     "execution_count": 34,
     "metadata": {},
     "output_type": "execute_result"
    }
   ],
   "source": [
    "# Acessar somente o primeiro valor\n",
    "sol_nlsys[1]"
   ]
  },
  {
   "cell_type": "markdown",
   "metadata": {},
   "source": [
    "### PACOTES SUNDIALS E NLSOLVE"
   ]
  },
  {
   "cell_type": "markdown",
   "metadata": {},
   "source": [
    "#### SUNDIALS\n",
    "\n",
    "Sintaxe:\n",
    "```julia\n",
    "    function nome_função(função, var)\n",
    "        função[1] = a_1*var[1] + b_1*var[2] + ... + k_1     \n",
    "        função[2] = a_2*var[1] + b_2*var[2] + ... + k_2\n",
    "        ...\n",
    "        função[n] = a_n*var[1] + b_n*var[2] + ... + k_n  \n",
    "    end\n",
    "    \n",
    "    Sundials.kinsol(nome_função, vi)\n",
    "```\n",
    "Sendo:\n",
    "\n",
    "- função[1], função[2], função[n]: funções do sistema de equações.\n",
    "- a, b, ... e k:  constantes das equações. \n",
    "- var[1] e var[2]:  corresponde a primeira variável `x` a segunda variável `y` e assim por diante. \n",
    "- vi: vetor de soluções iniciais do sistema.\n",
    "\n",
    "A função `Sundials.kinsol()` retorna um vetor de dados numéricos do tipo `Float64`."
   ]
  },
  {
   "cell_type": "code",
   "execution_count": 1,
   "metadata": {
    "collapsed": false
   },
   "outputs": [],
   "source": [
    "using Sundials"
   ]
  },
  {
   "cell_type": "code",
   "execution_count": 4,
   "metadata": {
    "collapsed": false
   },
   "outputs": [
    {
     "data": {
      "text/plain": [
       "sistema_SD (generic function with 1 method)"
      ]
     },
     "execution_count": 4,
     "metadata": {},
     "output_type": "execute_result"
    }
   ],
   "source": [
    "function sistema_SD(função, x)\n",
    "    função[1] = 3*x[1] + cos(x[2]) - 5    \n",
    "    função[2] = -sin(x[1]) + x[2] - 2\n",
    "end"
   ]
  },
  {
   "cell_type": "code",
   "execution_count": 5,
   "metadata": {
    "collapsed": false,
    "scrolled": false
   },
   "outputs": [
    {
     "data": {
      "text/plain": [
       "2-element Array{Float64,1}:\n",
       " -4.0\n",
       " -2.0"
      ]
     },
     "execution_count": 5,
     "metadata": {},
     "output_type": "execute_result"
    }
   ],
   "source": [
    "solSD = Sundials.kinsol(sistema_SD, [1.0, 1.0])"
   ]
  },
  {
   "cell_type": "code",
   "execution_count": 17,
   "metadata": {
    "collapsed": false
   },
   "outputs": [
    {
     "data": {
      "text/plain": [
       "1.9913176871742573"
      ]
     },
     "execution_count": 17,
     "metadata": {},
     "output_type": "execute_result"
    }
   ],
   "source": [
    "# para acessar somente o valor de X\n",
    "solSD[1]"
   ]
  },
  {
   "cell_type": "code",
   "execution_count": 18,
   "metadata": {
    "collapsed": false
   },
   "outputs": [
    {
     "data": {
      "text/plain": [
       "2.9128717600805953"
      ]
     },
     "execution_count": 18,
     "metadata": {},
     "output_type": "execute_result"
    }
   ],
   "source": [
    "# para acessar somente o valor de Y\n",
    "solSD[2]"
   ]
  },
  {
   "cell_type": "markdown",
   "metadata": {},
   "source": [
    "#### NLSOLVE\n",
    "\n",
    "Sintaxe:\n",
    "```julia\n",
    "    function nome_função(função, var)\n",
    "        função[1] = a_1*var[1] + b_1*var[2] + ... + k_1     \n",
    "        função[2] = a_2*var[1] + b_2*var[2] + ... + k_2\n",
    "        ...\n",
    "        função[n] = a_n*var[1] + b_n*var[2] + ... + k_n  \n",
    "    end\n",
    "    \n",
    "    nlsolve(nome_função,  vi)\n",
    "```\n",
    "Sendo:\n",
    "\n",
    "- função[1], função[2], função[n]: funções do sistema de equações.\n",
    "- a, b, ... e k:  constantes das equações. \n",
    "- var[1] e var[2]:  corresponde a primeira variável `x` a segunda variável `y` e assim por diante. \n",
    "- vi: vetor de soluções iniciais do sistema.\n",
    "\n",
    "A função `nlsolve()` retorna um resultado do tipo `NLsolve.SolverResults{Float64})` e os dados podem ser acessados colocando \" . \" e completando com \"tab\". "
   ]
  },
  {
   "cell_type": "code",
   "execution_count": 44,
   "metadata": {
    "collapsed": false
   },
   "outputs": [],
   "source": [
    "using NLsolve"
   ]
  },
  {
   "cell_type": "code",
   "execution_count": 77,
   "metadata": {
    "collapsed": false
   },
   "outputs": [
    {
     "data": {
      "text/plain": [
       "sistema_NLS (generic function with 1 method)"
      ]
     },
     "execution_count": 77,
     "metadata": {},
     "output_type": "execute_result"
    }
   ],
   "source": [
    "function sistema_NLS(função, x)\n",
    "    função[1] = 3*x[1] + cos(x[2]) - 5    \n",
    "    função[2] = -sin(x[1]) + x[2] - 2\n",
    "end"
   ]
  },
  {
   "cell_type": "code",
   "execution_count": 78,
   "metadata": {
    "collapsed": false,
    "scrolled": false
   },
   "outputs": [
    {
     "data": {
      "text/plain": [
       "Results of Nonlinear Solver Algorithm\n",
       " * Algorithm: Trust-region with dogleg and autoscaling\n",
       " * Starting Point: [1.0, 1.0]\n",
       " * Zero: [-4.0, -2.0]\n",
       " * Inf-norm of residuals: 0.000000\n",
       " * Iterations: 0\n",
       " * Convergence: true\n",
       "   * |x - x'| < 0.0e+00: false\n",
       "   * |f(x)| < 1.0e-08: true\n",
       " * Function Calls (f): 1\n",
       " * Jacobian Calls (df/dx): 1"
      ]
     },
     "execution_count": 78,
     "metadata": {},
     "output_type": "execute_result"
    }
   ],
   "source": [
    "solNLS = nlsolve(sistema_NLS, [ 1.0, 1.0])"
   ]
  },
  {
   "cell_type": "code",
   "execution_count": 47,
   "metadata": {
    "collapsed": false
   },
   "outputs": [
    {
     "data": {
      "text/plain": [
       "NLsolve.SolverResults{Float64,Array{Float64,1},Array{Float64,1}}"
      ]
     },
     "execution_count": 47,
     "metadata": {},
     "output_type": "execute_result"
    }
   ],
   "source": [
    "typeof(solNLS)"
   ]
  },
  {
   "cell_type": "code",
   "execution_count": 52,
   "metadata": {
    "collapsed": false
   },
   "outputs": [
    {
     "data": {
      "text/plain": [
       "2-element Array{Float64,1}:\n",
       " 1.99132\n",
       " 2.91288"
      ]
     },
     "execution_count": 52,
     "metadata": {},
     "output_type": "execute_result"
    }
   ],
   "source": [
    "# para acessar somente os valores das soluções\n",
    "solNLS.zero"
   ]
  },
  {
   "cell_type": "code",
   "execution_count": 49,
   "metadata": {
    "collapsed": false
   },
   "outputs": [
    {
     "data": {
      "text/plain": [
       "1.991319354723526"
      ]
     },
     "execution_count": 49,
     "metadata": {},
     "output_type": "execute_result"
    }
   ],
   "source": [
    "# para acessar somente os o valor de X\n",
    "solNLS.zero[1]"
   ]
  },
  {
   "cell_type": "code",
   "execution_count": 50,
   "metadata": {
    "collapsed": false
   },
   "outputs": [
    {
     "data": {
      "text/plain": [
       "5"
      ]
     },
     "execution_count": 50,
     "metadata": {},
     "output_type": "execute_result"
    }
   ],
   "source": [
    "# para acessar somente a quantidade de interações\n",
    "# menos interações, siginifica que o valor inicial foi melhor.\n",
    "solNLS.iterations"
   ]
  },
  {
   "cell_type": "markdown",
   "metadata": {},
   "source": [
    "## DOMÍNIO DE UMA INEQUAÇÃO\n",
    "\n",
    "SymPy:\n",
    "```\n",
    "Ge - Maior igual (great equal)\n",
    "Gt - Maior que   (great que)\n",
    "Eq - Igual       (Equal)\n",
    "Le - Menor igual (Less equal)\n",
    "Lt - Menor que   (Less then)\n",
    "Ne - Diferente   (not equal)\n",
    "∧  - E  lógico\n",
    "∨  - OU lógico\n",
    "```"
   ]
  },
  {
   "cell_type": "code",
   "execution_count": 16,
   "metadata": {
    "collapsed": false,
    "scrolled": false
   },
   "outputs": [
    {
     "data": {
      "text/plain": [
       "(x,)"
      ]
     },
     "execution_count": 16,
     "metadata": {},
     "output_type": "execute_result"
    }
   ],
   "source": [
    "using SymPy\n",
    "@syms x"
   ]
  },
  {
   "cell_type": "markdown",
   "metadata": {},
   "source": [
    "* **Inequação 1**\n",
    "\n",
    "$\\displaystyle {(x - 2)\\over(x-1)} \\geqslant 0$"
   ]
  },
  {
   "cell_type": "code",
   "execution_count": 18,
   "metadata": {
    "collapsed": false
   },
   "outputs": [
    {
     "data": {
      "text/html": [
       "Or(And(-oo < x, x < 1), And(2 <= x, x < oo))"
      ],
      "text/plain": [
       "(2 ≤ x ∧ x < ∞) ∨ (-∞ < x ∧ x < 1)"
      ]
     },
     "execution_count": 18,
     "metadata": {},
     "output_type": "execute_result"
    }
   ],
   "source": [
    "solve( Ge((x - 2)/(x-1), 0), x)"
   ]
  },
  {
   "cell_type": "markdown",
   "metadata": {},
   "source": [
    "Traduzindo: Valores de `x` maiores ou igual a 2 e menores que infinito OU `x` maior que menos infinito e `x` menor que 1"
   ]
  },
  {
   "cell_type": "markdown",
   "metadata": {
    "collapsed": false
   },
   "source": [
    "* ** Inequação 2**\n",
    "\n",
    "$\\displaystyle {(x - 2)\\over(x-1)} > 0$"
   ]
  },
  {
   "cell_type": "code",
   "execution_count": 13,
   "metadata": {
    "collapsed": false
   },
   "outputs": [
    {
     "data": {
      "text/html": [
       "Or(And(-oo < x, x < 1), And(2 < x, x < oo))"
      ],
      "text/plain": [
       "(-∞ < x ∧ x < 1) ∨ (2 < x ∧ x < ∞)"
      ]
     },
     "execution_count": 13,
     "metadata": {},
     "output_type": "execute_result"
    }
   ],
   "source": [
    "solve(Gt((x - 2)/(x-1),0), x)"
   ]
  },
  {
   "cell_type": "markdown",
   "metadata": {},
   "source": [
    "* ** Inequação 3**\n",
    "\n",
    "$\\displaystyle {(x - 2)\\over(x-1)} \\leqslant 0$"
   ]
  },
  {
   "cell_type": "code",
   "execution_count": 4,
   "metadata": {
    "collapsed": false,
    "scrolled": true
   },
   "outputs": [
    {
     "data": {
      "text/latex": [
       "$$x \\leq 2 \\wedge 1 \\lt x$$"
      ],
      "text/plain": [
       "x ≤ 2 ∧ 1 < x"
      ]
     },
     "execution_count": 4,
     "metadata": {},
     "output_type": "execute_result"
    }
   ],
   "source": [
    "solve(Le((x - 2)/(x-1), 0), x)"
   ]
  },
  {
   "cell_type": "markdown",
   "metadata": {},
   "source": [
    "* ** Inequação 4**\n",
    "\n",
    "$\\displaystyle {(x - 2)\\over(x-1)} < 0$"
   ]
  },
  {
   "cell_type": "code",
   "execution_count": 5,
   "metadata": {
    "collapsed": false,
    "scrolled": true
   },
   "outputs": [
    {
     "data": {
      "text/latex": [
       "$$1 \\lt x \\wedge x \\lt 2$$"
      ],
      "text/plain": [
       "1 < x ∧ x < 2"
      ]
     },
     "execution_count": 5,
     "metadata": {},
     "output_type": "execute_result"
    }
   ],
   "source": [
    "solve(Lt((x - 2)/(x-1), 0), x)"
   ]
  },
  {
   "cell_type": "markdown",
   "metadata": {},
   "source": [
    "* ** Inequação 5**\n",
    "\n",
    "$\\displaystyle {(x - 2)\\over(x-1)} \\neq 0$"
   ]
  },
  {
   "cell_type": "code",
   "execution_count": 57,
   "metadata": {
    "collapsed": false
   },
   "outputs": [
    {
     "data": {
      "text/latex": [
       "$$\\left(-\\infty \\lt x \\wedge x \\lt 1\\right) \\vee \\left(1 \\lt x \\wedge x \\lt 2\\right) \\vee \\left(2 \\lt x \\wedge x \\lt \\infty\\right)$$"
      ],
      "text/plain": [
       "(-∞ < x ∧ x < 1) ∨ (1 < x ∧ x < 2) ∨ (2 < x ∧ x < ∞)"
      ]
     },
     "execution_count": 57,
     "metadata": {},
     "output_type": "execute_result"
    }
   ],
   "source": [
    "solve(Ne((x - 2)/(x-1), 0), x)"
   ]
  },
  {
   "cell_type": "markdown",
   "metadata": {},
   "source": [
    "## REFERÊNCIAS BIBLIOGRÁFICAS\n",
    "\n",
    "\n",
    "Rackauckas, C. & Nie, Q., (2017). DifferentialEquations.jl – A Performant and Feature-Rich Ecosystem for Solving Differential Equations in Julia. Journal of Open Research Software. 5(1), p.15.\n",
    "\n",
    "A. C. Hindmarsh, P. N. Brown, K. E. Grant, S. L. Lee, R. Serban, D. E. Shumaker, and C. S. Woodward, “SUNDIALS: Suite of Nonlinear and Differential/Algebraic Equation Solvers,” ACM Transactions on Mathematical Software, 31(3), pp. 363-396, 2005. \n"
   ]
  },
  {
   "cell_type": "code",
   "execution_count": null,
   "metadata": {
    "collapsed": true
   },
   "outputs": [],
   "source": []
  }
 ],
 "metadata": {
  "anaconda-cloud": {},
  "kernelspec": {
   "display_name": "Julia 0.6.2",
   "language": "julia",
   "name": "julia-0.6"
  },
  "language_info": {
   "file_extension": ".jl",
   "mimetype": "application/julia",
   "name": "julia",
   "version": "0.6.2"
  }
 },
 "nbformat": 4,
 "nbformat_minor": 0
}
