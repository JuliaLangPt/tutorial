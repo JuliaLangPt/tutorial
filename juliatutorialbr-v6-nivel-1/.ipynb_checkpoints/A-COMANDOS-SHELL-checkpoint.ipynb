{
 "cells": [
  {
   "cell_type": "markdown",
   "metadata": {},
   "source": [
    "# COMANDOS SHELL\n",
    "\n",
    "Julia permite executar comandos de um shell a partir do REPL ou célula de um Notebook do Jupyter. O Shell é um interpretador de comandos que permite ao usuario interagir com o sistema operacional através de comandos digitados. Shell do windows e shell do Linux\n",
    "\n",
    "Julia não apresenta uma interface amigável para executar comandos DOS no Windows. O problema é que muitos \"comandos\" no Windows são emulados enquanto que no linux são executados programas (o comando `who` executa o binário de mesmo nome localizado em /usr/bin/). Parte do problema, de acordo com os desenvolvedores da linguagem, ocorre porque no Windows não possui um shell que execute de forma confiável. Características:\n",
    "- Em vez de executar imediatamente o comando, Julia criar um objeto Cmd para representar o comando. É possível este objeto para conectar o comando a outros via pipes, executá-lo, e ler ou escrever para ele.\n",
    "\n",
    "- Quando o comando é executado, a saída do comando por padrão vai para STDOUT(saída padrão).\n",
    "\n",
    "- O comando não é executado com um shell. Em vez disso, Julia analisa a sintaxe de comando diretamente, interpolando apropriadamente as variáveis e dividindo as palavras como o shell, respeitando a sintaxe de citação de shell. O comando é executado como o processo filho imediato da julia, usando chamadas fork e exec."
   ]
  },
  {
   "cell_type": "markdown",
   "metadata": {},
   "source": [
    "## PRINCIPAIS DIRETÓRIOS DE UM SISTEMA OPERACIONAL LINUX\n",
    "\n",
    "O Linux, além de outros sistemas operacionais Unix-Like, possui organização de arquivos e diretórios em uma estrutura de árvore que começa pelo diretório raiz e estende-se para os diretórios de sistema e usuário. O Hierarquia do Sistema de Arquivos, ou FHS, é um padrão mantido pela Fundação Linux e define os principais diretórios e seu conteúdo para o sistema operacional Linux. Nem todas as distribuições GNU/Linux seguem o padrão \"FHS\", como por exemplo, a distribuição GoboLinux que utiliza uma estrutura no qual cada programa possui um diretório próprio. A versão mais atual do \"FHS\" é a 3.0 lançada em 18/05/2015. Principais diretórios:\n",
    "\n",
    "\n",
    "\n",
    "**/bin**\n",
    "\n",
    "   Contém arquivos binários correspondente aos comandos do sistema.  Os comandos contidos neste diretório são públicos, podem ser utilizados por qualquer usuário do sistema\n",
    "\n",
    "**/boot**\n",
    "\n",
    "  Neste diretório é armazenado as imagens do kernel e os arquivos de inicialização do sistema.\n",
    "    \n",
    "**/dev**\n",
    "\n",
    "   Contém os arquivos de dispositivos do sistema. Todo dispositivo de hardware (mouse, impressora e outros) reconhecido pelo sistema operacional Linux é representado por um arquivo nesse diretório.\n",
    "\n",
    "**/etc** \n",
    "\n",
    "   Contém todos os arquivos de configuração do sistema operacional Linux.\n",
    "\n",
    "**/home** \n",
    "\n",
    "   Este diretório contém os subdiretórios pessoais dos usuarios do sistema operacional. Cada usuario possue seu próprio diretório.\n",
    "\n",
    "**/lib** \n",
    "\n",
    "   Contém as bibliotecas compartilhadas pelos programas do sistema e módulos do kernel.\n",
    "\n",
    "**/lost+found**\n",
    "\n",
    "   Local no qual será gravado os arquivos/diretórios recuperados pelo utilitário fsck.ext2 para cada partição. \n",
    "\n",
    "**/media**\n",
    "\n",
    "   Ponto de montagem de dispositivos removíveis do sistema, como pendrivers, mídias opticas e outros dispositivos removíveis.\n",
    "\n",
    "**/mnt** \n",
    "\n",
    "   Ponto de montagem temporário de sistemas de arquivos. Atualmente está em desuso e pode ser utilizado da mesma forma que o diretório '/media'.\n",
    "    \n",
    "**/opt**\n",
    "    \n",
    "   Diretório utilizado para armarzenar dados de programas que não fazem parte oficialmente da distribuição. \n",
    "\n",
    "\n",
    "**/proc** \n",
    "\n",
    "   É um diretório virtual configurado pelo kernel.  Este diretório armazena arquivos que contém informações sobre o sistema (CPU, memoria, dispositivos PCI, Plug'n Play, etc.).\n",
    "\n",
    "**/root** \n",
    "\n",
    "   Diretório do usuário root. Em geral contém apenas um diretório 'Documentos' e alguns arquivos ocultos de configuração de programas instalados no sistema.\n",
    "\n",
    "**/sbin** \n",
    "\n",
    "   Diretório de arquivos binários executáveis correspondentes aos comandos de administração do sistema operacional, usados apenas pelo usuário root. Aqui encontraremos os binários 'iptable', 'ifconfig', 'halt' entre outros.\n",
    "\n",
    "**/tmp** \n",
    "\n",
    "   Diretório para armazenamento de arquivos temporários utilizado pelos aplicativos. Aqui encontram-se o chrome, skype e outros.\n",
    "\n",
    "**/usr** \n",
    "\n",
    "   Contém maior parte dos programas instalados pelo usuário, além de documentação, games, bibliotecas e muitos outros arquivos que não são necessários durante o processo de inicialização.\n",
    "\n",
    "**/var** \n",
    "\n",
    "   Contém arquivos de dados variáveis conforme operação do sistema. Aqui temos arquivos de logs, arquivos de spool e outros."
   ]
  },
  {
   "cell_type": "markdown",
   "metadata": {},
   "source": [
    "## COMANDOS LINUX\n",
    "\n",
    "Julia permite executar comandos Linux dentro das céluas do Jupyter e REPL. Sintaxe:\n",
    "\n",
    "```sh\n",
    "run(`comando `) ou ;comando\n",
    "```\n",
    "É possível realizar vários comandos um após o outro. Sintaxe: \n",
    "\n",
    "```sh\n",
    "run(`comando2` & `comando2` ) \n",
    "\n",
    ";comando1 \"&\" comando2 \n",
    "\n",
    ";comando1  \";\" comando2\n",
    "```\n",
    "Ou ainda Pipeline, e \"jogar\" o resultado de um comando em outro. Sintaxe:\n",
    "\n",
    "```sh\n",
    "run(pipeline(`comando1`, `comando2`))  ou ;comando1 \"|\" comando2 \n",
    "```\n",
    "\n",
    "Através de `\"<\"` e `\">\"` é possível definir qual será o `stdin` e o `stdout`. `\">\"` é utilizado para redirecionar a saída de um comando para um arquivo ou dispositivo. `\"<\"` serve para pegarmos a saída gerada por um arquivo e defini-la como entrada para um comando. Se o arquivo existir em disco, `\">>\"` adiciona dados ao arquivo criado ."
   ]
  },
  {
   "cell_type": "markdown",
   "metadata": {},
   "source": [
    "## ALGUNS COMANDOS IMPORTANTES"
   ]
  },
  {
   "cell_type": "markdown",
   "metadata": {},
   "source": [
    "### Comandos sobre arquivos e diretórios"
   ]
  },
  {
   "cell_type": "markdown",
   "metadata": {},
   "source": [
    "**`pwd`**\n",
    "\n",
    "mostra todo o endereço do diretório que o usuário está no momento."
   ]
  },
  {
   "cell_type": "code",
   "execution_count": 2,
   "metadata": {},
   "outputs": [
    {
     "name": "stdout",
     "output_type": "stream",
     "text": [
      "/run/media/jmarcellopereira/COISAS/jmarcello/ESTUDOS/COMPUTACAO-CIENTIFICA-NOTEBOOKS/JULIA/git_julia/julia-tutorial-niveis-6/juliatutorialbr-v5-nivel-1\n"
     ]
    }
   ],
   "source": [
    ";pwd"
   ]
  },
  {
   "cell_type": "code",
   "execution_count": 3,
   "metadata": {
    "scrolled": true
   },
   "outputs": [
    {
     "name": "stdout",
     "output_type": "stream",
     "text": [
      "/run/media/jmarcellopereira/COISAS/jmarcello/ESTUDOS/COMPUTACAO-CIENTIFICA-NOTEBOOKS/JULIA/git_julia/julia-tutorial-niveis-6/juliatutorialbr-v5-nivel-1\n"
     ]
    },
    {
     "data": {
      "text/plain": [
       "Process(`\u001b[4mpwd\u001b[24m`, ProcessExited(0))"
      ]
     },
     "execution_count": 3,
     "metadata": {},
     "output_type": "execute_result"
    }
   ],
   "source": [
    "run(`pwd`)"
   ]
  },
  {
   "cell_type": "markdown",
   "metadata": {},
   "source": [
    "**`mkdir`**\n",
    "\n",
    "Cria uma pasta vazia no diretório atual. Sintaxe:\n",
    "```\n",
    "    mkdir nome_diretório\n",
    "```"
   ]
  },
  {
   "cell_type": "code",
   "execution_count": 9,
   "metadata": {},
   "outputs": [],
   "source": [
    ";mkdir julia_dir_1"
   ]
  },
  {
   "cell_type": "code",
   "execution_count": 35,
   "metadata": {
    "scrolled": true
   },
   "outputs": [
    {
     "data": {
      "text/plain": [
       "`\u001b[4mmkdir\u001b[24m \u001b[4mjulia_dir_2\u001b[24m`"
      ]
     },
     "execution_count": 35,
     "metadata": {},
     "output_type": "execute_result"
    }
   ],
   "source": [
    "run(`mkdir julia_dir_2`)"
   ]
  },
  {
   "cell_type": "markdown",
   "metadata": {},
   "source": [
    "Outras possibilidades de criação de várias pastas."
   ]
  },
  {
   "cell_type": "code",
   "execution_count": 25,
   "metadata": {},
   "outputs": [],
   "source": [
    ";mkdir julia_dir_3 ;mkdir julia_dir_4"
   ]
  },
  {
   "cell_type": "code",
   "execution_count": 28,
   "metadata": {},
   "outputs": [],
   "source": [
    ";mkdir julia_dir_5 & mkdir julia_dir_6"
   ]
  },
  {
   "cell_type": "code",
   "execution_count": 16,
   "metadata": {},
   "outputs": [
    {
     "data": {
      "text/plain": [
       "Base.ProcessChain(Base.Process[Process(`\u001b[4mmkdir\u001b[24m \u001b[4mjulia_dir_7\u001b[24m`, ProcessExited(0)), Process(`\u001b[4mmkdir\u001b[24m \u001b[4mjulia_dir_8\u001b[24m`, ProcessExited(0))], RawFD(0x00000000), RawFD(0x00000001), RawFD(0x00000002))"
      ]
     },
     "execution_count": 16,
     "metadata": {},
     "output_type": "execute_result"
    }
   ],
   "source": [
    "run(`mkdir julia_dir_7` & `mkdir julia_dir_8` ) "
   ]
  },
  {
   "cell_type": "markdown",
   "metadata": {},
   "source": [
    "**`ls`**\n",
    "\n",
    "lista os arquivos e diretórios da pasta. Ao ser executado é listado os arquivos do diretório atual."
   ]
  },
  {
   "cell_type": "code",
   "execution_count": 8,
   "metadata": {
    "scrolled": false
   },
   "outputs": [
    {
     "name": "stdout",
     "output_type": "stream",
     "text": [
      "&\n",
      ";\n",
      "01-intro-julia.ipynb\n",
      "02-intro-julia-cont.ipynb\n",
      "03-zeros-de-funcao.ipynb\n",
      "04-programação-defensiva.ipynb\n",
      "10-INTERPOLACAO-E-AJUSTE-DE-CURVAS.ipynb\n",
      "11-SOMATORIO-PRODUTORIO-SERIES-MATEMATICAS.ipynb\n",
      "12-CALCULO-DIFERENCIAL-INTEGRAL-novo.ipynb\n",
      "13-EQUACOES-DIFERENCIAIS.ipynb\n",
      "14-TRABALHANDO-COM-ARQUIVOS(ENTRADA E SAIDA)-PARTE-I.ipynb\n",
      "15-interpolacao.ipynb\n",
      "1-TIPOS-DE-DADOS-PARTE-II.ipynb\n",
      "21-runge-kutta.ipynb\n",
      "2-ESCOPO-DE-VARIÁVEIS.ipynb\n",
      "33-FUNCOES-PART-II.ipynb\n",
      "3-FUNCOES-PARTE-II.ipynb\n",
      "4-TRATAMENTO-DE-EXCEÇÕES.ipynb\n",
      "5-ALGEBRA-LINEAR.ipynb\n",
      "6-CALCULO-COM-MATEMATICA-SIMBOLICA-PARTE-II.ipynb\n",
      "7-GRAFICOS-2D-3D-PARTE-II.ipynb\n",
      "7-PROGRAMACAO-FUNCIONAL.ipynb\n",
      "8-GRAFICOS-2D-3D-PARTE-II.ipynb\n",
      "9-CALCULO-DE-RAIZES-E-SISTEMAS-DE-EQUACOES-BACK.ipynb\n",
      "9-CALCULO-DE-RAIZES-E-SISTEMAS-DE-EQUACOES-E-DOMINIO-DE-INEQUACOES-ATUAL.ipynb\n",
      "9-CALCULO-DE-RAIZES-E-SISTEMAS-DE-EQUACOES.ipynb\n",
      "A-COMANDOS-SHELL.ipynb\n",
      "alarme_bomba.mp3\n",
      "arquivo_avancado.jld\n",
      "arquivo_avancado_novo.jld\n",
      "arquivo_basico.jld\n",
      "arquivo_cpu.txt\n",
      "arquivo_ola.txt\n",
      "arquivos_computador11.txt\n",
      "arquivos_computador.txt\n",
      "B-INTEGRACAO-COM-OUTROS-SOFTWARES-COMANDOS-SHELL.ipynb\n",
      "C-EXTENSOES-UTEIS-NAVEGADORES-WEB.ipynb\n",
      "cpu.txt\n",
      "dados_alunos.csv\n",
      "dadoscpu\n",
      "dados_parabola.csv\n",
      "dados_reta.csv\n",
      "dados_senoide.csv\n",
      "dataframe.csv\n",
      "dmesg.txt\n",
      "fbissec.jl\n",
      "ffiboR_JL.jl\n",
      "fib.jl\n",
      "Figuras\n",
      "fmetbissec.jl\n",
      "gks.svg\n",
      "julia_dir_1\n",
      "julia_dir_2\n",
      "julia_dir_3\n",
      "julia_dir_4\n",
      "julia_dir_5\n",
      "julia_dir_6\n",
      "julia_dir_7\n",
      "julia_dir_8\n",
      "matriz_dados_x.csv\n",
      "mkdir\n",
      "nbmerge.py\n",
      "notebook.tex\n",
      "octave-workspace\n",
      "output_10_0.pdf\n",
      "output_10_0.svg\n",
      "output_4_0.pdf\n",
      "output_4_0.svg\n",
      "output_46_0.pdf\n",
      "output_46_0.svg\n",
      "res.txt\n",
      "resultado_script_f90.csv\n",
      "resultado_script_py.csv\n",
      "sc.jl\n",
      "script_c\n",
      "script_fortran\n",
      "Softwares.csv\n",
      "telegram-cli\n",
      "teste.csv\n",
      "testo_ma.txt\n",
      "Untitled1.ipynb\n",
      "Untitled2.ipynb\n",
      "Untitled.ipynb\n"
     ]
    }
   ],
   "source": [
    ";ls "
   ]
  },
  {
   "cell_type": "code",
   "execution_count": 9,
   "metadata": {
    "scrolled": false
   },
   "outputs": [
    {
     "name": "stdout",
     "output_type": "stream",
     "text": [
      "&\n",
      ";\n",
      "01-intro-julia.ipynb\n",
      "02-intro-julia-cont.ipynb\n",
      "03-zeros-de-funcao.ipynb\n",
      "04-programação-defensiva.ipynb\n",
      "10-INTERPOLACAO-E-AJUSTE-DE-CURVAS.ipynb\n",
      "11-SOMATORIO-PRODUTORIO-SERIES-MATEMATICAS.ipynb\n",
      "12-CALCULO-DIFERENCIAL-INTEGRAL-novo.ipynb\n",
      "13-EQUACOES-DIFERENCIAIS.ipynb\n",
      "14-TRABALHANDO-COM-ARQUIVOS(ENTRADA E SAIDA)-PARTE-I.ipynb\n",
      "15-interpolacao.ipynb\n",
      "1-TIPOS-DE-DADOS-PARTE-II.ipynb\n",
      "21-runge-kutta.ipynb\n",
      "2-ESCOPO-DE-VARIÁVEIS.ipynb\n",
      "33-FUNCOES-PART-II.ipynb\n",
      "3-FUNCOES-PARTE-II.ipynb\n",
      "4-TRATAMENTO-DE-EXCEÇÕES.ipynb\n",
      "5-ALGEBRA-LINEAR.ipynb\n",
      "6-CALCULO-COM-MATEMATICA-SIMBOLICA-PARTE-II.ipynb\n",
      "7-GRAFICOS-2D-3D-PARTE-II.ipynb\n",
      "7-PROGRAMACAO-FUNCIONAL.ipynb\n",
      "8-GRAFICOS-2D-3D-PARTE-II.ipynb\n",
      "9-CALCULO-DE-RAIZES-E-SISTEMAS-DE-EQUACOES-BACK.ipynb\n",
      "9-CALCULO-DE-RAIZES-E-SISTEMAS-DE-EQUACOES-E-DOMINIO-DE-INEQUACOES-ATUAL.ipynb\n",
      "9-CALCULO-DE-RAIZES-E-SISTEMAS-DE-EQUACOES.ipynb\n",
      "A-COMANDOS-SHELL.ipynb\n",
      "alarme_bomba.mp3\n",
      "arquivo_avancado.jld\n",
      "arquivo_avancado_novo.jld\n",
      "arquivo_basico.jld\n",
      "arquivo_cpu.txt\n",
      "arquivo_ola.txt\n",
      "arquivos_computador11.txt\n",
      "arquivos_computador.txt\n",
      "B-INTEGRACAO-COM-OUTROS-SOFTWARES-COMANDOS-SHELL.ipynb\n",
      "C-EXTENSOES-UTEIS-NAVEGADORES-WEB.ipynb\n",
      "cpu.txt\n",
      "dados_alunos.csv\n",
      "dadoscpu\n",
      "dados_parabola.csv\n",
      "dados_reta.csv\n",
      "dados_senoide.csv\n",
      "dataframe.csv\n",
      "dmesg.txt\n",
      "fbissec.jl\n",
      "ffiboR_JL.jl\n",
      "fib.jl\n",
      "Figuras\n",
      "fmetbissec.jl\n",
      "gks.svg\n",
      "julia_dir_1\n",
      "julia_dir_2\n",
      "julia_dir_3\n",
      "julia_dir_4\n",
      "julia_dir_5\n",
      "julia_dir_6\n",
      "julia_dir_7\n",
      "julia_dir_8\n",
      "matriz_dados_x.csv\n",
      "mkdir\n",
      "nbmerge.py\n",
      "notebook.tex\n",
      "octave-workspace\n",
      "output_10_0.pdf\n",
      "output_10_0.svg\n",
      "output_4_0.pdf\n",
      "output_4_0.svg\n",
      "output_46_0.pdf\n",
      "output_46_0.svg\n",
      "res.txt\n",
      "resultado_script_f90.csv\n",
      "resultado_script_py.csv\n",
      "sc.jl\n",
      "script_c\n",
      "script_fortran\n",
      "Softwares.csv\n",
      "telegram-cli\n",
      "teste.csv\n",
      "testo_ma.txt\n",
      "Untitled1.ipynb\n",
      "Untitled2.ipynb\n",
      "Untitled.ipynb\n"
     ]
    },
    {
     "data": {
      "text/plain": [
       "Process(`\u001b[4mls\u001b[24m`, ProcessExited(0))"
      ]
     },
     "execution_count": 9,
     "metadata": {},
     "output_type": "execute_result"
    }
   ],
   "source": [
    "run(`ls`)"
   ]
  },
  {
   "cell_type": "markdown",
   "metadata": {},
   "source": [
    "**rm**\n",
    "\n",
    "Apaga um diretório ou arquivo. o comando `rm -r` apaga todo o conteúdo de uma pasta e a própria pasta"
   ]
  },
  {
   "cell_type": "code",
   "execution_count": 71,
   "metadata": {},
   "outputs": [
    {
     "data": {
      "text/plain": [
       "Process(`\u001b[4mrm\u001b[24m \u001b[4m-r\u001b[24m \u001b[4mjulia_dir_3\u001b[24m`, ProcessExited(0))"
      ]
     },
     "execution_count": 71,
     "metadata": {},
     "output_type": "execute_result"
    }
   ],
   "source": [
    "run(`rm -r julia_dir_3`)"
   ]
  },
  {
   "cell_type": "code",
   "execution_count": 96,
   "metadata": {},
   "outputs": [
    {
     "name": "stderr",
     "output_type": "stream",
     "text": [
      "rm: cannot remove 'julia_dir_4': No such file or directory\n"
     ]
    }
   ],
   "source": [
    ";rm -r julia_dir_4"
   ]
  },
  {
   "cell_type": "markdown",
   "metadata": {},
   "source": [
    "Para remover os diretórios 6 a 8 use:"
   ]
  },
  {
   "cell_type": "code",
   "execution_count": 94,
   "metadata": {},
   "outputs": [
    {
     "name": "stderr",
     "output_type": "stream",
     "text": [
      "rm: cannot remove 'julia_dir_*[6-8]': No such file or directory\n"
     ]
    }
   ],
   "source": [
    ";rm -r julia_dir_\"*[6-8]\""
   ]
  },
  {
   "cell_type": "code",
   "execution_count": 95,
   "metadata": {},
   "outputs": [
    {
     "name": "stdout",
     "output_type": "stream",
     "text": [
      "01-intro-julia.ipynb\n",
      "02-intro-julia-cont.ipynb\n",
      "03-zeros-de-funcao.ipynb\n",
      "04-programação-defensiva.ipynb\n",
      "10-INTERPOLACAO-E-AJUSTE-DE-CURVAS.ipynb\n",
      "11-SOMATORIO-PRODUTORIO-SERIES-MATEMATICAS.ipynb\n",
      "12-CALCULO-DIFERENCIAL-INTEGRAL-novo.ipynb\n",
      "13-EQUACOES-DIFERENCIAIS.ipynb\n",
      "14-TRABALHANDO-COM-ARQUIVOS(ENTRADA E SAIDA)-PARTE-I.ipynb\n",
      "15-interpolacao.ipynb\n",
      "1-TIPOS-DE-DADOS-PARTE-II.ipynb\n",
      "21-runge-kutta.ipynb\n",
      "2-ESCOPO-DE-VARIÁVEIS.ipynb\n",
      "33-FUNCOES-PART-II.ipynb\n",
      "3-FUNCOES-PARTE-II.ipynb\n",
      "4-TRATAMENTO-DE-EXCEÇÕES.ipynb\n",
      "5-ALGEBRA-LINEAR.ipynb\n",
      "6-CALCULO-COM-MATEMATICA-SIMBOLICA-PARTE-II.ipynb\n",
      "7-GRAFICOS-2D-3D-PARTE-II.ipynb\n",
      "7-PROGRAMACAO-FUNCIONAL.ipynb\n",
      "8-GRAFICOS-2D-3D-PARTE-II.ipynb\n",
      "9-CALCULO-DE-RAIZES-E-SISTEMAS-DE-EQUACOES-BACK.ipynb\n",
      "9-CALCULO-DE-RAIZES-E-SISTEMAS-DE-EQUACOES-E-DOMINIO-DE-INEQUACOES-ATUAL.ipynb\n",
      "9-CALCULO-DE-RAIZES-E-SISTEMAS-DE-EQUACOES.ipynb\n",
      "A-COMANDOS-SHELL.ipynb\n",
      "alarme_bomba.mp3\n",
      "arquivo_avancado.jld\n",
      "arquivo_avancado_novo.jld\n",
      "arquivo_basico.jld\n",
      "arquivo_cpu.txt\n",
      "arquivo_ola.txt\n",
      "arquivos_computador11.txt\n",
      "arquivos_computador.txt\n",
      "B-INTEGRACAO-COM-OUTROS-SOFTWARES-COMANDOS-SHELL.ipynb\n",
      "C-EXTENSOES-UTEIS-NAVEGADORES-WEB.ipynb\n",
      "cpu.txt\n",
      "dados_alunos.csv\n",
      "dadoscpu\n",
      "dados_parabola.csv\n",
      "dados_reta.csv\n",
      "dados_senoide.csv\n",
      "dataframe.csv\n",
      "dmesg.txt\n",
      "fbissec.jl\n",
      "ffiboR_JL.jl\n",
      "fib.jl\n",
      "Figuras\n",
      "fmetbissec.jl\n",
      "gks.svg\n",
      "julia_dir_1\n",
      "julia_dir_2\n",
      "julia_dir_5\n",
      "julia_dir_6\n",
      "julia_dir_7\n",
      "julia_dir_8\n",
      "matriz_dados_x.csv\n",
      "nbmerge.py\n",
      "notebook.tex\n",
      "octave-workspace\n",
      "output_10_0.pdf\n",
      "output_10_0.svg\n",
      "output_4_0.pdf\n",
      "output_4_0.svg\n",
      "output_46_0.pdf\n",
      "output_46_0.svg\n",
      "res.txt\n",
      "resultado_script_f90.csv\n",
      "resultado_script_py.csv\n",
      "sc.jl\n",
      "script_c\n",
      "script_fortran\n",
      "Softwares.csv\n",
      "telegram-cli\n",
      "teste.csv\n",
      "testo_ma.txt\n",
      "Untitled1.ipynb\n",
      "Untitled2.ipynb\n",
      "Untitled.ipynb\n"
     ]
    }
   ],
   "source": [
    ";ls"
   ]
  },
  {
   "cell_type": "markdown",
   "metadata": {},
   "source": [
    "**`cd`**\n",
    "\n",
    "Acessa um determinado diretório. É importante saber antes em qual diretório estamos executando os comando. Dessa forma fica fácil sair e retornar ao diretório inicial. Para voltar ao diretório anterior use `cd ..` e para o diretório padrão do usuário (/home/nome_usuário) use `cd ~`."
   ]
  },
  {
   "cell_type": "code",
   "execution_count": 22,
   "metadata": {
    "scrolled": true
   },
   "outputs": [
    {
     "name": "stdout",
     "output_type": "stream",
     "text": [
      "/run/media/jmarcellopereira/COISAS/jmarcello/ESTUDOS/COMPUTACAO-CIENTIFICA-NOTEBOOKS/JULIA/git_julia/julia-tutorial-niveis-6/juliatutorialbr-v5-nivel-1\n"
     ]
    }
   ],
   "source": [
    ";pwd ; ls"
   ]
  },
  {
   "cell_type": "code",
   "execution_count": 23,
   "metadata": {
    "scrolled": true
   },
   "outputs": [
    {
     "name": "stdout",
     "output_type": "stream",
     "text": [
      "/run/media/jmarcellopereira/COISAS/jmarcello/ESTUDOS/COMPUTACAO-CIENTIFICA-NOTEBOOKS/JULIA/git_julia/julia-tutorial-niveis-6/juliatutorialbr-v5-nivel-1/julia_dir_1\n"
     ]
    }
   ],
   "source": [
    ";cd  \"julia_dir_1\""
   ]
  },
  {
   "cell_type": "markdown",
   "metadata": {},
   "source": [
    "**`echo`**\n",
    "\n",
    "afasdfadsf"
   ]
  },
  {
   "cell_type": "code",
   "execution_count": 24,
   "metadata": {},
   "outputs": [
    {
     "name": "stdout",
     "output_type": "stream",
     "text": [
      "Linguagem Julia > arquivo_texto.txt\n"
     ]
    }
   ],
   "source": [
    ";echo \"Linguagem Julia\" \">\" \"arquivo_texto.txt\""
   ]
  },
  {
   "cell_type": "markdown",
   "metadata": {},
   "source": [
    "Quando o comando acima é executado novamente, o conteúdo anterior é apagado e o novo texto gravado. Para evitar isto e acrescentar um novo texto ao existente, use  `\">>\"`."
   ]
  },
  {
   "cell_type": "code",
   "execution_count": 25,
   "metadata": {},
   "outputs": [
    {
     "name": "stdout",
     "output_type": "stream",
     "text": [
      "computação científica >> arquivo_texto.txt\n"
     ]
    }
   ],
   "source": [
    ";echo \"computação científica\" \">>\" \"arquivo_texto.txt\""
   ]
  },
  {
   "cell_type": "code",
   "execution_count": 27,
   "metadata": {
    "scrolled": true
   },
   "outputs": [
    {
     "name": "stdout",
     "output_type": "stream",
     "text": [
      "Julia é uma linguagem de programação compilada >> arquivo_texto.txt\n"
     ]
    }
   ],
   "source": [
    ";echo \"Julia é uma linguagem de programação compilada\" \">>\" \"arquivo_texto.txt\""
   ]
  },
  {
   "cell_type": "markdown",
   "metadata": {},
   "source": [
    "**`rename`**\n",
    "\n",
    "O comando é utilizado para renomear um ou mais arquivos. Sintaxe básica:\n",
    "```sh\n",
    "rename \"arquivo_antigo\" \"arquivo_novo\"\n",
    "```"
   ]
  },
  {
   "cell_type": "code",
   "execution_count": 28,
   "metadata": {
    "scrolled": true
   },
   "outputs": [
    {
     "name": "stdout",
     "output_type": "stream",
     "text": [
      "/run/media/jmarcellopereira/COISAS/jmarcello/ESTUDOS/COMPUTACAO-CIENTIFICA-NOTEBOOKS/JULIA/git_julia/julia-tutorial-niveis-6/juliatutorialbr-v5-nivel-1/julia_dir_1\n"
     ]
    }
   ],
   "source": [
    ";pwd \";\" ls"
   ]
  },
  {
   "cell_type": "code",
   "execution_count": 29,
   "metadata": {
    "scrolled": true
   },
   "outputs": [
    {
     "name": "stderr",
     "output_type": "stream",
     "text": [
      "rename: not enough arguments\n",
      "Try 'rename --help' for more information.\n"
     ]
    }
   ],
   "source": [
    ";rename \"-v\" \"arquivo_texto.txt\" \"arquivo_texto_dados.txt\""
   ]
  },
  {
   "cell_type": "markdown",
   "metadata": {},
   "source": [
    "**`cat`**\n",
    "\n",
    "Mostra o conteúdo de um arquivo e também serve para concatenar arquivos."
   ]
  },
  {
   "cell_type": "code",
   "execution_count": 30,
   "metadata": {
    "scrolled": true
   },
   "outputs": [
    {
     "name": "stdout",
     "output_type": "stream",
     "text": [
      "Linguagem Julia\n",
      "computação científica\n",
      "Julia é uma linguagem de programação compilada\n"
     ]
    },
    {
     "data": {
      "text/plain": [
       "Process(`\u001b[4mcat\u001b[24m \u001b[4marquivo_texto.txt\u001b[24m`, ProcessExited(0))"
      ]
     },
     "execution_count": 30,
     "metadata": {},
     "output_type": "execute_result"
    }
   ],
   "source": [
    "run(`cat arquivo_texto.txt`)"
   ]
  },
  {
   "cell_type": "code",
   "execution_count": 31,
   "metadata": {
    "scrolled": false
   },
   "outputs": [
    {
     "name": "stdout",
     "output_type": "stream",
     "text": [
      "Linguagem Julia\n",
      "computação científica\n",
      "Julia é uma linguagem de programação compilada\n"
     ]
    }
   ],
   "source": [
    ";cat \"arquivo_texto.txt\""
   ]
  },
  {
   "cell_type": "markdown",
   "metadata": {},
   "source": [
    "**`grep`** \n",
    "\n",
    "Procura por palavras dentro do arquivo e lista a linha que contém a palavra pesquisada. O parâmetro `\"-v\"` inverte a busca, lista apenas as linhas onde o padrão não existe. "
   ]
  },
  {
   "cell_type": "code",
   "execution_count": 32,
   "metadata": {
    "scrolled": true
   },
   "outputs": [
    {
     "name": "stdout",
     "output_type": "stream",
     "text": [
      "/run/media/jmarcellopereira/COISAS/jmarcello/ESTUDOS/COMPUTACAO-CIENTIFICA-NOTEBOOKS/JULIA/git_julia/julia-tutorial-niveis-6/juliatutorialbr-v5-nivel-1/julia_dir_1\n"
     ]
    }
   ],
   "source": [
    ";pwd \";\" ls"
   ]
  },
  {
   "cell_type": "code",
   "execution_count": 33,
   "metadata": {},
   "outputs": [
    {
     "name": "stdout",
     "output_type": "stream",
     "text": [
      "Linguagem Julia\n",
      "Julia é uma linguagem de programação compilada\n"
     ]
    }
   ],
   "source": [
    ";grep \"Julia\" \"arquivo_texto.txt\""
   ]
  },
  {
   "cell_type": "markdown",
   "metadata": {},
   "source": [
    "obs: `grep` é \"case sensitive\"! \"Julia\" e \"julia\" são diferentes. Use `\"-i\"` para ignorar a diferença entre maiúscula e minúsculas."
   ]
  },
  {
   "cell_type": "code",
   "execution_count": 34,
   "metadata": {
    "scrolled": true
   },
   "outputs": [
    {
     "name": "stdout",
     "output_type": "stream",
     "text": [
      "computação científica\n"
     ]
    }
   ],
   "source": [
    ";grep \"-v\" \"Julia\" \"arquivo_texto.txt\""
   ]
  },
  {
   "cell_type": "markdown",
   "metadata": {},
   "source": [
    "O comando `grep` funciona muito bem associado com outros comandos."
   ]
  },
  {
   "cell_type": "code",
   "execution_count": 35,
   "metadata": {},
   "outputs": [
    {
     "name": "stderr",
     "output_type": "stream",
     "text": [
      "ls: cannot access '|': No such file or directory\n",
      "ls: cannot access 'grep': No such file or directory\n",
      "ls: cannot access 'arquivo': No such file or directory\n"
     ]
    }
   ],
   "source": [
    ";ls  \"|\" grep \"arquivo\""
   ]
  },
  {
   "cell_type": "markdown",
   "metadata": {},
   "source": [
    "**`cp`**\n",
    "\n",
    "É utilizado para copiar arquivos e diretórios. O comando `cp \"-r\" \"diretório\" \"destino\"` copia todos os arquivos contidos em um diretório e o próprio diretório. Sintaxe básica:\n",
    "```julia\n",
    "cp \"-opções\" origem destino\n",
    "```"
   ]
  },
  {
   "cell_type": "code",
   "execution_count": 63,
   "metadata": {},
   "outputs": [
    {
     "name": "stdout",
     "output_type": "stream",
     "text": [
      "/home/jmarcellopereira/julia/julia_dir_1\n",
      "arquivo_texto.txt\n"
     ]
    }
   ],
   "source": [
    ";pwd \";\" ls"
   ]
  },
  {
   "cell_type": "code",
   "execution_count": 51,
   "metadata": {
    "collapsed": true
   },
   "outputs": [],
   "source": [
    ";cp \"arquivo_texto.txt\" \"/home/jmarcellopereira/julia/julia_dir_2\""
   ]
  },
  {
   "cell_type": "code",
   "execution_count": 52,
   "metadata": {
    "scrolled": true
   },
   "outputs": [
    {
     "name": "stdout",
     "output_type": "stream",
     "text": [
      "arquivo_texto.txt\n"
     ]
    }
   ],
   "source": [
    ";ls \"/home/jmarcellopereira/julia/julia_dir_2\""
   ]
  },
  {
   "cell_type": "markdown",
   "metadata": {},
   "source": [
    "Copia de \"backup\":"
   ]
  },
  {
   "cell_type": "code",
   "execution_count": 70,
   "metadata": {
    "collapsed": true
   },
   "outputs": [],
   "source": [
    ";cp \"arquivo_texto.txt\" \"arquivo_texto_novo.txt\""
   ]
  },
  {
   "cell_type": "markdown",
   "metadata": {},
   "source": [
    "**`scp`**\n",
    "\n",
    "scp copies files between hosts on a network.  It uses ssh(1) for data transfer, and uses the same authentication and provides the same security as ssh.  scp will ask for passwords or passphrases if they are needed for authentication. É necessário ter um login e senha de acesso na máquina remota. Sintaxe básica:\n",
    "```julia\n",
    "scp \"usuario_maquina_remota@ip_maquina_remota:arquivo_maquina_remota\" \"diretório_destino\"\n",
    "\n",
    "```"
   ]
  },
  {
   "cell_type": "code",
   "execution_count": null,
   "metadata": {
    "collapsed": true
   },
   "outputs": [],
   "source": []
  },
  {
   "cell_type": "markdown",
   "metadata": {},
   "source": [
    "**`mv`**\n",
    "\n",
    "É utilizado para mover ou renomear arquivos. O comando `rm -R diretório` apaga todos os arquivos contidos em um diretório e o próprio diretório."
   ]
  },
  {
   "cell_type": "code",
   "execution_count": 153,
   "metadata": {
    "scrolled": false
   },
   "outputs": [
    {
     "name": "stdout",
     "output_type": "stream",
     "text": [
      "/home/jmarcellopereira/julia/julia_dir_1\n",
      "arquivo_texto_novo.txt\n",
      "arquivo_texto.txt\n",
      "compactado.tar.gz\n",
      "info_cpu.txt\n"
     ]
    }
   ],
   "source": [
    ";pwd \";\" ls"
   ]
  },
  {
   "cell_type": "code",
   "execution_count": 154,
   "metadata": {
    "collapsed": true
   },
   "outputs": [],
   "source": [
    ";mv \"arquivo_texto.txt\" \"/home/jmarcellopereira/julia/julia_dir_2\""
   ]
  },
  {
   "cell_type": "code",
   "execution_count": 155,
   "metadata": {
    "scrolled": true
   },
   "outputs": [
    {
     "name": "stdout",
     "output_type": "stream",
     "text": [
      "arquivo_texto_novo.txt\n",
      "compactado.tar.gz\n",
      "info_cpu.txt\n",
      "arquivo_texto.txt\n"
     ]
    }
   ],
   "source": [
    ";ls \";\" ls \"/home/jmarcellopereira/julia/julia_dir_2\""
   ]
  },
  {
   "cell_type": "markdown",
   "metadata": {},
   "source": [
    "**`wget`**\n",
    "\n",
    "GNU Wget is a free utility for non-interactive download of files from the Web.  It supports HTTP, HTTPS, and FTP protocols, as well as retrieval through HTTP proxies. A opção `\"-c\"` permite continuar o download de onde parou caso ele seja interrompido."
   ]
  },
  {
   "cell_type": "code",
   "execution_count": null,
   "metadata": {
    "collapsed": true
   },
   "outputs": [],
   "source": []
  },
  {
   "cell_type": "markdown",
   "metadata": {},
   "source": [
    "**`tar`**\n",
    "\n",
    "O Linux possui por padrão vários programas de compressão de arquivos. O comando `tar` permite armazenar vários arquivos e também compactá-los. Algumas opções do tar:\n",
    "\n",
    "`-c` compactar os arquivos ;\n",
    "\n",
    "`-f` indicar que o destino é um arquivo em disco;\n",
    "\n",
    "`-v` exibir informações na tela;\n",
    "\n",
    "`-x` extrair os arquivos.\n",
    "\n",
    "`-z` compactar ou descompactar arquivos no formato gzip.\n",
    "\n",
    "Sintaxe básica:\n",
    "* Compactar:\n",
    "```sh\n",
    "tar -czvf arquivo.tar.gz arquivo_1 arquivo_2 arquivo_2 \n",
    "```\n",
    "\n",
    "* Descompactar:\n",
    "```sh\n",
    "tar -xzvf arquivo.tar.gz\n",
    "```"
   ]
  },
  {
   "cell_type": "code",
   "execution_count": 73,
   "metadata": {},
   "outputs": [
    {
     "name": "stdout",
     "output_type": "stream",
     "text": [
      "/home/jmarcellopereira/julia/julia_dir_1\n",
      "arquivo_texto_novo.txt\n"
     ]
    }
   ],
   "source": [
    ";pwd \";\" ls"
   ]
  },
  {
   "cell_type": "code",
   "execution_count": 74,
   "metadata": {},
   "outputs": [
    {
     "name": "stdout",
     "output_type": "stream",
     "text": [
      "arquivo_texto_novo.txt\n"
     ]
    }
   ],
   "source": [
    ";tar \"-czvf\" \"compactado.tar.gz\" \"arquivo_texto_novo.txt\""
   ]
  },
  {
   "cell_type": "markdown",
   "metadata": {},
   "source": [
    "### INFORMAÇÕES SOBRE O SISTEMA E HARDWARE"
   ]
  },
  {
   "cell_type": "markdown",
   "metadata": {},
   "source": [
    "**`nome_programa \"&\"`**\n",
    "\n",
    "Executa um programa e libera a célula"
   ]
  },
  {
   "cell_type": "code",
   "execution_count": 26,
   "metadata": {},
   "outputs": [],
   "source": [
    ";kcalc \"&\""
   ]
  },
  {
   "cell_type": "markdown",
   "metadata": {},
   "source": [
    "**`lscpu`**\n",
    "\n",
    "O comando `lscpu` é utilizado para listar todas as informações sobre a arquitetura do CPU"
   ]
  },
  {
   "cell_type": "code",
   "execution_count": 30,
   "metadata": {
    "scrolled": true
   },
   "outputs": [
    {
     "name": "stdout",
     "output_type": "stream",
     "text": [
      "Architecture:        x86_64\n",
      "CPU op-mode(s):      32-bit, 64-bit\n",
      "Byte Order:          Little Endian\n",
      "CPU(s):              8\n",
      "On-line CPU(s) list: 0-7\n",
      "Thread(s) per core:  2\n",
      "Core(s) per socket:  4\n",
      "Socket(s):           1\n",
      "NUMA node(s):        1\n",
      "Vendor ID:           GenuineIntel\n",
      "CPU family:          6\n",
      "Model:               158\n",
      "Model name:          Intel(R) Core(TM) i7-7700HQ CPU @ 2.80GHz\n",
      "Stepping:            9\n",
      "CPU MHz:             1861.748\n",
      "CPU max MHz:         3800.0000\n",
      "CPU min MHz:         800.0000\n",
      "BogoMIPS:            5616.00\n",
      "Virtualization:      VT-x\n",
      "L1d cache:           32K\n",
      "L1i cache:           32K\n",
      "L2 cache:            256K\n",
      "L3 cache:            6144K\n",
      "NUMA node0 CPU(s):   0-7\n",
      "Flags:               fpu vme de pse tsc msr pae mce cx8 apic sep mtrr pge mca cmov pat pse36 clflush dts acpi mmx fxsr sse sse2 ss ht tm pbe syscall nx pdpe1gb rdtscp lm constant_tsc art arch_perfmon pebs bts rep_good nopl xtopology nonstop_tsc cpuid aperfmperf tsc_known_freq pni pclmulqdq dtes64 monitor ds_cpl vmx est tm2 ssse3 sdbg fma cx16 xtpr pdcm pcid sse4_1 sse4_2 x2apic movbe popcnt tsc_deadline_timer aes xsave avx f16c rdrand lahf_lm abm 3dnowprefetch cpuid_fault epb invpcid_single pti ibrs ibpb stibp tpr_shadow vnmi flexpriority ept vpid fsgsbase tsc_adjust bmi1 avx2 smep bmi2 erms invpcid mpx rdseed adx smap clflushopt intel_pt xsaveopt xsavec xgetbv1 xsaves dtherm ida arat pln pts hwp hwp_notify hwp_act_window hwp_epp\n"
     ]
    }
   ],
   "source": [
    ";lscpu"
   ]
  },
  {
   "cell_type": "markdown",
   "metadata": {},
   "source": [
    "Uma boa prática é gravar as informações em um arquivo texto:"
   ]
  },
  {
   "cell_type": "code",
   "execution_count": 32,
   "metadata": {},
   "outputs": [],
   "source": [
    ";lscpu \">\" \"info_cpu.txt\""
   ]
  },
  {
   "cell_type": "code",
   "execution_count": 33,
   "metadata": {},
   "outputs": [
    {
     "name": "stdout",
     "output_type": "stream",
     "text": [
      "Architecture:        x86_64\n",
      "CPU op-mode(s):      32-bit, 64-bit\n",
      "Byte Order:          Little Endian\n",
      "CPU(s):              8\n",
      "On-line CPU(s) list: 0-7\n",
      "Thread(s) per core:  2\n",
      "Core(s) per socket:  4\n",
      "Socket(s):           1\n",
      "NUMA node(s):        1\n",
      "Vendor ID:           GenuineIntel\n",
      "CPU family:          6\n",
      "Model:               158\n",
      "Model name:          Intel(R) Core(TM) i7-7700HQ CPU @ 2.80GHz\n",
      "Stepping:            9\n",
      "CPU MHz:             2124.884\n",
      "CPU max MHz:         3800.0000\n",
      "CPU min MHz:         800.0000\n",
      "BogoMIPS:            5616.00\n",
      "Virtualization:      VT-x\n",
      "L1d cache:           32K\n",
      "L1i cache:           32K\n",
      "L2 cache:            256K\n",
      "L3 cache:            6144K\n",
      "NUMA node0 CPU(s):   0-7\n",
      "Flags:               fpu vme de pse tsc msr pae mce cx8 apic sep mtrr pge mca cmov pat pse36 clflush dts acpi mmx fxsr sse sse2 ss ht tm pbe syscall nx pdpe1gb rdtscp lm constant_tsc art arch_perfmon pebs bts rep_good nopl xtopology nonstop_tsc cpuid aperfmperf tsc_known_freq pni pclmulqdq dtes64 monitor ds_cpl vmx est tm2 ssse3 sdbg fma cx16 xtpr pdcm pcid sse4_1 sse4_2 x2apic movbe popcnt tsc_deadline_timer aes xsave avx f16c rdrand lahf_lm abm 3dnowprefetch cpuid_fault epb invpcid_single pti ibrs ibpb stibp tpr_shadow vnmi flexpriority ept vpid fsgsbase tsc_adjust bmi1 avx2 smep bmi2 erms invpcid mpx rdseed adx smap clflushopt intel_pt xsaveopt xsavec xgetbv1 xsaves dtherm ida arat pln pts hwp hwp_notify hwp_act_window hwp_epp\n"
     ]
    }
   ],
   "source": [
    ";cat \"info_cpu.txt\""
   ]
  },
  {
   "cell_type": "code",
   "execution_count": 34,
   "metadata": {},
   "outputs": [
    {
     "name": "stdout",
     "output_type": "stream",
     "text": [
      "Model:               158\n",
      "Model name:          Intel(R) Core(TM) i7-7700HQ CPU @ 2.80GHz\n"
     ]
    }
   ],
   "source": [
    ";grep \"Model\" \"info_cpu.txt\""
   ]
  },
  {
   "cell_type": "markdown",
   "metadata": {},
   "source": [
    "**`lsb_release`**\n",
    "\n",
    "The  lsb_release command provides certain LSB (Linux Standard Base) and distribution-specific information."
   ]
  },
  {
   "cell_type": "code",
   "execution_count": 35,
   "metadata": {
    "scrolled": true
   },
   "outputs": [
    {
     "name": "stdout",
     "output_type": "stream",
     "text": [
      "LSB Version:\t:core-4.1-amd64:core-4.1-noarch:cxx-4.1-amd64:cxx-4.1-noarch:desktop-4.1-amd64:desktop-4.1-noarch:languages-4.1-amd64:languages-4.1-noarch:printing-4.1-amd64:printing-4.1-noarch\n",
      "Distributor ID:\tFedora\n",
      "Description:\tFedora release 28 (Twenty Eight)\n",
      "Release:\t28\n",
      "Codename:\tTwentyEight\n"
     ]
    }
   ],
   "source": [
    ";lsb_release \"-a\""
   ]
  },
  {
   "cell_type": "markdown",
   "metadata": {},
   "source": [
    "**`hwinfo`**\n",
    "\n",
    "O comando hwinfo é utilizado para listar as informações sobre todos os dispositivos de Hardware de seu computador. Para Fedora e derivados, utilize o comando `lshw`."
   ]
  },
  {
   "cell_type": "code",
   "execution_count": 36,
   "metadata": {},
   "outputs": [
    {
     "name": "stderr",
     "output_type": "stream",
     "text": [
      "/bin/bash: hwinfo: command not found\n"
     ]
    }
   ],
   "source": [
    ";hwinfo"
   ]
  },
  {
   "cell_type": "markdown",
   "metadata": {},
   "source": [
    "**`uptime`**\n",
    "\n",
    "O comando uptime apresenta as informações sobre: a hora atual, quanto tempo o seu computador está\n",
    "ligado, quantidade de usuários logados no sistema e a carga média do sistema a 1, 5 e 15 minutos passados."
   ]
  },
  {
   "cell_type": "code",
   "execution_count": 37,
   "metadata": {
    "scrolled": true
   },
   "outputs": [
    {
     "name": "stdout",
     "output_type": "stream",
     "text": [
      " 23:00:57 up 2 days,  5:05,  7 users,  load average: 2.98, 3.16, 3.19\n"
     ]
    }
   ],
   "source": [
    ";uptime"
   ]
  },
  {
   "cell_type": "markdown",
   "metadata": {},
   "source": [
    "**`df`**\n",
    "\n",
    "É utilizado para exibir o espaço disponível em seu sistema de arquivos. É listado o tamanho da partição, espaço utilizado, espaço disponível, espaço utilizado em porcentagem e ponto de montagem. Para listar as informações de forma mais legível, use a opção \"-h\":"
   ]
  },
  {
   "cell_type": "code",
   "execution_count": 52,
   "metadata": {
    "scrolled": true
   },
   "outputs": [
    {
     "name": "stdout",
     "output_type": "stream",
     "text": [
      "Filesystem     1K-blocks      Used Available Use% Mounted on\n",
      "udev            16332128         0  16332128   0% /dev\n",
      "tmpfs            3270592      9768   3260824   1% /run\n",
      "/dev/sda3       66802088  57465360   5900340  91% /\n",
      "tmpfs           16352948      8040  16344908   1% /dev/shm\n",
      "tmpfs               5120         4      5116   1% /run/lock\n",
      "tmpfs           16352948         0  16352948   0% /sys/fs/cgroup\n",
      "tmpfs           16352948     17284  16335664   1% /tmp\n",
      "tmpfs            3270588         0   3270588   0% /run/user/114\n",
      "tmpfs            3270588        80   3270508   1% /run/user/1000\n",
      "/dev/sdb1      960378896 708017160 203507364  78% /media/jmarcellopereira/COISAS\n"
     ]
    }
   ],
   "source": [
    "run(`df `)"
   ]
  },
  {
   "cell_type": "code",
   "execution_count": 53,
   "metadata": {
    "scrolled": true
   },
   "outputs": [
    {
     "name": "stdout",
     "output_type": "stream",
     "text": [
      "Filesystem      Size  Used Avail Use% Mounted on\n",
      "udev             16G     0   16G   0% /dev\n",
      "tmpfs           3,2G  9,6M  3,2G   1% /run\n",
      "/dev/sda3        64G   55G  5,7G  91% /\n",
      "tmpfs            16G  7,9M   16G   1% /dev/shm\n",
      "tmpfs           5,0M  4,0K  5,0M   1% /run/lock\n",
      "tmpfs            16G     0   16G   0% /sys/fs/cgroup\n",
      "tmpfs            16G   17M   16G   1% /tmp\n",
      "tmpfs           3,2G     0  3,2G   0% /run/user/114\n",
      "tmpfs           3,2G   80K  3,2G   1% /run/user/1000\n",
      "/dev/sdb1       916G  676G  195G  78% /media/jmarcellopereira/COISAS\n"
     ]
    }
   ],
   "source": [
    "run(`df -h`)"
   ]
  },
  {
   "cell_type": "code",
   "execution_count": 54,
   "metadata": {
    "scrolled": true
   },
   "outputs": [
    {
     "name": "stdout",
     "output_type": "stream",
     "text": [
      "Filesystem      Size  Used Avail Use% Mounted on\n",
      "udev             16G     0   16G   0% /dev\n",
      "tmpfs           3,2G  9,6M  3,2G   1% /run\n",
      "/dev/sda3        64G   55G  5,7G  91% /\n",
      "tmpfs            16G  7,9M   16G   1% /dev/shm\n",
      "tmpfs           5,0M  4,0K  5,0M   1% /run/lock\n",
      "tmpfs            16G     0   16G   0% /sys/fs/cgroup\n",
      "tmpfs            16G   17M   16G   1% /tmp\n",
      "tmpfs           3,2G     0  3,2G   0% /run/user/114\n",
      "tmpfs           3,2G   80K  3,2G   1% /run/user/1000\n",
      "/dev/sdb1       916G  676G  195G  78% /media/jmarcellopereira/COISAS\n"
     ]
    }
   ],
   "source": [
    ";df \"-h\""
   ]
  },
  {
   "cell_type": "markdown",
   "metadata": {},
   "source": [
    "**`free`**\n",
    "\n",
    "Mostra a memória RAM e Swap total, usada, livre e compartilhada do computador. `free \"-m\"` mostra a RAM e Swap em MB e `free \"-g\"` em GB."
   ]
  },
  {
   "cell_type": "code",
   "execution_count": 15,
   "metadata": {},
   "outputs": [
    {
     "name": "stdout",
     "output_type": "stream",
     "text": [
      "              total        used        free      shared  buff/cache   available\n",
      "Mem:             31           4          23           0           3          25\n",
      "Swap:             0           0           0\n"
     ]
    }
   ],
   "source": [
    "run(`free -g`)"
   ]
  },
  {
   "cell_type": "code",
   "execution_count": 16,
   "metadata": {
    "scrolled": true
   },
   "outputs": [
    {
     "name": "stdout",
     "output_type": "stream",
     "text": [
      "              total        used        free      shared  buff/cache   available\n",
      "Mem:             31           4          23           0           3          25\n",
      "Swap:             0           0           0\n"
     ]
    }
   ],
   "source": [
    ";free -g"
   ]
  },
  {
   "cell_type": "markdown",
   "metadata": {},
   "source": [
    "**`shutdown`**\n",
    "\n",
    "desliga o computador:\n",
    "```sh\n",
    "shutdown \"-r\" now  # reinicia o computador;\n",
    "shutdown \"-h\" now  # desliga o computador\n",
    "```\n",
    "OBS.: O `now` pode ser configurado para ser executado após um determinado tempo: \n",
    "```sh\n",
    "shutdown \"-r\"   +tempo_minutos  \n",
    "```\n",
    "Para cancelar use:\n",
    "```sh\n",
    "shutdown -c\n",
    "```\n",
    "O comando `shutdown` é importante quando o computador ficará ligado por muito tempo realizando cálculos e há a necessidade de desliga-lo após completar as tarefas."
   ]
  },
  {
   "cell_type": "code",
   "execution_count": 40,
   "metadata": {
    "scrolled": true
   },
   "outputs": [
    {
     "name": "stderr",
     "output_type": "stream",
     "text": [
      "Shutdown scheduled for Sun 2018-08-19 23:11:28 -03, use 'shutdown -c' to cancel.\n"
     ]
    }
   ],
   "source": [
    ";shutdown \"-r\"   +10"
   ]
  },
  {
   "cell_type": "code",
   "execution_count": 42,
   "metadata": {},
   "outputs": [],
   "source": [
    ";shutdown \"-c\""
   ]
  },
  {
   "cell_type": "markdown",
   "metadata": {
    "collapsed": true
   },
   "source": [
    "**who**\n",
    "\n",
    "Mostra os usuários que estão logados na máquina. A opção `\"-a\"` mostra todos os detalhes dos usuários."
   ]
  },
  {
   "cell_type": "code",
   "execution_count": 43,
   "metadata": {},
   "outputs": [
    {
     "name": "stdout",
     "output_type": "stream",
     "text": [
      "           system boot  2018-08-17 14:55\n",
      "           run-level 5  2018-08-17 17:55\n",
      "jmarcellopereira + tty1         2018-08-17 17:55  old         1206 (:0)\n",
      "jmarcellopereira + pts/0        2018-08-17 17:55  old         1427 (:0)\n",
      "jmarcellopereira - pts/1        2018-08-17 19:51 06:00        5995 (:0)\n",
      "jmarcellopereira - pts/2        2018-08-17 19:51 00:02        6113 (:0)\n",
      "jmarcellopereira - pts/3        2018-08-17 20:33 22:44        7012 (:0)\n",
      "jmarcellopereira - pts/4        2018-08-18 12:39 02:12       18577 (:0)\n",
      "jmarcellopereira - pts/5        2018-08-19 18:37 00:36       15453 (:0)\n"
     ]
    }
   ],
   "source": [
    "run(`who -a`)"
   ]
  },
  {
   "cell_type": "code",
   "execution_count": 44,
   "metadata": {
    "scrolled": true
   },
   "outputs": [
    {
     "name": "stdout",
     "output_type": "stream",
     "text": [
      "           system boot  2018-08-17 14:55\n",
      "           run-level 5  2018-08-17 17:55\n",
      "jmarcellopereira + tty1         2018-08-17 17:55  old         1206 (:0)\n",
      "jmarcellopereira + pts/0        2018-08-17 17:55  old         1427 (:0)\n",
      "jmarcellopereira - pts/1        2018-08-17 19:51 06:00        5995 (:0)\n",
      "jmarcellopereira - pts/2        2018-08-17 19:51 00:02        6113 (:0)\n",
      "jmarcellopereira - pts/3        2018-08-17 20:33 22:44        7012 (:0)\n",
      "jmarcellopereira - pts/4        2018-08-18 12:39 02:12       18577 (:0)\n",
      "jmarcellopereira - pts/5        2018-08-19 18:37 00:36       15453 (:0)\n"
     ]
    }
   ],
   "source": [
    ";who \"-a\""
   ]
  },
  {
   "cell_type": "markdown",
   "metadata": {},
   "source": [
    "**ps, pgrep, kill e killall**\n",
    "\n",
    "`ps` exibe informações sobre os processos ativos no sistema. `pgrep` looks through the currently running processes and lists the process IDs which match the selection criteria to stdout.  All the criteria have to match. O comando `kill` encerra processados em andamento a partir do númeero PID (Process Identifier) e `killall` encerra pelo nome. A sintaxe básica é: \n",
    "\n",
    "`kill -9 PID`: encerra processo.\n",
    "\n",
    "`kill -HUP PID`: reinicia processo.\n",
    "\n",
    "`killall nome_processo`: encerra processo pelo nome.\n",
    "\n",
    "`killall -HUP nome_processo`: reinicia processo pelo nome."
   ]
  },
  {
   "cell_type": "code",
   "execution_count": 37,
   "metadata": {
    "scrolled": false
   },
   "outputs": [
    {
     "name": "stdout",
     "output_type": "stream",
     "text": [
      "3028\n"
     ]
    }
   ],
   "source": [
    ";pgrep \"-i\" jupyter"
   ]
  },
  {
   "cell_type": "code",
   "execution_count": 36,
   "metadata": {},
   "outputs": [
    {
     "name": "stdout",
     "output_type": "stream",
     "text": [
      "jmarcel+ 11887  9177  0 Sep11 ?        00:00:01 /home/jmarcellopereira/julia-0.7\n",
      "jmarcel+ 14248  3028  2 Sep11 ?        00:00:25 /usr/bin/julia -i --startup-file\n",
      "jmarcel+ 14516 14350  0 00:07 ?        00:00:00 grep -i julia\n"
     ]
    },
    {
     "data": {
      "text/plain": [
       "Base.ProcessChain(Base.Process[Process(`\u001b[4mps\u001b[24m \u001b[4m-f\u001b[24m`, ProcessExited(0)), Process(`\u001b[4mgrep\u001b[24m \u001b[4m-i\u001b[24m \u001b[4mjulia\u001b[24m`, ProcessExited(0))], RawFD(0x00000000), RawFD(0x00000001), RawFD(0x00000002))"
      ]
     },
     "execution_count": 36,
     "metadata": {},
     "output_type": "execute_result"
    }
   ],
   "source": [
    "run(pipeline(`ps -f`, `grep -i \"julia\"`)) "
   ]
  },
  {
   "cell_type": "code",
   "execution_count": 38,
   "metadata": {
    "scrolled": true
   },
   "outputs": [
    {
     "name": "stderr",
     "output_type": "stream",
     "text": [
      "error: garbage option\n",
      "\n",
      "Usage:\n",
      " ps [options]\n",
      "\n",
      " Try 'ps --help <simple|list|output|threads|misc|all>'\n",
      "  or 'ps --help <s|l|o|t|m|a>'\n",
      " for additional help text.\n",
      "\n",
      "For more details see ps(1).\n"
     ]
    }
   ],
   "source": [
    ";ps \"-f\"  \"|\" grep \"-i\" julia"
   ]
  },
  {
   "cell_type": "code",
   "execution_count": 47,
   "metadata": {},
   "outputs": [],
   "source": [
    ";kcalc \"&\""
   ]
  },
  {
   "cell_type": "code",
   "execution_count": 45,
   "metadata": {},
   "outputs": [
    {
     "name": "stderr",
     "output_type": "stream",
     "text": [
      "kcalc: no process found\n"
     ]
    }
   ],
   "source": [
    ";killall \"kcalc\""
   ]
  },
  {
   "cell_type": "markdown",
   "metadata": {},
   "source": [
    "**`date e cal`**\n",
    "\n",
    "O comando `date` mostra data e hora e `cal` mostra um calendário do mês corrente. As opções `\"-m` e `\"-y\"` do comando `cal` permitem mostrar mês e ano específico. "
   ]
  },
  {
   "cell_type": "code",
   "execution_count": 48,
   "metadata": {},
   "outputs": [
    {
     "name": "stdout",
     "output_type": "stream",
     "text": [
      "Wed Sep 12 00:08:45 -03 2018\n"
     ]
    },
    {
     "data": {
      "text/plain": [
       "Process(`\u001b[4mdate\u001b[24m`, ProcessExited(0))"
      ]
     },
     "execution_count": 48,
     "metadata": {},
     "output_type": "execute_result"
    }
   ],
   "source": [
    "run(`date`)"
   ]
  },
  {
   "cell_type": "code",
   "execution_count": 49,
   "metadata": {
    "scrolled": false
   },
   "outputs": [
    {
     "name": "stdout",
     "output_type": "stream",
     "text": [
      "Wed Sep 12 00:08:46 -03 2018\n"
     ]
    }
   ],
   "source": [
    ";date"
   ]
  },
  {
   "cell_type": "code",
   "execution_count": 54,
   "metadata": {
    "scrolled": false
   },
   "outputs": [
    {
     "name": "stdout",
     "output_type": "stream",
     "text": [
      "   September 2018   \n",
      "Mo Tu We Th Fr Sa Su\n",
      "                1  2\n",
      " 3  4  5  6  7  8  9\n",
      "10 11 12 13 14 15 16\n",
      "17 18 19 20 21 22 23\n",
      "24 25 26 27 28 29 30\n",
      "                    \n"
     ]
    }
   ],
   "source": [
    ";cal \"-m\" Sep 2018"
   ]
  },
  {
   "cell_type": "markdown",
   "metadata": {},
   "source": [
    "**`ifconfig`**\n",
    "\n",
    "Ifconfig  is  used to configure the kernel-resident network interfaces. It is used at boot time to set up interfaces as necessary.  After that, it  is  usually  only  needed  when  debugging or when system tuning is        needed."
   ]
  },
  {
   "cell_type": "code",
   "execution_count": 55,
   "metadata": {
    "scrolled": true
   },
   "outputs": [
    {
     "name": "stdout",
     "output_type": "stream",
     "text": [
      "enp3s0f1: flags=4099<UP,BROADCAST,MULTICAST>  mtu 1500\n",
      "        ether 80:fa:5b:40:35:bb  txqueuelen 1000  (Ethernet)\n",
      "        RX packets 0  bytes 0 (0.0 B)\n",
      "        RX errors 0  dropped 0  overruns 0  frame 0\n",
      "        TX packets 0  bytes 0 (0.0 B)\n",
      "        TX errors 0  dropped 0 overruns 0  carrier 0  collisions 0\n",
      "\n",
      "lo: flags=73<UP,LOOPBACK,RUNNING>  mtu 65536\n",
      "        inet 127.0.0.1  netmask 255.0.0.0\n",
      "        inet6 ::1  prefixlen 128  scopeid 0x10<host>\n",
      "        loop  txqueuelen 1000  (Local Loopback)\n",
      "        RX packets 72586  bytes 365377144 (348.4 MiB)\n",
      "        RX errors 0  dropped 0  overruns 0  frame 0\n",
      "        TX packets 72586  bytes 365377144 (348.4 MiB)\n",
      "        TX errors 0  dropped 0 overruns 0  carrier 0  collisions 0\n",
      "\n",
      "wlp4s0: flags=4099<UP,BROADCAST,MULTICAST>  mtu 1500\n",
      "        ether 4e:6b:07:11:ac:ad  txqueuelen 1000  (Ethernet)\n",
      "        RX packets 0  bytes 0 (0.0 B)\n",
      "        RX errors 0  dropped 0  overruns 0  frame 0\n",
      "        TX packets 0  bytes 0 (0.0 B)\n",
      "        TX errors 0  dropped 0 overruns 0  carrier 0  collisions 0\n",
      "\n"
     ]
    }
   ],
   "source": [
    ";ifconfig"
   ]
  },
  {
   "cell_type": "markdown",
   "metadata": {},
   "source": [
    "## INTERPOLAÇÃO\n",
    "\n",
    "É possível usar o nome de um arquivo como um argumento para um comando, basta usar `$` para interpolação."
   ]
  },
  {
   "cell_type": "code",
   "execution_count": 56,
   "metadata": {},
   "outputs": [
    {
     "name": "stderr",
     "output_type": "stream",
     "text": [
      "lscpu: bad usage\n",
      "Try 'lscpu --help' for more information.\n"
     ]
    }
   ],
   "source": [
    ";lscpu \">\" \"arquivo_cpu.txt\""
   ]
  },
  {
   "cell_type": "code",
   "execution_count": 57,
   "metadata": {},
   "outputs": [
    {
     "data": {
      "text/plain": [
       "\"arquivo_cpu.txt\""
      ]
     },
     "execution_count": 57,
     "metadata": {},
     "output_type": "execute_result"
    }
   ],
   "source": [
    "arquivo =  \"arquivo_cpu.txt\""
   ]
  },
  {
   "cell_type": "code",
   "execution_count": 58,
   "metadata": {
    "scrolled": true
   },
   "outputs": [
    {
     "name": "stderr",
     "output_type": "stream",
     "text": [
      "cat: arquivo_cpu.txt: No such file or directory\n"
     ]
    }
   ],
   "source": [
    ";cat $arquivo"
   ]
  },
  {
   "cell_type": "markdown",
   "metadata": {},
   "source": [
    "## REFERENCIA BIBLIOGRÁFICA\n",
    "\n",
    "RAGGI, Emilio et al. **Beginning Ubuntu Linux**. 5. ed. New York: Apress, 2010. 664 p. v. 1. "
   ]
  },
  {
   "cell_type": "code",
   "execution_count": null,
   "metadata": {
    "collapsed": true
   },
   "outputs": [],
   "source": []
  }
 ],
 "metadata": {
  "anaconda-cloud": {},
  "kernelspec": {
   "display_name": "Julia 1.0.0",
   "language": "julia",
   "name": "julia-1.0"
  },
  "language_info": {
   "file_extension": ".jl",
   "mimetype": "application/julia",
   "name": "julia",
   "version": "1.0.0"
  },
  "latex_envs": {
   "LaTeX_envs_menu_present": true,
   "autocomplete": true,
   "bibliofile": "biblio.bib",
   "cite_by": "apalike",
   "current_citInitial": 1,
   "eqLabelWithNumbers": true,
   "eqNumInitial": 1,
   "hotkeys": {
    "equation": "Ctrl-E",
    "itemize": "Ctrl-I"
   },
   "labels_anchors": false,
   "latex_user_defs": false,
   "report_style_numbering": false,
   "user_envs_cfg": false
  }
 },
 "nbformat": 4,
 "nbformat_minor": 1
}
