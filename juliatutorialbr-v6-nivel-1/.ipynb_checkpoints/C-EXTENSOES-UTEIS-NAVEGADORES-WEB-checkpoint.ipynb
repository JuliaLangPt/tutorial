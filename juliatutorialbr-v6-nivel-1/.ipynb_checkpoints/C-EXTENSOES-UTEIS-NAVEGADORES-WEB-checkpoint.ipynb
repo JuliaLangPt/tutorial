{
 "cells": [
  {
   "cell_type": "markdown",
   "metadata": {},
   "source": [
    "# EXTENSÕES ÚTEIS PARA NAVEGADORES WEB"
   ]
  },
  {
   "cell_type": "markdown",
   "metadata": {},
   "source": [
    "## CHROME"
   ]
  },
  {
   "cell_type": "markdown",
   "metadata": {},
   "source": [
    "### Botão do Google Acadêmico\n",
    "\n",
    "Esta extensão adiciona um botão no navegador para acesso fácil ao Google Acadêmico a partir de qualquer página da Web. Clique no botão \"Acadêmico\" para:\n",
    "\n",
    "- Localizar texto completo na Web ou na sua biblioteca universitária. Selecione o título do documento na página que você está lendo e clique no botão \"Acadêmico\" para encontrá-lo.\n",
    "\n",
    "- Transferir sua consulta da pesquisa na Web para o Google Acadêmico. Pressione o botão \"Acadêmico\" para ver os três melhores resultados; clique em \"tela cheia\" no canto inferior esquerdo do pop-up para ver todos os resultados.\n",
    "\n",
    "- Formatar as referências em estilos de citação amplamente usados. Pressione o botão de aspas no pop-up para ver uma referência formatada e copie-a para o artigo que você está escrevendo.\n",
    "\n",
    "Links de bibliotecas funcionam melhor quando você está no campus. Para configurá-los para uso fora do campus, visite as Configurações do Google Acadêmico em https://scholar.google.com/scholar_settings?hl=pt-BR. Talvez seja necessário efetuar login com sua senha da biblioteca ou configurar seu navegador para usar um proxy da biblioteca. Visite o website da sua biblioteca ou peça auxílio ao bibliotecário do local.\n",
    "\n",
    "Ao instalar esta extensão, você concorda com os Termos de Serviço e com a Política de Privacidade do Google, disponíveis em https://www.google.com/intl/pt-BR/policies/.\n",
    "\n",
    "https://chrome.google.com/webstore/detail/google-scholar-button/ldipcbpaocekfooobnbcddclnhejkcpn?hl=pt-BR\n"
   ]
  },
  {
   "cell_type": "markdown",
   "metadata": {},
   "source": [
    "### Redirecionamento CAPES-Periódicos\n",
    "\n",
    "Redireciona o endereço atual para o link equivalente com o sufixo do novo sistema do Portal de Periódicos da CAPES.\n",
    "\n",
    "Desde o dia 1º de junho, a CAPES mudou nossa forma de acesso a periódicos científicos. Desde então o acesso passou a ser realizado exclusivamente pelo Portal de Periódicos da CAPES.\n",
    "\n",
    "Esta extensão procura simplificar o acesso implementando um redirecionamento manual e automático das páginas dos periódicos para o novo sistema da CAPES.\n",
    "\n",
    "Para informações sobre o funcionamento da extensão, por favor visite o site dos desenvovedores: www.infis.ufu.br/capes-periodicos\n"
   ]
  },
  {
   "cell_type": "markdown",
   "metadata": {},
   "source": [
    "### Unpaywall\n",
    "\n",
    "et free, legal fulltext of research papers as you browse. When you view a paywalled research article, Unpaywall automatically looks for a copy in our index of over 10 million free, legal fulltext PDFs. If we find one, click the green tab to read the article.  As fontes usadas são : o DOAJ ( repertório  dos jornais em acesso livre), Crossref (serviço de troca de metadados dos artigos dos principais editores ), DataCite (gestão de identificadores), et BASE ( principal “harvester” dos repositórios abertos). (ver o post de AIMS-FAO)."
   ]
  },
  {
   "cell_type": "markdown",
   "metadata": {},
   "source": [
    "## Math Tools\n",
    "\n",
    "From Equations to Graphing.....bring your math work to the next level with Math Tools by Mr. Teachnology.  \n",
    "\n",
    "Use the screenshot feature to capture your work.  Copy and paste your screenshots to a slideshow to document your efforts to solve problems.  \n",
    "\n",
    "Stop wasting valuable class time while students locate learning tools such as calculators, graphing tools.  Simply install Math Tools-- A Chrome extension which provides learners with a simple platform that serves a toolbox for all of their math essentials.  Math Tools includes a digital Scientific Calculator, a Graphing Calculator and an Equation writer all in one seamless solution.  Students with organizational and management difficulties often feel defeated before they begin a math task due to an inability to locate the proper materials within the provided time frame.  Math tools will Empower these students to arrive in class confidently.  \n"
   ]
  },
  {
   "cell_type": "markdown",
   "metadata": {},
   "source": [
    "### ExtensãoCite This For Me: Web Citer\n",
    "\n",
    "Simply browse to the page you wish to cite and click the button to generate a correctly formatted citation. Then copy-and-paste the citation into your assignment, or add it to your online bibliography for safe keeping until later.\n",
    "\n",
    "You can also add other sources (like books, journals, and newspapers) from our main tool at http://www.citethisforme.com\n",
    "\n",
    "Sources are cited using the following format editions:\n",
    "APA: 6th edition\n",
    "Chicago: 16th edition\n",
    "MLA: 7th edition\n",
    "Harvard: N/A\n"
   ]
  },
  {
   "cell_type": "markdown",
   "metadata": {},
   "source": [
    "\n",
    "\n",
    "Capture all or part of any web page. Add annotations, comments, blur sensitive info, and share with one-click uploads. Now with free desktop capture!\n",
    "\n",
    "Awesome Screenshot is the highest-rated screen capture & image annotation tool on Chrome with over 2 million users! As a way of thanking our user base, we no longer offer in-app purchases. Previously premium features are now completely free. \n",
    "The default option for saving an image is now storing the image on awesomescreenshot.com with no time limit. \n",
    "Check out our new Awesome Screenshot website @ www.awesomescreenshot.com to experience our new image hosting, sharing and point-specific feedback features. It’s the easiest way to communicate with your images!\n"
   ]
  },
  {
   "cell_type": "markdown",
   "metadata": {},
   "source": [
    "## Google Agenda\n",
    "\n",
    "Get a button on your browser toolbar that you can easily click to see upcoming events from Google Calendar, without ever leaving your page. And if you’re on sites that have special events encoded, you can click the button to instantly add events to your calendar. The button shows an orange plus sign whenever there are events on the page you’re viewing that can be added to your calendar."
   ]
  },
  {
   "cell_type": "markdown",
   "metadata": {},
   "source": [
    "### Download master\n",
    "\n",
    "With this extension you can download all images, videos, pdf, doc and any other file linked on the web page you are visiting. You can choose specific set of files or use the filters to choose all files of the same type in a single click. \"Download Master\" helps you to download them all in one click and easily manage the files in browser's Downloads tab.\n"
   ]
  },
  {
   "cell_type": "markdown",
   "metadata": {},
   "source": [
    "## URLShortener \n",
    "\n",
    "goo.gl url shortener is an extension which allows you to shorten the current website URL with the Google URL Shortener service http://goo.gl/"
   ]
  },
  {
   "cell_type": "markdown",
   "metadata": {},
   "source": [
    "### NetSupport Manager Client\n",
    "\n",
    "O NetSupport Manager oferece o que há de mais avançado em recursos para suporte a computadores remotos e gerenciamento de áreas de trabalho. Flexibilidade é fundamental no moderno ambiente de TI e, agregando recursos de suporte multiplataforma aos produtos já existentes, você pode controlar à distância qualquer equipamento com o SO Google Chrome.\n"
   ]
  },
  {
   "cell_type": "markdown",
   "metadata": {},
   "source": []
  },
  {
   "cell_type": "markdown",
   "metadata": {},
   "source": []
  },
  {
   "cell_type": "markdown",
   "metadata": {},
   "source": []
  }
 ],
 "metadata": {
  "kernelspec": {
   "display_name": "Julia 1.0.0",
   "language": "julia",
   "name": "julia-1.0"
  },
  "language_info": {
   "file_extension": ".jl",
   "mimetype": "application/julia",
   "name": "julia",
   "version": "1.0.0"
  }
 },
 "nbformat": 4,
 "nbformat_minor": 2
}
