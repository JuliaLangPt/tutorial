{
 "cells": [
  {
   "cell_type": "markdown",
   "metadata": {},
   "source": [
    "# TIPOS DE DADOS II"
   ]
  },
  {
   "cell_type": "markdown",
   "metadata": {},
   "source": [
    "## NUMÉRICOS"
   ]
  },
  {
   "cell_type": "markdown",
   "metadata": {},
   "source": [
    "### NUMEROS COMPLEXOS \n",
    "\n",
    "O conjunto dos números complexos $C$ é definido por  $C = \\{ a + bi ~|~ a, b ∈ R \\}$, sendo $i = \\sqrt{-1}$. Na linguagem Julia definimos um número complexo de acordo com as formas:\n",
    "```julia\n",
    "a + bim \n",
    "ou \n",
    "complex(a, b)\n",
    "```\n",
    "Sendo:\n",
    "* **a, b** = constantes;\n",
    "* **im** = imaginário.\n"
   ]
  },
  {
   "cell_type": "code",
   "execution_count": 1,
   "metadata": {},
   "outputs": [
    {
     "data": {
      "text/plain": [
       "8 + 4im"
      ]
     },
     "execution_count": 1,
     "metadata": {},
     "output_type": "execute_result"
    }
   ],
   "source": [
    "# real e imaginário\n",
    "complex(8, 4)"
   ]
  },
  {
   "cell_type": "code",
   "execution_count": 2,
   "metadata": {
    "scrolled": true
   },
   "outputs": [
    {
     "data": {
      "text/plain": [
       "1 + 2im"
      ]
     },
     "execution_count": 2,
     "metadata": {},
     "output_type": "execute_result"
    }
   ],
   "source": [
    "# real e imaginário\n",
    "1 + 2im"
   ]
  },
  {
   "cell_type": "code",
   "execution_count": 3,
   "metadata": {},
   "outputs": [
    {
     "data": {
      "text/plain": [
       "1"
      ]
     },
     "execution_count": 3,
     "metadata": {},
     "output_type": "execute_result"
    }
   ],
   "source": [
    "# extrair somente a parte real\n",
    "real(1 + 2im)"
   ]
  },
  {
   "cell_type": "code",
   "execution_count": 4,
   "metadata": {
    "scrolled": true
   },
   "outputs": [
    {
     "data": {
      "text/plain": [
       "2"
      ]
     },
     "execution_count": 4,
     "metadata": {},
     "output_type": "execute_result"
    }
   ],
   "source": [
    "# extrair somente a parte imaginária\n",
    "imag(1 + 2im)"
   ]
  },
  {
   "cell_type": "markdown",
   "metadata": {},
   "source": [
    "**Soma de complexos**\n",
    "\n",
    "$z + w = w + z = (a + bi) + (c + di) = (a + c) + (b+d)i$"
   ]
  },
  {
   "cell_type": "code",
   "execution_count": 5,
   "metadata": {
    "scrolled": true
   },
   "outputs": [
    {
     "data": {
      "text/plain": [
       "3 + 5im"
      ]
     },
     "execution_count": 5,
     "metadata": {},
     "output_type": "execute_result"
    }
   ],
   "source": [
    "(1 + 8im) + (2 - 3im)"
   ]
  },
  {
   "cell_type": "markdown",
   "metadata": {},
   "source": [
    "**Produto de números complexos**\n",
    "\n",
    "${\\displaystyle z \\cdot w~ = ~w \\cdot z=(a+bi)\\cdot (c+di)=(a  c-b d)+(b  c+a  d)i}$\n"
   ]
  },
  {
   "cell_type": "code",
   "execution_count": 6,
   "metadata": {
    "scrolled": false
   },
   "outputs": [
    {
     "data": {
      "text/plain": [
       "35 + 20im"
      ]
     },
     "execution_count": 6,
     "metadata": {},
     "output_type": "execute_result"
    }
   ],
   "source": [
    "(2 + 3im)*(10 - 5im)"
   ]
  },
  {
   "cell_type": "markdown",
   "metadata": {},
   "source": [
    "**Divisão de números complexos**\n",
    "\n",
    "${\\displaystyle \\frac{z}{w} = {\\frac {a+bi}{c+di}}=\\left({ac+bd \\over c^{2}+d^{2}}\\right)+\\left({bc-ad \\over c^{2}+d^{2}}\\right)i.} $\n"
   ]
  },
  {
   "cell_type": "code",
   "execution_count": 7,
   "metadata": {},
   "outputs": [
    {
     "data": {
      "text/plain": [
       "0.04 + 0.32im"
      ]
     },
     "execution_count": 7,
     "metadata": {},
     "output_type": "execute_result"
    }
   ],
   "source": [
    "(2 + 3im)/(10 - 5im)"
   ]
  },
  {
   "cell_type": "markdown",
   "metadata": {},
   "source": [
    "**Conjugado**\n",
    "\n",
    "$ {\\displaystyle {\\overline {z}}=a-bi}$"
   ]
  },
  {
   "cell_type": "code",
   "execution_count": 8,
   "metadata": {
    "scrolled": true
   },
   "outputs": [
    {
     "data": {
      "text/plain": [
       "2 - 3im"
      ]
     },
     "execution_count": 8,
     "metadata": {},
     "output_type": "execute_result"
    }
   ],
   "source": [
    "conj(2 + 3im)"
   ]
  },
  {
   "cell_type": "markdown",
   "metadata": {},
   "source": [
    "**Módulo de um número complexo**\n",
    "\n",
    "$|z| = {\\sqrt {a^{2}+b^{2}}}$"
   ]
  },
  {
   "cell_type": "code",
   "execution_count": 9,
   "metadata": {},
   "outputs": [
    {
     "data": {
      "text/plain": [
       "3.6055512754639896"
      ]
     },
     "execution_count": 9,
     "metadata": {},
     "output_type": "execute_result"
    }
   ],
   "source": [
    "abs(2 + 3im)"
   ]
  },
  {
   "cell_type": "markdown",
   "metadata": {},
   "source": [
    "**Argumento**\n",
    "\n",
    "Dado $\\displaystyle {cos(θ)=\\frac {a}{|z|}}~~$  e ${~~\\displaystyle sen(θ)=\\frac {b}{|z|}}~~$, temos que : $\\displaystyle θ=arcsen(\\frac{b}{|z|})$ ou $\\displaystyle θ=arcos(\\frac{a}{|z|})$."
   ]
  },
  {
   "cell_type": "code",
   "execution_count": 10,
   "metadata": {},
   "outputs": [
    {
     "data": {
      "text/plain": [
       "0.982793723247329"
      ]
     },
     "execution_count": 10,
     "metadata": {},
     "output_type": "execute_result"
    }
   ],
   "source": [
    "angle(2 + 3im) # em radianos"
   ]
  },
  {
   "cell_type": "markdown",
   "metadata": {},
   "source": [
    "**Potência**\n",
    "\n",
    "Dado um complexo na forma trigonométrica $~~z=|z|⋅cos(θ)+|z|⋅sen(θ)i~~$, sendo $~~b=|z|⋅sen(θ)~~$ e $~~a=|z|⋅cos(θ)~~$, \n",
    "$\\displaystyle {z^n=|z|^n⋅(cos(nθ)+i⋅sen(nθ))}$"
   ]
  },
  {
   "cell_type": "code",
   "execution_count": 11,
   "metadata": {},
   "outputs": [
    {
     "data": {
      "text/plain": [
       "-5 + 12im"
      ]
     },
     "execution_count": 11,
     "metadata": {},
     "output_type": "execute_result"
    }
   ],
   "source": [
    "(2 + 3im)^2"
   ]
  },
  {
   "cell_type": "code",
   "execution_count": 12,
   "metadata": {},
   "outputs": [
    {
     "data": {
      "text/plain": [
       "-0.2923869406660075 - 25.738749188332598im"
      ]
     },
     "execution_count": 12,
     "metadata": {},
     "output_type": "execute_result"
    }
   ],
   "source": [
    "(2 + 3im)^(1 - 2im)"
   ]
  },
  {
   "cell_type": "markdown",
   "metadata": {},
   "source": [
    "## DICIONÁRIO\n",
    "\n",
    "Os dicionários são estruturas de dados que contém pares de chave-valor. Diferente de um vetor no qual os valores são indexados por numeros inteiros, dicionários são indexados por chaves (keys), que podem ser de qualquer tipo de dado. Dicionários são delimitados por parenteses e contém uma lista de pares (chave, valor) separada por vírgulas. Sintaxe:\n",
    "```julia\n",
    "Dict([(chave_1, valor_1),(chave_2, valor_2),..., (chave_n, valor_n) ]) \n",
    "\n",
    "ou \n",
    "\n",
    "Dict(chave_1 => valor, chave_2 => valor, ..., chave_n => valor_n)\n",
    "\n",
    "ou \n",
    "\n",
    "Var = Dict()\n",
    "     Var[Chave_1] = valor_1\n",
    "     Var[Chave_2] = valor_2\n",
    "     ...\n",
    "     Var[Chave_n] = valor_n\n",
    "```\n",
    "\n",
    "O tipo de um dicionário é na forma: \n",
    "```julia\n",
    "Dict{\"Tipo basico chave\",\"Tipo basico valor\"}\n",
    "```\n",
    "\"Tipo basico\" pode ser inteiro, Float, string, complex e any."
   ]
  },
  {
   "cell_type": "markdown",
   "metadata": {},
   "source": [
    "**Exemplo 1.** Chaves do tipo string e valores do tipo Inteiro."
   ]
  },
  {
   "cell_type": "code",
   "execution_count": 13,
   "metadata": {
    "scrolled": false
   },
   "outputs": [
    {
     "data": {
      "text/plain": [
       "Dict{String,Int64} with 3 entries:\n",
       "  \"c\" => 10\n",
       "  \"b\" => 2\n",
       "  \"a\" => 1"
      ]
     },
     "execution_count": 13,
     "metadata": {},
     "output_type": "execute_result"
    }
   ],
   "source": [
    "d1 = Dict([(\"a\", 1), (\"b\", 2),(\"c\", 10)])"
   ]
  },
  {
   "cell_type": "markdown",
   "metadata": {},
   "source": [
    "**Exemplo 2.** Chaves do tipo string e valores do tipo string."
   ]
  },
  {
   "cell_type": "code",
   "execution_count": 14,
   "metadata": {
    "scrolled": true
   },
   "outputs": [
    {
     "data": {
      "text/plain": [
       "Dict{String,String} with 3 entries:\n",
       "  \"Soft1\" => \"Maxima\"\n",
       "  \"Soft3\" => \"Julia\"\n",
       "  \"Soft2\" => \"SageMath\""
      ]
     },
     "execution_count": 14,
     "metadata": {},
     "output_type": "execute_result"
    }
   ],
   "source": [
    "d2 = Dict(\"Soft1\" => \"Maxima\", \"Soft2\" => \"SageMath\", \"Soft3\" =>\"Julia\")"
   ]
  },
  {
   "cell_type": "markdown",
   "metadata": {},
   "source": [
    "**Exemplo 3**. Chaves do tipo \"Any\" e valores do tipo \"Any\"."
   ]
  },
  {
   "cell_type": "code",
   "execution_count": 15,
   "metadata": {
    "scrolled": true
   },
   "outputs": [
    {
     "data": {
      "text/plain": [
       "Dict{Any,Any} with 3 entries:\n",
       "  2         => \"raio\"\n",
       "  \"b\"       => 2\n",
       "  \"Amostra\" => 100"
      ]
     },
     "execution_count": 15,
     "metadata": {},
     "output_type": "execute_result"
    }
   ],
   "source": [
    "d3 = Dict()\n",
    "     d3[\"Amostra\"] = 100\n",
    "     d3[\"b\"] = 2\n",
    "     d3[2] = \"raio\"\n",
    "d3"
   ]
  },
  {
   "cell_type": "markdown",
   "metadata": {},
   "source": [
    "**Tipos do par chave-valor**"
   ]
  },
  {
   "cell_type": "code",
   "execution_count": 16,
   "metadata": {
    "scrolled": true
   },
   "outputs": [
    {
     "data": {
      "text/plain": [
       "(Dict{String,Int64}, Dict{String,String}, Dict{Any,Any})"
      ]
     },
     "execution_count": 16,
     "metadata": {},
     "output_type": "execute_result"
    }
   ],
   "source": [
    "typeof(d1), typeof(d2), typeof(d3)"
   ]
  },
  {
   "cell_type": "markdown",
   "metadata": {},
   "source": [
    "**Manipular valores e chaves**"
   ]
  },
  {
   "cell_type": "code",
   "execution_count": 17,
   "metadata": {
    "scrolled": true
   },
   "outputs": [
    {
     "data": {
      "text/plain": [
       "10"
      ]
     },
     "execution_count": 17,
     "metadata": {},
     "output_type": "execute_result"
    }
   ],
   "source": [
    "# acessar valor da chave \"c\" de d1\n",
    "d1[\"c\"]"
   ]
  },
  {
   "cell_type": "code",
   "execution_count": 18,
   "metadata": {
    "scrolled": true
   },
   "outputs": [
    {
     "data": {
      "text/plain": [
       "Base.KeySet for a Dict{String,Int64} with 3 entries. Keys:\n",
       "  \"c\"\n",
       "  \"b\"\n",
       "  \"a\""
      ]
     },
     "execution_count": 18,
     "metadata": {},
     "output_type": "execute_result"
    }
   ],
   "source": [
    "# acessar somente as chaves de d1\n",
    "keys(d1)"
   ]
  },
  {
   "cell_type": "code",
   "execution_count": 19,
   "metadata": {
    "scrolled": true
   },
   "outputs": [
    {
     "data": {
      "text/plain": [
       "Dict{String,Int64} with 2 entries:\n",
       "  \"c\" => 10\n",
       "  \"a\" => 1"
      ]
     },
     "execution_count": 19,
     "metadata": {},
     "output_type": "execute_result"
    }
   ],
   "source": [
    "# deletar uma key de d1\n",
    "delete!(d1, \"b\")"
   ]
  },
  {
   "cell_type": "code",
   "execution_count": 20,
   "metadata": {
    "scrolled": false
   },
   "outputs": [
    {
     "data": {
      "text/plain": [
       "3-element Array{String,1}:\n",
       " \"Julia\"   \n",
       " \"Maxima\"  \n",
       " \"SageMath\""
      ]
     },
     "execution_count": 20,
     "metadata": {},
     "output_type": "execute_result"
    }
   ],
   "source": [
    "# ordenar os valores do dicionário d2\n",
    "sort(collect(values(d2)))"
   ]
  },
  {
   "cell_type": "code",
   "execution_count": 21,
   "metadata": {},
   "outputs": [
    {
     "data": {
      "text/plain": [
       "10"
      ]
     },
     "execution_count": 21,
     "metadata": {},
     "output_type": "execute_result"
    }
   ],
   "source": [
    "d1[\"c\"]"
   ]
  },
  {
   "cell_type": "code",
   "execution_count": 22,
   "metadata": {},
   "outputs": [
    {
     "data": {
      "text/plain": [
       "99"
      ]
     },
     "execution_count": 22,
     "metadata": {},
     "output_type": "execute_result"
    }
   ],
   "source": [
    "# alterar o valor da chave \"c\" de d1\n",
    "d1[\"c\"] = 99"
   ]
  },
  {
   "cell_type": "markdown",
   "metadata": {},
   "source": [
    "**Alterar a Key do dicionário**\n",
    "\n",
    "`Keys` são imutáveis, logo não permitem modificação de nome ou tipo. O que se faz é copiar o conteúdo de uma `key` desejada para outra `nova_key` e depois apaga-se o a `key` antiga."
   ]
  },
  {
   "cell_type": "code",
   "execution_count": 23,
   "metadata": {},
   "outputs": [
    {
     "data": {
      "text/plain": [
       "99"
      ]
     },
     "execution_count": 23,
     "metadata": {},
     "output_type": "execute_result"
    }
   ],
   "source": [
    "# copia a key \"c\" para a key \"novo\" e apaga-se a key \"c\"\n",
    "d1[\"Amostra\"] = pop!(d1,\"c\")"
   ]
  },
  {
   "cell_type": "code",
   "execution_count": 24,
   "metadata": {
    "scrolled": true
   },
   "outputs": [
    {
     "data": {
      "text/plain": [
       "Dict{String,Int64} with 2 entries:\n",
       "  \"Amostra\" => 99\n",
       "  \"a\"       => 1"
      ]
     },
     "execution_count": 24,
     "metadata": {},
     "output_type": "execute_result"
    }
   ],
   "source": [
    "d1"
   ]
  },
  {
   "cell_type": "markdown",
   "metadata": {},
   "source": [
    "**União e Merge**\n",
    "\n",
    "A função `union()` une os dois dicionários em um `Array` mantendo a ordem de cada um. Sintaxe:\n",
    "```julia \n",
    "union(dic_1,dic_2, ..., dic_n)\n",
    "union!(dic_1,dic_2, ..., dic_n) # une os dicionários e sobrescreve em dic_1. CUIDADO!\n",
    "```\n",
    "A função `marge()` agrupa os dicionários em outro dicionário e se a mesma chave estiver presente em outro dicionário, o valor dessa chave será o valor que ela possui no último dicionário. Sintaxe:\n",
    "```julia \n",
    "merge(dic_1,dic_2, ..., dic_n)\n",
    "merge!(dic_1,dic_2, ..., dic_n) # agrupa os dicionário e sobrescreve em dic_1. CUIDADO!\n",
    "```"
   ]
  },
  {
   "cell_type": "code",
   "execution_count": 25,
   "metadata": {
    "scrolled": true
   },
   "outputs": [
    {
     "data": {
      "text/plain": [
       "Dict{String,Int64} with 2 entries:\n",
       "  \"Amostra\" => 99\n",
       "  \"a\"       => 1"
      ]
     },
     "metadata": {},
     "output_type": "display_data"
    },
    {
     "data": {
      "text/plain": [
       "Dict{Any,Any} with 3 entries:\n",
       "  2         => \"raio\"\n",
       "  \"b\"       => 2\n",
       "  \"Amostra\" => 100"
      ]
     },
     "metadata": {},
     "output_type": "display_data"
    },
    {
     "data": {
      "text/plain": [
       "(nothing, nothing)"
      ]
     },
     "execution_count": 25,
     "metadata": {},
     "output_type": "execute_result"
    }
   ],
   "source": [
    "display(d1), display(d3)"
   ]
  },
  {
   "cell_type": "code",
   "execution_count": 26,
   "metadata": {},
   "outputs": [
    {
     "data": {
      "text/plain": [
       "5-element Array{Pair{Any,Any},1}:\n",
       " \"Amostra\" => 99    \n",
       "       \"a\" => 1     \n",
       "         2 => \"raio\"\n",
       "       \"b\" => 2     \n",
       " \"Amostra\" => 100   "
      ]
     },
     "execution_count": 26,
     "metadata": {},
     "output_type": "execute_result"
    }
   ],
   "source": [
    "union(d1,d3)"
   ]
  },
  {
   "cell_type": "code",
   "execution_count": 27,
   "metadata": {
    "scrolled": false
   },
   "outputs": [
    {
     "data": {
      "text/plain": [
       "Dict{Any,Any} with 4 entries:\n",
       "  2         => \"raio\"\n",
       "  \"b\"       => 2\n",
       "  \"Amostra\" => 100\n",
       "  \"a\"       => 1"
      ]
     },
     "execution_count": 27,
     "metadata": {},
     "output_type": "execute_result"
    }
   ],
   "source": [
    "# d1 e d3 possuem a chave \"Amostra\". Será atribuído o valor de d3.\n",
    "merge(d1, d3)"
   ]
  },
  {
   "cell_type": "code",
   "execution_count": 28,
   "metadata": {
    "scrolled": true
   },
   "outputs": [
    {
     "data": {
      "text/plain": [
       "Dict{Any,Any} with 4 entries:\n",
       "  2         => \"raio\"\n",
       "  \"b\"       => 2\n",
       "  \"Amostra\" => 99\n",
       "  \"a\"       => 1"
      ]
     },
     "execution_count": 28,
     "metadata": {},
     "output_type": "execute_result"
    }
   ],
   "source": [
    "# d1 e d3 possuem a chave \"Amostra\". Será atribuído o valor de d1.\n",
    "merge(d3, d1)"
   ]
  },
  {
   "cell_type": "markdown",
   "metadata": {},
   "source": [
    "**Diferença e interseção entre dicionários**\n",
    "\n",
    "A função `setdiff(dic_1, dic_2)` lista os pares chave-valor que pertecem ao dicionário `dic_1` e não pertencem ao `dic_2`. A função `intersect(dic_1, dic_2)` lista os pares chave-valor em comum entre os dicionários."
   ]
  },
  {
   "cell_type": "code",
   "execution_count": 29,
   "metadata": {},
   "outputs": [
    {
     "data": {
      "text/plain": [
       "2-element Array{Pair{String,Int64},1}:\n",
       " \"Amostra\" => 99\n",
       "       \"a\" => 1 "
      ]
     },
     "execution_count": 29,
     "metadata": {},
     "output_type": "execute_result"
    }
   ],
   "source": [
    "setdiff(d1, d3)"
   ]
  },
  {
   "cell_type": "code",
   "execution_count": 30,
   "metadata": {
    "scrolled": true
   },
   "outputs": [
    {
     "data": {
      "text/plain": [
       "3-element Array{Pair{Any,Any},1}:\n",
       "         2 => \"raio\"\n",
       "       \"b\" => 2     \n",
       " \"Amostra\" => 100   "
      ]
     },
     "execution_count": 30,
     "metadata": {},
     "output_type": "execute_result"
    }
   ],
   "source": [
    "setdiff(d3, d1)"
   ]
  },
  {
   "cell_type": "code",
   "execution_count": 31,
   "metadata": {},
   "outputs": [
    {
     "data": {
      "text/plain": [
       "0-element Array{Pair{String,Int64},1}"
      ]
     },
     "execution_count": 31,
     "metadata": {},
     "output_type": "execute_result"
    }
   ],
   "source": [
    "intersect(d1, d3)"
   ]
  },
  {
   "cell_type": "markdown",
   "metadata": {},
   "source": [
    "## CONJUNTOS\n",
    "\n",
    "Um `Set` é um conjunto de elementos semelhante a um dicionário sem elementos duplicados e ordenados. A vantagem em usar conjuntos é que podemos trabalhar as relações de pertinência e as operações de intersecção, união, subconjunto e diferença de conjuntos. Os caracteres unicode podem ser inseridos na forma `\"\\cod_latex{tab}\"`. Sintaxe:\n",
    "```julia\n",
    "Set([valor1, valor2])\n",
    "``` \n",
    "O tipo básico pode ser: inteiro, float, complex... ou any."
   ]
  },
  {
   "cell_type": "code",
   "execution_count": 32,
   "metadata": {},
   "outputs": [],
   "source": [
    "# O conjunto filtra elementos repetidos permitindo somente entrada única\n",
    "Conj_1 = Set([\"Julia\", 10.0 , \"Julia\"])\n",
    "\n",
    "Conj_2 = Set([\"Sagemath\", 10.0 , [10, 50, 99], \"Julia\"]);"
   ]
  },
  {
   "cell_type": "code",
   "execution_count": 33,
   "metadata": {
    "scrolled": true
   },
   "outputs": [
    {
     "data": {
      "text/plain": [
       "Set(Any[10.0, \"Julia\"])"
      ]
     },
     "execution_count": 33,
     "metadata": {},
     "output_type": "execute_result"
    }
   ],
   "source": [
    "# veja que o elemento \"Julia\" não foi duplicado\n",
    "Conj_1"
   ]
  },
  {
   "cell_type": "code",
   "execution_count": 34,
   "metadata": {},
   "outputs": [
    {
     "data": {
      "text/plain": [
       "Set(Any[10.0, [7 8 9; 4 5 6], \"Julia\", \"Scilab\"])"
      ]
     },
     "execution_count": 34,
     "metadata": {},
     "output_type": "execute_result"
    }
   ],
   "source": [
    "# acrescentando elemento\n",
    "push!(Conj_1, [7 8 9; 4 5 6], \"Scilab\") "
   ]
  },
  {
   "cell_type": "code",
   "execution_count": 35,
   "metadata": {
    "scrolled": true
   },
   "outputs": [
    {
     "data": {
      "text/plain": [
       "10.0"
      ]
     },
     "execution_count": 35,
     "metadata": {},
     "output_type": "execute_result"
    }
   ],
   "source": [
    "# retirar o primeiro elemento de um conjunto\n",
    "pop!(Conj_1)"
   ]
  },
  {
   "cell_type": "markdown",
   "metadata": {},
   "source": [
    "**Relação de pertinência**\n",
    "\n",
    "Se um elemento $x$ pertencente ao conjunto $A$ podemos dizer que $x$ pertence a $A$, ou $x \\in A$."
   ]
  },
  {
   "cell_type": "markdown",
   "metadata": {},
   "source": [
    "verificar se um valor pertence ao conjunto"
   ]
  },
  {
   "cell_type": "code",
   "execution_count": 36,
   "metadata": {},
   "outputs": [
    {
     "data": {
      "text/plain": [
       "(true, true)"
      ]
     },
     "execution_count": 36,
     "metadata": {},
     "output_type": "execute_result"
    }
   ],
   "source": [
    "\"Julia\" in Conj_1, in(\"Julia\", Conj_1)"
   ]
  },
  {
   "cell_type": "markdown",
   "metadata": {},
   "source": [
    "Verificar se um valor pertence ao conjunto"
   ]
  },
  {
   "cell_type": "code",
   "execution_count": 37,
   "metadata": {},
   "outputs": [
    {
     "data": {
      "text/plain": [
       "(false, true)"
      ]
     },
     "execution_count": 37,
     "metadata": {},
     "output_type": "execute_result"
    }
   ],
   "source": [
    "10 ∈ Conj_1, ∉(Conj_1, Conj_2)"
   ]
  },
  {
   "cell_type": "markdown",
   "metadata": {},
   "source": [
    "**União**\n",
    "\n",
    "Dados dois conjuntos $A$ e $B$, o conjunto união $A \\cup B$ é dado por:\n",
    "$x \\in A \\cup B ⇔ x \\in A$ ou $x \\in B$\n"
   ]
  },
  {
   "cell_type": "code",
   "execution_count": 38,
   "metadata": {},
   "outputs": [
    {
     "data": {
      "text/plain": [
       "Set(Any[\"Sagemath\", 10.0, [7 8 9; 4 5 6], \"Julia\", [10, 50, 99], \"Scilab\"])"
      ]
     },
     "execution_count": 38,
     "metadata": {},
     "output_type": "execute_result"
    }
   ],
   "source": [
    "union(Conj_1,Conj_2)"
   ]
  },
  {
   "cell_type": "code",
   "execution_count": 39,
   "metadata": {
    "scrolled": true
   },
   "outputs": [
    {
     "data": {
      "text/plain": [
       "Set(Any[\"Sagemath\", 10.0, [7 8 9; 4 5 6], \"Julia\", [10, 50, 99], \"Scilab\"])"
      ]
     },
     "execution_count": 39,
     "metadata": {},
     "output_type": "execute_result"
    }
   ],
   "source": [
    "Conj_1 ∪ Conj_2"
   ]
  },
  {
   "cell_type": "code",
   "execution_count": 40,
   "metadata": {},
   "outputs": [
    {
     "data": {
      "text/plain": [
       "Set(Any[\"Sagemath\", 10.0, [7 8 9; 4 5 6], \"Julia\", [10, 50, 99], \"Scilab\"])"
      ]
     },
     "execution_count": 40,
     "metadata": {},
     "output_type": "execute_result"
    }
   ],
   "source": [
    "∪(Conj_1,Conj_2)"
   ]
  },
  {
   "cell_type": "markdown",
   "metadata": {},
   "source": [
    "**Intersecção** \n",
    "\n",
    "O conjunto intersecção $A \\cap B$ é formado pelos elementos que pertencem simultaneamente a A e B: $x \\in A \\cap B ⇔ x \\in A$ e $x \\in B$"
   ]
  },
  {
   "cell_type": "code",
   "execution_count": 41,
   "metadata": {
    "scrolled": true
   },
   "outputs": [
    {
     "data": {
      "text/plain": [
       "Set(Any[\"Julia\"])"
      ]
     },
     "execution_count": 41,
     "metadata": {},
     "output_type": "execute_result"
    }
   ],
   "source": [
    "intersect(Conj_1,Conj_2)"
   ]
  },
  {
   "cell_type": "code",
   "execution_count": 42,
   "metadata": {
    "scrolled": true
   },
   "outputs": [
    {
     "data": {
      "text/plain": [
       "Set(Any[\"Julia\"])"
      ]
     },
     "execution_count": 42,
     "metadata": {},
     "output_type": "execute_result"
    }
   ],
   "source": [
    "Conj_1 ∩ Conj_2"
   ]
  },
  {
   "cell_type": "code",
   "execution_count": 43,
   "metadata": {},
   "outputs": [
    {
     "data": {
      "text/plain": [
       "Set(Any[\"Julia\"])"
      ]
     },
     "execution_count": 43,
     "metadata": {},
     "output_type": "execute_result"
    }
   ],
   "source": [
    "∩(Conj_2,Conj_1)"
   ]
  },
  {
   "cell_type": "markdown",
   "metadata": {},
   "source": [
    "**Diferença entre conjuntos**\n",
    "\n",
    "Dados dois conjuntos $A$ e $B$, define-se a diferença $A - B$  como sendo o conjunto formado pelos elementos de $A$ que não pertencem  a $B$ : $ A - B = \\{ X ~ |~ x \\in A ~e~ x \\notin B \\}$"
   ]
  },
  {
   "cell_type": "code",
   "execution_count": 44,
   "metadata": {
    "scrolled": true
   },
   "outputs": [
    {
     "data": {
      "text/plain": [
       "Set(Any[[7 8 9; 4 5 6], \"Scilab\"])"
      ]
     },
     "execution_count": 44,
     "metadata": {},
     "output_type": "execute_result"
    }
   ],
   "source": [
    "setdiff(Conj_1, Conj_2)"
   ]
  },
  {
   "cell_type": "code",
   "execution_count": 45,
   "metadata": {},
   "outputs": [
    {
     "data": {
      "text/plain": [
       "Set(Any[\"Sagemath\", 10.0, [10, 50, 99]])"
      ]
     },
     "execution_count": 45,
     "metadata": {},
     "output_type": "execute_result"
    }
   ],
   "source": [
    "setdiff(Conj_2, Conj_1)"
   ]
  },
  {
   "cell_type": "markdown",
   "metadata": {},
   "source": [
    "**Subconjunto**\n",
    "\n",
    "Um conjunto $B$ é um subconjunto do conjunto $A$ se todo elemento de $B$ é também elemento de $A$ ou seja:  $B \\subset A$.\n"
   ]
  },
  {
   "cell_type": "code",
   "execution_count": 46,
   "metadata": {
    "scrolled": true
   },
   "outputs": [
    {
     "data": {
      "text/plain": [
       "false"
      ]
     },
     "execution_count": 46,
     "metadata": {},
     "output_type": "execute_result"
    }
   ],
   "source": [
    "issubset(Conj_1, Conj_2)"
   ]
  },
  {
   "cell_type": "code",
   "execution_count": 47,
   "metadata": {},
   "outputs": [
    {
     "data": {
      "text/plain": [
       "false"
      ]
     },
     "execution_count": 47,
     "metadata": {},
     "output_type": "execute_result"
    }
   ],
   "source": [
    "Conj_1 ⊆ Conj_2"
   ]
  },
  {
   "cell_type": "code",
   "execution_count": 48,
   "metadata": {},
   "outputs": [
    {
     "data": {
      "text/plain": [
       "false"
      ]
     },
     "execution_count": 48,
     "metadata": {},
     "output_type": "execute_result"
    }
   ],
   "source": [
    "⊆(Conj_2, Conj_1)"
   ]
  },
  {
   "cell_type": "markdown",
   "metadata": {},
   "source": [
    "## LISTAS, ARRAY, VETORES E MATRIZES PARTE II"
   ]
  },
  {
   "cell_type": "markdown",
   "metadata": {},
   "source": [
    "### ARRAY UNIDIMENSIONAL / VETORES PARTE II\n",
    "\n",
    "Atenção: A função `pop()` nao serve para vetores linha! Funciona somente para vetores coluna."
   ]
  },
  {
   "cell_type": "markdown",
   "metadata": {},
   "source": [
    "#### CRIANDO VETORES USADO LINRANGE()\n",
    "\n",
    "A função `LinRange()` cria uma sequencia do tipo `LinRange`. Sintaxe:\n",
    "```julia\n",
    "LinRange(inicio, fim, quantidade de elementos)\n",
    "```"
   ]
  },
  {
   "cell_type": "code",
   "execution_count": 49,
   "metadata": {},
   "outputs": [
    {
     "data": {
      "text/plain": [
       "15-element LinRange{Float64}:\n",
       " 10.0,10.0,10.0,10.0,10.0,10.0,10.0,10.0,10.0,10.0,10.0,10.0,10.0,10.0,10.0"
      ]
     },
     "execution_count": 49,
     "metadata": {},
     "output_type": "execute_result"
    }
   ],
   "source": [
    "LinRange(10, 10, 15)"
   ]
  },
  {
   "cell_type": "code",
   "execution_count": 50,
   "metadata": {
    "scrolled": true
   },
   "outputs": [
    {
     "data": {
      "text/plain": [
       "15-element LinRange{Float64}:\n",
       " 0.0,0.714286,1.42857,2.14286,2.85714,…,7.14286,7.85714,8.57143,9.28571,10.0"
      ]
     },
     "execution_count": 50,
     "metadata": {},
     "output_type": "execute_result"
    }
   ],
   "source": [
    "vl = LinRange(0, 10, 15)"
   ]
  },
  {
   "cell_type": "markdown",
   "metadata": {},
   "source": [
    "É possível acessar os elementos de acordo com o índice, porém não é possível alterar o valor de um elemento da range."
   ]
  },
  {
   "cell_type": "code",
   "execution_count": 51,
   "metadata": {},
   "outputs": [
    {
     "ename": "ErrorException",
     "evalue": "setindex! not defined for LinRange{Float64}",
     "output_type": "error",
     "traceback": [
      "setindex! not defined for LinRange{Float64}",
      "",
      "Stacktrace:",
      " [1] error(::String, ::Type) at ./error.jl:42",
      " [2] error_if_canonical_setindex(::IndexLinear, ::LinRange{Float64}, ::Int64) at ./abstractarray.jl:1082",
      " [3] setindex!(::LinRange{Float64}, ::Int64, ::Int64) at ./abstractarray.jl:1073",
      " [4] top-level scope at In[51]:1"
     ]
    }
   ],
   "source": [
    "vl[2] = 0"
   ]
  },
  {
   "cell_type": "markdown",
   "metadata": {},
   "source": [
    "**CRIANDO VETORES USADO `COLLECT()`**\n",
    "\n",
    "A função `collect()` cria vetores unidimensional ( Array{Tipo_dado,**1**} ). Sintaxe:\n",
    "```julia\n",
    "collect(inicio : passo : fim)\n",
    "```\n",
    "Sendo:"
   ]
  },
  {
   "cell_type": "code",
   "execution_count": 52,
   "metadata": {},
   "outputs": [
    {
     "data": {
      "text/plain": [
       "5-element Array{Float64,1}:\n",
       " 1.0 \n",
       " 1.25\n",
       " 1.5 \n",
       " 1.75\n",
       " 2.0 "
      ]
     },
     "execution_count": 52,
     "metadata": {},
     "output_type": "execute_result"
    }
   ],
   "source": [
    "# Criando um vetor de 1 a 2 de 0.25 em 0.25\n",
    "vc = collect(1:0.25:2)"
   ]
  },
  {
   "cell_type": "code",
   "execution_count": 53,
   "metadata": {},
   "outputs": [
    {
     "data": {
      "text/plain": [
       "1"
      ]
     },
     "execution_count": 53,
     "metadata": {},
     "output_type": "execute_result"
    }
   ],
   "source": [
    "# dimensoes do vetor\n",
    "ndims(vc)"
   ]
  },
  {
   "cell_type": "code",
   "execution_count": 54,
   "metadata": {},
   "outputs": [
    {
     "data": {
      "text/plain": [
       "5"
      ]
     },
     "execution_count": 54,
     "metadata": {},
     "output_type": "execute_result"
    }
   ],
   "source": [
    "# quantidade de elementos de um vetor ou tamanho do vetor\n",
    "length(vc)"
   ]
  },
  {
   "cell_type": "markdown",
   "metadata": {},
   "source": [
    "É possível acessar os elementos de acordo com o índice e alterar o valor de um elemento da range."
   ]
  },
  {
   "cell_type": "code",
   "execution_count": 55,
   "metadata": {
    "scrolled": true
   },
   "outputs": [
    {
     "data": {
      "text/plain": [
       "(1.0, 1.25)"
      ]
     },
     "execution_count": 55,
     "metadata": {},
     "output_type": "execute_result"
    }
   ],
   "source": [
    "# acessando dados no vetor y\n",
    "vc[1], vc[2]"
   ]
  },
  {
   "cell_type": "code",
   "execution_count": 56,
   "metadata": {},
   "outputs": [
    {
     "data": {
      "text/plain": [
       "0"
      ]
     },
     "execution_count": 56,
     "metadata": {},
     "output_type": "execute_result"
    }
   ],
   "source": [
    "# alterando o valor do elemento v[1]\n",
    "vc[1] = 0"
   ]
  },
  {
   "cell_type": "markdown",
   "metadata": {},
   "source": [
    "**Cuidado com os tipos!** "
   ]
  },
  {
   "cell_type": "code",
   "execution_count": 57,
   "metadata": {
    "scrolled": false
   },
   "outputs": [
    {
     "name": "stdout",
     "output_type": "stream",
     "text": [
      "(typeof(vc0), ndims(vc0)) = (Array{Int64,1}, 1)\n",
      "(typeof(vc1), ndims(vc1)) = (Array{Float64,1}, 1)\n",
      "(typeof(vc2), ndims(vc1)) = (Array{Float64,1}, 1)\n"
     ]
    }
   ],
   "source": [
    "vc0 = collect(1: 2: 6)   # vetor unidimensional do tipo inteiro\n",
    "vc1 = collect(1.0: 2: 6) # vetor unidimensional do tipo float\n",
    "vc2 = collect(1: 2.0: 6) # vetor unidimensional do tipo float\n",
    "\n",
    "@show typeof(vc0), ndims(vc0)\n",
    "@show typeof(vc1), ndims(vc1)\n",
    "@show typeof(vc2), ndims(vc1);"
   ]
  },
  {
   "cell_type": "markdown",
   "metadata": {},
   "source": [
    "**CRIANDO VETORES USANDO `RANGE`**\n",
    "\n",
    "Consiste de um conjunto ordenado de elementos,semelhante a um vetor, com cada elemento identificado por um índice. Range cria vetores unidimensionais ( Array{Tipo_dado,**1**} ). Sintaxe:\n",
    "```julia\n",
    "range(inicio, stop = valor, length = valor) \n",
    "```\n",
    "Ou\n",
    "```\n",
    "inicio:passo:fim\n",
    "```\n",
    "O tipo básico pode ser: inteiro, float, complex e outros. Não é possível alterar um valor de uma Range."
   ]
  },
  {
   "cell_type": "code",
   "execution_count": 58,
   "metadata": {},
   "outputs": [
    {
     "data": {
      "text/plain": [
       "0.0:2.5:10.0"
      ]
     },
     "execution_count": 58,
     "metadata": {},
     "output_type": "execute_result"
    }
   ],
   "source": [
    "vr1 = range(0, stop=10, length = 5)"
   ]
  },
  {
   "cell_type": "code",
   "execution_count": 59,
   "metadata": {},
   "outputs": [
    {
     "data": {
      "text/plain": [
       "StepRangeLen{Float64,Base.TwicePrecision{Float64},Base.TwicePrecision{Float64}}"
      ]
     },
     "execution_count": 59,
     "metadata": {},
     "output_type": "execute_result"
    }
   ],
   "source": [
    "typeof(vr1)"
   ]
  },
  {
   "cell_type": "code",
   "execution_count": 60,
   "metadata": {},
   "outputs": [
    {
     "data": {
      "text/plain": [
       "10.0"
      ]
     },
     "execution_count": 60,
     "metadata": {},
     "output_type": "execute_result"
    }
   ],
   "source": [
    "# acessando elementos \n",
    "vr1[5]"
   ]
  },
  {
   "cell_type": "markdown",
   "metadata": {},
   "source": [
    "É possível acessar os elementos de acordo com o índice, porém não é possível alterar o valor de um elemento da range."
   ]
  },
  {
   "cell_type": "code",
   "execution_count": 61,
   "metadata": {},
   "outputs": [
    {
     "ename": "ErrorException",
     "evalue": "setindex! not defined for StepRangeLen{Float64,Base.TwicePrecision{Float64},Base.TwicePrecision{Float64}}",
     "output_type": "error",
     "traceback": [
      "setindex! not defined for StepRangeLen{Float64,Base.TwicePrecision{Float64},Base.TwicePrecision{Float64}}",
      "",
      "Stacktrace:",
      " [1] error(::String, ::Type) at ./error.jl:42",
      " [2] error_if_canonical_setindex(::IndexLinear, ::StepRangeLen{Float64,Base.TwicePrecision{Float64},Base.TwicePrecision{Float64}}, ::Int64) at ./abstractarray.jl:1082",
      " [3] setindex!(::StepRangeLen{Float64,Base.TwicePrecision{Float64},Base.TwicePrecision{Float64}}, ::Float64, ::Int64) at ./abstractarray.jl:1073",
      " [4] top-level scope at In[61]:1"
     ]
    }
   ],
   "source": [
    "vr1[5] = 0.0"
   ]
  },
  {
   "cell_type": "markdown",
   "metadata": {},
   "source": [
    "Outra forma:"
   ]
  },
  {
   "cell_type": "code",
   "execution_count": 62,
   "metadata": {
    "scrolled": true
   },
   "outputs": [
    {
     "data": {
      "text/plain": [
       "1.0:0.25:2.0"
      ]
     },
     "execution_count": 62,
     "metadata": {},
     "output_type": "execute_result"
    }
   ],
   "source": [
    "vr2 = 1:0.25:2"
   ]
  },
  {
   "cell_type": "code",
   "execution_count": 63,
   "metadata": {},
   "outputs": [
    {
     "data": {
      "text/plain": [
       "StepRangeLen{Float64,Base.TwicePrecision{Float64},Base.TwicePrecision{Float64}}"
      ]
     },
     "execution_count": 63,
     "metadata": {},
     "output_type": "execute_result"
    }
   ],
   "source": [
    "typeof(vr2)"
   ]
  },
  {
   "cell_type": "markdown",
   "metadata": {},
   "source": [
    "Podemos, no entanto, usar `collect` para converter um `range` num vetor normal (mutável)."
   ]
  },
  {
   "cell_type": "code",
   "execution_count": 64,
   "metadata": {},
   "outputs": [
    {
     "data": {
      "text/plain": [
       "5-element Array{Float64,1}:\n",
       "  0.0\n",
       "  2.5\n",
       "  5.0\n",
       "  7.5\n",
       " 10.0"
      ]
     },
     "execution_count": 64,
     "metadata": {},
     "output_type": "execute_result"
    }
   ],
   "source": [
    "vr2 = collect(vr1)"
   ]
  },
  {
   "cell_type": "code",
   "execution_count": 65,
   "metadata": {
    "scrolled": true
   },
   "outputs": [
    {
     "data": {
      "text/plain": [
       "0.0"
      ]
     },
     "execution_count": 65,
     "metadata": {},
     "output_type": "execute_result"
    }
   ],
   "source": [
    "vr2[5] = 0.0"
   ]
  },
  {
   "cell_type": "code",
   "execution_count": 66,
   "metadata": {},
   "outputs": [
    {
     "data": {
      "text/plain": [
       "(0.0, 2.5)"
      ]
     },
     "execution_count": 66,
     "metadata": {},
     "output_type": "execute_result"
    }
   ],
   "source": [
    "# acessando elementos\n",
    "vr2[1], vr2[2]"
   ]
  },
  {
   "cell_type": "markdown",
   "metadata": {},
   "source": [
    "**Cuidados com os tipos!**"
   ]
  },
  {
   "cell_type": "code",
   "execution_count": 67,
   "metadata": {},
   "outputs": [],
   "source": [
    "r0 = range(1, stop = 5) # ranger do tipo inteiro\n",
    "r1 = 1: 1.0: 5          # ranger do tipo float, observe o valor 1.0 do tipo float;"
   ]
  },
  {
   "cell_type": "code",
   "execution_count": 68,
   "metadata": {},
   "outputs": [
    {
     "data": {
      "text/plain": [
       "(UnitRange{Int64}, 1)"
      ]
     },
     "execution_count": 68,
     "metadata": {},
     "output_type": "execute_result"
    }
   ],
   "source": [
    "typeof(r0), ndims(r0)"
   ]
  },
  {
   "cell_type": "code",
   "execution_count": 69,
   "metadata": {},
   "outputs": [
    {
     "data": {
      "text/plain": [
       "(StepRangeLen{Float64,Base.TwicePrecision{Float64},Base.TwicePrecision{Float64}}, 1)"
      ]
     },
     "execution_count": 69,
     "metadata": {},
     "output_type": "execute_result"
    }
   ],
   "source": [
    "typeof(r1), ndims(r1)"
   ]
  },
  {
   "cell_type": "markdown",
   "metadata": {},
   "source": [
    "**SUBVETORES**\n",
    "\n",
    "O resultado é um vetor coluna contendo os elementos do subvetor.\n",
    "```julia\n",
    "view(vetor, faixa)\n",
    "```\n",
    "Sendo:\n",
    "* **vetor:** vetor de dados;\n",
    "* **faixa:** \n"
   ]
  },
  {
   "cell_type": "code",
   "execution_count": 70,
   "metadata": {},
   "outputs": [],
   "source": [
    "v = [0, 3, 6, 9, 12, 100, 105, 108, 109, 110, 111, 112, 113, 114, 115]\n",
    "u = [\"a\" \"b\" \"c\" \"d\" \"e\" \"f\" \"g\" \"h\" \"i\" \"j\" \"l\" \"m\" \"n\" \"o\" \"p\"];"
   ]
  },
  {
   "cell_type": "markdown",
   "metadata": {},
   "source": [
    "Exemplo 1: criar um subarray do vetor \"v\" dos elemento de índice 1 até o elemento de índice 10 tomando de 3 em 3 índices."
   ]
  },
  {
   "cell_type": "code",
   "execution_count": 71,
   "metadata": {},
   "outputs": [
    {
     "data": {
      "text/plain": [
       "4-element view(::Array{Int64,1}, 1:3:10) with eltype Int64:\n",
       "   0\n",
       "   9\n",
       " 105\n",
       " 110"
      ]
     },
     "execution_count": 71,
     "metadata": {},
     "output_type": "execute_result"
    }
   ],
   "source": [
    "view(v, 1:3:10)"
   ]
  },
  {
   "cell_type": "markdown",
   "metadata": {},
   "source": [
    "Exemplo 2: criar um subconjunto coluna do vetor \"u\" dos elemento de índice 10 até o elemento de índice 1 tomando de 3 em 3 índice decrescente."
   ]
  },
  {
   "cell_type": "code",
   "execution_count": 72,
   "metadata": {
    "scrolled": true
   },
   "outputs": [
    {
     "data": {
      "text/plain": [
       "4-element view(::Array{String,1}, 10:-3:1) with eltype String:\n",
       " \"j\"\n",
       " \"g\"\n",
       " \"d\"\n",
       " \"a\""
      ]
     },
     "execution_count": 72,
     "metadata": {},
     "output_type": "execute_result"
    }
   ],
   "source": [
    "view(u, 10:-3:1)"
   ]
  },
  {
   "cell_type": "markdown",
   "metadata": {},
   "source": [
    "**MANIPULAÇÃO DE ARRAY/VETORES**\n",
    "\n",
    "Os comandos abaixo não funcionam para vetores linha."
   ]
  },
  {
   "cell_type": "code",
   "execution_count": 73,
   "metadata": {
    "scrolled": false
   },
   "outputs": [
    {
     "data": {
      "text/plain": [
       "6-element Array{Int64,1}:\n",
       " 10\n",
       " 20\n",
       " 30\n",
       " 40\n",
       " 50\n",
       " 60"
      ]
     },
     "execution_count": 73,
     "metadata": {},
     "output_type": "execute_result"
    }
   ],
   "source": [
    "a = [10, 20, 30, 40, 50, 60]"
   ]
  },
  {
   "cell_type": "markdown",
   "metadata": {},
   "source": [
    "**Função `splice()`**\n",
    "```julia\n",
    "splice!(vetor, índice)\n",
    "splice!(vetor, faixa de índices)\n",
    "```\n",
    "Sendo:\n",
    "* **vetor**: vetor de dados;\n",
    "* **faixa**:"
   ]
  },
  {
   "cell_type": "markdown",
   "metadata": {},
   "source": [
    "Exemplo 1: o vetor [100, 1] é colocado no índice 2 do vetor \"a\". A função `splice()` retorna o elemento substituído. "
   ]
  },
  {
   "cell_type": "code",
   "execution_count": 74,
   "metadata": {},
   "outputs": [
    {
     "data": {
      "text/plain": [
       "20"
      ]
     },
     "execution_count": 74,
     "metadata": {},
     "output_type": "execute_result"
    }
   ],
   "source": [
    "splice!(a, 2, [100, 200])"
   ]
  },
  {
   "cell_type": "code",
   "execution_count": 75,
   "metadata": {
    "scrolled": true
   },
   "outputs": [
    {
     "data": {
      "text/plain": [
       "7-element Array{Int64,1}:\n",
       "  10\n",
       " 100\n",
       " 200\n",
       "  30\n",
       "  40\n",
       "  50\n",
       "  60"
      ]
     },
     "execution_count": 75,
     "metadata": {},
     "output_type": "execute_result"
    }
   ],
   "source": [
    "a"
   ]
  },
  {
   "cell_type": "markdown",
   "metadata": {},
   "source": [
    "Exemplo 2: substituir os elementos dos índices de 2 a 6 pelo vetor [500, -500]. A função `splice()` retorna os elementos substituídos. "
   ]
  },
  {
   "cell_type": "code",
   "execution_count": 76,
   "metadata": {},
   "outputs": [
    {
     "data": {
      "text/plain": [
       "5-element Array{Int64,1}:\n",
       " 100\n",
       " 200\n",
       "  30\n",
       "  40\n",
       "  50"
      ]
     },
     "execution_count": 76,
     "metadata": {},
     "output_type": "execute_result"
    }
   ],
   "source": [
    "splice!(a, 2:6, [500, -500])"
   ]
  },
  {
   "cell_type": "code",
   "execution_count": 77,
   "metadata": {
    "scrolled": true
   },
   "outputs": [
    {
     "data": {
      "text/plain": [
       "4-element Array{Int64,1}:\n",
       "   10\n",
       "  500\n",
       " -500\n",
       "   60"
      ]
     },
     "execution_count": 77,
     "metadata": {},
     "output_type": "execute_result"
    }
   ],
   "source": [
    "a"
   ]
  },
  {
   "cell_type": "markdown",
   "metadata": {},
   "source": [
    "**Função `resize!()`**\n",
    "\n",
    "Varia o tamanho do vetor para $n$ índices. Quando $n$ é maior que o tamanho do vetor, serão acrescentados números aleatórios, e quando $n$ é menor os itens dos índices superiores serão eliminados. `#undef` significa tipo indefinido\n",
    "```julia\n",
    "resize!(vetor, tamanho )\n",
    "```"
   ]
  },
  {
   "cell_type": "code",
   "execution_count": 78,
   "metadata": {},
   "outputs": [
    {
     "data": {
      "text/plain": [
       "4-element Array{Int64,1}:\n",
       " 10\n",
       " 20\n",
       " 30\n",
       " 40"
      ]
     },
     "execution_count": 78,
     "metadata": {},
     "output_type": "execute_result"
    }
   ],
   "source": [
    "a = [10, 20, 30, 40]"
   ]
  },
  {
   "cell_type": "code",
   "execution_count": 79,
   "metadata": {
    "scrolled": true
   },
   "outputs": [
    {
     "data": {
      "text/plain": [
       "2-element Array{Int64,1}:\n",
       " 10\n",
       " 20"
      ]
     },
     "execution_count": 79,
     "metadata": {},
     "output_type": "execute_result"
    }
   ],
   "source": [
    "# redimensiona o vetor \"a\" para um vetor de tamanho 2 \n",
    "resize!(a, 2)"
   ]
  },
  {
   "cell_type": "code",
   "execution_count": 80,
   "metadata": {},
   "outputs": [
    {
     "data": {
      "text/plain": [
       "2-element Array{Int64,1}:\n",
       " 10\n",
       " 20"
      ]
     },
     "execution_count": 80,
     "metadata": {},
     "output_type": "execute_result"
    }
   ],
   "source": [
    "a"
   ]
  },
  {
   "cell_type": "code",
   "execution_count": 81,
   "metadata": {},
   "outputs": [
    {
     "data": {
      "text/plain": [
       "5-element Array{Int64,1}:\n",
       "     10\n",
       "     20\n",
       " 569348\n",
       "      0\n",
       "      0"
      ]
     },
     "execution_count": 81,
     "metadata": {},
     "output_type": "execute_result"
    }
   ],
   "source": [
    "# redimensiona o vetor \"a\" aumentando seu tamanho para 5\n",
    "resize!(a, 5)"
   ]
  },
  {
   "cell_type": "markdown",
   "metadata": {},
   "source": [
    "**FILTRO APLICADO A VETORES**\n",
    "\n",
    "Aplica o filtro a um vetor e imprime somente os valores filtrados. Sintaxe:\n",
    "```julia\n",
    "vetor[vetor .operador valor]\n",
    "```\n",
    "Sendo: \n",
    "* **vetor**: vetor de dados;\n",
    "* **operador**: operador (>, <, & >=, <=, |, !, ==);\n",
    "* **valor**: valor de referência.\n",
    "\n",
    "O ponto \".\" antes do operador é necessário para comparar elemento por elemento."
   ]
  },
  {
   "cell_type": "code",
   "execution_count": 82,
   "metadata": {},
   "outputs": [],
   "source": [
    "# definir o vetor \n",
    "vet_num = collect(0:5);"
   ]
  },
  {
   "cell_type": "markdown",
   "metadata": {},
   "source": [
    "Exemplo 1: listar os numeros menores que 3."
   ]
  },
  {
   "cell_type": "code",
   "execution_count": 83,
   "metadata": {
    "scrolled": false
   },
   "outputs": [
    {
     "data": {
      "text/plain": [
       "2-element Array{Int64,1}:\n",
       " 4\n",
       " 5"
      ]
     },
     "execution_count": 83,
     "metadata": {},
     "output_type": "execute_result"
    }
   ],
   "source": [
    "vet_num[vet_num.> 3]"
   ]
  },
  {
   "cell_type": "markdown",
   "metadata": {},
   "source": [
    "Exemplo 2: listar numeros diferente de 3."
   ]
  },
  {
   "cell_type": "code",
   "execution_count": 84,
   "metadata": {},
   "outputs": [
    {
     "data": {
      "text/plain": [
       "5-element Array{Int64,1}:\n",
       " 0\n",
       " 1\n",
       " 2\n",
       " 4\n",
       " 5"
      ]
     },
     "execution_count": 84,
     "metadata": {},
     "output_type": "execute_result"
    }
   ],
   "source": [
    "vet_num[vet_num.!= 3]"
   ]
  },
  {
   "cell_type": "markdown",
   "metadata": {},
   "source": [
    "Exemplo 3: listar nomes diferentes de \"julia\"."
   ]
  },
  {
   "cell_type": "code",
   "execution_count": 85,
   "metadata": {
    "scrolled": false
   },
   "outputs": [
    {
     "data": {
      "text/plain": [
       "6-element Array{String,1}:\n",
       " \"julia\" \n",
       " \"sage\"  \n",
       " \"maxima\"\n",
       " \"julia\" \n",
       " \"scilab\"\n",
       " \"fremat\""
      ]
     },
     "execution_count": 85,
     "metadata": {},
     "output_type": "execute_result"
    }
   ],
   "source": [
    "vet_nomes = [\"julia\", \"sage\", \"maxima\", \"julia\", \"scilab\", \"fremat\"]"
   ]
  },
  {
   "cell_type": "code",
   "execution_count": 86,
   "metadata": {
    "scrolled": true
   },
   "outputs": [
    {
     "data": {
      "text/plain": [
       "4-element Array{String,1}:\n",
       " \"sage\"  \n",
       " \"maxima\"\n",
       " \"scilab\"\n",
       " \"fremat\""
      ]
     },
     "execution_count": 86,
     "metadata": {},
     "output_type": "execute_result"
    }
   ],
   "source": [
    "vet_nomes[vet_nomes.!= \"julia\"]"
   ]
  },
  {
   "cell_type": "markdown",
   "metadata": {},
   "source": [
    "Exemplo 5: listar nomes maiores que contenham letra superior a \"j\" da string \"julia."
   ]
  },
  {
   "cell_type": "code",
   "execution_count": 87,
   "metadata": {
    "scrolled": false
   },
   "outputs": [
    {
     "data": {
      "text/plain": [
       "3-element Array{String,1}:\n",
       " \"sage\"  \n",
       " \"maxima\"\n",
       " \"scilab\""
      ]
     },
     "execution_count": 87,
     "metadata": {},
     "output_type": "execute_result"
    }
   ],
   "source": [
    "vet_nomes[vet_nomes.> \"julia\"]"
   ]
  },
  {
   "cell_type": "markdown",
   "metadata": {},
   "source": [
    "Exemplo 6: listar nomes diferentes de \"julia\" **E** \"maxima\"."
   ]
  },
  {
   "cell_type": "code",
   "execution_count": 88,
   "metadata": {
    "scrolled": false
   },
   "outputs": [
    {
     "data": {
      "text/plain": [
       "3-element Array{String,1}:\n",
       " \"sage\"  \n",
       " \"scilab\"\n",
       " \"fremat\""
      ]
     },
     "execution_count": 88,
     "metadata": {},
     "output_type": "execute_result"
    }
   ],
   "source": [
    "vet_nomes[.&((vet_nomes.!= \"julia\"),(vet_nomes.!= \"maxima\"))]"
   ]
  },
  {
   "cell_type": "markdown",
   "metadata": {},
   "source": [
    "**PAR DE ELEMENTOS COM COM FUNÇÃO ZIP**\n",
    "\n",
    "A função `zip()` agrupa vários objetos em uma única estrutura."
   ]
  },
  {
   "cell_type": "code",
   "execution_count": 89,
   "metadata": {
    "scrolled": true
   },
   "outputs": [
    {
     "data": {
      "text/plain": [
       "Base.Iterators.Zip{Tuple{Array{Float64,1},Array{Int64,1},Array{Int64,1},Array{Complex{Int64},1},Array{String,1}}}(([8.4, 9.5, 10.6], [0, 1, 2], [0, 1, 2], Complex{Int64}[1 + 1im, 5 + 1im, 6 + 1im], [\"a\", \"b\", \"c\"]))"
      ]
     },
     "execution_count": 89,
     "metadata": {},
     "output_type": "execute_result"
    }
   ],
   "source": [
    "vet_1  = [8.4, 9.5, 10.6]\n",
    "vet_2  = [0, 1, 2]\n",
    "vet_3  = [1+im, 5+im, 6+im]\n",
    "vet_4  = [\"a\", \"b\", \"c\"]\n",
    "\n",
    "coisas_tipos = zip(vet_1, vet_2, vet_2, vet_3, vet_4 )"
   ]
  },
  {
   "cell_type": "code",
   "execution_count": 90,
   "metadata": {
    "scrolled": true
   },
   "outputs": [
    {
     "data": {
      "text/plain": [
       "Base.Iterators.Zip{Tuple{Array{Float64,1},Array{Int64,1},Array{Int64,1},Array{Complex{Int64},1},Array{String,1}}}"
      ]
     },
     "execution_count": 90,
     "metadata": {},
     "output_type": "execute_result"
    }
   ],
   "source": [
    "typeof(coisas_tipos)"
   ]
  },
  {
   "cell_type": "markdown",
   "metadata": {},
   "source": [
    "### ARRAY MULTIDIMENSIONAL / MATRIZES PARTE II"
   ]
  },
  {
   "cell_type": "markdown",
   "metadata": {},
   "source": [
    "**PREENCHIMENTO DE MATRIZES**"
   ]
  },
  {
   "cell_type": "markdown",
   "metadata": {},
   "source": [
    "**Função `fill()`**\n",
    "```julia\n",
    "fill(valor, mlinhas, ncolunas)\n",
    "```\n",
    "* **valor**: valor de referência. Pode ser um string, numérico, vetor, etc;\n",
    "* **mlinhas, ncolunas**: número de linhas e número de colunas."
   ]
  },
  {
   "cell_type": "code",
   "execution_count": 91,
   "metadata": {
    "scrolled": true
   },
   "outputs": [
    {
     "data": {
      "text/plain": [
       "3×3 Array{String,2}:\n",
       " \"Julia\"  \"Julia\"  \"Julia\"\n",
       " \"Julia\"  \"Julia\"  \"Julia\"\n",
       " \"Julia\"  \"Julia\"  \"Julia\""
      ]
     },
     "execution_count": 91,
     "metadata": {},
     "output_type": "execute_result"
    }
   ],
   "source": [
    "# Cria uma matriz 3x3 preenchendo (fill) de strings \"julia\"\n",
    "Mf1 = fill(\"Julia\", 3, 3)"
   ]
  },
  {
   "cell_type": "code",
   "execution_count": 92,
   "metadata": {
    "scrolled": false
   },
   "outputs": [
    {
     "data": {
      "text/plain": [
       "3×3 Array{Tuple{Int64,Int64,Int64},2}:\n",
       " (1, 2, 3)  (1, 2, 3)  (1, 2, 3)\n",
       " (1, 2, 3)  (1, 2, 3)  (1, 2, 3)\n",
       " (1, 2, 3)  (1, 2, 3)  (1, 2, 3)"
      ]
     },
     "execution_count": 92,
     "metadata": {},
     "output_type": "execute_result"
    }
   ],
   "source": [
    "# Cria uma matriz 3x3 preenchendo (fill) de tuplas (1,2,3)\n",
    "Mf2 = fill((1, 2, 3), 3, 3)"
   ]
  },
  {
   "cell_type": "markdown",
   "metadata": {},
   "source": [
    "**Função `repeat()`**\n",
    "\n",
    "Cria uma matriz repetindo a matriz `n x m` em `x linhas` e `y colunas`. \n",
    "```julia\n",
    "repeat(matriz, mlinhas, ncolunas)\n",
    "```\n",
    "Sendo:\n",
    "* **matriz**: matriz de dados;\n",
    "\n",
    "* **mlinhas, ncolunas**: quantidade de repetições para m linhas e n colunas."
   ]
  },
  {
   "cell_type": "code",
   "execution_count": 93,
   "metadata": {
    "scrolled": true
   },
   "outputs": [
    {
     "data": {
      "text/plain": [
       "2×2 Array{Int64,2}:\n",
       " 1  2\n",
       " 3  4"
      ]
     },
     "execution_count": 93,
     "metadata": {},
     "output_type": "execute_result"
    }
   ],
   "source": [
    "A = [1 2; 3 4]"
   ]
  },
  {
   "cell_type": "code",
   "execution_count": 94,
   "metadata": {
    "scrolled": false
   },
   "outputs": [
    {
     "data": {
      "text/plain": [
       "4×6 Array{Int64,2}:\n",
       " 1  2  1  2  1  2\n",
       " 3  4  3  4  3  4\n",
       " 1  2  1  2  1  2\n",
       " 3  4  3  4  3  4"
      ]
     },
     "execution_count": 94,
     "metadata": {},
     "output_type": "execute_result"
    }
   ],
   "source": [
    "# a função abaixo cria uma matriz repetindo a matriz 2x2 em 2 linhas e 3 colunas\n",
    "repeat(A, 2, 3)"
   ]
  },
  {
   "cell_type": "markdown",
   "metadata": {},
   "source": [
    "**Função `reshape()`**\n",
    "\n",
    "Cria uma matriz com $x \\cdot y$ elementos utilizando um vetor (pode ser também range, rand e outros). Sintaxe:\n",
    "```julia\n",
    "reshape(vetor, mlinhas, ncolunas)\n",
    "```\n",
    "Sendo:\n",
    "* **vetor**: vetor de dados;\n",
    "* **mlinhas, ncolunas**: número de linhas e colunas da matriz."
   ]
  },
  {
   "cell_type": "markdown",
   "metadata": {},
   "source": [
    "Exemplo: a função abaixo cria uma matriz de 5 linhas e 3 colunas a partir de um vetor de 15 elementos"
   ]
  },
  {
   "cell_type": "code",
   "execution_count": 95,
   "metadata": {
    "scrolled": true
   },
   "outputs": [
    {
     "data": {
      "text/plain": [
       "5×3 reshape(::UnitRange{Int64}, 5, 3) with eltype Int64:\n",
       " 1   6  11\n",
       " 2   7  12\n",
       " 3   8  13\n",
       " 4   9  14\n",
       " 5  10  15"
      ]
     },
     "execution_count": 95,
     "metadata": {},
     "output_type": "execute_result"
    }
   ],
   "source": [
    "reshape(1:15, 5, 3)"
   ]
  },
  {
   "cell_type": "markdown",
   "metadata": {},
   "source": [
    "**Função `repeat()`**\n",
    "\n",
    "Repete os elementos na forma interna(`inner`) ou externa(`outer`). Interna ocorre a repet\n",
    "```julia\n",
    "repeat(matriz, inner = (mlinhas, ncolunas))\n",
    "repeat(matriz, outer = (mlinhas, ncolunas))\n",
    "repeat(matriz, inner = (mlinhas, ncolunas), outer = (mlinhas, ncolunas))\n",
    "```\n",
    "Sendo:\n",
    "* **matriz**: matriz de dados;\n",
    "* **mlinhas, ncolunas**: "
   ]
  },
  {
   "cell_type": "code",
   "execution_count": 96,
   "metadata": {},
   "outputs": [
    {
     "data": {
      "text/plain": [
       "2×2 Array{Int64,2}:\n",
       " 1  2\n",
       " 3  4"
      ]
     },
     "execution_count": 96,
     "metadata": {},
     "output_type": "execute_result"
    }
   ],
   "source": [
    "A = [1 2; 3 4]"
   ]
  },
  {
   "cell_type": "code",
   "execution_count": 97,
   "metadata": {},
   "outputs": [
    {
     "data": {
      "text/plain": [
       "6×4 Array{Int64,2}:\n",
       " 1  2  1  2\n",
       " 3  4  3  4\n",
       " 1  2  1  2\n",
       " 3  4  3  4\n",
       " 1  2  1  2\n",
       " 3  4  3  4"
      ]
     },
     "execution_count": 97,
     "metadata": {},
     "output_type": "execute_result"
    }
   ],
   "source": [
    "repeat(A, outer = (3 , 2) )"
   ]
  },
  {
   "cell_type": "code",
   "execution_count": 98,
   "metadata": {
    "scrolled": true
   },
   "outputs": [
    {
     "data": {
      "text/plain": [
       "6×4 Array{Int64,2}:\n",
       " 1  1  2  2\n",
       " 1  1  2  2\n",
       " 1  1  2  2\n",
       " 3  3  4  4\n",
       " 3  3  4  4\n",
       " 3  3  4  4"
      ]
     },
     "execution_count": 98,
     "metadata": {},
     "output_type": "execute_result"
    }
   ],
   "source": [
    "repeat(A, inner = (3 , 2))"
   ]
  },
  {
   "cell_type": "markdown",
   "metadata": {},
   "source": [
    "**FILTRO APLICADO A MATRIZES**\n",
    "\n",
    "Aplica o filtro a uma matriz e imprime somente os valores filtrados. Sintaxe:\n",
    "```julia\n",
    "matriz[matriz .operador valor]\n",
    "```\n",
    "Sendo: \n",
    "* **matriz**: matriz de dados;\n",
    "* **operador**: operador (>, <, & >=, <=, |, !, ==);\n",
    "* **valor**: valor de referência.\n",
    "\n",
    "O ponto \".\" antes do operador é necessário para comparar elemento por elemento."
   ]
  },
  {
   "cell_type": "code",
   "execution_count": 99,
   "metadata": {
    "scrolled": false
   },
   "outputs": [
    {
     "data": {
      "text/plain": [
       "3×3 Array{Int64,2}:\n",
       " 2  4  6\n",
       " 3  5  7\n",
       " 4  6  8"
      ]
     },
     "execution_count": 99,
     "metadata": {},
     "output_type": "execute_result"
    }
   ],
   "source": [
    "# criar uma matriz \n",
    "mat_num = [x + 2*y - 1 for x = 1:3, y = 1:3]"
   ]
  },
  {
   "cell_type": "markdown",
   "metadata": {},
   "source": [
    "Exemplo 1: listar os numeros maiores ou iguais a 5. O ponto \".\" antes do operador \">=\" é necessário para comparar elemento por elemento."
   ]
  },
  {
   "cell_type": "code",
   "execution_count": 100,
   "metadata": {
    "scrolled": false
   },
   "outputs": [
    {
     "data": {
      "text/plain": [
       "5-element Array{Int64,1}:\n",
       " 5\n",
       " 6\n",
       " 6\n",
       " 7\n",
       " 8"
      ]
     },
     "execution_count": 100,
     "metadata": {},
     "output_type": "execute_result"
    }
   ],
   "source": [
    "mat_num[mat_num .>= 5]"
   ]
  },
  {
   "cell_type": "markdown",
   "metadata": {},
   "source": [
    "Observe que é listado elementos repetidos. Se for um problema, a função `unique()` retira os elementos repetidos."
   ]
  },
  {
   "cell_type": "code",
   "execution_count": 101,
   "metadata": {
    "scrolled": true
   },
   "outputs": [
    {
     "data": {
      "text/plain": [
       "4-element Array{Int64,1}:\n",
       " 5\n",
       " 6\n",
       " 7\n",
       " 8"
      ]
     },
     "execution_count": 101,
     "metadata": {},
     "output_type": "execute_result"
    }
   ],
   "source": [
    "unique(mat_num[mat_num .>= 5])"
   ]
  },
  {
   "cell_type": "markdown",
   "metadata": {},
   "source": [
    "Exemplo 2: listar os elementos maiores ou igual a 5 **E** menores ou igual a 7. O ponto \".\" antes dos operadores \"$\", \">\" e \"<=\", é necessário para comparar elemento por elemento."
   ]
  },
  {
   "cell_type": "code",
   "execution_count": 102,
   "metadata": {
    "scrolled": true
   },
   "outputs": [
    {
     "data": {
      "text/plain": [
       "4-element Array{Int64,1}:\n",
       " 5\n",
       " 6\n",
       " 6\n",
       " 7"
      ]
     },
     "execution_count": 102,
     "metadata": {},
     "output_type": "execute_result"
    }
   ],
   "source": [
    "mat_num[.&((mat_num.>= 5),(mat_num.<= 7))]"
   ]
  },
  {
   "cell_type": "markdown",
   "metadata": {},
   "source": [
    "Exemplo 3: listar os elementos menores que 3 **OU** maiores que 8. O ponto \".\" antes dos operadores \"|\", \"<\" e \">\", é necessário para comparar elemento por elemento."
   ]
  },
  {
   "cell_type": "code",
   "execution_count": 103,
   "metadata": {},
   "outputs": [
    {
     "data": {
      "text/plain": [
       "4-element Array{Int64,1}:\n",
       " 2\n",
       " 3\n",
       " 4\n",
       " 4"
      ]
     },
     "execution_count": 103,
     "metadata": {},
     "output_type": "execute_result"
    }
   ],
   "source": [
    "mat_num[.|((mat_num.< 5),(mat_num.> 8))]"
   ]
  },
  {
   "cell_type": "markdown",
   "metadata": {},
   "source": [
    "### COMBINAÇÃO E PERMUTAÇÃO DE ELEMENTOS\n",
    "\n",
    "**Combinação**: O número de combinações de $n$ objetos tomados $p$ a $p$, representado por $C_{n,p}$ é dado por:. \n",
    "\n",
    "$\\displaystyle{C_{n,p} = \\frac{n!}{(n - p)!p!}}$\n",
    "\n",
    "Na combinação não importa a ordem dos elementos. Sintaxe:\n",
    "```julia\n",
    "collect(combinations(n, p))\n",
    "```\n",
    "Sendo: \n",
    "* **n**: vetor, matriz ou tupla não nomeada de elementos;\n",
    "* **p**: número de elementos selecionados. \n",
    "\n",
    "**Permutação**: O número de permutações de $n$ objetos tomados $p$ a $p$ é representado por $P_{n,p}$ é dado por:\n",
    " \n",
    "$\\displaystyle{P_{n,p} = \\frac{n!}{(n - p)!}}$\n",
    "\n",
    "Na permutação a ordem dos elementos importa. Sintaxe:\n",
    "```julia\n",
    "collect(permutations(n, p))\n",
    "```\n",
    "Sendo: \n",
    "* **n**: vetor, matriz ou tupla não nomeada de elementos;\n",
    "* **p**: número de elementos selecionados.\n",
    "\n",
    "Em Julia 0.5 ou superior a função `combinations()` pertence ao pacote `Combinatorics.jl`. Para instalar utilize:\n",
    "```julia\n",
    "using Pkg\n",
    "Pkg.add(\"Combinatorics\")\n",
    "```"
   ]
  },
  {
   "cell_type": "code",
   "execution_count": 104,
   "metadata": {},
   "outputs": [],
   "source": [
    "using Combinatorics"
   ]
  },
  {
   "cell_type": "code",
   "execution_count": 105,
   "metadata": {},
   "outputs": [],
   "source": [
    "vetor = [1, 2, 4, 4];"
   ]
  },
  {
   "cell_type": "code",
   "execution_count": 106,
   "metadata": {
    "scrolled": true
   },
   "outputs": [
    {
     "data": {
      "text/plain": [
       "12-element Array{Array{Int64,1},1}:\n",
       " [1, 2]\n",
       " [1, 4]\n",
       " [1, 4]\n",
       " [2, 1]\n",
       " [2, 4]\n",
       " [2, 4]\n",
       " [4, 1]\n",
       " [4, 2]\n",
       " [4, 4]\n",
       " [4, 1]\n",
       " [4, 2]\n",
       " [4, 4]"
      ]
     },
     "execution_count": 106,
     "metadata": {},
     "output_type": "execute_result"
    }
   ],
   "source": [
    "# permutação P_4,2\n",
    "collect(permutations(vetor, 2))"
   ]
  },
  {
   "cell_type": "markdown",
   "metadata": {},
   "source": [
    "Note que há elementos repetidos. Para filtrar use a função `unique!()`:"
   ]
  },
  {
   "cell_type": "code",
   "execution_count": 107,
   "metadata": {},
   "outputs": [
    {
     "data": {
      "text/plain": [
       "7-element Array{Array{Int64,1},1}:\n",
       " [1, 2]\n",
       " [1, 4]\n",
       " [2, 1]\n",
       " [2, 4]\n",
       " [4, 1]\n",
       " [4, 2]\n",
       " [4, 4]"
      ]
     },
     "execution_count": 107,
     "metadata": {},
     "output_type": "execute_result"
    }
   ],
   "source": [
    "# permutação P_4,2\n",
    "unique!(collect(permutations(vetor, 2)))"
   ]
  },
  {
   "cell_type": "code",
   "execution_count": 108,
   "metadata": {
    "scrolled": false
   },
   "outputs": [
    {
     "data": {
      "text/plain": [
       "6-element Array{Array{Int64,1},1}:\n",
       " [1, 2]\n",
       " [1, 4]\n",
       " [1, 4]\n",
       " [2, 4]\n",
       " [2, 4]\n",
       " [4, 4]"
      ]
     },
     "execution_count": 108,
     "metadata": {},
     "output_type": "execute_result"
    }
   ],
   "source": [
    "# combinação C_4,2\n",
    "collect(combinations(vetor, 2))"
   ]
  },
  {
   "cell_type": "markdown",
   "metadata": {},
   "source": [
    "Note que há elementos repetidos. Para filtrar use a função `unique!()`:"
   ]
  },
  {
   "cell_type": "code",
   "execution_count": 109,
   "metadata": {},
   "outputs": [
    {
     "data": {
      "text/plain": [
       "4-element Array{Array{Int64,1},1}:\n",
       " [1, 2]\n",
       " [1, 4]\n",
       " [2, 4]\n",
       " [4, 4]"
      ]
     },
     "execution_count": 109,
     "metadata": {},
     "output_type": "execute_result"
    }
   ],
   "source": [
    "unique!(collect(combinations(vetor, 2)))"
   ]
  },
  {
   "cell_type": "code",
   "execution_count": 110,
   "metadata": {},
   "outputs": [
    {
     "data": {
      "text/plain": [
       "12-element Array{Array{Int64,1},1}:\n",
       " [1, 2, 4]\n",
       " [1, 4, 2]\n",
       " [1, 4, 4]\n",
       " [2, 1, 4]\n",
       " [2, 4, 1]\n",
       " [2, 4, 4]\n",
       " [4, 1, 2]\n",
       " [4, 1, 4]\n",
       " [4, 2, 1]\n",
       " [4, 2, 4]\n",
       " [4, 4, 1]\n",
       " [4, 4, 2]"
      ]
     },
     "execution_count": 110,
     "metadata": {},
     "output_type": "execute_result"
    }
   ],
   "source": [
    "# permutação P_4,3\n",
    "unique!(collect(permutations(vetor, 3)))"
   ]
  },
  {
   "cell_type": "code",
   "execution_count": 111,
   "metadata": {
    "scrolled": true
   },
   "outputs": [
    {
     "data": {
      "text/plain": [
       "3-element Array{Array{Int64,1},1}:\n",
       " [1, 2, 4]\n",
       " [1, 4, 4]\n",
       " [2, 4, 4]"
      ]
     },
     "execution_count": 111,
     "metadata": {},
     "output_type": "execute_result"
    }
   ],
   "source": [
    "# combinação C_4,3\n",
    "unique!(collect(combinations(vetor, 3)))"
   ]
  },
  {
   "cell_type": "markdown",
   "metadata": {},
   "source": [
    "## TIPOS DEFINIDOS PELO PROGRAMADOR##"
   ]
  },
  {
   "cell_type": "code",
   "execution_count": 112,
   "metadata": {},
   "outputs": [],
   "source": [
    "mutable struct Amostra\n",
    "    material  ::AbstractString\n",
    "    massa     ::Float64 # kg\n",
    "    volume    ::Float64 # m^3\n",
    "end"
   ]
  },
  {
   "cell_type": "code",
   "execution_count": 113,
   "metadata": {
    "scrolled": true
   },
   "outputs": [
    {
     "data": {
      "text/plain": [
       "DataType"
      ]
     },
     "execution_count": 113,
     "metadata": {},
     "output_type": "execute_result"
    }
   ],
   "source": [
    "typeof(Amostra)"
   ]
  },
  {
   "cell_type": "code",
   "execution_count": 114,
   "metadata": {},
   "outputs": [
    {
     "data": {
      "text/plain": [
       "Amostra(\"isopor\", 0.001, 0.0001)"
      ]
     },
     "execution_count": 114,
     "metadata": {},
     "output_type": "execute_result"
    }
   ],
   "source": [
    "# criar um elemento do tipo amostra\n",
    "objeto1 = Amostra(\"isopor\", 0.001, 0.0001)"
   ]
  },
  {
   "cell_type": "code",
   "execution_count": 115,
   "metadata": {},
   "outputs": [
    {
     "data": {
      "text/plain": [
       "Amostra"
      ]
     },
     "execution_count": 115,
     "metadata": {},
     "output_type": "execute_result"
    }
   ],
   "source": [
    "# conferir tipo\n",
    "typeof(objeto1)"
   ]
  },
  {
   "cell_type": "code",
   "execution_count": 116,
   "metadata": {},
   "outputs": [
    {
     "data": {
      "text/plain": [
       "(:material, :massa, :volume)"
      ]
     },
     "execution_count": 116,
     "metadata": {},
     "output_type": "execute_result"
    }
   ],
   "source": [
    "# conferir campos\n",
    "fieldnames(Amostra)"
   ]
  },
  {
   "cell_type": "code",
   "execution_count": 117,
   "metadata": {
    "scrolled": true
   },
   "outputs": [
    {
     "data": {
      "text/plain": [
       "(0.001, \"isopor\")"
      ]
     },
     "execution_count": 117,
     "metadata": {},
     "output_type": "execute_result"
    }
   ],
   "source": [
    "# conferir atributos do elemento criado\n",
    "objeto1.massa, objeto1.material"
   ]
  },
  {
   "cell_type": "code",
   "execution_count": 118,
   "metadata": {},
   "outputs": [
    {
     "data": {
      "text/plain": [
       "0.002"
      ]
     },
     "execution_count": 118,
     "metadata": {},
     "output_type": "execute_result"
    }
   ],
   "source": [
    "# alterar valor atributo massa\n",
    "objeto1.massa = 0.002"
   ]
  },
  {
   "cell_type": "markdown",
   "metadata": {
    "collapsed": true
   },
   "source": [
    "**%%% Fim Tipos de Dados %%%**"
   ]
  }
 ],
 "metadata": {
  "@webio": {
   "lastCommId": null,
   "lastKernelId": null
  },
  "anaconda-cloud": {},
  "kernelspec": {
   "display_name": "Julia 1.2.0",
   "language": "julia",
   "name": "julia-1.2"
  },
  "language_info": {
   "file_extension": ".jl",
   "mimetype": "application/julia",
   "name": "julia",
   "version": "1.2.0"
  }
 },
 "nbformat": 4,
 "nbformat_minor": 1
}
