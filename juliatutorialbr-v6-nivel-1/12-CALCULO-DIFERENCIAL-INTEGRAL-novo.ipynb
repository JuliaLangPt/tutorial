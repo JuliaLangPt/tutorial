{
 "cells": [
  {
   "cell_type": "markdown",
   "metadata": {},
   "source": [
    "# CALCULO INTEGRAL E DIFERENCIAL"
   ]
  },
  {
   "cell_type": "markdown",
   "metadata": {},
   "source": [
    "Esta capítulo aborda as funções básicas do cálculo diferencial e integral, como limites, derivadas e integrais de forma simbólica e numérica. Serão utilizado os pacotes a seguir:\n",
    "\n",
    "* **SymPy.jl**\n",
    "\n",
    "O pacote `SymPy.jl` é uma biblioteca `Python` para matemática simbólica utilizado na linguagem `Julia` via pacote `PyCall.jl`. Para instalar o pacote use:\n",
    "```julia\n",
    "using Pkg\n",
    "Pkg.add(\"SymPy\")\n",
    "\n",
    "```\n",
    "* **HCubature.jl**\n",
    "\n",
    "O pacote `HCubature` é uma implementação dos a de integração multidimensional \"h-adaptativa\" totalmente escrita em Julia. O algoritmo de `hquadrature` é baseado no algoritmo descrito no trabalho de A. C. Genz and A. A. Malik, \"An adaptive algorithm for numeric integration over an N-dimensional rectangular region\". Doi: https://doi.org/10.1016/0771-050X(80)90039-X . Isto é, dada uma integral n-dimensional. O `HCubature.jl` foi escrito por Steven G. Johnson e é um software livre e de código aberto sob a licença MIT. Para instalar o pacote use:\n",
    "```julia\n",
    "using Pkg\n",
    "Pkg.add(\"HCubature\")\n",
    "\n",
    "```\n",
    "* **QuadGK.jl**\n",
    "\n",
    "Este pacote fornece suporte para integração numérica unidimensional usando a quadratura adaptável de Gauss-Kronrod. O pacote oferece três funções: `quadgk()`, `gauss()` e `kronrod()`. Para instalar o pacote use:\n",
    "```julia\n",
    "using Pkg\n",
    "Pkg.add(\"QuadGK\")\n",
    "\n",
    "```\n",
    "\n",
    "* **Polynomials.jl**\n",
    "\n",
    "É um pacote exclusivo para manipulação de polinômios. Permite operações de aritmética básica, integração, diferenciação, avaliação e determinação de raizes em polinômios. Para instalar o pacote use:\n",
    "```julia\n",
    "using Pkg\n",
    "Pkg.add(\"Polynomials\")\n",
    "\n",
    "```\n",
    "\n",
    "* **Calculus.jl**\n",
    "\n",
    "O pacote ```Calculus.jl``` fornece ferramentas para trabalhar com as operações básicas de cálculo de diferenciação e integração. Você pode usar o pacote ```Calculus.jl``` para produzir derivadas aproximadas por várias formas de diferenciação finita ou para produzir uma derivada exata usando diferenciação simbólica. Você também pode computar integrais definidas por diferentes métodos numéricos. Para instalar o pacote use:\n",
    "```julia\n",
    "using Pkg\n",
    "Pkg.add(\"Calculus\")\n",
    "\n",
    "```\n",
    "\n",
    "**Nota:** Alguns módulos importados definem funções com o mesmo nome, por isso é necessário qualificá-las, isto é, dizer de qual módulo vamos usar. Por exemplo: `SymPy.integrate`."
   ]
  },
  {
   "cell_type": "markdown",
   "metadata": {},
   "source": [
    "## LIMITES\n",
    "\n",
    "De acordo com a definição, Downing (2009) descreve que:\n",
    ">O limite de uma função é o valor que a variável dependente se aproxima à medida que a variável independente se \n",
    ">aproxima de algum valor fixo. A expressão algébrica algébrica “O limite\n",
    "> de f (x) quando x se aproxima de a ” é escrito como:\n",
    ">\n",
    "> $$~\\displaystyle \\lim_{x\\rightarrow a}{f(x)} = L ~$$"
   ]
  },
  {
   "cell_type": "markdown",
   "metadata": {},
   "source": [
    "### LIMITE SIMBÓLICO\n",
    "\n",
    "O pacote `SymPy.jl` possui a função `limit()` que pode calcular limites simbólicos de acordo com a sintaxe: \n",
    "```julia\n",
    "limit(f(x), var, constante, \"+\" / \"-\")\n",
    "```\n",
    "Sendo:\n",
    "* **f(x)**: função matemática $f(x)$ expressa como uma expressão algébrica simbólica ou uma função genérica;\n",
    "* **var**: variável de $f(x)$;\n",
    "* **constante**: valor da constante; \n",
    "* **\"+\" / \"-\"**: limite direita (\"+\") ou esquerda (\"-\")."
   ]
  },
  {
   "cell_type": "markdown",
   "metadata": {},
   "source": [
    "Exemplo: Calcular o limite $ \\displaystyle \\lim_{x\\rightarrow 1}{(x - 1)^2\\over{(x - 1)} }$"
   ]
  },
  {
   "cell_type": "code",
   "execution_count": 1,
   "metadata": {
    "scrolled": false
   },
   "outputs": [
    {
     "data": {
      "text/plain": [
       "(x, y)"
      ]
     },
     "execution_count": 1,
     "metadata": {},
     "output_type": "execute_result"
    }
   ],
   "source": [
    "using SymPy\n",
    "@syms x y"
   ]
  },
  {
   "cell_type": "code",
   "execution_count": 2,
   "metadata": {
    "scrolled": true
   },
   "outputs": [
    {
     "data": {
      "text/latex": [
       "\\begin{equation*}0\\end{equation*}"
      ],
      "text/plain": [
       "0"
      ]
     },
     "execution_count": 2,
     "metadata": {},
     "output_type": "execute_result"
    }
   ],
   "source": [
    "limit((x-1)^2 / (x-1), x, 1) "
   ]
  },
  {
   "cell_type": "markdown",
   "metadata": {},
   "source": [
    "Ou ainda"
   ]
  },
  {
   "cell_type": "code",
   "execution_count": 3,
   "metadata": {},
   "outputs": [
    {
     "data": {
      "text/plain": [
       "f1 (generic function with 1 method)"
      ]
     },
     "execution_count": 3,
     "metadata": {},
     "output_type": "execute_result"
    }
   ],
   "source": [
    "f1(x) = (x-1)^2 / (x - 1)"
   ]
  },
  {
   "cell_type": "code",
   "execution_count": 4,
   "metadata": {
    "scrolled": true
   },
   "outputs": [
    {
     "data": {
      "text/latex": [
       "\\begin{equation*}0\\end{equation*}"
      ],
      "text/plain": [
       "0"
      ]
     },
     "execution_count": 4,
     "metadata": {},
     "output_type": "execute_result"
    }
   ],
   "source": [
    "limit(f1(x), x, 1)"
   ]
  },
  {
   "cell_type": "markdown",
   "metadata": {},
   "source": [
    "#### LIMITE DE FUNÇÕES MATEMÁTICAS DE VÁRIAS VARIÁVEIS\n",
    "\n",
    "Exemplo: Calcular o limite: $ \\displaystyle \\lim_{x\\rightarrow 1, y\\rightarrow 1}{xy - 2x + y }$"
   ]
  },
  {
   "cell_type": "code",
   "execution_count": 5,
   "metadata": {
    "scrolled": false
   },
   "outputs": [
    {
     "data": {
      "text/plain": [
       "f2 (generic function with 1 method)"
      ]
     },
     "execution_count": 5,
     "metadata": {},
     "output_type": "execute_result"
    }
   ],
   "source": [
    "f2(x, y) = x*y - 2*x + y"
   ]
  },
  {
   "cell_type": "code",
   "execution_count": 6,
   "metadata": {
    "scrolled": true
   },
   "outputs": [
    {
     "data": {
      "text/latex": [
       "\\begin{equation*}0\\end{equation*}"
      ],
      "text/plain": [
       "0"
      ]
     },
     "execution_count": 6,
     "metadata": {},
     "output_type": "execute_result"
    }
   ],
   "source": [
    "limit(limit(f2(x,y), x, 1), y, 1)"
   ]
  },
  {
   "cell_type": "markdown",
   "metadata": {},
   "source": [
    "#### LIMITE SIMBÓLICO INFINITO"
   ]
  },
  {
   "cell_type": "markdown",
   "metadata": {},
   "source": [
    "$ \\displaystyle \\lim_{x\\rightarrow \\infty}{1 \\over x^2 }$ e $ \\displaystyle \\lim_{x\\rightarrow - \\infty}{1 \\over x^2 }$ "
   ]
  },
  {
   "cell_type": "code",
   "execution_count": 7,
   "metadata": {},
   "outputs": [
    {
     "data": {
      "image/svg+xml": [
       "<?xml version=\"1.0\" encoding=\"utf-8\"?>\n",
       "<svg xmlns=\"http://www.w3.org/2000/svg\" xmlns:xlink=\"http://www.w3.org/1999/xlink\" width=\"400\" height=\"300\" viewBox=\"0 0 1600 1200\">\n",
       "<defs>\n",
       "  <clipPath id=\"clip9800\">\n",
       "    <rect x=\"0\" y=\"0\" width=\"1600\" height=\"1200\"/>\n",
       "  </clipPath>\n",
       "</defs>\n",
       "<path clip-path=\"url(#clip9800)\" d=\"\n",
       "M0 1200 L1600 1200 L1600 0 L0 0  Z\n",
       "  \" fill=\"#ffffff\" fill-rule=\"evenodd\" fill-opacity=\"1\"/>\n",
       "<defs>\n",
       "  <clipPath id=\"clip9801\">\n",
       "    <rect x=\"320\" y=\"0\" width=\"1121\" height=\"1121\"/>\n",
       "  </clipPath>\n",
       "</defs>\n",
       "<path clip-path=\"url(#clip9800)\" d=\"\n",
       "M229.135 1025.62 L1552.76 1025.62 L1552.76 47.2441 L229.135 47.2441  Z\n",
       "  \" fill=\"#ffffff\" fill-rule=\"evenodd\" fill-opacity=\"1\"/>\n",
       "<defs>\n",
       "  <clipPath id=\"clip9802\">\n",
       "    <rect x=\"229\" y=\"47\" width=\"1325\" height=\"979\"/>\n",
       "  </clipPath>\n",
       "</defs>\n",
       "<polyline clip-path=\"url(#clip9802)\" style=\"stroke:#000000; stroke-width:2; stroke-opacity:0.1; fill:none\" points=\"\n",
       "  391.466,1025.62 391.466,47.2441 \n",
       "  \"/>\n",
       "<polyline clip-path=\"url(#clip9802)\" style=\"stroke:#000000; stroke-width:2; stroke-opacity:0.1; fill:none\" points=\"\n",
       "  641.206,1025.62 641.206,47.2441 \n",
       "  \"/>\n",
       "<polyline clip-path=\"url(#clip9802)\" style=\"stroke:#000000; stroke-width:2; stroke-opacity:0.1; fill:none\" points=\"\n",
       "  890.946,1025.62 890.946,47.2441 \n",
       "  \"/>\n",
       "<polyline clip-path=\"url(#clip9802)\" style=\"stroke:#000000; stroke-width:2; stroke-opacity:0.1; fill:none\" points=\"\n",
       "  1140.69,1025.62 1140.69,47.2441 \n",
       "  \"/>\n",
       "<polyline clip-path=\"url(#clip9802)\" style=\"stroke:#000000; stroke-width:2; stroke-opacity:0.1; fill:none\" points=\"\n",
       "  1390.43,1025.62 1390.43,47.2441 \n",
       "  \"/>\n",
       "<polyline clip-path=\"url(#clip9802)\" style=\"stroke:#000000; stroke-width:2; stroke-opacity:0.1; fill:none\" points=\"\n",
       "  229.135,998.298 1552.76,998.298 \n",
       "  \"/>\n",
       "<polyline clip-path=\"url(#clip9802)\" style=\"stroke:#000000; stroke-width:2; stroke-opacity:0.1; fill:none\" points=\"\n",
       "  229.135,767.457 1552.76,767.457 \n",
       "  \"/>\n",
       "<polyline clip-path=\"url(#clip9802)\" style=\"stroke:#000000; stroke-width:2; stroke-opacity:0.1; fill:none\" points=\"\n",
       "  229.135,536.616 1552.76,536.616 \n",
       "  \"/>\n",
       "<polyline clip-path=\"url(#clip9802)\" style=\"stroke:#000000; stroke-width:2; stroke-opacity:0.1; fill:none\" points=\"\n",
       "  229.135,305.775 1552.76,305.775 \n",
       "  \"/>\n",
       "<polyline clip-path=\"url(#clip9802)\" style=\"stroke:#000000; stroke-width:2; stroke-opacity:0.1; fill:none\" points=\"\n",
       "  229.135,74.9339 1552.76,74.9339 \n",
       "  \"/>\n",
       "<polyline clip-path=\"url(#clip9800)\" style=\"stroke:#000000; stroke-width:4; stroke-opacity:1; fill:none\" points=\"\n",
       "  229.135,1025.62 1552.76,1025.62 \n",
       "  \"/>\n",
       "<polyline clip-path=\"url(#clip9800)\" style=\"stroke:#000000; stroke-width:4; stroke-opacity:1; fill:none\" points=\"\n",
       "  229.135,1025.62 229.135,47.2441 \n",
       "  \"/>\n",
       "<polyline clip-path=\"url(#clip9800)\" style=\"stroke:#000000; stroke-width:4; stroke-opacity:1; fill:none\" points=\"\n",
       "  391.466,1025.62 391.466,1010.94 \n",
       "  \"/>\n",
       "<polyline clip-path=\"url(#clip9800)\" style=\"stroke:#000000; stroke-width:4; stroke-opacity:1; fill:none\" points=\"\n",
       "  641.206,1025.62 641.206,1010.94 \n",
       "  \"/>\n",
       "<polyline clip-path=\"url(#clip9800)\" style=\"stroke:#000000; stroke-width:4; stroke-opacity:1; fill:none\" points=\"\n",
       "  890.946,1025.62 890.946,1010.94 \n",
       "  \"/>\n",
       "<polyline clip-path=\"url(#clip9800)\" style=\"stroke:#000000; stroke-width:4; stroke-opacity:1; fill:none\" points=\"\n",
       "  1140.69,1025.62 1140.69,1010.94 \n",
       "  \"/>\n",
       "<polyline clip-path=\"url(#clip9800)\" style=\"stroke:#000000; stroke-width:4; stroke-opacity:1; fill:none\" points=\"\n",
       "  1390.43,1025.62 1390.43,1010.94 \n",
       "  \"/>\n",
       "<polyline clip-path=\"url(#clip9800)\" style=\"stroke:#000000; stroke-width:4; stroke-opacity:1; fill:none\" points=\"\n",
       "  229.135,998.298 248.99,998.298 \n",
       "  \"/>\n",
       "<polyline clip-path=\"url(#clip9800)\" style=\"stroke:#000000; stroke-width:4; stroke-opacity:1; fill:none\" points=\"\n",
       "  229.135,767.457 248.99,767.457 \n",
       "  \"/>\n",
       "<polyline clip-path=\"url(#clip9800)\" style=\"stroke:#000000; stroke-width:4; stroke-opacity:1; fill:none\" points=\"\n",
       "  229.135,536.616 248.99,536.616 \n",
       "  \"/>\n",
       "<polyline clip-path=\"url(#clip9800)\" style=\"stroke:#000000; stroke-width:4; stroke-opacity:1; fill:none\" points=\"\n",
       "  229.135,305.775 248.99,305.775 \n",
       "  \"/>\n",
       "<polyline clip-path=\"url(#clip9800)\" style=\"stroke:#000000; stroke-width:4; stroke-opacity:1; fill:none\" points=\"\n",
       "  229.135,74.9339 248.99,74.9339 \n",
       "  \"/>\n",
       "<g clip-path=\"url(#clip9800)\">\n",
       "<text style=\"fill:#000000; fill-opacity:1; font-family:Arial,Helvetica Neue,Helvetica,sans-serif; font-size:48px; text-anchor:middle;\" transform=\"rotate(0, 391.466, 1075.62)\" x=\"391.466\" y=\"1075.62\">-4</text>\n",
       "</g>\n",
       "<g clip-path=\"url(#clip9800)\">\n",
       "<text style=\"fill:#000000; fill-opacity:1; font-family:Arial,Helvetica Neue,Helvetica,sans-serif; font-size:48px; text-anchor:middle;\" transform=\"rotate(0, 641.206, 1075.62)\" x=\"641.206\" y=\"1075.62\">-2</text>\n",
       "</g>\n",
       "<g clip-path=\"url(#clip9800)\">\n",
       "<text style=\"fill:#000000; fill-opacity:1; font-family:Arial,Helvetica Neue,Helvetica,sans-serif; font-size:48px; text-anchor:middle;\" transform=\"rotate(0, 890.946, 1075.62)\" x=\"890.946\" y=\"1075.62\">0</text>\n",
       "</g>\n",
       "<g clip-path=\"url(#clip9800)\">\n",
       "<text style=\"fill:#000000; fill-opacity:1; font-family:Arial,Helvetica Neue,Helvetica,sans-serif; font-size:48px; text-anchor:middle;\" transform=\"rotate(0, 1140.69, 1075.62)\" x=\"1140.69\" y=\"1075.62\">2</text>\n",
       "</g>\n",
       "<g clip-path=\"url(#clip9800)\">\n",
       "<text style=\"fill:#000000; fill-opacity:1; font-family:Arial,Helvetica Neue,Helvetica,sans-serif; font-size:48px; text-anchor:middle;\" transform=\"rotate(0, 1390.43, 1075.62)\" x=\"1390.43\" y=\"1075.62\">4</text>\n",
       "</g>\n",
       "<g clip-path=\"url(#clip9800)\">\n",
       "<text style=\"fill:#000000; fill-opacity:1; font-family:Arial,Helvetica Neue,Helvetica,sans-serif; font-size:48px; text-anchor:end;\" transform=\"rotate(0, 213.135, 1015.8)\" x=\"213.135\" y=\"1015.8\">0</text>\n",
       "</g>\n",
       "<g clip-path=\"url(#clip9800)\">\n",
       "<text style=\"fill:#000000; fill-opacity:1; font-family:Arial,Helvetica Neue,Helvetica,sans-serif; font-size:48px; text-anchor:end;\" transform=\"rotate(0, 213.135, 784.957)\" x=\"213.135\" y=\"784.957\">25</text>\n",
       "</g>\n",
       "<g clip-path=\"url(#clip9800)\">\n",
       "<text style=\"fill:#000000; fill-opacity:1; font-family:Arial,Helvetica Neue,Helvetica,sans-serif; font-size:48px; text-anchor:end;\" transform=\"rotate(0, 213.135, 554.116)\" x=\"213.135\" y=\"554.116\">50</text>\n",
       "</g>\n",
       "<g clip-path=\"url(#clip9800)\">\n",
       "<text style=\"fill:#000000; fill-opacity:1; font-family:Arial,Helvetica Neue,Helvetica,sans-serif; font-size:48px; text-anchor:end;\" transform=\"rotate(0, 213.135, 323.275)\" x=\"213.135\" y=\"323.275\">75</text>\n",
       "</g>\n",
       "<g clip-path=\"url(#clip9800)\">\n",
       "<text style=\"fill:#000000; fill-opacity:1; font-family:Arial,Helvetica Neue,Helvetica,sans-serif; font-size:48px; text-anchor:end;\" transform=\"rotate(0, 213.135, 92.4339)\" x=\"213.135\" y=\"92.4339\">100</text>\n",
       "</g>\n",
       "<g clip-path=\"url(#clip9800)\">\n",
       "<text style=\"fill:#000000; fill-opacity:1; font-family:Arial,Helvetica Neue,Helvetica,sans-serif; font-size:66px; text-anchor:middle;\" transform=\"rotate(0, 890.946, 1151.48)\" x=\"890.946\" y=\"1151.48\">x</text>\n",
       "</g>\n",
       "<g clip-path=\"url(#clip9800)\">\n",
       "<text style=\"fill:#000000; fill-opacity:1; font-family:Arial,Helvetica Neue,Helvetica,sans-serif; font-size:66px; text-anchor:middle;\" transform=\"rotate(-90, 105.286, 536.431)\" x=\"105.286\" y=\"536.431\">y</text>\n",
       "</g>\n",
       "<polyline clip-path=\"url(#clip9802)\" style=\"stroke:#009af9; stroke-width:4; stroke-opacity:1; fill:none\" points=\"\n",
       "  266.596,997.929 279.083,997.914 291.57,997.897 304.057,997.88 316.544,997.862 329.031,997.842 341.518,997.821 354.005,997.799 366.492,997.775 378.979,997.749 \n",
       "  391.466,997.721 403.953,997.691 416.44,997.659 428.927,997.624 441.414,997.586 453.901,997.544 466.388,997.499 478.875,997.45 491.362,997.396 503.849,997.337 \n",
       "  516.336,997.272 528.823,997.2 541.31,997.12 553.797,997.032 566.284,996.932 578.771,996.821 591.258,996.695 603.745,996.553 616.232,996.39 628.719,996.204 \n",
       "  641.206,995.99 653.693,995.74 666.18,995.448 678.667,995.103 691.154,994.691 703.641,994.194 716.128,993.587 728.615,992.834 741.102,991.886 753.589,990.667 \n",
       "  766.076,989.064 778.563,986.899 791.05,983.871 803.537,979.454 816.024,972.649 828.511,961.364 840.998,940.588 853.485,895.702 865.972,767.457 878.459,74.9339 \n",
       "  \n",
       "  \"/>\n",
       "<polyline clip-path=\"url(#clip9802)\" style=\"stroke:#009af9; stroke-width:4; stroke-opacity:1; fill:none\" points=\"\n",
       "  903.433,74.9339 915.92,767.457 928.407,895.702 940.894,940.588 953.381,961.364 965.868,972.649 978.354,979.454 990.841,983.871 1003.33,986.899 1015.82,989.064 \n",
       "  1028.3,990.667 1040.79,991.886 1053.28,992.834 1065.76,993.587 1078.25,994.194 1090.74,994.691 1103.22,995.103 1115.71,995.448 1128.2,995.74 1140.69,995.99 \n",
       "  1153.17,996.204 1165.66,996.39 1178.15,996.553 1190.63,996.695 1203.12,996.821 1215.61,996.932 1228.09,997.032 1240.58,997.12 1253.07,997.2 1265.56,997.272 \n",
       "  1278.04,997.337 1290.53,997.396 1303.02,997.45 1315.5,997.499 1327.99,997.544 1340.48,997.586 1352.96,997.624 1365.45,997.659 1377.94,997.691 1390.43,997.721 \n",
       "  1402.91,997.749 1415.4,997.775 1427.89,997.799 1440.37,997.821 1452.86,997.842 1465.35,997.862 1477.83,997.88 1490.32,997.897 1502.81,997.914 1515.29,997.929 \n",
       "  \n",
       "  \"/>\n",
       "</svg>\n"
      ]
     },
     "execution_count": 7,
     "metadata": {},
     "output_type": "execute_result"
    }
   ],
   "source": [
    "using Plots\n",
    "gr()\n",
    "plot(-5:0.1:5, x->1/x^2, xlabel = \"x\", ylabel=\"y\", size=(400, 300), label =\"\")"
   ]
  },
  {
   "cell_type": "code",
   "execution_count": 8,
   "metadata": {},
   "outputs": [
    {
     "data": {
      "text/latex": [
       "\\begin{equation*}0\\end{equation*}"
      ],
      "text/plain": [
       "0"
      ]
     },
     "execution_count": 8,
     "metadata": {},
     "output_type": "execute_result"
    }
   ],
   "source": [
    "limit(1/x^2, x, oo)"
   ]
  },
  {
   "cell_type": "code",
   "execution_count": 9,
   "metadata": {},
   "outputs": [
    {
     "data": {
      "text/latex": [
       "\\begin{equation*}0\\end{equation*}"
      ],
      "text/plain": [
       "0"
      ]
     },
     "execution_count": 9,
     "metadata": {},
     "output_type": "execute_result"
    }
   ],
   "source": [
    "limit(1/x^2, x, -oo)"
   ]
  },
  {
   "cell_type": "markdown",
   "metadata": {},
   "source": [
    "#### LIMITES LATERAIS"
   ]
  },
  {
   "cell_type": "markdown",
   "metadata": {},
   "source": [
    "$ \\displaystyle \\lim_{x\\rightarrow 0}{x \\over |x| }$"
   ]
  },
  {
   "cell_type": "code",
   "execution_count": 10,
   "metadata": {},
   "outputs": [
    {
     "data": {
      "text/latex": [
       "\\begin{equation*}1\\end{equation*}"
      ],
      "text/plain": [
       "1"
      ]
     },
     "execution_count": 10,
     "metadata": {},
     "output_type": "execute_result"
    }
   ],
   "source": [
    "# limite à direita \n",
    "limit(x/abs(x), x, 0, \"+\")"
   ]
  },
  {
   "cell_type": "code",
   "execution_count": 11,
   "metadata": {},
   "outputs": [
    {
     "data": {
      "text/latex": [
       "\\begin{equation*}-1\\end{equation*}"
      ],
      "text/plain": [
       "-1"
      ]
     },
     "execution_count": 11,
     "metadata": {},
     "output_type": "execute_result"
    }
   ],
   "source": [
    "# limite à esquerda\n",
    "limit(x/abs(x), x, 0, \"-\")"
   ]
  },
  {
   "cell_type": "markdown",
   "metadata": {},
   "source": [
    "### LIMITE NUMÉRICO\n",
    "\n",
    "O pacote `Base` da linguagem `Julia` ou o pacote `SymPy.jl` não oferecem uma função para calcular o limite numérico, logo é possível utilizar a definição de limite $~\\displaystyle \\lim_{x\\rightarrow a}{f(x)} = L ~$,  de tal forma que $x$ seja o mais próxima da constante $a$.\n",
    "\n",
    "Calcular o limite:  $\\displaystyle \\lim_{x\\rightarrow 0}{\\frac{(x - 1)^2} {(x + 1)} }$"
   ]
  },
  {
   "cell_type": "code",
   "execution_count": 12,
   "metadata": {
    "scrolled": true
   },
   "outputs": [
    {
     "data": {
      "text/plain": [
       "f3 (generic function with 1 method)"
      ]
     },
     "execution_count": 12,
     "metadata": {},
     "output_type": "execute_result"
    }
   ],
   "source": [
    "f3(x) = (x - 1)^2/(x + 1)"
   ]
  },
  {
   "cell_type": "code",
   "execution_count": 13,
   "metadata": {
    "scrolled": true
   },
   "outputs": [
    {
     "data": {
      "text/plain": [
       "0.9999999999999969"
      ]
     },
     "execution_count": 13,
     "metadata": {},
     "output_type": "execute_result"
    }
   ],
   "source": [
    "# limite à direita \n",
    "f3(1e-15)"
   ]
  },
  {
   "cell_type": "code",
   "execution_count": 14,
   "metadata": {},
   "outputs": [
    {
     "data": {
      "text/plain": [
       "1.0000000000000033"
      ]
     },
     "execution_count": 14,
     "metadata": {},
     "output_type": "execute_result"
    }
   ],
   "source": [
    "# limite à esquerda \n",
    "f3(-1e-15)"
   ]
  },
  {
   "cell_type": "markdown",
   "metadata": {},
   "source": [
    "**Forma visual do $\\displaystyle \\lim_{x\\rightarrow a}{f(x)} = L $ utilizando List Comprehension**"
   ]
  },
  {
   "cell_type": "code",
   "execution_count": 15,
   "metadata": {},
   "outputs": [
    {
     "data": {
      "text/plain": [
       "11×2 Array{Float64,2}:\n",
       " 1.0      0.0     \n",
       " 0.1      0.736364\n",
       " 0.01     0.970396\n",
       " 0.001    0.997004\n",
       " 0.0001   0.9997  \n",
       " 1.0e-5   0.99997 \n",
       " 1.0e-6   0.999997\n",
       " 1.0e-7   1.0     \n",
       " 1.0e-8   1.0     \n",
       " 1.0e-9   1.0     \n",
       " 1.0e-10  1.0     "
      ]
     },
     "execution_count": 15,
     "metadata": {},
     "output_type": "execute_result"
    }
   ],
   "source": [
    "xln = [10.0^-i for i in 0:10]\n",
    "\n",
    "yln = [f3(i)  for i in xln]\n",
    "\n",
    "[xln yln]"
   ]
  },
  {
   "cell_type": "markdown",
   "metadata": {},
   "source": [
    "## DERIVADA\n",
    "\n",
    "De acordo com Downing (2009) a definição de derivada é:  \n",
    "> The derivative of a function is the rate of change of that function. On the graph of the curve y f(x), the derivative at x is equal to the slope of the tangent line at the point (x, f(x)). "
   ]
  },
  {
   "cell_type": "markdown",
   "metadata": {},
   "source": [
    "### DERIVADA SIMBÓLICA INDEFINIDA\n",
    "\n",
    "```julia\n",
    "diff(f(x), var, ordem_derivada)\n",
    "\n",
    "```\n",
    "Sendo:\n",
    "* **f(x)**: função matemática $f(x)$ expressa como uma expressão algébrica simbólica ou uma função genérica;\n",
    "* **var**:variável de $f(x)$;\n",
    "* **ordem_derivada**: "
   ]
  },
  {
   "cell_type": "markdown",
   "metadata": {},
   "source": [
    "Exemplo: dada a função $f(x) = x^2 + 3x$, calcular $ \\displaystyle {f'(x)} $"
   ]
  },
  {
   "cell_type": "code",
   "execution_count": 16,
   "metadata": {
    "scrolled": true
   },
   "outputs": [
    {
     "data": {
      "text/plain": [
       "(x,)"
      ]
     },
     "execution_count": 16,
     "metadata": {},
     "output_type": "execute_result"
    }
   ],
   "source": [
    "using SymPy\n",
    "@syms x"
   ]
  },
  {
   "cell_type": "code",
   "execution_count": 17,
   "metadata": {
    "scrolled": true
   },
   "outputs": [
    {
     "data": {
      "text/plain": [
       "f4 (generic function with 1 method)"
      ]
     },
     "execution_count": 17,
     "metadata": {},
     "output_type": "execute_result"
    }
   ],
   "source": [
    "f4(x) = x^2 + 3*x"
   ]
  },
  {
   "cell_type": "code",
   "execution_count": 18,
   "metadata": {
    "scrolled": true
   },
   "outputs": [
    {
     "data": {
      "text/latex": [
       "\\begin{equation*}2 x + 3\\end{equation*}"
      ],
      "text/plain": [
       "2⋅x + 3"
      ]
     },
     "execution_count": 18,
     "metadata": {},
     "output_type": "execute_result"
    }
   ],
   "source": [
    "# Derivada primeira\n",
    "\n",
    "diff(f4(x), x, 1)"
   ]
  },
  {
   "cell_type": "code",
   "execution_count": 19,
   "metadata": {},
   "outputs": [
    {
     "data": {
      "text/latex": [
       "\\begin{equation*}2\\end{equation*}"
      ],
      "text/plain": [
       "2"
      ]
     },
     "execution_count": 19,
     "metadata": {},
     "output_type": "execute_result"
    }
   ],
   "source": [
    "# Derivada segunda\n",
    "\n",
    "diff(f4(x), x, 2)"
   ]
  },
  {
   "cell_type": "code",
   "execution_count": 20,
   "metadata": {},
   "outputs": [
    {
     "data": {
      "text/latex": [
       "\\begin{equation*}0\\end{equation*}"
      ],
      "text/plain": [
       "0"
      ]
     },
     "execution_count": 20,
     "metadata": {},
     "output_type": "execute_result"
    }
   ],
   "source": [
    "# Derivada terceira\n",
    "diff(f4(x), x, 3)"
   ]
  },
  {
   "cell_type": "markdown",
   "metadata": {
    "collapsed": true
   },
   "source": [
    "### DERIVADA SIMBÓLICA DEFINIDA \n",
    "\n",
    "Sintaxe:\n",
    "```julia\n",
    "diff(f(x), var, ordem_derivada)(valor_var)\n",
    "```\n",
    "Sendo:\n",
    "* **f(x)**: função matemática $f(x)$ expressa como uma expressão algébrica simbólica ou uma função genérica ou anônima;\n",
    "* **var**: variável de $f(x)$;\n",
    "* **ordem_derivada**: \n",
    "* **valor_var**: valor numérico ou simbólico da variável de $f(x)$;"
   ]
  },
  {
   "cell_type": "markdown",
   "metadata": {},
   "source": [
    "Exemplo: dada a função $f(x) = x^2 + 3x$, calcular $ \\displaystyle {d'(0)} $"
   ]
  },
  {
   "cell_type": "code",
   "execution_count": 21,
   "metadata": {
    "scrolled": true
   },
   "outputs": [
    {
     "data": {
      "text/plain": [
       "(x,)"
      ]
     },
     "execution_count": 21,
     "metadata": {},
     "output_type": "execute_result"
    }
   ],
   "source": [
    "using SymPy \n",
    "@syms x "
   ]
  },
  {
   "cell_type": "code",
   "execution_count": 22,
   "metadata": {
    "scrolled": true
   },
   "outputs": [
    {
     "data": {
      "text/plain": [
       "f5 (generic function with 1 method)"
      ]
     },
     "execution_count": 22,
     "metadata": {},
     "output_type": "execute_result"
    }
   ],
   "source": [
    "f5(x) = x^3 + 3*x + 1"
   ]
  },
  {
   "cell_type": "code",
   "execution_count": 23,
   "metadata": {
    "scrolled": false
   },
   "outputs": [
    {
     "data": {
      "text/latex": [
       "\\begin{equation*}3\\end{equation*}"
      ],
      "text/plain": [
       "3"
      ]
     },
     "execution_count": 23,
     "metadata": {},
     "output_type": "execute_result"
    }
   ],
   "source": [
    "# Derivada segunda x = 0\n",
    "diff(f5(x), x, 1)(0)"
   ]
  },
  {
   "cell_type": "code",
   "execution_count": 24,
   "metadata": {
    "scrolled": true
   },
   "outputs": [
    {
     "data": {
      "text/latex": [
       "\\begin{equation*}0\\end{equation*}"
      ],
      "text/plain": [
       "0"
      ]
     },
     "execution_count": 24,
     "metadata": {},
     "output_type": "execute_result"
    }
   ],
   "source": [
    "# Derivada segunda x = 0\n",
    "diff(f5(x), x, 2)(0)"
   ]
  },
  {
   "cell_type": "markdown",
   "metadata": {},
   "source": [
    "**Lançamento vertical**\n",
    "\n",
    "Uma esfera de 200g de massa é lançado para cima com velocidade de 20m/s. \n",
    "![](Figuras/objeto-1.jpg)\n",
    "\n",
    "A função que descrevem o espaço em função do tempo é definido por:\n",
    "\n",
    "$\\displaystyle{s(t) = s_0 + v_0t + \\frac {at^2}{2}}$\n",
    "\n",
    "$\\displaystyle{s(t) = 20t - 9.8\\frac{t^2}{2}}$"
   ]
  },
  {
   "cell_type": "code",
   "execution_count": 25,
   "metadata": {
    "scrolled": false
   },
   "outputs": [
    {
     "data": {
      "text/plain": [
       "(t,)"
      ]
     },
     "execution_count": 25,
     "metadata": {},
     "output_type": "execute_result"
    }
   ],
   "source": [
    "using SymPy\n",
    "@syms t"
   ]
  },
  {
   "cell_type": "code",
   "execution_count": 26,
   "metadata": {
    "scrolled": false
   },
   "outputs": [
    {
     "data": {
      "text/plain": [
       "s (generic function with 1 method)"
      ]
     },
     "execution_count": 26,
     "metadata": {},
     "output_type": "execute_result"
    }
   ],
   "source": [
    "s(t) = 20*t - 9.8*t^2/2"
   ]
  },
  {
   "cell_type": "markdown",
   "metadata": {},
   "source": [
    "Tempo. Para determinar o tempo de lançamento, devemos calcular $s(t) = 0.$"
   ]
  },
  {
   "cell_type": "code",
   "execution_count": 27,
   "metadata": {
    "scrolled": true
   },
   "outputs": [
    {
     "data": {
      "text/plain": [
       "2-element Array{Float64,1}:\n",
       " 0.0              \n",
       " 4.081632653061225"
      ]
     },
     "execution_count": 27,
     "metadata": {},
     "output_type": "execute_result"
    }
   ],
   "source": [
    "t1, t2 = float(solve(s(t), t))"
   ]
  },
  {
   "cell_type": "markdown",
   "metadata": {},
   "source": [
    "Gráfico do espaço."
   ]
  },
  {
   "cell_type": "code",
   "execution_count": 28,
   "metadata": {
    "scrolled": false
   },
   "outputs": [
    {
     "data": {
      "image/svg+xml": [
       "<?xml version=\"1.0\" encoding=\"utf-8\"?>\n",
       "<svg xmlns=\"http://www.w3.org/2000/svg\" xmlns:xlink=\"http://www.w3.org/1999/xlink\" width=\"400\" height=\"300\" viewBox=\"0 0 1600 1200\">\n",
       "<defs>\n",
       "  <clipPath id=\"clip0200\">\n",
       "    <rect x=\"0\" y=\"0\" width=\"1600\" height=\"1200\"/>\n",
       "  </clipPath>\n",
       "</defs>\n",
       "<path clip-path=\"url(#clip0200)\" d=\"\n",
       "M0 1200 L1600 1200 L1600 0 L0 0  Z\n",
       "  \" fill=\"#ffffff\" fill-rule=\"evenodd\" fill-opacity=\"1\"/>\n",
       "<defs>\n",
       "  <clipPath id=\"clip0201\">\n",
       "    <rect x=\"320\" y=\"0\" width=\"1121\" height=\"1121\"/>\n",
       "  </clipPath>\n",
       "</defs>\n",
       "<path clip-path=\"url(#clip0200)\" d=\"\n",
       "M200.136 1019.66 L1552.76 1019.66 L1552.76 47.2441 L200.136 47.2441  Z\n",
       "  \" fill=\"#ffffff\" fill-rule=\"evenodd\" fill-opacity=\"1\"/>\n",
       "<defs>\n",
       "  <clipPath id=\"clip0202\">\n",
       "    <rect x=\"200\" y=\"47\" width=\"1354\" height=\"973\"/>\n",
       "  </clipPath>\n",
       "</defs>\n",
       "<polyline clip-path=\"url(#clip0202)\" style=\"stroke:#000000; stroke-width:2; stroke-opacity:0.1; fill:none\" points=\"\n",
       "  238.418,1019.66 238.418,47.2441 \n",
       "  \"/>\n",
       "<polyline clip-path=\"url(#clip0202)\" style=\"stroke:#000000; stroke-width:2; stroke-opacity:0.1; fill:none\" points=\"\n",
       "  397.925,1019.66 397.925,47.2441 \n",
       "  \"/>\n",
       "<polyline clip-path=\"url(#clip0202)\" style=\"stroke:#000000; stroke-width:2; stroke-opacity:0.1; fill:none\" points=\"\n",
       "  557.432,1019.66 557.432,47.2441 \n",
       "  \"/>\n",
       "<polyline clip-path=\"url(#clip0202)\" style=\"stroke:#000000; stroke-width:2; stroke-opacity:0.1; fill:none\" points=\"\n",
       "  716.939,1019.66 716.939,47.2441 \n",
       "  \"/>\n",
       "<polyline clip-path=\"url(#clip0202)\" style=\"stroke:#000000; stroke-width:2; stroke-opacity:0.1; fill:none\" points=\"\n",
       "  876.446,1019.66 876.446,47.2441 \n",
       "  \"/>\n",
       "<polyline clip-path=\"url(#clip0202)\" style=\"stroke:#000000; stroke-width:2; stroke-opacity:0.1; fill:none\" points=\"\n",
       "  1035.95,1019.66 1035.95,47.2441 \n",
       "  \"/>\n",
       "<polyline clip-path=\"url(#clip0202)\" style=\"stroke:#000000; stroke-width:2; stroke-opacity:0.1; fill:none\" points=\"\n",
       "  1195.46,1019.66 1195.46,47.2441 \n",
       "  \"/>\n",
       "<polyline clip-path=\"url(#clip0202)\" style=\"stroke:#000000; stroke-width:2; stroke-opacity:0.1; fill:none\" points=\"\n",
       "  1354.97,1019.66 1354.97,47.2441 \n",
       "  \"/>\n",
       "<polyline clip-path=\"url(#clip0202)\" style=\"stroke:#000000; stroke-width:2; stroke-opacity:0.1; fill:none\" points=\"\n",
       "  1514.47,1019.66 1514.47,47.2441 \n",
       "  \"/>\n",
       "<polyline clip-path=\"url(#clip0202)\" style=\"stroke:#000000; stroke-width:2; stroke-opacity:0.1; fill:none\" points=\"\n",
       "  200.136,992.142 1552.76,992.142 \n",
       "  \"/>\n",
       "<polyline clip-path=\"url(#clip0202)\" style=\"stroke:#000000; stroke-width:2; stroke-opacity:0.1; fill:none\" points=\"\n",
       "  200.136,767.295 1552.76,767.295 \n",
       "  \"/>\n",
       "<polyline clip-path=\"url(#clip0202)\" style=\"stroke:#000000; stroke-width:2; stroke-opacity:0.1; fill:none\" points=\"\n",
       "  200.136,542.448 1552.76,542.448 \n",
       "  \"/>\n",
       "<polyline clip-path=\"url(#clip0202)\" style=\"stroke:#000000; stroke-width:2; stroke-opacity:0.1; fill:none\" points=\"\n",
       "  200.136,317.6 1552.76,317.6 \n",
       "  \"/>\n",
       "<polyline clip-path=\"url(#clip0202)\" style=\"stroke:#000000; stroke-width:2; stroke-opacity:0.1; fill:none\" points=\"\n",
       "  200.136,92.7532 1552.76,92.7532 \n",
       "  \"/>\n",
       "<polyline clip-path=\"url(#clip0200)\" style=\"stroke:#000000; stroke-width:4; stroke-opacity:1; fill:none\" points=\"\n",
       "  200.136,1019.66 1552.76,1019.66 \n",
       "  \"/>\n",
       "<polyline clip-path=\"url(#clip0200)\" style=\"stroke:#000000; stroke-width:4; stroke-opacity:1; fill:none\" points=\"\n",
       "  200.136,1019.66 200.136,47.2441 \n",
       "  \"/>\n",
       "<polyline clip-path=\"url(#clip0200)\" style=\"stroke:#000000; stroke-width:4; stroke-opacity:1; fill:none\" points=\"\n",
       "  238.418,1019.66 238.418,1005.08 \n",
       "  \"/>\n",
       "<polyline clip-path=\"url(#clip0200)\" style=\"stroke:#000000; stroke-width:4; stroke-opacity:1; fill:none\" points=\"\n",
       "  397.925,1019.66 397.925,1005.08 \n",
       "  \"/>\n",
       "<polyline clip-path=\"url(#clip0200)\" style=\"stroke:#000000; stroke-width:4; stroke-opacity:1; fill:none\" points=\"\n",
       "  557.432,1019.66 557.432,1005.08 \n",
       "  \"/>\n",
       "<polyline clip-path=\"url(#clip0200)\" style=\"stroke:#000000; stroke-width:4; stroke-opacity:1; fill:none\" points=\"\n",
       "  716.939,1019.66 716.939,1005.08 \n",
       "  \"/>\n",
       "<polyline clip-path=\"url(#clip0200)\" style=\"stroke:#000000; stroke-width:4; stroke-opacity:1; fill:none\" points=\"\n",
       "  876.446,1019.66 876.446,1005.08 \n",
       "  \"/>\n",
       "<polyline clip-path=\"url(#clip0200)\" style=\"stroke:#000000; stroke-width:4; stroke-opacity:1; fill:none\" points=\"\n",
       "  1035.95,1019.66 1035.95,1005.08 \n",
       "  \"/>\n",
       "<polyline clip-path=\"url(#clip0200)\" style=\"stroke:#000000; stroke-width:4; stroke-opacity:1; fill:none\" points=\"\n",
       "  1195.46,1019.66 1195.46,1005.08 \n",
       "  \"/>\n",
       "<polyline clip-path=\"url(#clip0200)\" style=\"stroke:#000000; stroke-width:4; stroke-opacity:1; fill:none\" points=\"\n",
       "  1354.97,1019.66 1354.97,1005.08 \n",
       "  \"/>\n",
       "<polyline clip-path=\"url(#clip0200)\" style=\"stroke:#000000; stroke-width:4; stroke-opacity:1; fill:none\" points=\"\n",
       "  1514.47,1019.66 1514.47,1005.08 \n",
       "  \"/>\n",
       "<polyline clip-path=\"url(#clip0200)\" style=\"stroke:#000000; stroke-width:4; stroke-opacity:1; fill:none\" points=\"\n",
       "  200.136,992.142 220.426,992.142 \n",
       "  \"/>\n",
       "<polyline clip-path=\"url(#clip0200)\" style=\"stroke:#000000; stroke-width:4; stroke-opacity:1; fill:none\" points=\"\n",
       "  200.136,767.295 220.426,767.295 \n",
       "  \"/>\n",
       "<polyline clip-path=\"url(#clip0200)\" style=\"stroke:#000000; stroke-width:4; stroke-opacity:1; fill:none\" points=\"\n",
       "  200.136,542.448 220.426,542.448 \n",
       "  \"/>\n",
       "<polyline clip-path=\"url(#clip0200)\" style=\"stroke:#000000; stroke-width:4; stroke-opacity:1; fill:none\" points=\"\n",
       "  200.136,317.6 220.426,317.6 \n",
       "  \"/>\n",
       "<polyline clip-path=\"url(#clip0200)\" style=\"stroke:#000000; stroke-width:4; stroke-opacity:1; fill:none\" points=\"\n",
       "  200.136,92.7532 220.426,92.7532 \n",
       "  \"/>\n",
       "<g clip-path=\"url(#clip0200)\">\n",
       "<text style=\"fill:#000000; fill-opacity:1; font-family:Arial,Helvetica Neue,Helvetica,sans-serif; font-size:48px; text-anchor:middle;\" transform=\"rotate(0, 238.418, 1069.66)\" x=\"238.418\" y=\"1069.66\">0.0</text>\n",
       "</g>\n",
       "<g clip-path=\"url(#clip0200)\">\n",
       "<text style=\"fill:#000000; fill-opacity:1; font-family:Arial,Helvetica Neue,Helvetica,sans-serif; font-size:48px; text-anchor:middle;\" transform=\"rotate(0, 397.925, 1069.66)\" x=\"397.925\" y=\"1069.66\">0.5</text>\n",
       "</g>\n",
       "<g clip-path=\"url(#clip0200)\">\n",
       "<text style=\"fill:#000000; fill-opacity:1; font-family:Arial,Helvetica Neue,Helvetica,sans-serif; font-size:48px; text-anchor:middle;\" transform=\"rotate(0, 557.432, 1069.66)\" x=\"557.432\" y=\"1069.66\">1.0</text>\n",
       "</g>\n",
       "<g clip-path=\"url(#clip0200)\">\n",
       "<text style=\"fill:#000000; fill-opacity:1; font-family:Arial,Helvetica Neue,Helvetica,sans-serif; font-size:48px; text-anchor:middle;\" transform=\"rotate(0, 716.939, 1069.66)\" x=\"716.939\" y=\"1069.66\">1.5</text>\n",
       "</g>\n",
       "<g clip-path=\"url(#clip0200)\">\n",
       "<text style=\"fill:#000000; fill-opacity:1; font-family:Arial,Helvetica Neue,Helvetica,sans-serif; font-size:48px; text-anchor:middle;\" transform=\"rotate(0, 876.446, 1069.66)\" x=\"876.446\" y=\"1069.66\">2.0</text>\n",
       "</g>\n",
       "<g clip-path=\"url(#clip0200)\">\n",
       "<text style=\"fill:#000000; fill-opacity:1; font-family:Arial,Helvetica Neue,Helvetica,sans-serif; font-size:48px; text-anchor:middle;\" transform=\"rotate(0, 1035.95, 1069.66)\" x=\"1035.95\" y=\"1069.66\">2.5</text>\n",
       "</g>\n",
       "<g clip-path=\"url(#clip0200)\">\n",
       "<text style=\"fill:#000000; fill-opacity:1; font-family:Arial,Helvetica Neue,Helvetica,sans-serif; font-size:48px; text-anchor:middle;\" transform=\"rotate(0, 1195.46, 1069.66)\" x=\"1195.46\" y=\"1069.66\">3.0</text>\n",
       "</g>\n",
       "<g clip-path=\"url(#clip0200)\">\n",
       "<text style=\"fill:#000000; fill-opacity:1; font-family:Arial,Helvetica Neue,Helvetica,sans-serif; font-size:48px; text-anchor:middle;\" transform=\"rotate(0, 1354.97, 1069.66)\" x=\"1354.97\" y=\"1069.66\">3.5</text>\n",
       "</g>\n",
       "<g clip-path=\"url(#clip0200)\">\n",
       "<text style=\"fill:#000000; fill-opacity:1; font-family:Arial,Helvetica Neue,Helvetica,sans-serif; font-size:48px; text-anchor:middle;\" transform=\"rotate(0, 1514.47, 1069.66)\" x=\"1514.47\" y=\"1069.66\">4.0</text>\n",
       "</g>\n",
       "<g clip-path=\"url(#clip0200)\">\n",
       "<text style=\"fill:#000000; fill-opacity:1; font-family:Arial,Helvetica Neue,Helvetica,sans-serif; font-size:48px; text-anchor:end;\" transform=\"rotate(0, 184.136, 1009.64)\" x=\"184.136\" y=\"1009.64\">0</text>\n",
       "</g>\n",
       "<g clip-path=\"url(#clip0200)\">\n",
       "<text style=\"fill:#000000; fill-opacity:1; font-family:Arial,Helvetica Neue,Helvetica,sans-serif; font-size:48px; text-anchor:end;\" transform=\"rotate(0, 184.136, 784.795)\" x=\"184.136\" y=\"784.795\">5</text>\n",
       "</g>\n",
       "<g clip-path=\"url(#clip0200)\">\n",
       "<text style=\"fill:#000000; fill-opacity:1; font-family:Arial,Helvetica Neue,Helvetica,sans-serif; font-size:48px; text-anchor:end;\" transform=\"rotate(0, 184.136, 559.948)\" x=\"184.136\" y=\"559.948\">10</text>\n",
       "</g>\n",
       "<g clip-path=\"url(#clip0200)\">\n",
       "<text style=\"fill:#000000; fill-opacity:1; font-family:Arial,Helvetica Neue,Helvetica,sans-serif; font-size:48px; text-anchor:end;\" transform=\"rotate(0, 184.136, 335.1)\" x=\"184.136\" y=\"335.1\">15</text>\n",
       "</g>\n",
       "<g clip-path=\"url(#clip0200)\">\n",
       "<text style=\"fill:#000000; fill-opacity:1; font-family:Arial,Helvetica Neue,Helvetica,sans-serif; font-size:48px; text-anchor:end;\" transform=\"rotate(0, 184.136, 110.253)\" x=\"184.136\" y=\"110.253\">20</text>\n",
       "</g>\n",
       "<g clip-path=\"url(#clip0200)\">\n",
       "<text style=\"fill:#000000; fill-opacity:1; font-family:Arial,Helvetica Neue,Helvetica,sans-serif; font-size:66px; text-anchor:middle;\" transform=\"rotate(0, 876.446, 1145.53)\" x=\"876.446\" y=\"1145.53\">Tempo (s)</text>\n",
       "</g>\n",
       "<g clip-path=\"url(#clip0200)\">\n",
       "<text style=\"fill:#000000; fill-opacity:1; font-family:Arial,Helvetica Neue,Helvetica,sans-serif; font-size:66px; text-anchor:middle;\" transform=\"rotate(-90, 103.05, 533.454)\" x=\"103.05\" y=\"533.454\">Espaço(m)</text>\n",
       "</g>\n",
       "<polyline clip-path=\"url(#clip0202)\" style=\"stroke:#009af9; stroke-width:4; stroke-opacity:1; fill:none\" points=\"\n",
       "  238.418,992.142 270.32,904.407 302.221,821.078 334.122,742.157 366.024,667.643 397.925,597.535 429.827,531.835 461.728,470.542 493.629,413.655 525.531,361.176 \n",
       "  557.432,313.103 589.334,269.438 621.235,230.18 653.136,195.328 685.038,164.884 716.939,138.847 748.841,117.217 780.742,99.9933 812.643,87.177 844.545,78.7677 \n",
       "  876.446,74.7654 908.348,75.1701 940.249,79.9819 972.15,89.2006 1004.05,102.826 1035.95,120.859 1067.85,143.299 1099.76,170.146 1131.66,201.399 1163.56,237.06 \n",
       "  1195.46,277.128 1227.36,321.603 1259.26,370.484 1291.16,423.773 1323.07,481.469 1354.97,543.572 1386.87,610.082 1418.77,680.999 1450.67,756.322 1482.57,836.053 \n",
       "  1514.47,920.191 \n",
       "  \"/>\n",
       "<path clip-path=\"url(#clip0200)\" d=\"\n",
       "M1275.25 203.724 L1504.76 203.724 L1504.76 82.7641 L1275.25 82.7641  Z\n",
       "  \" fill=\"#ffffff\" fill-rule=\"evenodd\" fill-opacity=\"1\"/>\n",
       "<polyline clip-path=\"url(#clip0200)\" style=\"stroke:#000000; stroke-width:4; stroke-opacity:1; fill:none\" points=\"\n",
       "  1275.25,203.724 1504.76,203.724 1504.76,82.7641 1275.25,82.7641 1275.25,203.724 \n",
       "  \"/>\n",
       "<polyline clip-path=\"url(#clip0200)\" style=\"stroke:#009af9; stroke-width:4; stroke-opacity:1; fill:none\" points=\"\n",
       "  1291.25,143.244 1387.25,143.244 \n",
       "  \"/>\n",
       "<g clip-path=\"url(#clip0200)\">\n",
       "<text style=\"fill:#000000; fill-opacity:1; font-family:Arial,Helvetica Neue,Helvetica,sans-serif; font-size:48px; text-anchor:start;\" transform=\"rotate(0, 1403.25, 160.744)\" x=\"1403.25\" y=\"160.744\">s(t)</text>\n",
       "</g>\n",
       "</svg>\n"
      ]
     },
     "execution_count": 28,
     "metadata": {},
     "output_type": "execute_result"
    }
   ],
   "source": [
    "using Plots\n",
    "gr()\n",
    "\n",
    "plot(t1:0.1:t2, s, \n",
    "    label = \"s(t)\",\n",
    "    xticks = t1:0.5:t2, \n",
    "    xlabel = \"Tempo (s)\",\n",
    "    ylabel = \"Espaço(m)\",\n",
    "    size = (400, 300))"
   ]
  },
  {
   "cell_type": "markdown",
   "metadata": {},
   "source": [
    "Velocidade. A função $v(t)$ é a derivada da função $s(t)$."
   ]
  },
  {
   "cell_type": "code",
   "execution_count": 29,
   "metadata": {
    "scrolled": true
   },
   "outputs": [
    {
     "data": {
      "text/latex": [
       "\\begin{equation*}20 - 9.8 t\\end{equation*}"
      ],
      "text/plain": [
       "20 - 9.8⋅t"
      ]
     },
     "execution_count": 29,
     "metadata": {},
     "output_type": "execute_result"
    }
   ],
   "source": [
    "v = diff(s(t), t)"
   ]
  },
  {
   "cell_type": "markdown",
   "metadata": {},
   "source": [
    "O resultado de $s'(t)$ é simbólico e embora seja possível manipular $v$ na forma $v(tempo)$, o resultado também será sempre simbólico, logo, é interessante transformá-lo em função genérica:"
   ]
  },
  {
   "cell_type": "code",
   "execution_count": 30,
   "metadata": {
    "scrolled": false
   },
   "outputs": [
    {
     "data": {
      "text/plain": [
       "V (generic function with 1 method)"
      ]
     },
     "execution_count": 30,
     "metadata": {},
     "output_type": "execute_result"
    }
   ],
   "source": [
    "@eval V(t) = $(Meta.parse(string(v)))"
   ]
  },
  {
   "cell_type": "markdown",
   "metadata": {},
   "source": [
    "Gráfico $V(t)$. Observe que `ytricks` varia de $~V(t2)~$ a $~V(t1)~$, isto se deve ao fato de que $~V(t2)~<~V(t1)~$. A função `round()` é utilizada para limitar a quantidade de casas decimais no cálculo de $~V(t)$."
   ]
  },
  {
   "cell_type": "code",
   "execution_count": 31,
   "metadata": {
    "scrolled": true
   },
   "outputs": [
    {
     "data": {
      "image/svg+xml": [
       "<?xml version=\"1.0\" encoding=\"utf-8\"?>\n",
       "<svg xmlns=\"http://www.w3.org/2000/svg\" xmlns:xlink=\"http://www.w3.org/1999/xlink\" width=\"400\" height=\"300\" viewBox=\"0 0 1600 1200\">\n",
       "<defs>\n",
       "  <clipPath id=\"clip0600\">\n",
       "    <rect x=\"0\" y=\"0\" width=\"1600\" height=\"1200\"/>\n",
       "  </clipPath>\n",
       "</defs>\n",
       "<path clip-path=\"url(#clip0600)\" d=\"\n",
       "M0 1200 L1600 1200 L1600 0 L0 0  Z\n",
       "  \" fill=\"#ffffff\" fill-rule=\"evenodd\" fill-opacity=\"1\"/>\n",
       "<defs>\n",
       "  <clipPath id=\"clip0601\">\n",
       "    <rect x=\"320\" y=\"0\" width=\"1121\" height=\"1121\"/>\n",
       "  </clipPath>\n",
       "</defs>\n",
       "<path clip-path=\"url(#clip0600)\" d=\"\n",
       "M228.247 1019.66 L1552.76 1019.66 L1552.76 47.2441 L228.247 47.2441  Z\n",
       "  \" fill=\"#ffffff\" fill-rule=\"evenodd\" fill-opacity=\"1\"/>\n",
       "<defs>\n",
       "  <clipPath id=\"clip0602\">\n",
       "    <rect x=\"228\" y=\"47\" width=\"1326\" height=\"973\"/>\n",
       "  </clipPath>\n",
       "</defs>\n",
       "<polyline clip-path=\"url(#clip0602)\" style=\"stroke:#000000; stroke-width:2; stroke-opacity:0.1; fill:none\" points=\"\n",
       "  265.733,1019.66 265.733,47.2441 \n",
       "  \"/>\n",
       "<polyline clip-path=\"url(#clip0602)\" style=\"stroke:#000000; stroke-width:2; stroke-opacity:0.1; fill:none\" points=\"\n",
       "  421.925,1019.66 421.925,47.2441 \n",
       "  \"/>\n",
       "<polyline clip-path=\"url(#clip0602)\" style=\"stroke:#000000; stroke-width:2; stroke-opacity:0.1; fill:none\" points=\"\n",
       "  578.117,1019.66 578.117,47.2441 \n",
       "  \"/>\n",
       "<polyline clip-path=\"url(#clip0602)\" style=\"stroke:#000000; stroke-width:2; stroke-opacity:0.1; fill:none\" points=\"\n",
       "  734.309,1019.66 734.309,47.2441 \n",
       "  \"/>\n",
       "<polyline clip-path=\"url(#clip0602)\" style=\"stroke:#000000; stroke-width:2; stroke-opacity:0.1; fill:none\" points=\"\n",
       "  890.501,1019.66 890.501,47.2441 \n",
       "  \"/>\n",
       "<polyline clip-path=\"url(#clip0602)\" style=\"stroke:#000000; stroke-width:2; stroke-opacity:0.1; fill:none\" points=\"\n",
       "  1046.69,1019.66 1046.69,47.2441 \n",
       "  \"/>\n",
       "<polyline clip-path=\"url(#clip0602)\" style=\"stroke:#000000; stroke-width:2; stroke-opacity:0.1; fill:none\" points=\"\n",
       "  1202.89,1019.66 1202.89,47.2441 \n",
       "  \"/>\n",
       "<polyline clip-path=\"url(#clip0602)\" style=\"stroke:#000000; stroke-width:2; stroke-opacity:0.1; fill:none\" points=\"\n",
       "  1359.08,1019.66 1359.08,47.2441 \n",
       "  \"/>\n",
       "<polyline clip-path=\"url(#clip0602)\" style=\"stroke:#000000; stroke-width:2; stroke-opacity:0.1; fill:none\" points=\"\n",
       "  1515.27,1019.66 1515.27,47.2441 \n",
       "  \"/>\n",
       "<polyline clip-path=\"url(#clip0602)\" style=\"stroke:#000000; stroke-width:2; stroke-opacity:0.1; fill:none\" points=\"\n",
       "  228.247,1010.86 1552.76,1010.86 \n",
       "  \"/>\n",
       "<polyline clip-path=\"url(#clip0602)\" style=\"stroke:#000000; stroke-width:2; stroke-opacity:0.1; fill:none\" points=\"\n",
       "  228.247,893.852 1552.76,893.852 \n",
       "  \"/>\n",
       "<polyline clip-path=\"url(#clip0602)\" style=\"stroke:#000000; stroke-width:2; stroke-opacity:0.1; fill:none\" points=\"\n",
       "  228.247,776.839 1552.76,776.839 \n",
       "  \"/>\n",
       "<polyline clip-path=\"url(#clip0602)\" style=\"stroke:#000000; stroke-width:2; stroke-opacity:0.1; fill:none\" points=\"\n",
       "  228.247,659.827 1552.76,659.827 \n",
       "  \"/>\n",
       "<polyline clip-path=\"url(#clip0602)\" style=\"stroke:#000000; stroke-width:2; stroke-opacity:0.1; fill:none\" points=\"\n",
       "  228.247,542.815 1552.76,542.815 \n",
       "  \"/>\n",
       "<polyline clip-path=\"url(#clip0602)\" style=\"stroke:#000000; stroke-width:2; stroke-opacity:0.1; fill:none\" points=\"\n",
       "  228.247,425.802 1552.76,425.802 \n",
       "  \"/>\n",
       "<polyline clip-path=\"url(#clip0602)\" style=\"stroke:#000000; stroke-width:2; stroke-opacity:0.1; fill:none\" points=\"\n",
       "  228.247,308.79 1552.76,308.79 \n",
       "  \"/>\n",
       "<polyline clip-path=\"url(#clip0602)\" style=\"stroke:#000000; stroke-width:2; stroke-opacity:0.1; fill:none\" points=\"\n",
       "  228.247,191.778 1552.76,191.778 \n",
       "  \"/>\n",
       "<polyline clip-path=\"url(#clip0602)\" style=\"stroke:#000000; stroke-width:2; stroke-opacity:0.1; fill:none\" points=\"\n",
       "  228.247,74.7654 1552.76,74.7654 \n",
       "  \"/>\n",
       "<polyline clip-path=\"url(#clip0600)\" style=\"stroke:#000000; stroke-width:4; stroke-opacity:1; fill:none\" points=\"\n",
       "  228.247,1019.66 1552.76,1019.66 \n",
       "  \"/>\n",
       "<polyline clip-path=\"url(#clip0600)\" style=\"stroke:#000000; stroke-width:4; stroke-opacity:1; fill:none\" points=\"\n",
       "  228.247,1019.66 228.247,47.2441 \n",
       "  \"/>\n",
       "<polyline clip-path=\"url(#clip0600)\" style=\"stroke:#000000; stroke-width:4; stroke-opacity:1; fill:none\" points=\"\n",
       "  265.733,1019.66 265.733,1005.08 \n",
       "  \"/>\n",
       "<polyline clip-path=\"url(#clip0600)\" style=\"stroke:#000000; stroke-width:4; stroke-opacity:1; fill:none\" points=\"\n",
       "  421.925,1019.66 421.925,1005.08 \n",
       "  \"/>\n",
       "<polyline clip-path=\"url(#clip0600)\" style=\"stroke:#000000; stroke-width:4; stroke-opacity:1; fill:none\" points=\"\n",
       "  578.117,1019.66 578.117,1005.08 \n",
       "  \"/>\n",
       "<polyline clip-path=\"url(#clip0600)\" style=\"stroke:#000000; stroke-width:4; stroke-opacity:1; fill:none\" points=\"\n",
       "  734.309,1019.66 734.309,1005.08 \n",
       "  \"/>\n",
       "<polyline clip-path=\"url(#clip0600)\" style=\"stroke:#000000; stroke-width:4; stroke-opacity:1; fill:none\" points=\"\n",
       "  890.501,1019.66 890.501,1005.08 \n",
       "  \"/>\n",
       "<polyline clip-path=\"url(#clip0600)\" style=\"stroke:#000000; stroke-width:4; stroke-opacity:1; fill:none\" points=\"\n",
       "  1046.69,1019.66 1046.69,1005.08 \n",
       "  \"/>\n",
       "<polyline clip-path=\"url(#clip0600)\" style=\"stroke:#000000; stroke-width:4; stroke-opacity:1; fill:none\" points=\"\n",
       "  1202.89,1019.66 1202.89,1005.08 \n",
       "  \"/>\n",
       "<polyline clip-path=\"url(#clip0600)\" style=\"stroke:#000000; stroke-width:4; stroke-opacity:1; fill:none\" points=\"\n",
       "  1359.08,1019.66 1359.08,1005.08 \n",
       "  \"/>\n",
       "<polyline clip-path=\"url(#clip0600)\" style=\"stroke:#000000; stroke-width:4; stroke-opacity:1; fill:none\" points=\"\n",
       "  1515.27,1019.66 1515.27,1005.08 \n",
       "  \"/>\n",
       "<polyline clip-path=\"url(#clip0600)\" style=\"stroke:#000000; stroke-width:4; stroke-opacity:1; fill:none\" points=\"\n",
       "  228.247,1010.86 248.114,1010.86 \n",
       "  \"/>\n",
       "<polyline clip-path=\"url(#clip0600)\" style=\"stroke:#000000; stroke-width:4; stroke-opacity:1; fill:none\" points=\"\n",
       "  228.247,893.852 248.114,893.852 \n",
       "  \"/>\n",
       "<polyline clip-path=\"url(#clip0600)\" style=\"stroke:#000000; stroke-width:4; stroke-opacity:1; fill:none\" points=\"\n",
       "  228.247,776.839 248.114,776.839 \n",
       "  \"/>\n",
       "<polyline clip-path=\"url(#clip0600)\" style=\"stroke:#000000; stroke-width:4; stroke-opacity:1; fill:none\" points=\"\n",
       "  228.247,659.827 248.114,659.827 \n",
       "  \"/>\n",
       "<polyline clip-path=\"url(#clip0600)\" style=\"stroke:#000000; stroke-width:4; stroke-opacity:1; fill:none\" points=\"\n",
       "  228.247,542.815 248.114,542.815 \n",
       "  \"/>\n",
       "<polyline clip-path=\"url(#clip0600)\" style=\"stroke:#000000; stroke-width:4; stroke-opacity:1; fill:none\" points=\"\n",
       "  228.247,425.802 248.114,425.802 \n",
       "  \"/>\n",
       "<polyline clip-path=\"url(#clip0600)\" style=\"stroke:#000000; stroke-width:4; stroke-opacity:1; fill:none\" points=\"\n",
       "  228.247,308.79 248.114,308.79 \n",
       "  \"/>\n",
       "<polyline clip-path=\"url(#clip0600)\" style=\"stroke:#000000; stroke-width:4; stroke-opacity:1; fill:none\" points=\"\n",
       "  228.247,191.778 248.114,191.778 \n",
       "  \"/>\n",
       "<polyline clip-path=\"url(#clip0600)\" style=\"stroke:#000000; stroke-width:4; stroke-opacity:1; fill:none\" points=\"\n",
       "  228.247,74.7654 248.114,74.7654 \n",
       "  \"/>\n",
       "<g clip-path=\"url(#clip0600)\">\n",
       "<text style=\"fill:#000000; fill-opacity:1; font-family:Arial,Helvetica Neue,Helvetica,sans-serif; font-size:48px; text-anchor:middle;\" transform=\"rotate(0, 265.733, 1069.66)\" x=\"265.733\" y=\"1069.66\">0.0</text>\n",
       "</g>\n",
       "<g clip-path=\"url(#clip0600)\">\n",
       "<text style=\"fill:#000000; fill-opacity:1; font-family:Arial,Helvetica Neue,Helvetica,sans-serif; font-size:48px; text-anchor:middle;\" transform=\"rotate(0, 421.925, 1069.66)\" x=\"421.925\" y=\"1069.66\">0.5</text>\n",
       "</g>\n",
       "<g clip-path=\"url(#clip0600)\">\n",
       "<text style=\"fill:#000000; fill-opacity:1; font-family:Arial,Helvetica Neue,Helvetica,sans-serif; font-size:48px; text-anchor:middle;\" transform=\"rotate(0, 578.117, 1069.66)\" x=\"578.117\" y=\"1069.66\">1.0</text>\n",
       "</g>\n",
       "<g clip-path=\"url(#clip0600)\">\n",
       "<text style=\"fill:#000000; fill-opacity:1; font-family:Arial,Helvetica Neue,Helvetica,sans-serif; font-size:48px; text-anchor:middle;\" transform=\"rotate(0, 734.309, 1069.66)\" x=\"734.309\" y=\"1069.66\">1.5</text>\n",
       "</g>\n",
       "<g clip-path=\"url(#clip0600)\">\n",
       "<text style=\"fill:#000000; fill-opacity:1; font-family:Arial,Helvetica Neue,Helvetica,sans-serif; font-size:48px; text-anchor:middle;\" transform=\"rotate(0, 890.501, 1069.66)\" x=\"890.501\" y=\"1069.66\">2.0</text>\n",
       "</g>\n",
       "<g clip-path=\"url(#clip0600)\">\n",
       "<text style=\"fill:#000000; fill-opacity:1; font-family:Arial,Helvetica Neue,Helvetica,sans-serif; font-size:48px; text-anchor:middle;\" transform=\"rotate(0, 1046.69, 1069.66)\" x=\"1046.69\" y=\"1069.66\">2.5</text>\n",
       "</g>\n",
       "<g clip-path=\"url(#clip0600)\">\n",
       "<text style=\"fill:#000000; fill-opacity:1; font-family:Arial,Helvetica Neue,Helvetica,sans-serif; font-size:48px; text-anchor:middle;\" transform=\"rotate(0, 1202.89, 1069.66)\" x=\"1202.89\" y=\"1069.66\">3.0</text>\n",
       "</g>\n",
       "<g clip-path=\"url(#clip0600)\">\n",
       "<text style=\"fill:#000000; fill-opacity:1; font-family:Arial,Helvetica Neue,Helvetica,sans-serif; font-size:48px; text-anchor:middle;\" transform=\"rotate(0, 1359.08, 1069.66)\" x=\"1359.08\" y=\"1069.66\">3.5</text>\n",
       "</g>\n",
       "<g clip-path=\"url(#clip0600)\">\n",
       "<text style=\"fill:#000000; fill-opacity:1; font-family:Arial,Helvetica Neue,Helvetica,sans-serif; font-size:48px; text-anchor:middle;\" transform=\"rotate(0, 1515.27, 1069.66)\" x=\"1515.27\" y=\"1069.66\">4.0</text>\n",
       "</g>\n",
       "<g clip-path=\"url(#clip0600)\">\n",
       "<text style=\"fill:#000000; fill-opacity:1; font-family:Arial,Helvetica Neue,Helvetica,sans-serif; font-size:48px; text-anchor:end;\" transform=\"rotate(0, 212.247, 1028.36)\" x=\"212.247\" y=\"1028.36\">-20</text>\n",
       "</g>\n",
       "<g clip-path=\"url(#clip0600)\">\n",
       "<text style=\"fill:#000000; fill-opacity:1; font-family:Arial,Helvetica Neue,Helvetica,sans-serif; font-size:48px; text-anchor:end;\" transform=\"rotate(0, 212.247, 911.352)\" x=\"212.247\" y=\"911.352\">-15</text>\n",
       "</g>\n",
       "<g clip-path=\"url(#clip0600)\">\n",
       "<text style=\"fill:#000000; fill-opacity:1; font-family:Arial,Helvetica Neue,Helvetica,sans-serif; font-size:48px; text-anchor:end;\" transform=\"rotate(0, 212.247, 794.339)\" x=\"212.247\" y=\"794.339\">-10</text>\n",
       "</g>\n",
       "<g clip-path=\"url(#clip0600)\">\n",
       "<text style=\"fill:#000000; fill-opacity:1; font-family:Arial,Helvetica Neue,Helvetica,sans-serif; font-size:48px; text-anchor:end;\" transform=\"rotate(0, 212.247, 677.327)\" x=\"212.247\" y=\"677.327\">-5</text>\n",
       "</g>\n",
       "<g clip-path=\"url(#clip0600)\">\n",
       "<text style=\"fill:#000000; fill-opacity:1; font-family:Arial,Helvetica Neue,Helvetica,sans-serif; font-size:48px; text-anchor:end;\" transform=\"rotate(0, 212.247, 560.315)\" x=\"212.247\" y=\"560.315\">0</text>\n",
       "</g>\n",
       "<g clip-path=\"url(#clip0600)\">\n",
       "<text style=\"fill:#000000; fill-opacity:1; font-family:Arial,Helvetica Neue,Helvetica,sans-serif; font-size:48px; text-anchor:end;\" transform=\"rotate(0, 212.247, 443.302)\" x=\"212.247\" y=\"443.302\">5</text>\n",
       "</g>\n",
       "<g clip-path=\"url(#clip0600)\">\n",
       "<text style=\"fill:#000000; fill-opacity:1; font-family:Arial,Helvetica Neue,Helvetica,sans-serif; font-size:48px; text-anchor:end;\" transform=\"rotate(0, 212.247, 326.29)\" x=\"212.247\" y=\"326.29\">10</text>\n",
       "</g>\n",
       "<g clip-path=\"url(#clip0600)\">\n",
       "<text style=\"fill:#000000; fill-opacity:1; font-family:Arial,Helvetica Neue,Helvetica,sans-serif; font-size:48px; text-anchor:end;\" transform=\"rotate(0, 212.247, 209.278)\" x=\"212.247\" y=\"209.278\">15</text>\n",
       "</g>\n",
       "<g clip-path=\"url(#clip0600)\">\n",
       "<text style=\"fill:#000000; fill-opacity:1; font-family:Arial,Helvetica Neue,Helvetica,sans-serif; font-size:48px; text-anchor:end;\" transform=\"rotate(0, 212.247, 92.2654)\" x=\"212.247\" y=\"92.2654\">20</text>\n",
       "</g>\n",
       "<g clip-path=\"url(#clip0600)\">\n",
       "<text style=\"fill:#000000; fill-opacity:1; font-family:Arial,Helvetica Neue,Helvetica,sans-serif; font-size:66px; text-anchor:middle;\" transform=\"rotate(0, 890.501, 1145.53)\" x=\"890.501\" y=\"1145.53\">tempo(s)</text>\n",
       "</g>\n",
       "<g clip-path=\"url(#clip0600)\">\n",
       "<text style=\"fill:#000000; fill-opacity:1; font-family:Arial,Helvetica Neue,Helvetica,sans-serif; font-size:66px; text-anchor:middle;\" transform=\"rotate(-90, 103.05, 533.454)\" x=\"103.05\" y=\"533.454\">Velocidade(m/s)</text>\n",
       "</g>\n",
       "<polyline clip-path=\"url(#clip0602)\" style=\"stroke:#009af9; stroke-width:4; stroke-opacity:1; fill:none\" points=\"\n",
       "  265.733,74.7654 296.971,97.6998 328.209,120.634 359.448,143.569 390.686,166.503 421.925,189.437 453.163,212.372 484.402,235.306 515.64,258.241 546.878,281.175 \n",
       "  578.117,304.11 609.355,327.044 640.594,349.978 671.832,372.913 703.071,395.847 734.309,418.782 765.547,441.716 796.786,464.651 828.024,487.585 859.263,510.519 \n",
       "  890.501,533.454 921.74,556.388 952.978,579.323 984.216,602.257 1015.45,625.191 1046.69,648.126 1077.93,671.06 1109.17,693.995 1140.41,716.929 1171.65,739.864 \n",
       "  1202.89,762.798 1234.12,785.732 1265.36,808.667 1296.6,831.601 1327.84,854.536 1359.08,877.47 1390.32,900.404 1421.55,923.339 1452.79,946.273 1484.03,969.208 \n",
       "  1515.27,992.142 \n",
       "  \"/>\n",
       "<polyline clip-path=\"url(#clip0602)\" style=\"stroke:#e26f46; stroke-width:4; stroke-opacity:1; fill:none\" points=\"\n",
       "  265.733,542.815 296.971,542.815 328.209,542.815 359.448,542.815 390.686,542.815 421.925,542.815 453.163,542.815 484.402,542.815 515.64,542.815 546.878,542.815 \n",
       "  578.117,542.815 609.355,542.815 640.594,542.815 671.832,542.815 703.071,542.815 734.309,542.815 765.547,542.815 796.786,542.815 828.024,542.815 859.263,542.815 \n",
       "  890.501,542.815 921.74,542.815 952.978,542.815 984.216,542.815 1015.45,542.815 1046.69,542.815 1077.93,542.815 1109.17,542.815 1140.41,542.815 1171.65,542.815 \n",
       "  1202.89,542.815 1234.12,542.815 1265.36,542.815 1296.6,542.815 1327.84,542.815 1359.08,542.815 1390.32,542.815 1421.55,542.815 1452.79,542.815 1484.03,542.815 \n",
       "  1515.27,542.815 \n",
       "  \"/>\n",
       "<path clip-path=\"url(#clip0600)\" d=\"\n",
       "M1106.64 203.724 L1504.76 203.724 L1504.76 82.7641 L1106.64 82.7641  Z\n",
       "  \" fill=\"#ffffff\" fill-rule=\"evenodd\" fill-opacity=\"1\"/>\n",
       "<polyline clip-path=\"url(#clip0600)\" style=\"stroke:#000000; stroke-width:4; stroke-opacity:1; fill:none\" points=\"\n",
       "  1106.64,203.724 1504.76,203.724 1504.76,82.7641 1106.64,82.7641 1106.64,203.724 \n",
       "  \"/>\n",
       "<polyline clip-path=\"url(#clip0600)\" style=\"stroke:#009af9; stroke-width:4; stroke-opacity:1; fill:none\" points=\"\n",
       "  1122.64,143.244 1218.64,143.244 \n",
       "  \"/>\n",
       "<g clip-path=\"url(#clip0600)\">\n",
       "<text style=\"fill:#000000; fill-opacity:1; font-family:Arial,Helvetica Neue,Helvetica,sans-serif; font-size:48px; text-anchor:start;\" transform=\"rotate(0, 1234.64, 160.744)\" x=\"1234.64\" y=\"160.744\">Velocidade</text>\n",
       "</g>\n",
       "</svg>\n"
      ]
     },
     "execution_count": 31,
     "metadata": {},
     "output_type": "execute_result"
    }
   ],
   "source": [
    "# Gráfico da variação da velocidade\n",
    "plot(t1:0.1:t2, V, \n",
    "    xticks = t1:0.5:t2, \n",
    "    yticks = round.(V(t2): 5: V(t1)),\n",
    "    label = \"Velocidade\",    \n",
    "    xlabel = \"tempo(s)\",\n",
    "    ylabel = \"Velocidade(m/s)\", \n",
    "    size = (400, 300))\n",
    "plot!(t1:0.1:t2, zero, label = \"\")"
   ]
  },
  {
   "cell_type": "markdown",
   "metadata": {},
   "source": [
    "Altura máxima. Para encontrarmos a altura máxima devemos resolver $s'(t) = 0$ para determinar o tempo em segundos."
   ]
  },
  {
   "cell_type": "code",
   "execution_count": 32,
   "metadata": {
    "scrolled": true
   },
   "outputs": [
    {
     "data": {
      "text/plain": [
       "2.0408163265306123"
      ]
     },
     "execution_count": 32,
     "metadata": {},
     "output_type": "execute_result"
    }
   ],
   "source": [
    "t_h_max = float(solve(diff(s(t), t))[])"
   ]
  },
  {
   "cell_type": "code",
   "execution_count": 33,
   "metadata": {
    "scrolled": true
   },
   "outputs": [
    {
     "data": {
      "text/plain": [
       "20.40816326530612"
      ]
     },
     "execution_count": 33,
     "metadata": {},
     "output_type": "execute_result"
    }
   ],
   "source": [
    "#Cálculo da altura máxima (m)\n",
    "s(t_h_max)"
   ]
  },
  {
   "cell_type": "markdown",
   "metadata": {},
   "source": [
    "\\* Uma outra forma é calcular pela formula de Torricelli, $v^2 = v^2_0-2a\\Delta{t}$, sendo $v =0$:"
   ]
  },
  {
   "cell_type": "code",
   "execution_count": 34,
   "metadata": {},
   "outputs": [
    {
     "data": {
      "text/latex": [
       "\\[ \\left[ \\begin{array}{r}20.4081632653061\\end{array} \\right] \\]"
      ],
      "text/plain": [
       "1-element Array{Sym,1}:\n",
       " 20.4081632653061"
      ]
     },
     "execution_count": 34,
     "metadata": {},
     "output_type": "execute_result"
    }
   ],
   "source": [
    "@syms ds\n",
    "solve(20^2 -2*9.8*ds, ds)"
   ]
  },
  {
   "cell_type": "markdown",
   "metadata": {},
   "source": [
    "### DERIVADA NUMÉRICA\n",
    "\n",
    "`Julia` não implementa uma função nativa para derivadas numéricas. A saída é aplicar a definição de derivada de uma função matemática na forma $\\displaystyle f'(x_0) = \\lim_{h\\rightarrow 0}{ f(x_0 + h) - f(x_0)  \\over h}  ~~$ (desde que o limite exista) ou usar o pacote a função `derivative()` do pacote `Calculus.jl`.\n",
    "\n",
    "\n"
   ]
  },
  {
   "cell_type": "markdown",
   "metadata": {},
   "source": [
    "Exemplo: Calcular a derivada primeira numérica de $f(x) = x^3 + 5x^2 - 3$ para x = 1.0"
   ]
  },
  {
   "cell_type": "code",
   "execution_count": 35,
   "metadata": {
    "scrolled": true
   },
   "outputs": [
    {
     "data": {
      "text/plain": [
       "df6 (generic function with 1 method)"
      ]
     },
     "execution_count": 35,
     "metadata": {},
     "output_type": "execute_result"
    }
   ],
   "source": [
    "f6(x) = x^3 + 5.0*x^2 - 3.0\n",
    "\n",
    "df6(x0, h) = (f6(x0 + h) - f6(x0))/h"
   ]
  },
  {
   "cell_type": "code",
   "execution_count": 36,
   "metadata": {
    "scrolled": true
   },
   "outputs": [
    {
     "data": {
      "text/plain": [
       "13.000007999863783"
      ]
     },
     "execution_count": 36,
     "metadata": {},
     "output_type": "execute_result"
    }
   ],
   "source": [
    "df6(1.0, 1e-6)"
   ]
  },
  {
   "cell_type": "code",
   "execution_count": 37,
   "metadata": {},
   "outputs": [],
   "source": [
    "using Calculus"
   ]
  },
  {
   "cell_type": "code",
   "execution_count": 38,
   "metadata": {},
   "outputs": [
    {
     "data": {
      "text/plain": [
       "12.999999999939515"
      ]
     },
     "execution_count": 38,
     "metadata": {},
     "output_type": "execute_result"
    }
   ],
   "source": [
    "derivative(f6, 1.0)"
   ]
  },
  {
   "cell_type": "markdown",
   "metadata": {},
   "source": [
    "**Derivada Segunda Numérica**\n",
    "\n",
    "Exemplo: Calcular a derivada segunda numérica de $f(x) = x^3 + 5x^2 - 3$ para x = 1.0"
   ]
  },
  {
   "cell_type": "code",
   "execution_count": 39,
   "metadata": {},
   "outputs": [
    {
     "data": {
      "text/plain": [
       "f6 (generic function with 1 method)"
      ]
     },
     "execution_count": 39,
     "metadata": {},
     "output_type": "execute_result"
    }
   ],
   "source": [
    "f6(x) = x^3 + 5.0*x^2 - 3.0"
   ]
  },
  {
   "cell_type": "code",
   "execution_count": 40,
   "metadata": {},
   "outputs": [
    {
     "data": {
      "text/plain": [
       "15.999985668849135"
      ]
     },
     "execution_count": 40,
     "metadata": {},
     "output_type": "execute_result"
    }
   ],
   "source": [
    "second_derivative(f6, 1.0)"
   ]
  },
  {
   "cell_type": "markdown",
   "metadata": {},
   "source": [
    "**Nota:** é possível usar `Calculus` para criar funções que são as derivadas de outras."
   ]
  },
  {
   "cell_type": "code",
   "execution_count": 41,
   "metadata": {},
   "outputs": [
    {
     "data": {
      "text/plain": [
       "#1 (generic function with 1 method)"
      ]
     },
     "execution_count": 41,
     "metadata": {},
     "output_type": "execute_result"
    }
   ],
   "source": [
    "df6_1 = derivative(f6)"
   ]
  },
  {
   "cell_type": "code",
   "execution_count": 42,
   "metadata": {},
   "outputs": [
    {
     "data": {
      "text/plain": [
       "12.999999999939515"
      ]
     },
     "execution_count": 42,
     "metadata": {},
     "output_type": "execute_result"
    }
   ],
   "source": [
    "df6_1(1.0)"
   ]
  },
  {
   "cell_type": "code",
   "execution_count": 43,
   "metadata": {},
   "outputs": [
    {
     "data": {
      "text/plain": [
       "#1 (generic function with 1 method)"
      ]
     },
     "execution_count": 43,
     "metadata": {},
     "output_type": "execute_result"
    }
   ],
   "source": [
    "df6_2 = derivative(df6_1)"
   ]
  },
  {
   "cell_type": "code",
   "execution_count": 44,
   "metadata": {},
   "outputs": [
    {
     "data": {
      "text/plain": [
       "15.999985668849135"
      ]
     },
     "execution_count": 44,
     "metadata": {},
     "output_type": "execute_result"
    }
   ],
   "source": [
    "df6_2(1.0)"
   ]
  },
  {
   "cell_type": "markdown",
   "metadata": {},
   "source": [
    "### DERIVADA PARCIAL\n",
    "\n",
    "De acordo com Downing (2009) a definição de derivada parcial é:\n",
    "> The partial derivative of y = f(x1 , x2, . . ., xn) with respect to xi is found by taking the derivative of y with respect to x i, while all the other independent variables are held constant.\n",
    "\n",
    "$\\displaystyle \\frac{\\partial{f}}{\\partial{x}}(x_0, y_0)~~$ é a derivada, em relação a $x$, de $f(x, y)$, mantendo-se $y$ constante e  $~~\\displaystyle \\frac{\\partial{f}}{\\partial{y}}(x_0, y_0)~~$  é a derivada, em relação a $y$, de $f(x, y)$, mantendo-se $x$ constante. \n",
    "Numericamente, as derivadas parciais são calculadas a partir da sua definição na forma:\n",
    "\n",
    "$\\displaystyle \\frac{\\partial{f}}{\\partial{x}}(x_0, y_0) = \\lim_{ \\Delta x \\rightarrow 0}{ f(x_0 + \\Delta x, y_0) - f(x_0, y_0)  \\over  \\Delta x} ~~~~$ e $~~~~ \\displaystyle \\frac{\\partial{f}}{\\partial{y}}(x_0, y_0) = \\lim_{ \\Delta y \\rightarrow 0}{ f(x_0, y_0 + \\Delta y) - f(x_0, y_0)  \\over  \\Delta y} $"
   ]
  },
  {
   "cell_type": "markdown",
   "metadata": {},
   "source": [
    "Exemplo: Calcular a derivada parcial simbólica de $f(x, y) =  xy + x^2 - 2y$ "
   ]
  },
  {
   "cell_type": "code",
   "execution_count": 45,
   "metadata": {
    "scrolled": true
   },
   "outputs": [
    {
     "data": {
      "text/plain": [
       "(x, y)"
      ]
     },
     "execution_count": 45,
     "metadata": {},
     "output_type": "execute_result"
    }
   ],
   "source": [
    "using SymPy\n",
    "@syms x y"
   ]
  },
  {
   "cell_type": "code",
   "execution_count": 46,
   "metadata": {
    "scrolled": true
   },
   "outputs": [
    {
     "data": {
      "text/plain": [
       "f7 (generic function with 1 method)"
      ]
     },
     "execution_count": 46,
     "metadata": {},
     "output_type": "execute_result"
    }
   ],
   "source": [
    "f7(x, y) =  x*y + x^2 - 2*y"
   ]
  },
  {
   "cell_type": "code",
   "execution_count": 47,
   "metadata": {
    "scrolled": true
   },
   "outputs": [
    {
     "data": {
      "text/latex": [
       "\\begin{equation*}2 x + y\\end{equation*}"
      ],
      "text/plain": [
       "2⋅x + y"
      ]
     },
     "execution_count": 47,
     "metadata": {},
     "output_type": "execute_result"
    }
   ],
   "source": [
    "# Derivada Primeira parcial em relação a variável x\n",
    "diff(f7(x, y), x, 1)"
   ]
  },
  {
   "cell_type": "code",
   "execution_count": 48,
   "metadata": {},
   "outputs": [
    {
     "data": {
      "text/latex": [
       "\\begin{equation*}1\\end{equation*}"
      ],
      "text/plain": [
       "1"
      ]
     },
     "execution_count": 48,
     "metadata": {},
     "output_type": "execute_result"
    }
   ],
   "source": [
    "# Derivada Primeira parcial em relação a variável x definida para x = 0 e y = 1\n",
    "diff(f7(x, y), x, 1)(0, 1) "
   ]
  },
  {
   "cell_type": "code",
   "execution_count": 49,
   "metadata": {},
   "outputs": [
    {
     "data": {
      "text/latex": [
       "\\begin{equation*}x - 2\\end{equation*}"
      ],
      "text/plain": [
       "x - 2"
      ]
     },
     "execution_count": 49,
     "metadata": {},
     "output_type": "execute_result"
    }
   ],
   "source": [
    "# Derivada Primeira parcial em relação a variável y\n",
    "diff(f7(x, y), y, 1)"
   ]
  },
  {
   "cell_type": "code",
   "execution_count": 50,
   "metadata": {},
   "outputs": [
    {
     "data": {
      "text/latex": [
       "\\begin{equation*}-2\\end{equation*}"
      ],
      "text/plain": [
       "-2"
      ]
     },
     "execution_count": 50,
     "metadata": {},
     "output_type": "execute_result"
    }
   ],
   "source": [
    "# # Derivada Primeira parcial em relação a variável y definida para x = 0 e y = 1\n",
    "diff(f7(x, y), y, 1)(0, 1)"
   ]
  },
  {
   "cell_type": "markdown",
   "metadata": {},
   "source": [
    "**Atribuíndo a derivada a uma variável**\n",
    "\n",
    "Quando atribuímos o resultado da função `diff()` a uma variável (`var = diff(f(x,y), x, 1)`), é possível realizar `var(valor_x, valor_y)` e obter um resultado,  porém não há certeza se os valores atribídos para $ x $  e $ y $ serão aplicados na ordem correta. Dessa forma a função `subs()` do pacote `SymPy.jl` resolve este problema."
   ]
  },
  {
   "cell_type": "code",
   "execution_count": 51,
   "metadata": {},
   "outputs": [
    {
     "data": {
      "text/latex": [
       "\\begin{equation*}2 x + y\\end{equation*}"
      ],
      "text/plain": [
       "2⋅x + y"
      ]
     },
     "execution_count": 51,
     "metadata": {},
     "output_type": "execute_result"
    }
   ],
   "source": [
    "# Derivada Primeira parcial em relação a variável x\n",
    "Dx = diff(f7(x, y), x, 1)"
   ]
  },
  {
   "cell_type": "code",
   "execution_count": 52,
   "metadata": {},
   "outputs": [
    {
     "data": {
      "text/latex": [
       "\\begin{equation*}1\\end{equation*}"
      ],
      "text/plain": [
       "1"
      ]
     },
     "execution_count": 52,
     "metadata": {},
     "output_type": "execute_result"
    }
   ],
   "source": [
    "# Testando para x = 0 e y = 1\n",
    "subs(Dx, x=>0, y=>1)"
   ]
  },
  {
   "cell_type": "code",
   "execution_count": 53,
   "metadata": {},
   "outputs": [
    {
     "data": {
      "text/latex": [
       "\\begin{equation*}x - 2\\end{equation*}"
      ],
      "text/plain": [
       "x - 2"
      ]
     },
     "execution_count": 53,
     "metadata": {},
     "output_type": "execute_result"
    }
   ],
   "source": [
    "# Derivada Primeira parcial em relação a variável y\n",
    "Dy = diff(f7(x, y), y, 1) "
   ]
  },
  {
   "cell_type": "code",
   "execution_count": 54,
   "metadata": {},
   "outputs": [
    {
     "data": {
      "text/latex": [
       "\\begin{equation*}-2\\end{equation*}"
      ],
      "text/plain": [
       "-2"
      ]
     },
     "execution_count": 54,
     "metadata": {},
     "output_type": "execute_result"
    }
   ],
   "source": [
    "# Testando para x = 0 e y = 1\n",
    "subs(Dy, x=>0, y=>1)"
   ]
  },
  {
   "cell_type": "markdown",
   "metadata": {},
   "source": [
    "### POLINÔMIOS\n",
    "\n",
    "Dado um polinômio definido como $p(x)= a_nx^n + a_{n−1}x^{n−1} + ... +   a_2x^2 + a_1x + a_0$, o pacote `Polinomials.jl` possui a função `polyder()` que calcula a derivada termo por termo. É importante observar que o `SymPy.jl` também importa as funções de manipulação de polinômos `Poly()`, `coeffs()`, `poly()` e `degree()`. Dessa forma, é necessário a sintaxe `Polynomials.função()` quando utilizamos juntos os pacote `Polinomials.jl` e `SymPy.jl`. A função `polyder()` retorna resultado do tipo `Polynomials.Poly{Int64}` manipulável semelhante a uma expressão algébrica simbólia criada pelo `SymPy.jl`. Sintaxe:\n",
    "\n",
    "```julia\n",
    "polyder(Polynomials.Poly([a_0, a_1, a_2 ... , a_n])\n",
    "```\n",
    "Sendo:\n",
    "* **[a_0, a_1, a_2 ... , a_n]**: vetor dos termos do polinômio.\n"
   ]
  },
  {
   "cell_type": "markdown",
   "metadata": {},
   "source": [
    "Exemplo: Calcular a derivada de $p(x) = 3x^2 + 2x + 1$"
   ]
  },
  {
   "cell_type": "code",
   "execution_count": 55,
   "metadata": {},
   "outputs": [],
   "source": [
    "using Polynomials"
   ]
  },
  {
   "cell_type": "code",
   "execution_count": 56,
   "metadata": {
    "scrolled": false
   },
   "outputs": [
    {
     "data": {
      "text/html": [
       "2 &#43; 6&#8729;x"
      ],
      "text/latex": [
       "$2 + 6\\cdot x$"
      ],
      "text/plain": [
       "Poly(2 + 6*x)"
      ]
     },
     "execution_count": 56,
     "metadata": {},
     "output_type": "execute_result"
    }
   ],
   "source": [
    "dp = polyder(Polynomials.Poly([1, 2, 3]))"
   ]
  },
  {
   "cell_type": "code",
   "execution_count": 57,
   "metadata": {},
   "outputs": [
    {
     "data": {
      "text/plain": [
       "Poly{Int64}"
      ]
     },
     "execution_count": 57,
     "metadata": {},
     "output_type": "execute_result"
    }
   ],
   "source": [
    "typeof(dp)"
   ]
  },
  {
   "cell_type": "code",
   "execution_count": 58,
   "metadata": {},
   "outputs": [
    {
     "data": {
      "text/plain": [
       "2"
      ]
     },
     "execution_count": 58,
     "metadata": {},
     "output_type": "execute_result"
    }
   ],
   "source": [
    "# substituindo x por 0\n",
    "dp(0)"
   ]
  },
  {
   "cell_type": "code",
   "execution_count": 59,
   "metadata": {
    "scrolled": true
   },
   "outputs": [
    {
     "data": {
      "text/plain": [
       "3-element Array{Int64,1}:\n",
       "  8\n",
       " 14\n",
       " 20"
      ]
     },
     "execution_count": 59,
     "metadata": {},
     "output_type": "execute_result"
    }
   ],
   "source": [
    "# aplicando um vetor à derivada \n",
    "dp.([1, 2, 3])"
   ]
  },
  {
   "cell_type": "markdown",
   "metadata": {},
   "source": [
    "Para atribuir o resultado da função `polyder()` à uma função genérica use:\n",
    "```julia\n",
    "@eval função_nome(x) = $(Meta.parse(string(polyder(Polynomials.Poly([a_0, a_1, a_2 ... , a_n])))))\n",
    "```"
   ]
  },
  {
   "cell_type": "code",
   "execution_count": 60,
   "metadata": {
    "scrolled": false
   },
   "outputs": [
    {
     "data": {
      "text/plain": [
       "dfp (generic function with 1 method)"
      ]
     },
     "execution_count": 60,
     "metadata": {},
     "output_type": "execute_result"
    }
   ],
   "source": [
    "@eval dfp(x) = $(Meta.parse(string(polyder(Polynomials.Poly([1, 2, 3])))))"
   ]
  },
  {
   "cell_type": "code",
   "execution_count": 61,
   "metadata": {
    "scrolled": true
   },
   "outputs": [
    {
     "data": {
      "text/html": [
       "2"
      ],
      "text/latex": [
       "$2$"
      ],
      "text/plain": [
       "Poly(2)"
      ]
     },
     "execution_count": 61,
     "metadata": {},
     "output_type": "execute_result"
    }
   ],
   "source": [
    "dfp(0)"
   ]
  },
  {
   "cell_type": "markdown",
   "metadata": {},
   "source": [
    "### APLICAÇÕES DAS DERIVADAS: MÁXIMOS E MÍNIMOS DE FUNÇÕES\n",
    "\n",
    "De acordo com Stewart(2010) as condições básicas para determinar um ponto de máximo ou mínimo local é:\n",
    ">Suponha que $~f''$ seja contínua na proximidade de $c$.\n",
    "\n",
    ">(a) Se $f'(c)=0~$  e $~f''(c)>0$, então $f$ tem um mínimo local em c.\n",
    "\n",
    ">(b) Se $f'(c)=0~$  e $~f''(c)<0$, então $f$ tem um máximo local em c.\n",
    "\n",
    "O Teste da derivada degunda é falha quando $f''=0$, ou seja, esse ponto pode ser um máximo, um mínimo ou nenhum dos dois."
   ]
  },
  {
   "cell_type": "markdown",
   "metadata": {},
   "source": [
    "Exemplo: $f(x) = x^3 - x^2 - x + 5$ "
   ]
  },
  {
   "cell_type": "code",
   "execution_count": 62,
   "metadata": {
    "scrolled": true
   },
   "outputs": [
    {
     "data": {
      "text/plain": [
       "(x,)"
      ]
     },
     "execution_count": 62,
     "metadata": {},
     "output_type": "execute_result"
    }
   ],
   "source": [
    "using SymPy\n",
    "@syms x"
   ]
  },
  {
   "cell_type": "code",
   "execution_count": 63,
   "metadata": {},
   "outputs": [
    {
     "data": {
      "text/plain": [
       "f7 (generic function with 2 methods)"
      ]
     },
     "execution_count": 63,
     "metadata": {},
     "output_type": "execute_result"
    }
   ],
   "source": [
    "f7(x) = x^3 - x^2 - x + 5"
   ]
  },
  {
   "cell_type": "code",
   "execution_count": 64,
   "metadata": {
    "scrolled": false
   },
   "outputs": [
    {
     "data": {
      "image/svg+xml": [
       "<?xml version=\"1.0\" encoding=\"utf-8\"?>\n",
       "<svg xmlns=\"http://www.w3.org/2000/svg\" xmlns:xlink=\"http://www.w3.org/1999/xlink\" width=\"400\" height=\"300\" viewBox=\"0 0 1600 1200\">\n",
       "<defs>\n",
       "  <clipPath id=\"clip1000\">\n",
       "    <rect x=\"0\" y=\"0\" width=\"1600\" height=\"1200\"/>\n",
       "  </clipPath>\n",
       "</defs>\n",
       "<path clip-path=\"url(#clip1000)\" d=\"\n",
       "M0 1200 L1600 1200 L1600 0 L0 0  Z\n",
       "  \" fill=\"#ffffff\" fill-rule=\"evenodd\" fill-opacity=\"1\"/>\n",
       "<defs>\n",
       "  <clipPath id=\"clip1001\">\n",
       "    <rect x=\"320\" y=\"0\" width=\"1121\" height=\"1121\"/>\n",
       "  </clipPath>\n",
       "</defs>\n",
       "<path clip-path=\"url(#clip1000)\" d=\"\n",
       "M172.66 1087.28 L1552.76 1087.28 L1552.76 47.2441 L172.66 47.2441  Z\n",
       "  \" fill=\"#ffffff\" fill-rule=\"evenodd\" fill-opacity=\"1\"/>\n",
       "<defs>\n",
       "  <clipPath id=\"clip1002\">\n",
       "    <rect x=\"172\" y=\"47\" width=\"1381\" height=\"1041\"/>\n",
       "  </clipPath>\n",
       "</defs>\n",
       "<polyline clip-path=\"url(#clip1002)\" style=\"stroke:#000000; stroke-width:2; stroke-opacity:0.1; fill:none\" points=\"\n",
       "  211.72,1087.28 211.72,47.2441 \n",
       "  \"/>\n",
       "<polyline clip-path=\"url(#clip1002)\" style=\"stroke:#000000; stroke-width:2; stroke-opacity:0.1; fill:none\" points=\"\n",
       "  537.214,1087.28 537.214,47.2441 \n",
       "  \"/>\n",
       "<polyline clip-path=\"url(#clip1002)\" style=\"stroke:#000000; stroke-width:2; stroke-opacity:0.1; fill:none\" points=\"\n",
       "  862.708,1087.28 862.708,47.2441 \n",
       "  \"/>\n",
       "<polyline clip-path=\"url(#clip1002)\" style=\"stroke:#000000; stroke-width:2; stroke-opacity:0.1; fill:none\" points=\"\n",
       "  1188.2,1087.28 1188.2,47.2441 \n",
       "  \"/>\n",
       "<polyline clip-path=\"url(#clip1002)\" style=\"stroke:#000000; stroke-width:2; stroke-opacity:0.1; fill:none\" points=\"\n",
       "  1513.7,1087.28 1513.7,47.2441 \n",
       "  \"/>\n",
       "<polyline clip-path=\"url(#clip1002)\" style=\"stroke:#000000; stroke-width:2; stroke-opacity:0.1; fill:none\" points=\"\n",
       "  172.66,1057.85 1552.76,1057.85 \n",
       "  \"/>\n",
       "<polyline clip-path=\"url(#clip1002)\" style=\"stroke:#000000; stroke-width:2; stroke-opacity:0.1; fill:none\" points=\"\n",
       "  172.66,850.5 1552.76,850.5 \n",
       "  \"/>\n",
       "<polyline clip-path=\"url(#clip1002)\" style=\"stroke:#000000; stroke-width:2; stroke-opacity:0.1; fill:none\" points=\"\n",
       "  172.66,643.153 1552.76,643.153 \n",
       "  \"/>\n",
       "<polyline clip-path=\"url(#clip1002)\" style=\"stroke:#000000; stroke-width:2; stroke-opacity:0.1; fill:none\" points=\"\n",
       "  172.66,435.805 1552.76,435.805 \n",
       "  \"/>\n",
       "<polyline clip-path=\"url(#clip1002)\" style=\"stroke:#000000; stroke-width:2; stroke-opacity:0.1; fill:none\" points=\"\n",
       "  172.66,228.458 1552.76,228.458 \n",
       "  \"/>\n",
       "<polyline clip-path=\"url(#clip1000)\" style=\"stroke:#000000; stroke-width:4; stroke-opacity:1; fill:none\" points=\"\n",
       "  172.66,1087.28 1552.76,1087.28 \n",
       "  \"/>\n",
       "<polyline clip-path=\"url(#clip1000)\" style=\"stroke:#000000; stroke-width:4; stroke-opacity:1; fill:none\" points=\"\n",
       "  172.66,1087.28 172.66,47.2441 \n",
       "  \"/>\n",
       "<polyline clip-path=\"url(#clip1000)\" style=\"stroke:#000000; stroke-width:4; stroke-opacity:1; fill:none\" points=\"\n",
       "  211.72,1087.28 211.72,1071.68 \n",
       "  \"/>\n",
       "<polyline clip-path=\"url(#clip1000)\" style=\"stroke:#000000; stroke-width:4; stroke-opacity:1; fill:none\" points=\"\n",
       "  537.214,1087.28 537.214,1071.68 \n",
       "  \"/>\n",
       "<polyline clip-path=\"url(#clip1000)\" style=\"stroke:#000000; stroke-width:4; stroke-opacity:1; fill:none\" points=\"\n",
       "  862.708,1087.28 862.708,1071.68 \n",
       "  \"/>\n",
       "<polyline clip-path=\"url(#clip1000)\" style=\"stroke:#000000; stroke-width:4; stroke-opacity:1; fill:none\" points=\"\n",
       "  1188.2,1087.28 1188.2,1071.68 \n",
       "  \"/>\n",
       "<polyline clip-path=\"url(#clip1000)\" style=\"stroke:#000000; stroke-width:4; stroke-opacity:1; fill:none\" points=\"\n",
       "  1513.7,1087.28 1513.7,1071.68 \n",
       "  \"/>\n",
       "<polyline clip-path=\"url(#clip1000)\" style=\"stroke:#000000; stroke-width:4; stroke-opacity:1; fill:none\" points=\"\n",
       "  172.66,1057.85 193.362,1057.85 \n",
       "  \"/>\n",
       "<polyline clip-path=\"url(#clip1000)\" style=\"stroke:#000000; stroke-width:4; stroke-opacity:1; fill:none\" points=\"\n",
       "  172.66,850.5 193.362,850.5 \n",
       "  \"/>\n",
       "<polyline clip-path=\"url(#clip1000)\" style=\"stroke:#000000; stroke-width:4; stroke-opacity:1; fill:none\" points=\"\n",
       "  172.66,643.153 193.362,643.153 \n",
       "  \"/>\n",
       "<polyline clip-path=\"url(#clip1000)\" style=\"stroke:#000000; stroke-width:4; stroke-opacity:1; fill:none\" points=\"\n",
       "  172.66,435.805 193.362,435.805 \n",
       "  \"/>\n",
       "<polyline clip-path=\"url(#clip1000)\" style=\"stroke:#000000; stroke-width:4; stroke-opacity:1; fill:none\" points=\"\n",
       "  172.66,228.458 193.362,228.458 \n",
       "  \"/>\n",
       "<g clip-path=\"url(#clip1000)\">\n",
       "<text style=\"fill:#000000; fill-opacity:1; font-family:Arial,Helvetica Neue,Helvetica,sans-serif; font-size:48px; text-anchor:middle;\" transform=\"rotate(0, 211.72, 1137.28)\" x=\"211.72\" y=\"1137.28\">-0.5</text>\n",
       "</g>\n",
       "<g clip-path=\"url(#clip1000)\">\n",
       "<text style=\"fill:#000000; fill-opacity:1; font-family:Arial,Helvetica Neue,Helvetica,sans-serif; font-size:48px; text-anchor:middle;\" transform=\"rotate(0, 537.214, 1137.28)\" x=\"537.214\" y=\"1137.28\">0.0</text>\n",
       "</g>\n",
       "<g clip-path=\"url(#clip1000)\">\n",
       "<text style=\"fill:#000000; fill-opacity:1; font-family:Arial,Helvetica Neue,Helvetica,sans-serif; font-size:48px; text-anchor:middle;\" transform=\"rotate(0, 862.708, 1137.28)\" x=\"862.708\" y=\"1137.28\">0.5</text>\n",
       "</g>\n",
       "<g clip-path=\"url(#clip1000)\">\n",
       "<text style=\"fill:#000000; fill-opacity:1; font-family:Arial,Helvetica Neue,Helvetica,sans-serif; font-size:48px; text-anchor:middle;\" transform=\"rotate(0, 1188.2, 1137.28)\" x=\"1188.2\" y=\"1137.28\">1.0</text>\n",
       "</g>\n",
       "<g clip-path=\"url(#clip1000)\">\n",
       "<text style=\"fill:#000000; fill-opacity:1; font-family:Arial,Helvetica Neue,Helvetica,sans-serif; font-size:48px; text-anchor:middle;\" transform=\"rotate(0, 1513.7, 1137.28)\" x=\"1513.7\" y=\"1137.28\">1.5</text>\n",
       "</g>\n",
       "<g clip-path=\"url(#clip1000)\">\n",
       "<text style=\"fill:#000000; fill-opacity:1; font-family:Arial,Helvetica Neue,Helvetica,sans-serif; font-size:48px; text-anchor:end;\" transform=\"rotate(0, 156.66, 1075.35)\" x=\"156.66\" y=\"1075.35\">4.00</text>\n",
       "</g>\n",
       "<g clip-path=\"url(#clip1000)\">\n",
       "<text style=\"fill:#000000; fill-opacity:1; font-family:Arial,Helvetica Neue,Helvetica,sans-serif; font-size:48px; text-anchor:end;\" transform=\"rotate(0, 156.66, 868)\" x=\"156.66\" y=\"868\">4.25</text>\n",
       "</g>\n",
       "<g clip-path=\"url(#clip1000)\">\n",
       "<text style=\"fill:#000000; fill-opacity:1; font-family:Arial,Helvetica Neue,Helvetica,sans-serif; font-size:48px; text-anchor:end;\" transform=\"rotate(0, 156.66, 660.653)\" x=\"156.66\" y=\"660.653\">4.50</text>\n",
       "</g>\n",
       "<g clip-path=\"url(#clip1000)\">\n",
       "<text style=\"fill:#000000; fill-opacity:1; font-family:Arial,Helvetica Neue,Helvetica,sans-serif; font-size:48px; text-anchor:end;\" transform=\"rotate(0, 156.66, 453.305)\" x=\"156.66\" y=\"453.305\">4.75</text>\n",
       "</g>\n",
       "<g clip-path=\"url(#clip1000)\">\n",
       "<text style=\"fill:#000000; fill-opacity:1; font-family:Arial,Helvetica Neue,Helvetica,sans-serif; font-size:48px; text-anchor:end;\" transform=\"rotate(0, 156.66, 245.958)\" x=\"156.66\" y=\"245.958\">5.00</text>\n",
       "</g>\n",
       "<polyline clip-path=\"url(#clip1002)\" style=\"stroke:#009af9; stroke-width:4; stroke-opacity:1; fill:none\" points=\"\n",
       "  211.72,124.784 276.818,82.4849 341.917,76.6792 407.016,102.39 472.115,154.642 537.214,228.458 602.313,318.861 667.412,420.876 732.51,529.526 797.609,639.835 \n",
       "  862.708,746.827 927.807,845.524 992.906,930.951 1058,998.132 1123.1,1042.09 1188.2,1057.85 1253.3,1040.43 1318.4,984.862 1383.5,886.164 1448.6,739.362 \n",
       "  1513.7,539.479 \n",
       "  \"/>\n",
       "<path clip-path=\"url(#clip1000)\" d=\"\n",
       "M1200.26 203.724 L1504.76 203.724 L1504.76 82.7641 L1200.26 82.7641  Z\n",
       "  \" fill=\"#ffffff\" fill-rule=\"evenodd\" fill-opacity=\"1\"/>\n",
       "<polyline clip-path=\"url(#clip1000)\" style=\"stroke:#000000; stroke-width:4; stroke-opacity:1; fill:none\" points=\"\n",
       "  1200.26,203.724 1504.76,203.724 1504.76,82.7641 1200.26,82.7641 1200.26,203.724 \n",
       "  \"/>\n",
       "<polyline clip-path=\"url(#clip1000)\" style=\"stroke:#009af9; stroke-width:4; stroke-opacity:1; fill:none\" points=\"\n",
       "  1216.26,143.244 1312.26,143.244 \n",
       "  \"/>\n",
       "<g clip-path=\"url(#clip1000)\">\n",
       "<text style=\"fill:#000000; fill-opacity:1; font-family:Arial,Helvetica Neue,Helvetica,sans-serif; font-size:48px; text-anchor:start;\" transform=\"rotate(0, 1328.26, 160.744)\" x=\"1328.26\" y=\"160.744\">função</text>\n",
       "</g>\n",
       "</svg>\n"
      ]
     },
     "execution_count": 64,
     "metadata": {},
     "output_type": "execute_result"
    }
   ],
   "source": [
    "using Plots\n",
    "gr()\n",
    "\n",
    "plot(-0.5:0.1:1.5, f7, size = (400, 300), label = \"função\")"
   ]
  },
  {
   "cell_type": "markdown",
   "metadata": {},
   "source": [
    "**Pontos críticos**"
   ]
  },
  {
   "cell_type": "markdown",
   "metadata": {},
   "source": [
    "Para encontar um ponto crítico, $P(x_{crítico}, y_{crítico})$, devemos:\n",
    "1. calcular as raízes que determinam os números críticos $x_c$ de $f'(x) = 0$.\n",
    "2. aplicar o teste da derivada segunda para $~x_c~$, ou seja $~f''(x_c)~$"
   ]
  },
  {
   "cell_type": "code",
   "execution_count": 65,
   "metadata": {},
   "outputs": [
    {
     "data": {
      "text/latex": [
       "\\[ \\left[ \\begin{array}{r}- \\frac{1}{3}\\\\1\\end{array} \\right] \\]"
      ],
      "text/plain": [
       "2-element Array{Sym,1}:\n",
       " -1/3\n",
       "    1"
      ]
     },
     "execution_count": 65,
     "metadata": {},
     "output_type": "execute_result"
    }
   ],
   "source": [
    "#números críticos da abscissa\n",
    "xc =  solve(diff(f7(x), x) , x)"
   ]
  },
  {
   "cell_type": "code",
   "execution_count": 66,
   "metadata": {
    "scrolled": true
   },
   "outputs": [
    {
     "data": {
      "text/plain": [
       "2-element Array{Tuple{Float64,Float64},1}:\n",
       " (-0.3333333333333333, 5.185185185185185)\n",
       " (1.0, 4.0)                              "
      ]
     },
     "execution_count": 66,
     "metadata": {},
     "output_type": "execute_result"
    }
   ],
   "source": [
    "#Pontos críticos\n",
    "P = [(i, f7(i)) for i = float(xc)]"
   ]
  },
  {
   "cell_type": "markdown",
   "metadata": {},
   "source": [
    "Agora sabemos que os pontos $~P_1(-0.3333333333333333, ~5.185185185185185)~$ e $~P_2(1.0, ~4.0)$ são os pontos críticos da função $f(x) = x^3 - x^2 - x + 5$. Devemos agora determinar se são pontos de máximo local ou mínimo local aplicando o teste da derivada segunda e observar que para um número crítico $c$ temos:\n",
    "\n",
    " $f''(c) < 0$ : máximo local ; $~~f''(c) > 0$ : mínimo local\n"
   ]
  },
  {
   "cell_type": "code",
   "execution_count": 67,
   "metadata": {},
   "outputs": [],
   "source": [
    "for i = xc    \n",
    "    if diff(f7(x), x, 2)(i) < 0\n",
    "        global max_local = (i, float(f7(i)))\n",
    "    else\n",
    "        global min_local = (i, float(f7(i)))\n",
    "    end\n",
    "end"
   ]
  },
  {
   "cell_type": "code",
   "execution_count": 68,
   "metadata": {
    "scrolled": true
   },
   "outputs": [
    {
     "data": {
      "text/plain": [
       "((-1/3, 5.185185185185185), (1, 4.0))"
      ]
     },
     "execution_count": 68,
     "metadata": {},
     "output_type": "execute_result"
    }
   ],
   "source": [
    "max_local, min_local"
   ]
  },
  {
   "cell_type": "markdown",
   "metadata": {},
   "source": [
    "Outra forma utilizando list comprehension"
   ]
  },
  {
   "cell_type": "code",
   "execution_count": 69,
   "metadata": {},
   "outputs": [
    {
     "data": {
      "text/plain": [
       "2-element Array{Tuple{Sym,Float64},1}:\n",
       " (-1/3, 5.185185185185185)\n",
       " (1, 4.0)                 "
      ]
     },
     "execution_count": 69,
     "metadata": {},
     "output_type": "execute_result"
    }
   ],
   "source": [
    "[float(diff(f7(x), x, 2)(i))< 0 ? max_local=(i, float(f7(i))) : min_local=(i, float(f7(i))) for i = xc]"
   ]
  },
  {
   "cell_type": "markdown",
   "metadata": {},
   "source": [
    "**Gráfico**"
   ]
  },
  {
   "cell_type": "code",
   "execution_count": 70,
   "metadata": {},
   "outputs": [
    {
     "data": {
      "image/svg+xml": [
       "<?xml version=\"1.0\" encoding=\"utf-8\"?>\n",
       "<svg xmlns=\"http://www.w3.org/2000/svg\" xmlns:xlink=\"http://www.w3.org/1999/xlink\" width=\"400\" height=\"300\" viewBox=\"0 0 1600 1200\">\n",
       "<defs>\n",
       "  <clipPath id=\"clip1400\">\n",
       "    <rect x=\"0\" y=\"0\" width=\"1600\" height=\"1200\"/>\n",
       "  </clipPath>\n",
       "</defs>\n",
       "<path clip-path=\"url(#clip1400)\" d=\"\n",
       "M0 1200 L1600 1200 L1600 0 L0 0  Z\n",
       "  \" fill=\"#ffffff\" fill-rule=\"evenodd\" fill-opacity=\"1\"/>\n",
       "<defs>\n",
       "  <clipPath id=\"clip1401\">\n",
       "    <rect x=\"320\" y=\"0\" width=\"1121\" height=\"1121\"/>\n",
       "  </clipPath>\n",
       "</defs>\n",
       "<path clip-path=\"url(#clip1400)\" d=\"\n",
       "M145.898 1087.28 L1552.76 1087.28 L1552.76 47.2441 L145.898 47.2441  Z\n",
       "  \" fill=\"#ffffff\" fill-rule=\"evenodd\" fill-opacity=\"1\"/>\n",
       "<defs>\n",
       "  <clipPath id=\"clip1402\">\n",
       "    <rect x=\"145\" y=\"47\" width=\"1408\" height=\"1041\"/>\n",
       "  </clipPath>\n",
       "</defs>\n",
       "<polyline clip-path=\"url(#clip1402)\" style=\"stroke:#000000; stroke-width:2; stroke-opacity:0.1; fill:none\" points=\"\n",
       "  185.715,1087.28 185.715,47.2441 \n",
       "  \"/>\n",
       "<polyline clip-path=\"url(#clip1402)\" style=\"stroke:#000000; stroke-width:2; stroke-opacity:0.1; fill:none\" points=\"\n",
       "  318.437,1087.28 318.437,47.2441 \n",
       "  \"/>\n",
       "<polyline clip-path=\"url(#clip1402)\" style=\"stroke:#000000; stroke-width:2; stroke-opacity:0.1; fill:none\" points=\"\n",
       "  451.16,1087.28 451.16,47.2441 \n",
       "  \"/>\n",
       "<polyline clip-path=\"url(#clip1402)\" style=\"stroke:#000000; stroke-width:2; stroke-opacity:0.1; fill:none\" points=\"\n",
       "  583.882,1087.28 583.882,47.2441 \n",
       "  \"/>\n",
       "<polyline clip-path=\"url(#clip1402)\" style=\"stroke:#000000; stroke-width:2; stroke-opacity:0.1; fill:none\" points=\"\n",
       "  716.604,1087.28 716.604,47.2441 \n",
       "  \"/>\n",
       "<polyline clip-path=\"url(#clip1402)\" style=\"stroke:#000000; stroke-width:2; stroke-opacity:0.1; fill:none\" points=\"\n",
       "  849.327,1087.28 849.327,47.2441 \n",
       "  \"/>\n",
       "<polyline clip-path=\"url(#clip1402)\" style=\"stroke:#000000; stroke-width:2; stroke-opacity:0.1; fill:none\" points=\"\n",
       "  982.049,1087.28 982.049,47.2441 \n",
       "  \"/>\n",
       "<polyline clip-path=\"url(#clip1402)\" style=\"stroke:#000000; stroke-width:2; stroke-opacity:0.1; fill:none\" points=\"\n",
       "  1114.77,1087.28 1114.77,47.2441 \n",
       "  \"/>\n",
       "<polyline clip-path=\"url(#clip1402)\" style=\"stroke:#000000; stroke-width:2; stroke-opacity:0.1; fill:none\" points=\"\n",
       "  1247.49,1087.28 1247.49,47.2441 \n",
       "  \"/>\n",
       "<polyline clip-path=\"url(#clip1402)\" style=\"stroke:#000000; stroke-width:2; stroke-opacity:0.1; fill:none\" points=\"\n",
       "  1380.22,1087.28 1380.22,47.2441 \n",
       "  \"/>\n",
       "<polyline clip-path=\"url(#clip1402)\" style=\"stroke:#000000; stroke-width:2; stroke-opacity:0.1; fill:none\" points=\"\n",
       "  1512.94,1087.28 1512.94,47.2441 \n",
       "  \"/>\n",
       "<polyline clip-path=\"url(#clip1402)\" style=\"stroke:#000000; stroke-width:2; stroke-opacity:0.1; fill:none\" points=\"\n",
       "  145.898,1057.85 1552.76,1057.85 \n",
       "  \"/>\n",
       "<polyline clip-path=\"url(#clip1402)\" style=\"stroke:#000000; stroke-width:2; stroke-opacity:0.1; fill:none\" points=\"\n",
       "  145.898,975.062 1552.76,975.062 \n",
       "  \"/>\n",
       "<polyline clip-path=\"url(#clip1402)\" style=\"stroke:#000000; stroke-width:2; stroke-opacity:0.1; fill:none\" points=\"\n",
       "  145.898,892.276 1552.76,892.276 \n",
       "  \"/>\n",
       "<polyline clip-path=\"url(#clip1402)\" style=\"stroke:#000000; stroke-width:2; stroke-opacity:0.1; fill:none\" points=\"\n",
       "  145.898,809.49 1552.76,809.49 \n",
       "  \"/>\n",
       "<polyline clip-path=\"url(#clip1402)\" style=\"stroke:#000000; stroke-width:2; stroke-opacity:0.1; fill:none\" points=\"\n",
       "  145.898,726.704 1552.76,726.704 \n",
       "  \"/>\n",
       "<polyline clip-path=\"url(#clip1402)\" style=\"stroke:#000000; stroke-width:2; stroke-opacity:0.1; fill:none\" points=\"\n",
       "  145.898,643.917 1552.76,643.917 \n",
       "  \"/>\n",
       "<polyline clip-path=\"url(#clip1402)\" style=\"stroke:#000000; stroke-width:2; stroke-opacity:0.1; fill:none\" points=\"\n",
       "  145.898,561.131 1552.76,561.131 \n",
       "  \"/>\n",
       "<polyline clip-path=\"url(#clip1402)\" style=\"stroke:#000000; stroke-width:2; stroke-opacity:0.1; fill:none\" points=\"\n",
       "  145.898,478.345 1552.76,478.345 \n",
       "  \"/>\n",
       "<polyline clip-path=\"url(#clip1402)\" style=\"stroke:#000000; stroke-width:2; stroke-opacity:0.1; fill:none\" points=\"\n",
       "  145.898,395.559 1552.76,395.559 \n",
       "  \"/>\n",
       "<polyline clip-path=\"url(#clip1402)\" style=\"stroke:#000000; stroke-width:2; stroke-opacity:0.1; fill:none\" points=\"\n",
       "  145.898,312.773 1552.76,312.773 \n",
       "  \"/>\n",
       "<polyline clip-path=\"url(#clip1402)\" style=\"stroke:#000000; stroke-width:2; stroke-opacity:0.1; fill:none\" points=\"\n",
       "  145.898,229.987 1552.76,229.987 \n",
       "  \"/>\n",
       "<polyline clip-path=\"url(#clip1402)\" style=\"stroke:#000000; stroke-width:2; stroke-opacity:0.1; fill:none\" points=\"\n",
       "  145.898,147.201 1552.76,147.201 \n",
       "  \"/>\n",
       "<polyline clip-path=\"url(#clip1402)\" style=\"stroke:#000000; stroke-width:2; stroke-opacity:0.1; fill:none\" points=\"\n",
       "  145.898,64.4145 1552.76,64.4145 \n",
       "  \"/>\n",
       "<polyline clip-path=\"url(#clip1400)\" style=\"stroke:#000000; stroke-width:4; stroke-opacity:1; fill:none\" points=\"\n",
       "  145.898,1087.28 1552.76,1087.28 \n",
       "  \"/>\n",
       "<polyline clip-path=\"url(#clip1400)\" style=\"stroke:#000000; stroke-width:4; stroke-opacity:1; fill:none\" points=\"\n",
       "  145.898,1087.28 145.898,47.2441 \n",
       "  \"/>\n",
       "<polyline clip-path=\"url(#clip1400)\" style=\"stroke:#000000; stroke-width:4; stroke-opacity:1; fill:none\" points=\"\n",
       "  185.715,1087.28 185.715,1071.68 \n",
       "  \"/>\n",
       "<polyline clip-path=\"url(#clip1400)\" style=\"stroke:#000000; stroke-width:4; stroke-opacity:1; fill:none\" points=\"\n",
       "  318.437,1087.28 318.437,1071.68 \n",
       "  \"/>\n",
       "<polyline clip-path=\"url(#clip1400)\" style=\"stroke:#000000; stroke-width:4; stroke-opacity:1; fill:none\" points=\"\n",
       "  451.16,1087.28 451.16,1071.68 \n",
       "  \"/>\n",
       "<polyline clip-path=\"url(#clip1400)\" style=\"stroke:#000000; stroke-width:4; stroke-opacity:1; fill:none\" points=\"\n",
       "  583.882,1087.28 583.882,1071.68 \n",
       "  \"/>\n",
       "<polyline clip-path=\"url(#clip1400)\" style=\"stroke:#000000; stroke-width:4; stroke-opacity:1; fill:none\" points=\"\n",
       "  716.604,1087.28 716.604,1071.68 \n",
       "  \"/>\n",
       "<polyline clip-path=\"url(#clip1400)\" style=\"stroke:#000000; stroke-width:4; stroke-opacity:1; fill:none\" points=\"\n",
       "  849.327,1087.28 849.327,1071.68 \n",
       "  \"/>\n",
       "<polyline clip-path=\"url(#clip1400)\" style=\"stroke:#000000; stroke-width:4; stroke-opacity:1; fill:none\" points=\"\n",
       "  982.049,1087.28 982.049,1071.68 \n",
       "  \"/>\n",
       "<polyline clip-path=\"url(#clip1400)\" style=\"stroke:#000000; stroke-width:4; stroke-opacity:1; fill:none\" points=\"\n",
       "  1114.77,1087.28 1114.77,1071.68 \n",
       "  \"/>\n",
       "<polyline clip-path=\"url(#clip1400)\" style=\"stroke:#000000; stroke-width:4; stroke-opacity:1; fill:none\" points=\"\n",
       "  1247.49,1087.28 1247.49,1071.68 \n",
       "  \"/>\n",
       "<polyline clip-path=\"url(#clip1400)\" style=\"stroke:#000000; stroke-width:4; stroke-opacity:1; fill:none\" points=\"\n",
       "  1380.22,1087.28 1380.22,1071.68 \n",
       "  \"/>\n",
       "<polyline clip-path=\"url(#clip1400)\" style=\"stroke:#000000; stroke-width:4; stroke-opacity:1; fill:none\" points=\"\n",
       "  1512.94,1087.28 1512.94,1071.68 \n",
       "  \"/>\n",
       "<polyline clip-path=\"url(#clip1400)\" style=\"stroke:#000000; stroke-width:4; stroke-opacity:1; fill:none\" points=\"\n",
       "  145.898,1057.85 167.001,1057.85 \n",
       "  \"/>\n",
       "<polyline clip-path=\"url(#clip1400)\" style=\"stroke:#000000; stroke-width:4; stroke-opacity:1; fill:none\" points=\"\n",
       "  145.898,975.062 167.001,975.062 \n",
       "  \"/>\n",
       "<polyline clip-path=\"url(#clip1400)\" style=\"stroke:#000000; stroke-width:4; stroke-opacity:1; fill:none\" points=\"\n",
       "  145.898,892.276 167.001,892.276 \n",
       "  \"/>\n",
       "<polyline clip-path=\"url(#clip1400)\" style=\"stroke:#000000; stroke-width:4; stroke-opacity:1; fill:none\" points=\"\n",
       "  145.898,809.49 167.001,809.49 \n",
       "  \"/>\n",
       "<polyline clip-path=\"url(#clip1400)\" style=\"stroke:#000000; stroke-width:4; stroke-opacity:1; fill:none\" points=\"\n",
       "  145.898,726.704 167.001,726.704 \n",
       "  \"/>\n",
       "<polyline clip-path=\"url(#clip1400)\" style=\"stroke:#000000; stroke-width:4; stroke-opacity:1; fill:none\" points=\"\n",
       "  145.898,643.917 167.001,643.917 \n",
       "  \"/>\n",
       "<polyline clip-path=\"url(#clip1400)\" style=\"stroke:#000000; stroke-width:4; stroke-opacity:1; fill:none\" points=\"\n",
       "  145.898,561.131 167.001,561.131 \n",
       "  \"/>\n",
       "<polyline clip-path=\"url(#clip1400)\" style=\"stroke:#000000; stroke-width:4; stroke-opacity:1; fill:none\" points=\"\n",
       "  145.898,478.345 167.001,478.345 \n",
       "  \"/>\n",
       "<polyline clip-path=\"url(#clip1400)\" style=\"stroke:#000000; stroke-width:4; stroke-opacity:1; fill:none\" points=\"\n",
       "  145.898,395.559 167.001,395.559 \n",
       "  \"/>\n",
       "<polyline clip-path=\"url(#clip1400)\" style=\"stroke:#000000; stroke-width:4; stroke-opacity:1; fill:none\" points=\"\n",
       "  145.898,312.773 167.001,312.773 \n",
       "  \"/>\n",
       "<polyline clip-path=\"url(#clip1400)\" style=\"stroke:#000000; stroke-width:4; stroke-opacity:1; fill:none\" points=\"\n",
       "  145.898,229.987 167.001,229.987 \n",
       "  \"/>\n",
       "<polyline clip-path=\"url(#clip1400)\" style=\"stroke:#000000; stroke-width:4; stroke-opacity:1; fill:none\" points=\"\n",
       "  145.898,147.201 167.001,147.201 \n",
       "  \"/>\n",
       "<polyline clip-path=\"url(#clip1400)\" style=\"stroke:#000000; stroke-width:4; stroke-opacity:1; fill:none\" points=\"\n",
       "  145.898,64.4145 167.001,64.4145 \n",
       "  \"/>\n",
       "<g clip-path=\"url(#clip1400)\">\n",
       "<text style=\"fill:#000000; fill-opacity:1; font-family:Arial,Helvetica Neue,Helvetica,sans-serif; font-size:48px; text-anchor:middle;\" transform=\"rotate(0, 185.715, 1137.28)\" x=\"185.715\" y=\"1137.28\">-0.5</text>\n",
       "</g>\n",
       "<g clip-path=\"url(#clip1400)\">\n",
       "<text style=\"fill:#000000; fill-opacity:1; font-family:Arial,Helvetica Neue,Helvetica,sans-serif; font-size:48px; text-anchor:middle;\" transform=\"rotate(0, 318.437, 1137.28)\" x=\"318.437\" y=\"1137.28\">-0.3</text>\n",
       "</g>\n",
       "<g clip-path=\"url(#clip1400)\">\n",
       "<text style=\"fill:#000000; fill-opacity:1; font-family:Arial,Helvetica Neue,Helvetica,sans-serif; font-size:48px; text-anchor:middle;\" transform=\"rotate(0, 451.16, 1137.28)\" x=\"451.16\" y=\"1137.28\">-0.1</text>\n",
       "</g>\n",
       "<g clip-path=\"url(#clip1400)\">\n",
       "<text style=\"fill:#000000; fill-opacity:1; font-family:Arial,Helvetica Neue,Helvetica,sans-serif; font-size:48px; text-anchor:middle;\" transform=\"rotate(0, 583.882, 1137.28)\" x=\"583.882\" y=\"1137.28\">0.1</text>\n",
       "</g>\n",
       "<g clip-path=\"url(#clip1400)\">\n",
       "<text style=\"fill:#000000; fill-opacity:1; font-family:Arial,Helvetica Neue,Helvetica,sans-serif; font-size:48px; text-anchor:middle;\" transform=\"rotate(0, 716.604, 1137.28)\" x=\"716.604\" y=\"1137.28\">0.3</text>\n",
       "</g>\n",
       "<g clip-path=\"url(#clip1400)\">\n",
       "<text style=\"fill:#000000; fill-opacity:1; font-family:Arial,Helvetica Neue,Helvetica,sans-serif; font-size:48px; text-anchor:middle;\" transform=\"rotate(0, 849.327, 1137.28)\" x=\"849.327\" y=\"1137.28\">0.5</text>\n",
       "</g>\n",
       "<g clip-path=\"url(#clip1400)\">\n",
       "<text style=\"fill:#000000; fill-opacity:1; font-family:Arial,Helvetica Neue,Helvetica,sans-serif; font-size:48px; text-anchor:middle;\" transform=\"rotate(0, 982.049, 1137.28)\" x=\"982.049\" y=\"1137.28\">0.7</text>\n",
       "</g>\n",
       "<g clip-path=\"url(#clip1400)\">\n",
       "<text style=\"fill:#000000; fill-opacity:1; font-family:Arial,Helvetica Neue,Helvetica,sans-serif; font-size:48px; text-anchor:middle;\" transform=\"rotate(0, 1114.77, 1137.28)\" x=\"1114.77\" y=\"1137.28\">0.9</text>\n",
       "</g>\n",
       "<g clip-path=\"url(#clip1400)\">\n",
       "<text style=\"fill:#000000; fill-opacity:1; font-family:Arial,Helvetica Neue,Helvetica,sans-serif; font-size:48px; text-anchor:middle;\" transform=\"rotate(0, 1247.49, 1137.28)\" x=\"1247.49\" y=\"1137.28\">1.1</text>\n",
       "</g>\n",
       "<g clip-path=\"url(#clip1400)\">\n",
       "<text style=\"fill:#000000; fill-opacity:1; font-family:Arial,Helvetica Neue,Helvetica,sans-serif; font-size:48px; text-anchor:middle;\" transform=\"rotate(0, 1380.22, 1137.28)\" x=\"1380.22\" y=\"1137.28\">1.3</text>\n",
       "</g>\n",
       "<g clip-path=\"url(#clip1400)\">\n",
       "<text style=\"fill:#000000; fill-opacity:1; font-family:Arial,Helvetica Neue,Helvetica,sans-serif; font-size:48px; text-anchor:middle;\" transform=\"rotate(0, 1512.94, 1137.28)\" x=\"1512.94\" y=\"1137.28\">1.5</text>\n",
       "</g>\n",
       "<g clip-path=\"url(#clip1400)\">\n",
       "<text style=\"fill:#000000; fill-opacity:1; font-family:Arial,Helvetica Neue,Helvetica,sans-serif; font-size:48px; text-anchor:end;\" transform=\"rotate(0, 129.898, 1075.35)\" x=\"129.898\" y=\"1075.35\">4.0</text>\n",
       "</g>\n",
       "<g clip-path=\"url(#clip1400)\">\n",
       "<text style=\"fill:#000000; fill-opacity:1; font-family:Arial,Helvetica Neue,Helvetica,sans-serif; font-size:48px; text-anchor:end;\" transform=\"rotate(0, 129.898, 992.562)\" x=\"129.898\" y=\"992.562\">4.1</text>\n",
       "</g>\n",
       "<g clip-path=\"url(#clip1400)\">\n",
       "<text style=\"fill:#000000; fill-opacity:1; font-family:Arial,Helvetica Neue,Helvetica,sans-serif; font-size:48px; text-anchor:end;\" transform=\"rotate(0, 129.898, 909.776)\" x=\"129.898\" y=\"909.776\">4.2</text>\n",
       "</g>\n",
       "<g clip-path=\"url(#clip1400)\">\n",
       "<text style=\"fill:#000000; fill-opacity:1; font-family:Arial,Helvetica Neue,Helvetica,sans-serif; font-size:48px; text-anchor:end;\" transform=\"rotate(0, 129.898, 826.99)\" x=\"129.898\" y=\"826.99\">4.3</text>\n",
       "</g>\n",
       "<g clip-path=\"url(#clip1400)\">\n",
       "<text style=\"fill:#000000; fill-opacity:1; font-family:Arial,Helvetica Neue,Helvetica,sans-serif; font-size:48px; text-anchor:end;\" transform=\"rotate(0, 129.898, 744.204)\" x=\"129.898\" y=\"744.204\">4.4</text>\n",
       "</g>\n",
       "<g clip-path=\"url(#clip1400)\">\n",
       "<text style=\"fill:#000000; fill-opacity:1; font-family:Arial,Helvetica Neue,Helvetica,sans-serif; font-size:48px; text-anchor:end;\" transform=\"rotate(0, 129.898, 661.417)\" x=\"129.898\" y=\"661.417\">4.5</text>\n",
       "</g>\n",
       "<g clip-path=\"url(#clip1400)\">\n",
       "<text style=\"fill:#000000; fill-opacity:1; font-family:Arial,Helvetica Neue,Helvetica,sans-serif; font-size:48px; text-anchor:end;\" transform=\"rotate(0, 129.898, 578.631)\" x=\"129.898\" y=\"578.631\">4.6</text>\n",
       "</g>\n",
       "<g clip-path=\"url(#clip1400)\">\n",
       "<text style=\"fill:#000000; fill-opacity:1; font-family:Arial,Helvetica Neue,Helvetica,sans-serif; font-size:48px; text-anchor:end;\" transform=\"rotate(0, 129.898, 495.845)\" x=\"129.898\" y=\"495.845\">4.7</text>\n",
       "</g>\n",
       "<g clip-path=\"url(#clip1400)\">\n",
       "<text style=\"fill:#000000; fill-opacity:1; font-family:Arial,Helvetica Neue,Helvetica,sans-serif; font-size:48px; text-anchor:end;\" transform=\"rotate(0, 129.898, 413.059)\" x=\"129.898\" y=\"413.059\">4.8</text>\n",
       "</g>\n",
       "<g clip-path=\"url(#clip1400)\">\n",
       "<text style=\"fill:#000000; fill-opacity:1; font-family:Arial,Helvetica Neue,Helvetica,sans-serif; font-size:48px; text-anchor:end;\" transform=\"rotate(0, 129.898, 330.273)\" x=\"129.898\" y=\"330.273\">4.9</text>\n",
       "</g>\n",
       "<g clip-path=\"url(#clip1400)\">\n",
       "<text style=\"fill:#000000; fill-opacity:1; font-family:Arial,Helvetica Neue,Helvetica,sans-serif; font-size:48px; text-anchor:end;\" transform=\"rotate(0, 129.898, 247.487)\" x=\"129.898\" y=\"247.487\">5.0</text>\n",
       "</g>\n",
       "<g clip-path=\"url(#clip1400)\">\n",
       "<text style=\"fill:#000000; fill-opacity:1; font-family:Arial,Helvetica Neue,Helvetica,sans-serif; font-size:48px; text-anchor:end;\" transform=\"rotate(0, 129.898, 164.701)\" x=\"129.898\" y=\"164.701\">5.1</text>\n",
       "</g>\n",
       "<g clip-path=\"url(#clip1400)\">\n",
       "<text style=\"fill:#000000; fill-opacity:1; font-family:Arial,Helvetica Neue,Helvetica,sans-serif; font-size:48px; text-anchor:end;\" transform=\"rotate(0, 129.898, 81.9145)\" x=\"129.898\" y=\"81.9145\">5.2</text>\n",
       "</g>\n",
       "<circle clip-path=\"url(#clip1402)\" style=\"fill:#000000; stroke:none; fill-opacity:1\" cx=\"296.317\" cy=\"76.6792\" r=\"18\"/>\n",
       "<circle clip-path=\"url(#clip1402)\" style=\"fill:#009af9; stroke:none; fill-opacity:1\" cx=\"296.317\" cy=\"76.6792\" r=\"14\"/>\n",
       "<circle clip-path=\"url(#clip1402)\" style=\"fill:#000000; stroke:none; fill-opacity:1\" cx=\"1181.13\" cy=\"1057.85\" r=\"18\"/>\n",
       "<circle clip-path=\"url(#clip1402)\" style=\"fill:#e26f46; stroke:none; fill-opacity:1\" cx=\"1181.13\" cy=\"1057.85\" r=\"14\"/>\n",
       "<polyline clip-path=\"url(#clip1402)\" style=\"stroke:#3da44d; stroke-width:4; stroke-opacity:1; fill:none\" points=\"\n",
       "  185.715,126.504 252.076,84.2832 318.437,78.4882 384.798,104.152 451.16,156.307 517.521,229.987 583.882,320.224 650.243,422.051 716.604,530.5 782.966,640.606 \n",
       "  849.327,747.4 915.688,845.916 982.049,931.185 1048.41,998.242 1114.77,1042.12 1181.13,1057.85 1247.49,1040.46 1313.86,984.996 1380.22,886.481 1446.58,739.949 \n",
       "  1512.94,540.435 \n",
       "  \"/>\n",
       "<path clip-path=\"url(#clip1400)\" d=\"\n",
       "M1141.49 324.684 L1504.76 324.684 L1504.76 82.7641 L1141.49 82.7641  Z\n",
       "  \" fill=\"#ffffff\" fill-rule=\"evenodd\" fill-opacity=\"1\"/>\n",
       "<polyline clip-path=\"url(#clip1400)\" style=\"stroke:#000000; stroke-width:4; stroke-opacity:1; fill:none\" points=\"\n",
       "  1141.49,324.684 1504.76,324.684 1504.76,82.7641 1141.49,82.7641 1141.49,324.684 \n",
       "  \"/>\n",
       "<circle clip-path=\"url(#clip1400)\" style=\"fill:#000000; stroke:none; fill-opacity:1\" cx=\"1213.49\" cy=\"143.244\" r=\"25\"/>\n",
       "<circle clip-path=\"url(#clip1400)\" style=\"fill:#009af9; stroke:none; fill-opacity:1\" cx=\"1213.49\" cy=\"143.244\" r=\"21\"/>\n",
       "<g clip-path=\"url(#clip1400)\">\n",
       "<text style=\"fill:#000000; fill-opacity:1; font-family:Arial,Helvetica Neue,Helvetica,sans-serif; font-size:48px; text-anchor:start;\" transform=\"rotate(0, 1269.49, 160.744)\" x=\"1269.49\" y=\"160.744\">max local</text>\n",
       "</g>\n",
       "<circle clip-path=\"url(#clip1400)\" style=\"fill:#000000; stroke:none; fill-opacity:1\" cx=\"1213.49\" cy=\"203.724\" r=\"25\"/>\n",
       "<circle clip-path=\"url(#clip1400)\" style=\"fill:#e26f46; stroke:none; fill-opacity:1\" cx=\"1213.49\" cy=\"203.724\" r=\"21\"/>\n",
       "<g clip-path=\"url(#clip1400)\">\n",
       "<text style=\"fill:#000000; fill-opacity:1; font-family:Arial,Helvetica Neue,Helvetica,sans-serif; font-size:48px; text-anchor:start;\" transform=\"rotate(0, 1269.49, 221.224)\" x=\"1269.49\" y=\"221.224\">min local</text>\n",
       "</g>\n",
       "<polyline clip-path=\"url(#clip1400)\" style=\"stroke:#3da44d; stroke-width:4; stroke-opacity:1; fill:none\" points=\"\n",
       "  1157.49,264.204 1253.49,264.204 \n",
       "  \"/>\n",
       "<g clip-path=\"url(#clip1400)\">\n",
       "<text style=\"fill:#000000; fill-opacity:1; font-family:Arial,Helvetica Neue,Helvetica,sans-serif; font-size:48px; text-anchor:start;\" transform=\"rotate(0, 1269.49, 281.704)\" x=\"1269.49\" y=\"281.704\">Função</text>\n",
       "</g>\n",
       "</svg>\n"
      ]
     },
     "execution_count": 70,
     "metadata": {},
     "output_type": "execute_result"
    }
   ],
   "source": [
    "using Plots\n",
    "gr()\n",
    "\n",
    "scatter(max_local, label = \"max local\")\n",
    "scatter!(min_local,label = \"min local\")\n",
    "plot!(-0.5:0.1:1.5, f7, label = \"Função\",\n",
    "xticks = -0.5:0.2:1.5,\n",
    "yticks = 4:0.1:6,  size = (400, 300))"
   ]
  },
  {
   "cell_type": "markdown",
   "metadata": {},
   "source": [
    "**Cálculo de área máxima**\n",
    "\n",
    "Calcular a área máxima de um terreno gramado cuja cerca dispoível é de 20m.\n",
    "<img src=\"Figuras/area.png\" align=\"center\" width=\"200\">\n",
    "\n",
    "Solução:\n",
    "Devemos colocar o perímetro na forma $2x + 2y -20 = 0 $ e resolver a equação em relação a $y$, de tal forma que teremos $y$ em função de $x$."
   ]
  },
  {
   "cell_type": "code",
   "execution_count": 71,
   "metadata": {
    "scrolled": false
   },
   "outputs": [
    {
     "data": {
      "text/plain": [
       "(x, y)"
      ]
     },
     "execution_count": 71,
     "metadata": {},
     "output_type": "execute_result"
    }
   ],
   "source": [
    "using SymPy\n",
    "@syms x y"
   ]
  },
  {
   "cell_type": "code",
   "execution_count": 72,
   "metadata": {
    "scrolled": true
   },
   "outputs": [
    {
     "data": {
      "text/plain": [
       "Area_terreno (generic function with 1 method)"
      ]
     },
     "execution_count": 72,
     "metadata": {},
     "output_type": "execute_result"
    }
   ],
   "source": [
    "Area_terreno(x, y) = x*y "
   ]
  },
  {
   "cell_type": "code",
   "execution_count": 73,
   "metadata": {
    "scrolled": false
   },
   "outputs": [
    {
     "data": {
      "text/latex": [
       "\\[ \\left[ \\begin{array}{r}10 - x\\end{array} \\right] \\]"
      ],
      "text/plain": [
       "1-element Array{Sym,1}:\n",
       " 10 - x"
      ]
     },
     "execution_count": 73,
     "metadata": {},
     "output_type": "execute_result"
    }
   ],
   "source": [
    "y0 = solve(2*x + 2*y - 20, y)"
   ]
  },
  {
   "cell_type": "markdown",
   "metadata": {},
   "source": [
    "O resultado $y0$ é um vetor que contém uma expressão algébrica matemática simbólica como conteúdo. Para atribuir valores devemos utilizar:\n",
    "```julia\n",
    "y0[](valor_x)\n",
    "```"
   ]
  },
  {
   "cell_type": "markdown",
   "metadata": {},
   "source": [
    "Agora devemos substituir a variável $y$ da função `Area_terreno(x, y)` por $y0$ e derivar em relação a $x$. Este procedimento resultará em outra função que deverá ser calculado a raíz em relação a $x$. A raíz calculada será o valor extremo da função que corresponde ao valor máximo de $x$"
   ]
  },
  {
   "cell_type": "code",
   "execution_count": 74,
   "metadata": {
    "scrolled": true
   },
   "outputs": [
    {
     "data": {
      "text/latex": [
       "\\[ \\left[ \\begin{array}{r}5\\end{array} \\right] \\]"
      ],
      "text/plain": [
       "1-element Array{Sym,1}:\n",
       " 5"
      ]
     },
     "execution_count": 74,
     "metadata": {},
     "output_type": "execute_result"
    }
   ],
   "source": [
    "x_max = solve(diff(Area_terreno(x, y0[])), x)"
   ]
  },
  {
   "cell_type": "code",
   "execution_count": 75,
   "metadata": {
    "scrolled": true
   },
   "outputs": [
    {
     "data": {
      "text/plain": [
       "Array{Sym,1}"
      ]
     },
     "execution_count": 75,
     "metadata": {},
     "output_type": "execute_result"
    }
   ],
   "source": [
    "typeof(x_max)"
   ]
  },
  {
   "cell_type": "markdown",
   "metadata": {},
   "source": [
    "`x_max` é um vetor unidimensional do tipo Array{Sym,Sym}. Para obter somente o valor numérico use:"
   ]
  },
  {
   "cell_type": "code",
   "execution_count": 76,
   "metadata": {
    "scrolled": true
   },
   "outputs": [
    {
     "data": {
      "text/latex": [
       "\\begin{equation*}5\\end{equation*}"
      ],
      "text/plain": [
       "5"
      ]
     },
     "execution_count": 76,
     "metadata": {},
     "output_type": "execute_result"
    }
   ],
   "source": [
    "x_max[]"
   ]
  },
  {
   "cell_type": "markdown",
   "metadata": {},
   "source": [
    "Para calcular o valor de $y_{max}$  devemos substituir a variável $x$ da função $y0$."
   ]
  },
  {
   "cell_type": "code",
   "execution_count": 77,
   "metadata": {
    "scrolled": false
   },
   "outputs": [
    {
     "data": {
      "text/plain": [
       "5.0"
      ]
     },
     "execution_count": 77,
     "metadata": {},
     "output_type": "execute_result"
    }
   ],
   "source": [
    "y_max = float(y0[](x_max[]))"
   ]
  },
  {
   "cell_type": "markdown",
   "metadata": {},
   "source": [
    "A área máxima é calculada pela função `Area_terreno` substituindo os valores de $x$ e $y$ pelos valores de $x_{max}$ e $y_{max}$ "
   ]
  },
  {
   "cell_type": "code",
   "execution_count": 78,
   "metadata": {
    "scrolled": true
   },
   "outputs": [
    {
     "data": {
      "text/latex": [
       "\\begin{equation*}25.0\\end{equation*}"
      ],
      "text/plain": [
       "25.0000000000000"
      ]
     },
     "execution_count": 78,
     "metadata": {},
     "output_type": "execute_result"
    }
   ],
   "source": [
    "Area_terreno(x_max[], y_max)"
   ]
  },
  {
   "cell_type": "markdown",
   "metadata": {},
   "source": [
    "Como já era esperado, a área máxima corresponde às medidas `x` e `y` de um quadrado."
   ]
  },
  {
   "cell_type": "markdown",
   "metadata": {
    "collapsed": true
   },
   "source": [
    "## INTEGRAL DE UMA FUNÇÃO\n",
    "\n"
   ]
  },
  {
   "cell_type": "markdown",
   "metadata": {},
   "source": [
    "### INTEGRAL SIMBÓLICA INDEFINIDA\n",
    "\n",
    "$ \\displaystyle \\int {f(x)} ~ dx $\n",
    "\n",
    "Sintaxe:\n",
    "```julia\n",
    "integrate(f(x), var)\n",
    "```\n",
    "Sendo:\n",
    "* **f(x)**:função matemática $f(x)$ expressa como uma expressão algébrica simbólica ou uma função genérica;\n",
    "* **var**: variável de $f(x)$."
   ]
  },
  {
   "cell_type": "code",
   "execution_count": 79,
   "metadata": {
    "scrolled": true
   },
   "outputs": [
    {
     "data": {
      "text/plain": [
       "(x, y)"
      ]
     },
     "execution_count": 79,
     "metadata": {},
     "output_type": "execute_result"
    }
   ],
   "source": [
    "using SymPy\n",
    "@syms x y"
   ]
  },
  {
   "cell_type": "code",
   "execution_count": 80,
   "metadata": {},
   "outputs": [
    {
     "data": {
      "text/plain": [
       "f8 (generic function with 1 method)"
      ]
     },
     "execution_count": 80,
     "metadata": {},
     "output_type": "execute_result"
    }
   ],
   "source": [
    "f8(x) = sin(x)*x"
   ]
  },
  {
   "cell_type": "code",
   "execution_count": 81,
   "metadata": {
    "scrolled": true
   },
   "outputs": [
    {
     "data": {
      "text/latex": [
       "\\begin{equation*}- x \\cos{\\left(x \\right)} + \\sin{\\left(x \\right)}\\end{equation*}"
      ],
      "text/plain": [
       "-x⋅cos(x) + sin(x)"
      ]
     },
     "execution_count": 81,
     "metadata": {},
     "output_type": "execute_result"
    }
   ],
   "source": [
    "SymPy.integrate(f8(x), x)"
   ]
  },
  {
   "cell_type": "markdown",
   "metadata": {
    "collapsed": true
   },
   "source": [
    "### INTEGRAL SIMBÓLICA DEFINIDA\n",
    "\n",
    "$ \\displaystyle \\int_{a_1}^{b_1} {f(x)} ~ dx $\n",
    "\n",
    "Sintaxe:\n",
    "```julia\n",
    "integrate(f(x), variável, a_1, b_1)\n",
    "```\n",
    "Sendo:\n",
    "* **f(x)**:função matemática $f(x)$ expressa como uma expressão algébrica simbólica ou uma função genérica;\n",
    "* **var**: variável de $f(x)$;\n",
    "* **a_1, b_1** : limites de integração função $f(x)$. "
   ]
  },
  {
   "cell_type": "code",
   "execution_count": 82,
   "metadata": {},
   "outputs": [
    {
     "data": {
      "text/plain": [
       "(x,)"
      ]
     },
     "execution_count": 82,
     "metadata": {},
     "output_type": "execute_result"
    }
   ],
   "source": [
    "using SymPy, Plots\n",
    "gr()\n",
    "\n",
    "@syms x"
   ]
  },
  {
   "cell_type": "code",
   "execution_count": 83,
   "metadata": {},
   "outputs": [
    {
     "data": {
      "text/plain": [
       "f8 (generic function with 1 method)"
      ]
     },
     "execution_count": 83,
     "metadata": {},
     "output_type": "execute_result"
    }
   ],
   "source": [
    "f8(x) = sin(x)*x"
   ]
  },
  {
   "cell_type": "code",
   "execution_count": 84,
   "metadata": {},
   "outputs": [
    {
     "data": {
      "image/svg+xml": [
       "<?xml version=\"1.0\" encoding=\"utf-8\"?>\n",
       "<svg xmlns=\"http://www.w3.org/2000/svg\" xmlns:xlink=\"http://www.w3.org/1999/xlink\" width=\"400\" height=\"300\" viewBox=\"0 0 1600 1200\">\n",
       "<defs>\n",
       "  <clipPath id=\"clip1800\">\n",
       "    <rect x=\"0\" y=\"0\" width=\"1600\" height=\"1200\"/>\n",
       "  </clipPath>\n",
       "</defs>\n",
       "<path clip-path=\"url(#clip1800)\" d=\"\n",
       "M0 1200 L1600 1200 L1600 0 L0 0  Z\n",
       "  \" fill=\"#ffffff\" fill-rule=\"evenodd\" fill-opacity=\"1\"/>\n",
       "<defs>\n",
       "  <clipPath id=\"clip1801\">\n",
       "    <rect x=\"320\" y=\"0\" width=\"1121\" height=\"1121\"/>\n",
       "  </clipPath>\n",
       "</defs>\n",
       "<path clip-path=\"url(#clip1800)\" d=\"\n",
       "M213.518 1019.66 L1552.76 1019.66 L1552.76 47.2441 L213.518 47.2441  Z\n",
       "  \" fill=\"#ffffff\" fill-rule=\"evenodd\" fill-opacity=\"1\"/>\n",
       "<defs>\n",
       "  <clipPath id=\"clip1802\">\n",
       "    <rect x=\"213\" y=\"47\" width=\"1340\" height=\"973\"/>\n",
       "  </clipPath>\n",
       "</defs>\n",
       "<polyline clip-path=\"url(#clip1802)\" style=\"stroke:#000000; stroke-width:2; stroke-opacity:0.1; fill:none\" points=\"\n",
       "  251.421,1019.66 251.421,47.2441 \n",
       "  \"/>\n",
       "<polyline clip-path=\"url(#clip1802)\" style=\"stroke:#000000; stroke-width:2; stroke-opacity:0.1; fill:none\" points=\"\n",
       "  567.279,1019.66 567.279,47.2441 \n",
       "  \"/>\n",
       "<polyline clip-path=\"url(#clip1802)\" style=\"stroke:#000000; stroke-width:2; stroke-opacity:0.1; fill:none\" points=\"\n",
       "  883.137,1019.66 883.137,47.2441 \n",
       "  \"/>\n",
       "<polyline clip-path=\"url(#clip1802)\" style=\"stroke:#000000; stroke-width:2; stroke-opacity:0.1; fill:none\" points=\"\n",
       "  1198.99,1019.66 1198.99,47.2441 \n",
       "  \"/>\n",
       "<polyline clip-path=\"url(#clip1802)\" style=\"stroke:#000000; stroke-width:2; stroke-opacity:0.1; fill:none\" points=\"\n",
       "  1514.85,1019.66 1514.85,47.2441 \n",
       "  \"/>\n",
       "<polyline clip-path=\"url(#clip1802)\" style=\"stroke:#000000; stroke-width:2; stroke-opacity:0.1; fill:none\" points=\"\n",
       "  213.518,992.142 1552.76,992.142 \n",
       "  \"/>\n",
       "<polyline clip-path=\"url(#clip1802)\" style=\"stroke:#000000; stroke-width:2; stroke-opacity:0.1; fill:none\" points=\"\n",
       "  213.518,739.921 1552.76,739.921 \n",
       "  \"/>\n",
       "<polyline clip-path=\"url(#clip1802)\" style=\"stroke:#000000; stroke-width:2; stroke-opacity:0.1; fill:none\" points=\"\n",
       "  213.518,487.7 1552.76,487.7 \n",
       "  \"/>\n",
       "<polyline clip-path=\"url(#clip1802)\" style=\"stroke:#000000; stroke-width:2; stroke-opacity:0.1; fill:none\" points=\"\n",
       "  213.518,235.478 1552.76,235.478 \n",
       "  \"/>\n",
       "<polyline clip-path=\"url(#clip1800)\" style=\"stroke:#000000; stroke-width:4; stroke-opacity:1; fill:none\" points=\"\n",
       "  213.518,1019.66 1552.76,1019.66 \n",
       "  \"/>\n",
       "<polyline clip-path=\"url(#clip1800)\" style=\"stroke:#000000; stroke-width:4; stroke-opacity:1; fill:none\" points=\"\n",
       "  213.518,1019.66 213.518,47.2441 \n",
       "  \"/>\n",
       "<polyline clip-path=\"url(#clip1800)\" style=\"stroke:#000000; stroke-width:4; stroke-opacity:1; fill:none\" points=\"\n",
       "  251.421,1019.66 251.421,1005.08 \n",
       "  \"/>\n",
       "<polyline clip-path=\"url(#clip1800)\" style=\"stroke:#000000; stroke-width:4; stroke-opacity:1; fill:none\" points=\"\n",
       "  567.279,1019.66 567.279,1005.08 \n",
       "  \"/>\n",
       "<polyline clip-path=\"url(#clip1800)\" style=\"stroke:#000000; stroke-width:4; stroke-opacity:1; fill:none\" points=\"\n",
       "  883.137,1019.66 883.137,1005.08 \n",
       "  \"/>\n",
       "<polyline clip-path=\"url(#clip1800)\" style=\"stroke:#000000; stroke-width:4; stroke-opacity:1; fill:none\" points=\"\n",
       "  1198.99,1019.66 1198.99,1005.08 \n",
       "  \"/>\n",
       "<polyline clip-path=\"url(#clip1800)\" style=\"stroke:#000000; stroke-width:4; stroke-opacity:1; fill:none\" points=\"\n",
       "  1514.85,1019.66 1514.85,1005.08 \n",
       "  \"/>\n",
       "<polyline clip-path=\"url(#clip1800)\" style=\"stroke:#000000; stroke-width:4; stroke-opacity:1; fill:none\" points=\"\n",
       "  213.518,992.142 233.606,992.142 \n",
       "  \"/>\n",
       "<polyline clip-path=\"url(#clip1800)\" style=\"stroke:#000000; stroke-width:4; stroke-opacity:1; fill:none\" points=\"\n",
       "  213.518,739.921 233.606,739.921 \n",
       "  \"/>\n",
       "<polyline clip-path=\"url(#clip1800)\" style=\"stroke:#000000; stroke-width:4; stroke-opacity:1; fill:none\" points=\"\n",
       "  213.518,487.7 233.606,487.7 \n",
       "  \"/>\n",
       "<polyline clip-path=\"url(#clip1800)\" style=\"stroke:#000000; stroke-width:4; stroke-opacity:1; fill:none\" points=\"\n",
       "  213.518,235.478 233.606,235.478 \n",
       "  \"/>\n",
       "<g clip-path=\"url(#clip1800)\">\n",
       "<text style=\"fill:#000000; fill-opacity:1; font-family:Arial,Helvetica Neue,Helvetica,sans-serif; font-size:48px; text-anchor:middle;\" transform=\"rotate(0, 251.421, 1069.66)\" x=\"251.421\" y=\"1069.66\">0.0</text>\n",
       "</g>\n",
       "<g clip-path=\"url(#clip1800)\">\n",
       "<text style=\"fill:#000000; fill-opacity:1; font-family:Arial,Helvetica Neue,Helvetica,sans-serif; font-size:48px; text-anchor:middle;\" transform=\"rotate(0, 567.279, 1069.66)\" x=\"567.279\" y=\"1069.66\">0.5</text>\n",
       "</g>\n",
       "<g clip-path=\"url(#clip1800)\">\n",
       "<text style=\"fill:#000000; fill-opacity:1; font-family:Arial,Helvetica Neue,Helvetica,sans-serif; font-size:48px; text-anchor:middle;\" transform=\"rotate(0, 883.137, 1069.66)\" x=\"883.137\" y=\"1069.66\">1.0</text>\n",
       "</g>\n",
       "<g clip-path=\"url(#clip1800)\">\n",
       "<text style=\"fill:#000000; fill-opacity:1; font-family:Arial,Helvetica Neue,Helvetica,sans-serif; font-size:48px; text-anchor:middle;\" transform=\"rotate(0, 1198.99, 1069.66)\" x=\"1198.99\" y=\"1069.66\">1.5</text>\n",
       "</g>\n",
       "<g clip-path=\"url(#clip1800)\">\n",
       "<text style=\"fill:#000000; fill-opacity:1; font-family:Arial,Helvetica Neue,Helvetica,sans-serif; font-size:48px; text-anchor:middle;\" transform=\"rotate(0, 1514.85, 1069.66)\" x=\"1514.85\" y=\"1069.66\">2.0</text>\n",
       "</g>\n",
       "<g clip-path=\"url(#clip1800)\">\n",
       "<text style=\"fill:#000000; fill-opacity:1; font-family:Arial,Helvetica Neue,Helvetica,sans-serif; font-size:48px; text-anchor:end;\" transform=\"rotate(0, 197.518, 1009.64)\" x=\"197.518\" y=\"1009.64\">0.0</text>\n",
       "</g>\n",
       "<g clip-path=\"url(#clip1800)\">\n",
       "<text style=\"fill:#000000; fill-opacity:1; font-family:Arial,Helvetica Neue,Helvetica,sans-serif; font-size:48px; text-anchor:end;\" transform=\"rotate(0, 197.518, 757.421)\" x=\"197.518\" y=\"757.421\">0.5</text>\n",
       "</g>\n",
       "<g clip-path=\"url(#clip1800)\">\n",
       "<text style=\"fill:#000000; fill-opacity:1; font-family:Arial,Helvetica Neue,Helvetica,sans-serif; font-size:48px; text-anchor:end;\" transform=\"rotate(0, 197.518, 505.2)\" x=\"197.518\" y=\"505.2\">1.0</text>\n",
       "</g>\n",
       "<g clip-path=\"url(#clip1800)\">\n",
       "<text style=\"fill:#000000; fill-opacity:1; font-family:Arial,Helvetica Neue,Helvetica,sans-serif; font-size:48px; text-anchor:end;\" transform=\"rotate(0, 197.518, 252.978)\" x=\"197.518\" y=\"252.978\">1.5</text>\n",
       "</g>\n",
       "<g clip-path=\"url(#clip1800)\">\n",
       "<text style=\"fill:#000000; fill-opacity:1; font-family:Arial,Helvetica Neue,Helvetica,sans-serif; font-size:66px; text-anchor:middle;\" transform=\"rotate(0, 883.137, 1145.53)\" x=\"883.137\" y=\"1145.53\">x</text>\n",
       "</g>\n",
       "<g clip-path=\"url(#clip1800)\">\n",
       "<text style=\"fill:#000000; fill-opacity:1; font-family:Arial,Helvetica Neue,Helvetica,sans-serif; font-size:66px; text-anchor:middle;\" transform=\"rotate(-90, 103.05, 533.454)\" x=\"103.05\" y=\"533.454\">f(x)</text>\n",
       "</g>\n",
       "<polyline clip-path=\"url(#clip1802)\" style=\"stroke:#009af9; stroke-width:4; stroke-opacity:1; fill:none\" points=\"\n",
       "  251.421,992.142 314.592,987.106 377.764,972.099 440.935,947.42 504.107,913.566 567.279,871.221 630.45,821.244 693.622,764.663 756.794,702.65 819.965,636.513 \n",
       "  883.137,567.668 946.308,497.623 1009.48,427.95 1072.65,360.264 1135.82,296.198 1198.99,237.374 1262.17,185.378 1325.34,141.738 1388.51,107.892 1451.68,85.1694 \n",
       "  1514.85,74.7654 \n",
       "  \"/>\n",
       "<path clip-path=\"url(#clip1802)\" d=\"\n",
       "M567.279 871.221 L630.45 821.244 L693.622 764.663 L756.794 702.65 L819.965 636.513 L883.137 567.668 L946.308 497.623 L1009.48 427.95 L1072.65 360.264 L1135.82 296.198 \n",
       "  L1198.99 237.374 L1262.17 185.378 L1325.34 141.738 L1388.51 107.892 L1451.68 85.1694 L1514.85 74.7654 L1514.85 992.142 L1451.68 992.142 L1388.51 992.142 L1325.34 992.142 \n",
       "  L1262.17 992.142 L1198.99 992.142 L1135.82 992.142 L1072.65 992.142 L1009.48 992.142 L946.308 992.142 L883.137 992.142 L819.965 992.142 L756.794 992.142 L693.622 992.142 \n",
       "  L630.45 992.142 L567.279 992.142  Z\n",
       "  \" fill=\"#808080\" fill-rule=\"evenodd\" fill-opacity=\"0.3\"/>\n",
       "<polyline clip-path=\"url(#clip1802)\" style=\"stroke:#e26f46; stroke-width:4; stroke-opacity:0.3; fill:none\" points=\"\n",
       "  567.279,871.221 630.45,821.244 693.622,764.663 756.794,702.65 819.965,636.513 883.137,567.668 946.308,497.623 1009.48,427.95 1072.65,360.264 1135.82,296.198 \n",
       "  1198.99,237.374 1262.17,185.378 1325.34,141.738 1388.51,107.892 1451.68,85.1694 1514.85,74.7654 \n",
       "  \"/>\n",
       "<path clip-path=\"url(#clip1800)\" d=\"\n",
       "M1184.23 203.724 L1504.76 203.724 L1504.76 82.7641 L1184.23 82.7641  Z\n",
       "  \" fill=\"#ffffff\" fill-rule=\"evenodd\" fill-opacity=\"1\"/>\n",
       "<polyline clip-path=\"url(#clip1800)\" style=\"stroke:#000000; stroke-width:4; stroke-opacity:1; fill:none\" points=\"\n",
       "  1184.23,203.724 1504.76,203.724 1504.76,82.7641 1184.23,82.7641 1184.23,203.724 \n",
       "  \"/>\n",
       "<polyline clip-path=\"url(#clip1800)\" style=\"stroke:#009af9; stroke-width:4; stroke-opacity:1; fill:none\" points=\"\n",
       "  1200.23,143.244 1296.23,143.244 \n",
       "  \"/>\n",
       "<g clip-path=\"url(#clip1800)\">\n",
       "<text style=\"fill:#000000; fill-opacity:1; font-family:Arial,Helvetica Neue,Helvetica,sans-serif; font-size:48px; text-anchor:start;\" transform=\"rotate(0, 1312.23, 160.744)\" x=\"1312.23\" y=\"160.744\">Função</text>\n",
       "</g>\n",
       "</svg>\n"
      ]
     },
     "execution_count": 84,
     "metadata": {},
     "output_type": "execute_result"
    }
   ],
   "source": [
    "plot(0:0.1:2,  f8, label = \"Função\", xlabel = \"x\", ylabel = \"f(x)\" )\n",
    "plot!(0.5:0.1:2, f8, fill = (0,:grey), opacity = 0.3, label = \"\", size = (400, 300))"
   ]
  },
  {
   "cell_type": "code",
   "execution_count": 85,
   "metadata": {
    "scrolled": true
   },
   "outputs": [
    {
     "data": {
      "text/latex": [
       "\\begin{equation*}\\left[\\begin{matrix}x^{2} \\sin{\\left(x \\right)}\\\\0.5 x \\sin{\\left(x \\right)}\\\\2 x \\sin{\\left(x \\right)}\\end{matrix}\\right]\\end{equation*}"
      ],
      "text/plain": [
       "⎡  2         ⎤\n",
       "⎢ x ⋅sin(x)  ⎥\n",
       "⎢            ⎥\n",
       "⎢0.5⋅x⋅sin(x)⎥\n",
       "⎢            ⎥\n",
       "⎣ 2⋅x⋅sin(x) ⎦"
      ]
     },
     "execution_count": 85,
     "metadata": {},
     "output_type": "execute_result"
    }
   ],
   "source": [
    "if8 = SymPy.integrate(f8(x), [x, 0.5, 2])"
   ]
  },
  {
   "cell_type": "markdown",
   "metadata": {},
   "source": [
    "O resultado da integração é simbólico. Caso seja necessário, podemos transformar o resultado em `float` da seguinte forma:\n",
    "\n",
    "**DEPRECIADO:** como muita coisa relacionada ao SymPy. Talvez essa [questão do StackOverflow](https://stackoverflow.com/questions/55502337/calculation-of-a-symbolic-expression-in-sympy-and-convert-them-to-numeric-within) aponte uma solução e porquês."
   ]
  },
  {
   "cell_type": "code",
   "execution_count": 86,
   "metadata": {
    "scrolled": true
   },
   "outputs": [
    {
     "ename": "MethodError",
     "evalue": "MethodError: objects of type SymMatrix are not callable",
     "output_type": "error",
     "traceback": [
      "MethodError: objects of type SymMatrix are not callable",
      "",
      "Stacktrace:",
      " [1] top-level scope at In[86]:1"
     ]
    }
   ],
   "source": [
    "float(if8(1.5))"
   ]
  },
  {
   "cell_type": "markdown",
   "metadata": {},
   "source": [
    "### POLINÔMIOS\n",
    "\n",
    "Realiza a integração dos termos de um polinômio $p$ por termo e opcionalmente adiciona um termo constante $k$. É importante observar que o `SymPy.jl` também importa as funções de manipulação de polinômos `Poly()`, `coeffs()`, `poly()` e `degree()`. Dessa forma, é necessário a sintaxe `Polynomials.função()` quando utilizamos juntos os pacote `Polinomials.jl` e `SymPy.jl`. A função `polyint()` retorna resultado do tipo `Polynomials.Poly{Int64}` manipulável semelhante a uma expressão algébrica simbólia criada pelo `SymPy.jl`.Sintaxe:\n",
    "```julia\n",
    "polyint(Polynomials.Poly([a_0, a_1, a_2 ... , a_n], k)\n",
    "```\n",
    "Sendo:\n",
    "* **[a_0, a_1, a_2 ... , a_n]**: vetor dos termos do polinômio;\n",
    "* **C**: constante de integração."
   ]
  },
  {
   "cell_type": "markdown",
   "metadata": {},
   "source": [
    "Exemplo: Calcular a integral do polinômio $p(x) = x^2 - 2 \\cdot x$"
   ]
  },
  {
   "cell_type": "code",
   "execution_count": 87,
   "metadata": {},
   "outputs": [],
   "source": [
    "using Polynomials"
   ]
  },
  {
   "cell_type": "code",
   "execution_count": 88,
   "metadata": {
    "scrolled": false
   },
   "outputs": [
    {
     "data": {
      "text/html": [
       "&#45;2.0&#8729;x &#43; 0.3333333333333333&#8729;x^3"
      ],
      "text/latex": [
       "$-2.0\\cdot x + 0.3333333333333333\\cdot x^{3}$"
      ],
      "text/plain": [
       "Poly(-2.0*x + 0.3333333333333333*x^3)"
      ]
     },
     "execution_count": 88,
     "metadata": {},
     "output_type": "execute_result"
    }
   ],
   "source": [
    "dpi = polyint(Polynomials.Poly([-2, 0, 1]))"
   ]
  },
  {
   "cell_type": "markdown",
   "metadata": {},
   "source": [
    "Uma constante $k$ pode ser introduzida ao resultado:"
   ]
  },
  {
   "cell_type": "code",
   "execution_count": 89,
   "metadata": {
    "scrolled": true
   },
   "outputs": [
    {
     "data": {
      "text/html": [
       "1.0 &#45; 2.0&#8729;x &#43; 0.3333333333333333&#8729;x^3"
      ],
      "text/latex": [
       "$1.0 - 2.0\\cdot x + 0.3333333333333333\\cdot x^{3}$"
      ],
      "text/plain": [
       "Poly(1.0 - 2.0*x + 0.3333333333333333*x^3)"
      ]
     },
     "execution_count": 89,
     "metadata": {},
     "output_type": "execute_result"
    }
   ],
   "source": [
    "dpi = polyint(Polynomials.Poly([-2, 0, 1]), 1)"
   ]
  },
  {
   "cell_type": "markdown",
   "metadata": {},
   "source": [
    "O resultado é manipulável, semelhante a uma expressão algébrica simbólia criada pelo `SymPy.jl` no qual podemos passar um valor."
   ]
  },
  {
   "cell_type": "code",
   "execution_count": 90,
   "metadata": {},
   "outputs": [
    {
     "data": {
      "text/plain": [
       "1.0"
      ]
     },
     "execution_count": 90,
     "metadata": {},
     "output_type": "execute_result"
    }
   ],
   "source": [
    "dpi(0)"
   ]
  },
  {
   "cell_type": "markdown",
   "metadata": {},
   "source": [
    "Para atribuir o resultado da função `polyder()` à uma função genérica use:\n",
    "```julia\n",
    "@eval função_nome(x) = $(Meta.parse(string(polyint(Polynomials.Poly([a_0, a_1, a_2 ... , a_n])))))\n",
    "```"
   ]
  },
  {
   "cell_type": "code",
   "execution_count": 91,
   "metadata": {
    "scrolled": false
   },
   "outputs": [
    {
     "data": {
      "text/plain": [
       "fdpi (generic function with 1 method)"
      ]
     },
     "execution_count": 91,
     "metadata": {},
     "output_type": "execute_result"
    }
   ],
   "source": [
    "@eval fdpi(x) = $(Meta.parse(string(polyint(Polynomials.Poly([-2, 0, 1]), 1))))"
   ]
  },
  {
   "cell_type": "code",
   "execution_count": 92,
   "metadata": {},
   "outputs": [
    {
     "data": {
      "text/html": [
       "1.0"
      ],
      "text/latex": [
       "$1.0$"
      ],
      "text/plain": [
       "Poly(1.0)"
      ]
     },
     "execution_count": 92,
     "metadata": {},
     "output_type": "execute_result"
    }
   ],
   "source": [
    "fdpi(0)"
   ]
  },
  {
   "cell_type": "markdown",
   "metadata": {},
   "source": [
    "### INTEGRAL NUMÉRICA\n",
    "\n",
    "\"A integração numérica é necessária quando a integração analítica é difícil, ou mesmo impossível, e quando o integrando é fornecido como um conjunto discreto de pontos\" (GILAT; SUBRAMANIAM, 2008).\n"
   ]
  },
  {
   "cell_type": "markdown",
   "metadata": {},
   "source": [
    "#### USANDO A FUNÇÃO QUADGK\n",
    "\n",
    "A função `quadgk()` utiliza a técnica de integração Gauss-Kronrod. O resultado é uma tupla `(valor, erro)`. Sintaxe:\n",
    "```julia\n",
    "valor_integral, erro = quadgk(f, a, b, reltol, abstol, maxevals, order)\n",
    "```\n",
    "* **f**: função matemática $f(x)$ expressa como uma expressão algébrica simbólica ou uma função genérica ou anônima;\n",
    "* **a, b**: limites de integração função $f$;\n",
    "* **reltol**: tolerância do erro relativo (padrão sqrt(eps));\n",
    "* **abstol**: tolerância do erro absoluto (padrão 0);\n",
    "* **maxevals**:número máximo de avaliações da função (padrão 1e7);\n",
    "* **order**: ordem da regra de integração (padrão 7).\n",
    "\n",
    "obs: Use `quadgk(f, a, b )`. Se executar `quadgk(f(x), a, b )` sem o `SymPy`  carregado ocorre erro. Para instalar o pacote use: \n",
    "```julia \n",
    "using Pkg\n",
    "Pkg.add(\"QuadGK\")\n",
    "```"
   ]
  },
  {
   "cell_type": "markdown",
   "metadata": {},
   "source": [
    "Exemplo: Calcular a integral $ \\displaystyle \\int_{0.5}^{2} {sin(x)\\cdot x} ~ dx $"
   ]
  },
  {
   "cell_type": "code",
   "execution_count": 93,
   "metadata": {
    "scrolled": true
   },
   "outputs": [
    {
     "data": {
      "text/plain": [
       "f8 (generic function with 1 method)"
      ]
     },
     "execution_count": 93,
     "metadata": {},
     "output_type": "execute_result"
    }
   ],
   "source": [
    "f8(x) = sin(x)*x"
   ]
  },
  {
   "cell_type": "code",
   "execution_count": 94,
   "metadata": {
    "scrolled": false
   },
   "outputs": [
    {
     "data": {
      "text/plain": [
       "Plots.GRBackend()"
      ]
     },
     "execution_count": 94,
     "metadata": {},
     "output_type": "execute_result"
    }
   ],
   "source": [
    "using Plots, QuadGK\n",
    "gr()"
   ]
  },
  {
   "cell_type": "code",
   "execution_count": 95,
   "metadata": {},
   "outputs": [
    {
     "data": {
      "image/svg+xml": [
       "<?xml version=\"1.0\" encoding=\"utf-8\"?>\n",
       "<svg xmlns=\"http://www.w3.org/2000/svg\" xmlns:xlink=\"http://www.w3.org/1999/xlink\" width=\"400\" height=\"300\" viewBox=\"0 0 1600 1200\">\n",
       "<defs>\n",
       "  <clipPath id=\"clip2200\">\n",
       "    <rect x=\"0\" y=\"0\" width=\"1600\" height=\"1200\"/>\n",
       "  </clipPath>\n",
       "</defs>\n",
       "<path clip-path=\"url(#clip2200)\" d=\"\n",
       "M0 1200 L1600 1200 L1600 0 L0 0  Z\n",
       "  \" fill=\"#ffffff\" fill-rule=\"evenodd\" fill-opacity=\"1\"/>\n",
       "<defs>\n",
       "  <clipPath id=\"clip2201\">\n",
       "    <rect x=\"320\" y=\"0\" width=\"1121\" height=\"1121\"/>\n",
       "  </clipPath>\n",
       "</defs>\n",
       "<path clip-path=\"url(#clip2200)\" d=\"\n",
       "M213.518 1019.66 L1552.76 1019.66 L1552.76 47.2441 L213.518 47.2441  Z\n",
       "  \" fill=\"#ffffff\" fill-rule=\"evenodd\" fill-opacity=\"1\"/>\n",
       "<defs>\n",
       "  <clipPath id=\"clip2202\">\n",
       "    <rect x=\"213\" y=\"47\" width=\"1340\" height=\"973\"/>\n",
       "  </clipPath>\n",
       "</defs>\n",
       "<polyline clip-path=\"url(#clip2202)\" style=\"stroke:#000000; stroke-width:2; stroke-opacity:0.1; fill:none\" points=\"\n",
       "  251.421,1019.66 251.421,47.2441 \n",
       "  \"/>\n",
       "<polyline clip-path=\"url(#clip2202)\" style=\"stroke:#000000; stroke-width:2; stroke-opacity:0.1; fill:none\" points=\"\n",
       "  567.279,1019.66 567.279,47.2441 \n",
       "  \"/>\n",
       "<polyline clip-path=\"url(#clip2202)\" style=\"stroke:#000000; stroke-width:2; stroke-opacity:0.1; fill:none\" points=\"\n",
       "  883.137,1019.66 883.137,47.2441 \n",
       "  \"/>\n",
       "<polyline clip-path=\"url(#clip2202)\" style=\"stroke:#000000; stroke-width:2; stroke-opacity:0.1; fill:none\" points=\"\n",
       "  1198.99,1019.66 1198.99,47.2441 \n",
       "  \"/>\n",
       "<polyline clip-path=\"url(#clip2202)\" style=\"stroke:#000000; stroke-width:2; stroke-opacity:0.1; fill:none\" points=\"\n",
       "  1514.85,1019.66 1514.85,47.2441 \n",
       "  \"/>\n",
       "<polyline clip-path=\"url(#clip2202)\" style=\"stroke:#000000; stroke-width:2; stroke-opacity:0.1; fill:none\" points=\"\n",
       "  213.518,992.142 1552.76,992.142 \n",
       "  \"/>\n",
       "<polyline clip-path=\"url(#clip2202)\" style=\"stroke:#000000; stroke-width:2; stroke-opacity:0.1; fill:none\" points=\"\n",
       "  213.518,739.921 1552.76,739.921 \n",
       "  \"/>\n",
       "<polyline clip-path=\"url(#clip2202)\" style=\"stroke:#000000; stroke-width:2; stroke-opacity:0.1; fill:none\" points=\"\n",
       "  213.518,487.7 1552.76,487.7 \n",
       "  \"/>\n",
       "<polyline clip-path=\"url(#clip2202)\" style=\"stroke:#000000; stroke-width:2; stroke-opacity:0.1; fill:none\" points=\"\n",
       "  213.518,235.478 1552.76,235.478 \n",
       "  \"/>\n",
       "<polyline clip-path=\"url(#clip2200)\" style=\"stroke:#000000; stroke-width:4; stroke-opacity:1; fill:none\" points=\"\n",
       "  213.518,1019.66 1552.76,1019.66 \n",
       "  \"/>\n",
       "<polyline clip-path=\"url(#clip2200)\" style=\"stroke:#000000; stroke-width:4; stroke-opacity:1; fill:none\" points=\"\n",
       "  213.518,1019.66 213.518,47.2441 \n",
       "  \"/>\n",
       "<polyline clip-path=\"url(#clip2200)\" style=\"stroke:#000000; stroke-width:4; stroke-opacity:1; fill:none\" points=\"\n",
       "  251.421,1019.66 251.421,1005.08 \n",
       "  \"/>\n",
       "<polyline clip-path=\"url(#clip2200)\" style=\"stroke:#000000; stroke-width:4; stroke-opacity:1; fill:none\" points=\"\n",
       "  567.279,1019.66 567.279,1005.08 \n",
       "  \"/>\n",
       "<polyline clip-path=\"url(#clip2200)\" style=\"stroke:#000000; stroke-width:4; stroke-opacity:1; fill:none\" points=\"\n",
       "  883.137,1019.66 883.137,1005.08 \n",
       "  \"/>\n",
       "<polyline clip-path=\"url(#clip2200)\" style=\"stroke:#000000; stroke-width:4; stroke-opacity:1; fill:none\" points=\"\n",
       "  1198.99,1019.66 1198.99,1005.08 \n",
       "  \"/>\n",
       "<polyline clip-path=\"url(#clip2200)\" style=\"stroke:#000000; stroke-width:4; stroke-opacity:1; fill:none\" points=\"\n",
       "  1514.85,1019.66 1514.85,1005.08 \n",
       "  \"/>\n",
       "<polyline clip-path=\"url(#clip2200)\" style=\"stroke:#000000; stroke-width:4; stroke-opacity:1; fill:none\" points=\"\n",
       "  213.518,992.142 233.606,992.142 \n",
       "  \"/>\n",
       "<polyline clip-path=\"url(#clip2200)\" style=\"stroke:#000000; stroke-width:4; stroke-opacity:1; fill:none\" points=\"\n",
       "  213.518,739.921 233.606,739.921 \n",
       "  \"/>\n",
       "<polyline clip-path=\"url(#clip2200)\" style=\"stroke:#000000; stroke-width:4; stroke-opacity:1; fill:none\" points=\"\n",
       "  213.518,487.7 233.606,487.7 \n",
       "  \"/>\n",
       "<polyline clip-path=\"url(#clip2200)\" style=\"stroke:#000000; stroke-width:4; stroke-opacity:1; fill:none\" points=\"\n",
       "  213.518,235.478 233.606,235.478 \n",
       "  \"/>\n",
       "<g clip-path=\"url(#clip2200)\">\n",
       "<text style=\"fill:#000000; fill-opacity:1; font-family:Arial,Helvetica Neue,Helvetica,sans-serif; font-size:48px; text-anchor:middle;\" transform=\"rotate(0, 251.421, 1069.66)\" x=\"251.421\" y=\"1069.66\">0.0</text>\n",
       "</g>\n",
       "<g clip-path=\"url(#clip2200)\">\n",
       "<text style=\"fill:#000000; fill-opacity:1; font-family:Arial,Helvetica Neue,Helvetica,sans-serif; font-size:48px; text-anchor:middle;\" transform=\"rotate(0, 567.279, 1069.66)\" x=\"567.279\" y=\"1069.66\">0.5</text>\n",
       "</g>\n",
       "<g clip-path=\"url(#clip2200)\">\n",
       "<text style=\"fill:#000000; fill-opacity:1; font-family:Arial,Helvetica Neue,Helvetica,sans-serif; font-size:48px; text-anchor:middle;\" transform=\"rotate(0, 883.137, 1069.66)\" x=\"883.137\" y=\"1069.66\">1.0</text>\n",
       "</g>\n",
       "<g clip-path=\"url(#clip2200)\">\n",
       "<text style=\"fill:#000000; fill-opacity:1; font-family:Arial,Helvetica Neue,Helvetica,sans-serif; font-size:48px; text-anchor:middle;\" transform=\"rotate(0, 1198.99, 1069.66)\" x=\"1198.99\" y=\"1069.66\">1.5</text>\n",
       "</g>\n",
       "<g clip-path=\"url(#clip2200)\">\n",
       "<text style=\"fill:#000000; fill-opacity:1; font-family:Arial,Helvetica Neue,Helvetica,sans-serif; font-size:48px; text-anchor:middle;\" transform=\"rotate(0, 1514.85, 1069.66)\" x=\"1514.85\" y=\"1069.66\">2.0</text>\n",
       "</g>\n",
       "<g clip-path=\"url(#clip2200)\">\n",
       "<text style=\"fill:#000000; fill-opacity:1; font-family:Arial,Helvetica Neue,Helvetica,sans-serif; font-size:48px; text-anchor:end;\" transform=\"rotate(0, 197.518, 1009.64)\" x=\"197.518\" y=\"1009.64\">0.0</text>\n",
       "</g>\n",
       "<g clip-path=\"url(#clip2200)\">\n",
       "<text style=\"fill:#000000; fill-opacity:1; font-family:Arial,Helvetica Neue,Helvetica,sans-serif; font-size:48px; text-anchor:end;\" transform=\"rotate(0, 197.518, 757.421)\" x=\"197.518\" y=\"757.421\">0.5</text>\n",
       "</g>\n",
       "<g clip-path=\"url(#clip2200)\">\n",
       "<text style=\"fill:#000000; fill-opacity:1; font-family:Arial,Helvetica Neue,Helvetica,sans-serif; font-size:48px; text-anchor:end;\" transform=\"rotate(0, 197.518, 505.2)\" x=\"197.518\" y=\"505.2\">1.0</text>\n",
       "</g>\n",
       "<g clip-path=\"url(#clip2200)\">\n",
       "<text style=\"fill:#000000; fill-opacity:1; font-family:Arial,Helvetica Neue,Helvetica,sans-serif; font-size:48px; text-anchor:end;\" transform=\"rotate(0, 197.518, 252.978)\" x=\"197.518\" y=\"252.978\">1.5</text>\n",
       "</g>\n",
       "<g clip-path=\"url(#clip2200)\">\n",
       "<text style=\"fill:#000000; fill-opacity:1; font-family:Arial,Helvetica Neue,Helvetica,sans-serif; font-size:66px; text-anchor:middle;\" transform=\"rotate(0, 883.137, 1145.53)\" x=\"883.137\" y=\"1145.53\">x</text>\n",
       "</g>\n",
       "<g clip-path=\"url(#clip2200)\">\n",
       "<text style=\"fill:#000000; fill-opacity:1; font-family:Arial,Helvetica Neue,Helvetica,sans-serif; font-size:66px; text-anchor:middle;\" transform=\"rotate(-90, 103.05, 533.454)\" x=\"103.05\" y=\"533.454\">f(x)</text>\n",
       "</g>\n",
       "<polyline clip-path=\"url(#clip2202)\" style=\"stroke:#009af9; stroke-width:4; stroke-opacity:1; fill:none\" points=\"\n",
       "  251.421,992.142 314.592,987.106 377.764,972.099 440.935,947.42 504.107,913.566 567.279,871.221 630.45,821.244 693.622,764.663 756.794,702.65 819.965,636.513 \n",
       "  883.137,567.668 946.308,497.623 1009.48,427.95 1072.65,360.264 1135.82,296.198 1198.99,237.374 1262.17,185.378 1325.34,141.738 1388.51,107.892 1451.68,85.1694 \n",
       "  1514.85,74.7654 \n",
       "  \"/>\n",
       "<path clip-path=\"url(#clip2202)\" d=\"\n",
       "M567.279 871.221 L630.45 821.244 L693.622 764.663 L756.794 702.65 L819.965 636.513 L883.137 567.668 L946.308 497.623 L1009.48 427.95 L1072.65 360.264 L1135.82 296.198 \n",
       "  L1198.99 237.374 L1262.17 185.378 L1325.34 141.738 L1388.51 107.892 L1451.68 85.1694 L1514.85 74.7654 L1514.85 992.142 L1451.68 992.142 L1388.51 992.142 L1325.34 992.142 \n",
       "  L1262.17 992.142 L1198.99 992.142 L1135.82 992.142 L1072.65 992.142 L1009.48 992.142 L946.308 992.142 L883.137 992.142 L819.965 992.142 L756.794 992.142 L693.622 992.142 \n",
       "  L630.45 992.142 L567.279 992.142  Z\n",
       "  \" fill=\"#808080\" fill-rule=\"evenodd\" fill-opacity=\"0.2\"/>\n",
       "<polyline clip-path=\"url(#clip2202)\" style=\"stroke:#e26f46; stroke-width:4; stroke-opacity:0.2; fill:none\" points=\"\n",
       "  567.279,871.221 630.45,821.244 693.622,764.663 756.794,702.65 819.965,636.513 883.137,567.668 946.308,497.623 1009.48,427.95 1072.65,360.264 1135.82,296.198 \n",
       "  1198.99,237.374 1262.17,185.378 1325.34,141.738 1388.51,107.892 1451.68,85.1694 1514.85,74.7654 \n",
       "  \"/>\n",
       "<path clip-path=\"url(#clip2200)\" d=\"\n",
       "M1184.23 203.724 L1504.76 203.724 L1504.76 82.7641 L1184.23 82.7641  Z\n",
       "  \" fill=\"#ffffff\" fill-rule=\"evenodd\" fill-opacity=\"1\"/>\n",
       "<polyline clip-path=\"url(#clip2200)\" style=\"stroke:#000000; stroke-width:4; stroke-opacity:1; fill:none\" points=\"\n",
       "  1184.23,203.724 1504.76,203.724 1504.76,82.7641 1184.23,82.7641 1184.23,203.724 \n",
       "  \"/>\n",
       "<polyline clip-path=\"url(#clip2200)\" style=\"stroke:#009af9; stroke-width:4; stroke-opacity:1; fill:none\" points=\"\n",
       "  1200.23,143.244 1296.23,143.244 \n",
       "  \"/>\n",
       "<g clip-path=\"url(#clip2200)\">\n",
       "<text style=\"fill:#000000; fill-opacity:1; font-family:Arial,Helvetica Neue,Helvetica,sans-serif; font-size:48px; text-anchor:start;\" transform=\"rotate(0, 1312.23, 160.744)\" x=\"1312.23\" y=\"160.744\">Função</text>\n",
       "</g>\n",
       "</svg>\n"
      ]
     },
     "execution_count": 95,
     "metadata": {},
     "output_type": "execute_result"
    }
   ],
   "source": [
    "plot(0:0.1:2,  f8, label = \"Função\", xlabel = \"x\", ylabel = \"f(x)\" )\n",
    "plot!(0.5:0.1:2, f8, fill=(0, :grey), opacity= 0.2, label = \"\", size = (400, 300))"
   ]
  },
  {
   "cell_type": "code",
   "execution_count": 96,
   "metadata": {},
   "outputs": [
    {
     "data": {
      "text/plain": [
       "(1.70095684226095, 4.440892098500626e-16)"
      ]
     },
     "execution_count": 96,
     "metadata": {},
     "output_type": "execute_result"
    }
   ],
   "source": [
    "quadgk(f8, 0.5, 2)"
   ]
  },
  {
   "cell_type": "markdown",
   "metadata": {},
   "source": [
    "Utilizando uma função anônima"
   ]
  },
  {
   "cell_type": "code",
   "execution_count": 97,
   "metadata": {
    "scrolled": true
   },
   "outputs": [
    {
     "data": {
      "text/plain": [
       "(1.70095684226095, 4.440892098500626e-16)"
      ]
     },
     "execution_count": 97,
     "metadata": {},
     "output_type": "execute_result"
    }
   ],
   "source": [
    "quadgk(x -> sin(x)*x, 0.5, 2)"
   ]
  },
  {
   "cell_type": "markdown",
   "metadata": {},
   "source": [
    "#### USANDO O PACOTE CUBATURE \n",
    "é possível utilizar função anônima\n",
    "\n",
    "Sintaxe:\n",
    "```julia\n",
    "valor, erro = hquadrature(f, a_1, b_1 , reltol, abstol, maxevals)\n",
    "```\n",
    "* **f**: função matemática $f(x)$ expressa como uma expressão algébrica simbólica ou uma função genérica ou anônima;\n",
    "* **a_1, b_1**: limites de integração função $f$.\n",
    "* **reltol**: tolerância do erro relativo (1e-8 padrão);\n",
    "* **abstol**: tolerância do erro absoluto (0 padrão);\n",
    "* **maxevals**: número máximo de avaliações da função (0 padrão).\n",
    "\n",
    "O comando hquadrature retorna o valor da integral e o erro (quanto menor, mais preciso é o calculo). Para instalar use: \n",
    "```julia \n",
    "using Pkg\n",
    "Pkg.add(\"HCubature\")\n",
    "```"
   ]
  },
  {
   "cell_type": "code",
   "execution_count": 98,
   "metadata": {},
   "outputs": [],
   "source": [
    "using HCubature"
   ]
  },
  {
   "cell_type": "code",
   "execution_count": 99,
   "metadata": {},
   "outputs": [
    {
     "data": {
      "text/plain": [
       "f8 (generic function with 1 method)"
      ]
     },
     "execution_count": 99,
     "metadata": {},
     "output_type": "execute_result"
    }
   ],
   "source": [
    "f8(x) = sin(x)*x"
   ]
  },
  {
   "cell_type": "code",
   "execution_count": 100,
   "metadata": {
    "scrolled": true
   },
   "outputs": [
    {
     "data": {
      "text/plain": [
       "(1.70095684226095, 4.440892098500626e-16)"
      ]
     },
     "execution_count": 100,
     "metadata": {},
     "output_type": "execute_result"
    }
   ],
   "source": [
    "hquadrature(f8, 0.5, 2)"
   ]
  },
  {
   "cell_type": "markdown",
   "metadata": {},
   "source": [
    "**Utilizando uma função anônima**"
   ]
  },
  {
   "cell_type": "code",
   "execution_count": 101,
   "metadata": {
    "scrolled": true
   },
   "outputs": [
    {
     "data": {
      "text/plain": [
       "(1.70095684226095, 4.440892098500626e-16)"
      ]
     },
     "execution_count": 101,
     "metadata": {},
     "output_type": "execute_result"
    }
   ],
   "source": [
    "hquadrature(x -> sin(x)*x, 0.5, 2)"
   ]
  },
  {
   "cell_type": "markdown",
   "metadata": {},
   "source": [
    "### INTEGRAL IMPRÓPRIA\n",
    "\n",
    "\n",
    "De acordo com a definição de integral definida, Stewat(2010) informa que temos duas condições que condicionam uma integral imprópria:\n",
    "1. Quando o intervalo $[a,b]$ é infinito, ou seja,  $~{\\displaystyle \\int _{a}^{\\infty }f(x)\\,dx} ~$ , $~{\\displaystyle \\int _{\\infty }^{b}f(x)\\,dx}~$ , ${\\displaystyle \\int _{-\\infty}^{\\infty }f(x)\\,dx}~$\n",
    "2. Quando ocorre descontinuidade da função para o infinito em um intervalo $[a,b]$."
   ]
  },
  {
   "cell_type": "markdown",
   "metadata": {},
   "source": [
    "#### INTEGRAL IMPRÓPRIA SIMBÓLICA"
   ]
  },
  {
   "cell_type": "markdown",
   "metadata": {},
   "source": [
    "Exemplo 1\n",
    "\n",
    "$ \\displaystyle \\int_{-\\infty}^{\\infty} {1/(1 + x^2)} ~ dx $"
   ]
  },
  {
   "cell_type": "code",
   "execution_count": 102,
   "metadata": {},
   "outputs": [
    {
     "data": {
      "text/plain": [
       "(x,)"
      ]
     },
     "execution_count": 102,
     "metadata": {},
     "output_type": "execute_result"
    }
   ],
   "source": [
    "using SymPy, Plots\n",
    "gr()\n",
    "\n",
    "@syms x"
   ]
  },
  {
   "cell_type": "code",
   "execution_count": 103,
   "metadata": {},
   "outputs": [
    {
     "data": {
      "text/plain": [
       "f9 (generic function with 1 method)"
      ]
     },
     "execution_count": 103,
     "metadata": {},
     "output_type": "execute_result"
    }
   ],
   "source": [
    "f9(x) = 1/(1 + x^2)"
   ]
  },
  {
   "cell_type": "code",
   "execution_count": 104,
   "metadata": {
    "scrolled": false
   },
   "outputs": [
    {
     "data": {
      "image/svg+xml": [
       "<?xml version=\"1.0\" encoding=\"utf-8\"?>\n",
       "<svg xmlns=\"http://www.w3.org/2000/svg\" xmlns:xlink=\"http://www.w3.org/1999/xlink\" width=\"400\" height=\"300\" viewBox=\"0 0 1600 1200\">\n",
       "<defs>\n",
       "  <clipPath id=\"clip2600\">\n",
       "    <rect x=\"0\" y=\"0\" width=\"1600\" height=\"1200\"/>\n",
       "  </clipPath>\n",
       "</defs>\n",
       "<path clip-path=\"url(#clip2600)\" d=\"\n",
       "M0 1200 L1600 1200 L1600 0 L0 0  Z\n",
       "  \" fill=\"#ffffff\" fill-rule=\"evenodd\" fill-opacity=\"1\"/>\n",
       "<defs>\n",
       "  <clipPath id=\"clip2601\">\n",
       "    <rect x=\"320\" y=\"0\" width=\"1121\" height=\"1121\"/>\n",
       "  </clipPath>\n",
       "</defs>\n",
       "<path clip-path=\"url(#clip2600)\" d=\"\n",
       "M172.66 1087.28 L1552.76 1087.28 L1552.76 47.2441 L172.66 47.2441  Z\n",
       "  \" fill=\"#ffffff\" fill-rule=\"evenodd\" fill-opacity=\"1\"/>\n",
       "<defs>\n",
       "  <clipPath id=\"clip2602\">\n",
       "    <rect x=\"172\" y=\"47\" width=\"1381\" height=\"1041\"/>\n",
       "  </clipPath>\n",
       "</defs>\n",
       "<polyline clip-path=\"url(#clip2602)\" style=\"stroke:#000000; stroke-width:2; stroke-opacity:0.1; fill:none\" points=\"\n",
       "  211.72,1087.28 211.72,47.2441 \n",
       "  \"/>\n",
       "<polyline clip-path=\"url(#clip2602)\" style=\"stroke:#000000; stroke-width:2; stroke-opacity:0.1; fill:none\" points=\"\n",
       "  537.214,1087.28 537.214,47.2441 \n",
       "  \"/>\n",
       "<polyline clip-path=\"url(#clip2602)\" style=\"stroke:#000000; stroke-width:2; stroke-opacity:0.1; fill:none\" points=\"\n",
       "  862.708,1087.28 862.708,47.2441 \n",
       "  \"/>\n",
       "<polyline clip-path=\"url(#clip2602)\" style=\"stroke:#000000; stroke-width:2; stroke-opacity:0.1; fill:none\" points=\"\n",
       "  1188.2,1087.28 1188.2,47.2441 \n",
       "  \"/>\n",
       "<polyline clip-path=\"url(#clip2602)\" style=\"stroke:#000000; stroke-width:2; stroke-opacity:0.1; fill:none\" points=\"\n",
       "  1513.7,1087.28 1513.7,47.2441 \n",
       "  \"/>\n",
       "<polyline clip-path=\"url(#clip2602)\" style=\"stroke:#000000; stroke-width:2; stroke-opacity:0.1; fill:none\" points=\"\n",
       "  172.66,1057.85 1552.76,1057.85 \n",
       "  \"/>\n",
       "<polyline clip-path=\"url(#clip2602)\" style=\"stroke:#000000; stroke-width:2; stroke-opacity:0.1; fill:none\" points=\"\n",
       "  172.66,812.556 1552.76,812.556 \n",
       "  \"/>\n",
       "<polyline clip-path=\"url(#clip2602)\" style=\"stroke:#000000; stroke-width:2; stroke-opacity:0.1; fill:none\" points=\"\n",
       "  172.66,567.264 1552.76,567.264 \n",
       "  \"/>\n",
       "<polyline clip-path=\"url(#clip2602)\" style=\"stroke:#000000; stroke-width:2; stroke-opacity:0.1; fill:none\" points=\"\n",
       "  172.66,321.971 1552.76,321.971 \n",
       "  \"/>\n",
       "<polyline clip-path=\"url(#clip2602)\" style=\"stroke:#000000; stroke-width:2; stroke-opacity:0.1; fill:none\" points=\"\n",
       "  172.66,76.6792 1552.76,76.6792 \n",
       "  \"/>\n",
       "<polyline clip-path=\"url(#clip2600)\" style=\"stroke:#000000; stroke-width:4; stroke-opacity:1; fill:none\" points=\"\n",
       "  172.66,1087.28 1552.76,1087.28 \n",
       "  \"/>\n",
       "<polyline clip-path=\"url(#clip2600)\" style=\"stroke:#000000; stroke-width:4; stroke-opacity:1; fill:none\" points=\"\n",
       "  172.66,1087.28 172.66,47.2441 \n",
       "  \"/>\n",
       "<polyline clip-path=\"url(#clip2600)\" style=\"stroke:#000000; stroke-width:4; stroke-opacity:1; fill:none\" points=\"\n",
       "  211.72,1087.28 211.72,1071.68 \n",
       "  \"/>\n",
       "<polyline clip-path=\"url(#clip2600)\" style=\"stroke:#000000; stroke-width:4; stroke-opacity:1; fill:none\" points=\"\n",
       "  537.214,1087.28 537.214,1071.68 \n",
       "  \"/>\n",
       "<polyline clip-path=\"url(#clip2600)\" style=\"stroke:#000000; stroke-width:4; stroke-opacity:1; fill:none\" points=\"\n",
       "  862.708,1087.28 862.708,1071.68 \n",
       "  \"/>\n",
       "<polyline clip-path=\"url(#clip2600)\" style=\"stroke:#000000; stroke-width:4; stroke-opacity:1; fill:none\" points=\"\n",
       "  1188.2,1087.28 1188.2,1071.68 \n",
       "  \"/>\n",
       "<polyline clip-path=\"url(#clip2600)\" style=\"stroke:#000000; stroke-width:4; stroke-opacity:1; fill:none\" points=\"\n",
       "  1513.7,1087.28 1513.7,1071.68 \n",
       "  \"/>\n",
       "<polyline clip-path=\"url(#clip2600)\" style=\"stroke:#000000; stroke-width:4; stroke-opacity:1; fill:none\" points=\"\n",
       "  172.66,1057.85 193.362,1057.85 \n",
       "  \"/>\n",
       "<polyline clip-path=\"url(#clip2600)\" style=\"stroke:#000000; stroke-width:4; stroke-opacity:1; fill:none\" points=\"\n",
       "  172.66,812.556 193.362,812.556 \n",
       "  \"/>\n",
       "<polyline clip-path=\"url(#clip2600)\" style=\"stroke:#000000; stroke-width:4; stroke-opacity:1; fill:none\" points=\"\n",
       "  172.66,567.264 193.362,567.264 \n",
       "  \"/>\n",
       "<polyline clip-path=\"url(#clip2600)\" style=\"stroke:#000000; stroke-width:4; stroke-opacity:1; fill:none\" points=\"\n",
       "  172.66,321.971 193.362,321.971 \n",
       "  \"/>\n",
       "<polyline clip-path=\"url(#clip2600)\" style=\"stroke:#000000; stroke-width:4; stroke-opacity:1; fill:none\" points=\"\n",
       "  172.66,76.6792 193.362,76.6792 \n",
       "  \"/>\n",
       "<g clip-path=\"url(#clip2600)\">\n",
       "<text style=\"fill:#000000; fill-opacity:1; font-family:Arial,Helvetica Neue,Helvetica,sans-serif; font-size:48px; text-anchor:middle;\" transform=\"rotate(0, 211.72, 1137.28)\" x=\"211.72\" y=\"1137.28\">-10.0</text>\n",
       "</g>\n",
       "<g clip-path=\"url(#clip2600)\">\n",
       "<text style=\"fill:#000000; fill-opacity:1; font-family:Arial,Helvetica Neue,Helvetica,sans-serif; font-size:48px; text-anchor:middle;\" transform=\"rotate(0, 537.214, 1137.28)\" x=\"537.214\" y=\"1137.28\">-7.5</text>\n",
       "</g>\n",
       "<g clip-path=\"url(#clip2600)\">\n",
       "<text style=\"fill:#000000; fill-opacity:1; font-family:Arial,Helvetica Neue,Helvetica,sans-serif; font-size:48px; text-anchor:middle;\" transform=\"rotate(0, 862.708, 1137.28)\" x=\"862.708\" y=\"1137.28\">-5.0</text>\n",
       "</g>\n",
       "<g clip-path=\"url(#clip2600)\">\n",
       "<text style=\"fill:#000000; fill-opacity:1; font-family:Arial,Helvetica Neue,Helvetica,sans-serif; font-size:48px; text-anchor:middle;\" transform=\"rotate(0, 1188.2, 1137.28)\" x=\"1188.2\" y=\"1137.28\">-2.5</text>\n",
       "</g>\n",
       "<g clip-path=\"url(#clip2600)\">\n",
       "<text style=\"fill:#000000; fill-opacity:1; font-family:Arial,Helvetica Neue,Helvetica,sans-serif; font-size:48px; text-anchor:middle;\" transform=\"rotate(0, 1513.7, 1137.28)\" x=\"1513.7\" y=\"1137.28\">0.0</text>\n",
       "</g>\n",
       "<g clip-path=\"url(#clip2600)\">\n",
       "<text style=\"fill:#000000; fill-opacity:1; font-family:Arial,Helvetica Neue,Helvetica,sans-serif; font-size:48px; text-anchor:end;\" transform=\"rotate(0, 156.66, 1075.35)\" x=\"156.66\" y=\"1075.35\">0.00</text>\n",
       "</g>\n",
       "<g clip-path=\"url(#clip2600)\">\n",
       "<text style=\"fill:#000000; fill-opacity:1; font-family:Arial,Helvetica Neue,Helvetica,sans-serif; font-size:48px; text-anchor:end;\" transform=\"rotate(0, 156.66, 830.056)\" x=\"156.66\" y=\"830.056\">0.25</text>\n",
       "</g>\n",
       "<g clip-path=\"url(#clip2600)\">\n",
       "<text style=\"fill:#000000; fill-opacity:1; font-family:Arial,Helvetica Neue,Helvetica,sans-serif; font-size:48px; text-anchor:end;\" transform=\"rotate(0, 156.66, 584.764)\" x=\"156.66\" y=\"584.764\">0.50</text>\n",
       "</g>\n",
       "<g clip-path=\"url(#clip2600)\">\n",
       "<text style=\"fill:#000000; fill-opacity:1; font-family:Arial,Helvetica Neue,Helvetica,sans-serif; font-size:48px; text-anchor:end;\" transform=\"rotate(0, 156.66, 339.471)\" x=\"156.66\" y=\"339.471\">0.75</text>\n",
       "</g>\n",
       "<g clip-path=\"url(#clip2600)\">\n",
       "<text style=\"fill:#000000; fill-opacity:1; font-family:Arial,Helvetica Neue,Helvetica,sans-serif; font-size:48px; text-anchor:end;\" transform=\"rotate(0, 156.66, 94.1792)\" x=\"156.66\" y=\"94.1792\">1.00</text>\n",
       "</g>\n",
       "<polyline clip-path=\"url(#clip2602)\" style=\"stroke:#009af9; stroke-width:4; stroke-opacity:1; fill:none\" points=\"\n",
       "  211.72,1048.13 224.739,1047.94 237.759,1047.74 250.779,1047.53 263.799,1047.32 276.818,1047.1 289.838,1046.87 302.858,1046.63 315.878,1046.39 328.898,1046.14 \n",
       "  341.917,1045.88 354.937,1045.62 367.957,1045.34 380.977,1045.05 393.996,1044.76 407.016,1044.45 420.036,1044.14 433.056,1043.81 446.075,1043.47 459.095,1043.12 \n",
       "  472.115,1042.75 485.135,1042.37 498.155,1041.98 511.174,1041.57 524.194,1041.15 537.214,1040.71 550.234,1040.25 563.253,1039.78 576.273,1039.28 589.293,1038.76 \n",
       "  602.313,1038.22 615.332,1037.66 628.352,1037.08 641.372,1036.47 654.392,1035.83 667.412,1035.16 680.431,1034.46 693.451,1033.73 706.471,1032.97 719.491,1032.17 \n",
       "  732.51,1031.33 745.53,1030.45 758.55,1029.52 771.57,1028.55 784.589,1027.53 797.609,1026.45 810.629,1025.32 823.649,1024.12 836.669,1022.86 849.688,1021.52 \n",
       "  862.708,1020.11 875.728,1018.62 888.748,1017.03 901.767,1015.35 914.787,1013.57 927.807,1011.68 940.827,1009.66 953.846,1007.51 966.866,1005.21 979.886,1002.76 \n",
       "  992.906,1000.13 1005.93,997.319 1018.95,994.301 1031.97,991.056 1044.98,987.564 1058,983.798 1071.02,979.729 1084.04,975.328 1097.06,970.555 1110.08,965.372 \n",
       "  1123.1,959.731 1136.12,953.579 1149.14,946.856 1162.16,939.492 1175.18,931.409 1188.2,922.514 1201.22,912.705 1214.24,901.859 1227.26,889.84 1240.28,876.486 \n",
       "  1253.3,861.614 1266.32,845.013 1279.34,826.44 1292.36,805.62 1305.38,782.239 1318.4,755.95 1331.42,726.372 1344.44,693.101 1357.46,655.73 1370.48,613.88 \n",
       "  1383.5,567.264 1396.52,515.766 1409.54,459.574 1422.56,399.345 1435.58,336.4 1448.6,272.913 1461.62,212.013 1474.64,157.693 1487.66,114.416 1500.68,86.3937 \n",
       "  1513.7,76.6792 \n",
       "  \"/>\n",
       "<path clip-path=\"url(#clip2602)\" d=\"\n",
       "M211.72 1048.13 L224.739 1047.94 L237.759 1047.74 L250.779 1047.53 L263.799 1047.32 L276.818 1047.1 L289.838 1046.87 L302.858 1046.63 L315.878 1046.39 L328.898 1046.14 \n",
       "  L341.917 1045.88 L354.937 1045.62 L367.957 1045.34 L380.977 1045.05 L393.996 1044.76 L407.016 1044.45 L420.036 1044.14 L433.056 1043.81 L446.075 1043.47 L459.095 1043.12 \n",
       "  L472.115 1042.75 L485.135 1042.37 L498.155 1041.98 L511.174 1041.57 L524.194 1041.15 L537.214 1040.71 L550.234 1040.25 L563.253 1039.78 L576.273 1039.28 L589.293 1038.76 \n",
       "  L602.313 1038.22 L615.332 1037.66 L628.352 1037.08 L641.372 1036.47 L654.392 1035.83 L667.412 1035.16 L680.431 1034.46 L693.451 1033.73 L706.471 1032.97 L719.491 1032.17 \n",
       "  L732.51 1031.33 L745.53 1030.45 L758.55 1029.52 L771.57 1028.55 L784.589 1027.53 L797.609 1026.45 L810.629 1025.32 L823.649 1024.12 L836.669 1022.86 L849.688 1021.52 \n",
       "  L862.708 1020.11 L875.728 1018.62 L888.748 1017.03 L901.767 1015.35 L914.787 1013.57 L927.807 1011.68 L940.827 1009.66 L953.846 1007.51 L966.866 1005.21 L979.886 1002.76 \n",
       "  L992.906 1000.13 L1005.93 997.319 L1018.95 994.301 L1031.97 991.056 L1044.98 987.564 L1058 983.798 L1071.02 979.729 L1084.04 975.328 L1097.06 970.555 L1110.08 965.372 \n",
       "  L1123.1 959.731 L1136.12 953.579 L1149.14 946.856 L1162.16 939.492 L1175.18 931.409 L1188.2 922.514 L1201.22 912.705 L1214.24 901.859 L1227.26 889.84 L1240.28 876.486 \n",
       "  L1253.3 861.614 L1266.32 845.013 L1279.34 826.44 L1292.36 805.62 L1305.38 782.239 L1318.4 755.95 L1331.42 726.372 L1344.44 693.101 L1357.46 655.73 L1370.48 613.88 \n",
       "  L1383.5 567.264 L1396.52 515.766 L1409.54 459.574 L1422.56 399.345 L1435.58 336.4 L1448.6 272.913 L1461.62 212.013 L1474.64 157.693 L1487.66 114.416 L1500.68 86.3937 \n",
       "  L1513.7 76.6792 L1513.7 1057.85 L1500.68 1057.85 L1487.66 1057.85 L1474.64 1057.85 L1461.62 1057.85 L1448.6 1057.85 L1435.58 1057.85 L1422.56 1057.85 L1409.54 1057.85 \n",
       "  L1396.52 1057.85 L1383.5 1057.85 L1370.48 1057.85 L1357.46 1057.85 L1344.44 1057.85 L1331.42 1057.85 L1318.4 1057.85 L1305.38 1057.85 L1292.36 1057.85 L1279.34 1057.85 \n",
       "  L1266.32 1057.85 L1253.3 1057.85 L1240.28 1057.85 L1227.26 1057.85 L1214.24 1057.85 L1201.22 1057.85 L1188.2 1057.85 L1175.18 1057.85 L1162.16 1057.85 L1149.14 1057.85 \n",
       "  L1136.12 1057.85 L1123.1 1057.85 L1110.08 1057.85 L1097.06 1057.85 L1084.04 1057.85 L1071.02 1057.85 L1058 1057.85 L1044.98 1057.85 L1031.97 1057.85 L1018.95 1057.85 \n",
       "  L1005.93 1057.85 L992.906 1057.85 L979.886 1057.85 L966.866 1057.85 L953.846 1057.85 L940.827 1057.85 L927.807 1057.85 L914.787 1057.85 L901.767 1057.85 L888.748 1057.85 \n",
       "  L875.728 1057.85 L862.708 1057.85 L849.688 1057.85 L836.669 1057.85 L823.649 1057.85 L810.629 1057.85 L797.609 1057.85 L784.589 1057.85 L771.57 1057.85 L758.55 1057.85 \n",
       "  L745.53 1057.85 L732.51 1057.85 L719.491 1057.85 L706.471 1057.85 L693.451 1057.85 L680.431 1057.85 L667.412 1057.85 L654.392 1057.85 L641.372 1057.85 L628.352 1057.85 \n",
       "  L615.332 1057.85 L602.313 1057.85 L589.293 1057.85 L576.273 1057.85 L563.253 1057.85 L550.234 1057.85 L537.214 1057.85 L524.194 1057.85 L511.174 1057.85 L498.155 1057.85 \n",
       "  L485.135 1057.85 L472.115 1057.85 L459.095 1057.85 L446.075 1057.85 L433.056 1057.85 L420.036 1057.85 L407.016 1057.85 L393.996 1057.85 L380.977 1057.85 L367.957 1057.85 \n",
       "  L354.937 1057.85 L341.917 1057.85 L328.898 1057.85 L315.878 1057.85 L302.858 1057.85 L289.838 1057.85 L276.818 1057.85 L263.799 1057.85 L250.779 1057.85 L237.759 1057.85 \n",
       "  L224.739 1057.85 L211.72 1057.85  Z\n",
       "  \" fill=\"#808080\" fill-rule=\"evenodd\" fill-opacity=\"0.3\"/>\n",
       "<polyline clip-path=\"url(#clip2602)\" style=\"stroke:#e26f46; stroke-width:4; stroke-opacity:0.3; fill:none\" points=\"\n",
       "  211.72,1048.13 224.739,1047.94 237.759,1047.74 250.779,1047.53 263.799,1047.32 276.818,1047.1 289.838,1046.87 302.858,1046.63 315.878,1046.39 328.898,1046.14 \n",
       "  341.917,1045.88 354.937,1045.62 367.957,1045.34 380.977,1045.05 393.996,1044.76 407.016,1044.45 420.036,1044.14 433.056,1043.81 446.075,1043.47 459.095,1043.12 \n",
       "  472.115,1042.75 485.135,1042.37 498.155,1041.98 511.174,1041.57 524.194,1041.15 537.214,1040.71 550.234,1040.25 563.253,1039.78 576.273,1039.28 589.293,1038.76 \n",
       "  602.313,1038.22 615.332,1037.66 628.352,1037.08 641.372,1036.47 654.392,1035.83 667.412,1035.16 680.431,1034.46 693.451,1033.73 706.471,1032.97 719.491,1032.17 \n",
       "  732.51,1031.33 745.53,1030.45 758.55,1029.52 771.57,1028.55 784.589,1027.53 797.609,1026.45 810.629,1025.32 823.649,1024.12 836.669,1022.86 849.688,1021.52 \n",
       "  862.708,1020.11 875.728,1018.62 888.748,1017.03 901.767,1015.35 914.787,1013.57 927.807,1011.68 940.827,1009.66 953.846,1007.51 966.866,1005.21 979.886,1002.76 \n",
       "  992.906,1000.13 1005.93,997.319 1018.95,994.301 1031.97,991.056 1044.98,987.564 1058,983.798 1071.02,979.729 1084.04,975.328 1097.06,970.555 1110.08,965.372 \n",
       "  1123.1,959.731 1136.12,953.579 1149.14,946.856 1162.16,939.492 1175.18,931.409 1188.2,922.514 1201.22,912.705 1214.24,901.859 1227.26,889.84 1240.28,876.486 \n",
       "  1253.3,861.614 1266.32,845.013 1279.34,826.44 1292.36,805.62 1305.38,782.239 1318.4,755.95 1331.42,726.372 1344.44,693.101 1357.46,655.73 1370.48,613.88 \n",
       "  1383.5,567.264 1396.52,515.766 1409.54,459.574 1422.56,399.345 1435.58,336.4 1448.6,272.913 1461.62,212.013 1474.64,157.693 1487.66,114.416 1500.68,86.3937 \n",
       "  1513.7,76.6792 \n",
       "  \"/>\n",
       "<path clip-path=\"url(#clip2600)\" d=\"\n",
       "M1184.23 203.724 L1504.76 203.724 L1504.76 82.7641 L1184.23 82.7641  Z\n",
       "  \" fill=\"#ffffff\" fill-rule=\"evenodd\" fill-opacity=\"1\"/>\n",
       "<polyline clip-path=\"url(#clip2600)\" style=\"stroke:#000000; stroke-width:4; stroke-opacity:1; fill:none\" points=\"\n",
       "  1184.23,203.724 1504.76,203.724 1504.76,82.7641 1184.23,82.7641 1184.23,203.724 \n",
       "  \"/>\n",
       "<polyline clip-path=\"url(#clip2600)\" style=\"stroke:#009af9; stroke-width:4; stroke-opacity:1; fill:none\" points=\"\n",
       "  1200.23,143.244 1296.23,143.244 \n",
       "  \"/>\n",
       "<g clip-path=\"url(#clip2600)\">\n",
       "<text style=\"fill:#000000; fill-opacity:1; font-family:Arial,Helvetica Neue,Helvetica,sans-serif; font-size:48px; text-anchor:start;\" transform=\"rotate(0, 1312.23, 160.744)\" x=\"1312.23\" y=\"160.744\">Função</text>\n",
       "</g>\n",
       "</svg>\n"
      ]
     },
     "execution_count": 104,
     "metadata": {},
     "output_type": "execute_result"
    }
   ],
   "source": [
    "plot(-10:0.1:0, f9, label = (\"Função\"), size = (400, 300))\n",
    "plot!(-10:0.1:0, f9, fill=(0,:grey), opacity=0.3, label = \"\")"
   ]
  },
  {
   "cell_type": "code",
   "execution_count": 105,
   "metadata": {
    "scrolled": false
   },
   "outputs": [
    {
     "data": {
      "text/latex": [
       "\\begin{equation*}\\left[\\begin{matrix}\\frac{x}{x^{2} + 1}\\\\- \\frac{\\infty}{x^{2} + 1}\\\\0\\end{matrix}\\right]\\end{equation*}"
      ],
      "text/plain": [
       "⎡  x   ⎤\n",
       "⎢──────⎥\n",
       "⎢ 2    ⎥\n",
       "⎢x  + 1⎥\n",
       "⎢      ⎥\n",
       "⎢ -∞   ⎥\n",
       "⎢──────⎥\n",
       "⎢ 2    ⎥\n",
       "⎢x  + 1⎥\n",
       "⎢      ⎥\n",
       "⎣  0   ⎦"
      ]
     },
     "execution_count": 105,
     "metadata": {},
     "output_type": "execute_result"
    }
   ],
   "source": [
    "SymPy.integrate(f9(x), [x, -oo, 0])"
   ]
  },
  {
   "cell_type": "markdown",
   "metadata": {},
   "source": [
    "Exemplo 2\n",
    "\n",
    "$ \\displaystyle \\int_{-\\infty}^{\\infty} {f(x)} ~ dx $"
   ]
  },
  {
   "cell_type": "code",
   "execution_count": 106,
   "metadata": {},
   "outputs": [
    {
     "data": {
      "image/svg+xml": [
       "<?xml version=\"1.0\" encoding=\"utf-8\"?>\n",
       "<svg xmlns=\"http://www.w3.org/2000/svg\" xmlns:xlink=\"http://www.w3.org/1999/xlink\" width=\"400\" height=\"300\" viewBox=\"0 0 1600 1200\">\n",
       "<defs>\n",
       "  <clipPath id=\"clip3000\">\n",
       "    <rect x=\"0\" y=\"0\" width=\"1600\" height=\"1200\"/>\n",
       "  </clipPath>\n",
       "</defs>\n",
       "<path clip-path=\"url(#clip3000)\" d=\"\n",
       "M0 1200 L1600 1200 L1600 0 L0 0  Z\n",
       "  \" fill=\"#ffffff\" fill-rule=\"evenodd\" fill-opacity=\"1\"/>\n",
       "<defs>\n",
       "  <clipPath id=\"clip3001\">\n",
       "    <rect x=\"320\" y=\"0\" width=\"1121\" height=\"1121\"/>\n",
       "  </clipPath>\n",
       "</defs>\n",
       "<path clip-path=\"url(#clip3000)\" d=\"\n",
       "M172.66 1087.28 L1552.76 1087.28 L1552.76 47.2441 L172.66 47.2441  Z\n",
       "  \" fill=\"#ffffff\" fill-rule=\"evenodd\" fill-opacity=\"1\"/>\n",
       "<defs>\n",
       "  <clipPath id=\"clip3002\">\n",
       "    <rect x=\"172\" y=\"47\" width=\"1381\" height=\"1041\"/>\n",
       "  </clipPath>\n",
       "</defs>\n",
       "<polyline clip-path=\"url(#clip3002)\" style=\"stroke:#000000; stroke-width:2; stroke-opacity:0.1; fill:none\" points=\"\n",
       "  211.72,1087.28 211.72,47.2441 \n",
       "  \"/>\n",
       "<polyline clip-path=\"url(#clip3002)\" style=\"stroke:#000000; stroke-width:2; stroke-opacity:0.1; fill:none\" points=\"\n",
       "  537.214,1087.28 537.214,47.2441 \n",
       "  \"/>\n",
       "<polyline clip-path=\"url(#clip3002)\" style=\"stroke:#000000; stroke-width:2; stroke-opacity:0.1; fill:none\" points=\"\n",
       "  862.708,1087.28 862.708,47.2441 \n",
       "  \"/>\n",
       "<polyline clip-path=\"url(#clip3002)\" style=\"stroke:#000000; stroke-width:2; stroke-opacity:0.1; fill:none\" points=\"\n",
       "  1188.2,1087.28 1188.2,47.2441 \n",
       "  \"/>\n",
       "<polyline clip-path=\"url(#clip3002)\" style=\"stroke:#000000; stroke-width:2; stroke-opacity:0.1; fill:none\" points=\"\n",
       "  1513.7,1087.28 1513.7,47.2441 \n",
       "  \"/>\n",
       "<polyline clip-path=\"url(#clip3002)\" style=\"stroke:#000000; stroke-width:2; stroke-opacity:0.1; fill:none\" points=\"\n",
       "  172.66,1057.85 1552.76,1057.85 \n",
       "  \"/>\n",
       "<polyline clip-path=\"url(#clip3002)\" style=\"stroke:#000000; stroke-width:2; stroke-opacity:0.1; fill:none\" points=\"\n",
       "  172.66,812.556 1552.76,812.556 \n",
       "  \"/>\n",
       "<polyline clip-path=\"url(#clip3002)\" style=\"stroke:#000000; stroke-width:2; stroke-opacity:0.1; fill:none\" points=\"\n",
       "  172.66,567.264 1552.76,567.264 \n",
       "  \"/>\n",
       "<polyline clip-path=\"url(#clip3002)\" style=\"stroke:#000000; stroke-width:2; stroke-opacity:0.1; fill:none\" points=\"\n",
       "  172.66,321.971 1552.76,321.971 \n",
       "  \"/>\n",
       "<polyline clip-path=\"url(#clip3002)\" style=\"stroke:#000000; stroke-width:2; stroke-opacity:0.1; fill:none\" points=\"\n",
       "  172.66,76.6792 1552.76,76.6792 \n",
       "  \"/>\n",
       "<polyline clip-path=\"url(#clip3000)\" style=\"stroke:#000000; stroke-width:4; stroke-opacity:1; fill:none\" points=\"\n",
       "  172.66,1087.28 1552.76,1087.28 \n",
       "  \"/>\n",
       "<polyline clip-path=\"url(#clip3000)\" style=\"stroke:#000000; stroke-width:4; stroke-opacity:1; fill:none\" points=\"\n",
       "  172.66,1087.28 172.66,47.2441 \n",
       "  \"/>\n",
       "<polyline clip-path=\"url(#clip3000)\" style=\"stroke:#000000; stroke-width:4; stroke-opacity:1; fill:none\" points=\"\n",
       "  211.72,1087.28 211.72,1071.68 \n",
       "  \"/>\n",
       "<polyline clip-path=\"url(#clip3000)\" style=\"stroke:#000000; stroke-width:4; stroke-opacity:1; fill:none\" points=\"\n",
       "  537.214,1087.28 537.214,1071.68 \n",
       "  \"/>\n",
       "<polyline clip-path=\"url(#clip3000)\" style=\"stroke:#000000; stroke-width:4; stroke-opacity:1; fill:none\" points=\"\n",
       "  862.708,1087.28 862.708,1071.68 \n",
       "  \"/>\n",
       "<polyline clip-path=\"url(#clip3000)\" style=\"stroke:#000000; stroke-width:4; stroke-opacity:1; fill:none\" points=\"\n",
       "  1188.2,1087.28 1188.2,1071.68 \n",
       "  \"/>\n",
       "<polyline clip-path=\"url(#clip3000)\" style=\"stroke:#000000; stroke-width:4; stroke-opacity:1; fill:none\" points=\"\n",
       "  1513.7,1087.28 1513.7,1071.68 \n",
       "  \"/>\n",
       "<polyline clip-path=\"url(#clip3000)\" style=\"stroke:#000000; stroke-width:4; stroke-opacity:1; fill:none\" points=\"\n",
       "  172.66,1057.85 193.362,1057.85 \n",
       "  \"/>\n",
       "<polyline clip-path=\"url(#clip3000)\" style=\"stroke:#000000; stroke-width:4; stroke-opacity:1; fill:none\" points=\"\n",
       "  172.66,812.556 193.362,812.556 \n",
       "  \"/>\n",
       "<polyline clip-path=\"url(#clip3000)\" style=\"stroke:#000000; stroke-width:4; stroke-opacity:1; fill:none\" points=\"\n",
       "  172.66,567.264 193.362,567.264 \n",
       "  \"/>\n",
       "<polyline clip-path=\"url(#clip3000)\" style=\"stroke:#000000; stroke-width:4; stroke-opacity:1; fill:none\" points=\"\n",
       "  172.66,321.971 193.362,321.971 \n",
       "  \"/>\n",
       "<polyline clip-path=\"url(#clip3000)\" style=\"stroke:#000000; stroke-width:4; stroke-opacity:1; fill:none\" points=\"\n",
       "  172.66,76.6792 193.362,76.6792 \n",
       "  \"/>\n",
       "<g clip-path=\"url(#clip3000)\">\n",
       "<text style=\"fill:#000000; fill-opacity:1; font-family:Arial,Helvetica Neue,Helvetica,sans-serif; font-size:48px; text-anchor:middle;\" transform=\"rotate(0, 211.72, 1137.28)\" x=\"211.72\" y=\"1137.28\">-10</text>\n",
       "</g>\n",
       "<g clip-path=\"url(#clip3000)\">\n",
       "<text style=\"fill:#000000; fill-opacity:1; font-family:Arial,Helvetica Neue,Helvetica,sans-serif; font-size:48px; text-anchor:middle;\" transform=\"rotate(0, 537.214, 1137.28)\" x=\"537.214\" y=\"1137.28\">-5</text>\n",
       "</g>\n",
       "<g clip-path=\"url(#clip3000)\">\n",
       "<text style=\"fill:#000000; fill-opacity:1; font-family:Arial,Helvetica Neue,Helvetica,sans-serif; font-size:48px; text-anchor:middle;\" transform=\"rotate(0, 862.708, 1137.28)\" x=\"862.708\" y=\"1137.28\">0</text>\n",
       "</g>\n",
       "<g clip-path=\"url(#clip3000)\">\n",
       "<text style=\"fill:#000000; fill-opacity:1; font-family:Arial,Helvetica Neue,Helvetica,sans-serif; font-size:48px; text-anchor:middle;\" transform=\"rotate(0, 1188.2, 1137.28)\" x=\"1188.2\" y=\"1137.28\">5</text>\n",
       "</g>\n",
       "<g clip-path=\"url(#clip3000)\">\n",
       "<text style=\"fill:#000000; fill-opacity:1; font-family:Arial,Helvetica Neue,Helvetica,sans-serif; font-size:48px; text-anchor:middle;\" transform=\"rotate(0, 1513.7, 1137.28)\" x=\"1513.7\" y=\"1137.28\">10</text>\n",
       "</g>\n",
       "<g clip-path=\"url(#clip3000)\">\n",
       "<text style=\"fill:#000000; fill-opacity:1; font-family:Arial,Helvetica Neue,Helvetica,sans-serif; font-size:48px; text-anchor:end;\" transform=\"rotate(0, 156.66, 1075.35)\" x=\"156.66\" y=\"1075.35\">0.00</text>\n",
       "</g>\n",
       "<g clip-path=\"url(#clip3000)\">\n",
       "<text style=\"fill:#000000; fill-opacity:1; font-family:Arial,Helvetica Neue,Helvetica,sans-serif; font-size:48px; text-anchor:end;\" transform=\"rotate(0, 156.66, 830.056)\" x=\"156.66\" y=\"830.056\">0.25</text>\n",
       "</g>\n",
       "<g clip-path=\"url(#clip3000)\">\n",
       "<text style=\"fill:#000000; fill-opacity:1; font-family:Arial,Helvetica Neue,Helvetica,sans-serif; font-size:48px; text-anchor:end;\" transform=\"rotate(0, 156.66, 584.764)\" x=\"156.66\" y=\"584.764\">0.50</text>\n",
       "</g>\n",
       "<g clip-path=\"url(#clip3000)\">\n",
       "<text style=\"fill:#000000; fill-opacity:1; font-family:Arial,Helvetica Neue,Helvetica,sans-serif; font-size:48px; text-anchor:end;\" transform=\"rotate(0, 156.66, 339.471)\" x=\"156.66\" y=\"339.471\">0.75</text>\n",
       "</g>\n",
       "<g clip-path=\"url(#clip3000)\">\n",
       "<text style=\"fill:#000000; fill-opacity:1; font-family:Arial,Helvetica Neue,Helvetica,sans-serif; font-size:48px; text-anchor:end;\" transform=\"rotate(0, 156.66, 94.1792)\" x=\"156.66\" y=\"94.1792\">1.00</text>\n",
       "</g>\n",
       "<polyline clip-path=\"url(#clip3002)\" style=\"stroke:#009af9; stroke-width:4; stroke-opacity:1; fill:none\" points=\"\n",
       "  211.72,1048.13 218.23,1047.94 224.739,1047.74 231.249,1047.53 237.759,1047.32 244.269,1047.1 250.779,1046.87 257.289,1046.63 263.799,1046.39 270.309,1046.14 \n",
       "  276.818,1045.88 283.328,1045.62 289.838,1045.34 296.348,1045.05 302.858,1044.76 309.368,1044.45 315.878,1044.14 322.388,1043.81 328.898,1043.47 335.407,1043.12 \n",
       "  341.917,1042.75 348.427,1042.37 354.937,1041.98 361.447,1041.57 367.957,1041.15 374.467,1040.71 380.977,1040.25 387.487,1039.78 393.996,1039.28 400.506,1038.76 \n",
       "  407.016,1038.22 413.526,1037.66 420.036,1037.08 426.546,1036.47 433.056,1035.83 439.566,1035.16 446.075,1034.46 452.585,1033.73 459.095,1032.97 465.605,1032.17 \n",
       "  472.115,1031.33 478.625,1030.45 485.135,1029.52 491.645,1028.55 498.155,1027.53 504.664,1026.45 511.174,1025.32 517.684,1024.12 524.194,1022.86 530.704,1021.52 \n",
       "  537.214,1020.11 543.724,1018.62 550.234,1017.03 556.744,1015.35 563.253,1013.57 569.763,1011.68 576.273,1009.66 582.783,1007.51 589.293,1005.21 595.803,1002.76 \n",
       "  602.313,1000.13 608.823,997.319 615.332,994.301 621.842,991.056 628.352,987.564 634.862,983.798 641.372,979.729 647.882,975.328 654.392,970.555 660.902,965.372 \n",
       "  667.412,959.731 673.921,953.579 680.431,946.856 686.941,939.492 693.451,931.409 699.961,922.514 706.471,912.705 712.981,901.859 719.491,889.84 726.001,876.486 \n",
       "  732.51,861.614 739.02,845.013 745.53,826.44 752.04,805.62 758.55,782.239 765.06,755.95 771.57,726.372 778.08,693.101 784.589,655.73 791.099,613.88 \n",
       "  797.609,567.264 804.119,515.766 810.629,459.574 817.139,399.345 823.649,336.4 830.159,272.913 836.669,212.013 843.178,157.693 849.688,114.416 856.198,86.3937 \n",
       "  862.708,76.6792 869.218,86.3937 875.728,114.416 882.238,157.693 888.748,212.013 895.258,272.913 901.767,336.4 908.277,399.345 914.787,459.574 921.297,515.766 \n",
       "  927.807,567.264 934.317,613.88 940.827,655.73 947.337,693.101 953.846,726.372 960.356,755.95 966.866,782.239 973.376,805.62 979.886,826.44 986.396,845.013 \n",
       "  992.906,861.614 999.416,876.486 1005.93,889.84 1012.44,901.859 1018.95,912.705 1025.46,922.514 1031.97,931.409 1038.48,939.492 1044.98,946.856 1051.49,953.579 \n",
       "  1058,959.731 1064.51,965.372 1071.02,970.555 1077.53,975.328 1084.04,979.729 1090.55,983.798 1097.06,987.564 1103.57,991.056 1110.08,994.301 1116.59,997.319 \n",
       "  1123.1,1000.13 1129.61,1002.76 1136.12,1005.21 1142.63,1007.51 1149.14,1009.66 1155.65,1011.68 1162.16,1013.57 1168.67,1015.35 1175.18,1017.03 1181.69,1018.62 \n",
       "  1188.2,1020.11 1194.71,1021.52 1201.22,1022.86 1207.73,1024.12 1214.24,1025.32 1220.75,1026.45 1227.26,1027.53 1233.77,1028.55 1240.28,1029.52 1246.79,1030.45 \n",
       "  1253.3,1031.33 1259.81,1032.17 1266.32,1032.97 1272.83,1033.73 1279.34,1034.46 1285.85,1035.16 1292.36,1035.83 1298.87,1036.47 1305.38,1037.08 1311.89,1037.66 \n",
       "  1318.4,1038.22 1324.91,1038.76 1331.42,1039.28 1337.93,1039.78 1344.44,1040.25 1350.95,1040.71 1357.46,1041.15 1363.97,1041.57 1370.48,1041.98 1376.99,1042.37 \n",
       "  1383.5,1042.75 1390.01,1043.12 1396.52,1043.47 1403.03,1043.81 1409.54,1044.14 1416.05,1044.45 1422.56,1044.76 1429.07,1045.05 1435.58,1045.34 1442.09,1045.62 \n",
       "  1448.6,1045.88 1455.11,1046.14 1461.62,1046.39 1468.13,1046.63 1474.64,1046.87 1481.15,1047.1 1487.66,1047.32 1494.17,1047.53 1500.68,1047.74 1507.19,1047.94 \n",
       "  1513.7,1048.13 \n",
       "  \"/>\n",
       "<path clip-path=\"url(#clip3002)\" d=\"\n",
       "M211.72 1048.13 L218.23 1047.94 L224.739 1047.74 L231.249 1047.53 L237.759 1047.32 L244.269 1047.1 L250.779 1046.87 L257.289 1046.63 L263.799 1046.39 L270.309 1046.14 \n",
       "  L276.818 1045.88 L283.328 1045.62 L289.838 1045.34 L296.348 1045.05 L302.858 1044.76 L309.368 1044.45 L315.878 1044.14 L322.388 1043.81 L328.898 1043.47 L335.407 1043.12 \n",
       "  L341.917 1042.75 L348.427 1042.37 L354.937 1041.98 L361.447 1041.57 L367.957 1041.15 L374.467 1040.71 L380.977 1040.25 L387.487 1039.78 L393.996 1039.28 L400.506 1038.76 \n",
       "  L407.016 1038.22 L413.526 1037.66 L420.036 1037.08 L426.546 1036.47 L433.056 1035.83 L439.566 1035.16 L446.075 1034.46 L452.585 1033.73 L459.095 1032.97 L465.605 1032.17 \n",
       "  L472.115 1031.33 L478.625 1030.45 L485.135 1029.52 L491.645 1028.55 L498.155 1027.53 L504.664 1026.45 L511.174 1025.32 L517.684 1024.12 L524.194 1022.86 L530.704 1021.52 \n",
       "  L537.214 1020.11 L543.724 1018.62 L550.234 1017.03 L556.744 1015.35 L563.253 1013.57 L569.763 1011.68 L576.273 1009.66 L582.783 1007.51 L589.293 1005.21 L595.803 1002.76 \n",
       "  L602.313 1000.13 L608.823 997.319 L615.332 994.301 L621.842 991.056 L628.352 987.564 L634.862 983.798 L641.372 979.729 L647.882 975.328 L654.392 970.555 L660.902 965.372 \n",
       "  L667.412 959.731 L673.921 953.579 L680.431 946.856 L686.941 939.492 L693.451 931.409 L699.961 922.514 L706.471 912.705 L712.981 901.859 L719.491 889.84 L726.001 876.486 \n",
       "  L732.51 861.614 L739.02 845.013 L745.53 826.44 L752.04 805.62 L758.55 782.239 L765.06 755.95 L771.57 726.372 L778.08 693.101 L784.589 655.73 L791.099 613.88 \n",
       "  L797.609 567.264 L804.119 515.766 L810.629 459.574 L817.139 399.345 L823.649 336.4 L830.159 272.913 L836.669 212.013 L843.178 157.693 L849.688 114.416 L856.198 86.3937 \n",
       "  L862.708 76.6792 L869.218 86.3937 L875.728 114.416 L882.238 157.693 L888.748 212.013 L895.258 272.913 L901.767 336.4 L908.277 399.345 L914.787 459.574 L921.297 515.766 \n",
       "  L927.807 567.264 L934.317 613.88 L940.827 655.73 L947.337 693.101 L953.846 726.372 L960.356 755.95 L966.866 782.239 L973.376 805.62 L979.886 826.44 L986.396 845.013 \n",
       "  L992.906 861.614 L999.416 876.486 L1005.93 889.84 L1012.44 901.859 L1018.95 912.705 L1025.46 922.514 L1031.97 931.409 L1038.48 939.492 L1044.98 946.856 L1051.49 953.579 \n",
       "  L1058 959.731 L1064.51 965.372 L1071.02 970.555 L1077.53 975.328 L1084.04 979.729 L1090.55 983.798 L1097.06 987.564 L1103.57 991.056 L1110.08 994.301 L1116.59 997.319 \n",
       "  L1123.1 1000.13 L1129.61 1002.76 L1136.12 1005.21 L1142.63 1007.51 L1149.14 1009.66 L1155.65 1011.68 L1162.16 1013.57 L1168.67 1015.35 L1175.18 1017.03 L1181.69 1018.62 \n",
       "  L1188.2 1020.11 L1194.71 1021.52 L1201.22 1022.86 L1207.73 1024.12 L1214.24 1025.32 L1220.75 1026.45 L1227.26 1027.53 L1233.77 1028.55 L1240.28 1029.52 L1246.79 1030.45 \n",
       "  L1253.3 1031.33 L1259.81 1032.17 L1266.32 1032.97 L1272.83 1033.73 L1279.34 1034.46 L1285.85 1035.16 L1292.36 1035.83 L1298.87 1036.47 L1305.38 1037.08 L1311.89 1037.66 \n",
       "  L1318.4 1038.22 L1324.91 1038.76 L1331.42 1039.28 L1337.93 1039.78 L1344.44 1040.25 L1350.95 1040.71 L1357.46 1041.15 L1363.97 1041.57 L1370.48 1041.98 L1376.99 1042.37 \n",
       "  L1383.5 1042.75 L1390.01 1043.12 L1396.52 1043.47 L1403.03 1043.81 L1409.54 1044.14 L1416.05 1044.45 L1422.56 1044.76 L1429.07 1045.05 L1435.58 1045.34 L1442.09 1045.62 \n",
       "  L1448.6 1045.88 L1455.11 1046.14 L1461.62 1046.39 L1468.13 1046.63 L1474.64 1046.87 L1481.15 1047.1 L1487.66 1047.32 L1494.17 1047.53 L1500.68 1047.74 L1507.19 1047.94 \n",
       "  L1513.7 1048.13 L1513.7 1057.85 L1507.19 1057.85 L1500.68 1057.85 L1494.17 1057.85 L1487.66 1057.85 L1481.15 1057.85 L1474.64 1057.85 L1468.13 1057.85 L1461.62 1057.85 \n",
       "  L1455.11 1057.85 L1448.6 1057.85 L1442.09 1057.85 L1435.58 1057.85 L1429.07 1057.85 L1422.56 1057.85 L1416.05 1057.85 L1409.54 1057.85 L1403.03 1057.85 L1396.52 1057.85 \n",
       "  L1390.01 1057.85 L1383.5 1057.85 L1376.99 1057.85 L1370.48 1057.85 L1363.97 1057.85 L1357.46 1057.85 L1350.95 1057.85 L1344.44 1057.85 L1337.93 1057.85 L1331.42 1057.85 \n",
       "  L1324.91 1057.85 L1318.4 1057.85 L1311.89 1057.85 L1305.38 1057.85 L1298.87 1057.85 L1292.36 1057.85 L1285.85 1057.85 L1279.34 1057.85 L1272.83 1057.85 L1266.32 1057.85 \n",
       "  L1259.81 1057.85 L1253.3 1057.85 L1246.79 1057.85 L1240.28 1057.85 L1233.77 1057.85 L1227.26 1057.85 L1220.75 1057.85 L1214.24 1057.85 L1207.73 1057.85 L1201.22 1057.85 \n",
       "  L1194.71 1057.85 L1188.2 1057.85 L1181.69 1057.85 L1175.18 1057.85 L1168.67 1057.85 L1162.16 1057.85 L1155.65 1057.85 L1149.14 1057.85 L1142.63 1057.85 L1136.12 1057.85 \n",
       "  L1129.61 1057.85 L1123.1 1057.85 L1116.59 1057.85 L1110.08 1057.85 L1103.57 1057.85 L1097.06 1057.85 L1090.55 1057.85 L1084.04 1057.85 L1077.53 1057.85 L1071.02 1057.85 \n",
       "  L1064.51 1057.85 L1058 1057.85 L1051.49 1057.85 L1044.98 1057.85 L1038.48 1057.85 L1031.97 1057.85 L1025.46 1057.85 L1018.95 1057.85 L1012.44 1057.85 L1005.93 1057.85 \n",
       "  L999.416 1057.85 L992.906 1057.85 L986.396 1057.85 L979.886 1057.85 L973.376 1057.85 L966.866 1057.85 L960.356 1057.85 L953.846 1057.85 L947.337 1057.85 L940.827 1057.85 \n",
       "  L934.317 1057.85 L927.807 1057.85 L921.297 1057.85 L914.787 1057.85 L908.277 1057.85 L901.767 1057.85 L895.258 1057.85 L888.748 1057.85 L882.238 1057.85 L875.728 1057.85 \n",
       "  L869.218 1057.85 L862.708 1057.85 L856.198 1057.85 L849.688 1057.85 L843.178 1057.85 L836.669 1057.85 L830.159 1057.85 L823.649 1057.85 L817.139 1057.85 L810.629 1057.85 \n",
       "  L804.119 1057.85 L797.609 1057.85 L791.099 1057.85 L784.589 1057.85 L778.08 1057.85 L771.57 1057.85 L765.06 1057.85 L758.55 1057.85 L752.04 1057.85 L745.53 1057.85 \n",
       "  L739.02 1057.85 L732.51 1057.85 L726.001 1057.85 L719.491 1057.85 L712.981 1057.85 L706.471 1057.85 L699.961 1057.85 L693.451 1057.85 L686.941 1057.85 L680.431 1057.85 \n",
       "  L673.921 1057.85 L667.412 1057.85 L660.902 1057.85 L654.392 1057.85 L647.882 1057.85 L641.372 1057.85 L634.862 1057.85 L628.352 1057.85 L621.842 1057.85 L615.332 1057.85 \n",
       "  L608.823 1057.85 L602.313 1057.85 L595.803 1057.85 L589.293 1057.85 L582.783 1057.85 L576.273 1057.85 L569.763 1057.85 L563.253 1057.85 L556.744 1057.85 L550.234 1057.85 \n",
       "  L543.724 1057.85 L537.214 1057.85 L530.704 1057.85 L524.194 1057.85 L517.684 1057.85 L511.174 1057.85 L504.664 1057.85 L498.155 1057.85 L491.645 1057.85 L485.135 1057.85 \n",
       "  L478.625 1057.85 L472.115 1057.85 L465.605 1057.85 L459.095 1057.85 L452.585 1057.85 L446.075 1057.85 L439.566 1057.85 L433.056 1057.85 L426.546 1057.85 L420.036 1057.85 \n",
       "  L413.526 1057.85 L407.016 1057.85 L400.506 1057.85 L393.996 1057.85 L387.487 1057.85 L380.977 1057.85 L374.467 1057.85 L367.957 1057.85 L361.447 1057.85 L354.937 1057.85 \n",
       "  L348.427 1057.85 L341.917 1057.85 L335.407 1057.85 L328.898 1057.85 L322.388 1057.85 L315.878 1057.85 L309.368 1057.85 L302.858 1057.85 L296.348 1057.85 L289.838 1057.85 \n",
       "  L283.328 1057.85 L276.818 1057.85 L270.309 1057.85 L263.799 1057.85 L257.289 1057.85 L250.779 1057.85 L244.269 1057.85 L237.759 1057.85 L231.249 1057.85 L224.739 1057.85 \n",
       "  L218.23 1057.85 L211.72 1057.85  Z\n",
       "  \" fill=\"#808080\" fill-rule=\"evenodd\" fill-opacity=\"0.3\"/>\n",
       "<polyline clip-path=\"url(#clip3002)\" style=\"stroke:#e26f46; stroke-width:4; stroke-opacity:0.3; fill:none\" points=\"\n",
       "  211.72,1048.13 218.23,1047.94 224.739,1047.74 231.249,1047.53 237.759,1047.32 244.269,1047.1 250.779,1046.87 257.289,1046.63 263.799,1046.39 270.309,1046.14 \n",
       "  276.818,1045.88 283.328,1045.62 289.838,1045.34 296.348,1045.05 302.858,1044.76 309.368,1044.45 315.878,1044.14 322.388,1043.81 328.898,1043.47 335.407,1043.12 \n",
       "  341.917,1042.75 348.427,1042.37 354.937,1041.98 361.447,1041.57 367.957,1041.15 374.467,1040.71 380.977,1040.25 387.487,1039.78 393.996,1039.28 400.506,1038.76 \n",
       "  407.016,1038.22 413.526,1037.66 420.036,1037.08 426.546,1036.47 433.056,1035.83 439.566,1035.16 446.075,1034.46 452.585,1033.73 459.095,1032.97 465.605,1032.17 \n",
       "  472.115,1031.33 478.625,1030.45 485.135,1029.52 491.645,1028.55 498.155,1027.53 504.664,1026.45 511.174,1025.32 517.684,1024.12 524.194,1022.86 530.704,1021.52 \n",
       "  537.214,1020.11 543.724,1018.62 550.234,1017.03 556.744,1015.35 563.253,1013.57 569.763,1011.68 576.273,1009.66 582.783,1007.51 589.293,1005.21 595.803,1002.76 \n",
       "  602.313,1000.13 608.823,997.319 615.332,994.301 621.842,991.056 628.352,987.564 634.862,983.798 641.372,979.729 647.882,975.328 654.392,970.555 660.902,965.372 \n",
       "  667.412,959.731 673.921,953.579 680.431,946.856 686.941,939.492 693.451,931.409 699.961,922.514 706.471,912.705 712.981,901.859 719.491,889.84 726.001,876.486 \n",
       "  732.51,861.614 739.02,845.013 745.53,826.44 752.04,805.62 758.55,782.239 765.06,755.95 771.57,726.372 778.08,693.101 784.589,655.73 791.099,613.88 \n",
       "  797.609,567.264 804.119,515.766 810.629,459.574 817.139,399.345 823.649,336.4 830.159,272.913 836.669,212.013 843.178,157.693 849.688,114.416 856.198,86.3937 \n",
       "  862.708,76.6792 869.218,86.3937 875.728,114.416 882.238,157.693 888.748,212.013 895.258,272.913 901.767,336.4 908.277,399.345 914.787,459.574 921.297,515.766 \n",
       "  927.807,567.264 934.317,613.88 940.827,655.73 947.337,693.101 953.846,726.372 960.356,755.95 966.866,782.239 973.376,805.62 979.886,826.44 986.396,845.013 \n",
       "  992.906,861.614 999.416,876.486 1005.93,889.84 1012.44,901.859 1018.95,912.705 1025.46,922.514 1031.97,931.409 1038.48,939.492 1044.98,946.856 1051.49,953.579 \n",
       "  1058,959.731 1064.51,965.372 1071.02,970.555 1077.53,975.328 1084.04,979.729 1090.55,983.798 1097.06,987.564 1103.57,991.056 1110.08,994.301 1116.59,997.319 \n",
       "  1123.1,1000.13 1129.61,1002.76 1136.12,1005.21 1142.63,1007.51 1149.14,1009.66 1155.65,1011.68 1162.16,1013.57 1168.67,1015.35 1175.18,1017.03 1181.69,1018.62 \n",
       "  1188.2,1020.11 1194.71,1021.52 1201.22,1022.86 1207.73,1024.12 1214.24,1025.32 1220.75,1026.45 1227.26,1027.53 1233.77,1028.55 1240.28,1029.52 1246.79,1030.45 \n",
       "  1253.3,1031.33 1259.81,1032.17 1266.32,1032.97 1272.83,1033.73 1279.34,1034.46 1285.85,1035.16 1292.36,1035.83 1298.87,1036.47 1305.38,1037.08 1311.89,1037.66 \n",
       "  1318.4,1038.22 1324.91,1038.76 1331.42,1039.28 1337.93,1039.78 1344.44,1040.25 1350.95,1040.71 1357.46,1041.15 1363.97,1041.57 1370.48,1041.98 1376.99,1042.37 \n",
       "  1383.5,1042.75 1390.01,1043.12 1396.52,1043.47 1403.03,1043.81 1409.54,1044.14 1416.05,1044.45 1422.56,1044.76 1429.07,1045.05 1435.58,1045.34 1442.09,1045.62 \n",
       "  1448.6,1045.88 1455.11,1046.14 1461.62,1046.39 1468.13,1046.63 1474.64,1046.87 1481.15,1047.1 1487.66,1047.32 1494.17,1047.53 1500.68,1047.74 1507.19,1047.94 \n",
       "  1513.7,1048.13 \n",
       "  \"/>\n",
       "<path clip-path=\"url(#clip3000)\" d=\"\n",
       "M1184.23 203.724 L1504.76 203.724 L1504.76 82.7641 L1184.23 82.7641  Z\n",
       "  \" fill=\"#ffffff\" fill-rule=\"evenodd\" fill-opacity=\"1\"/>\n",
       "<polyline clip-path=\"url(#clip3000)\" style=\"stroke:#000000; stroke-width:4; stroke-opacity:1; fill:none\" points=\"\n",
       "  1184.23,203.724 1504.76,203.724 1504.76,82.7641 1184.23,82.7641 1184.23,203.724 \n",
       "  \"/>\n",
       "<polyline clip-path=\"url(#clip3000)\" style=\"stroke:#009af9; stroke-width:4; stroke-opacity:1; fill:none\" points=\"\n",
       "  1200.23,143.244 1296.23,143.244 \n",
       "  \"/>\n",
       "<g clip-path=\"url(#clip3000)\">\n",
       "<text style=\"fill:#000000; fill-opacity:1; font-family:Arial,Helvetica Neue,Helvetica,sans-serif; font-size:48px; text-anchor:start;\" transform=\"rotate(0, 1312.23, 160.744)\" x=\"1312.23\" y=\"160.744\">Função</text>\n",
       "</g>\n",
       "</svg>\n"
      ]
     },
     "execution_count": 106,
     "metadata": {},
     "output_type": "execute_result"
    }
   ],
   "source": [
    "plot(-10:0.1:10, f9, label = (\"Função\"), size = (400, 300))\n",
    "plot!(-10:0.1:10, f9, fill=(0,:grey), opacity=0.3, label = \"\")"
   ]
  },
  {
   "cell_type": "code",
   "execution_count": 107,
   "metadata": {},
   "outputs": [
    {
     "data": {
      "text/latex": [
       "\\begin{equation*}\\left[\\begin{matrix}\\frac{x}{x^{2} + 1}\\\\- \\frac{\\infty}{x^{2} + 1}\\\\\\frac{\\infty}{x^{2} + 1}\\end{matrix}\\right]\\end{equation*}"
      ],
      "text/plain": [
       "⎡  x   ⎤\n",
       "⎢──────⎥\n",
       "⎢ 2    ⎥\n",
       "⎢x  + 1⎥\n",
       "⎢      ⎥\n",
       "⎢ -∞   ⎥\n",
       "⎢──────⎥\n",
       "⎢ 2    ⎥\n",
       "⎢x  + 1⎥\n",
       "⎢      ⎥\n",
       "⎢  ∞   ⎥\n",
       "⎢──────⎥\n",
       "⎢ 2    ⎥\n",
       "⎣x  + 1⎦"
      ]
     },
     "execution_count": 107,
     "metadata": {},
     "output_type": "execute_result"
    }
   ],
   "source": [
    "SymPy.integrate(f9(x), [x, -oo, +oo])"
   ]
  },
  {
   "cell_type": "markdown",
   "metadata": {},
   "source": [
    "#### INTEGRAL IMPRÓPRIA NUMÉRICA\n",
    "\n",
    "Para realizar uma integração numérica imprópria, basta utilizar valores grandes ($ 10^{20}$ ou mais ) para os limites que tendem para o infinito positivo; valores pequenos próximo de 0 ($ 10^{-10}$ ou menos) para limites que tendem para zero; valores pequenos ($ - 10^{20}$ ou menos ) para os limites que tendem para o infinito negativo."
   ]
  },
  {
   "cell_type": "code",
   "execution_count": 108,
   "metadata": {
    "scrolled": true
   },
   "outputs": [],
   "source": [
    "using QuadGK"
   ]
  },
  {
   "cell_type": "code",
   "execution_count": 109,
   "metadata": {},
   "outputs": [
    {
     "data": {
      "text/plain": [
       "f9 (generic function with 1 method)"
      ]
     },
     "execution_count": 109,
     "metadata": {},
     "output_type": "execute_result"
    }
   ],
   "source": [
    "f9(x) = 1/(1 + x^2)"
   ]
  },
  {
   "cell_type": "code",
   "execution_count": 110,
   "metadata": {},
   "outputs": [
    {
     "data": {
      "text/plain": [
       "(0.7853981633974483, 4.6064467819519415e-11)"
      ]
     },
     "execution_count": 110,
     "metadata": {},
     "output_type": "execute_result"
    }
   ],
   "source": [
    "# valor e erro\n",
    "valor , erro = quadgk(f9, 1, 1e20)"
   ]
  },
  {
   "cell_type": "code",
   "execution_count": 111,
   "metadata": {},
   "outputs": [
    {
     "data": {
      "text/plain": [
       "0.7853981633974483"
      ]
     },
     "execution_count": 111,
     "metadata": {},
     "output_type": "execute_result"
    }
   ],
   "source": [
    "# somente o valor \n",
    "quadgk(f9, 1, 1e20)[1]"
   ]
  },
  {
   "cell_type": "markdown",
   "metadata": {},
   "source": [
    "Exemplo: Calcular a integral $ \\displaystyle \\int_{-\\infty}^{\\infty} {1/(1 + x^2)} ~ dx~$ entre  $~[-\\infty, \\infty]$.\n",
    "\n",
    " \n",
    "Para calcular este numericamente esta integral devemos fazer: $ \\displaystyle \\int_{-\\infty}^{\\infty} {1/(1 + x^2)} ~ dx = $ $\\displaystyle \\int_{-\\infty}^{0} {1/(1 + x^2)} ~ dx +  \\displaystyle \\int_{0}^{\\infty} {1/(1 + x^2)} ~ dx $ "
   ]
  },
  {
   "cell_type": "code",
   "execution_count": 112,
   "metadata": {
    "scrolled": true
   },
   "outputs": [
    {
     "data": {
      "text/plain": [
       "3.1415926535897953"
      ]
     },
     "execution_count": 112,
     "metadata": {},
     "output_type": "execute_result"
    }
   ],
   "source": [
    "quadgk(f9, -1e20, 0)[1] + quadgk(f9, 0, 1e20)[1]"
   ]
  },
  {
   "cell_type": "markdown",
   "metadata": {},
   "source": [
    "#### USANDO O PACOTE CUBATURE \n",
    "\n",
    "Sintaxe:\n",
    "```julia\n",
    "hquadrature(f, a, b, reltol, abstol, maxevals)\n",
    "```\n",
    "* **f**: função matemática $f(x)$ expressa como uma expressão algébrica simbólica ou uma função genérica ou anônima;\n",
    "* **a, b**: intervalos de integração\n",
    "* **reltol**: tolerância do erro relativo (1e-8 padrão);\n",
    "* **abstol**: tolerância do erro absoluto (0 padrão);\n",
    "* **maxevals**: número máximo de avaliações da função (0 padrão).\n",
    "\n",
    "O resultado da integração é uma tupla contendo o valor da integral e erro (quanto menor melhor a precisão do valor)."
   ]
  },
  {
   "cell_type": "code",
   "execution_count": 113,
   "metadata": {
    "scrolled": true
   },
   "outputs": [
    {
     "data": {
      "text/plain": [
       "f9 (generic function with 1 method)"
      ]
     },
     "execution_count": 113,
     "metadata": {},
     "output_type": "execute_result"
    }
   ],
   "source": [
    "f9(x) = 1/(1 + x^2)"
   ]
  },
  {
   "cell_type": "code",
   "execution_count": 114,
   "metadata": {},
   "outputs": [],
   "source": [
    "using HCubature"
   ]
  },
  {
   "cell_type": "code",
   "execution_count": 115,
   "metadata": {},
   "outputs": [
    {
     "data": {
      "text/plain": [
       "(0.7853981633974483, 4.6064417539666956e-11)"
      ]
     },
     "execution_count": 115,
     "metadata": {},
     "output_type": "execute_result"
    }
   ],
   "source": [
    "# valor e erro\n",
    "valor , erro = hquadrature(f9, 1, 1e20)"
   ]
  },
  {
   "cell_type": "code",
   "execution_count": 116,
   "metadata": {},
   "outputs": [
    {
     "data": {
      "text/plain": [
       "0.7853981633974483"
      ]
     },
     "execution_count": 116,
     "metadata": {},
     "output_type": "execute_result"
    }
   ],
   "source": [
    "# somente valor\n",
    "valor"
   ]
  },
  {
   "cell_type": "code",
   "execution_count": 117,
   "metadata": {},
   "outputs": [
    {
     "data": {
      "text/plain": [
       "0.7853981633974483"
      ]
     },
     "execution_count": 117,
     "metadata": {},
     "output_type": "execute_result"
    }
   ],
   "source": [
    "# outra forma de mostrar somente o valor\n",
    "hquadrature(f9, 1, 1e20)[1]"
   ]
  },
  {
   "cell_type": "markdown",
   "metadata": {},
   "source": [
    "Exemplo: Calcular a integral $ \\displaystyle \\int_{-\\infty}^{\\infty} {1/(1 + x^2)} ~ dx ~$ entre  $~[-\\infty, \\infty]$\n",
    "\n",
    " $ \\displaystyle \\int_{-\\infty}^{\\infty} {1/(1 + x^2)} ~ dx = $ $\\displaystyle \\int_{-\\infty}^{0} {1/(1 + x^2)} ~ dx +  \\displaystyle \\int_{0}^{\\infty} {1/(1 + x^2)} ~ dx $ "
   ]
  },
  {
   "cell_type": "code",
   "execution_count": 118,
   "metadata": {},
   "outputs": [
    {
     "data": {
      "text/plain": [
       "3.1415926535897953"
      ]
     },
     "execution_count": 118,
     "metadata": {},
     "output_type": "execute_result"
    }
   ],
   "source": [
    "hquadrature(f9, -1e20, 0)[1] + hquadrature(f9, 0, 1e20)[1]"
   ]
  },
  {
   "cell_type": "markdown",
   "metadata": {},
   "source": [
    "### INTEGRAÇÃO MULTIPLA "
   ]
  },
  {
   "cell_type": "markdown",
   "metadata": {},
   "source": [
    "#### INTEGRAL DUPLA SIMBÓLICA INDEFINIDA\n",
    "\n",
    "$\\displaystyle \\displaystyle \\int \\int {f(x,y)} ~dxdy $\n",
    "\n",
    "Sintaxe:\n",
    "```julia\n",
    "integrage(integrate(integrate(f(x, y), var_1), var_2)..., var_n)\n",
    "```\n",
    "ou\n",
    "```julia\n",
    "integrate(f(x, y), (var_1,), (var_2,), ..., (var_n,))\n",
    "```\n",
    "Sendo:\n",
    "* **f(x, y)**: função matemática $f(x, y)$ expressa como uma expressão algébrica simbólica ou uma função genérica;\n",
    "* **var_1, var_2 ... var_n**: variável da função ou expressão algébrica;"
   ]
  },
  {
   "cell_type": "markdown",
   "metadata": {},
   "source": [
    "Exemplo: Calcular a integral \n",
    "$\\displaystyle \\displaystyle \\int \\int ({xy - x + y}) ~dx\\,dy $"
   ]
  },
  {
   "cell_type": "code",
   "execution_count": 119,
   "metadata": {
    "scrolled": false
   },
   "outputs": [
    {
     "data": {
      "text/plain": [
       "(x, y)"
      ]
     },
     "execution_count": 119,
     "metadata": {},
     "output_type": "execute_result"
    }
   ],
   "source": [
    "using SymPy\n",
    "@syms x y"
   ]
  },
  {
   "cell_type": "code",
   "execution_count": 120,
   "metadata": {
    "scrolled": true
   },
   "outputs": [
    {
     "data": {
      "text/plain": [
       "f10 (generic function with 1 method)"
      ]
     },
     "execution_count": 120,
     "metadata": {},
     "output_type": "execute_result"
    }
   ],
   "source": [
    "f10(x , y) = x*y - x + y"
   ]
  },
  {
   "cell_type": "code",
   "execution_count": 121,
   "metadata": {},
   "outputs": [
    {
     "data": {
      "text/latex": [
       "\\begin{equation*}- \\frac{x^{2} y}{2} + y^{2} \\left(\\frac{x^{2}}{4} + \\frac{x}{2}\\right)\\end{equation*}"
      ],
      "text/plain": [
       "   2        ⎛ 2    ⎞\n",
       "  x ⋅y    2 ⎜x    x⎟\n",
       "- ──── + y ⋅⎜── + ─⎟\n",
       "   2        ⎝4    2⎠"
      ]
     },
     "execution_count": 121,
     "metadata": {},
     "output_type": "execute_result"
    }
   ],
   "source": [
    "SymPy.integrate(SymPy.integrate(f10(x,y), x), y)"
   ]
  },
  {
   "cell_type": "markdown",
   "metadata": {},
   "source": [
    "Outra forma de utilizar a função `integrate()`:"
   ]
  },
  {
   "cell_type": "code",
   "execution_count": 122,
   "metadata": {
    "scrolled": true
   },
   "outputs": [
    {
     "data": {
      "text/latex": [
       "\\begin{equation*}- \\frac{x^{2} y}{2} + y^{2} \\left(\\frac{x^{2}}{4} + \\frac{x}{2}\\right)\\end{equation*}"
      ],
      "text/plain": [
       "   2        ⎛ 2    ⎞\n",
       "  x ⋅y    2 ⎜x    x⎟\n",
       "- ──── + y ⋅⎜── + ─⎟\n",
       "   2        ⎝4    2⎠"
      ]
     },
     "execution_count": 122,
     "metadata": {},
     "output_type": "execute_result"
    }
   ],
   "source": [
    "SymPy.integrate(f10(x, y), (x,), (y,))"
   ]
  },
  {
   "cell_type": "markdown",
   "metadata": {},
   "source": [
    "#### INTEGRAL DUPLA SIMBÓLICA DEFINIDA\n",
    "\n",
    "$ \\displaystyle \\int_{a_2}^{b_2} \\int_{a_1}^{b_1} {f(x,y)} ~dxdy $\n",
    "\n",
    "Sintaxe:\n",
    "```julia\n",
    "integrate(integrate(f(x, y), var_1, a_1, b_1), var_2, a_2, b_2)\n",
    "```\n",
    "ou\n",
    "```julia\n",
    "integrate(f(x, y), (var_1, a_1, b_1), (var_2, a_1, b_1))\n",
    "```\n",
    "Sendo: \n",
    "* **f(x, y)**: função matemática $f(x, y)$ expressa como uma expressão algébrica simbólica ou uma função genérica;\n",
    "* **var_1, var_2 e var_3**: variáveis de $f(x, y)$;\n",
    "* **a_1, b_1, a_2, b_2**: limites de integração das variáveis da função/expressão algébrica ."
   ]
  },
  {
   "cell_type": "markdown",
   "metadata": {},
   "source": [
    "Calcular a integral $ \\displaystyle \\int_{0}^{1} \\int_{0}^{1} ({xy - x + y}) ~dx\\,dy $"
   ]
  },
  {
   "cell_type": "code",
   "execution_count": 123,
   "metadata": {},
   "outputs": [
    {
     "data": {
      "text/plain": [
       "(x, y)"
      ]
     },
     "execution_count": 123,
     "metadata": {},
     "output_type": "execute_result"
    }
   ],
   "source": [
    "using SymPy\n",
    "@syms x y"
   ]
  },
  {
   "cell_type": "code",
   "execution_count": 124,
   "metadata": {},
   "outputs": [
    {
     "data": {
      "text/plain": [
       "f11 (generic function with 1 method)"
      ]
     },
     "execution_count": 124,
     "metadata": {},
     "output_type": "execute_result"
    }
   ],
   "source": [
    "f11(x, y) = x*y - x + y"
   ]
  },
  {
   "cell_type": "code",
   "execution_count": 125,
   "metadata": {},
   "outputs": [
    {
     "data": {
      "text/latex": [
       "\\begin{equation*}\\frac{1}{4}\\end{equation*}"
      ],
      "text/plain": [
       "1/4"
      ]
     },
     "execution_count": 125,
     "metadata": {},
     "output_type": "execute_result"
    }
   ],
   "source": [
    "SymPy.integrate(f11(x, y), (x, 0, 1), (y, 0, 1))"
   ]
  },
  {
   "cell_type": "markdown",
   "metadata": {},
   "source": [
    "#### INTEGRAL TRIPLA SIMBÓLICA INDEFINIDA"
   ]
  },
  {
   "cell_type": "markdown",
   "metadata": {},
   "source": [
    "$\\displaystyle \\int \\int \\int {f(x,y)} ~dxdydz $\n",
    "\n",
    "Sintaxe:\n",
    "```julia\n",
    "integrate(integrate(integrate(f(x, y), var_1), var_2), var_3)\n",
    "```\n",
    "ou\n",
    "```julia\n",
    "integrate(f(x, y), (var_1), (var_2), (var_3))\n",
    "```\n",
    "Sendo: \n",
    "* **f(x, y)**: função matemática $f(x, y)$ expressa como uma expressão algébrica simbólica ou uma função genérica;\n",
    "* **var_1, var_2 e var_3**: variáveis de $f(x, y)$."
   ]
  },
  {
   "cell_type": "markdown",
   "metadata": {},
   "source": [
    "Exemplo: Calcular a integral $\\displaystyle \\int \\int \\int ({xyz - x + y - z}) ~~dx\\,dy\\,dz $"
   ]
  },
  {
   "cell_type": "code",
   "execution_count": 126,
   "metadata": {},
   "outputs": [
    {
     "data": {
      "text/plain": [
       "(x, y, z)"
      ]
     },
     "execution_count": 126,
     "metadata": {},
     "output_type": "execute_result"
    }
   ],
   "source": [
    "using SymPy\n",
    "@syms x y z"
   ]
  },
  {
   "cell_type": "code",
   "execution_count": 127,
   "metadata": {
    "scrolled": true
   },
   "outputs": [
    {
     "data": {
      "text/plain": [
       "f12 (generic function with 1 method)"
      ]
     },
     "execution_count": 127,
     "metadata": {},
     "output_type": "execute_result"
    }
   ],
   "source": [
    "f12(x, y, z) = x*y*z - x + y - z"
   ]
  },
  {
   "cell_type": "code",
   "execution_count": 128,
   "metadata": {},
   "outputs": [
    {
     "data": {
      "text/latex": [
       "\\begin{equation*}z^{2} \\left(\\frac{x^{2} y^{2}}{8} - \\frac{x y}{2}\\right) + z \\left(- \\frac{x^{2} y}{2} + \\frac{x y^{2}}{2}\\right)\\end{equation*}"
      ],
      "text/plain": [
       "   ⎛ 2  2      ⎞     ⎛   2        2⎞\n",
       " 2 ⎜x ⋅y    x⋅y⎟     ⎜  x ⋅y   x⋅y ⎟\n",
       "z ⋅⎜───── - ───⎟ + z⋅⎜- ──── + ────⎟\n",
       "   ⎝  8      2 ⎠     ⎝   2      2  ⎠"
      ]
     },
     "execution_count": 128,
     "metadata": {},
     "output_type": "execute_result"
    }
   ],
   "source": [
    "int_tripla_a = SymPy.integrate( SymPy.integrate( SymPy.integrate(f12(x, y, z), x), y), z)"
   ]
  },
  {
   "cell_type": "code",
   "execution_count": 129,
   "metadata": {
    "scrolled": true
   },
   "outputs": [
    {
     "data": {
      "text/latex": [
       "\\begin{equation*}\\frac{x y z \\left(- 4 x + 4 y + z \\left(x y - 4\\right)\\right)}{8}\\end{equation*}"
      ],
      "text/plain": [
       "x⋅y⋅z⋅(-4⋅x + 4⋅y + z⋅(x⋅y - 4))\n",
       "────────────────────────────────\n",
       "               8                "
      ]
     },
     "execution_count": 129,
     "metadata": {},
     "output_type": "execute_result"
    }
   ],
   "source": [
    "# simplificando o resultado\n",
    "SymPy.simplify(int_tripla_a)"
   ]
  },
  {
   "cell_type": "markdown",
   "metadata": {},
   "source": [
    "Oura forma mais fácil"
   ]
  },
  {
   "cell_type": "code",
   "execution_count": 130,
   "metadata": {
    "scrolled": true
   },
   "outputs": [
    {
     "data": {
      "text/latex": [
       "\\begin{equation*}z^{2} \\left(\\frac{x^{2} y^{2}}{8} - \\frac{x y}{2}\\right) + z \\left(- \\frac{x^{2} y}{2} + \\frac{x y^{2}}{2}\\right)\\end{equation*}"
      ],
      "text/plain": [
       "   ⎛ 2  2      ⎞     ⎛   2        2⎞\n",
       " 2 ⎜x ⋅y    x⋅y⎟     ⎜  x ⋅y   x⋅y ⎟\n",
       "z ⋅⎜───── - ───⎟ + z⋅⎜- ──── + ────⎟\n",
       "   ⎝  8      2 ⎠     ⎝   2      2  ⎠"
      ]
     },
     "execution_count": 130,
     "metadata": {},
     "output_type": "execute_result"
    }
   ],
   "source": [
    "int_tripla_b = SymPy.integrate(f12(x, y, z), (x), (y), (z))"
   ]
  },
  {
   "cell_type": "code",
   "execution_count": 131,
   "metadata": {},
   "outputs": [
    {
     "data": {
      "text/latex": [
       "\\begin{equation*}\\frac{x y z \\left(- 4 x + 4 y + z \\left(x y - 4\\right)\\right)}{8}\\end{equation*}"
      ],
      "text/plain": [
       "x⋅y⋅z⋅(-4⋅x + 4⋅y + z⋅(x⋅y - 4))\n",
       "────────────────────────────────\n",
       "               8                "
      ]
     },
     "execution_count": 131,
     "metadata": {},
     "output_type": "execute_result"
    }
   ],
   "source": [
    "# simplificando o resultado\n",
    "SymPy.simplify(int_tripla_b)"
   ]
  },
  {
   "cell_type": "markdown",
   "metadata": {
    "collapsed": true
   },
   "source": [
    "#### INTEGRAL TRIPLA SIMBÓLICA DEFINIDA\n",
    "\n",
    "\n",
    "$\\displaystyle \\int_{a_3}^{b_3} \\int_{a_2}^{b_2} \\int_{a_1}^{b_1} f(x,y,z)\\, dxdydz$\n",
    "\n",
    "Sintaxe:\n",
    "```julia\n",
    "integrate(integrate(integrate(f(x, y), var_1, a_1, b_1), var_2, a_2, b_2), var_3, a_3, b_3)\n",
    "```\n",
    "ou\n",
    "```julia\n",
    "integrate(f(x, y), (var_1, a_1, b_1), (var_2, a_2, b_2), (var_3, a_3, b_3)\n",
    "```\n",
    "Sendo: \n",
    "* **f(x, y)**: função matemática $f(x, y)$ expressa como uma expressão algébrica simbólica ou uma função genérica;\n",
    "* **var_1, var_2 e var_3**: variáveis de $f(x, y)$;\n",
    "* **a, b**: limites de integração."
   ]
  },
  {
   "cell_type": "markdown",
   "metadata": {},
   "source": [
    "$ \\displaystyle \\int_{0}^{1} \\int_{0}^{1} \\int_{{0}}^{{1}} (xyz - x + y - z)~ dx\\,dy\\,dz$"
   ]
  },
  {
   "cell_type": "code",
   "execution_count": 132,
   "metadata": {},
   "outputs": [
    {
     "data": {
      "text/plain": [
       "f13 (generic function with 1 method)"
      ]
     },
     "execution_count": 132,
     "metadata": {},
     "output_type": "execute_result"
    }
   ],
   "source": [
    "f13(x, y, z) = x*y*z - x + y - z"
   ]
  },
  {
   "cell_type": "code",
   "execution_count": 133,
   "metadata": {},
   "outputs": [
    {
     "data": {
      "text/latex": [
       "\\begin{equation*}- \\frac{3}{8}\\end{equation*}"
      ],
      "text/plain": [
       "-3/8"
      ]
     },
     "execution_count": 133,
     "metadata": {},
     "output_type": "execute_result"
    }
   ],
   "source": [
    "SymPy.integrate(f13(x, y, z), (x, 0, 1), (y, 0, 1), (z, 0, 1))"
   ]
  },
  {
   "cell_type": "markdown",
   "metadata": {},
   "source": [
    "### INTEGRAL MULTIPLA NUMÉRICA"
   ]
  },
  {
   "cell_type": "markdown",
   "metadata": {},
   "source": [
    "#### INTEGRAL  DUPLA NUMÉRICA\n",
    "$ \\displaystyle \\int_{a_2}^{b_2} \\int_{a_1}^{b_1} {f(x,y)} ~dxdy $\n",
    "\n",
    "Vamos utilizar o pacote Cubature. Sintaxe:\n",
    "```julia\n",
    "hcubature(f(x), [a_1,a_2], [b_1,b_2],reltol, abstol, maxevals)\n",
    "\n",
    "```\n",
    "* **f(x)**: função, sendo x[1] correspondente à variável \"x\" x[2] correspondente a variável \"y\";\n",
    "* **[a_1, a_2] e [b_1,b_2]**: intervalos de integração para x[1] e x[2];\n",
    "* **reltol**: tolerância do erro relativo (1e-8 padrão);\n",
    "* **abstol**: tolerância do erro absoluto (0 padrão);\n",
    "* **maxevals**: número máximo de avaliações da função (0 padrão).\n",
    "\n",
    "O resultado da integração é uma tupla contendo o valor da integral e erro(quanto menor melhor a precisão do valor)."
   ]
  },
  {
   "cell_type": "markdown",
   "metadata": {},
   "source": [
    "Resolver a integral \n",
    "\n",
    "$ \\displaystyle \\int_{0}^{1} \\int_{0}^{1} (xy - x + y)\\, dx\\,dy$"
   ]
  },
  {
   "cell_type": "code",
   "execution_count": 134,
   "metadata": {},
   "outputs": [],
   "source": [
    "using HCubature"
   ]
  },
  {
   "cell_type": "code",
   "execution_count": 135,
   "metadata": {},
   "outputs": [
    {
     "data": {
      "text/plain": [
       "f14 (generic function with 1 method)"
      ]
     },
     "execution_count": 135,
     "metadata": {},
     "output_type": "execute_result"
    }
   ],
   "source": [
    "f14(x) = x[1]*x[2] - x[1] + x[2]"
   ]
  },
  {
   "cell_type": "code",
   "execution_count": 136,
   "metadata": {},
   "outputs": [
    {
     "data": {
      "text/plain": [
       "(0.25, 0.0)"
      ]
     },
     "execution_count": 136,
     "metadata": {},
     "output_type": "execute_result"
    }
   ],
   "source": [
    "# valor e erro \n",
    "valor, erro = hcubature(f14, [0, 0], [1, 1])"
   ]
  },
  {
   "cell_type": "code",
   "execution_count": 137,
   "metadata": {},
   "outputs": [
    {
     "data": {
      "text/plain": [
       "0.25"
      ]
     },
     "execution_count": 137,
     "metadata": {},
     "output_type": "execute_result"
    }
   ],
   "source": [
    "# somente valor\n",
    "valor"
   ]
  },
  {
   "cell_type": "code",
   "execution_count": 138,
   "metadata": {},
   "outputs": [
    {
     "data": {
      "text/plain": [
       "0.25"
      ]
     },
     "execution_count": 138,
     "metadata": {},
     "output_type": "execute_result"
    }
   ],
   "source": [
    "# outra forma\n",
    "hcubature(f14, [0, 0], [1, 1])[1]"
   ]
  },
  {
   "cell_type": "markdown",
   "metadata": {},
   "source": [
    "#### INTEGRAL TRIPLA NUMÉRICA \n",
    "\n",
    "$\\displaystyle \\int_{a_3}^{b_3} \\int_{a_2}^{b_2} \\int_{a_1}^{b_1} f(x,y,z)\\, ~~dxdydzb$\n",
    "\n",
    "Vamos utilizar o pacote Cubature. Sintaxe:\n",
    "```julia\n",
    "valor_integral,erro = hcubature(f(x),[a_1,a_2,a_3],[b_1,b_2,b_3],reltol,abstol,maxevals)\n",
    "```\n",
    "* **f(x)**: função, sendo x[1] correspondente à variável \"x\", x[2] correspondente a variável \"y\" e x[3] correspondente a variável \"z\";\n",
    "* **[a_1, a_2, a_3] e [b_1, b_2, b_3]**: intervalos de integração para x[1], x[2] e x[3]\n",
    "* **reltol**: tolerância do erro relativo (1e-8 padrão);\n",
    "* **abstol**: tolerância do erro absoluto (0 padrão);\n",
    "* **maxevals**: número máximo de avaliações da função (0 padrão).\n",
    "\n",
    "O resultado da integração é uma tupla contendo o valor da integral e erro(quanto menor melhor a precisão do valor)."
   ]
  },
  {
   "cell_type": "code",
   "execution_count": 139,
   "metadata": {},
   "outputs": [],
   "source": [
    "using HCubature"
   ]
  },
  {
   "cell_type": "code",
   "execution_count": 140,
   "metadata": {
    "scrolled": true
   },
   "outputs": [
    {
     "data": {
      "text/plain": [
       "f15 (generic function with 1 method)"
      ]
     },
     "execution_count": 140,
     "metadata": {},
     "output_type": "execute_result"
    }
   ],
   "source": [
    "f15(x) = x[1]*x[2]*x[3] - x[1] + x[2] + x[3]"
   ]
  },
  {
   "cell_type": "code",
   "execution_count": 141,
   "metadata": {},
   "outputs": [
    {
     "data": {
      "text/plain": [
       "(0.6249999999999999, 0.0)"
      ]
     },
     "execution_count": 141,
     "metadata": {},
     "output_type": "execute_result"
    }
   ],
   "source": [
    "# valor e erro\n",
    "valor , erro = hcubature(f15, [0, 0, 0], [1, 1, 1]) "
   ]
  },
  {
   "cell_type": "code",
   "execution_count": 142,
   "metadata": {
    "scrolled": false
   },
   "outputs": [
    {
     "data": {
      "text/plain": [
       "0.6249999999999999"
      ]
     },
     "execution_count": 142,
     "metadata": {},
     "output_type": "execute_result"
    }
   ],
   "source": [
    "# somente valor \n",
    "valor"
   ]
  },
  {
   "cell_type": "code",
   "execution_count": 143,
   "metadata": {},
   "outputs": [
    {
     "data": {
      "text/plain": [
       "0.6249999999999999"
      ]
     },
     "execution_count": 143,
     "metadata": {},
     "output_type": "execute_result"
    }
   ],
   "source": [
    "# Outra forma\n",
    "hcubature(f15, [0, 0, 0], [1, 1, 1])[1]"
   ]
  },
  {
   "cell_type": "markdown",
   "metadata": {
    "collapsed": true
   },
   "source": [
    "## REFERÊNCIA BIBLIOGRÁFICA\n",
    "STEWART, James. **Cálculo Vol. I**. 3ª reimpressão da 2ª edição de 2010. São Paulo: Pioneira Thomson Learning, 2002. ISBN 978-85221-0666-8. p. 480 a 484\n",
    "\n",
    "GILAT, Amos Pozo; SUBRAMANIAM, Vish. **Métodos numéricos para engenheiros e cientistas: : uma introdução com aplicações usando o MATLAB**. 1ª edição. Porto Alegre: Bookman, 2008. ISBN 978-85-7780-297-5\n",
    "\n",
    "DOWNING, Douglas. **Dictionary of mathematics terms**. 3. ed. Hauppauge, N.Y: Barron's, 2009. 410 p. v. 1. "
   ]
  }
 ],
 "metadata": {
  "@webio": {
   "lastCommId": null,
   "lastKernelId": null
  },
  "anaconda-cloud": {},
  "kernelspec": {
   "display_name": "Julia 1.2.0",
   "language": "julia",
   "name": "julia-1.2"
  },
  "language_info": {
   "file_extension": ".jl",
   "mimetype": "application/julia",
   "name": "julia",
   "version": "1.2.0"
  }
 },
 "nbformat": 4,
 "nbformat_minor": 1
}
