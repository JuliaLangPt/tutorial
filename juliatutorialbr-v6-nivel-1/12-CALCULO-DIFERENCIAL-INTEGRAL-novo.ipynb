{
 "cells": [
  {
   "cell_type": "markdown",
   "metadata": {},
   "source": [
    "# CALCULO INTEGRAL E DIFERENCIAL"
   ]
  },
  {
   "cell_type": "markdown",
   "metadata": {},
   "source": [
    "Esta capítulo aborda as funções básicas do cálculo diferencial e integral, como limites, derivadas e integrais de forma simbólica e numérica. Serão utilizado os pacotes a seguir:\n",
    "\n",
    "* **SymPy.jl**\n",
    "\n",
    "O pacote `SymPy.jl` é uma biblioteca `Python` para matemática simbólica utilizado na linguagem `Julia` via pacote `PyCall.jl`. Para instalar o pacote use:\n",
    "```julia\n",
    "using Pkg\n",
    "Pkg.add(\"SymPy\")\n",
    "\n",
    "```\n",
    "* **HCubature.jl**\n",
    "\n",
    "O pacote `HCubature` é uma implementação dos a de integração multidimensional \"h-adaptativa\" totalmente escrita em Julia. O algoritmo de `hquadrature` é baseado no algoritmo descrito no trabalho de A. C. Genz and A. A. Malik, \"An adaptive algorithm for numeric integration over an N-dimensional rectangular region\". Doi: https://doi.org/10.1016/0771-050X(80)90039-X . Isto é, dada uma integral n-dimensional. O `HCubature.jl` foi escrito por Steven G. Johnson e é um software livre e de código aberto sob a licença MIT. Para instalar o pacote use:\n",
    "```julia\n",
    "using Pkg\n",
    "Pkg.add(\"Cubature\")\n",
    "\n",
    "```\n",
    "* **QuadGK.jl**\n",
    "\n",
    "Este pacote fornece suporte para integração numérica unidimensional usando a quadratura adaptável de Gauss-Kronrod. O pacote oferece três funções: `quadgk()`, `gauss()` e `kronrod()`. Para instalar o pacote use:\n",
    "```julia\n",
    "using Pkg\n",
    "Pkg.add(\"QuadGK\")\n",
    "\n",
    "```\n",
    "\n",
    "* **Polynomials.jl**\n",
    "\n",
    "É um pacote exclusivo para manipulação de polinômios. Permite operações de aritmética básica, integração, diferenciação, avaliação e determinação de raizes em polinômios. Para instalar o pacote use:\n",
    "```julia\n",
    "using Pkg\n",
    "Pkg.add(\"Polynomials\")\n",
    "\n",
    "```\n",
    "\n",
    "* **Calculus.jl**\n",
    "\n",
    "O pacote ```Calculus.jl``` fornece ferramentas para trabalhar com as operações básicas de cálculo de diferenciação e integração. Você pode usar o pacote ```Calculus.jl``` para produzir derivadas aproximadas por várias formas de diferenciação finita ou para produzir uma derivada exata usando diferenciação simbólica. Você também pode computar integrais definidas por diferentes métodos numéricos. Para instalar o pacote use:\n",
    "```julia\n",
    "using Pkg\n",
    "Pkg.add(\"Calculus\")\n",
    "\n",
    "```"
   ]
  },
  {
   "cell_type": "markdown",
   "metadata": {},
   "source": [
    "## LIMITES\n",
    "\n",
    "De acordo com a definição, Downing (2009) descreve que:\n",
    ">O limite de uma função é o valor que a variável dependente se aproxima à medida que a variável independente se \n",
    ">aproxima de algum valor fixo. A expressão algébrica algébrica “O limite\n",
    "> de f (x) quando x se aproxima de a ” é escrito como:\n",
    ">\n",
    "> $$~\\displaystyle \\lim_{x\\rightarrow a}{f(x)} = L ~$$"
   ]
  },
  {
   "cell_type": "markdown",
   "metadata": {},
   "source": [
    "### LIMITE SIMBÓLICO\n",
    "\n",
    "O pacote `SymPy.jl` possui a função `limit()` que pode calcular limites simbólicos de acordo com a sintaxe: \n",
    "```julia\n",
    "limit(f(x), var, constante, \"+\" / \"-\")\n",
    "```\n",
    "Sendo:\n",
    "* **f(x)**: função matemática $f(x)$ expressa como uma expressão algébrica simbólica ou uma função genérica;\n",
    "* **var**: variável de $f(x)$;\n",
    "* **constante**: valor da constante; \n",
    "* **\"+\" / \"-\"**: limite direita (\"+\") ou esquerda (\"-\")."
   ]
  },
  {
   "cell_type": "markdown",
   "metadata": {},
   "source": [
    "Exemplo: Calcular o limite $ \\displaystyle \\lim_{x\\rightarrow 1}{(x - 1)^2\\over{(x - 1)} }$"
   ]
  },
  {
   "cell_type": "code",
   "execution_count": 1,
   "metadata": {
    "collapsed": false,
    "scrolled": false
   },
   "outputs": [
    {
     "data": {
      "text/plain": [
       "(x, y)"
      ]
     },
     "execution_count": 1,
     "metadata": {},
     "output_type": "execute_result"
    }
   ],
   "source": [
    "using SymPy\n",
    "@syms x y"
   ]
  },
  {
   "cell_type": "code",
   "execution_count": 2,
   "metadata": {
    "collapsed": false,
    "scrolled": true
   },
   "outputs": [
    {
     "data": {
      "text/latex": [
       "$$0$$"
      ],
      "text/plain": [
       "0"
      ]
     },
     "execution_count": 2,
     "metadata": {},
     "output_type": "execute_result"
    }
   ],
   "source": [
    "limit((x-1)^2 / (x-1), x, 1) "
   ]
  },
  {
   "cell_type": "markdown",
   "metadata": {},
   "source": [
    "Ou ainda"
   ]
  },
  {
   "cell_type": "code",
   "execution_count": 3,
   "metadata": {
    "collapsed": false
   },
   "outputs": [
    {
     "data": {
      "text/plain": [
       "f1 (generic function with 1 method)"
      ]
     },
     "execution_count": 3,
     "metadata": {},
     "output_type": "execute_result"
    }
   ],
   "source": [
    "f1(x) = (x-1)^2 / (x - 1)"
   ]
  },
  {
   "cell_type": "code",
   "execution_count": 4,
   "metadata": {
    "collapsed": false,
    "scrolled": true
   },
   "outputs": [
    {
     "data": {
      "text/latex": [
       "$$0$$"
      ],
      "text/plain": [
       "0"
      ]
     },
     "execution_count": 4,
     "metadata": {},
     "output_type": "execute_result"
    }
   ],
   "source": [
    "limit(f1(x), x, 1)"
   ]
  },
  {
   "cell_type": "markdown",
   "metadata": {},
   "source": [
    "#### LIMITE DE FUNÇÕES MATEMÁTICAS DE VÁRIAS VARIÁVEIS\n",
    "\n",
    "Exemplo: Calcular o limite: $ \\displaystyle \\lim_{x\\rightarrow 1, y\\rightarrow 1}{xy - 2x + y }$"
   ]
  },
  {
   "cell_type": "code",
   "execution_count": 136,
   "metadata": {
    "collapsed": false,
    "scrolled": false
   },
   "outputs": [
    {
     "data": {
      "text/plain": [
       "f2 (generic function with 1 method)"
      ]
     },
     "execution_count": 136,
     "metadata": {},
     "output_type": "execute_result"
    }
   ],
   "source": [
    "f2(x, y) = x*y - 2*x + y"
   ]
  },
  {
   "cell_type": "code",
   "execution_count": 1,
   "metadata": {
    "collapsed": false,
    "scrolled": true
   },
   "outputs": [
    {
     "ename": "UndefVarError",
     "evalue": "UndefVarError: f2 not defined",
     "output_type": "error",
     "traceback": [
      "UndefVarError: f2 not defined",
      "",
      "Stacktrace:",
      " [1] top-level scope at In[1]:1"
     ]
    }
   ],
   "source": [
    "limit(limit(f2(x,y), x, 1), y, 1)"
   ]
  },
  {
   "cell_type": "markdown",
   "metadata": {},
   "source": [
    "#### LIMITE SIMBÓLICO INFINITO"
   ]
  },
  {
   "cell_type": "markdown",
   "metadata": {},
   "source": [
    "$ \\displaystyle \\lim_{x\\rightarrow \\infty}{1 \\over x^2 }$ e $ \\displaystyle \\lim_{x\\rightarrow - \\infty}{1 \\over x^2 }$ "
   ]
  },
  {
   "cell_type": "code",
   "execution_count": 162,
   "metadata": {
    "collapsed": false
   },
   "outputs": [
    {
     "data": {
      "image/svg+xml": [
       "<?xml version=\"1.0\" encoding=\"utf-8\"?>\n",
       "<svg xmlns=\"http://www.w3.org/2000/svg\" xmlns:xlink=\"http://www.w3.org/1999/xlink\" width=\"400\" height=\"300\" viewBox=\"0 0 1600 1200\">\n",
       "<defs>\n",
       "  <clipPath id=\"clip1500\">\n",
       "    <rect x=\"0\" y=\"0\" width=\"2000\" height=\"2000\"/>\n",
       "  </clipPath>\n",
       "</defs>\n",
       "<defs>\n",
       "  <clipPath id=\"clip1501\">\n",
       "    <rect x=\"0\" y=\"0\" width=\"1600\" height=\"1200\"/>\n",
       "  </clipPath>\n",
       "</defs>\n",
       "<polygon clip-path=\"url(#clip1501)\" points=\"\n",
       "0,1200 1600,1200 1600,0 0,0 \n",
       "  \" fill=\"#ffffff\" fill-opacity=\"1\"/>\n",
       "<defs>\n",
       "  <clipPath id=\"clip1502\">\n",
       "    <rect x=\"320\" y=\"0\" width=\"1121\" height=\"1121\"/>\n",
       "  </clipPath>\n",
       "</defs>\n",
       "<polygon clip-path=\"url(#clip1501)\" points=\"\n",
       "237.767,1036.29 1521.26,1036.29 1521.26,47.2441 237.767,47.2441 \n",
       "  \" fill=\"#ffffff\" fill-opacity=\"1\"/>\n",
       "<defs>\n",
       "  <clipPath id=\"clip1503\">\n",
       "    <rect x=\"237\" y=\"47\" width=\"1284\" height=\"990\"/>\n",
       "  </clipPath>\n",
       "</defs>\n",
       "<polyline clip-path=\"url(#clip1503)\" style=\"stroke:#000000; stroke-width:2; stroke-opacity:0.1; fill:none\" points=\"\n",
       "  395.177,1036.29 395.177,47.2441 \n",
       "  \"/>\n",
       "<polyline clip-path=\"url(#clip1503)\" style=\"stroke:#000000; stroke-width:2; stroke-opacity:0.1; fill:none\" points=\"\n",
       "  637.345,1036.29 637.345,47.2441 \n",
       "  \"/>\n",
       "<polyline clip-path=\"url(#clip1503)\" style=\"stroke:#000000; stroke-width:2; stroke-opacity:0.1; fill:none\" points=\"\n",
       "  879.514,1036.29 879.514,47.2441 \n",
       "  \"/>\n",
       "<polyline clip-path=\"url(#clip1503)\" style=\"stroke:#000000; stroke-width:2; stroke-opacity:0.1; fill:none\" points=\"\n",
       "  1121.68,1036.29 1121.68,47.2441 \n",
       "  \"/>\n",
       "<polyline clip-path=\"url(#clip1503)\" style=\"stroke:#000000; stroke-width:2; stroke-opacity:0.1; fill:none\" points=\"\n",
       "  1363.85,1036.29 1363.85,47.2441 \n",
       "  \"/>\n",
       "<polyline clip-path=\"url(#clip1503)\" style=\"stroke:#000000; stroke-width:2; stroke-opacity:0.1; fill:none\" points=\"\n",
       "  237.767,1008.67 1521.26,1008.67 \n",
       "  \"/>\n",
       "<polyline clip-path=\"url(#clip1503)\" style=\"stroke:#000000; stroke-width:2; stroke-opacity:0.1; fill:none\" points=\"\n",
       "  237.767,775.313 1521.26,775.313 \n",
       "  \"/>\n",
       "<polyline clip-path=\"url(#clip1503)\" style=\"stroke:#000000; stroke-width:2; stroke-opacity:0.1; fill:none\" points=\"\n",
       "  237.767,541.954 1521.26,541.954 \n",
       "  \"/>\n",
       "<polyline clip-path=\"url(#clip1503)\" style=\"stroke:#000000; stroke-width:2; stroke-opacity:0.1; fill:none\" points=\"\n",
       "  237.767,308.595 1521.26,308.595 \n",
       "  \"/>\n",
       "<polyline clip-path=\"url(#clip1503)\" style=\"stroke:#000000; stroke-width:2; stroke-opacity:0.1; fill:none\" points=\"\n",
       "  237.767,75.236 1521.26,75.236 \n",
       "  \"/>\n",
       "<polyline clip-path=\"url(#clip1501)\" style=\"stroke:#000000; stroke-width:4; stroke-opacity:1; fill:none\" points=\"\n",
       "  237.767,1036.29 1521.26,1036.29 \n",
       "  \"/>\n",
       "<polyline clip-path=\"url(#clip1501)\" style=\"stroke:#000000; stroke-width:4; stroke-opacity:1; fill:none\" points=\"\n",
       "  237.767,1036.29 237.767,47.2441 \n",
       "  \"/>\n",
       "<polyline clip-path=\"url(#clip1501)\" style=\"stroke:#000000; stroke-width:4; stroke-opacity:1; fill:none\" points=\"\n",
       "  395.177,1036.29 395.177,1021.46 \n",
       "  \"/>\n",
       "<polyline clip-path=\"url(#clip1501)\" style=\"stroke:#000000; stroke-width:4; stroke-opacity:1; fill:none\" points=\"\n",
       "  637.345,1036.29 637.345,1021.46 \n",
       "  \"/>\n",
       "<polyline clip-path=\"url(#clip1501)\" style=\"stroke:#000000; stroke-width:4; stroke-opacity:1; fill:none\" points=\"\n",
       "  879.514,1036.29 879.514,1021.46 \n",
       "  \"/>\n",
       "<polyline clip-path=\"url(#clip1501)\" style=\"stroke:#000000; stroke-width:4; stroke-opacity:1; fill:none\" points=\"\n",
       "  1121.68,1036.29 1121.68,1021.46 \n",
       "  \"/>\n",
       "<polyline clip-path=\"url(#clip1501)\" style=\"stroke:#000000; stroke-width:4; stroke-opacity:1; fill:none\" points=\"\n",
       "  1363.85,1036.29 1363.85,1021.46 \n",
       "  \"/>\n",
       "<polyline clip-path=\"url(#clip1501)\" style=\"stroke:#000000; stroke-width:4; stroke-opacity:1; fill:none\" points=\"\n",
       "  237.767,1008.67 257.02,1008.67 \n",
       "  \"/>\n",
       "<polyline clip-path=\"url(#clip1501)\" style=\"stroke:#000000; stroke-width:4; stroke-opacity:1; fill:none\" points=\"\n",
       "  237.767,775.313 257.02,775.313 \n",
       "  \"/>\n",
       "<polyline clip-path=\"url(#clip1501)\" style=\"stroke:#000000; stroke-width:4; stroke-opacity:1; fill:none\" points=\"\n",
       "  237.767,541.954 257.02,541.954 \n",
       "  \"/>\n",
       "<polyline clip-path=\"url(#clip1501)\" style=\"stroke:#000000; stroke-width:4; stroke-opacity:1; fill:none\" points=\"\n",
       "  237.767,308.595 257.02,308.595 \n",
       "  \"/>\n",
       "<polyline clip-path=\"url(#clip1501)\" style=\"stroke:#000000; stroke-width:4; stroke-opacity:1; fill:none\" points=\"\n",
       "  237.767,75.236 257.02,75.236 \n",
       "  \"/>\n",
       "<g clip-path=\"url(#clip1501)\">\n",
       "<text style=\"fill:#000000; fill-opacity:1; font-family:Arial,Helvetica Neue,Helvetica,sans-serif; font-size:48; text-anchor:middle;\" transform=\"rotate(0, 395.177, 1086.29)\" x=\"395.177\" y=\"1086.29\">-4</text>\n",
       "</g>\n",
       "<g clip-path=\"url(#clip1501)\">\n",
       "<text style=\"fill:#000000; fill-opacity:1; font-family:Arial,Helvetica Neue,Helvetica,sans-serif; font-size:48; text-anchor:middle;\" transform=\"rotate(0, 637.345, 1086.29)\" x=\"637.345\" y=\"1086.29\">-2</text>\n",
       "</g>\n",
       "<g clip-path=\"url(#clip1501)\">\n",
       "<text style=\"fill:#000000; fill-opacity:1; font-family:Arial,Helvetica Neue,Helvetica,sans-serif; font-size:48; text-anchor:middle;\" transform=\"rotate(0, 879.514, 1086.29)\" x=\"879.514\" y=\"1086.29\">0</text>\n",
       "</g>\n",
       "<g clip-path=\"url(#clip1501)\">\n",
       "<text style=\"fill:#000000; fill-opacity:1; font-family:Arial,Helvetica Neue,Helvetica,sans-serif; font-size:48; text-anchor:middle;\" transform=\"rotate(0, 1121.68, 1086.29)\" x=\"1121.68\" y=\"1086.29\">2</text>\n",
       "</g>\n",
       "<g clip-path=\"url(#clip1501)\">\n",
       "<text style=\"fill:#000000; fill-opacity:1; font-family:Arial,Helvetica Neue,Helvetica,sans-serif; font-size:48; text-anchor:middle;\" transform=\"rotate(0, 1363.85, 1086.29)\" x=\"1363.85\" y=\"1086.29\">4</text>\n",
       "</g>\n",
       "<g clip-path=\"url(#clip1501)\">\n",
       "<text style=\"fill:#000000; fill-opacity:1; font-family:Arial,Helvetica Neue,Helvetica,sans-serif; font-size:48; text-anchor:end;\" transform=\"rotate(0, 221.767, 1026.17)\" x=\"221.767\" y=\"1026.17\">0</text>\n",
       "</g>\n",
       "<g clip-path=\"url(#clip1501)\">\n",
       "<text style=\"fill:#000000; fill-opacity:1; font-family:Arial,Helvetica Neue,Helvetica,sans-serif; font-size:48; text-anchor:end;\" transform=\"rotate(0, 221.767, 792.813)\" x=\"221.767\" y=\"792.813\">25</text>\n",
       "</g>\n",
       "<g clip-path=\"url(#clip1501)\">\n",
       "<text style=\"fill:#000000; fill-opacity:1; font-family:Arial,Helvetica Neue,Helvetica,sans-serif; font-size:48; text-anchor:end;\" transform=\"rotate(0, 221.767, 559.454)\" x=\"221.767\" y=\"559.454\">50</text>\n",
       "</g>\n",
       "<g clip-path=\"url(#clip1501)\">\n",
       "<text style=\"fill:#000000; fill-opacity:1; font-family:Arial,Helvetica Neue,Helvetica,sans-serif; font-size:48; text-anchor:end;\" transform=\"rotate(0, 221.767, 326.095)\" x=\"221.767\" y=\"326.095\">75</text>\n",
       "</g>\n",
       "<g clip-path=\"url(#clip1501)\">\n",
       "<text style=\"fill:#000000; fill-opacity:1; font-family:Arial,Helvetica Neue,Helvetica,sans-serif; font-size:48; text-anchor:end;\" transform=\"rotate(0, 221.767, 92.736)\" x=\"221.767\" y=\"92.736\">100</text>\n",
       "</g>\n",
       "<g clip-path=\"url(#clip1501)\">\n",
       "<text style=\"fill:#000000; fill-opacity:1; font-family:Arial,Helvetica Neue,Helvetica,sans-serif; font-size:66; text-anchor:middle;\" transform=\"rotate(0, 879.514, 1190.4)\" x=\"879.514\" y=\"1190.4\">x</text>\n",
       "</g>\n",
       "<g clip-path=\"url(#clip1501)\">\n",
       "<text style=\"fill:#000000; fill-opacity:1; font-family:Arial,Helvetica Neue,Helvetica,sans-serif; font-size:66; text-anchor:middle;\" transform=\"rotate(-90, 57.6, 541.768)\" x=\"57.6\" y=\"541.768\">y</text>\n",
       "</g>\n",
       "<polyline clip-path=\"url(#clip1503)\" style=\"stroke:#009af9; stroke-width:4; stroke-opacity:1; fill:none\" points=\"\n",
       "  274.093,1008.3 286.201,1008.28 298.309,1008.27 310.418,1008.25 322.526,1008.23 334.635,1008.21 346.743,1008.19 358.852,1008.17 370.96,1008.14 383.068,1008.12 \n",
       "  395.177,1008.09 407.285,1008.06 419.394,1008.03 431.502,1007.99 443.61,1007.95 455.719,1007.91 467.827,1007.86 479.936,1007.82 492.044,1007.76 504.153,1007.7 \n",
       "  516.261,1007.64 528.369,1007.56 540.478,1007.48 552.586,1007.39 564.695,1007.29 576.803,1007.18 588.912,1007.05 601.02,1006.91 613.128,1006.74 625.237,1006.56 \n",
       "  637.345,1006.34 649.454,1006.09 661.562,1005.79 673.67,1005.44 685.779,1005.03 697.887,1004.52 709.996,1003.91 722.104,1003.15 734.213,1002.19 746.321,1000.96 \n",
       "  758.429,999.338 770.538,997.149 782.646,994.087 794.755,989.623 806.863,982.744 818.971,971.335 831.08,950.333 843.188,904.957 855.297,775.313 867.405,75.236 \n",
       "  \n",
       "  \"/>\n",
       "<polyline clip-path=\"url(#clip1503)\" style=\"stroke:#009af9; stroke-width:4; stroke-opacity:1; fill:none\" points=\"\n",
       "  891.622,75.236 903.73,775.313 915.839,904.957 927.947,950.333 940.056,971.335 952.164,982.744 964.273,989.623 976.381,994.087 988.489,997.149 1000.6,999.338 \n",
       "  1012.71,1000.96 1024.81,1002.19 1036.92,1003.15 1049.03,1003.91 1061.14,1004.52 1073.25,1005.03 1085.36,1005.44 1097.47,1005.79 1109.57,1006.09 1121.68,1006.34 \n",
       "  1133.79,1006.56 1145.9,1006.74 1158.01,1006.91 1170.12,1007.05 1182.22,1007.18 1194.33,1007.29 1206.44,1007.39 1218.55,1007.48 1230.66,1007.56 1242.77,1007.64 \n",
       "  1254.87,1007.7 1266.98,1007.76 1279.09,1007.82 1291.2,1007.86 1303.31,1007.91 1315.42,1007.95 1327.53,1007.99 1339.63,1008.03 1351.74,1008.06 1363.85,1008.09 \n",
       "  1375.96,1008.12 1388.07,1008.14 1400.18,1008.17 1412.28,1008.19 1424.39,1008.21 1436.5,1008.23 1448.61,1008.25 1460.72,1008.27 1472.83,1008.28 1484.93,1008.3 \n",
       "  \n",
       "  \"/>\n",
       "</svg>\n"
      ]
     },
     "execution_count": 162,
     "metadata": {},
     "output_type": "execute_result"
    }
   ],
   "source": [
    "plot(-5:0.1:5, x->1/x^2, xlabel = \"x\", ylabel=\"y\", size=(400, 300), label =\"\")"
   ]
  },
  {
   "cell_type": "code",
   "execution_count": 157,
   "metadata": {
    "collapsed": false
   },
   "outputs": [
    {
     "data": {
      "text/latex": [
       "$$1$$"
      ],
      "text/plain": [
       "1"
      ]
     },
     "execution_count": 157,
     "metadata": {},
     "output_type": "execute_result"
    }
   ],
   "source": [
    "limit(1/x^2, x, oo)"
   ]
  },
  {
   "cell_type": "code",
   "execution_count": 167,
   "metadata": {
    "collapsed": false
   },
   "outputs": [
    {
     "data": {
      "text/latex": [
       "$$0$$"
      ],
      "text/plain": [
       "0"
      ]
     },
     "execution_count": 167,
     "metadata": {},
     "output_type": "execute_result"
    }
   ],
   "source": [
    "limit(1/x^2, x, -oo)"
   ]
  },
  {
   "cell_type": "markdown",
   "metadata": {},
   "source": [
    "#### LIMITES LATERAIS"
   ]
  },
  {
   "cell_type": "markdown",
   "metadata": {},
   "source": [
    "$ \\displaystyle \\lim_{x\\rightarrow 0}{x \\over |x| }$"
   ]
  },
  {
   "cell_type": "code",
   "execution_count": 164,
   "metadata": {
    "collapsed": false
   },
   "outputs": [
    {
     "data": {
      "text/latex": [
       "$$1$$"
      ],
      "text/plain": [
       "1"
      ]
     },
     "execution_count": 164,
     "metadata": {},
     "output_type": "execute_result"
    }
   ],
   "source": [
    "# limite à direita \n",
    "limit(x/abs(x), x, 0, \"+\")"
   ]
  },
  {
   "cell_type": "code",
   "execution_count": 166,
   "metadata": {
    "collapsed": false
   },
   "outputs": [
    {
     "data": {
      "text/latex": [
       "$$-1$$"
      ],
      "text/plain": [
       "-1"
      ]
     },
     "execution_count": 166,
     "metadata": {},
     "output_type": "execute_result"
    }
   ],
   "source": [
    "# limite à esquerda\n",
    "limit(x/abs(x), x, 0, \"-\")"
   ]
  },
  {
   "cell_type": "markdown",
   "metadata": {},
   "source": [
    "### LIMITE NUMÉRICO\n",
    "\n",
    "O pacote `Base` da linguagem `Julia` ou o pacote `SymPy.jl` não oferecem uma função para calcular o limite numérico, logo é possível utilizar a definição de limite $~\\displaystyle \\lim_{x\\rightarrow a}{f(x)} = L ~$,  de tal forma que $x$ seja o mais próxima da constante $a$.\n",
    "\n",
    "Calcular o limite:  $\\displaystyle \\lim_{x\\rightarrow 0}{\\frac{(x - 1)^2} {(x + 1)} }$"
   ]
  },
  {
   "cell_type": "code",
   "execution_count": 2,
   "metadata": {
    "collapsed": false,
    "scrolled": true
   },
   "outputs": [
    {
     "data": {
      "text/plain": [
       "f3 (generic function with 1 method)"
      ]
     },
     "execution_count": 2,
     "metadata": {},
     "output_type": "execute_result"
    }
   ],
   "source": [
    "f3(x) = (x - 1)^2/(x + 1)"
   ]
  },
  {
   "cell_type": "code",
   "execution_count": 3,
   "metadata": {
    "collapsed": false,
    "scrolled": true
   },
   "outputs": [
    {
     "data": {
      "text/plain": [
       "0.9999999999999969"
      ]
     },
     "execution_count": 3,
     "metadata": {},
     "output_type": "execute_result"
    }
   ],
   "source": [
    "# limite à direita \n",
    "f3(1e-15)"
   ]
  },
  {
   "cell_type": "code",
   "execution_count": 4,
   "metadata": {
    "collapsed": false
   },
   "outputs": [
    {
     "data": {
      "text/plain": [
       "1.0000000000000033"
      ]
     },
     "execution_count": 4,
     "metadata": {},
     "output_type": "execute_result"
    }
   ],
   "source": [
    "# limite à esquerda \n",
    "f3(-1e-15)"
   ]
  },
  {
   "cell_type": "markdown",
   "metadata": {},
   "source": [
    "** Forma visual do $\\displaystyle \\lim_{x\\rightarrow a}{f(x)} = L $ utilizando List Comprehension**"
   ]
  },
  {
   "cell_type": "code",
   "execution_count": 5,
   "metadata": {
    "collapsed": false
   },
   "outputs": [
    {
     "data": {
      "text/plain": [
       "11×2 Array{Float64,2}:\n",
       " 1.0      0.0     \n",
       " 0.1      0.736364\n",
       " 0.01     0.970396\n",
       " 0.001    0.997004\n",
       " 0.0001   0.9997  \n",
       " 1.0e-5   0.99997 \n",
       " 1.0e-6   0.999997\n",
       " 1.0e-7   1.0     \n",
       " 1.0e-8   1.0     \n",
       " 1.0e-9   1.0     \n",
       " 1.0e-10  1.0     "
      ]
     },
     "execution_count": 5,
     "metadata": {},
     "output_type": "execute_result"
    }
   ],
   "source": [
    "xln = [10.0^-i for i in 0:10]\n",
    "\n",
    "yln = [f3(i)  for i in xln]\n",
    "\n",
    "[xln yln]"
   ]
  },
  {
   "cell_type": "markdown",
   "metadata": {},
   "source": [
    "## DERIVADA\n",
    "\n",
    "De acordo com Downing (2009) a definição de derivada é:  \n",
    "> The derivative of a function is the rate of change of that function. On the graph of the curve y f(x), the derivative at x is equal to the slope of the tangent line at the point (x, f(x)). "
   ]
  },
  {
   "cell_type": "markdown",
   "metadata": {},
   "source": [
    "### DERIVADA SIMBÓLICA INDEFINIDA\n",
    "\n",
    "```julia\n",
    "diff(f(x), var, ordem_derivada)\n",
    "\n",
    "```\n",
    "Sendo:\n",
    "* **f(x)**: função matemática $f(x)$ expressa como uma expressão algébrica simbólica ou uma função genérica;\n",
    "* **var**:variável de $f(x)$;\n",
    "* **ordem_derivada**: "
   ]
  },
  {
   "cell_type": "markdown",
   "metadata": {},
   "source": [
    "Exemplo: dada a função $f(x) = x^2 + 3x$, calcular $ \\displaystyle {f'(x)} $"
   ]
  },
  {
   "cell_type": "code",
   "execution_count": 2,
   "metadata": {
    "collapsed": false,
    "scrolled": true
   },
   "outputs": [
    {
     "data": {
      "text/plain": [
       "(x,)"
      ]
     },
     "execution_count": 2,
     "metadata": {},
     "output_type": "execute_result"
    }
   ],
   "source": [
    "using SymPy\n",
    "@syms x"
   ]
  },
  {
   "cell_type": "code",
   "execution_count": 3,
   "metadata": {
    "collapsed": false,
    "scrolled": true
   },
   "outputs": [
    {
     "data": {
      "text/plain": [
       "f4 (generic function with 1 method)"
      ]
     },
     "execution_count": 3,
     "metadata": {},
     "output_type": "execute_result"
    }
   ],
   "source": [
    "f4(x) = x^2 + 3*x"
   ]
  },
  {
   "cell_type": "code",
   "execution_count": 4,
   "metadata": {
    "collapsed": false,
    "scrolled": true
   },
   "outputs": [
    {
     "data": {
      "text/latex": [
       "\\begin{equation*}2 x + 3\\end{equation*}"
      ],
      "text/plain": [
       "2⋅x + 3"
      ]
     },
     "execution_count": 4,
     "metadata": {},
     "output_type": "execute_result"
    }
   ],
   "source": [
    "# Derivada primeira\n",
    "\n",
    "diff(f4(x), x, 1)"
   ]
  },
  {
   "cell_type": "markdown",
   "metadata": {},
   "source": [
    "forma alternativa"
   ]
  },
  {
   "cell_type": "code",
   "execution_count": 5,
   "metadata": {
    "collapsed": false,
    "scrolled": false
   },
   "outputs": [
    {
     "data": {
      "text/latex": [
       "\\begin{equation*}\\frac{d}{d x}\\left(x^{2} + 3 x\\right)\\end{equation*}"
      ],
      "text/plain": [
       "d ⎛ 2      ⎞\n",
       "──⎝x  + 3⋅x⎠\n",
       "dx          "
      ]
     },
     "execution_count": 5,
     "metadata": {},
     "output_type": "execute_result"
    }
   ],
   "source": [
    "der1 =  Derivative(f4(x), x, 1)"
   ]
  },
  {
   "cell_type": "code",
   "execution_count": 48,
   "metadata": {
    "collapsed": false
   },
   "outputs": [
    {
     "data": {
      "text/latex": [
       "$$2 x + 3$$"
      ],
      "text/plain": [
       "2*x + 3"
      ]
     },
     "execution_count": 48,
     "metadata": {},
     "output_type": "execute_result"
    }
   ],
   "source": [
    "doit(der1)"
   ]
  },
  {
   "cell_type": "code",
   "execution_count": 49,
   "metadata": {
    "collapsed": false
   },
   "outputs": [
    {
     "data": {
      "text/latex": [
       "$$2$$"
      ],
      "text/plain": [
       "2"
      ]
     },
     "execution_count": 49,
     "metadata": {},
     "output_type": "execute_result"
    }
   ],
   "source": [
    "# Derivada segunda\n",
    "\n",
    "diff(f4(x), x, 2)"
   ]
  },
  {
   "cell_type": "markdown",
   "metadata": {},
   "source": [
    "Forma alternativa"
   ]
  },
  {
   "cell_type": "code",
   "execution_count": 50,
   "metadata": {
    "collapsed": false
   },
   "outputs": [
    {
     "data": {
      "text/latex": [
       "$$\\frac{d^{2}}{d x^{2}} \\left(x^{2} + 3 x\\right)$$"
      ],
      "text/plain": [
       "  2          \n",
       " d / 2      \\\n",
       "---\\x  + 3*x/\n",
       "  2          \n",
       "dx           "
      ]
     },
     "execution_count": 50,
     "metadata": {},
     "output_type": "execute_result"
    }
   ],
   "source": [
    "der2 = Derivative(f4(x), x, 2)"
   ]
  },
  {
   "cell_type": "code",
   "execution_count": 51,
   "metadata": {
    "collapsed": false
   },
   "outputs": [
    {
     "data": {
      "text/latex": [
       "$$2$$"
      ],
      "text/plain": [
       "2"
      ]
     },
     "execution_count": 51,
     "metadata": {},
     "output_type": "execute_result"
    }
   ],
   "source": [
    "doit(der2)"
   ]
  },
  {
   "cell_type": "code",
   "execution_count": 52,
   "metadata": {
    "collapsed": false
   },
   "outputs": [
    {
     "data": {
      "text/latex": [
       "$$0$$"
      ],
      "text/plain": [
       "0"
      ]
     },
     "execution_count": 52,
     "metadata": {},
     "output_type": "execute_result"
    }
   ],
   "source": [
    "# Derivada terceira\n",
    "diff(f4(x), x, 3)"
   ]
  },
  {
   "cell_type": "markdown",
   "metadata": {
    "collapsed": true
   },
   "source": [
    "### DERIVADA SIMBÓLICA DEFINIDA \n",
    "\n",
    "Sintaxe:\n",
    "```julia\n",
    "diff(f(x), var, ordem_derivada)(valor_var)\n",
    "```\n",
    "Sendo:\n",
    "* **f(x)**: função matemática $f(x)$ expressa como uma expressão algébrica simbólica ou uma função genérica ou anônima;\n",
    "* **var**: variável de $f(x)$;\n",
    "* **ordem_derivada**: \n",
    "* **valor_var**: valor numérico ou simbólico da variável de $f(x)$;"
   ]
  },
  {
   "cell_type": "markdown",
   "metadata": {},
   "source": [
    "Exemplo: dada a função $f(x) = x^2 + 3x$, calcular $ \\displaystyle {d'(0)} $"
   ]
  },
  {
   "cell_type": "code",
   "execution_count": 96,
   "metadata": {
    "collapsed": false,
    "scrolled": true
   },
   "outputs": [
    {
     "data": {
      "text/plain": [
       "(x,)"
      ]
     },
     "execution_count": 96,
     "metadata": {},
     "output_type": "execute_result"
    }
   ],
   "source": [
    "using SymPy \n",
    "@syms x "
   ]
  },
  {
   "cell_type": "code",
   "execution_count": 281,
   "metadata": {
    "collapsed": false,
    "scrolled": true
   },
   "outputs": [
    {
     "data": {
      "text/plain": [
       "f5 (generic function with 1 method)"
      ]
     },
     "execution_count": 281,
     "metadata": {},
     "output_type": "execute_result"
    }
   ],
   "source": [
    "f5(x) = x^3 + 3*x + 1"
   ]
  },
  {
   "cell_type": "code",
   "execution_count": 282,
   "metadata": {
    "collapsed": false,
    "scrolled": false
   },
   "outputs": [
    {
     "data": {
      "text/latex": [
       "$$3$$"
      ],
      "text/plain": [
       "3"
      ]
     },
     "execution_count": 282,
     "metadata": {},
     "output_type": "execute_result"
    }
   ],
   "source": [
    "# Derivada segunda x = 0\n",
    "diff(f5(x), x, 1)(0)"
   ]
  },
  {
   "cell_type": "code",
   "execution_count": 283,
   "metadata": {
    "collapsed": false,
    "scrolled": true
   },
   "outputs": [
    {
     "data": {
      "text/latex": [
       "$$0$$"
      ],
      "text/plain": [
       "0"
      ]
     },
     "execution_count": 283,
     "metadata": {},
     "output_type": "execute_result"
    }
   ],
   "source": [
    "# Derivada segunda x = 0\n",
    "diff(f5(x), x, 2)(0)"
   ]
  },
  {
   "cell_type": "markdown",
   "metadata": {},
   "source": [
    "**Lançamento vertical**\n",
    "\n",
    "Uma esfera de 200g de massa é lançado para cima com velocidade de 20m/s. \n",
    "![](Figuras/objeto-1.jpg)\n",
    "\n",
    "A função que descrevem o espaço em função do tempo é definido por:\n",
    "\n",
    "$\\displaystyle{s(t) = s_0 + v_0t + \\frac {at^2}{2}}$\n",
    "\n",
    "$\\displaystyle{s(t) = 20t - 9.8\\frac{t^2}{2}}$"
   ]
  },
  {
   "cell_type": "code",
   "execution_count": 6,
   "metadata": {
    "collapsed": false,
    "scrolled": false
   },
   "outputs": [
    {
     "name": "stderr",
     "output_type": "stream",
     "text": [
      "┌ Info: Recompiling stale cache file /home/jmarcellopereira/.julia/compiled/v1.0/SymPy/KzewI.ji for SymPy [24249f21-da20-56a4-8eb1-6a02cf4ae2e6]\n",
      "└ @ Base loading.jl:1190\n"
     ]
    },
    {
     "data": {
      "text/plain": [
       "(t,)"
      ]
     },
     "execution_count": 6,
     "metadata": {},
     "output_type": "execute_result"
    }
   ],
   "source": [
    "using SymPy\n",
    "@syms t"
   ]
  },
  {
   "cell_type": "code",
   "execution_count": 9,
   "metadata": {
    "collapsed": false,
    "scrolled": false
   },
   "outputs": [
    {
     "data": {
      "text/plain": [
       "s (generic function with 1 method)"
      ]
     },
     "execution_count": 9,
     "metadata": {},
     "output_type": "execute_result"
    }
   ],
   "source": [
    "s(t) = 20*t - 9.8*t^2/2"
   ]
  },
  {
   "cell_type": "markdown",
   "metadata": {},
   "source": [
    "Tempo. Para determinar o tempo de lançamento, devemos calcular $s(t) = 0.$"
   ]
  },
  {
   "cell_type": "code",
   "execution_count": 10,
   "metadata": {
    "collapsed": false,
    "scrolled": true
   },
   "outputs": [
    {
     "data": {
      "text/plain": [
       "2-element Array{Float64,1}:\n",
       " 0.0              \n",
       " 4.081632653061225"
      ]
     },
     "execution_count": 10,
     "metadata": {},
     "output_type": "execute_result"
    }
   ],
   "source": [
    "t1, t2 = float(solve(s(t), t))"
   ]
  },
  {
   "cell_type": "markdown",
   "metadata": {},
   "source": [
    "Gráfico do espaço."
   ]
  },
  {
   "cell_type": "code",
   "execution_count": 11,
   "metadata": {
    "collapsed": false,
    "scrolled": false
   },
   "outputs": [
    {
     "name": "stderr",
     "output_type": "stream",
     "text": [
      "┌ Info: Recompiling stale cache file /home/jmarcellopereira/.julia/compiled/v1.0/Plots/ld3vC.ji for Plots [91a5bcdd-55d7-5caf-9e0b-520d859cae80]\n",
      "└ @ Base loading.jl:1190\n"
     ]
    },
    {
     "data": {
      "image/svg+xml": [
       "<?xml version=\"1.0\" encoding=\"utf-8\"?>\n",
       "<svg xmlns=\"http://www.w3.org/2000/svg\" xmlns:xlink=\"http://www.w3.org/1999/xlink\" width=\"400\" height=\"300\" viewBox=\"0 0 1600 1200\">\n",
       "<defs>\n",
       "  <clipPath id=\"clip3500\">\n",
       "    <rect x=\"0\" y=\"0\" width=\"2000\" height=\"2000\"/>\n",
       "  </clipPath>\n",
       "</defs>\n",
       "<defs>\n",
       "  <clipPath id=\"clip3501\">\n",
       "    <rect x=\"0\" y=\"0\" width=\"1600\" height=\"1200\"/>\n",
       "  </clipPath>\n",
       "</defs>\n",
       "<polygon clip-path=\"url(#clip3501)\" points=\"\n",
       "0,1200 1600,1200 1600,0 0,0 \n",
       "  \" fill=\"#ffffff\" fill-opacity=\"1\"/>\n",
       "<defs>\n",
       "  <clipPath id=\"clip3502\">\n",
       "    <rect x=\"320\" y=\"0\" width=\"1121\" height=\"1121\"/>\n",
       "  </clipPath>\n",
       "</defs>\n",
       "<polygon clip-path=\"url(#clip3501)\" points=\"\n",
       "211.005,1040.48 1521.26,1040.48 1521.26,47.2441 211.005,47.2441 \n",
       "  \" fill=\"#ffffff\" fill-opacity=\"1\"/>\n",
       "<defs>\n",
       "  <clipPath id=\"clip3503\">\n",
       "    <rect x=\"211\" y=\"47\" width=\"1311\" height=\"994\"/>\n",
       "  </clipPath>\n",
       "</defs>\n",
       "<polyline clip-path=\"url(#clip3503)\" style=\"stroke:#000000; stroke-width:2; stroke-opacity:0.1; fill:none\" points=\"\n",
       "  248.088,1040.48 248.088,47.2441 \n",
       "  \"/>\n",
       "<polyline clip-path=\"url(#clip3503)\" style=\"stroke:#000000; stroke-width:2; stroke-opacity:0.1; fill:none\" points=\"\n",
       "  402.599,1040.48 402.599,47.2441 \n",
       "  \"/>\n",
       "<polyline clip-path=\"url(#clip3503)\" style=\"stroke:#000000; stroke-width:2; stroke-opacity:0.1; fill:none\" points=\"\n",
       "  557.11,1040.48 557.11,47.2441 \n",
       "  \"/>\n",
       "<polyline clip-path=\"url(#clip3503)\" style=\"stroke:#000000; stroke-width:2; stroke-opacity:0.1; fill:none\" points=\"\n",
       "  711.621,1040.48 711.621,47.2441 \n",
       "  \"/>\n",
       "<polyline clip-path=\"url(#clip3503)\" style=\"stroke:#000000; stroke-width:2; stroke-opacity:0.1; fill:none\" points=\"\n",
       "  866.132,1040.48 866.132,47.2441 \n",
       "  \"/>\n",
       "<polyline clip-path=\"url(#clip3503)\" style=\"stroke:#000000; stroke-width:2; stroke-opacity:0.1; fill:none\" points=\"\n",
       "  1020.64,1040.48 1020.64,47.2441 \n",
       "  \"/>\n",
       "<polyline clip-path=\"url(#clip3503)\" style=\"stroke:#000000; stroke-width:2; stroke-opacity:0.1; fill:none\" points=\"\n",
       "  1175.15,1040.48 1175.15,47.2441 \n",
       "  \"/>\n",
       "<polyline clip-path=\"url(#clip3503)\" style=\"stroke:#000000; stroke-width:2; stroke-opacity:0.1; fill:none\" points=\"\n",
       "  1329.67,1040.48 1329.67,47.2441 \n",
       "  \"/>\n",
       "<polyline clip-path=\"url(#clip3503)\" style=\"stroke:#000000; stroke-width:2; stroke-opacity:0.1; fill:none\" points=\"\n",
       "  1484.18,1040.48 1484.18,47.2441 \n",
       "  \"/>\n",
       "<polyline clip-path=\"url(#clip3503)\" style=\"stroke:#000000; stroke-width:2; stroke-opacity:0.1; fill:none\" points=\"\n",
       "  211.005,1012.37 1521.26,1012.37 \n",
       "  \"/>\n",
       "<polyline clip-path=\"url(#clip3503)\" style=\"stroke:#000000; stroke-width:2; stroke-opacity:0.1; fill:none\" points=\"\n",
       "  211.005,782.711 1521.26,782.711 \n",
       "  \"/>\n",
       "<polyline clip-path=\"url(#clip3503)\" style=\"stroke:#000000; stroke-width:2; stroke-opacity:0.1; fill:none\" points=\"\n",
       "  211.005,553.05 1521.26,553.05 \n",
       "  \"/>\n",
       "<polyline clip-path=\"url(#clip3503)\" style=\"stroke:#000000; stroke-width:2; stroke-opacity:0.1; fill:none\" points=\"\n",
       "  211.005,323.389 1521.26,323.389 \n",
       "  \"/>\n",
       "<polyline clip-path=\"url(#clip3503)\" style=\"stroke:#000000; stroke-width:2; stroke-opacity:0.1; fill:none\" points=\"\n",
       "  211.005,93.7275 1521.26,93.7275 \n",
       "  \"/>\n",
       "<polyline clip-path=\"url(#clip3501)\" style=\"stroke:#000000; stroke-width:4; stroke-opacity:1; fill:none\" points=\"\n",
       "  211.005,1040.48 1521.26,1040.48 \n",
       "  \"/>\n",
       "<polyline clip-path=\"url(#clip3501)\" style=\"stroke:#000000; stroke-width:4; stroke-opacity:1; fill:none\" points=\"\n",
       "  211.005,1040.48 211.005,47.2441 \n",
       "  \"/>\n",
       "<polyline clip-path=\"url(#clip3501)\" style=\"stroke:#000000; stroke-width:4; stroke-opacity:1; fill:none\" points=\"\n",
       "  248.088,1040.48 248.088,1025.58 \n",
       "  \"/>\n",
       "<polyline clip-path=\"url(#clip3501)\" style=\"stroke:#000000; stroke-width:4; stroke-opacity:1; fill:none\" points=\"\n",
       "  402.599,1040.48 402.599,1025.58 \n",
       "  \"/>\n",
       "<polyline clip-path=\"url(#clip3501)\" style=\"stroke:#000000; stroke-width:4; stroke-opacity:1; fill:none\" points=\"\n",
       "  557.11,1040.48 557.11,1025.58 \n",
       "  \"/>\n",
       "<polyline clip-path=\"url(#clip3501)\" style=\"stroke:#000000; stroke-width:4; stroke-opacity:1; fill:none\" points=\"\n",
       "  711.621,1040.48 711.621,1025.58 \n",
       "  \"/>\n",
       "<polyline clip-path=\"url(#clip3501)\" style=\"stroke:#000000; stroke-width:4; stroke-opacity:1; fill:none\" points=\"\n",
       "  866.132,1040.48 866.132,1025.58 \n",
       "  \"/>\n",
       "<polyline clip-path=\"url(#clip3501)\" style=\"stroke:#000000; stroke-width:4; stroke-opacity:1; fill:none\" points=\"\n",
       "  1020.64,1040.48 1020.64,1025.58 \n",
       "  \"/>\n",
       "<polyline clip-path=\"url(#clip3501)\" style=\"stroke:#000000; stroke-width:4; stroke-opacity:1; fill:none\" points=\"\n",
       "  1175.15,1040.48 1175.15,1025.58 \n",
       "  \"/>\n",
       "<polyline clip-path=\"url(#clip3501)\" style=\"stroke:#000000; stroke-width:4; stroke-opacity:1; fill:none\" points=\"\n",
       "  1329.67,1040.48 1329.67,1025.58 \n",
       "  \"/>\n",
       "<polyline clip-path=\"url(#clip3501)\" style=\"stroke:#000000; stroke-width:4; stroke-opacity:1; fill:none\" points=\"\n",
       "  1484.18,1040.48 1484.18,1025.58 \n",
       "  \"/>\n",
       "<polyline clip-path=\"url(#clip3501)\" style=\"stroke:#000000; stroke-width:4; stroke-opacity:1; fill:none\" points=\"\n",
       "  211.005,1012.37 230.659,1012.37 \n",
       "  \"/>\n",
       "<polyline clip-path=\"url(#clip3501)\" style=\"stroke:#000000; stroke-width:4; stroke-opacity:1; fill:none\" points=\"\n",
       "  211.005,782.711 230.659,782.711 \n",
       "  \"/>\n",
       "<polyline clip-path=\"url(#clip3501)\" style=\"stroke:#000000; stroke-width:4; stroke-opacity:1; fill:none\" points=\"\n",
       "  211.005,553.05 230.659,553.05 \n",
       "  \"/>\n",
       "<polyline clip-path=\"url(#clip3501)\" style=\"stroke:#000000; stroke-width:4; stroke-opacity:1; fill:none\" points=\"\n",
       "  211.005,323.389 230.659,323.389 \n",
       "  \"/>\n",
       "<polyline clip-path=\"url(#clip3501)\" style=\"stroke:#000000; stroke-width:4; stroke-opacity:1; fill:none\" points=\"\n",
       "  211.005,93.7275 230.659,93.7275 \n",
       "  \"/>\n",
       "<g clip-path=\"url(#clip3501)\">\n",
       "<text style=\"fill:#000000; fill-opacity:1; font-family:Arial,Helvetica Neue,Helvetica,sans-serif; font-size:48px; text-anchor:middle;\" transform=\"rotate(0, 248.088, 1090.48)\" x=\"248.088\" y=\"1090.48\">0.0</text>\n",
       "</g>\n",
       "<g clip-path=\"url(#clip3501)\">\n",
       "<text style=\"fill:#000000; fill-opacity:1; font-family:Arial,Helvetica Neue,Helvetica,sans-serif; font-size:48px; text-anchor:middle;\" transform=\"rotate(0, 402.599, 1090.48)\" x=\"402.599\" y=\"1090.48\">0.5</text>\n",
       "</g>\n",
       "<g clip-path=\"url(#clip3501)\">\n",
       "<text style=\"fill:#000000; fill-opacity:1; font-family:Arial,Helvetica Neue,Helvetica,sans-serif; font-size:48px; text-anchor:middle;\" transform=\"rotate(0, 557.11, 1090.48)\" x=\"557.11\" y=\"1090.48\">1.0</text>\n",
       "</g>\n",
       "<g clip-path=\"url(#clip3501)\">\n",
       "<text style=\"fill:#000000; fill-opacity:1; font-family:Arial,Helvetica Neue,Helvetica,sans-serif; font-size:48px; text-anchor:middle;\" transform=\"rotate(0, 711.621, 1090.48)\" x=\"711.621\" y=\"1090.48\">1.5</text>\n",
       "</g>\n",
       "<g clip-path=\"url(#clip3501)\">\n",
       "<text style=\"fill:#000000; fill-opacity:1; font-family:Arial,Helvetica Neue,Helvetica,sans-serif; font-size:48px; text-anchor:middle;\" transform=\"rotate(0, 866.132, 1090.48)\" x=\"866.132\" y=\"1090.48\">2.0</text>\n",
       "</g>\n",
       "<g clip-path=\"url(#clip3501)\">\n",
       "<text style=\"fill:#000000; fill-opacity:1; font-family:Arial,Helvetica Neue,Helvetica,sans-serif; font-size:48px; text-anchor:middle;\" transform=\"rotate(0, 1020.64, 1090.48)\" x=\"1020.64\" y=\"1090.48\">2.5</text>\n",
       "</g>\n",
       "<g clip-path=\"url(#clip3501)\">\n",
       "<text style=\"fill:#000000; fill-opacity:1; font-family:Arial,Helvetica Neue,Helvetica,sans-serif; font-size:48px; text-anchor:middle;\" transform=\"rotate(0, 1175.15, 1090.48)\" x=\"1175.15\" y=\"1090.48\">3.0</text>\n",
       "</g>\n",
       "<g clip-path=\"url(#clip3501)\">\n",
       "<text style=\"fill:#000000; fill-opacity:1; font-family:Arial,Helvetica Neue,Helvetica,sans-serif; font-size:48px; text-anchor:middle;\" transform=\"rotate(0, 1329.67, 1090.48)\" x=\"1329.67\" y=\"1090.48\">3.5</text>\n",
       "</g>\n",
       "<g clip-path=\"url(#clip3501)\">\n",
       "<text style=\"fill:#000000; fill-opacity:1; font-family:Arial,Helvetica Neue,Helvetica,sans-serif; font-size:48px; text-anchor:middle;\" transform=\"rotate(0, 1484.18, 1090.48)\" x=\"1484.18\" y=\"1090.48\">4.0</text>\n",
       "</g>\n",
       "<g clip-path=\"url(#clip3501)\">\n",
       "<text style=\"fill:#000000; fill-opacity:1; font-family:Arial,Helvetica Neue,Helvetica,sans-serif; font-size:48px; text-anchor:end;\" transform=\"rotate(0, 195.005, 1029.87)\" x=\"195.005\" y=\"1029.87\">0</text>\n",
       "</g>\n",
       "<g clip-path=\"url(#clip3501)\">\n",
       "<text style=\"fill:#000000; fill-opacity:1; font-family:Arial,Helvetica Neue,Helvetica,sans-serif; font-size:48px; text-anchor:end;\" transform=\"rotate(0, 195.005, 800.211)\" x=\"195.005\" y=\"800.211\">5</text>\n",
       "</g>\n",
       "<g clip-path=\"url(#clip3501)\">\n",
       "<text style=\"fill:#000000; fill-opacity:1; font-family:Arial,Helvetica Neue,Helvetica,sans-serif; font-size:48px; text-anchor:end;\" transform=\"rotate(0, 195.005, 570.55)\" x=\"195.005\" y=\"570.55\">10</text>\n",
       "</g>\n",
       "<g clip-path=\"url(#clip3501)\">\n",
       "<text style=\"fill:#000000; fill-opacity:1; font-family:Arial,Helvetica Neue,Helvetica,sans-serif; font-size:48px; text-anchor:end;\" transform=\"rotate(0, 195.005, 340.889)\" x=\"195.005\" y=\"340.889\">15</text>\n",
       "</g>\n",
       "<g clip-path=\"url(#clip3501)\">\n",
       "<text style=\"fill:#000000; fill-opacity:1; font-family:Arial,Helvetica Neue,Helvetica,sans-serif; font-size:48px; text-anchor:end;\" transform=\"rotate(0, 195.005, 111.228)\" x=\"195.005\" y=\"111.228\">20</text>\n",
       "</g>\n",
       "<g clip-path=\"url(#clip3501)\">\n",
       "<text style=\"fill:#000000; fill-opacity:1; font-family:Arial,Helvetica Neue,Helvetica,sans-serif; font-size:66px; text-anchor:middle;\" transform=\"rotate(0, 866.132, 1190.4)\" x=\"866.132\" y=\"1190.4\">Tempo (s)</text>\n",
       "</g>\n",
       "<g clip-path=\"url(#clip3501)\">\n",
       "<text style=\"fill:#000000; fill-opacity:1; font-family:Arial,Helvetica Neue,Helvetica,sans-serif; font-size:66px; text-anchor:middle;\" transform=\"rotate(-90, 57.6, 543.863)\" x=\"57.6\" y=\"543.863\">Espaço(m)</text>\n",
       "</g>\n",
       "<polyline clip-path=\"url(#clip3503)\" style=\"stroke:#009af9; stroke-width:4; stroke-opacity:1; fill:none\" points=\"\n",
       "  248.088,1012.37 278.99,922.758 309.892,837.646 340.794,757.035 371.697,680.925 402.599,609.317 433.501,542.21 464.403,479.604 495.306,421.5 526.208,367.897 \n",
       "  557.11,318.795 588.012,274.195 618.915,234.096 649.817,198.499 680.719,167.403 711.621,140.808 742.523,118.715 773.426,101.123 804.328,88.0319 835.23,79.4426 \n",
       "  866.132,75.3546 897.035,75.768 927.937,80.6828 958.839,90.0989 989.741,104.016 1020.64,122.435 1051.55,145.355 1082.45,172.777 1113.35,204.7 1144.25,241.124 \n",
       "  1175.15,282.05 1206.06,327.477 1236.96,377.405 1267.86,431.835 1298.76,490.766 1329.67,554.198 1360.57,622.132 1391.47,694.567 1422.37,771.503 1453.27,852.941 \n",
       "  1484.18,938.881 \n",
       "  \"/>\n",
       "<polygon clip-path=\"url(#clip3501)\" points=\"\n",
       "1243.75,203.724 1473.26,203.724 1473.26,82.7641 1243.75,82.7641 \n",
       "  \" fill=\"#ffffff\" fill-opacity=\"1\"/>\n",
       "<polyline clip-path=\"url(#clip3501)\" style=\"stroke:#000000; stroke-width:4; stroke-opacity:1; fill:none\" points=\"\n",
       "  1243.75,203.724 1473.26,203.724 1473.26,82.7641 1243.75,82.7641 1243.75,203.724 \n",
       "  \"/>\n",
       "<polyline clip-path=\"url(#clip3501)\" style=\"stroke:#009af9; stroke-width:4; stroke-opacity:1; fill:none\" points=\"\n",
       "  1259.75,143.244 1355.75,143.244 \n",
       "  \"/>\n",
       "<g clip-path=\"url(#clip3501)\">\n",
       "<text style=\"fill:#000000; fill-opacity:1; font-family:Arial,Helvetica Neue,Helvetica,sans-serif; font-size:48px; text-anchor:start;\" transform=\"rotate(0, 1371.75, 160.744)\" x=\"1371.75\" y=\"160.744\">s(t)</text>\n",
       "</g>\n",
       "</svg>\n"
      ]
     },
     "execution_count": 11,
     "metadata": {},
     "output_type": "execute_result"
    }
   ],
   "source": [
    "using Plots\n",
    "gr()\n",
    "\n",
    "plot(t1:0.1:t2, s, \n",
    "    label = \"s(t)\",\n",
    "    xticks = t1:0.5:t2, \n",
    "    xlabel = \"Tempo (s)\",\n",
    "    ylabel = \"Espaço(m)\",\n",
    "    size = (400, 300))"
   ]
  },
  {
   "cell_type": "markdown",
   "metadata": {},
   "source": [
    "Velocidade. A função $v(t)$ é a derivada da função $s(t)$."
   ]
  },
  {
   "cell_type": "code",
   "execution_count": 12,
   "metadata": {
    "collapsed": false,
    "scrolled": true
   },
   "outputs": [
    {
     "data": {
      "text/latex": [
       "\\begin{equation*}- 9.8 t + 20\\end{equation*}"
      ],
      "text/plain": [
       "-9.8⋅t + 20"
      ]
     },
     "execution_count": 12,
     "metadata": {},
     "output_type": "execute_result"
    }
   ],
   "source": [
    "v = diff(s(t), t)"
   ]
  },
  {
   "cell_type": "markdown",
   "metadata": {},
   "source": [
    "O resultado de $s'(t)$ é simbólico e embora seja possível manipular $v$ na forma $v(tempo)$, o resultado também será sempre simbólico, logo, é interessante transformá-lo em função genérica:"
   ]
  },
  {
   "cell_type": "code",
   "execution_count": 13,
   "metadata": {
    "collapsed": false,
    "scrolled": false
   },
   "outputs": [
    {
     "data": {
      "text/plain": [
       "V (generic function with 1 method)"
      ]
     },
     "execution_count": 13,
     "metadata": {},
     "output_type": "execute_result"
    }
   ],
   "source": [
    "@eval V(t) = $(Meta.parse(string(v)))"
   ]
  },
  {
   "cell_type": "markdown",
   "metadata": {},
   "source": [
    "Gráfico $V(t)$. Observe que `ytricks` varia de $~V(t2)~$ a $~V(t1)~$, isto se deve ao fato de que $~V(t2)~<~V(t1)~$. A função `round()` é utilizada para limitar a quantidade de casas decimais no cálculo de $~V(t)$."
   ]
  },
  {
   "cell_type": "code",
   "execution_count": 14,
   "metadata": {
    "collapsed": false,
    "scrolled": true
   },
   "outputs": [
    {
     "data": {
      "image/svg+xml": [
       "<?xml version=\"1.0\" encoding=\"utf-8\"?>\n",
       "<svg xmlns=\"http://www.w3.org/2000/svg\" xmlns:xlink=\"http://www.w3.org/1999/xlink\" width=\"400\" height=\"300\" viewBox=\"0 0 1600 1200\">\n",
       "<defs>\n",
       "  <clipPath id=\"clip3700\">\n",
       "    <rect x=\"0\" y=\"0\" width=\"2000\" height=\"2000\"/>\n",
       "  </clipPath>\n",
       "</defs>\n",
       "<defs>\n",
       "  <clipPath id=\"clip3701\">\n",
       "    <rect x=\"0\" y=\"0\" width=\"1600\" height=\"1200\"/>\n",
       "  </clipPath>\n",
       "</defs>\n",
       "<polygon clip-path=\"url(#clip3701)\" points=\"\n",
       "0,1200 1600,1200 1600,0 0,0 \n",
       "  \" fill=\"#ffffff\" fill-opacity=\"1\"/>\n",
       "<defs>\n",
       "  <clipPath id=\"clip3702\">\n",
       "    <rect x=\"320\" y=\"0\" width=\"1121\" height=\"1121\"/>\n",
       "  </clipPath>\n",
       "</defs>\n",
       "<polygon clip-path=\"url(#clip3701)\" points=\"\n",
       "239.115,1036.29 1521.26,1036.29 1521.26,47.2441 239.115,47.2441 \n",
       "  \" fill=\"#ffffff\" fill-opacity=\"1\"/>\n",
       "<defs>\n",
       "  <clipPath id=\"clip3703\">\n",
       "    <rect x=\"239\" y=\"47\" width=\"1283\" height=\"990\"/>\n",
       "  </clipPath>\n",
       "</defs>\n",
       "<polyline clip-path=\"url(#clip3703)\" style=\"stroke:#000000; stroke-width:2; stroke-opacity:0.1; fill:none\" points=\"\n",
       "  275.402,1036.29 275.402,47.2441 \n",
       "  \"/>\n",
       "<polyline clip-path=\"url(#clip3703)\" style=\"stroke:#000000; stroke-width:2; stroke-opacity:0.1; fill:none\" points=\"\n",
       "  426.599,1036.29 426.599,47.2441 \n",
       "  \"/>\n",
       "<polyline clip-path=\"url(#clip3703)\" style=\"stroke:#000000; stroke-width:2; stroke-opacity:0.1; fill:none\" points=\"\n",
       "  577.795,1036.29 577.795,47.2441 \n",
       "  \"/>\n",
       "<polyline clip-path=\"url(#clip3703)\" style=\"stroke:#000000; stroke-width:2; stroke-opacity:0.1; fill:none\" points=\"\n",
       "  728.991,1036.29 728.991,47.2441 \n",
       "  \"/>\n",
       "<polyline clip-path=\"url(#clip3703)\" style=\"stroke:#000000; stroke-width:2; stroke-opacity:0.1; fill:none\" points=\"\n",
       "  880.187,1036.29 880.187,47.2441 \n",
       "  \"/>\n",
       "<polyline clip-path=\"url(#clip3703)\" style=\"stroke:#000000; stroke-width:2; stroke-opacity:0.1; fill:none\" points=\"\n",
       "  1031.38,1036.29 1031.38,47.2441 \n",
       "  \"/>\n",
       "<polyline clip-path=\"url(#clip3703)\" style=\"stroke:#000000; stroke-width:2; stroke-opacity:0.1; fill:none\" points=\"\n",
       "  1182.58,1036.29 1182.58,47.2441 \n",
       "  \"/>\n",
       "<polyline clip-path=\"url(#clip3703)\" style=\"stroke:#000000; stroke-width:2; stroke-opacity:0.1; fill:none\" points=\"\n",
       "  1333.78,1036.29 1333.78,47.2441 \n",
       "  \"/>\n",
       "<polyline clip-path=\"url(#clip3703)\" style=\"stroke:#000000; stroke-width:2; stroke-opacity:0.1; fill:none\" points=\"\n",
       "  1484.97,1036.29 1484.97,47.2441 \n",
       "  \"/>\n",
       "<polyline clip-path=\"url(#clip3703)\" style=\"stroke:#000000; stroke-width:2; stroke-opacity:0.1; fill:none\" points=\"\n",
       "  239.115,1027.34 1521.26,1027.34 \n",
       "  \"/>\n",
       "<polyline clip-path=\"url(#clip3703)\" style=\"stroke:#000000; stroke-width:2; stroke-opacity:0.1; fill:none\" points=\"\n",
       "  239.115,908.328 1521.26,908.328 \n",
       "  \"/>\n",
       "<polyline clip-path=\"url(#clip3703)\" style=\"stroke:#000000; stroke-width:2; stroke-opacity:0.1; fill:none\" points=\"\n",
       "  239.115,789.315 1521.26,789.315 \n",
       "  \"/>\n",
       "<polyline clip-path=\"url(#clip3703)\" style=\"stroke:#000000; stroke-width:2; stroke-opacity:0.1; fill:none\" points=\"\n",
       "  239.115,670.302 1521.26,670.302 \n",
       "  \"/>\n",
       "<polyline clip-path=\"url(#clip3703)\" style=\"stroke:#000000; stroke-width:2; stroke-opacity:0.1; fill:none\" points=\"\n",
       "  239.115,551.289 1521.26,551.289 \n",
       "  \"/>\n",
       "<polyline clip-path=\"url(#clip3703)\" style=\"stroke:#000000; stroke-width:2; stroke-opacity:0.1; fill:none\" points=\"\n",
       "  239.115,432.275 1521.26,432.275 \n",
       "  \"/>\n",
       "<polyline clip-path=\"url(#clip3703)\" style=\"stroke:#000000; stroke-width:2; stroke-opacity:0.1; fill:none\" points=\"\n",
       "  239.115,313.262 1521.26,313.262 \n",
       "  \"/>\n",
       "<polyline clip-path=\"url(#clip3703)\" style=\"stroke:#000000; stroke-width:2; stroke-opacity:0.1; fill:none\" points=\"\n",
       "  239.115,194.249 1521.26,194.249 \n",
       "  \"/>\n",
       "<polyline clip-path=\"url(#clip3703)\" style=\"stroke:#000000; stroke-width:2; stroke-opacity:0.1; fill:none\" points=\"\n",
       "  239.115,75.236 1521.26,75.236 \n",
       "  \"/>\n",
       "<polyline clip-path=\"url(#clip3701)\" style=\"stroke:#000000; stroke-width:4; stroke-opacity:1; fill:none\" points=\"\n",
       "  239.115,1036.29 1521.26,1036.29 \n",
       "  \"/>\n",
       "<polyline clip-path=\"url(#clip3701)\" style=\"stroke:#000000; stroke-width:4; stroke-opacity:1; fill:none\" points=\"\n",
       "  239.115,1036.29 239.115,47.2441 \n",
       "  \"/>\n",
       "<polyline clip-path=\"url(#clip3701)\" style=\"stroke:#000000; stroke-width:4; stroke-opacity:1; fill:none\" points=\"\n",
       "  275.402,1036.29 275.402,1021.46 \n",
       "  \"/>\n",
       "<polyline clip-path=\"url(#clip3701)\" style=\"stroke:#000000; stroke-width:4; stroke-opacity:1; fill:none\" points=\"\n",
       "  426.599,1036.29 426.599,1021.46 \n",
       "  \"/>\n",
       "<polyline clip-path=\"url(#clip3701)\" style=\"stroke:#000000; stroke-width:4; stroke-opacity:1; fill:none\" points=\"\n",
       "  577.795,1036.29 577.795,1021.46 \n",
       "  \"/>\n",
       "<polyline clip-path=\"url(#clip3701)\" style=\"stroke:#000000; stroke-width:4; stroke-opacity:1; fill:none\" points=\"\n",
       "  728.991,1036.29 728.991,1021.46 \n",
       "  \"/>\n",
       "<polyline clip-path=\"url(#clip3701)\" style=\"stroke:#000000; stroke-width:4; stroke-opacity:1; fill:none\" points=\"\n",
       "  880.187,1036.29 880.187,1021.46 \n",
       "  \"/>\n",
       "<polyline clip-path=\"url(#clip3701)\" style=\"stroke:#000000; stroke-width:4; stroke-opacity:1; fill:none\" points=\"\n",
       "  1031.38,1036.29 1031.38,1021.46 \n",
       "  \"/>\n",
       "<polyline clip-path=\"url(#clip3701)\" style=\"stroke:#000000; stroke-width:4; stroke-opacity:1; fill:none\" points=\"\n",
       "  1182.58,1036.29 1182.58,1021.46 \n",
       "  \"/>\n",
       "<polyline clip-path=\"url(#clip3701)\" style=\"stroke:#000000; stroke-width:4; stroke-opacity:1; fill:none\" points=\"\n",
       "  1333.78,1036.29 1333.78,1021.46 \n",
       "  \"/>\n",
       "<polyline clip-path=\"url(#clip3701)\" style=\"stroke:#000000; stroke-width:4; stroke-opacity:1; fill:none\" points=\"\n",
       "  1484.97,1036.29 1484.97,1021.46 \n",
       "  \"/>\n",
       "<polyline clip-path=\"url(#clip3701)\" style=\"stroke:#000000; stroke-width:4; stroke-opacity:1; fill:none\" points=\"\n",
       "  239.115,1027.34 258.347,1027.34 \n",
       "  \"/>\n",
       "<polyline clip-path=\"url(#clip3701)\" style=\"stroke:#000000; stroke-width:4; stroke-opacity:1; fill:none\" points=\"\n",
       "  239.115,908.328 258.347,908.328 \n",
       "  \"/>\n",
       "<polyline clip-path=\"url(#clip3701)\" style=\"stroke:#000000; stroke-width:4; stroke-opacity:1; fill:none\" points=\"\n",
       "  239.115,789.315 258.347,789.315 \n",
       "  \"/>\n",
       "<polyline clip-path=\"url(#clip3701)\" style=\"stroke:#000000; stroke-width:4; stroke-opacity:1; fill:none\" points=\"\n",
       "  239.115,670.302 258.347,670.302 \n",
       "  \"/>\n",
       "<polyline clip-path=\"url(#clip3701)\" style=\"stroke:#000000; stroke-width:4; stroke-opacity:1; fill:none\" points=\"\n",
       "  239.115,551.289 258.347,551.289 \n",
       "  \"/>\n",
       "<polyline clip-path=\"url(#clip3701)\" style=\"stroke:#000000; stroke-width:4; stroke-opacity:1; fill:none\" points=\"\n",
       "  239.115,432.275 258.347,432.275 \n",
       "  \"/>\n",
       "<polyline clip-path=\"url(#clip3701)\" style=\"stroke:#000000; stroke-width:4; stroke-opacity:1; fill:none\" points=\"\n",
       "  239.115,313.262 258.347,313.262 \n",
       "  \"/>\n",
       "<polyline clip-path=\"url(#clip3701)\" style=\"stroke:#000000; stroke-width:4; stroke-opacity:1; fill:none\" points=\"\n",
       "  239.115,194.249 258.347,194.249 \n",
       "  \"/>\n",
       "<polyline clip-path=\"url(#clip3701)\" style=\"stroke:#000000; stroke-width:4; stroke-opacity:1; fill:none\" points=\"\n",
       "  239.115,75.236 258.347,75.236 \n",
       "  \"/>\n",
       "<g clip-path=\"url(#clip3701)\">\n",
       "<text style=\"fill:#000000; fill-opacity:1; font-family:Arial,Helvetica Neue,Helvetica,sans-serif; font-size:48px; text-anchor:middle;\" transform=\"rotate(0, 275.402, 1086.29)\" x=\"275.402\" y=\"1086.29\">0.0</text>\n",
       "</g>\n",
       "<g clip-path=\"url(#clip3701)\">\n",
       "<text style=\"fill:#000000; fill-opacity:1; font-family:Arial,Helvetica Neue,Helvetica,sans-serif; font-size:48px; text-anchor:middle;\" transform=\"rotate(0, 426.599, 1086.29)\" x=\"426.599\" y=\"1086.29\">0.5</text>\n",
       "</g>\n",
       "<g clip-path=\"url(#clip3701)\">\n",
       "<text style=\"fill:#000000; fill-opacity:1; font-family:Arial,Helvetica Neue,Helvetica,sans-serif; font-size:48px; text-anchor:middle;\" transform=\"rotate(0, 577.795, 1086.29)\" x=\"577.795\" y=\"1086.29\">1.0</text>\n",
       "</g>\n",
       "<g clip-path=\"url(#clip3701)\">\n",
       "<text style=\"fill:#000000; fill-opacity:1; font-family:Arial,Helvetica Neue,Helvetica,sans-serif; font-size:48px; text-anchor:middle;\" transform=\"rotate(0, 728.991, 1086.29)\" x=\"728.991\" y=\"1086.29\">1.5</text>\n",
       "</g>\n",
       "<g clip-path=\"url(#clip3701)\">\n",
       "<text style=\"fill:#000000; fill-opacity:1; font-family:Arial,Helvetica Neue,Helvetica,sans-serif; font-size:48px; text-anchor:middle;\" transform=\"rotate(0, 880.187, 1086.29)\" x=\"880.187\" y=\"1086.29\">2.0</text>\n",
       "</g>\n",
       "<g clip-path=\"url(#clip3701)\">\n",
       "<text style=\"fill:#000000; fill-opacity:1; font-family:Arial,Helvetica Neue,Helvetica,sans-serif; font-size:48px; text-anchor:middle;\" transform=\"rotate(0, 1031.38, 1086.29)\" x=\"1031.38\" y=\"1086.29\">2.5</text>\n",
       "</g>\n",
       "<g clip-path=\"url(#clip3701)\">\n",
       "<text style=\"fill:#000000; fill-opacity:1; font-family:Arial,Helvetica Neue,Helvetica,sans-serif; font-size:48px; text-anchor:middle;\" transform=\"rotate(0, 1182.58, 1086.29)\" x=\"1182.58\" y=\"1086.29\">3.0</text>\n",
       "</g>\n",
       "<g clip-path=\"url(#clip3701)\">\n",
       "<text style=\"fill:#000000; fill-opacity:1; font-family:Arial,Helvetica Neue,Helvetica,sans-serif; font-size:48px; text-anchor:middle;\" transform=\"rotate(0, 1333.78, 1086.29)\" x=\"1333.78\" y=\"1086.29\">3.5</text>\n",
       "</g>\n",
       "<g clip-path=\"url(#clip3701)\">\n",
       "<text style=\"fill:#000000; fill-opacity:1; font-family:Arial,Helvetica Neue,Helvetica,sans-serif; font-size:48px; text-anchor:middle;\" transform=\"rotate(0, 1484.97, 1086.29)\" x=\"1484.97\" y=\"1086.29\">4.0</text>\n",
       "</g>\n",
       "<g clip-path=\"url(#clip3701)\">\n",
       "<text style=\"fill:#000000; fill-opacity:1; font-family:Arial,Helvetica Neue,Helvetica,sans-serif; font-size:48px; text-anchor:end;\" transform=\"rotate(0, 223.115, 1044.84)\" x=\"223.115\" y=\"1044.84\">-20</text>\n",
       "</g>\n",
       "<g clip-path=\"url(#clip3701)\">\n",
       "<text style=\"fill:#000000; fill-opacity:1; font-family:Arial,Helvetica Neue,Helvetica,sans-serif; font-size:48px; text-anchor:end;\" transform=\"rotate(0, 223.115, 925.828)\" x=\"223.115\" y=\"925.828\">-15</text>\n",
       "</g>\n",
       "<g clip-path=\"url(#clip3701)\">\n",
       "<text style=\"fill:#000000; fill-opacity:1; font-family:Arial,Helvetica Neue,Helvetica,sans-serif; font-size:48px; text-anchor:end;\" transform=\"rotate(0, 223.115, 806.815)\" x=\"223.115\" y=\"806.815\">-10</text>\n",
       "</g>\n",
       "<g clip-path=\"url(#clip3701)\">\n",
       "<text style=\"fill:#000000; fill-opacity:1; font-family:Arial,Helvetica Neue,Helvetica,sans-serif; font-size:48px; text-anchor:end;\" transform=\"rotate(0, 223.115, 687.802)\" x=\"223.115\" y=\"687.802\">-5</text>\n",
       "</g>\n",
       "<g clip-path=\"url(#clip3701)\">\n",
       "<text style=\"fill:#000000; fill-opacity:1; font-family:Arial,Helvetica Neue,Helvetica,sans-serif; font-size:48px; text-anchor:end;\" transform=\"rotate(0, 223.115, 568.789)\" x=\"223.115\" y=\"568.789\">0</text>\n",
       "</g>\n",
       "<g clip-path=\"url(#clip3701)\">\n",
       "<text style=\"fill:#000000; fill-opacity:1; font-family:Arial,Helvetica Neue,Helvetica,sans-serif; font-size:48px; text-anchor:end;\" transform=\"rotate(0, 223.115, 449.775)\" x=\"223.115\" y=\"449.775\">5</text>\n",
       "</g>\n",
       "<g clip-path=\"url(#clip3701)\">\n",
       "<text style=\"fill:#000000; fill-opacity:1; font-family:Arial,Helvetica Neue,Helvetica,sans-serif; font-size:48px; text-anchor:end;\" transform=\"rotate(0, 223.115, 330.762)\" x=\"223.115\" y=\"330.762\">10</text>\n",
       "</g>\n",
       "<g clip-path=\"url(#clip3701)\">\n",
       "<text style=\"fill:#000000; fill-opacity:1; font-family:Arial,Helvetica Neue,Helvetica,sans-serif; font-size:48px; text-anchor:end;\" transform=\"rotate(0, 223.115, 211.749)\" x=\"223.115\" y=\"211.749\">15</text>\n",
       "</g>\n",
       "<g clip-path=\"url(#clip3701)\">\n",
       "<text style=\"fill:#000000; fill-opacity:1; font-family:Arial,Helvetica Neue,Helvetica,sans-serif; font-size:48px; text-anchor:end;\" transform=\"rotate(0, 223.115, 92.736)\" x=\"223.115\" y=\"92.736\">20</text>\n",
       "</g>\n",
       "<g clip-path=\"url(#clip3701)\">\n",
       "<text style=\"fill:#000000; fill-opacity:1; font-family:Arial,Helvetica Neue,Helvetica,sans-serif; font-size:66px; text-anchor:middle;\" transform=\"rotate(0, 880.187, 1190.4)\" x=\"880.187\" y=\"1190.4\">tempo(s)</text>\n",
       "</g>\n",
       "<g clip-path=\"url(#clip3701)\">\n",
       "<text style=\"fill:#000000; fill-opacity:1; font-family:Arial,Helvetica Neue,Helvetica,sans-serif; font-size:66px; text-anchor:middle;\" transform=\"rotate(-90, 57.6, 541.768)\" x=\"57.6\" y=\"541.768\">Velocidade(m/s)</text>\n",
       "</g>\n",
       "<polyline clip-path=\"url(#clip3703)\" style=\"stroke:#009af9; stroke-width:4; stroke-opacity:1; fill:none\" points=\"\n",
       "  275.402,75.236 305.641,98.5626 335.881,121.889 366.12,145.216 396.359,168.542 426.599,191.869 456.838,215.195 487.077,238.522 517.316,261.849 547.556,285.175 \n",
       "  577.795,308.502 608.034,331.828 638.273,355.155 668.513,378.481 698.752,401.808 728.991,425.135 759.23,448.461 789.47,471.788 819.709,495.114 849.948,518.441 \n",
       "  880.187,541.768 910.427,565.094 940.666,588.421 970.905,611.747 1001.14,635.074 1031.38,658.4 1061.62,681.727 1091.86,705.054 1122.1,728.38 1152.34,751.707 \n",
       "  1182.58,775.033 1212.82,798.36 1243.06,821.686 1273.3,845.013 1303.54,868.34 1333.78,891.666 1364.02,914.993 1394.25,938.319 1424.49,961.646 1454.73,984.972 \n",
       "  1484.97,1008.3 \n",
       "  \"/>\n",
       "<polyline clip-path=\"url(#clip3703)\" style=\"stroke:#e26f46; stroke-width:4; stroke-opacity:1; fill:none\" points=\"\n",
       "  275.402,551.289 305.641,551.289 335.881,551.289 366.12,551.289 396.359,551.289 426.599,551.289 456.838,551.289 487.077,551.289 517.316,551.289 547.556,551.289 \n",
       "  577.795,551.289 608.034,551.289 638.273,551.289 668.513,551.289 698.752,551.289 728.991,551.289 759.23,551.289 789.47,551.289 819.709,551.289 849.948,551.289 \n",
       "  880.187,551.289 910.427,551.289 940.666,551.289 970.905,551.289 1001.14,551.289 1031.38,551.289 1061.62,551.289 1091.86,551.289 1122.1,551.289 1152.34,551.289 \n",
       "  1182.58,551.289 1212.82,551.289 1243.06,551.289 1273.3,551.289 1303.54,551.289 1333.78,551.289 1364.02,551.289 1394.25,551.289 1424.49,551.289 1454.73,551.289 \n",
       "  1484.97,551.289 \n",
       "  \"/>\n",
       "<polygon clip-path=\"url(#clip3701)\" points=\"\n",
       "1075.14,203.724 1473.26,203.724 1473.26,82.7641 1075.14,82.7641 \n",
       "  \" fill=\"#ffffff\" fill-opacity=\"1\"/>\n",
       "<polyline clip-path=\"url(#clip3701)\" style=\"stroke:#000000; stroke-width:4; stroke-opacity:1; fill:none\" points=\"\n",
       "  1075.14,203.724 1473.26,203.724 1473.26,82.7641 1075.14,82.7641 1075.14,203.724 \n",
       "  \"/>\n",
       "<polyline clip-path=\"url(#clip3701)\" style=\"stroke:#009af9; stroke-width:4; stroke-opacity:1; fill:none\" points=\"\n",
       "  1091.14,143.244 1187.14,143.244 \n",
       "  \"/>\n",
       "<g clip-path=\"url(#clip3701)\">\n",
       "<text style=\"fill:#000000; fill-opacity:1; font-family:Arial,Helvetica Neue,Helvetica,sans-serif; font-size:48px; text-anchor:start;\" transform=\"rotate(0, 1203.14, 160.744)\" x=\"1203.14\" y=\"160.744\">Velocidade</text>\n",
       "</g>\n",
       "</svg>\n"
      ]
     },
     "execution_count": 14,
     "metadata": {},
     "output_type": "execute_result"
    }
   ],
   "source": [
    "# Gráfico da variação da velocidade\n",
    "plot(t1:0.1:t2, V, \n",
    "    xticks = t1:0.5:t2, \n",
    "    yticks = round.(V(t2): 5: V(t1)),\n",
    "    label = \"Velocidade\",    \n",
    "    xlabel = \"tempo(s)\",\n",
    "    ylabel = \"Velocidade(m/s)\", \n",
    "    size = (400, 300))\n",
    "plot!(t1:0.1:t2, zero, label = \"\")"
   ]
  },
  {
   "cell_type": "markdown",
   "metadata": {},
   "source": [
    "Altura máxima. Para encontrarmos a altura máxima devemos resolver $s'(t) = 0$ para determinar o tempo em segundos."
   ]
  },
  {
   "cell_type": "code",
   "execution_count": 15,
   "metadata": {
    "collapsed": false,
    "scrolled": true
   },
   "outputs": [
    {
     "data": {
      "text/plain": [
       "2.0408163265306123"
      ]
     },
     "execution_count": 15,
     "metadata": {},
     "output_type": "execute_result"
    }
   ],
   "source": [
    "t_h_max = float(solve(diff(s(t), t))[])"
   ]
  },
  {
   "cell_type": "code",
   "execution_count": 16,
   "metadata": {
    "collapsed": false,
    "scrolled": true
   },
   "outputs": [
    {
     "data": {
      "text/plain": [
       "20.40816326530612"
      ]
     },
     "execution_count": 16,
     "metadata": {},
     "output_type": "execute_result"
    }
   ],
   "source": [
    "#Cálculo da altura máxima (m)\n",
    "s(t_h_max)"
   ]
  },
  {
   "cell_type": "markdown",
   "metadata": {},
   "source": [
    "\\* Uma outra forma é calcular pela formula de Torricelli, $v^2 = v^2_0-2a\\Delta{t}$, sendo $v =0$:"
   ]
  },
  {
   "cell_type": "code",
   "execution_count": 21,
   "metadata": {
    "collapsed": false
   },
   "outputs": [
    {
     "data": {
      "text/latex": [
       "\\begin{bmatrix}20.4081632653061\\end{bmatrix}"
      ],
      "text/plain": [
       "1-element Array{Sym,1}:\n",
       " 20.4081632653061"
      ]
     },
     "execution_count": 21,
     "metadata": {},
     "output_type": "execute_result"
    }
   ],
   "source": [
    "@syms ds\n",
    "solve(20^2 -2*9.8*ds, ds)"
   ]
  },
  {
   "cell_type": "markdown",
   "metadata": {},
   "source": [
    "### DERIVADA NUMÉRICA\n",
    "\n",
    "`Julia` não implementa uma função nativa para derivadas numéricas. A saída é aplicar a definição de derivada de uma função matemática na forma $\\displaystyle f'(x_0) = \\lim_{h\\rightarrow 0}{ f(x_0 + h) - f(x_0)  \\over h}  ~~$ (desde que o limite exista) ou usar o pacote a função `derivative()` do pacote `Calculus.jl`.\n",
    "\n",
    "\n"
   ]
  },
  {
   "cell_type": "markdown",
   "metadata": {},
   "source": [
    "Exemplo: Calcular a derivada primeira numérica de $f(x) = x^3 + 5x^2 - 3$ para x = 1.0"
   ]
  },
  {
   "cell_type": "code",
   "execution_count": 62,
   "metadata": {
    "collapsed": false,
    "scrolled": true
   },
   "outputs": [
    {
     "data": {
      "text/plain": [
       "df6 (generic function with 1 method)"
      ]
     },
     "execution_count": 62,
     "metadata": {},
     "output_type": "execute_result"
    }
   ],
   "source": [
    "f6(x) = x^3 + 5.0*x^2 - 3.0\n",
    "\n",
    "df6(x0, h) = (f6(x0 + h) - f6(x0))/h"
   ]
  },
  {
   "cell_type": "code",
   "execution_count": 63,
   "metadata": {
    "collapsed": false,
    "scrolled": true
   },
   "outputs": [
    {
     "data": {
      "text/plain": [
       "13.000007999863783"
      ]
     },
     "execution_count": 63,
     "metadata": {},
     "output_type": "execute_result"
    }
   ],
   "source": [
    "df6(1.0, 1e-6)"
   ]
  },
  {
   "cell_type": "code",
   "execution_count": 64,
   "metadata": {
    "collapsed": true
   },
   "outputs": [],
   "source": [
    "using Calculus"
   ]
  },
  {
   "cell_type": "code",
   "execution_count": 65,
   "metadata": {
    "collapsed": false
   },
   "outputs": [
    {
     "data": {
      "text/plain": [
       "12.999999999939515"
      ]
     },
     "execution_count": 65,
     "metadata": {},
     "output_type": "execute_result"
    }
   ],
   "source": [
    "derivative(f6, 1.0)"
   ]
  },
  {
   "cell_type": "code",
   "execution_count": 67,
   "metadata": {
    "collapsed": false
   },
   "outputs": [
    {
     "data": {
      "text/plain": [
       "12.999999999939515"
      ]
     },
     "execution_count": 67,
     "metadata": {},
     "output_type": "execute_result"
    }
   ],
   "source": [
    "# forma alternativa\n",
    "f6'(1.0)"
   ]
  },
  {
   "cell_type": "markdown",
   "metadata": {},
   "source": [
    "**Derivada Segunda Numérica**\n",
    "\n",
    "Exemplo: Calcular a derivada segunda numérica de $f(x) = x^3 + 5x^2 - 3$ para x = 1.0"
   ]
  },
  {
   "cell_type": "code",
   "execution_count": 22,
   "metadata": {
    "collapsed": false
   },
   "outputs": [
    {
     "data": {
      "text/plain": [
       "f6 (generic function with 1 method)"
      ]
     },
     "execution_count": 22,
     "metadata": {},
     "output_type": "execute_result"
    }
   ],
   "source": [
    "f6(x) = x^3 + 5.0*x^2 - 3.0"
   ]
  },
  {
   "cell_type": "code",
   "execution_count": 23,
   "metadata": {
    "collapsed": false
   },
   "outputs": [
    {
     "data": {
      "text/plain": [
       "15.999985668849135"
      ]
     },
     "execution_count": 23,
     "metadata": {},
     "output_type": "execute_result"
    }
   ],
   "source": [
    "second_derivative(f6, 1.0)"
   ]
  },
  {
   "cell_type": "code",
   "execution_count": 24,
   "metadata": {
    "collapsed": false
   },
   "outputs": [
    {
     "data": {
      "text/plain": [
       "15.999985668849135"
      ]
     },
     "execution_count": 24,
     "metadata": {},
     "output_type": "execute_result"
    }
   ],
   "source": [
    "# forma alternativa\n",
    "f6''(1.0)"
   ]
  },
  {
   "cell_type": "markdown",
   "metadata": {},
   "source": [
    "### DERIVADA PARCIAL\n",
    "\n",
    "De acordo com Downing (2009) a definição de derivada parcial é:\n",
    "> The partial derivative of y = f(x1 , x2, . . ., xn) with respect to xi is found by taking the derivative of y with respect to x i, while all the other independent variables are held constant.\n",
    "\n",
    "$\\displaystyle \\frac{\\partial{f}}{\\partial{x}}(x_0, y_0)~~$ é a derivada, em relação a $x$, de $f(x, y)$, mantendo-se $y$ constante e  $~~\\displaystyle \\frac{\\partial{f}}{\\partial{y}}(x_0, y_0)~~$  é a derivada, em relação a $y$, de $f(x, y)$, mantendo-se $x$ constante. \n",
    "Numericamente, as derivadas parciais são calculadas a partir da sua definição na forma:\n",
    "\n",
    "$\\displaystyle \\frac{\\partial{f}}{\\partial{x}}(x_0, y_0) = \\lim_{ \\Delta x \\rightarrow 0}{ f(x_0 + \\Delta x, y_0) - f(x_0, y_0)  \\over  \\Delta x} ~~~~$ e $~~~~ \\displaystyle \\frac{\\partial{f}}{\\partial{y}}(x_0, y_0) = \\lim_{ \\Delta y \\rightarrow 0}{ f(x_0, y_0 + \\Delta y) - f(x_0, y_0)  \\over  \\Delta y} $"
   ]
  },
  {
   "cell_type": "markdown",
   "metadata": {},
   "source": [
    "Exemplo: Calcular a derivada parcial simbólica de $f(x, y) =  xy + x^2 - 2y$ "
   ]
  },
  {
   "cell_type": "code",
   "execution_count": 30,
   "metadata": {
    "collapsed": false,
    "scrolled": true
   },
   "outputs": [
    {
     "data": {
      "text/plain": [
       "(x, y)"
      ]
     },
     "execution_count": 30,
     "metadata": {},
     "output_type": "execute_result"
    }
   ],
   "source": [
    "using SymPy\n",
    "@syms x y"
   ]
  },
  {
   "cell_type": "code",
   "execution_count": 31,
   "metadata": {
    "collapsed": false,
    "scrolled": true
   },
   "outputs": [
    {
     "data": {
      "text/plain": [
       "f7 (generic function with 1 method)"
      ]
     },
     "execution_count": 31,
     "metadata": {},
     "output_type": "execute_result"
    }
   ],
   "source": [
    "f7(x, y) =  x*y + x^2 - 2*y"
   ]
  },
  {
   "cell_type": "code",
   "execution_count": 32,
   "metadata": {
    "collapsed": false,
    "scrolled": true
   },
   "outputs": [
    {
     "data": {
      "text/latex": [
       "\\begin{equation*}2 x + y\\end{equation*}"
      ],
      "text/plain": [
       "2⋅x + y"
      ]
     },
     "execution_count": 32,
     "metadata": {},
     "output_type": "execute_result"
    }
   ],
   "source": [
    "# Derivada Primeira parcial em relação a variável x\n",
    "diff(f7(x, y), x, 1)"
   ]
  },
  {
   "cell_type": "code",
   "execution_count": 33,
   "metadata": {
    "collapsed": false
   },
   "outputs": [
    {
     "data": {
      "text/latex": [
       "\\begin{equation*}1\\end{equation*}"
      ],
      "text/plain": [
       "1"
      ]
     },
     "execution_count": 33,
     "metadata": {},
     "output_type": "execute_result"
    }
   ],
   "source": [
    "# Derivada Primeira parcial em relação a variável x definida para x = 0 e y = 1\n",
    "diff(f7(x, y), x, 1)(0, 1) "
   ]
  },
  {
   "cell_type": "code",
   "execution_count": 34,
   "metadata": {
    "collapsed": false
   },
   "outputs": [
    {
     "data": {
      "text/latex": [
       "\\begin{equation*}x - 2\\end{equation*}"
      ],
      "text/plain": [
       "x - 2"
      ]
     },
     "execution_count": 34,
     "metadata": {},
     "output_type": "execute_result"
    }
   ],
   "source": [
    "# Derivada Primeira parcial em relação a variável y\n",
    "diff(f7(x, y), y, 1)"
   ]
  },
  {
   "cell_type": "code",
   "execution_count": 35,
   "metadata": {
    "collapsed": false
   },
   "outputs": [
    {
     "data": {
      "text/latex": [
       "\\begin{equation*}-2\\end{equation*}"
      ],
      "text/plain": [
       "-2"
      ]
     },
     "execution_count": 35,
     "metadata": {},
     "output_type": "execute_result"
    }
   ],
   "source": [
    "# # Derivada Primeira parcial em relação a variável y definida para x = 0 e y = 1\n",
    "diff(f7(x, y), y, 1)(0, 1)"
   ]
  },
  {
   "cell_type": "markdown",
   "metadata": {},
   "source": [
    "**Atribuíndo a derivada a uma variável**\n",
    "\n",
    "Quando atribuímos o resultado da função `diff()` a uma variável (`var = diff(f(x,y), x, 1)`), é possível realizar `var(valor_x, valor_y)` e obter um resultado,  porém não há certeza se os valores atribídos para $ x $  e $ y $ serão aplicados na ordem correta. Dessa forma a função `subs()` do pacote `SymPy.jl` resolve este problema."
   ]
  },
  {
   "cell_type": "code",
   "execution_count": 36,
   "metadata": {
    "collapsed": false
   },
   "outputs": [
    {
     "data": {
      "text/latex": [
       "\\begin{equation*}2 x + y\\end{equation*}"
      ],
      "text/plain": [
       "2⋅x + y"
      ]
     },
     "execution_count": 36,
     "metadata": {},
     "output_type": "execute_result"
    }
   ],
   "source": [
    "# Derivada Primeira parcial em relação a variável x\n",
    "Dx = diff(f7(x, y), x, 1)"
   ]
  },
  {
   "cell_type": "code",
   "execution_count": 37,
   "metadata": {
    "collapsed": false
   },
   "outputs": [
    {
     "data": {
      "text/latex": [
       "\\begin{equation*}1\\end{equation*}"
      ],
      "text/plain": [
       "1"
      ]
     },
     "execution_count": 37,
     "metadata": {},
     "output_type": "execute_result"
    }
   ],
   "source": [
    "# Testando para x = 0 e y = 1\n",
    "subs(Dx, x=>0, y=>1)"
   ]
  },
  {
   "cell_type": "code",
   "execution_count": 38,
   "metadata": {
    "collapsed": false
   },
   "outputs": [
    {
     "data": {
      "text/latex": [
       "\\begin{equation*}x - 2\\end{equation*}"
      ],
      "text/plain": [
       "x - 2"
      ]
     },
     "execution_count": 38,
     "metadata": {},
     "output_type": "execute_result"
    }
   ],
   "source": [
    "# Derivada Primeira parcial em relação a variável y\n",
    "Dy = diff(f7(x, y), y, 1) "
   ]
  },
  {
   "cell_type": "code",
   "execution_count": 39,
   "metadata": {
    "collapsed": false
   },
   "outputs": [
    {
     "data": {
      "text/latex": [
       "\\begin{equation*}-2\\end{equation*}"
      ],
      "text/plain": [
       "-2"
      ]
     },
     "execution_count": 39,
     "metadata": {},
     "output_type": "execute_result"
    }
   ],
   "source": [
    "# Testando para x = 0 e y = 1\n",
    "subs(Dy, x=>0, y=>1)"
   ]
  },
  {
   "cell_type": "markdown",
   "metadata": {},
   "source": [
    "### POLINÔMIOS\n",
    "\n",
    "Dado um polinômio definido como $p(x)= a_nx^n + a_{n−1}x^{n−1} + ... +   a_2x^2 + a_1x + a_0$, o pacote `Polinomials.jl` possui a função `polyder()` que calcula a derivada termo por termo. É importante observar que o `SymPy.jl` também importa as funções de manipulação de polinômos `Poly()`, `coeffs()`, `poly()` e `degree()`. Dessa forma, é necessário a sintaxe `Polynomials.função()` quando utilizamos juntos os pacote `Polinomials.jl` e `SymPy.jl`. A função `polyder()` retorna resultado do tipo `Polynomials.Poly{Int64}` manipulável semelhante a uma expressão algébrica simbólia criada pelo `SymPy.jl`. Sintaxe:\n",
    "\n",
    "```julia\n",
    "polyder(Polynomials.Poly([a_0, a_1, a_2 ... , a_n])\n",
    "```\n",
    "Sendo:\n",
    "* **[a_0, a_1, a_2 ... , a_n]**: vetor dos termos do polinômio.\n"
   ]
  },
  {
   "cell_type": "markdown",
   "metadata": {},
   "source": [
    "Exemplo: Calcular a derivada de $p(x) = 3x^2 + 2x + 1$"
   ]
  },
  {
   "cell_type": "code",
   "execution_count": 1,
   "metadata": {
    "collapsed": true
   },
   "outputs": [],
   "source": [
    "using Polynomials"
   ]
  },
  {
   "cell_type": "code",
   "execution_count": 2,
   "metadata": {
    "collapsed": false,
    "scrolled": false
   },
   "outputs": [
    {
     "data": {
      "text/html": [
       "2 &#43; 6&#8729;x"
      ],
      "text/latex": [
       "$2 + 6\\cdot x$"
      ],
      "text/plain": [
       "Poly(2 + 6*x)"
      ]
     },
     "execution_count": 2,
     "metadata": {},
     "output_type": "execute_result"
    }
   ],
   "source": [
    "dp = polyder(Polynomials.Poly([1, 2, 3]))"
   ]
  },
  {
   "cell_type": "code",
   "execution_count": 3,
   "metadata": {
    "collapsed": false
   },
   "outputs": [
    {
     "data": {
      "text/plain": [
       "Poly{Int64}"
      ]
     },
     "execution_count": 3,
     "metadata": {},
     "output_type": "execute_result"
    }
   ],
   "source": [
    "typeof(dp)"
   ]
  },
  {
   "cell_type": "code",
   "execution_count": 4,
   "metadata": {
    "collapsed": false
   },
   "outputs": [
    {
     "data": {
      "text/plain": [
       "2"
      ]
     },
     "execution_count": 4,
     "metadata": {},
     "output_type": "execute_result"
    }
   ],
   "source": [
    "# substituindo x por 0\n",
    "dp(0)"
   ]
  },
  {
   "cell_type": "code",
   "execution_count": 5,
   "metadata": {
    "collapsed": false,
    "scrolled": true
   },
   "outputs": [
    {
     "data": {
      "text/plain": [
       "3-element Array{Int64,1}:\n",
       "  8\n",
       " 14\n",
       " 20"
      ]
     },
     "execution_count": 5,
     "metadata": {},
     "output_type": "execute_result"
    }
   ],
   "source": [
    "# aplicando um vetor à derivada \n",
    "dp.([1, 2, 3])"
   ]
  },
  {
   "cell_type": "markdown",
   "metadata": {},
   "source": [
    "Para atribuir o resultado da função `polyder()` à uma função genérica use:\n",
    "```julia\n",
    "@eval função_nome(x) = $(Meta.parse(string(polyder(Polynomials.Poly([a_0, a_1, a_2 ... , a_n])))))\n",
    "```"
   ]
  },
  {
   "cell_type": "code",
   "execution_count": 6,
   "metadata": {
    "collapsed": false,
    "scrolled": false
   },
   "outputs": [
    {
     "data": {
      "text/plain": [
       "dfp (generic function with 1 method)"
      ]
     },
     "execution_count": 6,
     "metadata": {},
     "output_type": "execute_result"
    }
   ],
   "source": [
    "@eval dfp(x) = $(Meta.parse(string(polyder(Polynomials.Poly([1, 2, 3])))))"
   ]
  },
  {
   "cell_type": "code",
   "execution_count": 10,
   "metadata": {
    "collapsed": false,
    "scrolled": true
   },
   "outputs": [
    {
     "data": {
      "text/html": [
       "2"
      ],
      "text/latex": [
       "$2$"
      ],
      "text/plain": [
       "Poly(2)"
      ]
     },
     "execution_count": 10,
     "metadata": {},
     "output_type": "execute_result"
    }
   ],
   "source": [
    "dfp(0)"
   ]
  },
  {
   "cell_type": "markdown",
   "metadata": {},
   "source": [
    "### APLICAÇÕES DAS DERIVADAS: MÁXIMOS E MÍNIMOS DE FUNÇÕES\n",
    "\n",
    "De acordo com Stewart(2010) as condições básicas para determinar um ponto de máximo ou mínimo local é:\n",
    ">Suponha que $~f''$ seja contínua na proximidade de $c$.\n",
    "\n",
    ">(a) Se $f'(c)=0~$  e $~f''(c)>0$, então $f$ tem um mínimo local em c.\n",
    "\n",
    ">(b) Se $f'(c)=0~$  e $~f''(c)<0$, então $f$ tem um máximo local em c.\n",
    "\n",
    "O Teste da derivada degunda é falha quando $f''=0$, ou seja, esse ponto pode ser um máximo, um mínimo ou nenhum dos dois."
   ]
  },
  {
   "cell_type": "markdown",
   "metadata": {},
   "source": [
    "Exemplo: $f(x) = x^3 - x^2 - x + 5$ "
   ]
  },
  {
   "cell_type": "code",
   "execution_count": 10,
   "metadata": {
    "collapsed": false,
    "scrolled": true
   },
   "outputs": [
    {
     "data": {
      "text/plain": [
       "(x,)"
      ]
     },
     "execution_count": 10,
     "metadata": {},
     "output_type": "execute_result"
    }
   ],
   "source": [
    "using SymPy\n",
    "@syms x"
   ]
  },
  {
   "cell_type": "code",
   "execution_count": 11,
   "metadata": {
    "collapsed": false
   },
   "outputs": [
    {
     "data": {
      "text/plain": [
       "f7 (generic function with 1 method)"
      ]
     },
     "execution_count": 11,
     "metadata": {},
     "output_type": "execute_result"
    }
   ],
   "source": [
    "f7(x) = x^3 - x^2 - x + 5"
   ]
  },
  {
   "cell_type": "code",
   "execution_count": 12,
   "metadata": {
    "collapsed": false,
    "scrolled": false
   },
   "outputs": [
    {
     "data": {
      "image/svg+xml": [
       "<?xml version=\"1.0\" encoding=\"utf-8\"?>\n",
       "<svg xmlns=\"http://www.w3.org/2000/svg\" xmlns:xlink=\"http://www.w3.org/1999/xlink\" width=\"400\" height=\"300\" viewBox=\"0 0 1600 1200\">\n",
       "<defs>\n",
       "  <clipPath id=\"clip4800\">\n",
       "    <rect x=\"0\" y=\"0\" width=\"2000\" height=\"2000\"/>\n",
       "  </clipPath>\n",
       "</defs>\n",
       "<defs>\n",
       "  <clipPath id=\"clip4801\">\n",
       "    <rect x=\"0\" y=\"0\" width=\"1600\" height=\"1200\"/>\n",
       "  </clipPath>\n",
       "</defs>\n",
       "<polygon clip-path=\"url(#clip4801)\" points=\"\n",
       "0,1200 1600,1200 1600,0 0,0 \n",
       "  \" fill=\"#ffffff\" fill-opacity=\"1\"/>\n",
       "<defs>\n",
       "  <clipPath id=\"clip4802\">\n",
       "    <rect x=\"320\" y=\"0\" width=\"1121\" height=\"1121\"/>\n",
       "  </clipPath>\n",
       "</defs>\n",
       "<polygon clip-path=\"url(#clip4801)\" points=\"\n",
       "188.156,1099.28 1521.26,1099.28 1521.26,47.2441 188.156,47.2441 \n",
       "  \" fill=\"#ffffff\" fill-opacity=\"1\"/>\n",
       "<defs>\n",
       "  <clipPath id=\"clip4803\">\n",
       "    <rect x=\"188\" y=\"47\" width=\"1334\" height=\"1053\"/>\n",
       "  </clipPath>\n",
       "</defs>\n",
       "<polyline clip-path=\"url(#clip4803)\" style=\"stroke:#000000; stroke-width:2; stroke-opacity:0.1; fill:none\" points=\"\n",
       "  225.886,1099.28 225.886,47.2441 \n",
       "  \"/>\n",
       "<polyline clip-path=\"url(#clip4803)\" style=\"stroke:#000000; stroke-width:2; stroke-opacity:0.1; fill:none\" points=\"\n",
       "  540.297,1099.28 540.297,47.2441 \n",
       "  \"/>\n",
       "<polyline clip-path=\"url(#clip4803)\" style=\"stroke:#000000; stroke-width:2; stroke-opacity:0.1; fill:none\" points=\"\n",
       "  854.708,1099.28 854.708,47.2441 \n",
       "  \"/>\n",
       "<polyline clip-path=\"url(#clip4803)\" style=\"stroke:#000000; stroke-width:2; stroke-opacity:0.1; fill:none\" points=\"\n",
       "  1169.12,1099.28 1169.12,47.2441 \n",
       "  \"/>\n",
       "<polyline clip-path=\"url(#clip4803)\" style=\"stroke:#000000; stroke-width:2; stroke-opacity:0.1; fill:none\" points=\"\n",
       "  1483.53,1099.28 1483.53,47.2441 \n",
       "  \"/>\n",
       "<polyline clip-path=\"url(#clip4803)\" style=\"stroke:#000000; stroke-width:2; stroke-opacity:0.1; fill:none\" points=\"\n",
       "  188.156,1069.51 1521.26,1069.51 \n",
       "  \"/>\n",
       "<polyline clip-path=\"url(#clip4803)\" style=\"stroke:#000000; stroke-width:2; stroke-opacity:0.1; fill:none\" points=\"\n",
       "  188.156,859.768 1521.26,859.768 \n",
       "  \"/>\n",
       "<polyline clip-path=\"url(#clip4803)\" style=\"stroke:#000000; stroke-width:2; stroke-opacity:0.1; fill:none\" points=\"\n",
       "  188.156,650.028 1521.26,650.028 \n",
       "  \"/>\n",
       "<polyline clip-path=\"url(#clip4803)\" style=\"stroke:#000000; stroke-width:2; stroke-opacity:0.1; fill:none\" points=\"\n",
       "  188.156,440.288 1521.26,440.288 \n",
       "  \"/>\n",
       "<polyline clip-path=\"url(#clip4803)\" style=\"stroke:#000000; stroke-width:2; stroke-opacity:0.1; fill:none\" points=\"\n",
       "  188.156,230.548 1521.26,230.548 \n",
       "  \"/>\n",
       "<polyline clip-path=\"url(#clip4801)\" style=\"stroke:#000000; stroke-width:4; stroke-opacity:1; fill:none\" points=\"\n",
       "  188.156,1099.28 1521.26,1099.28 \n",
       "  \"/>\n",
       "<polyline clip-path=\"url(#clip4801)\" style=\"stroke:#000000; stroke-width:4; stroke-opacity:1; fill:none\" points=\"\n",
       "  188.156,1099.28 188.156,47.2441 \n",
       "  \"/>\n",
       "<polyline clip-path=\"url(#clip4801)\" style=\"stroke:#000000; stroke-width:4; stroke-opacity:1; fill:none\" points=\"\n",
       "  225.886,1099.28 225.886,1083.5 \n",
       "  \"/>\n",
       "<polyline clip-path=\"url(#clip4801)\" style=\"stroke:#000000; stroke-width:4; stroke-opacity:1; fill:none\" points=\"\n",
       "  540.297,1099.28 540.297,1083.5 \n",
       "  \"/>\n",
       "<polyline clip-path=\"url(#clip4801)\" style=\"stroke:#000000; stroke-width:4; stroke-opacity:1; fill:none\" points=\"\n",
       "  854.708,1099.28 854.708,1083.5 \n",
       "  \"/>\n",
       "<polyline clip-path=\"url(#clip4801)\" style=\"stroke:#000000; stroke-width:4; stroke-opacity:1; fill:none\" points=\"\n",
       "  1169.12,1099.28 1169.12,1083.5 \n",
       "  \"/>\n",
       "<polyline clip-path=\"url(#clip4801)\" style=\"stroke:#000000; stroke-width:4; stroke-opacity:1; fill:none\" points=\"\n",
       "  1483.53,1099.28 1483.53,1083.5 \n",
       "  \"/>\n",
       "<polyline clip-path=\"url(#clip4801)\" style=\"stroke:#000000; stroke-width:4; stroke-opacity:1; fill:none\" points=\"\n",
       "  188.156,1069.51 208.153,1069.51 \n",
       "  \"/>\n",
       "<polyline clip-path=\"url(#clip4801)\" style=\"stroke:#000000; stroke-width:4; stroke-opacity:1; fill:none\" points=\"\n",
       "  188.156,859.768 208.153,859.768 \n",
       "  \"/>\n",
       "<polyline clip-path=\"url(#clip4801)\" style=\"stroke:#000000; stroke-width:4; stroke-opacity:1; fill:none\" points=\"\n",
       "  188.156,650.028 208.153,650.028 \n",
       "  \"/>\n",
       "<polyline clip-path=\"url(#clip4801)\" style=\"stroke:#000000; stroke-width:4; stroke-opacity:1; fill:none\" points=\"\n",
       "  188.156,440.288 208.153,440.288 \n",
       "  \"/>\n",
       "<polyline clip-path=\"url(#clip4801)\" style=\"stroke:#000000; stroke-width:4; stroke-opacity:1; fill:none\" points=\"\n",
       "  188.156,230.548 208.153,230.548 \n",
       "  \"/>\n",
       "<g clip-path=\"url(#clip4801)\">\n",
       "<text style=\"fill:#000000; fill-opacity:1; font-family:Arial,Helvetica Neue,Helvetica,sans-serif; font-size:48px; text-anchor:middle;\" transform=\"rotate(0, 225.886, 1149.28)\" x=\"225.886\" y=\"1149.28\">-0.5</text>\n",
       "</g>\n",
       "<g clip-path=\"url(#clip4801)\">\n",
       "<text style=\"fill:#000000; fill-opacity:1; font-family:Arial,Helvetica Neue,Helvetica,sans-serif; font-size:48px; text-anchor:middle;\" transform=\"rotate(0, 540.297, 1149.28)\" x=\"540.297\" y=\"1149.28\">0.0</text>\n",
       "</g>\n",
       "<g clip-path=\"url(#clip4801)\">\n",
       "<text style=\"fill:#000000; fill-opacity:1; font-family:Arial,Helvetica Neue,Helvetica,sans-serif; font-size:48px; text-anchor:middle;\" transform=\"rotate(0, 854.708, 1149.28)\" x=\"854.708\" y=\"1149.28\">0.5</text>\n",
       "</g>\n",
       "<g clip-path=\"url(#clip4801)\">\n",
       "<text style=\"fill:#000000; fill-opacity:1; font-family:Arial,Helvetica Neue,Helvetica,sans-serif; font-size:48px; text-anchor:middle;\" transform=\"rotate(0, 1169.12, 1149.28)\" x=\"1169.12\" y=\"1149.28\">1.0</text>\n",
       "</g>\n",
       "<g clip-path=\"url(#clip4801)\">\n",
       "<text style=\"fill:#000000; fill-opacity:1; font-family:Arial,Helvetica Neue,Helvetica,sans-serif; font-size:48px; text-anchor:middle;\" transform=\"rotate(0, 1483.53, 1149.28)\" x=\"1483.53\" y=\"1149.28\">1.5</text>\n",
       "</g>\n",
       "<g clip-path=\"url(#clip4801)\">\n",
       "<text style=\"fill:#000000; fill-opacity:1; font-family:Arial,Helvetica Neue,Helvetica,sans-serif; font-size:48px; text-anchor:end;\" transform=\"rotate(0, 172.156, 1087.01)\" x=\"172.156\" y=\"1087.01\">4.00</text>\n",
       "</g>\n",
       "<g clip-path=\"url(#clip4801)\">\n",
       "<text style=\"fill:#000000; fill-opacity:1; font-family:Arial,Helvetica Neue,Helvetica,sans-serif; font-size:48px; text-anchor:end;\" transform=\"rotate(0, 172.156, 877.268)\" x=\"172.156\" y=\"877.268\">4.25</text>\n",
       "</g>\n",
       "<g clip-path=\"url(#clip4801)\">\n",
       "<text style=\"fill:#000000; fill-opacity:1; font-family:Arial,Helvetica Neue,Helvetica,sans-serif; font-size:48px; text-anchor:end;\" transform=\"rotate(0, 172.156, 667.528)\" x=\"172.156\" y=\"667.528\">4.50</text>\n",
       "</g>\n",
       "<g clip-path=\"url(#clip4801)\">\n",
       "<text style=\"fill:#000000; fill-opacity:1; font-family:Arial,Helvetica Neue,Helvetica,sans-serif; font-size:48px; text-anchor:end;\" transform=\"rotate(0, 172.156, 457.788)\" x=\"172.156\" y=\"457.788\">4.75</text>\n",
       "</g>\n",
       "<g clip-path=\"url(#clip4801)\">\n",
       "<text style=\"fill:#000000; fill-opacity:1; font-family:Arial,Helvetica Neue,Helvetica,sans-serif; font-size:48px; text-anchor:end;\" transform=\"rotate(0, 172.156, 248.048)\" x=\"172.156\" y=\"248.048\">5.00</text>\n",
       "</g>\n",
       "<polyline clip-path=\"url(#clip4803)\" style=\"stroke:#009af9; stroke-width:4; stroke-opacity:1; fill:none\" points=\"\n",
       "  225.886,125.678 288.768,82.8915 351.65,77.0188 414.532,103.027 477.415,155.881 540.297,230.548 603.179,321.995 666.061,425.187 728.944,535.091 791.826,646.673 \n",
       "  854.708,754.898 917.59,854.735 980.473,941.148 1043.35,1009.1 1106.24,1053.57 1169.12,1069.51 1232,1051.89 1294.88,995.68 1357.77,895.844 1420.65,747.348 \n",
       "  1483.53,545.158 \n",
       "  \"/>\n",
       "<polygon clip-path=\"url(#clip4801)\" points=\"\n",
       "1168.76,203.724 1473.26,203.724 1473.26,82.7641 1168.76,82.7641 \n",
       "  \" fill=\"#ffffff\" fill-opacity=\"1\"/>\n",
       "<polyline clip-path=\"url(#clip4801)\" style=\"stroke:#000000; stroke-width:4; stroke-opacity:1; fill:none\" points=\"\n",
       "  1168.76,203.724 1473.26,203.724 1473.26,82.7641 1168.76,82.7641 1168.76,203.724 \n",
       "  \"/>\n",
       "<polyline clip-path=\"url(#clip4801)\" style=\"stroke:#009af9; stroke-width:4; stroke-opacity:1; fill:none\" points=\"\n",
       "  1184.76,143.244 1280.76,143.244 \n",
       "  \"/>\n",
       "<g clip-path=\"url(#clip4801)\">\n",
       "<text style=\"fill:#000000; fill-opacity:1; font-family:Arial,Helvetica Neue,Helvetica,sans-serif; font-size:48px; text-anchor:start;\" transform=\"rotate(0, 1296.76, 160.744)\" x=\"1296.76\" y=\"160.744\">função</text>\n",
       "</g>\n",
       "</svg>\n"
      ]
     },
     "execution_count": 12,
     "metadata": {},
     "output_type": "execute_result"
    }
   ],
   "source": [
    "using Plots\n",
    "gr()\n",
    "\n",
    "plot(-0.5:0.1:1.5, f7, size = (400, 300), label = \"função\")"
   ]
  },
  {
   "cell_type": "markdown",
   "metadata": {},
   "source": [
    "**Pontos críticos**"
   ]
  },
  {
   "cell_type": "markdown",
   "metadata": {},
   "source": [
    "Para encontar um ponto crítico, $P(x_{crítico}, y_{crítico})$, devemos:\n",
    "1. calcular as raízes que determinam os números críticos $x_c$ de $f'(x) = 0$.\n",
    "2. aplicar o teste da derivada segunda para $~x_c~$, ou seja $~f''(x_c)~$"
   ]
  },
  {
   "cell_type": "code",
   "execution_count": 13,
   "metadata": {
    "collapsed": false
   },
   "outputs": [
    {
     "data": {
      "text/latex": [
       "\\begin{bmatrix}- \\frac{1}{3}\\\\1\\end{bmatrix}"
      ],
      "text/plain": [
       "2-element Array{Sym,1}:\n",
       " -1/3\n",
       "    1"
      ]
     },
     "execution_count": 13,
     "metadata": {},
     "output_type": "execute_result"
    }
   ],
   "source": [
    "#números críticos da abscissa\n",
    "xc =  solve(diff(f7(x), x) , x)"
   ]
  },
  {
   "cell_type": "code",
   "execution_count": 14,
   "metadata": {
    "collapsed": false,
    "scrolled": true
   },
   "outputs": [
    {
     "data": {
      "text/plain": [
       "2-element Array{Tuple{Float64,Float64},1}:\n",
       " (-0.3333333333333333, 5.185185185185185)\n",
       " (1.0, 4.0)                              "
      ]
     },
     "execution_count": 14,
     "metadata": {},
     "output_type": "execute_result"
    }
   ],
   "source": [
    "#Pontos críticos\n",
    "P = [(i, f7(i)) for i = float(xc)]"
   ]
  },
  {
   "cell_type": "markdown",
   "metadata": {},
   "source": [
    "Agora sabemos que os pontos $~P_1(-0.3333333333333333, ~5.185185185185185)~$ e $~P_2(1.0, ~4.0)$ são os pontos críticos da função $f(x) = x^3 - x^2 - x + 5$. Devemos agora determinar se são pontos de máximo local ou mínimo local aplicando o teste da derivada segunda e observar que para um número crítico $c$ temos:\n",
    "\n",
    " $f''(c) < 0$ : máximo local ; $~~f''(c) > 0$ : mínimo local\n"
   ]
  },
  {
   "cell_type": "code",
   "execution_count": 17,
   "metadata": {
    "collapsed": true
   },
   "outputs": [],
   "source": [
    "for i = xc    \n",
    "    if diff(f7(x), x, 2)(i) < 0\n",
    "        global max_local = (i, float(f7(i)))\n",
    "    else\n",
    "        global min_local = (i, float(f7(i)))\n",
    "    end\n",
    "end"
   ]
  },
  {
   "cell_type": "code",
   "execution_count": 18,
   "metadata": {
    "collapsed": false,
    "scrolled": true
   },
   "outputs": [
    {
     "data": {
      "text/plain": [
       "((-1/3, 5.185185185185185), (1, 4.0))"
      ]
     },
     "execution_count": 18,
     "metadata": {},
     "output_type": "execute_result"
    }
   ],
   "source": [
    "max_local, min_local"
   ]
  },
  {
   "cell_type": "markdown",
   "metadata": {},
   "source": [
    "Outra forma utilizando list comprehension"
   ]
  },
  {
   "cell_type": "code",
   "execution_count": 19,
   "metadata": {
    "collapsed": false
   },
   "outputs": [
    {
     "data": {
      "text/plain": [
       "2-element Array{Tuple{Sym,Float64},1}:\n",
       " (-1/3, 5.185185185185185)\n",
       " (1, 4.0)                 "
      ]
     },
     "execution_count": 19,
     "metadata": {},
     "output_type": "execute_result"
    }
   ],
   "source": [
    "[float(diff(f7(x), x, 2)(i))< 0 ? max_local=(i, float(f7(i))) : min_local=(i, float(f7(i))) for i = xc]"
   ]
  },
  {
   "cell_type": "markdown",
   "metadata": {},
   "source": [
    "**Gráfico**"
   ]
  },
  {
   "cell_type": "code",
   "execution_count": 20,
   "metadata": {
    "collapsed": false
   },
   "outputs": [
    {
     "data": {
      "image/svg+xml": [
       "<?xml version=\"1.0\" encoding=\"utf-8\"?>\n",
       "<svg xmlns=\"http://www.w3.org/2000/svg\" xmlns:xlink=\"http://www.w3.org/1999/xlink\" width=\"400\" height=\"300\" viewBox=\"0 0 1600 1200\">\n",
       "<defs>\n",
       "  <clipPath id=\"clip5000\">\n",
       "    <rect x=\"0\" y=\"0\" width=\"2000\" height=\"2000\"/>\n",
       "  </clipPath>\n",
       "</defs>\n",
       "<defs>\n",
       "  <clipPath id=\"clip5001\">\n",
       "    <rect x=\"0\" y=\"0\" width=\"1600\" height=\"1200\"/>\n",
       "  </clipPath>\n",
       "</defs>\n",
       "<polygon clip-path=\"url(#clip5001)\" points=\"\n",
       "0,1200 1600,1200 1600,0 0,0 \n",
       "  \" fill=\"#ffffff\" fill-opacity=\"1\"/>\n",
       "<defs>\n",
       "  <clipPath id=\"clip5002\">\n",
       "    <rect x=\"320\" y=\"0\" width=\"1121\" height=\"1121\"/>\n",
       "  </clipPath>\n",
       "</defs>\n",
       "<polygon clip-path=\"url(#clip5001)\" points=\"\n",
       "161.394,1099.28 1521.26,1099.28 1521.26,47.2441 161.394,47.2441 \n",
       "  \" fill=\"#ffffff\" fill-opacity=\"1\"/>\n",
       "<defs>\n",
       "  <clipPath id=\"clip5003\">\n",
       "    <rect x=\"161\" y=\"47\" width=\"1361\" height=\"1053\"/>\n",
       "  </clipPath>\n",
       "</defs>\n",
       "<polyline clip-path=\"url(#clip5003)\" style=\"stroke:#000000; stroke-width:2; stroke-opacity:0.1; fill:none\" points=\"\n",
       "  199.881,1099.28 199.881,47.2441 \n",
       "  \"/>\n",
       "<polyline clip-path=\"url(#clip5003)\" style=\"stroke:#000000; stroke-width:2; stroke-opacity:0.1; fill:none\" points=\"\n",
       "  328.17,1099.28 328.17,47.2441 \n",
       "  \"/>\n",
       "<polyline clip-path=\"url(#clip5003)\" style=\"stroke:#000000; stroke-width:2; stroke-opacity:0.1; fill:none\" points=\"\n",
       "  456.459,1099.28 456.459,47.2441 \n",
       "  \"/>\n",
       "<polyline clip-path=\"url(#clip5003)\" style=\"stroke:#000000; stroke-width:2; stroke-opacity:0.1; fill:none\" points=\"\n",
       "  584.748,1099.28 584.748,47.2441 \n",
       "  \"/>\n",
       "<polyline clip-path=\"url(#clip5003)\" style=\"stroke:#000000; stroke-width:2; stroke-opacity:0.1; fill:none\" points=\"\n",
       "  713.038,1099.28 713.038,47.2441 \n",
       "  \"/>\n",
       "<polyline clip-path=\"url(#clip5003)\" style=\"stroke:#000000; stroke-width:2; stroke-opacity:0.1; fill:none\" points=\"\n",
       "  841.327,1099.28 841.327,47.2441 \n",
       "  \"/>\n",
       "<polyline clip-path=\"url(#clip5003)\" style=\"stroke:#000000; stroke-width:2; stroke-opacity:0.1; fill:none\" points=\"\n",
       "  969.616,1099.28 969.616,47.2441 \n",
       "  \"/>\n",
       "<polyline clip-path=\"url(#clip5003)\" style=\"stroke:#000000; stroke-width:2; stroke-opacity:0.1; fill:none\" points=\"\n",
       "  1097.91,1099.28 1097.91,47.2441 \n",
       "  \"/>\n",
       "<polyline clip-path=\"url(#clip5003)\" style=\"stroke:#000000; stroke-width:2; stroke-opacity:0.1; fill:none\" points=\"\n",
       "  1226.19,1099.28 1226.19,47.2441 \n",
       "  \"/>\n",
       "<polyline clip-path=\"url(#clip5003)\" style=\"stroke:#000000; stroke-width:2; stroke-opacity:0.1; fill:none\" points=\"\n",
       "  1354.48,1099.28 1354.48,47.2441 \n",
       "  \"/>\n",
       "<polyline clip-path=\"url(#clip5003)\" style=\"stroke:#000000; stroke-width:2; stroke-opacity:0.1; fill:none\" points=\"\n",
       "  1482.77,1099.28 1482.77,47.2441 \n",
       "  \"/>\n",
       "<polyline clip-path=\"url(#clip5003)\" style=\"stroke:#000000; stroke-width:2; stroke-opacity:0.1; fill:none\" points=\"\n",
       "  161.394,1069.51 1521.26,1069.51 \n",
       "  \"/>\n",
       "<polyline clip-path=\"url(#clip5003)\" style=\"stroke:#000000; stroke-width:2; stroke-opacity:0.1; fill:none\" points=\"\n",
       "  161.394,985.767 1521.26,985.767 \n",
       "  \"/>\n",
       "<polyline clip-path=\"url(#clip5003)\" style=\"stroke:#000000; stroke-width:2; stroke-opacity:0.1; fill:none\" points=\"\n",
       "  161.394,902.026 1521.26,902.026 \n",
       "  \"/>\n",
       "<polyline clip-path=\"url(#clip5003)\" style=\"stroke:#000000; stroke-width:2; stroke-opacity:0.1; fill:none\" points=\"\n",
       "  161.394,818.284 1521.26,818.284 \n",
       "  \"/>\n",
       "<polyline clip-path=\"url(#clip5003)\" style=\"stroke:#000000; stroke-width:2; stroke-opacity:0.1; fill:none\" points=\"\n",
       "  161.394,734.543 1521.26,734.543 \n",
       "  \"/>\n",
       "<polyline clip-path=\"url(#clip5003)\" style=\"stroke:#000000; stroke-width:2; stroke-opacity:0.1; fill:none\" points=\"\n",
       "  161.394,650.802 1521.26,650.802 \n",
       "  \"/>\n",
       "<polyline clip-path=\"url(#clip5003)\" style=\"stroke:#000000; stroke-width:2; stroke-opacity:0.1; fill:none\" points=\"\n",
       "  161.394,567.061 1521.26,567.061 \n",
       "  \"/>\n",
       "<polyline clip-path=\"url(#clip5003)\" style=\"stroke:#000000; stroke-width:2; stroke-opacity:0.1; fill:none\" points=\"\n",
       "  161.394,483.319 1521.26,483.319 \n",
       "  \"/>\n",
       "<polyline clip-path=\"url(#clip5003)\" style=\"stroke:#000000; stroke-width:2; stroke-opacity:0.1; fill:none\" points=\"\n",
       "  161.394,399.578 1521.26,399.578 \n",
       "  \"/>\n",
       "<polyline clip-path=\"url(#clip5003)\" style=\"stroke:#000000; stroke-width:2; stroke-opacity:0.1; fill:none\" points=\"\n",
       "  161.394,315.837 1521.26,315.837 \n",
       "  \"/>\n",
       "<polyline clip-path=\"url(#clip5003)\" style=\"stroke:#000000; stroke-width:2; stroke-opacity:0.1; fill:none\" points=\"\n",
       "  161.394,232.095 1521.26,232.095 \n",
       "  \"/>\n",
       "<polyline clip-path=\"url(#clip5003)\" style=\"stroke:#000000; stroke-width:2; stroke-opacity:0.1; fill:none\" points=\"\n",
       "  161.394,148.354 1521.26,148.354 \n",
       "  \"/>\n",
       "<polyline clip-path=\"url(#clip5003)\" style=\"stroke:#000000; stroke-width:2; stroke-opacity:0.1; fill:none\" points=\"\n",
       "  161.394,64.6127 1521.26,64.6127 \n",
       "  \"/>\n",
       "<polyline clip-path=\"url(#clip5001)\" style=\"stroke:#000000; stroke-width:4; stroke-opacity:1; fill:none\" points=\"\n",
       "  161.394,1099.28 1521.26,1099.28 \n",
       "  \"/>\n",
       "<polyline clip-path=\"url(#clip5001)\" style=\"stroke:#000000; stroke-width:4; stroke-opacity:1; fill:none\" points=\"\n",
       "  161.394,1099.28 161.394,47.2441 \n",
       "  \"/>\n",
       "<polyline clip-path=\"url(#clip5001)\" style=\"stroke:#000000; stroke-width:4; stroke-opacity:1; fill:none\" points=\"\n",
       "  199.881,1099.28 199.881,1083.5 \n",
       "  \"/>\n",
       "<polyline clip-path=\"url(#clip5001)\" style=\"stroke:#000000; stroke-width:4; stroke-opacity:1; fill:none\" points=\"\n",
       "  328.17,1099.28 328.17,1083.5 \n",
       "  \"/>\n",
       "<polyline clip-path=\"url(#clip5001)\" style=\"stroke:#000000; stroke-width:4; stroke-opacity:1; fill:none\" points=\"\n",
       "  456.459,1099.28 456.459,1083.5 \n",
       "  \"/>\n",
       "<polyline clip-path=\"url(#clip5001)\" style=\"stroke:#000000; stroke-width:4; stroke-opacity:1; fill:none\" points=\"\n",
       "  584.748,1099.28 584.748,1083.5 \n",
       "  \"/>\n",
       "<polyline clip-path=\"url(#clip5001)\" style=\"stroke:#000000; stroke-width:4; stroke-opacity:1; fill:none\" points=\"\n",
       "  713.038,1099.28 713.038,1083.5 \n",
       "  \"/>\n",
       "<polyline clip-path=\"url(#clip5001)\" style=\"stroke:#000000; stroke-width:4; stroke-opacity:1; fill:none\" points=\"\n",
       "  841.327,1099.28 841.327,1083.5 \n",
       "  \"/>\n",
       "<polyline clip-path=\"url(#clip5001)\" style=\"stroke:#000000; stroke-width:4; stroke-opacity:1; fill:none\" points=\"\n",
       "  969.616,1099.28 969.616,1083.5 \n",
       "  \"/>\n",
       "<polyline clip-path=\"url(#clip5001)\" style=\"stroke:#000000; stroke-width:4; stroke-opacity:1; fill:none\" points=\"\n",
       "  1097.91,1099.28 1097.91,1083.5 \n",
       "  \"/>\n",
       "<polyline clip-path=\"url(#clip5001)\" style=\"stroke:#000000; stroke-width:4; stroke-opacity:1; fill:none\" points=\"\n",
       "  1226.19,1099.28 1226.19,1083.5 \n",
       "  \"/>\n",
       "<polyline clip-path=\"url(#clip5001)\" style=\"stroke:#000000; stroke-width:4; stroke-opacity:1; fill:none\" points=\"\n",
       "  1354.48,1099.28 1354.48,1083.5 \n",
       "  \"/>\n",
       "<polyline clip-path=\"url(#clip5001)\" style=\"stroke:#000000; stroke-width:4; stroke-opacity:1; fill:none\" points=\"\n",
       "  1482.77,1099.28 1482.77,1083.5 \n",
       "  \"/>\n",
       "<polyline clip-path=\"url(#clip5001)\" style=\"stroke:#000000; stroke-width:4; stroke-opacity:1; fill:none\" points=\"\n",
       "  161.394,1069.51 181.792,1069.51 \n",
       "  \"/>\n",
       "<polyline clip-path=\"url(#clip5001)\" style=\"stroke:#000000; stroke-width:4; stroke-opacity:1; fill:none\" points=\"\n",
       "  161.394,985.767 181.792,985.767 \n",
       "  \"/>\n",
       "<polyline clip-path=\"url(#clip5001)\" style=\"stroke:#000000; stroke-width:4; stroke-opacity:1; fill:none\" points=\"\n",
       "  161.394,902.026 181.792,902.026 \n",
       "  \"/>\n",
       "<polyline clip-path=\"url(#clip5001)\" style=\"stroke:#000000; stroke-width:4; stroke-opacity:1; fill:none\" points=\"\n",
       "  161.394,818.284 181.792,818.284 \n",
       "  \"/>\n",
       "<polyline clip-path=\"url(#clip5001)\" style=\"stroke:#000000; stroke-width:4; stroke-opacity:1; fill:none\" points=\"\n",
       "  161.394,734.543 181.792,734.543 \n",
       "  \"/>\n",
       "<polyline clip-path=\"url(#clip5001)\" style=\"stroke:#000000; stroke-width:4; stroke-opacity:1; fill:none\" points=\"\n",
       "  161.394,650.802 181.792,650.802 \n",
       "  \"/>\n",
       "<polyline clip-path=\"url(#clip5001)\" style=\"stroke:#000000; stroke-width:4; stroke-opacity:1; fill:none\" points=\"\n",
       "  161.394,567.061 181.792,567.061 \n",
       "  \"/>\n",
       "<polyline clip-path=\"url(#clip5001)\" style=\"stroke:#000000; stroke-width:4; stroke-opacity:1; fill:none\" points=\"\n",
       "  161.394,483.319 181.792,483.319 \n",
       "  \"/>\n",
       "<polyline clip-path=\"url(#clip5001)\" style=\"stroke:#000000; stroke-width:4; stroke-opacity:1; fill:none\" points=\"\n",
       "  161.394,399.578 181.792,399.578 \n",
       "  \"/>\n",
       "<polyline clip-path=\"url(#clip5001)\" style=\"stroke:#000000; stroke-width:4; stroke-opacity:1; fill:none\" points=\"\n",
       "  161.394,315.837 181.792,315.837 \n",
       "  \"/>\n",
       "<polyline clip-path=\"url(#clip5001)\" style=\"stroke:#000000; stroke-width:4; stroke-opacity:1; fill:none\" points=\"\n",
       "  161.394,232.095 181.792,232.095 \n",
       "  \"/>\n",
       "<polyline clip-path=\"url(#clip5001)\" style=\"stroke:#000000; stroke-width:4; stroke-opacity:1; fill:none\" points=\"\n",
       "  161.394,148.354 181.792,148.354 \n",
       "  \"/>\n",
       "<polyline clip-path=\"url(#clip5001)\" style=\"stroke:#000000; stroke-width:4; stroke-opacity:1; fill:none\" points=\"\n",
       "  161.394,64.6127 181.792,64.6127 \n",
       "  \"/>\n",
       "<g clip-path=\"url(#clip5001)\">\n",
       "<text style=\"fill:#000000; fill-opacity:1; font-family:Arial,Helvetica Neue,Helvetica,sans-serif; font-size:48px; text-anchor:middle;\" transform=\"rotate(0, 199.881, 1149.28)\" x=\"199.881\" y=\"1149.28\">-0.5</text>\n",
       "</g>\n",
       "<g clip-path=\"url(#clip5001)\">\n",
       "<text style=\"fill:#000000; fill-opacity:1; font-family:Arial,Helvetica Neue,Helvetica,sans-serif; font-size:48px; text-anchor:middle;\" transform=\"rotate(0, 328.17, 1149.28)\" x=\"328.17\" y=\"1149.28\">-0.3</text>\n",
       "</g>\n",
       "<g clip-path=\"url(#clip5001)\">\n",
       "<text style=\"fill:#000000; fill-opacity:1; font-family:Arial,Helvetica Neue,Helvetica,sans-serif; font-size:48px; text-anchor:middle;\" transform=\"rotate(0, 456.459, 1149.28)\" x=\"456.459\" y=\"1149.28\">-0.1</text>\n",
       "</g>\n",
       "<g clip-path=\"url(#clip5001)\">\n",
       "<text style=\"fill:#000000; fill-opacity:1; font-family:Arial,Helvetica Neue,Helvetica,sans-serif; font-size:48px; text-anchor:middle;\" transform=\"rotate(0, 584.748, 1149.28)\" x=\"584.748\" y=\"1149.28\">0.1</text>\n",
       "</g>\n",
       "<g clip-path=\"url(#clip5001)\">\n",
       "<text style=\"fill:#000000; fill-opacity:1; font-family:Arial,Helvetica Neue,Helvetica,sans-serif; font-size:48px; text-anchor:middle;\" transform=\"rotate(0, 713.038, 1149.28)\" x=\"713.038\" y=\"1149.28\">0.3</text>\n",
       "</g>\n",
       "<g clip-path=\"url(#clip5001)\">\n",
       "<text style=\"fill:#000000; fill-opacity:1; font-family:Arial,Helvetica Neue,Helvetica,sans-serif; font-size:48px; text-anchor:middle;\" transform=\"rotate(0, 841.327, 1149.28)\" x=\"841.327\" y=\"1149.28\">0.5</text>\n",
       "</g>\n",
       "<g clip-path=\"url(#clip5001)\">\n",
       "<text style=\"fill:#000000; fill-opacity:1; font-family:Arial,Helvetica Neue,Helvetica,sans-serif; font-size:48px; text-anchor:middle;\" transform=\"rotate(0, 969.616, 1149.28)\" x=\"969.616\" y=\"1149.28\">0.7</text>\n",
       "</g>\n",
       "<g clip-path=\"url(#clip5001)\">\n",
       "<text style=\"fill:#000000; fill-opacity:1; font-family:Arial,Helvetica Neue,Helvetica,sans-serif; font-size:48px; text-anchor:middle;\" transform=\"rotate(0, 1097.91, 1149.28)\" x=\"1097.91\" y=\"1149.28\">0.9</text>\n",
       "</g>\n",
       "<g clip-path=\"url(#clip5001)\">\n",
       "<text style=\"fill:#000000; fill-opacity:1; font-family:Arial,Helvetica Neue,Helvetica,sans-serif; font-size:48px; text-anchor:middle;\" transform=\"rotate(0, 1226.19, 1149.28)\" x=\"1226.19\" y=\"1149.28\">1.1</text>\n",
       "</g>\n",
       "<g clip-path=\"url(#clip5001)\">\n",
       "<text style=\"fill:#000000; fill-opacity:1; font-family:Arial,Helvetica Neue,Helvetica,sans-serif; font-size:48px; text-anchor:middle;\" transform=\"rotate(0, 1354.48, 1149.28)\" x=\"1354.48\" y=\"1149.28\">1.3</text>\n",
       "</g>\n",
       "<g clip-path=\"url(#clip5001)\">\n",
       "<text style=\"fill:#000000; fill-opacity:1; font-family:Arial,Helvetica Neue,Helvetica,sans-serif; font-size:48px; text-anchor:middle;\" transform=\"rotate(0, 1482.77, 1149.28)\" x=\"1482.77\" y=\"1149.28\">1.5</text>\n",
       "</g>\n",
       "<g clip-path=\"url(#clip5001)\">\n",
       "<text style=\"fill:#000000; fill-opacity:1; font-family:Arial,Helvetica Neue,Helvetica,sans-serif; font-size:48px; text-anchor:end;\" transform=\"rotate(0, 145.394, 1087.01)\" x=\"145.394\" y=\"1087.01\">4.0</text>\n",
       "</g>\n",
       "<g clip-path=\"url(#clip5001)\">\n",
       "<text style=\"fill:#000000; fill-opacity:1; font-family:Arial,Helvetica Neue,Helvetica,sans-serif; font-size:48px; text-anchor:end;\" transform=\"rotate(0, 145.394, 1003.27)\" x=\"145.394\" y=\"1003.27\">4.1</text>\n",
       "</g>\n",
       "<g clip-path=\"url(#clip5001)\">\n",
       "<text style=\"fill:#000000; fill-opacity:1; font-family:Arial,Helvetica Neue,Helvetica,sans-serif; font-size:48px; text-anchor:end;\" transform=\"rotate(0, 145.394, 919.526)\" x=\"145.394\" y=\"919.526\">4.2</text>\n",
       "</g>\n",
       "<g clip-path=\"url(#clip5001)\">\n",
       "<text style=\"fill:#000000; fill-opacity:1; font-family:Arial,Helvetica Neue,Helvetica,sans-serif; font-size:48px; text-anchor:end;\" transform=\"rotate(0, 145.394, 835.784)\" x=\"145.394\" y=\"835.784\">4.3</text>\n",
       "</g>\n",
       "<g clip-path=\"url(#clip5001)\">\n",
       "<text style=\"fill:#000000; fill-opacity:1; font-family:Arial,Helvetica Neue,Helvetica,sans-serif; font-size:48px; text-anchor:end;\" transform=\"rotate(0, 145.394, 752.043)\" x=\"145.394\" y=\"752.043\">4.4</text>\n",
       "</g>\n",
       "<g clip-path=\"url(#clip5001)\">\n",
       "<text style=\"fill:#000000; fill-opacity:1; font-family:Arial,Helvetica Neue,Helvetica,sans-serif; font-size:48px; text-anchor:end;\" transform=\"rotate(0, 145.394, 668.302)\" x=\"145.394\" y=\"668.302\">4.5</text>\n",
       "</g>\n",
       "<g clip-path=\"url(#clip5001)\">\n",
       "<text style=\"fill:#000000; fill-opacity:1; font-family:Arial,Helvetica Neue,Helvetica,sans-serif; font-size:48px; text-anchor:end;\" transform=\"rotate(0, 145.394, 584.561)\" x=\"145.394\" y=\"584.561\">4.6</text>\n",
       "</g>\n",
       "<g clip-path=\"url(#clip5001)\">\n",
       "<text style=\"fill:#000000; fill-opacity:1; font-family:Arial,Helvetica Neue,Helvetica,sans-serif; font-size:48px; text-anchor:end;\" transform=\"rotate(0, 145.394, 500.819)\" x=\"145.394\" y=\"500.819\">4.7</text>\n",
       "</g>\n",
       "<g clip-path=\"url(#clip5001)\">\n",
       "<text style=\"fill:#000000; fill-opacity:1; font-family:Arial,Helvetica Neue,Helvetica,sans-serif; font-size:48px; text-anchor:end;\" transform=\"rotate(0, 145.394, 417.078)\" x=\"145.394\" y=\"417.078\">4.8</text>\n",
       "</g>\n",
       "<g clip-path=\"url(#clip5001)\">\n",
       "<text style=\"fill:#000000; fill-opacity:1; font-family:Arial,Helvetica Neue,Helvetica,sans-serif; font-size:48px; text-anchor:end;\" transform=\"rotate(0, 145.394, 333.337)\" x=\"145.394\" y=\"333.337\">4.9</text>\n",
       "</g>\n",
       "<g clip-path=\"url(#clip5001)\">\n",
       "<text style=\"fill:#000000; fill-opacity:1; font-family:Arial,Helvetica Neue,Helvetica,sans-serif; font-size:48px; text-anchor:end;\" transform=\"rotate(0, 145.394, 249.595)\" x=\"145.394\" y=\"249.595\">5.0</text>\n",
       "</g>\n",
       "<g clip-path=\"url(#clip5001)\">\n",
       "<text style=\"fill:#000000; fill-opacity:1; font-family:Arial,Helvetica Neue,Helvetica,sans-serif; font-size:48px; text-anchor:end;\" transform=\"rotate(0, 145.394, 165.854)\" x=\"145.394\" y=\"165.854\">5.1</text>\n",
       "</g>\n",
       "<g clip-path=\"url(#clip5001)\">\n",
       "<text style=\"fill:#000000; fill-opacity:1; font-family:Arial,Helvetica Neue,Helvetica,sans-serif; font-size:48px; text-anchor:end;\" transform=\"rotate(0, 145.394, 82.1127)\" x=\"145.394\" y=\"82.1127\">5.2</text>\n",
       "</g>\n",
       "<circle clip-path=\"url(#clip5003)\" style=\"fill:#000000; stroke:none; fill-opacity:1\" cx=\"306.788\" cy=\"77.0188\" r=\"18\"/>\n",
       "<circle clip-path=\"url(#clip5003)\" style=\"fill:#009af9; stroke:none; fill-opacity:1\" cx=\"306.788\" cy=\"77.0188\" r=\"14\"/>\n",
       "<circle clip-path=\"url(#clip5003)\" style=\"fill:#000000; stroke:none; fill-opacity:1\" cx=\"1162.05\" cy=\"1069.51\" r=\"18\"/>\n",
       "<circle clip-path=\"url(#clip5003)\" style=\"fill:#e26f46; stroke:none; fill-opacity:1\" cx=\"1162.05\" cy=\"1069.51\" r=\"14\"/>\n",
       "<polyline clip-path=\"url(#clip5003)\" style=\"stroke:#3da44d; stroke-width:4; stroke-opacity:1; fill:none\" points=\"\n",
       "  199.881,127.419 264.025,84.7106 328.17,78.8487 392.315,104.808 456.459,157.566 520.604,232.095 584.748,323.373 648.893,426.375 713.038,536.076 777.182,647.452 \n",
       "  841.327,755.478 905.472,855.131 969.616,941.384 1033.76,1009.21 1097.91,1053.6 1162.05,1069.51 1226.19,1051.92 1290.34,995.816 1354.48,896.164 1418.63,747.942 \n",
       "  1482.77,546.125 \n",
       "  \"/>\n",
       "<polygon clip-path=\"url(#clip5001)\" points=\"\n",
       "1109.99,324.684 1473.26,324.684 1473.26,82.7641 1109.99,82.7641 \n",
       "  \" fill=\"#ffffff\" fill-opacity=\"1\"/>\n",
       "<polyline clip-path=\"url(#clip5001)\" style=\"stroke:#000000; stroke-width:4; stroke-opacity:1; fill:none\" points=\"\n",
       "  1109.99,324.684 1473.26,324.684 1473.26,82.7641 1109.99,82.7641 1109.99,324.684 \n",
       "  \"/>\n",
       "<circle clip-path=\"url(#clip5001)\" style=\"fill:#000000; stroke:none; fill-opacity:1\" cx=\"1181.99\" cy=\"143.244\" r=\"25\"/>\n",
       "<circle clip-path=\"url(#clip5001)\" style=\"fill:#009af9; stroke:none; fill-opacity:1\" cx=\"1181.99\" cy=\"143.244\" r=\"21\"/>\n",
       "<g clip-path=\"url(#clip5001)\">\n",
       "<text style=\"fill:#000000; fill-opacity:1; font-family:Arial,Helvetica Neue,Helvetica,sans-serif; font-size:48px; text-anchor:start;\" transform=\"rotate(0, 1237.99, 160.744)\" x=\"1237.99\" y=\"160.744\">max local</text>\n",
       "</g>\n",
       "<circle clip-path=\"url(#clip5001)\" style=\"fill:#000000; stroke:none; fill-opacity:1\" cx=\"1181.99\" cy=\"203.724\" r=\"25\"/>\n",
       "<circle clip-path=\"url(#clip5001)\" style=\"fill:#e26f46; stroke:none; fill-opacity:1\" cx=\"1181.99\" cy=\"203.724\" r=\"21\"/>\n",
       "<g clip-path=\"url(#clip5001)\">\n",
       "<text style=\"fill:#000000; fill-opacity:1; font-family:Arial,Helvetica Neue,Helvetica,sans-serif; font-size:48px; text-anchor:start;\" transform=\"rotate(0, 1237.99, 221.224)\" x=\"1237.99\" y=\"221.224\">min local</text>\n",
       "</g>\n",
       "<polyline clip-path=\"url(#clip5001)\" style=\"stroke:#3da44d; stroke-width:4; stroke-opacity:1; fill:none\" points=\"\n",
       "  1125.99,264.204 1221.99,264.204 \n",
       "  \"/>\n",
       "<g clip-path=\"url(#clip5001)\">\n",
       "<text style=\"fill:#000000; fill-opacity:1; font-family:Arial,Helvetica Neue,Helvetica,sans-serif; font-size:48px; text-anchor:start;\" transform=\"rotate(0, 1237.99, 281.704)\" x=\"1237.99\" y=\"281.704\">Função</text>\n",
       "</g>\n",
       "</svg>\n"
      ]
     },
     "execution_count": 20,
     "metadata": {},
     "output_type": "execute_result"
    }
   ],
   "source": [
    "using Plots\n",
    "gr()\n",
    "\n",
    "scatter(max_local, label = \"max local\")\n",
    "scatter!(min_local,label = \"min local\")\n",
    "plot!(-0.5:0.1:1.5, f7, label = \"Função\",\n",
    "xticks = -0.5:0.2:1.5,\n",
    "yticks = 4:0.1:6,  size = (400, 300))"
   ]
  },
  {
   "cell_type": "markdown",
   "metadata": {},
   "source": [
    "** Cálculo de área máxima**\n",
    "\n",
    "Calcular a área máxima de um terreno gramado cuja cerca dispoível é de 20m.\n",
    "<img src=\"Figuras/area.png\" align=\"center\" width=\"200\">\n",
    "\n",
    "Solução:\n",
    "Devemos colocar o perímetro na forma $2x + 2y -20 = 0 $ e resolver a equação em relação a $y$, de tal forma que teremos $y$ em função de $x$."
   ]
  },
  {
   "cell_type": "code",
   "execution_count": 21,
   "metadata": {
    "collapsed": false,
    "scrolled": false
   },
   "outputs": [
    {
     "data": {
      "text/plain": [
       "(x, y)"
      ]
     },
     "execution_count": 21,
     "metadata": {},
     "output_type": "execute_result"
    }
   ],
   "source": [
    "using SymPy\n",
    "@syms x y"
   ]
  },
  {
   "cell_type": "code",
   "execution_count": 22,
   "metadata": {
    "collapsed": false,
    "scrolled": true
   },
   "outputs": [
    {
     "data": {
      "text/plain": [
       "Area_terreno (generic function with 1 method)"
      ]
     },
     "execution_count": 22,
     "metadata": {},
     "output_type": "execute_result"
    }
   ],
   "source": [
    "Area_terreno(x, y) = x*y "
   ]
  },
  {
   "cell_type": "code",
   "execution_count": 23,
   "metadata": {
    "collapsed": false,
    "scrolled": false
   },
   "outputs": [
    {
     "data": {
      "text/latex": [
       "\\begin{bmatrix}- x + 10\\end{bmatrix}"
      ],
      "text/plain": [
       "1-element Array{Sym,1}:\n",
       " -x + 10"
      ]
     },
     "execution_count": 23,
     "metadata": {},
     "output_type": "execute_result"
    }
   ],
   "source": [
    "y0 = solve(2*x + 2*y - 20, y)"
   ]
  },
  {
   "cell_type": "markdown",
   "metadata": {},
   "source": [
    "O resultado $y0$ é um vetor que contém uma expressão algébrica matemática simbólica como conteúdo. Para atribuir valores devemos utilizar:\n",
    "```julia\n",
    "y0[](valor_x)\n",
    "```"
   ]
  },
  {
   "cell_type": "markdown",
   "metadata": {},
   "source": [
    "Agora devemos substituir a variável $y$ da função `Area_terreno(x, y)` por $y0$ e derivar em relação a $x$. Este procedimento resultará em outra função que deverá ser calculado a raíz em relação a $x$. A raíz calculada será o valor extremo da função que corresponde ao valor máximo de $x$"
   ]
  },
  {
   "cell_type": "code",
   "execution_count": 24,
   "metadata": {
    "collapsed": false,
    "scrolled": true
   },
   "outputs": [
    {
     "data": {
      "text/latex": [
       "\\begin{bmatrix}5\\end{bmatrix}"
      ],
      "text/plain": [
       "1-element Array{Sym,1}:\n",
       " 5"
      ]
     },
     "execution_count": 24,
     "metadata": {},
     "output_type": "execute_result"
    }
   ],
   "source": [
    "x_max = solve(diff(Area_terreno(x, y0[])), x)"
   ]
  },
  {
   "cell_type": "code",
   "execution_count": 25,
   "metadata": {
    "collapsed": false,
    "scrolled": true
   },
   "outputs": [
    {
     "data": {
      "text/plain": [
       "Array{Sym,1}"
      ]
     },
     "execution_count": 25,
     "metadata": {},
     "output_type": "execute_result"
    }
   ],
   "source": [
    "typeof(x_max)"
   ]
  },
  {
   "cell_type": "markdown",
   "metadata": {},
   "source": [
    "`x_max` é um vetor unidimensional do tipo Array{Sym,Sym}. Para obter somente o valor numérico use:"
   ]
  },
  {
   "cell_type": "code",
   "execution_count": 26,
   "metadata": {
    "collapsed": false,
    "scrolled": true
   },
   "outputs": [
    {
     "data": {
      "text/latex": [
       "\\begin{equation*}5\\end{equation*}"
      ],
      "text/plain": [
       "5"
      ]
     },
     "execution_count": 26,
     "metadata": {},
     "output_type": "execute_result"
    }
   ],
   "source": [
    "x_max[]"
   ]
  },
  {
   "cell_type": "markdown",
   "metadata": {},
   "source": [
    "Para calcular o valor de $y_{max}$  devemos substituir a variável $x$ da função $y0$."
   ]
  },
  {
   "cell_type": "code",
   "execution_count": 27,
   "metadata": {
    "collapsed": false,
    "scrolled": false
   },
   "outputs": [
    {
     "data": {
      "text/plain": [
       "5.0"
      ]
     },
     "execution_count": 27,
     "metadata": {},
     "output_type": "execute_result"
    }
   ],
   "source": [
    "y_max = float(y0[](x_max[]))"
   ]
  },
  {
   "cell_type": "markdown",
   "metadata": {},
   "source": [
    "A área máxima é calculada pela função `Area_terreno` substituindo os valores de $x$ e $y$ pelos valores de $x_{max}$ e $y_{max}$ "
   ]
  },
  {
   "cell_type": "code",
   "execution_count": 28,
   "metadata": {
    "collapsed": false,
    "scrolled": true
   },
   "outputs": [
    {
     "data": {
      "text/latex": [
       "\\begin{equation*}25.0\\end{equation*}"
      ],
      "text/plain": [
       "25.0000000000000"
      ]
     },
     "execution_count": 28,
     "metadata": {},
     "output_type": "execute_result"
    }
   ],
   "source": [
    "Area_terreno(x_max[], y_max)"
   ]
  },
  {
   "cell_type": "markdown",
   "metadata": {},
   "source": [
    "Como já era esperado, a área máxima corresponde às medidas `x` e `y` de um quadrado."
   ]
  },
  {
   "cell_type": "markdown",
   "metadata": {
    "collapsed": true
   },
   "source": [
    "## INTEGRAL DE UMA FUNÇÃO\n",
    "\n"
   ]
  },
  {
   "cell_type": "markdown",
   "metadata": {},
   "source": [
    "### INTEGRAL SIMBÓLICA INDEFINIDA\n",
    "\n",
    "$ \\displaystyle \\int {f(x)} ~ dx $\n",
    "\n",
    "Sintaxe:\n",
    "```julia\n",
    "integrate(f(x), var)\n",
    "```\n",
    "Sendo:\n",
    "* **f(x)**:função matemática $f(x)$ expressa como uma expressão algébrica simbólica ou uma função genérica;\n",
    "* **var**: variável de $f(x)$."
   ]
  },
  {
   "cell_type": "code",
   "execution_count": 65,
   "metadata": {
    "collapsed": false,
    "scrolled": true
   },
   "outputs": [
    {
     "data": {
      "text/plain": [
       "(x, y)"
      ]
     },
     "execution_count": 65,
     "metadata": {},
     "output_type": "execute_result"
    }
   ],
   "source": [
    "using SymPy\n",
    "@syms x y"
   ]
  },
  {
   "cell_type": "code",
   "execution_count": 66,
   "metadata": {
    "collapsed": false
   },
   "outputs": [
    {
     "data": {
      "text/plain": [
       "f8 (generic function with 1 method)"
      ]
     },
     "execution_count": 66,
     "metadata": {},
     "output_type": "execute_result"
    }
   ],
   "source": [
    "f8(x) = sin(x)*x"
   ]
  },
  {
   "cell_type": "code",
   "execution_count": 67,
   "metadata": {
    "collapsed": false,
    "scrolled": true
   },
   "outputs": [
    {
     "data": {
      "text/latex": [
       "\\begin{equation*}- x \\cos{\\left (x \\right )} + \\sin{\\left (x \\right )}\\end{equation*}"
      ],
      "text/plain": [
       "-x⋅cos(x) + sin(x)"
      ]
     },
     "execution_count": 67,
     "metadata": {},
     "output_type": "execute_result"
    }
   ],
   "source": [
    "integrate(f8(x), x)"
   ]
  },
  {
   "cell_type": "markdown",
   "metadata": {},
   "source": [
    "**Uma outra forma de escrever a integral e resolver**"
   ]
  },
  {
   "cell_type": "code",
   "execution_count": 68,
   "metadata": {
    "collapsed": false,
    "scrolled": true
   },
   "outputs": [
    {
     "data": {
      "text/latex": [
       "\\begin{equation*}\\int x \\sin{\\left (x \\right )}\\, dx\\end{equation*}"
      ],
      "text/plain": [
       "⌠            \n",
       "⎮ x⋅sin(x) dx\n",
       "⌡            "
      ]
     },
     "execution_count": 68,
     "metadata": {},
     "output_type": "execute_result"
    }
   ],
   "source": [
    "integ = Integral(f8(x), (x))"
   ]
  },
  {
   "cell_type": "code",
   "execution_count": 69,
   "metadata": {
    "collapsed": false
   },
   "outputs": [
    {
     "data": {
      "text/latex": [
       "\\begin{equation*}- x \\cos{\\left (x \\right )} + \\sin{\\left (x \\right )}\\end{equation*}"
      ],
      "text/plain": [
       "-x⋅cos(x) + sin(x)"
      ]
     },
     "execution_count": 69,
     "metadata": {},
     "output_type": "execute_result"
    }
   ],
   "source": [
    "# resolver a integral\n",
    "doit(integ)"
   ]
  },
  {
   "cell_type": "markdown",
   "metadata": {
    "collapsed": true
   },
   "source": [
    "### INTEGRAL SIMBÓLICA DEFINIDA\n",
    "\n",
    "$ \\displaystyle \\int_{a_1}^{b_1} {f(x)} ~ dx $\n",
    "\n",
    "Sintaxe:\n",
    "```julia\n",
    "integrate(f(x), variável, a_1, b_1)\n",
    "```\n",
    "Sendo:\n",
    "* **f(x)**:função matemática $f(x)$ expressa como uma expressão algébrica simbólica ou uma função genérica;\n",
    "* **var**: variável de $f(x)$;\n",
    "* **a_1, b_1** : limites de integração função $f(x)$. "
   ]
  },
  {
   "cell_type": "code",
   "execution_count": 70,
   "metadata": {
    "collapsed": false
   },
   "outputs": [
    {
     "data": {
      "text/plain": [
       "(x,)"
      ]
     },
     "execution_count": 70,
     "metadata": {},
     "output_type": "execute_result"
    }
   ],
   "source": [
    "using SymPy, Plots\n",
    "gr()\n",
    "\n",
    "@syms x"
   ]
  },
  {
   "cell_type": "code",
   "execution_count": 70,
   "metadata": {
    "collapsed": false
   },
   "outputs": [
    {
     "data": {
      "text/plain": [
       "f8 (generic function with 1 method)"
      ]
     },
     "execution_count": 70,
     "metadata": {},
     "output_type": "execute_result"
    }
   ],
   "source": [
    "f8(x) = sin(x)*x"
   ]
  },
  {
   "cell_type": "code",
   "execution_count": 71,
   "metadata": {
    "collapsed": false
   },
   "outputs": [
    {
     "data": {
      "image/svg+xml": [
       "<?xml version=\"1.0\" encoding=\"utf-8\"?>\n",
       "<svg xmlns=\"http://www.w3.org/2000/svg\" xmlns:xlink=\"http://www.w3.org/1999/xlink\" width=\"400\" height=\"300\" viewBox=\"0 0 1600 1200\">\n",
       "<defs>\n",
       "  <clipPath id=\"clip6900\">\n",
       "    <rect x=\"0\" y=\"0\" width=\"2000\" height=\"2000\"/>\n",
       "  </clipPath>\n",
       "</defs>\n",
       "<defs>\n",
       "  <clipPath id=\"clip6901\">\n",
       "    <rect x=\"0\" y=\"0\" width=\"1600\" height=\"1200\"/>\n",
       "  </clipPath>\n",
       "</defs>\n",
       "<polygon clip-path=\"url(#clip6901)\" points=\"\n",
       "0,1200 1600,1200 1600,0 0,0 \n",
       "  \" fill=\"#ffffff\" fill-opacity=\"1\"/>\n",
       "<defs>\n",
       "  <clipPath id=\"clip6902\">\n",
       "    <rect x=\"320\" y=\"0\" width=\"1121\" height=\"1121\"/>\n",
       "  </clipPath>\n",
       "</defs>\n",
       "<polygon clip-path=\"url(#clip6901)\" points=\"\n",
       "224.386,1036.29 1521.26,1036.29 1521.26,47.2441 224.386,47.2441 \n",
       "  \" fill=\"#ffffff\" fill-opacity=\"1\"/>\n",
       "<defs>\n",
       "  <clipPath id=\"clip6903\">\n",
       "    <rect x=\"224\" y=\"47\" width=\"1298\" height=\"990\"/>\n",
       "  </clipPath>\n",
       "</defs>\n",
       "<polyline clip-path=\"url(#clip6903)\" style=\"stroke:#000000; stroke-width:2; stroke-opacity:0.1; fill:none\" points=\"\n",
       "  261.09,1036.29 261.09,47.2441 \n",
       "  \"/>\n",
       "<polyline clip-path=\"url(#clip6903)\" style=\"stroke:#000000; stroke-width:2; stroke-opacity:0.1; fill:none\" points=\"\n",
       "  566.957,1036.29 566.957,47.2441 \n",
       "  \"/>\n",
       "<polyline clip-path=\"url(#clip6903)\" style=\"stroke:#000000; stroke-width:2; stroke-opacity:0.1; fill:none\" points=\"\n",
       "  872.823,1036.29 872.823,47.2441 \n",
       "  \"/>\n",
       "<polyline clip-path=\"url(#clip6903)\" style=\"stroke:#000000; stroke-width:2; stroke-opacity:0.1; fill:none\" points=\"\n",
       "  1178.69,1036.29 1178.69,47.2441 \n",
       "  \"/>\n",
       "<polyline clip-path=\"url(#clip6903)\" style=\"stroke:#000000; stroke-width:2; stroke-opacity:0.1; fill:none\" points=\"\n",
       "  1484.56,1036.29 1484.56,47.2441 \n",
       "  \"/>\n",
       "<polyline clip-path=\"url(#clip6903)\" style=\"stroke:#000000; stroke-width:2; stroke-opacity:0.1; fill:none\" points=\"\n",
       "  224.386,1008.3 1521.26,1008.3 \n",
       "  \"/>\n",
       "<polyline clip-path=\"url(#clip6903)\" style=\"stroke:#000000; stroke-width:2; stroke-opacity:0.1; fill:none\" points=\"\n",
       "  224.386,751.765 1521.26,751.765 \n",
       "  \"/>\n",
       "<polyline clip-path=\"url(#clip6903)\" style=\"stroke:#000000; stroke-width:2; stroke-opacity:0.1; fill:none\" points=\"\n",
       "  224.386,495.231 1521.26,495.231 \n",
       "  \"/>\n",
       "<polyline clip-path=\"url(#clip6903)\" style=\"stroke:#000000; stroke-width:2; stroke-opacity:0.1; fill:none\" points=\"\n",
       "  224.386,238.697 1521.26,238.697 \n",
       "  \"/>\n",
       "<polyline clip-path=\"url(#clip6901)\" style=\"stroke:#000000; stroke-width:4; stroke-opacity:1; fill:none\" points=\"\n",
       "  224.386,1036.29 1521.26,1036.29 \n",
       "  \"/>\n",
       "<polyline clip-path=\"url(#clip6901)\" style=\"stroke:#000000; stroke-width:4; stroke-opacity:1; fill:none\" points=\"\n",
       "  224.386,1036.29 224.386,47.2441 \n",
       "  \"/>\n",
       "<polyline clip-path=\"url(#clip6901)\" style=\"stroke:#000000; stroke-width:4; stroke-opacity:1; fill:none\" points=\"\n",
       "  261.09,1036.29 261.09,1021.46 \n",
       "  \"/>\n",
       "<polyline clip-path=\"url(#clip6901)\" style=\"stroke:#000000; stroke-width:4; stroke-opacity:1; fill:none\" points=\"\n",
       "  566.957,1036.29 566.957,1021.46 \n",
       "  \"/>\n",
       "<polyline clip-path=\"url(#clip6901)\" style=\"stroke:#000000; stroke-width:4; stroke-opacity:1; fill:none\" points=\"\n",
       "  872.823,1036.29 872.823,1021.46 \n",
       "  \"/>\n",
       "<polyline clip-path=\"url(#clip6901)\" style=\"stroke:#000000; stroke-width:4; stroke-opacity:1; fill:none\" points=\"\n",
       "  1178.69,1036.29 1178.69,1021.46 \n",
       "  \"/>\n",
       "<polyline clip-path=\"url(#clip6901)\" style=\"stroke:#000000; stroke-width:4; stroke-opacity:1; fill:none\" points=\"\n",
       "  1484.56,1036.29 1484.56,1021.46 \n",
       "  \"/>\n",
       "<polyline clip-path=\"url(#clip6901)\" style=\"stroke:#000000; stroke-width:4; stroke-opacity:1; fill:none\" points=\"\n",
       "  224.386,1008.3 243.839,1008.3 \n",
       "  \"/>\n",
       "<polyline clip-path=\"url(#clip6901)\" style=\"stroke:#000000; stroke-width:4; stroke-opacity:1; fill:none\" points=\"\n",
       "  224.386,751.765 243.839,751.765 \n",
       "  \"/>\n",
       "<polyline clip-path=\"url(#clip6901)\" style=\"stroke:#000000; stroke-width:4; stroke-opacity:1; fill:none\" points=\"\n",
       "  224.386,495.231 243.839,495.231 \n",
       "  \"/>\n",
       "<polyline clip-path=\"url(#clip6901)\" style=\"stroke:#000000; stroke-width:4; stroke-opacity:1; fill:none\" points=\"\n",
       "  224.386,238.697 243.839,238.697 \n",
       "  \"/>\n",
       "<g clip-path=\"url(#clip6901)\">\n",
       "<text style=\"fill:#000000; fill-opacity:1; font-family:Arial,Helvetica Neue,Helvetica,sans-serif; font-size:48px; text-anchor:middle;\" transform=\"rotate(0, 261.09, 1086.29)\" x=\"261.09\" y=\"1086.29\">0.0</text>\n",
       "</g>\n",
       "<g clip-path=\"url(#clip6901)\">\n",
       "<text style=\"fill:#000000; fill-opacity:1; font-family:Arial,Helvetica Neue,Helvetica,sans-serif; font-size:48px; text-anchor:middle;\" transform=\"rotate(0, 566.957, 1086.29)\" x=\"566.957\" y=\"1086.29\">0.5</text>\n",
       "</g>\n",
       "<g clip-path=\"url(#clip6901)\">\n",
       "<text style=\"fill:#000000; fill-opacity:1; font-family:Arial,Helvetica Neue,Helvetica,sans-serif; font-size:48px; text-anchor:middle;\" transform=\"rotate(0, 872.823, 1086.29)\" x=\"872.823\" y=\"1086.29\">1.0</text>\n",
       "</g>\n",
       "<g clip-path=\"url(#clip6901)\">\n",
       "<text style=\"fill:#000000; fill-opacity:1; font-family:Arial,Helvetica Neue,Helvetica,sans-serif; font-size:48px; text-anchor:middle;\" transform=\"rotate(0, 1178.69, 1086.29)\" x=\"1178.69\" y=\"1086.29\">1.5</text>\n",
       "</g>\n",
       "<g clip-path=\"url(#clip6901)\">\n",
       "<text style=\"fill:#000000; fill-opacity:1; font-family:Arial,Helvetica Neue,Helvetica,sans-serif; font-size:48px; text-anchor:middle;\" transform=\"rotate(0, 1484.56, 1086.29)\" x=\"1484.56\" y=\"1086.29\">2.0</text>\n",
       "</g>\n",
       "<g clip-path=\"url(#clip6901)\">\n",
       "<text style=\"fill:#000000; fill-opacity:1; font-family:Arial,Helvetica Neue,Helvetica,sans-serif; font-size:48px; text-anchor:end;\" transform=\"rotate(0, 208.386, 1025.8)\" x=\"208.386\" y=\"1025.8\">0.0</text>\n",
       "</g>\n",
       "<g clip-path=\"url(#clip6901)\">\n",
       "<text style=\"fill:#000000; fill-opacity:1; font-family:Arial,Helvetica Neue,Helvetica,sans-serif; font-size:48px; text-anchor:end;\" transform=\"rotate(0, 208.386, 769.265)\" x=\"208.386\" y=\"769.265\">0.5</text>\n",
       "</g>\n",
       "<g clip-path=\"url(#clip6901)\">\n",
       "<text style=\"fill:#000000; fill-opacity:1; font-family:Arial,Helvetica Neue,Helvetica,sans-serif; font-size:48px; text-anchor:end;\" transform=\"rotate(0, 208.386, 512.731)\" x=\"208.386\" y=\"512.731\">1.0</text>\n",
       "</g>\n",
       "<g clip-path=\"url(#clip6901)\">\n",
       "<text style=\"fill:#000000; fill-opacity:1; font-family:Arial,Helvetica Neue,Helvetica,sans-serif; font-size:48px; text-anchor:end;\" transform=\"rotate(0, 208.386, 256.197)\" x=\"208.386\" y=\"256.197\">1.5</text>\n",
       "</g>\n",
       "<g clip-path=\"url(#clip6901)\">\n",
       "<text style=\"fill:#000000; fill-opacity:1; font-family:Arial,Helvetica Neue,Helvetica,sans-serif; font-size:66px; text-anchor:middle;\" transform=\"rotate(0, 872.823, 1190.4)\" x=\"872.823\" y=\"1190.4\">x</text>\n",
       "</g>\n",
       "<g clip-path=\"url(#clip6901)\">\n",
       "<text style=\"fill:#000000; fill-opacity:1; font-family:Arial,Helvetica Neue,Helvetica,sans-serif; font-size:66px; text-anchor:middle;\" transform=\"rotate(-90, 57.6, 541.768)\" x=\"57.6\" y=\"541.768\">f(x)</text>\n",
       "</g>\n",
       "<polyline clip-path=\"url(#clip6903)\" style=\"stroke:#009af9; stroke-width:4; stroke-opacity:1; fill:none\" points=\"\n",
       "  261.09,1008.3 322.263,1003.18 383.437,987.913 444.61,962.812 505.783,928.38 566.957,885.31 628.13,834.479 689.303,776.93 750.476,713.857 811.65,646.589 \n",
       "  872.823,576.567 933.996,505.324 995.17,434.46 1056.34,365.617 1117.52,300.455 1178.69,240.625 1239.86,187.74 1301.04,143.353 1362.21,108.929 1423.38,85.8179 \n",
       "  1484.56,75.236 \n",
       "  \"/>\n",
       "<polygon clip-path=\"url(#clip6903)\" points=\"\n",
       "566.957,885.31 628.13,834.479 689.303,776.93 750.476,713.857 811.65,646.589 872.823,576.567 933.996,505.324 995.17,434.46 1056.34,365.617 1117.52,300.455 \n",
       "  1178.69,240.625 1239.86,187.74 1301.04,143.353 1362.21,108.929 1423.38,85.8179 1484.56,75.236 1484.56,1008.3 1423.38,1008.3 1362.21,1008.3 1301.04,1008.3 \n",
       "  1239.86,1008.3 1178.69,1008.3 1117.52,1008.3 1056.34,1008.3 995.17,1008.3 933.996,1008.3 872.823,1008.3 811.65,1008.3 750.476,1008.3 689.303,1008.3 \n",
       "  628.13,1008.3 566.957,1008.3 \n",
       "  \" fill=\"#808080\" fill-opacity=\"0.3\"/>\n",
       "<polyline clip-path=\"url(#clip6903)\" style=\"stroke:#e26f46; stroke-width:4; stroke-opacity:0.3; fill:none\" points=\"\n",
       "  566.957,885.31 628.13,834.479 689.303,776.93 750.476,713.857 811.65,646.589 872.823,576.567 933.996,505.324 995.17,434.46 1056.34,365.617 1117.52,300.455 \n",
       "  1178.69,240.625 1239.86,187.74 1301.04,143.353 1362.21,108.929 1423.38,85.8179 1484.56,75.236 \n",
       "  \"/>\n",
       "<polygon clip-path=\"url(#clip6901)\" points=\"\n",
       "1152.73,203.724 1473.26,203.724 1473.26,82.7641 1152.73,82.7641 \n",
       "  \" fill=\"#ffffff\" fill-opacity=\"1\"/>\n",
       "<polyline clip-path=\"url(#clip6901)\" style=\"stroke:#000000; stroke-width:4; stroke-opacity:1; fill:none\" points=\"\n",
       "  1152.73,203.724 1473.26,203.724 1473.26,82.7641 1152.73,82.7641 1152.73,203.724 \n",
       "  \"/>\n",
       "<polyline clip-path=\"url(#clip6901)\" style=\"stroke:#009af9; stroke-width:4; stroke-opacity:1; fill:none\" points=\"\n",
       "  1168.73,143.244 1264.73,143.244 \n",
       "  \"/>\n",
       "<g clip-path=\"url(#clip6901)\">\n",
       "<text style=\"fill:#000000; fill-opacity:1; font-family:Arial,Helvetica Neue,Helvetica,sans-serif; font-size:48px; text-anchor:start;\" transform=\"rotate(0, 1280.73, 160.744)\" x=\"1280.73\" y=\"160.744\">Função</text>\n",
       "</g>\n",
       "</svg>\n"
      ]
     },
     "execution_count": 71,
     "metadata": {},
     "output_type": "execute_result"
    }
   ],
   "source": [
    "plot(0:0.1:2,  f8, label = \"Função\", xlabel = \"x\", ylabel = \"f(x)\" )\n",
    "plot!(0.5:0.1:2, f8, fill = (0,:grey), opacity = 0.3, label = \"\", size = (400, 300))"
   ]
  },
  {
   "cell_type": "code",
   "execution_count": 72,
   "metadata": {
    "collapsed": false,
    "scrolled": true
   },
   "outputs": [
    {
     "data": {
      "text/latex": [
       "\\begin{equation*}-0.0406342576590166 - 2 \\cos{\\left (2 \\right )} + \\sin{\\left (2 \\right )}\\end{equation*}"
      ],
      "text/plain": [
       "-0.0406342576590166 - 2⋅cos(2) + sin(2)"
      ]
     },
     "execution_count": 72,
     "metadata": {},
     "output_type": "execute_result"
    }
   ],
   "source": [
    "integrate(f8(x), x, 0.5, 2)"
   ]
  },
  {
   "cell_type": "markdown",
   "metadata": {},
   "source": [
    "O resultado da integração é simbólico. Caso seja necessário, podemos transformar o resultado em `float` da seguinte forma:"
   ]
  },
  {
   "cell_type": "code",
   "execution_count": 74,
   "metadata": {
    "collapsed": false,
    "scrolled": true
   },
   "outputs": [
    {
     "data": {
      "text/plain": [
       "1.7009568422609498"
      ]
     },
     "execution_count": 74,
     "metadata": {},
     "output_type": "execute_result"
    }
   ],
   "source": [
    "float(integrate(f8(x), x, 0.5, 2))"
   ]
  },
  {
   "cell_type": "markdown",
   "metadata": {},
   "source": [
    "** Outra forma de escrever a integral e resolve-la**"
   ]
  },
  {
   "cell_type": "code",
   "execution_count": 75,
   "metadata": {
    "collapsed": false
   },
   "outputs": [
    {
     "data": {
      "text/latex": [
       "\\begin{equation*}\\int\\limits_{0.5}^{2} x \\sin{\\left (x \\right )}\\, dx\\end{equation*}"
      ],
      "text/plain": [
       " 2             \n",
       " ⌠             \n",
       " ⎮  x⋅sin(x) dx\n",
       " ⌡             \n",
       "0.5            "
      ]
     },
     "execution_count": 75,
     "metadata": {},
     "output_type": "execute_result"
    }
   ],
   "source": [
    "integ = Integral(f8(x), (x, 0.5, 2))"
   ]
  },
  {
   "cell_type": "code",
   "execution_count": 76,
   "metadata": {
    "collapsed": false
   },
   "outputs": [
    {
     "data": {
      "text/latex": [
       "\\begin{equation*}-0.0406342576590166 - 2 \\cos{\\left (2 \\right )} + \\sin{\\left (2 \\right )}\\end{equation*}"
      ],
      "text/plain": [
       "-0.0406342576590166 - 2⋅cos(2) + sin(2)"
      ]
     },
     "execution_count": 76,
     "metadata": {},
     "output_type": "execute_result"
    }
   ],
   "source": [
    "# resolver a integral\n",
    "doit(integ)"
   ]
  },
  {
   "cell_type": "code",
   "execution_count": 77,
   "metadata": {
    "collapsed": false,
    "scrolled": true
   },
   "outputs": [
    {
     "data": {
      "text/plain": [
       "1.7009568422609498"
      ]
     },
     "execution_count": 77,
     "metadata": {},
     "output_type": "execute_result"
    }
   ],
   "source": [
    "float(doit(integ))"
   ]
  },
  {
   "cell_type": "markdown",
   "metadata": {},
   "source": [
    "### POLINÔMIOS\n",
    "\n",
    "Realiza a integração dos termos de um polinômio $p$ por termo e opcionalmente adiciona um termo constante $k$. É importante observar que o `SymPy.jl` também importa as funções de manipulação de polinômos `Poly()`, `coeffs()`, `poly()` e `degree()`. Dessa forma, é necessário a sintaxe `Polynomials.função()` quando utilizamos juntos os pacote `Polinomials.jl` e `SymPy.jl`. A função `polyint()` retorna resultado do tipo `Polynomials.Poly{Int64}` manipulável semelhante a uma expressão algébrica simbólia criada pelo `SymPy.jl`.Sintaxe:\n",
    "```julia\n",
    "polyint(Polynomials.Poly([a_0, a_1, a_2 ... , a_n], k)\n",
    "```\n",
    "Sendo:\n",
    "* **[a_0, a_1, a_2 ... , a_n]**: vetor dos termos do polinômio;\n",
    "* **C**: constante de integração."
   ]
  },
  {
   "cell_type": "markdown",
   "metadata": {},
   "source": [
    "Exemplo: Calcular a integral do polinômio $p(x) = x^2 - 2 \\cdot x$"
   ]
  },
  {
   "cell_type": "code",
   "execution_count": 1,
   "metadata": {
    "collapsed": true
   },
   "outputs": [],
   "source": [
    "using Polynomials"
   ]
  },
  {
   "cell_type": "code",
   "execution_count": 34,
   "metadata": {
    "collapsed": false,
    "scrolled": false
   },
   "outputs": [
    {
     "data": {
      "text/html": [
       "&#45;2.0&#8729;x &#43; 0.3333333333333333&#8729;x^3"
      ],
      "text/latex": [
       "$-2.0\\cdot x + 0.3333333333333333\\cdot x^{3}$"
      ],
      "text/plain": [
       "Poly(-2.0*x + 0.3333333333333333*x^3)"
      ]
     },
     "execution_count": 34,
     "metadata": {},
     "output_type": "execute_result"
    }
   ],
   "source": [
    "dpi = polyint(Polynomials.Poly([-2, 0, 1]))"
   ]
  },
  {
   "cell_type": "markdown",
   "metadata": {},
   "source": [
    "Uma constante $k$ pode ser introduzida ao resultado:"
   ]
  },
  {
   "cell_type": "code",
   "execution_count": 37,
   "metadata": {
    "collapsed": false,
    "scrolled": true
   },
   "outputs": [
    {
     "data": {
      "text/html": [
       "1.0 &#45; 2.0&#8729;x &#43; 0.3333333333333333&#8729;x^3"
      ],
      "text/latex": [
       "$1.0 - 2.0\\cdot x + 0.3333333333333333\\cdot x^{3}$"
      ],
      "text/plain": [
       "Poly(1.0 - 2.0*x + 0.3333333333333333*x^3)"
      ]
     },
     "execution_count": 37,
     "metadata": {},
     "output_type": "execute_result"
    }
   ],
   "source": [
    "dpi = polyint(Polynomials.Poly([-2, 0, 1]), 1)"
   ]
  },
  {
   "cell_type": "markdown",
   "metadata": {},
   "source": [
    "O resultado é manipulável, semelhante a uma expressão algébrica simbólia criada pelo `SymPy.jl` no qual podemos passar um valor."
   ]
  },
  {
   "cell_type": "code",
   "execution_count": 38,
   "metadata": {
    "collapsed": false
   },
   "outputs": [
    {
     "data": {
      "text/plain": [
       "1.0"
      ]
     },
     "execution_count": 38,
     "metadata": {},
     "output_type": "execute_result"
    }
   ],
   "source": [
    "dpi(0)"
   ]
  },
  {
   "cell_type": "markdown",
   "metadata": {},
   "source": [
    "Para atribuir o resultado da função `polyder()` à uma função genérica use:\n",
    "```julia\n",
    "@eval função_nome(x) = $(Meta.parse(string(polyint(Polynomials.Poly([a_0, a_1, a_2 ... , a_n])))))\n",
    "```"
   ]
  },
  {
   "cell_type": "code",
   "execution_count": 15,
   "metadata": {
    "collapsed": false,
    "scrolled": false
   },
   "outputs": [
    {
     "data": {
      "text/plain": [
       "fdpi (generic function with 1 method)"
      ]
     },
     "execution_count": 15,
     "metadata": {},
     "output_type": "execute_result"
    }
   ],
   "source": [
    "@eval fdpi(x) = $(Meta.parse(string(polyint(Polynomials.Poly([-2, 0, 1]), 1))))"
   ]
  },
  {
   "cell_type": "code",
   "execution_count": 16,
   "metadata": {
    "collapsed": false
   },
   "outputs": [
    {
     "data": {
      "text/html": [
       "1.0"
      ],
      "text/latex": [
       "$1.0$"
      ],
      "text/plain": [
       "Poly(1.0)"
      ]
     },
     "execution_count": 16,
     "metadata": {},
     "output_type": "execute_result"
    }
   ],
   "source": [
    "fdpi(0)"
   ]
  },
  {
   "cell_type": "markdown",
   "metadata": {},
   "source": [
    "### INTEGRAL NUMÉRICA\n",
    "\n",
    "\"A integração numérica é necessária quando a integração analítica é difícil, ou mesmo impossível, e quando o integrando é fornecido como um conjunto discreto de pontos\" (GILAT; SUBRAMANIAM, 2008).\n"
   ]
  },
  {
   "cell_type": "markdown",
   "metadata": {},
   "source": [
    "#### USANDO A FUNÇÃO QUADGK\n",
    "\n",
    "A função `quadgk()` utiliza a técnica de integração Gauss-Kronrod. O resultado é uma tupla `(valor, erro)`. Sintaxe:\n",
    "```julia\n",
    "valor_integral, erro = quadgk(f, a, b, reltol, abstol, maxevals, order)\n",
    "```\n",
    "* ** f**: função matemática $f(x)$ expressa como uma expressão algébrica simbólica ou uma função genérica ou anônima;\n",
    "* ** a, b**: limites de integração função $f$;\n",
    "* ** reltol**: tolerância do erro relativo (padrão sqrt(eps));\n",
    "* ** abstol**: tolerância do erro absoluto (padrão 0);\n",
    "* ** maxevals**:número máximo de avaliações da função (padrão 1e7);\n",
    "* ** order**: ordem da regra de integração (padrão 7).\n",
    "\n",
    "obs: Use `quadgk(f, a, b )`. Se executar `quadgk(f(x), a, b )` sem o `SymPy`  carregado ocorre erro. Para instalar o pacote use: \n",
    "```julia \n",
    "using Pkg\n",
    "Pkg.add(\"QuadGK\")\n",
    "```"
   ]
  },
  {
   "cell_type": "markdown",
   "metadata": {},
   "source": [
    "Exemplo: Calcular a integral $ \\displaystyle \\int_{0.5}^{2} {sin(x)\\cdot x} ~ dx $"
   ]
  },
  {
   "cell_type": "code",
   "execution_count": 1,
   "metadata": {
    "collapsed": false,
    "scrolled": true
   },
   "outputs": [
    {
     "data": {
      "text/plain": [
       "f8 (generic function with 1 method)"
      ]
     },
     "execution_count": 1,
     "metadata": {},
     "output_type": "execute_result"
    }
   ],
   "source": [
    "f8(x) = sin(x)*x"
   ]
  },
  {
   "cell_type": "code",
   "execution_count": 2,
   "metadata": {
    "collapsed": false,
    "scrolled": false
   },
   "outputs": [
    {
     "ename": "ArgumentError",
     "evalue": "ArgumentError: Package QuadGK not found in current path:\n- Run `import Pkg; Pkg.add(\"QuadGK\")` to install the QuadGK package.\n",
     "output_type": "error",
     "traceback": [
      "ArgumentError: Package QuadGK not found in current path:\n- Run `import Pkg; Pkg.add(\"QuadGK\")` to install the QuadGK package.\n",
      "",
      "Stacktrace:",
      " [1] require(::Module, ::Symbol) at ./loading.jl:823",
      " [2] top-level scope at In[2]:1"
     ]
    }
   ],
   "source": [
    "using Plots, QuadGK\n",
    "gr()"
   ]
  },
  {
   "cell_type": "code",
   "execution_count": 6,
   "metadata": {
    "collapsed": false
   },
   "outputs": [
    {
     "data": {
      "image/svg+xml": [
       "<?xml version=\"1.0\" encoding=\"utf-8\"?>\n",
       "<svg xmlns=\"http://www.w3.org/2000/svg\" xmlns:xlink=\"http://www.w3.org/1999/xlink\" width=\"400\" height=\"300\" viewBox=\"0 0 1600 1200\">\n",
       "<defs>\n",
       "  <clipPath id=\"clip6100\">\n",
       "    <rect x=\"0\" y=\"0\" width=\"2000\" height=\"2000\"/>\n",
       "  </clipPath>\n",
       "</defs>\n",
       "<defs>\n",
       "  <clipPath id=\"clip6101\">\n",
       "    <rect x=\"0\" y=\"0\" width=\"1600\" height=\"1200\"/>\n",
       "  </clipPath>\n",
       "</defs>\n",
       "<polygon clip-path=\"url(#clip6101)\" points=\"\n",
       "0,1200 1600,1200 1600,0 0,0 \n",
       "  \" fill=\"#ffffff\" fill-rule=\"evenodd\" fill-opacity=\"1\"/>\n",
       "<defs>\n",
       "  <clipPath id=\"clip6102\">\n",
       "    <rect x=\"320\" y=\"0\" width=\"1121\" height=\"1121\"/>\n",
       "  </clipPath>\n",
       "</defs>\n",
       "<polygon clip-path=\"url(#clip6101)\" points=\"\n",
       "224.386,1036.29 1521.26,1036.29 1521.26,47.2441 224.386,47.2441 \n",
       "  \" fill=\"#ffffff\" fill-rule=\"evenodd\" fill-opacity=\"1\"/>\n",
       "<defs>\n",
       "  <clipPath id=\"clip6103\">\n",
       "    <rect x=\"224\" y=\"47\" width=\"1298\" height=\"990\"/>\n",
       "  </clipPath>\n",
       "</defs>\n",
       "<polyline clip-path=\"url(#clip6103)\" style=\"stroke:#000000; stroke-width:2; stroke-opacity:0.1; fill:none\" points=\"\n",
       "  261.09,1036.29 261.09,47.2441 \n",
       "  \"/>\n",
       "<polyline clip-path=\"url(#clip6103)\" style=\"stroke:#000000; stroke-width:2; stroke-opacity:0.1; fill:none\" points=\"\n",
       "  566.957,1036.29 566.957,47.2441 \n",
       "  \"/>\n",
       "<polyline clip-path=\"url(#clip6103)\" style=\"stroke:#000000; stroke-width:2; stroke-opacity:0.1; fill:none\" points=\"\n",
       "  872.823,1036.29 872.823,47.2441 \n",
       "  \"/>\n",
       "<polyline clip-path=\"url(#clip6103)\" style=\"stroke:#000000; stroke-width:2; stroke-opacity:0.1; fill:none\" points=\"\n",
       "  1178.69,1036.29 1178.69,47.2441 \n",
       "  \"/>\n",
       "<polyline clip-path=\"url(#clip6103)\" style=\"stroke:#000000; stroke-width:2; stroke-opacity:0.1; fill:none\" points=\"\n",
       "  1484.56,1036.29 1484.56,47.2441 \n",
       "  \"/>\n",
       "<polyline clip-path=\"url(#clip6103)\" style=\"stroke:#000000; stroke-width:2; stroke-opacity:0.1; fill:none\" points=\"\n",
       "  224.386,1008.3 1521.26,1008.3 \n",
       "  \"/>\n",
       "<polyline clip-path=\"url(#clip6103)\" style=\"stroke:#000000; stroke-width:2; stroke-opacity:0.1; fill:none\" points=\"\n",
       "  224.386,751.765 1521.26,751.765 \n",
       "  \"/>\n",
       "<polyline clip-path=\"url(#clip6103)\" style=\"stroke:#000000; stroke-width:2; stroke-opacity:0.1; fill:none\" points=\"\n",
       "  224.386,495.231 1521.26,495.231 \n",
       "  \"/>\n",
       "<polyline clip-path=\"url(#clip6103)\" style=\"stroke:#000000; stroke-width:2; stroke-opacity:0.1; fill:none\" points=\"\n",
       "  224.386,238.697 1521.26,238.697 \n",
       "  \"/>\n",
       "<polyline clip-path=\"url(#clip6101)\" style=\"stroke:#000000; stroke-width:4; stroke-opacity:1; fill:none\" points=\"\n",
       "  224.386,1036.29 1521.26,1036.29 \n",
       "  \"/>\n",
       "<polyline clip-path=\"url(#clip6101)\" style=\"stroke:#000000; stroke-width:4; stroke-opacity:1; fill:none\" points=\"\n",
       "  224.386,1036.29 224.386,47.2441 \n",
       "  \"/>\n",
       "<polyline clip-path=\"url(#clip6101)\" style=\"stroke:#000000; stroke-width:4; stroke-opacity:1; fill:none\" points=\"\n",
       "  261.09,1036.29 261.09,1021.46 \n",
       "  \"/>\n",
       "<polyline clip-path=\"url(#clip6101)\" style=\"stroke:#000000; stroke-width:4; stroke-opacity:1; fill:none\" points=\"\n",
       "  566.957,1036.29 566.957,1021.46 \n",
       "  \"/>\n",
       "<polyline clip-path=\"url(#clip6101)\" style=\"stroke:#000000; stroke-width:4; stroke-opacity:1; fill:none\" points=\"\n",
       "  872.823,1036.29 872.823,1021.46 \n",
       "  \"/>\n",
       "<polyline clip-path=\"url(#clip6101)\" style=\"stroke:#000000; stroke-width:4; stroke-opacity:1; fill:none\" points=\"\n",
       "  1178.69,1036.29 1178.69,1021.46 \n",
       "  \"/>\n",
       "<polyline clip-path=\"url(#clip6101)\" style=\"stroke:#000000; stroke-width:4; stroke-opacity:1; fill:none\" points=\"\n",
       "  1484.56,1036.29 1484.56,1021.46 \n",
       "  \"/>\n",
       "<polyline clip-path=\"url(#clip6101)\" style=\"stroke:#000000; stroke-width:4; stroke-opacity:1; fill:none\" points=\"\n",
       "  224.386,1008.3 243.839,1008.3 \n",
       "  \"/>\n",
       "<polyline clip-path=\"url(#clip6101)\" style=\"stroke:#000000; stroke-width:4; stroke-opacity:1; fill:none\" points=\"\n",
       "  224.386,751.765 243.839,751.765 \n",
       "  \"/>\n",
       "<polyline clip-path=\"url(#clip6101)\" style=\"stroke:#000000; stroke-width:4; stroke-opacity:1; fill:none\" points=\"\n",
       "  224.386,495.231 243.839,495.231 \n",
       "  \"/>\n",
       "<polyline clip-path=\"url(#clip6101)\" style=\"stroke:#000000; stroke-width:4; stroke-opacity:1; fill:none\" points=\"\n",
       "  224.386,238.697 243.839,238.697 \n",
       "  \"/>\n",
       "<g clip-path=\"url(#clip6101)\">\n",
       "<text style=\"fill:#000000; fill-opacity:1; font-family:Arial,Helvetica Neue,Helvetica,sans-serif; font-size:48px; text-anchor:middle;\" transform=\"rotate(0, 261.09, 1086.29)\" x=\"261.09\" y=\"1086.29\">0.0</text>\n",
       "</g>\n",
       "<g clip-path=\"url(#clip6101)\">\n",
       "<text style=\"fill:#000000; fill-opacity:1; font-family:Arial,Helvetica Neue,Helvetica,sans-serif; font-size:48px; text-anchor:middle;\" transform=\"rotate(0, 566.957, 1086.29)\" x=\"566.957\" y=\"1086.29\">0.5</text>\n",
       "</g>\n",
       "<g clip-path=\"url(#clip6101)\">\n",
       "<text style=\"fill:#000000; fill-opacity:1; font-family:Arial,Helvetica Neue,Helvetica,sans-serif; font-size:48px; text-anchor:middle;\" transform=\"rotate(0, 872.823, 1086.29)\" x=\"872.823\" y=\"1086.29\">1.0</text>\n",
       "</g>\n",
       "<g clip-path=\"url(#clip6101)\">\n",
       "<text style=\"fill:#000000; fill-opacity:1; font-family:Arial,Helvetica Neue,Helvetica,sans-serif; font-size:48px; text-anchor:middle;\" transform=\"rotate(0, 1178.69, 1086.29)\" x=\"1178.69\" y=\"1086.29\">1.5</text>\n",
       "</g>\n",
       "<g clip-path=\"url(#clip6101)\">\n",
       "<text style=\"fill:#000000; fill-opacity:1; font-family:Arial,Helvetica Neue,Helvetica,sans-serif; font-size:48px; text-anchor:middle;\" transform=\"rotate(0, 1484.56, 1086.29)\" x=\"1484.56\" y=\"1086.29\">2.0</text>\n",
       "</g>\n",
       "<g clip-path=\"url(#clip6101)\">\n",
       "<text style=\"fill:#000000; fill-opacity:1; font-family:Arial,Helvetica Neue,Helvetica,sans-serif; font-size:48px; text-anchor:end;\" transform=\"rotate(0, 208.386, 1025.8)\" x=\"208.386\" y=\"1025.8\">0.0</text>\n",
       "</g>\n",
       "<g clip-path=\"url(#clip6101)\">\n",
       "<text style=\"fill:#000000; fill-opacity:1; font-family:Arial,Helvetica Neue,Helvetica,sans-serif; font-size:48px; text-anchor:end;\" transform=\"rotate(0, 208.386, 769.265)\" x=\"208.386\" y=\"769.265\">0.5</text>\n",
       "</g>\n",
       "<g clip-path=\"url(#clip6101)\">\n",
       "<text style=\"fill:#000000; fill-opacity:1; font-family:Arial,Helvetica Neue,Helvetica,sans-serif; font-size:48px; text-anchor:end;\" transform=\"rotate(0, 208.386, 512.731)\" x=\"208.386\" y=\"512.731\">1.0</text>\n",
       "</g>\n",
       "<g clip-path=\"url(#clip6101)\">\n",
       "<text style=\"fill:#000000; fill-opacity:1; font-family:Arial,Helvetica Neue,Helvetica,sans-serif; font-size:48px; text-anchor:end;\" transform=\"rotate(0, 208.386, 256.197)\" x=\"208.386\" y=\"256.197\">1.5</text>\n",
       "</g>\n",
       "<g clip-path=\"url(#clip6101)\">\n",
       "<text style=\"fill:#000000; fill-opacity:1; font-family:Arial,Helvetica Neue,Helvetica,sans-serif; font-size:66px; text-anchor:middle;\" transform=\"rotate(0, 872.823, 1190.4)\" x=\"872.823\" y=\"1190.4\">x</text>\n",
       "</g>\n",
       "<g clip-path=\"url(#clip6101)\">\n",
       "<text style=\"fill:#000000; fill-opacity:1; font-family:Arial,Helvetica Neue,Helvetica,sans-serif; font-size:66px; text-anchor:middle;\" transform=\"rotate(-90, 57.6, 541.768)\" x=\"57.6\" y=\"541.768\">f(x)</text>\n",
       "</g>\n",
       "<polyline clip-path=\"url(#clip6103)\" style=\"stroke:#009af9; stroke-width:4; stroke-opacity:1; fill:none\" points=\"\n",
       "  261.09,1008.3 322.263,1003.18 383.437,987.913 444.61,962.812 505.783,928.38 566.957,885.31 628.13,834.479 689.303,776.93 750.476,713.857 811.65,646.589 \n",
       "  872.823,576.567 933.996,505.324 995.17,434.46 1056.34,365.617 1117.52,300.455 1178.69,240.625 1239.86,187.74 1301.04,143.353 1362.21,108.929 1423.38,85.8179 \n",
       "  1484.56,75.236 \n",
       "  \"/>\n",
       "<polygon clip-path=\"url(#clip6103)\" points=\"\n",
       "566.957,885.31 628.13,834.479 689.303,776.93 750.476,713.857 811.65,646.589 872.823,576.567 933.996,505.324 995.17,434.46 1056.34,365.617 1117.52,300.455 \n",
       "  1178.69,240.625 1239.86,187.74 1301.04,143.353 1362.21,108.929 1423.38,85.8179 1484.56,75.236 1484.56,1008.3 1423.38,1008.3 1362.21,1008.3 1301.04,1008.3 \n",
       "  1239.86,1008.3 1178.69,1008.3 1117.52,1008.3 1056.34,1008.3 995.17,1008.3 933.996,1008.3 872.823,1008.3 811.65,1008.3 750.476,1008.3 689.303,1008.3 \n",
       "  628.13,1008.3 566.957,1008.3 \n",
       "  \" fill=\"#808080\" fill-rule=\"evenodd\" fill-opacity=\"0.2\"/>\n",
       "<polyline clip-path=\"url(#clip6103)\" style=\"stroke:#e26f46; stroke-width:4; stroke-opacity:0.2; fill:none\" points=\"\n",
       "  566.957,885.31 628.13,834.479 689.303,776.93 750.476,713.857 811.65,646.589 872.823,576.567 933.996,505.324 995.17,434.46 1056.34,365.617 1117.52,300.455 \n",
       "  1178.69,240.625 1239.86,187.74 1301.04,143.353 1362.21,108.929 1423.38,85.8179 1484.56,75.236 \n",
       "  \"/>\n",
       "<polygon clip-path=\"url(#clip6101)\" points=\"\n",
       "1152.73,203.724 1473.26,203.724 1473.26,82.7641 1152.73,82.7641 \n",
       "  \" fill=\"#ffffff\" fill-rule=\"evenodd\" fill-opacity=\"1\"/>\n",
       "<polyline clip-path=\"url(#clip6101)\" style=\"stroke:#000000; stroke-width:4; stroke-opacity:1; fill:none\" points=\"\n",
       "  1152.73,203.724 1473.26,203.724 1473.26,82.7641 1152.73,82.7641 1152.73,203.724 \n",
       "  \"/>\n",
       "<polyline clip-path=\"url(#clip6101)\" style=\"stroke:#009af9; stroke-width:4; stroke-opacity:1; fill:none\" points=\"\n",
       "  1168.73,143.244 1264.73,143.244 \n",
       "  \"/>\n",
       "<g clip-path=\"url(#clip6101)\">\n",
       "<text style=\"fill:#000000; fill-opacity:1; font-family:Arial,Helvetica Neue,Helvetica,sans-serif; font-size:48px; text-anchor:start;\" transform=\"rotate(0, 1280.73, 160.744)\" x=\"1280.73\" y=\"160.744\">Função</text>\n",
       "</g>\n",
       "</svg>\n"
      ]
     },
     "execution_count": 6,
     "metadata": {},
     "output_type": "execute_result"
    }
   ],
   "source": [
    "plot(0:0.1:2,  f8, label = \"Função\", xlabel = \"x\", ylabel = \"f(x)\" )\n",
    "plot!(0.5:0.1:2, f8, fill=(0, :grey), opacity= 0.2, label = \"\", size = (400, 300))"
   ]
  },
  {
   "cell_type": "code",
   "execution_count": 7,
   "metadata": {
    "collapsed": false
   },
   "outputs": [
    {
     "ename": "UndefVarError",
     "evalue": "UndefVarError: quadgk not defined",
     "output_type": "error",
     "traceback": [
      "UndefVarError: quadgk not defined",
      "",
      "Stacktrace:",
      " [1] top-level scope at In[7]:1"
     ]
    }
   ],
   "source": [
    "quadgk(f8, 0.5, 2)"
   ]
  },
  {
   "cell_type": "markdown",
   "metadata": {},
   "source": [
    "Utilizando uma função anônima"
   ]
  },
  {
   "cell_type": "code",
   "execution_count": 8,
   "metadata": {
    "collapsed": false,
    "scrolled": true
   },
   "outputs": [
    {
     "ename": "UndefVarError",
     "evalue": "UndefVarError: quadgk not defined",
     "output_type": "error",
     "traceback": [
      "UndefVarError: quadgk not defined",
      "",
      "Stacktrace:",
      " [1] top-level scope at In[8]:1"
     ]
    }
   ],
   "source": [
    "quadgk(x -> sin(x)*x, 0.5, 2)"
   ]
  },
  {
   "cell_type": "markdown",
   "metadata": {},
   "source": [
    "#### USANDO O PACOTE CUBATURE \n",
    "é possível utilizar função anônima\n",
    "\n",
    "Sintaxe:\n",
    "```julia\n",
    "valor, erro = hquadrature(f, a_1, b_1 , reltol, abstol, maxevals)\n",
    "```\n",
    "* ** f**: função matemática $f(x)$ expressa como uma expressão algébrica simbólica ou uma função genérica ou anônima;\n",
    "* ** a_1, b_1**: limites de integração função $f$.\n",
    "* ** reltol**: tolerância do erro relativo (1e-8 padrão);\n",
    "* ** abstol**: tolerância do erro absoluto (0 padrão);\n",
    "* ** maxevals**: número máximo de avaliações da função (0 padrão).\n",
    "\n",
    "O comando hquadrature retorna o valor da integral e o erro (quanto menor, mais preciso é o calculo). Para instalar use: \n",
    "```julia \n",
    "using Pkg\n",
    "Pkg.add(\"HCubature\")\n",
    "```"
   ]
  },
  {
   "cell_type": "code",
   "execution_count": 9,
   "metadata": {
    "collapsed": false
   },
   "outputs": [
    {
     "name": "stderr",
     "output_type": "stream",
     "text": [
      "┌ Info: Precompiling HCubature [19dc6840-f33b-545b-b366-655c7e3ffd49]\n",
      "└ @ Base loading.jl:1192\n"
     ]
    }
   ],
   "source": [
    "using HCubature"
   ]
  },
  {
   "cell_type": "code",
   "execution_count": 10,
   "metadata": {
    "collapsed": false
   },
   "outputs": [
    {
     "data": {
      "text/plain": [
       "f8 (generic function with 1 method)"
      ]
     },
     "execution_count": 10,
     "metadata": {},
     "output_type": "execute_result"
    }
   ],
   "source": [
    "f8(x) = sin(x)*x"
   ]
  },
  {
   "cell_type": "code",
   "execution_count": 11,
   "metadata": {
    "collapsed": false,
    "scrolled": true
   },
   "outputs": [
    {
     "data": {
      "text/plain": [
       "(1.70095684226095, 4.440892098500626e-16)"
      ]
     },
     "execution_count": 11,
     "metadata": {},
     "output_type": "execute_result"
    }
   ],
   "source": [
    "hquadrature(f8, 0.5, 2)"
   ]
  },
  {
   "cell_type": "markdown",
   "metadata": {},
   "source": [
    "** Utilizando uma função anônima**"
   ]
  },
  {
   "cell_type": "code",
   "execution_count": 12,
   "metadata": {
    "collapsed": false,
    "scrolled": true
   },
   "outputs": [
    {
     "data": {
      "text/plain": [
       "(1.70095684226095, 4.440892098500626e-16)"
      ]
     },
     "execution_count": 12,
     "metadata": {},
     "output_type": "execute_result"
    }
   ],
   "source": [
    "hquadrature(x -> sin(x)*x, 0.5, 2)"
   ]
  },
  {
   "cell_type": "markdown",
   "metadata": {},
   "source": [
    "### INTEGRAL IMPRÓPRIA\n",
    "\n",
    "\n",
    "De acordo com a definição de integral definida, Stewat(2010) informa que temos duas condições que condicionam uma integral imprópria:\n",
    "1. Quando o intervalo $[a,b]$ é infinito, ou seja,  $~{\\displaystyle \\int _{a}^{\\infty }f(x)\\,dx} ~$ , $~{\\displaystyle \\int _{\\infty }^{b}f(x)\\,dx}~$ , ${\\displaystyle \\int _{-\\infty}^{\\infty }f(x)\\,dx}~$\n",
    "2. Quando ocorre descontinuidade da função para o infinito em um intervalo $[a,b]$."
   ]
  },
  {
   "cell_type": "markdown",
   "metadata": {},
   "source": [
    "#### INTEGRAL IMPRÓPRIA SIMBÓLICA"
   ]
  },
  {
   "cell_type": "markdown",
   "metadata": {},
   "source": [
    "Exemplo 1\n",
    "\n",
    "$ \\displaystyle \\int_{-\\infty}^{\\infty} {1/(1 + x^2)} ~ dx $"
   ]
  },
  {
   "cell_type": "code",
   "execution_count": 13,
   "metadata": {
    "collapsed": false
   },
   "outputs": [
    {
     "data": {
      "text/plain": [
       "(x,)"
      ]
     },
     "execution_count": 13,
     "metadata": {},
     "output_type": "execute_result"
    }
   ],
   "source": [
    "using SymPy, Plots\n",
    "gr()\n",
    "\n",
    "@syms x"
   ]
  },
  {
   "cell_type": "code",
   "execution_count": 14,
   "metadata": {
    "collapsed": false
   },
   "outputs": [
    {
     "data": {
      "text/plain": [
       "f9 (generic function with 1 method)"
      ]
     },
     "execution_count": 14,
     "metadata": {},
     "output_type": "execute_result"
    }
   ],
   "source": [
    "f9(x) = 1/(1 + x^2)"
   ]
  },
  {
   "cell_type": "code",
   "execution_count": 15,
   "metadata": {
    "collapsed": false,
    "scrolled": false
   },
   "outputs": [
    {
     "data": {
      "image/svg+xml": [
       "<?xml version=\"1.0\" encoding=\"utf-8\"?>\n",
       "<svg xmlns=\"http://www.w3.org/2000/svg\" xmlns:xlink=\"http://www.w3.org/1999/xlink\" width=\"400\" height=\"300\" viewBox=\"0 0 1600 1200\">\n",
       "<defs>\n",
       "  <clipPath id=\"clip6300\">\n",
       "    <rect x=\"0\" y=\"0\" width=\"2000\" height=\"2000\"/>\n",
       "  </clipPath>\n",
       "</defs>\n",
       "<defs>\n",
       "  <clipPath id=\"clip6301\">\n",
       "    <rect x=\"0\" y=\"0\" width=\"1600\" height=\"1200\"/>\n",
       "  </clipPath>\n",
       "</defs>\n",
       "<polygon clip-path=\"url(#clip6301)\" points=\"\n",
       "0,1200 1600,1200 1600,0 0,0 \n",
       "  \" fill=\"#ffffff\" fill-rule=\"evenodd\" fill-opacity=\"1\"/>\n",
       "<defs>\n",
       "  <clipPath id=\"clip6302\">\n",
       "    <rect x=\"320\" y=\"0\" width=\"1121\" height=\"1121\"/>\n",
       "  </clipPath>\n",
       "</defs>\n",
       "<polygon clip-path=\"url(#clip6301)\" points=\"\n",
       "188.156,1099.28 1521.26,1099.28 1521.26,47.2441 188.156,47.2441 \n",
       "  \" fill=\"#ffffff\" fill-rule=\"evenodd\" fill-opacity=\"1\"/>\n",
       "<defs>\n",
       "  <clipPath id=\"clip6303\">\n",
       "    <rect x=\"188\" y=\"47\" width=\"1334\" height=\"1053\"/>\n",
       "  </clipPath>\n",
       "</defs>\n",
       "<polyline clip-path=\"url(#clip6303)\" style=\"stroke:#000000; stroke-width:2; stroke-opacity:0.1; fill:none\" points=\"\n",
       "  225.886,1099.28 225.886,47.2441 \n",
       "  \"/>\n",
       "<polyline clip-path=\"url(#clip6303)\" style=\"stroke:#000000; stroke-width:2; stroke-opacity:0.1; fill:none\" points=\"\n",
       "  540.297,1099.28 540.297,47.2441 \n",
       "  \"/>\n",
       "<polyline clip-path=\"url(#clip6303)\" style=\"stroke:#000000; stroke-width:2; stroke-opacity:0.1; fill:none\" points=\"\n",
       "  854.708,1099.28 854.708,47.2441 \n",
       "  \"/>\n",
       "<polyline clip-path=\"url(#clip6303)\" style=\"stroke:#000000; stroke-width:2; stroke-opacity:0.1; fill:none\" points=\"\n",
       "  1169.12,1099.28 1169.12,47.2441 \n",
       "  \"/>\n",
       "<polyline clip-path=\"url(#clip6303)\" style=\"stroke:#000000; stroke-width:2; stroke-opacity:0.1; fill:none\" points=\"\n",
       "  1483.53,1099.28 1483.53,47.2441 \n",
       "  \"/>\n",
       "<polyline clip-path=\"url(#clip6303)\" style=\"stroke:#000000; stroke-width:2; stroke-opacity:0.1; fill:none\" points=\"\n",
       "  188.156,1069.51 1521.26,1069.51 \n",
       "  \"/>\n",
       "<polyline clip-path=\"url(#clip6303)\" style=\"stroke:#000000; stroke-width:2; stroke-opacity:0.1; fill:none\" points=\"\n",
       "  188.156,821.386 1521.26,821.386 \n",
       "  \"/>\n",
       "<polyline clip-path=\"url(#clip6303)\" style=\"stroke:#000000; stroke-width:2; stroke-opacity:0.1; fill:none\" points=\"\n",
       "  188.156,573.264 1521.26,573.264 \n",
       "  \"/>\n",
       "<polyline clip-path=\"url(#clip6303)\" style=\"stroke:#000000; stroke-width:2; stroke-opacity:0.1; fill:none\" points=\"\n",
       "  188.156,325.141 1521.26,325.141 \n",
       "  \"/>\n",
       "<polyline clip-path=\"url(#clip6303)\" style=\"stroke:#000000; stroke-width:2; stroke-opacity:0.1; fill:none\" points=\"\n",
       "  188.156,77.0188 1521.26,77.0188 \n",
       "  \"/>\n",
       "<polyline clip-path=\"url(#clip6301)\" style=\"stroke:#000000; stroke-width:4; stroke-opacity:1; fill:none\" points=\"\n",
       "  188.156,1099.28 1521.26,1099.28 \n",
       "  \"/>\n",
       "<polyline clip-path=\"url(#clip6301)\" style=\"stroke:#000000; stroke-width:4; stroke-opacity:1; fill:none\" points=\"\n",
       "  188.156,1099.28 188.156,47.2441 \n",
       "  \"/>\n",
       "<polyline clip-path=\"url(#clip6301)\" style=\"stroke:#000000; stroke-width:4; stroke-opacity:1; fill:none\" points=\"\n",
       "  225.886,1099.28 225.886,1083.5 \n",
       "  \"/>\n",
       "<polyline clip-path=\"url(#clip6301)\" style=\"stroke:#000000; stroke-width:4; stroke-opacity:1; fill:none\" points=\"\n",
       "  540.297,1099.28 540.297,1083.5 \n",
       "  \"/>\n",
       "<polyline clip-path=\"url(#clip6301)\" style=\"stroke:#000000; stroke-width:4; stroke-opacity:1; fill:none\" points=\"\n",
       "  854.708,1099.28 854.708,1083.5 \n",
       "  \"/>\n",
       "<polyline clip-path=\"url(#clip6301)\" style=\"stroke:#000000; stroke-width:4; stroke-opacity:1; fill:none\" points=\"\n",
       "  1169.12,1099.28 1169.12,1083.5 \n",
       "  \"/>\n",
       "<polyline clip-path=\"url(#clip6301)\" style=\"stroke:#000000; stroke-width:4; stroke-opacity:1; fill:none\" points=\"\n",
       "  1483.53,1099.28 1483.53,1083.5 \n",
       "  \"/>\n",
       "<polyline clip-path=\"url(#clip6301)\" style=\"stroke:#000000; stroke-width:4; stroke-opacity:1; fill:none\" points=\"\n",
       "  188.156,1069.51 208.153,1069.51 \n",
       "  \"/>\n",
       "<polyline clip-path=\"url(#clip6301)\" style=\"stroke:#000000; stroke-width:4; stroke-opacity:1; fill:none\" points=\"\n",
       "  188.156,821.386 208.153,821.386 \n",
       "  \"/>\n",
       "<polyline clip-path=\"url(#clip6301)\" style=\"stroke:#000000; stroke-width:4; stroke-opacity:1; fill:none\" points=\"\n",
       "  188.156,573.264 208.153,573.264 \n",
       "  \"/>\n",
       "<polyline clip-path=\"url(#clip6301)\" style=\"stroke:#000000; stroke-width:4; stroke-opacity:1; fill:none\" points=\"\n",
       "  188.156,325.141 208.153,325.141 \n",
       "  \"/>\n",
       "<polyline clip-path=\"url(#clip6301)\" style=\"stroke:#000000; stroke-width:4; stroke-opacity:1; fill:none\" points=\"\n",
       "  188.156,77.0188 208.153,77.0188 \n",
       "  \"/>\n",
       "<g clip-path=\"url(#clip6301)\">\n",
       "<text style=\"fill:#000000; fill-opacity:1; font-family:Arial,Helvetica Neue,Helvetica,sans-serif; font-size:48px; text-anchor:middle;\" transform=\"rotate(0, 225.886, 1149.28)\" x=\"225.886\" y=\"1149.28\">-10.0</text>\n",
       "</g>\n",
       "<g clip-path=\"url(#clip6301)\">\n",
       "<text style=\"fill:#000000; fill-opacity:1; font-family:Arial,Helvetica Neue,Helvetica,sans-serif; font-size:48px; text-anchor:middle;\" transform=\"rotate(0, 540.297, 1149.28)\" x=\"540.297\" y=\"1149.28\">-7.5</text>\n",
       "</g>\n",
       "<g clip-path=\"url(#clip6301)\">\n",
       "<text style=\"fill:#000000; fill-opacity:1; font-family:Arial,Helvetica Neue,Helvetica,sans-serif; font-size:48px; text-anchor:middle;\" transform=\"rotate(0, 854.708, 1149.28)\" x=\"854.708\" y=\"1149.28\">-5.0</text>\n",
       "</g>\n",
       "<g clip-path=\"url(#clip6301)\">\n",
       "<text style=\"fill:#000000; fill-opacity:1; font-family:Arial,Helvetica Neue,Helvetica,sans-serif; font-size:48px; text-anchor:middle;\" transform=\"rotate(0, 1169.12, 1149.28)\" x=\"1169.12\" y=\"1149.28\">-2.5</text>\n",
       "</g>\n",
       "<g clip-path=\"url(#clip6301)\">\n",
       "<text style=\"fill:#000000; fill-opacity:1; font-family:Arial,Helvetica Neue,Helvetica,sans-serif; font-size:48px; text-anchor:middle;\" transform=\"rotate(0, 1483.53, 1149.28)\" x=\"1483.53\" y=\"1149.28\">0.0</text>\n",
       "</g>\n",
       "<g clip-path=\"url(#clip6301)\">\n",
       "<text style=\"fill:#000000; fill-opacity:1; font-family:Arial,Helvetica Neue,Helvetica,sans-serif; font-size:48px; text-anchor:end;\" transform=\"rotate(0, 172.156, 1087.01)\" x=\"172.156\" y=\"1087.01\">0.00</text>\n",
       "</g>\n",
       "<g clip-path=\"url(#clip6301)\">\n",
       "<text style=\"fill:#000000; fill-opacity:1; font-family:Arial,Helvetica Neue,Helvetica,sans-serif; font-size:48px; text-anchor:end;\" transform=\"rotate(0, 172.156, 838.886)\" x=\"172.156\" y=\"838.886\">0.25</text>\n",
       "</g>\n",
       "<g clip-path=\"url(#clip6301)\">\n",
       "<text style=\"fill:#000000; fill-opacity:1; font-family:Arial,Helvetica Neue,Helvetica,sans-serif; font-size:48px; text-anchor:end;\" transform=\"rotate(0, 172.156, 590.764)\" x=\"172.156\" y=\"590.764\">0.50</text>\n",
       "</g>\n",
       "<g clip-path=\"url(#clip6301)\">\n",
       "<text style=\"fill:#000000; fill-opacity:1; font-family:Arial,Helvetica Neue,Helvetica,sans-serif; font-size:48px; text-anchor:end;\" transform=\"rotate(0, 172.156, 342.641)\" x=\"172.156\" y=\"342.641\">0.75</text>\n",
       "</g>\n",
       "<g clip-path=\"url(#clip6301)\">\n",
       "<text style=\"fill:#000000; fill-opacity:1; font-family:Arial,Helvetica Neue,Helvetica,sans-serif; font-size:48px; text-anchor:end;\" transform=\"rotate(0, 172.156, 94.5188)\" x=\"172.156\" y=\"94.5188\">1.00</text>\n",
       "</g>\n",
       "<polyline clip-path=\"url(#clip6303)\" style=\"stroke:#009af9; stroke-width:4; stroke-opacity:1; fill:none\" points=\"\n",
       "  225.886,1059.68 238.462,1059.48 251.039,1059.28 263.615,1059.07 276.192,1058.85 288.768,1058.63 301.344,1058.4 313.921,1058.16 326.497,1057.92 339.074,1057.67 \n",
       "  351.65,1057.4 364.227,1057.13 376.803,1056.86 389.38,1056.57 401.956,1056.27 414.532,1055.96 427.109,1055.64 439.685,1055.31 452.262,1054.96 464.838,1054.61 \n",
       "  477.415,1054.24 489.991,1053.86 502.568,1053.46 515.144,1053.05 527.72,1052.62 540.297,1052.17 552.873,1051.71 565.45,1051.23 578.026,1050.73 590.603,1050.2 \n",
       "  603.179,1049.66 615.756,1049.09 628.332,1048.5 640.908,1047.88 653.485,1047.24 666.061,1046.56 678.638,1045.86 691.214,1045.12 703.791,1044.34 716.367,1043.53 \n",
       "  728.944,1042.68 741.52,1041.79 754.097,1040.86 766.673,1039.87 779.249,1038.84 791.826,1037.75 804.402,1036.6 816.979,1035.39 829.555,1034.11 842.132,1032.76 \n",
       "  854.708,1031.34 867.285,1029.82 879.861,1028.22 892.437,1026.52 905.014,1024.72 917.59,1022.8 930.167,1020.76 942.743,1018.59 955.32,1016.26 967.896,1013.78 \n",
       "  980.473,1011.13 993.049,1008.28 1005.63,1005.23 1018.2,1001.95 1030.78,998.413 1043.35,994.604 1055.93,990.489 1068.51,986.036 1081.08,981.209 1093.66,975.966 \n",
       "  1106.24,970.259 1118.81,964.037 1131.39,957.236 1143.97,949.787 1156.54,941.61 1169.12,932.613 1181.7,922.69 1194.27,911.72 1206.85,899.562 1219.43,886.054 \n",
       "  1232,871.01 1244.58,854.218 1257.15,835.431 1269.73,814.37 1282.31,790.719 1294.88,764.127 1307.46,734.208 1320.04,700.553 1332.61,662.75 1345.19,620.418 \n",
       "  1357.77,573.264 1370.34,521.172 1382.92,464.332 1395.5,403.408 1408.07,339.737 1420.65,275.517 1433.22,213.914 1445.8,158.967 1458.38,115.191 1470.95,86.8454 \n",
       "  1483.53,77.0188 \n",
       "  \"/>\n",
       "<polygon clip-path=\"url(#clip6303)\" points=\"\n",
       "225.886,1059.68 238.462,1059.48 251.039,1059.28 263.615,1059.07 276.192,1058.85 288.768,1058.63 301.344,1058.4 313.921,1058.16 326.497,1057.92 339.074,1057.67 \n",
       "  351.65,1057.4 364.227,1057.13 376.803,1056.86 389.38,1056.57 401.956,1056.27 414.532,1055.96 427.109,1055.64 439.685,1055.31 452.262,1054.96 464.838,1054.61 \n",
       "  477.415,1054.24 489.991,1053.86 502.568,1053.46 515.144,1053.05 527.72,1052.62 540.297,1052.17 552.873,1051.71 565.45,1051.23 578.026,1050.73 590.603,1050.2 \n",
       "  603.179,1049.66 615.756,1049.09 628.332,1048.5 640.908,1047.88 653.485,1047.24 666.061,1046.56 678.638,1045.86 691.214,1045.12 703.791,1044.34 716.367,1043.53 \n",
       "  728.944,1042.68 741.52,1041.79 754.097,1040.86 766.673,1039.87 779.249,1038.84 791.826,1037.75 804.402,1036.6 816.979,1035.39 829.555,1034.11 842.132,1032.76 \n",
       "  854.708,1031.34 867.285,1029.82 879.861,1028.22 892.437,1026.52 905.014,1024.72 917.59,1022.8 930.167,1020.76 942.743,1018.59 955.32,1016.26 967.896,1013.78 \n",
       "  980.473,1011.13 993.049,1008.28 1005.63,1005.23 1018.2,1001.95 1030.78,998.413 1043.35,994.604 1055.93,990.489 1068.51,986.036 1081.08,981.209 1093.66,975.966 \n",
       "  1106.24,970.259 1118.81,964.037 1131.39,957.236 1143.97,949.787 1156.54,941.61 1169.12,932.613 1181.7,922.69 1194.27,911.72 1206.85,899.562 1219.43,886.054 \n",
       "  1232,871.01 1244.58,854.218 1257.15,835.431 1269.73,814.37 1282.31,790.719 1294.88,764.127 1307.46,734.208 1320.04,700.553 1332.61,662.75 1345.19,620.418 \n",
       "  1357.77,573.264 1370.34,521.172 1382.92,464.332 1395.5,403.408 1408.07,339.737 1420.65,275.517 1433.22,213.914 1445.8,158.967 1458.38,115.191 1470.95,86.8454 \n",
       "  1483.53,77.0188 1483.53,1069.51 1470.95,1069.51 1458.38,1069.51 1445.8,1069.51 1433.22,1069.51 1420.65,1069.51 1408.07,1069.51 1395.5,1069.51 1382.92,1069.51 \n",
       "  1370.34,1069.51 1357.77,1069.51 1345.19,1069.51 1332.61,1069.51 1320.04,1069.51 1307.46,1069.51 1294.88,1069.51 1282.31,1069.51 1269.73,1069.51 1257.15,1069.51 \n",
       "  1244.58,1069.51 1232,1069.51 1219.43,1069.51 1206.85,1069.51 1194.27,1069.51 1181.7,1069.51 1169.12,1069.51 1156.54,1069.51 1143.97,1069.51 1131.39,1069.51 \n",
       "  1118.81,1069.51 1106.24,1069.51 1093.66,1069.51 1081.08,1069.51 1068.51,1069.51 1055.93,1069.51 1043.35,1069.51 1030.78,1069.51 1018.2,1069.51 1005.63,1069.51 \n",
       "  993.049,1069.51 980.473,1069.51 967.896,1069.51 955.32,1069.51 942.743,1069.51 930.167,1069.51 917.59,1069.51 905.014,1069.51 892.437,1069.51 879.861,1069.51 \n",
       "  867.285,1069.51 854.708,1069.51 842.132,1069.51 829.555,1069.51 816.979,1069.51 804.402,1069.51 791.826,1069.51 779.249,1069.51 766.673,1069.51 754.097,1069.51 \n",
       "  741.52,1069.51 728.944,1069.51 716.367,1069.51 703.791,1069.51 691.214,1069.51 678.638,1069.51 666.061,1069.51 653.485,1069.51 640.908,1069.51 628.332,1069.51 \n",
       "  615.756,1069.51 603.179,1069.51 590.603,1069.51 578.026,1069.51 565.45,1069.51 552.873,1069.51 540.297,1069.51 527.72,1069.51 515.144,1069.51 502.568,1069.51 \n",
       "  489.991,1069.51 477.415,1069.51 464.838,1069.51 452.262,1069.51 439.685,1069.51 427.109,1069.51 414.532,1069.51 401.956,1069.51 389.38,1069.51 376.803,1069.51 \n",
       "  364.227,1069.51 351.65,1069.51 339.074,1069.51 326.497,1069.51 313.921,1069.51 301.344,1069.51 288.768,1069.51 276.192,1069.51 263.615,1069.51 251.039,1069.51 \n",
       "  238.462,1069.51 225.886,1069.51 \n",
       "  \" fill=\"#808080\" fill-rule=\"evenodd\" fill-opacity=\"0.3\"/>\n",
       "<polyline clip-path=\"url(#clip6303)\" style=\"stroke:#e26f46; stroke-width:4; stroke-opacity:0.3; fill:none\" points=\"\n",
       "  225.886,1059.68 238.462,1059.48 251.039,1059.28 263.615,1059.07 276.192,1058.85 288.768,1058.63 301.344,1058.4 313.921,1058.16 326.497,1057.92 339.074,1057.67 \n",
       "  351.65,1057.4 364.227,1057.13 376.803,1056.86 389.38,1056.57 401.956,1056.27 414.532,1055.96 427.109,1055.64 439.685,1055.31 452.262,1054.96 464.838,1054.61 \n",
       "  477.415,1054.24 489.991,1053.86 502.568,1053.46 515.144,1053.05 527.72,1052.62 540.297,1052.17 552.873,1051.71 565.45,1051.23 578.026,1050.73 590.603,1050.2 \n",
       "  603.179,1049.66 615.756,1049.09 628.332,1048.5 640.908,1047.88 653.485,1047.24 666.061,1046.56 678.638,1045.86 691.214,1045.12 703.791,1044.34 716.367,1043.53 \n",
       "  728.944,1042.68 741.52,1041.79 754.097,1040.86 766.673,1039.87 779.249,1038.84 791.826,1037.75 804.402,1036.6 816.979,1035.39 829.555,1034.11 842.132,1032.76 \n",
       "  854.708,1031.34 867.285,1029.82 879.861,1028.22 892.437,1026.52 905.014,1024.72 917.59,1022.8 930.167,1020.76 942.743,1018.59 955.32,1016.26 967.896,1013.78 \n",
       "  980.473,1011.13 993.049,1008.28 1005.63,1005.23 1018.2,1001.95 1030.78,998.413 1043.35,994.604 1055.93,990.489 1068.51,986.036 1081.08,981.209 1093.66,975.966 \n",
       "  1106.24,970.259 1118.81,964.037 1131.39,957.236 1143.97,949.787 1156.54,941.61 1169.12,932.613 1181.7,922.69 1194.27,911.72 1206.85,899.562 1219.43,886.054 \n",
       "  1232,871.01 1244.58,854.218 1257.15,835.431 1269.73,814.37 1282.31,790.719 1294.88,764.127 1307.46,734.208 1320.04,700.553 1332.61,662.75 1345.19,620.418 \n",
       "  1357.77,573.264 1370.34,521.172 1382.92,464.332 1395.5,403.408 1408.07,339.737 1420.65,275.517 1433.22,213.914 1445.8,158.967 1458.38,115.191 1470.95,86.8454 \n",
       "  1483.53,77.0188 \n",
       "  \"/>\n",
       "<polygon clip-path=\"url(#clip6301)\" points=\"\n",
       "1152.73,203.724 1473.26,203.724 1473.26,82.7641 1152.73,82.7641 \n",
       "  \" fill=\"#ffffff\" fill-rule=\"evenodd\" fill-opacity=\"1\"/>\n",
       "<polyline clip-path=\"url(#clip6301)\" style=\"stroke:#000000; stroke-width:4; stroke-opacity:1; fill:none\" points=\"\n",
       "  1152.73,203.724 1473.26,203.724 1473.26,82.7641 1152.73,82.7641 1152.73,203.724 \n",
       "  \"/>\n",
       "<polyline clip-path=\"url(#clip6301)\" style=\"stroke:#009af9; stroke-width:4; stroke-opacity:1; fill:none\" points=\"\n",
       "  1168.73,143.244 1264.73,143.244 \n",
       "  \"/>\n",
       "<g clip-path=\"url(#clip6301)\">\n",
       "<text style=\"fill:#000000; fill-opacity:1; font-family:Arial,Helvetica Neue,Helvetica,sans-serif; font-size:48px; text-anchor:start;\" transform=\"rotate(0, 1280.73, 160.744)\" x=\"1280.73\" y=\"160.744\">Função</text>\n",
       "</g>\n",
       "</svg>\n"
      ]
     },
     "execution_count": 15,
     "metadata": {},
     "output_type": "execute_result"
    }
   ],
   "source": [
    "plot(-10:0.1:0, f9, label = (\"Função\"), size = (400, 300))\n",
    "plot!(-10:0.1:0, f9, fill=(0,:grey), opacity=0.3, label = \"\")"
   ]
  },
  {
   "cell_type": "code",
   "execution_count": 16,
   "metadata": {
    "collapsed": false,
    "scrolled": false
   },
   "outputs": [
    {
     "data": {
      "text/latex": [
       "\\begin{equation*}\\frac{\\pi}{2}\\end{equation*}"
      ],
      "text/plain": [
       "π\n",
       "─\n",
       "2"
      ]
     },
     "execution_count": 16,
     "metadata": {},
     "output_type": "execute_result"
    }
   ],
   "source": [
    "integrate(f9(x), x, -oo, 0)"
   ]
  },
  {
   "cell_type": "markdown",
   "metadata": {},
   "source": [
    "Exemplo 2\n",
    "\n",
    "$ \\displaystyle \\int_{-\\infty}^{\\infty} {f(x)} ~ dx $"
   ]
  },
  {
   "cell_type": "code",
   "execution_count": 17,
   "metadata": {
    "collapsed": false
   },
   "outputs": [
    {
     "data": {
      "image/svg+xml": [
       "<?xml version=\"1.0\" encoding=\"utf-8\"?>\n",
       "<svg xmlns=\"http://www.w3.org/2000/svg\" xmlns:xlink=\"http://www.w3.org/1999/xlink\" width=\"400\" height=\"300\" viewBox=\"0 0 1600 1200\">\n",
       "<defs>\n",
       "  <clipPath id=\"clip6500\">\n",
       "    <rect x=\"0\" y=\"0\" width=\"2000\" height=\"2000\"/>\n",
       "  </clipPath>\n",
       "</defs>\n",
       "<defs>\n",
       "  <clipPath id=\"clip6501\">\n",
       "    <rect x=\"0\" y=\"0\" width=\"1600\" height=\"1200\"/>\n",
       "  </clipPath>\n",
       "</defs>\n",
       "<polygon clip-path=\"url(#clip6501)\" points=\"\n",
       "0,1200 1600,1200 1600,0 0,0 \n",
       "  \" fill=\"#ffffff\" fill-rule=\"evenodd\" fill-opacity=\"1\"/>\n",
       "<defs>\n",
       "  <clipPath id=\"clip6502\">\n",
       "    <rect x=\"320\" y=\"0\" width=\"1121\" height=\"1121\"/>\n",
       "  </clipPath>\n",
       "</defs>\n",
       "<polygon clip-path=\"url(#clip6501)\" points=\"\n",
       "188.156,1099.28 1521.26,1099.28 1521.26,47.2441 188.156,47.2441 \n",
       "  \" fill=\"#ffffff\" fill-rule=\"evenodd\" fill-opacity=\"1\"/>\n",
       "<defs>\n",
       "  <clipPath id=\"clip6503\">\n",
       "    <rect x=\"188\" y=\"47\" width=\"1334\" height=\"1053\"/>\n",
       "  </clipPath>\n",
       "</defs>\n",
       "<polyline clip-path=\"url(#clip6503)\" style=\"stroke:#000000; stroke-width:2; stroke-opacity:0.1; fill:none\" points=\"\n",
       "  225.886,1099.28 225.886,47.2441 \n",
       "  \"/>\n",
       "<polyline clip-path=\"url(#clip6503)\" style=\"stroke:#000000; stroke-width:2; stroke-opacity:0.1; fill:none\" points=\"\n",
       "  540.297,1099.28 540.297,47.2441 \n",
       "  \"/>\n",
       "<polyline clip-path=\"url(#clip6503)\" style=\"stroke:#000000; stroke-width:2; stroke-opacity:0.1; fill:none\" points=\"\n",
       "  854.708,1099.28 854.708,47.2441 \n",
       "  \"/>\n",
       "<polyline clip-path=\"url(#clip6503)\" style=\"stroke:#000000; stroke-width:2; stroke-opacity:0.1; fill:none\" points=\"\n",
       "  1169.12,1099.28 1169.12,47.2441 \n",
       "  \"/>\n",
       "<polyline clip-path=\"url(#clip6503)\" style=\"stroke:#000000; stroke-width:2; stroke-opacity:0.1; fill:none\" points=\"\n",
       "  1483.53,1099.28 1483.53,47.2441 \n",
       "  \"/>\n",
       "<polyline clip-path=\"url(#clip6503)\" style=\"stroke:#000000; stroke-width:2; stroke-opacity:0.1; fill:none\" points=\"\n",
       "  188.156,1069.51 1521.26,1069.51 \n",
       "  \"/>\n",
       "<polyline clip-path=\"url(#clip6503)\" style=\"stroke:#000000; stroke-width:2; stroke-opacity:0.1; fill:none\" points=\"\n",
       "  188.156,821.386 1521.26,821.386 \n",
       "  \"/>\n",
       "<polyline clip-path=\"url(#clip6503)\" style=\"stroke:#000000; stroke-width:2; stroke-opacity:0.1; fill:none\" points=\"\n",
       "  188.156,573.264 1521.26,573.264 \n",
       "  \"/>\n",
       "<polyline clip-path=\"url(#clip6503)\" style=\"stroke:#000000; stroke-width:2; stroke-opacity:0.1; fill:none\" points=\"\n",
       "  188.156,325.141 1521.26,325.141 \n",
       "  \"/>\n",
       "<polyline clip-path=\"url(#clip6503)\" style=\"stroke:#000000; stroke-width:2; stroke-opacity:0.1; fill:none\" points=\"\n",
       "  188.156,77.0188 1521.26,77.0188 \n",
       "  \"/>\n",
       "<polyline clip-path=\"url(#clip6501)\" style=\"stroke:#000000; stroke-width:4; stroke-opacity:1; fill:none\" points=\"\n",
       "  188.156,1099.28 1521.26,1099.28 \n",
       "  \"/>\n",
       "<polyline clip-path=\"url(#clip6501)\" style=\"stroke:#000000; stroke-width:4; stroke-opacity:1; fill:none\" points=\"\n",
       "  188.156,1099.28 188.156,47.2441 \n",
       "  \"/>\n",
       "<polyline clip-path=\"url(#clip6501)\" style=\"stroke:#000000; stroke-width:4; stroke-opacity:1; fill:none\" points=\"\n",
       "  225.886,1099.28 225.886,1083.5 \n",
       "  \"/>\n",
       "<polyline clip-path=\"url(#clip6501)\" style=\"stroke:#000000; stroke-width:4; stroke-opacity:1; fill:none\" points=\"\n",
       "  540.297,1099.28 540.297,1083.5 \n",
       "  \"/>\n",
       "<polyline clip-path=\"url(#clip6501)\" style=\"stroke:#000000; stroke-width:4; stroke-opacity:1; fill:none\" points=\"\n",
       "  854.708,1099.28 854.708,1083.5 \n",
       "  \"/>\n",
       "<polyline clip-path=\"url(#clip6501)\" style=\"stroke:#000000; stroke-width:4; stroke-opacity:1; fill:none\" points=\"\n",
       "  1169.12,1099.28 1169.12,1083.5 \n",
       "  \"/>\n",
       "<polyline clip-path=\"url(#clip6501)\" style=\"stroke:#000000; stroke-width:4; stroke-opacity:1; fill:none\" points=\"\n",
       "  1483.53,1099.28 1483.53,1083.5 \n",
       "  \"/>\n",
       "<polyline clip-path=\"url(#clip6501)\" style=\"stroke:#000000; stroke-width:4; stroke-opacity:1; fill:none\" points=\"\n",
       "  188.156,1069.51 208.153,1069.51 \n",
       "  \"/>\n",
       "<polyline clip-path=\"url(#clip6501)\" style=\"stroke:#000000; stroke-width:4; stroke-opacity:1; fill:none\" points=\"\n",
       "  188.156,821.386 208.153,821.386 \n",
       "  \"/>\n",
       "<polyline clip-path=\"url(#clip6501)\" style=\"stroke:#000000; stroke-width:4; stroke-opacity:1; fill:none\" points=\"\n",
       "  188.156,573.264 208.153,573.264 \n",
       "  \"/>\n",
       "<polyline clip-path=\"url(#clip6501)\" style=\"stroke:#000000; stroke-width:4; stroke-opacity:1; fill:none\" points=\"\n",
       "  188.156,325.141 208.153,325.141 \n",
       "  \"/>\n",
       "<polyline clip-path=\"url(#clip6501)\" style=\"stroke:#000000; stroke-width:4; stroke-opacity:1; fill:none\" points=\"\n",
       "  188.156,77.0188 208.153,77.0188 \n",
       "  \"/>\n",
       "<g clip-path=\"url(#clip6501)\">\n",
       "<text style=\"fill:#000000; fill-opacity:1; font-family:Arial,Helvetica Neue,Helvetica,sans-serif; font-size:48px; text-anchor:middle;\" transform=\"rotate(0, 225.886, 1149.28)\" x=\"225.886\" y=\"1149.28\">-10</text>\n",
       "</g>\n",
       "<g clip-path=\"url(#clip6501)\">\n",
       "<text style=\"fill:#000000; fill-opacity:1; font-family:Arial,Helvetica Neue,Helvetica,sans-serif; font-size:48px; text-anchor:middle;\" transform=\"rotate(0, 540.297, 1149.28)\" x=\"540.297\" y=\"1149.28\">-5</text>\n",
       "</g>\n",
       "<g clip-path=\"url(#clip6501)\">\n",
       "<text style=\"fill:#000000; fill-opacity:1; font-family:Arial,Helvetica Neue,Helvetica,sans-serif; font-size:48px; text-anchor:middle;\" transform=\"rotate(0, 854.708, 1149.28)\" x=\"854.708\" y=\"1149.28\">0</text>\n",
       "</g>\n",
       "<g clip-path=\"url(#clip6501)\">\n",
       "<text style=\"fill:#000000; fill-opacity:1; font-family:Arial,Helvetica Neue,Helvetica,sans-serif; font-size:48px; text-anchor:middle;\" transform=\"rotate(0, 1169.12, 1149.28)\" x=\"1169.12\" y=\"1149.28\">5</text>\n",
       "</g>\n",
       "<g clip-path=\"url(#clip6501)\">\n",
       "<text style=\"fill:#000000; fill-opacity:1; font-family:Arial,Helvetica Neue,Helvetica,sans-serif; font-size:48px; text-anchor:middle;\" transform=\"rotate(0, 1483.53, 1149.28)\" x=\"1483.53\" y=\"1149.28\">10</text>\n",
       "</g>\n",
       "<g clip-path=\"url(#clip6501)\">\n",
       "<text style=\"fill:#000000; fill-opacity:1; font-family:Arial,Helvetica Neue,Helvetica,sans-serif; font-size:48px; text-anchor:end;\" transform=\"rotate(0, 172.156, 1087.01)\" x=\"172.156\" y=\"1087.01\">0.00</text>\n",
       "</g>\n",
       "<g clip-path=\"url(#clip6501)\">\n",
       "<text style=\"fill:#000000; fill-opacity:1; font-family:Arial,Helvetica Neue,Helvetica,sans-serif; font-size:48px; text-anchor:end;\" transform=\"rotate(0, 172.156, 838.886)\" x=\"172.156\" y=\"838.886\">0.25</text>\n",
       "</g>\n",
       "<g clip-path=\"url(#clip6501)\">\n",
       "<text style=\"fill:#000000; fill-opacity:1; font-family:Arial,Helvetica Neue,Helvetica,sans-serif; font-size:48px; text-anchor:end;\" transform=\"rotate(0, 172.156, 590.764)\" x=\"172.156\" y=\"590.764\">0.50</text>\n",
       "</g>\n",
       "<g clip-path=\"url(#clip6501)\">\n",
       "<text style=\"fill:#000000; fill-opacity:1; font-family:Arial,Helvetica Neue,Helvetica,sans-serif; font-size:48px; text-anchor:end;\" transform=\"rotate(0, 172.156, 342.641)\" x=\"172.156\" y=\"342.641\">0.75</text>\n",
       "</g>\n",
       "<g clip-path=\"url(#clip6501)\">\n",
       "<text style=\"fill:#000000; fill-opacity:1; font-family:Arial,Helvetica Neue,Helvetica,sans-serif; font-size:48px; text-anchor:end;\" transform=\"rotate(0, 172.156, 94.5188)\" x=\"172.156\" y=\"94.5188\">1.00</text>\n",
       "</g>\n",
       "<polyline clip-path=\"url(#clip6503)\" style=\"stroke:#009af9; stroke-width:4; stroke-opacity:1; fill:none\" points=\"\n",
       "  225.886,1059.68 232.174,1059.48 238.462,1059.28 244.75,1059.07 251.039,1058.85 257.327,1058.63 263.615,1058.4 269.903,1058.16 276.192,1057.92 282.48,1057.67 \n",
       "  288.768,1057.4 295.056,1057.13 301.344,1056.86 307.633,1056.57 313.921,1056.27 320.209,1055.96 326.497,1055.64 332.786,1055.31 339.074,1054.96 345.362,1054.61 \n",
       "  351.65,1054.24 357.938,1053.86 364.227,1053.46 370.515,1053.05 376.803,1052.62 383.091,1052.17 389.38,1051.71 395.668,1051.23 401.956,1050.73 408.244,1050.2 \n",
       "  414.532,1049.66 420.821,1049.09 427.109,1048.5 433.397,1047.88 439.685,1047.24 445.974,1046.56 452.262,1045.86 458.55,1045.12 464.838,1044.34 471.126,1043.53 \n",
       "  477.415,1042.68 483.703,1041.79 489.991,1040.86 496.279,1039.87 502.568,1038.84 508.856,1037.75 515.144,1036.6 521.432,1035.39 527.72,1034.11 534.009,1032.76 \n",
       "  540.297,1031.34 546.585,1029.82 552.873,1028.22 559.162,1026.52 565.45,1024.72 571.738,1022.8 578.026,1020.76 584.314,1018.59 590.603,1016.26 596.891,1013.78 \n",
       "  603.179,1011.13 609.467,1008.28 615.756,1005.23 622.044,1001.95 628.332,998.413 634.62,994.604 640.908,990.489 647.197,986.036 653.485,981.209 659.773,975.966 \n",
       "  666.061,970.259 672.35,964.037 678.638,957.236 684.926,949.787 691.214,941.61 697.503,932.613 703.791,922.69 710.079,911.72 716.367,899.562 722.655,886.054 \n",
       "  728.944,871.01 735.232,854.218 741.52,835.431 747.808,814.37 754.097,790.719 760.385,764.127 766.673,734.208 772.961,700.553 779.249,662.75 785.538,620.418 \n",
       "  791.826,573.264 798.114,521.172 804.402,464.332 810.691,403.408 816.979,339.737 823.267,275.517 829.555,213.914 835.843,158.967 842.132,115.191 848.42,86.8454 \n",
       "  854.708,77.0188 860.996,86.8454 867.285,115.191 873.573,158.967 879.861,213.914 886.149,275.517 892.437,339.737 898.726,403.408 905.014,464.332 911.302,521.172 \n",
       "  917.59,573.264 923.879,620.418 930.167,662.75 936.455,700.553 942.743,734.208 949.031,764.127 955.32,790.719 961.608,814.37 967.896,835.431 974.184,854.218 \n",
       "  980.473,871.01 986.761,886.054 993.049,899.562 999.337,911.72 1005.63,922.69 1011.91,932.613 1018.2,941.61 1024.49,949.787 1030.78,957.236 1037.07,964.037 \n",
       "  1043.35,970.259 1049.64,975.966 1055.93,981.209 1062.22,986.036 1068.51,990.489 1074.8,994.604 1081.08,998.413 1087.37,1001.95 1093.66,1005.23 1099.95,1008.28 \n",
       "  1106.24,1011.13 1112.53,1013.78 1118.81,1016.26 1125.1,1018.59 1131.39,1020.76 1137.68,1022.8 1143.97,1024.72 1150.25,1026.52 1156.54,1028.22 1162.83,1029.82 \n",
       "  1169.12,1031.34 1175.41,1032.76 1181.7,1034.11 1187.98,1035.39 1194.27,1036.6 1200.56,1037.75 1206.85,1038.84 1213.14,1039.87 1219.43,1040.86 1225.71,1041.79 \n",
       "  1232,1042.68 1238.29,1043.53 1244.58,1044.34 1250.87,1045.12 1257.15,1045.86 1263.44,1046.56 1269.73,1047.24 1276.02,1047.88 1282.31,1048.5 1288.6,1049.09 \n",
       "  1294.88,1049.66 1301.17,1050.2 1307.46,1050.73 1313.75,1051.23 1320.04,1051.71 1326.32,1052.17 1332.61,1052.62 1338.9,1053.05 1345.19,1053.46 1351.48,1053.86 \n",
       "  1357.77,1054.24 1364.05,1054.61 1370.34,1054.96 1376.63,1055.31 1382.92,1055.64 1389.21,1055.96 1395.5,1056.27 1401.78,1056.57 1408.07,1056.86 1414.36,1057.13 \n",
       "  1420.65,1057.4 1426.94,1057.67 1433.22,1057.92 1439.51,1058.16 1445.8,1058.4 1452.09,1058.63 1458.38,1058.85 1464.67,1059.07 1470.95,1059.28 1477.24,1059.48 \n",
       "  1483.53,1059.68 \n",
       "  \"/>\n",
       "<polygon clip-path=\"url(#clip6503)\" points=\"\n",
       "225.886,1059.68 232.174,1059.48 238.462,1059.28 244.75,1059.07 251.039,1058.85 257.327,1058.63 263.615,1058.4 269.903,1058.16 276.192,1057.92 282.48,1057.67 \n",
       "  288.768,1057.4 295.056,1057.13 301.344,1056.86 307.633,1056.57 313.921,1056.27 320.209,1055.96 326.497,1055.64 332.786,1055.31 339.074,1054.96 345.362,1054.61 \n",
       "  351.65,1054.24 357.938,1053.86 364.227,1053.46 370.515,1053.05 376.803,1052.62 383.091,1052.17 389.38,1051.71 395.668,1051.23 401.956,1050.73 408.244,1050.2 \n",
       "  414.532,1049.66 420.821,1049.09 427.109,1048.5 433.397,1047.88 439.685,1047.24 445.974,1046.56 452.262,1045.86 458.55,1045.12 464.838,1044.34 471.126,1043.53 \n",
       "  477.415,1042.68 483.703,1041.79 489.991,1040.86 496.279,1039.87 502.568,1038.84 508.856,1037.75 515.144,1036.6 521.432,1035.39 527.72,1034.11 534.009,1032.76 \n",
       "  540.297,1031.34 546.585,1029.82 552.873,1028.22 559.162,1026.52 565.45,1024.72 571.738,1022.8 578.026,1020.76 584.314,1018.59 590.603,1016.26 596.891,1013.78 \n",
       "  603.179,1011.13 609.467,1008.28 615.756,1005.23 622.044,1001.95 628.332,998.413 634.62,994.604 640.908,990.489 647.197,986.036 653.485,981.209 659.773,975.966 \n",
       "  666.061,970.259 672.35,964.037 678.638,957.236 684.926,949.787 691.214,941.61 697.503,932.613 703.791,922.69 710.079,911.72 716.367,899.562 722.655,886.054 \n",
       "  728.944,871.01 735.232,854.218 741.52,835.431 747.808,814.37 754.097,790.719 760.385,764.127 766.673,734.208 772.961,700.553 779.249,662.75 785.538,620.418 \n",
       "  791.826,573.264 798.114,521.172 804.402,464.332 810.691,403.408 816.979,339.737 823.267,275.517 829.555,213.914 835.843,158.967 842.132,115.191 848.42,86.8454 \n",
       "  854.708,77.0188 860.996,86.8454 867.285,115.191 873.573,158.967 879.861,213.914 886.149,275.517 892.437,339.737 898.726,403.408 905.014,464.332 911.302,521.172 \n",
       "  917.59,573.264 923.879,620.418 930.167,662.75 936.455,700.553 942.743,734.208 949.031,764.127 955.32,790.719 961.608,814.37 967.896,835.431 974.184,854.218 \n",
       "  980.473,871.01 986.761,886.054 993.049,899.562 999.337,911.72 1005.63,922.69 1011.91,932.613 1018.2,941.61 1024.49,949.787 1030.78,957.236 1037.07,964.037 \n",
       "  1043.35,970.259 1049.64,975.966 1055.93,981.209 1062.22,986.036 1068.51,990.489 1074.8,994.604 1081.08,998.413 1087.37,1001.95 1093.66,1005.23 1099.95,1008.28 \n",
       "  1106.24,1011.13 1112.53,1013.78 1118.81,1016.26 1125.1,1018.59 1131.39,1020.76 1137.68,1022.8 1143.97,1024.72 1150.25,1026.52 1156.54,1028.22 1162.83,1029.82 \n",
       "  1169.12,1031.34 1175.41,1032.76 1181.7,1034.11 1187.98,1035.39 1194.27,1036.6 1200.56,1037.75 1206.85,1038.84 1213.14,1039.87 1219.43,1040.86 1225.71,1041.79 \n",
       "  1232,1042.68 1238.29,1043.53 1244.58,1044.34 1250.87,1045.12 1257.15,1045.86 1263.44,1046.56 1269.73,1047.24 1276.02,1047.88 1282.31,1048.5 1288.6,1049.09 \n",
       "  1294.88,1049.66 1301.17,1050.2 1307.46,1050.73 1313.75,1051.23 1320.04,1051.71 1326.32,1052.17 1332.61,1052.62 1338.9,1053.05 1345.19,1053.46 1351.48,1053.86 \n",
       "  1357.77,1054.24 1364.05,1054.61 1370.34,1054.96 1376.63,1055.31 1382.92,1055.64 1389.21,1055.96 1395.5,1056.27 1401.78,1056.57 1408.07,1056.86 1414.36,1057.13 \n",
       "  1420.65,1057.4 1426.94,1057.67 1433.22,1057.92 1439.51,1058.16 1445.8,1058.4 1452.09,1058.63 1458.38,1058.85 1464.67,1059.07 1470.95,1059.28 1477.24,1059.48 \n",
       "  1483.53,1059.68 1483.53,1069.51 1477.24,1069.51 1470.95,1069.51 1464.67,1069.51 1458.38,1069.51 1452.09,1069.51 1445.8,1069.51 1439.51,1069.51 1433.22,1069.51 \n",
       "  1426.94,1069.51 1420.65,1069.51 1414.36,1069.51 1408.07,1069.51 1401.78,1069.51 1395.5,1069.51 1389.21,1069.51 1382.92,1069.51 1376.63,1069.51 1370.34,1069.51 \n",
       "  1364.05,1069.51 1357.77,1069.51 1351.48,1069.51 1345.19,1069.51 1338.9,1069.51 1332.61,1069.51 1326.32,1069.51 1320.04,1069.51 1313.75,1069.51 1307.46,1069.51 \n",
       "  1301.17,1069.51 1294.88,1069.51 1288.6,1069.51 1282.31,1069.51 1276.02,1069.51 1269.73,1069.51 1263.44,1069.51 1257.15,1069.51 1250.87,1069.51 1244.58,1069.51 \n",
       "  1238.29,1069.51 1232,1069.51 1225.71,1069.51 1219.43,1069.51 1213.14,1069.51 1206.85,1069.51 1200.56,1069.51 1194.27,1069.51 1187.98,1069.51 1181.7,1069.51 \n",
       "  1175.41,1069.51 1169.12,1069.51 1162.83,1069.51 1156.54,1069.51 1150.25,1069.51 1143.97,1069.51 1137.68,1069.51 1131.39,1069.51 1125.1,1069.51 1118.81,1069.51 \n",
       "  1112.53,1069.51 1106.24,1069.51 1099.95,1069.51 1093.66,1069.51 1087.37,1069.51 1081.08,1069.51 1074.8,1069.51 1068.51,1069.51 1062.22,1069.51 1055.93,1069.51 \n",
       "  1049.64,1069.51 1043.35,1069.51 1037.07,1069.51 1030.78,1069.51 1024.49,1069.51 1018.2,1069.51 1011.91,1069.51 1005.63,1069.51 999.337,1069.51 993.049,1069.51 \n",
       "  986.761,1069.51 980.473,1069.51 974.184,1069.51 967.896,1069.51 961.608,1069.51 955.32,1069.51 949.031,1069.51 942.743,1069.51 936.455,1069.51 930.167,1069.51 \n",
       "  923.879,1069.51 917.59,1069.51 911.302,1069.51 905.014,1069.51 898.726,1069.51 892.437,1069.51 886.149,1069.51 879.861,1069.51 873.573,1069.51 867.285,1069.51 \n",
       "  860.996,1069.51 854.708,1069.51 848.42,1069.51 842.132,1069.51 835.843,1069.51 829.555,1069.51 823.267,1069.51 816.979,1069.51 810.691,1069.51 804.402,1069.51 \n",
       "  798.114,1069.51 791.826,1069.51 785.538,1069.51 779.249,1069.51 772.961,1069.51 766.673,1069.51 760.385,1069.51 754.097,1069.51 747.808,1069.51 741.52,1069.51 \n",
       "  735.232,1069.51 728.944,1069.51 722.655,1069.51 716.367,1069.51 710.079,1069.51 703.791,1069.51 697.503,1069.51 691.214,1069.51 684.926,1069.51 678.638,1069.51 \n",
       "  672.35,1069.51 666.061,1069.51 659.773,1069.51 653.485,1069.51 647.197,1069.51 640.908,1069.51 634.62,1069.51 628.332,1069.51 622.044,1069.51 615.756,1069.51 \n",
       "  609.467,1069.51 603.179,1069.51 596.891,1069.51 590.603,1069.51 584.314,1069.51 578.026,1069.51 571.738,1069.51 565.45,1069.51 559.162,1069.51 552.873,1069.51 \n",
       "  546.585,1069.51 540.297,1069.51 534.009,1069.51 527.72,1069.51 521.432,1069.51 515.144,1069.51 508.856,1069.51 502.568,1069.51 496.279,1069.51 489.991,1069.51 \n",
       "  483.703,1069.51 477.415,1069.51 471.126,1069.51 464.838,1069.51 458.55,1069.51 452.262,1069.51 445.974,1069.51 439.685,1069.51 433.397,1069.51 427.109,1069.51 \n",
       "  420.821,1069.51 414.532,1069.51 408.244,1069.51 401.956,1069.51 395.668,1069.51 389.38,1069.51 383.091,1069.51 376.803,1069.51 370.515,1069.51 364.227,1069.51 \n",
       "  357.938,1069.51 351.65,1069.51 345.362,1069.51 339.074,1069.51 332.786,1069.51 326.497,1069.51 320.209,1069.51 313.921,1069.51 307.633,1069.51 301.344,1069.51 \n",
       "  295.056,1069.51 288.768,1069.51 282.48,1069.51 276.192,1069.51 269.903,1069.51 263.615,1069.51 257.327,1069.51 251.039,1069.51 244.75,1069.51 238.462,1069.51 \n",
       "  232.174,1069.51 225.886,1069.51 \n",
       "  \" fill=\"#808080\" fill-rule=\"evenodd\" fill-opacity=\"0.3\"/>\n",
       "<polyline clip-path=\"url(#clip6503)\" style=\"stroke:#e26f46; stroke-width:4; stroke-opacity:0.3; fill:none\" points=\"\n",
       "  225.886,1059.68 232.174,1059.48 238.462,1059.28 244.75,1059.07 251.039,1058.85 257.327,1058.63 263.615,1058.4 269.903,1058.16 276.192,1057.92 282.48,1057.67 \n",
       "  288.768,1057.4 295.056,1057.13 301.344,1056.86 307.633,1056.57 313.921,1056.27 320.209,1055.96 326.497,1055.64 332.786,1055.31 339.074,1054.96 345.362,1054.61 \n",
       "  351.65,1054.24 357.938,1053.86 364.227,1053.46 370.515,1053.05 376.803,1052.62 383.091,1052.17 389.38,1051.71 395.668,1051.23 401.956,1050.73 408.244,1050.2 \n",
       "  414.532,1049.66 420.821,1049.09 427.109,1048.5 433.397,1047.88 439.685,1047.24 445.974,1046.56 452.262,1045.86 458.55,1045.12 464.838,1044.34 471.126,1043.53 \n",
       "  477.415,1042.68 483.703,1041.79 489.991,1040.86 496.279,1039.87 502.568,1038.84 508.856,1037.75 515.144,1036.6 521.432,1035.39 527.72,1034.11 534.009,1032.76 \n",
       "  540.297,1031.34 546.585,1029.82 552.873,1028.22 559.162,1026.52 565.45,1024.72 571.738,1022.8 578.026,1020.76 584.314,1018.59 590.603,1016.26 596.891,1013.78 \n",
       "  603.179,1011.13 609.467,1008.28 615.756,1005.23 622.044,1001.95 628.332,998.413 634.62,994.604 640.908,990.489 647.197,986.036 653.485,981.209 659.773,975.966 \n",
       "  666.061,970.259 672.35,964.037 678.638,957.236 684.926,949.787 691.214,941.61 697.503,932.613 703.791,922.69 710.079,911.72 716.367,899.562 722.655,886.054 \n",
       "  728.944,871.01 735.232,854.218 741.52,835.431 747.808,814.37 754.097,790.719 760.385,764.127 766.673,734.208 772.961,700.553 779.249,662.75 785.538,620.418 \n",
       "  791.826,573.264 798.114,521.172 804.402,464.332 810.691,403.408 816.979,339.737 823.267,275.517 829.555,213.914 835.843,158.967 842.132,115.191 848.42,86.8454 \n",
       "  854.708,77.0188 860.996,86.8454 867.285,115.191 873.573,158.967 879.861,213.914 886.149,275.517 892.437,339.737 898.726,403.408 905.014,464.332 911.302,521.172 \n",
       "  917.59,573.264 923.879,620.418 930.167,662.75 936.455,700.553 942.743,734.208 949.031,764.127 955.32,790.719 961.608,814.37 967.896,835.431 974.184,854.218 \n",
       "  980.473,871.01 986.761,886.054 993.049,899.562 999.337,911.72 1005.63,922.69 1011.91,932.613 1018.2,941.61 1024.49,949.787 1030.78,957.236 1037.07,964.037 \n",
       "  1043.35,970.259 1049.64,975.966 1055.93,981.209 1062.22,986.036 1068.51,990.489 1074.8,994.604 1081.08,998.413 1087.37,1001.95 1093.66,1005.23 1099.95,1008.28 \n",
       "  1106.24,1011.13 1112.53,1013.78 1118.81,1016.26 1125.1,1018.59 1131.39,1020.76 1137.68,1022.8 1143.97,1024.72 1150.25,1026.52 1156.54,1028.22 1162.83,1029.82 \n",
       "  1169.12,1031.34 1175.41,1032.76 1181.7,1034.11 1187.98,1035.39 1194.27,1036.6 1200.56,1037.75 1206.85,1038.84 1213.14,1039.87 1219.43,1040.86 1225.71,1041.79 \n",
       "  1232,1042.68 1238.29,1043.53 1244.58,1044.34 1250.87,1045.12 1257.15,1045.86 1263.44,1046.56 1269.73,1047.24 1276.02,1047.88 1282.31,1048.5 1288.6,1049.09 \n",
       "  1294.88,1049.66 1301.17,1050.2 1307.46,1050.73 1313.75,1051.23 1320.04,1051.71 1326.32,1052.17 1332.61,1052.62 1338.9,1053.05 1345.19,1053.46 1351.48,1053.86 \n",
       "  1357.77,1054.24 1364.05,1054.61 1370.34,1054.96 1376.63,1055.31 1382.92,1055.64 1389.21,1055.96 1395.5,1056.27 1401.78,1056.57 1408.07,1056.86 1414.36,1057.13 \n",
       "  1420.65,1057.4 1426.94,1057.67 1433.22,1057.92 1439.51,1058.16 1445.8,1058.4 1452.09,1058.63 1458.38,1058.85 1464.67,1059.07 1470.95,1059.28 1477.24,1059.48 \n",
       "  1483.53,1059.68 \n",
       "  \"/>\n",
       "<polygon clip-path=\"url(#clip6501)\" points=\"\n",
       "1152.73,203.724 1473.26,203.724 1473.26,82.7641 1152.73,82.7641 \n",
       "  \" fill=\"#ffffff\" fill-rule=\"evenodd\" fill-opacity=\"1\"/>\n",
       "<polyline clip-path=\"url(#clip6501)\" style=\"stroke:#000000; stroke-width:4; stroke-opacity:1; fill:none\" points=\"\n",
       "  1152.73,203.724 1473.26,203.724 1473.26,82.7641 1152.73,82.7641 1152.73,203.724 \n",
       "  \"/>\n",
       "<polyline clip-path=\"url(#clip6501)\" style=\"stroke:#009af9; stroke-width:4; stroke-opacity:1; fill:none\" points=\"\n",
       "  1168.73,143.244 1264.73,143.244 \n",
       "  \"/>\n",
       "<g clip-path=\"url(#clip6501)\">\n",
       "<text style=\"fill:#000000; fill-opacity:1; font-family:Arial,Helvetica Neue,Helvetica,sans-serif; font-size:48px; text-anchor:start;\" transform=\"rotate(0, 1280.73, 160.744)\" x=\"1280.73\" y=\"160.744\">Função</text>\n",
       "</g>\n",
       "</svg>\n"
      ]
     },
     "execution_count": 17,
     "metadata": {},
     "output_type": "execute_result"
    }
   ],
   "source": [
    "plot(-10:0.1:10, f9, label = (\"Função\"), size = (400, 300))\n",
    "plot!(-10:0.1:10, f9, fill=(0,:grey), opacity=0.3, label = \"\")"
   ]
  },
  {
   "cell_type": "code",
   "execution_count": 18,
   "metadata": {
    "collapsed": false
   },
   "outputs": [
    {
     "data": {
      "text/latex": [
       "\\begin{equation*}\\pi\\end{equation*}"
      ],
      "text/plain": [
       "π"
      ]
     },
     "execution_count": 18,
     "metadata": {},
     "output_type": "execute_result"
    }
   ],
   "source": [
    "integrate(f9(x), x, -oo, +oo)"
   ]
  },
  {
   "cell_type": "markdown",
   "metadata": {},
   "source": []
  },
  {
   "cell_type": "markdown",
   "metadata": {},
   "source": [
    "#### INTEGRAL IMPRÓPRIA NUMÉRICA\n",
    "\n",
    "Para realizar uma integração numérica imprópria, basta utilizar valores grandes ($ 10^{20}$ ou mais ) para os limites que tendem para o infinito positivo; valores pequenos próximo de 0 ($ 10^{-10}$ ou menos) para limites que tendem para zero; valores pequenos ($ - 10^{20}$ ou menos ) para os limites que tendem para o infinito negativo."
   ]
  },
  {
   "cell_type": "code",
   "execution_count": 27,
   "metadata": {
    "collapsed": false,
    "scrolled": true
   },
   "outputs": [],
   "source": [
    "using QuadGK"
   ]
  },
  {
   "cell_type": "code",
   "execution_count": 28,
   "metadata": {
    "collapsed": false
   },
   "outputs": [
    {
     "data": {
      "text/plain": [
       "f9 (generic function with 1 method)"
      ]
     },
     "execution_count": 28,
     "metadata": {},
     "output_type": "execute_result"
    }
   ],
   "source": [
    "f9(x) = 1/(1 + x^2)"
   ]
  },
  {
   "cell_type": "code",
   "execution_count": 29,
   "metadata": {
    "collapsed": false
   },
   "outputs": [
    {
     "data": {
      "text/plain": [
       "(0.7853981633974483, 4.6064467819519415e-11)"
      ]
     },
     "execution_count": 29,
     "metadata": {},
     "output_type": "execute_result"
    }
   ],
   "source": [
    "# valor e erro\n",
    "valor , erro = quadgk(f9, 1, 1e20)"
   ]
  },
  {
   "cell_type": "code",
   "execution_count": 30,
   "metadata": {
    "collapsed": false
   },
   "outputs": [
    {
     "data": {
      "text/plain": [
       "0.7853981633974483"
      ]
     },
     "execution_count": 30,
     "metadata": {},
     "output_type": "execute_result"
    }
   ],
   "source": [
    "# somente o valor \n",
    "quadgk(f9, 1, 1e20)[1]"
   ]
  },
  {
   "cell_type": "markdown",
   "metadata": {},
   "source": [
    "Exemplo: Calcular a integral $ \\displaystyle \\int_{-\\infty}^{\\infty} {1/(1 + x^2)} ~ dx~$ entre  $~[-\\infty, \\infty]$.\n",
    "\n",
    " \n",
    "Para calcular este numericamente esta integral devemos fazer: $ \\displaystyle \\int_{-\\infty}^{\\infty} {1/(1 + x^2)} ~ dx = $ $\\displaystyle \\int_{-\\infty}^{0} {1/(1 + x^2)} ~ dx +  \\displaystyle \\int_{0}^{\\infty} {1/(1 + x^2)} ~ dx $ "
   ]
  },
  {
   "cell_type": "code",
   "execution_count": 31,
   "metadata": {
    "collapsed": false,
    "scrolled": true
   },
   "outputs": [
    {
     "data": {
      "text/plain": [
       "3.1415926535897953"
      ]
     },
     "execution_count": 31,
     "metadata": {},
     "output_type": "execute_result"
    }
   ],
   "source": [
    "quadgk(f9, -1e20, 0)[1] + quadgk(f9, 0, 1e20)[1]"
   ]
  },
  {
   "cell_type": "markdown",
   "metadata": {},
   "source": [
    "#### USANDO O PACOTE CUBATURE \n",
    "\n",
    "Sintaxe:\n",
    "```julia\n",
    "hquadrature(f, a, b, reltol, abstol, maxevals)\n",
    "```\n",
    "* ** f**: função matemática $f(x)$ expressa como uma expressão algébrica simbólica ou uma função genérica ou anônima;\n",
    "* ** a, b**: intervalos de integração\n",
    "* ** reltol**: tolerância do erro relativo (1e-8 padrão);\n",
    "* ** abstol**: tolerância do erro absoluto (0 padrão);\n",
    "* ** maxevals**: número máximo de avaliações da função (0 padrão).\n",
    "\n",
    "O resultado da integração é uma tupla contendo o valor da integral e erro (quanto menor melhor a precisão do valor)."
   ]
  },
  {
   "cell_type": "code",
   "execution_count": 32,
   "metadata": {
    "collapsed": false,
    "scrolled": true
   },
   "outputs": [
    {
     "data": {
      "text/plain": [
       "f9 (generic function with 1 method)"
      ]
     },
     "execution_count": 32,
     "metadata": {},
     "output_type": "execute_result"
    }
   ],
   "source": [
    "f9(x) = 1/(1 + x^2)"
   ]
  },
  {
   "cell_type": "code",
   "execution_count": 33,
   "metadata": {
    "collapsed": true
   },
   "outputs": [],
   "source": [
    "using HCubature"
   ]
  },
  {
   "cell_type": "code",
   "execution_count": 34,
   "metadata": {
    "collapsed": false
   },
   "outputs": [
    {
     "data": {
      "text/plain": [
       "(0.7853981633974483, 4.6064417539666956e-11)"
      ]
     },
     "execution_count": 34,
     "metadata": {},
     "output_type": "execute_result"
    }
   ],
   "source": [
    "# valor e erro\n",
    "valor , erro = hquadrature(f9, 1, 1e20)"
   ]
  },
  {
   "cell_type": "code",
   "execution_count": 35,
   "metadata": {
    "collapsed": false
   },
   "outputs": [
    {
     "data": {
      "text/plain": [
       "0.7853981633974483"
      ]
     },
     "execution_count": 35,
     "metadata": {},
     "output_type": "execute_result"
    }
   ],
   "source": [
    "# somente valor\n",
    "valor"
   ]
  },
  {
   "cell_type": "code",
   "execution_count": 36,
   "metadata": {
    "collapsed": false
   },
   "outputs": [
    {
     "data": {
      "text/plain": [
       "0.7853981633974483"
      ]
     },
     "execution_count": 36,
     "metadata": {},
     "output_type": "execute_result"
    }
   ],
   "source": [
    "# outra forma de mostrar somente o valor\n",
    "hquadrature(f9, 1, 1e20)[1]"
   ]
  },
  {
   "cell_type": "markdown",
   "metadata": {},
   "source": [
    "Exemplo: Calcular a integral $ \\displaystyle \\int_{-\\infty}^{\\infty} {1/(1 + x^2)} ~ dx ~$ entre  $~[-\\infty, \\infty]$\n",
    "\n",
    " $ \\displaystyle \\int_{-\\infty}^{\\infty} {1/(1 + x^2)} ~ dx = $ $\\displaystyle \\int_{-\\infty}^{0} {1/(1 + x^2)} ~ dx +  \\displaystyle \\int_{0}^{\\infty} {1/(1 + x^2)} ~ dx $ "
   ]
  },
  {
   "cell_type": "code",
   "execution_count": 37,
   "metadata": {
    "collapsed": false
   },
   "outputs": [
    {
     "data": {
      "text/plain": [
       "3.1415926535897953"
      ]
     },
     "execution_count": 37,
     "metadata": {},
     "output_type": "execute_result"
    }
   ],
   "source": [
    "hquadrature(f9, -1e20, 0)[1] + hquadrature(f9, 0, 1e20)[1]"
   ]
  },
  {
   "cell_type": "markdown",
   "metadata": {},
   "source": [
    "### INTEGRAÇÃO MULTIPLA "
   ]
  },
  {
   "cell_type": "markdown",
   "metadata": {},
   "source": [
    "#### INTEGRAL DUPLA SIMBÓLICA INDEFINIDA\n",
    "\n",
    "$\\displaystyle \\displaystyle \\int \\int {f(x,y)} ~dxdy $\n",
    "\n",
    "Sintaxe:\n",
    "```julia\n",
    "integrage(integrate(integrate(f(x, y), var_1), var_2)..., var_n)\n",
    "```\n",
    "ou\n",
    "```julia\n",
    "integrate(f(x, y), (var_1), (var_2), ..., (var_n))\n",
    "```\n",
    "Sendo:\n",
    "* **f(x, y)**: função matemática $f(x, y)$ expressa como uma expressão algébrica simbólica ou uma função genérica;\n",
    "* **var_1, var_2 ... var_n**: variável da função ou expressão algébrica;"
   ]
  },
  {
   "cell_type": "markdown",
   "metadata": {},
   "source": [
    "Exemplo: Calcular a integral \n",
    "$\\displaystyle \\displaystyle \\int \\int {xy - x + y} ~dxdy $"
   ]
  },
  {
   "cell_type": "code",
   "execution_count": 38,
   "metadata": {
    "collapsed": false,
    "scrolled": false
   },
   "outputs": [
    {
     "data": {
      "text/plain": [
       "(x, y)"
      ]
     },
     "execution_count": 38,
     "metadata": {},
     "output_type": "execute_result"
    }
   ],
   "source": [
    "using SymPy\n",
    "@syms x y"
   ]
  },
  {
   "cell_type": "code",
   "execution_count": 39,
   "metadata": {
    "collapsed": false,
    "scrolled": true
   },
   "outputs": [
    {
     "data": {
      "text/plain": [
       "f10 (generic function with 1 method)"
      ]
     },
     "execution_count": 39,
     "metadata": {},
     "output_type": "execute_result"
    }
   ],
   "source": [
    "f10(x , y) = x*y - x + y"
   ]
  },
  {
   "cell_type": "code",
   "execution_count": 40,
   "metadata": {
    "collapsed": false
   },
   "outputs": [
    {
     "data": {
      "text/latex": [
       "\\begin{equation*}- \\frac{x^{2} y}{2} + y^{2} \\left(\\frac{x^{2}}{4} + \\frac{x}{2}\\right)\\end{equation*}"
      ],
      "text/plain": [
       "   2        ⎛ 2    ⎞\n",
       "  x ⋅y    2 ⎜x    x⎟\n",
       "- ──── + y ⋅⎜── + ─⎟\n",
       "   2        ⎝4    2⎠"
      ]
     },
     "execution_count": 40,
     "metadata": {},
     "output_type": "execute_result"
    }
   ],
   "source": [
    "integrate(integrate(f10(x,y), x), y)"
   ]
  },
  {
   "cell_type": "markdown",
   "metadata": {},
   "source": [
    "Outra forma de utilizar a função `integrate()`:"
   ]
  },
  {
   "cell_type": "code",
   "execution_count": 41,
   "metadata": {
    "collapsed": false,
    "scrolled": true
   },
   "outputs": [
    {
     "data": {
      "text/latex": [
       "\\begin{equation*}- \\frac{x^{2} y}{2} + y^{2} \\left(\\frac{x^{2}}{4} + \\frac{x}{2}\\right)\\end{equation*}"
      ],
      "text/plain": [
       "   2        ⎛ 2    ⎞\n",
       "  x ⋅y    2 ⎜x    x⎟\n",
       "- ──── + y ⋅⎜── + ─⎟\n",
       "   2        ⎝4    2⎠"
      ]
     },
     "execution_count": 41,
     "metadata": {},
     "output_type": "execute_result"
    }
   ],
   "source": [
    "integrate(f10(x, y), (x), (y))"
   ]
  },
  {
   "cell_type": "markdown",
   "metadata": {},
   "source": [
    "#### INTEGRAL DUPLA SIMBÓLICA DEFINIDA\n",
    "\n",
    "$ \\displaystyle \\int_{a_2}^{b_2} \\int_{a_1}^{b_1} {f(x,y)} ~dxdy $\n",
    "\n",
    "Sintaxe:\n",
    "```julia\n",
    "integrate(integrate(f(x, y), var_1, a_1, b_1), var_2, a_2, b_2)\n",
    "```\n",
    "ou\n",
    "```julia\n",
    "integrate(f(x, y), (var_1, a_1, b_1), (var_2, a_1, b_1))\n",
    "```\n",
    "Sendo: \n",
    "* **f(x, y)**: função matemática $f(x, y)$ expressa como uma expressão algébrica simbólica ou uma função genérica;\n",
    "* **var_1, var_2 e var_3**: variáveis de $f(x, y)$;\n",
    "* **a_1, b_1, a_2, b_2**: limites de integração das variáveis da função/expressão algébrica ."
   ]
  },
  {
   "cell_type": "markdown",
   "metadata": {},
   "source": [
    "Calcular a integral $ \\displaystyle \\int_{0}^{1} \\int_{0}^{1} {xy - x + y} ~dxdy $"
   ]
  },
  {
   "cell_type": "code",
   "execution_count": 42,
   "metadata": {
    "collapsed": false
   },
   "outputs": [
    {
     "data": {
      "text/plain": [
       "(x, y)"
      ]
     },
     "execution_count": 42,
     "metadata": {},
     "output_type": "execute_result"
    }
   ],
   "source": [
    "using SymPy\n",
    "@syms x y"
   ]
  },
  {
   "cell_type": "code",
   "execution_count": 43,
   "metadata": {
    "collapsed": false
   },
   "outputs": [
    {
     "data": {
      "text/plain": [
       "f11 (generic function with 1 method)"
      ]
     },
     "execution_count": 43,
     "metadata": {},
     "output_type": "execute_result"
    }
   ],
   "source": [
    "f11(x, y) = x*y - x + y"
   ]
  },
  {
   "cell_type": "code",
   "execution_count": 44,
   "metadata": {
    "collapsed": false
   },
   "outputs": [
    {
     "data": {
      "text/latex": [
       "\\begin{equation*}\\frac{1}{4}\\end{equation*}"
      ],
      "text/plain": [
       "1/4"
      ]
     },
     "execution_count": 44,
     "metadata": {},
     "output_type": "execute_result"
    }
   ],
   "source": [
    "integrate( integrate(f11(x, y), x, 0, 1), y, 0, 1)"
   ]
  },
  {
   "cell_type": "markdown",
   "metadata": {},
   "source": [
    "Ou ainda mais prático"
   ]
  },
  {
   "cell_type": "code",
   "execution_count": 45,
   "metadata": {
    "collapsed": false
   },
   "outputs": [
    {
     "data": {
      "text/latex": [
       "\\begin{equation*}\\frac{1}{4}\\end{equation*}"
      ],
      "text/plain": [
       "1/4"
      ]
     },
     "execution_count": 45,
     "metadata": {},
     "output_type": "execute_result"
    }
   ],
   "source": [
    "integrate(f11(x, y), (x, 0, 1), (y, 0, 1))"
   ]
  },
  {
   "cell_type": "markdown",
   "metadata": {},
   "source": [
    "#### INTEGRAL TRIPLA SIMBÓLICA INDEFINIDA"
   ]
  },
  {
   "cell_type": "markdown",
   "metadata": {},
   "source": [
    "$\\displaystyle \\int \\int \\int {f(x,y)} ~dxdydz $\n",
    "\n",
    "Sintaxe:\n",
    "```julia\n",
    "integrate(integrate(integrate(f(x, y), var_1), var_2), var_3)\n",
    "```\n",
    "ou\n",
    "```julia\n",
    "integrate(f(x, y), (var_1), (var_2), (var_3))\n",
    "```\n",
    "Sendo: \n",
    "* **f(x, y)**: função matemática $f(x, y)$ expressa como uma expressão algébrica simbólica ou uma função genérica;\n",
    "* **var_1, var_2 e var_3**: variáveis de $f(x, y)$."
   ]
  },
  {
   "cell_type": "markdown",
   "metadata": {},
   "source": [
    "Exemplo: Calcular a integral $\\displaystyle \\int \\int \\int {xyz - x + y - z} ~~dxdydz $"
   ]
  },
  {
   "cell_type": "code",
   "execution_count": 46,
   "metadata": {
    "collapsed": false
   },
   "outputs": [
    {
     "data": {
      "text/plain": [
       "(x, y, z)"
      ]
     },
     "execution_count": 46,
     "metadata": {},
     "output_type": "execute_result"
    }
   ],
   "source": [
    "using SymPy\n",
    "@syms x y z"
   ]
  },
  {
   "cell_type": "code",
   "execution_count": 47,
   "metadata": {
    "collapsed": false,
    "scrolled": true
   },
   "outputs": [
    {
     "data": {
      "text/plain": [
       "f12 (generic function with 1 method)"
      ]
     },
     "execution_count": 47,
     "metadata": {},
     "output_type": "execute_result"
    }
   ],
   "source": [
    "f12(x, y, z) = x*y*z - x + y - z"
   ]
  },
  {
   "cell_type": "code",
   "execution_count": 48,
   "metadata": {
    "collapsed": false
   },
   "outputs": [
    {
     "data": {
      "text/latex": [
       "\\begin{equation*}z^{2} \\left(\\frac{x^{2} y^{2}}{8} - \\frac{x y}{2}\\right) + z \\left(- \\frac{x^{2} y}{2} + \\frac{x y^{2}}{2}\\right)\\end{equation*}"
      ],
      "text/plain": [
       "   ⎛ 2  2      ⎞     ⎛   2        2⎞\n",
       " 2 ⎜x ⋅y    x⋅y⎟     ⎜  x ⋅y   x⋅y ⎟\n",
       "z ⋅⎜───── - ───⎟ + z⋅⎜- ──── + ────⎟\n",
       "   ⎝  8      2 ⎠     ⎝   2      2  ⎠"
      ]
     },
     "execution_count": 48,
     "metadata": {},
     "output_type": "execute_result"
    }
   ],
   "source": [
    "int_tripla_a = integrate( integrate( integrate(f12(x, y, z), x), y), z)"
   ]
  },
  {
   "cell_type": "code",
   "execution_count": 49,
   "metadata": {
    "collapsed": false,
    "scrolled": true
   },
   "outputs": [
    {
     "data": {
      "text/latex": [
       "\\begin{equation*}\\frac{x y}{8} z \\left(- 4 x + 4 y + z \\left(x y - 4\\right)\\right)\\end{equation*}"
      ],
      "text/plain": [
       "x⋅y⋅z⋅(-4⋅x + 4⋅y + z⋅(x⋅y - 4))\n",
       "────────────────────────────────\n",
       "               8                "
      ]
     },
     "execution_count": 49,
     "metadata": {},
     "output_type": "execute_result"
    }
   ],
   "source": [
    "# simplificando o resultado\n",
    "simplify(int_tripla_a)"
   ]
  },
  {
   "cell_type": "markdown",
   "metadata": {},
   "source": [
    "Oura forma mais fácil"
   ]
  },
  {
   "cell_type": "code",
   "execution_count": 50,
   "metadata": {
    "collapsed": false,
    "scrolled": true
   },
   "outputs": [
    {
     "data": {
      "text/latex": [
       "\\begin{equation*}- y^{2} \\left(\\frac{y z}{2} - \\frac{1}{2}\\right) - y \\left(y - z\\right) + z^{2} \\left(\\frac{y z}{2} - \\frac{1}{2}\\right) + z \\left(y - z\\right)\\end{equation*}"
      ],
      "text/plain": [
       "   2 ⎛y⋅z   1⎞                2 ⎛y⋅z   1⎞            \n",
       "- y ⋅⎜─── - ─⎟ - y⋅(y - z) + z ⋅⎜─── - ─⎟ + z⋅(y - z)\n",
       "     ⎝ 2    2⎠                  ⎝ 2    2⎠            "
      ]
     },
     "execution_count": 50,
     "metadata": {},
     "output_type": "execute_result"
    }
   ],
   "source": [
    "int_tripla_b = integrate(f12(x, y, z), (x), (y), (z))"
   ]
  },
  {
   "cell_type": "code",
   "execution_count": 51,
   "metadata": {
    "collapsed": false
   },
   "outputs": [
    {
     "data": {
      "text/latex": [
       "\\begin{equation*}- \\frac{y^{3} z}{2} - \\frac{y^{2}}{2} + \\frac{y z^{3}}{2} + 2 y z - \\frac{3 z^{2}}{2}\\end{equation*}"
      ],
      "text/plain": [
       "   3      2      3              2\n",
       "  y ⋅z   y    y⋅z            3⋅z \n",
       "- ──── - ── + ──── + 2⋅y⋅z - ────\n",
       "   2     2     2              2  "
      ]
     },
     "execution_count": 51,
     "metadata": {},
     "output_type": "execute_result"
    }
   ],
   "source": [
    "# simplificando o resultado\n",
    "simplify(int_tripla_b)"
   ]
  },
  {
   "cell_type": "markdown",
   "metadata": {
    "collapsed": true
   },
   "source": [
    "#### INTEGRAL TRIPLA SIMBÓLICA DEFINIDA\n",
    "\n",
    "\n",
    "$\\displaystyle \\int_{a_3}^{b_3} \\int_{a_2}^{b_2} \\int_{a_1}^{b_1} f(x,y,z)\\, dxdydz$\n",
    "\n",
    "Sintaxe:\n",
    "```julia\n",
    "integrate(integrate(integrate(f(x, y), var_1, a_1, b_1), var_2, a_2, b_2), var_3, a_3, b_3)\n",
    "```\n",
    "ou\n",
    "```julia\n",
    "integrate(f(x, y), (var_1, a_1, b_1), (var_2, a_2, b_2), (var_3, a_3, b_3)\n",
    "```\n",
    "Sendo: \n",
    "* **f(x, y)**: função matemática $f(x, y)$ expressa como uma expressão algébrica simbólica ou uma função genérica;\n",
    "* **var_1, var_2 e var_3**: variáveis de $f(x, y)$;\n",
    "* **a, b**: limites de integração."
   ]
  },
  {
   "cell_type": "markdown",
   "metadata": {},
   "source": [
    "$ \\displaystyle \\int_{0}^{1} \\int_{0}^{1} \\int_{{0}}^{{1}} xyz - x + y - z~ dxdydz$"
   ]
  },
  {
   "cell_type": "code",
   "execution_count": 52,
   "metadata": {
    "collapsed": false
   },
   "outputs": [
    {
     "data": {
      "text/plain": [
       "f13 (generic function with 1 method)"
      ]
     },
     "execution_count": 52,
     "metadata": {},
     "output_type": "execute_result"
    }
   ],
   "source": [
    "f13(x, y, z) = x*y*z - x + y - z"
   ]
  },
  {
   "cell_type": "code",
   "execution_count": 53,
   "metadata": {
    "collapsed": false
   },
   "outputs": [
    {
     "data": {
      "text/latex": [
       "\\begin{equation*}- \\frac{3}{8}\\end{equation*}"
      ],
      "text/plain": [
       "-3/8"
      ]
     },
     "execution_count": 53,
     "metadata": {},
     "output_type": "execute_result"
    }
   ],
   "source": [
    "integrate(integrate(integrate(f13(x, y, z), x, 0, 1), y, 0, 1), z, 0, 1)"
   ]
  },
  {
   "cell_type": "markdown",
   "metadata": {},
   "source": [
    "Ou ainda mais prático"
   ]
  },
  {
   "cell_type": "code",
   "execution_count": 54,
   "metadata": {
    "collapsed": false
   },
   "outputs": [
    {
     "data": {
      "text/latex": [
       "\\begin{equation*}- \\frac{3}{8}\\end{equation*}"
      ],
      "text/plain": [
       "-3/8"
      ]
     },
     "execution_count": 54,
     "metadata": {},
     "output_type": "execute_result"
    }
   ],
   "source": [
    "integrate(f13(x, y, z), (x, 0, 1), (y, 0, 1),(z, 0, 1))"
   ]
  },
  {
   "cell_type": "markdown",
   "metadata": {},
   "source": [
    "### INTEGRAL MULTIPLA NUMÉRICA"
   ]
  },
  {
   "cell_type": "markdown",
   "metadata": {},
   "source": [
    "#### INTEGRAL  DUPLA NUMÉRICA\n",
    "$ \\displaystyle \\int_{a_2}^{b_2} \\int_{a_1}^{b_1} {f(x,y)} ~dxdy $\n",
    "\n",
    "Vamos utilizar o pacote Cubature. Sintaxe:\n",
    "```julia\n",
    "hcubature(f(x), [a_1,a_2], [b_1,b_2],reltol, abstol, maxevals)\n",
    "\n",
    "```\n",
    "* ** f(x)**: função, sendo x[1] correspondente à variável \"x\" x[2] correspondente a variável \"y\";\n",
    "* ** [a_1, a_2] e [b_1,b_2]**: intervalos de integração para x[1] e x[2];\n",
    "* ** reltol**: tolerância do erro relativo (1e-8 padrão);\n",
    "* ** abstol**: tolerância do erro absoluto (0 padrão);\n",
    "* ** maxevals**: número máximo de avaliações da função (0 padrão).\n",
    "\n",
    "O resultado da integração é uma tupla contendo o valor da integral e erro(quanto menor melhor a precisão do valor)."
   ]
  },
  {
   "cell_type": "markdown",
   "metadata": {},
   "source": [
    "Resolver a integral \n",
    "\n",
    "$ \\displaystyle \\int_{0}^{1} \\int_{0}^{1} xy - x + y\\, dxdy$"
   ]
  },
  {
   "cell_type": "code",
   "execution_count": 55,
   "metadata": {
    "collapsed": true
   },
   "outputs": [],
   "source": [
    "using HCubature"
   ]
  },
  {
   "cell_type": "code",
   "execution_count": 56,
   "metadata": {
    "collapsed": false
   },
   "outputs": [
    {
     "data": {
      "text/plain": [
       "f14 (generic function with 1 method)"
      ]
     },
     "execution_count": 56,
     "metadata": {},
     "output_type": "execute_result"
    }
   ],
   "source": [
    "f14(x) = x[1]*x[2] - x[1] + x[2]"
   ]
  },
  {
   "cell_type": "code",
   "execution_count": 57,
   "metadata": {
    "collapsed": false
   },
   "outputs": [
    {
     "data": {
      "text/plain": [
       "(0.25, 0.0)"
      ]
     },
     "execution_count": 57,
     "metadata": {},
     "output_type": "execute_result"
    }
   ],
   "source": [
    "# valor e erro \n",
    "valor, erro = hcubature(f14, [0, 0], [1, 1])"
   ]
  },
  {
   "cell_type": "code",
   "execution_count": 58,
   "metadata": {
    "collapsed": false
   },
   "outputs": [
    {
     "data": {
      "text/plain": [
       "0.25"
      ]
     },
     "execution_count": 58,
     "metadata": {},
     "output_type": "execute_result"
    }
   ],
   "source": [
    "# somente valor\n",
    "valor"
   ]
  },
  {
   "cell_type": "code",
   "execution_count": 59,
   "metadata": {
    "collapsed": false
   },
   "outputs": [
    {
     "data": {
      "text/plain": [
       "0.25"
      ]
     },
     "execution_count": 59,
     "metadata": {},
     "output_type": "execute_result"
    }
   ],
   "source": [
    "# outra forma\n",
    "hcubature(f14, [0, 0], [1, 1])[1]"
   ]
  },
  {
   "cell_type": "markdown",
   "metadata": {},
   "source": [
    "#### INTEGRAL TRIPLA NUMÉRICA \n",
    "\n",
    "$\\displaystyle \\int_{a_3}^{b_3} \\int_{a_2}^{b_2} \\int_{a_1}^{b_1} f(x,y,z)\\, ~~dxdydzb$\n",
    "\n",
    "Vamos utilizar o pacote Cubature. Sintaxe:\n",
    "```julia\n",
    "[valor_integral,erro]=hcubature(f(x),[a_1,a_2,a_3],[b_1,b_2,b_3],reltol,abstol,maxevals)\n",
    "```\n",
    "* ** f(x)**: função, sendo x[1] correspondente à variável \"x\", x[2] correspondente a variável \"y\" e x[3] correspondente a variável \"z\";\n",
    "* ** [a_1, a_2, a_3] e [b_1, b_2, b_3]**: intervalos de integração para x[1], x[2] e x[3]\n",
    "* ** reltol**: tolerância do erro relativo (1e-8 padrão);\n",
    "* ** abstol**: tolerância do erro absoluto (0 padrão);\n",
    "* ** maxevals**: número máximo de avaliações da função (0 padrão).\n",
    "\n",
    "O resultado da integração é uma tupla contendo o valor da integral e erro(quanto menor melhor a precisão do valor)."
   ]
  },
  {
   "cell_type": "code",
   "execution_count": 60,
   "metadata": {
    "collapsed": true
   },
   "outputs": [],
   "source": [
    "using HCubature"
   ]
  },
  {
   "cell_type": "code",
   "execution_count": 61,
   "metadata": {
    "collapsed": false,
    "scrolled": true
   },
   "outputs": [
    {
     "data": {
      "text/plain": [
       "f15 (generic function with 1 method)"
      ]
     },
     "execution_count": 61,
     "metadata": {},
     "output_type": "execute_result"
    }
   ],
   "source": [
    "f15(x) = x[1]*x[2]*x[3] - x[1] + x[2] + x[3]"
   ]
  },
  {
   "cell_type": "code",
   "execution_count": 62,
   "metadata": {
    "collapsed": false
   },
   "outputs": [
    {
     "data": {
      "text/plain": [
       "(0.6249999999999999, 0.0)"
      ]
     },
     "execution_count": 62,
     "metadata": {},
     "output_type": "execute_result"
    }
   ],
   "source": [
    "# valor e erro\n",
    "valor , erro = hcubature(f15, [0, 0, 0], [1, 1, 1]) "
   ]
  },
  {
   "cell_type": "code",
   "execution_count": 63,
   "metadata": {
    "collapsed": false,
    "scrolled": false
   },
   "outputs": [
    {
     "data": {
      "text/plain": [
       "0.6249999999999999"
      ]
     },
     "execution_count": 63,
     "metadata": {},
     "output_type": "execute_result"
    }
   ],
   "source": [
    "# somente valor \n",
    "valor"
   ]
  },
  {
   "cell_type": "code",
   "execution_count": 64,
   "metadata": {
    "collapsed": false
   },
   "outputs": [
    {
     "data": {
      "text/plain": [
       "0.6249999999999999"
      ]
     },
     "execution_count": 64,
     "metadata": {},
     "output_type": "execute_result"
    }
   ],
   "source": [
    "# Outra forma\n",
    "hcubature(f15, [0, 0, 0], [1, 1, 1])[1]"
   ]
  },
  {
   "cell_type": "markdown",
   "metadata": {
    "collapsed": true
   },
   "source": [
    "## REFERÊNCIA BIBLIOGRÁFICA\n",
    "STEWART, James. **Cálculo Vol. I**. 3ª reimpressão da 2ª edição de 2010. São Paulo: Pioneira Thomson Learning, 2002. ISBN 978-85221-0666-8. p. 480 a 484\n",
    "\n",
    "GILAT, Amos Pozo; SUBRAMANIAM, Vish. **Métodos numéricos para engenheiros e cientistas: : uma introdução com aplicações usando o MATLAB**. 1ª edição. Porto Alegre: Bookman, 2008. ISBN 978-85-7780-297-5\n",
    "\n",
    "DOWNING, Douglas. **Dictionary of mathematics terms**. 3. ed. Hauppauge, N.Y: Barron's, 2009. 410 p. v. 1. "
   ]
  },
  {
   "cell_type": "code",
   "execution_count": null,
   "metadata": {
    "collapsed": true
   },
   "outputs": [],
   "source": []
  }
 ],
 "metadata": {
  "@webio": {
   "lastCommId": "318449D29BF9459F84F3AC957DDF79A2",
   "lastKernelId": "278fed8c-1b78-4403-9a0d-da6e379b1d52"
  },
  "anaconda-cloud": {},
  "kernelspec": {
   "display_name": "Julia 1.0.2",
   "language": "julia",
   "name": "julia-1.0"
  },
  "language_info": {
   "file_extension": ".jl",
   "mimetype": "application/julia",
   "name": "julia",
   "version": "1.0.2"
  }
 },
 "nbformat": 4,
 "nbformat_minor": 1
}
