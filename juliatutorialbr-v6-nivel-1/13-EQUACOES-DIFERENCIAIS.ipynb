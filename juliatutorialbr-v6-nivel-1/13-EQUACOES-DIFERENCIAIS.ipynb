{
 "cells": [
  {
   "cell_type": "markdown",
   "metadata": {},
   "source": [
    "# EQUAÇÕES DIFERENCIAIS"
   ]
  },
  {
   "cell_type": "markdown",
   "metadata": {
    "collapsed": true
   },
   "source": []
  },
  {
   "cell_type": "markdown",
   "metadata": {},
   "source": [
    "## EQUAÇÕES DIFERENCIAIS DE PRIMEIRA ORDEM\n",
    "\n",
    "Texto"
   ]
  },
  {
   "cell_type": "markdown",
   "metadata": {},
   "source": [
    "### EQUAÇÕES DIFERENCIAIS DE PRIMEIRA ORDEM SIMBÓLICAS\n",
    "\n",
    "Texto"
   ]
  },
  {
   "cell_type": "markdown",
   "metadata": {},
   "source": [
    "Exemplo: Resolver a equação diferencial $~~\\displaystyle{\\frac{dy}{dx} = -x}$"
   ]
  },
  {
   "cell_type": "code",
   "execution_count": 2,
   "metadata": {
    "scrolled": false
   },
   "outputs": [
    {
     "data": {
      "text/plain": [
       "(,)"
      ]
     },
     "execution_count": 2,
     "metadata": {},
     "output_type": "execute_result"
    },
    {
     "name": "stdout",
     "output_type": "stream",
     "text": [
      "y\n"
     ]
    }
   ],
   "source": [
    "using SymPy\n",
    "\n",
    "@syms x\n",
    "@symfuns y"
   ]
  },
  {
   "cell_type": "code",
   "execution_count": 3,
   "metadata": {},
   "outputs": [
    {
     "data": {
      "text/plain": [
       "(SymFunction, Sym)"
      ]
     },
     "execution_count": 3,
     "metadata": {},
     "output_type": "execute_result"
    }
   ],
   "source": [
    "typeof(y) , typeof(x)"
   ]
  },
  {
   "cell_type": "code",
   "execution_count": 4,
   "metadata": {
    "scrolled": true
   },
   "outputs": [
    {
     "data": {
      "text/latex": [
       "\\begin{equation*}x + \\frac{d}{d x} y{\\left (x \\right )}\\end{equation*}"
      ],
      "text/plain": [
       "    d       \n",
       "x + ──(y(x))\n",
       "    dx      "
      ]
     },
     "execution_count": 4,
     "metadata": {},
     "output_type": "execute_result"
    }
   ],
   "source": [
    "edo1 = y'(x) + x "
   ]
  },
  {
   "cell_type": "code",
   "execution_count": 5,
   "metadata": {
    "scrolled": true
   },
   "outputs": [
    {
     "data": {
      "text/latex": [
       "\\begin{equation*}y{\\left (x \\right )} = C_{1} - \\frac{x^{2}}{2}\\end{equation*}"
      ],
      "text/plain": [
       "             2\n",
       "            x \n",
       "y(x) = C₁ - ──\n",
       "            2 "
      ]
     },
     "execution_count": 5,
     "metadata": {},
     "output_type": "execute_result"
    }
   ],
   "source": [
    "dsolve(edo1)"
   ]
  },
  {
   "cell_type": "markdown",
   "metadata": {},
   "source": [
    "** Método específico:**\n",
    "\n",
    "É possível resolver uma equação diferencial utilizando um método específico. São eles: variáveis separadas, bernoulli e outros."
   ]
  },
  {
   "cell_type": "code",
   "execution_count": 7,
   "metadata": {},
   "outputs": [
    {
     "data": {
      "text/latex": [
       "\\begin{equation*}y{\\left (x \\right )} = C_{1} - \\frac{x^{2}}{2}\\end{equation*}"
      ],
      "text/plain": [
       "             2\n",
       "            x \n",
       "y(x) = C₁ - ──\n",
       "            2 "
      ]
     },
     "execution_count": 7,
     "metadata": {},
     "output_type": "execute_result"
    }
   ],
   "source": [
    "dsolve(edo1, hint = \"separable\")"
   ]
  },
  {
   "cell_type": "code",
   "execution_count": 8,
   "metadata": {
    "scrolled": false
   },
   "outputs": [
    {
     "data": {
      "text/plain": [
       "Dict{Any,Any} with 17 entries:\n",
       "  \"separable\"               => Eq(y(x), C1 - x^2/2)\n",
       "  \"lie_group\"               => Eq(y(x), C1 - x^2/2)\n",
       "  \"1st_exact_Integral\"      => Eq(Subs(Integral(1, _y) + Integral(x, x), (_y,),…\n",
       "  \"Bernoulli\"               => Eq(y(x), C1 - x^2/2)\n",
       "  \"nth_linear_constant_coe… => Eq(y(x), C1 - Integral(x, x))\n",
       "  \"nth_linear_constant_coe… => Eq(y(x), C1 - x^2/2)\n",
       "  \"separable_Integral\"      => Eq(Integral(1, (_y, y(x))), C1 + Integral(-x, x))\n",
       "  \"1st_linear_Integral\"     => Eq(y(x), C1 + Integral(-x, x))\n",
       "  \"best\"                    => Eq(y(x), C1 - x^2/2)\n",
       "  \"1st_linear\"              => Eq(y(x), C1 - x^2/2)\n",
       "  \"nth_linear_constant_coe… => Eq(y(x), C1 - x^2/2)\n",
       "  \"default\"                 => \"separable\"\n",
       "  \"best_hint\"               => \"separable\"\n",
       "  \"1st_exact\"               => Eq(y(x), C1 - x^2/2)\n",
       "  \"1st_power_series\"        => Eq(y(x), -x^2/2 + C1 + O(x^6))\n",
       "  \"order\"                   => 1\n",
       "  \"Bernoulli_Integral\"      => Eq(y(x), C1 - Integral(x, x))"
      ]
     },
     "execution_count": 8,
     "metadata": {},
     "output_type": "execute_result"
    }
   ],
   "source": [
    "# usando todos os métodos possíveis\n",
    "sol_met = dsolve(edo1, hint = \"all\")"
   ]
  },
  {
   "cell_type": "code",
   "execution_count": 9,
   "metadata": {},
   "outputs": [
    {
     "data": {
      "text/plain": [
       "Dict{Any,Any}"
      ]
     },
     "execution_count": 9,
     "metadata": {},
     "output_type": "execute_result"
    }
   ],
   "source": [
    "typeof(sol_met)"
   ]
  },
  {
   "cell_type": "markdown",
   "metadata": {},
   "source": [
    "O resultado do cálculo da equação diferencial em todos os métodos é um dicionário. Para obter a solução de um métido específico use:\n",
    "```julia\n",
    "sol_met[\"nome_método\"]\n",
    "```"
   ]
  },
  {
   "cell_type": "code",
   "execution_count": 10,
   "metadata": {
    "scrolled": false
   },
   "outputs": [
    {
     "data": {
      "text/latex": [
       "\\begin{equation*}y{\\left (x \\right )} = - \\frac{x^{2}}{2} + C_{1} + \\mathcal{O}\\left(x^{6}\\right)\\end{equation*}"
      ],
      "text/plain": [
       "          2             \n",
       "         x          ⎛ 6⎞\n",
       "y(x) = - ── + C₁ + O⎝x ⎠\n",
       "         2              "
      ]
     },
     "execution_count": 10,
     "metadata": {},
     "output_type": "execute_result"
    }
   ],
   "source": [
    "sol_met[\"1st_power_series\"]"
   ]
  },
  {
   "cell_type": "code",
   "execution_count": 11,
   "metadata": {},
   "outputs": [
    {
     "data": {
      "text/latex": [
       "\\begin{equation*}y{\\left (x \\right )} = C_{1} - \\int x\\, dx\\end{equation*}"
      ],
      "text/plain": [
       "            ⌠     \n",
       "y(x) = C₁ - ⎮ x dx\n",
       "            ⌡     "
      ]
     },
     "execution_count": 11,
     "metadata": {},
     "output_type": "execute_result"
    }
   ],
   "source": [
    "sol_met[\"Bernoulli_Integral\"]"
   ]
  },
  {
   "cell_type": "markdown",
   "metadata": {},
   "source": [
    "#### EQUAÇÃO DIFERENCIAL  DE PRIMEIRA ORDEM COM VALORES INICIAIS "
   ]
  },
  {
   "cell_type": "markdown",
   "metadata": {},
   "source": [
    "Exemplo: Resolver a equação diferencial $~~\\displaystyle{\\frac{dy}{dx} = -x}~~$ , $~~y(0) = 1$"
   ]
  },
  {
   "cell_type": "code",
   "execution_count": 12,
   "metadata": {
    "scrolled": true
   },
   "outputs": [
    {
     "data": {
      "text/plain": [
       "(,)"
      ]
     },
     "execution_count": 12,
     "metadata": {},
     "output_type": "execute_result"
    },
    {
     "name": "stdout",
     "output_type": "stream",
     "text": [
      "y\n"
     ]
    }
   ],
   "source": [
    "using SymPy\n",
    "\n",
    "@syms x\n",
    "@symfuns y"
   ]
  },
  {
   "cell_type": "code",
   "execution_count": 13,
   "metadata": {},
   "outputs": [
    {
     "data": {
      "text/latex": [
       "\\begin{equation*}x + \\frac{d}{d x} y{\\left (x \\right )}\\end{equation*}"
      ],
      "text/plain": [
       "    d       \n",
       "x + ──(y(x))\n",
       "    dx      "
      ]
     },
     "execution_count": 13,
     "metadata": {},
     "output_type": "execute_result"
    }
   ],
   "source": [
    "edo1 = y'(x) + x"
   ]
  },
  {
   "cell_type": "code",
   "execution_count": 14,
   "metadata": {
    "scrolled": true
   },
   "outputs": [
    {
     "data": {
      "text/latex": [
       "\\begin{equation*}y{\\left (x \\right )} = - \\frac{x^{2}}{2} + 1\\end{equation*}"
      ],
      "text/plain": [
       "          2    \n",
       "         x     \n",
       "y(x) = - ── + 1\n",
       "         2     "
      ]
     },
     "execution_count": 14,
     "metadata": {},
     "output_type": "execute_result"
    }
   ],
   "source": [
    "sol_simb =  dsolve(edo1, x, (y, 0, 1))"
   ]
  },
  {
   "cell_type": "code",
   "execution_count": 15,
   "metadata": {
    "scrolled": true
   },
   "outputs": [
    {
     "data": {
      "text/latex": [
       "\\begin{equation*}y{\\left (1 \\right )} = \\frac{1}{2}\\end{equation*}"
      ],
      "text/plain": [
       "y(1) = 1/2"
      ]
     },
     "execution_count": 15,
     "metadata": {},
     "output_type": "execute_result"
    }
   ],
   "source": [
    "# Manipulando valores da solução\n",
    "sol_simb(1)"
   ]
  },
  {
   "cell_type": "code",
   "execution_count": 16,
   "metadata": {},
   "outputs": [
    {
     "data": {
      "text/latex": [
       "\\begin{equation*}\\frac{1}{2}\\end{equation*}"
      ],
      "text/plain": [
       "1/2"
      ]
     },
     "execution_count": 16,
     "metadata": {},
     "output_type": "execute_result"
    }
   ],
   "source": [
    "# ou somente a função \"y\"\n",
    "Y = rhs(sol_simb)\n",
    "\n",
    "Y(1)"
   ]
  },
  {
   "cell_type": "markdown",
   "metadata": {},
   "source": [
    "Exemplo: Calcular a equação diferencial $\\displaystyle{ \\frac{dy}{dx} = - xy ~~}$, $~~y(0) = 1$"
   ]
  },
  {
   "cell_type": "code",
   "execution_count": 17,
   "metadata": {},
   "outputs": [
    {
     "data": {
      "text/plain": [
       "(,)"
      ]
     },
     "execution_count": 17,
     "metadata": {},
     "output_type": "execute_result"
    },
    {
     "name": "stdout",
     "output_type": "stream",
     "text": [
      "y\n"
     ]
    }
   ],
   "source": [
    "using SymPy\n",
    "\n",
    "@syms x\n",
    "@symfuns y"
   ]
  },
  {
   "cell_type": "code",
   "execution_count": 18,
   "metadata": {
    "scrolled": true
   },
   "outputs": [
    {
     "data": {
      "text/latex": [
       "\\begin{equation*}y{\\left (x \\right )} = e^{- \\frac{x^{2}}{2}}\\end{equation*}"
      ],
      "text/plain": [
       "          2 \n",
       "        -x  \n",
       "        ────\n",
       "         2  \n",
       "y(x) = ℯ    "
      ]
     },
     "execution_count": 18,
     "metadata": {},
     "output_type": "execute_result"
    }
   ],
   "source": [
    "sol_simb2 =  dsolve( y'(x) + x*y(x)  , x , (y,0,1))"
   ]
  },
  {
   "cell_type": "code",
   "execution_count": 20,
   "metadata": {},
   "outputs": [
    {
     "data": {
      "text/latex": [
       "\\begin{equation*}y{\\left (1 \\right )} = e^{- \\frac{1}{2}}\\end{equation*}"
      ],
      "text/plain": [
       "        -1/2\n",
       "y(1) = ℯ    "
      ]
     },
     "execution_count": 20,
     "metadata": {},
     "output_type": "execute_result"
    }
   ],
   "source": [
    "# Manipulando valores da solução\n",
    "sol_simb2(1)"
   ]
  },
  {
   "cell_type": "code",
   "execution_count": 27,
   "metadata": {
    "scrolled": true
   },
   "outputs": [
    {
     "data": {
      "text/latex": [
       "\\begin{equation*}e^{- \\frac{1}{2}}\\end{equation*}"
      ],
      "text/plain": [
       " -1/2\n",
       "ℯ    "
      ]
     },
     "execution_count": 27,
     "metadata": {},
     "output_type": "execute_result"
    }
   ],
   "source": [
    "# ou somente a função \"y\"\n",
    "Ys = rhs(sol_simb2) \n",
    "\n",
    "Ys(1) "
   ]
  },
  {
   "cell_type": "code",
   "execution_count": 35,
   "metadata": {},
   "outputs": [
    {
     "data": {
      "text/latex": [
       "$$e^{- \\frac{1}{2}}$$"
      ],
      "text/plain": [
       " -1/2\n",
       "e    "
      ]
     },
     "execution_count": 35,
     "metadata": {},
     "output_type": "execute_result"
    }
   ],
   "source": [
    "# ou ainda \n",
    "rhs(sol_simb2)(1)"
   ]
  },
  {
   "cell_type": "markdown",
   "metadata": {},
   "source": [
    "#### GRÁFICO DA SOLUÇÃO DA EQUAÇÃO DIFERENCIAL DE PRIMEIRA ORDEM "
   ]
  },
  {
   "cell_type": "code",
   "execution_count": 32,
   "metadata": {
    "scrolled": false
   },
   "outputs": [
    {
     "data": {
      "image/svg+xml": [
       "<?xml version=\"1.0\" encoding=\"utf-8\"?>\n",
       "<svg xmlns=\"http://www.w3.org/2000/svg\" xmlns:xlink=\"http://www.w3.org/1999/xlink\" width=\"400\" height=\"300\" viewBox=\"0 0 1600 1200\">\n",
       "<defs>\n",
       "  <clipPath id=\"clip8400\">\n",
       "    <rect x=\"0\" y=\"0\" width=\"2000\" height=\"2000\"/>\n",
       "  </clipPath>\n",
       "</defs>\n",
       "<defs>\n",
       "  <clipPath id=\"clip8401\">\n",
       "    <rect x=\"0\" y=\"0\" width=\"1600\" height=\"1200\"/>\n",
       "  </clipPath>\n",
       "</defs>\n",
       "<polygon clip-path=\"url(#clip8401)\" points=\"\n",
       "0,1200 1600,1200 1600,0 0,0 \n",
       "  \" fill=\"#ffffff\" fill-opacity=\"1\"/>\n",
       "<defs>\n",
       "  <clipPath id=\"clip8402\">\n",
       "    <rect x=\"320\" y=\"0\" width=\"1121\" height=\"1121\"/>\n",
       "  </clipPath>\n",
       "</defs>\n",
       "<polygon clip-path=\"url(#clip8401)\" points=\"\n",
       "161.394,1099.28 1521.26,1099.28 1521.26,47.2441 161.394,47.2441 \n",
       "  \" fill=\"#ffffff\" fill-opacity=\"1\"/>\n",
       "<defs>\n",
       "  <clipPath id=\"clip8403\">\n",
       "    <rect x=\"161\" y=\"47\" width=\"1361\" height=\"1053\"/>\n",
       "  </clipPath>\n",
       "</defs>\n",
       "<polyline clip-path=\"url(#clip8403)\" style=\"stroke:#000000; stroke-width:2; stroke-opacity:0.1; fill:none\" points=\"\n",
       "  199.881,1099.28 199.881,47.2441 \n",
       "  \"/>\n",
       "<polyline clip-path=\"url(#clip8403)\" style=\"stroke:#000000; stroke-width:2; stroke-opacity:0.1; fill:none\" points=\"\n",
       "  520.604,1099.28 520.604,47.2441 \n",
       "  \"/>\n",
       "<polyline clip-path=\"url(#clip8403)\" style=\"stroke:#000000; stroke-width:2; stroke-opacity:0.1; fill:none\" points=\"\n",
       "  841.327,1099.28 841.327,47.2441 \n",
       "  \"/>\n",
       "<polyline clip-path=\"url(#clip8403)\" style=\"stroke:#000000; stroke-width:2; stroke-opacity:0.1; fill:none\" points=\"\n",
       "  1162.05,1099.28 1162.05,47.2441 \n",
       "  \"/>\n",
       "<polyline clip-path=\"url(#clip8403)\" style=\"stroke:#000000; stroke-width:2; stroke-opacity:0.1; fill:none\" points=\"\n",
       "  1482.77,1099.28 1482.77,47.2441 \n",
       "  \"/>\n",
       "<polyline clip-path=\"url(#clip8403)\" style=\"stroke:#000000; stroke-width:2; stroke-opacity:0.1; fill:none\" points=\"\n",
       "  161.394,995.284 1521.26,995.284 \n",
       "  \"/>\n",
       "<polyline clip-path=\"url(#clip8403)\" style=\"stroke:#000000; stroke-width:2; stroke-opacity:0.1; fill:none\" points=\"\n",
       "  161.394,765.718 1521.26,765.718 \n",
       "  \"/>\n",
       "<polyline clip-path=\"url(#clip8403)\" style=\"stroke:#000000; stroke-width:2; stroke-opacity:0.1; fill:none\" points=\"\n",
       "  161.394,536.151 1521.26,536.151 \n",
       "  \"/>\n",
       "<polyline clip-path=\"url(#clip8403)\" style=\"stroke:#000000; stroke-width:2; stroke-opacity:0.1; fill:none\" points=\"\n",
       "  161.394,306.585 1521.26,306.585 \n",
       "  \"/>\n",
       "<polyline clip-path=\"url(#clip8403)\" style=\"stroke:#000000; stroke-width:2; stroke-opacity:0.1; fill:none\" points=\"\n",
       "  161.394,77.0188 1521.26,77.0188 \n",
       "  \"/>\n",
       "<polyline clip-path=\"url(#clip8401)\" style=\"stroke:#000000; stroke-width:4; stroke-opacity:1; fill:none\" points=\"\n",
       "  161.394,1099.28 1521.26,1099.28 \n",
       "  \"/>\n",
       "<polyline clip-path=\"url(#clip8401)\" style=\"stroke:#000000; stroke-width:4; stroke-opacity:1; fill:none\" points=\"\n",
       "  161.394,1099.28 161.394,47.2441 \n",
       "  \"/>\n",
       "<polyline clip-path=\"url(#clip8401)\" style=\"stroke:#000000; stroke-width:4; stroke-opacity:1; fill:none\" points=\"\n",
       "  199.881,1099.28 199.881,1083.5 \n",
       "  \"/>\n",
       "<polyline clip-path=\"url(#clip8401)\" style=\"stroke:#000000; stroke-width:4; stroke-opacity:1; fill:none\" points=\"\n",
       "  520.604,1099.28 520.604,1083.5 \n",
       "  \"/>\n",
       "<polyline clip-path=\"url(#clip8401)\" style=\"stroke:#000000; stroke-width:4; stroke-opacity:1; fill:none\" points=\"\n",
       "  841.327,1099.28 841.327,1083.5 \n",
       "  \"/>\n",
       "<polyline clip-path=\"url(#clip8401)\" style=\"stroke:#000000; stroke-width:4; stroke-opacity:1; fill:none\" points=\"\n",
       "  1162.05,1099.28 1162.05,1083.5 \n",
       "  \"/>\n",
       "<polyline clip-path=\"url(#clip8401)\" style=\"stroke:#000000; stroke-width:4; stroke-opacity:1; fill:none\" points=\"\n",
       "  1482.77,1099.28 1482.77,1083.5 \n",
       "  \"/>\n",
       "<polyline clip-path=\"url(#clip8401)\" style=\"stroke:#000000; stroke-width:4; stroke-opacity:1; fill:none\" points=\"\n",
       "  161.394,995.284 181.792,995.284 \n",
       "  \"/>\n",
       "<polyline clip-path=\"url(#clip8401)\" style=\"stroke:#000000; stroke-width:4; stroke-opacity:1; fill:none\" points=\"\n",
       "  161.394,765.718 181.792,765.718 \n",
       "  \"/>\n",
       "<polyline clip-path=\"url(#clip8401)\" style=\"stroke:#000000; stroke-width:4; stroke-opacity:1; fill:none\" points=\"\n",
       "  161.394,536.151 181.792,536.151 \n",
       "  \"/>\n",
       "<polyline clip-path=\"url(#clip8401)\" style=\"stroke:#000000; stroke-width:4; stroke-opacity:1; fill:none\" points=\"\n",
       "  161.394,306.585 181.792,306.585 \n",
       "  \"/>\n",
       "<polyline clip-path=\"url(#clip8401)\" style=\"stroke:#000000; stroke-width:4; stroke-opacity:1; fill:none\" points=\"\n",
       "  161.394,77.0188 181.792,77.0188 \n",
       "  \"/>\n",
       "<g clip-path=\"url(#clip8401)\">\n",
       "<text style=\"fill:#000000; fill-opacity:1; font-family:Arial,Helvetica Neue,Helvetica,sans-serif; font-size:48; text-anchor:middle;\" transform=\"rotate(0, 199.881, 1149.28)\" x=\"199.881\" y=\"1149.28\">0.0</text>\n",
       "</g>\n",
       "<g clip-path=\"url(#clip8401)\">\n",
       "<text style=\"fill:#000000; fill-opacity:1; font-family:Arial,Helvetica Neue,Helvetica,sans-serif; font-size:48; text-anchor:middle;\" transform=\"rotate(0, 520.604, 1149.28)\" x=\"520.604\" y=\"1149.28\">0.5</text>\n",
       "</g>\n",
       "<g clip-path=\"url(#clip8401)\">\n",
       "<text style=\"fill:#000000; fill-opacity:1; font-family:Arial,Helvetica Neue,Helvetica,sans-serif; font-size:48; text-anchor:middle;\" transform=\"rotate(0, 841.327, 1149.28)\" x=\"841.327\" y=\"1149.28\">1.0</text>\n",
       "</g>\n",
       "<g clip-path=\"url(#clip8401)\">\n",
       "<text style=\"fill:#000000; fill-opacity:1; font-family:Arial,Helvetica Neue,Helvetica,sans-serif; font-size:48; text-anchor:middle;\" transform=\"rotate(0, 1162.05, 1149.28)\" x=\"1162.05\" y=\"1149.28\">1.5</text>\n",
       "</g>\n",
       "<g clip-path=\"url(#clip8401)\">\n",
       "<text style=\"fill:#000000; fill-opacity:1; font-family:Arial,Helvetica Neue,Helvetica,sans-serif; font-size:48; text-anchor:middle;\" transform=\"rotate(0, 1482.77, 1149.28)\" x=\"1482.77\" y=\"1149.28\">2.0</text>\n",
       "</g>\n",
       "<g clip-path=\"url(#clip8401)\">\n",
       "<text style=\"fill:#000000; fill-opacity:1; font-family:Arial,Helvetica Neue,Helvetica,sans-serif; font-size:48; text-anchor:end;\" transform=\"rotate(0, 145.394, 1012.78)\" x=\"145.394\" y=\"1012.78\">0.2</text>\n",
       "</g>\n",
       "<g clip-path=\"url(#clip8401)\">\n",
       "<text style=\"fill:#000000; fill-opacity:1; font-family:Arial,Helvetica Neue,Helvetica,sans-serif; font-size:48; text-anchor:end;\" transform=\"rotate(0, 145.394, 783.218)\" x=\"145.394\" y=\"783.218\">0.4</text>\n",
       "</g>\n",
       "<g clip-path=\"url(#clip8401)\">\n",
       "<text style=\"fill:#000000; fill-opacity:1; font-family:Arial,Helvetica Neue,Helvetica,sans-serif; font-size:48; text-anchor:end;\" transform=\"rotate(0, 145.394, 553.651)\" x=\"145.394\" y=\"553.651\">0.6</text>\n",
       "</g>\n",
       "<g clip-path=\"url(#clip8401)\">\n",
       "<text style=\"fill:#000000; fill-opacity:1; font-family:Arial,Helvetica Neue,Helvetica,sans-serif; font-size:48; text-anchor:end;\" transform=\"rotate(0, 145.394, 324.085)\" x=\"145.394\" y=\"324.085\">0.8</text>\n",
       "</g>\n",
       "<g clip-path=\"url(#clip8401)\">\n",
       "<text style=\"fill:#000000; fill-opacity:1; font-family:Arial,Helvetica Neue,Helvetica,sans-serif; font-size:48; text-anchor:end;\" transform=\"rotate(0, 145.394, 94.5188)\" x=\"145.394\" y=\"94.5188\">1.0</text>\n",
       "</g>\n",
       "<polyline clip-path=\"url(#clip8403)\" style=\"stroke:#009af9; stroke-width:4; stroke-opacity:1; fill:none\" points=\"\n",
       "  199.881,77.0188 264.025,82.7436 328.17,99.7474 392.315,127.526 456.459,165.268 520.604,211.893 584.748,266.101 648.893,326.437 713.038,391.354 777.182,459.273 \n",
       "  841.327,528.655 905.472,598.049 969.616,666.141 1033.76,731.791 1097.91,794.057 1162.05,852.204 1226.19,905.71 1290.34,954.254 1354.48,997.696 1418.63,1036.06 \n",
       "  1482.77,1069.51 \n",
       "  \"/>\n",
       "<polygon clip-path=\"url(#clip8401)\" points=\"\n",
       "1289.19,203.724 1473.26,203.724 1473.26,82.7641 1289.19,82.7641 \n",
       "  \" fill=\"#ffffff\" fill-opacity=\"1\"/>\n",
       "<polyline clip-path=\"url(#clip8401)\" style=\"stroke:#000000; stroke-width:4; stroke-opacity:1; fill:none\" points=\"\n",
       "  1289.19,203.724 1473.26,203.724 1473.26,82.7641 1289.19,82.7641 1289.19,203.724 \n",
       "  \"/>\n",
       "<polyline clip-path=\"url(#clip8401)\" style=\"stroke:#009af9; stroke-width:4; stroke-opacity:1; fill:none\" points=\"\n",
       "  1305.19,143.244 1401.19,143.244 \n",
       "  \"/>\n",
       "<g clip-path=\"url(#clip8401)\">\n",
       "<text style=\"fill:#000000; fill-opacity:1; font-family:Arial,Helvetica Neue,Helvetica,sans-serif; font-size:48; text-anchor:start;\" transform=\"rotate(0, 1417.19, 160.744)\" x=\"1417.19\" y=\"160.744\">y</text>\n",
       "</g>\n",
       "</svg>\n"
      ]
     },
     "execution_count": 32,
     "metadata": {},
     "output_type": "execute_result"
    }
   ],
   "source": [
    "using Plots\n",
    "gr()\n",
    "\n",
    "plot((Ys), 0:0.1:2, size = (400, 300), label = \"y\")"
   ]
  },
  {
   "cell_type": "markdown",
   "metadata": {},
   "source": [
    "#### CAMPO DE DIREÇÕES DE UMA EQUAÇÃO DIFERENCIAL DE PRIMEIRA ORDEM"
   ]
  },
  {
   "cell_type": "code",
   "execution_count": null,
   "metadata": {
    "collapsed": true
   },
   "outputs": [],
   "source": []
  },
  {
   "cell_type": "markdown",
   "metadata": {},
   "source": [
    "### EQUAÇÃO DIFERENCIAL DE PRIMEIRA ORDEM NUMÉRICA "
   ]
  },
  {
   "cell_type": "markdown",
   "metadata": {},
   "source": [
    "#### Pacote ODE\n",
    "\n",
    "Atualmente, ODE exporta os seguintes métodos de solução:\n",
    "\n",
    "- ode23: `Solver` de 2ª ordem com controle de erro 3ª ordem, com base nos coeficientes de Bogacki-Shampine;\n",
    "\n",
    "\n",
    "- ode45: `Solver` de 4ª ordem com controle de erro 5º ordem, usando os coeficientes de Dormand. Coeficientes de Fehlberg e Cash-Karp também estão disponíveis;\n",
    "\n",
    "\n",
    "- ode78: `Solver` de 7ª ordem com controle de erro 8ª ordem, usando os coeficientes de Fehlberg;\n",
    "\n",
    "\n",
    "- ode23s: `Solver` de 2ª/3ª ordem para problemas rígidos, utilizando uma modificação de Rosenbrock."
   ]
  },
  {
   "cell_type": "markdown",
   "metadata": {},
   "source": [
    "$\\displaystyle{\\frac{dy}{dx}=(-5x - \\frac{y}{5})^3 + 10}$"
   ]
  },
  {
   "cell_type": "code",
   "execution_count": 34,
   "metadata": {},
   "outputs": [
    {
     "name": "stderr",
     "output_type": "stream",
     "text": [
      "┌ Info: Precompiling ODE [c030b06c-0b6d-57c2-b091-7029874bd033]\n",
      "└ @ Base loading.jl:1189\n"
     ]
    }
   ],
   "source": [
    "using ODE"
   ]
  },
  {
   "cell_type": "code",
   "execution_count": 41,
   "metadata": {
    "scrolled": true
   },
   "outputs": [
    {
     "data": {
      "text/plain": [
       "Rk_JL (generic function with 1 method)"
      ]
     },
     "execution_count": 41,
     "metadata": {},
     "output_type": "execute_result"
    }
   ],
   "source": [
    "function Rk_JL()\n",
    "    \n",
    "  f(x, y) = (-5.0*x - y/5.0)^3 + 10.0\n",
    "  tspan  = 0.:0.1:1.0\n",
    "  y0     = [0.0, 1.0]\n",
    "    \n",
    "  return ode45(f, y0,tspan)\n",
    "end"
   ]
  },
  {
   "cell_type": "code",
   "execution_count": 42,
   "metadata": {
    "scrolled": false
   },
   "outputs": [
    {
     "ename": "MethodError",
     "evalue": "MethodError: no method matching -(::Float64, ::Array{Float64,1})\nClosest candidates are:\n  -(::Float64, !Matched::Float64) at float.jl:397\n  -(::Float64) at float.jl:387\n  -(!Matched::PyCall.PyObject, ::Any) at /home/jmarcellopereira/.julia/packages/PyCall/rUul9/src/pyoperators.jl:14\n  ...",
     "output_type": "error",
     "traceback": [
      "MethodError: no method matching -(::Float64, ::Array{Float64,1})\nClosest candidates are:\n  -(::Float64, !Matched::Float64) at float.jl:397\n  -(::Float64) at float.jl:387\n  -(!Matched::PyCall.PyObject, ::Any) at /home/jmarcellopereira/.julia/packages/PyCall/rUul9/src/pyoperators.jl:14\n  ...",
      "",
      "Stacktrace:",
      " [1] (::getfield(Main, Symbol(\"#f#6\")))(::Float64, ::Array{Float64,1}) at ./In[41]:3",
      " [2] hinit(::getfield(Main, Symbol(\"#f#6\")), ::Array{Float64,1}, ::Float64, ::Float64, ::Int64, ::Float64, ::Float64) at /home/jmarcellopereira/.julia/packages/ODE/AfTLy/src/ODE.jl:92",
      " [3] #oderk_adapt#13(::Float64, ::Float64, ::Function, ::Float64, ::Float64, ::Int64, ::Symbol, ::Function, ::getfield(Main, Symbol(\"#f#6\")), ::Array{Float64,1}, ::StepRangeLen{Float64,Base.TwicePrecision{Float64},Base.TwicePrecision{Float64}}, ::ODE.TableauRKExplicit{:dopri,7,Rational{Int64}}) at /home/jmarcellopereira/.julia/packages/ODE/AfTLy/src/runge_kutta.jl:283",
      " [4] Rk_JL() at /home/jmarcellopereira/.julia/packages/ODE/AfTLy/src/runge_kutta.jl:244",
      " [5] top-level scope at In[42]:1"
     ]
    }
   ],
   "source": [
    "x , y = Rk_JL()\n",
    "y"
   ]
  },
  {
   "cell_type": "markdown",
   "metadata": {},
   "source": [
    "## EQUAÇÕES DIFERENCIAIS DE SEGUNDA ORDEM"
   ]
  },
  {
   "cell_type": "markdown",
   "metadata": {},
   "source": [
    "$\\displaystyle{ y'' - 4y - x = 0}$ \n",
    "\n",
    "Exemplo: Resolva a equação diferencial $\\displaystyle{ \\frac{d^2y}{d^2x} = x + 4y}$"
   ]
  },
  {
   "cell_type": "code",
   "execution_count": 43,
   "metadata": {
    "scrolled": false
   },
   "outputs": [
    {
     "data": {
      "text/plain": [
       "(,)"
      ]
     },
     "execution_count": 43,
     "metadata": {},
     "output_type": "execute_result"
    },
    {
     "name": "stdout",
     "output_type": "stream",
     "text": [
      "y\n"
     ]
    }
   ],
   "source": [
    "using SymPy\n",
    "\n",
    "@syms x\n",
    "@symfuns y"
   ]
  },
  {
   "cell_type": "code",
   "execution_count": 21,
   "metadata": {},
   "outputs": [
    {
     "data": {
      "text/latex": [
       "$$- x - 4 y{\\left (x \\right )} + \\frac{d^{2}}{d x^{2}}  y{\\left (x \\right )}$$"
      ],
      "text/plain": [
       "                2      \n",
       "               d       \n",
       "-x - 4⋅y(x) + ───(y(x))\n",
       "                2      \n",
       "              dx       "
      ]
     },
     "execution_count": 21,
     "metadata": {},
     "output_type": "execute_result"
    }
   ],
   "source": [
    "edo2 = y''(x) - 4*y(x) - x"
   ]
  },
  {
   "cell_type": "code",
   "execution_count": 22,
   "metadata": {},
   "outputs": [
    {
     "data": {
      "text/latex": [
       "$$y{\\left (x \\right )} = C_{1} e^{- 2 x} + C_{2} e^{2 x} - \\frac{x}{4}$$"
      ],
      "text/plain": [
       "           -2⋅x       2⋅x   x\n",
       "y(x) = C₁⋅ℯ     + C₂⋅ℯ    - ─\n",
       "                            4"
      ]
     },
     "execution_count": 22,
     "metadata": {},
     "output_type": "execute_result"
    }
   ],
   "source": [
    "dsolve(edo2)"
   ]
  },
  {
   "cell_type": "markdown",
   "metadata": {},
   "source": [
    "#### EQUAÇÃO DIFERENCIAL DE SEGUNDA ORDEM COM VALORES INICIAIS "
   ]
  },
  {
   "cell_type": "markdown",
   "metadata": {},
   "source": [
    "Exemplo: Resolva o problema de valor inicial  $~~\\displaystyle{ \\frac{d^2y}{d^2x} = x + 4y}~~$, $~~y(0)=1~~$ , $~~y'(0) = 0$"
   ]
  },
  {
   "cell_type": "code",
   "execution_count": 23,
   "metadata": {},
   "outputs": [
    {
     "data": {
      "text/plain": [
       "(,)"
      ]
     },
     "execution_count": 23,
     "metadata": {},
     "output_type": "execute_result"
    },
    {
     "name": "stdout",
     "output_type": "stream",
     "text": [
      "y\n"
     ]
    }
   ],
   "source": [
    "using SymPy\n",
    "\n",
    "@syms x\n",
    "@symfuns y"
   ]
  },
  {
   "cell_type": "code",
   "execution_count": 26,
   "metadata": {},
   "outputs": [
    {
     "data": {
      "text/latex": [
       "$$- x - 4 y{\\left (x \\right )} + \\frac{d^{2}}{d x^{2}}  y{\\left (x \\right )}$$"
      ],
      "text/plain": [
       "                2      \n",
       "               d       \n",
       "-x - 4⋅y(x) + ───(y(x))\n",
       "                2      \n",
       "              dx       "
      ]
     },
     "execution_count": 26,
     "metadata": {},
     "output_type": "execute_result"
    }
   ],
   "source": [
    "edo2 = y''(x) - 4*y(x) - x"
   ]
  },
  {
   "cell_type": "code",
   "execution_count": 27,
   "metadata": {
    "scrolled": true
   },
   "outputs": [
    {
     "data": {
      "text/latex": [
       "$$y{\\left (x \\right )} = - \\frac{x}{4} + \\frac{9}{16} e^{2 x} + \\frac{7}{16} e^{- 2 x}$$"
      ],
      "text/plain": [
       "                2⋅x      -2⋅x\n",
       "         x   9⋅ℯ      7⋅ℯ    \n",
       "y(x) = - ─ + ────── + ───────\n",
       "         4     16        16  "
      ]
     },
     "execution_count": 27,
     "metadata": {},
     "output_type": "execute_result"
    }
   ],
   "source": [
    "sol_simb_ord2 = dsolve(edo2, x, (y, 0, 1), (y', 0, 0))"
   ]
  },
  {
   "cell_type": "code",
   "execution_count": 28,
   "metadata": {
    "scrolled": true
   },
   "outputs": [
    {
     "data": {
      "text/latex": [
       "$$y{\\left (1 \\right )} = - \\frac{1}{4} + \\frac{7}{16 e^{2}} + \\frac{9 e^{2}}{16}$$"
      ],
      "text/plain": [
       "                -2      2\n",
       "         1   7⋅ℯ     9⋅ℯ \n",
       "y(1) = - ─ + ───── + ────\n",
       "         4     16     16 "
      ]
     },
     "execution_count": 28,
     "metadata": {},
     "output_type": "execute_result"
    }
   ],
   "source": [
    "# manipulando ao solução geral \n",
    "sol_simb_ord2(1)"
   ]
  },
  {
   "cell_type": "code",
   "execution_count": 29,
   "metadata": {},
   "outputs": [
    {
     "data": {
      "text/latex": [
       "$$- \\frac{1}{4} + \\frac{7}{16 e^{2}} + \\frac{9 e^{2}}{16}$$"
      ],
      "text/plain": [
       "         -2      2\n",
       "  1   7⋅ℯ     9⋅ℯ \n",
       "- ─ + ───── + ────\n",
       "  4     16     16 "
      ]
     },
     "execution_count": 29,
     "metadata": {},
     "output_type": "execute_result"
    }
   ],
   "source": [
    "# Manipulando a solução \"y\"\n",
    "# ou somente a função \"y\"\n",
    "Y2ord = rhs(sol_simb_ord2) \n",
    "\n",
    "Y2ord(1) "
   ]
  },
  {
   "cell_type": "code",
   "execution_count": 30,
   "metadata": {},
   "outputs": [
    {
     "data": {
      "text/latex": [
       "$$- \\frac{1}{4} + \\frac{7}{16 e^{2}} + \\frac{9 e^{2}}{16}$$"
      ],
      "text/plain": [
       "         -2      2\n",
       "  1   7⋅ℯ     9⋅ℯ \n",
       "- ─ + ───── + ────\n",
       "  4     16     16 "
      ]
     },
     "execution_count": 30,
     "metadata": {},
     "output_type": "execute_result"
    }
   ],
   "source": [
    "# ou ainda\n",
    "rhs(sol_simb_ord2)(1)"
   ]
  },
  {
   "cell_type": "markdown",
   "metadata": {},
   "source": [
    "#### GRÁFICO DA SOLUÇÃO DA EQUAÇÃO DIFERENCIAL DE SEGUNDA ORDEM "
   ]
  },
  {
   "cell_type": "code",
   "execution_count": 31,
   "metadata": {
    "scrolled": true
   },
   "outputs": [
    {
     "data": {
      "text/latex": [
       "$$- \\frac{x}{4} + \\frac{9}{16} e^{2 x} + \\frac{7}{16} e^{- 2 x}$$"
      ],
      "text/plain": [
       "         2⋅x      -2⋅x\n",
       "  x   9⋅ℯ      7⋅ℯ    \n",
       "- ─ + ────── + ───────\n",
       "  4     16        16  "
      ]
     },
     "execution_count": 31,
     "metadata": {},
     "output_type": "execute_result"
    }
   ],
   "source": [
    "# função solução S\n",
    "Y2ord"
   ]
  },
  {
   "cell_type": "code",
   "execution_count": 33,
   "metadata": {},
   "outputs": [
    {
     "data": {
      "image/svg+xml": [
       "<?xml version=\"1.0\" encoding=\"utf-8\"?>\n",
       "<svg xmlns=\"http://www.w3.org/2000/svg\" xmlns:xlink=\"http://www.w3.org/1999/xlink\" width=\"400\" height=\"300\" viewBox=\"0 0 400 300\">\n",
       "<defs>\n",
       "  <clipPath id=\"clip3600\">\n",
       "    <rect x=\"0\" y=\"0\" width=\"400\" height=\"300\"/>\n",
       "  </clipPath>\n",
       "</defs>\n",
       "<polygon clip-path=\"url(#clip3600)\" points=\"\n",
       "0,300 400,300 400,0 0,0 \n",
       "  \" fill=\"#ffffff\" fill-opacity=\"1\"/>\n",
       "<defs>\n",
       "  <clipPath id=\"clip3601\">\n",
       "    <rect x=\"80\" y=\"0\" width=\"281\" height=\"281\"/>\n",
       "  </clipPath>\n",
       "</defs>\n",
       "<polygon clip-path=\"url(#clip3600)\" points=\"\n",
       "62.7288,275.813 380.315,275.813 380.315,11.811 62.7288,11.811 \n",
       "  \" fill=\"#ffffff\" fill-opacity=\"1\"/>\n",
       "<defs>\n",
       "  <clipPath id=\"clip3602\">\n",
       "    <rect x=\"62\" y=\"11\" width=\"319\" height=\"265\"/>\n",
       "  </clipPath>\n",
       "</defs>\n",
       "<polyline clip-path=\"url(#clip3602)\" style=\"stroke:#000000; stroke-width:0.5; stroke-opacity:0.1; fill:none\" points=\"\n",
       "  62.7288,275.813 62.7288,11.811 \n",
       "  \"/>\n",
       "<polyline clip-path=\"url(#clip3602)\" style=\"stroke:#000000; stroke-width:0.5; stroke-opacity:0.1; fill:none\" points=\"\n",
       "  142.125,275.813 142.125,11.811 \n",
       "  \"/>\n",
       "<polyline clip-path=\"url(#clip3602)\" style=\"stroke:#000000; stroke-width:0.5; stroke-opacity:0.1; fill:none\" points=\"\n",
       "  221.522,275.813 221.522,11.811 \n",
       "  \"/>\n",
       "<polyline clip-path=\"url(#clip3602)\" style=\"stroke:#000000; stroke-width:0.5; stroke-opacity:0.1; fill:none\" points=\"\n",
       "  300.918,275.813 300.918,11.811 \n",
       "  \"/>\n",
       "<polyline clip-path=\"url(#clip3602)\" style=\"stroke:#000000; stroke-width:0.5; stroke-opacity:0.1; fill:none\" points=\"\n",
       "  380.315,275.813 380.315,11.811 \n",
       "  \"/>\n",
       "<polyline clip-path=\"url(#clip3602)\" style=\"stroke:#000000; stroke-width:0.5; stroke-opacity:0.1; fill:none\" points=\"\n",
       "  62.7288,227.445 380.315,227.445 \n",
       "  \"/>\n",
       "<polyline clip-path=\"url(#clip3602)\" style=\"stroke:#000000; stroke-width:0.5; stroke-opacity:0.1; fill:none\" points=\"\n",
       "  62.7288,179.076 380.315,179.076 \n",
       "  \"/>\n",
       "<polyline clip-path=\"url(#clip3602)\" style=\"stroke:#000000; stroke-width:0.5; stroke-opacity:0.1; fill:none\" points=\"\n",
       "  62.7288,130.707 380.315,130.707 \n",
       "  \"/>\n",
       "<polyline clip-path=\"url(#clip3602)\" style=\"stroke:#000000; stroke-width:0.5; stroke-opacity:0.1; fill:none\" points=\"\n",
       "  62.7288,82.3381 380.315,82.3381 \n",
       "  \"/>\n",
       "<polyline clip-path=\"url(#clip3602)\" style=\"stroke:#000000; stroke-width:0.5; stroke-opacity:0.1; fill:none\" points=\"\n",
       "  62.7288,33.9692 380.315,33.9692 \n",
       "  \"/>\n",
       "<polyline clip-path=\"url(#clip3600)\" style=\"stroke:#000000; stroke-width:1; stroke-opacity:1; fill:none\" points=\"\n",
       "  62.7288,275.813 380.315,275.813 \n",
       "  \"/>\n",
       "<polyline clip-path=\"url(#clip3600)\" style=\"stroke:#000000; stroke-width:1; stroke-opacity:1; fill:none\" points=\"\n",
       "  62.7288,275.813 62.7288,11.811 \n",
       "  \"/>\n",
       "<polyline clip-path=\"url(#clip3600)\" style=\"stroke:#000000; stroke-width:1; stroke-opacity:1; fill:none\" points=\"\n",
       "  62.7288,275.813 62.7288,271.853 \n",
       "  \"/>\n",
       "<polyline clip-path=\"url(#clip3600)\" style=\"stroke:#000000; stroke-width:1; stroke-opacity:1; fill:none\" points=\"\n",
       "  142.125,275.813 142.125,271.853 \n",
       "  \"/>\n",
       "<polyline clip-path=\"url(#clip3600)\" style=\"stroke:#000000; stroke-width:1; stroke-opacity:1; fill:none\" points=\"\n",
       "  221.522,275.813 221.522,271.853 \n",
       "  \"/>\n",
       "<polyline clip-path=\"url(#clip3600)\" style=\"stroke:#000000; stroke-width:1; stroke-opacity:1; fill:none\" points=\"\n",
       "  300.918,275.813 300.918,271.853 \n",
       "  \"/>\n",
       "<polyline clip-path=\"url(#clip3600)\" style=\"stroke:#000000; stroke-width:1; stroke-opacity:1; fill:none\" points=\"\n",
       "  380.315,275.813 380.315,271.853 \n",
       "  \"/>\n",
       "<polyline clip-path=\"url(#clip3600)\" style=\"stroke:#000000; stroke-width:1; stroke-opacity:1; fill:none\" points=\"\n",
       "  62.7288,227.445 67.4926,227.445 \n",
       "  \"/>\n",
       "<polyline clip-path=\"url(#clip3600)\" style=\"stroke:#000000; stroke-width:1; stroke-opacity:1; fill:none\" points=\"\n",
       "  62.7288,179.076 67.4926,179.076 \n",
       "  \"/>\n",
       "<polyline clip-path=\"url(#clip3600)\" style=\"stroke:#000000; stroke-width:1; stroke-opacity:1; fill:none\" points=\"\n",
       "  62.7288,130.707 67.4926,130.707 \n",
       "  \"/>\n",
       "<polyline clip-path=\"url(#clip3600)\" style=\"stroke:#000000; stroke-width:1; stroke-opacity:1; fill:none\" points=\"\n",
       "  62.7288,82.3381 67.4926,82.3381 \n",
       "  \"/>\n",
       "<polyline clip-path=\"url(#clip3600)\" style=\"stroke:#000000; stroke-width:1; stroke-opacity:1; fill:none\" points=\"\n",
       "  62.7288,33.9692 67.4926,33.9692 \n",
       "  \"/>\n",
       "<g clip-path=\"url(#clip3600)\">\n",
       "<text style=\"fill:#000000; fill-opacity:1; font-family:Arial,Helvetica Neue,Helvetica,sans-serif; font-size:12; text-anchor:middle;\" transform=\"rotate(0, 62.7288, 288.613)\" x=\"62.7288\" y=\"288.613\">-10</text>\n",
       "</g>\n",
       "<g clip-path=\"url(#clip3600)\">\n",
       "<text style=\"fill:#000000; fill-opacity:1; font-family:Arial,Helvetica Neue,Helvetica,sans-serif; font-size:12; text-anchor:middle;\" transform=\"rotate(0, 142.125, 288.613)\" x=\"142.125\" y=\"288.613\">-5</text>\n",
       "</g>\n",
       "<g clip-path=\"url(#clip3600)\">\n",
       "<text style=\"fill:#000000; fill-opacity:1; font-family:Arial,Helvetica Neue,Helvetica,sans-serif; font-size:12; text-anchor:middle;\" transform=\"rotate(0, 221.522, 288.613)\" x=\"221.522\" y=\"288.613\">0</text>\n",
       "</g>\n",
       "<g clip-path=\"url(#clip3600)\">\n",
       "<text style=\"fill:#000000; fill-opacity:1; font-family:Arial,Helvetica Neue,Helvetica,sans-serif; font-size:12; text-anchor:middle;\" transform=\"rotate(0, 300.918, 288.613)\" x=\"300.918\" y=\"288.613\">5</text>\n",
       "</g>\n",
       "<g clip-path=\"url(#clip3600)\">\n",
       "<text style=\"fill:#000000; fill-opacity:1; font-family:Arial,Helvetica Neue,Helvetica,sans-serif; font-size:12; text-anchor:middle;\" transform=\"rotate(0, 380.315, 288.613)\" x=\"380.315\" y=\"288.613\">10</text>\n",
       "</g>\n",
       "<g clip-path=\"url(#clip3600)\">\n",
       "<text style=\"fill:#000000; fill-opacity:1; font-family:Arial,Helvetica Neue,Helvetica,sans-serif; font-size:12; text-anchor:start;\" transform=\"rotate(0, 20.4266, 233.377)\" x=\"20.4266\" y=\"233.377\">5.0×10</text>\n",
       "</g>\n",
       "<g clip-path=\"url(#clip3600)\">\n",
       "<text style=\"fill:#000000; fill-opacity:1; font-family:Arial,Helvetica Neue,Helvetica,sans-serif; font-size:10; text-anchor:start;\" transform=\"rotate(0, 53.3747, 226.524)\" x=\"53.3747\" y=\"226.524\">7</text>\n",
       "</g>\n",
       "<g clip-path=\"url(#clip3600)\">\n",
       "<text style=\"fill:#000000; fill-opacity:1; font-family:Arial,Helvetica Neue,Helvetica,sans-serif; font-size:12; text-anchor:start;\" transform=\"rotate(0, 20.4266, 185.008)\" x=\"20.4266\" y=\"185.008\">1.0×10</text>\n",
       "</g>\n",
       "<g clip-path=\"url(#clip3600)\">\n",
       "<text style=\"fill:#000000; fill-opacity:1; font-family:Arial,Helvetica Neue,Helvetica,sans-serif; font-size:10; text-anchor:start;\" transform=\"rotate(0, 53.3747, 178.155)\" x=\"53.3747\" y=\"178.155\">8</text>\n",
       "</g>\n",
       "<g clip-path=\"url(#clip3600)\">\n",
       "<text style=\"fill:#000000; fill-opacity:1; font-family:Arial,Helvetica Neue,Helvetica,sans-serif; font-size:12; text-anchor:start;\" transform=\"rotate(0, 20.4266, 136.639)\" x=\"20.4266\" y=\"136.639\">1.5×10</text>\n",
       "</g>\n",
       "<g clip-path=\"url(#clip3600)\">\n",
       "<text style=\"fill:#000000; fill-opacity:1; font-family:Arial,Helvetica Neue,Helvetica,sans-serif; font-size:10; text-anchor:start;\" transform=\"rotate(0, 53.3747, 129.786)\" x=\"53.3747\" y=\"129.786\">8</text>\n",
       "</g>\n",
       "<g clip-path=\"url(#clip3600)\">\n",
       "<text style=\"fill:#000000; fill-opacity:1; font-family:Arial,Helvetica Neue,Helvetica,sans-serif; font-size:12; text-anchor:start;\" transform=\"rotate(0, 20.4266, 88.27)\" x=\"20.4266\" y=\"88.27\">2.0×10</text>\n",
       "</g>\n",
       "<g clip-path=\"url(#clip3600)\">\n",
       "<text style=\"fill:#000000; fill-opacity:1; font-family:Arial,Helvetica Neue,Helvetica,sans-serif; font-size:10; text-anchor:start;\" transform=\"rotate(0, 53.3747, 81.4174)\" x=\"53.3747\" y=\"81.4174\">8</text>\n",
       "</g>\n",
       "<g clip-path=\"url(#clip3600)\">\n",
       "<text style=\"fill:#000000; fill-opacity:1; font-family:Arial,Helvetica Neue,Helvetica,sans-serif; font-size:12; text-anchor:start;\" transform=\"rotate(0, 20.4266, 39.9011)\" x=\"20.4266\" y=\"39.9011\">2.5×10</text>\n",
       "</g>\n",
       "<g clip-path=\"url(#clip3600)\">\n",
       "<text style=\"fill:#000000; fill-opacity:1; font-family:Arial,Helvetica Neue,Helvetica,sans-serif; font-size:10; text-anchor:start;\" transform=\"rotate(0, 53.3747, 33.0485)\" x=\"53.3747\" y=\"33.0485\">8</text>\n",
       "</g>\n",
       "<polyline clip-path=\"url(#clip3602)\" style=\"stroke:#009af9; stroke-width:1; stroke-opacity:1; fill:none\" points=\"\n",
       "  62.7288,70.4782 64.3167,107.699 65.9046,138.173 67.4926,163.123 69.0805,183.55 70.6684,200.275 72.2564,213.968 73.8443,225.178 75.4322,234.357 77.0202,241.872 \n",
       "  78.6081,248.024 80.196,253.062 81.7839,257.186 83.3719,260.562 84.9598,263.327 86.5477,265.59 88.1357,267.444 89.7236,268.961 91.3115,270.203 92.8995,271.22 \n",
       "  94.4874,272.053 96.0753,272.734 97.6633,273.292 99.2512,273.749 100.839,274.124 102.427,274.43 104.015,274.681 105.603,274.886 107.191,275.054 108.779,275.192 \n",
       "  110.367,275.304 111.955,275.397 113.543,275.472 115.13,275.534 116.718,275.585 118.306,275.626 119.894,275.66 121.482,275.688 123.07,275.711 124.658,275.729 \n",
       "  126.246,275.745 127.834,275.757 129.422,275.767 131.01,275.776 132.598,275.782 134.186,275.788 135.774,275.793 137.362,275.796 138.949,275.8 140.537,275.802 \n",
       "  142.125,275.804 143.713,275.806 145.301,275.807 146.889,275.808 148.477,275.809 150.065,275.81 151.653,275.811 153.241,275.811 154.829,275.812 156.417,275.812 \n",
       "  158.005,275.812 159.593,275.812 161.18,275.813 162.768,275.813 164.356,275.813 165.944,275.813 167.532,275.813 169.12,275.813 170.708,275.813 172.296,275.813 \n",
       "  173.884,275.813 175.472,275.813 177.06,275.813 178.648,275.813 180.236,275.813 181.824,275.813 183.412,275.813 184.999,275.813 186.587,275.813 188.175,275.813 \n",
       "  189.763,275.813 191.351,275.813 192.939,275.813 194.527,275.813 196.115,275.813 197.703,275.813 199.291,275.813 200.879,275.813 202.467,275.813 204.055,275.813 \n",
       "  205.643,275.813 207.23,275.813 208.818,275.813 210.406,275.813 211.994,275.813 213.582,275.813 215.17,275.813 216.758,275.813 218.346,275.813 219.934,275.813 \n",
       "  221.522,275.813 223.11,275.813 224.698,275.813 226.286,275.813 227.874,275.813 229.462,275.813 231.049,275.813 232.637,275.813 234.225,275.813 235.813,275.813 \n",
       "  237.401,275.813 238.989,275.813 240.577,275.813 242.165,275.813 243.753,275.813 245.341,275.813 246.929,275.813 248.517,275.813 250.105,275.813 251.693,275.813 \n",
       "  253.28,275.813 254.868,275.813 256.456,275.813 258.044,275.813 259.632,275.813 261.22,275.813 262.808,275.813 264.396,275.813 265.984,275.813 267.572,275.813 \n",
       "  269.16,275.813 270.748,275.813 272.336,275.813 273.924,275.813 275.512,275.813 277.099,275.813 278.687,275.813 280.275,275.813 281.863,275.812 283.451,275.812 \n",
       "  285.039,275.812 286.627,275.811 288.215,275.811 289.803,275.81 291.391,275.81 292.979,275.809 294.567,275.808 296.155,275.807 297.743,275.805 299.33,275.804 \n",
       "  300.918,275.801 302.506,275.799 304.094,275.796 305.682,275.792 307.27,275.787 308.858,275.781 310.446,275.774 312.034,275.765 313.622,275.754 315.21,275.741 \n",
       "  316.798,275.725 318.386,275.705 319.974,275.681 321.562,275.652 323.149,275.616 324.737,275.573 326.325,275.519 327.913,275.454 329.501,275.375 331.089,275.278 \n",
       "  332.677,275.159 334.265,275.014 335.853,274.837 337.441,274.621 339.029,274.357 340.617,274.035 342.205,273.641 343.793,273.16 345.38,272.572 346.968,271.855 \n",
       "  348.556,270.978 350.144,269.908 351.732,268.6 353.32,267.003 354.908,265.052 356.496,262.67 358.084,259.759 359.672,256.205 361.26,251.864 362.848,246.561 \n",
       "  364.436,240.085 366.024,232.174 367.612,222.512 369.199,210.711 370.787,196.297 372.375,178.692 373.963,157.19 375.551,130.926 377.139,98.8473 378.727,59.6665 \n",
       "  380.315,11.811 \n",
       "  \"/>\n",
       "<polygon clip-path=\"url(#clip3600)\" points=\"\n",
       "315.799,50.931 368.315,50.931 368.315,20.691 315.799,20.691 \n",
       "  \" fill=\"#ffffff\" fill-opacity=\"1\"/>\n",
       "<polyline clip-path=\"url(#clip3600)\" style=\"stroke:#000000; stroke-width:1; stroke-opacity:1; fill:none\" points=\"\n",
       "  315.799,50.931 368.315,50.931 368.315,20.691 315.799,20.691 315.799,50.931 \n",
       "  \"/>\n",
       "<polyline clip-path=\"url(#clip3600)\" style=\"stroke:#009af9; stroke-width:1; stroke-opacity:1; fill:none\" points=\"\n",
       "  319.799,35.811 343.799,35.811 \n",
       "  \"/>\n",
       "<g clip-path=\"url(#clip3600)\">\n",
       "<text style=\"fill:#000000; fill-opacity:1; font-family:Arial,Helvetica Neue,Helvetica,sans-serif; font-size:12; text-anchor:start;\" transform=\"rotate(0, 347.799, 40.311)\" x=\"347.799\" y=\"40.311\">y1</text>\n",
       "</g>\n",
       "</svg>\n"
      ]
     },
     "execution_count": 33,
     "metadata": {},
     "output_type": "execute_result"
    }
   ],
   "source": [
    "using Plots\n",
    "gr()\n",
    "\n",
    "plot(Y2ord, -10:0.1:10, size = (400,300))"
   ]
  },
  {
   "cell_type": "markdown",
   "metadata": {},
   "source": [
    "#### CAMPO DE DIREÇÕES "
   ]
  },
  {
   "cell_type": "code",
   "execution_count": null,
   "metadata": {
    "collapsed": true
   },
   "outputs": [],
   "source": []
  },
  {
   "cell_type": "markdown",
   "metadata": {},
   "source": [
    "### EQUAÇÃO DE SEGUNDA ORDEM NUMÉRICA "
   ]
  },
  {
   "cell_type": "code",
   "execution_count": null,
   "metadata": {
    "collapsed": true
   },
   "outputs": [],
   "source": []
  },
  {
   "cell_type": "markdown",
   "metadata": {},
   "source": [
    "%%% Fim Equações Diferenciais %%%"
   ]
  },
  {
   "cell_type": "markdown",
   "metadata": {},
   "source": []
  }
 ],
 "metadata": {
  "anaconda-cloud": {},
  "kernelspec": {
   "display_name": "Julia 1.0.1",
   "language": "julia",
   "name": "julia-1.0"
  },
  "language_info": {
   "file_extension": ".jl",
   "mimetype": "application/julia",
   "name": "julia",
   "version": "1.0.1"
  }
 },
 "nbformat": 4,
 "nbformat_minor": 1
}
