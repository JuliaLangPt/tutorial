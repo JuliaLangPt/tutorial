{
 "cells": [
  {
   "cell_type": "markdown",
   "metadata": {},
   "source": [
    "# TRABALHANDO COM ARQUIVOS (ENTRADA E SAIDA) PARTE I"
   ]
  },
  {
   "cell_type": "markdown",
   "metadata": {},
   "source": [
    "Muitas vezes é útil salvar e carregar dados a partir de arquivos. Podemos usar as funções `write` e `read` para escrever o ler dados de um arquivo. As funções a seguir são exemplos de como escrever um vetor num arquivo de texto e, mais tarde, lê-lo. Elas assumem um formato de um valor por linha."
   ]
  },
  {
   "cell_type": "code",
   "execution_count": 1,
   "metadata": {},
   "outputs": [],
   "source": [
    "function salvar_dados(fname, var)\n",
    "    io = open(fname,\"w\")\n",
    "    for v in var\n",
    "        write(io, join([string(v), \"\\n\"]))\n",
    "    end\n",
    "    close(io)\n",
    "end;\n",
    "\n",
    "function ler_dados(fname)\n",
    "    stringvec = split(read(fname, String), \"\\n\");\n",
    "    try\n",
    "        return map(x->parse(Float64,x),stringvec)\n",
    "    catch\n",
    "        return map(x->parse(Float64,x),stringvec[1:end-1])\n",
    "    end\n",
    "end;"
   ]
  },
  {
   "cell_type": "code",
   "execution_count": 2,
   "metadata": {},
   "outputs": [],
   "source": [
    "vec = rand(100);\n",
    "salvar_dados(\"meu_vec.txt\", vec);\n",
    "vec = 1;"
   ]
  },
  {
   "cell_type": "code",
   "execution_count": 3,
   "metadata": {},
   "outputs": [
    {
     "data": {
      "text/plain": [
       "100-element Array{Float64,1}:\n",
       " 0.8878221787988247  \n",
       " 0.9678467417318892  \n",
       " 0.04661857187767415 \n",
       " 0.8738600505810858  \n",
       " 0.5343085975232347  \n",
       " 0.8353994584761701  \n",
       " 0.5685847767317613  \n",
       " 0.828205069387111   \n",
       " 0.17828380630603058 \n",
       " 0.003842263558841985\n",
       " 0.1010692473318977  \n",
       " 0.4025990859777393  \n",
       " 0.33927686458057993 \n",
       " ⋮                   \n",
       " 0.16501435788435748 \n",
       " 0.664727979009696   \n",
       " 0.7883173644894534  \n",
       " 0.8408254255226031  \n",
       " 0.667546376230082   \n",
       " 0.4108594651983315  \n",
       " 0.6332523346060144  \n",
       " 0.3919710546427828  \n",
       " 0.005581562179814981\n",
       " 0.012298775256856187\n",
       " 0.4712900613265514  \n",
       " 0.6458589427825607  "
      ]
     },
     "execution_count": 3,
     "metadata": {},
     "output_type": "execute_result"
    }
   ],
   "source": [
    "vec = ler_dados(\"meu_vec.txt\")"
   ]
  },
  {
   "cell_type": "markdown",
   "metadata": {},
   "source": [
    "Em outras circunstâncias, deseja-se trabalhar com dados mais estruturados como, por exemplo, Data Frames."
   ]
  },
  {
   "cell_type": "markdown",
   "metadata": {},
   "source": [
    "## DATAFRAMES \n",
    "\n",
    "Um `data frame` é uma estrutura bidimensional semelhante a uma matriz no qual os dados são tabelados em colunas nomeadas as quais possuem a mesma quantidade de linhas. JOSHI (2016) define data frame como:\n",
    "\n",
    "> É uma estrutura de dados que tem colunas rotuladas, que individualmente podem ter diferentes tipos de dados. Como uma tabela SQL ou uma planilha, ela tem duas dimensões. Também pode ser pensado como uma lista de dicionários, mas, fundamentalmente, é diferente. \n",
    "\n",
    "É a melhor forma de organizar informações pois além de manter uma boa formatação dos dados, ainda permite que sejam gravados em arquivos do tipo \"CSV\", \"XLSX\", \"ODS\" entre outros, que podem ser abertos e manipulados em softwares de planilha tipo excel ou calc. Exemplo de `Data Frame`:\n",
    "\n",
    "<img src=\"Figuras/dataframe.png\" align=\"center\" width=\"300\">\n",
    "<img ></img>\n",
    "\n",
    "Para instalar o pacote use:\n",
    "\n",
    "```julia\n",
    "using Pkg\n",
    "Pkg.add(\"DataFrames\")\n",
    "```"
   ]
  },
  {
   "cell_type": "markdown",
   "metadata": {},
   "source": [
    "### CRIAR DATAFRAMES \n",
    "\n",
    "Para criar um dataframe use a sintaxe:\n",
    "```julia\n",
    "Nome_dataFrame(nome_coluna_1 = [dado1_col_1, dado2_col_1], nome_coluna_2 = [dado1_col_2, dado2_col_2])\n",
    "\n",
    "ou\n",
    "\n",
    "nome_dataframe = DataFrame()\n",
    "begin\n",
    "    nome_dataframe[!, :nome_coluna_1] = [dado1_col_1, dado2_col_1]\n",
    "    nome_dataframe[!, :nome_coluna_2] = [dado1_col_2, dado2_col_2]\n",
    "end\n",
    "```"
   ]
  },
  {
   "cell_type": "code",
   "execution_count": 4,
   "metadata": {},
   "outputs": [],
   "source": [
    "using DataFrames"
   ]
  },
  {
   "cell_type": "code",
   "execution_count": 5,
   "metadata": {
    "scrolled": false
   },
   "outputs": [
    {
     "data": {
      "text/html": [
       "<table class=\"data-frame\"><thead><tr><th></th><th>Nome_do_software</th><th>Ano</th></tr><tr><th></th><th>String</th><th>Int64</th></tr></thead><tbody><p>2 rows × 2 columns</p><tr><th>1</th><td>scilab</td><td>2005</td></tr><tr><th>2</th><td>julia</td><td>2012</td></tr></tbody></table>"
      ],
      "text/latex": [
       "\\begin{tabular}{r|cc}\n",
       "\t& Nome\\_do\\_software & Ano\\\\\n",
       "\t\\hline\n",
       "\t& String & Int64\\\\\n",
       "\t\\hline\n",
       "\t1 & scilab & 2005 \\\\\n",
       "\t2 & julia & 2012 \\\\\n",
       "\\end{tabular}\n"
      ],
      "text/plain": [
       "2×2 DataFrame\n",
       "│ Row │ Nome_do_software │ Ano   │\n",
       "│     │ \u001b[90mString\u001b[39m           │ \u001b[90mInt64\u001b[39m │\n",
       "├─────┼──────────────────┼───────┤\n",
       "│ 1   │ scilab           │ 2005  │\n",
       "│ 2   │ julia            │ 2012  │"
      ]
     },
     "execution_count": 5,
     "metadata": {},
     "output_type": "execute_result"
    }
   ],
   "source": [
    "# criar o dataframe.\n",
    "dados = DataFrame(Nome_do_software = [\"scilab\", \"julia\"], Ano = [2005, 2012])"
   ]
  },
  {
   "cell_type": "markdown",
   "metadata": {},
   "source": [
    "Ou assim:"
   ]
  },
  {
   "cell_type": "code",
   "execution_count": 6,
   "metadata": {},
   "outputs": [
    {
     "data": {
      "text/html": [
       "<table class=\"data-frame\"><thead><tr><th></th><th>Nome_do_sofware</th><th>Ano</th></tr><tr><th></th><th>String</th><th>Int64</th></tr></thead><tbody><p>2 rows × 2 columns</p><tr><th>1</th><td>scilab</td><td>2005</td></tr><tr><th>2</th><td>julia</td><td>2012</td></tr></tbody></table>"
      ],
      "text/latex": [
       "\\begin{tabular}{r|cc}\n",
       "\t& Nome\\_do\\_sofware & Ano\\\\\n",
       "\t\\hline\n",
       "\t& String & Int64\\\\\n",
       "\t\\hline\n",
       "\t1 & scilab & 2005 \\\\\n",
       "\t2 & julia & 2012 \\\\\n",
       "\\end{tabular}\n"
      ],
      "text/plain": [
       "2×2 DataFrame\n",
       "│ Row │ Nome_do_sofware │ Ano   │\n",
       "│     │ \u001b[90mString\u001b[39m          │ \u001b[90mInt64\u001b[39m │\n",
       "├─────┼─────────────────┼───────┤\n",
       "│ 1   │ scilab          │ 2005  │\n",
       "│ 2   │ julia           │ 2012  │"
      ]
     },
     "execution_count": 6,
     "metadata": {},
     "output_type": "execute_result"
    }
   ],
   "source": [
    "dados2 = DataFrame()\n",
    "begin\n",
    "    dados2[!, :Nome_do_sofware] = [\"scilab\", \"julia\"]\n",
    "    dados2[!, :Ano]             = [2005, 2012]\n",
    "end\n",
    "dados2"
   ]
  },
  {
   "cell_type": "markdown",
   "metadata": {},
   "source": [
    "Outro exemplo"
   ]
  },
  {
   "cell_type": "code",
   "execution_count": 7,
   "metadata": {
    "scrolled": true
   },
   "outputs": [
    {
     "data": {
      "text/html": [
       "<table class=\"data-frame\"><thead><tr><th></th><th>Nome_do_software</th><th>Ano_de_lancamento</th><th>Site</th></tr><tr><th></th><th>String</th><th>Int64</th><th>String</th></tr></thead><tbody><p>5 rows × 3 columns</p><tr><th>1</th><td>Julia</td><td>2012</td><td>julialang.org</td></tr><tr><th>2</th><td>SageMath</td><td>2005</td><td>sagemath.org</td></tr><tr><th>3</th><td>Maxima</td><td>1980</td><td>maxima.org</td></tr><tr><th>4</th><td>Octave</td><td>2000</td><td>gnu.org/octave</td></tr><tr><th>5</th><td>Maxima</td><td>1980</td><td>maxima.org</td></tr></tbody></table>"
      ],
      "text/latex": [
       "\\begin{tabular}{r|ccc}\n",
       "\t& Nome\\_do\\_software & Ano\\_de\\_lancamento & Site\\\\\n",
       "\t\\hline\n",
       "\t& String & Int64 & String\\\\\n",
       "\t\\hline\n",
       "\t1 & Julia & 2012 & julialang.org \\\\\n",
       "\t2 & SageMath & 2005 & sagemath.org \\\\\n",
       "\t3 & Maxima & 1980 & maxima.org \\\\\n",
       "\t4 & Octave & 2000 & gnu.org/octave \\\\\n",
       "\t5 & Maxima & 1980 & maxima.org \\\\\n",
       "\\end{tabular}\n"
      ],
      "text/plain": [
       "5×3 DataFrame\n",
       "│ Row │ Nome_do_software │ Ano_de_lancamento │ Site           │\n",
       "│     │ \u001b[90mString\u001b[39m           │ \u001b[90mInt64\u001b[39m             │ \u001b[90mString\u001b[39m         │\n",
       "├─────┼──────────────────┼───────────────────┼────────────────┤\n",
       "│ 1   │ Julia            │ 2012              │ julialang.org  │\n",
       "│ 2   │ SageMath         │ 2005              │ sagemath.org   │\n",
       "│ 3   │ Maxima           │ 1980              │ maxima.org     │\n",
       "│ 4   │ Octave           │ 2000              │ gnu.org/octave │\n",
       "│ 5   │ Maxima           │ 1980              │ maxima.org     │"
      ]
     },
     "execution_count": 7,
     "metadata": {},
     "output_type": "execute_result"
    }
   ],
   "source": [
    "# Nomes das colunas não podem ter espaço\n",
    "Softwares = DataFrame()\n",
    "begin\n",
    "    Softwares[!, :Nome_do_software]  = [\"Julia\", \"SageMath\", \"Maxima\", \"Octave\",\"Maxima\"]\n",
    "    Softwares[!, :Ano_de_lancamento] = [2012, 2005, 1980, 2000, 1980]\n",
    "    Softwares[!, :Site]              = [\"julialang.org\",\"sagemath.org\",\"maxima.org\",\"gnu.org/octave\", \"maxima.org\"]\n",
    "end\n",
    "Softwares"
   ]
  },
  {
   "cell_type": "markdown",
   "metadata": {},
   "source": [
    "Para visualizar cabeçalho das colunas:"
   ]
  },
  {
   "cell_type": "code",
   "execution_count": 8,
   "metadata": {},
   "outputs": [
    {
     "data": {
      "text/plain": [
       "3-element Array{Symbol,1}:\n",
       " :Nome_do_software \n",
       " :Ano_de_lancamento\n",
       " :Site             "
      ]
     },
     "execution_count": 8,
     "metadata": {},
     "output_type": "execute_result"
    }
   ],
   "source": [
    "names(Softwares) "
   ]
  },
  {
   "cell_type": "markdown",
   "metadata": {},
   "source": [
    "Para saber os tipos dos elementos do dataframe. Aqui temos String (primeira coluna) e tipo Inteiro (segunda coluna):"
   ]
  },
  {
   "cell_type": "code",
   "execution_count": 9,
   "metadata": {
    "scrolled": true
   },
   "outputs": [
    {
     "data": {
      "text/plain": [
       "3-element Array{DataType,1}:\n",
       " String\n",
       " Int64 \n",
       " String"
      ]
     },
     "execution_count": 9,
     "metadata": {},
     "output_type": "execute_result"
    }
   ],
   "source": [
    "eltypes(Softwares)"
   ]
  },
  {
   "cell_type": "markdown",
   "metadata": {},
   "source": [
    "**Transformando uma matriz em um Data Frame**"
   ]
  },
  {
   "cell_type": "code",
   "execution_count": 10,
   "metadata": {
    "scrolled": true
   },
   "outputs": [
    {
     "data": {
      "text/plain": [
       "3×3 Array{Float64,2}:\n",
       " 0.112817  0.605221  0.399423\n",
       " 0.407455  0.167849  0.995641\n",
       " 0.982998  0.687708  0.369921"
      ]
     },
     "execution_count": 10,
     "metadata": {},
     "output_type": "execute_result"
    }
   ],
   "source": [
    "matriz_dados = rand(3, 3)"
   ]
  },
  {
   "cell_type": "code",
   "execution_count": 11,
   "metadata": {
    "scrolled": true
   },
   "outputs": [
    {
     "data": {
      "text/html": [
       "<table class=\"data-frame\"><thead><tr><th></th><th>x1</th><th>x2</th><th>x3</th></tr><tr><th></th><th>Float64</th><th>Float64</th><th>Float64</th></tr></thead><tbody><p>3 rows × 3 columns</p><tr><th>1</th><td>0.112817</td><td>0.605221</td><td>0.399423</td></tr><tr><th>2</th><td>0.407455</td><td>0.167849</td><td>0.995641</td></tr><tr><th>3</th><td>0.982998</td><td>0.687708</td><td>0.369921</td></tr></tbody></table>"
      ],
      "text/latex": [
       "\\begin{tabular}{r|ccc}\n",
       "\t& x1 & x2 & x3\\\\\n",
       "\t\\hline\n",
       "\t& Float64 & Float64 & Float64\\\\\n",
       "\t\\hline\n",
       "\t1 & 0.112817 & 0.605221 & 0.399423 \\\\\n",
       "\t2 & 0.407455 & 0.167849 & 0.995641 \\\\\n",
       "\t3 & 0.982998 & 0.687708 & 0.369921 \\\\\n",
       "\\end{tabular}\n"
      ],
      "text/plain": [
       "3×3 DataFrame\n",
       "│ Row │ x1       │ x2       │ x3       │\n",
       "│     │ \u001b[90mFloat64\u001b[39m  │ \u001b[90mFloat64\u001b[39m  │ \u001b[90mFloat64\u001b[39m  │\n",
       "├─────┼──────────┼──────────┼──────────┤\n",
       "│ 1   │ 0.112817 │ 0.605221 │ 0.399423 │\n",
       "│ 2   │ 0.407455 │ 0.167849 │ 0.995641 │\n",
       "│ 3   │ 0.982998 │ 0.687708 │ 0.369921 │"
      ]
     },
     "execution_count": 11,
     "metadata": {},
     "output_type": "execute_result"
    }
   ],
   "source": [
    "matriz_dataframe = DataFrame(matriz_dados)"
   ]
  },
  {
   "cell_type": "code",
   "execution_count": 12,
   "metadata": {
    "scrolled": false
   },
   "outputs": [
    {
     "data": {
      "text/plain": [
       "DataFrame"
      ]
     },
     "execution_count": 12,
     "metadata": {},
     "output_type": "execute_result"
    }
   ],
   "source": [
    "typeof(matriz_dataframe)"
   ]
  },
  {
   "cell_type": "markdown",
   "metadata": {},
   "source": [
    "#### VISUALIZAR E ALTERAR DADOS EM UM DATAFRAME"
   ]
  },
  {
   "cell_type": "markdown",
   "metadata": {},
   "source": [
    "**Visualizar dados**\n",
    "\n",
    "São várias as formas que o programador dispõe para visualizar dados em um data frame, aqui será apresentados as principais formas. Sintaxe:\n",
    "\n",
    "* Todos os dados da coluna_x:\n",
    "```julia\n",
    "DataFrame[!, :nome_coluna_x]               \n",
    "```\n",
    "\n",
    "\n",
    "* Todos os dados da coluna_x:\n",
    "```julia\n",
    "DataFrame[!, coluna_x]                        \n",
    "```\n",
    "\n",
    "* Todos os dados da coluna_x:\n",
    "```julia\n",
    "DataFrame.nome_coluna_x                 \n",
    "```\n",
    "\n",
    "* Dados(s) da coluna_x e linha_y:\n",
    "```julia\n",
    "DataFrame[!, :nome_coluna_x][linha_y]   \n",
    "```\n",
    "\n",
    "* Dados(s) da coluna_x e linha_y:\n",
    "```julia\n",
    "DataFrame[!, coluna_x][linha_y]         \n",
    "```\n",
    "\n",
    "* Dados(s) da coluna_x e linha_y:\n",
    "```julia\n",
    "DataFrame.nome_coluna_x[linha_x]     \n",
    "```"
   ]
  },
  {
   "cell_type": "markdown",
   "metadata": {},
   "source": [
    "Visualizar todos os elementos da primeira coluna:"
   ]
  },
  {
   "cell_type": "code",
   "execution_count": 13,
   "metadata": {},
   "outputs": [
    {
     "data": {
      "text/plain": [
       "5-element Array{String,1}:\n",
       " \"Julia\"   \n",
       " \"SageMath\"\n",
       " \"Maxima\"  \n",
       " \"Octave\"  \n",
       " \"Maxima\"  "
      ]
     },
     "execution_count": 13,
     "metadata": {},
     "output_type": "execute_result"
    }
   ],
   "source": [
    "Softwares[!, :Nome_do_software]"
   ]
  },
  {
   "cell_type": "markdown",
   "metadata": {},
   "source": [
    "Visualizar todos os dados da primeira coluna:"
   ]
  },
  {
   "cell_type": "code",
   "execution_count": 14,
   "metadata": {},
   "outputs": [
    {
     "data": {
      "text/plain": [
       "5-element Array{String,1}:\n",
       " \"Julia\"   \n",
       " \"SageMath\"\n",
       " \"Maxima\"  \n",
       " \"Octave\"  \n",
       " \"Maxima\"  "
      ]
     },
     "execution_count": 14,
     "metadata": {},
     "output_type": "execute_result"
    }
   ],
   "source": [
    "Softwares[!, 1]"
   ]
  },
  {
   "cell_type": "markdown",
   "metadata": {},
   "source": [
    "Visualizar todos os dados da primeira coluna:"
   ]
  },
  {
   "cell_type": "code",
   "execution_count": 15,
   "metadata": {},
   "outputs": [
    {
     "data": {
      "text/plain": [
       "5-element Array{String,1}:\n",
       " \"Julia\"   \n",
       " \"SageMath\"\n",
       " \"Maxima\"  \n",
       " \"Octave\"  \n",
       " \"Maxima\"  "
      ]
     },
     "execution_count": 15,
     "metadata": {},
     "output_type": "execute_result"
    }
   ],
   "source": [
    "Softwares.Nome_do_software"
   ]
  },
  {
   "cell_type": "markdown",
   "metadata": {},
   "source": [
    "Acessar o dado da primeira coluna e terceira linha:"
   ]
  },
  {
   "cell_type": "code",
   "execution_count": 16,
   "metadata": {
    "scrolled": true
   },
   "outputs": [
    {
     "data": {
      "text/plain": [
       "\"Maxima\""
      ]
     },
     "execution_count": 16,
     "metadata": {},
     "output_type": "execute_result"
    }
   ],
   "source": [
    "Softwares[!, :Nome_do_software][3]"
   ]
  },
  {
   "cell_type": "markdown",
   "metadata": {},
   "source": [
    "Acessar o dado da primeira coluna e terceira linha:"
   ]
  },
  {
   "cell_type": "code",
   "execution_count": 17,
   "metadata": {
    "scrolled": true
   },
   "outputs": [
    {
     "data": {
      "text/plain": [
       "\"Maxima\""
      ]
     },
     "execution_count": 17,
     "metadata": {},
     "output_type": "execute_result"
    }
   ],
   "source": [
    "Softwares[!, 1][3]"
   ]
  },
  {
   "cell_type": "markdown",
   "metadata": {},
   "source": [
    "Acessar o dado da primeira coluna e terceira linha:"
   ]
  },
  {
   "cell_type": "code",
   "execution_count": 18,
   "metadata": {
    "scrolled": true
   },
   "outputs": [
    {
     "data": {
      "text/plain": [
       "\"Maxima\""
      ]
     },
     "execution_count": 18,
     "metadata": {},
     "output_type": "execute_result"
    }
   ],
   "source": [
    "Softwares.Nome_do_software[3]"
   ]
  },
  {
   "cell_type": "markdown",
   "metadata": {},
   "source": [
    "**Alterar dados em um dataframe**\n",
    "\n",
    "Altera o dado da coluna_x e linha_x:\n",
    "```julia\n",
    "nome_DataFrame[!, :nome_coluna_x][elemento_x] = novo_dado           \n",
    "```\n",
    "\n",
    "Altera o dado da coluna_x e linha_x:\n",
    "```julia\n",
    "nome_DataFrame[!, coluna_x][elemento_x]       = novo_dado    \n",
    "```\n",
    "\n",
    "Altera o dado da coluna_x e linha_x:\n",
    "\n",
    "```julia\n",
    "nome_DataFrame.nome_coluna[elemento_x]     = novo_dado        \n",
    "```\n",
    "\n",
    "```julia\n",
    "nome_DataFrame[[elem_x1,elem_x2,elem_x3], :coluna_x] = novo_dado* \n",
    "\n",
    "*novo_dado pode ser um vetor correspondente aos novos dados de elem x1,x2,x3...\n",
    "```"
   ]
  },
  {
   "cell_type": "code",
   "execution_count": 19,
   "metadata": {},
   "outputs": [
    {
     "data": {
      "text/html": [
       "<table class=\"data-frame\"><thead><tr><th></th><th>Nome_do_software</th><th>Ano_de_lancamento</th><th>Site</th></tr><tr><th></th><th>String</th><th>Int64</th><th>String</th></tr></thead><tbody><p>5 rows × 3 columns</p><tr><th>1</th><td>Julia</td><td>2012</td><td>julialang.org</td></tr><tr><th>2</th><td>SageMath</td><td>2005</td><td>sagemath.org</td></tr><tr><th>3</th><td>Maxima</td><td>1980</td><td>maxima.org</td></tr><tr><th>4</th><td>Octave</td><td>2000</td><td>gnu.org/octave</td></tr><tr><th>5</th><td>Maxima</td><td>1980</td><td>maxima.org</td></tr></tbody></table>"
      ],
      "text/latex": [
       "\\begin{tabular}{r|ccc}\n",
       "\t& Nome\\_do\\_software & Ano\\_de\\_lancamento & Site\\\\\n",
       "\t\\hline\n",
       "\t& String & Int64 & String\\\\\n",
       "\t\\hline\n",
       "\t1 & Julia & 2012 & julialang.org \\\\\n",
       "\t2 & SageMath & 2005 & sagemath.org \\\\\n",
       "\t3 & Maxima & 1980 & maxima.org \\\\\n",
       "\t4 & Octave & 2000 & gnu.org/octave \\\\\n",
       "\t5 & Maxima & 1980 & maxima.org \\\\\n",
       "\\end{tabular}\n"
      ],
      "text/plain": [
       "5×3 DataFrame\n",
       "│ Row │ Nome_do_software │ Ano_de_lancamento │ Site           │\n",
       "│     │ \u001b[90mString\u001b[39m           │ \u001b[90mInt64\u001b[39m             │ \u001b[90mString\u001b[39m         │\n",
       "├─────┼──────────────────┼───────────────────┼────────────────┤\n",
       "│ 1   │ Julia            │ 2012              │ julialang.org  │\n",
       "│ 2   │ SageMath         │ 2005              │ sagemath.org   │\n",
       "│ 3   │ Maxima           │ 1980              │ maxima.org     │\n",
       "│ 4   │ Octave           │ 2000              │ gnu.org/octave │\n",
       "│ 5   │ Maxima           │ 1980              │ maxima.org     │"
      ]
     },
     "execution_count": 19,
     "metadata": {},
     "output_type": "execute_result"
    }
   ],
   "source": [
    "Softwares"
   ]
  },
  {
   "cell_type": "markdown",
   "metadata": {},
   "source": [
    "Alterar o dado da primeira coluna e terceira linha:"
   ]
  },
  {
   "cell_type": "code",
   "execution_count": 20,
   "metadata": {
    "scrolled": true
   },
   "outputs": [
    {
     "data": {
      "text/plain": [
       "\"maXIma\""
      ]
     },
     "execution_count": 20,
     "metadata": {},
     "output_type": "execute_result"
    }
   ],
   "source": [
    "# sim, está escrito errado, mas é para ficar assim mesmo.\n",
    "Softwares.Nome_do_software[3] = \"maXIma\""
   ]
  },
  {
   "cell_type": "markdown",
   "metadata": {},
   "source": [
    "Vejamos agora a modificação:"
   ]
  },
  {
   "cell_type": "code",
   "execution_count": 21,
   "metadata": {
    "scrolled": true
   },
   "outputs": [
    {
     "data": {
      "text/html": [
       "<table class=\"data-frame\"><thead><tr><th></th><th>Nome_do_software</th><th>Ano_de_lancamento</th><th>Site</th></tr><tr><th></th><th>String</th><th>Int64</th><th>String</th></tr></thead><tbody><p>5 rows × 3 columns</p><tr><th>1</th><td>Julia</td><td>2012</td><td>julialang.org</td></tr><tr><th>2</th><td>SageMath</td><td>2005</td><td>sagemath.org</td></tr><tr><th>3</th><td>maXIma</td><td>1980</td><td>maxima.org</td></tr><tr><th>4</th><td>Octave</td><td>2000</td><td>gnu.org/octave</td></tr><tr><th>5</th><td>Maxima</td><td>1980</td><td>maxima.org</td></tr></tbody></table>"
      ],
      "text/latex": [
       "\\begin{tabular}{r|ccc}\n",
       "\t& Nome\\_do\\_software & Ano\\_de\\_lancamento & Site\\\\\n",
       "\t\\hline\n",
       "\t& String & Int64 & String\\\\\n",
       "\t\\hline\n",
       "\t1 & Julia & 2012 & julialang.org \\\\\n",
       "\t2 & SageMath & 2005 & sagemath.org \\\\\n",
       "\t3 & maXIma & 1980 & maxima.org \\\\\n",
       "\t4 & Octave & 2000 & gnu.org/octave \\\\\n",
       "\t5 & Maxima & 1980 & maxima.org \\\\\n",
       "\\end{tabular}\n"
      ],
      "text/plain": [
       "5×3 DataFrame\n",
       "│ Row │ Nome_do_software │ Ano_de_lancamento │ Site           │\n",
       "│     │ \u001b[90mString\u001b[39m           │ \u001b[90mInt64\u001b[39m             │ \u001b[90mString\u001b[39m         │\n",
       "├─────┼──────────────────┼───────────────────┼────────────────┤\n",
       "│ 1   │ Julia            │ 2012              │ julialang.org  │\n",
       "│ 2   │ SageMath         │ 2005              │ sagemath.org   │\n",
       "│ 3   │ maXIma           │ 1980              │ maxima.org     │\n",
       "│ 4   │ Octave           │ 2000              │ gnu.org/octave │\n",
       "│ 5   │ Maxima           │ 1980              │ maxima.org     │"
      ]
     },
     "execution_count": 21,
     "metadata": {},
     "output_type": "execute_result"
    }
   ],
   "source": [
    "Softwares"
   ]
  },
  {
   "cell_type": "markdown",
   "metadata": {},
   "source": [
    "**Adicionar linha de dados**\n",
    "\n",
    "```julia\n",
    "push!(Dataframe, [dado_col_1, dado_col_2, ..., dado_col_n])\n",
    "\n",
    "```"
   ]
  },
  {
   "cell_type": "code",
   "execution_count": 22,
   "metadata": {
    "scrolled": true
   },
   "outputs": [
    {
     "data": {
      "text/html": [
       "<table class=\"data-frame\"><thead><tr><th></th><th>Nome_do_software</th><th>Ano_de_lancamento</th><th>Site</th></tr><tr><th></th><th>String</th><th>Int64</th><th>String</th></tr></thead><tbody><p>6 rows × 3 columns</p><tr><th>1</th><td>Julia</td><td>2012</td><td>julialang.org</td></tr><tr><th>2</th><td>SageMath</td><td>2005</td><td>sagemath.org</td></tr><tr><th>3</th><td>maXIma</td><td>1980</td><td>maxima.org</td></tr><tr><th>4</th><td>Octave</td><td>2000</td><td>gnu.org/octave</td></tr><tr><th>5</th><td>Maxima</td><td>1980</td><td>maxima.org</td></tr><tr><th>6</th><td>Julia</td><td>2012</td><td>julialang.org</td></tr></tbody></table>"
      ],
      "text/latex": [
       "\\begin{tabular}{r|ccc}\n",
       "\t& Nome\\_do\\_software & Ano\\_de\\_lancamento & Site\\\\\n",
       "\t\\hline\n",
       "\t& String & Int64 & String\\\\\n",
       "\t\\hline\n",
       "\t1 & Julia & 2012 & julialang.org \\\\\n",
       "\t2 & SageMath & 2005 & sagemath.org \\\\\n",
       "\t3 & maXIma & 1980 & maxima.org \\\\\n",
       "\t4 & Octave & 2000 & gnu.org/octave \\\\\n",
       "\t5 & Maxima & 1980 & maxima.org \\\\\n",
       "\t6 & Julia & 2012 & julialang.org \\\\\n",
       "\\end{tabular}\n"
      ],
      "text/plain": [
       "6×3 DataFrame\n",
       "│ Row │ Nome_do_software │ Ano_de_lancamento │ Site           │\n",
       "│     │ \u001b[90mString\u001b[39m           │ \u001b[90mInt64\u001b[39m             │ \u001b[90mString\u001b[39m         │\n",
       "├─────┼──────────────────┼───────────────────┼────────────────┤\n",
       "│ 1   │ Julia            │ 2012              │ julialang.org  │\n",
       "│ 2   │ SageMath         │ 2005              │ sagemath.org   │\n",
       "│ 3   │ maXIma           │ 1980              │ maxima.org     │\n",
       "│ 4   │ Octave           │ 2000              │ gnu.org/octave │\n",
       "│ 5   │ Maxima           │ 1980              │ maxima.org     │\n",
       "│ 6   │ Julia            │ 2012              │ julialang.org  │"
      ]
     },
     "execution_count": 22,
     "metadata": {},
     "output_type": "execute_result"
    }
   ],
   "source": [
    "push!(Softwares, [\"Julia\", 2012, \"julialang.org\"])"
   ]
  },
  {
   "cell_type": "markdown",
   "metadata": {},
   "source": [
    "**Ordenando dados**\n",
    "\n",
    "```julia\n",
    "sort(Dataframe, :nome_coluna, rev=true/false)\n",
    "```\n",
    "\n",
    "Para selecionar mais de uma coluna\n",
    "```julia\n",
    "sort(Dataframe, (:nome_coluna_1, :nome_coluna_2, ..., :nome_coluna_n), rev=true/false)\n",
    "```\n",
    "Utilize `sort!()` para ordenar e modificar o data frame."
   ]
  },
  {
   "cell_type": "code",
   "execution_count": 23,
   "metadata": {
    "scrolled": true
   },
   "outputs": [
    {
     "data": {
      "text/html": [
       "<table class=\"data-frame\"><thead><tr><th></th><th>Nome_do_software</th><th>Ano_de_lancamento</th><th>Site</th></tr><tr><th></th><th>String</th><th>Int64</th><th>String</th></tr></thead><tbody><p>6 rows × 3 columns</p><tr><th>1</th><td>maXIma</td><td>1980</td><td>maxima.org</td></tr><tr><th>2</th><td>Maxima</td><td>1980</td><td>maxima.org</td></tr><tr><th>3</th><td>Octave</td><td>2000</td><td>gnu.org/octave</td></tr><tr><th>4</th><td>SageMath</td><td>2005</td><td>sagemath.org</td></tr><tr><th>5</th><td>Julia</td><td>2012</td><td>julialang.org</td></tr><tr><th>6</th><td>Julia</td><td>2012</td><td>julialang.org</td></tr></tbody></table>"
      ],
      "text/latex": [
       "\\begin{tabular}{r|ccc}\n",
       "\t& Nome\\_do\\_software & Ano\\_de\\_lancamento & Site\\\\\n",
       "\t\\hline\n",
       "\t& String & Int64 & String\\\\\n",
       "\t\\hline\n",
       "\t1 & maXIma & 1980 & maxima.org \\\\\n",
       "\t2 & Maxima & 1980 & maxima.org \\\\\n",
       "\t3 & Octave & 2000 & gnu.org/octave \\\\\n",
       "\t4 & SageMath & 2005 & sagemath.org \\\\\n",
       "\t5 & Julia & 2012 & julialang.org \\\\\n",
       "\t6 & Julia & 2012 & julialang.org \\\\\n",
       "\\end{tabular}\n"
      ],
      "text/plain": [
       "6×3 DataFrame\n",
       "│ Row │ Nome_do_software │ Ano_de_lancamento │ Site           │\n",
       "│     │ \u001b[90mString\u001b[39m           │ \u001b[90mInt64\u001b[39m             │ \u001b[90mString\u001b[39m         │\n",
       "├─────┼──────────────────┼───────────────────┼────────────────┤\n",
       "│ 1   │ maXIma           │ 1980              │ maxima.org     │\n",
       "│ 2   │ Maxima           │ 1980              │ maxima.org     │\n",
       "│ 3   │ Octave           │ 2000              │ gnu.org/octave │\n",
       "│ 4   │ SageMath         │ 2005              │ sagemath.org   │\n",
       "│ 5   │ Julia            │ 2012              │ julialang.org  │\n",
       "│ 6   │ Julia            │ 2012              │ julialang.org  │"
      ]
     },
     "execution_count": 23,
     "metadata": {},
     "output_type": "execute_result"
    }
   ],
   "source": [
    "sort!(Softwares, :Ano_de_lancamento)"
   ]
  },
  {
   "cell_type": "code",
   "execution_count": 24,
   "metadata": {
    "scrolled": true
   },
   "outputs": [
    {
     "data": {
      "text/html": [
       "<table class=\"data-frame\"><thead><tr><th></th><th>Nome_do_software</th><th>Ano_de_lancamento</th><th>Site</th></tr><tr><th></th><th>String</th><th>Int64</th><th>String</th></tr></thead><tbody><p>6 rows × 3 columns</p><tr><th>1</th><td>Octave</td><td>2000</td><td>gnu.org/octave</td></tr><tr><th>2</th><td>Julia</td><td>2012</td><td>julialang.org</td></tr><tr><th>3</th><td>Julia</td><td>2012</td><td>julialang.org</td></tr><tr><th>4</th><td>Maxima</td><td>1980</td><td>maxima.org</td></tr><tr><th>5</th><td>maXIma</td><td>1980</td><td>maxima.org</td></tr><tr><th>6</th><td>SageMath</td><td>2005</td><td>sagemath.org</td></tr></tbody></table>"
      ],
      "text/latex": [
       "\\begin{tabular}{r|ccc}\n",
       "\t& Nome\\_do\\_software & Ano\\_de\\_lancamento & Site\\\\\n",
       "\t\\hline\n",
       "\t& String & Int64 & String\\\\\n",
       "\t\\hline\n",
       "\t1 & Octave & 2000 & gnu.org/octave \\\\\n",
       "\t2 & Julia & 2012 & julialang.org \\\\\n",
       "\t3 & Julia & 2012 & julialang.org \\\\\n",
       "\t4 & Maxima & 1980 & maxima.org \\\\\n",
       "\t5 & maXIma & 1980 & maxima.org \\\\\n",
       "\t6 & SageMath & 2005 & sagemath.org \\\\\n",
       "\\end{tabular}\n"
      ],
      "text/plain": [
       "6×3 DataFrame\n",
       "│ Row │ Nome_do_software │ Ano_de_lancamento │ Site           │\n",
       "│     │ \u001b[90mString\u001b[39m           │ \u001b[90mInt64\u001b[39m             │ \u001b[90mString\u001b[39m         │\n",
       "├─────┼──────────────────┼───────────────────┼────────────────┤\n",
       "│ 1   │ Octave           │ 2000              │ gnu.org/octave │\n",
       "│ 2   │ Julia            │ 2012              │ julialang.org  │\n",
       "│ 3   │ Julia            │ 2012              │ julialang.org  │\n",
       "│ 4   │ Maxima           │ 1980              │ maxima.org     │\n",
       "│ 5   │ maXIma           │ 1980              │ maxima.org     │\n",
       "│ 6   │ SageMath         │ 2005              │ sagemath.org   │"
      ]
     },
     "execution_count": 24,
     "metadata": {},
     "output_type": "execute_result"
    }
   ],
   "source": [
    "sort!(Softwares, (:Site, :Nome_do_software))"
   ]
  },
  {
   "cell_type": "markdown",
   "metadata": {},
   "source": [
    "A ordem das colunas no ordenamento é relevante. Veja a diferença:"
   ]
  },
  {
   "cell_type": "code",
   "execution_count": 25,
   "metadata": {
    "scrolled": false
   },
   "outputs": [
    {
     "data": {
      "text/html": [
       "<table class=\"data-frame\"><thead><tr><th></th><th>Nome_do_software</th><th>Ano_de_lancamento</th><th>Site</th></tr><tr><th></th><th>String</th><th>Int64</th><th>String</th></tr></thead><tbody><p>6 rows × 3 columns</p><tr><th>1</th><td>Julia</td><td>2012</td><td>julialang.org</td></tr><tr><th>2</th><td>Julia</td><td>2012</td><td>julialang.org</td></tr><tr><th>3</th><td>Maxima</td><td>1980</td><td>maxima.org</td></tr><tr><th>4</th><td>Octave</td><td>2000</td><td>gnu.org/octave</td></tr><tr><th>5</th><td>SageMath</td><td>2005</td><td>sagemath.org</td></tr><tr><th>6</th><td>maXIma</td><td>1980</td><td>maxima.org</td></tr></tbody></table>"
      ],
      "text/latex": [
       "\\begin{tabular}{r|ccc}\n",
       "\t& Nome\\_do\\_software & Ano\\_de\\_lancamento & Site\\\\\n",
       "\t\\hline\n",
       "\t& String & Int64 & String\\\\\n",
       "\t\\hline\n",
       "\t1 & Julia & 2012 & julialang.org \\\\\n",
       "\t2 & Julia & 2012 & julialang.org \\\\\n",
       "\t3 & Maxima & 1980 & maxima.org \\\\\n",
       "\t4 & Octave & 2000 & gnu.org/octave \\\\\n",
       "\t5 & SageMath & 2005 & sagemath.org \\\\\n",
       "\t6 & maXIma & 1980 & maxima.org \\\\\n",
       "\\end{tabular}\n"
      ],
      "text/plain": [
       "6×3 DataFrame\n",
       "│ Row │ Nome_do_software │ Ano_de_lancamento │ Site           │\n",
       "│     │ \u001b[90mString\u001b[39m           │ \u001b[90mInt64\u001b[39m             │ \u001b[90mString\u001b[39m         │\n",
       "├─────┼──────────────────┼───────────────────┼────────────────┤\n",
       "│ 1   │ Julia            │ 2012              │ julialang.org  │\n",
       "│ 2   │ Julia            │ 2012              │ julialang.org  │\n",
       "│ 3   │ Maxima           │ 1980              │ maxima.org     │\n",
       "│ 4   │ Octave           │ 2000              │ gnu.org/octave │\n",
       "│ 5   │ SageMath         │ 2005              │ sagemath.org   │\n",
       "│ 6   │ maXIma           │ 1980              │ maxima.org     │"
      ]
     },
     "execution_count": 25,
     "metadata": {},
     "output_type": "execute_result"
    }
   ],
   "source": [
    "sort!(Softwares, (:Nome_do_software, :Site ))"
   ]
  },
  {
   "cell_type": "markdown",
   "metadata": {},
   "source": [
    "Agora...."
   ]
  },
  {
   "cell_type": "code",
   "execution_count": 26,
   "metadata": {},
   "outputs": [
    {
     "data": {
      "text/html": [
       "<table class=\"data-frame\"><thead><tr><th></th><th>Nome_do_software</th><th>Ano_de_lancamento</th><th>Site</th></tr><tr><th></th><th>String</th><th>Int64</th><th>String</th></tr></thead><tbody><p>6 rows × 3 columns</p><tr><th>1</th><td>Julia</td><td>2012</td><td>julialang.org</td></tr><tr><th>2</th><td>Julia</td><td>2012</td><td>julialang.org</td></tr><tr><th>3</th><td>Maxima</td><td>1980</td><td>maxima.org</td></tr><tr><th>4</th><td>Octave</td><td>2000</td><td>gnu.org/octave</td></tr><tr><th>5</th><td>SageMath</td><td>2005</td><td>sagemath.org</td></tr><tr><th>6</th><td>maXIma</td><td>1980</td><td>maxima.org</td></tr></tbody></table>"
      ],
      "text/latex": [
       "\\begin{tabular}{r|ccc}\n",
       "\t& Nome\\_do\\_software & Ano\\_de\\_lancamento & Site\\\\\n",
       "\t\\hline\n",
       "\t& String & Int64 & String\\\\\n",
       "\t\\hline\n",
       "\t1 & Julia & 2012 & julialang.org \\\\\n",
       "\t2 & Julia & 2012 & julialang.org \\\\\n",
       "\t3 & Maxima & 1980 & maxima.org \\\\\n",
       "\t4 & Octave & 2000 & gnu.org/octave \\\\\n",
       "\t5 & SageMath & 2005 & sagemath.org \\\\\n",
       "\t6 & maXIma & 1980 & maxima.org \\\\\n",
       "\\end{tabular}\n"
      ],
      "text/plain": [
       "6×3 DataFrame\n",
       "│ Row │ Nome_do_software │ Ano_de_lancamento │ Site           │\n",
       "│     │ \u001b[90mString\u001b[39m           │ \u001b[90mInt64\u001b[39m             │ \u001b[90mString\u001b[39m         │\n",
       "├─────┼──────────────────┼───────────────────┼────────────────┤\n",
       "│ 1   │ Julia            │ 2012              │ julialang.org  │\n",
       "│ 2   │ Julia            │ 2012              │ julialang.org  │\n",
       "│ 3   │ Maxima           │ 1980              │ maxima.org     │\n",
       "│ 4   │ Octave           │ 2000              │ gnu.org/octave │\n",
       "│ 5   │ SageMath         │ 2005              │ sagemath.org   │\n",
       "│ 6   │ maXIma           │ 1980              │ maxima.org     │"
      ]
     },
     "execution_count": 26,
     "metadata": {},
     "output_type": "execute_result"
    }
   ],
   "source": [
    "sort!(Softwares, (:Nome_do_software, order(:Ano_de_lancamento, rev=true)))"
   ]
  },
  {
   "cell_type": "markdown",
   "metadata": {},
   "source": [
    "**Retirar elementos repetidos**\n",
    "\n",
    "Sintaxe:\n",
    "```julia\n",
    "unique(Dataframe)\n",
    "```\n",
    "Retira e modifica o DataFrame (CUIDADO!)\n",
    "```julia\n",
    "unique!(DataFrame)\n",
    "```"
   ]
  },
  {
   "cell_type": "code",
   "execution_count": 27,
   "metadata": {
    "scrolled": true
   },
   "outputs": [
    {
     "data": {
      "text/html": [
       "<table class=\"data-frame\"><thead><tr><th></th><th>Nome_do_software</th><th>Ano_de_lancamento</th><th>Site</th></tr><tr><th></th><th>String</th><th>Int64</th><th>String</th></tr></thead><tbody><p>5 rows × 3 columns</p><tr><th>1</th><td>Julia</td><td>2012</td><td>julialang.org</td></tr><tr><th>2</th><td>Maxima</td><td>1980</td><td>maxima.org</td></tr><tr><th>3</th><td>Octave</td><td>2000</td><td>gnu.org/octave</td></tr><tr><th>4</th><td>SageMath</td><td>2005</td><td>sagemath.org</td></tr><tr><th>5</th><td>maXIma</td><td>1980</td><td>maxima.org</td></tr></tbody></table>"
      ],
      "text/latex": [
       "\\begin{tabular}{r|ccc}\n",
       "\t& Nome\\_do\\_software & Ano\\_de\\_lancamento & Site\\\\\n",
       "\t\\hline\n",
       "\t& String & Int64 & String\\\\\n",
       "\t\\hline\n",
       "\t1 & Julia & 2012 & julialang.org \\\\\n",
       "\t2 & Maxima & 1980 & maxima.org \\\\\n",
       "\t3 & Octave & 2000 & gnu.org/octave \\\\\n",
       "\t4 & SageMath & 2005 & sagemath.org \\\\\n",
       "\t5 & maXIma & 1980 & maxima.org \\\\\n",
       "\\end{tabular}\n"
      ],
      "text/plain": [
       "5×3 DataFrame\n",
       "│ Row │ Nome_do_software │ Ano_de_lancamento │ Site           │\n",
       "│     │ \u001b[90mString\u001b[39m           │ \u001b[90mInt64\u001b[39m             │ \u001b[90mString\u001b[39m         │\n",
       "├─────┼──────────────────┼───────────────────┼────────────────┤\n",
       "│ 1   │ Julia            │ 2012              │ julialang.org  │\n",
       "│ 2   │ Maxima           │ 1980              │ maxima.org     │\n",
       "│ 3   │ Octave           │ 2000              │ gnu.org/octave │\n",
       "│ 4   │ SageMath         │ 2005              │ sagemath.org   │\n",
       "│ 5   │ maXIma           │ 1980              │ maxima.org     │"
      ]
     },
     "execution_count": 27,
     "metadata": {},
     "output_type": "execute_result"
    }
   ],
   "source": [
    "unique!(Softwares)"
   ]
  },
  {
   "cell_type": "markdown",
   "metadata": {},
   "source": [
    "#### MANIPULAR COLUNAS, LINHAS E CONCATENAR DATAFRAMES"
   ]
  },
  {
   "cell_type": "markdown",
   "metadata": {},
   "source": [
    "**Para adicionar uma nova coluna de dados ao DataFrame use:**\n",
    "\n",
    "```julia\n",
    "nome_DataFrame.nome_coluna = [vetor_dados]\n",
    "```\n",
    "\n",
    "Ou \n",
    "\n",
    "```julia\n",
    "nome_DataFrame[!, :nova_coluna] = [vetor_dados]\n",
    "```"
   ]
  },
  {
   "cell_type": "markdown",
   "metadata": {},
   "source": [
    "Visualizar data frame:"
   ]
  },
  {
   "cell_type": "code",
   "execution_count": 28,
   "metadata": {
    "scrolled": true
   },
   "outputs": [
    {
     "data": {
      "text/html": [
       "<table class=\"data-frame\"><thead><tr><th></th><th>Nome_do_software</th><th>Ano_de_lancamento</th><th>Site</th></tr><tr><th></th><th>String</th><th>Int64</th><th>String</th></tr></thead><tbody><p>5 rows × 3 columns</p><tr><th>1</th><td>Julia</td><td>2012</td><td>julialang.org</td></tr><tr><th>2</th><td>Maxima</td><td>1980</td><td>maxima.org</td></tr><tr><th>3</th><td>Octave</td><td>2000</td><td>gnu.org/octave</td></tr><tr><th>4</th><td>SageMath</td><td>2005</td><td>sagemath.org</td></tr><tr><th>5</th><td>maXIma</td><td>1980</td><td>maxima.org</td></tr></tbody></table>"
      ],
      "text/latex": [
       "\\begin{tabular}{r|ccc}\n",
       "\t& Nome\\_do\\_software & Ano\\_de\\_lancamento & Site\\\\\n",
       "\t\\hline\n",
       "\t& String & Int64 & String\\\\\n",
       "\t\\hline\n",
       "\t1 & Julia & 2012 & julialang.org \\\\\n",
       "\t2 & Maxima & 1980 & maxima.org \\\\\n",
       "\t3 & Octave & 2000 & gnu.org/octave \\\\\n",
       "\t4 & SageMath & 2005 & sagemath.org \\\\\n",
       "\t5 & maXIma & 1980 & maxima.org \\\\\n",
       "\\end{tabular}\n"
      ],
      "text/plain": [
       "5×3 DataFrame\n",
       "│ Row │ Nome_do_software │ Ano_de_lancamento │ Site           │\n",
       "│     │ \u001b[90mString\u001b[39m           │ \u001b[90mInt64\u001b[39m             │ \u001b[90mString\u001b[39m         │\n",
       "├─────┼──────────────────┼───────────────────┼────────────────┤\n",
       "│ 1   │ Julia            │ 2012              │ julialang.org  │\n",
       "│ 2   │ Maxima           │ 1980              │ maxima.org     │\n",
       "│ 3   │ Octave           │ 2000              │ gnu.org/octave │\n",
       "│ 4   │ SageMath         │ 2005              │ sagemath.org   │\n",
       "│ 5   │ maXIma           │ 1980              │ maxima.org     │"
      ]
     },
     "execution_count": 28,
     "metadata": {},
     "output_type": "execute_result"
    }
   ],
   "source": [
    "Softwares"
   ]
  },
  {
   "cell_type": "markdown",
   "metadata": {},
   "source": [
    "Inserir uma coluna de dados:"
   ]
  },
  {
   "cell_type": "code",
   "execution_count": 29,
   "metadata": {
    "scrolled": true
   },
   "outputs": [
    {
     "data": {
      "text/html": [
       "<table class=\"data-frame\"><thead><tr><th></th><th>Nome_do_software</th><th>Ano_de_lancamento</th><th>Site</th><th>Versao</th></tr><tr><th></th><th>String</th><th>Int64</th><th>String</th><th>String</th></tr></thead><tbody><p>5 rows × 4 columns</p><tr><th>1</th><td>Julia</td><td>2012</td><td>julialang.org</td><td>1.0.2</td></tr><tr><th>2</th><td>Maxima</td><td>1980</td><td>maxima.org</td><td>5.42.1</td></tr><tr><th>3</th><td>Octave</td><td>2000</td><td>gnu.org/octave</td><td>4.4.2</td></tr><tr><th>4</th><td>SageMath</td><td>2005</td><td>sagemath.org</td><td>8,4</td></tr><tr><th>5</th><td>maXIma</td><td>1980</td><td>maxima.org</td><td>5.42.1</td></tr></tbody></table>"
      ],
      "text/latex": [
       "\\begin{tabular}{r|cccc}\n",
       "\t& Nome\\_do\\_software & Ano\\_de\\_lancamento & Site & Versao\\\\\n",
       "\t\\hline\n",
       "\t& String & Int64 & String & String\\\\\n",
       "\t\\hline\n",
       "\t1 & Julia & 2012 & julialang.org & 1.0.2 \\\\\n",
       "\t2 & Maxima & 1980 & maxima.org & 5.42.1 \\\\\n",
       "\t3 & Octave & 2000 & gnu.org/octave & 4.4.2 \\\\\n",
       "\t4 & SageMath & 2005 & sagemath.org & 8,4 \\\\\n",
       "\t5 & maXIma & 1980 & maxima.org & 5.42.1 \\\\\n",
       "\\end{tabular}\n"
      ],
      "text/plain": [
       "5×4 DataFrame\n",
       "│ Row │ Nome_do_software │ Ano_de_lancamento │ Site           │ Versao │\n",
       "│     │ \u001b[90mString\u001b[39m           │ \u001b[90mInt64\u001b[39m             │ \u001b[90mString\u001b[39m         │ \u001b[90mString\u001b[39m │\n",
       "├─────┼──────────────────┼───────────────────┼────────────────┼────────┤\n",
       "│ 1   │ Julia            │ 2012              │ julialang.org  │ 1.0.2  │\n",
       "│ 2   │ Maxima           │ 1980              │ maxima.org     │ 5.42.1 │\n",
       "│ 3   │ Octave           │ 2000              │ gnu.org/octave │ 4.4.2  │\n",
       "│ 4   │ SageMath         │ 2005              │ sagemath.org   │ 8,4    │\n",
       "│ 5   │ maXIma           │ 1980              │ maxima.org     │ 5.42.1 │"
      ]
     },
     "execution_count": 29,
     "metadata": {},
     "output_type": "execute_result"
    }
   ],
   "source": [
    "Softwares.Versao = [\"1.0.2\", \"5.42.1\", \"4.4.2\", \"8,4\", \"5.42.1\"]\n",
    "Softwares"
   ]
  },
  {
   "cell_type": "markdown",
   "metadata": {},
   "source": [
    "Inserir uma nova coluna de dados"
   ]
  },
  {
   "cell_type": "code",
   "execution_count": 30,
   "metadata": {
    "scrolled": true
   },
   "outputs": [
    {
     "data": {
      "text/html": [
       "<table class=\"data-frame\"><thead><tr><th></th><th>Nome_do_software</th><th>Ano_de_lancamento</th><th>Site</th><th>Versao</th><th>Licença</th></tr><tr><th></th><th>String</th><th>Int64</th><th>String</th><th>String</th><th>String</th></tr></thead><tbody><p>5 rows × 5 columns</p><tr><th>1</th><td>Julia</td><td>2012</td><td>julialang.org</td><td>1.0.2</td><td>MIT</td></tr><tr><th>2</th><td>Maxima</td><td>1980</td><td>maxima.org</td><td>5.42.1</td><td>MIT</td></tr><tr><th>3</th><td>Octave</td><td>2000</td><td>gnu.org/octave</td><td>4.4.2</td><td>MIT</td></tr><tr><th>4</th><td>SageMath</td><td>2005</td><td>sagemath.org</td><td>8,4</td><td>MIT</td></tr><tr><th>5</th><td>maXIma</td><td>1980</td><td>maxima.org</td><td>5.42.1</td><td>MIT</td></tr></tbody></table>"
      ],
      "text/latex": [
       "\\begin{tabular}{r|ccccc}\n",
       "\t& Nome\\_do\\_software & Ano\\_de\\_lancamento & Site & Versao & Licença\\\\\n",
       "\t\\hline\n",
       "\t& String & Int64 & String & String & String\\\\\n",
       "\t\\hline\n",
       "\t1 & Julia & 2012 & julialang.org & 1.0.2 & MIT \\\\\n",
       "\t2 & Maxima & 1980 & maxima.org & 5.42.1 & MIT \\\\\n",
       "\t3 & Octave & 2000 & gnu.org/octave & 4.4.2 & MIT \\\\\n",
       "\t4 & SageMath & 2005 & sagemath.org & 8,4 & MIT \\\\\n",
       "\t5 & maXIma & 1980 & maxima.org & 5.42.1 & MIT \\\\\n",
       "\\end{tabular}\n"
      ],
      "text/plain": [
       "5×5 DataFrame. Omitted printing of 1 columns\n",
       "│ Row │ Nome_do_software │ Ano_de_lancamento │ Site           │ Versao │\n",
       "│     │ \u001b[90mString\u001b[39m           │ \u001b[90mInt64\u001b[39m             │ \u001b[90mString\u001b[39m         │ \u001b[90mString\u001b[39m │\n",
       "├─────┼──────────────────┼───────────────────┼────────────────┼────────┤\n",
       "│ 1   │ Julia            │ 2012              │ julialang.org  │ 1.0.2  │\n",
       "│ 2   │ Maxima           │ 1980              │ maxima.org     │ 5.42.1 │\n",
       "│ 3   │ Octave           │ 2000              │ gnu.org/octave │ 4.4.2  │\n",
       "│ 4   │ SageMath         │ 2005              │ sagemath.org   │ 8,4    │\n",
       "│ 5   │ maXIma           │ 1980              │ maxima.org     │ 5.42.1 │"
      ]
     },
     "execution_count": 30,
     "metadata": {},
     "output_type": "execute_result"
    }
   ],
   "source": [
    "Softwares[!, :Licença] = [\"MIT\", \"MIT\", \"MIT\", \"MIT\", \"MIT\"]\n",
    "Softwares"
   ]
  },
  {
   "cell_type": "markdown",
   "metadata": {},
   "source": [
    "**Para deletar uma coluna use:**\n",
    "\n",
    "```julia\n",
    "select!(df, Not(:nome_coluna))\n",
    "```"
   ]
  },
  {
   "cell_type": "code",
   "execution_count": 31,
   "metadata": {},
   "outputs": [
    {
     "data": {
      "text/html": [
       "<table class=\"data-frame\"><thead><tr><th></th><th>Nome_do_software</th><th>Ano_de_lancamento</th><th>Site</th><th>Versao</th></tr><tr><th></th><th>String</th><th>Int64</th><th>String</th><th>String</th></tr></thead><tbody><p>5 rows × 4 columns</p><tr><th>1</th><td>Julia</td><td>2012</td><td>julialang.org</td><td>1.0.2</td></tr><tr><th>2</th><td>Maxima</td><td>1980</td><td>maxima.org</td><td>5.42.1</td></tr><tr><th>3</th><td>Octave</td><td>2000</td><td>gnu.org/octave</td><td>4.4.2</td></tr><tr><th>4</th><td>SageMath</td><td>2005</td><td>sagemath.org</td><td>8,4</td></tr><tr><th>5</th><td>maXIma</td><td>1980</td><td>maxima.org</td><td>5.42.1</td></tr></tbody></table>"
      ],
      "text/latex": [
       "\\begin{tabular}{r|cccc}\n",
       "\t& Nome\\_do\\_software & Ano\\_de\\_lancamento & Site & Versao\\\\\n",
       "\t\\hline\n",
       "\t& String & Int64 & String & String\\\\\n",
       "\t\\hline\n",
       "\t1 & Julia & 2012 & julialang.org & 1.0.2 \\\\\n",
       "\t2 & Maxima & 1980 & maxima.org & 5.42.1 \\\\\n",
       "\t3 & Octave & 2000 & gnu.org/octave & 4.4.2 \\\\\n",
       "\t4 & SageMath & 2005 & sagemath.org & 8,4 \\\\\n",
       "\t5 & maXIma & 1980 & maxima.org & 5.42.1 \\\\\n",
       "\\end{tabular}\n"
      ],
      "text/plain": [
       "5×4 DataFrame\n",
       "│ Row │ Nome_do_software │ Ano_de_lancamento │ Site           │ Versao │\n",
       "│     │ \u001b[90mString\u001b[39m           │ \u001b[90mInt64\u001b[39m             │ \u001b[90mString\u001b[39m         │ \u001b[90mString\u001b[39m │\n",
       "├─────┼──────────────────┼───────────────────┼────────────────┼────────┤\n",
       "│ 1   │ Julia            │ 2012              │ julialang.org  │ 1.0.2  │\n",
       "│ 2   │ Maxima           │ 1980              │ maxima.org     │ 5.42.1 │\n",
       "│ 3   │ Octave           │ 2000              │ gnu.org/octave │ 4.4.2  │\n",
       "│ 4   │ SageMath         │ 2005              │ sagemath.org   │ 8,4    │\n",
       "│ 5   │ maXIma           │ 1980              │ maxima.org     │ 5.42.1 │"
      ]
     },
     "execution_count": 31,
     "metadata": {},
     "output_type": "execute_result"
    }
   ],
   "source": [
    "select!(Softwares, Not(:Licença))"
   ]
  },
  {
   "cell_type": "markdown",
   "metadata": {},
   "source": [
    "**Renomear o cabeçalho das Colunas de um DataFrame**"
   ]
  },
  {
   "cell_type": "markdown",
   "metadata": {},
   "source": [
    "Sintaxe:\n",
    "```julia\n",
    "rename(dataframe, :nome_coluna_antigo => :nome_coluna_novo)\n",
    "```\n",
    "Ou para renomear e substituir o dataframe:\n",
    "\n",
    "```julia\n",
    "rename!(dataframe, :nome_coluna_antigo => :nome_coluna_novo)\n",
    "```\n",
    "Renomear mais de uma coluna:\n",
    "```julia\n",
    "names!(dataframe, [:novo_nome_coluna_1, :novo_nome_coluna_2, ..., :novo_nome_coluna_n]) \n",
    "```\n",
    "Exemplo: Alterar o nome da coluna 1 \"Nome_do_software\" para \"nome\" e da coluna 2 \"Ano_de_lancamento\" para \"Ano\" ."
   ]
  },
  {
   "cell_type": "markdown",
   "metadata": {},
   "source": [
    "Para visualizar o cabeçalho das colunas use:"
   ]
  },
  {
   "cell_type": "code",
   "execution_count": 32,
   "metadata": {
    "scrolled": false
   },
   "outputs": [
    {
     "data": {
      "text/plain": [
       "4-element Array{Symbol,1}:\n",
       " :Nome_do_software \n",
       " :Ano_de_lancamento\n",
       " :Site             \n",
       " :Versao           "
      ]
     },
     "execution_count": 32,
     "metadata": {},
     "output_type": "execute_result"
    }
   ],
   "source": [
    "names(Softwares) "
   ]
  },
  {
   "cell_type": "code",
   "execution_count": 33,
   "metadata": {
    "scrolled": false
   },
   "outputs": [
    {
     "data": {
      "text/html": [
       "<table class=\"data-frame\"><thead><tr><th></th><th>Nome</th><th>Ano</th><th>Site</th><th>Versao</th></tr><tr><th></th><th>String</th><th>Int64</th><th>String</th><th>String</th></tr></thead><tbody><p>5 rows × 4 columns</p><tr><th>1</th><td>Julia</td><td>2012</td><td>julialang.org</td><td>1.0.2</td></tr><tr><th>2</th><td>Maxima</td><td>1980</td><td>maxima.org</td><td>5.42.1</td></tr><tr><th>3</th><td>Octave</td><td>2000</td><td>gnu.org/octave</td><td>4.4.2</td></tr><tr><th>4</th><td>SageMath</td><td>2005</td><td>sagemath.org</td><td>8,4</td></tr><tr><th>5</th><td>maXIma</td><td>1980</td><td>maxima.org</td><td>5.42.1</td></tr></tbody></table>"
      ],
      "text/latex": [
       "\\begin{tabular}{r|cccc}\n",
       "\t& Nome & Ano & Site & Versao\\\\\n",
       "\t\\hline\n",
       "\t& String & Int64 & String & String\\\\\n",
       "\t\\hline\n",
       "\t1 & Julia & 2012 & julialang.org & 1.0.2 \\\\\n",
       "\t2 & Maxima & 1980 & maxima.org & 5.42.1 \\\\\n",
       "\t3 & Octave & 2000 & gnu.org/octave & 4.4.2 \\\\\n",
       "\t4 & SageMath & 2005 & sagemath.org & 8,4 \\\\\n",
       "\t5 & maXIma & 1980 & maxima.org & 5.42.1 \\\\\n",
       "\\end{tabular}\n"
      ],
      "text/plain": [
       "5×4 DataFrame\n",
       "│ Row │ Nome     │ Ano   │ Site           │ Versao │\n",
       "│     │ \u001b[90mString\u001b[39m   │ \u001b[90mInt64\u001b[39m │ \u001b[90mString\u001b[39m         │ \u001b[90mString\u001b[39m │\n",
       "├─────┼──────────┼───────┼────────────────┼────────┤\n",
       "│ 1   │ Julia    │ 2012  │ julialang.org  │ 1.0.2  │\n",
       "│ 2   │ Maxima   │ 1980  │ maxima.org     │ 5.42.1 │\n",
       "│ 3   │ Octave   │ 2000  │ gnu.org/octave │ 4.4.2  │\n",
       "│ 4   │ SageMath │ 2005  │ sagemath.org   │ 8,4    │\n",
       "│ 5   │ maXIma   │ 1980  │ maxima.org     │ 5.42.1 │"
      ]
     },
     "execution_count": 33,
     "metadata": {},
     "output_type": "execute_result"
    }
   ],
   "source": [
    "rename!(Softwares, :Nome_do_software => :Nome, :Ano_de_lancamento => :Ano)"
   ]
  },
  {
   "cell_type": "markdown",
   "metadata": {},
   "source": [
    "**Para concatenar Dataframes na horizontal use:**\n",
    "\n",
    "```julia\n",
    "[Dataframe_1  Dataframe_1]\n",
    "hcat(Dataframe_1 , Dataframe_2)\n",
    "```"
   ]
  },
  {
   "cell_type": "code",
   "execution_count": 34,
   "metadata": {
    "scrolled": false
   },
   "outputs": [
    {
     "data": {
      "text/html": [
       "<table class=\"data-frame\"><thead><tr><th></th><th>Nome</th><th>Ano</th><th>Site</th><th>Versao</th></tr><tr><th></th><th>String</th><th>Int64</th><th>String</th><th>Nothing</th></tr></thead><tbody><p>5 rows × 4 columns</p><tr><th>1</th><td>Scilab</td><td>2005</td><td>scilab.org</td><td></td></tr><tr><th>2</th><td>Axiom</td><td>1980</td><td>axion.org</td><td></td></tr><tr><th>3</th><td>FreeMat</td><td>2001</td><td>freemat,org</td><td></td></tr><tr><th>4</th><td>Python</td><td>1989</td><td>python.org</td><td></td></tr><tr><th>5</th><td>Lua</td><td>2005</td><td>lua.org</td><td></td></tr></tbody></table>"
      ],
      "text/latex": [
       "\\begin{tabular}{r|cccc}\n",
       "\t& Nome & Ano & Site & Versao\\\\\n",
       "\t\\hline\n",
       "\t& String & Int64 & String & Nothing\\\\\n",
       "\t\\hline\n",
       "\t1 & Scilab & 2005 & scilab.org &  \\\\\n",
       "\t2 & Axiom & 1980 & axion.org &  \\\\\n",
       "\t3 & FreeMat & 2001 & freemat,org &  \\\\\n",
       "\t4 & Python & 1989 & python.org &  \\\\\n",
       "\t5 & Lua & 2005 & lua.org &  \\\\\n",
       "\\end{tabular}\n"
      ],
      "text/plain": [
       "5×4 DataFrame\n",
       "│ Row │ Nome    │ Ano   │ Site        │ Versao  │\n",
       "│     │ \u001b[90mString\u001b[39m  │ \u001b[90mInt64\u001b[39m │ \u001b[90mString\u001b[39m      │ \u001b[90mNothing\u001b[39m │\n",
       "├─────┼─────────┼───────┼─────────────┼─────────┤\n",
       "│ 1   │ Scilab  │ 2005  │ scilab.org  │         │\n",
       "│ 2   │ Axiom   │ 1980  │ axion.org   │         │\n",
       "│ 3   │ FreeMat │ 2001  │ freemat,org │         │\n",
       "│ 4   │ Python  │ 1989  │ python.org  │         │\n",
       "│ 5   │ Lua     │ 2005  │ lua.org     │         │"
      ]
     },
     "execution_count": 34,
     "metadata": {},
     "output_type": "execute_result"
    }
   ],
   "source": [
    "# Novo Dataframe \n",
    "dados_novos = DataFrame()\n",
    "begin\n",
    "    dados_novos[!, :Nome] = [\"Scilab\", \"Axiom\", \"FreeMat\", \"Python\", \"Lua\"]\n",
    "    dados_novos[!, :Ano]  = [2005, 1980, 2001, 1989, 2005]\n",
    "    dados_novos[!, :Site] = [\"scilab.org\", \"axion.org\", \"freemat,org\", \"python.org\", \"lua.org\"]\n",
    "    dados_novos[!, :Versao] = [nothing for i = 1:5]\n",
    "end\n",
    "dados_novos"
   ]
  },
  {
   "cell_type": "code",
   "execution_count": 35,
   "metadata": {
    "scrolled": true
   },
   "outputs": [
    {
     "data": {
      "text/html": [
       "<table class=\"data-frame\"><thead><tr><th></th><th>Nome</th><th>Ano</th><th>Site</th><th>Versao</th><th>Nome_1</th><th>Ano_1</th><th>Site_1</th><th>Versao_1</th></tr><tr><th></th><th>String</th><th>Int64</th><th>String</th><th>String</th><th>String</th><th>Int64</th><th>String</th><th>Nothing</th></tr></thead><tbody><p>5 rows × 8 columns</p><tr><th>1</th><td>Julia</td><td>2012</td><td>julialang.org</td><td>1.0.2</td><td>Scilab</td><td>2005</td><td>scilab.org</td><td></td></tr><tr><th>2</th><td>Maxima</td><td>1980</td><td>maxima.org</td><td>5.42.1</td><td>Axiom</td><td>1980</td><td>axion.org</td><td></td></tr><tr><th>3</th><td>Octave</td><td>2000</td><td>gnu.org/octave</td><td>4.4.2</td><td>FreeMat</td><td>2001</td><td>freemat,org</td><td></td></tr><tr><th>4</th><td>SageMath</td><td>2005</td><td>sagemath.org</td><td>8,4</td><td>Python</td><td>1989</td><td>python.org</td><td></td></tr><tr><th>5</th><td>maXIma</td><td>1980</td><td>maxima.org</td><td>5.42.1</td><td>Lua</td><td>2005</td><td>lua.org</td><td></td></tr></tbody></table>"
      ],
      "text/latex": [
       "\\begin{tabular}{r|cccccccc}\n",
       "\t& Nome & Ano & Site & Versao & Nome\\_1 & Ano\\_1 & Site\\_1 & Versao\\_1\\\\\n",
       "\t\\hline\n",
       "\t& String & Int64 & String & String & String & Int64 & String & Nothing\\\\\n",
       "\t\\hline\n",
       "\t1 & Julia & 2012 & julialang.org & 1.0.2 & Scilab & 2005 & scilab.org &  \\\\\n",
       "\t2 & Maxima & 1980 & maxima.org & 5.42.1 & Axiom & 1980 & axion.org &  \\\\\n",
       "\t3 & Octave & 2000 & gnu.org/octave & 4.4.2 & FreeMat & 2001 & freemat,org &  \\\\\n",
       "\t4 & SageMath & 2005 & sagemath.org & 8,4 & Python & 1989 & python.org &  \\\\\n",
       "\t5 & maXIma & 1980 & maxima.org & 5.42.1 & Lua & 2005 & lua.org &  \\\\\n",
       "\\end{tabular}\n"
      ],
      "text/plain": [
       "5×8 DataFrame. Omitted printing of 2 columns\n",
       "│ Row │ Nome     │ Ano   │ Site           │ Versao │ Nome_1  │ Ano_1 │\n",
       "│     │ \u001b[90mString\u001b[39m   │ \u001b[90mInt64\u001b[39m │ \u001b[90mString\u001b[39m         │ \u001b[90mString\u001b[39m │ \u001b[90mString\u001b[39m  │ \u001b[90mInt64\u001b[39m │\n",
       "├─────┼──────────┼───────┼────────────────┼────────┼─────────┼───────┤\n",
       "│ 1   │ Julia    │ 2012  │ julialang.org  │ 1.0.2  │ Scilab  │ 2005  │\n",
       "│ 2   │ Maxima   │ 1980  │ maxima.org     │ 5.42.1 │ Axiom   │ 1980  │\n",
       "│ 3   │ Octave   │ 2000  │ gnu.org/octave │ 4.4.2  │ FreeMat │ 2001  │\n",
       "│ 4   │ SageMath │ 2005  │ sagemath.org   │ 8,4    │ Python  │ 1989  │\n",
       "│ 5   │ maXIma   │ 1980  │ maxima.org     │ 5.42.1 │ Lua     │ 2005  │"
      ]
     },
     "execution_count": 35,
     "metadata": {},
     "output_type": "execute_result"
    }
   ],
   "source": [
    "hcat(Softwares, dados_novos, makeunique=true)"
   ]
  },
  {
   "cell_type": "markdown",
   "metadata": {},
   "source": [
    "```[Softwares  dados_novos] # falha por ter variáveis com nome repetido. Daria certo se fossem únicos```"
   ]
  },
  {
   "cell_type": "markdown",
   "metadata": {},
   "source": [
    "**Para concatenar Dataframes na vertical use:**\n",
    "\n",
    "Necessário que tenham as mesmas colunas!\n",
    "\n",
    "```julia\n",
    "[Dataframe_1;  Dataframe_2]\n",
    "vcat(Dataframe_1 , Dataframe_2)\n",
    "```"
   ]
  },
  {
   "cell_type": "code",
   "execution_count": 36,
   "metadata": {},
   "outputs": [
    {
     "data": {
      "text/html": [
       "<table class=\"data-frame\"><thead><tr><th></th><th>Nome</th><th>Ano</th><th>Site</th><th>Versao</th></tr><tr><th></th><th>String</th><th>Int64</th><th>String</th><th>Nothing</th></tr></thead><tbody><p>5 rows × 4 columns</p><tr><th>1</th><td>Scilab</td><td>2005</td><td>scilab.org</td><td></td></tr><tr><th>2</th><td>Axiom</td><td>1980</td><td>axion.org</td><td></td></tr><tr><th>3</th><td>FreeMat</td><td>2001</td><td>freemat,org</td><td></td></tr><tr><th>4</th><td>Python</td><td>1989</td><td>python.org</td><td></td></tr><tr><th>5</th><td>Lua</td><td>2005</td><td>lua.org</td><td></td></tr></tbody></table>"
      ],
      "text/latex": [
       "\\begin{tabular}{r|cccc}\n",
       "\t& Nome & Ano & Site & Versao\\\\\n",
       "\t\\hline\n",
       "\t& String & Int64 & String & Nothing\\\\\n",
       "\t\\hline\n",
       "\t1 & Scilab & 2005 & scilab.org &  \\\\\n",
       "\t2 & Axiom & 1980 & axion.org &  \\\\\n",
       "\t3 & FreeMat & 2001 & freemat,org &  \\\\\n",
       "\t4 & Python & 1989 & python.org &  \\\\\n",
       "\t5 & Lua & 2005 & lua.org &  \\\\\n",
       "\\end{tabular}\n"
      ],
      "text/plain": [
       "5×4 DataFrame\n",
       "│ Row │ Nome    │ Ano   │ Site        │ Versao  │\n",
       "│     │ \u001b[90mString\u001b[39m  │ \u001b[90mInt64\u001b[39m │ \u001b[90mString\u001b[39m      │ \u001b[90mNothing\u001b[39m │\n",
       "├─────┼─────────┼───────┼─────────────┼─────────┤\n",
       "│ 1   │ Scilab  │ 2005  │ scilab.org  │         │\n",
       "│ 2   │ Axiom   │ 1980  │ axion.org   │         │\n",
       "│ 3   │ FreeMat │ 2001  │ freemat,org │         │\n",
       "│ 4   │ Python  │ 1989  │ python.org  │         │\n",
       "│ 5   │ Lua     │ 2005  │ lua.org     │         │"
      ]
     },
     "execution_count": 36,
     "metadata": {},
     "output_type": "execute_result"
    }
   ],
   "source": [
    "dados_novos"
   ]
  },
  {
   "cell_type": "code",
   "execution_count": 37,
   "metadata": {
    "scrolled": true
   },
   "outputs": [
    {
     "data": {
      "text/html": [
       "<table class=\"data-frame\"><thead><tr><th></th><th>Nome</th><th>Ano</th><th>Site</th><th>Versao</th></tr><tr><th></th><th>String</th><th>Int64</th><th>String</th><th>Union…</th></tr></thead><tbody><p>10 rows × 4 columns</p><tr><th>1</th><td>Julia</td><td>2012</td><td>julialang.org</td><td>1.0.2</td></tr><tr><th>2</th><td>Maxima</td><td>1980</td><td>maxima.org</td><td>5.42.1</td></tr><tr><th>3</th><td>Octave</td><td>2000</td><td>gnu.org/octave</td><td>4.4.2</td></tr><tr><th>4</th><td>SageMath</td><td>2005</td><td>sagemath.org</td><td>8,4</td></tr><tr><th>5</th><td>maXIma</td><td>1980</td><td>maxima.org</td><td>5.42.1</td></tr><tr><th>6</th><td>Scilab</td><td>2005</td><td>scilab.org</td><td></td></tr><tr><th>7</th><td>Axiom</td><td>1980</td><td>axion.org</td><td></td></tr><tr><th>8</th><td>FreeMat</td><td>2001</td><td>freemat,org</td><td></td></tr><tr><th>9</th><td>Python</td><td>1989</td><td>python.org</td><td></td></tr><tr><th>10</th><td>Lua</td><td>2005</td><td>lua.org</td><td></td></tr></tbody></table>"
      ],
      "text/latex": [
       "\\begin{tabular}{r|cccc}\n",
       "\t& Nome & Ano & Site & Versao\\\\\n",
       "\t\\hline\n",
       "\t& String & Int64 & String & Union…\\\\\n",
       "\t\\hline\n",
       "\t1 & Julia & 2012 & julialang.org & 1.0.2 \\\\\n",
       "\t2 & Maxima & 1980 & maxima.org & 5.42.1 \\\\\n",
       "\t3 & Octave & 2000 & gnu.org/octave & 4.4.2 \\\\\n",
       "\t4 & SageMath & 2005 & sagemath.org & 8,4 \\\\\n",
       "\t5 & maXIma & 1980 & maxima.org & 5.42.1 \\\\\n",
       "\t6 & Scilab & 2005 & scilab.org &  \\\\\n",
       "\t7 & Axiom & 1980 & axion.org &  \\\\\n",
       "\t8 & FreeMat & 2001 & freemat,org &  \\\\\n",
       "\t9 & Python & 1989 & python.org &  \\\\\n",
       "\t10 & Lua & 2005 & lua.org &  \\\\\n",
       "\\end{tabular}\n"
      ],
      "text/plain": [
       "10×4 DataFrame\n",
       "│ Row │ Nome     │ Ano   │ Site           │ Versao │\n",
       "│     │ \u001b[90mString\u001b[39m   │ \u001b[90mInt64\u001b[39m │ \u001b[90mString\u001b[39m         │ \u001b[90mUnion…\u001b[39m │\n",
       "├─────┼──────────┼───────┼────────────────┼────────┤\n",
       "│ 1   │ Julia    │ 2012  │ julialang.org  │ 1.0.2  │\n",
       "│ 2   │ Maxima   │ 1980  │ maxima.org     │ 5.42.1 │\n",
       "│ 3   │ Octave   │ 2000  │ gnu.org/octave │ 4.4.2  │\n",
       "│ 4   │ SageMath │ 2005  │ sagemath.org   │ 8,4    │\n",
       "│ 5   │ maXIma   │ 1980  │ maxima.org     │ 5.42.1 │\n",
       "│ 6   │ Scilab   │ 2005  │ scilab.org     │        │\n",
       "│ 7   │ Axiom    │ 1980  │ axion.org      │        │\n",
       "│ 8   │ FreeMat  │ 2001  │ freemat,org    │        │\n",
       "│ 9   │ Python   │ 1989  │ python.org     │        │\n",
       "│ 10  │ Lua      │ 2005  │ lua.org        │        │"
      ]
     },
     "execution_count": 37,
     "metadata": {},
     "output_type": "execute_result"
    }
   ],
   "source": [
    "vcat(Softwares, dados_novos)"
   ]
  },
  {
   "cell_type": "code",
   "execution_count": 38,
   "metadata": {},
   "outputs": [
    {
     "data": {
      "text/html": [
       "<table class=\"data-frame\"><thead><tr><th></th><th>Nome</th><th>Ano</th><th>Site</th><th>Versao</th></tr><tr><th></th><th>String</th><th>Int64</th><th>String</th><th>Union…</th></tr></thead><tbody><p>10 rows × 4 columns</p><tr><th>1</th><td>Julia</td><td>2012</td><td>julialang.org</td><td>1.0.2</td></tr><tr><th>2</th><td>Maxima</td><td>1980</td><td>maxima.org</td><td>5.42.1</td></tr><tr><th>3</th><td>Octave</td><td>2000</td><td>gnu.org/octave</td><td>4.4.2</td></tr><tr><th>4</th><td>SageMath</td><td>2005</td><td>sagemath.org</td><td>8,4</td></tr><tr><th>5</th><td>maXIma</td><td>1980</td><td>maxima.org</td><td>5.42.1</td></tr><tr><th>6</th><td>Scilab</td><td>2005</td><td>scilab.org</td><td></td></tr><tr><th>7</th><td>Axiom</td><td>1980</td><td>axion.org</td><td></td></tr><tr><th>8</th><td>FreeMat</td><td>2001</td><td>freemat,org</td><td></td></tr><tr><th>9</th><td>Python</td><td>1989</td><td>python.org</td><td></td></tr><tr><th>10</th><td>Lua</td><td>2005</td><td>lua.org</td><td></td></tr></tbody></table>"
      ],
      "text/latex": [
       "\\begin{tabular}{r|cccc}\n",
       "\t& Nome & Ano & Site & Versao\\\\\n",
       "\t\\hline\n",
       "\t& String & Int64 & String & Union…\\\\\n",
       "\t\\hline\n",
       "\t1 & Julia & 2012 & julialang.org & 1.0.2 \\\\\n",
       "\t2 & Maxima & 1980 & maxima.org & 5.42.1 \\\\\n",
       "\t3 & Octave & 2000 & gnu.org/octave & 4.4.2 \\\\\n",
       "\t4 & SageMath & 2005 & sagemath.org & 8,4 \\\\\n",
       "\t5 & maXIma & 1980 & maxima.org & 5.42.1 \\\\\n",
       "\t6 & Scilab & 2005 & scilab.org &  \\\\\n",
       "\t7 & Axiom & 1980 & axion.org &  \\\\\n",
       "\t8 & FreeMat & 2001 & freemat,org &  \\\\\n",
       "\t9 & Python & 1989 & python.org &  \\\\\n",
       "\t10 & Lua & 2005 & lua.org &  \\\\\n",
       "\\end{tabular}\n"
      ],
      "text/plain": [
       "10×4 DataFrame\n",
       "│ Row │ Nome     │ Ano   │ Site           │ Versao │\n",
       "│     │ \u001b[90mString\u001b[39m   │ \u001b[90mInt64\u001b[39m │ \u001b[90mString\u001b[39m         │ \u001b[90mUnion…\u001b[39m │\n",
       "├─────┼──────────┼───────┼────────────────┼────────┤\n",
       "│ 1   │ Julia    │ 2012  │ julialang.org  │ 1.0.2  │\n",
       "│ 2   │ Maxima   │ 1980  │ maxima.org     │ 5.42.1 │\n",
       "│ 3   │ Octave   │ 2000  │ gnu.org/octave │ 4.4.2  │\n",
       "│ 4   │ SageMath │ 2005  │ sagemath.org   │ 8,4    │\n",
       "│ 5   │ maXIma   │ 1980  │ maxima.org     │ 5.42.1 │\n",
       "│ 6   │ Scilab   │ 2005  │ scilab.org     │        │\n",
       "│ 7   │ Axiom    │ 1980  │ axion.org      │        │\n",
       "│ 8   │ FreeMat  │ 2001  │ freemat,org    │        │\n",
       "│ 9   │ Python   │ 1989  │ python.org     │        │\n",
       "│ 10  │ Lua      │ 2005  │ lua.org        │        │"
      ]
     },
     "execution_count": 38,
     "metadata": {},
     "output_type": "execute_result"
    }
   ],
   "source": [
    "[Softwares;  dados_novos]"
   ]
  },
  {
   "cell_type": "markdown",
   "metadata": {},
   "source": [
    "Se os Dataframes tiverem uma coluna com nome em comum e mesmo tamanho pode ser usado a forma:\n",
    "```julia\n",
    "join(Dataframe_1, Dataframe_2, on = :nome_coluna_comum)\n",
    "```"
   ]
  },
  {
   "cell_type": "code",
   "execution_count": 39,
   "metadata": {},
   "outputs": [
    {
     "data": {
      "text/html": [
       "<table class=\"data-frame\"><thead><tr><th></th><th>Nome</th><th>Ano</th><th>Site</th><th>Versao</th></tr><tr><th></th><th>String</th><th>Int64</th><th>String</th><th>String</th></tr></thead><tbody><p>5 rows × 4 columns</p><tr><th>1</th><td>Julia</td><td>2012</td><td>julialang.org</td><td>1.0.2</td></tr><tr><th>2</th><td>Maxima</td><td>1980</td><td>maxima.org</td><td>5.42.1</td></tr><tr><th>3</th><td>Octave</td><td>2000</td><td>gnu.org/octave</td><td>4.4.2</td></tr><tr><th>4</th><td>SageMath</td><td>2005</td><td>sagemath.org</td><td>8,4</td></tr><tr><th>5</th><td>maXIma</td><td>1980</td><td>maxima.org</td><td>5.42.1</td></tr></tbody></table>"
      ],
      "text/latex": [
       "\\begin{tabular}{r|cccc}\n",
       "\t& Nome & Ano & Site & Versao\\\\\n",
       "\t\\hline\n",
       "\t& String & Int64 & String & String\\\\\n",
       "\t\\hline\n",
       "\t1 & Julia & 2012 & julialang.org & 1.0.2 \\\\\n",
       "\t2 & Maxima & 1980 & maxima.org & 5.42.1 \\\\\n",
       "\t3 & Octave & 2000 & gnu.org/octave & 4.4.2 \\\\\n",
       "\t4 & SageMath & 2005 & sagemath.org & 8,4 \\\\\n",
       "\t5 & maXIma & 1980 & maxima.org & 5.42.1 \\\\\n",
       "\\end{tabular}\n"
      ],
      "text/plain": [
       "5×4 DataFrame\n",
       "│ Row │ Nome     │ Ano   │ Site           │ Versao │\n",
       "│     │ \u001b[90mString\u001b[39m   │ \u001b[90mInt64\u001b[39m │ \u001b[90mString\u001b[39m         │ \u001b[90mString\u001b[39m │\n",
       "├─────┼──────────┼───────┼────────────────┼────────┤\n",
       "│ 1   │ Julia    │ 2012  │ julialang.org  │ 1.0.2  │\n",
       "│ 2   │ Maxima   │ 1980  │ maxima.org     │ 5.42.1 │\n",
       "│ 3   │ Octave   │ 2000  │ gnu.org/octave │ 4.4.2  │\n",
       "│ 4   │ SageMath │ 2005  │ sagemath.org   │ 8,4    │\n",
       "│ 5   │ maXIma   │ 1980  │ maxima.org     │ 5.42.1 │"
      ]
     },
     "execution_count": 39,
     "metadata": {},
     "output_type": "execute_result"
    }
   ],
   "source": [
    "Softwares"
   ]
  },
  {
   "cell_type": "code",
   "execution_count": 40,
   "metadata": {},
   "outputs": [
    {
     "data": {
      "text/html": [
       "<table class=\"data-frame\"><thead><tr><th></th><th>Nome</th><th>Ano</th><th>Site</th><th>Versao</th><th>Nome_1</th><th>Site_1</th><th>Versao_1</th></tr><tr><th></th><th>String</th><th>Int64</th><th>String</th><th>String</th><th>String</th><th>String</th><th>Nothing</th></tr></thead><tbody><p>4 rows × 7 columns</p><tr><th>1</th><td>Maxima</td><td>1980</td><td>maxima.org</td><td>5.42.1</td><td>Axiom</td><td>axion.org</td><td></td></tr><tr><th>2</th><td>SageMath</td><td>2005</td><td>sagemath.org</td><td>8,4</td><td>Scilab</td><td>scilab.org</td><td></td></tr><tr><th>3</th><td>SageMath</td><td>2005</td><td>sagemath.org</td><td>8,4</td><td>Lua</td><td>lua.org</td><td></td></tr><tr><th>4</th><td>maXIma</td><td>1980</td><td>maxima.org</td><td>5.42.1</td><td>Axiom</td><td>axion.org</td><td></td></tr></tbody></table>"
      ],
      "text/latex": [
       "\\begin{tabular}{r|ccccccc}\n",
       "\t& Nome & Ano & Site & Versao & Nome\\_1 & Site\\_1 & Versao\\_1\\\\\n",
       "\t\\hline\n",
       "\t& String & Int64 & String & String & String & String & Nothing\\\\\n",
       "\t\\hline\n",
       "\t1 & Maxima & 1980 & maxima.org & 5.42.1 & Axiom & axion.org &  \\\\\n",
       "\t2 & SageMath & 2005 & sagemath.org & 8,4 & Scilab & scilab.org &  \\\\\n",
       "\t3 & SageMath & 2005 & sagemath.org & 8,4 & Lua & lua.org &  \\\\\n",
       "\t4 & maXIma & 1980 & maxima.org & 5.42.1 & Axiom & axion.org &  \\\\\n",
       "\\end{tabular}\n"
      ],
      "text/plain": [
       "4×7 DataFrame. Omitted printing of 1 columns\n",
       "│ Row │ Nome     │ Ano   │ Site         │ Versao │ Nome_1 │ Site_1     │\n",
       "│     │ \u001b[90mString\u001b[39m   │ \u001b[90mInt64\u001b[39m │ \u001b[90mString\u001b[39m       │ \u001b[90mString\u001b[39m │ \u001b[90mString\u001b[39m │ \u001b[90mString\u001b[39m     │\n",
       "├─────┼──────────┼───────┼──────────────┼────────┼────────┼────────────┤\n",
       "│ 1   │ Maxima   │ 1980  │ maxima.org   │ 5.42.1 │ Axiom  │ axion.org  │\n",
       "│ 2   │ SageMath │ 2005  │ sagemath.org │ 8,4    │ Scilab │ scilab.org │\n",
       "│ 3   │ SageMath │ 2005  │ sagemath.org │ 8,4    │ Lua    │ lua.org    │\n",
       "│ 4   │ maXIma   │ 1980  │ maxima.org   │ 5.42.1 │ Axiom  │ axion.org  │"
      ]
     },
     "execution_count": 40,
     "metadata": {},
     "output_type": "execute_result"
    }
   ],
   "source": [
    "join(Softwares, dados_novos, on=:Ano, makeunique=true)"
   ]
  },
  {
   "cell_type": "markdown",
   "metadata": {},
   "source": [
    "**Para deletar linhas e linhas com dados repetidos:**\n",
    "\n",
    "Apaga as linhas e sobrescreve o Dataframe (CUIDADO!):\n",
    "```julia\n",
    "deleterows!(DataFrame, [linha_1, linha_2,...linha_x]) \n",
    "deleterows!(DataFrame, linha_1:linha_x)      \n",
    "```\n",
    "Sendo `x` ordem da linha do dataframe.\n",
    "\n",
    "Apaga somente a linha repetida:\n",
    "```julia\n",
    "unique(DataFrame)  \n",
    "unique!(DataFrame)\n",
    "```"
   ]
  },
  {
   "cell_type": "code",
   "execution_count": 41,
   "metadata": {
    "scrolled": true
   },
   "outputs": [
    {
     "data": {
      "text/html": [
       "<table class=\"data-frame\"><thead><tr><th></th><th>Nome</th><th>Ano</th><th>Site</th><th>Versao</th></tr><tr><th></th><th>String</th><th>Int64</th><th>String</th><th>String</th></tr></thead><tbody><p>5 rows × 4 columns</p><tr><th>1</th><td>Julia</td><td>2012</td><td>julialang.org</td><td>1.0.2</td></tr><tr><th>2</th><td>Maxima</td><td>1980</td><td>maxima.org</td><td>5.42.1</td></tr><tr><th>3</th><td>Octave</td><td>2000</td><td>gnu.org/octave</td><td>4.4.2</td></tr><tr><th>4</th><td>SageMath</td><td>2005</td><td>sagemath.org</td><td>8,4</td></tr><tr><th>5</th><td>maXIma</td><td>1980</td><td>maxima.org</td><td>5.42.1</td></tr></tbody></table>"
      ],
      "text/latex": [
       "\\begin{tabular}{r|cccc}\n",
       "\t& Nome & Ano & Site & Versao\\\\\n",
       "\t\\hline\n",
       "\t& String & Int64 & String & String\\\\\n",
       "\t\\hline\n",
       "\t1 & Julia & 2012 & julialang.org & 1.0.2 \\\\\n",
       "\t2 & Maxima & 1980 & maxima.org & 5.42.1 \\\\\n",
       "\t3 & Octave & 2000 & gnu.org/octave & 4.4.2 \\\\\n",
       "\t4 & SageMath & 2005 & sagemath.org & 8,4 \\\\\n",
       "\t5 & maXIma & 1980 & maxima.org & 5.42.1 \\\\\n",
       "\\end{tabular}\n"
      ],
      "text/plain": [
       "5×4 DataFrame\n",
       "│ Row │ Nome     │ Ano   │ Site           │ Versao │\n",
       "│     │ \u001b[90mString\u001b[39m   │ \u001b[90mInt64\u001b[39m │ \u001b[90mString\u001b[39m         │ \u001b[90mString\u001b[39m │\n",
       "├─────┼──────────┼───────┼────────────────┼────────┤\n",
       "│ 1   │ Julia    │ 2012  │ julialang.org  │ 1.0.2  │\n",
       "│ 2   │ Maxima   │ 1980  │ maxima.org     │ 5.42.1 │\n",
       "│ 3   │ Octave   │ 2000  │ gnu.org/octave │ 4.4.2  │\n",
       "│ 4   │ SageMath │ 2005  │ sagemath.org   │ 8,4    │\n",
       "│ 5   │ maXIma   │ 1980  │ maxima.org     │ 5.42.1 │"
      ]
     },
     "execution_count": 41,
     "metadata": {},
     "output_type": "execute_result"
    }
   ],
   "source": [
    "Softwares"
   ]
  },
  {
   "cell_type": "code",
   "execution_count": 42,
   "metadata": {},
   "outputs": [
    {
     "data": {
      "text/html": [
       "<table class=\"data-frame\"><thead><tr><th></th><th>Nome</th><th>Ano</th><th>Site</th><th>Versao</th></tr><tr><th></th><th>String</th><th>Int64</th><th>String</th><th>String</th></tr></thead><tbody><p>4 rows × 4 columns</p><tr><th>1</th><td>Julia</td><td>2012</td><td>julialang.org</td><td>1.0.2</td></tr><tr><th>2</th><td>Octave</td><td>2000</td><td>gnu.org/octave</td><td>4.4.2</td></tr><tr><th>3</th><td>SageMath</td><td>2005</td><td>sagemath.org</td><td>8,4</td></tr><tr><th>4</th><td>maXIma</td><td>1980</td><td>maxima.org</td><td>5.42.1</td></tr></tbody></table>"
      ],
      "text/latex": [
       "\\begin{tabular}{r|cccc}\n",
       "\t& Nome & Ano & Site & Versao\\\\\n",
       "\t\\hline\n",
       "\t& String & Int64 & String & String\\\\\n",
       "\t\\hline\n",
       "\t1 & Julia & 2012 & julialang.org & 1.0.2 \\\\\n",
       "\t2 & Octave & 2000 & gnu.org/octave & 4.4.2 \\\\\n",
       "\t3 & SageMath & 2005 & sagemath.org & 8,4 \\\\\n",
       "\t4 & maXIma & 1980 & maxima.org & 5.42.1 \\\\\n",
       "\\end{tabular}\n"
      ],
      "text/plain": [
       "4×4 DataFrame\n",
       "│ Row │ Nome     │ Ano   │ Site           │ Versao │\n",
       "│     │ \u001b[90mString\u001b[39m   │ \u001b[90mInt64\u001b[39m │ \u001b[90mString\u001b[39m         │ \u001b[90mString\u001b[39m │\n",
       "├─────┼──────────┼───────┼────────────────┼────────┤\n",
       "│ 1   │ Julia    │ 2012  │ julialang.org  │ 1.0.2  │\n",
       "│ 2   │ Octave   │ 2000  │ gnu.org/octave │ 4.4.2  │\n",
       "│ 3   │ SageMath │ 2005  │ sagemath.org   │ 8,4    │\n",
       "│ 4   │ maXIma   │ 1980  │ maxima.org     │ 5.42.1 │"
      ]
     },
     "execution_count": 42,
     "metadata": {},
     "output_type": "execute_result"
    }
   ],
   "source": [
    "# deletar segunda linha\n",
    "deleterows!(Softwares, 2)"
   ]
  },
  {
   "cell_type": "code",
   "execution_count": 43,
   "metadata": {
    "scrolled": false
   },
   "outputs": [
    {
     "data": {
      "text/html": [
       "<table class=\"data-frame\"><thead><tr><th></th><th>Nome</th><th>Ano</th><th>Site</th><th>Versao</th></tr><tr><th></th><th>String</th><th>Int64</th><th>String</th><th>String</th></tr></thead><tbody><p>4 rows × 4 columns</p><tr><th>1</th><td>Julia</td><td>2012</td><td>julialang.org</td><td>1.0.2</td></tr><tr><th>2</th><td>Octave</td><td>2000</td><td>gnu.org/octave</td><td>4.4.2</td></tr><tr><th>3</th><td>SageMath</td><td>2005</td><td>sagemath.org</td><td>8,4</td></tr><tr><th>4</th><td>maXIma</td><td>1980</td><td>maxima.org</td><td>5.42.1</td></tr></tbody></table>"
      ],
      "text/latex": [
       "\\begin{tabular}{r|cccc}\n",
       "\t& Nome & Ano & Site & Versao\\\\\n",
       "\t\\hline\n",
       "\t& String & Int64 & String & String\\\\\n",
       "\t\\hline\n",
       "\t1 & Julia & 2012 & julialang.org & 1.0.2 \\\\\n",
       "\t2 & Octave & 2000 & gnu.org/octave & 4.4.2 \\\\\n",
       "\t3 & SageMath & 2005 & sagemath.org & 8,4 \\\\\n",
       "\t4 & maXIma & 1980 & maxima.org & 5.42.1 \\\\\n",
       "\\end{tabular}\n"
      ],
      "text/plain": [
       "4×4 DataFrame\n",
       "│ Row │ Nome     │ Ano   │ Site           │ Versao │\n",
       "│     │ \u001b[90mString\u001b[39m   │ \u001b[90mInt64\u001b[39m │ \u001b[90mString\u001b[39m         │ \u001b[90mString\u001b[39m │\n",
       "├─────┼──────────┼───────┼────────────────┼────────┤\n",
       "│ 1   │ Julia    │ 2012  │ julialang.org  │ 1.0.2  │\n",
       "│ 2   │ Octave   │ 2000  │ gnu.org/octave │ 4.4.2  │\n",
       "│ 3   │ SageMath │ 2005  │ sagemath.org   │ 8,4    │\n",
       "│ 4   │ maXIma   │ 1980  │ maxima.org     │ 5.42.1 │"
      ]
     },
     "execution_count": 43,
     "metadata": {},
     "output_type": "execute_result"
    }
   ],
   "source": [
    "# deletar linhas de dados repetido\n",
    "unique!(Softwares)"
   ]
  },
  {
   "cell_type": "markdown",
   "metadata": {},
   "source": [
    "**Para ordenar os elementos de um Dataframe**\n",
    "\n",
    "Sintaxe:\n",
    "```julia\n",
    "sort!(nome_DataFrame, :nome_coluna, opções)\n",
    "```\n",
    "* **opções**: \n",
    "    * **rev**: quando true, ordena de forma reversa;\n",
    "    * **alg**: algoritmo de ordenamento: QuickSort, MergeSort, TimSort e RadixSort;\n",
    "    * **lt**: \n",
    "    * **order**:\n",
    "    * **by**: quando temos um dados coluna x linha contendo uma coleção, podemos indicar qual a posição da coleção que será utilizada como  base de ordenação.\n",
    "    "
   ]
  },
  {
   "cell_type": "code",
   "execution_count": 44,
   "metadata": {},
   "outputs": [
    {
     "data": {
      "text/html": [
       "<table class=\"data-frame\"><thead><tr><th></th><th>Nome</th><th>Ano</th><th>Site</th><th>Versao</th></tr><tr><th></th><th>String</th><th>Int64</th><th>String</th><th>String</th></tr></thead><tbody><p>4 rows × 4 columns</p><tr><th>1</th><td>Julia</td><td>2012</td><td>julialang.org</td><td>1.0.2</td></tr><tr><th>2</th><td>Octave</td><td>2000</td><td>gnu.org/octave</td><td>4.4.2</td></tr><tr><th>3</th><td>SageMath</td><td>2005</td><td>sagemath.org</td><td>8,4</td></tr><tr><th>4</th><td>maXIma</td><td>1980</td><td>maxima.org</td><td>5.42.1</td></tr></tbody></table>"
      ],
      "text/latex": [
       "\\begin{tabular}{r|cccc}\n",
       "\t& Nome & Ano & Site & Versao\\\\\n",
       "\t\\hline\n",
       "\t& String & Int64 & String & String\\\\\n",
       "\t\\hline\n",
       "\t1 & Julia & 2012 & julialang.org & 1.0.2 \\\\\n",
       "\t2 & Octave & 2000 & gnu.org/octave & 4.4.2 \\\\\n",
       "\t3 & SageMath & 2005 & sagemath.org & 8,4 \\\\\n",
       "\t4 & maXIma & 1980 & maxima.org & 5.42.1 \\\\\n",
       "\\end{tabular}\n"
      ],
      "text/plain": [
       "4×4 DataFrame\n",
       "│ Row │ Nome     │ Ano   │ Site           │ Versao │\n",
       "│     │ \u001b[90mString\u001b[39m   │ \u001b[90mInt64\u001b[39m │ \u001b[90mString\u001b[39m         │ \u001b[90mString\u001b[39m │\n",
       "├─────┼──────────┼───────┼────────────────┼────────┤\n",
       "│ 1   │ Julia    │ 2012  │ julialang.org  │ 1.0.2  │\n",
       "│ 2   │ Octave   │ 2000  │ gnu.org/octave │ 4.4.2  │\n",
       "│ 3   │ SageMath │ 2005  │ sagemath.org   │ 8,4    │\n",
       "│ 4   │ maXIma   │ 1980  │ maxima.org     │ 5.42.1 │"
      ]
     },
     "execution_count": 44,
     "metadata": {},
     "output_type": "execute_result"
    }
   ],
   "source": [
    "sort(Softwares, :Nome, alg=MergeSort)"
   ]
  },
  {
   "cell_type": "code",
   "execution_count": 45,
   "metadata": {
    "scrolled": false
   },
   "outputs": [
    {
     "data": {
      "text/html": [
       "<table class=\"data-frame\"><thead><tr><th></th><th>Nome</th><th>Ano</th><th>Site</th><th>Versao</th></tr><tr><th></th><th>String</th><th>Int64</th><th>String</th><th>String</th></tr></thead><tbody><p>4 rows × 4 columns</p><tr><th>1</th><td>Julia</td><td>2012</td><td>julialang.org</td><td>1.0.2</td></tr><tr><th>2</th><td>Octave</td><td>2000</td><td>gnu.org/octave</td><td>4.4.2</td></tr><tr><th>3</th><td>SageMath</td><td>2005</td><td>sagemath.org</td><td>8,4</td></tr><tr><th>4</th><td>maXIma</td><td>1980</td><td>maxima.org</td><td>5.42.1</td></tr></tbody></table>"
      ],
      "text/latex": [
       "\\begin{tabular}{r|cccc}\n",
       "\t& Nome & Ano & Site & Versao\\\\\n",
       "\t\\hline\n",
       "\t& String & Int64 & String & String\\\\\n",
       "\t\\hline\n",
       "\t1 & Julia & 2012 & julialang.org & 1.0.2 \\\\\n",
       "\t2 & Octave & 2000 & gnu.org/octave & 4.4.2 \\\\\n",
       "\t3 & SageMath & 2005 & sagemath.org & 8,4 \\\\\n",
       "\t4 & maXIma & 1980 & maxima.org & 5.42.1 \\\\\n",
       "\\end{tabular}\n"
      ],
      "text/plain": [
       "4×4 DataFrame\n",
       "│ Row │ Nome     │ Ano   │ Site           │ Versao │\n",
       "│     │ \u001b[90mString\u001b[39m   │ \u001b[90mInt64\u001b[39m │ \u001b[90mString\u001b[39m         │ \u001b[90mString\u001b[39m │\n",
       "├─────┼──────────┼───────┼────────────────┼────────┤\n",
       "│ 1   │ Julia    │ 2012  │ julialang.org  │ 1.0.2  │\n",
       "│ 2   │ Octave   │ 2000  │ gnu.org/octave │ 4.4.2  │\n",
       "│ 3   │ SageMath │ 2005  │ sagemath.org   │ 8,4    │\n",
       "│ 4   │ maXIma   │ 1980  │ maxima.org     │ 5.42.1 │"
      ]
     },
     "execution_count": 45,
     "metadata": {},
     "output_type": "execute_result"
    }
   ],
   "source": [
    "# ordena e atualiza\n",
    "sort!(Softwares, :Nome)"
   ]
  },
  {
   "cell_type": "markdown",
   "metadata": {},
   "source": [
    "#### FILTRAR  DADOS EM UM DATAFRAME\n",
    "\n",
    "Para filtrar dados em um DataFrame temos:\n",
    "```julia\n",
    "Nome_DataFrame[Nome_DataFrame[coluna] .operador valor, colunas ]\n",
    "```\n",
    "Sendo:\n",
    "* **Operador**: > , < , != e outros\n",
    "* **valor** : valor a ser pesquisado\n",
    "* **colunas**: qual ou quais colunas devem ser selecionadas (use \":\" para todas as colunas)"
   ]
  },
  {
   "cell_type": "code",
   "execution_count": 46,
   "metadata": {
    "scrolled": true
   },
   "outputs": [
    {
     "data": {
      "text/html": [
       "<table class=\"data-frame\"><thead><tr><th></th><th>Nome</th><th>Ano</th><th>Site</th><th>Versao</th></tr><tr><th></th><th>String</th><th>Int64</th><th>String</th><th>String</th></tr></thead><tbody><p>4 rows × 4 columns</p><tr><th>1</th><td>Julia</td><td>2012</td><td>julialang.org</td><td>1.0.2</td></tr><tr><th>2</th><td>Octave</td><td>2000</td><td>gnu.org/octave</td><td>4.4.2</td></tr><tr><th>3</th><td>SageMath</td><td>2005</td><td>sagemath.org</td><td>8,4</td></tr><tr><th>4</th><td>maXIma</td><td>1980</td><td>maxima.org</td><td>5.42.1</td></tr></tbody></table>"
      ],
      "text/latex": [
       "\\begin{tabular}{r|cccc}\n",
       "\t& Nome & Ano & Site & Versao\\\\\n",
       "\t\\hline\n",
       "\t& String & Int64 & String & String\\\\\n",
       "\t\\hline\n",
       "\t1 & Julia & 2012 & julialang.org & 1.0.2 \\\\\n",
       "\t2 & Octave & 2000 & gnu.org/octave & 4.4.2 \\\\\n",
       "\t3 & SageMath & 2005 & sagemath.org & 8,4 \\\\\n",
       "\t4 & maXIma & 1980 & maxima.org & 5.42.1 \\\\\n",
       "\\end{tabular}\n"
      ],
      "text/plain": [
       "4×4 DataFrame\n",
       "│ Row │ Nome     │ Ano   │ Site           │ Versao │\n",
       "│     │ \u001b[90mString\u001b[39m   │ \u001b[90mInt64\u001b[39m │ \u001b[90mString\u001b[39m         │ \u001b[90mString\u001b[39m │\n",
       "├─────┼──────────┼───────┼────────────────┼────────┤\n",
       "│ 1   │ Julia    │ 2012  │ julialang.org  │ 1.0.2  │\n",
       "│ 2   │ Octave   │ 2000  │ gnu.org/octave │ 4.4.2  │\n",
       "│ 3   │ SageMath │ 2005  │ sagemath.org   │ 8,4    │\n",
       "│ 4   │ maXIma   │ 1980  │ maxima.org     │ 5.42.1 │"
      ]
     },
     "execution_count": 46,
     "metadata": {},
     "output_type": "execute_result"
    }
   ],
   "source": [
    "Softwares"
   ]
  },
  {
   "cell_type": "markdown",
   "metadata": {},
   "source": [
    "Exemplo 1: listar todos os nomes dos sofwares e sites, maiores que o ano de 1980."
   ]
  },
  {
   "cell_type": "code",
   "execution_count": 47,
   "metadata": {
    "scrolled": false
   },
   "outputs": [
    {
     "data": {
      "text/html": [
       "<table class=\"data-frame\"><thead><tr><th></th><th>Nome</th><th>Ano</th><th>Site</th><th>Versao</th></tr><tr><th></th><th>String</th><th>Int64</th><th>String</th><th>String</th></tr></thead><tbody><p>3 rows × 4 columns</p><tr><th>1</th><td>Julia</td><td>2012</td><td>julialang.org</td><td>1.0.2</td></tr><tr><th>2</th><td>Octave</td><td>2000</td><td>gnu.org/octave</td><td>4.4.2</td></tr><tr><th>3</th><td>SageMath</td><td>2005</td><td>sagemath.org</td><td>8,4</td></tr></tbody></table>"
      ],
      "text/latex": [
       "\\begin{tabular}{r|cccc}\n",
       "\t& Nome & Ano & Site & Versao\\\\\n",
       "\t\\hline\n",
       "\t& String & Int64 & String & String\\\\\n",
       "\t\\hline\n",
       "\t1 & Julia & 2012 & julialang.org & 1.0.2 \\\\\n",
       "\t2 & Octave & 2000 & gnu.org/octave & 4.4.2 \\\\\n",
       "\t3 & SageMath & 2005 & sagemath.org & 8,4 \\\\\n",
       "\\end{tabular}\n"
      ],
      "text/plain": [
       "3×4 DataFrame\n",
       "│ Row │ Nome     │ Ano   │ Site           │ Versao │\n",
       "│     │ \u001b[90mString\u001b[39m   │ \u001b[90mInt64\u001b[39m │ \u001b[90mString\u001b[39m         │ \u001b[90mString\u001b[39m │\n",
       "├─────┼──────────┼───────┼────────────────┼────────┤\n",
       "│ 1   │ Julia    │ 2012  │ julialang.org  │ 1.0.2  │\n",
       "│ 2   │ Octave   │ 2000  │ gnu.org/octave │ 4.4.2  │\n",
       "│ 3   │ SageMath │ 2005  │ sagemath.org   │ 8,4    │"
      ]
     },
     "execution_count": 47,
     "metadata": {},
     "output_type": "execute_result"
    }
   ],
   "source": [
    "Softwares[Softwares.Ano.> 1980, :]"
   ]
  },
  {
   "cell_type": "markdown",
   "metadata": {},
   "source": [
    "Exemplo 2: listar somente os nomes (coluna 1) dos softwares cujo ano de lançamento é maior que 1980."
   ]
  },
  {
   "cell_type": "code",
   "execution_count": 48,
   "metadata": {
    "scrolled": true
   },
   "outputs": [
    {
     "data": {
      "text/plain": [
       "3-element Array{String,1}:\n",
       " \"Julia\"   \n",
       " \"Octave\"  \n",
       " \"SageMath\""
      ]
     },
     "execution_count": 48,
     "metadata": {},
     "output_type": "execute_result"
    }
   ],
   "source": [
    "Softwares[Softwares.Ano .> 1980, 1]"
   ]
  },
  {
   "cell_type": "markdown",
   "metadata": {},
   "source": [
    "Exemplo 3:  listar somente do ano de lançamento (coluna 1) até site (coluna 3) cujo ano de lançamento é maior que 1980."
   ]
  },
  {
   "cell_type": "code",
   "execution_count": 49,
   "metadata": {
    "scrolled": true
   },
   "outputs": [
    {
     "data": {
      "text/html": [
       "<table class=\"data-frame\"><thead><tr><th></th><th>Ano</th><th>Site</th></tr><tr><th></th><th>Int64</th><th>String</th></tr></thead><tbody><p>3 rows × 2 columns</p><tr><th>1</th><td>2012</td><td>julialang.org</td></tr><tr><th>2</th><td>2000</td><td>gnu.org/octave</td></tr><tr><th>3</th><td>2005</td><td>sagemath.org</td></tr></tbody></table>"
      ],
      "text/latex": [
       "\\begin{tabular}{r|cc}\n",
       "\t& Ano & Site\\\\\n",
       "\t\\hline\n",
       "\t& Int64 & String\\\\\n",
       "\t\\hline\n",
       "\t1 & 2012 & julialang.org \\\\\n",
       "\t2 & 2000 & gnu.org/octave \\\\\n",
       "\t3 & 2005 & sagemath.org \\\\\n",
       "\\end{tabular}\n"
      ],
      "text/plain": [
       "3×2 DataFrame\n",
       "│ Row │ Ano   │ Site           │\n",
       "│     │ \u001b[90mInt64\u001b[39m │ \u001b[90mString\u001b[39m         │\n",
       "├─────┼───────┼────────────────┤\n",
       "│ 1   │ 2012  │ julialang.org  │\n",
       "│ 2   │ 2000  │ gnu.org/octave │\n",
       "│ 3   │ 2005  │ sagemath.org   │"
      ]
     },
     "execution_count": 49,
     "metadata": {},
     "output_type": "execute_result"
    }
   ],
   "source": [
    "Softwares[Softwares.Ano .> 1980, 2:3]"
   ]
  },
  {
   "cell_type": "markdown",
   "metadata": {},
   "source": [
    "Exemplo 4: listar os nomes dos softwares (coluna 1) e site (coluna 3) cujo ano de lançamento é maior que 1980."
   ]
  },
  {
   "cell_type": "code",
   "execution_count": 50,
   "metadata": {
    "scrolled": true
   },
   "outputs": [
    {
     "data": {
      "text/html": [
       "<table class=\"data-frame\"><thead><tr><th></th><th>Nome</th><th>Site</th></tr><tr><th></th><th>String</th><th>String</th></tr></thead><tbody><p>3 rows × 2 columns</p><tr><th>1</th><td>Julia</td><td>julialang.org</td></tr><tr><th>2</th><td>Octave</td><td>gnu.org/octave</td></tr><tr><th>3</th><td>SageMath</td><td>sagemath.org</td></tr></tbody></table>"
      ],
      "text/latex": [
       "\\begin{tabular}{r|cc}\n",
       "\t& Nome & Site\\\\\n",
       "\t\\hline\n",
       "\t& String & String\\\\\n",
       "\t\\hline\n",
       "\t1 & Julia & julialang.org \\\\\n",
       "\t2 & Octave & gnu.org/octave \\\\\n",
       "\t3 & SageMath & sagemath.org \\\\\n",
       "\\end{tabular}\n"
      ],
      "text/plain": [
       "3×2 DataFrame\n",
       "│ Row │ Nome     │ Site           │\n",
       "│     │ \u001b[90mString\u001b[39m   │ \u001b[90mString\u001b[39m         │\n",
       "├─────┼──────────┼────────────────┤\n",
       "│ 1   │ Julia    │ julialang.org  │\n",
       "│ 2   │ Octave   │ gnu.org/octave │\n",
       "│ 3   │ SageMath │ sagemath.org   │"
      ]
     },
     "execution_count": 50,
     "metadata": {},
     "output_type": "execute_result"
    }
   ],
   "source": [
    "Softwares[Softwares.Ano .> 1980, [1, 3]]"
   ]
  },
  {
   "cell_type": "markdown",
   "metadata": {},
   "source": [
    "Exemplo 5: listar os nomes dos softwares (coluna 1), ano de lançamento (coluna 2) e site (coluna 3) cujo ano de lançamento é maior que 1980 e menor que 2010."
   ]
  },
  {
   "cell_type": "code",
   "execution_count": 51,
   "metadata": {
    "scrolled": true
   },
   "outputs": [
    {
     "data": {
      "text/html": [
       "<table class=\"data-frame\"><thead><tr><th></th><th>Nome</th><th>Ano</th><th>Site</th><th>Versao</th></tr><tr><th></th><th>String</th><th>Int64</th><th>String</th><th>String</th></tr></thead><tbody><p>2 rows × 4 columns</p><tr><th>1</th><td>Octave</td><td>2000</td><td>gnu.org/octave</td><td>4.4.2</td></tr><tr><th>2</th><td>SageMath</td><td>2005</td><td>sagemath.org</td><td>8,4</td></tr></tbody></table>"
      ],
      "text/latex": [
       "\\begin{tabular}{r|cccc}\n",
       "\t& Nome & Ano & Site & Versao\\\\\n",
       "\t\\hline\n",
       "\t& String & Int64 & String & String\\\\\n",
       "\t\\hline\n",
       "\t1 & Octave & 2000 & gnu.org/octave & 4.4.2 \\\\\n",
       "\t2 & SageMath & 2005 & sagemath.org & 8,4 \\\\\n",
       "\\end{tabular}\n"
      ],
      "text/plain": [
       "2×4 DataFrame\n",
       "│ Row │ Nome     │ Ano   │ Site           │ Versao │\n",
       "│     │ \u001b[90mString\u001b[39m   │ \u001b[90mInt64\u001b[39m │ \u001b[90mString\u001b[39m         │ \u001b[90mString\u001b[39m │\n",
       "├─────┼──────────┼───────┼────────────────┼────────┤\n",
       "│ 1   │ Octave   │ 2000  │ gnu.org/octave │ 4.4.2  │\n",
       "│ 2   │ SageMath │ 2005  │ sagemath.org   │ 8,4    │"
      ]
     },
     "execution_count": 51,
     "metadata": {},
     "output_type": "execute_result"
    }
   ],
   "source": [
    "Softwares[.&(Softwares.Ano .> 1980, Softwares.Ano .< 2010), : ]"
   ]
  },
  {
   "cell_type": "code",
   "execution_count": 52,
   "metadata": {
    "scrolled": true
   },
   "outputs": [
    {
     "data": {
      "text/html": [
       "<table class=\"data-frame\"><thead><tr><th></th><th>Nome</th><th>Ano</th><th>Site</th><th>Versao</th></tr><tr><th></th><th>String</th><th>Int64</th><th>String</th><th>String</th></tr></thead><tbody><p>2 rows × 4 columns</p><tr><th>1</th><td>Julia</td><td>2012</td><td>julialang.org</td><td>1.0.2</td></tr><tr><th>2</th><td>SageMath</td><td>2005</td><td>sagemath.org</td><td>8,4</td></tr></tbody></table>"
      ],
      "text/latex": [
       "\\begin{tabular}{r|cccc}\n",
       "\t& Nome & Ano & Site & Versao\\\\\n",
       "\t\\hline\n",
       "\t& String & Int64 & String & String\\\\\n",
       "\t\\hline\n",
       "\t1 & Julia & 2012 & julialang.org & 1.0.2 \\\\\n",
       "\t2 & SageMath & 2005 & sagemath.org & 8,4 \\\\\n",
       "\\end{tabular}\n"
      ],
      "text/plain": [
       "2×4 DataFrame\n",
       "│ Row │ Nome     │ Ano   │ Site          │ Versao │\n",
       "│     │ \u001b[90mString\u001b[39m   │ \u001b[90mInt64\u001b[39m │ \u001b[90mString\u001b[39m        │ \u001b[90mString\u001b[39m │\n",
       "├─────┼──────────┼───────┼───────────────┼────────┤\n",
       "│ 1   │ Julia    │ 2012  │ julialang.org │ 1.0.2  │\n",
       "│ 2   │ SageMath │ 2005  │ sagemath.org  │ 8,4    │"
      ]
     },
     "execution_count": 52,
     "metadata": {},
     "output_type": "execute_result"
    }
   ],
   "source": [
    "Softwares[.&(Softwares.Ano .> 1980, Softwares.Nome .!= \"Octave\"), : ]"
   ]
  },
  {
   "cell_type": "markdown",
   "metadata": {},
   "source": [
    "Se o objetivo é encontrar a ordem das linhas use a função `findall()`. Sintaxe:\n",
    "```julia\n",
    "findall(nome_dataframe.nome_coluna .operador valor)\n",
    "```"
   ]
  },
  {
   "cell_type": "code",
   "execution_count": 53,
   "metadata": {},
   "outputs": [
    {
     "data": {
      "text/html": [
       "<table class=\"data-frame\"><thead><tr><th></th><th>Nome</th><th>Ano</th><th>Site</th><th>Versao</th></tr><tr><th></th><th>String</th><th>Int64</th><th>String</th><th>String</th></tr></thead><tbody><p>4 rows × 4 columns</p><tr><th>1</th><td>Julia</td><td>2012</td><td>julialang.org</td><td>1.0.2</td></tr><tr><th>2</th><td>Octave</td><td>2000</td><td>gnu.org/octave</td><td>4.4.2</td></tr><tr><th>3</th><td>SageMath</td><td>2005</td><td>sagemath.org</td><td>8,4</td></tr><tr><th>4</th><td>maXIma</td><td>1980</td><td>maxima.org</td><td>5.42.1</td></tr></tbody></table>"
      ],
      "text/latex": [
       "\\begin{tabular}{r|cccc}\n",
       "\t& Nome & Ano & Site & Versao\\\\\n",
       "\t\\hline\n",
       "\t& String & Int64 & String & String\\\\\n",
       "\t\\hline\n",
       "\t1 & Julia & 2012 & julialang.org & 1.0.2 \\\\\n",
       "\t2 & Octave & 2000 & gnu.org/octave & 4.4.2 \\\\\n",
       "\t3 & SageMath & 2005 & sagemath.org & 8,4 \\\\\n",
       "\t4 & maXIma & 1980 & maxima.org & 5.42.1 \\\\\n",
       "\\end{tabular}\n"
      ],
      "text/plain": [
       "4×4 DataFrame\n",
       "│ Row │ Nome     │ Ano   │ Site           │ Versao │\n",
       "│     │ \u001b[90mString\u001b[39m   │ \u001b[90mInt64\u001b[39m │ \u001b[90mString\u001b[39m         │ \u001b[90mString\u001b[39m │\n",
       "├─────┼──────────┼───────┼────────────────┼────────┤\n",
       "│ 1   │ Julia    │ 2012  │ julialang.org  │ 1.0.2  │\n",
       "│ 2   │ Octave   │ 2000  │ gnu.org/octave │ 4.4.2  │\n",
       "│ 3   │ SageMath │ 2005  │ sagemath.org   │ 8,4    │\n",
       "│ 4   │ maXIma   │ 1980  │ maxima.org     │ 5.42.1 │"
      ]
     },
     "execution_count": 53,
     "metadata": {},
     "output_type": "execute_result"
    }
   ],
   "source": [
    "Softwares"
   ]
  },
  {
   "cell_type": "code",
   "execution_count": 54,
   "metadata": {},
   "outputs": [
    {
     "data": {
      "text/plain": [
       "2-element Array{Int64,1}:\n",
       " 1\n",
       " 3"
      ]
     },
     "execution_count": 54,
     "metadata": {},
     "output_type": "execute_result"
    }
   ],
   "source": [
    "findall(Softwares.Ano .> 2000)"
   ]
  },
  {
   "cell_type": "markdown",
   "metadata": {},
   "source": [
    "#### MAP, MAPREDUCE , SUM, PROD E LIST COMPREHENSION"
   ]
  },
  {
   "cell_type": "code",
   "execution_count": 55,
   "metadata": {},
   "outputs": [
    {
     "data": {
      "text/plain": [
       "4-element Array{Int64,1}:\n",
       " 2012\n",
       " 2000\n",
       " 2005\n",
       " 1980"
      ]
     },
     "execution_count": 55,
     "metadata": {},
     "output_type": "execute_result"
    }
   ],
   "source": [
    "Softwares.Ano"
   ]
  },
  {
   "cell_type": "code",
   "execution_count": 56,
   "metadata": {
    "scrolled": true
   },
   "outputs": [
    {
     "data": {
      "text/plain": [
       "4-element Array{Int64,1}:\n",
       " 20120\n",
       " 20000\n",
       " 20050\n",
       " 19800"
      ]
     },
     "execution_count": 56,
     "metadata": {},
     "output_type": "execute_result"
    }
   ],
   "source": [
    "map(x -> 10*x , Softwares.Ano)"
   ]
  },
  {
   "cell_type": "code",
   "execution_count": 57,
   "metadata": {},
   "outputs": [
    {
     "data": {
      "text/plain": [
       "79970"
      ]
     },
     "execution_count": 57,
     "metadata": {},
     "output_type": "execute_result"
    }
   ],
   "source": [
    "mapreduce(x -> 10*x , + , Softwares.Ano)"
   ]
  },
  {
   "cell_type": "code",
   "execution_count": 58,
   "metadata": {},
   "outputs": [
    {
     "data": {
      "text/plain": [
       "7997"
      ]
     },
     "execution_count": 58,
     "metadata": {},
     "output_type": "execute_result"
    }
   ],
   "source": [
    "sum(Softwares.Ano)"
   ]
  },
  {
   "cell_type": "code",
   "execution_count": 59,
   "metadata": {},
   "outputs": [
    {
     "data": {
      "text/plain": [
       "15974877600000"
      ]
     },
     "execution_count": 59,
     "metadata": {},
     "output_type": "execute_result"
    }
   ],
   "source": [
    "prod(Softwares.Ano)"
   ]
  },
  {
   "cell_type": "code",
   "execution_count": 60,
   "metadata": {
    "scrolled": true
   },
   "outputs": [
    {
     "data": {
      "text/plain": [
       "4-element Array{Int64,1}:\n",
       " 20120\n",
       " 20000\n",
       " 20050\n",
       " 19800"
      ]
     },
     "execution_count": 60,
     "metadata": {},
     "output_type": "execute_result"
    }
   ],
   "source": [
    "[10*x for x = Softwares.Ano]"
   ]
  },
  {
   "cell_type": "markdown",
   "metadata": {},
   "source": [
    "## ARQUIVOS CSV \n",
    "\n",
    "Uma forma prática de trabalhar com dados tabelados é salva-los em arquivos no formato \"CSV\" - *Comma-separated values*. Os arquivos \"CSV\" são arquivos de texto simples que armazenam dados tabelados separados por um delimitador (geralmente a vírgula). Por serem bastante simples, arquivos \"CSV\" são comuns em todas as plataformas de computadores a abertos em qualquer editor de textos. Forma geral de um arquivo \"CSV\":\n",
    "```julia\n",
    "   nome_coluna_1 , nome_coluna_2\n",
    "   dado_1_col_1  , dado_1_col_2\n",
    "   dado_2_col_1  , dado_2_col_2\n",
    "```\n",
    "Para criar arquivos \"CSV\" podemos utilizar uma planilha eletrônica (excel, calc-libreoffice/openoffice). Basta preencher os dados nas celulas e depois salvar com extensão \"CSV\". "
   ]
  },
  {
   "cell_type": "markdown",
   "metadata": {},
   "source": [
    "### CRIAÇÃO DE ARQUIVOS CSV"
   ]
  },
  {
   "cell_type": "markdown",
   "metadata": {},
   "source": [
    "#### Criação de um arquivo CSV pelo editor de texto do Jupyter\n",
    "\n",
    "Na pagina principal do `Jupyter`, selecione \"New -> Text File\" conforme figura abaixo:\n",
    "\n",
    "<img src=\"Figuras/novo_arq_txt.png\" align=\"center\" width=\"700\">"
   ]
  },
  {
   "cell_type": "markdown",
   "metadata": {},
   "source": [
    "Digite os dados conforme figura abaixo:\n",
    "<img src=\"Figuras/arquivo_csv.png\" align=\"center\" width=\"400\">\n",
    "\n",
    "`Julia` salva o arquivo no formato `TXT` então basta clicar no título e alterar o nome para `teste.csv`. Para importar os dados use a sintaxe:\n",
    "```julia\n",
    "nome_dataframe = CSV.read(\"nome_arquivo.csv\")\n",
    "```\n",
    "A função `CSV.read()` coloca os dados em uma estrutura do tipo `DataFrames`. Caso o arquivo `CSV` tenha um cabeçalho contendo o nome das colunas, ocorrerá erro quando for manipulá-lo, pois o cabeçalho é do tipo `String` e portanto deve ser removido ou ignorado. Para ignorar o cabeçalho presente na primeira linha da tabela utilize:\n",
    "```julia\n",
    "nome_dataframe = CSV.read(\"nome_arquivo.csv\", header=false)\n",
    "```"
   ]
  },
  {
   "cell_type": "markdown",
   "metadata": {},
   "source": [
    "#### GRAVAÇÃO E LEITURA DE DATA FRAMES GRAVADOS EM DISCO"
   ]
  },
  {
   "cell_type": "code",
   "execution_count": 61,
   "metadata": {},
   "outputs": [],
   "source": [
    "using CSV"
   ]
  },
  {
   "cell_type": "markdown",
   "metadata": {},
   "source": [
    "**Ler data frame gravado em disco**"
   ]
  },
  {
   "cell_type": "code",
   "execution_count": 62,
   "metadata": {},
   "outputs": [
    {
     "data": {
      "text/html": [
       "<table class=\"data-frame\"><thead><tr><th></th><th>Nome</th><th>Nota1</th><th>Nota2</th><th>Nota3</th></tr><tr><th></th><th>String</th><th>Float64</th><th>Float64</th><th>Float64</th></tr></thead><tbody><p>4 rows × 4 columns</p><tr><th>1</th><td>Pedro</td><td>5.0</td><td>8.5</td><td>7.0</td></tr><tr><th>2</th><td>Alvaro</td><td>10.0</td><td>9.5</td><td>10.0</td></tr><tr><th>3</th><td>Luis</td><td>7.0</td><td>2.5</td><td>5.5</td></tr><tr><th>4</th><td>Ricardo</td><td>3.5</td><td>5.5</td><td>5.0</td></tr></tbody></table>"
      ],
      "text/latex": [
       "\\begin{tabular}{r|cccc}\n",
       "\t& Nome & Nota1 & Nota2 & Nota3\\\\\n",
       "\t\\hline\n",
       "\t& String & Float64 & Float64 & Float64\\\\\n",
       "\t\\hline\n",
       "\t1 & Pedro & 5.0 & 8.5 & 7.0 \\\\\n",
       "\t2 & Alvaro & 10.0 & 9.5 & 10.0 \\\\\n",
       "\t3 & Luis & 7.0 & 2.5 & 5.5 \\\\\n",
       "\t4 & Ricardo & 3.5 & 5.5 & 5.0 \\\\\n",
       "\\end{tabular}\n"
      ],
      "text/plain": [
       "4×4 DataFrame\n",
       "│ Row │ Nome    │ Nota1   │ Nota2   │ Nota3   │\n",
       "│     │ \u001b[90mString\u001b[39m  │ \u001b[90mFloat64\u001b[39m │ \u001b[90mFloat64\u001b[39m │ \u001b[90mFloat64\u001b[39m │\n",
       "├─────┼─────────┼─────────┼─────────┼─────────┤\n",
       "│ 1   │ Pedro   │ 5.0     │ 8.5     │ 7.0     │\n",
       "│ 2   │ Alvaro  │ 10.0    │ 9.5     │ 10.0    │\n",
       "│ 3   │ Luis    │ 7.0     │ 2.5     │ 5.5     │\n",
       "│ 4   │ Ricardo │ 3.5     │ 5.5     │ 5.0     │"
      ]
     },
     "execution_count": 62,
     "metadata": {},
     "output_type": "execute_result"
    }
   ],
   "source": [
    "CSV.read(\"dados_alunos.csv\")"
   ]
  },
  {
   "cell_type": "code",
   "execution_count": 63,
   "metadata": {
    "scrolled": false
   },
   "outputs": [
    {
     "data": {
      "text/html": [
       "<table class=\"data-frame\"><thead><tr><th></th><th>Column1</th><th>Column2</th><th>Column3</th><th>Column4</th></tr><tr><th></th><th>String</th><th>String</th><th>String</th><th>String</th></tr></thead><tbody><p>5 rows × 4 columns</p><tr><th>1</th><td>Nome</td><td>Nota1</td><td>Nota2</td><td>Nota3</td></tr><tr><th>2</th><td>Pedro</td><td>5.0</td><td>8.5</td><td>7.0</td></tr><tr><th>3</th><td>Alvaro</td><td>10.0</td><td>9.5</td><td>10.0</td></tr><tr><th>4</th><td>Luis</td><td>7.0</td><td>2.5</td><td>5.5</td></tr><tr><th>5</th><td>Ricardo</td><td>3.5</td><td>5.5</td><td>5.0</td></tr></tbody></table>"
      ],
      "text/latex": [
       "\\begin{tabular}{r|cccc}\n",
       "\t& Column1 & Column2 & Column3 & Column4\\\\\n",
       "\t\\hline\n",
       "\t& String & String & String & String\\\\\n",
       "\t\\hline\n",
       "\t1 & Nome & Nota1 & Nota2 & Nota3 \\\\\n",
       "\t2 & Pedro & 5.0 & 8.5 & 7.0 \\\\\n",
       "\t3 & Alvaro & 10.0 & 9.5 & 10.0 \\\\\n",
       "\t4 & Luis & 7.0 & 2.5 & 5.5 \\\\\n",
       "\t5 & Ricardo & 3.5 & 5.5 & 5.0 \\\\\n",
       "\\end{tabular}\n"
      ],
      "text/plain": [
       "5×4 DataFrame\n",
       "│ Row │ Column1 │ Column2 │ Column3 │ Column4 │\n",
       "│     │ \u001b[90mString\u001b[39m  │ \u001b[90mString\u001b[39m  │ \u001b[90mString\u001b[39m  │ \u001b[90mString\u001b[39m  │\n",
       "├─────┼─────────┼─────────┼─────────┼─────────┤\n",
       "│ 1   │ Nome    │ Nota1   │ Nota2   │ Nota3   │\n",
       "│ 2   │ Pedro   │ 5.0     │ 8.5     │ 7.0     │\n",
       "│ 3   │ Alvaro  │ 10.0    │ 9.5     │ 10.0    │\n",
       "│ 4   │ Luis    │ 7.0     │ 2.5     │ 5.5     │\n",
       "│ 5   │ Ricardo │ 3.5     │ 5.5     │ 5.0     │"
      ]
     },
     "execution_count": 63,
     "metadata": {},
     "output_type": "execute_result"
    }
   ],
   "source": [
    "dados = CSV.read(\"dados_alunos.csv\", header = false)"
   ]
  },
  {
   "cell_type": "markdown",
   "metadata": {},
   "source": [
    "**Gravar data frame em disco**"
   ]
  },
  {
   "cell_type": "code",
   "execution_count": 64,
   "metadata": {
    "scrolled": true
   },
   "outputs": [
    {
     "data": {
      "text/html": [
       "<table class=\"data-frame\"><thead><tr><th></th><th>Nome</th><th>Ano</th><th>Site</th><th>Versao</th></tr><tr><th></th><th>String</th><th>Int64</th><th>String</th><th>String</th></tr></thead><tbody><p>4 rows × 4 columns</p><tr><th>1</th><td>Julia</td><td>2012</td><td>julialang.org</td><td>1.0.2</td></tr><tr><th>2</th><td>Octave</td><td>2000</td><td>gnu.org/octave</td><td>4.4.2</td></tr><tr><th>3</th><td>SageMath</td><td>2005</td><td>sagemath.org</td><td>8,4</td></tr><tr><th>4</th><td>maXIma</td><td>1980</td><td>maxima.org</td><td>5.42.1</td></tr></tbody></table>"
      ],
      "text/latex": [
       "\\begin{tabular}{r|cccc}\n",
       "\t& Nome & Ano & Site & Versao\\\\\n",
       "\t\\hline\n",
       "\t& String & Int64 & String & String\\\\\n",
       "\t\\hline\n",
       "\t1 & Julia & 2012 & julialang.org & 1.0.2 \\\\\n",
       "\t2 & Octave & 2000 & gnu.org/octave & 4.4.2 \\\\\n",
       "\t3 & SageMath & 2005 & sagemath.org & 8,4 \\\\\n",
       "\t4 & maXIma & 1980 & maxima.org & 5.42.1 \\\\\n",
       "\\end{tabular}\n"
      ],
      "text/plain": [
       "4×4 DataFrame\n",
       "│ Row │ Nome     │ Ano   │ Site           │ Versao │\n",
       "│     │ \u001b[90mString\u001b[39m   │ \u001b[90mInt64\u001b[39m │ \u001b[90mString\u001b[39m         │ \u001b[90mString\u001b[39m │\n",
       "├─────┼──────────┼───────┼────────────────┼────────┤\n",
       "│ 1   │ Julia    │ 2012  │ julialang.org  │ 1.0.2  │\n",
       "│ 2   │ Octave   │ 2000  │ gnu.org/octave │ 4.4.2  │\n",
       "│ 3   │ SageMath │ 2005  │ sagemath.org   │ 8,4    │\n",
       "│ 4   │ maXIma   │ 1980  │ maxima.org     │ 5.42.1 │"
      ]
     },
     "execution_count": 64,
     "metadata": {},
     "output_type": "execute_result"
    }
   ],
   "source": [
    "Softwares"
   ]
  },
  {
   "cell_type": "code",
   "execution_count": 65,
   "metadata": {},
   "outputs": [],
   "source": [
    "CSV.write(\"Softwares.csv\", Softwares);"
   ]
  },
  {
   "cell_type": "code",
   "execution_count": 66,
   "metadata": {
    "scrolled": true
   },
   "outputs": [
    {
     "data": {
      "text/html": [
       "<table class=\"data-frame\"><thead><tr><th></th><th>Nome</th><th>Ano</th><th>Site</th><th>Versao</th></tr><tr><th></th><th>String</th><th>Int64</th><th>String</th><th>String</th></tr></thead><tbody><p>4 rows × 4 columns</p><tr><th>1</th><td>Julia</td><td>2012</td><td>julialang.org</td><td>1.0.2</td></tr><tr><th>2</th><td>Octave</td><td>2000</td><td>gnu.org/octave</td><td>4.4.2</td></tr><tr><th>3</th><td>SageMath</td><td>2005</td><td>sagemath.org</td><td>8,4</td></tr><tr><th>4</th><td>maXIma</td><td>1980</td><td>maxima.org</td><td>5.42.1</td></tr></tbody></table>"
      ],
      "text/latex": [
       "\\begin{tabular}{r|cccc}\n",
       "\t& Nome & Ano & Site & Versao\\\\\n",
       "\t\\hline\n",
       "\t& String & Int64 & String & String\\\\\n",
       "\t\\hline\n",
       "\t1 & Julia & 2012 & julialang.org & 1.0.2 \\\\\n",
       "\t2 & Octave & 2000 & gnu.org/octave & 4.4.2 \\\\\n",
       "\t3 & SageMath & 2005 & sagemath.org & 8,4 \\\\\n",
       "\t4 & maXIma & 1980 & maxima.org & 5.42.1 \\\\\n",
       "\\end{tabular}\n"
      ],
      "text/plain": [
       "4×4 DataFrame\n",
       "│ Row │ Nome     │ Ano   │ Site           │ Versao │\n",
       "│     │ \u001b[90mString\u001b[39m   │ \u001b[90mInt64\u001b[39m │ \u001b[90mString\u001b[39m         │ \u001b[90mString\u001b[39m │\n",
       "├─────┼──────────┼───────┼────────────────┼────────┤\n",
       "│ 1   │ Julia    │ 2012  │ julialang.org  │ 1.0.2  │\n",
       "│ 2   │ Octave   │ 2000  │ gnu.org/octave │ 4.4.2  │\n",
       "│ 3   │ SageMath │ 2005  │ sagemath.org   │ 8,4    │\n",
       "│ 4   │ maXIma   │ 1980  │ maxima.org     │ 5.42.1 │"
      ]
     },
     "execution_count": 66,
     "metadata": {},
     "output_type": "execute_result"
    }
   ],
   "source": [
    "CSV.read(\"Softwares.csv\")"
   ]
  },
  {
   "cell_type": "markdown",
   "metadata": {},
   "source": [
    "Uma outra forma é criar um DataFrame no formato CSV:\n",
    "```julia\n",
    "dados_string = \"Coluna_1 , Coluna_2\n",
    "                dados_1  , dados_1\n",
    "                dados_2  , dados_2 \"\n",
    "                  \n",
    "nome_dataframe = CSV.read(IOBuffer(dados_string))\n",
    "```"
   ]
  },
  {
   "cell_type": "code",
   "execution_count": 67,
   "metadata": {},
   "outputs": [],
   "source": [
    "dados = \"Disciplima , Nº Alunos\n",
    "         Cálculo I  , 50\n",
    "         Cálculo II , 52\n",
    "         Álgebra L  , 40\";"
   ]
  },
  {
   "cell_type": "code",
   "execution_count": 68,
   "metadata": {
    "scrolled": true
   },
   "outputs": [
    {
     "data": {
      "text/html": [
       "<table class=\"data-frame\"><thead><tr><th></th><th>Disciplima </th><th> Nº Alunos</th></tr><tr><th></th><th>String</th><th>Int64</th></tr></thead><tbody><p>3 rows × 2 columns</p><tr><th>1</th><td>         Cálculo I  </td><td>50</td></tr><tr><th>2</th><td>         Cálculo II </td><td>52</td></tr><tr><th>3</th><td>         Álgebra L  </td><td>40</td></tr></tbody></table>"
      ],
      "text/latex": [
       "\\begin{tabular}{r|cc}\n",
       "\t& Disciplima  &  Nº Alunos\\\\\n",
       "\t\\hline\n",
       "\t& String & Int64\\\\\n",
       "\t\\hline\n",
       "\t1 &          Cálculo I   & 50 \\\\\n",
       "\t2 &          Cálculo II  & 52 \\\\\n",
       "\t3 &          Álgebra L   & 40 \\\\\n",
       "\\end{tabular}\n"
      ],
      "text/plain": [
       "3×2 DataFrame\n",
       "│ Row │ Disciplima           │  Nº Alunos │\n",
       "│     │ \u001b[90mString\u001b[39m               │ \u001b[90mInt64\u001b[39m      │\n",
       "├─────┼──────────────────────┼────────────┤\n",
       "│ 1   │          Cálculo I   │ 50         │\n",
       "│ 2   │          Cálculo II  │ 52         │\n",
       "│ 3   │          Álgebra L   │ 40         │"
      ]
     },
     "execution_count": 68,
     "metadata": {},
     "output_type": "execute_result"
    }
   ],
   "source": [
    "Semestre = CSV.read(IOBuffer(dados))"
   ]
  },
  {
   "cell_type": "markdown",
   "metadata": {},
   "source": [
    "## Planilhas eletrônicas\n",
    "\n",
    "Muitos arquivos de dados são formatados em planilhas eletrônicas "
   ]
  },
  {
   "cell_type": "markdown",
   "metadata": {},
   "source": [
    "### Arquivos XLSX\n",
    "\n",
    "O [`XLSX.jl`](https://github.com/felipenoris/XLSX.jl) é um pacote para ler e gravar arquivos de planilhas do Excel criado por Felipe Noris e escrito totalmente na linguagem Julia. Internamente, um arquivo XLSX do Excel é apenas um arquivo `Zip` com um conjunto de arquivos `XML` dentro. Os formatos dos arquivos `XML` utilizados pelo Excel são descritos no padrão ECMA-376.\n",
    " \n",
    "Sintaxe:\n",
    "```julia\n",
    "nome_dataframe = DataFrame(XLSX.readtable(\"arquivo.xlsx\", \"nome_planilha\")...)\n",
    "```\n",
    "\n",
    "Se necessário:\n",
    "```julia\n",
    "import Pkg; Pkg.add(\"XLSX\")\n",
    "```"
   ]
  },
  {
   "cell_type": "code",
   "execution_count": 69,
   "metadata": {
    "scrolled": false
   },
   "outputs": [],
   "source": [
    "using XLSX"
   ]
  },
  {
   "cell_type": "code",
   "execution_count": 70,
   "metadata": {
    "scrolled": true
   },
   "outputs": [
    {
     "data": {
      "text/html": [
       "<table class=\"data-frame\"><thead><tr><th></th><th>Nome</th><th>Ano</th><th>Site</th></tr><tr><th></th><th>String</th><th>Int64</th><th>String</th></tr></thead><tbody><p>5 rows × 3 columns</p><tr><th>1</th><td>Scilab</td><td>2005</td><td>scilab.org</td></tr><tr><th>2</th><td>Axiom</td><td>1980</td><td>axion.org</td></tr><tr><th>3</th><td>FreeMat</td><td>2001</td><td>freemat,org</td></tr><tr><th>4</th><td>Python</td><td>1989</td><td>python.org</td></tr><tr><th>5</th><td>Lua</td><td>2005</td><td>lua.org</td></tr></tbody></table>"
      ],
      "text/latex": [
       "\\begin{tabular}{r|ccc}\n",
       "\t& Nome & Ano & Site\\\\\n",
       "\t\\hline\n",
       "\t& String & Int64 & String\\\\\n",
       "\t\\hline\n",
       "\t1 & Scilab & 2005 & scilab.org \\\\\n",
       "\t2 & Axiom & 1980 & axion.org \\\\\n",
       "\t3 & FreeMat & 2001 & freemat,org \\\\\n",
       "\t4 & Python & 1989 & python.org \\\\\n",
       "\t5 & Lua & 2005 & lua.org \\\\\n",
       "\\end{tabular}\n"
      ],
      "text/plain": [
       "5×3 DataFrame\n",
       "│ Row │ Nome    │ Ano   │ Site        │\n",
       "│     │ \u001b[90mString\u001b[39m  │ \u001b[90mInt64\u001b[39m │ \u001b[90mString\u001b[39m      │\n",
       "├─────┼─────────┼───────┼─────────────┤\n",
       "│ 1   │ Scilab  │ 2005  │ scilab.org  │\n",
       "│ 2   │ Axiom   │ 1980  │ axion.org   │\n",
       "│ 3   │ FreeMat │ 2001  │ freemat,org │\n",
       "│ 4   │ Python  │ 1989  │ python.org  │\n",
       "│ 5   │ Lua     │ 2005  │ lua.org     │"
      ]
     },
     "execution_count": 70,
     "metadata": {},
     "output_type": "execute_result"
    }
   ],
   "source": [
    "dados_novos = DataFrame()\n",
    "begin\n",
    "    dados_novos[!, :Nome] = [\"Scilab\", \"Axiom\", \"FreeMat\", \"Python\", \"Lua\"]\n",
    "    dados_novos[!, :Ano]  = [2005, 1980, 2001, 1989, 2005]\n",
    "    dados_novos[!, :Site] = [\"scilab.org\", \"axion.org\", \"freemat,org\", \"python.org\", \"lua.org\"]\n",
    "end\n",
    "dados_novos"
   ]
  },
  {
   "cell_type": "code",
   "execution_count": 71,
   "metadata": {},
   "outputs": [
    {
     "data": {
      "text/plain": [
       "3-element Array{Symbol,1}:\n",
       " :Nome\n",
       " :Ano \n",
       " :Site"
      ]
     },
     "execution_count": 71,
     "metadata": {},
     "output_type": "execute_result"
    }
   ],
   "source": [
    "DataFrames.names(dados_novos)"
   ]
  },
  {
   "cell_type": "code",
   "execution_count": 72,
   "metadata": {},
   "outputs": [
    {
     "ename": "AssertionError",
     "evalue": "AssertionError: dados_novos.xlsx already exists.",
     "output_type": "error",
     "traceback": [
      "AssertionError: dados_novos.xlsx already exists.",
      "",
      "Stacktrace:",
      " [1] #writetable#43(::Bool, ::String, ::XLSX.CellRef, ::typeof(XLSX.writetable), ::String, ::DataFrame, ::Array{Symbol,1}) at /home/pedrohnv/.julia/packages/XLSX/FJ07G/src/write.jl:587",
      " [2] writetable(::String, ::DataFrame, ::Array{Symbol,1}) at /home/pedrohnv/.julia/packages/XLSX/FJ07G/src/write.jl:586",
      " [3] top-level scope at In[72]:1"
     ]
    }
   ],
   "source": [
    "#=\n",
    "Aparecem avisos de depreciação. Parece que de dentro do XLSX, ou seja,\n",
    "deve-se alterar a sintaxe interna desta pacote para compatibilidade futura com DataFrames.\n",
    "Isto é responsabilidade do criador do XLSX.\n",
    "\n",
    "Além disto, falha se o arquivo já existir.\n",
    "=#\n",
    "XLSX.writetable(\"dados_novos.xlsx\", DataFrames.values(dados_novos), DataFrames.names(dados_novos))"
   ]
  },
  {
   "cell_type": "code",
   "execution_count": 73,
   "metadata": {
    "scrolled": false
   },
   "outputs": [
    {
     "data": {
      "text/html": [
       "<table class=\"data-frame\"><thead><tr><th></th><th>Nome</th><th>Ano</th><th>Site</th></tr><tr><th></th><th>Any</th><th>Any</th><th>Any</th></tr></thead><tbody><p>5 rows × 3 columns</p><tr><th>1</th><td>Scilab</td><td>2005</td><td>scilab.org</td></tr><tr><th>2</th><td>Axiom</td><td>1980</td><td>axion.org</td></tr><tr><th>3</th><td>FreeMat</td><td>2001</td><td>freemat,org</td></tr><tr><th>4</th><td>Python</td><td>1989</td><td>python.org</td></tr><tr><th>5</th><td>Lua</td><td>2005</td><td>lua.org</td></tr></tbody></table>"
      ],
      "text/latex": [
       "\\begin{tabular}{r|ccc}\n",
       "\t& Nome & Ano & Site\\\\\n",
       "\t\\hline\n",
       "\t& Any & Any & Any\\\\\n",
       "\t\\hline\n",
       "\t1 & Scilab & 2005 & scilab.org \\\\\n",
       "\t2 & Axiom & 1980 & axion.org \\\\\n",
       "\t3 & FreeMat & 2001 & freemat,org \\\\\n",
       "\t4 & Python & 1989 & python.org \\\\\n",
       "\t5 & Lua & 2005 & lua.org \\\\\n",
       "\\end{tabular}\n"
      ],
      "text/plain": [
       "5×3 DataFrame\n",
       "│ Row │ Nome    │ Ano  │ Site        │\n",
       "│     │ \u001b[90mAny\u001b[39m     │ \u001b[90mAny\u001b[39m  │ \u001b[90mAny\u001b[39m         │\n",
       "├─────┼─────────┼──────┼─────────────┤\n",
       "│ 1   │ Scilab  │ 2005 │ scilab.org  │\n",
       "│ 2   │ Axiom   │ 1980 │ axion.org   │\n",
       "│ 3   │ FreeMat │ 2001 │ freemat,org │\n",
       "│ 4   │ Python  │ 1989 │ python.org  │\n",
       "│ 5   │ Lua     │ 2005 │ lua.org     │"
      ]
     },
     "execution_count": 73,
     "metadata": {},
     "output_type": "execute_result"
    }
   ],
   "source": [
    "DataFrame(XLSX.readtable(\"dados_novos.xlsx\", \"Sheet1\")...)"
   ]
  },
  {
   "cell_type": "markdown",
   "metadata": {},
   "source": [
    "### Arquivos ODS\n",
    "\n",
    "O pacote `OdsIO.jl` permite ler ou salvar arquivos no formato `ods` utilizando o módulo `Python ezodf`. Sintaxe:\n",
    "```julia\n",
    "ods_read(\"arquivo.ods\"; sheetName=\"nome_planilha\", retType=\"DataFrame\")\n",
    "```\n",
    "Pkg.add(\"OdsIO\")"
   ]
  },
  {
   "cell_type": "code",
   "execution_count": 74,
   "metadata": {},
   "outputs": [],
   "source": [
    "using OdsIO"
   ]
  },
  {
   "cell_type": "code",
   "execution_count": 75,
   "metadata": {},
   "outputs": [
    {
     "data": {
      "text/html": [
       "<table class=\"data-frame\"><thead><tr><th></th><th>Nome</th><th>Ano</th><th>Site</th></tr><tr><th></th><th>String</th><th>Int64</th><th>String</th></tr></thead><tbody><p>7 rows × 3 columns</p><tr><th>1</th><td>Scilab</td><td>2005</td><td>scilab.org</td></tr><tr><th>2</th><td>Axiom</td><td>1980</td><td>axion.org</td></tr><tr><th>3</th><td>FreeMat</td><td>2001</td><td>freemat,org</td></tr><tr><th>4</th><td>Python</td><td>1989</td><td>python.org</td></tr><tr><th>5</th><td>Lua</td><td>2005</td><td>lua.org</td></tr><tr><th>6</th><td>Scilab</td><td>2005</td><td>scilab.org</td></tr><tr><th>7</th><td>Axiom</td><td>1980</td><td>axion.org</td></tr></tbody></table>"
      ],
      "text/latex": [
       "\\begin{tabular}{r|ccc}\n",
       "\t& Nome & Ano & Site\\\\\n",
       "\t\\hline\n",
       "\t& String & Int64 & String\\\\\n",
       "\t\\hline\n",
       "\t1 & Scilab & 2005 & scilab.org \\\\\n",
       "\t2 & Axiom & 1980 & axion.org \\\\\n",
       "\t3 & FreeMat & 2001 & freemat,org \\\\\n",
       "\t4 & Python & 1989 & python.org \\\\\n",
       "\t5 & Lua & 2005 & lua.org \\\\\n",
       "\t6 & Scilab & 2005 & scilab.org \\\\\n",
       "\t7 & Axiom & 1980 & axion.org \\\\\n",
       "\\end{tabular}\n"
      ],
      "text/plain": [
       "7×3 DataFrame\n",
       "│ Row │ Nome    │ Ano   │ Site        │\n",
       "│     │ \u001b[90mString\u001b[39m  │ \u001b[90mInt64\u001b[39m │ \u001b[90mString\u001b[39m      │\n",
       "├─────┼─────────┼───────┼─────────────┤\n",
       "│ 1   │ Scilab  │ 2005  │ scilab.org  │\n",
       "│ 2   │ Axiom   │ 1980  │ axion.org   │\n",
       "│ 3   │ FreeMat │ 2001  │ freemat,org │\n",
       "│ 4   │ Python  │ 1989  │ python.org  │\n",
       "│ 5   │ Lua     │ 2005  │ lua.org     │\n",
       "│ 6   │ Scilab  │ 2005  │ scilab.org  │\n",
       "│ 7   │ Axiom   │ 1980  │ axion.org   │"
      ]
     },
     "execution_count": 75,
     "metadata": {},
     "output_type": "execute_result"
    }
   ],
   "source": [
    "ods_read(\"dados_novos.ods\", retType = \"DataFrame\")"
   ]
  },
  {
   "cell_type": "markdown",
   "metadata": {
    "collapsed": true
   },
   "source": [
    "## APLICAÇÕES"
   ]
  },
  {
   "cell_type": "markdown",
   "metadata": {},
   "source": [
    "Um pesquisador deseja investigar todas as raízes da função  $f(x)  = x + x^2sin(x)$  no intervalo de 0 a 15."
   ]
  },
  {
   "cell_type": "code",
   "execution_count": 76,
   "metadata": {
    "scrolled": false
   },
   "outputs": [
    {
     "name": "stderr",
     "output_type": "stream",
     "text": [
      "WARNING: using SymPy.Not in module Main conflicts with an existing identifier.\n"
     ]
    },
    {
     "data": {
      "text/plain": [
       "(x,)"
      ]
     },
     "execution_count": 76,
     "metadata": {},
     "output_type": "execute_result"
    }
   ],
   "source": [
    "using DataFrames, SymPy, CSV\n",
    "@syms x"
   ]
  },
  {
   "cell_type": "code",
   "execution_count": 77,
   "metadata": {
    "scrolled": true
   },
   "outputs": [
    {
     "data": {
      "text/plain": [
       "f (generic function with 1 method)"
      ]
     },
     "execution_count": 77,
     "metadata": {},
     "output_type": "execute_result"
    }
   ],
   "source": [
    "# função genérica\n",
    "f(x)  = x + x^2*sin(x)"
   ]
  },
  {
   "cell_type": "code",
   "execution_count": 78,
   "metadata": {
    "scrolled": false
   },
   "outputs": [
    {
     "data": {
      "image/svg+xml": [
       "<?xml version=\"1.0\" encoding=\"utf-8\"?>\n",
       "<svg xmlns=\"http://www.w3.org/2000/svg\" xmlns:xlink=\"http://www.w3.org/1999/xlink\" width=\"400\" height=\"300\" viewBox=\"0 0 1600 1200\">\n",
       "<defs>\n",
       "  <clipPath id=\"clip3900\">\n",
       "    <rect x=\"0\" y=\"0\" width=\"1600\" height=\"1200\"/>\n",
       "  </clipPath>\n",
       "</defs>\n",
       "<path clip-path=\"url(#clip3900)\" d=\"\n",
       "M0 1200 L1600 1200 L1600 0 L0 0  Z\n",
       "  \" fill=\"#ffffff\" fill-rule=\"evenodd\" fill-opacity=\"1\"/>\n",
       "<defs>\n",
       "  <clipPath id=\"clip3901\">\n",
       "    <rect x=\"320\" y=\"0\" width=\"1121\" height=\"1121\"/>\n",
       "  </clipPath>\n",
       "</defs>\n",
       "<path clip-path=\"url(#clip3900)\" d=\"\n",
       "M257.245 1025.62 L1552.76 1025.62 L1552.76 47.2441 L257.245 47.2441  Z\n",
       "  \" fill=\"#ffffff\" fill-rule=\"evenodd\" fill-opacity=\"1\"/>\n",
       "<defs>\n",
       "  <clipPath id=\"clip3902\">\n",
       "    <rect x=\"257\" y=\"47\" width=\"1297\" height=\"979\"/>\n",
       "  </clipPath>\n",
       "</defs>\n",
       "<polyline clip-path=\"url(#clip3902)\" style=\"stroke:#000000; stroke-width:2; stroke-opacity:0.1; fill:none\" points=\"\n",
       "  293.911,1025.62 293.911,47.2441 \n",
       "  \"/>\n",
       "<polyline clip-path=\"url(#clip3902)\" style=\"stroke:#000000; stroke-width:2; stroke-opacity:0.1; fill:none\" points=\"\n",
       "  701.304,1025.62 701.304,47.2441 \n",
       "  \"/>\n",
       "<polyline clip-path=\"url(#clip3902)\" style=\"stroke:#000000; stroke-width:2; stroke-opacity:0.1; fill:none\" points=\"\n",
       "  1108.7,1025.62 1108.7,47.2441 \n",
       "  \"/>\n",
       "<polyline clip-path=\"url(#clip3902)\" style=\"stroke:#000000; stroke-width:2; stroke-opacity:0.1; fill:none\" points=\"\n",
       "  1516.09,1025.62 1516.09,47.2441 \n",
       "  \"/>\n",
       "<polyline clip-path=\"url(#clip3902)\" style=\"stroke:#000000; stroke-width:2; stroke-opacity:0.1; fill:none\" points=\"\n",
       "  257.245,965.179 1552.76,965.179 \n",
       "  \"/>\n",
       "<polyline clip-path=\"url(#clip3902)\" style=\"stroke:#000000; stroke-width:2; stroke-opacity:0.1; fill:none\" points=\"\n",
       "  257.245,683.531 1552.76,683.531 \n",
       "  \"/>\n",
       "<polyline clip-path=\"url(#clip3902)\" style=\"stroke:#000000; stroke-width:2; stroke-opacity:0.1; fill:none\" points=\"\n",
       "  257.245,401.884 1552.76,401.884 \n",
       "  \"/>\n",
       "<polyline clip-path=\"url(#clip3902)\" style=\"stroke:#000000; stroke-width:2; stroke-opacity:0.1; fill:none\" points=\"\n",
       "  257.245,120.237 1552.76,120.237 \n",
       "  \"/>\n",
       "<polyline clip-path=\"url(#clip3900)\" style=\"stroke:#000000; stroke-width:4; stroke-opacity:1; fill:none\" points=\"\n",
       "  257.245,1025.62 1552.76,1025.62 \n",
       "  \"/>\n",
       "<polyline clip-path=\"url(#clip3900)\" style=\"stroke:#000000; stroke-width:4; stroke-opacity:1; fill:none\" points=\"\n",
       "  257.245,1025.62 257.245,47.2441 \n",
       "  \"/>\n",
       "<polyline clip-path=\"url(#clip3900)\" style=\"stroke:#000000; stroke-width:4; stroke-opacity:1; fill:none\" points=\"\n",
       "  293.911,1025.62 293.911,1010.94 \n",
       "  \"/>\n",
       "<polyline clip-path=\"url(#clip3900)\" style=\"stroke:#000000; stroke-width:4; stroke-opacity:1; fill:none\" points=\"\n",
       "  701.304,1025.62 701.304,1010.94 \n",
       "  \"/>\n",
       "<polyline clip-path=\"url(#clip3900)\" style=\"stroke:#000000; stroke-width:4; stroke-opacity:1; fill:none\" points=\"\n",
       "  1108.7,1025.62 1108.7,1010.94 \n",
       "  \"/>\n",
       "<polyline clip-path=\"url(#clip3900)\" style=\"stroke:#000000; stroke-width:4; stroke-opacity:1; fill:none\" points=\"\n",
       "  1516.09,1025.62 1516.09,1010.94 \n",
       "  \"/>\n",
       "<polyline clip-path=\"url(#clip3900)\" style=\"stroke:#000000; stroke-width:4; stroke-opacity:1; fill:none\" points=\"\n",
       "  257.245,965.179 276.678,965.179 \n",
       "  \"/>\n",
       "<polyline clip-path=\"url(#clip3900)\" style=\"stroke:#000000; stroke-width:4; stroke-opacity:1; fill:none\" points=\"\n",
       "  257.245,683.531 276.678,683.531 \n",
       "  \"/>\n",
       "<polyline clip-path=\"url(#clip3900)\" style=\"stroke:#000000; stroke-width:4; stroke-opacity:1; fill:none\" points=\"\n",
       "  257.245,401.884 276.678,401.884 \n",
       "  \"/>\n",
       "<polyline clip-path=\"url(#clip3900)\" style=\"stroke:#000000; stroke-width:4; stroke-opacity:1; fill:none\" points=\"\n",
       "  257.245,120.237 276.678,120.237 \n",
       "  \"/>\n",
       "<g clip-path=\"url(#clip3900)\">\n",
       "<text style=\"fill:#000000; fill-opacity:1; font-family:Arial,Helvetica Neue,Helvetica,sans-serif; font-size:48px; text-anchor:middle;\" transform=\"rotate(0, 293.911, 1075.62)\" x=\"293.911\" y=\"1075.62\">0</text>\n",
       "</g>\n",
       "<g clip-path=\"url(#clip3900)\">\n",
       "<text style=\"fill:#000000; fill-opacity:1; font-family:Arial,Helvetica Neue,Helvetica,sans-serif; font-size:48px; text-anchor:middle;\" transform=\"rotate(0, 701.304, 1075.62)\" x=\"701.304\" y=\"1075.62\">5</text>\n",
       "</g>\n",
       "<g clip-path=\"url(#clip3900)\">\n",
       "<text style=\"fill:#000000; fill-opacity:1; font-family:Arial,Helvetica Neue,Helvetica,sans-serif; font-size:48px; text-anchor:middle;\" transform=\"rotate(0, 1108.7, 1075.62)\" x=\"1108.7\" y=\"1075.62\">10</text>\n",
       "</g>\n",
       "<g clip-path=\"url(#clip3900)\">\n",
       "<text style=\"fill:#000000; fill-opacity:1; font-family:Arial,Helvetica Neue,Helvetica,sans-serif; font-size:48px; text-anchor:middle;\" transform=\"rotate(0, 1516.09, 1075.62)\" x=\"1516.09\" y=\"1075.62\">15</text>\n",
       "</g>\n",
       "<g clip-path=\"url(#clip3900)\">\n",
       "<text style=\"fill:#000000; fill-opacity:1; font-family:Arial,Helvetica Neue,Helvetica,sans-serif; font-size:48px; text-anchor:end;\" transform=\"rotate(0, 241.245, 982.679)\" x=\"241.245\" y=\"982.679\">-100</text>\n",
       "</g>\n",
       "<g clip-path=\"url(#clip3900)\">\n",
       "<text style=\"fill:#000000; fill-opacity:1; font-family:Arial,Helvetica Neue,Helvetica,sans-serif; font-size:48px; text-anchor:end;\" transform=\"rotate(0, 241.245, 701.031)\" x=\"241.245\" y=\"701.031\">0</text>\n",
       "</g>\n",
       "<g clip-path=\"url(#clip3900)\">\n",
       "<text style=\"fill:#000000; fill-opacity:1; font-family:Arial,Helvetica Neue,Helvetica,sans-serif; font-size:48px; text-anchor:end;\" transform=\"rotate(0, 241.245, 419.384)\" x=\"241.245\" y=\"419.384\">100</text>\n",
       "</g>\n",
       "<g clip-path=\"url(#clip3900)\">\n",
       "<text style=\"fill:#000000; fill-opacity:1; font-family:Arial,Helvetica Neue,Helvetica,sans-serif; font-size:48px; text-anchor:end;\" transform=\"rotate(0, 241.245, 137.737)\" x=\"241.245\" y=\"137.737\">200</text>\n",
       "</g>\n",
       "<g clip-path=\"url(#clip3900)\">\n",
       "<text style=\"fill:#000000; fill-opacity:1; font-family:Arial,Helvetica Neue,Helvetica,sans-serif; font-size:66px; text-anchor:middle;\" transform=\"rotate(0, 905.001, 1151.48)\" x=\"905.001\" y=\"1151.48\">x</text>\n",
       "</g>\n",
       "<g clip-path=\"url(#clip3900)\">\n",
       "<text style=\"fill:#000000; fill-opacity:1; font-family:Arial,Helvetica Neue,Helvetica,sans-serif; font-size:66px; text-anchor:middle;\" transform=\"rotate(-90, 105.286, 536.431)\" x=\"105.286\" y=\"536.431\">y</text>\n",
       "</g>\n",
       "<polyline clip-path=\"url(#clip3902)\" style=\"stroke:#009af9; stroke-width:4; stroke-opacity:1; fill:none\" points=\"\n",
       "  293.911,683.531 302.059,683.247 310.206,682.946 318.354,682.612 326.502,682.229 334.65,681.786 342.798,681.269 350.946,680.671 359.094,679.985 367.242,679.21 \n",
       "  375.389,678.345 383.537,677.396 391.685,676.372 399.833,675.284 407.981,674.148 416.129,672.986 424.277,671.818 432.424,670.672 440.572,669.575 448.72,668.559 \n",
       "  456.868,667.654 465.016,666.895 473.164,666.314 481.312,665.943 489.459,665.814 497.607,665.955 505.755,666.394 513.903,667.152 522.051,668.248 530.199,669.697 \n",
       "  538.347,671.505 546.495,673.675 554.642,676.202 562.79,679.075 570.938,682.275 579.086,685.776 587.234,689.545 595.382,693.54 603.53,697.713 611.677,702.01 \n",
       "  619.825,706.37 627.973,710.725 636.121,715.004 644.269,719.131 652.417,723.027 660.565,726.609 668.713,729.796 676.86,732.505 685.008,734.655 693.156,736.168 \n",
       "  701.304,736.969 709.452,736.989 717.6,736.167 725.748,734.449 733.895,731.788 742.043,728.152 750.191,723.516 758.339,717.869 766.487,711.215 774.635,703.57 \n",
       "  782.783,694.963 790.931,685.442 799.078,675.065 807.226,663.908 815.374,652.061 823.522,639.626 831.67,626.721 839.818,613.475 847.966,600.029 856.113,586.533 \n",
       "  864.261,573.147 872.409,560.037 880.557,547.373 888.705,535.329 896.853,524.082 905.001,513.804 913.148,504.666 921.296,496.832 929.444,490.458 937.592,485.691 \n",
       "  945.74,482.664 953.888,481.493 962.036,482.281 970.184,485.109 978.331,490.038 986.479,497.107 994.627,506.33 1002.78,517.697 1010.92,531.172 1019.07,546.691 \n",
       "  1027.22,564.165 1035.37,583.478 1043.51,604.486 1051.66,627.022 1059.81,650.891 1067.96,675.877 1076.11,701.743 1084.25,728.229 1092.4,755.06 1100.55,781.948 \n",
       "  1108.7,808.589 1116.85,834.673 1124.99,859.885 1133.14,883.906 1141.29,906.421 1149.44,927.118 1157.58,945.697 1165.73,961.87 1173.88,975.364 1182.03,985.93 \n",
       "  1190.18,993.34 1198.32,997.396 1206.47,997.929 1214.62,994.804 1222.77,987.924 1230.92,977.229 1239.06,962.7 1247.21,944.359 1255.36,922.274 1263.51,896.554 \n",
       "  1271.65,867.353 1279.8,834.869 1287.95,799.342 1296.1,761.053 1304.25,720.324 1312.39,677.512 1320.54,633.01 1328.69,587.239 1336.84,540.65 1344.99,493.715 \n",
       "  1353.13,446.925 1361.28,400.782 1369.43,355.799 1377.58,312.489 1385.72,271.363 1393.87,232.925 1402.02,197.66 1410.17,166.037 1418.32,138.495 1426.46,115.444 \n",
       "  1434.61,97.2572 1442.76,84.2629 1450.91,76.7447 1459.06,74.9339 1467.2,79.0071 1475.35,89.082 1483.5,105.215 1491.65,127.398 1499.79,155.559 1507.94,189.559 \n",
       "  1516.09,229.193 \n",
       "  \"/>\n",
       "<polyline clip-path=\"url(#clip3902)\" style=\"stroke:#e26f46; stroke-width:4; stroke-opacity:1; fill:none\" points=\"\n",
       "  293.911,683.531 375.389,683.531 456.868,683.531 538.347,683.531 619.825,683.531 701.304,683.531 782.783,683.531 864.261,683.531 945.74,683.531 1027.22,683.531 \n",
       "  1108.7,683.531 1190.18,683.531 1271.65,683.531 1353.13,683.531 1434.61,683.531 1516.09,683.531 \n",
       "  \"/>\n",
       "<path clip-path=\"url(#clip3900)\" d=\"\n",
       "M1200.26 203.724 L1504.76 203.724 L1504.76 82.7641 L1200.26 82.7641  Z\n",
       "  \" fill=\"#ffffff\" fill-rule=\"evenodd\" fill-opacity=\"1\"/>\n",
       "<polyline clip-path=\"url(#clip3900)\" style=\"stroke:#000000; stroke-width:4; stroke-opacity:1; fill:none\" points=\"\n",
       "  1200.26,203.724 1504.76,203.724 1504.76,82.7641 1200.26,82.7641 1200.26,203.724 \n",
       "  \"/>\n",
       "<polyline clip-path=\"url(#clip3900)\" style=\"stroke:#009af9; stroke-width:4; stroke-opacity:1; fill:none\" points=\"\n",
       "  1216.26,143.244 1312.26,143.244 \n",
       "  \"/>\n",
       "<g clip-path=\"url(#clip3900)\">\n",
       "<text style=\"fill:#000000; fill-opacity:1; font-family:Arial,Helvetica Neue,Helvetica,sans-serif; font-size:48px; text-anchor:start;\" transform=\"rotate(0, 1328.26, 160.744)\" x=\"1328.26\" y=\"160.744\">função</text>\n",
       "</g>\n",
       "</svg>\n"
      ]
     },
     "execution_count": 78,
     "metadata": {},
     "output_type": "execute_result"
    }
   ],
   "source": [
    "using Plots\n",
    "gr()\n",
    "\n",
    "plot(0:0.1:15, f, label = \"função\", size = (400, 300))\n",
    "plot!(0:15, zero, label = \"\", xlabel = \"x\", ylabel = \"y\")"
   ]
  },
  {
   "cell_type": "markdown",
   "metadata": {},
   "source": [
    "Criar o vetor de valores iniciais ($x_i$) e o dataframe \"resultado 1\" contendo dados aleatórios de tamanho definido:"
   ]
  },
  {
   "cell_type": "code",
   "execution_count": 79,
   "metadata": {},
   "outputs": [
    {
     "data": {
      "text/html": [
       "<table class=\"data-frame\"><thead><tr><th></th><th>xi</th><th>raiz</th></tr><tr><th></th><th>Float64</th><th>Float64</th></tr></thead><tbody><p>5 rows × 2 columns</p><tr><th>1</th><td>0.0</td><td>0.0823623</td></tr><tr><th>2</th><td>2.0</td><td>0.697722</td></tr><tr><th>3</th><td>6.0</td><td>0.18267</td></tr><tr><th>4</th><td>9.0</td><td>0.0223412</td></tr><tr><th>5</th><td>13.0</td><td>0.611793</td></tr></tbody></table>"
      ],
      "text/latex": [
       "\\begin{tabular}{r|cc}\n",
       "\t& xi & raiz\\\\\n",
       "\t\\hline\n",
       "\t& Float64 & Float64\\\\\n",
       "\t\\hline\n",
       "\t1 & 0.0 & 0.0823623 \\\\\n",
       "\t2 & 2.0 & 0.697722 \\\\\n",
       "\t3 & 6.0 & 0.18267 \\\\\n",
       "\t4 & 9.0 & 0.0223412 \\\\\n",
       "\t5 & 13.0 & 0.611793 \\\\\n",
       "\\end{tabular}\n"
      ],
      "text/plain": [
       "5×2 DataFrame\n",
       "│ Row │ xi      │ raiz      │\n",
       "│     │ \u001b[90mFloat64\u001b[39m │ \u001b[90mFloat64\u001b[39m   │\n",
       "├─────┼─────────┼───────────┤\n",
       "│ 1   │ 0.0     │ 0.0823623 │\n",
       "│ 2   │ 2.0     │ 0.697722  │\n",
       "│ 3   │ 6.0     │ 0.18267   │\n",
       "│ 4   │ 9.0     │ 0.0223412 │\n",
       "│ 5   │ 13.0    │ 0.611793  │"
      ]
     },
     "execution_count": 79,
     "metadata": {},
     "output_type": "execute_result"
    }
   ],
   "source": [
    "# xi\n",
    "x_i = [0.0, 2.0, 6.0, 9.0, 13.0]\n",
    "\n",
    "# dataframe\n",
    "Resultado1 = DataFrame(xi = x_i, raiz = rand(5))"
   ]
  },
  {
   "cell_type": "markdown",
   "metadata": {},
   "source": [
    "Laço `for` adiciona o valor da raiz calculada na coluna 2."
   ]
  },
  {
   "cell_type": "code",
   "execution_count": 80,
   "metadata": {},
   "outputs": [],
   "source": [
    "for i = 1:length(x_i)\n",
    "    Resultado1.raiz[i] = nsolve(f(x), x_i[i])\n",
    "end"
   ]
  },
  {
   "cell_type": "code",
   "execution_count": 81,
   "metadata": {
    "scrolled": true
   },
   "outputs": [
    {
     "data": {
      "text/html": [
       "<table class=\"data-frame\"><thead><tr><th></th><th>xi</th><th>raiz</th></tr><tr><th></th><th>Float64</th><th>Float64</th></tr></thead><tbody><p>5 rows × 2 columns</p><tr><th>1</th><td>0.0</td><td>0.0</td></tr><tr><th>2</th><td>2.0</td><td>0.0</td></tr><tr><th>3</th><td>6.0</td><td>6.11902</td></tr><tr><th>4</th><td>9.0</td><td>9.5299</td></tr><tr><th>5</th><td>13.0</td><td>12.4862</td></tr></tbody></table>"
      ],
      "text/latex": [
       "\\begin{tabular}{r|cc}\n",
       "\t& xi & raiz\\\\\n",
       "\t\\hline\n",
       "\t& Float64 & Float64\\\\\n",
       "\t\\hline\n",
       "\t1 & 0.0 & 0.0 \\\\\n",
       "\t2 & 2.0 & 0.0 \\\\\n",
       "\t3 & 6.0 & 6.11902 \\\\\n",
       "\t4 & 9.0 & 9.5299 \\\\\n",
       "\t5 & 13.0 & 12.4862 \\\\\n",
       "\\end{tabular}\n"
      ],
      "text/plain": [
       "5×2 DataFrame\n",
       "│ Row │ xi      │ raiz    │\n",
       "│     │ \u001b[90mFloat64\u001b[39m │ \u001b[90mFloat64\u001b[39m │\n",
       "├─────┼─────────┼─────────┤\n",
       "│ 1   │ 0.0     │ 0.0     │\n",
       "│ 2   │ 2.0     │ 0.0     │\n",
       "│ 3   │ 6.0     │ 6.11902 │\n",
       "│ 4   │ 9.0     │ 9.5299  │\n",
       "│ 5   │ 13.0    │ 12.4862 │"
      ]
     },
     "execution_count": 81,
     "metadata": {},
     "output_type": "execute_result"
    }
   ],
   "source": [
    "Resultado1"
   ]
  },
  {
   "cell_type": "markdown",
   "metadata": {},
   "source": [
    "**Outra forma \"Like a Python\"**\n",
    "\n",
    "Criar um DataFrame vazio. "
   ]
  },
  {
   "cell_type": "code",
   "execution_count": 82,
   "metadata": {
    "scrolled": true
   },
   "outputs": [
    {
     "data": {
      "text/html": [
       "<table class=\"data-frame\"><thead><tr><th></th><th>xi</th><th>raiz</th></tr><tr><th></th><th>Float64</th><th>Float64</th></tr></thead><tbody><p>0 rows × 2 columns</p></tbody></table>"
      ],
      "text/latex": [
       "\\begin{tabular}{r|cc}\n",
       "\t& xi & raiz\\\\\n",
       "\t\\hline\n",
       "\t& Float64 & Float64\\\\\n",
       "\t\\hline\n",
       "\\end{tabular}\n"
      ],
      "text/plain": [
       "0×2 DataFrame\n"
      ]
     },
     "execution_count": 82,
     "metadata": {},
     "output_type": "execute_result"
    }
   ],
   "source": [
    "Resultado2 = DataFrame(xi = Float64[], raiz = Float64[])"
   ]
  },
  {
   "cell_type": "code",
   "execution_count": 83,
   "metadata": {
    "scrolled": true
   },
   "outputs": [
    {
     "data": {
      "text/html": [
       "<table class=\"data-frame\"><thead><tr><th></th><th>xi</th><th>raiz</th></tr><tr><th></th><th>Float64</th><th>Float64</th></tr></thead><tbody><p>5 rows × 2 columns</p><tr><th>1</th><td>0.0</td><td>0.0</td></tr><tr><th>2</th><td>2.0</td><td>0.0</td></tr><tr><th>3</th><td>6.0</td><td>6.11902</td></tr><tr><th>4</th><td>9.0</td><td>9.5299</td></tr><tr><th>5</th><td>13.0</td><td>12.4862</td></tr></tbody></table>"
      ],
      "text/latex": [
       "\\begin{tabular}{r|cc}\n",
       "\t& xi & raiz\\\\\n",
       "\t\\hline\n",
       "\t& Float64 & Float64\\\\\n",
       "\t\\hline\n",
       "\t1 & 0.0 & 0.0 \\\\\n",
       "\t2 & 2.0 & 0.0 \\\\\n",
       "\t3 & 6.0 & 6.11902 \\\\\n",
       "\t4 & 9.0 & 9.5299 \\\\\n",
       "\t5 & 13.0 & 12.4862 \\\\\n",
       "\\end{tabular}\n"
      ],
      "text/plain": [
       "5×2 DataFrame\n",
       "│ Row │ xi      │ raiz    │\n",
       "│     │ \u001b[90mFloat64\u001b[39m │ \u001b[90mFloat64\u001b[39m │\n",
       "├─────┼─────────┼─────────┤\n",
       "│ 1   │ 0.0     │ 0.0     │\n",
       "│ 2   │ 2.0     │ 0.0     │\n",
       "│ 3   │ 6.0     │ 6.11902 │\n",
       "│ 4   │ 9.0     │ 9.5299  │\n",
       "│ 5   │ 13.0    │ 12.4862 │"
      ]
     },
     "execution_count": 83,
     "metadata": {},
     "output_type": "execute_result"
    }
   ],
   "source": [
    "x_i = [0.0, 2.0, 6.0, 9.0, 13.0]\n",
    "\n",
    "for i in x_i\n",
    "    push!(Resultado2, [i, nsolve(f(x), i)])\n",
    "end\n",
    "\n",
    "unique!(Resultado2)"
   ]
  },
  {
   "cell_type": "code",
   "execution_count": 84,
   "metadata": {
    "scrolled": true
   },
   "outputs": [
    {
     "data": {
      "text/plain": [
       "5-element Array{Float64,1}:\n",
       "  0.0                  \n",
       "  0.0                  \n",
       "  8.881784197001252e-15\n",
       "  4.085620730620576e-14\n",
       " -6.039613253960852e-14"
      ]
     },
     "execution_count": 84,
     "metadata": {},
     "output_type": "execute_result"
    }
   ],
   "source": [
    "# testando os resultados\n",
    "[f(i) for i = Resultado2.raiz]"
   ]
  },
  {
   "cell_type": "code",
   "execution_count": 85,
   "metadata": {},
   "outputs": [
    {
     "data": {
      "image/svg+xml": [
       "<?xml version=\"1.0\" encoding=\"utf-8\"?>\n",
       "<svg xmlns=\"http://www.w3.org/2000/svg\" xmlns:xlink=\"http://www.w3.org/1999/xlink\" width=\"400\" height=\"300\" viewBox=\"0 0 1600 1200\">\n",
       "<defs>\n",
       "  <clipPath id=\"clip4300\">\n",
       "    <rect x=\"0\" y=\"0\" width=\"1600\" height=\"1200\"/>\n",
       "  </clipPath>\n",
       "</defs>\n",
       "<path clip-path=\"url(#clip4300)\" d=\"\n",
       "M0 1200 L1600 1200 L1600 0 L0 0  Z\n",
       "  \" fill=\"#ffffff\" fill-rule=\"evenodd\" fill-opacity=\"1\"/>\n",
       "<defs>\n",
       "  <clipPath id=\"clip4301\">\n",
       "    <rect x=\"320\" y=\"0\" width=\"1121\" height=\"1121\"/>\n",
       "  </clipPath>\n",
       "</defs>\n",
       "<path clip-path=\"url(#clip4300)\" d=\"\n",
       "M255.009 1019.66 L1552.76 1019.66 L1552.76 47.2441 L255.009 47.2441  Z\n",
       "  \" fill=\"#ffffff\" fill-rule=\"evenodd\" fill-opacity=\"1\"/>\n",
       "<defs>\n",
       "  <clipPath id=\"clip4302\">\n",
       "    <rect x=\"255\" y=\"47\" width=\"1299\" height=\"973\"/>\n",
       "  </clipPath>\n",
       "</defs>\n",
       "<polyline clip-path=\"url(#clip4302)\" style=\"stroke:#000000; stroke-width:2; stroke-opacity:0.1; fill:none\" points=\"\n",
       "  291.738,1019.66 291.738,47.2441 \n",
       "  \"/>\n",
       "<polyline clip-path=\"url(#clip4302)\" style=\"stroke:#000000; stroke-width:2; stroke-opacity:0.1; fill:none\" points=\"\n",
       "  352.952,1019.66 352.952,47.2441 \n",
       "  \"/>\n",
       "<polyline clip-path=\"url(#clip4302)\" style=\"stroke:#000000; stroke-width:2; stroke-opacity:0.1; fill:none\" points=\"\n",
       "  414.167,1019.66 414.167,47.2441 \n",
       "  \"/>\n",
       "<polyline clip-path=\"url(#clip4302)\" style=\"stroke:#000000; stroke-width:2; stroke-opacity:0.1; fill:none\" points=\"\n",
       "  475.381,1019.66 475.381,47.2441 \n",
       "  \"/>\n",
       "<polyline clip-path=\"url(#clip4302)\" style=\"stroke:#000000; stroke-width:2; stroke-opacity:0.1; fill:none\" points=\"\n",
       "  536.595,1019.66 536.595,47.2441 \n",
       "  \"/>\n",
       "<polyline clip-path=\"url(#clip4302)\" style=\"stroke:#000000; stroke-width:2; stroke-opacity:0.1; fill:none\" points=\"\n",
       "  597.81,1019.66 597.81,47.2441 \n",
       "  \"/>\n",
       "<polyline clip-path=\"url(#clip4302)\" style=\"stroke:#000000; stroke-width:2; stroke-opacity:0.1; fill:none\" points=\"\n",
       "  659.024,1019.66 659.024,47.2441 \n",
       "  \"/>\n",
       "<polyline clip-path=\"url(#clip4302)\" style=\"stroke:#000000; stroke-width:2; stroke-opacity:0.1; fill:none\" points=\"\n",
       "  720.239,1019.66 720.239,47.2441 \n",
       "  \"/>\n",
       "<polyline clip-path=\"url(#clip4302)\" style=\"stroke:#000000; stroke-width:2; stroke-opacity:0.1; fill:none\" points=\"\n",
       "  781.453,1019.66 781.453,47.2441 \n",
       "  \"/>\n",
       "<polyline clip-path=\"url(#clip4302)\" style=\"stroke:#000000; stroke-width:2; stroke-opacity:0.1; fill:none\" points=\"\n",
       "  842.668,1019.66 842.668,47.2441 \n",
       "  \"/>\n",
       "<polyline clip-path=\"url(#clip4302)\" style=\"stroke:#000000; stroke-width:2; stroke-opacity:0.1; fill:none\" points=\"\n",
       "  903.882,1019.66 903.882,47.2441 \n",
       "  \"/>\n",
       "<polyline clip-path=\"url(#clip4302)\" style=\"stroke:#000000; stroke-width:2; stroke-opacity:0.1; fill:none\" points=\"\n",
       "  965.097,1019.66 965.097,47.2441 \n",
       "  \"/>\n",
       "<polyline clip-path=\"url(#clip4302)\" style=\"stroke:#000000; stroke-width:2; stroke-opacity:0.1; fill:none\" points=\"\n",
       "  1026.31,1019.66 1026.31,47.2441 \n",
       "  \"/>\n",
       "<polyline clip-path=\"url(#clip4302)\" style=\"stroke:#000000; stroke-width:2; stroke-opacity:0.1; fill:none\" points=\"\n",
       "  1087.53,1019.66 1087.53,47.2441 \n",
       "  \"/>\n",
       "<polyline clip-path=\"url(#clip4302)\" style=\"stroke:#000000; stroke-width:2; stroke-opacity:0.1; fill:none\" points=\"\n",
       "  1148.74,1019.66 1148.74,47.2441 \n",
       "  \"/>\n",
       "<polyline clip-path=\"url(#clip4302)\" style=\"stroke:#000000; stroke-width:2; stroke-opacity:0.1; fill:none\" points=\"\n",
       "  1209.95,1019.66 1209.95,47.2441 \n",
       "  \"/>\n",
       "<polyline clip-path=\"url(#clip4302)\" style=\"stroke:#000000; stroke-width:2; stroke-opacity:0.1; fill:none\" points=\"\n",
       "  1271.17,1019.66 1271.17,47.2441 \n",
       "  \"/>\n",
       "<polyline clip-path=\"url(#clip4302)\" style=\"stroke:#000000; stroke-width:2; stroke-opacity:0.1; fill:none\" points=\"\n",
       "  1332.38,1019.66 1332.38,47.2441 \n",
       "  \"/>\n",
       "<polyline clip-path=\"url(#clip4302)\" style=\"stroke:#000000; stroke-width:2; stroke-opacity:0.1; fill:none\" points=\"\n",
       "  1393.6,1019.66 1393.6,47.2441 \n",
       "  \"/>\n",
       "<polyline clip-path=\"url(#clip4302)\" style=\"stroke:#000000; stroke-width:2; stroke-opacity:0.1; fill:none\" points=\"\n",
       "  1454.81,1019.66 1454.81,47.2441 \n",
       "  \"/>\n",
       "<polyline clip-path=\"url(#clip4302)\" style=\"stroke:#000000; stroke-width:2; stroke-opacity:0.1; fill:none\" points=\"\n",
       "  1516.03,1019.66 1516.03,47.2441 \n",
       "  \"/>\n",
       "<polyline clip-path=\"url(#clip4302)\" style=\"stroke:#000000; stroke-width:2; stroke-opacity:0.1; fill:none\" points=\"\n",
       "  255.009,1015.29 1552.76,1015.29 \n",
       "  \"/>\n",
       "<polyline clip-path=\"url(#clip4302)\" style=\"stroke:#000000; stroke-width:2; stroke-opacity:0.1; fill:none\" points=\"\n",
       "  255.009,946.655 1552.76,946.655 \n",
       "  \"/>\n",
       "<polyline clip-path=\"url(#clip4302)\" style=\"stroke:#000000; stroke-width:2; stroke-opacity:0.1; fill:none\" points=\"\n",
       "  255.009,878.022 1552.76,878.022 \n",
       "  \"/>\n",
       "<polyline clip-path=\"url(#clip4302)\" style=\"stroke:#000000; stroke-width:2; stroke-opacity:0.1; fill:none\" points=\"\n",
       "  255.009,809.388 1552.76,809.388 \n",
       "  \"/>\n",
       "<polyline clip-path=\"url(#clip4302)\" style=\"stroke:#000000; stroke-width:2; stroke-opacity:0.1; fill:none\" points=\"\n",
       "  255.009,740.755 1552.76,740.755 \n",
       "  \"/>\n",
       "<polyline clip-path=\"url(#clip4302)\" style=\"stroke:#000000; stroke-width:2; stroke-opacity:0.1; fill:none\" points=\"\n",
       "  255.009,672.121 1552.76,672.121 \n",
       "  \"/>\n",
       "<polyline clip-path=\"url(#clip4302)\" style=\"stroke:#000000; stroke-width:2; stroke-opacity:0.1; fill:none\" points=\"\n",
       "  255.009,603.488 1552.76,603.488 \n",
       "  \"/>\n",
       "<polyline clip-path=\"url(#clip4302)\" style=\"stroke:#000000; stroke-width:2; stroke-opacity:0.1; fill:none\" points=\"\n",
       "  255.009,534.854 1552.76,534.854 \n",
       "  \"/>\n",
       "<polyline clip-path=\"url(#clip4302)\" style=\"stroke:#000000; stroke-width:2; stroke-opacity:0.1; fill:none\" points=\"\n",
       "  255.009,466.221 1552.76,466.221 \n",
       "  \"/>\n",
       "<polyline clip-path=\"url(#clip4302)\" style=\"stroke:#000000; stroke-width:2; stroke-opacity:0.1; fill:none\" points=\"\n",
       "  255.009,397.587 1552.76,397.587 \n",
       "  \"/>\n",
       "<polyline clip-path=\"url(#clip4302)\" style=\"stroke:#000000; stroke-width:2; stroke-opacity:0.1; fill:none\" points=\"\n",
       "  255.009,328.954 1552.76,328.954 \n",
       "  \"/>\n",
       "<polyline clip-path=\"url(#clip4302)\" style=\"stroke:#000000; stroke-width:2; stroke-opacity:0.1; fill:none\" points=\"\n",
       "  255.009,260.32 1552.76,260.32 \n",
       "  \"/>\n",
       "<polyline clip-path=\"url(#clip4302)\" style=\"stroke:#000000; stroke-width:2; stroke-opacity:0.1; fill:none\" points=\"\n",
       "  255.009,191.687 1552.76,191.687 \n",
       "  \"/>\n",
       "<polyline clip-path=\"url(#clip4302)\" style=\"stroke:#000000; stroke-width:2; stroke-opacity:0.1; fill:none\" points=\"\n",
       "  255.009,123.053 1552.76,123.053 \n",
       "  \"/>\n",
       "<polyline clip-path=\"url(#clip4302)\" style=\"stroke:#000000; stroke-width:2; stroke-opacity:0.1; fill:none\" points=\"\n",
       "  255.009,54.4198 1552.76,54.4198 \n",
       "  \"/>\n",
       "<polyline clip-path=\"url(#clip4300)\" style=\"stroke:#000000; stroke-width:4; stroke-opacity:1; fill:none\" points=\"\n",
       "  255.009,1019.66 1552.76,1019.66 \n",
       "  \"/>\n",
       "<polyline clip-path=\"url(#clip4300)\" style=\"stroke:#000000; stroke-width:4; stroke-opacity:1; fill:none\" points=\"\n",
       "  255.009,1019.66 255.009,47.2441 \n",
       "  \"/>\n",
       "<polyline clip-path=\"url(#clip4300)\" style=\"stroke:#000000; stroke-width:4; stroke-opacity:1; fill:none\" points=\"\n",
       "  291.738,1019.66 291.738,1005.08 \n",
       "  \"/>\n",
       "<polyline clip-path=\"url(#clip4300)\" style=\"stroke:#000000; stroke-width:4; stroke-opacity:1; fill:none\" points=\"\n",
       "  352.952,1019.66 352.952,1005.08 \n",
       "  \"/>\n",
       "<polyline clip-path=\"url(#clip4300)\" style=\"stroke:#000000; stroke-width:4; stroke-opacity:1; fill:none\" points=\"\n",
       "  414.167,1019.66 414.167,1005.08 \n",
       "  \"/>\n",
       "<polyline clip-path=\"url(#clip4300)\" style=\"stroke:#000000; stroke-width:4; stroke-opacity:1; fill:none\" points=\"\n",
       "  475.381,1019.66 475.381,1005.08 \n",
       "  \"/>\n",
       "<polyline clip-path=\"url(#clip4300)\" style=\"stroke:#000000; stroke-width:4; stroke-opacity:1; fill:none\" points=\"\n",
       "  536.595,1019.66 536.595,1005.08 \n",
       "  \"/>\n",
       "<polyline clip-path=\"url(#clip4300)\" style=\"stroke:#000000; stroke-width:4; stroke-opacity:1; fill:none\" points=\"\n",
       "  597.81,1019.66 597.81,1005.08 \n",
       "  \"/>\n",
       "<polyline clip-path=\"url(#clip4300)\" style=\"stroke:#000000; stroke-width:4; stroke-opacity:1; fill:none\" points=\"\n",
       "  659.024,1019.66 659.024,1005.08 \n",
       "  \"/>\n",
       "<polyline clip-path=\"url(#clip4300)\" style=\"stroke:#000000; stroke-width:4; stroke-opacity:1; fill:none\" points=\"\n",
       "  720.239,1019.66 720.239,1005.08 \n",
       "  \"/>\n",
       "<polyline clip-path=\"url(#clip4300)\" style=\"stroke:#000000; stroke-width:4; stroke-opacity:1; fill:none\" points=\"\n",
       "  781.453,1019.66 781.453,1005.08 \n",
       "  \"/>\n",
       "<polyline clip-path=\"url(#clip4300)\" style=\"stroke:#000000; stroke-width:4; stroke-opacity:1; fill:none\" points=\"\n",
       "  842.668,1019.66 842.668,1005.08 \n",
       "  \"/>\n",
       "<polyline clip-path=\"url(#clip4300)\" style=\"stroke:#000000; stroke-width:4; stroke-opacity:1; fill:none\" points=\"\n",
       "  903.882,1019.66 903.882,1005.08 \n",
       "  \"/>\n",
       "<polyline clip-path=\"url(#clip4300)\" style=\"stroke:#000000; stroke-width:4; stroke-opacity:1; fill:none\" points=\"\n",
       "  965.097,1019.66 965.097,1005.08 \n",
       "  \"/>\n",
       "<polyline clip-path=\"url(#clip4300)\" style=\"stroke:#000000; stroke-width:4; stroke-opacity:1; fill:none\" points=\"\n",
       "  1026.31,1019.66 1026.31,1005.08 \n",
       "  \"/>\n",
       "<polyline clip-path=\"url(#clip4300)\" style=\"stroke:#000000; stroke-width:4; stroke-opacity:1; fill:none\" points=\"\n",
       "  1087.53,1019.66 1087.53,1005.08 \n",
       "  \"/>\n",
       "<polyline clip-path=\"url(#clip4300)\" style=\"stroke:#000000; stroke-width:4; stroke-opacity:1; fill:none\" points=\"\n",
       "  1148.74,1019.66 1148.74,1005.08 \n",
       "  \"/>\n",
       "<polyline clip-path=\"url(#clip4300)\" style=\"stroke:#000000; stroke-width:4; stroke-opacity:1; fill:none\" points=\"\n",
       "  1209.95,1019.66 1209.95,1005.08 \n",
       "  \"/>\n",
       "<polyline clip-path=\"url(#clip4300)\" style=\"stroke:#000000; stroke-width:4; stroke-opacity:1; fill:none\" points=\"\n",
       "  1271.17,1019.66 1271.17,1005.08 \n",
       "  \"/>\n",
       "<polyline clip-path=\"url(#clip4300)\" style=\"stroke:#000000; stroke-width:4; stroke-opacity:1; fill:none\" points=\"\n",
       "  1332.38,1019.66 1332.38,1005.08 \n",
       "  \"/>\n",
       "<polyline clip-path=\"url(#clip4300)\" style=\"stroke:#000000; stroke-width:4; stroke-opacity:1; fill:none\" points=\"\n",
       "  1393.6,1019.66 1393.6,1005.08 \n",
       "  \"/>\n",
       "<polyline clip-path=\"url(#clip4300)\" style=\"stroke:#000000; stroke-width:4; stroke-opacity:1; fill:none\" points=\"\n",
       "  1454.81,1019.66 1454.81,1005.08 \n",
       "  \"/>\n",
       "<polyline clip-path=\"url(#clip4300)\" style=\"stroke:#000000; stroke-width:4; stroke-opacity:1; fill:none\" points=\"\n",
       "  1516.03,1019.66 1516.03,1005.08 \n",
       "  \"/>\n",
       "<polyline clip-path=\"url(#clip4300)\" style=\"stroke:#000000; stroke-width:4; stroke-opacity:1; fill:none\" points=\"\n",
       "  255.009,1015.29 274.475,1015.29 \n",
       "  \"/>\n",
       "<polyline clip-path=\"url(#clip4300)\" style=\"stroke:#000000; stroke-width:4; stroke-opacity:1; fill:none\" points=\"\n",
       "  255.009,946.655 274.475,946.655 \n",
       "  \"/>\n",
       "<polyline clip-path=\"url(#clip4300)\" style=\"stroke:#000000; stroke-width:4; stroke-opacity:1; fill:none\" points=\"\n",
       "  255.009,878.022 274.475,878.022 \n",
       "  \"/>\n",
       "<polyline clip-path=\"url(#clip4300)\" style=\"stroke:#000000; stroke-width:4; stroke-opacity:1; fill:none\" points=\"\n",
       "  255.009,809.388 274.475,809.388 \n",
       "  \"/>\n",
       "<polyline clip-path=\"url(#clip4300)\" style=\"stroke:#000000; stroke-width:4; stroke-opacity:1; fill:none\" points=\"\n",
       "  255.009,740.755 274.475,740.755 \n",
       "  \"/>\n",
       "<polyline clip-path=\"url(#clip4300)\" style=\"stroke:#000000; stroke-width:4; stroke-opacity:1; fill:none\" points=\"\n",
       "  255.009,672.121 274.475,672.121 \n",
       "  \"/>\n",
       "<polyline clip-path=\"url(#clip4300)\" style=\"stroke:#000000; stroke-width:4; stroke-opacity:1; fill:none\" points=\"\n",
       "  255.009,603.488 274.475,603.488 \n",
       "  \"/>\n",
       "<polyline clip-path=\"url(#clip4300)\" style=\"stroke:#000000; stroke-width:4; stroke-opacity:1; fill:none\" points=\"\n",
       "  255.009,534.854 274.475,534.854 \n",
       "  \"/>\n",
       "<polyline clip-path=\"url(#clip4300)\" style=\"stroke:#000000; stroke-width:4; stroke-opacity:1; fill:none\" points=\"\n",
       "  255.009,466.221 274.475,466.221 \n",
       "  \"/>\n",
       "<polyline clip-path=\"url(#clip4300)\" style=\"stroke:#000000; stroke-width:4; stroke-opacity:1; fill:none\" points=\"\n",
       "  255.009,397.587 274.475,397.587 \n",
       "  \"/>\n",
       "<polyline clip-path=\"url(#clip4300)\" style=\"stroke:#000000; stroke-width:4; stroke-opacity:1; fill:none\" points=\"\n",
       "  255.009,328.954 274.475,328.954 \n",
       "  \"/>\n",
       "<polyline clip-path=\"url(#clip4300)\" style=\"stroke:#000000; stroke-width:4; stroke-opacity:1; fill:none\" points=\"\n",
       "  255.009,260.32 274.475,260.32 \n",
       "  \"/>\n",
       "<polyline clip-path=\"url(#clip4300)\" style=\"stroke:#000000; stroke-width:4; stroke-opacity:1; fill:none\" points=\"\n",
       "  255.009,191.687 274.475,191.687 \n",
       "  \"/>\n",
       "<polyline clip-path=\"url(#clip4300)\" style=\"stroke:#000000; stroke-width:4; stroke-opacity:1; fill:none\" points=\"\n",
       "  255.009,123.053 274.475,123.053 \n",
       "  \"/>\n",
       "<polyline clip-path=\"url(#clip4300)\" style=\"stroke:#000000; stroke-width:4; stroke-opacity:1; fill:none\" points=\"\n",
       "  255.009,54.4198 274.475,54.4198 \n",
       "  \"/>\n",
       "<g clip-path=\"url(#clip4300)\">\n",
       "<text style=\"fill:#000000; fill-opacity:1; font-family:Arial,Helvetica Neue,Helvetica,sans-serif; font-size:48px; text-anchor:middle;\" transform=\"rotate(0, 291.738, 1069.66)\" x=\"291.738\" y=\"1069.66\">0</text>\n",
       "</g>\n",
       "<g clip-path=\"url(#clip4300)\">\n",
       "<text style=\"fill:#000000; fill-opacity:1; font-family:Arial,Helvetica Neue,Helvetica,sans-serif; font-size:48px; text-anchor:middle;\" transform=\"rotate(0, 352.952, 1069.66)\" x=\"352.952\" y=\"1069.66\">1</text>\n",
       "</g>\n",
       "<g clip-path=\"url(#clip4300)\">\n",
       "<text style=\"fill:#000000; fill-opacity:1; font-family:Arial,Helvetica Neue,Helvetica,sans-serif; font-size:48px; text-anchor:middle;\" transform=\"rotate(0, 414.167, 1069.66)\" x=\"414.167\" y=\"1069.66\">2</text>\n",
       "</g>\n",
       "<g clip-path=\"url(#clip4300)\">\n",
       "<text style=\"fill:#000000; fill-opacity:1; font-family:Arial,Helvetica Neue,Helvetica,sans-serif; font-size:48px; text-anchor:middle;\" transform=\"rotate(0, 475.381, 1069.66)\" x=\"475.381\" y=\"1069.66\">3</text>\n",
       "</g>\n",
       "<g clip-path=\"url(#clip4300)\">\n",
       "<text style=\"fill:#000000; fill-opacity:1; font-family:Arial,Helvetica Neue,Helvetica,sans-serif; font-size:48px; text-anchor:middle;\" transform=\"rotate(0, 536.595, 1069.66)\" x=\"536.595\" y=\"1069.66\">4</text>\n",
       "</g>\n",
       "<g clip-path=\"url(#clip4300)\">\n",
       "<text style=\"fill:#000000; fill-opacity:1; font-family:Arial,Helvetica Neue,Helvetica,sans-serif; font-size:48px; text-anchor:middle;\" transform=\"rotate(0, 597.81, 1069.66)\" x=\"597.81\" y=\"1069.66\">5</text>\n",
       "</g>\n",
       "<g clip-path=\"url(#clip4300)\">\n",
       "<text style=\"fill:#000000; fill-opacity:1; font-family:Arial,Helvetica Neue,Helvetica,sans-serif; font-size:48px; text-anchor:middle;\" transform=\"rotate(0, 659.024, 1069.66)\" x=\"659.024\" y=\"1069.66\">6</text>\n",
       "</g>\n",
       "<g clip-path=\"url(#clip4300)\">\n",
       "<text style=\"fill:#000000; fill-opacity:1; font-family:Arial,Helvetica Neue,Helvetica,sans-serif; font-size:48px; text-anchor:middle;\" transform=\"rotate(0, 720.239, 1069.66)\" x=\"720.239\" y=\"1069.66\">7</text>\n",
       "</g>\n",
       "<g clip-path=\"url(#clip4300)\">\n",
       "<text style=\"fill:#000000; fill-opacity:1; font-family:Arial,Helvetica Neue,Helvetica,sans-serif; font-size:48px; text-anchor:middle;\" transform=\"rotate(0, 781.453, 1069.66)\" x=\"781.453\" y=\"1069.66\">8</text>\n",
       "</g>\n",
       "<g clip-path=\"url(#clip4300)\">\n",
       "<text style=\"fill:#000000; fill-opacity:1; font-family:Arial,Helvetica Neue,Helvetica,sans-serif; font-size:48px; text-anchor:middle;\" transform=\"rotate(0, 842.668, 1069.66)\" x=\"842.668\" y=\"1069.66\">9</text>\n",
       "</g>\n",
       "<g clip-path=\"url(#clip4300)\">\n",
       "<text style=\"fill:#000000; fill-opacity:1; font-family:Arial,Helvetica Neue,Helvetica,sans-serif; font-size:48px; text-anchor:middle;\" transform=\"rotate(0, 903.882, 1069.66)\" x=\"903.882\" y=\"1069.66\">10</text>\n",
       "</g>\n",
       "<g clip-path=\"url(#clip4300)\">\n",
       "<text style=\"fill:#000000; fill-opacity:1; font-family:Arial,Helvetica Neue,Helvetica,sans-serif; font-size:48px; text-anchor:middle;\" transform=\"rotate(0, 965.097, 1069.66)\" x=\"965.097\" y=\"1069.66\">11</text>\n",
       "</g>\n",
       "<g clip-path=\"url(#clip4300)\">\n",
       "<text style=\"fill:#000000; fill-opacity:1; font-family:Arial,Helvetica Neue,Helvetica,sans-serif; font-size:48px; text-anchor:middle;\" transform=\"rotate(0, 1026.31, 1069.66)\" x=\"1026.31\" y=\"1069.66\">12</text>\n",
       "</g>\n",
       "<g clip-path=\"url(#clip4300)\">\n",
       "<text style=\"fill:#000000; fill-opacity:1; font-family:Arial,Helvetica Neue,Helvetica,sans-serif; font-size:48px; text-anchor:middle;\" transform=\"rotate(0, 1087.53, 1069.66)\" x=\"1087.53\" y=\"1069.66\">13</text>\n",
       "</g>\n",
       "<g clip-path=\"url(#clip4300)\">\n",
       "<text style=\"fill:#000000; fill-opacity:1; font-family:Arial,Helvetica Neue,Helvetica,sans-serif; font-size:48px; text-anchor:middle;\" transform=\"rotate(0, 1148.74, 1069.66)\" x=\"1148.74\" y=\"1069.66\">14</text>\n",
       "</g>\n",
       "<g clip-path=\"url(#clip4300)\">\n",
       "<text style=\"fill:#000000; fill-opacity:1; font-family:Arial,Helvetica Neue,Helvetica,sans-serif; font-size:48px; text-anchor:middle;\" transform=\"rotate(0, 1209.95, 1069.66)\" x=\"1209.95\" y=\"1069.66\">15</text>\n",
       "</g>\n",
       "<g clip-path=\"url(#clip4300)\">\n",
       "<text style=\"fill:#000000; fill-opacity:1; font-family:Arial,Helvetica Neue,Helvetica,sans-serif; font-size:48px; text-anchor:middle;\" transform=\"rotate(0, 1271.17, 1069.66)\" x=\"1271.17\" y=\"1069.66\">16</text>\n",
       "</g>\n",
       "<g clip-path=\"url(#clip4300)\">\n",
       "<text style=\"fill:#000000; fill-opacity:1; font-family:Arial,Helvetica Neue,Helvetica,sans-serif; font-size:48px; text-anchor:middle;\" transform=\"rotate(0, 1332.38, 1069.66)\" x=\"1332.38\" y=\"1069.66\">17</text>\n",
       "</g>\n",
       "<g clip-path=\"url(#clip4300)\">\n",
       "<text style=\"fill:#000000; fill-opacity:1; font-family:Arial,Helvetica Neue,Helvetica,sans-serif; font-size:48px; text-anchor:middle;\" transform=\"rotate(0, 1393.6, 1069.66)\" x=\"1393.6\" y=\"1069.66\">18</text>\n",
       "</g>\n",
       "<g clip-path=\"url(#clip4300)\">\n",
       "<text style=\"fill:#000000; fill-opacity:1; font-family:Arial,Helvetica Neue,Helvetica,sans-serif; font-size:48px; text-anchor:middle;\" transform=\"rotate(0, 1454.81, 1069.66)\" x=\"1454.81\" y=\"1069.66\">19</text>\n",
       "</g>\n",
       "<g clip-path=\"url(#clip4300)\">\n",
       "<text style=\"fill:#000000; fill-opacity:1; font-family:Arial,Helvetica Neue,Helvetica,sans-serif; font-size:48px; text-anchor:middle;\" transform=\"rotate(0, 1516.03, 1069.66)\" x=\"1516.03\" y=\"1069.66\">20</text>\n",
       "</g>\n",
       "<g clip-path=\"url(#clip4300)\">\n",
       "<text style=\"fill:#000000; fill-opacity:1; font-family:Arial,Helvetica Neue,Helvetica,sans-serif; font-size:48px; text-anchor:end;\" transform=\"rotate(0, 239.009, 1032.79)\" x=\"239.009\" y=\"1032.79\">-300</text>\n",
       "</g>\n",
       "<g clip-path=\"url(#clip4300)\">\n",
       "<text style=\"fill:#000000; fill-opacity:1; font-family:Arial,Helvetica Neue,Helvetica,sans-serif; font-size:48px; text-anchor:end;\" transform=\"rotate(0, 239.009, 964.155)\" x=\"239.009\" y=\"964.155\">-250</text>\n",
       "</g>\n",
       "<g clip-path=\"url(#clip4300)\">\n",
       "<text style=\"fill:#000000; fill-opacity:1; font-family:Arial,Helvetica Neue,Helvetica,sans-serif; font-size:48px; text-anchor:end;\" transform=\"rotate(0, 239.009, 895.522)\" x=\"239.009\" y=\"895.522\">-200</text>\n",
       "</g>\n",
       "<g clip-path=\"url(#clip4300)\">\n",
       "<text style=\"fill:#000000; fill-opacity:1; font-family:Arial,Helvetica Neue,Helvetica,sans-serif; font-size:48px; text-anchor:end;\" transform=\"rotate(0, 239.009, 826.888)\" x=\"239.009\" y=\"826.888\">-150</text>\n",
       "</g>\n",
       "<g clip-path=\"url(#clip4300)\">\n",
       "<text style=\"fill:#000000; fill-opacity:1; font-family:Arial,Helvetica Neue,Helvetica,sans-serif; font-size:48px; text-anchor:end;\" transform=\"rotate(0, 239.009, 758.255)\" x=\"239.009\" y=\"758.255\">-100</text>\n",
       "</g>\n",
       "<g clip-path=\"url(#clip4300)\">\n",
       "<text style=\"fill:#000000; fill-opacity:1; font-family:Arial,Helvetica Neue,Helvetica,sans-serif; font-size:48px; text-anchor:end;\" transform=\"rotate(0, 239.009, 689.621)\" x=\"239.009\" y=\"689.621\">-50</text>\n",
       "</g>\n",
       "<g clip-path=\"url(#clip4300)\">\n",
       "<text style=\"fill:#000000; fill-opacity:1; font-family:Arial,Helvetica Neue,Helvetica,sans-serif; font-size:48px; text-anchor:end;\" transform=\"rotate(0, 239.009, 620.988)\" x=\"239.009\" y=\"620.988\">0</text>\n",
       "</g>\n",
       "<g clip-path=\"url(#clip4300)\">\n",
       "<text style=\"fill:#000000; fill-opacity:1; font-family:Arial,Helvetica Neue,Helvetica,sans-serif; font-size:48px; text-anchor:end;\" transform=\"rotate(0, 239.009, 552.354)\" x=\"239.009\" y=\"552.354\">50</text>\n",
       "</g>\n",
       "<g clip-path=\"url(#clip4300)\">\n",
       "<text style=\"fill:#000000; fill-opacity:1; font-family:Arial,Helvetica Neue,Helvetica,sans-serif; font-size:48px; text-anchor:end;\" transform=\"rotate(0, 239.009, 483.721)\" x=\"239.009\" y=\"483.721\">100</text>\n",
       "</g>\n",
       "<g clip-path=\"url(#clip4300)\">\n",
       "<text style=\"fill:#000000; fill-opacity:1; font-family:Arial,Helvetica Neue,Helvetica,sans-serif; font-size:48px; text-anchor:end;\" transform=\"rotate(0, 239.009, 415.087)\" x=\"239.009\" y=\"415.087\">150</text>\n",
       "</g>\n",
       "<g clip-path=\"url(#clip4300)\">\n",
       "<text style=\"fill:#000000; fill-opacity:1; font-family:Arial,Helvetica Neue,Helvetica,sans-serif; font-size:48px; text-anchor:end;\" transform=\"rotate(0, 239.009, 346.454)\" x=\"239.009\" y=\"346.454\">200</text>\n",
       "</g>\n",
       "<g clip-path=\"url(#clip4300)\">\n",
       "<text style=\"fill:#000000; fill-opacity:1; font-family:Arial,Helvetica Neue,Helvetica,sans-serif; font-size:48px; text-anchor:end;\" transform=\"rotate(0, 239.009, 277.82)\" x=\"239.009\" y=\"277.82\">250</text>\n",
       "</g>\n",
       "<g clip-path=\"url(#clip4300)\">\n",
       "<text style=\"fill:#000000; fill-opacity:1; font-family:Arial,Helvetica Neue,Helvetica,sans-serif; font-size:48px; text-anchor:end;\" transform=\"rotate(0, 239.009, 209.187)\" x=\"239.009\" y=\"209.187\">300</text>\n",
       "</g>\n",
       "<g clip-path=\"url(#clip4300)\">\n",
       "<text style=\"fill:#000000; fill-opacity:1; font-family:Arial,Helvetica Neue,Helvetica,sans-serif; font-size:48px; text-anchor:end;\" transform=\"rotate(0, 239.009, 140.553)\" x=\"239.009\" y=\"140.553\">350</text>\n",
       "</g>\n",
       "<g clip-path=\"url(#clip4300)\">\n",
       "<text style=\"fill:#000000; fill-opacity:1; font-family:Arial,Helvetica Neue,Helvetica,sans-serif; font-size:48px; text-anchor:end;\" transform=\"rotate(0, 239.009, 71.9198)\" x=\"239.009\" y=\"71.9198\">400</text>\n",
       "</g>\n",
       "<g clip-path=\"url(#clip4300)\">\n",
       "<text style=\"fill:#000000; fill-opacity:1; font-family:Arial,Helvetica Neue,Helvetica,sans-serif; font-size:66px; text-anchor:middle;\" transform=\"rotate(0, 903.882, 1145.53)\" x=\"903.882\" y=\"1145.53\">x</text>\n",
       "</g>\n",
       "<g clip-path=\"url(#clip4300)\">\n",
       "<text style=\"fill:#000000; fill-opacity:1; font-family:Arial,Helvetica Neue,Helvetica,sans-serif; font-size:66px; text-anchor:middle;\" transform=\"rotate(-90, 103.05, 533.454)\" x=\"103.05\" y=\"533.454\">y</text>\n",
       "</g>\n",
       "<polyline clip-path=\"url(#clip4302)\" style=\"stroke:#009af9; stroke-width:4; stroke-opacity:1; fill:none\" points=\"\n",
       "  291.738,603.488 297.859,603.349 303.98,603.202 310.102,603.039 316.223,602.853 322.345,602.637 328.466,602.385 334.588,602.094 340.709,601.759 346.831,601.381 \n",
       "  352.952,600.96 359.073,600.498 365.195,599.998 371.316,599.468 377.438,598.915 383.559,598.348 389.681,597.779 395.802,597.22 401.924,596.686 408.045,596.19 \n",
       "  414.167,595.75 420.288,595.38 426.409,595.096 432.531,594.916 438.652,594.853 444.774,594.922 450.895,595.135 457.017,595.505 463.138,596.039 469.26,596.745 \n",
       "  475.381,597.626 481.502,598.684 487.624,599.916 493.745,601.316 499.867,602.876 505.988,604.582 512.11,606.419 518.231,608.365 524.353,610.399 530.474,612.494 \n",
       "  536.595,614.619 542.717,616.741 548.838,618.827 554.96,620.838 561.081,622.737 567.203,624.483 573.324,626.036 579.446,627.356 585.567,628.404 591.689,629.141 \n",
       "  597.81,629.532 603.931,629.542 610.053,629.141 616.174,628.303 622.296,627.007 628.417,625.234 634.539,622.975 640.66,620.223 646.782,616.98 652.903,613.254 \n",
       "  659.024,609.059 665.146,604.419 671.267,599.361 677.389,593.924 683.51,588.15 689.632,582.089 695.753,575.8 701.875,569.344 707.996,562.791 714.117,556.214 \n",
       "  720.239,549.69 726.36,543.3 732.482,537.128 738.603,531.258 744.725,525.776 750.846,520.767 756.968,516.314 763.089,512.496 769.211,509.389 775.332,507.066 \n",
       "  781.453,505.59 787.575,505.02 793.696,505.404 799.818,506.782 805.939,509.185 812.061,512.63 818.182,517.125 824.304,522.665 830.425,529.232 836.546,536.795 \n",
       "  842.668,545.312 848.789,554.724 854.911,564.963 861.032,575.946 867.154,587.58 873.275,599.757 879.397,612.363 885.518,625.272 891.639,638.349 897.761,651.453 \n",
       "  903.882,664.437 910.004,677.15 916.125,689.437 922.247,701.145 928.368,712.118 934.49,722.205 940.611,731.26 946.733,739.142 952.854,745.719 958.975,750.868 \n",
       "  965.097,754.48 971.218,756.456 977.34,756.716 983.461,755.193 989.583,751.84 995.704,746.628 1001.83,739.547 1007.95,730.608 1014.07,719.844 1020.19,707.309 \n",
       "  1026.31,693.077 1032.43,677.245 1038.55,659.93 1044.68,641.27 1050.8,621.419 1056.92,600.554 1063.04,578.865 1069.16,556.558 1075.28,533.851 1081.4,510.977 \n",
       "  1087.53,488.172 1093.65,465.684 1099.77,443.76 1105.89,422.652 1112.01,402.609 1118.13,383.875 1124.25,366.688 1130.38,351.275 1136.5,337.852 1142.62,326.618 \n",
       "  1148.74,317.754 1154.86,311.421 1160.98,307.757 1167.1,306.874 1173.23,308.86 1179.35,313.77 1185.47,321.632 1191.59,332.444 1197.71,346.169 1203.83,362.739 \n",
       "  1209.95,382.056 1216.08,403.986 1222.2,428.366 1228.32,455.002 1234.44,483.671 1240.56,514.122 1246.68,546.079 1252.8,579.243 1258.93,613.294 1265.05,647.895 \n",
       "  1271.17,682.695 1277.29,717.333 1283.41,751.437 1289.53,784.638 1295.66,816.561 1301.78,846.84 1307.9,875.115 1314.02,901.042 1320.14,924.29 1326.26,944.551 \n",
       "  1332.38,961.54 1338.51,975.001 1344.63,984.71 1350.75,990.474 1356.87,992.142 1362.99,989.6 1369.11,982.776 1375.23,971.642 1381.36,956.215 1387.48,936.557 \n",
       "  1393.6,912.778 1399.72,885.03 1405.84,853.512 1411.96,818.47 1418.08,780.187 1424.21,738.989 1430.33,695.241 1436.45,649.34 1442.57,601.714 1448.69,552.82 \n",
       "  1454.81,503.138 1460.93,453.163 1467.06,403.408 1473.18,354.39 1479.3,306.633 1485.42,260.654 1491.54,216.967 1497.66,176.068 1503.78,138.437 1509.91,104.528 \n",
       "  1516.03,74.7654 \n",
       "  \"/>\n",
       "<polyline clip-path=\"url(#clip4302)\" style=\"stroke:#e26f46; stroke-width:4; stroke-opacity:1; fill:none\" points=\"\n",
       "  291.738,603.488 352.952,603.488 414.167,603.488 475.381,603.488 536.595,603.488 597.81,603.488 659.024,603.488 720.239,603.488 781.453,603.488 842.668,603.488 \n",
       "  903.882,603.488 965.097,603.488 1026.31,603.488 1087.53,603.488 1148.74,603.488 1209.95,603.488 1271.17,603.488 1332.38,603.488 1393.6,603.488 1454.81,603.488 \n",
       "  1516.03,603.488 \n",
       "  \"/>\n",
       "<circle clip-path=\"url(#clip4302)\" style=\"fill:#000000; stroke:none; fill-opacity:1\" cx=\"291.738\" cy=\"603.488\" r=\"18\"/>\n",
       "<circle clip-path=\"url(#clip4302)\" style=\"fill:#3da44d; stroke:none; fill-opacity:1\" cx=\"291.738\" cy=\"603.488\" r=\"14\"/>\n",
       "<circle clip-path=\"url(#clip4302)\" style=\"fill:#000000; stroke:none; fill-opacity:1\" cx=\"291.738\" cy=\"603.488\" r=\"18\"/>\n",
       "<circle clip-path=\"url(#clip4302)\" style=\"fill:#3da44d; stroke:none; fill-opacity:1\" cx=\"291.738\" cy=\"603.488\" r=\"14\"/>\n",
       "<circle clip-path=\"url(#clip4302)\" style=\"fill:#000000; stroke:none; fill-opacity:1\" cx=\"666.31\" cy=\"603.488\" r=\"18\"/>\n",
       "<circle clip-path=\"url(#clip4302)\" style=\"fill:#3da44d; stroke:none; fill-opacity:1\" cx=\"666.31\" cy=\"603.488\" r=\"14\"/>\n",
       "<circle clip-path=\"url(#clip4302)\" style=\"fill:#000000; stroke:none; fill-opacity:1\" cx=\"875.106\" cy=\"603.488\" r=\"18\"/>\n",
       "<circle clip-path=\"url(#clip4302)\" style=\"fill:#3da44d; stroke:none; fill-opacity:1\" cx=\"875.106\" cy=\"603.488\" r=\"14\"/>\n",
       "<circle clip-path=\"url(#clip4302)\" style=\"fill:#000000; stroke:none; fill-opacity:1\" cx=\"1056.07\" cy=\"603.488\" r=\"18\"/>\n",
       "<circle clip-path=\"url(#clip4302)\" style=\"fill:#3da44d; stroke:none; fill-opacity:1\" cx=\"1056.07\" cy=\"603.488\" r=\"14\"/>\n",
       "<path clip-path=\"url(#clip4300)\" d=\"\n",
       "M1200.26 264.204 L1504.76 264.204 L1504.76 82.7641 L1200.26 82.7641  Z\n",
       "  \" fill=\"#ffffff\" fill-rule=\"evenodd\" fill-opacity=\"1\"/>\n",
       "<polyline clip-path=\"url(#clip4300)\" style=\"stroke:#000000; stroke-width:4; stroke-opacity:1; fill:none\" points=\"\n",
       "  1200.26,264.204 1504.76,264.204 1504.76,82.7641 1200.26,82.7641 1200.26,264.204 \n",
       "  \"/>\n",
       "<polyline clip-path=\"url(#clip4300)\" style=\"stroke:#009af9; stroke-width:4; stroke-opacity:1; fill:none\" points=\"\n",
       "  1216.26,143.244 1312.26,143.244 \n",
       "  \"/>\n",
       "<g clip-path=\"url(#clip4300)\">\n",
       "<text style=\"fill:#000000; fill-opacity:1; font-family:Arial,Helvetica Neue,Helvetica,sans-serif; font-size:48px; text-anchor:start;\" transform=\"rotate(0, 1328.26, 160.744)\" x=\"1328.26\" y=\"160.744\">função</text>\n",
       "</g>\n",
       "<circle clip-path=\"url(#clip4300)\" style=\"fill:#000000; stroke:none; fill-opacity:1\" cx=\"1272.26\" cy=\"203.724\" r=\"25\"/>\n",
       "<circle clip-path=\"url(#clip4300)\" style=\"fill:#3da44d; stroke:none; fill-opacity:1\" cx=\"1272.26\" cy=\"203.724\" r=\"21\"/>\n",
       "<g clip-path=\"url(#clip4300)\">\n",
       "<text style=\"fill:#000000; fill-opacity:1; font-family:Arial,Helvetica Neue,Helvetica,sans-serif; font-size:48px; text-anchor:start;\" transform=\"rotate(0, 1328.26, 221.224)\" x=\"1328.26\" y=\"221.224\">raiz</text>\n",
       "</g>\n",
       "</svg>\n"
      ]
     },
     "execution_count": 85,
     "metadata": {},
     "output_type": "execute_result"
    }
   ],
   "source": [
    "using Plots\n",
    "gr()\n",
    "\n",
    "plot(0:0.1:20, f, label = \"função\", size = (400, 300))\n",
    "plot!(0:20, zero, label = \"\")\n",
    "scatter!(Resultado2.raiz, zero, label = \"raiz\", \n",
    "    xaxis = (\"x\",  0:1:20), \n",
    "    yaxis = (\"y\", -500:50:500))"
   ]
  },
  {
   "cell_type": "code",
   "execution_count": 86,
   "metadata": {},
   "outputs": [],
   "source": [
    "# Gravando os dados em um arquivo CSV\n",
    "CSV.write(\"Resultado2.csv\", Resultado2);"
   ]
  },
  {
   "cell_type": "markdown",
   "metadata": {},
   "source": [
    "**Outa forma de adicionar dados ao final de um Dataframe**\n",
    "\n",
    "Sintaxe:\n",
    "\n",
    "```julia\n",
    "vcat(nome_Dataframe, DataFrame(coluna1 = dados, coluna2 = dados))\n",
    "```\n",
    "Ou\n",
    "```julia\n",
    "push!(nome_dataframe, [dado_col_1, dado_col_2]) \n",
    "```"
   ]
  },
  {
   "cell_type": "markdown",
   "metadata": {},
   "source": [
    "**Adicionando um único valor de raiz**"
   ]
  },
  {
   "cell_type": "code",
   "execution_count": 87,
   "metadata": {
    "scrolled": true
   },
   "outputs": [
    {
     "data": {
      "text/html": [
       "<table class=\"data-frame\"><thead><tr><th></th><th>xi</th><th>raiz</th></tr><tr><th></th><th>Int64</th><th>Float64</th></tr></thead><tbody><p>5 rows × 2 columns</p><tr><th>1</th><td>0</td><td>0.0</td></tr><tr><th>2</th><td>2</td><td>0.0</td></tr><tr><th>3</th><td>6</td><td>6.11902</td></tr><tr><th>4</th><td>9</td><td>9.5299</td></tr><tr><th>5</th><td>13</td><td>12.4862</td></tr></tbody></table>"
      ],
      "text/latex": [
       "\\begin{tabular}{r|cc}\n",
       "\t& xi & raiz\\\\\n",
       "\t\\hline\n",
       "\t& Int64 & Float64\\\\\n",
       "\t\\hline\n",
       "\t1 & 0 & 0.0 \\\\\n",
       "\t2 & 2 & 0.0 \\\\\n",
       "\t3 & 6 & 6.11902 \\\\\n",
       "\t4 & 9 & 9.5299 \\\\\n",
       "\t5 & 13 & 12.4862 \\\\\n",
       "\\end{tabular}\n"
      ],
      "text/plain": [
       "5×2 DataFrame\n",
       "│ Row │ xi    │ raiz    │\n",
       "│     │ \u001b[90mInt64\u001b[39m │ \u001b[90mFloat64\u001b[39m │\n",
       "├─────┼───────┼─────────┤\n",
       "│ 1   │ 0     │ 0.0     │\n",
       "│ 2   │ 2     │ 0.0     │\n",
       "│ 3   │ 6     │ 6.11902 │\n",
       "│ 4   │ 9     │ 9.5299  │\n",
       "│ 5   │ 13    │ 12.4862 │"
      ]
     },
     "execution_count": 87,
     "metadata": {},
     "output_type": "execute_result"
    }
   ],
   "source": [
    "Resultado2 = CSV.read(\"Resultado2.csv\")"
   ]
  },
  {
   "cell_type": "code",
   "execution_count": 88,
   "metadata": {},
   "outputs": [
    {
     "data": {
      "text/html": [
       "<table class=\"data-frame\"><thead><tr><th></th><th>xi</th><th>raiz</th></tr><tr><th></th><th>Int64</th><th>BigFloat</th></tr></thead><tbody><p>6 rows × 2 columns</p><tr><th>1</th><td>0</td><td>0.0</td></tr><tr><th>2</th><td>2</td><td>0.0</td></tr><tr><th>3</th><td>6</td><td>6.11902</td></tr><tr><th>4</th><td>9</td><td>9.5299</td></tr><tr><th>5</th><td>13</td><td>12.4862</td></tr><tr><th>6</th><td>60</td><td>59.707</td></tr></tbody></table>"
      ],
      "text/latex": [
       "\\begin{tabular}{r|cc}\n",
       "\t& xi & raiz\\\\\n",
       "\t\\hline\n",
       "\t& Int64 & BigFloat\\\\\n",
       "\t\\hline\n",
       "\t1 & 0 & 0.0 \\\\\n",
       "\t2 & 2 & 0.0 \\\\\n",
       "\t3 & 6 & 6.11902 \\\\\n",
       "\t4 & 9 & 9.5299 \\\\\n",
       "\t5 & 13 & 12.4862 \\\\\n",
       "\t6 & 60 & 59.707 \\\\\n",
       "\\end{tabular}\n"
      ],
      "text/plain": [
       "6×2 DataFrame\n",
       "│ Row │ xi    │ raiz     │\n",
       "│     │ \u001b[90mInt64\u001b[39m │ \u001b[90mBigFloat\u001b[39m │\n",
       "├─────┼───────┼──────────┤\n",
       "│ 1   │ 0     │ 0.0      │\n",
       "│ 2   │ 2     │ 0.0      │\n",
       "│ 3   │ 6     │ 6.11902  │\n",
       "│ 4   │ 9     │ 9.5299   │\n",
       "│ 5   │ 13    │ 12.4862  │\n",
       "│ 6   │ 60    │ 59.707   │"
      ]
     },
     "execution_count": 88,
     "metadata": {},
     "output_type": "execute_result"
    }
   ],
   "source": [
    "vcat(Resultado2, DataFrame(xi = 60, raiz = float(nsolve(f(x), 60))))"
   ]
  },
  {
   "cell_type": "markdown",
   "metadata": {},
   "source": [
    "**Adicionando vários valores de raizes**"
   ]
  },
  {
   "cell_type": "code",
   "execution_count": 89,
   "metadata": {},
   "outputs": [
    {
     "data": {
      "text/plain": [
       "4-element Array{Float64,1}:\n",
       "  62.81593287133609 \n",
       "  69.10056621235024 \n",
       "  75.38495805125963 \n",
       " -15.771411695083252"
      ]
     },
     "execution_count": 89,
     "metadata": {},
     "output_type": "execute_result"
    }
   ],
   "source": [
    "# vetor de raízes aproximadas e vetor de raizes calculadas pelo SymPy\n",
    "novos_xi = [62.0, 70.0, 75.0, 80.0] \n",
    "\n",
    "novas_raizes = float([nsolve(f(x), raiz) for raiz = novos_xi])"
   ]
  },
  {
   "cell_type": "code",
   "execution_count": 90,
   "metadata": {},
   "outputs": [
    {
     "data": {
      "text/html": [
       "<table class=\"data-frame\"><thead><tr><th></th><th>xi</th><th>raiz</th></tr><tr><th></th><th>Float64</th><th>Float64</th></tr></thead><tbody><p>9 rows × 2 columns</p><tr><th>1</th><td>0.0</td><td>0.0</td></tr><tr><th>2</th><td>2.0</td><td>0.0</td></tr><tr><th>3</th><td>6.0</td><td>6.11902</td></tr><tr><th>4</th><td>9.0</td><td>9.5299</td></tr><tr><th>5</th><td>13.0</td><td>12.4862</td></tr><tr><th>6</th><td>62.0</td><td>62.8159</td></tr><tr><th>7</th><td>70.0</td><td>69.1006</td></tr><tr><th>8</th><td>75.0</td><td>75.385</td></tr><tr><th>9</th><td>80.0</td><td>-15.7714</td></tr></tbody></table>"
      ],
      "text/latex": [
       "\\begin{tabular}{r|cc}\n",
       "\t& xi & raiz\\\\\n",
       "\t\\hline\n",
       "\t& Float64 & Float64\\\\\n",
       "\t\\hline\n",
       "\t1 & 0.0 & 0.0 \\\\\n",
       "\t2 & 2.0 & 0.0 \\\\\n",
       "\t3 & 6.0 & 6.11902 \\\\\n",
       "\t4 & 9.0 & 9.5299 \\\\\n",
       "\t5 & 13.0 & 12.4862 \\\\\n",
       "\t6 & 62.0 & 62.8159 \\\\\n",
       "\t7 & 70.0 & 69.1006 \\\\\n",
       "\t8 & 75.0 & 75.385 \\\\\n",
       "\t9 & 80.0 & -15.7714 \\\\\n",
       "\\end{tabular}\n"
      ],
      "text/plain": [
       "9×2 DataFrame\n",
       "│ Row │ xi      │ raiz     │\n",
       "│     │ \u001b[90mFloat64\u001b[39m │ \u001b[90mFloat64\u001b[39m  │\n",
       "├─────┼─────────┼──────────┤\n",
       "│ 1   │ 0.0     │ 0.0      │\n",
       "│ 2   │ 2.0     │ 0.0      │\n",
       "│ 3   │ 6.0     │ 6.11902  │\n",
       "│ 4   │ 9.0     │ 9.5299   │\n",
       "│ 5   │ 13.0    │ 12.4862  │\n",
       "│ 6   │ 62.0    │ 62.8159  │\n",
       "│ 7   │ 70.0    │ 69.1006  │\n",
       "│ 8   │ 75.0    │ 75.385   │\n",
       "│ 9   │ 80.0    │ -15.7714 │"
      ]
     },
     "execution_count": 90,
     "metadata": {},
     "output_type": "execute_result"
    }
   ],
   "source": [
    "Resultado2 = vcat(Resultado2, DataFrame(xi = novos_xi, raiz = novas_raizes))"
   ]
  },
  {
   "cell_type": "markdown",
   "metadata": {
    "collapsed": true
   },
   "source": [
    "## REFERENCIAS\n",
    "\n",
    "JOSHI, A. . **Julia for Data Science**. 1. ed. Birmingham-UK: Packt Publishing Ltd, 2016, ISBN 978-1-78528-969-9  "
   ]
  }
 ],
 "metadata": {
  "@webio": {
   "lastCommId": null,
   "lastKernelId": null
  },
  "anaconda-cloud": {},
  "kernelspec": {
   "display_name": "Julia 1.2.0",
   "language": "julia",
   "name": "julia-1.2"
  },
  "language_info": {
   "file_extension": ".jl",
   "mimetype": "application/julia",
   "name": "julia",
   "version": "1.2.0"
  },
  "latex_envs": {
   "LaTeX_envs_menu_present": true,
   "autocomplete": true,
   "bibliofile": "biblio.bib",
   "cite_by": "apalike",
   "current_citInitial": 1,
   "eqLabelWithNumbers": true,
   "eqNumInitial": 1,
   "hotkeys": {
    "equation": "Ctrl-E",
    "itemize": "Ctrl-I"
   },
   "labels_anchors": false,
   "latex_user_defs": false,
   "report_style_numbering": false,
   "user_envs_cfg": false
  }
 },
 "nbformat": 4,
 "nbformat_minor": 1
}
