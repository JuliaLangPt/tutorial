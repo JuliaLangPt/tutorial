{
 "cells": [
  {
   "cell_type": "markdown",
   "metadata": {},
   "source": [
    "# FUNÇÕES PARTE II"
   ]
  },
  {
   "cell_type": "markdown",
   "metadata": {},
   "source": [
    "## ARGUMENTOS: TIPADOS, PADRONIZADOS E NOMEADOS\n",
    "\n",
    "Será utilizado a função `empuxo` em várias versões tendo como base os argumentos volume, densidade e aceleração da gravidade. Dada a função `empuxo` definida de forma usual:"
   ]
  },
  {
   "cell_type": "code",
   "execution_count": 1,
   "metadata": {},
   "outputs": [
    {
     "data": {
      "text/plain": [
       "empuxo_0 (generic function with 1 method)"
      ]
     },
     "execution_count": 1,
     "metadata": {},
     "output_type": "execute_result"
    }
   ],
   "source": [
    "function empuxo_0(v, d, g)\n",
    "    println(\"Volume: $v m³\")\n",
    "    println(\"Densidade: $d kg/m³\")\n",
    "    println(\"A.gravidade: $g m/s²\")\n",
    "    return v*d*g\n",
    "end"
   ]
  },
  {
   "cell_type": "code",
   "execution_count": 2,
   "metadata": {
    "scrolled": false
   },
   "outputs": [
    {
     "name": "stdout",
     "output_type": "stream",
     "text": [
      "Volume: 0.05 m³\n",
      "Densidade: 1 kg/m³\n",
      "A.gravidade: 10 m/s²\n"
     ]
    },
    {
     "data": {
      "text/plain": [
       "0.5"
      ]
     },
     "execution_count": 2,
     "metadata": {},
     "output_type": "execute_result"
    }
   ],
   "source": [
    "empuxo_0(0.05, 1, 10)"
   ]
  },
  {
   "cell_type": "markdown",
   "metadata": {},
   "source": [
    "**Argumentos Tipados**\n",
    "\n",
    "É possível definir um tipo para um argumento dentre os vários tipos disponíveis ou construídos em Julia. Dessa forma a função somente aceitará os valores do tipo definido e qualquer valor diferente resultará em erro. Isto é útil quando, por exemplo, deseja-se garantir que um argumento seja um número inteiro.\n",
    "\n",
    "Em algumas linguagens onde a tipagem das variáveis é opcional, declarar o tipo das variáveis resulta numa melhora de performance. No entanto, este, [geralmente, **não** é o caso em Julia](https://docs.julialang.org/en/v1/manual/performance-tips/#Type-declarations-1)."
   ]
  },
  {
   "cell_type": "code",
   "execution_count": 3,
   "metadata": {
    "scrolled": true
   },
   "outputs": [
    {
     "data": {
      "text/plain": [
       "empuxo_1 (generic function with 1 method)"
      ]
     },
     "execution_count": 3,
     "metadata": {},
     "output_type": "execute_result"
    }
   ],
   "source": [
    "function empuxo_1(v, d::Float64, g::Float64)\n",
    "    println(\"Volume: $v m³\")\n",
    "    println(\"Densidade: $d kg/m³\")\n",
    "    println(\"A.gravidade: $g m/s²\")\n",
    "    return v*d*g\n",
    "end"
   ]
  },
  {
   "cell_type": "code",
   "execution_count": 4,
   "metadata": {
    "scrolled": true
   },
   "outputs": [
    {
     "name": "stdout",
     "output_type": "stream",
     "text": [
      "Volume: 0.05 m³\n",
      "Densidade: 1.0 kg/m³\n",
      "A.gravidade: 10.0 m/s²\n"
     ]
    },
    {
     "data": {
      "text/plain": [
       "0.5"
      ]
     },
     "execution_count": 4,
     "metadata": {},
     "output_type": "execute_result"
    }
   ],
   "source": [
    "empuxo_1(0.05, 1.0, 10.0)"
   ]
  },
  {
   "cell_type": "code",
   "execution_count": 5,
   "metadata": {
    "scrolled": true
   },
   "outputs": [
    {
     "ename": "MethodError",
     "evalue": "MethodError: no method matching empuxo_1(::Float64, ::Float64, ::Int64)\nClosest candidates are:\n  empuxo_1(::Any, ::Float64, !Matched::Float64) at In[3]:2",
     "output_type": "error",
     "traceback": [
      "MethodError: no method matching empuxo_1(::Float64, ::Float64, ::Int64)\nClosest candidates are:\n  empuxo_1(::Any, ::Float64, !Matched::Float64) at In[3]:2",
      "",
      "Stacktrace:",
      " [1] top-level scope at In[5]:1"
     ]
    }
   ],
   "source": [
    "# passando os tipos Float64, Float64 e Int64\n",
    "empuxo_1(0.05, 1.0, 10)"
   ]
  },
  {
   "cell_type": "markdown",
   "metadata": {},
   "source": [
    "Observe que o erro `\"MethodError: no method matching empuxo_1(::Float64, ::Float64, ::Int64)\"` significa que não há um método compatível com os argumentos passados. O erro está no argumento `gravidade` que foi passado como inteiro e deve ser do tipo `Float64`. Julia informa o local do erro e tipo correto em  `!Matched::Float64`."
   ]
  },
  {
   "cell_type": "markdown",
   "metadata": {},
   "source": [
    "**Argumentos padronizados**"
   ]
  },
  {
   "cell_type": "code",
   "execution_count": 6,
   "metadata": {},
   "outputs": [
    {
     "data": {
      "text/plain": [
       "empuxo_2 (generic function with 3 methods)"
      ]
     },
     "execution_count": 6,
     "metadata": {},
     "output_type": "execute_result"
    }
   ],
   "source": [
    "# Função genérica\n",
    "function empuxo_2(v, d = 1.0, g = 9.8)\n",
    "    println(\"Volume: $v m³\")\n",
    "    println(\"Densidade: $d kg/m³\")\n",
    "    println(\"A.gravidade: $g m/s²\")\n",
    "    return v*d*g\n",
    "end"
   ]
  },
  {
   "cell_type": "code",
   "execution_count": 7,
   "metadata": {},
   "outputs": [
    {
     "name": "stdout",
     "output_type": "stream",
     "text": [
      "Volume: 0.05 m³\n",
      "Densidade: 1.0 kg/m³\n",
      "A.gravidade: 10 m/s²\n"
     ]
    },
    {
     "data": {
      "text/plain": [
       "0.5"
      ]
     },
     "execution_count": 7,
     "metadata": {},
     "output_type": "execute_result"
    }
   ],
   "source": [
    "empuxo_2(0.05, 1.0, 10)"
   ]
  },
  {
   "cell_type": "code",
   "execution_count": 8,
   "metadata": {},
   "outputs": [
    {
     "name": "stdout",
     "output_type": "stream",
     "text": [
      "Volume: 0.05 m³\n",
      "Densidade: 1.0 kg/m³\n",
      "A.gravidade: 9.8 m/s²\n"
     ]
    },
    {
     "data": {
      "text/plain": [
       "0.49000000000000005"
      ]
     },
     "execution_count": 8,
     "metadata": {},
     "output_type": "execute_result"
    }
   ],
   "source": [
    "# se não for passado nenhum outro argumento a função utiliza os valores padrões\n",
    "empuxo_2(0.05)"
   ]
  },
  {
   "cell_type": "code",
   "execution_count": 9,
   "metadata": {
    "scrolled": false
   },
   "outputs": [
    {
     "name": "stdout",
     "output_type": "stream",
     "text": [
      "Volume: 0.05 m³\n",
      "Densidade: 10 kg/m³\n",
      "A.gravidade: 1.0 m/s²\n"
     ]
    },
    {
     "data": {
      "text/plain": [
       "0.5"
      ]
     },
     "execution_count": 9,
     "metadata": {},
     "output_type": "execute_result"
    }
   ],
   "source": [
    "# a ordem dos argumentos importa\n",
    "empuxo_2(0.05, 10, 1.0)"
   ]
  },
  {
   "cell_type": "markdown",
   "metadata": {},
   "source": [
    "Observe que neste exemplo a ordem dos elementos é importante e embora o valor calculado esteja correto, os valores das variáveis estão trocados."
   ]
  },
  {
   "cell_type": "markdown",
   "metadata": {},
   "source": [
    "**Argumentos Nomeados**\n",
    "\n",
    "Algumas funções precisam de um grande número de argumentos ou têm um grande número de comportamentos. Lembrar de todos os argumentos e ordem de entrada pode ser difícil. Dessa forma, os argumentos nomeados podem tornar essas interfaces complexas mais fáceis de usar e estender permitindo que os argumentos sejam identificados por nome em vez de apenas por posição.\n",
    "\n",
    "Para dizer que os argumentos são nomeados, é preciso colocar um ponto-vírgula `;` na lista de argumentos."
   ]
  },
  {
   "cell_type": "code",
   "execution_count": 10,
   "metadata": {
    "scrolled": true
   },
   "outputs": [
    {
     "data": {
      "text/plain": [
       "empuxo_3 (generic function with 1 method)"
      ]
     },
     "execution_count": 10,
     "metadata": {},
     "output_type": "execute_result"
    }
   ],
   "source": [
    "function empuxo_3(v; d = 1.0, g = 9.8)\n",
    "    println(\"Volume: $v m³\")\n",
    "    println(\"Densidade: $d kg/m³\")\n",
    "    println(\"A.gravidade: $g m/s²\")\n",
    "    return d*g*v\n",
    "end"
   ]
  },
  {
   "cell_type": "code",
   "execution_count": 11,
   "metadata": {},
   "outputs": [
    {
     "name": "stdout",
     "output_type": "stream",
     "text": [
      "Volume: 0.5 m³\n",
      "Densidade: 0.9 kg/m³\n",
      "A.gravidade: 10 m/s²\n"
     ]
    },
    {
     "data": {
      "text/plain": [
       "4.5"
      ]
     },
     "execution_count": 11,
     "metadata": {},
     "output_type": "execute_result"
    }
   ],
   "source": [
    "# a ordem dos argumentos não importa desde que seja indicado o nome do argumento e valor\n",
    "empuxo_3(0.5, g = 10 , d = 0.9)"
   ]
  },
  {
   "cell_type": "code",
   "execution_count": 12,
   "metadata": {},
   "outputs": [
    {
     "name": "stdout",
     "output_type": "stream",
     "text": [
      "Volume: 0.5 m³\n",
      "Densidade: 0.9 kg/m³\n",
      "A.gravidade: 10 m/s²\n"
     ]
    },
    {
     "data": {
      "text/plain": [
       "4.5"
      ]
     },
     "execution_count": 12,
     "metadata": {},
     "output_type": "execute_result"
    }
   ],
   "source": [
    "# a ordem dos argumentos não importa desde que seja indicado o nome do argumento e valor\n",
    "empuxo_3(0.5 , d = 0.9 , g = 10)"
   ]
  },
  {
   "cell_type": "code",
   "execution_count": 13,
   "metadata": {},
   "outputs": [
    {
     "name": "stdout",
     "output_type": "stream",
     "text": [
      "Volume: 0.5 m³\n",
      "Densidade: 1.0 kg/m³\n",
      "A.gravidade: 9.8 m/s²\n"
     ]
    },
    {
     "data": {
      "text/plain": [
       "4.9"
      ]
     },
     "execution_count": 13,
     "metadata": {},
     "output_type": "execute_result"
    }
   ],
   "source": [
    "# se não for passado nenhum outro argumento a função utiliza os valores padrões\n",
    "empuxo_3(0.5)"
   ]
  },
  {
   "cell_type": "code",
   "execution_count": 14,
   "metadata": {
    "scrolled": false
   },
   "outputs": [
    {
     "ename": "MethodError",
     "evalue": "MethodError: no method matching empuxo_3(::Float64, ::Float64, ::Int64)\nClosest candidates are:\n  empuxo_3(::Any; d, g) at In[10]:2",
     "output_type": "error",
     "traceback": [
      "MethodError: no method matching empuxo_3(::Float64, ::Float64, ::Int64)\nClosest candidates are:\n  empuxo_3(::Any; d, g) at In[10]:2",
      "",
      "Stacktrace:",
      " [1] top-level scope at In[14]:1"
     ]
    }
   ],
   "source": [
    "# só é possível passar parâmetros indicando o nome do argumento e valor\n",
    "empuxo_3(0.5, 0.9 , 10)"
   ]
  },
  {
   "cell_type": "code",
   "execution_count": 15,
   "metadata": {},
   "outputs": [
    {
     "data": {
      "text/plain": [
       "empuxo_3b (generic function with 1 method)"
      ]
     },
     "execution_count": 15,
     "metadata": {},
     "output_type": "execute_result"
    }
   ],
   "source": [
    "function empuxo_3b(;v, d = 1.0, g = 9.8)\n",
    "    println(\"Volume: $v m³\")\n",
    "    println(\"Densidade: $d kg/m³\")\n",
    "    println(\"A.gravidade: $g m/s²\")\n",
    "    return d*g*v\n",
    "end"
   ]
  },
  {
   "cell_type": "code",
   "execution_count": 16,
   "metadata": {},
   "outputs": [
    {
     "name": "stdout",
     "output_type": "stream",
     "text": [
      "Volume: 0.5 m³\n",
      "Densidade: 1.4 kg/m³\n",
      "A.gravidade: 9.87 m/s²\n"
     ]
    },
    {
     "data": {
      "text/plain": [
       "6.908999999999999"
      ]
     },
     "execution_count": 16,
     "metadata": {},
     "output_type": "execute_result"
    }
   ],
   "source": [
    "empuxo_3b(d=1.4, g=9.87, v=0.5)"
   ]
  },
  {
   "cell_type": "markdown",
   "metadata": {},
   "source": [
    "**Argumentos indefinidos**\n",
    "\n",
    "Argumentos indefinidos são \"declarados\" com três pontos `...`\n",
    "\n",
    "É útil quando deseja-se ter uma lista indefinida de argumentos. Esta estrutura de programação é mais usual num [paradigma funcional](https://pt.wikipedia.org/wiki/Programa%C3%A7%C3%A3o_funcional) em linguagens como Lisp e Haskell."
   ]
  },
  {
   "cell_type": "code",
   "execution_count": 17,
   "metadata": {
    "scrolled": false
   },
   "outputs": [
    {
     "data": {
      "text/plain": [
       "f1 (generic function with 1 method)"
      ]
     },
     "execution_count": 17,
     "metadata": {},
     "output_type": "execute_result"
    }
   ],
   "source": [
    "function f1(a, b...)\n",
    "    sum([a, b...])\n",
    "end"
   ]
  },
  {
   "cell_type": "code",
   "execution_count": 18,
   "metadata": {
    "scrolled": true
   },
   "outputs": [
    {
     "data": {
      "text/plain": [
       "10"
      ]
     },
     "execution_count": 18,
     "metadata": {},
     "output_type": "execute_result"
    }
   ],
   "source": [
    "f1(1, 2, 3, 4)"
   ]
  },
  {
   "cell_type": "markdown",
   "metadata": {},
   "source": [
    "O mesmo exemplo utilizando função anônima"
   ]
  },
  {
   "cell_type": "code",
   "execution_count": 19,
   "metadata": {
    "scrolled": true
   },
   "outputs": [
    {
     "data": {
      "text/plain": [
       "10"
      ]
     },
     "execution_count": 19,
     "metadata": {},
     "output_type": "execute_result"
    }
   ],
   "source": [
    "((a, b...) -> sum([a,b...]))(1, 2, 3, 4)"
   ]
  },
  {
   "cell_type": "markdown",
   "metadata": {},
   "source": [
    "**Operadores como argumento**\n",
    "\n",
    "É possível passar operadores (e funções) como argumentos para outras funções."
   ]
  },
  {
   "cell_type": "code",
   "execution_count": 20,
   "metadata": {},
   "outputs": [
    {
     "data": {
      "text/plain": [
       "f2 (generic function with 1 method)"
      ]
     },
     "execution_count": 20,
     "metadata": {},
     "output_type": "execute_result"
    }
   ],
   "source": [
    "function f2(operador, x, y...)\n",
    "    return operador(x, y...)\n",
    "end"
   ]
  },
  {
   "cell_type": "code",
   "execution_count": 21,
   "metadata": {},
   "outputs": [
    {
     "data": {
      "text/plain": [
       "23"
      ]
     },
     "execution_count": 21,
     "metadata": {},
     "output_type": "execute_result"
    }
   ],
   "source": [
    "f2(+, 10, 1, 10, 2)"
   ]
  },
  {
   "cell_type": "code",
   "execution_count": 22,
   "metadata": {
    "scrolled": true
   },
   "outputs": [
    {
     "data": {
      "text/plain": [
       "10"
      ]
     },
     "execution_count": 22,
     "metadata": {},
     "output_type": "execute_result"
    }
   ],
   "source": [
    "f2(lcm, 10, 1, 10, 2)"
   ]
  },
  {
   "cell_type": "markdown",
   "metadata": {},
   "source": [
    "## DESPACHO MÚLTIPLO\n",
    "\n",
    "Julia permite que uma função tenha mais de um método de tal forma que ele é determinado conforme os argumentos quando a função é executada. Em linguagens orientadas a objetos tradicionais, um método é escolhido com base apenas no tipo de objeto e esse paradigma é chamado de despacho único. Em Julia, a combinação de todos os argumentos passados a uma função determina qual método é escolhido. Esta é a base do despacho múltiplo.\n",
    "\n",
    "Para definir um novo método para uma função (também chamado de sobrecarga), basta usar o mesmo nome da função, mas com diferentes tipos de argumento. Uma lista de todos os métodos é armazenada em uma tabela na própria função chamada de *vtable*. Quando uma função é chamada, o compilador pesquisará na *table* da função na hora da execução para descobrir qual o método deve chamar com base nos argumentos passados."
   ]
  },
  {
   "cell_type": "code",
   "execution_count": 23,
   "metadata": {
    "scrolled": true
   },
   "outputs": [
    {
     "data": {
      "text/plain": [
       "empuxo_multiplo (generic function with 4 methods)"
      ]
     },
     "execution_count": 23,
     "metadata": {},
     "output_type": "execute_result"
    }
   ],
   "source": [
    "function empuxo_multiplo(v, d, g)\n",
    "    println(\"Volume: $v m³\")\n",
    "    println(\"Densidade: $d kg/m³\")\n",
    "    println(\"A.gravidade: $g m/s²\")\n",
    "    return v*d*g\n",
    "end\n",
    "\n",
    "function empuxo_multiplo(v, d::Float64, g::Float64)\n",
    "    println(\"Volume: $v m³\")\n",
    "    println(\"Densidade: $d kg/m³\")\n",
    "    println(\"A.gravidade: $g m/s²\")\n",
    "    return v*d*g\n",
    "end\n",
    "\n",
    "function empuxo_multiplo(v, d = 1.0, g = 9.8)\n",
    "    println(\"Volume: $v m³\")\n",
    "    println(\"Densidade: $d kg/m³\")\n",
    "    println(\"A.gravidade: $g m/s²\")\n",
    "    return v*d*g\n",
    "end\n",
    "\n",
    "function empuxo_multiplo(v; d = 1.0, g = 9.8)\n",
    "    println(\"Volume: $v m³\")\n",
    "    println(\"Densidade: $d kg/m³\")\n",
    "    println(\"A.gravidade: $g m/s²\")\n",
    "    return v*g*d\n",
    "end"
   ]
  },
  {
   "cell_type": "code",
   "execution_count": 24,
   "metadata": {},
   "outputs": [
    {
     "name": "stdout",
     "output_type": "stream",
     "text": [
      "Volume: 0.05 m³\n",
      "Densidade: 1 kg/m³\n",
      "A.gravidade: 10 m/s²\n"
     ]
    },
    {
     "data": {
      "text/plain": [
       "0.5"
      ]
     },
     "execution_count": 24,
     "metadata": {},
     "output_type": "execute_result"
    }
   ],
   "source": [
    "empuxo_multiplo(0.05, 1, 10)"
   ]
  },
  {
   "cell_type": "code",
   "execution_count": 25,
   "metadata": {
    "scrolled": true
   },
   "outputs": [
    {
     "name": "stdout",
     "output_type": "stream",
     "text": [
      "Volume: 0.05 m³\n",
      "Densidade: 1.0 kg/m³\n",
      "A.gravidade: 10.0 m/s²\n"
     ]
    },
    {
     "data": {
      "text/plain": [
       "0.5"
      ]
     },
     "execution_count": 25,
     "metadata": {},
     "output_type": "execute_result"
    }
   ],
   "source": [
    "empuxo_multiplo(0.05, 1.0, 10.0)"
   ]
  },
  {
   "cell_type": "code",
   "execution_count": 26,
   "metadata": {
    "scrolled": true
   },
   "outputs": [
    {
     "name": "stdout",
     "output_type": "stream",
     "text": [
      "Volume: 0.05 m³\n",
      "Densidade: 1.0 kg/m³\n",
      "A.gravidade: 9.8 m/s²\n"
     ]
    },
    {
     "data": {
      "text/plain": [
       "0.49000000000000005"
      ]
     },
     "execution_count": 26,
     "metadata": {},
     "output_type": "execute_result"
    }
   ],
   "source": [
    "empuxo_multiplo(0.05)"
   ]
  },
  {
   "cell_type": "code",
   "execution_count": 27,
   "metadata": {
    "scrolled": true
   },
   "outputs": [
    {
     "name": "stdout",
     "output_type": "stream",
     "text": [
      "Volume: 0.05 m³\n",
      "Densidade: 1.0 kg/m³\n",
      "A.gravidade: 10 m/s²\n"
     ]
    },
    {
     "data": {
      "text/plain": [
       "0.5"
      ]
     },
     "execution_count": 27,
     "metadata": {},
     "output_type": "execute_result"
    }
   ],
   "source": [
    "empuxo_multiplo(0.05 , d = 1.0 , g = 10)"
   ]
  },
  {
   "cell_type": "code",
   "execution_count": 28,
   "metadata": {
    "scrolled": true
   },
   "outputs": [
    {
     "name": "stdout",
     "output_type": "stream",
     "text": [
      "Volume: 0.05 m³\n",
      "Densidade: 1.0 kg/m³\n",
      "A.gravidade: 10 m/s²\n"
     ]
    },
    {
     "data": {
      "text/plain": [
       "0.5"
      ]
     },
     "execution_count": 28,
     "metadata": {},
     "output_type": "execute_result"
    }
   ],
   "source": [
    "# a ordem não importa\n",
    "empuxo_multiplo(0.05 , g = 10 , d = 1.0)"
   ]
  },
  {
   "cell_type": "markdown",
   "metadata": {},
   "source": [
    "**Funções que recebem outras funções como argumento**"
   ]
  },
  {
   "cell_type": "markdown",
   "metadata": {},
   "source": [
    "**Circuito RLC**\n",
    "\n",
    "Um circuito RLC série consiste de um resistor de 300Ω, um capacitor de 3μF  e uma  bobina de 200mH conectados a um  gerador de fem  CA de 110V, no  qual  oscila numa frequência  de 90Hz. Calcular a Impedância.\n",
    "\n",
    "<img src=\"Figuras/RLC.png\" align=\"center\" width=\"250\">"
   ]
  },
  {
   "cell_type": "markdown",
   "metadata": {},
   "source": [
    "Formulas do problema:\n",
    "\n",
    "Reatancia capacitiva ($\\Omega $): $ \\displaystyle X_c = {1 \\over {2 \\pi f c}}$ : \n",
    "\n",
    "Reatancia indutiva ($\\Omega $): $ \\displaystyle X_l = 2 \\pi f l$ \n",
    "\n",
    "Impedancia total ($\\Omega $) : $ \\displaystyle Z_t = \\sqrt{r^2 + (x_l - x_c)^2} $ \n",
    "\n",
    "Sendo $f$ a frequencia (Hz), $c$ a capacitância (F), $l$ a indutância (H) e $r$ a resistencia (ohm)"
   ]
  },
  {
   "cell_type": "code",
   "execution_count": 29,
   "metadata": {
    "scrolled": true
   },
   "outputs": [
    {
     "data": {
      "text/plain": [
       "Zt (generic function with 1 method)"
      ]
     },
     "execution_count": 29,
     "metadata": {},
     "output_type": "execute_result"
    }
   ],
   "source": [
    "# Reatâcia capacitiva em função da frequencia e capacitância\n",
    "Xc(f, c) = 1/(2*pi*f*c)\n",
    "\n",
    "# Reatância Indutiva em função da frequencia e indutância\n",
    "Xl(f, l) = 2*pi*f*l\n",
    "\n",
    "# Impedância Total em fução da Xc, Xl e resistência\n",
    "Zt(xc, xl, r) = sqrt(r^2 + (xl - xc)^2)  "
   ]
  },
  {
   "cell_type": "markdown",
   "metadata": {},
   "source": [
    "Passando os dados da frequencia da rede CA, capacitância do capacitor, indutância da bobina e resistencia:"
   ]
  },
  {
   "cell_type": "code",
   "execution_count": 30,
   "metadata": {},
   "outputs": [
    {
     "data": {
      "text/plain": [
       "562.9600431580267"
      ]
     },
     "execution_count": 30,
     "metadata": {},
     "output_type": "execute_result"
    }
   ],
   "source": [
    "Zt(Xc(90, 3e-6), Xl(90, 200e-3), 300 ) "
   ]
  },
  {
   "cell_type": "markdown",
   "metadata": {},
   "source": [
    "A vantagem desta modelagem é que além de poder passar para a função $Z_t$ as funções definidas de $X_c$ e $X_l$, é possível também passar diretamente os valores. Isto dá mais agilidade ao pesquisador."
   ]
  },
  {
   "cell_type": "code",
   "execution_count": 31,
   "metadata": {
    "scrolled": true
   },
   "outputs": [
    {
     "data": {
      "text/plain": [
       "562.9893071808735"
      ]
     },
     "execution_count": 31,
     "metadata": {},
     "output_type": "execute_result"
    }
   ],
   "source": [
    "# Xc = 589.5 , Xl = 113.1 e r = 300\n",
    "Zt(589.5, 113.1, 300)"
   ]
  },
  {
   "cell_type": "markdown",
   "metadata": {},
   "source": [
    "Dessa forma, podemos visualizar a variação da impedância, por exemplo, em função da frequencia da fonte CA. No exemplo abaixo, a frequencia varia de 1 a 120Hz"
   ]
  },
  {
   "cell_type": "code",
   "execution_count": 32,
   "metadata": {},
   "outputs": [],
   "source": [
    "# Dados de entrada\n",
    "Fq = 1:120\n",
    "ImpT = Zt.(Xc.(Fq, 3e-6), Xl.(Fq, 200e-3), 300 );"
   ]
  },
  {
   "cell_type": "markdown",
   "metadata": {},
   "source": [
    "Perceba que a chamada das funções acima são feitas utilizando ponto (`.`), que é chamado de *broadcasting*. Isto é uma maneira de utilizar as funções e operadores na [forma vetorizada](https://docs.julialang.org/en/v1/manual/mathematical-operations/#man-dot-operators-1), isto é, aplicada sobre um vetor (ou qualquer *array*). Utilizá-lo é importante quando a função é definida de tal forma que espera argumentos escalares. Por exemplo:"
   ]
  },
  {
   "cell_type": "code",
   "execution_count": 33,
   "metadata": {},
   "outputs": [
    {
     "ename": "MethodError",
     "evalue": "MethodError: no method matching abs(::Array{Complex{Int64},1})\nClosest candidates are:\n  abs(!Matched::Pkg.Resolve.MaxSum.FieldValues.FieldValue) at /buildworker/worker/package_linux64/build/usr/share/julia/stdlib/v1.2/Pkg/src/resolve/FieldValues.jl:67\n  abs(!Matched::Pkg.Resolve.VersionWeights.VersionWeight) at /buildworker/worker/package_linux64/build/usr/share/julia/stdlib/v1.2/Pkg/src/resolve/VersionWeights.jl:40\n  abs(!Matched::Missing) at missing.jl:79\n  ...",
     "output_type": "error",
     "traceback": [
      "MethodError: no method matching abs(::Array{Complex{Int64},1})\nClosest candidates are:\n  abs(!Matched::Pkg.Resolve.MaxSum.FieldValues.FieldValue) at /buildworker/worker/package_linux64/build/usr/share/julia/stdlib/v1.2/Pkg/src/resolve/FieldValues.jl:67\n  abs(!Matched::Pkg.Resolve.VersionWeights.VersionWeight) at /buildworker/worker/package_linux64/build/usr/share/julia/stdlib/v1.2/Pkg/src/resolve/VersionWeights.jl:40\n  abs(!Matched::Missing) at missing.jl:79\n  ...",
      "",
      "Stacktrace:",
      " [1] top-level scope at In[33]:1"
     ]
    }
   ],
   "source": [
    "abs( (1im)*collect(1:6) ) # erro MethodError"
   ]
  },
  {
   "cell_type": "code",
   "execution_count": 34,
   "metadata": {},
   "outputs": [
    {
     "data": {
      "text/plain": [
       "6-element Array{Float64,1}:\n",
       " 1.0\n",
       " 2.0\n",
       " 3.0\n",
       " 4.0\n",
       " 5.0\n",
       " 6.0"
      ]
     },
     "execution_count": 34,
     "metadata": {},
     "output_type": "execute_result"
    }
   ],
   "source": [
    "abs.( (1im)*collect(1:6) )"
   ]
  },
  {
   "cell_type": "markdown",
   "metadata": {},
   "source": [
    "Alternativamente, pode ser usado o macro `@.`, que faz com que todas as funções na linha sejam aplicadas na forma vetorizada."
   ]
  },
  {
   "cell_type": "code",
   "execution_count": 35,
   "metadata": {},
   "outputs": [
    {
     "data": {
      "text/plain": [
       "6-element Array{Float64,1}:\n",
       " 1.0\n",
       " 2.0\n",
       " 3.0\n",
       " 4.0\n",
       " 5.0\n",
       " 6.0"
      ]
     },
     "execution_count": 35,
     "metadata": {},
     "output_type": "execute_result"
    }
   ],
   "source": [
    "@. abs( (1im)*collect(1:6) )"
   ]
  },
  {
   "cell_type": "code",
   "execution_count": 36,
   "metadata": {
    "scrolled": false
   },
   "outputs": [
    {
     "data": {
      "image/svg+xml": [
       "<?xml version=\"1.0\" encoding=\"utf-8\"?>\n",
       "<svg xmlns=\"http://www.w3.org/2000/svg\" xmlns:xlink=\"http://www.w3.org/1999/xlink\" width=\"600\" height=\"400\" viewBox=\"0 0 2400 1600\">\n",
       "<defs>\n",
       "  <clipPath id=\"clip9000\">\n",
       "    <rect x=\"0\" y=\"0\" width=\"2400\" height=\"1600\"/>\n",
       "  </clipPath>\n",
       "</defs>\n",
       "<path clip-path=\"url(#clip9000)\" d=\"\n",
       "M0 1600 L2400 1600 L2400 0 L0 0  Z\n",
       "  \" fill=\"#ffffff\" fill-rule=\"evenodd\" fill-opacity=\"1\"/>\n",
       "<defs>\n",
       "  <clipPath id=\"clip9001\">\n",
       "    <rect x=\"480\" y=\"0\" width=\"1681\" height=\"1600\"/>\n",
       "  </clipPath>\n",
       "</defs>\n",
       "<path clip-path=\"url(#clip9000)\" d=\"\n",
       "M309.663 1425.62 L2352.76 1425.62 L2352.76 47.2441 L309.663 47.2441  Z\n",
       "  \" fill=\"#ffffff\" fill-rule=\"evenodd\" fill-opacity=\"1\"/>\n",
       "<defs>\n",
       "  <clipPath id=\"clip9002\">\n",
       "    <rect x=\"309\" y=\"47\" width=\"2044\" height=\"1379\"/>\n",
       "  </clipPath>\n",
       "</defs>\n",
       "<polyline clip-path=\"url(#clip9002)\" style=\"stroke:#000000; stroke-width:2; stroke-opacity:0.1; fill:none\" points=\"\n",
       "  367.486,1425.62 367.486,47.2441 \n",
       "  \"/>\n",
       "<polyline clip-path=\"url(#clip9002)\" style=\"stroke:#000000; stroke-width:2; stroke-opacity:0.1; fill:none\" points=\"\n",
       "  448.471,1425.62 448.471,47.2441 \n",
       "  \"/>\n",
       "<polyline clip-path=\"url(#clip9002)\" style=\"stroke:#000000; stroke-width:2; stroke-opacity:0.1; fill:none\" points=\"\n",
       "  529.457,1425.62 529.457,47.2441 \n",
       "  \"/>\n",
       "<polyline clip-path=\"url(#clip9002)\" style=\"stroke:#000000; stroke-width:2; stroke-opacity:0.1; fill:none\" points=\"\n",
       "  610.442,1425.62 610.442,47.2441 \n",
       "  \"/>\n",
       "<polyline clip-path=\"url(#clip9002)\" style=\"stroke:#000000; stroke-width:2; stroke-opacity:0.1; fill:none\" points=\"\n",
       "  691.427,1425.62 691.427,47.2441 \n",
       "  \"/>\n",
       "<polyline clip-path=\"url(#clip9002)\" style=\"stroke:#000000; stroke-width:2; stroke-opacity:0.1; fill:none\" points=\"\n",
       "  772.412,1425.62 772.412,47.2441 \n",
       "  \"/>\n",
       "<polyline clip-path=\"url(#clip9002)\" style=\"stroke:#000000; stroke-width:2; stroke-opacity:0.1; fill:none\" points=\"\n",
       "  853.397,1425.62 853.397,47.2441 \n",
       "  \"/>\n",
       "<polyline clip-path=\"url(#clip9002)\" style=\"stroke:#000000; stroke-width:2; stroke-opacity:0.1; fill:none\" points=\"\n",
       "  934.382,1425.62 934.382,47.2441 \n",
       "  \"/>\n",
       "<polyline clip-path=\"url(#clip9002)\" style=\"stroke:#000000; stroke-width:2; stroke-opacity:0.1; fill:none\" points=\"\n",
       "  1015.37,1425.62 1015.37,47.2441 \n",
       "  \"/>\n",
       "<polyline clip-path=\"url(#clip9002)\" style=\"stroke:#000000; stroke-width:2; stroke-opacity:0.1; fill:none\" points=\"\n",
       "  1096.35,1425.62 1096.35,47.2441 \n",
       "  \"/>\n",
       "<polyline clip-path=\"url(#clip9002)\" style=\"stroke:#000000; stroke-width:2; stroke-opacity:0.1; fill:none\" points=\"\n",
       "  1177.34,1425.62 1177.34,47.2441 \n",
       "  \"/>\n",
       "<polyline clip-path=\"url(#clip9002)\" style=\"stroke:#000000; stroke-width:2; stroke-opacity:0.1; fill:none\" points=\"\n",
       "  1258.32,1425.62 1258.32,47.2441 \n",
       "  \"/>\n",
       "<polyline clip-path=\"url(#clip9002)\" style=\"stroke:#000000; stroke-width:2; stroke-opacity:0.1; fill:none\" points=\"\n",
       "  1339.31,1425.62 1339.31,47.2441 \n",
       "  \"/>\n",
       "<polyline clip-path=\"url(#clip9002)\" style=\"stroke:#000000; stroke-width:2; stroke-opacity:0.1; fill:none\" points=\"\n",
       "  1420.29,1425.62 1420.29,47.2441 \n",
       "  \"/>\n",
       "<polyline clip-path=\"url(#clip9002)\" style=\"stroke:#000000; stroke-width:2; stroke-opacity:0.1; fill:none\" points=\"\n",
       "  1501.28,1425.62 1501.28,47.2441 \n",
       "  \"/>\n",
       "<polyline clip-path=\"url(#clip9002)\" style=\"stroke:#000000; stroke-width:2; stroke-opacity:0.1; fill:none\" points=\"\n",
       "  1582.26,1425.62 1582.26,47.2441 \n",
       "  \"/>\n",
       "<polyline clip-path=\"url(#clip9002)\" style=\"stroke:#000000; stroke-width:2; stroke-opacity:0.1; fill:none\" points=\"\n",
       "  1663.25,1425.62 1663.25,47.2441 \n",
       "  \"/>\n",
       "<polyline clip-path=\"url(#clip9002)\" style=\"stroke:#000000; stroke-width:2; stroke-opacity:0.1; fill:none\" points=\"\n",
       "  1744.23,1425.62 1744.23,47.2441 \n",
       "  \"/>\n",
       "<polyline clip-path=\"url(#clip9002)\" style=\"stroke:#000000; stroke-width:2; stroke-opacity:0.1; fill:none\" points=\"\n",
       "  1825.22,1425.62 1825.22,47.2441 \n",
       "  \"/>\n",
       "<polyline clip-path=\"url(#clip9002)\" style=\"stroke:#000000; stroke-width:2; stroke-opacity:0.1; fill:none\" points=\"\n",
       "  1906.2,1425.62 1906.2,47.2441 \n",
       "  \"/>\n",
       "<polyline clip-path=\"url(#clip9002)\" style=\"stroke:#000000; stroke-width:2; stroke-opacity:0.1; fill:none\" points=\"\n",
       "  1987.19,1425.62 1987.19,47.2441 \n",
       "  \"/>\n",
       "<polyline clip-path=\"url(#clip9002)\" style=\"stroke:#000000; stroke-width:2; stroke-opacity:0.1; fill:none\" points=\"\n",
       "  2068.17,1425.62 2068.17,47.2441 \n",
       "  \"/>\n",
       "<polyline clip-path=\"url(#clip9002)\" style=\"stroke:#000000; stroke-width:2; stroke-opacity:0.1; fill:none\" points=\"\n",
       "  2149.16,1425.62 2149.16,47.2441 \n",
       "  \"/>\n",
       "<polyline clip-path=\"url(#clip9002)\" style=\"stroke:#000000; stroke-width:2; stroke-opacity:0.1; fill:none\" points=\"\n",
       "  2230.14,1425.62 2230.14,47.2441 \n",
       "  \"/>\n",
       "<polyline clip-path=\"url(#clip9002)\" style=\"stroke:#000000; stroke-width:2; stroke-opacity:0.1; fill:none\" points=\"\n",
       "  309.663,1396.94 2352.76,1396.94 \n",
       "  \"/>\n",
       "<polyline clip-path=\"url(#clip9002)\" style=\"stroke:#000000; stroke-width:2; stroke-opacity:0.1; fill:none\" points=\"\n",
       "  309.663,1149.88 2352.76,1149.88 \n",
       "  \"/>\n",
       "<polyline clip-path=\"url(#clip9002)\" style=\"stroke:#000000; stroke-width:2; stroke-opacity:0.1; fill:none\" points=\"\n",
       "  309.663,902.819 2352.76,902.819 \n",
       "  \"/>\n",
       "<polyline clip-path=\"url(#clip9002)\" style=\"stroke:#000000; stroke-width:2; stroke-opacity:0.1; fill:none\" points=\"\n",
       "  309.663,655.759 2352.76,655.759 \n",
       "  \"/>\n",
       "<polyline clip-path=\"url(#clip9002)\" style=\"stroke:#000000; stroke-width:2; stroke-opacity:0.1; fill:none\" points=\"\n",
       "  309.663,408.699 2352.76,408.699 \n",
       "  \"/>\n",
       "<polyline clip-path=\"url(#clip9002)\" style=\"stroke:#000000; stroke-width:2; stroke-opacity:0.1; fill:none\" points=\"\n",
       "  309.663,161.639 2352.76,161.639 \n",
       "  \"/>\n",
       "<polyline clip-path=\"url(#clip9000)\" style=\"stroke:#000000; stroke-width:4; stroke-opacity:1; fill:none\" points=\"\n",
       "  309.663,1425.62 2352.76,1425.62 \n",
       "  \"/>\n",
       "<polyline clip-path=\"url(#clip9000)\" style=\"stroke:#000000; stroke-width:4; stroke-opacity:1; fill:none\" points=\"\n",
       "  309.663,1425.62 309.663,47.2441 \n",
       "  \"/>\n",
       "<polyline clip-path=\"url(#clip9000)\" style=\"stroke:#000000; stroke-width:4; stroke-opacity:1; fill:none\" points=\"\n",
       "  367.486,1425.62 367.486,1404.94 \n",
       "  \"/>\n",
       "<polyline clip-path=\"url(#clip9000)\" style=\"stroke:#000000; stroke-width:4; stroke-opacity:1; fill:none\" points=\"\n",
       "  448.471,1425.62 448.471,1404.94 \n",
       "  \"/>\n",
       "<polyline clip-path=\"url(#clip9000)\" style=\"stroke:#000000; stroke-width:4; stroke-opacity:1; fill:none\" points=\"\n",
       "  529.457,1425.62 529.457,1404.94 \n",
       "  \"/>\n",
       "<polyline clip-path=\"url(#clip9000)\" style=\"stroke:#000000; stroke-width:4; stroke-opacity:1; fill:none\" points=\"\n",
       "  610.442,1425.62 610.442,1404.94 \n",
       "  \"/>\n",
       "<polyline clip-path=\"url(#clip9000)\" style=\"stroke:#000000; stroke-width:4; stroke-opacity:1; fill:none\" points=\"\n",
       "  691.427,1425.62 691.427,1404.94 \n",
       "  \"/>\n",
       "<polyline clip-path=\"url(#clip9000)\" style=\"stroke:#000000; stroke-width:4; stroke-opacity:1; fill:none\" points=\"\n",
       "  772.412,1425.62 772.412,1404.94 \n",
       "  \"/>\n",
       "<polyline clip-path=\"url(#clip9000)\" style=\"stroke:#000000; stroke-width:4; stroke-opacity:1; fill:none\" points=\"\n",
       "  853.397,1425.62 853.397,1404.94 \n",
       "  \"/>\n",
       "<polyline clip-path=\"url(#clip9000)\" style=\"stroke:#000000; stroke-width:4; stroke-opacity:1; fill:none\" points=\"\n",
       "  934.382,1425.62 934.382,1404.94 \n",
       "  \"/>\n",
       "<polyline clip-path=\"url(#clip9000)\" style=\"stroke:#000000; stroke-width:4; stroke-opacity:1; fill:none\" points=\"\n",
       "  1015.37,1425.62 1015.37,1404.94 \n",
       "  \"/>\n",
       "<polyline clip-path=\"url(#clip9000)\" style=\"stroke:#000000; stroke-width:4; stroke-opacity:1; fill:none\" points=\"\n",
       "  1096.35,1425.62 1096.35,1404.94 \n",
       "  \"/>\n",
       "<polyline clip-path=\"url(#clip9000)\" style=\"stroke:#000000; stroke-width:4; stroke-opacity:1; fill:none\" points=\"\n",
       "  1177.34,1425.62 1177.34,1404.94 \n",
       "  \"/>\n",
       "<polyline clip-path=\"url(#clip9000)\" style=\"stroke:#000000; stroke-width:4; stroke-opacity:1; fill:none\" points=\"\n",
       "  1258.32,1425.62 1258.32,1404.94 \n",
       "  \"/>\n",
       "<polyline clip-path=\"url(#clip9000)\" style=\"stroke:#000000; stroke-width:4; stroke-opacity:1; fill:none\" points=\"\n",
       "  1339.31,1425.62 1339.31,1404.94 \n",
       "  \"/>\n",
       "<polyline clip-path=\"url(#clip9000)\" style=\"stroke:#000000; stroke-width:4; stroke-opacity:1; fill:none\" points=\"\n",
       "  1420.29,1425.62 1420.29,1404.94 \n",
       "  \"/>\n",
       "<polyline clip-path=\"url(#clip9000)\" style=\"stroke:#000000; stroke-width:4; stroke-opacity:1; fill:none\" points=\"\n",
       "  1501.28,1425.62 1501.28,1404.94 \n",
       "  \"/>\n",
       "<polyline clip-path=\"url(#clip9000)\" style=\"stroke:#000000; stroke-width:4; stroke-opacity:1; fill:none\" points=\"\n",
       "  1582.26,1425.62 1582.26,1404.94 \n",
       "  \"/>\n",
       "<polyline clip-path=\"url(#clip9000)\" style=\"stroke:#000000; stroke-width:4; stroke-opacity:1; fill:none\" points=\"\n",
       "  1663.25,1425.62 1663.25,1404.94 \n",
       "  \"/>\n",
       "<polyline clip-path=\"url(#clip9000)\" style=\"stroke:#000000; stroke-width:4; stroke-opacity:1; fill:none\" points=\"\n",
       "  1744.23,1425.62 1744.23,1404.94 \n",
       "  \"/>\n",
       "<polyline clip-path=\"url(#clip9000)\" style=\"stroke:#000000; stroke-width:4; stroke-opacity:1; fill:none\" points=\"\n",
       "  1825.22,1425.62 1825.22,1404.94 \n",
       "  \"/>\n",
       "<polyline clip-path=\"url(#clip9000)\" style=\"stroke:#000000; stroke-width:4; stroke-opacity:1; fill:none\" points=\"\n",
       "  1906.2,1425.62 1906.2,1404.94 \n",
       "  \"/>\n",
       "<polyline clip-path=\"url(#clip9000)\" style=\"stroke:#000000; stroke-width:4; stroke-opacity:1; fill:none\" points=\"\n",
       "  1987.19,1425.62 1987.19,1404.94 \n",
       "  \"/>\n",
       "<polyline clip-path=\"url(#clip9000)\" style=\"stroke:#000000; stroke-width:4; stroke-opacity:1; fill:none\" points=\"\n",
       "  2068.17,1425.62 2068.17,1404.94 \n",
       "  \"/>\n",
       "<polyline clip-path=\"url(#clip9000)\" style=\"stroke:#000000; stroke-width:4; stroke-opacity:1; fill:none\" points=\"\n",
       "  2149.16,1425.62 2149.16,1404.94 \n",
       "  \"/>\n",
       "<polyline clip-path=\"url(#clip9000)\" style=\"stroke:#000000; stroke-width:4; stroke-opacity:1; fill:none\" points=\"\n",
       "  2230.14,1425.62 2230.14,1404.94 \n",
       "  \"/>\n",
       "<polyline clip-path=\"url(#clip9000)\" style=\"stroke:#000000; stroke-width:4; stroke-opacity:1; fill:none\" points=\"\n",
       "  309.663,1396.94 340.309,1396.94 \n",
       "  \"/>\n",
       "<polyline clip-path=\"url(#clip9000)\" style=\"stroke:#000000; stroke-width:4; stroke-opacity:1; fill:none\" points=\"\n",
       "  309.663,1149.88 340.309,1149.88 \n",
       "  \"/>\n",
       "<polyline clip-path=\"url(#clip9000)\" style=\"stroke:#000000; stroke-width:4; stroke-opacity:1; fill:none\" points=\"\n",
       "  309.663,902.819 340.309,902.819 \n",
       "  \"/>\n",
       "<polyline clip-path=\"url(#clip9000)\" style=\"stroke:#000000; stroke-width:4; stroke-opacity:1; fill:none\" points=\"\n",
       "  309.663,655.759 340.309,655.759 \n",
       "  \"/>\n",
       "<polyline clip-path=\"url(#clip9000)\" style=\"stroke:#000000; stroke-width:4; stroke-opacity:1; fill:none\" points=\"\n",
       "  309.663,408.699 340.309,408.699 \n",
       "  \"/>\n",
       "<polyline clip-path=\"url(#clip9000)\" style=\"stroke:#000000; stroke-width:4; stroke-opacity:1; fill:none\" points=\"\n",
       "  309.663,161.639 340.309,161.639 \n",
       "  \"/>\n",
       "<g clip-path=\"url(#clip9000)\">\n",
       "<text style=\"fill:#000000; fill-opacity:1; font-family:Arial,Helvetica Neue,Helvetica,sans-serif; font-size:48px; text-anchor:middle;\" transform=\"rotate(0, 367.486, 1479.62)\" x=\"367.486\" y=\"1479.62\">1</text>\n",
       "</g>\n",
       "<g clip-path=\"url(#clip9000)\">\n",
       "<text style=\"fill:#000000; fill-opacity:1; font-family:Arial,Helvetica Neue,Helvetica,sans-serif; font-size:48px; text-anchor:middle;\" transform=\"rotate(0, 448.471, 1479.62)\" x=\"448.471\" y=\"1479.62\">6</text>\n",
       "</g>\n",
       "<g clip-path=\"url(#clip9000)\">\n",
       "<text style=\"fill:#000000; fill-opacity:1; font-family:Arial,Helvetica Neue,Helvetica,sans-serif; font-size:48px; text-anchor:middle;\" transform=\"rotate(0, 529.457, 1479.62)\" x=\"529.457\" y=\"1479.62\">11</text>\n",
       "</g>\n",
       "<g clip-path=\"url(#clip9000)\">\n",
       "<text style=\"fill:#000000; fill-opacity:1; font-family:Arial,Helvetica Neue,Helvetica,sans-serif; font-size:48px; text-anchor:middle;\" transform=\"rotate(0, 610.442, 1479.62)\" x=\"610.442\" y=\"1479.62\">16</text>\n",
       "</g>\n",
       "<g clip-path=\"url(#clip9000)\">\n",
       "<text style=\"fill:#000000; fill-opacity:1; font-family:Arial,Helvetica Neue,Helvetica,sans-serif; font-size:48px; text-anchor:middle;\" transform=\"rotate(0, 691.427, 1479.62)\" x=\"691.427\" y=\"1479.62\">21</text>\n",
       "</g>\n",
       "<g clip-path=\"url(#clip9000)\">\n",
       "<text style=\"fill:#000000; fill-opacity:1; font-family:Arial,Helvetica Neue,Helvetica,sans-serif; font-size:48px; text-anchor:middle;\" transform=\"rotate(0, 772.412, 1479.62)\" x=\"772.412\" y=\"1479.62\">26</text>\n",
       "</g>\n",
       "<g clip-path=\"url(#clip9000)\">\n",
       "<text style=\"fill:#000000; fill-opacity:1; font-family:Arial,Helvetica Neue,Helvetica,sans-serif; font-size:48px; text-anchor:middle;\" transform=\"rotate(0, 853.397, 1479.62)\" x=\"853.397\" y=\"1479.62\">31</text>\n",
       "</g>\n",
       "<g clip-path=\"url(#clip9000)\">\n",
       "<text style=\"fill:#000000; fill-opacity:1; font-family:Arial,Helvetica Neue,Helvetica,sans-serif; font-size:48px; text-anchor:middle;\" transform=\"rotate(0, 934.382, 1479.62)\" x=\"934.382\" y=\"1479.62\">36</text>\n",
       "</g>\n",
       "<g clip-path=\"url(#clip9000)\">\n",
       "<text style=\"fill:#000000; fill-opacity:1; font-family:Arial,Helvetica Neue,Helvetica,sans-serif; font-size:48px; text-anchor:middle;\" transform=\"rotate(0, 1015.37, 1479.62)\" x=\"1015.37\" y=\"1479.62\">41</text>\n",
       "</g>\n",
       "<g clip-path=\"url(#clip9000)\">\n",
       "<text style=\"fill:#000000; fill-opacity:1; font-family:Arial,Helvetica Neue,Helvetica,sans-serif; font-size:48px; text-anchor:middle;\" transform=\"rotate(0, 1096.35, 1479.62)\" x=\"1096.35\" y=\"1479.62\">46</text>\n",
       "</g>\n",
       "<g clip-path=\"url(#clip9000)\">\n",
       "<text style=\"fill:#000000; fill-opacity:1; font-family:Arial,Helvetica Neue,Helvetica,sans-serif; font-size:48px; text-anchor:middle;\" transform=\"rotate(0, 1177.34, 1479.62)\" x=\"1177.34\" y=\"1479.62\">51</text>\n",
       "</g>\n",
       "<g clip-path=\"url(#clip9000)\">\n",
       "<text style=\"fill:#000000; fill-opacity:1; font-family:Arial,Helvetica Neue,Helvetica,sans-serif; font-size:48px; text-anchor:middle;\" transform=\"rotate(0, 1258.32, 1479.62)\" x=\"1258.32\" y=\"1479.62\">56</text>\n",
       "</g>\n",
       "<g clip-path=\"url(#clip9000)\">\n",
       "<text style=\"fill:#000000; fill-opacity:1; font-family:Arial,Helvetica Neue,Helvetica,sans-serif; font-size:48px; text-anchor:middle;\" transform=\"rotate(0, 1339.31, 1479.62)\" x=\"1339.31\" y=\"1479.62\">61</text>\n",
       "</g>\n",
       "<g clip-path=\"url(#clip9000)\">\n",
       "<text style=\"fill:#000000; fill-opacity:1; font-family:Arial,Helvetica Neue,Helvetica,sans-serif; font-size:48px; text-anchor:middle;\" transform=\"rotate(0, 1420.29, 1479.62)\" x=\"1420.29\" y=\"1479.62\">66</text>\n",
       "</g>\n",
       "<g clip-path=\"url(#clip9000)\">\n",
       "<text style=\"fill:#000000; fill-opacity:1; font-family:Arial,Helvetica Neue,Helvetica,sans-serif; font-size:48px; text-anchor:middle;\" transform=\"rotate(0, 1501.28, 1479.62)\" x=\"1501.28\" y=\"1479.62\">71</text>\n",
       "</g>\n",
       "<g clip-path=\"url(#clip9000)\">\n",
       "<text style=\"fill:#000000; fill-opacity:1; font-family:Arial,Helvetica Neue,Helvetica,sans-serif; font-size:48px; text-anchor:middle;\" transform=\"rotate(0, 1582.26, 1479.62)\" x=\"1582.26\" y=\"1479.62\">76</text>\n",
       "</g>\n",
       "<g clip-path=\"url(#clip9000)\">\n",
       "<text style=\"fill:#000000; fill-opacity:1; font-family:Arial,Helvetica Neue,Helvetica,sans-serif; font-size:48px; text-anchor:middle;\" transform=\"rotate(0, 1663.25, 1479.62)\" x=\"1663.25\" y=\"1479.62\">81</text>\n",
       "</g>\n",
       "<g clip-path=\"url(#clip9000)\">\n",
       "<text style=\"fill:#000000; fill-opacity:1; font-family:Arial,Helvetica Neue,Helvetica,sans-serif; font-size:48px; text-anchor:middle;\" transform=\"rotate(0, 1744.23, 1479.62)\" x=\"1744.23\" y=\"1479.62\">86</text>\n",
       "</g>\n",
       "<g clip-path=\"url(#clip9000)\">\n",
       "<text style=\"fill:#000000; fill-opacity:1; font-family:Arial,Helvetica Neue,Helvetica,sans-serif; font-size:48px; text-anchor:middle;\" transform=\"rotate(0, 1825.22, 1479.62)\" x=\"1825.22\" y=\"1479.62\">91</text>\n",
       "</g>\n",
       "<g clip-path=\"url(#clip9000)\">\n",
       "<text style=\"fill:#000000; fill-opacity:1; font-family:Arial,Helvetica Neue,Helvetica,sans-serif; font-size:48px; text-anchor:middle;\" transform=\"rotate(0, 1906.2, 1479.62)\" x=\"1906.2\" y=\"1479.62\">96</text>\n",
       "</g>\n",
       "<g clip-path=\"url(#clip9000)\">\n",
       "<text style=\"fill:#000000; fill-opacity:1; font-family:Arial,Helvetica Neue,Helvetica,sans-serif; font-size:48px; text-anchor:middle;\" transform=\"rotate(0, 1987.19, 1479.62)\" x=\"1987.19\" y=\"1479.62\">101</text>\n",
       "</g>\n",
       "<g clip-path=\"url(#clip9000)\">\n",
       "<text style=\"fill:#000000; fill-opacity:1; font-family:Arial,Helvetica Neue,Helvetica,sans-serif; font-size:48px; text-anchor:middle;\" transform=\"rotate(0, 2068.17, 1479.62)\" x=\"2068.17\" y=\"1479.62\">106</text>\n",
       "</g>\n",
       "<g clip-path=\"url(#clip9000)\">\n",
       "<text style=\"fill:#000000; fill-opacity:1; font-family:Arial,Helvetica Neue,Helvetica,sans-serif; font-size:48px; text-anchor:middle;\" transform=\"rotate(0, 2149.16, 1479.62)\" x=\"2149.16\" y=\"1479.62\">111</text>\n",
       "</g>\n",
       "<g clip-path=\"url(#clip9000)\">\n",
       "<text style=\"fill:#000000; fill-opacity:1; font-family:Arial,Helvetica Neue,Helvetica,sans-serif; font-size:48px; text-anchor:middle;\" transform=\"rotate(0, 2230.14, 1479.62)\" x=\"2230.14\" y=\"1479.62\">116</text>\n",
       "</g>\n",
       "<g clip-path=\"url(#clip9000)\">\n",
       "<text style=\"fill:#000000; fill-opacity:1; font-family:Arial,Helvetica Neue,Helvetica,sans-serif; font-size:48px; text-anchor:end;\" transform=\"rotate(0, 285.663, 1414.44)\" x=\"285.663\" y=\"1414.44\">0</text>\n",
       "</g>\n",
       "<g clip-path=\"url(#clip9000)\">\n",
       "<text style=\"fill:#000000; fill-opacity:1; font-family:Arial,Helvetica Neue,Helvetica,sans-serif; font-size:48px; text-anchor:start;\" transform=\"rotate(0, 155.521, 1173.61)\" x=\"155.521\" y=\"1173.61\">1×10</text>\n",
       "</g>\n",
       "<g clip-path=\"url(#clip9000)\">\n",
       "<text style=\"fill:#000000; fill-opacity:1; font-family:Arial,Helvetica Neue,Helvetica,sans-serif; font-size:38px; text-anchor:start;\" transform=\"rotate(0, 263.919, 1146.2)\" x=\"263.919\" y=\"1146.2\">4</text>\n",
       "</g>\n",
       "<g clip-path=\"url(#clip9000)\">\n",
       "<text style=\"fill:#000000; fill-opacity:1; font-family:Arial,Helvetica Neue,Helvetica,sans-serif; font-size:48px; text-anchor:start;\" transform=\"rotate(0, 155.521, 926.546)\" x=\"155.521\" y=\"926.546\">2×10</text>\n",
       "</g>\n",
       "<g clip-path=\"url(#clip9000)\">\n",
       "<text style=\"fill:#000000; fill-opacity:1; font-family:Arial,Helvetica Neue,Helvetica,sans-serif; font-size:38px; text-anchor:start;\" transform=\"rotate(0, 263.919, 899.136)\" x=\"263.919\" y=\"899.136\">4</text>\n",
       "</g>\n",
       "<g clip-path=\"url(#clip9000)\">\n",
       "<text style=\"fill:#000000; fill-opacity:1; font-family:Arial,Helvetica Neue,Helvetica,sans-serif; font-size:48px; text-anchor:start;\" transform=\"rotate(0, 155.521, 679.486)\" x=\"155.521\" y=\"679.486\">3×10</text>\n",
       "</g>\n",
       "<g clip-path=\"url(#clip9000)\">\n",
       "<text style=\"fill:#000000; fill-opacity:1; font-family:Arial,Helvetica Neue,Helvetica,sans-serif; font-size:38px; text-anchor:start;\" transform=\"rotate(0, 263.919, 652.076)\" x=\"263.919\" y=\"652.076\">4</text>\n",
       "</g>\n",
       "<g clip-path=\"url(#clip9000)\">\n",
       "<text style=\"fill:#000000; fill-opacity:1; font-family:Arial,Helvetica Neue,Helvetica,sans-serif; font-size:48px; text-anchor:start;\" transform=\"rotate(0, 155.521, 432.426)\" x=\"155.521\" y=\"432.426\">4×10</text>\n",
       "</g>\n",
       "<g clip-path=\"url(#clip9000)\">\n",
       "<text style=\"fill:#000000; fill-opacity:1; font-family:Arial,Helvetica Neue,Helvetica,sans-serif; font-size:38px; text-anchor:start;\" transform=\"rotate(0, 263.919, 405.016)\" x=\"263.919\" y=\"405.016\">4</text>\n",
       "</g>\n",
       "<g clip-path=\"url(#clip9000)\">\n",
       "<text style=\"fill:#000000; fill-opacity:1; font-family:Arial,Helvetica Neue,Helvetica,sans-serif; font-size:48px; text-anchor:start;\" transform=\"rotate(0, 155.521, 185.366)\" x=\"155.521\" y=\"185.366\">5×10</text>\n",
       "</g>\n",
       "<g clip-path=\"url(#clip9000)\">\n",
       "<text style=\"fill:#000000; fill-opacity:1; font-family:Arial,Helvetica Neue,Helvetica,sans-serif; font-size:38px; text-anchor:start;\" transform=\"rotate(0, 263.919, 157.956)\" x=\"263.919\" y=\"157.956\">4</text>\n",
       "</g>\n",
       "<g clip-path=\"url(#clip9000)\">\n",
       "<text style=\"fill:#000000; fill-opacity:1; font-family:Arial,Helvetica Neue,Helvetica,sans-serif; font-size:66px; text-anchor:middle;\" transform=\"rotate(0, 1331.21, 1559.48)\" x=\"1331.21\" y=\"1559.48\">Frequência(Hz)</text>\n",
       "</g>\n",
       "<g clip-path=\"url(#clip9000)\">\n",
       "<text style=\"fill:#000000; fill-opacity:1; font-family:Arial,Helvetica Neue,Helvetica,sans-serif; font-size:66px; text-anchor:middle;\" transform=\"rotate(-90, 89.2861, 736.431)\" x=\"89.2861\" y=\"736.431\">Impedância(ohm)</text>\n",
       "</g>\n",
       "<polyline clip-path=\"url(#clip9002)\" style=\"stroke:#009af9; stroke-width:4; stroke-opacity:1; fill:none\" points=\"\n",
       "  367.486,86.2547 383.683,741.612 399.88,960.071 416.077,1069.31 432.274,1134.85 448.471,1178.55 464.668,1209.77 480.866,1233.18 497.063,1251.4 513.26,1265.97 \n",
       "  529.457,1277.9 545.654,1287.84 561.851,1296.25 578.048,1303.46 594.245,1309.71 610.442,1315.18 626.639,1320.01 642.836,1324.3 659.033,1328.14 675.23,1331.6 \n",
       "  691.427,1334.73 707.624,1337.58 723.821,1340.18 740.018,1342.56 756.215,1344.76 772.412,1346.78 788.609,1348.66 804.806,1350.4 821.003,1352.03 837.2,1353.54 \n",
       "  853.397,1354.96 869.594,1356.29 885.791,1357.54 901.988,1358.72 918.185,1359.83 934.382,1360.88 950.579,1361.87 966.776,1362.81 982.973,1363.71 999.17,1364.55 \n",
       "  1015.37,1365.36 1031.56,1366.13 1047.76,1366.87 1063.96,1367.57 1080.16,1368.24 1096.35,1368.88 1112.55,1369.49 1128.75,1370.08 1144.94,1370.65 1161.14,1371.19 \n",
       "  1177.34,1371.71 1193.53,1372.21 1209.73,1372.69 1225.93,1373.16 1242.13,1373.61 1258.32,1374.04 1274.52,1374.46 1290.72,1374.86 1306.91,1375.25 1323.11,1375.63 \n",
       "  1339.31,1375.99 1355.5,1376.34 1371.7,1376.69 1387.9,1377.02 1404.1,1377.34 1420.29,1377.65 1436.49,1377.95 1452.69,1378.24 1468.88,1378.53 1485.08,1378.8 \n",
       "  1501.28,1379.07 1517.48,1379.33 1533.67,1379.59 1549.87,1379.84 1566.07,1380.08 1582.26,1380.31 1598.46,1380.54 1614.66,1380.76 1630.85,1380.98 1647.05,1381.19 \n",
       "  1663.25,1381.39 1679.45,1381.59 1695.64,1381.79 1711.84,1381.98 1728.04,1382.16 1744.23,1382.35 1760.43,1382.52 1776.63,1382.7 1792.82,1382.87 1809.02,1383.03 \n",
       "  1825.22,1383.19 1841.42,1383.35 1857.61,1383.5 1873.81,1383.65 1890.01,1383.8 1906.2,1383.95 1922.4,1384.09 1938.6,1384.22 1954.79,1384.36 1970.99,1384.49 \n",
       "  1987.19,1384.62 2003.39,1384.74 2019.58,1384.87 2035.78,1384.99 2051.98,1385.11 2068.17,1385.22 2084.37,1385.34 2100.57,1385.45 2116.77,1385.56 2132.96,1385.66 \n",
       "  2149.16,1385.77 2165.36,1385.87 2181.55,1385.97 2197.75,1386.06 2213.95,1386.16 2230.14,1386.25 2246.34,1386.34 2262.54,1386.43 2278.74,1386.52 2294.93,1386.61 \n",
       "  \n",
       "  \"/>\n",
       "<path clip-path=\"url(#clip9000)\" d=\"\n",
       "M1671.57 251.724 L2280.76 251.724 L2280.76 130.764 L1671.57 130.764  Z\n",
       "  \" fill=\"#ffffff\" fill-rule=\"evenodd\" fill-opacity=\"1\"/>\n",
       "<polyline clip-path=\"url(#clip9000)\" style=\"stroke:#000000; stroke-width:4; stroke-opacity:1; fill:none\" points=\"\n",
       "  1671.57,251.724 2280.76,251.724 2280.76,130.764 1671.57,130.764 1671.57,251.724 \n",
       "  \"/>\n",
       "<polyline clip-path=\"url(#clip9000)\" style=\"stroke:#009af9; stroke-width:4; stroke-opacity:1; fill:none\" points=\"\n",
       "  1695.57,191.244 1839.57,191.244 \n",
       "  \"/>\n",
       "<g clip-path=\"url(#clip9000)\">\n",
       "<text style=\"fill:#000000; fill-opacity:1; font-family:Arial,Helvetica Neue,Helvetica,sans-serif; font-size:48px; text-anchor:start;\" transform=\"rotate(0, 1863.57, 208.744)\" x=\"1863.57\" y=\"208.744\">Impedância Total</text>\n",
       "</g>\n",
       "</svg>\n"
      ]
     },
     "execution_count": 36,
     "metadata": {},
     "output_type": "execute_result"
    }
   ],
   "source": [
    "# Gráfico\n",
    "using Plots\n",
    "gr()\n",
    "\n",
    "plot(Fq, ImpT, label = \"Impedância Total\", xticks = 1:5:120, xlabel = \"Frequência(Hz)\", ylabel = \"Impedância(ohm)\")"
   ]
  },
  {
   "cell_type": "markdown",
   "metadata": {},
   "source": [
    "De acordo com o gráfico, a impedância do circuito diminui com o almento da frequência de tal forma que a impedância cai pela metade quando a frequência é aproximadamente 1.98 Hz"
   ]
  },
  {
   "cell_type": "markdown",
   "metadata": {},
   "source": [
    "## FUNÇÕES ANÔNIMAS\n",
    "\n",
    "Em algumas situações podemos ter funções que serão utilizadas apenas uma vez em todo código - para criar um gráfico por exemplo. Neste caso, não há necessidade de alocarmos uma função na memória e, dessa forma, podemos utilizar uma função sem nome, conhecida como função anômima. \"Funções anônimas não têm um nome para serem invocadas diretamente, mas são muito usadas como parâmetros para outras funções, ou são atribuídas a uma variável, que acaba funcionando como um nome\" (BALDUINO, XX). Ao definir uma função anônima, devemos observar que o resultado é uma função genérica, mas com um nome gerado pelo compilador na forma:\n",
    "```julia\n",
    "(::#a)(generic function with b method)\n",
    "```\n",
    "Sendo `#a` representa o número gerado pelo compilador baseado em uma numeração consecutiva e `b` o número de métodos. O uso principal para funções anônimas é passá-las para funções que assumem outras funções como argumentos ou quando uma função precisa ser redefinida várias vezes. Em geral são mais rápidas que as funções genéricas. Sintaxe:\n",
    "\n",
    "Tupla de retorno único:\n",
    "```julia\n",
    "(arg_1, arg_2, ..., arg_n ->  expr_1, expr_2,..., expr_n)(valor_1, valor_2, ...., valor_n)\n",
    "```\n",
    "\n",
    "Outra possibilidade é vincular a função anônima a um nome para ser reutilizada em outras partes do código. Uma aplicação disto ocorre quando queremos criar uma função anônima com várias expressões. Sintaxe:\n",
    "```julia\n",
    "nome = (arg_1, arg_2, ..., arg_n ->  expr_1, expr_2,..., expr_n)(valor_1, valor_2, ...., valor_n)\n",
    "```\n",
    "```julia\n",
    "\n",
    "nome = (arg_1, arg_2, ..., arg_n-> begin\n",
    "        expressões\n",
    "        ...\n",
    "end)\n",
    "```"
   ]
  },
  {
   "cell_type": "code",
   "execution_count": 37,
   "metadata": {
    "scrolled": false
   },
   "outputs": [
    {
     "data": {
      "text/plain": [
       "-1"
      ]
     },
     "execution_count": 37,
     "metadata": {},
     "output_type": "execute_result"
    }
   ],
   "source": [
    "# Um argumento e retorno simples\n",
    "(x -> x^3 - 2*x^2 - 1)(0)"
   ]
  },
  {
   "cell_type": "code",
   "execution_count": 38,
   "metadata": {},
   "outputs": [
    {
     "data": {
      "text/plain": [
       "#10 (generic function with 1 method)"
      ]
     },
     "execution_count": 38,
     "metadata": {},
     "output_type": "execute_result"
    }
   ],
   "source": [
    "# Nome atribuído a uma função anônima com um argumento e retorno simples\n",
    "f = x -> x^3 - 2*x^2 - 1"
   ]
  },
  {
   "cell_type": "code",
   "execution_count": 39,
   "metadata": {
    "scrolled": false
   },
   "outputs": [
    {
     "data": {
      "text/plain": [
       "-1"
      ]
     },
     "execution_count": 39,
     "metadata": {},
     "output_type": "execute_result"
    }
   ],
   "source": [
    "f(0)"
   ]
  },
  {
   "cell_type": "markdown",
   "metadata": {},
   "source": [
    "Vejamos agora como estão memória"
   ]
  },
  {
   "cell_type": "code",
   "execution_count": 40,
   "metadata": {
    "scrolled": true
   },
   "outputs": [
    {
     "data": {
      "text/latex": [
       "\\begin{tabular}\n",
       "{l | r | l}\n",
       "name & size & summary \\\\\n",
       "\\hline\n",
       "Base &  & Module \\\\\n",
       "Core &  & Module \\\\\n",
       "Fq & 16 bytes & 120-element UnitRange\\{Int64\\} \\\\\n",
       "ImpT & 1000 bytes & 120-element Array\\{Float64,1\\} \\\\\n",
       "Main &  & Module \\\\\n",
       "Xc & 0 bytes & typeof(Xc) \\\\\n",
       "Xl & 0 bytes & typeof(Xl) \\\\\n",
       "Zt & 0 bytes & typeof(Zt) \\\\\n",
       "empuxo\\_0 & 0 bytes & typeof(empuxo\\_0) \\\\\n",
       "empuxo\\_1 & 0 bytes & typeof(empuxo\\_1) \\\\\n",
       "empuxo\\_2 & 0 bytes & typeof(empuxo\\_2) \\\\\n",
       "empuxo\\_3 & 0 bytes & typeof(empuxo\\_3) \\\\\n",
       "empuxo\\_3b & 0 bytes & typeof(empuxo\\_3b) \\\\\n",
       "empuxo\\_multiplo & 0 bytes & typeof(empuxo\\_multiplo) \\\\\n",
       "f & 0 bytes & getfield(Main, Symbol(\"\\#\\#10\\#11\")) \\\\\n",
       "f1 & 0 bytes & typeof(f1) \\\\\n",
       "f2 & 0 bytes & typeof(f2) \\\\\n",
       "\\end{tabular}\n"
      ],
      "text/markdown": [
       "| name            |       size | summary                           |\n",
       "|:--------------- | ----------:|:--------------------------------- |\n",
       "| Base            |            | Module                            |\n",
       "| Core            |            | Module                            |\n",
       "| Fq              |   16 bytes | 120-element UnitRange{Int64}      |\n",
       "| ImpT            | 1000 bytes | 120-element Array{Float64,1}      |\n",
       "| Main            |            | Module                            |\n",
       "| Xc              |    0 bytes | typeof(Xc)                        |\n",
       "| Xl              |    0 bytes | typeof(Xl)                        |\n",
       "| Zt              |    0 bytes | typeof(Zt)                        |\n",
       "| empuxo_0        |    0 bytes | typeof(empuxo_0)                  |\n",
       "| empuxo_1        |    0 bytes | typeof(empuxo_1)                  |\n",
       "| empuxo_2        |    0 bytes | typeof(empuxo_2)                  |\n",
       "| empuxo_3        |    0 bytes | typeof(empuxo_3)                  |\n",
       "| empuxo_3b       |    0 bytes | typeof(empuxo_3b)                 |\n",
       "| empuxo_multiplo |    0 bytes | typeof(empuxo_multiplo)           |\n",
       "| f               |    0 bytes | getfield(Main, Symbol(\"##10#11\")) |\n",
       "| f1              |    0 bytes | typeof(f1)                        |\n",
       "| f2              |    0 bytes | typeof(f2)                        |\n"
      ],
      "text/plain": [
       "name                  size summary                          \n",
       "––––––––––––––– –––––––––– –––––––––––––––––––––––––––––––––\n",
       "Base                       Module                           \n",
       "Core                       Module                           \n",
       "Fq                16 bytes 120-element UnitRange{Int64}     \n",
       "ImpT            1000 bytes 120-element Array{Float64,1}     \n",
       "Main                       Module                           \n",
       "Xc                 0 bytes typeof(Xc)                       \n",
       "Xl                 0 bytes typeof(Xl)                       \n",
       "Zt                 0 bytes typeof(Zt)                       \n",
       "empuxo_0           0 bytes typeof(empuxo_0)                 \n",
       "empuxo_1           0 bytes typeof(empuxo_1)                 \n",
       "empuxo_2           0 bytes typeof(empuxo_2)                 \n",
       "empuxo_3           0 bytes typeof(empuxo_3)                 \n",
       "empuxo_3b          0 bytes typeof(empuxo_3b)                \n",
       "empuxo_multiplo    0 bytes typeof(empuxo_multiplo)          \n",
       "f                  0 bytes getfield(Main, Symbol(\"##10#11\"))\n",
       "f1                 0 bytes typeof(f1)                       \n",
       "f2                 0 bytes typeof(f2)                       "
      ]
     },
     "execution_count": 40,
     "metadata": {},
     "output_type": "execute_result"
    }
   ],
   "source": [
    "varinfo()"
   ]
  },
  {
   "cell_type": "markdown",
   "metadata": {},
   "source": [
    "O tipo do retorno do cálculo da função pode ser definido pelo programador."
   ]
  },
  {
   "cell_type": "code",
   "execution_count": 41,
   "metadata": {},
   "outputs": [
    {
     "data": {
      "text/plain": [
       "2-element Array{Int64,1}:\n",
       " -1\n",
       "  1"
      ]
     },
     "execution_count": 41,
     "metadata": {},
     "output_type": "execute_result"
    }
   ],
   "source": [
    "# um argumento e retorno múltiplo vetor\n",
    "(x -> [x^3 - 2*x^2 - 1 , x + 1] )(0)"
   ]
  },
  {
   "cell_type": "code",
   "execution_count": 42,
   "metadata": {},
   "outputs": [
    {
     "data": {
      "text/plain": [
       "(-1, 1)"
      ]
     },
     "execution_count": 42,
     "metadata": {},
     "output_type": "execute_result"
    }
   ],
   "source": [
    "# um argumento e retorno múltiplo tupla\n",
    "(x -> (x^3 - 2*x^2 - 1 , x + 1) )(0)"
   ]
  },
  {
   "cell_type": "code",
   "execution_count": 43,
   "metadata": {
    "scrolled": true
   },
   "outputs": [
    {
     "data": {
      "text/plain": [
       "Set([-1, 1])"
      ]
     },
     "execution_count": 43,
     "metadata": {},
     "output_type": "execute_result"
    }
   ],
   "source": [
    "# um argumento e retorno múltiplo conjunto\n",
    "(x -> Set([x^3 - 2*x^2 - 1 , x + 1]) )(0)"
   ]
  },
  {
   "cell_type": "code",
   "execution_count": 44,
   "metadata": {},
   "outputs": [
    {
     "data": {
      "text/plain": [
       "Dict{String,Int64} with 2 entries:\n",
       "  \"s_1\" => -1\n",
       "  \"s_2\" => 1"
      ]
     },
     "execution_count": 44,
     "metadata": {},
     "output_type": "execute_result"
    }
   ],
   "source": [
    "# um argumento e retorno múltiplo dicionário\n",
    "(x -> Dict(\"s_1\" => x^3 - 2*x^2 - 1 , \"s_2\" => x + 1) )(0)"
   ]
  },
  {
   "cell_type": "code",
   "execution_count": 45,
   "metadata": {},
   "outputs": [
    {
     "data": {
      "text/plain": [
       "-1"
      ]
     },
     "execution_count": 45,
     "metadata": {},
     "output_type": "execute_result"
    }
   ],
   "source": [
    "# dois argumentos e retorno único\n",
    "((x, y) -> 2*y - 1 + x)(0, 0)"
   ]
  },
  {
   "cell_type": "code",
   "execution_count": 46,
   "metadata": {},
   "outputs": [
    {
     "data": {
      "text/plain": [
       "(-1, 0)"
      ]
     },
     "execution_count": 46,
     "metadata": {},
     "output_type": "execute_result"
    }
   ],
   "source": [
    "# dois argumentos e retorno múltiplo tupla\n",
    "( (x, y) -> (2*y - 1 + x, x*y))(0, 0)"
   ]
  },
  {
   "cell_type": "markdown",
   "metadata": {},
   "source": [
    "Uma forma prática de trabalhar com funções anônimas grandes é utilziar um bloco de código com ``` begin ... end```"
   ]
  },
  {
   "cell_type": "code",
   "execution_count": 47,
   "metadata": {},
   "outputs": [
    {
     "data": {
      "text/plain": [
       "#24 (generic function with 1 method)"
      ]
     },
     "execution_count": 47,
     "metadata": {},
     "output_type": "execute_result"
    }
   ],
   "source": [
    "g = x -> begin\n",
    "    if x < 10 && iseven(x) # se o valor de x é menor que 10 e par\n",
    "        return 0\n",
    "    elseif x == 10\n",
    "        return 1\n",
    "    else            \n",
    "        return x\n",
    "    end\n",
    "end"
   ]
  },
  {
   "cell_type": "code",
   "execution_count": 48,
   "metadata": {},
   "outputs": [
    {
     "data": {
      "text/plain": [
       "5"
      ]
     },
     "execution_count": 48,
     "metadata": {},
     "output_type": "execute_result"
    }
   ],
   "source": [
    "g(5)"
   ]
  },
  {
   "cell_type": "markdown",
   "metadata": {},
   "source": [
    "Julia ainda permite criar funções anônimas sem argumento na forma:\n",
    "```julia\n",
    "()-> expr_1, expr_2,..., expr_n\n",
    "```\n",
    "A idéia, apesar de estranho,  é útil quando queremos provocar um atraso em um cálculo. Dessa forma, um bloco de código é encapsulado em uma função de argumento zero, que é invocado posteriormente chamando-o como função(). Exemplo:"
   ]
  },
  {
   "cell_type": "code",
   "execution_count": 49,
   "metadata": {},
   "outputs": [
    {
     "data": {
      "text/plain": [
       "#26 (generic function with 1 method)"
      ]
     },
     "execution_count": 49,
     "metadata": {},
     "output_type": "execute_result"
    }
   ],
   "source": [
    "random = () -> sleep(3)"
   ]
  },
  {
   "cell_type": "code",
   "execution_count": 50,
   "metadata": {
    "scrolled": true
   },
   "outputs": [
    {
     "name": "stdout",
     "output_type": "stream",
     "text": [
      "  3.049196 seconds (102.76 k allocations: 5.281 MiB)\n"
     ]
    }
   ],
   "source": [
    "@time random()"
   ]
  },
  {
   "cell_type": "code",
   "execution_count": 51,
   "metadata": {},
   "outputs": [
    {
     "data": {
      "text/plain": [
       "ff (generic function with 1 method)"
      ]
     },
     "execution_count": 51,
     "metadata": {},
     "output_type": "execute_result"
    }
   ],
   "source": [
    "ff() = sleep(5)"
   ]
  },
  {
   "cell_type": "code",
   "execution_count": 52,
   "metadata": {},
   "outputs": [
    {
     "name": "stdout",
     "output_type": "stream",
     "text": [
      "  5.005037 seconds (1.61 k allocations: 71.574 KiB)\n"
     ]
    }
   ],
   "source": [
    "@time ff()"
   ]
  },
  {
   "cell_type": "code",
   "execution_count": 53,
   "metadata": {},
   "outputs": [
    {
     "data": {
      "text/latex": [
       "\\begin{tabular}\n",
       "{l | r | l}\n",
       "name & size & summary \\\\\n",
       "\\hline\n",
       "Base &  & Module \\\\\n",
       "Core &  & Module \\\\\n",
       "Fq & 16 bytes & 120-element UnitRange\\{Int64\\} \\\\\n",
       "ImpT & 1000 bytes & 120-element Array\\{Float64,1\\} \\\\\n",
       "Main &  & Module \\\\\n",
       "Xc & 0 bytes & typeof(Xc) \\\\\n",
       "Xl & 0 bytes & typeof(Xl) \\\\\n",
       "Zt & 0 bytes & typeof(Zt) \\\\\n",
       "empuxo\\_0 & 0 bytes & typeof(empuxo\\_0) \\\\\n",
       "empuxo\\_1 & 0 bytes & typeof(empuxo\\_1) \\\\\n",
       "empuxo\\_2 & 0 bytes & typeof(empuxo\\_2) \\\\\n",
       "empuxo\\_3 & 0 bytes & typeof(empuxo\\_3) \\\\\n",
       "empuxo\\_3b & 0 bytes & typeof(empuxo\\_3b) \\\\\n",
       "empuxo\\_multiplo & 0 bytes & typeof(empuxo\\_multiplo) \\\\\n",
       "f & 0 bytes & getfield(Main, Symbol(\"\\#\\#10\\#11\")) \\\\\n",
       "f1 & 0 bytes & typeof(f1) \\\\\n",
       "f2 & 0 bytes & typeof(f2) \\\\\n",
       "ff & 0 bytes & typeof(ff) \\\\\n",
       "g & 0 bytes & getfield(Main, Symbol(\"\\#\\#24\\#25\")) \\\\\n",
       "random & 0 bytes & getfield(Main, Symbol(\"\\#\\#26\\#27\")) \\\\\n",
       "\\end{tabular}\n"
      ],
      "text/markdown": [
       "| name            |       size | summary                           |\n",
       "|:--------------- | ----------:|:--------------------------------- |\n",
       "| Base            |            | Module                            |\n",
       "| Core            |            | Module                            |\n",
       "| Fq              |   16 bytes | 120-element UnitRange{Int64}      |\n",
       "| ImpT            | 1000 bytes | 120-element Array{Float64,1}      |\n",
       "| Main            |            | Module                            |\n",
       "| Xc              |    0 bytes | typeof(Xc)                        |\n",
       "| Xl              |    0 bytes | typeof(Xl)                        |\n",
       "| Zt              |    0 bytes | typeof(Zt)                        |\n",
       "| empuxo_0        |    0 bytes | typeof(empuxo_0)                  |\n",
       "| empuxo_1        |    0 bytes | typeof(empuxo_1)                  |\n",
       "| empuxo_2        |    0 bytes | typeof(empuxo_2)                  |\n",
       "| empuxo_3        |    0 bytes | typeof(empuxo_3)                  |\n",
       "| empuxo_3b       |    0 bytes | typeof(empuxo_3b)                 |\n",
       "| empuxo_multiplo |    0 bytes | typeof(empuxo_multiplo)           |\n",
       "| f               |    0 bytes | getfield(Main, Symbol(\"##10#11\")) |\n",
       "| f1              |    0 bytes | typeof(f1)                        |\n",
       "| f2              |    0 bytes | typeof(f2)                        |\n",
       "| ff              |    0 bytes | typeof(ff)                        |\n",
       "| g               |    0 bytes | getfield(Main, Symbol(\"##24#25\")) |\n",
       "| random          |    0 bytes | getfield(Main, Symbol(\"##26#27\")) |\n"
      ],
      "text/plain": [
       "name                  size summary                          \n",
       "––––––––––––––– –––––––––– –––––––––––––––––––––––––––––––––\n",
       "Base                       Module                           \n",
       "Core                       Module                           \n",
       "Fq                16 bytes 120-element UnitRange{Int64}     \n",
       "ImpT            1000 bytes 120-element Array{Float64,1}     \n",
       "Main                       Module                           \n",
       "Xc                 0 bytes typeof(Xc)                       \n",
       "Xl                 0 bytes typeof(Xl)                       \n",
       "Zt                 0 bytes typeof(Zt)                       \n",
       "empuxo_0           0 bytes typeof(empuxo_0)                 \n",
       "empuxo_1           0 bytes typeof(empuxo_1)                 \n",
       "empuxo_2           0 bytes typeof(empuxo_2)                 \n",
       "empuxo_3           0 bytes typeof(empuxo_3)                 \n",
       "empuxo_3b          0 bytes typeof(empuxo_3b)                \n",
       "empuxo_multiplo    0 bytes typeof(empuxo_multiplo)          \n",
       "f                  0 bytes getfield(Main, Symbol(\"##10#11\"))\n",
       "f1                 0 bytes typeof(f1)                       \n",
       "f2                 0 bytes typeof(f2)                       \n",
       "ff                 0 bytes typeof(ff)                       \n",
       "g                  0 bytes getfield(Main, Symbol(\"##24#25\"))\n",
       "random             0 bytes getfield(Main, Symbol(\"##26#27\"))"
      ]
     },
     "execution_count": 53,
     "metadata": {},
     "output_type": "execute_result"
    }
   ],
   "source": [
    "varinfo()"
   ]
  },
  {
   "cell_type": "markdown",
   "metadata": {},
   "source": [
    "#### COLEÇÕES APLICADAS A FUNÇÕES ANÔNIMAS "
   ]
  },
  {
   "cell_type": "code",
   "execution_count": 54,
   "metadata": {},
   "outputs": [
    {
     "data": {
      "text/plain": [
       "4-element Array{Int64,1}:\n",
       " -2\n",
       " -1\n",
       "  8\n",
       " 31"
      ]
     },
     "execution_count": 54,
     "metadata": {},
     "output_type": "execute_result"
    }
   ],
   "source": [
    "# Vetor \n",
    "# O ponto \".\" serve para calcular a função elemento-elemento do vetor.\n",
    "(x -> x^3 - 2*x^2 - 1).([1, 2, 3, 4])"
   ]
  },
  {
   "cell_type": "code",
   "execution_count": 55,
   "metadata": {},
   "outputs": [
    {
     "data": {
      "text/plain": [
       "4-element Array{Int64,1}:\n",
       " 31\n",
       " -1\n",
       "  8\n",
       " -2"
      ]
     },
     "execution_count": 55,
     "metadata": {},
     "output_type": "execute_result"
    }
   ],
   "source": [
    "# Conjunto\n",
    "# O ponto \".\" serve para calcular a função elemento-elemento do vetor.\n",
    "(x -> x^3 - 2*x^2 - 1).(Set([1, 2, 3, 4]))"
   ]
  },
  {
   "cell_type": "code",
   "execution_count": 56,
   "metadata": {},
   "outputs": [
    {
     "data": {
      "text/plain": [
       "(-2, -1, 8, 31)"
      ]
     },
     "execution_count": 56,
     "metadata": {},
     "output_type": "execute_result"
    }
   ],
   "source": [
    "# Tupla\n",
    "# O ponto \".\" serve para calcular a função elemento-elemento do vetor.\n",
    "(x -> x^3 - 2*x^2 - 1).((1, 2, 3, 4))"
   ]
  },
  {
   "cell_type": "code",
   "execution_count": 57,
   "metadata": {},
   "outputs": [
    {
     "data": {
      "text/plain": [
       "2×3 Array{Int64,2}:\n",
       " -2  -1    8\n",
       " 31  74  143"
      ]
     },
     "execution_count": 57,
     "metadata": {},
     "output_type": "execute_result"
    }
   ],
   "source": [
    "# Matriz\n",
    "# O ponto \".\" serve para calcular a função elemento-elemento do vetor.\n",
    "(x -> x^3 - 2*x^2 - 1).([1 2 3; 4 5 6])"
   ]
  },
  {
   "cell_type": "code",
   "execution_count": 58,
   "metadata": {},
   "outputs": [
    {
     "data": {
      "text/plain": [
       "4-element Array{Int64,1}:\n",
       " -1\n",
       "  2\n",
       "  9\n",
       " 20"
      ]
     },
     "execution_count": 58,
     "metadata": {},
     "output_type": "execute_result"
    }
   ],
   "source": [
    "# Vetor\n",
    "# O ponto \".\" serve para calcular a função elemento-elemento do vetor.\n",
    "((x, y)-> 2*y^2 - 1 + x).(0:3 , 0:3)"
   ]
  },
  {
   "cell_type": "code",
   "execution_count": 59,
   "metadata": {},
   "outputs": [
    {
     "data": {
      "text/plain": [
       "2×2 Array{Int64,2}:\n",
       "  2   9\n",
       " 20  35"
      ]
     },
     "execution_count": 59,
     "metadata": {},
     "output_type": "execute_result"
    }
   ],
   "source": [
    "# Matriz\n",
    "# O ponto \".\" serve para calcular a função elemento-elemento do vetor.\n",
    "((x, y)-> 2*y^2 - 1 + x).([1 2; 3 4], [1 2; 3 4])"
   ]
  },
  {
   "cell_type": "markdown",
   "metadata": {},
   "source": [
    "## MAPEAMENTO, FILTRAGEM E COMPREENSÃO DE LISTA"
   ]
  },
  {
   "cell_type": "markdown",
   "metadata": {},
   "source": [
    "### MAPEAMENTO\n",
    "\n",
    "A função `map()` serve para aplicarmos uma função a cada elemento de um `Array`, retornando um novo `Array` contendo os elementos resultantes da aplicação da função. `mapreduce()` usa a função `map()` sobre uma função e reduz os resultados aplicando um operador, ou seja, o resulado final é  um valor único.\n",
    "\n",
    "Como feito acima,\n",
    "\n",
    "```\n",
    "abs.(valores)\n",
    "```\n",
    "\n",
    "é equivalente a\n",
    "\n",
    "```\n",
    "map(abs, valores)\n",
    "```\n",
    "\n",
    "No entanto, map permite passos intermediários mais complicados. Por exemplo:"
   ]
  },
  {
   "cell_type": "code",
   "execution_count": 60,
   "metadata": {},
   "outputs": [
    {
     "name": "stdout",
     "output_type": "stream",
     "text": [
      "[1.0, 2.0, 3.0, 4.0, 5.0, 6.0]\n",
      "[1.0, 2.0, 3.0, 4.0, 5.0, 6.0]\n",
      "[1.0, 4.0, 9.0, 16.0, 25.0, 36.0]\n"
     ]
    }
   ],
   "source": [
    "valores = collect(1:6)*1im;\n",
    "println(map(abs, valores))\n",
    "println(abs.(valores))\n",
    "println(map(i -> abs(i^2), valores))"
   ]
  },
  {
   "cell_type": "markdown",
   "metadata": {},
   "source": [
    "#### EXPRESSÕES SIMBÓLICAS\n",
    "\n",
    "**map()**\n",
    "```julia\n",
    "using SymPy\n",
    "@syms x y\n",
    "\n",
    "map(expressão_variável, objeto)\n",
    "map(expressão_variáveis, objeto_var_1,..., objeto_var_n)\n",
    "\n",
    "```\n",
    "```julia\n",
    "nome_var = expressão_var \n",
    "map(nome_var, objeto)\n",
    "\n",
    "nome_var = expressão_variáveis \n",
    "map(nome_var, objeto_var_1,.., objeto_var_n)\n",
    "```\n",
    "**mapreduce()**\n",
    "```julia\n",
    "using SymPy\n",
    "@syms x y\n",
    "\n",
    "nome_var = expressão_var \n",
    "mapreduce(nome_var, operador, objeto)\n",
    "\n",
    "nome_var = expressão_variáves \n",
    "map(nome_var, objeto_var_1,.., objeto_var_n)\n",
    "```"
   ]
  },
  {
   "cell_type": "code",
   "execution_count": 61,
   "metadata": {},
   "outputs": [
    {
     "data": {
      "text/plain": [
       "(x, y)"
      ]
     },
     "execution_count": 61,
     "metadata": {},
     "output_type": "execute_result"
    }
   ],
   "source": [
    "using SymPy\n",
    "@syms x y "
   ]
  },
  {
   "cell_type": "code",
   "execution_count": 62,
   "metadata": {},
   "outputs": [
    {
     "data": {
      "text/latex": [
       "\\[ \\left[ \\begin{array}{r}2\\\\6\\\\12\\end{array} \\right] \\]"
      ],
      "text/plain": [
       "3-element Array{Sym,1}:\n",
       "  2\n",
       "  6\n",
       " 12"
      ]
     },
     "execution_count": 62,
     "metadata": {},
     "output_type": "execute_result"
    }
   ],
   "source": [
    "# expressão simbólica\n",
    "map(x^2 + x, 1:3)"
   ]
  },
  {
   "cell_type": "code",
   "execution_count": 63,
   "metadata": {},
   "outputs": [
    {
     "data": {
      "text/latex": [
       "\\begin{equation*}x^{2} + 1\\end{equation*}"
      ],
      "text/plain": [
       " 2    \n",
       "x  + 1"
      ]
     },
     "execution_count": 63,
     "metadata": {},
     "output_type": "execute_result"
    }
   ],
   "source": [
    "fs1 = x^2 + 1"
   ]
  },
  {
   "cell_type": "code",
   "execution_count": 64,
   "metadata": {
    "scrolled": true
   },
   "outputs": [
    {
     "data": {
      "text/latex": [
       "\\[ \\left[ \\begin{array}{r}2\\\\5\\\\10\\end{array} \\right] \\]"
      ],
      "text/plain": [
       "3-element Array{Sym,1}:\n",
       "  2\n",
       "  5\n",
       " 10"
      ]
     },
     "execution_count": 64,
     "metadata": {},
     "output_type": "execute_result"
    }
   ],
   "source": [
    "map(fs1, 1:3)"
   ]
  },
  {
   "cell_type": "code",
   "execution_count": 65,
   "metadata": {},
   "outputs": [
    {
     "data": {
      "text/latex": [
       "\\[\\left[ \\begin{array}{rrr}2&5&10\\\\17&26&37\\end{array}\\right]\\]"
      ],
      "text/plain": [
       "2×3 Array{Sym,2}:\n",
       "  2   5  10\n",
       " 17  26  37"
      ]
     },
     "execution_count": 65,
     "metadata": {},
     "output_type": "execute_result"
    }
   ],
   "source": [
    "map(fs1, [1 2 3; 4 5 6] , [1 2 3; 4 5 6])"
   ]
  },
  {
   "cell_type": "code",
   "execution_count": 66,
   "metadata": {},
   "outputs": [
    {
     "data": {
      "text/latex": [
       "\\begin{equation*}x + y \\cos{\\left(x \\right)} + y\\end{equation*}"
      ],
      "text/plain": [
       "x + y⋅cos(x) + y"
      ]
     },
     "execution_count": 66,
     "metadata": {},
     "output_type": "execute_result"
    }
   ],
   "source": [
    "fs2 = x + y + cos(x)*y"
   ]
  },
  {
   "cell_type": "code",
   "execution_count": 67,
   "metadata": {
    "scrolled": true
   },
   "outputs": [
    {
     "data": {
      "text/latex": [
       "\\[\\left[ \\begin{array}{rrr}\\cos{\\left(1 \\right)} + 2&2 \\cos{\\left(2 \\right)} + 4&3 \\cos{\\left(3 \\right)} + 6\\\\4 \\cos{\\left(4 \\right)} + 8&5 \\cos{\\left(5 \\right)} + 10&6 \\cos{\\left(6 \\right)} + 12\\end{array}\\right]\\]"
      ],
      "text/plain": [
       "2×3 Array{Sym,2}:\n",
       "   cos(1) + 2   2*cos(2) + 4   3*cos(3) + 6\n",
       " 4*cos(4) + 8  5*cos(5) + 10  6*cos(6) + 12"
      ]
     },
     "execution_count": 67,
     "metadata": {},
     "output_type": "execute_result"
    }
   ],
   "source": [
    "map(fs2 , [1 2 3; 4 5 6] , [1 2 3; 4 5 6])"
   ]
  },
  {
   "cell_type": "markdown",
   "metadata": {},
   "source": [
    "Veja que o resuldado não é do tipo Float. Para isto use:"
   ]
  },
  {
   "cell_type": "code",
   "execution_count": 68,
   "metadata": {
    "scrolled": true
   },
   "outputs": [
    {
     "data": {
      "text/plain": [
       "2×3 Array{Float64,2}:\n",
       " 2.5403    3.16771   3.03002\n",
       " 5.38543  11.4183   17.761  "
      ]
     },
     "execution_count": 68,
     "metadata": {},
     "output_type": "execute_result"
    }
   ],
   "source": [
    "float(map(fs2 , [1 2 3; 4 5 6] ,[1 2 3; 4 5 6]))"
   ]
  },
  {
   "cell_type": "code",
   "execution_count": 69,
   "metadata": {},
   "outputs": [
    {
     "data": {
      "text/plain": [
       "2×3 Array{Float64,2}:\n",
       " 2.5403    3.16771   3.03002\n",
       " 5.38543  11.4183   17.761  "
      ]
     },
     "execution_count": 69,
     "metadata": {},
     "output_type": "execute_result"
    }
   ],
   "source": [
    "# outra forma. \"|>\" Aplica uma função ao argumento anterior. \n",
    "map(fs2 , [1 2 3; 4 5 6] , [1 2 3; 4 5 6]) |> float"
   ]
  },
  {
   "cell_type": "code",
   "execution_count": 70,
   "metadata": {},
   "outputs": [
    {
     "data": {
      "text/latex": [
       "\\begin{equation*}17\\end{equation*}"
      ],
      "text/plain": [
       "17"
      ]
     },
     "execution_count": 70,
     "metadata": {},
     "output_type": "execute_result"
    }
   ],
   "source": [
    "# map reduce\n",
    "# calcular os valores de 0 a 3 e somar os resultados\n",
    "mapreduce(fs1 , + , 1:3)"
   ]
  },
  {
   "cell_type": "code",
   "execution_count": 71,
   "metadata": {},
   "outputs": [
    {
     "data": {
      "text/latex": [
       "\\begin{equation*}6 \\cos{\\left(3 \\right)} + 6 \\cos{\\left(2 \\right)} + 6 \\cos{\\left(1 \\right)} + 36\\end{equation*}"
      ],
      "text/plain": [
       "6⋅cos(3) + 6⋅cos(2) + 6⋅cos(1) + 36"
      ]
     },
     "execution_count": 71,
     "metadata": {},
     "output_type": "execute_result"
    }
   ],
   "source": [
    "# mapreduce aplicado a expressão simbólica de duas variáveis\n",
    "mapreduce(mapreduce(fs2 , + , 1:3), + , 1:3)"
   ]
  },
  {
   "cell_type": "code",
   "execution_count": 72,
   "metadata": {},
   "outputs": [
    {
     "data": {
      "text/plain": [
       "30.80497783632331123879077349926571866943578331756073404860516809202483756682352"
      ]
     },
     "execution_count": 72,
     "metadata": {},
     "output_type": "execute_result"
    }
   ],
   "source": [
    "float(mapreduce(mapreduce(fs2 , + , 1:3), + , 1:3))"
   ]
  },
  {
   "cell_type": "code",
   "execution_count": 73,
   "metadata": {
    "scrolled": true
   },
   "outputs": [
    {
     "data": {
      "text/latex": [
       "\\begin{equation*}3 \\cos{\\left(3 \\right)} + 2 \\cos{\\left(2 \\right)} + \\cos{\\left(1 \\right)} + 12\\end{equation*}"
      ],
      "text/plain": [
       "3⋅cos(3) + 2⋅cos(2) + cos(1) + 12"
      ]
     },
     "execution_count": 73,
     "metadata": {},
     "output_type": "execute_result"
    }
   ],
   "source": [
    "# outra alternativa é usar o comando reduce em comjunto com map\n",
    "# o comando map gera os termos e reduce soma-os\n",
    "reduce(+ , map(fs2, 1:3, 1:3))"
   ]
  },
  {
   "cell_type": "markdown",
   "metadata": {},
   "source": [
    "### FUNÇÕES GENÉRICAS\n",
    "\n",
    "```julia\n",
    "map(função, vetor)                           # função de uma variável\n",
    "map(função, vetor_a, vetor_b, ..., vetor_n) # função de duas ou mais variáveis\n",
    "```"
   ]
  },
  {
   "cell_type": "code",
   "execution_count": 74,
   "metadata": {},
   "outputs": [
    {
     "data": {
      "text/plain": [
       "fg1 (generic function with 1 method)"
      ]
     },
     "execution_count": 74,
     "metadata": {},
     "output_type": "execute_result"
    }
   ],
   "source": [
    "# função de uma variável\n",
    "fg1(x) = sqrt(2*x + cos(x)^3)/sin(x^2 + 1)"
   ]
  },
  {
   "cell_type": "code",
   "execution_count": 75,
   "metadata": {},
   "outputs": [
    {
     "data": {
      "text/plain": [
       "4-element Array{Float64,1}:\n",
       "  1.1883951057781212\n",
       "  1.6154460079755786\n",
       " -2.066796380033545 \n",
       " -4.1224584178844195"
      ]
     },
     "execution_count": 75,
     "metadata": {},
     "output_type": "execute_result"
    }
   ],
   "source": [
    "map(fg1, 0:3)"
   ]
  },
  {
   "cell_type": "code",
   "execution_count": 76,
   "metadata": {},
   "outputs": [
    {
     "data": {
      "text/plain": [
       "fg2 (generic function with 1 method)"
      ]
     },
     "execution_count": 76,
     "metadata": {},
     "output_type": "execute_result"
    }
   ],
   "source": [
    "# função de duas variáveis\n",
    "fg2(x, y) = sqrt(2*x + cos(y)^3)/sin(y^2 + 1)"
   ]
  },
  {
   "cell_type": "code",
   "execution_count": 77,
   "metadata": {},
   "outputs": [
    {
     "data": {
      "text/plain": [
       "5-element Array{Float64,1}:\n",
       "  1.6154460079755786\n",
       " -2.066796380033545 \n",
       " -4.1224584178844195\n",
       " -2.890188838553125 \n",
       "  4.1516614195134665"
      ]
     },
     "execution_count": 77,
     "metadata": {},
     "output_type": "execute_result"
    }
   ],
   "source": [
    "# os vetores de X e Y devem ter as mesmas dimensões\n",
    "map(fg2,1:5, 1:5)"
   ]
  },
  {
   "cell_type": "code",
   "execution_count": 78,
   "metadata": {
    "scrolled": true
   },
   "outputs": [
    {
     "data": {
      "text/plain": [
       "fg3 (generic function with 1 method)"
      ]
     },
     "execution_count": 78,
     "metadata": {},
     "output_type": "execute_result"
    }
   ],
   "source": [
    "# mapeamento aplicado a uma função genérica em blocos\n",
    "function fg3(x)\n",
    "    return sqrt(2*x + cos(x)^3)/sin(x^2  +1)\n",
    "end"
   ]
  },
  {
   "cell_type": "code",
   "execution_count": 79,
   "metadata": {
    "scrolled": true
   },
   "outputs": [
    {
     "data": {
      "text/plain": [
       "4-element Array{Float64,1}:\n",
       "  1.1883951057781212\n",
       "  1.6154460079755786\n",
       " -2.066796380033545 \n",
       " -4.1224584178844195"
      ]
     },
     "execution_count": 79,
     "metadata": {},
     "output_type": "execute_result"
    }
   ],
   "source": [
    "map(fg3, 0:3)"
   ]
  },
  {
   "cell_type": "code",
   "execution_count": 80,
   "metadata": {},
   "outputs": [
    {
     "data": {
      "text/plain": [
       "fg4 (generic function with 1 method)"
      ]
     },
     "execution_count": 80,
     "metadata": {},
     "output_type": "execute_result"
    }
   ],
   "source": [
    "# função genérica com retorno multiplo\n",
    "fg4(x) = x + 1 , x - 1 , x"
   ]
  },
  {
   "cell_type": "code",
   "execution_count": 81,
   "metadata": {
    "scrolled": true
   },
   "outputs": [
    {
     "data": {
      "text/plain": [
       "3-element Array{Tuple{Int64,Int64,Int64},1}:\n",
       " (2, 0, 1)\n",
       " (3, 1, 2)\n",
       " (4, 2, 3)"
      ]
     },
     "execution_count": 81,
     "metadata": {},
     "output_type": "execute_result"
    }
   ],
   "source": [
    "map(fg4, 1:3)"
   ]
  },
  {
   "cell_type": "code",
   "execution_count": 82,
   "metadata": {
    "scrolled": true
   },
   "outputs": [
    {
     "data": {
      "text/plain": [
       "-3.3854136841642646"
      ]
     },
     "execution_count": 82,
     "metadata": {},
     "output_type": "execute_result"
    }
   ],
   "source": [
    "# MapReduce\n",
    "# utilizando uma função genérica para calcular os valores de 0 a 3 e somar os resultados\n",
    "mapreduce(fg1, + , 0:3)"
   ]
  },
  {
   "cell_type": "code",
   "execution_count": 83,
   "metadata": {},
   "outputs": [
    {
     "data": {
      "text/plain": [
       "-4.573808789942386"
      ]
     },
     "execution_count": 83,
     "metadata": {},
     "output_type": "execute_result"
    }
   ],
   "source": [
    "# para duas variáveis a saída é usar o comando reduce em comjunto com map\n",
    "# o comando map gera os termos e reduce soma-os\n",
    "reduce(+, map(fg2, 1:3,1:3))"
   ]
  },
  {
   "cell_type": "markdown",
   "metadata": {},
   "source": [
    "### FUNÇÕES ANÔNIMAS"
   ]
  },
  {
   "cell_type": "code",
   "execution_count": 84,
   "metadata": {
    "scrolled": true
   },
   "outputs": [
    {
     "data": {
      "text/plain": [
       "5-element Array{Float64,1}:\n",
       "  1.6154460079755786\n",
       " -2.066796380033545 \n",
       " -4.1224584178844195\n",
       " -2.890188838553125 \n",
       "  4.1516614195134665"
      ]
     },
     "execution_count": 84,
     "metadata": {},
     "output_type": "execute_result"
    }
   ],
   "source": [
    "# função de uma variável\n",
    "map(x -> sqrt(2*x + cos(x)^3)/sin(x^2 + 1), 1:5)"
   ]
  },
  {
   "cell_type": "code",
   "execution_count": 85,
   "metadata": {
    "scrolled": true
   },
   "outputs": [
    {
     "data": {
      "text/plain": [
       "5-element Array{Float64,1}:\n",
       "  1.6154460079755786\n",
       " -2.066796380033545 \n",
       " -4.1224584178844195\n",
       " -2.890188838553125 \n",
       "  4.1516614195134665"
      ]
     },
     "execution_count": 85,
     "metadata": {},
     "output_type": "execute_result"
    }
   ],
   "source": [
    "# função de duas variáveis\n",
    "# os vetores de X e Y devem ter as mesmas dimensões\n",
    "map((x, y)-> sqrt(2*x + cos(y)^3)/sin(y^2 + 1), 1:5, 1:5)"
   ]
  },
  {
   "cell_type": "markdown",
   "metadata": {},
   "source": [
    "**Mapeamento com o comando DO**"
   ]
  },
  {
   "cell_type": "code",
   "execution_count": 86,
   "metadata": {},
   "outputs": [
    {
     "data": {
      "text/plain": [
       "7-element Array{String,1}:\n",
       " \"positivo\"\n",
       " \"negativo\"\n",
       " \"negativo\"\n",
       " \"negativo\"\n",
       " \"negativo\"\n",
       " \"negativo\"\n",
       " \"positivo\""
      ]
     },
     "execution_count": 86,
     "metadata": {},
     "output_type": "execute_result"
    }
   ],
   "source": [
    "# para quem achava que o \"do\" não servia para nada, heehheh\n",
    "\n",
    "map(-3:3) do x\n",
    "    if x^2 - 5 < 0 \n",
    "        return \"negativo\"\n",
    "    elseif x == 0\n",
    "        return \"zero\"\n",
    "    elseif exp(x) > 0\n",
    "        return \"positivo\"\n",
    "    else\n",
    "        return \"Estranho\"\n",
    "    end\n",
    "end"
   ]
  },
  {
   "cell_type": "code",
   "execution_count": 87,
   "metadata": {},
   "outputs": [
    {
     "data": {
      "text/plain": [
       "-3.3854136841642646"
      ]
     },
     "execution_count": 87,
     "metadata": {},
     "output_type": "execute_result"
    }
   ],
   "source": [
    "# utilizando uma função anonima para calcular os valores de 0 a 3 e somar os resultados\n",
    "mapreduce( x -> sqrt(2*x + cos(x)^3)/sin(x^2 + 1), + , 0:3)"
   ]
  },
  {
   "cell_type": "code",
   "execution_count": 88,
   "metadata": {},
   "outputs": [
    {
     "data": {
      "text/plain": [
       "31"
      ]
     },
     "execution_count": 88,
     "metadata": {},
     "output_type": "execute_result"
    }
   ],
   "source": [
    "# para duas variáveis a saída é usar o comando reduce em comjunto com map\n",
    "# o comando map gera os termos e reduce soma-os\n",
    "reduce( + , map((x , y) -> 2*y^2 - 1 + x  , 1:3 , 1:3))"
   ]
  },
  {
   "cell_type": "markdown",
   "metadata": {},
   "source": [
    "## COMPREENSÃO DE LISTA\n",
    "\n",
    "As compreensões de lista é um recurso muito útil para aplicar uma função à um vetor ou matriz e surgiu inicialmente na linguagem de programação funcional Haskell. Do ponto de vista da linguagem `Haskell`, VIEIRA (2014), exclarece que:\n",
    "\n",
    "> As compreensões, também conhecidas como expressões ZF, são devidas a Zermelo e Fraenkel e representam uma forma muito rica de construção de listas. O domı́nio desta técnica permite ao programador resolver muitos problemas de maneira simples e, em muitos casos, inusitada. A sintaxe das expressões ZF é muito próxima da descrição matemática de conjuntos por intensionalidade, exprimindo determinadas propriedades. As diferenças se verificam apenas nos sinais utilizados nas representações, mas a lógica subjacente é a mesma.\n",
    "\n",
    "Sintaxe genérica:\n",
    "```julia\n",
    "[expressao_var/função for var = vetor]  # resultado é um vetor.\n",
    "[expressao_var/função for var = matriz] # resultado é uma matriz.\n",
    "\n",
    "[expressao_var/função for var_1 = vetor, var_2 = vetor]   # resultado é uma matriz.\n",
    "[expressao_var/função for var_1 = matriz, var_2 = matriz] # resultado é uma matriz.\n",
    "\n",
    "[expressao_var/função for var_1 = vetor for var_2 = vetor]   # resultado é um vetor.\n",
    "[expressao_var/função for var_1 = matriz for var_2 = matriz] # resultado é um vetor.\n",
    "\n",
    "[expressao_var/função for var_1 = vetor if condição]  # resultado é um vetor.\n",
    "[expressao_var/função for var_1 = matriz if condição] # resultado é um vetor.\n",
    "```"
   ]
  },
  {
   "cell_type": "markdown",
   "metadata": {},
   "source": [
    "### EXPRESSÕES E EXPRESSÕES SIMBÓLICAS"
   ]
  },
  {
   "cell_type": "code",
   "execution_count": 89,
   "metadata": {
    "scrolled": true
   },
   "outputs": [
    {
     "data": {
      "text/plain": [
       "5-element Array{Int64,1}:\n",
       "  2\n",
       "  5\n",
       " 10\n",
       " 17\n",
       " 26"
      ]
     },
     "execution_count": 89,
     "metadata": {},
     "output_type": "execute_result"
    }
   ],
   "source": [
    "[i^2 + 1 for i = 1:5]"
   ]
  },
  {
   "cell_type": "code",
   "execution_count": 90,
   "metadata": {},
   "outputs": [
    {
     "data": {
      "text/plain": [
       "5-element Array{Array{Int64,1},1}:\n",
       " [1, 2] \n",
       " [2, 5] \n",
       " [3, 10]\n",
       " [4, 17]\n",
       " [5, 26]"
      ]
     },
     "execution_count": 90,
     "metadata": {},
     "output_type": "execute_result"
    }
   ],
   "source": [
    "# para visualizar a relação entre i e i^2 + 1\n",
    "[[i, i^2 + 1] for i = 1:5]"
   ]
  },
  {
   "cell_type": "code",
   "execution_count": 91,
   "metadata": {},
   "outputs": [
    {
     "data": {
      "text/plain": [
       "3×3 Array{Int64,2}:\n",
       " 1  2  3\n",
       " 2  4  6\n",
       " 3  6  9"
      ]
     },
     "execution_count": 91,
     "metadata": {},
     "output_type": "execute_result"
    }
   ],
   "source": [
    "[i*j for i = 1:3, j = 1:3]"
   ]
  },
  {
   "cell_type": "code",
   "execution_count": 92,
   "metadata": {
    "scrolled": true
   },
   "outputs": [
    {
     "data": {
      "text/plain": [
       "3×3 Array{Array{Int64,1},2}:\n",
       " [1, 1, 1]  [1, 2, 2]  [1, 3, 3]\n",
       " [2, 1, 2]  [2, 2, 4]  [2, 3, 6]\n",
       " [3, 1, 3]  [3, 2, 6]  [3, 3, 9]"
      ]
     },
     "execution_count": 92,
     "metadata": {},
     "output_type": "execute_result"
    }
   ],
   "source": [
    "# para visualizar a relação entre i , j e i*j\n",
    "[[i , j , i*j] for i = 1:3, j = 1:3]"
   ]
  },
  {
   "cell_type": "code",
   "execution_count": 93,
   "metadata": {},
   "outputs": [
    {
     "data": {
      "text/plain": [
       "9-element Array{Int64,1}:\n",
       " 1\n",
       " 2\n",
       " 3\n",
       " 2\n",
       " 4\n",
       " 6\n",
       " 3\n",
       " 6\n",
       " 9"
      ]
     },
     "execution_count": 93,
     "metadata": {},
     "output_type": "execute_result"
    }
   ],
   "source": [
    "[i*j for i = 1:3 for j = 1:3]"
   ]
  },
  {
   "cell_type": "code",
   "execution_count": 94,
   "metadata": {},
   "outputs": [
    {
     "data": {
      "text/plain": [
       "3-element Array{Int64,1}:\n",
       " 10\n",
       " 17\n",
       " 26"
      ]
     },
     "execution_count": 94,
     "metadata": {},
     "output_type": "execute_result"
    }
   ],
   "source": [
    "[i^2 + 1 for i = 1:5 if i > 2]"
   ]
  },
  {
   "cell_type": "code",
   "execution_count": 95,
   "metadata": {},
   "outputs": [
    {
     "data": {
      "text/plain": [
       "3-element Array{Int64,1}:\n",
       " 10\n",
       " 17\n",
       " 26"
      ]
     },
     "execution_count": 95,
     "metadata": {},
     "output_type": "execute_result"
    }
   ],
   "source": [
    "[i^2 + 1 for i = 1:5 if i*2 > 5]"
   ]
  },
  {
   "cell_type": "code",
   "execution_count": 96,
   "metadata": {},
   "outputs": [
    {
     "data": {
      "text/plain": [
       "3-element Array{Int64,1}:\n",
       " 3\n",
       " 6\n",
       " 9"
      ]
     },
     "execution_count": 96,
     "metadata": {},
     "output_type": "execute_result"
    }
   ],
   "source": [
    "[i*j for i = 1:3 for j = 1:3 if i>2]"
   ]
  },
  {
   "cell_type": "code",
   "execution_count": 97,
   "metadata": {
    "scrolled": true
   },
   "outputs": [
    {
     "data": {
      "text/plain": [
       "2-element Array{Int64,1}:\n",
       " 3\n",
       " 6"
      ]
     },
     "execution_count": 97,
     "metadata": {},
     "output_type": "execute_result"
    }
   ],
   "source": [
    "[i*j for i = 1:3 for j = 1:3 if (i>2) & (j<3)]"
   ]
  },
  {
   "cell_type": "code",
   "execution_count": 98,
   "metadata": {},
   "outputs": [
    {
     "data": {
      "text/plain": [
       "(x, y)"
      ]
     },
     "execution_count": 98,
     "metadata": {},
     "output_type": "execute_result"
    }
   ],
   "source": [
    "using SymPy\n",
    "@syms x y"
   ]
  },
  {
   "cell_type": "code",
   "execution_count": 99,
   "metadata": {
    "scrolled": true
   },
   "outputs": [
    {
     "data": {
      "text/plain": [
       "3×3 Array{Int64,2}:\n",
       " 1  2  3\n",
       " 2  4  6\n",
       " 3  6  9"
      ]
     },
     "execution_count": 99,
     "metadata": {},
     "output_type": "execute_result"
    }
   ],
   "source": [
    "[x*y for x = 1:3, y = 1:3]"
   ]
  },
  {
   "cell_type": "markdown",
   "metadata": {},
   "source": [
    "### FUNÇÃO GENÉRICA"
   ]
  },
  {
   "cell_type": "code",
   "execution_count": 100,
   "metadata": {},
   "outputs": [
    {
     "data": {
      "text/plain": [
       "fg5 (generic function with 1 method)"
      ]
     },
     "execution_count": 100,
     "metadata": {},
     "output_type": "execute_result"
    }
   ],
   "source": [
    "fg5(x) = sqrt(2*x + cos(x)^3)/sin(x^2 + 1)"
   ]
  },
  {
   "cell_type": "code",
   "execution_count": 101,
   "metadata": {},
   "outputs": [
    {
     "data": {
      "text/plain": [
       "3-element Array{Float64,1}:\n",
       "  1.6154460079755786\n",
       " -2.066796380033545 \n",
       " -4.1224584178844195"
      ]
     },
     "execution_count": 101,
     "metadata": {},
     "output_type": "execute_result"
    }
   ],
   "source": [
    "[fg5(i) for i = 1:3]"
   ]
  },
  {
   "cell_type": "code",
   "execution_count": 102,
   "metadata": {},
   "outputs": [
    {
     "data": {
      "text/plain": [
       "fg6 (generic function with 1 method)"
      ]
     },
     "execution_count": 102,
     "metadata": {},
     "output_type": "execute_result"
    }
   ],
   "source": [
    "# função de duas variáveis\n",
    "fg6(x, y) = sqrt(2*x + cos(y)^3)/sin(y^2 + 1)"
   ]
  },
  {
   "cell_type": "code",
   "execution_count": 103,
   "metadata": {},
   "outputs": [
    {
     "data": {
      "text/plain": [
       "3×3 Array{Float64,2}:\n",
       " 1.61545  -1.44798  -1.86528\n",
       " 2.24245  -2.0668   -3.19953\n",
       " 2.729    -2.53903  -4.12246"
      ]
     },
     "execution_count": 103,
     "metadata": {},
     "output_type": "execute_result"
    }
   ],
   "source": [
    "[fg6(i, j) for i = 1:3, j = 1:3]"
   ]
  },
  {
   "cell_type": "code",
   "execution_count": 104,
   "metadata": {},
   "outputs": [
    {
     "data": {
      "text/plain": [
       "fg7 (generic function with 1 method)"
      ]
     },
     "execution_count": 104,
     "metadata": {},
     "output_type": "execute_result"
    }
   ],
   "source": [
    "# LC aplicado a uma função genérica em blocos\n",
    "\n",
    "function fg7(x)\n",
    "    if x > 5\n",
    "        return x*0\n",
    "    elseif x < 5\n",
    "        return x*x\n",
    "    elseif x == 5\n",
    "        return x\n",
    "    end\n",
    "end"
   ]
  },
  {
   "cell_type": "code",
   "execution_count": 105,
   "metadata": {
    "scrolled": true
   },
   "outputs": [
    {
     "data": {
      "text/plain": [
       "6-element Array{Int64,1}:\n",
       "  1\n",
       "  4\n",
       "  9\n",
       " 16\n",
       "  5\n",
       "  0"
      ]
     },
     "execution_count": 105,
     "metadata": {},
     "output_type": "execute_result"
    }
   ],
   "source": [
    "[fg7(i) for i = 1:6]"
   ]
  },
  {
   "cell_type": "markdown",
   "metadata": {},
   "source": [
    "## FILTRAGEM\n",
    "\n",
    "Julia permite realizar a filtragem de dados de várias formas em um vetor ou matriz. Neste ponto, utilizaremos a função `filter()` e `List Compreension`. \n",
    "\n",
    "A função `filter()` devolve uma nova sequência formada pelos itens para os quais a `função` é verdadeiro. Sintaxe:\n",
    "```julia\n",
    "filter(função, coleção)\n",
    "```\n",
    "\n",
    "Sendo collection um vetor, matriz, tupla e outros. Só é possível trabalhar `filter()` com funções anônimas e genéricas.\n",
    "\n",
    "Uma `List Compreension` é definida da seguinte forma:\n",
    "```julia\n",
    "[função/expressão for var = coleção if condição]\n",
    "```"
   ]
  },
  {
   "cell_type": "markdown",
   "metadata": {},
   "source": [
    "### EXPRESSÕES E EXPRESSÕES SIMBÓLICAS"
   ]
  },
  {
   "cell_type": "code",
   "execution_count": 106,
   "metadata": {},
   "outputs": [
    {
     "data": {
      "text/plain": [
       "4-element Array{Int64,1}:\n",
       " 2\n",
       " 4\n",
       " 5\n",
       " 6"
      ]
     },
     "execution_count": 106,
     "metadata": {},
     "output_type": "execute_result"
    }
   ],
   "source": [
    " # expressão \n",
    "[x + 1 for x = 1:5 if x != 2]"
   ]
  },
  {
   "cell_type": "code",
   "execution_count": 107,
   "metadata": {},
   "outputs": [
    {
     "data": {
      "text/plain": [
       "(x,)"
      ]
     },
     "execution_count": 107,
     "metadata": {},
     "output_type": "execute_result"
    }
   ],
   "source": [
    "using SymPy\n",
    "@syms x"
   ]
  },
  {
   "cell_type": "code",
   "execution_count": 108,
   "metadata": {
    "scrolled": true
   },
   "outputs": [
    {
     "data": {
      "text/plain": [
       "3-element Array{Int64,1}:\n",
       " 2\n",
       " 3\n",
       " 4"
      ]
     },
     "execution_count": 108,
     "metadata": {},
     "output_type": "execute_result"
    }
   ],
   "source": [
    "fs = x^2  # expressão simbólica\n",
    "[x + 1 for x = 1:5 if fs(x) < 10]"
   ]
  },
  {
   "cell_type": "code",
   "execution_count": 109,
   "metadata": {},
   "outputs": [
    {
     "name": "stdout",
     "output_type": "stream",
     "text": [
      "-1 , -1\n",
      "0 , -1\n",
      "-1 , 0\n"
     ]
    }
   ],
   "source": [
    "# Filtragem de expressões   \n",
    "[println(\"$x , $y\") for x = -1:3 , y = -1:3  if x + y < 0];"
   ]
  },
  {
   "cell_type": "markdown",
   "metadata": {},
   "source": [
    "### FUNÇÕES GENÉRICAS"
   ]
  },
  {
   "cell_type": "code",
   "execution_count": 110,
   "metadata": {},
   "outputs": [
    {
     "data": {
      "text/plain": [
       "fg1 (generic function with 1 method)"
      ]
     },
     "execution_count": 110,
     "metadata": {},
     "output_type": "execute_result"
    }
   ],
   "source": [
    "# definindo a função < 1\n",
    "fg1(x) = sqrt(2*x + cos(x)^3)/sin(x^2 + 1) < 1"
   ]
  },
  {
   "cell_type": "code",
   "execution_count": 111,
   "metadata": {},
   "outputs": [
    {
     "data": {
      "text/plain": [
       "5-element Array{Int64,1}:\n",
       " 3\n",
       " 6\n",
       " 4\n",
       " 7\n",
       " 2"
      ]
     },
     "execution_count": 111,
     "metadata": {},
     "output_type": "execute_result"
    }
   ],
   "source": [
    "# Matriz\n",
    "filter(fg1, [0 1 2 ; 3 4 5 ; 6 7 8])"
   ]
  },
  {
   "cell_type": "code",
   "execution_count": 112,
   "metadata": {},
   "outputs": [
    {
     "data": {
      "text/plain": [
       "fg2 (generic function with 2 methods)"
      ]
     },
     "execution_count": 112,
     "metadata": {},
     "output_type": "execute_result"
    }
   ],
   "source": [
    "# definindo a função tipo function < 1\n",
    "function fg2(x)\n",
    "    sqrt(2*x + cos(x)^3)/sin(x^2 + 1) < 1\n",
    "end"
   ]
  },
  {
   "cell_type": "code",
   "execution_count": 113,
   "metadata": {},
   "outputs": [
    {
     "data": {
      "text/plain": [
       "2-element Array{Int64,1}:\n",
       " 2\n",
       " 3"
      ]
     },
     "execution_count": 113,
     "metadata": {},
     "output_type": "execute_result"
    }
   ],
   "source": [
    "filter(fg2, 1:3)"
   ]
  },
  {
   "cell_type": "markdown",
   "metadata": {},
   "source": [
    "**Filtragem com LC**"
   ]
  },
  {
   "cell_type": "code",
   "execution_count": 114,
   "metadata": {},
   "outputs": [
    {
     "data": {
      "text/plain": [
       "fg3 (generic function with 1 method)"
      ]
     },
     "execution_count": 114,
     "metadata": {},
     "output_type": "execute_result"
    }
   ],
   "source": [
    "fg3(x) = sqrt(2*x + cos(x)^3)/sin(x^2 + 1)"
   ]
  },
  {
   "cell_type": "code",
   "execution_count": 115,
   "metadata": {},
   "outputs": [
    {
     "data": {
      "text/plain": [
       "2-element Array{Int64,1}:\n",
       "  5\n",
       " 10"
      ]
     },
     "execution_count": 115,
     "metadata": {},
     "output_type": "execute_result"
    }
   ],
   "source": [
    "[i^2 + 1 for i = 0:3 if fg3(i) < 1 ]"
   ]
  },
  {
   "cell_type": "code",
   "execution_count": 116,
   "metadata": {},
   "outputs": [
    {
     "data": {
      "text/plain": [
       "fg4 (generic function with 1 method)"
      ]
     },
     "execution_count": 116,
     "metadata": {},
     "output_type": "execute_result"
    }
   ],
   "source": [
    "fg4(x) = sqrt(2*x + cos(x)^3)/sin(x^2 + 1) < 1 "
   ]
  },
  {
   "cell_type": "code",
   "execution_count": 117,
   "metadata": {},
   "outputs": [
    {
     "data": {
      "text/plain": [
       "4-element Array{Int64,1}:\n",
       "  5\n",
       "  5\n",
       "  5\n",
       " 50"
      ]
     },
     "execution_count": 117,
     "metadata": {},
     "output_type": "execute_result"
    }
   ],
   "source": [
    "[i^2 + 1 for i = filter(fg4, rand(0:10, 3, 3))]"
   ]
  },
  {
   "cell_type": "markdown",
   "metadata": {},
   "source": [
    "### FUNÇÕES ANÔNIMAS"
   ]
  },
  {
   "cell_type": "code",
   "execution_count": 118,
   "metadata": {},
   "outputs": [
    {
     "data": {
      "text/plain": [
       "2-element Array{Int64,1}:\n",
       " 2\n",
       " 3"
      ]
     },
     "execution_count": 118,
     "metadata": {},
     "output_type": "execute_result"
    }
   ],
   "source": [
    "filter(x -> sqrt(2*x + cos(x)^3)/sin(x^2 + 1) < 1, 0:3)"
   ]
  },
  {
   "cell_type": "code",
   "execution_count": 119,
   "metadata": {},
   "outputs": [
    {
     "data": {
      "text/plain": [
       "#108 (generic function with 1 method)"
      ]
     },
     "execution_count": 119,
     "metadata": {},
     "output_type": "execute_result"
    }
   ],
   "source": [
    "f_ano_1 = x -> sqrt(2*x + cos(x)^3)/sin(x^2 + 1) < 1"
   ]
  },
  {
   "cell_type": "code",
   "execution_count": 120,
   "metadata": {},
   "outputs": [
    {
     "data": {
      "text/plain": [
       "2-element Array{Int64,1}:\n",
       " 2\n",
       " 3"
      ]
     },
     "execution_count": 120,
     "metadata": {},
     "output_type": "execute_result"
    }
   ],
   "source": [
    "filter(f_ano_1, 1:3)"
   ]
  },
  {
   "cell_type": "code",
   "execution_count": 121,
   "metadata": {},
   "outputs": [
    {
     "data": {
      "text/plain": [
       "4-element Array{Int64,1}:\n",
       "  4\n",
       "  9\n",
       " 16\n",
       " 25"
      ]
     },
     "execution_count": 121,
     "metadata": {},
     "output_type": "execute_result"
    }
   ],
   "source": [
    "# filtragem com LC\n",
    "[x*x for x = filter(x -> x^2 - x -1 >= 0, 1:5)]"
   ]
  },
  {
   "cell_type": "code",
   "execution_count": 122,
   "metadata": {
    "scrolled": true
   },
   "outputs": [
    {
     "data": {
      "text/plain": [
       "4-element Array{Int64,1}:\n",
       "  4\n",
       "  9\n",
       " 16\n",
       " 25"
      ]
     },
     "execution_count": 122,
     "metadata": {},
     "output_type": "execute_result"
    }
   ],
   "source": [
    "# outra forma\n",
    "[x*x for x = 1:5 if (x^2 - x -1 >= 0)]"
   ]
  },
  {
   "cell_type": "code",
   "execution_count": 123,
   "metadata": {
    "scrolled": true
   },
   "outputs": [
    {
     "data": {
      "text/plain": [
       "3-element Array{Int64,1}:\n",
       " 4\n",
       " 5\n",
       " 1"
      ]
     },
     "execution_count": 123,
     "metadata": {},
     "output_type": "execute_result"
    }
   ],
   "source": [
    "v1 = collect(1:10)\n",
    "v2 = [4, 5, 1]"
   ]
  },
  {
   "cell_type": "markdown",
   "metadata": {},
   "source": [
    "Filtrar vários elementos de um vetor"
   ]
  },
  {
   "cell_type": "code",
   "execution_count": 124,
   "metadata": {},
   "outputs": [
    {
     "data": {
      "text/plain": [
       "7-element Array{Int64,1}:\n",
       "  2\n",
       "  3\n",
       "  6\n",
       "  7\n",
       "  8\n",
       "  9\n",
       " 10"
      ]
     },
     "execution_count": 124,
     "metadata": {},
     "output_type": "execute_result"
    }
   ],
   "source": [
    "filter!(x->x ∉ v2, v1)"
   ]
  },
  {
   "cell_type": "code",
   "execution_count": 125,
   "metadata": {},
   "outputs": [
    {
     "data": {
      "text/plain": [
       "7-element Array{Int64,1}:\n",
       "  2\n",
       "  3\n",
       "  6\n",
       "  7\n",
       "  8\n",
       "  9\n",
       " 10"
      ]
     },
     "execution_count": 125,
     "metadata": {},
     "output_type": "execute_result"
    }
   ],
   "source": [
    "[x for x = v1 if v2 ∉ v1]"
   ]
  },
  {
   "cell_type": "markdown",
   "metadata": {},
   "source": [
    "### FUNÇÃO COMPOSTA\n",
    "\n",
    "A função composta, de acordo com a matemática, pode ser entendida pela determinação de uma terceira função $C$, formada pela junção das funções $A$ e $B$. \n",
    "\n",
    "<img src=\"Figuras/funcao-composta.png\" align=\"center\" width=\"300\">\n",
    "\n",
    "Matematicamente falando, definimos a composta de $f$ com $g$ e chamamos por  ($f ~“bola”~ g$), à função dada por  $(f o g)(x) = f(g(x))$. A função $h(x) = f(g(x))$ é então chamada de função composta de $f$ com $g$, aplicada em x. Sintaxe\n",
    "```julia \n",
    "função_F \\circ<tab> função_G\n",
    "ou \n",
    "\\circ<tab>(função_F, função_G)\n",
    "```"
   ]
  },
  {
   "cell_type": "code",
   "execution_count": 126,
   "metadata": {},
   "outputs": [
    {
     "data": {
      "text/plain": [
       "F (generic function with 1 method)"
      ]
     },
     "execution_count": 126,
     "metadata": {},
     "output_type": "execute_result"
    }
   ],
   "source": [
    "F(x) = x + 2"
   ]
  },
  {
   "cell_type": "code",
   "execution_count": 127,
   "metadata": {},
   "outputs": [
    {
     "data": {
      "text/plain": [
       "G (generic function with 1 method)"
      ]
     },
     "execution_count": 127,
     "metadata": {},
     "output_type": "execute_result"
    }
   ],
   "source": [
    "G(x) = x^2"
   ]
  },
  {
   "cell_type": "code",
   "execution_count": 128,
   "metadata": {
    "scrolled": true
   },
   "outputs": [
    {
     "data": {
      "text/plain": [
       "2"
      ]
     },
     "execution_count": 128,
     "metadata": {},
     "output_type": "execute_result"
    }
   ],
   "source": [
    "(F ∘ G)(0)"
   ]
  },
  {
   "cell_type": "code",
   "execution_count": 129,
   "metadata": {},
   "outputs": [
    {
     "data": {
      "text/plain": [
       "2"
      ]
     },
     "execution_count": 129,
     "metadata": {},
     "output_type": "execute_result"
    }
   ],
   "source": [
    "∘(F, G)(0)"
   ]
  },
  {
   "cell_type": "markdown",
   "metadata": {},
   "source": [
    "É possível definir um operador para composição de função na forma:\n",
    "```julia\n",
    "operador(f:Function, g::Function) = argumento -> f(g(argumento)) \n",
    "```"
   ]
  },
  {
   "cell_type": "code",
   "execution_count": 130,
   "metadata": {},
   "outputs": [
    {
     "data": {
      "text/plain": [
       "cp (generic function with 1 method)"
      ]
     },
     "execution_count": 130,
     "metadata": {},
     "output_type": "execute_result"
    }
   ],
   "source": [
    "cp(f::Function, g::Function) = x -> f(g(x))"
   ]
  },
  {
   "cell_type": "code",
   "execution_count": 131,
   "metadata": {},
   "outputs": [
    {
     "data": {
      "text/plain": [
       "2"
      ]
     },
     "execution_count": 131,
     "metadata": {},
     "output_type": "execute_result"
    }
   ],
   "source": [
    "cp(F, G)(0)"
   ]
  },
  {
   "cell_type": "markdown",
   "metadata": {},
   "source": [
    "### FUNÇÕES ANINHADAS, CLOUSERES E CURRING\n",
    "\n",
    "Na linguagem Julia existe o conceito de funções aninhadas, no qual você pode definir funções dentro do corpo de outra função. um `Clousure` é uma função avaliada num ambiente que contenha uma ou mais variáveis dependentes de um outro meio ambiente. Quando é chamado, a função pode acessar essas variáveis. Uma closure ocorre normalmente quando uma função é declarada dentro do corpo de outra, e a função interior referencia variáveis locais da função exterior. Em tempo de execução, quando a função exterior é executada, então uma closure é formada, que consiste do código da função interior e referências para quaisquer variáveis no escopo da função exterior que a closure necessita.O uso explícito de `Clousures` está associada com linguagens de programação funcionais como ML e Lisp. \n",
    "\n",
    "O conceito de `Closure` foi desenvolvido nos anos 60 e implementado por completo, pela primeira vez como uma característica da linguagem `Scheme`. Desde então, muitas outras línguas foram concebidos para resistir a encerramentos. "
   ]
  },
  {
   "cell_type": "code",
   "execution_count": 132,
   "metadata": {},
   "outputs": [
    {
     "data": {
      "text/plain": [
       "raizes (generic function with 1 method)"
      ]
     },
     "execution_count": 132,
     "metadata": {},
     "output_type": "execute_result"
    }
   ],
   "source": [
    "function raizes(a, b, c)\n",
    "       \n",
    "    function delta()\n",
    "        return b^2 - 4*a*c\n",
    "    end\n",
    "    \n",
    "    return -b + sqrt(delta())/2*a, -b - sqrt(delta())/2*a\n",
    "end"
   ]
  },
  {
   "cell_type": "code",
   "execution_count": 133,
   "metadata": {},
   "outputs": [
    {
     "data": {
      "text/plain": [
       "(1.4641016151377544, -5.464101615137754)"
      ]
     },
     "execution_count": 133,
     "metadata": {},
     "output_type": "execute_result"
    }
   ],
   "source": [
    "raizes(2, 2, -1)"
   ]
  },
  {
   "cell_type": "markdown",
   "metadata": {},
   "source": [
    "### Curring\n",
    "\n",
    "Currying é uma técnica muito utilizada em linguagens funcionais, que consiste em transformar uma função que recebe múltiplos argumentos em uma sequência de funções que recebem um único argumento (LUCAS SOUSA (), XXX). A principal razão para utilizar a técnica de `Currying` em Julia é tornar possível executar uma função com um número reduzido de argumentos para funcionar. Exemplo de `Curryng`:"
   ]
  },
  {
   "cell_type": "code",
   "execution_count": 134,
   "metadata": {},
   "outputs": [
    {
     "data": {
      "text/plain": [
       "produto (generic function with 1 method)"
      ]
     },
     "execution_count": 134,
     "metadata": {},
     "output_type": "execute_result"
    }
   ],
   "source": [
    "function produto(x)\n",
    "    return function f(y)\n",
    "        return x*y\n",
    "    end\n",
    "end"
   ]
  },
  {
   "cell_type": "markdown",
   "metadata": {},
   "source": [
    "A função `produto` recebe apenas um argumento e retorna outra função que recebe também apenas um argumento de entrada"
   ]
  },
  {
   "cell_type": "code",
   "execution_count": 135,
   "metadata": {},
   "outputs": [
    {
     "data": {
      "text/plain": [
       "(::getfield(Main, Symbol(\"#f#127\")){Int64}) (generic function with 1 method)"
      ]
     },
     "execution_count": 135,
     "metadata": {},
     "output_type": "execute_result"
    }
   ],
   "source": [
    "funcaoP = produto(5)"
   ]
  },
  {
   "cell_type": "code",
   "execution_count": 136,
   "metadata": {},
   "outputs": [
    {
     "data": {
      "text/plain": [
       "10"
      ]
     },
     "execution_count": 136,
     "metadata": {},
     "output_type": "execute_result"
    }
   ],
   "source": [
    "funcaoP(2)"
   ]
  },
  {
   "cell_type": "code",
   "execution_count": 137,
   "metadata": {},
   "outputs": [
    {
     "data": {
      "text/plain": [
       "10"
      ]
     },
     "execution_count": 137,
     "metadata": {},
     "output_type": "execute_result"
    }
   ],
   "source": [
    "produto(5)(2)"
   ]
  },
  {
   "cell_type": "code",
   "execution_count": 138,
   "metadata": {},
   "outputs": [
    {
     "data": {
      "text/plain": [
       "funcaoA (generic function with 1 method)"
      ]
     },
     "execution_count": 138,
     "metadata": {},
     "output_type": "execute_result"
    }
   ],
   "source": [
    "function funcaoA(expoente)\n",
    "    f(x) =   x^expoente\n",
    "end"
   ]
  },
  {
   "cell_type": "markdown",
   "metadata": {},
   "source": [
    "Abaixo podemos ver que o retorno da função genérica  $x^{2}$ para `funcaoB`"
   ]
  },
  {
   "cell_type": "code",
   "execution_count": 139,
   "metadata": {},
   "outputs": [
    {
     "data": {
      "text/plain": [
       "(::getfield(Main, Symbol(\"#f#128\")){Int64}) (generic function with 1 method)"
      ]
     },
     "execution_count": 139,
     "metadata": {},
     "output_type": "execute_result"
    }
   ],
   "source": [
    "funcaoB = funcaoA(2)"
   ]
  },
  {
   "cell_type": "code",
   "execution_count": 140,
   "metadata": {},
   "outputs": [
    {
     "data": {
      "text/plain": [
       "9"
      ]
     },
     "execution_count": 140,
     "metadata": {},
     "output_type": "execute_result"
    }
   ],
   "source": [
    "funcaoB(3)"
   ]
  },
  {
   "cell_type": "code",
   "execution_count": 141,
   "metadata": {},
   "outputs": [
    {
     "data": {
      "text/plain": [
       "9"
      ]
     },
     "execution_count": 141,
     "metadata": {},
     "output_type": "execute_result"
    }
   ],
   "source": [
    "funcaoA(2)(3)"
   ]
  },
  {
   "cell_type": "markdown",
   "metadata": {
    "collapsed": true
   },
   "source": [
    "Utilizando uma função anônima"
   ]
  },
  {
   "cell_type": "code",
   "execution_count": 142,
   "metadata": {},
   "outputs": [
    {
     "data": {
      "text/plain": [
       "#130 (generic function with 1 method)"
      ]
     },
     "execution_count": 142,
     "metadata": {},
     "output_type": "execute_result"
    }
   ],
   "source": [
    "fA = (expoente ->  x -> x^expoente)(2)"
   ]
  },
  {
   "cell_type": "code",
   "execution_count": 143,
   "metadata": {},
   "outputs": [
    {
     "data": {
      "text/plain": [
       "9"
      ]
     },
     "execution_count": 143,
     "metadata": {},
     "output_type": "execute_result"
    }
   ],
   "source": [
    "fA(3)"
   ]
  },
  {
   "cell_type": "code",
   "execution_count": 144,
   "metadata": {},
   "outputs": [
    {
     "data": {
      "text/plain": [
       "9"
      ]
     },
     "execution_count": 144,
     "metadata": {},
     "output_type": "execute_result"
    }
   ],
   "source": [
    "(expoente -> x -> x^expoente)(2)(3)"
   ]
  },
  {
   "cell_type": "markdown",
   "metadata": {},
   "source": [
    "### RECURSIVIDADE\n",
    "\n",
    "\"Recursão é a habilidade que uma função tem de chamar a si mesma, ou seja, é a técnica que consiste simplesmente em aplicar uma função como parte da definição dessa mesma função (LAUREANO,2005)\". Isso permite que a função se repita várias vezes até que uma condição definida ocorra e pare o processo recursivo. O corpo de uma função recursiva geralmente possui duas partes:\n",
    "\n",
    "  - Casos base: Aqueles que não exigem recursão e em geral retornam um resultado e encerram a recursão.\n",
    "  - Casos recursivo: Aqueles que utilizam um passo recursivo em que se tenta resolver um sub-problema do problema inicial\n",
    "  \n",
    "As funções recursivas são muito utilizadas na ciência da computação porque permitem aos programadores escrever programas eficientes usando poucas linhas de código. A desvantagem é que elas podem causar infinitos loops e outros resultados não planejados, caso sejam escritas de forma errada, sem um caso base. Por exemplo, no exemplo, a função função `Fibonacci` encerra o método recursivo se o número for menor que 2. Se os casos bases não forem incluídos na função para parar a execução, a recursão será repetida para sempre."
   ]
  },
  {
   "cell_type": "code",
   "execution_count": 145,
   "metadata": {},
   "outputs": [
    {
     "data": {
      "text/plain": [
       "fatorial (generic function with 1 method)"
      ]
     },
     "execution_count": 145,
     "metadata": {},
     "output_type": "execute_result"
    }
   ],
   "source": [
    "function fatorial(n)\n",
    "    if n == 0     # caso base\n",
    "        return 1 \n",
    "    elseif n > 0  # caso recursivo\n",
    "        return fatorial(n - 1)* n\n",
    "    end\n",
    "end"
   ]
  },
  {
   "cell_type": "code",
   "execution_count": 146,
   "metadata": {},
   "outputs": [
    {
     "data": {
      "text/plain": [
       "120"
      ]
     },
     "execution_count": 146,
     "metadata": {},
     "output_type": "execute_result"
    }
   ],
   "source": [
    "fatorial(5)"
   ]
  },
  {
   "cell_type": "markdown",
   "metadata": {},
   "source": [
    "**Função série de Fibonacci Recursiva** \n",
    "\n",
    "Na matemática, a série de Fibonacci é uma sequência de números inteiros, começando normalmente por 0 e 1, na qual, cada termo subsequente corresponde a soma dos dois anteriores. A sequência recebeu o nome do matemático italiano Leonardo de Pisa, mais conhecido por Fibonacci , que descreveu, no ano de 1202, o crescimento de uma população de coelhos, a partir desta. Tal sequência já era no entanto, conhecida na antiguidade.\n",
    "\n",
    "Os números de Fibonacci são, portanto, os números que compõem a seguinte sequência (sequência A000045 na OEIS):\n",
    "\n",
    "    0,1, 1, 2, 3, 5, 8, 13, 21, 34, 55, 89, 144, 233, 377, 610, 987, 1597, 2584, ... .\n",
    "\n",
    "Em termos matemáticos, a sequência é definida recursivamente pela fórmula abaixo, sendo o primeiro termo $F_1= 1$:\n",
    "\n",
    "${\\displaystyle F_{n}=F_{n-1}+F_{n-2}+...+F_{n-m}}$\n",
    "\n",
    "e valores iniciais\n",
    "\n",
    "${\\displaystyle F_{1}=1,\\;F_{2}=1.}$\n",
    "\n",
    "A sequência de Fibonacci tem aplicações na análise de mercados financeiros, na ciência da computação e na teoria dos jogos. Também aparece em configurações biológicas, como, por exemplo, na disposição dos galhos das árvores ou das folhas em uma haste, no arranjo do cone da alcachofra, do abacaxi, ou no desenrolar da samambaia.\n",
    "\n",
    "<img src=\"Figuras/fibonacci-shell.gif\" alt=\"Fibonacci Caracol (https://www.goldennumber.net/)\" align=\"center\" width=\"200\">"
   ]
  },
  {
   "cell_type": "code",
   "execution_count": 147,
   "metadata": {},
   "outputs": [
    {
     "data": {
      "text/plain": [
       "fibonacci (generic function with 1 method)"
      ]
     },
     "execution_count": 147,
     "metadata": {},
     "output_type": "execute_result"
    }
   ],
   "source": [
    "function fibonacci(n)\n",
    "    if n < 2 # caso base\n",
    "        return n\n",
    "    else\n",
    "        return fibonacci(n - 1) + fibonacci(n - 2) # caso recursivo\n",
    "    end\n",
    "        \n",
    "end"
   ]
  },
  {
   "cell_type": "code",
   "execution_count": 148,
   "metadata": {},
   "outputs": [
    {
     "data": {
      "text/plain": [
       "9227465"
      ]
     },
     "execution_count": 148,
     "metadata": {},
     "output_type": "execute_result"
    }
   ],
   "source": [
    "fibonacci(35)"
   ]
  },
  {
   "cell_type": "markdown",
   "metadata": {},
   "source": [
    "Outra forma da função Fibonacci recursiva utilizando operador ternário"
   ]
  },
  {
   "cell_type": "code",
   "execution_count": 149,
   "metadata": {},
   "outputs": [
    {
     "data": {
      "text/plain": [
       "fibonacci_ot (generic function with 1 method)"
      ]
     },
     "execution_count": 149,
     "metadata": {},
     "output_type": "execute_result"
    }
   ],
   "source": [
    "fibonacci_ot(n) = n < 2 ? n : fibonacci_ot(n - 1) + fibonacci_ot(n - 2)"
   ]
  },
  {
   "cell_type": "code",
   "execution_count": 150,
   "metadata": {},
   "outputs": [
    {
     "data": {
      "text/plain": [
       "9227465"
      ]
     },
     "execution_count": 150,
     "metadata": {},
     "output_type": "execute_result"
    }
   ],
   "source": [
    "fibonacci_ot(35)"
   ]
  },
  {
   "cell_type": "markdown",
   "metadata": {},
   "source": [
    "## BIBLIOGRAFIA\n",
    "\n",
    "* Sebesta, Robert W.Conceitos de linguagens de programação [recurso eletrônico] /Robert W. Sebesta; tradução técnica: Eduardo Kessler Piveta. – 9. ed. – Dados eletrônicos. – Porto Alegre : Bookman, 2011.\n",
    "\n",
    "* Vieira, Francisco. Programação Funcional usando Haskell. Teresina, 2005. \n",
    "\n"
   ]
  }
 ],
 "metadata": {
  "@webio": {
   "lastCommId": null,
   "lastKernelId": null
  },
  "anaconda-cloud": {},
  "kernelspec": {
   "display_name": "Julia 1.2.0",
   "language": "julia",
   "name": "julia-1.2"
  },
  "language_info": {
   "file_extension": ".jl",
   "mimetype": "application/julia",
   "name": "julia",
   "version": "1.2.0"
  },
  "latex_envs": {
   "LaTeX_envs_menu_present": true,
   "autocomplete": true,
   "bibliofile": "biblio.bib",
   "cite_by": "apalike",
   "current_citInitial": 1,
   "eqLabelWithNumbers": true,
   "eqNumInitial": 1,
   "hotkeys": {
    "equation": "Ctrl-E",
    "itemize": "Ctrl-I"
   },
   "labels_anchors": false,
   "latex_user_defs": false,
   "report_style_numbering": false,
   "user_envs_cfg": false
  },
  "name": "_merged_merged"
 },
 "nbformat": 4,
 "nbformat_minor": 2
}
