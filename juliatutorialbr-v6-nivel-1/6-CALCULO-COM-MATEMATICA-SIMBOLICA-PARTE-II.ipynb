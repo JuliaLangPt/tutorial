{
 "cells": [
  {
   "cell_type": "markdown",
   "metadata": {},
   "source": [
    "# CÁLCULOS COM MATEMÁTICA SIMBÓLICA PARTE II"
   ]
  },
  {
   "cell_type": "markdown",
   "metadata": {},
   "source": [
    "\n"
   ]
  },
  {
   "cell_type": "markdown",
   "metadata": {},
   "source": [
    "## MANIPULAÇÃO DE EXPRESSÕES SIMBÓLICAS COMO FUNÇÕES\n",
    "\n",
    "É possível manipular uma expressão ou objeto simbólico criado pelo pacote `SymPy.jl` tal como uma função matemática (ou função genérica) de uma ou $n$ variáveis. Não será exatamente uma função de acordo com a definição, pois não é possível ter retorno múltiplo, dispacho múltiplo e outras características próprias das funções em `Julia`, porém são úteis quando estamos trabalhando com expressões simbólicas como fórmulas. Sintaxe:\n",
    "```julia \n",
    "(expressão_variável_simbólica)(valor_variável)\n",
    "(expressão_variáveis_simbólicas)(valor_variável_1 , valor_variável_2)\n",
    "```\n",
    "Ou \n",
    "```julia\n",
    "nome_variável = expressão_variável_simbólica\n",
    "nove_variável(valor_variável)\n",
    "\n",
    "nome_variável = expressão_variáveis_simbólicas\n",
    "nove_variável(valor_variável_1 , valor_variável_2)\n",
    "```\n",
    "É possível combinar funções genéricas ou anônimas com objetos simbólicos."
   ]
  },
  {
   "cell_type": "code",
   "execution_count": 1,
   "metadata": {
    "scrolled": false
   },
   "outputs": [
    {
     "data": {
      "text/plain": [
       "(x, y)"
      ]
     },
     "execution_count": 1,
     "metadata": {},
     "output_type": "execute_result"
    }
   ],
   "source": [
    "using SymPy\n",
    "@syms x y"
   ]
  },
  {
   "cell_type": "code",
   "execution_count": 2,
   "metadata": {},
   "outputs": [
    {
     "data": {
      "text/latex": [
       "$$7$$"
      ],
      "text/plain": [
       "7"
      ]
     },
     "execution_count": 2,
     "metadata": {},
     "output_type": "execute_result"
    }
   ],
   "source": [
    "# cálculo com uma variável\n",
    "(x + 5)(2)"
   ]
  },
  {
   "cell_type": "code",
   "execution_count": 3,
   "metadata": {
    "scrolled": true
   },
   "outputs": [
    {
     "data": {
      "text/latex": [
       "$$10$$"
      ],
      "text/plain": [
       "10"
      ]
     },
     "execution_count": 3,
     "metadata": {},
     "output_type": "execute_result"
    }
   ],
   "source": [
    "# cálculo com duas variáveis\n",
    "(x + y + 5)(5 , 0)"
   ]
  },
  {
   "cell_type": "code",
   "execution_count": 4,
   "metadata": {},
   "outputs": [
    {
     "data": {
      "text/latex": [
       "\\begin{bmatrix}6\\\\7\\\\8\\end{bmatrix}"
      ],
      "text/plain": [
       "3-element Array{Sym,1}:\n",
       " 6\n",
       " 7\n",
       " 8"
      ]
     },
     "execution_count": 4,
     "metadata": {},
     "output_type": "execute_result"
    }
   ],
   "source": [
    "# cálculo com um vetor\n",
    "(x + 5).(1:3)"
   ]
  },
  {
   "cell_type": "code",
   "execution_count": 5,
   "metadata": {
    "scrolled": true
   },
   "outputs": [
    {
     "data": {
      "text/latex": [
       "\\begin{bmatrix}6&7&8\\\\9&10&11\\end{bmatrix}"
      ],
      "text/plain": [
       "2×3 Array{Sym,2}:\n",
       " 6   7   8\n",
       " 9  10  11"
      ]
     },
     "execution_count": 5,
     "metadata": {},
     "output_type": "execute_result"
    }
   ],
   "source": [
    "# cálculo com uma matriz e uma variável\n",
    "(x + 5).([1 2 3 ; 4 5 6])"
   ]
  },
  {
   "cell_type": "code",
   "execution_count": 6,
   "metadata": {},
   "outputs": [
    {
     "data": {
      "text/latex": [
       "\\begin{bmatrix}7\\\\9\\\\11\\end{bmatrix}"
      ],
      "text/plain": [
       "3-element Array{Sym,1}:\n",
       "  7\n",
       "  9\n",
       " 11"
      ]
     },
     "execution_count": 6,
     "metadata": {},
     "output_type": "execute_result"
    }
   ],
   "source": [
    "# cálculo com um vetor e duas variáveis\n",
    "(x + y + 5).(1:3 , 1:3)"
   ]
  },
  {
   "cell_type": "code",
   "execution_count": 7,
   "metadata": {
    "scrolled": true
   },
   "outputs": [
    {
     "data": {
      "text/latex": [
       "\\begin{bmatrix}7&9&11\\\\13&15&17\\end{bmatrix}"
      ],
      "text/plain": [
       "2×3 Array{Sym,2}:\n",
       "  7   9  11\n",
       " 13  15  17"
      ]
     },
     "execution_count": 7,
     "metadata": {},
     "output_type": "execute_result"
    }
   ],
   "source": [
    "# cálculo com uma matriz e duas variáveis\n",
    "(x + y + 5).([1 2 3 ; 4 5 6], [1 2 3 ; 4 5 6])"
   ]
  },
  {
   "cell_type": "markdown",
   "metadata": {},
   "source": [
    "**Com atribuição de uma variável **"
   ]
  },
  {
   "cell_type": "code",
   "execution_count": 8,
   "metadata": {
    "scrolled": true
   },
   "outputs": [
    {
     "data": {
      "text/latex": [
       "$$x^{2} + 1$$"
      ],
      "text/plain": [
       " 2    \n",
       "x  + 1"
      ]
     },
     "metadata": {},
     "output_type": "display_data"
    },
    {
     "data": {
      "text/latex": [
       "$$x^{3} + x^{2} + 1$$"
      ],
      "text/plain": [
       " 3    2    \n",
       "x  + x  + 1"
      ]
     },
     "metadata": {},
     "output_type": "display_data"
    }
   ],
   "source": [
    "f = x^2 + 1\n",
    "g = x^3 + x^2 + 1\n",
    "\n",
    "display(f)\n",
    "display(g)"
   ]
  },
  {
   "cell_type": "code",
   "execution_count": 9,
   "metadata": {},
   "outputs": [
    {
     "data": {
      "text/latex": [
       "$$1$$"
      ],
      "text/plain": [
       "1"
      ]
     },
     "execution_count": 9,
     "metadata": {},
     "output_type": "execute_result"
    }
   ],
   "source": [
    "f(0)"
   ]
  },
  {
   "cell_type": "code",
   "execution_count": 10,
   "metadata": {},
   "outputs": [
    {
     "data": {
      "text/latex": [
       "$$1 + \\pi^{2} + \\pi^{3}$$"
      ],
      "text/plain": [
       "      2     3\n",
       "1 + pi  + pi "
      ]
     },
     "execution_count": 10,
     "metadata": {},
     "output_type": "execute_result"
    }
   ],
   "source": [
    "g(pi)"
   ]
  },
  {
   "cell_type": "code",
   "execution_count": 11,
   "metadata": {},
   "outputs": [
    {
     "data": {
      "text/plain": [
       "(10.869604401089358, 10.869604401089358)"
      ]
     },
     "execution_count": 11,
     "metadata": {},
     "output_type": "execute_result"
    }
   ],
   "source": [
    "# valores numéricos float\n",
    "N(f(pi)), float(f(pi))"
   ]
  },
  {
   "cell_type": "code",
   "execution_count": 12,
   "metadata": {
    "scrolled": false
   },
   "outputs": [
    {
     "data": {
      "text/latex": [
       "$$x^{3} + 2 x^{2} + 2$$"
      ],
      "text/plain": [
       " 3      2    \n",
       "x  + 2*x  + 2"
      ]
     },
     "execution_count": 12,
     "metadata": {},
     "output_type": "execute_result"
    }
   ],
   "source": [
    "f + g"
   ]
  },
  {
   "cell_type": "markdown",
   "metadata": {},
   "source": [
    "É possível atribuir à mesma variável mais de uma expressão simbólica na forma de tupla, vetor, matriz ou outro tipo de coleção. Sintaxe:\n",
    "```julia\n",
    "variável = expressão_1, expressão_2,..., expressão_n\n",
    "```\n",
    "Para acessar dados:\n",
    "```julia\n",
    "variável[posição_expressão](valor)\n",
    "```"
   ]
  },
  {
   "cell_type": "markdown",
   "metadata": {},
   "source": [
    "**Tupla de várias expressões**"
   ]
  },
  {
   "cell_type": "code",
   "execution_count": 13,
   "metadata": {},
   "outputs": [
    {
     "data": {
      "text/plain": [
       "(x + 1, x, x^2)"
      ]
     },
     "execution_count": 13,
     "metadata": {},
     "output_type": "execute_result"
    }
   ],
   "source": [
    "f = x + 1, x*1, x^2"
   ]
  },
  {
   "cell_type": "code",
   "execution_count": 14,
   "metadata": {},
   "outputs": [
    {
     "data": {
      "text/plain": [
       "Tuple{Sym,Sym,Sym}"
      ]
     },
     "execution_count": 14,
     "metadata": {},
     "output_type": "execute_result"
    }
   ],
   "source": [
    "typeof(f)"
   ]
  },
  {
   "cell_type": "code",
   "execution_count": 15,
   "metadata": {
    "scrolled": true
   },
   "outputs": [
    {
     "data": {
      "text/latex": [
       "$$3$$"
      ],
      "text/plain": [
       "3"
      ]
     },
     "execution_count": 15,
     "metadata": {},
     "output_type": "execute_result"
    }
   ],
   "source": [
    "# calcular e expressão da primeira posição\n",
    "f[1](2)"
   ]
  },
  {
   "cell_type": "markdown",
   "metadata": {},
   "source": [
    "**Vetor de várias expressões**"
   ]
  },
  {
   "cell_type": "code",
   "execution_count": 16,
   "metadata": {
    "scrolled": true
   },
   "outputs": [
    {
     "data": {
      "text/latex": [
       "\\begin{bmatrix}x + 1\\\\x\\\\x^{2}\\end{bmatrix}"
      ],
      "text/plain": [
       "3-element Array{Sym,1}:\n",
       " x + 1\n",
       "     x\n",
       "   x^2"
      ]
     },
     "execution_count": 16,
     "metadata": {},
     "output_type": "execute_result"
    }
   ],
   "source": [
    "g = [x + 1 , x*1, x^2] "
   ]
  },
  {
   "cell_type": "code",
   "execution_count": 17,
   "metadata": {},
   "outputs": [
    {
     "data": {
      "text/plain": [
       "Array{Sym,1}"
      ]
     },
     "execution_count": 17,
     "metadata": {},
     "output_type": "execute_result"
    }
   ],
   "source": [
    "typeof(g)"
   ]
  },
  {
   "cell_type": "code",
   "execution_count": 18,
   "metadata": {
    "scrolled": true
   },
   "outputs": [
    {
     "data": {
      "text/latex": [
       "$$2$$"
      ],
      "text/plain": [
       "2"
      ]
     },
     "execution_count": 18,
     "metadata": {},
     "output_type": "execute_result"
    }
   ],
   "source": [
    "# se usar g[](valor) será calculado a primeira expressão\n",
    "g[1](1) "
   ]
  },
  {
   "cell_type": "markdown",
   "metadata": {},
   "source": [
    "**Dicionário várias expressões**"
   ]
  },
  {
   "cell_type": "code",
   "execution_count": 19,
   "metadata": {},
   "outputs": [
    {
     "data": {
      "text/plain": [
       "Dict{Any,Sym} with 3 entries:\n",
       "  \"sind\" => sin(pi*x/180)\n",
       "  \"cosd\" => cos(pi*x/180)\n",
       "  1      => x^2"
      ]
     },
     "execution_count": 19,
     "metadata": {},
     "output_type": "execute_result"
    }
   ],
   "source": [
    "h = Dict(1=> x^2, \"sind\"=> sind(x) , \"cosd\"=> cosd(x))"
   ]
  },
  {
   "cell_type": "code",
   "execution_count": 20,
   "metadata": {},
   "outputs": [
    {
     "data": {
      "text/plain": [
       "Dict{Any,Sym}"
      ]
     },
     "execution_count": 20,
     "metadata": {},
     "output_type": "execute_result"
    }
   ],
   "source": [
    "typeof(h)"
   ]
  },
  {
   "cell_type": "code",
   "execution_count": 21,
   "metadata": {
    "scrolled": true
   },
   "outputs": [
    {
     "data": {
      "text/latex": [
       "$$4$$"
      ],
      "text/plain": [
       "4"
      ]
     },
     "execution_count": 21,
     "metadata": {},
     "output_type": "execute_result"
    }
   ],
   "source": [
    "h[1](2)"
   ]
  },
  {
   "cell_type": "code",
   "execution_count": 22,
   "metadata": {},
   "outputs": [
    {
     "data": {
      "text/latex": [
       "$$\\frac{\\sqrt{3}}{2}$$"
      ],
      "text/plain": [
       "  ___\n",
       "\\/ 3 \n",
       "-----\n",
       "  2  "
      ]
     },
     "execution_count": 22,
     "metadata": {},
     "output_type": "execute_result"
    }
   ],
   "source": [
    "h[\"cosd\"](30)"
   ]
  },
  {
   "cell_type": "markdown",
   "metadata": {},
   "source": [
    "**Duas ou mais Variáveis Simbólicas**"
   ]
  },
  {
   "cell_type": "code",
   "execution_count": 23,
   "metadata": {},
   "outputs": [
    {
     "data": {
      "text/plain": [
       "(x, y)"
      ]
     },
     "execution_count": 23,
     "metadata": {},
     "output_type": "execute_result"
    }
   ],
   "source": [
    "using SymPy\n",
    "@syms x y"
   ]
  },
  {
   "cell_type": "code",
   "execution_count": 24,
   "metadata": {
    "scrolled": true
   },
   "outputs": [
    {
     "data": {
      "text/latex": [
       "$$x^{2} + y$$"
      ],
      "text/plain": [
       " 2    \n",
       "x  + y"
      ]
     },
     "execution_count": 24,
     "metadata": {},
     "output_type": "execute_result"
    }
   ],
   "source": [
    "fxy = x^2 + y"
   ]
  },
  {
   "cell_type": "markdown",
   "metadata": {},
   "source": [
    "Agora ocorre um problema para substituir o valor de `x` e `y`. Se for executado `fxy(0, 1)`, não é certeza que o será atribuído o valor '0' para a variável `x` e '1' para a variável `y` - fica mais complicado com mais de 2 variáveis. A saída é utilizar a função `subs(expressão, variável => valor)`"
   ]
  },
  {
   "cell_type": "code",
   "execution_count": 29,
   "metadata": {},
   "outputs": [
    {
     "data": {
      "text/latex": [
       "$$x^{2} + y$$"
      ],
      "text/plain": [
       " 2    \n",
       "x  + y"
      ]
     },
     "execution_count": 29,
     "metadata": {},
     "output_type": "execute_result"
    }
   ],
   "source": [
    "fxy"
   ]
  },
  {
   "cell_type": "code",
   "execution_count": 25,
   "metadata": {},
   "outputs": [
    {
     "data": {
      "text/latex": [
       "$$1$$"
      ],
      "text/plain": [
       "1"
      ]
     },
     "execution_count": 25,
     "metadata": {},
     "output_type": "execute_result"
    }
   ],
   "source": [
    "fxy(0, 1)"
   ]
  },
  {
   "cell_type": "code",
   "execution_count": 37,
   "metadata": {
    "scrolled": false
   },
   "outputs": [
    {
     "data": {
      "text/latex": [
       "$$1$$"
      ],
      "text/plain": [
       "1"
      ]
     },
     "execution_count": 37,
     "metadata": {},
     "output_type": "execute_result"
    }
   ],
   "source": [
    "subs(fxy, x => 0, y => 1)"
   ]
  },
  {
   "cell_type": "markdown",
   "metadata": {},
   "source": [
    "Para substituir por um vetor ou matriz use:"
   ]
  },
  {
   "cell_type": "code",
   "execution_count": 46,
   "metadata": {},
   "outputs": [
    {
     "data": {
      "text/latex": [
       "\\begin{bmatrix}0\\\\2\\\\6\\end{bmatrix}"
      ],
      "text/plain": [
       "3-element Array{Sym,1}:\n",
       " 0\n",
       " 2\n",
       " 6"
      ]
     },
     "execution_count": 46,
     "metadata": {},
     "output_type": "execute_result"
    }
   ],
   "source": [
    "# O ponto \".\" serve para calcular elemento-elemento \n",
    "subs.(fxy, x.=>[0, 1, 2], y.=>[0, 1, 2])"
   ]
  },
  {
   "cell_type": "code",
   "execution_count": 53,
   "metadata": {
    "scrolled": false
   },
   "outputs": [
    {
     "data": {
      "text/latex": [
       "\\begin{bmatrix}0&2\\\\0&2\\end{bmatrix}"
      ],
      "text/plain": [
       "2×2 Array{Sym,2}:\n",
       " 0  2\n",
       " 0  2"
      ]
     },
     "execution_count": 53,
     "metadata": {},
     "output_type": "execute_result"
    }
   ],
   "source": [
    "# O ponto \".\" serve para calcular elemento-elemento \n",
    "subs.(fxy, x.=>[0 1; 0 1], y.=>[0 1; 0 1])"
   ]
  },
  {
   "cell_type": "markdown",
   "metadata": {},
   "source": [
    "**Aplicada Vetores e Matrizes**"
   ]
  },
  {
   "cell_type": "code",
   "execution_count": 42,
   "metadata": {},
   "outputs": [
    {
     "data": {
      "text/plain": [
       "(x, y, z)"
      ]
     },
     "execution_count": 42,
     "metadata": {},
     "output_type": "execute_result"
    }
   ],
   "source": [
    "using SymPy\n",
    "@syms x y z"
   ]
  },
  {
   "cell_type": "code",
   "execution_count": 43,
   "metadata": {},
   "outputs": [
    {
     "data": {
      "text/latex": [
       "$$\\frac{\\sqrt{2 x + \\cos^{3}{\\left (x \\right )}}}{\\sin{\\left (x^{2} + 1 \\right )}}$$"
      ],
      "text/plain": [
       "   _______________\n",
       "  /          3    \n",
       "\\/  2*x + cos (x) \n",
       "------------------\n",
       "      / 2    \\    \n",
       "   sin\\x  + 1/    "
      ]
     },
     "execution_count": 43,
     "metadata": {},
     "output_type": "execute_result"
    }
   ],
   "source": [
    "# definir a expressão simbólica\n",
    "fs1 = sqrt(2*x + cos(x)^3)/sin(x^2 + 1)"
   ]
  },
  {
   "cell_type": "code",
   "execution_count": 44,
   "metadata": {},
   "outputs": [
    {
     "data": {
      "text/latex": [
       "\\begin{bmatrix}1.61544600797558\\\\-2.06679638003354\\\\-4.12245841788442\\end{bmatrix}"
      ],
      "text/plain": [
       "3-element Array{Sym,1}:\n",
       "  1.61544600797558\n",
       " -2.06679638003354\n",
       " -4.12245841788442"
      ]
     },
     "execution_count": 44,
     "metadata": {},
     "output_type": "execute_result"
    }
   ],
   "source": [
    "# Vetor\n",
    "# O ponto \".\" serve para calcular elemento-elemento \n",
    "fs1.([1.0, 2.0, 3.0])"
   ]
  },
  {
   "cell_type": "code",
   "execution_count": 45,
   "metadata": {},
   "outputs": [
    {
     "data": {
      "text/latex": [
       "\\begin{bmatrix}1.61544600797558&-2.06679638003354&-4.12245841788442\\\\-2.89018883855313&4.15166141951347&-5.57790883165457\\end{bmatrix}"
      ],
      "text/plain": [
       "2×3 Array{Sym,2}:\n",
       "  1.61544600797558  -2.06679638003354  -4.12245841788442\n",
       " -2.89018883855313   4.15166141951347  -5.57790883165457"
      ]
     },
     "execution_count": 45,
     "metadata": {},
     "output_type": "execute_result"
    }
   ],
   "source": [
    "# Matriz\n",
    "# O ponto \".\" serve para calcular elemento-elemento \n",
    "fs1.([1.0 2.0 3.0 ; 4.0 5.0 6.0])"
   ]
  },
  {
   "cell_type": "code",
   "execution_count": 22,
   "metadata": {
    "scrolled": true
   },
   "outputs": [
    {
     "data": {
      "text/latex": [
       "$$x^{2} - y$$"
      ],
      "text/plain": [
       " 2    \n",
       "x  - y"
      ]
     },
     "execution_count": 22,
     "metadata": {},
     "output_type": "execute_result"
    }
   ],
   "source": [
    "# Expressão de duas variáveis\n",
    "fs2 = x^2 - y "
   ]
  },
  {
   "cell_type": "markdown",
   "metadata": {},
   "source": [
    "O cálculo de uma matriz aplicada a uma expressão de duas variáveis exige atenção. Não há certeza que o primeiro argumento será correspondente a `x` e os demais a `y` e `z`. Infelizmente a função `subs()` não funciona com vetores."
   ]
  },
  {
   "cell_type": "code",
   "execution_count": 33,
   "metadata": {
    "scrolled": true
   },
   "outputs": [
    {
     "data": {
      "text/latex": [
       "\\begin{bmatrix}-4.0\\\\-5.0\\\\-6.0\\end{bmatrix}"
      ],
      "text/plain": [
       "3-element Array{Sym,1}:\n",
       " -4.00000000000000\n",
       " -5.00000000000000\n",
       " -6.00000000000000"
      ]
     },
     "execution_count": 33,
     "metadata": {},
     "output_type": "execute_result"
    }
   ],
   "source": [
    "# Vetor\n",
    "# O ponto \".\" serve para calcular elemento-elemento em um vetor\n",
    "fs2.([0.0, 0.0, 0.0] ,[ 4.0, 5.0, 6.0])"
   ]
  },
  {
   "cell_type": "code",
   "execution_count": 34,
   "metadata": {},
   "outputs": [
    {
     "data": {
      "text/latex": [
       "\\begin{bmatrix}0&2.0&6.0\\\\12.0&20.0&30.0\\end{bmatrix}"
      ],
      "text/plain": [
       "2×3 Array{Sym,2}:\n",
       "                0  2.00000000000000  6.00000000000000\n",
       " 12.0000000000000  20.0000000000000  30.0000000000000"
      ]
     },
     "execution_count": 34,
     "metadata": {},
     "output_type": "execute_result"
    }
   ],
   "source": [
    "# Matriz\n",
    "# O ponto \".\" serve para calcular elemento-elemento em uma matriz\n",
    "fs2.([1.0 2.0 3.0 ; 4.0 5.0 6.0],[1.0 2.0 3.0 ; 4.0 5.0 6.0]  )"
   ]
  },
  {
   "cell_type": "markdown",
   "metadata": {},
   "source": [
    "## POLINOMIOS"
   ]
  },
  {
   "cell_type": "code",
   "execution_count": 82,
   "metadata": {},
   "outputs": [
    {
     "data": {
      "text/plain": [
       "(x,)"
      ]
     },
     "execution_count": 82,
     "metadata": {},
     "output_type": "execute_result"
    }
   ],
   "source": [
    "using SymPy\n",
    "@syms x"
   ]
  },
  {
   "cell_type": "code",
   "execution_count": 83,
   "metadata": {
    "scrolled": true
   },
   "outputs": [
    {
     "data": {
      "text/latex": [
       "$$\\operatorname{Poly}{\\left( x^{2} - 2 x - 4, x, domain=\\mathbb{Z} \\right)}$$"
      ],
      "text/plain": [
       "Poly(x**2 - 2*x - 4, x, domain='ZZ')"
      ]
     },
     "execution_count": 83,
     "metadata": {},
     "output_type": "execute_result"
    }
   ],
   "source": [
    "P = Poly(x^2 - 2*x^1 - 4, x)"
   ]
  },
  {
   "cell_type": "code",
   "execution_count": 84,
   "metadata": {},
   "outputs": [
    {
     "data": {
      "text/plain": [
       "(2,)"
      ]
     },
     "execution_count": 84,
     "metadata": {},
     "output_type": "execute_result"
    }
   ],
   "source": [
    "# grau do polinômio\n",
    "degree_list(P)"
   ]
  },
  {
   "cell_type": "code",
   "execution_count": 85,
   "metadata": {
    "scrolled": true
   },
   "outputs": [
    {
     "data": {
      "text/latex": [
       "\\begin{bmatrix}-4\\\\-2\\\\1\\end{bmatrix}"
      ],
      "text/plain": [
       "3-element Array{Sym,1}:\n",
       " -4\n",
       " -2\n",
       "  1"
      ]
     },
     "execution_count": 85,
     "metadata": {},
     "output_type": "execute_result"
    }
   ],
   "source": [
    "# coeficientes\n",
    "coeffs(P)"
   ]
  },
  {
   "cell_type": "code",
   "execution_count": 89,
   "metadata": {
    "scrolled": false
   },
   "outputs": [
    {
     "data": {
      "text/plain": [
       "(Poly(x, x, domain='ZZ'), Poly(-4, x, domain='ZZ'))"
      ]
     },
     "execution_count": 89,
     "metadata": {},
     "output_type": "execute_result"
    }
   ],
   "source": [
    "# O quociente e o resto da divisão euclidiana.\n",
    "polydivrem(P, x-2)"
   ]
  },
  {
   "cell_type": "markdown",
   "metadata": {},
   "source": [
    "%%%Fim Matemática Simbólica%%%"
   ]
  },
  {
   "cell_type": "code",
   "execution_count": null,
   "metadata": {
    "collapsed": true
   },
   "outputs": [],
   "source": []
  }
 ],
 "metadata": {
  "anaconda-cloud": {},
  "kernelspec": {
   "display_name": "Julia 1.0.0",
   "language": "julia",
   "name": "julia-1.0"
  },
  "language_info": {
   "file_extension": ".jl",
   "mimetype": "application/julia",
   "name": "julia",
   "version": "1.0.0"
  },
  "latex_envs": {
   "LaTeX_envs_menu_present": true,
   "autocomplete": true,
   "bibliofile": "biblio.bib",
   "cite_by": "apalike",
   "current_citInitial": 1,
   "eqLabelWithNumbers": true,
   "eqNumInitial": 1,
   "hotkeys": {
    "equation": "Ctrl-E",
    "itemize": "Ctrl-I"
   },
   "labels_anchors": false,
   "latex_user_defs": false,
   "report_style_numbering": false,
   "user_envs_cfg": false
  }
 },
 "nbformat": 4,
 "nbformat_minor": 1
}
