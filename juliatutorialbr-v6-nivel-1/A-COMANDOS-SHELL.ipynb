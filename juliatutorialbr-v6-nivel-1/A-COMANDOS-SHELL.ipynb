{
 "cells": [
  {
   "cell_type": "markdown",
   "metadata": {},
   "source": [
    "# COMANDOS SHELL\n",
    "\n",
    "Julia permite executar comandos de um shell a partir do REPL ou célula de um Notebook do Jupyter. O Shell é um interpretador de comandos que permite ao usuario interagir com o sistema operacional através de comandos digitados. Shell do windows e shell do Linux\n",
    "\n",
    "Julia não apresenta uma interface amigável para executar comandos DOS no Windows. O problema é que muitos \"comandos\" no Windows são emulados enquanto que no linux são executados programas (o comando `who` executa o binário de mesmo nome localizado em /usr/bin/). Parte do problema, de acordo com os desenvolvedores da linguagem, ocorre porque no Windows não possui um shell que execute de forma confiável. Características:\n",
    "- Em vez de executar imediatamente o comando, Julia criar um objeto Cmd para representar o comando. É possível este objeto para conectar o comando a outros via pipes, executá-lo, e ler ou escrever para ele.\n",
    "\n",
    "- Quando o comando é executado, a saída do comando por padrão vai para STDOUT(saída padrão).\n",
    "\n",
    "- O comando não é executado com um shell. Em vez disso, Julia analisa a sintaxe de comando diretamente, interpolando apropriadamente as variáveis e dividindo as palavras como o shell, respeitando a sintaxe de citação de shell. O comando é executado como o processo filho imediato da julia, usando chamadas fork e exec."
   ]
  },
  {
   "cell_type": "markdown",
   "metadata": {},
   "source": [
    "## PRINCIPAIS DIRETÓRIOS DE UM SISTEMA OPERACIONAL LINUX\n",
    "\n",
    "O Linux, além de outros sistemas operacionais Unix-Like, possui organização de arquivos e diretórios em uma estrutura de árvore que começa pelo diretório raiz e estende-se para os diretórios de sistema e usuário. O Hierarquia do Sistema de Arquivos, ou FHS, é um padrão mantido pela Fundação Linux e define os principais diretórios e seu conteúdo para o sistema operacional Linux. Nem todas as distribuições GNU/Linux seguem o padrão \"FHS\", como por exemplo, a distribuição GoboLinux que utiliza uma estrutura no qual cada programa possui um diretório próprio. A versão mais atual do \"FHS\" é a 3.0 lançada em 18/05/2015. Principais diretórios:\n",
    "\n",
    "\n",
    "\n",
    "**/bin**\n",
    "\n",
    "   Contém arquivos binários correspondente aos comandos do sistema.  Os comandos contidos neste diretório são públicos, podem ser utilizados por qualquer usuário do sistema\n",
    "\n",
    "**/boot**\n",
    "\n",
    "  Neste diretório é armazenado as imagens do kernel e os arquivos de inicialização do sistema.\n",
    "    \n",
    "**/dev**\n",
    "\n",
    "   Contém os arquivos de dispositivos do sistema. Todo dispositivo de hardware (mouse, impressora e outros) reconhecido pelo sistema operacional Linux é representado por um arquivo nesse diretório.\n",
    "\n",
    "**/etc** \n",
    "\n",
    "   Contém todos os arquivos de configuração do sistema operacional Linux.\n",
    "\n",
    "**/home** \n",
    "\n",
    "   Este diretório contém os subdiretórios pessoais dos usuarios do sistema operacional. Cada usuario possue seu próprio diretório.\n",
    "\n",
    "**/lib** \n",
    "\n",
    "   Contém as bibliotecas compartilhadas pelos programas do sistema e módulos do kernel.\n",
    "\n",
    "**/lost+found**\n",
    "\n",
    "   Local no qual será gravado os arquivos/diretórios recuperados pelo utilitário fsck.ext2 para cada partição. \n",
    "\n",
    "**/media**\n",
    "\n",
    "   Ponto de montagem de dispositivos removíveis do sistema, como pendrivers, mídias opticas e outros dispositivos removíveis.\n",
    "\n",
    "**/mnt** \n",
    "\n",
    "   Ponto de montagem temporário de sistemas de arquivos. Atualmente está em desuso e pode ser utilizado da mesma forma que o diretório '/media'.\n",
    "    \n",
    "**/opt**\n",
    "    \n",
    "   Diretório utilizado para armarzenar dados de programas que não fazem parte oficialmente da distribuição. \n",
    "\n",
    "\n",
    "**/proc** \n",
    "\n",
    "   É um diretório virtual configurado pelo kernel.  Este diretório armazena arquivos que contém informações sobre o sistema (CPU, memoria, dispositivos PCI, Plug'n Play, etc.).\n",
    "\n",
    "**/root** \n",
    "\n",
    "   Diretório do usuário root. Em geral contém apenas um diretório 'Documentos' e alguns arquivos ocultos de configuração de programas instalados no sistema.\n",
    "\n",
    "**/sbin** \n",
    "\n",
    "   Diretório de arquivos binários executáveis correspondentes aos comandos de administração do sistema operacional, usados apenas pelo usuário root. Aqui encontraremos os binários 'iptable', 'ifconfig', 'halt' entre outros.\n",
    "\n",
    "**/tmp** \n",
    "\n",
    "   Diretório para armazenamento de arquivos temporários utilizado pelos aplicativos. Aqui encontram-se o chrome, skype e outros.\n",
    "\n",
    "**/usr** \n",
    "\n",
    "   Contém maior parte dos programas instalados pelo usuário, além de documentação, games, bibliotecas e muitos outros arquivos que não são necessários durante o processo de inicialização.\n",
    "\n",
    "**/var** \n",
    "\n",
    "   Contém arquivos de dados variáveis conforme operação do sistema. Aqui temos arquivos de logs, arquivos de spool e outros."
   ]
  },
  {
   "cell_type": "markdown",
   "metadata": {},
   "source": [
    "## COMANDOS LINUX\n",
    "\n",
    "Julia permite executar comandos Linux dentro das céluas do Jupyter e REPL. Sintaxe:\n",
    "\n",
    "```sh\n",
    "run(`comando `) ou ;comando\n",
    "```\n",
    "É possível realizar vários comandos um após o outro. Sintaxe: \n",
    "\n",
    "```sh\n",
    "run(`comando2` & `comando2` ) \n",
    "\n",
    ";comando1 \"&\" comando2 \n",
    "\n",
    ";comando1  \";\" comando2\n",
    "```\n",
    "Ou ainda Pipeline, e \"jogar\" o resultado de um comando em outro. Sintaxe:\n",
    "\n",
    "```sh\n",
    "run(pipeline(`comando1`, `comando2`))  ou ;comando1 \"|\" comando2 \n",
    "```\n",
    "\n",
    "Através de `\"<\"` e `\">\"` é possível definir qual será o `stdin` e o `stdout`. `\">\"` é utilizado para redirecionar a saída de um comando para um arquivo ou dispositivo. `\"<\"` serve para pegarmos a saída gerada por um arquivo e defini-la como entrada para um comando. Se o arquivo existir em disco, `\">>\"` adiciona dados ao arquivo criado ."
   ]
  },
  {
   "cell_type": "markdown",
   "metadata": {},
   "source": [
    "## ALGUNS COMANDOS IMPORTANTES"
   ]
  },
  {
   "cell_type": "markdown",
   "metadata": {},
   "source": [
    "### Comandos sobre arquivos e diretórios"
   ]
  },
  {
   "cell_type": "markdown",
   "metadata": {},
   "source": [
    "**`pwd`**\n",
    "\n",
    "mostra todo o endereço do diretório que o usuário está no momento."
   ]
  },
  {
   "cell_type": "code",
   "execution_count": 1,
   "metadata": {},
   "outputs": [
    {
     "name": "stdout",
     "output_type": "stream",
     "text": [
      "/home/pedrohnv/codigos/julia_tutorial_PT_BR/juliatutorialbr-v6-nivel-1\n"
     ]
    }
   ],
   "source": [
    ";pwd"
   ]
  },
  {
   "cell_type": "code",
   "execution_count": 2,
   "metadata": {
    "scrolled": true
   },
   "outputs": [
    {
     "name": "stdout",
     "output_type": "stream",
     "text": [
      "/home/pedrohnv/codigos/julia_tutorial_PT_BR/juliatutorialbr-v6-nivel-1\n"
     ]
    },
    {
     "data": {
      "text/plain": [
       "Process(`\u001b[4mpwd\u001b[24m`, ProcessExited(0))"
      ]
     },
     "execution_count": 2,
     "metadata": {},
     "output_type": "execute_result"
    }
   ],
   "source": [
    "run(`pwd`)"
   ]
  },
  {
   "cell_type": "markdown",
   "metadata": {},
   "source": [
    "**`mkdir`**\n",
    "\n",
    "Cria uma pasta vazia no diretório atual. Sintaxe:\n",
    "```\n",
    "    mkdir nome_diretório\n",
    "```"
   ]
  },
  {
   "cell_type": "code",
   "execution_count": 3,
   "metadata": {},
   "outputs": [],
   "source": [
    ";mkdir julia_dir_1"
   ]
  },
  {
   "cell_type": "code",
   "execution_count": 4,
   "metadata": {
    "scrolled": true
   },
   "outputs": [
    {
     "data": {
      "text/plain": [
       "Process(`\u001b[4mmkdir\u001b[24m \u001b[4mjulia_dir_2\u001b[24m`, ProcessExited(0))"
      ]
     },
     "execution_count": 4,
     "metadata": {},
     "output_type": "execute_result"
    }
   ],
   "source": [
    "run(`mkdir julia_dir_2`)"
   ]
  },
  {
   "cell_type": "markdown",
   "metadata": {},
   "source": [
    "Outras possibilidades de criação de várias pastas."
   ]
  },
  {
   "cell_type": "code",
   "execution_count": 5,
   "metadata": {},
   "outputs": [
    {
     "data": {
      "text/plain": [
       "Base.ProcessChain(Base.Process[Process(`\u001b[4mmkdir\u001b[24m \u001b[4mjulia_dir_3\u001b[24m`, ProcessExited(0)), Process(`\u001b[4mmkdir\u001b[24m \u001b[4mjulia_dir_4\u001b[24m`, ProcessExited(0))], Base.DevNull(), Base.DevNull(), Base.DevNull())"
      ]
     },
     "execution_count": 5,
     "metadata": {},
     "output_type": "execute_result"
    }
   ],
   "source": [
    "run(`mkdir julia_dir_3` & `mkdir julia_dir_4`) "
   ]
  },
  {
   "cell_type": "markdown",
   "metadata": {},
   "source": [
    "**`ls`**\n",
    "\n",
    "lista os arquivos e diretórios da pasta. Ao ser executado é listado os arquivos do diretório atual."
   ]
  },
  {
   "cell_type": "code",
   "execution_count": 6,
   "metadata": {
    "scrolled": false
   },
   "outputs": [
    {
     "name": "stdout",
     "output_type": "stream",
     "text": [
      "10-INTERPOLACAO-E-AJUSTE-DE-CURVAS.ipynb\n",
      "11-SOMATORIO-PRODUTORIO-SERIES-MATEMATICAS.ipynb\n",
      "12-CALCULO-DIFERENCIAL-INTEGRAL-novo.ipynb\n",
      "13-EQUACOES-DIFERENCIAIS.ipynb\n",
      "14-TRABALHANDO-COM-ARQUIVOS(ENTRADA E SAIDA)-PARTE-I.ipynb\n",
      "1-TIPOS-DE-DADOS-PARTE-II.ipynb\n",
      "2-ESCOPO-DE-VARIÁVEIS.ipynb\n",
      "3-FUNCOES-PART-II.ipynb\n",
      "5-ALGEBRA-LINEAR.ipynb\n",
      "6-CALCULO-COM-MATEMATICA-SIMBOLICA-PARTE-II.ipynb\n",
      "8-GRAFICOS-2D-3D-PARTE-II.ipynb\n",
      "9-CALCULO-DE-RAIZES-E-SISTEMAS-DE-EQUACOES-E-DOMINIO-DE-INEQUACOES.ipynb\n",
      "A-COMANDOS-SHELL.ipynb\n",
      "B-INTEGRACAO-COM-OUTROS-SOFTWARES-COMANDOS-SHELL.ipynb\n",
      "C-EXTENSOES-UTEIS-NAVEGADORES-WEB.ipynb\n",
      "dados_alunos.csv\n",
      "dados_parabola.csv\n",
      "dados_reta.csv\n",
      "dados_senoide.csv\n",
      "ffiboR_JL.jl\n",
      "Figuras\n",
      "fmetbissec.jl\n",
      "julia_dir_1\n",
      "julia_dir_2\n",
      "julia_dir_3\n",
      "julia_dir_4\n",
      "script_c\n",
      "script_fortran\n",
      "Untitled 1.odg\n"
     ]
    }
   ],
   "source": [
    ";ls "
   ]
  },
  {
   "cell_type": "code",
   "execution_count": 7,
   "metadata": {
    "scrolled": false
   },
   "outputs": [
    {
     "name": "stdout",
     "output_type": "stream",
     "text": [
      "10-INTERPOLACAO-E-AJUSTE-DE-CURVAS.ipynb\n",
      "11-SOMATORIO-PRODUTORIO-SERIES-MATEMATICAS.ipynb\n",
      "12-CALCULO-DIFERENCIAL-INTEGRAL-novo.ipynb\n",
      "13-EQUACOES-DIFERENCIAIS.ipynb\n",
      "14-TRABALHANDO-COM-ARQUIVOS(ENTRADA E SAIDA)-PARTE-I.ipynb\n",
      "1-TIPOS-DE-DADOS-PARTE-II.ipynb\n",
      "2-ESCOPO-DE-VARIÁVEIS.ipynb\n",
      "3-FUNCOES-PART-II.ipynb\n",
      "5-ALGEBRA-LINEAR.ipynb\n",
      "6-CALCULO-COM-MATEMATICA-SIMBOLICA-PARTE-II.ipynb\n",
      "8-GRAFICOS-2D-3D-PARTE-II.ipynb\n",
      "9-CALCULO-DE-RAIZES-E-SISTEMAS-DE-EQUACOES-E-DOMINIO-DE-INEQUACOES.ipynb\n",
      "A-COMANDOS-SHELL.ipynb\n",
      "B-INTEGRACAO-COM-OUTROS-SOFTWARES-COMANDOS-SHELL.ipynb\n",
      "C-EXTENSOES-UTEIS-NAVEGADORES-WEB.ipynb\n",
      "dados_alunos.csv\n",
      "dados_parabola.csv\n",
      "dados_reta.csv\n",
      "dados_senoide.csv\n",
      "ffiboR_JL.jl\n",
      "Figuras\n",
      "fmetbissec.jl\n",
      "julia_dir_1\n",
      "julia_dir_2\n",
      "julia_dir_3\n",
      "julia_dir_4\n",
      "script_c\n",
      "script_fortran\n",
      "Untitled 1.odg\n"
     ]
    },
    {
     "data": {
      "text/plain": [
       "Process(`\u001b[4mls\u001b[24m`, ProcessExited(0))"
      ]
     },
     "execution_count": 7,
     "metadata": {},
     "output_type": "execute_result"
    }
   ],
   "source": [
    "run(`ls`)"
   ]
  },
  {
   "cell_type": "markdown",
   "metadata": {},
   "source": [
    "**rm**\n",
    "\n",
    "Apaga um diretório ou arquivo. o comando `rm -r` apaga todo o conteúdo de uma pasta e a própria pasta"
   ]
  },
  {
   "cell_type": "code",
   "execution_count": 8,
   "metadata": {},
   "outputs": [
    {
     "data": {
      "text/plain": [
       "Process(`\u001b[4mrm\u001b[24m \u001b[4m-r\u001b[24m \u001b[4mjulia_dir_3\u001b[24m`, ProcessExited(0))"
      ]
     },
     "execution_count": 8,
     "metadata": {},
     "output_type": "execute_result"
    }
   ],
   "source": [
    "run(`rm -r julia_dir_3`)"
   ]
  },
  {
   "cell_type": "code",
   "execution_count": 9,
   "metadata": {},
   "outputs": [],
   "source": [
    ";rm -r julia_dir_4"
   ]
  },
  {
   "cell_type": "markdown",
   "metadata": {},
   "source": [
    "Para criar diretórios de 6 a 8:"
   ]
  },
  {
   "cell_type": "code",
   "execution_count": 10,
   "metadata": {},
   "outputs": [
    {
     "data": {
      "text/plain": [
       "@bash_str (macro with 1 method)"
      ]
     },
     "execution_count": 10,
     "metadata": {},
     "output_type": "execute_result"
    }
   ],
   "source": [
    "macro bash_str(s) open(`bash`,\"w\",stdout) do io; print(io, s); end; end"
   ]
  },
  {
   "cell_type": "code",
   "execution_count": 11,
   "metadata": {},
   "outputs": [],
   "source": [
    "bash\"\"\"\n",
    "for i in {6..8}; do mkdir julia_dir_$i; done\n",
    "\"\"\""
   ]
  },
  {
   "cell_type": "markdown",
   "metadata": {},
   "source": [
    "Para remover os diretórios 6 a 8:"
   ]
  },
  {
   "cell_type": "code",
   "execution_count": 12,
   "metadata": {},
   "outputs": [],
   "source": [
    "bash\"\"\"\n",
    "for i in {6..8}; do rm -r julia_dir_$i; done\n",
    "\"\"\""
   ]
  },
  {
   "cell_type": "code",
   "execution_count": 13,
   "metadata": {},
   "outputs": [
    {
     "name": "stdout",
     "output_type": "stream",
     "text": [
      "10-INTERPOLACAO-E-AJUSTE-DE-CURVAS.ipynb\n",
      "11-SOMATORIO-PRODUTORIO-SERIES-MATEMATICAS.ipynb\n",
      "12-CALCULO-DIFERENCIAL-INTEGRAL-novo.ipynb\n",
      "13-EQUACOES-DIFERENCIAIS.ipynb\n",
      "14-TRABALHANDO-COM-ARQUIVOS(ENTRADA E SAIDA)-PARTE-I.ipynb\n",
      "1-TIPOS-DE-DADOS-PARTE-II.ipynb\n",
      "2-ESCOPO-DE-VARIÁVEIS.ipynb\n",
      "3-FUNCOES-PART-II.ipynb\n",
      "5-ALGEBRA-LINEAR.ipynb\n",
      "6-CALCULO-COM-MATEMATICA-SIMBOLICA-PARTE-II.ipynb\n",
      "8-GRAFICOS-2D-3D-PARTE-II.ipynb\n",
      "9-CALCULO-DE-RAIZES-E-SISTEMAS-DE-EQUACOES-E-DOMINIO-DE-INEQUACOES.ipynb\n",
      "A-COMANDOS-SHELL.ipynb\n",
      "B-INTEGRACAO-COM-OUTROS-SOFTWARES-COMANDOS-SHELL.ipynb\n",
      "C-EXTENSOES-UTEIS-NAVEGADORES-WEB.ipynb\n",
      "dados_alunos.csv\n",
      "dados_parabola.csv\n",
      "dados_reta.csv\n",
      "dados_senoide.csv\n",
      "ffiboR_JL.jl\n",
      "Figuras\n",
      "fmetbissec.jl\n",
      "julia_dir_1\n",
      "julia_dir_2\n",
      "script_c\n",
      "script_fortran\n",
      "Untitled 1.odg\n"
     ]
    }
   ],
   "source": [
    ";ls"
   ]
  },
  {
   "cell_type": "markdown",
   "metadata": {},
   "source": [
    "**`cd`**\n",
    "\n",
    "Acessa um determinado diretório. É importante saber antes em qual diretório estamos executando os comando. Dessa forma fica fácil sair e retornar ao diretório inicial. Para voltar ao diretório anterior use `cd ..`; e para o diretório padrão do usuário (/home/nome_usuário) use `cd ~`."
   ]
  },
  {
   "cell_type": "code",
   "execution_count": 14,
   "metadata": {
    "scrolled": true
   },
   "outputs": [
    {
     "name": "stdout",
     "output_type": "stream",
     "text": [
      "/home/pedrohnv/codigos/julia_tutorial_PT_BR/juliatutorialbr-v6-nivel-1/julia_dir_1\n"
     ]
    }
   ],
   "source": [
    ";cd \"julia_dir_1\""
   ]
  },
  {
   "cell_type": "markdown",
   "metadata": {},
   "source": [
    "**`echo`**\n",
    "\n",
    "O comando `echo` é similar ao `print`, no qual ele demonstra uma informação para o usuário no terminal podendo, alternativamente, colocar tal informação num arquivo."
   ]
  },
  {
   "cell_type": "code",
   "execution_count": 15,
   "metadata": {},
   "outputs": [],
   "source": [
    "bash\"\"\"\n",
    "echo \"Linguagem Julia\" > \"arquivo_texto.txt\"\n",
    "\"\"\""
   ]
  },
  {
   "cell_type": "markdown",
   "metadata": {},
   "source": [
    "Quando o comando acima é executado novamente, o conteúdo anterior é apagado e o novo texto gravado. Para evitar isto e acrescentar um novo texto ao existente, use  `\">>\"`."
   ]
  },
  {
   "cell_type": "code",
   "execution_count": 16,
   "metadata": {},
   "outputs": [],
   "source": [
    "bash\"\"\"\n",
    "echo \"computação científica\" >> \"arquivo_texto.txt\"\n",
    "\"\"\""
   ]
  },
  {
   "cell_type": "code",
   "execution_count": 17,
   "metadata": {
    "scrolled": true
   },
   "outputs": [],
   "source": [
    "bash\"\"\"\n",
    "echo \"Julia é uma linguagem de programação compilada\" >> \"arquivo_texto.txt\"\n",
    "\"\"\""
   ]
  },
  {
   "cell_type": "markdown",
   "metadata": {},
   "source": [
    "**`cat`**\n",
    "\n",
    "Mostra o conteúdo de um arquivo e também serve para concatenar arquivos."
   ]
  },
  {
   "cell_type": "code",
   "execution_count": 18,
   "metadata": {
    "scrolled": true
   },
   "outputs": [
    {
     "name": "stdout",
     "output_type": "stream",
     "text": [
      "Linguagem Julia\n",
      "computação científica\n",
      "Julia é uma linguagem de programação compilada\n"
     ]
    },
    {
     "data": {
      "text/plain": [
       "Process(`\u001b[4mcat\u001b[24m \u001b[4marquivo_texto.txt\u001b[24m`, ProcessExited(0))"
      ]
     },
     "execution_count": 18,
     "metadata": {},
     "output_type": "execute_result"
    }
   ],
   "source": [
    "run(`cat arquivo_texto.txt`)"
   ]
  },
  {
   "cell_type": "code",
   "execution_count": 19,
   "metadata": {
    "scrolled": false
   },
   "outputs": [
    {
     "name": "stdout",
     "output_type": "stream",
     "text": [
      "Linguagem Julia\n",
      "computação científica\n",
      "Julia é uma linguagem de programação compilada\n"
     ]
    }
   ],
   "source": [
    ";cat \"arquivo_texto.txt\""
   ]
  },
  {
   "cell_type": "markdown",
   "metadata": {},
   "source": [
    "**`grep`** \n",
    "\n",
    "Procura por palavras dentro do arquivo e lista a linha que contém a palavra pesquisada. O parâmetro `\"-v\"` inverte a busca, lista apenas as linhas onde o padrão não existe. "
   ]
  },
  {
   "cell_type": "code",
   "execution_count": 20,
   "metadata": {},
   "outputs": [
    {
     "name": "stdout",
     "output_type": "stream",
     "text": [
      "Linguagem Julia\n",
      "Julia é uma linguagem de programação compilada\n"
     ]
    }
   ],
   "source": [
    ";grep \"Julia\" \"arquivo_texto.txt\""
   ]
  },
  {
   "cell_type": "markdown",
   "metadata": {},
   "source": [
    "obs: `grep` é \"case sensitive\"! \"Julia\" e \"julia\" são diferentes. Use `\"-i\"` para ignorar a diferença entre maiúscula e minúsculas."
   ]
  },
  {
   "cell_type": "code",
   "execution_count": 21,
   "metadata": {
    "scrolled": true
   },
   "outputs": [
    {
     "name": "stdout",
     "output_type": "stream",
     "text": [
      "computação científica\n"
     ]
    }
   ],
   "source": [
    ";grep \"-v\" \"Julia\" \"arquivo_texto.txt\""
   ]
  },
  {
   "cell_type": "markdown",
   "metadata": {},
   "source": [
    "O comando `grep` funciona muito bem associado com outros comandos."
   ]
  },
  {
   "cell_type": "code",
   "execution_count": 22,
   "metadata": {},
   "outputs": [
    {
     "name": "stdout",
     "output_type": "stream",
     "text": [
      "arquivo_texto.txt\n"
     ]
    }
   ],
   "source": [
    "bash\"\"\"\n",
    "ls  | grep \"arquivo\"\n",
    "\"\"\""
   ]
  },
  {
   "cell_type": "markdown",
   "metadata": {},
   "source": [
    "**`cp`**\n",
    "\n",
    "É utilizado para copiar arquivos e diretórios. O comando `cp \"-r\" \"diretório\" \"destino\"` copia todos os arquivos contidos em um diretório e o próprio diretório. Sintaxe básica:\n",
    "```julia\n",
    "cp \"-opções\" origem destino\n",
    "```"
   ]
  },
  {
   "cell_type": "code",
   "execution_count": 23,
   "metadata": {},
   "outputs": [],
   "source": [
    ";mkdir julia_dir_2"
   ]
  },
  {
   "cell_type": "code",
   "execution_count": 24,
   "metadata": {},
   "outputs": [],
   "source": [
    "bash\"\"\"\n",
    "cp \"arquivo_texto.txt\" \"julia_dir_2/\"\n",
    "\"\"\""
   ]
  },
  {
   "cell_type": "code",
   "execution_count": 25,
   "metadata": {
    "scrolled": true
   },
   "outputs": [
    {
     "name": "stdout",
     "output_type": "stream",
     "text": [
      "arquivo_texto.txt\n"
     ]
    }
   ],
   "source": [
    ";ls \"julia_dir_2/\""
   ]
  },
  {
   "cell_type": "markdown",
   "metadata": {},
   "source": [
    "Copia de \"backup\":"
   ]
  },
  {
   "cell_type": "code",
   "execution_count": 26,
   "metadata": {},
   "outputs": [],
   "source": [
    ";cp \"arquivo_texto.txt\" \"arquivo_texto_novo.txt\""
   ]
  },
  {
   "cell_type": "markdown",
   "metadata": {},
   "source": [
    "**`mv`**\n",
    "\n",
    "É utilizado para mover ou renomear arquivos. O comando `rm -R diretório` apaga todos os arquivos contidos em um diretório e o próprio diretório."
   ]
  },
  {
   "cell_type": "code",
   "execution_count": 27,
   "metadata": {},
   "outputs": [],
   "source": [
    ";mv \"arquivo_texto.txt\" \"julia_dir_2/\""
   ]
  },
  {
   "cell_type": "code",
   "execution_count": 28,
   "metadata": {
    "scrolled": true
   },
   "outputs": [
    {
     "name": "stdout",
     "output_type": "stream",
     "text": [
      "arquivo_texto.txt\n"
     ]
    }
   ],
   "source": [
    ";ls \"julia_dir_2/\""
   ]
  },
  {
   "cell_type": "markdown",
   "metadata": {},
   "source": [
    "**`tar`**\n",
    "\n",
    "O Linux possui por padrão vários programas de compressão de arquivos. O comando `tar` permite armazenar vários arquivos e também compactá-los. Algumas opções do tar:\n",
    "\n",
    "`-c` compactar os arquivos ;\n",
    "\n",
    "`-f` indicar que o destino é um arquivo em disco;\n",
    "\n",
    "`-v` exibir informações na tela;\n",
    "\n",
    "`-x` extrair os arquivos.\n",
    "\n",
    "`-z` compactar ou descompactar arquivos no formato gzip.\n",
    "\n",
    "Sintaxe básica:\n",
    "* Compactar:\n",
    "```sh\n",
    "tar -czvf arquivo.tar.gz arquivo_1 arquivo_2 arquivo_2 \n",
    "```\n",
    "\n",
    "* Descompactar:\n",
    "```sh\n",
    "tar -xzvf arquivo.tar.gz\n",
    "```"
   ]
  },
  {
   "cell_type": "markdown",
   "metadata": {},
   "source": [
    "### INFORMAÇÕES SOBRE O SISTEMA E HARDWARE"
   ]
  },
  {
   "cell_type": "markdown",
   "metadata": {},
   "source": [
    "**`lscpu`**\n",
    "\n",
    "O comando `lscpu` é utilizado para listar todas as informações sobre a arquitetura do CPU"
   ]
  },
  {
   "cell_type": "code",
   "execution_count": 29,
   "metadata": {
    "scrolled": true
   },
   "outputs": [
    {
     "name": "stdout",
     "output_type": "stream",
     "text": [
      "Architecture:        x86_64\n",
      "CPU op-mode(s):      32-bit, 64-bit\n",
      "Byte Order:          Little Endian\n",
      "CPU(s):              4\n",
      "On-line CPU(s) list: 0-3\n",
      "Thread(s) per core:  1\n",
      "Core(s) per socket:  4\n",
      "Socket(s):           1\n",
      "NUMA node(s):        1\n",
      "Vendor ID:           GenuineIntel\n",
      "CPU family:          6\n",
      "Model:               58\n",
      "Model name:          Intel(R) Core(TM) i7-3770 CPU @ 3.40GHz\n",
      "Stepping:            9\n",
      "CPU MHz:             3356.124\n",
      "CPU max MHz:         3400,0000\n",
      "CPU min MHz:         1600,0000\n",
      "BogoMIPS:            6784.76\n",
      "Virtualization:      VT-x\n",
      "L1d cache:           32K\n",
      "L1i cache:           32K\n",
      "L2 cache:            256K\n",
      "L3 cache:            8192K\n",
      "NUMA node0 CPU(s):   0-3\n",
      "Flags:               fpu vme de pse tsc msr pae mce cx8 apic sep mtrr pge mca cmov pat pse36 clflush dts acpi mmx fxsr sse sse2 ss ht tm pbe syscall nx rdtscp lm constant_tsc arch_perfmon pebs bts rep_good nopl xtopology nonstop_tsc cpuid aperfmperf pni pclmulqdq dtes64 monitor ds_cpl vmx smx est tm2 ssse3 cx16 xtpr pdcm pcid sse4_1 sse4_2 x2apic popcnt tsc_deadline_timer aes xsave avx f16c rdrand lahf_lm cpuid_fault epb pti ssbd ibrs ibpb stibp tpr_shadow vnmi flexpriority ept vpid fsgsbase smep erms xsaveopt dtherm arat pln pts md_clear flush_l1d\n"
     ]
    }
   ],
   "source": [
    ";lscpu"
   ]
  },
  {
   "cell_type": "markdown",
   "metadata": {},
   "source": [
    "Uma boa prática é gravar as informações em um arquivo texto:"
   ]
  },
  {
   "cell_type": "code",
   "execution_count": 30,
   "metadata": {},
   "outputs": [],
   "source": [
    "bash\"\"\"\n",
    "lscpu > \"info_cpu.txt\"\n",
    "\"\"\""
   ]
  },
  {
   "cell_type": "code",
   "execution_count": 31,
   "metadata": {},
   "outputs": [
    {
     "name": "stdout",
     "output_type": "stream",
     "text": [
      "Architecture:        x86_64\n",
      "CPU op-mode(s):      32-bit, 64-bit\n",
      "Byte Order:          Little Endian\n",
      "CPU(s):              4\n",
      "On-line CPU(s) list: 0-3\n",
      "Thread(s) per core:  1\n",
      "Core(s) per socket:  4\n",
      "Socket(s):           1\n",
      "NUMA node(s):        1\n",
      "Vendor ID:           GenuineIntel\n",
      "CPU family:          6\n",
      "Model:               58\n",
      "Model name:          Intel(R) Core(TM) i7-3770 CPU @ 3.40GHz\n",
      "Stepping:            9\n",
      "CPU MHz:             3356.124\n",
      "CPU max MHz:         3400,0000\n",
      "CPU min MHz:         1600,0000\n",
      "BogoMIPS:            6784.76\n",
      "Virtualization:      VT-x\n",
      "L1d cache:           32K\n",
      "L1i cache:           32K\n",
      "L2 cache:            256K\n",
      "L3 cache:            8192K\n",
      "NUMA node0 CPU(s):   0-3\n",
      "Flags:               fpu vme de pse tsc msr pae mce cx8 apic sep mtrr pge mca cmov pat pse36 clflush dts acpi mmx fxsr sse sse2 ss ht tm pbe syscall nx rdtscp lm constant_tsc arch_perfmon pebs bts rep_good nopl xtopology nonstop_tsc cpuid aperfmperf pni pclmulqdq dtes64 monitor ds_cpl vmx smx est tm2 ssse3 cx16 xtpr pdcm pcid sse4_1 sse4_2 x2apic popcnt tsc_deadline_timer aes xsave avx f16c rdrand lahf_lm cpuid_fault epb pti ssbd ibrs ibpb stibp tpr_shadow vnmi flexpriority ept vpid fsgsbase smep erms xsaveopt dtherm arat pln pts md_clear flush_l1d\n"
     ]
    }
   ],
   "source": [
    ";cat \"info_cpu.txt\""
   ]
  },
  {
   "cell_type": "code",
   "execution_count": 32,
   "metadata": {},
   "outputs": [
    {
     "name": "stdout",
     "output_type": "stream",
     "text": [
      "Model:               58\n",
      "Model name:          Intel(R) Core(TM) i7-3770 CPU @ 3.40GHz\n"
     ]
    }
   ],
   "source": [
    ";grep \"Model\" \"info_cpu.txt\""
   ]
  },
  {
   "cell_type": "markdown",
   "metadata": {},
   "source": [
    "**`lsb_release`**\n",
    "\n",
    "The  lsb_release command provides certain LSB (Linux Standard Base) and distribution-specific information."
   ]
  },
  {
   "cell_type": "code",
   "execution_count": 33,
   "metadata": {
    "scrolled": true
   },
   "outputs": [
    {
     "name": "stdout",
     "output_type": "stream",
     "text": [
      "Distributor ID:\tLinuxMint\n",
      "Description:\tLinux Mint 19.1 Tessa\n",
      "Release:\t19.1\n",
      "Codename:\ttessa\n"
     ]
    },
    {
     "name": "stderr",
     "output_type": "stream",
     "text": [
      "No LSB modules are available.\n"
     ]
    }
   ],
   "source": [
    ";lsb_release \"-a\""
   ]
  },
  {
   "cell_type": "markdown",
   "metadata": {},
   "source": [
    "**`hwinfo`**\n",
    "\n",
    "O comando hwinfo é utilizado para listar as informações sobre todos os dispositivos de Hardware de seu computador. Para Fedora e derivados, utilize o comando `lshw`."
   ]
  },
  {
   "cell_type": "code",
   "execution_count": 34,
   "metadata": {},
   "outputs": [
    {
     "name": "stderr",
     "output_type": "stream",
     "text": [
      "/bin/bash: hwinfo: command not found\n"
     ]
    }
   ],
   "source": [
    ";hwinfo"
   ]
  },
  {
   "cell_type": "code",
   "execution_count": 35,
   "metadata": {},
   "outputs": [
    {
     "name": "stderr",
     "output_type": "stream",
     "text": [
      "WARNING: you should run this program as super-user.\n"
     ]
    },
    {
     "name": "stdout",
     "output_type": "stream",
     "text": [
      "laipe-biotsavart\n",
      "    description: Computer\n",
      "    width: 64 bits\n",
      "    capabilities: smp vsyscall32\n",
      "  *-core\n",
      "       description: Motherboard\n",
      "       physical id: 0\n",
      "     *-memory\n",
      "          description: System memory\n",
      "          physical id: 0\n",
      "          size: 11GiB\n",
      "     *-cpu\n",
      "          product: Intel(R) Core(TM) i7-3770 CPU @ 3.40GHz\n",
      "          vendor: Intel Corp.\n",
      "          physical id: 1\n",
      "          bus info: cpu@0\n",
      "          size: 2745MHz\n",
      "          capacity: 3400MHz\n",
      "          width: 64 bits\n",
      "          capabilities: fpu fpu_exception wp vme de pse tsc msr pae mce cx8 apic sep mtrr pge mca cmov pat pse36 clflush dts acpi mmx fxsr sse sse2 ss ht tm pbe syscall nx rdtscp x86-64 constant_tsc arch_perfmon pebs bts rep_good nopl xtopology nonstop_tsc cpuid aperfmperf pni pclmulqdq dtes64 monitor ds_cpl vmx smx est tm2 ssse3 cx16 xtpr pdcm pcid sse4_1 sse4_2 x2apic popcnt tsc_deadline_timer aes xsave avx f16c rdrand lahf_lm cpuid_fault epb pti ssbd ibrs ibpb stibp tpr_shadow vnmi flexpriority ept vpid fsgsbase smep erms xsaveopt dtherm arat pln pts md_clear flush_l1d cpufreq\n",
      "     *-pci\n",
      "          description: Host bridge\n",
      "          product: Xeon E3-1200 v2/3rd Gen Core processor DRAM Controller\n",
      "          vendor: Intel Corporation\n",
      "          physical id: 100\n",
      "          bus info: pci@0000:00:00.0\n",
      "          version: 09\n",
      "          width: 32 bits\n",
      "          clock: 33MHz\n",
      "          configuration: driver=ivb_uncore\n",
      "          resources: irq:0\n",
      "        *-pci:0\n",
      "             description: PCI bridge\n",
      "             product: Xeon E3-1200 v2/3rd Gen Core processor PCI Express Root Port\n",
      "             vendor: Intel Corporation\n",
      "             physical id: 1\n",
      "             bus info: pci@0000:00:01.0\n",
      "             version: 09\n",
      "             width: 32 bits\n",
      "             clock: 33MHz\n",
      "             capabilities: pci normal_decode bus_master cap_list\n",
      "             configuration: driver=pcieport\n",
      "             resources: irq:16 ioport:e000(size=4096) memory:f6000000-f70fffff ioport:e0000000(size=301989888)\n",
      "           *-display\n",
      "                description: VGA compatible controller\n",
      "                product: GK107 [GeForce GT 640 OEM]\n",
      "                vendor: NVIDIA Corporation\n",
      "                physical id: 0\n",
      "                bus info: pci@0000:01:00.0\n",
      "                version: a1\n",
      "                width: 64 bits\n",
      "                clock: 33MHz\n",
      "                capabilities: vga_controller bus_master cap_list rom\n",
      "                configuration: driver=nvidia latency=0\n",
      "                resources: irq:30 memory:f6000000-f6ffffff memory:e0000000-efffffff memory:f0000000-f1ffffff ioport:e000(size=128) memory:c0000-dffff\n",
      "           *-multimedia\n",
      "                description: Audio device\n",
      "                product: GK107 HDMI Audio Controller\n",
      "                vendor: NVIDIA Corporation\n",
      "                physical id: 0.1\n",
      "                bus info: pci@0000:01:00.1\n",
      "                version: a1\n",
      "                width: 32 bits\n",
      "                clock: 33MHz\n",
      "                capabilities: bus_master cap_list\n",
      "                configuration: driver=snd_hda_intel latency=0\n",
      "                resources: irq:17 memory:f7080000-f7083fff\n",
      "        *-usb:0\n",
      "             description: USB controller\n",
      "             product: 7 Series/C210 Series Chipset Family USB xHCI Host Controller\n",
      "             vendor: Intel Corporation\n",
      "             physical id: 14\n",
      "             bus info: pci@0000:00:14.0\n",
      "             version: 04\n",
      "             width: 64 bits\n",
      "             clock: 33MHz\n",
      "             capabilities: xhci bus_master cap_list\n",
      "             configuration: driver=xhci_hcd latency=0\n",
      "             resources: irq:25 memory:f7200000-f720ffff\n",
      "        *-communication\n",
      "             description: Communication controller\n",
      "             product: 7 Series/C216 Chipset Family MEI Controller #1\n",
      "             vendor: Intel Corporation\n",
      "             physical id: 16\n",
      "             bus info: pci@0000:00:16.0\n",
      "             version: 04\n",
      "             width: 64 bits\n",
      "             clock: 33MHz\n",
      "             capabilities: bus_master cap_list\n",
      "             configuration: driver=mei_me latency=0\n",
      "             resources: irq:28 memory:f721a000-f721a00f\n",
      "        *-usb:1\n",
      "             description: USB controller\n",
      "             product: 7 Series/C216 Chipset Family USB Enhanced Host Controller #2\n",
      "             vendor: Intel Corporation\n",
      "             physical id: 1a\n",
      "             bus info: pci@0000:00:1a.0\n",
      "             version: 04\n",
      "             width: 32 bits\n",
      "             clock: 33MHz\n",
      "             capabilities: ehci bus_master cap_list\n",
      "             configuration: driver=ehci-pci latency=0\n",
      "             resources: irq:16 memory:f7218000-f72183ff\n",
      "        *-multimedia\n",
      "             description: Audio device\n",
      "             product: 7 Series/C216 Chipset Family High Definition Audio Controller\n",
      "             vendor: Intel Corporation\n",
      "             physical id: 1b\n",
      "             bus info: pci@0000:00:1b.0\n",
      "             version: 04\n",
      "             width: 64 bits\n",
      "             clock: 33MHz\n",
      "             capabilities: bus_master cap_list\n",
      "             configuration: driver=snd_hda_intel latency=0\n",
      "             resources: irq:29 memory:f7210000-f7213fff\n",
      "        *-pci:1\n",
      "             description: PCI bridge\n",
      "             product: 7 Series/C216 Chipset Family PCI Express Root Port 1\n",
      "             vendor: Intel Corporation\n",
      "             physical id: 1c\n",
      "             bus info: pci@0000:00:1c.0\n",
      "             version: c4\n",
      "             width: 32 bits\n",
      "             clock: 33MHz\n",
      "             capabilities: pci normal_decode bus_master cap_list\n",
      "             configuration: driver=pcieport\n",
      "             resources: irq:16 memory:f7100000-f71fffff\n",
      "           *-network\n",
      "                description: Wireless interface\n",
      "                product: AR9485 Wireless Network Adapter\n",
      "                vendor: Qualcomm Atheros\n",
      "                physical id: 0\n",
      "                bus info: pci@0000:02:00.0\n",
      "                logical name: wlp2s0\n",
      "                version: 01\n",
      "                serial: bc:85:56:fd:c4:31\n",
      "                width: 64 bits\n",
      "                clock: 33MHz\n",
      "                capabilities: bus_master cap_list rom ethernet physical wireless\n",
      "                configuration: broadcast=yes driver=ath9k driverversion=4.15.0-62-generic firmware=N/A ip=10.42.0.1 latency=0 link=yes multicast=yes wireless=IEEE 802.11\n",
      "                resources: irq:16 memory:f7100000-f717ffff memory:f7180000-f718ffff\n",
      "        *-pci:2\n",
      "             description: PCI bridge\n",
      "             product: 7 Series/C216 Chipset Family PCI Express Root Port 4\n",
      "             vendor: Intel Corporation\n",
      "             physical id: 1c.3\n",
      "             bus info: pci@0000:00:1c.3\n",
      "             version: c4\n",
      "             width: 32 bits\n",
      "             clock: 33MHz\n",
      "             capabilities: pci normal_decode bus_master cap_list\n",
      "             configuration: driver=pcieport\n",
      "             resources: irq:19 ioport:d000(size=4096) ioport:f2100000(size=1048576)\n",
      "           *-network\n",
      "                description: Ethernet interface\n",
      "                product: RTL8111/8168/8411 PCI Express Gigabit Ethernet Controller\n",
      "                vendor: Realtek Semiconductor Co., Ltd.\n",
      "                physical id: 0\n",
      "                bus info: pci@0000:03:00.0\n",
      "                logical name: enp3s0\n",
      "                version: 07\n",
      "                serial: 90:b1:1c:f7:c8:1b\n",
      "                size: 100Mbit/s\n",
      "                capacity: 1Gbit/s\n",
      "                width: 64 bits\n",
      "                clock: 33MHz\n",
      "                capabilities: bus_master cap_list ethernet physical tp mii 10bt 10bt-fd 100bt 100bt-fd 1000bt 1000bt-fd autonegotiation\n",
      "                configuration: autonegotiation=on broadcast=yes driver=r8169 driverversion=2.3LK-NAPI duplex=full firmware=rtl8168e-3_0.0.4 03/27/12 ip=172.16.92.216 latency=0 link=yes multicast=yes port=MII speed=100Mbit/s\n",
      "                resources: irq:19 ioport:d000(size=256) memory:f2104000-f2104fff memory:f2100000-f2103fff\n",
      "        *-usb:2\n",
      "             description: USB controller\n",
      "             product: 7 Series/C216 Chipset Family USB Enhanced Host Controller #1\n",
      "             vendor: Intel Corporation\n",
      "             physical id: 1d\n",
      "             bus info: pci@0000:00:1d.0\n",
      "             version: 04\n",
      "             width: 32 bits\n",
      "             clock: 33MHz\n",
      "             capabilities: ehci bus_master cap_list\n",
      "             configuration: driver=ehci-pci latency=0\n",
      "             resources: irq:23 memory:f7217000-f72173ff\n",
      "        *-isa\n",
      "             description: ISA bridge\n",
      "             product: H77 Express Chipset LPC Controller\n",
      "             vendor: Intel Corporation\n",
      "             physical id: 1f\n",
      "             bus info: pci@0000:00:1f.0\n",
      "             version: 04\n",
      "             width: 32 bits\n",
      "             clock: 33MHz\n",
      "             capabilities: isa bus_master cap_list\n",
      "             configuration: driver=lpc_ich latency=0\n",
      "             resources: irq:0\n",
      "        *-storage\n",
      "             description: SATA controller\n",
      "             product: 7 Series/C210 Series Chipset Family 6-port SATA Controller [AHCI mode]\n",
      "             vendor: Intel Corporation\n",
      "             physical id: 1f.2\n",
      "             bus info: pci@0000:00:1f.2\n",
      "             version: 04\n",
      "             width: 32 bits\n",
      "             clock: 66MHz\n",
      "             capabilities: storage ahci_1.0 bus_master cap_list\n",
      "             configuration: driver=ahci latency=0\n",
      "             resources: irq:27 ioport:f070(size=8) ioport:f060(size=4) ioport:f050(size=8) ioport:f040(size=4) ioport:f020(size=32) memory:f7216000-f72167ff\n",
      "        *-serial UNCLAIMED\n",
      "             description: SMBus\n",
      "             product: 7 Series/C216 Chipset Family SMBus Controller\n",
      "             vendor: Intel Corporation\n",
      "             physical id: 1f.3\n",
      "             bus info: pci@0000:00:1f.3\n",
      "             version: 04\n",
      "             width: 64 bits\n",
      "             clock: 33MHz\n",
      "             configuration: latency=0\n",
      "             resources: memory:f7215000-f72150ff ioport:f000(size=32)\n",
      "     *-scsi\n",
      "          physical id: 2\n",
      "          logical name: scsi5\n",
      "          capabilities: emulated\n",
      "        *-cdrom\n",
      "             description: DVD-RAM writer\n",
      "             product: DVDRWBD CH20N\n",
      "             vendor: HL-DT-ST\n",
      "             physical id: 0.0.0\n",
      "             bus info: scsi@5:0.0.0\n",
      "             logical name: /dev/cdrom\n",
      "             logical name: /dev/cdrw\n",
      "             logical name: /dev/dvd\n",
      "             logical name: /dev/dvdrw\n",
      "             logical name: /dev/sr0\n",
      "             version: A201\n",
      "             capabilities: removable audio cd-r cd-rw dvd dvd-r dvd-ram\n",
      "             configuration: ansiversion=5 status=nodisc\n",
      "  *-scsi\n",
      "       physical id: 1\n",
      "       bus info: scsi@6\n"
     ]
    },
    {
     "name": "stdout",
     "output_type": "stream",
     "text": [
      "       logical name: scsi6\n",
      "       capabilities: scsi-host\n",
      "       configuration: driver=usb-storage\n"
     ]
    },
    {
     "name": "stderr",
     "output_type": "stream",
     "text": [
      "WARNING: output may be incomplete or inaccurate, you should run this program as super-user.\n"
     ]
    }
   ],
   "source": [
    ";lshw"
   ]
  },
  {
   "cell_type": "markdown",
   "metadata": {},
   "source": [
    "**`uptime`**\n",
    "\n",
    "O comando uptime apresenta as informações sobre: a hora atual, quanto tempo o seu computador está\n",
    "ligado, quantidade de usuários logados no sistema e a carga média do sistema a 1, 5 e 15 minutos passados."
   ]
  },
  {
   "cell_type": "code",
   "execution_count": 36,
   "metadata": {
    "scrolled": true
   },
   "outputs": [
    {
     "name": "stdout",
     "output_type": "stream",
     "text": [
      " 12:06:23 up  2:24,  1 user,  load average: 0,48, 0,38, 0,34\n"
     ]
    }
   ],
   "source": [
    ";uptime"
   ]
  },
  {
   "cell_type": "markdown",
   "metadata": {},
   "source": [
    "**`df`**\n",
    "\n",
    "É utilizado para exibir o espaço disponível em seu sistema de arquivos. É listado o tamanho da partição, espaço utilizado, espaço disponível, espaço utilizado em porcentagem e ponto de montagem. Para listar as informações de forma mais legível, use a opção \"-h\":"
   ]
  },
  {
   "cell_type": "code",
   "execution_count": 37,
   "metadata": {
    "scrolled": true
   },
   "outputs": [
    {
     "name": "stdout",
     "output_type": "stream",
     "text": [
      "Filesystem     1K-blocks      Used Available Use% Mounted on\n",
      "udev             6096444         0   6096444   0% /dev\n",
      "tmpfs            1225760      2908   1222852   1% /run\n",
      "/dev/sda8      942147864 102225604 791994044  12% /\n",
      "tmpfs            6128788    108348   6020440   2% /dev/shm\n",
      "tmpfs               5120         4      5116   1% /run/lock\n",
      "tmpfs            6128788         0   6128788   0% /sys/fs/cgroup\n",
      "/dev/sda1         507904     56720    451184  12% /boot/efi\n",
      "tmpfs            1225756        72   1225684   1% /run/user/1001\n"
     ]
    },
    {
     "data": {
      "text/plain": [
       "Process(`\u001b[4mdf\u001b[24m`, ProcessExited(0))"
      ]
     },
     "execution_count": 37,
     "metadata": {},
     "output_type": "execute_result"
    }
   ],
   "source": [
    "run(`df `)"
   ]
  },
  {
   "cell_type": "code",
   "execution_count": 38,
   "metadata": {
    "scrolled": true
   },
   "outputs": [
    {
     "name": "stdout",
     "output_type": "stream",
     "text": [
      "Filesystem      Size  Used Avail Use% Mounted on\n",
      "udev            5,9G     0  5,9G   0% /dev\n",
      "tmpfs           1,2G  2,9M  1,2G   1% /run\n",
      "/dev/sda8       899G   98G  756G  12% /\n",
      "tmpfs           5,9G  106M  5,8G   2% /dev/shm\n",
      "tmpfs           5,0M  4,0K  5,0M   1% /run/lock\n",
      "tmpfs           5,9G     0  5,9G   0% /sys/fs/cgroup\n",
      "/dev/sda1       496M   56M  441M  12% /boot/efi\n",
      "tmpfs           1,2G   72K  1,2G   1% /run/user/1001\n"
     ]
    },
    {
     "data": {
      "text/plain": [
       "Process(`\u001b[4mdf\u001b[24m \u001b[4m-h\u001b[24m`, ProcessExited(0))"
      ]
     },
     "execution_count": 38,
     "metadata": {},
     "output_type": "execute_result"
    }
   ],
   "source": [
    "run(`df -h`)"
   ]
  },
  {
   "cell_type": "code",
   "execution_count": 39,
   "metadata": {
    "scrolled": true
   },
   "outputs": [
    {
     "name": "stdout",
     "output_type": "stream",
     "text": [
      "Filesystem      Size  Used Avail Use% Mounted on\n",
      "udev            5,9G     0  5,9G   0% /dev\n",
      "tmpfs           1,2G  2,9M  1,2G   1% /run\n",
      "/dev/sda8       899G   98G  756G  12% /\n",
      "tmpfs           5,9G  106M  5,8G   2% /dev/shm\n",
      "tmpfs           5,0M  4,0K  5,0M   1% /run/lock\n",
      "tmpfs           5,9G     0  5,9G   0% /sys/fs/cgroup\n",
      "/dev/sda1       496M   56M  441M  12% /boot/efi\n",
      "tmpfs           1,2G   72K  1,2G   1% /run/user/1001\n"
     ]
    }
   ],
   "source": [
    ";df \"-h\""
   ]
  },
  {
   "cell_type": "markdown",
   "metadata": {},
   "source": [
    "**`free`**\n",
    "\n",
    "Mostra a memória RAM e Swap total, usada, livre e compartilhada do computador. `free \"-m\"` mostra a RAM e Swap em MB e `free \"-g\"` em GB."
   ]
  },
  {
   "cell_type": "code",
   "execution_count": 40,
   "metadata": {},
   "outputs": [
    {
     "name": "stdout",
     "output_type": "stream",
     "text": [
      "              total        used        free      shared  buff/cache   available\n",
      "Mem:             11           2           1           0           7           8\n",
      "Swap:             1           0           1\n"
     ]
    },
    {
     "data": {
      "text/plain": [
       "Process(`\u001b[4mfree\u001b[24m \u001b[4m-g\u001b[24m`, ProcessExited(0))"
      ]
     },
     "execution_count": 40,
     "metadata": {},
     "output_type": "execute_result"
    }
   ],
   "source": [
    "run(`free -g`)"
   ]
  },
  {
   "cell_type": "code",
   "execution_count": 41,
   "metadata": {
    "scrolled": true
   },
   "outputs": [
    {
     "name": "stdout",
     "output_type": "stream",
     "text": [
      "              total        used        free      shared  buff/cache   available\n",
      "Mem:             11           2           1           0           7           8\n",
      "Swap:             1           0           1\n"
     ]
    }
   ],
   "source": [
    ";free -g"
   ]
  },
  {
   "cell_type": "markdown",
   "metadata": {},
   "source": [
    "**`shutdown`**\n",
    "\n",
    "desliga o computador:\n",
    "```sh\n",
    "shutdown \"-r\" now  # reinicia o computador;\n",
    "shutdown \"-h\" now  # desliga o computador\n",
    "```\n",
    "OBS.: O `now` pode ser configurado para ser executado após um determinado tempo: \n",
    "```sh\n",
    "shutdown \"-r\"   +tempo_minutos  \n",
    "```\n",
    "Para cancelar use:\n",
    "```sh\n",
    "shutdown -c\n",
    "```\n",
    "O comando `shutdown` é importante quando o computador ficará ligado por muito tempo realizando cálculos e há a necessidade de desliga-lo após completar as tarefas."
   ]
  },
  {
   "cell_type": "code",
   "execution_count": 42,
   "metadata": {
    "scrolled": true
   },
   "outputs": [
    {
     "name": "stderr",
     "output_type": "stream",
     "text": [
      "Shutdown scheduled for Tue 2019-09-10 12:16:23 -03, use 'shutdown -c' to cancel.\n"
     ]
    }
   ],
   "source": [
    ";shutdown \"-r\"   +10"
   ]
  },
  {
   "cell_type": "code",
   "execution_count": 43,
   "metadata": {},
   "outputs": [],
   "source": [
    ";shutdown \"-c\""
   ]
  },
  {
   "cell_type": "markdown",
   "metadata": {
    "collapsed": true
   },
   "source": [
    "**who**\n",
    "\n",
    "Mostra os usuários que estão logados na máquina. A opção `\"-a\"` mostra todos os detalhes dos usuários."
   ]
  },
  {
   "cell_type": "code",
   "execution_count": 44,
   "metadata": {},
   "outputs": [
    {
     "name": "stdout",
     "output_type": "stream",
     "text": [
      "           system boot  2019-09-10 09:41\n",
      "LOGIN      tty1         2019-09-10 09:42              1059 id=tty1\n",
      "           run-level 5  2019-09-10 09:42\n",
      "pedrohnv + tty7         2019-09-10 09:42 02:24        1619 (:0)\n"
     ]
    },
    {
     "data": {
      "text/plain": [
       "Process(`\u001b[4mwho\u001b[24m \u001b[4m-a\u001b[24m`, ProcessExited(0))"
      ]
     },
     "execution_count": 44,
     "metadata": {},
     "output_type": "execute_result"
    }
   ],
   "source": [
    "run(`who -a`)"
   ]
  },
  {
   "cell_type": "code",
   "execution_count": 45,
   "metadata": {
    "scrolled": true
   },
   "outputs": [
    {
     "name": "stdout",
     "output_type": "stream",
     "text": [
      "           system boot  2019-09-10 09:41\n",
      "LOGIN      tty1         2019-09-10 09:42              1059 id=tty1\n",
      "           run-level 5  2019-09-10 09:42\n",
      "pedrohnv + tty7         2019-09-10 09:42 02:24        1619 (:0)\n"
     ]
    }
   ],
   "source": [
    ";who \"-a\""
   ]
  },
  {
   "cell_type": "markdown",
   "metadata": {},
   "source": [
    "**ps, pgrep, kill e killall**\n",
    "\n",
    "`ps` exibe informações sobre os processos ativos no sistema. `pgrep` looks through the currently running processes and lists the process IDs which match the selection criteria to stdout.  All the criteria have to match. O comando `kill` encerra processados em andamento a partir do númeero PID (Process Identifier) e `killall` encerra pelo nome. A sintaxe básica é: \n",
    "\n",
    "`kill -9 PID`: encerra processo.\n",
    "\n",
    "`kill -HUP PID`: reinicia processo.\n",
    "\n",
    "`killall nome_processo`: encerra processo pelo nome.\n",
    "\n",
    "`killall -HUP nome_processo`: reinicia processo pelo nome."
   ]
  },
  {
   "cell_type": "code",
   "execution_count": 46,
   "metadata": {
    "scrolled": false
   },
   "outputs": [
    {
     "name": "stdout",
     "output_type": "stream",
     "text": [
      "5250\n"
     ]
    }
   ],
   "source": [
    ";pgrep \"-i\" jupyter"
   ]
  },
  {
   "cell_type": "code",
   "execution_count": 47,
   "metadata": {},
   "outputs": [
    {
     "name": "stdout",
     "output_type": "stream",
     "text": [
      "pedrohnv 10028  5250 96 12:06 ?        00:00:11 /home/pedrohnv/programas/julia-1\n",
      "pedrohnv 10126 10028  0 12:06 ?        00:00:00 grep -i julia\n"
     ]
    },
    {
     "data": {
      "text/plain": [
       "Base.ProcessChain(Base.Process[Process(`\u001b[4mps\u001b[24m \u001b[4m-f\u001b[24m`, ProcessExited(0)), Process(`\u001b[4mgrep\u001b[24m \u001b[4m-i\u001b[24m \u001b[4mjulia\u001b[24m`, ProcessExited(0))], Base.DevNull(), Base.DevNull(), Base.DevNull())"
      ]
     },
     "execution_count": 47,
     "metadata": {},
     "output_type": "execute_result"
    }
   ],
   "source": [
    "run(pipeline(`ps -f`, `grep -i \"julia\"`)) "
   ]
  },
  {
   "cell_type": "code",
   "execution_count": 48,
   "metadata": {
    "scrolled": true
   },
   "outputs": [
    {
     "name": "stdout",
     "output_type": "stream",
     "text": [
      "pedrohnv 10028  5250 96 12:06 ?        00:00:11 /home/pedrohnv/programas/julia-1\n",
      "pedrohnv 10129 10127  0 12:06 ?        00:00:00 grep -i julia\n"
     ]
    }
   ],
   "source": [
    "bash\"\"\"\n",
    "ps -f | grep -i julia\n",
    "\"\"\""
   ]
  },
  {
   "cell_type": "markdown",
   "metadata": {},
   "source": [
    "**`date e cal`**\n",
    "\n",
    "O comando `date` mostra data e hora e `cal` mostra um calendário do mês corrente. As opções `\"-m` e `\"-y\"` do comando `cal` permitem mostrar mês e ano específico. "
   ]
  },
  {
   "cell_type": "code",
   "execution_count": 49,
   "metadata": {},
   "outputs": [
    {
     "name": "stdout",
     "output_type": "stream",
     "text": [
      "ter set 10 12:06:23 -03 2019\n"
     ]
    },
    {
     "data": {
      "text/plain": [
       "Process(`\u001b[4mdate\u001b[24m`, ProcessExited(0))"
      ]
     },
     "execution_count": 49,
     "metadata": {},
     "output_type": "execute_result"
    }
   ],
   "source": [
    "run(`date`)"
   ]
  },
  {
   "cell_type": "code",
   "execution_count": 50,
   "metadata": {
    "scrolled": false
   },
   "outputs": [
    {
     "name": "stdout",
     "output_type": "stream",
     "text": [
      "ter set 10 12:06:23 -03 2019\n"
     ]
    }
   ],
   "source": [
    ";date"
   ]
  },
  {
   "cell_type": "code",
   "execution_count": 51,
   "metadata": {
    "scrolled": false
   },
   "outputs": [
    {
     "name": "stdout",
     "output_type": "stream",
     "text": [
      "   Setembro 2018      \n",
      "do se te qu qu se sá  \n",
      "                   1  \n",
      " 2  3  4  5  6  7  8  \n",
      " 9 10 11 12 13 14 15  \n",
      "16 17 18 19 20 21 22  \n",
      "23 24 25 26 27 28 29  \n",
      "30                    \n"
     ]
    }
   ],
   "source": [
    ";cal \"-m\" Sep 2018"
   ]
  },
  {
   "cell_type": "markdown",
   "metadata": {},
   "source": [
    "**`ifconfig`**\n",
    "\n",
    "Ifconfig  is  used to configure the kernel-resident network interfaces. It is used at boot time to set up interfaces as necessary.  After that, it  is  usually  only  needed  when  debugging or when system tuning is        needed."
   ]
  },
  {
   "cell_type": "code",
   "execution_count": 52,
   "metadata": {
    "scrolled": true
   },
   "outputs": [
    {
     "name": "stdout",
     "output_type": "stream",
     "text": [
      "enp3s0: flags=4163<UP,BROADCAST,RUNNING,MULTICAST>  mtu 1500\n",
      "        inet 172.16.92.216  netmask 255.255.248.0  broadcast 172.16.95.255\n",
      "        inet6 fe80::5529:15f6:b49c:efa0  prefixlen 64  scopeid 0x20<link>\n",
      "        ether 90:b1:1c:f7:c8:1b  txqueuelen 1000  (Ethernet)\n",
      "        RX packets 141043  bytes 91733069 (91.7 MB)\n",
      "        RX errors 0  dropped 0  overruns 0  frame 0\n",
      "        TX packets 75616  bytes 10557829 (10.5 MB)\n",
      "        TX errors 0  dropped 0 overruns 0  carrier 0  collisions 0\n",
      "\n",
      "lo: flags=73<UP,LOOPBACK,RUNNING>  mtu 65536\n",
      "        inet 127.0.0.1  netmask 255.0.0.0\n",
      "        inet6 ::1  prefixlen 128  scopeid 0x10<host>\n",
      "        loop  txqueuelen 1000  (Local Loopback)\n",
      "        RX packets 33189  bytes 15536907 (15.5 MB)\n",
      "        RX errors 0  dropped 0  overruns 0  frame 0\n",
      "        TX packets 33189  bytes 15536907 (15.5 MB)\n",
      "        TX errors 0  dropped 0 overruns 0  carrier 0  collisions 0\n",
      "\n",
      "wlp2s0: flags=4163<UP,BROADCAST,RUNNING,MULTICAST>  mtu 1500\n",
      "        inet 10.42.0.1  netmask 255.255.255.0  broadcast 10.42.0.255\n",
      "        inet6 fe80::23d5:7818:95d4:2b7  prefixlen 64  scopeid 0x20<link>\n",
      "        ether bc:85:56:fd:c4:31  txqueuelen 1000  (Ethernet)\n",
      "        RX packets 17627  bytes 2012621 (2.0 MB)\n",
      "        RX errors 0  dropped 1  overruns 0  frame 0\n",
      "        TX packets 27071  bytes 35621907 (35.6 MB)\n",
      "        TX errors 0  dropped 0 overruns 0  carrier 0  collisions 0\n",
      "\n"
     ]
    }
   ],
   "source": [
    ";ifconfig"
   ]
  },
  {
   "cell_type": "markdown",
   "metadata": {},
   "source": [
    "## INTERPOLAÇÃO\n",
    "\n",
    "É possível usar o nome de um arquivo como um argumento para um comando, basta usar `$` para interpolação."
   ]
  },
  {
   "cell_type": "code",
   "execution_count": 53,
   "metadata": {},
   "outputs": [],
   "source": [
    "bash\"\"\"\n",
    "lscpu > \"arquivo_cpu.txt\"\n",
    "\"\"\""
   ]
  },
  {
   "cell_type": "code",
   "execution_count": 54,
   "metadata": {},
   "outputs": [
    {
     "data": {
      "text/plain": [
       "\"arquivo_cpu.txt\""
      ]
     },
     "execution_count": 54,
     "metadata": {},
     "output_type": "execute_result"
    }
   ],
   "source": [
    "arquivo = \"arquivo_cpu.txt\""
   ]
  },
  {
   "cell_type": "code",
   "execution_count": 55,
   "metadata": {
    "scrolled": true
   },
   "outputs": [
    {
     "name": "stdout",
     "output_type": "stream",
     "text": [
      "Architecture:        x86_64\n",
      "CPU op-mode(s):      32-bit, 64-bit\n",
      "Byte Order:          Little Endian\n",
      "CPU(s):              4\n",
      "On-line CPU(s) list: 0-3\n",
      "Thread(s) per core:  1\n",
      "Core(s) per socket:  4\n",
      "Socket(s):           1\n",
      "NUMA node(s):        1\n",
      "Vendor ID:           GenuineIntel\n",
      "CPU family:          6\n",
      "Model:               58\n",
      "Model name:          Intel(R) Core(TM) i7-3770 CPU @ 3.40GHz\n",
      "Stepping:            9\n",
      "CPU MHz:             3315.579\n",
      "CPU max MHz:         3400,0000\n",
      "CPU min MHz:         1600,0000\n",
      "BogoMIPS:            6784.76\n",
      "Virtualization:      VT-x\n",
      "L1d cache:           32K\n",
      "L1i cache:           32K\n",
      "L2 cache:            256K\n",
      "L3 cache:            8192K\n",
      "NUMA node0 CPU(s):   0-3\n",
      "Flags:               fpu vme de pse tsc msr pae mce cx8 apic sep mtrr pge mca cmov pat pse36 clflush dts acpi mmx fxsr sse sse2 ss ht tm pbe syscall nx rdtscp lm constant_tsc arch_perfmon pebs bts rep_good nopl xtopology nonstop_tsc cpuid aperfmperf pni pclmulqdq dtes64 monitor ds_cpl vmx smx est tm2 ssse3 cx16 xtpr pdcm pcid sse4_1 sse4_2 x2apic popcnt tsc_deadline_timer aes xsave avx f16c rdrand lahf_lm cpuid_fault epb pti ssbd ibrs ibpb stibp tpr_shadow vnmi flexpriority ept vpid fsgsbase smep erms xsaveopt dtherm arat pln pts md_clear flush_l1d\n"
     ]
    }
   ],
   "source": [
    ";cat $arquivo"
   ]
  },
  {
   "cell_type": "code",
   "execution_count": 56,
   "metadata": {},
   "outputs": [],
   "source": [
    "bash\"\"\"\n",
    "cd ..\n",
    "rm -r julia_dir_1 julia_dir_2\n",
    "\"\"\""
   ]
  },
  {
   "cell_type": "markdown",
   "metadata": {},
   "source": [
    "## REFERENCIA BIBLIOGRÁFICA\n",
    "\n",
    "RAGGI, Emilio et al. **Beginning Ubuntu Linux**. 5. ed. New York: Apress, 2010. 664 p. v. 1. "
   ]
  }
 ],
 "metadata": {
  "@webio": {
   "lastCommId": null,
   "lastKernelId": null
  },
  "anaconda-cloud": {},
  "kernelspec": {
   "display_name": "Julia 1.2.0",
   "language": "julia",
   "name": "julia-1.2"
  },
  "language_info": {
   "file_extension": ".jl",
   "mimetype": "application/julia",
   "name": "julia",
   "version": "1.2.0"
  },
  "latex_envs": {
   "LaTeX_envs_menu_present": true,
   "autocomplete": true,
   "bibliofile": "biblio.bib",
   "cite_by": "apalike",
   "current_citInitial": 1,
   "eqLabelWithNumbers": true,
   "eqNumInitial": 1,
   "hotkeys": {
    "equation": "Ctrl-E",
    "itemize": "Ctrl-I"
   },
   "labels_anchors": false,
   "latex_user_defs": false,
   "report_style_numbering": false,
   "user_envs_cfg": false
  }
 },
 "nbformat": 4,
 "nbformat_minor": 1
}
