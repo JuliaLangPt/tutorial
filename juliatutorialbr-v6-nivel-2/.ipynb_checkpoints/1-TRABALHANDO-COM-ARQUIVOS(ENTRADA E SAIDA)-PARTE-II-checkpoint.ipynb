{
 "cells": [
  {
   "cell_type": "markdown",
   "metadata": {},
   "source": [
    "# TRABALHANDO COM ARQUIVOS (ENTRADA E SAIDA) PARTE II"
   ]
  },
  {
   "cell_type": "markdown",
   "metadata": {},
   "source": [
    "## ARQUIVOS DE DADOS JLD\n",
    "\n",
    "Arquivo JDL é um formato amplamente utilizado para armazenamento de dados com a linguagem de programação Julia. JLD é um formato derivado do HDF5 aplicado para o armazenamento de dados científicos de grande volume. \n",
    "\n",
    "Arquivos HDF5 são organizados em uma estrutura hierárquica. Esta, pode ser vista como uma árvore de diretórios dentro de um arquivo. Suas duas estruturas primárias são groups e datasets (HDF Group, 2007). Um HDF5 group é uma estrutura de agrupamento que pode conter zero ou mais instâncias de grupos ou datasets, juntamente com seus metadados, enquanto um HDF5 dataset é um array multidimensional de dados também em conjunto com seus metadados.A figura abaixo representa a estrutura de um arquivo HDF5 [(PERANTUNES, 2007)](https://projetos.inf.ufsc.br/arquivos_projetos/projeto_733/hilton_perantunes_ine5631.pdf). \n",
    "![Estrutura do HDF5](Figuras/hdf5.png)\n",
    "Um grupo contém zero ou mais HDF5 objects (grupos ou datasets), e é composto por duas partes: a primeira é formada por um cabeçalho contendo o nome do grupo e uma lista de atributos, sendo que a segunda parte é uma tabela de símbolos com uma listagem dos objetos HDF5 que pertencem ao grupo . Já um dataset possui um cabeçalho e um array de dados  [(PERANTUNES, 2007)](https://projetos.inf.ufsc.br/arquivos_projetos/projeto_733/hilton_perantunes_ine5631.pdf).\n",
    "\n",
    "Em comparação com HDF5, arquivos JLD adicionam automaticamente atributos e convenções de nomenclatura para preservar as informações de tipo para cada objeto. Vale resaltar que arquivos * .jld são arquivos HDF5 com recursos extras e, consequentemente, pode ser lido por qualquer linguagem que suporte HDF5. Para mais detalhes consulte [JuliaIO/JLD](https://github.com/JuliaIO/JLD.jl/) . Uma grande vantagem é que a saída do arquivo é do tipo dicionário e portante vale todas as operações para este tipo no notebook \"TIPOS DE DADOS\". Para instalar o pacote JLD use:\n",
    "\n",
    "```julia\n",
    "Pkg.add(\"JLD\")\n",
    "```\n",
    "\n",
    "**CUIDADO:** arquivos `.jld`, quando carregados, são capazes de executar códigos arbitrários, potencialmente danificando seu computador. Apenas abra estes arquivos de fontes confiáveis."
   ]
  },
  {
   "cell_type": "markdown",
   "metadata": {},
   "source": [
    "**Criar,  Abrir e gravar dados no arquivo JLD**\n",
    "\n",
    "Para criar um novo arquivo basta abrir ou escrever um arquivo que não existe ainda e `Julia` irá escrever no disco o arquivo. Para escrever em um arquivo novo use:\n",
    "```julia\n",
    "save(\"nome_arquivo.jld\", \"key_1\", valor_dado, \"key_2\", valor_dado,...)\n",
    "```"
   ]
  },
  {
   "cell_type": "code",
   "execution_count": 1,
   "metadata": {},
   "outputs": [],
   "source": [
    "using JLD"
   ]
  },
  {
   "cell_type": "markdown",
   "metadata": {},
   "source": [
    "#### MODO BÁSICO\n",
    "\n",
    "Neste primeiro contato, faremos apenas uma introdução rápida sobre a manipulação dos arquivos no formato `JLD` de tal forma que seja suficiente para o usuário gravar informações no disco e recuperá-las para trabalhar com os dados. A desvantagem é que alterado os dados de uma `key` é necessário salvar todos os dados novamente no arquivo em disco."
   ]
  },
  {
   "cell_type": "code",
   "execution_count": 2,
   "metadata": {},
   "outputs": [
    {
     "data": {
      "text/plain": [
       "\"Arquivos\""
      ]
     },
     "execution_count": 2,
     "metadata": {},
     "output_type": "execute_result"
    }
   ],
   "source": [
    "# dados\n",
    "matriz = rand(Float64,6,6)\n",
    "vetor = rand(5)\n",
    "nome = \"Arquivos\""
   ]
  },
  {
   "cell_type": "code",
   "execution_count": 3,
   "metadata": {},
   "outputs": [],
   "source": [
    "# salvar arquivo em disco \n",
    "save(\"arquivo_basico.jld\", \"matriz\", matriz, \"vetor\", vetor , \"nome\", nome)"
   ]
  },
  {
   "cell_type": "code",
   "execution_count": 4,
   "metadata": {
    "scrolled": false
   },
   "outputs": [
    {
     "data": {
      "text/plain": [
       "Dict{String,Any} with 3 entries:\n",
       "  \"matriz\" => [0.986315 0.29742 … 0.831822 0.445305; 0.0322839 0.262444 … 0.287…\n",
       "  \"vetor\"  => [0.783726, 0.558436, 0.776012, 0.144528, 0.958285]\n",
       "  \"nome\"   => \"Arquivos\""
      ]
     },
     "execution_count": 4,
     "metadata": {},
     "output_type": "execute_result"
    }
   ],
   "source": [
    "# ler os dados do arquivo gravado em disco\n",
    "arquivo_basico = load(\"arquivo_basico.jld\")"
   ]
  },
  {
   "cell_type": "code",
   "execution_count": 5,
   "metadata": {},
   "outputs": [
    {
     "data": {
      "text/plain": [
       "Dict{String,Any} with 2 entries:\n",
       "  \"matriz\" => [0.986315 0.29742 … 0.831822 0.445305; 0.0322839 0.262444 … 0.287…\n",
       "  \"nome\"   => \"Arquivos\""
      ]
     },
     "execution_count": 5,
     "metadata": {},
     "output_type": "execute_result"
    }
   ],
   "source": [
    "# deletar uma key e seus valores\n",
    "delete!(arquivo_basico, \"vetor\")"
   ]
  },
  {
   "cell_type": "code",
   "execution_count": 6,
   "metadata": {
    "scrolled": true
   },
   "outputs": [
    {
     "data": {
      "text/plain": [
       "Base.KeySet for a Dict{String,Any} with 2 entries. Keys:\n",
       "  \"matriz\"\n",
       "  \"nome\""
      ]
     },
     "execution_count": 6,
     "metadata": {},
     "output_type": "execute_result"
    }
   ],
   "source": [
    "# listar as keys\n",
    "keys(arquivo_basico)"
   ]
  },
  {
   "cell_type": "code",
   "execution_count": 7,
   "metadata": {
    "scrolled": false
   },
   "outputs": [
    {
     "data": {
      "text/plain": [
       "Base.ValueIterator for a Dict{String,Any} with 2 entries. Values:\n",
       "  [0.98631479555332 0.2974197093884752 … 0.8318219370449127 0.4453046003787977;…\n",
       "  \"Arquivos\""
      ]
     },
     "execution_count": 7,
     "metadata": {},
     "output_type": "execute_result"
    }
   ],
   "source": [
    "# listar os valores das keys\n",
    "values(arquivo_basico)"
   ]
  },
  {
   "cell_type": "code",
   "execution_count": 8,
   "metadata": {},
   "outputs": [
    {
     "data": {
      "text/plain": [
       "6×6 Array{Float64,2}:\n",
       " 0.986315   0.29742   0.197979   0.506338  0.831822   0.445305\n",
       " 0.0322839  0.262444  0.0773362  0.812946  0.287663   0.216421\n",
       " 0.904405   0.352734  0.0464212  0.427761  0.455273   0.341961\n",
       " 0.150536   0.370633  0.628102   0.586077  0.383367   0.979945\n",
       " 0.442428   0.244011  0.889651   0.922113  0.0198385  0.912287\n",
       " 0.595286   0.853957  0.599967   0.561145  0.834546   0.393163"
      ]
     },
     "execution_count": 8,
     "metadata": {},
     "output_type": "execute_result"
    }
   ],
   "source": [
    "# mostrar os valores da key \"matriz\"\n",
    "arquivo_basico[\"matriz\"]"
   ]
  },
  {
   "cell_type": "code",
   "execution_count": 9,
   "metadata": {},
   "outputs": [],
   "source": [
    "# altera matriz e nome\n",
    "arquivo_basico[\"matriz\"] = rand(3,2)\n",
    "arquivo_basico[\"nome\"]  =  \"Testando\";"
   ]
  },
  {
   "cell_type": "code",
   "execution_count": 10,
   "metadata": {},
   "outputs": [],
   "source": [
    "# salvar alterações em disco\n",
    "save(\"arquivo_basico.jld\", arquivo_basico)"
   ]
  },
  {
   "cell_type": "code",
   "execution_count": 11,
   "metadata": {
    "scrolled": false
   },
   "outputs": [
    {
     "data": {
      "text/plain": [
       "Dict{String,Any} with 2 entries:\n",
       "  \"matriz\" => [0.568248 0.10019; 0.824302 0.716416; 0.31595 0.599574]\n",
       "  \"nome\"   => \"Testando\""
      ]
     },
     "execution_count": 11,
     "metadata": {},
     "output_type": "execute_result"
    }
   ],
   "source": [
    "# ler os dados do arquivo gravado em disco. Veja que a matriz mudou.\n",
    "load(\"arquivo_basico.jld\")"
   ]
  },
  {
   "cell_type": "markdown",
   "metadata": {},
   "source": [
    "#### MODO AVANÇADO\n",
    "\n",
    "Nesta parte será trabalhado a abertura do arquivo para manipular os dados e fechamento dele após as operações. Isto é importante pois permite salvar apenas as `keys` alteradas.\n",
    "\n",
    "Um novo arquivo será criado quando executado o comando `jldopen` com atributo de gravação **\"w\"** (que destrói dados existentes, se houver) e vinculado a uma variável. Sintaxe:\n",
    "\n",
    "```julia\n",
    "var_dados = jldopen(\"nome_arquivo.jld\", atributo)\n",
    "\n",
    "```\n",
    "\n",
    "`Tabela de atributos`\n",
    "\n",
    "<table border=\"1\" class=\"docutils\" style=\"float: left;\">\n",
    "<colgroup>\n",
    "<col width=\"11%\" />\n",
    "<col width=\"89%\" />\n",
    "</colgroup>\n",
    "<tbody valign=\"top\">\n",
    "<tr class=\"row-odd\"><td>\"r\"</td>\n",
    "<td>Somente ler os dados.</td>\n",
    "</tr>\n",
    "<tr class=\"row-even\"><td>\"r+\"</td>\n",
    "<td>Ler e escrever mantendo os dados já escritos.</td>\n",
    "</tr>\n",
    "<tr class=\"row-odd\"><td>\"w\"</td>\n",
    "<td>Escrever destruindo todos os dados existentes.</td>\n",
    "</tr>\n",
    "\n",
    "</tbody>\n",
    "</table>"
   ]
  },
  {
   "cell_type": "code",
   "execution_count": 12,
   "metadata": {
    "scrolled": false
   },
   "outputs": [
    {
     "data": {
      "text/plain": [
       "Julia data file version 0.1.2: arquivo_avancado.jld"
      ]
     },
     "execution_count": 12,
     "metadata": {},
     "output_type": "execute_result"
    }
   ],
   "source": [
    "arquivo_avancado = jldopen(\"arquivo_avancado.jld\", \"w\")"
   ]
  },
  {
   "cell_type": "markdown",
   "metadata": {},
   "source": [
    "Uma vez aberto o arquivo, não é possível abri-lo novamente com outro atributo. Se tentar, ocorrerá este erro:\n",
    "\n",
    "        HDF5-DIAG: Error detected in HDF5 (1.8.16) thread 139655273372672:\n",
    "          #000: ../../../src/H5F.c line 522 in H5Fcreate(): unable to create file\n",
    "            major: File accessibilty\n",
    "            minor: Unable to open file\n",
    "          #001: ../../../src/H5Fint.c line 1024 in H5F_open(): unable to truncate a file which is already open\n",
    "            major: File accessibilty\n",
    "            minor: Unable to open file\n",
    "            \n",
    "Este erro informa que o arquivo está inacessível e que ja está aberto. Para alterar o atributo e abrir o arquivo novamente é necessário fecha-lo primeiro. Muitas vezes não sabemos qual objeto está vinculado ao arquivo aberto, dessa forma utilize a função `whos()` basta procurar pelo objeto do tipo `JLD.JldFile` e fecha-lo."
   ]
  },
  {
   "cell_type": "code",
   "execution_count": 13,
   "metadata": {
    "scrolled": true
   },
   "outputs": [
    {
     "data": {
      "text/plain": [
       "\"x*sind(x)\""
      ]
     },
     "execution_count": 13,
     "metadata": {},
     "output_type": "execute_result"
    }
   ],
   "source": [
    "matriz = rand(Float64,6,6) # matriz aleatoria do tipo float64\n",
    "vetor  = rand(5)           # vetor aleatóro do tipo float64\n",
    "nome   = \"Arquivos\"        # string \n",
    "funcao = \"x*sind(x)\"       # função do tipo string"
   ]
  },
  {
   "cell_type": "code",
   "execution_count": 14,
   "metadata": {},
   "outputs": [],
   "source": [
    "# gravando dados no arquivo\n",
    "write(arquivo_avancado, \"Matriz\", matriz)\n",
    "write(arquivo_avancado, \"vetor\" , vetor)\n",
    "write(arquivo_avancado, \"nome\" , nome)\n",
    "write(arquivo_avancado, \"função\" , funcao)"
   ]
  },
  {
   "cell_type": "code",
   "execution_count": 15,
   "metadata": {},
   "outputs": [],
   "source": [
    "# fechando o arquivo\n",
    "close(arquivo_avancado)"
   ]
  },
  {
   "cell_type": "markdown",
   "metadata": {
    "collapsed": true
   },
   "source": [
    "**Lendo arquivo de dados**\n",
    "\n",
    "Para exibir os dados de uma `key` use:\n",
    "```julia\n",
    "read(nome_var_arquivo[\"nome_key\"])\n",
    "```\n",
    "Sendo \"nome_var_arquivo\" o nome da variável que é atribído o arquivo gravado em disco e \"nome_key\" o nome da chave.\n",
    "\n",
    "Para acessar valores específicos da `key` use:\n",
    "```julia\n",
    "read(nome_var_arquivo[\"nome_key\"])[ordem_dado]\n",
    "```\n",
    "`ordem_dado` é a referência ao registro do dado num vetor, matriz e outros tipos básicos"
   ]
  },
  {
   "cell_type": "code",
   "execution_count": 16,
   "metadata": {
    "scrolled": false
   },
   "outputs": [
    {
     "data": {
      "text/plain": [
       "Julia data file version 0.1.2: arquivo_avancado.jld"
      ]
     },
     "execution_count": 16,
     "metadata": {},
     "output_type": "execute_result"
    }
   ],
   "source": [
    "# vinculando a \"arquivo_avancado\" ao arquivo gravado em disco\n",
    "arquivo_avancado = jldopen(\"arquivo_avancado.jld\", \"r+\")"
   ]
  },
  {
   "cell_type": "code",
   "execution_count": 17,
   "metadata": {},
   "outputs": [
    {
     "data": {
      "text/plain": [
       "JLD.JldFile"
      ]
     },
     "execution_count": 17,
     "metadata": {},
     "output_type": "execute_result"
    }
   ],
   "source": [
    "# verificar o tipo\n",
    "typeof(arquivo_avancado)"
   ]
  },
  {
   "cell_type": "code",
   "execution_count": 18,
   "metadata": {
    "scrolled": false
   },
   "outputs": [
    {
     "data": {
      "text/plain": [
       "Dict{String,Any} with 4 entries:\n",
       "  \"função\" => \"x*sind(x)\"\n",
       "  \"vetor\"  => [0.264934, 0.451302, 0.341459, 0.747095, 0.63675]\n",
       "  \"nome\"   => \"Arquivos\"\n",
       "  \"Matriz\" => [0.0839816 0.279774 … 0.247007 0.340746; 0.986425 0.535825 … 0.15…"
      ]
     },
     "execution_count": 18,
     "metadata": {},
     "output_type": "execute_result"
    }
   ],
   "source": [
    "# ler os dados de arquivo_dados\n",
    "read(arquivo_avancado)"
   ]
  },
  {
   "cell_type": "code",
   "execution_count": 19,
   "metadata": {},
   "outputs": [
    {
     "data": {
      "text/plain": [
       "false"
      ]
     },
     "execution_count": 19,
     "metadata": {},
     "output_type": "execute_result"
    }
   ],
   "source": [
    "# deletar uma key e seus valores\n",
    "delete!(arquivo_avancado, \"vetor\")"
   ]
  },
  {
   "cell_type": "code",
   "execution_count": 20,
   "metadata": {
    "scrolled": false
   },
   "outputs": [
    {
     "data": {
      "text/plain": [
       "Base.KeySet for a Dict{String,Any} with 3 entries. Keys:\n",
       "  \"função\"\n",
       "  \"nome\"\n",
       "  \"Matriz\""
      ]
     },
     "execution_count": 20,
     "metadata": {},
     "output_type": "execute_result"
    }
   ],
   "source": [
    "# ler as keys. key \"vetor\" foi deletada\n",
    "keys(read(arquivo_avancado))"
   ]
  },
  {
   "cell_type": "code",
   "execution_count": 21,
   "metadata": {},
   "outputs": [
    {
     "data": {
      "text/plain": [
       "Base.ValueIterator for a Dict{String,Any} with 3 entries. Values:\n",
       "  \"x*sind(x)\"\n",
       "  \"Arquivos\"\n",
       "  [0.08398159607254341 0.2797736264237276 … 0.24700718840732616 0.3407461400587…"
      ]
     },
     "execution_count": 21,
     "metadata": {},
     "output_type": "execute_result"
    }
   ],
   "source": [
    "values(read(arquivo_avancado))"
   ]
  },
  {
   "cell_type": "code",
   "execution_count": 22,
   "metadata": {},
   "outputs": [
    {
     "data": {
      "text/plain": [
       "6×6 Array{Float64,2}:\n",
       " 0.0839816  0.279774  0.981016   0.155445   0.247007  0.340746 \n",
       " 0.986425   0.535825  0.0324471  0.149021   0.156872  0.474952 \n",
       " 0.734457   0.690166  0.238394   0.454612   0.822216  0.818037 \n",
       " 0.488454   0.550107  0.416173   0.798287   0.65224   0.877995 \n",
       " 0.300138   0.156174  0.372895   0.793003   0.501492  0.0725748\n",
       " 0.558909   0.03806   0.995426   0.0921956  0.366414  0.179316 "
      ]
     },
     "execution_count": 22,
     "metadata": {},
     "output_type": "execute_result"
    }
   ],
   "source": [
    "# Listar todos os dados do registro \"1\"\n",
    "read(arquivo_avancado[\"Matriz\"])"
   ]
  },
  {
   "cell_type": "code",
   "execution_count": 23,
   "metadata": {},
   "outputs": [
    {
     "data": {
      "text/plain": [
       "6-element Array{Float64,1}:\n",
       " 0.9864245600740169 \n",
       " 0.5358253509420672 \n",
       " 0.032447067211268  \n",
       " 0.14902060395198147\n",
       " 0.15687151864596172\n",
       " 0.47495157697000434"
      ]
     },
     "execution_count": 23,
     "metadata": {},
     "output_type": "execute_result"
    }
   ],
   "source": [
    "# listar somente os elementos da segunda linha\n",
    "read(arquivo_avancado[\"Matriz\"])[2,:]"
   ]
  },
  {
   "cell_type": "code",
   "execution_count": 24,
   "metadata": {
    "scrolled": true
   },
   "outputs": [
    {
     "data": {
      "text/plain": [
       "9999"
      ]
     },
     "execution_count": 24,
     "metadata": {},
     "output_type": "execute_result"
    }
   ],
   "source": [
    "# alterar o valor de um elemento\n",
    "arquivo_avancado[\"Matriz\"][1,1] = 9999"
   ]
  },
  {
   "cell_type": "code",
   "execution_count": 25,
   "metadata": {
    "scrolled": true
   },
   "outputs": [
    {
     "data": {
      "text/plain": [
       "6×6 Array{Float64,2}:\n",
       " 9999.0       0.279774  0.981016   0.155445   0.247007  0.340746 \n",
       "    0.986425  0.535825  0.0324471  0.149021   0.156872  0.474952 \n",
       "    0.734457  0.690166  0.238394   0.454612   0.822216  0.818037 \n",
       "    0.488454  0.550107  0.416173   0.798287   0.65224   0.877995 \n",
       "    0.300138  0.156174  0.372895   0.793003   0.501492  0.0725748\n",
       "    0.558909  0.03806   0.995426   0.0921956  0.366414  0.179316 "
      ]
     },
     "execution_count": 25,
     "metadata": {},
     "output_type": "execute_result"
    }
   ],
   "source": [
    "read(arquivo_avancado[\"Matriz\"])"
   ]
  },
  {
   "cell_type": "code",
   "execution_count": 26,
   "metadata": {},
   "outputs": [
    {
     "data": {
      "text/plain": [
       "\"Arquivos\""
      ]
     },
     "execution_count": 26,
     "metadata": {},
     "output_type": "execute_result"
    }
   ],
   "source": [
    "# Listar todos os dados do registro \"3\"\n",
    "read(arquivo_avancado[\"nome\"])"
   ]
  },
  {
   "cell_type": "code",
   "execution_count": 27,
   "metadata": {
    "scrolled": true
   },
   "outputs": [
    {
     "data": {
      "text/plain": [
       "f (generic function with 1 method)"
      ]
     },
     "execution_count": 27,
     "metadata": {},
     "output_type": "execute_result"
    }
   ],
   "source": [
    "# transformando a string da key 4 em função\n",
    "@eval f(x) = $(Meta.parse(read(arquivo_avancado[\"função\"])))"
   ]
  },
  {
   "cell_type": "code",
   "execution_count": 28,
   "metadata": {},
   "outputs": [
    {
     "data": {
      "text/plain": [
       "15.0"
      ]
     },
     "execution_count": 28,
     "metadata": {},
     "output_type": "execute_result"
    }
   ],
   "source": [
    "f(30)"
   ]
  },
  {
   "cell_type": "code",
   "execution_count": 29,
   "metadata": {
    "scrolled": true
   },
   "outputs": [],
   "source": [
    "# definindo um tipo específico\n",
    "\n",
    "mutable struct Amostra_obj\n",
    "     material  ::String\n",
    "     massa     ::Float64\n",
    "     raio      ::Float64 \n",
    "     densidade ::Float64    \n",
    "end"
   ]
  },
  {
   "cell_type": "code",
   "execution_count": 30,
   "metadata": {
    "scrolled": true
   },
   "outputs": [
    {
     "data": {
      "text/plain": [
       "Amostra_obj(\"isopor\", 0.001, 0.1, 0.0001)"
      ]
     },
     "execution_count": 30,
     "metadata": {},
     "output_type": "execute_result"
    }
   ],
   "source": [
    "objeto1 = Amostra_obj(\"isopor\", 0.001, 0.1,  0.0001)"
   ]
  },
  {
   "cell_type": "code",
   "execution_count": 31,
   "metadata": {},
   "outputs": [],
   "source": [
    "# salvar no arquivo\n",
    "write(arquivo_avancado, \"objeto1\" , objeto1 )"
   ]
  },
  {
   "cell_type": "code",
   "execution_count": 32,
   "metadata": {},
   "outputs": [
    {
     "data": {
      "text/plain": [
       "(\"isopor\", 0.001, 0.1, 0.0001)"
      ]
     },
     "execution_count": 32,
     "metadata": {},
     "output_type": "execute_result"
    }
   ],
   "source": [
    "# atribuir objeto1 à key \"objeto1\" \n",
    "amostra_1 = read(arquivo_avancado[\"objeto1\"])\n",
    "\n",
    "# listar as caracteristicas do objeto amostra_1\n",
    "amostra_1.material , amostra_1.massa , amostra_1.raio , amostra_1.densidade "
   ]
  },
  {
   "cell_type": "markdown",
   "metadata": {},
   "source": [
    "É possível gravar em uma `key` um tipo específico. Isto é útil para ter sempre disponível um tipo específico."
   ]
  },
  {
   "cell_type": "code",
   "execution_count": 33,
   "metadata": {},
   "outputs": [],
   "source": [
    "# salvar no arquivo\n",
    "write(arquivo_avancado, \"tipo_amostra\" , Amostra_obj )"
   ]
  },
  {
   "cell_type": "code",
   "execution_count": 34,
   "metadata": {},
   "outputs": [
    {
     "data": {
      "text/plain": [
       "Amostra_obj(\"metal\", 0.1, 0.1, 0.15)"
      ]
     },
     "execution_count": 34,
     "metadata": {},
     "output_type": "execute_result"
    }
   ],
   "source": [
    "amostra_metal = read(arquivo_avancado[\"tipo_amostra\"])(\"metal\", 0.1, 0.1,  0.15)"
   ]
  },
  {
   "cell_type": "code",
   "execution_count": 35,
   "metadata": {},
   "outputs": [],
   "source": [
    "# gravando o tipo no arquivo\n",
    "write(arquivo_avancado, \"amostra_metal\" , amostra_metal )"
   ]
  },
  {
   "cell_type": "code",
   "execution_count": 36,
   "metadata": {},
   "outputs": [
    {
     "data": {
      "text/plain": [
       "Dict{String,Any} with 6 entries:\n",
       "  \"amostra_metal\" => Amostra_obj(\"metal\", 0.1, 0.1, 0.15)\n",
       "  \"função\"        => \"x*sind(x)\"\n",
       "  \"tipo_amostra\"  => Amostra_obj\n",
       "  \"objeto1\"       => Amostra_obj(\"isopor\", 0.001, 0.1, 0.0001)\n",
       "  \"nome\"          => \"Arquivos\"\n",
       "  \"Matriz\"        => [9999.0 0.279774 … 0.247007 0.340746; 0.986425 0.535825 … …"
      ]
     },
     "execution_count": 36,
     "metadata": {},
     "output_type": "execute_result"
    }
   ],
   "source": [
    "# observe os valores alterados dos elementos e a ausência da key \"vetor\"\n",
    "read(arquivo_avancado)"
   ]
  },
  {
   "cell_type": "code",
   "execution_count": 37,
   "metadata": {},
   "outputs": [],
   "source": [
    "# fechar arquivo\n",
    "close(arquivo_avancado)"
   ]
  },
  {
   "cell_type": "code",
   "execution_count": 38,
   "metadata": {
    "scrolled": true
   },
   "outputs": [
    {
     "ename": "ErrorException",
     "evalue": "File or object has been closed",
     "output_type": "error",
     "traceback": [
      "File or object has been closed",
      "",
      "Stacktrace:",
      " [1] error(::String) at ./error.jl:33",
      " [2] checkvalid at /home/pedro/.julia/packages/HDF5/DktP4/src/HDF5.jl:772 [inlined]",
      " [3] names(::HDF5.HDF5File) at /home/pedro/.julia/packages/HDF5/DktP4/src/HDF5.jl:1109",
      " [4] names(::JLD.JldFile) at /home/pedro/.julia/packages/JLD/1BoSz/src/JLD.jl:1113",
      " [5] read(::JLD.JldFile) at /home/pedro/.julia/packages/HDF5/DktP4/src/datafile.jl:42",
      " [6] top-level scope at In[38]:1"
     ]
    }
   ],
   "source": [
    "# depois de fechado, os dados não podem ser lidos a partir da variável vinculada\n",
    "read(arquivo_avancado) # erro: File closed"
   ]
  },
  {
   "cell_type": "markdown",
   "metadata": {},
   "source": [
    "**Ler e alterar dados em um arquivo jld sem atribuição de variável**\n",
    "\n",
    "Para somente ler o conteúdo de um arquivo sem ter a necessidade de fecha-lo depois, use o comando: \n",
    "\n",
    "```julia \n",
    "read(jldopen(\"nome_arquivo.jld\", \"atributo\"))\n",
    "```\n",
    "\n",
    "Para ser prático, use o atributo \"r+\" pois assim é possível alterar valores dos elementos de contidos em uma `key`.\n",
    "\n",
    "Para gravar uma nova `key` use:\n",
    "```julia\n",
    "write(jldopen(\"nome_arquivo.jld\", \"r+\"), \"nova_key\",\"valor_dado\")\n",
    "```\n",
    "\n",
    "Não use `write(\"nome_arquivo.jld\",\"key\",\"Valor_Dados\")` para gravar diretamente, pois todos os dados anteriores serão perdidos."
   ]
  },
  {
   "cell_type": "code",
   "execution_count": 39,
   "metadata": {
    "scrolled": true
   },
   "outputs": [
    {
     "data": {
      "text/plain": [
       "Dict{String,Any} with 6 entries:\n",
       "  \"amostra_metal\" => Amostra_obj(\"metal\", 0.1, 0.1, 0.15)\n",
       "  \"função\"        => \"x*sind(x)\"\n",
       "  \"tipo_amostra\"  => Amostra_obj\n",
       "  \"objeto1\"       => Amostra_obj(\"isopor\", 0.001, 0.1, 0.0001)\n",
       "  \"nome\"          => \"Arquivos\"\n",
       "  \"Matriz\"        => [9999.0 0.279774 … 0.247007 0.340746; 0.986425 0.535825 … …"
      ]
     },
     "execution_count": 39,
     "metadata": {},
     "output_type": "execute_result"
    }
   ],
   "source": [
    "# use o atributo \"r+\" para ler e alterar dados do arquivo.\n",
    "read(jldopen(\"arquivo_avancado.jld\", \"r+\"))"
   ]
  },
  {
   "cell_type": "code",
   "execution_count": 40,
   "metadata": {
    "scrolled": false
   },
   "outputs": [
    {
     "data": {
      "text/plain": [
       "6×6 Array{Float64,2}:\n",
       " 9999.0       0.279774  0.981016   0.155445   0.247007  0.340746 \n",
       "    0.986425  0.535825  0.0324471  0.149021   0.156872  0.474952 \n",
       "    0.734457  0.690166  0.238394   0.454612   0.822216  0.818037 \n",
       "    0.488454  0.550107  0.416173   0.798287   0.65224   0.877995 \n",
       "    0.300138  0.156174  0.372895   0.793003   0.501492  0.0725748\n",
       "    0.558909  0.03806   0.995426   0.0921956  0.366414  0.179316 "
      ]
     },
     "execution_count": 40,
     "metadata": {},
     "output_type": "execute_result"
    }
   ],
   "source": [
    "read(jldopen(\"arquivo_avancado.jld\", \"r+\")[\"Matriz\"])"
   ]
  },
  {
   "cell_type": "code",
   "execution_count": 41,
   "metadata": {
    "scrolled": true
   },
   "outputs": [
    {
     "data": {
      "text/plain": [
       "9999.0"
      ]
     },
     "execution_count": 41,
     "metadata": {},
     "output_type": "execute_result"
    }
   ],
   "source": [
    "read(jldopen(\"arquivo_avancado.jld\", \"r+\")[\"Matriz\"])[1,1]"
   ]
  },
  {
   "cell_type": "code",
   "execution_count": 42,
   "metadata": {},
   "outputs": [
    {
     "ename": "ErrorException",
     "evalue": "File or object has been closed",
     "output_type": "error",
     "traceback": [
      "File or object has been closed",
      "",
      "Stacktrace:",
      " [1] error(::String) at ./error.jl:33",
      " [2] checkvalid at /home/pedro/.julia/packages/HDF5/DktP4/src/HDF5.jl:772 [inlined]",
      " [3] dataspace at /home/pedro/.julia/packages/HDF5/DktP4/src/HDF5.jl:1205 [inlined]",
      " [4] hyperslab(::HDF5.HDF5Dataset, ::Int64, ::Vararg{Int64,N} where N) at /home/pedro/.julia/packages/HDF5/DktP4/src/HDF5.jl:1848",
      " [5] setindex!(::JLD.JldDataset, ::Array{Float64,2}, ::Int64, ::Int64) at /home/pedro/.julia/packages/JLD/1BoSz/src/JLD.jl:741",
      " [6] setindex!(::JLD.JldDataset, ::Float64, ::Int64, ::Int64) at /home/pedro/.julia/packages/JLD/1BoSz/src/JLD.jl:771",
      " [7] top-level scope at In[42]:1"
     ]
    }
   ],
   "source": [
    "# alterar um valor no arquivo\n",
    "jldopen(\"arquivo_avancado.jld\", \"r+\")[\"Matriz\"][1,1] = 0.0;"
   ]
  },
  {
   "cell_type": "code",
   "execution_count": 43,
   "metadata": {},
   "outputs": [
    {
     "data": {
      "text/plain": [
       "0.0"
      ]
     },
     "execution_count": 43,
     "metadata": {},
     "output_type": "execute_result"
    }
   ],
   "source": [
    "# por algum motivo, a primeira vez dá errado...\n",
    "jldopen(\"arquivo_avancado.jld\", \"r+\")[\"Matriz\"][1,1] = 0.0"
   ]
  },
  {
   "cell_type": "code",
   "execution_count": 44,
   "metadata": {},
   "outputs": [
    {
     "data": {
      "text/plain": [
       "0.0"
      ]
     },
     "execution_count": 44,
     "metadata": {},
     "output_type": "execute_result"
    }
   ],
   "source": [
    "# testar mudança\n",
    "read(jldopen(\"arquivo_avancado.jld\", \"r+\")[\"Matriz\"])[1,1]"
   ]
  },
  {
   "cell_type": "code",
   "execution_count": 45,
   "metadata": {},
   "outputs": [],
   "source": [
    "# gravar uma nova key ao arquivo\n",
    "write(jldopen(\"arquivo_avancado.jld\", \"r+\"), \"Key_testes\",\"so testes\")"
   ]
  },
  {
   "cell_type": "code",
   "execution_count": 46,
   "metadata": {},
   "outputs": [
    {
     "data": {
      "text/plain": [
       "false"
      ]
     },
     "execution_count": 46,
     "metadata": {},
     "output_type": "execute_result"
    }
   ],
   "source": [
    "# remover uma key e seus valores\n",
    "delete!(jldopen(\"arquivo_avancado.jld\", \"r+\"), \"nome\")"
   ]
  },
  {
   "cell_type": "code",
   "execution_count": 47,
   "metadata": {
    "scrolled": false
   },
   "outputs": [
    {
     "data": {
      "text/plain": [
       "Dict{String,Any} with 6 entries:\n",
       "  \"amostra_metal\" => Amostra_obj(\"metal\", 0.1, 0.1, 0.15)\n",
       "  \"função\"        => \"x*sind(x)\"\n",
       "  \"tipo_amostra\"  => Amostra_obj\n",
       "  \"objeto1\"       => Amostra_obj(\"isopor\", 0.001, 0.1, 0.0001)\n",
       "  \"Key_testes\"    => \"so testes\"\n",
       "  \"Matriz\"        => [0.0 0.279774 … 0.247007 0.340746; 0.986425 0.535825 … 0.1…"
      ]
     },
     "execution_count": 47,
     "metadata": {},
     "output_type": "execute_result"
    }
   ],
   "source": [
    "# verificar a nova key e key \"nome\" deletada\n",
    "read(jldopen(\"arquivo_avancado.jld\", \"r+\"))"
   ]
  },
  {
   "cell_type": "markdown",
   "metadata": {},
   "source": [
    "**Filtragem de dados**\n",
    "\n",
    "\n",
    "\n",
    "A função `filter()` permite filtrar. Sintaxe:\n",
    "```julia\n",
    "filter(dic -> dic[1] == \"nome_key\", read(nome_arquivo_dados)) # filtrar por key de dicionário\n",
    "filter((valor) -> valor operador_logico valor , read(nome_arquivo_dados)) # filtrar dados em uma key\n",
    "```\n",
    "\n",
    "*List Comprehension*\n",
    "\n",
    "Sintaxe:\n",
    "\n",
    "```julia\n",
    "read(nome_arquivo_dados)[\"nome_key\"][read(nome_arquivo_dados)[\"nome_key\"].> valor]\n",
    "```"
   ]
  },
  {
   "cell_type": "code",
   "execution_count": 48,
   "metadata": {},
   "outputs": [
    {
     "data": {
      "text/plain": [
       "Dict{String,Any} with 6 entries:\n",
       "  \"amostra_metal\" => Amostra_obj(\"metal\", 0.1, 0.1, 0.15)\n",
       "  \"função\"        => \"x*sind(x)\"\n",
       "  \"tipo_amostra\"  => Amostra_obj\n",
       "  \"objeto1\"       => Amostra_obj(\"isopor\", 0.001, 0.1, 0.0001)\n",
       "  \"Key_testes\"    => \"so testes\"\n",
       "  \"Matriz\"        => [0.0 0.279774 … 0.247007 0.340746; 0.986425 0.535825 … 0.1…"
      ]
     },
     "execution_count": 48,
     "metadata": {},
     "output_type": "execute_result"
    }
   ],
   "source": [
    "# ler os dados do arquivo e atribuir à variável dados_arquivo1\n",
    "dados_arquivo1 = load(\"arquivo_avancado.jld\")"
   ]
  },
  {
   "cell_type": "code",
   "execution_count": 49,
   "metadata": {},
   "outputs": [
    {
     "data": {
      "text/plain": [
       "6×6 Array{Float64,2}:\n",
       " 0.0       0.279774  0.981016   0.155445   0.247007  0.340746 \n",
       " 0.986425  0.535825  0.0324471  0.149021   0.156872  0.474952 \n",
       " 0.734457  0.690166  0.238394   0.454612   0.822216  0.818037 \n",
       " 0.488454  0.550107  0.416173   0.798287   0.65224   0.877995 \n",
       " 0.300138  0.156174  0.372895   0.793003   0.501492  0.0725748\n",
       " 0.558909  0.03806   0.995426   0.0921956  0.366414  0.179316 "
      ]
     },
     "execution_count": 49,
     "metadata": {},
     "output_type": "execute_result"
    }
   ],
   "source": [
    "dados_arquivo1[\"Matriz\"]"
   ]
  },
  {
   "cell_type": "code",
   "execution_count": 50,
   "metadata": {},
   "outputs": [
    {
     "data": {
      "text/plain": [
       "3-element Array{Float64,1}:\n",
       " 0.9864245600740169\n",
       " 0.9810159813535617\n",
       " 0.9954260420189576"
      ]
     },
     "execution_count": 50,
     "metadata": {},
     "output_type": "execute_result"
    }
   ],
   "source": [
    "dados_arquivo1[\"Matriz\"][dados_arquivo1[\"Matriz\"] .> 0.9]"
   ]
  },
  {
   "cell_type": "code",
   "execution_count": 51,
   "metadata": {},
   "outputs": [
    {
     "data": {
      "text/plain": [
       "Julia data file version 0.1.2: arquivo_avancado.jld"
      ]
     },
     "execution_count": 51,
     "metadata": {},
     "output_type": "execute_result"
    }
   ],
   "source": [
    "# Este caso é melhor que load pois permite alterar o conteudo caso seja necessario\n",
    "dados_arquivo2 = jldopen(\"arquivo_avancado.jld\", \"r+\") "
   ]
  },
  {
   "cell_type": "code",
   "execution_count": 52,
   "metadata": {
    "scrolled": true
   },
   "outputs": [
    {
     "data": {
      "text/plain": [
       "Dict{String,Any} with 6 entries:\n",
       "  \"amostra_metal\" => Amostra_obj(\"metal\", 0.1, 0.1, 0.15)\n",
       "  \"função\"        => \"x*sind(x)\"\n",
       "  \"tipo_amostra\"  => Amostra_obj\n",
       "  \"objeto1\"       => Amostra_obj(\"isopor\", 0.001, 0.1, 0.0001)\n",
       "  \"Key_testes\"    => \"so testes\"\n",
       "  \"Matriz\"        => [0.0 0.279774 … 0.247007 0.340746; 0.986425 0.535825 … 0.1…"
      ]
     },
     "execution_count": 52,
     "metadata": {},
     "output_type": "execute_result"
    }
   ],
   "source": [
    "read(dados_arquivo2)"
   ]
  },
  {
   "cell_type": "code",
   "execution_count": 53,
   "metadata": {
    "scrolled": true
   },
   "outputs": [
    {
     "data": {
      "text/plain": [
       "Dict{String,Any} with 1 entry:\n",
       "  \"Matriz\" => [0.0 0.279774 … 0.247007 0.340746; 0.986425 0.535825 … 0.156872 0…"
      ]
     },
     "execution_count": 53,
     "metadata": {},
     "output_type": "execute_result"
    }
   ],
   "source": [
    "filter(dic -> dic[1] == \"Matriz\", read(dados_arquivo2)) # filtrar baseado na key"
   ]
  },
  {
   "cell_type": "code",
   "execution_count": 54,
   "metadata": {
    "scrolled": false
   },
   "outputs": [
    {
     "data": {
      "text/plain": [
       "3-element Array{Float64,1}:\n",
       " 0.9864245600740169\n",
       " 0.9810159813535617\n",
       " 0.9954260420189576"
      ]
     },
     "execution_count": 54,
     "metadata": {},
     "output_type": "execute_result"
    }
   ],
   "source": [
    "filter((valor) -> valor > 0.9, read(dados_arquivo2)[\"Matriz\"])"
   ]
  },
  {
   "cell_type": "code",
   "execution_count": 55,
   "metadata": {},
   "outputs": [
    {
     "data": {
      "text/plain": [
       "3-element Array{Float64,1}:\n",
       " 0.8222158243804123\n",
       " 0.8180371565532556\n",
       " 0.877994706538332 "
      ]
     },
     "execution_count": 55,
     "metadata": {},
     "output_type": "execute_result"
    }
   ],
   "source": [
    "# filtrar valores da matriz maiores que 0.8 e menores que 0.9\n",
    "filter((valor) -> (valor > 0.8) & (valor < 0.9) , read(dados_arquivo2)[\"Matriz\"])"
   ]
  },
  {
   "cell_type": "code",
   "execution_count": 56,
   "metadata": {},
   "outputs": [
    {
     "data": {
      "text/plain": [
       "3-element Array{Float64,1}:\n",
       " 0.9864245600740169\n",
       " 0.9810159813535617\n",
       " 0.9954260420189576"
      ]
     },
     "execution_count": 56,
     "metadata": {},
     "output_type": "execute_result"
    }
   ],
   "source": [
    "read(dados_arquivo2)[\"Matriz\"][read(dados_arquivo2)[\"Matriz\"].> 0.9]"
   ]
  },
  {
   "cell_type": "code",
   "execution_count": 57,
   "metadata": {},
   "outputs": [
    {
     "data": {
      "text/plain": [
       "3-element Array{Float64,1}:\n",
       " 0.8222158243804123\n",
       " 0.8180371565532556\n",
       " 0.877994706538332 "
      ]
     },
     "execution_count": 57,
     "metadata": {},
     "output_type": "execute_result"
    }
   ],
   "source": [
    "# filtrar valores da matriz maiores que 0.8 e menores que 0.9\n",
    "read(dados_arquivo2)[\"Matriz\"][map(x -> x < 0.9 && x > 0.8, read(dados_arquivo2)[\"Matriz\"])]"
   ]
  },
  {
   "cell_type": "markdown",
   "metadata": {},
   "source": [
    "**Comparação entre Keys**\n",
    "\n",
    "O comandos `setdiff` retorna a diferença entre os dois arquivos na forma de um dicionáro que contém os elementos que se encontram no primeiro arquivo mas não no segundo -  a ordem dos arquivos é importente. O comando `intersect` retorna um diconário que contém todos os elementos que pertence a ambos os arquivos."
   ]
  },
  {
   "cell_type": "code",
   "execution_count": 58,
   "metadata": {},
   "outputs": [
    {
     "data": {
      "text/plain": [
       "Dict{String,Any} with 3 entries:\n",
       "  \"1\"          => 50.05\n",
       "  \"2\"          => [1, 2, 3]\n",
       "  \"Key_testes\" => \"so testes\""
      ]
     },
     "execution_count": 58,
     "metadata": {},
     "output_type": "execute_result"
    }
   ],
   "source": [
    "# criação de um novo arquivo\n",
    "save(\"arquivo_avancado_novo.jld\", \"1\",50.05, \"2\", [1,2,3], \"Key_testes\", \"so testes\")\n",
    "dados_arquivo_novo = load(\"arquivo_avancado_novo.jld\")"
   ]
  },
  {
   "cell_type": "code",
   "execution_count": 59,
   "metadata": {},
   "outputs": [
    {
     "data": {
      "text/plain": [
       "Dict{String,Any} with 6 entries:\n",
       "  \"amostra_metal\" => Amostra_obj(\"metal\", 0.1, 0.1, 0.15)\n",
       "  \"função\"        => \"x*sind(x)\"\n",
       "  \"tipo_amostra\"  => Amostra_obj\n",
       "  \"objeto1\"       => Amostra_obj(\"isopor\", 0.001, 0.1, 0.0001)\n",
       "  \"Key_testes\"    => \"so testes\"\n",
       "  \"Matriz\"        => [0.0 0.279774 … 0.247007 0.340746; 0.986425 0.535825 … 0.1…"
      ]
     },
     "execution_count": 59,
     "metadata": {},
     "output_type": "execute_result"
    }
   ],
   "source": [
    "dados_arquivo2 = load(\"arquivo_avancado.jld\")"
   ]
  },
  {
   "cell_type": "code",
   "execution_count": 60,
   "metadata": {
    "scrolled": true
   },
   "outputs": [
    {
     "data": {
      "text/plain": [
       "5-element Array{Pair{String,Any},1}:\n",
       " \"amostra_metal\" => Amostra_obj(\"metal\", 0.1, 0.1, 0.15)                                                                                                                                                                                                                                                                                   \n",
       "        \"função\" => \"x*sind(x)\"                                                                                                                                                                                                                                                                                                            \n",
       "  \"tipo_amostra\" => Amostra_obj                                                                                                                                                                                                                                                                                                            \n",
       "       \"objeto1\" => Amostra_obj(\"isopor\", 0.001, 0.1, 0.0001)                                                                                                                                                                                                                                                                              \n",
       "        \"Matriz\" => [0.0 0.2797736264237276 … 0.24700718840732616 0.3407461400587164; 0.9864245600740169 0.5358253509420672 … 0.15687151864596172 0.47495157697000434; … ; 0.3001378495996734 0.1561735561430302 … 0.5014915776434037 0.07257475331703356; 0.5589086747571583 0.038060037210006836 … 0.3664136747749591 0.1793161320812966]"
      ]
     },
     "execution_count": 60,
     "metadata": {},
     "output_type": "execute_result"
    }
   ],
   "source": [
    "# listar as keys diferentes entre o dados_arquivo2 e dados_arquivo_novo\n",
    "setdiff(dados_arquivo2, dados_arquivo_novo)"
   ]
  },
  {
   "cell_type": "code",
   "execution_count": 61,
   "metadata": {},
   "outputs": [
    {
     "data": {
      "text/plain": [
       "2-element Array{Pair{String,Any},1}:\n",
       " \"1\" => 50.05    \n",
       " \"2\" => [1, 2, 3]"
      ]
     },
     "execution_count": 61,
     "metadata": {},
     "output_type": "execute_result"
    }
   ],
   "source": [
    "# listar as keys diferentes entre dados_arquivo_novo e dados_arquivo2\n",
    "setdiff(dados_arquivo_novo, dados_arquivo2)"
   ]
  },
  {
   "cell_type": "code",
   "execution_count": 62,
   "metadata": {},
   "outputs": [
    {
     "data": {
      "text/plain": [
       "1-element Array{Pair{String,Any},1}:\n",
       " \"Key_testes\" => \"so testes\""
      ]
     },
     "execution_count": 62,
     "metadata": {},
     "output_type": "execute_result"
    }
   ],
   "source": [
    "# elementos em comum entre os arquivos.\n",
    "intersect(dados_arquivo2, dados_arquivo_novo)"
   ]
  },
  {
   "cell_type": "markdown",
   "metadata": {},
   "source": [
    "**Map, MapReduce, Sum, Prod e List Comprehensions**"
   ]
  },
  {
   "cell_type": "code",
   "execution_count": 63,
   "metadata": {
    "scrolled": false
   },
   "outputs": [
    {
     "data": {
      "text/plain": [
       "Dict{String,Any} with 6 entries:\n",
       "  \"amostra_metal\" => Amostra_obj(\"metal\", 0.1, 0.1, 0.15)\n",
       "  \"função\"        => \"x*sind(x)\"\n",
       "  \"tipo_amostra\"  => Amostra_obj\n",
       "  \"objeto1\"       => Amostra_obj(\"isopor\", 0.001, 0.1, 0.0001)\n",
       "  \"Key_testes\"    => \"so testes\"\n",
       "  \"Matriz\"        => [0.0 0.279774 … 0.247007 0.340746; 0.986425 0.535825 … 0.1…"
      ]
     },
     "execution_count": 63,
     "metadata": {},
     "output_type": "execute_result"
    }
   ],
   "source": [
    "dados_arquivo3 = load(\"arquivo_avancado.jld\")"
   ]
  },
  {
   "cell_type": "code",
   "execution_count": 64,
   "metadata": {
    "scrolled": true
   },
   "outputs": [
    {
     "data": {
      "text/plain": [
       "6×6 Array{Float64,2}:\n",
       " 0.0        0.0772562   0.815286    0.0240659   0.060394   0.113874  \n",
       " 0.822736   0.273566    0.00105263  0.022125    0.0245079  0.217193  \n",
       " 0.492222   0.439405    0.056295    0.199626    0.602401   0.597008  \n",
       " 0.229213   0.287584    0.168244    0.571702    0.395889   0.675582  \n",
       " 0.0887363  0.0242912   0.13585     0.564986    0.241084   0.00526247\n",
       " 0.296368   0.00144822  0.835153    0.00848799  0.131275   0.0319822 "
      ]
     },
     "execution_count": 64,
     "metadata": {},
     "output_type": "execute_result"
    }
   ],
   "source": [
    "# mapeamento de uma função anonima aplicado a matriz do arquivo\n",
    "map(x -> x*sin(x) , dados_arquivo3[\"Matriz\"])"
   ]
  },
  {
   "cell_type": "code",
   "execution_count": 65,
   "metadata": {
    "scrolled": true
   },
   "outputs": [
    {
     "data": {
      "text/plain": [
       "9.532151089932789"
      ]
     },
     "execution_count": 65,
     "metadata": {},
     "output_type": "execute_result"
    }
   ],
   "source": [
    "mapreduce(x -> x*sin(x) , + , dados_arquivo3[\"Matriz\"])"
   ]
  },
  {
   "cell_type": "code",
   "execution_count": 66,
   "metadata": {
    "scrolled": true
   },
   "outputs": [
    {
     "data": {
      "text/plain": [
       "16.307262156668536"
      ]
     },
     "execution_count": 66,
     "metadata": {},
     "output_type": "execute_result"
    }
   ],
   "source": [
    "sum(dados_arquivo3[\"Matriz\"])"
   ]
  },
  {
   "cell_type": "code",
   "execution_count": 67,
   "metadata": {},
   "outputs": [
    {
     "data": {
      "text/plain": [
       "0.0"
      ]
     },
     "execution_count": 67,
     "metadata": {},
     "output_type": "execute_result"
    }
   ],
   "source": [
    "prod(dados_arquivo3[\"Matriz\"])"
   ]
  },
  {
   "cell_type": "code",
   "execution_count": 68,
   "metadata": {
    "scrolled": false
   },
   "outputs": [
    {
     "data": {
      "text/plain": [
       "6×6 Array{Float64,2}:\n",
       " 0.0        0.0772562   0.815286    0.0240659   0.060394   0.113874  \n",
       " 0.822736   0.273566    0.00105263  0.022125    0.0245079  0.217193  \n",
       " 0.492222   0.439405    0.056295    0.199626    0.602401   0.597008  \n",
       " 0.229213   0.287584    0.168244    0.571702    0.395889   0.675582  \n",
       " 0.0887363  0.0242912   0.13585     0.564986    0.241084   0.00526247\n",
       " 0.296368   0.00144822  0.835153    0.00848799  0.131275   0.0319822 "
      ]
     },
     "execution_count": 68,
     "metadata": {},
     "output_type": "execute_result"
    }
   ],
   "source": [
    "[x*sin(x) for x = dados_arquivo3[\"Matriz\"]]"
   ]
  },
  {
   "cell_type": "code",
   "execution_count": null,
   "metadata": {},
   "outputs": [],
   "source": []
  }
 ],
 "metadata": {
  "anaconda-cloud": {},
  "kernelspec": {
   "display_name": "Julia 1.2.0",
   "language": "julia",
   "name": "julia-1.2"
  },
  "language_info": {
   "file_extension": ".jl",
   "mimetype": "application/julia",
   "name": "julia",
   "version": "1.2.0"
  },
  "latex_envs": {
   "LaTeX_envs_menu_present": true,
   "autocomplete": true,
   "bibliofile": "biblio.bib",
   "cite_by": "apalike",
   "current_citInitial": 1,
   "eqLabelWithNumbers": true,
   "eqNumInitial": 1,
   "hotkeys": {
    "equation": "Ctrl-E",
    "itemize": "Ctrl-I"
   },
   "labels_anchors": false,
   "latex_user_defs": false,
   "report_style_numbering": false,
   "user_envs_cfg": false
  }
 },
 "nbformat": 4,
 "nbformat_minor": 1
}
