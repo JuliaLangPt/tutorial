{
 "cells": [
  {
   "cell_type": "markdown",
   "metadata": {},
   "source": [
    "# CALCULO NUMÉRICO"
   ]
  },
  {
   "cell_type": "markdown",
   "metadata": {
    "collapsed": false
   },
   "source": [
    "## ZEROS DE FUNÇÕES"
   ]
  },
  {
   "cell_type": "markdown",
   "metadata": {},
   "source": [
    "### MÉTODO DA BISSEÇÃO"
   ]
  },
  {
   "cell_type": "code",
   "execution_count": 1,
   "metadata": {
    "collapsed": false,
    "scrolled": true
   },
   "outputs": [
    {
     "data": {
      "text/plain": [
       "metbissec (generic function with 2 methods)"
      ]
     },
     "execution_count": 1,
     "metadata": {},
     "output_type": "execute_result"
    }
   ],
   "source": [
    "\"\"\"\n",
    "Metodo da Bisseccao\n",
    "\n",
    "Calcula uma aproximação para uma raiz da função de f(x)\n",
    "\n",
    "Entre os intervalo [ao,bo] e a tolerencia de erro daddo por tol.\n",
    "\n",
    "ex metbissec(\"x^2 - 2*x - 8\",-5,5,0.000001)\n",
    "\n",
    "adaptado de http://goo.gl/pQNh6z \n",
    "\"\"\"\n",
    "\n",
    "function metbissec(funcao, a, b, tol = 0.00001)\n",
    "    \n",
    "    println(\"f(x) = \",funcao)\n",
    "    println()\n",
    "     \n",
    "    @eval g(x) = $(parse(funcao)) # transforma a string em uma formula manipulável\n",
    "    \n",
    "    x = a:0.1:b\n",
    "    Winston.plot(x,g(x),x,g(x)*0)\n",
    "    display(grid())\n",
    "    iteracao = 0\n",
    "    if g(a)*g(b) > 0 \n",
    "        println(\"Não há raiz no intervalo\")\n",
    "        \n",
    "    else\n",
    "        x_medio = (a + b)/2\n",
    "        err = abs(g(x_medio))\n",
    "        \n",
    "        while err > tol\n",
    "            println(\"interação: \", iteracao , \" : \", x_medio, \", valor função: \",g(x_medio))\n",
    "            \n",
    "            if g(a)*g(x_medio) < 0 \n",
    "                b = x_medio\n",
    "            else\n",
    "                a = x_medio\n",
    "            end\n",
    "            \n",
    "            x_medio = (a + b)/2\n",
    "            err = abs(g(x_medio))\n",
    "            iteracao = iteracao + 1\n",
    "            \n",
    "        end\n",
    "        \n",
    "        println(\"interação: \", iteracao , \" : \", x_medio, \", valor função: \",g(x_medio))\n",
    "        return x_medio\n",
    "        \n",
    "    end     \n",
    "    \n",
    "    \n",
    "end"
   ]
  },
  {
   "cell_type": "code",
   "execution_count": 2,
   "metadata": {
    "collapsed": false,
    "scrolled": false
   },
   "outputs": [
    {
     "data": {
      "image/png": "[encoded data removed]",
      "text/plain": [
       "Winston.FramedPlot(...)"
      ]
     },
     "metadata": {},
     "output_type": "display_data"
    },
    {
     "name": "stdout",
     "output_type": "stream",
     "text": [
      "f(x) = x.^2 - 4\n",
      "\n"
     ]
    },
    {
     "name": "stderr",
     "output_type": "stream",
     "text": [
      "\n",
      "WARNING: deprecated syntax \"AbstractVecOrMat{T} (\" at /home/jmarcellopereira/.julia/v0.4/Winston/src/Winston.jl:96.\n",
      "Use \"AbstractVecOrMat{T}(\" instead.\n",
      "WARNING: requiring \"Dates\" in module \"Winston\" did not define a corresponding module.\n",
      "WARNING: module Winston should explicitly import * from Base\n"
     ]
    },
    {
     "name": "stdout",
     "output_type": "stream",
     "text": [
      "interação: 0 : 2.25, valor função: 1.0625\n",
      "interação: 1 : 1.625, valor função: -1.359375\n",
      "interação: 2 : 1.9375, valor função: -0.24609375\n",
      "interação: 3 : 2.09375, valor função: 0.3837890625\n",
      "interação: 4 : 2.015625, valor função: 0.062744140625\n",
      "interação: 5 : 1.9765625, valor função: -0.09320068359375\n",
      "interação: 6 : 1.99609375, valor função: -0.0156097412109375\n",
      "interação: 7 : 2.005859375, valor função: 0.023471832275390625\n",
      "interação: 8 : 2.0009765625, valor função: 0.003907203674316406\n",
      "interação: 9 : 1.99853515625, valor função: -0.005857229232788086\n",
      "interação: 10 : 1.999755859375, valor função: -0.0009765028953552246\n"
     ]
    },
    {
     "data": {
      "text/plain": [
       "1.999755859375"
      ]
     },
     "execution_count": 2,
     "metadata": {},
     "output_type": "execute_result"
    }
   ],
   "source": [
    "using Winston\n",
    "\n",
    "metbissec(\"x.^2 - 4\",1.0,3.5,0.001)"
   ]
  },
  {
   "cell_type": "code",
   "execution_count": 3,
   "metadata": {
    "collapsed": false
   },
   "outputs": [
    {
     "name": "stdout",
     "output_type": "stream",
     "text": [
      "search: metbissec\n",
      "\n"
     ]
    },
    {
     "data": {
      "text/latex": [
       "Metodo da Bisseccao\n",
       "Calcula uma aproximação para uma raiz da função de f(x)\n",
       "Entre os intervalo [ao,bo] e a tolerencia de erro daddo por tol.\n",
       "ex metbissec(\"x\\^{}2 - 2*x - 8\",-5,5,0.000001)\n",
       "adaptado de http://goo.gl/pQNh6z \n"
      ],
      "text/markdown": [
       "Metodo da Bisseccao\n",
       "\n",
       "Calcula uma aproximação para uma raiz da função de f(x)\n",
       "\n",
       "Entre os intervalo [ao,bo] e a tolerencia de erro daddo por tol.\n",
       "\n",
       "ex metbissec(\"x^2 - 2*x - 8\",-5,5,0.000001)\n",
       "\n",
       "adaptado de http://goo.gl/pQNh6z \n"
      ],
      "text/plain": [
       "Metodo da Bisseccao\n",
       "\n",
       "Calcula uma aproximação para uma raiz da função de f(x)\n",
       "\n",
       "Entre os intervalo [ao,bo] e a tolerencia de erro daddo por tol.\n",
       "\n",
       "ex metbissec(\"x^2 - 2*x - 8\",-5,5,0.000001)\n",
       "\n",
       "adaptado de http://goo.gl/pQNh6z \n"
      ]
     },
     "execution_count": 3,
     "metadata": {},
     "output_type": "execute_result"
    }
   ],
   "source": [
    "? metbissec"
   ]
  },
  {
   "cell_type": "markdown",
   "metadata": {},
   "source": [
    "### MÉTODO DA FALSA POSIÇÃO"
   ]
  },
  {
   "cell_type": "markdown",
   "metadata": {},
   "source": [
    "### MÉTODO INTERATIVO LINEAR"
   ]
  },
  {
   "cell_type": "markdown",
   "metadata": {},
   "source": [
    "### MÉTODO DE NEWTON – RAPHSON"
   ]
  },
  {
   "cell_type": "markdown",
   "metadata": {},
   "source": [
    "### MÉTODO DA SECANTE"
   ]
  },
  {
   "cell_type": "markdown",
   "metadata": {},
   "source": [
    "## MÉTODOS DE RESOLUÇÃO DE SISTEMAS LINEARES"
   ]
  },
  {
   "cell_type": "markdown",
   "metadata": {},
   "source": [
    "### SISTEMA DE EQUAÇOES LINEARES "
   ]
  },
  {
   "cell_type": "markdown",
   "metadata": {},
   "source": [
    " ###  MÉTODOS DIRETOS"
   ]
  },
  {
   "cell_type": "markdown",
   "metadata": {},
   "source": [
    "#### MÉTODO DE ELIMINAÇÃO DE GAUSS SEM PIVOTAMENTO"
   ]
  },
  {
   "cell_type": "markdown",
   "metadata": {},
   "source": [
    "#### MÉTODO DE ELIMINAÇÃO DE GAUSS COM PIVOTAMENTO TOTAL (LINHAS E COLUNAS)"
   ]
  },
  {
   "cell_type": "markdown",
   "metadata": {},
   "source": [
    "#### FATORAÇÃO LU"
   ]
  },
  {
   "cell_type": "markdown",
   "metadata": {},
   "source": [
    "###  MÉTODOS INTERATIVOS"
   ]
  },
  {
   "cell_type": "markdown",
   "metadata": {},
   "source": [
    "#### MÉTODO ITERATIVO DE GAUSS – JACOBI "
   ]
  },
  {
   "cell_type": "markdown",
   "metadata": {},
   "source": [
    "#### MÉTODO ITERATIVO DE GAUSS – SEIDEL "
   ]
  },
  {
   "cell_type": "markdown",
   "metadata": {},
   "source": [
    "### SISTEMA DE EQUAÇOES NÃO LINEARES"
   ]
  },
  {
   "cell_type": "markdown",
   "metadata": {},
   "source": []
  },
  {
   "cell_type": "markdown",
   "metadata": {
    "collapsed": false
   },
   "source": [
    "##  INTERPOLAÇÃO"
   ]
  },
  {
   "cell_type": "markdown",
   "metadata": {
    "collapsed": true
   },
   "source": [
    "###  INTERPOLAÇÃO POLINOMIAL: FORMA DE LAGRANGE PARA O POLINÔMIO INTERPOLADOR"
   ]
  },
  {
   "cell_type": "markdown",
   "metadata": {},
   "source": [
    "###  INTERPOLAÇÃO POLINOMIAL: FORMA DE NEWTON PARA O POLINÔMIO INTERPOLADO"
   ]
  },
  {
   "cell_type": "markdown",
   "metadata": {},
   "source": [
    "###  INTERPOLAÇÃO POLINOMIAL: FORMA DE NEWTON-GREGORY PARA O POLINÔMIO INTERPOLADOR"
   ]
  },
  {
   "cell_type": "markdown",
   "metadata": {},
   "source": [
    "###  FUNÇÕES SPLINE (LINEAR) EM INTERPOLAÇÃO"
   ]
  },
  {
   "cell_type": "markdown",
   "metadata": {},
   "source": [
    "##  INTEGRAÇÃO NUMERICA"
   ]
  },
  {
   "cell_type": "markdown",
   "metadata": {},
   "source": [
    "###  REGRA DOS TRAPÉZIOS"
   ]
  },
  {
   "cell_type": "markdown",
   "metadata": {},
   "source": [
    "###  REGRA DE SIMPSON "
   ]
  },
  {
   "cell_type": "markdown",
   "metadata": {},
   "source": [
    "###  FÓRMULA DE NEWTON-COTES "
   ]
  },
  {
   "cell_type": "markdown",
   "metadata": {},
   "source": [
    "### MÉTODO DE ROMBERG"
   ]
  },
  {
   "cell_type": "markdown",
   "metadata": {},
   "source": [
    "##  SOLUÇÕES NUMÉRICAS DE EQUAÇÕES DIFERENCIAIS ORDINÁRIAS"
   ]
  },
  {
   "cell_type": "markdown",
   "metadata": {},
   "source": [
    "### MÉTODOS DE PASSO SIMPLES "
   ]
  },
  {
   "cell_type": "markdown",
   "metadata": {},
   "source": [
    "#### MÉTODO DE SÉRIE DE TAYLOR "
   ]
  },
  {
   "cell_type": "markdown",
   "metadata": {},
   "source": [
    "#### MÉTDO DE EULER "
   ]
  },
  {
   "cell_type": "markdown",
   "metadata": {},
   "source": [
    "#### MÉTODO DE EULER MODIFICADO "
   ]
  },
  {
   "cell_type": "markdown",
   "metadata": {},
   "source": [
    "#### MÉTODO DE RUNGE – KUTTA "
   ]
  },
  {
   "cell_type": "markdown",
   "metadata": {},
   "source": [
    "#### MÉTODOS DE PREVISÃO – CORREÇÃO "
   ]
  },
  {
   "cell_type": "code",
   "execution_count": null,
   "metadata": {
    "collapsed": true
   },
   "outputs": [],
   "source": []
  }
 ],
 "metadata": {
  "anaconda-cloud": {},
  "kernelspec": {
   "display_name": "Julia 0.5.0",
   "language": "julia",
   "name": "julia-0.5"
  },
  "language_info": {
   "file_extension": ".jl",
   "mimetype": "application/julia",
   "name": "julia",
   "version": "0.5.0"
  }
 },
 "nbformat": 4,
 "nbformat_minor": 0
}
