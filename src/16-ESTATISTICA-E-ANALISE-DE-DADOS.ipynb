{
 "cells": [
  {
   "cell_type": "markdown",
   "metadata": {},
   "source": [
    "# ESTATÍSTICA E ANÁLISE DE DADOS#"
   ]
  },
  {
   "cell_type": "markdown",
   "metadata": {},
   "source": [
    "## ESTATÍSTICA DESCRITIVA##"
   ]
  },
  {
   "cell_type": "code",
   "execution_count": 15,
   "metadata": {
    "collapsed": false
   },
   "outputs": [],
   "source": [
    "dados_alunos = 1:14\n",
    "dados_altura_alunos = [1.60, 1.80, 1.72, 1.55, 1.65, 1.92, 1.70, 1.57, 1.63, 1.65, 1.64, 1.74, 1.72, 1.68];"
   ]
  },
  {
   "cell_type": "code",
   "execution_count": 16,
   "metadata": {
    "collapsed": false,
    "scrolled": true
   },
   "outputs": [
    {
     "data": {
      "text/plain": [
       "14-element Array{Float64,1}:\n",
       " 1.55\n",
       " 1.57\n",
       " 1.6 \n",
       " 1.63\n",
       " 1.64\n",
       " 1.65\n",
       " 1.65\n",
       " 1.68\n",
       " 1.7 \n",
       " 1.72\n",
       " 1.72\n",
       " 1.74\n",
       " 1.8 \n",
       " 1.92"
      ]
     },
     "execution_count": 16,
     "metadata": {},
     "output_type": "execute_result"
    }
   ],
   "source": [
    "sort(dados_altura_alunos)"
   ]
  },
  {
   "cell_type": "code",
   "execution_count": 23,
   "metadata": {
    "collapsed": false
   },
   "outputs": [
    {
     "data": {
      "text/html": [
       "<img src=\"data:image/png;base64,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\" />"
      ]
     },
     "execution_count": 23,
     "metadata": {},
     "output_type": "execute_result"
    }
   ],
   "source": [
    "using Plots\n",
    "pyplot()\n",
    "histogram(dados_altura_alunos)"
   ]
  },
  {
   "cell_type": "markdown",
   "metadata": {},
   "source": [
    "** Média aritimétrica **"
   ]
  },
  {
   "cell_type": "code",
   "execution_count": 50,
   "metadata": {
    "collapsed": false
   },
   "outputs": [
    {
     "data": {
      "text/plain": [
       "1.6835714285714283"
      ]
     },
     "execution_count": 50,
     "metadata": {},
     "output_type": "execute_result"
    }
   ],
   "source": [
    "mean(dados_altura_alunos)"
   ]
  },
  {
   "cell_type": "markdown",
   "metadata": {},
   "source": [
    "** Mediana **"
   ]
  },
  {
   "cell_type": "code",
   "execution_count": 91,
   "metadata": {
    "collapsed": false,
    "scrolled": true
   },
   "outputs": [
    {
     "data": {
      "text/plain": [
       "1.665"
      ]
     },
     "execution_count": 91,
     "metadata": {},
     "output_type": "execute_result"
    }
   ],
   "source": [
    "median(dados_altura_alunos)"
   ]
  },
  {
   "cell_type": "markdown",
   "metadata": {},
   "source": [
    "** Variancia **"
   ]
  },
  {
   "cell_type": "code",
   "execution_count": 92,
   "metadata": {
    "collapsed": false
   },
   "outputs": [
    {
     "data": {
      "text/plain": [
       "0.009255494505494502"
      ]
     },
     "execution_count": 92,
     "metadata": {},
     "output_type": "execute_result"
    }
   ],
   "source": [
    "var(dados_altura_alunos)"
   ]
  },
  {
   "cell_type": "markdown",
   "metadata": {},
   "source": [
    "** Desvio padrão **"
   ]
  },
  {
   "cell_type": "code",
   "execution_count": 93,
   "metadata": {
    "collapsed": false,
    "scrolled": true
   },
   "outputs": [
    {
     "data": {
      "text/plain": [
       "0.09620548064166876"
      ]
     },
     "execution_count": 93,
     "metadata": {},
     "output_type": "execute_result"
    }
   ],
   "source": [
    "std(dados_altura_alunos)"
   ]
  },
  {
   "cell_type": "markdown",
   "metadata": {},
   "source": [
    "## ESTATÍSTICA MATRICIAL"
   ]
  },
  {
   "cell_type": "code",
   "execution_count": 25,
   "metadata": {
    "collapsed": false
   },
   "outputs": [
    {
     "data": {
      "text/plain": [
       "3×3 Array{Float64,2}:\n",
       " 0.26029  0.55794  0.95588\n",
       " 0.35215  0.61938  0.8666 \n",
       " 0.41074  0.65143  0.35906"
      ]
     },
     "execution_count": 25,
     "metadata": {},
     "output_type": "execute_result"
    }
   ],
   "source": [
    "Md = [0.26029   0.55794   0.95588 ; 0.35215   0.61938   0.86660 ;0.41074   0.65143   0.35906]"
   ]
  },
  {
   "cell_type": "code",
   "execution_count": 26,
   "metadata": {
    "collapsed": false
   },
   "outputs": [
    {
     "data": {
      "text/plain": [
       "0.55794"
      ]
     },
     "execution_count": 26,
     "metadata": {},
     "output_type": "execute_result"
    }
   ],
   "source": [
    "# Mediana dos elementos de uma matriz. \n",
    "# Corresponde ao elemento de posição média entre os elementos dos vetores colunas \n",
    "\n",
    "median(Md)"
   ]
  },
  {
   "cell_type": "code",
   "execution_count": 28,
   "metadata": {
    "collapsed": false
   },
   "outputs": [
    {
     "data": {
      "text/plain": [
       "0.35215"
      ]
     },
     "execution_count": 28,
     "metadata": {},
     "output_type": "execute_result"
    }
   ],
   "source": [
    "# Testando se 0.35215 é de fato o valor mediano do vetor coluna [0.26029;   0.35215;   0.41074]\n",
    "\n",
    "median(Md[:, 1])"
   ]
  },
  {
   "cell_type": "code",
   "execution_count": 98,
   "metadata": {
    "collapsed": false
   },
   "outputs": [
    {
     "data": {
      "text/plain": [
       "(\n",
       "3x3 Array{Float64,2}:\n",
       " 0.26029  0.55794  0.95588\n",
       " 0.35215  0.61938  0.8666 \n",
       " 0.41074  0.65143  0.35906,\n",
       "\n",
       "0.5592744444444445)"
      ]
     },
     "execution_count": 98,
     "metadata": {},
     "output_type": "execute_result"
    }
   ],
   "source": [
    "# Media dos valores dos elementos de uma matriz.\n",
    "# Corresponde ao elemento de posição média entre os elementos dos vetores colunas \n",
    "\n",
    "\n",
    "Md,  mean(Md)"
   ]
  },
  {
   "cell_type": "code",
   "execution_count": 99,
   "metadata": {
    "collapsed": false
   },
   "outputs": [
    {
     "data": {
      "text/plain": [
       "(\n",
       "3x3 Array{Float64,2}:\n",
       " 0.26029  0.55794  0.95588\n",
       " 0.35215  0.61938  0.8666 \n",
       " 0.41074  0.65143  0.35906,\n",
       "\n",
       "0.34106)"
      ]
     },
     "execution_count": 99,
     "metadata": {},
     "output_type": "execute_result"
    }
   ],
   "source": [
    "# Testando se 0.34106 é de fato o valor médio do vetor coluna [0.26029;   0.35215;   0.41074]\n",
    "\n",
    "Md,  mean(Md[:, 1])"
   ]
  },
  {
   "cell_type": "code",
   "execution_count": 100,
   "metadata": {
    "collapsed": false
   },
   "outputs": [
    {
     "data": {
      "text/plain": [
       "(\n",
       "3x3 Array{Float64,2}:\n",
       " 0.26029  0.55794  0.95588\n",
       " 0.35215  0.61938  0.8666 \n",
       " 0.41074  0.65143  0.35906,\n",
       "\n",
       "0.2393461424439044)"
      ]
     },
     "execution_count": 100,
     "metadata": {},
     "output_type": "execute_result"
    }
   ],
   "source": [
    "# Desvio padrão dos elementos de uma matriz\n",
    "# Corresponde ao desvio padrão entre os elementos dos vetores colunas\n",
    "# [0.26029;   0.35215;   0.41074] [0.55794;   0.61938;   0.65143],  \n",
    "# [0.95588;   0.86660;   0.35906] e [0.81311;   0.40127;   0.45998]\n",
    "\n",
    "Md,  std(Md)"
   ]
  },
  {
   "cell_type": "code",
   "execution_count": 101,
   "metadata": {
    "collapsed": false
   },
   "outputs": [
    {
     "data": {
      "text/plain": [
       "(\n",
       "3x3 Array{Float64,2}:\n",
       " 0.26029  0.55794  0.95588\n",
       " 0.35215  0.61938  0.8666 \n",
       " 0.41074  0.65143  0.35906,\n",
       "\n",
       "0.95588)"
      ]
     },
     "execution_count": 101,
     "metadata": {},
     "output_type": "execute_result"
    }
   ],
   "source": [
    "# Valor máximo de uma matriz\n",
    "# Corresponde ao maior valor dos elementos dos vetores colunas\n",
    "# [0.26029;   0.35215;   0.41074] [0.55794;   0.61938;   0.65143],  \n",
    "# [0.95588;   0.86660;   0.35906] e [0.81311;   0.40127;   0.45998]\n",
    "\n",
    "Md,  maximum(Md)"
   ]
  },
  {
   "cell_type": "code",
   "execution_count": 102,
   "metadata": {
    "collapsed": false
   },
   "outputs": [
    {
     "data": {
      "text/plain": [
       "(\n",
       "3x3 Array{Float64,2}:\n",
       " 0.26029  0.55794  0.95588\n",
       " 0.35215  0.61938  0.8666 \n",
       " 0.41074  0.65143  0.35906,\n",
       "\n",
       "0.26029)"
      ]
     },
     "execution_count": 102,
     "metadata": {},
     "output_type": "execute_result"
    }
   ],
   "source": [
    "# Valor mínimo de uma matriz\n",
    "# Corresponde ao menor valor dos elementos dos vetores colunas\n",
    "# [0.26029;   0.35215;   0.41074] [0.55794;   0.61938;   0.65143],  \n",
    "# [0.95588;   0.86660;   0.35906] e [0.81311;   0.40127;   0.45998]\n",
    "\n",
    "Md,  minimum(Md)"
   ]
  },
  {
   "cell_type": "code",
   "execution_count": 103,
   "metadata": {
    "collapsed": false
   },
   "outputs": [
    {
     "data": {
      "text/plain": [
       "3x3 Array{Float64,2}:\n",
       " 0.26029  0.55794  0.95588\n",
       " 0.35215  0.61938  0.8666 \n",
       " 0.41074  0.65143  0.35906"
      ]
     },
     "metadata": {},
     "output_type": "display_data"
    },
    {
     "data": {
      "text/plain": [
       "(0.95588,7)"
      ]
     },
     "execution_count": 103,
     "metadata": {},
     "output_type": "execute_result"
    }
   ],
   "source": [
    "# Valor máximo dos elementos dos vetores coluna da matriz e indice que se refere à posição do elemento. \n",
    "# \"7\" significa sétimo elemento contando apartir do elemento a11,  coluna por coluna\n",
    "\n",
    "display(Md)\n",
    "\n",
    "(valor, indice) = findmax(Md)"
   ]
  },
  {
   "cell_type": "code",
   "execution_count": 104,
   "metadata": {
    "collapsed": false
   },
   "outputs": [
    {
     "data": {
      "text/plain": [
       "(\n",
       "3x3 Array{Float64,2}:\n",
       " 0.84615   0.0778774  0.220108\n",
       " 0.857793  0.318932   0.391218\n",
       " 0.767429  0.787208   0.295204,\n",
       "\n",
       "3x3 Array{Float64,2}:\n",
       " 0.177932  0.538806  0.99033 \n",
       " 0.101482  0.917668  0.589303\n",
       " 0.736962  0.789364  0.860067,\n",
       "\n",
       "3x3 Array{Float64,2}:\n",
       " 0.84615   0.538806  0.99033 \n",
       " 0.857793  0.917668  0.589303\n",
       " 0.767429  0.789364  0.860067)"
      ]
     },
     "execution_count": 104,
     "metadata": {},
     "output_type": "execute_result"
    }
   ],
   "source": [
    "# valores máximos de entre duas matrizes,  tomados (a11, b11), (a12, b12)....\n",
    "\n",
    "MM = rand(3, 3)\n",
    "\n",
    "NN = rand(3, 3)\n",
    "\n",
    "MM, NN,  max(MM, NN)"
   ]
  },
  {
   "cell_type": "code",
   "execution_count": 105,
   "metadata": {
    "collapsed": false
   },
   "outputs": [
    {
     "data": {
      "text/plain": [
       "(\n",
       "3x3 Array{Float64,2}:\n",
       " 0.0858599  0.33364   0.118128\n",
       " 0.253989   0.847198  0.975996\n",
       " 0.0740261  0.62323   0.305663,\n",
       "\n",
       "3x3 Array{Float64,2}:\n",
       " 0.252913  0.449629   0.856497\n",
       " 0.86338   0.165869   0.257903\n",
       " 0.79741   0.0833551  0.224412,\n",
       "\n",
       "3x3 Array{Float64,2}:\n",
       " 0.0858599  0.33364    0.118128\n",
       " 0.253989   0.165869   0.257903\n",
       " 0.0740261  0.0833551  0.224412)"
      ]
     },
     "execution_count": 105,
     "metadata": {},
     "output_type": "execute_result"
    }
   ],
   "source": [
    "# valores minimos de entre duas matrizes,  tomados (a11, b11), (a12, b12)....\n",
    "\n",
    "MM = rand(3, 3)\n",
    "\n",
    "NN = rand(3, 3)\n",
    "\n",
    "MM, NN,  min(MM, NN)"
   ]
  },
  {
   "cell_type": "code",
   "execution_count": 106,
   "metadata": {
    "collapsed": false
   },
   "outputs": [
    {
     "data": {
      "text/plain": [
       "((0.26029,1),\n",
       "3x3 Array{Float64,2}:\n",
       " 0.26029  0.55794  0.95588\n",
       " 0.35215  0.61938  0.8666 \n",
       " 0.41074  0.65143  0.35906)"
      ]
     },
     "execution_count": 106,
     "metadata": {},
     "output_type": "execute_result"
    }
   ],
   "source": [
    "# Valor minimo dos elementos dos vetores coluna da matriz e indice que se refere à posição do elemento. \n",
    "# \"1\" significa primeiro elemento contando apartir do elemento a11,  coluna por coluna\n",
    "\n",
    "(valor, indice) = findmin(Md),  Md"
   ]
  },
  {
   "cell_type": "code",
   "execution_count": null,
   "metadata": {
    "collapsed": true
   },
   "outputs": [],
   "source": []
  },
  {
   "cell_type": "code",
   "execution_count": null,
   "metadata": {
    "collapsed": true
   },
   "outputs": [],
   "source": []
  }
 ],
 "metadata": {
  "anaconda-cloud": {},
  "kernelspec": {
   "display_name": "Julia 0.5.0",
   "language": "julia",
   "name": "julia-0.5"
  },
  "language_info": {
   "file_extension": ".jl",
   "mimetype": "application/julia",
   "name": "julia",
   "version": "0.5.0"
  }
 },
 "nbformat": 4,
 "nbformat_minor": 0
}
