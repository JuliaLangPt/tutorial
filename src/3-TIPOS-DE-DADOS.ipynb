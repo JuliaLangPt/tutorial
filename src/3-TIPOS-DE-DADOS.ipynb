{
 "cells": [
  {
   "cell_type": "markdown",
   "metadata": {},
   "source": [
    "# TIPOS DE DADOS"
   ]
  },
  {
   "cell_type": "markdown",
   "metadata": {},
   "source": [
    "## NUMÉRICOS"
   ]
  },
  {
   "cell_type": "markdown",
   "metadata": {},
   "source": [
    "### TIPOS INTEIROS:\n",
    "\n",
    "* Int8 — inteiros 8-bit com sinal variando de - $2^7 ~~a~~ 2^7 - 1$.\n",
    "* Int8 — inteiros 8-bit sem sinal variando de $0 ~~a~~ 2^8 - 1$.\n",
    "* Int16 — inteiros 16-bit com sinal variando de $-2^{15}~~ a ~~ 2^{15} - 1$.\n",
    "* Int16 — inteiros 16-bit sem sinal variando de $0~~ a ~~2^{16} - 1$.\n",
    "* Int32 — inteiros 32-bit com sinal variando de $-2^{31} ~~a~~ 2^{31} - 1$.\n",
    "* Int32 — inteiros 32-bit sem sinal variando de $0~~ a~~ 2^{32} - 1$.\n",
    "* Int64 — inteiros 64-bit com sinal variando de $-2^{63} ~~a~~ 2^{63} - 1$.\n",
    "* Int64 — inteiros 64-bit sem sinal variando de $0 ~~a~~ 2^{64} - 1$.\n",
    "* Int128 — inteiros 128-bit com sinal variando de $-2^{127}~~ a~~ 2^{127} - 1$.\n",
    "* Int128 — inteiros 128-bit sem sinal variando de $0~~ a~~ 2^{128} - 1$.\n",
    "* Bool — true (verdadeiro) ou false (falso), que correspondem numericamente a 1 ou 0, respectivamente.\n",
    "* Char — um tipo numérico de 32 bits representando um caracter Unicode (veja Strings para mais detalhes).\n",
    "\n",
    "### TIPOS PONTO FLUTUANTE:\n",
    "\n",
    "* Float32 — Números de ponto flutuante 32-bit seguindo o padrão IEEE 754.\n",
    "* Float64 — Números de ponto flutuante 64-bit seguindo o padrão IEEE 754."
   ]
  },
  {
   "cell_type": "markdown",
   "metadata": {},
   "source": [
    "### NUMEROS COMPLEXOS \n",
    "\n",
    "Para definir, usa-se a parte real em conjunto com a parte imaginária **im**"
   ]
  },
  {
   "cell_type": "code",
   "execution_count": 1,
   "metadata": {
    "collapsed": false
   },
   "outputs": [
    {
     "data": {
      "text/plain": [
       "1 + 2im"
      ]
     },
     "execution_count": 1,
     "metadata": {},
     "output_type": "execute_result"
    }
   ],
   "source": [
    "# real e imaginário\n",
    "1 + 2im"
   ]
  },
  {
   "cell_type": "code",
   "execution_count": 2,
   "metadata": {
    "collapsed": false
   },
   "outputs": [
    {
     "data": {
      "text/plain": [
       "3 + 5im"
      ]
     },
     "execution_count": 2,
     "metadata": {},
     "output_type": "execute_result"
    }
   ],
   "source": [
    "# soma de imaginários\n",
    "(1 + 8im) + (2 - 3im)"
   ]
  },
  {
   "cell_type": "code",
   "execution_count": 3,
   "metadata": {
    "collapsed": false
   },
   "outputs": [
    {
     "data": {
      "text/plain": [
       "26 + 13im"
      ]
     },
     "execution_count": 3,
     "metadata": {},
     "output_type": "execute_result"
    }
   ],
   "source": [
    "# produto\n",
    "(1 + 8im) * (2 - 3im)"
   ]
  },
  {
   "cell_type": "code",
   "execution_count": 4,
   "metadata": {
    "collapsed": false
   },
   "outputs": [
    {
     "data": {
      "text/plain": [
       "507 + 676im"
      ]
     },
     "execution_count": 4,
     "metadata": {},
     "output_type": "execute_result"
    }
   ],
   "source": [
    "# potencia\n",
    "(26 + 13im)^2"
   ]
  },
  {
   "cell_type": "code",
   "execution_count": 6,
   "metadata": {
    "collapsed": false
   },
   "outputs": [
    {
     "data": {
      "text/plain": [
       "1"
      ]
     },
     "execution_count": 6,
     "metadata": {},
     "output_type": "execute_result"
    }
   ],
   "source": [
    "# extrair somente a parte real\n",
    "real(1 + 2im)"
   ]
  },
  {
   "cell_type": "code",
   "execution_count": 7,
   "metadata": {
    "collapsed": false
   },
   "outputs": [
    {
     "data": {
      "text/plain": [
       "2"
      ]
     },
     "execution_count": 7,
     "metadata": {},
     "output_type": "execute_result"
    }
   ],
   "source": [
    "# extrair somente a parte imaginária\n",
    "imag(1 + 2im)"
   ]
  },
  {
   "cell_type": "code",
   "execution_count": 8,
   "metadata": {
    "collapsed": false
   },
   "outputs": [
    {
     "data": {
      "text/plain": [
       "1 - 2im"
      ]
     },
     "execution_count": 8,
     "metadata": {},
     "output_type": "execute_result"
    }
   ],
   "source": [
    "# conjugado\n",
    "conj(1 + 2im)"
   ]
  },
  {
   "cell_type": "code",
   "execution_count": 9,
   "metadata": {
    "collapsed": false
   },
   "outputs": [
    {
     "data": {
      "text/plain": [
       "2.23606797749979"
      ]
     },
     "execution_count": 9,
     "metadata": {},
     "output_type": "execute_result"
    }
   ],
   "source": [
    "# módulo\n",
    "abs(1 + 2im)"
   ]
  },
  {
   "cell_type": "markdown",
   "metadata": {},
   "source": [
    "## CONSTANTES"
   ]
  },
  {
   "cell_type": "code",
   "execution_count": 193,
   "metadata": {
    "collapsed": false
   },
   "outputs": [
    {
     "data": {
      "text/plain": [
       "(π = 3.1415926535897...,[1.0,1.0,1.0],φ = 1.6180339887498...)"
      ]
     },
     "execution_count": 193,
     "metadata": {},
     "output_type": "execute_result"
    }
   ],
   "source": [
    "pi, e, golden"
   ]
  },
  {
   "cell_type": "markdown",
   "metadata": {},
   "source": [
    "<strong>Declarando uma constante</strong><br>\n",
    "Constantes, declarado como <strong>const</strong>, são variáveis imutáveis quanto ao tipo. Ou seja, podem mudar de valor (será dado um aviso) mas não podem mudar de tipo.\n"
   ]
  },
  {
   "cell_type": "code",
   "execution_count": 194,
   "metadata": {
    "collapsed": false
   },
   "outputs": [
    {
     "data": {
      "text/plain": [
       "\"299792458\""
      ]
     },
     "execution_count": 194,
     "metadata": {},
     "output_type": "execute_result"
    }
   ],
   "source": [
    "# variável \"vel_luz\" do tipo string\n",
    "const vel_luz = \"299792458\""
   ]
  },
  {
   "cell_type": "code",
   "execution_count": 195,
   "metadata": {
    "collapsed": false
   },
   "outputs": [
    {
     "name": "stderr",
     "output_type": "stream",
     "text": [
      "WARNING: redefining constant vel_luz\n"
     ]
    },
    {
     "data": {
      "text/plain": [
       "\"30000000\""
      ]
     },
     "execution_count": 195,
     "metadata": {},
     "output_type": "execute_result"
    }
   ],
   "source": [
    "# Alterando a variável para outro valor do mesmo tipo string. Será dado um aviso\n",
    "const vel_luz = \"30000000\""
   ]
  },
  {
   "cell_type": "code",
   "execution_count": 196,
   "metadata": {
    "collapsed": false
   },
   "outputs": [
    {
     "ename": "LoadError",
     "evalue": "LoadError: invalid redefinition of constant vel_luz\nwhile loading In[196], in expression starting on line 2",
     "output_type": "error",
     "traceback": [
      "LoadError: invalid redefinition of constant vel_luz\nwhile loading In[196], in expression starting on line 2",
      ""
     ]
    }
   ],
   "source": [
    "# Não é possível alterar o tipo da variável \"vel_luz\" para inteiro. Ocorrerá ero\n",
    "const vel_luz = 30000000"
   ]
  },
  {
   "cell_type": "code",
   "execution_count": 197,
   "metadata": {
    "collapsed": false
   },
   "outputs": [
    {
     "data": {
      "text/plain": [
       "\"30000000\""
      ]
     },
     "execution_count": 197,
     "metadata": {},
     "output_type": "execute_result"
    }
   ],
   "source": [
    "vel_luz"
   ]
  },
  {
   "cell_type": "code",
   "execution_count": 198,
   "metadata": {
    "collapsed": false
   },
   "outputs": [
    {
     "data": {
      "text/plain": [
       "ASCIIString"
      ]
     },
     "execution_count": 198,
     "metadata": {},
     "output_type": "execute_result"
    }
   ],
   "source": [
    "# saber o tipo da constante\n",
    "typeof(vel_luz)"
   ]
  },
  {
   "cell_type": "markdown",
   "metadata": {
    "collapsed": true
   },
   "source": [
    "## VARIÁVEIS"
   ]
  },
  {
   "cell_type": "markdown",
   "metadata": {},
   "source": [
    "* ** Resetar todas as variáveis**\n",
    "\n",
    "Julia não possui um comando análogo ao **clear** do MATLAB; uma vez que um nome é definido em uma sessão de Julia (tecnicamente, no módulo principal), ele está sempre presente. Com o comando ` workspace()` Julia não reseta, de fato, as variáveis mas ele configura outro workspace."
   ]
  },
  {
   "cell_type": "code",
   "execution_count": 199,
   "metadata": {
    "collapsed": true
   },
   "outputs": [],
   "source": [
    "workspace()"
   ]
  },
  {
   "cell_type": "markdown",
   "metadata": {},
   "source": [
    "* **Trabalhando com variáveis**"
   ]
  },
  {
   "cell_type": "code",
   "execution_count": 200,
   "metadata": {
    "collapsed": false,
    "scrolled": true
   },
   "outputs": [
    {
     "data": {
      "text/plain": [
       "2"
      ]
     },
     "execution_count": 200,
     "metadata": {},
     "output_type": "execute_result"
    }
   ],
   "source": [
    "# Atribindo o valor 2 a variavel x\n",
    "x = 2"
   ]
  },
  {
   "cell_type": "code",
   "execution_count": 201,
   "metadata": {
    "collapsed": false
   },
   "outputs": [
    {
     "data": {
      "text/plain": [
       "4"
      ]
     },
     "execution_count": 201,
     "metadata": {},
     "output_type": "execute_result"
    }
   ],
   "source": [
    "# Executando o calculo\n",
    "x^2"
   ]
  },
  {
   "cell_type": "code",
   "execution_count": 202,
   "metadata": {
    "collapsed": false,
    "scrolled": true
   },
   "outputs": [],
   "source": [
    "# Variável literal\n",
    "y = \"so testando\";"
   ]
  },
  {
   "cell_type": "code",
   "execution_count": 203,
   "metadata": {
    "collapsed": false
   },
   "outputs": [
    {
     "data": {
      "text/plain": [
       "\"so testando\""
      ]
     },
     "execution_count": 203,
     "metadata": {},
     "output_type": "execute_result"
    }
   ],
   "source": [
    "y"
   ]
  },
  {
   "cell_type": "code",
   "execution_count": 204,
   "metadata": {
    "collapsed": false
   },
   "outputs": [
    {
     "ename": "LoadError",
     "evalue": "LoadError: UndefVarError: Xvar not defined\nwhile loading In[204], in expression starting on line 2",
     "output_type": "error",
     "traceback": [
      "LoadError: UndefVarError: Xvar not defined\nwhile loading In[204], in expression starting on line 2",
      ""
     ]
    }
   ],
   "source": [
    "# Ao tentar utilizar uma variável nao declarada, ocorre um erro \"Xvar not defined\"\n",
    "Xvar"
   ]
  },
  {
   "cell_type": "code",
   "execution_count": 205,
   "metadata": {
    "collapsed": false
   },
   "outputs": [
    {
     "data": {
      "text/plain": [
       "(Int64,ASCIIString)"
      ]
     },
     "execution_count": 205,
     "metadata": {},
     "output_type": "execute_result"
    }
   ],
   "source": [
    "# verificar o tipo da variável\n",
    "typeof(x),typeof(y)"
   ]
  },
  {
   "cell_type": "code",
   "execution_count": 206,
   "metadata": {
    "collapsed": false
   },
   "outputs": [
    {
     "data": {
      "text/plain": [
       "true"
      ]
     },
     "execution_count": 206,
     "metadata": {},
     "output_type": "execute_result"
    }
   ],
   "source": [
    "# testar tipo\n",
    "isa(x, Int64)"
   ]
  },
  {
   "cell_type": "code",
   "execution_count": 207,
   "metadata": {
    "collapsed": false
   },
   "outputs": [
    {
     "data": {
      "text/plain": [
       "2.0 + 3.5im"
      ]
     },
     "execution_count": 207,
     "metadata": {},
     "output_type": "execute_result"
    }
   ],
   "source": [
    "# construção de um complexo \n",
    "a = 2\n",
    "b = 3.5\n",
    "\n",
    "complex(a,b)"
   ]
  },
  {
   "cell_type": "markdown",
   "metadata": {},
   "source": [
    "* **Declarando  Várias variáveis ao mesmo tempo **"
   ]
  },
  {
   "cell_type": "code",
   "execution_count": 208,
   "metadata": {
    "collapsed": false
   },
   "outputs": [],
   "source": [
    "# Declarando Várias variáveis\n",
    "x = 5 \n",
    "y = 10 \n",
    "z = \"julia\";"
   ]
  },
  {
   "cell_type": "code",
   "execution_count": 209,
   "metadata": {
    "collapsed": false
   },
   "outputs": [
    {
     "data": {
      "text/plain": [
       "(5,10,\"julia\")"
      ]
     },
     "execution_count": 209,
     "metadata": {},
     "output_type": "execute_result"
    }
   ],
   "source": [
    "x,y,z"
   ]
  },
  {
   "cell_type": "code",
   "execution_count": 13,
   "metadata": {
    "collapsed": false
   },
   "outputs": [
    {
     "data": {
      "text/plain": [
       "5"
      ]
     },
     "execution_count": 13,
     "metadata": {},
     "output_type": "execute_result"
    }
   ],
   "source": [
    "# Por padrão, será impresso somente a ultima linha, mas as variáveis internas estão acessíveis\n",
    "w = begin\n",
    "    x = 2\n",
    "    y = 3\n",
    "    x + y    \n",
    "end"
   ]
  },
  {
   "cell_type": "code",
   "execution_count": 36,
   "metadata": {
    "collapsed": false
   },
   "outputs": [
    {
     "data": {
      "text/plain": [
       "3"
      ]
     },
     "execution_count": 36,
     "metadata": {},
     "output_type": "execute_result"
    }
   ],
   "source": [
    "# y do bloco de w\n",
    "y"
   ]
  },
  {
   "cell_type": "code",
   "execution_count": 38,
   "metadata": {
    "collapsed": false,
    "scrolled": true
   },
   "outputs": [
    {
     "data": {
      "text/plain": [
       "5"
      ]
     },
     "execution_count": 38,
     "metadata": {},
     "output_type": "execute_result"
    }
   ],
   "source": [
    "# outra forma. Por padrão, será impresso somente a ultima linha, mas as variáveis internas estão acessíveis\n",
    "w = (x = 2; y = 3; x + y)"
   ]
  },
  {
   "cell_type": "markdown",
   "metadata": {},
   "source": [
    "* ** Variáveis criadas ** "
   ]
  },
  {
   "cell_type": "code",
   "execution_count": 213,
   "metadata": {
    "collapsed": false
   },
   "outputs": [
    {
     "name": "stdout",
     "output_type": "stream",
     "text": [
      "                          Base  29148 KB     Module\n",
      "                          Core   4475 KB     Module\n",
      "                      LastMain   4043 KB     Module\n",
      "                          Main   4477 KB     Module\n",
      "                             a      8 bytes  Int64\n",
      "                             b      8 bytes  Float64\n",
      "                             w      8 bytes  Int64\n",
      "                             x      8 bytes  Int64\n",
      "                             y      8 bytes  Int64\n",
      "                             z     13 bytes  ASCIIString\n"
     ]
    }
   ],
   "source": [
    "whos()"
   ]
  },
  {
   "cell_type": "markdown",
   "metadata": {
    "collapsed": true
   },
   "source": [
    "* **Macro @printf**"
   ]
  },
  {
   "cell_type": "code",
   "execution_count": 214,
   "metadata": {
    "collapsed": false,
    "scrolled": true
   },
   "outputs": [
    {
     "name": "stdout",
     "output_type": "stream",
     "text": [
      "valor de x é 10.000000"
     ]
    }
   ],
   "source": [
    "x = 10.0\n",
    "@printf(\"valor de x é %f\",x)"
   ]
  },
  {
   "cell_type": "markdown",
   "metadata": {},
   "source": [
    "## STRING"
   ]
  },
  {
   "cell_type": "markdown",
   "metadata": {},
   "source": [
    "Forma de expressão"
   ]
  },
  {
   "cell_type": "markdown",
   "metadata": {},
   "source": [
    "** Convertendo uma string em uma expressão matemática **"
   ]
  },
  {
   "cell_type": "code",
   "execution_count": 215,
   "metadata": {
    "collapsed": false
   },
   "outputs": [
    {
     "data": {
      "text/plain": [
       ":(x ^ 2 + 1)"
      ]
     },
     "execution_count": 215,
     "metadata": {},
     "output_type": "execute_result"
    }
   ],
   "source": [
    "string_formula = \"x^2 + 1\"\n",
    "y = parse(string_formula)"
   ]
  },
  {
   "cell_type": "code",
   "execution_count": 216,
   "metadata": {
    "collapsed": false
   },
   "outputs": [
    {
     "data": {
      "text/plain": [
       "Expr"
      ]
     },
     "execution_count": 216,
     "metadata": {},
     "output_type": "execute_result"
    }
   ],
   "source": [
    "typeof(y)"
   ]
  },
  {
   "cell_type": "code",
   "execution_count": 217,
   "metadata": {
    "collapsed": false,
    "scrolled": true
   },
   "outputs": [
    {
     "data": {
      "text/plain": [
       "1"
      ]
     },
     "execution_count": 217,
     "metadata": {},
     "output_type": "execute_result"
    }
   ],
   "source": [
    "x = 0\n",
    "eval(y)"
   ]
  },
  {
   "cell_type": "markdown",
   "metadata": {},
   "source": [
    "## CONVERSÃO DE TIPOS"
   ]
  },
  {
   "cell_type": "markdown",
   "metadata": {},
   "source": [
    "<div style=\"text-align: justify;\">Tabela de Tipos<br>\n",
    "</div>\n",
    "<table style=\"text-align: left; width: 271px; height: 304px;\" border=\"1\"\n",
    "cellpadding=\"2\" cellspacing=\"2\">\n",
    "<tbody>\n",
    "<tr>\n",
    "<td style=\"vertical-align: top;\">a<br>\n",
    "</td>\n",
    "<td style=\"vertical-align: top;\">a<br>\n",
    "</td>\n",
    "</tr>\n",
    "<tr>\n",
    "<td style=\"vertical-align: top;\">a<br>\n",
    "</td>\n",
    "<td style=\"vertical-align: top;\">a<br>\n",
    "</td>\n",
    "</tr>\n",
    "<tr>\n",
    "<td style=\"vertical-align: top;\">a<br>\n",
    "</td>\n",
    "<td style=\"vertical-align: top;\">a<br>\n",
    "</td>\n",
    "</tr>\n",
    "<tr>\n",
    "<td style=\"vertical-align: top;\">a<br>\n",
    "</td>\n",
    "<td style=\"vertical-align: top;\">a<br>\n",
    "</td>\n",
    "</tr>\n",
    "<tr>\n",
    "<td style=\"vertical-align: top;\">a<br>\n",
    "</td>\n",
    "<td style=\"vertical-align: top;\">a<br>\n",
    "</td>\n",
    "</tr>\n",
    "<tr>\n",
    "<td style=\"vertical-align: top;\">a<br>\n",
    "</td>\n",
    "<td style=\"vertical-align: top;\">a<br>\n",
    "</td>\n",
    "</tr>\n",
    "<tr>\n",
    "<td style=\"vertical-align: top;\">a<br>\n",
    "</td>\n",
    "<td style=\"vertical-align: top;\">a<br>\n",
    "</td>\n",
    "</tr>\n",
    "<tr>\n",
    "<td style=\"vertical-align: top;\">a<br>\n",
    "</td>\n",
    "<td style=\"vertical-align: top;\">a<br>\n",
    "</td>\n",
    "</tr>\n",
    "<tr>\n",
    "<td style=\"vertical-align: top;\">a<br>\n",
    "</td>\n",
    "<td style=\"vertical-align: top;\">a<br>\n",
    "</td>\n",
    "</tr>\n",
    "</tbody>\n",
    "</table>"
   ]
  },
  {
   "cell_type": "code",
   "execution_count": 218,
   "metadata": {
    "collapsed": false,
    "scrolled": true
   },
   "outputs": [
    {
     "data": {
      "text/plain": [
       "(8,8.0,\"julia\")"
      ]
     },
     "execution_count": 218,
     "metadata": {},
     "output_type": "execute_result"
    }
   ],
   "source": [
    "a = 8\n",
    "b = 8.0\n",
    "c = \"julia\"\n",
    "\n",
    "a,b,c"
   ]
  },
  {
   "cell_type": "code",
   "execution_count": 219,
   "metadata": {
    "collapsed": false
   },
   "outputs": [
    {
     "data": {
      "text/plain": [
       "(Int64,Float64,ASCIIString)"
      ]
     },
     "execution_count": 219,
     "metadata": {},
     "output_type": "execute_result"
    }
   ],
   "source": [
    "typeof(a), typeof(b), typeof(c)"
   ]
  },
  {
   "cell_type": "code",
   "execution_count": 220,
   "metadata": {
    "collapsed": false,
    "scrolled": false
   },
   "outputs": [
    {
     "data": {
      "text/plain": [
       "(8.0,8)"
      ]
     },
     "execution_count": 220,
     "metadata": {},
     "output_type": "execute_result"
    }
   ],
   "source": [
    "d = Float64(a); e = convert(Int,b)\n",
    "d , e"
   ]
  },
  {
   "cell_type": "code",
   "execution_count": 221,
   "metadata": {
    "collapsed": false
   },
   "outputs": [
    {
     "data": {
      "text/plain": [
       "(Float64,Int64)"
      ]
     },
     "execution_count": 221,
     "metadata": {},
     "output_type": "execute_result"
    }
   ],
   "source": [
    "typeof(d),typeof(e)"
   ]
  },
  {
   "cell_type": "markdown",
   "metadata": {},
   "source": [
    "## TUPLA\n",
    "\n",
    "Tupla é uma sequência ordenada de elementos semelhante a um vetor. Uma tupla é representado por parênteses e vírgulas, em vez dos colchetes usados por matrizes. Tuplas são principalmente indicadas para agrupamento de comprimento fixo pequenas - eles são usados em todos os lugares em Julia, por exemplo, como listas de argumentos e de retorno de vários valores de funções.\n",
    "\n",
    "A diferença importante entre matrizes e tuplas é que tuplas são **imutáveis**. Muitas funções de matrizes também pode ser usado em tuplas. Forma:\n",
    "```julia\n",
    "variavel  = (valor1, valor2)\n",
    "```\n",
    "E o tipo pode ser inteiro, float, complex e outros."
   ]
  },
  {
   "cell_type": "code",
   "execution_count": 7,
   "metadata": {
    "collapsed": false,
    "scrolled": true
   },
   "outputs": [
    {
     "data": {
      "text/plain": [
       "(1,2,3)"
      ]
     },
     "execution_count": 7,
     "metadata": {},
     "output_type": "execute_result"
    }
   ],
   "source": [
    "t1 = (1,2,3)"
   ]
  },
  {
   "cell_type": "code",
   "execution_count": 8,
   "metadata": {
    "collapsed": false
   },
   "outputs": [
    {
     "data": {
      "text/plain": [
       "Tuple{Int64,Int64,Int64}"
      ]
     },
     "execution_count": 8,
     "metadata": {},
     "output_type": "execute_result"
    }
   ],
   "source": [
    "typeof(t1)"
   ]
  },
  {
   "cell_type": "code",
   "execution_count": 5,
   "metadata": {
    "collapsed": false
   },
   "outputs": [
    {
     "data": {
      "text/plain": [
       "2"
      ]
     },
     "execution_count": 5,
     "metadata": {},
     "output_type": "execute_result"
    }
   ],
   "source": [
    "t1[2]"
   ]
  },
  {
   "cell_type": "code",
   "execution_count": 8,
   "metadata": {
    "collapsed": false
   },
   "outputs": [
    {
     "ename": "LoadError",
     "evalue": "LoadError: MethodError: no method matching setindex!(::Tuple{Int64,Int64,Int64}, ::Float64, ::Int64)\nwhile loading In[8], in expression starting on line 2",
     "output_type": "error",
     "traceback": [
      "LoadError: MethodError: no method matching setindex!(::Tuple{Int64,Int64,Int64}, ::Float64, ::Int64)\nwhile loading In[8], in expression starting on line 2",
      ""
     ]
    }
   ],
   "source": [
    "# tuplas são imutáveis\n",
    "t1[2] = 0.0"
   ]
  },
  {
   "cell_type": "code",
   "execution_count": 3,
   "metadata": {
    "collapsed": false,
    "scrolled": true
   },
   "outputs": [
    {
     "data": {
      "text/plain": [
       "(1,2,\"Julia\")"
      ]
     },
     "execution_count": 3,
     "metadata": {},
     "output_type": "execute_result"
    }
   ],
   "source": [
    "t2 = (1,2,\"Julia\")"
   ]
  },
  {
   "cell_type": "code",
   "execution_count": 4,
   "metadata": {
    "collapsed": false
   },
   "outputs": [
    {
     "data": {
      "text/plain": [
       "Tuple{Int64,Int64,String}"
      ]
     },
     "execution_count": 4,
     "metadata": {},
     "output_type": "execute_result"
    }
   ],
   "source": [
    "typeof(t2)"
   ]
  },
  {
   "cell_type": "markdown",
   "metadata": {},
   "source": [
    "** Coisas para fazer com tuplas**"
   ]
  },
  {
   "cell_type": "code",
   "execution_count": 226,
   "metadata": {
    "collapsed": false
   },
   "outputs": [
    {
     "data": {
      "text/plain": [
       "(7,8)"
      ]
     },
     "execution_count": 226,
     "metadata": {},
     "output_type": "execute_result"
    }
   ],
   "source": [
    "+(1,2,4), *(1,2,4)"
   ]
  },
  {
   "cell_type": "markdown",
   "metadata": {},
   "source": [
    "## DICIONÁRIO\n",
    "\n",
    "Os dicionários são estruturas de dados que contém pares de chave-valor. Diferente de um vetor no qual os valores são indexados por numeros inteiros, dicionários são indexados por chaves (keys), que podem ser de qualquer tipo imutável (como strings e inteiros). Dicionários são delimitados por parenteses e contém uma lista de pares (\"chave\",valor) separada por vírgulas. Forma básica:\n",
    "```julia\n",
    "Dict([(chave,valor),(chave,valor)]) \n",
    "\n",
    "ou \n",
    "\n",
    "Dict(chave => valor, chave => valor)\n",
    "```\n",
    "O tipo de um dicionário é na forma: \n",
    "```julia\n",
    "Dict{\"Tipo basico\",\"Tipo basico\"}\n",
    "```\n",
    "\"Tipo basico\" pode ser inteiro, Float, string, complex e any(valores heterogeneos)."
   ]
  },
  {
   "cell_type": "code",
   "execution_count": 24,
   "metadata": {
    "collapsed": false,
    "scrolled": false
   },
   "outputs": [
    {
     "data": {
      "text/plain": [
       "Dict{String,Any} with 3 entries:\n",
       "  \"c\" => \"Julia\"\n",
       "  \"b\" => 2\n",
       "  \"a\" => 1"
      ]
     },
     "execution_count": 24,
     "metadata": {},
     "output_type": "execute_result"
    }
   ],
   "source": [
    "d1 = Dict([(\"a\", 1), (\"b\", 2),(\"c\",\"Julia\")])"
   ]
  },
  {
   "cell_type": "code",
   "execution_count": 25,
   "metadata": {
    "collapsed": false
   },
   "outputs": [
    {
     "data": {
      "text/plain": [
       "Dict{Int64,Any} with 3 entries:\n",
       "  2 => 2\n",
       "  3 => \"Julia\"\n",
       "  1 => \"Maxima\""
      ]
     },
     "execution_count": 25,
     "metadata": {},
     "output_type": "execute_result"
    }
   ],
   "source": [
    "d2 = Dict(1 => \"Maxima\", 2 => 2, 3 =>\"Julia\")"
   ]
  },
  {
   "cell_type": "code",
   "execution_count": 60,
   "metadata": {
    "collapsed": false
   },
   "outputs": [
    {
     "data": {
      "text/plain": [
       "Dict{Any,Any} with 3 entries:\n",
       "  2         => 2\n",
       "  \"Amostra\" => 1\n",
       "  1         => \"raio\""
      ]
     },
     "execution_count": 60,
     "metadata": {},
     "output_type": "execute_result"
    }
   ],
   "source": [
    "d3 = Dict()\n",
    "d3[\"Amostra\"] = 1\n",
    "d3[1] = \"raio\"\n",
    "d3[2] = 2\n",
    "\n",
    "d3"
   ]
  },
  {
   "cell_type": "code",
   "execution_count": 28,
   "metadata": {
    "collapsed": false
   },
   "outputs": [
    {
     "data": {
      "text/plain": [
       "(Dict{String,Any},Dict{Int64,Any},Dict{Any,Any})"
      ]
     },
     "execution_count": 28,
     "metadata": {},
     "output_type": "execute_result"
    }
   ],
   "source": [
    "# veja que existe a informação sobre a chave e valor\n",
    "typeof(d1), typeof(d2), typeof(d3)"
   ]
  },
  {
   "cell_type": "code",
   "execution_count": 15,
   "metadata": {
    "collapsed": false
   },
   "outputs": [
    {
     "data": {
      "text/plain": [
       "\"Julia\""
      ]
     },
     "execution_count": 15,
     "metadata": {},
     "output_type": "execute_result"
    }
   ],
   "source": [
    "# acessar valor da chave \"c\" de d1\n",
    "d1[\"c\"]"
   ]
  },
  {
   "cell_type": "code",
   "execution_count": 16,
   "metadata": {
    "collapsed": false,
    "scrolled": true
   },
   "outputs": [
    {
     "data": {
      "text/plain": [
       "Base.KeyIterator for a Dict{String,Any} with 3 entries. Keys:\n",
       "  \"c\"\n",
       "  \"b\"\n",
       "  \"a\""
      ]
     },
     "execution_count": 16,
     "metadata": {},
     "output_type": "execute_result"
    }
   ],
   "source": [
    "# acessar somente as chaves de d1\n",
    "keys(d1)"
   ]
  },
  {
   "cell_type": "code",
   "execution_count": 17,
   "metadata": {
    "collapsed": false,
    "scrolled": true
   },
   "outputs": [
    {
     "data": {
      "text/plain": [
       "Dict{String,Any} with 2 entries:\n",
       "  \"c\" => \"Julia\"\n",
       "  \"a\" => 1"
      ]
     },
     "execution_count": 17,
     "metadata": {},
     "output_type": "execute_result"
    }
   ],
   "source": [
    "# deletar uma key de d1\n",
    "delete!(d1, \"b\")"
   ]
  },
  {
   "cell_type": "code",
   "execution_count": 35,
   "metadata": {
    "collapsed": false
   },
   "outputs": [
    {
     "data": {
      "text/plain": [
       "3-element Array{Any,1}:\n",
       " \"a\"\n",
       " \"b\"\n",
       " \"c\""
      ]
     },
     "execution_count": 35,
     "metadata": {},
     "output_type": "execute_result"
    }
   ],
   "source": [
    "# ordenar o dicionário d3\n",
    "sort(collect(keys(d3)))"
   ]
  },
  {
   "cell_type": "markdown",
   "metadata": {},
   "source": [
    "**Alterar a Key do dicionário**\n",
    "\n",
    "Keys são imutáveis, logo não permitem modificação de nome. O que se faz é copiar o conteúdo de uma `key` desejada para outra `nova key` e depois apaga-se o a `key` copiada"
   ]
  },
  {
   "cell_type": "code",
   "execution_count": 18,
   "metadata": {
    "collapsed": false
   },
   "outputs": [
    {
     "data": {
      "text/plain": [
       "\"Julia\""
      ]
     },
     "execution_count": 18,
     "metadata": {},
     "output_type": "execute_result"
    }
   ],
   "source": [
    "# copia a key \"c\" para a key \"novo\" e apaga-se a key \"c\"\n",
    "d1[\"novo\"] = pop!(d1,\"c\")"
   ]
  },
  {
   "cell_type": "code",
   "execution_count": 19,
   "metadata": {
    "collapsed": false
   },
   "outputs": [
    {
     "data": {
      "text/plain": [
       "Dict{String,Any} with 2 entries:\n",
       "  \"a\"    => 1\n",
       "  \"novo\" => \"Julia\""
      ]
     },
     "execution_count": 19,
     "metadata": {},
     "output_type": "execute_result"
    }
   ],
   "source": [
    "d1"
   ]
  },
  {
   "cell_type": "markdown",
   "metadata": {},
   "source": [
    "**União e Merge**\n",
    "\n",
    "O comando  junta os dois discionários mantendo a ordem de cada um. Sintaxe:\n",
    "```julia \n",
    "union(dic_1,dic_2, ..., dic_n)\n",
    "union!(dic_1,dic_2, ..., dic_n) # une os dicionários e sobrescreve no dic_1. CUIDADO!\n",
    "```\n",
    "O comando `marge()` também junta os dicionários mas se a mesma chave está presente em outra coleção, o valor para essa chave será o valor que tem na última coleta listados. Sintaxe:\n",
    "```julia \n",
    "merge(dic_1,dic_2, ..., dic_n)\n",
    "merge!(dic_1,dic_2, ..., dic_n) # merge os dicionário e sobrescreve no dic_1. CUIDADO!\n",
    "```"
   ]
  },
  {
   "cell_type": "code",
   "execution_count": 46,
   "metadata": {
    "collapsed": false,
    "scrolled": true
   },
   "outputs": [
    {
     "data": {
      "text/plain": [
       "Dict{String,Any} with 3 entries:\n",
       "  \"c\" => \"Julia\"\n",
       "  \"b\" => 2\n",
       "  \"a\" => 1"
      ]
     },
     "metadata": {},
     "output_type": "display_data"
    },
    {
     "data": {
      "text/plain": [
       "Dict{Any,Any} with 3 entries:\n",
       "  \"c\"           => 1.0e-6\n",
       "  \"Resistencia\" => 2000\n",
       "  \"Amostra\"     => 1"
      ]
     },
     "metadata": {},
     "output_type": "display_data"
    },
    {
     "data": {
      "text/plain": [
       "(nothing,nothing)"
      ]
     },
     "execution_count": 46,
     "metadata": {},
     "output_type": "execute_result"
    }
   ],
   "source": [
    "display(d1), display(d3)"
   ]
  },
  {
   "cell_type": "code",
   "execution_count": 47,
   "metadata": {
    "collapsed": false
   },
   "outputs": [
    {
     "data": {
      "text/plain": [
       "6-element Array{Pair{A,Any},1}:\n",
       " Pair{String,Any}(\"c\",\"Julia\")    \n",
       " Pair{String,Any}(\"b\",2)          \n",
       " Pair{String,Any}(\"a\",1)          \n",
       " Pair{Any,Any}(\"c\",1.0e-6)        \n",
       " Pair{Any,Any}(\"Resistencia\",2000)\n",
       " Pair{Any,Any}(\"Amostra\",1)       "
      ]
     },
     "execution_count": 47,
     "metadata": {},
     "output_type": "execute_result"
    }
   ],
   "source": [
    "u = (union(d1,d3))"
   ]
  },
  {
   "cell_type": "code",
   "execution_count": 48,
   "metadata": {
    "collapsed": false
   },
   "outputs": [
    {
     "data": {
      "text/plain": [
       "Dict{Any,Any} with 5 entries:\n",
       "  \"c\"           => 1.0e-6\n",
       "  \"Resistencia\" => 2000\n",
       "  \"b\"           => 2\n",
       "  \"Amostra\"     => 1\n",
       "  \"a\"           => 1"
      ]
     },
     "execution_count": 48,
     "metadata": {},
     "output_type": "execute_result"
    }
   ],
   "source": [
    "m = merge(d1,d3)"
   ]
  },
  {
   "cell_type": "code",
   "execution_count": 49,
   "metadata": {
    "collapsed": false,
    "scrolled": true
   },
   "outputs": [
    {
     "data": {
      "text/plain": [
       "Dict{String,Any} with 5 entries:\n",
       "  \"c\"           => 1.0e-6\n",
       "  \"Resistencia\" => 2000\n",
       "  \"b\"           => 2\n",
       "  \"Amostra\"     => 1\n",
       "  \"a\"           => 1"
      ]
     },
     "execution_count": 49,
     "metadata": {},
     "output_type": "execute_result"
    }
   ],
   "source": [
    "merge!(d1,d3)"
   ]
  },
  {
   "cell_type": "code",
   "execution_count": 52,
   "metadata": {
    "collapsed": false
   },
   "outputs": [
    {
     "data": {
      "text/plain": [
       "Dict{String,Any} with 5 entries:\n",
       "  \"c\"           => 1.0e-6\n",
       "  \"Resistencia\" => 2000\n",
       "  \"b\"           => 2\n",
       "  \"Amostra\"     => 1\n",
       "  \"a\"           => 1"
      ]
     },
     "execution_count": 52,
     "metadata": {},
     "output_type": "execute_result"
    }
   ],
   "source": [
    "d1"
   ]
  },
  {
   "cell_type": "markdown",
   "metadata": {},
   "source": [
    "** Diferença e interseção entre dicionários**"
   ]
  },
  {
   "cell_type": "code",
   "execution_count": 61,
   "metadata": {
    "collapsed": false
   },
   "outputs": [
    {
     "data": {
      "text/plain": [
       "2-element Array{Pair{A,Any},1}:\n",
       " Pair{Any,Any}(\"Amostra\",1)\n",
       " Pair{Any,Any}(1,\"raio\")   "
      ]
     },
     "execution_count": 61,
     "metadata": {},
     "output_type": "execute_result"
    }
   ],
   "source": [
    "# par (key, valor) diferentes entre d3 e d2\n",
    "setdiff(d3, d2)"
   ]
  },
  {
   "cell_type": "code",
   "execution_count": 64,
   "metadata": {
    "collapsed": false,
    "scrolled": true
   },
   "outputs": [
    {
     "data": {
      "text/plain": [
       "2-element Array{Pair{A,Any},1}:\n",
       " Pair{Int64,Any}(3,\"Julia\") \n",
       " Pair{Int64,Any}(1,\"Maxima\")"
      ]
     },
     "execution_count": 64,
     "metadata": {},
     "output_type": "execute_result"
    }
   ],
   "source": [
    "# par (key, valor) diferentes entre d2 e d3\n",
    "setdiff(d2, d3)"
   ]
  },
  {
   "cell_type": "code",
   "execution_count": 65,
   "metadata": {
    "collapsed": false
   },
   "outputs": [
    {
     "data": {
      "text/plain": [
       "1-element Array{Pair{A,Any},1}:\n",
       " Pair{Int64,Any}(2,2)"
      ]
     },
     "execution_count": 65,
     "metadata": {},
     "output_type": "execute_result"
    }
   ],
   "source": [
    "# # par (key, valor) iguais entre d3 e d2\n",
    "intersect(d2, d3)"
   ]
  },
  {
   "cell_type": "markdown",
   "metadata": {},
   "source": [
    "## CONJUNTOS\n",
    "\n",
    "Um Set é um conjunto de elementos, como uma matriz ou dicionário, sem elementos duplicados. Existe duas duas diferenças importantes entre um conjunto e outros tipos de dados. A primeira é que em um conjunto que você pode ter apenas um de cada elemento, e a segunda é que em um conjunto a ordem dos elementos não é importante (ao passo que uma matriz pode ter várias cópias de um elemento e sua ordem é importante). Sintaxe:\n",
    "```julia\n",
    "Set([valor1, valor2])\n",
    "``` \n",
    "O tipo básico pode ser: inteiro, float, complex... ou any."
   ]
  },
  {
   "cell_type": "code",
   "execution_count": 9,
   "metadata": {
    "collapsed": false
   },
   "outputs": [
    {
     "data": {
      "text/plain": [
       "Set(Any[10,\"Julia\",[1,2,3]])"
      ]
     },
     "execution_count": 9,
     "metadata": {},
     "output_type": "execute_result"
    }
   ],
   "source": [
    "# O conjunto filtra elementos repetidos e permite somente uma entrada única\n",
    "Coisas = Set([\"Julia\" , 10 , [1,2,3], \"Julia\"])"
   ]
  },
  {
   "cell_type": "code",
   "execution_count": 10,
   "metadata": {
    "collapsed": false
   },
   "outputs": [
    {
     "data": {
      "text/plain": [
       "true"
      ]
     },
     "execution_count": 10,
     "metadata": {},
     "output_type": "execute_result"
    }
   ],
   "source": [
    "# verificar se um valor esta contido no conjunto\n",
    "in(\"Julia\", Coisas)"
   ]
  },
  {
   "cell_type": "code",
   "execution_count": 11,
   "metadata": {
    "collapsed": false
   },
   "outputs": [
    {
     "data": {
      "text/plain": [
       "Set(Any[10,\"Sage\",\"Julia\",\n",
       "[7 8 9; 4 5 6],\n",
       "\n",
       "[1,2,3]])"
      ]
     },
     "execution_count": 11,
     "metadata": {},
     "output_type": "execute_result"
    }
   ],
   "source": [
    "# acrescentando elemento\n",
    "push!(Coisas, [7 8 9; 4 5 6], \"Sage\") "
   ]
  },
  {
   "cell_type": "markdown",
   "metadata": {},
   "source": [
    "## LISTAS, ARRAY, VETORES E MATRIZES "
   ]
  },
  {
   "cell_type": "markdown",
   "metadata": {},
   "source": [
    "Um array é uma coleção ordenada de elementos. É muitas vezes indicada com colchetes e itens separados por vírgulas. É possível criar arrays vazios ou arrays que armazenam valores de tipos diferentes ou restritas a valores de um tipo específico.\n",
    "\n",
    "Na linguagem Julia, os arrays são usados para listas, vetores, tabelas e matrizes. Um array unidimensional atua como um vector ou uma lista. Uma array bidimensional pode ser utilizada como uma tabela ou matriz."
   ]
  },
  {
   "cell_type": "markdown",
   "metadata": {},
   "source": [
    "### ARRAY UNIDIMENSIONAL / VETORES"
   ]
  },
  {
   "cell_type": "code",
   "execution_count": 247,
   "metadata": {
    "collapsed": true
   },
   "outputs": [],
   "source": [
    "# Resetar todas a variáveis\n",
    "workspace()"
   ]
  },
  {
   "cell_type": "markdown",
   "metadata": {},
   "source": [
    "* ** Criação de vetores e acesso a dados em um vetor **"
   ]
  },
  {
   "cell_type": "code",
   "execution_count": 3,
   "metadata": {
    "collapsed": false
   },
   "outputs": [
    {
     "data": {
      "text/plain": [
       "0-element Array{Any,1}"
      ]
     },
     "execution_count": 3,
     "metadata": {},
     "output_type": "execute_result"
    }
   ],
   "source": [
    "# vetor vazio\n",
    "v_vaz = []"
   ]
  },
  {
   "cell_type": "code",
   "execution_count": 24,
   "metadata": {
    "collapsed": false,
    "scrolled": true
   },
   "outputs": [
    {
     "data": {
      "text/plain": [
       "5-element Array{Int64,1}:\n",
       " 1\n",
       " 2\n",
       " 3\n",
       " 4\n",
       " 5"
      ]
     },
     "metadata": {},
     "output_type": "display_data"
    },
    {
     "data": {
      "text/plain": [
       "5-element Array{Int64,1}:\n",
       " 1\n",
       " 2\n",
       " 3\n",
       " 4\n",
       " 5"
      ]
     },
     "metadata": {},
     "output_type": "display_data"
    }
   ],
   "source": [
    "# vetor coluna\n",
    "v_col1 = [1, 2, 3, 4, 5, 6, 7]\n",
    "\n",
    "# ou \n",
    "\n",
    "v_col2 = [\"a\";\"b\";\"c\";\"d\";\"e\"]\n",
    "\n",
    "display(a)\n",
    "display(aa)"
   ]
  },
  {
   "cell_type": "code",
   "execution_count": 25,
   "metadata": {
    "collapsed": false
   },
   "outputs": [
    {
     "data": {
      "text/plain": [
       "1×5 Array{Int64,2}:\n",
       " 1  2  3  4  5"
      ]
     },
     "execution_count": 25,
     "metadata": {},
     "output_type": "execute_result"
    }
   ],
   "source": [
    "# Vetor Linha. Vetores linha são bidimensional Array{Tipo_dado,2}\n",
    "v_lin1 = [1 2 3 4 5]"
   ]
  },
  {
   "cell_type": "code",
   "execution_count": 26,
   "metadata": {
    "collapsed": false
   },
   "outputs": [
    {
     "data": {
      "text/plain": [
       "((0,),(7,),(5,),(1,5))"
      ]
     },
     "execution_count": 26,
     "metadata": {},
     "output_type": "execute_result"
    }
   ],
   "source": [
    "# dimensoes do vetor\n",
    "size(v_vaz) , size(v_col1), size(v_col2) , size(v_lin1)"
   ]
  },
  {
   "cell_type": "code",
   "execution_count": 27,
   "metadata": {
    "collapsed": false
   },
   "outputs": [
    {
     "data": {
      "text/plain": [
       "(0,7,5,5)"
      ]
     },
     "execution_count": 27,
     "metadata": {},
     "output_type": "execute_result"
    }
   ],
   "source": [
    "# comprimento do vetor\n",
    "length(v_vaz), length(v_col1) , length(v_col2), length(v_lin1)"
   ]
  },
  {
   "cell_type": "code",
   "execution_count": 28,
   "metadata": {
    "collapsed": false
   },
   "outputs": [
    {
     "data": {
      "text/plain": [
       "5-element Array{Int64,1}:\n",
       " 1\n",
       " 2\n",
       " 3\n",
       " 4\n",
       " 5"
      ]
     },
     "execution_count": 28,
     "metadata": {},
     "output_type": "execute_result"
    }
   ],
   "source": [
    "# transforma o vetor linha ou array (matrix de 1x5 (2 dimensoes)) em um vetor de uma dimensão\n",
    "v_tr = vec(v_lin1)"
   ]
  },
  {
   "cell_type": "code",
   "execution_count": 29,
   "metadata": {
    "collapsed": false
   },
   "outputs": [
    {
     "name": "stdout",
     "output_type": "stream",
     "text": [
      "vetor col 1: Array{Int64,1} , Int64\n",
      "vetor transf: Array{Int64,1} , Int64\n"
     ]
    }
   ],
   "source": [
    "# tipo do vetor e tipo dos elementos do vetor\n",
    "# array (vetor b) de 2 dimensões e agora vetor de 1 dimensão (vetor bb)\n",
    "\n",
    "println(\"vetor col 1: \",typeof(v_col1),\" , \",  eltype(v_col1))\n",
    "println(\"vetor transf: \",typeof(v_tr),\" , \", eltype(v_tr))"
   ]
  },
  {
   "cell_type": "markdown",
   "metadata": {},
   "source": [
    "Para acessar vetores, utilize a sintaxe:\n",
    "```julia\n",
    "vetor[ordem_elemento]\n",
    "```"
   ]
  },
  {
   "cell_type": "code",
   "execution_count": 30,
   "metadata": {
    "collapsed": false
   },
   "outputs": [
    {
     "data": {
      "text/plain": [
       "(1,\"b\",3)"
      ]
     },
     "execution_count": 30,
     "metadata": {},
     "output_type": "execute_result"
    }
   ],
   "source": [
    "v_col1[1] , v_col2[2] , v_lin1[3]"
   ]
  },
  {
   "cell_type": "markdown",
   "metadata": {},
   "source": [
    "* **Vetor aninhado**\n",
    "\n",
    "Vetores aninhados são na verdade listas que possuem estuturas de dados como elementos. Estas estruturas podem ser: outros vetores, matrizes, tuplas, dicionários e outros que a linguagem permitir. A principal vantagem é a organização das informações e acesso rápido. Sintaxe:\n",
    "```julia\n",
    "vetor_aninhado[posição_estrutura_interna][posição_elemento_estrutura]\n",
    "```"
   ]
  },
  {
   "cell_type": "code",
   "execution_count": 127,
   "metadata": {
    "collapsed": false,
    "scrolled": false
   },
   "outputs": [
    {
     "data": {
      "text/plain": [
       "5-element Array{Any,1}:\n",
       " (\"Elementos\",\"Tabela1\")\n",
       " Any[\"Calcio\",20]       \n",
       " Any[\"Sodio\",11]        \n",
       " Any[\"Potassio\",19]     \n",
       " Any[\"Bromo\",5]         "
      ]
     },
     "execution_count": 127,
     "metadata": {},
     "output_type": "execute_result"
    }
   ],
   "source": [
    "van = [(\"Elementos\", \"Tabela1\"), [\"Calcio\", 20] , [\"Sodio\", 11] , [\"Potassio\",19], [\"Bromo\",5 ]]"
   ]
  },
  {
   "cell_type": "code",
   "execution_count": 128,
   "metadata": {
    "collapsed": false
   },
   "outputs": [
    {
     "data": {
      "text/plain": [
       "2-element Array{Any,1}:\n",
       "  \"Bromo\"\n",
       " 5       "
      ]
     },
     "execution_count": 128,
     "metadata": {},
     "output_type": "execute_result"
    }
   ],
   "source": [
    "# acessar o vetor de posição 5 e elemento 2\n",
    "van[5]"
   ]
  },
  {
   "cell_type": "code",
   "execution_count": 41,
   "metadata": {
    "collapsed": false
   },
   "outputs": [
    {
     "data": {
      "text/plain": [
       "5"
      ]
     },
     "execution_count": 41,
     "metadata": {},
     "output_type": "execute_result"
    }
   ],
   "source": [
    "# acessar o vetor de posição 5 e elemento 2\n",
    "van[5][2] "
   ]
  },
  {
   "cell_type": "code",
   "execution_count": 42,
   "metadata": {
    "collapsed": false
   },
   "outputs": [
    {
     "data": {
      "text/plain": [
       "\"Elementos\""
      ]
     },
     "execution_count": 42,
     "metadata": {},
     "output_type": "execute_result"
    }
   ],
   "source": [
    "# acessar a tupla de posição 1 e elemento 1\n",
    "van[1][1]"
   ]
  },
  {
   "cell_type": "markdown",
   "metadata": {},
   "source": [
    "* **Manipulação de Arrays/vetores **\n",
    "\n",
    "Os comandos abaixo não funcionam para vetores linha."
   ]
  },
  {
   "cell_type": "code",
   "execution_count": 255,
   "metadata": {
    "collapsed": false,
    "scrolled": true
   },
   "outputs": [
    {
     "data": {
      "text/plain": [
       "3-element Array{Int64,1}:\n",
       " 1\n",
       " 2\n",
       " 3"
      ]
     },
     "execution_count": 255,
     "metadata": {},
     "output_type": "execute_result"
    }
   ],
   "source": [
    "a = [1,2,3]"
   ]
  },
  {
   "cell_type": "code",
   "execution_count": 256,
   "metadata": {
    "collapsed": false
   },
   "outputs": [
    {
     "data": {
      "text/plain": [
       "3"
      ]
     },
     "execution_count": 256,
     "metadata": {},
     "output_type": "execute_result"
    }
   ],
   "source": [
    "# quantidade de elementos de um vetor ou tamanho do vetor\n",
    "length(a)"
   ]
  },
  {
   "cell_type": "code",
   "execution_count": 257,
   "metadata": {
    "collapsed": false
   },
   "outputs": [
    {
     "data": {
      "text/plain": [
       "4-element Array{Int64,1}:\n",
       "  1\n",
       "  2\n",
       "  3\n",
       " 10"
      ]
     },
     "execution_count": 257,
     "metadata": {},
     "output_type": "execute_result"
    }
   ],
   "source": [
    "# adicionando o elemento 10 e em seguida os elementos -2, -4, 500 e 100 ao final do vetor\n",
    "append!(a,[10])"
   ]
  },
  {
   "cell_type": "code",
   "execution_count": 258,
   "metadata": {
    "collapsed": false,
    "scrolled": true
   },
   "outputs": [
    {
     "data": {
      "text/plain": [
       "8-element Array{Int64,1}:\n",
       "   1\n",
       "   2\n",
       "   3\n",
       "  10\n",
       "  -2\n",
       "  -4\n",
       " 500\n",
       " 100"
      ]
     },
     "execution_count": 258,
     "metadata": {},
     "output_type": "execute_result"
    }
   ],
   "source": [
    "# adicionando os elementos -2, -4, 500 e 100 ao final do vetor\n",
    "append!(a,[-2,-4,500,100])"
   ]
  },
  {
   "cell_type": "code",
   "execution_count": 259,
   "metadata": {
    "collapsed": false
   },
   "outputs": [
    {
     "data": {
      "text/plain": [
       "9-element Array{Int64,1}:\n",
       "   1\n",
       "  55\n",
       "   2\n",
       "   3\n",
       "  10\n",
       "  -2\n",
       "  -4\n",
       " 500\n",
       " 100"
      ]
     },
     "execution_count": 259,
     "metadata": {},
     "output_type": "execute_result"
    }
   ],
   "source": [
    "# adicionando o elemento 55 na posição 2\n",
    "insert!(a,2,55)"
   ]
  },
  {
   "cell_type": "code",
   "execution_count": 260,
   "metadata": {
    "collapsed": false
   },
   "outputs": [
    {
     "data": {
      "text/plain": [
       "11-element Array{Int64,1}:\n",
       "  77\n",
       "  88\n",
       "   1\n",
       "  55\n",
       "   2\n",
       "   3\n",
       "  10\n",
       "  -2\n",
       "  -4\n",
       " 500\n",
       " 100"
      ]
     },
     "execution_count": 260,
     "metadata": {},
     "output_type": "execute_result"
    }
   ],
   "source": [
    "# adicionando o elemento 77 e 88  no início do vetor\n",
    "prepend!(a,[77,88])"
   ]
  },
  {
   "cell_type": "code",
   "execution_count": 261,
   "metadata": {
    "collapsed": false,
    "scrolled": true
   },
   "outputs": [
    {
     "data": {
      "text/plain": [
       "(100,[77,88,1,55,2,3,10,-2,-4,500])"
      ]
     },
     "execution_count": 261,
     "metadata": {},
     "output_type": "execute_result"
    }
   ],
   "source": [
    "# retirando elemento do final do vetor \n",
    "pop!(a), a"
   ]
  },
  {
   "cell_type": "code",
   "execution_count": 262,
   "metadata": {
    "collapsed": false
   },
   "outputs": [
    {
     "data": {
      "text/plain": [
       "(77,[88,1,55,2,3,10,-2,-4,500])"
      ]
     },
     "execution_count": 262,
     "metadata": {},
     "output_type": "execute_result"
    }
   ],
   "source": [
    "# retirando elemento do início do vetor \n",
    "shift!(a), a"
   ]
  },
  {
   "cell_type": "code",
   "execution_count": 263,
   "metadata": {
    "collapsed": false
   },
   "outputs": [
    {
     "data": {
      "text/plain": [
       "8-element Array{Int64,1}:\n",
       "  88\n",
       "   1\n",
       "   2\n",
       "   3\n",
       "  10\n",
       "  -2\n",
       "  -4\n",
       " 500"
      ]
     },
     "execution_count": 263,
     "metadata": {},
     "output_type": "execute_result"
    }
   ],
   "source": [
    "# retirar elemento de uma posição específica. deleteat!(vetor,posição)\n",
    "deleteat!(a,3)"
   ]
  },
  {
   "cell_type": "code",
   "execution_count": 264,
   "metadata": {
    "collapsed": false
   },
   "outputs": [
    {
     "data": {
      "text/plain": [
       "(1,[88,100,1,2,3,10,-2,-4,500])"
      ]
     },
     "execution_count": 264,
     "metadata": {},
     "output_type": "execute_result"
    }
   ],
   "source": [
    "# fatia o vetor na forma splice!(vetor,faixa de posições ou apenas uma posição,novo_vetor). \n",
    "# No exemplo, o vetor [100 1] é colocado na posição 2\n",
    "splice!(a, 2, [100 1]), a"
   ]
  },
  {
   "cell_type": "code",
   "execution_count": 265,
   "metadata": {
    "collapsed": false
   },
   "outputs": [
    {
     "data": {
      "text/plain": [
       "([100,1,2],[88,50,-50,3,10,-2,-4,500])"
      ]
     },
     "execution_count": 265,
     "metadata": {},
     "output_type": "execute_result"
    }
   ],
   "source": [
    "# fatia o vetor na forma splice!(vetor,faixa de posições ou apenas uma posição,novo_vetor).\n",
    "# no exemplo, o vetor [50 -50] é inserido entre as posições 2 a 4\n",
    "splice!(a, 2:4, [50 -50]), a"
   ]
  },
  {
   "cell_type": "code",
   "execution_count": 266,
   "metadata": {
    "collapsed": false,
    "scrolled": false
   },
   "outputs": [
    {
     "data": {
      "text/plain": [
       "5-element Array{Int64,1}:\n",
       "  88\n",
       "  50\n",
       " -50\n",
       "   3\n",
       "  10"
      ]
     },
     "execution_count": 266,
     "metadata": {},
     "output_type": "execute_result"
    }
   ],
   "source": [
    "# Aumentar o tamanho do vetor em 10 posições #undef significa tipo indefinido\n",
    "resize!(a,5)"
   ]
  },
  {
   "cell_type": "code",
   "execution_count": 267,
   "metadata": {
    "collapsed": false
   },
   "outputs": [
    {
     "data": {
      "text/plain": [
       "5-element Array{Int64,1}:\n",
       "  88\n",
       "  50\n",
       " -50\n",
       " 100\n",
       "  10"
      ]
     },
     "execution_count": 267,
     "metadata": {},
     "output_type": "execute_result"
    }
   ],
   "source": [
    "# Alterando o valor do 4 elemento do vetor \"a\"\n",
    "a[4] = 100\n",
    "\n",
    "a"
   ]
  },
  {
   "cell_type": "code",
   "execution_count": 268,
   "metadata": {
    "collapsed": false
   },
   "outputs": [
    {
     "data": {
      "text/plain": [
       "(Int64[],Int64[])"
      ]
     },
     "execution_count": 268,
     "metadata": {},
     "output_type": "execute_result"
    }
   ],
   "source": [
    "# Limpar o vetor \n",
    "empty!(a), a"
   ]
  },
  {
   "cell_type": "markdown",
   "metadata": {},
   "source": [
    "Atenção: o comando `pop` nao serve para vetores linha! Funciona somente para vetores coluna."
   ]
  },
  {
   "cell_type": "markdown",
   "metadata": {},
   "source": [
    "* ** Vetor de dados aleatorio**\n",
    "\n",
    "Julia permite criar vetores aleatórios de vários tipo e formatação. Vejamos alguns:\n",
    "\n",
    "1. rand(número_elementos_vet_coluna) : Para criar um vetor de dados aleatórios entre 0 e 1\n",
    "\n",
    "2. rand(a : b, número_elementos_vet_coluna) : Para criar um vetor de dados aleatórios entre a e b\n",
    "\n",
    "3. randexp(número_elementos_vet_coluna) : \n",
    "\n",
    "4.  randn\n",
    "\n",
    "5. randperm\n",
    "\n",
    "6.  randstring"
   ]
  },
  {
   "cell_type": "code",
   "execution_count": 11,
   "metadata": {
    "collapsed": false,
    "scrolled": true
   },
   "outputs": [
    {
     "data": {
      "text/plain": [
       "3-element Array{Float64,1}:\n",
       " 0.0089814\n",
       " 0.111532 \n",
       " 0.183307 "
      ]
     },
     "execution_count": 11,
     "metadata": {},
     "output_type": "execute_result"
    }
   ],
   "source": [
    "# vetor aleatório float64\n",
    "va = rand(3)"
   ]
  },
  {
   "cell_type": "code",
   "execution_count": 270,
   "metadata": {
    "collapsed": false
   },
   "outputs": [
    {
     "data": {
      "text/plain": [
       "3-element Array{Float64,1}:\n",
       " 0.850728\n",
       " 0.291052\n",
       " 0.459037"
      ]
     },
     "metadata": {},
     "output_type": "display_data"
    },
    {
     "data": {
      "text/plain": [
       "3x1 Array{Float64,2}:\n",
       " 0.00799775\n",
       " 0.00227305\n",
       " 0.981339  "
      ]
     },
     "metadata": {},
     "output_type": "display_data"
    },
    {
     "data": {
      "text/plain": [
       "(3,)"
      ]
     },
     "metadata": {},
     "output_type": "display_data"
    },
    {
     "data": {
      "text/plain": [
       "(3,1)"
      ]
     },
     "metadata": {},
     "output_type": "display_data"
    }
   ],
   "source": [
    "# CUIDADO COM AS DIMENSÕES! VEJA A DIFERENÇA\n",
    "v0 = rand(3)       # vetor unidimensional do tipo float\n",
    "v1 = rand(3,1)     # vetor bidimensional do tipo float\n",
    "\n",
    "display(v0)\n",
    "display(v1)\n",
    "\n",
    "display(size(v0))\n",
    "display(size(v1))"
   ]
  },
  {
   "cell_type": "code",
   "execution_count": 12,
   "metadata": {
    "collapsed": false,
    "scrolled": true
   },
   "outputs": [
    {
     "data": {
      "text/plain": [
       "3-element Array{Int64,1}:\n",
       "  6801825722750884198\n",
       " -8813371183551945043\n",
       " -5345388248383517306"
      ]
     },
     "execution_count": 12,
     "metadata": {},
     "output_type": "execute_result"
    }
   ],
   "source": [
    "# vetor de tipo definido com dados gerados aleatoriamente\n",
    "b = rand(Int64,3)"
   ]
  },
  {
   "cell_type": "code",
   "execution_count": 13,
   "metadata": {
    "collapsed": false
   },
   "outputs": [
    {
     "data": {
      "text/plain": [
       "-8813371183551945043"
      ]
     },
     "execution_count": 13,
     "metadata": {},
     "output_type": "execute_result"
    }
   ],
   "source": [
    "# acessar dado e um vetor\n",
    "b[2]"
   ]
  },
  {
   "cell_type": "code",
   "execution_count": 14,
   "metadata": {
    "collapsed": false
   },
   "outputs": [
    {
     "data": {
      "text/plain": [
       "(3,)"
      ]
     },
     "execution_count": 14,
     "metadata": {},
     "output_type": "execute_result"
    }
   ],
   "source": [
    "# dimensoes do vetor\n",
    "size(b)"
   ]
  },
  {
   "cell_type": "code",
   "execution_count": 15,
   "metadata": {
    "collapsed": false
   },
   "outputs": [
    {
     "data": {
      "text/plain": [
       "3"
      ]
     },
     "execution_count": 15,
     "metadata": {},
     "output_type": "execute_result"
    }
   ],
   "source": [
    "# quantidade de elementos de um vetor ou tamanho do vetor\n",
    "length(b)"
   ]
  },
  {
   "cell_type": "markdown",
   "metadata": {},
   "source": [
    "Informação sobre o tipo do vetor e tipo dos elementos"
   ]
  },
  {
   "cell_type": "markdown",
   "metadata": {},
   "source": [
    "* ** Criando vetores de zeros e uns **"
   ]
  },
  {
   "cell_type": "code",
   "execution_count": 276,
   "metadata": {
    "collapsed": false,
    "scrolled": true
   },
   "outputs": [
    {
     "data": {
      "text/plain": [
       "3-element Array{Float64,1}:\n",
       " 0.0\n",
       " 0.0\n",
       " 0.0"
      ]
     },
     "execution_count": 276,
     "metadata": {},
     "output_type": "execute_result"
    }
   ],
   "source": [
    "# vetor de zeros\n",
    "d = zeros(3)"
   ]
  },
  {
   "cell_type": "code",
   "execution_count": 277,
   "metadata": {
    "collapsed": false
   },
   "outputs": [
    {
     "data": {
      "text/plain": [
       "3-element Array{Float64,1}:\n",
       " 1.0\n",
       " 1.0\n",
       " 1.0"
      ]
     },
     "execution_count": 277,
     "metadata": {},
     "output_type": "execute_result"
    }
   ],
   "source": [
    "# vetor de uns\n",
    "e = ones(3)"
   ]
  },
  {
   "cell_type": "code",
   "execution_count": 278,
   "metadata": {
    "collapsed": false,
    "scrolled": false
   },
   "outputs": [
    {
     "data": {
      "text/plain": [
       "3-element Array{Float64,1}:\n",
       " 1.0\n",
       " 1.0\n",
       " 1.0"
      ]
     },
     "metadata": {},
     "output_type": "display_data"
    },
    {
     "data": {
      "text/plain": [
       "3x1 Array{Float64,2}:\n",
       " 1.0\n",
       " 1.0\n",
       " 1.0"
      ]
     },
     "metadata": {},
     "output_type": "display_data"
    },
    {
     "data": {
      "text/plain": [
       "3-element Array{Int64,1}:\n",
       " 1\n",
       " 1\n",
       " 1"
      ]
     },
     "metadata": {},
     "output_type": "display_data"
    },
    {
     "data": {
      "text/plain": [
       "3-element Array{Float64,1}:\n",
       " 1.0\n",
       " 1.0\n",
       " 1.0"
      ]
     },
     "metadata": {},
     "output_type": "display_data"
    },
    {
     "data": {
      "text/plain": [
       "(3,)"
      ]
     },
     "metadata": {},
     "output_type": "display_data"
    },
    {
     "data": {
      "text/plain": [
       "(3,1)"
      ]
     },
     "metadata": {},
     "output_type": "display_data"
    },
    {
     "data": {
      "text/plain": [
       "(3,)"
      ]
     },
     "metadata": {},
     "output_type": "display_data"
    },
    {
     "data": {
      "text/plain": [
       "(3,)"
      ]
     },
     "metadata": {},
     "output_type": "display_data"
    }
   ],
   "source": [
    "# CUIDADO COM OS TIPOS! VEJA A DIFERENÇA\n",
    "e0 = ones(3)       # vetor unidimensional do tipo float\n",
    "e1 = ones(3,1)     # vetor bidimensional do tipo float\n",
    "e2 = ones(1:3)     # vetor unidimensional do tipo inteiro\n",
    "e3 = ones(1.0:3.0) # vetor unidimensional do tipo float\n",
    "\n",
    "display(e0)\n",
    "display(e1)\n",
    "display(e2)\n",
    "display(e3)\n",
    "\n",
    "display(size(e0))\n",
    "display(size(e1))\n",
    "display(size(e2))\n",
    "display(size(e3))"
   ]
  },
  {
   "cell_type": "markdown",
   "metadata": {},
   "source": [
    "* ** Criando vetores usando o linspace **\n",
    "\n",
    "O comando linspace cria vetores unidimensional ( Array{Tipo_dado,**1**} ). Sintaxe:\n",
    "```julia\n",
    "linspace(incio, fim, partes)\n",
    "```"
   ]
  },
  {
   "cell_type": "code",
   "execution_count": 279,
   "metadata": {
    "collapsed": false
   },
   "outputs": [
    {
     "data": {
      "text/plain": [
       "linspace(1.0,2.0,5)"
      ]
     },
     "execution_count": 279,
     "metadata": {},
     "output_type": "execute_result"
    }
   ],
   "source": [
    "# Criando um vetor de 1 a 2 com 5 partes\n",
    "x = linspace(1, 2, 5)\n",
    "\n",
    "x   # hehehe nao mostra os dados"
   ]
  },
  {
   "cell_type": "code",
   "execution_count": 280,
   "metadata": {
    "collapsed": false
   },
   "outputs": [
    {
     "data": {
      "text/plain": [
       "((5,),LinSpace{Float64})"
      ]
     },
     "execution_count": 280,
     "metadata": {},
     "output_type": "execute_result"
    }
   ],
   "source": [
    "# dimensoes e tipo do vetor\n",
    "size(x), typeof(x)"
   ]
  },
  {
   "cell_type": "code",
   "execution_count": 281,
   "metadata": {
    "collapsed": false
   },
   "outputs": [
    {
     "data": {
      "text/plain": [
       "5"
      ]
     },
     "execution_count": 281,
     "metadata": {},
     "output_type": "execute_result"
    }
   ],
   "source": [
    "# quantidade de elementos de um vetor ou tamanho do vetor\n",
    "length(x)"
   ]
  },
  {
   "cell_type": "code",
   "execution_count": 282,
   "metadata": {
    "collapsed": false
   },
   "outputs": [
    {
     "data": {
      "text/plain": [
       "(1.0,1.25,1.5,1.75,2.0)"
      ]
     },
     "execution_count": 282,
     "metadata": {},
     "output_type": "execute_result"
    }
   ],
   "source": [
    "# acessando dados no vetor x\n",
    "x[1],x[2],x[3],x[4],x[5]"
   ]
  },
  {
   "cell_type": "markdown",
   "metadata": {},
   "source": [
    "* ** Criando vetores usando o collect **\n",
    "\n",
    "O comando **collect** cria vetores unidimensional ( Array{Tipo_dado,**1**} ). Sintaxe:\n",
    "```julia\n",
    "collect(inicio : passo : fim)\n",
    "```"
   ]
  },
  {
   "cell_type": "code",
   "execution_count": 283,
   "metadata": {
    "collapsed": false
   },
   "outputs": [
    {
     "data": {
      "text/plain": [
       "5-element Array{Float64,1}:\n",
       " 1.0 \n",
       " 1.25\n",
       " 1.5 \n",
       " 1.75\n",
       " 2.0 "
      ]
     },
     "execution_count": 283,
     "metadata": {},
     "output_type": "execute_result"
    }
   ],
   "source": [
    "# Criando um vetor de 1 a 2 de 0.25 em 0.25\n",
    "y = collect(1:0.25:2) "
   ]
  },
  {
   "cell_type": "code",
   "execution_count": 284,
   "metadata": {
    "collapsed": false
   },
   "outputs": [
    {
     "data": {
      "text/plain": [
       "(5,)"
      ]
     },
     "execution_count": 284,
     "metadata": {},
     "output_type": "execute_result"
    }
   ],
   "source": [
    "# dimensoes do vetor\n",
    "size(y)"
   ]
  },
  {
   "cell_type": "code",
   "execution_count": 285,
   "metadata": {
    "collapsed": false
   },
   "outputs": [
    {
     "data": {
      "text/plain": [
       "5"
      ]
     },
     "execution_count": 285,
     "metadata": {},
     "output_type": "execute_result"
    }
   ],
   "source": [
    "# quantidade de elementos de um vetor ou tamanho do vetor\n",
    "length(y)"
   ]
  },
  {
   "cell_type": "code",
   "execution_count": 286,
   "metadata": {
    "collapsed": false
   },
   "outputs": [
    {
     "data": {
      "text/plain": [
       "(1.0,1.25,1.5,1.75,2.0)"
      ]
     },
     "execution_count": 286,
     "metadata": {},
     "output_type": "execute_result"
    }
   ],
   "source": [
    "# acessando dados no vetor y\n",
    "y[1],y[2],y[3],y[4],y[5]"
   ]
  },
  {
   "cell_type": "code",
   "execution_count": 287,
   "metadata": {
    "collapsed": false,
    "scrolled": true
   },
   "outputs": [
    {
     "data": {
      "text/plain": [
       "3-element Array{Int64,1}:\n",
       " 1\n",
       " 3\n",
       " 5"
      ]
     },
     "metadata": {},
     "output_type": "display_data"
    },
    {
     "data": {
      "text/plain": [
       "3-element Array{Float64,1}:\n",
       " 1.0\n",
       " 3.0\n",
       " 5.0"
      ]
     },
     "metadata": {},
     "output_type": "display_data"
    },
    {
     "data": {
      "text/plain": [
       "3-element Array{Float64,1}:\n",
       " 1.0\n",
       " 3.0\n",
       " 5.0"
      ]
     },
     "metadata": {},
     "output_type": "display_data"
    },
    {
     "data": {
      "text/plain": [
       "(3,)"
      ]
     },
     "metadata": {},
     "output_type": "display_data"
    },
    {
     "data": {
      "text/plain": [
       "(3,)"
      ]
     },
     "metadata": {},
     "output_type": "display_data"
    },
    {
     "data": {
      "text/plain": [
       "(3,)"
      ]
     },
     "metadata": {},
     "output_type": "display_data"
    }
   ],
   "source": [
    "# CUIDADOS COM OS TIPO! VEJA A DIFERENÇA\n",
    "y0 = collect(1:2:6)   # vetor unidimensional do tipo inteiro\n",
    "y1 = collect(1.0:2:6) # vetor unidimensional do tipo float\n",
    "y2 = collect(1:2.0:6) # vetor unidimensional do tipo float\n",
    "\n",
    "display(y0)\n",
    "display(y1)\n",
    "display(y2)\n",
    "\n",
    "display(size(y0))\n",
    "display(size(y1))\n",
    "display(size(y2))"
   ]
  },
  {
   "cell_type": "markdown",
   "metadata": {},
   "source": [
    "* ** Criando vetores usando o range **\n",
    "\n",
    "Consiste de um conjunto ordenado de elementos,semelhante a um vetor, com cada elemento identificado por um índice. Range cria vetores unidimensionais ( Array{Tipo_dado,**1**} ). Sintaxe:\n",
    "```julia\n",
    "range(inicio,passo, tamanho) \n",
    "ou\n",
    "inicio : passo : tamanho\n",
    "```\n",
    "O tipo básico pode ser: inteiro, float, complex e outros. Não é possível alterar um valor de uma sequencia."
   ]
  },
  {
   "cell_type": "code",
   "execution_count": 288,
   "metadata": {
    "collapsed": false
   },
   "outputs": [
    {
     "data": {
      "text/plain": [
       "0.0:0.1:0.4"
      ]
     },
     "execution_count": 288,
     "metadata": {},
     "output_type": "execute_result"
    }
   ],
   "source": [
    "vr1 = range(0,0.1,5)"
   ]
  },
  {
   "cell_type": "code",
   "execution_count": 289,
   "metadata": {
    "collapsed": false
   },
   "outputs": [
    {
     "ename": "LoadError",
     "evalue": "LoadError: UndefVarError: vr not defined\nwhile loading In[289], in expression starting on line 1",
     "output_type": "error",
     "traceback": [
      "LoadError: UndefVarError: vr not defined\nwhile loading In[289], in expression starting on line 1",
      ""
     ]
    }
   ],
   "source": [
    "typeof(vr)"
   ]
  },
  {
   "cell_type": "code",
   "execution_count": 290,
   "metadata": {
    "collapsed": false
   },
   "outputs": [
    {
     "data": {
      "text/plain": [
       "0.4"
      ]
     },
     "execution_count": 290,
     "metadata": {},
     "output_type": "execute_result"
    }
   ],
   "source": [
    "# acessando elementos \n",
    "vr1[5]"
   ]
  },
  {
   "cell_type": "code",
   "execution_count": 291,
   "metadata": {
    "collapsed": false
   },
   "outputs": [
    {
     "ename": "LoadError",
     "evalue": "LoadError: indexed assignment not defined for FloatRange{Float64}\nwhile loading In[291], in expression starting on line 2",
     "output_type": "error",
     "traceback": [
      "LoadError: indexed assignment not defined for FloatRange{Float64}\nwhile loading In[291], in expression starting on line 2",
      "",
      " in setindex! at ./abstractarray.jl:592"
     ]
    }
   ],
   "source": [
    "# Não é possível alterar o valor de um elemento da range\n",
    "vr1[5] = 0.0"
   ]
  },
  {
   "cell_type": "markdown",
   "metadata": {},
   "source": [
    "Outra forma"
   ]
  },
  {
   "cell_type": "code",
   "execution_count": 292,
   "metadata": {
    "collapsed": false,
    "scrolled": true
   },
   "outputs": [
    {
     "data": {
      "text/plain": [
       "1.0:0.25:2.0"
      ]
     },
     "execution_count": 292,
     "metadata": {},
     "output_type": "execute_result"
    }
   ],
   "source": [
    "# semelhante ao linspace do MatLab\n",
    "vr2 = 1:0.25:2"
   ]
  },
  {
   "cell_type": "code",
   "execution_count": 293,
   "metadata": {
    "collapsed": false
   },
   "outputs": [
    {
     "data": {
      "text/plain": [
       "FloatRange{Float64}"
      ]
     },
     "execution_count": 293,
     "metadata": {},
     "output_type": "execute_result"
    }
   ],
   "source": [
    "typeof(vr2)"
   ]
  },
  {
   "cell_type": "code",
   "execution_count": 294,
   "metadata": {
    "collapsed": false
   },
   "outputs": [
    {
     "data": {
      "text/plain": [
       "(1.0,1.25,1.5,1.75,2.0)"
      ]
     },
     "execution_count": 294,
     "metadata": {},
     "output_type": "execute_result"
    }
   ],
   "source": [
    "# acessando dados no vetor z\n",
    "vr2[1],vr2[2],vr2[3],vr2[4],vr2[5]"
   ]
  },
  {
   "cell_type": "markdown",
   "metadata": {},
   "source": [
    "Cuidados com os tipos"
   ]
  },
  {
   "cell_type": "code",
   "execution_count": 92,
   "metadata": {
    "collapsed": false
   },
   "outputs": [
    {
     "data": {
      "text/plain": [
       "1:1:5"
      ]
     },
     "metadata": {},
     "output_type": "display_data"
    },
    {
     "data": {
      "text/plain": [
       "1.0:1.0:5.0"
      ]
     },
     "metadata": {},
     "output_type": "display_data"
    },
    {
     "data": {
      "text/plain": [
       "StepRange{Int64,Int64}"
      ]
     },
     "metadata": {},
     "output_type": "display_data"
    },
    {
     "data": {
      "text/plain": [
       "FloatRange{Float64}"
      ]
     },
     "metadata": {},
     "output_type": "display_data"
    }
   ],
   "source": [
    "r0 = range(1, 1  , 5) # ranger do tipo inteiro\n",
    "r1 = 1 : 1.0 : 5      # ranger do tipo float, observe o valor 1.0 do tipo float\n",
    "\n",
    "display(r0)\n",
    "display(r1)\n",
    "\n",
    "display(typeof(r0))\n",
    "display(typeof(r1))"
   ]
  },
  {
   "cell_type": "markdown",
   "metadata": {},
   "source": [
    "* ** Criando vetores usando preenchimento **"
   ]
  },
  {
   "cell_type": "code",
   "execution_count": 295,
   "metadata": {
    "collapsed": false,
    "scrolled": true
   },
   "outputs": [
    {
     "data": {
      "text/plain": [
       "1x5 Array{ASCIIString,2}:\n",
       " \"julia\"  \"julia\"  \"julia\"  \"julia\"  \"julia\""
      ]
     },
     "execution_count": 295,
     "metadata": {},
     "output_type": "execute_result"
    }
   ],
   "source": [
    "# cria um vetor linha de 5 elementos preenchidos com a letra a string julia\n",
    "t = fill(\"julia\", 1, 5)"
   ]
  },
  {
   "cell_type": "code",
   "execution_count": 296,
   "metadata": {
    "collapsed": false
   },
   "outputs": [
    {
     "data": {
      "text/plain": [
       "(Array{ASCIIString,2},ASCIIString)"
      ]
     },
     "execution_count": 296,
     "metadata": {},
     "output_type": "execute_result"
    }
   ],
   "source": [
    "# tipo do vetor e tipo dos elementos do vetor\n",
    "typeof(t),eltype(t)"
   ]
  },
  {
   "cell_type": "code",
   "execution_count": 297,
   "metadata": {
    "collapsed": false,
    "scrolled": true
   },
   "outputs": [
    {
     "data": {
      "text/plain": [
       "5"
      ]
     },
     "execution_count": 297,
     "metadata": {},
     "output_type": "execute_result"
    }
   ],
   "source": [
    "# quantidade de elementos de um vetor ou tamanho do vetor\n",
    "length(t)"
   ]
  },
  {
   "cell_type": "markdown",
   "metadata": {},
   "source": [
    "* **Redimensionando vetores **\n",
    "\n",
    "O comando `resize!` cria vetores unidimensionais `( Array{Tipo_dado,**1**} )`"
   ]
  },
  {
   "cell_type": "code",
   "execution_count": 298,
   "metadata": {
    "collapsed": false
   },
   "outputs": [
    {
     "data": {
      "text/plain": [
       "5-element Array{Float64,1}:\n",
       " 1.0\n",
       " 1.5\n",
       " 2.0\n",
       " 0.0\n",
       " 0.0"
      ]
     },
     "execution_count": 298,
     "metadata": {},
     "output_type": "execute_result"
    }
   ],
   "source": [
    "# resize!(vetor,x) Redefine um vetor para um tamanho \"x\". \n",
    "# Se o tamanho do vetor for menor que o tamanho \"x\", é feito o preenchimento adicional \n",
    "# de mais elementos aleatoriamente ao final do vetor.\n",
    "\n",
    "# y é um vetor coluna de 1 até 2 de 0.5 em 0.5, de tamanho 4.\n",
    "y = collect(1:0.5:2)\n",
    "\n",
    "p = resize!(y,5)"
   ]
  },
  {
   "cell_type": "markdown",
   "metadata": {},
   "source": [
    "* ** Acessos especiais **"
   ]
  },
  {
   "cell_type": "code",
   "execution_count": 299,
   "metadata": {
    "collapsed": false
   },
   "outputs": [],
   "source": [
    "v = [1, 2, 3, 4, 5,6,7,8,9,10,11,12,13,14,15]\n",
    "u = [\"a\" \"b\" \"c\" \"d\" \"e\" \"f\" \"g\" \"h\" \"i\" \"j\" \"l\" \"m\" \"n\" \"o\" \"p\"];"
   ]
  },
  {
   "cell_type": "code",
   "execution_count": 300,
   "metadata": {
    "collapsed": false
   },
   "outputs": [
    {
     "data": {
      "text/plain": [
       "([1,3,5,7,9,11,13,15],ASCIIString[\"a\",\"c\",\"e\",\"g\",\"i\",\"l\",\"n\",\"p\"])"
      ]
     },
     "execution_count": 300,
     "metadata": {},
     "output_type": "execute_result"
    }
   ],
   "source": [
    "# imprime os elementos a partir do elemento 1 até o ultimo (end) de 2 em 2 \n",
    "v[1:2:end] , u[1:2:end] "
   ]
  },
  {
   "cell_type": "code",
   "execution_count": 301,
   "metadata": {
    "collapsed": false
   },
   "outputs": [
    {
     "data": {
      "text/plain": [
       "([5,7,9,11,13,15],ASCIIString[\"e\",\"g\",\"i\",\"l\",\"n\",\"p\"])"
      ]
     },
     "execution_count": 301,
     "metadata": {},
     "output_type": "execute_result"
    }
   ],
   "source": [
    "# imprime os elementos a partir do elemento 5 até o ultimo (end) de 2 em 2 \n",
    "v[5:2:end] ,u[5:2:end] "
   ]
  },
  {
   "cell_type": "code",
   "execution_count": 302,
   "metadata": {
    "collapsed": false,
    "scrolled": true
   },
   "outputs": [
    {
     "data": {
      "text/plain": [
       "([1,3,6],ASCIIString[\"a\",\"c\",\"f\"])"
      ]
     },
     "execution_count": 302,
     "metadata": {},
     "output_type": "execute_result"
    }
   ],
   "source": [
    "# imprime na forma de um vetor coluna, os elementos de ordem primeiro, terceiro e sexto\n",
    "v[[1, 3, 6]], u[[1, 3, 6]]"
   ]
  },
  {
   "cell_type": "code",
   "execution_count": 303,
   "metadata": {
    "collapsed": false
   },
   "outputs": [
    {
     "data": {
      "text/plain": [
       "(\n",
       "1x3 Array{Int64,2}:\n",
       " 4  5  6,\n",
       "\n",
       "1x3 Array{ASCIIString,2}:\n",
       " \"d\"  \"e\"  \"f\")"
      ]
     },
     "execution_count": 303,
     "metadata": {},
     "output_type": "execute_result"
    }
   ],
   "source": [
    "# imprime na forma de um vetor linha, os elementos de ordem primeiro, terceiro e sexto\n",
    "v[[4 5 6]], u[[4 5 6]]"
   ]
  },
  {
   "cell_type": "code",
   "execution_count": 304,
   "metadata": {
    "collapsed": false
   },
   "outputs": [
    {
     "data": {
      "text/plain": [
       "([1,4,7,10],ASCIIString[\"a\",\"c\",\"e\",\"g\",\"i\"])"
      ]
     },
     "execution_count": 304,
     "metadata": {},
     "output_type": "execute_result"
    }
   ],
   "source": [
    "# cria um subconjunto coluna do vetor do elemento de posição 1 até o elemento de posição 10 \n",
    "# tomando de 2 em 2 posições\n",
    "sub(v, 1:3:10), sub(u, 1:2:10)"
   ]
  },
  {
   "cell_type": "code",
   "execution_count": 305,
   "metadata": {
    "collapsed": false,
    "scrolled": true
   },
   "outputs": [
    {
     "data": {
      "text/plain": [
       "(15,15)"
      ]
     },
     "execution_count": 305,
     "metadata": {},
     "output_type": "execute_result"
    }
   ],
   "source": [
    "# posição final do vetor\n",
    "endof(v), endof(u)"
   ]
  },
  {
   "cell_type": "markdown",
   "metadata": {},
   "source": [
    "* **Concatenação de vetores **"
   ]
  },
  {
   "cell_type": "code",
   "execution_count": 306,
   "metadata": {
    "collapsed": false,
    "scrolled": true
   },
   "outputs": [
    {
     "data": {
      "text/plain": [
       "1x6 Array{Int64,2}:\n",
       " 1  2  3  4  5  6"
      ]
     },
     "metadata": {},
     "output_type": "display_data"
    },
    {
     "data": {
      "text/plain": [
       "6-element Array{Int64,1}:\n",
       " 1\n",
       " 2\n",
       " 3\n",
       " 4\n",
       " 5\n",
       " 6"
      ]
     },
     "metadata": {},
     "output_type": "display_data"
    }
   ],
   "source": [
    "# concatenação de vetores\n",
    "tta = [1 2 3]\n",
    "ttb = [4 5 6]\n",
    "\n",
    "yya = [1,2,3]\n",
    "yyb = [4,5,6]\n",
    "\n",
    "z = [tta ttb]  # cria um vetor linha\n",
    "\n",
    "x = [yya; yyb]  # cria uma vetor coluna\n",
    "\n",
    "display(z)\n",
    "display(x)"
   ]
  },
  {
   "cell_type": "markdown",
   "metadata": {},
   "source": [
    "* ** Ordenação de vetores **\n",
    "\n",
    "O comando **sort** somente ordena o vetor e **sort!** ordena e substitui os dados do vetor pelos dados ordenados."
   ]
  },
  {
   "cell_type": "code",
   "execution_count": 307,
   "metadata": {
    "collapsed": false,
    "scrolled": false
   },
   "outputs": [
    {
     "name": "stdout",
     "output_type": "stream",
     "text": [
      "vetor normal :[0.81802692036074,0.528389203054072,0.304322354836857]\n",
      "vetor ordenado :[0.304322354836857,0.528389203054072,0.81802692036074]\n"
     ]
    }
   ],
   "source": [
    "# ordenando vetor\n",
    "va = rand(3)\n",
    "\n",
    "println(\"vetor normal :\",va)\n",
    "println(\"vetor ordenado :\",sort(va));"
   ]
  },
  {
   "cell_type": "markdown",
   "metadata": {},
   "source": [
    "* **Filtro aplicado a vetores**\n",
    "\n",
    "Aplica o filtro a uma matriz e imprime somente os valores filtrados. Sintaxe:\n",
    "```julia\n",
    "vetor[vetor .operador_comparação valor]\n",
    "ou \n",
    "vetor[(vetor .operador_comparação valor)operador_logico(vetor .operador_comparação valor)]\n",
    "\n",
    "```"
   ]
  },
  {
   "cell_type": "code",
   "execution_count": 94,
   "metadata": {
    "collapsed": false
   },
   "outputs": [],
   "source": [
    "# definir o vetor numerico\n",
    "vet_num = 1:5;"
   ]
  },
  {
   "cell_type": "code",
   "execution_count": 70,
   "metadata": {
    "collapsed": false,
    "scrolled": true
   },
   "outputs": [
    {
     "data": {
      "text/plain": [
       "2-element Array{Int64,1}:\n",
       " 4\n",
       " 5"
      ]
     },
     "execution_count": 70,
     "metadata": {},
     "output_type": "execute_result"
    }
   ],
   "source": [
    "# filtrar numeros > 3\n",
    "vet_num[vet_num.> 3]"
   ]
  },
  {
   "cell_type": "code",
   "execution_count": 44,
   "metadata": {
    "collapsed": false
   },
   "outputs": [
    {
     "data": {
      "text/plain": [
       "4-element Array{Int64,1}:\n",
       " 1\n",
       " 2\n",
       " 4\n",
       " 5"
      ]
     },
     "execution_count": 44,
     "metadata": {},
     "output_type": "execute_result"
    }
   ],
   "source": [
    "# filtrar numeros diferente de 3\n",
    "vet_num[vet_num.!= 3]"
   ]
  },
  {
   "cell_type": "code",
   "execution_count": 114,
   "metadata": {
    "collapsed": false,
    "scrolled": true
   },
   "outputs": [
    {
     "data": {
      "text/plain": [
       "6-element Array{String,1}:\n",
       " \"julia\" \n",
       " \"sage\"  \n",
       " \"maxima\"\n",
       " \"julia\" \n",
       " \"scilab\"\n",
       " \"fremat\""
      ]
     },
     "execution_count": 114,
     "metadata": {},
     "output_type": "execute_result"
    }
   ],
   "source": [
    "vet_nomes = [\"julia\",\"sage\",\"maxima\",\"julia\",\"scilab\",\"fremat\"]"
   ]
  },
  {
   "cell_type": "code",
   "execution_count": 48,
   "metadata": {
    "collapsed": false
   },
   "outputs": [
    {
     "data": {
      "text/plain": [
       "4-element Array{String,1}:\n",
       " \"sage\"  \n",
       " \"maxima\"\n",
       " \"scilab\"\n",
       " \"fremat\""
      ]
     },
     "execution_count": 48,
     "metadata": {},
     "output_type": "execute_result"
    }
   ],
   "source": [
    "# filtrar nomes diferentes de \"julia\"\n",
    "vet_nomes[vet_nomes.!= \"julia\"]"
   ]
  },
  {
   "cell_type": "code",
   "execution_count": 49,
   "metadata": {
    "collapsed": false
   },
   "outputs": [
    {
     "data": {
      "text/plain": [
       "3-element Array{String,1}:\n",
       " \"sage\"  \n",
       " \"maxima\"\n",
       " \"scilab\""
      ]
     },
     "execution_count": 49,
     "metadata": {},
     "output_type": "execute_result"
    }
   ],
   "source": [
    "#filtar nomes maiores que contenham letra superior a \"j\" da string \"julia\n",
    "vet_nomes[vet_nomes.> \"julia\"]"
   ]
  },
  {
   "cell_type": "code",
   "execution_count": 116,
   "metadata": {
    "collapsed": false,
    "scrolled": true
   },
   "outputs": [
    {
     "data": {
      "text/plain": [
       "3-element Array{String,1}:\n",
       " \"sage\"  \n",
       " \"scilab\"\n",
       " \"fremat\""
      ]
     },
     "execution_count": 116,
     "metadata": {},
     "output_type": "execute_result"
    }
   ],
   "source": [
    "#filtar nomes maiores que contenham \"julia\" e \"maxima\"\n",
    "vet_nomes[(vet_nomes.!= \"julia\")&((vet_nomes.!= \"maxima\"))]"
   ]
  },
  {
   "cell_type": "markdown",
   "metadata": {},
   "source": [
    "* **Criar par de elementos**\n",
    "\n",
    "O comando **zip** cria pares ordenados."
   ]
  },
  {
   "cell_type": "code",
   "execution_count": 113,
   "metadata": {
    "collapsed": false,
    "scrolled": true
   },
   "outputs": [
    {
     "data": {
      "text/plain": [
       "Base.Zip2{Array{Float64,2},Array{Float64,2}}([8.4 9.5 10.6],[8.1 9.2 10.3])"
      ]
     },
     "execution_count": 113,
     "metadata": {},
     "output_type": "execute_result"
    }
   ],
   "source": [
    "vet_a = [8.4 9.5 10.6]\n",
    "vet_b = [8.1 9.2 10.3]\n",
    "\n",
    "pares = zip(vet_a,vet_b)"
   ]
  },
  {
   "cell_type": "code",
   "execution_count": 114,
   "metadata": {
    "collapsed": false,
    "scrolled": true
   },
   "outputs": [
    {
     "data": {
      "text/plain": [
       "Base.Zip2{Array{Float64,2},Array{Float64,2}}"
      ]
     },
     "execution_count": 114,
     "metadata": {},
     "output_type": "execute_result"
    }
   ],
   "source": [
    "typeof(pares)"
   ]
  },
  {
   "cell_type": "code",
   "execution_count": 115,
   "metadata": {
    "collapsed": false,
    "scrolled": false
   },
   "outputs": [
    {
     "data": {
      "text/plain": [
       "1×3 Array{Float64,2}:\n",
       " 8.4  9.5  10.6"
      ]
     },
     "execution_count": 115,
     "metadata": {},
     "output_type": "execute_result"
    }
   ],
   "source": [
    "# Listar elementos do vetor a\n",
    "pares.a"
   ]
  },
  {
   "cell_type": "code",
   "execution_count": 116,
   "metadata": {
    "collapsed": false
   },
   "outputs": [
    {
     "data": {
      "text/plain": [
       "9.5"
      ]
     },
     "execution_count": 116,
     "metadata": {},
     "output_type": "execute_result"
    }
   ],
   "source": [
    "# Acessar elementos do vetor a\n",
    "pares.a[2]"
   ]
  },
  {
   "cell_type": "code",
   "execution_count": 117,
   "metadata": {
    "collapsed": false
   },
   "outputs": [
    {
     "data": {
      "text/plain": [
       "1×3 Array{Float64,2}:\n",
       " 8.1  9.2  10.3"
      ]
     },
     "execution_count": 117,
     "metadata": {},
     "output_type": "execute_result"
    }
   ],
   "source": [
    "# Acessar elementos do vetor b\n",
    "pares.b"
   ]
  },
  {
   "cell_type": "code",
   "execution_count": 118,
   "metadata": {
    "collapsed": false
   },
   "outputs": [
    {
     "data": {
      "text/plain": [
       "(9.5,9.2)"
      ]
     },
     "execution_count": 118,
     "metadata": {},
     "output_type": "execute_result"
    }
   ],
   "source": [
    "# Acessar um par \n",
    "par = pares.a[2],pares.b[2]"
   ]
  },
  {
   "cell_type": "code",
   "execution_count": 119,
   "metadata": {
    "collapsed": false,
    "scrolled": true
   },
   "outputs": [
    {
     "data": {
      "text/plain": [
       "9.5"
      ]
     },
     "execution_count": 119,
     "metadata": {},
     "output_type": "execute_result"
    }
   ],
   "source": [
    "# acessar elemento específico do par\n",
    "par[1]"
   ]
  },
  {
   "cell_type": "code",
   "execution_count": 122,
   "metadata": {
    "collapsed": false
   },
   "outputs": [
    {
     "name": "stdout",
     "output_type": "stream",
     "text": [
      "(8.4,8.1)\n",
      "(9.5,9.2)\n",
      "(10.6,10.3)\n"
     ]
    },
    {
     "data": {
      "text/plain": [
       "1×3 Array{Void,2}:\n",
       " nothing  nothing  nothing"
      ]
     },
     "execution_count": 122,
     "metadata": {},
     "output_type": "execute_result"
    }
   ],
   "source": [
    "# listar todos os elementos usando uma LC\n",
    "[println(i) for i in pares]"
   ]
  },
  {
   "cell_type": "markdown",
   "metadata": {},
   "source": [
    "outra forma usando tupla"
   ]
  },
  {
   "cell_type": "code",
   "execution_count": 11,
   "metadata": {
    "collapsed": false
   },
   "outputs": [
    {
     "data": {
      "text/plain": [
       "((8.4,8.1),(9.5,9.2),(10.6,10.3))"
      ]
     },
     "execution_count": 11,
     "metadata": {},
     "output_type": "execute_result"
    }
   ],
   "source": [
    "pares_novo = ((8.4,8.1), (9.5, 9.2), (10.6, 10.3)) "
   ]
  },
  {
   "cell_type": "code",
   "execution_count": 17,
   "metadata": {
    "collapsed": false
   },
   "outputs": [
    {
     "data": {
      "text/plain": [
       "(10.6,10.3)"
      ]
     },
     "execution_count": 17,
     "metadata": {},
     "output_type": "execute_result"
    }
   ],
   "source": [
    "pares_novo[3]"
   ]
  },
  {
   "cell_type": "code",
   "execution_count": 18,
   "metadata": {
    "collapsed": false
   },
   "outputs": [
    {
     "data": {
      "text/plain": [
       "10.6"
      ]
     },
     "execution_count": 18,
     "metadata": {},
     "output_type": "execute_result"
    }
   ],
   "source": [
    "pares_novo[3][1]"
   ]
  },
  {
   "cell_type": "markdown",
   "metadata": {},
   "source": [
    "* ** Combinação e Permutação de elementos**\n",
    "\n",
    "Em Julia 0.5 ou superior o comando `combinations` pertence ao pacote **Combinatorics.jl**. Para instalar e importar use :\n",
    "```julia\n",
    "Pkg.add(\"Combinatorics\")\n",
    "using Combinatorics\n",
    "```\n",
    "Sintaxe do comando:\n",
    "```julia\n",
    "combinations(vetor,pares)\n",
    "```"
   ]
  },
  {
   "cell_type": "code",
   "execution_count": 21,
   "metadata": {
    "collapsed": false
   },
   "outputs": [
    {
     "data": {
      "text/plain": [
       "6-element Array{Array{Int64,1},1}:\n",
       " [1,2]\n",
       " [1,3]\n",
       " [1,4]\n",
       " [2,3]\n",
       " [2,4]\n",
       " [3,4]"
      ]
     },
     "execution_count": 21,
     "metadata": {},
     "output_type": "execute_result"
    }
   ],
   "source": [
    "using Combinatorics\n",
    "\n",
    "# combinação 2x2\n",
    "vetor = [1,2,3,4]\n",
    "collect(combinations(vetor,2))"
   ]
  },
  {
   "cell_type": "code",
   "execution_count": 74,
   "metadata": {
    "collapsed": false
   },
   "outputs": [
    {
     "data": {
      "text/plain": [
       "4-element Array{Array{Int64,1},1}:\n",
       " [1,2,3]\n",
       " [1,2,4]\n",
       " [1,3,4]\n",
       " [2,3,4]"
      ]
     },
     "execution_count": 74,
     "metadata": {},
     "output_type": "execute_result"
    }
   ],
   "source": [
    "# combinação 3x3\n",
    "collect(combinations(vetor,3)) "
   ]
  },
  {
   "cell_type": "code",
   "execution_count": 73,
   "metadata": {
    "collapsed": false
   },
   "outputs": [
    {
     "data": {
      "text/plain": [
       "24-element Array{Array{Int64,1},1}:\n",
       " [1,2,3,4]\n",
       " [1,2,4,3]\n",
       " [1,3,2,4]\n",
       " [1,3,4,2]\n",
       " [1,4,2,3]\n",
       " [1,4,3,2]\n",
       " [2,1,3,4]\n",
       " [2,1,4,3]\n",
       " [2,3,1,4]\n",
       " [2,3,4,1]\n",
       " [2,4,1,3]\n",
       " [2,4,3,1]\n",
       " [3,1,2,4]\n",
       " [3,1,4,2]\n",
       " [3,2,1,4]\n",
       " [3,2,4,1]\n",
       " [3,4,1,2]\n",
       " [3,4,2,1]\n",
       " [4,1,2,3]\n",
       " [4,1,3,2]\n",
       " [4,2,1,3]\n",
       " [4,2,3,1]\n",
       " [4,3,1,2]\n",
       " [4,3,2,1]"
      ]
     },
     "execution_count": 73,
     "metadata": {},
     "output_type": "execute_result"
    }
   ],
   "source": [
    "# todas as possíveis\n",
    "collect(permutations(vetor))"
   ]
  },
  {
   "cell_type": "markdown",
   "metadata": {},
   "source": [
    "### ARRAY MULTIDIMENSIONAL / MATRIZES"
   ]
  },
  {
   "cell_type": "markdown",
   "metadata": {},
   "source": [
    "* **Criação e acesso a elementos de uma Matrizes**\n",
    "\n",
    "Matrizes são formadas por vetores linhas (matriz 1xn) e a ordem dos elementos segue a lógica de 1 a n (quantidade de elementos) lidos de cima para baixo, coluna por coluna. Sintaxe:\n",
    "```julia\n",
    "[elemento_1_1  elemento_1_2 ... ; elemento_2_1  elemento_2_2...; elemento_n_1  ...  elemento_n_m]\n",
    "```\n",
    "Para acessar elementos de uma matriz temos a sintaxe:\n",
    "```julia\n",
    "matriz[linha, coluna]\n",
    "```"
   ]
  },
  {
   "cell_type": "code",
   "execution_count": 300,
   "metadata": {
    "collapsed": false
   },
   "outputs": [
    {
     "data": {
      "text/plain": [
       "3×3 Array{Int64,2}:\n",
       "  2   4   6\n",
       "  8   9  10\n",
       " 12  14  15"
      ]
     },
     "execution_count": 300,
     "metadata": {},
     "output_type": "execute_result"
    }
   ],
   "source": [
    "#Criando uma matriz 3x3 \n",
    "Ma = [2 4 6 ; 8 9 10 ; 12 14 15]"
   ]
  },
  {
   "cell_type": "code",
   "execution_count": 281,
   "metadata": {
    "collapsed": false
   },
   "outputs": [
    {
     "data": {
      "text/plain": [
       "10"
      ]
     },
     "execution_count": 281,
     "metadata": {},
     "output_type": "execute_result"
    }
   ],
   "source": [
    "# acesso elemento da segunda linha e terceira coluna da matriz\n",
    "Ma[2,3]"
   ]
  },
  {
   "cell_type": "code",
   "execution_count": 282,
   "metadata": {
    "collapsed": false
   },
   "outputs": [
    {
     "data": {
      "text/plain": [
       "3-element Array{Int64,1}:\n",
       " 2\n",
       " 4\n",
       " 6"
      ]
     },
     "execution_count": 282,
     "metadata": {},
     "output_type": "execute_result"
    }
   ],
   "source": [
    "# acessar somente os elementos da primeira linha\n",
    "Ma[1,:]"
   ]
  },
  {
   "cell_type": "code",
   "execution_count": 283,
   "metadata": {
    "collapsed": false
   },
   "outputs": [
    {
     "data": {
      "text/plain": [
       "3-element Array{Int64,1}:\n",
       "  2\n",
       "  8\n",
       " 12"
      ]
     },
     "execution_count": 283,
     "metadata": {},
     "output_type": "execute_result"
    }
   ],
   "source": [
    "# acessar somente os elementos da primeira coluna\n",
    "Ma[:,1]"
   ]
  },
  {
   "cell_type": "markdown",
   "metadata": {},
   "source": [
    "* **Busca por elementos em uma matriz**\n",
    "\n",
    "Comando `in ` procura o elemento e retorna `true`se encontrar ou `false` se não existir.\n",
    "```julia\n",
    "elemento_procurado in Matriz\n",
    "```\n",
    "Comando `find` retorna a ordem do elemento se determinada condição for verdadeira.\n",
    "```julia\n",
    "find(condição , Matriz)\n",
    "```\n",
    "Comando `findoin` retorna somente a ordem dos elementos que existem na matriz. \n",
    "```julia\n",
    "findin(Matriz, [elemento_1, elemento_2 ...])\n",
    "```"
   ]
  },
  {
   "cell_type": "code",
   "execution_count": 284,
   "metadata": {
    "collapsed": false,
    "scrolled": true
   },
   "outputs": [
    {
     "data": {
      "text/plain": [
       "(true,false)"
      ]
     },
     "execution_count": 284,
     "metadata": {},
     "output_type": "execute_result"
    }
   ],
   "source": [
    "# testar se os elementos 2 e 15 fazem parte da matriz\n",
    "(2 in Ma),(in(15, Ma))"
   ]
  },
  {
   "cell_type": "code",
   "execution_count": 306,
   "metadata": {
    "collapsed": false,
    "scrolled": true
   },
   "outputs": [
    {
     "data": {
      "text/plain": [
       "2-element Array{Int64,1}:\n",
       " 5\n",
       " 9"
      ]
     },
     "execution_count": 306,
     "metadata": {},
     "output_type": "execute_result"
    }
   ],
   "source": [
    "# listar a ordem dos elementos impares da matriz Ma\n",
    "find(isodd,Ma)"
   ]
  },
  {
   "cell_type": "code",
   "execution_count": 311,
   "metadata": {
    "collapsed": false
   },
   "outputs": [
    {
     "data": {
      "text/plain": [
       "15"
      ]
     },
     "execution_count": 311,
     "metadata": {},
     "output_type": "execute_result"
    }
   ],
   "source": [
    "# testando\n",
    "Ma[9]"
   ]
  },
  {
   "cell_type": "code",
   "execution_count": 309,
   "metadata": {
    "collapsed": false
   },
   "outputs": [
    {
     "data": {
      "text/plain": [
       "7-element Array{Int64,1}:\n",
       " 1\n",
       " 2\n",
       " 3\n",
       " 4\n",
       " 6\n",
       " 7\n",
       " 8"
      ]
     },
     "execution_count": 309,
     "metadata": {},
     "output_type": "execute_result"
    }
   ],
   "source": [
    "# listar a ordem dos elementos pares da matriz Ma\n",
    "find(iseven,Ma)"
   ]
  },
  {
   "cell_type": "code",
   "execution_count": 310,
   "metadata": {
    "collapsed": false
   },
   "outputs": [
    {
     "data": {
      "text/plain": [
       "12"
      ]
     },
     "execution_count": 310,
     "metadata": {},
     "output_type": "execute_result"
    }
   ],
   "source": [
    "# testando\n",
    "Ma[3]"
   ]
  },
  {
   "cell_type": "code",
   "execution_count": 356,
   "metadata": {
    "collapsed": false
   },
   "outputs": [
    {
     "data": {
      "text/plain": [
       "2-element Array{Int64,1}:\n",
       " 1\n",
       " 9"
      ]
     },
     "execution_count": 356,
     "metadata": {},
     "output_type": "execute_result"
    }
   ],
   "source": [
    "# findin retorna a posição dos elementos da matriz Ma\n",
    "findin(Ma, [2,15])"
   ]
  },
  {
   "cell_type": "code",
   "execution_count": 333,
   "metadata": {
    "collapsed": false
   },
   "outputs": [
    {
     "data": {
      "text/plain": [
       "(2,15)"
      ]
     },
     "execution_count": 333,
     "metadata": {},
     "output_type": "execute_result"
    }
   ],
   "source": [
    "# testando\n",
    "Ma[1], Ma[9]"
   ]
  },
  {
   "cell_type": "code",
   "execution_count": 334,
   "metadata": {
    "collapsed": false,
    "scrolled": true
   },
   "outputs": [
    {
     "data": {
      "text/plain": [
       "(15,9)"
      ]
     },
     "execution_count": 334,
     "metadata": {},
     "output_type": "execute_result"
    }
   ],
   "source": [
    "# retorna o valor máximo e ordem do elemento\n",
    "findmax(Ma)"
   ]
  },
  {
   "cell_type": "code",
   "execution_count": 357,
   "metadata": {
    "collapsed": false,
    "scrolled": true
   },
   "outputs": [
    {
     "data": {
      "text/plain": [
       "(2,1)"
      ]
     },
     "execution_count": 357,
     "metadata": {},
     "output_type": "execute_result"
    }
   ],
   "source": [
    "# retorna o valor mínimo e ordem do elemento\n",
    "findmin(Ma)"
   ]
  },
  {
   "cell_type": "markdown",
   "metadata": {},
   "source": [
    "* **Matriz Aleatória**\n",
    "\n",
    "Julia permite criar matrizes aleatórios de vários tipo e formatação. Vejamos alguns:\n",
    "\n",
    "1. rand(número_elementos_linha, número_elementos_coluna) : Para criar um vetor de dados aleatórios entre 0 e 1\n",
    "\n",
    "2. rand(a : b, número_elementos_linha, número_elementos_coluna) : Para criar um vetor de dados aleatórios entre a e b\n",
    "\n",
    "3. randexp(número_elementos_linha, número_elementos_coluna) : \n",
    "\n",
    "4.  randn()"
   ]
  },
  {
   "cell_type": "code",
   "execution_count": 358,
   "metadata": {
    "collapsed": false
   },
   "outputs": [
    {
     "data": {
      "text/plain": [
       "3×3 Array{Float64,2}:\n",
       " 0.27306   0.976967  0.404116\n",
       " 0.475401  0.398966  0.502539\n",
       " 0.9326    0.143578  0.782139"
      ]
     },
     "execution_count": 358,
     "metadata": {},
     "output_type": "execute_result"
    }
   ],
   "source": [
    "# matriz de números aleatórios entre 0 e 1\n",
    "rand(3,3)"
   ]
  },
  {
   "cell_type": "code",
   "execution_count": 361,
   "metadata": {
    "collapsed": false
   },
   "outputs": [
    {
     "data": {
      "text/plain": [
       "6×6 Array{Int64,2}:\n",
       " 55  42   2  28  50  17\n",
       " 56  38  25  36   6  59\n",
       " 23  14  53  18  56  20\n",
       " 11  17   2  13  56  22\n",
       "  6  11  54  47  23   1\n",
       " 48  39  10  43  49  60"
      ]
     },
     "execution_count": 361,
     "metadata": {},
     "output_type": "execute_result"
    }
   ],
   "source": [
    "# matriz de números aleatórios entre 1 e 60 de tamanho 6x6 (NÚMEROS DA MEGA-SENA)\n",
    "rand(1:60, 6 , 6)"
   ]
  },
  {
   "cell_type": "code",
   "execution_count": 390,
   "metadata": {
    "collapsed": false
   },
   "outputs": [
    {
     "data": {
      "text/plain": [
       "3×3 Array{Float64,2}:\n",
       " 1.72878   0.345531  0.655864\n",
       " 6.36918   1.27563   1.05396 \n",
       " 0.138641  0.75898   2.10599 "
      ]
     },
     "execution_count": 390,
     "metadata": {},
     "output_type": "execute_result"
    }
   ],
   "source": [
    "# matriz de números aleatórios exponenciais\n",
    "randexp(3,3)"
   ]
  },
  {
   "cell_type": "code",
   "execution_count": 389,
   "metadata": {
    "collapsed": false
   },
   "outputs": [
    {
     "data": {
      "text/plain": [
       "3×3 Array{Float64,2}:\n",
       "  0.43042   -0.314809   1.21776 \n",
       " -1.17255   -0.490893  -1.27044 \n",
       "  0.967282  -0.146325  -0.882543"
      ]
     },
     "execution_count": 389,
     "metadata": {},
     "output_type": "execute_result"
    }
   ],
   "source": [
    "# matriz de números aleatórios de distribuição normal\n",
    "randn(3,3)"
   ]
  },
  {
   "cell_type": "markdown",
   "metadata": {},
   "source": [
    "* ** Ordenação de elementos **"
   ]
  },
  {
   "cell_type": "code",
   "execution_count": 333,
   "metadata": {
    "collapsed": false,
    "scrolled": true
   },
   "outputs": [
    {
     "data": {
      "text/plain": [
       "6x6 Array{Int64,2}:\n",
       "  8   4  31  14  17  52\n",
       " 27   1  16  37  22   8\n",
       " 30   3  28  33   4   2\n",
       " 45  36  52  12  59  32\n",
       " 46  51  28  32  58  30\n",
       " 47  43  10  31  42   3"
      ]
     },
     "execution_count": 333,
     "metadata": {},
     "output_type": "execute_result"
    }
   ],
   "source": [
    "# ordena as linhas \n",
    "sortrows(Mad)"
   ]
  },
  {
   "cell_type": "code",
   "execution_count": 334,
   "metadata": {
    "collapsed": false,
    "scrolled": false
   },
   "outputs": [
    {
     "data": {
      "text/plain": [
       "6x6 Array{Int64,2}:\n",
       "  3  10  31  42  43  47\n",
       " 52  31  14  17   4   8\n",
       "  2  28  33   4   3  30\n",
       " 30  28  32  58  51  46\n",
       "  8  16  37  22   1  27\n",
       " 32  52  12  59  36  45"
      ]
     },
     "execution_count": 334,
     "metadata": {},
     "output_type": "execute_result"
    }
   ],
   "source": [
    "# ordena as colunas\n",
    "sortcols(Mad)"
   ]
  },
  {
   "cell_type": "markdown",
   "metadata": {},
   "source": [
    "* ** Matrizes de zeros e uns **"
   ]
  },
  {
   "cell_type": "code",
   "execution_count": 335,
   "metadata": {
    "collapsed": false
   },
   "outputs": [
    {
     "data": {
      "text/plain": [
       "3x3 Array{Float64,2}:\n",
       " 0.0  0.0  0.0\n",
       " 0.0  0.0  0.0\n",
       " 0.0  0.0  0.0"
      ]
     },
     "execution_count": 335,
     "metadata": {},
     "output_type": "execute_result"
    }
   ],
   "source": [
    "# cria uma matriz 3x3 de zeros\n",
    "Mz = zeros(3,3)"
   ]
  },
  {
   "cell_type": "code",
   "execution_count": 336,
   "metadata": {
    "collapsed": false
   },
   "outputs": [
    {
     "data": {
      "text/plain": [
       "3x3 Array{Float64,2}:\n",
       " 1.0  1.0  1.0\n",
       " 1.0  1.0  1.0\n",
       " 1.0  1.0  1.0"
      ]
     },
     "execution_count": 336,
     "metadata": {},
     "output_type": "execute_result"
    }
   ],
   "source": [
    "# cria uma matriz 3x3 de uns\n",
    "Mo = ones(3,3)"
   ]
  },
  {
   "cell_type": "code",
   "execution_count": 337,
   "metadata": {
    "collapsed": false
   },
   "outputs": [
    {
     "data": {
      "text/plain": [
       "3x3 Array{Float64,2}:\n",
       " 1.0  0.0  0.0\n",
       " 0.0  1.0  0.0\n",
       " 0.0  0.0  1.0"
      ]
     },
     "execution_count": 337,
     "metadata": {},
     "output_type": "execute_result"
    }
   ],
   "source": [
    "# cria uma matriz 3x3 identidade\n",
    "Mi = eye(3, 3)"
   ]
  },
  {
   "cell_type": "markdown",
   "metadata": {},
   "source": [
    "* ** Preenchimento de matrizes **"
   ]
  },
  {
   "cell_type": "code",
   "execution_count": 69,
   "metadata": {
    "collapsed": false
   },
   "outputs": [
    {
     "data": {
      "text/plain": [
       "3×3 Array{String,2}:\n",
       " \"julia\"  \"julia\"  \"julia\"\n",
       " \"julia\"  \"julia\"  \"julia\"\n",
       " \"julia\"  \"julia\"  \"julia\""
      ]
     },
     "execution_count": 69,
     "metadata": {},
     "output_type": "execute_result"
    }
   ],
   "source": [
    "# Cria uma matriz 3x3 preenchendo (fill) de strings \"julia\"\n",
    "Mf = fill(\"julia\", 3, 3)"
   ]
  },
  {
   "cell_type": "code",
   "execution_count": 70,
   "metadata": {
    "collapsed": false,
    "scrolled": true
   },
   "outputs": [
    {
     "data": {
      "text/plain": [
       "6×3 Array{Float64,2}:\n",
       " 1.0  1.0  1.0\n",
       " 1.0  1.0  1.0\n",
       " 1.0  1.0  1.0\n",
       " 1.0  1.0  1.0\n",
       " 1.0  1.0  1.0\n",
       " 1.0  1.0  1.0"
      ]
     },
     "execution_count": 70,
     "metadata": {},
     "output_type": "execute_result"
    }
   ],
   "source": [
    "# cria uma matriz repetindo a matriz nxm em x linhas e y colunas.\n",
    "# o comando abaixo cria uma matriz repetindo a matriz de uns 2x2\n",
    "# em 3 linhas e 3 colunas\n",
    "repmat(ones(2), 3, 3)"
   ]
  },
  {
   "cell_type": "code",
   "execution_count": 340,
   "metadata": {
    "collapsed": false,
    "scrolled": true
   },
   "outputs": [
    {
     "data": {
      "text/plain": [
       "5x3 Array{Int64,2}:\n",
       " 1   6  11\n",
       " 2   7  12\n",
       " 3   8  13\n",
       " 4   9  14\n",
       " 5  10  15"
      ]
     },
     "execution_count": 340,
     "metadata": {},
     "output_type": "execute_result"
    }
   ],
   "source": [
    "# cria uma matriz com x*y elementos utilizando um vetor (pode ser range, linspace, rand e outros)\n",
    "# o comando abaixo cria uma matriz de 5 linhas e 3 colunas a partir de um vetor de 15 elementos\n",
    "reshape(1:15, 5, 3)"
   ]
  },
  {
   "cell_type": "markdown",
   "metadata": {},
   "source": [
    "**Repetindo elementos para preencher matrizes**\n",
    "\n",
    "Duas funções úteis para a criação de matrizes: são repmat (A, n, m) e repeat().\n",
    "\n",
    "    A -> matriz\n",
    "    n,m -> quantidade de repetições para n linhas e m colunas "
   ]
  },
  {
   "cell_type": "code",
   "execution_count": 341,
   "metadata": {
    "collapsed": false
   },
   "outputs": [
    {
     "data": {
      "text/plain": [
       "2x3 Array{Int64,2}:\n",
       " 1  2  3\n",
       " 4  5  6"
      ]
     },
     "execution_count": 341,
     "metadata": {},
     "output_type": "execute_result"
    }
   ],
   "source": [
    "A = [1 2 3;4 5 6]"
   ]
  },
  {
   "cell_type": "code",
   "execution_count": 342,
   "metadata": {
    "collapsed": false,
    "scrolled": true
   },
   "outputs": [
    {
     "data": {
      "text/plain": [
       "6x12 Array{Int64,2}:\n",
       " 1  2  3  1  2  3  1  2  3  1  2  3\n",
       " 4  5  6  4  5  6  4  5  6  4  5  6\n",
       " 1  2  3  1  2  3  1  2  3  1  2  3\n",
       " 4  5  6  4  5  6  4  5  6  4  5  6\n",
       " 1  2  3  1  2  3  1  2  3  1  2  3\n",
       " 4  5  6  4  5  6  4  5  6  4  5  6"
      ]
     },
     "execution_count": 342,
     "metadata": {},
     "output_type": "execute_result"
    }
   ],
   "source": [
    "# será repetido as linhas 3 vezes e 4 vezes as colunas.\n",
    "repmat(A, 3, 4)"
   ]
  },
  {
   "cell_type": "markdown",
   "metadata": {},
   "source": [
    "* **Criação de matrizes a partir da concatenação de vetores **"
   ]
  },
  {
   "cell_type": "code",
   "execution_count": 343,
   "metadata": {
    "collapsed": false
   },
   "outputs": [
    {
     "data": {
      "text/plain": [
       "1x3 Array{Int64,2}:\n",
       " 1  2  3"
      ]
     },
     "metadata": {},
     "output_type": "display_data"
    },
    {
     "data": {
      "text/plain": [
       "3-element Array{Int64,1}:\n",
       " 1\n",
       " 2\n",
       " 3"
      ]
     },
     "metadata": {},
     "output_type": "display_data"
    }
   ],
   "source": [
    "v1 = [1 2 3]\n",
    "v2 = [1,2,3]\n",
    "\n",
    "display(v1)\n",
    "display(v2)"
   ]
  },
  {
   "cell_type": "code",
   "execution_count": 344,
   "metadata": {
    "collapsed": false
   },
   "outputs": [
    {
     "data": {
      "text/plain": [
       "1x6 Array{Int64,2}:\n",
       " 1  2  3  1  2  3"
      ]
     },
     "execution_count": 344,
     "metadata": {},
     "output_type": "execute_result"
    }
   ],
   "source": [
    "# matriz 1x6 \n",
    "Mv1 = [v1 v1]"
   ]
  },
  {
   "cell_type": "code",
   "execution_count": 345,
   "metadata": {
    "collapsed": false,
    "scrolled": true
   },
   "outputs": [
    {
     "data": {
      "text/plain": [
       "3x2 Array{Int64,2}:\n",
       " 1  1\n",
       " 2  2\n",
       " 3  3"
      ]
     },
     "execution_count": 345,
     "metadata": {},
     "output_type": "execute_result"
    }
   ],
   "source": [
    "# matriz 3x2 \n",
    "Mv2 = [v2 v2]"
   ]
  },
  {
   "cell_type": "code",
   "execution_count": 346,
   "metadata": {
    "collapsed": false
   },
   "outputs": [
    {
     "data": {
      "text/plain": [
       "2x3 Array{Int64,2}:\n",
       " 1  2  3\n",
       " 1  2  3"
      ]
     },
     "execution_count": 346,
     "metadata": {},
     "output_type": "execute_result"
    }
   ],
   "source": [
    "# matriz 2x3\n",
    "Mv3 = [v1 ; v1]"
   ]
  },
  {
   "cell_type": "code",
   "execution_count": 347,
   "metadata": {
    "collapsed": false
   },
   "outputs": [
    {
     "data": {
      "text/plain": [
       "6-element Array{Int64,1}:\n",
       " 1\n",
       " 2\n",
       " 3\n",
       " 1\n",
       " 2\n",
       " 3"
      ]
     },
     "execution_count": 347,
     "metadata": {},
     "output_type": "execute_result"
    }
   ],
   "source": [
    "# ATENÇÃO: neste caso será criado um vetor\n",
    "# devido a dimensão  Array{Int64,1}\n",
    "Mv4 = [v2 ; v2]"
   ]
  },
  {
   "cell_type": "markdown",
   "metadata": {},
   "source": [
    "* ** Concatenação de matrizes**"
   ]
  },
  {
   "cell_type": "code",
   "execution_count": 189,
   "metadata": {
    "collapsed": false,
    "scrolled": true
   },
   "outputs": [
    {
     "data": {
      "text/plain": [
       "(\n",
       "[1 2 3; 4 5 6],\n",
       "\n",
       "[0 0 0; 1 1 1])"
      ]
     },
     "execution_count": 189,
     "metadata": {},
     "output_type": "execute_result"
    }
   ],
   "source": [
    "# criar as matrizes\n",
    "Mra = [1 2 3 ; 4 5 6 ]\n",
    "Mrb = [0 0 0;1 1 1]\n",
    "\n",
    "Mra, Mrb"
   ]
  },
  {
   "cell_type": "code",
   "execution_count": 190,
   "metadata": {
    "collapsed": false,
    "scrolled": true
   },
   "outputs": [
    {
     "data": {
      "text/plain": [
       "2×6 Array{Int64,2}:\n",
       " 1  2  3  0  0  0\n",
       " 4  5  6  1  1  1"
      ]
     },
     "execution_count": 190,
     "metadata": {},
     "output_type": "execute_result"
    }
   ],
   "source": [
    "# concatenar na horizontal\n",
    "[Mra Mrb]"
   ]
  },
  {
   "cell_type": "code",
   "execution_count": 191,
   "metadata": {
    "collapsed": false
   },
   "outputs": [
    {
     "data": {
      "text/plain": [
       "4×3 Array{Int64,2}:\n",
       " 1  2  3\n",
       " 4  5  6\n",
       " 0  0  0\n",
       " 1  1  1"
      ]
     },
     "execution_count": 191,
     "metadata": {},
     "output_type": "execute_result"
    }
   ],
   "source": [
    "# concatenar na vertical\n",
    "[Mra;Mrb]"
   ]
  },
  {
   "cell_type": "code",
   "execution_count": 351,
   "metadata": {
    "collapsed": false,
    "scrolled": false
   },
   "outputs": [
    {
     "data": {
      "text/plain": [
       "2x4 Array{Int64,2}:\n",
       " 2  0  0  0\n",
       " 5  1  1  1"
      ]
     },
     "execution_count": 351,
     "metadata": {},
     "output_type": "execute_result"
    }
   ],
   "source": [
    "# criar uma matriz utilizando os elementos da segunda linha da matriz Mra\n",
    "# e todos os elementos da matriz Mrb.\n",
    "[Mra[:,2] Mrb]"
   ]
  },
  {
   "cell_type": "markdown",
   "metadata": {},
   "source": [
    "* **Filtro aplicado a uma matriz**\n",
    "\n",
    "Aplica o filtro a uma matriz e imprime somente os valores filtrados. Sintaxe:\n",
    "```julia\n",
    "matriz[matriz .operador_logico valor]\n",
    "```"
   ]
  },
  {
   "cell_type": "code",
   "execution_count": 231,
   "metadata": {
    "collapsed": false,
    "scrolled": true
   },
   "outputs": [
    {
     "data": {
      "text/plain": [
       "3×3 Array{Int64,2}:\n",
       " 6  3  6\n",
       " 9  8  6\n",
       " 5  5  1"
      ]
     },
     "execution_count": 231,
     "metadata": {},
     "output_type": "execute_result"
    }
   ],
   "source": [
    "# criar uma matriz aleatória e cria o vetor\n",
    "# contendo os elementos filtrados menores que 0.2\n",
    "mat_num = rand(1:10,3,3) "
   ]
  },
  {
   "cell_type": "code",
   "execution_count": 232,
   "metadata": {
    "collapsed": false
   },
   "outputs": [
    {
     "data": {
      "text/plain": [
       "4-element Array{Int64,1}:\n",
       " 5\n",
       " 3\n",
       " 5\n",
       " 1"
      ]
     },
     "execution_count": 232,
     "metadata": {},
     "output_type": "execute_result"
    }
   ],
   "source": [
    "# filtrar numeros maiores ou iguais a 5\n",
    "# a instrução \".<\" é necessária para comparar elemento por elemento\n",
    "mat_num[mat_num.<=5]"
   ]
  },
  {
   "cell_type": "code",
   "execution_count": 242,
   "metadata": {
    "collapsed": false
   },
   "outputs": [
    {
     "data": {
      "text/plain": [
       "7-element Array{Int64,1}:\n",
       " 6\n",
       " 9\n",
       " 5\n",
       " 8\n",
       " 5\n",
       " 6\n",
       " 6"
      ]
     },
     "execution_count": 242,
     "metadata": {},
     "output_type": "execute_result"
    }
   ],
   "source": [
    "# filtrar elementos maiores ou igual a 5 E menores ou igual a 8\n",
    "# a instrução \".<\" é necessária para comparar elemento por elemento\n",
    "mat_num[(mat_num.>=5)&(mat_num.<=9)]"
   ]
  },
  {
   "cell_type": "code",
   "execution_count": 243,
   "metadata": {
    "collapsed": false
   },
   "outputs": [
    {
     "data": {
      "text/plain": [
       "5-element Array{Int64,1}:\n",
       " 9\n",
       " 5\n",
       " 3\n",
       " 5\n",
       " 1"
      ]
     },
     "execution_count": 243,
     "metadata": {},
     "output_type": "execute_result"
    }
   ],
   "source": [
    "# filtrar elementos menores ou  igual a 5 OU maiores ou igual a 9\n",
    "# a instrução \".<\" é necessária para comparar elemento por elemento\n",
    "mat_num[(mat_num.<=5)|(mat_num.>=9)]"
   ]
  },
  {
   "cell_type": "markdown",
   "metadata": {},
   "source": [
    "## TIPOS DEFINIDOS PELO PROGRAMADOR##"
   ]
  },
  {
   "cell_type": "code",
   "execution_count": 244,
   "metadata": {
    "collapsed": false,
    "scrolled": true
   },
   "outputs": [],
   "source": [
    "type Amostra\n",
    "    material  ::AbstractString\n",
    "    massa     ::Float64 # kg\n",
    "    volume    ::Float64 # m^3\n",
    "end"
   ]
  },
  {
   "cell_type": "code",
   "execution_count": 245,
   "metadata": {
    "collapsed": false,
    "scrolled": true
   },
   "outputs": [
    {
     "data": {
      "text/plain": [
       "DataType"
      ]
     },
     "execution_count": 245,
     "metadata": {},
     "output_type": "execute_result"
    }
   ],
   "source": [
    "typeof(Amostra)"
   ]
  },
  {
   "cell_type": "code",
   "execution_count": 246,
   "metadata": {
    "collapsed": false
   },
   "outputs": [
    {
     "data": {
      "text/plain": [
       "Amostra(\"isopor\",0.001,0.0001)"
      ]
     },
     "execution_count": 246,
     "metadata": {},
     "output_type": "execute_result"
    }
   ],
   "source": [
    "# criar um elemento do tipo amostra\n",
    "objeto1 = Amostra(\"isopor\", 0.001, 0.0001)"
   ]
  },
  {
   "cell_type": "code",
   "execution_count": 247,
   "metadata": {
    "collapsed": false
   },
   "outputs": [
    {
     "data": {
      "text/plain": [
       "Amostra"
      ]
     },
     "execution_count": 247,
     "metadata": {},
     "output_type": "execute_result"
    }
   ],
   "source": [
    "# conferir tipo\n",
    "typeof(objeto1)"
   ]
  },
  {
   "cell_type": "code",
   "execution_count": 248,
   "metadata": {
    "collapsed": false
   },
   "outputs": [
    {
     "data": {
      "text/plain": [
       "3-element Array{Symbol,1}:\n",
       " :material\n",
       " :massa   \n",
       " :volume  "
      ]
     },
     "execution_count": 248,
     "metadata": {},
     "output_type": "execute_result"
    }
   ],
   "source": [
    "# conferir campos\n",
    "fieldnames(objeto1)"
   ]
  },
  {
   "cell_type": "code",
   "execution_count": 249,
   "metadata": {
    "collapsed": false,
    "scrolled": true
   },
   "outputs": [
    {
     "data": {
      "text/plain": [
       "(0.001,\"isopor\")"
      ]
     },
     "execution_count": 249,
     "metadata": {},
     "output_type": "execute_result"
    }
   ],
   "source": [
    "# conferir atributos do elemento criado\n",
    "objeto1.massa, objeto1.material"
   ]
  },
  {
   "cell_type": "code",
   "execution_count": 250,
   "metadata": {
    "collapsed": false
   },
   "outputs": [
    {
     "data": {
      "text/plain": [
       "0.002"
      ]
     },
     "execution_count": 250,
     "metadata": {},
     "output_type": "execute_result"
    }
   ],
   "source": [
    "# alterar valor atributo massa\n",
    "objeto1.massa = 0.002"
   ]
  },
  {
   "cell_type": "markdown",
   "metadata": {
    "collapsed": true
   },
   "source": [
    "**%%% Fim Tipos de Dados %%%**"
   ]
  },
  {
   "cell_type": "code",
   "execution_count": null,
   "metadata": {
    "collapsed": true
   },
   "outputs": [],
   "source": []
  }
 ],
 "metadata": {
  "anaconda-cloud": {},
  "kernelspec": {
   "display_name": "Julia 0.5.0",
   "language": "julia",
   "name": "julia-0.5"
  },
  "language_info": {
   "file_extension": ".jl",
   "mimetype": "application/julia",
   "name": "julia",
   "version": "0.5.0"
  }
 },
 "nbformat": 4,
 "nbformat_minor": 0
}
