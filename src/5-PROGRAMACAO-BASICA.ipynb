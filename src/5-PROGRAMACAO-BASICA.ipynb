{
 "cells": [
  {
   "cell_type": "markdown",
   "metadata": {},
   "source": [
    "# PROGRAMAÇÃO BÁSICA"
   ]
  },
  {
   "cell_type": "markdown",
   "metadata": {
    "collapsed": true
   },
   "source": []
  },
  {
   "cell_type": "markdown",
   "metadata": {
    "collapsed": true
   },
   "source": [
    "## OPERADORES LÓGIGOS E BOLEANOS"
   ]
  },
  {
   "cell_type": "markdown",
   "metadata": {
    "collapsed": true
   },
   "source": [
    "Todos os operadores de comparação da JULIA retornam TRUE como verdade e FALSE como falso. Resumo:\n",
    "\n",
    "* x <  y   verdade se x é menor que y.\n",
    "* x <= y   verdade se x é menor ou igual a y.\n",
    "* x >= y   verdade se x é maior ou igual a y.\n",
    "* x >  y   verdade se x é maior que y.\n",
    "* x == y   verdade se x é igual a y.\n",
    "* x != y   verdade se x diferente de y\n",
    "* x ~= y   verdade se x é diferente de y."
   ]
  },
  {
   "cell_type": "markdown",
   "metadata": {
    "collapsed": true
   },
   "source": [
    "Principais operadores lógicos:\n",
    "\n",
    "+ |, operador “ou”\n",
    "+ &, operador “e”\n",
    "+ ~ ou !, operador “não”\n",
    "\n",
    "Uma expressão booleana é verdadeira se o resultado do cálculo das combinações lógicas das expressões booleanas for verdadeiro."
   ]
  },
  {
   "cell_type": "markdown",
   "metadata": {},
   "source": [
    "## ESTRUTURAS DE CONTROLE \n",
    "\n",
    "As principais estruturas de controle de fluxo em Julia são: `while, for, do, if, switch(opcional)`"
   ]
  },
  {
   "cell_type": "markdown",
   "metadata": {},
   "source": [
    "### CONDICIONAL \"SE\" (IF) \n",
    "\n",
    "O comando  `sleep(tempo_segundos)` permite controlar o laço em um determinado tempo em segundos.Sintaxe Básica:\n",
    "\n",
    "Apenas `SE`: ${~~~~~~~~~~~~~~~~~~~~~~~~~~~~~~~~~~~~~}$ `SE .. ENTÃO`:${~~~~~~~~~~~~~~~~~~~~~~~}$ `SE ..SENÃO ... ENTÃO`:\n",
    "```julia\n",
    "if condição                   if condição                if condição\n",
    "   instruções                    instruções                 instruções\n",
    "end                              else                       elseif\n",
    "                                     instruções                 instruções\n",
    "                              end                           elseif\n",
    "                                                               :\n",
    "                                                            else\n",
    "                                                                instruções\n",
    "                                                          end\n",
    "                              \n",
    "```"
   ]
  },
  {
   "cell_type": "markdown",
   "metadata": {},
   "source": [
    "**Implementando Laços IF**"
   ]
  },
  {
   "cell_type": "code",
   "execution_count": 1,
   "metadata": {
    "collapsed": false
   },
   "outputs": [
    {
     "data": {
      "text/plain": [
       "(9,9)"
      ]
     },
     "execution_count": 1,
     "metadata": {},
     "output_type": "execute_result"
    }
   ],
   "source": [
    "# Definindo os vetores X e Y\n",
    "x = rand(0:10)\n",
    "\n",
    "y = rand(0:10)\n",
    "\n",
    "x,y"
   ]
  },
  {
   "cell_type": "code",
   "execution_count": 2,
   "metadata": {
    "collapsed": false
   },
   "outputs": [],
   "source": [
    "# se x < y será impresso a mensagem, se ocorrer x > y não será feito nada\n",
    "\n",
    "if x < y\n",
    "    println(\"x é menor que y\")\n",
    "end"
   ]
  },
  {
   "cell_type": "markdown",
   "metadata": {},
   "source": [
    "Melhorando...."
   ]
  },
  {
   "cell_type": "code",
   "execution_count": 46,
   "metadata": {
    "collapsed": false
   },
   "outputs": [
    {
     "name": "stdout",
     "output_type": "stream",
     "text": [
      "x é maior que y .Valor de x: 10 Valor de y: 6\n"
     ]
    }
   ],
   "source": [
    "if x < y\n",
    "    println(\"x é menor que y .\",\"Valor de x: \",x,\" Valor de y: \",y)\n",
    "else\n",
    "    println(\"x é maior que y .\",\"Valor de x: \",x,\" Valor de y: \",y)\n",
    "end"
   ]
  },
  {
   "cell_type": "markdown",
   "metadata": {},
   "source": [
    "Melhorando mais...."
   ]
  },
  {
   "cell_type": "code",
   "execution_count": 12,
   "metadata": {
    "collapsed": false
   },
   "outputs": [
    {
     "name": "stdout",
     "output_type": "stream",
     "text": [
      "x é menor que y .Valor de x: 5 Valor de y: 7\n"
     ]
    }
   ],
   "source": [
    "if x < y\n",
    "  println(\"x é menor que y .\",\"Valor de x: \",x,\" Valor de y: \",y)\n",
    "    \n",
    "elseif x > y\n",
    "  println(\"x é maior que y .\",\"Valor de x: \",x,\" Valor de y: \",y)\n",
    "    \n",
    "else\n",
    "    println(\"x é igual a y .\",\"Valor de x: \",x,\" Valor de y: \",y)\n",
    "end"
   ]
  },
  {
   "cell_type": "markdown",
   "metadata": {
    "collapsed": true
   },
   "source": [
    "**Definindo funções descontínuas**\n",
    " \n",
    "$~\n",
    "f(x) = \\begin{cases}\n",
    "\\cos(x) & x \\geq 0\\\\\n",
    "1 - e^{-1/x^2} & \\text{x < 0}.\n",
    "\\end{cases}\n",
    "~$"
   ]
  },
  {
   "cell_type": "code",
   "execution_count": 47,
   "metadata": {
    "collapsed": false
   },
   "outputs": [
    {
     "name": "stdout",
     "output_type": "stream",
     "text": [
      "f = exp(-1/x^2) = 0.36787944117144233"
     ]
    }
   ],
   "source": [
    "x  = rand(-1:1)\n",
    "\n",
    "if x >= 0\n",
    "    print(\"f = cos(x) = \",cos(x))\n",
    "    \n",
    "elseif x < 0\n",
    "    print(\"f = exp(-1/x^2) = \",exp(-1/x^2))\n",
    "    \n",
    "end"
   ]
  },
  {
   "cell_type": "markdown",
   "metadata": {},
   "source": [
    "### CONDICIONAL \"TROCAR\" (SWITCH) \n",
    "\n",
    "Não existe um comando nativo para \"case\" ou \"swith\". Pode ser utilizado uma sequencia de \"if..elseif..else\" ou instalar o \"case\" do pacote \"Switch\". O comando  `sleep(tempo_segundos)` permite controlar o laço em um determinado tempo em segundos. Sintaxe Básica:\n",
    "\n",
    "```julia\n",
    "SE...SENÃO...ELSE                     SWITCH\n",
    "if variável condição                  variável condição\n",
    "    instruções                        @switch variável begin\n",
    "    elseif variável condição          @case valor variável\n",
    "        instruções                         instruções\n",
    "    elseif variável condição               break\n",
    "        instruções                    @case valor variável\n",
    "    else \t                               instruções\n",
    "        println(\"Não encontrado\")          break\n",
    "                                      @default\n",
    "                                           println(\"Não encontrado\")\n",
    "                                      end\n",
    "```"
   ]
  },
  {
   "cell_type": "markdown",
   "metadata": {},
   "source": [
    "**Implementando SWITCH**"
   ]
  },
  {
   "cell_type": "code",
   "execution_count": 23,
   "metadata": {
    "collapsed": false,
    "scrolled": false
   },
   "outputs": [
    {
     "name": "stdout",
     "output_type": "stream",
     "text": [
      "y vale 2\n"
     ]
    }
   ],
   "source": [
    "y = rand(0:4)\n",
    "\n",
    "if  y == 0\n",
    "    print( \"y vale $y\")\n",
    "    \n",
    "elseif y ==1 \n",
    "    println(\"y vale $y\")\n",
    "    \n",
    "elseif y == 2 \n",
    "    println(\"y vale $y\")\n",
    "else\n",
    "    println(\"Não encontrado.numero acima de 2\")\n",
    "end\n"
   ]
  },
  {
   "cell_type": "code",
   "execution_count": 4,
   "metadata": {
    "collapsed": false,
    "scrolled": true
   },
   "outputs": [
    {
     "ename": "LoadError",
     "evalue": "LoadError: UndefVarError: @switch not defined\nwhile loading In[4], in expression starting on line 5",
     "output_type": "error",
     "traceback": [
      "LoadError: UndefVarError: @switch not defined\nwhile loading In[4], in expression starting on line 5",
      ""
     ]
    }
   ],
   "source": [
    "using Switch\n",
    "\n",
    "y = rand(0:4)\n",
    "\n",
    "@switch y begin\n",
    "    @case 0\n",
    "    print( \"y vale $y\")\n",
    "    break\n",
    "\n",
    "    @case 1\n",
    "    println(\"y vale $y\")\n",
    "    break\n",
    "\n",
    "    @case 2\n",
    "    println(\"y vale $y\")\n",
    "    break\n",
    "\n",
    "    @default\n",
    "    println(\"Não encontrado numero acima de 2\")\n",
    "end"
   ]
  },
  {
   "cell_type": "markdown",
   "metadata": {},
   "source": [
    "### REPETIÇÃO \"PARA\" (FOR) \n",
    "\n",
    "O comando  `sleep(tempo_segundos)` permite controlar o laço em um determinado tempo em segundos.\n",
    "\n",
    "Sintaxe Básica:\n",
    "```julia\n",
    "for var = vetor/matriz/dicionário/conjunto # pode ser também var in semelhante ao  python \n",
    "    instruções var\n",
    "end\n",
    "```"
   ]
  },
  {
   "cell_type": "markdown",
   "metadata": {},
   "source": [
    "**Implementando Laços FOR**"
   ]
  },
  {
   "cell_type": "code",
   "execution_count": 7,
   "metadata": {
    "collapsed": false
   },
   "outputs": [
    {
     "name": "stdout",
     "output_type": "stream",
     "text": [
      "Valor da função sin(x)*cos(x/2)+x: \n",
      "\n",
      "1.7384602626041288 Para x = 1.0\n",
      "2.491295496433882 Para x = 2.0\n",
      "3.0099824344694786 Para x = 3.0\n",
      "4.314940964313378 Para x = 4.0\n",
      "5.768236060439348 Para x = 5.0\n"
     ]
    }
   ],
   "source": [
    "# Laço FOR aplicado a um VETOR\n",
    "print(\"Valor da função sin(x)*cos(x/2)+x: \\n\\n\")\n",
    "x = [1.0, 2.0, 3.0, 4.0, 5.0] \n",
    "\n",
    "for i = 1:length(x)  # pode ser também x in \n",
    "    \n",
    "    println(sin(x[i])*cos(x[i]/2) + x[i],\" Para x = \",x[i])    \n",
    "end"
   ]
  },
  {
   "cell_type": "code",
   "execution_count": 58,
   "metadata": {
    "collapsed": false
   },
   "outputs": [
    {
     "name": "stdout",
     "output_type": "stream",
     "text": [
      "Valor da função sin(x)*cos(x/2)+x: \n",
      "\n",
      "1.7384602626041288 Para x = 1.0\n",
      "2.491295496433882 Para x = 2.0\n",
      "3.0099824344694786 Para x = 3.0\n",
      "4.314940964313378 Para x = 4.0\n",
      "5.768236060439348 Para x = 5.0\n"
     ]
    }
   ],
   "source": [
    "# Laço FOR aplicado a um VETOR\n",
    "print(\"Valor da função sin(x)*cos(x/2)+x: \\n\\n\")\n",
    "x = [1.0, 2.0, 3.0, 4.0, 5.0] \n",
    "\n",
    "for i = x  # pode ser também x in \n",
    "    \n",
    "    println(sin(i)*cos(i/2) + i,\" Para x = \",i)    \n",
    "end"
   ]
  },
  {
   "cell_type": "code",
   "execution_count": 36,
   "metadata": {
    "collapsed": false,
    "scrolled": true
   },
   "outputs": [
    {
     "name": "stdout",
     "output_type": "stream",
     "text": [
      "Valor da função sin(x)*cos(x/2)+x: \n",
      "\n",
      "1.7384602626041288 Para x = 1.0\n",
      "2.491295496433882 Para x = 2.0\n",
      "3.0099824344694786 Para x = 3.0\n",
      "4.314940964313378 Para x = 4.0\n",
      "5.768236060439348 Para x = 5.0\n"
     ]
    }
   ],
   "source": [
    "# Laço FOR aplicado a um VETOR\n",
    "print(\"Valor da função sin(x)*cos(x/2)+x: \\n\\n\")\n",
    "\n",
    "for x = [1.0, 2.0, 3.0, 4.0, 5.0] # pode ser também x in vetor\n",
    "    \n",
    "    println(sin(x)*cos(x/2)+x,\" Para x = \",x)    \n",
    "end"
   ]
  },
  {
   "cell_type": "code",
   "execution_count": 51,
   "metadata": {
    "collapsed": false
   },
   "outputs": [
    {
     "name": "stdout",
     "output_type": "stream",
     "text": [
      "Valor da função sin(x)*cos(x/2)+x: \n",
      "\n",
      "1.7384602626041288 Para x = 1.0\n",
      "2.491295496433882 Para x = 2.0\n",
      "3.0099824344694786 Para x = 3.0\n",
      "4.314940964313378 Para x = 4.0\n",
      "5.768236060439348 Para x = 5.0\n"
     ]
    }
   ],
   "source": [
    "# Laço FOR aplicado a um VETOR e controle de tempo\n",
    "print(\"Valor da função sin(x)*cos(x/2)+x: \\n\\n\")\n",
    "\n",
    "for x = [1.0 2.0 3.0 4.0 5.0] # pode ser também x in vetor\n",
    "    \n",
    "    println(sin(x)*cos(x/2)+x,\" Para x = \",x)\n",
    "    sleep(1)                  # atraso de 1s\n",
    "end"
   ]
  },
  {
   "cell_type": "code",
   "execution_count": 66,
   "metadata": {
    "collapsed": false
   },
   "outputs": [
    {
     "name": "stdout",
     "output_type": "stream",
     "text": [
      "Valor da função sin(x)*cos(x/2)+x: \n",
      "\n",
      "5.768236060439348 Para x = 5\n",
      "4.314940964313378 Para x = 4\n",
      "3.0099824344694786 Para x = 3\n",
      "2.491295496433882 Para x = 2\n",
      "1.7384602626041288 Para x = 1\n"
     ]
    }
   ],
   "source": [
    "# Laço FOR aplicado a um VETOR reverso\n",
    "print(\"Valor da função sin(x)*cos(x/2)+x: \\n\\n\")\n",
    "\n",
    "for x = 5:-1:1 # pode ser também x in vetor\n",
    "    \n",
    "    println(sin(x)*cos(x/2)+x,\" Para x = \",x)\n",
    "    \n",
    "end"
   ]
  },
  {
   "cell_type": "code",
   "execution_count": 59,
   "metadata": {
    "collapsed": false
   },
   "outputs": [
    {
     "name": "stdout",
     "output_type": "stream",
     "text": [
      "\"Sage\"=>10\n",
      "\"Matlab\"=>8\n",
      "\"Julia\"=>10\n"
     ]
    }
   ],
   "source": [
    "# Laço FOR aplicado a um DICIONÁRIO\n",
    "for i = Dict(\"Sage\"=>10, \"Julia\"=>10, \"Matlab\"=>8) # ou i in Dict()\n",
    "    println(i)\n",
    "end"
   ]
  },
  {
   "cell_type": "code",
   "execution_count": 50,
   "metadata": {
    "collapsed": false,
    "scrolled": true
   },
   "outputs": [
    {
     "name": "stdout",
     "output_type": "stream",
     "text": [
      "elemento da linha 1 coluna 1 é :2\n",
      "elemento da linha 1 coluna 2 é :4\n",
      "elemento da linha 2 coluna 1 é :8\n",
      "elemento da linha 2 coluna 2 é :9\n"
     ]
    }
   ],
   "source": [
    "# Laço FOR aplicado a uma MATRIZ\n",
    "mnum = [2 4;8 9]\n",
    "\n",
    "linhas , colunas = size(mnum)\n",
    "\n",
    "for i = 1:linhas    \n",
    "    for j = 1:colunas        \n",
    "        println(\"elemento da linha $i coluna $j é :\",mnum[i,j])\n",
    "    end\n",
    "end"
   ]
  },
  {
   "cell_type": "markdown",
   "metadata": {},
   "source": [
    "Melhorando...."
   ]
  },
  {
   "cell_type": "code",
   "execution_count": 62,
   "metadata": {
    "collapsed": false
   },
   "outputs": [
    {
     "name": "stdout",
     "output_type": "stream",
     "text": [
      "elemento da linha 1 coluna 1 é :2\n",
      "elemento da linha 1 coluna 2 é :4\n",
      "elemento da linha 2 coluna 1 é :8\n",
      "elemento da linha 2 coluna 2 é :9\n"
     ]
    }
   ],
   "source": [
    "linhas,colunas =  size(mnum)\n",
    "\n",
    "for i = 1:linhas , j = 1:colunas\n",
    "    println(\"elemento da linha $i coluna $j é :\",mnum[i,j])\n",
    "end "
   ]
  },
  {
   "cell_type": "markdown",
   "metadata": {},
   "source": [
    "Agora ficou like Python...."
   ]
  },
  {
   "cell_type": "code",
   "execution_count": 50,
   "metadata": {
    "collapsed": false
   },
   "outputs": [
    {
     "name": "stdout",
     "output_type": "stream",
     "text": [
      "elemento  2\n",
      "elemento  8\n",
      "elemento  4\n",
      "elemento  9\n"
     ]
    }
   ],
   "source": [
    "# lendo os elementos colunas por colunas \n",
    "\n",
    "for i = mnum\n",
    "    println(\"elemento  $i\")\n",
    "end"
   ]
  },
  {
   "cell_type": "code",
   "execution_count": 52,
   "metadata": {
    "collapsed": false
   },
   "outputs": [
    {
     "name": "stdout",
     "output_type": "stream",
     "text": [
      "elemento  2\n",
      "elemento  4\n",
      "elemento  8\n",
      "elemento  9\n"
     ]
    }
   ],
   "source": [
    "# lendo os elementos linhas por linhas  (coloque aspas simples para inverter a matriz)\n",
    "\n",
    "for i = mnum'\n",
    "    println(\"elemento  $i\")\n",
    "end"
   ]
  },
  {
   "cell_type": "markdown",
   "metadata": {},
   "source": [
    "**Break e Continue **\n",
    "\n",
    "Sintaxe:\n",
    "```julia\n",
    "for var = vetor # pode ser var in \n",
    "    CONDIÇÃO var\n",
    "        continue/break\n",
    "    end\n",
    "end\n",
    "```"
   ]
  },
  {
   "cell_type": "code",
   "execution_count": 52,
   "metadata": {
    "collapsed": false
   },
   "outputs": [
    {
     "name": "stdout",
     "output_type": "stream",
     "text": [
      "3\n",
      "6\n",
      "9\n"
     ]
    }
   ],
   "source": [
    "# para i de 1 até 10,\n",
    "# se o resto da divisão i por 3 for diferente de zero, \n",
    "# então o loop é parado e retorna para o inicio do FOR\n",
    "# e o loop será continuado até o final se o resto for 0\n",
    "\n",
    "for i = 1:10\n",
    "    if i % 3 != 0\n",
    "        continue\n",
    "    end\n",
    "    println(i)\n",
    "end\n"
   ]
  },
  {
   "cell_type": "code",
   "execution_count": 51,
   "metadata": {
    "collapsed": false,
    "scrolled": true
   },
   "outputs": [
    {
     "name": "stdout",
     "output_type": "stream",
     "text": [
      "1\n",
      "2\n"
     ]
    }
   ],
   "source": [
    "# para i de 1 até 10,\n",
    "# se o resto da divisão i por 3 for igual a zero,então o loop é encerrado\n",
    "\n",
    "for i = 1:10\n",
    "    if i % 3 == 0\n",
    "        break\n",
    "    end\n",
    "    println(i)\n",
    "end"
   ]
  },
  {
   "cell_type": "markdown",
   "metadata": {},
   "source": [
    "**Formas diversas do laço FOR**"
   ]
  },
  {
   "cell_type": "code",
   "execution_count": 28,
   "metadata": {
    "collapsed": false,
    "scrolled": true
   },
   "outputs": [
    {
     "name": "stdout",
     "output_type": "stream",
     "text": [
      "1 * 1 = 1\n",
      "1 * 2 = 2\n",
      "2 * 1 = 2\n",
      "2 * 2 = 4\n"
     ]
    }
   ],
   "source": [
    "for n = 1:2\n",
    "    for m = 1:2\n",
    "        println(\"$n * $m = $(n * m)\")\n",
    "    end\n",
    "end "
   ]
  },
  {
   "cell_type": "code",
   "execution_count": 29,
   "metadata": {
    "collapsed": false,
    "scrolled": true
   },
   "outputs": [
    {
     "name": "stdout",
     "output_type": "stream",
     "text": [
      "1 * 1 = 1\n",
      "1 * 2 = 2\n",
      "2 * 1 = 2\n",
      "2 * 2 = 4\n"
     ]
    }
   ],
   "source": [
    "for n = 1:2, m = 1:2\n",
    "    println(\"$n * $m = $(n * m)\")\n",
    "end "
   ]
  },
  {
   "cell_type": "code",
   "execution_count": 53,
   "metadata": {
    "collapsed": false
   },
   "outputs": [
    {
     "name": "stdout",
     "output_type": "stream",
     "text": [
      "sin(x) * y = 0.8414709848078965\n",
      "sin(x) * y = 1.682941969615793\n",
      "sin(x) * y = 2.5244129544236893\n",
      "sin(x) * y = 0.9092974268256817\n",
      "sin(x) * y = 1.8185948536513634\n",
      "sin(x) * y = 2.727892280477045\n",
      "sin(x) * y = 0.1411200080598672\n",
      "sin(x) * y = 0.2822400161197344\n",
      "sin(x) * y = 0.4233600241796016\n"
     ]
    }
   ],
   "source": [
    "for x = 1:3, y = 1:3\n",
    "    @show (sin(x)*y)\n",
    "end"
   ]
  },
  {
   "cell_type": "code",
   "execution_count": 46,
   "metadata": {
    "collapsed": false,
    "scrolled": false
   },
   "outputs": [
    {
     "name": "stdout",
     "output_type": "stream",
     "text": [
      "1 : julia\n",
      "2 : python\n",
      "3 : sagemath\n",
      "4 : maxima\n",
      "5 : octave\n"
     ]
    }
   ],
   "source": [
    "# (index, value) são nomes obrigatórios para funcionar o laço\n",
    "lista = [\"julia\",\"python\",\"sagemath\",\"maxima\",\"octave\"]\n",
    "\n",
    "for (index, value) =  enumerate(lista) # pode ser (index, value) in\n",
    "           println(\"$index : $value\")\n",
    "end"
   ]
  },
  {
   "cell_type": "code",
   "execution_count": 71,
   "metadata": {
    "collapsed": false
   },
   "outputs": [
    {
     "name": "stdout",
     "output_type": "stream",
     "text": [
      "A capital do Rio é Rio de Janeiro\n",
      "A capital do Piauí é Teresina\n",
      "A capital do Goiás é Goiânia\n"
     ]
    }
   ],
   "source": [
    "# O comando zip agrupa os vetores Estado e Capital formando um conjunto zip\n",
    "Estado   = [\"Rio\", \"Piauí\", \"Goiás\"]\n",
    "Capital  = [\"Rio de Janeiro\", \"Teresina\", \"Goiânia\"]\n",
    "\n",
    "for (i, j) = zip(Estado, Capital)\n",
    "    println(\"A capital do $i é $j\")\n",
    "end"
   ]
  },
  {
   "cell_type": "markdown",
   "metadata": {},
   "source": [
    "**Teste de Benchmark - Método bruto de encontrar raízes de uma função **"
   ]
  },
  {
   "cell_type": "code",
   "execution_count": 54,
   "metadata": {
    "collapsed": false,
    "scrolled": false
   },
   "outputs": [
    {
     "name": "stdout",
     "output_type": "stream",
     "text": [
      "Valor(y):9.740306059824455e-6 . Raiz(x): 2.7049957\n",
      "Valor(y):8.674175502876302e-6 . Raiz(x): 2.7049958\n",
      "Valor(y):7.608044814588766e-6 . Raiz(x): 2.7049959\n",
      "Valor(y):6.541914004620786e-6 . Raiz(x): 2.704996\n",
      "Valor(y):5.475783068753515e-6 . Raiz(x): 2.7049961\n",
      "Valor(y):4.409652002768105e-6 . Raiz(x): 2.7049962\n",
      "Valor(y):3.3435208148802076e-6 . Raiz(x): 2.7049963\n",
      "Valor(y):2.277389497873372e-6 . Raiz(x): 2.7049964\n",
      "Valor(y):1.2112580597412048e-6 . Raiz(x): 2.7049965\n",
      "Valor(y):1.4512649515463494e-7 . Raiz(x): 2.7049966\n",
      "Valor(y):-9.210052007713188e-7 . Raiz(x): 2.7049967\n",
      "Valor(y):-1.987137017267493e-6 . Raiz(x): 2.7049968\n",
      "Valor(y):-3.0532689595519358e-6 . Raiz(x): 2.7049969\n",
      "Valor(y):-4.119401031843495e-6 . Raiz(x): 2.704997\n",
      "Valor(y):-5.185533225260386e-6 . Raiz(x): 2.7049971\n",
      "Valor(y):-6.251665550238705e-6 . Raiz(x): 2.7049972\n",
      "Valor(y):-7.317797995454178e-6 . Raiz(x): 2.7049973\n",
      "Valor(y):-8.383930566346898e-6 . Raiz(x): 2.7049974\n",
      "Valor(y):-9.450063268801046e-6 . Raiz(x): 2.7049975\n",
      "Valor(y):-7.590782038102706e-6 . Raiz(x): 5.3532571\n",
      "Valor(y):-3.6385925555881826e-6 . Raiz(x): 5.3532572\n",
      "Valor(y):3.1359732044489164e-7 . Raiz(x): 5.3532573\n",
      "Valor(y):4.265787563462187e-6 . Raiz(x): 5.3532574\n",
      "Valor(y):8.217978133051584e-6 . Raiz(x): 5.3532575\n",
      "Valor(y):6.8027580107932195e-6 . Raiz(x): 8.7264678\n",
      "Valor(y):-3.9670163555216575e-6 . Raiz(x): 8.7264679\n",
      " 38.038810 seconds (1.26 G allocations: 20.117 GB, 3.49% gc time)\n"
     ]
    }
   ],
   "source": [
    "# Método bruto de encontrar raízes de uma função\n",
    "x = 1.0:0.0000001:10.0\n",
    "\n",
    "@time begin\n",
    "\n",
    "for k = x\n",
    "    if abs(sin(k)*k^2 + cos(k)*k^2 + k + cos(sin(k))^2) < 0.00001\n",
    "        println(\"Valor(y):\",sin(k)*k^2 + cos(k)*k^2 + k + cos(sin(k))^2,\" . Raiz(x): \",k)        \n",
    "    end\n",
    "end\n",
    "    \n",
    "end"
   ]
  },
  {
   "cell_type": "markdown",
   "metadata": {},
   "source": [
    "Foram encontradas 3 raízes: 2.70499, 5.35325 e 8.726468\n",
    "\n",
    "."
   ]
  },
  {
   "cell_type": "markdown",
   "metadata": {},
   "source": [
    "**Resolução de Sistemas Lineares pelo Método de Gauss**"
   ]
  },
  {
   "cell_type": "code",
   "execution_count": 7,
   "metadata": {
    "collapsed": false,
    "scrolled": false
   },
   "outputs": [
    {
     "name": "stdout",
     "output_type": "stream",
     "text": [
      "[-0.555208,-0.57863,0.0223168]"
     ]
    }
   ],
   "source": [
    "#********** PROGRAMA ELIMINAÇÃO PELO MÉTODO DE GAUSS ************* \n",
    "\n",
    "A = [4.1 -5.4 6.8;7.8 -8 -9;-17 4 1] # use numeros decimais mesmo que sejam inteiros\n",
    "b = [1.0,2.0,3.0]                    # use numeros decimais mesmo que sejam inteiros\n",
    "\n",
    "m = 0\n",
    "al,ac = size(A)\n",
    "x = zeros(al) # pré alocação da matrix x\n",
    "\n",
    "#********** ESCALONAMENTO ************* \n",
    "\n",
    "# Aqui é escolhido o pivo e a matriz é escalonada\n",
    "\n",
    "for k = 1:(al-1)\n",
    "    \n",
    "    for i = (k+1):al\n",
    "       \n",
    "        m = A[i,k]/(A[k,k])\n",
    "        A[i,k] = 0\n",
    "        for j = (k+1):al\n",
    "            \n",
    "            A[i,j] = A[i,j] - m*A[k,j]\n",
    "            b[i] = b[i] - m*b[k]\n",
    "        end\n",
    "    end\n",
    "end\n",
    "\n",
    "# aqui os valores do vetor solução X são calculados\n",
    "\n",
    "x[al] = b[al]/(A[al,al])\n",
    "\n",
    "for k = (al-1):-1:1    \n",
    "    s = 0\n",
    "    for j = (k+1):al\n",
    "       s = s+A[k,j]*x[j]\n",
    "    end\n",
    "       x[k] = (b[k]-s)/A[k,k]    \n",
    "end\n",
    "\n",
    "print(x)"
   ]
  },
  {
   "cell_type": "markdown",
   "metadata": {},
   "source": [
    "#### LIST COMPREHENSIONS (LC)\n",
    "\n",
    "\n",
    "\n",
    "Uma compreensão de lista é uma construção sintática disponível em algumas linguagens de programação para criação de uma lista baseada em listas existentes. Ela segue a forma da notação de definição de conjunto matemática (compreensão de conjunto) como forma distinta para uso de funções map e filter. **Fonte: wikipedia**. Sintaxe genérica:\n",
    "```julia\n",
    "[expressao_var for var = vetor] # resultado é um vetor.\n",
    "\n",
    "[expressao_var for var_1 = vetor, var_2 = vetor] # resultado é uma matriz.\n",
    "\n",
    "[expressao_var for var_1 = vetor for var_2 = vetor] # resultado é um vetor.\n",
    "\n",
    "[expressao_var for var_1 = vetor if condição] # resultado é um vetor.\n",
    "```"
   ]
  },
  {
   "cell_type": "code",
   "execution_count": 41,
   "metadata": {
    "collapsed": false
   },
   "outputs": [
    {
     "data": {
      "text/plain": [
       "5-element Array{Int64,1}:\n",
       "  1\n",
       "  4\n",
       "  9\n",
       " 16\n",
       " 25"
      ]
     },
     "execution_count": 41,
     "metadata": {},
     "output_type": "execute_result"
    }
   ],
   "source": [
    "[x^2 for x = 1:5 ]"
   ]
  },
  {
   "cell_type": "code",
   "execution_count": 54,
   "metadata": {
    "collapsed": false
   },
   "outputs": [
    {
     "data": {
      "text/plain": [
       "3×4 Array{Int64,2}:\n",
       " 3   4   5   6\n",
       " 6   8  10  12\n",
       " 9  12  15  18"
      ]
     },
     "execution_count": 54,
     "metadata": {},
     "output_type": "execute_result"
    }
   ],
   "source": [
    "# corresponde a FOR dentro de outro FOR e retorna os resultado em vetores linha\n",
    "[x*y for x = 1:3, y = 3:6]"
   ]
  },
  {
   "cell_type": "code",
   "execution_count": 40,
   "metadata": {
    "collapsed": false
   },
   "outputs": [
    {
     "data": {
      "text/plain": [
       "12-element Array{Int64,1}:\n",
       "  3\n",
       "  4\n",
       "  5\n",
       "  6\n",
       "  6\n",
       "  8\n",
       " 10\n",
       " 12\n",
       "  9\n",
       " 12\n",
       " 15\n",
       " 18"
      ]
     },
     "execution_count": 40,
     "metadata": {},
     "output_type": "execute_result"
    }
   ],
   "source": [
    "# corresponde a FOR dentro de outro FOR e retorna os resltado em um vetor\n",
    "[x*y for x = 1:3 for y = 3:6]"
   ]
  },
  {
   "cell_type": "code",
   "execution_count": 53,
   "metadata": {
    "collapsed": false,
    "scrolled": true
   },
   "outputs": [
    {
     "data": {
      "text/plain": [
       "7-element Array{Int64,1}:\n",
       " 21\n",
       " 23\n",
       " 25\n",
       " 27\n",
       " 29\n",
       " 31\n",
       " 33"
      ]
     },
     "execution_count": 53,
     "metadata": {},
     "output_type": "execute_result"
    }
   ],
   "source": [
    "x = [10, 11, 12, 13, 14, 15, 16, 17]\n",
    "\n",
    "[ x[i] + x[i-1] for i = 2:length(x) ]"
   ]
  },
  {
   "cell_type": "code",
   "execution_count": 48,
   "metadata": {
    "collapsed": false
   },
   "outputs": [
    {
     "data": {
      "text/plain": [
       "6-element Array{Int64,1}:\n",
       "   10\n",
       "   18\n",
       "   50\n",
       "   64\n",
       "  110\n",
       " 1020"
      ]
     },
     "execution_count": 48,
     "metadata": {},
     "output_type": "execute_result"
    }
   ],
   "source": [
    "# LC com filtro \n",
    "# Filtrar valores maiores que 4\n",
    "# O ponto \".\" é necessáriopara comparar elemento por elemento\n",
    "\n",
    "x = [1, 2, 3, 4, 5, 9, 25, 32, 55, 510]\n",
    "\n",
    "[y*2 for y = x[x .> 4]]"
   ]
  },
  {
   "cell_type": "code",
   "execution_count": 46,
   "metadata": {
    "collapsed": false
   },
   "outputs": [
    {
     "data": {
      "text/plain": [
       "6-element Array{Int64,1}:\n",
       "   10\n",
       "   18\n",
       "   50\n",
       "   64\n",
       "  110\n",
       " 1020"
      ]
     },
     "execution_count": 46,
     "metadata": {},
     "output_type": "execute_result"
    }
   ],
   "source": [
    "# LC com filtro \n",
    "# Filtrar valores maiores que 4\n",
    "# O ponto \".\" é necessáriopara comparar elemento por elemento\n",
    "\n",
    "x = [1, 2, 3, 4, 5, 9, 25, 32, 55, 510]\n",
    "\n",
    "[y*2 for y = x if y > 4]"
   ]
  },
  {
   "cell_type": "code",
   "execution_count": 18,
   "metadata": {
    "collapsed": false,
    "scrolled": true
   },
   "outputs": [
    {
     "data": {
      "text/plain": [
       "4-element Array{Int64,1}:\n",
       " 10\n",
       " 18\n",
       " 50\n",
       " 64"
      ]
     },
     "execution_count": 18,
     "metadata": {},
     "output_type": "execute_result"
    }
   ],
   "source": [
    "# filtrar valores maiores que 4 e menores que 55\n",
    "# O ponto \".\" é necessáriopara comparar elemento por elemento\n",
    "x = [1, 2, 3, 4, 5, 9, 25, 32, 55, 510]\n",
    "\n",
    "[y*2 for y = x[(x.> 4)&(x.< 55)]]"
   ]
  },
  {
   "cell_type": "markdown",
   "metadata": {},
   "source": []
  },
  {
   "cell_type": "markdown",
   "metadata": {},
   "source": [
    "### REPETIÇÃO \"ENQUANTO\" (WHILE)\n",
    "\n",
    "O comando  `sleep(tempo_segundos)` permite controlar o laço em um determinado tempo em segundos.\n",
    "Sintaxe Básica:\n",
    "```julia\n",
    "while condição \n",
    "    instruções\n",
    "end\n",
    "```"
   ]
  },
  {
   "cell_type": "markdown",
   "metadata": {},
   "source": [
    "**Implementando Laços WHILE**"
   ]
  },
  {
   "cell_type": "code",
   "execution_count": 43,
   "metadata": {
    "collapsed": false,
    "scrolled": false
   },
   "outputs": [
    {
     "name": "stdout",
     "output_type": "stream",
     "text": [
      "0\n",
      "1\n",
      "2\n",
      "3\n",
      "4\n",
      "5\n"
     ]
    }
   ],
   "source": [
    "# conta enquanto \"a\" menor ou igual a 5.\n",
    "a = 0\n",
    "\n",
    "while a <= 5    \n",
    "    println(a)\n",
    "    a = a + 1    \n",
    "end"
   ]
  },
  {
   "cell_type": "code",
   "execution_count": 60,
   "metadata": {
    "collapsed": false
   },
   "outputs": [
    {
     "name": "stdout",
     "output_type": "stream",
     "text": [
      "0\n",
      "1\n",
      "2\n",
      "3\n",
      "4\n"
     ]
    }
   ],
   "source": [
    "# conta enquanto \"a\" menor ou igual a 5.\n",
    "a = 0\n",
    "b = 1:5\n",
    "while  a < length(b) \n",
    "    println(a)\n",
    "    a = a + 1    \n",
    "end"
   ]
  },
  {
   "cell_type": "code",
   "execution_count": 33,
   "metadata": {
    "collapsed": false
   },
   "outputs": [
    {
     "name": "stdout",
     "output_type": "stream",
     "text": [
      "0\n",
      "1\n",
      "2\n",
      "3\n",
      "4\n",
      "5\n"
     ]
    }
   ],
   "source": [
    "# controlando o laço com sleep\n",
    "a = 0\n",
    "\n",
    "while a <= 5   \n",
    "    sleep(1)\n",
    "    println(a)\n",
    "    a = a+1    \n",
    "end"
   ]
  },
  {
   "cell_type": "markdown",
   "metadata": {},
   "source": [
    "**Continue e Break** \n",
    "\n",
    "```julia\n",
    "while condição \n",
    "    CONDIÇÃO \n",
    "        break/continue\n",
    "    end\n",
    "end\n",
    "```"
   ]
  },
  {
   "cell_type": "code",
   "execution_count": 16,
   "metadata": {
    "collapsed": false,
    "scrolled": false
   },
   "outputs": [
    {
     "name": "stdout",
     "output_type": "stream",
     "text": [
      "0\n",
      "1\n",
      "2\n"
     ]
    }
   ],
   "source": [
    "# conta enquanto \"a\" menor ou igual a 5. \n",
    "# se \"a\" dividido por 3 for diferente de 0 para!\n",
    "\n",
    "a = 0\n",
    "\n",
    "while a <= 10    \n",
    "    println(a)\n",
    "    a = a + 1    \n",
    "    if a % 3 == 0\n",
    "        break\n",
    "    end    \n",
    "end"
   ]
  },
  {
   "cell_type": "markdown",
   "metadata": {},
   "source": [
    "**Método da Bisseção**"
   ]
  },
  {
   "cell_type": "code",
   "execution_count": 45,
   "metadata": {
    "collapsed": false
   },
   "outputs": [
    {
     "name": "stdout",
     "output_type": "stream",
     "text": [
      "interação: 0 : 2.25, valor função: 0.5625\n",
      "interação: 1 : 1.875, valor função: -0.234375\n",
      "interação: 2 : 2.0625, valor função: 0.12890625\n",
      "interação: 3 : 1.96875, valor função: -0.0615234375\n",
      "interação: 4 : 2.015625, valor função: 0.031494140625\n",
      "interação: 5 : 1.9921875, valor função: -0.01556396484375\n",
      "interação: 6 : 2.00390625, valor função: 0.0078277587890625\n",
      "interação: 7 : 1.998046875, valor função: -0.003902435302734375\n",
      "interação: 8 : 2.0009765625, valor função: 0.0019540786743164062\n",
      "interação: 9 : 1.99951171875, valor função: -0.0009763240814208984\n",
      "interação: 10 : 2.000244140625, valor função: 0.0004883408546447754\n",
      "interação: 11 : 1.9998779296875, valor função: -0.00024412572383880615\n",
      "interação: 12 : 2.00006103515625, valor função: 0.00012207403779029846\n",
      "interação: 13 : 1.999969482421875, valor função: -6.1034224927425385e-5\n"
     ]
    }
   ],
   "source": [
    "\"\"\"\n",
    "Metodo da Bisseccao\n",
    "\n",
    "Calcula uma aproximação para uma raiz da função de f(x)\n",
    "\n",
    "Entre os intervalo [ao,bo] e a tolerencia de erro daddo por tol.\n",
    "\n",
    "adaptado de http://goo.gl/pQNh6z \n",
    "\n",
    "\"\"\"\n",
    "a   = 1.5\n",
    "b   = 3.0\n",
    "tol = 0.0001\n",
    "iteracao = 0\n",
    "\n",
    "if (a^2 - 2*a)*(b^2 - 2*b) > 0 \n",
    "        println(\"Não há raiz no intervalo\")\n",
    "        \n",
    "    else\n",
    "        x_medio = (a + b)/2\n",
    "        err = abs(x_medio^2 - 2*x_medio)\n",
    "        \n",
    "        while err > tol\n",
    "            println(\"interação: \", iteracao , \" : \", x_medio, \", valor função: \",x_medio^2 - 2*x_medio)\n",
    "            \n",
    "            if (a^2 - 2*a)*(x_medio^2 - 2*x_medio) < 0 \n",
    "                b = x_medio\n",
    "            else\n",
    "                a = x_medio\n",
    "            end\n",
    "            \n",
    "            x_medio = (a + b)/2\n",
    "            err = abs(x_medio^2 - 2*x_medio)\n",
    "            iteracao = iteracao + 1\n",
    "            \n",
    "        end\n",
    "        \n",
    "    println(\"interação: \", iteracao , \" : \", x_medio, \", valor função: \",x_medio^2 - 2*x_medio)\n",
    "          \n",
    "end"
   ]
  },
  {
   "cell_type": "markdown",
   "metadata": {},
   "source": []
  },
  {
   "cell_type": "markdown",
   "metadata": {},
   "source": [
    "### REPETIÇÃO \"FAÇA ATÉ QUE\" (DO...UNTIL)\n",
    "\n",
    "Sintaxe Básica:\n",
    "```julia\n",
    "comando_execução/função do\n",
    "  instruções\n",
    "  até que (condição)\n",
    "end\n",
    "```"
   ]
  },
  {
   "cell_type": "markdown",
   "metadata": {},
   "source": [
    "**Implementando Laços DO..UNTIL**"
   ]
  },
  {
   "cell_type": "code",
   "execution_count": 147,
   "metadata": {
    "collapsed": false,
    "scrolled": true
   },
   "outputs": [
    {
     "data": {
      "text/plain": [
       "1-element Array{Int64,1}:\n",
       " 41"
      ]
     },
     "execution_count": 147,
     "metadata": {},
     "output_type": "execute_result"
    }
   ],
   "source": [
    "# find retorna o indice do vetor quando encontrar o valor igual a 5\n",
    "numeros = 1:0.1:20\n",
    "\n",
    "find(numeros) do valor\n",
    "    valor == 5\n",
    "    \n",
    "end"
   ]
  },
  {
   "cell_type": "code",
   "execution_count": 95,
   "metadata": {
    "collapsed": false,
    "scrolled": false
   },
   "outputs": [
    {
     "data": {
      "text/plain": [
       "5.0"
      ]
     },
     "execution_count": 95,
     "metadata": {},
     "output_type": "execute_result"
    }
   ],
   "source": [
    "numeros[41]"
   ]
  },
  {
   "cell_type": "markdown",
   "metadata": {},
   "source": [
    "## FUNÇÕES ( function( ) ) "
   ]
  },
  {
   "cell_type": "markdown",
   "metadata": {},
   "source": [
    "Em Julia, uma função é um objeto que mapeia uma tupla de valores de argumentos de entrada e produz um ou vários valores de retorno. Como será visto em outros tópicos uma `function` é uma função do tipo genérica. Sintaxe:\n",
    "```julia\n",
    "function nome(var_1, var_2,..,var_n)\n",
    "    expressoes_variaveis\n",
    "    return valores_calculados\n",
    "end\n",
    "```\n",
    "No caso de retorno mutiplo, `return` retorna uma tupla de valores. Sintaxe:\n",
    "```julia\n",
    "function nome(var_1, var_2,..,var_n)\n",
    "   expressoes_variaveis\n",
    "   return valores_calculados_1, valores_calculados_2 ...valores_calculados_n\n",
    "end\n",
    "```\n",
    "`return` é necessário quando deseja-se manipular o valor calculado dentro da função. Se o objetivo é apenas mostrar o resultado podemos usar `print` ou `display`."
   ]
  },
  {
   "cell_type": "markdown",
   "metadata": {},
   "source": [
    "### FUNÇÕES DEFINIDAS"
   ]
  },
  {
   "cell_type": "markdown",
   "metadata": {},
   "source": [
    "* **Função Dimensão Matriz**"
   ]
  },
  {
   "cell_type": "code",
   "execution_count": 1,
   "metadata": {
    "collapsed": false,
    "scrolled": false
   },
   "outputs": [
    {
     "data": {
      "text/plain": [
       "fmatrixD (generic function with 1 method)"
      ]
     },
     "execution_count": 1,
     "metadata": {},
     "output_type": "execute_result"
    }
   ],
   "source": [
    "# a função apenas imprime a dimensão da matriz\n",
    "function fmatrixD(M)\n",
    "    println(\"------------ inicio funcao -----------\")\n",
    "    \n",
    "    display(M)    \n",
    "        \n",
    "    println(\"a dimensão da matriz é :\",size(M))\n",
    "    \n",
    "    println(\"--------------- fim -----------------\")\n",
    "    \n",
    "end"
   ]
  },
  {
   "cell_type": "code",
   "execution_count": 2,
   "metadata": {
    "collapsed": false,
    "scrolled": true
   },
   "outputs": [
    {
     "data": {
      "text/plain": [
       "2×3 Array{Int64,2}:\n",
       " 1  1  2\n",
       " 4  8  9"
      ]
     },
     "metadata": {},
     "output_type": "display_data"
    },
    {
     "name": "stdout",
     "output_type": "stream",
     "text": [
      "------------ inicio funcao -----------\n",
      "a dimensão da matriz é :(2,3)\n",
      "--------------- fim -----------------\n"
     ]
    }
   ],
   "source": [
    "fmatrixD([1 1 2 ; 4 8 9])"
   ]
  },
  {
   "cell_type": "markdown",
   "metadata": {},
   "source": [
    "* **Função Cálculo da Área **"
   ]
  },
  {
   "cell_type": "code",
   "execution_count": 21,
   "metadata": {
    "collapsed": false
   },
   "outputs": [
    {
     "name": "stderr",
     "output_type": "stream",
     "text": [
      "WARNING: Method definition areaC(Any) in module Main at In[18]:4 overwritten at In[21]:4.\n"
     ]
    },
    {
     "data": {
      "text/plain": [
       "areaC (generic function with 1 method)"
      ]
     },
     "execution_count": 21,
     "metadata": {},
     "output_type": "execute_result"
    }
   ],
   "source": [
    "# a função calcula a área e faz o retorno multiplo de valores que podem ser manipulado na forma de uma tupla\n",
    "function areaC(raio)\n",
    "    areaCirc = pi * raio^2\n",
    "    return \"A área vale: \", round(areaCirc,5) \n",
    "end"
   ]
  },
  {
   "cell_type": "code",
   "execution_count": 22,
   "metadata": {
    "collapsed": false
   },
   "outputs": [
    {
     "data": {
      "text/plain": [
       "(\"A área vale: \",28.27433)"
      ]
     },
     "execution_count": 22,
     "metadata": {},
     "output_type": "execute_result"
    }
   ],
   "source": [
    "area_circulo = areaC(3) # resultado é uma tupla(texto,valor)"
   ]
  },
  {
   "cell_type": "code",
   "execution_count": 23,
   "metadata": {
    "collapsed": false
   },
   "outputs": [
    {
     "data": {
      "text/plain": [
       "28.27433"
      ]
     },
     "execution_count": 23,
     "metadata": {},
     "output_type": "execute_result"
    }
   ],
   "source": [
    "# acesso valor da área\n",
    "area_circulo[2]"
   ]
  },
  {
   "cell_type": "code",
   "execution_count": 24,
   "metadata": {
    "collapsed": false
   },
   "outputs": [
    {
     "data": {
      "text/plain": [
       "141.37165"
      ]
     },
     "execution_count": 24,
     "metadata": {},
     "output_type": "execute_result"
    }
   ],
   "source": [
    "# manipulando o valor da área para 5 circulos\n",
    "5*area_circulo[2]"
   ]
  },
  {
   "cell_type": "markdown",
   "metadata": {},
   "source": [
    "* **Função Raízes Equação de Báskara**"
   ]
  },
  {
   "cell_type": "code",
   "execution_count": 10,
   "metadata": {
    "collapsed": false
   },
   "outputs": [
    {
     "name": "stderr",
     "output_type": "stream",
     "text": [
      "WARNING: Method definition fraiz(Any, Any, Any) in module Main at In[8]:2 overwritten at In[10]:2.\n"
     ]
    },
    {
     "data": {
      "text/plain": [
       "fraiz (generic function with 1 method)"
      ]
     },
     "execution_count": 10,
     "metadata": {},
     "output_type": "execute_result"
    }
   ],
   "source": [
    "function fraiz(a,b,c)    \n",
    "    delta = (b^2) - (4*a*c)    \n",
    "    if delta < 0\n",
    "        print(\"Delta negativo, raiz real impossivel de ser extraida.\")        \n",
    "    else                \n",
    "        x1 = (-b + sqrt(delta)) / (2*a)\n",
    "        x2 = (-b - sqrt(delta)) / (2*a)        \n",
    "        return x1 , x2 # retorno multiplo na forma de uma tupla\n",
    "    end\n",
    "end"
   ]
  },
  {
   "cell_type": "code",
   "execution_count": 11,
   "metadata": {
    "collapsed": false,
    "scrolled": true
   },
   "outputs": [
    {
     "data": {
      "text/plain": [
       "(1.5,-1.0)"
      ]
     },
     "execution_count": 11,
     "metadata": {},
     "output_type": "execute_result"
    }
   ],
   "source": [
    "# entre com os coeficientes da função do segundo grau\n",
    "\n",
    "raizf = fraiz(2,-1,-3) # resultado é um vetor de dados"
   ]
  },
  {
   "cell_type": "code",
   "execution_count": 12,
   "metadata": {
    "collapsed": false
   },
   "outputs": [
    {
     "data": {
      "text/plain": [
       "-1.0"
      ]
     },
     "execution_count": 12,
     "metadata": {},
     "output_type": "execute_result"
    }
   ],
   "source": [
    "# acesso segunda raiz\n",
    "\n",
    "raizf[2]"
   ]
  },
  {
   "cell_type": "markdown",
   "metadata": {},
   "source": [
    "* **Função Método da Bissecção**"
   ]
  },
  {
   "cell_type": "code",
   "execution_count": 1,
   "metadata": {
    "collapsed": false
   },
   "outputs": [
    {
     "data": {
      "text/plain": [
       "fmetbissec"
      ]
     },
     "execution_count": 1,
     "metadata": {},
     "output_type": "execute_result"
    }
   ],
   "source": [
    "\"\"\"\n",
    "Metodo da Bisseccao\n",
    "\n",
    "Calcula uma aproximação para uma raiz da função de f(x)\n",
    "\n",
    "Entre os intervalo [ao,bo] e a tolerencia de erro daddo por tol.\n",
    "\n",
    "adaptado de http://goo.gl/pQNh6z \n",
    "\n",
    "\"\"\"\n",
    "function fmetbissec(a,b,tol)\n",
    "iteracao = 0\n",
    "    if (a^2 - 2*a)*(b^2 - 2*b) > 0 \n",
    "        println(\"Não há raiz no intervalo\")\n",
    "        \n",
    "    else\n",
    "        x_medio = (a + b)/2\n",
    "        err = abs(x_medio^2 - 2*x_medio)\n",
    "        \n",
    "        while err > tol\n",
    "            println(\"interação: \", iteracao , \" : \", x_medio, \", valor função: \",x_medio^2 - 2*x_medio)\n",
    "            \n",
    "            if (a^2 - 2*a)*(x_medio^2 - 2*x_medio) < 0 \n",
    "                b = x_medio\n",
    "            else\n",
    "                a = x_medio\n",
    "            end\n",
    "            \n",
    "            x_medio = (a + b)/2\n",
    "            err = abs(x_medio^2 - 2*x_medio)\n",
    "            iteracao = iteracao + 1\n",
    "            \n",
    "        end\n",
    "        \n",
    "    println(\"interação: \", iteracao , \" : \", x_medio, \", valor função: \",x_medio^2 - 2*x_medio)\n",
    "    return x_medio\n",
    "        \n",
    "    end     \n",
    "end"
   ]
  },
  {
   "cell_type": "code",
   "execution_count": 14,
   "metadata": {
    "collapsed": false,
    "scrolled": true
   },
   "outputs": [
    {
     "name": "stdout",
     "output_type": "stream",
     "text": [
      "interação: 0 : 1.75, valor função: -0.4375\n",
      "interação: 1 : 2.125, valor função: 0.265625\n",
      "interação: 2 : 1.9375, valor função: -0.12109375\n",
      "interação: 3 : 2.03125, valor função: 0.0634765625\n",
      "interação: 4 : 1.984375, valor função: -0.031005859375\n",
      "interação: 5 : 2.0078125, valor função: 0.01568603515625\n",
      "interação: 6 : 1.99609375, valor função: -0.0077972412109375\n",
      "interação: 7 : 2.001953125, valor função: 0.003910064697265625\n",
      "interação: 8 : 1.9990234375, valor função: -0.0019521713256835938\n",
      "interação: 9 : 2.00048828125, valor função: 0.0009768009185791016\n",
      "interação: 10 : 1.999755859375, valor função: -0.0004882216453552246\n",
      "interação: 11 : 2.0001220703125, valor função: 0.00024415552616119385\n",
      "interação: 12 : 1.99993896484375, valor função: -0.00012206658720970154\n",
      "interação: 13 : 2.000030517578125, valor função: 6.103608757257462e-5\n",
      "interação: 14 : 1.9999847412109375, valor função: -3.0517345294356346e-5\n",
      "interação: 15 : 2.0000076293945312, valor função: 1.5258847270160913e-5\n",
      "interação: 16 : 1.9999961853027344, valor função: -7.629379979334772e-6\n",
      "interação: 17 : 2.000001907348633, valor função: 3.814700903603807e-6\n",
      "interação: 18 : 1.9999990463256836, valor função: -1.9073477233177982e-6\n",
      "interação: 19 : 2.000000476837158, valor função: 9.536745437799254e-7\n"
     ]
    },
    {
     "data": {
      "text/plain": [
       "2.000000476837158"
      ]
     },
     "execution_count": 14,
     "metadata": {},
     "output_type": "execute_result"
    }
   ],
   "source": [
    "raizf = fmetbissec(1.0, 2.5, 0.000001)"
   ]
  },
  {
   "cell_type": "markdown",
   "metadata": {},
   "source": [
    "Para ler o cabeçalho da função use: ? metbissec"
   ]
  },
  {
   "cell_type": "code",
   "execution_count": 3,
   "metadata": {
    "collapsed": false
   },
   "outputs": [
    {
     "name": "stdout",
     "output_type": "stream",
     "text": [
      "search:\n",
      "\n"
     ]
    },
    {
     "data": {
      "text/markdown": [
       "Metodo da Bisseccao\n",
       "\n",
       "Calcula uma aproximação para uma raiz da função de f(x)\n",
       "\n",
       "Entre os intervalo [ao,bo] e a tolerencia de erro daddo por tol.\n",
       "\n",
       "adaptado de http://goo.gl/pQNh6z \n"
      ],
      "text/plain": [
       "Metodo da Bisseccao\n",
       "\n",
       "Calcula uma aproximação para uma raiz da função de f(x)\n",
       "\n",
       "Entre os intervalo [ao,bo] e a tolerencia de erro daddo por tol.\n",
       "\n",
       "adaptado de http://goo.gl/pQNh6z \n"
      ]
     },
     "execution_count": 3,
     "metadata": {},
     "output_type": "execute_result"
    }
   ],
   "source": [
    "? fmetbissec"
   ]
  },
  {
   "cell_type": "markdown",
   "metadata": {},
   "source": [
    "* **Função série de Fibonacci Recursiva** \n",
    "\n",
    "Na matemática, a Sucessão de Fibonacci (também Sequência de Fibonacci), é uma sequência de números inteiros, começando normalmente por 0 e 1, na qual, cada termo subsequente corresponde a soma dos dois anteriores. A sequência recebeu o nome do matemático italiano Leonardo de Pisa, mais conhecido por Fibonacci , que descreveu, no ano de 1202, o crescimento de uma população de coelhos, a partir desta. Tal sequência já era no entanto, conhecida na antiguidade.\n",
    "\n",
    "Os números de Fibonacci são, portanto, os números que compõem a seguinte sequência (sequência A000045 na OEIS):\n",
    "\n",
    "    0,1, 1, 2, 3, 5, 8, 13, 21, 34, 55, 89, 144, 233, 377, 610, 987, 1597, 2584, ... .\n",
    "\n",
    "Em termos matemáticos, a sequência é definida recursivamente pela fórmula abaixo, sendo o primeiro termo F1= 1:\n",
    "\n",
    "${\\displaystyle F_{n}=F_{n-1}+F_{n-2},}$\n",
    "\n",
    "e valores iniciais\n",
    "\n",
    "${\\displaystyle F_{1}=1,\\;F_{2}=1.}$\n",
    "\n",
    "A sequência de Fibonacci tem aplicações na análise de mercados financeiros, na ciência da computação e na teoria dos jogos. Também aparece em configurações biológicas, como, por exemplo, na disposição dos galhos das árvores ou das folhas em uma haste, no arranjo do cone da alcachofra, do abacaxi, ou no desenrolar da samambaia."
   ]
  },
  {
   "cell_type": "code",
   "execution_count": 30,
   "metadata": {
    "collapsed": false
   },
   "outputs": [
    {
     "data": {
      "text/plain": [
       "fiboR (generic function with 1 method)"
      ]
     },
     "execution_count": 30,
     "metadata": {},
     "output_type": "execute_result"
    }
   ],
   "source": [
    "function fiboR(n) \n",
    "    if n < 2 \n",
    "        return n\n",
    "    else\n",
    "        fiboR(n-1) + fiboR(n-2)\n",
    "    end\n",
    "end"
   ]
  },
  {
   "cell_type": "code",
   "execution_count": 31,
   "metadata": {
    "collapsed": false,
    "scrolled": false
   },
   "outputs": [
    {
     "name": "stdout",
     "output_type": "stream",
     "text": [
      "  0.108047 seconds (800 allocations: 40.784 KB)\n"
     ]
    },
    {
     "data": {
      "text/plain": [
       "9227465"
      ]
     },
     "execution_count": 31,
     "metadata": {},
     "output_type": "execute_result"
    }
   ],
   "source": [
    "@time fiboR(35)"
   ]
  },
  {
   "cell_type": "markdown",
   "metadata": {},
   "source": [
    "### ARGUMENTOS TIPADOS, ARGUMENTOS PADRONIZADOS, ARGUMENTOS NOMEADOS E DESPACHO MULTIPLO"
   ]
  },
  {
   "cell_type": "markdown",
   "metadata": {},
   "source": [
    "**Argumentos Tipados**"
   ]
  },
  {
   "cell_type": "code",
   "execution_count": 19,
   "metadata": {
    "collapsed": false
   },
   "outputs": [
    {
     "data": {
      "text/plain": [
       "empuxo_0 (generic function with 1 method)"
      ]
     },
     "execution_count": 19,
     "metadata": {},
     "output_type": "execute_result"
    }
   ],
   "source": [
    "function empuxo_0( v, d::Float64, g::Float64)\n",
    "    println(\"Volume: \",v,\"m³\")\n",
    "    println(\"Densidade: \",d,\"kg/m³\")\n",
    "    println(\"A.gravidade: \",g,\"m/s²\")\n",
    "    \n",
    "    return v*d*g\n",
    "end"
   ]
  },
  {
   "cell_type": "code",
   "execution_count": 22,
   "metadata": {
    "collapsed": false
   },
   "outputs": [
    {
     "name": "stdout",
     "output_type": "stream",
     "text": [
      "Volume: 0.05m³\n",
      "Densidade: 1.0kg/m³\n",
      "A.gravidade: 10.0m/s²\n"
     ]
    },
    {
     "data": {
      "text/plain": [
       "0.5"
      ]
     },
     "execution_count": 22,
     "metadata": {},
     "output_type": "execute_result"
    }
   ],
   "source": [
    "empuxo_0(0.05,1.0,10.0)"
   ]
  },
  {
   "cell_type": "code",
   "execution_count": 25,
   "metadata": {
    "collapsed": false,
    "scrolled": true
   },
   "outputs": [
    {
     "ename": "LoadError",
     "evalue": "LoadError: MethodError: no method matching empuxo_0(::Float64, ::Float64, ::Int64)\nClosest candidates are:\n  empuxo_0(::Any, ::Float64, !Matched::Float64) at In[19]:2\nwhile loading In[25], in expression starting on line 2",
     "output_type": "error",
     "traceback": [
      "LoadError: MethodError: no method matching empuxo_0(::Float64, ::Float64, ::Int64)\nClosest candidates are:\n  empuxo_0(::Any, ::Float64, !Matched::Float64) at In[19]:2\nwhile loading In[25], in expression starting on line 2",
      ""
     ]
    }
   ],
   "source": [
    "# passando os tipos Float64, Float64 e Int64\n",
    "empuxo_0(0.05,1.0,10)"
   ]
  },
  {
   "cell_type": "markdown",
   "metadata": {},
   "source": [
    "Observe que o erro `\"no method matching empuxo_0(::Float64, ::Float64, ::Int64)\"` significa que não há um método compatível com os argumentos passados em `(0.05 ::Float64, 1.0 ::Float64, 10 ::Int64`). O erro está no argumento `gravidade` que foi passado como inteiro e deve ser do tipo Float64. Julia informa o local do erro e tipo correto em  `!Matched::Float64`.\n",
    "```\n",
    "```"
   ]
  },
  {
   "cell_type": "markdown",
   "metadata": {},
   "source": [
    "**Argumentos padronizados**"
   ]
  },
  {
   "cell_type": "code",
   "execution_count": 1,
   "metadata": {
    "collapsed": false
   },
   "outputs": [
    {
     "data": {
      "text/plain": [
       "empuxo_1 (generic function with 3 methods)"
      ]
     },
     "execution_count": 1,
     "metadata": {},
     "output_type": "execute_result"
    }
   ],
   "source": [
    "function empuxo_1( v, d = 1.0, g = 9.8)\n",
    "    println(\"Volume: \",v,\"m³\")\n",
    "    println(\"Densidade: \",d,\"kg/m³\")\n",
    "    println(\"A.gravidade: \",g,\"m/s²\")\n",
    "    \n",
    "    return v*d*g\n",
    "end"
   ]
  },
  {
   "cell_type": "code",
   "execution_count": 2,
   "metadata": {
    "collapsed": false,
    "scrolled": true
   },
   "outputs": [
    {
     "name": "stdout",
     "output_type": "stream",
     "text": [
      "Volume: 0.05m³\n",
      "Densidade: 1.0kg/m³\n",
      "A.gravidade: 10m/s²\n"
     ]
    },
    {
     "data": {
      "text/plain": [
       "0.5"
      ]
     },
     "execution_count": 2,
     "metadata": {},
     "output_type": "execute_result"
    }
   ],
   "source": [
    "empuxo_1(0.05,1.0,10)"
   ]
  },
  {
   "cell_type": "code",
   "execution_count": 6,
   "metadata": {
    "collapsed": false
   },
   "outputs": [
    {
     "name": "stdout",
     "output_type": "stream",
     "text": [
      "Volume: 0.05m³\n",
      "Densidade: 1.0kg/m³\n",
      "A.gravidade: 9.8m/s²\n"
     ]
    },
    {
     "data": {
      "text/plain": [
       "0.49000000000000005"
      ]
     },
     "execution_count": 6,
     "metadata": {},
     "output_type": "execute_result"
    }
   ],
   "source": [
    "# se não for passado nenhum parâmetro a função utiliza os valores padrões\n",
    "empuxo_1(0.05)"
   ]
  },
  {
   "cell_type": "code",
   "execution_count": 5,
   "metadata": {
    "collapsed": false
   },
   "outputs": [
    {
     "name": "stdout",
     "output_type": "stream",
     "text": [
      "Volume: 0.05m³\n",
      "Densidade: 10kg/m³\n",
      "A.gravidade: 1.0m/s²\n"
     ]
    },
    {
     "data": {
      "text/plain": [
       "0.5"
      ]
     },
     "execution_count": 5,
     "metadata": {},
     "output_type": "execute_result"
    }
   ],
   "source": [
    "# a ordem dos argumentos importa\n",
    "empuxo_1(0.05,10,1.0)"
   ]
  },
  {
   "cell_type": "markdown",
   "metadata": {},
   "source": [
    "Observe que neste ultimo exemplo a ordem dos elementos é importante e embora o valor calculado esteja certo, os valores das variáveis estão trocados.\n",
    "```\n",
    "```"
   ]
  },
  {
   "cell_type": "markdown",
   "metadata": {},
   "source": [
    "**Argumentos Nomeados**"
   ]
  },
  {
   "cell_type": "code",
   "execution_count": 50,
   "metadata": {
    "collapsed": false
   },
   "outputs": [
    {
     "data": {
      "text/plain": [
       "empuxo_2 (generic function with 1 method)"
      ]
     },
     "execution_count": 50,
     "metadata": {},
     "output_type": "execute_result"
    }
   ],
   "source": [
    "function empuxo_2( v; d = 1.0, g = 9.8)\n",
    "    println(\"Volume: \",v,\"m³\")\n",
    "    println(\"Densidade: \",d,\"kg/m³\")\n",
    "    println(\"A.gravidade: \",g,\"m/s²\")\n",
    "    \n",
    "    return d*g*v\n",
    "end"
   ]
  },
  {
   "cell_type": "code",
   "execution_count": 52,
   "metadata": {
    "collapsed": false
   },
   "outputs": [
    {
     "name": "stdout",
     "output_type": "stream",
     "text": [
      "Volume: 0.5m³\n",
      "Densidade: 0.9kg/m³\n",
      "A.gravidade: 10m/s²\n"
     ]
    },
    {
     "data": {
      "text/plain": [
       "4.5"
      ]
     },
     "execution_count": 52,
     "metadata": {},
     "output_type": "execute_result"
    }
   ],
   "source": [
    "# a ordem dos argumentos não importa\n",
    "empuxo_2(0.5, g = 10 , d = 0.9)"
   ]
  },
  {
   "cell_type": "code",
   "execution_count": 30,
   "metadata": {
    "collapsed": false,
    "scrolled": true
   },
   "outputs": [
    {
     "name": "stdout",
     "output_type": "stream",
     "text": [
      "Volume: 0.5m³\n",
      "Densidade: 0.9kg/m³\n",
      "A.gravidade: 10m/s²\n"
     ]
    },
    {
     "data": {
      "text/plain": [
       "4.5"
      ]
     },
     "execution_count": 30,
     "metadata": {},
     "output_type": "execute_result"
    }
   ],
   "source": [
    "# a ordem dos argumentos não importa\n",
    "empuxo_2(0.5 , d = 0.9 , g = 10)"
   ]
  },
  {
   "cell_type": "code",
   "execution_count": 14,
   "metadata": {
    "collapsed": false
   },
   "outputs": [
    {
     "data": {
      "text/plain": [
       "4.9"
      ]
     },
     "execution_count": 14,
     "metadata": {},
     "output_type": "execute_result"
    }
   ],
   "source": [
    "# se não for passado nenhum parâmetro a função utiliza os valores padrões\n",
    "empuxo_2(0.5)"
   ]
  },
  {
   "cell_type": "code",
   "execution_count": 53,
   "metadata": {
    "collapsed": false
   },
   "outputs": [
    {
     "ename": "LoadError",
     "evalue": "LoadError: MethodError: no method matching empuxo_2(::Float64, ::Float64, ::Int64)\nClosest candidates are:\n  empuxo_2(::Any; d, g) at In[50]:2\nwhile loading In[53], in expression starting on line 2",
     "output_type": "error",
     "traceback": [
      "LoadError: MethodError: no method matching empuxo_2(::Float64, ::Float64, ::Int64)\nClosest candidates are:\n  empuxo_2(::Any; d, g) at In[50]:2\nwhile loading In[53], in expression starting on line 2",
      ""
     ]
    }
   ],
   "source": [
    "# só é possível passar parâmetros indicando o nome das variáveis e valor\n",
    "empuxo_2(0.5, 0.9 , 10)"
   ]
  },
  {
   "cell_type": "markdown",
   "metadata": {},
   "source": [
    "### IMPORTANDO FUNÇÕES GRAVADAS EM ARQUIVOS\n",
    "\n",
    "O código deve ser escrito em um arquivo com a extensão \".jl\" e importado usando a função **include(\"arquivo.jl\")**. É possível colocar várias funções (nomes diferentes) em um arquivo e fazer a importação com o **include(\"arquivo.jl\")**. As funções importadas serão executadas pelo nome."
   ]
  },
  {
   "cell_type": "code",
   "execution_count": 60,
   "metadata": {
    "collapsed": false
   },
   "outputs": [
    {
     "data": {
      "text/plain": [
       "ffiboR_JL (generic function with 1 method)"
      ]
     },
     "execution_count": 60,
     "metadata": {},
     "output_type": "execute_result"
    }
   ],
   "source": [
    "include(\"ffiboR_JL.jl\")"
   ]
  },
  {
   "cell_type": "code",
   "execution_count": 61,
   "metadata": {
    "collapsed": false,
    "scrolled": true
   },
   "outputs": [
    {
     "name": "stdout",
     "output_type": "stream",
     "text": [
      "  0.932148 seconds (697 allocations: 37.835 KB)\n"
     ]
    },
    {
     "data": {
      "text/plain": [
       "102334155"
      ]
     },
     "execution_count": 61,
     "metadata": {},
     "output_type": "execute_result"
    }
   ],
   "source": [
    "@time ffiboR_JL(40)"
   ]
  },
  {
   "cell_type": "code",
   "execution_count": 62,
   "metadata": {
    "collapsed": false
   },
   "outputs": [
    {
     "name": "stdout",
     "output_type": "stream",
     "text": [
      "search: ffiboR_JL\n",
      "\n"
     ]
    },
    {
     "data": {
      "text/latex": [
       "Função calcula serie de fibonacci\n",
       "ffiboR\\_JL(valor)\n"
      ],
      "text/markdown": [
       "Função calcula serie de fibonacci\n",
       "\n",
       "ffiboR_JL(valor)\n"
      ],
      "text/plain": [
       "Função calcula serie de fibonacci\n",
       "\n",
       "ffiboR_JL(valor)\n"
      ]
     },
     "execution_count": 62,
     "metadata": {},
     "output_type": "execute_result"
    }
   ],
   "source": [
    "? ffiboR_JL"
   ]
  },
  {
   "cell_type": "markdown",
   "metadata": {},
   "source": [
    "### CONTROLANDO A EXECUÇÃO DE FUNÇÕES (TASKS)\n",
    "\n",
    "Julia possui um recurso de controle de fluxo chamado `Task` (Tarefas) que permite que os cálculos de uma função sejam suspensos e reiniciados de forma interativa. Esse recurso às vezes é chamado por outros nomes, como co-rotinas simétricas, segmentos leves, multitarefa cooperativa ou continuações one-shot. `Tasks` são ótimos quando é importante obter um valor de um laço que não sabemos o fim. Sintaxe:\n",
    "\n",
    "Criar \n",
    "```julia\n",
    "function nome_tarefa(argumentos)\n",
    "    produce(instruções)\n",
    "end\n",
    "\n",
    "var = @task nome_tarefa(argumentos)\n",
    "```\n",
    "Executar\n",
    "```julia\n",
    "consume(var)\n",
    "```"
   ]
  },
  {
   "cell_type": "code",
   "execution_count": 13,
   "metadata": {
    "collapsed": false
   },
   "outputs": [
    {
     "data": {
      "text/plain": [
       "teste_task (generic function with 1 method)"
      ]
     },
     "execution_count": 13,
     "metadata": {},
     "output_type": "execute_result"
    }
   ],
   "source": [
    "function teste_task(i)\n",
    "    for n = 1:i\n",
    "        produce([x^2 for x = 1:n])\n",
    "    end\n",
    "    produce(\"Fim Tarefa\")\n",
    "end"
   ]
  },
  {
   "cell_type": "code",
   "execution_count": 14,
   "metadata": {
    "collapsed": false
   },
   "outputs": [
    {
     "data": {
      "text/plain": [
       "Task (runnable) @0x00007fddfdabb5b0"
      ]
     },
     "execution_count": 14,
     "metadata": {},
     "output_type": "execute_result"
    }
   ],
   "source": [
    "teste = @task teste_task(3)"
   ]
  },
  {
   "cell_type": "code",
   "execution_count": 15,
   "metadata": {
    "collapsed": false
   },
   "outputs": [
    {
     "data": {
      "text/plain": [
       "1-element Array{Int64,1}:\n",
       " 1"
      ]
     },
     "execution_count": 15,
     "metadata": {},
     "output_type": "execute_result"
    }
   ],
   "source": [
    "consume(teste)"
   ]
  },
  {
   "cell_type": "code",
   "execution_count": 16,
   "metadata": {
    "collapsed": false
   },
   "outputs": [
    {
     "data": {
      "text/plain": [
       "2-element Array{Int64,1}:\n",
       " 1\n",
       " 4"
      ]
     },
     "execution_count": 16,
     "metadata": {},
     "output_type": "execute_result"
    }
   ],
   "source": [
    "consume(teste)"
   ]
  },
  {
   "cell_type": "code",
   "execution_count": 17,
   "metadata": {
    "collapsed": false,
    "scrolled": true
   },
   "outputs": [
    {
     "data": {
      "text/plain": [
       "3-element Array{Int64,1}:\n",
       " 1\n",
       " 4\n",
       " 9"
      ]
     },
     "execution_count": 17,
     "metadata": {},
     "output_type": "execute_result"
    }
   ],
   "source": [
    "consume(teste)"
   ]
  },
  {
   "cell_type": "code",
   "execution_count": 18,
   "metadata": {
    "collapsed": false
   },
   "outputs": [
    {
     "data": {
      "text/plain": [
       "\"Fim Tarefa\""
      ]
     },
     "execution_count": 18,
     "metadata": {},
     "output_type": "execute_result"
    }
   ],
   "source": [
    "consume(teste)"
   ]
  },
  {
   "cell_type": "markdown",
   "metadata": {},
   "source": [
    "**% FIM PROGRAMAÇÃO BÁSICA %**"
   ]
  },
  {
   "cell_type": "code",
   "execution_count": null,
   "metadata": {
    "collapsed": true
   },
   "outputs": [],
   "source": []
  }
 ],
 "metadata": {
  "anaconda-cloud": {},
  "kernelspec": {
   "display_name": "Julia 0.5.0",
   "language": "julia",
   "name": "julia-0.5"
  },
  "language_info": {
   "file_extension": ".jl",
   "mimetype": "application/julia",
   "name": "julia",
   "version": "0.5.0"
  }
 },
 "nbformat": 4,
 "nbformat_minor": 0
}
