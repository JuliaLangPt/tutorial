{
 "cells": [
  {
   "cell_type": "markdown",
   "metadata": {},
   "source": [
    "# ALGEBRA LINEAR\n",
    "\n",
    "Julia possui um conjunto próprio comandos de álgebra linear que permite trabalhar diversas operações com matrizes e vetores. Entretanto, há o pacote `Nemo` que possui bem mais recursos algébricos. Pkg.add(\"Nemo\")\n",
    "\n",
    "`Nemo` é um pacote de álgebra que permite trabalhar álgebra comutativa, teoria dos números e teoria do grupo. Atualmente está sendo desenvolvido por William Hart, Tommy Hofmann, Fredrik Johansson, Claus Fieker e Oleksandr Motsak com contribuições de outros desenvolvetores. Nemo oferece atualmente:\n",
    "\n",
    "- Wrappers de MPIR, Flint, Arb e Antic\n",
    "- Um Wrappers  experimental de Pari\n",
    "- Anéis de polinômios genéricos, espaços de matriz, anéis de resíduos, série de potência\n",
    "- Campos finitos, p-adics, inteiros, racionais, permutações e outros."
   ]
  },
  {
   "cell_type": "code",
   "execution_count": 18,
   "metadata": {
    "collapsed": false
   },
   "outputs": [
    {
     "name": "stderr",
     "output_type": "stream",
     "text": [
      "INFO: Updating METADATA...\n",
      "INFO: Updating cache of DataFrames...\n",
      "INFO: Computing changes...\n",
      "INFO: No packages to install, update or remove\n"
     ]
    }
   ],
   "source": [
    "Pkg.update(\"Nemo\")"
   ]
  },
  {
   "cell_type": "code",
   "execution_count": 1,
   "metadata": {
    "collapsed": false
   },
   "outputs": [
    {
     "name": "stdout",
     "output_type": "stream",
     "text": [
      "\n",
      "Welcome to Nemo version 0.5.1\n",
      "\n",
      "Nemo comes with absolutely no warranty whatsoever\n",
      "\n"
     ]
    }
   ],
   "source": [
    "using Nemo"
   ]
  },
  {
   "cell_type": "markdown",
   "metadata": {
    "collapsed": true
   },
   "source": [
    "## VETORES "
   ]
  },
  {
   "cell_type": "markdown",
   "metadata": {},
   "source": [
    "### OPERAÇÕES COM VETORES"
   ]
  },
  {
   "cell_type": "markdown",
   "metadata": {},
   "source": [
    "* ** Soma de vetores **\n",
    "\n",
    "$vetorA + vetorB$\n",
    "\n",
    "$[a_1+b_1 ~,~ a_2+b_2 ~,~  a_3+b_3]$ e $[b_1+a_1 ~,~ b_2+a_2 ~,~  b_3+a_3]$"
   ]
  },
  {
   "cell_type": "code",
   "execution_count": 137,
   "metadata": {
    "collapsed": false
   },
   "outputs": [
    {
     "data": {
      "text/plain": [
       "3-element Array{Int64,1}:\n",
       " 5\n",
       " 7\n",
       " 9"
      ]
     },
     "execution_count": 137,
     "metadata": {},
     "output_type": "execute_result"
    }
   ],
   "source": [
    "v = [1, 2, 3]\n",
    "u = [4, 5, 6]\n",
    "\n",
    "u+v"
   ]
  },
  {
   "cell_type": "markdown",
   "metadata": {},
   "source": [
    "* **Subtração **\n",
    "\n",
    "$vetorA - vetorB$\n",
    "\n",
    "$[a_1-b_1 ~,~ a_2-b_2 ~,~  a_3-b_3]$ e $[b_1-a_1 ~,~ b_2-a_2 ~,~  b_3-a_3]$"
   ]
  },
  {
   "cell_type": "code",
   "execution_count": 138,
   "metadata": {
    "collapsed": false,
    "scrolled": true
   },
   "outputs": [
    {
     "data": {
      "text/plain": [
       "3-element Array{Int64,1}:\n",
       " 3\n",
       " 3\n",
       " 3"
      ]
     },
     "metadata": {},
     "output_type": "display_data"
    },
    {
     "data": {
      "text/plain": [
       "3-element Array{Int64,1}:\n",
       " -3\n",
       " -3\n",
       " -3"
      ]
     },
     "metadata": {},
     "output_type": "display_data"
    }
   ],
   "source": [
    "v = [1, 2, 3]\n",
    "u = [4, 5, 6]\n",
    "\n",
    "display(u-v)\n",
    "\n",
    "display(v-u)"
   ]
  },
  {
   "cell_type": "markdown",
   "metadata": {},
   "source": [
    "### OPERAÇÕES COM NUMEROS ESCALARES"
   ]
  },
  {
   "cell_type": "markdown",
   "metadata": {},
   "source": [
    "* ** Multiplicação por escalar ** \n",
    "\n",
    "$k*vetorA$\n",
    "\n",
    "$[a_1*k ~,~ a_2*k ~,~  a_3*k]$ "
   ]
  },
  {
   "cell_type": "code",
   "execution_count": 139,
   "metadata": {
    "collapsed": false
   },
   "outputs": [
    {
     "data": {
      "text/plain": [
       "3-element Array{Int64,1}:\n",
       " 2\n",
       " 4\n",
       " 6"
      ]
     },
     "execution_count": 139,
     "metadata": {},
     "output_type": "execute_result"
    }
   ],
   "source": [
    "v = [1, 2, 3]\n",
    "\n",
    "2*v"
   ]
  },
  {
   "cell_type": "markdown",
   "metadata": {},
   "source": [
    "* ** Multiplicação elemento por elemento entre vetores** \n",
    "\n",
    "$[a_1*b_1 ~,~ a_2*b_2 ~,~  a_3*b_3]$ e $[b_1*a_1 ~,~ b_2*a_2 ~,~  b_3*a_3]$"
   ]
  },
  {
   "cell_type": "code",
   "execution_count": 2,
   "metadata": {
    "collapsed": false
   },
   "outputs": [
    {
     "data": {
      "text/plain": [
       "3-element Array{Int64,1}:\n",
       "  4\n",
       " 10\n",
       " 18"
      ]
     },
     "execution_count": 2,
     "metadata": {},
     "output_type": "execute_result"
    }
   ],
   "source": [
    "v = [1, 2, 3]\n",
    "u = [4, 5, 6]\n",
    "\n",
    "v.*u"
   ]
  },
  {
   "cell_type": "code",
   "execution_count": 3,
   "metadata": {
    "collapsed": false
   },
   "outputs": [
    {
     "data": {
      "text/plain": [
       "3-element Array{Int64,1}:\n",
       "  4\n",
       " 10\n",
       " 18"
      ]
     },
     "execution_count": 3,
     "metadata": {},
     "output_type": "execute_result"
    }
   ],
   "source": [
    "# utilizando o map\n",
    "map(*, v, u)"
   ]
  },
  {
   "cell_type": "markdown",
   "metadata": {},
   "source": [
    "* **Divisão por escalar**\n",
    "\n",
    "$[{a_1 \\over k} ~,~ {a_2 \\over k} ~,~  {a_3 \\over k}]$ "
   ]
  },
  {
   "cell_type": "code",
   "execution_count": 142,
   "metadata": {
    "collapsed": false
   },
   "outputs": [
    {
     "data": {
      "text/plain": [
       "3-element Array{Float64,1}:\n",
       " 0.5\n",
       " 1.0\n",
       " 1.5"
      ]
     },
     "execution_count": 142,
     "metadata": {},
     "output_type": "execute_result"
    }
   ],
   "source": [
    "# [1/2, 2/2, 3/2]\n",
    "\n",
    "v = [1, 2, 3]\n",
    "\n",
    "v/2"
   ]
  },
  {
   "cell_type": "code",
   "execution_count": 143,
   "metadata": {
    "collapsed": false,
    "scrolled": true
   },
   "outputs": [
    {
     "data": {
      "text/plain": [
       "3-element Array{Float64,1}:\n",
       " 0.25\n",
       " 0.4 \n",
       " 0.5 "
      ]
     },
     "execution_count": 143,
     "metadata": {},
     "output_type": "execute_result"
    }
   ],
   "source": [
    "# Divisão elemento por elemento entre vetores [1/4, 2/5, 3/6]\n",
    "\n",
    "v = [1, 2, 3]\n",
    "u = [4, 5, 6]\n",
    "\n",
    "v./u"
   ]
  },
  {
   "cell_type": "code",
   "execution_count": 144,
   "metadata": {
    "collapsed": false,
    "scrolled": true
   },
   "outputs": [
    {
     "data": {
      "text/plain": [
       "3-element Array{Float64,1}:\n",
       " 0.25\n",
       " 0.4 \n",
       " 0.5 "
      ]
     },
     "execution_count": 144,
     "metadata": {},
     "output_type": "execute_result"
    }
   ],
   "source": [
    "# Divisão elemento por elemento entre vetores [1/4, 2/5, 3/6] pelo map()\n",
    "\n",
    "map(/, v, u)"
   ]
  },
  {
   "cell_type": "markdown",
   "metadata": {},
   "source": [
    "* ** Potencia por escalar**"
   ]
  },
  {
   "cell_type": "code",
   "execution_count": 145,
   "metadata": {
    "collapsed": false,
    "scrolled": true
   },
   "outputs": [
    {
     "data": {
      "text/plain": [
       "1x3 Array{Int64,2}:\n",
       " 1  4  9"
      ]
     },
     "execution_count": 145,
     "metadata": {},
     "output_type": "execute_result"
    }
   ],
   "source": [
    "# Potencia elemento por elemento [1^2 2^2 3^2]\n",
    "\n",
    "v = [1 2 3]\n",
    "\n",
    "v.^2"
   ]
  },
  {
   "cell_type": "code",
   "execution_count": 146,
   "metadata": {
    "collapsed": false
   },
   "outputs": [
    {
     "data": {
      "text/plain": [
       "3-element Array{Int64,1}:\n",
       "   1\n",
       "  32\n",
       " 729"
      ]
     },
     "execution_count": 146,
     "metadata": {},
     "output_type": "execute_result"
    }
   ],
   "source": [
    "# Potencia elemento por elemento entre vetores [1^4 2^5 3^6]\n",
    "\n",
    "v = [1, 2, 3]\n",
    "u = [4, 5, 6]\n",
    "\n",
    "v.^u"
   ]
  },
  {
   "cell_type": "code",
   "execution_count": 147,
   "metadata": {
    "collapsed": false
   },
   "outputs": [
    {
     "data": {
      "text/plain": [
       "3-element Array{Int64,1}:\n",
       "   1\n",
       "  32\n",
       " 729"
      ]
     },
     "execution_count": 147,
     "metadata": {},
     "output_type": "execute_result"
    }
   ],
   "source": [
    "# Potencia elemento por elemento entre vetores [1^4, 2^5, 3^6] pelo map()\n",
    "\n",
    "map(^, v,u)"
   ]
  },
  {
   "cell_type": "markdown",
   "metadata": {},
   "source": [
    "### TRANSPOSIÇÃO DE UM VETOR \n",
    "\n",
    "Veja que a transposição altera o tipo do vetor de Unidimensional(Array{Tipo_dado,1}) para Bidimensional(Array{Tipo_dado,2}) ou o contrário\n",
    "\n",
    "Sintaxe:\n",
    "```julia\n",
    "transpose(vetor)\n",
    "ou\n",
    "vetor'\n",
    "```"
   ]
  },
  {
   "cell_type": "code",
   "execution_count": 148,
   "metadata": {
    "collapsed": false,
    "scrolled": true
   },
   "outputs": [
    {
     "data": {
      "text/plain": [
       "3-element Array{Int64,1}:\n",
       " 1\n",
       " 2\n",
       " 3"
      ]
     },
     "metadata": {},
     "output_type": "display_data"
    },
    {
     "data": {
      "text/plain": [
       "1x3 Array{Int64,2}:\n",
       " 1  2  3"
      ]
     },
     "metadata": {},
     "output_type": "display_data"
    },
    {
     "data": {
      "text/plain": [
       "1x3 Array{Int64,2}:\n",
       " 1  2  3"
      ]
     },
     "metadata": {},
     "output_type": "display_data"
    }
   ],
   "source": [
    "display(v)\n",
    "\n",
    "display(transpose(v))\n",
    "\n",
    "display(v')"
   ]
  },
  {
   "cell_type": "markdown",
   "metadata": {},
   "source": [
    "### VALORES DE  Max e Min DE UM VETOR"
   ]
  },
  {
   "cell_type": "code",
   "execution_count": 3,
   "metadata": {
    "collapsed": false
   },
   "outputs": [
    {
     "data": {
      "text/plain": [
       "5"
      ]
     },
     "execution_count": 3,
     "metadata": {},
     "output_type": "execute_result"
    }
   ],
   "source": [
    "# Valor máximo do vetor\n",
    "\n",
    "v = [1, 5, -9]\n",
    "\n",
    "maximum(v)"
   ]
  },
  {
   "cell_type": "code",
   "execution_count": 151,
   "metadata": {
    "collapsed": false,
    "scrolled": false
   },
   "outputs": [
    {
     "data": {
      "text/plain": [
       "(5,2)"
      ]
     },
     "execution_count": 151,
     "metadata": {},
     "output_type": "execute_result"
    }
   ],
   "source": [
    "# Valor máximo de um vetor e indice\n",
    "\n",
    "valor_max, indice_max = findmax(v)"
   ]
  },
  {
   "cell_type": "code",
   "execution_count": 152,
   "metadata": {
    "collapsed": false
   },
   "outputs": [
    {
     "data": {
      "text/plain": [
       "(-9,5)"
      ]
     },
     "execution_count": 152,
     "metadata": {},
     "output_type": "execute_result"
    }
   ],
   "source": [
    "# valores extremos de um vetor: minimo e máximo simultâneo.\n",
    "\n",
    "extrema(v)"
   ]
  },
  {
   "cell_type": "code",
   "execution_count": 153,
   "metadata": {
    "collapsed": false
   },
   "outputs": [
    {
     "data": {
      "text/plain": [
       "-9"
      ]
     },
     "execution_count": 153,
     "metadata": {},
     "output_type": "execute_result"
    }
   ],
   "source": [
    "# Valor mínimo de um vetor\n",
    "\n",
    "minimum(v)"
   ]
  },
  {
   "cell_type": "code",
   "execution_count": 154,
   "metadata": {
    "collapsed": false
   },
   "outputs": [
    {
     "data": {
      "text/plain": [
       "(-9,3)"
      ]
     },
     "execution_count": 154,
     "metadata": {},
     "output_type": "execute_result"
    }
   ],
   "source": [
    "# Valor minimo de um vetor e indice\n",
    "\n",
    "valor_min, indice_min = findmin(v)"
   ]
  },
  {
   "cell_type": "code",
   "execution_count": 155,
   "metadata": {
    "collapsed": false
   },
   "outputs": [
    {
     "data": {
      "text/plain": [
       "(32,32)"
      ]
     },
     "execution_count": 155,
     "metadata": {},
     "output_type": "execute_result"
    }
   ],
   "source": [
    "v = [1, 2, 3]\n",
    "u = [4, 5, 6]\n",
    "\n",
    "dot(v,u), dot(u,v)"
   ]
  },
  {
   "cell_type": "markdown",
   "metadata": {},
   "source": [
    "### PRODUTO INTERNO E EXTERNO ENTRE VETORES "
   ]
  },
  {
   "cell_type": "code",
   "execution_count": 1,
   "metadata": {
    "collapsed": false
   },
   "outputs": [
    {
     "data": {
      "text/plain": [
       "(32,32)"
      ]
     },
     "execution_count": 1,
     "metadata": {},
     "output_type": "execute_result"
    }
   ],
   "source": [
    "# Produto interno: somente vetores coluna. aqui o uso do transpose ou v' nao funciona\n",
    "# caso use vetores linha, transforme - o em coluna com vec(vetor_linha)\n",
    "\n",
    "v = [1, 2, 3]\n",
    "u = [4, 5, 6]\n",
    "\n",
    "dot(v,u), dot(u,v)"
   ]
  },
  {
   "cell_type": "code",
   "execution_count": 157,
   "metadata": {
    "collapsed": false
   },
   "outputs": [
    {
     "data": {
      "text/plain": [
       "([-3,6,-3],[3,-6,3])"
      ]
     },
     "execution_count": 157,
     "metadata": {},
     "output_type": "execute_result"
    }
   ],
   "source": [
    "# Produto externo ou vetorial\n",
    "\n",
    "cross(v,u), cross(u,v)"
   ]
  },
  {
   "cell_type": "markdown",
   "metadata": {},
   "source": [
    "## MATRIZES"
   ]
  },
  {
   "cell_type": "markdown",
   "metadata": {
    "collapsed": false
   },
   "source": [
    "### OPERAÇÕES COM MATRIZES"
   ]
  },
  {
   "cell_type": "markdown",
   "metadata": {},
   "source": [
    "* ** Soma de matrizes **"
   ]
  },
  {
   "cell_type": "code",
   "execution_count": 171,
   "metadata": {
    "collapsed": false
   },
   "outputs": [
    {
     "data": {
      "text/plain": [
       "2x3 Array{Int64,2}:\n",
       "  5   7   9\n",
       " 11  13  15"
      ]
     },
     "execution_count": 171,
     "metadata": {},
     "output_type": "execute_result"
    }
   ],
   "source": [
    "Ma = [1 2 3; 4 5 6]\n",
    "Mb = [4 5 6; 7 8 9]\n",
    "\n",
    "Ma + Mb"
   ]
  },
  {
   "cell_type": "markdown",
   "metadata": {},
   "source": [
    "* ** Subtração de matrizes**"
   ]
  },
  {
   "cell_type": "code",
   "execution_count": 172,
   "metadata": {
    "collapsed": false,
    "scrolled": true
   },
   "outputs": [
    {
     "data": {
      "text/plain": [
       "2x3 Array{Int64,2}:\n",
       " -3  -3  -3\n",
       " -3  -3  -3"
      ]
     },
     "execution_count": 172,
     "metadata": {},
     "output_type": "execute_result"
    }
   ],
   "source": [
    "Ma = [1 2 3; 4 5 6]\n",
    "Mb = [4 5 6; 7 8 9]\n",
    "\n",
    "Ma - Mb"
   ]
  },
  {
   "cell_type": "markdown",
   "metadata": {},
   "source": [
    "### OPERAÇÕES COM NUMEROS ESCALARES "
   ]
  },
  {
   "cell_type": "markdown",
   "metadata": {},
   "source": [
    "* **Multiplicação por escalar**"
   ]
  },
  {
   "cell_type": "code",
   "execution_count": 173,
   "metadata": {
    "collapsed": false,
    "scrolled": true
   },
   "outputs": [
    {
     "data": {
      "text/plain": [
       "2x3 Array{Int64,2}:\n",
       " 2   4   6\n",
       " 8  10  12"
      ]
     },
     "execution_count": 173,
     "metadata": {},
     "output_type": "execute_result"
    }
   ],
   "source": [
    "Ma = [1 2 3; 4 5 6]\n",
    "\n",
    "2*Ma"
   ]
  },
  {
   "cell_type": "markdown",
   "metadata": {},
   "source": [
    "* **Multiplicação elemento por elemento entre vetores **\n",
    "\n",
    "$[1x4  ~ 2x5 ~  3x6; 4x7 ~  5x8 ~  6x9]$"
   ]
  },
  {
   "cell_type": "code",
   "execution_count": 174,
   "metadata": {
    "collapsed": false,
    "scrolled": false
   },
   "outputs": [
    {
     "data": {
      "text/plain": [
       "2x3 Array{Int64,2}:\n",
       "  4  10  18\n",
       " 28  40  54"
      ]
     },
     "execution_count": 174,
     "metadata": {},
     "output_type": "execute_result"
    }
   ],
   "source": [
    "Ma = [1 2 3; 4 5 6]\n",
    "Mb = [4 5 6; 7 8 9]\n",
    "\n",
    "Ma.*Mb"
   ]
  },
  {
   "cell_type": "markdown",
   "metadata": {},
   "source": [
    "* ** Divisão por escalar**"
   ]
  },
  {
   "cell_type": "code",
   "execution_count": 175,
   "metadata": {
    "collapsed": false
   },
   "outputs": [
    {
     "data": {
      "text/plain": [
       "2x3 Array{Float64,2}:\n",
       " 0.5  1.0  1.5\n",
       " 2.0  2.5  3.0"
      ]
     },
     "execution_count": 175,
     "metadata": {},
     "output_type": "execute_result"
    }
   ],
   "source": [
    "Ma = [1 2 3; 4 5 6]\n",
    "\n",
    "Ma/2"
   ]
  },
  {
   "cell_type": "markdown",
   "metadata": {},
   "source": [
    "* ** Divisão elemento por elemento entre vetores $[1/4  ~  2/5 ~  3/6; 4/7 ~  5/8 ~  6/9]$ **"
   ]
  },
  {
   "cell_type": "code",
   "execution_count": 176,
   "metadata": {
    "collapsed": false
   },
   "outputs": [
    {
     "data": {
      "text/plain": [
       "2x3 Array{Float64,2}:\n",
       " 0.25      0.4    0.5     \n",
       " 0.571429  0.625  0.666667"
      ]
     },
     "execution_count": 176,
     "metadata": {},
     "output_type": "execute_result"
    }
   ],
   "source": [
    "Ma = [1 2 3; 4 5 6]\n",
    "Mb = [4 5 6; 7 8 9]\n",
    "\n",
    "Ma./Mb"
   ]
  },
  {
   "cell_type": "markdown",
   "metadata": {},
   "source": [
    "* ** Potencia elemento por elemento $[1^2 ~ 2^2 ~ 3^2; 4^2  ~ 5^2 ~  6^2]$ **"
   ]
  },
  {
   "cell_type": "code",
   "execution_count": 177,
   "metadata": {
    "collapsed": false
   },
   "outputs": [
    {
     "data": {
      "text/plain": [
       "2x3 Array{Int64,2}:\n",
       "  1   4   9\n",
       " 16  25  36"
      ]
     },
     "execution_count": 177,
     "metadata": {},
     "output_type": "execute_result"
    }
   ],
   "source": [
    "Ma = [1 2 3; 4 5 6]\n",
    "\n",
    "Ma.^2"
   ]
  },
  {
   "cell_type": "markdown",
   "metadata": {},
   "source": [
    "* ** Potencia elemento por elemento entre vetores $[1^4 ~  2^5 ~  3^6; 4^7 ~  5^8 ~  6^9]$ **"
   ]
  },
  {
   "cell_type": "code",
   "execution_count": 178,
   "metadata": {
    "collapsed": false,
    "scrolled": true
   },
   "outputs": [
    {
     "data": {
      "text/plain": [
       "2x3 Array{Int64,2}:\n",
       "     1      32       729\n",
       " 16384  390625  10077696"
      ]
     },
     "execution_count": 178,
     "metadata": {},
     "output_type": "execute_result"
    }
   ],
   "source": [
    "Ma = [1 2 3; 4 5 6]\n",
    "Mb = [4 5 6; 7 8 9]\n",
    "\n",
    "Ma.^Mb"
   ]
  },
  {
   "cell_type": "markdown",
   "metadata": {},
   "source": [
    "### TRANSPOSIÇÃO DE MATRIZES "
   ]
  },
  {
   "cell_type": "code",
   "execution_count": 179,
   "metadata": {
    "collapsed": false,
    "scrolled": false
   },
   "outputs": [
    {
     "data": {
      "text/plain": [
       "(\n",
       "3x2 Array{Int64,2}:\n",
       " 1  4\n",
       " 2  5\n",
       " 3  6,\n",
       "\n",
       "3x2 Array{Int64,2}:\n",
       " 1  4\n",
       " 2  5\n",
       " 3  6)"
      ]
     },
     "execution_count": 179,
     "metadata": {},
     "output_type": "execute_result"
    }
   ],
   "source": [
    "Ma = [1 2 3; 4 5 6]\n",
    "\n",
    "transpose(Ma), Ma'"
   ]
  },
  {
   "cell_type": "markdown",
   "metadata": {},
   "source": [
    "### MULTIPLICAÇÃO DE MATRIZES \n",
    "\n",
    "Multiplicação `Ma(linhas_Ma,colunas_Ma) * Mb(linhas_Mb,colunas_Mb)` , só é possível se `colunas_Ma = linhas_Mb` ou seja se o número de colunas de Ma for igual ao número de linhas de Mb resultando em uma matriz de `Ma_linhas e Mb_colunas`"
   ]
  },
  {
   "cell_type": "code",
   "execution_count": 181,
   "metadata": {
    "collapsed": false
   },
   "outputs": [
    {
     "data": {
      "text/plain": [
       "3x4 Array{Float64,2}:\n",
       " 0.26  0.55  0.95  0.81\n",
       " 0.35  0.61  0.86  0.4 \n",
       " 0.41  0.65  0.35  0.45"
      ]
     },
     "execution_count": 181,
     "metadata": {},
     "output_type": "execute_result"
    }
   ],
   "source": [
    "Ma = [1 2 3;4 5 6]\n",
    "\n",
    "Md = [0.26 0.55 0.95 0.81; 0.35 0.61 0.86 0.40;0.41 0.65 0.35 0.45]"
   ]
  },
  {
   "cell_type": "code",
   "execution_count": 182,
   "metadata": {
    "collapsed": false,
    "scrolled": false
   },
   "outputs": [
    {
     "data": {
      "text/plain": [
       "(\n",
       "3x4 Array{Float64,2}:\n",
       " 0.26  0.55  0.95  0.81\n",
       " 0.35  0.61  0.86  0.4 \n",
       " 0.41  0.65  0.35  0.45,\n",
       "\n",
       "2x3 Array{Int64,2}:\n",
       " 1  2  3\n",
       " 4  5  6,\n",
       "\n",
       "2x4 Array{Float64,2}:\n",
       " 2.19  3.72   3.72  2.96\n",
       " 5.25  9.15  10.2   7.94)"
      ]
     },
     "execution_count": 182,
     "metadata": {},
     "output_type": "execute_result"
    }
   ],
   "source": [
    "Md, Ma, Ma*Md"
   ]
  },
  {
   "cell_type": "markdown",
   "metadata": {},
   "source": [
    "### MATRIZ INVERSA "
   ]
  },
  {
   "cell_type": "code",
   "execution_count": 183,
   "metadata": {
    "collapsed": false
   },
   "outputs": [
    {
     "data": {
      "text/plain": [
       "(\n",
       "3x3 Array{Float64,2}:\n",
       " 0.837035  0.318536  0.585224\n",
       " 0.168057  0.330272  0.521461\n",
       " 0.70516   0.815967  0.712486,\n",
       "\n",
       "3x3 Array{Float64,2}:\n",
       "  1.39589   -1.83914   0.199487\n",
       " -1.82009   -1.34831   2.48181 \n",
       "  0.702903   3.36438  -1.63617 )"
      ]
     },
     "execution_count": 183,
     "metadata": {},
     "output_type": "execute_result"
    }
   ],
   "source": [
    "Mx = rand(3,3)\n",
    "Mx_inv = inv(Mx)\n",
    "\n",
    "Mx,Mx_inv"
   ]
  },
  {
   "cell_type": "markdown",
   "metadata": {},
   "source": [
    "### MATRIZES ESPECIAIS "
   ]
  },
  {
   "cell_type": "markdown",
   "metadata": {},
   "source": [
    "* **Matriz de zeros **\n",
    "\n",
    "Matriz no qual todos os elementos são zeros. Sintaxe:\n",
    "```julia\n",
    "zeros(linhas, colunas)\n",
    "```"
   ]
  },
  {
   "cell_type": "code",
   "execution_count": 184,
   "metadata": {
    "collapsed": false,
    "scrolled": true
   },
   "outputs": [
    {
     "data": {
      "text/plain": [
       "3x4 Array{Float64,2}:\n",
       " 0.0  0.0  0.0  0.0\n",
       " 0.0  0.0  0.0  0.0\n",
       " 0.0  0.0  0.0  0.0"
      ]
     },
     "execution_count": 184,
     "metadata": {},
     "output_type": "execute_result"
    }
   ],
   "source": [
    "Me = zeros(3,4)"
   ]
  },
  {
   "cell_type": "markdown",
   "metadata": {},
   "source": [
    "* ** Matriz de uns **\n",
    "\n",
    "Matriz no qual todos os elementos são \"uns\". Sintaxe:\n",
    "```julia\n",
    "ones(linhas, colunas)\n",
    "```"
   ]
  },
  {
   "cell_type": "code",
   "execution_count": 185,
   "metadata": {
    "collapsed": false
   },
   "outputs": [
    {
     "data": {
      "text/plain": [
       "3x4 Array{Float64,2}:\n",
       " 1.0  1.0  1.0  1.0\n",
       " 1.0  1.0  1.0  1.0\n",
       " 1.0  1.0  1.0  1.0"
      ]
     },
     "execution_count": 185,
     "metadata": {},
     "output_type": "execute_result"
    }
   ],
   "source": [
    "Me = ones(3,4)"
   ]
  },
  {
   "cell_type": "markdown",
   "metadata": {},
   "source": [
    "* ** Matriz identidade **\n",
    "\n",
    "Matriz quadrada no qual todos os elementos da diagnoa principal são \"1\" e os demais \"0\". Sintaxe:\n",
    "```julia\n",
    "eye(linhas)\n",
    "```"
   ]
  },
  {
   "cell_type": "code",
   "execution_count": 186,
   "metadata": {
    "collapsed": false
   },
   "outputs": [
    {
     "data": {
      "text/plain": [
       "3x3 Array{Float64,2}:\n",
       " 1.0  0.0  0.0\n",
       " 0.0  1.0  0.0\n",
       " 0.0  0.0  1.0"
      ]
     },
     "execution_count": 186,
     "metadata": {},
     "output_type": "execute_result"
    }
   ],
   "source": [
    "Mf = eye(3)"
   ]
  },
  {
   "cell_type": "markdown",
   "metadata": {},
   "source": [
    "* ** Matriz identidade na forma $ I = M*inv(M)$. **\n",
    "\n",
    "O resultado apresenta valores proximos de zero para os numeros fora da diagonal principal"
   ]
  },
  {
   "cell_type": "code",
   "execution_count": 187,
   "metadata": {
    "collapsed": false,
    "scrolled": false
   },
   "outputs": [
    {
     "data": {
      "text/plain": [
       "3x3 Array{Float64,2}:\n",
       "  1.0           1.33227e-15  1.11022e-15\n",
       " -8.88178e-16   1.0          4.44089e-16\n",
       " -1.22125e-15  -1.66533e-16  1.0        "
      ]
     },
     "execution_count": 187,
     "metadata": {},
     "output_type": "execute_result"
    }
   ],
   "source": [
    "Mx = [0.91   0.43   0.41; 0.45   0.03   0.83; 0.85   0.55   0.10]\n",
    "\n",
    "Mx*inv(Mx)"
   ]
  },
  {
   "cell_type": "markdown",
   "metadata": {},
   "source": [
    "### DETERMINANTE , BASES E DIMENSÃO "
   ]
  },
  {
   "cell_type": "code",
   "execution_count": 20,
   "metadata": {
    "collapsed": false
   },
   "outputs": [
    {
     "data": {
      "text/plain": [
       "3×3 Array{Float64,2}:\n",
       " 0.91  0.43  0.41\n",
       " 0.45  0.03  0.83\n",
       " 0.87  0.55  0.1 "
      ]
     },
     "execution_count": 20,
     "metadata": {},
     "output_type": "execute_result"
    }
   ],
   "source": [
    "Mx = [0.91   0.43   0.41; 0.45   0.03   0.83; 0.87   0.55   0.10]"
   ]
  },
  {
   "cell_type": "markdown",
   "metadata": {},
   "source": [
    "* ** Determinante  **"
   ]
  },
  {
   "cell_type": "code",
   "execution_count": 21,
   "metadata": {
    "collapsed": false
   },
   "outputs": [
    {
     "data": {
      "text/plain": [
       "(\n",
       "[0.91 0.43 0.41; 0.45 0.03 0.83; 0.87 0.55 0.1],\n",
       "\n",
       "-0.030758000000000056)"
      ]
     },
     "execution_count": 21,
     "metadata": {},
     "output_type": "execute_result"
    }
   ],
   "source": [
    "Mx, det(Mx)"
   ]
  },
  {
   "cell_type": "markdown",
   "metadata": {},
   "source": [
    "* **Norma**"
   ]
  },
  {
   "cell_type": "code",
   "execution_count": 22,
   "metadata": {
    "collapsed": false
   },
   "outputs": [
    {
     "data": {
      "text/plain": [
       "1.6280341355208716"
      ]
     },
     "execution_count": 22,
     "metadata": {},
     "output_type": "execute_result"
    }
   ],
   "source": [
    "norm(Mx)"
   ]
  },
  {
   "cell_type": "markdown",
   "metadata": {},
   "source": [
    "* ** Redução de linhas **"
   ]
  },
  {
   "cell_type": "code",
   "execution_count": 3,
   "metadata": {
    "collapsed": false
   },
   "outputs": [
    {
     "ename": "LoadError",
     "evalue": "LoadError: MethodError: no method matching rref(::Array{Int64,2})\nClosest candidates are:\n  rref(!Matched::Nemo.nmod_mat) at /home/jmarcellopereira/.julia/v0.5/Nemo/src/flint/nmod_mat.jl:301\n  rref(!Matched::Nemo.fmpq_mat) at /home/jmarcellopereira/.julia/v0.5/Nemo/src/flint/fmpq_mat.jl:483\n  rref(!Matched::Nemo.fmpz_mat) at /home/jmarcellopereira/.julia/v0.5/Nemo/src/flint/fmpz_mat.jl:870\n  ...\nwhile loading In[3], in expression starting on line 1",
     "output_type": "error",
     "traceback": [
      "LoadError: MethodError: no method matching rref(::Array{Int64,2})\nClosest candidates are:\n  rref(!Matched::Nemo.nmod_mat) at /home/jmarcellopereira/.julia/v0.5/Nemo/src/flint/nmod_mat.jl:301\n  rref(!Matched::Nemo.fmpq_mat) at /home/jmarcellopereira/.julia/v0.5/Nemo/src/flint/fmpq_mat.jl:483\n  rref(!Matched::Nemo.fmpz_mat) at /home/jmarcellopereira/.julia/v0.5/Nemo/src/flint/fmpz_mat.jl:870\n  ...\nwhile loading In[3], in expression starting on line 1",
      ""
     ]
    }
   ],
   "source": [
    "rref(Mx)"
   ]
  },
  {
   "cell_type": "markdown",
   "metadata": {},
   "source": [
    "* ** Base **"
   ]
  },
  {
   "cell_type": "code",
   "execution_count": null,
   "metadata": {
    "collapsed": false
   },
   "outputs": [],
   "source": []
  },
  {
   "cell_type": "markdown",
   "metadata": {},
   "source": [
    "* ** Rank de uma matriz **"
   ]
  },
  {
   "cell_type": "code",
   "execution_count": 5,
   "metadata": {
    "collapsed": false,
    "scrolled": true
   },
   "outputs": [
    {
     "data": {
      "text/plain": [
       "(3,\n",
       "[0.91 0.43 0.41; 0.45 0.03 0.83; 0.87 0.55 0.1])"
      ]
     },
     "execution_count": 5,
     "metadata": {},
     "output_type": "execute_result"
    }
   ],
   "source": [
    "rank(Mx), Mx"
   ]
  },
  {
   "cell_type": "markdown",
   "metadata": {},
   "source": [
    "* ** Dimensão **"
   ]
  },
  {
   "cell_type": "code",
   "execution_count": 192,
   "metadata": {
    "collapsed": false
   },
   "outputs": [
    {
     "data": {
      "text/plain": [
       "(2,\n",
       "3x3 Array{Float64,2}:\n",
       " 0.91  0.43  0.41\n",
       " 0.45  0.03  0.83\n",
       " 0.87  0.55  0.1 )"
      ]
     },
     "execution_count": 192,
     "metadata": {},
     "output_type": "execute_result"
    }
   ],
   "source": [
    "ndims(Mx), Mx"
   ]
  },
  {
   "cell_type": "markdown",
   "metadata": {},
   "source": [
    "### DECOMPOSIÇÃO VETORIAL DE MATRIZES"
   ]
  },
  {
   "cell_type": "markdown",
   "metadata": {},
   "source": [
    "#### DECOMPOSIÇAO LU \n",
    "\n",
    "Encontra a decomposição LU na forma $p  a = L  U$, no qual:\n",
    "* L - triangular inferior,\n",
    "* U - triangular superior,\n",
    "* p - matriz de permutação.\n",
    "\n",
    "    *A matriz \"a\" não necessita ser quadrada."
   ]
  },
  {
   "cell_type": "code",
   "execution_count": 7,
   "metadata": {
    "collapsed": false
   },
   "outputs": [
    {
     "data": {
      "text/plain": [
       "3×3 Array{Float64,2}:\n",
       " 1.0        0.0       0.0\n",
       " 0.494505   1.0       0.0\n",
       " 0.956044  -0.760529  1.0"
      ]
     },
     "metadata": {},
     "output_type": "display_data"
    },
    {
     "data": {
      "text/plain": [
       "3×3 Array{Float64,2}:\n",
       " 0.91   0.43      0.41    \n",
       " 0.0   -0.182637  0.627253\n",
       " 0.0    0.0       0.185066"
      ]
     },
     "metadata": {},
     "output_type": "display_data"
    },
    {
     "data": {
      "text/plain": [
       "3-element Array{Int32,1}:\n",
       " 1\n",
       " 2\n",
       " 3"
      ]
     },
     "metadata": {},
     "output_type": "display_data"
    }
   ],
   "source": [
    "L,U,p = lu(Mx)\n",
    "\n",
    "display(L)\n",
    "display(U)\n",
    "display(p)"
   ]
  },
  {
   "cell_type": "markdown",
   "metadata": {
    "collapsed": true
   },
   "source": [
    "## SISTEMAS LINEARES"
   ]
  },
  {
   "cell_type": "markdown",
   "metadata": {},
   "source": [
    "Dado um sistema de equações lineares, formado pela matriz A matriz dos coeficientes do sistema ou matriz do sistema, vetor b dos coeficientes do sistema, e x vetor das incógnitas. Temos que:\n",
    "![](sistema_matricial.png)\n",
    "\n",
    "\n",
    "$$A\\cdot x = b $$ \n",
    "$$x = A \\setminus b$$"
   ]
  },
  {
   "cell_type": "code",
   "execution_count": 7,
   "metadata": {
    "collapsed": false
   },
   "outputs": [
    {
     "data": {
      "text/plain": [
       "3×3 Array{Float64,2}:\n",
       " 0.361597  0.985671  0.239431\n",
       " 0.215711  0.999347  0.948109\n",
       " 0.58168   0.973782  0.893004"
      ]
     },
     "metadata": {},
     "output_type": "display_data"
    },
    {
     "data": {
      "text/plain": [
       "3×1 Array{Float64,2}:\n",
       " 0.539096\n",
       " 0.965195\n",
       " 0.531188"
      ]
     },
     "metadata": {},
     "output_type": "display_data"
    }
   ],
   "source": [
    "# criando duas matrizes aleatórias\n",
    "\n",
    "A = rand(3,3) # matriz das coeficientes\n",
    "B = rand(3,1) # vetor dos termos independentes\n",
    "\n",
    "display(A)\n",
    "display(B)"
   ]
  },
  {
   "cell_type": "code",
   "execution_count": 8,
   "metadata": {
    "collapsed": false,
    "scrolled": true
   },
   "outputs": [
    {
     "data": {
      "text/plain": [
       "3×1 Array{Float64,2}:\n",
       " -1.07158 \n",
       "  0.85157 \n",
       "  0.364233"
      ]
     },
     "execution_count": 8,
     "metadata": {},
     "output_type": "execute_result"
    }
   ],
   "source": [
    "# X1,X2,X3: solução dos sistema\n",
    "\n",
    "x = A\\B"
   ]
  },
  {
   "cell_type": "markdown",
   "metadata": {},
   "source": [
    "** O poder de cálculo JULIA na manipulação de matrizes**\n",
    "\n",
    "Vamos calcular um sistema linear de 5000 equações e 5000 variáveis. ATENÇÃO!!! Ao definir matrizes grandes, atente ao tamanho da memória ram do computador, pois dependendo do tamanho pode ser consumida toda a ram e toda a memória virtual (swap) e travar a máquina"
   ]
  },
  {
   "cell_type": "code",
   "execution_count": 11,
   "metadata": {
    "collapsed": false
   },
   "outputs": [],
   "source": [
    "A = rand(5000,5000)\n",
    "B = rand(5000,1);"
   ]
  },
  {
   "cell_type": "code",
   "execution_count": 12,
   "metadata": {
    "collapsed": false,
    "scrolled": true
   },
   "outputs": [
    {
     "data": {
      "text/plain": [
       "2.123256429"
      ]
     },
     "execution_count": 12,
     "metadata": {},
     "output_type": "execute_result"
    }
   ],
   "source": [
    "@elapsed x = A\\B"
   ]
  },
  {
   "cell_type": "code",
   "execution_count": 198,
   "metadata": {
    "collapsed": false
   },
   "outputs": [
    {
     "data": {
      "text/plain": [
       "Array{Float64,2}"
      ]
     },
     "execution_count": 198,
     "metadata": {},
     "output_type": "execute_result"
    }
   ],
   "source": [
    "typeof(x)"
   ]
  },
  {
   "cell_type": "code",
   "execution_count": 199,
   "metadata": {
    "collapsed": false
   },
   "outputs": [
    {
     "data": {
      "text/plain": [
       "(1.6645174523518325,-2.742295611847515)"
      ]
     },
     "execution_count": 199,
     "metadata": {},
     "output_type": "execute_result"
    }
   ],
   "source": [
    "#Qual o resultado de x2 e de x4999?\n",
    "\n",
    "x[2], x[4999]"
   ]
  },
  {
   "cell_type": "markdown",
   "metadata": {},
   "source": [
    "## AUTOVALORES E AUTOVETORES\n"
   ]
  },
  {
   "cell_type": "markdown",
   "metadata": {},
   "source": [
    "### AUTOVALORES\n",
    "\n",
    "Em álgebra linear, um escalar λ é valor próprio (ou autovalor) de um operador linear ${\\displaystyle A:V\\rightarrow V} $ se existir um vector x diferente de zero tal que ${\\displaystyle A{\\mathbf {x}}=\\lambda {\\mathbf {x}}}$. O vector x é chamado vector próprio.\n",
    "\n",
    "Os autovalores de uma dada matriz quadrada A de dimensão ${\\displaystyle n\\times n}$ são os n números que resumem as propriedades essenciais daquela matriz. O autovalor de A é um número λ tal que, se for subtraído de cada entrada na diagonal de A, converte A numa matriz singular(ou não-invertível). Subtrair um escalar λ de cada entrada na diagonal de A é o mesmo que subtrair λ vezes a matriz identidade I de A. Portanto, λ é um autovalor se, e somente se, a matriz $   {\\displaystyle (A-\\lambda I)} $ for singular. Wikipedia."
   ]
  },
  {
   "cell_type": "code",
   "execution_count": null,
   "metadata": {
    "collapsed": false,
    "scrolled": false
   },
   "outputs": [],
   "source": []
  },
  {
   "cell_type": "markdown",
   "metadata": {},
   "source": [
    "### AUTOVETORES\n",
    "\n",
    "Em Álgebra linear, um autovetor ou vetor próprio representa uma direção que é preservada por uma transformação linear. Mais precisamente, seja V um espaço vectorial sobre um corpo F, e A: V→ V uma transformação linear. v é um autovetor quando v não é o vector nulo e existe um escalar ${\\displaystyle \\lambda } $ tal que\n",
    "\n",
    "$ {\\displaystyle A\\ v=\\lambda \\ v\\,} $.\n",
    "\n",
    "Nesse caso, dizemos também que ${\\displaystyle \\lambda \\,}$ é um autovalor ou valor próprio. v é chamado de autovetor associado ao autovalor ${\\displaystyle \\lambda \\,} $. Wikipedia."
   ]
  },
  {
   "cell_type": "code",
   "execution_count": null,
   "metadata": {
    "collapsed": true
   },
   "outputs": [],
   "source": []
  },
  {
   "cell_type": "markdown",
   "metadata": {},
   "source": [
    "%%% Fim Algebra linear %%%"
   ]
  }
 ],
 "metadata": {
  "anaconda-cloud": {},
  "kernelspec": {
   "display_name": "Julia 0.5.0",
   "language": "julia",
   "name": "julia-0.5"
  },
  "language_info": {
   "file_extension": ".jl",
   "mimetype": "application/julia",
   "name": "julia",
   "version": "0.5.0"
  }
 },
 "nbformat": 4,
 "nbformat_minor": 0
}
