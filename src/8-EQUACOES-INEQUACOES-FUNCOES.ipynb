{
 "cells": [
  {
   "cell_type": "markdown",
   "metadata": {
    "nbpresent": {
     "id": "c28ef5b9-f892-488f-86f2-fbc89cc29974"
    }
   },
   "source": [
    "# EQUAÇÕES, INEQUAÇÕES E FUNÇÕES\n",
    "\n",
    "De acordo com o dicionario matemático disponível em \"http://www.somatematica.com.br/dicionarioMatematico\" temos que:\n",
    "\n",
    "**Equação:** Expressão algébrica indicada por uma igualdade, onde há valores desconhecidos expressos por letras (incógnitas). Logo, todo conjunto de expressões no qual há uma igualdade cuja(s) incógita(s) satisfaçam a um conjunto limitado de soluções, então temos uma equação. \n",
    "\n",
    "Ex: $x + 2 =0 ~,~ xy - 2x = 2$, $x^2 + y^2 =2^2$.\n",
    "\n",
    "**Inequação:** Desigualdade verificada a determinado(s) valor(es) atribuídos à variável. Uma inequação é uma equação no qual há uma desigualdade do tipo <, >, >=, =< ou #. \n",
    "\n",
    "Ex: $x + 2 > 0~,~xy - 2x < 2, x^2 + y^2 + 2^2 $.\n",
    "\n",
    "**Função:** É uma correspondência unívoca entre dois conjuntos em que a cada elemento do primeiro conjunto corresponde a um e somente um elemento do segundo. Dessa forma, temos que uma função é uma relação entre das variáveis, sendo uma dependente e outra independente. \n",
    "\n",
    "Ex: $y(x) = x + 2 ~,~ z = xy - 2x, f(x) = x^2 + y^2$\n"
   ]
  },
  {
   "cell_type": "markdown",
   "metadata": {
    "nbpresent": {
     "id": "78e2e5b2-77bd-46d0-9761-dd44665921e8"
    }
   },
   "source": [
    "## EQUAÇÕES \n",
    "\n",
    "Em Julia, uma expressão pode ser definida na forma:\n",
    "```julia\n",
    "expr = :(expressao_var)\n",
    "```\n",
    "Depois de definir o valor das variáveis, a forma de calcular a expressão é utilizando o comando **eval(expressao)**"
   ]
  },
  {
   "cell_type": "code",
   "execution_count": 12,
   "metadata": {
    "collapsed": false,
    "nbpresent": {
     "id": "b750a6b3-e145-4065-8540-62a82b2923f5"
    }
   },
   "outputs": [
    {
     "data": {
      "text/plain": [
       ":(x ^ 2 + 2x + 3)"
      ]
     },
     "execution_count": 12,
     "metadata": {},
     "output_type": "execute_result"
    }
   ],
   "source": [
    "expr1 = :(x^2 + 2*x + 3)"
   ]
  },
  {
   "cell_type": "code",
   "execution_count": 13,
   "metadata": {
    "collapsed": false,
    "nbpresent": {
     "id": "a3a7cae5-0f95-4b5b-b0d4-dd07db2dea98"
    },
    "scrolled": true
   },
   "outputs": [
    {
     "data": {
      "text/plain": [
       "Expr"
      ]
     },
     "execution_count": 13,
     "metadata": {},
     "output_type": "execute_result"
    }
   ],
   "source": [
    "typeof(expr1)"
   ]
  },
  {
   "cell_type": "code",
   "execution_count": 18,
   "metadata": {
    "collapsed": false,
    "nbpresent": {
     "id": "f4b2c7b0-ce52-40c4-966b-33ada01d8764"
    },
    "scrolled": true
   },
   "outputs": [
    {
     "data": {
      "text/plain": [
       "3"
      ]
     },
     "execution_count": 18,
     "metadata": {},
     "output_type": "execute_result"
    }
   ],
   "source": [
    "x = 0\n",
    "\n",
    "eval(expr1)"
   ]
  },
  {
   "cell_type": "markdown",
   "metadata": {
    "nbpresent": {
     "id": "003b8705-d411-4813-9774-a0cb0a49f553"
    }
   },
   "source": [
    "Expressão de duas variáveis"
   ]
  },
  {
   "cell_type": "code",
   "execution_count": 5,
   "metadata": {
    "collapsed": false,
    "nbpresent": {
     "id": "9a4ca639-7ebb-49c8-8784-9ea0be00a9e3"
    },
    "scrolled": true
   },
   "outputs": [
    {
     "data": {
      "text/plain": [
       ":(x .^ 2 + y .^ 2 + 4)"
      ]
     },
     "execution_count": 5,
     "metadata": {},
     "output_type": "execute_result"
    }
   ],
   "source": [
    "expr2 = :(x.^2 + y.^2 + 4)"
   ]
  },
  {
   "cell_type": "code",
   "execution_count": 6,
   "metadata": {
    "collapsed": false,
    "nbpresent": {
     "id": "56c99851-66e8-45f4-baad-d8f3b603da1a"
    }
   },
   "outputs": [
    {
     "data": {
      "text/plain": [
       "3-element Array{Int64,1}:\n",
       "  5\n",
       " 12\n",
       " 29"
      ]
     },
     "execution_count": 6,
     "metadata": {},
     "output_type": "execute_result"
    }
   ],
   "source": [
    "x = [1,2,3]\n",
    "y = [0,2,4]\n",
    "\n",
    "eval(expr2)"
   ]
  },
  {
   "cell_type": "markdown",
   "metadata": {
    "nbpresent": {
     "id": "f22c311e-f953-45c4-a587-50c8ca66cbc8"
    }
   },
   "source": [
    "## INEQUAÇÕES "
   ]
  },
  {
   "cell_type": "code",
   "execution_count": 7,
   "metadata": {
    "collapsed": false,
    "nbpresent": {
     "id": "d2412537-6592-441a-87f0-904de7f3b50a"
    }
   },
   "outputs": [],
   "source": [
    "using SymPy"
   ]
  },
  {
   "cell_type": "code",
   "execution_count": 8,
   "metadata": {
    "collapsed": false,
    "nbpresent": {
     "id": "9c04a8b0-74e1-4d6d-9db1-f50b05aaf71c"
    }
   },
   "outputs": [
    {
     "data": {
      "text/plain": [
       "(x,y)"
      ]
     },
     "execution_count": 8,
     "metadata": {},
     "output_type": "execute_result"
    }
   ],
   "source": [
    "@vars x y \n",
    "\n",
    "# ou @syms x y ou x,y = Sym(\"x,y\")"
   ]
  },
  {
   "cell_type": "code",
   "execution_count": 9,
   "metadata": {
    "collapsed": false,
    "nbpresent": {
     "id": "f5a06b40-34cc-4a7a-95a9-914d6552e49e"
    }
   },
   "outputs": [
    {
     "data": {
      "text/latex": [
       "$$x - 5 \\geq 5$$"
      ],
      "text/plain": [
       "x - 5 >= 5"
      ]
     },
     "metadata": {},
     "output_type": "display_data"
    },
    {
     "data": {
      "text/latex": [
       "$$x + y \\leq 0$$"
      ],
      "text/plain": [
       "x + y <= 0"
      ]
     },
     "metadata": {},
     "output_type": "display_data"
    }
   ],
   "source": [
    "ineq1 = x - 5 >= 5\n",
    "\n",
    "ineq2 = x + y <= 0\n",
    "\n",
    "display(ineq1)\n",
    "display(ineq2)"
   ]
  },
  {
   "cell_type": "code",
   "execution_count": 10,
   "metadata": {
    "collapsed": false,
    "nbpresent": {
     "id": "387e9aad-c5b5-4f20-a9f5-632ad6b98f39"
    }
   },
   "outputs": [
    {
     "data": {
      "text/plain": [
       "false"
      ]
     },
     "execution_count": 10,
     "metadata": {},
     "output_type": "execute_result"
    }
   ],
   "source": [
    "ineq1 == ineq2"
   ]
  },
  {
   "cell_type": "markdown",
   "metadata": {
    "nbpresent": {
     "id": "75d227bf-0637-4fc2-bf51-d62f35e2e278"
    }
   },
   "source": [
    "## FUNÇÕES\n",
    "\n",
    "Julia possui dois tipos de funções: Simbólicas, Genéricas e Anônimas. Cada uma possui vantagens e desvantagens quanto ao desempenho e sintaxe. Em geral a mais utilizada é a função genérica. A função simbólica faz parte do pacote `SymPy` e a função anônima é otima para reduzir linhas de códicos e ainda permite proteger variáveis."
   ]
  },
  {
   "cell_type": "markdown",
   "metadata": {
    "nbpresent": {
     "id": "fc6073d0-4871-4ea7-a98c-0c1e0398915a"
    }
   },
   "source": [
    "### FUNÇÕES MATEMÁTICAS SIMBÓLICAS\n",
    "\n",
    "Funções Simbólicas são funções no qual uma ou várias variáveis são defininidas do tipo simbólico. O pacote SymPy é utilizado criar as variáveis de acordo com a sintaxe:\n",
    "```julia\n",
    "funcao = expressão_var_simbolica\n",
    "```\n",
    "Uma ou várias variáveis simbólicas podem ser definidas de 3 formas diferentes:\n",
    "```julia\n",
    "using SymPy\n",
    "@vars x y\n",
    "@syms x y \n",
    "x,y = Sym(\"x,y\")\n",
    "```\n",
    "Uma variável simbólica não possui valor pré-definido e dessa forma permite manipulações algébricas. Não use a forma ** F(X) = EXPRESSAO **, esta é a forma da função genérica"
   ]
  },
  {
   "cell_type": "markdown",
   "metadata": {
    "nbpresent": {
     "id": "7e7ea475-91d2-48ca-a5b2-f023cc9a05bf"
    }
   },
   "source": [
    "#### FUNÇÃO SMBÓLICA DE UMA VARIÁVEL "
   ]
  },
  {
   "cell_type": "code",
   "execution_count": 1,
   "metadata": {
    "collapsed": false,
    "nbpresent": {
     "id": "d5ec3e5a-9cc5-449b-9612-31a6e6d3d0d0"
    }
   },
   "outputs": [
    {
     "data": {
      "text/plain": [
       "(x,y)"
      ]
     },
     "execution_count": 1,
     "metadata": {},
     "output_type": "execute_result"
    }
   ],
   "source": [
    "using SymPy\n",
    "@syms x y"
   ]
  },
  {
   "cell_type": "code",
   "execution_count": 2,
   "metadata": {
    "collapsed": false,
    "nbpresent": {
     "id": "d9a907cf-dd9c-496d-8a73-a7fba161b990"
    }
   },
   "outputs": [
    {
     "data": {
      "text/latex": [
       "$$x^{2} + 1$$"
      ],
      "text/plain": [
       " 2    \n",
       "x  + 1"
      ]
     },
     "execution_count": 2,
     "metadata": {},
     "output_type": "execute_result"
    }
   ],
   "source": [
    "f = x^2 + 1"
   ]
  },
  {
   "cell_type": "code",
   "execution_count": 3,
   "metadata": {
    "collapsed": false,
    "nbpresent": {
     "id": "754bae99-7d49-4815-aa25-8e96d7138e60"
    }
   },
   "outputs": [
    {
     "data": {
      "text/plain": [
       "SymPy.Sym"
      ]
     },
     "execution_count": 3,
     "metadata": {},
     "output_type": "execute_result"
    }
   ],
   "source": [
    "typeof(f)"
   ]
  },
  {
   "cell_type": "code",
   "execution_count": 4,
   "metadata": {
    "collapsed": false,
    "nbpresent": {
     "id": "72b04695-f2b2-48fd-b542-b4337f9bbe6b"
    },
    "scrolled": true
   },
   "outputs": [
    {
     "name": "stdout",
     "output_type": "stream",
     "text": [
      "                          Base  35366 KB     Module\n",
      "                       BinDeps    219 KB     Module\n",
      "                        Compat   5515 KB     Module\n",
      "                         Conda     42 KB     Module\n",
      "                          Core  13329 KB     Module\n",
      "                        IJulia   6559 KB     Module\n",
      "                          JSON   5602 KB     Module\n",
      "                    MacroTools   5648 KB     Module\n",
      "                          Main  46437 KB     Module\n",
      "                        Nettle   5505 KB     Module\n",
      "                        PyCall   6676 KB     Module\n",
      "                   RecipesBase     23 KB     Module\n",
      "                           SHA     71 KB     Module\n",
      "                         SymPy   8153 KB     Module\n",
      "                     URIParser   5507 KB     Module\n",
      "                           ZMQ   5515 KB     Module\n",
      "                             f     16 bytes  SymPy.Sym\n",
      "                             x     16 bytes  SymPy.Sym\n",
      "                             y     16 bytes  SymPy.Sym\n"
     ]
    }
   ],
   "source": [
    "# observe a criação da função f como simbolica(SymPy.Sym)\n",
    "\n",
    "whos()"
   ]
  },
  {
   "cell_type": "markdown",
   "metadata": {
    "nbpresent": {
     "id": "cf4f3f0f-0e89-4c23-b168-bd2286507d96"
    }
   },
   "source": [
    "Observe que o comando Whos() informa que \"F\" e \"f\" são diferentes. \"F\" é uma função e \"f\" é uma expressão simbólica"
   ]
  },
  {
   "cell_type": "code",
   "execution_count": 15,
   "metadata": {
    "collapsed": false,
    "nbpresent": {
     "id": "be1bd44f-58f2-4dd3-801a-5b63eaa7fead"
    }
   },
   "outputs": [
    {
     "data": {
      "text/latex": [
       "$$5$$"
      ],
      "text/plain": [
       "5"
      ]
     },
     "metadata": {},
     "output_type": "display_data"
    },
    {
     "data": {
      "text/latex": [
       "$$1 + \\pi^{2}$$"
      ],
      "text/plain": [
       "      2\n",
       "1 + pi "
      ]
     },
     "metadata": {},
     "output_type": "display_data"
    },
    {
     "data": {
      "text/plain": [
       "10.869604401089358"
      ]
     },
     "metadata": {},
     "output_type": "display_data"
    },
    {
     "data": {
      "text/plain": [
       "10.869604401089358"
      ]
     },
     "metadata": {},
     "output_type": "display_data"
    }
   ],
   "source": [
    "display(f(2))\n",
    "\n",
    "display(f(pi))\n",
    "\n",
    "display(float(f(pi)))\n",
    "\n",
    "display(N(f(pi))) # igual a float()"
   ]
  },
  {
   "cell_type": "code",
   "execution_count": 16,
   "metadata": {
    "collapsed": false,
    "nbpresent": {
     "id": "2d448b51-2b51-46ac-aab3-b064e27f4738"
    }
   },
   "outputs": [
    {
     "data": {
      "text/latex": [
       "$$x^{3} + 1$$"
      ],
      "text/plain": [
       " 3    \n",
       "x  + 1"
      ]
     },
     "execution_count": 16,
     "metadata": {},
     "output_type": "execute_result"
    }
   ],
   "source": [
    "g = x^3 + 1"
   ]
  },
  {
   "cell_type": "code",
   "execution_count": 17,
   "metadata": {
    "collapsed": false,
    "nbpresent": {
     "id": "86188512-0783-4221-b250-2aaa6ad91613"
    }
   },
   "outputs": [
    {
     "data": {
      "text/latex": [
       "$$x^{3} + x^{2} + 2$$"
      ],
      "text/plain": [
       " 3    2    \n",
       "x  + x  + 2"
      ]
     },
     "execution_count": 17,
     "metadata": {},
     "output_type": "execute_result"
    }
   ],
   "source": [
    "g + f"
   ]
  },
  {
   "cell_type": "markdown",
   "metadata": {
    "nbpresent": {
     "id": "dcf73bda-5db8-40fb-b827-ffe2834b6074"
    }
   },
   "source": [
    "#### FUNÇÃO SIMBÓLICA DE DUAS VARIÁVEIS f(x,y) "
   ]
  },
  {
   "cell_type": "code",
   "execution_count": 18,
   "metadata": {
    "collapsed": false,
    "nbpresent": {
     "id": "2c4aafd3-ed98-4577-84da-496378669840"
    }
   },
   "outputs": [
    {
     "data": {
      "text/plain": [
       "(x,y)"
      ]
     },
     "execution_count": 18,
     "metadata": {},
     "output_type": "execute_result"
    }
   ],
   "source": [
    "using SymPy\n",
    "\n",
    "@syms x y # ou @vars x y ou x,y = Sym(\"x,y\")"
   ]
  },
  {
   "cell_type": "code",
   "execution_count": 19,
   "metadata": {
    "collapsed": false,
    "nbpresent": {
     "id": "b6c97984-74dc-4dc4-99b5-f80c98d2063c"
    },
    "scrolled": false
   },
   "outputs": [
    {
     "data": {
      "text/latex": [
       "$$x y - x + y$$"
      ],
      "text/plain": [
       "x*y - x + y"
      ]
     },
     "execution_count": 19,
     "metadata": {},
     "output_type": "execute_result"
    }
   ],
   "source": [
    "fxy = x*y - x + y"
   ]
  },
  {
   "cell_type": "code",
   "execution_count": 20,
   "metadata": {
    "collapsed": false,
    "nbpresent": {
     "id": "022d8738-11ab-41bf-8f1d-2073a3224eb3"
    }
   },
   "outputs": [
    {
     "data": {
      "text/latex": [
       "$$1$$"
      ],
      "text/plain": [
       "1"
      ]
     },
     "execution_count": 20,
     "metadata": {},
     "output_type": "execute_result"
    }
   ],
   "source": [
    "fxy(0,1)"
   ]
  },
  {
   "cell_type": "code",
   "execution_count": 21,
   "metadata": {
    "collapsed": false,
    "nbpresent": {
     "id": "8961b55f-ad95-40ca-9e0b-8a8e9d225266"
    },
    "scrolled": true
   },
   "outputs": [
    {
     "data": {
      "text/latex": [
       "$$x^{3} + y^{3} + y$$"
      ],
      "text/plain": [
       " 3    3    \n",
       "x  + y  + y"
      ]
     },
     "execution_count": 21,
     "metadata": {},
     "output_type": "execute_result"
    }
   ],
   "source": [
    "gxy = x^3 + y^3 + y"
   ]
  },
  {
   "cell_type": "code",
   "execution_count": 22,
   "metadata": {
    "collapsed": false
   },
   "outputs": [
    {
     "data": {
      "text/latex": [
       "$$x^{3} + x y - x + y^{3} + 2 y$$"
      ],
      "text/plain": [
       " 3              3      \n",
       "x  + x*y - x + y  + 2*y"
      ]
     },
     "execution_count": 22,
     "metadata": {},
     "output_type": "execute_result"
    }
   ],
   "source": [
    "gxy + fxy"
   ]
  },
  {
   "cell_type": "markdown",
   "metadata": {
    "nbpresent": {
     "id": "910882c2-dc49-483c-8e79-09dc10a2c7d8"
    }
   },
   "source": [
    "#### FUNÇÃO SIMBÓLICA APLICADA A VETORES/MATRIZES\n",
    "\n",
    "uma vez vinculado uma variável a um vetor, qualquer função definida com esta variável será automaticamente avaliada. E uma vez avaliado, não permite novas avaliações."
   ]
  },
  {
   "cell_type": "code",
   "execution_count": 13,
   "metadata": {
    "collapsed": false,
    "nbpresent": {
     "id": "8f27f473-ec49-4797-a0a8-d3832c8ddd59"
    },
    "scrolled": true
   },
   "outputs": [
    {
     "name": "stderr",
     "output_type": "stream",
     "text": [
      "INFO: Recompiling stale cache file /home/jmarcellopereira/.julia/lib/v0.5/SymPy.ji for module SymPy.\n"
     ]
    },
    {
     "data": {
      "text/plain": [
       "(x,y)"
      ]
     },
     "execution_count": 13,
     "metadata": {},
     "output_type": "execute_result"
    }
   ],
   "source": [
    "using SymPy\n",
    "@syms x y"
   ]
  },
  {
   "cell_type": "code",
   "execution_count": 17,
   "metadata": {
    "collapsed": false,
    "nbpresent": {
     "id": "344930cd-2060-4697-8540-c933c9423f70"
    },
    "scrolled": false
   },
   "outputs": [
    {
     "data": {
      "text/latex": [
       "$$\\frac{\\sqrt{2 x + \\cos^{3}{\\left (x \\right )}}}{\\sin{\\left (x^{2} + 1 \\right )}}$$"
      ],
      "text/plain": [
       "   _______________\n",
       "  /          3    \n",
       "\\/  2*x + cos (x) \n",
       "------------------\n",
       "      / 2    \\    \n",
       "   sin\\x  + 1/    "
      ]
     },
     "execution_count": 17,
     "metadata": {},
     "output_type": "execute_result"
    }
   ],
   "source": [
    "# definir a função simbólica\n",
    "fs1 = sqrt(2*x + cos(x)^3)/sin(x^2+1)"
   ]
  },
  {
   "cell_type": "code",
   "execution_count": 18,
   "metadata": {
    "collapsed": false,
    "scrolled": true
   },
   "outputs": [
    {
     "data": {
      "text/latex": [
       "\\begin{bmatrix}1.61544600797558\\\\-2.06679638003354\\\\-4.12245841788442\\end{bmatrix}"
      ],
      "text/plain": [
       "3-element Array{SymPy.Sym,1}\n",
       "[1.61544600797558 ]\n",
       "[                 ]\n",
       "[-2.06679638003354]\n",
       "[                 ]\n",
       "[-4.12245841788442]"
      ]
     },
     "execution_count": 18,
     "metadata": {},
     "output_type": "execute_result"
    }
   ],
   "source": [
    "# Vetor\n",
    "# O ponto \".\" serve para calcular elemento-elemento em um vetor\n",
    "fs1.([1.0, 2.0, 3.0])"
   ]
  },
  {
   "cell_type": "code",
   "execution_count": 20,
   "metadata": {
    "collapsed": false
   },
   "outputs": [
    {
     "data": {
      "text/latex": [
       "\\begin{bmatrix}1.61544600797558&-2.06679638003354&-4.12245841788442\\\\-2.89018883855313&4.15166141951347&-5.57790883165457\\end{bmatrix}"
      ],
      "text/plain": [
       "2×3 Array{SymPy.Sym,2}\n",
       "[1.61544600797558   -2.06679638003354  -4.12245841788442]\n",
       "[                                                       ]\n",
       "[-2.89018883855313  4.15166141951347   -5.57790883165457]"
      ]
     },
     "execution_count": 20,
     "metadata": {},
     "output_type": "execute_result"
    }
   ],
   "source": [
    "# Matriz\n",
    "# O ponto \".\" serve para calcular elemento-elemento em um vetor\n",
    "\n",
    "fs1.([1.0 2.0 3.0 ; 4.0 5.0 6.0] )"
   ]
  },
  {
   "cell_type": "code",
   "execution_count": 27,
   "metadata": {
    "collapsed": false,
    "scrolled": true
   },
   "outputs": [
    {
     "data": {
      "text/latex": [
       "$$x^{2} - 2 y$$"
      ],
      "text/plain": [
       " 2      \n",
       "x  - 2*y"
      ]
     },
     "execution_count": 27,
     "metadata": {},
     "output_type": "execute_result"
    }
   ],
   "source": [
    "# Função de duas variáveis\n",
    "fs2 = x^2 - 2*y"
   ]
  },
  {
   "cell_type": "code",
   "execution_count": 28,
   "metadata": {
    "collapsed": false
   },
   "outputs": [
    {
     "data": {
      "text/latex": [
       "\\begin{bmatrix}-7.0\\\\-6.0\\\\-3.0\\end{bmatrix}"
      ],
      "text/plain": [
       "3-element Array{SymPy.Sym,1}\n",
       "[-7.0]\n",
       "[    ]\n",
       "[-6.0]\n",
       "[    ]\n",
       "[-3.0]"
      ]
     },
     "execution_count": 28,
     "metadata": {},
     "output_type": "execute_result"
    }
   ],
   "source": [
    "# Vetor\n",
    "# O ponto \".\" serve para calcular elemento-elemento em um vetor\n",
    "fs2.([1.0, 2.0, 3.0] ,[ 4.0, 5.0, 6.0] )"
   ]
  },
  {
   "cell_type": "code",
   "execution_count": 31,
   "metadata": {
    "collapsed": false
   },
   "outputs": [
    {
     "data": {
      "text/latex": [
       "\\begin{bmatrix}1.61544600797558&-2.06679638003354&-4.12245841788442\\\\-2.89018883855313&4.15166141951347&-5.57790883165457\\end{bmatrix}"
      ],
      "text/plain": [
       "2×3 Array{SymPy.Sym,2}\n",
       "[1.61544600797558   -2.06679638003354  -4.12245841788442]\n",
       "[                                                       ]\n",
       "[-2.89018883855313  4.15166141951347   -5.57790883165457]"
      ]
     },
     "execution_count": 31,
     "metadata": {},
     "output_type": "execute_result"
    }
   ],
   "source": [
    "# Matriz\n",
    "# O ponto \".\" serve para calcular elemento-elemento em uma matriz\n",
    "fs1.([1.0 2.0 3.0 ; 4.0 5.0 6.0],[1.0 2.0 3.0 ; 4.0 5.0 6.0]  )"
   ]
  },
  {
   "cell_type": "markdown",
   "metadata": {},
   "source": [
    "Obs: Se definir um vetor e for aplicá-lo a uma função, a função deve ser definida com \" . \" entre \" * \" , \" / \" e \" ^ \" para realizar a operação elemento-elemento no vetor"
   ]
  },
  {
   "cell_type": "code",
   "execution_count": 32,
   "metadata": {
    "collapsed": false
   },
   "outputs": [
    {
     "data": {
      "text/plain": [
       "3-element Array{Float64,1}:\n",
       "  1.61545\n",
       " -2.0668 \n",
       " -4.12246"
      ]
     },
     "execution_count": 32,
     "metadata": {},
     "output_type": "execute_result"
    }
   ],
   "source": [
    "x = 1:3\n",
    "fsd_1 = sqrt(2.*x + cos(x).^3)./sin(x.^2 + 1)"
   ]
  },
  {
   "cell_type": "code",
   "execution_count": 35,
   "metadata": {
    "collapsed": false,
    "nbpresent": {
     "id": "1bf4e1db-82b5-4bad-a24c-aef31475bbab"
    },
    "scrolled": true
   },
   "outputs": [
    {
     "ename": "LoadError",
     "evalue": "LoadError: MethodError: objects of type Array{Float64,1} are not callable\nUse square brackets [] for indexing an Array.\nwhile loading In[35], in expression starting on line 4",
     "output_type": "error",
     "traceback": [
      "LoadError: MethodError: objects of type Array{Float64,1} are not callable\nUse square brackets [] for indexing an Array.\nwhile loading In[35], in expression starting on line 4",
      ""
     ]
    }
   ],
   "source": [
    "# se fizer fsd_1(2), ocorre erro, pois \"x\"\n",
    "# ja possui valores definidos como vetor\n",
    "\n",
    "fsd_1(2)"
   ]
  },
  {
   "cell_type": "markdown",
   "metadata": {
    "nbpresent": {
     "id": "cc76e604-262d-467d-9096-f99a585bc8d2"
    }
   },
   "source": []
  },
  {
   "cell_type": "markdown",
   "metadata": {
    "nbpresent": {
     "id": "ab66202c-2b25-49b9-b08e-073d9f47b5cd"
    }
   },
   "source": [
    "### FUNÇÕES GENÉRICAS \n",
    "\n",
    "As funções genéricas são funções da mesma qualidade das funções declaradas como **function**. Permitem o uso de variáveis simbolicas definidas pelo **SymPy**. Usam a seguinte sintaxe:\n",
    "```julia\n",
    "nome_funcao(variável ou variáveis) = expressão_variavel\n",
    "```\n",
    "\n",
    "Sendo a \"expressão_variavel\" uma expressão em função de uma ou mais variáveis."
   ]
  },
  {
   "cell_type": "code",
   "execution_count": 31,
   "metadata": {
    "collapsed": true,
    "nbpresent": {
     "id": "fb359175-2961-4730-8269-190b962e0008"
    }
   },
   "outputs": [],
   "source": [
    "# resetar todas as variáveis\n",
    "workspace()"
   ]
  },
  {
   "cell_type": "code",
   "execution_count": 32,
   "metadata": {
    "collapsed": false,
    "nbpresent": {
     "id": "9d6fad12-6ee0-459e-b16c-a44970d13011"
    },
    "scrolled": true
   },
   "outputs": [
    {
     "data": {
      "text/plain": [
       "fg1 (generic function with 1 method)"
      ]
     },
     "execution_count": 32,
     "metadata": {},
     "output_type": "execute_result"
    }
   ],
   "source": [
    "# criando a função genérica F(x)\n",
    "fg1(x) = x^2 + 2*x + 1"
   ]
  },
  {
   "cell_type": "code",
   "execution_count": 33,
   "metadata": {
    "collapsed": false,
    "nbpresent": {
     "id": "fd0f36e8-e645-4c2d-8714-025d9cc6ebce"
    }
   },
   "outputs": [
    {
     "data": {
      "text/plain": [
       "fg2 (generic function with 1 method)"
      ]
     },
     "execution_count": 33,
     "metadata": {},
     "output_type": "execute_result"
    }
   ],
   "source": [
    "# criando a função genérica G(x)\n",
    "fg2(x) = x^3 + 2*x^2 + x + 1"
   ]
  },
  {
   "cell_type": "code",
   "execution_count": 34,
   "metadata": {
    "collapsed": false,
    "nbpresent": {
     "id": "b12f0a3a-d373-42a8-9dbf-ddb6ba47c3c2"
    }
   },
   "outputs": [
    {
     "data": {
      "text/plain": [
       "fg3 (generic function with 1 method)"
      ]
     },
     "execution_count": 34,
     "metadata": {},
     "output_type": "execute_result"
    }
   ],
   "source": [
    "# criando a função genérica H(r,s)\n",
    "fg3(r,s) = r*s + r + s"
   ]
  },
  {
   "cell_type": "code",
   "execution_count": 35,
   "metadata": {
    "collapsed": false,
    "nbpresent": {
     "id": "e094f015-5fb2-47d1-9649-402035916f0a"
    },
    "scrolled": true
   },
   "outputs": [
    {
     "data": {
      "text/plain": [
       "(#fg1,#fg2,#fg3)"
      ]
     },
     "execution_count": 35,
     "metadata": {},
     "output_type": "execute_result"
    }
   ],
   "source": [
    "# verificando o tipo de dado da funções criadas: tipo função\n",
    "typeof(fg1), typeof(fg2), typeof(fg3)"
   ]
  },
  {
   "cell_type": "code",
   "execution_count": 36,
   "metadata": {
    "collapsed": false,
    "nbpresent": {
     "id": "79c15a0c-5634-4252-bd2b-2462c2284d56"
    }
   },
   "outputs": [
    {
     "name": "stdout",
     "output_type": "stream",
     "text": [
      "                          Base  36909 KB     Module\n",
      "                          Core  13856 KB     Module\n",
      "                      LastMain  40813 KB     Module\n",
      "                          Main  13858 KB     Module\n",
      "                           fg1      0 bytes  #fg1\n",
      "                           fg2      0 bytes  #fg2\n",
      "                           fg3      0 bytes  #fg3\n"
     ]
    }
   ],
   "source": [
    "# verificando o tipo de dado das variáveis criadas\n",
    "# observe que F,G e H são do tipo function\n",
    "whos()"
   ]
  },
  {
   "cell_type": "code",
   "execution_count": 37,
   "metadata": {
    "collapsed": false,
    "nbpresent": {
     "id": "fc7dd04a-b9e2-452a-8f80-5cd7f791a059"
    }
   },
   "outputs": [
    {
     "data": {
      "text/plain": [
       "9"
      ]
     },
     "metadata": {},
     "output_type": "display_data"
    },
    {
     "data": {
      "text/plain": [
       "17.152789708268944"
      ]
     },
     "metadata": {},
     "output_type": "display_data"
    },
    {
     "data": {
      "text/plain": [
       "19"
      ]
     },
     "metadata": {},
     "output_type": "display_data"
    },
    {
     "data": {
      "text/plain": [
       "1"
      ]
     },
     "metadata": {},
     "output_type": "display_data"
    },
    {
     "data": {
      "text/plain": [
       "7.283185307179586"
      ]
     },
     "metadata": {},
     "output_type": "display_data"
    }
   ],
   "source": [
    "# testando as funções genéricas criadas passando um valor\n",
    "\n",
    "display(fg1(2))\n",
    "\n",
    "display(fg1(pi))\n",
    "\n",
    "display(fg2(2))\n",
    "\n",
    "display(fg3(0,1))\n",
    "\n",
    "display(fg3(1,pi));"
   ]
  },
  {
   "cell_type": "markdown",
   "metadata": {
    "nbpresent": {
     "id": "8a653e33-3f8c-4c0b-97df-9c7d0ac84b08"
    }
   },
   "source": [
    "** Obs: Não é possível operar funções genéricas indefinidas, ou seja, sem um valor especificado. Só é possível se x for simbólico definido pelo SymPy. O calculo abaixo ocorrerá erro**"
   ]
  },
  {
   "cell_type": "code",
   "execution_count": 38,
   "metadata": {
    "collapsed": false,
    "nbpresent": {
     "id": "6143092e-cb56-497f-bab9-83611186baf0"
    }
   },
   "outputs": [
    {
     "ename": "LoadError",
     "evalue": "LoadError: UndefVarError: x not defined\nwhile loading In[38], in expression starting on line 1",
     "output_type": "error",
     "traceback": [
      "LoadError: UndefVarError: x not defined\nwhile loading In[38], in expression starting on line 1",
      ""
     ]
    }
   ],
   "source": [
    "fg1(x) + fg2(x), fg1 + fg2"
   ]
  },
  {
   "cell_type": "code",
   "execution_count": 39,
   "metadata": {
    "collapsed": false,
    "nbpresent": {
     "id": "c4e3b764-8fbb-48de-8f7e-01153b77d17d"
    },
    "scrolled": true
   },
   "outputs": [
    {
     "data": {
      "text/plain": [
       "58"
      ]
     },
     "execution_count": 39,
     "metadata": {},
     "output_type": "execute_result"
    }
   ],
   "source": [
    "# O calculo agora é possível em devido o valor passado\n",
    "fg1(2) + fg2(3)"
   ]
  },
  {
   "cell_type": "markdown",
   "metadata": {
    "nbpresent": {
     "id": "b776805c-efd8-4731-8887-63c1e4452975"
    }
   },
   "source": [
    "** Função genérica com duas variáveis definidas**"
   ]
  },
  {
   "cell_type": "code",
   "execution_count": 40,
   "metadata": {
    "collapsed": false,
    "nbpresent": {
     "id": "1a43b98c-2f9e-49cf-82ca-96ec190008cd"
    }
   },
   "outputs": [
    {
     "data": {
      "text/plain": [
       "fgxy1 (generic function with 1 method)"
      ]
     },
     "execution_count": 40,
     "metadata": {},
     "output_type": "execute_result"
    }
   ],
   "source": [
    "fgxy1(x,y) = 9*x*y - 2*x + y"
   ]
  },
  {
   "cell_type": "code",
   "execution_count": 41,
   "metadata": {
    "collapsed": false,
    "nbpresent": {
     "id": "857338e9-a9b5-4993-83c0-003d8543426a"
    },
    "scrolled": true
   },
   "outputs": [
    {
     "data": {
      "text/plain": [
       "55.690260418206066"
      ]
     },
     "execution_count": 41,
     "metadata": {},
     "output_type": "execute_result"
    }
   ],
   "source": [
    "fgxy1(2,pi)"
   ]
  },
  {
   "cell_type": "code",
   "execution_count": 86,
   "metadata": {
    "collapsed": false
   },
   "outputs": [
    {
     "data": {
      "text/plain": [
       "ff (generic function with 1 method)"
      ]
     },
     "execution_count": 86,
     "metadata": {},
     "output_type": "execute_result"
    }
   ],
   "source": [
    "ff(x) = x+1 , x-2"
   ]
  },
  {
   "cell_type": "code",
   "execution_count": 93,
   "metadata": {
    "collapsed": false,
    "scrolled": false
   },
   "outputs": [
    {
     "ename": "LoadError",
     "evalue": "LoadError: MethodError: no method matching +(::Tuple{Int64,Int64}, ::Int64)\nClosest candidates are:\n  +(::Any, ::Any, !Matched::Any, !Matched::Any...) at operators.jl:138\n  +(!Matched::Complex{Bool}, ::Real) at complex.jl:151\n  +(!Matched::Char, ::Integer) at char.jl:40\n  ...\nwhile loading In[93], in expression starting on line 1",
     "output_type": "error",
     "traceback": [
      "LoadError: MethodError: no method matching +(::Tuple{Int64,Int64}, ::Int64)\nClosest candidates are:\n  +(::Any, ::Any, !Matched::Any, !Matched::Any...) at operators.jl:138\n  +(!Matched::Complex{Bool}, ::Real) at complex.jl:151\n  +(!Matched::Char, ::Integer) at char.jl:40\n  ...\nwhile loading In[93], in expression starting on line 1",
      "",
      " in ff(::Tuple{Int64,Int64}) at ./In[86]:1"
     ]
    }
   ],
   "source": [
    "ff"
   ]
  },
  {
   "cell_type": "markdown",
   "metadata": {},
   "source": [
    "**Retorno de Vários Valores **\n",
    "\n",
    "Julia permite retornar vários valores na forma de tupla."
   ]
  },
  {
   "cell_type": "code",
   "execution_count": 94,
   "metadata": {
    "collapsed": false,
    "scrolled": true
   },
   "outputs": [
    {
     "name": "stderr",
     "output_type": "stream",
     "text": [
      "WARNING: Method definition fg4(Any) in module Main at In[41]:2 overwritten at In[94]:1.\n"
     ]
    },
    {
     "data": {
      "text/plain": [
       "fg4 (generic function with 1 method)"
      ]
     },
     "execution_count": 94,
     "metadata": {},
     "output_type": "execute_result"
    }
   ],
   "source": [
    "fg4(x) =  x^2 , x + 1 , exp(x)"
   ]
  },
  {
   "cell_type": "code",
   "execution_count": 99,
   "metadata": {
    "collapsed": false
   },
   "outputs": [
    {
     "data": {
      "text/plain": [
       "(4.0,3.0,7.38905609893065)"
      ]
     },
     "execution_count": 99,
     "metadata": {},
     "output_type": "execute_result"
    }
   ],
   "source": [
    "fg4(2.0)"
   ]
  },
  {
   "cell_type": "code",
   "execution_count": 101,
   "metadata": {
    "collapsed": false
   },
   "outputs": [
    {
     "data": {
      "text/plain": [
       "4.0"
      ]
     },
     "execution_count": 101,
     "metadata": {},
     "output_type": "execute_result"
    }
   ],
   "source": [
    "# para acessar somente o primeiro resultado\n",
    "fg4(2.0)[1]"
   ]
  },
  {
   "cell_type": "markdown",
   "metadata": {},
   "source": [
    "#### FUNÇÃO COMPOSTA\n",
    "\n",
    "uma função composta é criada aplicando uma função à saída, ou resultado, de uma outra função, sucessivamente. Como uma função deve possuir um domínio e contradomínio bem definidos e estamos falando de aplicar funções mais de uma vez, devemos ser precisos com relação a como estamos aplicando estas funções. Wikipedia"
   ]
  },
  {
   "cell_type": "code",
   "execution_count": 42,
   "metadata": {
    "collapsed": false
   },
   "outputs": [
    {
     "data": {
      "text/plain": [
       "fgn (generic function with 1 method)"
      ]
     },
     "execution_count": 42,
     "metadata": {},
     "output_type": "execute_result"
    }
   ],
   "source": [
    "fgn(x) = x^2"
   ]
  },
  {
   "cell_type": "code",
   "execution_count": 43,
   "metadata": {
    "collapsed": false
   },
   "outputs": [
    {
     "data": {
      "text/plain": [
       "hfgn (generic function with 1 method)"
      ]
     },
     "execution_count": 43,
     "metadata": {},
     "output_type": "execute_result"
    }
   ],
   "source": [
    "hfgn(fn) = fn^2"
   ]
  },
  {
   "cell_type": "code",
   "execution_count": 44,
   "metadata": {
    "collapsed": false
   },
   "outputs": [
    {
     "data": {
      "text/plain": [
       "16"
      ]
     },
     "execution_count": 44,
     "metadata": {},
     "output_type": "execute_result"
    }
   ],
   "source": [
    "hfgn(fgn(2))"
   ]
  },
  {
   "cell_type": "code",
   "execution_count": 45,
   "metadata": {
    "collapsed": false
   },
   "outputs": [
    {
     "data": {
      "text/plain": [
       "4"
      ]
     },
     "execution_count": 45,
     "metadata": {},
     "output_type": "execute_result"
    }
   ],
   "source": [
    "hfgn(2)"
   ]
  },
  {
   "cell_type": "code",
   "execution_count": 46,
   "metadata": {
    "collapsed": false
   },
   "outputs": [
    {
     "data": {
      "text/plain": [
       "fm (generic function with 1 method)"
      ]
     },
     "execution_count": 46,
     "metadata": {},
     "output_type": "execute_result"
    }
   ],
   "source": [
    "fm(x) = sind(x)"
   ]
  },
  {
   "cell_type": "code",
   "execution_count": 47,
   "metadata": {
    "collapsed": false
   },
   "outputs": [
    {
     "data": {
      "text/plain": [
       "gfgn (generic function with 1 method)"
      ]
     },
     "execution_count": 47,
     "metadata": {},
     "output_type": "execute_result"
    }
   ],
   "source": [
    "gfgn(fm,fgn) = fgn + fm + 1"
   ]
  },
  {
   "cell_type": "code",
   "execution_count": 48,
   "metadata": {
    "collapsed": false
   },
   "outputs": [
    {
     "data": {
      "text/plain": [
       "1.5"
      ]
     },
     "execution_count": 48,
     "metadata": {},
     "output_type": "execute_result"
    }
   ],
   "source": [
    "gfgn(fm(30), fgn(0))"
   ]
  },
  {
   "cell_type": "code",
   "execution_count": 49,
   "metadata": {
    "collapsed": false
   },
   "outputs": [
    {
     "data": {
      "text/plain": [
       "1"
      ]
     },
     "execution_count": 49,
     "metadata": {},
     "output_type": "execute_result"
    }
   ],
   "source": [
    "gfgn(0,0)"
   ]
  },
  {
   "cell_type": "markdown",
   "metadata": {
    "nbpresent": {
     "id": "79a5cc43-4963-47ef-a326-ebc090fdc18f"
    }
   },
   "source": [
    "#### TRANSFORMANDO UMA STRING EM UMA FUNÇÃO GENÉRICA \n",
    "\n",
    "É possível transformar um texto de uma função em uma função genérica manipulável. Sintaxe:\n",
    "```julia\n",
    "@eval nome_função(variável) = $( parse(\"função_string\"))\n",
    "```"
   ]
  },
  {
   "cell_type": "code",
   "execution_count": 50,
   "metadata": {
    "collapsed": false,
    "nbpresent": {
     "id": "746e6dfa-b486-42c6-a664-b9a38708cf1d"
    },
    "scrolled": true
   },
   "outputs": [
    {
     "data": {
      "text/plain": [
       "fgs (generic function with 1 method)"
      ]
     },
     "execution_count": 50,
     "metadata": {},
     "output_type": "execute_result"
    }
   ],
   "source": [
    "# \"x^2-2*x-1\" é uma string\n",
    "@eval fgs(x) = $(parse(\"x^2-2*x-1\"))"
   ]
  },
  {
   "cell_type": "code",
   "execution_count": 51,
   "metadata": {
    "collapsed": false,
    "nbpresent": {
     "id": "c893b6ed-ba24-4d01-91b8-23ada4ce3383"
    },
    "scrolled": false
   },
   "outputs": [
    {
     "data": {
      "text/plain": [
       "-1"
      ]
     },
     "execution_count": 51,
     "metadata": {},
     "output_type": "execute_result"
    }
   ],
   "source": [
    "fgs(0)"
   ]
  },
  {
   "cell_type": "markdown",
   "metadata": {},
   "source": [
    "#### FUNÇÃO GENÉRICA APLICADA A VETORES/MATRIZ"
   ]
  },
  {
   "cell_type": "code",
   "execution_count": 52,
   "metadata": {
    "collapsed": false
   },
   "outputs": [
    {
     "data": {
      "text/plain": [
       "fgv (generic function with 1 method)"
      ]
     },
     "execution_count": 52,
     "metadata": {},
     "output_type": "execute_result"
    }
   ],
   "source": [
    "fgv(x) = x^2 - 2*x"
   ]
  },
  {
   "cell_type": "code",
   "execution_count": 53,
   "metadata": {
    "collapsed": false
   },
   "outputs": [
    {
     "data": {
      "text/plain": [
       "3-element Array{Float64,1}:\n",
       " -1.0\n",
       "  0.0\n",
       "  3.0"
      ]
     },
     "execution_count": 53,
     "metadata": {},
     "output_type": "execute_result"
    }
   ],
   "source": [
    "# Vetor\n",
    "# O ponto \".\" serve para calcular elemento-elemento em um vetor\n",
    "fgv.([1.0, 2.0, 3.0 ])"
   ]
  },
  {
   "cell_type": "code",
   "execution_count": 54,
   "metadata": {
    "collapsed": false,
    "scrolled": true
   },
   "outputs": [
    {
     "data": {
      "text/plain": [
       "2×3 Array{Float64,2}:\n",
       " -1.0   0.0   3.0\n",
       "  8.0  15.0  24.0"
      ]
     },
     "execution_count": 54,
     "metadata": {},
     "output_type": "execute_result"
    }
   ],
   "source": [
    "#Matriz\n",
    "# O ponto \".\" serve para calcular elemento-elemento em um vetor\n",
    "fgv.([1.0 2.0 3.0 ; 4.0 5.0 6.0])"
   ]
  },
  {
   "cell_type": "code",
   "execution_count": 36,
   "metadata": {
    "collapsed": false
   },
   "outputs": [
    {
     "data": {
      "text/plain": [
       "fgxy (generic function with 1 method)"
      ]
     },
     "execution_count": 36,
     "metadata": {},
     "output_type": "execute_result"
    }
   ],
   "source": [
    "# Função genérica de duas variáveis\n",
    "fgxy(x,y) = x^2 - 2*y"
   ]
  },
  {
   "cell_type": "code",
   "execution_count": 37,
   "metadata": {
    "collapsed": false
   },
   "outputs": [
    {
     "data": {
      "text/plain": [
       "3-element Array{Float64,1}:\n",
       " -7.0\n",
       " -6.0\n",
       " -3.0"
      ]
     },
     "execution_count": 37,
     "metadata": {},
     "output_type": "execute_result"
    }
   ],
   "source": [
    "# Os vetores de X e Y devem ter a mesma dimensão\n",
    "# O ponto \".\" serve para calcular elemento-elemento em um vetor\n",
    "fgxy.([1.0, 2.0, 3.0] , [4.0, 5.0, 6.0])"
   ]
  },
  {
   "cell_type": "code",
   "execution_count": 38,
   "metadata": {
    "collapsed": false,
    "scrolled": false
   },
   "outputs": [
    {
     "data": {
      "text/plain": [
       "2×3 Array{Int64,2}:\n",
       " -1   0   3\n",
       "  8  15  24"
      ]
     },
     "execution_count": 38,
     "metadata": {},
     "output_type": "execute_result"
    }
   ],
   "source": [
    "# As Matriz de X e Y devem ter a mesma dimensão\n",
    "# O ponto \".\" serve para calcular elemento-elemento em um vetor\n",
    "fgxy.([1 2 3;4 5 6],[1 2 3;4 5 6] )"
   ]
  },
  {
   "cell_type": "markdown",
   "metadata": {},
   "source": [
    "Obs: Neste próximo exemplo, ao contrário da função simbólica, a função genérica não precisa ser definida com \".\" entre operadores matemáticos. Veja que x está definido e temos uma função genérica `FG(x)`mas só será calculado se o vetor $x$ for passado para função.  "
   ]
  },
  {
   "cell_type": "code",
   "execution_count": 41,
   "metadata": {
    "collapsed": false
   },
   "outputs": [
    {
     "name": "stderr",
     "output_type": "stream",
     "text": [
      "WARNING: Method definition fg4(Any) in module Main at In[39]:2 overwritten at In[41]:2.\n"
     ]
    },
    {
     "data": {
      "text/plain": [
       "fg4 (generic function with 1 method)"
      ]
     },
     "execution_count": 41,
     "metadata": {},
     "output_type": "execute_result"
    }
   ],
   "source": [
    "x = 1:3\n",
    "fg4(x) = x^2 - 2*x"
   ]
  },
  {
   "cell_type": "code",
   "execution_count": 42,
   "metadata": {
    "collapsed": false,
    "scrolled": true
   },
   "outputs": [
    {
     "data": {
      "text/plain": [
       "3-element Array{Int64,1}:\n",
       " -1\n",
       "  0\n",
       "  3"
      ]
     },
     "execution_count": 42,
     "metadata": {},
     "output_type": "execute_result"
    }
   ],
   "source": [
    "# O ponto \".\" serve para calcular elemento-elemento em um vetor\n",
    "fg4.(x)"
   ]
  },
  {
   "cell_type": "markdown",
   "metadata": {
    "nbpresent": {
     "id": "da412a73-fb45-40eb-811c-db607e78a5a0"
    }
   },
   "source": [
    "#### FUNÇÃO GENÉRICA DO TIPO FUNCTION "
   ]
  },
  {
   "cell_type": "code",
   "execution_count": 60,
   "metadata": {
    "collapsed": false,
    "nbpresent": {
     "id": "7f141e1f-583d-47b0-974e-6397c6075d94"
    }
   },
   "outputs": [
    {
     "data": {
      "text/plain": [
       "metbissec"
      ]
     },
     "execution_count": 60,
     "metadata": {},
     "output_type": "execute_result"
    }
   ],
   "source": [
    "\"\"\"\n",
    "Metodo da Bisseccao\n",
    "\n",
    "Calcula uma aproximação para uma raiz da função de f(x)\n",
    "\n",
    "Entre os intervalo [ao,bo] e a tolerencia de erro daddo por tol.\n",
    "\n",
    "ex metbissec(\"x^2 - 2*x - 8\",-5,5,0.000001)\n",
    "\n",
    "adaptado de http://goo.gl/pQNh6z \n",
    "\"\"\"\n",
    "\n",
    "function metbissec(funcao, a, b, tol = 0.00001)\n",
    "    \n",
    "println(\"f(x) = \",funcao)\n",
    "println()\n",
    "    \n",
    "@eval g(x) = $(parse(funcao)) # transforma a string em uma formula manipulável\n",
    "   \n",
    "iteracao = 0\n",
    "    if g(a)*g(b) > 0 \n",
    "        println(\"Não há raiz no intervalo\")\n",
    "        \n",
    "    else\n",
    "        x_medio = (a + b)/2\n",
    "        err = abs(g(x_medio))\n",
    "        \n",
    "        while err > tol\n",
    "            println(\"interação: \", iteracao , \" : \", x_medio, \", valor função: \",g(x_medio))\n",
    "            \n",
    "            if g(a)*g(x_medio) < 0 \n",
    "                b = x_medio\n",
    "            else\n",
    "                a = x_medio\n",
    "            end\n",
    "            \n",
    "            x_medio = (a + b)/2\n",
    "            err = abs(g(x_medio))\n",
    "            iteracao = iteracao + 1\n",
    "            \n",
    "        end\n",
    "        \n",
    "        println(\"interação: \", iteracao , \" : \", x_medio, \", valor função: \",g(x_medio))\n",
    "        return x_medio\n",
    "        \n",
    "    end     \n",
    "end"
   ]
  },
  {
   "cell_type": "code",
   "execution_count": 61,
   "metadata": {
    "collapsed": false,
    "nbpresent": {
     "id": "9e9eb1cd-184d-4704-aeac-501597cab8ae"
    },
    "scrolled": false
   },
   "outputs": [
    {
     "name": "stdout",
     "output_type": "stream",
     "text": [
      "f(x) = x^2-4\n",
      "\n",
      "interação: 0 : 2.25, valor função: 1.0625\n",
      "interação: 1 : 1.625, valor função: -1.359375\n",
      "interação: 2 : 1.9375, valor função: -0.24609375\n",
      "interação: 3 : 2.09375, valor função: 0.3837890625\n",
      "interação: 4 : 2.015625, valor função: 0.062744140625\n",
      "interação: 5 : 1.9765625, valor função: -0.09320068359375\n",
      "interação: 6 : 1.99609375, valor função: -0.0156097412109375\n",
      "interação: 7 : 2.005859375, valor função: 0.023471832275390625\n",
      "interação: 8 : 2.0009765625, valor função: 0.003907203674316406\n",
      "interação: 9 : 1.99853515625, valor função: -0.005857229232788086\n",
      "interação: 10 : 1.999755859375, valor função: -0.0009765028953552246\n",
      "interação: 11 : 2.0003662109375, valor função: 0.0014649778604507446\n",
      "interação: 12 : 2.00006103515625, valor função: 0.00024414435029029846\n",
      "interação: 13 : 1.999908447265625, valor função: -0.00036620255559682846\n",
      "interação: 14 : 1.9999847412109375, valor função: -6.1034923419356346e-5\n",
      "  0.116094 seconds (30.68 k allocations: 1.423 MB)\n"
     ]
    },
    {
     "data": {
      "text/plain": [
       "1.9999847412109375"
      ]
     },
     "execution_count": 61,
     "metadata": {},
     "output_type": "execute_result"
    }
   ],
   "source": [
    "# a função é passada na forma de string, pois sem as aspas, julia entente que o \"x\" é uma variável\n",
    "@time metbissec(\"x^2-4\",1,3.5,0.0001)"
   ]
  },
  {
   "cell_type": "markdown",
   "metadata": {
    "nbpresent": {
     "id": "aa2f2ebb-8ed7-4a35-b45e-fc05a8a29d68"
    }
   },
   "source": [
    "O texto de ajuda entre aspas pode ser acessado pelo comando help (?comando) "
   ]
  },
  {
   "cell_type": "code",
   "execution_count": 62,
   "metadata": {
    "collapsed": false,
    "nbpresent": {
     "id": "b9c5fd93-d2f1-4b8b-ae10-787af4442c88"
    },
    "scrolled": false
   },
   "outputs": [
    {
     "name": "stdout",
     "output_type": "stream",
     "text": [
      "search:\n",
      "\n"
     ]
    },
    {
     "data": {
      "text/markdown": [
       "Metodo da Bisseccao\n",
       "\n",
       "Calcula uma aproximação para uma raiz da função de f(x)\n",
       "\n",
       "Entre os intervalo [ao,bo] e a tolerencia de erro daddo por tol.\n",
       "\n",
       "ex metbissec(\"x^2 - 2*x - 8\",-5,5,0.000001)\n",
       "\n",
       "adaptado de http://goo.gl/pQNh6z \n"
      ],
      "text/plain": [
       "Metodo da Bisseccao\n",
       "\n",
       "Calcula uma aproximação para uma raiz da função de f(x)\n",
       "\n",
       "Entre os intervalo [ao,bo] e a tolerencia de erro daddo por tol.\n",
       "\n",
       "ex metbissec(\"x^2 - 2*x - 8\",-5,5,0.000001)\n",
       "\n",
       "adaptado de http://goo.gl/pQNh6z \n"
      ]
     },
     "execution_count": 62,
     "metadata": {},
     "output_type": "execute_result"
    }
   ],
   "source": [
    "? metbissec"
   ]
  },
  {
   "cell_type": "markdown",
   "metadata": {},
   "source": [
    "**Função Calculo Extremos de uma Função**"
   ]
  },
  {
   "cell_type": "code",
   "execution_count": 125,
   "metadata": {
    "collapsed": false,
    "scrolled": true
   },
   "outputs": [
    {
     "data": {
      "text/plain": [
       "valor_extremo (generic function with 1 method)"
      ]
     },
     "execution_count": 125,
     "metadata": {},
     "output_type": "execute_result"
    }
   ],
   "source": [
    "function valor_extremo(funcao,vetor)\n",
    "    \n",
    "    f_min, x_min = findmin(funcao.(vetor))\n",
    "    f_max, x_max = findmax(funcao.(vetor))\n",
    "    \n",
    "    println(\"Valor mínimo: f($(vetor[x_min])) = $f_min\")\n",
    "    println(\"Valor máximo: f($(vetor[x_max])) = $f_max\")\n",
    "end"
   ]
  },
  {
   "cell_type": "code",
   "execution_count": 126,
   "metadata": {
    "collapsed": false
   },
   "outputs": [
    {
     "data": {
      "text/plain": [
       "f (generic function with 1 method)"
      ]
     },
     "execution_count": 126,
     "metadata": {},
     "output_type": "execute_result"
    }
   ],
   "source": [
    "# função \n",
    "f(x) = -x^2 + 100"
   ]
  },
  {
   "cell_type": "code",
   "execution_count": 127,
   "metadata": {
    "collapsed": false,
    "scrolled": false
   },
   "outputs": [
    {
     "name": "stdout",
     "output_type": "stream",
     "text": [
      "Valor mínimo: f(-10) = 0\n",
      "Valor máximo: f(0) = 100\n"
     ]
    }
   ],
   "source": [
    "valor_extremo(f,-10:10)"
   ]
  },
  {
   "cell_type": "markdown",
   "metadata": {},
   "source": [
    "**Função Fibonacci**"
   ]
  },
  {
   "cell_type": "code",
   "execution_count": 128,
   "metadata": {
    "collapsed": false,
    "nbpresent": {
     "id": "43a6be2b-d5e9-45b5-8e98-fbfe1dbbbe5c"
    }
   },
   "outputs": [
    {
     "data": {
      "text/plain": [
       "fiboR (generic function with 1 method)"
      ]
     },
     "execution_count": 128,
     "metadata": {},
     "output_type": "execute_result"
    }
   ],
   "source": [
    "function fiboR(n) \n",
    "    if n < 2 \n",
    "        return n\n",
    "    else\n",
    "        fiboR(n-1) + fiboR(n-2)\n",
    "    end\n",
    "end"
   ]
  },
  {
   "cell_type": "code",
   "execution_count": 132,
   "metadata": {
    "collapsed": false,
    "nbpresent": {
     "id": "4b99dd67-4b92-40db-83c4-3526933ac1f7"
    }
   },
   "outputs": [
    {
     "name": "stdout",
     "output_type": "stream",
     "text": [
      "  0.075408 seconds (5 allocations: 176 bytes)\n"
     ]
    },
    {
     "data": {
      "text/plain": [
       "9227465"
      ]
     },
     "execution_count": 132,
     "metadata": {},
     "output_type": "execute_result"
    }
   ],
   "source": [
    "@time fiboR(35)"
   ]
  },
  {
   "cell_type": "markdown",
   "metadata": {
    "nbpresent": {
     "id": "ccdfc38a-83f4-43bf-a941-58e736f27eed"
    }
   },
   "source": [
    "#### IMPORTANDO UMA FUNÇÃO NO FORMATO DE ARQUIVO \n",
    "\n",
    "Para importar uma função escrita em um arquivo `.jl` use:\n",
    "```julia\n",
    "include(\"arquivo.jl\")\n",
    "```\n",
    "\n",
    "Para importar mais de uma função ao mesmo tempo grave todas em um único arquivo e execute o mesmo procedimento acima"
   ]
  },
  {
   "cell_type": "code",
   "execution_count": 43,
   "metadata": {
    "collapsed": false,
    "nbpresent": {
     "id": "44059168-92a0-4e9a-9f5c-92b34beff512"
    },
    "scrolled": false
   },
   "outputs": [
    {
     "data": {
      "text/plain": [
       "fmetbissec"
      ]
     },
     "execution_count": 43,
     "metadata": {},
     "output_type": "execute_result"
    }
   ],
   "source": [
    "# É interessante salvar o arquivo da função com o mesmo nome da função\n",
    "include(\"fmetbissec.jl\")"
   ]
  },
  {
   "cell_type": "markdown",
   "metadata": {},
   "source": [
    "**Função Método da Bisseccao**"
   ]
  },
  {
   "cell_type": "code",
   "execution_count": 44,
   "metadata": {
    "collapsed": false,
    "nbpresent": {
     "id": "27fc1765-e980-46dd-a19e-c137c43c6515"
    },
    "scrolled": true
   },
   "outputs": [
    {
     "name": "stdout",
     "output_type": "stream",
     "text": [
      "search:\n",
      "\n"
     ]
    },
    {
     "data": {
      "text/markdown": [
       "Metodo da Bisseccao\n",
       "\n",
       "Calcula uma aproximação para uma raiz da função de f(x)\n",
       "\n",
       "Entre os intervalo [ao,bo] e a tolerencia de erro daddo por tol.\n",
       "\n",
       "ex metbissec(\"x^2 - 2*x - 8\",-5,5,0.000001)\n",
       "\n",
       "adaptado de http://goo.gl/pQNh6z \n"
      ],
      "text/plain": [
       "Metodo da Bisseccao\n",
       "\n",
       "Calcula uma aproximação para uma raiz da função de f(x)\n",
       "\n",
       "Entre os intervalo [ao,bo] e a tolerencia de erro daddo por tol.\n",
       "\n",
       "ex metbissec(\"x^2 - 2*x - 8\",-5,5,0.000001)\n",
       "\n",
       "adaptado de http://goo.gl/pQNh6z \n"
      ]
     },
     "execution_count": 44,
     "metadata": {},
     "output_type": "execute_result"
    }
   ],
   "source": [
    "?fmetbissec"
   ]
  },
  {
   "cell_type": "code",
   "execution_count": 45,
   "metadata": {
    "collapsed": false,
    "nbpresent": {
     "id": "968090af-9dad-4bbc-ba7c-427ba5029c0c"
    }
   },
   "outputs": [
    {
     "name": "stdout",
     "output_type": "stream",
     "text": [
      "f(x) = x^2 - 2*x\n",
      "\n",
      "interação: 0 : 1.75, valor função: -0.4375\n",
      "interação: 1 : 2.125, valor função: 0.265625\n",
      "interação: 2 : 1.9375, valor função: -0.12109375\n",
      "interação: 3 : 2.03125, valor função: 0.0634765625\n",
      "interação: 4 : 1.984375, valor função: -0.031005859375\n",
      "interação: 5 : 2.0078125, valor função: 0.01568603515625\n",
      "interação: 6 : 1.99609375, valor função: -0.0077972412109375\n",
      "interação: 7 : 2.001953125, valor função: 0.003910064697265625\n",
      "interação: 8 : 1.9990234375, valor função: -0.0019521713256835938\n",
      "interação: 9 : 2.00048828125, valor função: 0.0009768009185791016\n",
      "interação: 10 : 1.999755859375, valor função: -0.0004882216453552246\n",
      "interação: 11 : 2.0001220703125, valor função: 0.00024415552616119385\n",
      "interação: 12 : 1.99993896484375, valor função: -0.00012206658720970154\n",
      "interação: 13 : 2.000030517578125, valor função: 6.103608757257462e-5\n",
      "  0.078252 seconds (25.23 k allocations: 1.115 MB)\n"
     ]
    },
    {
     "data": {
      "text/plain": [
       "2.000030517578125"
      ]
     },
     "execution_count": 45,
     "metadata": {},
     "output_type": "execute_result"
    }
   ],
   "source": [
    "@time fmetbissec(\"x^2 - 2*x\",1.0,2.5,0.0001)"
   ]
  },
  {
   "cell_type": "markdown",
   "metadata": {
    "nbpresent": {
     "id": "17811899-47b1-4cf2-8da9-ae0e1456b490"
    }
   },
   "source": [
    "** Função Fibonacci**"
   ]
  },
  {
   "cell_type": "code",
   "execution_count": 68,
   "metadata": {
    "collapsed": false,
    "nbpresent": {
     "id": "a74762a3-0794-452a-bce7-c52285a6756c"
    },
    "scrolled": true
   },
   "outputs": [
    {
     "data": {
      "text/plain": [
       "ffiboR_JL"
      ]
     },
     "execution_count": 68,
     "metadata": {},
     "output_type": "execute_result"
    }
   ],
   "source": [
    "include(\"ffiboR_JL.jl\")"
   ]
  },
  {
   "cell_type": "code",
   "execution_count": 69,
   "metadata": {
    "collapsed": false,
    "nbpresent": {
     "id": "a392085a-d8c9-49ca-bed7-3ab98a3550bc"
    },
    "scrolled": true
   },
   "outputs": [
    {
     "name": "stdout",
     "output_type": "stream",
     "text": [
      "search:\n",
      "\n"
     ]
    },
    {
     "data": {
      "text/markdown": [
       "Função calcula serie de fibonacci\n",
       "\n",
       "ffiboR_JL(valor)\n"
      ],
      "text/plain": [
       "Função calcula serie de fibonacci\n",
       "\n",
       "ffiboR_JL(valor)\n"
      ]
     },
     "execution_count": 69,
     "metadata": {},
     "output_type": "execute_result"
    }
   ],
   "source": [
    "? ffiboR_JL"
   ]
  },
  {
   "cell_type": "code",
   "execution_count": 70,
   "metadata": {
    "collapsed": false,
    "nbpresent": {
     "id": "c77d0478-cfe1-4d32-bdec-91ed46fa1fd4"
    },
    "scrolled": true
   },
   "outputs": [
    {
     "name": "stdout",
     "output_type": "stream",
     "text": [
      "  0.770986 seconds (674 allocations: 33.229 KB)\n"
     ]
    },
    {
     "data": {
      "text/plain": [
       "102334155"
      ]
     },
     "execution_count": 70,
     "metadata": {},
     "output_type": "execute_result"
    }
   ],
   "source": [
    "@time ffiboR_JL(40)"
   ]
  },
  {
   "cell_type": "markdown",
   "metadata": {
    "nbpresent": {
     "id": "4e67a3f0-5890-456f-886f-a3076bfa3fb9"
    }
   },
   "source": [
    "#### OPERADOR TERNÁRIO: FORMA \"JULITRONICA\" DE CRIAR `IF...ELSE...END`  \n",
    "\n",
    "O \"operador ternário\" **(:?)** está relacionado com a sintaxe `if-elseif-else` e recebe este nome em função de ser o único operador na maioria das linguagens que tomam três operandos: \n",
    "```julia\n",
    "condição ? expressão1 : expressão2\n",
    "```\n",
    "\n",
    "A operação ternária efeturá a **\"expressão1\"** antes do **\":\"** se a **\"condição\"** é verdadeira ou a **\"expressão2\"** depois do **\":\"** se \"condição\" for falsa. \n",
    "\n",
    "\n",
    "**Função discontínua**\n",
    "\n",
    "Dada a função abaixo \n",
    "\n",
    "$~\n",
    "f(x) = \\begin{cases}\n",
    "\\cos(x) & x \\geq 0\\\\\n",
    "1 - e^{-1/x^2} & \\text{x < 0}.\n",
    "\\end{cases}\n",
    "~$"
   ]
  },
  {
   "cell_type": "code",
   "execution_count": 48,
   "metadata": {
    "collapsed": false,
    "nbpresent": {
     "id": "4c423b0e-5cde-4235-bd98-76176a821abe"
    }
   },
   "outputs": [
    {
     "name": "stderr",
     "output_type": "stream",
     "text": [
      "WARNING: Method definition g(Any) in module Main at In[46]:3 overwritten at In[48]:3.\n"
     ]
    },
    {
     "data": {
      "text/plain": [
       "g (generic function with 1 method)"
      ]
     },
     "execution_count": 48,
     "metadata": {},
     "output_type": "execute_result"
    }
   ],
   "source": [
    "# se x>=0 então imprima o calculo de g = cos(x) = \",cos(x), senão imprima o cálculo de g = exp(-1/x^2) \n",
    "\n",
    "g(x) = x >= 0  ?  print(\"g = cos(x) = \",cos(x)) : print(\"g = exp(-1/x^2) = \", exp(-1/x^2))"
   ]
  },
  {
   "cell_type": "code",
   "execution_count": 49,
   "metadata": {
    "collapsed": false,
    "nbpresent": {
     "id": "7984503a-74b3-4489-b65c-f55c89a27ee5"
    }
   },
   "outputs": [
    {
     "name": "stdout",
     "output_type": "stream",
     "text": [
      "g = cos(x) = -0.4161468365471424"
     ]
    }
   ],
   "source": [
    "# passando um valor de x maior que 0\n",
    "\n",
    "g(2)"
   ]
  },
  {
   "cell_type": "code",
   "execution_count": 50,
   "metadata": {
    "collapsed": false,
    "nbpresent": {
     "id": "db19ceb1-c470-44e2-b7b6-005d3e7ebd33"
    }
   },
   "outputs": [
    {
     "name": "stdout",
     "output_type": "stream",
     "text": [
      "g = exp(-1/x^2) = 0.36787944117144233"
     ]
    }
   ],
   "source": [
    "# passando um valor de x menor que 0\n",
    "\n",
    "g(-1)"
   ]
  },
  {
   "cell_type": "markdown",
   "metadata": {
    "nbpresent": {
     "id": "a3a43ae5-1d60-486e-99df-24e18389a619"
    }
   },
   "source": [
    "### FUNÇÕES ANÔNIMAS \n",
    "\n",
    "Funções anônimas (funções sem nome) são funções no qual não há nome para defini-las. Não precisam usar o SymPy ou a forma de função genérica (funcao(variavel) = expressao). O uso principal para funções anônimas é passá-los para funções que assumem outras funções como argumentos. Em geral são mais lentas que as funções genéricas ou simbólicas. São escritas na forma:\n",
    "```julia\n",
    "variavel ->  expressao_variável\n",
    "\n",
    "ou \n",
    "\n",
    "(variavel_1, variável_2) ->  expressao_variáveis\n",
    "```\n",
    " Observe que o resultado é uma função genérica, mas com um nome gerado pelo compilador com base na numeração consecutiva."
   ]
  },
  {
   "cell_type": "markdown",
   "metadata": {
    "nbpresent": {
     "id": "3dcc767b-c508-49a2-a93e-13f227cd8662"
    }
   },
   "source": [
    "#### FUNÇÃO ANONIMA SEM ATRIBUIÇÃO DE UMA VARIÁVEL ####"
   ]
  },
  {
   "cell_type": "markdown",
   "metadata": {
    "nbpresent": {
     "id": "5b59f17d-c580-4f63-ac2b-5ad75f13595b"
    }
   },
   "source": [
    "* ** Substituindo por um valor** "
   ]
  },
  {
   "cell_type": "code",
   "execution_count": 51,
   "metadata": {
    "collapsed": false,
    "nbpresent": {
     "id": "ba53c013-869f-4bd2-a965-a5e237bdef74"
    },
    "scrolled": true
   },
   "outputs": [
    {
     "data": {
      "text/plain": [
       "-1"
      ]
     },
     "execution_count": 51,
     "metadata": {},
     "output_type": "execute_result"
    }
   ],
   "source": [
    "(x -> x^3-2*x^2-1)(0)"
   ]
  },
  {
   "cell_type": "markdown",
   "metadata": {
    "nbpresent": {
     "id": "ebb30c95-e301-4c07-878a-e94494f58aa0"
    }
   },
   "source": [
    "* ** Substituindo por um vetor ou matriz **\n",
    "\n",
    "O ponto \".\" serve para calcular a função elemento-elemento do vetor."
   ]
  },
  {
   "cell_type": "code",
   "execution_count": 52,
   "metadata": {
    "collapsed": false,
    "nbpresent": {
     "id": "b2865078-d6e8-4dc2-bde8-bf0245ead43d"
    },
    "scrolled": true
   },
   "outputs": [
    {
     "data": {
      "text/plain": [
       "3-element Array{Int64,1}:\n",
       " -2\n",
       " -1\n",
       "  8"
      ]
     },
     "execution_count": 52,
     "metadata": {},
     "output_type": "execute_result"
    }
   ],
   "source": [
    "(x -> x^3 - 2*x^2 - 1).(1:3)"
   ]
  },
  {
   "cell_type": "code",
   "execution_count": 54,
   "metadata": {
    "collapsed": false,
    "nbpresent": {
     "id": "4709dad5-8375-4dce-9d81-811e457dacd2"
    },
    "scrolled": true
   },
   "outputs": [
    {
     "data": {
      "text/plain": [
       "2×3 Array{Int64,2}:\n",
       " -2  -1    8\n",
       " 31  74  143"
      ]
     },
     "execution_count": 54,
     "metadata": {},
     "output_type": "execute_result"
    }
   ],
   "source": [
    "(x -> x^3-2*x^2-1).([1 2 3; 4 5 6])"
   ]
  },
  {
   "cell_type": "markdown",
   "metadata": {
    "nbpresent": {
     "id": "ae85f628-4ad4-4137-86ca-4e3ab710c808"
    }
   },
   "source": [
    "* ** Função de duas variáveis **\n",
    "\n",
    "O ponto \".\" serve para calcular a função elemento-elemento do vetor."
   ]
  },
  {
   "cell_type": "code",
   "execution_count": 77,
   "metadata": {
    "collapsed": false,
    "nbpresent": {
     "id": "76f0c384-a30b-43ea-b624-f0424f3e045c"
    },
    "scrolled": false
   },
   "outputs": [
    {
     "data": {
      "text/plain": [
       "-1"
      ]
     },
     "execution_count": 77,
     "metadata": {},
     "output_type": "execute_result"
    }
   ],
   "source": [
    "((x,y)-> 2*y - 1 + x)(0,0)"
   ]
  },
  {
   "cell_type": "code",
   "execution_count": 78,
   "metadata": {
    "collapsed": false,
    "nbpresent": {
     "id": "34933bd9-3c08-439a-8d89-b302bc27d62d"
    }
   },
   "outputs": [
    {
     "data": {
      "text/plain": [
       "4-element Array{Int64,1}:\n",
       " -1\n",
       "  2\n",
       "  9\n",
       " 20"
      ]
     },
     "execution_count": 78,
     "metadata": {},
     "output_type": "execute_result"
    }
   ],
   "source": [
    "((x,y)-> 2*y^2 - 1 + x).(0:3,0:3)"
   ]
  },
  {
   "cell_type": "markdown",
   "metadata": {
    "nbpresent": {
     "id": "7cfea76c-69fd-4c1e-8942-87ef68a10997"
    }
   },
   "source": [
    "#### FUNÇÃO ANONIMA COM ATRIBUIÇÃO DE UMA VARIÁVEL \n",
    "\n",
    "Sintaxe:\n",
    "```julia\n",
    "funcao = variável -> expressão_variável\n",
    "\n",
    "ou \n",
    "\n",
    "funcao = (variavel_1, variável_2) -> expressão_variáveis\n",
    "```\n",
    "Não use a forma **funcao(variavel) = (funcao_anonima)**! Ocorre erro."
   ]
  },
  {
   "cell_type": "markdown",
   "metadata": {
    "nbpresent": {
     "id": "3cd38b5b-fadb-4975-a81e-547c44d0b38b"
    }
   },
   "source": [
    "* ** Substituindo por um valor **"
   ]
  },
  {
   "cell_type": "code",
   "execution_count": 55,
   "metadata": {
    "collapsed": false,
    "nbpresent": {
     "id": "f232e43b-4eea-45af-b9da-ba049cff221e"
    }
   },
   "outputs": [
    {
     "data": {
      "text/plain": [
       "(::#9) (generic function with 1 method)"
      ]
     },
     "execution_count": 55,
     "metadata": {},
     "output_type": "execute_result"
    }
   ],
   "source": [
    "fa1 = (x -> x^3 - 2*x^2 - 1)"
   ]
  },
  {
   "cell_type": "code",
   "execution_count": 56,
   "metadata": {
    "collapsed": false,
    "nbpresent": {
     "id": "d4ea76fa-1e02-4de7-9aa6-bc37b423d412"
    },
    "scrolled": true
   },
   "outputs": [
    {
     "data": {
      "text/plain": [
       "-1"
      ]
     },
     "execution_count": 56,
     "metadata": {},
     "output_type": "execute_result"
    }
   ],
   "source": [
    "fa1(0)"
   ]
  },
  {
   "cell_type": "markdown",
   "metadata": {
    "nbpresent": {
     "id": "4a7d39ee-c08a-46aa-b7b0-5ac182a92fca"
    }
   },
   "source": [
    "* ** Substituindo por um vetor ou matriz **\n",
    "\n",
    "O ponto \".\" serve para calcular a função elemento-elemento do vetor."
   ]
  },
  {
   "cell_type": "code",
   "execution_count": 81,
   "metadata": {
    "collapsed": false,
    "nbpresent": {
     "id": "7804ab9b-17d8-4b18-9103-ed7a0097b7e9"
    },
    "scrolled": true
   },
   "outputs": [
    {
     "data": {
      "text/plain": [
       "(::#13) (generic function with 1 method)"
      ]
     },
     "execution_count": 81,
     "metadata": {},
     "output_type": "execute_result"
    }
   ],
   "source": [
    "fa2 = (x -> x^3 - 2*x^2 - 1)"
   ]
  },
  {
   "cell_type": "code",
   "execution_count": 82,
   "metadata": {
    "collapsed": false,
    "nbpresent": {
     "id": "b9349e7e-ef8c-4ed0-9e3b-59a2f089ecdd"
    }
   },
   "outputs": [
    {
     "data": {
      "text/plain": [
       "(\n",
       "[-2 -1 8],\n",
       "\n",
       "[-2 -1 8; 31 74 143])"
      ]
     },
     "execution_count": 82,
     "metadata": {},
     "output_type": "execute_result"
    }
   ],
   "source": [
    "fa2.([1 2 3]) , fa2.([1 2 3; 4 5 6])"
   ]
  },
  {
   "cell_type": "markdown",
   "metadata": {
    "nbpresent": {
     "id": "7f636432-fbbc-4f1a-9671-81103c4d9d20"
    }
   },
   "source": [
    "* **Função de duas variáveis **\n",
    "\n",
    "O ponto \".\" serve para calcular a função elemento-elemento do vetor."
   ]
  },
  {
   "cell_type": "code",
   "execution_count": 57,
   "metadata": {
    "collapsed": false,
    "nbpresent": {
     "id": "87f7e67a-12fe-4c7a-be19-a640158329a9"
    }
   },
   "outputs": [
    {
     "data": {
      "text/plain": [
       "(::#11) (generic function with 1 method)"
      ]
     },
     "execution_count": 57,
     "metadata": {},
     "output_type": "execute_result"
    }
   ],
   "source": [
    "faxy = ((x,y)-> 2*y^2 - 1 + x)"
   ]
  },
  {
   "cell_type": "code",
   "execution_count": 58,
   "metadata": {
    "collapsed": false,
    "nbpresent": {
     "id": "12e72d8b-9b86-43ec-a556-b6b19a9553a3"
    }
   },
   "outputs": [
    {
     "data": {
      "text/plain": [
       "-1"
      ]
     },
     "execution_count": 58,
     "metadata": {},
     "output_type": "execute_result"
    }
   ],
   "source": [
    "faxy(0,0)"
   ]
  },
  {
   "cell_type": "code",
   "execution_count": 85,
   "metadata": {
    "collapsed": false,
    "nbpresent": {
     "id": "31cb6df5-399c-4d2b-8a0d-eaee92941aef"
    },
    "scrolled": true
   },
   "outputs": [
    {
     "data": {
      "text/plain": [
       "1×2 Array{Int64,2}:\n",
       " -1  2"
      ]
     },
     "execution_count": 85,
     "metadata": {},
     "output_type": "execute_result"
    }
   ],
   "source": [
    "faxy.([0 1],[0 1])"
   ]
  },
  {
   "cell_type": "markdown",
   "metadata": {
    "nbpresent": {
     "id": "95857623-b0b0-4978-bfbb-ce66a7d84cdb"
    }
   },
   "source": [
    "## MAPEAMENTO\n",
    "\n",
    "A função **`map( )`** serve para aplicarmos uma função a cada elemento de uma lista, retornando uma nova lista contendo os elementos resultantes da aplicação da função.  O comando map funciona como um laço for e é utilizado para simplificar os códigos. Sintaxe:\n",
    "```julia\n",
    "map(função_variável, vetor)                           # função de uma variável\n",
    "map(função_variáveis, vetor_a, vetor_b, ..., vetor_n) # função de duas ou mais variáveis\n",
    "```\n"
   ]
  },
  {
   "cell_type": "markdown",
   "metadata": {
    "nbpresent": {
     "id": "7b13b059-f4f2-42e3-9902-53e376527933"
    }
   },
   "source": [
    "* **Mapeamento Função Simbólica**"
   ]
  },
  {
   "cell_type": "code",
   "execution_count": 59,
   "metadata": {
    "collapsed": false,
    "nbpresent": {
     "id": "f3cd073e-2288-44a9-b559-1fe9e4a90f81"
    }
   },
   "outputs": [
    {
     "data": {
      "text/plain": [
       "(x,y)"
      ]
     },
     "execution_count": 59,
     "metadata": {},
     "output_type": "execute_result"
    }
   ],
   "source": [
    "using SymPy\n",
    "@syms x y"
   ]
  },
  {
   "cell_type": "code",
   "execution_count": 60,
   "metadata": {
    "collapsed": false,
    "nbpresent": {
     "id": "9d82b7b1-f627-4000-832b-bc4867f01735"
    },
    "scrolled": true
   },
   "outputs": [
    {
     "data": {
      "text/plain": [
       "5-element Array{Float64,1}:\n",
       "  1.61545\n",
       " -2.0668 \n",
       " -4.12246\n",
       " -2.89019\n",
       "  4.15166"
      ]
     },
     "execution_count": 60,
     "metadata": {},
     "output_type": "execute_result"
    }
   ],
   "source": [
    "# função de uma variável\n",
    "fsm = sqrt(2*x + cos(x)^3)/sin(x^2+1)\n",
    "\n",
    "float(map(fsm,1:5))"
   ]
  },
  {
   "cell_type": "code",
   "execution_count": 61,
   "metadata": {
    "collapsed": false
   },
   "outputs": [
    {
     "data": {
      "text/plain": [
       "5-element Array{Float64,1}:\n",
       "  1.61545\n",
       " -2.0668 \n",
       " -4.12246\n",
       " -2.89019\n",
       "  4.15166"
      ]
     },
     "execution_count": 61,
     "metadata": {},
     "output_type": "execute_result"
    }
   ],
   "source": [
    "# função de duas variáveis\n",
    "# os vetores de X e Y devem ter as mesmas dimensões\n",
    "fsm = sqrt(2*x + cos(y)^3)/sin(y^2+1)\n",
    "\n",
    "float(map(fsm,1:5, 1:5))"
   ]
  },
  {
   "cell_type": "markdown",
   "metadata": {
    "nbpresent": {
     "id": "09f24d5b-ff3b-4629-baed-0214d6d0acdf"
    }
   },
   "source": [
    "* **Mapeamento Função Genérica**"
   ]
  },
  {
   "cell_type": "code",
   "execution_count": 62,
   "metadata": {
    "collapsed": false,
    "nbpresent": {
     "id": "4100ebde-12eb-4441-9316-128b373a21df"
    }
   },
   "outputs": [
    {
     "data": {
      "text/plain": [
       "4-element Array{Float64,1}:\n",
       "  1.1884 \n",
       "  1.61545\n",
       " -2.0668 \n",
       " -4.12246"
      ]
     },
     "execution_count": 62,
     "metadata": {},
     "output_type": "execute_result"
    }
   ],
   "source": [
    "# função de uma variável\n",
    "fgm(x) = sqrt(2*x + cos(x)^3)/sin(x^2+1)\n",
    "\n",
    "map(fgm,0:3)"
   ]
  },
  {
   "cell_type": "code",
   "execution_count": 5,
   "metadata": {
    "collapsed": false,
    "nbpresent": {
     "id": "eb2bfa78-e568-4692-8acd-1fb3e6a03ca1"
    },
    "scrolled": true
   },
   "outputs": [
    {
     "data": {
      "text/plain": [
       "5-element Array{Float64,1}:\n",
       "  1.61545\n",
       " -2.0668 \n",
       " -4.12246\n",
       " -2.89019\n",
       "  4.15166"
      ]
     },
     "execution_count": 5,
     "metadata": {},
     "output_type": "execute_result"
    }
   ],
   "source": [
    "# função de duas variáveis\n",
    "# os vetores de X e Y devem ter as mesmas dimensões\n",
    "fgm(x,y) = sqrt(2*x + cos(y)^3)/sin(y^2+1)\n",
    "\n",
    "map(fgm,1:5, 1:5)"
   ]
  },
  {
   "cell_type": "code",
   "execution_count": 63,
   "metadata": {
    "collapsed": false,
    "nbpresent": {
     "id": "c1626a9b-4e59-4932-977c-be02d41ffb19"
    }
   },
   "outputs": [
    {
     "data": {
      "text/plain": [
       "fgdm (generic function with 1 method)"
      ]
     },
     "execution_count": 63,
     "metadata": {},
     "output_type": "execute_result"
    }
   ],
   "source": [
    "# mapeamento aplicado a uma função genérica do tipo Function\n",
    "\n",
    "function fgdm(x)\n",
    "    return sqrt(2*x + cos(x)^3)/sin(x^2+1)\n",
    "end"
   ]
  },
  {
   "cell_type": "code",
   "execution_count": 64,
   "metadata": {
    "collapsed": false,
    "nbpresent": {
     "id": "4c857182-5774-4938-8a4a-06ecae0841f0"
    }
   },
   "outputs": [
    {
     "data": {
      "text/plain": [
       "4-element Array{Float64,1}:\n",
       "  1.1884 \n",
       "  1.61545\n",
       " -2.0668 \n",
       " -4.12246"
      ]
     },
     "execution_count": 64,
     "metadata": {},
     "output_type": "execute_result"
    }
   ],
   "source": [
    "map(fgdm,0:3)"
   ]
  },
  {
   "cell_type": "markdown",
   "metadata": {
    "nbpresent": {
     "id": "988e996e-fa56-4315-9603-d59e8ee9835c"
    }
   },
   "source": [
    "* **Mapeamento Função Anônima**"
   ]
  },
  {
   "cell_type": "code",
   "execution_count": 8,
   "metadata": {
    "collapsed": false,
    "nbpresent": {
     "id": "2d16332d-c038-434c-adf6-f594830b010f"
    },
    "scrolled": true
   },
   "outputs": [
    {
     "data": {
      "text/plain": [
       "5-element Array{Float64,1}:\n",
       "  1.61545\n",
       " -2.0668 \n",
       " -4.12246\n",
       " -2.89019\n",
       "  4.15166"
      ]
     },
     "execution_count": 8,
     "metadata": {},
     "output_type": "execute_result"
    }
   ],
   "source": [
    "# função de uma variável\n",
    "map(x -> sqrt(2*x + cos(x)^3)/sin(x^2+1), 1:5)"
   ]
  },
  {
   "cell_type": "code",
   "execution_count": 9,
   "metadata": {
    "collapsed": false,
    "nbpresent": {
     "id": "f2a738df-ce07-4c17-8b08-fa3cb5ac9670"
    }
   },
   "outputs": [
    {
     "data": {
      "text/plain": [
       "5-element Array{Float64,1}:\n",
       "  1.61545\n",
       " -2.0668 \n",
       " -4.12246\n",
       " -2.89019\n",
       "  4.15166"
      ]
     },
     "execution_count": 9,
     "metadata": {},
     "output_type": "execute_result"
    }
   ],
   "source": [
    "# função de duas variáveis\n",
    "# os vetores de X e Y devem ter as mesmas dimensões\n",
    "map((x,y)-> sqrt(2*x + cos(y)^3)/sin(y^2+1),1:5,1:5)"
   ]
  },
  {
   "cell_type": "markdown",
   "metadata": {
    "nbpresent": {
     "id": "983ba681-2f25-422d-81cd-4219adda53af"
    }
   },
   "source": [
    "* **Mapeamento com comando `DO`**"
   ]
  },
  {
   "cell_type": "code",
   "execution_count": 10,
   "metadata": {
    "collapsed": false,
    "nbpresent": {
     "id": "b60e8cf8-096f-4a47-97e5-c129e9dc8b15"
    }
   },
   "outputs": [
    {
     "data": {
      "text/plain": [
       "7-element Array{String,1}:\n",
       " \"negativo\"\n",
       " \"negativo\"\n",
       " \"negativo\"\n",
       " \"zero\"    \n",
       " \"positivo\"\n",
       " \"positivo\"\n",
       " \"positivo\""
      ]
     },
     "execution_count": 10,
     "metadata": {},
     "output_type": "execute_result"
    }
   ],
   "source": [
    "# para quem achava que o \"do\" não servia para nada, heehheh\n",
    "\n",
    "map(-3:3) do x\n",
    "    if x < 0 \n",
    "    return \"negativo\"\n",
    "    elseif x == 0\n",
    "        return \"zero\"\n",
    "    else\n",
    "        return \"positivo\"\n",
    "    end\n",
    "end"
   ]
  },
  {
   "cell_type": "code",
   "execution_count": 11,
   "metadata": {
    "collapsed": false,
    "nbpresent": {
     "id": "c9af246c-fa41-4425-a55b-1cb9a7ef1c26"
    },
    "scrolled": true
   },
   "outputs": [
    {
     "data": {
      "text/plain": [
       "7-element Array{String,1}:\n",
       " \"Estranho\"\n",
       " \"negativo\"\n",
       " \"negativo\"\n",
       " \"negativo\"\n",
       " \"negativo\"\n",
       " \"negativo\"\n",
       " \"Estranho\""
      ]
     },
     "execution_count": 11,
     "metadata": {},
     "output_type": "execute_result"
    }
   ],
   "source": [
    "map(-3:3) do x\n",
    "    if x^2 - 5 < 0 \n",
    "        return \"negativo\"\n",
    "    elseif x == 0\n",
    "        return \"zero\"\n",
    "    elseif exp(x) > 0\n",
    "        return \"Estranho\"\n",
    "    else\n",
    "        return \"positivo\"\n",
    "    end\n",
    "end"
   ]
  },
  {
   "cell_type": "markdown",
   "metadata": {
    "nbpresent": {
     "id": "8295ec63-a99b-4c1b-9557-b4b2d855d9cc"
    }
   },
   "source": [
    "## MAPREDUCE\n",
    "\n",
    "A função **`reduce( )`** aplica de forma acumulativa os ítens de uma sequência a uma função. Sintaxe:\n",
    "```julia\n",
    "mapreduce(func, operador, vetor)\n",
    "```"
   ]
  },
  {
   "cell_type": "markdown",
   "metadata": {
    "nbpresent": {
     "id": "e2296619-7c50-402e-bc4a-dff4b5fff89a"
    }
   },
   "source": [
    "* **MapReduce Função Simbólica**"
   ]
  },
  {
   "cell_type": "code",
   "execution_count": 12,
   "metadata": {
    "collapsed": false,
    "nbpresent": {
     "id": "b297321d-c2a0-4676-91ed-bb953a8e1dfa"
    }
   },
   "outputs": [
    {
     "data": {
      "text/plain": [
       "(x,)"
      ]
     },
     "execution_count": 12,
     "metadata": {},
     "output_type": "execute_result"
    }
   ],
   "source": [
    "using SymPy\n",
    "@syms x"
   ]
  },
  {
   "cell_type": "code",
   "execution_count": 13,
   "metadata": {
    "collapsed": false,
    "nbpresent": {
     "id": "996b058f-b11e-4222-a7aa-da2bf6927fc0"
    }
   },
   "outputs": [
    {
     "data": {
      "text/plain": [
       "-3.3854136841642637"
      ]
     },
     "execution_count": 13,
     "metadata": {},
     "output_type": "execute_result"
    }
   ],
   "source": [
    "# utilizando uma função simbolica para calcular os valores de 0 a 3 e somar os resultados\n",
    "fsmr = sqrt(2*x + cos(x)^3)/sin(x^2+1)\n",
    "\n",
    "float(mapreduce(fsmr, +, 0:3))"
   ]
  },
  {
   "cell_type": "markdown",
   "metadata": {
    "nbpresent": {
     "id": "29de085f-bab8-4442-b0f5-368631164e35"
    }
   },
   "source": [
    "* **MapReduce Função Genérica**"
   ]
  },
  {
   "cell_type": "code",
   "execution_count": 14,
   "metadata": {
    "collapsed": false,
    "nbpresent": {
     "id": "ba040321-2825-468f-8d75-815e5d3ccc46"
    },
    "scrolled": true
   },
   "outputs": [
    {
     "data": {
      "text/plain": [
       "fgmr (generic function with 1 method)"
      ]
     },
     "execution_count": 14,
     "metadata": {},
     "output_type": "execute_result"
    }
   ],
   "source": [
    "fgmr(x) = sqrt(2*x + cos(x)^3)/sin(x^2+1)"
   ]
  },
  {
   "cell_type": "code",
   "execution_count": 15,
   "metadata": {
    "collapsed": false,
    "nbpresent": {
     "id": "0a806788-3bee-454e-8857-8e9bde254f19"
    }
   },
   "outputs": [
    {
     "data": {
      "text/plain": [
       "-3.3854136841642646"
      ]
     },
     "execution_count": 15,
     "metadata": {},
     "output_type": "execute_result"
    }
   ],
   "source": [
    "# utilizando uma função genérica para calcular os valores de 0 a 3 e somar os resultados\n",
    "mapreduce(fgmr, +, 0:3)"
   ]
  },
  {
   "cell_type": "code",
   "execution_count": 16,
   "metadata": {
    "collapsed": false,
    "nbpresent": {
     "id": "859551b1-db71-4aaa-90f8-2d7537bb4dab"
    }
   },
   "outputs": [
    {
     "data": {
      "text/plain": [
       "fgdmr (generic function with 1 method)"
      ]
     },
     "execution_count": 16,
     "metadata": {},
     "output_type": "execute_result"
    }
   ],
   "source": [
    "# mapreduce aplicado a uma função genérica do tipo Function\n",
    "\n",
    "function fgdmr(x)\n",
    "    return sqrt(2*x + cos(x)^3)/sin(x^2+1)\n",
    "end"
   ]
  },
  {
   "cell_type": "code",
   "execution_count": 17,
   "metadata": {
    "collapsed": false,
    "nbpresent": {
     "id": "f1bb5341-f9fc-4478-a5a9-5cd04d09bf6c"
    },
    "scrolled": true
   },
   "outputs": [
    {
     "data": {
      "text/plain": [
       "-3.3854136841642646"
      ]
     },
     "execution_count": 17,
     "metadata": {},
     "output_type": "execute_result"
    }
   ],
   "source": [
    "mapreduce(fgdmr,+, 0:3)"
   ]
  },
  {
   "cell_type": "markdown",
   "metadata": {
    "nbpresent": {
     "id": "72c013c9-097b-49be-85ce-8cd271cf52bf"
    }
   },
   "source": [
    "* **MapReduce Função Anônima**"
   ]
  },
  {
   "cell_type": "code",
   "execution_count": 18,
   "metadata": {
    "collapsed": false,
    "nbpresent": {
     "id": "4f640e07-fa74-4dad-9846-7e5a20b95ee4"
    }
   },
   "outputs": [
    {
     "data": {
      "text/plain": [
       "-3.3854136841642646"
      ]
     },
     "execution_count": 18,
     "metadata": {},
     "output_type": "execute_result"
    }
   ],
   "source": [
    "# utilizando uma função anonima para calcular os valores de 0 a 3 e somar os resultados\n",
    "\n",
    "mapreduce( x -> sqrt(2*x + cos(x)^3)/sin(x^2+1), +, 0:3)"
   ]
  },
  {
   "cell_type": "code",
   "execution_count": 19,
   "metadata": {
    "collapsed": false,
    "scrolled": true
   },
   "outputs": [
    {
     "data": {
      "text/plain": [
       "31"
      ]
     },
     "execution_count": 19,
     "metadata": {},
     "output_type": "execute_result"
    }
   ],
   "source": [
    "# utilizando uma função anonima para calcular os valores de 0 a 3 e somar os resultados para 2 variáveis\n",
    "\n",
    "mapreduce(a -> begin x , y = a; 2*y^2 - 1 + x end, +, zip(1:3, 1:3))"
   ]
  },
  {
   "cell_type": "markdown",
   "metadata": {},
   "source": [
    "## FILTRAGEM\n",
    "\n",
    "A função **filter()** devolve uma nova sequência formada pelos itens para os quais a **funcao(item)** é verdadeiro. Sintaxe:\n",
    "```julia\n",
    "filter(func, vetor)\n",
    "```\n"
   ]
  },
  {
   "cell_type": "markdown",
   "metadata": {},
   "source": [
    "* **Filtragem Função Simbólica**\n",
    "\n",
    "Não é possível fazer filtragem com função puramente simbólica"
   ]
  },
  {
   "cell_type": "markdown",
   "metadata": {},
   "source": [
    "* **Filtragem Função Genérica**"
   ]
  },
  {
   "cell_type": "code",
   "execution_count": 20,
   "metadata": {
    "collapsed": false
   },
   "outputs": [
    {
     "data": {
      "text/plain": [
       "fgf (generic function with 1 method)"
      ]
     },
     "execution_count": 20,
     "metadata": {},
     "output_type": "execute_result"
    }
   ],
   "source": [
    "# definindo a função < 1\n",
    "fgf(x) = sqrt(2*x + cos(x)^3)/sin(x^2+1) < 1"
   ]
  },
  {
   "cell_type": "code",
   "execution_count": 21,
   "metadata": {
    "collapsed": false,
    "scrolled": true
   },
   "outputs": [
    {
     "data": {
      "text/plain": [
       "2-element Array{Int64,1}:\n",
       " 2\n",
       " 3"
      ]
     },
     "execution_count": 21,
     "metadata": {},
     "output_type": "execute_result"
    }
   ],
   "source": [
    "filter(fgf, 1:3)"
   ]
  },
  {
   "cell_type": "code",
   "execution_count": 22,
   "metadata": {
    "collapsed": false
   },
   "outputs": [
    {
     "data": {
      "text/plain": [
       "fgdf (generic function with 1 method)"
      ]
     },
     "execution_count": 22,
     "metadata": {},
     "output_type": "execute_result"
    }
   ],
   "source": [
    "# definindo a função tipo function < 1\n",
    "function fgdf(x)\n",
    "    sqrt(2*x + cos(x)^3)/sin(x^2+1) < 1\n",
    "end"
   ]
  },
  {
   "cell_type": "code",
   "execution_count": 23,
   "metadata": {
    "collapsed": false
   },
   "outputs": [
    {
     "data": {
      "text/plain": [
       "2-element Array{Int64,1}:\n",
       " 2\n",
       " 3"
      ]
     },
     "execution_count": 23,
     "metadata": {},
     "output_type": "execute_result"
    }
   ],
   "source": [
    "filter(fgdf, 0:3)"
   ]
  },
  {
   "cell_type": "markdown",
   "metadata": {},
   "source": [
    "* **Filtragem Função Anônima**"
   ]
  },
  {
   "cell_type": "code",
   "execution_count": 24,
   "metadata": {
    "collapsed": false,
    "scrolled": true
   },
   "outputs": [
    {
     "data": {
      "text/plain": [
       "2-element Array{Int64,1}:\n",
       " 2\n",
       " 3"
      ]
     },
     "execution_count": 24,
     "metadata": {},
     "output_type": "execute_result"
    }
   ],
   "source": [
    "filter(x -> sqrt(2*x + cos(x)^3)/sin(x^2+1) < 1, 0:3)"
   ]
  },
  {
   "cell_type": "markdown",
   "metadata": {},
   "source": [
    "## LIST COMPREEHENSION\n",
    "\n",
    "Uma compreensão de lista é uma construção sintática disponível em algumas linguagens de programação para criação de uma lista baseada em listas existentes. Wikipedia.\n",
    "```julia \n",
    "[função_var_1 for var_1 = vetor_x]                           # funcao de uma variável (saída é um vetor)\n",
    "[função_var_1_var_2 for var_1 = vetor_a, var_2 = vetor_b]    # funcao de duas variáveis (saída é uma matriz)\n",
    "[função_var_1_var_2 for var_1 = vetor_a for var_2 = vetor_b] # funcao de duas variáveis (saída é um vetor coluna)\n",
    "\n",
    "```"
   ]
  },
  {
   "cell_type": "markdown",
   "metadata": {},
   "source": [
    "* **List Compreehension Função Simbólica**"
   ]
  },
  {
   "cell_type": "code",
   "execution_count": 25,
   "metadata": {
    "collapsed": false,
    "scrolled": true
   },
   "outputs": [
    {
     "data": {
      "text/plain": [
       "(x,y)"
      ]
     },
     "execution_count": 25,
     "metadata": {},
     "output_type": "execute_result"
    }
   ],
   "source": [
    "using SymPy\n",
    "@syms x y"
   ]
  },
  {
   "cell_type": "code",
   "execution_count": 26,
   "metadata": {
    "collapsed": false
   },
   "outputs": [
    {
     "data": {
      "text/plain": [
       "3-element Array{Float64,1}:\n",
       "  1.61545\n",
       " -2.0668 \n",
       " -4.12246"
      ]
     },
     "execution_count": 26,
     "metadata": {},
     "output_type": "execute_result"
    }
   ],
   "source": [
    "# função de uma variável\n",
    "fslc = sqrt(2*x + cos(x)^3)/sin(x^2+1)\n",
    "\n",
    "[float(fslc(i)) for i = 1:3]"
   ]
  },
  {
   "cell_type": "code",
   "execution_count": 27,
   "metadata": {
    "collapsed": false
   },
   "outputs": [
    {
     "data": {
      "text/plain": [
       "3×3 Array{Float64,2}:\n",
       "  1.61545   1.61545   1.61545\n",
       " -2.0668   -2.0668   -2.0668 \n",
       " -4.12246  -4.12246  -4.12246"
      ]
     },
     "execution_count": 27,
     "metadata": {},
     "output_type": "execute_result"
    }
   ],
   "source": [
    "# função de duas variáveis\n",
    "fslcxy = sqrt(2*x + cos(y)^3)/sin(y^2+1)\n",
    "\n",
    "[float(fslc(i,j)) for i = 1:3, j = 1:3]"
   ]
  },
  {
   "cell_type": "markdown",
   "metadata": {},
   "source": [
    "* **List Compreehension Função Genérica**"
   ]
  },
  {
   "cell_type": "code",
   "execution_count": 28,
   "metadata": {
    "collapsed": false
   },
   "outputs": [
    {
     "data": {
      "text/plain": [
       "fglc (generic function with 1 method)"
      ]
     },
     "execution_count": 28,
     "metadata": {},
     "output_type": "execute_result"
    }
   ],
   "source": [
    "fglc(x) = sqrt(2*x + cos(x)^3)/sin(x^2+1)"
   ]
  },
  {
   "cell_type": "code",
   "execution_count": 29,
   "metadata": {
    "collapsed": false,
    "scrolled": false
   },
   "outputs": [
    {
     "data": {
      "text/plain": [
       "3-element Array{Float64,1}:\n",
       "  1.61545\n",
       " -2.0668 \n",
       " -4.12246"
      ]
     },
     "execution_count": 29,
     "metadata": {},
     "output_type": "execute_result"
    }
   ],
   "source": [
    "[fglc(i) for i = 1:3]"
   ]
  },
  {
   "cell_type": "code",
   "execution_count": 30,
   "metadata": {
    "collapsed": false,
    "scrolled": true
   },
   "outputs": [
    {
     "data": {
      "text/plain": [
       "fglcxy (generic function with 1 method)"
      ]
     },
     "execution_count": 30,
     "metadata": {},
     "output_type": "execute_result"
    }
   ],
   "source": [
    "# função de duas variáveis\n",
    "fglcxy(x,y) = sqrt(2*x + cos(y)^3)/sin(y^2+1)"
   ]
  },
  {
   "cell_type": "code",
   "execution_count": 31,
   "metadata": {
    "collapsed": false
   },
   "outputs": [
    {
     "data": {
      "text/plain": [
       "3×3 Array{Float64,2}:\n",
       " 1.61545  -1.44798  -1.86528\n",
       " 2.24245  -2.0668   -3.19953\n",
       " 2.729    -2.53903  -4.12246"
      ]
     },
     "execution_count": 31,
     "metadata": {},
     "output_type": "execute_result"
    }
   ],
   "source": [
    "[fglcxy(i,j) for i = 1:3, j = 1:3]"
   ]
  },
  {
   "cell_type": "code",
   "execution_count": 32,
   "metadata": {
    "collapsed": false
   },
   "outputs": [
    {
     "data": {
      "text/plain": [
       "fgdlc (generic function with 1 method)"
      ]
     },
     "execution_count": 32,
     "metadata": {},
     "output_type": "execute_result"
    }
   ],
   "source": [
    "# LC aplicado a uma função genérica do tipo Function\n",
    "\n",
    "function fgdlc(x)\n",
    "    return sqrt(2*x + cos(x)^3)/sin(x^2+1)\n",
    "end"
   ]
  },
  {
   "cell_type": "code",
   "execution_count": 33,
   "metadata": {
    "collapsed": false,
    "scrolled": true
   },
   "outputs": [
    {
     "data": {
      "text/plain": [
       "3-element Array{Float64,1}:\n",
       "  1.61545\n",
       " -2.0668 \n",
       " -4.12246"
      ]
     },
     "execution_count": 33,
     "metadata": {},
     "output_type": "execute_result"
    }
   ],
   "source": [
    "[fgdlc(i) for i = 1:3]"
   ]
  },
  {
   "cell_type": "code",
   "execution_count": 34,
   "metadata": {
    "collapsed": false,
    "scrolled": true
   },
   "outputs": [
    {
     "data": {
      "text/plain": [
       "2-element Array{Int64,1}:\n",
       " 4\n",
       " 9"
      ]
     },
     "execution_count": 34,
     "metadata": {},
     "output_type": "execute_result"
    }
   ],
   "source": [
    "# filtragem com função genérica\n",
    "# faz a filtragem de fglcf de acordo com a condição \n",
    "# e aplica na função operador Fop\n",
    "\n",
    "fglcf(x) = sqrt(2*x + cos(x)^3)/sin(x^2+1) < 1\n",
    "fop(x) = x*x\n",
    "\n",
    "[fop(i) for i = filter(fglcf, 0:3)]"
   ]
  },
  {
   "cell_type": "code",
   "execution_count": 35,
   "metadata": {
    "collapsed": false
   },
   "outputs": [
    {
     "data": {
      "text/plain": [
       "2-element Array{Int64,1}:\n",
       " 4\n",
       " 9"
      ]
     },
     "execution_count": 35,
     "metadata": {},
     "output_type": "execute_result"
    }
   ],
   "source": [
    "# outra forma de filtragem com if\n",
    "[fop(i) for i = 0:3 if fglcf(i) ]"
   ]
  },
  {
   "cell_type": "markdown",
   "metadata": {},
   "source": [
    "* **List Compreehension Função Anônima**\n",
    "\n",
    "Sintaxe:\n",
    "```julia\n",
    "[(var_1 -> expressao de var_1)(var_i) for var_i = vetor]\n",
    "\n",
    "[((var_2 , var_2) -> expressao de var_1 e var_2)(var_i, var_j) for var_i = vetor, var_j = vetor ]\n",
    "\n",
    "```"
   ]
  },
  {
   "cell_type": "code",
   "execution_count": 36,
   "metadata": {
    "collapsed": false,
    "scrolled": true
   },
   "outputs": [
    {
     "data": {
      "text/plain": [
       "3-element Array{Float64,1}:\n",
       "  1.61545\n",
       " -2.0668 \n",
       " -4.12246"
      ]
     },
     "execution_count": 36,
     "metadata": {},
     "output_type": "execute_result"
    }
   ],
   "source": [
    "# função de uma variável\n",
    "[(x -> sqrt(2*x + cos(x)^3)/sin(x^2+1))(i) for i = 1:3]"
   ]
  },
  {
   "cell_type": "code",
   "execution_count": 37,
   "metadata": {
    "collapsed": false
   },
   "outputs": [
    {
     "data": {
      "text/plain": [
       "3×3 Array{Float64,2}:\n",
       " 1.61545  -1.44798  -1.86528\n",
       " 2.24245  -2.0668   -3.19953\n",
       " 2.729    -2.53903  -4.12246"
      ]
     },
     "execution_count": 37,
     "metadata": {},
     "output_type": "execute_result"
    }
   ],
   "source": [
    "# função de duas variáveis\n",
    "[((x , y) -> sqrt(2*x + cos(y)^3)/sin(y^2+1))(i,j) for i = 1:3 , j = 1:3]"
   ]
  },
  {
   "cell_type": "code",
   "execution_count": 38,
   "metadata": {
    "collapsed": false,
    "scrolled": true
   },
   "outputs": [
    {
     "data": {
      "text/plain": [
       "9-element Array{Int64,1}:\n",
       "   4\n",
       "   9\n",
       "  16\n",
       "  25\n",
       "  36\n",
       "  49\n",
       "  64\n",
       "  81\n",
       " 100"
      ]
     },
     "execution_count": 38,
     "metadata": {},
     "output_type": "execute_result"
    }
   ],
   "source": [
    "# filtragem com função anonima\n",
    "# faz o filtro a partir da função e aplica em no operador x*x\n",
    "\n",
    "[x*x for x = filter(x -> x^2 - x -1 >= 0, 1:10)]"
   ]
  },
  {
   "cell_type": "code",
   "execution_count": 39,
   "metadata": {
    "collapsed": false,
    "scrolled": true
   },
   "outputs": [
    {
     "data": {
      "text/plain": [
       "9-element Array{Int64,1}:\n",
       "   4\n",
       "   9\n",
       "  16\n",
       "  25\n",
       "  36\n",
       "  49\n",
       "  64\n",
       "  81\n",
       " 100"
      ]
     },
     "execution_count": 39,
     "metadata": {},
     "output_type": "execute_result"
    }
   ],
   "source": [
    "# outra forma\n",
    "[x*x for x = 1:10 if (x^2 - x -1 >= 0)]"
   ]
  },
  {
   "cell_type": "code",
   "execution_count": 40,
   "metadata": {
    "collapsed": false,
    "scrolled": true
   },
   "outputs": [
    {
     "name": "stdout",
     "output_type": "stream",
     "text": [
      "-2 -2\n",
      "-1 -1\n"
     ]
    }
   ],
   "source": [
    "# comparaçao elemento-elemento\n",
    "vec_x = -2:5\n",
    "vec_y = -2:5                        \n",
    "\n",
    "[ println(x,\" \",y) for (x, y) = zip(vec_x, vec_y) if x + y < 0];"
   ]
  },
  {
   "cell_type": "code",
   "execution_count": 41,
   "metadata": {
    "collapsed": false
   },
   "outputs": [
    {
     "name": "stdout",
     "output_type": "stream",
     "text": [
      "-2 -2\n",
      "-1 -2\n",
      "0 -2\n",
      "1 -2\n",
      "-2 -1\n",
      "-1 -1\n",
      "0 -1\n",
      "-2 0\n",
      "-1 0\n",
      "-2 1\n"
     ]
    }
   ],
   "source": [
    "vec_x = -2:5\n",
    "vec_y = -2:5                       \n",
    "\n",
    "[println(x,\" \",y) for x = vec_x , y = vec_y  if x + y < 0];"
   ]
  },
  {
   "cell_type": "markdown",
   "metadata": {},
   "source": [
    "### LC APLICADO PARA GERAR MATRIZES\n",
    "\n",
    "É possível aplicar uma LC para escrever uma matriz gerada a partir de uma função."
   ]
  },
  {
   "cell_type": "code",
   "execution_count": 42,
   "metadata": {
    "collapsed": false
   },
   "outputs": [
    {
     "data": {
      "text/plain": [
       "fmatriz (generic function with 1 method)"
      ]
     },
     "execution_count": 42,
     "metadata": {},
     "output_type": "execute_result"
    }
   ],
   "source": [
    "# funcao genérica\n",
    "fmatriz(x , y) = x*sind(x) + y*sind(y)"
   ]
  },
  {
   "cell_type": "code",
   "execution_count": 43,
   "metadata": {
    "collapsed": false,
    "scrolled": true
   },
   "outputs": [
    {
     "data": {
      "text/plain": [
       "5×5 Array{Float64,2}:\n",
       " 0.0349048  0.0872514  0.17446   0.296478  0.453231\n",
       " 0.0872514  0.139598   0.226807  0.348825  0.505578\n",
       " 0.17446    0.226807   0.314016  0.436034  0.592787\n",
       " 0.296478   0.348825   0.436034  0.558052  0.714805\n",
       " 0.453231   0.505578   0.592787  0.714805  0.871557"
      ]
     },
     "execution_count": 43,
     "metadata": {},
     "output_type": "execute_result"
    }
   ],
   "source": [
    "# criação de uma matriz definida por uma funcao\n",
    "[fmatriz(x,y) for x = 1:5 , y = 1:5]"
   ]
  },
  {
   "cell_type": "code",
   "execution_count": 44,
   "metadata": {
    "collapsed": false
   },
   "outputs": [
    {
     "data": {
      "text/plain": [
       "5×5 Array{Float64,2}:\n",
       " 0.0349048  0.0872514  0.17446   0.296478  0.453231\n",
       " 0.0872514  0.139598   0.226807  0.348825  0.505578\n",
       " 0.17446    0.226807   0.314016  0.436034  0.592787\n",
       " 0.296478   0.348825   0.436034  0.558052  0.714805\n",
       " 0.453231   0.505578   0.592787  0.714805  0.871557"
      ]
     },
     "execution_count": 44,
     "metadata": {},
     "output_type": "execute_result"
    }
   ],
   "source": [
    "# outra forma com atribuição direta\n",
    "[x*sind(x) + y*sind(y) for x = 1:5, y = 1:5]"
   ]
  },
  {
   "cell_type": "code",
   "execution_count": 45,
   "metadata": {
    "collapsed": false,
    "scrolled": true
   },
   "outputs": [
    {
     "data": {
      "text/plain": [
       "5×5 Array{Float64,2}:\n",
       " 0.0349048  0.0872514  0.17446   0.296478  0.453231\n",
       " 0.0872514  0.139598   0.226807  0.348825  0.505578\n",
       " 0.17446    0.226807   0.314016  0.436034  0.592787\n",
       " 0.296478   0.348825   0.436034  0.558052  0.714805\n",
       " 0.453231   0.505578   0.592787  0.714805  0.871557"
      ]
     },
     "execution_count": 45,
     "metadata": {},
     "output_type": "execute_result"
    }
   ],
   "source": [
    "# função anônima\n",
    "[((x,y) -> x*sind(x) + y*sind(y))(x,y) for x = 1:5, y = 1:5]"
   ]
  },
  {
   "cell_type": "markdown",
   "metadata": {
    "nbpresent": {
     "id": "71a20469-0604-4950-a945-e999c35ea6be"
    }
   },
   "source": [
    "### QUAL É O MELHOR? FUNÇÃO GENÉRICA, ANÔNIMA OU SIMBÓLICA?\n",
    "\n",
    "De forma prática a tabela abaixo indica as melhores opções para cada caso. Para ver na prática qua a melhor, veja a parte \"**Optimizando Códigos Para a Alta Performance**\" neste tutorial.\n"
   ]
  },
  {
   "cell_type": "markdown",
   "metadata": {
    "nbpresent": {
     "id": "b0828475-ae84-4823-8c9e-bdd563dac124"
    }
   },
   "source": [
    "### CALCULOS DIVERSOS COM EQUAÇÕES, INEQUAÇÕES E FUNÇÕES###"
   ]
  },
  {
   "cell_type": "code",
   "execution_count": 21,
   "metadata": {
    "collapsed": false,
    "nbpresent": {
     "id": "847d49ae-d71f-44aa-8c90-cf54c1b4e086"
    }
   },
   "outputs": [
    {
     "data": {
      "text/plain": [
       "(x,y)"
      ]
     },
     "execution_count": 21,
     "metadata": {},
     "output_type": "execute_result"
    }
   ],
   "source": [
    "using SymPy\n",
    "@syms x y"
   ]
  },
  {
   "cell_type": "markdown",
   "metadata": {
    "nbpresent": {
     "id": "5adbb752-8bd0-4787-92a8-1bb555e5fd63"
    }
   },
   "source": [
    "** Expansão dos termos de uma expressões **"
   ]
  },
  {
   "cell_type": "code",
   "execution_count": 8,
   "metadata": {
    "collapsed": false,
    "nbpresent": {
     "id": "8bd5b12a-c069-4361-9c16-a2db28f9fb36"
    }
   },
   "outputs": [
    {
     "data": {
      "text/latex": [
       "$$\\left(x - 3\\right)^{3} \\left(x - 2\\right)^{4}$$"
      ],
      "text/plain": [
       "       3        4\n",
       "(x - 3) *(x - 2) "
      ]
     },
     "execution_count": 8,
     "metadata": {},
     "output_type": "execute_result"
    }
   ],
   "source": [
    "y = (x-2)^4 * (x-3)^3"
   ]
  },
  {
   "cell_type": "code",
   "execution_count": 9,
   "metadata": {
    "collapsed": false,
    "nbpresent": {
     "id": "e604ef07-574a-487c-a091-0e2b05aa7756"
    }
   },
   "outputs": [
    {
     "data": {
      "text/latex": [
       "$$x^{7} - 17 x^{6} + 123 x^{5} - 491 x^{4} + 1168 x^{3} - 1656 x^{2} + 1296 x - 432$$"
      ],
      "text/plain": [
       " 7       6        5        4         3         2               \n",
       "x  - 17*x  + 123*x  - 491*x  + 1168*x  - 1656*x  + 1296*x - 432"
      ]
     },
     "execution_count": 9,
     "metadata": {},
     "output_type": "execute_result"
    }
   ],
   "source": [
    "expand(y)"
   ]
  },
  {
   "cell_type": "markdown",
   "metadata": {
    "nbpresent": {
     "id": "01214431-f87d-4e81-aea1-4a21860ce908"
    }
   },
   "source": [
    "<strong>Fatorização</strong>"
   ]
  },
  {
   "cell_type": "code",
   "execution_count": 10,
   "metadata": {
    "collapsed": false,
    "nbpresent": {
     "id": "357a01ad-2857-4f72-ad89-a2c779adc91c"
    }
   },
   "outputs": [
    {
     "data": {
      "text/latex": [
       "$$x^{7} - 17 x^{6} + 123 x^{5} - 491 x^{4} + 1168 x^{3} - 1656 x^{2} + 1296 x - 432$$"
      ],
      "text/plain": [
       " 7       6        5        4         3         2               \n",
       "x  - 17*x  + 123*x  - 491*x  + 1168*x  - 1656*x  + 1296*x - 432"
      ]
     },
     "execution_count": 10,
     "metadata": {},
     "output_type": "execute_result"
    }
   ],
   "source": [
    "y = x^7 - 17*x^6 + 123*x^5 - 491*x^4 + 1168*x^3 - 1656*x^2 + 1296*x - 432"
   ]
  },
  {
   "cell_type": "code",
   "execution_count": 11,
   "metadata": {
    "collapsed": false,
    "nbpresent": {
     "id": "ffabff4b-45b8-4b78-8ecd-05e7d4ceafcf"
    }
   },
   "outputs": [
    {
     "data": {
      "text/latex": [
       "$$\\left(x - 3\\right)^{3} \\left(x - 2\\right)^{4}$$"
      ],
      "text/plain": [
       "       3        4\n",
       "(x - 3) *(x - 2) "
      ]
     },
     "execution_count": 11,
     "metadata": {},
     "output_type": "execute_result"
    }
   ],
   "source": [
    "factor(y)"
   ]
  },
  {
   "cell_type": "markdown",
   "metadata": {
    "nbpresent": {
     "id": "d1dee094-67d6-4336-b3b9-1487f2b13a33"
    }
   },
   "source": [
    "<strong>Frações parciais</strong>"
   ]
  },
  {
   "cell_type": "code",
   "execution_count": 51,
   "metadata": {
    "collapsed": false,
    "nbpresent": {
     "id": "73a23ca9-c36b-4500-9758-a4c62c4c9626"
    }
   },
   "outputs": [
    {
     "data": {
      "text/latex": [
       "$$\\frac{2 x^{2} + 3 x - 1}{x^{2} - 3 x + 2}$$"
      ],
      "text/plain": [
       "   2          \n",
       "2*x  + 3*x - 1\n",
       "--------------\n",
       "  2           \n",
       " x  - 3*x + 2 "
      ]
     },
     "execution_count": 51,
     "metadata": {},
     "output_type": "execute_result"
    }
   ],
   "source": [
    "fx = (2*x^2 +3*x -1) / (x^2 - 3*x + 2)"
   ]
  },
  {
   "cell_type": "code",
   "execution_count": 52,
   "metadata": {
    "collapsed": false,
    "nbpresent": {
     "id": "9dc6b81b-48a3-4ede-9247-1d517c387289"
    }
   },
   "outputs": [
    {
     "data": {
      "text/latex": [
       "$$2 - \\frac{4}{x - 1} + \\frac{13}{x - 2}$$"
      ],
      "text/plain": [
       "      4       13 \n",
       "2 - ----- + -----\n",
       "    x - 1   x - 2"
      ]
     },
     "execution_count": 52,
     "metadata": {},
     "output_type": "execute_result"
    }
   ],
   "source": [
    "# fraçõs parciais\n",
    "\n",
    "apart(fx)"
   ]
  },
  {
   "cell_type": "markdown",
   "metadata": {
    "nbpresent": {
     "id": "0bbce649-53e4-40ae-8322-34abd46b0078"
    }
   },
   "source": [
    "<strong>Simplificação de expressões</strong>"
   ]
  },
  {
   "cell_type": "code",
   "execution_count": 53,
   "metadata": {
    "collapsed": false,
    "nbpresent": {
     "id": "7b02f73c-6f48-4b2c-b895-3d439a055b15"
    },
    "scrolled": false
   },
   "outputs": [
    {
     "data": {
      "text/latex": [
       "$$2 - \\frac{4}{x - 1} + \\frac{13}{x - 2}$$"
      ],
      "text/plain": [
       "      4       13 \n",
       "2 - ----- + -----\n",
       "    x - 1   x - 2"
      ]
     },
     "execution_count": 53,
     "metadata": {},
     "output_type": "execute_result"
    }
   ],
   "source": [
    "frac_fx = 13/(x-2) + -4/(x-1) +2"
   ]
  },
  {
   "cell_type": "code",
   "execution_count": 54,
   "metadata": {
    "collapsed": false,
    "nbpresent": {
     "id": "154cfc7c-f765-4d9c-9a48-356792f7e07f"
    },
    "scrolled": true
   },
   "outputs": [
    {
     "data": {
      "text/latex": [
       "$$\\frac{2 x^{2} + 3 x - 1}{x^{2} - 3 x + 2}$$"
      ],
      "text/plain": [
       "   2          \n",
       "2*x  + 3*x - 1\n",
       "--------------\n",
       "  2           \n",
       " x  - 3*x + 2 "
      ]
     },
     "execution_count": 54,
     "metadata": {},
     "output_type": "execute_result"
    }
   ],
   "source": [
    "simplify(frac_fx)"
   ]
  },
  {
   "cell_type": "markdown",
   "metadata": {},
   "source": [
    "**Divisão entre expressões**"
   ]
  },
  {
   "cell_type": "code",
   "execution_count": 25,
   "metadata": {
    "collapsed": false
   },
   "outputs": [
    {
     "name": "stderr",
     "output_type": "stream",
     "text": [
      "WARNING: imported binding for rest overwritten in module Main\n"
     ]
    },
    {
     "data": {
      "text/plain": [
       "(x - 1,-5)"
      ]
     },
     "execution_count": 25,
     "metadata": {},
     "output_type": "execute_result"
    }
   ],
   "source": [
    "# O quociente e o resto da divisão euclidiana.\n",
    "quoc, rest = divrem((x^2 - 2*x^1 - 4),(x - 1))"
   ]
  },
  {
   "cell_type": "code",
   "execution_count": 27,
   "metadata": {
    "collapsed": false
   },
   "outputs": [
    {
     "data": {
      "text/latex": [
       "$$-5$$"
      ],
      "text/plain": [
       "-5"
      ]
     },
     "execution_count": 27,
     "metadata": {},
     "output_type": "execute_result"
    }
   ],
   "source": [
    "rest"
   ]
  },
  {
   "cell_type": "markdown",
   "metadata": {
    "nbpresent": {
     "id": "104b4015-75c5-4682-b44f-79da6961a2c5"
    }
   },
   "source": []
  },
  {
   "cell_type": "markdown",
   "metadata": {
    "collapsed": true,
    "nbpresent": {
     "id": "53f22fa1-febe-4b08-969d-1f7b9660e7ca"
    }
   },
   "source": [
    "** Substituir variável por um valor ou outra variável**\n",
    "\n",
    "Para substituir o valor de X na equação acima, utilizamos o comando:\n",
    "```julia\n",
    "subs(variável, variável_expressão, variavel/valor)\n",
    "```\n",
    "Observe no exemplo 1, que a expressão de Y continua a mesma, só o valor de X que é alterado para o valor (2) e o cálculo é realizado (Y = 2). No exemplo 2, a variável X é alterada para W. E no exemplo 3, as variáveis X e W são substituídas por valores e outras variáveis"
   ]
  },
  {
   "cell_type": "markdown",
   "metadata": {
    "nbpresent": {
     "id": "b72ce7b8-aa92-4eae-a017-98192f8f7492"
    }
   },
   "source": [
    "* ** Exemplo 1: substituição por um valor numérico **"
   ]
  },
  {
   "cell_type": "code",
   "execution_count": 55,
   "metadata": {
    "collapsed": false,
    "nbpresent": {
     "id": "86b2d9f5-a6d8-4406-b658-75d659685c53"
    },
    "scrolled": true
   },
   "outputs": [
    {
     "data": {
      "text/plain": [
       "(x,y)"
      ]
     },
     "execution_count": 55,
     "metadata": {},
     "output_type": "execute_result"
    }
   ],
   "source": [
    "using SymPy\n",
    "\n",
    "@vars x y"
   ]
  },
  {
   "cell_type": "code",
   "execution_count": 56,
   "metadata": {
    "collapsed": false,
    "nbpresent": {
     "id": "236d0569-40c6-40db-8e63-2a85171770f5"
    },
    "scrolled": false
   },
   "outputs": [
    {
     "data": {
      "text/latex": [
       "$$2$$"
      ],
      "text/plain": [
       "2"
      ]
     },
     "execution_count": 56,
     "metadata": {},
     "output_type": "execute_result"
    }
   ],
   "source": [
    "# x = 0\n",
    "\n",
    "subs(x^2 - 3*x + 2 , (x , 0))"
   ]
  },
  {
   "cell_type": "code",
   "execution_count": 65,
   "metadata": {
    "collapsed": false,
    "nbpresent": {
     "id": "7526a0cd-ca55-470d-9d5d-1f023f380bcd"
    },
    "scrolled": true
   },
   "outputs": [
    {
     "ename": "LoadError",
     "evalue": "LoadError: MethodError: Cannot `convert` an object of type UnitRange{Int64} to an object of type SymPy.Sym\nThis may have arisen from a call to the constructor SymPy.Sym(...),\nsince type constructors fall back to convert methods.\nwhile loading In[65], in expression starting on line 2",
     "output_type": "error",
     "traceback": [
      "LoadError: MethodError: Cannot `convert` an object of type UnitRange{Int64} to an object of type SymPy.Sym\nThis may have arisen from a call to the constructor SymPy.Sym(...),\nsince type constructors fall back to convert methods.\nwhile loading In[65], in expression starting on line 2",
      "",
      " in subs(::SymPy.Sym, ::Tuple{SymPy.Sym,UnitRange{Int64}}) at /home/jmarcellopereira/.julia/v0.5/SymPy/src/subs.jl:49"
     ]
    }
   ],
   "source": [
    "# O comando subs do julia não substitui por um vetor x = [1, -1, 0]. OCORRE ERRO!\n",
    "subs(x^2 - 3*x + 2 , (x , 1:3))"
   ]
  },
  {
   "cell_type": "markdown",
   "metadata": {
    "nbpresent": {
     "id": "0d776bad-36b7-45ab-8315-b942bd1dbfee"
    }
   },
   "source": [
    "* ** Exemplo 2: substituição por uma variável **"
   ]
  },
  {
   "cell_type": "code",
   "execution_count": 58,
   "metadata": {
    "collapsed": false,
    "nbpresent": {
     "id": "0be29d60-3aee-4bb2-a5a0-00f2b6f0672e"
    },
    "scrolled": true
   },
   "outputs": [
    {
     "data": {
      "text/latex": [
       "$$w^{2} - 3 w + 2$$"
      ],
      "text/plain": [
       " 2          \n",
       "w  - 3*w + 2"
      ]
     },
     "execution_count": 58,
     "metadata": {},
     "output_type": "execute_result"
    }
   ],
   "source": [
    "# x por w\n",
    "@syms w\n",
    "\n",
    "y_w = subs(x^2 - 3*x + 2 , x , w)"
   ]
  },
  {
   "cell_type": "markdown",
   "metadata": {
    "nbpresent": {
     "id": "44db12a7-4fd6-4e04-a5fe-4c4553180688"
    }
   },
   "source": [
    "* ** Exemplo 3: Para substituir mais de uma variável: **"
   ]
  },
  {
   "cell_type": "code",
   "execution_count": 59,
   "metadata": {
    "collapsed": false,
    "nbpresent": {
     "id": "ed6ff118-138f-4d9f-86c7-be4bbb380015"
    }
   },
   "outputs": [
    {
     "data": {
      "text/plain": [
       "(4,4)"
      ]
     },
     "execution_count": 59,
     "metadata": {},
     "output_type": "execute_result"
    }
   ],
   "source": [
    "# Substitui x e w por 2 e 1 e efetua o cálculo\n",
    "\n",
    "r = x*w + 2\n",
    "subs(r,(x , 2),(w , 1)), subs(r, x => 2, w => 1)"
   ]
  },
  {
   "cell_type": "code",
   "execution_count": 60,
   "metadata": {
    "collapsed": false,
    "nbpresent": {
     "id": "b1f45e7c-fc9d-4624-9879-d78dbd4a363e"
    }
   },
   "outputs": [
    {
     "data": {
      "text/latex": [
       "$$4$$"
      ],
      "text/plain": [
       "4"
      ]
     },
     "execution_count": 60,
     "metadata": {},
     "output_type": "execute_result"
    }
   ],
   "source": [
    "# Substitui x e w por p e q e efetua o cálculo\n",
    "\n",
    "@vars p,q\n",
    "subs(r , x => p = 2, w => q = 1)"
   ]
  },
  {
   "cell_type": "code",
   "execution_count": null,
   "metadata": {
    "collapsed": true
   },
   "outputs": [],
   "source": []
  }
 ],
 "metadata": {
  "anaconda-cloud": {},
  "kernelspec": {
   "display_name": "Julia 0.5.0",
   "language": "julia",
   "name": "julia-0.5"
  },
  "language_info": {
   "file_extension": ".jl",
   "mimetype": "application/julia",
   "name": "julia",
   "version": "0.5.0"
  },
  "nbpresent": {
   "slides": {
    "00236970-6c88-4d4b-bd3c-cedc61866af5": {
     "id": "00236970-6c88-4d4b-bd3c-cedc61866af5",
     "prev": "7e276c81-a836-45e4-acf0-e9253e950dd8",
     "regions": {
      "0f921955-99ef-4215-b273-17a07041963e": {
       "attrs": {
        "height": 0.8,
        "width": 0.8,
        "x": 0.1,
        "y": 0.1
       },
       "content": {
        "cell": "003b8705-d411-4813-9774-a0cb0a49f553",
        "part": "whole"
       },
       "id": "0f921955-99ef-4215-b273-17a07041963e"
      }
     }
    },
    "00ac7405-8262-44d6-99f9-ec75589638d3": {
     "id": "00ac7405-8262-44d6-99f9-ec75589638d3",
     "prev": "087b8016-73ef-40cc-a8fe-78ec962302f2",
     "regions": {
      "089e0743-b099-49ed-a6aa-a047a56b2ec2": {
       "attrs": {
        "height": 0.8,
        "width": 0.8,
        "x": 0.1,
        "y": 0.1
       },
       "content": {
        "cell": "8f27f473-ec49-4797-a0a8-d3832c8ddd59",
        "part": "whole"
       },
       "id": "089e0743-b099-49ed-a6aa-a047a56b2ec2"
      }
     }
    },
    "0117da64-b24f-43bb-a4fb-a449cab75351": {
     "id": "0117da64-b24f-43bb-a4fb-a449cab75351",
     "prev": "913349f9-0366-47cc-a2e3-b22094905a8d",
     "regions": {
      "d64a0d22-1864-45f2-b943-8a0e36276a6e": {
       "attrs": {
        "height": 0.8,
        "width": 0.8,
        "x": 0.1,
        "y": 0.1
       },
       "content": {
        "cell": "d1dee094-67d6-4336-b3b9-1487f2b13a33",
        "part": "whole"
       },
       "id": "d64a0d22-1864-45f2-b943-8a0e36276a6e"
      }
     }
    },
    "02a453ac-c085-4cd8-9c4d-53d91a698b57": {
     "id": "02a453ac-c085-4cd8-9c4d-53d91a698b57",
     "prev": "03b5d45d-48a3-471a-a357-4a1f0d60bb45",
     "regions": {
      "f581d055-e65e-4dbd-8772-f5e1fe5cbbd8": {
       "attrs": {
        "height": 0.8,
        "width": 0.8,
        "x": 0.1,
        "y": 0.1
       },
       "content": {
        "cell": "6647033f-25bc-4c9f-83d4-352b7c05c308",
        "part": "whole"
       },
       "id": "f581d055-e65e-4dbd-8772-f5e1fe5cbbd8"
      }
     }
    },
    "02db0acd-93c9-4d08-8d5e-c32f77f761b4": {
     "id": "02db0acd-93c9-4d08-8d5e-c32f77f761b4",
     "prev": "452ed1de-d702-44db-a2a7-8f47300b85e2",
     "regions": {
      "331e3e7a-54fc-4d43-b335-278a2ef8b598": {
       "attrs": {
        "height": 0.8,
        "width": 0.8,
        "x": 0.1,
        "y": 0.1
       },
       "content": {
        "cell": "4c423b0e-5cde-4235-bd98-76176a821abe",
        "part": "whole"
       },
       "id": "331e3e7a-54fc-4d43-b335-278a2ef8b598"
      }
     }
    },
    "03b5d45d-48a3-471a-a357-4a1f0d60bb45": {
     "id": "03b5d45d-48a3-471a-a357-4a1f0d60bb45",
     "prev": "bbe206c1-78e7-474e-985e-3d0590106f7e",
     "regions": {
      "522ebe55-b7da-42b8-8c04-75e246a64b8f": {
       "attrs": {
        "height": 0.8,
        "width": 0.8,
        "x": 0.1,
        "y": 0.1
       },
       "content": {
        "cell": "05d2783d-7431-4f86-b351-1f19e66212c3",
        "part": "whole"
       },
       "id": "522ebe55-b7da-42b8-8c04-75e246a64b8f"
      }
     }
    },
    "07cf8e78-9e83-4ea4-aa2f-e84e803a4665": {
     "id": "07cf8e78-9e83-4ea4-aa2f-e84e803a4665",
     "prev": "3e6f1fe2-e05f-4c99-9378-dc34020acd15",
     "regions": {
      "1b5ef060-1975-42a3-ac68-fc75fe25c8f8": {
       "attrs": {
        "height": 0.8,
        "width": 0.8,
        "x": 0.1,
        "y": 0.1
       },
       "content": {
        "cell": "988e996e-fa56-4315-9603-d59e8ee9835c",
        "part": "whole"
       },
       "id": "1b5ef060-1975-42a3-ac68-fc75fe25c8f8"
      }
     }
    },
    "087b8016-73ef-40cc-a8fe-78ec962302f2": {
     "id": "087b8016-73ef-40cc-a8fe-78ec962302f2",
     "prev": "f65d5621-095f-487c-b773-f6ff1214814d",
     "regions": {
      "82b44452-5f72-40da-9638-9af3e92097ee": {
       "attrs": {
        "height": 0.8,
        "width": 0.8,
        "x": 0.1,
        "y": 0.1
       },
       "content": {
        "cell": "910882c2-dc49-483c-8e79-09dc10a2c7d8",
        "part": "whole"
       },
       "id": "82b44452-5f72-40da-9638-9af3e92097ee"
      }
     }
    },
    "08dd7563-aab3-437f-92f7-5245ff790a5b": {
     "id": "08dd7563-aab3-437f-92f7-5245ff790a5b",
     "prev": "6c124c26-f696-4d03-ac5e-7e418cfffbb8",
     "regions": {
      "e6de3e82-15cc-4e3e-b7a0-b214452e7674": {
       "attrs": {
        "height": 0.8,
        "width": 0.8,
        "x": 0.1,
        "y": 0.1
       },
       "content": {
        "cell": "ed6ff118-138f-4d9f-86c7-be4bbb380015",
        "part": "whole"
       },
       "id": "e6de3e82-15cc-4e3e-b7a0-b214452e7674"
      }
     }
    },
    "09a63dec-cb8c-47e1-9b7d-a3f355904c72": {
     "id": "09a63dec-cb8c-47e1-9b7d-a3f355904c72",
     "prev": "f4d9d326-bd36-4435-81f6-d7a21a44333d",
     "regions": {
      "a2197130-f7e9-47e4-8548-477d22a4044e": {
       "attrs": {
        "height": 0.8,
        "width": 0.8,
        "x": 0.1,
        "y": 0.1
       },
       "content": {
        "cell": "859551b1-db71-4aaa-90f8-2d7537bb4dab",
        "part": "whole"
       },
       "id": "a2197130-f7e9-47e4-8548-477d22a4044e"
      }
     }
    },
    "09d1c039-7e8d-44ba-bbd7-766f537c62c1": {
     "id": "09d1c039-7e8d-44ba-bbd7-766f537c62c1",
     "prev": "313ba730-c2dc-403c-8d3c-b1f3b7684888",
     "regions": {
      "1f9690ea-b92c-4964-8adc-edd11fe6a2ad": {
       "attrs": {
        "height": 0.8,
        "width": 0.8,
        "x": 0.1,
        "y": 0.1
       },
       "content": {
        "cell": "7b02f73c-6f48-4b2c-b895-3d439a055b15",
        "part": "whole"
       },
       "id": "1f9690ea-b92c-4964-8adc-edd11fe6a2ad"
      }
     }
    },
    "0c8b7551-980d-4608-a7b2-b843ae41cd71": {
     "id": "0c8b7551-980d-4608-a7b2-b843ae41cd71",
     "prev": "abffd578-b63b-49c4-871b-03e639470280",
     "regions": {
      "a520a612-53b0-45e7-957f-17057a04bec3": {
       "attrs": {
        "height": 0.8,
        "width": 0.8,
        "x": 0.1,
        "y": 0.1
       },
       "content": {
        "cell": "d4ea76fa-1e02-4de7-9aa6-bc37b423d412",
        "part": "whole"
       },
       "id": "a520a612-53b0-45e7-957f-17057a04bec3"
      }
     }
    },
    "0cc09bed-4f0b-4bcd-892b-d911f2e4b463": {
     "id": "0cc09bed-4f0b-4bcd-892b-d911f2e4b463",
     "prev": "f51ef26a-3a26-4d3e-8ab9-8e675d587ef9",
     "regions": {
      "eca1c547-2564-4417-8191-58556a1a6e4b": {
       "attrs": {
        "height": 0.8,
        "width": 0.8,
        "x": 0.1,
        "y": 0.1
       },
       "content": {
        "cell": "ccdfc38a-83f4-43bf-a941-58e736f27eed",
        "part": "whole"
       },
       "id": "eca1c547-2564-4417-8191-58556a1a6e4b"
      }
     }
    },
    "13564e7d-ac07-46b8-b6cb-407a0060d265": {
     "id": "13564e7d-ac07-46b8-b6cb-407a0060d265",
     "prev": "0117da64-b24f-43bb-a4fb-a449cab75351",
     "regions": {
      "79b65f4f-0e29-4aa7-b4b4-68480ce3ac7a": {
       "attrs": {
        "height": 0.8,
        "width": 0.8,
        "x": 0.1,
        "y": 0.1
       },
       "content": {
        "cell": "73a23ca9-c36b-4500-9758-a4c62c4c9626",
        "part": "whole"
       },
       "id": "79b65f4f-0e29-4aa7-b4b4-68480ce3ac7a"
      }
     }
    },
    "136a7e1a-7a0d-4237-b390-ffa856365325": {
     "id": "136a7e1a-7a0d-4237-b390-ffa856365325",
     "prev": "ea067182-b28b-446e-8354-eb3d64aea2a4",
     "regions": {
      "e94d73fb-3738-411d-a9c9-982ff5d1f769": {
       "attrs": {
        "height": 0.8,
        "width": 0.8,
        "x": 0.1,
        "y": 0.1
       },
       "content": {
        "cell": "4100ebde-12eb-4441-9316-128b373a21df",
        "part": "whole"
       },
       "id": "e94d73fb-3738-411d-a9c9-982ff5d1f769"
      }
     }
    },
    "1404231f-1882-4231-87ed-0f3877dcfdc9": {
     "id": "1404231f-1882-4231-87ed-0f3877dcfdc9",
     "prev": "136a7e1a-7a0d-4237-b390-ffa856365325",
     "regions": {
      "0ec8d3c6-afe7-42ad-b8bc-7803b483ebbe": {
       "attrs": {
        "height": 0.8,
        "width": 0.8,
        "x": 0.1,
        "y": 0.1
       },
       "content": {
        "cell": "eb2bfa78-e568-4692-8acd-1fb3e6a03ca1",
        "part": "whole"
       },
       "id": "0ec8d3c6-afe7-42ad-b8bc-7803b483ebbe"
      }
     }
    },
    "145a218c-882a-425a-b738-5ba654fd9461": {
     "id": "145a218c-882a-425a-b738-5ba654fd9461",
     "prev": null,
     "regions": {
      "8bd1db83-4c2f-44a3-8367-9cc6b0d6e65b": {
       "attrs": {
        "height": 0.8,
        "width": 0.8,
        "x": 0.1,
        "y": 0.1
       },
       "content": {
        "cell": "ed678d8f-5b5a-4be8-8475-968f56ed8cc6",
        "part": "whole"
       },
       "id": "8bd1db83-4c2f-44a3-8367-9cc6b0d6e65b"
      }
     }
    },
    "152e866a-c620-4792-aba6-8c2adfeac2b9": {
     "id": "152e866a-c620-4792-aba6-8c2adfeac2b9",
     "prev": "937cbb50-9336-4b3d-b37d-23b142d11cee",
     "regions": {
      "28f5a622-150c-4a61-b191-56dddbd5ca86": {
       "attrs": {
        "height": 0.8,
        "width": 0.8,
        "x": 0.1,
        "y": 0.1
       },
       "content": {
        "cell": "79c15a0c-5634-4252-bd2b-2462c2284d56",
        "part": "whole"
       },
       "id": "28f5a622-150c-4a61-b191-56dddbd5ca86"
      }
     }
    },
    "15af1ac1-f8cc-4788-a062-363dddb10d64": {
     "id": "15af1ac1-f8cc-4788-a062-363dddb10d64",
     "prev": "d0a46fa9-e00a-4e8b-80a4-c05c3d989657",
     "regions": {
      "56a3db75-377f-4055-aa8c-dc06a6c91af1": {
       "attrs": {
        "height": 0.8,
        "width": 0.8,
        "x": 0.1,
        "y": 0.1
       },
       "content": {
        "cell": "be1bd44f-58f2-4dd3-801a-5b63eaa7fead",
        "part": "whole"
       },
       "id": "56a3db75-377f-4055-aa8c-dc06a6c91af1"
      }
     }
    },
    "16c9880a-4cb0-45fa-bfc1-0ff5847dedfe": {
     "id": "16c9880a-4cb0-45fa-bfc1-0ff5847dedfe",
     "prev": "48526992-66a6-4bad-9750-3b357436d536",
     "regions": {
      "1f0f43b8-617d-484e-9683-735aebe388a3": {
       "attrs": {
        "height": 0.8,
        "width": 0.8,
        "x": 0.1,
        "y": 0.1
       },
       "content": {
        "cell": "e7ad1faa-0662-4db1-8ab4-235a48bd42eb",
        "part": "whole"
       },
       "id": "1f0f43b8-617d-484e-9683-735aebe388a3"
      }
     }
    },
    "17ce9e10-b757-42eb-9ce6-c8c0eae030b8": {
     "id": "17ce9e10-b757-42eb-9ce6-c8c0eae030b8",
     "prev": "784300ff-3ec3-434e-967f-21246ec861aa",
     "regions": {
      "3b44b14f-099f-457e-b57d-17258a96044c": {
       "attrs": {
        "height": 0.8,
        "width": 0.8,
        "x": 0.1,
        "y": 0.1
       },
       "content": {
        "cell": "1a43b98c-2f9e-49cf-82ca-96ec190008cd",
        "part": "whole"
       },
       "id": "3b44b14f-099f-457e-b57d-17258a96044c"
      }
     }
    },
    "186a8b8c-98da-4bdc-845d-8797eb35f648": {
     "id": "186a8b8c-98da-4bdc-845d-8797eb35f648",
     "prev": "60200b34-3f9d-4a5a-bb83-f5e82d358a33",
     "regions": {
      "df31e53d-0420-4629-a24c-0d63d181aae0": {
       "attrs": {
        "height": 0.8,
        "width": 0.8,
        "x": 0.1,
        "y": 0.1
       },
       "content": {
        "cell": "f5a06b40-34cc-4a7a-95a9-914d6552e49e",
        "part": "whole"
       },
       "id": "df31e53d-0420-4629-a24c-0d63d181aae0"
      }
     }
    },
    "1af55cb2-a86e-46b4-92c3-ec4bcb6217f5": {
     "id": "1af55cb2-a86e-46b4-92c3-ec4bcb6217f5",
     "prev": "9c742fa2-c6bc-4e53-a187-7f5686a43366",
     "regions": {
      "ddf3ef82-c499-48d6-b6cf-4f8a04bfecab": {
       "attrs": {
        "height": 0.8,
        "width": 0.8,
        "x": 0.1,
        "y": 0.1
       },
       "content": {
        "cell": "12e72d8b-9b86-43ec-a556-b6b19a9553a3",
        "part": "whole"
       },
       "id": "ddf3ef82-c499-48d6-b6cf-4f8a04bfecab"
      }
     }
    },
    "1e7da5d8-4ab8-44f5-9c28-5f066162ce70": {
     "id": "1e7da5d8-4ab8-44f5-9c28-5f066162ce70",
     "prev": "d226d274-eae2-4236-8bf2-79a7bd7ea9ce",
     "regions": {
      "2b675c2a-8641-4831-8171-c88564f91c28": {
       "attrs": {
        "height": 0.8,
        "width": 0.8,
        "x": 0.1,
        "y": 0.1
       },
       "content": {
        "cell": "c4e3b764-8fbb-48de-8f7e-01153b77d17d",
        "part": "whole"
       },
       "id": "2b675c2a-8641-4831-8171-c88564f91c28"
      }
     }
    },
    "23e2f343-c000-4c90-8c85-42f9302dcab7": {
     "id": "23e2f343-c000-4c90-8c85-42f9302dcab7",
     "prev": "d43613d9-2bd1-40ed-a9df-5ea8d4e32726",
     "regions": {
      "c5c5ad42-60dd-4127-bc8e-1f033886431c": {
       "attrs": {
        "height": 0.8,
        "width": 0.8,
        "x": 0.1,
        "y": 0.1
       },
       "content": {
        "cell": "72c013c9-097b-49be-85ce-8cd271cf52bf",
        "part": "whole"
       },
       "id": "c5c5ad42-60dd-4127-bc8e-1f033886431c"
      }
     }
    },
    "26d56dcf-9e7e-44b5-9031-a4f21ac59692": {
     "id": "26d56dcf-9e7e-44b5-9031-a4f21ac59692",
     "prev": "ba3a18aa-efa7-44c6-b215-3a1789432927",
     "regions": {
      "80ae8b94-70b0-4098-b619-c35c35dafbbe": {
       "attrs": {
        "height": 0.8,
        "width": 0.8,
        "x": 0.1,
        "y": 0.1
       },
       "content": {
        "cell": "4b99dd67-4b92-40db-83c4-3526933ac1f7",
        "part": "whole"
       },
       "id": "80ae8b94-70b0-4098-b619-c35c35dafbbe"
      }
     }
    },
    "2bd743a6-badb-4a7a-bbf3-5a2aec8d1368": {
     "id": "2bd743a6-badb-4a7a-bbf3-5a2aec8d1368",
     "prev": "31eedf8e-454d-46d1-901b-6743cacaa8c4",
     "regions": {
      "3d30b68e-3852-4cf0-9b70-22007d5a091e": {
       "attrs": {
        "height": 0.8,
        "width": 0.8,
        "x": 0.1,
        "y": 0.1
       },
       "content": {
        "cell": "a4d1a914-1782-456c-8bca-7d5ca61fa855",
        "part": "whole"
       },
       "id": "3d30b68e-3852-4cf0-9b70-22007d5a091e"
      }
     }
    },
    "2deaaaa8-2645-4334-b05e-9f9419a75103": {
     "id": "2deaaaa8-2645-4334-b05e-9f9419a75103",
     "prev": "fd8cc12a-72fb-409e-b887-cbe2ca2857db",
     "regions": {
      "a6b92cf8-510b-4170-980a-954f0b642731": {
       "attrs": {
        "height": 0.8,
        "width": 0.8,
        "x": 0.1,
        "y": 0.1
       },
       "content": {
        "cell": "b9547b3a-7e2f-4b8f-a9de-f9b5f1ffe7ca",
        "part": "whole"
       },
       "id": "a6b92cf8-510b-4170-980a-954f0b642731"
      }
     }
    },
    "2f7d40fa-a373-4602-893c-f243f45f097a": {
     "id": "2f7d40fa-a373-4602-893c-f243f45f097a",
     "prev": "85ffbfd4-97ca-4f1c-b28c-e4cdd45d85a9",
     "regions": {
      "b4b0101b-38cb-44f1-918b-82e19adc40c0": {
       "attrs": {
        "height": 0.8,
        "width": 0.8,
        "x": 0.1,
        "y": 0.1
       },
       "content": {
        "cell": "b72ce7b8-aa92-4eae-a017-98192f8f7492",
        "part": "whole"
       },
       "id": "b4b0101b-38cb-44f1-918b-82e19adc40c0"
      }
     }
    },
    "30550afd-e3b2-47c3-b5d5-dd0b6b048c41": {
     "id": "30550afd-e3b2-47c3-b5d5-dd0b6b048c41",
     "prev": "eb4ba421-4c75-41ac-b2d5-38a65be4a331",
     "regions": {
      "58152289-7a85-4841-adc4-704071121219": {
       "attrs": {
        "height": 0.8,
        "width": 0.8,
        "x": 0.1,
        "y": 0.1
       },
       "content": {
        "cell": "5cb9f6fc-2632-4ff7-9b92-0623583cc3f9",
        "part": "whole"
       },
       "id": "58152289-7a85-4841-adc4-704071121219"
      }
     }
    },
    "30618881-1a80-47e2-86cd-b0e4b075869b": {
     "id": "30618881-1a80-47e2-86cd-b0e4b075869b",
     "prev": "d36a8856-a7a4-44b2-a0c7-dd5b8fa63f0d",
     "regions": {
      "b5b926dc-4b38-4dad-be97-8174f6a3d079": {
       "attrs": {
        "height": 0.8,
        "width": 0.8,
        "x": 0.1,
        "y": 0.1
       },
       "content": {
        "cell": "e604ef07-574a-487c-a091-0e2b05aa7756",
        "part": "whole"
       },
       "id": "b5b926dc-4b38-4dad-be97-8174f6a3d079"
      }
     }
    },
    "313ba730-c2dc-403c-8d3c-b1f3b7684888": {
     "id": "313ba730-c2dc-403c-8d3c-b1f3b7684888",
     "prev": "98fc23e3-6fba-4f89-84b7-55c653e3d751",
     "regions": {
      "d617fc1a-d620-41db-87d6-14b1489c8c3a": {
       "attrs": {
        "height": 0.8,
        "width": 0.8,
        "x": 0.1,
        "y": 0.1
       },
       "content": {
        "cell": "0bbce649-53e4-40ae-8322-34abd46b0078",
        "part": "whole"
       },
       "id": "d617fc1a-d620-41db-87d6-14b1489c8c3a"
      }
     }
    },
    "31eedf8e-454d-46d1-901b-6743cacaa8c4": {
     "id": "31eedf8e-454d-46d1-901b-6743cacaa8c4",
     "prev": "56b9147e-0c35-4645-9596-008dd3240c5a",
     "regions": {
      "d2a0506b-e5ec-427e-af57-432d72cbd22f": {
       "attrs": {
        "height": 0.8,
        "width": 0.8,
        "x": 0.1,
        "y": 0.1
       },
       "content": {
        "cell": "fe427540-a6eb-477d-8f60-07dcd0d2f7a1",
        "part": "whole"
       },
       "id": "d2a0506b-e5ec-427e-af57-432d72cbd22f"
      }
     }
    },
    "364ea507-3b29-4ff4-bbec-f9cf76a66d6a": {
     "id": "364ea507-3b29-4ff4-bbec-f9cf76a66d6a",
     "prev": "db906f03-f7e3-4050-b713-a1cabdbbe8da",
     "regions": {
      "33d97a63-87d0-4846-bb46-dc1f0c2f43fd": {
       "attrs": {
        "height": 0.8,
        "width": 0.8,
        "x": 0.1,
        "y": 0.1
       },
       "content": {
        "cell": "9e9eb1cd-184d-4704-aeac-501597cab8ae",
        "part": "whole"
       },
       "id": "33d97a63-87d0-4846-bb46-dc1f0c2f43fd"
      }
     }
    },
    "36b88d82-e6cf-4de9-8b65-433c671d2c86": {
     "id": "36b88d82-e6cf-4de9-8b65-433c671d2c86",
     "prev": "aa8027e3-bb6e-4eb7-90fe-015b1f0f242c",
     "regions": {
      "c6eadf66-e2a9-4460-b8a5-727afa598d15": {
       "attrs": {
        "height": 0.8,
        "width": 0.8,
        "x": 0.1,
        "y": 0.1
       },
       "content": {
        "cell": "d2412537-6592-441a-87f0-904de7f3b50a",
        "part": "whole"
       },
       "id": "c6eadf66-e2a9-4460-b8a5-727afa598d15"
      }
     }
    },
    "376a38b4-c22a-4774-b4c5-ef4c3f2258c4": {
     "id": "376a38b4-c22a-4774-b4c5-ef4c3f2258c4",
     "prev": "ff55e1e4-5a0b-4d0f-a1c9-36a0736e8d64",
     "regions": {
      "eff36dcf-30ac-4248-a45d-4a2d813343b9": {
       "attrs": {
        "height": 0.8,
        "width": 0.8,
        "x": 0.1,
        "y": 0.1
       },
       "content": {
        "cell": "db19ceb1-c470-44e2-b7b6-005d3e7ebd33",
        "part": "whole"
       },
       "id": "eff36dcf-30ac-4248-a45d-4a2d813343b9"
      }
     }
    },
    "37c43919-2e1c-4f9a-bee9-e3da1a393aab": {
     "id": "37c43919-2e1c-4f9a-bee9-e3da1a393aab",
     "prev": "c5f4b6f3-f5fa-45dd-b141-49bd0685fa22",
     "regions": {
      "9233672e-2905-49e1-ba7c-e41c7e170e58": {
       "attrs": {
        "height": 0.8,
        "width": 0.8,
        "x": 0.1,
        "y": 0.1
       },
       "content": {
        "cell": "79920e7a-072e-4a7b-b0e6-1637e12f1913",
        "part": "whole"
       },
       "id": "9233672e-2905-49e1-ba7c-e41c7e170e58"
      }
     }
    },
    "3845ed12-d197-41ac-963f-ff74033078e0": {
     "id": "3845ed12-d197-41ac-963f-ff74033078e0",
     "prev": "17ce9e10-b757-42eb-9ce6-c8c0eae030b8",
     "regions": {
      "adc90ac8-2733-4ee5-8e17-70ff260dda21": {
       "attrs": {
        "height": 0.8,
        "width": 0.8,
        "x": 0.1,
        "y": 0.1
       },
       "content": {
        "cell": "857338e9-a9b5-4993-83c0-003d8543426a",
        "part": "whole"
       },
       "id": "adc90ac8-2733-4ee5-8e17-70ff260dda21"
      }
     }
    },
    "3becc590-4ba9-40b5-9c74-f37423f50fa2": {
     "id": "3becc590-4ba9-40b5-9c74-f37423f50fa2",
     "prev": "b14c5bd1-b942-478d-bc49-106a8e42a289",
     "regions": {
      "24c4060b-0356-4411-ba1b-37468f969f31": {
       "attrs": {
        "height": 0.8,
        "width": 0.8,
        "x": 0.1,
        "y": 0.1
       },
       "content": {
        "cell": "78e2e5b2-77bd-46d0-9761-dd44665921e8",
        "part": "whole"
       },
       "id": "24c4060b-0356-4411-ba1b-37468f969f31"
      }
     }
    },
    "3e6de2ee-4e80-4b60-813f-56cc35dff6b8": {
     "id": "3e6de2ee-4e80-4b60-813f-56cc35dff6b8",
     "prev": "a00fb982-f9a2-480b-907e-da405102c759",
     "regions": {
      "2d882c18-f90b-4c9c-8004-9bacdaae454e": {
       "attrs": {
        "height": 0.8,
        "width": 0.8,
        "x": 0.1,
        "y": 0.1
       },
       "content": {
        "cell": "86188512-0783-4221-b250-2aaa6ad91613",
        "part": "whole"
       },
       "id": "2d882c18-f90b-4c9c-8004-9bacdaae454e"
      }
     }
    },
    "3e6f1fe2-e05f-4c99-9378-dc34020acd15": {
     "id": "3e6f1fe2-e05f-4c99-9378-dc34020acd15",
     "prev": "5a172116-85ad-48c0-8a8d-f342b103c3ff",
     "regions": {
      "6460fb0d-06eb-42e4-be53-5df1adaa5191": {
       "attrs": {
        "height": 0.8,
        "width": 0.8,
        "x": 0.1,
        "y": 0.1
       },
       "content": {
        "cell": "4c857182-5774-4938-8a4a-06ecae0841f0",
        "part": "whole"
       },
       "id": "6460fb0d-06eb-42e4-be53-5df1adaa5191"
      }
     }
    },
    "3f6c6a98-cf67-4342-a3be-c58d101ff165": {
     "id": "3f6c6a98-cf67-4342-a3be-c58d101ff165",
     "prev": "7e04962a-9c0f-4b23-8f27-c5c888fdb2a0",
     "regions": {
      "5816242e-b6d2-4f55-99a8-ce1e1d286f14": {
       "attrs": {
        "height": 0.8,
        "width": 0.8,
        "x": 0.1,
        "y": 0.1
       },
       "content": {
        "cell": "104b4015-75c5-4682-b44f-79da6961a2c5",
        "part": "whole"
       },
       "id": "5816242e-b6d2-4f55-99a8-ce1e1d286f14"
      }
     }
    },
    "43f30eef-4cb1-4265-9f6e-1ebababa77ef": {
     "id": "43f30eef-4cb1-4265-9f6e-1ebababa77ef",
     "prev": "554ed5ce-7015-4626-9ad5-c480ac5888a2",
     "regions": {
      "9a8828f4-f147-4f2d-a39c-e2bd9c26e8b4": {
       "attrs": {
        "height": 0.8,
        "width": 0.8,
        "x": 0.1,
        "y": 0.1
       },
       "content": {
        "cell": "c9af246c-fa41-4425-a55b-1cb9a7ef1c26",
        "part": "whole"
       },
       "id": "9a8828f4-f147-4f2d-a39c-e2bd9c26e8b4"
      }
     }
    },
    "452ed1de-d702-44db-a2a7-8f47300b85e2": {
     "id": "452ed1de-d702-44db-a2a7-8f47300b85e2",
     "prev": "eb61bda8-da35-48af-9e51-f3d0ac991f72",
     "regions": {
      "e4308267-23de-4459-bd47-67d150d5604e": {
       "attrs": {
        "height": 0.8,
        "width": 0.8,
        "x": 0.1,
        "y": 0.1
       },
       "content": {
        "cell": "4e67a3f0-5890-456f-886f-a3076bfa3fb9",
        "part": "whole"
       },
       "id": "e4308267-23de-4459-bd47-67d150d5604e"
      }
     }
    },
    "48526992-66a6-4bad-9750-3b357436d536": {
     "id": "48526992-66a6-4bad-9750-3b357436d536",
     "prev": "ae76b9f4-ba3f-4273-9e1e-119d83379a22",
     "regions": {
      "df3f5316-5e2b-4227-a720-da0ca93b8fd3": {
       "attrs": {
        "height": 0.8,
        "width": 0.8,
        "x": 0.1,
        "y": 0.1
       },
       "content": {
        "cell": "33dec376-8b7e-4560-86de-86ca18044d49",
        "part": "whole"
       },
       "id": "df3f5316-5e2b-4227-a720-da0ca93b8fd3"
      }
     }
    },
    "48975587-687d-49d9-a422-079a56ac7f6b": {
     "id": "48975587-687d-49d9-a422-079a56ac7f6b",
     "prev": "4e9d4481-f74e-48b7-a127-3829867ef656",
     "regions": {
      "69a717e5-18a7-4e85-9566-5556abb8ba0f": {
       "attrs": {
        "height": 0.8,
        "width": 0.8,
        "x": 0.1,
        "y": 0.1
       },
       "content": {
        "cell": "1339366c-d071-45fb-94f3-f9e3960e8a56",
        "part": "whole"
       },
       "id": "69a717e5-18a7-4e85-9566-5556abb8ba0f"
      }
     }
    },
    "49492d0e-168f-4c24-b5f1-a82a478ce984": {
     "id": "49492d0e-168f-4c24-b5f1-a82a478ce984",
     "prev": "37c43919-2e1c-4f9a-bee9-e3da1a393aab",
     "regions": {
      "ef22ab47-dc59-4c34-a3fb-2c7e7745dbdf": {
       "attrs": {
        "height": 0.8,
        "width": 0.8,
        "x": 0.1,
        "y": 0.1
       },
       "content": {
        "cell": "4fa75f11-c8a9-4986-ac49-3187ac63e37a",
        "part": "whole"
       },
       "id": "ef22ab47-dc59-4c34-a3fb-2c7e7745dbdf"
      }
     }
    },
    "4df53d30-f40b-4184-882a-c2ed5b7cdb91": {
     "id": "4df53d30-f40b-4184-882a-c2ed5b7cdb91",
     "prev": "1af55cb2-a86e-46b4-92c3-ec4bcb6217f5",
     "regions": {
      "dacfd6bf-5426-4879-bf49-f63d07a3c4e8": {
       "attrs": {
        "height": 0.8,
        "width": 0.8,
        "x": 0.1,
        "y": 0.1
       },
       "content": {
        "cell": "31cb6df5-399c-4d2b-8a0d-eaee92941aef",
        "part": "whole"
       },
       "id": "dacfd6bf-5426-4879-bf49-f63d07a3c4e8"
      }
     }
    },
    "4e9d4481-f74e-48b7-a127-3829867ef656": {
     "id": "4e9d4481-f74e-48b7-a127-3829867ef656",
     "prev": "16c9880a-4cb0-45fa-bfc1-0ff5847dedfe",
     "regions": {
      "b3952e1b-d997-42d8-b3ee-62cb613aa2ba": {
       "attrs": {
        "height": 0.8,
        "width": 0.8,
        "x": 0.1,
        "y": 0.1
       },
       "content": {
        "cell": "052a120b-ef08-49ab-a6b0-30df73311f76",
        "part": "whole"
       },
       "id": "b3952e1b-d997-42d8-b3ee-62cb613aa2ba"
      }
     }
    },
    "4fa3d675-8fca-4162-8f52-84283e9bb98e": {
     "id": "4fa3d675-8fca-4162-8f52-84283e9bb98e",
     "prev": "00236970-6c88-4d4b-bd3c-cedc61866af5",
     "regions": {
      "98eac207-11de-4e5a-89f1-bd370e5a5ac0": {
       "attrs": {
        "height": 0.8,
        "width": 0.8,
        "x": 0.1,
        "y": 0.1
       },
       "content": {
        "cell": "9a4ca639-7ebb-49c8-8784-9ea0be00a9e3",
        "part": "whole"
       },
       "id": "98eac207-11de-4e5a-89f1-bd370e5a5ac0"
      }
     }
    },
    "554ed5ce-7015-4626-9ad5-c480ac5888a2": {
     "id": "554ed5ce-7015-4626-9ad5-c480ac5888a2",
     "prev": "d0a91529-2bd0-4bec-8f3d-c09d56cdc79f",
     "regions": {
      "bb6a11d6-fd48-4842-a0d2-229c0b9f34f7": {
       "attrs": {
        "height": 0.8,
        "width": 0.8,
        "x": 0.1,
        "y": 0.1
       },
       "content": {
        "cell": "b60e8cf8-096f-4a47-97e5-c129e9dc8b15",
        "part": "whole"
       },
       "id": "bb6a11d6-fd48-4842-a0d2-229c0b9f34f7"
      }
     }
    },
    "561b0049-9074-4eb4-9b3c-1bc7b25944db": {
     "id": "561b0049-9074-4eb4-9b3c-1bc7b25944db",
     "prev": "98c040a7-f52f-40a0-af25-71b0ea1bde3d",
     "regions": {
      "3e9813cd-9307-451d-bea1-43280e57e308": {
       "attrs": {
        "height": 0.8,
        "width": 0.8,
        "x": 0.1,
        "y": 0.1
       },
       "content": {
        "cell": "5adbb752-8bd0-4787-92a8-1bb555e5fd63",
        "part": "whole"
       },
       "id": "3e9813cd-9307-451d-bea1-43280e57e308"
      }
     }
    },
    "569c2eb8-13bf-42c7-b0ff-037763684934": {
     "id": "569c2eb8-13bf-42c7-b0ff-037763684934",
     "prev": "c57ba285-cfcd-48d6-8491-f1f886333da9",
     "regions": {
      "62ab7c0b-e796-465f-ac15-aa1da9614cf5": {
       "attrs": {
        "height": 0.8,
        "width": 0.8,
        "x": 0.1,
        "y": 0.1
       },
       "content": {
        "cell": "7e7ea475-91d2-48ca-a5b2-f023cc9a05bf",
        "part": "whole"
       },
       "id": "62ab7c0b-e796-465f-ac15-aa1da9614cf5"
      }
     }
    },
    "56b9147e-0c35-4645-9596-008dd3240c5a": {
     "id": "56b9147e-0c35-4645-9596-008dd3240c5a",
     "prev": "7d402783-f384-485e-b54e-f56601025fc7",
     "regions": {
      "449e82ab-4c8d-4752-9cf1-9ae5db53be6f": {
       "attrs": {
        "height": 0.8,
        "width": 0.8,
        "x": 0.1,
        "y": 0.1
       },
       "content": {
        "cell": "60935d0f-2673-4b43-bc13-7d2e2e7b8152",
        "part": "whole"
       },
       "id": "449e82ab-4c8d-4752-9cf1-9ae5db53be6f"
      }
     }
    },
    "5a172116-85ad-48c0-8a8d-f342b103c3ff": {
     "id": "5a172116-85ad-48c0-8a8d-f342b103c3ff",
     "prev": "1404231f-1882-4231-87ed-0f3877dcfdc9",
     "regions": {
      "862a38d3-8842-4501-80f3-6963de3d6100": {
       "attrs": {
        "height": 0.8,
        "width": 0.8,
        "x": 0.1,
        "y": 0.1
       },
       "content": {
        "cell": "c1626a9b-4e59-4932-977c-be02d41ffb19",
        "part": "whole"
       },
       "id": "862a38d3-8842-4501-80f3-6963de3d6100"
      }
     }
    },
    "5a282781-5c91-451f-9995-9ec3f50f4c33": {
     "id": "5a282781-5c91-451f-9995-9ec3f50f4c33",
     "prev": "f5db37f1-8d87-4b6e-b496-d3a85e1c7831",
     "regions": {
      "c58550c2-1a67-4750-b9c0-afb0446943b7": {
       "attrs": {
        "height": 0.8,
        "width": 0.8,
        "x": 0.1,
        "y": 0.1
       },
       "content": {
        "cell": "b9349e7e-ef8c-4ed0-9e3b-59a2f089ecdd",
        "part": "whole"
       },
       "id": "c58550c2-1a67-4750-b9c0-afb0446943b7"
      }
     }
    },
    "5b66b0c6-6888-4c81-acc8-a008e056c0c9": {
     "id": "5b66b0c6-6888-4c81-acc8-a008e056c0c9",
     "prev": "f2c08e24-576a-4f9d-846d-5e0b81f43961",
     "regions": {
      "7915309d-67c8-4f28-a30e-456a24343370": {
       "attrs": {
        "height": 0.8,
        "width": 0.8,
        "x": 0.1,
        "y": 0.1
       },
       "content": {
        "cell": "996b058f-b11e-4222-a7aa-da2bf6927fc0",
        "part": "whole"
       },
       "id": "7915309d-67c8-4f28-a30e-456a24343370"
      }
     }
    },
    "60200b34-3f9d-4a5a-bb83-f5e82d358a33": {
     "id": "60200b34-3f9d-4a5a-bb83-f5e82d358a33",
     "prev": "36b88d82-e6cf-4de9-8b65-433c671d2c86",
     "regions": {
      "5c41c92f-fd69-43da-91b5-251a8cbefd0d": {
       "attrs": {
        "height": 0.8,
        "width": 0.8,
        "x": 0.1,
        "y": 0.1
       },
       "content": {
        "cell": "9c04a8b0-74e1-4d6d-9db1-f50b05aaf71c",
        "part": "whole"
       },
       "id": "5c41c92f-fd69-43da-91b5-251a8cbefd0d"
      }
     }
    },
    "63a8104f-ba9c-4b8e-9418-2e5c05d21990": {
     "id": "63a8104f-ba9c-4b8e-9418-2e5c05d21990",
     "prev": "870e2384-d094-418e-9368-245fe805e427",
     "regions": {
      "226c69c4-4dd6-4795-8324-5fbcf729b1fe": {
       "attrs": {
        "height": 0.8,
        "width": 0.8,
        "x": 0.1,
        "y": 0.1
       },
       "content": {
        "cell": "34933bd9-3c08-439a-8d89-b302bc27d62d",
        "part": "whole"
       },
       "id": "226c69c4-4dd6-4795-8324-5fbcf729b1fe"
      }
     }
    },
    "64a678cf-0990-4d0f-92d9-852d331b9a10": {
     "id": "64a678cf-0990-4d0f-92d9-852d331b9a10",
     "prev": "88ceab02-44ab-4ca9-8b9c-bacb57c734e6",
     "regions": {
      "95406ac3-71c3-4b5f-908e-4c821463c5e7": {
       "attrs": {
        "height": 0.8,
        "width": 0.8,
        "x": 0.1,
        "y": 0.1
       },
       "content": {
        "cell": "a3a43ae5-1d60-486e-99df-24e18389a619",
        "part": "whole"
       },
       "id": "95406ac3-71c3-4b5f-908e-4c821463c5e7"
      }
     }
    },
    "65b9d735-6b29-4e2b-87fe-e15737a2a4ee": {
     "id": "65b9d735-6b29-4e2b-87fe-e15737a2a4ee",
     "prev": "f43811b0-2719-4072-9aa9-a0cfdf6cee35",
     "regions": {
      "190e590c-38ac-41a7-a6cf-8b665e42f4d0": {
       "attrs": {
        "height": 0.8,
        "width": 0.8,
        "x": 0.1,
        "y": 0.1
       },
       "content": {
        "cell": "b0828475-ae84-4823-8c9e-bdd563dac124",
        "part": "whole"
       },
       "id": "190e590c-38ac-41a7-a6cf-8b665e42f4d0"
      }
     }
    },
    "67741d02-53b6-4f53-a1be-c1b7979e8bdf": {
     "id": "67741d02-53b6-4f53-a1be-c1b7979e8bdf",
     "prev": "4df53d30-f40b-4184-882a-c2ed5b7cdb91",
     "regions": {
      "62a6a9e3-8be7-4f1d-adc1-1aee9bda2b6c": {
       "attrs": {
        "height": 0.8,
        "width": 0.8,
        "x": 0.1,
        "y": 0.1
       },
       "content": {
        "cell": "95857623-b0b0-4978-bfbb-ce66a7d84cdb",
        "part": "whole"
       },
       "id": "62a6a9e3-8be7-4f1d-adc1-1aee9bda2b6c"
      }
     }
    },
    "6c124c26-f696-4d03-ac5e-7e418cfffbb8": {
     "id": "6c124c26-f696-4d03-ac5e-7e418cfffbb8",
     "prev": "ddb35839-0b87-4cc4-b18e-9e09bce8b7b3",
     "regions": {
      "d0bb5851-49d2-4feb-b5be-d38dd09ecd0f": {
       "attrs": {
        "height": 0.8,
        "width": 0.8,
        "x": 0.1,
        "y": 0.1
       },
       "content": {
        "cell": "44db12a7-4fd6-4e04-a5fe-4c4553180688",
        "part": "whole"
       },
       "id": "d0bb5851-49d2-4feb-b5be-d38dd09ecd0f"
      }
     }
    },
    "70e7cdb8-ad41-476d-ad9f-d95054e9b3ec": {
     "id": "70e7cdb8-ad41-476d-ad9f-d95054e9b3ec",
     "prev": "ca41c095-4043-4793-abbc-5804dcb0c5d1",
     "regions": {
      "b7b905d1-dc00-44f0-8a3d-167399d71fbe": {
       "attrs": {
        "height": 0.8,
        "width": 0.8,
        "x": 0.1,
        "y": 0.1
       },
       "content": {
        "cell": "357a01ad-2857-4f72-ad89-a2c779adc91c",
        "part": "whole"
       },
       "id": "b7b905d1-dc00-44f0-8a3d-167399d71fbe"
      }
     }
    },
    "74072f89-cdcb-4be2-9d63-1fadd355b76d": {
     "id": "74072f89-cdcb-4be2-9d63-1fadd355b76d",
     "prev": "893d19dd-1ab4-448e-b1fa-7f8ea62e3a0f",
     "regions": {
      "353c3155-ddc3-4bc3-b4fc-01c1b5c1aae2": {
       "attrs": {
        "height": 0.8,
        "width": 0.8,
        "x": 0.1,
        "y": 0.1
       },
       "content": {
        "cell": "5925e4d2-e024-478c-a220-f75221478545",
        "part": "whole"
       },
       "id": "353c3155-ddc3-4bc3-b4fc-01c1b5c1aae2"
      }
     }
    },
    "783fab66-e26d-4308-b7bc-636fb335a5e3": {
     "id": "783fab66-e26d-4308-b7bc-636fb335a5e3",
     "prev": "d2e250b7-2a2c-4cb7-b51a-654c7b232d6c",
     "regions": {
      "84add411-4ae8-4ae1-ad94-b8f6f86b248c": {
       "attrs": {
        "height": 0.8,
        "width": 0.8,
        "x": 0.1,
        "y": 0.1
       },
       "content": {
        "cell": "8beb6999-9794-47c4-9fd4-2d5beddeff12",
        "part": "whole"
       },
       "id": "84add411-4ae8-4ae1-ad94-b8f6f86b248c"
      }
     }
    },
    "784300ff-3ec3-434e-967f-21246ec861aa": {
     "id": "784300ff-3ec3-434e-967f-21246ec861aa",
     "prev": "1e7da5d8-4ab8-44f5-9c28-5f066162ce70",
     "regions": {
      "03925388-e3e1-4f7a-857e-27bf22ea1ac5": {
       "attrs": {
        "height": 0.8,
        "width": 0.8,
        "x": 0.1,
        "y": 0.1
       },
       "content": {
        "cell": "b776805c-efd8-4731-8887-63c1e4452975",
        "part": "whole"
       },
       "id": "03925388-e3e1-4f7a-857e-27bf22ea1ac5"
      }
     }
    },
    "79d2eaff-bb61-4f19-8c0f-7387f1401d9c": {
     "id": "79d2eaff-bb61-4f19-8c0f-7387f1401d9c",
     "prev": "2f7d40fa-a373-4602-893c-f243f45f097a",
     "regions": {
      "83384a01-f508-4622-be2d-8e3c2329e1b9": {
       "attrs": {
        "height": 0.8,
        "width": 0.8,
        "x": 0.1,
        "y": 0.1
       },
       "content": {
        "cell": "86b2d9f5-a6d8-4406-b658-75d659685c53",
        "part": "whole"
       },
       "id": "83384a01-f508-4622-be2d-8e3c2329e1b9"
      }
     }
    },
    "7b442e91-b57f-476e-a3f9-89eeed21a923": {
     "id": "7b442e91-b57f-476e-a3f9-89eeed21a923",
     "prev": "152e866a-c620-4792-aba6-8c2adfeac2b9",
     "regions": {
      "8183b831-1361-45aa-a713-6edf6493a243": {
       "attrs": {
        "height": 0.8,
        "width": 0.8,
        "x": 0.1,
        "y": 0.1
       },
       "content": {
        "cell": "fc7dd04a-b9e2-452a-8f80-5cd7f791a059",
        "part": "whole"
       },
       "id": "8183b831-1361-45aa-a713-6edf6493a243"
      }
     }
    },
    "7bf9602d-3a6b-4e6b-b47a-d31df3792d48": {
     "id": "7bf9602d-3a6b-4e6b-b47a-d31df3792d48",
     "prev": "364ea507-3b29-4ff4-bbec-f9cf76a66d6a",
     "regions": {
      "bee74e42-7f8c-483a-8deb-7fbb9b435990": {
       "attrs": {
        "height": 0.8,
        "width": 0.8,
        "x": 0.1,
        "y": 0.1
       },
       "content": {
        "cell": "aa2f2ebb-8ed7-4a35-b45e-fc05a8a29d68",
        "part": "whole"
       },
       "id": "bee74e42-7f8c-483a-8deb-7fbb9b435990"
      }
     }
    },
    "7d402783-f384-485e-b54e-f56601025fc7": {
     "id": "7d402783-f384-485e-b54e-f56601025fc7",
     "prev": "b0b5e512-d2b9-4853-8af6-1cac278a650b",
     "regions": {
      "6e1643ec-a5b4-405f-b50d-12476773cf30": {
       "attrs": {
        "height": 0.8,
        "width": 0.8,
        "x": 0.1,
        "y": 0.1
       },
       "content": {
        "cell": "67fd1b42-172f-433b-8826-b4cbec57e38b",
        "part": "whole"
       },
       "id": "6e1643ec-a5b4-405f-b50d-12476773cf30"
      }
     }
    },
    "7dc03bdc-e104-4c3a-a614-d93081544ed7": {
     "id": "7dc03bdc-e104-4c3a-a614-d93081544ed7",
     "prev": "376a38b4-c22a-4774-b4c5-ef4c3f2258c4",
     "regions": {
      "bbc98bf6-fc5a-40ae-834e-3207981917ed": {
       "attrs": {
        "height": 0.8,
        "width": 0.8,
        "x": 0.1,
        "y": 0.1
       },
       "content": {
        "cell": "428fa2a5-0246-4877-a22a-59462d5cac7e",
        "part": "whole"
       },
       "id": "bbc98bf6-fc5a-40ae-834e-3207981917ed"
      }
     }
    },
    "7e04962a-9c0f-4b23-8f27-c5c888fdb2a0": {
     "id": "7e04962a-9c0f-4b23-8f27-c5c888fdb2a0",
     "prev": "09d1c039-7e8d-44ba-bbd7-766f537c62c1",
     "regions": {
      "23e8a1f9-ea98-484e-b5b0-34c5a9564d0b": {
       "attrs": {
        "height": 0.8,
        "width": 0.8,
        "x": 0.1,
        "y": 0.1
       },
       "content": {
        "cell": "154cfc7c-f765-4d9c-9a48-356792f7e07f",
        "part": "whole"
       },
       "id": "23e8a1f9-ea98-484e-b5b0-34c5a9564d0b"
      }
     }
    },
    "7e276c81-a836-45e4-acf0-e9253e950dd8": {
     "id": "7e276c81-a836-45e4-acf0-e9253e950dd8",
     "prev": "ce18d364-3a05-43bc-b73e-4958882df91f",
     "regions": {
      "4dc88d61-bbc7-4a01-8692-417ef27fa160": {
       "attrs": {
        "height": 0.8,
        "width": 0.8,
        "x": 0.1,
        "y": 0.1
       },
       "content": {
        "cell": "f4b2c7b0-ce52-40c4-966b-33ada01d8764",
        "part": "whole"
       },
       "id": "4dc88d61-bbc7-4a01-8692-417ef27fa160"
      }
     }
    },
    "817308a0-41fb-44da-83f5-4d0731e0d6a8": {
     "id": "817308a0-41fb-44da-83f5-4d0731e0d6a8",
     "prev": "9bcd00e2-da9b-4fb6-919f-96ee24d8cb54",
     "regions": {
      "24702017-b5e8-4365-8f16-30522a2bf976": {
       "attrs": {
        "height": 0.8,
        "width": 0.8,
        "x": 0.1,
        "y": 0.1
       },
       "content": {
        "cell": "f3cd073e-2288-44a9-b559-1fe9e4a90f81",
        "part": "whole"
       },
       "id": "24702017-b5e8-4365-8f16-30522a2bf976"
      }
     }
    },
    "81b4b151-00dc-4f8b-ba49-3630a5c91878": {
     "id": "81b4b151-00dc-4f8b-ba49-3630a5c91878",
     "prev": "8b9c335a-ff2a-4085-aed6-198e4d458f62",
     "regions": {
      "137b20a3-48ec-4645-9d8d-c26eeba2b9ec": {
       "attrs": {
        "height": 0.8,
        "width": 0.8,
        "x": 0.1,
        "y": 0.1
       },
       "content": {
        "cell": "0d776bad-36b7-45ab-8315-b942bd1dbfee",
        "part": "whole"
       },
       "id": "137b20a3-48ec-4645-9d8d-c26eeba2b9ec"
      }
     }
    },
    "85817006-de9c-415b-acd2-e8694aaaa13e": {
     "id": "85817006-de9c-415b-acd2-e8694aaaa13e",
     "prev": "4fa3d675-8fca-4162-8f52-84283e9bb98e",
     "regions": {
      "86cda89b-fcc4-48b2-b4fa-6c7c8a24ea78": {
       "attrs": {
        "height": 0.8,
        "width": 0.8,
        "x": 0.1,
        "y": 0.1
       },
       "content": {
        "cell": "56c99851-66e8-45f4-baad-d8f3b603da1a",
        "part": "whole"
       },
       "id": "86cda89b-fcc4-48b2-b4fa-6c7c8a24ea78"
      }
     }
    },
    "85ffbfd4-97ca-4f1c-b28c-e4cdd45d85a9": {
     "id": "85ffbfd4-97ca-4f1c-b28c-e4cdd45d85a9",
     "prev": "3f6c6a98-cf67-4342-a3be-c58d101ff165",
     "regions": {
      "f1cf9925-283a-47b2-9a30-a89cfe0f011d": {
       "attrs": {
        "height": 0.8,
        "width": 0.8,
        "x": 0.1,
        "y": 0.1
       },
       "content": {
        "cell": "53f22fa1-febe-4b08-969d-1f7b9660e7ca",
        "part": "whole"
       },
       "id": "f1cf9925-283a-47b2-9a30-a89cfe0f011d"
      }
     }
    },
    "870e2384-d094-418e-9368-245fe805e427": {
     "id": "870e2384-d094-418e-9368-245fe805e427",
     "prev": "e9c206eb-6d55-4fdd-9291-e0aa104a1d9a",
     "regions": {
      "06b1c8f7-92ab-47c2-b09e-fc1854d95e80": {
       "attrs": {
        "height": 0.8,
        "width": 0.8,
        "x": 0.1,
        "y": 0.1
       },
       "content": {
        "cell": "76f0c384-a30b-43ea-b624-f0424f3e045c",
        "part": "whole"
       },
       "id": "06b1c8f7-92ab-47c2-b09e-fc1854d95e80"
      }
     }
    },
    "88ceab02-44ab-4ca9-8b9c-bacb57c734e6": {
     "id": "88ceab02-44ab-4ca9-8b9c-bacb57c734e6",
     "prev": "d7d708d8-41b1-426b-ab77-291f5fc1596b",
     "regions": {
      "e7b8add0-332d-4de8-bf9f-c1a69e2000c4": {
       "attrs": {
        "height": 0.8,
        "width": 0.8,
        "x": 0.1,
        "y": 0.1
       },
       "content": {
        "cell": "ba4151b1-1afc-476d-8d95-e2001d225035",
        "part": "whole"
       },
       "id": "e7b8add0-332d-4de8-bf9f-c1a69e2000c4"
      }
     }
    },
    "893d19dd-1ab4-448e-b1fa-7f8ea62e3a0f": {
     "id": "893d19dd-1ab4-448e-b1fa-7f8ea62e3a0f",
     "prev": "2bd743a6-badb-4a7a-bbf3-5a2aec8d1368",
     "regions": {
      "47805304-fb9a-4041-acdd-99b6e7ec3e54": {
       "attrs": {
        "height": 0.8,
        "width": 0.8,
        "x": 0.1,
        "y": 0.1
       },
       "content": {
        "cell": "206eeda0-cece-4942-956a-1cd90c8a82a6",
        "part": "whole"
       },
       "id": "47805304-fb9a-4041-acdd-99b6e7ec3e54"
      }
     }
    },
    "8b9c335a-ff2a-4085-aed6-198e4d458f62": {
     "id": "8b9c335a-ff2a-4085-aed6-198e4d458f62",
     "prev": "9b55c541-6253-4d74-b6ad-38ce9480253f",
     "regions": {
      "260d4dcf-ab71-4788-9171-92b66937952b": {
       "attrs": {
        "height": 0.8,
        "width": 0.8,
        "x": 0.1,
        "y": 0.1
       },
       "content": {
        "cell": "7526a0cd-ca55-470d-9d5d-1f023f380bcd",
        "part": "whole"
       },
       "id": "260d4dcf-ab71-4788-9171-92b66937952b"
      }
     }
    },
    "8f6a993e-6a4c-44ea-a8ff-f0ca7c014fc3": {
     "id": "8f6a993e-6a4c-44ea-a8ff-f0ca7c014fc3",
     "prev": "a204593c-1daa-4bbc-9152-5a3e88cfcb2c",
     "regions": {
      "845f761c-ba06-4583-8e76-7dd5e6f04ffd": {
       "attrs": {
        "height": 0.8,
        "width": 0.8,
        "x": 0.1,
        "y": 0.1
       },
       "content": {
        "cell": "fd0f36e8-e645-4c2d-8714-025d9cc6ebce",
        "part": "whole"
       },
       "id": "845f761c-ba06-4583-8e76-7dd5e6f04ffd"
      }
     }
    },
    "913349f9-0366-47cc-a2e3-b22094905a8d": {
     "id": "913349f9-0366-47cc-a2e3-b22094905a8d",
     "prev": "70e7cdb8-ad41-476d-ad9f-d95054e9b3ec",
     "regions": {
      "404a41db-da3e-4f9a-ae1d-a503a3cf5097": {
       "attrs": {
        "height": 0.8,
        "width": 0.8,
        "x": 0.1,
        "y": 0.1
       },
       "content": {
        "cell": "ffabff4b-45b8-4b78-8ecd-05e7d4ceafcf",
        "part": "whole"
       },
       "id": "404a41db-da3e-4f9a-ae1d-a503a3cf5097"
      }
     }
    },
    "92032076-06d4-43a1-90ce-fd95537ab56e": {
     "id": "92032076-06d4-43a1-90ce-fd95537ab56e",
     "prev": "abfc0df5-0125-4d5d-a4de-1c8ebda40136",
     "regions": {
      "53ca8b2f-5fd2-48bd-bb7d-ddbf29ae9f7b": {
       "attrs": {
        "height": 0.8,
        "width": 0.8,
        "x": 0.1,
        "y": 0.1
       },
       "content": {
        "cell": "f2a738df-ce07-4c17-8b08-fa3cb5ac9670",
        "part": "whole"
       },
       "id": "53ca8b2f-5fd2-48bd-bb7d-ddbf29ae9f7b"
      }
     }
    },
    "928145bb-c95a-4fdf-89bd-4ca65a2a0cf9": {
     "id": "928145bb-c95a-4fdf-89bd-4ca65a2a0cf9",
     "prev": "30550afd-e3b2-47c3-b5d5-dd0b6b048c41",
     "regions": {
      "09c65d93-63a1-47d5-bc65-58fdbdfeedaa": {
       "attrs": {
        "height": 0.8,
        "width": 0.8,
        "x": 0.1,
        "y": 0.1
       },
       "content": {
        "cell": "8207652d-c1e8-4012-ab2f-e8e21fe7196e",
        "part": "whole"
       },
       "id": "09c65d93-63a1-47d5-bc65-58fdbdfeedaa"
      }
     }
    },
    "937cbb50-9336-4b3d-b37d-23b142d11cee": {
     "id": "937cbb50-9336-4b3d-b37d-23b142d11cee",
     "prev": "baef5d53-8b18-4a9b-8336-7715ae91f9fa",
     "regions": {
      "335876b8-2e92-4bf5-9f56-d5c72f16722f": {
       "attrs": {
        "height": 0.8,
        "width": 0.8,
        "x": 0.1,
        "y": 0.1
       },
       "content": {
        "cell": "e094f015-5fb2-47d1-9649-402035916f0a",
        "part": "whole"
       },
       "id": "335876b8-2e92-4bf5-9f56-d5c72f16722f"
      }
     }
    },
    "94071065-3d91-4056-8845-8438c1fb1fc2": {
     "id": "94071065-3d91-4056-8845-8438c1fb1fc2",
     "prev": "5b66b0c6-6888-4c81-acc8-a008e056c0c9",
     "regions": {
      "0347a7a0-9992-4c24-b565-0627b47afc99": {
       "attrs": {
        "height": 0.8,
        "width": 0.8,
        "x": 0.1,
        "y": 0.1
       },
       "content": {
        "cell": "29de085f-bab8-4442-b0f5-368631164e35",
        "part": "whole"
       },
       "id": "0347a7a0-9992-4c24-b565-0627b47afc99"
      }
     }
    },
    "96f6aee1-ff54-4eda-b0c1-1ee9bc19fbd2": {
     "id": "96f6aee1-ff54-4eda-b0c1-1ee9bc19fbd2",
     "prev": "bb9c535e-d777-4e37-9d83-083276f6bb32",
     "regions": {
      "87bcfd77-7665-40df-9f6c-e083e62cc23c": {
       "attrs": {
        "height": 0.8,
        "width": 0.8,
        "x": 0.1,
        "y": 0.1
       },
       "content": {
        "cell": "754bae99-7d49-4815-aa25-8e96d7138e60",
        "part": "whole"
       },
       "id": "87bcfd77-7665-40df-9f6c-e083e62cc23c"
      }
     }
    },
    "972ea87c-5407-43f7-a6ae-254f88bda6e4": {
     "id": "972ea87c-5407-43f7-a6ae-254f88bda6e4",
     "prev": "c3425e86-c1f8-4ca6-9a5d-ef0d55401142",
     "regions": {
      "5adda89c-5847-4db8-adab-df50a8b80791": {
       "attrs": {
        "height": 0.8,
        "width": 0.8,
        "x": 0.1,
        "y": 0.1
       },
       "content": {
        "cell": "b2865078-d6e8-4dc2-bde8-bf0245ead43d",
        "part": "whole"
       },
       "id": "5adda89c-5847-4db8-adab-df50a8b80791"
      }
     }
    },
    "98c040a7-f52f-40a0-af25-71b0ea1bde3d": {
     "id": "98c040a7-f52f-40a0-af25-71b0ea1bde3d",
     "prev": "65b9d735-6b29-4e2b-87fe-e15737a2a4ee",
     "regions": {
      "cae2b082-3838-4d49-9126-3249b2bcf13a": {
       "attrs": {
        "height": 0.8,
        "width": 0.8,
        "x": 0.1,
        "y": 0.1
       },
       "content": {
        "cell": "847d49ae-d71f-44aa-8c90-cf54c1b4e086",
        "part": "whole"
       },
       "id": "cae2b082-3838-4d49-9126-3249b2bcf13a"
      }
     }
    },
    "98f71f08-c780-4985-8d20-d0ba60b839a3": {
     "id": "98f71f08-c780-4985-8d20-d0ba60b839a3",
     "prev": "569c2eb8-13bf-42c7-b0ff-037763684934",
     "regions": {
      "fc5a7f44-acd1-46b0-8ae4-fb98a35ed118": {
       "attrs": {
        "height": 0.8,
        "width": 0.8,
        "x": 0.1,
        "y": 0.1
       },
       "content": {
        "cell": "d5ec3e5a-9cc5-449b-9612-31a6e6d3d0d0",
        "part": "whole"
       },
       "id": "fc5a7f44-acd1-46b0-8ae4-fb98a35ed118"
      }
     }
    },
    "98fc23e3-6fba-4f89-84b7-55c653e3d751": {
     "id": "98fc23e3-6fba-4f89-84b7-55c653e3d751",
     "prev": "13564e7d-ac07-46b8-b6cb-407a0060d265",
     "regions": {
      "1fc515e1-7822-4e99-8337-cba0c3eb4d45": {
       "attrs": {
        "height": 0.8,
        "width": 0.8,
        "x": 0.1,
        "y": 0.1
       },
       "content": {
        "cell": "9dc6b81b-48a3-4ede-9247-1d517c387289",
        "part": "whole"
       },
       "id": "1fc515e1-7822-4e99-8337-cba0c3eb4d45"
      }
     }
    },
    "9b55c541-6253-4d74-b6ad-38ce9480253f": {
     "id": "9b55c541-6253-4d74-b6ad-38ce9480253f",
     "prev": "79d2eaff-bb61-4f19-8c0f-7387f1401d9c",
     "regions": {
      "58aa915a-c742-46fb-92e3-f32b7febfae6": {
       "attrs": {
        "height": 0.8,
        "width": 0.8,
        "x": 0.1,
        "y": 0.1
       },
       "content": {
        "cell": "236d0569-40c6-40db-8e63-2a85171770f5",
        "part": "whole"
       },
       "id": "58aa915a-c742-46fb-92e3-f32b7febfae6"
      }
     }
    },
    "9bcd00e2-da9b-4fb6-919f-96ee24d8cb54": {
     "id": "9bcd00e2-da9b-4fb6-919f-96ee24d8cb54",
     "prev": "67741d02-53b6-4f53-a1be-c1b7979e8bdf",
     "regions": {
      "cd10d0e0-9d31-4eef-bf0e-78b587693d06": {
       "attrs": {
        "height": 0.8,
        "width": 0.8,
        "x": 0.1,
        "y": 0.1
       },
       "content": {
        "cell": "7b13b059-f4f2-42e3-9902-53e376527933",
        "part": "whole"
       },
       "id": "cd10d0e0-9d31-4eef-bf0e-78b587693d06"
      }
     }
    },
    "9c742fa2-c6bc-4e53-a187-7f5686a43366": {
     "id": "9c742fa2-c6bc-4e53-a187-7f5686a43366",
     "prev": "ed91e3df-b828-4939-9e01-c89ef0ccd336",
     "regions": {
      "95e805f2-ae7a-4d6e-ae30-ffabe0924900": {
       "attrs": {
        "height": 0.8,
        "width": 0.8,
        "x": 0.1,
        "y": 0.1
       },
       "content": {
        "cell": "87f7e67a-12fe-4c7a-be19-a640158329a9",
        "part": "whole"
       },
       "id": "95e805f2-ae7a-4d6e-ae30-ffabe0924900"
      }
     }
    },
    "9ceb9a6e-8591-4e4e-9b15-fead10aa7aa1": {
     "id": "9ceb9a6e-8591-4e4e-9b15-fead10aa7aa1",
     "prev": "817308a0-41fb-44da-83f5-4d0731e0d6a8",
     "regions": {
      "b5d13b36-c562-4701-854b-79af431be728": {
       "attrs": {
        "height": 0.8,
        "width": 0.8,
        "x": 0.1,
        "y": 0.1
       },
       "content": {
        "cell": "9d82b7b1-f627-4000-832b-bc4867f01735",
        "part": "whole"
       },
       "id": "b5d13b36-c562-4701-854b-79af431be728"
      }
     }
    },
    "9eb0b1c5-07bf-4852-b0b5-825176a221e9": {
     "id": "9eb0b1c5-07bf-4852-b0b5-825176a221e9",
     "prev": "3becc590-4ba9-40b5-9c74-f37423f50fa2",
     "regions": {
      "155c085f-0a6f-4955-9166-fc41f68abf1e": {
       "attrs": {
        "height": 0.8,
        "width": 0.8,
        "x": 0.1,
        "y": 0.1
       },
       "content": {
        "cell": "b750a6b3-e145-4065-8540-62a82b2923f5",
        "part": "whole"
       },
       "id": "155c085f-0a6f-4955-9166-fc41f68abf1e"
      }
     }
    },
    "9f82080c-9ccc-4e2a-ba8d-e2a4a5bee517": {
     "id": "9f82080c-9ccc-4e2a-ba8d-e2a4a5bee517",
     "prev": "e8d4327c-4ac3-4c98-a398-cc500680d39b",
     "regions": {
      "75bc8744-d98f-46be-9c13-627ea82b8211": {
       "attrs": {
        "height": 0.8,
        "width": 0.8,
        "x": 0.1,
        "y": 0.1
       },
       "content": {
        "cell": "27fc1765-e980-46dd-a19e-c137c43c6515",
        "part": "whole"
       },
       "id": "75bc8744-d98f-46be-9c13-627ea82b8211"
      }
     }
    },
    "a00fb982-f9a2-480b-907e-da405102c759": {
     "id": "a00fb982-f9a2-480b-907e-da405102c759",
     "prev": "15af1ac1-f8cc-4788-a062-363dddb10d64",
     "regions": {
      "a3867f03-c3d4-464f-a980-00400a7f8115": {
       "attrs": {
        "height": 0.8,
        "width": 0.8,
        "x": 0.1,
        "y": 0.1
       },
       "content": {
        "cell": "2d448b51-2b51-46ac-aab3-b064e27f4738",
        "part": "whole"
       },
       "id": "a3867f03-c3d4-464f-a980-00400a7f8115"
      }
     }
    },
    "a14274fa-4c26-4adf-a271-16842f564cc8": {
     "id": "a14274fa-4c26-4adf-a271-16842f564cc8",
     "prev": "7dc03bdc-e104-4c3a-a614-d93081544ed7",
     "regions": {
      "95db6c27-819e-49f8-aefa-b7ae8b11bbb9": {
       "attrs": {
        "height": 0.8,
        "width": 0.8,
        "x": 0.1,
        "y": 0.1
       },
       "content": {
        "cell": "0c98f79d-9ab0-4bb3-829b-ddd08d51531c",
        "part": "whole"
       },
       "id": "95db6c27-819e-49f8-aefa-b7ae8b11bbb9"
      }
     }
    },
    "a204593c-1daa-4bbc-9152-5a3e88cfcb2c": {
     "id": "a204593c-1daa-4bbc-9152-5a3e88cfcb2c",
     "prev": "e976245c-a95a-4860-961b-b3370af0d257",
     "regions": {
      "7fb29915-b785-4b7a-916e-26dcce7ed680": {
       "attrs": {
        "height": 0.8,
        "width": 0.8,
        "x": 0.1,
        "y": 0.1
       },
       "content": {
        "cell": "9d6fad12-6ee0-459e-b16c-a44970d13011",
        "part": "whole"
       },
       "id": "7fb29915-b785-4b7a-916e-26dcce7ed680"
      }
     }
    },
    "a403292d-e669-4a42-b2c6-5c55377c0024": {
     "id": "a403292d-e669-4a42-b2c6-5c55377c0024",
     "prev": "0c8b7551-980d-4608-a7b2-b843ae41cd71",
     "regions": {
      "4ab3ea08-3f49-41f5-87a0-afdc19a9a56e": {
       "attrs": {
        "height": 0.8,
        "width": 0.8,
        "x": 0.1,
        "y": 0.1
       },
       "content": {
        "cell": "4a7d39ee-c08a-46aa-b7b0-5ac182a92fca",
        "part": "whole"
       },
       "id": "4ab3ea08-3f49-41f5-87a0-afdc19a9a56e"
      }
     }
    },
    "a4cfac75-d144-4df8-9aff-e0d0087ac371": {
     "id": "a4cfac75-d144-4df8-9aff-e0d0087ac371",
     "prev": "f2c6fb71-d71d-43ce-ba18-4b36f24424ff",
     "regions": {
      "f633fe3d-6831-4364-9ee2-8cabf4e501fb": {
       "attrs": {
        "height": 0.8,
        "width": 0.8,
        "x": 0.1,
        "y": 0.1
       },
       "content": {
        "cell": "da412a73-fb45-40eb-811c-db607e78a5a0",
        "part": "whole"
       },
       "id": "f633fe3d-6831-4364-9ee2-8cabf4e501fb"
      }
     }
    },
    "a5109399-ada0-4863-926d-eb3742acb572": {
     "id": "a5109399-ada0-4863-926d-eb3742acb572",
     "prev": "ca2b1512-3d2d-49d5-8c89-f269cda0801a",
     "regions": {
      "e3f3d72c-9a59-47c4-9e85-6e3c71cc6a71": {
       "attrs": {
        "height": 0.8,
        "width": 0.8,
        "x": 0.1,
        "y": 0.1
       },
       "content": {
        "cell": "8a6868cd-ee3f-40e3-8cdb-c5627dee6330",
        "part": "whole"
       },
       "id": "e3f3d72c-9a59-47c4-9e85-6e3c71cc6a71"
      }
     }
    },
    "a8706e43-1574-42e7-85cc-783fc43be5e1": {
     "id": "a8706e43-1574-42e7-85cc-783fc43be5e1",
     "prev": "94071065-3d91-4056-8845-8438c1fb1fc2",
     "regions": {
      "fd14be8d-fe65-4ca8-a94c-20bb399a2463": {
       "attrs": {
        "height": 0.8,
        "width": 0.8,
        "x": 0.1,
        "y": 0.1
       },
       "content": {
        "cell": "ba040321-2825-468f-8d75-815e5d3ccc46",
        "part": "whole"
       },
       "id": "fd14be8d-fe65-4ca8-a94c-20bb399a2463"
      }
     }
    },
    "a9c28309-536c-4abb-a5dc-8fa3d78f92ff": {
     "id": "a9c28309-536c-4abb-a5dc-8fa3d78f92ff",
     "prev": "783fab66-e26d-4308-b7bc-636fb335a5e3",
     "regions": {
      "5da0377f-7c72-4e51-a8fd-fa59338e866e": {
       "attrs": {
        "height": 0.8,
        "width": 0.8,
        "x": 0.1,
        "y": 0.1
       },
       "content": {
        "cell": "75d227bf-0637-4fc2-bf51-d62f35e2e278",
        "part": "whole"
       },
       "id": "5da0377f-7c72-4e51-a8fd-fa59338e866e"
      }
     }
    },
    "aa8027e3-bb6e-4eb7-90fe-015b1f0f242c": {
     "id": "aa8027e3-bb6e-4eb7-90fe-015b1f0f242c",
     "prev": "85817006-de9c-415b-acd2-e8694aaaa13e",
     "regions": {
      "cc7b7722-2991-481b-84dd-2e2f59592b8b": {
       "attrs": {
        "height": 0.8,
        "width": 0.8,
        "x": 0.1,
        "y": 0.1
       },
       "content": {
        "cell": "f22c311e-f953-45c4-a587-50c8ca66cbc8",
        "part": "whole"
       },
       "id": "cc7b7722-2991-481b-84dd-2e2f59592b8b"
      }
     }
    },
    "abfc0df5-0125-4d5d-a4de-1c8ebda40136": {
     "id": "abfc0df5-0125-4d5d-a4de-1c8ebda40136",
     "prev": "07cf8e78-9e83-4ea4-aa2f-e84e803a4665",
     "regions": {
      "585f9488-49a7-4cec-a1cd-d619af49f874": {
       "attrs": {
        "height": 0.8,
        "width": 0.8,
        "x": 0.1,
        "y": 0.1
       },
       "content": {
        "cell": "2d16332d-c038-434c-adf6-f594830b010f",
        "part": "whole"
       },
       "id": "585f9488-49a7-4cec-a1cd-d619af49f874"
      }
     }
    },
    "abffd578-b63b-49c4-871b-03e639470280": {
     "id": "abffd578-b63b-49c4-871b-03e639470280",
     "prev": "f862d8a3-c83c-462c-a871-2d19d830bb1a",
     "regions": {
      "150cb376-3375-458f-a39b-01c800e7ad63": {
       "attrs": {
        "height": 0.8,
        "width": 0.8,
        "x": 0.1,
        "y": 0.1
       },
       "content": {
        "cell": "f232e43b-4eea-45af-b9da-ba049cff221e",
        "part": "whole"
       },
       "id": "150cb376-3375-458f-a39b-01c800e7ad63"
      }
     }
    },
    "ae4f52dd-7b9a-44e3-bdae-a123971bb9f0": {
     "id": "ae4f52dd-7b9a-44e3-bdae-a123971bb9f0",
     "prev": "f3fc3221-fdfc-4193-87d4-22a2493eca0d",
     "regions": {
      "2d6ba339-7d68-4a5f-8aa9-5a8f61e0cd68": {
       "attrs": {
        "height": 0.8,
        "width": 0.8,
        "x": 0.1,
        "y": 0.1
       },
       "content": {
        "cell": "b6c97984-74dc-4dc4-99b5-f80c98d2063c",
        "part": "whole"
       },
       "id": "2d6ba339-7d68-4a5f-8aa9-5a8f61e0cd68"
      }
     }
    },
    "ae76b9f4-ba3f-4273-9e1e-119d83379a22": {
     "id": "ae76b9f4-ba3f-4273-9e1e-119d83379a22",
     "prev": "a5109399-ada0-4863-926d-eb3742acb572",
     "regions": {
      "3406784b-7fec-4105-abc1-f3c25d7f84c4": {
       "attrs": {
        "height": 0.8,
        "width": 0.8,
        "x": 0.1,
        "y": 0.1
       },
       "content": {
        "cell": "eb3e6af1-4162-4fa4-897e-860413952322",
        "part": "whole"
       },
       "id": "3406784b-7fec-4105-abc1-f3c25d7f84c4"
      }
     }
    },
    "ae7f8dd2-5ba3-4a3a-bb29-9390aedacda3": {
     "id": "ae7f8dd2-5ba3-4a3a-bb29-9390aedacda3",
     "prev": "972ea87c-5407-43f7-a6ae-254f88bda6e4",
     "regions": {
      "9d8198ca-6f36-42c0-9989-1a5feeaaaa61": {
       "attrs": {
        "height": 0.8,
        "width": 0.8,
        "x": 0.1,
        "y": 0.1
       },
       "content": {
        "cell": "4709dad5-8375-4dce-9d81-811e457dacd2",
        "part": "whole"
       },
       "id": "9d8198ca-6f36-42c0-9989-1a5feeaaaa61"
      }
     }
    },
    "b04d6862-8985-4905-809c-06922fe3e2ef": {
     "id": "b04d6862-8985-4905-809c-06922fe3e2ef",
     "prev": "3845ed12-d197-41ac-963f-ff74033078e0",
     "regions": {
      "a400630a-522a-470e-b12c-deba5a17cc34": {
       "attrs": {
        "height": 0.8,
        "width": 0.8,
        "x": 0.1,
        "y": 0.1
       },
       "content": {
        "cell": "79a5cc43-4963-47ef-a326-ebc090fdc18f",
        "part": "whole"
       },
       "id": "a400630a-522a-470e-b12c-deba5a17cc34"
      }
     }
    },
    "b0b5e512-d2b9-4853-8af6-1cac278a650b": {
     "id": "b0b5e512-d2b9-4853-8af6-1cac278a650b",
     "prev": "49492d0e-168f-4c24-b5f1-a82a478ce984",
     "regions": {
      "44ec24cf-0f4f-44a3-966e-52b4691d7bce": {
       "attrs": {
        "height": 0.8,
        "width": 0.8,
        "x": 0.1,
        "y": 0.1
       },
       "content": {
        "cell": "55bd5ebb-3834-41c6-9a04-5738584c9d25",
        "part": "whole"
       },
       "id": "44ec24cf-0f4f-44a3-966e-52b4691d7bce"
      }
     }
    },
    "b14c5bd1-b942-478d-bc49-106a8e42a289": {
     "id": "b14c5bd1-b942-478d-bc49-106a8e42a289",
     "prev": "145a218c-882a-425a-b738-5ba654fd9461",
     "regions": {
      "5e391576-d6e8-449b-9e4f-6a09210b1f15": {
       "attrs": {
        "height": 0.8,
        "width": 0.8,
        "x": 0.1,
        "y": 0.1
       },
       "content": {
        "cell": "c28ef5b9-f892-488f-86f2-fbc89cc29974",
        "part": "whole"
       },
       "id": "5e391576-d6e8-449b-9e4f-6a09210b1f15"
      }
     }
    },
    "b9991ece-f16d-4cab-ac32-22b393103f2b": {
     "id": "b9991ece-f16d-4cab-ac32-22b393103f2b",
     "prev": "64a678cf-0990-4d0f-92d9-852d331b9a10",
     "regions": {
      "948347e5-b3b8-4b56-a16e-bbcd3371bb72": {
       "attrs": {
        "height": 0.8,
        "width": 0.8,
        "x": 0.1,
        "y": 0.1
       },
       "content": {
        "cell": "3dcc767b-c508-49a2-a93e-13f227cd8662",
        "part": "whole"
       },
       "id": "948347e5-b3b8-4b56-a16e-bbcd3371bb72"
      }
     }
    },
    "ba3a18aa-efa7-44c6-b215-3a1789432927": {
     "id": "ba3a18aa-efa7-44c6-b215-3a1789432927",
     "prev": "c51c89b7-3c7c-474b-9571-0e1fc0c20dec",
     "regions": {
      "303f84b9-e938-4861-bc7c-7c899eea861e": {
       "attrs": {
        "height": 0.8,
        "width": 0.8,
        "x": 0.1,
        "y": 0.1
       },
       "content": {
        "cell": "43a6be2b-d5e9-45b5-8e98-fbfe1dbbbe5c",
        "part": "whole"
       },
       "id": "303f84b9-e938-4861-bc7c-7c899eea861e"
      }
     }
    },
    "baef5d53-8b18-4a9b-8336-7715ae91f9fa": {
     "id": "baef5d53-8b18-4a9b-8336-7715ae91f9fa",
     "prev": "8f6a993e-6a4c-44ea-a8ff-f0ca7c014fc3",
     "regions": {
      "8361bbdc-0bea-4bce-b10b-3a1ab730c037": {
       "attrs": {
        "height": 0.8,
        "width": 0.8,
        "x": 0.1,
        "y": 0.1
       },
       "content": {
        "cell": "b12f0a3a-d373-42a8-9dbf-ddb6ba47c3c2",
        "part": "whole"
       },
       "id": "8361bbdc-0bea-4bce-b10b-3a1ab730c037"
      }
     }
    },
    "bb9c535e-d777-4e37-9d83-083276f6bb32": {
     "id": "bb9c535e-d777-4e37-9d83-083276f6bb32",
     "prev": "98f71f08-c780-4985-8d20-d0ba60b839a3",
     "regions": {
      "54d0d3a6-ec9d-4a4b-9d8c-1e7114ab8f21": {
       "attrs": {
        "height": 0.8,
        "width": 0.8,
        "x": 0.1,
        "y": 0.1
       },
       "content": {
        "cell": "d9a907cf-dd9c-496d-8a73-a7fba161b990",
        "part": "whole"
       },
       "id": "54d0d3a6-ec9d-4a4b-9d8c-1e7114ab8f21"
      }
     }
    },
    "bbe206c1-78e7-474e-985e-3d0590106f7e": {
     "id": "bbe206c1-78e7-474e-985e-3d0590106f7e",
     "prev": "08dd7563-aab3-437f-92f7-5245ff790a5b",
     "regions": {
      "3821ae52-18cb-4b43-8f28-9758f5df3a39": {
       "attrs": {
        "height": 0.8,
        "width": 0.8,
        "x": 0.1,
        "y": 0.1
       },
       "content": {
        "cell": "b1f45e7c-fc9d-4624-9879-d78dbd4a363e",
        "part": "whole"
       },
       "id": "3821ae52-18cb-4b43-8f28-9758f5df3a39"
      }
     }
    },
    "bdc01925-7f18-4a79-b5c7-2c3cafcc1c0e": {
     "id": "bdc01925-7f18-4a79-b5c7-2c3cafcc1c0e",
     "prev": "9f82080c-9ccc-4e2a-ba8d-e2a4a5bee517",
     "regions": {
      "a8d57ba1-5528-4820-aaf7-495046e187c7": {
       "attrs": {
        "height": 0.8,
        "width": 0.8,
        "x": 0.1,
        "y": 0.1
       },
       "content": {
        "cell": "968090af-9dad-4bbc-ba7c-427ba5029c0c",
        "part": "whole"
       },
       "id": "a8d57ba1-5528-4820-aaf7-495046e187c7"
      }
     }
    },
    "bdec2e3f-0498-4223-8c9b-04ffabf2e2a3": {
     "id": "bdec2e3f-0498-4223-8c9b-04ffabf2e2a3",
     "prev": "cd9e28dd-d3b6-497b-82ee-40b9aa08082e",
     "regions": {
      "74c134d2-dd10-474e-9122-457983ea7ba8": {
       "attrs": {
        "height": 0.8,
        "width": 0.8,
        "x": 0.1,
        "y": 0.1
       },
       "content": {
        "cell": "a392085a-d8c9-49ca-bed7-3ab98a3550bc",
        "part": "whole"
       },
       "id": "74c134d2-dd10-474e-9122-457983ea7ba8"
      }
     }
    },
    "c1085123-25e1-4770-af7a-d920dddef121": {
     "id": "c1085123-25e1-4770-af7a-d920dddef121",
     "prev": "ae4f52dd-7b9a-44e3-bdae-a123971bb9f0",
     "regions": {
      "8cdcdf62-4a46-46df-9f51-4f9f7b9c80f5": {
       "attrs": {
        "height": 0.8,
        "width": 0.8,
        "x": 0.1,
        "y": 0.1
       },
       "content": {
        "cell": "022d8738-11ab-41bf-8f1d-2073a3224eb3",
        "part": "whole"
       },
       "id": "8cdcdf62-4a46-46df-9f51-4f9f7b9c80f5"
      }
     }
    },
    "c3425e86-c1f8-4ca6-9a5d-ef0d55401142": {
     "id": "c3425e86-c1f8-4ca6-9a5d-ef0d55401142",
     "prev": "fe5c0f73-6205-4c1a-a05e-1993ba5e9783",
     "regions": {
      "31573bc5-f6c9-4244-9c86-7f8474842771": {
       "attrs": {
        "height": 0.8,
        "width": 0.8,
        "x": 0.1,
        "y": 0.1
       },
       "content": {
        "cell": "ebb30c95-e301-4c07-878a-e94494f58aa0",
        "part": "whole"
       },
       "id": "31573bc5-f6c9-4244-9c86-7f8474842771"
      }
     }
    },
    "c51c89b7-3c7c-474b-9571-0e1fc0c20dec": {
     "id": "c51c89b7-3c7c-474b-9571-0e1fc0c20dec",
     "prev": "bdc01925-7f18-4a79-b5c7-2c3cafcc1c0e",
     "regions": {
      "078eb75d-b0d6-4185-97d0-954021ac6e79": {
       "attrs": {
        "height": 0.8,
        "width": 0.8,
        "x": 0.1,
        "y": 0.1
       },
       "content": {
        "cell": "17811899-47b1-4cf2-8da9-ae0e1456b490",
        "part": "whole"
       },
       "id": "078eb75d-b0d6-4185-97d0-954021ac6e79"
      }
     }
    },
    "c57ba285-cfcd-48d6-8491-f1f886333da9": {
     "id": "c57ba285-cfcd-48d6-8491-f1f886333da9",
     "prev": "a9c28309-536c-4abb-a5dc-8fa3d78f92ff",
     "regions": {
      "c754a12c-5042-403f-989b-5e7da7faaf8e": {
       "attrs": {
        "height": 0.8,
        "width": 0.8,
        "x": 0.1,
        "y": 0.1
       },
       "content": {
        "cell": "fc6073d0-4871-4ea7-a98c-0c1e0398915a",
        "part": "whole"
       },
       "id": "c754a12c-5042-403f-989b-5e7da7faaf8e"
      }
     }
    },
    "c5f4b6f3-f5fa-45dd-b141-49bd0685fa22": {
     "id": "c5f4b6f3-f5fa-45dd-b141-49bd0685fa22",
     "prev": "48975587-687d-49d9-a422-079a56ac7f6b",
     "regions": {
      "2c839a63-5215-401b-99b6-d9283dc89a15": {
       "attrs": {
        "height": 0.8,
        "width": 0.8,
        "x": 0.1,
        "y": 0.1
       },
       "content": {
        "cell": "6fc28381-000a-4b21-ad9a-eeed8fedf91b",
        "part": "whole"
       },
       "id": "2c839a63-5215-401b-99b6-d9283dc89a15"
      }
     }
    },
    "ca2b1512-3d2d-49d5-8c89-f269cda0801a": {
     "id": "ca2b1512-3d2d-49d5-8c89-f269cda0801a",
     "prev": "23e2f343-c000-4c90-8c85-42f9302dcab7",
     "regions": {
      "1b3c28fb-5018-4ce8-ad2b-d7fe4d9501ad": {
       "attrs": {
        "height": 0.8,
        "width": 0.8,
        "x": 0.1,
        "y": 0.1
       },
       "content": {
        "cell": "4f640e07-fa74-4dad-9846-7e5a20b95ee4",
        "part": "whole"
       },
       "id": "1b3c28fb-5018-4ce8-ad2b-d7fe4d9501ad"
      }
     }
    },
    "ca41c095-4043-4793-abbc-5804dcb0c5d1": {
     "id": "ca41c095-4043-4793-abbc-5804dcb0c5d1",
     "prev": "30618881-1a80-47e2-86cd-b0e4b075869b",
     "regions": {
      "5bc79f51-a872-49ea-9db8-9c04e17bb60f": {
       "attrs": {
        "height": 0.8,
        "width": 0.8,
        "x": 0.1,
        "y": 0.1
       },
       "content": {
        "cell": "01214431-f87d-4e81-aea1-4a21860ce908",
        "part": "whole"
       },
       "id": "5bc79f51-a872-49ea-9db8-9c04e17bb60f"
      }
     }
    },
    "cb248936-2893-445c-a9f9-fb9108283751": {
     "id": "cb248936-2893-445c-a9f9-fb9108283751",
     "prev": "f2063e11-09e6-458e-8b5d-bc80fb5ec9bd",
     "regions": {
      "2049bf61-acf9-4f18-97a6-5b05e896d4f7": {
       "attrs": {
        "height": 0.8,
        "width": 0.8,
        "x": 0.1,
        "y": 0.1
       },
       "content": {
        "cell": "e2296619-7c50-402e-bc4a-dff4b5fff89a",
        "part": "whole"
       },
       "id": "2049bf61-acf9-4f18-97a6-5b05e896d4f7"
      }
     }
    },
    "cd9e28dd-d3b6-497b-82ee-40b9aa08082e": {
     "id": "cd9e28dd-d3b6-497b-82ee-40b9aa08082e",
     "prev": "26d56dcf-9e7e-44b5-9031-a4f21ac59692",
     "regions": {
      "ae2c2cef-3c4b-47d1-bb04-d5c362ddaca7": {
       "attrs": {
        "height": 0.8,
        "width": 0.8,
        "x": 0.1,
        "y": 0.1
       },
       "content": {
        "cell": "a74762a3-0794-452a-bce7-c52285a6756c",
        "part": "whole"
       },
       "id": "ae2c2cef-3c4b-47d1-bb04-d5c362ddaca7"
      }
     }
    },
    "cdf46db8-6c2c-46e8-a599-3f6c993b1724": {
     "id": "cdf46db8-6c2c-46e8-a599-3f6c993b1724",
     "prev": "fde2813c-6232-47d8-9baa-1156932f7910",
     "regions": {
      "dd4354ec-7e7a-4464-8fec-28943eabdf50": {
       "attrs": {
        "height": 0.8,
        "width": 0.8,
        "x": 0.1,
        "y": 0.1
       },
       "content": {
        "cell": "1bf4e1db-82b5-4bad-a24c-aef31475bbab",
        "part": "whole"
       },
       "id": "dd4354ec-7e7a-4464-8fec-28943eabdf50"
      }
     }
    },
    "ce18d364-3a05-43bc-b73e-4958882df91f": {
     "id": "ce18d364-3a05-43bc-b73e-4958882df91f",
     "prev": "9eb0b1c5-07bf-4852-b0b5-825176a221e9",
     "regions": {
      "6acf41ef-b4d4-46d5-b104-28463ea682e3": {
       "attrs": {
        "height": 0.8,
        "width": 0.8,
        "x": 0.1,
        "y": 0.1
       },
       "content": {
        "cell": "a3a7cae5-0f95-4b5b-b0d4-dd07db2dea98",
        "part": "whole"
       },
       "id": "6acf41ef-b4d4-46d5-b104-28463ea682e3"
      }
     }
    },
    "d02e6d42-e60d-4857-bbd5-efa86cfd3a03": {
     "id": "d02e6d42-e60d-4857-bbd5-efa86cfd3a03",
     "prev": "a14274fa-4c26-4adf-a271-16842f564cc8",
     "regions": {
      "19f4257d-433b-4d34-aad2-5abdddb95c65": {
       "attrs": {
        "height": 0.8,
        "width": 0.8,
        "x": 0.1,
        "y": 0.1
       },
       "content": {
        "cell": "d69cef45-0d30-4748-bdb7-e0fcf33fb297",
        "part": "whole"
       },
       "id": "19f4257d-433b-4d34-aad2-5abdddb95c65"
      }
     }
    },
    "d0a46fa9-e00a-4e8b-80a4-c05c3d989657": {
     "id": "d0a46fa9-e00a-4e8b-80a4-c05c3d989657",
     "prev": "d7e57c62-53e3-4ab1-a81a-2005fab210d3",
     "regions": {
      "71372d4d-6aac-49d8-85da-5bf3fb0317a1": {
       "attrs": {
        "height": 0.8,
        "width": 0.8,
        "x": 0.1,
        "y": 0.1
       },
       "content": {
        "cell": "cf4f3f0f-0e89-4c23-b168-bd2286507d96",
        "part": "whole"
       },
       "id": "71372d4d-6aac-49d8-85da-5bf3fb0317a1"
      }
     }
    },
    "d0a91529-2bd0-4bec-8f3d-c09d56cdc79f": {
     "id": "d0a91529-2bd0-4bec-8f3d-c09d56cdc79f",
     "prev": "92032076-06d4-43a1-90ce-fd95537ab56e",
     "regions": {
      "500e832c-35cf-4e95-9027-87c21bbe0086": {
       "attrs": {
        "height": 0.8,
        "width": 0.8,
        "x": 0.1,
        "y": 0.1
       },
       "content": {
        "cell": "983ba681-2f25-422d-81cd-4219adda53af",
        "part": "whole"
       },
       "id": "500e832c-35cf-4e95-9027-87c21bbe0086"
      }
     }
    },
    "d226d274-eae2-4236-8bf2-79a7bd7ea9ce": {
     "id": "d226d274-eae2-4236-8bf2-79a7bd7ea9ce",
     "prev": "f388afff-f8bb-4ee8-add8-e10f3cb0cd7d",
     "regions": {
      "9f8d26dd-32b1-49bf-bbe9-aaa2a5931a31": {
       "attrs": {
        "height": 0.8,
        "width": 0.8,
        "x": 0.1,
        "y": 0.1
       },
       "content": {
        "cell": "6143092e-cb56-497f-bab9-83611186baf0",
        "part": "whole"
       },
       "id": "9f8d26dd-32b1-49bf-bbe9-aaa2a5931a31"
      }
     }
    },
    "d2d809b0-a3a0-4ff1-9d17-f8c2a0eb1880": {
     "id": "d2d809b0-a3a0-4ff1-9d17-f8c2a0eb1880",
     "prev": "b9991ece-f16d-4cab-ac32-22b393103f2b",
     "regions": {
      "e5a0d474-1cb7-43ce-8603-788bc166246f": {
       "attrs": {
        "height": 0.8,
        "width": 0.8,
        "x": 0.1,
        "y": 0.1
       },
       "content": {
        "cell": "5b59f17d-c580-4f63-ac2b-5ad75f13595b",
        "part": "whole"
       },
       "id": "e5a0d474-1cb7-43ce-8603-788bc166246f"
      }
     }
    },
    "d2e250b7-2a2c-4cb7-b51a-654c7b232d6c": {
     "id": "d2e250b7-2a2c-4cb7-b51a-654c7b232d6c",
     "prev": "186a8b8c-98da-4bdc-845d-8797eb35f648",
     "regions": {
      "ba47958a-798b-4dac-8740-1784c9888e6d": {
       "attrs": {
        "height": 0.8,
        "width": 0.8,
        "x": 0.1,
        "y": 0.1
       },
       "content": {
        "cell": "387e9aad-c5b5-4f20-a9f5-632ad6b98f39",
        "part": "whole"
       },
       "id": "ba47958a-798b-4dac-8740-1784c9888e6d"
      }
     }
    },
    "d36a8856-a7a4-44b2-a0c7-dd5b8fa63f0d": {
     "id": "d36a8856-a7a4-44b2-a0c7-dd5b8fa63f0d",
     "prev": "561b0049-9074-4eb4-9b3c-1bc7b25944db",
     "regions": {
      "2dc6ed8b-d26a-414e-969a-f2a32b1779d1": {
       "attrs": {
        "height": 0.8,
        "width": 0.8,
        "x": 0.1,
        "y": 0.1
       },
       "content": {
        "cell": "8bd5b12a-c069-4361-9c16-a2db28f9fb36",
        "part": "whole"
       },
       "id": "2dc6ed8b-d26a-414e-969a-f2a32b1779d1"
      }
     }
    },
    "d43613d9-2bd1-40ed-a9df-5ea8d4e32726": {
     "id": "d43613d9-2bd1-40ed-a9df-5ea8d4e32726",
     "prev": "09a63dec-cb8c-47e1-9b7d-a3f355904c72",
     "regions": {
      "269242cd-37b9-497d-b244-382a5cd79915": {
       "attrs": {
        "height": 0.8,
        "width": 0.8,
        "x": 0.1,
        "y": 0.1
       },
       "content": {
        "cell": "f1bb5341-f9fc-4478-a5a9-5cd04d09bf6c",
        "part": "whole"
       },
       "id": "269242cd-37b9-497d-b244-382a5cd79915"
      }
     }
    },
    "d7515f2f-42bc-407d-bd1b-43208f957148": {
     "id": "d7515f2f-42bc-407d-bd1b-43208f957148",
     "prev": "e9df94ad-2939-47f1-a423-bcbb98dca5cf",
     "regions": {
      "d77106ae-541b-411d-82a7-556c47c7d2a4": {
       "attrs": {
        "height": 0.8,
        "width": 0.8,
        "x": 0.1,
        "y": 0.1
       },
       "content": {
        "cell": "ab66202c-2b25-49b9-b08e-073d9f47b5cd",
        "part": "whole"
       },
       "id": "d77106ae-541b-411d-82a7-556c47c7d2a4"
      }
     }
    },
    "d7d708d8-41b1-426b-ab77-291f5fc1596b": {
     "id": "d7d708d8-41b1-426b-ab77-291f5fc1596b",
     "prev": "d02e6d42-e60d-4857-bbd5-efa86cfd3a03",
     "regions": {
      "c97b5b14-2a30-4d5a-a52f-bbd076efea5a": {
       "attrs": {
        "height": 0.8,
        "width": 0.8,
        "x": 0.1,
        "y": 0.1
       },
       "content": {
        "cell": "13e375c3-b74b-4ce1-8cfd-ed7e64dd446e",
        "part": "whole"
       },
       "id": "c97b5b14-2a30-4d5a-a52f-bbd076efea5a"
      }
     }
    },
    "d7e57c62-53e3-4ab1-a81a-2005fab210d3": {
     "id": "d7e57c62-53e3-4ab1-a81a-2005fab210d3",
     "prev": "96f6aee1-ff54-4eda-b0c1-1ee9bc19fbd2",
     "regions": {
      "2fe66fca-738e-4108-86d9-7e7b82ed02cf": {
       "attrs": {
        "height": 0.8,
        "width": 0.8,
        "x": 0.1,
        "y": 0.1
       },
       "content": {
        "cell": "72b04695-f2b2-48fd-b542-b4337f9bbe6b",
        "part": "whole"
       },
       "id": "2fe66fca-738e-4108-86d9-7e7b82ed02cf"
      }
     }
    },
    "db906f03-f7e3-4050-b713-a1cabdbbe8da": {
     "id": "db906f03-f7e3-4050-b713-a1cabdbbe8da",
     "prev": "a4cfac75-d144-4df8-9aff-e0d0087ac371",
     "regions": {
      "44672c89-fb51-4dac-ab6a-43083a798a3e": {
       "attrs": {
        "height": 0.8,
        "width": 0.8,
        "x": 0.1,
        "y": 0.1
       },
       "content": {
        "cell": "7f141e1f-583d-47b0-974e-6397c6075d94",
        "part": "whole"
       },
       "id": "44672c89-fb51-4dac-ab6a-43083a798a3e"
      }
     }
    },
    "ddb35839-0b87-4cc4-b18e-9e09bce8b7b3": {
     "id": "ddb35839-0b87-4cc4-b18e-9e09bce8b7b3",
     "prev": "81b4b151-00dc-4f8b-ba49-3630a5c91878",
     "regions": {
      "1d594787-5d50-4ef9-8b70-745cc02b8403": {
       "attrs": {
        "height": 0.8,
        "width": 0.8,
        "x": 0.1,
        "y": 0.1
       },
       "content": {
        "cell": "0be29d60-3aee-4bb2-a5a0-00f2b6f0672e",
        "part": "whole"
       },
       "id": "1d594787-5d50-4ef9-8b70-745cc02b8403"
      }
     }
    },
    "e3ae9166-b85f-46c8-999b-ead1d86f32ca": {
     "id": "e3ae9166-b85f-46c8-999b-ead1d86f32ca",
     "prev": "3e6de2ee-4e80-4b60-813f-56cc35dff6b8",
     "regions": {
      "da03eb9e-b455-4d93-9713-aedfa60fbc1c": {
       "attrs": {
        "height": 0.8,
        "width": 0.8,
        "x": 0.1,
        "y": 0.1
       },
       "content": {
        "cell": "dcf73bda-5db8-40fb-b827-ffe2834b6074",
        "part": "whole"
       },
       "id": "da03eb9e-b455-4d93-9713-aedfa60fbc1c"
      }
     }
    },
    "e8d4327c-4ac3-4c98-a398-cc500680d39b": {
     "id": "e8d4327c-4ac3-4c98-a398-cc500680d39b",
     "prev": "0cc09bed-4f0b-4bcd-892b-d911f2e4b463",
     "regions": {
      "e5129cb3-5fb1-43e3-aad4-9b1fe0ad9a1e": {
       "attrs": {
        "height": 0.8,
        "width": 0.8,
        "x": 0.1,
        "y": 0.1
       },
       "content": {
        "cell": "44059168-92a0-4e9a-9f5c-92b34beff512",
        "part": "whole"
       },
       "id": "e5129cb3-5fb1-43e3-aad4-9b1fe0ad9a1e"
      }
     }
    },
    "e976245c-a95a-4860-961b-b3370af0d257": {
     "id": "e976245c-a95a-4860-961b-b3370af0d257",
     "prev": "d7515f2f-42bc-407d-bd1b-43208f957148",
     "regions": {
      "c6c84e2c-b405-416f-974c-6a5dbbfa4374": {
       "attrs": {
        "height": 0.8,
        "width": 0.8,
        "x": 0.1,
        "y": 0.1
       },
       "content": {
        "cell": "fb359175-2961-4730-8269-190b962e0008",
        "part": "whole"
       },
       "id": "c6c84e2c-b405-416f-974c-6a5dbbfa4374"
      }
     }
    },
    "e9c206eb-6d55-4fdd-9291-e0aa104a1d9a": {
     "id": "e9c206eb-6d55-4fdd-9291-e0aa104a1d9a",
     "prev": "ae7f8dd2-5ba3-4a3a-bb29-9390aedacda3",
     "regions": {
      "99e154f5-4b1a-48bd-9715-4a127a31d6c3": {
       "attrs": {
        "height": 0.8,
        "width": 0.8,
        "x": 0.1,
        "y": 0.1
       },
       "content": {
        "cell": "ae85f628-4ad4-4137-86ca-4e3ab710c808",
        "part": "whole"
       },
       "id": "99e154f5-4b1a-48bd-9715-4a127a31d6c3"
      }
     }
    },
    "e9df94ad-2939-47f1-a423-bcbb98dca5cf": {
     "id": "e9df94ad-2939-47f1-a423-bcbb98dca5cf",
     "prev": "cdf46db8-6c2c-46e8-a599-3f6c993b1724",
     "regions": {
      "c11fbcac-9363-4105-b652-4551951176dd": {
       "attrs": {
        "height": 0.8,
        "width": 0.8,
        "x": 0.1,
        "y": 0.1
       },
       "content": {
        "cell": "cc76e604-262d-467d-9096-f99a585bc8d2",
        "part": "whole"
       },
       "id": "c11fbcac-9363-4105-b652-4551951176dd"
      }
     }
    },
    "ea067182-b28b-446e-8354-eb3d64aea2a4": {
     "id": "ea067182-b28b-446e-8354-eb3d64aea2a4",
     "prev": "9ceb9a6e-8591-4e4e-9b15-fead10aa7aa1",
     "regions": {
      "88488a79-08c9-4ad8-9734-bac4e62a082f": {
       "attrs": {
        "height": 0.8,
        "width": 0.8,
        "x": 0.1,
        "y": 0.1
       },
       "content": {
        "cell": "09f24d5b-ff3b-4629-baed-0214d6d0acdf",
        "part": "whole"
       },
       "id": "88488a79-08c9-4ad8-9734-bac4e62a082f"
      }
     }
    },
    "eb4ba421-4c75-41ac-b2d5-38a65be4a331": {
     "id": "eb4ba421-4c75-41ac-b2d5-38a65be4a331",
     "prev": "74072f89-cdcb-4be2-9d63-1fadd355b76d",
     "regions": {
      "6cbd38f4-09a6-4162-b3e2-b9c0ee5269db": {
       "attrs": {
        "height": 0.8,
        "width": 0.8,
        "x": 0.1,
        "y": 0.1
       },
       "content": {
        "cell": "d0023426-309c-47c2-ae1d-eaffae0a3560",
        "part": "whole"
       },
       "id": "6cbd38f4-09a6-4162-b3e2-b9c0ee5269db"
      }
     }
    },
    "eb61bda8-da35-48af-9e51-f3d0ac991f72": {
     "id": "eb61bda8-da35-48af-9e51-f3d0ac991f72",
     "prev": "bdec2e3f-0498-4223-8c9b-04ffabf2e2a3",
     "regions": {
      "38679eab-31c3-4c75-ac06-ba64e32b18bd": {
       "attrs": {
        "height": 0.8,
        "width": 0.8,
        "x": 0.1,
        "y": 0.1
       },
       "content": {
        "cell": "c77d0478-cfe1-4d32-bdec-91ed46fa1fd4",
        "part": "whole"
       },
       "id": "38679eab-31c3-4c75-ac06-ba64e32b18bd"
      }
     }
    },
    "ed91e3df-b828-4939-9e01-c89ef0ccd336": {
     "id": "ed91e3df-b828-4939-9e01-c89ef0ccd336",
     "prev": "5a282781-5c91-451f-9995-9ec3f50f4c33",
     "regions": {
      "4afbb9f7-aa47-4300-8cb8-4c5a28f0c538": {
       "attrs": {
        "height": 0.8,
        "width": 0.8,
        "x": 0.1,
        "y": 0.1
       },
       "content": {
        "cell": "7f636432-fbbc-4f1a-9671-81103c4d9d20",
        "part": "whole"
       },
       "id": "4afbb9f7-aa47-4300-8cb8-4c5a28f0c538"
      }
     }
    },
    "f1cb9ac1-4fa2-4cf6-9df3-46fafd715aa4": {
     "id": "f1cb9ac1-4fa2-4cf6-9df3-46fafd715aa4",
     "prev": "2deaaaa8-2645-4334-b05e-9f9419a75103",
     "regions": {
      "1034f127-863c-4999-95ea-1602024d5dba": {
       "attrs": {
        "height": 0.8,
        "width": 0.8,
        "x": 0.1,
        "y": 0.1
       },
       "content": {
        "cell": "e656d01b-5b9e-44ff-8ec0-c1fa99ad4221",
        "part": "whole"
       },
       "id": "1034f127-863c-4999-95ea-1602024d5dba"
      }
     }
    },
    "f2063e11-09e6-458e-8b5d-bc80fb5ec9bd": {
     "id": "f2063e11-09e6-458e-8b5d-bc80fb5ec9bd",
     "prev": "43f30eef-4cb1-4265-9f6e-1ebababa77ef",
     "regions": {
      "38c58a53-872b-4fad-bd88-9b4cda553c08": {
       "attrs": {
        "height": 0.8,
        "width": 0.8,
        "x": 0.1,
        "y": 0.1
       },
       "content": {
        "cell": "8295ec63-a99b-4c1b-9557-b4b2d855d9cc",
        "part": "whole"
       },
       "id": "38c58a53-872b-4fad-bd88-9b4cda553c08"
      }
     }
    },
    "f2c08e24-576a-4f9d-846d-5e0b81f43961": {
     "id": "f2c08e24-576a-4f9d-846d-5e0b81f43961",
     "prev": "cb248936-2893-445c-a9f9-fb9108283751",
     "regions": {
      "7c6d7617-a3f0-40e8-975c-719552a15f2c": {
       "attrs": {
        "height": 0.8,
        "width": 0.8,
        "x": 0.1,
        "y": 0.1
       },
       "content": {
        "cell": "b297321d-c2a0-4676-91ed-bb953a8e1dfa",
        "part": "whole"
       },
       "id": "7c6d7617-a3f0-40e8-975c-719552a15f2c"
      }
     }
    },
    "f2c6fb71-d71d-43ce-ba18-4b36f24424ff": {
     "id": "f2c6fb71-d71d-43ce-ba18-4b36f24424ff",
     "prev": "f4c8fcfe-4668-4c04-a6b5-e8fc209ad522",
     "regions": {
      "200d3986-e21e-49ab-822e-182747b1391a": {
       "attrs": {
        "height": 0.8,
        "width": 0.8,
        "x": 0.1,
        "y": 0.1
       },
       "content": {
        "cell": "c893b6ed-ba24-4d01-91b8-23ada4ce3383",
        "part": "whole"
       },
       "id": "200d3986-e21e-49ab-822e-182747b1391a"
      }
     }
    },
    "f388afff-f8bb-4ee8-add8-e10f3cb0cd7d": {
     "id": "f388afff-f8bb-4ee8-add8-e10f3cb0cd7d",
     "prev": "7b442e91-b57f-476e-a3f9-89eeed21a923",
     "regions": {
      "b12cfcea-ab59-4fef-907b-d1de140a6a5e": {
       "attrs": {
        "height": 0.8,
        "width": 0.8,
        "x": 0.1,
        "y": 0.1
       },
       "content": {
        "cell": "8a653e33-3f8c-4c0b-97df-9c7d0ac84b08",
        "part": "whole"
       },
       "id": "b12cfcea-ab59-4fef-907b-d1de140a6a5e"
      }
     }
    },
    "f3fc3221-fdfc-4193-87d4-22a2493eca0d": {
     "id": "f3fc3221-fdfc-4193-87d4-22a2493eca0d",
     "prev": "e3ae9166-b85f-46c8-999b-ead1d86f32ca",
     "regions": {
      "4a8bdb96-e229-44a7-a1d3-a9676b35f164": {
       "attrs": {
        "height": 0.8,
        "width": 0.8,
        "x": 0.1,
        "y": 0.1
       },
       "content": {
        "cell": "2c4aafd3-ed98-4577-84da-496378669840",
        "part": "whole"
       },
       "id": "4a8bdb96-e229-44a7-a1d3-a9676b35f164"
      }
     }
    },
    "f43811b0-2719-4072-9aa9-a0cfdf6cee35": {
     "id": "f43811b0-2719-4072-9aa9-a0cfdf6cee35",
     "prev": "f1cb9ac1-4fa2-4cf6-9df3-46fafd715aa4",
     "regions": {
      "999a8d2a-b047-4359-ac43-58ad7469ae0b": {
       "attrs": {
        "height": 0.8,
        "width": 0.8,
        "x": 0.1,
        "y": 0.1
       },
       "content": {
        "cell": "71a20469-0604-4950-a945-e999c35ea6be",
        "part": "whole"
       },
       "id": "999a8d2a-b047-4359-ac43-58ad7469ae0b"
      }
     }
    },
    "f4c8fcfe-4668-4c04-a6b5-e8fc209ad522": {
     "id": "f4c8fcfe-4668-4c04-a6b5-e8fc209ad522",
     "prev": "b04d6862-8985-4905-809c-06922fe3e2ef",
     "regions": {
      "1b2a6eb5-0f42-4c90-aef3-9aacc91c0612": {
       "attrs": {
        "height": 0.8,
        "width": 0.8,
        "x": 0.1,
        "y": 0.1
       },
       "content": {
        "cell": "746e6dfa-b486-42c6-a664-b9a38708cf1d",
        "part": "whole"
       },
       "id": "1b2a6eb5-0f42-4c90-aef3-9aacc91c0612"
      }
     }
    },
    "f4d9d326-bd36-4435-81f6-d7a21a44333d": {
     "id": "f4d9d326-bd36-4435-81f6-d7a21a44333d",
     "prev": "a8706e43-1574-42e7-85cc-783fc43be5e1",
     "regions": {
      "a6e9fff5-1563-4310-b9d2-4e22d0180e88": {
       "attrs": {
        "height": 0.8,
        "width": 0.8,
        "x": 0.1,
        "y": 0.1
       },
       "content": {
        "cell": "0a806788-3bee-454e-8857-8e9bde254f19",
        "part": "whole"
       },
       "id": "a6e9fff5-1563-4310-b9d2-4e22d0180e88"
      }
     }
    },
    "f51ef26a-3a26-4d3e-8ab9-8e675d587ef9": {
     "id": "f51ef26a-3a26-4d3e-8ab9-8e675d587ef9",
     "prev": "7bf9602d-3a6b-4e6b-b47a-d31df3792d48",
     "regions": {
      "b006e109-8589-4ffb-9c79-6ba85a207d99": {
       "attrs": {
        "height": 0.8,
        "width": 0.8,
        "x": 0.1,
        "y": 0.1
       },
       "content": {
        "cell": "b9c5fd93-d2f1-4b8b-ae10-787af4442c88",
        "part": "whole"
       },
       "id": "b006e109-8589-4ffb-9c79-6ba85a207d99"
      }
     }
    },
    "f5db37f1-8d87-4b6e-b496-d3a85e1c7831": {
     "id": "f5db37f1-8d87-4b6e-b496-d3a85e1c7831",
     "prev": "a403292d-e669-4a42-b2c6-5c55377c0024",
     "regions": {
      "48ccbc5a-df6d-4883-ad41-ed28fd16e061": {
       "attrs": {
        "height": 0.8,
        "width": 0.8,
        "x": 0.1,
        "y": 0.1
       },
       "content": {
        "cell": "7804ab9b-17d8-4b18-9103-ed7a0097b7e9",
        "part": "whole"
       },
       "id": "48ccbc5a-df6d-4883-ad41-ed28fd16e061"
      }
     }
    },
    "f65d5621-095f-487c-b773-f6ff1214814d": {
     "id": "f65d5621-095f-487c-b773-f6ff1214814d",
     "prev": "c1085123-25e1-4770-af7a-d920dddef121",
     "regions": {
      "244da4fc-dbbd-43ea-b60e-8e1a0866b863": {
       "attrs": {
        "height": 0.8,
        "width": 0.8,
        "x": 0.1,
        "y": 0.1
       },
       "content": {
        "cell": "8961b55f-ad95-40ca-9e0b-8a8e9d225266",
        "part": "whole"
       },
       "id": "244da4fc-dbbd-43ea-b60e-8e1a0866b863"
      }
     }
    },
    "f7f1770a-f7e7-44ee-97c2-266f389a64fb": {
     "id": "f7f1770a-f7e7-44ee-97c2-266f389a64fb",
     "prev": "fb9937aa-2990-4dda-8c7b-71b4465141ae",
     "regions": {
      "58e1a6aa-61f9-445c-934a-485fc4dbb9ad": {
       "attrs": {
        "height": 0.8,
        "width": 0.8,
        "x": 0.1,
        "y": 0.1
       },
       "content": {
        "cell": "f6db3497-63d7-4e5e-a976-ba638bbf1bd0",
        "part": "whole"
       },
       "id": "58e1a6aa-61f9-445c-934a-485fc4dbb9ad"
      }
     }
    },
    "f862d8a3-c83c-462c-a871-2d19d830bb1a": {
     "id": "f862d8a3-c83c-462c-a871-2d19d830bb1a",
     "prev": "fcc41402-5594-4fe7-aafb-edd29241546a",
     "regions": {
      "3c0c11b3-d4dd-44c4-94df-0f42c89ead65": {
       "attrs": {
        "height": 0.8,
        "width": 0.8,
        "x": 0.1,
        "y": 0.1
       },
       "content": {
        "cell": "3cd38b5b-fadb-4975-a81e-547c44d0b38b",
        "part": "whole"
       },
       "id": "3c0c11b3-d4dd-44c4-94df-0f42c89ead65"
      }
     }
    },
    "fb9937aa-2990-4dda-8c7b-71b4465141ae": {
     "id": "fb9937aa-2990-4dda-8c7b-71b4465141ae",
     "prev": "928145bb-c95a-4fdf-89bd-4ca65a2a0cf9",
     "regions": {
      "d47914f9-dc81-473b-bc98-aff6bab09f84": {
       "attrs": {
        "height": 0.8,
        "width": 0.8,
        "x": 0.1,
        "y": 0.1
       },
       "content": {
        "cell": "3f3c8211-b302-43db-825c-cccd3b3d920d",
        "part": "whole"
       },
       "id": "d47914f9-dc81-473b-bc98-aff6bab09f84"
      }
     }
    },
    "fcc41402-5594-4fe7-aafb-edd29241546a": {
     "id": "fcc41402-5594-4fe7-aafb-edd29241546a",
     "prev": "63a8104f-ba9c-4b8e-9418-2e5c05d21990",
     "regions": {
      "72260f07-8ad1-44b1-b2fa-9a1757a0fc09": {
       "attrs": {
        "height": 0.8,
        "width": 0.8,
        "x": 0.1,
        "y": 0.1
       },
       "content": {
        "cell": "7cfea76c-69fd-4c1e-8942-87ef68a10997",
        "part": "whole"
       },
       "id": "72260f07-8ad1-44b1-b2fa-9a1757a0fc09"
      }
     }
    },
    "fd8cc12a-72fb-409e-b887-cbe2ca2857db": {
     "id": "fd8cc12a-72fb-409e-b887-cbe2ca2857db",
     "prev": "f7f1770a-f7e7-44ee-97c2-266f389a64fb",
     "regions": {
      "4a017e30-119d-430d-a1f1-536ce898e02e": {
       "attrs": {
        "height": 0.8,
        "width": 0.8,
        "x": 0.1,
        "y": 0.1
       },
       "content": {
        "cell": "98db1b2e-5e6c-43e1-af4f-48bb5c92884a",
        "part": "whole"
       },
       "id": "4a017e30-119d-430d-a1f1-536ce898e02e"
      }
     }
    },
    "fde2813c-6232-47d8-9baa-1156932f7910": {
     "id": "fde2813c-6232-47d8-9baa-1156932f7910",
     "prev": "00ac7405-8262-44d6-99f9-ec75589638d3",
     "regions": {
      "5d3533d6-b2aa-4385-916a-23dd8f0c0d24": {
       "attrs": {
        "height": 0.8,
        "width": 0.8,
        "x": 0.1,
        "y": 0.1
       },
       "content": {
        "cell": "344930cd-2060-4697-8540-c933c9423f70",
        "part": "whole"
       },
       "id": "5d3533d6-b2aa-4385-916a-23dd8f0c0d24"
      }
     }
    },
    "fe5c0f73-6205-4c1a-a05e-1993ba5e9783": {
     "id": "fe5c0f73-6205-4c1a-a05e-1993ba5e9783",
     "prev": "d2d809b0-a3a0-4ff1-9d17-f8c2a0eb1880",
     "regions": {
      "a125f968-95b1-4ed1-90f7-2c554f503ce8": {
       "attrs": {
        "height": 0.8,
        "width": 0.8,
        "x": 0.1,
        "y": 0.1
       },
       "content": {
        "cell": "ba53c013-869f-4bd2-a965-a5e237bdef74",
        "part": "whole"
       },
       "id": "a125f968-95b1-4ed1-90f7-2c554f503ce8"
      }
     }
    },
    "ff55e1e4-5a0b-4d0f-a1c9-36a0736e8d64": {
     "id": "ff55e1e4-5a0b-4d0f-a1c9-36a0736e8d64",
     "prev": "02db0acd-93c9-4d08-8d5e-c32f77f761b4",
     "regions": {
      "63577922-1c78-4433-aa9d-39691526a0c7": {
       "attrs": {
        "height": 0.8,
        "width": 0.8,
        "x": 0.1,
        "y": 0.1
       },
       "content": {
        "cell": "7984503a-74b3-4489-b65c-f55c89a27ee5",
        "part": "whole"
       },
       "id": "63577922-1c78-4433-aa9d-39691526a0c7"
      }
     }
    }
   },
   "themes": {
    "default": "87532adc-e246-49de-ab1a-be9d1bbed860",
    "theme": {
     "06a19a55-bbd6-4821-85cb-3cad9072d310": {
      "backgrounds": {
       "dc7afa04-bf90-40b1-82a5-726e3cff5267": {
        "background-color": "31af15d2-7e15-44c5-ab5e-e04b16a89eff",
        "id": "dc7afa04-bf90-40b1-82a5-726e3cff5267"
       }
      },
      "id": "06a19a55-bbd6-4821-85cb-3cad9072d310",
      "palette": {
       "19cc588f-0593-49c9-9f4b-e4d7cc113b1c": {
        "id": "19cc588f-0593-49c9-9f4b-e4d7cc113b1c",
        "rgb": [
         252,
         252,
         252
        ]
       },
       "31af15d2-7e15-44c5-ab5e-e04b16a89eff": {
        "id": "31af15d2-7e15-44c5-ab5e-e04b16a89eff",
        "rgb": [
         68,
         68,
         68
        ]
       },
       "50f92c45-a630-455b-aec3-788680ec7410": {
        "id": "50f92c45-a630-455b-aec3-788680ec7410",
        "rgb": [
         197,
         226,
         245
        ]
       },
       "c5cc3653-2ee1-402a-aba2-7caae1da4f6c": {
        "id": "c5cc3653-2ee1-402a-aba2-7caae1da4f6c",
        "rgb": [
         43,
         126,
         184
        ]
       },
       "efa7f048-9acb-414c-8b04-a26811511a21": {
        "id": "efa7f048-9acb-414c-8b04-a26811511a21",
        "rgb": [
         25.118061674008803,
         73.60176211453744,
         107.4819383259912
        ]
       }
      },
      "rules": {
       "a": {
        "color": "19cc588f-0593-49c9-9f4b-e4d7cc113b1c"
       },
       "blockquote": {
        "color": "50f92c45-a630-455b-aec3-788680ec7410",
        "font-size": 3
       },
       "code": {
        "font-family": "Anonymous Pro"
       },
       "h1": {
        "color": "19cc588f-0593-49c9-9f4b-e4d7cc113b1c",
        "font-family": "Merriweather",
        "font-size": 8
       },
       "h2": {
        "color": "19cc588f-0593-49c9-9f4b-e4d7cc113b1c",
        "font-family": "Merriweather",
        "font-size": 6
       },
       "h3": {
        "color": "50f92c45-a630-455b-aec3-788680ec7410",
        "font-family": "Lato",
        "font-size": 5.5
       },
       "h4": {
        "color": "c5cc3653-2ee1-402a-aba2-7caae1da4f6c",
        "font-family": "Lato",
        "font-size": 5
       },
       "h5": {
        "font-family": "Lato"
       },
       "h6": {
        "font-family": "Lato"
       },
       "h7": {
        "font-family": "Lato"
       },
       "li": {
        "color": "50f92c45-a630-455b-aec3-788680ec7410",
        "font-size": 3.25
       },
       "pre": {
        "font-family": "Anonymous Pro",
        "font-size": 4
       }
      },
      "text-base": {
       "color": "19cc588f-0593-49c9-9f4b-e4d7cc113b1c",
       "font-family": "Lato",
       "font-size": 4
      }
     },
     "2f1c9445-b5f4-4358-84c3-3f5e534a50c0": {
      "id": "2f1c9445-b5f4-4358-84c3-3f5e534a50c0",
      "palette": {
       "19cc588f-0593-49c9-9f4b-e4d7cc113b1c": {
        "id": "19cc588f-0593-49c9-9f4b-e4d7cc113b1c",
        "rgb": [
         252,
         252,
         252
        ]
       },
       "31af15d2-7e15-44c5-ab5e-e04b16a89eff": {
        "id": "31af15d2-7e15-44c5-ab5e-e04b16a89eff",
        "rgb": [
         68,
         68,
         68
        ]
       },
       "50f92c45-a630-455b-aec3-788680ec7410": {
        "id": "50f92c45-a630-455b-aec3-788680ec7410",
        "rgb": [
         155,
         177,
         192
        ]
       },
       "c5cc3653-2ee1-402a-aba2-7caae1da4f6c": {
        "id": "c5cc3653-2ee1-402a-aba2-7caae1da4f6c",
        "rgb": [
         43,
         126,
         184
        ]
       },
       "efa7f048-9acb-414c-8b04-a26811511a21": {
        "id": "efa7f048-9acb-414c-8b04-a26811511a21",
        "rgb": [
         25.118061674008803,
         73.60176211453744,
         107.4819383259912
        ]
       }
      },
      "rules": {
       "blockquote": {
        "color": "50f92c45-a630-455b-aec3-788680ec7410"
       },
       "code": {
        "font-family": "Anonymous Pro"
       },
       "h1": {
        "color": "c5cc3653-2ee1-402a-aba2-7caae1da4f6c",
        "font-family": "Lato",
        "font-size": 8
       },
       "h2": {
        "color": "c5cc3653-2ee1-402a-aba2-7caae1da4f6c",
        "font-family": "Lato",
        "font-size": 6
       },
       "h3": {
        "color": "50f92c45-a630-455b-aec3-788680ec7410",
        "font-family": "Lato",
        "font-size": 5.5
       },
       "h4": {
        "color": "c5cc3653-2ee1-402a-aba2-7caae1da4f6c",
        "font-family": "Lato",
        "font-size": 5
       },
       "h5": {
        "font-family": "Lato"
       },
       "h6": {
        "font-family": "Lato"
       },
       "h7": {
        "font-family": "Lato"
       },
       "pre": {
        "font-family": "Anonymous Pro",
        "font-size": 4
       }
      },
      "text-base": {
       "font-family": "Merriweather",
       "font-size": 4
      }
     },
     "39ae18ab-3857-4bbd-bda7-75ffc9bdcb1a": {
      "backgrounds": {
       "dc7afa04-bf90-40b1-82a5-726e3cff5267": {
        "background-color": "31af15d2-7e15-44c5-ab5e-e04b16a89eff",
        "id": "dc7afa04-bf90-40b1-82a5-726e3cff5267"
       }
      },
      "id": "39ae18ab-3857-4bbd-bda7-75ffc9bdcb1a",
      "palette": {
       "19cc588f-0593-49c9-9f4b-e4d7cc113b1c": {
        "id": "19cc588f-0593-49c9-9f4b-e4d7cc113b1c",
        "rgb": [
         252,
         252,
         252
        ]
       },
       "31af15d2-7e15-44c5-ab5e-e04b16a89eff": {
        "id": "31af15d2-7e15-44c5-ab5e-e04b16a89eff",
        "rgb": [
         68,
         68,
         68
        ]
       },
       "50f92c45-a630-455b-aec3-788680ec7410": {
        "id": "50f92c45-a630-455b-aec3-788680ec7410",
        "rgb": [
         197,
         226,
         245
        ]
       },
       "c5cc3653-2ee1-402a-aba2-7caae1da4f6c": {
        "id": "c5cc3653-2ee1-402a-aba2-7caae1da4f6c",
        "rgb": [
         43,
         126,
         184
        ]
       },
       "efa7f048-9acb-414c-8b04-a26811511a21": {
        "id": "efa7f048-9acb-414c-8b04-a26811511a21",
        "rgb": [
         25.118061674008803,
         73.60176211453744,
         107.4819383259912
        ]
       }
      },
      "rules": {
       "a": {
        "color": "19cc588f-0593-49c9-9f4b-e4d7cc113b1c"
       },
       "blockquote": {
        "color": "50f92c45-a630-455b-aec3-788680ec7410",
        "font-size": 3
       },
       "code": {
        "font-family": "Anonymous Pro"
       },
       "h1": {
        "color": "19cc588f-0593-49c9-9f4b-e4d7cc113b1c",
        "font-family": "Merriweather",
        "font-size": 8
       },
       "h2": {
        "color": "19cc588f-0593-49c9-9f4b-e4d7cc113b1c",
        "font-family": "Merriweather",
        "font-size": 6
       },
       "h3": {
        "color": "50f92c45-a630-455b-aec3-788680ec7410",
        "font-family": "Lato",
        "font-size": 5.5
       },
       "h4": {
        "color": "c5cc3653-2ee1-402a-aba2-7caae1da4f6c",
        "font-family": "Lato",
        "font-size": 5
       },
       "h5": {
        "font-family": "Lato"
       },
       "h6": {
        "font-family": "Lato"
       },
       "h7": {
        "font-family": "Lato"
       },
       "li": {
        "color": "50f92c45-a630-455b-aec3-788680ec7410",
        "font-size": 3.25
       },
       "pre": {
        "font-family": "Anonymous Pro",
        "font-size": 4
       }
      },
      "text-base": {
       "color": "19cc588f-0593-49c9-9f4b-e4d7cc113b1c",
       "font-family": "Lato",
       "font-size": 4
      }
     },
     "4f52c4d0-9d48-47c8-a6fc-852b5fa3fddd": {
      "backgrounds": {
       "dc7afa04-bf90-40b1-82a5-726e3cff5267": {
        "background-color": "31af15d2-7e15-44c5-ab5e-e04b16a89eff",
        "id": "dc7afa04-bf90-40b1-82a5-726e3cff5267"
       }
      },
      "id": "4f52c4d0-9d48-47c8-a6fc-852b5fa3fddd",
      "palette": {
       "19cc588f-0593-49c9-9f4b-e4d7cc113b1c": {
        "id": "19cc588f-0593-49c9-9f4b-e4d7cc113b1c",
        "rgb": [
         252,
         252,
         252
        ]
       },
       "31af15d2-7e15-44c5-ab5e-e04b16a89eff": {
        "id": "31af15d2-7e15-44c5-ab5e-e04b16a89eff",
        "rgb": [
         68,
         68,
         68
        ]
       },
       "50f92c45-a630-455b-aec3-788680ec7410": {
        "id": "50f92c45-a630-455b-aec3-788680ec7410",
        "rgb": [
         197,
         226,
         245
        ]
       },
       "c5cc3653-2ee1-402a-aba2-7caae1da4f6c": {
        "id": "c5cc3653-2ee1-402a-aba2-7caae1da4f6c",
        "rgb": [
         43,
         126,
         184
        ]
       },
       "efa7f048-9acb-414c-8b04-a26811511a21": {
        "id": "efa7f048-9acb-414c-8b04-a26811511a21",
        "rgb": [
         25.118061674008803,
         73.60176211453744,
         107.4819383259912
        ]
       }
      },
      "rules": {
       "a": {
        "color": "19cc588f-0593-49c9-9f4b-e4d7cc113b1c"
       },
       "blockquote": {
        "color": "50f92c45-a630-455b-aec3-788680ec7410",
        "font-size": 3
       },
       "code": {
        "font-family": "Anonymous Pro"
       },
       "h1": {
        "color": "19cc588f-0593-49c9-9f4b-e4d7cc113b1c",
        "font-family": "Merriweather",
        "font-size": 8
       },
       "h2": {
        "color": "19cc588f-0593-49c9-9f4b-e4d7cc113b1c",
        "font-family": "Merriweather",
        "font-size": 6
       },
       "h3": {
        "color": "50f92c45-a630-455b-aec3-788680ec7410",
        "font-family": "Lato",
        "font-size": 5.5
       },
       "h4": {
        "color": "c5cc3653-2ee1-402a-aba2-7caae1da4f6c",
        "font-family": "Lato",
        "font-size": 5
       },
       "h5": {
        "font-family": "Lato"
       },
       "h6": {
        "font-family": "Lato"
       },
       "h7": {
        "font-family": "Lato"
       },
       "li": {
        "color": "50f92c45-a630-455b-aec3-788680ec7410",
        "font-size": 3.25
       },
       "pre": {
        "font-family": "Anonymous Pro",
        "font-size": 4
       }
      },
      "text-base": {
       "color": "19cc588f-0593-49c9-9f4b-e4d7cc113b1c",
       "font-family": "Lato",
       "font-size": 4
      }
     },
     "6c696d79-217f-4410-bbda-1edb143426e6": {
      "backgrounds": {
       "dc7afa04-bf90-40b1-82a5-726e3cff5267": {
        "background-color": "31af15d2-7e15-44c5-ab5e-e04b16a89eff",
        "id": "dc7afa04-bf90-40b1-82a5-726e3cff5267"
       }
      },
      "id": "6c696d79-217f-4410-bbda-1edb143426e6",
      "palette": {
       "19cc588f-0593-49c9-9f4b-e4d7cc113b1c": {
        "id": "19cc588f-0593-49c9-9f4b-e4d7cc113b1c",
        "rgb": [
         252,
         252,
         252
        ]
       },
       "31af15d2-7e15-44c5-ab5e-e04b16a89eff": {
        "id": "31af15d2-7e15-44c5-ab5e-e04b16a89eff",
        "rgb": [
         68,
         68,
         68
        ]
       },
       "50f92c45-a630-455b-aec3-788680ec7410": {
        "id": "50f92c45-a630-455b-aec3-788680ec7410",
        "rgb": [
         197,
         226,
         245
        ]
       },
       "c5cc3653-2ee1-402a-aba2-7caae1da4f6c": {
        "id": "c5cc3653-2ee1-402a-aba2-7caae1da4f6c",
        "rgb": [
         43,
         126,
         184
        ]
       },
       "efa7f048-9acb-414c-8b04-a26811511a21": {
        "id": "efa7f048-9acb-414c-8b04-a26811511a21",
        "rgb": [
         25.118061674008803,
         73.60176211453744,
         107.4819383259912
        ]
       }
      },
      "rules": {
       "a": {
        "color": "19cc588f-0593-49c9-9f4b-e4d7cc113b1c"
       },
       "blockquote": {
        "color": "50f92c45-a630-455b-aec3-788680ec7410",
        "font-size": 3
       },
       "code": {
        "font-family": "Anonymous Pro"
       },
       "h1": {
        "color": "19cc588f-0593-49c9-9f4b-e4d7cc113b1c",
        "font-family": "Merriweather",
        "font-size": 8
       },
       "h2": {
        "color": "19cc588f-0593-49c9-9f4b-e4d7cc113b1c",
        "font-family": "Merriweather",
        "font-size": 6
       },
       "h3": {
        "color": "50f92c45-a630-455b-aec3-788680ec7410",
        "font-family": "Lato",
        "font-size": 5.5
       },
       "h4": {
        "color": "c5cc3653-2ee1-402a-aba2-7caae1da4f6c",
        "font-family": "Lato",
        "font-size": 5
       },
       "h5": {
        "font-family": "Lato"
       },
       "h6": {
        "font-family": "Lato"
       },
       "h7": {
        "font-family": "Lato"
       },
       "li": {
        "color": "50f92c45-a630-455b-aec3-788680ec7410",
        "font-size": 3.25
       },
       "pre": {
        "font-family": "Anonymous Pro",
        "font-size": 4
       }
      },
      "text-base": {
       "color": "19cc588f-0593-49c9-9f4b-e4d7cc113b1c",
       "font-family": "Lato",
       "font-size": 4
      }
     },
     "833837a9-a03c-44c1-8162-48de6aa694fa": {
      "id": "833837a9-a03c-44c1-8162-48de6aa694fa",
      "palette": {
       "19cc588f-0593-49c9-9f4b-e4d7cc113b1c": {
        "id": "19cc588f-0593-49c9-9f4b-e4d7cc113b1c",
        "rgb": [
         252,
         252,
         252
        ]
       },
       "31af15d2-7e15-44c5-ab5e-e04b16a89eff": {
        "id": "31af15d2-7e15-44c5-ab5e-e04b16a89eff",
        "rgb": [
         68,
         68,
         68
        ]
       },
       "50f92c45-a630-455b-aec3-788680ec7410": {
        "id": "50f92c45-a630-455b-aec3-788680ec7410",
        "rgb": [
         155,
         177,
         192
        ]
       },
       "c5cc3653-2ee1-402a-aba2-7caae1da4f6c": {
        "id": "c5cc3653-2ee1-402a-aba2-7caae1da4f6c",
        "rgb": [
         43,
         126,
         184
        ]
       },
       "efa7f048-9acb-414c-8b04-a26811511a21": {
        "id": "efa7f048-9acb-414c-8b04-a26811511a21",
        "rgb": [
         25.118061674008803,
         73.60176211453744,
         107.4819383259912
        ]
       }
      },
      "rules": {
       "blockquote": {
        "color": "50f92c45-a630-455b-aec3-788680ec7410"
       },
       "code": {
        "font-family": "Anonymous Pro"
       },
       "h1": {
        "color": "c5cc3653-2ee1-402a-aba2-7caae1da4f6c",
        "font-family": "Lato",
        "font-size": 8
       },
       "h2": {
        "color": "c5cc3653-2ee1-402a-aba2-7caae1da4f6c",
        "font-family": "Lato",
        "font-size": 6
       },
       "h3": {
        "color": "50f92c45-a630-455b-aec3-788680ec7410",
        "font-family": "Lato",
        "font-size": 5.5
       },
       "h4": {
        "color": "c5cc3653-2ee1-402a-aba2-7caae1da4f6c",
        "font-family": "Lato",
        "font-size": 5
       },
       "h5": {
        "font-family": "Lato"
       },
       "h6": {
        "font-family": "Lato"
       },
       "h7": {
        "font-family": "Lato"
       },
       "pre": {
        "font-family": "Anonymous Pro",
        "font-size": 4
       }
      },
      "text-base": {
       "font-family": "Merriweather",
       "font-size": 4
      }
     },
     "87532adc-e246-49de-ab1a-be9d1bbed860": {
      "id": "87532adc-e246-49de-ab1a-be9d1bbed860",
      "palette": {
       "19cc588f-0593-49c9-9f4b-e4d7cc113b1c": {
        "id": "19cc588f-0593-49c9-9f4b-e4d7cc113b1c",
        "rgb": [
         252,
         252,
         252
        ]
       },
       "31af15d2-7e15-44c5-ab5e-e04b16a89eff": {
        "id": "31af15d2-7e15-44c5-ab5e-e04b16a89eff",
        "rgb": [
         68,
         68,
         68
        ]
       },
       "50f92c45-a630-455b-aec3-788680ec7410": {
        "id": "50f92c45-a630-455b-aec3-788680ec7410",
        "rgb": [
         155,
         177,
         192
        ]
       },
       "c5cc3653-2ee1-402a-aba2-7caae1da4f6c": {
        "id": "c5cc3653-2ee1-402a-aba2-7caae1da4f6c",
        "rgb": [
         43,
         126,
         184
        ]
       },
       "efa7f048-9acb-414c-8b04-a26811511a21": {
        "id": "efa7f048-9acb-414c-8b04-a26811511a21",
        "rgb": [
         25.118061674008803,
         73.60176211453744,
         107.4819383259912
        ]
       }
      },
      "rules": {
       "blockquote": {
        "color": "50f92c45-a630-455b-aec3-788680ec7410"
       },
       "code": {
        "font-family": "Anonymous Pro"
       },
       "h1": {
        "color": "c5cc3653-2ee1-402a-aba2-7caae1da4f6c",
        "font-family": "Lato",
        "font-size": 8
       },
       "h2": {
        "color": "c5cc3653-2ee1-402a-aba2-7caae1da4f6c",
        "font-family": "Lato",
        "font-size": 6
       },
       "h3": {
        "color": "50f92c45-a630-455b-aec3-788680ec7410",
        "font-family": "Lato",
        "font-size": 5.5
       },
       "h4": {
        "color": "c5cc3653-2ee1-402a-aba2-7caae1da4f6c",
        "font-family": "Lato",
        "font-size": 5
       },
       "h5": {
        "font-family": "Lato"
       },
       "h6": {
        "font-family": "Lato"
       },
       "h7": {
        "font-family": "Lato"
       },
       "pre": {
        "font-family": "Anonymous Pro",
        "font-size": 4
       }
      },
      "text-base": {
       "font-family": "Merriweather",
       "font-size": 4
      }
     },
     "87efe20e-acce-4fad-a602-2ea7cccbce8c": {
      "id": "87efe20e-acce-4fad-a602-2ea7cccbce8c",
      "palette": {
       "19cc588f-0593-49c9-9f4b-e4d7cc113b1c": {
        "id": "19cc588f-0593-49c9-9f4b-e4d7cc113b1c",
        "rgb": [
         252,
         252,
         252
        ]
       },
       "31af15d2-7e15-44c5-ab5e-e04b16a89eff": {
        "id": "31af15d2-7e15-44c5-ab5e-e04b16a89eff",
        "rgb": [
         68,
         68,
         68
        ]
       },
       "50f92c45-a630-455b-aec3-788680ec7410": {
        "id": "50f92c45-a630-455b-aec3-788680ec7410",
        "rgb": [
         155,
         177,
         192
        ]
       },
       "c5cc3653-2ee1-402a-aba2-7caae1da4f6c": {
        "id": "c5cc3653-2ee1-402a-aba2-7caae1da4f6c",
        "rgb": [
         43,
         126,
         184
        ]
       },
       "efa7f048-9acb-414c-8b04-a26811511a21": {
        "id": "efa7f048-9acb-414c-8b04-a26811511a21",
        "rgb": [
         25.118061674008803,
         73.60176211453744,
         107.4819383259912
        ]
       }
      },
      "rules": {
       "blockquote": {
        "color": "50f92c45-a630-455b-aec3-788680ec7410"
       },
       "code": {
        "font-family": "Anonymous Pro"
       },
       "h1": {
        "color": "c5cc3653-2ee1-402a-aba2-7caae1da4f6c",
        "font-family": "Lato",
        "font-size": 8
       },
       "h2": {
        "color": "c5cc3653-2ee1-402a-aba2-7caae1da4f6c",
        "font-family": "Lato",
        "font-size": 6
       },
       "h3": {
        "color": "50f92c45-a630-455b-aec3-788680ec7410",
        "font-family": "Lato",
        "font-size": 5.5
       },
       "h4": {
        "color": "c5cc3653-2ee1-402a-aba2-7caae1da4f6c",
        "font-family": "Lato",
        "font-size": 5
       },
       "h5": {
        "font-family": "Lato"
       },
       "h6": {
        "font-family": "Lato"
       },
       "h7": {
        "font-family": "Lato"
       },
       "pre": {
        "font-family": "Anonymous Pro",
        "font-size": 4
       }
      },
      "text-base": {
       "font-family": "Merriweather",
       "font-size": 4
      }
     },
     "8e16009d-d434-4637-ae93-7edd2823504d": {
      "backgrounds": {
       "dc7afa04-bf90-40b1-82a5-726e3cff5267": {
        "background-color": "31af15d2-7e15-44c5-ab5e-e04b16a89eff",
        "id": "dc7afa04-bf90-40b1-82a5-726e3cff5267"
       }
      },
      "id": "8e16009d-d434-4637-ae93-7edd2823504d",
      "palette": {
       "19cc588f-0593-49c9-9f4b-e4d7cc113b1c": {
        "id": "19cc588f-0593-49c9-9f4b-e4d7cc113b1c",
        "rgb": [
         252,
         252,
         252
        ]
       },
       "31af15d2-7e15-44c5-ab5e-e04b16a89eff": {
        "id": "31af15d2-7e15-44c5-ab5e-e04b16a89eff",
        "rgb": [
         68,
         68,
         68
        ]
       },
       "50f92c45-a630-455b-aec3-788680ec7410": {
        "id": "50f92c45-a630-455b-aec3-788680ec7410",
        "rgb": [
         197,
         226,
         245
        ]
       },
       "c5cc3653-2ee1-402a-aba2-7caae1da4f6c": {
        "id": "c5cc3653-2ee1-402a-aba2-7caae1da4f6c",
        "rgb": [
         43,
         126,
         184
        ]
       },
       "efa7f048-9acb-414c-8b04-a26811511a21": {
        "id": "efa7f048-9acb-414c-8b04-a26811511a21",
        "rgb": [
         25.118061674008803,
         73.60176211453744,
         107.4819383259912
        ]
       }
      },
      "rules": {
       "a": {
        "color": "19cc588f-0593-49c9-9f4b-e4d7cc113b1c"
       },
       "blockquote": {
        "color": "50f92c45-a630-455b-aec3-788680ec7410",
        "font-size": 3
       },
       "code": {
        "font-family": "Anonymous Pro"
       },
       "h1": {
        "color": "19cc588f-0593-49c9-9f4b-e4d7cc113b1c",
        "font-family": "Merriweather",
        "font-size": 8
       },
       "h2": {
        "color": "19cc588f-0593-49c9-9f4b-e4d7cc113b1c",
        "font-family": "Merriweather",
        "font-size": 6
       },
       "h3": {
        "color": "50f92c45-a630-455b-aec3-788680ec7410",
        "font-family": "Lato",
        "font-size": 5.5
       },
       "h4": {
        "color": "c5cc3653-2ee1-402a-aba2-7caae1da4f6c",
        "font-family": "Lato",
        "font-size": 5
       },
       "h5": {
        "font-family": "Lato"
       },
       "h6": {
        "font-family": "Lato"
       },
       "h7": {
        "font-family": "Lato"
       },
       "li": {
        "color": "50f92c45-a630-455b-aec3-788680ec7410",
        "font-size": 3.25
       },
       "pre": {
        "font-family": "Anonymous Pro",
        "font-size": 4
       }
      },
      "text-base": {
       "color": "19cc588f-0593-49c9-9f4b-e4d7cc113b1c",
       "font-family": "Lato",
       "font-size": 4
      }
     },
     "bbdade70-fe1c-47aa-9e2e-c31baa222b31": {
      "id": "bbdade70-fe1c-47aa-9e2e-c31baa222b31",
      "palette": {
       "19cc588f-0593-49c9-9f4b-e4d7cc113b1c": {
        "id": "19cc588f-0593-49c9-9f4b-e4d7cc113b1c",
        "rgb": [
         252,
         252,
         252
        ]
       },
       "31af15d2-7e15-44c5-ab5e-e04b16a89eff": {
        "id": "31af15d2-7e15-44c5-ab5e-e04b16a89eff",
        "rgb": [
         68,
         68,
         68
        ]
       },
       "50f92c45-a630-455b-aec3-788680ec7410": {
        "id": "50f92c45-a630-455b-aec3-788680ec7410",
        "rgb": [
         155,
         177,
         192
        ]
       },
       "c5cc3653-2ee1-402a-aba2-7caae1da4f6c": {
        "id": "c5cc3653-2ee1-402a-aba2-7caae1da4f6c",
        "rgb": [
         43,
         126,
         184
        ]
       },
       "efa7f048-9acb-414c-8b04-a26811511a21": {
        "id": "efa7f048-9acb-414c-8b04-a26811511a21",
        "rgb": [
         25.118061674008803,
         73.60176211453744,
         107.4819383259912
        ]
       }
      },
      "rules": {
       "blockquote": {
        "color": "50f92c45-a630-455b-aec3-788680ec7410"
       },
       "code": {
        "font-family": "Anonymous Pro"
       },
       "h1": {
        "color": "c5cc3653-2ee1-402a-aba2-7caae1da4f6c",
        "font-family": "Lato",
        "font-size": 8
       },
       "h2": {
        "color": "c5cc3653-2ee1-402a-aba2-7caae1da4f6c",
        "font-family": "Lato",
        "font-size": 6
       },
       "h3": {
        "color": "50f92c45-a630-455b-aec3-788680ec7410",
        "font-family": "Lato",
        "font-size": 5.5
       },
       "h4": {
        "color": "c5cc3653-2ee1-402a-aba2-7caae1da4f6c",
        "font-family": "Lato",
        "font-size": 5
       },
       "h5": {
        "font-family": "Lato"
       },
       "h6": {
        "font-family": "Lato"
       },
       "h7": {
        "font-family": "Lato"
       },
       "pre": {
        "font-family": "Anonymous Pro",
        "font-size": 4
       }
      },
      "text-base": {
       "font-family": "Merriweather",
       "font-size": 4
      }
     }
    }
   }
  }
 },
 "nbformat": 4,
 "nbformat_minor": 0
}
