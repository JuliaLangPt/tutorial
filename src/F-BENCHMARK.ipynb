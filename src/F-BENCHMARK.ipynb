{
 "cells": [
  {
   "cell_type": "markdown",
   "metadata": {},
   "source": [
    "** BENCHMARK O Crivo de Eratóstenes**\n",
    "\n",
    "O Crivo de Eratóstenes é um algoritmo e um método simples e prático para encontrar números primos até um certo valor limite. Segundo a tradição, foi criado pelo matemático grego Eratóstenes (a.c. 285-194 a.C.), o terceiro bibliotecário-chefe da Biblioteca de Alexandria.\n",
    "\n"
   ]
  },
  {
   "cell_type": "code",
   "execution_count": 3,
   "metadata": {
    "collapsed": true
   },
   "outputs": [],
   "source": [
    "using Benchmarks"
   ]
  },
  {
   "cell_type": "code",
   "execution_count": 1,
   "metadata": {
    "collapsed": false,
    "scrolled": true
   },
   "outputs": [
    {
     "data": {
      "text/plain": [
       "sieve (generic function with 1 method)"
      ]
     },
     "execution_count": 1,
     "metadata": {},
     "output_type": "execute_result"
    }
   ],
   "source": [
    "# Returns an array of positive prime numbers less than or equal to lim\n",
    "function sieve(lim :: Int)\n",
    "    is_prime :: Array = trues(lim)\n",
    "    llim :: Int = isqrt(lim)\n",
    "    result :: Array = [2]  #Initial array\n",
    "    for i = 3:2:lim\n",
    "        if is_prime[i]\n",
    "            if i <= llim\n",
    "                for j = i*i:2*i:lim\n",
    "                    is_prime[j] = false\n",
    "                end\n",
    "            end\n",
    "            push!(result,i)\n",
    "        end\n",
    "    end\n",
    "    return result\n",
    "end"
   ]
  },
  {
   "cell_type": "code",
   "execution_count": 3,
   "metadata": {
    "collapsed": false,
    "scrolled": true
   },
   "outputs": [],
   "source": [
    "R = sieve(1000000000);"
   ]
  },
  {
   "cell_type": "code",
   "execution_count": null,
   "metadata": {
    "collapsed": false
   },
   "outputs": [
    {
     "name": "stdout",
     "output_type": "stream",
     "text": [
      "[2"
     ]
    }
   ],
   "source": [
    "print(R)"
   ]
  },
  {
   "cell_type": "code",
   "execution_count": 5,
   "metadata": {
    "collapsed": false
   },
   "outputs": [
    {
     "ename": "LoadError",
     "evalue": "LoadError: ArgumentError: expression to benchmark must be a function call\nwhile loading In[5], in expression starting on line 1",
     "output_type": "error",
     "traceback": [
      "LoadError: ArgumentError: expression to benchmark must be a function call\nwhile loading In[5], in expression starting on line 1",
      ""
     ]
    }
   ],
   "source": [
    "@benchmark sieve(1000000)"
   ]
  },
  {
   "cell_type": "markdown",
   "metadata": {},
   "source": [
    "** Fatorial**"
   ]
  },
  {
   "cell_type": "code",
   "execution_count": 1,
   "metadata": {
    "collapsed": false
   },
   "outputs": [
    {
     "data": {
      "text/plain": [
       "factorial (generic function with 1 method)"
      ]
     },
     "execution_count": 1,
     "metadata": {},
     "output_type": "execute_result"
    }
   ],
   "source": [
    "function factorial(n::Integer)\n",
    "    if n < 0\n",
    "        return zero(n)\n",
    "    end\n",
    "    f = one(n)\n",
    "    for i = 2:n\n",
    "        f *= i\n",
    "    end\n",
    "\n",
    "    return f\n",
    "end"
   ]
  },
  {
   "cell_type": "code",
   "execution_count": 2,
   "metadata": {
    "collapsed": false
   },
   "outputs": [
    {
     "name": "stdout",
     "output_type": "stream",
     "text": [
      "  "
     ]
    },
    {
     "data": {
      "text/plain": [
       "0"
      ]
     },
     "execution_count": 2,
     "metadata": {},
     "output_type": "execute_result"
    },
    {
     "name": "stdout",
     "output_type": "stream",
     "text": [
      "0.008440 seconds (2.14 k allocations: 112.800 KB)\n"
     ]
    }
   ],
   "source": [
    "@time factorial(5000000)"
   ]
  },
  {
   "cell_type": "code",
   "execution_count": 6,
   "metadata": {
    "collapsed": false
   },
   "outputs": [
    {
     "name": "stdout",
     "output_type": "stream",
     "text": [
      "  "
     ]
    },
    {
     "data": {
      "text/plain": [
       "0"
      ]
     },
     "execution_count": 6,
     "metadata": {},
     "output_type": "execute_result"
    },
    {
     "name": "stdout",
     "output_type": "stream",
     "text": [
      "0.005204 seconds (4 allocations: 160 bytes)\n",
      "elapsed time (ns): 5204038\n",
      "bytes allocated:   160\n",
      "pool allocs:       4\n"
     ]
    }
   ],
   "source": [
    "@timev factorial(5000000)"
   ]
  },
  {
   "cell_type": "code",
   "execution_count": 9,
   "metadata": {
    "collapsed": false
   },
   "outputs": [
    {
     "data": {
      "text/plain": [
       "================ Benchmark Results ========================\n",
       "Warning: function may not have been precompiled\n",
       "     Time per evaluation: 5.19 s\n",
       "Proportion of time in GC: 0.00%\n",
       "        Memory allocated: 0.00 bytes\n",
       "   Number of allocations: 0 allocations\n",
       "       Number of samples: 1\n",
       "   Number of evaluations: 1\n",
       " Time spent benchmarking: 5.23 s\n"
      ]
     },
     "execution_count": 9,
     "metadata": {},
     "output_type": "execute_result"
    }
   ],
   "source": [
    "@benchmark factorial(5000000000)"
   ]
  },
  {
   "cell_type": "code",
   "execution_count": 9,
   "metadata": {
    "collapsed": false
   },
   "outputs": [
    {
     "name": "stdout",
     "output_type": "stream",
     "text": [
      "  "
     ]
    },
    {
     "data": {
      "text/plain": [
       "Inf"
      ]
     },
     "execution_count": 9,
     "metadata": {},
     "output_type": "execute_result"
    },
    {
     "name": "stdout",
     "output_type": "stream",
     "text": [
      "4.947944 seconds (18 allocations: 15.298 MB, 0.06% gc time)\n"
     ]
    }
   ],
   "source": [
    "@time det(rand(1001,1001))"
   ]
  },
  {
   "cell_type": "code",
   "execution_count": 3,
   "metadata": {
    "collapsed": false
   },
   "outputs": [
    {
     "data": {
      "text/plain": [
       "10.0"
      ]
     },
     "execution_count": 3,
     "metadata": {},
     "output_type": "execute_result"
    }
   ],
   "source": [
    "round(10,10)"
   ]
  },
  {
   "cell_type": "code",
   "execution_count": 10,
   "metadata": {
    "collapsed": false
   },
   "outputs": [
    {
     "name": "stdout",
     "output_type": "stream",
     "text": [
      "search: "
     ]
    },
    {
     "data": {
      "text/latex": [
       "\\begin{verbatim}\n",
       "det(M)\n",
       "\\end{verbatim}\n",
       "Matrix determinant\n"
      ],
      "text/markdown": [
       "```\n",
       "det(M)\n",
       "```\n",
       "\n",
       "Matrix determinant\n"
      ],
      "text/plain": [
       "```\n",
       "det(M)\n",
       "```\n",
       "\n",
       "Matrix determinant\n"
      ]
     },
     "execution_count": 10,
     "metadata": {},
     "output_type": "execute_result"
    },
    {
     "name": "stdout",
     "output_type": "stream",
     "text": [
      "det detach logdet identity code_typed logabsdet @code_typed delete!\n",
      "\n"
     ]
    }
   ],
   "source": [
    "?det"
   ]
  },
  {
   "cell_type": "code",
   "execution_count": 1,
   "metadata": {
    "collapsed": true
   },
   "outputs": [],
   "source": [
    "using FastAnonymous"
   ]
  },
  {
   "cell_type": "code",
   "execution_count": 2,
   "metadata": {
    "collapsed": false
   },
   "outputs": [
    {
     "name": "stdout",
     "output_type": "stream",
     "text": [
      "  3.242794 seconds (200.16 M allocations: 4.479 GB, 7.31% gc time)\n",
      "elapsed time (ns): 3242793589\n",
      "gc time (ns):      237124275\n",
      "bytes allocated:   4808910192\n",
      "pool allocs:       200158078\n",
      "non-pool GC allocs:44\n",
      "malloc() calls:    2\n",
      "GC pauses:         141\n",
      "full collections:  1\n"
     ]
    }
   ],
   "source": [
    "sqr(x) = x^2\n",
    "@timev map(sqr,rand(10000,10000));"
   ]
  },
  {
   "cell_type": "code",
   "execution_count": 2,
   "metadata": {
    "collapsed": false
   },
   "outputs": [
    {
     "name": "stdout",
     "output_type": "stream",
     "text": [
      "  0.728262 seconds (79.91 k allocations: 1.494 GB, 1.10% gc time)\n",
      "elapsed time (ns): 728262114\n",
      "gc time (ns):      8014805\n",
      "bytes allocated:   1603659622\n",
      "pool allocs:       79912\n",
      "malloc() calls:    2\n",
      "GC pauses:         2\n"
     ]
    }
   ],
   "source": [
    "@timev map(@anon(w -> w^2),rand(10000,10000));"
   ]
  },
  {
   "cell_type": "code",
   "execution_count": null,
   "metadata": {
    "collapsed": true
   },
   "outputs": [],
   "source": []
  }
 ],
 "metadata": {
  "anaconda-cloud": {},
  "kernelspec": {
   "display_name": "Julia 0.5.0",
   "language": "julia",
   "name": "julia-0.5"
  },
  "language_info": {
   "file_extension": ".jl",
   "mimetype": "application/julia",
   "name": "julia",
   "version": "0.5.0"
  }
 },
 "nbformat": 4,
 "nbformat_minor": 0
}
