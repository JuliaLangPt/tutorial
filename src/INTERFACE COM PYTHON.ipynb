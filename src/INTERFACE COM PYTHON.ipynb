{
 "cells": [
  {
   "cell_type": "markdown",
   "metadata": {},
   "source": [
    "# INTERFACE  COM PYTHON"
   ]
  },
  {
   "cell_type": "markdown",
   "metadata": {},
   "source": [
    "`Julia` permite utilizar os pacotes de Python e suas bibliotecas de forma prática através da chamada `PyCall`. A maneira mais fácil para trabalhar com `PyCall` é deixar o `Conda.jl` gerenciar os pacote do `Python` independentemente das versões instaladas em seu sistema:\n",
    "```julia\n",
    "ENV[\"PYTHON\"]=\"\"\n",
    "Pkg.build(\"PyCall\")\n",
    "\n",
    "# isto será feito apenas uma vez, e será lembrado nas outras utilizações.\n",
    "\n",
    "```\n",
    "Caso queira usar sua própria versão do `Python` instalado no sistema (melhor opção caso use o anaconda ex: `/home/jmarcellopereira/anaconda2/bin/python2.7`), informe o PATH como descrito abaixo:\n",
    "```julia\n",
    "ENV[\"PYTHON\"] = \"diretorio no qual python está instalado\"\n",
    "Pkg.build(\"PyCall\")\n",
    "```\n",
    "OBS: É importante somente este `notebook` funcionando para que o processo ocorra bem. Caso ocorra erro do tipo `     LOCKERROR: It looks like conda is already doing something.` Encerre os outros notebooks e execute o comando novamente."
   ]
  },
  {
   "cell_type": "code",
   "execution_count": 1,
   "metadata": {
    "collapsed": false,
    "scrolled": true
   },
   "outputs": [
    {
     "name": "stderr",
     "output_type": "stream",
     "text": [
      "INFO: Building PyCall\n",
      "INFO: PyCall is using /home/jmarcellopereira/anaconda2/bin/python2 (Python 2.7.12) at /home/jmarcellopereira/anaconda2/bin/python2, libpython = /home/jmarcellopereira/anaconda2/lib/libpython2.7\n"
     ]
    }
   ],
   "source": [
    "ENV[\"PYTHON\"]=\"/home/jmarcellopereira/anaconda2/bin/python2\"\n",
    "Pkg.build(\"PyCall\")"
   ]
  },
  {
   "cell_type": "markdown",
   "metadata": {},
   "source": [
    "## UTILIZANDO NUMPY E SYMPY\n",
    "\n",
    "`NumPy` é um módulo de extensão de Python que fornece uma operação eficiente em matrizes de dados homogêneos. Ele permite que python trabalhe a manipulação de dados numéricos. `SciPy` é um conjunto de ferramentas científicas e numéricos para Python de código aberto (licença BSD). Atualmente ele suporta funções especiais, integração, calculo de equações diferenciais (ODE), otimização de gradiente, ferramentas de programação paralela, um compilador de expressão para C ++ para execução rápida, e outros."
   ]
  },
  {
   "cell_type": "code",
   "execution_count": 5,
   "metadata": {
    "collapsed": false
   },
   "outputs": [],
   "source": [
    "using PyCall"
   ]
  },
  {
   "cell_type": "markdown",
   "metadata": {},
   "source": [
    "### BIBLIOTECAS NUMPY\n",
    "\n",
    "Sintaxe:\n",
    "```julia\n",
    "@pyimport numpy as nome_alias\n",
    "```"
   ]
  },
  {
   "cell_type": "markdown",
   "metadata": {},
   "source": [
    "**Interpolação linear unidimensional com NumPy**"
   ]
  },
  {
   "cell_type": "code",
   "execution_count": 6,
   "metadata": {
    "collapsed": false
   },
   "outputs": [],
   "source": [
    "@pyimport numpy as np"
   ]
  },
  {
   "cell_type": "code",
   "execution_count": 7,
   "metadata": {
    "collapsed": false
   },
   "outputs": [],
   "source": [
    "# dados\n",
    "x = [0.0, 1.0, 2.0, 3.0, 4.0, 5.0, 6.0, 7.0, 8.0, 9.0, 10.0]\n",
    "y = [0.5, 1.0, 4.0, 6.0, 8.0, 8.5, 8.8, 9.0, 9.1, 9.2, 9.3];"
   ]
  },
  {
   "cell_type": "code",
   "execution_count": 8,
   "metadata": {
    "collapsed": false
   },
   "outputs": [
    {
     "data": {
      "text/plain": [
       "8.65"
      ]
     },
     "execution_count": 8,
     "metadata": {},
     "output_type": "execute_result"
    }
   ],
   "source": [
    "# calcular valor para x = 5.5\n",
    "np.interp(5.5, x, y)"
   ]
  },
  {
   "cell_type": "code",
   "execution_count": 9,
   "metadata": {
    "collapsed": false
   },
   "outputs": [],
   "source": [
    "xvals = np.linspace(0, 10, 50)\n",
    "yinterp = np.interp(xvals, x, y);"
   ]
  },
  {
   "cell_type": "code",
   "execution_count": 12,
   "metadata": {
    "collapsed": false,
    "scrolled": false
   },
   "outputs": [
    {
     "data": {
      "text/html": [
       "<img src=\"data:image/png;base64,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\" />"
      ]
     },
     "execution_count": 12,
     "metadata": {},
     "output_type": "execute_result"
    }
   ],
   "source": [
    "using Plots\n",
    "pyplot()\n",
    "\n",
    "scatter(x, y, label = \"Pontos\")\n",
    "plot!(xvals, yinterp, label = \"Interpolação\")"
   ]
  },
  {
   "cell_type": "markdown",
   "metadata": {},
   "source": [
    "### BIBLIOTECAS SCIPY\n",
    "\n",
    "Sintaxe:\n",
    "```julia\n",
    "@pyimport scipy.biblioteca as nome_alias\n",
    "```\n",
    "Bibliotecas Importantes:\n",
    "\n",
    "- Funções especiais (scipy.special): https://docs.scipy.org/doc/scipy-0.14.0/reference/tutorial/special.html   \n",
    "- Integração (scipy.optimize) :https://docs.scipy.org/doc/scipy-0.14.0/reference/optimize.html#module-scipy.optimize\n",
    "- Optiização (scipy.integrate)    \n",
    "- Interpolação (scipy.interpolate): https://docs.scipy.org/doc/scipy-0.14.0/reference/tutorial/interpolate.html\n",
    "- Transformada de Fourier (scipy.fftpack): https://docs.scipy.org/doc/scipy-0.14.0/reference/tutorial/fftpack.html\n",
    "- Processamento de sinais (scipy.signal): https://docs.scipy.org/doc/scipy-0.14.0/reference/tutorial/signal.html\n",
    "- Algebra Linear (scipy.linalg)(: https://docs.scipy.org/doc/scipy-0.14.0/reference/tutorial/linalg.html\n",
    "- Rotinas de Gráficos Dispersos Compactados(scipy.sparse.csgraph): https://docs.scipy.org/doc/scipy-0.14.0/reference/tutorial/csgraph.html)\n",
    "- estruturas de dados espaciais e algoritmos (scipy.spatial): https://docs.scipy.org/doc/scipy-0.14.0/reference/tutorial/spatial.html\n",
    "- Estatísticas (scipy.stats):https://docs.scipy.org/doc/scipy-0.14.0/reference/tutorial/stats.html\n",
    "- processamento de imagem multidimensional (scipy.ndimage): https://docs.scipy.org/doc/scipy-0.14.0/reference/tutorial/ndimage.html\n",
    "- Arquivo Entrada e Saída (scipy.io): https://docs.scipy.org/doc/scipy-0.14.0/reference/tutorial/io.html\n",
    "- Ondas (scipy.weave): https://docs.scipy.org/doc/scipy-0.14.0/reference/tutorial/weave.html"
   ]
  },
  {
   "cell_type": "markdown",
   "metadata": {
    "collapsed": true
   },
   "source": [
    "**Raízes de uma Função**\n",
    "\n",
    "Encontrar uma raiz usando o Newton-Raphson e método secante. Sintaxe:\n",
    "```python\n",
    "optimize.newton(funcao, x_inicial, fprime=None, args=(), tol=1.48e-08, maxiter=50, fprime2=None)\n",
    "\n",
    "```\n",
    "obs: fprime é a derivada da função, quando não passada o método da secante é utilizado"
   ]
  },
  {
   "cell_type": "code",
   "execution_count": 13,
   "metadata": {
    "collapsed": false
   },
   "outputs": [],
   "source": [
    "@pyimport scipy.optimize as sco"
   ]
  },
  {
   "cell_type": "code",
   "execution_count": 15,
   "metadata": {
    "collapsed": false,
    "scrolled": true
   },
   "outputs": [
    {
     "data": {
      "text/plain": [
       "2.0"
      ]
     },
     "execution_count": 15,
     "metadata": {},
     "output_type": "execute_result"
    }
   ],
   "source": [
    "# cálculo da raiz utilizando o método de Newton\n",
    "sco.newton(x -> x^2  -4 , 5)"
   ]
  },
  {
   "cell_type": "markdown",
   "metadata": {},
   "source": [
    "**Integração Numérica**\n",
    "\n",
    "Calcula a integral numérica de uma função. Sintaxe:\n",
    "```python\n",
    "integrate.quad(funcao, limite_inferior, limite_superior, args=(), full_output=0, epsabs=1.49e-08, epsrel=1.49e-08, limit=50, points=None, weight=None, wvar=None, wopts=None, maxp1=50, limlst=50))\n",
    "```"
   ]
  },
  {
   "cell_type": "code",
   "execution_count": 16,
   "metadata": {
    "collapsed": true
   },
   "outputs": [],
   "source": [
    "@pyimport scipy.integrate as sci"
   ]
  },
  {
   "cell_type": "code",
   "execution_count": 17,
   "metadata": {
    "collapsed": false,
    "scrolled": true
   },
   "outputs": [
    {
     "data": {
      "text/plain": [
       "(293.33333333333337,3.375663205707763e-12)"
      ]
     },
     "execution_count": 17,
     "metadata": {},
     "output_type": "execute_result"
    }
   ],
   "source": [
    "sci.quad(x -> x^2 - 4, 0, 10)"
   ]
  },
  {
   "cell_type": "markdown",
   "metadata": {},
   "source": [
    "**Interpolação ScyPy**"
   ]
  },
  {
   "cell_type": "code",
   "execution_count": 18,
   "metadata": {
    "collapsed": true
   },
   "outputs": [],
   "source": [
    "@pyimport scipy.interpolate as scint"
   ]
  },
  {
   "cell_type": "code",
   "execution_count": 20,
   "metadata": {
    "collapsed": false,
    "scrolled": true
   },
   "outputs": [
    {
     "data": {
      "text/plain": [
       "PyObject <scipy.interpolate.interpolate.interp1d object at 0x7fa68b5ca470>"
      ]
     },
     "execution_count": 20,
     "metadata": {},
     "output_type": "execute_result"
    }
   ],
   "source": [
    "fsp = scint.interp1d(x, y, kind =\"cubic\")\n",
    "fln = scint.interp1d(x, y, kind = \"linear\")\n",
    "fqd = scint.interp1d(x, y, kind = \"quadratic\")\n",
    "fsln = scint.interp1d(x, y, kind = \"slinear\")"
   ]
  },
  {
   "cell_type": "code",
   "execution_count": 21,
   "metadata": {
    "collapsed": true
   },
   "outputs": [],
   "source": [
    "# dados\n",
    "x = [0.0, 1.0, 2.0, 3.0, 4.0, 5.0, 6.0, 7.0, 8.0, 9.0, 10.0]\n",
    "y = [0.5, 1.0, 4.0, 6.0, 8.0, 8.5, 8.8, 9.0, 9.1, 9.2, 9.3];"
   ]
  },
  {
   "cell_type": "code",
   "execution_count": 22,
   "metadata": {
    "collapsed": false
   },
   "outputs": [
    {
     "data": {
      "text/html": [
       "<img src=\"data:image/png;base64,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\" />"
      ]
     },
     "execution_count": 22,
     "metadata": {},
     "output_type": "execute_result"
    }
   ],
   "source": [
    "using Plots\n",
    "pyplot()\n",
    "\n",
    "scatter(x, y, label = \"Pontos\")\n",
    "plot!(xvals, fsp(xvals), label = \"Spline Cubic\")\n",
    "plot!(xvals, fln(xvals), label = \"Linear\")\n",
    "plot!(xvals, fqd(xvals), label = \"Quadratic\")\n",
    "plot!(xvals, fsln(xvals), label = \"Slinear\")"
   ]
  }
 ],
 "metadata": {
  "anaconda-cloud": {},
  "kernelspec": {
   "display_name": "Julia 0.5.0",
   "language": "julia",
   "name": "julia-0.5"
  },
  "language_info": {
   "file_extension": ".jl",
   "mimetype": "application/julia",
   "name": "julia",
   "version": "0.5.0"
  }
 },
 "nbformat": 4,
 "nbformat_minor": 0
}
