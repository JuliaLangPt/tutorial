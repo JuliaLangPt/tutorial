{
 "cells": [
  {
   "cell_type": "markdown",
   "metadata": {},
   "source": [
    "# INTERFACE COM PYTHON"
   ]
  },
  {
   "cell_type": "markdown",
   "metadata": {},
   "source": [
    "Aqui estão alguns pontos que diferem Julia e Python. \n",
    "\n",
    "- Os índices de uma matriz/vetor em Julia começam a partir de 1, como Fortran e R, em Python começa em 0\n",
    "- Como Python e muitas outras linguagens de script, Julia usa `#` para comentários de uma linha. Ela também permite usar `# = = e #` para comentários multi-linha, como `/* e */` no C.\n",
    "- Funções terminam com `\"end\"` ao contrário de Python que não há necessidade de usar.\n",
    "- Os blocos são recuados como em Python, mas não há nenhuma vírgula no final da primeira linha, e não existe uma instrução final para fechar o bloco.\n",
    "- Julia usa `elseif` tal como Perl, Python usa `elif`.\n",
    "- Julia usa colchetes para declarar um dicionário, vetores e matrizes. Python usa `vector([])` para vetores, `matrix([])` para matrizes e `{'key': valor}` para dicionários.\n",
    "- Julia, assim como Python 3, retorna 2.5 quando executado 5/2.\n",
    "- O número `3 + 4i` complexo será exibido `3 + 4im`  em Julia e `3 + 4j` em Python.\n",
    "- Em Julia um String é contido entre aspas duplas. Python pode usar aspas duplas ou simples.\n",
    "- Julia usa o nome `\"function\"` para definir uma função, semelhante ao JavaScript e R, Python usa `\"def\"`.\n",
    "- Você pode acessar o último elemento de uma matriz com `\"end\"`, não com -1 como em Perl e Python.\n",
    "\n",
    "Adaptado de: [Julia for Python programmers](http://www.johndcook.com/blog/2015/09/15/julia-for-python-programmers)"
   ]
  },
  {
   "cell_type": "markdown",
   "metadata": {},
   "source": [
    "Julia permite utilizar os pacotes de Python e suas bibliotecas de forma prática através da chamada `PyCall`. A maneira mais fácil para trabalhar com `PyCall` é deixar o `Conda.jl` gerenciar os pacote do `Python` independentemente das versões instaladas em seu sistema:\n",
    "```julia\n",
    "ENV[\"PYTHON\"]=\"\"\n",
    "Pkg.build(\"PyCall\")\n",
    "# isto será feito apenas uma vez, e será lembrado nas outras utilizações.\n",
    "```\n",
    "Caso queira usar sua própria versão do Python instalado no sistema (melhor opção caso use o anaconda) , informe o PATH (ex: `/home/jmarcellopereira/anaconda2/bin/python2.7`) como descrito abaixo:\n",
    "```julia\n",
    "ENV[\"PYTHON\"] = \"diretorio no qual python está instalado\"\n",
    "Pkg.build(\"PyCall\")\n",
    "```\n",
    "OBS: É importante somente este `notebook` funcionando para que o processo ocorra bem. Caso ocorra erro do tipo: `\"LOCKERROR: It looks like conda is already doing something.\"`  Encerre os outros notebooks e execute o comando novamente."
   ]
  },
  {
   "cell_type": "code",
   "execution_count": 1,
   "metadata": {
    "collapsed": false,
    "scrolled": false
   },
   "outputs": [
    {
     "name": "stderr",
     "output_type": "stream",
     "text": [
      "INFO: Building PyCall\n",
      "INFO: PyCall is using /home/jmarcellopereira/anaconda2/bin/python2 (Python 2.7.12) at /home/jmarcellopereira/anaconda2/bin/python2, libpython = /home/jmarcellopereira/anaconda2/lib/libpython2.7\n"
     ]
    }
   ],
   "source": [
    "ENV[\"PYTHON\"]=\"/home/jmarcellopereira/anaconda2/bin/python2\"\n",
    "Pkg.build(\"PyCall\")"
   ]
  },
  {
   "cell_type": "markdown",
   "metadata": {},
   "source": [
    "Para importar um módulo do Python use a sintaxe:\n",
    "```julia\n",
    "@pyimport modulo as nome\n",
    "```"
   ]
  },
  {
   "cell_type": "markdown",
   "metadata": {},
   "source": [
    "## UTILIZANDO NUMPY E SYMPY\n",
    "\n",
    "`NumPy` é um módulo de extensão de Python que fornece uma operação eficiente em matrizes de dados homogêneos. Ele permite que python trabalhe a manipulação de dados numéricos. `SciPy` é um conjunto de ferramentas científicas e numéricos para Python de código aberto (licença BSD). Atualmente ele suporta funções especiais, integração, calculo de equações diferenciais (ODE), otimização de gradiente, ferramentas de programação paralela, um compilador de expressão para C ++ para execução rápida, e outros."
   ]
  },
  {
   "cell_type": "markdown",
   "metadata": {},
   "source": [
    "### BIBLIOTECAS NUMPY\n",
    "\n",
    "Sintaxe:\n",
    "```julia\n",
    "using PyCall\n",
    "@pyimport numpy as nome_alias\n",
    "```"
   ]
  },
  {
   "cell_type": "markdown",
   "metadata": {},
   "source": [
    "**Interpolação linear unidimensional com NumPy**"
   ]
  },
  {
   "cell_type": "code",
   "execution_count": 65,
   "metadata": {
    "collapsed": false
   },
   "outputs": [],
   "source": [
    "using PyCall\n",
    "@pyimport numpy as np"
   ]
  },
  {
   "cell_type": "code",
   "execution_count": 66,
   "metadata": {
    "collapsed": false
   },
   "outputs": [],
   "source": [
    "# dados\n",
    "x = [0.0, 1.0, 2.0, 3.0, 4.0, 5.0, 6.0, 7.0, 8.0, 9.0, 10.0]\n",
    "y = [0.5, 1.0, 4.0, 6.0, 8.0, 8.5, 8.8, 9.0, 9.1, 9.2, 9.3];"
   ]
  },
  {
   "cell_type": "code",
   "execution_count": 67,
   "metadata": {
    "collapsed": false
   },
   "outputs": [
    {
     "data": {
      "text/plain": [
       "8.65"
      ]
     },
     "execution_count": 67,
     "metadata": {},
     "output_type": "execute_result"
    }
   ],
   "source": [
    "# calcular valor para x = 5.5\n",
    "np.interp(5.5, x, y)"
   ]
  },
  {
   "cell_type": "code",
   "execution_count": 68,
   "metadata": {
    "collapsed": false
   },
   "outputs": [],
   "source": [
    "xvals = 0:0.1:10\n",
    "yinterp = np.interp(xvals, x, y);"
   ]
  },
  {
   "cell_type": "code",
   "execution_count": 71,
   "metadata": {
    "collapsed": false,
    "scrolled": true
   },
   "outputs": [
    {
     "data": {
      "text/html": [
       "<img src=\"data:image/png;base64,iVBORw0KGgoAAAANSUhEUgAAAZAAAAEsCAYAAADtt+XCAAAABHNCSVQICAgIfAhkiAAAAAlwSFlzAAAPYQAAD2EBqD+naQAAIABJREFUeJzt3XlcVPX+P/DXLMAwbKPggguCGwKKgiiilnpTNJdRIK9aWkp1NZduv65a39u30Cy/X73X+83rcksvmTcTtZyQLBFtEzTUGCVTwF3MHWWdYZnl8/tDJVmFw/I5Z+b9fDx4FMPMmdfIy3l7ljlHxhhjIIQQQhpJzjsAIYQQaaIBQgghRBBlaz1RXl4e9u/fD19fXzg7O7fW0xJCCGkGpaWluHz5MsaOHQsvL6/7N7JWsm3bNgaAvuiLvuiLviT8tW3btsr39VZbA/H19QUAbNu2DQEBAY+9/2uvvYYPPvighVMR0ryot0SKGtLbrKwszJw5s/K9HGjFTVgPN1sFBAQgNDT0sffXaDQNuh8hYkK9JVLUmN4+ugtCtDvRKyoqeEcgpNGot0SKhPa21dZA6pObm4u8vLwqtx0/fhx6vZ5TItIQXl5e8PHx4R1DVE6ePMk7AiGNJrS33AdIbm4uAgICYDQaa/xs4MCBHBKRhlKr1cjKyqIh8gh/f3/eEQhpMJ1Oh+Ur3sftvLvoHzIQcW+/hejo6AY/nvsAycvLg9FobPDOdSIOD3eo5eXl0QB5xLx583hHIKRBdDodYmJiIAsaAxa9EqfOHEBMTAx2797d4CHCfYA81NCd64SI2YwZM3hHIATMagUrNcBSUgBrSQEsJYWwFj/4/wf/df7xO3z3UiScNB0wq9szuDj6z5CtnYB331spvQFCCCH24OFmo7M52ejt36dBm40YY2DlpbCWFFYOBWvxg8Hw8LaHA6KkANaSQsBqrboQuQJyVw8oXDWQu3rg4p0C3PEeiOttI3HdwQuQycCCIpGzd1mDXwsNEEKaUXx8PF588UXeMYhIPbrZyGHiO7hz4VvEzZsNj3tXMSQ46PcBUFzwyLC4/1+Yqh0pJZNBrnaD3E1TORSU7btU/r/c1QMKtzaVQ0Pm7AKZ/PcDbzdtTsGpK1fABk8GZDKAMchOp8C/EbsSaIDU4eEpV1QqFUwmE+bPn4/58+cLWlZmZiays7Mxbdq0Zk5JxEav19MAsVPMYoHVWPTImsHvm4usJYWwFBfA9fAhHHo5Ep6uLnC3fg90kgMYCvy6D/m/7oNMpf79jd/FA45dej4YBhoo3DS/r0G4aSBXu0OmUAjOG/f2W/eH2doJYEGRkJ1OATtzEHE6XYOXIdkBYrFYkJKSgpycHAQFBeGpp56CXN58H2uRyWTYtWsX+vXrh9zcXAQHB+PJJ59E3759G72sEydOYM+ePTRA7MCGDRt4RyC1ELzZqLSkchhUDobiAlgMhVU3GRUXwmosAqpfHUPp8PsbvosHsm/ew63Og3C33VO4q/RAnsIDdzO+QUnKBly4fhMyB8cW/FOoKjo6Grt378a7761Ezt5l8O8TgDidDlFRUQ1ehiQHSF5eHkaPHYdMfQbkjipYK8oweEgEUpL3wcPDo9me5+GlUnx8fODv74+zZ88iOTkZn3zyCRQKBYKDg7Fx40a4ublh+fLlyMrKgtFoxIULF+Dt7Y0vvvgCJpMJcXFxKCoqQmhoKIYMGYKNGzdi//79+Otf/wqLxYI2bdpg48aNCAgIwPnz5zF79mwYDAZYrVZMnjwZ7777brO9JkLszaObjVST3kb+he+wYn4sNHevILxf4O+bjAyFD9YYft90BIu56sLkcshdPB6sDWggd28Lh07d7w8IVw8oXDzub1J68L3MSQ2ZTFb58PiP9uHU1ctgg6N+32x08h0E+3Rv1eHxUHR0dKMO261OkgPkjTfewK/nLgNLvoe151Ag5wdkfDgV77zzDtauXdvsz3fq1Cnk5OTg+vXr2LJlC9LT0+Hm5oa5c+fizTffrPxX57Fjx6DX66HRaDBjxgx89NFHeOONN/Duu+9iz5490D1YNbxz5w6ee+45HDp0CIGBgdi+fTueeeYZnD59GuvXr8ekSZPwxhtvAAAKCgqa/fUQYiuY2VRlJ/LDN/6Hm4yshkJ4/JSGw3+KhJdaBTX7AfCWAxgCnN6P/NP77+9HeLDfQOGmgdKrU+X/V246ejAY5M6uVfYjNFZzbDYSE0kOkB27Podl5KtAr2H3b+gzCpZhL2L7joRmHSDTpk2DSqWCi4sLPv74Yxw5cgTTpk2Dm5sbAOCVV17BH//4x8r7jxs3DhqNBgAQERGBX3/9tdblHj16FMHBwQgMDAQAPPvss1i4cCGuX7+OJ598EkuXLkVxcTFGjBiB0aNHN9vrIaQ1CdpsZLXAaiyucoTRo/sSqu5gLgQrLamxDJmjCnK3NlA82JGcef0ubncOR16HMbir8ECeUoO7x7+CIWUdLt+6A5mi9d4Gm2OzkZhIcoAwxgB5tZ1HcjmszFr7AwR6uA/koSNHjlT5+aOrpgCgUqkq/1+hUMBsrrb6W4+Hm8uio6MxbNgwHDhwAOvXr8cHH3yAr7/+Wkh8woFWq0VSUhLvGNw9utnIddJ/o/ji9/ifhS9Ck3cZg/v2qfswVEMRUP3vscIBCjePyrUEpac35N36VB5h9OjagtzVA3JHVZWHb924F6d+uwQWrv19s1HmXxHcrUerDo+HmrrZqCUI7a0kB8gzMdHYvudDWPpNALqFABePQnH4Y0ybNb1Zn6f65eJHjx6NxYsX4/XXX4erqys++ugjjB079rHLcXd3R2FhYeX3Q4YMwalTp3DmzBkEBgZix44d6NKlCzp16oTz58+jR48emDlzJgYNGoRhw4Y162siLWvhwoW8I3BjNRbDdPMKTDeu4FbCWuycFQn/dh7wtPz4YLNROHAmBQVZByF3cX9w+On9weDg3e33o40e7nR+MBiq70doLFvbbNQShPZWkgPkb6tX49jxDOS8Hw6lW1uYi+8hcEAI3nvvvWZ7jtoKO27cOJw+fRpDhgypshP9cZ566imsWbMGAwYMwNChQ7Fx40Z89tlnmDVrVuVO9C+++AIA8MUXX2Dbtm1wdHQEYwwfffRRs70m0vIiIyN5R2hx1vJSmG/mPhgWl2G6eQXmG1dgKXxwQlS5HAFqhixVB3zSdjQuOnXGbWUb3D22B4bktfgt7y5k1bcgtCBb22zUEoT2Vsaq/zO7hej1egwcOBAZGRlVTllS1+2PYzKZkJSUhOzsbPTt2xcTJkyAUinJeShJQn9vRDqYqQKm27/BfONy5aAw3bwCy92b9+8gk0Hh2REOHX3h4N0NDh27wcHbF8r2nTFgUAROmTzBXt37+2ajtRMQrMrHyYyfeb4sIlBtf+cl+47r4OCAmJgY3jEIkTxmMcN85xpMN+6vUZgfrFmY825U7o9QaNpB2bEbnIOHwcHbFw4du0HZwQdyJ1Wty6TNRvZBsgOEEDFKTEzElClTuD1/fUc+MasFlru3HqxNXL4/MG5egfn2b5Wfd5C7tYGDdzeoAsKgfDAoHDp2g9zZpVE5aLORtAjtLQ0QQppRQkICtwHy6JFPHbVvwutGKlLe/wu6Z38Pb0cG862rYKZyAIBM7QqHjr5w8guC69Dx9zc9dewGhWvzfRBXjEcbkdoJ7S0NEEKa0c6dO7k8r7ngDg599HesmRqJiG4d0NV0GOgoR4m5N347fwY+YyZAHfZU5b4KuXvbJh3ZRGyL0N7SACFEgizF+Sg/l1n5Zc67jsUB7jhjcsV+tyFId+mLX1U9cO3Hz6DauxylH3/LOzKxQTRACJEAi6EIFed/Qdn5X1B+7iTMN3MBAMr2XeHUJxTuPedg7Mv/D4dLrWCvvvTI6bkPNOr03IQ0Bg2QOvj5+WHPnj0IDg6u8z579uyBt7c3Bg8e3IrJALlcjoKCAri7uwt6/LFjx7B48WKo1Wp06tQJmzdvhqIJp4Umzc9aZkD5hV8r1zBM1y8CjEHh6Q1Vr/5wHzMDTj2DofDwrHzM//uvvyKNjnwirYgGSBMkJiZiwIABggaI1WoVfPr5pm67Hjx4MA4dOtSkZZDazZkzB1u2bGn046zlZai4dBrl5zJRdi4Tpt/OAVYrFBovOPUaANcnJ8OpV38o23aocxl05BMRSmhvaYDU4eGb9KhRoxAWFoajR4/ixo0bGDNmDDZu3Ih9+/YhKSkJBw8exNatW7Fw4ULExsZi27ZtWL9+PcxmM1xdXbFu3Tr069cPW7duxdatW9G2bVucO3cOmzZtwptvvol+/fohPT0dBQUF0Gq1+Pvf/w4AuHDhAubNm4fbt29DoVAgLi4OkydPBlD1FCtLlizBoUOHYDKZ4O7ujs2bN6NXr14AgJ9++qnyxIwAsGLFCkyaNAlLlizBjz/+CLPZXOMxdZ1mnjRMQz/Ry0wVKL+cdX8N43wmKq7kABYz5G5t4NQzGC4R46Dq2R8KL+9G/YOBjnwiQgg+gwJrJRkZGQwAy8jIaNDtvPn5+bHMzEw2cuRIFh0dzaxWKystLWV+fn4sPT2dMcbY7Nmz2dq1aysfc/jwYTZ+/HhWUVHBGGMsNTWVBQUFMcYY++STT5iLiws7d+5c5f1HjhzJRo8ezSwWCzMajSwsLIwlJCQwxhgLDw9nmzdvZowxdu7cOebp6clyc3MZY4zJZDJWWFjIGGMsLy+vcnk7duxg48aNY4wxdu/ePdahQwd2+PDhyp/n5+fX+5jbt28zT09Pdvr0acYYY5999hkLDAys9c9HrL83Xnbv3s2CB4QylbOaBQ8IZbt3767yc6vZxMounmaF+7ez2+vfYFcXT2JX/zyWXfuvZ9id+OWs+NAeVnHjCrNarZxeASH1q+3vvCTWQMx5N2Ct5bTNDSF3doXSy7tJzz9t2jTIZDKoVCoMGDAAFy5cQHh4eI377dmzB7/88gvCw8Mr1xIKCgpQXn7/2PuhQ4eiZ8+eVR7z/PPPQy6Xw9nZGTNnzsTBgwcxceJE6PV6xMbGAgB69uyJ4cOHIzU1Fc8++2yVx+/fvx/r169HcXExrFYr8vPzAdxf++jTpw+GDh1aed+Hp5qv6zG1nWZ+wYIFuH79Ojp16tSkP0Nb9ujnL9jEZTh15gCmPhODb7Z8iKFd26LsbCYqLp0GKy+FTKWGU49+8Bj/Apx6DYBDJ78mXV+CEJ5EP0AsJYW4+f6LNU/x3FByObzfTWjSB6Qaepp2xhheeOGFOk/q6Orq+tjneri5ovpmi9o2Y1y9ehWLFi1CRkYGfH19cerUKYwYMaLe5Qt5DKnf8hXvQxY0Bj3m/gtPGk5iWO8hCB8hg8eJL1F02gmO3fvCbcwMqHr3h0Pnnk26jjUhYiL6AaJw9UDHt+KbtAYiZHiwBpxjsvpp2rVaLWbOnIm5c+eia9euYIxVnoCsLtu2bcOMGTNgMpmwfft2/OUvf4GrqytCQ0OxZcsWvPjiizh//jwOHz6M9evXV3lsYWEhHB0d0bFjRzDGsG7dusqfDR06FOfOncPhw4cxbNgwMMZQUFBQ72PqO808qR2zmNG9Ig/vPNkL4RcWoEzmgAx1ADaX9sDP33yJ1HO5kCkdeMckpF5paWkYPnx4ox8n+gECoMmboIRoyJrArFmzMHv2bCQmJmLBggWIjY3F6tWrERUVBYvFgoqKCkyYMKHeARIQEIBhw4YhPz8fU6ZMqbzC4WeffYa5c+di3bp1kMvliI+PR+fOnatk6Nu3L6ZPn47AwEB4eXlVORWBRqPBl19+iddffx2XLl2Cp6cnVq5ciYkTJ2LatGm1PsbLy6vGaeY///zzJv5J2iZLSQEMPyXDcHgv1o0JQHp+Pub1eAMH3cJRLnOALHECgtt2puFBJGH16tWCBgjtROdo5MiRbM+ePS3+PCkpKWzDhg3Nukx7/b2V555ld7f9jV39y0R2dfEkdjfhH+ybrZsYACYLHM0wdfX9/wJMp9PxjktIgxgMhsfeR7I70W1Va5yLaPny5fj000+xePHiFn8uW8XMJpRmpqEkNQkVl7OgaNMeHk8/D/WQsVC4uONpALtdPenzF0Sy1Gq1oMfRAOHou+++a/HniIuLQ1xcXIs/jy2yFN2D4cg+lBz5Gtaie3Dq1R+ese9A1Te8xhX16PMXxB7RACGkmvLL2TCk7oHxZCpkCgXUYU/B9QktHLx9eUcjRFToAHRCADBzBQzHD+LWP17FnQ9eQ/nlbHhMnAPvZdvQ5o+vNnh4LFmypGWDEtIChPaW1kCIXbMU5KHkyNcwHNkHa0kBnPxD4fnycqgCwmpspmoIHx+fFkhJSMsS2lvRDJCsrCzeEUgjSPn3xRhDxaUzKElNQmlmGmQOjlAPHgPX4ZPg0KFrk5a9aNGiZkpJSOsR2lvuA8TLywtqtRozZ87kHYU0klqthpeXF+8YDcYqymE88SNKUvfA9NsFKNt1hmbKn6AePBpyVeOu+U0IEcEA8fHxQVZWFvLy8nhHIY3k5eUliU025vzbMKTthSE9GVZjMVQBg+Axdw6c/EPpPFSENAH3AQLcHyLV34iys7PRp08fTomI1DHGUH7+FxhSk1B66ifInFRwCR8L1+GToGzXcqdmod4SKRLaW9H+82vp0qW8IxCR0+l06B8yEM5qF/QPGQidTgdreRlKjnyD26tfQd6GN2C6dRWamPnwXv4ZNFFzW3R4ANRbIk1CeyuKNZDaVD9xICGPqn4K9YKLB6D/v/9C6JGtUFoqoAoKh8eUP8Gpd0irfOL/IeotkSKhvRXtAJHCtnXCz8NTqPd9+QO8lrcTozspUGTyxZ5L+ViwaReUnh255KLeEikS2lvRbsIipD5nc7LhETQS23Lj4Fd+DW96L8CgvFF4c18Gt+FBiL0R7RoIIfXp7d8Hz5h/hANTY5rvStxRaiD7dS2C6frthLQa0a6BrFq1incEImL/+/oreL4z8EG2AXd+2ArZ2glgZw4i7r/f4pqLekukSGhvRTtAjEYj7whEpBhjCCs8iwoXDTJu3YNq7zIEO+VDJ4JTqFNviRQJ7a1oN2EtX76cdwQiUqWZqSg//wu6zn0PP/9PGO84VVBviRQJ7a1o10AIqY21ogyFiZuh6jsEqgBxDQ9C7A0NECIpxd9+DktxATRT/sQ7CiF2T7QDhM6NRaoz372J4m93we0PMVB6tewnyoWi3hIpEtpb0Q6Q2NhY3hGIyBTu2QyFiwfcRk/nHaVO1FsiRUJ7K9oBsmzZMt4RiIiU5ehR+stheEx+CXInFe84daLeEikS2ttaj8K6d+8ennrqqcpzCBkMBly6dAm3b9+GRqOpvN+VK1fQo0cPBAcHgzEGmUyG3bt3w8/PT1CYR4WGhjZ5GcQ2MIsZBboP4di9L5xDRvCOUy/qLZEiob2tdYC0bdsWJ06cqPx+zZo1OHToUJXh8ZC7uzv0er2gJyekIUpSv4L59m9o/5d1rXpiREJI/Rq0CSs+Ph4vvfRSrT9jjDVrIEIeZSkuQFHyp3AZOh6OXXrwjkMIecRjB8iRI0dQUFCACRMm1Ppzo9GIQYMGISwsDCtWrGi2gRIfH98syyHSVvj1FsjkCriPf553lAah3hIpEtrbxw6Qjz/+GM8//zzktVz6s1OnTrh27RqOHz+OgwcPIjU1FWvWrBEUpDraLEYqcnNgPJoC9/EvQOHizjtOg1BviRQJ7W29A8RgMGDXrl11HuLl4OAALy8vAIBGo0FsbCxSU1PrfcLx48dDq9VW+YqIiEBiYmKV+02ePBlarbbG4xcsWFBjWur1emi12hrHMsfFxdU4SVhubi60Wi2ys7Or3L5u3TosWbKkym1GoxFarRZpaWlVbk9ISMCcOXNqZJs2bVqN15GSkkKvQ8jr+Oc/kfl/b8LB2w8uQ5+WzOtYtGhR1ddhK78Peh02/To2bNhQ5XUkJCRUeY/28/PD9Ok1D5+XsXq2OcXHx2Pr1q04dOhQrT+/c+cO2rRpA6VSifLycsyaNQuBgYG1HhKm1+sxcOBAZGRk0JEq5LEMxw4gf/satFv0Nzj16Mc7DiF2r7b38HrXQLZs2VJj53lcXBw2bdoEAEhLS0NISAhCQkIQFhYGb29vvPUW39NpE+mzlhlQ+NXHcA4ZQcODEBGr92y81VeFgKpnbYyKiuJ++mxie4r2bwcrN8JDW/uRf4QQcRDtJ9Fr255IbJ/p1lWU/JgIt9HToWzTjnecRqPeEikS2lvRDpCFCxfyjkBaGWMMBbp/QdGmHdxGxfCOIwj1lkiR0N6KdoBERkbyjkBaWdnpdJTn6KGJmguZgyPvOIJQb4kUCe2taAcIsS/MVIGCLzfBqc9AqIKG8I5DCGkAGiBEFIp/0MGSfxuaqHl0vitCJEK0A6T6B3WI7TIX3EHxgQS4jpgChw5decdpEuotkSKhvRXtAElISOAdgbSSwqR4yJzUcB/7LO8oTUa9JVIktLeiHSA7d+7kHYG0gvILv6JU/wM8Js6BXOXCO06TUW+JFAntrWgHCLF9zGpBwe6NcOzWB+pBo3nHIYQ0Eg0Qwo3hyD6Yrl+EJuYVyGo52zMhRNzoby3hwmIoQtE3W6EOj4Sjjz/vOIQQAUQ7QGo7/TCxHUX7/gNmtcBjom39nqm3RIqE9la0A4Q+0Wu7Kq5dhOHwN3AfNxMKtza84zQr6i2RIpv7JPqMGTN4RyAtgDGGgt0boWzfBa5P2N6JB6m3RIqE9la0A4TYptITP6Li4q/QRM+DTFHv1QQIISJHA4S0Gmt5GQr3/BuqfkOh8qerUhIidaIdILVdzIpIW/HBHbAYCqGZ8ifeUVoM9ZZIkdDeinaArF69mncE0ozMeddR/N1uuP3hGSg9O/KO02Kot0SKhPZWtANkx44dvCOQZlSQuAkKNw3cRk/jHaVFUW+JFAntrWgHiFqt5h2BNJOyrJ9R9ms6PCa/DLmjinecFkW9JVIktLeiHSDENjCzCQVffginnsFwHvAE7ziEkGZEA4S0qJLUJJjvXIcm+hW6UBQhNka0A2TJkiW8I5AmshTdQ1HyZ3AZPhEOnfx4x2kV1FsiRUJ7K9oB4uPjwzsCaaLCvVsgUyrhMW4W7yithnpLpEhob0U7QBYtWsQ7AmmC8stZMB47APfxL0Du4sY7Tquh3hIpEtpb0Q4QIl3MakXB7o1w6NIDLhHjeMchhLQQGiCk2RmPHYDp6jlooudDJlfwjkMIaSGiHSDZ2dm8IxABrMYSFO79GOqBo+DUPYh3nFZHvSVSJLS3oh0gS5cu5R2BCFC0/zOwinJ4THqRdxQuqLdEioT2VrQDZP369bwjkEYy3byCktQkuEXOgELjxTsOF9RbIkVCeyvaAUKHQ0oLYwwFug+hbNsBbiOjeMfhhnpLpMjmDuMl0lJ26gjKz56AR9RcyJSOvOMQQloBDRDSZKyiHAWJm6AKHATnoHDecQghrUS0A2TVqlW8I5AGKv5hNyyFd+ExZS7vKNxRb4kUCe2taAeI0WjkHYE0gDn/DooP7ITriCg4tO/COw531FsiRUJ7K9oBsnz5ct4RSAMU7tkMmbMa7pEzeEcRBeotkSKhvRXtACHiV3YuE6UnD8Fj0ouQq+hCSoTYGxogRBBmsaBQ9y84+gZAPfAPvOMQQjgQ7QDJy8vjHYHUQqfToX/IQLwc7o/y65dwok0fyOSirVGro94SKRLaW9H+zY+NjeUdgVSj0+kQExOD3+CJ14b2wc7rwLjZ86DT6XhHEw3qLZEiob0V7QBZtmwZ7wikmuUr3ocsaAwWTxkPmdIJq0Z9ClngaLz73kre0USDekukSGhvRTtAQkNDeUcg1ZzNyUZg8BA8l78f/2j/LO46tAELikROdhbvaKJBvSVSJLS3oh0gRHx6+/fBCsejOOfUFf9pOx5gDLLTKfAPCOAdjRDCgZJ3ACId/5w7DT2yv8OMI5dgvrQestMpYGcOIo72gRBil0S7BhIfH887AnmEtbwUvW5k4p6XL4oN+VDtXYZgp3zodDpERdnv2Xero94SKRLaW9EOEL1ezzsCeURxSgKsxmIEvrIMJ/U/o9RowEn9zzQ8qqHeEikS2lvRDpANGzbwjkAeMN25huIfvoTbH6ZC6dmRdxxRo94SKRLaW9EOECIehYmboHBvA7enpvKOQggRERogpF6lZ46h7PRReEx+GXJHFe84hBARoQFC6sTMJhR++RGcevWHc//hvOMQQkRGtANEq9XyjmD3Sn5MhPnuDWii5kEmk/GOIwnUWyJFQnsr2gGycOFC3hHsmqXwLor2fwbXYRPh0MmPdxzJoN4SKRLaW9EOkMjISN4R7FrhVx9D5uAE96dn8Y4iKdRbIkVCeyvaAUL4Kb90Bsafv4XHxNmQq914xyGEiBQNEFIFs1pQsHsjHLr2gjqc/jVNCKmbaAdIYmIi7wh2yXA0BabfzkMT/QpkcgXvOJJDvSVSJLS3oh0gCQkJvCPYHauxGEV7P4E67A9w8gvkHUeSqLdEioT2VrQDZOfOnbwj2J2i5G1g5gp4THqRdxTJot4SKRLaW9EOENK6TDcuoyTtK7hHPguFhyfvOIQQCaABQsAYQ4HuQyg9veE6YjLvOIQQiaABQlD6y2GUnzsJj6h5kCkdecchhEiEaAfInDlzeEewC9aKMhQmboIqKBzOgYN4x5E86i2RIqG9Fe0AoU/0to7ibz+HpSgfmilzeUexCdRbIkU290n0GTNm8I5g88x3b6L4u8/hNjIKynadeMexCdRbIkVCeyvaAUJaXmHSvyFXu8Etkt70CCGNV+cA8fX1RUBAAEJCQhAaGorPP/+81vvt3bsXAQEB8Pf3xzPPPIOSkpIWC0uaT9nZEyjNTINm0ouQOznzjkMIkaA6B4hcLseuXbtw4sQJ6PV6TJ1a83KmBoMBL730EpKSkpCTkwNvb2+8++67zRIsLS2tWZZDamIWMwp0H8LRLxDOA0fxjmNTqLdEioT2ts4BwhgDY6zeB+/btw+hoaHo1asXAGD+/PnNdiqH1atXN8tySE0laXthvpULTcx8ulBUM6PeEikS2tt694HMmjUL/fv3x8svv4y8vLwaP8/NzUW3bt0qv/f19cXNmzdhtVoFhXnUjh0jfDnuAAAW5UlEQVQ7mrwMUpOlpABF+z6FS8TTcOzSk3ccm0O9JVIktLd1DpDU1FRkZmZCr9fD09MTL7zwguBwQqjV6lZ9PntRtPcTQCaD+/jW/X3aC+otkSKhva1zgHTp0gUAoFAo8Nprr9W6jczHxweXL1+u/P7SpUvw9vaGXF73is348eOh1WqrfEVERNQ4nXBKSkqt1+ldsGAB4uPjq9ym1+uh1WprrCXFxcVh1apVVW7Lzc2FVqtFdnZ2ldvXrVuHJUuWVLnNaDRCq9XWeO0JCQm1fvBm2rRpon4dx5J2wXB0PzyengWFq4dkX4et/D7oddDrEOvrSEhIqPIe7efnh+nTp9dYhozVsqPDaDTCZDLBw8MDAPCPf/wDSUlJ+OGHH6rcr6SkBD179sShQ4fQu3dvLFq0CM7OzrVuT9Pr9Rg4cCAyMjIQGhpa4+ekZTGrFXf++RdYy0vRYfEGyBR0rQ9CSMPV9h5e66rCrVu3MGrUKAwYMAD9+/dHamoq/vOf/wC4PyU3bdoEAHB1dcW///1vTJ48Gb1798a1a9fw9ttvN0vY6tOVNI0x4ztUXM66f6EoGh4thnpLpEhob5W13ejn5we9Xl/rA5YvX17l+4kTJ2LixImCnrw+Pj4+zb5Me2UtM6Dwq3g4D3gSql79ecexadRbIkVCeyvaT6IvWrSIdwSbUZSSAFZqhMfkl3hHsXnUWyJFQnsr2gFCmofp1lWU/JgIt9F/hLJNe95xCCE2hAaIDWOMoeDLj6Dw8ITbqGd4xyGE2BjRDpDqh62Rxis7cwzl2T9DM2UuZI5OvOPYBeotkSKhvRXtAFm6dCnvCJLGzBUo+PJDOPmHQtUvgnccu0G9JVIktLeiHSDr16/nHUHSin/4EpZ7t6GJmkfnu2pF1FsiRUJ7K9oBQodDCmcpyENxSgJcn9DCoSP9ObYm6i2RIps7jJcIV/BVPGSOKriPm8k7CiHEhtEAsTHlF39Facb38Jg4G3JnF95xCCE2TLQDpPpJxcjjMasFBbv/BQef3lAPjuQdxy5Rb4kUCe2taAeI0WjkHUFyDD8lw3TtAjTR8yGr54zIpOVQb4kUCe2taN9lqp9zi9TPaihG0TdboR48Bk6+fXjHsVvUWyJFQnsr2gFCGqcw+VMwsxkeE2ue958QQloCDRAbYLp+CYa0vXAf9xwU7m15xyGE2AnRDpDarsFOamKMIX/3RijbdYLrEzWviEZaF/WWSJHQ3op2gMTGxvKOIAmlJ1NRceHU/QtFKR14x7F71FsiRUJ7K9oBsmzZMt4RRM9aXobCPZuh6hsBVZ+BvOMQUG+JNAntrWgHCF03/fGKv90FS0kBNFP+xDsKeYB6S6RIaG9FO0BI/cx5N1D83edwGxUDpZc37ziEEDtEA0SiCvZshsLFA26jp/OOQgixU6IdIPHx8bwjiFZZdgbKTh2Bh/ZFyJ1UvOOQR1BviRQJ7a1oB4her+cdQZSYxYwC3Ydw7N4XzqEjecch1VBviRQJ7a1oB8iGDRt4RxClktQkmO9cgyZmPl0oSoSot0SKhPZWtAOE/E6n06F/yEB08dTg+hcf4lbHPnDs3J13LEKInaMBInI6nQ4xMTE4ZfLEa9FRqLDKMHrZeuh0Ot7RCCF2jgaIyC1f8T5kQWMQ+PJaTHe5gb/5vILC7iPw7nsreUcjhNg50Q4QrZbO6wQAZ3OywQLH4IX8b3DVoT22tx0HFhSJnOws3tFILai3RIqE9la0A2ThwoW8I4hCb/8+cM05AG1hKnZqxsACOWSnU+AfEMA7GqkF9ZZIkdDeinaAREbSJVkBIO7ttzDJkgWVtRS7Tl2GbO0EsDMHEfffb/GORmpBvSVSJLS3oh0g5L7o6Gi8EzUS+nsm5Cf9L4Kd8qHT6RAVFcU7GiHEzil5ByD1q7h+Ea7FdzBuyQqUfjqMdxxCCKkk2jWQxMRE3hFEwZi+H3JXDVRB4byjkAag3hIpEtpb0Q6QhIQE3hG4Y6YKGH7+FurBYyBT0MqiFFBviRQJ7a1oB8jOnTt5R+Cu9JfDYMYSuESM4x2FNBD1lkiR0N6KdoAQwJCeDMce/eDQrjPvKIQQUgMNEJEy37mO8nOZcBkylncUQgipFQ0QkTIc3Q+ZygXq/k/wjkIIIbUS7QCZM2cO7wjcMIsFhmMpUIf9ATJHJ95xSCPYc2+JdAntrWgHiD1/orcs6xisRflwGUI7z6XGnntLpMvmPok+Y8YM3hG4MfyUDIeuveDYpQfvKKSR7Lm3RLqE9la0A8ReWQryUHbmOK19EEJEjwaIyBiOH4RM6QA1Xe+cECJyoh0gaWlpvCO0Oma1wpC+H84DnoDc2YV3HCKAPfaWSJ/Q3op2gKxevZp3hFZXfv4XWO7eoE+eS5g99pZIn9DeinaA7Nixg3eEVmdIT4ayfVc4+gXxjkIEssfeEukT2lvRDhC1Ws07QquyGIpQmnkYLhHjIJPJeMchAtlbb4ltENpb0Q4Qe2P8+TsADOqwp3hHIYSQBqEBIgKMMRjSk+HcdwgUbhrecQghpEFEO0CWLFnCO0KrqbiSA/ONy/TZDxtgT70ltkNob0U7QHx8fHhHaDXG9GQo2rSHk38I7yikieypt8R2CO2taAfIokWLeEdoFdYyI4z6H+ASPhYyuYJ3HNJE9tJbYluE9la0A8RelJ48BGYqhzqcTsJHCJEWGiCcGX5KhpP/QCjbtOMdhRBCGkW0AyQ7O5t3hBZnun4JFVey4UqfPLcZ9tBbYnuE9la0A2Tp0qW8I7Q4Q/p+yF01UAWF845Cmok99JbYHqG9Fe0AWb9+Pe8ILYqZKmD8+VuoB4+GTOnAOw5pJrbeW2KbhPZWtAPE1g+HLD11BFZjMVzCx/KOQpqRrfeW2CabO4zX1hnSk+HYvS8cOnTlHYUQQgShAcKBOe8Gys+epE+eE0IkTbQDZNWqVbwjtBjD0f2QqVzgPGA47yikmdlyb4ntEtpb0Q4Qo9HIO0KLYBYLDMcOQB02CnJHFe84pJnZam+JbRPaW9EOkOXLl/OO0CLKsn+GtfAu7Ty3UbbaW2LbhPZWtAPEVhl+SoZDl55w7NqLdxRCCGkSGiCtyFJ4F2VnjtLOc0KITRDtAMnLy+MdodkZjh+ETOEAdehI3lFIC7HF3hLbJ7S3tQ6Q8vJyREVFoU+fPggJCcHYsWNx4cKFGve7cuUKlEolQkNDERISgtDQUFy6dElQkOpiY2ObZTliwazW+1cdHPAE5GpX3nFIC7G13hL7ILS3yrp+MHfuXIwbd39Ty4YNG/DSSy/h+++/r3E/d3d36PV6QU9en2XLljX7Mnkqv3AKlrwbcJnxF95RSAuytd4S+yC0t7WugTg5OVUODwAYMmQIrly5UusCGGOCnvhxQkNDW2S5vBjSk6Fs1xmO3YN4RyEtyNZ6S+yD0N42aB/I2rVrMWXKlFp/ZjQaMWjQIISFhWHFihUtNlCkzGooRmlmGlwixkEmk/GOQwghzeKxA2TlypW4cOECVq5cWeNnnTp1wrVr13D8+HEcPHgQqampWLNmTYsElTJjxneA1Qr1oDG8oxBCSLOpd4D8/e9/R2JiIpKTk6FS1fzUtIODA7y8vAAAGo0GsbGxSE1NrfcJx48fD61WW+UrIiICiYmJVe73+uuvQ6vV1nj8ggULEB8fX+U2vV4PrVZb40iCuLi4Gh/Rz83NhVarrXEBlXXr1mHJkiVVbjMajdBqtUhLS6tye0JCAubMmVMj27Rp02q8jpT9+3E64UM494uAwk0j3deRkmIbv48Wfh3vvfeeTbwOW/l90Oto2Ot4mPHh60hISKjyHu3n54fp06fXWAZYHdasWcMGDhzICgoK6roLu337NjOZTIwxxsrKytjUqVNZXFxcrffNyMhgAFhGRkady3vU/PnzG3Q/sSu/ks2u/nksKz1znHcU0gpspbfEvjSkt7W9h9e6BnLt2jUsXrwYhYWFGDVqFEJCQhAREVE5JTdt2gQASEtLQ0hICEJCQhAWFgZvb2+89dZbtS2y0TZs2NAsy+HN8FMyFJp2cPIP4R2FtAJb6S2xL0J7W+thvJ07d4bVaq31AY+eMyUqKgpRUVGCntgeWMtLYdT/ANeR0ZDJFbzjEEJIsxLtJ9FtQemJQ2AVZXAJj+QdhRBCmh0NkBZkSE+GU+8QKNt24B2FEEKanWgHSG1HNEiJ6cZlVFzOgkvE07yjkFYk9d4S+yS0t6IdIAsXLuQdoUkM6fshd/WAc98hvKOQViT13hL7JLS3oh0gkZHS3W/AzBUw/vwt1INGQ6Z04B2HtCIp95bYL6G9Fe0AkbLSU+mwGorouh+EEJtGA6QFGNKT4dg9CA4duvKOQgghLUa0A6T6qQKkwnz3Jspz9LT2Yaek2lti34T2VrQDJCEhgXcEQQxHUyBTqeHc/wneUQgHUu0tsW9CeyvaAbJz507eERqNWS0wHk2BOnQk5E41Tz5JbJ8Ue0uI0N6KdoBIUVnWz7AU5tFnPwghdoEGSDMypO+HQ+cecOjSk3cUQghpcTRAmoml6B7KTqfDZchYuuogIcQuiHaA1HYBFDEzHDsIKJRQDxzFOwrhSGq9JQQQ3lvRDhApfaKXMQZjejLU/YdDrnbjHYdwJKXeEvKQzX0SfcaMGbwjNFjFhVMw512nnedEUr0l5CGhvRXtAJESQ3oylO06w7F7X95RCCGk1dAAaSKrsRjGzDS4DBlHO88JIXZFtAMkLS2Nd4QGMWZ8D1gsUA96incUIgJS6S0hjxLaW9EOkNWrV/OO8FiMMRh+SoaqbzgU7m15xyEiIIXeElKd0N6KdoDs2LGDd4THMl09B9P1i3AJH8s7ChEJKfSWkOqE9la0A0StVvOO8FiG9GQoPLygCgjjHYWIhBR6S0h1Qnsr2gEidtbyMhgzfoA6PBIyuYJ3HEIIaXU0QAQqPXkIrKIULuH0wTFCiH0S7QBZsmQJ7wj1MqQnw6l3CJSeHXlHISIi9t4SUhuhvRXtAPHx8eEdoU6mm7mouHQGLhF01UFSlZh7S0hdhPZWtANk0aJFvCPUyXB0P+QuHnDuO4R3FCIyYu4tIXUR2lvRDhCxYmYTjMcOQj3oKciUjrzjEEIINzRAGqn0159gNRTCZQh99oMQYt9EO0Cys7N5R6iV4adkOPoFwqFjN95RiAiJtbeE1Edob0U7QJYuXco7Qg3muzdRfvYEXIbQznNSOzH2lpDHEdpb0Q6Q9evX845Qg+HYAcgcneE84AneUYhIibG3hDyO0N6KdoCI7XBIZrXAeHQ/1KEjIHdy5h2HiJTYektIQ9jcYbxiU5ath6Ugjz77QQghD9AAaSBjejIcOvnBoWtv3lEIIUQURDtAVq1axTtCJUtxPkp/TaerDpLHElNvCWkoob0V7QAxGo28I1QyHjsIyOVQh/2BdxQicmLqLSENJbS3oh0gy5cv5x0BwIOrDqYnQ91/OORqN95xiMiJpbeENIbQ3op2gIiBTqfDc6MiYL5zDa/GfwmdTsc7EiGEiAYNkDrodDrExMQgvIMHLpmdsT3PHTExMTRECCHkAdEOkLy8PK7P//eVK/HS02MwoZMTdnSaCvbqXsgCR+Pd91ZyzUXEjXdvCRFCaG9FO0BiY2O5PK/p5hXkf74eW8Lb4L96KfCN+1D8p+0EQCYDC4pETnYWl1xEGnj1lpCmENpbZTPnaDbLli1rtediVgvKfj2KktQklJ87Cbl7G3x5rQz/l+uM2/NeB2QygDHITqfAPyCg1XIR6WnN3hLSXIT2VrQDJDQ0tMWfw2oohuFoMkpSv4Il/zYcu/VB21lvwLn/cPRO+gq3Y2IgWzsBLCgSstMpYGcOIo72gZB6tEZvCWluQnsr2gHSkiquX4ThUBKMGd+DWa1QhzwJ1ye1cPTxr7xPdHQ0du/ejXffW4mcvcvg3ycAcTodoqKiOCYnhBDxsJsBwiwWlJ46gpLUJFRcOAWFhxfcxkyHS8TTULhpan1MdHQ0oqOjWzkpIYRIg2h3osfHxzfLciwlBSg6sAM3V7yAe5+8DzAr2s7+Kzq+8wncI2fUOTwIEaK5ektIaxLaW9EOEL1e36THV1w9h3vb1+DGslkoStkOp96haL94Pdq/ugbqAU9CprCblS/SipraW0J4ENpb0b6LbtiwodGPYWYTSjPTUJL2FSounYGiTXu4j5sFl4hxULi4t0BKQqoS0ltCeBPaW9EOkMawFOfDcPgblBz5Gtaie3Dq1R+esW9DFTQEMoWCdzxCCLFJkh4gFVdyUJK6B8YThyCTK6AO+wNcn9DCoZMf72iEEGLzJDdAmLkCxpOpKDmUBFNuDhSeHeExcQ5cwiPpbLmEENKKRLsTXavVVvneUngXhfs+xY3lLyB/298gd3aB50vL0PGteLiNiqHhQUShem8JkQKhvRXdGohOp8PyFe8jK+sM+ocMxN9efRED5YUozUyDTOkA9eDRcB2uhUNHYReBJ6QlLVy4kHcEQhpNaG9FNUAenkJd1W8MpkybhzmKMwjMTEK+yh0dJr8Ml8FjIHd24R2TkDpFRkbyjkBIowntragGyPIV70MWNAabJw3ESMMJfOcahucPHUN+yUWc+N8pvOMRQgh5hKgGyNmcbLCJy/B+x8l4WzYPl506AR0/gGrvMt7RCCGEVCOqnei9/ftAduYAsp187w8POoU6kZjExETeEQhpNKG9FdUAiXv7LbDTByBbOwE48MH9U6mfOYi4/36LdzRCGmTVqlW8IxDSaEJ7K6oB8vAU6sFO+ZB/+RaCnfKho1OoEwlp164d7wiENJrQ3opqHwjw+ynUtVotkpKSeMchhBBSB1GtgRBCCJEOGiCEEEIEabVNWKWlpQCArKysBt3/2LFjdG0FIjnUWyJFDentw/fuh+/lAADWSrZt28YA0Bd90Rd90ZeEv7Zt21b5vi5jjDG0gry8POzfvx++vr5wdnZujackhBDSTEpLS3H58mWMHTsWXl5eAIBWGyCEEEJsC+1EJ4QQIggNEEIIIYKIboCcP38ew4YNg7+/P8LDwxt81BYhPPn6+iIgIAAhISEIDQ3F559/zjsSITX8+c9/hp+fH+RyOX755ZfK2+/cuYOnn34avXv3RnBwMFJTUxu0PNENkLlz52LevHnIycnB0qVL8cILL/CORMhjyeVy7Nq1CydOnIBer8fUqVN5RyKkhqlTp+Lw4cPw9fWtcvubb76JiIgInD17Fh9//DGeffZZWCyWxy5PVAPkzp07yMjIwHPPPQcAiImJwdWrV3Hx4kXOyQipH2MMdDwKEbvhw4ejU6dONbq6a9cuzJs3DwAQFhaGzp0748cff3zs8kQ1QK5evQpvb2/I5b/H8vHxQW5uLsdUhDTMrFmz0L9/f7z88svIy8vjHYeQBrl37x7MZjPat29feVu3bt0a9L4rqgFCiFSlpqYiMzMTer0enp6etOmV2AVRDZCuXbvixo0bsFqtlbfl5ubCx8eHYypCHq9Lly4AAIVCgddeew1paWmcExHSMG3btoVSqcTt27crb7t8+XKD3ndFNUDatWuH0NBQfPrppwCAL774Al27dkX37t05JyOkbkajEYWFhZXfb9++HSEhIRwTEdI4U6dOxb/+9S8AwPHjx3H9+nWMGDHisY8T3SfRz549i9mzZ+Pu3bvw8PDAli1bEBQUxDsWIXW6dOkSYmJiYLVawRhD9+7dsXbtWlpzJqIzb948fP3117h16xY8PT3h5uaGs2fP4vbt25g1axYuXboEJycnbNiwAU8++eRjlye6AUIIIUQaRLUJixBCiHTQACGEECIIDRBCCCGC0AAhhBAiCA0QQgghgvx/z/kJhcBkl2AAAAAASUVORK5CYII=\" />"
      ]
     },
     "execution_count": 71,
     "metadata": {},
     "output_type": "execute_result"
    }
   ],
   "source": [
    "using Plots\n",
    "pyplot()\n",
    "\n",
    "scatter(x, y, label = \"Pontos\")\n",
    "plot!(xvals, yinterp, label = \"Interpolação\", size = (400,300))"
   ]
  },
  {
   "cell_type": "markdown",
   "metadata": {},
   "source": [
    "**Ajuste de curvas Polinomial com NumPy**\n",
    "\n",
    "```julia\n",
    "coeficientes_pol = numpy.polyfit(vetor_x, vetor_y, grau_polinomio)\n",
    "\n",
    "nome_função_ajuste = numpy.poly1d(coeficientes_pol)\n",
    "```"
   ]
  },
  {
   "cell_type": "code",
   "execution_count": 72,
   "metadata": {
    "collapsed": false,
    "scrolled": true
   },
   "outputs": [
    {
     "data": {
      "text/plain": [
       "6-element Array{Float64,1}:\n",
       " -0.00203526\n",
       "  0.0573499 \n",
       " -0.569384  \n",
       "  2.16782   \n",
       " -0.855679  \n",
       "  0.438636  "
      ]
     },
     "execution_count": 72,
     "metadata": {},
     "output_type": "execute_result"
    }
   ],
   "source": [
    "coeficientes_pol = np.polyfit(x, y, 5)\n",
    "coeficientes_pol"
   ]
  },
  {
   "cell_type": "code",
   "execution_count": 76,
   "metadata": {
    "collapsed": false
   },
   "outputs": [
    {
     "data": {
      "text/plain": [
       "PyObject poly1d([ -2.03525641e-03,   5.73499417e-02,  -5.69383741e-01,\n",
       "         2.16782488e+00,  -8.55678904e-01,   4.38636364e-01])"
      ]
     },
     "execution_count": 76,
     "metadata": {},
     "output_type": "execute_result"
    }
   ],
   "source": [
    "# transformando os coeficientes em um polinômio\n",
    "pol_ajuste = np.poly1d(coeficientes_pol)"
   ]
  },
  {
   "cell_type": "code",
   "execution_count": 77,
   "metadata": {
    "collapsed": false
   },
   "outputs": [
    {
     "data": {
      "text/plain": [
       "0.48510093422195993"
      ]
     },
     "execution_count": 77,
     "metadata": {},
     "output_type": "execute_result"
    }
   ],
   "source": [
    "# testando a função ajuste\n",
    "pol_ajuste(0.5)"
   ]
  },
  {
   "cell_type": "code",
   "execution_count": 75,
   "metadata": {
    "collapsed": false
   },
   "outputs": [
    {
     "data": {
      "text/html": [
       "<img src=\"data:image/png;base64,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\" />"
      ]
     },
     "execution_count": 75,
     "metadata": {},
     "output_type": "execute_result"
    }
   ],
   "source": [
    "using Plots\n",
    "pyplot()\n",
    "xvals = 0:0.1:10\n",
    "\n",
    "scatter(x, y, label = \"Pontos\")\n",
    "plot!(xvals, pol_ajuste.(xvals), label = \"Função Ajuste\",  size = (400,300))"
   ]
  },
  {
   "cell_type": "markdown",
   "metadata": {},
   "source": [
    "### BIBLIOTECAS SCIPY\n",
    "\n",
    "Sintaxe:\n",
    "```julia\n",
    "using PyCall\n",
    "@pyimport scipy.biblioteca as nome_alias\n",
    "```\n",
    "Bibliotecas Importantes:\n",
    "\n",
    "- Funções especiais (scipy.special): https://docs.scipy.org/doc/scipy-0.14.0/reference/tutorial/special.html   \n",
    "- Integração (scipy.integrate) :\n",
    "- Optiização (scipy.optimize)  : https://docs.scipy.org/doc/scipy-0.14.0/reference/optimize.html#module-scipy.optimize \n",
    "- Interpolação (scipy.interpolate): https://docs.scipy.org/doc/scipy-0.14.0/reference/tutorial/interpolate.html\n",
    "- Transformada de Fourier (scipy.fftpack): https://docs.scipy.org/doc/scipy-0.14.0/reference/tutorial/fftpack.html\n",
    "- Processamento de sinais (scipy.signal): https://docs.scipy.org/doc/scipy-0.14.0/reference/tutorial/signal.html\n",
    "- Algebra Linear (scipy.linalg)(: https://docs.scipy.org/doc/scipy-0.14.0/reference/tutorial/linalg.html\n",
    "- Rotinas de Gráficos Dispersos Compactados(scipy.sparse.csgraph): https://docs.scipy.org/doc/scipy-0.14.0/reference/tutorial/csgraph.html)\n",
    "- estruturas de dados espaciais e algoritmos (scipy.spatial): https://docs.scipy.org/doc/scipy-0.14.0/reference/tutorial/spatial.html\n",
    "- Estatísticas (scipy.stats):https://docs.scipy.org/doc/scipy-0.14.0/reference/tutorial/stats.html\n",
    "- processamento de imagem multidimensional (scipy.ndimage): https://docs.scipy.org/doc/scipy-0.14.0/reference/tutorial/ndimage.html\n",
    "- Arquivo Entrada e Saída (scipy.io): https://docs.scipy.org/doc/scipy-0.14.0/reference/tutorial/io.html\n",
    "- Ondas (scipy.weave): https://docs.scipy.org/doc/scipy-0.14.0/reference/tutorial/weave.html"
   ]
  },
  {
   "cell_type": "markdown",
   "metadata": {
    "collapsed": true
   },
   "source": [
    "**Raízes de uma Função**\n",
    "\n",
    "Encontrar uma raiz usando o Newton-Raphson e método secante. Sintaxe:\n",
    "```python\n",
    "optimize.newton(funcao, x_inicial, df=None, args=(), tol=1.48e-08, maxiter=50, fprime2=None)\n",
    "\n",
    "```\n",
    "obs: df é a derivada primeira da função, quando não passada o método da secante é utilizado"
   ]
  },
  {
   "cell_type": "code",
   "execution_count": 1,
   "metadata": {
    "collapsed": false
   },
   "outputs": [],
   "source": [
    "using PyCall\n",
    "@pyimport scipy.optimize as sco"
   ]
  },
  {
   "cell_type": "code",
   "execution_count": 14,
   "metadata": {
    "collapsed": false,
    "scrolled": false
   },
   "outputs": [
    {
     "data": {
      "text/plain": [
       "2.0"
      ]
     },
     "execution_count": 14,
     "metadata": {},
     "output_type": "execute_result"
    }
   ],
   "source": [
    "# cálculo da raiz utilizando o método de Newton\n",
    "sco.newton(x -> x^2  -4 , 5)"
   ]
  },
  {
   "cell_type": "markdown",
   "metadata": {},
   "source": [
    "**Sistemas de equações**\n",
    "\n",
    "Calcula as raízes das equações lineares, não-lineares e sistemas de equações.\n",
    "\n",
    "```python\n",
    "optimize.fsolve(funcao_sistema, (var_1_inicial,..., var_n_inicial))\n",
    "```\n",
    "Sendo:\n",
    "- funcao_sistema : função genérica contendo as equações\n",
    "- (var_1_inicial,..., var_n_inicial): tupla ou vetor de dados iniciais"
   ]
  },
  {
   "cell_type": "code",
   "execution_count": 7,
   "metadata": {
    "collapsed": true
   },
   "outputs": [],
   "source": [
    "using PyCall\n",
    "@pyimport scipy.optimize as sco"
   ]
  },
  {
   "cell_type": "code",
   "execution_count": 14,
   "metadata": {
    "collapsed": false,
    "scrolled": true
   },
   "outputs": [
    {
     "name": "stderr",
     "output_type": "stream",
     "text": [
      "WARNING: Method definition sistema(Any) in module Main at In[12]:2 overwritten at In[14]:2.\n"
     ]
    },
    {
     "data": {
      "text/plain": [
       "sistema (generic function with 2 methods)"
      ]
     },
     "execution_count": 14,
     "metadata": {},
     "output_type": "execute_result"
    }
   ],
   "source": [
    "function sistema(xi_yi)\n",
    "    x , y = xi_yi  # xi_yi pode ser uma tupla ou vetor de dados\n",
    "    \n",
    "    return x*y - 2*x^3, -x^2 + 8*y - 2\n",
    "end"
   ]
  },
  {
   "cell_type": "code",
   "execution_count": 18,
   "metadata": {
    "collapsed": false,
    "scrolled": true
   },
   "outputs": [
    {
     "data": {
      "text/plain": [
       "2-element Array{Float64,1}:\n",
       " 0.365148\n",
       " 0.266667"
      ]
     },
     "execution_count": 18,
     "metadata": {},
     "output_type": "execute_result"
    }
   ],
   "source": [
    "sco.fsolve(sistema,(1,1))"
   ]
  },
  {
   "cell_type": "markdown",
   "metadata": {},
   "source": [
    "Também é possível resolver uma equação não linear utilizando a função solve. Para isto, basta criar um sistema de equações no qual cada equação é dependente de apenas uma variável."
   ]
  },
  {
   "cell_type": "code",
   "execution_count": 19,
   "metadata": {
    "collapsed": false,
    "scrolled": true
   },
   "outputs": [
    {
     "data": {
      "text/plain": [
       "equacao (generic function with 1 method)"
      ]
     },
     "execution_count": 19,
     "metadata": {},
     "output_type": "execute_result"
    }
   ],
   "source": [
    "function equacao(xi_yi)\n",
    "    x , y = xi_yi\n",
    "    \n",
    "    return -4 + x^2 + exp(x) , y \n",
    "end"
   ]
  },
  {
   "cell_type": "code",
   "execution_count": 20,
   "metadata": {
    "collapsed": false,
    "scrolled": false
   },
   "outputs": [
    {
     "data": {
      "text/plain": [
       "2-element Array{Float64,1}:\n",
       " 1.05801\n",
       " 0.0    "
      ]
     },
     "execution_count": 20,
     "metadata": {},
     "output_type": "execute_result"
    }
   ],
   "source": [
    "# y indepedentemente do valor será sempre 0\n",
    "sco.fsolve(equacao,(1.0,0))"
   ]
  },
  {
   "cell_type": "markdown",
   "metadata": {},
   "source": [
    "**Integração Numérica**\n",
    "\n",
    "Calcula a integral numérica de uma função. Sintaxe:\n",
    "```python\n",
    "integrate.quad(funcao, limite_inferior, limite_superior, args=(), full_output=0, epsabs=1.49e-08, epsrel=1.49e-08, limit=50, points=None, weight=None, wvar=None, wopts=None, maxp1=50, limlst=50))\n",
    "```"
   ]
  },
  {
   "cell_type": "code",
   "execution_count": 26,
   "metadata": {
    "collapsed": true
   },
   "outputs": [],
   "source": [
    "using PyCall\n",
    "@pyimport scipy.integrate as sci"
   ]
  },
  {
   "cell_type": "code",
   "execution_count": 10,
   "metadata": {
    "collapsed": false,
    "scrolled": true
   },
   "outputs": [
    {
     "data": {
      "text/plain": [
       "(293.33333333333337,3.375663205707763e-12)"
      ]
     },
     "execution_count": 10,
     "metadata": {},
     "output_type": "execute_result"
    }
   ],
   "source": [
    "sci.quad(x -> x^2 - 4, 0, 10)"
   ]
  },
  {
   "cell_type": "markdown",
   "metadata": {},
   "source": [
    "**Interpolação ScyPy**"
   ]
  },
  {
   "cell_type": "code",
   "execution_count": 83,
   "metadata": {
    "collapsed": true
   },
   "outputs": [],
   "source": [
    "using PyCall\n",
    "@pyimport scipy.interpolate as scint"
   ]
  },
  {
   "cell_type": "code",
   "execution_count": 84,
   "metadata": {
    "collapsed": true
   },
   "outputs": [],
   "source": [
    "# dados discretos\n",
    "x = [0.0, 1.0, 2.0, 3.0, 4.0, 5.0, 6.0, 7.0, 8.0, 9.0, 10.0]\n",
    "y = [0.5, 1.0, 4.0, 6.0, 8.0, 8.5, 8.8, 9.0, 9.1, 9.2, 9.3];"
   ]
  },
  {
   "cell_type": "code",
   "execution_count": 85,
   "metadata": {
    "collapsed": false,
    "scrolled": true
   },
   "outputs": [
    {
     "data": {
      "text/plain": [
       "PyObject <scipy.interpolate.interpolate.interp1d object at 0x7f82da5ca9f0>"
      ]
     },
     "execution_count": 85,
     "metadata": {},
     "output_type": "execute_result"
    }
   ],
   "source": [
    "fic  = scint.interp1d(x, y, kind =\"cubic\")\n",
    "fil  = scint.interp1d(x, y, kind = \"linear\")\n",
    "fiq  = scint.interp1d(x, y, kind = \"quadratic\")\n",
    "fisl = scint.interp1d(x, y, kind = \"slinear\")"
   ]
  },
  {
   "cell_type": "code",
   "execution_count": 87,
   "metadata": {
    "collapsed": false,
    "scrolled": true
   },
   "outputs": [
    {
     "data": {
      "text/html": [
       "<img src=\"data:image/png;base64,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\" />"
      ]
     },
     "execution_count": 87,
     "metadata": {},
     "output_type": "execute_result"
    }
   ],
   "source": [
    "using Plots\n",
    "pyplot()\n",
    "\n",
    "xvals = 0:0.1:10\n",
    "\n",
    "scatter(x, y, label = \"Pontos\")\n",
    "plot!(xvals, fic(xvals), label  = \"Spline Cubic\")\n",
    "plot!(xvals, fil(xvals), label  = \"Linear\")\n",
    "plot!(xvals, fiq(xvals), label  = \"Quadratic\")\n",
    "plot!(xvals, fisl(xvals), label = \"Slinear\", size = (400, 300))"
   ]
  },
  {
   "cell_type": "markdown",
   "metadata": {},
   "source": [
    "## MATPLOTLIB\n",
    "\n",
    "Em algumas ocasiões pode ser necessário utilizar um recurso que só existe no PyPlot da versão Python instalada no Computador."
   ]
  },
  {
   "cell_type": "code",
   "execution_count": 62,
   "metadata": {
    "collapsed": false
   },
   "outputs": [],
   "source": [
    "using PyCall\n",
    "@pyimport matplotlib.pyplot as plt"
   ]
  },
  {
   "cell_type": "code",
   "execution_count": 64,
   "metadata": {
    "collapsed": false
   },
   "outputs": [],
   "source": [
    "x = 1:100\n",
    "y = sec(x).*x \n",
    "z = cos(x).*x \n",
    "\n",
    "plt.plot(x, y, color = \"red\" , linewidth = 2.0, linestyle = \"-.\")\n",
    "plt.plot(x, z, color = \"blue\", linewidth = 1.0, linestyle = \"-\")\n",
    "plt.show()"
   ]
  },
  {
   "cell_type": "markdown",
   "metadata": {},
   "source": [
    "![](graf_matplotlib_pycall.png)"
   ]
  },
  {
   "cell_type": "markdown",
   "metadata": {
    "collapsed": true
   },
   "source": [
    "## BIBLIOTECAS SYMPY\n",
    "\n",
    "Não é prático utilizar o `SymPy` via `PyCall` tendo em vista que já existe o pacote `SymPy.jl` que facilita e muito o trabalho, então este tópico está mais para uma demonstração da possibilidade de usar o `SymPy` via `PyCall`. Para efeturar qualquer cálculo simbólico é necessário utilizar o comando `pyeval(\"expressão_var\", var_expressão = var_sympy_object)`. "
   ]
  },
  {
   "cell_type": "code",
   "execution_count": 2,
   "metadata": {
    "collapsed": false,
    "scrolled": false
   },
   "outputs": [
    {
     "data": {
      "text/plain": [
       "PyObject y"
      ]
     },
     "execution_count": 2,
     "metadata": {},
     "output_type": "execute_result"
    }
   ],
   "source": [
    "using PyCall            \n",
    "@pyimport sympy as sp\n",
    "\n",
    "x = sp.Symbol(\"x\")\n",
    "y = sp.Symbol(\"y\")"
   ]
  },
  {
   "cell_type": "code",
   "execution_count": 5,
   "metadata": {
    "collapsed": false
   },
   "outputs": [
    {
     "data": {
      "text/plain": [
       "PyObject x**2"
      ]
     },
     "execution_count": 5,
     "metadata": {},
     "output_type": "execute_result"
    }
   ],
   "source": [
    "pyeval(\"x*x\",x = x)"
   ]
  },
  {
   "cell_type": "code",
   "execution_count": 91,
   "metadata": {
    "collapsed": false,
    "scrolled": true
   },
   "outputs": [
    {
     "ename": "LoadError",
     "evalue": "LoadError: MethodError: no method matching *(::PyCall.PyObject, ::PyCall.PyObject)\nClosest candidates are:\n  *(::Any, ::Any, !Matched::Any, !Matched::Any...) at operators.jl:138\nwhile loading In[91], in expression starting on line 2",
     "output_type": "error",
     "traceback": [
      "LoadError: MethodError: no method matching *(::PyCall.PyObject, ::PyCall.PyObject)\nClosest candidates are:\n  *(::Any, ::Any, !Matched::Any, !Matched::Any...) at operators.jl:138\nwhile loading In[91], in expression starting on line 2",
      ""
     ]
    }
   ],
   "source": [
    "# não é possível operar diretamente com objetos do tipo PyObject.\n",
    "x*x"
   ]
  },
  {
   "cell_type": "markdown",
   "metadata": {},
   "source": [
    "**Raízes de equações e sistemas de equações com Solve e NSolve**"
   ]
  },
  {
   "cell_type": "code",
   "execution_count": 92,
   "metadata": {
    "collapsed": false
   },
   "outputs": [
    {
     "data": {
      "text/plain": [
       "2-element Array{Any,1}:\n",
       " PyObject -2\n",
       " PyObject 2 "
      ]
     },
     "execution_count": 92,
     "metadata": {},
     "output_type": "execute_result"
    }
   ],
   "source": [
    "# Raiz da equação\n",
    "sp.solve(pyeval(\"x**2 - 4\", x = x), x)"
   ]
  },
  {
   "cell_type": "code",
   "execution_count": 93,
   "metadata": {
    "collapsed": false
   },
   "outputs": [
    {
     "data": {
      "text/plain": [
       "PyObject mpf('2.0')"
      ]
     },
     "execution_count": 93,
     "metadata": {},
     "output_type": "execute_result"
    }
   ],
   "source": [
    "# Raiz numérica\n",
    "sp.nsolve(pyeval(\"x**2 - 4\", x = x ), 5)"
   ]
  },
  {
   "cell_type": "code",
   "execution_count": 94,
   "metadata": {
    "collapsed": false,
    "scrolled": true
   },
   "outputs": [
    {
     "data": {
      "text/plain": [
       "2-element Array{Any,1}:\n",
       " (PyObject 0,PyObject 0)    \n",
       " (PyObject 1/2,PyObject 1/4)"
      ]
     },
     "execution_count": 94,
     "metadata": {},
     "output_type": "execute_result"
    }
   ],
   "source": [
    "# Sistema de equações\n",
    "Sol = sp.solve([pyeval(\"x**2 - y\", x = x, y = y),pyeval(\"y*2 - x\", x = x, y = y)], [x,y])"
   ]
  },
  {
   "cell_type": "code",
   "execution_count": 108,
   "metadata": {
    "collapsed": false
   },
   "outputs": [
    {
     "name": "stdout",
     "output_type": "stream",
     "text": [
      "x1 e y1 :0.0 0.0 x2 e y2: 0.5 0.25"
     ]
    }
   ],
   "source": [
    "# para calcular no tipo float\n",
    "print(\"x1 e y1 :\", float(Sol[1][1]),\" \", float(Sol[1][2]), \" x2 e y2: \", float(Sol[2][1]),\" \", float(Sol[2][2]))"
   ]
  },
  {
   "cell_type": "code",
   "execution_count": null,
   "metadata": {
    "collapsed": true
   },
   "outputs": [],
   "source": []
  }
 ],
 "metadata": {
  "anaconda-cloud": {},
  "kernelspec": {
   "display_name": "Julia 0.5.0",
   "language": "julia",
   "name": "julia-0.5"
  },
  "language_info": {
   "file_extension": ".jl",
   "mimetype": "application/julia",
   "name": "julia",
   "version": "0.5.0"
  }
 },
 "nbformat": 4,
 "nbformat_minor": 0
}
