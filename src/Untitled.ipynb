{
 "cells": [
  {
   "cell_type": "code",
   "execution_count": 7,
   "metadata": {
    "collapsed": false
   },
   "outputs": [
    {
     "data": {
      "text/plain": [
       "ff (generic function with 1 method)"
      ]
     },
     "execution_count": 7,
     "metadata": {},
     "output_type": "execute_result"
    }
   ],
   "source": [
    "(ff(x) = x*2 < 0)"
   ]
  },
  {
   "cell_type": "code",
   "execution_count": 17,
   "metadata": {
    "collapsed": false
   },
   "outputs": [
    {
     "ename": "LoadError",
     "evalue": "LoadError: MethodError: no method matching &(::##13#15, ::##14#16)\nClosest candidates are:\n  &(::Any, ::Any, !Matched::Any, !Matched::Any...) at operators.jl:138\nwhile loading In[17], in expression starting on line 1",
     "output_type": "error",
     "traceback": [
      "LoadError: MethodError: no method matching &(::##13#15, ::##14#16)\nClosest candidates are:\n  &(::Any, ::Any, !Matched::Any, !Matched::Any...) at operators.jl:138\nwhile loading In[17], in expression starting on line 1",
      ""
     ]
    }
   ],
   "source": [
    "filter((x-> x+1 < 0)&(x-> x+1 <2), -3:3)"
   ]
  },
  {
   "cell_type": "code",
   "execution_count": 44,
   "metadata": {
    "collapsed": false
   },
   "outputs": [
    {
     "name": "stdout",
     "output_type": "stream",
     "text": [
      "  0.000011 seconds (14 allocations: 2.094 KB)\n"
     ]
    }
   ],
   "source": [
    "@time fac(1:100);"
   ]
  },
  {
   "cell_type": "code",
   "execution_count": 33,
   "metadata": {
    "collapsed": false,
    "scrolled": true
   },
   "outputs": [
    {
     "name": "stderr",
     "output_type": "stream",
     "text": [
      "WARNING: Method definition ffc(Any) in module Main at In[23]:1 overwritten at In[33]:1.\n"
     ]
    },
    {
     "data": {
      "text/plain": [
       "ffc (generic function with 1 method)"
      ]
     },
     "execution_count": 33,
     "metadata": {},
     "output_type": "execute_result"
    }
   ],
   "source": [
    "ffc(x) = x .+ x .* x"
   ]
  },
  {
   "cell_type": "code",
   "execution_count": 56,
   "metadata": {
    "collapsed": false,
    "scrolled": true
   },
   "outputs": [
    {
     "name": "stderr",
     "output_type": "stream",
     "text": [
      "INFO: Updating METADATA...\n",
      "INFO: Updating cache of DataFrames...\n",
      "INFO: Updating SymPy master...\n",
      "INFO: Computing changes...\n",
      "INFO: No packages to install, update or remove\n"
     ]
    }
   ],
   "source": [
    "Pkg.update(\"SymPy\")"
   ]
  },
  {
   "cell_type": "code",
   "execution_count": 45,
   "metadata": {
    "collapsed": false,
    "scrolled": false
   },
   "outputs": [
    {
     "data": {
      "text/plain": [
       "5-element Array{Int64,1}:\n",
       "  36\n",
       "  49\n",
       "  64\n",
       "  81\n",
       " 100"
      ]
     },
     "execution_count": 45,
     "metadata": {},
     "output_type": "execute_result"
    }
   ],
   "source": [
    "[x^2 for x = 1:10 if (x > 5)]"
   ]
  },
  {
   "cell_type": "code",
   "execution_count": 44,
   "metadata": {
    "collapsed": false
   },
   "outputs": [
    {
     "data": {
      "text/plain": [
       "6-element Array{Int64,1}:\n",
       "  25\n",
       "  36\n",
       "  49\n",
       "  64\n",
       "  81\n",
       " 100"
      ]
     },
     "execution_count": 44,
     "metadata": {},
     "output_type": "execute_result"
    }
   ],
   "source": [
    "[(w->w^2)(i) for i = 1:10 if (i^2>20)]"
   ]
  },
  {
   "cell_type": "code",
   "execution_count": 33,
   "metadata": {
    "collapsed": false
   },
   "outputs": [
    {
     "data": {
      "text/latex": [
       "\\begin{bmatrix}\\frac{\\sqrt{2 x + \\cos^{3}{\\left (x \\right )}}}{\\sin{\\left (x^{2} + 1 \\right )}}\\\\\\frac{\\sqrt{2 x + \\cos^{3}{\\left (x \\right )}}}{\\sin{\\left (x^{2} + 1 \\right )}}\\end{bmatrix}"
      ],
      "text/plain": [
       "2-element Array{SymPy.Sym,1}\n",
       "⎡   _______________⎤\n",
       "⎢  ╱          3    ⎥\n",
       "⎢╲╱  2⋅x + cos (x) ⎥\n",
       "⎢──────────────────⎥\n",
       "⎢      ⎛ 2    ⎞    ⎥\n",
       "⎢   sin⎝x  + 1⎠    ⎥\n",
       "⎢                  ⎥\n",
       "⎢   _______________⎥\n",
       "⎢  ╱          3    ⎥\n",
       "⎢╲╱  2⋅x + cos (x) ⎥\n",
       "⎢──────────────────⎥\n",
       "⎢      ⎛ 2    ⎞    ⎥\n",
       "⎣   sin⎝x  + 1⎠    ⎦"
      ]
     },
     "execution_count": 33,
     "metadata": {},
     "output_type": "execute_result"
    }
   ],
   "source": [
    "[(sqrt(2*x + cos(x)^3)/sin(x^2+1)) for i = 1:3 if (sqrt(2*i + cos(i)^3)/sin(i^2+1) < 1)]"
   ]
  },
  {
   "cell_type": "code",
   "execution_count": 25,
   "metadata": {
    "collapsed": false
   },
   "outputs": [
    {
     "data": {
      "text/html": [
       "<img src=\"data:image/png;base64,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\" />"
      ]
     },
     "execution_count": 25,
     "metadata": {},
     "output_type": "execute_result"
    }
   ],
   "source": [
    "using Plots\n",
    "pyplot()\n",
    "z = [x*sind(x)+ exp(y*sind(y)) for x = 1:10, y = 1:10]\n",
    "heatmap(z)"
   ]
  },
  {
   "cell_type": "code",
   "execution_count": 7,
   "metadata": {
    "collapsed": false
   },
   "outputs": [
    {
     "name": "stdout",
     "output_type": "stream",
     "text": [
      "search: contour contourf contour! contourf! contour3d contour3d! count_ones\n",
      "\n"
     ]
    },
    {
     "data": {
      "text/markdown": [
       "No documentation found.\n",
       "\n",
       "`Plots.contour` is a `Function`.\n",
       "\n",
       "```\n",
       "# 1 method for generic function \"contour\":\n",
       "contour(args...; kw...) at /home/jmarcellopereira/.julia/v0.5/Plots/src/Plots.jl:152\n",
       "```\n"
      ],
      "text/plain": [
       "No documentation found.\n",
       "\n",
       "`Plots.contour` is a `Function`.\n",
       "\n",
       "```\n",
       "# 1 method for generic function \"contour\":\n",
       "contour(args...; kw...) at /home/jmarcellopereira/.julia/v0.5/Plots/src/Plots.jl:152\n",
       "```\n"
      ]
     },
     "execution_count": 7,
     "metadata": {},
     "output_type": "execute_result"
    }
   ],
   "source": [
    "?contour"
   ]
  },
  {
   "cell_type": "code",
   "execution_count": 11,
   "metadata": {
    "collapsed": false
   },
   "outputs": [
    {
     "ename": "LoadError",
     "evalue": "LoadError: MethodError: no method matching plotarea(::Array{Float64,2})\nClosest candidates are:\n  plotarea(!Matched::Plots.Subplot{T<:Plots.AbstractBackend}) at /home/jmarcellopereira/.julia/v0.5/Plots/src/subplots.jl:15\n  plotarea(!Matched::Plots.AbstractLayout) at /home/jmarcellopereira/.julia/v0.5/Plots/src/layouts.jl:175\nwhile loading In[11], in expression starting on line 4",
     "output_type": "error",
     "traceback": [
      "LoadError: MethodError: no method matching plotarea(::Array{Float64,2})\nClosest candidates are:\n  plotarea(!Matched::Plots.Subplot{T<:Plots.AbstractBackend}) at /home/jmarcellopereira/.julia/v0.5/Plots/src/subplots.jl:15\n  plotarea(!Matched::Plots.AbstractLayout) at /home/jmarcellopereira/.julia/v0.5/Plots/src/layouts.jl:175\nwhile loading In[11], in expression starting on line 4",
      ""
     ]
    }
   ],
   "source": [
    "using Plots\n",
    "pyplot()\n",
    "z = [x*sind(x) + y*sind(y) for x = 1:10, y = 1:10]\n",
    "plotarea(z)"
   ]
  },
  {
   "cell_type": "code",
   "execution_count": 18,
   "metadata": {
    "collapsed": false
   },
   "outputs": [],
   "source": [
    "using PyPlot\n",
    "\n",
    "M = rand(10, 10)\n",
    "PyPlot.pcolormesh(M)\n",
    "#(colorbar())\n",
    "show()"
   ]
  },
  {
   "cell_type": "code",
   "execution_count": null,
   "metadata": {
    "collapsed": true
   },
   "outputs": [],
   "source": []
  }
 ],
 "metadata": {
  "anaconda-cloud": {},
  "kernelspec": {
   "display_name": "Julia 0.5.0",
   "language": "julia",
   "name": "julia-0.5"
  },
  "language_info": {
   "file_extension": ".jl",
   "mimetype": "application/julia",
   "name": "julia",
   "version": "0.5.0"
  }
 },
 "nbformat": 4,
 "nbformat_minor": 1
}
